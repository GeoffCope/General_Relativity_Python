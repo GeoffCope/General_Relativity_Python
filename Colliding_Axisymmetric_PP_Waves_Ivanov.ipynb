{
 "cells": [
  {
   "cell_type": "markdown",
   "id": "09f3cf55",
   "metadata": {},
   "source": [
    "# Colliding Axisymmetric PP Waves by Ivanov\n",
    "##  Geoff Cope\n",
    "##  Univeristy of Utah\n",
    "##  January 5th, 2022"
   ]
  },
  {
   "cell_type": "markdown",
   "id": "4d12f3f0",
   "metadata": {},
   "source": [
    "https://arxiv.org/abs/gr-qc/9705061"
   ]
  },
  {
   "cell_type": "code",
   "execution_count": 1,
   "id": "48742b40",
   "metadata": {},
   "outputs": [
    {
     "name": "stdout",
     "output_type": "stream",
     "text": [
      "IPython console for SymPy 1.9 (Python 3.8.8-64-bit) (ground types: gmpy)\n",
      "\n",
      "These commands were executed:\n",
      ">>> from __future__ import division\n",
      ">>> from sympy import *\n",
      ">>> x, y, z, t = symbols('x y z t')\n",
      ">>> k, m, n = symbols('k m n', integer=True)\n",
      ">>> f, g, h = symbols('f g h', cls=Function)\n",
      ">>> init_printing()\n",
      "\n",
      "Documentation can be found at https://docs.sympy.org/1.9/\n",
      "\n"
     ]
    }
   ],
   "source": [
    "from sympy import init_session\n",
    "init_session(use_latex=True)"
   ]
  },
  {
   "cell_type": "code",
   "execution_count": 2,
   "id": "44c950e0",
   "metadata": {},
   "outputs": [],
   "source": [
    "import warnings\n",
    "import matplotlib.cbook\n",
    "warnings.filterwarnings(\"ignore\",category=matplotlib.cbook.mplDeprecation)"
   ]
  },
  {
   "cell_type": "code",
   "execution_count": 3,
   "id": "efffef42",
   "metadata": {},
   "outputs": [],
   "source": [
    "u,v,r,phi,du,dv,dr,dphi = symbols('u v r phi du dv dr dphi')"
   ]
  },
  {
   "cell_type": "code",
   "execution_count": 49,
   "id": "52466912",
   "metadata": {},
   "outputs": [
    {
     "data": {
      "image/png": "[encoded data removed]",
      "text/latex": [
       "$\\displaystyle Q{\\left(u,v,r \\right)}$"
      ],
      "text/plain": [
       "Q(u, v, r)"
      ]
     },
     "execution_count": 49,
     "metadata": {},
     "output_type": "execute_result"
    }
   ],
   "source": [
    "Q = Function('Q')(u,v,r)\n",
    "Q"
   ]
  },
  {
   "cell_type": "code",
   "execution_count": 50,
   "id": "c05e41bc",
   "metadata": {},
   "outputs": [
    {
     "data": {
      "image/png": "[encoded data removed]",
      "text/latex": [
       "$\\displaystyle P{\\left(u,v,r \\right)}$"
      ],
      "text/plain": [
       "P(u, v, r)"
      ]
     },
     "execution_count": 50,
     "metadata": {},
     "output_type": "execute_result"
    }
   ],
   "source": [
    "P = Function('P')(u,v,r)\n",
    "P"
   ]
  },
  {
   "cell_type": "code",
   "execution_count": 6,
   "id": "f35057ae",
   "metadata": {},
   "outputs": [
    {
     "data": {
      "text/latex": [
       "$\\displaystyle \\left[\\begin{matrix}u\\\\v\\\\r\\\\\\phi\\end{matrix}\\right]$"
      ],
      "text/plain": [
       "⎡u⎤\n",
       "⎢ ⎥\n",
       "⎢v⎥\n",
       "⎢ ⎥\n",
       "⎢r⎥\n",
       "⎢ ⎥\n",
       "⎣φ⎦"
      ]
     },
     "execution_count": 6,
     "metadata": {},
     "output_type": "execute_result"
    }
   ],
   "source": [
    "variables = Matrix( [u,v,r,phi] )\n",
    "variables"
   ]
  },
  {
   "cell_type": "code",
   "execution_count": 7,
   "id": "b9ee6161",
   "metadata": {},
   "outputs": [
    {
     "data": {
      "text/latex": [
       "$\\displaystyle \\left[\\begin{matrix}du\\\\dv\\\\dr\\\\dphi\\end{matrix}\\right]$"
      ],
      "text/plain": [
       "⎡ du ⎤\n",
       "⎢    ⎥\n",
       "⎢ dv ⎥\n",
       "⎢    ⎥\n",
       "⎢ dr ⎥\n",
       "⎢    ⎥\n",
       "⎣dphi⎦"
      ]
     },
     "execution_count": 7,
     "metadata": {},
     "output_type": "execute_result"
    }
   ],
   "source": [
    "differentials = Matrix( [du,dv,dr,dphi] ) \n",
    "differentials"
   ]
  },
  {
   "cell_type": "code",
   "execution_count": 51,
   "id": "3da4247c",
   "metadata": {},
   "outputs": [
    {
     "data": {
      "image/png": "[encoded data removed]",
      "text/latex": [
       "$\\displaystyle - dphi^{2} P^{2}{\\left(u,v,r \\right)} - dr^{2} Q^{2}{\\left(u,v,r \\right)} + 2 du dv$"
      ],
      "text/plain": [
       "      2  2              2  2                   \n",
       "- dphi ⋅P (u, v, r) - dr ⋅Q (u, v, r) + 2⋅du⋅dv"
      ]
     },
     "execution_count": 51,
     "metadata": {},
     "output_type": "execute_result"
    }
   ],
   "source": [
    "lineElement = 2*du*dv - Q**2 * dr**2 - P**2 * dphi**2  \n",
    "lineElement"
   ]
  },
  {
   "cell_type": "code",
   "execution_count": 52,
   "id": "7a136470",
   "metadata": {},
   "outputs": [
    {
     "data": {
      "text/latex": [
       "$\\displaystyle \\left[\\begin{matrix}0 & 1 & 0 & 0\\\\1 & 0 & 0 & 0\\\\0 & 0 & - Q^{2}{\\left(u,v,r \\right)} & 0\\\\0 & 0 & 0 & - P^{2}{\\left(u,v,r \\right)}\\end{matrix}\\right]$"
      ],
      "text/plain": [
       "⎡0  1       0             0      ⎤\n",
       "⎢                                ⎥\n",
       "⎢1  0       0             0      ⎥\n",
       "⎢                                ⎥\n",
       "⎢        2                       ⎥\n",
       "⎢0  0  -Q (u, v, r)       0      ⎥\n",
       "⎢                                ⎥\n",
       "⎢                      2         ⎥\n",
       "⎣0  0       0        -P (u, v, r)⎦"
      ]
     },
     "execution_count": 52,
     "metadata": {},
     "output_type": "execute_result"
    }
   ],
   "source": [
    "g = zeros(4)\n",
    "\n",
    "for i in range(4):\n",
    "    for j in range(4):\n",
    "        if i == j:\n",
    "            g[i,j] = lineElement.coeff( differentials[i],2 ) \n",
    "        else:\n",
    "            g[i,j] = Rational(1,2)*lineElement.coeff( differentials[i]*differentials[j],1 )\n",
    "            \n",
    "g"
   ]
  },
  {
   "cell_type": "code",
   "execution_count": 10,
   "id": "c490d74b",
   "metadata": {},
   "outputs": [],
   "source": [
    "import sympy"
   ]
  },
  {
   "cell_type": "code",
   "execution_count": 53,
   "id": "7ac25987",
   "metadata": {},
   "outputs": [
    {
     "data": {
      "text/latex": [
       "$\\displaystyle \\left[\\begin{matrix}0 & 1 & 0 & 0\\\\1 & 0 & 0 & 0\\\\0 & 0 & - Q^{2}{\\left(u,v,r \\right)} & 0\\\\0 & 0 & 0 & - P^{2}{\\left(u,v,r \\right)}\\end{matrix}\\right]$"
      ],
      "text/plain": [
       "⎡0  1       0             0      ⎤\n",
       "⎢                                ⎥\n",
       "⎢1  0       0             0      ⎥\n",
       "⎢                                ⎥\n",
       "⎢        2                       ⎥\n",
       "⎢0  0  -Q (u, v, r)       0      ⎥\n",
       "⎢                                ⎥\n",
       "⎢                      2         ⎥\n",
       "⎣0  0       0        -P (u, v, r)⎦"
      ]
     },
     "execution_count": 53,
     "metadata": {},
     "output_type": "execute_result"
    }
   ],
   "source": [
    "m = sympy.Array(g)\n",
    "m"
   ]
  },
  {
   "cell_type": "code",
   "execution_count": 12,
   "id": "d3d706d3",
   "metadata": {},
   "outputs": [],
   "source": [
    "from einsteinpy.symbolic import *"
   ]
  },
  {
   "cell_type": "code",
   "execution_count": 13,
   "id": "e7df6ee4",
   "metadata": {},
   "outputs": [],
   "source": [
    "syms = sympy.symbols(\"u v r phi\")\n",
    "u,v,r,phi = syms"
   ]
  },
  {
   "cell_type": "code",
   "execution_count": 54,
   "id": "64bb6c87",
   "metadata": {},
   "outputs": [],
   "source": [
    "metric = MetricTensor(m,syms)"
   ]
  },
  {
   "cell_type": "code",
   "execution_count": 55,
   "id": "de0bdba1",
   "metadata": {},
   "outputs": [
    {
     "data": {
      "text/latex": [
       "$\\displaystyle \\left[\\begin{matrix}\\left[\\begin{matrix}0 & 0 & 0 & 0\\\\0 & 0 & 0 & 0\\\\0 & 0 & Q{\\left(u,v,r \\right)} \\frac{\\partial}{\\partial v} Q{\\left(u,v,r \\right)} & 0\\\\0 & 0 & 0 & P{\\left(u,v,r \\right)} \\frac{\\partial}{\\partial v} P{\\left(u,v,r \\right)}\\end{matrix}\\right] & \\left[\\begin{matrix}0 & 0 & 0 & 0\\\\0 & 0 & 0 & 0\\\\0 & 0 & Q{\\left(u,v,r \\right)} \\frac{\\partial}{\\partial u} Q{\\left(u,v,r \\right)} & 0\\\\0 & 0 & 0 & P{\\left(u,v,r \\right)} \\frac{\\partial}{\\partial u} P{\\left(u,v,r \\right)}\\end{matrix}\\right] & \\left[\\begin{matrix}0 & 0 & \\frac{\\frac{\\partial}{\\partial u} Q{\\left(u,v,r \\right)}}{Q{\\left(u,v,r \\right)}} & 0\\\\0 & 0 & \\frac{\\frac{\\partial}{\\partial v} Q{\\left(u,v,r \\right)}}{Q{\\left(u,v,r \\right)}} & 0\\\\\\frac{\\frac{\\partial}{\\partial u} Q{\\left(u,v,r \\right)}}{Q{\\left(u,v,r \\right)}} & \\frac{\\frac{\\partial}{\\partial v} Q{\\left(u,v,r \\right)}}{Q{\\left(u,v,r \\right)}} & \\frac{\\frac{\\partial}{\\partial r} Q{\\left(u,v,r \\right)}}{Q{\\left(u,v,r \\right)}} & 0\\\\0 & 0 & 0 & - \\frac{P{\\left(u,v,r \\right)} \\frac{\\partial}{\\partial r} P{\\left(u,v,r \\right)}}{Q^{2}{\\left(u,v,r \\right)}}\\end{matrix}\\right] & \\left[\\begin{matrix}0 & 0 & 0 & \\frac{\\frac{\\partial}{\\partial u} P{\\left(u,v,r \\right)}}{P{\\left(u,v,r \\right)}}\\\\0 & 0 & 0 & \\frac{\\frac{\\partial}{\\partial v} P{\\left(u,v,r \\right)}}{P{\\left(u,v,r \\right)}}\\\\0 & 0 & 0 & \\frac{\\frac{\\partial}{\\partial r} P{\\left(u,v,r \\right)}}{P{\\left(u,v,r \\right)}}\\\\\\frac{\\frac{\\partial}{\\partial u} P{\\left(u,v,r \\right)}}{P{\\left(u,v,r \\right)}} & \\frac{\\frac{\\partial}{\\partial v} P{\\left(u,v,r \\right)}}{P{\\left(u,v,r \\right)}} & \\frac{\\frac{\\partial}{\\partial r} P{\\left(u,v,r \\right)}}{P{\\left(u,v,r \\right)}} & 0\\end{matrix}\\right]\\end{matrix}\\right]$"
      ],
      "text/plain": [
       "⎡                                                                                                                            ⎡           \n",
       "⎢                                                                                                                            ⎢           \n",
       "⎢                                                                                                                            ⎢           \n",
       "⎢                                                                                                                            ⎢      0    \n",
       "⎢                                                                                                                            ⎢           \n",
       "⎢                                                                                                                            ⎢           \n",
       "⎢                                                                                                                            ⎢           \n",
       "⎢⎡0  0              0                          0            ⎤  ⎡0  0              0                          0            ⎤  ⎢           \n",
       "⎢⎢                                                          ⎥  ⎢                                                          ⎥  ⎢           \n",
       "⎢⎢0  0              0                          0            ⎥  ⎢0  0              0                          0            ⎥  ⎢      0    \n",
       "⎢⎢                                                          ⎥  ⎢                                                          ⎥  ⎢           \n",
       "⎢⎢                 ∂                                        ⎥  ⎢                 ∂                                        ⎥  ⎢           \n",
       "⎢⎢0  0  Q(u, v, r)⋅──(Q(u, v, r))              0            ⎥  ⎢0  0  Q(u, v, r)⋅──(Q(u, v, r))              0            ⎥  ⎢∂          \n",
       "⎢⎢                 ∂v                                       ⎥  ⎢                 ∂u                                       ⎥  ⎢──(Q(u, v, \n",
       "⎢⎢                                                          ⎥  ⎢                                                          ⎥  ⎢∂u         \n",
       "⎢⎢                                            ∂             ⎥  ⎢                                            ∂             ⎥  ⎢───────────\n",
       "⎢⎢0  0              0              P(u, v, r)⋅──(P(u, v, r))⎥  ⎢0  0              0              P(u, v, r)⋅──(P(u, v, r))⎥  ⎢  Q(u, v, r\n",
       "⎢⎣                                            ∂v            ⎦  ⎣                                            ∂u            ⎦  ⎢           \n",
       "⎢                                                                                                                            ⎢           \n",
       "⎢                                                                                                                            ⎢           \n",
       "⎢                                                                                                                            ⎢           \n",
       "⎢                                                                                                                            ⎢      0    \n",
       "⎢                                                                                                                            ⎢           \n",
       "⎣                                                                                                                            ⎣           \n",
       "\n",
       "                     ∂                                          ⎤                                                                  ⎤\n",
       "                     ──(Q(u, v, r))                             ⎥  ⎡                                                ∂             ⎤⎥\n",
       "                     ∂u                                         ⎥  ⎢                                                ──(P(u, v, r))⎥⎥\n",
       "           0         ──────────────               0             ⎥  ⎢                                                ∂u            ⎥⎥\n",
       "                       Q(u, v, r)                               ⎥  ⎢      0               0               0         ──────────────⎥⎥\n",
       "                                                                ⎥  ⎢                                                  P(u, v, r)  ⎥⎥\n",
       "                     ∂                                          ⎥  ⎢                                                              ⎥⎥\n",
       "                     ──(Q(u, v, r))                             ⎥  ⎢                                                ∂             ⎥⎥\n",
       "                     ∂v                                         ⎥  ⎢                                                ──(P(u, v, r))⎥⎥\n",
       "           0         ──────────────               0             ⎥  ⎢                                                ∂v            ⎥⎥\n",
       "                       Q(u, v, r)                               ⎥  ⎢      0               0               0         ──────────────⎥⎥\n",
       "                                                                ⎥  ⎢                                                  P(u, v, r)  ⎥⎥\n",
       "     ∂               ∂                                          ⎥  ⎢                                                              ⎥⎥\n",
       "r))  ──(Q(u, v, r))  ──(Q(u, v, r))                             ⎥  ⎢                                                ∂             ⎥⎥\n",
       "     ∂v              ∂r                                         ⎥  ⎢                                                ──(P(u, v, r))⎥⎥\n",
       "───  ──────────────  ──────────────               0             ⎥  ⎢                                                ∂r            ⎥⎥\n",
       ")      Q(u, v, r)      Q(u, v, r)                               ⎥  ⎢      0               0               0         ──────────────⎥⎥\n",
       "                                                                ⎥  ⎢                                                  P(u, v, r)  ⎥⎥\n",
       "                                                 ∂              ⎥  ⎢                                                              ⎥⎥\n",
       "                                     -P(u, v, r)⋅──(P(u, v, r)) ⎥  ⎢∂               ∂               ∂                             ⎥⎥\n",
       "                                                 ∂r             ⎥  ⎢──(P(u, v, r))  ──(P(u, v, r))  ──(P(u, v, r))                ⎥⎥\n",
       "           0               0         ───────────────────────────⎥  ⎢∂u              ∂v              ∂r                            ⎥⎥\n",
       "                                              2                 ⎥  ⎢──────────────  ──────────────  ──────────────        0       ⎥⎥\n",
       "                                             Q (u, v, r)        ⎦  ⎣  P(u, v, r)      P(u, v, r)      P(u, v, r)                  ⎦⎦"
      ]
     },
     "execution_count": 55,
     "metadata": {},
     "output_type": "execute_result"
    }
   ],
   "source": [
    "ch = ChristoffelSymbols.from_metric(metric)\n",
    "simplify(ch.tensor())"
   ]
  },
  {
   "cell_type": "code",
   "execution_count": 56,
   "id": "e56fc176",
   "metadata": {},
   "outputs": [
    {
     "data": {
      "text/latex": [
       "$\\displaystyle \\left[\\begin{matrix}- \\frac{\\frac{\\partial^{2}}{\\partial u^{2}} Q{\\left(u,v,r \\right)}}{Q{\\left(u,v,r \\right)}} - \\frac{\\frac{\\partial^{2}}{\\partial u^{2}} P{\\left(u,v,r \\right)}}{P{\\left(u,v,r \\right)}} & - \\frac{\\frac{\\partial^{2}}{\\partial v\\partial u} Q{\\left(u,v,r \\right)}}{Q{\\left(u,v,r \\right)}} - \\frac{\\frac{\\partial^{2}}{\\partial v\\partial u} P{\\left(u,v,r \\right)}}{P{\\left(u,v,r \\right)}} & \\frac{- Q{\\left(u,v,r \\right)} \\frac{\\partial^{2}}{\\partial u\\partial r} P{\\left(u,v,r \\right)} + \\frac{\\partial}{\\partial r} P{\\left(u,v,r \\right)} \\frac{\\partial}{\\partial u} Q{\\left(u,v,r \\right)}}{P{\\left(u,v,r \\right)} Q{\\left(u,v,r \\right)}} & 0\\\\- \\frac{\\frac{\\partial^{2}}{\\partial v\\partial u} Q{\\left(u,v,r \\right)}}{Q{\\left(u,v,r \\right)}} - \\frac{\\frac{\\partial^{2}}{\\partial v\\partial u} P{\\left(u,v,r \\right)}}{P{\\left(u,v,r \\right)}} & - \\frac{\\frac{\\partial^{2}}{\\partial v^{2}} Q{\\left(u,v,r \\right)}}{Q{\\left(u,v,r \\right)}} - \\frac{\\frac{\\partial^{2}}{\\partial v^{2}} P{\\left(u,v,r \\right)}}{P{\\left(u,v,r \\right)}} & \\frac{- Q{\\left(u,v,r \\right)} \\frac{\\partial^{2}}{\\partial v\\partial r} P{\\left(u,v,r \\right)} + \\frac{\\partial}{\\partial r} P{\\left(u,v,r \\right)} \\frac{\\partial}{\\partial v} Q{\\left(u,v,r \\right)}}{P{\\left(u,v,r \\right)} Q{\\left(u,v,r \\right)}} & 0\\\\\\frac{- Q{\\left(u,v,r \\right)} \\frac{\\partial^{2}}{\\partial u\\partial r} P{\\left(u,v,r \\right)} + \\frac{\\partial}{\\partial r} P{\\left(u,v,r \\right)} \\frac{\\partial}{\\partial u} Q{\\left(u,v,r \\right)}}{P{\\left(u,v,r \\right)} Q{\\left(u,v,r \\right)}} & \\frac{- Q{\\left(u,v,r \\right)} \\frac{\\partial^{2}}{\\partial v\\partial r} P{\\left(u,v,r \\right)} + \\frac{\\partial}{\\partial r} P{\\left(u,v,r \\right)} \\frac{\\partial}{\\partial v} Q{\\left(u,v,r \\right)}}{P{\\left(u,v,r \\right)} Q{\\left(u,v,r \\right)}} & \\frac{\\left(Q{\\left(u,v,r \\right)} \\frac{\\partial}{\\partial u} P{\\left(u,v,r \\right)} \\frac{\\partial}{\\partial v} Q{\\left(u,v,r \\right)} + Q{\\left(u,v,r \\right)} \\frac{\\partial}{\\partial v} P{\\left(u,v,r \\right)} \\frac{\\partial}{\\partial u} Q{\\left(u,v,r \\right)} - \\frac{\\partial^{2}}{\\partial r^{2}} P{\\left(u,v,r \\right)}\\right) Q{\\left(u,v,r \\right)} + 2 P{\\left(u,v,r \\right)} Q^{2}{\\left(u,v,r \\right)} \\frac{\\partial^{2}}{\\partial v\\partial u} Q{\\left(u,v,r \\right)} + \\frac{\\partial}{\\partial r} P{\\left(u,v,r \\right)} \\frac{\\partial}{\\partial r} Q{\\left(u,v,r \\right)}}{P{\\left(u,v,r \\right)} Q{\\left(u,v,r \\right)}} & 0\\\\0 & 0 & 0 & \\frac{\\left(\\left(\\frac{\\partial}{\\partial u} P{\\left(u,v,r \\right)} \\frac{\\partial}{\\partial v} Q{\\left(u,v,r \\right)} + \\frac{\\partial}{\\partial v} P{\\left(u,v,r \\right)} \\frac{\\partial}{\\partial u} Q{\\left(u,v,r \\right)}\\right) Q^{2}{\\left(u,v,r \\right)} + 2 Q^{3}{\\left(u,v,r \\right)} \\frac{\\partial^{2}}{\\partial v\\partial u} P{\\left(u,v,r \\right)} - Q{\\left(u,v,r \\right)} \\frac{\\partial^{2}}{\\partial r^{2}} P{\\left(u,v,r \\right)} + \\frac{\\partial}{\\partial r} P{\\left(u,v,r \\right)} \\frac{\\partial}{\\partial r} Q{\\left(u,v,r \\right)}\\right) P{\\left(u,v,r \\right)}}{Q^{3}{\\left(u,v,r \\right)}}\\end{matrix}\\right]$"
      ],
      "text/plain": [
       "⎡                 2                 2                                                                                                    \n",
       "⎢                ∂                 ∂                                             2                   2                                   \n",
       "⎢               ───(Q(u, v, r))   ───(P(u, v, r))                               ∂                   ∂                                    \n",
       "⎢                 2                 2                                         ─────(Q(u, v, r))   ─────(P(u, v, r))                      \n",
       "⎢               ∂u                ∂u                                          ∂v ∂u               ∂v ∂u                                  \n",
       "⎢             - ─────────────── - ───────────────                           - ───────────────── - ─────────────────                      \n",
       "⎢                  Q(u, v, r)        P(u, v, r)                                   Q(u, v, r)          P(u, v, r)                         \n",
       "⎢                                                                                                                                        \n",
       "⎢                                                                                 2                 2                                    \n",
       "⎢                2                   2                                           ∂                 ∂                                     \n",
       "⎢               ∂                   ∂                                           ───(Q(u, v, r))   ───(P(u, v, r))                        \n",
       "⎢             ─────(Q(u, v, r))   ─────(P(u, v, r))                               2                 2                                    \n",
       "⎢             ∂v ∂u               ∂v ∂u                                         ∂v                ∂v                                     \n",
       "⎢           - ───────────────── - ─────────────────                           - ─────────────── - ───────────────                        \n",
       "⎢                 Q(u, v, r)          P(u, v, r)                                   Q(u, v, r)        P(u, v, r)                          \n",
       "⎢                                                                                                                                        \n",
       "⎢                                                                                                                                ⎛       \n",
       "⎢                2                                                               2                                               ⎜       \n",
       "⎢               ∂                 ∂              ∂                              ∂                 ∂              ∂               ⎜Q(u, v,\n",
       "⎢- Q(u, v, r)⋅─────(P(u, v, r)) + ──(P(u, v, r))⋅──(Q(u, v, r))  - Q(u, v, r)⋅─────(P(u, v, r)) + ──(P(u, v, r))⋅──(Q(u, v, r))  ⎜       \n",
       "⎢             ∂u ∂r               ∂r             ∂u                           ∂v ∂r               ∂r             ∂v              ⎝       \n",
       "⎢──────────────────────────────────────────────────────────────  ──────────────────────────────────────────────────────────────  ────────\n",
       "⎢                    P(u, v, r)⋅Q(u, v, r)                                           P(u, v, r)⋅Q(u, v, r)                               \n",
       "⎢                                                                                                                                        \n",
       "⎢                                                                                                                                        \n",
       "⎢                                                                                                                                        \n",
       "⎢                                                                                                                                        \n",
       "⎢                                                                                                                                        \n",
       "⎢                                                                                                                                        \n",
       "⎢                              0                                                               0                                         \n",
       "⎢                                                                                                                                        \n",
       "⎣                                                                                                                                        \n",
       "\n",
       "                                                                                                                                         \n",
       "                                                                        2                                                                \n",
       "                                                                       ∂                 ∂              ∂                                \n",
       "                                                        - Q(u, v, r)⋅─────(P(u, v, r)) + ──(P(u, v, r))⋅──(Q(u, v, r))                   \n",
       "                                                                     ∂u ∂r               ∂r             ∂u                               \n",
       "                                                        ──────────────────────────────────────────────────────────────                   \n",
       "                                                                            P(u, v, r)⋅Q(u, v, r)                                        \n",
       "                                                                                                                                         \n",
       "                                                                                                                                         \n",
       "                                                                        2                                                                \n",
       "                                                                       ∂                 ∂              ∂                                \n",
       "                                                        - Q(u, v, r)⋅─────(P(u, v, r)) + ──(P(u, v, r))⋅──(Q(u, v, r))                   \n",
       "                                                                     ∂v ∂r               ∂r             ∂v                               \n",
       "                                                        ──────────────────────────────────────────────────────────────                   \n",
       "                                                                            P(u, v, r)⋅Q(u, v, r)                                        \n",
       "                                                                                                                                         \n",
       "                                                                                 2            ⎞                                          \n",
       "    ∂              ∂                           ∂              ∂                 ∂             ⎟                            2            ∂\n",
       " r)⋅──(P(u, v, r))⋅──(Q(u, v, r)) + Q(u, v, r)⋅──(P(u, v, r))⋅──(Q(u, v, r)) - ───(P(u, v, r))⎟⋅Q(u, v, r) + 2⋅P(u, v, r)⋅Q (u, v, r)⋅───\n",
       "    ∂u             ∂v                          ∂v             ∂u                 2            ⎟                                       ∂v \n",
       "                                                                               ∂r             ⎠                                          \n",
       "─────────────────────────────────────────────────────────────────────────────────────────────────────────────────────────────────────────\n",
       "                                                                             P(u, v, r)⋅Q(u, v, r)                                       \n",
       "                                                                                                                                         \n",
       "                                                                                                                                         \n",
       "                                                                                                                                         \n",
       "                                                                                                                                         \n",
       "                                                                                                                                         \n",
       "                                                                                                                                         \n",
       "                                                                                       0                                                 \n",
       "                                                                                                                                         \n",
       "                                                                                                                                         \n",
       "\n",
       "                                                                                                                                         \n",
       "                                                                                                                                         \n",
       "                                                                                                                                         \n",
       "                                                                                                                                         \n",
       "                                                                                                                                         \n",
       "                                                                                                                                         \n",
       "                                                                                                                                         \n",
       "                                                                                                                                         \n",
       "                                                                                                                                         \n",
       "                                                                                                                                         \n",
       "                                                                                                                                         \n",
       "                                                                                                                                         \n",
       "                                                                                                                                         \n",
       "                                                                                                                                         \n",
       "                                                                                                                                         \n",
       "                                                                                                                                         \n",
       "2                                                                                                                                        \n",
       "                 ∂              ∂                                                                                                        \n",
       "──(Q(u, v, r)) + ──(P(u, v, r))⋅──(Q(u, v, r))                                                                                           \n",
       "∂u               ∂r             ∂r                                                                                                       \n",
       "                                                                                                                                         \n",
       "──────────────────────────────────────────────                                                                                           \n",
       "                                                                                                                                         \n",
       "                                                                                                                                         \n",
       "                                                ⎛                                                                                        \n",
       "                                                ⎜⎛∂              ∂                ∂              ∂             ⎞  2               3      \n",
       "                                                ⎜⎜──(P(u, v, r))⋅──(Q(u, v, r)) + ──(P(u, v, r))⋅──(Q(u, v, r))⎟⋅Q (u, v, r) + 2⋅Q (u, v,\n",
       "                                                ⎜⎝∂u             ∂v               ∂v             ∂u            ⎠                         \n",
       "                                                ⎝                                                                                        \n",
       "                                                ─────────────────────────────────────────────────────────────────────────────────────────\n",
       "                                                                                                                                       3 \n",
       "                                                                                                                                      Q (\n",
       "\n",
       "                                                                                              ⎤\n",
       "                                                                                              ⎥\n",
       "                                                                                              ⎥\n",
       "                                                                                              ⎥\n",
       "                                                                                              ⎥\n",
       "  0                                                                                           ⎥\n",
       "                                                                                              ⎥\n",
       "                                                                                              ⎥\n",
       "                                                                                              ⎥\n",
       "                                                                                              ⎥\n",
       "                                                                                              ⎥\n",
       "                                                                                              ⎥\n",
       "                                                                                              ⎥\n",
       "  0                                                                                           ⎥\n",
       "                                                                                              ⎥\n",
       "                                                                                              ⎥\n",
       "                                                                                              ⎥\n",
       "                                                                                              ⎥\n",
       "                                                                                              ⎥\n",
       "                                                                                              ⎥\n",
       "                                                                                              ⎥\n",
       "  0                                                                                           ⎥\n",
       "                                                                                              ⎥\n",
       "                                                                                              ⎥\n",
       "       2                             2                                            ⎞           ⎥\n",
       "      ∂                             ∂                ∂              ∂             ⎟           ⎥\n",
       " r)⋅─────(P(u, v, r)) - Q(u, v, r)⋅───(P(u, v, r)) + ──(P(u, v, r))⋅──(Q(u, v, r))⎟⋅P(u, v, r)⎥\n",
       "    ∂v ∂u                            2               ∂r             ∂r            ⎟           ⎥\n",
       "                                   ∂r                                             ⎠           ⎥\n",
       "──────────────────────────────────────────────────────────────────────────────────────────────⎥\n",
       "                                                                                              ⎥\n",
       "u, v, r)                                                                                      ⎦"
      ]
     },
     "execution_count": 56,
     "metadata": {},
     "output_type": "execute_result"
    }
   ],
   "source": [
    "Ric = RicciTensor.from_metric(metric)\n",
    "Ric.tensor()"
   ]
  },
  {
   "cell_type": "code",
   "execution_count": 57,
   "id": "3a16f10b",
   "metadata": {},
   "outputs": [
    {
     "data": {
      "image/png": "[encoded data removed]",
      "text/latex": [
       "$\\displaystyle \\frac{2 \\left(- 2 P{\\left(u,v,r \\right)} Q^{2}{\\left(u,v,r \\right)} \\frac{\\partial^{2}}{\\partial v\\partial u} Q{\\left(u,v,r \\right)} - 2 Q^{3}{\\left(u,v,r \\right)} \\frac{\\partial^{2}}{\\partial v\\partial u} P{\\left(u,v,r \\right)} - Q^{2}{\\left(u,v,r \\right)} \\frac{\\partial}{\\partial u} P{\\left(u,v,r \\right)} \\frac{\\partial}{\\partial v} Q{\\left(u,v,r \\right)} - Q^{2}{\\left(u,v,r \\right)} \\frac{\\partial}{\\partial v} P{\\left(u,v,r \\right)} \\frac{\\partial}{\\partial u} Q{\\left(u,v,r \\right)} + Q{\\left(u,v,r \\right)} \\frac{\\partial^{2}}{\\partial r^{2}} P{\\left(u,v,r \\right)} - \\frac{\\partial}{\\partial r} P{\\left(u,v,r \\right)} \\frac{\\partial}{\\partial r} Q{\\left(u,v,r \\right)}\\right)}{P{\\left(u,v,r \\right)} Q^{3}{\\left(u,v,r \\right)}}$"
      ],
      "text/plain": [
       "  ⎛                              2                                 2                                                                     \n",
       "  ⎜                2            ∂                    3            ∂                  2          ∂              ∂                 2       \n",
       "2⋅⎜- 2⋅P(u, v, r)⋅Q (u, v, r)⋅─────(Q(u, v, r)) - 2⋅Q (u, v, r)⋅─────(P(u, v, r)) - Q (u, v, r)⋅──(P(u, v, r))⋅──(Q(u, v, r)) - Q (u, v, \n",
       "  ⎜                           ∂v ∂u                             ∂v ∂u                           ∂u             ∂v                        \n",
       "  ⎝                                                                                                                                      \n",
       "─────────────────────────────────────────────────────────────────────────────────────────────────────────────────────────────────────────\n",
       "                                                                                                                     3                   \n",
       "                                                                                                         P(u, v, r)⋅Q (u, v, r)          \n",
       "\n",
       "                                                2                                            ⎞\n",
       "   ∂              ∂                            ∂                ∂              ∂             ⎟\n",
       "r)⋅──(P(u, v, r))⋅──(Q(u, v, r)) + Q(u, v, r)⋅───(P(u, v, r)) - ──(P(u, v, r))⋅──(Q(u, v, r))⎟\n",
       "   ∂v             ∂u                            2               ∂r             ∂r            ⎟\n",
       "                                              ∂r                                             ⎠\n",
       "──────────────────────────────────────────────────────────────────────────────────────────────\n",
       "                                                                                              \n",
       "                                                                                              "
      ]
     },
     "execution_count": 57,
     "metadata": {},
     "output_type": "execute_result"
    }
   ],
   "source": [
    "R = RicciScalar.from_riccitensor(Ric)\n",
    "R.simplify()\n",
    "R.expr"
   ]
  },
  {
   "cell_type": "code",
   "execution_count": 58,
   "id": "43701dc3",
   "metadata": {},
   "outputs": [
    {
     "data": {
      "text/latex": [
       "$\\displaystyle \\left[\\begin{matrix}- \\frac{\\frac{\\partial^{2}}{\\partial u^{2}} Q{\\left(u,v,r \\right)}}{Q{\\left(u,v,r \\right)}} - \\frac{\\frac{\\partial^{2}}{\\partial u^{2}} P{\\left(u,v,r \\right)}}{P{\\left(u,v,r \\right)}} & \\frac{1.0 \\left(P{\\left(u,v,r \\right)} Q^{2}{\\left(u,v,r \\right)} \\frac{\\partial^{2}}{\\partial v\\partial u} Q{\\left(u,v,r \\right)} + Q^{3}{\\left(u,v,r \\right)} \\frac{\\partial^{2}}{\\partial v\\partial u} P{\\left(u,v,r \\right)} + Q^{2}{\\left(u,v,r \\right)} \\frac{\\partial}{\\partial u} P{\\left(u,v,r \\right)} \\frac{\\partial}{\\partial v} Q{\\left(u,v,r \\right)} + Q^{2}{\\left(u,v,r \\right)} \\frac{\\partial}{\\partial v} P{\\left(u,v,r \\right)} \\frac{\\partial}{\\partial u} Q{\\left(u,v,r \\right)} - Q{\\left(u,v,r \\right)} \\frac{\\partial^{2}}{\\partial r^{2}} P{\\left(u,v,r \\right)} + \\frac{\\partial}{\\partial r} P{\\left(u,v,r \\right)} \\frac{\\partial}{\\partial r} Q{\\left(u,v,r \\right)}\\right)}{P{\\left(u,v,r \\right)} Q^{3}{\\left(u,v,r \\right)}} & \\frac{- Q{\\left(u,v,r \\right)} \\frac{\\partial^{2}}{\\partial u\\partial r} P{\\left(u,v,r \\right)} + \\frac{\\partial}{\\partial r} P{\\left(u,v,r \\right)} \\frac{\\partial}{\\partial u} Q{\\left(u,v,r \\right)}}{P{\\left(u,v,r \\right)} Q{\\left(u,v,r \\right)}} & 0\\\\\\frac{1.0 \\left(P{\\left(u,v,r \\right)} Q^{2}{\\left(u,v,r \\right)} \\frac{\\partial^{2}}{\\partial v\\partial u} Q{\\left(u,v,r \\right)} + Q^{3}{\\left(u,v,r \\right)} \\frac{\\partial^{2}}{\\partial v\\partial u} P{\\left(u,v,r \\right)} + Q^{2}{\\left(u,v,r \\right)} \\frac{\\partial}{\\partial u} P{\\left(u,v,r \\right)} \\frac{\\partial}{\\partial v} Q{\\left(u,v,r \\right)} + Q^{2}{\\left(u,v,r \\right)} \\frac{\\partial}{\\partial v} P{\\left(u,v,r \\right)} \\frac{\\partial}{\\partial u} Q{\\left(u,v,r \\right)} - Q{\\left(u,v,r \\right)} \\frac{\\partial^{2}}{\\partial r^{2}} P{\\left(u,v,r \\right)} + \\frac{\\partial}{\\partial r} P{\\left(u,v,r \\right)} \\frac{\\partial}{\\partial r} Q{\\left(u,v,r \\right)}\\right)}{P{\\left(u,v,r \\right)} Q^{3}{\\left(u,v,r \\right)}} & - \\frac{\\frac{\\partial^{2}}{\\partial v^{2}} Q{\\left(u,v,r \\right)}}{Q{\\left(u,v,r \\right)}} - \\frac{\\frac{\\partial^{2}}{\\partial v^{2}} P{\\left(u,v,r \\right)}}{P{\\left(u,v,r \\right)}} & \\frac{- Q{\\left(u,v,r \\right)} \\frac{\\partial^{2}}{\\partial v\\partial r} P{\\left(u,v,r \\right)} + \\frac{\\partial}{\\partial r} P{\\left(u,v,r \\right)} \\frac{\\partial}{\\partial v} Q{\\left(u,v,r \\right)}}{P{\\left(u,v,r \\right)} Q{\\left(u,v,r \\right)}} & 0\\\\\\frac{- Q{\\left(u,v,r \\right)} \\frac{\\partial^{2}}{\\partial u\\partial r} P{\\left(u,v,r \\right)} + \\frac{\\partial}{\\partial r} P{\\left(u,v,r \\right)} \\frac{\\partial}{\\partial u} Q{\\left(u,v,r \\right)}}{P{\\left(u,v,r \\right)} Q{\\left(u,v,r \\right)}} & \\frac{- Q{\\left(u,v,r \\right)} \\frac{\\partial^{2}}{\\partial v\\partial r} P{\\left(u,v,r \\right)} + \\frac{\\partial}{\\partial r} P{\\left(u,v,r \\right)} \\frac{\\partial}{\\partial v} Q{\\left(u,v,r \\right)}}{P{\\left(u,v,r \\right)} Q{\\left(u,v,r \\right)}} & - \\frac{2.0 Q^{2}{\\left(u,v,r \\right)} \\frac{\\partial^{2}}{\\partial v\\partial u} P{\\left(u,v,r \\right)}}{P{\\left(u,v,r \\right)}} & 0\\\\0 & 0 & 0 & - \\frac{2.0 P^{2}{\\left(u,v,r \\right)} \\frac{\\partial^{2}}{\\partial v\\partial u} Q{\\left(u,v,r \\right)}}{Q{\\left(u,v,r \\right)}}\\end{matrix}\\right]$"
      ],
      "text/plain": [
       "⎡                                                                                                    2                 2                 \n",
       "⎢                                                                                                   ∂                 ∂                  \n",
       "⎢                                                                                                  ───(Q(u, v, r))   ───(P(u, v, r))     \n",
       "⎢                                                                                                    2                 2                 \n",
       "⎢                                                                                                  ∂u                ∂u                  \n",
       "⎢                                                                                                - ─────────────── - ───────────────     \n",
       "⎢                                                                                                     Q(u, v, r)        P(u, v, r)       \n",
       "⎢                                                                                                                                        \n",
       "⎢                                                                                                                                        \n",
       "⎢    ⎛                          2                               2                                                                        \n",
       "⎢    ⎜            2            ∂                  3            ∂                  2          ∂              ∂                 2          \n",
       "⎢1.0⋅⎜P(u, v, r)⋅Q (u, v, r)⋅─────(Q(u, v, r)) + Q (u, v, r)⋅─────(P(u, v, r)) + Q (u, v, r)⋅──(P(u, v, r))⋅──(Q(u, v, r)) + Q (u, v, r)⋅\n",
       "⎢    ⎜                       ∂v ∂u                           ∂v ∂u                           ∂u             ∂v                           \n",
       "⎢    ⎝                                                                                                                                   \n",
       "⎢────────────────────────────────────────────────────────────────────────────────────────────────────────────────────────────────────────\n",
       "⎢                                                                                                                   3                    \n",
       "⎢                                                                                                       P(u, v, r)⋅Q (u, v, r)           \n",
       "⎢                                                                                                                                        \n",
       "⎢                                                                                                  2                                     \n",
       "⎢                                                                                                 ∂                 ∂              ∂     \n",
       "⎢                                                                                  - Q(u, v, r)⋅─────(P(u, v, r)) + ──(P(u, v, r))⋅──(Q(u\n",
       "⎢                                                                                               ∂u ∂r               ∂r             ∂u    \n",
       "⎢                                                                                  ──────────────────────────────────────────────────────\n",
       "⎢                                                                                                      P(u, v, r)⋅Q(u, v, r)             \n",
       "⎢                                                                                                                                        \n",
       "⎢                                                                                                                                        \n",
       "⎢                                                                                                                                        \n",
       "⎢                                                                                                                                        \n",
       "⎢                                                                                                                                        \n",
       "⎢                                                                                                                 0                      \n",
       "⎣                                                                                                                                        \n",
       "\n",
       "                                                                                                 ⎛                          2            \n",
       "                                                                                                 ⎜            2            ∂             \n",
       "                                                                                             1.0⋅⎜P(u, v, r)⋅Q (u, v, r)⋅─────(Q(u, v, r)\n",
       "                                                                                                 ⎜                       ∂v ∂u           \n",
       "                                                                                                 ⎝                                       \n",
       "                                                                                             ────────────────────────────────────────────\n",
       "                                                                                                                                         \n",
       "                                                                                                                                         \n",
       "                                                                                                                                         \n",
       "                                             2                                            ⎞                                              \n",
       "∂              ∂                            ∂                ∂              ∂             ⎟                                              \n",
       "──(P(u, v, r))⋅──(Q(u, v, r)) - Q(u, v, r)⋅───(P(u, v, r)) + ──(P(u, v, r))⋅──(Q(u, v, r))⎟                                              \n",
       "∂v             ∂u                            2               ∂r             ∂r            ⎟                                              \n",
       "                                           ∂r                                             ⎠                                              \n",
       "───────────────────────────────────────────────────────────────────────────────────────────                                              \n",
       "                                                                                                                                         \n",
       "                                                                                                                                         \n",
       "                                                                                                                                         \n",
       "                                                                                                                                         \n",
       "                                                                                                                                         \n",
       ", v, r))                                                                                                                                 \n",
       "                                                                                                                                         \n",
       "────────                                                                                                                                 \n",
       "                                                                                                                                         \n",
       "                                                                                                                                         \n",
       "                                                                                                                                         \n",
       "                                                                                                                                         \n",
       "                                                                                                                                         \n",
       "                                                                                                                                         \n",
       "                                                                                                                                         \n",
       "                                                                                                                                         \n",
       "\n",
       "                   2                                                                                                                     \n",
       "     3            ∂                  2          ∂              ∂                 2          ∂              ∂                            ∂\n",
       ") + Q (u, v, r)⋅─────(P(u, v, r)) + Q (u, v, r)⋅──(P(u, v, r))⋅──(Q(u, v, r)) + Q (u, v, r)⋅──(P(u, v, r))⋅──(Q(u, v, r)) - Q(u, v, r)⋅──\n",
       "                ∂v ∂u                           ∂u             ∂v                           ∂v             ∂u                            \n",
       "                                                                                                                                       ∂r\n",
       "─────────────────────────────────────────────────────────────────────────────────────────────────────────────────────────────────────────\n",
       "                                                                       3                                                                 \n",
       "                                                           P(u, v, r)⋅Q (u, v, r)                                                        \n",
       "                                                                                                                                         \n",
       "                                                        2                 2                                                              \n",
       "                                                       ∂                 ∂                                                               \n",
       "                                                      ───(Q(u, v, r))   ───(P(u, v, r))                                                  \n",
       "                                                        2                 2                                                              \n",
       "                                                      ∂v                ∂v                                                               \n",
       "                                                    - ─────────────── - ───────────────                                                  \n",
       "                                                         Q(u, v, r)        P(u, v, r)                                                    \n",
       "                                                                                                                                         \n",
       "                                                                                                                                         \n",
       "                                                      2                                                                                  \n",
       "                                                     ∂                 ∂              ∂                                                  \n",
       "                                      - Q(u, v, r)⋅─────(P(u, v, r)) + ──(P(u, v, r))⋅──(Q(u, v, r))                                     \n",
       "                                                   ∂v ∂r               ∂r             ∂v                                                 \n",
       "                                      ──────────────────────────────────────────────────────────────                                     \n",
       "                                                          P(u, v, r)⋅Q(u, v, r)                                                          \n",
       "                                                                                                                                         \n",
       "                                                                                                                                         \n",
       "                                                                                                                                         \n",
       "                                                                                                                                         \n",
       "                                                                                                                                         \n",
       "                                                                     0                                                                   \n",
       "                                                                                                                                         \n",
       "\n",
       "2                                            ⎞                                                                                           \n",
       "                ∂              ∂             ⎟                  2                                                                        \n",
       "─(P(u, v, r)) + ──(P(u, v, r))⋅──(Q(u, v, r))⎟                 ∂                 ∂              ∂                                        \n",
       "2               ∂r             ∂r            ⎟  - Q(u, v, r)⋅─────(P(u, v, r)) + ──(P(u, v, r))⋅──(Q(u, v, r))                           \n",
       "                                             ⎠               ∂u ∂r               ∂r             ∂u                                       \n",
       "──────────────────────────────────────────────  ──────────────────────────────────────────────────────────────                   0       \n",
       "                                                                    P(u, v, r)⋅Q(u, v, r)                                                \n",
       "                                                                                                                                         \n",
       "                                                                                                                                         \n",
       "                                                                                                                                         \n",
       "                                                                2                                                                        \n",
       "                                                               ∂                 ∂              ∂                                        \n",
       "                                                - Q(u, v, r)⋅─────(P(u, v, r)) + ──(P(u, v, r))⋅──(Q(u, v, r))                           \n",
       "                                                             ∂v ∂r               ∂r             ∂v                                       \n",
       "                                                ──────────────────────────────────────────────────────────────                   0       \n",
       "                                                                    P(u, v, r)⋅Q(u, v, r)                                                \n",
       "                                                                                                                                         \n",
       "                                                                                                                                         \n",
       "                                                                                 2                                                       \n",
       "                                                                   2            ∂                                                        \n",
       "                                                             -2.0⋅Q (u, v, r)⋅─────(P(u, v, r))                                          \n",
       "                                                                              ∂v ∂u                                                      \n",
       "                                                             ───────────────────────────────────                                 0       \n",
       "                                                                          P(u, v, r)                                                     \n",
       "                                                                                                                                         \n",
       "                                                                                                                                    2    \n",
       "                                                                                                                      2            ∂     \n",
       "                                                                                                                -2.0⋅P (u, v, r)⋅─────(Q(\n",
       "                                                                                                                                 ∂v ∂u   \n",
       "                                                                              0                                 ─────────────────────────\n",
       "                                                                                                                             Q(u, v, r)  \n",
       "\n",
       "          ⎤\n",
       "          ⎥\n",
       "          ⎥\n",
       "          ⎥\n",
       "          ⎥\n",
       "          ⎥\n",
       "          ⎥\n",
       "          ⎥\n",
       "          ⎥\n",
       "          ⎥\n",
       "          ⎥\n",
       "          ⎥\n",
       "          ⎥\n",
       "          ⎥\n",
       "          ⎥\n",
       "          ⎥\n",
       "          ⎥\n",
       "          ⎥\n",
       "          ⎥\n",
       "          ⎥\n",
       "          ⎥\n",
       "          ⎥\n",
       "          ⎥\n",
       "          ⎥\n",
       "          ⎥\n",
       "          ⎥\n",
       "          ⎥\n",
       "u, v, r)) ⎥\n",
       "          ⎥\n",
       "──────────⎥\n",
       "          ⎦"
      ]
     },
     "execution_count": 58,
     "metadata": {},
     "output_type": "execute_result"
    }
   ],
   "source": [
    "einst = EinsteinTensor.from_metric(metric)\n",
    "simplify(einst.tensor())"
   ]
  },
  {
   "cell_type": "code",
   "execution_count": 19,
   "id": "eb5d5d89",
   "metadata": {},
   "outputs": [],
   "source": [
    "#  rm1 = RiemannCurvatureTensor.from_christoffels(ch)\n",
    "#  rm1.tensor()"
   ]
  },
  {
   "cell_type": "code",
   "execution_count": 20,
   "id": "b05f8bc4",
   "metadata": {},
   "outputs": [],
   "source": [
    "#  weyl = WeylTensor.from_metric(metric)\n",
    "#  weyl.tensor()"
   ]
  },
  {
   "cell_type": "code",
   "execution_count": 61,
   "id": "61644b9d",
   "metadata": {},
   "outputs": [
    {
     "data": {
      "image/png": "[encoded data removed]",
      "text/latex": [
       "$\\displaystyle P{\\left(u,v,r \\right)} \\frac{\\partial^{2}}{\\partial u^{2}} Q{\\left(u,v,r \\right)} + Q{\\left(u,v,r \\right)} \\frac{\\partial^{2}}{\\partial u^{2}} P{\\left(u,v,r \\right)} = 0$"
      ],
      "text/plain": [
       "             2                            2                \n",
       "            ∂                            ∂                 \n",
       "P(u, v, r)⋅───(Q(u, v, r)) + Q(u, v, r)⋅───(P(u, v, r)) = 0\n",
       "             2                            2                \n",
       "           ∂u                           ∂u                 "
      ]
     },
     "execution_count": 61,
     "metadata": {},
     "output_type": "execute_result"
    }
   ],
   "source": [
    "equation3 = Eq((-1)*together(simplify(einst.tensor())[0,0]).args[2],0)\n",
    "equation3"
   ]
  },
  {
   "cell_type": "code",
   "execution_count": 62,
   "id": "dd2ca6c1",
   "metadata": {},
   "outputs": [
    {
     "data": {
      "image/png": "[encoded data removed]",
      "text/latex": [
       "$\\displaystyle P{\\left(u,v,r \\right)} \\frac{\\partial^{2}}{\\partial v^{2}} Q{\\left(u,v,r \\right)} + Q{\\left(u,v,r \\right)} \\frac{\\partial^{2}}{\\partial v^{2}} P{\\left(u,v,r \\right)} = 0$"
      ],
      "text/plain": [
       "             2                            2                \n",
       "            ∂                            ∂                 \n",
       "P(u, v, r)⋅───(Q(u, v, r)) + Q(u, v, r)⋅───(P(u, v, r)) = 0\n",
       "             2                            2                \n",
       "           ∂v                           ∂v                 "
      ]
     },
     "execution_count": 62,
     "metadata": {},
     "output_type": "execute_result"
    }
   ],
   "source": [
    "equation4 = Eq((-1)*together(Ric.tensor()[1,1]).args[2],0)\n",
    "equation4"
   ]
  },
  {
   "cell_type": "code",
   "execution_count": 63,
   "id": "0535c5cf",
   "metadata": {},
   "outputs": [
    {
     "data": {
      "image/png": "[encoded data removed]",
      "text/latex": [
       "$\\displaystyle \\frac{\\partial^{2}}{\\partial v\\partial u} Q{\\left(u,v,r \\right)} = 0$"
      ],
      "text/plain": [
       "   2                 \n",
       "  ∂                  \n",
       "─────(Q(u, v, r)) = 0\n",
       "∂v ∂u                "
      ]
     },
     "execution_count": 63,
     "metadata": {},
     "output_type": "execute_result"
    }
   ],
   "source": [
    "equation5 = Eq(simplify(einst.tensor())[3,3].args[3],0)\n",
    "equation5 "
   ]
  },
  {
   "cell_type": "code",
   "execution_count": 64,
   "id": "4e0010c0",
   "metadata": {},
   "outputs": [
    {
     "data": {
      "image/png": "[encoded data removed]",
      "text/latex": [
       "$\\displaystyle \\frac{\\partial^{2}}{\\partial v\\partial u} P{\\left(u,v,r \\right)} = 0$"
      ],
      "text/plain": [
       "   2                 \n",
       "  ∂                  \n",
       "─────(P(u, v, r)) = 0\n",
       "∂v ∂u                "
      ]
     },
     "execution_count": 64,
     "metadata": {},
     "output_type": "execute_result"
    }
   ],
   "source": [
    "equation6 = Eq(simplify(einst.tensor())[2,2].args[3],0)\n",
    "equation6"
   ]
  },
  {
   "cell_type": "code",
   "execution_count": 84,
   "id": "adeefd67",
   "metadata": {},
   "outputs": [
    {
     "data": {
      "image/png": "[encoded data removed]",
      "text/latex": [
       "$\\displaystyle \\frac{\\partial}{\\partial r} P{\\left(u,v,r \\right)} \\frac{\\partial}{\\partial v} Q{\\left(u,v,r \\right)} = Q{\\left(u,v,r \\right)} \\frac{\\partial^{2}}{\\partial v\\partial r} P{\\left(u,v,r \\right)}$"
      ],
      "text/plain": [
       "                                              2             \n",
       "∂              ∂                             ∂              \n",
       "──(P(u, v, r))⋅──(Q(u, v, r)) = Q(u, v, r)⋅─────(P(u, v, r))\n",
       "∂r             ∂v                          ∂v ∂r            "
      ]
     },
     "execution_count": 84,
     "metadata": {},
     "output_type": "execute_result"
    }
   ],
   "source": [
    "equation7 = Eq( simplify(einst.tensor())[2,1].args[2].args[0],(-1)*simplify(einst.tensor())[2,1].args[2].args[1] )\n",
    "equation7 "
   ]
  },
  {
   "cell_type": "code",
   "execution_count": 76,
   "id": "42562253",
   "metadata": {},
   "outputs": [
    {
     "data": {
      "image/png": "[encoded data removed]",
      "text/latex": [
       "$\\displaystyle \\frac{\\partial}{\\partial r} P{\\left(u,v,r \\right)} \\frac{\\partial}{\\partial u} Q{\\left(u,v,r \\right)} = Q{\\left(u,v,r \\right)} \\frac{\\partial^{2}}{\\partial u\\partial r} P{\\left(u,v,r \\right)}$"
      ],
      "text/plain": [
       "                                              2             \n",
       "∂              ∂                             ∂              \n",
       "──(P(u, v, r))⋅──(Q(u, v, r)) = Q(u, v, r)⋅─────(P(u, v, r))\n",
       "∂r             ∂u                          ∂u ∂r            "
      ]
     },
     "execution_count": 76,
     "metadata": {},
     "output_type": "execute_result"
    }
   ],
   "source": [
    "equation8 = Eq(simplify(einst.tensor())[2,0].args[2].args[0],(-1)*simplify(einst.tensor())[2,0].args[2].args[1] ) \n",
    "equation8"
   ]
  },
  {
   "cell_type": "code",
   "execution_count": 92,
   "id": "c9bbeff0",
   "metadata": {},
   "outputs": [
    {
     "data": {
      "image/png": "[encoded data removed]",
      "text/latex": [
       "$\\displaystyle \\left(\\frac{\\partial}{\\partial u} P{\\left(u,v,r \\right)} \\frac{\\partial}{\\partial v} Q{\\left(u,v,r \\right)} + \\frac{\\partial}{\\partial v} P{\\left(u,v,r \\right)} \\frac{\\partial}{\\partial u} Q{\\left(u,v,r \\right)}\\right) Q^{2}{\\left(u,v,r \\right)} - Q{\\left(u,v,r \\right)} \\frac{\\partial^{2}}{\\partial r^{2}} P{\\left(u,v,r \\right)} + \\frac{\\partial}{\\partial r} P{\\left(u,v,r \\right)} \\frac{\\partial}{\\partial r} Q{\\left(u,v,r \\right)} = 0$"
      ],
      "text/plain": [
       "                                                                                           2                                             \n",
       "⎛∂              ∂                ∂              ∂             ⎞  2                        ∂                ∂              ∂              \n",
       "⎜──(P(u, v, r))⋅──(Q(u, v, r)) + ──(P(u, v, r))⋅──(Q(u, v, r))⎟⋅Q (u, v, r) - Q(u, v, r)⋅───(P(u, v, r)) + ──(P(u, v, r))⋅──(Q(u, v, r)) \n",
       "⎝∂u             ∂v               ∂v             ∂u            ⎠                            2               ∂r             ∂r             \n",
       "                                                                                         ∂r                                              \n",
       "\n",
       "   \n",
       "   \n",
       "= 0\n",
       "   \n",
       "   "
      ]
     },
     "execution_count": 92,
     "metadata": {},
     "output_type": "execute_result"
    }
   ],
   "source": [
    "equation9 = Eq(collect(simplify(einst.tensor())[1,0].args[3].subs(equation6.args[0],equation6.args[1]).subs(equation5.args[0],equation6.args[1]),Q**2),0)\n",
    "equation9"
   ]
  },
  {
   "cell_type": "code",
   "execution_count": 94,
   "id": "16f7ba60",
   "metadata": {},
   "outputs": [
    {
     "data": {
      "text/latex": [
       "$\\displaystyle \\left[\\begin{matrix}P{\\left(u,v,r \\right)} \\frac{\\partial^{2}}{\\partial u^{2}} Q{\\left(u,v,r \\right)} + Q{\\left(u,v,r \\right)} \\frac{\\partial^{2}}{\\partial u^{2}} P{\\left(u,v,r \\right)} = 0\\\\P{\\left(u,v,r \\right)} \\frac{\\partial^{2}}{\\partial v^{2}} Q{\\left(u,v,r \\right)} + Q{\\left(u,v,r \\right)} \\frac{\\partial^{2}}{\\partial v^{2}} P{\\left(u,v,r \\right)} = 0\\\\\\frac{\\partial^{2}}{\\partial v\\partial u} Q{\\left(u,v,r \\right)} = 0\\\\\\frac{\\partial^{2}}{\\partial v\\partial u} P{\\left(u,v,r \\right)} = 0\\\\\\frac{\\partial}{\\partial r} P{\\left(u,v,r \\right)} \\frac{\\partial}{\\partial v} Q{\\left(u,v,r \\right)} = Q{\\left(u,v,r \\right)} \\frac{\\partial^{2}}{\\partial v\\partial r} P{\\left(u,v,r \\right)}\\\\\\frac{\\partial}{\\partial r} P{\\left(u,v,r \\right)} \\frac{\\partial}{\\partial u} Q{\\left(u,v,r \\right)} = Q{\\left(u,v,r \\right)} \\frac{\\partial^{2}}{\\partial u\\partial r} P{\\left(u,v,r \\right)}\\\\\\left(\\frac{\\partial}{\\partial u} P{\\left(u,v,r \\right)} \\frac{\\partial}{\\partial v} Q{\\left(u,v,r \\right)} + \\frac{\\partial}{\\partial v} P{\\left(u,v,r \\right)} \\frac{\\partial}{\\partial u} Q{\\left(u,v,r \\right)}\\right) Q^{2}{\\left(u,v,r \\right)} - Q{\\left(u,v,r \\right)} \\frac{\\partial^{2}}{\\partial r^{2}} P{\\left(u,v,r \\right)} + \\frac{\\partial}{\\partial r} P{\\left(u,v,r \\right)} \\frac{\\partial}{\\partial r} Q{\\left(u,v,r \\right)} = 0\\end{matrix}\\right]$"
      ],
      "text/plain": [
       "⎡                                                     2                            2                                                     \n",
       "⎢                                                    ∂                            ∂                                                      \n",
       "⎢                                        P(u, v, r)⋅───(Q(u, v, r)) + Q(u, v, r)⋅───(P(u, v, r)) = 0                                     \n",
       "⎢                                                     2                            2                                                     \n",
       "⎢                                                   ∂u                           ∂u                                                      \n",
       "⎢                                                                                                                                        \n",
       "⎢                                                     2                            2                                                     \n",
       "⎢                                                    ∂                            ∂                                                      \n",
       "⎢                                        P(u, v, r)⋅───(Q(u, v, r)) + Q(u, v, r)⋅───(P(u, v, r)) = 0                                     \n",
       "⎢                                                     2                            2                                                     \n",
       "⎢                                                   ∂v                           ∂v                                                      \n",
       "⎢                                                                                                                                        \n",
       "⎢                                                              2                                                                         \n",
       "⎢                                                             ∂                                                                          \n",
       "⎢                                                           ─────(Q(u, v, r)) = 0                                                        \n",
       "⎢                                                           ∂v ∂u                                                                        \n",
       "⎢                                                                                                                                        \n",
       "⎢                                                              2                                                                         \n",
       "⎢                                                             ∂                                                                          \n",
       "⎢                                                           ─────(P(u, v, r)) = 0                                                        \n",
       "⎢                                                           ∂v ∂u                                                                        \n",
       "⎢                                                                                                                                        \n",
       "⎢                                                                                      2                                                 \n",
       "⎢                                        ∂              ∂                             ∂                                                  \n",
       "⎢                                        ──(P(u, v, r))⋅──(Q(u, v, r)) = Q(u, v, r)⋅─────(P(u, v, r))                                    \n",
       "⎢                                        ∂r             ∂v                          ∂v ∂r                                                \n",
       "⎢                                                                                                                                        \n",
       "⎢                                                                                      2                                                 \n",
       "⎢                                        ∂              ∂                             ∂                                                  \n",
       "⎢                                        ──(P(u, v, r))⋅──(Q(u, v, r)) = Q(u, v, r)⋅─────(P(u, v, r))                                    \n",
       "⎢                                        ∂r             ∂u                          ∂u ∂r                                                \n",
       "⎢                                                                                                                                        \n",
       "⎢                                                                                           2                                            \n",
       "⎢⎛∂              ∂                ∂              ∂             ⎞  2                        ∂                ∂              ∂             \n",
       "⎢⎜──(P(u, v, r))⋅──(Q(u, v, r)) + ──(P(u, v, r))⋅──(Q(u, v, r))⎟⋅Q (u, v, r) - Q(u, v, r)⋅───(P(u, v, r)) + ──(P(u, v, r))⋅──(Q(u, v, r))\n",
       "⎢⎝∂u             ∂v               ∂v             ∂u            ⎠                            2               ∂r             ∂r            \n",
       "⎣                                                                                         ∂r                                             \n",
       "\n",
       "    ⎤\n",
       "    ⎥\n",
       "    ⎥\n",
       "    ⎥\n",
       "    ⎥\n",
       "    ⎥\n",
       "    ⎥\n",
       "    ⎥\n",
       "    ⎥\n",
       "    ⎥\n",
       "    ⎥\n",
       "    ⎥\n",
       "    ⎥\n",
       "    ⎥\n",
       "    ⎥\n",
       "    ⎥\n",
       "    ⎥\n",
       "    ⎥\n",
       "    ⎥\n",
       "    ⎥\n",
       "    ⎥\n",
       "    ⎥\n",
       "    ⎥\n",
       "    ⎥\n",
       "    ⎥\n",
       "    ⎥\n",
       "    ⎥\n",
       "    ⎥\n",
       "    ⎥\n",
       "    ⎥\n",
       "    ⎥\n",
       "    ⎥\n",
       "    ⎥\n",
       "    ⎥\n",
       " = 0⎥\n",
       "    ⎥\n",
       "    ⎦"
      ]
     },
     "execution_count": 94,
     "metadata": {},
     "output_type": "execute_result"
    }
   ],
   "source": [
    "vacuumFieldEquations = Matrix([equation3,equation4,equation5,equation6,equation7,equation8,equation9])\n",
    "vacuumFieldEquations"
   ]
  }
 ],
 "metadata": {
  "@webio": {
   "lastCommId": "421a42841c824d83bf2393309bd26add",
   "lastKernelId": "6bf4ff1b-ea93-400f-9ee8-8d11855b025c"
  },
  "kernelspec": {
   "display_name": "Python 3 (ipykernel)",
   "language": "python",
   "name": "python3"
  },
  "language_info": {
   "codemirror_mode": {
    "name": "ipython",
    "version": 3
   },
   "file_extension": ".py",
   "mimetype": "text/x-python",
   "name": "python",
   "nbconvert_exporter": "python",
   "pygments_lexer": "ipython3",
   "version": "3.8.8"
  }
 },
 "nbformat": 4,
 "nbformat_minor": 5
}
