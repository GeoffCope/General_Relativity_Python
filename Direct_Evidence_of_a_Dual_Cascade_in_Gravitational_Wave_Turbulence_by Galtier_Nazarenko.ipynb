{
 "cells": [
  {
   "cell_type": "markdown",
   "id": "3f213a61",
   "metadata": {},
   "source": [
    "# Direct Evidence of a Dual Cascade in Gravitational Wave Turbulence by Galtier & Nazarenko\n",
    "##  Geoff Cope\n",
    "##  Univeristy of Utah\n",
    "##  December 24, 2021 Christmas Eve!"
   ]
  },
  {
   "cell_type": "markdown",
   "id": "d8d7e10d",
   "metadata": {},
   "source": [
    "https://arxiv.org/abs/2108.09158"
   ]
  },
  {
   "cell_type": "code",
   "execution_count": 1,
   "id": "6319c9ad",
   "metadata": {},
   "outputs": [
    {
     "name": "stdout",
     "output_type": "stream",
     "text": [
      "IPython console for SymPy 1.9 (Python 3.8.8-64-bit) (ground types: gmpy)\n",
      "\n",
      "These commands were executed:\n",
      ">>> from __future__ import division\n",
      ">>> from sympy import *\n",
      ">>> x, y, z, t = symbols('x y z t')\n",
      ">>> k, m, n = symbols('k m n', integer=True)\n",
      ">>> f, g, h = symbols('f g h', cls=Function)\n",
      ">>> init_printing()\n",
      "\n",
      "Documentation can be found at https://docs.sympy.org/1.9/\n",
      "\n"
     ]
    }
   ],
   "source": [
    "from sympy import init_session\n",
    "init_session(use_latex=True)"
   ]
  },
  {
   "cell_type": "code",
   "execution_count": 2,
   "id": "46ebeac1",
   "metadata": {},
   "outputs": [],
   "source": [
    "import warnings\n",
    "import matplotlib.cbook\n",
    "warnings.filterwarnings(\"ignore\",category=matplotlib.cbook.mplDeprecation)"
   ]
  },
  {
   "cell_type": "code",
   "execution_count": 3,
   "id": "e7ae3d81",
   "metadata": {},
   "outputs": [],
   "source": [
    "t,x,y,z,dt,dx,dy,dz = symbols('t x y z dt dx dy dz')"
   ]
  },
  {
   "cell_type": "code",
   "execution_count": 4,
   "id": "e50a7301",
   "metadata": {},
   "outputs": [],
   "source": [
    "alpha,beta,gamma,Lambda = symbols('alpha beta gamma Lambda')"
   ]
  },
  {
   "cell_type": "code",
   "execution_count": 5,
   "id": "1750331c",
   "metadata": {},
   "outputs": [
    {
     "data": {
      "image/png": "[encoded data removed]",
      "text/latex": [
       "$\\displaystyle \\alpha{\\left(t,x,y \\right)}$"
      ],
      "text/plain": [
       "α(t, x, y)"
      ]
     },
     "execution_count": 5,
     "metadata": {},
     "output_type": "execute_result"
    }
   ],
   "source": [
    "alpha = Function('alpha')(t,x,y)\n",
    "alpha"
   ]
  },
  {
   "cell_type": "code",
   "execution_count": 6,
   "id": "670d989b",
   "metadata": {},
   "outputs": [
    {
     "data": {
      "image/png": "[encoded data removed]",
      "text/latex": [
       "$\\displaystyle \\beta{\\left(t,x,y \\right)}$"
      ],
      "text/plain": [
       "β(t, x, y)"
      ]
     },
     "execution_count": 6,
     "metadata": {},
     "output_type": "execute_result"
    }
   ],
   "source": [
    "beta = Function('beta')(t,x,y)\n",
    "beta"
   ]
  },
  {
   "cell_type": "code",
   "execution_count": 7,
   "id": "e70e134f",
   "metadata": {},
   "outputs": [
    {
     "data": {
      "image/png": "[encoded data removed]",
      "text/latex": [
       "$\\displaystyle \\gamma{\\left(t,x,y \\right)}$"
      ],
      "text/plain": [
       "γ(t, x, y)"
      ]
     },
     "execution_count": 7,
     "metadata": {},
     "output_type": "execute_result"
    }
   ],
   "source": [
    "gamma = Function('gamma')(t,x,y)\n",
    "gamma"
   ]
  },
  {
   "cell_type": "code",
   "execution_count": 8,
   "id": "c155b759",
   "metadata": {},
   "outputs": [
    {
     "data": {
      "image/png": "[encoded data removed]",
      "text/latex": [
       "$\\displaystyle \\Lambda{\\left(t,x,y \\right)}$"
      ],
      "text/plain": [
       "Λ(t, x, y)"
      ]
     },
     "execution_count": 8,
     "metadata": {},
     "output_type": "execute_result"
    }
   ],
   "source": [
    "Lambda = Function('Lambda')(t,x,y)\n",
    "Lambda"
   ]
  },
  {
   "cell_type": "code",
   "execution_count": 9,
   "id": "07ac4cf3",
   "metadata": {},
   "outputs": [
    {
     "data": {
      "text/latex": [
       "$\\displaystyle \\left[\\begin{matrix}t\\\\x\\\\y\\\\z\\end{matrix}\\right]$"
      ],
      "text/plain": [
       "⎡t⎤\n",
       "⎢ ⎥\n",
       "⎢x⎥\n",
       "⎢ ⎥\n",
       "⎢y⎥\n",
       "⎢ ⎥\n",
       "⎣z⎦"
      ]
     },
     "execution_count": 9,
     "metadata": {},
     "output_type": "execute_result"
    }
   ],
   "source": [
    "variables = Matrix( [t,x,y,z] )\n",
    "variables"
   ]
  },
  {
   "cell_type": "code",
   "execution_count": 10,
   "id": "6db52d68",
   "metadata": {},
   "outputs": [
    {
     "data": {
      "text/latex": [
       "$\\displaystyle \\left[\\begin{matrix}dt\\\\dx\\\\dy\\\\dz\\end{matrix}\\right]$"
      ],
      "text/plain": [
       "⎡dt⎤\n",
       "⎢  ⎥\n",
       "⎢dx⎥\n",
       "⎢  ⎥\n",
       "⎢dy⎥\n",
       "⎢  ⎥\n",
       "⎣dz⎦"
      ]
     },
     "execution_count": 10,
     "metadata": {},
     "output_type": "execute_result"
    }
   ],
   "source": [
    "differentials = Matrix( [dt,dx,dy,dz] )\n",
    "differentials "
   ]
  },
  {
   "cell_type": "code",
   "execution_count": 11,
   "id": "da3ac7b7",
   "metadata": {},
   "outputs": [
    {
     "data": {
      "image/png": "[encoded data removed]",
      "text/latex": [
       "$\\displaystyle - dt^{2} \\gamma^{2}{\\left(t,x,y \\right)} e^{- 2 \\left(\\Lambda{\\left(t,x,y \\right)}\\right)} - 2 dt^{2} \\gamma{\\left(t,x,y \\right)} e^{- 2 \\left(\\Lambda{\\left(t,x,y \\right)}\\right)} - dt^{2} e^{- 2 \\left(\\Lambda{\\left(t,x,y \\right)}\\right)} + dx^{2} \\beta^{2}{\\left(t,x,y \\right)} e^{- 2 \\left(\\Lambda{\\left(t,x,y \\right)}\\right)} + 2 dx^{2} \\beta{\\left(t,x,y \\right)} e^{- 2 \\left(\\Lambda{\\left(t,x,y \\right)}\\right)} + dx^{2} e^{- 2 \\left(\\Lambda{\\left(t,x,y \\right)}\\right)} + dy^{2} \\alpha^{2}{\\left(t,x,y \\right)} e^{- 2 \\left(\\Lambda{\\left(t,x,y \\right)}\\right)} + 2 dy^{2} \\alpha{\\left(t,x,y \\right)} e^{- 2 \\left(\\Lambda{\\left(t,x,y \\right)}\\right)} + dy^{2} e^{- 2 \\left(\\Lambda{\\left(t,x,y \\right)}\\right)} + dz^{2} e^{2 \\left(\\Lambda{\\left(t,x,y \\right)}\\right)}$"
      ],
      "text/plain": [
       "    2  2           -2⋅Λ(t, x, y)       2             -2⋅Λ(t, x, y)     2  -2⋅Λ(t, x, y)     2  2           -2⋅Λ(t, x, y)   \n",
       "- dt ⋅γ (t, x, y)⋅ℯ              - 2⋅dt ⋅γ(t, x, y)⋅ℯ              - dt ⋅ℯ              + dx ⋅β (t, x, y)⋅ℯ              + \n",
       "\n",
       "    2             -2⋅Λ(t, x, y)     2  -2⋅Λ(t, x, y)     2  2           -2⋅Λ(t, x, y)       2             -2⋅Λ(t, x, y)    \n",
       "2⋅dx ⋅β(t, x, y)⋅ℯ              + dx ⋅ℯ              + dy ⋅α (t, x, y)⋅ℯ              + 2⋅dy ⋅α(t, x, y)⋅ℯ              + d\n",
       "\n",
       " 2  -2⋅Λ(t, x, y)     2  2⋅Λ(t, x, y)\n",
       "y ⋅ℯ              + dz ⋅ℯ            "
      ]
     },
     "execution_count": 11,
     "metadata": {},
     "output_type": "execute_result"
    }
   ],
   "source": [
    "lineElement = expand(-(1+gamma)**2 * exp(-2*Lambda) * dt**2  + (1+beta)**2 * exp(-2*Lambda)*dx**2 + (1+alpha)**2*exp(-2*Lambda)*dy**2 + exp(2*Lambda)*dz**2 )\n",
    "lineElement"
   ]
  },
  {
   "cell_type": "code",
   "execution_count": 12,
   "id": "9d0282be",
   "metadata": {},
   "outputs": [
    {
     "data": {
      "text/latex": [
       "$\\displaystyle \\left[\\begin{matrix}- \\gamma^{2}{\\left(t,x,y \\right)} e^{- 2 \\left(\\Lambda{\\left(t,x,y \\right)}\\right)} - 2 \\gamma{\\left(t,x,y \\right)} e^{- 2 \\left(\\Lambda{\\left(t,x,y \\right)}\\right)} - e^{- 2 \\left(\\Lambda{\\left(t,x,y \\right)}\\right)} & 0 & 0 & 0\\\\0 & \\beta^{2}{\\left(t,x,y \\right)} e^{- 2 \\left(\\Lambda{\\left(t,x,y \\right)}\\right)} + 2 \\beta{\\left(t,x,y \\right)} e^{- 2 \\left(\\Lambda{\\left(t,x,y \\right)}\\right)} + e^{- 2 \\left(\\Lambda{\\left(t,x,y \\right)}\\right)} & 0 & 0\\\\0 & 0 & \\alpha^{2}{\\left(t,x,y \\right)} e^{- 2 \\left(\\Lambda{\\left(t,x,y \\right)}\\right)} + 2 \\alpha{\\left(t,x,y \\right)} e^{- 2 \\left(\\Lambda{\\left(t,x,y \\right)}\\right)} + e^{- 2 \\left(\\Lambda{\\left(t,x,y \\right)}\\right)} & 0\\\\0 & 0 & 0 & e^{2 \\left(\\Lambda{\\left(t,x,y \\right)}\\right)}\\end{matrix}\\right]$"
      ],
      "text/plain": [
       "⎡   2           -2⋅Λ(t, x, y)                 -2⋅Λ(t, x, y)    -2⋅Λ(t, x, y)                                               \n",
       "⎢- γ (t, x, y)⋅ℯ              - 2⋅γ(t, x, y)⋅ℯ              - ℯ                                                   0        \n",
       "⎢                                                                                                                          \n",
       "⎢                                                                              2           -2⋅Λ(t, x, y)                 -2\n",
       "⎢                                     0                                       β (t, x, y)⋅ℯ              + 2⋅β(t, x, y)⋅ℯ  \n",
       "⎢                                                                                                                          \n",
       "⎢                                                                                                                          \n",
       "⎢                                     0                                                                           0        \n",
       "⎢                                                                                                                          \n",
       "⎢                                                                                                                          \n",
       "⎣                                     0                                                                           0        \n",
       "\n",
       "                                                                                                                      ⎤\n",
       "                                                                  0                                            0      ⎥\n",
       "                                                                                                                      ⎥\n",
       "⋅Λ(t, x, y)    -2⋅Λ(t, x, y)                                                                                          ⎥\n",
       "            + ℯ                                                   0                                            0      ⎥\n",
       "                                                                                                                      ⎥\n",
       "                               2           -2⋅Λ(t, x, y)                 -2⋅Λ(t, x, y)    -2⋅Λ(t, x, y)               ⎥\n",
       "                              α (t, x, y)⋅ℯ              + 2⋅α(t, x, y)⋅ℯ              + ℯ                     0      ⎥\n",
       "                                                                                                                      ⎥\n",
       "                                                                                                          2⋅Λ(t, x, y)⎥\n",
       "                                                                  0                                      ℯ            ⎦"
      ]
     },
     "execution_count": 12,
     "metadata": {},
     "output_type": "execute_result"
    }
   ],
   "source": [
    "g = zeros(4)\n",
    "\n",
    "for i in range(4):\n",
    "    for j in range(4):\n",
    "        if i == j:\n",
    "            g[i,j] = lineElement.coeff( differentials[i],2 ) \n",
    "        else:\n",
    "            g[i,j] = Rational(1,2)*lineElement.coeff( differentials[i]*differentials[j],1 )\n",
    "            \n",
    "g"
   ]
  },
  {
   "cell_type": "code",
   "execution_count": 13,
   "id": "05bf9530",
   "metadata": {},
   "outputs": [
    {
     "data": {
      "text/latex": [
       "$\\displaystyle \\left[\\begin{matrix}- \\left(\\gamma^{2}{\\left(t,x,y \\right)} + 2 \\gamma{\\left(t,x,y \\right)} + 1\\right) e^{- 2 \\left(\\Lambda{\\left(t,x,y \\right)}\\right)} & 0 & 0 & 0\\\\0 & \\left(\\beta^{2}{\\left(t,x,y \\right)} + 2 \\beta{\\left(t,x,y \\right)} + 1\\right) e^{- 2 \\left(\\Lambda{\\left(t,x,y \\right)}\\right)} & 0 & 0\\\\0 & 0 & \\left(\\alpha^{2}{\\left(t,x,y \\right)} + 2 \\alpha{\\left(t,x,y \\right)} + 1\\right) e^{- 2 \\left(\\Lambda{\\left(t,x,y \\right)}\\right)} & 0\\\\0 & 0 & 0 & e^{2 \\left(\\Lambda{\\left(t,x,y \\right)}\\right)}\\end{matrix}\\right]$"
      ],
      "text/plain": [
       "⎡ ⎛ 2                            ⎞  -2⋅Λ(t, x, y)                                                                          \n",
       "⎢-⎝γ (t, x, y) + 2⋅γ(t, x, y) + 1⎠⋅ℯ                                      0                                                \n",
       "⎢                                                                                                                          \n",
       "⎢                                                  ⎛ 2                            ⎞  -2⋅Λ(t, x, y)                         \n",
       "⎢                       0                          ⎝β (t, x, y) + 2⋅β(t, x, y) + 1⎠⋅ℯ                                      \n",
       "⎢                                                                                                                          \n",
       "⎢                                                                                                   ⎛ 2                    \n",
       "⎢                       0                                                 0                         ⎝α (t, x, y) + 2⋅α(t, x\n",
       "⎢                                                                                                                          \n",
       "⎢                                                                                                                          \n",
       "⎣                       0                                                 0                                                \n",
       "\n",
       "                                       ⎤\n",
       "0                               0      ⎥\n",
       "                                       ⎥\n",
       "                                       ⎥\n",
       "0                               0      ⎥\n",
       "                                       ⎥\n",
       "        ⎞  -2⋅Λ(t, x, y)               ⎥\n",
       ", y) + 1⎠⋅ℯ                     0      ⎥\n",
       "                                       ⎥\n",
       "                           2⋅Λ(t, x, y)⎥\n",
       "0                         ℯ            ⎦"
      ]
     },
     "execution_count": 13,
     "metadata": {},
     "output_type": "execute_result"
    }
   ],
   "source": [
    "factor(simplify(g))"
   ]
  },
  {
   "cell_type": "code",
   "execution_count": 14,
   "id": "f4d3a5c2",
   "metadata": {},
   "outputs": [
    {
     "data": {
      "image/png": "[encoded data removed]",
      "text/latex": [
       "$\\displaystyle - \\left(\\gamma{\\left(t,x,y \\right)} + 1\\right)^{2} e^{- 2 \\left(\\Lambda{\\left(t,x,y \\right)}\\right)}$"
      ],
      "text/plain": [
       "                 2  -2⋅Λ(t, x, y)\n",
       "-(γ(t, x, y) + 1) ⋅ℯ             "
      ]
     },
     "execution_count": 14,
     "metadata": {},
     "output_type": "execute_result"
    }
   ],
   "source": [
    "factor(g[0,0])"
   ]
  },
  {
   "cell_type": "markdown",
   "id": "8fcb2b6e",
   "metadata": {},
   "source": [
    "Not sure why it will factor individual elements but not each element in the metric as a whole.  FIND OUT WHY"
   ]
  },
  {
   "cell_type": "code",
   "execution_count": 15,
   "id": "2d9439d7",
   "metadata": {},
   "outputs": [],
   "source": [
    "import sympy"
   ]
  },
  {
   "cell_type": "code",
   "execution_count": 16,
   "id": "0893a5cb",
   "metadata": {},
   "outputs": [
    {
     "data": {
      "text/latex": [
       "$\\displaystyle \\left[\\begin{matrix}- \\gamma^{2}{\\left(t,x,y \\right)} e^{- 2 \\left(\\Lambda{\\left(t,x,y \\right)}\\right)} - 2 \\gamma{\\left(t,x,y \\right)} e^{- 2 \\left(\\Lambda{\\left(t,x,y \\right)}\\right)} - e^{- 2 \\left(\\Lambda{\\left(t,x,y \\right)}\\right)} & 0 & 0 & 0\\\\0 & \\beta^{2}{\\left(t,x,y \\right)} e^{- 2 \\left(\\Lambda{\\left(t,x,y \\right)}\\right)} + 2 \\beta{\\left(t,x,y \\right)} e^{- 2 \\left(\\Lambda{\\left(t,x,y \\right)}\\right)} + e^{- 2 \\left(\\Lambda{\\left(t,x,y \\right)}\\right)} & 0 & 0\\\\0 & 0 & \\alpha^{2}{\\left(t,x,y \\right)} e^{- 2 \\left(\\Lambda{\\left(t,x,y \\right)}\\right)} + 2 \\alpha{\\left(t,x,y \\right)} e^{- 2 \\left(\\Lambda{\\left(t,x,y \\right)}\\right)} + e^{- 2 \\left(\\Lambda{\\left(t,x,y \\right)}\\right)} & 0\\\\0 & 0 & 0 & e^{2 \\left(\\Lambda{\\left(t,x,y \\right)}\\right)}\\end{matrix}\\right]$"
      ],
      "text/plain": [
       "⎡   2           -2⋅Λ(t, x, y)                 -2⋅Λ(t, x, y)    -2⋅Λ(t, x, y)                                               \n",
       "⎢- γ (t, x, y)⋅ℯ              - 2⋅γ(t, x, y)⋅ℯ              - ℯ                                                   0        \n",
       "⎢                                                                                                                          \n",
       "⎢                                                                              2           -2⋅Λ(t, x, y)                 -2\n",
       "⎢                                     0                                       β (t, x, y)⋅ℯ              + 2⋅β(t, x, y)⋅ℯ  \n",
       "⎢                                                                                                                          \n",
       "⎢                                                                                                                          \n",
       "⎢                                     0                                                                           0        \n",
       "⎢                                                                                                                          \n",
       "⎢                                                                                                                          \n",
       "⎣                                     0                                                                           0        \n",
       "\n",
       "                                                                                                                      ⎤\n",
       "                                                                  0                                            0      ⎥\n",
       "                                                                                                                      ⎥\n",
       "⋅Λ(t, x, y)    -2⋅Λ(t, x, y)                                                                                          ⎥\n",
       "            + ℯ                                                   0                                            0      ⎥\n",
       "                                                                                                                      ⎥\n",
       "                               2           -2⋅Λ(t, x, y)                 -2⋅Λ(t, x, y)    -2⋅Λ(t, x, y)               ⎥\n",
       "                              α (t, x, y)⋅ℯ              + 2⋅α(t, x, y)⋅ℯ              + ℯ                     0      ⎥\n",
       "                                                                                                                      ⎥\n",
       "                                                                                                          2⋅Λ(t, x, y)⎥\n",
       "                                                                  0                                      ℯ            ⎦"
      ]
     },
     "execution_count": 16,
     "metadata": {},
     "output_type": "execute_result"
    }
   ],
   "source": [
    "m = sympy.Array(g)\n",
    "m"
   ]
  },
  {
   "cell_type": "code",
   "execution_count": 17,
   "id": "555bea76",
   "metadata": {},
   "outputs": [],
   "source": [
    "from einsteinpy.symbolic import *"
   ]
  },
  {
   "cell_type": "code",
   "execution_count": 18,
   "id": "d7c076f5",
   "metadata": {},
   "outputs": [],
   "source": [
    "syms = sympy.symbols(\"t x y z\")\n",
    "t,x,y,z = syms"
   ]
  },
  {
   "cell_type": "code",
   "execution_count": 19,
   "id": "612fea37",
   "metadata": {},
   "outputs": [],
   "source": [
    "metric = MetricTensor(m,syms)"
   ]
  },
  {
   "cell_type": "code",
   "execution_count": 20,
   "id": "ca424157",
   "metadata": {},
   "outputs": [
    {
     "data": {
      "text/latex": [
       "$\\displaystyle \\left[\\begin{matrix}\\left[\\begin{matrix}\\frac{- \\gamma{\\left(t,x,y \\right)} \\frac{\\partial}{\\partial t} \\left(\\Lambda{\\left(t,x,y \\right)}\\right) - \\frac{\\partial}{\\partial t} \\left(\\Lambda{\\left(t,x,y \\right)}\\right) + \\frac{\\partial}{\\partial t} \\gamma{\\left(t,x,y \\right)}}{\\gamma{\\left(t,x,y \\right)} + 1} & \\frac{- \\gamma{\\left(t,x,y \\right)} \\frac{\\partial}{\\partial x} \\left(\\Lambda{\\left(t,x,y \\right)}\\right) - \\frac{\\partial}{\\partial x} \\left(\\Lambda{\\left(t,x,y \\right)}\\right) + \\frac{\\partial}{\\partial x} \\gamma{\\left(t,x,y \\right)}}{\\gamma{\\left(t,x,y \\right)} + 1} & \\frac{- \\gamma{\\left(t,x,y \\right)} \\frac{\\partial}{\\partial y} \\left(\\Lambda{\\left(t,x,y \\right)}\\right) - \\frac{\\partial}{\\partial y} \\left(\\Lambda{\\left(t,x,y \\right)}\\right) + \\frac{\\partial}{\\partial y} \\gamma{\\left(t,x,y \\right)}}{\\gamma{\\left(t,x,y \\right)} + 1} & 0\\\\\\frac{- \\gamma{\\left(t,x,y \\right)} \\frac{\\partial}{\\partial x} \\left(\\Lambda{\\left(t,x,y \\right)}\\right) - \\frac{\\partial}{\\partial x} \\left(\\Lambda{\\left(t,x,y \\right)}\\right) + \\frac{\\partial}{\\partial x} \\gamma{\\left(t,x,y \\right)}}{\\gamma{\\left(t,x,y \\right)} + 1} & \\frac{- \\beta^{2}{\\left(t,x,y \\right)} \\frac{\\partial}{\\partial t} \\left(\\Lambda{\\left(t,x,y \\right)}\\right) - 2 \\beta{\\left(t,x,y \\right)} \\frac{\\partial}{\\partial t} \\left(\\Lambda{\\left(t,x,y \\right)}\\right) + \\beta{\\left(t,x,y \\right)} \\frac{\\partial}{\\partial t} \\beta{\\left(t,x,y \\right)} - \\frac{\\partial}{\\partial t} \\left(\\Lambda{\\left(t,x,y \\right)}\\right) + \\frac{\\partial}{\\partial t} \\beta{\\left(t,x,y \\right)}}{\\gamma^{2}{\\left(t,x,y \\right)} + 2 \\gamma{\\left(t,x,y \\right)} + 1} & 0 & 0\\\\\\frac{- \\gamma{\\left(t,x,y \\right)} \\frac{\\partial}{\\partial y} \\left(\\Lambda{\\left(t,x,y \\right)}\\right) - \\frac{\\partial}{\\partial y} \\left(\\Lambda{\\left(t,x,y \\right)}\\right) + \\frac{\\partial}{\\partial y} \\gamma{\\left(t,x,y \\right)}}{\\gamma{\\left(t,x,y \\right)} + 1} & 0 & \\frac{- \\alpha^{2}{\\left(t,x,y \\right)} \\frac{\\partial}{\\partial t} \\left(\\Lambda{\\left(t,x,y \\right)}\\right) - 2 \\alpha{\\left(t,x,y \\right)} \\frac{\\partial}{\\partial t} \\left(\\Lambda{\\left(t,x,y \\right)}\\right) + \\alpha{\\left(t,x,y \\right)} \\frac{\\partial}{\\partial t} \\alpha{\\left(t,x,y \\right)} - \\frac{\\partial}{\\partial t} \\left(\\Lambda{\\left(t,x,y \\right)}\\right) + \\frac{\\partial}{\\partial t} \\alpha{\\left(t,x,y \\right)}}{\\gamma^{2}{\\left(t,x,y \\right)} + 2 \\gamma{\\left(t,x,y \\right)} + 1} & 0\\\\0 & 0 & 0 & \\frac{e^{4 \\left(\\Lambda{\\left(t,x,y \\right)}\\right)} \\frac{\\partial}{\\partial t} \\left(\\Lambda{\\left(t,x,y \\right)}\\right)}{\\gamma^{2}{\\left(t,x,y \\right)} + 2 \\gamma{\\left(t,x,y \\right)} + 1}\\end{matrix}\\right] & \\left[\\begin{matrix}\\frac{- \\gamma^{2}{\\left(t,x,y \\right)} \\frac{\\partial}{\\partial x} \\left(\\Lambda{\\left(t,x,y \\right)}\\right) - 2 \\gamma{\\left(t,x,y \\right)} \\frac{\\partial}{\\partial x} \\left(\\Lambda{\\left(t,x,y \\right)}\\right) + \\gamma{\\left(t,x,y \\right)} \\frac{\\partial}{\\partial x} \\gamma{\\left(t,x,y \\right)} - \\frac{\\partial}{\\partial x} \\left(\\Lambda{\\left(t,x,y \\right)}\\right) + \\frac{\\partial}{\\partial x} \\gamma{\\left(t,x,y \\right)}}{\\beta^{2}{\\left(t,x,y \\right)} + 2 \\beta{\\left(t,x,y \\right)} + 1} & \\frac{- \\beta{\\left(t,x,y \\right)} \\frac{\\partial}{\\partial t} \\left(\\Lambda{\\left(t,x,y \\right)}\\right) - \\frac{\\partial}{\\partial t} \\left(\\Lambda{\\left(t,x,y \\right)}\\right) + \\frac{\\partial}{\\partial t} \\beta{\\left(t,x,y \\right)}}{\\beta{\\left(t,x,y \\right)} + 1} & 0 & 0\\\\\\frac{- \\beta{\\left(t,x,y \\right)} \\frac{\\partial}{\\partial t} \\left(\\Lambda{\\left(t,x,y \\right)}\\right) - \\frac{\\partial}{\\partial t} \\left(\\Lambda{\\left(t,x,y \\right)}\\right) + \\frac{\\partial}{\\partial t} \\beta{\\left(t,x,y \\right)}}{\\beta{\\left(t,x,y \\right)} + 1} & \\frac{- \\beta{\\left(t,x,y \\right)} \\frac{\\partial}{\\partial x} \\left(\\Lambda{\\left(t,x,y \\right)}\\right) - \\frac{\\partial}{\\partial x} \\left(\\Lambda{\\left(t,x,y \\right)}\\right) + \\frac{\\partial}{\\partial x} \\beta{\\left(t,x,y \\right)}}{\\beta{\\left(t,x,y \\right)} + 1} & \\frac{- \\beta{\\left(t,x,y \\right)} \\frac{\\partial}{\\partial y} \\left(\\Lambda{\\left(t,x,y \\right)}\\right) - \\frac{\\partial}{\\partial y} \\left(\\Lambda{\\left(t,x,y \\right)}\\right) + \\frac{\\partial}{\\partial y} \\beta{\\left(t,x,y \\right)}}{\\beta{\\left(t,x,y \\right)} + 1} & 0\\\\0 & \\frac{- \\beta{\\left(t,x,y \\right)} \\frac{\\partial}{\\partial y} \\left(\\Lambda{\\left(t,x,y \\right)}\\right) - \\frac{\\partial}{\\partial y} \\left(\\Lambda{\\left(t,x,y \\right)}\\right) + \\frac{\\partial}{\\partial y} \\beta{\\left(t,x,y \\right)}}{\\beta{\\left(t,x,y \\right)} + 1} & \\frac{\\alpha^{2}{\\left(t,x,y \\right)} \\frac{\\partial}{\\partial x} \\left(\\Lambda{\\left(t,x,y \\right)}\\right) + 2 \\alpha{\\left(t,x,y \\right)} \\frac{\\partial}{\\partial x} \\left(\\Lambda{\\left(t,x,y \\right)}\\right) - \\alpha{\\left(t,x,y \\right)} \\frac{\\partial}{\\partial x} \\alpha{\\left(t,x,y \\right)} + \\frac{\\partial}{\\partial x} \\left(\\Lambda{\\left(t,x,y \\right)}\\right) - \\frac{\\partial}{\\partial x} \\alpha{\\left(t,x,y \\right)}}{\\beta^{2}{\\left(t,x,y \\right)} + 2 \\beta{\\left(t,x,y \\right)} + 1} & 0\\\\0 & 0 & 0 & - \\frac{e^{4 \\left(\\Lambda{\\left(t,x,y \\right)}\\right)} \\frac{\\partial}{\\partial x} \\left(\\Lambda{\\left(t,x,y \\right)}\\right)}{\\beta^{2}{\\left(t,x,y \\right)} + 2 \\beta{\\left(t,x,y \\right)} + 1}\\end{matrix}\\right] & \\left[\\begin{matrix}\\frac{- \\gamma^{2}{\\left(t,x,y \\right)} \\frac{\\partial}{\\partial y} \\left(\\Lambda{\\left(t,x,y \\right)}\\right) - 2 \\gamma{\\left(t,x,y \\right)} \\frac{\\partial}{\\partial y} \\left(\\Lambda{\\left(t,x,y \\right)}\\right) + \\gamma{\\left(t,x,y \\right)} \\frac{\\partial}{\\partial y} \\gamma{\\left(t,x,y \\right)} - \\frac{\\partial}{\\partial y} \\left(\\Lambda{\\left(t,x,y \\right)}\\right) + \\frac{\\partial}{\\partial y} \\gamma{\\left(t,x,y \\right)}}{\\alpha^{2}{\\left(t,x,y \\right)} + 2 \\alpha{\\left(t,x,y \\right)} + 1} & 0 & \\frac{- \\alpha{\\left(t,x,y \\right)} \\frac{\\partial}{\\partial t} \\left(\\Lambda{\\left(t,x,y \\right)}\\right) - \\frac{\\partial}{\\partial t} \\left(\\Lambda{\\left(t,x,y \\right)}\\right) + \\frac{\\partial}{\\partial t} \\alpha{\\left(t,x,y \\right)}}{\\alpha{\\left(t,x,y \\right)} + 1} & 0\\\\0 & \\frac{\\beta^{2}{\\left(t,x,y \\right)} \\frac{\\partial}{\\partial y} \\left(\\Lambda{\\left(t,x,y \\right)}\\right) + 2 \\beta{\\left(t,x,y \\right)} \\frac{\\partial}{\\partial y} \\left(\\Lambda{\\left(t,x,y \\right)}\\right) - \\beta{\\left(t,x,y \\right)} \\frac{\\partial}{\\partial y} \\beta{\\left(t,x,y \\right)} + \\frac{\\partial}{\\partial y} \\left(\\Lambda{\\left(t,x,y \\right)}\\right) - \\frac{\\partial}{\\partial y} \\beta{\\left(t,x,y \\right)}}{\\alpha^{2}{\\left(t,x,y \\right)} + 2 \\alpha{\\left(t,x,y \\right)} + 1} & \\frac{- \\alpha{\\left(t,x,y \\right)} \\frac{\\partial}{\\partial x} \\left(\\Lambda{\\left(t,x,y \\right)}\\right) - \\frac{\\partial}{\\partial x} \\left(\\Lambda{\\left(t,x,y \\right)}\\right) + \\frac{\\partial}{\\partial x} \\alpha{\\left(t,x,y \\right)}}{\\alpha{\\left(t,x,y \\right)} + 1} & 0\\\\\\frac{- \\alpha{\\left(t,x,y \\right)} \\frac{\\partial}{\\partial t} \\left(\\Lambda{\\left(t,x,y \\right)}\\right) - \\frac{\\partial}{\\partial t} \\left(\\Lambda{\\left(t,x,y \\right)}\\right) + \\frac{\\partial}{\\partial t} \\alpha{\\left(t,x,y \\right)}}{\\alpha{\\left(t,x,y \\right)} + 1} & \\frac{- \\alpha{\\left(t,x,y \\right)} \\frac{\\partial}{\\partial x} \\left(\\Lambda{\\left(t,x,y \\right)}\\right) - \\frac{\\partial}{\\partial x} \\left(\\Lambda{\\left(t,x,y \\right)}\\right) + \\frac{\\partial}{\\partial x} \\alpha{\\left(t,x,y \\right)}}{\\alpha{\\left(t,x,y \\right)} + 1} & \\frac{- \\alpha{\\left(t,x,y \\right)} \\frac{\\partial}{\\partial y} \\left(\\Lambda{\\left(t,x,y \\right)}\\right) - \\frac{\\partial}{\\partial y} \\left(\\Lambda{\\left(t,x,y \\right)}\\right) + \\frac{\\partial}{\\partial y} \\alpha{\\left(t,x,y \\right)}}{\\alpha{\\left(t,x,y \\right)} + 1} & 0\\\\0 & 0 & 0 & - \\frac{e^{4 \\left(\\Lambda{\\left(t,x,y \\right)}\\right)} \\frac{\\partial}{\\partial y} \\left(\\Lambda{\\left(t,x,y \\right)}\\right)}{\\alpha^{2}{\\left(t,x,y \\right)} + 2 \\alpha{\\left(t,x,y \\right)} + 1}\\end{matrix}\\right] & \\left[\\begin{matrix}0 & 0 & 0 & \\frac{\\partial}{\\partial t} \\left(\\Lambda{\\left(t,x,y \\right)}\\right)\\\\0 & 0 & 0 & \\frac{\\partial}{\\partial x} \\left(\\Lambda{\\left(t,x,y \\right)}\\right)\\\\0 & 0 & 0 & \\frac{\\partial}{\\partial y} \\left(\\Lambda{\\left(t,x,y \\right)}\\right)\\\\\\frac{\\partial}{\\partial t} \\left(\\Lambda{\\left(t,x,y \\right)}\\right) & \\frac{\\partial}{\\partial x} \\left(\\Lambda{\\left(t,x,y \\right)}\\right) & \\frac{\\partial}{\\partial y} \\left(\\Lambda{\\left(t,x,y \\right)}\\right) & 0\\end{matrix}\\right]\\end{matrix}\\right]$"
      ],
      "text/plain": [
       "⎡⎡             ∂                ∂                ∂                                                         ∂               \n",
       "⎢⎢- γ(t, x, y)⋅──(Λ(t, x, y)) - ──(Λ(t, x, y)) + ──(γ(t, x, y))                               - γ(t, x, y)⋅──(Λ(t, x, y)) -\n",
       "⎢⎢             ∂t               ∂t               ∂t                                                        ∂x              \n",
       "⎢⎢─────────────────────────────────────────────────────────────                               ─────────────────────────────\n",
       "⎢⎢                        γ(t, x, y) + 1                                                                              γ(t, \n",
       "⎢⎢                                                                                                                         \n",
       "⎢⎢             ∂                ∂                ∂                  2          ∂                             ∂             \n",
       "⎢⎢- γ(t, x, y)⋅──(Λ(t, x, y)) - ──(Λ(t, x, y)) + ──(γ(t, x, y))  - β (t, x, y)⋅──(Λ(t, x, y)) - 2⋅β(t, x, y)⋅──(Λ(t, x, y))\n",
       "⎢⎢             ∂x               ∂x               ∂x                            ∂t                            ∂t            \n",
       "⎢⎢─────────────────────────────────────────────────────────────  ──────────────────────────────────────────────────────────\n",
       "⎢⎢                        γ(t, x, y) + 1                                                                       2           \n",
       "⎢⎢                                                                                                            γ (t, x, y) +\n",
       "⎢⎢                                                                                                                         \n",
       "⎢⎢             ∂                ∂                ∂                                                                         \n",
       "⎢⎢- γ(t, x, y)⋅──(Λ(t, x, y)) - ──(Λ(t, x, y)) + ──(γ(t, x, y))                                                            \n",
       "⎢⎢             ∂y               ∂y               ∂y                                                                        \n",
       "⎢⎢─────────────────────────────────────────────────────────────                                                            \n",
       "⎢⎢                        γ(t, x, y) + 1                                                                                   \n",
       "⎢⎢                                                                                                                         \n",
       "⎢⎢                                                                                                                         \n",
       "⎢⎢                                                                                                                         \n",
       "⎢⎢                                                                                                                         \n",
       "⎢⎢                                                                                                                         \n",
       "⎢⎢                              0                                                                                          \n",
       "⎢⎢                                                                                                                         \n",
       "⎣⎣                                                                                                                         \n",
       "\n",
       " ∂                ∂                                                                                       ∂                \n",
       " ──(Λ(t, x, y)) + ──(γ(t, x, y))                                                             - γ(t, x, y)⋅──(Λ(t, x, y)) - \n",
       " ∂x               ∂x                                                                                      ∂y               \n",
       "────────────────────────────────                                                             ──────────────────────────────\n",
       "x, y) + 1                                                                                                            γ(t, x\n",
       "                                                                                                                           \n",
       "              ∂                ∂                ∂                                                                          \n",
       " + β(t, x, y)⋅──(β(t, x, y)) - ──(Λ(t, x, y)) + ──(β(t, x, y))                                                             \n",
       "              ∂t               ∂t               ∂t                                                                         \n",
       "──────────────────────────────────────────────────────────────                                                             \n",
       "                                                                                                                           \n",
       " 2⋅γ(t, x, y) + 1                                                                                                          \n",
       "                                                                                                                           \n",
       "                                                                   2          ∂                             ∂              \n",
       "                                                                - α (t, x, y)⋅──(Λ(t, x, y)) - 2⋅α(t, x, y)⋅──(Λ(t, x, y)) \n",
       "                                                                              ∂t                            ∂t             \n",
       " 0                                                              ───────────────────────────────────────────────────────────\n",
       "                                                                                                              2            \n",
       "                                                                                                             γ (t, x, y) + \n",
       "                                                                                                                           \n",
       "                                                                                                                           \n",
       "                                                                                                                           \n",
       "                                                                                                                           \n",
       " 0                                                                                                                         \n",
       "                                                                                                                           \n",
       "                                                                                                                           \n",
       "\n",
       "∂                ∂                                                                           ⎤  ⎡   2          ∂           \n",
       "──(Λ(t, x, y)) + ──(γ(t, x, y))                                                              ⎥  ⎢- γ (t, x, y)⋅──(Λ(t, x, y\n",
       "∂y               ∂y                                                                          ⎥  ⎢              ∂x          \n",
       "───────────────────────────────                                              0               ⎥  ⎢──────────────────────────\n",
       ", y) + 1                                                                                     ⎥  ⎢                          \n",
       "                                                                                             ⎥  ⎢                          \n",
       "                                                                                             ⎥  ⎢                          \n",
       "                                                                                             ⎥  ⎢                          \n",
       "                                                                                             ⎥  ⎢                          \n",
       "0                                                                            0               ⎥  ⎢                          \n",
       "                                                                                             ⎥  ⎢                          \n",
       "                                                                                             ⎥  ⎢                          \n",
       "                                                                                             ⎥  ⎢                          \n",
       "             ∂                ∂                ∂                                             ⎥  ⎢                          \n",
       "+ α(t, x, y)⋅──(α(t, x, y)) - ──(Λ(t, x, y)) + ──(α(t, x, y))                                ⎥  ⎢                          \n",
       "             ∂t               ∂t               ∂t                                            ⎥  ⎢                          \n",
       "─────────────────────────────────────────────────────────────                0               ⎥  ⎢                          \n",
       "                                                                                             ⎥  ⎢                          \n",
       "2⋅γ(t, x, y) + 1                                                                             ⎥  ⎢                          \n",
       "                                                                                             ⎥  ⎢                          \n",
       "                                                                 4⋅Λ(t, x, y) ∂              ⎥  ⎢                          \n",
       "                                                                ℯ            ⋅──(Λ(t, x, y)) ⎥  ⎢                          \n",
       "                                                                              ∂t             ⎥  ⎢                          \n",
       "0                                                              ──────────────────────────────⎥  ⎢                          \n",
       "                                                                2                            ⎥  ⎢                          \n",
       "                                                               γ (t, x, y) + 2⋅γ(t, x, y) + 1⎦  ⎣                          \n",
       "\n",
       "                  ∂                           ∂                ∂                ∂                            ∂             \n",
       ")) - 2⋅γ(t, x, y)⋅──(Λ(t, x, y)) + γ(t, x, y)⋅──(γ(t, x, y)) - ──(Λ(t, x, y)) + ──(γ(t, x, y))  - β(t, x, y)⋅──(Λ(t, x, y))\n",
       "                  ∂x                          ∂x               ∂x               ∂x                           ∂t            \n",
       "──────────────────────────────────────────────────────────────────────────────────────────────  ───────────────────────────\n",
       "                    2                                                                                                   β(t\n",
       "                   β (t, x, y) + 2⋅β(t, x, y) + 1                                                                          \n",
       "                                                                                                                           \n",
       "                ∂                ∂                ∂                                                          ∂             \n",
       "   - β(t, x, y)⋅──(Λ(t, x, y)) - ──(Λ(t, x, y)) + ──(β(t, x, y))                                - β(t, x, y)⋅──(Λ(t, x, y))\n",
       "                ∂t               ∂t               ∂t                                                         ∂x            \n",
       "   ─────────────────────────────────────────────────────────────                                ───────────────────────────\n",
       "                           β(t, x, y) + 1                                                                               β(t\n",
       "                                                                                                                           \n",
       "                                                                                                             ∂             \n",
       "                                                                                                - β(t, x, y)⋅──(Λ(t, x, y))\n",
       "                                                                                                             ∂y            \n",
       "                                 0                                                              ───────────────────────────\n",
       "                                                                                                                        β(t\n",
       "                                                                                                                           \n",
       "                                                                                                                           \n",
       "                                                                                                                           \n",
       "                                                                                                                           \n",
       "                                                                                                                           \n",
       "                                 0                                                                                         \n",
       "                                                                                                                           \n",
       "                                                                                                                           \n",
       "\n",
       "   ∂                ∂                                                                                                      \n",
       " - ──(Λ(t, x, y)) + ──(β(t, x, y))                                                                                         \n",
       "   ∂t               ∂t                                                                                                     \n",
       "──────────────────────────────────                                                            0                            \n",
       ", x, y) + 1                                                                                                                \n",
       "                                                                                                                           \n",
       "                                                                                                                           \n",
       "   ∂                ∂                                                        ∂                ∂                ∂           \n",
       " - ──(Λ(t, x, y)) + ──(β(t, x, y))                              - β(t, x, y)⋅──(Λ(t, x, y)) - ──(Λ(t, x, y)) + ──(β(t, x, y\n",
       "   ∂x               ∂x                                                       ∂y               ∂y               ∂y          \n",
       "──────────────────────────────────                              ───────────────────────────────────────────────────────────\n",
       ", x, y) + 1                                                                             β(t, x, y) + 1                     \n",
       "                                                                                                                           \n",
       "   ∂                ∂                2          ∂                             ∂                           ∂                \n",
       " - ──(Λ(t, x, y)) + ──(β(t, x, y))  α (t, x, y)⋅──(Λ(t, x, y)) + 2⋅α(t, x, y)⋅──(Λ(t, x, y)) - α(t, x, y)⋅──(α(t, x, y)) + \n",
       "   ∂y               ∂y                          ∂x                            ∂x                          ∂x               \n",
       "──────────────────────────────────  ───────────────────────────────────────────────────────────────────────────────────────\n",
       ", x, y) + 1                                                                      2                                         \n",
       "                                                                                β (t, x, y) + 2⋅β(t, x, y) + 1             \n",
       "                                                                                                                           \n",
       "                                                                                                                           \n",
       "                                                                                                                           \n",
       "                                                                                                                           \n",
       "   0                                                                                          0                            \n",
       "                                                                                                                           \n",
       "                                                                                                                           \n",
       "\n",
       "                                                               ⎤  ⎡   2          ∂                             ∂           \n",
       "                                                               ⎥  ⎢- γ (t, x, y)⋅──(Λ(t, x, y)) - 2⋅γ(t, x, y)⋅──(Λ(t, x, y\n",
       "                                                               ⎥  ⎢              ∂y                            ∂y          \n",
       "                                               0               ⎥  ⎢────────────────────────────────────────────────────────\n",
       "                                                               ⎥  ⎢                                              2         \n",
       "                                                               ⎥  ⎢                                             α (t, x, y)\n",
       "                                                               ⎥  ⎢                                                        \n",
       "                                                               ⎥  ⎢                                                        \n",
       "))                                                             ⎥  ⎢                                                        \n",
       "                                                               ⎥  ⎢                                                        \n",
       "──                                             0               ⎥  ⎢                                                        \n",
       "                                                               ⎥  ⎢                                                        \n",
       "                                                               ⎥  ⎢                                                        \n",
       "∂                ∂                                             ⎥  ⎢                                                        \n",
       "──(Λ(t, x, y)) - ──(α(t, x, y))                                ⎥  ⎢                                          ∂             \n",
       "∂x               ∂x                                            ⎥  ⎢                             - α(t, x, y)⋅──(Λ(t, x, y))\n",
       "───────────────────────────────                0               ⎥  ⎢                                          ∂t            \n",
       "                                                               ⎥  ⎢                             ───────────────────────────\n",
       "                                                               ⎥  ⎢                                                     α(t\n",
       "                                                               ⎥  ⎢                                                        \n",
       "                                   4⋅Λ(t, x, y) ∂              ⎥  ⎢                                                        \n",
       "                                 -ℯ            ⋅──(Λ(t, x, y)) ⎥  ⎢                                                        \n",
       "                                                ∂x             ⎥  ⎢                                                        \n",
       "                                 ──────────────────────────────⎥  ⎢                                                        \n",
       "                                  2                            ⎥  ⎢                                                        \n",
       "                                 β (t, x, y) + 2⋅β(t, x, y) + 1⎦  ⎣                                                        \n",
       "\n",
       "                ∂                ∂                ∂                                                                        \n",
       ")) + γ(t, x, y)⋅──(γ(t, x, y)) - ──(Λ(t, x, y)) + ──(γ(t, x, y))                                                           \n",
       "                ∂y               ∂y               ∂y                                                                       \n",
       "────────────────────────────────────────────────────────────────                                                           \n",
       "                                                                                                                           \n",
       " + 2⋅α(t, x, y) + 1                                                                                                        \n",
       "                                                                                                                           \n",
       "                                                                   2          ∂                             ∂              \n",
       "                                                                  β (t, x, y)⋅──(Λ(t, x, y)) + 2⋅β(t, x, y)⋅──(Λ(t, x, y)) \n",
       "                                                                              ∂y                            ∂y             \n",
       "   0                                                              ─────────────────────────────────────────────────────────\n",
       "                                                                                                               2           \n",
       "                                                                                                              α (t, x, y) +\n",
       "                                                                                                                           \n",
       "   ∂                ∂                                                                                      ∂               \n",
       " - ──(Λ(t, x, y)) + ──(α(t, x, y))                                                            - α(t, x, y)⋅──(Λ(t, x, y)) -\n",
       "   ∂t               ∂t                                                                                     ∂x              \n",
       "──────────────────────────────────                                                            ─────────────────────────────\n",
       ", x, y) + 1                                                                                                           α(t, \n",
       "                                                                                                                           \n",
       "                                                                                                                           \n",
       "                                                                                                                           \n",
       "                                                                                                                           \n",
       "   0                                                                                                                       \n",
       "                                                                                                                           \n",
       "                                                                                                                           \n",
       "\n",
       "                                                                            ∂                ∂                ∂            \n",
       "                                                               - α(t, x, y)⋅──(Λ(t, x, y)) - ──(Λ(t, x, y)) + ──(α(t, x, y)\n",
       "                                                                            ∂t               ∂t               ∂t           \n",
       " 0                                                             ────────────────────────────────────────────────────────────\n",
       "                                                                                       α(t, x, y) + 1                      \n",
       "                                                                                                                           \n",
       "                                                                                                                           \n",
       "             ∂                ∂                ∂                            ∂                ∂                ∂            \n",
       "- β(t, x, y)⋅──(β(t, x, y)) + ──(Λ(t, x, y)) - ──(β(t, x, y))  - α(t, x, y)⋅──(Λ(t, x, y)) - ──(Λ(t, x, y)) + ──(α(t, x, y)\n",
       "             ∂y               ∂y               ∂y                           ∂x               ∂x               ∂x           \n",
       "─────────────────────────────────────────────────────────────  ────────────────────────────────────────────────────────────\n",
       "                                                                                       α(t, x, y) + 1                      \n",
       " 2⋅α(t, x, y) + 1                                                                                                          \n",
       "                                                                                                                           \n",
       " ∂                ∂                                                         ∂                ∂                ∂            \n",
       " ──(Λ(t, x, y)) + ──(α(t, x, y))                               - α(t, x, y)⋅──(Λ(t, x, y)) - ──(Λ(t, x, y)) + ──(α(t, x, y)\n",
       " ∂x               ∂x                                                        ∂y               ∂y               ∂y           \n",
       "────────────────────────────────                               ────────────────────────────────────────────────────────────\n",
       "x, y) + 1                                                                              α(t, x, y) + 1                      \n",
       "                                                                                                                           \n",
       "                                                                                                                           \n",
       "                                                                                                                           \n",
       "                                                                                                                           \n",
       " 0                                                                                           0                             \n",
       "                                                                                                                           \n",
       "                                                                                                                           \n",
       "\n",
       "                                 ⎤                                                                  ⎤\n",
       ")                                ⎥                                                                  ⎥\n",
       "                                 ⎥                                                                  ⎥\n",
       "─                0               ⎥                                                                  ⎥\n",
       "                                 ⎥                                                                  ⎥\n",
       "                                 ⎥                                                                  ⎥\n",
       "                                 ⎥  ⎡                                                ∂             ⎤⎥\n",
       "                                 ⎥  ⎢      0               0               0         ──(Λ(t, x, y))⎥⎥\n",
       ")                                ⎥  ⎢                                                ∂t            ⎥⎥\n",
       "                                 ⎥  ⎢                                                              ⎥⎥\n",
       "─                0               ⎥  ⎢                                                ∂             ⎥⎥\n",
       "                                 ⎥  ⎢      0               0               0         ──(Λ(t, x, y))⎥⎥\n",
       "                                 ⎥  ⎢                                                ∂x            ⎥⎥\n",
       "                                 ⎥  ⎢                                                              ⎥⎥\n",
       "                                 ⎥  ⎢                                                ∂             ⎥⎥\n",
       ")                                ⎥  ⎢      0               0               0         ──(Λ(t, x, y))⎥⎥\n",
       "                                 ⎥  ⎢                                                ∂y            ⎥⎥\n",
       "─                0               ⎥  ⎢                                                              ⎥⎥\n",
       "                                 ⎥  ⎢∂               ∂               ∂                             ⎥⎥\n",
       "                                 ⎥  ⎢──(Λ(t, x, y))  ──(Λ(t, x, y))  ──(Λ(t, x, y))        0       ⎥⎥\n",
       "     4⋅Λ(t, x, y) ∂              ⎥  ⎣∂t              ∂x              ∂y                            ⎦⎥\n",
       "   -ℯ            ⋅──(Λ(t, x, y)) ⎥                                                                  ⎥\n",
       "                  ∂y             ⎥                                                                  ⎥\n",
       "   ──────────────────────────────⎥                                                                  ⎥\n",
       "    2                            ⎥                                                                  ⎥\n",
       "   α (t, x, y) + 2⋅α(t, x, y) + 1⎦                                                                  ⎦"
      ]
     },
     "execution_count": 20,
     "metadata": {},
     "output_type": "execute_result"
    }
   ],
   "source": [
    "ch = ChristoffelSymbols.from_metric(metric)\n",
    "simplify(ch.tensor())"
   ]
  },
  {
   "cell_type": "code",
   "execution_count": null,
   "id": "77791a90",
   "metadata": {},
   "outputs": [],
   "source": [
    "Ric = RicciTensor.from_metric(metric)\n",
    "Ric.tensor()"
   ]
  },
  {
   "cell_type": "code",
   "execution_count": null,
   "id": "c94e0b46",
   "metadata": {},
   "outputs": [],
   "source": [
    "einst = EinsteinTensor.from_metric(metric)\n",
    "einst.tensor()"
   ]
  },
  {
   "cell_type": "code",
   "execution_count": null,
   "id": "a566b4d7",
   "metadata": {},
   "outputs": [],
   "source": [
    "# R = RicciScalar.from_riccitensor(Ric)\n",
    "# R.simplify()\n",
    "# R.expr"
   ]
  },
  {
   "cell_type": "code",
   "execution_count": null,
   "id": "9d0aba09",
   "metadata": {},
   "outputs": [],
   "source": [
    "# rm1 = RiemannCurvatureTensor.from_christoffels(ch)\n",
    "# rm1.tensor()"
   ]
  },
  {
   "cell_type": "code",
   "execution_count": null,
   "id": "7033a511",
   "metadata": {},
   "outputs": [],
   "source": [
    "# weyl = WeylTensor.from_metric(metric)\n",
    "# weyl.tensor()"
   ]
  }
 ],
 "metadata": {
  "@webio": {
   "lastCommId": "721f98151fec4202b9ba9932accad86a",
   "lastKernelId": "51adbd2a-a9ac-41c1-b52c-4764c2d9fab1"
  },
  "kernelspec": {
   "display_name": "Python 3 (ipykernel)",
   "language": "python",
   "name": "python3"
  },
  "language_info": {
   "codemirror_mode": {
    "name": "ipython",
    "version": 3
   },
   "file_extension": ".py",
   "mimetype": "text/x-python",
   "name": "python",
   "nbconvert_exporter": "python",
   "pygments_lexer": "ipython3",
   "version": "3.8.8"
  }
 },
 "nbformat": 4,
 "nbformat_minor": 5
}
