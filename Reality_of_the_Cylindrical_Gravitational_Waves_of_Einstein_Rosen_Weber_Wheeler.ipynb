{
 "cells": [
  {
   "cell_type": "markdown",
   "id": "74ef986d",
   "metadata": {},
   "source": [
    "# Reality of the Cylindrical Gravitational Waves of Einstein & Rosen by Weber and Wheeler\n",
    "##  Geoff Cope\n",
    "##  Univeristy of Utah\n",
    "##  December 31, 2021"
   ]
  },
  {
   "cell_type": "markdown",
   "id": "d19f2ca2",
   "metadata": {},
   "source": [
    "https://journals.aps.org/rmp/abstract/10.1103/RevModPhys.29.509"
   ]
  },
  {
   "cell_type": "markdown",
   "id": "efcd9ed3",
   "metadata": {},
   "source": [
    "https://www.youtube.com/watch?v=dVEcHoaSifM"
   ]
  },
  {
   "cell_type": "code",
   "execution_count": 1,
   "id": "36f39356",
   "metadata": {},
   "outputs": [
    {
     "name": "stdout",
     "output_type": "stream",
     "text": [
      "IPython console for SymPy 1.9 (Python 3.8.8-64-bit) (ground types: gmpy)\n",
      "\n",
      "These commands were executed:\n",
      ">>> from __future__ import division\n",
      ">>> from sympy import *\n",
      ">>> x, y, z, t = symbols('x y z t')\n",
      ">>> k, m, n = symbols('k m n', integer=True)\n",
      ">>> f, g, h = symbols('f g h', cls=Function)\n",
      ">>> init_printing()\n",
      "\n",
      "Documentation can be found at https://docs.sympy.org/1.9/\n",
      "\n"
     ]
    }
   ],
   "source": [
    "from sympy import init_session\n",
    "init_session(use_latex=True)"
   ]
  },
  {
   "cell_type": "code",
   "execution_count": 2,
   "id": "51ed8e20",
   "metadata": {},
   "outputs": [],
   "source": [
    "import warnings\n",
    "import matplotlib.cbook\n",
    "warnings.filterwarnings(\"ignore\",category=matplotlib.cbook.mplDeprecation)"
   ]
  },
  {
   "cell_type": "code",
   "execution_count": 3,
   "id": "8c568782",
   "metadata": {},
   "outputs": [],
   "source": [
    "T,rho,phi,z,dT,drho,dphi,dz = symbols( 'T rho phi z dT drho dphi dz' )"
   ]
  },
  {
   "cell_type": "code",
   "execution_count": 4,
   "id": "dc223bc6",
   "metadata": {},
   "outputs": [
    {
     "data": {
      "image/png": "[encoded data removed]",
      "text/latex": [
       "$\\displaystyle \\psi{\\left(\\rho,T \\right)}$"
      ],
      "text/plain": [
       "ψ(ρ, T)"
      ]
     },
     "execution_count": 4,
     "metadata": {},
     "output_type": "execute_result"
    }
   ],
   "source": [
    "psi = Function('psi')(rho,T)\n",
    "psi"
   ]
  },
  {
   "cell_type": "code",
   "execution_count": 5,
   "id": "f03b8f22",
   "metadata": {
    "scrolled": true
   },
   "outputs": [
    {
     "data": {
      "image/png": "[encoded data removed]",
      "text/latex": [
       "$\\displaystyle \\gamma{\\left(\\rho,T \\right)}$"
      ],
      "text/plain": [
       "γ(ρ, T)"
      ]
     },
     "execution_count": 5,
     "metadata": {},
     "output_type": "execute_result"
    }
   ],
   "source": [
    "gamma = Function('gamma')(rho,T)\n",
    "gamma"
   ]
  },
  {
   "cell_type": "code",
   "execution_count": 6,
   "id": "6e83c982",
   "metadata": {},
   "outputs": [
    {
     "data": {
      "text/latex": [
       "$\\displaystyle \\left[\\begin{matrix}T\\\\\\rho\\\\\\phi\\\\z\\end{matrix}\\right]$"
      ],
      "text/plain": [
       "⎡T⎤\n",
       "⎢ ⎥\n",
       "⎢ρ⎥\n",
       "⎢ ⎥\n",
       "⎢φ⎥\n",
       "⎢ ⎥\n",
       "⎣z⎦"
      ]
     },
     "execution_count": 6,
     "metadata": {},
     "output_type": "execute_result"
    }
   ],
   "source": [
    "variables = Matrix( [T,rho,phi,z] )\n",
    "variables"
   ]
  },
  {
   "cell_type": "code",
   "execution_count": 7,
   "id": "2e76fb75",
   "metadata": {},
   "outputs": [
    {
     "data": {
      "text/latex": [
       "$\\displaystyle \\left[\\begin{matrix}dT\\\\drho\\\\dphi\\\\dz\\end{matrix}\\right]$"
      ],
      "text/plain": [
       "⎡ dT ⎤\n",
       "⎢    ⎥\n",
       "⎢drho⎥\n",
       "⎢    ⎥\n",
       "⎢dphi⎥\n",
       "⎢    ⎥\n",
       "⎣ dz ⎦"
      ]
     },
     "execution_count": 7,
     "metadata": {},
     "output_type": "execute_result"
    }
   ],
   "source": [
    "differentials = Matrix( [dT,drho,dphi,dz] ) \n",
    "differentials"
   ]
  },
  {
   "cell_type": "code",
   "execution_count": 8,
   "id": "570d8638",
   "metadata": {},
   "outputs": [
    {
     "data": {
      "image/png": "[encoded data removed]",
      "text/latex": [
       "$\\displaystyle - dT^{2} e^{2 \\gamma{\\left(\\rho,T \\right)}} e^{- 2 \\psi{\\left(\\rho,T \\right)}} + dphi^{2} \\rho^{2} e^{- 2 \\psi{\\left(\\rho,T \\right)}} - drho^{2} e^{2 \\gamma{\\left(\\rho,T \\right)}} e^{- 2 \\psi{\\left(\\rho,T \\right)}} + dz^{2} e^{2 \\psi{\\left(\\rho,T \\right)}}$"
      ],
      "text/plain": [
       "    2  2⋅γ(ρ, T)  -2⋅ψ(ρ, T)       2  2  -2⋅ψ(ρ, T)       2  2⋅γ(ρ, T)  -2⋅ψ(ρ, T)     2  2⋅ψ(ρ, T)\n",
       "- dT ⋅ℯ         ⋅ℯ           + dphi ⋅ρ ⋅ℯ           - drho ⋅ℯ         ⋅ℯ           + dz ⋅ℯ         "
      ]
     },
     "execution_count": 8,
     "metadata": {},
     "output_type": "execute_result"
    }
   ],
   "source": [
    "lineElement = expand(  exp(2*(gamma-psi))*(-dT**2 - drho**2) + rho**2 * exp(-2*psi) * dphi**2 +exp(2*psi)*dz**2 )\n",
    "lineElement"
   ]
  },
  {
   "cell_type": "code",
   "execution_count": 9,
   "id": "834f120a",
   "metadata": {},
   "outputs": [
    {
     "data": {
      "text/latex": [
       "$\\displaystyle \\left[\\begin{matrix}- e^{2 \\gamma{\\left(\\rho,T \\right)}} e^{- 2 \\psi{\\left(\\rho,T \\right)}} & 0 & 0 & 0\\\\0 & - e^{2 \\gamma{\\left(\\rho,T \\right)}} e^{- 2 \\psi{\\left(\\rho,T \\right)}} & 0 & 0\\\\0 & 0 & \\rho^{2} e^{- 2 \\psi{\\left(\\rho,T \\right)}} & 0\\\\0 & 0 & 0 & e^{2 \\psi{\\left(\\rho,T \\right)}}\\end{matrix}\\right]$"
      ],
      "text/plain": [
       "⎡  2⋅γ(ρ, T)  -2⋅ψ(ρ, T)                                                     ⎤\n",
       "⎢-ℯ         ⋅ℯ                       0                   0             0     ⎥\n",
       "⎢                                                                            ⎥\n",
       "⎢                           2⋅γ(ρ, T)  -2⋅ψ(ρ, T)                            ⎥\n",
       "⎢           0             -ℯ         ⋅ℯ                  0             0     ⎥\n",
       "⎢                                                                            ⎥\n",
       "⎢                                                   2  -2⋅ψ(ρ, T)            ⎥\n",
       "⎢           0                        0             ρ ⋅ℯ                0     ⎥\n",
       "⎢                                                                            ⎥\n",
       "⎢                                                                   2⋅ψ(ρ, T)⎥\n",
       "⎣           0                        0                   0         ℯ         ⎦"
      ]
     },
     "execution_count": 9,
     "metadata": {},
     "output_type": "execute_result"
    }
   ],
   "source": [
    "g = zeros(4)\n",
    "\n",
    "for i in range(4):\n",
    "    for j in range(4):\n",
    "        if i == j:\n",
    "            g[i,j] = lineElement.coeff( differentials[i],2 ) \n",
    "        else:\n",
    "            g[i,j] = Rational(1,2)*lineElement.coeff( differentials[i]*differentials[j],1 )\n",
    "            \n",
    "g"
   ]
  },
  {
   "cell_type": "code",
   "execution_count": 10,
   "id": "bd74b7c5",
   "metadata": {},
   "outputs": [],
   "source": [
    "import sympy"
   ]
  },
  {
   "cell_type": "code",
   "execution_count": 11,
   "id": "e9607ccd",
   "metadata": {},
   "outputs": [
    {
     "data": {
      "text/latex": [
       "$\\displaystyle \\left[\\begin{matrix}- e^{2 \\gamma{\\left(\\rho,T \\right)}} e^{- 2 \\psi{\\left(\\rho,T \\right)}} & 0 & 0 & 0\\\\0 & - e^{2 \\gamma{\\left(\\rho,T \\right)}} e^{- 2 \\psi{\\left(\\rho,T \\right)}} & 0 & 0\\\\0 & 0 & \\rho^{2} e^{- 2 \\psi{\\left(\\rho,T \\right)}} & 0\\\\0 & 0 & 0 & e^{2 \\psi{\\left(\\rho,T \\right)}}\\end{matrix}\\right]$"
      ],
      "text/plain": [
       "⎡  2⋅γ(ρ, T)  -2⋅ψ(ρ, T)                                                     ⎤\n",
       "⎢-ℯ         ⋅ℯ                       0                   0             0     ⎥\n",
       "⎢                                                                            ⎥\n",
       "⎢                           2⋅γ(ρ, T)  -2⋅ψ(ρ, T)                            ⎥\n",
       "⎢           0             -ℯ         ⋅ℯ                  0             0     ⎥\n",
       "⎢                                                                            ⎥\n",
       "⎢                                                   2  -2⋅ψ(ρ, T)            ⎥\n",
       "⎢           0                        0             ρ ⋅ℯ                0     ⎥\n",
       "⎢                                                                            ⎥\n",
       "⎢                                                                   2⋅ψ(ρ, T)⎥\n",
       "⎣           0                        0                   0         ℯ         ⎦"
      ]
     },
     "execution_count": 11,
     "metadata": {},
     "output_type": "execute_result"
    }
   ],
   "source": [
    "m = sympy.Array(g)\n",
    "m"
   ]
  },
  {
   "cell_type": "code",
   "execution_count": 12,
   "id": "32b23fb2",
   "metadata": {},
   "outputs": [],
   "source": [
    "from einsteinpy.symbolic import *"
   ]
  },
  {
   "cell_type": "code",
   "execution_count": 13,
   "id": "9dfaf0c1",
   "metadata": {},
   "outputs": [],
   "source": [
    "syms = sympy.symbols(\"T rho phi z\")\n",
    "t,rho,phi,z = syms"
   ]
  },
  {
   "cell_type": "code",
   "execution_count": 14,
   "id": "394d8e24",
   "metadata": {},
   "outputs": [],
   "source": [
    "metric = MetricTensor(m,syms)"
   ]
  },
  {
   "cell_type": "code",
   "execution_count": 15,
   "id": "15155e80",
   "metadata": {},
   "outputs": [
    {
     "data": {
      "text/latex": [
       "$\\displaystyle \\left[\\begin{matrix}\\left[\\begin{matrix}- \\frac{\\left(- 2 e^{2 \\gamma{\\left(\\rho,T \\right)}} e^{- 2 \\psi{\\left(\\rho,T \\right)}} \\frac{\\partial}{\\partial T} \\gamma{\\left(\\rho,T \\right)} + 2 e^{2 \\gamma{\\left(\\rho,T \\right)}} e^{- 2 \\psi{\\left(\\rho,T \\right)}} \\frac{\\partial}{\\partial T} \\psi{\\left(\\rho,T \\right)}\\right) e^{- 2 \\gamma{\\left(\\rho,T \\right)}} e^{2 \\psi{\\left(\\rho,T \\right)}}}{2} & - \\frac{\\left(- 2 e^{2 \\gamma{\\left(\\rho,T \\right)}} e^{- 2 \\psi{\\left(\\rho,T \\right)}} \\frac{\\partial}{\\partial \\rho} \\gamma{\\left(\\rho,T \\right)} + 2 e^{2 \\gamma{\\left(\\rho,T \\right)}} e^{- 2 \\psi{\\left(\\rho,T \\right)}} \\frac{\\partial}{\\partial \\rho} \\psi{\\left(\\rho,T \\right)}\\right) e^{- 2 \\gamma{\\left(\\rho,T \\right)}} e^{2 \\psi{\\left(\\rho,T \\right)}}}{2} & 0 & 0\\\\- \\frac{\\left(- 2 e^{2 \\gamma{\\left(\\rho,T \\right)}} e^{- 2 \\psi{\\left(\\rho,T \\right)}} \\frac{\\partial}{\\partial \\rho} \\gamma{\\left(\\rho,T \\right)} + 2 e^{2 \\gamma{\\left(\\rho,T \\right)}} e^{- 2 \\psi{\\left(\\rho,T \\right)}} \\frac{\\partial}{\\partial \\rho} \\psi{\\left(\\rho,T \\right)}\\right) e^{- 2 \\gamma{\\left(\\rho,T \\right)}} e^{2 \\psi{\\left(\\rho,T \\right)}}}{2} & - \\frac{\\left(2 e^{2 \\gamma{\\left(\\rho,T \\right)}} e^{- 2 \\psi{\\left(\\rho,T \\right)}} \\frac{\\partial}{\\partial T} \\gamma{\\left(\\rho,T \\right)} - 2 e^{2 \\gamma{\\left(\\rho,T \\right)}} e^{- 2 \\psi{\\left(\\rho,T \\right)}} \\frac{\\partial}{\\partial T} \\psi{\\left(\\rho,T \\right)}\\right) e^{- 2 \\gamma{\\left(\\rho,T \\right)}} e^{2 \\psi{\\left(\\rho,T \\right)}}}{2} & 0 & 0\\\\0 & 0 & - \\rho^{2} e^{- 2 \\gamma{\\left(\\rho,T \\right)}} \\frac{\\partial}{\\partial T} \\psi{\\left(\\rho,T \\right)} & 0\\\\0 & 0 & 0 & e^{- 2 \\gamma{\\left(\\rho,T \\right)}} e^{4 \\psi{\\left(\\rho,T \\right)}} \\frac{\\partial}{\\partial T} \\psi{\\left(\\rho,T \\right)}\\end{matrix}\\right] & \\left[\\begin{matrix}- \\frac{\\left(2 e^{2 \\gamma{\\left(\\rho,T \\right)}} e^{- 2 \\psi{\\left(\\rho,T \\right)}} \\frac{\\partial}{\\partial \\rho} \\gamma{\\left(\\rho,T \\right)} - 2 e^{2 \\gamma{\\left(\\rho,T \\right)}} e^{- 2 \\psi{\\left(\\rho,T \\right)}} \\frac{\\partial}{\\partial \\rho} \\psi{\\left(\\rho,T \\right)}\\right) e^{- 2 \\gamma{\\left(\\rho,T \\right)}} e^{2 \\psi{\\left(\\rho,T \\right)}}}{2} & - \\frac{\\left(- 2 e^{2 \\gamma{\\left(\\rho,T \\right)}} e^{- 2 \\psi{\\left(\\rho,T \\right)}} \\frac{\\partial}{\\partial T} \\gamma{\\left(\\rho,T \\right)} + 2 e^{2 \\gamma{\\left(\\rho,T \\right)}} e^{- 2 \\psi{\\left(\\rho,T \\right)}} \\frac{\\partial}{\\partial T} \\psi{\\left(\\rho,T \\right)}\\right) e^{- 2 \\gamma{\\left(\\rho,T \\right)}} e^{2 \\psi{\\left(\\rho,T \\right)}}}{2} & 0 & 0\\\\- \\frac{\\left(- 2 e^{2 \\gamma{\\left(\\rho,T \\right)}} e^{- 2 \\psi{\\left(\\rho,T \\right)}} \\frac{\\partial}{\\partial T} \\gamma{\\left(\\rho,T \\right)} + 2 e^{2 \\gamma{\\left(\\rho,T \\right)}} e^{- 2 \\psi{\\left(\\rho,T \\right)}} \\frac{\\partial}{\\partial T} \\psi{\\left(\\rho,T \\right)}\\right) e^{- 2 \\gamma{\\left(\\rho,T \\right)}} e^{2 \\psi{\\left(\\rho,T \\right)}}}{2} & - \\frac{\\left(- 2 e^{2 \\gamma{\\left(\\rho,T \\right)}} e^{- 2 \\psi{\\left(\\rho,T \\right)}} \\frac{\\partial}{\\partial \\rho} \\gamma{\\left(\\rho,T \\right)} + 2 e^{2 \\gamma{\\left(\\rho,T \\right)}} e^{- 2 \\psi{\\left(\\rho,T \\right)}} \\frac{\\partial}{\\partial \\rho} \\psi{\\left(\\rho,T \\right)}\\right) e^{- 2 \\gamma{\\left(\\rho,T \\right)}} e^{2 \\psi{\\left(\\rho,T \\right)}}}{2} & 0 & 0\\\\0 & 0 & - \\frac{\\left(2 \\rho^{2} e^{- 2 \\psi{\\left(\\rho,T \\right)}} \\frac{\\partial}{\\partial \\rho} \\psi{\\left(\\rho,T \\right)} - 2 \\rho e^{- 2 \\psi{\\left(\\rho,T \\right)}}\\right) e^{- 2 \\gamma{\\left(\\rho,T \\right)}} e^{2 \\psi{\\left(\\rho,T \\right)}}}{2} & 0\\\\0 & 0 & 0 & e^{- 2 \\gamma{\\left(\\rho,T \\right)}} e^{4 \\psi{\\left(\\rho,T \\right)}} \\frac{\\partial}{\\partial \\rho} \\psi{\\left(\\rho,T \\right)}\\end{matrix}\\right] & \\left[\\begin{matrix}0 & 0 & - \\frac{\\partial}{\\partial T} \\psi{\\left(\\rho,T \\right)} & 0\\\\0 & 0 & \\frac{\\left(- 2 \\rho^{2} e^{- 2 \\psi{\\left(\\rho,T \\right)}} \\frac{\\partial}{\\partial \\rho} \\psi{\\left(\\rho,T \\right)} + 2 \\rho e^{- 2 \\psi{\\left(\\rho,T \\right)}}\\right) e^{2 \\psi{\\left(\\rho,T \\right)}}}{2 \\rho^{2}} & 0\\\\- \\frac{\\partial}{\\partial T} \\psi{\\left(\\rho,T \\right)} & \\frac{\\left(- 2 \\rho^{2} e^{- 2 \\psi{\\left(\\rho,T \\right)}} \\frac{\\partial}{\\partial \\rho} \\psi{\\left(\\rho,T \\right)} + 2 \\rho e^{- 2 \\psi{\\left(\\rho,T \\right)}}\\right) e^{2 \\psi{\\left(\\rho,T \\right)}}}{2 \\rho^{2}} & 0 & 0\\\\0 & 0 & 0 & 0\\end{matrix}\\right] & \\left[\\begin{matrix}0 & 0 & 0 & \\frac{\\partial}{\\partial T} \\psi{\\left(\\rho,T \\right)}\\\\0 & 0 & 0 & \\frac{\\partial}{\\partial \\rho} \\psi{\\left(\\rho,T \\right)}\\\\0 & 0 & 0 & 0\\\\\\frac{\\partial}{\\partial T} \\psi{\\left(\\rho,T \\right)} & \\frac{\\partial}{\\partial \\rho} \\psi{\\left(\\rho,T \\right)} & 0 & 0\\end{matrix}\\right]\\end{matrix}\\right]$"
      ],
      "text/plain": [
       "⎡                                                                                                                                        \n",
       "⎢⎡ ⎛     2⋅γ(ρ, T)  -2⋅ψ(ρ, T) ∂                2⋅γ(ρ, T)  -2⋅ψ(ρ, T) ∂          ⎞  -2⋅γ(ρ, T)  2⋅ψ(ρ, T)    ⎛     2⋅γ(ρ, T)  -2⋅ψ(ρ, T) \n",
       "⎢⎢-⎜- 2⋅ℯ         ⋅ℯ          ⋅──(γ(ρ, T)) + 2⋅ℯ         ⋅ℯ          ⋅──(ψ(ρ, T))⎟⋅ℯ          ⋅ℯ            -⎜- 2⋅ℯ         ⋅ℯ          ⋅\n",
       "⎢⎢ ⎝                           ∂T                                     ∂T         ⎠                           ⎝                           \n",
       "⎢⎢────────────────────────────────────────────────────────────────────────────────────────────────────────  ─────────────────────────────\n",
       "⎢⎢                                                   2                                                                                   \n",
       "⎢⎢                                                                                                                                       \n",
       "⎢⎢ ⎛     2⋅γ(ρ, T)  -2⋅ψ(ρ, T) ∂                2⋅γ(ρ, T)  -2⋅ψ(ρ, T) ∂          ⎞  -2⋅γ(ρ, T)  2⋅ψ(ρ, T)     ⎛   2⋅γ(ρ, T)  -2⋅ψ(ρ, T) ∂\n",
       "⎢⎢-⎜- 2⋅ℯ         ⋅ℯ          ⋅──(γ(ρ, T)) + 2⋅ℯ         ⋅ℯ          ⋅──(ψ(ρ, T))⎟⋅ℯ          ⋅ℯ             -⎜2⋅ℯ         ⋅ℯ          ⋅─\n",
       "⎢⎢ ⎝                           ∂ρ                                     ∂ρ         ⎠                            ⎝                         ∂\n",
       "⎢⎢────────────────────────────────────────────────────────────────────────────────────────────────────────   ────────────────────────────\n",
       "⎢⎢                                                   2                                                                                   \n",
       "⎢⎢                                                                                                                                       \n",
       "⎢⎢                                                                                                                                       \n",
       "⎢⎢                                                   0                                                                                   \n",
       "⎢⎢                                                                                                                                       \n",
       "⎢⎢                                                                                                                                       \n",
       "⎢⎢                                                                                                                                       \n",
       "⎢⎢                                                   0                                                                                   \n",
       "⎢⎣                                                                                                                                       \n",
       "⎣                                                                                                                                        \n",
       "\n",
       "                                                                                                                                         \n",
       "∂                2⋅γ(ρ, T)  -2⋅ψ(ρ, T) ∂          ⎞  -2⋅γ(ρ, T)  2⋅ψ(ρ, T)                                                               \n",
       "──(γ(ρ, T)) + 2⋅ℯ         ⋅ℯ          ⋅──(ψ(ρ, T))⎟⋅ℯ          ⋅ℯ                                                                        \n",
       "∂ρ                                     ∂ρ         ⎠                                                                                      \n",
       "───────────────────────────────────────────────────────────────────────────               0                               0              \n",
       "                      2                                                                                                                  \n",
       "                                                                                                                                         \n",
       "                2⋅γ(ρ, T)  -2⋅ψ(ρ, T) ∂          ⎞  -2⋅γ(ρ, T)  2⋅ψ(ρ, T)                                                                \n",
       "─(γ(ρ, T)) - 2⋅ℯ         ⋅ℯ          ⋅──(ψ(ρ, T))⎟⋅ℯ          ⋅ℯ                                                                         \n",
       "T                                     ∂T         ⎠                                                                                       \n",
       "──────────────────────────────────────────────────────────────────────────                0                               0              \n",
       "                      2                                                                                                                  \n",
       "                                                                                                                                         \n",
       "                                                                               2  -2⋅γ(ρ, T) ∂                                           \n",
       "                      0                                                      -ρ ⋅ℯ          ⋅──(ψ(ρ, T))                  0              \n",
       "                                                                                             ∂T                                          \n",
       "                                                                                                                                         \n",
       "                                                                                                           -2⋅γ(ρ, T)  4⋅ψ(ρ, T) ∂       \n",
       "                      0                                                                   0               ℯ          ⋅ℯ         ⋅──(ψ(ρ, \n",
       "                                                                                                                                 ∂T      \n",
       "                                                                                                                                         \n",
       "\n",
       "      ⎡  ⎛   2⋅γ(ρ, T)  -2⋅ψ(ρ, T) ∂                2⋅γ(ρ, T)  -2⋅ψ(ρ, T) ∂          ⎞  -2⋅γ(ρ, T)  2⋅ψ(ρ, T)     ⎛     2⋅γ(ρ, T)  -2⋅ψ(ρ\n",
       "   ⎤  ⎢ -⎜2⋅ℯ         ⋅ℯ          ⋅──(γ(ρ, T)) - 2⋅ℯ         ⋅ℯ          ⋅──(ψ(ρ, T))⎟⋅ℯ          ⋅ℯ             -⎜- 2⋅ℯ         ⋅ℯ      \n",
       "   ⎥  ⎢  ⎝                         ∂ρ                                     ∂ρ         ⎠                            ⎝                      \n",
       "   ⎥  ⎢ ──────────────────────────────────────────────────────────────────────────────────────────────────────   ────────────────────────\n",
       "   ⎥  ⎢                                                   2                                                                              \n",
       "   ⎥  ⎢                                                                                                                                  \n",
       "   ⎥  ⎢ ⎛     2⋅γ(ρ, T)  -2⋅ψ(ρ, T) ∂                2⋅γ(ρ, T)  -2⋅ψ(ρ, T) ∂          ⎞  -2⋅γ(ρ, T)  2⋅ψ(ρ, T)    ⎛     2⋅γ(ρ, T)  -2⋅ψ(ρ\n",
       "   ⎥  ⎢-⎜- 2⋅ℯ         ⋅ℯ          ⋅──(γ(ρ, T)) + 2⋅ℯ         ⋅ℯ          ⋅──(ψ(ρ, T))⎟⋅ℯ          ⋅ℯ            -⎜- 2⋅ℯ         ⋅ℯ      \n",
       "   ⎥  ⎢ ⎝                           ∂T                                     ∂T         ⎠                           ⎝                      \n",
       "   ⎥  ⎢────────────────────────────────────────────────────────────────────────────────────────────────────────  ────────────────────────\n",
       "   ⎥  ⎢                                                   2                                                                              \n",
       "   ⎥  ⎢                                                                                                                                  \n",
       "   ⎥  ⎢                                                                                                                                  \n",
       "   ⎥  ⎢                                                                                                                                  \n",
       "   ⎥  ⎢                                                                                                                                  \n",
       "   ⎥  ⎢                                                   0                                                                              \n",
       "   ⎥  ⎢                                                                                                                                  \n",
       "   ⎥  ⎢                                                                                                                                  \n",
       "T))⎥  ⎢                                                                                                                                  \n",
       "   ⎦  ⎢                                                   0                                                                              \n",
       "      ⎣                                                                                                                                  \n",
       "\n",
       ", T) ∂                2⋅γ(ρ, T)  -2⋅ψ(ρ, T) ∂          ⎞  -2⋅γ(ρ, T)  2⋅ψ(ρ, T)                                                          \n",
       "    ⋅──(γ(ρ, T)) + 2⋅ℯ         ⋅ℯ          ⋅──(ψ(ρ, T))⎟⋅ℯ          ⋅ℯ                                                                   \n",
       "     ∂T                                     ∂T         ⎠                                                                                 \n",
       "────────────────────────────────────────────────────────────────────────────────                                      0                  \n",
       "                           2                                                                                                             \n",
       "                                                                                                                                         \n",
       ", T) ∂                2⋅γ(ρ, T)  -2⋅ψ(ρ, T) ∂          ⎞  -2⋅γ(ρ, T)  2⋅ψ(ρ, T)                                                          \n",
       "    ⋅──(γ(ρ, T)) + 2⋅ℯ         ⋅ℯ          ⋅──(ψ(ρ, T))⎟⋅ℯ          ⋅ℯ                                                                   \n",
       "     ∂ρ                                     ∂ρ         ⎠                                                                                 \n",
       "────────────────────────────────────────────────────────────────────────────────                                      0                  \n",
       "                           2                                                                                                             \n",
       "                                                                                                                                         \n",
       "                                                                                   ⎛   2  -2⋅ψ(ρ, T) ∂                  -2⋅ψ(ρ, T)⎞  -2⋅γ\n",
       "                                                                                  -⎜2⋅ρ ⋅ℯ          ⋅──(ψ(ρ, T)) - 2⋅ρ⋅ℯ          ⎟⋅ℯ    \n",
       "                                                                                   ⎝                 ∂ρ                           ⎠      \n",
       "                           0                                                      ───────────────────────────────────────────────────────\n",
       "                                                                                                                      2                  \n",
       "                                                                                                                                         \n",
       "                                                                                                                                         \n",
       "                           0                                                                                          0                  \n",
       "                                                                                                                                         \n",
       "\n",
       "                                                      ⎤                                                                                  \n",
       "                                                      ⎥  ⎡                                                                               \n",
       "                                                      ⎥  ⎢     0                                      0                                  \n",
       "                                    0                 ⎥  ⎢                                                                               \n",
       "                                                      ⎥  ⎢                                                                               \n",
       "                                                      ⎥  ⎢                                                                             ⎛ \n",
       "                                                      ⎥  ⎢                                                                             ⎜-\n",
       "                                                      ⎥  ⎢                                                                             ⎝ \n",
       "                                                      ⎥  ⎢     0                                      0                                ──\n",
       "                                    0                 ⎥  ⎢                                                                               \n",
       "                                                      ⎥  ⎢                                                                               \n",
       "                                                      ⎥  ⎢                                                                               \n",
       "(ρ, T)  2⋅ψ(ρ, T)                                     ⎥  ⎢              ⎛     2  -2⋅ψ(ρ, T) ∂                  -2⋅ψ(ρ, T)⎞  2⋅ψ(ρ, T)    \n",
       "      ⋅ℯ                                              ⎥  ⎢              ⎜- 2⋅ρ ⋅ℯ          ⋅──(ψ(ρ, T)) + 2⋅ρ⋅ℯ          ⎟⋅ℯ             \n",
       "                                                      ⎥  ⎢ ∂            ⎝                   ∂ρ                           ⎠               \n",
       "──────────────────                  0                 ⎥  ⎢-──(ψ(ρ, T))  ─────────────────────────────────────────────────────────────    \n",
       "                                                      ⎥  ⎢ ∂T                                           2                                \n",
       "                                                      ⎥  ⎢                                           2⋅ρ                                 \n",
       "                     -2⋅γ(ρ, T)  4⋅ψ(ρ, T) ∂          ⎥  ⎢                                                                               \n",
       "                    ℯ          ⋅ℯ         ⋅──(ψ(ρ, T))⎥  ⎣     0                                      0                                  \n",
       "                                           ∂ρ         ⎦                                                                                  \n",
       "\n",
       "                                                                                                           ⎤\n",
       "                       ∂                                      ⎤                                            ⎥\n",
       "                      -──(ψ(ρ, T))                           0⎥                                            ⎥\n",
       "                       ∂T                                     ⎥                                            ⎥\n",
       "                                                              ⎥  ⎡                             ∂          ⎤⎥\n",
       "    2  -2⋅ψ(ρ, T) ∂                  -2⋅ψ(ρ, T)⎞  2⋅ψ(ρ, T)   ⎥  ⎢     0            0       0  ──(ψ(ρ, T))⎥⎥\n",
       " 2⋅ρ ⋅ℯ          ⋅──(ψ(ρ, T)) + 2⋅ρ⋅ℯ          ⎟⋅ℯ            ⎥  ⎢                             ∂T         ⎥⎥\n",
       "                  ∂ρ                           ⎠              ⎥  ⎢                                        ⎥⎥\n",
       "───────────────────────────────────────────────────────────  0⎥  ⎢                             ∂          ⎥⎥\n",
       "                              2                               ⎥  ⎢     0            0       0  ──(ψ(ρ, T))⎥⎥\n",
       "                           2⋅ρ                                ⎥  ⎢                             ∂ρ         ⎥⎥\n",
       "                                                              ⎥  ⎢                                        ⎥⎥\n",
       "                                                              ⎥  ⎢     0            0       0       0     ⎥⎥\n",
       "                                                              ⎥  ⎢                                        ⎥⎥\n",
       "                                                              ⎥  ⎢∂            ∂                          ⎥⎥\n",
       "                            0                                0⎥  ⎢──(ψ(ρ, T))  ──(ψ(ρ, T))  0       0     ⎥⎥\n",
       "                                                              ⎥  ⎣∂T           ∂ρ                         ⎦⎥\n",
       "                                                              ⎥                                            ⎥\n",
       "                                                              ⎥                                            ⎥\n",
       "                            0                                0⎦                                            ⎥\n",
       "                                                                                                           ⎦"
      ]
     },
     "execution_count": 15,
     "metadata": {},
     "output_type": "execute_result"
    }
   ],
   "source": [
    "ch = ChristoffelSymbols.from_metric(metric)\n",
    "ch.tensor()"
   ]
  },
  {
   "cell_type": "code",
   "execution_count": 16,
   "id": "8d739e0c",
   "metadata": {},
   "outputs": [
    {
     "data": {
      "text/latex": [
       "$\\displaystyle \\left[\\begin{matrix}\\frac{\\rho \\left(- \\frac{\\partial^{2}}{\\partial T^{2}} \\gamma{\\left(\\rho,T \\right)} - \\frac{\\partial^{2}}{\\partial \\rho^{2}} \\gamma{\\left(\\rho,T \\right)} - 2 \\left(\\frac{\\partial}{\\partial T} \\psi{\\left(\\rho,T \\right)}\\right)^{2} + \\frac{\\partial^{2}}{\\partial T^{2}} \\psi{\\left(\\rho,T \\right)} + \\frac{\\partial^{2}}{\\partial \\rho^{2}} \\psi{\\left(\\rho,T \\right)}\\right) - \\frac{\\partial}{\\partial \\rho} \\gamma{\\left(\\rho,T \\right)} + \\frac{\\partial}{\\partial \\rho} \\psi{\\left(\\rho,T \\right)}}{\\rho} & - 2 \\frac{\\partial}{\\partial T} \\psi{\\left(\\rho,T \\right)} \\frac{\\partial}{\\partial \\rho} \\psi{\\left(\\rho,T \\right)} + \\frac{\\frac{\\partial}{\\partial T} \\gamma{\\left(\\rho,T \\right)}}{\\rho} & 0 & 0\\\\- 2 \\frac{\\partial}{\\partial T} \\psi{\\left(\\rho,T \\right)} \\frac{\\partial}{\\partial \\rho} \\psi{\\left(\\rho,T \\right)} + \\frac{\\frac{\\partial}{\\partial T} \\gamma{\\left(\\rho,T \\right)}}{\\rho} & \\frac{\\rho \\left(- \\frac{\\partial^{2}}{\\partial T^{2}} \\gamma{\\left(\\rho,T \\right)} - \\frac{\\partial^{2}}{\\partial \\rho^{2}} \\gamma{\\left(\\rho,T \\right)} + \\frac{\\partial^{2}}{\\partial T^{2}} \\psi{\\left(\\rho,T \\right)} - 2 \\left(\\frac{\\partial}{\\partial \\rho} \\psi{\\left(\\rho,T \\right)}\\right)^{2} + \\frac{\\partial^{2}}{\\partial \\rho^{2}} \\psi{\\left(\\rho,T \\right)}\\right) + \\frac{\\partial}{\\partial \\rho} \\gamma{\\left(\\rho,T \\right)} + \\frac{\\partial}{\\partial \\rho} \\psi{\\left(\\rho,T \\right)}}{\\rho} & 0 & 0\\\\0 & 0 & - \\rho \\left(\\rho \\frac{\\partial^{2}}{\\partial T^{2}} \\psi{\\left(\\rho,T \\right)} + \\rho \\frac{\\partial^{2}}{\\partial \\rho^{2}} \\psi{\\left(\\rho,T \\right)} + \\frac{\\partial}{\\partial \\rho} \\psi{\\left(\\rho,T \\right)}\\right) e^{- 2 \\gamma{\\left(\\rho,T \\right)}} & 0\\\\0 & 0 & 0 & \\frac{\\left(\\rho \\frac{\\partial^{2}}{\\partial T^{2}} \\psi{\\left(\\rho,T \\right)} + \\rho \\frac{\\partial^{2}}{\\partial \\rho^{2}} \\psi{\\left(\\rho,T \\right)} + \\frac{\\partial}{\\partial \\rho} \\psi{\\left(\\rho,T \\right)}\\right) e^{- 2 \\gamma{\\left(\\rho,T \\right)} + 4 \\psi{\\left(\\rho,T \\right)}}}{\\rho}\\end{matrix}\\right]$"
      ],
      "text/plain": [
       "⎡  ⎛    2              2                           2     2              2         ⎞                                                      \n",
       "⎢  ⎜   ∂              ∂               ⎛∂          ⎞     ∂              ∂          ⎟   ∂             ∂                                    \n",
       "⎢ρ⋅⎜- ───(γ(ρ, T)) - ───(γ(ρ, T)) - 2⋅⎜──(ψ(ρ, T))⎟  + ───(ψ(ρ, T)) + ───(ψ(ρ, T))⎟ - ──(γ(ρ, T)) + ──(ψ(ρ, T))                          \n",
       "⎢  ⎜    2              2              ⎝∂T         ⎠      2              2         ⎟   ∂ρ            ∂ρ                                   \n",
       "⎢  ⎝  ∂T             ∂ρ                                ∂T             ∂ρ          ⎠                                                      \n",
       "⎢──────────────────────────────────────────────────────────────────────────────────────────────────────────────                          \n",
       "⎢                                                      ρ                                                                                 \n",
       "⎢                                                                                                                                        \n",
       "⎢                                                                                                                  ⎛    2              2 \n",
       "⎢                                                                                                                  ⎜   ∂              ∂  \n",
       "⎢                                                                ∂                                               ρ⋅⎜- ───(γ(ρ, T)) - ───(\n",
       "⎢                                                                ──(γ(ρ, T))                                       ⎜    2              2 \n",
       "⎢                                      ∂           ∂             ∂T                                                ⎝  ∂T             ∂ρ  \n",
       "⎢                                  - 2⋅──(ψ(ρ, T))⋅──(ψ(ρ, T)) + ───────────                                     ────────────────────────\n",
       "⎢                                      ∂T          ∂ρ                 ρ                                                                  \n",
       "⎢                                                                                                                                        \n",
       "⎢                                                                                                                                        \n",
       "⎢                                                                                                                                        \n",
       "⎢                                                      0                                                                                 \n",
       "⎢                                                                                                                                        \n",
       "⎢                                                                                                                                        \n",
       "⎢                                                                                                                                        \n",
       "⎢                                                                                                                                        \n",
       "⎢                                                                                                                                        \n",
       "⎢                                                                                                                                        \n",
       "⎢                                                                                                                                        \n",
       "⎢                                                                                                                                        \n",
       "⎢                                                      0                                                                                 \n",
       "⎣                                                                                                                                        \n",
       "\n",
       "                                                                                                                                         \n",
       "                                                                                                                                         \n",
       "                                        ∂                                                                                                \n",
       "                                        ──(γ(ρ, T))                                                                                      \n",
       "              ∂           ∂             ∂T                                                                                               \n",
       "          - 2⋅──(ψ(ρ, T))⋅──(ψ(ρ, T)) + ───────────                                                                   0                  \n",
       "              ∂T          ∂ρ                 ρ                                                                                           \n",
       "                                                                                                                                         \n",
       "             2                           2     2         ⎞                                                                               \n",
       "            ∂               ⎛∂          ⎞     ∂          ⎟   ∂             ∂                                                             \n",
       "γ(ρ, T)) + ───(ψ(ρ, T)) - 2⋅⎜──(ψ(ρ, T))⎟  + ───(ψ(ρ, T))⎟ + ──(γ(ρ, T)) + ──(ψ(ρ, T))                                                   \n",
       "             2              ⎝∂ρ         ⎠      2         ⎟   ∂ρ            ∂ρ                                                            \n",
       "           ∂T                                ∂ρ          ⎠                                                                               \n",
       "──────────────────────────────────────────────────────────────────────────────────────                                0                  \n",
       "                              ρ                                                                                                          \n",
       "                                                                                                                                         \n",
       "                                                                                           ⎛    2                2                       \n",
       "                                                                                           ⎜   ∂                ∂             ∂          \n",
       "                              0                                                         -ρ⋅⎜ρ⋅───(ψ(ρ, T)) + ρ⋅───(ψ(ρ, T)) + ──(ψ(ρ, T))\n",
       "                                                                                           ⎜    2                2            ∂ρ         \n",
       "                                                                                           ⎝  ∂T               ∂ρ                        \n",
       "                                                                                                                                         \n",
       "                                                                                                                                         \n",
       "                                                                                                                                         \n",
       "                                                                                                                                         \n",
       "                                                                                                                                         \n",
       "                                                                                                                                         \n",
       "                              0                                                                                       0                  \n",
       "                                                                                                                                         \n",
       "\n",
       "                                                                                      ⎤\n",
       "                                                                                      ⎥\n",
       "                                                                                      ⎥\n",
       "                                                                                      ⎥\n",
       "                                                                                      ⎥\n",
       "                                                  0                                   ⎥\n",
       "                                                                                      ⎥\n",
       "                                                                                      ⎥\n",
       "                                                                                      ⎥\n",
       "                                                                                      ⎥\n",
       "                                                                                      ⎥\n",
       "                                                                                      ⎥\n",
       "                                                                                      ⎥\n",
       "                                                  0                                   ⎥\n",
       "                                                                                      ⎥\n",
       "                                                                                      ⎥\n",
       "⎞                                                                                     ⎥\n",
       "⎟  -2⋅γ(ρ, T)                                                                         ⎥\n",
       "⎟⋅ℯ                                               0                                   ⎥\n",
       "⎟                                                                                     ⎥\n",
       "⎠                                                                                     ⎥\n",
       "                                                                                      ⎥\n",
       "               ⎛    2                2                       ⎞                        ⎥\n",
       "               ⎜   ∂                ∂             ∂          ⎟  -2⋅γ(ρ, T) + 4⋅ψ(ρ, T)⎥\n",
       "               ⎜ρ⋅───(ψ(ρ, T)) + ρ⋅───(ψ(ρ, T)) + ──(ψ(ρ, T))⎟⋅ℯ                      ⎥\n",
       "               ⎜    2                2            ∂ρ         ⎟                        ⎥\n",
       "               ⎝  ∂T               ∂ρ                        ⎠                        ⎥\n",
       "               ───────────────────────────────────────────────────────────────────────⎥\n",
       "                                                  ρ                                   ⎦"
      ]
     },
     "execution_count": 16,
     "metadata": {},
     "output_type": "execute_result"
    }
   ],
   "source": [
    "Ric = RicciTensor.from_metric(metric)\n",
    "Ric.tensor()"
   ]
  },
  {
   "cell_type": "code",
   "execution_count": 17,
   "id": "eb395437",
   "metadata": {},
   "outputs": [
    {
     "data": {
      "image/png": "[encoded data removed]",
      "text/latex": [
       "$\\displaystyle \\frac{2 \\left(\\rho \\frac{\\partial^{2}}{\\partial T^{2}} \\gamma{\\left(\\rho,T \\right)} + \\rho \\frac{\\partial^{2}}{\\partial \\rho^{2}} \\gamma{\\left(\\rho,T \\right)} + \\rho \\left(\\frac{\\partial}{\\partial T} \\psi{\\left(\\rho,T \\right)}\\right)^{2} - \\rho \\frac{\\partial^{2}}{\\partial T^{2}} \\psi{\\left(\\rho,T \\right)} + \\rho \\left(\\frac{\\partial}{\\partial \\rho} \\psi{\\left(\\rho,T \\right)}\\right)^{2} - \\rho \\frac{\\partial^{2}}{\\partial \\rho^{2}} \\psi{\\left(\\rho,T \\right)} - \\frac{\\partial}{\\partial \\rho} \\psi{\\left(\\rho,T \\right)}\\right) e^{- 2 \\gamma{\\left(\\rho,T \\right)} + 2 \\psi{\\left(\\rho,T \\right)}}}{\\rho}$"
      ],
      "text/plain": [
       "  ⎛    2                2                           2       2                           2       2                       ⎞                \n",
       "  ⎜   ∂                ∂               ⎛∂          ⎞       ∂               ⎛∂          ⎞       ∂             ∂          ⎟  -2⋅γ(ρ, T) + 2\n",
       "2⋅⎜ρ⋅───(γ(ρ, T)) + ρ⋅───(γ(ρ, T)) + ρ⋅⎜──(ψ(ρ, T))⎟  - ρ⋅───(ψ(ρ, T)) + ρ⋅⎜──(ψ(ρ, T))⎟  - ρ⋅───(ψ(ρ, T)) - ──(ψ(ρ, T))⎟⋅ℯ              \n",
       "  ⎜    2                2              ⎝∂T         ⎠        2              ⎝∂ρ         ⎠        2            ∂ρ         ⎟                \n",
       "  ⎝  ∂T               ∂ρ                                  ∂T                                  ∂ρ                        ⎠                \n",
       "─────────────────────────────────────────────────────────────────────────────────────────────────────────────────────────────────────────\n",
       "                                                                        ρ                                                                \n",
       "\n",
       "        \n",
       "⋅ψ(ρ, T)\n",
       "        \n",
       "        \n",
       "        \n",
       "────────\n",
       "        "
      ]
     },
     "execution_count": 17,
     "metadata": {},
     "output_type": "execute_result"
    }
   ],
   "source": [
    "R = RicciScalar.from_riccitensor(Ric)\n",
    "R.simplify()\n",
    "R.expr"
   ]
  },
  {
   "cell_type": "code",
   "execution_count": 18,
   "id": "dd1638be",
   "metadata": {},
   "outputs": [
    {
     "data": {
      "text/latex": [
       "$\\displaystyle \\left[\\begin{matrix}\\frac{\\rho \\left(- \\frac{\\partial^{2}}{\\partial T^{2}} \\gamma{\\left(\\rho,T \\right)} - \\frac{\\partial^{2}}{\\partial \\rho^{2}} \\gamma{\\left(\\rho,T \\right)} - 2 \\left(\\frac{\\partial}{\\partial T} \\psi{\\left(\\rho,T \\right)}\\right)^{2} + \\frac{\\partial^{2}}{\\partial T^{2}} \\psi{\\left(\\rho,T \\right)} + \\frac{\\partial^{2}}{\\partial \\rho^{2}} \\psi{\\left(\\rho,T \\right)}\\right) - \\frac{\\partial}{\\partial \\rho} \\gamma{\\left(\\rho,T \\right)} + \\frac{\\partial}{\\partial \\rho} \\psi{\\left(\\rho,T \\right)}}{\\rho} + \\frac{1.0 \\left(\\rho \\frac{\\partial^{2}}{\\partial T^{2}} \\gamma{\\left(\\rho,T \\right)} + \\rho \\frac{\\partial^{2}}{\\partial \\rho^{2}} \\gamma{\\left(\\rho,T \\right)} + \\rho \\left(\\frac{\\partial}{\\partial T} \\psi{\\left(\\rho,T \\right)}\\right)^{2} - \\rho \\frac{\\partial^{2}}{\\partial T^{2}} \\psi{\\left(\\rho,T \\right)} + \\rho \\left(\\frac{\\partial}{\\partial \\rho} \\psi{\\left(\\rho,T \\right)}\\right)^{2} - \\rho \\frac{\\partial^{2}}{\\partial \\rho^{2}} \\psi{\\left(\\rho,T \\right)} - \\frac{\\partial}{\\partial \\rho} \\psi{\\left(\\rho,T \\right)}\\right) e^{- 2 \\gamma{\\left(\\rho,T \\right)} + 2 \\psi{\\left(\\rho,T \\right)}} e^{2 \\gamma{\\left(\\rho,T \\right)}} e^{- 2 \\psi{\\left(\\rho,T \\right)}}}{\\rho} & - 2 \\frac{\\partial}{\\partial T} \\psi{\\left(\\rho,T \\right)} \\frac{\\partial}{\\partial \\rho} \\psi{\\left(\\rho,T \\right)} + \\frac{\\frac{\\partial}{\\partial T} \\gamma{\\left(\\rho,T \\right)}}{\\rho} & 0 & 0\\\\- 2 \\frac{\\partial}{\\partial T} \\psi{\\left(\\rho,T \\right)} \\frac{\\partial}{\\partial \\rho} \\psi{\\left(\\rho,T \\right)} + \\frac{\\frac{\\partial}{\\partial T} \\gamma{\\left(\\rho,T \\right)}}{\\rho} & \\frac{\\rho \\left(- \\frac{\\partial^{2}}{\\partial T^{2}} \\gamma{\\left(\\rho,T \\right)} - \\frac{\\partial^{2}}{\\partial \\rho^{2}} \\gamma{\\left(\\rho,T \\right)} + \\frac{\\partial^{2}}{\\partial T^{2}} \\psi{\\left(\\rho,T \\right)} - 2 \\left(\\frac{\\partial}{\\partial \\rho} \\psi{\\left(\\rho,T \\right)}\\right)^{2} + \\frac{\\partial^{2}}{\\partial \\rho^{2}} \\psi{\\left(\\rho,T \\right)}\\right) + \\frac{\\partial}{\\partial \\rho} \\gamma{\\left(\\rho,T \\right)} + \\frac{\\partial}{\\partial \\rho} \\psi{\\left(\\rho,T \\right)}}{\\rho} + \\frac{1.0 \\left(\\rho \\frac{\\partial^{2}}{\\partial T^{2}} \\gamma{\\left(\\rho,T \\right)} + \\rho \\frac{\\partial^{2}}{\\partial \\rho^{2}} \\gamma{\\left(\\rho,T \\right)} + \\rho \\left(\\frac{\\partial}{\\partial T} \\psi{\\left(\\rho,T \\right)}\\right)^{2} - \\rho \\frac{\\partial^{2}}{\\partial T^{2}} \\psi{\\left(\\rho,T \\right)} + \\rho \\left(\\frac{\\partial}{\\partial \\rho} \\psi{\\left(\\rho,T \\right)}\\right)^{2} - \\rho \\frac{\\partial^{2}}{\\partial \\rho^{2}} \\psi{\\left(\\rho,T \\right)} - \\frac{\\partial}{\\partial \\rho} \\psi{\\left(\\rho,T \\right)}\\right) e^{- 2 \\gamma{\\left(\\rho,T \\right)} + 2 \\psi{\\left(\\rho,T \\right)}} e^{2 \\gamma{\\left(\\rho,T \\right)}} e^{- 2 \\psi{\\left(\\rho,T \\right)}}}{\\rho} & 0 & 0\\\\0 & 0 & - \\rho \\left(\\rho \\frac{\\partial^{2}}{\\partial T^{2}} \\psi{\\left(\\rho,T \\right)} + \\rho \\frac{\\partial^{2}}{\\partial \\rho^{2}} \\psi{\\left(\\rho,T \\right)} + \\frac{\\partial}{\\partial \\rho} \\psi{\\left(\\rho,T \\right)}\\right) e^{- 2 \\gamma{\\left(\\rho,T \\right)}} - 1.0 \\rho \\left(\\rho \\frac{\\partial^{2}}{\\partial T^{2}} \\gamma{\\left(\\rho,T \\right)} + \\rho \\frac{\\partial^{2}}{\\partial \\rho^{2}} \\gamma{\\left(\\rho,T \\right)} + \\rho \\left(\\frac{\\partial}{\\partial T} \\psi{\\left(\\rho,T \\right)}\\right)^{2} - \\rho \\frac{\\partial^{2}}{\\partial T^{2}} \\psi{\\left(\\rho,T \\right)} + \\rho \\left(\\frac{\\partial}{\\partial \\rho} \\psi{\\left(\\rho,T \\right)}\\right)^{2} - \\rho \\frac{\\partial^{2}}{\\partial \\rho^{2}} \\psi{\\left(\\rho,T \\right)} - \\frac{\\partial}{\\partial \\rho} \\psi{\\left(\\rho,T \\right)}\\right) e^{- 2 \\gamma{\\left(\\rho,T \\right)} + 2 \\psi{\\left(\\rho,T \\right)}} e^{- 2 \\psi{\\left(\\rho,T \\right)}} & 0\\\\0 & 0 & 0 & \\frac{\\left(\\rho \\frac{\\partial^{2}}{\\partial T^{2}} \\psi{\\left(\\rho,T \\right)} + \\rho \\frac{\\partial^{2}}{\\partial \\rho^{2}} \\psi{\\left(\\rho,T \\right)} + \\frac{\\partial}{\\partial \\rho} \\psi{\\left(\\rho,T \\right)}\\right) e^{- 2 \\gamma{\\left(\\rho,T \\right)} + 4 \\psi{\\left(\\rho,T \\right)}}}{\\rho} - \\frac{1.0 \\left(\\rho \\frac{\\partial^{2}}{\\partial T^{2}} \\gamma{\\left(\\rho,T \\right)} + \\rho \\frac{\\partial^{2}}{\\partial \\rho^{2}} \\gamma{\\left(\\rho,T \\right)} + \\rho \\left(\\frac{\\partial}{\\partial T} \\psi{\\left(\\rho,T \\right)}\\right)^{2} - \\rho \\frac{\\partial^{2}}{\\partial T^{2}} \\psi{\\left(\\rho,T \\right)} + \\rho \\left(\\frac{\\partial}{\\partial \\rho} \\psi{\\left(\\rho,T \\right)}\\right)^{2} - \\rho \\frac{\\partial^{2}}{\\partial \\rho^{2}} \\psi{\\left(\\rho,T \\right)} - \\frac{\\partial}{\\partial \\rho} \\psi{\\left(\\rho,T \\right)}\\right) e^{- 2 \\gamma{\\left(\\rho,T \\right)} + 2 \\psi{\\left(\\rho,T \\right)}} e^{2 \\psi{\\left(\\rho,T \\right)}}}{\\rho}\\end{matrix}\\right]$"
      ],
      "text/plain": [
       "⎡  ⎛    2              2                           2     2              2         ⎞                                   ⎛    2             \n",
       "⎢  ⎜   ∂              ∂               ⎛∂          ⎞     ∂              ∂          ⎟   ∂             ∂                 ⎜   ∂              \n",
       "⎢ρ⋅⎜- ───(γ(ρ, T)) - ───(γ(ρ, T)) - 2⋅⎜──(ψ(ρ, T))⎟  + ───(ψ(ρ, T)) + ───(ψ(ρ, T))⎟ - ──(γ(ρ, T)) + ──(ψ(ρ, T))   1.0⋅⎜ρ⋅───(γ(ρ, T)) + ρ\n",
       "⎢  ⎜    2              2              ⎝∂T         ⎠      2              2         ⎟   ∂ρ            ∂ρ                ⎜    2             \n",
       "⎢  ⎝  ∂T             ∂ρ                                ∂T             ∂ρ          ⎠                                   ⎝  ∂T              \n",
       "⎢────────────────────────────────────────────────────────────────────────────────────────────────────────────── + ───────────────────────\n",
       "⎢                                                      ρ                                                                                 \n",
       "⎢                                                                                                                                        \n",
       "⎢                                                                                                                                        \n",
       "⎢                                                                                                                                        \n",
       "⎢                                                                                                                                        \n",
       "⎢                                                                                                                                        \n",
       "⎢                                                                                                                             ∂          \n",
       "⎢                                                                                                                         - 2⋅──(ψ(ρ, T))\n",
       "⎢                                                                                                                             ∂T         \n",
       "⎢                                                                                                                                        \n",
       "⎢                                                                                                                                        \n",
       "⎢                                                                                                                                        \n",
       "⎢                                                                                                                                        \n",
       "⎢                                                                                                                                        \n",
       "⎢                                                                                                                                        \n",
       "⎢                                                                                                                                        \n",
       "⎢                                                                                                                                        \n",
       "⎢                                                                                                                                        \n",
       "⎢                                                                                                                                        \n",
       "⎢                                                                                                                                        \n",
       "⎢                                                                                                                                        \n",
       "⎢                                                                                                                                        \n",
       "⎣                                                                                                                                        \n",
       "\n",
       "   2                           2       2                           2       2                       ⎞                                     \n",
       "  ∂               ⎛∂          ⎞       ∂               ⎛∂          ⎞       ∂             ∂          ⎟  -2⋅γ(ρ, T) + 2⋅ψ(ρ, T)  2⋅γ(ρ, T)  \n",
       "⋅───(γ(ρ, T)) + ρ⋅⎜──(ψ(ρ, T))⎟  - ρ⋅───(ψ(ρ, T)) + ρ⋅⎜──(ψ(ρ, T))⎟  - ρ⋅───(ψ(ρ, T)) - ──(ψ(ρ, T))⎟⋅ℯ                      ⋅ℯ         ⋅ℯ\n",
       "   2              ⎝∂T         ⎠        2              ⎝∂ρ         ⎠        2            ∂ρ         ⎟                                     \n",
       " ∂ρ                                  ∂T                                  ∂ρ                        ⎠                                     \n",
       "─────────────────────────────────────────────────────────────────────────────────────────────────────────────────────────────────────────\n",
       "                                                             ρ                                                                           \n",
       "                                                                                                                                         \n",
       "                                                                                                                                         \n",
       "                                                                                                                                         \n",
       "               ∂                                                                                                                         \n",
       "               ──(γ(ρ, T))                                                                                                               \n",
       " ∂             ∂T                                                                                                                        \n",
       "⋅──(ψ(ρ, T)) + ───────────                                                                                                               \n",
       " ∂ρ                 ρ                                                                                                                    \n",
       "                                                                                                                                         \n",
       "                                                                                                                                         \n",
       "                                                                                                                                         \n",
       "     0                                                                                                                                   \n",
       "                                                                                                                                         \n",
       "                                                                                                                                         \n",
       "                                                                                                                                         \n",
       "                                                                                                                                         \n",
       "                                                                                                                                         \n",
       "                                                                                                                                         \n",
       "                                                                                                                                         \n",
       "                                                                                                                                         \n",
       "     0                                                                                                                                   \n",
       "                                                                                                                                         \n",
       "\n",
       "                                                                                                                                         \n",
       "-2⋅ψ(ρ, T)                                                                                                                               \n",
       "                                                                                                                                         \n",
       "                                                                                                                                         \n",
       "                                                                                                                                         \n",
       "──────────                                                                                                                           - 2⋅\n",
       "                                                                                                                                         \n",
       "                                                                                                                                         \n",
       "              ⎛    2              2              2                           2     2         ⎞                                   ⎛    2  \n",
       "              ⎜   ∂              ∂              ∂               ⎛∂          ⎞     ∂          ⎟   ∂             ∂                 ⎜   ∂   \n",
       "            ρ⋅⎜- ───(γ(ρ, T)) - ───(γ(ρ, T)) + ───(ψ(ρ, T)) - 2⋅⎜──(ψ(ρ, T))⎟  + ───(ψ(ρ, T))⎟ + ──(γ(ρ, T)) + ──(ψ(ρ, T))   1.0⋅⎜ρ⋅───(γ\n",
       "              ⎜    2              2              2              ⎝∂ρ         ⎠      2         ⎟   ∂ρ            ∂ρ                ⎜    2  \n",
       "              ⎝  ∂T             ∂ρ             ∂T                                ∂ρ          ⎠                                   ⎝  ∂T   \n",
       "            ────────────────────────────────────────────────────────────────────────────────────────────────────────────── + ────────────\n",
       "                                                                  ρ                                                                      \n",
       "                                                                                                                                         \n",
       "                                                                                                                                         \n",
       "                                                                                                                                         \n",
       "                                                                                                                                         \n",
       "                                                                                                                                         \n",
       "                                                                                                                                         \n",
       "                                                                                                                                         \n",
       "                                                                                                                                         \n",
       "                                                                                                                                         \n",
       "                                                                                                                                         \n",
       "                                                                                                                                         \n",
       "                                                                                                                                         \n",
       "                                                                                                                                         \n",
       "                                                                                                                                         \n",
       "\n",
       "                                                                                                                                         \n",
       "                                                                                                                                         \n",
       "                          ∂                                                                                                              \n",
       "                          ──(γ(ρ, T))                                                                                                    \n",
       "∂           ∂             ∂T                                                                                                             \n",
       "──(ψ(ρ, T))⋅──(ψ(ρ, T)) + ───────────                                                                                                    \n",
       "∂T          ∂ρ                 ρ                                                                                                         \n",
       "                                                                                                                                         \n",
       "              2                           2       2                           2       2                       ⎞                          \n",
       "             ∂               ⎛∂          ⎞       ∂               ⎛∂          ⎞       ∂             ∂          ⎟  -2⋅γ(ρ, T) + 2⋅ψ(ρ, T)  \n",
       "(ρ, T)) + ρ⋅───(γ(ρ, T)) + ρ⋅⎜──(ψ(ρ, T))⎟  - ρ⋅───(ψ(ρ, T)) + ρ⋅⎜──(ψ(ρ, T))⎟  - ρ⋅───(ψ(ρ, T)) - ──(ψ(ρ, T))⎟⋅ℯ                      ⋅ℯ\n",
       "              2              ⎝∂T         ⎠        2              ⎝∂ρ         ⎠        2            ∂ρ         ⎟                          \n",
       "            ∂ρ                                  ∂T                                  ∂ρ                        ⎠                          \n",
       "─────────────────────────────────────────────────────────────────────────────────────────────────────────────────────────────────────────\n",
       "                                                                        ρ                                                                \n",
       "                                                                                                                                         \n",
       "                                                                                                                                         \n",
       "                                                                                                                                         \n",
       "                0                                                                                                                        \n",
       "                                                                                                                                         \n",
       "                                                                                                                                         \n",
       "                                                                                                                                         \n",
       "                                                                                                                                         \n",
       "                                                                                                                                         \n",
       "                                                                                                                                         \n",
       "                                                                                                                                         \n",
       "                                                                                                                                         \n",
       "                0                                                                                                                        \n",
       "                                                                                                                                         \n",
       "\n",
       "                                                                                                                                         \n",
       "                                                                                                                                         \n",
       "                                                                                                                                         \n",
       "                                                                                                                                         \n",
       "                                                                                                                                         \n",
       "                                                                                                                                      0  \n",
       "                                                                                                                                         \n",
       "                                                                                                                                         \n",
       "                                                                                                                                         \n",
       "2⋅γ(ρ, T)  -2⋅ψ(ρ, T)                                                                                                                    \n",
       "         ⋅ℯ                                                                                                                              \n",
       "                                                                                                                                         \n",
       "                                                                                                                                         \n",
       "─────────────────────                                                                                                                 0  \n",
       "                                                                                                                                         \n",
       "                                                                                                                                         \n",
       "                           ⎛    2                2                       ⎞                 ⎛    2                2                       \n",
       "                           ⎜   ∂                ∂             ∂          ⎟  -2⋅γ(ρ, T)     ⎜   ∂                ∂               ⎛∂       \n",
       "                       - ρ⋅⎜ρ⋅───(ψ(ρ, T)) + ρ⋅───(ψ(ρ, T)) + ──(ψ(ρ, T))⎟⋅ℯ           - ρ⋅⎜ρ⋅───(γ(ρ, T)) + ρ⋅───(γ(ρ, T)) + ρ⋅⎜──(ψ(ρ, \n",
       "                           ⎜    2                2            ∂ρ         ⎟                 ⎜    2                2              ⎝∂T      \n",
       "                           ⎝  ∂T               ∂ρ                        ⎠                 ⎝  ∂T               ∂ρ                        \n",
       "                                                                                                                                         \n",
       "                                                                                                                                         \n",
       "                                                                                                                                         \n",
       "                                                                                                                                         \n",
       "                                                                                                                                         \n",
       "                                                                                                                                         \n",
       "                                                                                                                                      0  \n",
       "                                                                                                                                         \n",
       "\n",
       "                                                                                                                                         \n",
       "                                                                                                                                         \n",
       "                                                                                                                                         \n",
       "                                                                                                                                         \n",
       "                                                                                                                                         \n",
       "                                                                                                                                         \n",
       "                                                                                                                                         \n",
       "                                                                                                                                         \n",
       "                                                                                                                                         \n",
       "                                                                                                                                         \n",
       "                                                                                                                                         \n",
       "                                                                                                                                         \n",
       "                                                                                                                                         \n",
       "                                                                                                                                         \n",
       "                                                                                                                                         \n",
       "                                                                                                                                         \n",
       "    2       2                           2       2                       ⎞                                                                \n",
       "   ⎞       ∂               ⎛∂          ⎞       ∂             ∂          ⎟  -2⋅γ(ρ, T) + 2⋅ψ(ρ, T)  -2⋅ψ(ρ, T)                            \n",
       "T))⎟  - ρ⋅───(ψ(ρ, T)) + ρ⋅⎜──(ψ(ρ, T))⎟  - ρ⋅───(ψ(ρ, T)) - ──(ψ(ρ, T))⎟⋅ℯ                      ⋅ℯ                                      \n",
       "   ⎠        2              ⎝∂ρ         ⎠        2            ∂ρ         ⎟                                                                \n",
       "          ∂T                                  ∂ρ                        ⎠                                                                \n",
       "                                                                                                                                         \n",
       "                                                                                                               ⎛    2                2   \n",
       "                                                                                                               ⎜   ∂                ∂    \n",
       "                                                                                                               ⎜ρ⋅───(ψ(ρ, T)) + ρ⋅───(ψ(\n",
       "                                                                                                               ⎜    2                2   \n",
       "                                                                                                               ⎝  ∂T               ∂ρ    \n",
       "                                                                                                               ──────────────────────────\n",
       "                                                                                                                                         \n",
       "\n",
       "                                                                                                                                         \n",
       "                                                                                                                                         \n",
       "                                                                                                                                         \n",
       "                                                                                                                                         \n",
       "                                                                                                                                         \n",
       "                                                                                       0                                                 \n",
       "                                                                                                                                         \n",
       "                                                                                                                                         \n",
       "                                                                                                                                         \n",
       "                                                                                                                                         \n",
       "                                                                                                                                         \n",
       "                                                                                                                                         \n",
       "                                                                                                                                         \n",
       "                                                                                       0                                                 \n",
       "                                                                                                                                         \n",
       "                                                                                                                                         \n",
       "                                                                                                                                         \n",
       "                                                                                                                                         \n",
       "                                                                                       0                                                 \n",
       "                                                                                                                                         \n",
       "                                                                                                                                         \n",
       "                                                                                                                                         \n",
       "                    ⎞                           ⎛    2                2                           2       2                           2  \n",
       "         ∂          ⎟  -2⋅γ(ρ, T) + 4⋅ψ(ρ, T)   ⎜   ∂                ∂               ⎛∂          ⎞       ∂               ⎛∂          ⎞   \n",
       "ρ, T)) + ──(ψ(ρ, T))⎟⋅ℯ                         ⎜ρ⋅───(γ(ρ, T)) + ρ⋅───(γ(ρ, T)) + ρ⋅⎜──(ψ(ρ, T))⎟  - ρ⋅───(ψ(ρ, T)) + ρ⋅⎜──(ψ(ρ, T))⎟  -\n",
       "         ∂ρ         ⎟                           ⎜    2                2              ⎝∂T         ⎠        2              ⎝∂ρ         ⎠   \n",
       "                    ⎠                           ⎝  ∂T               ∂ρ                                  ∂T                               \n",
       "───────────────────────────────────────────── - ─────────────────────────────────────────────────────────────────────────────────────────\n",
       "         ρ                                                                                                                  ρ            \n",
       "\n",
       "                                                                 ⎤\n",
       "                                                                 ⎥\n",
       "                                                                 ⎥\n",
       "                                                                 ⎥\n",
       "                                                                 ⎥\n",
       "                                                                 ⎥\n",
       "                                                                 ⎥\n",
       "                                                                 ⎥\n",
       "                                                                 ⎥\n",
       "                                                                 ⎥\n",
       "                                                                 ⎥\n",
       "                                                                 ⎥\n",
       "                                                                 ⎥\n",
       "                                                                 ⎥\n",
       "                                                                 ⎥\n",
       "                                                                 ⎥\n",
       "                                                                 ⎥\n",
       "                                                                 ⎥\n",
       "                                                                 ⎥\n",
       "                                                                 ⎥\n",
       "                                                                 ⎥\n",
       "                                                                 ⎥\n",
       "     2                       ⎞                                   ⎥\n",
       "    ∂             ∂          ⎟  -2⋅γ(ρ, T) + 2⋅ψ(ρ, T)  2⋅ψ(ρ, T)⎥\n",
       " ρ⋅───(ψ(ρ, T)) - ──(ψ(ρ, T))⎟⋅ℯ                      ⋅ℯ         ⎥\n",
       "     2            ∂ρ         ⎟                                   ⎥\n",
       "   ∂ρ                        ⎠                                   ⎥\n",
       "─────────────────────────────────────────────────────────────────⎥\n",
       "                                                                 ⎦"
      ]
     },
     "execution_count": 18,
     "metadata": {},
     "output_type": "execute_result"
    }
   ],
   "source": [
    "einst = EinsteinTensor.from_metric(metric)\n",
    "einst.tensor()"
   ]
  },
  {
   "cell_type": "code",
   "execution_count": 19,
   "id": "cff14e97",
   "metadata": {},
   "outputs": [],
   "source": [
    "#  rm1 = RiemannCurvatureTensor.from_christoffels(ch)\n",
    "#  rm1.tensor()"
   ]
  },
  {
   "cell_type": "code",
   "execution_count": 20,
   "id": "5829c932",
   "metadata": {},
   "outputs": [],
   "source": [
    "#  weyl = WeylTensor.from_metric(metric)\n",
    "#  weyl.tensor()"
   ]
  },
  {
   "cell_type": "code",
   "execution_count": 21,
   "id": "1552052b",
   "metadata": {},
   "outputs": [
    {
     "data": {
      "text/latex": [
       "$\\displaystyle \\left[\\begin{matrix}- 1.0 \\left(\\frac{\\partial}{\\partial T} \\psi{\\left(\\rho,T \\right)}\\right)^{2} + 1.0 \\left(\\frac{\\partial}{\\partial \\rho} \\psi{\\left(\\rho,T \\right)}\\right)^{2} - \\frac{1.0 \\frac{\\partial}{\\partial \\rho} \\gamma{\\left(\\rho,T \\right)}}{\\rho} & - 2 \\frac{\\partial}{\\partial T} \\psi{\\left(\\rho,T \\right)} \\frac{\\partial}{\\partial \\rho} \\psi{\\left(\\rho,T \\right)} + \\frac{\\frac{\\partial}{\\partial T} \\gamma{\\left(\\rho,T \\right)}}{\\rho} & 0 & 0\\\\- 2 \\frac{\\partial}{\\partial T} \\psi{\\left(\\rho,T \\right)} \\frac{\\partial}{\\partial \\rho} \\psi{\\left(\\rho,T \\right)} + \\frac{\\frac{\\partial}{\\partial T} \\gamma{\\left(\\rho,T \\right)}}{\\rho} & 1.0 \\left(\\frac{\\partial}{\\partial T} \\psi{\\left(\\rho,T \\right)}\\right)^{2} - 1.0 \\left(\\frac{\\partial}{\\partial \\rho} \\psi{\\left(\\rho,T \\right)}\\right)^{2} + \\frac{1.0 \\frac{\\partial}{\\partial \\rho} \\gamma{\\left(\\rho,T \\right)}}{\\rho} & 0 & 0\\\\0 & 0 & - 1.0 \\rho^{2} \\left(\\frac{\\partial^{2}}{\\partial T^{2}} \\gamma{\\left(\\rho,T \\right)} + \\frac{\\partial^{2}}{\\partial \\rho^{2}} \\gamma{\\left(\\rho,T \\right)} + \\left(\\frac{\\partial}{\\partial T} \\psi{\\left(\\rho,T \\right)}\\right)^{2} + \\left(\\frac{\\partial}{\\partial \\rho} \\psi{\\left(\\rho,T \\right)}\\right)^{2}\\right) e^{- 2 \\gamma{\\left(\\rho,T \\right)}} & 0\\\\0 & 0 & 0 & \\frac{\\left(- 1.0 \\rho \\frac{\\partial^{2}}{\\partial T^{2}} \\gamma{\\left(\\rho,T \\right)} - 1.0 \\rho \\frac{\\partial^{2}}{\\partial \\rho^{2}} \\gamma{\\left(\\rho,T \\right)} - 1.0 \\rho \\left(\\frac{\\partial}{\\partial T} \\psi{\\left(\\rho,T \\right)}\\right)^{2} + 2.0 \\rho \\frac{\\partial^{2}}{\\partial T^{2}} \\psi{\\left(\\rho,T \\right)} - 1.0 \\rho \\left(\\frac{\\partial}{\\partial \\rho} \\psi{\\left(\\rho,T \\right)}\\right)^{2} + 2.0 \\rho \\frac{\\partial^{2}}{\\partial \\rho^{2}} \\psi{\\left(\\rho,T \\right)} + 2.0 \\frac{\\partial}{\\partial \\rho} \\psi{\\left(\\rho,T \\right)}\\right) e^{- 2 \\gamma{\\left(\\rho,T \\right)} + 4 \\psi{\\left(\\rho,T \\right)}}}{\\rho}\\end{matrix}\\right]$"
      ],
      "text/plain": [
       "⎡                                        ∂                                                ∂                                              \n",
       "⎢               2                    2   ──(γ(ρ, T))                                      ──(γ(ρ, T))                                    \n",
       "⎢  ⎛∂          ⎞        ⎛∂          ⎞    ∂ρ                     ∂           ∂             ∂T                                             \n",
       "⎢- ⎜──(ψ(ρ, T))⎟  + 1.0⋅⎜──(ψ(ρ, T))⎟  - ───────────        - 2⋅──(ψ(ρ, T))⋅──(ψ(ρ, T)) + ───────────                                    \n",
       "⎢  ⎝∂T         ⎠        ⎝∂ρ         ⎠         ρ                 ∂T          ∂ρ                 ρ                                         \n",
       "⎢                                                                                                                                        \n",
       "⎢                                   ∂                                                           ∂                                        \n",
       "⎢                                   ──(γ(ρ, T))                        2                2   1.0⋅──(γ(ρ, T))                              \n",
       "⎢         ∂           ∂             ∂T                    ⎛∂          ⎞    ⎛∂          ⎞        ∂ρ                                       \n",
       "⎢     - 2⋅──(ψ(ρ, T))⋅──(ψ(ρ, T)) + ───────────       1.0⋅⎜──(ψ(ρ, T))⎟  - ⎜──(ψ(ρ, T))⎟  + ───────────────                              \n",
       "⎢         ∂T          ∂ρ                 ρ                ⎝∂T         ⎠    ⎝∂ρ         ⎠           ρ                                     \n",
       "⎢                                                                                                                                        \n",
       "⎢                                                                                                                    ⎛  2              2 \n",
       "⎢                                                                                                                  2 ⎜ ∂              ∂  \n",
       "⎢                         0                                                     0                            -1.0⋅ρ ⋅⎜───(γ(ρ, T)) + ───(\n",
       "⎢                                                                                                                    ⎜  2              2 \n",
       "⎢                                                                                                                    ⎝∂T             ∂ρ  \n",
       "⎢                                                                                                                                        \n",
       "⎢                                                                                                                                        \n",
       "⎢                                                                                                                                        \n",
       "⎢                                                                                                                                        \n",
       "⎢                                                                                                                                        \n",
       "⎢                                                                                                                                        \n",
       "⎢                         0                                                     0                                                        \n",
       "⎣                                                                                                                                        \n",
       "\n",
       "                                                                                                                                         \n",
       "                                                                                                                                         \n",
       "                                                                                                                                         \n",
       "             0                                                                                                                         0 \n",
       "                                                                                                                                         \n",
       "                                                                                                                                         \n",
       "                                                                                                                                         \n",
       "                                                                                                                                         \n",
       "                                                                                                                                         \n",
       "             0                                                                                                                         0 \n",
       "                                                                                                                                         \n",
       "                                                                                                                                         \n",
       "                        2                2⎞                                                                                              \n",
       "           ⎛∂          ⎞    ⎛∂          ⎞ ⎟  -2⋅γ(ρ, T)                                                                                  \n",
       "γ(ρ, T)) + ⎜──(ψ(ρ, T))⎟  + ⎜──(ψ(ρ, T))⎟ ⎟⋅ℯ                                                                                          0 \n",
       "           ⎝∂T         ⎠    ⎝∂ρ         ⎠ ⎟                                                                                              \n",
       "                                          ⎠                                                                                              \n",
       "                                                                                                                                         \n",
       "                                                         ⎛      2                2                           2           2               \n",
       "                                                         ⎜     ∂                ∂               ⎛∂          ⎞           ∂               ⎛\n",
       "                                                         ⎜- ρ⋅───(γ(ρ, T)) - ρ⋅───(γ(ρ, T)) - ρ⋅⎜──(ψ(ρ, T))⎟  + 2.0⋅ρ⋅───(ψ(ρ, T)) - ρ⋅⎜\n",
       "                                                         ⎜      2                2              ⎝∂T         ⎠            2              ⎝\n",
       "                                                         ⎝    ∂T               ∂ρ                                      ∂T                \n",
       "             0                                           ────────────────────────────────────────────────────────────────────────────────\n",
       "                                                                                                                                       ρ \n",
       "\n",
       "                                                                             ⎤\n",
       "                                                                             ⎥\n",
       "                                                                             ⎥\n",
       "                                                                             ⎥\n",
       "                                                                             ⎥\n",
       "                                                                             ⎥\n",
       "                                                                             ⎥\n",
       "                                                                             ⎥\n",
       "                                                                             ⎥\n",
       "                                                                             ⎥\n",
       "                                                                             ⎥\n",
       "                                                                             ⎥\n",
       "                                                                             ⎥\n",
       "                                                                             ⎥\n",
       "                                                                             ⎥\n",
       "                                                                             ⎥\n",
       "                                                                             ⎥\n",
       "                                                                             ⎥\n",
       "            2           2                           ⎞                        ⎥\n",
       "∂          ⎞           ∂                 ∂          ⎟  -2⋅γ(ρ, T) + 4⋅ψ(ρ, T)⎥\n",
       "──(ψ(ρ, T))⎟  + 2.0⋅ρ⋅───(ψ(ρ, T)) + 2.0⋅──(ψ(ρ, T))⎟⋅ℯ                      ⎥\n",
       "∂ρ         ⎠            2                ∂ρ         ⎟                        ⎥\n",
       "                      ∂ρ                            ⎠                        ⎥\n",
       "─────────────────────────────────────────────────────────────────────────────⎥\n",
       "                                                                             ⎦"
      ]
     },
     "execution_count": 21,
     "metadata": {},
     "output_type": "execute_result"
    }
   ],
   "source": [
    "einsteinSimplified = simplify(einst.tensor())\n",
    "einsteinSimplified"
   ]
  },
  {
   "cell_type": "code",
   "execution_count": 22,
   "id": "2bc1f475",
   "metadata": {},
   "outputs": [
    {
     "data": {
      "text/latex": [
       "$\\displaystyle \\left[\\begin{matrix}\\frac{- \\rho \\left(\\frac{\\partial^{2}}{\\partial T^{2}} \\gamma{\\left(\\rho,T \\right)} + \\frac{\\partial^{2}}{\\partial \\rho^{2}} \\gamma{\\left(\\rho,T \\right)} + 2 \\left(\\frac{\\partial}{\\partial T} \\psi{\\left(\\rho,T \\right)}\\right)^{2} - \\frac{\\partial^{2}}{\\partial T^{2}} \\psi{\\left(\\rho,T \\right)} - \\frac{\\partial^{2}}{\\partial \\rho^{2}} \\psi{\\left(\\rho,T \\right)}\\right) - \\frac{\\partial}{\\partial \\rho} \\gamma{\\left(\\rho,T \\right)} + \\frac{\\partial}{\\partial \\rho} \\psi{\\left(\\rho,T \\right)}}{\\rho} & - 2 \\frac{\\partial}{\\partial T} \\psi{\\left(\\rho,T \\right)} \\frac{\\partial}{\\partial \\rho} \\psi{\\left(\\rho,T \\right)} + \\frac{\\frac{\\partial}{\\partial T} \\gamma{\\left(\\rho,T \\right)}}{\\rho} & 0 & 0\\\\- 2 \\frac{\\partial}{\\partial T} \\psi{\\left(\\rho,T \\right)} \\frac{\\partial}{\\partial \\rho} \\psi{\\left(\\rho,T \\right)} + \\frac{\\frac{\\partial}{\\partial T} \\gamma{\\left(\\rho,T \\right)}}{\\rho} & \\frac{- \\rho \\left(\\frac{\\partial^{2}}{\\partial T^{2}} \\gamma{\\left(\\rho,T \\right)} + \\frac{\\partial^{2}}{\\partial \\rho^{2}} \\gamma{\\left(\\rho,T \\right)} - \\frac{\\partial^{2}}{\\partial T^{2}} \\psi{\\left(\\rho,T \\right)} + 2 \\left(\\frac{\\partial}{\\partial \\rho} \\psi{\\left(\\rho,T \\right)}\\right)^{2} - \\frac{\\partial^{2}}{\\partial \\rho^{2}} \\psi{\\left(\\rho,T \\right)}\\right) + \\frac{\\partial}{\\partial \\rho} \\gamma{\\left(\\rho,T \\right)} + \\frac{\\partial}{\\partial \\rho} \\psi{\\left(\\rho,T \\right)}}{\\rho} & 0 & 0\\\\0 & 0 & - \\rho \\left(\\rho \\frac{\\partial^{2}}{\\partial T^{2}} \\psi{\\left(\\rho,T \\right)} + \\rho \\frac{\\partial^{2}}{\\partial \\rho^{2}} \\psi{\\left(\\rho,T \\right)} + \\frac{\\partial}{\\partial \\rho} \\psi{\\left(\\rho,T \\right)}\\right) e^{- 2 \\gamma{\\left(\\rho,T \\right)}} & 0\\\\0 & 0 & 0 & \\frac{\\left(\\rho \\frac{\\partial^{2}}{\\partial T^{2}} \\psi{\\left(\\rho,T \\right)} + \\rho \\frac{\\partial^{2}}{\\partial \\rho^{2}} \\psi{\\left(\\rho,T \\right)} + \\frac{\\partial}{\\partial \\rho} \\psi{\\left(\\rho,T \\right)}\\right) e^{- 2 \\gamma{\\left(\\rho,T \\right)} + 4 \\psi{\\left(\\rho,T \\right)}}}{\\rho}\\end{matrix}\\right]$"
      ],
      "text/plain": [
       "⎡    ⎛  2              2                           2     2              2         ⎞                                                      \n",
       "⎢    ⎜ ∂              ∂               ⎛∂          ⎞     ∂              ∂          ⎟   ∂             ∂                                    \n",
       "⎢- ρ⋅⎜───(γ(ρ, T)) + ───(γ(ρ, T)) + 2⋅⎜──(ψ(ρ, T))⎟  - ───(ψ(ρ, T)) - ───(ψ(ρ, T))⎟ - ──(γ(ρ, T)) + ──(ψ(ρ, T))                          \n",
       "⎢    ⎜  2              2              ⎝∂T         ⎠      2              2         ⎟   ∂ρ            ∂ρ                                   \n",
       "⎢    ⎝∂T             ∂ρ                                ∂T             ∂ρ          ⎠                                                      \n",
       "⎢──────────────────────────────────────────────────────────────────────────────────────────────────────────────                          \n",
       "⎢                                                      ρ                                                                                 \n",
       "⎢                                                                                                                                        \n",
       "⎢                                                                                                                    ⎛  2              2 \n",
       "⎢                                                                                                                    ⎜ ∂              ∂  \n",
       "⎢                                                                ∂                                               - ρ⋅⎜───(γ(ρ, T)) + ───(\n",
       "⎢                                                                ──(γ(ρ, T))                                         ⎜  2              2 \n",
       "⎢                                      ∂           ∂             ∂T                                                  ⎝∂T             ∂ρ  \n",
       "⎢                                  - 2⋅──(ψ(ρ, T))⋅──(ψ(ρ, T)) + ───────────                                     ────────────────────────\n",
       "⎢                                      ∂T          ∂ρ                 ρ                                                                  \n",
       "⎢                                                                                                                                        \n",
       "⎢                                                                                                                                        \n",
       "⎢                                                                                                                                        \n",
       "⎢                                                      0                                                                                 \n",
       "⎢                                                                                                                                        \n",
       "⎢                                                                                                                                        \n",
       "⎢                                                                                                                                        \n",
       "⎢                                                                                                                                        \n",
       "⎢                                                                                                                                        \n",
       "⎢                                                                                                                                        \n",
       "⎢                                                                                                                                        \n",
       "⎢                                                                                                                                        \n",
       "⎢                                                      0                                                                                 \n",
       "⎣                                                                                                                                        \n",
       "\n",
       "                                                                                                                                         \n",
       "                                                                                                                                         \n",
       "                                        ∂                                                                                                \n",
       "                                        ──(γ(ρ, T))                                                                                      \n",
       "              ∂           ∂             ∂T                                                                                               \n",
       "          - 2⋅──(ψ(ρ, T))⋅──(ψ(ρ, T)) + ───────────                                                                   0                  \n",
       "              ∂T          ∂ρ                 ρ                                                                                           \n",
       "                                                                                                                                         \n",
       "             2                           2     2         ⎞                                                                               \n",
       "            ∂               ⎛∂          ⎞     ∂          ⎟   ∂             ∂                                                             \n",
       "γ(ρ, T)) - ───(ψ(ρ, T)) + 2⋅⎜──(ψ(ρ, T))⎟  - ───(ψ(ρ, T))⎟ + ──(γ(ρ, T)) + ──(ψ(ρ, T))                                                   \n",
       "             2              ⎝∂ρ         ⎠      2         ⎟   ∂ρ            ∂ρ                                                            \n",
       "           ∂T                                ∂ρ          ⎠                                                                               \n",
       "──────────────────────────────────────────────────────────────────────────────────────                                0                  \n",
       "                              ρ                                                                                                          \n",
       "                                                                                                                                         \n",
       "                                                                                           ⎛    2                2                       \n",
       "                                                                                           ⎜   ∂                ∂             ∂          \n",
       "                              0                                                         -ρ⋅⎜ρ⋅───(ψ(ρ, T)) + ρ⋅───(ψ(ρ, T)) + ──(ψ(ρ, T))\n",
       "                                                                                           ⎜    2                2            ∂ρ         \n",
       "                                                                                           ⎝  ∂T               ∂ρ                        \n",
       "                                                                                                                                         \n",
       "                                                                                                                                         \n",
       "                                                                                                                                         \n",
       "                                                                                                                                         \n",
       "                                                                                                                                         \n",
       "                                                                                                                                         \n",
       "                              0                                                                                       0                  \n",
       "                                                                                                                                         \n",
       "\n",
       "                                                                                      ⎤\n",
       "                                                                                      ⎥\n",
       "                                                                                      ⎥\n",
       "                                                                                      ⎥\n",
       "                                                                                      ⎥\n",
       "                                                  0                                   ⎥\n",
       "                                                                                      ⎥\n",
       "                                                                                      ⎥\n",
       "                                                                                      ⎥\n",
       "                                                                                      ⎥\n",
       "                                                                                      ⎥\n",
       "                                                                                      ⎥\n",
       "                                                                                      ⎥\n",
       "                                                  0                                   ⎥\n",
       "                                                                                      ⎥\n",
       "                                                                                      ⎥\n",
       "⎞                                                                                     ⎥\n",
       "⎟  -2⋅γ(ρ, T)                                                                         ⎥\n",
       "⎟⋅ℯ                                               0                                   ⎥\n",
       "⎟                                                                                     ⎥\n",
       "⎠                                                                                     ⎥\n",
       "                                                                                      ⎥\n",
       "               ⎛    2                2                       ⎞                        ⎥\n",
       "               ⎜   ∂                ∂             ∂          ⎟  -2⋅γ(ρ, T) + 4⋅ψ(ρ, T)⎥\n",
       "               ⎜ρ⋅───(ψ(ρ, T)) + ρ⋅───(ψ(ρ, T)) + ──(ψ(ρ, T))⎟⋅ℯ                      ⎥\n",
       "               ⎜    2                2            ∂ρ         ⎟                        ⎥\n",
       "               ⎝  ∂T               ∂ρ                        ⎠                        ⎥\n",
       "               ───────────────────────────────────────────────────────────────────────⎥\n",
       "                                                  ρ                                   ⎦"
      ]
     },
     "execution_count": 22,
     "metadata": {},
     "output_type": "execute_result"
    }
   ],
   "source": [
    "ricciSimplified = simplify(Ric.tensor())\n",
    "ricciSimplified"
   ]
  },
  {
   "cell_type": "code",
   "execution_count": 23,
   "id": "10763f54",
   "metadata": {},
   "outputs": [
    {
     "data": {
      "image/png": "[encoded data removed]",
      "text/latex": [
       "$\\displaystyle \\frac{\\partial^{2}}{\\partial T^{2}} \\psi{\\left(\\rho,T \\right)} + \\frac{\\partial^{2}}{\\partial \\rho^{2}} \\psi{\\left(\\rho,T \\right)} + \\frac{\\frac{\\partial}{\\partial \\rho} \\psi{\\left(\\rho,T \\right)}}{\\rho} = 0$"
      ],
      "text/plain": [
       "                              ∂              \n",
       "  2              2            ──(ψ(ρ, T))    \n",
       " ∂              ∂             ∂ρ             \n",
       "───(ψ(ρ, T)) + ───(ψ(ρ, T)) + ─────────── = 0\n",
       "  2              2                 ρ         \n",
       "∂T             ∂ρ                            "
      ]
     },
     "execution_count": 23,
     "metadata": {},
     "output_type": "execute_result"
    }
   ],
   "source": [
    "equation2 = Eq( expand( (1/rho)*Ric.tensor()[3,3].args[1] ) ,0)\n",
    "equation2"
   ]
  },
  {
   "cell_type": "code",
   "execution_count": 24,
   "id": "f5b7080b",
   "metadata": {},
   "outputs": [
    {
     "data": {
      "image/png": "[encoded data removed]",
      "text/latex": [
       "$\\displaystyle \\frac{\\partial}{\\partial \\rho} \\gamma{\\left(\\rho,T \\right)} = \\rho \\left(- \\left(\\frac{\\partial}{\\partial T} \\psi{\\left(\\rho,T \\right)}\\right)^{2} + \\left(\\frac{\\partial}{\\partial \\rho} \\psi{\\left(\\rho,T \\right)}\\right)^{2}\\right)$"
      ],
      "text/plain": [
       "                ⎛               2                2⎞\n",
       "∂               ⎜  ⎛∂          ⎞    ⎛∂          ⎞ ⎟\n",
       "──(γ(ρ, T)) = ρ⋅⎜- ⎜──(ψ(ρ, T))⎟  + ⎜──(ψ(ρ, T))⎟ ⎟\n",
       "∂ρ              ⎝  ⎝∂T         ⎠    ⎝∂ρ         ⎠ ⎠"
      ]
     },
     "execution_count": 24,
     "metadata": {},
     "output_type": "execute_result"
    }
   ],
   "source": [
    "equation3 = Eq(diff(gamma,rho) , solve(einst.tensor()[0,0], diff(gamma,rho) )[0] ) \n",
    "equation3"
   ]
  },
  {
   "cell_type": "code",
   "execution_count": 25,
   "id": "e3e32591",
   "metadata": {},
   "outputs": [
    {
     "data": {
      "image/png": "[encoded data removed]",
      "text/latex": [
       "$\\displaystyle \\frac{\\partial}{\\partial T} \\gamma{\\left(\\rho,T \\right)} = 2 \\rho \\frac{\\partial}{\\partial T} \\psi{\\left(\\rho,T \\right)} \\frac{\\partial}{\\partial \\rho} \\psi{\\left(\\rho,T \\right)}$"
      ],
      "text/plain": [
       "∂                 ∂           ∂          \n",
       "──(γ(ρ, T)) = 2⋅ρ⋅──(ψ(ρ, T))⋅──(ψ(ρ, T))\n",
       "∂T                ∂T          ∂ρ         "
      ]
     },
     "execution_count": 25,
     "metadata": {},
     "output_type": "execute_result"
    }
   ],
   "source": [
    "equation4 = Eq(diff(gamma,T) , solve( ricciSimplified[1,0] , diff(gamma,T) )[0] ) \n",
    "equation4"
   ]
  },
  {
   "cell_type": "code",
   "execution_count": 26,
   "id": "172818e3",
   "metadata": {},
   "outputs": [
    {
     "name": "stderr",
     "output_type": "stream",
     "text": [
      "/opt/anaconda3/lib/python3.8/site-packages/sympy/matrices/repmatrix.py:98: SymPyDeprecationWarning: \n",
      "\n",
      "non-Expr objects in a Matrix has been deprecated since SymPy 1.9. Use\n",
      "list of lists, TableForm or some other data structure instead. See\n",
      "https://github.com/sympy/sympy/issues/21497 for more info.\n",
      "\n",
      "  SymPyDeprecationWarning(\n"
     ]
    },
    {
     "data": {
      "text/latex": [
       "$\\displaystyle \\left[\\begin{matrix}\\frac{\\partial^{2}}{\\partial T^{2}} \\psi{\\left(\\rho,T \\right)} + \\frac{\\partial^{2}}{\\partial \\rho^{2}} \\psi{\\left(\\rho,T \\right)} + \\frac{\\frac{\\partial}{\\partial \\rho} \\psi{\\left(\\rho,T \\right)}}{\\rho} = 0\\\\\\frac{\\partial}{\\partial \\rho} \\gamma{\\left(\\rho,T \\right)} = \\rho \\left(- \\left(\\frac{\\partial}{\\partial T} \\psi{\\left(\\rho,T \\right)}\\right)^{2} + \\left(\\frac{\\partial}{\\partial \\rho} \\psi{\\left(\\rho,T \\right)}\\right)^{2}\\right)\\\\\\frac{\\partial}{\\partial T} \\gamma{\\left(\\rho,T \\right)} = 2 \\rho \\frac{\\partial}{\\partial T} \\psi{\\left(\\rho,T \\right)} \\frac{\\partial}{\\partial \\rho} \\psi{\\left(\\rho,T \\right)}\\end{matrix}\\right]$"
      ],
      "text/plain": [
       "⎡                                 ∂                 ⎤\n",
       "⎢     2              2            ──(ψ(ρ, T))       ⎥\n",
       "⎢    ∂              ∂             ∂ρ                ⎥\n",
       "⎢   ───(ψ(ρ, T)) + ───(ψ(ρ, T)) + ─────────── = 0   ⎥\n",
       "⎢     2              2                 ρ            ⎥\n",
       "⎢   ∂T             ∂ρ                               ⎥\n",
       "⎢                                                   ⎥\n",
       "⎢                ⎛               2                2⎞⎥\n",
       "⎢∂               ⎜  ⎛∂          ⎞    ⎛∂          ⎞ ⎟⎥\n",
       "⎢──(γ(ρ, T)) = ρ⋅⎜- ⎜──(ψ(ρ, T))⎟  + ⎜──(ψ(ρ, T))⎟ ⎟⎥\n",
       "⎢∂ρ              ⎝  ⎝∂T         ⎠    ⎝∂ρ         ⎠ ⎠⎥\n",
       "⎢                                                   ⎥\n",
       "⎢     ∂                 ∂           ∂               ⎥\n",
       "⎢     ──(γ(ρ, T)) = 2⋅ρ⋅──(ψ(ρ, T))⋅──(ψ(ρ, T))     ⎥\n",
       "⎣     ∂T                ∂T          ∂ρ              ⎦"
      ]
     },
     "execution_count": 26,
     "metadata": {},
     "output_type": "execute_result"
    }
   ],
   "source": [
    "vacuumFieldEquations = Matrix([equation2,equation3,equation4])\n",
    "vacuumFieldEquations"
   ]
  },
  {
   "cell_type": "code",
   "execution_count": 27,
   "id": "98d752a8",
   "metadata": {},
   "outputs": [],
   "source": [
    "from sympy import *"
   ]
  },
  {
   "cell_type": "code",
   "execution_count": 28,
   "id": "21d84855",
   "metadata": {},
   "outputs": [],
   "source": [
    "X, Y = map(Function, 'XY')"
   ]
  },
  {
   "cell_type": "code",
   "execution_count": 29,
   "id": "89d14a02",
   "metadata": {},
   "outputs": [
    {
     "data": {
      "image/png": "[encoded data removed]",
      "text/latex": [
       "$\\displaystyle \\frac{\\partial^{2}}{\\partial T^{2}} \\psi{\\left(\\rho,T \\right)} + \\frac{\\partial^{2}}{\\partial \\rho^{2}} \\psi{\\left(\\rho,T \\right)} + \\frac{\\frac{\\partial}{\\partial \\rho} \\psi{\\left(\\rho,T \\right)}}{\\rho} = 0$"
      ],
      "text/plain": [
       "                              ∂              \n",
       "  2              2            ──(ψ(ρ, T))    \n",
       " ∂              ∂             ∂ρ             \n",
       "───(ψ(ρ, T)) + ───(ψ(ρ, T)) + ─────────── = 0\n",
       "  2              2                 ρ         \n",
       "∂T             ∂ρ                            "
      ]
     },
     "execution_count": 29,
     "metadata": {},
     "output_type": "execute_result"
    }
   ],
   "source": [
    "eq = vacuumFieldEquations[0]\n",
    "eq"
   ]
  },
  {
   "cell_type": "code",
   "execution_count": 30,
   "id": "b180c1ba",
   "metadata": {},
   "outputs": [
    {
     "data": {
      "image/png": "[encoded data removed]",
      "text/latex": [
       "$\\displaystyle \\frac{\\frac{d^{2}}{d \\rho^{2}} X{\\left(\\rho \\right)}}{X{\\left(\\rho \\right)}} + \\frac{\\frac{d}{d \\rho} X{\\left(\\rho \\right)}}{\\rho X{\\left(\\rho \\right)}} = - k^{2}$"
      ],
      "text/plain": [
       "  2                       \n",
       " d                        \n",
       "───(X(ρ))   d             \n",
       "  2         ──(X(ρ))      \n",
       "dρ          dρ           2\n",
       "───────── + ──────── = -k \n",
       "   X(ρ)      ρ⋅X(ρ)       "
      ]
     },
     "execution_count": 30,
     "metadata": {},
     "output_type": "execute_result"
    }
   ],
   "source": [
    "xODE = Eq(pde_separate( eq, psi, [X(rho),Y(T)])[0] ,- k**2 ) \n",
    "xODE"
   ]
  },
  {
   "cell_type": "code",
   "execution_count": 31,
   "id": "bcfc560e",
   "metadata": {},
   "outputs": [
    {
     "data": {
      "image/png": "[encoded data removed]",
      "text/latex": [
       "$\\displaystyle X{\\left(\\rho \\right)} = C_{1} J_{0}\\left(k \\rho\\right) + C_{2} Y_{0}\\left(k \\rho\\right)$"
      ],
      "text/plain": [
       "X(ρ) = C₁⋅besselj(0, k⋅ρ) + C₂⋅bessely(0, k⋅ρ)"
      ]
     },
     "execution_count": 31,
     "metadata": {},
     "output_type": "execute_result"
    }
   ],
   "source": [
    "xSolution = dsolve( xODE , X(rho))\n",
    "xSolution "
   ]
  },
  {
   "cell_type": "code",
   "execution_count": 34,
   "id": "a6595977",
   "metadata": {},
   "outputs": [
    {
     "data": {
      "image/png": "[encoded data removed]",
      "text/latex": [
       "$\\displaystyle X{\\left(\\rho \\right)} = J_{0}\\left(k \\rho\\right)$"
      ],
      "text/plain": [
       "X(ρ) = besselj(0, k⋅ρ)"
      ]
     },
     "execution_count": 34,
     "metadata": {},
     "output_type": "execute_result"
    }
   ],
   "source": [
    "#  this is made up.  we are arbitrarily setting one Bessel function equal to zero.  I think that one blows up at the orgin.  Go back and check this \n",
    "xSolutionParticular = xSolution.subs(xSolution.args[1].args[0].args[0],1).subs(xSolution.args[1].args[1].args[0],0)\n",
    "xSolutionParticular"
   ]
  },
  {
   "cell_type": "code",
   "execution_count": 32,
   "id": "951b2ce7",
   "metadata": {},
   "outputs": [
    {
     "data": {
      "image/png": "[encoded data removed]",
      "text/latex": [
       "$\\displaystyle - \\frac{\\frac{d^{2}}{d T^{2}} Y{\\left(T \\right)}}{Y{\\left(T \\right)}} = k^{2}$"
      ],
      "text/plain": [
       "   2            \n",
       "  d             \n",
       "-───(Y(T))      \n",
       "   2            \n",
       " dT            2\n",
       "─────────── = k \n",
       "    Y(T)        "
      ]
     },
     "execution_count": 32,
     "metadata": {},
     "output_type": "execute_result"
    }
   ],
   "source": [
    "yODE = Eq( pde_separate( eq, psi, [X(rho),Y(T)])[1] ,  k**2 ) \n",
    "yODE"
   ]
  },
  {
   "cell_type": "code",
   "execution_count": 33,
   "id": "250ae979",
   "metadata": {},
   "outputs": [
    {
     "data": {
      "image/png": "[encoded data removed]",
      "text/latex": [
       "$\\displaystyle Y{\\left(T \\right)} = C_{1} \\sin{\\left(T \\left|{k}\\right| \\right)} + C_{2} \\cos{\\left(T k \\right)}$"
      ],
      "text/plain": [
       "Y(T) = C₁⋅sin(T⋅│k│) + C₂⋅cos(T⋅k)"
      ]
     },
     "execution_count": 33,
     "metadata": {},
     "output_type": "execute_result"
    }
   ],
   "source": [
    "ySolution = dsolve( yODE , Y(T))\n",
    "ySolution "
   ]
  },
  {
   "cell_type": "code",
   "execution_count": 35,
   "id": "ee0e120c",
   "metadata": {},
   "outputs": [
    {
     "data": {
      "image/png": "[encoded data removed]",
      "text/latex": [
       "$\\displaystyle Y{\\left(T \\right)} = \\sin{\\left(T \\left|{k}\\right| \\right)}$"
      ],
      "text/plain": [
       "Y(T) = sin(T⋅│k│)"
      ]
     },
     "execution_count": 35,
     "metadata": {},
     "output_type": "execute_result"
    }
   ],
   "source": [
    "#  Here we are arbitrarily setting the cos function to zero.  Go back and fix this\n",
    "ySolutionParticular = ySolution.subs(ySolution.args[1].args[0].args[0],1).subs(ySolution.args[1].args[1].args[0],0)\n",
    "ySolutionParticular"
   ]
  },
  {
   "cell_type": "code",
   "execution_count": 36,
   "id": "9d484226",
   "metadata": {},
   "outputs": [
    {
     "data": {
      "image/png": "[encoded data removed]",
      "text/latex": [
       "$\\displaystyle \\sum_{k=1}^{2} \\sin{\\left(T \\left|{k}\\right| \\right)} J_{0}\\left(k \\rho\\right)$"
      ],
      "text/plain": [
       "  2                             \n",
       " ___                            \n",
       " ╲                              \n",
       "  ╲                             \n",
       "  ╱   sin(T⋅│k│)⋅besselj(0, k⋅ρ)\n",
       " ╱                              \n",
       " ‾‾‾                            \n",
       "k = 1                           "
      ]
     },
     "execution_count": 36,
     "metadata": {},
     "output_type": "execute_result"
    }
   ],
   "source": [
    "#  Here we arbitrary pick just two terms as an example... \n",
    "Sum( ( xSolutionParticular.args[1] * ySolutionParticular.args[1] ) ,(k,1,2) )"
   ]
  },
  {
   "cell_type": "code",
   "execution_count": 38,
   "id": "fd7e9c25",
   "metadata": {},
   "outputs": [
    {
     "data": {
      "image/png": "[encoded data removed]",
      "text/latex": [
       "$\\displaystyle \\psi{\\left(\\rho,T \\right)} = \\sin{\\left(T \\right)} J_{0}\\left(\\rho\\right) + \\sin{\\left(2 T \\right)} J_{0}\\left(2 \\rho\\right)$"
      ],
      "text/plain": [
       "ψ(ρ, T) = sin(T)⋅besselj(0, ρ) + sin(2⋅T)⋅besselj(0, 2⋅ρ)"
      ]
     },
     "execution_count": 38,
     "metadata": {},
     "output_type": "execute_result"
    }
   ],
   "source": [
    "psiSumTwoTerms = Eq(psi, Sum( ( xSolutionParticular.args[1] * ySolutionParticular.args[1] ) ,(k,1,2) ).doit() ) \n",
    "psiSumTwoTerms"
   ]
  },
  {
   "cell_type": "code",
   "execution_count": 40,
   "id": "9e6e583c",
   "metadata": {},
   "outputs": [
    {
     "data": {
      "image/png": "[encoded data removed]",
      "text/latex": [
       "$\\displaystyle \\frac{\\partial}{\\partial \\rho} \\gamma{\\left(\\rho,T \\right)} = \\rho \\left(- \\left(\\frac{\\partial}{\\partial T} \\left(\\sin{\\left(T \\right)} J_{0}\\left(\\rho\\right) + \\sin{\\left(2 T \\right)} J_{0}\\left(2 \\rho\\right)\\right)\\right)^{2} + \\left(\\frac{\\partial}{\\partial \\rho} \\left(\\sin{\\left(T \\right)} J_{0}\\left(\\rho\\right) + \\sin{\\left(2 T \\right)} J_{0}\\left(2 \\rho\\right)\\right)\\right)^{2}\\right)$"
      ],
      "text/plain": [
       "                ⎛                                                       2                                                        2⎞\n",
       "∂               ⎜  ⎛∂                                                  ⎞    ⎛∂                                                  ⎞ ⎟\n",
       "──(γ(ρ, T)) = ρ⋅⎜- ⎜──(sin(T)⋅besselj(0, ρ) + sin(2⋅T)⋅besselj(0, 2⋅ρ))⎟  + ⎜──(sin(T)⋅besselj(0, ρ) + sin(2⋅T)⋅besselj(0, 2⋅ρ))⎟ ⎟\n",
       "∂ρ              ⎝  ⎝∂T                                                 ⎠    ⎝∂ρ                                                 ⎠ ⎠"
      ]
     },
     "execution_count": 40,
     "metadata": {},
     "output_type": "execute_result"
    }
   ],
   "source": [
    "dgammadrhoPDE = vacuumFieldEquations[1].subs(psiSumTwoTerms.args[0],psiSumTwoTerms.args[1])\n",
    "dgammadrhoPDE"
   ]
  },
  {
   "cell_type": "code",
   "execution_count": 41,
   "id": "0c27f43c",
   "metadata": {},
   "outputs": [
    {
     "data": {
      "image/png": "[encoded data removed]",
      "text/latex": [
       "$\\displaystyle \\frac{\\partial}{\\partial \\rho} \\gamma{\\left(\\rho,T \\right)} = \\rho \\left(\\left(- \\sin{\\left(T \\right)} J_{1}\\left(\\rho\\right) - 2 \\sin{\\left(2 T \\right)} J_{1}\\left(2 \\rho\\right)\\right)^{2} - \\left(\\cos{\\left(T \\right)} J_{0}\\left(\\rho\\right) + 2 \\cos{\\left(2 T \\right)} J_{0}\\left(2 \\rho\\right)\\right)^{2}\\right)$"
      ],
      "text/plain": [
       "∂               ⎛                                                    2                                                      2⎞\n",
       "──(γ(ρ, T)) = ρ⋅⎝(-sin(T)⋅besselj(1, ρ) - 2⋅sin(2⋅T)⋅besselj(1, 2⋅ρ))  - (cos(T)⋅besselj(0, ρ) + 2⋅cos(2⋅T)⋅besselj(0, 2⋅ρ)) ⎠\n",
       "∂ρ                                                                                                                            "
      ]
     },
     "execution_count": 41,
     "metadata": {},
     "output_type": "execute_result"
    }
   ],
   "source": [
    "dgammadrhoPDE.doit()"
   ]
  },
  {
   "cell_type": "code",
   "execution_count": 42,
   "id": "c1ddf850",
   "metadata": {},
   "outputs": [
    {
     "data": {
      "image/png": "[encoded data removed]",
      "text/latex": [
       "$\\displaystyle \\frac{\\partial}{\\partial \\rho} \\gamma{\\left(\\rho,T \\right)} = \\rho \\sin^{2}{\\left(T \\right)} J^{2}_{1}\\left(\\rho\\right) + 4 \\rho \\sin{\\left(T \\right)} \\sin{\\left(2 T \\right)} J_{1}\\left(\\rho\\right) J_{1}\\left(2 \\rho\\right) + 4 \\rho \\sin^{2}{\\left(2 T \\right)} J^{2}_{1}\\left(2 \\rho\\right) - \\rho \\cos^{2}{\\left(T \\right)} J^{2}_{0}\\left(\\rho\\right) - 4 \\rho \\cos{\\left(T \\right)} \\cos{\\left(2 T \\right)} J_{0}\\left(\\rho\\right) J_{0}\\left(2 \\rho\\right) - 4 \\rho \\cos^{2}{\\left(2 T \\right)} J^{2}_{0}\\left(2 \\rho\\right)$"
      ],
      "text/plain": [
       "∂                  2           2                                                                    2             2                2     \n",
       "──(γ(ρ, T)) = ρ⋅sin (T)⋅besselj (1, ρ) + 4⋅ρ⋅sin(T)⋅sin(2⋅T)⋅besselj(1, ρ)⋅besselj(1, 2⋅ρ) + 4⋅ρ⋅sin (2⋅T)⋅besselj (1, 2⋅ρ) - ρ⋅cos (T)⋅b\n",
       "∂ρ                                                                                                                                       \n",
       "\n",
       "      2                                                                    2             2        \n",
       "esselj (0, ρ) - 4⋅ρ⋅cos(T)⋅cos(2⋅T)⋅besselj(0, ρ)⋅besselj(0, 2⋅ρ) - 4⋅ρ⋅cos (2⋅T)⋅besselj (0, 2⋅ρ)\n",
       "                                                                                                  "
      ]
     },
     "execution_count": 42,
     "metadata": {},
     "output_type": "execute_result"
    }
   ],
   "source": [
    "expand(dgammadrhoPDE.doit())"
   ]
  },
  {
   "cell_type": "code",
   "execution_count": 43,
   "id": "506e72fd",
   "metadata": {},
   "outputs": [
    {
     "data": {
      "image/png": "[encoded data removed]",
      "text/latex": [
       "$\\displaystyle \\gamma{\\left(\\rho,T \\right)} = - \\frac{\\rho^{2} \\left(J^{2}_{0}\\left(\\rho\\right) + J^{2}_{1}\\left(\\rho\\right)\\right) \\cos^{2}{\\left(T \\right)}}{2} - 2 \\rho^{2} \\left(J^{2}_{0}\\left(2 \\rho\\right) + J^{2}_{1}\\left(2 \\rho\\right)\\right) \\cos^{2}{\\left(2 T \\right)} + \\frac{4 \\rho \\left(J_{0}\\left(\\rho\\right) J_{1}\\left(2 \\rho\\right) - 2 J_{0}\\left(2 \\rho\\right) J_{1}\\left(\\rho\\right)\\right) \\sin{\\left(T \\right)} \\sin{\\left(2 T \\right)}}{3} - \\frac{4 \\rho \\left(2 J_{0}\\left(\\rho\\right) J_{1}\\left(2 \\rho\\right) - J_{0}\\left(2 \\rho\\right) J_{1}\\left(\\rho\\right)\\right) \\cos{\\left(T \\right)} \\cos{\\left(2 T \\right)}}{3} + \\frac{\\rho \\left(\\rho J^{2}_{0}\\left(\\rho\\right) + \\rho J^{2}_{1}\\left(\\rho\\right) - 2 J_{0}\\left(\\rho\\right) J_{1}\\left(\\rho\\right)\\right) \\sin^{2}{\\left(T \\right)}}{2} + 2 \\rho \\left(\\rho J^{2}_{0}\\left(2 \\rho\\right) + \\rho J^{2}_{1}\\left(2 \\rho\\right) - J_{0}\\left(2 \\rho\\right) J_{1}\\left(2 \\rho\\right)\\right) \\sin^{2}{\\left(2 T \\right)} + F{\\left(- T \\right)}$"
      ],
      "text/plain": [
       "             2 ⎛       2                2      ⎞    2                                                                                    \n",
       "            ρ ⋅⎝besselj (0, ρ) + besselj (1, ρ)⎠⋅cos (T)      2 ⎛       2                  2        ⎞    2        4⋅ρ⋅(besselj(0, ρ)⋅bess\n",
       "γ(ρ, T) = - ──────────────────────────────────────────── - 2⋅ρ ⋅⎝besselj (0, 2⋅ρ) + besselj (1, 2⋅ρ)⎠⋅cos (2⋅T) + ───────────────────────\n",
       "                                 2                                                                                                       \n",
       "\n",
       "                                                                                                                                         \n",
       "elj(1, 2⋅ρ) - 2⋅besselj(0, 2⋅ρ)⋅besselj(1, ρ))⋅sin(T)⋅sin(2⋅T)   4⋅ρ⋅(2⋅besselj(0, ρ)⋅besselj(1, 2⋅ρ) - besselj(0, 2⋅ρ)⋅besselj(1, ρ))⋅co\n",
       "────────────────────────────────────────────────────────────── - ────────────────────────────────────────────────────────────────────────\n",
       "                   3                                                                                       3                             \n",
       "\n",
       "                  ⎛         2                  2                                      ⎞    2                                             \n",
       "s(T)⋅cos(2⋅T)   ρ⋅⎝ρ⋅besselj (0, ρ) + ρ⋅besselj (1, ρ) - 2⋅besselj(0, ρ)⋅besselj(1, ρ)⎠⋅sin (T)       ⎛         2                    2   \n",
       "───────────── + ─────────────────────────────────────────────────────────────────────────────── + 2⋅ρ⋅⎝ρ⋅besselj (0, 2⋅ρ) + ρ⋅besselj (1,\n",
       "                                                       2                                                                                 \n",
       "\n",
       "                                                          \n",
       "                                       ⎞    2             \n",
       " 2⋅ρ) - besselj(0, 2⋅ρ)⋅besselj(1, 2⋅ρ)⎠⋅sin (2⋅T) + F(-T)\n",
       "                                                          "
      ]
     },
     "execution_count": 43,
     "metadata": {},
     "output_type": "execute_result"
    }
   ],
   "source": [
    "integrateGammaWRTrho = pdsolve( expand(dgammadrhoPDE.doit()) )\n",
    "integrateGammaWRTrho"
   ]
  },
  {
   "cell_type": "code",
   "execution_count": 50,
   "id": "d9b13df6",
   "metadata": {},
   "outputs": [
    {
     "data": {
      "image/png": "[encoded data removed]",
      "text/latex": [
       "$\\displaystyle \\gamma{\\left(\\rho,T \\right)} = - \\frac{\\rho^{2} \\left(J^{2}_{0}\\left(\\rho\\right) + J^{2}_{1}\\left(\\rho\\right)\\right) \\cos^{2}{\\left(T \\right)}}{2} - 2 \\rho^{2} \\left(J^{2}_{0}\\left(2 \\rho\\right) + J^{2}_{1}\\left(2 \\rho\\right)\\right) \\cos^{2}{\\left(2 T \\right)} + \\frac{4 \\rho \\left(J_{0}\\left(\\rho\\right) J_{1}\\left(2 \\rho\\right) - 2 J_{0}\\left(2 \\rho\\right) J_{1}\\left(\\rho\\right)\\right) \\sin{\\left(T \\right)} \\sin{\\left(2 T \\right)}}{3} - \\frac{4 \\rho \\left(2 J_{0}\\left(\\rho\\right) J_{1}\\left(2 \\rho\\right) - J_{0}\\left(2 \\rho\\right) J_{1}\\left(\\rho\\right)\\right) \\cos{\\left(T \\right)} \\cos{\\left(2 T \\right)}}{3} + \\frac{\\rho \\left(\\rho J^{2}_{0}\\left(\\rho\\right) + \\rho J^{2}_{1}\\left(\\rho\\right) - 2 J_{0}\\left(\\rho\\right) J_{1}\\left(\\rho\\right)\\right) \\sin^{2}{\\left(T \\right)}}{2} + 2 \\rho \\left(\\rho J^{2}_{0}\\left(2 \\rho\\right) + \\rho J^{2}_{1}\\left(2 \\rho\\right) - J_{0}\\left(2 \\rho\\right) J_{1}\\left(2 \\rho\\right)\\right) \\sin^{2}{\\left(2 T \\right)}$"
      ],
      "text/plain": [
       "             2 ⎛       2                2      ⎞    2                                                                                    \n",
       "            ρ ⋅⎝besselj (0, ρ) + besselj (1, ρ)⎠⋅cos (T)      2 ⎛       2                  2        ⎞    2        4⋅ρ⋅(besselj(0, ρ)⋅bess\n",
       "γ(ρ, T) = - ──────────────────────────────────────────── - 2⋅ρ ⋅⎝besselj (0, 2⋅ρ) + besselj (1, 2⋅ρ)⎠⋅cos (2⋅T) + ───────────────────────\n",
       "                                 2                                                                                                       \n",
       "\n",
       "                                                                                                                                         \n",
       "elj(1, 2⋅ρ) - 2⋅besselj(0, 2⋅ρ)⋅besselj(1, ρ))⋅sin(T)⋅sin(2⋅T)   4⋅ρ⋅(2⋅besselj(0, ρ)⋅besselj(1, 2⋅ρ) - besselj(0, 2⋅ρ)⋅besselj(1, ρ))⋅co\n",
       "────────────────────────────────────────────────────────────── - ────────────────────────────────────────────────────────────────────────\n",
       "                   3                                                                                       3                             \n",
       "\n",
       "                  ⎛         2                  2                                      ⎞    2                                             \n",
       "s(T)⋅cos(2⋅T)   ρ⋅⎝ρ⋅besselj (0, ρ) + ρ⋅besselj (1, ρ) - 2⋅besselj(0, ρ)⋅besselj(1, ρ)⎠⋅sin (T)       ⎛         2                    2   \n",
       "───────────── + ─────────────────────────────────────────────────────────────────────────────── + 2⋅ρ⋅⎝ρ⋅besselj (0, 2⋅ρ) + ρ⋅besselj (1,\n",
       "                                                       2                                                                                 \n",
       "\n",
       "                                                  \n",
       "                                       ⎞    2     \n",
       " 2⋅ρ) - besselj(0, 2⋅ρ)⋅besselj(1, 2⋅ρ)⎠⋅sin (2⋅T)\n",
       "                                                  "
      ]
     },
     "execution_count": 50,
     "metadata": {},
     "output_type": "execute_result"
    }
   ],
   "source": [
    "#  Here we've just set the arbitrary function F  equal to zero \n",
    "gammaSolutionRho = integrateGammaWRTrho.subs(integrateGammaWRTrho.args[1].args[6],0)\n",
    "gammaSolutionRho"
   ]
  },
  {
   "cell_type": "code",
   "execution_count": 54,
   "id": "9832c09c",
   "metadata": {},
   "outputs": [
    {
     "data": {
      "image/png": "[encoded data removed]",
      "text/latex": [
       "$\\displaystyle \\frac{\\partial}{\\partial T} \\gamma{\\left(\\rho,T \\right)} = 2 \\rho \\frac{\\partial}{\\partial T} \\left(\\sin{\\left(T \\right)} J_{0}\\left(\\rho\\right) + \\sin{\\left(2 T \\right)} J_{0}\\left(2 \\rho\\right)\\right) \\frac{\\partial}{\\partial \\rho} \\left(\\sin{\\left(T \\right)} J_{0}\\left(\\rho\\right) + \\sin{\\left(2 T \\right)} J_{0}\\left(2 \\rho\\right)\\right)$"
      ],
      "text/plain": [
       "∂                 ∂                                                   ∂                                                  \n",
       "──(γ(ρ, T)) = 2⋅ρ⋅──(sin(T)⋅besselj(0, ρ) + sin(2⋅T)⋅besselj(0, 2⋅ρ))⋅──(sin(T)⋅besselj(0, ρ) + sin(2⋅T)⋅besselj(0, 2⋅ρ))\n",
       "∂T                ∂T                                                  ∂ρ                                                 "
      ]
     },
     "execution_count": 54,
     "metadata": {},
     "output_type": "execute_result"
    }
   ],
   "source": [
    "dgammadtPDE = vacuumFieldEquations[2].subs(psiSumTwoTerms.args[0],psiSumTwoTerms.args[1])\n",
    "dgammadtPDE"
   ]
  },
  {
   "cell_type": "code",
   "execution_count": 55,
   "id": "a65221ad",
   "metadata": {},
   "outputs": [
    {
     "data": {
      "image/png": "[encoded data removed]",
      "text/latex": [
       "$\\displaystyle \\frac{\\partial}{\\partial T} \\gamma{\\left(\\rho,T \\right)} = 2 \\rho \\left(- \\sin{\\left(T \\right)} J_{1}\\left(\\rho\\right) - 2 \\sin{\\left(2 T \\right)} J_{1}\\left(2 \\rho\\right)\\right) \\left(\\cos{\\left(T \\right)} J_{0}\\left(\\rho\\right) + 2 \\cos{\\left(2 T \\right)} J_{0}\\left(2 \\rho\\right)\\right)$"
      ],
      "text/plain": [
       "∂                                                                                                                         \n",
       "──(γ(ρ, T)) = 2⋅ρ⋅(-sin(T)⋅besselj(1, ρ) - 2⋅sin(2⋅T)⋅besselj(1, 2⋅ρ))⋅(cos(T)⋅besselj(0, ρ) + 2⋅cos(2⋅T)⋅besselj(0, 2⋅ρ))\n",
       "∂T                                                                                                                        "
      ]
     },
     "execution_count": 55,
     "metadata": {},
     "output_type": "execute_result"
    }
   ],
   "source": [
    "dgammadtPDE.doit()"
   ]
  },
  {
   "cell_type": "code",
   "execution_count": 56,
   "id": "6128b387",
   "metadata": {},
   "outputs": [
    {
     "data": {
      "image/png": "[encoded data removed]",
      "text/latex": [
       "$\\displaystyle \\frac{\\partial}{\\partial T} \\gamma{\\left(\\rho,T \\right)} = - 2 \\rho \\sin{\\left(T \\right)} \\cos{\\left(T \\right)} J_{0}\\left(\\rho\\right) J_{1}\\left(\\rho\\right) - 4 \\rho \\sin{\\left(T \\right)} \\cos{\\left(2 T \\right)} J_{0}\\left(2 \\rho\\right) J_{1}\\left(\\rho\\right) - 4 \\rho \\sin{\\left(2 T \\right)} \\cos{\\left(T \\right)} J_{0}\\left(\\rho\\right) J_{1}\\left(2 \\rho\\right) - 8 \\rho \\sin{\\left(2 T \\right)} \\cos{\\left(2 T \\right)} J_{0}\\left(2 \\rho\\right) J_{1}\\left(2 \\rho\\right)$"
      ],
      "text/plain": [
       "∂                                                                                                                                        \n",
       "──(γ(ρ, T)) = -2⋅ρ⋅sin(T)⋅cos(T)⋅besselj(0, ρ)⋅besselj(1, ρ) - 4⋅ρ⋅sin(T)⋅cos(2⋅T)⋅besselj(0, 2⋅ρ)⋅besselj(1, ρ) - 4⋅ρ⋅sin(2⋅T)⋅cos(T)⋅be\n",
       "∂T                                                                                                                                       \n",
       "\n",
       "                                                                                   \n",
       "sselj(0, ρ)⋅besselj(1, 2⋅ρ) - 8⋅ρ⋅sin(2⋅T)⋅cos(2⋅T)⋅besselj(0, 2⋅ρ)⋅besselj(1, 2⋅ρ)\n",
       "                                                                                   "
      ]
     },
     "execution_count": 56,
     "metadata": {},
     "output_type": "execute_result"
    }
   ],
   "source": [
    "expand(dgammadtPDE.doit())"
   ]
  },
  {
   "cell_type": "code",
   "execution_count": 58,
   "id": "feb9101f",
   "metadata": {},
   "outputs": [
    {
     "data": {
      "image/png": "[encoded data removed]",
      "text/latex": [
       "$\\displaystyle \\gamma{\\left(\\rho,T \\right)} = \\frac{4 \\rho \\left(2 \\cos^{2}{\\left(T \\right)} - 3\\right) \\cos{\\left(T \\right)} J_{0}\\left(2 \\rho\\right) J_{1}\\left(\\rho\\right)}{3} - \\rho \\sin^{2}{\\left(T \\right)} J_{0}\\left(\\rho\\right) J_{1}\\left(\\rho\\right) - 2 \\rho \\sin^{2}{\\left(2 T \\right)} J_{0}\\left(2 \\rho\\right) J_{1}\\left(2 \\rho\\right) + \\frac{8 \\rho \\cos^{3}{\\left(T \\right)} J_{0}\\left(\\rho\\right) J_{1}\\left(2 \\rho\\right)}{3} + F{\\left(\\rho \\right)}$"
      ],
      "text/plain": [
       "              ⎛     2       ⎞                                                                                                            \n",
       "          4⋅ρ⋅⎝2⋅cos (T) - 3⎠⋅cos(T)⋅besselj(0, 2⋅ρ)⋅besselj(1, ρ)        2                                         2                    \n",
       "γ(ρ, T) = ──────────────────────────────────────────────────────── - ρ⋅sin (T)⋅besselj(0, ρ)⋅besselj(1, ρ) - 2⋅ρ⋅sin (2⋅T)⋅besselj(0, 2⋅ρ\n",
       "                                     3                                                                                                   \n",
       "\n",
       "                           3                                        \n",
       "                    8⋅ρ⋅cos (T)⋅besselj(0, ρ)⋅besselj(1, 2⋅ρ)       \n",
       ")⋅besselj(1, 2⋅ρ) + ───────────────────────────────────────── + F(ρ)\n",
       "                                        3                           "
      ]
     },
     "execution_count": 58,
     "metadata": {},
     "output_type": "execute_result"
    }
   ],
   "source": [
    "integrateGammaWRTt = pdsolve( expand(dgammadtPDE.doit()) )\n",
    "integrateGammaWRTt"
   ]
  },
  {
   "cell_type": "code",
   "execution_count": 72,
   "id": "ce812fea",
   "metadata": {},
   "outputs": [
    {
     "data": {
      "image/png": "[encoded data removed]",
      "text/latex": [
       "$\\displaystyle \\gamma{\\left(\\rho,T \\right)} = \\frac{4 \\rho \\left(2 \\cos^{2}{\\left(T \\right)} - 3\\right) \\cos{\\left(T \\right)} J_{0}\\left(2 \\rho\\right) J_{1}\\left(\\rho\\right)}{3} - \\rho \\sin^{2}{\\left(T \\right)} J_{0}\\left(\\rho\\right) J_{1}\\left(\\rho\\right) - 2 \\rho \\sin^{2}{\\left(2 T \\right)} J_{0}\\left(2 \\rho\\right) J_{1}\\left(2 \\rho\\right) + \\frac{8 \\rho \\cos^{3}{\\left(T \\right)} J_{0}\\left(\\rho\\right) J_{1}\\left(2 \\rho\\right)}{3}$"
      ],
      "text/plain": [
       "              ⎛     2       ⎞                                                                                                            \n",
       "          4⋅ρ⋅⎝2⋅cos (T) - 3⎠⋅cos(T)⋅besselj(0, 2⋅ρ)⋅besselj(1, ρ)        2                                         2                    \n",
       "γ(ρ, T) = ──────────────────────────────────────────────────────── - ρ⋅sin (T)⋅besselj(0, ρ)⋅besselj(1, ρ) - 2⋅ρ⋅sin (2⋅T)⋅besselj(0, 2⋅ρ\n",
       "                                     3                                                                                                   \n",
       "\n",
       "                           3                                 \n",
       "                    8⋅ρ⋅cos (T)⋅besselj(0, ρ)⋅besselj(1, 2⋅ρ)\n",
       ")⋅besselj(1, 2⋅ρ) + ─────────────────────────────────────────\n",
       "                                        3                    "
      ]
     },
     "execution_count": 72,
     "metadata": {},
     "output_type": "execute_result"
    }
   ],
   "source": [
    "gammaSolutionT = integrateGammaWRTt.subs(integrateGammaWRTt.args[1].args[4],0)\n",
    "gammaSolutionT"
   ]
  },
  {
   "cell_type": "code",
   "execution_count": null,
   "id": "52095e3f",
   "metadata": {},
   "outputs": [],
   "source": []
  }
 ],
 "metadata": {
  "@webio": {
   "lastCommId": "dc06c6c4ab2f4c538cb2ec1823d239c9",
   "lastKernelId": "32d33853-e955-47ee-8641-c492bda88727"
  },
  "kernelspec": {
   "display_name": "Python 3 (ipykernel)",
   "language": "python",
   "name": "python3"
  },
  "language_info": {
   "codemirror_mode": {
    "name": "ipython",
    "version": 3
   },
   "file_extension": ".py",
   "mimetype": "text/x-python",
   "name": "python",
   "nbconvert_exporter": "python",
   "pygments_lexer": "ipython3",
   "version": "3.8.8"
  }
 },
 "nbformat": 4,
 "nbformat_minor": 5
}
