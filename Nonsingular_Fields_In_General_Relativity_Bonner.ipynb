{
 "cells": [
  {
   "cell_type": "markdown",
   "id": "7ba4fd6e",
   "metadata": {},
   "source": [
    "# Nonsingular Fields In General Relativity by Bonner\n",
    "##  Geoff Cope\n",
    "##  Univeristy of Utah\n",
    "##  𐐏𐐭𐑌𐐲𐑂𐐲𐑉𐑅𐐮𐐻𐐨 𐐲𐑂 𐐏𐐭𐐻𐐫\n",
    "##  January 5th, 2022"
   ]
  },
  {
   "cell_type": "markdown",
   "id": "37dbdd87",
   "metadata": {},
   "source": [
    "There are several metrics here, we focus on 3.1 the Einstein Rosen metric and will return to the others later."
   ]
  },
  {
   "cell_type": "markdown",
   "id": "bfbb8c9a",
   "metadata": {},
   "source": [
    "https://www.jstor.org/stable/24900449"
   ]
  },
  {
   "cell_type": "code",
   "execution_count": 1,
   "id": "26db9d25",
   "metadata": {},
   "outputs": [
    {
     "name": "stdout",
     "output_type": "stream",
     "text": [
      "IPython console for SymPy 1.9 (Python 3.8.8-64-bit) (ground types: gmpy)\n",
      "\n",
      "These commands were executed:\n",
      ">>> from __future__ import division\n",
      ">>> from sympy import *\n",
      ">>> x, y, z, t = symbols('x y z t')\n",
      ">>> k, m, n = symbols('k m n', integer=True)\n",
      ">>> f, g, h = symbols('f g h', cls=Function)\n",
      ">>> init_printing()\n",
      "\n",
      "Documentation can be found at https://docs.sympy.org/1.9/\n",
      "\n"
     ]
    }
   ],
   "source": [
    "from sympy import init_session\n",
    "init_session(use_latex=True)"
   ]
  },
  {
   "cell_type": "code",
   "execution_count": 2,
   "id": "30b2ace2",
   "metadata": {},
   "outputs": [],
   "source": [
    "import warnings\n",
    "import matplotlib.cbook\n",
    "warnings.filterwarnings(\"ignore\",category=matplotlib.cbook.mplDeprecation)"
   ]
  },
  {
   "cell_type": "code",
   "execution_count": 3,
   "id": "3f1ef7b0",
   "metadata": {},
   "outputs": [],
   "source": [
    "t,r,theta,z,dt,dr,dtheta,dz = symbols('t r theta z dt dr dtheta dz')"
   ]
  },
  {
   "cell_type": "code",
   "execution_count": 4,
   "id": "72d6de77",
   "metadata": {},
   "outputs": [
    {
     "data": {
      "image/png": "[encoded data removed]",
      "text/latex": [
       "$\\displaystyle \\rho{\\left(r,t \\right)}$"
      ],
      "text/plain": [
       "ρ(r, t)"
      ]
     },
     "execution_count": 4,
     "metadata": {},
     "output_type": "execute_result"
    }
   ],
   "source": [
    "rho = Function('rho')(r,t)\n",
    "rho"
   ]
  },
  {
   "cell_type": "code",
   "execution_count": 5,
   "id": "38c8d87d",
   "metadata": {},
   "outputs": [
    {
     "data": {
      "image/png": "[encoded data removed]",
      "text/latex": [
       "$\\displaystyle \\lambda{\\left(r,t \\right)}$"
      ],
      "text/plain": [
       "λ(r, t)"
      ]
     },
     "execution_count": 5,
     "metadata": {},
     "output_type": "execute_result"
    }
   ],
   "source": [
    "Lambda = Function('lambda')(r,t)\n",
    "Lambda"
   ]
  },
  {
   "cell_type": "code",
   "execution_count": 6,
   "id": "07800f77",
   "metadata": {},
   "outputs": [
    {
     "data": {
      "text/latex": [
       "$\\displaystyle \\left[\\begin{matrix}t\\\\r\\\\\\theta\\\\z\\end{matrix}\\right]$"
      ],
      "text/plain": [
       "⎡t⎤\n",
       "⎢ ⎥\n",
       "⎢r⎥\n",
       "⎢ ⎥\n",
       "⎢θ⎥\n",
       "⎢ ⎥\n",
       "⎣z⎦"
      ]
     },
     "execution_count": 6,
     "metadata": {},
     "output_type": "execute_result"
    }
   ],
   "source": [
    "variables = Matrix( [t,r,theta,z] )\n",
    "variables"
   ]
  },
  {
   "cell_type": "code",
   "execution_count": 7,
   "id": "7cc891ce",
   "metadata": {},
   "outputs": [
    {
     "data": {
      "text/latex": [
       "$\\displaystyle \\left[\\begin{matrix}dt\\\\dr\\\\dtheta\\\\dz\\end{matrix}\\right]$"
      ],
      "text/plain": [
       "⎡  dt  ⎤\n",
       "⎢      ⎥\n",
       "⎢  dr  ⎥\n",
       "⎢      ⎥\n",
       "⎢dtheta⎥\n",
       "⎢      ⎥\n",
       "⎣  dz  ⎦"
      ]
     },
     "execution_count": 7,
     "metadata": {},
     "output_type": "execute_result"
    }
   ],
   "source": [
    "differentials = Matrix( [dt,dr,dtheta,dz] ) \n",
    "differentials"
   ]
  },
  {
   "cell_type": "code",
   "execution_count": 9,
   "id": "d75fdb8c",
   "metadata": {},
   "outputs": [
    {
     "data": {
      "image/png": "[encoded data removed]",
      "text/latex": [
       "$\\displaystyle - dr^{2} e^{\\lambda{\\left(r,t \\right)}} + dt^{2} e^{\\lambda{\\left(r,t \\right)}} - dtheta^{2} r^{2} e^{- \\rho{\\left(r,t \\right)}} - dz^{2} e^{\\rho{\\left(r,t \\right)}}$"
      ],
      "text/plain": [
       "    2  λ(r, t)     2  λ(r, t)         2  2  -ρ(r, t)     2  ρ(r, t)\n",
       "- dr ⋅ℯ        + dt ⋅ℯ        - dtheta ⋅r ⋅ℯ         - dz ⋅ℯ       "
      ]
     },
     "execution_count": 9,
     "metadata": {},
     "output_type": "execute_result"
    }
   ],
   "source": [
    "lineElement =  expand( - exp(rho) * dz**2 - exp(Lambda) * dr**2 - r**2 * exp(-rho) *dtheta**2 + exp(Lambda) *dt**2 ) \n",
    "lineElement"
   ]
  },
  {
   "cell_type": "code",
   "execution_count": 10,
   "id": "909b48b6",
   "metadata": {},
   "outputs": [
    {
     "data": {
      "text/latex": [
       "$\\displaystyle \\left[\\begin{matrix}e^{\\lambda{\\left(r,t \\right)}} & 0 & 0 & 0\\\\0 & - e^{\\lambda{\\left(r,t \\right)}} & 0 & 0\\\\0 & 0 & - r^{2} e^{- \\rho{\\left(r,t \\right)}} & 0\\\\0 & 0 & 0 & - e^{\\rho{\\left(r,t \\right)}}\\end{matrix}\\right]$"
      ],
      "text/plain": [
       "⎡ λ(r, t)                                     ⎤\n",
       "⎢ℯ             0            0            0    ⎥\n",
       "⎢                                             ⎥\n",
       "⎢            λ(r, t)                          ⎥\n",
       "⎢   0      -ℯ               0            0    ⎥\n",
       "⎢                                             ⎥\n",
       "⎢                       2  -ρ(r, t)           ⎥\n",
       "⎢   0          0      -r ⋅ℯ              0    ⎥\n",
       "⎢                                             ⎥\n",
       "⎢                                      ρ(r, t)⎥\n",
       "⎣   0          0            0        -ℯ       ⎦"
      ]
     },
     "execution_count": 10,
     "metadata": {},
     "output_type": "execute_result"
    }
   ],
   "source": [
    "g = zeros(4)\n",
    "\n",
    "for i in range(4):\n",
    "    for j in range(4):\n",
    "        if i == j:\n",
    "            g[i,j] = lineElement.coeff( differentials[i],2 ) \n",
    "        else:\n",
    "            g[i,j] = Rational(1,2)*lineElement.coeff( differentials[i]*differentials[j],1 )\n",
    "            \n",
    "g"
   ]
  },
  {
   "cell_type": "code",
   "execution_count": 11,
   "id": "0c7ae2d7",
   "metadata": {},
   "outputs": [],
   "source": [
    "import sympy"
   ]
  },
  {
   "cell_type": "code",
   "execution_count": 12,
   "id": "f9227bf5",
   "metadata": {},
   "outputs": [
    {
     "data": {
      "text/latex": [
       "$\\displaystyle \\left[\\begin{matrix}e^{\\lambda{\\left(r,t \\right)}} & 0 & 0 & 0\\\\0 & - e^{\\lambda{\\left(r,t \\right)}} & 0 & 0\\\\0 & 0 & - r^{2} e^{- \\rho{\\left(r,t \\right)}} & 0\\\\0 & 0 & 0 & - e^{\\rho{\\left(r,t \\right)}}\\end{matrix}\\right]$"
      ],
      "text/plain": [
       "⎡ λ(r, t)                                     ⎤\n",
       "⎢ℯ             0            0            0    ⎥\n",
       "⎢                                             ⎥\n",
       "⎢            λ(r, t)                          ⎥\n",
       "⎢   0      -ℯ               0            0    ⎥\n",
       "⎢                                             ⎥\n",
       "⎢                       2  -ρ(r, t)           ⎥\n",
       "⎢   0          0      -r ⋅ℯ              0    ⎥\n",
       "⎢                                             ⎥\n",
       "⎢                                      ρ(r, t)⎥\n",
       "⎣   0          0            0        -ℯ       ⎦"
      ]
     },
     "execution_count": 12,
     "metadata": {},
     "output_type": "execute_result"
    }
   ],
   "source": [
    "m = sympy.Array(g)\n",
    "m"
   ]
  },
  {
   "cell_type": "code",
   "execution_count": 13,
   "id": "413e67a6",
   "metadata": {},
   "outputs": [],
   "source": [
    "from einsteinpy.symbolic import *"
   ]
  },
  {
   "cell_type": "code",
   "execution_count": 14,
   "id": "d1cf3a6c",
   "metadata": {},
   "outputs": [],
   "source": [
    "syms = sympy.symbols(\"t r theta z\")\n",
    "t,r,theta,z = syms"
   ]
  },
  {
   "cell_type": "code",
   "execution_count": 15,
   "id": "881acdec",
   "metadata": {},
   "outputs": [],
   "source": [
    "metric = MetricTensor(m,syms)"
   ]
  },
  {
   "cell_type": "code",
   "execution_count": 16,
   "id": "43d02d46",
   "metadata": {},
   "outputs": [
    {
     "data": {
      "text/latex": [
       "$\\displaystyle \\left[\\begin{matrix}\\left[\\begin{matrix}\\frac{\\frac{\\partial}{\\partial t} \\lambda{\\left(r,t \\right)}}{2} & \\frac{\\frac{\\partial}{\\partial r} \\lambda{\\left(r,t \\right)}}{2} & 0 & 0\\\\\\frac{\\frac{\\partial}{\\partial r} \\lambda{\\left(r,t \\right)}}{2} & \\frac{\\frac{\\partial}{\\partial t} \\lambda{\\left(r,t \\right)}}{2} & 0 & 0\\\\0 & 0 & - \\frac{r^{2} e^{- \\lambda{\\left(r,t \\right)} - \\rho{\\left(r,t \\right)}} \\frac{\\partial}{\\partial t} \\rho{\\left(r,t \\right)}}{2} & 0\\\\0 & 0 & 0 & \\frac{e^{- \\lambda{\\left(r,t \\right)} + \\rho{\\left(r,t \\right)}} \\frac{\\partial}{\\partial t} \\rho{\\left(r,t \\right)}}{2}\\end{matrix}\\right] & \\left[\\begin{matrix}\\frac{\\frac{\\partial}{\\partial r} \\lambda{\\left(r,t \\right)}}{2} & \\frac{\\frac{\\partial}{\\partial t} \\lambda{\\left(r,t \\right)}}{2} & 0 & 0\\\\\\frac{\\frac{\\partial}{\\partial t} \\lambda{\\left(r,t \\right)}}{2} & \\frac{\\frac{\\partial}{\\partial r} \\lambda{\\left(r,t \\right)}}{2} & 0 & 0\\\\0 & 0 & \\frac{r \\left(r \\frac{\\partial}{\\partial r} \\rho{\\left(r,t \\right)} - 2\\right) e^{- \\lambda{\\left(r,t \\right)} - \\rho{\\left(r,t \\right)}}}{2} & 0\\\\0 & 0 & 0 & - \\frac{e^{- \\lambda{\\left(r,t \\right)} + \\rho{\\left(r,t \\right)}} \\frac{\\partial}{\\partial r} \\rho{\\left(r,t \\right)}}{2}\\end{matrix}\\right] & \\left[\\begin{matrix}0 & 0 & - \\frac{\\frac{\\partial}{\\partial t} \\rho{\\left(r,t \\right)}}{2} & 0\\\\0 & 0 & - \\frac{\\frac{\\partial}{\\partial r} \\rho{\\left(r,t \\right)}}{2} + \\frac{1}{r} & 0\\\\- \\frac{\\frac{\\partial}{\\partial t} \\rho{\\left(r,t \\right)}}{2} & - \\frac{\\frac{\\partial}{\\partial r} \\rho{\\left(r,t \\right)}}{2} + \\frac{1}{r} & 0 & 0\\\\0 & 0 & 0 & 0\\end{matrix}\\right] & \\left[\\begin{matrix}0 & 0 & 0 & \\frac{\\frac{\\partial}{\\partial t} \\rho{\\left(r,t \\right)}}{2}\\\\0 & 0 & 0 & \\frac{\\frac{\\partial}{\\partial r} \\rho{\\left(r,t \\right)}}{2}\\\\0 & 0 & 0 & 0\\\\\\frac{\\frac{\\partial}{\\partial t} \\rho{\\left(r,t \\right)}}{2} & \\frac{\\frac{\\partial}{\\partial r} \\rho{\\left(r,t \\right)}}{2} & 0 & 0\\end{matrix}\\right]\\end{matrix}\\right]$"
      ],
      "text/plain": [
       "⎡⎡∂            ∂                                                                                 ⎤  ⎡∂            ∂                      \n",
       "⎢⎢──(λ(r, t))  ──(λ(r, t))                                                                       ⎥  ⎢──(λ(r, t))  ──(λ(r, t))            \n",
       "⎢⎢∂t           ∂r                                                                                ⎥  ⎢∂r           ∂t                     \n",
       "⎢⎢───────────  ───────────                   0                                   0               ⎥  ⎢───────────  ───────────            \n",
       "⎢⎢     2            2                                                                            ⎥  ⎢     2            2                 \n",
       "⎢⎢                                                                                               ⎥  ⎢                                    \n",
       "⎢⎢∂            ∂                                                                                 ⎥  ⎢∂            ∂                      \n",
       "⎢⎢──(λ(r, t))  ──(λ(r, t))                                                                       ⎥  ⎢──(λ(r, t))  ──(λ(r, t))            \n",
       "⎢⎢∂r           ∂t                                                                                ⎥  ⎢∂t           ∂r                     \n",
       "⎢⎢───────────  ───────────                   0                                   0               ⎥  ⎢───────────  ───────────            \n",
       "⎢⎢     2            2                                                                            ⎥  ⎢     2            2                 \n",
       "⎢⎢                                                                                               ⎥  ⎢                                    \n",
       "⎢⎢                            2  -λ(r, t) - ρ(r, t) ∂                                            ⎥  ⎢                            ⎛  ∂    \n",
       "⎢⎢                          -r ⋅ℯ                  ⋅──(ρ(r, t))                                  ⎥  ⎢                          r⋅⎜r⋅──(ρ(\n",
       "⎢⎢                                                  ∂t                                           ⎥  ⎢                            ⎝  ∂r   \n",
       "⎢⎢     0            0       ────────────────────────────────────                 0               ⎥  ⎢     0            0       ──────────\n",
       "⎢⎢                                           2                                                   ⎥  ⎢                                    \n",
       "⎢⎢                                                                                               ⎥  ⎢                                    \n",
       "⎢⎢                                                                 -λ(r, t) + ρ(r, t) ∂          ⎥  ⎢                                    \n",
       "⎢⎢                                                                ℯ                  ⋅──(ρ(r, t))⎥  ⎢                                    \n",
       "⎢⎢                                                                                    ∂t         ⎥  ⎢                                    \n",
       "⎢⎢     0            0                        0                    ───────────────────────────────⎥  ⎢     0            0                 \n",
       "⎣⎣                                                                               2               ⎦  ⎣                                    \n",
       "\n",
       "                                                                  ⎤                                                                      \n",
       "                                                                  ⎥                                                                      \n",
       "                                                                  ⎥  ⎡                                     ∂                ⎤  ⎡         \n",
       "          0                                      0                ⎥  ⎢                                    -──(ρ(r, t))      ⎥  ⎢         \n",
       "                                                                  ⎥  ⎢                                     ∂t               ⎥  ⎢         \n",
       "                                                                  ⎥  ⎢      0                0            ─────────────    0⎥  ⎢     0   \n",
       "                                                                  ⎥  ⎢                                          2           ⎥  ⎢         \n",
       "                                                                  ⎥  ⎢                                                      ⎥  ⎢         \n",
       "                                                                  ⎥  ⎢                                    ∂                 ⎥  ⎢         \n",
       "          0                                      0                ⎥  ⎢                                    ──(ρ(r, t))       ⎥  ⎢         \n",
       "                                                                  ⎥  ⎢                                    ∂r            1   ⎥  ⎢         \n",
       "                                                                  ⎥  ⎢      0                0          - ─────────── + ─  0⎥  ⎢     0   \n",
       "          ⎞  -λ(r, t) - ρ(r, t)                                   ⎥  ⎢                                         2        r   ⎥  ⎢         \n",
       "r, t)) - 2⎟⋅ℯ                                                     ⎥  ⎢                                                      ⎥  ⎢         \n",
       "          ⎠                                                       ⎥  ⎢ ∂               ∂                                    ⎥  ⎢     0   \n",
       "───────────────────────────────                  0                ⎥  ⎢-──(ρ(r, t))     ──(ρ(r, t))                          ⎥  ⎢         \n",
       "          2                                                       ⎥  ⎢ ∂t              ∂r            1                      ⎥  ⎢∂        \n",
       "                                                                  ⎥  ⎢─────────────  - ─────────── + ─          0          0⎥  ⎢──(ρ(r, t\n",
       "                                   -λ(r, t) + ρ(r, t) ∂           ⎥  ⎢      2               2        r                      ⎥  ⎢∂t       \n",
       "                                 -ℯ                  ⋅──(ρ(r, t)) ⎥  ⎢                                                      ⎥  ⎢─────────\n",
       "                                                      ∂r          ⎥  ⎣      0                0                  0          0⎦  ⎣     2   \n",
       "          0                      ─────────────────────────────────⎥                                                                      \n",
       "                                                 2                ⎦                                                                      \n",
       "\n",
       "                                ⎤\n",
       "                                ⎥\n",
       "                    ∂          ⎤⎥\n",
       "                    ──(ρ(r, t))⎥⎥\n",
       "                    ∂t         ⎥⎥\n",
       "         0       0  ───────────⎥⎥\n",
       "                         2     ⎥⎥\n",
       "                               ⎥⎥\n",
       "                    ∂          ⎥⎥\n",
       "                    ──(ρ(r, t))⎥⎥\n",
       "                    ∂r         ⎥⎥\n",
       "         0       0  ───────────⎥⎥\n",
       "                         2     ⎥⎥\n",
       "                               ⎥⎥\n",
       "         0       0       0     ⎥⎥\n",
       "                               ⎥⎥\n",
       "    ∂                          ⎥⎥\n",
       "))  ──(ρ(r, t))                ⎥⎥\n",
       "    ∂r                         ⎥⎥\n",
       "──  ───────────  0       0     ⎥⎥\n",
       "         2                     ⎦⎥\n",
       "                                ⎥\n",
       "                                ⎦"
      ]
     },
     "execution_count": 16,
     "metadata": {},
     "output_type": "execute_result"
    }
   ],
   "source": [
    "ch = ChristoffelSymbols.from_metric(metric)\n",
    "simplify(ch.tensor())"
   ]
  },
  {
   "cell_type": "code",
   "execution_count": 17,
   "id": "7a5e7981",
   "metadata": {},
   "outputs": [
    {
     "data": {
      "text/latex": [
       "$\\displaystyle \\left[\\begin{matrix}\\frac{r \\frac{\\partial^{2}}{\\partial r^{2}} \\lambda{\\left(r,t \\right)} - r \\frac{\\partial^{2}}{\\partial t^{2}} \\lambda{\\left(r,t \\right)} - r \\left(\\frac{\\partial}{\\partial t} \\rho{\\left(r,t \\right)}\\right)^{2} + \\frac{\\partial}{\\partial r} \\lambda{\\left(r,t \\right)}}{2 r} & \\frac{- r \\frac{\\partial}{\\partial r} \\rho{\\left(r,t \\right)} \\frac{\\partial}{\\partial t} \\rho{\\left(r,t \\right)} + \\frac{\\partial}{\\partial t} \\lambda{\\left(r,t \\right)} + \\frac{\\partial}{\\partial t} \\rho{\\left(r,t \\right)}}{2 r} & 0 & 0\\\\\\frac{- r \\frac{\\partial}{\\partial r} \\rho{\\left(r,t \\right)} \\frac{\\partial}{\\partial t} \\rho{\\left(r,t \\right)} + \\frac{\\partial}{\\partial t} \\lambda{\\left(r,t \\right)} + \\frac{\\partial}{\\partial t} \\rho{\\left(r,t \\right)}}{2 r} & \\frac{r \\left(- \\frac{\\partial^{2}}{\\partial r^{2}} \\lambda{\\left(r,t \\right)} + \\frac{\\partial^{2}}{\\partial t^{2}} \\lambda{\\left(r,t \\right)} - \\left(\\frac{\\partial}{\\partial r} \\rho{\\left(r,t \\right)}\\right)^{2}\\right) + \\frac{\\partial}{\\partial r} \\lambda{\\left(r,t \\right)} + 2 \\frac{\\partial}{\\partial r} \\rho{\\left(r,t \\right)}}{2 r} & 0 & 0\\\\0 & 0 & \\frac{r \\left(r \\frac{\\partial^{2}}{\\partial r^{2}} \\rho{\\left(r,t \\right)} - r \\frac{\\partial^{2}}{\\partial t^{2}} \\rho{\\left(r,t \\right)} + \\frac{\\partial}{\\partial r} \\rho{\\left(r,t \\right)}\\right) e^{- \\lambda{\\left(r,t \\right)} - \\rho{\\left(r,t \\right)}}}{2} & 0\\\\0 & 0 & 0 & \\frac{\\left(- r \\frac{\\partial^{2}}{\\partial r^{2}} \\rho{\\left(r,t \\right)} + r \\frac{\\partial^{2}}{\\partial t^{2}} \\rho{\\left(r,t \\right)} - \\frac{\\partial}{\\partial r} \\rho{\\left(r,t \\right)}\\right) e^{- \\lambda{\\left(r,t \\right)} + \\rho{\\left(r,t \\right)}}}{2 r}\\end{matrix}\\right]$"
      ],
      "text/plain": [
       "⎡    2                2                           2                                                                                      \n",
       "⎢   ∂                ∂               ⎛∂          ⎞    ∂                                                                                  \n",
       "⎢r⋅───(λ(r, t)) - r⋅───(λ(r, t)) - r⋅⎜──(ρ(r, t))⎟  + ──(λ(r, t))                  ∂           ∂             ∂             ∂             \n",
       "⎢    2                2              ⎝∂t         ⎠    ∂r                       - r⋅──(ρ(r, t))⋅──(ρ(r, t)) + ──(λ(r, t)) + ──(ρ(r, t))   \n",
       "⎢  ∂r               ∂t                                                             ∂r          ∂t            ∂t            ∂t            \n",
       "⎢────────────────────────────────────────────────────────────────              ───────────────────────────────────────────────────────   \n",
       "⎢                              2⋅r                                                                       2⋅r                             \n",
       "⎢                                                                                                                                        \n",
       "⎢                                                                    ⎛    2              2                         2⎞                    \n",
       "⎢                                                                    ⎜   ∂              ∂             ⎛∂          ⎞ ⎟   ∂               ∂\n",
       "⎢        ∂           ∂             ∂             ∂                 r⋅⎜- ───(λ(r, t)) + ───(λ(r, t)) - ⎜──(ρ(r, t))⎟ ⎟ + ──(λ(r, t)) + 2⋅─\n",
       "⎢    - r⋅──(ρ(r, t))⋅──(ρ(r, t)) + ──(λ(r, t)) + ──(ρ(r, t))         ⎜    2              2            ⎝∂r         ⎠ ⎟   ∂r              ∂\n",
       "⎢        ∂r          ∂t            ∂t            ∂t                  ⎝  ∂r             ∂t                           ⎠                    \n",
       "⎢    ───────────────────────────────────────────────────────       ──────────────────────────────────────────────────────────────────────\n",
       "⎢                              2⋅r                                                                       2⋅r                             \n",
       "⎢                                                                                                                                        \n",
       "⎢                                                                                                                                        \n",
       "⎢                                                                                                                                        \n",
       "⎢                                                                                                                                        \n",
       "⎢                                                                                                                                        \n",
       "⎢                                                                                                                                        \n",
       "⎢                               0                                                                         0                              \n",
       "⎢                                                                                                                                        \n",
       "⎢                                                                                                                                        \n",
       "⎢                                                                                                                                        \n",
       "⎢                                                                                                                                        \n",
       "⎢                                                                                                                                        \n",
       "⎢                                                                                                                                        \n",
       "⎢                                                                                                                                        \n",
       "⎢                               0                                                                         0                              \n",
       "⎣                                                                                                                                        \n",
       "\n",
       "                                                                                                                                         \n",
       "                                                                                                                                         \n",
       "                                                                                                                                         \n",
       "                                                                                                                                         \n",
       "                                                                                                                                         \n",
       "                                              0                                                                      0                   \n",
       "                                                                                                                                         \n",
       "                                                                                                                                         \n",
       "                                                                                                                                         \n",
       "                                                                                                                                         \n",
       "─(ρ(r, t))                                                                                                                               \n",
       "r                                                                                                                                        \n",
       "                                                                                                                                         \n",
       "──────────                                    0                                                                      0                   \n",
       "                                                                                                                                         \n",
       "                                                                                                                                         \n",
       "              ⎛    2                2                       ⎞                                                                            \n",
       "              ⎜   ∂                ∂             ∂          ⎟  -λ(r, t) - ρ(r, t)                                                        \n",
       "            r⋅⎜r⋅───(ρ(r, t)) - r⋅───(ρ(r, t)) + ──(ρ(r, t))⎟⋅ℯ                                                                          \n",
       "              ⎜    2                2            ∂r         ⎟                                                                            \n",
       "              ⎝  ∂r               ∂t                        ⎠                                                                            \n",
       "            ─────────────────────────────────────────────────────────────────────                                    0                   \n",
       "                                              2                                                                                          \n",
       "                                                                                                                                         \n",
       "                                                                                   ⎛      2                2                       ⎞     \n",
       "                                                                                   ⎜     ∂                ∂             ∂          ⎟  -λ(\n",
       "                                                                                   ⎜- r⋅───(ρ(r, t)) + r⋅───(ρ(r, t)) - ──(ρ(r, t))⎟⋅ℯ   \n",
       "                                                                                   ⎜      2                2            ∂r         ⎟     \n",
       "                                                                                   ⎝    ∂r               ∂t                        ⎠     \n",
       "                                              0                                    ──────────────────────────────────────────────────────\n",
       "                                                                                                                    2⋅r                  \n",
       "\n",
       "               ⎤\n",
       "               ⎥\n",
       "               ⎥\n",
       "               ⎥\n",
       "               ⎥\n",
       "               ⎥\n",
       "               ⎥\n",
       "               ⎥\n",
       "               ⎥\n",
       "               ⎥\n",
       "               ⎥\n",
       "               ⎥\n",
       "               ⎥\n",
       "               ⎥\n",
       "               ⎥\n",
       "               ⎥\n",
       "               ⎥\n",
       "               ⎥\n",
       "               ⎥\n",
       "               ⎥\n",
       "               ⎥\n",
       "               ⎥\n",
       "               ⎥\n",
       "               ⎥\n",
       "               ⎥\n",
       "r, t) + ρ(r, t)⎥\n",
       "               ⎥\n",
       "               ⎥\n",
       "               ⎥\n",
       "───────────────⎥\n",
       "               ⎦"
      ]
     },
     "execution_count": 17,
     "metadata": {},
     "output_type": "execute_result"
    }
   ],
   "source": [
    "Ric = RicciTensor.from_metric(metric)\n",
    "Ric.tensor()"
   ]
  },
  {
   "cell_type": "code",
   "execution_count": 18,
   "id": "b2d329bd",
   "metadata": {},
   "outputs": [
    {
     "data": {
      "image/png": "[encoded data removed]",
      "text/latex": [
       "$\\displaystyle \\frac{\\left(r \\frac{\\partial^{2}}{\\partial r^{2}} \\lambda{\\left(r,t \\right)} - r \\frac{\\partial^{2}}{\\partial t^{2}} \\lambda{\\left(r,t \\right)} + \\frac{r \\left(\\frac{\\partial}{\\partial r} \\rho{\\left(r,t \\right)}\\right)^{2}}{2} - \\frac{r \\left(\\frac{\\partial}{\\partial t} \\rho{\\left(r,t \\right)}\\right)^{2}}{2} - \\frac{\\partial}{\\partial r} \\rho{\\left(r,t \\right)}\\right) e^{- \\lambda{\\left(r,t \\right)}}}{r}$"
      ],
      "text/plain": [
       "⎛                                                 2                  2              ⎞          \n",
       "⎜                                    ⎛∂          ⎞      ⎛∂          ⎞               ⎟          \n",
       "⎜    2                2            r⋅⎜──(ρ(r, t))⎟    r⋅⎜──(ρ(r, t))⎟               ⎟          \n",
       "⎜   ∂                ∂               ⎝∂r         ⎠      ⎝∂t         ⎠    ∂          ⎟  -λ(r, t)\n",
       "⎜r⋅───(λ(r, t)) - r⋅───(λ(r, t)) + ──────────────── - ──────────────── - ──(ρ(r, t))⎟⋅ℯ        \n",
       "⎜    2                2                   2                  2           ∂r         ⎟          \n",
       "⎝  ∂r               ∂t                                                              ⎠          \n",
       "───────────────────────────────────────────────────────────────────────────────────────────────\n",
       "                                               r                                               "
      ]
     },
     "execution_count": 18,
     "metadata": {},
     "output_type": "execute_result"
    }
   ],
   "source": [
    "R = RicciScalar.from_riccitensor(Ric)\n",
    "R.simplify()\n",
    "R.expr"
   ]
  },
  {
   "cell_type": "code",
   "execution_count": 19,
   "id": "05e3dc65",
   "metadata": {},
   "outputs": [
    {
     "data": {
      "text/latex": [
       "$\\displaystyle \\left[\\begin{matrix}\\frac{- 0.5 r \\left(\\frac{\\partial}{\\partial r} \\rho{\\left(r,t \\right)}\\right)^{2} - 0.5 r \\left(\\frac{\\partial}{\\partial t} \\rho{\\left(r,t \\right)}\\right)^{2} + \\frac{\\partial}{\\partial r} \\lambda{\\left(r,t \\right)} + \\frac{\\partial}{\\partial r} \\rho{\\left(r,t \\right)}}{2 r} & \\frac{- r \\frac{\\partial}{\\partial r} \\rho{\\left(r,t \\right)} \\frac{\\partial}{\\partial t} \\rho{\\left(r,t \\right)} + \\frac{\\partial}{\\partial t} \\lambda{\\left(r,t \\right)} + \\frac{\\partial}{\\partial t} \\rho{\\left(r,t \\right)}}{2 r} & 0 & 0\\\\\\frac{- r \\frac{\\partial}{\\partial r} \\rho{\\left(r,t \\right)} \\frac{\\partial}{\\partial t} \\rho{\\left(r,t \\right)} + \\frac{\\partial}{\\partial t} \\lambda{\\left(r,t \\right)} + \\frac{\\partial}{\\partial t} \\rho{\\left(r,t \\right)}}{2 r} & - 0.25 \\left(\\frac{\\partial}{\\partial r} \\rho{\\left(r,t \\right)}\\right)^{2} - 0.25 \\left(\\frac{\\partial}{\\partial t} \\rho{\\left(r,t \\right)}\\right)^{2} + \\frac{0.5 \\frac{\\partial}{\\partial r} \\lambda{\\left(r,t \\right)}}{r} + \\frac{0.5 \\frac{\\partial}{\\partial r} \\rho{\\left(r,t \\right)}}{r} & 0 & 0\\\\0 & 0 & r^{2} \\left(0.5 \\frac{\\partial^{2}}{\\partial r^{2}} \\lambda{\\left(r,t \\right)} - 0.5 \\frac{\\partial^{2}}{\\partial t^{2}} \\lambda{\\left(r,t \\right)} + 0.25 \\left(\\frac{\\partial}{\\partial r} \\rho{\\left(r,t \\right)}\\right)^{2} + 0.5 \\frac{\\partial^{2}}{\\partial r^{2}} \\rho{\\left(r,t \\right)} - 0.25 \\left(\\frac{\\partial}{\\partial t} \\rho{\\left(r,t \\right)}\\right)^{2} - 0.5 \\frac{\\partial^{2}}{\\partial t^{2}} \\rho{\\left(r,t \\right)}\\right) e^{- \\lambda{\\left(r,t \\right)} - \\rho{\\left(r,t \\right)}} & 0\\\\0 & 0 & 0 & \\frac{\\left(1.0 r \\frac{\\partial^{2}}{\\partial r^{2}} \\lambda{\\left(r,t \\right)} - 1.0 r \\frac{\\partial^{2}}{\\partial t^{2}} \\lambda{\\left(r,t \\right)} + 0.5 r \\left(\\frac{\\partial}{\\partial r} \\rho{\\left(r,t \\right)}\\right)^{2} - r \\frac{\\partial^{2}}{\\partial r^{2}} \\rho{\\left(r,t \\right)} - 0.5 r \\left(\\frac{\\partial}{\\partial t} \\rho{\\left(r,t \\right)}\\right)^{2} + r \\frac{\\partial^{2}}{\\partial t^{2}} \\rho{\\left(r,t \\right)} - 2.0 \\frac{\\partial}{\\partial r} \\rho{\\left(r,t \\right)}\\right) e^{- \\lambda{\\left(r,t \\right)} + \\rho{\\left(r,t \\right)}}}{2 r}\\end{matrix}\\right]$"
      ],
      "text/plain": [
       "⎡                     2                      2                                                                                           \n",
       "⎢        ⎛∂          ⎞          ⎛∂          ⎞    ∂             ∂                            ∂           ∂             ∂             ∂    \n",
       "⎢- 0.5⋅r⋅⎜──(ρ(r, t))⎟  - 0.5⋅r⋅⎜──(ρ(r, t))⎟  + ──(λ(r, t)) + ──(ρ(r, t))              - r⋅──(ρ(r, t))⋅──(ρ(r, t)) + ──(λ(r, t)) + ──(ρ(\n",
       "⎢        ⎝∂r         ⎠          ⎝∂t         ⎠    ∂r            ∂r                           ∂r          ∂t            ∂t            ∂t   \n",
       "⎢─────────────────────────────────────────────────────────────────────────              ─────────────────────────────────────────────────\n",
       "⎢                                   2⋅r                                                                           2⋅r                    \n",
       "⎢                                                                                                                                        \n",
       "⎢             ∂           ∂             ∂             ∂                                                                       ∂          \n",
       "⎢         - r⋅──(ρ(r, t))⋅──(ρ(r, t)) + ──(λ(r, t)) + ──(ρ(r, t))                               2                     2   0.5⋅──(λ(r, t))\n",
       "⎢             ∂r          ∂t            ∂t            ∂t                           ⎛∂          ⎞         ⎛∂          ⎞        ∂r         \n",
       "⎢         ───────────────────────────────────────────────────────           - 0.25⋅⎜──(ρ(r, t))⎟  - 0.25⋅⎜──(ρ(r, t))⎟  + ───────────────\n",
       "⎢                                   2⋅r                                            ⎝∂r         ⎠         ⎝∂t         ⎠           r       \n",
       "⎢                                                                                                                                        \n",
       "⎢                                                                                                                                        \n",
       "⎢                                                                                                                                        \n",
       "⎢                                    0                                                                             0                     \n",
       "⎢                                                                                                                                        \n",
       "⎢                                                                                                                                        \n",
       "⎢                                                                                                                                        \n",
       "⎢                                                                                                                                        \n",
       "⎢                                                                                                                                        \n",
       "⎢                                                                                                                                        \n",
       "⎢                                                                                                                                        \n",
       "⎢                                                                                                                                        \n",
       "⎢                                    0                                                                             0                     \n",
       "⎣                                                                                                                                        \n",
       "\n",
       "                                                                                                                                         \n",
       "                                                                                                                                         \n",
       "r, t))                                                                                                                                   \n",
       "                                                                                                                                         \n",
       "──────                                                                                    0                                              \n",
       "                                                                                                                                         \n",
       "                                                                                                                                         \n",
       "       ∂                                                                                                                                 \n",
       "   0.5⋅──(ρ(r, t))                                                                                                                       \n",
       "       ∂r                                                                                                                                \n",
       " + ───────────────                                                                        0                                              \n",
       "          r                                                                                                                              \n",
       "                                                                                                                                         \n",
       "                       ⎛      2                  2                              2         2                              2         2     \n",
       "                     2 ⎜     ∂                  ∂                  ⎛∂          ⎞         ∂                  ⎛∂          ⎞         ∂      \n",
       "                    r ⋅⎜0.5⋅───(λ(r, t)) - 0.5⋅───(λ(r, t)) + 0.25⋅⎜──(ρ(r, t))⎟  + 0.5⋅───(ρ(r, t)) - 0.25⋅⎜──(ρ(r, t))⎟  - 0.5⋅───(ρ(r,\n",
       "                       ⎜      2                  2                 ⎝∂r         ⎠          2                 ⎝∂t         ⎠          2     \n",
       "                       ⎝    ∂r                 ∂t                                       ∂r                                       ∂t      \n",
       "                                                                                                                                         \n",
       "                                                                                                                                         \n",
       "                                                                                                                                         \n",
       "                                                                                                                                         \n",
       "                                                                                                                                         \n",
       "                                                                                                                                         \n",
       "                                                                                          0                                              \n",
       "                                                                                                                                         \n",
       "\n",
       "                                                                                                                                         \n",
       "                                                                                                                                         \n",
       "                                                                                                                                         \n",
       "                                                                                                                                         \n",
       "                                                                                                        0                                \n",
       "                                                                                                                                         \n",
       "                                                                                                                                         \n",
       "                                                                                                                                         \n",
       "                                                                                                                                         \n",
       "                                                                                                                                         \n",
       "                                                                                                        0                                \n",
       "                                                                                                                                         \n",
       "                                                                                                                                         \n",
       "    ⎞                                                                                                                                    \n",
       "    ⎟  -λ(r, t) - ρ(r, t)                                                                                                                \n",
       " t))⎟⋅ℯ                                                                                                 0                                \n",
       "    ⎟                                                                                                                                    \n",
       "    ⎠                                                                                                                                    \n",
       "                                                                                                                                         \n",
       "                           ⎛        2                2                               2       2                               2       2   \n",
       "                           ⎜       ∂                ∂                   ⎛∂          ⎞       ∂                   ⎛∂          ⎞       ∂    \n",
       "                           ⎜1.0⋅r⋅───(λ(r, t)) - r⋅───(λ(r, t)) + 0.5⋅r⋅⎜──(ρ(r, t))⎟  - r⋅───(ρ(r, t)) - 0.5⋅r⋅⎜──(ρ(r, t))⎟  + r⋅───(ρ(\n",
       "                           ⎜        2                2                  ⎝∂r         ⎠        2                  ⎝∂t         ⎠        2   \n",
       "                           ⎝      ∂r               ∂t                                      ∂r                                      ∂t    \n",
       "                           ──────────────────────────────────────────────────────────────────────────────────────────────────────────────\n",
       "                                                                                                       2⋅r                               \n",
       "\n",
       "                                             ⎤\n",
       "                                             ⎥\n",
       "                                             ⎥\n",
       "                                             ⎥\n",
       "                                             ⎥\n",
       "                                             ⎥\n",
       "                                             ⎥\n",
       "                                             ⎥\n",
       "                                             ⎥\n",
       "                                             ⎥\n",
       "                                             ⎥\n",
       "                                             ⎥\n",
       "                                             ⎥\n",
       "                                             ⎥\n",
       "                                             ⎥\n",
       "                                             ⎥\n",
       "                                             ⎥\n",
       "                                             ⎥\n",
       "                                             ⎥\n",
       "                        ⎞                    ⎥\n",
       "             ∂          ⎟  -λ(r, t) + ρ(r, t)⎥\n",
       "r, t)) - 2.0⋅──(ρ(r, t))⎟⋅ℯ                  ⎥\n",
       "             ∂r         ⎟                    ⎥\n",
       "                        ⎠                    ⎥\n",
       "─────────────────────────────────────────────⎥\n",
       "                                             ⎦"
      ]
     },
     "execution_count": 19,
     "metadata": {},
     "output_type": "execute_result"
    }
   ],
   "source": [
    "einst = EinsteinTensor.from_metric(metric)\n",
    "simplify(einst.tensor())"
   ]
  },
  {
   "cell_type": "code",
   "execution_count": 20,
   "id": "c5b859bb",
   "metadata": {},
   "outputs": [],
   "source": [
    "#  rm1 = RiemannCurvatureTensor.from_christoffels(ch)\n",
    "#  rm1.tensor()"
   ]
  },
  {
   "cell_type": "code",
   "execution_count": 21,
   "id": "07129610",
   "metadata": {},
   "outputs": [],
   "source": [
    "#  weyl = WeylTensor.from_metric(metric)\n",
    "#  weyl.tensor()"
   ]
  },
  {
   "cell_type": "code",
   "execution_count": 48,
   "id": "8aab4da9",
   "metadata": {},
   "outputs": [
    {
     "data": {
      "image/png": "[encoded data removed]",
      "text/latex": [
       "$\\displaystyle \\frac{\\partial^{2}}{\\partial r^{2}} \\rho{\\left(r,t \\right)} - \\frac{\\partial^{2}}{\\partial t^{2}} \\rho{\\left(r,t \\right)} + \\frac{\\frac{\\partial}{\\partial r} \\rho{\\left(r,t \\right)}}{r} = 0$"
      ],
      "text/plain": [
       "                              ∂              \n",
       "  2              2            ──(ρ(r, t))    \n",
       " ∂              ∂             ∂r             \n",
       "───(ρ(r, t)) - ───(ρ(r, t)) + ─────────── = 0\n",
       "  2              2                 r         \n",
       "∂r             ∂t                            "
      ]
     },
     "execution_count": 48,
     "metadata": {},
     "output_type": "execute_result"
    }
   ],
   "source": [
    "equation3pt2 = Eq( expand( (1/r)*Ric.tensor()[2,2].args[2] ), 0 ) \n",
    "equation3pt2"
   ]
  },
  {
   "cell_type": "code",
   "execution_count": 47,
   "id": "0b426c04",
   "metadata": {},
   "outputs": [
    {
     "data": {
      "image/png": "[encoded data removed]",
      "text/latex": [
       "$\\displaystyle \\frac{\\partial}{\\partial r} \\lambda{\\left(r,t \\right)} = 0.5 r \\left(\\frac{\\partial}{\\partial r} \\rho{\\left(r,t \\right)}\\right)^{2} + 0.5 r \\left(\\frac{\\partial}{\\partial t} \\rho{\\left(r,t \\right)}\\right)^{2} - \\frac{\\partial}{\\partial r} \\rho{\\left(r,t \\right)}$"
      ],
      "text/plain": [
       "                                 2                      2              \n",
       "∂                   ⎛∂          ⎞          ⎛∂          ⎞    ∂          \n",
       "──(λ(r, t)) = 0.5⋅r⋅⎜──(ρ(r, t))⎟  + 0.5⋅r⋅⎜──(ρ(r, t))⎟  - ──(ρ(r, t))\n",
       "∂r                  ⎝∂r         ⎠          ⎝∂t         ⎠    ∂r         "
      ]
     },
     "execution_count": 47,
     "metadata": {},
     "output_type": "execute_result"
    }
   ],
   "source": [
    "equation3pt3 = Eq(diff(Lambda,r),solve( simplify(einst.tensor())[0,0].args[2], diff(Lambda,r) )[0] ) \n",
    "equation3pt3"
   ]
  },
  {
   "cell_type": "code",
   "execution_count": 37,
   "id": "62fe36a4",
   "metadata": {},
   "outputs": [
    {
     "data": {
      "image/png": "[encoded data removed]",
      "text/latex": [
       "$\\displaystyle \\frac{\\partial}{\\partial t} \\lambda{\\left(r,t \\right)} = r \\frac{\\partial}{\\partial r} \\rho{\\left(r,t \\right)} \\frac{\\partial}{\\partial t} \\rho{\\left(r,t \\right)} - \\frac{\\partial}{\\partial t} \\rho{\\left(r,t \\right)}$"
      ],
      "text/plain": [
       "∂               ∂           ∂             ∂          \n",
       "──(λ(r, t)) = r⋅──(ρ(r, t))⋅──(ρ(r, t)) - ──(ρ(r, t))\n",
       "∂t              ∂r          ∂t            ∂t         "
      ]
     },
     "execution_count": 37,
     "metadata": {},
     "output_type": "execute_result"
    }
   ],
   "source": [
    "equation3pt4 = expand( Eq( diff(Lambda,t),solve( simplify(einst.tensor())[0,1].args[2], diff(Lambda,t) )[0] ) ) \n",
    "equation3pt4"
   ]
  },
  {
   "cell_type": "code",
   "execution_count": 50,
   "id": "036cd564",
   "metadata": {},
   "outputs": [
    {
     "data": {
      "text/latex": [
       "$\\displaystyle \\left[\\begin{matrix}\\frac{\\partial^{2}}{\\partial r^{2}} \\rho{\\left(r,t \\right)} - \\frac{\\partial^{2}}{\\partial t^{2}} \\rho{\\left(r,t \\right)} + \\frac{\\frac{\\partial}{\\partial r} \\rho{\\left(r,t \\right)}}{r} = 0\\\\\\frac{\\partial}{\\partial r} \\lambda{\\left(r,t \\right)} = 0.5 r \\left(\\frac{\\partial}{\\partial r} \\rho{\\left(r,t \\right)}\\right)^{2} + 0.5 r \\left(\\frac{\\partial}{\\partial t} \\rho{\\left(r,t \\right)}\\right)^{2} - \\frac{\\partial}{\\partial r} \\rho{\\left(r,t \\right)}\\\\\\frac{\\partial}{\\partial t} \\lambda{\\left(r,t \\right)} = r \\frac{\\partial}{\\partial r} \\rho{\\left(r,t \\right)} \\frac{\\partial}{\\partial t} \\rho{\\left(r,t \\right)} - \\frac{\\partial}{\\partial t} \\rho{\\left(r,t \\right)}\\end{matrix}\\right]$"
      ],
      "text/plain": [
       "⎡                                           ∂                           ⎤\n",
       "⎢               2              2            ──(ρ(r, t))                 ⎥\n",
       "⎢              ∂              ∂             ∂r                          ⎥\n",
       "⎢             ───(ρ(r, t)) - ───(ρ(r, t)) + ─────────── = 0             ⎥\n",
       "⎢               2              2                 r                      ⎥\n",
       "⎢             ∂r             ∂t                                         ⎥\n",
       "⎢                                                                       ⎥\n",
       "⎢                                 2                      2              ⎥\n",
       "⎢∂                   ⎛∂          ⎞          ⎛∂          ⎞    ∂          ⎥\n",
       "⎢──(λ(r, t)) = 0.5⋅r⋅⎜──(ρ(r, t))⎟  + 0.5⋅r⋅⎜──(ρ(r, t))⎟  - ──(ρ(r, t))⎥\n",
       "⎢∂r                  ⎝∂r         ⎠          ⎝∂t         ⎠    ∂r         ⎥\n",
       "⎢                                                                       ⎥\n",
       "⎢         ∂               ∂           ∂             ∂                   ⎥\n",
       "⎢         ──(λ(r, t)) = r⋅──(ρ(r, t))⋅──(ρ(r, t)) - ──(ρ(r, t))         ⎥\n",
       "⎣         ∂t              ∂r          ∂t            ∂t                  ⎦"
      ]
     },
     "execution_count": 50,
     "metadata": {},
     "output_type": "execute_result"
    }
   ],
   "source": [
    "vacuumFieldEquations = Matrix([equation3pt2,equation3pt3,equation3pt4])\n",
    "vacuumFieldEquations"
   ]
  },
  {
   "cell_type": "code",
   "execution_count": 51,
   "id": "464eaed2",
   "metadata": {},
   "outputs": [],
   "source": [
    "X, Y = map(Function, 'XY')"
   ]
  },
  {
   "cell_type": "code",
   "execution_count": 52,
   "id": "af369703",
   "metadata": {},
   "outputs": [
    {
     "data": {
      "image/png": "[encoded data removed]",
      "text/latex": [
       "$\\displaystyle \\frac{\\partial^{2}}{\\partial r^{2}} \\rho{\\left(r,t \\right)} - \\frac{\\partial^{2}}{\\partial t^{2}} \\rho{\\left(r,t \\right)} + \\frac{\\frac{\\partial}{\\partial r} \\rho{\\left(r,t \\right)}}{r} = 0$"
      ],
      "text/plain": [
       "                              ∂              \n",
       "  2              2            ──(ρ(r, t))    \n",
       " ∂              ∂             ∂r             \n",
       "───(ρ(r, t)) - ───(ρ(r, t)) + ─────────── = 0\n",
       "  2              2                 r         \n",
       "∂r             ∂t                            "
      ]
     },
     "execution_count": 52,
     "metadata": {},
     "output_type": "execute_result"
    }
   ],
   "source": [
    "eq = vacuumFieldEquations[0]\n",
    "eq"
   ]
  },
  {
   "cell_type": "code",
   "execution_count": 54,
   "id": "2475333a",
   "metadata": {},
   "outputs": [
    {
     "data": {
      "image/png": "[encoded data removed]",
      "text/latex": [
       "$\\displaystyle \\frac{\\frac{d^{2}}{d r^{2}} X{\\left(r \\right)}}{X{\\left(r \\right)}} + \\frac{\\frac{d}{d r} X{\\left(r \\right)}}{r X{\\left(r \\right)}} = - k^{2}$"
      ],
      "text/plain": [
       "  2                       \n",
       " d                        \n",
       "───(X(r))   d             \n",
       "  2         ──(X(r))      \n",
       "dr          dr           2\n",
       "───────── + ──────── = -k \n",
       "   X(r)      r⋅X(r)       "
      ]
     },
     "execution_count": 54,
     "metadata": {},
     "output_type": "execute_result"
    }
   ],
   "source": [
    "xODE = Eq(pde_separate( eq, rho, [X(r),Y(t)])[0] , -k**2 ) \n",
    "xODE"
   ]
  },
  {
   "cell_type": "code",
   "execution_count": 55,
   "id": "cd968ff7",
   "metadata": {},
   "outputs": [
    {
     "data": {
      "image/png": "[encoded data removed]",
      "text/latex": [
       "$\\displaystyle X{\\left(r \\right)} = C_{1} J_{0}\\left(k r\\right) + C_{2} Y_{0}\\left(k r\\right)$"
      ],
      "text/plain": [
       "X(r) = C₁⋅besselj(0, k⋅r) + C₂⋅bessely(0, k⋅r)"
      ]
     },
     "execution_count": 55,
     "metadata": {},
     "output_type": "execute_result"
    }
   ],
   "source": [
    "xSolution = dsolve( xODE , X(r))\n",
    "xSolution "
   ]
  },
  {
   "cell_type": "code",
   "execution_count": 56,
   "id": "bc3dfb9c",
   "metadata": {},
   "outputs": [
    {
     "data": {
      "image/png": "[encoded data removed]",
      "text/latex": [
       "$\\displaystyle X{\\left(r \\right)} = J_{0}\\left(k r\\right)$"
      ],
      "text/plain": [
       "X(r) = besselj(0, k⋅r)"
      ]
     },
     "execution_count": 56,
     "metadata": {},
     "output_type": "execute_result"
    }
   ],
   "source": [
    "#  Here we arbitrarily set one of the Bessel functions equal to zero... fix this later\n",
    "xSolutionParticular = xSolution.subs(xSolution.args[1].args[0].args[0],1).subs(xSolution.args[1].args[1].args[0],0)\n",
    "xSolutionParticular"
   ]
  },
  {
   "cell_type": "code",
   "execution_count": 57,
   "id": "79e7de4b",
   "metadata": {},
   "outputs": [
    {
     "data": {
      "image/png": "[encoded data removed]",
      "text/latex": [
       "$\\displaystyle \\frac{\\frac{d^{2}}{d t^{2}} Y{\\left(t \\right)}}{Y{\\left(t \\right)}} = - k^{2}$"
      ],
      "text/plain": [
       "  2            \n",
       " d             \n",
       "───(Y(t))      \n",
       "  2            \n",
       "dt            2\n",
       "───────── = -k \n",
       "   Y(t)        "
      ]
     },
     "execution_count": 57,
     "metadata": {},
     "output_type": "execute_result"
    }
   ],
   "source": [
    "yODE = Eq( pde_separate( eq, rho, [X(r),Y(t)])[1] ,  -k**2 ) \n",
    "yODE"
   ]
  },
  {
   "cell_type": "code",
   "execution_count": 58,
   "id": "a35d31be",
   "metadata": {},
   "outputs": [
    {
     "data": {
      "image/png": "[encoded data removed]",
      "text/latex": [
       "$\\displaystyle Y{\\left(t \\right)} = C_{1} \\sin{\\left(t \\left|{k}\\right| \\right)} + C_{2} \\cos{\\left(k t \\right)}$"
      ],
      "text/plain": [
       "Y(t) = C₁⋅sin(t⋅│k│) + C₂⋅cos(k⋅t)"
      ]
     },
     "execution_count": 58,
     "metadata": {},
     "output_type": "execute_result"
    }
   ],
   "source": [
    "ySolution = dsolve( yODE , Y(t))\n",
    "ySolution "
   ]
  },
  {
   "cell_type": "code",
   "execution_count": 59,
   "id": "d463b1de",
   "metadata": {},
   "outputs": [
    {
     "data": {
      "image/png": "[encoded data removed]",
      "text/latex": [
       "$\\displaystyle Y{\\left(t \\right)} = \\cos{\\left(k t \\right)}$"
      ],
      "text/plain": [
       "Y(t) = cos(k⋅t)"
      ]
     },
     "execution_count": 59,
     "metadata": {},
     "output_type": "execute_result"
    }
   ],
   "source": [
    "#  Here we arbitrarily set cos equal to zero... fix this later\n",
    "ySolutionParticular = ySolution.subs(ySolution.args[1].args[0].args[0],0).subs(ySolution.args[1].args[1].args[0],1)\n",
    "ySolutionParticular"
   ]
  },
  {
   "cell_type": "code",
   "execution_count": 60,
   "id": "5e24fad2",
   "metadata": {},
   "outputs": [
    {
     "data": {
      "image/png": "[encoded data removed]",
      "text/latex": [
       "$\\displaystyle \\sum_{k=1}^{1} \\cos{\\left(k t \\right)} J_{0}\\left(k r\\right)$"
      ],
      "text/plain": [
       "  1                           \n",
       " ___                          \n",
       " ╲                            \n",
       "  ╲                           \n",
       "  ╱   cos(k⋅t)⋅besselj(0, k⋅r)\n",
       " ╱                            \n",
       " ‾‾‾                          \n",
       "k = 1                         "
      ]
     },
     "execution_count": 60,
     "metadata": {},
     "output_type": "execute_result"
    }
   ],
   "source": [
    "#  It looks like they only keep the k is one term.... \n",
    "Sum( ( xSolutionParticular.args[1] * ySolutionParticular.args[1] ) ,(k,1,1) )"
   ]
  },
  {
   "cell_type": "code",
   "execution_count": 63,
   "id": "42a7a037",
   "metadata": {},
   "outputs": [
    {
     "data": {
      "image/png": "[encoded data removed]",
      "text/latex": [
       "$\\displaystyle \\rho{\\left(r,t \\right)} = \\cos{\\left(t \\right)} J_{0}\\left(r\\right)$"
      ],
      "text/plain": [
       "ρ(r, t) = cos(t)⋅besselj(0, r)"
      ]
     },
     "execution_count": 63,
     "metadata": {},
     "output_type": "execute_result"
    }
   ],
   "source": [
    "#  Just keepign the k = 1 term \n",
    "rhoSolution = Eq(rho, Sum( ( xSolutionParticular.args[1] * ySolutionParticular.args[1] ) ,(k,1,1) ).doit() ) \n",
    "rhoSolution"
   ]
  },
  {
   "cell_type": "code",
   "execution_count": 66,
   "id": "e454a8ae",
   "metadata": {},
   "outputs": [
    {
     "data": {
      "image/png": "[encoded data removed]",
      "text/latex": [
       "$\\displaystyle \\frac{\\partial}{\\partial r} \\lambda{\\left(r,t \\right)} = 0.5 r \\left(\\frac{\\partial}{\\partial r} \\cos{\\left(t \\right)} J_{0}\\left(r\\right)\\right)^{2} + 0.5 r \\left(\\frac{\\partial}{\\partial t} \\cos{\\left(t \\right)} J_{0}\\left(r\\right)\\right)^{2} - \\frac{\\partial}{\\partial r} \\cos{\\left(t \\right)} J_{0}\\left(r\\right)$"
      ],
      "text/plain": [
       "                                              2                                   2                           \n",
       "∂                   ⎛∂                       ⎞          ⎛∂                       ⎞    ∂                       \n",
       "──(λ(r, t)) = 0.5⋅r⋅⎜──(cos(t)⋅besselj(0, r))⎟  + 0.5⋅r⋅⎜──(cos(t)⋅besselj(0, r))⎟  - ──(cos(t)⋅besselj(0, r))\n",
       "∂r                  ⎝∂r                      ⎠          ⎝∂t                      ⎠    ∂r                      "
      ]
     },
     "execution_count": 66,
     "metadata": {},
     "output_type": "execute_result"
    }
   ],
   "source": [
    "dlambdadr = equation3pt3.subs(rhoSolution.args[0],rhoSolution.args[1])\n",
    "dlambdadr"
   ]
  },
  {
   "cell_type": "code",
   "execution_count": 67,
   "id": "edbbd326",
   "metadata": {},
   "outputs": [
    {
     "data": {
      "image/png": "[encoded data removed]",
      "text/latex": [
       "$\\displaystyle \\frac{\\partial}{\\partial r} \\lambda{\\left(r,t \\right)} = 0.5 r \\sin^{2}{\\left(t \\right)} J^{2}_{0}\\left(r\\right) + 0.5 r \\cos^{2}{\\left(t \\right)} J^{2}_{1}\\left(r\\right) + \\cos{\\left(t \\right)} J_{1}\\left(r\\right)$"
      ],
      "text/plain": [
       "∂                      2           2                  2           2                             \n",
       "──(λ(r, t)) = 0.5⋅r⋅sin (t)⋅besselj (0, r) + 0.5⋅r⋅cos (t)⋅besselj (1, r) + cos(t)⋅besselj(1, r)\n",
       "∂r                                                                                              "
      ]
     },
     "execution_count": 67,
     "metadata": {},
     "output_type": "execute_result"
    }
   ],
   "source": [
    "dlambdadr.doit()"
   ]
  },
  {
   "cell_type": "code",
   "execution_count": 69,
   "id": "5471f266",
   "metadata": {},
   "outputs": [
    {
     "data": {
      "image/png": "[encoded data removed]",
      "text/latex": [
       "$\\displaystyle \\lambda{\\left(r,t \\right)} = 0.25 r^{2} J^{2}_{0}\\left(r\\right) + 0.25 r^{2} J^{2}_{1}\\left(r\\right) - 0.5 r \\cos^{2}{\\left(t \\right)} J_{0}\\left(r\\right) J_{1}\\left(r\\right) + 1.0 F{\\left(- t \\right)} - 1.0 \\cos{\\left(t \\right)} J_{0}\\left(r\\right)$"
      ],
      "text/plain": [
       "                2        2               2        2                  2                                                                  \n",
       "λ(r, t) = 0.25⋅r ⋅besselj (0, r) + 0.25⋅r ⋅besselj (1, r) - 0.5⋅r⋅cos (t)⋅besselj(0, r)⋅besselj(1, r) + 1.0⋅F(-t) - cos(t)⋅besselj(0, r)"
      ]
     },
     "execution_count": 69,
     "metadata": {},
     "output_type": "execute_result"
    }
   ],
   "source": [
    "integrateLambdaWRTr = pdsolve( dlambdadr.doit() )\n",
    "integrateLambdaWRTr"
   ]
  },
  {
   "cell_type": "code",
   "execution_count": 73,
   "id": "d3b836a8",
   "metadata": {},
   "outputs": [
    {
     "data": {
      "image/png": "[encoded data removed]",
      "text/latex": [
       "$\\displaystyle 1.0 F{\\left(- t \\right)}$"
      ],
      "text/plain": [
       "1.0⋅F(-t)"
      ]
     },
     "execution_count": 73,
     "metadata": {},
     "output_type": "execute_result"
    }
   ],
   "source": [
    "integrateLambdaWRTr.args[1].args[0]"
   ]
  },
  {
   "cell_type": "code",
   "execution_count": 75,
   "id": "cdd10c46",
   "metadata": {},
   "outputs": [
    {
     "data": {
      "image/png": "[encoded data removed]",
      "text/latex": [
       "$\\displaystyle \\lambda{\\left(r,t \\right)} = 0.25 r^{2} J^{2}_{0}\\left(r\\right) + 0.25 r^{2} J^{2}_{1}\\left(r\\right) - 0.5 r \\cos^{2}{\\left(t \\right)} J_{0}\\left(r\\right) J_{1}\\left(r\\right) - 1.0 \\cos{\\left(t \\right)} J_{0}\\left(r\\right)$"
      ],
      "text/plain": [
       "                2        2               2        2                  2                                                      \n",
       "λ(r, t) = 0.25⋅r ⋅besselj (0, r) + 0.25⋅r ⋅besselj (1, r) - 0.5⋅r⋅cos (t)⋅besselj(0, r)⋅besselj(1, r) - cos(t)⋅besselj(0, r)"
      ]
     },
     "execution_count": 75,
     "metadata": {},
     "output_type": "execute_result"
    }
   ],
   "source": [
    "lambdaSolutionR = integrateLambdaWRTr.subs(integrateLambdaWRTr.args[1].args[0],0)\n",
    "lambdaSolutionR"
   ]
  },
  {
   "cell_type": "code",
   "execution_count": 78,
   "id": "d79625bf",
   "metadata": {},
   "outputs": [
    {
     "data": {
      "image/png": "[encoded data removed]",
      "text/latex": [
       "$\\displaystyle \\frac{\\partial}{\\partial t} \\lambda{\\left(r,t \\right)} = r \\frac{\\partial}{\\partial r} \\cos{\\left(t \\right)} J_{0}\\left(r\\right) \\frac{\\partial}{\\partial t} \\cos{\\left(t \\right)} J_{0}\\left(r\\right) - \\frac{\\partial}{\\partial t} \\cos{\\left(t \\right)} J_{0}\\left(r\\right)$"
      ],
      "text/plain": [
       "∂               ∂                        ∂                          ∂                       \n",
       "──(λ(r, t)) = r⋅──(cos(t)⋅besselj(0, r))⋅──(cos(t)⋅besselj(0, r)) - ──(cos(t)⋅besselj(0, r))\n",
       "∂t              ∂r                       ∂t                         ∂t                      "
      ]
     },
     "execution_count": 78,
     "metadata": {},
     "output_type": "execute_result"
    }
   ],
   "source": [
    "dlambdadt = equation3pt4.subs(rhoSolution.args[0],rhoSolution.args[1])\n",
    "dlambdadt"
   ]
  },
  {
   "cell_type": "code",
   "execution_count": 79,
   "id": "a8680dbd",
   "metadata": {},
   "outputs": [
    {
     "data": {
      "image/png": "[encoded data removed]",
      "text/latex": [
       "$\\displaystyle \\frac{\\partial}{\\partial t} \\lambda{\\left(r,t \\right)} = r \\sin{\\left(t \\right)} \\cos{\\left(t \\right)} J_{0}\\left(r\\right) J_{1}\\left(r\\right) + \\sin{\\left(t \\right)} J_{0}\\left(r\\right)$"
      ],
      "text/plain": [
       "∂                                                                               \n",
       "──(λ(r, t)) = r⋅sin(t)⋅cos(t)⋅besselj(0, r)⋅besselj(1, r) + sin(t)⋅besselj(0, r)\n",
       "∂t                                                                              "
      ]
     },
     "execution_count": 79,
     "metadata": {},
     "output_type": "execute_result"
    }
   ],
   "source": [
    "dlambdadt.doit()"
   ]
  },
  {
   "cell_type": "code",
   "execution_count": 88,
   "id": "f9dee1c3",
   "metadata": {},
   "outputs": [
    {
     "data": {
      "image/png": "[encoded data removed]",
      "text/latex": [
       "$\\displaystyle \\lambda{\\left(r,t \\right)} = \\frac{r \\sin^{2}{\\left(t \\right)} J_{0}\\left(r\\right) J_{1}\\left(r\\right)}{2} + F{\\left(r \\right)} - \\cos{\\left(t \\right)} J_{0}\\left(r\\right)$"
      ],
      "text/plain": [
       "               2                                                             \n",
       "          r⋅sin (t)⋅besselj(0, r)⋅besselj(1, r)                              \n",
       "λ(r, t) = ───────────────────────────────────── + F(r) - cos(t)⋅besselj(0, r)\n",
       "                            2                                                "
      ]
     },
     "execution_count": 88,
     "metadata": {},
     "output_type": "execute_result"
    }
   ],
   "source": [
    "integrateSolutionT = pdsolve( dlambdadt.doit() )\n",
    "integrateSolutionT"
   ]
  },
  {
   "cell_type": "code",
   "execution_count": 90,
   "id": "a1c78a73",
   "metadata": {},
   "outputs": [
    {
     "data": {
      "image/png": "[encoded data removed]",
      "text/latex": [
       "$\\displaystyle \\lambda{\\left(r,t \\right)} = \\frac{r \\sin^{2}{\\left(t \\right)} J_{0}\\left(r\\right) J_{1}\\left(r\\right)}{2} - \\cos{\\left(t \\right)} J_{0}\\left(r\\right)$"
      ],
      "text/plain": [
       "               2                                                      \n",
       "          r⋅sin (t)⋅besselj(0, r)⋅besselj(1, r)                       \n",
       "λ(r, t) = ───────────────────────────────────── - cos(t)⋅besselj(0, r)\n",
       "                            2                                         "
      ]
     },
     "execution_count": 90,
     "metadata": {},
     "output_type": "execute_result"
    }
   ],
   "source": [
    "lambdaSolutionT = integrateSolutionT.subs(integrateSolutionT.args[1].args[2],0)\n",
    "lambdaSolutionT"
   ]
  }
 ],
 "metadata": {
  "@webio": {
   "lastCommId": "4e2d2bb703fc40d899c7ef6c81fd5968",
   "lastKernelId": "1843ff14-7a10-4db8-a76f-dc65ea80c5ec"
  },
  "kernelspec": {
   "display_name": "Python 3 (ipykernel)",
   "language": "python",
   "name": "python3"
  },
  "language_info": {
   "codemirror_mode": {
    "name": "ipython",
    "version": 3
   },
   "file_extension": ".py",
   "mimetype": "text/x-python",
   "name": "python",
   "nbconvert_exporter": "python",
   "pygments_lexer": "ipython3",
   "version": "3.8.8"
  }
 },
 "nbformat": 4,
 "nbformat_minor": 5
}
