{
 "cells": [
  {
   "cell_type": "markdown",
   "id": "22a494e3",
   "metadata": {},
   "source": [
    "# Diagonalization of PP Waves by Ivanov\n",
    "##  Geoff Cope\n",
    "##  Univeristy of Utah\n",
    "##  January 5th, 2022"
   ]
  },
  {
   "cell_type": "markdown",
   "id": "970c4c07",
   "metadata": {},
   "source": [
    "https://arxiv.org/pdf/gr-qc/9705055.pdf"
   ]
  },
  {
   "cell_type": "code",
   "execution_count": 1,
   "id": "9ef827c5",
   "metadata": {},
   "outputs": [
    {
     "name": "stdout",
     "output_type": "stream",
     "text": [
      "IPython console for SymPy 1.9 (Python 3.8.8-64-bit) (ground types: gmpy)\n",
      "\n",
      "These commands were executed:\n",
      ">>> from __future__ import division\n",
      ">>> from sympy import *\n",
      ">>> x, y, z, t = symbols('x y z t')\n",
      ">>> k, m, n = symbols('k m n', integer=True)\n",
      ">>> f, g, h = symbols('f g h', cls=Function)\n",
      ">>> init_printing()\n",
      "\n",
      "Documentation can be found at https://docs.sympy.org/1.9/\n",
      "\n"
     ]
    }
   ],
   "source": [
    "from sympy import init_session\n",
    "init_session(use_latex=True)"
   ]
  },
  {
   "cell_type": "code",
   "execution_count": 2,
   "id": "391e27db",
   "metadata": {},
   "outputs": [],
   "source": [
    "import warnings\n",
    "import matplotlib.cbook\n",
    "warnings.filterwarnings(\"ignore\",category=matplotlib.cbook.mplDeprecation)"
   ]
  },
  {
   "cell_type": "code",
   "execution_count": 3,
   "id": "7bd9d932",
   "metadata": {},
   "outputs": [],
   "source": [
    "u,v,r,phi,du,dv,dr,dphi = symbols('u v r phi du dv dr dphi')"
   ]
  },
  {
   "cell_type": "code",
   "execution_count": 4,
   "id": "ba43354d",
   "metadata": {},
   "outputs": [
    {
     "data": {
      "image/png": "[encoded data removed]",
      "text/latex": [
       "$\\displaystyle U{\\left(u,r \\right)}$"
      ],
      "text/plain": [
       "U(u, r)"
      ]
     },
     "execution_count": 4,
     "metadata": {},
     "output_type": "execute_result"
    }
   ],
   "source": [
    "U = Function('U')(u,r)\n",
    "U"
   ]
  },
  {
   "cell_type": "code",
   "execution_count": 5,
   "id": "1ed85e21",
   "metadata": {},
   "outputs": [
    {
     "data": {
      "image/png": "[encoded data removed]",
      "text/latex": [
       "$\\displaystyle V{\\left(u,r \\right)}$"
      ],
      "text/plain": [
       "V(u, r)"
      ]
     },
     "execution_count": 5,
     "metadata": {},
     "output_type": "execute_result"
    }
   ],
   "source": [
    "V = Function('V')(u,r)\n",
    "V"
   ]
  },
  {
   "cell_type": "code",
   "execution_count": 6,
   "id": "b647dfa0",
   "metadata": {},
   "outputs": [
    {
     "data": {
      "text/latex": [
       "$\\displaystyle \\left[\\begin{matrix}u\\\\v\\\\r\\\\\\phi\\end{matrix}\\right]$"
      ],
      "text/plain": [
       "⎡u⎤\n",
       "⎢ ⎥\n",
       "⎢v⎥\n",
       "⎢ ⎥\n",
       "⎢r⎥\n",
       "⎢ ⎥\n",
       "⎣φ⎦"
      ]
     },
     "execution_count": 6,
     "metadata": {},
     "output_type": "execute_result"
    }
   ],
   "source": [
    "variables = Matrix( [u,v,r,phi] )\n",
    "variables"
   ]
  },
  {
   "cell_type": "code",
   "execution_count": 7,
   "id": "953a3698",
   "metadata": {},
   "outputs": [
    {
     "data": {
      "text/latex": [
       "$\\displaystyle \\left[\\begin{matrix}du\\\\dv\\\\dr\\\\dphi\\end{matrix}\\right]$"
      ],
      "text/plain": [
       "⎡ du ⎤\n",
       "⎢    ⎥\n",
       "⎢ dv ⎥\n",
       "⎢    ⎥\n",
       "⎢ dr ⎥\n",
       "⎢    ⎥\n",
       "⎣dphi⎦"
      ]
     },
     "execution_count": 7,
     "metadata": {},
     "output_type": "execute_result"
    }
   ],
   "source": [
    "differentials = Matrix( [du,dv,dr,dphi] ) \n",
    "differentials"
   ]
  },
  {
   "cell_type": "code",
   "execution_count": 8,
   "id": "1eff9396",
   "metadata": {},
   "outputs": [
    {
     "data": {
      "image/png": "[encoded data removed]",
      "text/latex": [
       "$\\displaystyle - dphi^{2} e^{- U{\\left(u,r \\right)}} e^{- V{\\left(u,r \\right)}} - dr^{2} e^{- U{\\left(u,r \\right)}} e^{V{\\left(u,r \\right)}} + 2 du dv$"
      ],
      "text/plain": [
       "      2  -U(u, r)  -V(u, r)     2  -U(u, r)  V(u, r)          \n",
       "- dphi ⋅ℯ        ⋅ℯ         - dr ⋅ℯ        ⋅ℯ        + 2⋅du⋅dv"
      ]
     },
     "execution_count": 8,
     "metadata": {},
     "output_type": "execute_result"
    }
   ],
   "source": [
    "lineElement = expand( 2*du*dv - exp(-U)* (exp(V) * dr**2 + exp(-V) * dphi**2) ) \n",
    "lineElement"
   ]
  },
  {
   "cell_type": "code",
   "execution_count": 9,
   "id": "69ad014a",
   "metadata": {},
   "outputs": [
    {
     "data": {
      "text/latex": [
       "$\\displaystyle \\left[\\begin{matrix}0 & 1 & 0 & 0\\\\1 & 0 & 0 & 0\\\\0 & 0 & - e^{- U{\\left(u,r \\right)}} e^{V{\\left(u,r \\right)}} & 0\\\\0 & 0 & 0 & - e^{- U{\\left(u,r \\right)}} e^{- V{\\left(u,r \\right)}}\\end{matrix}\\right]$"
      ],
      "text/plain": [
       "⎡0  1           0                    0          ⎤\n",
       "⎢                                               ⎥\n",
       "⎢1  0           0                    0          ⎥\n",
       "⎢                                               ⎥\n",
       "⎢        -U(u, r)  V(u, r)                      ⎥\n",
       "⎢0  0  -ℯ        ⋅ℯ                  0          ⎥\n",
       "⎢                                               ⎥\n",
       "⎢                             -U(u, r)  -V(u, r)⎥\n",
       "⎣0  0           0           -ℯ        ⋅ℯ        ⎦"
      ]
     },
     "execution_count": 9,
     "metadata": {},
     "output_type": "execute_result"
    }
   ],
   "source": [
    "g = zeros(4)\n",
    "\n",
    "for i in range(4):\n",
    "    for j in range(4):\n",
    "        if i == j:\n",
    "            g[i,j] = lineElement.coeff( differentials[i],2 ) \n",
    "        else:\n",
    "            g[i,j] = Rational(1,2)*lineElement.coeff( differentials[i]*differentials[j],1 )\n",
    "            \n",
    "g"
   ]
  },
  {
   "cell_type": "code",
   "execution_count": 10,
   "id": "5e8b5868",
   "metadata": {},
   "outputs": [],
   "source": [
    "import sympy"
   ]
  },
  {
   "cell_type": "code",
   "execution_count": 11,
   "id": "24925f16",
   "metadata": {},
   "outputs": [
    {
     "data": {
      "text/latex": [
       "$\\displaystyle \\left[\\begin{matrix}0 & 1 & 0 & 0\\\\1 & 0 & 0 & 0\\\\0 & 0 & - e^{- U{\\left(u,r \\right)}} e^{V{\\left(u,r \\right)}} & 0\\\\0 & 0 & 0 & - e^{- U{\\left(u,r \\right)}} e^{- V{\\left(u,r \\right)}}\\end{matrix}\\right]$"
      ],
      "text/plain": [
       "⎡0  1           0                    0          ⎤\n",
       "⎢                                               ⎥\n",
       "⎢1  0           0                    0          ⎥\n",
       "⎢                                               ⎥\n",
       "⎢        -U(u, r)  V(u, r)                      ⎥\n",
       "⎢0  0  -ℯ        ⋅ℯ                  0          ⎥\n",
       "⎢                                               ⎥\n",
       "⎢                             -U(u, r)  -V(u, r)⎥\n",
       "⎣0  0           0           -ℯ        ⋅ℯ        ⎦"
      ]
     },
     "execution_count": 11,
     "metadata": {},
     "output_type": "execute_result"
    }
   ],
   "source": [
    "m = sympy.Array(g)\n",
    "m"
   ]
  },
  {
   "cell_type": "code",
   "execution_count": 12,
   "id": "59483a89",
   "metadata": {},
   "outputs": [],
   "source": [
    "from einsteinpy.symbolic import *"
   ]
  },
  {
   "cell_type": "code",
   "execution_count": 13,
   "id": "b1dadb1f",
   "metadata": {},
   "outputs": [],
   "source": [
    "syms = sympy.symbols(\"u v r phi\")\n",
    "u,v,r,phi = syms"
   ]
  },
  {
   "cell_type": "code",
   "execution_count": 14,
   "id": "f36b8c9e",
   "metadata": {},
   "outputs": [],
   "source": [
    "metric = MetricTensor(m,syms)"
   ]
  },
  {
   "cell_type": "code",
   "execution_count": 15,
   "id": "090f03f4",
   "metadata": {},
   "outputs": [
    {
     "data": {
      "text/latex": [
       "$\\displaystyle \\left[\\begin{matrix}\\left[\\begin{matrix}0 & 0 & 0 & 0\\\\0 & 0 & 0 & 0\\\\0 & 0 & 0 & 0\\\\0 & 0 & 0 & 0\\end{matrix}\\right] & \\left[\\begin{matrix}0 & 0 & 0 & 0\\\\0 & 0 & 0 & 0\\\\0 & 0 & \\frac{\\left(- \\frac{\\partial}{\\partial u} U{\\left(u,r \\right)} + \\frac{\\partial}{\\partial u} V{\\left(u,r \\right)}\\right) e^{- U{\\left(u,r \\right)} + V{\\left(u,r \\right)}}}{2} & 0\\\\0 & 0 & 0 & - \\frac{\\left(\\frac{\\partial}{\\partial u} U{\\left(u,r \\right)} + \\frac{\\partial}{\\partial u} V{\\left(u,r \\right)}\\right) e^{- U{\\left(u,r \\right)} - V{\\left(u,r \\right)}}}{2}\\end{matrix}\\right] & \\left[\\begin{matrix}0 & 0 & - \\frac{\\frac{\\partial}{\\partial u} U{\\left(u,r \\right)}}{2} + \\frac{\\frac{\\partial}{\\partial u} V{\\left(u,r \\right)}}{2} & 0\\\\0 & 0 & 0 & 0\\\\- \\frac{\\frac{\\partial}{\\partial u} U{\\left(u,r \\right)}}{2} + \\frac{\\frac{\\partial}{\\partial u} V{\\left(u,r \\right)}}{2} & 0 & - \\frac{\\frac{\\partial}{\\partial r} U{\\left(u,r \\right)}}{2} + \\frac{\\frac{\\partial}{\\partial r} V{\\left(u,r \\right)}}{2} & 0\\\\0 & 0 & 0 & \\frac{\\left(\\frac{\\partial}{\\partial r} U{\\left(u,r \\right)} + \\frac{\\partial}{\\partial r} V{\\left(u,r \\right)}\\right) e^{- 2 V{\\left(u,r \\right)}}}{2}\\end{matrix}\\right] & \\left[\\begin{matrix}0 & 0 & 0 & - \\frac{\\frac{\\partial}{\\partial u} U{\\left(u,r \\right)}}{2} - \\frac{\\frac{\\partial}{\\partial u} V{\\left(u,r \\right)}}{2}\\\\0 & 0 & 0 & 0\\\\0 & 0 & 0 & - \\frac{\\frac{\\partial}{\\partial r} U{\\left(u,r \\right)}}{2} - \\frac{\\frac{\\partial}{\\partial r} V{\\left(u,r \\right)}}{2}\\\\- \\frac{\\frac{\\partial}{\\partial u} U{\\left(u,r \\right)}}{2} - \\frac{\\frac{\\partial}{\\partial u} V{\\left(u,r \\right)}}{2} & 0 & - \\frac{\\frac{\\partial}{\\partial r} U{\\left(u,r \\right)}}{2} - \\frac{\\frac{\\partial}{\\partial r} V{\\left(u,r \\right)}}{2} & 0\\end{matrix}\\right]\\end{matrix}\\right]$"
      ],
      "text/plain": [
       "⎡                                                                                                                            ⎡           \n",
       "⎢                                                                                                                            ⎢           \n",
       "⎢              ⎡0  0                          0                                                  0                        ⎤  ⎢           \n",
       "⎢              ⎢                                                                                                          ⎥  ⎢           \n",
       "⎢              ⎢0  0                          0                                                  0                        ⎥  ⎢           \n",
       "⎢              ⎢                                                                                                          ⎥  ⎢           \n",
       "⎢⎡0  0  0  0⎤  ⎢      ⎛  ∂             ∂          ⎞  -U(u, r) + V(u, r)                                                   ⎥  ⎢           \n",
       "⎢⎢          ⎥  ⎢      ⎜- ──(U(u, r)) + ──(V(u, r))⎟⋅ℯ                                                                     ⎥  ⎢           \n",
       "⎢⎢0  0  0  0⎥  ⎢      ⎝  ∂u            ∂u         ⎠                                                                       ⎥  ⎢  ∂        \n",
       "⎢⎢          ⎥  ⎢0  0  ─────────────────────────────────────────────────                          0                        ⎥  ⎢  ──(U(u, r\n",
       "⎢⎢0  0  0  0⎥  ⎢                              2                                                                           ⎥  ⎢  ∂u       \n",
       "⎢⎢          ⎥  ⎢                                                                                                          ⎥  ⎢- ─────────\n",
       "⎢⎣0  0  0  0⎦  ⎢                                                          ⎛∂             ∂          ⎞  -U(u, r) - V(u, r) ⎥  ⎢       2   \n",
       "⎢              ⎢                                                         -⎜──(U(u, r)) + ──(V(u, r))⎟⋅ℯ                   ⎥  ⎢           \n",
       "⎢              ⎢                                                          ⎝∂u            ∂u         ⎠                     ⎥  ⎢           \n",
       "⎢              ⎢0  0                          0                          ─────────────────────────────────────────────────⎥  ⎢           \n",
       "⎢              ⎣                                                                                 2                        ⎦  ⎢           \n",
       "⎢                                                                                                                            ⎢           \n",
       "⎣                                                                                                                            ⎣           \n",
       "\n",
       "                       ∂             ∂                                                   ⎤  ⎡                                            \n",
       "                       ──(U(u, r))   ──(V(u, r))                                         ⎥  ⎢                                            \n",
       "                       ∂u            ∂u                                                  ⎥  ⎢                                            \n",
       "  0               0  - ─────────── + ───────────                     0                   ⎥  ⎢             0               0              \n",
       "                            2             2                                              ⎥  ⎢                                            \n",
       "                                                                                         ⎥  ⎢                                            \n",
       "  0               0               0                                  0                   ⎥  ⎢             0               0              \n",
       "                                                                                         ⎥  ⎢                                            \n",
       "     ∂                 ∂             ∂                                                   ⎥  ⎢                                            \n",
       "))   ──(V(u, r))       ──(U(u, r))   ──(V(u, r))                                         ⎥  ⎢                                            \n",
       "     ∂u                ∂r            ∂r                                                  ⎥  ⎢                                            \n",
       "── + ───────────  0  - ─────────── + ───────────                     0                   ⎥  ⎢             0               0              \n",
       "          2                 2             2                                              ⎥  ⎢                                            \n",
       "                                                                                         ⎥  ⎢                                            \n",
       "                                                  ⎛∂             ∂          ⎞  -2⋅V(u, r)⎥  ⎢  ∂             ∂                 ∂         \n",
       "                                                  ⎜──(U(u, r)) + ──(V(u, r))⎟⋅ℯ          ⎥  ⎢  ──(U(u, r))   ──(V(u, r))       ──(U(u, r)\n",
       "                                                  ⎝∂r            ∂r         ⎠            ⎥  ⎢  ∂u            ∂u                ∂r        \n",
       "  0               0               0               ───────────────────────────────────────⎥  ⎢- ─────────── - ───────────  0  - ──────────\n",
       "                                                                     2                   ⎦  ⎣       2             2                 2    \n",
       "\n",
       "                   ∂             ∂          ⎤⎤\n",
       "                   ──(U(u, r))   ──(V(u, r))⎥⎥\n",
       "                   ∂u            ∂u         ⎥⎥\n",
       " 0               - ─────────── - ───────────⎥⎥\n",
       "                        2             2     ⎥⎥\n",
       "                                            ⎥⎥\n",
       " 0                            0             ⎥⎥\n",
       "                                            ⎥⎥\n",
       "                   ∂             ∂          ⎥⎥\n",
       "                   ──(U(u, r))   ──(V(u, r))⎥⎥\n",
       "                   ∂r            ∂r         ⎥⎥\n",
       " 0               - ─────────── - ───────────⎥⎥\n",
       "                        2             2     ⎥⎥\n",
       "                                            ⎥⎥\n",
       "    ∂                                       ⎥⎥\n",
       ")   ──(V(u, r))                             ⎥⎥\n",
       "    ∂r                                      ⎥⎥\n",
       "─ - ───────────               0             ⎥⎥\n",
       "         2                                  ⎦⎦"
      ]
     },
     "execution_count": 15,
     "metadata": {},
     "output_type": "execute_result"
    }
   ],
   "source": [
    "ch = ChristoffelSymbols.from_metric(metric)\n",
    "simplify(ch.tensor())"
   ]
  },
  {
   "cell_type": "code",
   "execution_count": 16,
   "id": "a20ef626",
   "metadata": {},
   "outputs": [
    {
     "data": {
      "text/latex": [
       "$\\displaystyle \\left[\\begin{matrix}- \\frac{\\left(\\frac{\\partial}{\\partial u} U{\\left(u,r \\right)}\\right)^{2}}{2} + \\frac{\\partial^{2}}{\\partial u^{2}} U{\\left(u,r \\right)} - \\frac{\\left(\\frac{\\partial}{\\partial u} V{\\left(u,r \\right)}\\right)^{2}}{2} & 0 & - \\frac{\\frac{\\partial}{\\partial r} U{\\left(u,r \\right)} \\frac{\\partial}{\\partial u} V{\\left(u,r \\right)}}{2} - \\frac{\\frac{\\partial}{\\partial r} V{\\left(u,r \\right)} \\frac{\\partial}{\\partial u} V{\\left(u,r \\right)}}{2} + \\frac{\\frac{\\partial^{2}}{\\partial u\\partial r} U{\\left(u,r \\right)}}{2} + \\frac{\\frac{\\partial^{2}}{\\partial u\\partial r} V{\\left(u,r \\right)}}{2} & 0\\\\0 & 0 & 0 & 0\\\\- \\frac{\\frac{\\partial}{\\partial r} U{\\left(u,r \\right)} \\frac{\\partial}{\\partial u} V{\\left(u,r \\right)}}{2} - \\frac{\\frac{\\partial}{\\partial r} V{\\left(u,r \\right)} \\frac{\\partial}{\\partial u} V{\\left(u,r \\right)}}{2} + \\frac{\\frac{\\partial^{2}}{\\partial u\\partial r} U{\\left(u,r \\right)}}{2} + \\frac{\\frac{\\partial^{2}}{\\partial u\\partial r} V{\\left(u,r \\right)}}{2} & 0 & - \\frac{\\frac{\\partial}{\\partial r} U{\\left(u,r \\right)} \\frac{\\partial}{\\partial r} V{\\left(u,r \\right)}}{2} + \\frac{\\frac{\\partial^{2}}{\\partial r^{2}} U{\\left(u,r \\right)}}{2} - \\frac{\\left(\\frac{\\partial}{\\partial r} V{\\left(u,r \\right)}\\right)^{2}}{2} + \\frac{\\frac{\\partial^{2}}{\\partial r^{2}} V{\\left(u,r \\right)}}{2} & 0\\\\0 & 0 & 0 & \\frac{\\left(- \\frac{\\partial}{\\partial r} U{\\left(u,r \\right)} \\frac{\\partial}{\\partial r} V{\\left(u,r \\right)} + \\frac{\\partial^{2}}{\\partial r^{2}} U{\\left(u,r \\right)} - \\left(\\frac{\\partial}{\\partial r} V{\\left(u,r \\right)}\\right)^{2} + \\frac{\\partial^{2}}{\\partial r^{2}} V{\\left(u,r \\right)}\\right) e^{- 2 V{\\left(u,r \\right)}}}{2}\\end{matrix}\\right]$"
      ],
      "text/plain": [
       "⎡                                 2                               2                                                                      \n",
       "⎢                    ⎛∂          ⎞                   ⎛∂          ⎞                           ∂           ∂             ∂           ∂     \n",
       "⎢                    ⎜──(U(u, r))⎟      2            ⎜──(V(u, r))⎟                           ──(U(u, r))⋅──(V(u, r))   ──(V(u, r))⋅──(V(u\n",
       "⎢                    ⎝∂u         ⎠     ∂             ⎝∂u         ⎠                           ∂r          ∂u            ∂r          ∂u    \n",
       "⎢                  - ────────────── + ───(U(u, r)) - ──────────────                     0  - ─────────────────────── - ──────────────────\n",
       "⎢                          2            2                  2                                            2                         2      \n",
       "⎢                                     ∂u                                                                                                 \n",
       "⎢                                                                                                                                        \n",
       "⎢                                          0                                            0                                            0   \n",
       "⎢                                                                                                                                        \n",
       "⎢                                                                                                                              2         \n",
       "⎢                                                         2                2                                                  ∂          \n",
       "⎢  ∂           ∂             ∂           ∂               ∂                ∂                        ∂           ∂             ───(U(u, r))\n",
       "⎢  ──(U(u, r))⋅──(V(u, r))   ──(V(u, r))⋅──(V(u, r))   ─────(U(u, r))   ─────(V(u, r))             ──(U(u, r))⋅──(V(u, r))     2         \n",
       "⎢  ∂r          ∂u            ∂r          ∂u            ∂u ∂r            ∂u ∂r                      ∂r          ∂r            ∂r          \n",
       "⎢- ─────────────────────── - ─────────────────────── + ────────────── + ──────────────  0        - ─────────────────────── + ────────────\n",
       "⎢             2                         2                    2                2                               2                   2      \n",
       "⎢                                                                                                                                        \n",
       "⎢                                                                                                                                        \n",
       "⎢                                                                                                                                        \n",
       "⎢                                                                                                                                        \n",
       "⎢                                                                                                                                        \n",
       "⎢                                                                                                                                        \n",
       "⎢                                          0                                            0                                            0   \n",
       "⎣                                                                                                                                        \n",
       "\n",
       "           2                2                                                                                                  ⎤\n",
       "          ∂                ∂                                                                                                   ⎥\n",
       ", r))   ─────(U(u, r))   ─────(V(u, r))                                                                                        ⎥\n",
       "        ∂u ∂r            ∂u ∂r                                                                                                 ⎥\n",
       "───── + ────────────── + ──────────────                                            0                                           ⎥\n",
       "              2                2                                                                                               ⎥\n",
       "                                                                                                                               ⎥\n",
       "                                                                                                                               ⎥\n",
       "                                                                                   0                                           ⎥\n",
       "                                                                                                                               ⎥\n",
       "                      2                                                                                                        ⎥\n",
       "                2    ∂                                                                                                         ⎥\n",
       "   ⎛∂          ⎞    ───(V(u, r))                                                                                               ⎥\n",
       "   ⎜──(V(u, r))⎟      2                                                                                                        ⎥\n",
       "   ⎝∂r         ⎠    ∂r                                                                                                         ⎥\n",
       " - ────────────── + ────────────                                                   0                                           ⎥\n",
       "         2               2                                                                                                     ⎥\n",
       "                                                                                                                               ⎥\n",
       "                                         ⎛                              2                         2     2         ⎞            ⎥\n",
       "                                         ⎜  ∂           ∂              ∂             ⎛∂          ⎞     ∂          ⎟  -2⋅V(u, r)⎥\n",
       "                                         ⎜- ──(U(u, r))⋅──(V(u, r)) + ───(U(u, r)) - ⎜──(V(u, r))⎟  + ───(V(u, r))⎟⋅ℯ          ⎥\n",
       "                                         ⎜  ∂r          ∂r              2            ⎝∂r         ⎠      2         ⎟            ⎥\n",
       "                                         ⎝                            ∂r                              ∂r          ⎠            ⎥\n",
       "                                         ──────────────────────────────────────────────────────────────────────────────────────⎥\n",
       "                                                                                   2                                           ⎦"
      ]
     },
     "execution_count": 16,
     "metadata": {},
     "output_type": "execute_result"
    }
   ],
   "source": [
    "Ric = RicciTensor.from_metric(metric)\n",
    "Ric.tensor()"
   ]
  },
  {
   "cell_type": "code",
   "execution_count": 17,
   "id": "62871614",
   "metadata": {},
   "outputs": [
    {
     "data": {
      "image/png": "[encoded data removed]",
      "text/latex": [
       "$\\displaystyle \\left(\\frac{\\partial}{\\partial r} U{\\left(u,r \\right)} \\frac{\\partial}{\\partial r} V{\\left(u,r \\right)} - \\frac{\\partial^{2}}{\\partial r^{2}} U{\\left(u,r \\right)} + \\left(\\frac{\\partial}{\\partial r} V{\\left(u,r \\right)}\\right)^{2} - \\frac{\\partial^{2}}{\\partial r^{2}} V{\\left(u,r \\right)}\\right) e^{U{\\left(u,r \\right)} - V{\\left(u,r \\right)}}$"
      ],
      "text/plain": [
       "⎛                            2                         2     2         ⎞                   \n",
       "⎜∂           ∂              ∂             ⎛∂          ⎞     ∂          ⎟  U(u, r) - V(u, r)\n",
       "⎜──(U(u, r))⋅──(V(u, r)) - ───(U(u, r)) + ⎜──(V(u, r))⎟  - ───(V(u, r))⎟⋅ℯ                 \n",
       "⎜∂r          ∂r              2            ⎝∂r         ⎠      2         ⎟                   \n",
       "⎝                          ∂r                              ∂r          ⎠                   "
      ]
     },
     "execution_count": 17,
     "metadata": {},
     "output_type": "execute_result"
    }
   ],
   "source": [
    "R = RicciScalar.from_riccitensor(Ric)\n",
    "R.simplify()\n",
    "R.expr"
   ]
  },
  {
   "cell_type": "code",
   "execution_count": 18,
   "id": "5b5aab67",
   "metadata": {},
   "outputs": [
    {
     "data": {
      "text/latex": [
       "$\\displaystyle \\left[\\begin{matrix}- \\frac{\\left(\\frac{\\partial}{\\partial u} U{\\left(u,r \\right)}\\right)^{2}}{2} + \\frac{\\partial^{2}}{\\partial u^{2}} U{\\left(u,r \\right)} - \\frac{\\left(\\frac{\\partial}{\\partial u} V{\\left(u,r \\right)}\\right)^{2}}{2} & 0.5 \\left(- \\frac{\\partial}{\\partial r} U{\\left(u,r \\right)} \\frac{\\partial}{\\partial r} V{\\left(u,r \\right)} + \\frac{\\partial^{2}}{\\partial r^{2}} U{\\left(u,r \\right)} - \\left(\\frac{\\partial}{\\partial r} V{\\left(u,r \\right)}\\right)^{2} + \\frac{\\partial^{2}}{\\partial r^{2}} V{\\left(u,r \\right)}\\right) e^{U{\\left(u,r \\right)} - V{\\left(u,r \\right)}} & - \\frac{\\frac{\\partial}{\\partial r} U{\\left(u,r \\right)} \\frac{\\partial}{\\partial u} V{\\left(u,r \\right)}}{2} - \\frac{\\frac{\\partial}{\\partial r} V{\\left(u,r \\right)} \\frac{\\partial}{\\partial u} V{\\left(u,r \\right)}}{2} + \\frac{\\frac{\\partial^{2}}{\\partial u\\partial r} U{\\left(u,r \\right)}}{2} + \\frac{\\frac{\\partial^{2}}{\\partial u\\partial r} V{\\left(u,r \\right)}}{2} & 0\\\\0.5 \\left(- \\frac{\\partial}{\\partial r} U{\\left(u,r \\right)} \\frac{\\partial}{\\partial r} V{\\left(u,r \\right)} + \\frac{\\partial^{2}}{\\partial r^{2}} U{\\left(u,r \\right)} - \\left(\\frac{\\partial}{\\partial r} V{\\left(u,r \\right)}\\right)^{2} + \\frac{\\partial^{2}}{\\partial r^{2}} V{\\left(u,r \\right)}\\right) e^{U{\\left(u,r \\right)} - V{\\left(u,r \\right)}} & 0 & 0 & 0\\\\- \\frac{\\frac{\\partial}{\\partial r} U{\\left(u,r \\right)} \\frac{\\partial}{\\partial u} V{\\left(u,r \\right)}}{2} - \\frac{\\frac{\\partial}{\\partial r} V{\\left(u,r \\right)} \\frac{\\partial}{\\partial u} V{\\left(u,r \\right)}}{2} + \\frac{\\frac{\\partial^{2}}{\\partial u\\partial r} U{\\left(u,r \\right)}}{2} + \\frac{\\frac{\\partial^{2}}{\\partial u\\partial r} V{\\left(u,r \\right)}}{2} & 0 & 0 & 0\\\\0 & 0 & 0 & 0\\end{matrix}\\right]$"
      ],
      "text/plain": [
       "⎡                                       2                               2                                                                \n",
       "⎢                          ⎛∂          ⎞                   ⎛∂          ⎞                                                                 \n",
       "⎢                          ⎜──(U(u, r))⎟      2            ⎜──(V(u, r))⎟                                ⎛                              2 \n",
       "⎢                          ⎝∂u         ⎠     ∂             ⎝∂u         ⎠                                ⎜  ∂           ∂              ∂  \n",
       "⎢                        - ────────────── + ───(U(u, r)) - ──────────────                           0.5⋅⎜- ──(U(u, r))⋅──(V(u, r)) + ───(\n",
       "⎢                                2            2                  2                                      ⎜  ∂r          ∂r              2 \n",
       "⎢                                           ∂u                                                          ⎝                            ∂r  \n",
       "⎢                                                                                                                                        \n",
       "⎢    ⎛                              2                         2     2         ⎞                                                          \n",
       "⎢    ⎜  ∂           ∂              ∂             ⎛∂          ⎞     ∂          ⎟  U(u, r) - V(u, r)                                       \n",
       "⎢0.5⋅⎜- ──(U(u, r))⋅──(V(u, r)) + ───(U(u, r)) - ⎜──(V(u, r))⎟  + ───(V(u, r))⎟⋅ℯ                                                        \n",
       "⎢    ⎜  ∂r          ∂r              2            ⎝∂r         ⎠      2         ⎟                                                          \n",
       "⎢    ⎝                            ∂r                              ∂r          ⎠                                                          \n",
       "⎢                                                                                                                                        \n",
       "⎢                                                               2                2                                                       \n",
       "⎢        ∂           ∂             ∂           ∂               ∂                ∂                                                        \n",
       "⎢        ──(U(u, r))⋅──(V(u, r))   ──(V(u, r))⋅──(V(u, r))   ─────(U(u, r))   ─────(V(u, r))                                             \n",
       "⎢        ∂r          ∂u            ∂r          ∂u            ∂u ∂r            ∂u ∂r                                                      \n",
       "⎢      - ─────────────────────── - ─────────────────────── + ────────────── + ──────────────                                             \n",
       "⎢                   2                         2                    2                2                                                    \n",
       "⎢                                                                                                                                        \n",
       "⎣                                                0                                                                                       \n",
       "\n",
       "                                                                                                                       2                2\n",
       "                                                                ∂           ∂             ∂           ∂               ∂                ∂ \n",
       "                        2     2         ⎞                       ──(U(u, r))⋅──(V(u, r))   ──(V(u, r))⋅──(V(u, r))   ─────(U(u, r))   ────\n",
       "           ⎛∂          ⎞     ∂          ⎟  U(u, r) - V(u, r)    ∂r          ∂u            ∂r          ∂u            ∂u ∂r            ∂u ∂\n",
       "U(u, r)) - ⎜──(V(u, r))⎟  + ───(V(u, r))⎟⋅ℯ                   - ─────────────────────── - ─────────────────────── + ────────────── + ────\n",
       "           ⎝∂r         ⎠      2         ⎟                                  2                         2                    2              \n",
       "                            ∂r          ⎠                                                                                                \n",
       "                                                                                                                                         \n",
       "                                                                                                                                         \n",
       "                                                                                                                                         \n",
       "           0                                                                                            0                                \n",
       "                                                                                                                                         \n",
       "                                                                                                                                         \n",
       "                                                                                                                                         \n",
       "                                                                                                                                         \n",
       "                                                                                                                                         \n",
       "                                                                                                                                         \n",
       "                                                                                                                                         \n",
       "           0                                                                                            0                                \n",
       "                                                                                                                                         \n",
       "                                                                                                                                         \n",
       "           0                                                                                            0                                \n",
       "\n",
       "             ⎤\n",
       "             ⎥\n",
       "─(V(u, r))   ⎥\n",
       "r            ⎥\n",
       "──────────  0⎥\n",
       "  2          ⎥\n",
       "             ⎥\n",
       "             ⎥\n",
       "             ⎥\n",
       "             ⎥\n",
       "            0⎥\n",
       "             ⎥\n",
       "             ⎥\n",
       "             ⎥\n",
       "             ⎥\n",
       "             ⎥\n",
       "             ⎥\n",
       "             ⎥\n",
       "            0⎥\n",
       "             ⎥\n",
       "             ⎥\n",
       "            0⎦"
      ]
     },
     "execution_count": 18,
     "metadata": {},
     "output_type": "execute_result"
    }
   ],
   "source": [
    "einst = EinsteinTensor.from_metric(metric)\n",
    "simplify(einst.tensor())"
   ]
  },
  {
   "cell_type": "code",
   "execution_count": 19,
   "id": "58a5f730",
   "metadata": {},
   "outputs": [],
   "source": [
    "#  rm1 = RiemannCurvatureTensor.from_christoffels(ch)\n",
    "#  rm1.tensor()"
   ]
  },
  {
   "cell_type": "code",
   "execution_count": 20,
   "id": "4c825877",
   "metadata": {},
   "outputs": [],
   "source": [
    "#  weyl = WeylTensor.from_metric(metric)\n",
    "#  weyl.tensor()"
   ]
  },
  {
   "cell_type": "code",
   "execution_count": 25,
   "id": "262a477d",
   "metadata": {},
   "outputs": [
    {
     "data": {
      "image/png": "[encoded data removed]",
      "text/latex": [
       "$\\displaystyle 2 \\frac{\\partial^{2}}{\\partial u^{2}} U{\\left(u,r \\right)} = \\left(\\frac{\\partial}{\\partial u} U{\\left(u,r \\right)}\\right)^{2} + \\left(\\frac{\\partial}{\\partial u} V{\\left(u,r \\right)}\\right)^{2}$"
      ],
      "text/plain": [
       "    2                         2                2\n",
       "   ∂             ⎛∂          ⎞    ⎛∂          ⎞ \n",
       "2⋅───(U(u, r)) = ⎜──(U(u, r))⎟  + ⎜──(V(u, r))⎟ \n",
       "    2            ⎝∂u         ⎠    ⎝∂u         ⎠ \n",
       "  ∂u                                            "
      ]
     },
     "execution_count": 25,
     "metadata": {},
     "output_type": "execute_result"
    }
   ],
   "source": [
    "equation23 = Eq( 2 * diff(U,u,u),2 * solve( Ric.tensor()[0,0] , diff(U,u,u) )[0] ) \n",
    "equation23"
   ]
  },
  {
   "cell_type": "code",
   "execution_count": 35,
   "id": "5fc40c01",
   "metadata": {},
   "outputs": [
    {
     "data": {
      "image/png": "[encoded data removed]",
      "text/latex": [
       "$\\displaystyle \\frac{\\partial^{2}}{\\partial u\\partial r} U{\\left(u,r \\right)} + \\frac{\\partial^{2}}{\\partial u\\partial r} V{\\left(u,r \\right)} = \\left(\\frac{\\partial}{\\partial r} U{\\left(u,r \\right)} + \\frac{\\partial}{\\partial r} V{\\left(u,r \\right)}\\right) \\frac{\\partial}{\\partial u} V{\\left(u,r \\right)}$"
      ],
      "text/plain": [
       "   2                2                                                    \n",
       "  ∂                ∂              ⎛∂             ∂          ⎞ ∂          \n",
       "─────(U(u, r)) + ─────(V(u, r)) = ⎜──(U(u, r)) + ──(V(u, r))⎟⋅──(V(u, r))\n",
       "∂u ∂r            ∂u ∂r            ⎝∂r            ∂r         ⎠ ∂u         "
      ]
     },
     "execution_count": 35,
     "metadata": {},
     "output_type": "execute_result"
    }
   ],
   "source": [
    "equation24 = Eq( 2 * ( simplify(einst.tensor())[2,0].args[0] + simplify(einst.tensor())[2,0].args[1] ) , collect( (-2) * ( simplify(einst.tensor())[2,0].args[2] + simplify(einst.tensor())[2,0].args[3] ) , diff(V,u) )  ) \n",
    "equation24"
   ]
  },
  {
   "cell_type": "code",
   "execution_count": 40,
   "id": "c3e26be6",
   "metadata": {},
   "outputs": [
    {
     "data": {
      "image/png": "[encoded data removed]",
      "text/latex": [
       "$\\displaystyle - \\frac{\\partial}{\\partial r} U{\\left(u,r \\right)} \\frac{\\partial}{\\partial r} V{\\left(u,r \\right)} + \\frac{\\partial^{2}}{\\partial r^{2}} U{\\left(u,r \\right)} - \\left(\\frac{\\partial}{\\partial r} V{\\left(u,r \\right)}\\right)^{2} + \\frac{\\partial^{2}}{\\partial r^{2}} V{\\left(u,r \\right)}$"
      ],
      "text/plain": [
       "                              2                         2     2         \n",
       "  ∂           ∂              ∂             ⎛∂          ⎞     ∂          \n",
       "- ──(U(u, r))⋅──(V(u, r)) + ───(U(u, r)) - ⎜──(V(u, r))⎟  + ───(V(u, r))\n",
       "  ∂r          ∂r              2            ⎝∂r         ⎠      2         \n",
       "                            ∂r                              ∂r          "
      ]
     },
     "execution_count": 40,
     "metadata": {},
     "output_type": "execute_result"
    }
   ],
   "source": [
    "#  I'm too tired to rearrange this... will fix later\n",
    "equation25 = collect( simplify(einst.tensor())[0,1].args[1] , diff(V,r) ) \n",
    "equation25"
   ]
  },
  {
   "cell_type": "code",
   "execution_count": 42,
   "id": "87221ca4",
   "metadata": {},
   "outputs": [
    {
     "data": {
      "text/latex": [
       "$\\displaystyle \\left[\\begin{matrix}2 \\frac{\\partial^{2}}{\\partial u^{2}} U{\\left(u,r \\right)} = \\left(\\frac{\\partial}{\\partial u} U{\\left(u,r \\right)}\\right)^{2} + \\left(\\frac{\\partial}{\\partial u} V{\\left(u,r \\right)}\\right)^{2}\\\\\\frac{\\partial^{2}}{\\partial u\\partial r} U{\\left(u,r \\right)} + \\frac{\\partial^{2}}{\\partial u\\partial r} V{\\left(u,r \\right)} = \\left(\\frac{\\partial}{\\partial r} U{\\left(u,r \\right)} + \\frac{\\partial}{\\partial r} V{\\left(u,r \\right)}\\right) \\frac{\\partial}{\\partial u} V{\\left(u,r \\right)}\\\\- \\frac{\\partial}{\\partial r} U{\\left(u,r \\right)} \\frac{\\partial}{\\partial r} V{\\left(u,r \\right)} + \\frac{\\partial^{2}}{\\partial r^{2}} U{\\left(u,r \\right)} - \\left(\\frac{\\partial}{\\partial r} V{\\left(u,r \\right)}\\right)^{2} + \\frac{\\partial^{2}}{\\partial r^{2}} V{\\left(u,r \\right)}\\end{matrix}\\right]$"
      ],
      "text/plain": [
       "⎡                2                         2                2             ⎤\n",
       "⎢               ∂             ⎛∂          ⎞    ⎛∂          ⎞              ⎥\n",
       "⎢            2⋅───(U(u, r)) = ⎜──(U(u, r))⎟  + ⎜──(V(u, r))⎟              ⎥\n",
       "⎢                2            ⎝∂u         ⎠    ⎝∂u         ⎠              ⎥\n",
       "⎢              ∂u                                                         ⎥\n",
       "⎢                                                                         ⎥\n",
       "⎢   2                2                                                    ⎥\n",
       "⎢  ∂                ∂              ⎛∂             ∂          ⎞ ∂          ⎥\n",
       "⎢─────(U(u, r)) + ─────(V(u, r)) = ⎜──(U(u, r)) + ──(V(u, r))⎟⋅──(V(u, r))⎥\n",
       "⎢∂u ∂r            ∂u ∂r            ⎝∂r            ∂r         ⎠ ∂u         ⎥\n",
       "⎢                                                                         ⎥\n",
       "⎢                              2                         2     2          ⎥\n",
       "⎢  ∂           ∂              ∂             ⎛∂          ⎞     ∂           ⎥\n",
       "⎢- ──(U(u, r))⋅──(V(u, r)) + ───(U(u, r)) - ⎜──(V(u, r))⎟  + ───(V(u, r)) ⎥\n",
       "⎢  ∂r          ∂r              2            ⎝∂r         ⎠      2          ⎥\n",
       "⎣                            ∂r                              ∂r           ⎦"
      ]
     },
     "execution_count": 42,
     "metadata": {},
     "output_type": "execute_result"
    }
   ],
   "source": [
    "vacuumFieldEquations = Matrix([equation23,equation24,equation25])\n",
    "vacuumFieldEquations"
   ]
  },
  {
   "cell_type": "code",
   "execution_count": null,
   "id": "4b346985",
   "metadata": {},
   "outputs": [],
   "source": []
  }
 ],
 "metadata": {
  "@webio": {
   "lastCommId": "113bb82ed68a4e438c2b755cef7a26e3",
   "lastKernelId": "ca212e5f-1492-4c49-a00f-0bf5af27733f"
  },
  "kernelspec": {
   "display_name": "Python 3 (ipykernel)",
   "language": "python",
   "name": "python3"
  },
  "language_info": {
   "codemirror_mode": {
    "name": "ipython",
    "version": 3
   },
   "file_extension": ".py",
   "mimetype": "text/x-python",
   "name": "python",
   "nbconvert_exporter": "python",
   "pygments_lexer": "ipython3",
   "version": "3.8.8"
  }
 },
 "nbformat": 4,
 "nbformat_minor": 5
}
