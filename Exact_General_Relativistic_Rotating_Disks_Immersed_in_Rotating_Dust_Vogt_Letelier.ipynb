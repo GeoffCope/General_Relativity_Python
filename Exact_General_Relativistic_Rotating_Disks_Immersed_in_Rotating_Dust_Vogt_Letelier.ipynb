{
 "cells": [
  {
   "cell_type": "markdown",
   "id": "9d360aa1",
   "metadata": {},
   "source": [
    "# Exact General Relativistic Rotating Disks Immersed in Rotating Dust Generated from van Stockum Solutions by Vogt and Letelier\n",
    "##  Geoff Cope\n",
    "##  Univeristy of Utah\n",
    "##  January 5th, 2022"
   ]
  },
  {
   "cell_type": "markdown",
   "id": "f67f3362",
   "metadata": {},
   "source": [
    "https://arxiv.org/abs/astro-ph/0611428"
   ]
  },
  {
   "cell_type": "code",
   "execution_count": 1,
   "id": "24403880",
   "metadata": {},
   "outputs": [
    {
     "name": "stdout",
     "output_type": "stream",
     "text": [
      "IPython console for SymPy 1.9 (Python 3.8.8-64-bit) (ground types: gmpy)\n",
      "\n",
      "These commands were executed:\n",
      ">>> from __future__ import division\n",
      ">>> from sympy import *\n",
      ">>> x, y, z, t = symbols('x y z t')\n",
      ">>> k, m, n = symbols('k m n', integer=True)\n",
      ">>> f, g, h = symbols('f g h', cls=Function)\n",
      ">>> init_printing()\n",
      "\n",
      "Documentation can be found at https://docs.sympy.org/1.9/\n",
      "\n"
     ]
    }
   ],
   "source": [
    "from sympy import init_session\n",
    "init_session(use_latex=True)"
   ]
  },
  {
   "cell_type": "code",
   "execution_count": 2,
   "id": "0ab1c9a7",
   "metadata": {},
   "outputs": [],
   "source": [
    "import warnings\n",
    "import matplotlib.cbook\n",
    "warnings.filterwarnings(\"ignore\",category=matplotlib.cbook.mplDeprecation)"
   ]
  },
  {
   "cell_type": "code",
   "execution_count": 3,
   "id": "14793cee",
   "metadata": {},
   "outputs": [],
   "source": [
    "t,r,phi,z,dt,dr,dphi,dz = symbols('t r phi z dt dr dphi dz')"
   ]
  },
  {
   "cell_type": "code",
   "execution_count": 4,
   "id": "0d2fec51",
   "metadata": {},
   "outputs": [
    {
     "data": {
      "image/png": "[encoded data removed]",
      "text/latex": [
       "$\\displaystyle N{\\left(r,z \\right)}$"
      ],
      "text/plain": [
       "N(r, z)"
      ]
     },
     "execution_count": 4,
     "metadata": {},
     "output_type": "execute_result"
    }
   ],
   "source": [
    "N = Function('N')(r,z)\n",
    "N"
   ]
  },
  {
   "cell_type": "code",
   "execution_count": 5,
   "id": "82061549",
   "metadata": {},
   "outputs": [
    {
     "data": {
      "image/png": "[encoded data removed]",
      "text/latex": [
       "$\\displaystyle \\nu{\\left(r,z \\right)}$"
      ],
      "text/plain": [
       "ν(r, z)"
      ]
     },
     "execution_count": 5,
     "metadata": {},
     "output_type": "execute_result"
    }
   ],
   "source": [
    "nu = Function('nu')(r,z)\n",
    "nu"
   ]
  },
  {
   "cell_type": "code",
   "execution_count": 6,
   "id": "cb637036",
   "metadata": {},
   "outputs": [
    {
     "data": {
      "text/latex": [
       "$\\displaystyle \\left[\\begin{matrix}t\\\\r\\\\\\phi\\\\z\\end{matrix}\\right]$"
      ],
      "text/plain": [
       "⎡t⎤\n",
       "⎢ ⎥\n",
       "⎢r⎥\n",
       "⎢ ⎥\n",
       "⎢φ⎥\n",
       "⎢ ⎥\n",
       "⎣z⎦"
      ]
     },
     "execution_count": 6,
     "metadata": {},
     "output_type": "execute_result"
    }
   ],
   "source": [
    "variables = Matrix( [t,r,phi,z] )\n",
    "variables"
   ]
  },
  {
   "cell_type": "code",
   "execution_count": 7,
   "id": "6c652682",
   "metadata": {},
   "outputs": [
    {
     "data": {
      "text/latex": [
       "$\\displaystyle \\left[\\begin{matrix}dt\\\\dr\\\\dphi\\\\dz\\end{matrix}\\right]$"
      ],
      "text/plain": [
       "⎡ dt ⎤\n",
       "⎢    ⎥\n",
       "⎢ dr ⎥\n",
       "⎢    ⎥\n",
       "⎢dphi⎥\n",
       "⎢    ⎥\n",
       "⎣ dz ⎦"
      ]
     },
     "execution_count": 7,
     "metadata": {},
     "output_type": "execute_result"
    }
   ],
   "source": [
    "differentials = Matrix( [dt,dr,dphi,dz] ) \n",
    "differentials"
   ]
  },
  {
   "cell_type": "code",
   "execution_count": 8,
   "id": "48fcb2b5",
   "metadata": {},
   "outputs": [
    {
     "data": {
      "image/png": "[encoded data removed]",
      "text/latex": [
       "$\\displaystyle - dphi^{2} r^{2} + dphi^{2} N^{2}{\\left(r,z \\right)} - 2 dphi dt N{\\left(r,z \\right)} - dr^{2} e^{\\nu{\\left(r,z \\right)}} + dt^{2} - dz^{2} e^{\\nu{\\left(r,z \\right)}}$"
      ],
      "text/plain": [
       "      2  2       2  2                               2  ν(r, z)     2     2  ν(r, z)\n",
       "- dphi ⋅r  + dphi ⋅N (r, z) - 2⋅dphi⋅dt⋅N(r, z) - dr ⋅ℯ        + dt  - dz ⋅ℯ       "
      ]
     },
     "execution_count": 8,
     "metadata": {},
     "output_type": "execute_result"
    }
   ],
   "source": [
    "lineElement = expand( (dt - N*dphi)**2 - r**2 * dphi**2 - exp(nu)*(dr**2 + dz**2) ) \n",
    "lineElement"
   ]
  },
  {
   "cell_type": "code",
   "execution_count": 9,
   "id": "41f6a092",
   "metadata": {},
   "outputs": [
    {
     "data": {
      "text/latex": [
       "$\\displaystyle \\left[\\begin{matrix}1 & 0 & - N{\\left(r,z \\right)} & 0\\\\0 & - e^{\\nu{\\left(r,z \\right)}} & 0 & 0\\\\- N{\\left(r,z \\right)} & 0 & - r^{2} + N^{2}{\\left(r,z \\right)} & 0\\\\0 & 0 & 0 & - e^{\\nu{\\left(r,z \\right)}}\\end{matrix}\\right]$"
      ],
      "text/plain": [
       "⎡   1          0         -N(r, z)          0    ⎤\n",
       "⎢                                               ⎥\n",
       "⎢            ν(r, z)                            ⎥\n",
       "⎢   0      -ℯ                0             0    ⎥\n",
       "⎢                                               ⎥\n",
       "⎢                        2    2                 ⎥\n",
       "⎢-N(r, z)      0      - r  + N (r, z)      0    ⎥\n",
       "⎢                                               ⎥\n",
       "⎢                                        ν(r, z)⎥\n",
       "⎣   0          0             0         -ℯ       ⎦"
      ]
     },
     "execution_count": 9,
     "metadata": {},
     "output_type": "execute_result"
    }
   ],
   "source": [
    "g = zeros(4)\n",
    "\n",
    "for i in range(4):\n",
    "    for j in range(4):\n",
    "        if i == j:\n",
    "            g[i,j] = lineElement.coeff( differentials[i],2 ) \n",
    "        else:\n",
    "            g[i,j] = Rational(1,2)*lineElement.coeff( differentials[i]*differentials[j],1 )\n",
    "            \n",
    "g"
   ]
  },
  {
   "cell_type": "code",
   "execution_count": 10,
   "id": "d764e597",
   "metadata": {},
   "outputs": [],
   "source": [
    "import sympy"
   ]
  },
  {
   "cell_type": "code",
   "execution_count": 11,
   "id": "1f048a84",
   "metadata": {},
   "outputs": [
    {
     "data": {
      "text/latex": [
       "$\\displaystyle \\left[\\begin{matrix}1 & 0 & - N{\\left(r,z \\right)} & 0\\\\0 & - e^{\\nu{\\left(r,z \\right)}} & 0 & 0\\\\- N{\\left(r,z \\right)} & 0 & - r^{2} + N^{2}{\\left(r,z \\right)} & 0\\\\0 & 0 & 0 & - e^{\\nu{\\left(r,z \\right)}}\\end{matrix}\\right]$"
      ],
      "text/plain": [
       "⎡   1          0         -N(r, z)          0    ⎤\n",
       "⎢                                               ⎥\n",
       "⎢            ν(r, z)                            ⎥\n",
       "⎢   0      -ℯ                0             0    ⎥\n",
       "⎢                                               ⎥\n",
       "⎢                        2    2                 ⎥\n",
       "⎢-N(r, z)      0      - r  + N (r, z)      0    ⎥\n",
       "⎢                                               ⎥\n",
       "⎢                                        ν(r, z)⎥\n",
       "⎣   0          0             0         -ℯ       ⎦"
      ]
     },
     "execution_count": 11,
     "metadata": {},
     "output_type": "execute_result"
    }
   ],
   "source": [
    "m = sympy.Array(g)\n",
    "m"
   ]
  },
  {
   "cell_type": "code",
   "execution_count": 12,
   "id": "95504fb8",
   "metadata": {},
   "outputs": [],
   "source": [
    "from einsteinpy.symbolic import *"
   ]
  },
  {
   "cell_type": "code",
   "execution_count": 23,
   "id": "08a22b3c",
   "metadata": {},
   "outputs": [],
   "source": [
    "syms = sympy.symbols(\"t r phi z\")\n",
    "t,r,phi,z = syms"
   ]
  },
  {
   "cell_type": "code",
   "execution_count": 24,
   "id": "44adce0a",
   "metadata": {},
   "outputs": [],
   "source": [
    "metric = MetricTensor(m,syms)"
   ]
  },
  {
   "cell_type": "code",
   "execution_count": 25,
   "id": "588e8df2",
   "metadata": {},
   "outputs": [
    {
     "data": {
      "text/latex": [
       "$\\displaystyle \\left[\\begin{matrix}\\left[\\begin{matrix}0 & \\frac{N{\\left(r,z \\right)} \\frac{\\partial}{\\partial r} N{\\left(r,z \\right)}}{2 r^{2}} & 0 & \\frac{N{\\left(r,z \\right)} \\frac{\\partial}{\\partial z} N{\\left(r,z \\right)}}{2 r^{2}}\\\\\\frac{N{\\left(r,z \\right)} \\frac{\\partial}{\\partial r} N{\\left(r,z \\right)}}{2 r^{2}} & 0 & - \\frac{\\frac{\\partial}{\\partial r} N{\\left(r,z \\right)}}{2} + \\frac{N{\\left(r,z \\right)}}{r} - \\frac{N^{2}{\\left(r,z \\right)} \\frac{\\partial}{\\partial r} N{\\left(r,z \\right)}}{2 r^{2}} & 0\\\\0 & - \\frac{\\frac{\\partial}{\\partial r} N{\\left(r,z \\right)}}{2} + \\frac{N{\\left(r,z \\right)}}{r} - \\frac{N^{2}{\\left(r,z \\right)} \\frac{\\partial}{\\partial r} N{\\left(r,z \\right)}}{2 r^{2}} & 0 & - \\frac{\\left(r^{2} + N^{2}{\\left(r,z \\right)}\\right) \\frac{\\partial}{\\partial z} N{\\left(r,z \\right)}}{2 r^{2}}\\\\\\frac{N{\\left(r,z \\right)} \\frac{\\partial}{\\partial z} N{\\left(r,z \\right)}}{2 r^{2}} & 0 & - \\frac{\\left(r^{2} + N^{2}{\\left(r,z \\right)}\\right) \\frac{\\partial}{\\partial z} N{\\left(r,z \\right)}}{2 r^{2}} & 0\\end{matrix}\\right] & \\left[\\begin{matrix}0 & 0 & - \\frac{e^{- \\nu{\\left(r,z \\right)}} \\frac{\\partial}{\\partial r} N{\\left(r,z \\right)}}{2} & 0\\\\0 & \\frac{\\frac{\\partial}{\\partial r} \\nu{\\left(r,z \\right)}}{2} & 0 & \\frac{\\frac{\\partial}{\\partial z} \\nu{\\left(r,z \\right)}}{2}\\\\- \\frac{e^{- \\nu{\\left(r,z \\right)}} \\frac{\\partial}{\\partial r} N{\\left(r,z \\right)}}{2} & 0 & \\left(- r + N{\\left(r,z \\right)} \\frac{\\partial}{\\partial r} N{\\left(r,z \\right)}\\right) e^{- \\nu{\\left(r,z \\right)}} & 0\\\\0 & \\frac{\\frac{\\partial}{\\partial z} \\nu{\\left(r,z \\right)}}{2} & 0 & - \\frac{\\frac{\\partial}{\\partial r} \\nu{\\left(r,z \\right)}}{2}\\end{matrix}\\right] & \\left[\\begin{matrix}0 & \\frac{\\frac{\\partial}{\\partial r} N{\\left(r,z \\right)}}{2 r^{2}} & 0 & \\frac{\\frac{\\partial}{\\partial z} N{\\left(r,z \\right)}}{2 r^{2}}\\\\\\frac{\\frac{\\partial}{\\partial r} N{\\left(r,z \\right)}}{2 r^{2}} & 0 & \\frac{r - \\frac{N{\\left(r,z \\right)} \\frac{\\partial}{\\partial r} N{\\left(r,z \\right)}}{2}}{r^{2}} & 0\\\\0 & \\frac{r - \\frac{N{\\left(r,z \\right)} \\frac{\\partial}{\\partial r} N{\\left(r,z \\right)}}{2}}{r^{2}} & 0 & - \\frac{N{\\left(r,z \\right)} \\frac{\\partial}{\\partial z} N{\\left(r,z \\right)}}{2 r^{2}}\\\\\\frac{\\frac{\\partial}{\\partial z} N{\\left(r,z \\right)}}{2 r^{2}} & 0 & - \\frac{N{\\left(r,z \\right)} \\frac{\\partial}{\\partial z} N{\\left(r,z \\right)}}{2 r^{2}} & 0\\end{matrix}\\right] & \\left[\\begin{matrix}0 & 0 & - \\frac{e^{- \\nu{\\left(r,z \\right)}} \\frac{\\partial}{\\partial z} N{\\left(r,z \\right)}}{2} & 0\\\\0 & - \\frac{\\frac{\\partial}{\\partial z} \\nu{\\left(r,z \\right)}}{2} & 0 & \\frac{\\frac{\\partial}{\\partial r} \\nu{\\left(r,z \\right)}}{2}\\\\- \\frac{e^{- \\nu{\\left(r,z \\right)}} \\frac{\\partial}{\\partial z} N{\\left(r,z \\right)}}{2} & 0 & N{\\left(r,z \\right)} e^{- \\nu{\\left(r,z \\right)}} \\frac{\\partial}{\\partial z} N{\\left(r,z \\right)} & 0\\\\0 & \\frac{\\frac{\\partial}{\\partial r} \\nu{\\left(r,z \\right)}}{2} & 0 & \\frac{\\frac{\\partial}{\\partial z} \\nu{\\left(r,z \\right)}}{2}\\end{matrix}\\right]\\end{matrix}\\right]$"
      ],
      "text/plain": [
       "⎡                                                                                           \n",
       "⎢                                                                                           \n",
       "⎢⎡                                          ∂                                               \n",
       "⎢⎢                                  N(r, z)⋅──(N(r, z))                                     \n",
       "⎢⎢                                          ∂r                                              \n",
       "⎢⎢         0                        ───────────────────                                     \n",
       "⎢⎢                                             2                                            \n",
       "⎢⎢                                          2⋅r                                             \n",
       "⎢⎢                                                                                          \n",
       "⎢⎢        ∂                                                              ∂                  \n",
       "⎢⎢N(r, z)⋅──(N(r, z))                                                    ──(N(r, z))        \n",
       "⎢⎢        ∂r                                                             ∂r            N(r, \n",
       "⎢⎢───────────────────                        0                         - ─────────── + ─────\n",
       "⎢⎢           2                                                                2           r \n",
       "⎢⎢        2⋅r                                                                               \n",
       "⎢⎢                                                                                          \n",
       "⎢⎢                       ∂                        2       ∂                                 \n",
       "⎢⎢                       ──(N(r, z))             N (r, z)⋅──(N(r, z))                       \n",
       "⎢⎢                       ∂r            N(r, z)            ∂r                                \n",
       "⎢⎢         0           - ─────────── + ─────── - ────────────────────                       \n",
       "⎢⎢                            2           r                 2                               \n",
       "⎢⎢                                                       2⋅r                                \n",
       "⎢⎢                                                                                          \n",
       "⎢⎢        ∂                                                                     ⎛ 2    2    \n",
       "⎢⎢N(r, z)⋅──(N(r, z))                                                          -⎝r  + N (r, \n",
       "⎢⎢        ∂z                                                                                \n",
       "⎢⎢───────────────────                        0                                 ─────────────\n",
       "⎢⎢           2                                                                              \n",
       "⎢⎣        2⋅r                                                                               \n",
       "⎢                                                                                           \n",
       "⎣                                                                                           \n",
       "\n",
       "                                                                                            \n",
       "                                                                                            \n",
       "                                        ∂               ⎤                                   \n",
       "                                N(r, z)⋅──(N(r, z))     ⎥                                   \n",
       "                                        ∂z              ⎥  ⎡                                \n",
       " 0                              ───────────────────     ⎥  ⎢                                \n",
       "                                           2            ⎥  ⎢                                \n",
       "                                        2⋅r             ⎥  ⎢           0                  0 \n",
       "                                                        ⎥  ⎢                                \n",
       "      2       ∂                                         ⎥  ⎢                                \n",
       "     N (r, z)⋅──(N(r, z))                               ⎥  ⎢                         ∂      \n",
       "z)            ∂r                                        ⎥  ⎢                         ──(ν(r,\n",
       "── - ────────────────────                0              ⎥  ⎢                         ∂r     \n",
       "                2                                       ⎥  ⎢           0             ───────\n",
       "             2⋅r                                        ⎥  ⎢                              2 \n",
       "                                                        ⎥  ⎢                                \n",
       "                            ⎛ 2    2      ⎞ ∂           ⎥  ⎢  -ν(r, z) ∂                    \n",
       "                           -⎝r  + N (r, z)⎠⋅──(N(r, z)) ⎥  ⎢-ℯ        ⋅──(N(r, z))          \n",
       "                                            ∂z          ⎥  ⎢           ∂r                   \n",
       " 0                         ─────────────────────────────⎥  ⎢───────────────────────       0 \n",
       "                                           2            ⎥  ⎢           2                    \n",
       "                                        2⋅r             ⎥  ⎢                                \n",
       "                                                        ⎥  ⎢                         ∂      \n",
       "  ⎞ ∂                                                   ⎥  ⎢                         ──(ν(r,\n",
       "z)⎠⋅──(N(r, z))                                         ⎥  ⎢                         ∂z     \n",
       "    ∂z                                                  ⎥  ⎢           0             ───────\n",
       "────────────────                         0              ⎥  ⎣                              2 \n",
       "   2                                                    ⎥                                   \n",
       "2⋅r                                                     ⎦                                   \n",
       "                                                                                            \n",
       "                                                                                            \n",
       "\n",
       "                                                            ⎡                   ∂           \n",
       "                                                            ⎢                   ──(N(r, z)) \n",
       "                                                            ⎢                   ∂r          \n",
       "                                                            ⎢     0             ─────────── \n",
       "              -ν(r, z) ∂                                 ⎤  ⎢                          2    \n",
       "            -ℯ        ⋅──(N(r, z))                       ⎥  ⎢                       2⋅r     \n",
       "                       ∂r                                ⎥  ⎢                               \n",
       "            ───────────────────────               0      ⎥  ⎢                               \n",
       "                       2                                 ⎥  ⎢                               \n",
       "                                                         ⎥  ⎢∂                              \n",
       "                                             ∂           ⎥  ⎢──(N(r, z))                    \n",
       " z))                                         ──(ν(r, z)) ⎥  ⎢∂r                             \n",
       "                                             ∂z          ⎥  ⎢───────────             0      \n",
       "────                   0                     ─────────── ⎥  ⎢       2                       \n",
       "                                                  2      ⎥  ⎢    2⋅r                        \n",
       "                                                         ⎥  ⎢                               \n",
       "                                                         ⎥  ⎢                         ∂     \n",
       "                                                         ⎥  ⎢                 N(r, z)⋅──(N(r\n",
       "      ⎛             ∂          ⎞  -ν(r, z)               ⎥  ⎢                         ∂r    \n",
       "      ⎜-r + N(r, z)⋅──(N(r, z))⎟⋅ℯ                0      ⎥  ⎢             r - ──────────────\n",
       "      ⎝             ∂r         ⎠                         ⎥  ⎢                          2    \n",
       "                                                         ⎥  ⎢     0       ──────────────────\n",
       "                                             ∂           ⎥  ⎢                         2     \n",
       " z))                                        -──(ν(r, z)) ⎥  ⎢                        r      \n",
       "                                             ∂r          ⎥  ⎢                               \n",
       "────                   0                    ─────────────⎥  ⎢∂                              \n",
       "                                                  2      ⎦  ⎢──(N(r, z))                    \n",
       "                                                            ⎢∂z                             \n",
       "                                                            ⎢───────────             0      \n",
       "                                                            ⎢       2                       \n",
       "                                                            ⎣    2⋅r                        \n",
       "\n",
       "                                     ∂               ⎤                                      \n",
       "                                     ──(N(r, z))     ⎥                                      \n",
       "                                     ∂z              ⎥                                      \n",
       "                  0                  ───────────     ⎥                                      \n",
       "                                            2        ⎥  ⎡                                   \n",
       "                                         2⋅r         ⎥  ⎢                                   \n",
       "                                                     ⎥  ⎢                                   \n",
       "                   ∂                                 ⎥  ⎢           0                   0   \n",
       "           N(r, z)⋅──(N(r, z))                       ⎥  ⎢                                   \n",
       "                   ∂r                                ⎥  ⎢                                   \n",
       "       r - ───────────────────                       ⎥  ⎢                          ∂        \n",
       "                    2                                ⎥  ⎢                         -──(ν(r, z\n",
       "       ───────────────────────            0          ⎥  ⎢                          ∂z       \n",
       "                   2                                 ⎥  ⎢           0             ──────────\n",
       "                  r                                  ⎥  ⎢                               2   \n",
       "                                                     ⎥  ⎢                                   \n",
       "                                                     ⎥  ⎢  -ν(r, z) ∂                       \n",
       ", z))                                                ⎥  ⎢-ℯ        ⋅──(N(r, z))             \n",
       "                                         ∂           ⎥  ⎢           ∂z                      \n",
       "─────                           -N(r, z)⋅──(N(r, z)) ⎥  ⎢───────────────────────        0   \n",
       "                                         ∂z          ⎥  ⎢           2                       \n",
       "─────             0             ─────────────────────⎥  ⎢                                   \n",
       "                                            2        ⎥  ⎢                          ∂        \n",
       "                                         2⋅r         ⎥  ⎢                          ──(ν(r, z\n",
       "                                                     ⎥  ⎢                          ∂r       \n",
       "                 ∂                                   ⎥  ⎢           0              ─────────\n",
       "        -N(r, z)⋅──(N(r, z))                         ⎥  ⎣                               2   \n",
       "                 ∂z                                  ⎥                                      \n",
       "        ─────────────────────             0          ⎥                                      \n",
       "                    2                                ⎥                                      \n",
       "                 2⋅r                                 ⎦                                      \n",
       "\n",
       "                                                ⎤\n",
       "                                                ⎥\n",
       "                                                ⎥\n",
       "                                                ⎥\n",
       "          -ν(r, z) ∂                           ⎤⎥\n",
       "        -ℯ        ⋅──(N(r, z))                 ⎥⎥\n",
       "                   ∂z                          ⎥⎥\n",
       "        ───────────────────────          0     ⎥⎥\n",
       "                   2                           ⎥⎥\n",
       "                                               ⎥⎥\n",
       "                                    ∂          ⎥⎥\n",
       "))                                  ──(ν(r, z))⎥⎥\n",
       "                                    ∂r         ⎥⎥\n",
       "───                0                ───────────⎥⎥\n",
       "                                         2     ⎥⎥\n",
       "                                               ⎥⎥\n",
       "                                               ⎥⎥\n",
       "                                               ⎥⎥\n",
       "              -ν(r, z) ∂                       ⎥⎥\n",
       "     N(r, z)⋅ℯ        ⋅──(N(r, z))       0     ⎥⎥\n",
       "                       ∂z                      ⎥⎥\n",
       "                                               ⎥⎥\n",
       "                                    ∂          ⎥⎥\n",
       "))                                  ──(ν(r, z))⎥⎥\n",
       "                                    ∂z         ⎥⎥\n",
       "──                 0                ───────────⎥⎥\n",
       "                                         2     ⎦⎥\n",
       "                                                ⎥\n",
       "                                                ⎥\n",
       "                                                ⎥\n",
       "                                                ⎦"
      ]
     },
     "execution_count": 25,
     "metadata": {},
     "output_type": "execute_result"
    }
   ],
   "source": [
    "ch = ChristoffelSymbols.from_metric(metric)\n",
    "simplify(ch.tensor())"
   ]
  },
  {
   "cell_type": "code",
   "execution_count": 26,
   "id": "874fe20e",
   "metadata": {},
   "outputs": [
    {
     "data": {
      "text/latex": [
       "$\\displaystyle \\left[\\begin{matrix}\\frac{\\left(\\left(\\frac{\\partial}{\\partial r} N{\\left(r,z \\right)}\\right)^{2} + \\left(\\frac{\\partial}{\\partial z} N{\\left(r,z \\right)}\\right)^{2}\\right) e^{- \\nu{\\left(r,z \\right)}}}{2 r^{2}} & 0 & \\frac{\\left(- r^{2} \\frac{\\partial^{2}}{\\partial r^{2}} N{\\left(r,z \\right)} - r^{2} \\frac{\\partial^{2}}{\\partial z^{2}} N{\\left(r,z \\right)} + r \\frac{\\partial}{\\partial r} N{\\left(r,z \\right)} - N{\\left(r,z \\right)} \\left(\\frac{\\partial}{\\partial r} N{\\left(r,z \\right)}\\right)^{2} - N{\\left(r,z \\right)} \\left(\\frac{\\partial}{\\partial z} N{\\left(r,z \\right)}\\right)^{2}\\right) e^{- \\nu{\\left(r,z \\right)}}}{2 r^{2}} & 0\\\\0 & \\frac{- r^{2} \\left(\\frac{\\partial^{2}}{\\partial r^{2}} \\nu{\\left(r,z \\right)} + \\frac{\\partial^{2}}{\\partial z^{2}} \\nu{\\left(r,z \\right)}\\right) + r \\frac{\\partial}{\\partial r} \\nu{\\left(r,z \\right)} + \\left(\\frac{\\partial}{\\partial r} N{\\left(r,z \\right)}\\right)^{2}}{2 r^{2}} & 0 & \\frac{r \\frac{\\partial}{\\partial z} \\nu{\\left(r,z \\right)} + \\frac{\\partial}{\\partial r} N{\\left(r,z \\right)} \\frac{\\partial}{\\partial z} N{\\left(r,z \\right)}}{2 r^{2}}\\\\\\frac{\\left(- r^{2} \\frac{\\partial^{2}}{\\partial r^{2}} N{\\left(r,z \\right)} - r^{2} \\frac{\\partial^{2}}{\\partial z^{2}} N{\\left(r,z \\right)} + r \\frac{\\partial}{\\partial r} N{\\left(r,z \\right)} - N{\\left(r,z \\right)} \\left(\\frac{\\partial}{\\partial r} N{\\left(r,z \\right)}\\right)^{2} - N{\\left(r,z \\right)} \\left(\\frac{\\partial}{\\partial z} N{\\left(r,z \\right)}\\right)^{2}\\right) e^{- \\nu{\\left(r,z \\right)}}}{2 r^{2}} & 0 & \\frac{\\left(2 r^{2} N{\\left(r,z \\right)} \\frac{\\partial^{2}}{\\partial r^{2}} N{\\left(r,z \\right)} + 2 r^{2} N{\\left(r,z \\right)} \\frac{\\partial^{2}}{\\partial z^{2}} N{\\left(r,z \\right)} + r^{2} \\left(\\frac{\\partial}{\\partial r} N{\\left(r,z \\right)}\\right)^{2} + r^{2} \\left(\\frac{\\partial}{\\partial z} N{\\left(r,z \\right)}\\right)^{2} - 2 r N{\\left(r,z \\right)} \\frac{\\partial}{\\partial r} N{\\left(r,z \\right)} + N^{2}{\\left(r,z \\right)} \\left(\\frac{\\partial}{\\partial r} N{\\left(r,z \\right)}\\right)^{2} + N^{2}{\\left(r,z \\right)} \\left(\\frac{\\partial}{\\partial z} N{\\left(r,z \\right)}\\right)^{2}\\right) e^{- \\nu{\\left(r,z \\right)}}}{2 r^{2}} & 0\\\\0 & \\frac{r \\frac{\\partial}{\\partial z} \\nu{\\left(r,z \\right)} + \\frac{\\partial}{\\partial r} N{\\left(r,z \\right)} \\frac{\\partial}{\\partial z} N{\\left(r,z \\right)}}{2 r^{2}} & 0 & - \\frac{\\frac{\\partial^{2}}{\\partial r^{2}} \\nu{\\left(r,z \\right)}}{2} - \\frac{\\frac{\\partial^{2}}{\\partial z^{2}} \\nu{\\left(r,z \\right)}}{2} - \\frac{\\frac{\\partial}{\\partial r} \\nu{\\left(r,z \\right)}}{2 r} + \\frac{\\left(\\frac{\\partial}{\\partial z} N{\\left(r,z \\right)}\\right)^{2}}{2 r^{2}}\\end{matrix}\\right]$"
      ],
      "text/plain": [
       "⎡                                                                                           \n",
       "⎢                                   ⎛             2                2⎞                       \n",
       "⎢                                   ⎜⎛∂          ⎞    ⎛∂          ⎞ ⎟  -ν(r, z)             \n",
       "⎢                                   ⎜⎜──(N(r, z))⎟  + ⎜──(N(r, z))⎟ ⎟⋅ℯ                     \n",
       "⎢                                   ⎝⎝∂r         ⎠    ⎝∂z         ⎠ ⎠                       \n",
       "⎢                                   ───────────────────────────────────────────             \n",
       "⎢                                                          2                                \n",
       "⎢                                                       2⋅r                                 \n",
       "⎢                                                                                           \n",
       "⎢                                                                                           \n",
       "⎢                                                                                           \n",
       "⎢                                                                                           \n",
       "⎢                                                                                           \n",
       "⎢                                                                                           \n",
       "⎢                                                        0                                  \n",
       "⎢                                                                                           \n",
       "⎢                                                                                           \n",
       "⎢                                                                                           \n",
       "⎢⎛       2                 2                                                 2              \n",
       "⎢⎜   2  ∂              2  ∂               ∂                     ⎛∂          ⎞            ⎛∂ \n",
       "⎢⎜- r ⋅───(N(r, z)) - r ⋅───(N(r, z)) + r⋅──(N(r, z)) - N(r, z)⋅⎜──(N(r, z))⎟  - N(r, z)⋅⎜──\n",
       "⎢⎜       2                 2              ∂r                    ⎝∂r         ⎠            ⎝∂z\n",
       "⎢⎝     ∂r                ∂z                                                                 \n",
       "⎢───────────────────────────────────────────────────────────────────────────────────────────\n",
       "⎢                                                          2                                \n",
       "⎢                                                       2⋅r                                 \n",
       "⎢                                                                                           \n",
       "⎢                                                                                           \n",
       "⎢                                                                                           \n",
       "⎢                                                                                           \n",
       "⎢                                                                                           \n",
       "⎢                                                                                           \n",
       "⎢                                                        0                                  \n",
       "⎢                                                                                           \n",
       "⎣                                                                                           \n",
       "\n",
       "                                                                                            \n",
       "                                                                                            \n",
       "                                                                                            \n",
       "                                                                                            \n",
       "                                                                                            \n",
       "                                                         0                                  \n",
       "                                                                                            \n",
       "                                                                                            \n",
       "                                                                                            \n",
       "                             ⎛  2              2         ⎞                                2 \n",
       "                           2 ⎜ ∂              ∂          ⎟     ∂             ⎛∂          ⎞  \n",
       "                        - r ⋅⎜───(ν(r, z)) + ───(ν(r, z))⎟ + r⋅──(ν(r, z)) + ⎜──(N(r, z))⎟  \n",
       "                             ⎜  2              2         ⎟     ∂r            ⎝∂r         ⎠  \n",
       "                             ⎝∂r             ∂z          ⎠                                  \n",
       "                        ─────────────────────────────────────────────────────────────────── \n",
       "                                                           2                                \n",
       "                                                        2⋅r                                 \n",
       "                                                                                            \n",
       "          2⎞                                                                                \n",
       "         ⎞ ⎟  -ν(r, z)                                                                      \n",
       "(N(r, z))⎟ ⎟⋅ℯ                                                                              \n",
       "         ⎠ ⎟                                                                                \n",
       "           ⎠                                                                                \n",
       "──────────────────────                                   0                                  \n",
       "                                                                                            \n",
       "                                                                                            \n",
       "                                                                                            \n",
       "                                                                                            \n",
       "                                                                                            \n",
       "                                        ∂             ∂           ∂                         \n",
       "                                      r⋅──(ν(r, z)) + ──(N(r, z))⋅──(N(r, z))               \n",
       "                                        ∂z            ∂r          ∂z                        \n",
       "                                      ───────────────────────────────────────               \n",
       "                                                           2                                \n",
       "                                                        2⋅r                                 \n",
       "\n",
       "                                    ⎛       2                 2                             \n",
       "                                    ⎜   2  ∂              2  ∂               ∂              \n",
       "                                    ⎜- r ⋅───(N(r, z)) - r ⋅───(N(r, z)) + r⋅──(N(r, z)) - N\n",
       "                                    ⎜       2                 2              ∂r             \n",
       "                                    ⎝     ∂r                ∂z                              \n",
       "                                    ────────────────────────────────────────────────────────\n",
       "                                                                                            \n",
       "                                                                                           2\n",
       "                                                                                            \n",
       "                                                                                            \n",
       "                                                                                            \n",
       "                                                                                            \n",
       "                                                                                            \n",
       "                                                                                            \n",
       "                                                                                            \n",
       "                                                                                            \n",
       "                                                                                            \n",
       "                                                                                            \n",
       " ⎛               2                           2                            2                 \n",
       " ⎜   2          ∂                2          ∂              2 ⎛∂          ⎞     2 ⎛∂         \n",
       " ⎜2⋅r ⋅N(r, z)⋅───(N(r, z)) + 2⋅r ⋅N(r, z)⋅───(N(r, z)) + r ⋅⎜──(N(r, z))⎟  + r ⋅⎜──(N(r, z)\n",
       " ⎜               2                           2               ⎝∂r         ⎠       ⎝∂z        \n",
       " ⎝             ∂r                          ∂z                                               \n",
       " ───────────────────────────────────────────────────────────────────────────────────────────\n",
       "                                                                                            \n",
       "                                                                                           2\n",
       "                                                                                            \n",
       "                                                                                            \n",
       "                                                                                            \n",
       "                                                                                            \n",
       "                                                                                            \n",
       "                                                                                            \n",
       "                                                                                            \n",
       "                                                                                            \n",
       "                                                                                            \n",
       "\n",
       "                    2                        2⎞                                             \n",
       "       ⎛∂          ⎞            ⎛∂          ⎞ ⎟  -ν(r, z)                                   \n",
       "(r, z)⋅⎜──(N(r, z))⎟  - N(r, z)⋅⎜──(N(r, z))⎟ ⎟⋅ℯ                                           \n",
       "       ⎝∂r         ⎠            ⎝∂z         ⎠ ⎟                                             \n",
       "                                              ⎠                                             \n",
       "─────────────────────────────────────────────────────────                                   \n",
       "  2                                                                                         \n",
       "⋅r                                                                                          \n",
       "                                                                                            \n",
       "                                                                                            \n",
       "                                                                                            \n",
       "                                                                                            \n",
       "                                                                                            \n",
       "                                                                                            \n",
       "0                                                                                           \n",
       "                                                                                            \n",
       "                                                                                            \n",
       "                                                                                            \n",
       "  2                                                   2                         2⎞          \n",
       " ⎞                ∂              2       ⎛∂          ⎞     2       ⎛∂          ⎞ ⎟  -ν(r, z)\n",
       ")⎟  - 2⋅r⋅N(r, z)⋅──(N(r, z)) + N (r, z)⋅⎜──(N(r, z))⎟  + N (r, z)⋅⎜──(N(r, z))⎟ ⎟⋅ℯ        \n",
       " ⎠                ∂r                     ⎝∂r         ⎠             ⎝∂z         ⎠ ⎟          \n",
       "                                                                                 ⎠          \n",
       "────────────────────────────────────────────────────────────────────────────────────────────\n",
       "  2                                                                                         \n",
       "⋅r                                                                                          \n",
       "                                                                                            \n",
       "                                                                                            \n",
       "                                                                                            \n",
       "                                                                                            \n",
       "                                                                                            \n",
       "                                                                                            \n",
       "0                                                                                           \n",
       "                                                                                            \n",
       "                                                                                            \n",
       "\n",
       "                                                              ⎤\n",
       "                                                              ⎥\n",
       "                                                              ⎥\n",
       "                                                              ⎥\n",
       "                                                              ⎥\n",
       "                               0                              ⎥\n",
       "                                                              ⎥\n",
       "                                                              ⎥\n",
       "                                                              ⎥\n",
       "                                                              ⎥\n",
       "                                                              ⎥\n",
       "              ∂             ∂           ∂                     ⎥\n",
       "            r⋅──(ν(r, z)) + ──(N(r, z))⋅──(N(r, z))           ⎥\n",
       "              ∂z            ∂r          ∂z                    ⎥\n",
       "            ───────────────────────────────────────           ⎥\n",
       "                                 2                            ⎥\n",
       "                              2⋅r                             ⎥\n",
       "                                                              ⎥\n",
       "                                                              ⎥\n",
       "                                                              ⎥\n",
       "                                                              ⎥\n",
       "                                                              ⎥\n",
       "                                                              ⎥\n",
       "                               0                              ⎥\n",
       "                                                              ⎥\n",
       "                                                              ⎥\n",
       "                                                              ⎥\n",
       "      2              2                                        ⎥\n",
       "     ∂              ∂                                        2⎥\n",
       "    ───(ν(r, z))   ───(ν(r, z))   ∂             ⎛∂          ⎞ ⎥\n",
       "      2              2            ──(ν(r, z))   ⎜──(N(r, z))⎟ ⎥\n",
       "    ∂r             ∂z             ∂r            ⎝∂z         ⎠ ⎥\n",
       "  - ──────────── - ──────────── - ─────────── + ──────────────⎥\n",
       "         2              2             2⋅r               2     ⎥\n",
       "                                                     2⋅r      ⎦"
      ]
     },
     "execution_count": 26,
     "metadata": {},
     "output_type": "execute_result"
    }
   ],
   "source": [
    "Ric = RicciTensor.from_metric(metric)\n",
    "Ric.tensor()"
   ]
  },
  {
   "cell_type": "code",
   "execution_count": 27,
   "id": "a833d018",
   "metadata": {},
   "outputs": [
    {
     "data": {
      "text/latex": [
       "$\\displaystyle \\left[\\begin{matrix}\\frac{\\left(- 1.0 r^{2} \\left(\\frac{\\partial^{2}}{\\partial r^{2}} \\nu{\\left(r,z \\right)} + \\frac{\\partial^{2}}{\\partial z^{2}} \\nu{\\left(r,z \\right)}\\right) + 1.5 \\left(\\frac{\\partial}{\\partial r} N{\\left(r,z \\right)}\\right)^{2} + 1.5 \\left(\\frac{\\partial}{\\partial z} N{\\left(r,z \\right)}\\right)^{2}\\right) e^{- \\nu{\\left(r,z \\right)}}}{2 r^{2}} & 0 & \\frac{0.5 \\left(1.0 r^{2} N{\\left(r,z \\right)} \\frac{\\partial^{2}}{\\partial r^{2}} \\nu{\\left(r,z \\right)} + 1.0 r^{2} N{\\left(r,z \\right)} \\frac{\\partial^{2}}{\\partial z^{2}} \\nu{\\left(r,z \\right)} - 1.0 r^{2} \\frac{\\partial^{2}}{\\partial r^{2}} N{\\left(r,z \\right)} - 1.0 r^{2} \\frac{\\partial^{2}}{\\partial z^{2}} N{\\left(r,z \\right)} + 1.0 r \\frac{\\partial}{\\partial r} N{\\left(r,z \\right)} - 1.5 N{\\left(r,z \\right)} \\left(\\frac{\\partial}{\\partial r} N{\\left(r,z \\right)}\\right)^{2} - 1.5 N{\\left(r,z \\right)} \\left(\\frac{\\partial}{\\partial z} N{\\left(r,z \\right)}\\right)^{2}\\right) e^{- \\nu{\\left(r,z \\right)}}}{r^{2}} & 0\\\\0 & \\frac{r \\frac{\\partial}{\\partial r} \\nu{\\left(r,z \\right)} + 0.5 \\left(\\frac{\\partial}{\\partial r} N{\\left(r,z \\right)}\\right)^{2} - 0.5 \\left(\\frac{\\partial}{\\partial z} N{\\left(r,z \\right)}\\right)^{2}}{2 r^{2}} & 0 & \\frac{r \\frac{\\partial}{\\partial z} \\nu{\\left(r,z \\right)} + \\frac{\\partial}{\\partial r} N{\\left(r,z \\right)} \\frac{\\partial}{\\partial z} N{\\left(r,z \\right)}}{2 r^{2}}\\\\\\frac{0.5 \\left(1.0 r^{2} N{\\left(r,z \\right)} \\frac{\\partial^{2}}{\\partial r^{2}} \\nu{\\left(r,z \\right)} + 1.0 r^{2} N{\\left(r,z \\right)} \\frac{\\partial^{2}}{\\partial z^{2}} \\nu{\\left(r,z \\right)} - 1.0 r^{2} \\frac{\\partial^{2}}{\\partial r^{2}} N{\\left(r,z \\right)} - 1.0 r^{2} \\frac{\\partial^{2}}{\\partial z^{2}} N{\\left(r,z \\right)} + 1.0 r \\frac{\\partial}{\\partial r} N{\\left(r,z \\right)} - 1.5 N{\\left(r,z \\right)} \\left(\\frac{\\partial}{\\partial r} N{\\left(r,z \\right)}\\right)^{2} - 1.5 N{\\left(r,z \\right)} \\left(\\frac{\\partial}{\\partial z} N{\\left(r,z \\right)}\\right)^{2}\\right) e^{- \\nu{\\left(r,z \\right)}}}{r^{2}} & 0 & \\frac{\\left(2 r^{2} N{\\left(r,z \\right)} \\frac{\\partial^{2}}{\\partial r^{2}} N{\\left(r,z \\right)} + 2 r^{2} N{\\left(r,z \\right)} \\frac{\\partial^{2}}{\\partial z^{2}} N{\\left(r,z \\right)} + r^{2} \\left(\\frac{\\partial}{\\partial r} N{\\left(r,z \\right)}\\right)^{2} + r^{2} \\left(\\frac{\\partial}{\\partial z} N{\\left(r,z \\right)}\\right)^{2} - 2 r N{\\left(r,z \\right)} \\frac{\\partial}{\\partial r} N{\\left(r,z \\right)} - 0.5 \\left(r^{2} - N^{2}{\\left(r,z \\right)}\\right) \\left(- 2 r^{2} \\left(\\frac{\\partial^{2}}{\\partial r^{2}} \\nu{\\left(r,z \\right)} + \\frac{\\partial^{2}}{\\partial z^{2}} \\nu{\\left(r,z \\right)}\\right) + \\left(\\frac{\\partial}{\\partial r} N{\\left(r,z \\right)}\\right)^{2} + \\left(\\frac{\\partial}{\\partial z} N{\\left(r,z \\right)}\\right)^{2}\\right) + N^{2}{\\left(r,z \\right)} \\left(\\frac{\\partial}{\\partial r} N{\\left(r,z \\right)}\\right)^{2} + N^{2}{\\left(r,z \\right)} \\left(\\frac{\\partial}{\\partial z} N{\\left(r,z \\right)}\\right)^{2}\\right) e^{- \\nu{\\left(r,z \\right)}}}{2 r^{2}} & 0\\\\0 & \\frac{r \\frac{\\partial}{\\partial z} \\nu{\\left(r,z \\right)} + \\frac{\\partial}{\\partial r} N{\\left(r,z \\right)} \\frac{\\partial}{\\partial z} N{\\left(r,z \\right)}}{2 r^{2}} & 0 & \\frac{0.5 \\left(- 1.0 r \\frac{\\partial}{\\partial r} \\nu{\\left(r,z \\right)} - 0.5 \\left(\\frac{\\partial}{\\partial r} N{\\left(r,z \\right)}\\right)^{2} + 0.5 \\left(\\frac{\\partial}{\\partial z} N{\\left(r,z \\right)}\\right)^{2}\\right)}{r^{2}}\\end{matrix}\\right]$"
      ],
      "text/plain": [
       "⎡                                                 ⎛     ⎛  2              2         ⎞       \n",
       "⎢                                                 ⎜   2 ⎜ ∂              ∂          ⎟       \n",
       "⎢                                                 ⎜- r ⋅⎜───(ν(r, z)) + ───(ν(r, z))⎟ + 1.5⋅\n",
       "⎢                                                 ⎜     ⎜  2              2         ⎟       \n",
       "⎢                                                 ⎝     ⎝∂r             ∂z          ⎠       \n",
       "⎢                                                 ──────────────────────────────────────────\n",
       "⎢                                                                                           \n",
       "⎢                                                                                           \n",
       "⎢                                                                                           \n",
       "⎢                                                                                           \n",
       "⎢                                                                                           \n",
       "⎢                                                                                           \n",
       "⎢                                                                                           \n",
       "⎢                                                                                           \n",
       "⎢                                                                                           \n",
       "⎢                                                                                           \n",
       "⎢                                                                                           \n",
       "⎢    ⎛                 2                             2                 2                 2  \n",
       "⎢    ⎜     2          ∂                  2          ∂              2  ∂              2  ∂   \n",
       "⎢0.5⋅⎜1.0⋅r ⋅N(r, z)⋅───(ν(r, z)) + 1.0⋅r ⋅N(r, z)⋅───(ν(r, z)) - r ⋅───(N(r, z)) - r ⋅───(N\n",
       "⎢    ⎜                 2                             2                 2                 2  \n",
       "⎢    ⎝               ∂r                            ∂z                ∂r                ∂z   \n",
       "⎢───────────────────────────────────────────────────────────────────────────────────────────\n",
       "⎢                                                                                           \n",
       "⎢                                                                                           \n",
       "⎢                                                                                           \n",
       "⎢                                                                                           \n",
       "⎢                                                                                           \n",
       "⎢                                                                                           \n",
       "⎢                                                                                           \n",
       "⎢                                                                                           \n",
       "⎢                                                                                           \n",
       "⎣                                                                                           \n",
       "\n",
       "             2                    2⎞                                                        \n",
       "⎛∂          ⎞        ⎛∂          ⎞ ⎟  -ν(r, z)                                              \n",
       "⎜──(N(r, z))⎟  + 1.5⋅⎜──(N(r, z))⎟ ⎟⋅ℯ                                                      \n",
       "⎝∂r         ⎠        ⎝∂z         ⎠ ⎟                                                        \n",
       "                                   ⎠                                                        \n",
       "──────────────────────────────────────────────                                              \n",
       "   2                                                                                        \n",
       "2⋅r                                                                                         \n",
       "                                                                                            \n",
       "                                                                                            \n",
       "                                                                                            \n",
       "                                                                                            \n",
       "                                                                                            \n",
       "  0                                                                                         \n",
       "                                                                                            \n",
       "                                                                                            \n",
       "                                                                                            \n",
       "                                                       2                            2⎞      \n",
       "                ∂                         ⎛∂          ⎞                ⎛∂          ⎞ ⎟  -ν(r\n",
       "(r, z)) + 1.0⋅r⋅──(N(r, z)) - 1.5⋅N(r, z)⋅⎜──(N(r, z))⎟  - 1.5⋅N(r, z)⋅⎜──(N(r, z))⎟ ⎟⋅ℯ    \n",
       "                ∂r                        ⎝∂r         ⎠                ⎝∂z         ⎠ ⎟      \n",
       "                                                                                     ⎠      \n",
       "────────────────────────────────────────────────────────────────────────────────────────────\n",
       "   2                                                                                        \n",
       "  r                                                                                         \n",
       "                                                                                            \n",
       "                                                                                            \n",
       "                                                                                            \n",
       "                                                                                            \n",
       "                                                                                            \n",
       "  0                                                                                         \n",
       "                                                                                            \n",
       "                                                                                            \n",
       "\n",
       "                                                                                            \n",
       "                                                                                            \n",
       "                                                                                            \n",
       "                                                                                            \n",
       "                                                                                            \n",
       "                                 0                                                          \n",
       "                                                                                            \n",
       "                                                                                            \n",
       "                                                                                            \n",
       "                                       2                    2                               \n",
       "        ∂                 ⎛∂          ⎞        ⎛∂          ⎞                                \n",
       "      r⋅──(ν(r, z)) + 0.5⋅⎜──(N(r, z))⎟  - 0.5⋅⎜──(N(r, z))⎟                                \n",
       "        ∂r                ⎝∂r         ⎠        ⎝∂z         ⎠                                \n",
       "      ───────────────────────────────────────────────────────                               \n",
       "                                   2                                                        \n",
       "                                2⋅r                                                         \n",
       "                                                                                            \n",
       "                                                               ⎛               2            \n",
       ", z)                                                           ⎜   2          ∂             \n",
       "                                                               ⎜2⋅r ⋅N(r, z)⋅───(N(r, z)) + \n",
       "                                                               ⎜               2            \n",
       "                                                               ⎝             ∂r             \n",
       "────                             0                             ─────────────────────────────\n",
       "                                                                                            \n",
       "                                                                                            \n",
       "                                                                                            \n",
       "                                                                                            \n",
       "                ∂             ∂           ∂                                                 \n",
       "              r⋅──(ν(r, z)) + ──(N(r, z))⋅──(N(r, z))                                       \n",
       "                ∂z            ∂r          ∂z                                                \n",
       "              ───────────────────────────────────────                                       \n",
       "                                   2                                                        \n",
       "                                2⋅r                                                         \n",
       "\n",
       "                    ⎛                 2                             2                 2     \n",
       "                    ⎜     2          ∂                  2          ∂              2  ∂      \n",
       "                0.5⋅⎜1.0⋅r ⋅N(r, z)⋅───(ν(r, z)) + 1.0⋅r ⋅N(r, z)⋅───(ν(r, z)) - r ⋅───(N(r,\n",
       "                    ⎜                 2                             2                 2     \n",
       "                    ⎝               ∂r                            ∂z                ∂r      \n",
       "                ────────────────────────────────────────────────────────────────────────────\n",
       "                                                                                            \n",
       "                                                                                            \n",
       "                                                                                            \n",
       "                                                                                            \n",
       "                                                                                            \n",
       "                                                                                            \n",
       "                                                                                            \n",
       "                                                                                            \n",
       "                                                                                            \n",
       "                                                                                            \n",
       "                                                                                            \n",
       "               2                            2                   2                           \n",
       "   2          ∂              2 ⎛∂          ⎞     2 ⎛∂          ⎞                ∂           \n",
       "2⋅r ⋅N(r, z)⋅───(N(r, z)) + r ⋅⎜──(N(r, z))⎟  + r ⋅⎜──(N(r, z))⎟  - 2⋅r⋅N(r, z)⋅──(N(r, z)) \n",
       "               2               ⎝∂r         ⎠       ⎝∂z         ⎠                ∂r          \n",
       "             ∂z                                                                             \n",
       "────────────────────────────────────────────────────────────────────────────────────────────\n",
       "                                                                                            \n",
       "                                                                                            \n",
       "                                                                                            \n",
       "                                                                                            \n",
       "                                                                                            \n",
       "                                                                                            \n",
       "                                                                                            \n",
       "                                                                                            \n",
       "                                                                                            \n",
       "                                                                                            \n",
       "\n",
       "            2                                                         2                     \n",
       "        2  ∂                   ∂                         ⎛∂          ⎞                ⎛∂    \n",
       " z)) - r ⋅───(N(r, z)) + 1.0⋅r⋅──(N(r, z)) - 1.5⋅N(r, z)⋅⎜──(N(r, z))⎟  - 1.5⋅N(r, z)⋅⎜──(N(\n",
       "            2                  ∂r                        ⎝∂r         ⎠                ⎝∂z   \n",
       "          ∂z                                                                                \n",
       "────────────────────────────────────────────────────────────────────────────────────────────\n",
       "                  2                                                                         \n",
       "                 r                                                                          \n",
       "                                                                                            \n",
       "                                                                                            \n",
       "                                                                                            \n",
       "                                                                                            \n",
       "                                                                                            \n",
       "                 0                                                                          \n",
       "                                                                                            \n",
       "                                                                                            \n",
       "                                                                                            \n",
       "                      ⎛       ⎛  2              2         ⎞                2                \n",
       "      ⎛ 2    2      ⎞ ⎜     2 ⎜ ∂              ∂          ⎟   ⎛∂          ⎞    ⎛∂          ⎞\n",
       "- 0.5⋅⎝r  - N (r, z)⎠⋅⎜- 2⋅r ⋅⎜───(ν(r, z)) + ───(ν(r, z))⎟ + ⎜──(N(r, z))⎟  + ⎜──(N(r, z))⎟\n",
       "                      ⎜       ⎜  2              2         ⎟   ⎝∂r         ⎠    ⎝∂z         ⎠\n",
       "                      ⎝       ⎝∂r             ∂z          ⎠                                 \n",
       "────────────────────────────────────────────────────────────────────────────────────────────\n",
       "                   2                                                                        \n",
       "                2⋅r                                                                         \n",
       "                                                                                            \n",
       "                                                                                            \n",
       "                                                                                            \n",
       "                                                                                            \n",
       "                                                                                            \n",
       "                 0                                                                          \n",
       "                                                                                            \n",
       "                                                                                            \n",
       "\n",
       "       2⎞                                                                                   \n",
       "      ⎞ ⎟  -ν(r, z)                                                                         \n",
       "r, z))⎟ ⎟⋅ℯ                                                                                 \n",
       "      ⎠ ⎟                                                                                   \n",
       "        ⎠                                                                                   \n",
       "───────────────────                                                                         \n",
       "                                                                                            \n",
       "                                                                                            \n",
       "                                                                                            \n",
       "                                                                                            \n",
       "                                                                                 ∂          \n",
       "                                                                               r⋅──(ν(r, z))\n",
       "                                                                                 ∂z         \n",
       "                                                                               ─────────────\n",
       "                                                                                            \n",
       "                                                                                            \n",
       "                                                                                            \n",
       "2⎞                         2                         2⎞                                     \n",
       " ⎟    2       ⎛∂          ⎞     2       ⎛∂          ⎞ ⎟  -ν(r, z)                           \n",
       " ⎟ + N (r, z)⋅⎜──(N(r, z))⎟  + N (r, z)⋅⎜──(N(r, z))⎟ ⎟⋅ℯ                                   \n",
       " ⎟            ⎝∂r         ⎠             ⎝∂z         ⎠ ⎟                                     \n",
       " ⎠                                                    ⎠                                     \n",
       "─────────────────────────────────────────────────────────────────                           \n",
       "                                                                                            \n",
       "                                                                                            \n",
       "                                                                                            \n",
       "                                                                       ⎛                    \n",
       "                                                                       ⎜    ∂               \n",
       "                                                                   0.5⋅⎜- r⋅──(ν(r, z)) - 0.\n",
       "                                                                       ⎝    ∂r              \n",
       "                                                                   ─────────────────────────\n",
       "                                                                                            \n",
       "                                                                                            \n",
       "\n",
       "                                      ⎤\n",
       "                                      ⎥\n",
       "                                      ⎥\n",
       "                                      ⎥\n",
       "                                      ⎥\n",
       "      0                               ⎥\n",
       "                                      ⎥\n",
       "                                      ⎥\n",
       "                                      ⎥\n",
       "                                      ⎥\n",
       "   ∂           ∂                      ⎥\n",
       " + ──(N(r, z))⋅──(N(r, z))            ⎥\n",
       "   ∂r          ∂z                     ⎥\n",
       "──────────────────────────            ⎥\n",
       "        2                             ⎥\n",
       "     2⋅r                              ⎥\n",
       "                                      ⎥\n",
       "                                      ⎥\n",
       "                                      ⎥\n",
       "                                      ⎥\n",
       "                                      ⎥\n",
       "                                      ⎥\n",
       "      0                               ⎥\n",
       "                                      ⎥\n",
       "                                      ⎥\n",
       "                                      ⎥\n",
       "               2                    2⎞⎥\n",
       "  ⎛∂          ⎞        ⎛∂          ⎞ ⎟⎥\n",
       "5⋅⎜──(N(r, z))⎟  + 0.5⋅⎜──(N(r, z))⎟ ⎟⎥\n",
       "  ⎝∂r         ⎠        ⎝∂z         ⎠ ⎠⎥\n",
       "──────────────────────────────────────⎥\n",
       "       2                              ⎥\n",
       "      r                               ⎦"
      ]
     },
     "execution_count": 27,
     "metadata": {},
     "output_type": "execute_result"
    }
   ],
   "source": [
    "einst = EinsteinTensor.from_metric(metric)\n",
    "simplify(einst.tensor())"
   ]
  },
  {
   "cell_type": "code",
   "execution_count": 28,
   "id": "4b1fb7a5",
   "metadata": {},
   "outputs": [
    {
     "data": {
      "image/png": "[encoded data removed]",
      "text/latex": [
       "$\\displaystyle \\frac{\\left(2 r^{2} \\left(\\frac{\\partial^{2}}{\\partial r^{2}} \\nu{\\left(r,z \\right)} + \\frac{\\partial^{2}}{\\partial z^{2}} \\nu{\\left(r,z \\right)}\\right) - \\left(\\frac{\\partial}{\\partial r} N{\\left(r,z \\right)}\\right)^{2} - \\left(\\frac{\\partial}{\\partial z} N{\\left(r,z \\right)}\\right)^{2}\\right) e^{- \\nu{\\left(r,z \\right)}}}{2 r^{2}}$"
      ],
      "text/plain": [
       "⎛     ⎛  2              2         ⎞                2                2⎞          \n",
       "⎜   2 ⎜ ∂              ∂          ⎟   ⎛∂          ⎞    ⎛∂          ⎞ ⎟  -ν(r, z)\n",
       "⎜2⋅r ⋅⎜───(ν(r, z)) + ───(ν(r, z))⎟ - ⎜──(N(r, z))⎟  - ⎜──(N(r, z))⎟ ⎟⋅ℯ        \n",
       "⎜     ⎜  2              2         ⎟   ⎝∂r         ⎠    ⎝∂z         ⎠ ⎟          \n",
       "⎝     ⎝∂r             ∂z          ⎠                                  ⎠          \n",
       "────────────────────────────────────────────────────────────────────────────────\n",
       "                                         2                                      \n",
       "                                      2⋅r                                       "
      ]
     },
     "execution_count": 28,
     "metadata": {},
     "output_type": "execute_result"
    }
   ],
   "source": [
    "R = RicciScalar.from_riccitensor(Ric)\n",
    "R.simplify()\n",
    "R.expr"
   ]
  },
  {
   "cell_type": "code",
   "execution_count": 19,
   "id": "9751a3db",
   "metadata": {},
   "outputs": [],
   "source": [
    "#  rm1 = RiemannCurvatureTensor.from_christoffels(ch)\n",
    "#  rm1.tensor()"
   ]
  },
  {
   "cell_type": "code",
   "execution_count": 20,
   "id": "e6189946",
   "metadata": {},
   "outputs": [],
   "source": [
    "#  weyl = WeylTensor.from_metric(metric)\n",
    "#  weyl.tensor()"
   ]
  },
  {
   "cell_type": "code",
   "execution_count": 29,
   "id": "8fe07f1e",
   "metadata": {},
   "outputs": [
    {
     "data": {
      "text/latex": [
       "$\\displaystyle \\left[\\begin{matrix}\\frac{\\left(- 1.0 r^{2} \\left(\\frac{\\partial^{2}}{\\partial r^{2}} \\nu{\\left(r,z \\right)} + \\frac{\\partial^{2}}{\\partial z^{2}} \\nu{\\left(r,z \\right)}\\right) + 1.5 \\left(\\frac{\\partial}{\\partial r} N{\\left(r,z \\right)}\\right)^{2} + 1.5 \\left(\\frac{\\partial}{\\partial z} N{\\left(r,z \\right)}\\right)^{2}\\right) e^{- \\nu{\\left(r,z \\right)}}}{2 r^{2}} & 0 & \\frac{0.5 \\left(1.0 r^{2} N{\\left(r,z \\right)} \\frac{\\partial^{2}}{\\partial r^{2}} \\nu{\\left(r,z \\right)} + 1.0 r^{2} N{\\left(r,z \\right)} \\frac{\\partial^{2}}{\\partial z^{2}} \\nu{\\left(r,z \\right)} - 1.0 r^{2} \\frac{\\partial^{2}}{\\partial r^{2}} N{\\left(r,z \\right)} - 1.0 r^{2} \\frac{\\partial^{2}}{\\partial z^{2}} N{\\left(r,z \\right)} + 1.0 r \\frac{\\partial}{\\partial r} N{\\left(r,z \\right)} - 1.5 N{\\left(r,z \\right)} \\left(\\frac{\\partial}{\\partial r} N{\\left(r,z \\right)}\\right)^{2} - 1.5 N{\\left(r,z \\right)} \\left(\\frac{\\partial}{\\partial z} N{\\left(r,z \\right)}\\right)^{2}\\right) e^{- \\nu{\\left(r,z \\right)}}}{r^{2}} & 0\\\\0 & \\frac{r \\frac{\\partial}{\\partial r} \\nu{\\left(r,z \\right)} + 0.5 \\left(\\frac{\\partial}{\\partial r} N{\\left(r,z \\right)}\\right)^{2} - 0.5 \\left(\\frac{\\partial}{\\partial z} N{\\left(r,z \\right)}\\right)^{2}}{2 r^{2}} & 0 & \\frac{r \\frac{\\partial}{\\partial z} \\nu{\\left(r,z \\right)} + \\frac{\\partial}{\\partial r} N{\\left(r,z \\right)} \\frac{\\partial}{\\partial z} N{\\left(r,z \\right)}}{2 r^{2}}\\\\\\frac{0.5 \\left(1.0 r^{2} N{\\left(r,z \\right)} \\frac{\\partial^{2}}{\\partial r^{2}} \\nu{\\left(r,z \\right)} + 1.0 r^{2} N{\\left(r,z \\right)} \\frac{\\partial^{2}}{\\partial z^{2}} \\nu{\\left(r,z \\right)} - 1.0 r^{2} \\frac{\\partial^{2}}{\\partial r^{2}} N{\\left(r,z \\right)} - 1.0 r^{2} \\frac{\\partial^{2}}{\\partial z^{2}} N{\\left(r,z \\right)} + 1.0 r \\frac{\\partial}{\\partial r} N{\\left(r,z \\right)} - 1.5 N{\\left(r,z \\right)} \\left(\\frac{\\partial}{\\partial r} N{\\left(r,z \\right)}\\right)^{2} - 1.5 N{\\left(r,z \\right)} \\left(\\frac{\\partial}{\\partial z} N{\\left(r,z \\right)}\\right)^{2}\\right) e^{- \\nu{\\left(r,z \\right)}}}{r^{2}} & 0 & \\frac{\\left(2 r^{2} N{\\left(r,z \\right)} \\frac{\\partial^{2}}{\\partial r^{2}} N{\\left(r,z \\right)} + 2 r^{2} N{\\left(r,z \\right)} \\frac{\\partial^{2}}{\\partial z^{2}} N{\\left(r,z \\right)} + r^{2} \\left(\\frac{\\partial}{\\partial r} N{\\left(r,z \\right)}\\right)^{2} + r^{2} \\left(\\frac{\\partial}{\\partial z} N{\\left(r,z \\right)}\\right)^{2} - 2 r N{\\left(r,z \\right)} \\frac{\\partial}{\\partial r} N{\\left(r,z \\right)} - 0.5 \\left(r^{2} - N^{2}{\\left(r,z \\right)}\\right) \\left(- 2 r^{2} \\left(\\frac{\\partial^{2}}{\\partial r^{2}} \\nu{\\left(r,z \\right)} + \\frac{\\partial^{2}}{\\partial z^{2}} \\nu{\\left(r,z \\right)}\\right) + \\left(\\frac{\\partial}{\\partial r} N{\\left(r,z \\right)}\\right)^{2} + \\left(\\frac{\\partial}{\\partial z} N{\\left(r,z \\right)}\\right)^{2}\\right) + N^{2}{\\left(r,z \\right)} \\left(\\frac{\\partial}{\\partial r} N{\\left(r,z \\right)}\\right)^{2} + N^{2}{\\left(r,z \\right)} \\left(\\frac{\\partial}{\\partial z} N{\\left(r,z \\right)}\\right)^{2}\\right) e^{- \\nu{\\left(r,z \\right)}}}{2 r^{2}} & 0\\\\0 & \\frac{r \\frac{\\partial}{\\partial z} \\nu{\\left(r,z \\right)} + \\frac{\\partial}{\\partial r} N{\\left(r,z \\right)} \\frac{\\partial}{\\partial z} N{\\left(r,z \\right)}}{2 r^{2}} & 0 & \\frac{0.5 \\left(- 1.0 r \\frac{\\partial}{\\partial r} \\nu{\\left(r,z \\right)} - 0.5 \\left(\\frac{\\partial}{\\partial r} N{\\left(r,z \\right)}\\right)^{2} + 0.5 \\left(\\frac{\\partial}{\\partial z} N{\\left(r,z \\right)}\\right)^{2}\\right)}{r^{2}}\\end{matrix}\\right]$"
      ],
      "text/plain": [
       "⎡                                                 ⎛     ⎛  2              2         ⎞       \n",
       "⎢                                                 ⎜   2 ⎜ ∂              ∂          ⎟       \n",
       "⎢                                                 ⎜- r ⋅⎜───(ν(r, z)) + ───(ν(r, z))⎟ + 1.5⋅\n",
       "⎢                                                 ⎜     ⎜  2              2         ⎟       \n",
       "⎢                                                 ⎝     ⎝∂r             ∂z          ⎠       \n",
       "⎢                                                 ──────────────────────────────────────────\n",
       "⎢                                                                                           \n",
       "⎢                                                                                           \n",
       "⎢                                                                                           \n",
       "⎢                                                                                           \n",
       "⎢                                                                                           \n",
       "⎢                                                                                           \n",
       "⎢                                                                                           \n",
       "⎢                                                                                           \n",
       "⎢                                                                                           \n",
       "⎢                                                                                           \n",
       "⎢                                                                                           \n",
       "⎢    ⎛                 2                             2                 2                 2  \n",
       "⎢    ⎜     2          ∂                  2          ∂              2  ∂              2  ∂   \n",
       "⎢0.5⋅⎜1.0⋅r ⋅N(r, z)⋅───(ν(r, z)) + 1.0⋅r ⋅N(r, z)⋅───(ν(r, z)) - r ⋅───(N(r, z)) - r ⋅───(N\n",
       "⎢    ⎜                 2                             2                 2                 2  \n",
       "⎢    ⎝               ∂r                            ∂z                ∂r                ∂z   \n",
       "⎢───────────────────────────────────────────────────────────────────────────────────────────\n",
       "⎢                                                                                           \n",
       "⎢                                                                                           \n",
       "⎢                                                                                           \n",
       "⎢                                                                                           \n",
       "⎢                                                                                           \n",
       "⎢                                                                                           \n",
       "⎢                                                                                           \n",
       "⎢                                                                                           \n",
       "⎢                                                                                           \n",
       "⎣                                                                                           \n",
       "\n",
       "             2                    2⎞                                                        \n",
       "⎛∂          ⎞        ⎛∂          ⎞ ⎟  -ν(r, z)                                              \n",
       "⎜──(N(r, z))⎟  + 1.5⋅⎜──(N(r, z))⎟ ⎟⋅ℯ                                                      \n",
       "⎝∂r         ⎠        ⎝∂z         ⎠ ⎟                                                        \n",
       "                                   ⎠                                                        \n",
       "──────────────────────────────────────────────                                              \n",
       "   2                                                                                        \n",
       "2⋅r                                                                                         \n",
       "                                                                                            \n",
       "                                                                                            \n",
       "                                                                                            \n",
       "                                                                                            \n",
       "                                                                                            \n",
       "  0                                                                                         \n",
       "                                                                                            \n",
       "                                                                                            \n",
       "                                                                                            \n",
       "                                                       2                            2⎞      \n",
       "                ∂                         ⎛∂          ⎞                ⎛∂          ⎞ ⎟  -ν(r\n",
       "(r, z)) + 1.0⋅r⋅──(N(r, z)) - 1.5⋅N(r, z)⋅⎜──(N(r, z))⎟  - 1.5⋅N(r, z)⋅⎜──(N(r, z))⎟ ⎟⋅ℯ    \n",
       "                ∂r                        ⎝∂r         ⎠                ⎝∂z         ⎠ ⎟      \n",
       "                                                                                     ⎠      \n",
       "────────────────────────────────────────────────────────────────────────────────────────────\n",
       "   2                                                                                        \n",
       "  r                                                                                         \n",
       "                                                                                            \n",
       "                                                                                            \n",
       "                                                                                            \n",
       "                                                                                            \n",
       "                                                                                            \n",
       "  0                                                                                         \n",
       "                                                                                            \n",
       "                                                                                            \n",
       "\n",
       "                                                                                            \n",
       "                                                                                            \n",
       "                                                                                            \n",
       "                                                                                            \n",
       "                                                                                            \n",
       "                                 0                                                          \n",
       "                                                                                            \n",
       "                                                                                            \n",
       "                                                                                            \n",
       "                                       2                    2                               \n",
       "        ∂                 ⎛∂          ⎞        ⎛∂          ⎞                                \n",
       "      r⋅──(ν(r, z)) + 0.5⋅⎜──(N(r, z))⎟  - 0.5⋅⎜──(N(r, z))⎟                                \n",
       "        ∂r                ⎝∂r         ⎠        ⎝∂z         ⎠                                \n",
       "      ───────────────────────────────────────────────────────                               \n",
       "                                   2                                                        \n",
       "                                2⋅r                                                         \n",
       "                                                                                            \n",
       "                                                               ⎛               2            \n",
       ", z)                                                           ⎜   2          ∂             \n",
       "                                                               ⎜2⋅r ⋅N(r, z)⋅───(N(r, z)) + \n",
       "                                                               ⎜               2            \n",
       "                                                               ⎝             ∂r             \n",
       "────                             0                             ─────────────────────────────\n",
       "                                                                                            \n",
       "                                                                                            \n",
       "                                                                                            \n",
       "                                                                                            \n",
       "                ∂             ∂           ∂                                                 \n",
       "              r⋅──(ν(r, z)) + ──(N(r, z))⋅──(N(r, z))                                       \n",
       "                ∂z            ∂r          ∂z                                                \n",
       "              ───────────────────────────────────────                                       \n",
       "                                   2                                                        \n",
       "                                2⋅r                                                         \n",
       "\n",
       "                    ⎛                 2                             2                 2     \n",
       "                    ⎜     2          ∂                  2          ∂              2  ∂      \n",
       "                0.5⋅⎜1.0⋅r ⋅N(r, z)⋅───(ν(r, z)) + 1.0⋅r ⋅N(r, z)⋅───(ν(r, z)) - r ⋅───(N(r,\n",
       "                    ⎜                 2                             2                 2     \n",
       "                    ⎝               ∂r                            ∂z                ∂r      \n",
       "                ────────────────────────────────────────────────────────────────────────────\n",
       "                                                                                            \n",
       "                                                                                            \n",
       "                                                                                            \n",
       "                                                                                            \n",
       "                                                                                            \n",
       "                                                                                            \n",
       "                                                                                            \n",
       "                                                                                            \n",
       "                                                                                            \n",
       "                                                                                            \n",
       "                                                                                            \n",
       "               2                            2                   2                           \n",
       "   2          ∂              2 ⎛∂          ⎞     2 ⎛∂          ⎞                ∂           \n",
       "2⋅r ⋅N(r, z)⋅───(N(r, z)) + r ⋅⎜──(N(r, z))⎟  + r ⋅⎜──(N(r, z))⎟  - 2⋅r⋅N(r, z)⋅──(N(r, z)) \n",
       "               2               ⎝∂r         ⎠       ⎝∂z         ⎠                ∂r          \n",
       "             ∂z                                                                             \n",
       "────────────────────────────────────────────────────────────────────────────────────────────\n",
       "                                                                                            \n",
       "                                                                                            \n",
       "                                                                                            \n",
       "                                                                                            \n",
       "                                                                                            \n",
       "                                                                                            \n",
       "                                                                                            \n",
       "                                                                                            \n",
       "                                                                                            \n",
       "                                                                                            \n",
       "\n",
       "            2                                                         2                     \n",
       "        2  ∂                   ∂                         ⎛∂          ⎞                ⎛∂    \n",
       " z)) - r ⋅───(N(r, z)) + 1.0⋅r⋅──(N(r, z)) - 1.5⋅N(r, z)⋅⎜──(N(r, z))⎟  - 1.5⋅N(r, z)⋅⎜──(N(\n",
       "            2                  ∂r                        ⎝∂r         ⎠                ⎝∂z   \n",
       "          ∂z                                                                                \n",
       "────────────────────────────────────────────────────────────────────────────────────────────\n",
       "                  2                                                                         \n",
       "                 r                                                                          \n",
       "                                                                                            \n",
       "                                                                                            \n",
       "                                                                                            \n",
       "                                                                                            \n",
       "                                                                                            \n",
       "                 0                                                                          \n",
       "                                                                                            \n",
       "                                                                                            \n",
       "                                                                                            \n",
       "                      ⎛       ⎛  2              2         ⎞                2                \n",
       "      ⎛ 2    2      ⎞ ⎜     2 ⎜ ∂              ∂          ⎟   ⎛∂          ⎞    ⎛∂          ⎞\n",
       "- 0.5⋅⎝r  - N (r, z)⎠⋅⎜- 2⋅r ⋅⎜───(ν(r, z)) + ───(ν(r, z))⎟ + ⎜──(N(r, z))⎟  + ⎜──(N(r, z))⎟\n",
       "                      ⎜       ⎜  2              2         ⎟   ⎝∂r         ⎠    ⎝∂z         ⎠\n",
       "                      ⎝       ⎝∂r             ∂z          ⎠                                 \n",
       "────────────────────────────────────────────────────────────────────────────────────────────\n",
       "                   2                                                                        \n",
       "                2⋅r                                                                         \n",
       "                                                                                            \n",
       "                                                                                            \n",
       "                                                                                            \n",
       "                                                                                            \n",
       "                                                                                            \n",
       "                 0                                                                          \n",
       "                                                                                            \n",
       "                                                                                            \n",
       "\n",
       "       2⎞                                                                                   \n",
       "      ⎞ ⎟  -ν(r, z)                                                                         \n",
       "r, z))⎟ ⎟⋅ℯ                                                                                 \n",
       "      ⎠ ⎟                                                                                   \n",
       "        ⎠                                                                                   \n",
       "───────────────────                                                                         \n",
       "                                                                                            \n",
       "                                                                                            \n",
       "                                                                                            \n",
       "                                                                                            \n",
       "                                                                                 ∂          \n",
       "                                                                               r⋅──(ν(r, z))\n",
       "                                                                                 ∂z         \n",
       "                                                                               ─────────────\n",
       "                                                                                            \n",
       "                                                                                            \n",
       "                                                                                            \n",
       "2⎞                         2                         2⎞                                     \n",
       " ⎟    2       ⎛∂          ⎞     2       ⎛∂          ⎞ ⎟  -ν(r, z)                           \n",
       " ⎟ + N (r, z)⋅⎜──(N(r, z))⎟  + N (r, z)⋅⎜──(N(r, z))⎟ ⎟⋅ℯ                                   \n",
       " ⎟            ⎝∂r         ⎠             ⎝∂z         ⎠ ⎟                                     \n",
       " ⎠                                                    ⎠                                     \n",
       "─────────────────────────────────────────────────────────────────                           \n",
       "                                                                                            \n",
       "                                                                                            \n",
       "                                                                                            \n",
       "                                                                       ⎛                    \n",
       "                                                                       ⎜    ∂               \n",
       "                                                                   0.5⋅⎜- r⋅──(ν(r, z)) - 0.\n",
       "                                                                       ⎝    ∂r              \n",
       "                                                                   ─────────────────────────\n",
       "                                                                                            \n",
       "                                                                                            \n",
       "\n",
       "                                      ⎤\n",
       "                                      ⎥\n",
       "                                      ⎥\n",
       "                                      ⎥\n",
       "                                      ⎥\n",
       "      0                               ⎥\n",
       "                                      ⎥\n",
       "                                      ⎥\n",
       "                                      ⎥\n",
       "                                      ⎥\n",
       "   ∂           ∂                      ⎥\n",
       " + ──(N(r, z))⋅──(N(r, z))            ⎥\n",
       "   ∂r          ∂z                     ⎥\n",
       "──────────────────────────            ⎥\n",
       "        2                             ⎥\n",
       "     2⋅r                              ⎥\n",
       "                                      ⎥\n",
       "                                      ⎥\n",
       "                                      ⎥\n",
       "                                      ⎥\n",
       "                                      ⎥\n",
       "                                      ⎥\n",
       "      0                               ⎥\n",
       "                                      ⎥\n",
       "                                      ⎥\n",
       "                                      ⎥\n",
       "               2                    2⎞⎥\n",
       "  ⎛∂          ⎞        ⎛∂          ⎞ ⎟⎥\n",
       "5⋅⎜──(N(r, z))⎟  + 0.5⋅⎜──(N(r, z))⎟ ⎟⎥\n",
       "  ⎝∂r         ⎠        ⎝∂z         ⎠ ⎠⎥\n",
       "──────────────────────────────────────⎥\n",
       "       2                              ⎥\n",
       "      r                               ⎦"
      ]
     },
     "execution_count": 29,
     "metadata": {},
     "output_type": "execute_result"
    }
   ],
   "source": [
    "einsteinSimplified = simplify(einst.tensor())\n",
    "einsteinSimplified"
   ]
  },
  {
   "cell_type": "code",
   "execution_count": 31,
   "id": "5067df48",
   "metadata": {},
   "outputs": [
    {
     "data": {
      "text/latex": [
       "$\\displaystyle \\left[\\begin{matrix}\\frac{\\left(\\left(\\frac{\\partial}{\\partial r} N{\\left(r,z \\right)}\\right)^{2} + \\left(\\frac{\\partial}{\\partial z} N{\\left(r,z \\right)}\\right)^{2}\\right) e^{- \\nu{\\left(r,z \\right)}}}{2 r^{2}} & 0 & \\frac{\\left(- r^{2} \\frac{\\partial^{2}}{\\partial r^{2}} N{\\left(r,z \\right)} - r^{2} \\frac{\\partial^{2}}{\\partial z^{2}} N{\\left(r,z \\right)} + r \\frac{\\partial}{\\partial r} N{\\left(r,z \\right)} - N{\\left(r,z \\right)} \\left(\\frac{\\partial}{\\partial r} N{\\left(r,z \\right)}\\right)^{2} - N{\\left(r,z \\right)} \\left(\\frac{\\partial}{\\partial z} N{\\left(r,z \\right)}\\right)^{2}\\right) e^{- \\nu{\\left(r,z \\right)}}}{2 r^{2}} & 0\\\\0 & \\frac{- r^{2} \\left(\\frac{\\partial^{2}}{\\partial r^{2}} \\nu{\\left(r,z \\right)} + \\frac{\\partial^{2}}{\\partial z^{2}} \\nu{\\left(r,z \\right)}\\right) + r \\frac{\\partial}{\\partial r} \\nu{\\left(r,z \\right)} + \\left(\\frac{\\partial}{\\partial r} N{\\left(r,z \\right)}\\right)^{2}}{2 r^{2}} & 0 & \\frac{r \\frac{\\partial}{\\partial z} \\nu{\\left(r,z \\right)} + \\frac{\\partial}{\\partial r} N{\\left(r,z \\right)} \\frac{\\partial}{\\partial z} N{\\left(r,z \\right)}}{2 r^{2}}\\\\\\frac{\\left(- r^{2} \\frac{\\partial^{2}}{\\partial r^{2}} N{\\left(r,z \\right)} - r^{2} \\frac{\\partial^{2}}{\\partial z^{2}} N{\\left(r,z \\right)} + r \\frac{\\partial}{\\partial r} N{\\left(r,z \\right)} - N{\\left(r,z \\right)} \\left(\\frac{\\partial}{\\partial r} N{\\left(r,z \\right)}\\right)^{2} - N{\\left(r,z \\right)} \\left(\\frac{\\partial}{\\partial z} N{\\left(r,z \\right)}\\right)^{2}\\right) e^{- \\nu{\\left(r,z \\right)}}}{2 r^{2}} & 0 & \\frac{\\left(2 r^{2} N{\\left(r,z \\right)} \\frac{\\partial^{2}}{\\partial r^{2}} N{\\left(r,z \\right)} + 2 r^{2} N{\\left(r,z \\right)} \\frac{\\partial^{2}}{\\partial z^{2}} N{\\left(r,z \\right)} + r^{2} \\left(\\frac{\\partial}{\\partial r} N{\\left(r,z \\right)}\\right)^{2} + r^{2} \\left(\\frac{\\partial}{\\partial z} N{\\left(r,z \\right)}\\right)^{2} - 2 r N{\\left(r,z \\right)} \\frac{\\partial}{\\partial r} N{\\left(r,z \\right)} + N^{2}{\\left(r,z \\right)} \\left(\\frac{\\partial}{\\partial r} N{\\left(r,z \\right)}\\right)^{2} + N^{2}{\\left(r,z \\right)} \\left(\\frac{\\partial}{\\partial z} N{\\left(r,z \\right)}\\right)^{2}\\right) e^{- \\nu{\\left(r,z \\right)}}}{2 r^{2}} & 0\\\\0 & \\frac{r \\frac{\\partial}{\\partial z} \\nu{\\left(r,z \\right)} + \\frac{\\partial}{\\partial r} N{\\left(r,z \\right)} \\frac{\\partial}{\\partial z} N{\\left(r,z \\right)}}{2 r^{2}} & 0 & \\frac{- r^{2} \\left(\\frac{\\partial^{2}}{\\partial r^{2}} \\nu{\\left(r,z \\right)} + \\frac{\\partial^{2}}{\\partial z^{2}} \\nu{\\left(r,z \\right)}\\right) - r \\frac{\\partial}{\\partial r} \\nu{\\left(r,z \\right)} + \\left(\\frac{\\partial}{\\partial z} N{\\left(r,z \\right)}\\right)^{2}}{2 r^{2}}\\end{matrix}\\right]$"
      ],
      "text/plain": [
       "⎡                                                                                           \n",
       "⎢                                   ⎛             2                2⎞                       \n",
       "⎢                                   ⎜⎛∂          ⎞    ⎛∂          ⎞ ⎟  -ν(r, z)             \n",
       "⎢                                   ⎜⎜──(N(r, z))⎟  + ⎜──(N(r, z))⎟ ⎟⋅ℯ                     \n",
       "⎢                                   ⎝⎝∂r         ⎠    ⎝∂z         ⎠ ⎠                       \n",
       "⎢                                   ───────────────────────────────────────────             \n",
       "⎢                                                          2                                \n",
       "⎢                                                       2⋅r                                 \n",
       "⎢                                                                                           \n",
       "⎢                                                                                           \n",
       "⎢                                                                                           \n",
       "⎢                                                                                           \n",
       "⎢                                                                                           \n",
       "⎢                                                                                           \n",
       "⎢                                                        0                                  \n",
       "⎢                                                                                           \n",
       "⎢                                                                                           \n",
       "⎢                                                                                           \n",
       "⎢⎛       2                 2                                                 2              \n",
       "⎢⎜   2  ∂              2  ∂               ∂                     ⎛∂          ⎞            ⎛∂ \n",
       "⎢⎜- r ⋅───(N(r, z)) - r ⋅───(N(r, z)) + r⋅──(N(r, z)) - N(r, z)⋅⎜──(N(r, z))⎟  - N(r, z)⋅⎜──\n",
       "⎢⎜       2                 2              ∂r                    ⎝∂r         ⎠            ⎝∂z\n",
       "⎢⎝     ∂r                ∂z                                                                 \n",
       "⎢───────────────────────────────────────────────────────────────────────────────────────────\n",
       "⎢                                                          2                                \n",
       "⎢                                                       2⋅r                                 \n",
       "⎢                                                                                           \n",
       "⎢                                                                                           \n",
       "⎢                                                                                           \n",
       "⎢                                                                                           \n",
       "⎢                                                                                           \n",
       "⎢                                                                                           \n",
       "⎢                                                        0                                  \n",
       "⎢                                                                                           \n",
       "⎣                                                                                           \n",
       "\n",
       "                                                                                            \n",
       "                                                                                            \n",
       "                                                                                            \n",
       "                                                                                            \n",
       "                                                                                            \n",
       "                                                         0                                  \n",
       "                                                                                            \n",
       "                                                                                            \n",
       "                                                                                            \n",
       "                             ⎛  2              2         ⎞                                2 \n",
       "                           2 ⎜ ∂              ∂          ⎟     ∂             ⎛∂          ⎞  \n",
       "                        - r ⋅⎜───(ν(r, z)) + ───(ν(r, z))⎟ + r⋅──(ν(r, z)) + ⎜──(N(r, z))⎟  \n",
       "                             ⎜  2              2         ⎟     ∂r            ⎝∂r         ⎠  \n",
       "                             ⎝∂r             ∂z          ⎠                                  \n",
       "                        ─────────────────────────────────────────────────────────────────── \n",
       "                                                           2                                \n",
       "                                                        2⋅r                                 \n",
       "                                                                                            \n",
       "          2⎞                                                                                \n",
       "         ⎞ ⎟  -ν(r, z)                                                                      \n",
       "(N(r, z))⎟ ⎟⋅ℯ                                                                              \n",
       "         ⎠ ⎟                                                                                \n",
       "           ⎠                                                                                \n",
       "──────────────────────                                   0                                  \n",
       "                                                                                            \n",
       "                                                                                            \n",
       "                                                                                            \n",
       "                                                                                            \n",
       "                                                                                            \n",
       "                                        ∂             ∂           ∂                         \n",
       "                                      r⋅──(ν(r, z)) + ──(N(r, z))⋅──(N(r, z))               \n",
       "                                        ∂z            ∂r          ∂z                        \n",
       "                                      ───────────────────────────────────────               \n",
       "                                                           2                                \n",
       "                                                        2⋅r                                 \n",
       "\n",
       "                                    ⎛       2                 2                             \n",
       "                                    ⎜   2  ∂              2  ∂               ∂              \n",
       "                                    ⎜- r ⋅───(N(r, z)) - r ⋅───(N(r, z)) + r⋅──(N(r, z)) - N\n",
       "                                    ⎜       2                 2              ∂r             \n",
       "                                    ⎝     ∂r                ∂z                              \n",
       "                                    ────────────────────────────────────────────────────────\n",
       "                                                                                            \n",
       "                                                                                           2\n",
       "                                                                                            \n",
       "                                                                                            \n",
       "                                                                                            \n",
       "                                                                                            \n",
       "                                                                                            \n",
       "                                                                                            \n",
       "                                                                                            \n",
       "                                                                                            \n",
       "                                                                                            \n",
       "                                                                                            \n",
       " ⎛               2                           2                            2                 \n",
       " ⎜   2          ∂                2          ∂              2 ⎛∂          ⎞     2 ⎛∂         \n",
       " ⎜2⋅r ⋅N(r, z)⋅───(N(r, z)) + 2⋅r ⋅N(r, z)⋅───(N(r, z)) + r ⋅⎜──(N(r, z))⎟  + r ⋅⎜──(N(r, z)\n",
       " ⎜               2                           2               ⎝∂r         ⎠       ⎝∂z        \n",
       " ⎝             ∂r                          ∂z                                               \n",
       " ───────────────────────────────────────────────────────────────────────────────────────────\n",
       "                                                                                            \n",
       "                                                                                           2\n",
       "                                                                                            \n",
       "                                                                                            \n",
       "                                                                                            \n",
       "                                                                                            \n",
       "                                                                                            \n",
       "                                                                                            \n",
       "                                                                                            \n",
       "                                                                                            \n",
       "                                                                                            \n",
       "\n",
       "                    2                        2⎞                                             \n",
       "       ⎛∂          ⎞            ⎛∂          ⎞ ⎟  -ν(r, z)                                   \n",
       "(r, z)⋅⎜──(N(r, z))⎟  - N(r, z)⋅⎜──(N(r, z))⎟ ⎟⋅ℯ                                           \n",
       "       ⎝∂r         ⎠            ⎝∂z         ⎠ ⎟                                             \n",
       "                                              ⎠                                             \n",
       "─────────────────────────────────────────────────────────                                   \n",
       "  2                                                                                         \n",
       "⋅r                                                                                          \n",
       "                                                                                            \n",
       "                                                                                            \n",
       "                                                                                            \n",
       "                                                                                            \n",
       "                                                                                            \n",
       "                                                                                            \n",
       "0                                                                                           \n",
       "                                                                                            \n",
       "                                                                                            \n",
       "                                                                                            \n",
       "  2                                                   2                         2⎞          \n",
       " ⎞                ∂              2       ⎛∂          ⎞     2       ⎛∂          ⎞ ⎟  -ν(r, z)\n",
       ")⎟  - 2⋅r⋅N(r, z)⋅──(N(r, z)) + N (r, z)⋅⎜──(N(r, z))⎟  + N (r, z)⋅⎜──(N(r, z))⎟ ⎟⋅ℯ        \n",
       " ⎠                ∂r                     ⎝∂r         ⎠             ⎝∂z         ⎠ ⎟          \n",
       "                                                                                 ⎠          \n",
       "────────────────────────────────────────────────────────────────────────────────────────────\n",
       "  2                                                                                         \n",
       "⋅r                                                                                          \n",
       "                                                                                            \n",
       "                                                                                            \n",
       "                                                                                            \n",
       "                                                                                            \n",
       "                                                                                            \n",
       "                                                                                            \n",
       "0                                                                                           \n",
       "                                                                                            \n",
       "                                                                                            \n",
       "\n",
       "                                                                     ⎤\n",
       "                                                                     ⎥\n",
       "                                                                     ⎥\n",
       "                                                                     ⎥\n",
       "                                                                     ⎥\n",
       "                                   0                                 ⎥\n",
       "                                                                     ⎥\n",
       "                                                                     ⎥\n",
       "                                                                     ⎥\n",
       "                                                                     ⎥\n",
       "                                                                     ⎥\n",
       "                  ∂             ∂           ∂                        ⎥\n",
       "                r⋅──(ν(r, z)) + ──(N(r, z))⋅──(N(r, z))              ⎥\n",
       "                  ∂z            ∂r          ∂z                       ⎥\n",
       "                ───────────────────────────────────────              ⎥\n",
       "                                     2                               ⎥\n",
       "                                  2⋅r                                ⎥\n",
       "                                                                     ⎥\n",
       "                                                                     ⎥\n",
       "                                                                     ⎥\n",
       "                                                                     ⎥\n",
       "                                                                     ⎥\n",
       "                                                                     ⎥\n",
       "                                   0                                 ⎥\n",
       "                                                                     ⎥\n",
       "                                                                     ⎥\n",
       "                                                                     ⎥\n",
       "       ⎛  2              2         ⎞                                2⎥\n",
       "     2 ⎜ ∂              ∂          ⎟     ∂             ⎛∂          ⎞ ⎥\n",
       "  - r ⋅⎜───(ν(r, z)) + ───(ν(r, z))⎟ - r⋅──(ν(r, z)) + ⎜──(N(r, z))⎟ ⎥\n",
       "       ⎜  2              2         ⎟     ∂r            ⎝∂z         ⎠ ⎥\n",
       "       ⎝∂r             ∂z          ⎠                                 ⎥\n",
       "  ───────────────────────────────────────────────────────────────────⎥\n",
       "                                     2                               ⎥\n",
       "                                  2⋅r                                ⎦"
      ]
     },
     "execution_count": 31,
     "metadata": {},
     "output_type": "execute_result"
    }
   ],
   "source": [
    "ricciSimplified = simplify(Ric.tensor())\n",
    "ricciSimplified"
   ]
  },
  {
   "cell_type": "code",
   "execution_count": 36,
   "id": "26df0b9d",
   "metadata": {},
   "outputs": [
    {
     "data": {
      "image/png": "[encoded data removed]",
      "text/latex": [
       "$\\displaystyle \\frac{\\partial}{\\partial z} \\nu{\\left(r,z \\right)} = - \\frac{\\frac{\\partial}{\\partial r} N{\\left(r,z \\right)} \\frac{\\partial}{\\partial z} N{\\left(r,z \\right)}}{r}$"
      ],
      "text/plain": [
       "               ∂           ∂           \n",
       "              -──(N(r, z))⋅──(N(r, z)) \n",
       "∂              ∂r          ∂z          \n",
       "──(ν(r, z)) = ─────────────────────────\n",
       "∂z                        r            "
      ]
     },
     "execution_count": 36,
     "metadata": {},
     "output_type": "execute_result"
    }
   ],
   "source": [
    "equation2b1 = Eq( diff(nu,z) , solve( ricciSimplified[3,1].args[2] , diff(nu,z) )[0] ) \n",
    "equation2b1"
   ]
  },
  {
   "cell_type": "code",
   "execution_count": 42,
   "id": "ed8808bd",
   "metadata": {},
   "outputs": [
    {
     "data": {
      "image/png": "[encoded data removed]",
      "text/latex": [
       "$\\displaystyle \\frac{\\partial}{\\partial r} \\nu{\\left(r,z \\right)} = - \\frac{0.5 \\left(\\frac{\\partial}{\\partial r} N{\\left(r,z \\right)}\\right)^{2}}{r} + \\frac{0.5 \\left(\\frac{\\partial}{\\partial z} N{\\left(r,z \\right)}\\right)^{2}}{r}$"
      ],
      "text/plain": [
       "                                 2                    2\n",
       "                    ⎛∂          ⎞        ⎛∂          ⎞ \n",
       "                0.5⋅⎜──(N(r, z))⎟    0.5⋅⎜──(N(r, z))⎟ \n",
       "∂                   ⎝∂r         ⎠        ⎝∂z         ⎠ \n",
       "──(ν(r, z)) = - ────────────────── + ──────────────────\n",
       "∂r                      r                    r         "
      ]
     },
     "execution_count": 42,
     "metadata": {},
     "output_type": "execute_result"
    }
   ],
   "source": [
    "equation2b2 = Eq( diff(nu,r) ,expand( solve( einsteinSimplified[1,1].args[2], diff(nu,r) )[0] ) )\n",
    "equation2b2 "
   ]
  },
  {
   "cell_type": "code",
   "execution_count": 47,
   "id": "e31cd5a4",
   "metadata": {},
   "outputs": [
    {
     "data": {
      "image/png": "[encoded data removed]",
      "text/latex": [
       "$\\displaystyle \\frac{\\left(\\left(\\frac{\\partial}{\\partial r} N{\\left(r,z \\right)}\\right)^{2} + \\left(\\frac{\\partial}{\\partial z} N{\\left(r,z \\right)}\\right)^{2}\\right) e^{- \\nu{\\left(r,z \\right)}}}{2 r^{2}}$"
      ],
      "text/plain": [
       "⎛             2                2⎞          \n",
       "⎜⎛∂          ⎞    ⎛∂          ⎞ ⎟  -ν(r, z)\n",
       "⎜⎜──(N(r, z))⎟  + ⎜──(N(r, z))⎟ ⎟⋅ℯ        \n",
       "⎝⎝∂r         ⎠    ⎝∂z         ⎠ ⎠          \n",
       "───────────────────────────────────────────\n",
       "                       2                   \n",
       "                    2⋅r                    "
      ]
     },
     "execution_count": 47,
     "metadata": {},
     "output_type": "execute_result"
    }
   ],
   "source": [
    "#  Set this equal to rho \n",
    "equation2c = ricciSimplified[0,0]\n",
    "equation2c"
   ]
  },
  {
   "cell_type": "code",
   "execution_count": 57,
   "id": "4444a01e",
   "metadata": {},
   "outputs": [
    {
     "data": {
      "image/png": "[encoded data removed]",
      "text/latex": [
       "$\\displaystyle 1.0 r^{4} \\frac{\\partial^{2}}{\\partial r^{2}} \\nu{\\left(r,z \\right)} + 1.0 r^{4} \\frac{\\partial^{2}}{\\partial z^{2}} \\nu{\\left(r,z \\right)} - 1.0 r^{2} N^{2}{\\left(r,z \\right)} \\frac{\\partial^{2}}{\\partial r^{2}} \\nu{\\left(r,z \\right)} - 1.0 r^{2} N^{2}{\\left(r,z \\right)} \\frac{\\partial^{2}}{\\partial z^{2}} \\nu{\\left(r,z \\right)} + 2 r^{2} N{\\left(r,z \\right)} \\frac{\\partial^{2}}{\\partial r^{2}} N{\\left(r,z \\right)} + 2 r^{2} N{\\left(r,z \\right)} \\frac{\\partial^{2}}{\\partial z^{2}} N{\\left(r,z \\right)} - 1.0 r^{2} N{\\left(r,z \\right)} \\frac{\\partial^{2}}{\\partial r^{2}} \\nu{\\left(r,z \\right)} - 1.0 r^{2} N{\\left(r,z \\right)} \\frac{\\partial^{2}}{\\partial z^{2}} \\nu{\\left(r,z \\right)} + 0.5 r^{2} \\left(\\frac{\\partial}{\\partial r} N{\\left(r,z \\right)}\\right)^{2} + 1.0 r^{2} \\frac{\\partial^{2}}{\\partial r^{2}} N{\\left(r,z \\right)} + 0.5 r^{2} \\left(\\frac{\\partial}{\\partial z} N{\\left(r,z \\right)}\\right)^{2} + 1.0 r^{2} \\frac{\\partial^{2}}{\\partial z^{2}} N{\\left(r,z \\right)} - 2 r N{\\left(r,z \\right)} \\frac{\\partial}{\\partial r} N{\\left(r,z \\right)} - 1.0 r \\frac{\\partial}{\\partial r} N{\\left(r,z \\right)} + 1.5 N^{2}{\\left(r,z \\right)} \\left(\\frac{\\partial}{\\partial r} N{\\left(r,z \\right)}\\right)^{2} + 1.5 N^{2}{\\left(r,z \\right)} \\left(\\frac{\\partial}{\\partial z} N{\\left(r,z \\right)}\\right)^{2} + 1.5 N{\\left(r,z \\right)} \\left(\\frac{\\partial}{\\partial r} N{\\left(r,z \\right)}\\right)^{2} + 1.5 N{\\left(r,z \\right)} \\left(\\frac{\\partial}{\\partial z} N{\\left(r,z \\right)}\\right)^{2}$"
      ],
      "text/plain": [
       "         2                     2                          2                          2      \n",
       "     4  ∂                  4  ∂              2  2        ∂              2  2        ∂       \n",
       "1.0⋅r ⋅───(ν(r, z)) + 1.0⋅r ⋅───(ν(r, z)) - r ⋅N (r, z)⋅───(ν(r, z)) - r ⋅N (r, z)⋅───(ν(r, \n",
       "         2                     2                          2                          2      \n",
       "       ∂r                    ∂z                         ∂r                         ∂z       \n",
       "\n",
       "                     2                           2                         2                \n",
       "         2          ∂                2          ∂              2          ∂              2  \n",
       "z)) + 2⋅r ⋅N(r, z)⋅───(N(r, z)) + 2⋅r ⋅N(r, z)⋅───(N(r, z)) - r ⋅N(r, z)⋅───(ν(r, z)) - r ⋅N\n",
       "                     2                           2                         2                \n",
       "                   ∂r                          ∂z                        ∂r                 \n",
       "\n",
       "         2                                2            2                                2   \n",
       "        ∂                  2 ⎛∂          ⎞         2  ∂                  2 ⎛∂          ⎞    \n",
       "(r, z)⋅───(ν(r, z)) + 0.5⋅r ⋅⎜──(N(r, z))⎟  + 1.0⋅r ⋅───(N(r, z)) + 0.5⋅r ⋅⎜──(N(r, z))⎟  + \n",
       "         2                   ⎝∂r         ⎠             2                   ⎝∂z         ⎠    \n",
       "       ∂z                                            ∂r                                     \n",
       "\n",
       "         2                                                                                2 \n",
       "     2  ∂                         ∂               ∂                  2       ⎛∂          ⎞  \n",
       "1.0⋅r ⋅───(N(r, z)) - 2⋅r⋅N(r, z)⋅──(N(r, z)) - r⋅──(N(r, z)) + 1.5⋅N (r, z)⋅⎜──(N(r, z))⎟  \n",
       "         2                        ∂r              ∂r                         ⎝∂r         ⎠  \n",
       "       ∂z                                                                                   \n",
       "\n",
       "                            2                            2                            2\n",
       "       2       ⎛∂          ⎞                ⎛∂          ⎞                ⎛∂          ⎞ \n",
       "+ 1.5⋅N (r, z)⋅⎜──(N(r, z))⎟  + 1.5⋅N(r, z)⋅⎜──(N(r, z))⎟  + 1.5⋅N(r, z)⋅⎜──(N(r, z))⎟ \n",
       "               ⎝∂z         ⎠                ⎝∂r         ⎠                ⎝∂z         ⎠ \n",
       "                                                                                       "
      ]
     },
     "execution_count": 57,
     "metadata": {},
     "output_type": "execute_result"
    }
   ],
   "source": [
    "einsteinSimplified[2,2].args[2]  "
   ]
  },
  {
   "cell_type": "code",
   "execution_count": 60,
   "id": "6c0848d5",
   "metadata": {},
   "outputs": [
    {
     "data": {
      "image/png": "[encoded data removed]",
      "text/latex": [
       "$\\displaystyle \\frac{\\partial^{2}}{\\partial r^{2}} \\nu{\\left(r,z \\right)} = - \\frac{\\partial^{2}}{\\partial z^{2}} \\nu{\\left(r,z \\right)} + \\frac{\\frac{\\partial^{2}}{\\partial r^{2}} N{\\left(r,z \\right)}}{N{\\left(r,z \\right)}} + \\frac{\\frac{\\partial^{2}}{\\partial z^{2}} N{\\left(r,z \\right)}}{N{\\left(r,z \\right)}} - \\frac{\\frac{\\partial}{\\partial r} N{\\left(r,z \\right)}}{r N{\\left(r,z \\right)}} + \\frac{1.5 \\left(\\frac{\\partial}{\\partial r} N{\\left(r,z \\right)}\\right)^{2}}{r^{2}} + \\frac{1.5 \\left(\\frac{\\partial}{\\partial z} N{\\left(r,z \\right)}\\right)^{2}}{r^{2}}$"
      ],
      "text/plain": [
       "                                  2              2                                          \n",
       "                                 ∂              ∂                                           \n",
       "                                ───(N(r, z))   ───(N(r, z))   ∂                 ⎛∂          \n",
       "  2                2              2              2            ──(N(r, z))   1.5⋅⎜──(N(r, z))\n",
       " ∂                ∂             ∂r             ∂z             ∂r                ⎝∂r         \n",
       "───(ν(r, z)) = - ───(ν(r, z)) + ──────────── + ──────────── - ─────────── + ────────────────\n",
       "  2                2              N(r, z)        N(r, z)       r⋅N(r, z)             2      \n",
       "∂r               ∂z                                                                 r       \n",
       "\n",
       "                       \n",
       " 2                    2\n",
       "⎞        ⎛∂          ⎞ \n",
       "⎟    1.5⋅⎜──(N(r, z))⎟ \n",
       "⎠        ⎝∂z         ⎠ \n",
       "── + ──────────────────\n",
       "              2        \n",
       "             r         "
      ]
     },
     "execution_count": 60,
     "metadata": {},
     "output_type": "execute_result"
    }
   ],
   "source": [
    "d2nudr2 = Eq(diff(nu,r,r), solve( einsteinSimplified[2,0].args[2], diff(nu,r,r) )[0] ) \n",
    "d2nudr2"
   ]
  },
  {
   "cell_type": "code",
   "execution_count": 82,
   "id": "6f3aeae0",
   "metadata": {},
   "outputs": [
    {
     "data": {
      "image/png": "[encoded data removed]",
      "text/latex": [
       "$\\displaystyle \\frac{\\partial}{\\partial r} N{\\left(r,z \\right)} = - i \\frac{\\partial}{\\partial z} N{\\left(r,z \\right)}$"
      ],
      "text/plain": [
       "∂                ∂          \n",
       "──(N(r, z)) = -ⅈ⋅──(N(r, z))\n",
       "∂r               ∂z         "
      ]
     },
     "execution_count": 82,
     "metadata": {},
     "output_type": "execute_result"
    }
   ],
   "source": [
    "dndr = Eq( diff(N,r),solve( equation2c.args[2] , diff(N,r) )[0] ) \n",
    "dndr "
   ]
  },
  {
   "cell_type": "code",
   "execution_count": 65,
   "id": "82cb68b2",
   "metadata": {},
   "outputs": [
    {
     "data": {
      "image/png": "[encoded data removed]",
      "text/latex": [
       "$\\displaystyle \\frac{- r^{3} \\frac{\\partial^{2}}{\\partial z^{2}} N{\\left(r,z \\right)} + r^{2} \\frac{\\partial}{\\partial r} N{\\left(r,z \\right)} - r N^{2}{\\left(r,z \\right)} \\frac{\\partial^{2}}{\\partial z^{2}} N{\\left(r,z \\right)} - 2.0 r N{\\left(r,z \\right)} \\left(\\frac{\\partial}{\\partial r} N{\\left(r,z \\right)}\\right)^{2} - 2.0 r N{\\left(r,z \\right)} \\left(\\frac{\\partial}{\\partial z} N{\\left(r,z \\right)}\\right)^{2} + N^{2}{\\left(r,z \\right)} \\frac{\\partial}{\\partial r} N{\\left(r,z \\right)}}{r \\left(r^{2} + N^{2}{\\left(r,z \\right)}\\right)}$"
      ],
      "text/plain": [
       "       2                                          2                                       2 \n",
       "   3  ∂              2 ∂                2        ∂                           ⎛∂          ⎞  \n",
       "- r ⋅───(N(r, z)) + r ⋅──(N(r, z)) - r⋅N (r, z)⋅───(N(r, z)) - 2.0⋅r⋅N(r, z)⋅⎜──(N(r, z))⎟  \n",
       "       2               ∂r                         2                          ⎝∂r         ⎠  \n",
       "     ∂z                                         ∂z                                          \n",
       "────────────────────────────────────────────────────────────────────────────────────────────\n",
       "                                                                  ⎛ 2    2      ⎞           \n",
       "                                                                r⋅⎝r  + N (r, z)⎠           \n",
       "\n",
       "                             2                       \n",
       "                ⎛∂          ⎞     2       ∂          \n",
       "- 2.0⋅r⋅N(r, z)⋅⎜──(N(r, z))⎟  + N (r, z)⋅──(N(r, z))\n",
       "                ⎝∂z         ⎠             ∂r         \n",
       "                                                     \n",
       "─────────────────────────────────────────────────────\n",
       "                                                     \n",
       "                                                     "
      ]
     },
     "execution_count": 65,
     "metadata": {},
     "output_type": "execute_result"
    }
   ],
   "source": [
    "solve(expand( einsteinSimplified[2,2].args[2].subs(d2nudr2.args[0],d2nudr2.args[1] ) ), diff(N,r,r) )[0]"
   ]
  },
  {
   "cell_type": "code",
   "execution_count": 88,
   "id": "0407b5a1",
   "metadata": {},
   "outputs": [
    {
     "data": {
      "image/png": "[encoded data removed]",
      "text/latex": [
       "$\\displaystyle 1.0 r \\left(\\frac{\\partial^{2}}{\\partial r^{2}} N{\\left(r,z \\right)} + \\frac{\\partial^{2}}{\\partial z^{2}} N{\\left(r,z \\right)}\\right) \\frac{\\partial}{\\partial r} N{\\left(r,z \\right)} + 1.0 \\left(\\frac{\\partial}{\\partial r} N{\\left(r,z \\right)}\\right)^{2} + 2.0 \\left(\\frac{\\partial}{\\partial z} N{\\left(r,z \\right)}\\right)^{2}$"
      ],
      "text/plain": [
       "      ⎛  2              2         ⎞                                2                    2\n",
       "      ⎜ ∂              ∂          ⎟ ∂                 ⎛∂          ⎞        ⎛∂          ⎞ \n",
       "1.0⋅r⋅⎜───(N(r, z)) + ───(N(r, z))⎟⋅──(N(r, z)) + 1.0⋅⎜──(N(r, z))⎟  + 2.0⋅⎜──(N(r, z))⎟ \n",
       "      ⎜  2              2         ⎟ ∂r                ⎝∂r         ⎠        ⎝∂z         ⎠ \n",
       "      ⎝∂r             ∂z          ⎠                                                      "
      ]
     },
     "execution_count": 88,
     "metadata": {},
     "output_type": "execute_result"
    }
   ],
   "source": [
    "#  this is either not right or needs to be reduced further \n",
    "equation2a = simplify(einsteinSimplified[0,0].args[2].subs(equation2b2.args[0],equation2b2.args[1]).subs(equation2b1.args[0],equation2b1.args[1]).doit())\n",
    "equation2a"
   ]
  },
  {
   "cell_type": "code",
   "execution_count": 90,
   "id": "0090a8ae",
   "metadata": {},
   "outputs": [
    {
     "data": {
      "text/latex": [
       "$\\displaystyle \\left[\\begin{matrix}1.0 r \\left(\\frac{\\partial^{2}}{\\partial r^{2}} N{\\left(r,z \\right)} + \\frac{\\partial^{2}}{\\partial z^{2}} N{\\left(r,z \\right)}\\right) \\frac{\\partial}{\\partial r} N{\\left(r,z \\right)} + 1.0 \\left(\\frac{\\partial}{\\partial r} N{\\left(r,z \\right)}\\right)^{2} + 2.0 \\left(\\frac{\\partial}{\\partial z} N{\\left(r,z \\right)}\\right)^{2}\\\\\\frac{\\partial}{\\partial z} \\nu{\\left(r,z \\right)} = - \\frac{\\frac{\\partial}{\\partial r} N{\\left(r,z \\right)} \\frac{\\partial}{\\partial z} N{\\left(r,z \\right)}}{r}\\\\\\frac{\\partial}{\\partial r} \\nu{\\left(r,z \\right)} = - \\frac{0.5 \\left(\\frac{\\partial}{\\partial r} N{\\left(r,z \\right)}\\right)^{2}}{r} + \\frac{0.5 \\left(\\frac{\\partial}{\\partial z} N{\\left(r,z \\right)}\\right)^{2}}{r}\\\\\\frac{\\left(\\left(\\frac{\\partial}{\\partial r} N{\\left(r,z \\right)}\\right)^{2} + \\left(\\frac{\\partial}{\\partial z} N{\\left(r,z \\right)}\\right)^{2}\\right) e^{- \\nu{\\left(r,z \\right)}}}{2 r^{2}}\\end{matrix}\\right]$"
      ],
      "text/plain": [
       "⎡      ⎛  2              2         ⎞                                2                    2⎤\n",
       "⎢      ⎜ ∂              ∂          ⎟ ∂                 ⎛∂          ⎞        ⎛∂          ⎞ ⎥\n",
       "⎢1.0⋅r⋅⎜───(N(r, z)) + ───(N(r, z))⎟⋅──(N(r, z)) + 1.0⋅⎜──(N(r, z))⎟  + 2.0⋅⎜──(N(r, z))⎟ ⎥\n",
       "⎢      ⎜  2              2         ⎟ ∂r                ⎝∂r         ⎠        ⎝∂z         ⎠ ⎥\n",
       "⎢      ⎝∂r             ∂z          ⎠                                                      ⎥\n",
       "⎢                                                                                         ⎥\n",
       "⎢                                        ∂           ∂                                    ⎥\n",
       "⎢                                       -──(N(r, z))⋅──(N(r, z))                          ⎥\n",
       "⎢                         ∂              ∂r          ∂z                                   ⎥\n",
       "⎢                         ──(ν(r, z)) = ─────────────────────────                         ⎥\n",
       "⎢                         ∂z                        r                                     ⎥\n",
       "⎢                                                                                         ⎥\n",
       "⎢                                                  2                    2                 ⎥\n",
       "⎢                                     ⎛∂          ⎞        ⎛∂          ⎞                  ⎥\n",
       "⎢                                 0.5⋅⎜──(N(r, z))⎟    0.5⋅⎜──(N(r, z))⎟                  ⎥\n",
       "⎢                 ∂                   ⎝∂r         ⎠        ⎝∂z         ⎠                  ⎥\n",
       "⎢                 ──(ν(r, z)) = - ────────────────── + ──────────────────                 ⎥\n",
       "⎢                 ∂r                      r                    r                          ⎥\n",
       "⎢                                                                                         ⎥\n",
       "⎢                       ⎛             2                2⎞                                 ⎥\n",
       "⎢                       ⎜⎛∂          ⎞    ⎛∂          ⎞ ⎟  -ν(r, z)                       ⎥\n",
       "⎢                       ⎜⎜──(N(r, z))⎟  + ⎜──(N(r, z))⎟ ⎟⋅ℯ                               ⎥\n",
       "⎢                       ⎝⎝∂r         ⎠    ⎝∂z         ⎠ ⎠                                 ⎥\n",
       "⎢                       ───────────────────────────────────────────                       ⎥\n",
       "⎢                                              2                                          ⎥\n",
       "⎣                                           2⋅r                                           ⎦"
      ]
     },
     "execution_count": 90,
     "metadata": {},
     "output_type": "execute_result"
    }
   ],
   "source": [
    "#  First and fourth need to be fixed \n",
    "vacuumFieldEquations = Matrix([equation2a,equation2b1,equation2b2,equation2c])\n",
    "vacuumFieldEquations"
   ]
  },
  {
   "cell_type": "code",
   "execution_count": null,
   "id": "cf91d714",
   "metadata": {},
   "outputs": [],
   "source": []
  }
 ],
 "metadata": {
  "@webio": {
   "lastCommId": "ffb65f9d7cb74a2c8d1be87c05f2da50",
   "lastKernelId": "8e640e89-c63d-4edf-86ef-12b40b4cc2a4"
  },
  "kernelspec": {
   "display_name": "Python 3 (ipykernel)",
   "language": "python",
   "name": "python3"
  },
  "language_info": {
   "codemirror_mode": {
    "name": "ipython",
    "version": 3
   },
   "file_extension": ".py",
   "mimetype": "text/x-python",
   "name": "python",
   "nbconvert_exporter": "python",
   "pygments_lexer": "ipython3",
   "version": "3.8.8"
  }
 },
 "nbformat": 4,
 "nbformat_minor": 5
}
