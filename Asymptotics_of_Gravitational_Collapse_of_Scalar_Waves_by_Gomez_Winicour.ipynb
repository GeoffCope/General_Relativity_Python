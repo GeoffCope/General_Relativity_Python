{
 "cells": [
  {
   "cell_type": "markdown",
   "id": "e239c9ac-0088-4f80-8b25-fd5b7f7f0f64",
   "metadata": {
    "tags": []
   },
   "source": [
    "# Asymptotics of Gravitational Collapse of Scalar Waves by Gomez and Winicour\n",
    "##  Geoff Cope\n",
    "##  Univeristy of Utah\n",
    "##  January 4th, 2021"
   ]
  },
  {
   "cell_type": "code",
   "execution_count": 1,
   "id": "5c5ce292-27e6-46f1-8eca-acb91e6df400",
   "metadata": {},
   "outputs": [
    {
     "name": "stdout",
     "output_type": "stream",
     "text": [
      "IPython console for SymPy 1.9 (Python 3.8.8-64-bit) (ground types: gmpy)\n",
      "\n",
      "These commands were executed:\n",
      ">>> from __future__ import division\n",
      ">>> from sympy import *\n",
      ">>> x, y, z, t = symbols('x y z t')\n",
      ">>> k, m, n = symbols('k m n', integer=True)\n",
      ">>> f, g, h = symbols('f g h', cls=Function)\n",
      ">>> init_printing()\n",
      "\n",
      "Documentation can be found at https://docs.sympy.org/1.9/\n",
      "\n"
     ]
    }
   ],
   "source": [
    "from sympy import init_session\n",
    "init_session(use_latex=True)"
   ]
  },
  {
   "cell_type": "code",
   "execution_count": 2,
   "id": "6ebcaac2-4c80-4aa7-be6b-cc8c14f951a4",
   "metadata": {},
   "outputs": [],
   "source": [
    "import warnings\n",
    "import matplotlib.cbook\n",
    "warnings.filterwarnings(\"ignore\",category=matplotlib.cbook.mplDeprecation)"
   ]
  },
  {
   "cell_type": "code",
   "execution_count": 4,
   "id": "7a537ac3-6a5d-49d2-b728-9941a0bf3343",
   "metadata": {},
   "outputs": [],
   "source": [
    "u,v,r,theta,phi,du,dv,dr,dtheta,dphi = symbols( 'u v r theta phi du dv dr dtheta dphi' ) "
   ]
  },
  {
   "cell_type": "code",
   "execution_count": 5,
   "id": "62f81155-9a01-41fb-894e-edb8c8d6bcfe",
   "metadata": {},
   "outputs": [
    {
     "data": {
      "image/png": "[encoded data removed]",
      "text/latex": [
       "$\\displaystyle V{\\left(u,r \\right)}$"
      ],
      "text/plain": [
       "V(u, r)"
      ]
     },
     "execution_count": 5,
     "metadata": {},
     "output_type": "execute_result"
    }
   ],
   "source": [
    "V = Function('V')(u,r)\n",
    "V"
   ]
  },
  {
   "cell_type": "code",
   "execution_count": 6,
   "id": "0b1bcf28-d05f-4f55-bfc0-077e409ff661",
   "metadata": {},
   "outputs": [
    {
     "data": {
      "image/png": "[encoded data removed]",
      "text/latex": [
       "$\\displaystyle \\beta{\\left(u,r \\right)}$"
      ],
      "text/plain": [
       "β(u, r)"
      ]
     },
     "execution_count": 6,
     "metadata": {},
     "output_type": "execute_result"
    }
   ],
   "source": [
    "beta = Function('beta')(u,r)\n",
    "beta"
   ]
  },
  {
   "cell_type": "code",
   "execution_count": 7,
   "id": "4243608f-045f-4702-86a2-1bbf126a51de",
   "metadata": {},
   "outputs": [
    {
     "data": {
      "text/latex": [
       "$\\displaystyle \\left[\\begin{matrix}u\\\\r\\\\\\theta\\\\\\phi\\end{matrix}\\right]$"
      ],
      "text/plain": [
       "⎡u⎤\n",
       "⎢ ⎥\n",
       "⎢r⎥\n",
       "⎢ ⎥\n",
       "⎢θ⎥\n",
       "⎢ ⎥\n",
       "⎣φ⎦"
      ]
     },
     "execution_count": 7,
     "metadata": {},
     "output_type": "execute_result"
    }
   ],
   "source": [
    "variables = Matrix( [u,r,theta,phi] )\n",
    "variables"
   ]
  },
  {
   "cell_type": "code",
   "execution_count": 8,
   "id": "0c57c356-65b4-48b5-b7a0-ecf5bd921804",
   "metadata": {},
   "outputs": [
    {
     "data": {
      "text/latex": [
       "$\\displaystyle \\left[\\begin{matrix}du\\\\dr\\\\dtheta\\\\dphi\\end{matrix}\\right]$"
      ],
      "text/plain": [
       "⎡  du  ⎤\n",
       "⎢      ⎥\n",
       "⎢  dr  ⎥\n",
       "⎢      ⎥\n",
       "⎢dtheta⎥\n",
       "⎢      ⎥\n",
       "⎣ dphi ⎦"
      ]
     },
     "execution_count": 8,
     "metadata": {},
     "output_type": "execute_result"
    }
   ],
   "source": [
    "differentials = Matrix( [du,dr,dtheta,dphi] ) \n",
    "differentials"
   ]
  },
  {
   "cell_type": "code",
   "execution_count": 9,
   "id": "4e3449bb-0c44-4441-a666-23ecaa5ff1aa",
   "metadata": {},
   "outputs": [
    {
     "data": {
      "image/png": "[encoded data removed]",
      "text/latex": [
       "$\\displaystyle - dphi^{2} r^{2} \\sin^{2}{\\left(\\theta \\right)} + 2 dr du e^{2 \\beta{\\left(u,r \\right)}} - dtheta^{2} r^{2} + \\frac{du^{2} V{\\left(u,r \\right)} e^{2 \\beta{\\left(u,r \\right)}}}{r}$"
      ],
      "text/plain": [
       "                                                         2          2⋅β(u, r)\n",
       "      2  2    2               2⋅β(u, r)         2  2   du ⋅V(u, r)⋅ℯ         \n",
       "- dphi ⋅r ⋅sin (θ) + 2⋅dr⋅du⋅ℯ          - dtheta ⋅r  + ──────────────────────\n",
       "                                                                 r           "
      ]
     },
     "execution_count": 9,
     "metadata": {},
     "output_type": "execute_result"
    }
   ],
   "source": [
    "lineElement = expand( exp(2*beta)*du* ( (V/r)*du + 2*dr ) -r**2 * (dtheta**2 + sin(theta)**2 * dphi**2 ) ) \n",
    "lineElement"
   ]
  },
  {
   "cell_type": "code",
   "execution_count": 10,
   "id": "0347277f-30d9-4d0d-a9be-664e600771f6",
   "metadata": {},
   "outputs": [
    {
     "data": {
      "text/latex": [
       "$\\displaystyle \\left[\\begin{matrix}\\frac{V{\\left(u,r \\right)} e^{2 \\beta{\\left(u,r \\right)}}}{r} & e^{2 \\beta{\\left(u,r \\right)}} & 0 & 0\\\\e^{2 \\beta{\\left(u,r \\right)}} & 0 & 0 & 0\\\\0 & 0 & - r^{2} & 0\\\\0 & 0 & 0 & - r^{2} \\sin^{2}{\\left(\\theta \\right)}\\end{matrix}\\right]$"
      ],
      "text/plain": [
       "⎡         2⋅β(u, r)                              ⎤\n",
       "⎢V(u, r)⋅ℯ            2⋅β(u, r)                  ⎥\n",
       "⎢──────────────────  ℯ            0        0     ⎥\n",
       "⎢        r                                       ⎥\n",
       "⎢                                                ⎥\n",
       "⎢     2⋅β(u, r)                                  ⎥\n",
       "⎢    ℯ                   0        0        0     ⎥\n",
       "⎢                                                ⎥\n",
       "⎢                                  2             ⎥\n",
       "⎢        0               0       -r        0     ⎥\n",
       "⎢                                                ⎥\n",
       "⎢                                       2    2   ⎥\n",
       "⎣        0               0        0   -r ⋅sin (θ)⎦"
      ]
     },
     "execution_count": 10,
     "metadata": {},
     "output_type": "execute_result"
    }
   ],
   "source": [
    "g = zeros(4)\n",
    "\n",
    "for i in range(4):\n",
    "    for j in range(4):\n",
    "        if i == j:\n",
    "            g[i,j] = lineElement.coeff( differentials[i],2 ) \n",
    "        else:\n",
    "            g[i,j] = Rational(1,2)*lineElement.coeff( differentials[i]*differentials[j],1 )\n",
    "            \n",
    "g"
   ]
  },
  {
   "cell_type": "code",
   "execution_count": 11,
   "id": "3afe25f8-2334-4534-aaf2-12773e6b6d97",
   "metadata": {},
   "outputs": [],
   "source": [
    "import sympy"
   ]
  },
  {
   "cell_type": "code",
   "execution_count": 12,
   "id": "83f5a0a4-3056-4a60-be84-3903c38596b0",
   "metadata": {},
   "outputs": [
    {
     "data": {
      "text/latex": [
       "$\\displaystyle \\left[\\begin{matrix}\\frac{V{\\left(u,r \\right)} e^{2 \\beta{\\left(u,r \\right)}}}{r} & e^{2 \\beta{\\left(u,r \\right)}} & 0 & 0\\\\e^{2 \\beta{\\left(u,r \\right)}} & 0 & 0 & 0\\\\0 & 0 & - r^{2} & 0\\\\0 & 0 & 0 & - r^{2} \\sin^{2}{\\left(\\theta \\right)}\\end{matrix}\\right]$"
      ],
      "text/plain": [
       "⎡         2⋅β(u, r)                              ⎤\n",
       "⎢V(u, r)⋅ℯ            2⋅β(u, r)                  ⎥\n",
       "⎢──────────────────  ℯ            0        0     ⎥\n",
       "⎢        r                                       ⎥\n",
       "⎢                                                ⎥\n",
       "⎢     2⋅β(u, r)                                  ⎥\n",
       "⎢    ℯ                   0        0        0     ⎥\n",
       "⎢                                                ⎥\n",
       "⎢                                  2             ⎥\n",
       "⎢        0               0       -r        0     ⎥\n",
       "⎢                                                ⎥\n",
       "⎢                                       2    2   ⎥\n",
       "⎣        0               0        0   -r ⋅sin (θ)⎦"
      ]
     },
     "execution_count": 12,
     "metadata": {},
     "output_type": "execute_result"
    }
   ],
   "source": [
    "m = sympy.Array(g)\n",
    "m"
   ]
  },
  {
   "cell_type": "code",
   "execution_count": 13,
   "id": "4ba72842-1f1a-449a-b392-7fafd9c7a6ea",
   "metadata": {},
   "outputs": [],
   "source": [
    "from einsteinpy.symbolic import *"
   ]
  },
  {
   "cell_type": "code",
   "execution_count": 14,
   "id": "d327f071-392e-4ba5-9230-716efc111036",
   "metadata": {},
   "outputs": [],
   "source": [
    "syms = sympy.symbols(\"u r theta phi\")\n",
    "u,r,theta,phi = syms"
   ]
  },
  {
   "cell_type": "code",
   "execution_count": 15,
   "id": "57337e26-76d5-40ce-81d7-164c782d9ec2",
   "metadata": {},
   "outputs": [],
   "source": [
    "metric = MetricTensor(m,syms)"
   ]
  },
  {
   "cell_type": "code",
   "execution_count": 16,
   "id": "8d74ebf0-10f8-4afa-8bec-b2cca5540a24",
   "metadata": {},
   "outputs": [
    {
     "data": {
      "text/latex": [
       "$\\displaystyle \\left[\\begin{matrix}\\left[\\begin{matrix}2 \\frac{\\partial}{\\partial u} \\beta{\\left(u,r \\right)} - \\frac{V{\\left(u,r \\right)} \\frac{\\partial}{\\partial r} \\beta{\\left(u,r \\right)}}{r} - \\frac{\\frac{\\partial}{\\partial r} V{\\left(u,r \\right)}}{2 r} + \\frac{V{\\left(u,r \\right)}}{2 r^{2}} & 0 & 0 & 0\\\\0 & 0 & 0 & 0\\\\0 & 0 & r e^{- 2 \\beta{\\left(u,r \\right)}} & 0\\\\0 & 0 & 0 & r e^{- 2 \\beta{\\left(u,r \\right)}} \\sin^{2}{\\left(\\theta \\right)}\\end{matrix}\\right] & \\left[\\begin{matrix}\\frac{- 2 r^{2} V{\\left(u,r \\right)} \\frac{\\partial}{\\partial u} \\beta{\\left(u,r \\right)} + r^{2} \\frac{\\partial}{\\partial u} V{\\left(u,r \\right)} + 2 r V^{2}{\\left(u,r \\right)} \\frac{\\partial}{\\partial r} \\beta{\\left(u,r \\right)} + r V{\\left(u,r \\right)} \\frac{\\partial}{\\partial r} V{\\left(u,r \\right)} - V^{2}{\\left(u,r \\right)}}{2 r^{3}} & \\frac{r \\left(2 V{\\left(u,r \\right)} \\frac{\\partial}{\\partial r} \\beta{\\left(u,r \\right)} + \\frac{\\partial}{\\partial r} V{\\left(u,r \\right)}\\right) - V{\\left(u,r \\right)}}{2 r^{2}} & 0 & 0\\\\\\frac{r \\left(2 V{\\left(u,r \\right)} \\frac{\\partial}{\\partial r} \\beta{\\left(u,r \\right)} + \\frac{\\partial}{\\partial r} V{\\left(u,r \\right)}\\right) - V{\\left(u,r \\right)}}{2 r^{2}} & 2 \\frac{\\partial}{\\partial r} \\beta{\\left(u,r \\right)} & 0 & 0\\\\0 & 0 & - V{\\left(u,r \\right)} e^{- 2 \\beta{\\left(u,r \\right)}} & 0\\\\0 & 0 & 0 & - V{\\left(u,r \\right)} e^{- 2 \\beta{\\left(u,r \\right)}} \\sin^{2}{\\left(\\theta \\right)}\\end{matrix}\\right] & \\left[\\begin{matrix}0 & 0 & 0 & 0\\\\0 & 0 & \\frac{1}{r} & 0\\\\0 & \\frac{1}{r} & 0 & 0\\\\0 & 0 & 0 & - \\frac{\\sin{\\left(2 \\theta \\right)}}{2}\\end{matrix}\\right] & \\left[\\begin{matrix}0 & 0 & 0 & 0\\\\0 & 0 & 0 & \\frac{1}{r}\\\\0 & 0 & 0 & \\frac{1}{\\tan{\\left(\\theta \\right)}}\\\\0 & \\frac{1}{r} & \\frac{1}{\\tan{\\left(\\theta \\right)}} & 0\\end{matrix}\\right]\\end{matrix}\\right]$"
      ],
      "text/plain": [
       "⎡                                                                                                        ⎡     2         ∂              2\n",
       "⎢                                                                                                        ⎢- 2⋅r ⋅V(u, r)⋅──(β(u, r)) + r \n",
       "⎢⎡                        ∂             ∂                                                             ⎤  ⎢               ∂u              \n",
       "⎢⎢                V(u, r)⋅──(β(u, r))   ──(V(u, r))                                                   ⎥  ⎢───────────────────────────────\n",
       "⎢⎢  ∂                     ∂r            ∂r            V(u, r)                                         ⎥  ⎢                               \n",
       "⎢⎢2⋅──(β(u, r)) - ─────────────────── - ─────────── + ───────  0        0                  0          ⎥  ⎢                               \n",
       "⎢⎢  ∂u                     r                2⋅r            2                                          ⎥  ⎢                               \n",
       "⎢⎢                                                      2⋅r                                           ⎥  ⎢                              ⎛\n",
       "⎢⎢                                                                                                    ⎥  ⎢                            r⋅⎜\n",
       "⎢⎢                             0                               0        0                  0          ⎥  ⎢                              ⎝\n",
       "⎢⎢                                                                                                    ⎥  ⎢                            ───\n",
       "⎢⎢                                                                   -2⋅β(u, r)                       ⎥  ⎢                               \n",
       "⎢⎢                             0                               0  r⋅ℯ                      0          ⎥  ⎢                               \n",
       "⎢⎢                                                                                                    ⎥  ⎢                               \n",
       "⎢⎢                                                                                  -2⋅β(u, r)    2   ⎥  ⎢                               \n",
       "⎢⎣                             0                               0        0        r⋅ℯ          ⋅sin (θ)⎦  ⎢                               \n",
       "⎢                                                                                                        ⎢                               \n",
       "⎢                                                                                                        ⎢                               \n",
       "⎣                                                                                                        ⎣                               \n",
       "\n",
       " ∂                  2       ∂                       ∂              2          ⎛          ∂             ∂          ⎞                      \n",
       "⋅──(V(u, r)) + 2⋅r⋅V (u, r)⋅──(β(u, r)) + r⋅V(u, r)⋅──(V(u, r)) - V (u, r)  r⋅⎜2⋅V(u, r)⋅──(β(u, r)) + ──(V(u, r))⎟ - V(u, r)            \n",
       " ∂u                         ∂r                      ∂r                        ⎝          ∂r            ∂r         ⎠                      \n",
       "──────────────────────────────────────────────────────────────────────────  ─────────────────────────────────────────────────           0\n",
       "                       3                                                                              2                                  \n",
       "                    2⋅r                                                                            2⋅r                                   \n",
       "                                                                                                                                         \n",
       "          ∂             ∂          ⎞                                                                                                     \n",
       "2⋅V(u, r)⋅──(β(u, r)) + ──(V(u, r))⎟ - V(u, r)                                                                                           \n",
       "          ∂r            ∂r         ⎠                                                            ∂                                        \n",
       "──────────────────────────────────────────────                                                2⋅──(β(u, r))                             0\n",
       "                       2                                                                        ∂r                                       \n",
       "                    2⋅r                                                                                                                  \n",
       "                                                                                                                                         \n",
       "                                                                                                                                         \n",
       "                     0                                                                              0                          -V(u, r)⋅ℯ\n",
       "                                                                                                                                         \n",
       "                                                                                                                                         \n",
       "                     0                                                                              0                                   0\n",
       "\n",
       "                                        ⎤                                               ⎤\n",
       "                                        ⎥                                               ⎥\n",
       "                                        ⎥                                               ⎥\n",
       "                         0              ⎥  ⎡0  0  0      0     ⎤  ⎡0  0    0       0   ⎤⎥\n",
       "                                        ⎥  ⎢                   ⎥  ⎢                    ⎥⎥\n",
       "                                        ⎥  ⎢      1            ⎥  ⎢                1   ⎥⎥\n",
       "                                        ⎥  ⎢0  0  ─      0     ⎥  ⎢0  0    0       ─   ⎥⎥\n",
       "                                        ⎥  ⎢      r            ⎥  ⎢                r   ⎥⎥\n",
       "                                        ⎥  ⎢                   ⎥  ⎢                    ⎥⎥\n",
       "                                        ⎥  ⎢   1               ⎥  ⎢                1   ⎥⎥\n",
       "                         0              ⎥  ⎢0  ─  0      0     ⎥  ⎢0  0    0     ──────⎥⎥\n",
       "                                        ⎥  ⎢   r               ⎥  ⎢              tan(θ)⎥⎥\n",
       "                                        ⎥  ⎢                   ⎥  ⎢                    ⎥⎥\n",
       "                                        ⎥  ⎢         -sin(2⋅θ) ⎥  ⎢   1    1           ⎥⎥\n",
       "-2⋅β(u, r)                              ⎥  ⎢0  0  0  ──────────⎥  ⎢0  ─  ──────    0   ⎥⎥\n",
       "                         0              ⎥  ⎣             2     ⎦  ⎣   r  tan(θ)        ⎦⎥\n",
       "                                        ⎥                                               ⎥\n",
       "                      -2⋅β(u, r)    2   ⎥                                               ⎥\n",
       "            -V(u, r)⋅ℯ          ⋅sin (θ)⎦                                               ⎦"
      ]
     },
     "execution_count": 16,
     "metadata": {},
     "output_type": "execute_result"
    }
   ],
   "source": [
    "ch = ChristoffelSymbols.from_metric(metric)\n",
    "simplify(ch.tensor())"
   ]
  },
  {
   "cell_type": "code",
   "execution_count": 17,
   "id": "44fbc940-bed7-4f06-b80e-18095ec867cc",
   "metadata": {},
   "outputs": [
    {
     "data": {
      "text/latex": [
       "$\\displaystyle \\left[\\begin{matrix}\\frac{- 2 r^{2} V{\\left(u,r \\right)} \\frac{\\partial^{2}}{\\partial u\\partial r} \\beta{\\left(u,r \\right)} + r V^{2}{\\left(u,r \\right)} \\frac{\\partial^{2}}{\\partial r^{2}} \\beta{\\left(u,r \\right)} + r V{\\left(u,r \\right)} \\frac{\\partial}{\\partial r} V{\\left(u,r \\right)} \\frac{\\partial}{\\partial r} \\beta{\\left(u,r \\right)} + \\frac{r V{\\left(u,r \\right)} \\frac{\\partial^{2}}{\\partial r^{2}} V{\\left(u,r \\right)}}{2} - 2 r V{\\left(u,r \\right)} \\frac{\\partial}{\\partial u} \\beta{\\left(u,r \\right)} + r \\frac{\\partial}{\\partial u} V{\\left(u,r \\right)} + V^{2}{\\left(u,r \\right)} \\frac{\\partial}{\\partial r} \\beta{\\left(u,r \\right)}}{r^{3}} & - 2 \\frac{\\partial^{2}}{\\partial u\\partial r} \\beta{\\left(u,r \\right)} + \\frac{V{\\left(u,r \\right)} \\frac{\\partial^{2}}{\\partial r^{2}} \\beta{\\left(u,r \\right)}}{r} + \\frac{\\frac{\\partial}{\\partial r} V{\\left(u,r \\right)} \\frac{\\partial}{\\partial r} \\beta{\\left(u,r \\right)}}{r} + \\frac{\\frac{\\partial^{2}}{\\partial r^{2}} V{\\left(u,r \\right)}}{2 r} + \\frac{V{\\left(u,r \\right)} \\frac{\\partial}{\\partial r} \\beta{\\left(u,r \\right)}}{r^{2}} & 0 & 0\\\\- 2 \\frac{\\partial^{2}}{\\partial u\\partial r} \\beta{\\left(u,r \\right)} + \\frac{V{\\left(u,r \\right)} \\frac{\\partial^{2}}{\\partial r^{2}} \\beta{\\left(u,r \\right)}}{r} + \\frac{\\frac{\\partial}{\\partial r} V{\\left(u,r \\right)} \\frac{\\partial}{\\partial r} \\beta{\\left(u,r \\right)}}{r} + \\frac{\\frac{\\partial^{2}}{\\partial r^{2}} V{\\left(u,r \\right)}}{2 r} + \\frac{V{\\left(u,r \\right)} \\frac{\\partial}{\\partial r} \\beta{\\left(u,r \\right)}}{r^{2}} & \\frac{4 \\frac{\\partial}{\\partial r} \\beta{\\left(u,r \\right)}}{r} & 0 & 0\\\\0 & 0 & 1 - e^{- 2 \\beta{\\left(u,r \\right)}} \\frac{\\partial}{\\partial r} V{\\left(u,r \\right)} & 0\\\\0 & 0 & 0 & \\sin^{2}{\\left(\\theta \\right)} - e^{- 2 \\beta{\\left(u,r \\right)}} \\sin^{2}{\\left(\\theta \\right)} \\frac{\\partial}{\\partial r} V{\\left(u,r \\right)}\\end{matrix}\\right]$"
      ],
      "text/plain": [
       "⎡                                                                                                          2                             \n",
       "⎢                                                                                                         ∂                              \n",
       "⎢                                                                                              r⋅V(u, r)⋅───(V(u, r))                    \n",
       "⎢                  2                          2                                                            2                             \n",
       "⎢     2           ∂                 2        ∂                       ∂           ∂                       ∂r                         ∂    \n",
       "⎢- 2⋅r ⋅V(u, r)⋅─────(β(u, r)) + r⋅V (u, r)⋅───(β(u, r)) + r⋅V(u, r)⋅──(V(u, r))⋅──(β(u, r)) + ────────────────────── - 2⋅r⋅V(u, r)⋅──(β(\n",
       "⎢               ∂u ∂r                         2                      ∂r          ∂r                      2                          ∂u   \n",
       "⎢                                           ∂r                                                                                           \n",
       "⎢────────────────────────────────────────────────────────────────────────────────────────────────────────────────────────────────────────\n",
       "⎢                                                                                           3                                            \n",
       "⎢                                                                                          r                                             \n",
       "⎢                                                                                                                                        \n",
       "⎢                                                                     2                                        2                         \n",
       "⎢                                                                    ∂                                        ∂                          \n",
       "⎢                                                           V(u, r)⋅───(β(u, r))   ∂           ∂             ───(V(u, r))           ∂    \n",
       "⎢                                             2                       2            ──(V(u, r))⋅──(β(u, r))     2            V(u, r)⋅──(β(\n",
       "⎢                                            ∂                      ∂r             ∂r          ∂r            ∂r                     ∂r   \n",
       "⎢                                      - 2⋅─────(β(u, r)) + ──────────────────── + ─────────────────────── + ──────────── + ─────────────\n",
       "⎢                                          ∂u ∂r                     r                        r                  2⋅r                  2  \n",
       "⎢                                                                                                                                    r   \n",
       "⎢                                                                                                                                        \n",
       "⎢                                                                                                                                        \n",
       "⎢                                                                                          0                                             \n",
       "⎢                                                                                                                                        \n",
       "⎢                                                                                                                                        \n",
       "⎢                                                                                                                                        \n",
       "⎢                                                                                          0                                             \n",
       "⎣                                                                                                                                        \n",
       "\n",
       "                                                                                                                                         \n",
       "                                                                                                                                         \n",
       "                                                                                                                                         \n",
       "                                                                              2                                        2                 \n",
       "           ∂              2       ∂                                          ∂                                        ∂                  \n",
       "u, r)) + r⋅──(V(u, r)) + V (u, r)⋅──(β(u, r))                       V(u, r)⋅───(β(u, r))   ∂           ∂             ───(V(u, r))        \n",
       "           ∂u                     ∂r                  2                       2            ──(V(u, r))⋅──(β(u, r))     2            V(u, \n",
       "                                                     ∂                      ∂r             ∂r          ∂r            ∂r                  \n",
       "─────────────────────────────────────────────  - 2⋅─────(β(u, r)) + ──────────────────── + ─────────────────────── + ──────────── + ─────\n",
       "                                                   ∂u ∂r                     r                        r                  2⋅r             \n",
       "                                                                                                                                         \n",
       "                                                                                                                                         \n",
       "                                                                                                                                         \n",
       "                                                                                                                                         \n",
       "                                                                                              ∂                                          \n",
       "u, r))                                                                                      4⋅──(β(u, r))                                \n",
       "                                                                                              ∂r                                         \n",
       "──────                                                                                      ─────────────                                \n",
       "                                                                                                  r                                      \n",
       "                                                                                                                                         \n",
       "                                                                                                                                         \n",
       "                                                                                                                                         \n",
       "                                                                                                  0                                      \n",
       "                                                                                                                                         \n",
       "                                                                                                                                         \n",
       "                                                                                                                                         \n",
       "                                                                                                  0                                      \n",
       "                                                                                                                                         \n",
       "\n",
       "                                                                                      ⎤\n",
       "                                                                                      ⎥\n",
       "                                                                                      ⎥\n",
       "                                                                                      ⎥\n",
       "                                                                                      ⎥\n",
       "   ∂                                                                                  ⎥\n",
       "r)⋅──(β(u, r))                                                                        ⎥\n",
       "   ∂r                                                                                 ⎥\n",
       "──────────────               0                                   0                    ⎥\n",
       "     2                                                                                ⎥\n",
       "    r                                                                                 ⎥\n",
       "                                                                                      ⎥\n",
       "                                                                                      ⎥\n",
       "                                                                                      ⎥\n",
       "                                                                                      ⎥\n",
       "                                                                                      ⎥\n",
       "                                                                                      ⎥\n",
       "                             0                                   0                    ⎥\n",
       "                                                                                      ⎥\n",
       "                                                                                      ⎥\n",
       "                                                                                      ⎥\n",
       "                     -2⋅β(u, r) ∂                                                     ⎥\n",
       "                1 - ℯ          ⋅──(V(u, r))                      0                    ⎥\n",
       "                                ∂r                                                    ⎥\n",
       "                                                                                      ⎥\n",
       "                                                2       -2⋅β(u, r)    2    ∂          ⎥\n",
       "                             0               sin (θ) - ℯ          ⋅sin (θ)⋅──(V(u, r))⎥\n",
       "                                                                           ∂r         ⎦"
      ]
     },
     "execution_count": 17,
     "metadata": {},
     "output_type": "execute_result"
    }
   ],
   "source": [
    "Ric = RicciTensor.from_metric(metric)\n",
    "Ric.tensor()"
   ]
  },
  {
   "cell_type": "code",
   "execution_count": 18,
   "id": "9962d1c4-bab2-421b-b1a4-273eb1140cda",
   "metadata": {},
   "outputs": [
    {
     "data": {
      "image/png": "[encoded data removed]",
      "text/latex": [
       "$\\displaystyle \\frac{\\left(- 4 r^{2} \\frac{\\partial^{2}}{\\partial u\\partial r} \\beta{\\left(u,r \\right)} + r \\left(2 V{\\left(u,r \\right)} \\frac{\\partial^{2}}{\\partial r^{2}} \\beta{\\left(u,r \\right)} + 2 \\frac{\\partial}{\\partial r} V{\\left(u,r \\right)} \\frac{\\partial}{\\partial r} \\beta{\\left(u,r \\right)} + \\frac{\\partial^{2}}{\\partial r^{2}} V{\\left(u,r \\right)}\\right) - 2 V{\\left(u,r \\right)} \\frac{\\partial}{\\partial r} \\beta{\\left(u,r \\right)} - 2 e^{2 \\beta{\\left(u,r \\right)}} + 2 \\frac{\\partial}{\\partial r} V{\\left(u,r \\right)}\\right) e^{- 2 \\beta{\\left(u,r \\right)}}}{r^{2}}$"
      ],
      "text/plain": [
       "⎛          2               ⎛            2                                          2         ⎞                                           \n",
       "⎜     2   ∂                ⎜           ∂               ∂           ∂              ∂          ⎟             ∂                2⋅β(u, r)    \n",
       "⎜- 4⋅r ⋅─────(β(u, r)) + r⋅⎜2⋅V(u, r)⋅───(β(u, r)) + 2⋅──(V(u, r))⋅──(β(u, r)) + ───(V(u, r))⎟ - 2⋅V(u, r)⋅──(β(u, r)) - 2⋅ℯ          + 2\n",
       "⎜       ∂u ∂r              ⎜            2              ∂r          ∂r              2         ⎟             ∂r                            \n",
       "⎝                          ⎝          ∂r                                         ∂r          ⎠                                           \n",
       "─────────────────────────────────────────────────────────────────────────────────────────────────────────────────────────────────────────\n",
       "                                                                                 2                                                       \n",
       "                                                                                r                                                        \n",
       "\n",
       "            ⎞            \n",
       " ∂          ⎟  -2⋅β(u, r)\n",
       "⋅──(V(u, r))⎟⋅ℯ          \n",
       " ∂r         ⎟            \n",
       "            ⎠            \n",
       "─────────────────────────\n",
       "                         \n",
       "                         "
      ]
     },
     "execution_count": 18,
     "metadata": {},
     "output_type": "execute_result"
    }
   ],
   "source": [
    "R = RicciScalar.from_riccitensor(Ric)\n",
    "R.simplify()\n",
    "R.expr"
   ]
  },
  {
   "cell_type": "code",
   "execution_count": 19,
   "id": "79a836ad-2daa-43c9-90d3-51cbd57aebbf",
   "metadata": {},
   "outputs": [
    {
     "data": {
      "text/latex": [
       "$\\displaystyle \\left[\\begin{matrix}- \\frac{0.5 \\left(- 4 r^{2} \\frac{\\partial^{2}}{\\partial u\\partial r} \\beta{\\left(u,r \\right)} + r \\left(2 V{\\left(u,r \\right)} \\frac{\\partial^{2}}{\\partial r^{2}} \\beta{\\left(u,r \\right)} + 2 \\frac{\\partial}{\\partial r} V{\\left(u,r \\right)} \\frac{\\partial}{\\partial r} \\beta{\\left(u,r \\right)} + \\frac{\\partial^{2}}{\\partial r^{2}} V{\\left(u,r \\right)}\\right) - 2 V{\\left(u,r \\right)} \\frac{\\partial}{\\partial r} \\beta{\\left(u,r \\right)} - 2 e^{2 \\beta{\\left(u,r \\right)}} + 2 \\frac{\\partial}{\\partial r} V{\\left(u,r \\right)}\\right) V{\\left(u,r \\right)}}{r^{3}} + \\frac{- 2 r^{2} V{\\left(u,r \\right)} \\frac{\\partial^{2}}{\\partial u\\partial r} \\beta{\\left(u,r \\right)} + r V^{2}{\\left(u,r \\right)} \\frac{\\partial^{2}}{\\partial r^{2}} \\beta{\\left(u,r \\right)} + r V{\\left(u,r \\right)} \\frac{\\partial}{\\partial r} V{\\left(u,r \\right)} \\frac{\\partial}{\\partial r} \\beta{\\left(u,r \\right)} + \\frac{r V{\\left(u,r \\right)} \\frac{\\partial^{2}}{\\partial r^{2}} V{\\left(u,r \\right)}}{2} - 2 r V{\\left(u,r \\right)} \\frac{\\partial}{\\partial u} \\beta{\\left(u,r \\right)} + r \\frac{\\partial}{\\partial u} V{\\left(u,r \\right)} + V^{2}{\\left(u,r \\right)} \\frac{\\partial}{\\partial r} \\beta{\\left(u,r \\right)}}{r^{3}} & - 2 \\frac{\\partial^{2}}{\\partial u\\partial r} \\beta{\\left(u,r \\right)} + \\frac{V{\\left(u,r \\right)} \\frac{\\partial^{2}}{\\partial r^{2}} \\beta{\\left(u,r \\right)}}{r} + \\frac{\\frac{\\partial}{\\partial r} V{\\left(u,r \\right)} \\frac{\\partial}{\\partial r} \\beta{\\left(u,r \\right)}}{r} + \\frac{\\frac{\\partial^{2}}{\\partial r^{2}} V{\\left(u,r \\right)}}{2 r} - \\frac{0.5 \\left(- 4 r^{2} \\frac{\\partial^{2}}{\\partial u\\partial r} \\beta{\\left(u,r \\right)} + r \\left(2 V{\\left(u,r \\right)} \\frac{\\partial^{2}}{\\partial r^{2}} \\beta{\\left(u,r \\right)} + 2 \\frac{\\partial}{\\partial r} V{\\left(u,r \\right)} \\frac{\\partial}{\\partial r} \\beta{\\left(u,r \\right)} + \\frac{\\partial^{2}}{\\partial r^{2}} V{\\left(u,r \\right)}\\right) - 2 V{\\left(u,r \\right)} \\frac{\\partial}{\\partial r} \\beta{\\left(u,r \\right)} - 2 e^{2 \\beta{\\left(u,r \\right)}} + 2 \\frac{\\partial}{\\partial r} V{\\left(u,r \\right)}\\right)}{r^{2}} + \\frac{V{\\left(u,r \\right)} \\frac{\\partial}{\\partial r} \\beta{\\left(u,r \\right)}}{r^{2}} & 0 & 0\\\\- 2 \\frac{\\partial^{2}}{\\partial u\\partial r} \\beta{\\left(u,r \\right)} + \\frac{V{\\left(u,r \\right)} \\frac{\\partial^{2}}{\\partial r^{2}} \\beta{\\left(u,r \\right)}}{r} + \\frac{\\frac{\\partial}{\\partial r} V{\\left(u,r \\right)} \\frac{\\partial}{\\partial r} \\beta{\\left(u,r \\right)}}{r} + \\frac{\\frac{\\partial^{2}}{\\partial r^{2}} V{\\left(u,r \\right)}}{2 r} - \\frac{0.5 \\left(- 4 r^{2} \\frac{\\partial^{2}}{\\partial u\\partial r} \\beta{\\left(u,r \\right)} + r \\left(2 V{\\left(u,r \\right)} \\frac{\\partial^{2}}{\\partial r^{2}} \\beta{\\left(u,r \\right)} + 2 \\frac{\\partial}{\\partial r} V{\\left(u,r \\right)} \\frac{\\partial}{\\partial r} \\beta{\\left(u,r \\right)} + \\frac{\\partial^{2}}{\\partial r^{2}} V{\\left(u,r \\right)}\\right) - 2 V{\\left(u,r \\right)} \\frac{\\partial}{\\partial r} \\beta{\\left(u,r \\right)} - 2 e^{2 \\beta{\\left(u,r \\right)}} + 2 \\frac{\\partial}{\\partial r} V{\\left(u,r \\right)}\\right)}{r^{2}} + \\frac{V{\\left(u,r \\right)} \\frac{\\partial}{\\partial r} \\beta{\\left(u,r \\right)}}{r^{2}} & \\frac{4 \\frac{\\partial}{\\partial r} \\beta{\\left(u,r \\right)}}{r} & 0 & 0\\\\0 & 0 & 0.5 \\left(- 4 r^{2} \\frac{\\partial^{2}}{\\partial u\\partial r} \\beta{\\left(u,r \\right)} + r \\left(2 V{\\left(u,r \\right)} \\frac{\\partial^{2}}{\\partial r^{2}} \\beta{\\left(u,r \\right)} + 2 \\frac{\\partial}{\\partial r} V{\\left(u,r \\right)} \\frac{\\partial}{\\partial r} \\beta{\\left(u,r \\right)} + \\frac{\\partial^{2}}{\\partial r^{2}} V{\\left(u,r \\right)}\\right) - 2 V{\\left(u,r \\right)} \\frac{\\partial}{\\partial r} \\beta{\\left(u,r \\right)} - 2 e^{2 \\beta{\\left(u,r \\right)}} + 2 \\frac{\\partial}{\\partial r} V{\\left(u,r \\right)}\\right) e^{- 2 \\beta{\\left(u,r \\right)}} + 1 - e^{- 2 \\beta{\\left(u,r \\right)}} \\frac{\\partial}{\\partial r} V{\\left(u,r \\right)} & 0\\\\0 & 0 & 0 & 0.5 \\left(- 4 r^{2} \\frac{\\partial^{2}}{\\partial u\\partial r} \\beta{\\left(u,r \\right)} + r \\left(2 V{\\left(u,r \\right)} \\frac{\\partial^{2}}{\\partial r^{2}} \\beta{\\left(u,r \\right)} + 2 \\frac{\\partial}{\\partial r} V{\\left(u,r \\right)} \\frac{\\partial}{\\partial r} \\beta{\\left(u,r \\right)} + \\frac{\\partial^{2}}{\\partial r^{2}} V{\\left(u,r \\right)}\\right) - 2 V{\\left(u,r \\right)} \\frac{\\partial}{\\partial r} \\beta{\\left(u,r \\right)} - 2 e^{2 \\beta{\\left(u,r \\right)}} + 2 \\frac{\\partial}{\\partial r} V{\\left(u,r \\right)}\\right) e^{- 2 \\beta{\\left(u,r \\right)}} \\sin^{2}{\\left(\\theta \\right)} + \\sin^{2}{\\left(\\theta \\right)} - e^{- 2 \\beta{\\left(u,r \\right)}} \\sin^{2}{\\left(\\theta \\right)} \\frac{\\partial}{\\partial r} V{\\left(u,r \\right)}\\end{matrix}\\right]$"
      ],
      "text/plain": [
       "⎡                                                                                                                                        \n",
       "⎢                                                                                                                                        \n",
       "⎢                                                                                                                                        \n",
       "⎢      ⎛          2               ⎛            2                                          2         ⎞                                    \n",
       "⎢      ⎜     2   ∂                ⎜           ∂               ∂           ∂              ∂          ⎟             ∂                2⋅β(u,\n",
       "⎢  0.5⋅⎜- 4⋅r ⋅─────(β(u, r)) + r⋅⎜2⋅V(u, r)⋅───(β(u, r)) + 2⋅──(V(u, r))⋅──(β(u, r)) + ───(V(u, r))⎟ - 2⋅V(u, r)⋅──(β(u, r)) - 2⋅ℯ      \n",
       "⎢      ⎜       ∂u ∂r              ⎜            2              ∂r          ∂r              2         ⎟             ∂r                     \n",
       "⎢      ⎝                          ⎝          ∂r                                         ∂r          ⎠                                    \n",
       "⎢- ──────────────────────────────────────────────────────────────────────────────────────────────────────────────────────────────────────\n",
       "⎢                                                                                   3                                                    \n",
       "⎢                                                                                  r                                                     \n",
       "⎢                                                                                                                                        \n",
       "⎢                                                                          2                                        2                ⎛   \n",
       "⎢                                                                         ∂                                        ∂                 ⎜   \n",
       "⎢                                                                V(u, r)⋅───(β(u, r))   ∂           ∂             ───(V(u, r))   0.5⋅⎜- 4\n",
       "⎢                                                  2                       2            ──(V(u, r))⋅──(β(u, r))     2                ⎜   \n",
       "⎢                                                 ∂                      ∂r             ∂r          ∂r            ∂r                 ⎝   \n",
       "⎢                                           - 2⋅─────(β(u, r)) + ──────────────────── + ─────────────────────── + ──────────── - ────────\n",
       "⎢                                               ∂u ∂r                     r                        r                  2⋅r                \n",
       "⎢                                                                                                                                        \n",
       "⎢                                                                                                                                        \n",
       "⎢                                                                                                                                        \n",
       "⎢                                                                                                                                        \n",
       "⎢                                                                                                                                        \n",
       "⎢                                                                                                                                        \n",
       "⎢                                                                                                                                        \n",
       "⎢                                                                                                                                        \n",
       "⎢                                                                                                                                        \n",
       "⎢                                                                                                                                        \n",
       "⎢                                                                                                                                        \n",
       "⎢                                                                                                                                        \n",
       "⎣                                                                                                                                        \n",
       "\n",
       "                                                                                                                                         \n",
       "                                                                                                                                        ∂\n",
       "                                                                                                                             r⋅V(u, r)⋅──\n",
       "                   ⎞                             2                          2                                                            \n",
       " r)     ∂          ⎟                2           ∂                 2        ∂                       ∂           ∂                       ∂r\n",
       "    + 2⋅──(V(u, r))⎟⋅V(u, r)   - 2⋅r ⋅V(u, r)⋅─────(β(u, r)) + r⋅V (u, r)⋅───(β(u, r)) + r⋅V(u, r)⋅──(V(u, r))⋅──(β(u, r)) + ────────────\n",
       "        ∂r         ⎟                          ∂u ∂r                         2                      ∂r          ∂r                      2 \n",
       "                   ⎠                                                      ∂r                                                             \n",
       "──────────────────────────── + ──────────────────────────────────────────────────────────────────────────────────────────────────────────\n",
       "                                                                                                                          3              \n",
       "                                                                                                                         r               \n",
       "                                                                                                                                         \n",
       "       2               ⎛            2                                          2         ⎞                                               \n",
       "  2   ∂                ⎜           ∂               ∂           ∂              ∂          ⎟             ∂                2⋅β(u, r)     ∂  \n",
       "⋅r ⋅─────(β(u, r)) + r⋅⎜2⋅V(u, r)⋅───(β(u, r)) + 2⋅──(V(u, r))⋅──(β(u, r)) + ───(V(u, r))⎟ - 2⋅V(u, r)⋅──(β(u, r)) - 2⋅ℯ          + 2⋅──(\n",
       "    ∂u ∂r              ⎜            2              ∂r          ∂r              2         ⎟             ∂r                             ∂r \n",
       "                       ⎝          ∂r                                         ∂r          ⎠                                               \n",
       "─────────────────────────────────────────────────────────────────────────────────────────────────────────────────────────────────────────\n",
       "                                                                     2                                                                   \n",
       "                                                                    r                                                                    \n",
       "                                                                                                                                         \n",
       "                                                                                                                                         \n",
       "                                                                                                                                         \n",
       "                                     0                                                                                                   \n",
       "                                                                                                                                         \n",
       "                                                                                                                                         \n",
       "                                                                                                                                         \n",
       "                                                                                                                                         \n",
       "                                                                                                                                         \n",
       "                                     0                                                                                                   \n",
       "                                                                                                                                         \n",
       "                                                                                                                                         \n",
       "\n",
       "2                                                                                                                                        \n",
       "                                                                                                                                         \n",
       "─(V(u, r))                                                                                                                               \n",
       "2                                                                                                           2                            \n",
       "                         ∂               ∂              2       ∂                                          ∂                             \n",
       "────────── - 2⋅r⋅V(u, r)⋅──(β(u, r)) + r⋅──(V(u, r)) + V (u, r)⋅──(β(u, r))                       V(u, r)⋅───(β(u, r))   ∂           ∂   \n",
       "                         ∂u              ∂u                     ∂r                  2                       2            ──(V(u, r))⋅──(β\n",
       "                                                                                   ∂                      ∂r             ∂r          ∂r  \n",
       "───────────────────────────────────────────────────────────────────────────  - 2⋅─────(β(u, r)) + ──────────────────── + ────────────────\n",
       "                                                                                 ∂u ∂r                     r                        r    \n",
       "                                                                                                                                         \n",
       "                                                                                                                                         \n",
       "        ⎞                                                                                                                                \n",
       "        ⎟                                                                                                                                \n",
       "V(u, r))⎟           ∂                                                                                                                    \n",
       "        ⎟   V(u, r)⋅──(β(u, r))                                                                                                          \n",
       "        ⎠           ∂r                                                                                                                   \n",
       "───────── + ───────────────────                                                                                                          \n",
       "                      2                                                                                                                  \n",
       "                     r                                                                                                                   \n",
       "                                                                                                                                         \n",
       "                                                                                                                                         \n",
       "                                                                                                                                         \n",
       "                                                                                                                                         \n",
       "                                                                                                                                         \n",
       "                                                                                                                                         \n",
       "                                                                                                                                         \n",
       "                                                                                                                                         \n",
       "                                                                                                                                         \n",
       "                                                                                                                                         \n",
       "                                                                                                                                         \n",
       "                                                                                                                                         \n",
       "\n",
       "                                                                                                                                         \n",
       "                                                                                                                                         \n",
       "                                                                                                                                         \n",
       "            2                ⎛          2               ⎛            2                                          2         ⎞              \n",
       "           ∂                 ⎜     2   ∂                ⎜           ∂               ∂           ∂              ∂          ⎟             ∂\n",
       "          ───(V(u, r))   0.5⋅⎜- 4⋅r ⋅─────(β(u, r)) + r⋅⎜2⋅V(u, r)⋅───(β(u, r)) + 2⋅──(V(u, r))⋅──(β(u, r)) + ───(V(u, r))⎟ - 2⋅V(u, r)⋅─\n",
       "(u, r))     2                ⎜       ∂u ∂r              ⎜            2              ∂r          ∂r              2         ⎟             ∂\n",
       "          ∂r                 ⎝                          ⎝          ∂r                                         ∂r          ⎠              \n",
       "─────── + ──────────── - ────────────────────────────────────────────────────────────────────────────────────────────────────────────────\n",
       "              2⋅r                                                                                     2                                  \n",
       "                                                                                                     r                                   \n",
       "                                                                                                                                         \n",
       "                                                                                                                                         \n",
       "                                                                                                                                         \n",
       "                                                                  ∂                                                                      \n",
       "                                                                4⋅──(β(u, r))                                                            \n",
       "                                                                  ∂r                                                                     \n",
       "                                                                ─────────────                                                            \n",
       "                                                                      r                                                                  \n",
       "                                                                                                                                         \n",
       "                                                                                                                                         \n",
       "                                                                                                                                         \n",
       "                                                                                                                                         \n",
       "                                                                      0                                                                  \n",
       "                                                                                                                                         \n",
       "                                                                                                                                         \n",
       "                                                                                                                                         \n",
       "                                                                                                                                         \n",
       "                                                                                                                                         \n",
       "                                                                      0                                                                  \n",
       "                                                                                                                                         \n",
       "                                                                                                                                         \n",
       "\n",
       "                                                                                                                                         \n",
       "                                                                                                                                         \n",
       "                                                                                                                                         \n",
       "                                         ⎞                                                                                               \n",
       "                2⋅β(u, r)     ∂          ⎟                                                                                               \n",
       "─(β(u, r)) - 2⋅ℯ          + 2⋅──(V(u, r))⎟           ∂                                                                                   \n",
       "r                             ∂r         ⎟   V(u, r)⋅──(β(u, r))                                                                         \n",
       "                                         ⎠           ∂r                                                                                  \n",
       "────────────────────────────────────────── + ───────────────────                                                                         \n",
       "                                                       2                                                                                 \n",
       "                                                      r                                                                                  \n",
       "                                                                                                                                         \n",
       "                                                                                                                                         \n",
       "                                                                                                                                         \n",
       "                                                                                                                                         \n",
       "                                                                                                                                         \n",
       "                                                                                                                                         \n",
       "                                                                                                                                         \n",
       "                                                                                                                                         \n",
       "                                                                                                                                         \n",
       "                                                                                                                                         \n",
       "                                                                      ⎛          2               ⎛            2                          \n",
       "                                                                      ⎜     2   ∂                ⎜           ∂               ∂           \n",
       "                                                                  0.5⋅⎜- 4⋅r ⋅─────(β(u, r)) + r⋅⎜2⋅V(u, r)⋅───(β(u, r)) + 2⋅──(V(u, r))⋅\n",
       "                                                                      ⎜       ∂u ∂r              ⎜            2              ∂r          \n",
       "                                                                      ⎝                          ⎝          ∂r                           \n",
       "                                                                                                                                         \n",
       "                                                                                                                                         \n",
       "                                                                                                                                         \n",
       "                                                                                                                                         \n",
       "                                                                                                                                         \n",
       "                                                                                                                                         \n",
       "\n",
       "                                                                                                                                         \n",
       "                                                                                                                                         \n",
       "                                                                                                                                         \n",
       "                                                                                                                                         \n",
       "                                                                                                                                         \n",
       "                                                                                                                                         \n",
       "                                                                                                                                         \n",
       "                                                                                                                                         \n",
       "                          0                                                                                                              \n",
       "                                                                                                                                         \n",
       "                                                                                                                                         \n",
       "                                                                                                                                         \n",
       "                                                                                                                                         \n",
       "                                                                                                                                         \n",
       "                                                                                                                                         \n",
       "                                                                                                                                         \n",
       "                                                                                                                                         \n",
       "                          0                                                                                                              \n",
       "                                                                                                                                         \n",
       "                                                                                                                                         \n",
       "                                                                                                                                         \n",
       "                2         ⎞                                                       ⎞                                                      \n",
       "∂              ∂          ⎟             ∂                2⋅β(u, r)     ∂          ⎟  -2⋅β(u, r)        -2⋅β(u, r) ∂                      \n",
       "──(β(u, r)) + ───(V(u, r))⎟ - 2⋅V(u, r)⋅──(β(u, r)) - 2⋅ℯ          + 2⋅──(V(u, r))⎟⋅ℯ           + 1 - ℯ          ⋅──(V(u, r))            \n",
       "∂r              2         ⎟             ∂r                             ∂r         ⎟                               ∂r                     \n",
       "              ∂r          ⎠                                                       ⎠                                                      \n",
       "                                                                                                                                         \n",
       "                                                                                                                                   ⎛     \n",
       "                                                                                                                                   ⎜     \n",
       "                          0                                                                                                    0.5⋅⎜- 4⋅r\n",
       "                                                                                                                                   ⎜     \n",
       "                                                                                                                                   ⎝     \n",
       "\n",
       "                                                                                                                                         \n",
       "                                                                                                                                         \n",
       "                                                                                                                                         \n",
       "                                                                                                                                         \n",
       "                                                                                                                                         \n",
       "                                                                                                                                         \n",
       "                                                                                                                                         \n",
       "                                                                                                                                         \n",
       "                                                                                                  0                                      \n",
       "                                                                                                                                         \n",
       "                                                                                                                                         \n",
       "                                                                                                                                         \n",
       "                                                                                                                                         \n",
       "                                                                                                                                         \n",
       "                                                                                                                                         \n",
       "                                                                                                                                         \n",
       "                                                                                                                                         \n",
       "                                                                                                  0                                      \n",
       "                                                                                                                                         \n",
       "                                                                                                                                         \n",
       "                                                                                                                                         \n",
       "                                                                                                                                         \n",
       "                                                                                                                                         \n",
       "                                                                                                  0                                      \n",
       "                                                                                                                                         \n",
       "                                                                                                                                         \n",
       "                                                                                                                                         \n",
       "     2               ⎛            2                                          2         ⎞                                                 \n",
       "2   ∂                ⎜           ∂               ∂           ∂              ∂          ⎟             ∂                2⋅β(u, r)     ∂    \n",
       " ⋅─────(β(u, r)) + r⋅⎜2⋅V(u, r)⋅───(β(u, r)) + 2⋅──(V(u, r))⋅──(β(u, r)) + ───(V(u, r))⎟ - 2⋅V(u, r)⋅──(β(u, r)) - 2⋅ℯ          + 2⋅──(V(\n",
       "  ∂u ∂r              ⎜            2              ∂r          ∂r              2         ⎟             ∂r                             ∂r   \n",
       "                     ⎝          ∂r                                         ∂r          ⎠                                                 \n",
       "\n",
       "                                                                       ⎤\n",
       "                                                                       ⎥\n",
       "                                                                       ⎥\n",
       "                                                                       ⎥\n",
       "                                                                       ⎥\n",
       "                                                                       ⎥\n",
       "                                                                       ⎥\n",
       "                                                                       ⎥\n",
       "                                                                       ⎥\n",
       "                                                                       ⎥\n",
       "                                                                       ⎥\n",
       "                                                                       ⎥\n",
       "                                                                       ⎥\n",
       "                                                                       ⎥\n",
       "                                                                       ⎥\n",
       "                                                                       ⎥\n",
       "                                                                       ⎥\n",
       "                                                                       ⎥\n",
       "                                                                       ⎥\n",
       "                                                                       ⎥\n",
       "                                                                       ⎥\n",
       "                                                                       ⎥\n",
       "                                                                       ⎥\n",
       "                                                                       ⎥\n",
       "                                                                       ⎥\n",
       "                                                                       ⎥\n",
       "                                                                       ⎥\n",
       "      ⎞                                                                ⎥\n",
       "      ⎟  -2⋅β(u, r)    2         2       -2⋅β(u, r)    2    ∂          ⎥\n",
       "u, r))⎟⋅ℯ          ⋅sin (θ) + sin (θ) - ℯ          ⋅sin (θ)⋅──(V(u, r))⎥\n",
       "      ⎟                                                     ∂r         ⎥\n",
       "      ⎠                                                                ⎦"
      ]
     },
     "execution_count": 19,
     "metadata": {},
     "output_type": "execute_result"
    }
   ],
   "source": [
    "einst = EinsteinTensor.from_metric(metric)\n",
    "einst.tensor()"
   ]
  },
  {
   "cell_type": "code",
   "execution_count": 20,
   "id": "07854ddf-35f7-41ca-9a6e-a5f9b5ec5b5d",
   "metadata": {},
   "outputs": [],
   "source": [
    "# rm1 = RiemannCurvatureTensor.from_christoffels(ch)\n",
    "# rm1.tensor()"
   ]
  },
  {
   "cell_type": "code",
   "execution_count": 21,
   "id": "142ade83-a20c-4f50-80c5-bb6af2612129",
   "metadata": {},
   "outputs": [],
   "source": [
    "# weyl = WeylTensor.from_metric(metric)\n",
    "# weyl.tensor()"
   ]
  },
  {
   "cell_type": "code",
   "execution_count": 22,
   "id": "aed0f5ec-0fdc-44f8-9e9d-769dc353f259",
   "metadata": {},
   "outputs": [
    {
     "data": {
      "text/latex": [
       "$\\displaystyle \\left[\\begin{matrix}\\frac{- 2 r^{2} V{\\left(u,r \\right)} \\frac{\\partial^{2}}{\\partial u\\partial r} \\beta{\\left(u,r \\right)} + r V^{2}{\\left(u,r \\right)} \\frac{\\partial^{2}}{\\partial r^{2}} \\beta{\\left(u,r \\right)} + r V{\\left(u,r \\right)} \\frac{\\partial}{\\partial r} V{\\left(u,r \\right)} \\frac{\\partial}{\\partial r} \\beta{\\left(u,r \\right)} + \\frac{r V{\\left(u,r \\right)} \\frac{\\partial^{2}}{\\partial r^{2}} V{\\left(u,r \\right)}}{2} - 2 r V{\\left(u,r \\right)} \\frac{\\partial}{\\partial u} \\beta{\\left(u,r \\right)} + r \\frac{\\partial}{\\partial u} V{\\left(u,r \\right)} + V^{2}{\\left(u,r \\right)} \\frac{\\partial}{\\partial r} \\beta{\\left(u,r \\right)}}{r^{3}} & - 2 \\frac{\\partial^{2}}{\\partial u\\partial r} \\beta{\\left(u,r \\right)} + \\frac{V{\\left(u,r \\right)} \\frac{\\partial^{2}}{\\partial r^{2}} \\beta{\\left(u,r \\right)}}{r} + \\frac{\\frac{\\partial}{\\partial r} V{\\left(u,r \\right)} \\frac{\\partial}{\\partial r} \\beta{\\left(u,r \\right)}}{r} + \\frac{\\frac{\\partial^{2}}{\\partial r^{2}} V{\\left(u,r \\right)}}{2 r} + \\frac{V{\\left(u,r \\right)} \\frac{\\partial}{\\partial r} \\beta{\\left(u,r \\right)}}{r^{2}} & 0 & 0\\\\- 2 \\frac{\\partial^{2}}{\\partial u\\partial r} \\beta{\\left(u,r \\right)} + \\frac{V{\\left(u,r \\right)} \\frac{\\partial^{2}}{\\partial r^{2}} \\beta{\\left(u,r \\right)}}{r} + \\frac{\\frac{\\partial}{\\partial r} V{\\left(u,r \\right)} \\frac{\\partial}{\\partial r} \\beta{\\left(u,r \\right)}}{r} + \\frac{\\frac{\\partial^{2}}{\\partial r^{2}} V{\\left(u,r \\right)}}{2 r} + \\frac{V{\\left(u,r \\right)} \\frac{\\partial}{\\partial r} \\beta{\\left(u,r \\right)}}{r^{2}} & \\frac{4 \\frac{\\partial}{\\partial r} \\beta{\\left(u,r \\right)}}{r} & 0 & 0\\\\0 & 0 & 1 - e^{- 2 \\beta{\\left(u,r \\right)}} \\frac{\\partial}{\\partial r} V{\\left(u,r \\right)} & 0\\\\0 & 0 & 0 & \\sin^{2}{\\left(\\theta \\right)} - e^{- 2 \\beta{\\left(u,r \\right)}} \\sin^{2}{\\left(\\theta \\right)} \\frac{\\partial}{\\partial r} V{\\left(u,r \\right)}\\end{matrix}\\right]$"
      ],
      "text/plain": [
       "⎡                                                                                                          2                             \n",
       "⎢                                                                                                         ∂                              \n",
       "⎢                                                                                              r⋅V(u, r)⋅───(V(u, r))                    \n",
       "⎢                  2                          2                                                            2                             \n",
       "⎢     2           ∂                 2        ∂                       ∂           ∂                       ∂r                         ∂    \n",
       "⎢- 2⋅r ⋅V(u, r)⋅─────(β(u, r)) + r⋅V (u, r)⋅───(β(u, r)) + r⋅V(u, r)⋅──(V(u, r))⋅──(β(u, r)) + ────────────────────── - 2⋅r⋅V(u, r)⋅──(β(\n",
       "⎢               ∂u ∂r                         2                      ∂r          ∂r                      2                          ∂u   \n",
       "⎢                                           ∂r                                                                                           \n",
       "⎢────────────────────────────────────────────────────────────────────────────────────────────────────────────────────────────────────────\n",
       "⎢                                                                                           3                                            \n",
       "⎢                                                                                          r                                             \n",
       "⎢                                                                                                                                        \n",
       "⎢                                                                     2                                        2                         \n",
       "⎢                                                                    ∂                                        ∂                          \n",
       "⎢                                                           V(u, r)⋅───(β(u, r))   ∂           ∂             ───(V(u, r))           ∂    \n",
       "⎢                                             2                       2            ──(V(u, r))⋅──(β(u, r))     2            V(u, r)⋅──(β(\n",
       "⎢                                            ∂                      ∂r             ∂r          ∂r            ∂r                     ∂r   \n",
       "⎢                                      - 2⋅─────(β(u, r)) + ──────────────────── + ─────────────────────── + ──────────── + ─────────────\n",
       "⎢                                          ∂u ∂r                     r                        r                  2⋅r                  2  \n",
       "⎢                                                                                                                                    r   \n",
       "⎢                                                                                                                                        \n",
       "⎢                                                                                                                                        \n",
       "⎢                                                                                          0                                             \n",
       "⎢                                                                                                                                        \n",
       "⎢                                                                                                                                        \n",
       "⎢                                                                                                                                        \n",
       "⎢                                                                                          0                                             \n",
       "⎣                                                                                                                                        \n",
       "\n",
       "                                                                                                                                         \n",
       "                                                                                                                                         \n",
       "                                                                                                                                         \n",
       "                                                                              2                                        2                 \n",
       "           ∂              2       ∂                                          ∂                                        ∂                  \n",
       "u, r)) + r⋅──(V(u, r)) + V (u, r)⋅──(β(u, r))                       V(u, r)⋅───(β(u, r))   ∂           ∂             ───(V(u, r))        \n",
       "           ∂u                     ∂r                  2                       2            ──(V(u, r))⋅──(β(u, r))     2            V(u, \n",
       "                                                     ∂                      ∂r             ∂r          ∂r            ∂r                  \n",
       "─────────────────────────────────────────────  - 2⋅─────(β(u, r)) + ──────────────────── + ─────────────────────── + ──────────── + ─────\n",
       "                                                   ∂u ∂r                     r                        r                  2⋅r             \n",
       "                                                                                                                                         \n",
       "                                                                                                                                         \n",
       "                                                                                                                                         \n",
       "                                                                                                                                         \n",
       "                                                                                              ∂                                          \n",
       "u, r))                                                                                      4⋅──(β(u, r))                                \n",
       "                                                                                              ∂r                                         \n",
       "──────                                                                                      ─────────────                                \n",
       "                                                                                                  r                                      \n",
       "                                                                                                                                         \n",
       "                                                                                                                                         \n",
       "                                                                                                                                         \n",
       "                                                                                                  0                                      \n",
       "                                                                                                                                         \n",
       "                                                                                                                                         \n",
       "                                                                                                                                         \n",
       "                                                                                                  0                                      \n",
       "                                                                                                                                         \n",
       "\n",
       "                                                                                      ⎤\n",
       "                                                                                      ⎥\n",
       "                                                                                      ⎥\n",
       "                                                                                      ⎥\n",
       "                                                                                      ⎥\n",
       "   ∂                                                                                  ⎥\n",
       "r)⋅──(β(u, r))                                                                        ⎥\n",
       "   ∂r                                                                                 ⎥\n",
       "──────────────               0                                   0                    ⎥\n",
       "     2                                                                                ⎥\n",
       "    r                                                                                 ⎥\n",
       "                                                                                      ⎥\n",
       "                                                                                      ⎥\n",
       "                                                                                      ⎥\n",
       "                                                                                      ⎥\n",
       "                                                                                      ⎥\n",
       "                                                                                      ⎥\n",
       "                             0                                   0                    ⎥\n",
       "                                                                                      ⎥\n",
       "                                                                                      ⎥\n",
       "                                                                                      ⎥\n",
       "                     -2⋅β(u, r) ∂                                                     ⎥\n",
       "                1 - ℯ          ⋅──(V(u, r))                      0                    ⎥\n",
       "                                ∂r                                                    ⎥\n",
       "                                                                                      ⎥\n",
       "                                                2       -2⋅β(u, r)    2    ∂          ⎥\n",
       "                             0               sin (θ) - ℯ          ⋅sin (θ)⋅──(V(u, r))⎥\n",
       "                                                                           ∂r         ⎦"
      ]
     },
     "execution_count": 22,
     "metadata": {},
     "output_type": "execute_result"
    }
   ],
   "source": [
    "ricciSimplified = simplify(Ric.tensor())\n",
    "ricciSimplified"
   ]
  },
  {
   "cell_type": "code",
   "execution_count": 23,
   "id": "7f818b57-423e-4c6b-be24-433fa8ee8408",
   "metadata": {},
   "outputs": [
    {
     "data": {
      "text/latex": [
       "$\\displaystyle \\left[\\begin{matrix}\\frac{- 2 r V{\\left(u,r \\right)} \\frac{\\partial}{\\partial u} \\beta{\\left(u,r \\right)} + r \\frac{\\partial}{\\partial u} V{\\left(u,r \\right)} + 2 V^{2}{\\left(u,r \\right)} \\frac{\\partial}{\\partial r} \\beta{\\left(u,r \\right)} + V{\\left(u,r \\right)} e^{2 \\beta{\\left(u,r \\right)}} - V{\\left(u,r \\right)} \\frac{\\partial}{\\partial r} V{\\left(u,r \\right)}}{r^{3}} & \\frac{0.5 \\left(4.0 V{\\left(u,r \\right)} \\frac{\\partial}{\\partial r} \\beta{\\left(u,r \\right)} + 2.0 e^{2 \\beta{\\left(u,r \\right)}} - 2.0 \\frac{\\partial}{\\partial r} V{\\left(u,r \\right)}\\right)}{r^{2}} & 0 & 0\\\\\\frac{0.5 \\left(4.0 V{\\left(u,r \\right)} \\frac{\\partial}{\\partial r} \\beta{\\left(u,r \\right)} + 2.0 e^{2 \\beta{\\left(u,r \\right)}} - 2.0 \\frac{\\partial}{\\partial r} V{\\left(u,r \\right)}\\right)}{r^{2}} & \\frac{4 \\frac{\\partial}{\\partial r} \\beta{\\left(u,r \\right)}}{r} & 0 & 0\\\\0 & 0 & \\left(- 2.0 r^{2} \\frac{\\partial^{2}}{\\partial u\\partial r} \\beta{\\left(u,r \\right)} + 0.5 r \\left(2 V{\\left(u,r \\right)} \\frac{\\partial^{2}}{\\partial r^{2}} \\beta{\\left(u,r \\right)} + 2 \\frac{\\partial}{\\partial r} V{\\left(u,r \\right)} \\frac{\\partial}{\\partial r} \\beta{\\left(u,r \\right)} + \\frac{\\partial^{2}}{\\partial r^{2}} V{\\left(u,r \\right)}\\right) - 1.0 V{\\left(u,r \\right)} \\frac{\\partial}{\\partial r} \\beta{\\left(u,r \\right)}\\right) e^{- 2 \\beta{\\left(u,r \\right)}} & 0\\\\0 & 0 & 0 & \\left(- 2.0 r^{2} \\frac{\\partial^{2}}{\\partial u\\partial r} \\beta{\\left(u,r \\right)} + 0.5 r \\left(2 V{\\left(u,r \\right)} \\frac{\\partial^{2}}{\\partial r^{2}} \\beta{\\left(u,r \\right)} + 2 \\frac{\\partial}{\\partial r} V{\\left(u,r \\right)} \\frac{\\partial}{\\partial r} \\beta{\\left(u,r \\right)} + \\frac{\\partial^{2}}{\\partial r^{2}} V{\\left(u,r \\right)}\\right) - 1.0 V{\\left(u,r \\right)} \\frac{\\partial}{\\partial r} \\beta{\\left(u,r \\right)}\\right) e^{- 2 \\beta{\\left(u,r \\right)}} \\sin^{2}{\\left(\\theta \\right)}\\end{matrix}\\right]$"
      ],
      "text/plain": [
       "⎡              ∂               ∂                2       ∂                      2⋅β(u, r)           ∂                ⎛            ∂       \n",
       "⎢- 2⋅r⋅V(u, r)⋅──(β(u, r)) + r⋅──(V(u, r)) + 2⋅V (u, r)⋅──(β(u, r)) + V(u, r)⋅ℯ          - V(u, r)⋅──(V(u, r))  0.5⋅⎜4.0⋅V(u, r)⋅──(β(u, \n",
       "⎢              ∂u              ∂u                       ∂r                                         ∂r               ⎝            ∂r      \n",
       "⎢─────────────────────────────────────────────────────────────────────────────────────────────────────────────  ─────────────────────────\n",
       "⎢                                                       3                                                                                \n",
       "⎢                                                      r                                                                                 \n",
       "⎢                                                                                                                                        \n",
       "⎢                          ⎛            ∂                  2⋅β(u, r)       ∂          ⎞                                                  \n",
       "⎢                      0.5⋅⎜4.0⋅V(u, r)⋅──(β(u, r)) + 2.0⋅ℯ          - 2.0⋅──(V(u, r))⎟                                                  \n",
       "⎢                          ⎝            ∂r                                 ∂r         ⎠                                                  \n",
       "⎢                      ────────────────────────────────────────────────────────────────                                                  \n",
       "⎢                                                      2                                                                                 \n",
       "⎢                                                     r                                                                                  \n",
       "⎢                                                                                                                                        \n",
       "⎢                                                                                                                                        \n",
       "⎢                                                                                                                                        \n",
       "⎢                                                      0                                                                                 \n",
       "⎢                                                                                                                                        \n",
       "⎢                                                                                                                                        \n",
       "⎢                                                                                                                                        \n",
       "⎢                                                                                                                                        \n",
       "⎢                                                                                                                                        \n",
       "⎢                                                      0                                                                                 \n",
       "⎢                                                                                                                                        \n",
       "⎣                                                                                                                                        \n",
       "\n",
       "           2⋅β(u, r)       ∂          ⎞                                                                                                  \n",
       "r)) + 2.0⋅ℯ          - 2.0⋅──(V(u, r))⎟                                                                                                  \n",
       "                           ∂r         ⎠                                                                                                  \n",
       "───────────────────────────────────────                                                                     0                            \n",
       "       2                                                                                                                                 \n",
       "      r                                                                                                                                  \n",
       "                                                                                                                                         \n",
       "  ∂                                                                                                                                      \n",
       "4⋅──(β(u, r))                                                                                                                            \n",
       "  ∂r                                                                                                                                     \n",
       "─────────────                                                                                               0                            \n",
       "      r                                                                                                                                  \n",
       "                                                                                                                                         \n",
       "                                                                                                                                         \n",
       "                                         ⎛            2                   ⎛            2                                          2      \n",
       "                                         ⎜       2   ∂                    ⎜           ∂               ∂           ∂              ∂       \n",
       "      0                                  ⎜- 2.0⋅r ⋅─────(β(u, r)) + 0.5⋅r⋅⎜2⋅V(u, r)⋅───(β(u, r)) + 2⋅──(V(u, r))⋅──(β(u, r)) + ───(V(u, \n",
       "                                         ⎜         ∂u ∂r                  ⎜            2              ∂r          ∂r              2      \n",
       "                                         ⎝                                ⎝          ∂r                                         ∂r       \n",
       "                                                                                                                                         \n",
       "                                                                                                                                         \n",
       "                                                                                                                                         \n",
       "      0                                                                                                     0                            \n",
       "                                                                                                                                         \n",
       "                                                                                                                                         \n",
       "\n",
       "                                                                                                                                         \n",
       "                                                                                                                                         \n",
       "                                                                                                                                         \n",
       "                                                                                                                0                        \n",
       "                                                                                                                                         \n",
       "                                                                                                                                         \n",
       "                                                                                                                                         \n",
       "                                                                                                                                         \n",
       "                                                                                                                                         \n",
       "                                                                                                                                         \n",
       "                                                                                                                0                        \n",
       "                                                                                                                                         \n",
       "                                                                                                                                         \n",
       "                                                                                                                                         \n",
       "   ⎞                      ⎞                                                                                                              \n",
       "   ⎟           ∂          ⎟  -2⋅β(u, r)                                                                                                  \n",
       "r))⎟ - V(u, r)⋅──(β(u, r))⎟⋅ℯ                                                                                   0                        \n",
       "   ⎟           ∂r         ⎟                                                                                                              \n",
       "   ⎠                      ⎠                                                                                                              \n",
       "                                                                                                                                         \n",
       "                                         ⎛            2                   ⎛            2                                          2      \n",
       "                                         ⎜       2   ∂                    ⎜           ∂               ∂           ∂              ∂       \n",
       "                                         ⎜- 2.0⋅r ⋅─────(β(u, r)) + 0.5⋅r⋅⎜2⋅V(u, r)⋅───(β(u, r)) + 2⋅──(V(u, r))⋅──(β(u, r)) + ───(V(u, \n",
       "                                         ⎜         ∂u ∂r                  ⎜            2              ∂r          ∂r              2      \n",
       "                                         ⎝                                ⎝          ∂r                                         ∂r       \n",
       "\n",
       "                                               ⎤\n",
       "                                               ⎥\n",
       "                                               ⎥\n",
       "                                               ⎥\n",
       "                                               ⎥\n",
       "                                               ⎥\n",
       "                                               ⎥\n",
       "                                               ⎥\n",
       "                                               ⎥\n",
       "                                               ⎥\n",
       "                                               ⎥\n",
       "                                               ⎥\n",
       "                                               ⎥\n",
       "                                               ⎥\n",
       "                                               ⎥\n",
       "                                               ⎥\n",
       "                                               ⎥\n",
       "                                               ⎥\n",
       "                                               ⎥\n",
       "                                               ⎥\n",
       "   ⎞                      ⎞                    ⎥\n",
       "   ⎟           ∂          ⎟  -2⋅β(u, r)    2   ⎥\n",
       "r))⎟ - V(u, r)⋅──(β(u, r))⎟⋅ℯ          ⋅sin (θ)⎥\n",
       "   ⎟           ∂r         ⎟                    ⎥\n",
       "   ⎠                      ⎠                    ⎦"
      ]
     },
     "execution_count": 23,
     "metadata": {},
     "output_type": "execute_result"
    }
   ],
   "source": [
    "einsteinSimplifed = simplify(einst.tensor())\n",
    "einsteinSimplifed"
   ]
  },
  {
   "cell_type": "code",
   "execution_count": null,
   "id": "46082407-7ddb-487b-bde1-6396cfbc08db",
   "metadata": {},
   "outputs": [],
   "source": []
  }
 ],
 "metadata": {
  "kernelspec": {
   "display_name": "Python 3 (ipykernel)",
   "language": "python",
   "name": "python3"
  },
  "language_info": {
   "codemirror_mode": {
    "name": "ipython",
    "version": 3
   },
   "file_extension": ".py",
   "mimetype": "text/x-python",
   "name": "python",
   "nbconvert_exporter": "python",
   "pygments_lexer": "ipython3",
   "version": "3.8.8"
  }
 },
 "nbformat": 4,
 "nbformat_minor": 5
}
