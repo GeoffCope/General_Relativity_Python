{
 "cells": [
  {
   "cell_type": "markdown",
   "id": "589be9b1",
   "metadata": {},
   "source": [
    "# Plane Symmetric Cosmologies by Centrella & Matzner\n",
    "##  Geoff Cope\n",
    "##  Univeristy of Utah\n",
    "##  December 26, 2021"
   ]
  },
  {
   "cell_type": "markdown",
   "id": "b1f21e47",
   "metadata": {},
   "source": [
    "https://ui.adsabs.harvard.edu/abs/1979ApJ...230..311C/abstract"
   ]
  },
  {
   "cell_type": "markdown",
   "id": "2a966aa3",
   "metadata": {},
   "source": [
    "Here we focus on metric 6.3 and will calculate the others at a later time."
   ]
  },
  {
   "cell_type": "code",
   "execution_count": 1,
   "id": "a7d4441a",
   "metadata": {},
   "outputs": [
    {
     "name": "stdout",
     "output_type": "stream",
     "text": [
      "IPython console for SymPy 1.9 (Python 3.8.8-64-bit) (ground types: gmpy)\n",
      "\n",
      "These commands were executed:\n",
      ">>> from __future__ import division\n",
      ">>> from sympy import *\n",
      ">>> x, y, z, t = symbols('x y z t')\n",
      ">>> k, m, n = symbols('k m n', integer=True)\n",
      ">>> f, g, h = symbols('f g h', cls=Function)\n",
      ">>> init_printing()\n",
      "\n",
      "Documentation can be found at https://docs.sympy.org/1.9/\n",
      "\n"
     ]
    }
   ],
   "source": [
    "from sympy import init_session\n",
    "init_session(use_latex=True)"
   ]
  },
  {
   "cell_type": "code",
   "execution_count": 2,
   "id": "3eadec1e",
   "metadata": {},
   "outputs": [],
   "source": [
    "import warnings\n",
    "import matplotlib.cbook\n",
    "warnings.filterwarnings(\"ignore\",category=matplotlib.cbook.mplDeprecation)"
   ]
  },
  {
   "cell_type": "code",
   "execution_count": 3,
   "id": "cbde2731",
   "metadata": {},
   "outputs": [],
   "source": [
    "U,V,x,y,dU,dV,dx,dy = symbols( 'U V x y dU dV dx dy' ) "
   ]
  },
  {
   "cell_type": "code",
   "execution_count": 4,
   "id": "93e38dfe",
   "metadata": {},
   "outputs": [
    {
     "data": {
      "image/png": "[encoded data removed]",
      "text/latex": [
       "$\\displaystyle \\gamma{\\left(U,V \\right)}$"
      ],
      "text/plain": [
       "γ(U, V)"
      ]
     },
     "execution_count": 4,
     "metadata": {},
     "output_type": "execute_result"
    }
   ],
   "source": [
    "gamma = Function('gamma')(U,V)\n",
    "gamma"
   ]
  },
  {
   "cell_type": "code",
   "execution_count": 5,
   "id": "b7a62664",
   "metadata": {},
   "outputs": [
    {
     "data": {
      "image/png": "[encoded data removed]",
      "text/latex": [
       "$\\displaystyle \\psi{\\left(U,V \\right)}$"
      ],
      "text/plain": [
       "ψ(U, V)"
      ]
     },
     "execution_count": 5,
     "metadata": {},
     "output_type": "execute_result"
    }
   ],
   "source": [
    "psi = Function('psi')(U,V)\n",
    "psi"
   ]
  },
  {
   "cell_type": "code",
   "execution_count": 6,
   "id": "1a15dc9e",
   "metadata": {},
   "outputs": [
    {
     "data": {
      "text/latex": [
       "$\\displaystyle \\left[\\begin{matrix}U\\\\V\\\\x\\\\y\\end{matrix}\\right]$"
      ],
      "text/plain": [
       "⎡U⎤\n",
       "⎢ ⎥\n",
       "⎢V⎥\n",
       "⎢ ⎥\n",
       "⎢x⎥\n",
       "⎢ ⎥\n",
       "⎣y⎦"
      ]
     },
     "execution_count": 6,
     "metadata": {},
     "output_type": "execute_result"
    }
   ],
   "source": [
    "variables = Matrix( [U,V,x,y] )\n",
    "variables"
   ]
  },
  {
   "cell_type": "code",
   "execution_count": 7,
   "id": "4a8bdb49",
   "metadata": {},
   "outputs": [
    {
     "data": {
      "text/latex": [
       "$\\displaystyle \\left[\\begin{matrix}dU\\\\dV\\\\dx\\\\dy\\end{matrix}\\right]$"
      ],
      "text/plain": [
       "⎡dU⎤\n",
       "⎢  ⎥\n",
       "⎢dV⎥\n",
       "⎢  ⎥\n",
       "⎢dx⎥\n",
       "⎢  ⎥\n",
       "⎣dy⎦"
      ]
     },
     "execution_count": 7,
     "metadata": {},
     "output_type": "execute_result"
    }
   ],
   "source": [
    "differentials = Matrix( [dU,dV,dx,dy] )\n",
    "differentials"
   ]
  },
  {
   "cell_type": "code",
   "execution_count": 9,
   "id": "3a7fe490",
   "metadata": {},
   "outputs": [
    {
     "data": {
      "image/png": "[encoded data removed]",
      "text/latex": [
       "$\\displaystyle 0.25 U^{2} dy^{2} e^{- \\psi{\\left(U,V \\right)}} + 0.5 U V dy^{2} e^{- \\psi{\\left(U,V \\right)}} + 0.25 V^{2} dy^{2} e^{- \\psi{\\left(U,V \\right)}} - 1.0 dU dV e^{\\gamma{\\left(U,V \\right)}} e^{- \\psi{\\left(U,V \\right)}} + 1.0 dx^{2} e^{\\psi{\\left(U,V \\right)}}$"
      ],
      "text/plain": [
       "      2   2  -ψ(U, V)             2  -ψ(U, V)         2   2  -ψ(U, V)          γ(U, V)  -ψ(U\n",
       "0.25⋅U ⋅dy ⋅ℯ         + 0.5⋅U⋅V⋅dy ⋅ℯ         + 0.25⋅V ⋅dy ⋅ℯ         - dU⋅dV⋅ℯ       ⋅ℯ    \n",
       "\n",
       ", V)         2  ψ(U, V)\n",
       "     + 1.0⋅dx ⋅ℯ       "
      ]
     },
     "execution_count": 9,
     "metadata": {},
     "output_type": "execute_result"
    }
   ],
   "source": [
    "lineElement = expand((1/4)*(exp(-psi))*(-4*dU*dV*exp(gamma) + 4*exp(2*psi)*dx**2 + dy**2*(U+V)**2 ) )\n",
    "lineElement"
   ]
  },
  {
   "cell_type": "code",
   "execution_count": 11,
   "id": "c5607d59",
   "metadata": {},
   "outputs": [
    {
     "data": {
      "text/latex": [
       "$\\displaystyle \\left[\\begin{matrix}0 & - 0.5 e^{\\gamma{\\left(U,V \\right)} - \\psi{\\left(U,V \\right)}} & 0 & 0\\\\- 0.5 e^{\\gamma{\\left(U,V \\right)} - \\psi{\\left(U,V \\right)}} & 0 & 0 & 0\\\\0 & 0 & 1.0 e^{\\psi{\\left(U,V \\right)}} & 0\\\\0 & 0 & 0 & \\left(0.25 U^{2} + 0.5 U V + 0.25 V^{2}\\right) e^{- \\psi{\\left(U,V \\right)}}\\end{matrix}\\right]$"
      ],
      "text/plain": [
       "⎡                               γ(U, V) - ψ(U, V)                                           \n",
       "⎢           0             -0.5⋅ℯ                        0                           0       \n",
       "⎢                                                                                           \n",
       "⎢      γ(U, V) - ψ(U, V)                                                                    \n",
       "⎢-0.5⋅ℯ                              0                  0                           0       \n",
       "⎢                                                                                           \n",
       "⎢                                                       ψ(U, V)                             \n",
       "⎢           0                        0             1.0⋅ℯ                            0       \n",
       "⎢                                                                                           \n",
       "⎢                                                                ⎛      2                   \n",
       "⎣           0                        0                  0        ⎝0.25⋅U  + 0.5⋅U⋅V + 0.25⋅V\n",
       "\n",
       "            ⎤\n",
       "            ⎥\n",
       "            ⎥\n",
       "            ⎥\n",
       "            ⎥\n",
       "            ⎥\n",
       "            ⎥\n",
       "            ⎥\n",
       "            ⎥\n",
       "2⎞  -ψ(U, V)⎥\n",
       " ⎠⋅ℯ        ⎦"
      ]
     },
     "execution_count": 11,
     "metadata": {},
     "output_type": "execute_result"
    }
   ],
   "source": [
    "g = zeros(4)\n",
    "\n",
    "for i in range(4):\n",
    "    for j in range(4):\n",
    "        if i == j:\n",
    "            g[i,j] = lineElement.coeff( differentials[i],2 ) \n",
    "        else:\n",
    "            g[i,j] = Rational(1,2)*lineElement.coeff( differentials[i]*differentials[j],1 )\n",
    "            \n",
    "simplify(g)"
   ]
  },
  {
   "cell_type": "code",
   "execution_count": 12,
   "id": "69d98335",
   "metadata": {},
   "outputs": [],
   "source": [
    "import sympy"
   ]
  },
  {
   "cell_type": "code",
   "execution_count": 13,
   "id": "2c684280",
   "metadata": {},
   "outputs": [
    {
     "data": {
      "text/latex": [
       "$\\displaystyle \\left[\\begin{matrix}0 & - 0.5 e^{\\gamma{\\left(U,V \\right)}} e^{- \\psi{\\left(U,V \\right)}} & 0 & 0\\\\- 0.5 e^{\\gamma{\\left(U,V \\right)}} e^{- \\psi{\\left(U,V \\right)}} & 0 & 0 & 0\\\\0 & 0 & 1.0 e^{\\psi{\\left(U,V \\right)}} & 0\\\\0 & 0 & 0 & 0.25 U^{2} e^{- \\psi{\\left(U,V \\right)}} + 0.5 U V e^{- \\psi{\\left(U,V \\right)}} + 0.25 V^{2} e^{- \\psi{\\left(U,V \\right)}}\\end{matrix}\\right]$"
      ],
      "text/plain": [
       "⎡                               γ(U, V)  -ψ(U, V)                                           \n",
       "⎢           0             -0.5⋅ℯ       ⋅ℯ               0                                   \n",
       "⎢                                                                                           \n",
       "⎢      γ(U, V)  -ψ(U, V)                                                                    \n",
       "⎢-0.5⋅ℯ       ⋅ℯ                     0                  0                                   \n",
       "⎢                                                                                           \n",
       "⎢                                                       ψ(U, V)                             \n",
       "⎢           0                        0             1.0⋅ℯ                                    \n",
       "⎢                                                                                           \n",
       "⎢                                                                      2  -ψ(U, V)          \n",
       "⎣           0                        0                  0        0.25⋅U ⋅ℯ         + 0.5⋅U⋅V\n",
       "\n",
       "                              ⎤\n",
       " 0                            ⎥\n",
       "                              ⎥\n",
       "                              ⎥\n",
       " 0                            ⎥\n",
       "                              ⎥\n",
       "                              ⎥\n",
       " 0                            ⎥\n",
       "                              ⎥\n",
       "  -ψ(U, V)         2  -ψ(U, V)⎥\n",
       "⋅ℯ         + 0.25⋅V ⋅ℯ        ⎦"
      ]
     },
     "execution_count": 13,
     "metadata": {},
     "output_type": "execute_result"
    }
   ],
   "source": [
    "m = sympy.Array(g)\n",
    "m"
   ]
  },
  {
   "cell_type": "code",
   "execution_count": 14,
   "id": "ebec6c2a",
   "metadata": {},
   "outputs": [],
   "source": [
    "from einsteinpy.symbolic import *"
   ]
  },
  {
   "cell_type": "code",
   "execution_count": 15,
   "id": "459173ab",
   "metadata": {},
   "outputs": [],
   "source": [
    "syms = sympy.symbols(\"U V x y\")\n",
    "U,V,x,y = syms"
   ]
  },
  {
   "cell_type": "code",
   "execution_count": 16,
   "id": "815d1a6b",
   "metadata": {},
   "outputs": [],
   "source": [
    "metric = MetricTensor(m,syms)"
   ]
  },
  {
   "cell_type": "code",
   "execution_count": 17,
   "id": "4d6c4f2c",
   "metadata": {},
   "outputs": [
    {
     "data": {
      "text/latex": [
       "$\\displaystyle \\left[\\begin{matrix}\\left[\\begin{matrix}1.0 \\frac{\\partial}{\\partial U} \\gamma{\\left(U,V \\right)} - 1.0 \\frac{\\partial}{\\partial U} \\psi{\\left(U,V \\right)} & 0 & 0 & 0\\\\0 & 0 & 0 & 0\\\\0 & 0 & 1.0 e^{- \\gamma{\\left(U,V \\right)} + 2 \\psi{\\left(U,V \\right)}} \\frac{\\partial}{\\partial V} \\psi{\\left(U,V \\right)} & 0\\\\0 & 0 & 0 & \\left(- 0.25 U^{2} \\frac{\\partial}{\\partial V} \\psi{\\left(U,V \\right)} - 0.5 U V \\frac{\\partial}{\\partial V} \\psi{\\left(U,V \\right)} + 0.5 U - 0.25 V^{2} \\frac{\\partial}{\\partial V} \\psi{\\left(U,V \\right)} + 0.5 V\\right) e^{- \\gamma{\\left(U,V \\right)}}\\end{matrix}\\right] & \\left[\\begin{matrix}0 & 0 & 0 & 0\\\\0 & 1.0 \\frac{\\partial}{\\partial V} \\gamma{\\left(U,V \\right)} - 1.0 \\frac{\\partial}{\\partial V} \\psi{\\left(U,V \\right)} & 0 & 0\\\\0 & 0 & 1.0 e^{- \\gamma{\\left(U,V \\right)} + 2 \\psi{\\left(U,V \\right)}} \\frac{\\partial}{\\partial U} \\psi{\\left(U,V \\right)} & 0\\\\0 & 0 & 0 & \\left(- 0.25 U^{2} \\frac{\\partial}{\\partial U} \\psi{\\left(U,V \\right)} - 0.5 U V \\frac{\\partial}{\\partial U} \\psi{\\left(U,V \\right)} + 0.5 U - 0.25 V^{2} \\frac{\\partial}{\\partial U} \\psi{\\left(U,V \\right)} + 0.5 V\\right) e^{- \\gamma{\\left(U,V \\right)}}\\end{matrix}\\right] & \\left[\\begin{matrix}0 & 0 & 0.5 \\frac{\\partial}{\\partial U} \\psi{\\left(U,V \\right)} & 0\\\\0 & 0 & 0.5 \\frac{\\partial}{\\partial V} \\psi{\\left(U,V \\right)} & 0\\\\0.5 \\frac{\\partial}{\\partial U} \\psi{\\left(U,V \\right)} & 0.5 \\frac{\\partial}{\\partial V} \\psi{\\left(U,V \\right)} & 0 & 0\\\\0 & 0 & 0 & 0\\end{matrix}\\right] & \\left[\\begin{matrix}0 & 0 & 0 & \\frac{4.0 \\left(- 0.125 U \\frac{\\partial}{\\partial U} \\psi{\\left(U,V \\right)} - 0.125 V \\frac{\\partial}{\\partial U} \\psi{\\left(U,V \\right)} + 0.25\\right)}{U + V}\\\\0 & 0 & 0 & \\frac{4.0 \\left(- 0.125 U \\frac{\\partial}{\\partial V} \\psi{\\left(U,V \\right)} - 0.125 V \\frac{\\partial}{\\partial V} \\psi{\\left(U,V \\right)} + 0.25\\right)}{U + V}\\\\0 & 0 & 0 & 0\\\\\\frac{4.0 \\left(- 0.125 U \\frac{\\partial}{\\partial U} \\psi{\\left(U,V \\right)} - 0.125 V \\frac{\\partial}{\\partial U} \\psi{\\left(U,V \\right)} + 0.25\\right)}{U + V} & \\frac{4.0 \\left(- 0.125 U \\frac{\\partial}{\\partial V} \\psi{\\left(U,V \\right)} - 0.125 V \\frac{\\partial}{\\partial V} \\psi{\\left(U,V \\right)} + 0.25\\right)}{U + V} & 0 & 0\\end{matrix}\\right]\\end{matrix}\\right]$"
      ],
      "text/plain": [
       "⎡                                                                                           \n",
       "⎢                                                                                           \n",
       "⎢                                                                                           \n",
       "⎢⎡    ∂             ∂                                                                       \n",
       "⎢⎢1.0⋅──(γ(U, V)) - ──(ψ(U, V))  0                    0                                     \n",
       "⎢⎢    ∂U            ∂U                                                                      \n",
       "⎢⎢                                                                                          \n",
       "⎢⎢              0                0                    0                                     \n",
       "⎢⎢                                                                                          \n",
       "⎢⎢                                       -γ(U, V) + 2⋅ψ(U, V) ∂                             \n",
       "⎢⎢              0                0  1.0⋅ℯ                    ⋅──(ψ(U, V))                   \n",
       "⎢⎢                                                            ∂V                            \n",
       "⎢⎢                                                                                          \n",
       "⎢⎢                                                                         ⎛        2 ∂     \n",
       "⎢⎢              0                0                    0                    ⎜- 0.25⋅U ⋅──(ψ(U\n",
       "⎢⎣                                                                         ⎝          ∂V    \n",
       "⎢                                                                                           \n",
       "⎢                                                                                           \n",
       "⎣                                                                                           \n",
       "\n",
       "                                                                                            \n",
       "                                                                                            \n",
       "                                                                                            \n",
       "                                                                            ⎤  ⎡0           \n",
       "                             0                                              ⎥  ⎢            \n",
       "                                                                            ⎥  ⎢       ∂    \n",
       "                                                                            ⎥  ⎢0  1.0⋅──(γ(\n",
       "                             0                                              ⎥  ⎢       ∂V   \n",
       "                                                                            ⎥  ⎢            \n",
       "                                                                            ⎥  ⎢            \n",
       "                             0                                              ⎥  ⎢0           \n",
       "                                                                            ⎥  ⎢            \n",
       "                                                                            ⎥  ⎢            \n",
       "                ∂                           2 ∂                  ⎞  -γ(U, V)⎥  ⎢            \n",
       ", V)) - 0.5⋅U⋅V⋅──(ψ(U, V)) + 0.5⋅U - 0.25⋅V ⋅──(ψ(U, V)) + 0.5⋅V⎟⋅ℯ        ⎥  ⎢0           \n",
       "                ∂V                            ∂V                 ⎠          ⎦  ⎣            \n",
       "                                                                                            \n",
       "                                                                                            \n",
       "                                                                                            \n",
       "\n",
       "                                                                                            \n",
       "                                                                                            \n",
       "                                                                                            \n",
       "     0                                  0                                                   \n",
       "                                                                                            \n",
       "         ∂                                                                                  \n",
       "U, V)) - ──(ψ(U, V))                    0                                                   \n",
       "         ∂V                                                                                 \n",
       "                                                                                            \n",
       "                           -γ(U, V) + 2⋅ψ(U, V) ∂                                           \n",
       "     0                1.0⋅ℯ                    ⋅──(ψ(U, V))                                 \n",
       "                                                ∂U                                          \n",
       "                                                                                            \n",
       "                                                             ⎛        2 ∂                   \n",
       "     0                                  0                    ⎜- 0.25⋅U ⋅──(ψ(U, V)) - 0.5⋅U⋅\n",
       "                                                             ⎝          ∂U                  \n",
       "                                                                                            \n",
       "                                                                                            \n",
       "                                                                                            \n",
       "\n",
       "                                                                                            \n",
       "                                                                                            \n",
       "                                                                                            \n",
       "               0                                              ⎤  ⎡                          \n",
       "                                                              ⎥  ⎢       0                0 \n",
       "                                                              ⎥  ⎢                          \n",
       "               0                                              ⎥  ⎢                          \n",
       "                                                              ⎥  ⎢                          \n",
       "                                                              ⎥  ⎢       0                0 \n",
       "                                                              ⎥  ⎢                          \n",
       "               0                                              ⎥  ⎢                          \n",
       "                                                              ⎥  ⎢    ∂                ∂    \n",
       "                                                              ⎥  ⎢0.5⋅──(ψ(U, V))  0.5⋅──(ψ(\n",
       "  ∂                           2 ∂                  ⎞  -γ(U, V)⎥  ⎢    ∂U               ∂V   \n",
       "V⋅──(ψ(U, V)) + 0.5⋅U - 0.25⋅V ⋅──(ψ(U, V)) + 0.5⋅V⎟⋅ℯ        ⎥  ⎢                          \n",
       "  ∂U                            ∂U                 ⎠          ⎦  ⎣       0                0 \n",
       "                                                                                            \n",
       "                                                                                            \n",
       "                                                                                            \n",
       "\n",
       "                             ⎡                                                              \n",
       "                             ⎢                                                              \n",
       "                             ⎢                                                              \n",
       "            ∂             ⎤  ⎢                           0                                  \n",
       "        0.5⋅──(ψ(U, V))  0⎥  ⎢                                                              \n",
       "            ∂U            ⎥  ⎢                                                              \n",
       "                          ⎥  ⎢                                                              \n",
       "            ∂             ⎥  ⎢                                                              \n",
       "        0.5⋅──(ψ(U, V))  0⎥  ⎢                                                              \n",
       "            ∂V            ⎥  ⎢                           0                                  \n",
       "                          ⎥  ⎢                                                              \n",
       "                          ⎥  ⎢                                                              \n",
       "U, V))         0         0⎥  ⎢                           0                                  \n",
       "                          ⎥  ⎢                                                              \n",
       "                          ⎥  ⎢    ⎛          ∂                     ∂                 ⎞      \n",
       "               0         0⎦  ⎢4.0⋅⎜- 0.125⋅U⋅──(ψ(U, V)) - 0.125⋅V⋅──(ψ(U, V)) + 0.25⎟  4.0⋅\n",
       "                             ⎢    ⎝          ∂U                    ∂U                ⎠      \n",
       "                             ⎢────────────────────────────────────────────────────────  ────\n",
       "                             ⎣                         U + V                                \n",
       "\n",
       "                                                             ⎛          ∂                   \n",
       "                                                         4.0⋅⎜- 0.125⋅U⋅──(ψ(U, V)) - 0.125⋅\n",
       "                                                             ⎝          ∂U                  \n",
       "                       0                              0  ───────────────────────────────────\n",
       "                                                                                  U + V     \n",
       "                                                                                            \n",
       "                                                             ⎛          ∂                   \n",
       "                                                         4.0⋅⎜- 0.125⋅U⋅──(ψ(U, V)) - 0.125⋅\n",
       "                                                             ⎝          ∂V                  \n",
       "                       0                              0  ───────────────────────────────────\n",
       "                                                                                  U + V     \n",
       "                                                                                            \n",
       "                       0                              0                             0       \n",
       "                                                                                            \n",
       "⎛          ∂                     ∂                 ⎞                                        \n",
       "⎜- 0.125⋅U⋅──(ψ(U, V)) - 0.125⋅V⋅──(ψ(U, V)) + 0.25⎟                                        \n",
       "⎝          ∂V                    ∂V                ⎠                                        \n",
       "────────────────────────────────────────────────────  0                             0       \n",
       "                     U + V                                                                  \n",
       "\n",
       "  ∂                 ⎞⎤⎤\n",
       "V⋅──(ψ(U, V)) + 0.25⎟⎥⎥\n",
       "  ∂U                ⎠⎥⎥\n",
       "─────────────────────⎥⎥\n",
       "                     ⎥⎥\n",
       "                     ⎥⎥\n",
       "  ∂                 ⎞⎥⎥\n",
       "V⋅──(ψ(U, V)) + 0.25⎟⎥⎥\n",
       "  ∂V                ⎠⎥⎥\n",
       "─────────────────────⎥⎥\n",
       "                     ⎥⎥\n",
       "                     ⎥⎥\n",
       "                     ⎥⎥\n",
       "                     ⎥⎥\n",
       "                     ⎥⎥\n",
       "                     ⎥⎥\n",
       "                     ⎥⎥\n",
       "                     ⎥⎥\n",
       "                     ⎦⎦"
      ]
     },
     "execution_count": 17,
     "metadata": {},
     "output_type": "execute_result"
    }
   ],
   "source": [
    "ch = ChristoffelSymbols.from_metric(metric)\n",
    "simplify(ch.tensor())"
   ]
  },
  {
   "cell_type": "code",
   "execution_count": 18,
   "id": "93aa7fa0",
   "metadata": {},
   "outputs": [
    {
     "data": {
      "text/latex": [
       "$\\displaystyle \\left[\\begin{matrix}\\frac{1.0 \\left(- 0.5 U \\left(\\frac{\\partial}{\\partial U} \\psi{\\left(U,V \\right)}\\right)^{2} - 0.5 V \\left(\\frac{\\partial}{\\partial U} \\psi{\\left(U,V \\right)}\\right)^{2} + 1.0 \\frac{\\partial}{\\partial U} \\gamma{\\left(U,V \\right)}\\right)}{U + V} & \\frac{1.0 \\left(- 0.5 U \\frac{\\partial}{\\partial U} \\psi{\\left(U,V \\right)} \\frac{\\partial}{\\partial V} \\psi{\\left(U,V \\right)} - 1.0 U \\frac{\\partial^{2}}{\\partial V\\partial U} \\gamma{\\left(U,V \\right)} + 1.0 U \\frac{\\partial^{2}}{\\partial V\\partial U} \\psi{\\left(U,V \\right)} - 0.5 V \\frac{\\partial}{\\partial U} \\psi{\\left(U,V \\right)} \\frac{\\partial}{\\partial V} \\psi{\\left(U,V \\right)} - 1.0 V \\frac{\\partial^{2}}{\\partial V\\partial U} \\gamma{\\left(U,V \\right)} + 1.0 V \\frac{\\partial^{2}}{\\partial V\\partial U} \\psi{\\left(U,V \\right)} + 0.5 \\frac{\\partial}{\\partial U} \\psi{\\left(U,V \\right)} + 0.5 \\frac{\\partial}{\\partial V} \\psi{\\left(U,V \\right)}\\right)}{U + V} & 0 & 0\\\\\\frac{1.0 \\left(- 0.5 U \\frac{\\partial}{\\partial U} \\psi{\\left(U,V \\right)} \\frac{\\partial}{\\partial V} \\psi{\\left(U,V \\right)} - 1.0 U \\frac{\\partial^{2}}{\\partial V\\partial U} \\gamma{\\left(U,V \\right)} + 1.0 U \\frac{\\partial^{2}}{\\partial V\\partial U} \\psi{\\left(U,V \\right)} - 0.5 V \\frac{\\partial}{\\partial U} \\psi{\\left(U,V \\right)} \\frac{\\partial}{\\partial V} \\psi{\\left(U,V \\right)} - 1.0 V \\frac{\\partial^{2}}{\\partial V\\partial U} \\gamma{\\left(U,V \\right)} + 1.0 V \\frac{\\partial^{2}}{\\partial V\\partial U} \\psi{\\left(U,V \\right)} + 0.5 \\frac{\\partial}{\\partial U} \\psi{\\left(U,V \\right)} + 0.5 \\frac{\\partial}{\\partial V} \\psi{\\left(U,V \\right)}\\right)}{U + V} & \\frac{1.0 \\left(- 0.5 U \\left(\\frac{\\partial}{\\partial V} \\psi{\\left(U,V \\right)}\\right)^{2} - 0.5 V \\left(\\frac{\\partial}{\\partial V} \\psi{\\left(U,V \\right)}\\right)^{2} + 1.0 \\frac{\\partial}{\\partial V} \\gamma{\\left(U,V \\right)}\\right)}{U + V} & 0 & 0\\\\0 & 0 & \\frac{\\left(2.0 U \\frac{\\partial^{2}}{\\partial V\\partial U} \\psi{\\left(U,V \\right)} + 2.0 V \\frac{\\partial^{2}}{\\partial V\\partial U} \\psi{\\left(U,V \\right)} + 1.0 \\frac{\\partial}{\\partial U} \\psi{\\left(U,V \\right)} + 1.0 \\frac{\\partial}{\\partial V} \\psi{\\left(U,V \\right)}\\right) e^{- \\gamma{\\left(U,V \\right)} + 2 \\psi{\\left(U,V \\right)}}}{U + V} & 0\\\\0 & 0 & 0 & - \\left(0.5 U^{2} \\frac{\\partial^{2}}{\\partial V\\partial U} \\psi{\\left(U,V \\right)} + 1.0 U V \\frac{\\partial^{2}}{\\partial V\\partial U} \\psi{\\left(U,V \\right)} + 0.25 U \\frac{\\partial}{\\partial U} \\psi{\\left(U,V \\right)} + 0.25 U \\frac{\\partial}{\\partial V} \\psi{\\left(U,V \\right)} + 0.5 V^{2} \\frac{\\partial^{2}}{\\partial V\\partial U} \\psi{\\left(U,V \\right)} + 0.25 V \\frac{\\partial}{\\partial U} \\psi{\\left(U,V \\right)} + 0.25 V \\frac{\\partial}{\\partial V} \\psi{\\left(U,V \\right)}\\right) e^{- \\gamma{\\left(U,V \\right)}}\\end{matrix}\\right]$"
      ],
      "text/plain": [
       "⎡                                                                ⎛                     2    \n",
       "⎢                                                                ⎜        ⎛∂          ⎞     \n",
       "⎢                                                            1.0⋅⎜- 0.5⋅U⋅⎜──(ψ(U, V))⎟  - 0\n",
       "⎢                                                                ⎝        ⎝∂U         ⎠     \n",
       "⎢                                                            ───────────────────────────────\n",
       "⎢                                                                                           \n",
       "⎢                                                                                           \n",
       "⎢    ⎛                                       2                      2                       \n",
       "⎢    ⎜        ∂           ∂                 ∂                      ∂                    ∂   \n",
       "⎢1.0⋅⎜- 0.5⋅U⋅──(ψ(U, V))⋅──(ψ(U, V)) - U⋅─────(γ(U, V)) + 1.0⋅U⋅─────(ψ(U, V)) - 0.5⋅V⋅──(ψ\n",
       "⎢    ⎝        ∂U          ∂V              ∂V ∂U                  ∂V ∂U                  ∂U  \n",
       "⎢───────────────────────────────────────────────────────────────────────────────────────────\n",
       "⎢                                                                                           \n",
       "⎢                                                                                           \n",
       "⎢                                                                                           \n",
       "⎢                                                                                           \n",
       "⎢                                                                                           \n",
       "⎢                                                                                           \n",
       "⎢                                                                                           \n",
       "⎢                                                                                           \n",
       "⎢                                                                                           \n",
       "⎢                                                                                           \n",
       "⎢                                                                                           \n",
       "⎢                                                                                           \n",
       "⎣                                                                                           \n",
       "\n",
       "                  2                  ⎞                                                      \n",
       "     ⎛∂          ⎞        ∂          ⎟                                                      \n",
       ".5⋅V⋅⎜──(ψ(U, V))⎟  + 1.0⋅──(γ(U, V))⎟                                                      \n",
       "     ⎝∂U         ⎠        ∂U         ⎠                                                      \n",
       "──────────────────────────────────────                                                      \n",
       " U + V                                                                                      \n",
       "                                                                                            \n",
       "                           2                      2                                         \n",
       "        ∂                 ∂                      ∂                  ∂                 ∂     \n",
       "(U, V))⋅──(ψ(U, V)) - V⋅─────(γ(U, V)) + 1.0⋅V⋅─────(ψ(U, V)) + 0.5⋅──(ψ(U, V)) + 0.5⋅──(ψ(U\n",
       "        ∂V              ∂V ∂U                  ∂V ∂U                ∂U                ∂V    \n",
       "────────────────────────────────────────────────────────────────────────────────────────────\n",
       " U + V                                                                                      \n",
       "                                                                                            \n",
       "                                                                                            \n",
       "                                                                                            \n",
       "                                                                                            \n",
       "                                                                                            \n",
       "   0                                                                                        \n",
       "                                                                                            \n",
       "                                                                                            \n",
       "                                                                                            \n",
       "                                                                                            \n",
       "   0                                                                                        \n",
       "                                                                                            \n",
       "\n",
       "            ⎛                                       2                      2                \n",
       "            ⎜        ∂           ∂                 ∂                      ∂                 \n",
       "        1.0⋅⎜- 0.5⋅U⋅──(ψ(U, V))⋅──(ψ(U, V)) - U⋅─────(γ(U, V)) + 1.0⋅U⋅─────(ψ(U, V)) - 0.5\n",
       "            ⎝        ∂U          ∂V              ∂V ∂U                  ∂V ∂U               \n",
       "        ────────────────────────────────────────────────────────────────────────────────────\n",
       "                                                                                            \n",
       "                                                                                            \n",
       "     ⎞                                                                  ⎛                   \n",
       "     ⎟                                                                  ⎜        ⎛∂         \n",
       ", V))⎟                                                              1.0⋅⎜- 0.5⋅U⋅⎜──(ψ(U, V)\n",
       "     ⎠                                                                  ⎝        ⎝∂V        \n",
       "──────                                                              ────────────────────────\n",
       "                                                                                            \n",
       "                                                                                            \n",
       "                                                                                            \n",
       "                                                                                            \n",
       "                                                                                            \n",
       "                                                                                            \n",
       "                                                                                            \n",
       "                                                                                            \n",
       "                                                                                            \n",
       "                                                                                            \n",
       "                                                                                            \n",
       "                                                                                            \n",
       "                                                                                            \n",
       "\n",
       "                                  2                      2                                  \n",
       "   ∂           ∂                 ∂                      ∂                  ∂                \n",
       "⋅V⋅──(ψ(U, V))⋅──(ψ(U, V)) - V⋅─────(γ(U, V)) + 1.0⋅V⋅─────(ψ(U, V)) + 0.5⋅──(ψ(U, V)) + 0.5\n",
       "   ∂U          ∂V              ∂V ∂U                  ∂V ∂U                ∂U               \n",
       "────────────────────────────────────────────────────────────────────────────────────────────\n",
       "        U + V                                                                               \n",
       "                                                                                            \n",
       "  2                      2                  ⎞                                               \n",
       " ⎞          ⎛∂          ⎞        ∂          ⎟                                               \n",
       ")⎟  - 0.5⋅V⋅⎜──(ψ(U, V))⎟  + 1.0⋅──(γ(U, V))⎟                                               \n",
       " ⎠          ⎝∂V         ⎠        ∂V         ⎠                                               \n",
       "─────────────────────────────────────────────                                               \n",
       "        U + V                                                                               \n",
       "                                                                                            \n",
       "                                                                                            \n",
       "                                                                                            \n",
       "                                                                                            \n",
       "                                                                                            \n",
       "          0                                                                                 \n",
       "                                                                                            \n",
       "                                                                                            \n",
       "                                                                                            \n",
       "                                                                                            \n",
       "          0                                                                                 \n",
       "                                                                                            \n",
       "\n",
       "            ⎞                                                                               \n",
       " ∂          ⎟                                                                               \n",
       "⋅──(ψ(U, V))⎟                                                                               \n",
       " ∂V         ⎠                                                                               \n",
       "─────────────                                                     0                         \n",
       "                                                                                            \n",
       "                                                                                            \n",
       "                                                                                            \n",
       "                                                                                            \n",
       "                                                                                            \n",
       "                                                                                            \n",
       "                                                                  0                         \n",
       "                                                                                            \n",
       "                                                                                            \n",
       "               ⎛         2                      2                                           \n",
       "               ⎜        ∂                      ∂                  ∂                 ∂       \n",
       "               ⎜2.0⋅U⋅─────(ψ(U, V)) + 2.0⋅V⋅─────(ψ(U, V)) + 1.0⋅──(ψ(U, V)) + 1.0⋅──(ψ(U, \n",
       "               ⎝      ∂V ∂U                  ∂V ∂U                ∂U                ∂V      \n",
       "               ─────────────────────────────────────────────────────────────────────────────\n",
       "                                                                U + V                       \n",
       "                                                                                            \n",
       "                                                                                            \n",
       "                                                                                            \n",
       "                                                                  0                         \n",
       "                                                                                            \n",
       "\n",
       "                                                                                            \n",
       "                                                                                            \n",
       "                                                                                            \n",
       "                                                                                            \n",
       "                                                                                            \n",
       "                                                                                            \n",
       "                                                                                            \n",
       "                                                                                            \n",
       "                                                                                            \n",
       "                                                                                            \n",
       "                                                                                            \n",
       "                                                                                            \n",
       "                                                                                            \n",
       "                                                                                            \n",
       "   ⎞                                                                                        \n",
       "   ⎟  -γ(U, V) + 2⋅ψ(U, V)                                                                  \n",
       "V))⎟⋅ℯ                                                                                      \n",
       "   ⎠                                                                                        \n",
       "──────────────────────────                                                                  \n",
       "                                                                                            \n",
       "                                                                                            \n",
       "                             ⎛          2                        2                          \n",
       "                             ⎜     2   ∂                        ∂                     ∂     \n",
       "                            -⎜0.5⋅U ⋅─────(ψ(U, V)) + 1.0⋅U⋅V⋅─────(ψ(U, V)) + 0.25⋅U⋅──(ψ(U\n",
       "                             ⎝       ∂V ∂U                    ∂V ∂U                   ∂U    \n",
       "\n",
       "                                                                                            \n",
       "                                                                                            \n",
       "                                                                                            \n",
       "                                                                                            \n",
       "                   0                                                                        \n",
       "                                                                                            \n",
       "                                                                                            \n",
       "                                                                                            \n",
       "                                                                                            \n",
       "                                                                                            \n",
       "                                                                                            \n",
       "                   0                                                                        \n",
       "                                                                                            \n",
       "                                                                                            \n",
       "                                                                                            \n",
       "                                                                                            \n",
       "                                                                                            \n",
       "                                                                                            \n",
       "                   0                                                                        \n",
       "                                                                                            \n",
       "                                                                                            \n",
       "                                       2                                                    \n",
       "               ∂                  2   ∂                     ∂                    ∂          \n",
       ", V)) + 0.25⋅U⋅──(ψ(U, V)) + 0.5⋅V ⋅─────(ψ(U, V)) + 0.25⋅V⋅──(ψ(U, V)) + 0.25⋅V⋅──(ψ(U, V))\n",
       "               ∂V                   ∂V ∂U                   ∂U                   ∂V         \n",
       "\n",
       "           ⎤\n",
       "           ⎥\n",
       "           ⎥\n",
       "           ⎥\n",
       "           ⎥\n",
       "           ⎥\n",
       "           ⎥\n",
       "           ⎥\n",
       "           ⎥\n",
       "           ⎥\n",
       "           ⎥\n",
       "           ⎥\n",
       "           ⎥\n",
       "           ⎥\n",
       "           ⎥\n",
       "           ⎥\n",
       "           ⎥\n",
       "           ⎥\n",
       "           ⎥\n",
       "           ⎥\n",
       "           ⎥\n",
       "⎞          ⎥\n",
       "⎟  -γ(U, V)⎥\n",
       "⎟⋅ℯ        ⎥\n",
       "⎠          ⎦"
      ]
     },
     "execution_count": 18,
     "metadata": {},
     "output_type": "execute_result"
    }
   ],
   "source": [
    "Ric = RicciTensor.from_metric(metric)\n",
    "Ric.tensor()"
   ]
  },
  {
   "cell_type": "code",
   "execution_count": 19,
   "id": "5ed0450a",
   "metadata": {},
   "outputs": [
    {
     "data": {
      "image/png": "[encoded data removed]",
      "text/latex": [
       "$\\displaystyle \\frac{\\left(2.0 U \\frac{\\partial}{\\partial U} \\psi{\\left(U,V \\right)} \\frac{\\partial}{\\partial V} \\psi{\\left(U,V \\right)} + 4.0 U \\frac{\\partial^{2}}{\\partial V\\partial U} \\gamma{\\left(U,V \\right)} - 4.0 U \\frac{\\partial^{2}}{\\partial V\\partial U} \\psi{\\left(U,V \\right)} + 2.0 V \\frac{\\partial}{\\partial U} \\psi{\\left(U,V \\right)} \\frac{\\partial}{\\partial V} \\psi{\\left(U,V \\right)} + 4.0 V \\frac{\\partial^{2}}{\\partial V\\partial U} \\gamma{\\left(U,V \\right)} - 4.0 V \\frac{\\partial^{2}}{\\partial V\\partial U} \\psi{\\left(U,V \\right)} - 2.0 \\frac{\\partial}{\\partial U} \\psi{\\left(U,V \\right)} - 2.0 \\frac{\\partial}{\\partial V} \\psi{\\left(U,V \\right)}\\right) e^{- \\gamma{\\left(U,V \\right)} + \\psi{\\left(U,V \\right)}}}{U + V}$"
      ],
      "text/plain": [
       "⎛                                         2                      2                          \n",
       "⎜      ∂           ∂                     ∂                      ∂                    ∂      \n",
       "⎜2.0⋅U⋅──(ψ(U, V))⋅──(ψ(U, V)) + 4.0⋅U⋅─────(γ(U, V)) - 4.0⋅U⋅─────(ψ(U, V)) + 2.0⋅V⋅──(ψ(U,\n",
       "⎝      ∂U          ∂V                  ∂V ∂U                  ∂V ∂U                  ∂U     \n",
       "────────────────────────────────────────────────────────────────────────────────────────────\n",
       "                                                                                            \n",
       "\n",
       "                            2                      2                                        \n",
       "     ∂                     ∂                      ∂                  ∂                 ∂    \n",
       " V))⋅──(ψ(U, V)) + 4.0⋅V⋅─────(γ(U, V)) - 4.0⋅V⋅─────(ψ(U, V)) - 2.0⋅──(ψ(U, V)) - 2.0⋅──(ψ(\n",
       "     ∂V                  ∂V ∂U                  ∂V ∂U                ∂U                ∂V   \n",
       "────────────────────────────────────────────────────────────────────────────────────────────\n",
       "           U + V                                                                            \n",
       "\n",
       "      ⎞                    \n",
       "      ⎟  -γ(U, V) + ψ(U, V)\n",
       "U, V))⎟⋅ℯ                  \n",
       "      ⎠                    \n",
       "───────────────────────────\n",
       "                           "
      ]
     },
     "execution_count": 19,
     "metadata": {},
     "output_type": "execute_result"
    }
   ],
   "source": [
    "R = RicciScalar.from_riccitensor(Ric)\n",
    "R.simplify()\n",
    "R.expr"
   ]
  },
  {
   "cell_type": "code",
   "execution_count": 21,
   "id": "2377368c",
   "metadata": {},
   "outputs": [
    {
     "data": {
      "text/latex": [
       "$\\displaystyle \\left[\\begin{matrix}\\frac{- 0.5 U \\left(\\frac{\\partial}{\\partial U} \\psi{\\left(U,V \\right)}\\right)^{2} - 0.5 V \\left(\\frac{\\partial}{\\partial U} \\psi{\\left(U,V \\right)}\\right)^{2} + 1.0 \\frac{\\partial}{\\partial U} \\gamma{\\left(U,V \\right)}}{U + V} & 0 & 0 & 0\\\\0 & \\frac{- 0.5 U \\left(\\frac{\\partial}{\\partial V} \\psi{\\left(U,V \\right)}\\right)^{2} - 0.5 V \\left(\\frac{\\partial}{\\partial V} \\psi{\\left(U,V \\right)}\\right)^{2} + 1.0 \\frac{\\partial}{\\partial V} \\gamma{\\left(U,V \\right)}}{U + V} & 0 & 0\\\\0 & 0 & \\frac{\\left(- 1.0 U \\frac{\\partial}{\\partial U} \\psi{\\left(U,V \\right)} \\frac{\\partial}{\\partial V} \\psi{\\left(U,V \\right)} - 2.0 U \\frac{\\partial^{2}}{\\partial V\\partial U} \\gamma{\\left(U,V \\right)} + 4.0 U \\frac{\\partial^{2}}{\\partial V\\partial U} \\psi{\\left(U,V \\right)} - 1.0 V \\frac{\\partial}{\\partial U} \\psi{\\left(U,V \\right)} \\frac{\\partial}{\\partial V} \\psi{\\left(U,V \\right)} - 2.0 V \\frac{\\partial^{2}}{\\partial V\\partial U} \\gamma{\\left(U,V \\right)} + 4.0 V \\frac{\\partial^{2}}{\\partial V\\partial U} \\psi{\\left(U,V \\right)} + 2.0 \\frac{\\partial}{\\partial U} \\psi{\\left(U,V \\right)} + 2.0 \\frac{\\partial}{\\partial V} \\psi{\\left(U,V \\right)}\\right) e^{- \\gamma{\\left(U,V \\right)} + 2 \\psi{\\left(U,V \\right)}}}{U + V} & 0\\\\0 & 0 & 0 & - \\left(0.25 U^{2} \\frac{\\partial}{\\partial U} \\psi{\\left(U,V \\right)} \\frac{\\partial}{\\partial V} \\psi{\\left(U,V \\right)} + 0.5 U^{2} \\frac{\\partial^{2}}{\\partial V\\partial U} \\gamma{\\left(U,V \\right)} + 0.5 U V \\frac{\\partial}{\\partial U} \\psi{\\left(U,V \\right)} \\frac{\\partial}{\\partial V} \\psi{\\left(U,V \\right)} + 1.0 U V \\frac{\\partial^{2}}{\\partial V\\partial U} \\gamma{\\left(U,V \\right)} + 0.25 V^{2} \\frac{\\partial}{\\partial U} \\psi{\\left(U,V \\right)} \\frac{\\partial}{\\partial V} \\psi{\\left(U,V \\right)} + 0.5 V^{2} \\frac{\\partial^{2}}{\\partial V\\partial U} \\gamma{\\left(U,V \\right)}\\right) e^{- \\gamma{\\left(U,V \\right)}}\\end{matrix}\\right]$"
      ],
      "text/plain": [
       "⎡                     2                      2                                              \n",
       "⎢        ⎛∂          ⎞          ⎛∂          ⎞        ∂                                      \n",
       "⎢- 0.5⋅U⋅⎜──(ψ(U, V))⎟  - 0.5⋅V⋅⎜──(ψ(U, V))⎟  + 1.0⋅──(γ(U, V))                            \n",
       "⎢        ⎝∂U         ⎠          ⎝∂U         ⎠        ∂U                                     \n",
       "⎢───────────────────────────────────────────────────────────────                            \n",
       "⎢                             U + V                                                         \n",
       "⎢                                                                                           \n",
       "⎢                                                                                      2    \n",
       "⎢                                                                         ⎛∂          ⎞     \n",
       "⎢                                                                 - 0.5⋅U⋅⎜──(ψ(U, V))⎟  - 0\n",
       "⎢                                                                         ⎝∂V         ⎠     \n",
       "⎢                               0                                 ──────────────────────────\n",
       "⎢                                                                                           \n",
       "⎢                                                                                           \n",
       "⎢                                                                                           \n",
       "⎢                                                                                           \n",
       "⎢                                                                                           \n",
       "⎢                                                                                           \n",
       "⎢                               0                                                           \n",
       "⎢                                                                                           \n",
       "⎢                                                                                           \n",
       "⎢                                                                                           \n",
       "⎢                                                                                           \n",
       "⎢                               0                                                           \n",
       "⎣                                                                                           \n",
       "\n",
       "                                                                                            \n",
       "                                                                                            \n",
       "                                                                                            \n",
       "                                                                                            \n",
       "     0                                                                                      \n",
       "                                                                                            \n",
       "                                                                                            \n",
       "                  2                                                                         \n",
       "     ⎛∂          ⎞        ∂                                                                 \n",
       ".5⋅V⋅⎜──(ψ(U, V))⎟  + 1.0⋅──(γ(U, V))                                                       \n",
       "     ⎝∂V         ⎠        ∂V                                                                \n",
       "─────────────────────────────────────                                                       \n",
       "   U + V                                                                                    \n",
       "                                                                                            \n",
       "                                       ⎛                                       2            \n",
       "                                       ⎜    ∂           ∂                     ∂             \n",
       "                                       ⎜- U⋅──(ψ(U, V))⋅──(ψ(U, V)) - 2.0⋅U⋅─────(γ(U, V)) +\n",
       "                                       ⎝    ∂U          ∂V                  ∂V ∂U           \n",
       "     0                                 ─────────────────────────────────────────────────────\n",
       "                                                                                            \n",
       "                                                                                            \n",
       "                                                                                            \n",
       "                                                                                            \n",
       "     0                                                                                      \n",
       "                                                                                            \n",
       "\n",
       "                                                                                            \n",
       "                                                                                            \n",
       "                                                                                            \n",
       "                                                                                            \n",
       "                                                  0                                         \n",
       "                                                                                            \n",
       "                                                                                            \n",
       "                                                                                            \n",
       "                                                                                            \n",
       "                                                                                            \n",
       "                                                                                            \n",
       "                                                  0                                         \n",
       "                                                                                            \n",
       "                                                                                            \n",
       "          2                                                  2                      2       \n",
       "         ∂                ∂           ∂                     ∂                      ∂        \n",
       " 4.0⋅U⋅─────(ψ(U, V)) - V⋅──(ψ(U, V))⋅──(ψ(U, V)) - 2.0⋅V⋅─────(γ(U, V)) + 4.0⋅V⋅─────(ψ(U, \n",
       "       ∂V ∂U              ∂U          ∂V                  ∂V ∂U                  ∂V ∂U      \n",
       "────────────────────────────────────────────────────────────────────────────────────────────\n",
       "                                                U + V                                       \n",
       "                                                                                            \n",
       "                                                                                            \n",
       "                                                                                            \n",
       "                                                  0                                         \n",
       "                                                                                            \n",
       "\n",
       "                                                                                            \n",
       "                                                                                            \n",
       "                                                                                            \n",
       "                                                                                            \n",
       "                                                                                            \n",
       "                                                                                            \n",
       "                                                                                            \n",
       "                                                                                            \n",
       "                                                                                            \n",
       "                                                                                            \n",
       "                                                                                            \n",
       "                                                                                            \n",
       "                                                                                            \n",
       "                                                                                            \n",
       "                                       ⎞                                                    \n",
       "          ∂                 ∂          ⎟  -γ(U, V) + 2⋅ψ(U, V)                              \n",
       "V)) + 2.0⋅──(ψ(U, V)) + 2.0⋅──(ψ(U, V))⎟⋅ℯ                                                  \n",
       "          ∂U                ∂V         ⎠                                                    \n",
       "──────────────────────────────────────────────────────────────                              \n",
       "                                                                                            \n",
       "                                                                                            \n",
       "                                                                 ⎛                          \n",
       "                                                                 ⎜      2 ∂           ∂     \n",
       "                                                                -⎜0.25⋅U ⋅──(ψ(U, V))⋅──(ψ(U\n",
       "                                                                 ⎝        ∂U          ∂V    \n",
       "\n",
       "                                                                                            \n",
       "                                                                                            \n",
       "                                                                                            \n",
       "                                                                                            \n",
       "                                                                0                           \n",
       "                                                                                            \n",
       "                                                                                            \n",
       "                                                                                            \n",
       "                                                                                            \n",
       "                                                                                            \n",
       "                                                                                            \n",
       "                                                                0                           \n",
       "                                                                                            \n",
       "                                                                                            \n",
       "                                                                                            \n",
       "                                                                                            \n",
       "                                                                                            \n",
       "                                                                                            \n",
       "                                                                0                           \n",
       "                                                                                            \n",
       "                                                                                            \n",
       "                  2                                                          2              \n",
       "             2   ∂                      ∂           ∂                       ∂               \n",
       ", V)) + 0.5⋅U ⋅─────(γ(U, V)) + 0.5⋅U⋅V⋅──(ψ(U, V))⋅──(ψ(U, V)) + 1.0⋅U⋅V⋅─────(γ(U, V)) + 0\n",
       "               ∂V ∂U                    ∂U          ∂V                    ∂V ∂U             \n",
       "\n",
       "                                                                 ⎤\n",
       "                                                                 ⎥\n",
       "                                                                 ⎥\n",
       "                                                                 ⎥\n",
       "                                                                 ⎥\n",
       "                                                                 ⎥\n",
       "                                                                 ⎥\n",
       "                                                                 ⎥\n",
       "                                                                 ⎥\n",
       "                                                                 ⎥\n",
       "                                                                 ⎥\n",
       "                                                                 ⎥\n",
       "                                                                 ⎥\n",
       "                                                                 ⎥\n",
       "                                                                 ⎥\n",
       "                                                                 ⎥\n",
       "                                                                 ⎥\n",
       "                                                                 ⎥\n",
       "                                                                 ⎥\n",
       "                                                                 ⎥\n",
       "                                                                 ⎥\n",
       "                                           2          ⎞          ⎥\n",
       "     2 ∂           ∂                  2   ∂           ⎟  -γ(U, V)⎥\n",
       ".25⋅V ⋅──(ψ(U, V))⋅──(ψ(U, V)) + 0.5⋅V ⋅─────(γ(U, V))⎟⋅ℯ        ⎥\n",
       "       ∂U          ∂V                   ∂V ∂U         ⎠          ⎦"
      ]
     },
     "execution_count": 21,
     "metadata": {},
     "output_type": "execute_result"
    }
   ],
   "source": [
    "einst = EinsteinTensor.from_metric(metric)\n",
    "simplify(einst.tensor())"
   ]
  },
  {
   "cell_type": "code",
   "execution_count": null,
   "id": "569e378c",
   "metadata": {},
   "outputs": [],
   "source": [
    "rm1 = RiemannCurvatureTensor.from_christoffels(ch)\n",
    "rm1.tensor()"
   ]
  },
  {
   "cell_type": "code",
   "execution_count": null,
   "id": "83cca4ae",
   "metadata": {},
   "outputs": [],
   "source": [
    "weyl = WeylTensor.from_metric(metric)\n",
    "weyl.tensor()"
   ]
  },
  {
   "cell_type": "code",
   "execution_count": 22,
   "id": "578ed0a1",
   "metadata": {},
   "outputs": [
    {
     "data": {
      "image/png": "[encoded data removed]",
      "text/latex": [
       "$\\displaystyle - \\left(0.25 U^{2} \\frac{\\partial}{\\partial U} \\psi{\\left(U,V \\right)} \\frac{\\partial}{\\partial V} \\psi{\\left(U,V \\right)} + 0.5 U^{2} \\frac{\\partial^{2}}{\\partial V\\partial U} \\gamma{\\left(U,V \\right)} + 0.5 U V \\frac{\\partial}{\\partial U} \\psi{\\left(U,V \\right)} \\frac{\\partial}{\\partial V} \\psi{\\left(U,V \\right)} + 1.0 U V \\frac{\\partial^{2}}{\\partial V\\partial U} \\gamma{\\left(U,V \\right)} + 0.25 V^{2} \\frac{\\partial}{\\partial U} \\psi{\\left(U,V \\right)} \\frac{\\partial}{\\partial V} \\psi{\\left(U,V \\right)} + 0.5 V^{2} \\frac{\\partial^{2}}{\\partial V\\partial U} \\gamma{\\left(U,V \\right)}\\right) e^{- \\gamma{\\left(U,V \\right)}}$"
      ],
      "text/plain": [
       " ⎛                                            2                                             \n",
       " ⎜      2 ∂           ∂                  2   ∂                      ∂           ∂           \n",
       "-⎜0.25⋅U ⋅──(ψ(U, V))⋅──(ψ(U, V)) + 0.5⋅U ⋅─────(γ(U, V)) + 0.5⋅U⋅V⋅──(ψ(U, V))⋅──(ψ(U, V)) \n",
       " ⎝        ∂U          ∂V                   ∂V ∂U                    ∂U          ∂V          \n",
       "\n",
       "             2                                                         2          ⎞         \n",
       "            ∂                    2 ∂           ∂                  2   ∂           ⎟  -γ(U, V\n",
       "+ 1.0⋅U⋅V⋅─────(γ(U, V)) + 0.25⋅V ⋅──(ψ(U, V))⋅──(ψ(U, V)) + 0.5⋅V ⋅─────(γ(U, V))⎟⋅ℯ       \n",
       "          ∂V ∂U                    ∂U          ∂V                   ∂V ∂U         ⎠         \n",
       "\n",
       " \n",
       ")\n",
       " \n",
       " "
      ]
     },
     "execution_count": 22,
     "metadata": {},
     "output_type": "execute_result"
    }
   ],
   "source": [
    "simplify(einst.tensor())[3,3]"
   ]
  },
  {
   "cell_type": "code",
   "execution_count": 23,
   "id": "b3163766",
   "metadata": {},
   "outputs": [
    {
     "data": {
      "image/png": "[encoded data removed]",
      "text/latex": [
       "$\\displaystyle \\frac{- 0.5 U \\left(\\frac{\\partial}{\\partial U} \\psi{\\left(U,V \\right)}\\right)^{2} - 0.5 V \\left(\\frac{\\partial}{\\partial U} \\psi{\\left(U,V \\right)}\\right)^{2} + 1.0 \\frac{\\partial}{\\partial U} \\gamma{\\left(U,V \\right)}}{U + V}$"
      ],
      "text/plain": [
       "                     2                      2                  \n",
       "        ⎛∂          ⎞          ⎛∂          ⎞        ∂          \n",
       "- 0.5⋅U⋅⎜──(ψ(U, V))⎟  - 0.5⋅V⋅⎜──(ψ(U, V))⎟  + 1.0⋅──(γ(U, V))\n",
       "        ⎝∂U         ⎠          ⎝∂U         ⎠        ∂U         \n",
       "───────────────────────────────────────────────────────────────\n",
       "                             U + V                             "
      ]
     },
     "execution_count": 23,
     "metadata": {},
     "output_type": "execute_result"
    }
   ],
   "source": [
    "simplify(einst.tensor())[0,0]"
   ]
  },
  {
   "cell_type": "code",
   "execution_count": 24,
   "id": "7a4da544",
   "metadata": {},
   "outputs": [
    {
     "data": {
      "image/png": "[encoded data removed]",
      "text/latex": [
       "$\\displaystyle \\frac{- 0.5 U \\left(\\frac{\\partial}{\\partial V} \\psi{\\left(U,V \\right)}\\right)^{2} - 0.5 V \\left(\\frac{\\partial}{\\partial V} \\psi{\\left(U,V \\right)}\\right)^{2} + 1.0 \\frac{\\partial}{\\partial V} \\gamma{\\left(U,V \\right)}}{U + V}$"
      ],
      "text/plain": [
       "                     2                      2                  \n",
       "        ⎛∂          ⎞          ⎛∂          ⎞        ∂          \n",
       "- 0.5⋅U⋅⎜──(ψ(U, V))⎟  - 0.5⋅V⋅⎜──(ψ(U, V))⎟  + 1.0⋅──(γ(U, V))\n",
       "        ⎝∂V         ⎠          ⎝∂V         ⎠        ∂V         \n",
       "───────────────────────────────────────────────────────────────\n",
       "                             U + V                             "
      ]
     },
     "execution_count": 24,
     "metadata": {},
     "output_type": "execute_result"
    }
   ],
   "source": [
    "simplify(einst.tensor())[1,1]"
   ]
  },
  {
   "cell_type": "code",
   "execution_count": 25,
   "id": "fac76949",
   "metadata": {},
   "outputs": [
    {
     "data": {
      "image/png": "[encoded data removed]",
      "text/latex": [
       "$\\displaystyle \\frac{\\left(- 1.0 U \\frac{\\partial}{\\partial U} \\psi{\\left(U,V \\right)} \\frac{\\partial}{\\partial V} \\psi{\\left(U,V \\right)} - 2.0 U \\frac{\\partial^{2}}{\\partial V\\partial U} \\gamma{\\left(U,V \\right)} + 4.0 U \\frac{\\partial^{2}}{\\partial V\\partial U} \\psi{\\left(U,V \\right)} - 1.0 V \\frac{\\partial}{\\partial U} \\psi{\\left(U,V \\right)} \\frac{\\partial}{\\partial V} \\psi{\\left(U,V \\right)} - 2.0 V \\frac{\\partial^{2}}{\\partial V\\partial U} \\gamma{\\left(U,V \\right)} + 4.0 V \\frac{\\partial^{2}}{\\partial V\\partial U} \\psi{\\left(U,V \\right)} + 2.0 \\frac{\\partial}{\\partial U} \\psi{\\left(U,V \\right)} + 2.0 \\frac{\\partial}{\\partial V} \\psi{\\left(U,V \\right)}\\right) e^{- \\gamma{\\left(U,V \\right)} + 2 \\psi{\\left(U,V \\right)}}}{U + V}$"
      ],
      "text/plain": [
       "⎛                                       2                      2                            \n",
       "⎜    ∂           ∂                     ∂                      ∂                ∂           ∂\n",
       "⎜- U⋅──(ψ(U, V))⋅──(ψ(U, V)) - 2.0⋅U⋅─────(γ(U, V)) + 4.0⋅U⋅─────(ψ(U, V)) - V⋅──(ψ(U, V))⋅─\n",
       "⎝    ∂U          ∂V                  ∂V ∂U                  ∂V ∂U              ∂U          ∂\n",
       "────────────────────────────────────────────────────────────────────────────────────────────\n",
       "                                                                                            \n",
       "\n",
       "                      2                      2                                              \n",
       "                     ∂                      ∂                  ∂                 ∂          \n",
       "─(ψ(U, V)) - 2.0⋅V⋅─────(γ(U, V)) + 4.0⋅V⋅─────(ψ(U, V)) + 2.0⋅──(ψ(U, V)) + 2.0⋅──(ψ(U, V))\n",
       "V                  ∂V ∂U                  ∂V ∂U                ∂U                ∂V         \n",
       "────────────────────────────────────────────────────────────────────────────────────────────\n",
       "         U + V                                                                              \n",
       "\n",
       "⎞                      \n",
       "⎟  -γ(U, V) + 2⋅ψ(U, V)\n",
       "⎟⋅ℯ                    \n",
       "⎠                      \n",
       "───────────────────────\n",
       "                       "
      ]
     },
     "execution_count": 25,
     "metadata": {},
     "output_type": "execute_result"
    }
   ],
   "source": [
    "simplify(einst.tensor())[2,2]"
   ]
  },
  {
   "cell_type": "code",
   "execution_count": null,
   "id": "7cd03fc5",
   "metadata": {},
   "outputs": [],
   "source": []
  }
 ],
 "metadata": {
  "@webio": {
   "lastCommId": null,
   "lastKernelId": null
  },
  "kernelspec": {
   "display_name": "Python 3 (ipykernel)",
   "language": "python",
   "name": "python3"
  },
  "language_info": {
   "codemirror_mode": {
    "name": "ipython",
    "version": 3
   },
   "file_extension": ".py",
   "mimetype": "text/x-python",
   "name": "python",
   "nbconvert_exporter": "python",
   "pygments_lexer": "ipython3",
   "version": "3.8.8"
  }
 },
 "nbformat": 4,
 "nbformat_minor": 5
}
