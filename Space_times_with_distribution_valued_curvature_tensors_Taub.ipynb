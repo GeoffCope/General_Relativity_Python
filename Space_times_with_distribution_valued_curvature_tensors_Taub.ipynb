{
 "cells": [
  {
   "cell_type": "markdown",
   "id": "04761b6b",
   "metadata": {},
   "source": [
    "# Space times with distribution valued curvature tensors by Taub\n",
    "##  Geoff Cope\n",
    "##  Univeristy of Utah\n",
    "##  December 29, 2021 "
   ]
  },
  {
   "cell_type": "markdown",
   "id": "0baa4c1a",
   "metadata": {},
   "source": [
    "https://aip.scitation.org/doi/10.1063/1.524568"
   ]
  },
  {
   "cell_type": "markdown",
   "id": "13559ce9",
   "metadata": {},
   "source": [
    "Go back and add metric 8.2 which is an approximation to Kerr for small rho"
   ]
  },
  {
   "cell_type": "code",
   "execution_count": 1,
   "id": "0e684dad",
   "metadata": {},
   "outputs": [
    {
     "name": "stdout",
     "output_type": "stream",
     "text": [
      "IPython console for SymPy 1.9 (Python 3.8.8-64-bit) (ground types: gmpy)\n",
      "\n",
      "These commands were executed:\n",
      ">>> from __future__ import division\n",
      ">>> from sympy import *\n",
      ">>> x, y, z, t = symbols('x y z t')\n",
      ">>> k, m, n = symbols('k m n', integer=True)\n",
      ">>> f, g, h = symbols('f g h', cls=Function)\n",
      ">>> init_printing()\n",
      "\n",
      "Documentation can be found at https://docs.sympy.org/1.9/\n",
      "\n"
     ]
    }
   ],
   "source": [
    "from sympy import init_session\n",
    "init_session(use_latex=True)"
   ]
  },
  {
   "cell_type": "code",
   "execution_count": 2,
   "id": "3af6ab33",
   "metadata": {},
   "outputs": [],
   "source": [
    "import warnings\n",
    "import matplotlib.cbook\n",
    "warnings.filterwarnings(\"ignore\",category=matplotlib.cbook.mplDeprecation)"
   ]
  },
  {
   "cell_type": "code",
   "execution_count": 3,
   "id": "64d8ec35",
   "metadata": {},
   "outputs": [],
   "source": [
    "t,rho,phi,z,dt,drho,dphi,dz = symbols('t rho phi z dt drho dphi dz')"
   ]
  },
  {
   "cell_type": "code",
   "execution_count": 4,
   "id": "a84ecb49",
   "metadata": {},
   "outputs": [
    {
     "data": {
      "image/png": "[encoded data removed]",
      "text/latex": [
       "$\\displaystyle \\nu{\\left(\\rho,z \\right)}$"
      ],
      "text/plain": [
       "ν(ρ, z)"
      ]
     },
     "execution_count": 4,
     "metadata": {},
     "output_type": "execute_result"
    }
   ],
   "source": [
    "nu = Function('nu')(rho,z)\n",
    "nu"
   ]
  },
  {
   "cell_type": "code",
   "execution_count": 5,
   "id": "22f9f087",
   "metadata": {},
   "outputs": [
    {
     "data": {
      "image/png": "[encoded data removed]",
      "text/latex": [
       "$\\displaystyle V{\\left(\\rho,z \\right)}$"
      ],
      "text/plain": [
       "V(ρ, z)"
      ]
     },
     "execution_count": 5,
     "metadata": {},
     "output_type": "execute_result"
    }
   ],
   "source": [
    "V = Function('V')(rho,z)\n",
    "V"
   ]
  },
  {
   "cell_type": "code",
   "execution_count": 6,
   "id": "38f99fbc",
   "metadata": {},
   "outputs": [
    {
     "data": {
      "text/latex": [
       "$\\displaystyle \\left[\\begin{matrix}t\\\\\\rho\\\\\\phi\\\\z\\end{matrix}\\right]$"
      ],
      "text/plain": [
       "⎡t⎤\n",
       "⎢ ⎥\n",
       "⎢ρ⎥\n",
       "⎢ ⎥\n",
       "⎢φ⎥\n",
       "⎢ ⎥\n",
       "⎣z⎦"
      ]
     },
     "execution_count": 6,
     "metadata": {},
     "output_type": "execute_result"
    }
   ],
   "source": [
    "variables = Matrix([t,rho,phi,z])\n",
    "variables"
   ]
  },
  {
   "cell_type": "code",
   "execution_count": 7,
   "id": "bfad4fdf",
   "metadata": {},
   "outputs": [
    {
     "data": {
      "text/latex": [
       "$\\displaystyle \\left[\\begin{matrix}dt\\\\drho\\\\dphi\\\\dz\\end{matrix}\\right]$"
      ],
      "text/plain": [
       "⎡ dt ⎤\n",
       "⎢    ⎥\n",
       "⎢drho⎥\n",
       "⎢    ⎥\n",
       "⎢dphi⎥\n",
       "⎢    ⎥\n",
       "⎣ dz ⎦"
      ]
     },
     "execution_count": 7,
     "metadata": {},
     "output_type": "execute_result"
    }
   ],
   "source": [
    "differentials = Matrix([dt,drho,dphi,dz])\n",
    "differentials "
   ]
  },
  {
   "cell_type": "code",
   "execution_count": 9,
   "id": "a85fc125",
   "metadata": {},
   "outputs": [
    {
     "data": {
      "image/png": "[encoded data removed]",
      "text/latex": [
       "$\\displaystyle dphi^{2} \\rho^{2} e^{- 2 V{\\left(\\rho,z \\right)}} + drho^{2} e^{- 2 V{\\left(\\rho,z \\right)}} e^{2 \\nu{\\left(\\rho,z \\right)}} - dt^{2} e^{2 V{\\left(\\rho,z \\right)}} + dz^{2} e^{- 2 V{\\left(\\rho,z \\right)}} e^{2 \\nu{\\left(\\rho,z \\right)}}$"
      ],
      "text/plain": [
       "    2  2  -2⋅V(ρ, z)       2  -2⋅V(ρ, z)  2⋅ν(ρ, z)     2  2⋅V(ρ, z)     2  -2⋅V(ρ, z)  2⋅ν(ρ, z)\n",
       "dphi ⋅ρ ⋅ℯ           + drho ⋅ℯ          ⋅ℯ          - dt ⋅ℯ          + dz ⋅ℯ          ⋅ℯ         "
      ]
     },
     "execution_count": 9,
     "metadata": {},
     "output_type": "execute_result"
    }
   ],
   "source": [
    "lineElement =  expand( exp(2*(nu-V))*(drho**2 + dz**2) + rho**2 * exp(-2*V) * dphi**2 - exp(2*V)*dt**2 )\n",
    "lineElement"
   ]
  },
  {
   "cell_type": "code",
   "execution_count": 10,
   "id": "183b6b1a",
   "metadata": {},
   "outputs": [
    {
     "data": {
      "text/latex": [
       "$\\displaystyle \\left[\\begin{matrix}- e^{2 V{\\left(\\rho,z \\right)}} & 0 & 0 & 0\\\\0 & e^{- 2 V{\\left(\\rho,z \\right)}} e^{2 \\nu{\\left(\\rho,z \\right)}} & 0 & 0\\\\0 & 0 & \\rho^{2} e^{- 2 V{\\left(\\rho,z \\right)}} & 0\\\\0 & 0 & 0 & e^{- 2 V{\\left(\\rho,z \\right)}} e^{2 \\nu{\\left(\\rho,z \\right)}}\\end{matrix}\\right]$"
      ],
      "text/plain": [
       "⎡  2⋅V(ρ, z)                                                                ⎤\n",
       "⎢-ℯ                     0                   0                   0           ⎥\n",
       "⎢                                                                           ⎥\n",
       "⎢              -2⋅V(ρ, z)  2⋅ν(ρ, z)                                        ⎥\n",
       "⎢     0       ℯ          ⋅ℯ                 0                   0           ⎥\n",
       "⎢                                                                           ⎥\n",
       "⎢                                      2  -2⋅V(ρ, z)                        ⎥\n",
       "⎢     0                 0             ρ ⋅ℯ                      0           ⎥\n",
       "⎢                                                                           ⎥\n",
       "⎢                                                      -2⋅V(ρ, z)  2⋅ν(ρ, z)⎥\n",
       "⎣     0                 0                   0         ℯ          ⋅ℯ         ⎦"
      ]
     },
     "execution_count": 10,
     "metadata": {},
     "output_type": "execute_result"
    }
   ],
   "source": [
    "g = zeros(4)\n",
    "\n",
    "for i in range(4):\n",
    "    for j in range(4):\n",
    "        if i == j:\n",
    "            g[i,j] = lineElement.coeff( differentials[i],2 ) \n",
    "        else:\n",
    "            g[i,j] = Rational(1,2)*lineElement.coeff( differentials[i]*differentials[j],1 )\n",
    "            \n",
    "g"
   ]
  },
  {
   "cell_type": "code",
   "execution_count": 11,
   "id": "61de81af",
   "metadata": {},
   "outputs": [],
   "source": [
    "import sympy"
   ]
  },
  {
   "cell_type": "code",
   "execution_count": 12,
   "id": "e5f090ec",
   "metadata": {},
   "outputs": [
    {
     "data": {
      "text/latex": [
       "$\\displaystyle \\left[\\begin{matrix}- e^{2 V{\\left(\\rho,z \\right)}} & 0 & 0 & 0\\\\0 & e^{- 2 V{\\left(\\rho,z \\right)}} e^{2 \\nu{\\left(\\rho,z \\right)}} & 0 & 0\\\\0 & 0 & \\rho^{2} e^{- 2 V{\\left(\\rho,z \\right)}} & 0\\\\0 & 0 & 0 & e^{- 2 V{\\left(\\rho,z \\right)}} e^{2 \\nu{\\left(\\rho,z \\right)}}\\end{matrix}\\right]$"
      ],
      "text/plain": [
       "⎡  2⋅V(ρ, z)                                                                ⎤\n",
       "⎢-ℯ                     0                   0                   0           ⎥\n",
       "⎢                                                                           ⎥\n",
       "⎢              -2⋅V(ρ, z)  2⋅ν(ρ, z)                                        ⎥\n",
       "⎢     0       ℯ          ⋅ℯ                 0                   0           ⎥\n",
       "⎢                                                                           ⎥\n",
       "⎢                                      2  -2⋅V(ρ, z)                        ⎥\n",
       "⎢     0                 0             ρ ⋅ℯ                      0           ⎥\n",
       "⎢                                                                           ⎥\n",
       "⎢                                                      -2⋅V(ρ, z)  2⋅ν(ρ, z)⎥\n",
       "⎣     0                 0                   0         ℯ          ⋅ℯ         ⎦"
      ]
     },
     "execution_count": 12,
     "metadata": {},
     "output_type": "execute_result"
    }
   ],
   "source": [
    "m = sympy.Array(g)\n",
    "m"
   ]
  },
  {
   "cell_type": "code",
   "execution_count": 13,
   "id": "c83f315d",
   "metadata": {},
   "outputs": [],
   "source": [
    "from einsteinpy.symbolic import *"
   ]
  },
  {
   "cell_type": "code",
   "execution_count": 14,
   "id": "d5b8eddb",
   "metadata": {},
   "outputs": [],
   "source": [
    "syms = sympy.symbols(\"t rho phi z\")\n",
    "t,rho,phi,z = syms"
   ]
  },
  {
   "cell_type": "code",
   "execution_count": 15,
   "id": "3bae5066",
   "metadata": {},
   "outputs": [],
   "source": [
    "metric = MetricTensor(m,syms)"
   ]
  },
  {
   "cell_type": "code",
   "execution_count": 16,
   "id": "7874e58e",
   "metadata": {},
   "outputs": [
    {
     "data": {
      "text/latex": [
       "$\\displaystyle \\left[\\begin{matrix}\\left[\\begin{matrix}0 & \\frac{\\partial}{\\partial \\rho} V{\\left(\\rho,z \\right)} & 0 & \\frac{\\partial}{\\partial z} V{\\left(\\rho,z \\right)}\\\\\\frac{\\partial}{\\partial \\rho} V{\\left(\\rho,z \\right)} & 0 & 0 & 0\\\\0 & 0 & 0 & 0\\\\\\frac{\\partial}{\\partial z} V{\\left(\\rho,z \\right)} & 0 & 0 & 0\\end{matrix}\\right] & \\left[\\begin{matrix}e^{4 V{\\left(\\rho,z \\right)} - 2 \\nu{\\left(\\rho,z \\right)}} \\frac{\\partial}{\\partial \\rho} V{\\left(\\rho,z \\right)} & 0 & 0 & 0\\\\0 & - \\frac{\\partial}{\\partial \\rho} V{\\left(\\rho,z \\right)} + \\frac{\\partial}{\\partial \\rho} \\nu{\\left(\\rho,z \\right)} & 0 & - \\frac{\\partial}{\\partial z} V{\\left(\\rho,z \\right)} + \\frac{\\partial}{\\partial z} \\nu{\\left(\\rho,z \\right)}\\\\0 & 0 & \\rho \\left(\\rho \\frac{\\partial}{\\partial \\rho} V{\\left(\\rho,z \\right)} - 1\\right) e^{- 2 \\nu{\\left(\\rho,z \\right)}} & 0\\\\0 & - \\frac{\\partial}{\\partial z} V{\\left(\\rho,z \\right)} + \\frac{\\partial}{\\partial z} \\nu{\\left(\\rho,z \\right)} & 0 & \\frac{\\partial}{\\partial \\rho} V{\\left(\\rho,z \\right)} - \\frac{\\partial}{\\partial \\rho} \\nu{\\left(\\rho,z \\right)}\\end{matrix}\\right] & \\left[\\begin{matrix}0 & 0 & 0 & 0\\\\0 & 0 & - \\frac{\\partial}{\\partial \\rho} V{\\left(\\rho,z \\right)} + \\frac{1}{\\rho} & 0\\\\0 & - \\frac{\\partial}{\\partial \\rho} V{\\left(\\rho,z \\right)} + \\frac{1}{\\rho} & 0 & - \\frac{\\partial}{\\partial z} V{\\left(\\rho,z \\right)}\\\\0 & 0 & - \\frac{\\partial}{\\partial z} V{\\left(\\rho,z \\right)} & 0\\end{matrix}\\right] & \\left[\\begin{matrix}e^{4 V{\\left(\\rho,z \\right)} - 2 \\nu{\\left(\\rho,z \\right)}} \\frac{\\partial}{\\partial z} V{\\left(\\rho,z \\right)} & 0 & 0 & 0\\\\0 & \\frac{\\partial}{\\partial z} V{\\left(\\rho,z \\right)} - \\frac{\\partial}{\\partial z} \\nu{\\left(\\rho,z \\right)} & 0 & - \\frac{\\partial}{\\partial \\rho} V{\\left(\\rho,z \\right)} + \\frac{\\partial}{\\partial \\rho} \\nu{\\left(\\rho,z \\right)}\\\\0 & 0 & \\rho^{2} e^{- 2 \\nu{\\left(\\rho,z \\right)}} \\frac{\\partial}{\\partial z} V{\\left(\\rho,z \\right)} & 0\\\\0 & - \\frac{\\partial}{\\partial \\rho} V{\\left(\\rho,z \\right)} + \\frac{\\partial}{\\partial \\rho} \\nu{\\left(\\rho,z \\right)} & 0 & - \\frac{\\partial}{\\partial z} V{\\left(\\rho,z \\right)} + \\frac{\\partial}{\\partial z} \\nu{\\left(\\rho,z \\right)}\\end{matrix}\\right]\\end{matrix}\\right]$"
      ],
      "text/plain": [
       "⎡                                            ⎡ 4⋅V(ρ, z) - 2⋅ν(ρ, z) ∂                                                                   \n",
       "⎢⎡             ∂               ∂          ⎤  ⎢ℯ                     ⋅──(V(ρ, z))               0                               0         \n",
       "⎢⎢     0       ──(V(ρ, z))  0  ──(V(ρ, z))⎥  ⎢                       ∂ρ                                                                  \n",
       "⎢⎢             ∂ρ              ∂z         ⎥  ⎢                                                                                           \n",
       "⎢⎢                                        ⎥  ⎢                                      ∂             ∂                                      \n",
       "⎢⎢∂                                       ⎥  ⎢                0                   - ──(V(ρ, z)) + ──(ν(ρ, z))                  0         \n",
       "⎢⎢──(V(ρ, z))       0       0       0     ⎥  ⎢                                      ∂ρ            ∂ρ                                     \n",
       "⎢⎢∂ρ                                      ⎥  ⎢                                                                                           \n",
       "⎢⎢                                        ⎥  ⎢                                                                   ⎛  ∂              ⎞  -2⋅\n",
       "⎢⎢     0            0       0       0     ⎥  ⎢                0                                0               ρ⋅⎜ρ⋅──(V(ρ, z)) - 1⎟⋅ℯ   \n",
       "⎢⎢                                        ⎥  ⎢                                                                   ⎝  ∂ρ             ⎠     \n",
       "⎢⎢∂                                       ⎥  ⎢                                                                                           \n",
       "⎢⎢──(V(ρ, z))       0       0       0     ⎥  ⎢                                      ∂             ∂                                      \n",
       "⎢⎣∂z                                      ⎦  ⎢                0                   - ──(V(ρ, z)) + ──(ν(ρ, z))                  0         \n",
       "⎣                                            ⎣                                      ∂z            ∂z                                     \n",
       "\n",
       "                                    ⎤                                                           ⎡ 4⋅V(ρ, z) - 2⋅ν(ρ, z) ∂                \n",
       "                      0             ⎥  ⎡0          0                  0               0      ⎤  ⎢ℯ                     ⋅──(V(ρ, z))      \n",
       "                                    ⎥  ⎢                                                     ⎥  ⎢                       ∂z               \n",
       "                                    ⎥  ⎢                        ∂             1              ⎥  ⎢                                        \n",
       "           ∂             ∂          ⎥  ⎢0          0          - ──(V(ρ, z)) + ─       0      ⎥  ⎢                                     ∂  \n",
       "         - ──(V(ρ, z)) + ──(ν(ρ, z))⎥  ⎢                        ∂ρ            ρ              ⎥  ⎢                0                    ──(\n",
       "           ∂z            ∂z         ⎥  ⎢                                                     ⎥  ⎢                                     ∂z \n",
       "                                    ⎥  ⎢     ∂             1                      ∂          ⎥  ⎢                                        \n",
       "ν(ρ, z)                             ⎥  ⎢0  - ──(V(ρ, z)) + ─          0          -──(V(ρ, z))⎥  ⎢                                        \n",
       "                      0             ⎥  ⎢     ∂ρ            ρ                      ∂z         ⎥  ⎢                0                       \n",
       "                                    ⎥  ⎢                                                     ⎥  ⎢                                        \n",
       "                                    ⎥  ⎢                         ∂                           ⎥  ⎢                                        \n",
       "          ∂             ∂           ⎥  ⎢0          0            -──(V(ρ, z))          0      ⎥  ⎢                                      ∂ \n",
       "          ──(V(ρ, z)) - ──(ν(ρ, z)) ⎥  ⎣                         ∂z                          ⎦  ⎢                0                   - ──\n",
       "          ∂ρ            ∂ρ          ⎦                                                           ⎣                                      ∂ρ\n",
       "\n",
       "                                                                                ⎤⎤\n",
       "         0                           0                            0             ⎥⎥\n",
       "                                                                                ⎥⎥\n",
       "                                                                                ⎥⎥\n",
       "           ∂                                           ∂             ∂          ⎥⎥\n",
       "V(ρ, z)) - ──(ν(ρ, z))               0               - ──(V(ρ, z)) + ──(ν(ρ, z))⎥⎥\n",
       "           ∂z                                          ∂ρ            ∂ρ         ⎥⎥\n",
       "                                                                                ⎥⎥\n",
       "                          2  -2⋅ν(ρ, z) ∂                                       ⎥⎥\n",
       "         0               ρ ⋅ℯ          ⋅──(V(ρ, z))               0             ⎥⎥\n",
       "                                        ∂z                                      ⎥⎥\n",
       "                                                                                ⎥⎥\n",
       "            ∂                                          ∂             ∂          ⎥⎥\n",
       "(V(ρ, z)) + ──(ν(ρ, z))              0               - ──(V(ρ, z)) + ──(ν(ρ, z))⎥⎥\n",
       "            ∂ρ                                         ∂z            ∂z         ⎦⎦"
      ]
     },
     "execution_count": 16,
     "metadata": {},
     "output_type": "execute_result"
    }
   ],
   "source": [
    "ch = ChristoffelSymbols.from_metric(metric)\n",
    "simplify(ch.tensor())"
   ]
  },
  {
   "cell_type": "code",
   "execution_count": 17,
   "id": "16f2df79",
   "metadata": {},
   "outputs": [
    {
     "data": {
      "text/latex": [
       "$\\displaystyle \\left[\\begin{matrix}\\frac{\\left(\\rho \\frac{\\partial^{2}}{\\partial \\rho^{2}} V{\\left(\\rho,z \\right)} + \\rho \\frac{\\partial^{2}}{\\partial z^{2}} V{\\left(\\rho,z \\right)} + \\frac{\\partial}{\\partial \\rho} V{\\left(\\rho,z \\right)}\\right) e^{4 V{\\left(\\rho,z \\right)} - 2 \\nu{\\left(\\rho,z \\right)}}}{\\rho} & 0 & 0 & 0\\\\0 & \\frac{\\rho \\left(- 2 \\left(\\frac{\\partial}{\\partial \\rho} V{\\left(\\rho,z \\right)}\\right)^{2} + \\frac{\\partial^{2}}{\\partial \\rho^{2}} V{\\left(\\rho,z \\right)} + \\frac{\\partial^{2}}{\\partial z^{2}} V{\\left(\\rho,z \\right)} - \\frac{\\partial^{2}}{\\partial \\rho^{2}} \\nu{\\left(\\rho,z \\right)} - \\frac{\\partial^{2}}{\\partial z^{2}} \\nu{\\left(\\rho,z \\right)}\\right) + \\frac{\\partial}{\\partial \\rho} V{\\left(\\rho,z \\right)} + \\frac{\\partial}{\\partial \\rho} \\nu{\\left(\\rho,z \\right)}}{\\rho} & 0 & - 2 \\frac{\\partial}{\\partial \\rho} V{\\left(\\rho,z \\right)} \\frac{\\partial}{\\partial z} V{\\left(\\rho,z \\right)} + \\frac{\\frac{\\partial}{\\partial z} \\nu{\\left(\\rho,z \\right)}}{\\rho}\\\\0 & 0 & \\rho \\left(\\rho \\frac{\\partial^{2}}{\\partial \\rho^{2}} V{\\left(\\rho,z \\right)} + \\rho \\frac{\\partial^{2}}{\\partial z^{2}} V{\\left(\\rho,z \\right)} + \\frac{\\partial}{\\partial \\rho} V{\\left(\\rho,z \\right)}\\right) e^{- 2 \\nu{\\left(\\rho,z \\right)}} & 0\\\\0 & - 2 \\frac{\\partial}{\\partial \\rho} V{\\left(\\rho,z \\right)} \\frac{\\partial}{\\partial z} V{\\left(\\rho,z \\right)} + \\frac{\\frac{\\partial}{\\partial z} \\nu{\\left(\\rho,z \\right)}}{\\rho} & 0 & \\frac{\\rho \\left(\\frac{\\partial^{2}}{\\partial \\rho^{2}} V{\\left(\\rho,z \\right)} - 2 \\left(\\frac{\\partial}{\\partial z} V{\\left(\\rho,z \\right)}\\right)^{2} + \\frac{\\partial^{2}}{\\partial z^{2}} V{\\left(\\rho,z \\right)} - \\frac{\\partial^{2}}{\\partial \\rho^{2}} \\nu{\\left(\\rho,z \\right)} - \\frac{\\partial^{2}}{\\partial z^{2}} \\nu{\\left(\\rho,z \\right)}\\right) + \\frac{\\partial}{\\partial \\rho} V{\\left(\\rho,z \\right)} - \\frac{\\partial}{\\partial \\rho} \\nu{\\left(\\rho,z \\right)}}{\\rho}\\end{matrix}\\right]$"
      ],
      "text/plain": [
       "⎡⎛    2                2                       ⎞                                                                                         \n",
       "⎢⎜   ∂                ∂             ∂          ⎟  4⋅V(ρ, z) - 2⋅ν(ρ, z)                                                                  \n",
       "⎢⎜ρ⋅───(V(ρ, z)) + ρ⋅───(V(ρ, z)) + ──(V(ρ, z))⎟⋅ℯ                                                                                       \n",
       "⎢⎜    2                2            ∂ρ         ⎟                                                                                         \n",
       "⎢⎝  ∂ρ               ∂z                        ⎠                                                                                         \n",
       "⎢──────────────────────────────────────────────────────────────────────                                                        0         \n",
       "⎢                                  ρ                                                                                                     \n",
       "⎢                                                                                                                                        \n",
       "⎢                                                                          ⎛                 2     2              2              2       \n",
       "⎢                                                                          ⎜    ⎛∂          ⎞     ∂              ∂              ∂        \n",
       "⎢                                                                        ρ⋅⎜- 2⋅⎜──(V(ρ, z))⎟  + ───(V(ρ, z)) + ───(V(ρ, z)) - ───(ν(ρ, z\n",
       "⎢                                                                          ⎜    ⎝∂ρ         ⎠      2              2              2       \n",
       "⎢                                                                          ⎝                     ∂ρ             ∂z             ∂ρ        \n",
       "⎢                                  0                                     ────────────────────────────────────────────────────────────────\n",
       "⎢                                                                                                                              ρ         \n",
       "⎢                                                                                                                                        \n",
       "⎢                                                                                                                                        \n",
       "⎢                                                                                                                                        \n",
       "⎢                                  0                                                                                           0         \n",
       "⎢                                                                                                                                        \n",
       "⎢                                                                                                                                        \n",
       "⎢                                                                                                                                        \n",
       "⎢                                                                                                                                        \n",
       "⎢                                                                                                                                        \n",
       "⎢                                                                                                                                        \n",
       "⎢                                                                                                                                        \n",
       "⎢                                                                                                              ∂           ∂             \n",
       "⎢                                  0                                                                       - 2⋅──(V(ρ, z))⋅──(V(ρ, z)) + \n",
       "⎣                                                                                                              ∂ρ          ∂z            \n",
       "\n",
       "                                                                                                                                         \n",
       "                                                                                                                                         \n",
       "                                                                                                                                         \n",
       "                                                                                                                                         \n",
       "                                                                                                                                         \n",
       "                                                                              0                                                          \n",
       "                                                                                                                                         \n",
       "                                                                                                                                         \n",
       "       2         ⎞                                                                                                                       \n",
       "      ∂          ⎟   ∂             ∂                                                                                                     \n",
       ")) - ───(ν(ρ, z))⎟ + ──(V(ρ, z)) + ──(ν(ρ, z))                                                                                           \n",
       "       2         ⎟   ∂ρ            ∂ρ                                                                                                    \n",
       "     ∂z          ⎠                                                                                                                       \n",
       "──────────────────────────────────────────────                                0                                                          \n",
       "                                                                                                                                         \n",
       "                                                                                                                                         \n",
       "                                                  ⎛    2                2                       ⎞                                        \n",
       "                                                  ⎜   ∂                ∂             ∂          ⎟  -2⋅ν(ρ, z)                            \n",
       "                                                ρ⋅⎜ρ⋅───(V(ρ, z)) + ρ⋅───(V(ρ, z)) + ──(V(ρ, z))⎟⋅ℯ                                      \n",
       "                                                  ⎜    2                2            ∂ρ         ⎟                                        \n",
       "                                                  ⎝  ∂ρ               ∂z                        ⎠                                        \n",
       "                                                                                                                                         \n",
       "                                                                                                                 ⎛  2                    \n",
       "                                                                                                                 ⎜ ∂               ⎛∂    \n",
       "∂                                                                                                              ρ⋅⎜───(V(ρ, z)) - 2⋅⎜──(V(\n",
       "──(ν(ρ, z))                                                                                                      ⎜  2              ⎝∂z   \n",
       "∂z                                                                                                               ⎝∂ρ                     \n",
       "───────────                                                                   0                                ──────────────────────────\n",
       "     ρ                                                                                                                                   \n",
       "\n",
       "                                                                                  ⎤\n",
       "                                                                                  ⎥\n",
       "                                                                                  ⎥\n",
       "                                                                                  ⎥\n",
       "                                                                                  ⎥\n",
       "                           0                                                      ⎥\n",
       "                                                                                  ⎥\n",
       "                                                                                  ⎥\n",
       "                                                                                  ⎥\n",
       "                                                                                  ⎥\n",
       "                                     ∂                                            ⎥\n",
       "                                     ──(ν(ρ, z))                                  ⎥\n",
       "           ∂           ∂             ∂z                                           ⎥\n",
       "       - 2⋅──(V(ρ, z))⋅──(V(ρ, z)) + ───────────                                  ⎥\n",
       "           ∂ρ          ∂z                 ρ                                       ⎥\n",
       "                                                                                  ⎥\n",
       "                                                                                  ⎥\n",
       "                                                                                  ⎥\n",
       "                           0                                                      ⎥\n",
       "                                                                                  ⎥\n",
       "                                                                                  ⎥\n",
       "                                                                                  ⎥\n",
       "       2     2              2              2         ⎞                            ⎥\n",
       "      ⎞     ∂              ∂              ∂          ⎟   ∂             ∂          ⎥\n",
       "ρ, z))⎟  + ───(V(ρ, z)) - ───(ν(ρ, z)) - ───(ν(ρ, z))⎟ + ──(V(ρ, z)) - ──(ν(ρ, z))⎥\n",
       "      ⎠      2              2              2         ⎟   ∂ρ            ∂ρ         ⎥\n",
       "           ∂z             ∂ρ             ∂z          ⎠                            ⎥\n",
       "──────────────────────────────────────────────────────────────────────────────────⎥\n",
       "                           ρ                                                      ⎦"
      ]
     },
     "execution_count": 17,
     "metadata": {},
     "output_type": "execute_result"
    }
   ],
   "source": [
    "Ric = RicciTensor.from_metric(metric)\n",
    "Ric.tensor()"
   ]
  },
  {
   "cell_type": "code",
   "execution_count": 18,
   "id": "7a3c0303",
   "metadata": {},
   "outputs": [
    {
     "data": {
      "image/png": "[encoded data removed]",
      "text/latex": [
       "$\\displaystyle \\frac{2 \\left(- \\rho \\left(\\frac{\\partial}{\\partial \\rho} V{\\left(\\rho,z \\right)}\\right)^{2} + \\rho \\frac{\\partial^{2}}{\\partial \\rho^{2}} V{\\left(\\rho,z \\right)} - \\rho \\left(\\frac{\\partial}{\\partial z} V{\\left(\\rho,z \\right)}\\right)^{2} + \\rho \\frac{\\partial^{2}}{\\partial z^{2}} V{\\left(\\rho,z \\right)} - \\rho \\frac{\\partial^{2}}{\\partial \\rho^{2}} \\nu{\\left(\\rho,z \\right)} - \\rho \\frac{\\partial^{2}}{\\partial z^{2}} \\nu{\\left(\\rho,z \\right)} + \\frac{\\partial}{\\partial \\rho} V{\\left(\\rho,z \\right)}\\right) e^{2 V{\\left(\\rho,z \\right)} - 2 \\nu{\\left(\\rho,z \\right)}}}{\\rho}$"
      ],
      "text/plain": [
       "  ⎛                 2       2                           2       2                2                2                       ⎞              \n",
       "  ⎜    ⎛∂          ⎞       ∂               ⎛∂          ⎞       ∂                ∂                ∂             ∂          ⎟  2⋅V(ρ, z) - \n",
       "2⋅⎜- ρ⋅⎜──(V(ρ, z))⎟  + ρ⋅───(V(ρ, z)) - ρ⋅⎜──(V(ρ, z))⎟  + ρ⋅───(V(ρ, z)) - ρ⋅───(ν(ρ, z)) - ρ⋅───(ν(ρ, z)) + ──(V(ρ, z))⎟⋅ℯ            \n",
       "  ⎜    ⎝∂ρ         ⎠        2              ⎝∂z         ⎠        2                2                2            ∂ρ         ⎟              \n",
       "  ⎝                       ∂ρ                                  ∂z               ∂ρ               ∂z                        ⎠              \n",
       "─────────────────────────────────────────────────────────────────────────────────────────────────────────────────────────────────────────\n",
       "                                                                        ρ                                                                \n",
       "\n",
       "         \n",
       "2⋅ν(ρ, z)\n",
       "         \n",
       "         \n",
       "         \n",
       "─────────\n",
       "         "
      ]
     },
     "execution_count": 18,
     "metadata": {},
     "output_type": "execute_result"
    }
   ],
   "source": [
    "R = RicciScalar.from_riccitensor(Ric)\n",
    "R.simplify()\n",
    "R.expr"
   ]
  },
  {
   "cell_type": "code",
   "execution_count": 19,
   "id": "5d17837d",
   "metadata": {},
   "outputs": [
    {
     "data": {
      "text/latex": [
       "$\\displaystyle \\left[\\begin{matrix}\\frac{\\left(\\rho \\frac{\\partial^{2}}{\\partial \\rho^{2}} V{\\left(\\rho,z \\right)} + \\rho \\frac{\\partial^{2}}{\\partial z^{2}} V{\\left(\\rho,z \\right)} + \\frac{\\partial}{\\partial \\rho} V{\\left(\\rho,z \\right)}\\right) e^{4 V{\\left(\\rho,z \\right)} - 2 \\nu{\\left(\\rho,z \\right)}}}{\\rho} + \\frac{1.0 \\left(- \\rho \\left(\\frac{\\partial}{\\partial \\rho} V{\\left(\\rho,z \\right)}\\right)^{2} + \\rho \\frac{\\partial^{2}}{\\partial \\rho^{2}} V{\\left(\\rho,z \\right)} - \\rho \\left(\\frac{\\partial}{\\partial z} V{\\left(\\rho,z \\right)}\\right)^{2} + \\rho \\frac{\\partial^{2}}{\\partial z^{2}} V{\\left(\\rho,z \\right)} - \\rho \\frac{\\partial^{2}}{\\partial \\rho^{2}} \\nu{\\left(\\rho,z \\right)} - \\rho \\frac{\\partial^{2}}{\\partial z^{2}} \\nu{\\left(\\rho,z \\right)} + \\frac{\\partial}{\\partial \\rho} V{\\left(\\rho,z \\right)}\\right) e^{2 V{\\left(\\rho,z \\right)} - 2 \\nu{\\left(\\rho,z \\right)}} e^{2 V{\\left(\\rho,z \\right)}}}{\\rho} & 0 & 0 & 0\\\\0 & \\frac{\\rho \\left(- 2 \\left(\\frac{\\partial}{\\partial \\rho} V{\\left(\\rho,z \\right)}\\right)^{2} + \\frac{\\partial^{2}}{\\partial \\rho^{2}} V{\\left(\\rho,z \\right)} + \\frac{\\partial^{2}}{\\partial z^{2}} V{\\left(\\rho,z \\right)} - \\frac{\\partial^{2}}{\\partial \\rho^{2}} \\nu{\\left(\\rho,z \\right)} - \\frac{\\partial^{2}}{\\partial z^{2}} \\nu{\\left(\\rho,z \\right)}\\right) + \\frac{\\partial}{\\partial \\rho} V{\\left(\\rho,z \\right)} + \\frac{\\partial}{\\partial \\rho} \\nu{\\left(\\rho,z \\right)}}{\\rho} - \\frac{1.0 \\left(- \\rho \\left(\\frac{\\partial}{\\partial \\rho} V{\\left(\\rho,z \\right)}\\right)^{2} + \\rho \\frac{\\partial^{2}}{\\partial \\rho^{2}} V{\\left(\\rho,z \\right)} - \\rho \\left(\\frac{\\partial}{\\partial z} V{\\left(\\rho,z \\right)}\\right)^{2} + \\rho \\frac{\\partial^{2}}{\\partial z^{2}} V{\\left(\\rho,z \\right)} - \\rho \\frac{\\partial^{2}}{\\partial \\rho^{2}} \\nu{\\left(\\rho,z \\right)} - \\rho \\frac{\\partial^{2}}{\\partial z^{2}} \\nu{\\left(\\rho,z \\right)} + \\frac{\\partial}{\\partial \\rho} V{\\left(\\rho,z \\right)}\\right) e^{2 V{\\left(\\rho,z \\right)} - 2 \\nu{\\left(\\rho,z \\right)}} e^{- 2 V{\\left(\\rho,z \\right)}} e^{2 \\nu{\\left(\\rho,z \\right)}}}{\\rho} & 0 & - 2 \\frac{\\partial}{\\partial \\rho} V{\\left(\\rho,z \\right)} \\frac{\\partial}{\\partial z} V{\\left(\\rho,z \\right)} + \\frac{\\frac{\\partial}{\\partial z} \\nu{\\left(\\rho,z \\right)}}{\\rho}\\\\0 & 0 & \\rho \\left(\\rho \\frac{\\partial^{2}}{\\partial \\rho^{2}} V{\\left(\\rho,z \\right)} + \\rho \\frac{\\partial^{2}}{\\partial z^{2}} V{\\left(\\rho,z \\right)} + \\frac{\\partial}{\\partial \\rho} V{\\left(\\rho,z \\right)}\\right) e^{- 2 \\nu{\\left(\\rho,z \\right)}} - 1.0 \\rho \\left(- \\rho \\left(\\frac{\\partial}{\\partial \\rho} V{\\left(\\rho,z \\right)}\\right)^{2} + \\rho \\frac{\\partial^{2}}{\\partial \\rho^{2}} V{\\left(\\rho,z \\right)} - \\rho \\left(\\frac{\\partial}{\\partial z} V{\\left(\\rho,z \\right)}\\right)^{2} + \\rho \\frac{\\partial^{2}}{\\partial z^{2}} V{\\left(\\rho,z \\right)} - \\rho \\frac{\\partial^{2}}{\\partial \\rho^{2}} \\nu{\\left(\\rho,z \\right)} - \\rho \\frac{\\partial^{2}}{\\partial z^{2}} \\nu{\\left(\\rho,z \\right)} + \\frac{\\partial}{\\partial \\rho} V{\\left(\\rho,z \\right)}\\right) e^{2 V{\\left(\\rho,z \\right)} - 2 \\nu{\\left(\\rho,z \\right)}} e^{- 2 V{\\left(\\rho,z \\right)}} & 0\\\\0 & - 2 \\frac{\\partial}{\\partial \\rho} V{\\left(\\rho,z \\right)} \\frac{\\partial}{\\partial z} V{\\left(\\rho,z \\right)} + \\frac{\\frac{\\partial}{\\partial z} \\nu{\\left(\\rho,z \\right)}}{\\rho} & 0 & \\frac{\\rho \\left(\\frac{\\partial^{2}}{\\partial \\rho^{2}} V{\\left(\\rho,z \\right)} - 2 \\left(\\frac{\\partial}{\\partial z} V{\\left(\\rho,z \\right)}\\right)^{2} + \\frac{\\partial^{2}}{\\partial z^{2}} V{\\left(\\rho,z \\right)} - \\frac{\\partial^{2}}{\\partial \\rho^{2}} \\nu{\\left(\\rho,z \\right)} - \\frac{\\partial^{2}}{\\partial z^{2}} \\nu{\\left(\\rho,z \\right)}\\right) + \\frac{\\partial}{\\partial \\rho} V{\\left(\\rho,z \\right)} - \\frac{\\partial}{\\partial \\rho} \\nu{\\left(\\rho,z \\right)}}{\\rho} - \\frac{1.0 \\left(- \\rho \\left(\\frac{\\partial}{\\partial \\rho} V{\\left(\\rho,z \\right)}\\right)^{2} + \\rho \\frac{\\partial^{2}}{\\partial \\rho^{2}} V{\\left(\\rho,z \\right)} - \\rho \\left(\\frac{\\partial}{\\partial z} V{\\left(\\rho,z \\right)}\\right)^{2} + \\rho \\frac{\\partial^{2}}{\\partial z^{2}} V{\\left(\\rho,z \\right)} - \\rho \\frac{\\partial^{2}}{\\partial \\rho^{2}} \\nu{\\left(\\rho,z \\right)} - \\rho \\frac{\\partial^{2}}{\\partial z^{2}} \\nu{\\left(\\rho,z \\right)} + \\frac{\\partial}{\\partial \\rho} V{\\left(\\rho,z \\right)}\\right) e^{2 V{\\left(\\rho,z \\right)} - 2 \\nu{\\left(\\rho,z \\right)}} e^{- 2 V{\\left(\\rho,z \\right)}} e^{2 \\nu{\\left(\\rho,z \\right)}}}{\\rho}\\end{matrix}\\right]$"
      ],
      "text/plain": [
       "⎡⎛    2                2                       ⎞                              ⎛                 2       2                           2    \n",
       "⎢⎜   ∂                ∂             ∂          ⎟  4⋅V(ρ, z) - 2⋅ν(ρ, z)       ⎜    ⎛∂          ⎞       ∂               ⎛∂          ⎞     \n",
       "⎢⎜ρ⋅───(V(ρ, z)) + ρ⋅───(V(ρ, z)) + ──(V(ρ, z))⎟⋅ℯ                        1.0⋅⎜- ρ⋅⎜──(V(ρ, z))⎟  + ρ⋅───(V(ρ, z)) - ρ⋅⎜──(V(ρ, z))⎟  + ρ\n",
       "⎢⎜    2                2            ∂ρ         ⎟                              ⎜    ⎝∂ρ         ⎠        2              ⎝∂z         ⎠     \n",
       "⎢⎝  ∂ρ               ∂z                        ⎠                              ⎝                       ∂ρ                                 \n",
       "⎢────────────────────────────────────────────────────────────────────── + ───────────────────────────────────────────────────────────────\n",
       "⎢                                  ρ                                                                                                     \n",
       "⎢                                                                                                                                        \n",
       "⎢                                                                                                                                        \n",
       "⎢                                                                                                                                        \n",
       "⎢                                                                                                                                        \n",
       "⎢                                                                                                                                        \n",
       "⎢                                                                                                                                        \n",
       "⎢                                                                                                                   0                    \n",
       "⎢                                                                                                                                        \n",
       "⎢                                                                                                                                        \n",
       "⎢                                                                                                                                        \n",
       "⎢                                                                                                                                        \n",
       "⎢                                                                                                                   0                    \n",
       "⎢                                                                                                                                        \n",
       "⎢                                                                                                                                        \n",
       "⎢                                                                                                                                        \n",
       "⎢                                                                                                                                        \n",
       "⎢                                                                                                                                        \n",
       "⎢                                                                                                                                        \n",
       "⎢                                                                                                                                        \n",
       "⎢                                                                                                                                        \n",
       "⎢                                                                                                                   0                    \n",
       "⎣                                                                                                                                        \n",
       "\n",
       "   2                2                2                       ⎞                                                                           \n",
       "  ∂                ∂                ∂             ∂          ⎟  2⋅V(ρ, z) - 2⋅ν(ρ, z)  2⋅V(ρ, z)                                         \n",
       "⋅───(V(ρ, z)) - ρ⋅───(ν(ρ, z)) - ρ⋅───(ν(ρ, z)) + ──(V(ρ, z))⎟⋅ℯ                     ⋅ℯ                                                  \n",
       "   2                2                2            ∂ρ         ⎟                                                                           \n",
       " ∂z               ∂ρ               ∂z                        ⎠                                                                           \n",
       "────────────────────────────────────────────────────────────────────────────────────────────────                                         \n",
       "                ρ                                                                                                                        \n",
       "                                                                                                                                         \n",
       "                                                                                                    ⎛                 2     2            \n",
       "                                                                                                    ⎜    ⎛∂          ⎞     ∂             \n",
       "                                                                                                  ρ⋅⎜- 2⋅⎜──(V(ρ, z))⎟  + ───(V(ρ, z)) + \n",
       "                                                                                                    ⎜    ⎝∂ρ         ⎠      2            \n",
       "                                                                                                    ⎝                     ∂ρ             \n",
       "                                                                                                  ───────────────────────────────────────\n",
       "                                                                                                                                         \n",
       "                                                                                                                                         \n",
       "                                                                                                                                         \n",
       "                                                                                                                                         \n",
       "                                                                                                                                         \n",
       "                                                                                                                                         \n",
       "                                                                                                                                         \n",
       "                                                                                                                                         \n",
       "                                                                                                                                         \n",
       "                                                                                                                                         \n",
       "                                                                                                                                         \n",
       "                                                                                                                                         \n",
       "                                                                                                                                         \n",
       "                                                                                                                                         \n",
       "                                                                                                                                         \n",
       "\n",
       "                                                                                                                                         \n",
       "                                                                                                                                         \n",
       "                                                                                                                                         \n",
       "                                                                                                                                         \n",
       "                                                                                                                                         \n",
       "                                                                                                    0                                    \n",
       "                                                                                                                                         \n",
       "                                                                                                                                         \n",
       "  2              2              2         ⎞                               ⎛                 2       2                           2       2\n",
       " ∂              ∂              ∂          ⎟   ∂             ∂             ⎜    ⎛∂          ⎞       ∂               ⎛∂          ⎞       ∂ \n",
       "───(V(ρ, z)) - ───(ν(ρ, z)) - ───(ν(ρ, z))⎟ + ──(V(ρ, z)) + ──(ν(ρ, z))   ⎜- ρ⋅⎜──(V(ρ, z))⎟  + ρ⋅───(V(ρ, z)) - ρ⋅⎜──(V(ρ, z))⎟  + ρ⋅───\n",
       "  2              2              2         ⎟   ∂ρ            ∂ρ            ⎜    ⎝∂ρ         ⎠        2              ⎝∂z         ⎠        2\n",
       "∂z             ∂ρ             ∂z          ⎠                               ⎝                       ∂ρ                                  ∂z \n",
       "─────────────────────────────────────────────────────────────────────── - ───────────────────────────────────────────────────────────────\n",
       "               ρ                                                                                                                         \n",
       "                                                                                                                                         \n",
       "                                                                                                                                         \n",
       "                                                                                                                                         \n",
       "                                                                                                    0                                    \n",
       "                                                                                                                                         \n",
       "                                                                                                                                         \n",
       "                                                                                                                                         \n",
       "                                                                                                                                         \n",
       "                                                                                                                                         \n",
       "                                                                                                              ∂                          \n",
       "                                                                                                              ──(ν(ρ, z))                \n",
       "                                                                                    ∂           ∂             ∂z                         \n",
       "                                                                                - 2⋅──(V(ρ, z))⋅──(V(ρ, z)) + ───────────                \n",
       "                                                                                    ∂ρ          ∂z                 ρ                     \n",
       "\n",
       "                                                                                                                                         \n",
       "                                                                                                                                         \n",
       "                                                                                                                                         \n",
       "                                                                                                                                         \n",
       "                                                                                                                                         \n",
       "                                                                                                                                         \n",
       "                                                                                                                                         \n",
       "                                                                                                                                         \n",
       "                2                2                       ⎞                                                                               \n",
       "               ∂                ∂             ∂          ⎟  2⋅V(ρ, z) - 2⋅ν(ρ, z)  -2⋅V(ρ, z)  2⋅ν(ρ, z)                                 \n",
       "(V(ρ, z)) - ρ⋅───(ν(ρ, z)) - ρ⋅───(ν(ρ, z)) + ──(V(ρ, z))⎟⋅ℯ                     ⋅ℯ          ⋅ℯ                                          \n",
       "                2                2            ∂ρ         ⎟                                                                               \n",
       "              ∂ρ               ∂z                        ⎠                                                                               \n",
       "────────────────────────────────────────────────────────────────────────────────────────────────────────                                 \n",
       "                    ρ                                                                                                                    \n",
       "                                                                                                                                         \n",
       "                                                                                                            ⎛    2                2      \n",
       "                                                                                                            ⎜   ∂                ∂       \n",
       "                                                                                                          ρ⋅⎜ρ⋅───(V(ρ, z)) + ρ⋅───(V(ρ, \n",
       "                                                                                                            ⎜    2                2      \n",
       "                                                                                                            ⎝  ∂ρ               ∂z       \n",
       "                                                                                                                                         \n",
       "                                                                                                                                         \n",
       "                                                                                                                                         \n",
       "                                                                                                                                         \n",
       "                                                                                                                                         \n",
       "                                                                                                                                         \n",
       "                                                                                                                                         \n",
       "                                                                                                                                         \n",
       "\n",
       "                                                                                                                                         \n",
       "                                                                                                                                         \n",
       "                                                                                                                                         \n",
       "                                                                                                                                         \n",
       "                                                                                                                                         \n",
       "                                                                               0                                                         \n",
       "                                                                                                                                         \n",
       "                                                                                                                                         \n",
       "                                                                                                                                         \n",
       "                                                                                                                                         \n",
       "                                                                                                                                         \n",
       "                                                                                                                                         \n",
       "                                                                                                                                         \n",
       "                                                                               0                                                         \n",
       "                                                                                                                                         \n",
       "                                                                                                                                         \n",
       "                 ⎞                 ⎛                 2       2                           2       2                2                2     \n",
       "      ∂          ⎟  -2⋅ν(ρ, z)     ⎜    ⎛∂          ⎞       ∂               ⎛∂          ⎞       ∂                ∂                ∂      \n",
       "z)) + ──(V(ρ, z))⎟⋅ℯ           - ρ⋅⎜- ρ⋅⎜──(V(ρ, z))⎟  + ρ⋅───(V(ρ, z)) - ρ⋅⎜──(V(ρ, z))⎟  + ρ⋅───(V(ρ, z)) - ρ⋅───(ν(ρ, z)) - ρ⋅───(ν(ρ,\n",
       "      ∂ρ         ⎟                 ⎜    ⎝∂ρ         ⎠        2              ⎝∂z         ⎠        2                2                2     \n",
       "                 ⎠                 ⎝                       ∂ρ                                  ∂z               ∂ρ               ∂z      \n",
       "                                                                                                                                         \n",
       "                                                                                                                                         \n",
       "                                                                                                                                         \n",
       "                                                                                                                                         \n",
       "                                                                                                                                         \n",
       "                                                                                                                                         \n",
       "                                                                               0                                                         \n",
       "                                                                                                                                         \n",
       "\n",
       "                                                                                                                                         \n",
       "                                                                                                                                         \n",
       "                                                                                                                                         \n",
       "                                                                                                                                         \n",
       "                                                                                                                                         \n",
       "                                                                                                                                         \n",
       "                                                                                                                                         \n",
       "                                                                                                                                         \n",
       "                                                                                                                                         \n",
       "                                                                                                                                         \n",
       "                                                                                                                                         \n",
       "                                                                                                                                         \n",
       "                                                                                                                                         \n",
       "                                                                                                                                         \n",
       "                                                                                                                                         \n",
       "                                                                                                                                         \n",
       "                  ⎞                                                                                                                      \n",
       "       ∂          ⎟  2⋅V(ρ, z) - 2⋅ν(ρ, z)  -2⋅V(ρ, z)                                                                                   \n",
       " z)) + ──(V(ρ, z))⎟⋅ℯ                     ⋅ℯ                                                                                             \n",
       "       ∂ρ         ⎟                                                                                                                      \n",
       "                  ⎠                                                                                                                      \n",
       "                                                                                                                                         \n",
       "                                                          ⎛  2                           2     2              2              2         ⎞ \n",
       "                                                          ⎜ ∂               ⎛∂          ⎞     ∂              ∂              ∂          ⎟ \n",
       "                                                        ρ⋅⎜───(V(ρ, z)) - 2⋅⎜──(V(ρ, z))⎟  + ───(V(ρ, z)) - ───(ν(ρ, z)) - ───(ν(ρ, z))⎟ \n",
       "                                                          ⎜  2              ⎝∂z         ⎠      2              2              2         ⎟ \n",
       "                                                          ⎝∂ρ                                ∂z             ∂ρ             ∂z          ⎠ \n",
       "                                                        ─────────────────────────────────────────────────────────────────────────────────\n",
       "                                                                                                             ρ                           \n",
       "\n",
       "                                                                                                                                         \n",
       "                                                                                                                                         \n",
       "                                                                                                                                         \n",
       "                                                                                                                                         \n",
       "                                                                                                                                         \n",
       "                                                         0                                                                               \n",
       "                                                                                                                                         \n",
       "                                                                                                                                         \n",
       "                                                                                                                                         \n",
       "                                                                                                                                         \n",
       "                                                                   ∂                                                                     \n",
       "                                                                   ──(ν(ρ, z))                                                           \n",
       "                                         ∂           ∂             ∂z                                                                    \n",
       "                                     - 2⋅──(V(ρ, z))⋅──(V(ρ, z)) + ───────────                                                           \n",
       "                                         ∂ρ          ∂z                 ρ                                                                \n",
       "                                                                                                                                         \n",
       "                                                                                                                                         \n",
       "                                                                                                                                         \n",
       "                                                         0                                                                               \n",
       "                                                                                                                                         \n",
       "                                                                                                                                         \n",
       "                                                                                                                                         \n",
       "                              ⎛                 2       2                           2       2                2                2          \n",
       "  ∂             ∂             ⎜    ⎛∂          ⎞       ∂               ⎛∂          ⎞       ∂                ∂                ∂           \n",
       "+ ──(V(ρ, z)) - ──(ν(ρ, z))   ⎜- ρ⋅⎜──(V(ρ, z))⎟  + ρ⋅───(V(ρ, z)) - ρ⋅⎜──(V(ρ, z))⎟  + ρ⋅───(V(ρ, z)) - ρ⋅───(ν(ρ, z)) - ρ⋅───(ν(ρ, z)) \n",
       "  ∂ρ            ∂ρ            ⎜    ⎝∂ρ         ⎠        2              ⎝∂z         ⎠        2                2                2          \n",
       "                              ⎝                       ∂ρ                                  ∂z               ∂ρ               ∂z           \n",
       "─────────────────────────── - ───────────────────────────────────────────────────────────────────────────────────────────────────────────\n",
       "                                                                                                                 ρ                       \n",
       "\n",
       "                                                            ⎤\n",
       "                                                            ⎥\n",
       "                                                            ⎥\n",
       "                                                            ⎥\n",
       "                                                            ⎥\n",
       "                                                            ⎥\n",
       "                                                            ⎥\n",
       "                                                            ⎥\n",
       "                                                            ⎥\n",
       "                                                            ⎥\n",
       "                                                            ⎥\n",
       "                                                            ⎥\n",
       "                                                            ⎥\n",
       "                                                            ⎥\n",
       "                                                            ⎥\n",
       "                                                            ⎥\n",
       "                                                            ⎥\n",
       "                                                            ⎥\n",
       "                                                            ⎥\n",
       "                                                            ⎥\n",
       "                                                            ⎥\n",
       "                                                            ⎥\n",
       "             ⎞                                              ⎥\n",
       "  ∂          ⎟  2⋅V(ρ, z) - 2⋅ν(ρ, z)  -2⋅V(ρ, z)  2⋅ν(ρ, z)⎥\n",
       "+ ──(V(ρ, z))⎟⋅ℯ                     ⋅ℯ          ⋅ℯ         ⎥\n",
       "  ∂ρ         ⎟                                              ⎥\n",
       "             ⎠                                              ⎥\n",
       "────────────────────────────────────────────────────────────⎥\n",
       "                                                            ⎦"
      ]
     },
     "execution_count": 19,
     "metadata": {},
     "output_type": "execute_result"
    }
   ],
   "source": [
    "einst = EinsteinTensor.from_metric(metric)\n",
    "einst.tensor()"
   ]
  },
  {
   "cell_type": "code",
   "execution_count": 20,
   "id": "c83cfe01",
   "metadata": {},
   "outputs": [],
   "source": [
    "#  rm1 = RiemannCurvatureTensor.from_christoffels(ch)\n",
    "#  rm1.tensor()"
   ]
  },
  {
   "cell_type": "code",
   "execution_count": 21,
   "id": "c6bbe3e1",
   "metadata": {},
   "outputs": [],
   "source": [
    "#  weyl = WeylTensor.from_metric(metric)\n",
    "#  weyl.tensor()"
   ]
  },
  {
   "cell_type": "code",
   "execution_count": 22,
   "id": "eb8abb54",
   "metadata": {},
   "outputs": [
    {
     "data": {
      "text/latex": [
       "$\\displaystyle \\left[\\begin{matrix}\\frac{\\left(\\rho \\frac{\\partial^{2}}{\\partial \\rho^{2}} V{\\left(\\rho,z \\right)} + \\rho \\frac{\\partial^{2}}{\\partial z^{2}} V{\\left(\\rho,z \\right)} + \\frac{\\partial}{\\partial \\rho} V{\\left(\\rho,z \\right)}\\right) e^{4 V{\\left(\\rho,z \\right)} - 2 \\nu{\\left(\\rho,z \\right)}}}{\\rho} & 0 & 0 & 0\\\\0 & \\frac{- \\rho \\left(2 \\left(\\frac{\\partial}{\\partial \\rho} V{\\left(\\rho,z \\right)}\\right)^{2} - \\frac{\\partial^{2}}{\\partial \\rho^{2}} V{\\left(\\rho,z \\right)} - \\frac{\\partial^{2}}{\\partial z^{2}} V{\\left(\\rho,z \\right)} + \\frac{\\partial^{2}}{\\partial \\rho^{2}} \\nu{\\left(\\rho,z \\right)} + \\frac{\\partial^{2}}{\\partial z^{2}} \\nu{\\left(\\rho,z \\right)}\\right) + \\frac{\\partial}{\\partial \\rho} V{\\left(\\rho,z \\right)} + \\frac{\\partial}{\\partial \\rho} \\nu{\\left(\\rho,z \\right)}}{\\rho} & 0 & - 2 \\frac{\\partial}{\\partial \\rho} V{\\left(\\rho,z \\right)} \\frac{\\partial}{\\partial z} V{\\left(\\rho,z \\right)} + \\frac{\\frac{\\partial}{\\partial z} \\nu{\\left(\\rho,z \\right)}}{\\rho}\\\\0 & 0 & \\rho \\left(\\rho \\frac{\\partial^{2}}{\\partial \\rho^{2}} V{\\left(\\rho,z \\right)} + \\rho \\frac{\\partial^{2}}{\\partial z^{2}} V{\\left(\\rho,z \\right)} + \\frac{\\partial}{\\partial \\rho} V{\\left(\\rho,z \\right)}\\right) e^{- 2 \\nu{\\left(\\rho,z \\right)}} & 0\\\\0 & - 2 \\frac{\\partial}{\\partial \\rho} V{\\left(\\rho,z \\right)} \\frac{\\partial}{\\partial z} V{\\left(\\rho,z \\right)} + \\frac{\\frac{\\partial}{\\partial z} \\nu{\\left(\\rho,z \\right)}}{\\rho} & 0 & \\frac{- \\rho \\left(- \\frac{\\partial^{2}}{\\partial \\rho^{2}} V{\\left(\\rho,z \\right)} + 2 \\left(\\frac{\\partial}{\\partial z} V{\\left(\\rho,z \\right)}\\right)^{2} - \\frac{\\partial^{2}}{\\partial z^{2}} V{\\left(\\rho,z \\right)} + \\frac{\\partial^{2}}{\\partial \\rho^{2}} \\nu{\\left(\\rho,z \\right)} + \\frac{\\partial^{2}}{\\partial z^{2}} \\nu{\\left(\\rho,z \\right)}\\right) + \\frac{\\partial}{\\partial \\rho} V{\\left(\\rho,z \\right)} - \\frac{\\partial}{\\partial \\rho} \\nu{\\left(\\rho,z \\right)}}{\\rho}\\end{matrix}\\right]$"
      ],
      "text/plain": [
       "⎡⎛    2                2                       ⎞                                                                                         \n",
       "⎢⎜   ∂                ∂             ∂          ⎟  4⋅V(ρ, z) - 2⋅ν(ρ, z)                                                                  \n",
       "⎢⎜ρ⋅───(V(ρ, z)) + ρ⋅───(V(ρ, z)) + ──(V(ρ, z))⎟⋅ℯ                                                                                       \n",
       "⎢⎜    2                2            ∂ρ         ⎟                                                                                         \n",
       "⎢⎝  ∂ρ               ∂z                        ⎠                                                                                         \n",
       "⎢──────────────────────────────────────────────────────────────────────                                                        0         \n",
       "⎢                                  ρ                                                                                                     \n",
       "⎢                                                                                                                                        \n",
       "⎢                                                                            ⎛               2     2              2              2       \n",
       "⎢                                                                            ⎜  ⎛∂          ⎞     ∂              ∂              ∂        \n",
       "⎢                                                                        - ρ⋅⎜2⋅⎜──(V(ρ, z))⎟  - ───(V(ρ, z)) - ───(V(ρ, z)) + ───(ν(ρ, z\n",
       "⎢                                                                            ⎜  ⎝∂ρ         ⎠      2              2              2       \n",
       "⎢                                                                            ⎝                   ∂ρ             ∂z             ∂ρ        \n",
       "⎢                                  0                                     ────────────────────────────────────────────────────────────────\n",
       "⎢                                                                                                                              ρ         \n",
       "⎢                                                                                                                                        \n",
       "⎢                                                                                                                                        \n",
       "⎢                                                                                                                                        \n",
       "⎢                                  0                                                                                           0         \n",
       "⎢                                                                                                                                        \n",
       "⎢                                                                                                                                        \n",
       "⎢                                                                                                                                        \n",
       "⎢                                                                                                                                        \n",
       "⎢                                                                                                                                        \n",
       "⎢                                                                                                                                        \n",
       "⎢                                                                                                                                        \n",
       "⎢                                                                                                              ∂           ∂             \n",
       "⎢                                  0                                                                       - 2⋅──(V(ρ, z))⋅──(V(ρ, z)) + \n",
       "⎣                                                                                                              ∂ρ          ∂z            \n",
       "\n",
       "                                                                                                                                         \n",
       "                                                                                                                                         \n",
       "                                                                                                                                         \n",
       "                                                                                                                                         \n",
       "                                                                                                                                         \n",
       "                                                                              0                                                          \n",
       "                                                                                                                                         \n",
       "                                                                                                                                         \n",
       "       2         ⎞                                                                                                                       \n",
       "      ∂          ⎟   ∂             ∂                                                                                                     \n",
       ")) + ───(ν(ρ, z))⎟ + ──(V(ρ, z)) + ──(ν(ρ, z))                                                                                           \n",
       "       2         ⎟   ∂ρ            ∂ρ                                                                                                    \n",
       "     ∂z          ⎠                                                                                                                       \n",
       "──────────────────────────────────────────────                                0                                                          \n",
       "                                                                                                                                         \n",
       "                                                                                                                                         \n",
       "                                                  ⎛    2                2                       ⎞                                        \n",
       "                                                  ⎜   ∂                ∂             ∂          ⎟  -2⋅ν(ρ, z)                            \n",
       "                                                ρ⋅⎜ρ⋅───(V(ρ, z)) + ρ⋅───(V(ρ, z)) + ──(V(ρ, z))⎟⋅ℯ                                      \n",
       "                                                  ⎜    2                2            ∂ρ         ⎟                                        \n",
       "                                                  ⎝  ∂ρ               ∂z                        ⎠                                        \n",
       "                                                                                                                                         \n",
       "                                                                                                                   ⎛    2                \n",
       "                                                                                                                   ⎜   ∂               ⎛∂\n",
       "∂                                                                                                              - ρ⋅⎜- ───(V(ρ, z)) + 2⋅⎜─\n",
       "──(ν(ρ, z))                                                                                                        ⎜    2              ⎝∂\n",
       "∂z                                                                                                                 ⎝  ∂ρ                 \n",
       "───────────                                                                   0                                ──────────────────────────\n",
       "     ρ                                                                                                                                   \n",
       "\n",
       "                                                                                      ⎤\n",
       "                                                                                      ⎥\n",
       "                                                                                      ⎥\n",
       "                                                                                      ⎥\n",
       "                                                                                      ⎥\n",
       "                             0                                                        ⎥\n",
       "                                                                                      ⎥\n",
       "                                                                                      ⎥\n",
       "                                                                                      ⎥\n",
       "                                                                                      ⎥\n",
       "                                       ∂                                              ⎥\n",
       "                                       ──(ν(ρ, z))                                    ⎥\n",
       "             ∂           ∂             ∂z                                             ⎥\n",
       "         - 2⋅──(V(ρ, z))⋅──(V(ρ, z)) + ───────────                                    ⎥\n",
       "             ∂ρ          ∂z                 ρ                                         ⎥\n",
       "                                                                                      ⎥\n",
       "                                                                                      ⎥\n",
       "                                                                                      ⎥\n",
       "                             0                                                        ⎥\n",
       "                                                                                      ⎥\n",
       "                                                                                      ⎥\n",
       "                                                                                      ⎥\n",
       "           2     2              2              2         ⎞                            ⎥\n",
       "          ⎞     ∂              ∂              ∂          ⎟   ∂             ∂          ⎥\n",
       "─(V(ρ, z))⎟  - ───(V(ρ, z)) + ───(ν(ρ, z)) + ───(ν(ρ, z))⎟ + ──(V(ρ, z)) - ──(ν(ρ, z))⎥\n",
       "z         ⎠      2              2              2         ⎟   ∂ρ            ∂ρ         ⎥\n",
       "               ∂z             ∂ρ             ∂z          ⎠                            ⎥\n",
       "──────────────────────────────────────────────────────────────────────────────────────⎥\n",
       "                             ρ                                                        ⎦"
      ]
     },
     "execution_count": 22,
     "metadata": {},
     "output_type": "execute_result"
    }
   ],
   "source": [
    "ricciSimplified = simplify(Ric.tensor())\n",
    "ricciSimplified"
   ]
  },
  {
   "cell_type": "code",
   "execution_count": 23,
   "id": "850d5de4",
   "metadata": {},
   "outputs": [
    {
     "data": {
      "text/latex": [
       "$\\displaystyle \\left[\\begin{matrix}\\frac{\\left(- 1.0 \\rho \\left(\\frac{\\partial}{\\partial \\rho} V{\\left(\\rho,z \\right)}\\right)^{2} + 2.0 \\rho \\frac{\\partial^{2}}{\\partial \\rho^{2}} V{\\left(\\rho,z \\right)} - 1.0 \\rho \\left(\\frac{\\partial}{\\partial z} V{\\left(\\rho,z \\right)}\\right)^{2} + 2.0 \\rho \\frac{\\partial^{2}}{\\partial z^{2}} V{\\left(\\rho,z \\right)} - 1.0 \\rho \\frac{\\partial^{2}}{\\partial \\rho^{2}} \\nu{\\left(\\rho,z \\right)} - 1.0 \\rho \\frac{\\partial^{2}}{\\partial z^{2}} \\nu{\\left(\\rho,z \\right)} + 2.0 \\frac{\\partial}{\\partial \\rho} V{\\left(\\rho,z \\right)}\\right) e^{4 V{\\left(\\rho,z \\right)} - 2 \\nu{\\left(\\rho,z \\right)}}}{\\rho} & 0 & 0 & 0\\\\0 & - 1.0 \\left(\\frac{\\partial}{\\partial \\rho} V{\\left(\\rho,z \\right)}\\right)^{2} + 1.0 \\left(\\frac{\\partial}{\\partial z} V{\\left(\\rho,z \\right)}\\right)^{2} + \\frac{1.0 \\frac{\\partial}{\\partial \\rho} \\nu{\\left(\\rho,z \\right)}}{\\rho} & 0 & - 2 \\frac{\\partial}{\\partial \\rho} V{\\left(\\rho,z \\right)} \\frac{\\partial}{\\partial z} V{\\left(\\rho,z \\right)} + \\frac{\\frac{\\partial}{\\partial z} \\nu{\\left(\\rho,z \\right)}}{\\rho}\\\\0 & 0 & 1.0 \\rho^{2} \\left(\\left(\\frac{\\partial}{\\partial \\rho} V{\\left(\\rho,z \\right)}\\right)^{2} + \\left(\\frac{\\partial}{\\partial z} V{\\left(\\rho,z \\right)}\\right)^{2} + \\frac{\\partial^{2}}{\\partial \\rho^{2}} \\nu{\\left(\\rho,z \\right)} + \\frac{\\partial^{2}}{\\partial z^{2}} \\nu{\\left(\\rho,z \\right)}\\right) e^{- 2 \\nu{\\left(\\rho,z \\right)}} & 0\\\\0 & - 2 \\frac{\\partial}{\\partial \\rho} V{\\left(\\rho,z \\right)} \\frac{\\partial}{\\partial z} V{\\left(\\rho,z \\right)} + \\frac{\\frac{\\partial}{\\partial z} \\nu{\\left(\\rho,z \\right)}}{\\rho} & 0 & 1.0 \\left(\\frac{\\partial}{\\partial \\rho} V{\\left(\\rho,z \\right)}\\right)^{2} - 1.0 \\left(\\frac{\\partial}{\\partial z} V{\\left(\\rho,z \\right)}\\right)^{2} - \\frac{1.0 \\frac{\\partial}{\\partial \\rho} \\nu{\\left(\\rho,z \\right)}}{\\rho}\\end{matrix}\\right]$"
      ],
      "text/plain": [
       "⎡⎛                 2           2                           2           2                2                2                           ⎞   \n",
       "⎢⎜    ⎛∂          ⎞           ∂               ⎛∂          ⎞           ∂                ∂                ∂                 ∂          ⎟  4\n",
       "⎢⎜- ρ⋅⎜──(V(ρ, z))⎟  + 2.0⋅ρ⋅───(V(ρ, z)) - ρ⋅⎜──(V(ρ, z))⎟  + 2.0⋅ρ⋅───(V(ρ, z)) - ρ⋅───(ν(ρ, z)) - ρ⋅───(ν(ρ, z)) + 2.0⋅──(V(ρ, z))⎟⋅ℯ \n",
       "⎢⎜    ⎝∂ρ         ⎠            2              ⎝∂z         ⎠            2                2                2                ∂ρ         ⎟   \n",
       "⎢⎝                           ∂ρ                                      ∂z               ∂ρ               ∂z                            ⎠   \n",
       "⎢────────────────────────────────────────────────────────────────────────────────────────────────────────────────────────────────────────\n",
       "⎢                                                                             ρ                                                          \n",
       "⎢                                                                                                                                        \n",
       "⎢                                                                                                                                        \n",
       "⎢                                                                                                                                        \n",
       "⎢                                                                                                                                        \n",
       "⎢                                                                             0                                                          \n",
       "⎢                                                                                                                                        \n",
       "⎢                                                                                                                                        \n",
       "⎢                                                                                                                                        \n",
       "⎢                                                                                                                                        \n",
       "⎢                                                                             0                                                          \n",
       "⎢                                                                                                                                        \n",
       "⎢                                                                                                                                        \n",
       "⎢                                                                                                                                        \n",
       "⎢                                                                                                                                        \n",
       "⎢                                                                                                                                        \n",
       "⎢                                                                                                                                        \n",
       "⎢                                                                             0                                                          \n",
       "⎣                                                                                                                                        \n",
       "\n",
       "                                                                                                                                         \n",
       "⋅V(ρ, z) - 2⋅ν(ρ, z)                                                                                                                     \n",
       "                                                                                                                                         \n",
       "                                                                                                                                         \n",
       "                                                                                                                                         \n",
       "────────────────────                             0                                                                     0                 \n",
       "                                                                                                                                         \n",
       "                                                                                                                                         \n",
       "                                                                  ∂                                                                      \n",
       "                                     2                    2   1.0⋅──(ν(ρ, z))                                                            \n",
       "                        ⎛∂          ⎞        ⎛∂          ⎞        ∂ρ                                                                     \n",
       "                      - ⎜──(V(ρ, z))⎟  + 1.0⋅⎜──(V(ρ, z))⎟  + ───────────────                                          0                 \n",
       "                        ⎝∂ρ         ⎠        ⎝∂z         ⎠           ρ                                                                   \n",
       "                                                                                                                                         \n",
       "                                                                                      ⎛             2                2     2             \n",
       "                                                                                    2 ⎜⎛∂          ⎞    ⎛∂          ⎞     ∂              \n",
       "                                                 0                             1.0⋅ρ ⋅⎜⎜──(V(ρ, z))⎟  + ⎜──(V(ρ, z))⎟  + ───(ν(ρ, z)) + ─\n",
       "                                                                                      ⎜⎝∂ρ         ⎠    ⎝∂z         ⎠      2             \n",
       "                                                                                      ⎝                                  ∂ρ             ∂\n",
       "                                                                                                                                         \n",
       "                                                           ∂                                                                             \n",
       "                                                           ──(ν(ρ, z))                                                                   \n",
       "                                 ∂           ∂             ∂z                                                                            \n",
       "                             - 2⋅──(V(ρ, z))⋅──(V(ρ, z)) + ───────────                                                 0                 \n",
       "                                 ∂ρ          ∂z                 ρ                                                                        \n",
       "\n",
       "                                                                           ⎤\n",
       "                                                                           ⎥\n",
       "                                                                           ⎥\n",
       "                                                                           ⎥\n",
       "                                                                           ⎥\n",
       "                                                  0                        ⎥\n",
       "                                                                           ⎥\n",
       "                                                                           ⎥\n",
       "                                                            ∂              ⎥\n",
       "                                                            ──(ν(ρ, z))    ⎥\n",
       "                                  ∂           ∂             ∂z             ⎥\n",
       "                              - 2⋅──(V(ρ, z))⋅──(V(ρ, z)) + ───────────    ⎥\n",
       "                                  ∂ρ          ∂z                 ρ         ⎥\n",
       "                                                                           ⎥\n",
       " 2         ⎞                                                               ⎥\n",
       "∂          ⎟  -2⋅ν(ρ, z)                                                   ⎥\n",
       "──(ν(ρ, z))⎟⋅ℯ                                    0                        ⎥\n",
       " 2         ⎟                                                               ⎥\n",
       "z          ⎠                                                               ⎥\n",
       "                                                                           ⎥\n",
       "                                                                ∂          ⎥\n",
       "                                           2                2   ──(ν(ρ, z))⎥\n",
       "                              ⎛∂          ⎞    ⎛∂          ⎞    ∂ρ         ⎥\n",
       "                          1.0⋅⎜──(V(ρ, z))⎟  - ⎜──(V(ρ, z))⎟  - ───────────⎥\n",
       "                              ⎝∂ρ         ⎠    ⎝∂z         ⎠         ρ     ⎦"
      ]
     },
     "execution_count": 23,
     "metadata": {},
     "output_type": "execute_result"
    }
   ],
   "source": [
    "einsteinSimplified = simplify(einst.tensor())\n",
    "einsteinSimplified"
   ]
  },
  {
   "cell_type": "code",
   "execution_count": 35,
   "id": "4b4eea93",
   "metadata": {},
   "outputs": [
    {
     "data": {
      "image/png": "[encoded data removed]",
      "text/latex": [
       "$\\displaystyle \\frac{\\partial^{2}}{\\partial \\rho^{2}} V{\\left(\\rho,z \\right)} + \\frac{\\partial^{2}}{\\partial z^{2}} V{\\left(\\rho,z \\right)} + \\frac{\\frac{\\partial}{\\partial \\rho} V{\\left(\\rho,z \\right)}}{\\rho} = 0$"
      ],
      "text/plain": [
       "                              ∂              \n",
       "  2              2            ──(V(ρ, z))    \n",
       " ∂              ∂             ∂ρ             \n",
       "───(V(ρ, z)) + ───(V(ρ, z)) + ─────────── = 0\n",
       "  2              2                 ρ         \n",
       "∂ρ             ∂z                            "
      ]
     },
     "execution_count": 35,
     "metadata": {},
     "output_type": "execute_result"
    }
   ],
   "source": [
    "equation7pt4a = Eq( expand((1/rho)*ricciSimplified[2,2].args[1]),0)\n",
    "equation7pt4a"
   ]
  },
  {
   "cell_type": "code",
   "execution_count": 36,
   "id": "65a6854b",
   "metadata": {},
   "outputs": [
    {
     "data": {
      "image/png": "[encoded data removed]",
      "text/latex": [
       "$\\displaystyle \\frac{\\partial}{\\partial \\rho} \\nu{\\left(\\rho,z \\right)} = \\rho \\left(\\left(\\frac{\\partial}{\\partial \\rho} V{\\left(\\rho,z \\right)}\\right)^{2} - \\left(\\frac{\\partial}{\\partial z} V{\\left(\\rho,z \\right)}\\right)^{2}\\right)$"
      ],
      "text/plain": [
       "                ⎛             2                2⎞\n",
       "∂               ⎜⎛∂          ⎞    ⎛∂          ⎞ ⎟\n",
       "──(ν(ρ, z)) = ρ⋅⎜⎜──(V(ρ, z))⎟  - ⎜──(V(ρ, z))⎟ ⎟\n",
       "∂ρ              ⎝⎝∂ρ         ⎠    ⎝∂z         ⎠ ⎠"
      ]
     },
     "execution_count": 36,
     "metadata": {},
     "output_type": "execute_result"
    }
   ],
   "source": [
    "equation7pt4b = Eq( diff(nu,rho) , solve( einsteinSimplified[1,1] , diff(nu,rho) )[0] )\n",
    "equation7pt4b"
   ]
  },
  {
   "cell_type": "code",
   "execution_count": 34,
   "id": "2d1c02fa",
   "metadata": {},
   "outputs": [
    {
     "data": {
      "image/png": "[encoded data removed]",
      "text/latex": [
       "$\\displaystyle \\frac{\\partial}{\\partial z} \\nu{\\left(\\rho,z \\right)} = 2 \\rho \\frac{\\partial}{\\partial \\rho} V{\\left(\\rho,z \\right)} \\frac{\\partial}{\\partial z} V{\\left(\\rho,z \\right)}$"
      ],
      "text/plain": [
       "∂                 ∂           ∂          \n",
       "──(ν(ρ, z)) = 2⋅ρ⋅──(V(ρ, z))⋅──(V(ρ, z))\n",
       "∂z                ∂ρ          ∂z         "
      ]
     },
     "execution_count": 34,
     "metadata": {},
     "output_type": "execute_result"
    }
   ],
   "source": [
    "equation7pt4c = Eq(diff(nu,z) , solve( ricciSimplified[1,3] , diff(nu,z) )[0] ) \n",
    "equation7pt4c"
   ]
  },
  {
   "cell_type": "code",
   "execution_count": 38,
   "id": "89fd141d",
   "metadata": {},
   "outputs": [
    {
     "data": {
      "text/latex": [
       "$\\displaystyle \\left[\\begin{matrix}\\frac{\\partial^{2}}{\\partial \\rho^{2}} V{\\left(\\rho,z \\right)} + \\frac{\\partial^{2}}{\\partial z^{2}} V{\\left(\\rho,z \\right)} + \\frac{\\frac{\\partial}{\\partial \\rho} V{\\left(\\rho,z \\right)}}{\\rho} = 0\\\\\\frac{\\partial}{\\partial \\rho} \\nu{\\left(\\rho,z \\right)} = \\rho \\left(\\left(\\frac{\\partial}{\\partial \\rho} V{\\left(\\rho,z \\right)}\\right)^{2} - \\left(\\frac{\\partial}{\\partial z} V{\\left(\\rho,z \\right)}\\right)^{2}\\right)\\\\\\frac{\\partial}{\\partial z} \\nu{\\left(\\rho,z \\right)} = 2 \\rho \\frac{\\partial}{\\partial \\rho} V{\\left(\\rho,z \\right)} \\frac{\\partial}{\\partial z} V{\\left(\\rho,z \\right)}\\end{matrix}\\right]$"
      ],
      "text/plain": [
       "⎡                                ∂                ⎤\n",
       "⎢    2              2            ──(V(ρ, z))      ⎥\n",
       "⎢   ∂              ∂             ∂ρ               ⎥\n",
       "⎢  ───(V(ρ, z)) + ───(V(ρ, z)) + ─────────── = 0  ⎥\n",
       "⎢    2              2                 ρ           ⎥\n",
       "⎢  ∂ρ             ∂z                              ⎥\n",
       "⎢                                                 ⎥\n",
       "⎢                ⎛             2                2⎞⎥\n",
       "⎢∂               ⎜⎛∂          ⎞    ⎛∂          ⎞ ⎟⎥\n",
       "⎢──(ν(ρ, z)) = ρ⋅⎜⎜──(V(ρ, z))⎟  - ⎜──(V(ρ, z))⎟ ⎟⎥\n",
       "⎢∂ρ              ⎝⎝∂ρ         ⎠    ⎝∂z         ⎠ ⎠⎥\n",
       "⎢                                                 ⎥\n",
       "⎢    ∂                 ∂           ∂              ⎥\n",
       "⎢    ──(ν(ρ, z)) = 2⋅ρ⋅──(V(ρ, z))⋅──(V(ρ, z))    ⎥\n",
       "⎣    ∂z                ∂ρ          ∂z             ⎦"
      ]
     },
     "execution_count": 38,
     "metadata": {},
     "output_type": "execute_result"
    }
   ],
   "source": [
    "vacuumFieldEquations = Matrix([equation7pt4a,equation7pt4b,equation7pt4c])\n",
    "vacuumFieldEquations"
   ]
  },
  {
   "cell_type": "code",
   "execution_count": null,
   "id": "262a8480",
   "metadata": {},
   "outputs": [],
   "source": []
  }
 ],
 "metadata": {
  "@webio": {
   "lastCommId": "218280762d7940dd872a66f8fc34a37c",
   "lastKernelId": "6e196f80-7be0-4749-8762-4d1649897487"
  },
  "kernelspec": {
   "display_name": "Python 3 (ipykernel)",
   "language": "python",
   "name": "python3"
  },
  "language_info": {
   "codemirror_mode": {
    "name": "ipython",
    "version": 3
   },
   "file_extension": ".py",
   "mimetype": "text/x-python",
   "name": "python",
   "nbconvert_exporter": "python",
   "pygments_lexer": "ipython3",
   "version": "3.8.8"
  }
 },
 "nbformat": 4,
 "nbformat_minor": 5
}
