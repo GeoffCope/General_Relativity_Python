{
 "cells": [
  {
   "cell_type": "markdown",
   "id": "04761b6b",
   "metadata": {},
   "source": [
    "# Space times with distribution valued curvature tensors by Taub\n",
    "##  Geoff Cope\n",
    "##  Univeristy of Utah\n",
    "##  𐐏𐐭𐑌𐐲𐑂𐐲𐑉𐑅𐐮𐐻𐐨 𐐲𐑂 𐐏𐐭𐐻𐐫\n",
    "##  December 29, 2021 "
   ]
  },
  {
   "cell_type": "markdown",
   "id": "0baa4c1a",
   "metadata": {},
   "source": [
    "https://aip.scitation.org/doi/10.1063/1.524568"
   ]
  },
  {
   "cell_type": "markdown",
   "id": "13559ce9",
   "metadata": {},
   "source": [
    "Go back and add metric 8.2 which is an approximation to Kerr for small rho"
   ]
  },
  {
   "cell_type": "markdown",
   "id": "dcaed7e3",
   "metadata": {},
   "source": [
    "Here's a useful link for bessel functions"
   ]
  },
  {
   "cell_type": "markdown",
   "id": "654b63b9",
   "metadata": {},
   "source": [
    "https://sudonull.com/post/31698-Bessel-Functions-in-SymPy-Symbolic-Math-Program"
   ]
  },
  {
   "cell_type": "code",
   "execution_count": 1,
   "id": "0e684dad",
   "metadata": {},
   "outputs": [
    {
     "name": "stdout",
     "output_type": "stream",
     "text": [
      "IPython console for SymPy 1.9 (Python 3.8.8-64-bit) (ground types: gmpy)\n",
      "\n",
      "These commands were executed:\n",
      ">>> from __future__ import division\n",
      ">>> from sympy import *\n",
      ">>> x, y, z, t = symbols('x y z t')\n",
      ">>> k, m, n = symbols('k m n', integer=True)\n",
      ">>> f, g, h = symbols('f g h', cls=Function)\n",
      ">>> init_printing()\n",
      "\n",
      "Documentation can be found at https://docs.sympy.org/1.9/\n",
      "\n"
     ]
    }
   ],
   "source": [
    "from sympy import init_session\n",
    "init_session(use_latex=True)"
   ]
  },
  {
   "cell_type": "code",
   "execution_count": 2,
   "id": "3af6ab33",
   "metadata": {},
   "outputs": [],
   "source": [
    "import warnings\n",
    "import matplotlib.cbook\n",
    "warnings.filterwarnings(\"ignore\",category=matplotlib.cbook.mplDeprecation)"
   ]
  },
  {
   "cell_type": "code",
   "execution_count": 3,
   "id": "64d8ec35",
   "metadata": {},
   "outputs": [],
   "source": [
    "t,rho,phi,z,dt,drho,dphi,dz = symbols('t rho phi z dt drho dphi dz')"
   ]
  },
  {
   "cell_type": "code",
   "execution_count": 4,
   "id": "a84ecb49",
   "metadata": {},
   "outputs": [
    {
     "data": {
      "image/png": "[encoded data removed]",
      "text/latex": [
       "$\\displaystyle \\nu{\\left(\\rho,z \\right)}$"
      ],
      "text/plain": [
       "ν(ρ, z)"
      ]
     },
     "execution_count": 4,
     "metadata": {},
     "output_type": "execute_result"
    }
   ],
   "source": [
    "nu = Function('nu')(rho,z)\n",
    "nu"
   ]
  },
  {
   "cell_type": "code",
   "execution_count": 5,
   "id": "22f9f087",
   "metadata": {},
   "outputs": [
    {
     "data": {
      "image/png": "[encoded data removed]",
      "text/latex": [
       "$\\displaystyle V{\\left(\\rho,z \\right)}$"
      ],
      "text/plain": [
       "V(ρ, z)"
      ]
     },
     "execution_count": 5,
     "metadata": {},
     "output_type": "execute_result"
    }
   ],
   "source": [
    "V = Function('V')(rho,z)\n",
    "V"
   ]
  },
  {
   "cell_type": "code",
   "execution_count": 6,
   "id": "38f99fbc",
   "metadata": {},
   "outputs": [
    {
     "data": {
      "text/latex": [
       "$\\displaystyle \\left[\\begin{matrix}t\\\\\\rho\\\\\\phi\\\\z\\end{matrix}\\right]$"
      ],
      "text/plain": [
       "⎡t⎤\n",
       "⎢ ⎥\n",
       "⎢ρ⎥\n",
       "⎢ ⎥\n",
       "⎢φ⎥\n",
       "⎢ ⎥\n",
       "⎣z⎦"
      ]
     },
     "execution_count": 6,
     "metadata": {},
     "output_type": "execute_result"
    }
   ],
   "source": [
    "variables = Matrix([t,rho,phi,z])\n",
    "variables"
   ]
  },
  {
   "cell_type": "code",
   "execution_count": 7,
   "id": "bfad4fdf",
   "metadata": {},
   "outputs": [
    {
     "data": {
      "text/latex": [
       "$\\displaystyle \\left[\\begin{matrix}dt\\\\drho\\\\dphi\\\\dz\\end{matrix}\\right]$"
      ],
      "text/plain": [
       "⎡ dt ⎤\n",
       "⎢    ⎥\n",
       "⎢drho⎥\n",
       "⎢    ⎥\n",
       "⎢dphi⎥\n",
       "⎢    ⎥\n",
       "⎣ dz ⎦"
      ]
     },
     "execution_count": 7,
     "metadata": {},
     "output_type": "execute_result"
    }
   ],
   "source": [
    "differentials = Matrix([dt,drho,dphi,dz])\n",
    "differentials "
   ]
  },
  {
   "cell_type": "code",
   "execution_count": 8,
   "id": "a85fc125",
   "metadata": {},
   "outputs": [
    {
     "data": {
      "image/png": "[encoded data removed]",
      "text/latex": [
       "$\\displaystyle dphi^{2} \\rho^{2} e^{- 2 V{\\left(\\rho,z \\right)}} + drho^{2} e^{- 2 V{\\left(\\rho,z \\right)}} e^{2 \\nu{\\left(\\rho,z \\right)}} - dt^{2} e^{2 V{\\left(\\rho,z \\right)}} + dz^{2} e^{- 2 V{\\left(\\rho,z \\right)}} e^{2 \\nu{\\left(\\rho,z \\right)}}$"
      ],
      "text/plain": [
       "    2  2  -2⋅V(ρ, z)       2  -2⋅V(ρ, z)  2⋅ν(ρ, z)     2  2⋅V(ρ, z)     2  -2⋅V(ρ, z)  2⋅ν(ρ, z)\n",
       "dphi ⋅ρ ⋅ℯ           + drho ⋅ℯ          ⋅ℯ          - dt ⋅ℯ          + dz ⋅ℯ          ⋅ℯ         "
      ]
     },
     "execution_count": 8,
     "metadata": {},
     "output_type": "execute_result"
    }
   ],
   "source": [
    "lineElement =  expand( exp(2*(nu-V))*(drho**2 + dz**2) + rho**2 * exp(-2*V) * dphi**2 - exp(2*V)*dt**2 )\n",
    "lineElement"
   ]
  },
  {
   "cell_type": "code",
   "execution_count": 9,
   "id": "183b6b1a",
   "metadata": {},
   "outputs": [
    {
     "data": {
      "text/latex": [
       "$\\displaystyle \\left[\\begin{matrix}- e^{2 V{\\left(\\rho,z \\right)}} & 0 & 0 & 0\\\\0 & e^{- 2 V{\\left(\\rho,z \\right)}} e^{2 \\nu{\\left(\\rho,z \\right)}} & 0 & 0\\\\0 & 0 & \\rho^{2} e^{- 2 V{\\left(\\rho,z \\right)}} & 0\\\\0 & 0 & 0 & e^{- 2 V{\\left(\\rho,z \\right)}} e^{2 \\nu{\\left(\\rho,z \\right)}}\\end{matrix}\\right]$"
      ],
      "text/plain": [
       "⎡  2⋅V(ρ, z)                                                                ⎤\n",
       "⎢-ℯ                     0                   0                   0           ⎥\n",
       "⎢                                                                           ⎥\n",
       "⎢              -2⋅V(ρ, z)  2⋅ν(ρ, z)                                        ⎥\n",
       "⎢     0       ℯ          ⋅ℯ                 0                   0           ⎥\n",
       "⎢                                                                           ⎥\n",
       "⎢                                      2  -2⋅V(ρ, z)                        ⎥\n",
       "⎢     0                 0             ρ ⋅ℯ                      0           ⎥\n",
       "⎢                                                                           ⎥\n",
       "⎢                                                      -2⋅V(ρ, z)  2⋅ν(ρ, z)⎥\n",
       "⎣     0                 0                   0         ℯ          ⋅ℯ         ⎦"
      ]
     },
     "execution_count": 9,
     "metadata": {},
     "output_type": "execute_result"
    }
   ],
   "source": [
    "g = zeros(4)\n",
    "\n",
    "for i in range(4):\n",
    "    for j in range(4):\n",
    "        if i == j:\n",
    "            g[i,j] = lineElement.coeff( differentials[i],2 ) \n",
    "        else:\n",
    "            g[i,j] = Rational(1,2)*lineElement.coeff( differentials[i]*differentials[j],1 )\n",
    "            \n",
    "g"
   ]
  },
  {
   "cell_type": "code",
   "execution_count": 10,
   "id": "61de81af",
   "metadata": {},
   "outputs": [],
   "source": [
    "import sympy"
   ]
  },
  {
   "cell_type": "code",
   "execution_count": 11,
   "id": "e5f090ec",
   "metadata": {},
   "outputs": [
    {
     "data": {
      "text/latex": [
       "$\\displaystyle \\left[\\begin{matrix}- e^{2 V{\\left(\\rho,z \\right)}} & 0 & 0 & 0\\\\0 & e^{- 2 V{\\left(\\rho,z \\right)}} e^{2 \\nu{\\left(\\rho,z \\right)}} & 0 & 0\\\\0 & 0 & \\rho^{2} e^{- 2 V{\\left(\\rho,z \\right)}} & 0\\\\0 & 0 & 0 & e^{- 2 V{\\left(\\rho,z \\right)}} e^{2 \\nu{\\left(\\rho,z \\right)}}\\end{matrix}\\right]$"
      ],
      "text/plain": [
       "⎡  2⋅V(ρ, z)                                                                ⎤\n",
       "⎢-ℯ                     0                   0                   0           ⎥\n",
       "⎢                                                                           ⎥\n",
       "⎢              -2⋅V(ρ, z)  2⋅ν(ρ, z)                                        ⎥\n",
       "⎢     0       ℯ          ⋅ℯ                 0                   0           ⎥\n",
       "⎢                                                                           ⎥\n",
       "⎢                                      2  -2⋅V(ρ, z)                        ⎥\n",
       "⎢     0                 0             ρ ⋅ℯ                      0           ⎥\n",
       "⎢                                                                           ⎥\n",
       "⎢                                                      -2⋅V(ρ, z)  2⋅ν(ρ, z)⎥\n",
       "⎣     0                 0                   0         ℯ          ⋅ℯ         ⎦"
      ]
     },
     "execution_count": 11,
     "metadata": {},
     "output_type": "execute_result"
    }
   ],
   "source": [
    "m = sympy.Array(g)\n",
    "m"
   ]
  },
  {
   "cell_type": "code",
   "execution_count": 12,
   "id": "c83f315d",
   "metadata": {},
   "outputs": [],
   "source": [
    "from einsteinpy.symbolic import *"
   ]
  },
  {
   "cell_type": "code",
   "execution_count": 13,
   "id": "d5b8eddb",
   "metadata": {},
   "outputs": [],
   "source": [
    "syms = sympy.symbols(\"t rho phi z\")\n",
    "t,rho,phi,z = syms"
   ]
  },
  {
   "cell_type": "code",
   "execution_count": 14,
   "id": "3bae5066",
   "metadata": {},
   "outputs": [],
   "source": [
    "metric = MetricTensor(m,syms)"
   ]
  },
  {
   "cell_type": "code",
   "execution_count": 15,
   "id": "7874e58e",
   "metadata": {},
   "outputs": [
    {
     "data": {
      "text/latex": [
       "$\\displaystyle \\left[\\begin{matrix}\\left[\\begin{matrix}0 & \\frac{\\partial}{\\partial \\rho} V{\\left(\\rho,z \\right)} & 0 & \\frac{\\partial}{\\partial z} V{\\left(\\rho,z \\right)}\\\\\\frac{\\partial}{\\partial \\rho} V{\\left(\\rho,z \\right)} & 0 & 0 & 0\\\\0 & 0 & 0 & 0\\\\\\frac{\\partial}{\\partial z} V{\\left(\\rho,z \\right)} & 0 & 0 & 0\\end{matrix}\\right] & \\left[\\begin{matrix}e^{4 V{\\left(\\rho,z \\right)} - 2 \\nu{\\left(\\rho,z \\right)}} \\frac{\\partial}{\\partial \\rho} V{\\left(\\rho,z \\right)} & 0 & 0 & 0\\\\0 & - \\frac{\\partial}{\\partial \\rho} V{\\left(\\rho,z \\right)} + \\frac{\\partial}{\\partial \\rho} \\nu{\\left(\\rho,z \\right)} & 0 & - \\frac{\\partial}{\\partial z} V{\\left(\\rho,z \\right)} + \\frac{\\partial}{\\partial z} \\nu{\\left(\\rho,z \\right)}\\\\0 & 0 & \\rho \\left(\\rho \\frac{\\partial}{\\partial \\rho} V{\\left(\\rho,z \\right)} - 1\\right) e^{- 2 \\nu{\\left(\\rho,z \\right)}} & 0\\\\0 & - \\frac{\\partial}{\\partial z} V{\\left(\\rho,z \\right)} + \\frac{\\partial}{\\partial z} \\nu{\\left(\\rho,z \\right)} & 0 & \\frac{\\partial}{\\partial \\rho} V{\\left(\\rho,z \\right)} - \\frac{\\partial}{\\partial \\rho} \\nu{\\left(\\rho,z \\right)}\\end{matrix}\\right] & \\left[\\begin{matrix}0 & 0 & 0 & 0\\\\0 & 0 & - \\frac{\\partial}{\\partial \\rho} V{\\left(\\rho,z \\right)} + \\frac{1}{\\rho} & 0\\\\0 & - \\frac{\\partial}{\\partial \\rho} V{\\left(\\rho,z \\right)} + \\frac{1}{\\rho} & 0 & - \\frac{\\partial}{\\partial z} V{\\left(\\rho,z \\right)}\\\\0 & 0 & - \\frac{\\partial}{\\partial z} V{\\left(\\rho,z \\right)} & 0\\end{matrix}\\right] & \\left[\\begin{matrix}e^{4 V{\\left(\\rho,z \\right)} - 2 \\nu{\\left(\\rho,z \\right)}} \\frac{\\partial}{\\partial z} V{\\left(\\rho,z \\right)} & 0 & 0 & 0\\\\0 & \\frac{\\partial}{\\partial z} V{\\left(\\rho,z \\right)} - \\frac{\\partial}{\\partial z} \\nu{\\left(\\rho,z \\right)} & 0 & - \\frac{\\partial}{\\partial \\rho} V{\\left(\\rho,z \\right)} + \\frac{\\partial}{\\partial \\rho} \\nu{\\left(\\rho,z \\right)}\\\\0 & 0 & \\rho^{2} e^{- 2 \\nu{\\left(\\rho,z \\right)}} \\frac{\\partial}{\\partial z} V{\\left(\\rho,z \\right)} & 0\\\\0 & - \\frac{\\partial}{\\partial \\rho} V{\\left(\\rho,z \\right)} + \\frac{\\partial}{\\partial \\rho} \\nu{\\left(\\rho,z \\right)} & 0 & - \\frac{\\partial}{\\partial z} V{\\left(\\rho,z \\right)} + \\frac{\\partial}{\\partial z} \\nu{\\left(\\rho,z \\right)}\\end{matrix}\\right]\\end{matrix}\\right]$"
      ],
      "text/plain": [
       "⎡                                            ⎡ 4⋅V(ρ, z) - 2⋅ν(ρ, z) ∂                                                                   \n",
       "⎢⎡             ∂               ∂          ⎤  ⎢ℯ                     ⋅──(V(ρ, z))               0                               0         \n",
       "⎢⎢     0       ──(V(ρ, z))  0  ──(V(ρ, z))⎥  ⎢                       ∂ρ                                                                  \n",
       "⎢⎢             ∂ρ              ∂z         ⎥  ⎢                                                                                           \n",
       "⎢⎢                                        ⎥  ⎢                                      ∂             ∂                                      \n",
       "⎢⎢∂                                       ⎥  ⎢                0                   - ──(V(ρ, z)) + ──(ν(ρ, z))                  0         \n",
       "⎢⎢──(V(ρ, z))       0       0       0     ⎥  ⎢                                      ∂ρ            ∂ρ                                     \n",
       "⎢⎢∂ρ                                      ⎥  ⎢                                                                                           \n",
       "⎢⎢                                        ⎥  ⎢                                                                   ⎛  ∂              ⎞  -2⋅\n",
       "⎢⎢     0            0       0       0     ⎥  ⎢                0                                0               ρ⋅⎜ρ⋅──(V(ρ, z)) - 1⎟⋅ℯ   \n",
       "⎢⎢                                        ⎥  ⎢                                                                   ⎝  ∂ρ             ⎠     \n",
       "⎢⎢∂                                       ⎥  ⎢                                                                                           \n",
       "⎢⎢──(V(ρ, z))       0       0       0     ⎥  ⎢                                      ∂             ∂                                      \n",
       "⎢⎣∂z                                      ⎦  ⎢                0                   - ──(V(ρ, z)) + ──(ν(ρ, z))                  0         \n",
       "⎣                                            ⎣                                      ∂z            ∂z                                     \n",
       "\n",
       "                                    ⎤                                                           ⎡ 4⋅V(ρ, z) - 2⋅ν(ρ, z) ∂                \n",
       "                      0             ⎥  ⎡0          0                  0               0      ⎤  ⎢ℯ                     ⋅──(V(ρ, z))      \n",
       "                                    ⎥  ⎢                                                     ⎥  ⎢                       ∂z               \n",
       "                                    ⎥  ⎢                        ∂             1              ⎥  ⎢                                        \n",
       "           ∂             ∂          ⎥  ⎢0          0          - ──(V(ρ, z)) + ─       0      ⎥  ⎢                                     ∂  \n",
       "         - ──(V(ρ, z)) + ──(ν(ρ, z))⎥  ⎢                        ∂ρ            ρ              ⎥  ⎢                0                    ──(\n",
       "           ∂z            ∂z         ⎥  ⎢                                                     ⎥  ⎢                                     ∂z \n",
       "                                    ⎥  ⎢     ∂             1                      ∂          ⎥  ⎢                                        \n",
       "ν(ρ, z)                             ⎥  ⎢0  - ──(V(ρ, z)) + ─          0          -──(V(ρ, z))⎥  ⎢                                        \n",
       "                      0             ⎥  ⎢     ∂ρ            ρ                      ∂z         ⎥  ⎢                0                       \n",
       "                                    ⎥  ⎢                                                     ⎥  ⎢                                        \n",
       "                                    ⎥  ⎢                         ∂                           ⎥  ⎢                                        \n",
       "          ∂             ∂           ⎥  ⎢0          0            -──(V(ρ, z))          0      ⎥  ⎢                                      ∂ \n",
       "          ──(V(ρ, z)) - ──(ν(ρ, z)) ⎥  ⎣                         ∂z                          ⎦  ⎢                0                   - ──\n",
       "          ∂ρ            ∂ρ          ⎦                                                           ⎣                                      ∂ρ\n",
       "\n",
       "                                                                                ⎤⎤\n",
       "         0                           0                            0             ⎥⎥\n",
       "                                                                                ⎥⎥\n",
       "                                                                                ⎥⎥\n",
       "           ∂                                           ∂             ∂          ⎥⎥\n",
       "V(ρ, z)) - ──(ν(ρ, z))               0               - ──(V(ρ, z)) + ──(ν(ρ, z))⎥⎥\n",
       "           ∂z                                          ∂ρ            ∂ρ         ⎥⎥\n",
       "                                                                                ⎥⎥\n",
       "                          2  -2⋅ν(ρ, z) ∂                                       ⎥⎥\n",
       "         0               ρ ⋅ℯ          ⋅──(V(ρ, z))               0             ⎥⎥\n",
       "                                        ∂z                                      ⎥⎥\n",
       "                                                                                ⎥⎥\n",
       "            ∂                                          ∂             ∂          ⎥⎥\n",
       "(V(ρ, z)) + ──(ν(ρ, z))              0               - ──(V(ρ, z)) + ──(ν(ρ, z))⎥⎥\n",
       "            ∂ρ                                         ∂z            ∂z         ⎦⎦"
      ]
     },
     "execution_count": 15,
     "metadata": {},
     "output_type": "execute_result"
    }
   ],
   "source": [
    "ch = ChristoffelSymbols.from_metric(metric)\n",
    "simplify(ch.tensor())"
   ]
  },
  {
   "cell_type": "code",
   "execution_count": 16,
   "id": "16f2df79",
   "metadata": {},
   "outputs": [
    {
     "data": {
      "text/latex": [
       "$\\displaystyle \\left[\\begin{matrix}\\frac{\\left(\\rho \\frac{\\partial^{2}}{\\partial \\rho^{2}} V{\\left(\\rho,z \\right)} + \\rho \\frac{\\partial^{2}}{\\partial z^{2}} V{\\left(\\rho,z \\right)} + \\frac{\\partial}{\\partial \\rho} V{\\left(\\rho,z \\right)}\\right) e^{4 V{\\left(\\rho,z \\right)} - 2 \\nu{\\left(\\rho,z \\right)}}}{\\rho} & 0 & 0 & 0\\\\0 & \\frac{\\rho \\left(- 2 \\left(\\frac{\\partial}{\\partial \\rho} V{\\left(\\rho,z \\right)}\\right)^{2} + \\frac{\\partial^{2}}{\\partial \\rho^{2}} V{\\left(\\rho,z \\right)} + \\frac{\\partial^{2}}{\\partial z^{2}} V{\\left(\\rho,z \\right)} - \\frac{\\partial^{2}}{\\partial \\rho^{2}} \\nu{\\left(\\rho,z \\right)} - \\frac{\\partial^{2}}{\\partial z^{2}} \\nu{\\left(\\rho,z \\right)}\\right) + \\frac{\\partial}{\\partial \\rho} V{\\left(\\rho,z \\right)} + \\frac{\\partial}{\\partial \\rho} \\nu{\\left(\\rho,z \\right)}}{\\rho} & 0 & - 2 \\frac{\\partial}{\\partial \\rho} V{\\left(\\rho,z \\right)} \\frac{\\partial}{\\partial z} V{\\left(\\rho,z \\right)} + \\frac{\\frac{\\partial}{\\partial z} \\nu{\\left(\\rho,z \\right)}}{\\rho}\\\\0 & 0 & \\rho \\left(\\rho \\frac{\\partial^{2}}{\\partial \\rho^{2}} V{\\left(\\rho,z \\right)} + \\rho \\frac{\\partial^{2}}{\\partial z^{2}} V{\\left(\\rho,z \\right)} + \\frac{\\partial}{\\partial \\rho} V{\\left(\\rho,z \\right)}\\right) e^{- 2 \\nu{\\left(\\rho,z \\right)}} & 0\\\\0 & - 2 \\frac{\\partial}{\\partial \\rho} V{\\left(\\rho,z \\right)} \\frac{\\partial}{\\partial z} V{\\left(\\rho,z \\right)} + \\frac{\\frac{\\partial}{\\partial z} \\nu{\\left(\\rho,z \\right)}}{\\rho} & 0 & \\frac{\\rho \\left(\\frac{\\partial^{2}}{\\partial \\rho^{2}} V{\\left(\\rho,z \\right)} - 2 \\left(\\frac{\\partial}{\\partial z} V{\\left(\\rho,z \\right)}\\right)^{2} + \\frac{\\partial^{2}}{\\partial z^{2}} V{\\left(\\rho,z \\right)} - \\frac{\\partial^{2}}{\\partial \\rho^{2}} \\nu{\\left(\\rho,z \\right)} - \\frac{\\partial^{2}}{\\partial z^{2}} \\nu{\\left(\\rho,z \\right)}\\right) + \\frac{\\partial}{\\partial \\rho} V{\\left(\\rho,z \\right)} - \\frac{\\partial}{\\partial \\rho} \\nu{\\left(\\rho,z \\right)}}{\\rho}\\end{matrix}\\right]$"
      ],
      "text/plain": [
       "⎡⎛    2                2                       ⎞                                                                                         \n",
       "⎢⎜   ∂                ∂             ∂          ⎟  4⋅V(ρ, z) - 2⋅ν(ρ, z)                                                                  \n",
       "⎢⎜ρ⋅───(V(ρ, z)) + ρ⋅───(V(ρ, z)) + ──(V(ρ, z))⎟⋅ℯ                                                                                       \n",
       "⎢⎜    2                2            ∂ρ         ⎟                                                                                         \n",
       "⎢⎝  ∂ρ               ∂z                        ⎠                                                                                         \n",
       "⎢──────────────────────────────────────────────────────────────────────                                                        0         \n",
       "⎢                                  ρ                                                                                                     \n",
       "⎢                                                                                                                                        \n",
       "⎢                                                                          ⎛                 2     2              2              2       \n",
       "⎢                                                                          ⎜    ⎛∂          ⎞     ∂              ∂              ∂        \n",
       "⎢                                                                        ρ⋅⎜- 2⋅⎜──(V(ρ, z))⎟  + ───(V(ρ, z)) + ───(V(ρ, z)) - ───(ν(ρ, z\n",
       "⎢                                                                          ⎜    ⎝∂ρ         ⎠      2              2              2       \n",
       "⎢                                                                          ⎝                     ∂ρ             ∂z             ∂ρ        \n",
       "⎢                                  0                                     ────────────────────────────────────────────────────────────────\n",
       "⎢                                                                                                                              ρ         \n",
       "⎢                                                                                                                                        \n",
       "⎢                                                                                                                                        \n",
       "⎢                                                                                                                                        \n",
       "⎢                                  0                                                                                           0         \n",
       "⎢                                                                                                                                        \n",
       "⎢                                                                                                                                        \n",
       "⎢                                                                                                                                        \n",
       "⎢                                                                                                                                        \n",
       "⎢                                                                                                                                        \n",
       "⎢                                                                                                                                        \n",
       "⎢                                                                                                                                        \n",
       "⎢                                                                                                              ∂           ∂             \n",
       "⎢                                  0                                                                       - 2⋅──(V(ρ, z))⋅──(V(ρ, z)) + \n",
       "⎣                                                                                                              ∂ρ          ∂z            \n",
       "\n",
       "                                                                                                                                         \n",
       "                                                                                                                                         \n",
       "                                                                                                                                         \n",
       "                                                                                                                                         \n",
       "                                                                                                                                         \n",
       "                                                                              0                                                          \n",
       "                                                                                                                                         \n",
       "                                                                                                                                         \n",
       "       2         ⎞                                                                                                                       \n",
       "      ∂          ⎟   ∂             ∂                                                                                                     \n",
       ")) - ───(ν(ρ, z))⎟ + ──(V(ρ, z)) + ──(ν(ρ, z))                                                                                           \n",
       "       2         ⎟   ∂ρ            ∂ρ                                                                                                    \n",
       "     ∂z          ⎠                                                                                                                       \n",
       "──────────────────────────────────────────────                                0                                                          \n",
       "                                                                                                                                         \n",
       "                                                                                                                                         \n",
       "                                                  ⎛    2                2                       ⎞                                        \n",
       "                                                  ⎜   ∂                ∂             ∂          ⎟  -2⋅ν(ρ, z)                            \n",
       "                                                ρ⋅⎜ρ⋅───(V(ρ, z)) + ρ⋅───(V(ρ, z)) + ──(V(ρ, z))⎟⋅ℯ                                      \n",
       "                                                  ⎜    2                2            ∂ρ         ⎟                                        \n",
       "                                                  ⎝  ∂ρ               ∂z                        ⎠                                        \n",
       "                                                                                                                                         \n",
       "                                                                                                                 ⎛  2                    \n",
       "                                                                                                                 ⎜ ∂               ⎛∂    \n",
       "∂                                                                                                              ρ⋅⎜───(V(ρ, z)) - 2⋅⎜──(V(\n",
       "──(ν(ρ, z))                                                                                                      ⎜  2              ⎝∂z   \n",
       "∂z                                                                                                               ⎝∂ρ                     \n",
       "───────────                                                                   0                                ──────────────────────────\n",
       "     ρ                                                                                                                                   \n",
       "\n",
       "                                                                                  ⎤\n",
       "                                                                                  ⎥\n",
       "                                                                                  ⎥\n",
       "                                                                                  ⎥\n",
       "                                                                                  ⎥\n",
       "                           0                                                      ⎥\n",
       "                                                                                  ⎥\n",
       "                                                                                  ⎥\n",
       "                                                                                  ⎥\n",
       "                                                                                  ⎥\n",
       "                                     ∂                                            ⎥\n",
       "                                     ──(ν(ρ, z))                                  ⎥\n",
       "           ∂           ∂             ∂z                                           ⎥\n",
       "       - 2⋅──(V(ρ, z))⋅──(V(ρ, z)) + ───────────                                  ⎥\n",
       "           ∂ρ          ∂z                 ρ                                       ⎥\n",
       "                                                                                  ⎥\n",
       "                                                                                  ⎥\n",
       "                                                                                  ⎥\n",
       "                           0                                                      ⎥\n",
       "                                                                                  ⎥\n",
       "                                                                                  ⎥\n",
       "                                                                                  ⎥\n",
       "       2     2              2              2         ⎞                            ⎥\n",
       "      ⎞     ∂              ∂              ∂          ⎟   ∂             ∂          ⎥\n",
       "ρ, z))⎟  + ───(V(ρ, z)) - ───(ν(ρ, z)) - ───(ν(ρ, z))⎟ + ──(V(ρ, z)) - ──(ν(ρ, z))⎥\n",
       "      ⎠      2              2              2         ⎟   ∂ρ            ∂ρ         ⎥\n",
       "           ∂z             ∂ρ             ∂z          ⎠                            ⎥\n",
       "──────────────────────────────────────────────────────────────────────────────────⎥\n",
       "                           ρ                                                      ⎦"
      ]
     },
     "execution_count": 16,
     "metadata": {},
     "output_type": "execute_result"
    }
   ],
   "source": [
    "Ric = RicciTensor.from_metric(metric)\n",
    "Ric.tensor()"
   ]
  },
  {
   "cell_type": "code",
   "execution_count": 17,
   "id": "7a3c0303",
   "metadata": {},
   "outputs": [
    {
     "data": {
      "image/png": "[encoded data removed]",
      "text/latex": [
       "$\\displaystyle \\frac{2 \\left(- \\rho \\left(\\frac{\\partial}{\\partial \\rho} V{\\left(\\rho,z \\right)}\\right)^{2} + \\rho \\frac{\\partial^{2}}{\\partial \\rho^{2}} V{\\left(\\rho,z \\right)} - \\rho \\left(\\frac{\\partial}{\\partial z} V{\\left(\\rho,z \\right)}\\right)^{2} + \\rho \\frac{\\partial^{2}}{\\partial z^{2}} V{\\left(\\rho,z \\right)} - \\rho \\frac{\\partial^{2}}{\\partial \\rho^{2}} \\nu{\\left(\\rho,z \\right)} - \\rho \\frac{\\partial^{2}}{\\partial z^{2}} \\nu{\\left(\\rho,z \\right)} + \\frac{\\partial}{\\partial \\rho} V{\\left(\\rho,z \\right)}\\right) e^{2 V{\\left(\\rho,z \\right)} - 2 \\nu{\\left(\\rho,z \\right)}}}{\\rho}$"
      ],
      "text/plain": [
       "  ⎛                 2       2                           2       2                2                2                       ⎞              \n",
       "  ⎜    ⎛∂          ⎞       ∂               ⎛∂          ⎞       ∂                ∂                ∂             ∂          ⎟  2⋅V(ρ, z) - \n",
       "2⋅⎜- ρ⋅⎜──(V(ρ, z))⎟  + ρ⋅───(V(ρ, z)) - ρ⋅⎜──(V(ρ, z))⎟  + ρ⋅───(V(ρ, z)) - ρ⋅───(ν(ρ, z)) - ρ⋅───(ν(ρ, z)) + ──(V(ρ, z))⎟⋅ℯ            \n",
       "  ⎜    ⎝∂ρ         ⎠        2              ⎝∂z         ⎠        2                2                2            ∂ρ         ⎟              \n",
       "  ⎝                       ∂ρ                                  ∂z               ∂ρ               ∂z                        ⎠              \n",
       "─────────────────────────────────────────────────────────────────────────────────────────────────────────────────────────────────────────\n",
       "                                                                        ρ                                                                \n",
       "\n",
       "         \n",
       "2⋅ν(ρ, z)\n",
       "         \n",
       "         \n",
       "         \n",
       "─────────\n",
       "         "
      ]
     },
     "execution_count": 17,
     "metadata": {},
     "output_type": "execute_result"
    }
   ],
   "source": [
    "R = RicciScalar.from_riccitensor(Ric)\n",
    "R.simplify()\n",
    "R.expr"
   ]
  },
  {
   "cell_type": "code",
   "execution_count": 18,
   "id": "5d17837d",
   "metadata": {},
   "outputs": [
    {
     "data": {
      "text/latex": [
       "$\\displaystyle \\left[\\begin{matrix}\\frac{\\left(\\rho \\frac{\\partial^{2}}{\\partial \\rho^{2}} V{\\left(\\rho,z \\right)} + \\rho \\frac{\\partial^{2}}{\\partial z^{2}} V{\\left(\\rho,z \\right)} + \\frac{\\partial}{\\partial \\rho} V{\\left(\\rho,z \\right)}\\right) e^{4 V{\\left(\\rho,z \\right)} - 2 \\nu{\\left(\\rho,z \\right)}}}{\\rho} + \\frac{1.0 \\left(- \\rho \\left(\\frac{\\partial}{\\partial \\rho} V{\\left(\\rho,z \\right)}\\right)^{2} + \\rho \\frac{\\partial^{2}}{\\partial \\rho^{2}} V{\\left(\\rho,z \\right)} - \\rho \\left(\\frac{\\partial}{\\partial z} V{\\left(\\rho,z \\right)}\\right)^{2} + \\rho \\frac{\\partial^{2}}{\\partial z^{2}} V{\\left(\\rho,z \\right)} - \\rho \\frac{\\partial^{2}}{\\partial \\rho^{2}} \\nu{\\left(\\rho,z \\right)} - \\rho \\frac{\\partial^{2}}{\\partial z^{2}} \\nu{\\left(\\rho,z \\right)} + \\frac{\\partial}{\\partial \\rho} V{\\left(\\rho,z \\right)}\\right) e^{2 V{\\left(\\rho,z \\right)} - 2 \\nu{\\left(\\rho,z \\right)}} e^{2 V{\\left(\\rho,z \\right)}}}{\\rho} & 0 & 0 & 0\\\\0 & \\frac{\\rho \\left(- 2 \\left(\\frac{\\partial}{\\partial \\rho} V{\\left(\\rho,z \\right)}\\right)^{2} + \\frac{\\partial^{2}}{\\partial \\rho^{2}} V{\\left(\\rho,z \\right)} + \\frac{\\partial^{2}}{\\partial z^{2}} V{\\left(\\rho,z \\right)} - \\frac{\\partial^{2}}{\\partial \\rho^{2}} \\nu{\\left(\\rho,z \\right)} - \\frac{\\partial^{2}}{\\partial z^{2}} \\nu{\\left(\\rho,z \\right)}\\right) + \\frac{\\partial}{\\partial \\rho} V{\\left(\\rho,z \\right)} + \\frac{\\partial}{\\partial \\rho} \\nu{\\left(\\rho,z \\right)}}{\\rho} - \\frac{1.0 \\left(- \\rho \\left(\\frac{\\partial}{\\partial \\rho} V{\\left(\\rho,z \\right)}\\right)^{2} + \\rho \\frac{\\partial^{2}}{\\partial \\rho^{2}} V{\\left(\\rho,z \\right)} - \\rho \\left(\\frac{\\partial}{\\partial z} V{\\left(\\rho,z \\right)}\\right)^{2} + \\rho \\frac{\\partial^{2}}{\\partial z^{2}} V{\\left(\\rho,z \\right)} - \\rho \\frac{\\partial^{2}}{\\partial \\rho^{2}} \\nu{\\left(\\rho,z \\right)} - \\rho \\frac{\\partial^{2}}{\\partial z^{2}} \\nu{\\left(\\rho,z \\right)} + \\frac{\\partial}{\\partial \\rho} V{\\left(\\rho,z \\right)}\\right) e^{2 V{\\left(\\rho,z \\right)} - 2 \\nu{\\left(\\rho,z \\right)}} e^{- 2 V{\\left(\\rho,z \\right)}} e^{2 \\nu{\\left(\\rho,z \\right)}}}{\\rho} & 0 & - 2 \\frac{\\partial}{\\partial \\rho} V{\\left(\\rho,z \\right)} \\frac{\\partial}{\\partial z} V{\\left(\\rho,z \\right)} + \\frac{\\frac{\\partial}{\\partial z} \\nu{\\left(\\rho,z \\right)}}{\\rho}\\\\0 & 0 & \\rho \\left(\\rho \\frac{\\partial^{2}}{\\partial \\rho^{2}} V{\\left(\\rho,z \\right)} + \\rho \\frac{\\partial^{2}}{\\partial z^{2}} V{\\left(\\rho,z \\right)} + \\frac{\\partial}{\\partial \\rho} V{\\left(\\rho,z \\right)}\\right) e^{- 2 \\nu{\\left(\\rho,z \\right)}} - 1.0 \\rho \\left(- \\rho \\left(\\frac{\\partial}{\\partial \\rho} V{\\left(\\rho,z \\right)}\\right)^{2} + \\rho \\frac{\\partial^{2}}{\\partial \\rho^{2}} V{\\left(\\rho,z \\right)} - \\rho \\left(\\frac{\\partial}{\\partial z} V{\\left(\\rho,z \\right)}\\right)^{2} + \\rho \\frac{\\partial^{2}}{\\partial z^{2}} V{\\left(\\rho,z \\right)} - \\rho \\frac{\\partial^{2}}{\\partial \\rho^{2}} \\nu{\\left(\\rho,z \\right)} - \\rho \\frac{\\partial^{2}}{\\partial z^{2}} \\nu{\\left(\\rho,z \\right)} + \\frac{\\partial}{\\partial \\rho} V{\\left(\\rho,z \\right)}\\right) e^{2 V{\\left(\\rho,z \\right)} - 2 \\nu{\\left(\\rho,z \\right)}} e^{- 2 V{\\left(\\rho,z \\right)}} & 0\\\\0 & - 2 \\frac{\\partial}{\\partial \\rho} V{\\left(\\rho,z \\right)} \\frac{\\partial}{\\partial z} V{\\left(\\rho,z \\right)} + \\frac{\\frac{\\partial}{\\partial z} \\nu{\\left(\\rho,z \\right)}}{\\rho} & 0 & \\frac{\\rho \\left(\\frac{\\partial^{2}}{\\partial \\rho^{2}} V{\\left(\\rho,z \\right)} - 2 \\left(\\frac{\\partial}{\\partial z} V{\\left(\\rho,z \\right)}\\right)^{2} + \\frac{\\partial^{2}}{\\partial z^{2}} V{\\left(\\rho,z \\right)} - \\frac{\\partial^{2}}{\\partial \\rho^{2}} \\nu{\\left(\\rho,z \\right)} - \\frac{\\partial^{2}}{\\partial z^{2}} \\nu{\\left(\\rho,z \\right)}\\right) + \\frac{\\partial}{\\partial \\rho} V{\\left(\\rho,z \\right)} - \\frac{\\partial}{\\partial \\rho} \\nu{\\left(\\rho,z \\right)}}{\\rho} - \\frac{1.0 \\left(- \\rho \\left(\\frac{\\partial}{\\partial \\rho} V{\\left(\\rho,z \\right)}\\right)^{2} + \\rho \\frac{\\partial^{2}}{\\partial \\rho^{2}} V{\\left(\\rho,z \\right)} - \\rho \\left(\\frac{\\partial}{\\partial z} V{\\left(\\rho,z \\right)}\\right)^{2} + \\rho \\frac{\\partial^{2}}{\\partial z^{2}} V{\\left(\\rho,z \\right)} - \\rho \\frac{\\partial^{2}}{\\partial \\rho^{2}} \\nu{\\left(\\rho,z \\right)} - \\rho \\frac{\\partial^{2}}{\\partial z^{2}} \\nu{\\left(\\rho,z \\right)} + \\frac{\\partial}{\\partial \\rho} V{\\left(\\rho,z \\right)}\\right) e^{2 V{\\left(\\rho,z \\right)} - 2 \\nu{\\left(\\rho,z \\right)}} e^{- 2 V{\\left(\\rho,z \\right)}} e^{2 \\nu{\\left(\\rho,z \\right)}}}{\\rho}\\end{matrix}\\right]$"
      ],
      "text/plain": [
       "⎡⎛    2                2                       ⎞                              ⎛                 2       2                           2    \n",
       "⎢⎜   ∂                ∂             ∂          ⎟  4⋅V(ρ, z) - 2⋅ν(ρ, z)       ⎜    ⎛∂          ⎞       ∂               ⎛∂          ⎞     \n",
       "⎢⎜ρ⋅───(V(ρ, z)) + ρ⋅───(V(ρ, z)) + ──(V(ρ, z))⎟⋅ℯ                        1.0⋅⎜- ρ⋅⎜──(V(ρ, z))⎟  + ρ⋅───(V(ρ, z)) - ρ⋅⎜──(V(ρ, z))⎟  + ρ\n",
       "⎢⎜    2                2            ∂ρ         ⎟                              ⎜    ⎝∂ρ         ⎠        2              ⎝∂z         ⎠     \n",
       "⎢⎝  ∂ρ               ∂z                        ⎠                              ⎝                       ∂ρ                                 \n",
       "⎢────────────────────────────────────────────────────────────────────── + ───────────────────────────────────────────────────────────────\n",
       "⎢                                  ρ                                                                                                     \n",
       "⎢                                                                                                                                        \n",
       "⎢                                                                                                                                        \n",
       "⎢                                                                                                                                        \n",
       "⎢                                                                                                                                        \n",
       "⎢                                                                                                                                        \n",
       "⎢                                                                                                                                        \n",
       "⎢                                                                                                                   0                    \n",
       "⎢                                                                                                                                        \n",
       "⎢                                                                                                                                        \n",
       "⎢                                                                                                                                        \n",
       "⎢                                                                                                                                        \n",
       "⎢                                                                                                                   0                    \n",
       "⎢                                                                                                                                        \n",
       "⎢                                                                                                                                        \n",
       "⎢                                                                                                                                        \n",
       "⎢                                                                                                                                        \n",
       "⎢                                                                                                                                        \n",
       "⎢                                                                                                                                        \n",
       "⎢                                                                                                                                        \n",
       "⎢                                                                                                                                        \n",
       "⎢                                                                                                                   0                    \n",
       "⎣                                                                                                                                        \n",
       "\n",
       "   2                2                2                       ⎞                                                                           \n",
       "  ∂                ∂                ∂             ∂          ⎟  2⋅V(ρ, z) - 2⋅ν(ρ, z)  2⋅V(ρ, z)                                         \n",
       "⋅───(V(ρ, z)) - ρ⋅───(ν(ρ, z)) - ρ⋅───(ν(ρ, z)) + ──(V(ρ, z))⎟⋅ℯ                     ⋅ℯ                                                  \n",
       "   2                2                2            ∂ρ         ⎟                                                                           \n",
       " ∂z               ∂ρ               ∂z                        ⎠                                                                           \n",
       "────────────────────────────────────────────────────────────────────────────────────────────────                                         \n",
       "                ρ                                                                                                                        \n",
       "                                                                                                                                         \n",
       "                                                                                                    ⎛                 2     2            \n",
       "                                                                                                    ⎜    ⎛∂          ⎞     ∂             \n",
       "                                                                                                  ρ⋅⎜- 2⋅⎜──(V(ρ, z))⎟  + ───(V(ρ, z)) + \n",
       "                                                                                                    ⎜    ⎝∂ρ         ⎠      2            \n",
       "                                                                                                    ⎝                     ∂ρ             \n",
       "                                                                                                  ───────────────────────────────────────\n",
       "                                                                                                                                         \n",
       "                                                                                                                                         \n",
       "                                                                                                                                         \n",
       "                                                                                                                                         \n",
       "                                                                                                                                         \n",
       "                                                                                                                                         \n",
       "                                                                                                                                         \n",
       "                                                                                                                                         \n",
       "                                                                                                                                         \n",
       "                                                                                                                                         \n",
       "                                                                                                                                         \n",
       "                                                                                                                                         \n",
       "                                                                                                                                         \n",
       "                                                                                                                                         \n",
       "                                                                                                                                         \n",
       "\n",
       "                                                                                                                                         \n",
       "                                                                                                                                         \n",
       "                                                                                                                                         \n",
       "                                                                                                                                         \n",
       "                                                                                                                                         \n",
       "                                                                                                    0                                    \n",
       "                                                                                                                                         \n",
       "                                                                                                                                         \n",
       "  2              2              2         ⎞                               ⎛                 2       2                           2       2\n",
       " ∂              ∂              ∂          ⎟   ∂             ∂             ⎜    ⎛∂          ⎞       ∂               ⎛∂          ⎞       ∂ \n",
       "───(V(ρ, z)) - ───(ν(ρ, z)) - ───(ν(ρ, z))⎟ + ──(V(ρ, z)) + ──(ν(ρ, z))   ⎜- ρ⋅⎜──(V(ρ, z))⎟  + ρ⋅───(V(ρ, z)) - ρ⋅⎜──(V(ρ, z))⎟  + ρ⋅───\n",
       "  2              2              2         ⎟   ∂ρ            ∂ρ            ⎜    ⎝∂ρ         ⎠        2              ⎝∂z         ⎠        2\n",
       "∂z             ∂ρ             ∂z          ⎠                               ⎝                       ∂ρ                                  ∂z \n",
       "─────────────────────────────────────────────────────────────────────── - ───────────────────────────────────────────────────────────────\n",
       "               ρ                                                                                                                         \n",
       "                                                                                                                                         \n",
       "                                                                                                                                         \n",
       "                                                                                                                                         \n",
       "                                                                                                    0                                    \n",
       "                                                                                                                                         \n",
       "                                                                                                                                         \n",
       "                                                                                                                                         \n",
       "                                                                                                                                         \n",
       "                                                                                                                                         \n",
       "                                                                                                              ∂                          \n",
       "                                                                                                              ──(ν(ρ, z))                \n",
       "                                                                                    ∂           ∂             ∂z                         \n",
       "                                                                                - 2⋅──(V(ρ, z))⋅──(V(ρ, z)) + ───────────                \n",
       "                                                                                    ∂ρ          ∂z                 ρ                     \n",
       "\n",
       "                                                                                                                                         \n",
       "                                                                                                                                         \n",
       "                                                                                                                                         \n",
       "                                                                                                                                         \n",
       "                                                                                                                                         \n",
       "                                                                                                                                         \n",
       "                                                                                                                                         \n",
       "                                                                                                                                         \n",
       "                2                2                       ⎞                                                                               \n",
       "               ∂                ∂             ∂          ⎟  2⋅V(ρ, z) - 2⋅ν(ρ, z)  -2⋅V(ρ, z)  2⋅ν(ρ, z)                                 \n",
       "(V(ρ, z)) - ρ⋅───(ν(ρ, z)) - ρ⋅───(ν(ρ, z)) + ──(V(ρ, z))⎟⋅ℯ                     ⋅ℯ          ⋅ℯ                                          \n",
       "                2                2            ∂ρ         ⎟                                                                               \n",
       "              ∂ρ               ∂z                        ⎠                                                                               \n",
       "────────────────────────────────────────────────────────────────────────────────────────────────────────                                 \n",
       "                    ρ                                                                                                                    \n",
       "                                                                                                                                         \n",
       "                                                                                                            ⎛    2                2      \n",
       "                                                                                                            ⎜   ∂                ∂       \n",
       "                                                                                                          ρ⋅⎜ρ⋅───(V(ρ, z)) + ρ⋅───(V(ρ, \n",
       "                                                                                                            ⎜    2                2      \n",
       "                                                                                                            ⎝  ∂ρ               ∂z       \n",
       "                                                                                                                                         \n",
       "                                                                                                                                         \n",
       "                                                                                                                                         \n",
       "                                                                                                                                         \n",
       "                                                                                                                                         \n",
       "                                                                                                                                         \n",
       "                                                                                                                                         \n",
       "                                                                                                                                         \n",
       "\n",
       "                                                                                                                                         \n",
       "                                                                                                                                         \n",
       "                                                                                                                                         \n",
       "                                                                                                                                         \n",
       "                                                                                                                                         \n",
       "                                                                               0                                                         \n",
       "                                                                                                                                         \n",
       "                                                                                                                                         \n",
       "                                                                                                                                         \n",
       "                                                                                                                                         \n",
       "                                                                                                                                         \n",
       "                                                                                                                                         \n",
       "                                                                                                                                         \n",
       "                                                                               0                                                         \n",
       "                                                                                                                                         \n",
       "                                                                                                                                         \n",
       "                 ⎞                 ⎛                 2       2                           2       2                2                2     \n",
       "      ∂          ⎟  -2⋅ν(ρ, z)     ⎜    ⎛∂          ⎞       ∂               ⎛∂          ⎞       ∂                ∂                ∂      \n",
       "z)) + ──(V(ρ, z))⎟⋅ℯ           - ρ⋅⎜- ρ⋅⎜──(V(ρ, z))⎟  + ρ⋅───(V(ρ, z)) - ρ⋅⎜──(V(ρ, z))⎟  + ρ⋅───(V(ρ, z)) - ρ⋅───(ν(ρ, z)) - ρ⋅───(ν(ρ,\n",
       "      ∂ρ         ⎟                 ⎜    ⎝∂ρ         ⎠        2              ⎝∂z         ⎠        2                2                2     \n",
       "                 ⎠                 ⎝                       ∂ρ                                  ∂z               ∂ρ               ∂z      \n",
       "                                                                                                                                         \n",
       "                                                                                                                                         \n",
       "                                                                                                                                         \n",
       "                                                                                                                                         \n",
       "                                                                                                                                         \n",
       "                                                                                                                                         \n",
       "                                                                               0                                                         \n",
       "                                                                                                                                         \n",
       "\n",
       "                                                                                                                                         \n",
       "                                                                                                                                         \n",
       "                                                                                                                                         \n",
       "                                                                                                                                         \n",
       "                                                                                                                                         \n",
       "                                                                                                                                         \n",
       "                                                                                                                                         \n",
       "                                                                                                                                         \n",
       "                                                                                                                                         \n",
       "                                                                                                                                         \n",
       "                                                                                                                                         \n",
       "                                                                                                                                         \n",
       "                                                                                                                                         \n",
       "                                                                                                                                         \n",
       "                                                                                                                                         \n",
       "                                                                                                                                         \n",
       "                  ⎞                                                                                                                      \n",
       "       ∂          ⎟  2⋅V(ρ, z) - 2⋅ν(ρ, z)  -2⋅V(ρ, z)                                                                                   \n",
       " z)) + ──(V(ρ, z))⎟⋅ℯ                     ⋅ℯ                                                                                             \n",
       "       ∂ρ         ⎟                                                                                                                      \n",
       "                  ⎠                                                                                                                      \n",
       "                                                                                                                                         \n",
       "                                                          ⎛  2                           2     2              2              2         ⎞ \n",
       "                                                          ⎜ ∂               ⎛∂          ⎞     ∂              ∂              ∂          ⎟ \n",
       "                                                        ρ⋅⎜───(V(ρ, z)) - 2⋅⎜──(V(ρ, z))⎟  + ───(V(ρ, z)) - ───(ν(ρ, z)) - ───(ν(ρ, z))⎟ \n",
       "                                                          ⎜  2              ⎝∂z         ⎠      2              2              2         ⎟ \n",
       "                                                          ⎝∂ρ                                ∂z             ∂ρ             ∂z          ⎠ \n",
       "                                                        ─────────────────────────────────────────────────────────────────────────────────\n",
       "                                                                                                             ρ                           \n",
       "\n",
       "                                                                                                                                         \n",
       "                                                                                                                                         \n",
       "                                                                                                                                         \n",
       "                                                                                                                                         \n",
       "                                                                                                                                         \n",
       "                                                         0                                                                               \n",
       "                                                                                                                                         \n",
       "                                                                                                                                         \n",
       "                                                                                                                                         \n",
       "                                                                                                                                         \n",
       "                                                                   ∂                                                                     \n",
       "                                                                   ──(ν(ρ, z))                                                           \n",
       "                                         ∂           ∂             ∂z                                                                    \n",
       "                                     - 2⋅──(V(ρ, z))⋅──(V(ρ, z)) + ───────────                                                           \n",
       "                                         ∂ρ          ∂z                 ρ                                                                \n",
       "                                                                                                                                         \n",
       "                                                                                                                                         \n",
       "                                                                                                                                         \n",
       "                                                         0                                                                               \n",
       "                                                                                                                                         \n",
       "                                                                                                                                         \n",
       "                                                                                                                                         \n",
       "                              ⎛                 2       2                           2       2                2                2          \n",
       "  ∂             ∂             ⎜    ⎛∂          ⎞       ∂               ⎛∂          ⎞       ∂                ∂                ∂           \n",
       "+ ──(V(ρ, z)) - ──(ν(ρ, z))   ⎜- ρ⋅⎜──(V(ρ, z))⎟  + ρ⋅───(V(ρ, z)) - ρ⋅⎜──(V(ρ, z))⎟  + ρ⋅───(V(ρ, z)) - ρ⋅───(ν(ρ, z)) - ρ⋅───(ν(ρ, z)) \n",
       "  ∂ρ            ∂ρ            ⎜    ⎝∂ρ         ⎠        2              ⎝∂z         ⎠        2                2                2          \n",
       "                              ⎝                       ∂ρ                                  ∂z               ∂ρ               ∂z           \n",
       "─────────────────────────── - ───────────────────────────────────────────────────────────────────────────────────────────────────────────\n",
       "                                                                                                                 ρ                       \n",
       "\n",
       "                                                            ⎤\n",
       "                                                            ⎥\n",
       "                                                            ⎥\n",
       "                                                            ⎥\n",
       "                                                            ⎥\n",
       "                                                            ⎥\n",
       "                                                            ⎥\n",
       "                                                            ⎥\n",
       "                                                            ⎥\n",
       "                                                            ⎥\n",
       "                                                            ⎥\n",
       "                                                            ⎥\n",
       "                                                            ⎥\n",
       "                                                            ⎥\n",
       "                                                            ⎥\n",
       "                                                            ⎥\n",
       "                                                            ⎥\n",
       "                                                            ⎥\n",
       "                                                            ⎥\n",
       "                                                            ⎥\n",
       "                                                            ⎥\n",
       "                                                            ⎥\n",
       "             ⎞                                              ⎥\n",
       "  ∂          ⎟  2⋅V(ρ, z) - 2⋅ν(ρ, z)  -2⋅V(ρ, z)  2⋅ν(ρ, z)⎥\n",
       "+ ──(V(ρ, z))⎟⋅ℯ                     ⋅ℯ          ⋅ℯ         ⎥\n",
       "  ∂ρ         ⎟                                              ⎥\n",
       "             ⎠                                              ⎥\n",
       "────────────────────────────────────────────────────────────⎥\n",
       "                                                            ⎦"
      ]
     },
     "execution_count": 18,
     "metadata": {},
     "output_type": "execute_result"
    }
   ],
   "source": [
    "einst = EinsteinTensor.from_metric(metric)\n",
    "einst.tensor()"
   ]
  },
  {
   "cell_type": "code",
   "execution_count": 19,
   "id": "c83cfe01",
   "metadata": {},
   "outputs": [],
   "source": [
    "#  rm1 = RiemannCurvatureTensor.from_christoffels(ch)\n",
    "#  rm1.tensor()"
   ]
  },
  {
   "cell_type": "code",
   "execution_count": 20,
   "id": "c6bbe3e1",
   "metadata": {},
   "outputs": [],
   "source": [
    "#  weyl = WeylTensor.from_metric(metric)\n",
    "#  weyl.tensor()"
   ]
  },
  {
   "cell_type": "code",
   "execution_count": 21,
   "id": "eb8abb54",
   "metadata": {},
   "outputs": [
    {
     "data": {
      "text/latex": [
       "$\\displaystyle \\left[\\begin{matrix}\\frac{\\left(\\rho \\frac{\\partial^{2}}{\\partial \\rho^{2}} V{\\left(\\rho,z \\right)} + \\rho \\frac{\\partial^{2}}{\\partial z^{2}} V{\\left(\\rho,z \\right)} + \\frac{\\partial}{\\partial \\rho} V{\\left(\\rho,z \\right)}\\right) e^{4 V{\\left(\\rho,z \\right)} - 2 \\nu{\\left(\\rho,z \\right)}}}{\\rho} & 0 & 0 & 0\\\\0 & \\frac{- \\rho \\left(2 \\left(\\frac{\\partial}{\\partial \\rho} V{\\left(\\rho,z \\right)}\\right)^{2} - \\frac{\\partial^{2}}{\\partial \\rho^{2}} V{\\left(\\rho,z \\right)} - \\frac{\\partial^{2}}{\\partial z^{2}} V{\\left(\\rho,z \\right)} + \\frac{\\partial^{2}}{\\partial \\rho^{2}} \\nu{\\left(\\rho,z \\right)} + \\frac{\\partial^{2}}{\\partial z^{2}} \\nu{\\left(\\rho,z \\right)}\\right) + \\frac{\\partial}{\\partial \\rho} V{\\left(\\rho,z \\right)} + \\frac{\\partial}{\\partial \\rho} \\nu{\\left(\\rho,z \\right)}}{\\rho} & 0 & - 2 \\frac{\\partial}{\\partial \\rho} V{\\left(\\rho,z \\right)} \\frac{\\partial}{\\partial z} V{\\left(\\rho,z \\right)} + \\frac{\\frac{\\partial}{\\partial z} \\nu{\\left(\\rho,z \\right)}}{\\rho}\\\\0 & 0 & \\rho \\left(\\rho \\frac{\\partial^{2}}{\\partial \\rho^{2}} V{\\left(\\rho,z \\right)} + \\rho \\frac{\\partial^{2}}{\\partial z^{2}} V{\\left(\\rho,z \\right)} + \\frac{\\partial}{\\partial \\rho} V{\\left(\\rho,z \\right)}\\right) e^{- 2 \\nu{\\left(\\rho,z \\right)}} & 0\\\\0 & - 2 \\frac{\\partial}{\\partial \\rho} V{\\left(\\rho,z \\right)} \\frac{\\partial}{\\partial z} V{\\left(\\rho,z \\right)} + \\frac{\\frac{\\partial}{\\partial z} \\nu{\\left(\\rho,z \\right)}}{\\rho} & 0 & \\frac{- \\rho \\left(- \\frac{\\partial^{2}}{\\partial \\rho^{2}} V{\\left(\\rho,z \\right)} + 2 \\left(\\frac{\\partial}{\\partial z} V{\\left(\\rho,z \\right)}\\right)^{2} - \\frac{\\partial^{2}}{\\partial z^{2}} V{\\left(\\rho,z \\right)} + \\frac{\\partial^{2}}{\\partial \\rho^{2}} \\nu{\\left(\\rho,z \\right)} + \\frac{\\partial^{2}}{\\partial z^{2}} \\nu{\\left(\\rho,z \\right)}\\right) + \\frac{\\partial}{\\partial \\rho} V{\\left(\\rho,z \\right)} - \\frac{\\partial}{\\partial \\rho} \\nu{\\left(\\rho,z \\right)}}{\\rho}\\end{matrix}\\right]$"
      ],
      "text/plain": [
       "⎡⎛    2                2                       ⎞                                                                                         \n",
       "⎢⎜   ∂                ∂             ∂          ⎟  4⋅V(ρ, z) - 2⋅ν(ρ, z)                                                                  \n",
       "⎢⎜ρ⋅───(V(ρ, z)) + ρ⋅───(V(ρ, z)) + ──(V(ρ, z))⎟⋅ℯ                                                                                       \n",
       "⎢⎜    2                2            ∂ρ         ⎟                                                                                         \n",
       "⎢⎝  ∂ρ               ∂z                        ⎠                                                                                         \n",
       "⎢──────────────────────────────────────────────────────────────────────                                                        0         \n",
       "⎢                                  ρ                                                                                                     \n",
       "⎢                                                                                                                                        \n",
       "⎢                                                                            ⎛               2     2              2              2       \n",
       "⎢                                                                            ⎜  ⎛∂          ⎞     ∂              ∂              ∂        \n",
       "⎢                                                                        - ρ⋅⎜2⋅⎜──(V(ρ, z))⎟  - ───(V(ρ, z)) - ───(V(ρ, z)) + ───(ν(ρ, z\n",
       "⎢                                                                            ⎜  ⎝∂ρ         ⎠      2              2              2       \n",
       "⎢                                                                            ⎝                   ∂ρ             ∂z             ∂ρ        \n",
       "⎢                                  0                                     ────────────────────────────────────────────────────────────────\n",
       "⎢                                                                                                                              ρ         \n",
       "⎢                                                                                                                                        \n",
       "⎢                                                                                                                                        \n",
       "⎢                                                                                                                                        \n",
       "⎢                                  0                                                                                           0         \n",
       "⎢                                                                                                                                        \n",
       "⎢                                                                                                                                        \n",
       "⎢                                                                                                                                        \n",
       "⎢                                                                                                                                        \n",
       "⎢                                                                                                                                        \n",
       "⎢                                                                                                                                        \n",
       "⎢                                                                                                                                        \n",
       "⎢                                                                                                              ∂           ∂             \n",
       "⎢                                  0                                                                       - 2⋅──(V(ρ, z))⋅──(V(ρ, z)) + \n",
       "⎣                                                                                                              ∂ρ          ∂z            \n",
       "\n",
       "                                                                                                                                         \n",
       "                                                                                                                                         \n",
       "                                                                                                                                         \n",
       "                                                                                                                                         \n",
       "                                                                                                                                         \n",
       "                                                                              0                                                          \n",
       "                                                                                                                                         \n",
       "                                                                                                                                         \n",
       "       2         ⎞                                                                                                                       \n",
       "      ∂          ⎟   ∂             ∂                                                                                                     \n",
       ")) + ───(ν(ρ, z))⎟ + ──(V(ρ, z)) + ──(ν(ρ, z))                                                                                           \n",
       "       2         ⎟   ∂ρ            ∂ρ                                                                                                    \n",
       "     ∂z          ⎠                                                                                                                       \n",
       "──────────────────────────────────────────────                                0                                                          \n",
       "                                                                                                                                         \n",
       "                                                                                                                                         \n",
       "                                                  ⎛    2                2                       ⎞                                        \n",
       "                                                  ⎜   ∂                ∂             ∂          ⎟  -2⋅ν(ρ, z)                            \n",
       "                                                ρ⋅⎜ρ⋅───(V(ρ, z)) + ρ⋅───(V(ρ, z)) + ──(V(ρ, z))⎟⋅ℯ                                      \n",
       "                                                  ⎜    2                2            ∂ρ         ⎟                                        \n",
       "                                                  ⎝  ∂ρ               ∂z                        ⎠                                        \n",
       "                                                                                                                                         \n",
       "                                                                                                                   ⎛    2                \n",
       "                                                                                                                   ⎜   ∂               ⎛∂\n",
       "∂                                                                                                              - ρ⋅⎜- ───(V(ρ, z)) + 2⋅⎜─\n",
       "──(ν(ρ, z))                                                                                                        ⎜    2              ⎝∂\n",
       "∂z                                                                                                                 ⎝  ∂ρ                 \n",
       "───────────                                                                   0                                ──────────────────────────\n",
       "     ρ                                                                                                                                   \n",
       "\n",
       "                                                                                      ⎤\n",
       "                                                                                      ⎥\n",
       "                                                                                      ⎥\n",
       "                                                                                      ⎥\n",
       "                                                                                      ⎥\n",
       "                             0                                                        ⎥\n",
       "                                                                                      ⎥\n",
       "                                                                                      ⎥\n",
       "                                                                                      ⎥\n",
       "                                                                                      ⎥\n",
       "                                       ∂                                              ⎥\n",
       "                                       ──(ν(ρ, z))                                    ⎥\n",
       "             ∂           ∂             ∂z                                             ⎥\n",
       "         - 2⋅──(V(ρ, z))⋅──(V(ρ, z)) + ───────────                                    ⎥\n",
       "             ∂ρ          ∂z                 ρ                                         ⎥\n",
       "                                                                                      ⎥\n",
       "                                                                                      ⎥\n",
       "                                                                                      ⎥\n",
       "                             0                                                        ⎥\n",
       "                                                                                      ⎥\n",
       "                                                                                      ⎥\n",
       "                                                                                      ⎥\n",
       "           2     2              2              2         ⎞                            ⎥\n",
       "          ⎞     ∂              ∂              ∂          ⎟   ∂             ∂          ⎥\n",
       "─(V(ρ, z))⎟  - ───(V(ρ, z)) + ───(ν(ρ, z)) + ───(ν(ρ, z))⎟ + ──(V(ρ, z)) - ──(ν(ρ, z))⎥\n",
       "z         ⎠      2              2              2         ⎟   ∂ρ            ∂ρ         ⎥\n",
       "               ∂z             ∂ρ             ∂z          ⎠                            ⎥\n",
       "──────────────────────────────────────────────────────────────────────────────────────⎥\n",
       "                             ρ                                                        ⎦"
      ]
     },
     "execution_count": 21,
     "metadata": {},
     "output_type": "execute_result"
    }
   ],
   "source": [
    "ricciSimplified = simplify(Ric.tensor())\n",
    "ricciSimplified"
   ]
  },
  {
   "cell_type": "code",
   "execution_count": 22,
   "id": "850d5de4",
   "metadata": {},
   "outputs": [
    {
     "data": {
      "text/latex": [
       "$\\displaystyle \\left[\\begin{matrix}\\frac{\\left(- 1.0 \\rho \\left(\\frac{\\partial}{\\partial \\rho} V{\\left(\\rho,z \\right)}\\right)^{2} + 2.0 \\rho \\frac{\\partial^{2}}{\\partial \\rho^{2}} V{\\left(\\rho,z \\right)} - 1.0 \\rho \\left(\\frac{\\partial}{\\partial z} V{\\left(\\rho,z \\right)}\\right)^{2} + 2.0 \\rho \\frac{\\partial^{2}}{\\partial z^{2}} V{\\left(\\rho,z \\right)} - 1.0 \\rho \\frac{\\partial^{2}}{\\partial \\rho^{2}} \\nu{\\left(\\rho,z \\right)} - 1.0 \\rho \\frac{\\partial^{2}}{\\partial z^{2}} \\nu{\\left(\\rho,z \\right)} + 2.0 \\frac{\\partial}{\\partial \\rho} V{\\left(\\rho,z \\right)}\\right) e^{4 V{\\left(\\rho,z \\right)} - 2 \\nu{\\left(\\rho,z \\right)}}}{\\rho} & 0 & 0 & 0\\\\0 & - 1.0 \\left(\\frac{\\partial}{\\partial \\rho} V{\\left(\\rho,z \\right)}\\right)^{2} + 1.0 \\left(\\frac{\\partial}{\\partial z} V{\\left(\\rho,z \\right)}\\right)^{2} + \\frac{1.0 \\frac{\\partial}{\\partial \\rho} \\nu{\\left(\\rho,z \\right)}}{\\rho} & 0 & - 2 \\frac{\\partial}{\\partial \\rho} V{\\left(\\rho,z \\right)} \\frac{\\partial}{\\partial z} V{\\left(\\rho,z \\right)} + \\frac{\\frac{\\partial}{\\partial z} \\nu{\\left(\\rho,z \\right)}}{\\rho}\\\\0 & 0 & 1.0 \\rho^{2} \\left(\\left(\\frac{\\partial}{\\partial \\rho} V{\\left(\\rho,z \\right)}\\right)^{2} + \\left(\\frac{\\partial}{\\partial z} V{\\left(\\rho,z \\right)}\\right)^{2} + \\frac{\\partial^{2}}{\\partial \\rho^{2}} \\nu{\\left(\\rho,z \\right)} + \\frac{\\partial^{2}}{\\partial z^{2}} \\nu{\\left(\\rho,z \\right)}\\right) e^{- 2 \\nu{\\left(\\rho,z \\right)}} & 0\\\\0 & - 2 \\frac{\\partial}{\\partial \\rho} V{\\left(\\rho,z \\right)} \\frac{\\partial}{\\partial z} V{\\left(\\rho,z \\right)} + \\frac{\\frac{\\partial}{\\partial z} \\nu{\\left(\\rho,z \\right)}}{\\rho} & 0 & 1.0 \\left(\\frac{\\partial}{\\partial \\rho} V{\\left(\\rho,z \\right)}\\right)^{2} - 1.0 \\left(\\frac{\\partial}{\\partial z} V{\\left(\\rho,z \\right)}\\right)^{2} - \\frac{1.0 \\frac{\\partial}{\\partial \\rho} \\nu{\\left(\\rho,z \\right)}}{\\rho}\\end{matrix}\\right]$"
      ],
      "text/plain": [
       "⎡⎛                 2           2                           2           2                2                2                           ⎞   \n",
       "⎢⎜    ⎛∂          ⎞           ∂               ⎛∂          ⎞           ∂                ∂                ∂                 ∂          ⎟  4\n",
       "⎢⎜- ρ⋅⎜──(V(ρ, z))⎟  + 2.0⋅ρ⋅───(V(ρ, z)) - ρ⋅⎜──(V(ρ, z))⎟  + 2.0⋅ρ⋅───(V(ρ, z)) - ρ⋅───(ν(ρ, z)) - ρ⋅───(ν(ρ, z)) + 2.0⋅──(V(ρ, z))⎟⋅ℯ \n",
       "⎢⎜    ⎝∂ρ         ⎠            2              ⎝∂z         ⎠            2                2                2                ∂ρ         ⎟   \n",
       "⎢⎝                           ∂ρ                                      ∂z               ∂ρ               ∂z                            ⎠   \n",
       "⎢────────────────────────────────────────────────────────────────────────────────────────────────────────────────────────────────────────\n",
       "⎢                                                                             ρ                                                          \n",
       "⎢                                                                                                                                        \n",
       "⎢                                                                                                                                        \n",
       "⎢                                                                                                                                        \n",
       "⎢                                                                                                                                        \n",
       "⎢                                                                             0                                                          \n",
       "⎢                                                                                                                                        \n",
       "⎢                                                                                                                                        \n",
       "⎢                                                                                                                                        \n",
       "⎢                                                                                                                                        \n",
       "⎢                                                                             0                                                          \n",
       "⎢                                                                                                                                        \n",
       "⎢                                                                                                                                        \n",
       "⎢                                                                                                                                        \n",
       "⎢                                                                                                                                        \n",
       "⎢                                                                                                                                        \n",
       "⎢                                                                                                                                        \n",
       "⎢                                                                             0                                                          \n",
       "⎣                                                                                                                                        \n",
       "\n",
       "                                                                                                                                         \n",
       "⋅V(ρ, z) - 2⋅ν(ρ, z)                                                                                                                     \n",
       "                                                                                                                                         \n",
       "                                                                                                                                         \n",
       "                                                                                                                                         \n",
       "────────────────────                             0                                                                     0                 \n",
       "                                                                                                                                         \n",
       "                                                                                                                                         \n",
       "                                                                  ∂                                                                      \n",
       "                                     2                    2   1.0⋅──(ν(ρ, z))                                                            \n",
       "                        ⎛∂          ⎞        ⎛∂          ⎞        ∂ρ                                                                     \n",
       "                      - ⎜──(V(ρ, z))⎟  + 1.0⋅⎜──(V(ρ, z))⎟  + ───────────────                                          0                 \n",
       "                        ⎝∂ρ         ⎠        ⎝∂z         ⎠           ρ                                                                   \n",
       "                                                                                                                                         \n",
       "                                                                                      ⎛             2                2     2             \n",
       "                                                                                    2 ⎜⎛∂          ⎞    ⎛∂          ⎞     ∂              \n",
       "                                                 0                             1.0⋅ρ ⋅⎜⎜──(V(ρ, z))⎟  + ⎜──(V(ρ, z))⎟  + ───(ν(ρ, z)) + ─\n",
       "                                                                                      ⎜⎝∂ρ         ⎠    ⎝∂z         ⎠      2             \n",
       "                                                                                      ⎝                                  ∂ρ             ∂\n",
       "                                                                                                                                         \n",
       "                                                           ∂                                                                             \n",
       "                                                           ──(ν(ρ, z))                                                                   \n",
       "                                 ∂           ∂             ∂z                                                                            \n",
       "                             - 2⋅──(V(ρ, z))⋅──(V(ρ, z)) + ───────────                                                 0                 \n",
       "                                 ∂ρ          ∂z                 ρ                                                                        \n",
       "\n",
       "                                                                           ⎤\n",
       "                                                                           ⎥\n",
       "                                                                           ⎥\n",
       "                                                                           ⎥\n",
       "                                                                           ⎥\n",
       "                                                  0                        ⎥\n",
       "                                                                           ⎥\n",
       "                                                                           ⎥\n",
       "                                                            ∂              ⎥\n",
       "                                                            ──(ν(ρ, z))    ⎥\n",
       "                                  ∂           ∂             ∂z             ⎥\n",
       "                              - 2⋅──(V(ρ, z))⋅──(V(ρ, z)) + ───────────    ⎥\n",
       "                                  ∂ρ          ∂z                 ρ         ⎥\n",
       "                                                                           ⎥\n",
       " 2         ⎞                                                               ⎥\n",
       "∂          ⎟  -2⋅ν(ρ, z)                                                   ⎥\n",
       "──(ν(ρ, z))⎟⋅ℯ                                    0                        ⎥\n",
       " 2         ⎟                                                               ⎥\n",
       "z          ⎠                                                               ⎥\n",
       "                                                                           ⎥\n",
       "                                                                ∂          ⎥\n",
       "                                           2                2   ──(ν(ρ, z))⎥\n",
       "                              ⎛∂          ⎞    ⎛∂          ⎞    ∂ρ         ⎥\n",
       "                          1.0⋅⎜──(V(ρ, z))⎟  - ⎜──(V(ρ, z))⎟  - ───────────⎥\n",
       "                              ⎝∂ρ         ⎠    ⎝∂z         ⎠         ρ     ⎦"
      ]
     },
     "execution_count": 22,
     "metadata": {},
     "output_type": "execute_result"
    }
   ],
   "source": [
    "einsteinSimplified = simplify(einst.tensor())\n",
    "einsteinSimplified"
   ]
  },
  {
   "cell_type": "code",
   "execution_count": 23,
   "id": "4b4eea93",
   "metadata": {},
   "outputs": [
    {
     "data": {
      "image/png": "[encoded data removed]",
      "text/latex": [
       "$\\displaystyle \\frac{\\partial^{2}}{\\partial \\rho^{2}} V{\\left(\\rho,z \\right)} + \\frac{\\partial^{2}}{\\partial z^{2}} V{\\left(\\rho,z \\right)} + \\frac{\\frac{\\partial}{\\partial \\rho} V{\\left(\\rho,z \\right)}}{\\rho} = 0$"
      ],
      "text/plain": [
       "                              ∂              \n",
       "  2              2            ──(V(ρ, z))    \n",
       " ∂              ∂             ∂ρ             \n",
       "───(V(ρ, z)) + ───(V(ρ, z)) + ─────────── = 0\n",
       "  2              2                 ρ         \n",
       "∂ρ             ∂z                            "
      ]
     },
     "execution_count": 23,
     "metadata": {},
     "output_type": "execute_result"
    }
   ],
   "source": [
    "equation7pt4a = Eq( expand((1/rho)*ricciSimplified[2,2].args[1]),0)\n",
    "equation7pt4a"
   ]
  },
  {
   "cell_type": "code",
   "execution_count": 24,
   "id": "65a6854b",
   "metadata": {},
   "outputs": [
    {
     "data": {
      "image/png": "[encoded data removed]",
      "text/latex": [
       "$\\displaystyle \\frac{\\partial}{\\partial \\rho} \\nu{\\left(\\rho,z \\right)} = \\rho \\left(\\left(\\frac{\\partial}{\\partial \\rho} V{\\left(\\rho,z \\right)}\\right)^{2} - \\left(\\frac{\\partial}{\\partial z} V{\\left(\\rho,z \\right)}\\right)^{2}\\right)$"
      ],
      "text/plain": [
       "                ⎛             2                2⎞\n",
       "∂               ⎜⎛∂          ⎞    ⎛∂          ⎞ ⎟\n",
       "──(ν(ρ, z)) = ρ⋅⎜⎜──(V(ρ, z))⎟  - ⎜──(V(ρ, z))⎟ ⎟\n",
       "∂ρ              ⎝⎝∂ρ         ⎠    ⎝∂z         ⎠ ⎠"
      ]
     },
     "execution_count": 24,
     "metadata": {},
     "output_type": "execute_result"
    }
   ],
   "source": [
    "equation7pt4b = Eq( diff(nu,rho) , solve( einsteinSimplified[1,1] , diff(nu,rho) )[0] )\n",
    "equation7pt4b"
   ]
  },
  {
   "cell_type": "code",
   "execution_count": 25,
   "id": "2d1c02fa",
   "metadata": {},
   "outputs": [
    {
     "data": {
      "image/png": "[encoded data removed]",
      "text/latex": [
       "$\\displaystyle \\frac{\\partial}{\\partial z} \\nu{\\left(\\rho,z \\right)} = 2 \\rho \\frac{\\partial}{\\partial \\rho} V{\\left(\\rho,z \\right)} \\frac{\\partial}{\\partial z} V{\\left(\\rho,z \\right)}$"
      ],
      "text/plain": [
       "∂                 ∂           ∂          \n",
       "──(ν(ρ, z)) = 2⋅ρ⋅──(V(ρ, z))⋅──(V(ρ, z))\n",
       "∂z                ∂ρ          ∂z         "
      ]
     },
     "execution_count": 25,
     "metadata": {},
     "output_type": "execute_result"
    }
   ],
   "source": [
    "equation7pt4c = Eq(diff(nu,z) , solve( ricciSimplified[1,3] , diff(nu,z) )[0] ) \n",
    "equation7pt4c"
   ]
  },
  {
   "cell_type": "code",
   "execution_count": 27,
   "id": "89fd141d",
   "metadata": {},
   "outputs": [
    {
     "data": {
      "text/latex": [
       "$\\displaystyle \\left[\\begin{matrix}\\frac{\\partial^{2}}{\\partial \\rho^{2}} V{\\left(\\rho,z \\right)} + \\frac{\\partial^{2}}{\\partial z^{2}} V{\\left(\\rho,z \\right)} + \\frac{\\frac{\\partial}{\\partial \\rho} V{\\left(\\rho,z \\right)}}{\\rho} = 0\\\\\\frac{\\partial}{\\partial \\rho} \\nu{\\left(\\rho,z \\right)} = \\rho \\left(\\left(\\frac{\\partial}{\\partial \\rho} V{\\left(\\rho,z \\right)}\\right)^{2} - \\left(\\frac{\\partial}{\\partial z} V{\\left(\\rho,z \\right)}\\right)^{2}\\right)\\\\\\frac{\\partial}{\\partial z} \\nu{\\left(\\rho,z \\right)} = 2 \\rho \\frac{\\partial}{\\partial \\rho} V{\\left(\\rho,z \\right)} \\frac{\\partial}{\\partial z} V{\\left(\\rho,z \\right)}\\end{matrix}\\right]$"
      ],
      "text/plain": [
       "⎡                                ∂                ⎤\n",
       "⎢    2              2            ──(V(ρ, z))      ⎥\n",
       "⎢   ∂              ∂             ∂ρ               ⎥\n",
       "⎢  ───(V(ρ, z)) + ───(V(ρ, z)) + ─────────── = 0  ⎥\n",
       "⎢    2              2                 ρ           ⎥\n",
       "⎢  ∂ρ             ∂z                              ⎥\n",
       "⎢                                                 ⎥\n",
       "⎢                ⎛             2                2⎞⎥\n",
       "⎢∂               ⎜⎛∂          ⎞    ⎛∂          ⎞ ⎟⎥\n",
       "⎢──(ν(ρ, z)) = ρ⋅⎜⎜──(V(ρ, z))⎟  - ⎜──(V(ρ, z))⎟ ⎟⎥\n",
       "⎢∂ρ              ⎝⎝∂ρ         ⎠    ⎝∂z         ⎠ ⎠⎥\n",
       "⎢                                                 ⎥\n",
       "⎢    ∂                 ∂           ∂              ⎥\n",
       "⎢    ──(ν(ρ, z)) = 2⋅ρ⋅──(V(ρ, z))⋅──(V(ρ, z))    ⎥\n",
       "⎣    ∂z                ∂ρ          ∂z             ⎦"
      ]
     },
     "execution_count": 27,
     "metadata": {},
     "output_type": "execute_result"
    }
   ],
   "source": [
    "vacuumFieldEquations = Matrix([equation7pt4a,equation7pt4b,equation7pt4c])\n",
    "vacuumFieldEquations"
   ]
  },
  {
   "cell_type": "code",
   "execution_count": 28,
   "id": "262a8480",
   "metadata": {},
   "outputs": [],
   "source": [
    "X, Y = map(Function, 'XY')"
   ]
  },
  {
   "cell_type": "code",
   "execution_count": 29,
   "id": "6f797834",
   "metadata": {},
   "outputs": [
    {
     "data": {
      "image/png": "[encoded data removed]",
      "text/latex": [
       "$\\displaystyle \\frac{\\partial^{2}}{\\partial \\rho^{2}} V{\\left(\\rho,z \\right)} + \\frac{\\partial^{2}}{\\partial z^{2}} V{\\left(\\rho,z \\right)} + \\frac{\\frac{\\partial}{\\partial \\rho} V{\\left(\\rho,z \\right)}}{\\rho} = 0$"
      ],
      "text/plain": [
       "                              ∂              \n",
       "  2              2            ──(V(ρ, z))    \n",
       " ∂              ∂             ∂ρ             \n",
       "───(V(ρ, z)) + ───(V(ρ, z)) + ─────────── = 0\n",
       "  2              2                 ρ         \n",
       "∂ρ             ∂z                            "
      ]
     },
     "execution_count": 29,
     "metadata": {},
     "output_type": "execute_result"
    }
   ],
   "source": [
    "eq = vacuumFieldEquations[0]\n",
    "eq"
   ]
  },
  {
   "cell_type": "code",
   "execution_count": 41,
   "id": "c76bf1e3",
   "metadata": {},
   "outputs": [
    {
     "data": {
      "image/png": "[encoded data removed]",
      "text/latex": [
       "$\\displaystyle \\frac{\\frac{d^{2}}{d \\rho^{2}} X{\\left(\\rho \\right)}}{X{\\left(\\rho \\right)}} + \\frac{\\frac{d}{d \\rho} X{\\left(\\rho \\right)}}{\\rho X{\\left(\\rho \\right)}} = - k^{2}$"
      ],
      "text/plain": [
       "  2                       \n",
       " d                        \n",
       "───(X(ρ))   d             \n",
       "  2         ──(X(ρ))      \n",
       "dρ          dρ           2\n",
       "───────── + ──────── = -k \n",
       "   X(ρ)      ρ⋅X(ρ)       "
      ]
     },
     "execution_count": 41,
     "metadata": {},
     "output_type": "execute_result"
    }
   ],
   "source": [
    "xODE = Eq(pde_separate( eq, V, [X(rho),Y(z)])[0] , -k**2 ) \n",
    "xODE"
   ]
  },
  {
   "cell_type": "code",
   "execution_count": 42,
   "id": "5cae0649",
   "metadata": {},
   "outputs": [
    {
     "data": {
      "image/png": "[encoded data removed]",
      "text/latex": [
       "$\\displaystyle X{\\left(\\rho \\right)} = C_{1} J_{0}\\left(k \\rho\\right) + C_{2} Y_{0}\\left(k \\rho\\right)$"
      ],
      "text/plain": [
       "X(ρ) = C₁⋅besselj(0, k⋅ρ) + C₂⋅bessely(0, k⋅ρ)"
      ]
     },
     "execution_count": 42,
     "metadata": {},
     "output_type": "execute_result"
    }
   ],
   "source": [
    "xSolution = dsolve( xODE , X(rho))\n",
    "xSolution "
   ]
  },
  {
   "cell_type": "code",
   "execution_count": 48,
   "id": "66d046fa",
   "metadata": {},
   "outputs": [
    {
     "data": {
      "image/png": "[encoded data removed]",
      "text/latex": [
       "$\\displaystyle X{\\left(\\rho \\right)} = J_{0}\\left(k \\rho\\right)$"
      ],
      "text/plain": [
       "X(ρ) = besselj(0, k⋅ρ)"
      ]
     },
     "execution_count": 48,
     "metadata": {},
     "output_type": "execute_result"
    }
   ],
   "source": [
    "#  this is made up.  we are arbitrarily setting one Bessel function equal to zero.  I think that one blows up at the orgin.  Go back and check this \n",
    "xSolutionParticular = xSolution.subs(xSolution.args[1].args[0].args[0],1).subs(xSolution.args[1].args[1].args[0],0)\n",
    "xSolutionParticular"
   ]
  },
  {
   "cell_type": "code",
   "execution_count": 44,
   "id": "b8abdb2a",
   "metadata": {},
   "outputs": [
    {
     "data": {
      "image/png": "[encoded data removed]",
      "text/latex": [
       "$\\displaystyle - \\frac{\\frac{d^{2}}{d z^{2}} Y{\\left(z \\right)}}{Y{\\left(z \\right)}} = k^{2}$"
      ],
      "text/plain": [
       "   2            \n",
       "  d             \n",
       "-───(Y(z))      \n",
       "   2            \n",
       " dz            2\n",
       "─────────── = k \n",
       "    Y(z)        "
      ]
     },
     "execution_count": 44,
     "metadata": {},
     "output_type": "execute_result"
    }
   ],
   "source": [
    "yODE = Eq( pde_separate( eq, V, [X(rho),Y(z)])[1] ,  k**2 ) \n",
    "yODE"
   ]
  },
  {
   "cell_type": "code",
   "execution_count": 45,
   "id": "b9f811d6",
   "metadata": {},
   "outputs": [
    {
     "data": {
      "image/png": "[encoded data removed]",
      "text/latex": [
       "$\\displaystyle Y{\\left(z \\right)} = C_{1} \\sin{\\left(z \\left|{k}\\right| \\right)} + C_{2} \\cos{\\left(k z \\right)}$"
      ],
      "text/plain": [
       "Y(z) = C₁⋅sin(z⋅│k│) + C₂⋅cos(k⋅z)"
      ]
     },
     "execution_count": 45,
     "metadata": {},
     "output_type": "execute_result"
    }
   ],
   "source": [
    "ySolution = dsolve( yODE , Y(z))\n",
    "ySolution "
   ]
  },
  {
   "cell_type": "code",
   "execution_count": 49,
   "id": "5407d5f8",
   "metadata": {},
   "outputs": [
    {
     "data": {
      "image/png": "[encoded data removed]",
      "text/latex": [
       "$\\displaystyle Y{\\left(z \\right)} = \\sin{\\left(z \\left|{k}\\right| \\right)}$"
      ],
      "text/plain": [
       "Y(z) = sin(z⋅│k│)"
      ]
     },
     "execution_count": 49,
     "metadata": {},
     "output_type": "execute_result"
    }
   ],
   "source": [
    "#  Here we are arbitrarily setting the cos function to zero.  Go back and fix this\n",
    "ySolutionParticular = ySolution.subs(ySolution.args[1].args[0].args[0],1).subs(ySolution.args[1].args[1].args[0],0)\n",
    "ySolutionParticular"
   ]
  },
  {
   "cell_type": "code",
   "execution_count": 50,
   "id": "a78625c7",
   "metadata": {},
   "outputs": [
    {
     "data": {
      "image/png": "[encoded data removed]",
      "text/latex": [
       "$\\displaystyle \\sum_{k=1}^{2} \\sin{\\left(z \\left|{k}\\right| \\right)} J_{0}\\left(k \\rho\\right)$"
      ],
      "text/plain": [
       "  2                             \n",
       " ___                            \n",
       " ╲                              \n",
       "  ╲                             \n",
       "  ╱   sin(z⋅│k│)⋅besselj(0, k⋅ρ)\n",
       " ╱                              \n",
       " ‾‾‾                            \n",
       "k = 1                           "
      ]
     },
     "execution_count": 50,
     "metadata": {},
     "output_type": "execute_result"
    }
   ],
   "source": [
    "#  Here we arbitrary pick just two terms as an example... \n",
    "Sum( ( xSolutionParticular.args[1] * ySolutionParticular.args[1] ) ,(k,1,2) )"
   ]
  },
  {
   "cell_type": "code",
   "execution_count": 52,
   "id": "b0ac0a7e",
   "metadata": {},
   "outputs": [
    {
     "data": {
      "image/png": "[encoded data removed]",
      "text/latex": [
       "$\\displaystyle V{\\left(\\rho,z \\right)} = \\sin{\\left(z \\right)} J_{0}\\left(\\rho\\right) + \\sin{\\left(2 z \\right)} J_{0}\\left(2 \\rho\\right)$"
      ],
      "text/plain": [
       "V(ρ, z) = sin(z)⋅besselj(0, ρ) + sin(2⋅z)⋅besselj(0, 2⋅ρ)"
      ]
     },
     "execution_count": 52,
     "metadata": {},
     "output_type": "execute_result"
    }
   ],
   "source": [
    "psiSumTwoTerms = Eq(V, Sum( ( xSolutionParticular.args[1] * ySolutionParticular.args[1] ) ,(k,1,2) ).doit() ) \n",
    "psiSumTwoTerms"
   ]
  },
  {
   "cell_type": "code",
   "execution_count": 54,
   "id": "d9eccaba",
   "metadata": {},
   "outputs": [
    {
     "data": {
      "image/png": "[encoded data removed]",
      "text/latex": [
       "$\\displaystyle \\frac{\\partial}{\\partial \\rho} \\nu{\\left(\\rho,z \\right)} = \\rho \\left(\\left(\\frac{\\partial}{\\partial \\rho} \\left(\\sin{\\left(z \\right)} J_{0}\\left(\\rho\\right) + \\sin{\\left(2 z \\right)} J_{0}\\left(2 \\rho\\right)\\right)\\right)^{2} - \\left(\\frac{\\partial}{\\partial z} \\left(\\sin{\\left(z \\right)} J_{0}\\left(\\rho\\right) + \\sin{\\left(2 z \\right)} J_{0}\\left(2 \\rho\\right)\\right)\\right)^{2}\\right)$"
      ],
      "text/plain": [
       "                ⎛                                                     2                                                        2⎞\n",
       "∂               ⎜⎛∂                                                  ⎞    ⎛∂                                                  ⎞ ⎟\n",
       "──(ν(ρ, z)) = ρ⋅⎜⎜──(sin(z)⋅besselj(0, ρ) + sin(2⋅z)⋅besselj(0, 2⋅ρ))⎟  - ⎜──(sin(z)⋅besselj(0, ρ) + sin(2⋅z)⋅besselj(0, 2⋅ρ))⎟ ⎟\n",
       "∂ρ              ⎝⎝∂ρ                                                 ⎠    ⎝∂z                                                 ⎠ ⎠"
      ]
     },
     "execution_count": 54,
     "metadata": {},
     "output_type": "execute_result"
    }
   ],
   "source": [
    "dnudrhoPDE = vacuumFieldEquations[1].subs(psiSumTwoTerms.args[0],psiSumTwoTerms.args[1])\n",
    "dnudrhoPDE"
   ]
  },
  {
   "cell_type": "code",
   "execution_count": 55,
   "id": "923781e5",
   "metadata": {},
   "outputs": [
    {
     "data": {
      "image/png": "[encoded data removed]",
      "text/latex": [
       "$\\displaystyle \\frac{\\partial}{\\partial \\rho} \\nu{\\left(\\rho,z \\right)} = \\rho \\left(\\left(- \\sin{\\left(z \\right)} J_{1}\\left(\\rho\\right) - 2 \\sin{\\left(2 z \\right)} J_{1}\\left(2 \\rho\\right)\\right)^{2} - \\left(\\cos{\\left(z \\right)} J_{0}\\left(\\rho\\right) + 2 \\cos{\\left(2 z \\right)} J_{0}\\left(2 \\rho\\right)\\right)^{2}\\right)$"
      ],
      "text/plain": [
       "∂               ⎛                                                    2                                                      2⎞\n",
       "──(ν(ρ, z)) = ρ⋅⎝(-sin(z)⋅besselj(1, ρ) - 2⋅sin(2⋅z)⋅besselj(1, 2⋅ρ))  - (cos(z)⋅besselj(0, ρ) + 2⋅cos(2⋅z)⋅besselj(0, 2⋅ρ)) ⎠\n",
       "∂ρ                                                                                                                            "
      ]
     },
     "execution_count": 55,
     "metadata": {},
     "output_type": "execute_result"
    }
   ],
   "source": [
    "dnudrhoPDE.doit()"
   ]
  },
  {
   "cell_type": "code",
   "execution_count": 56,
   "id": "f4544677",
   "metadata": {},
   "outputs": [
    {
     "data": {
      "image/png": "[encoded data removed]",
      "text/latex": [
       "$\\displaystyle \\frac{\\partial}{\\partial \\rho} \\nu{\\left(\\rho,z \\right)} = \\rho \\sin^{2}{\\left(z \\right)} J^{2}_{1}\\left(\\rho\\right) + 4 \\rho \\sin{\\left(z \\right)} \\sin{\\left(2 z \\right)} J_{1}\\left(\\rho\\right) J_{1}\\left(2 \\rho\\right) + 4 \\rho \\sin^{2}{\\left(2 z \\right)} J^{2}_{1}\\left(2 \\rho\\right) - \\rho \\cos^{2}{\\left(z \\right)} J^{2}_{0}\\left(\\rho\\right) - 4 \\rho \\cos{\\left(z \\right)} \\cos{\\left(2 z \\right)} J_{0}\\left(\\rho\\right) J_{0}\\left(2 \\rho\\right) - 4 \\rho \\cos^{2}{\\left(2 z \\right)} J^{2}_{0}\\left(2 \\rho\\right)$"
      ],
      "text/plain": [
       "∂                  2           2                                                                    2             2                2     \n",
       "──(ν(ρ, z)) = ρ⋅sin (z)⋅besselj (1, ρ) + 4⋅ρ⋅sin(z)⋅sin(2⋅z)⋅besselj(1, ρ)⋅besselj(1, 2⋅ρ) + 4⋅ρ⋅sin (2⋅z)⋅besselj (1, 2⋅ρ) - ρ⋅cos (z)⋅b\n",
       "∂ρ                                                                                                                                       \n",
       "\n",
       "      2                                                                    2             2        \n",
       "esselj (0, ρ) - 4⋅ρ⋅cos(z)⋅cos(2⋅z)⋅besselj(0, ρ)⋅besselj(0, 2⋅ρ) - 4⋅ρ⋅cos (2⋅z)⋅besselj (0, 2⋅ρ)\n",
       "                                                                                                  "
      ]
     },
     "execution_count": 56,
     "metadata": {},
     "output_type": "execute_result"
    }
   ],
   "source": [
    "expand(dnudrhoPDE.doit())"
   ]
  },
  {
   "cell_type": "code",
   "execution_count": 62,
   "id": "c4fdc327",
   "metadata": {},
   "outputs": [
    {
     "data": {
      "image/png": "[encoded data removed]",
      "text/latex": [
       "$\\displaystyle \\nu{\\left(\\rho,z \\right)} = - \\frac{\\rho^{2} \\left(J^{2}_{0}\\left(\\rho\\right) + J^{2}_{1}\\left(\\rho\\right)\\right) \\cos^{2}{\\left(z \\right)}}{2} - 2 \\rho^{2} \\left(J^{2}_{0}\\left(2 \\rho\\right) + J^{2}_{1}\\left(2 \\rho\\right)\\right) \\cos^{2}{\\left(2 z \\right)} + \\frac{4 \\rho \\left(J_{0}\\left(\\rho\\right) J_{1}\\left(2 \\rho\\right) - 2 J_{0}\\left(2 \\rho\\right) J_{1}\\left(\\rho\\right)\\right) \\sin{\\left(z \\right)} \\sin{\\left(2 z \\right)}}{3} - \\frac{4 \\rho \\left(2 J_{0}\\left(\\rho\\right) J_{1}\\left(2 \\rho\\right) - J_{0}\\left(2 \\rho\\right) J_{1}\\left(\\rho\\right)\\right) \\cos{\\left(z \\right)} \\cos{\\left(2 z \\right)}}{3} + \\frac{\\rho \\left(\\rho J^{2}_{0}\\left(\\rho\\right) + \\rho J^{2}_{1}\\left(\\rho\\right) - 2 J_{0}\\left(\\rho\\right) J_{1}\\left(\\rho\\right)\\right) \\sin^{2}{\\left(z \\right)}}{2} + 2 \\rho \\left(\\rho J^{2}_{0}\\left(2 \\rho\\right) + \\rho J^{2}_{1}\\left(2 \\rho\\right) - J_{0}\\left(2 \\rho\\right) J_{1}\\left(2 \\rho\\right)\\right) \\sin^{2}{\\left(2 z \\right)} + F{\\left(- z \\right)}$"
      ],
      "text/plain": [
       "             2 ⎛       2                2      ⎞    2                                                                                    \n",
       "            ρ ⋅⎝besselj (0, ρ) + besselj (1, ρ)⎠⋅cos (z)      2 ⎛       2                  2        ⎞    2        4⋅ρ⋅(besselj(0, ρ)⋅bess\n",
       "ν(ρ, z) = - ──────────────────────────────────────────── - 2⋅ρ ⋅⎝besselj (0, 2⋅ρ) + besselj (1, 2⋅ρ)⎠⋅cos (2⋅z) + ───────────────────────\n",
       "                                 2                                                                                                       \n",
       "\n",
       "                                                                                                                                         \n",
       "elj(1, 2⋅ρ) - 2⋅besselj(0, 2⋅ρ)⋅besselj(1, ρ))⋅sin(z)⋅sin(2⋅z)   4⋅ρ⋅(2⋅besselj(0, ρ)⋅besselj(1, 2⋅ρ) - besselj(0, 2⋅ρ)⋅besselj(1, ρ))⋅co\n",
       "────────────────────────────────────────────────────────────── - ────────────────────────────────────────────────────────────────────────\n",
       "                   3                                                                                       3                             \n",
       "\n",
       "                  ⎛         2                  2                                      ⎞    2                                             \n",
       "s(z)⋅cos(2⋅z)   ρ⋅⎝ρ⋅besselj (0, ρ) + ρ⋅besselj (1, ρ) - 2⋅besselj(0, ρ)⋅besselj(1, ρ)⎠⋅sin (z)       ⎛         2                    2   \n",
       "───────────── + ─────────────────────────────────────────────────────────────────────────────── + 2⋅ρ⋅⎝ρ⋅besselj (0, 2⋅ρ) + ρ⋅besselj (1,\n",
       "                                                       2                                                                                 \n",
       "\n",
       "                                                          \n",
       "                                       ⎞    2             \n",
       " 2⋅ρ) - besselj(0, 2⋅ρ)⋅besselj(1, 2⋅ρ)⎠⋅sin (2⋅z) + F(-z)\n",
       "                                                          "
      ]
     },
     "execution_count": 62,
     "metadata": {},
     "output_type": "execute_result"
    }
   ],
   "source": [
    "integrateNuWRTrho = pdsolve( expand(dnudrhoPDE.doit()) )\n",
    "integrateNuWRTrho"
   ]
  },
  {
   "cell_type": "code",
   "execution_count": 77,
   "id": "c83b5550",
   "metadata": {},
   "outputs": [
    {
     "data": {
      "image/png": "[encoded data removed]",
      "text/latex": [
       "$\\displaystyle \\nu{\\left(\\rho,z \\right)} = - \\frac{\\rho^{2} \\left(J^{2}_{0}\\left(\\rho\\right) + J^{2}_{1}\\left(\\rho\\right)\\right) \\cos^{2}{\\left(z \\right)}}{2} - 2 \\rho^{2} \\left(J^{2}_{0}\\left(2 \\rho\\right) + J^{2}_{1}\\left(2 \\rho\\right)\\right) \\cos^{2}{\\left(2 z \\right)} + \\frac{4 \\rho \\left(J_{0}\\left(\\rho\\right) J_{1}\\left(2 \\rho\\right) - 2 J_{0}\\left(2 \\rho\\right) J_{1}\\left(\\rho\\right)\\right) \\sin{\\left(z \\right)} \\sin{\\left(2 z \\right)}}{3} - \\frac{4 \\rho \\left(2 J_{0}\\left(\\rho\\right) J_{1}\\left(2 \\rho\\right) - J_{0}\\left(2 \\rho\\right) J_{1}\\left(\\rho\\right)\\right) \\cos{\\left(z \\right)} \\cos{\\left(2 z \\right)}}{3} + \\frac{\\rho \\left(\\rho J^{2}_{0}\\left(\\rho\\right) + \\rho J^{2}_{1}\\left(\\rho\\right) - 2 J_{0}\\left(\\rho\\right) J_{1}\\left(\\rho\\right)\\right) \\sin^{2}{\\left(z \\right)}}{2} + 2 \\rho \\left(\\rho J^{2}_{0}\\left(2 \\rho\\right) + \\rho J^{2}_{1}\\left(2 \\rho\\right) - J_{0}\\left(2 \\rho\\right) J_{1}\\left(2 \\rho\\right)\\right) \\sin^{2}{\\left(2 z \\right)}$"
      ],
      "text/plain": [
       "             2 ⎛       2                2      ⎞    2                                                                                    \n",
       "            ρ ⋅⎝besselj (0, ρ) + besselj (1, ρ)⎠⋅cos (z)      2 ⎛       2                  2        ⎞    2        4⋅ρ⋅(besselj(0, ρ)⋅bess\n",
       "ν(ρ, z) = - ──────────────────────────────────────────── - 2⋅ρ ⋅⎝besselj (0, 2⋅ρ) + besselj (1, 2⋅ρ)⎠⋅cos (2⋅z) + ───────────────────────\n",
       "                                 2                                                                                                       \n",
       "\n",
       "                                                                                                                                         \n",
       "elj(1, 2⋅ρ) - 2⋅besselj(0, 2⋅ρ)⋅besselj(1, ρ))⋅sin(z)⋅sin(2⋅z)   4⋅ρ⋅(2⋅besselj(0, ρ)⋅besselj(1, 2⋅ρ) - besselj(0, 2⋅ρ)⋅besselj(1, ρ))⋅co\n",
       "────────────────────────────────────────────────────────────── - ────────────────────────────────────────────────────────────────────────\n",
       "                   3                                                                                       3                             \n",
       "\n",
       "                  ⎛         2                  2                                      ⎞    2                                             \n",
       "s(z)⋅cos(2⋅z)   ρ⋅⎝ρ⋅besselj (0, ρ) + ρ⋅besselj (1, ρ) - 2⋅besselj(0, ρ)⋅besselj(1, ρ)⎠⋅sin (z)       ⎛         2                    2   \n",
       "───────────── + ─────────────────────────────────────────────────────────────────────────────── + 2⋅ρ⋅⎝ρ⋅besselj (0, 2⋅ρ) + ρ⋅besselj (1,\n",
       "                                                       2                                                                                 \n",
       "\n",
       "                                                  \n",
       "                                       ⎞    2     \n",
       " 2⋅ρ) - besselj(0, 2⋅ρ)⋅besselj(1, 2⋅ρ)⎠⋅sin (2⋅z)\n",
       "                                                  "
      ]
     },
     "execution_count": 77,
     "metadata": {},
     "output_type": "execute_result"
    }
   ],
   "source": [
    "nuSolutionRho = integrateNuWRTrho.subs(integrateNuWRTrho.args[1].args[6],0)\n",
    "nuSolutionRho"
   ]
  },
  {
   "cell_type": "code",
   "execution_count": 58,
   "id": "6e3982db",
   "metadata": {},
   "outputs": [
    {
     "data": {
      "image/png": "[encoded data removed]",
      "text/latex": [
       "$\\displaystyle \\frac{\\partial}{\\partial z} \\nu{\\left(\\rho,z \\right)} = 2 \\rho \\frac{\\partial}{\\partial \\rho} \\left(\\sin{\\left(z \\right)} J_{0}\\left(\\rho\\right) + \\sin{\\left(2 z \\right)} J_{0}\\left(2 \\rho\\right)\\right) \\frac{\\partial}{\\partial z} \\left(\\sin{\\left(z \\right)} J_{0}\\left(\\rho\\right) + \\sin{\\left(2 z \\right)} J_{0}\\left(2 \\rho\\right)\\right)$"
      ],
      "text/plain": [
       "∂                 ∂                                                   ∂                                                  \n",
       "──(ν(ρ, z)) = 2⋅ρ⋅──(sin(z)⋅besselj(0, ρ) + sin(2⋅z)⋅besselj(0, 2⋅ρ))⋅──(sin(z)⋅besselj(0, ρ) + sin(2⋅z)⋅besselj(0, 2⋅ρ))\n",
       "∂z                ∂ρ                                                  ∂z                                                 "
      ]
     },
     "execution_count": 58,
     "metadata": {},
     "output_type": "execute_result"
    }
   ],
   "source": [
    "dnudzPDE = vacuumFieldEquations[2].subs(psiSumTwoTerms.args[0],psiSumTwoTerms.args[1])\n",
    "dnudzPDE"
   ]
  },
  {
   "cell_type": "code",
   "execution_count": 59,
   "id": "6e8e86ca",
   "metadata": {},
   "outputs": [
    {
     "data": {
      "image/png": "[encoded data removed]",
      "text/latex": [
       "$\\displaystyle \\frac{\\partial}{\\partial z} \\nu{\\left(\\rho,z \\right)} = 2 \\rho \\left(- \\sin{\\left(z \\right)} J_{1}\\left(\\rho\\right) - 2 \\sin{\\left(2 z \\right)} J_{1}\\left(2 \\rho\\right)\\right) \\left(\\cos{\\left(z \\right)} J_{0}\\left(\\rho\\right) + 2 \\cos{\\left(2 z \\right)} J_{0}\\left(2 \\rho\\right)\\right)$"
      ],
      "text/plain": [
       "∂                                                                                                                         \n",
       "──(ν(ρ, z)) = 2⋅ρ⋅(-sin(z)⋅besselj(1, ρ) - 2⋅sin(2⋅z)⋅besselj(1, 2⋅ρ))⋅(cos(z)⋅besselj(0, ρ) + 2⋅cos(2⋅z)⋅besselj(0, 2⋅ρ))\n",
       "∂z                                                                                                                        "
      ]
     },
     "execution_count": 59,
     "metadata": {},
     "output_type": "execute_result"
    }
   ],
   "source": [
    "dnudzPDE.doit()"
   ]
  },
  {
   "cell_type": "code",
   "execution_count": 60,
   "id": "2aa6f549",
   "metadata": {},
   "outputs": [
    {
     "data": {
      "image/png": "[encoded data removed]",
      "text/latex": [
       "$\\displaystyle \\frac{\\partial}{\\partial z} \\nu{\\left(\\rho,z \\right)} = - 2 \\rho \\sin{\\left(z \\right)} \\cos{\\left(z \\right)} J_{0}\\left(\\rho\\right) J_{1}\\left(\\rho\\right) - 4 \\rho \\sin{\\left(z \\right)} \\cos{\\left(2 z \\right)} J_{0}\\left(2 \\rho\\right) J_{1}\\left(\\rho\\right) - 4 \\rho \\sin{\\left(2 z \\right)} \\cos{\\left(z \\right)} J_{0}\\left(\\rho\\right) J_{1}\\left(2 \\rho\\right) - 8 \\rho \\sin{\\left(2 z \\right)} \\cos{\\left(2 z \\right)} J_{0}\\left(2 \\rho\\right) J_{1}\\left(2 \\rho\\right)$"
      ],
      "text/plain": [
       "∂                                                                                                                                        \n",
       "──(ν(ρ, z)) = -2⋅ρ⋅sin(z)⋅cos(z)⋅besselj(0, ρ)⋅besselj(1, ρ) - 4⋅ρ⋅sin(z)⋅cos(2⋅z)⋅besselj(0, 2⋅ρ)⋅besselj(1, ρ) - 4⋅ρ⋅sin(2⋅z)⋅cos(z)⋅be\n",
       "∂z                                                                                                                                       \n",
       "\n",
       "                                                                                   \n",
       "sselj(0, ρ)⋅besselj(1, 2⋅ρ) - 8⋅ρ⋅sin(2⋅z)⋅cos(2⋅z)⋅besselj(0, 2⋅ρ)⋅besselj(1, 2⋅ρ)\n",
       "                                                                                   "
      ]
     },
     "execution_count": 60,
     "metadata": {},
     "output_type": "execute_result"
    }
   ],
   "source": [
    "expand(dnudzPDE.doit())"
   ]
  },
  {
   "cell_type": "code",
   "execution_count": 63,
   "id": "e4c9c36f",
   "metadata": {},
   "outputs": [
    {
     "data": {
      "image/png": "[encoded data removed]",
      "text/latex": [
       "$\\displaystyle \\nu{\\left(\\rho,z \\right)} = \\frac{4 \\rho \\left(2 \\cos^{2}{\\left(z \\right)} - 3\\right) \\cos{\\left(z \\right)} J_{0}\\left(2 \\rho\\right) J_{1}\\left(\\rho\\right)}{3} - \\rho \\sin^{2}{\\left(z \\right)} J_{0}\\left(\\rho\\right) J_{1}\\left(\\rho\\right) - 2 \\rho \\sin^{2}{\\left(2 z \\right)} J_{0}\\left(2 \\rho\\right) J_{1}\\left(2 \\rho\\right) + \\frac{8 \\rho \\cos^{3}{\\left(z \\right)} J_{0}\\left(\\rho\\right) J_{1}\\left(2 \\rho\\right)}{3} + F{\\left(\\rho \\right)}$"
      ],
      "text/plain": [
       "              ⎛     2       ⎞                                                                                                            \n",
       "          4⋅ρ⋅⎝2⋅cos (z) - 3⎠⋅cos(z)⋅besselj(0, 2⋅ρ)⋅besselj(1, ρ)        2                                         2                    \n",
       "ν(ρ, z) = ──────────────────────────────────────────────────────── - ρ⋅sin (z)⋅besselj(0, ρ)⋅besselj(1, ρ) - 2⋅ρ⋅sin (2⋅z)⋅besselj(0, 2⋅ρ\n",
       "                                     3                                                                                                   \n",
       "\n",
       "                           3                                        \n",
       "                    8⋅ρ⋅cos (z)⋅besselj(0, ρ)⋅besselj(1, 2⋅ρ)       \n",
       ")⋅besselj(1, 2⋅ρ) + ───────────────────────────────────────── + F(ρ)\n",
       "                                        3                           "
      ]
     },
     "execution_count": 63,
     "metadata": {},
     "output_type": "execute_result"
    }
   ],
   "source": [
    "integrateNuWRTz = pdsolve( expand(dnudzPDE.doit()) )\n",
    "integrateNuWRTz"
   ]
  },
  {
   "cell_type": "code",
   "execution_count": 69,
   "id": "d5cd7c3a",
   "metadata": {},
   "outputs": [
    {
     "data": {
      "image/png": "[encoded data removed]",
      "text/latex": [
       "$\\displaystyle F{\\left(\\rho \\right)}$"
      ],
      "text/plain": [
       "F(ρ)"
      ]
     },
     "execution_count": 69,
     "metadata": {},
     "output_type": "execute_result"
    }
   ],
   "source": [
    "#  I have no idea what this constant is actually called in Python... so... we set it equal to zero the long way \n",
    "integrateNuWRTz.args[1].args[4]"
   ]
  },
  {
   "cell_type": "code",
   "execution_count": 78,
   "id": "8f1609cb",
   "metadata": {},
   "outputs": [
    {
     "data": {
      "image/png": "[encoded data removed]",
      "text/latex": [
       "$\\displaystyle \\nu{\\left(\\rho,z \\right)} = \\frac{4 \\rho \\left(2 \\cos^{2}{\\left(z \\right)} - 3\\right) \\cos{\\left(z \\right)} J_{0}\\left(2 \\rho\\right) J_{1}\\left(\\rho\\right)}{3} - \\rho \\sin^{2}{\\left(z \\right)} J_{0}\\left(\\rho\\right) J_{1}\\left(\\rho\\right) - 2 \\rho \\sin^{2}{\\left(2 z \\right)} J_{0}\\left(2 \\rho\\right) J_{1}\\left(2 \\rho\\right) + \\frac{8 \\rho \\cos^{3}{\\left(z \\right)} J_{0}\\left(\\rho\\right) J_{1}\\left(2 \\rho\\right)}{3}$"
      ],
      "text/plain": [
       "              ⎛     2       ⎞                                                                                                            \n",
       "          4⋅ρ⋅⎝2⋅cos (z) - 3⎠⋅cos(z)⋅besselj(0, 2⋅ρ)⋅besselj(1, ρ)        2                                         2                    \n",
       "ν(ρ, z) = ──────────────────────────────────────────────────────── - ρ⋅sin (z)⋅besselj(0, ρ)⋅besselj(1, ρ) - 2⋅ρ⋅sin (2⋅z)⋅besselj(0, 2⋅ρ\n",
       "                                     3                                                                                                   \n",
       "\n",
       "                           3                                 \n",
       "                    8⋅ρ⋅cos (z)⋅besselj(0, ρ)⋅besselj(1, 2⋅ρ)\n",
       ")⋅besselj(1, 2⋅ρ) + ─────────────────────────────────────────\n",
       "                                        3                    "
      ]
     },
     "execution_count": 78,
     "metadata": {},
     "output_type": "execute_result"
    }
   ],
   "source": [
    "nuSolutionZ = integrateNuWRTz.subs( integrateNuWRTz.args[1].args[4],0)\n",
    "nuSolutionZ"
   ]
  },
  {
   "cell_type": "code",
   "execution_count": 81,
   "id": "460e325b",
   "metadata": {},
   "outputs": [],
   "source": [
    "from sympy.plotting import plot3d"
   ]
  },
  {
   "cell_type": "code",
   "execution_count": 84,
   "id": "f4314402",
   "metadata": {},
   "outputs": [],
   "source": [
    "#  So... this doesn't work... \n",
    "#  plot3d(nuSolutionZ.args[1] , (rho,0,1),(z,0,1) )"
   ]
  },
  {
   "cell_type": "code",
   "execution_count": 83,
   "id": "038a4e47",
   "metadata": {},
   "outputs": [],
   "source": [
    "from mpl_toolkits import mplot3d"
   ]
  },
  {
   "cell_type": "code",
   "execution_count": null,
   "id": "f4a270fa",
   "metadata": {},
   "outputs": [],
   "source": []
  }
 ],
 "metadata": {
  "@webio": {
   "lastCommId": "4c64d2fe4e1d490c88b775fb0571ba9c",
   "lastKernelId": "9d106e2a-6714-47e3-888b-b09349ac2795"
  },
  "kernelspec": {
   "display_name": "Python 3 (ipykernel)",
   "language": "python",
   "name": "python3"
  },
  "language_info": {
   "codemirror_mode": {
    "name": "ipython",
    "version": 3
   },
   "file_extension": ".py",
   "mimetype": "text/x-python",
   "name": "python",
   "nbconvert_exporter": "python",
   "pygments_lexer": "ipython3",
   "version": "3.8.8"
  }
 },
 "nbformat": 4,
 "nbformat_minor": 5
}
