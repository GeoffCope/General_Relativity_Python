{
 "cells": [
  {
   "cell_type": "markdown",
   "id": "eaedfd5e",
   "metadata": {},
   "source": [
    "# Gravitational waves in general relativity XIII Caustic property of plane waves by Bondi & Pirani \n",
    "##  Geoff Cope\n",
    "##  Univeristy of Utah\n",
    "##  December 22, 2021"
   ]
  },
  {
   "cell_type": "markdown",
   "id": "ec1532c5",
   "metadata": {},
   "source": [
    "Here we concentrate on metric 2.1"
   ]
  },
  {
   "cell_type": "markdown",
   "id": "1a4cb7fe",
   "metadata": {},
   "source": [
    "https://royalsocietypublishing.org/doi/abs/10.1098/rspa.1989.0016"
   ]
  },
  {
   "cell_type": "code",
   "execution_count": 1,
   "id": "5718c225",
   "metadata": {},
   "outputs": [
    {
     "name": "stdout",
     "output_type": "stream",
     "text": [
      "IPython console for SymPy 1.9 (Python 3.8.8-64-bit) (ground types: gmpy)\n",
      "\n",
      "These commands were executed:\n",
      ">>> from __future__ import division\n",
      ">>> from sympy import *\n",
      ">>> x, y, z, t = symbols('x y z t')\n",
      ">>> k, m, n = symbols('k m n', integer=True)\n",
      ">>> f, g, h = symbols('f g h', cls=Function)\n",
      ">>> init_printing()\n",
      "\n",
      "Documentation can be found at https://docs.sympy.org/1.9/\n",
      "\n"
     ]
    }
   ],
   "source": [
    "from sympy import init_session\n",
    "init_session(use_latex=True)"
   ]
  },
  {
   "cell_type": "code",
   "execution_count": 2,
   "id": "f5b993a7",
   "metadata": {},
   "outputs": [],
   "source": [
    "import warnings\n",
    "import matplotlib.cbook\n",
    "warnings.filterwarnings(\"ignore\",category=matplotlib.cbook.mplDeprecation)"
   ]
  },
  {
   "cell_type": "code",
   "execution_count": 4,
   "id": "0a412b56",
   "metadata": {},
   "outputs": [],
   "source": [
    "u,v,eta,zeta,du,dv,deta,dzeta,beta,phi = symbols( 'u v eta zeta du dv deta dzeta beta phi' ) "
   ]
  },
  {
   "cell_type": "code",
   "execution_count": 5,
   "id": "66bbd6d6",
   "metadata": {},
   "outputs": [
    {
     "data": {
      "image/png": "[encoded data removed]",
      "text/latex": [
       "$\\displaystyle \\beta{\\left(u \\right)}$"
      ],
      "text/plain": [
       "β(u)"
      ]
     },
     "execution_count": 5,
     "metadata": {},
     "output_type": "execute_result"
    }
   ],
   "source": [
    "beta = Function('beta')(u)\n",
    "beta"
   ]
  },
  {
   "cell_type": "code",
   "execution_count": 21,
   "id": "ef88dc7e",
   "metadata": {},
   "outputs": [
    {
     "data": {
      "image/png": "[encoded data removed]",
      "text/latex": [
       "$\\displaystyle \\phi{\\left(u \\right)}$"
      ],
      "text/plain": [
       "φ(u)"
      ]
     },
     "execution_count": 21,
     "metadata": {},
     "output_type": "execute_result"
    }
   ],
   "source": [
    "phi = Function('phi')(u)\n",
    "phi"
   ]
  },
  {
   "cell_type": "code",
   "execution_count": 8,
   "id": "68c99238",
   "metadata": {},
   "outputs": [
    {
     "data": {
      "text/latex": [
       "$\\displaystyle \\left[\\begin{matrix}u\\\\v\\\\\\eta\\\\\\zeta\\end{matrix}\\right]$"
      ],
      "text/plain": [
       "⎡u⎤\n",
       "⎢ ⎥\n",
       "⎢v⎥\n",
       "⎢ ⎥\n",
       "⎢η⎥\n",
       "⎢ ⎥\n",
       "⎣ζ⎦"
      ]
     },
     "execution_count": 8,
     "metadata": {},
     "output_type": "execute_result"
    }
   ],
   "source": [
    "variables = Matrix( [u,v,eta,zeta] )\n",
    "variables"
   ]
  },
  {
   "cell_type": "code",
   "execution_count": 9,
   "id": "a202d8f4",
   "metadata": {},
   "outputs": [
    {
     "data": {
      "text/latex": [
       "$\\displaystyle \\left[\\begin{matrix}du\\\\dv\\\\deta\\\\dzeta\\end{matrix}\\right]$"
      ],
      "text/plain": [
       "⎡ du  ⎤\n",
       "⎢     ⎥\n",
       "⎢ dv  ⎥\n",
       "⎢     ⎥\n",
       "⎢deta ⎥\n",
       "⎢     ⎥\n",
       "⎣dzeta⎦"
      ]
     },
     "execution_count": 9,
     "metadata": {},
     "output_type": "execute_result"
    }
   ],
   "source": [
    "differentials = Matrix( [du,dv,deta,dzeta] ) \n",
    "differentials"
   ]
  },
  {
   "cell_type": "code",
   "execution_count": 22,
   "id": "894375ca",
   "metadata": {},
   "outputs": [],
   "source": [
    "lineElement = exp(2*phi)*du*dv - u**2 * ( exp(2*beta)*deta**2 + exp(-2*beta)*dzeta**2)\n",
    "lineElementExpanded = expand(exp(2*phi)*du*dv - u**2 * ( exp(2*beta)*deta**2 + exp(-2*beta)*dzeta**2))"
   ]
  },
  {
   "cell_type": "code",
   "execution_count": 23,
   "id": "d7ea5ed2",
   "metadata": {},
   "outputs": [
    {
     "data": {
      "image/png": "[encoded data removed]",
      "text/latex": [
       "$\\displaystyle du dv e^{2 \\phi{\\left(u \\right)}} - u^{2} \\left(deta^{2} e^{2 \\beta{\\left(u \\right)}} + dzeta^{2} e^{- 2 \\beta{\\left(u \\right)}}\\right)$"
      ],
      "text/plain": [
       "       2⋅φ(u)    2 ⎛    2  2⋅β(u)        2  -2⋅β(u)⎞\n",
       "du⋅dv⋅ℯ       - u ⋅⎝deta ⋅ℯ       + dzeta ⋅ℯ       ⎠"
      ]
     },
     "execution_count": 23,
     "metadata": {},
     "output_type": "execute_result"
    }
   ],
   "source": [
    "lineElement"
   ]
  },
  {
   "cell_type": "code",
   "execution_count": 24,
   "id": "eea05a07",
   "metadata": {},
   "outputs": [
    {
     "data": {
      "image/png": "[encoded data removed]",
      "text/latex": [
       "$\\displaystyle - deta^{2} u^{2} e^{2 \\beta{\\left(u \\right)}} + du dv e^{2 \\phi{\\left(u \\right)}} - dzeta^{2} u^{2} e^{- 2 \\beta{\\left(u \\right)}}$"
      ],
      "text/plain": [
       "      2  2  2⋅β(u)          2⋅φ(u)        2  2  -2⋅β(u)\n",
       "- deta ⋅u ⋅ℯ       + du⋅dv⋅ℯ       - dzeta ⋅u ⋅ℯ       "
      ]
     },
     "execution_count": 24,
     "metadata": {},
     "output_type": "execute_result"
    }
   ],
   "source": [
    "lineElementExpanded"
   ]
  },
  {
   "cell_type": "code",
   "execution_count": 25,
   "id": "867d4dd8",
   "metadata": {},
   "outputs": [
    {
     "data": {
      "text/latex": [
       "$\\displaystyle \\left[\\begin{matrix}0 & \\frac{e^{2 \\phi{\\left(u \\right)}}}{2} & 0 & 0\\\\\\frac{e^{2 \\phi{\\left(u \\right)}}}{2} & 0 & 0 & 0\\\\0 & 0 & - u^{2} e^{2 \\beta{\\left(u \\right)}} & 0\\\\0 & 0 & 0 & - u^{2} e^{- 2 \\beta{\\left(u \\right)}}\\end{matrix}\\right]$"
      ],
      "text/plain": [
       "⎡          2⋅φ(u)                           ⎤\n",
       "⎢         ℯ                                 ⎥\n",
       "⎢   0     ───────       0            0      ⎥\n",
       "⎢            2                              ⎥\n",
       "⎢                                           ⎥\n",
       "⎢ 2⋅φ(u)                                    ⎥\n",
       "⎢ℯ                                          ⎥\n",
       "⎢───────     0          0            0      ⎥\n",
       "⎢   2                                       ⎥\n",
       "⎢                                           ⎥\n",
       "⎢                    2  2⋅β(u)              ⎥\n",
       "⎢   0        0     -u ⋅ℯ             0      ⎥\n",
       "⎢                                           ⎥\n",
       "⎢                                 2  -2⋅β(u)⎥\n",
       "⎣   0        0          0       -u ⋅ℯ       ⎦"
      ]
     },
     "execution_count": 25,
     "metadata": {},
     "output_type": "execute_result"
    }
   ],
   "source": [
    "g = zeros(4)\n",
    "\n",
    "for i in range(4):\n",
    "    for j in range(4):\n",
    "        if i == j:\n",
    "            g[i,j] = lineElementExpanded.coeff( differentials[i],2 ) \n",
    "        else:\n",
    "            g[i,j] = Rational(1,2)*lineElementExpanded.coeff( differentials[i]*differentials[j],1 )\n",
    "            \n",
    "g"
   ]
  },
  {
   "cell_type": "code",
   "execution_count": 26,
   "id": "e1ea2f34",
   "metadata": {},
   "outputs": [],
   "source": [
    "import sympy"
   ]
  },
  {
   "cell_type": "code",
   "execution_count": 27,
   "id": "95503676",
   "metadata": {},
   "outputs": [
    {
     "data": {
      "text/latex": [
       "$\\displaystyle \\left[\\begin{matrix}0 & \\frac{e^{2 \\phi{\\left(u \\right)}}}{2} & 0 & 0\\\\\\frac{e^{2 \\phi{\\left(u \\right)}}}{2} & 0 & 0 & 0\\\\0 & 0 & - u^{2} e^{2 \\beta{\\left(u \\right)}} & 0\\\\0 & 0 & 0 & - u^{2} e^{- 2 \\beta{\\left(u \\right)}}\\end{matrix}\\right]$"
      ],
      "text/plain": [
       "⎡          2⋅φ(u)                           ⎤\n",
       "⎢         ℯ                                 ⎥\n",
       "⎢   0     ───────       0            0      ⎥\n",
       "⎢            2                              ⎥\n",
       "⎢                                           ⎥\n",
       "⎢ 2⋅φ(u)                                    ⎥\n",
       "⎢ℯ                                          ⎥\n",
       "⎢───────     0          0            0      ⎥\n",
       "⎢   2                                       ⎥\n",
       "⎢                                           ⎥\n",
       "⎢                    2  2⋅β(u)              ⎥\n",
       "⎢   0        0     -u ⋅ℯ             0      ⎥\n",
       "⎢                                           ⎥\n",
       "⎢                                 2  -2⋅β(u)⎥\n",
       "⎣   0        0          0       -u ⋅ℯ       ⎦"
      ]
     },
     "execution_count": 27,
     "metadata": {},
     "output_type": "execute_result"
    }
   ],
   "source": [
    "m = sympy.Array(g)\n",
    "m"
   ]
  },
  {
   "cell_type": "code",
   "execution_count": 28,
   "id": "a1344e39",
   "metadata": {},
   "outputs": [],
   "source": [
    "from einsteinpy.symbolic import *"
   ]
  },
  {
   "cell_type": "code",
   "execution_count": 29,
   "id": "4c0a3747",
   "metadata": {},
   "outputs": [],
   "source": [
    "syms = sympy.symbols(\"u v x y\")\n",
    "u,v,x,y = syms"
   ]
  },
  {
   "cell_type": "code",
   "execution_count": 30,
   "id": "4fc139fe",
   "metadata": {},
   "outputs": [],
   "source": [
    "metric = MetricTensor(m,syms)"
   ]
  },
  {
   "cell_type": "code",
   "execution_count": 37,
   "id": "5083e8a6",
   "metadata": {},
   "outputs": [
    {
     "data": {
      "text/latex": [
       "$\\displaystyle \\left[\\begin{matrix}\\left[\\begin{matrix}2 \\frac{d}{d u} \\phi{\\left(u \\right)} & 0 & 0 & 0\\\\0 & 0 & 0 & 0\\\\0 & 0 & 0 & 0\\\\0 & 0 & 0 & 0\\end{matrix}\\right] & \\left[\\begin{matrix}0 & 0 & 0 & 0\\\\0 & 0 & 0 & 0\\\\0 & 0 & 2 u \\left(u \\frac{d}{d u} \\beta{\\left(u \\right)} + 1\\right) e^{2 \\beta{\\left(u \\right)} - 2 \\phi{\\left(u \\right)}} & 0\\\\0 & 0 & 0 & 2 u \\left(- u \\frac{d}{d u} \\beta{\\left(u \\right)} + 1\\right) e^{- 2 \\beta{\\left(u \\right)} - 2 \\phi{\\left(u \\right)}}\\end{matrix}\\right] & \\left[\\begin{matrix}0 & 0 & \\frac{d}{d u} \\beta{\\left(u \\right)} + \\frac{1}{u} & 0\\\\0 & 0 & 0 & 0\\\\\\frac{d}{d u} \\beta{\\left(u \\right)} + \\frac{1}{u} & 0 & 0 & 0\\\\0 & 0 & 0 & 0\\end{matrix}\\right] & \\left[\\begin{matrix}0 & 0 & 0 & - \\frac{d}{d u} \\beta{\\left(u \\right)} + \\frac{1}{u}\\\\0 & 0 & 0 & 0\\\\0 & 0 & 0 & 0\\\\- \\frac{d}{d u} \\beta{\\left(u \\right)} + \\frac{1}{u} & 0 & 0 & 0\\end{matrix}\\right]\\end{matrix}\\right]$"
      ],
      "text/plain": [
       "⎡                       ⎡0  0                    0                                       0  \n",
       "⎢⎡  d                ⎤  ⎢                                                                   \n",
       "⎢⎢2⋅──(φ(u))  0  0  0⎥  ⎢0  0                    0                                       0  \n",
       "⎢⎢  du               ⎥  ⎢                                                                   \n",
       "⎢⎢                   ⎥  ⎢          ⎛  d           ⎞  2⋅β(u) - 2⋅φ(u)                        \n",
       "⎢⎢    0       0  0  0⎥  ⎢0  0  2⋅u⋅⎜u⋅──(β(u)) + 1⎟⋅ℯ                                    0  \n",
       "⎢⎢                   ⎥  ⎢          ⎝  du          ⎠                                         \n",
       "⎢⎢    0       0  0  0⎥  ⎢                                                                   \n",
       "⎢⎢                   ⎥  ⎢                                                 ⎛    d           ⎞\n",
       "⎢⎣    0       0  0  0⎦  ⎢0  0                    0                    2⋅u⋅⎜- u⋅──(β(u)) + 1⎟\n",
       "⎣                       ⎣                                                 ⎝    du          ⎠\n",
       "\n",
       "                  ⎤  ⎡                 d          1   ⎤  ⎡                        d         \n",
       "                  ⎥  ⎢     0        0  ──(β(u)) + ─  0⎥  ⎢      0         0  0  - ──(β(u)) +\n",
       "                  ⎥  ⎢                 du         u   ⎥  ⎢                        du        \n",
       "                  ⎥  ⎢                                ⎥  ⎢                                  \n",
       "                  ⎥  ⎢     0        0       0        0⎥  ⎢      0         0  0        0     \n",
       "                  ⎥  ⎢                                ⎥  ⎢                                  \n",
       "                  ⎥  ⎢d          1                    ⎥  ⎢      0         0  0        0     \n",
       "                  ⎥  ⎢──(β(u)) + ─  0       0        0⎥  ⎢                                  \n",
       "  -2⋅β(u) - 2⋅φ(u)⎥  ⎢du         u                    ⎥  ⎢  d          1                    \n",
       "⋅ℯ                ⎥  ⎢                                ⎥  ⎢- ──(β(u)) + ─  0  0        0     \n",
       "                  ⎦  ⎣     0        0       0        0⎦  ⎣  du         u                    \n",
       "\n",
       " 1⎤⎤\n",
       " ─⎥⎥\n",
       " u⎥⎥\n",
       "  ⎥⎥\n",
       "  ⎥⎥\n",
       "  ⎥⎥\n",
       "  ⎥⎥\n",
       "  ⎥⎥\n",
       "  ⎥⎥\n",
       "  ⎥⎥\n",
       "  ⎦⎦"
      ]
     },
     "execution_count": 37,
     "metadata": {},
     "output_type": "execute_result"
    }
   ],
   "source": [
    "ch = ChristoffelSymbols.from_metric(metric)\n",
    "simplify(ch.tensor())"
   ]
  },
  {
   "cell_type": "code",
   "execution_count": 32,
   "id": "990de50b",
   "metadata": {},
   "outputs": [
    {
     "data": {
      "text/latex": [
       "$\\displaystyle \\left[\\begin{matrix}- 2 \\left(\\frac{d}{d u} \\beta{\\left(u \\right)}\\right)^{2} + \\frac{4 \\frac{d}{d u} \\phi{\\left(u \\right)}}{u} & 0 & 0 & 0\\\\0 & 0 & 0 & 0\\\\0 & 0 & 0 & 0\\\\0 & 0 & 0 & 0\\end{matrix}\\right]$"
      ],
      "text/plain": [
       "⎡                    d                ⎤\n",
       "⎢              2   4⋅──(φ(u))         ⎥\n",
       "⎢    ⎛d       ⎞      du               ⎥\n",
       "⎢- 2⋅⎜──(β(u))⎟  + ──────────  0  0  0⎥\n",
       "⎢    ⎝du      ⎠        u              ⎥\n",
       "⎢                                     ⎥\n",
       "⎢             0                0  0  0⎥\n",
       "⎢                                     ⎥\n",
       "⎢             0                0  0  0⎥\n",
       "⎢                                     ⎥\n",
       "⎣             0                0  0  0⎦"
      ]
     },
     "execution_count": 32,
     "metadata": {},
     "output_type": "execute_result"
    }
   ],
   "source": [
    "Ric = RicciTensor.from_metric(metric)\n",
    "Ric.tensor()"
   ]
  },
  {
   "cell_type": "code",
   "execution_count": 33,
   "id": "38881c49",
   "metadata": {},
   "outputs": [
    {
     "data": {
      "text/latex": [
       "$\\displaystyle \\left[\\begin{matrix}- 2 \\left(\\frac{d}{d u} \\beta{\\left(u \\right)}\\right)^{2} + \\frac{4 \\frac{d}{d u} \\phi{\\left(u \\right)}}{u} & 0 & 0 & 0\\\\0 & 0 & 0 & 0\\\\0 & 0 & 0 & 0\\\\0 & 0 & 0 & 0\\end{matrix}\\right]$"
      ],
      "text/plain": [
       "⎡                    d                ⎤\n",
       "⎢              2   4⋅──(φ(u))         ⎥\n",
       "⎢    ⎛d       ⎞      du               ⎥\n",
       "⎢- 2⋅⎜──(β(u))⎟  + ──────────  0  0  0⎥\n",
       "⎢    ⎝du      ⎠        u              ⎥\n",
       "⎢                                     ⎥\n",
       "⎢             0                0  0  0⎥\n",
       "⎢                                     ⎥\n",
       "⎢             0                0  0  0⎥\n",
       "⎢                                     ⎥\n",
       "⎣             0                0  0  0⎦"
      ]
     },
     "execution_count": 33,
     "metadata": {},
     "output_type": "execute_result"
    }
   ],
   "source": [
    "einst = EinsteinTensor.from_metric(metric)\n",
    "einst.tensor()"
   ]
  },
  {
   "cell_type": "code",
   "execution_count": 34,
   "id": "85ba33e1",
   "metadata": {},
   "outputs": [
    {
     "data": {
      "image/png": "[encoded data removed]",
      "text/latex": [
       "$\\displaystyle 0$"
      ],
      "text/plain": [
       "0"
      ]
     },
     "execution_count": 34,
     "metadata": {},
     "output_type": "execute_result"
    }
   ],
   "source": [
    "R = RicciScalar.from_riccitensor(Ric)\n",
    "R.simplify()\n",
    "R.expr"
   ]
  },
  {
   "cell_type": "code",
   "execution_count": 35,
   "id": "bb5348c2",
   "metadata": {},
   "outputs": [
    {
     "data": {
      "text/latex": [
       "$\\displaystyle \\left[\\begin{matrix}\\left[\\begin{matrix}0 & 0 & 0 & 0\\\\0 & 0 & 0 & 0\\\\0 & 0 & 0 & 0\\\\0 & 0 & 0 & 0\\end{matrix}\\right] & \\left[\\begin{matrix}0 & 0 & 0 & 0\\\\0 & 0 & 0 & 0\\\\0 & 0 & 0 & 0\\\\0 & 0 & 0 & 0\\end{matrix}\\right] & \\left[\\begin{matrix}0 & 0 & 0 & 0\\\\0 & 0 & 0 & 0\\\\0 & 0 & 0 & 0\\\\0 & 0 & 0 & 0\\end{matrix}\\right] & \\left[\\begin{matrix}0 & 0 & 0 & 0\\\\0 & 0 & 0 & 0\\\\0 & 0 & 0 & 0\\\\0 & 0 & 0 & 0\\end{matrix}\\right]\\\\\\left[\\begin{matrix}0 & 0 & 0 & 0\\\\0 & 0 & 0 & 0\\\\0 & 0 & 0 & 0\\\\0 & 0 & 0 & 0\\end{matrix}\\right] & \\left[\\begin{matrix}0 & 0 & 0 & 0\\\\0 & 0 & 0 & 0\\\\0 & 0 & 0 & 0\\\\0 & 0 & 0 & 0\\end{matrix}\\right] & \\left[\\begin{matrix}0 & 0 & 2 u \\left(u \\left(\\frac{d}{d u} \\beta{\\left(u \\right)}\\right)^{2} - 2 u \\frac{d}{d u} \\beta{\\left(u \\right)} \\frac{d}{d u} \\phi{\\left(u \\right)} + u \\frac{d^{2}}{d u^{2}} \\beta{\\left(u \\right)} + 2 \\frac{d}{d u} \\beta{\\left(u \\right)} - 2 \\frac{d}{d u} \\phi{\\left(u \\right)}\\right) e^{2 \\beta{\\left(u \\right)} - 2 \\phi{\\left(u \\right)}} & 0\\\\0 & 0 & 0 & 0\\\\2 u \\left(- u \\left(\\frac{d}{d u} \\beta{\\left(u \\right)}\\right)^{2} + 2 u \\frac{d}{d u} \\beta{\\left(u \\right)} \\frac{d}{d u} \\phi{\\left(u \\right)} - u \\frac{d^{2}}{d u^{2}} \\beta{\\left(u \\right)} - 2 \\frac{d}{d u} \\beta{\\left(u \\right)} + 2 \\frac{d}{d u} \\phi{\\left(u \\right)}\\right) e^{2 \\beta{\\left(u \\right)} - 2 \\phi{\\left(u \\right)}} & 0 & 0 & 0\\\\0 & 0 & 0 & 0\\end{matrix}\\right] & \\left[\\begin{matrix}0 & 0 & 0 & 2 u \\left(u \\left(\\frac{d}{d u} \\beta{\\left(u \\right)}\\right)^{2} + 2 u \\frac{d}{d u} \\beta{\\left(u \\right)} \\frac{d}{d u} \\phi{\\left(u \\right)} - u \\frac{d^{2}}{d u^{2}} \\beta{\\left(u \\right)} - 2 \\frac{d}{d u} \\beta{\\left(u \\right)} - 2 \\frac{d}{d u} \\phi{\\left(u \\right)}\\right) e^{- 2 \\beta{\\left(u \\right)} - 2 \\phi{\\left(u \\right)}}\\\\0 & 0 & 0 & 0\\\\0 & 0 & 0 & 0\\\\2 u \\left(- u \\left(\\frac{d}{d u} \\beta{\\left(u \\right)}\\right)^{2} - 2 u \\frac{d}{d u} \\beta{\\left(u \\right)} \\frac{d}{d u} \\phi{\\left(u \\right)} + u \\frac{d^{2}}{d u^{2}} \\beta{\\left(u \\right)} + 2 \\frac{d}{d u} \\beta{\\left(u \\right)} + 2 \\frac{d}{d u} \\phi{\\left(u \\right)}\\right) e^{- 2 \\beta{\\left(u \\right)} - 2 \\phi{\\left(u \\right)}} & 0 & 0 & 0\\end{matrix}\\right]\\\\\\left[\\begin{matrix}0 & 0 & \\left(\\frac{d}{d u} \\beta{\\left(u \\right)}\\right)^{2} - 2 \\frac{d}{d u} \\beta{\\left(u \\right)} \\frac{d}{d u} \\phi{\\left(u \\right)} + \\frac{d^{2}}{d u^{2}} \\beta{\\left(u \\right)} + \\frac{2 \\frac{d}{d u} \\beta{\\left(u \\right)}}{u} - \\frac{2 \\frac{d}{d u} \\phi{\\left(u \\right)}}{u} & 0\\\\0 & 0 & 0 & 0\\\\- \\left(\\frac{d}{d u} \\beta{\\left(u \\right)}\\right)^{2} + 2 \\frac{d}{d u} \\beta{\\left(u \\right)} \\frac{d}{d u} \\phi{\\left(u \\right)} - \\frac{d^{2}}{d u^{2}} \\beta{\\left(u \\right)} - \\frac{2 \\frac{d}{d u} \\beta{\\left(u \\right)}}{u} + \\frac{2 \\frac{d}{d u} \\phi{\\left(u \\right)}}{u} & 0 & 0 & 0\\\\0 & 0 & 0 & 0\\end{matrix}\\right] & \\left[\\begin{matrix}0 & 0 & 0 & 0\\\\0 & 0 & 0 & 0\\\\0 & 0 & 0 & 0\\\\0 & 0 & 0 & 0\\end{matrix}\\right] & \\left[\\begin{matrix}0 & 0 & 0 & 0\\\\0 & 0 & 0 & 0\\\\0 & 0 & 0 & 0\\\\0 & 0 & 0 & 0\\end{matrix}\\right] & \\left[\\begin{matrix}0 & 0 & 0 & 0\\\\0 & 0 & 0 & 0\\\\0 & 0 & 0 & 0\\\\0 & 0 & 0 & 0\\end{matrix}\\right]\\\\\\left[\\begin{matrix}0 & 0 & 0 & \\left(\\frac{d}{d u} \\beta{\\left(u \\right)}\\right)^{2} + 2 \\frac{d}{d u} \\beta{\\left(u \\right)} \\frac{d}{d u} \\phi{\\left(u \\right)} - \\frac{d^{2}}{d u^{2}} \\beta{\\left(u \\right)} - \\frac{2 \\frac{d}{d u} \\beta{\\left(u \\right)}}{u} - \\frac{2 \\frac{d}{d u} \\phi{\\left(u \\right)}}{u}\\\\0 & 0 & 0 & 0\\\\0 & 0 & 0 & 0\\\\- \\left(\\frac{d}{d u} \\beta{\\left(u \\right)}\\right)^{2} - 2 \\frac{d}{d u} \\beta{\\left(u \\right)} \\frac{d}{d u} \\phi{\\left(u \\right)} + \\frac{d^{2}}{d u^{2}} \\beta{\\left(u \\right)} + \\frac{2 \\frac{d}{d u} \\beta{\\left(u \\right)}}{u} + \\frac{2 \\frac{d}{d u} \\phi{\\left(u \\right)}}{u} & 0 & 0 & 0\\end{matrix}\\right] & \\left[\\begin{matrix}0 & 0 & 0 & 0\\\\0 & 0 & 0 & 0\\\\0 & 0 & 0 & 0\\\\0 & 0 & 0 & 0\\end{matrix}\\right] & \\left[\\begin{matrix}0 & 0 & 0 & 0\\\\0 & 0 & 0 & 0\\\\0 & 0 & 0 & 0\\\\0 & 0 & 0 & 0\\end{matrix}\\right] & \\left[\\begin{matrix}0 & 0 & 0 & 0\\\\0 & 0 & 0 & 0\\\\0 & 0 & 0 & 0\\\\0 & 0 & 0 & 0\\end{matrix}\\right]\\end{matrix}\\right]$"
      ],
      "text/plain": [
       "⎡                                                                       ⎡0  0  0  0⎤        \n",
       "⎢                                                                       ⎢          ⎥        \n",
       "⎢                                                                       ⎢0  0  0  0⎥        \n",
       "⎢                                                                       ⎢          ⎥        \n",
       "⎢                                                                       ⎢0  0  0  0⎥        \n",
       "⎢                                                                       ⎢          ⎥        \n",
       "⎢                                                                       ⎣0  0  0  0⎦        \n",
       "⎢                                                                                           \n",
       "⎢                                                                                           \n",
       "⎢                                                                                           \n",
       "⎢                                                                                           \n",
       "⎢                                                                                           \n",
       "⎢                                                                       ⎡0  0  0  0⎤        \n",
       "⎢                                                                       ⎢          ⎥        \n",
       "⎢                                                                       ⎢0  0  0  0⎥        \n",
       "⎢                                                                       ⎢          ⎥        \n",
       "⎢                                                                       ⎢0  0  0  0⎥        \n",
       "⎢                                                                       ⎢          ⎥        \n",
       "⎢                                                                       ⎣0  0  0  0⎦        \n",
       "⎢                                                                                           \n",
       "⎢                                                                                           \n",
       "⎢                                                                                           \n",
       "⎢                                                                                           \n",
       "⎢                                                                                           \n",
       "⎢⎡                                                                                          \n",
       "⎢⎢                                                                                        2 \n",
       "⎢⎢                                                                              ⎛d       ⎞  \n",
       "⎢⎢                                    0                                      0  ⎜──(β(u))⎟  \n",
       "⎢⎢                                                                              ⎝du      ⎠  \n",
       "⎢⎢                                                                                          \n",
       "⎢⎢                                                                                          \n",
       "⎢⎢                                    0                                      0              \n",
       "⎢⎢                                                                                          \n",
       "⎢⎢                                                    d            d                        \n",
       "⎢⎢            2                           2         2⋅──(β(u))   2⋅──(φ(u))                 \n",
       "⎢⎢  ⎛d       ⎞      d        d           d            du           du                       \n",
       "⎢⎢- ⎜──(β(u))⎟  + 2⋅──(β(u))⋅──(φ(u)) - ───(β(u)) - ────────── + ──────────  0              \n",
       "⎢⎢  ⎝du      ⎠      du       du           2             u            u                      \n",
       "⎢⎢                                      du                                                  \n",
       "⎢⎢                                                                                          \n",
       "⎢⎣                                    0                                      0              \n",
       "⎢                                                                                           \n",
       "⎢⎡                                                                                          \n",
       "⎢⎢                                                                                          \n",
       "⎢⎢                                                                                 ⎛d       \n",
       "⎢⎢                                    0                                      0  0  ⎜──(β(u))\n",
       "⎢⎢                                                                                 ⎝du      \n",
       "⎢⎢                                                                                          \n",
       "⎢⎢                                                                                          \n",
       "⎢⎢                                    0                                      0  0           \n",
       "⎢⎢                                                                                          \n",
       "⎢⎢                                    0                                      0  0           \n",
       "⎢⎢                                                                                          \n",
       "⎢⎢                                                    d            d                        \n",
       "⎢⎢            2                           2         2⋅──(β(u))   2⋅──(φ(u))                 \n",
       "⎢⎢  ⎛d       ⎞      d        d           d            du           du                       \n",
       "⎢⎢- ⎜──(β(u))⎟  - 2⋅──(β(u))⋅──(φ(u)) + ───(β(u)) + ────────── + ──────────  0  0           \n",
       "⎢⎢  ⎝du      ⎠      du       du           2             u            u                      \n",
       "⎣⎣                                      du                                                  \n",
       "\n",
       "                                                                 ⎡0  0  0  0⎤               \n",
       "                                                                 ⎢          ⎥               \n",
       "                                                                 ⎢0  0  0  0⎥               \n",
       "                                                                 ⎢          ⎥               \n",
       "                                                                 ⎢0  0  0  0⎥               \n",
       "                                                                 ⎢          ⎥               \n",
       "                                                                 ⎣0  0  0  0⎦               \n",
       "                                                                                            \n",
       "                                                                               ⎡            \n",
       "                                                                               ⎢            \n",
       "                                                                               ⎢            \n",
       "                                                                               ⎢            \n",
       "                                                                 ⎡0  0  0  0⎤  ⎢            \n",
       "                                                                 ⎢          ⎥  ⎢            \n",
       "                                                                 ⎢0  0  0  0⎥  ⎢            \n",
       "                                                                 ⎢          ⎥  ⎢            \n",
       "                                                                 ⎢0  0  0  0⎥  ⎢    ⎛       \n",
       "                                                                 ⎢          ⎥  ⎢    ⎜    ⎛d \n",
       "                                                                 ⎣0  0  0  0⎦  ⎢2⋅u⋅⎜- u⋅⎜──\n",
       "                                                                               ⎢    ⎜    ⎝du\n",
       "                                                                               ⎢    ⎝       \n",
       "                                                                               ⎢            \n",
       "                                                                               ⎣            \n",
       "                                                                                            \n",
       "                                      d            d          ⎤                             \n",
       "                          2         2⋅──(β(u))   2⋅──(φ(u))   ⎥                             \n",
       "    d        d           d            du           du         ⎥                             \n",
       "- 2⋅──(β(u))⋅──(φ(u)) + ───(β(u)) + ────────── - ──────────  0⎥                             \n",
       "    du       du           2             u            u        ⎥                             \n",
       "                        du                                    ⎥  ⎡0  0  0  0⎤               \n",
       "                                                              ⎥  ⎢          ⎥               \n",
       "                       0                                     0⎥  ⎢0  0  0  0⎥               \n",
       "                                                              ⎥  ⎢          ⎥               \n",
       "                                                              ⎥  ⎢0  0  0  0⎥               \n",
       "                                                              ⎥  ⎢          ⎥               \n",
       "                                                              ⎥  ⎣0  0  0  0⎦               \n",
       "                       0                                     0⎥                             \n",
       "                                                              ⎥                             \n",
       "                                                              ⎥                             \n",
       "                                                              ⎥                             \n",
       "                       0                                     0⎦                             \n",
       "                                                                                            \n",
       "                                         d            d       ⎤                             \n",
       " 2                           2         2⋅──(β(u))   2⋅──(φ(u))⎥                             \n",
       "⎞      d        d           d            du           du      ⎥                             \n",
       "⎟  + 2⋅──(β(u))⋅──(φ(u)) - ───(β(u)) - ────────── - ──────────⎥                             \n",
       "⎠      du       du           2             u            u     ⎥                             \n",
       "                           du                                 ⎥  ⎡0  0  0  0⎤               \n",
       "                                                              ⎥  ⎢          ⎥               \n",
       "                          0                                   ⎥  ⎢0  0  0  0⎥               \n",
       "                                                              ⎥  ⎢          ⎥               \n",
       "                          0                                   ⎥  ⎢0  0  0  0⎥               \n",
       "                                                              ⎥  ⎢          ⎥               \n",
       "                                                              ⎥  ⎣0  0  0  0⎦               \n",
       "                                                              ⎥                             \n",
       "                                                              ⎥                             \n",
       "                          0                                   ⎥                             \n",
       "                                                              ⎥                             \n",
       "                                                              ⎦                             \n",
       "\n",
       "                                                                                       ⎡0  0\n",
       "                                                                                       ⎢    \n",
       "                                                                                       ⎢0  0\n",
       "                                                                                       ⎢    \n",
       "                                                                                       ⎢0  0\n",
       "                                                                                       ⎢    \n",
       "                                                                                       ⎣0  0\n",
       "                                                                                            \n",
       "                                                                                            \n",
       "                                                                                            \n",
       "                                      0                                                     \n",
       "                                                                                            \n",
       "                                                                                            \n",
       "                                                                                            \n",
       "                                      0                                                     \n",
       "                                                                                            \n",
       "       2                               2                                ⎞                   \n",
       "      ⎞        d        d             d            d            d       ⎟  2⋅β(u) - 2⋅φ(u)  \n",
       "(β(u))⎟  + 2⋅u⋅──(β(u))⋅──(φ(u)) - u⋅───(β(u)) - 2⋅──(β(u)) + 2⋅──(φ(u))⎟⋅ℯ                 \n",
       "      ⎠        du       du             2           du           du      ⎟                   \n",
       "                                     du                                 ⎠                   \n",
       "                                                                                            \n",
       "                                      0                                                     \n",
       "                                                                                            \n",
       "                                                                                            \n",
       "                                                                                            \n",
       "                                                                                            \n",
       "                                                                                            \n",
       "                                                                                            \n",
       "                                                                                       ⎡0  0\n",
       "                                                                                       ⎢    \n",
       "                                                                                       ⎢0  0\n",
       "                                                                                       ⎢    \n",
       "                                                                                       ⎢0  0\n",
       "                                                                                       ⎢    \n",
       "                                                                                       ⎣0  0\n",
       "                                                                                            \n",
       "                                                                                            \n",
       "                                                                                            \n",
       "                                                                                            \n",
       "                                                                                            \n",
       "                                                                                            \n",
       "                                                                                            \n",
       "                                                                                            \n",
       "                                                                                            \n",
       "                                                                                            \n",
       "                                                                                            \n",
       "                                                                                       ⎡0  0\n",
       "                                                                                       ⎢    \n",
       "                                                                                       ⎢0  0\n",
       "                                                                                       ⎢    \n",
       "                                                                                       ⎢0  0\n",
       "                                                                                       ⎢    \n",
       "                                                                                       ⎣0  0\n",
       "                                                                                            \n",
       "                                                                                            \n",
       "                                                                                            \n",
       "                                                                                            \n",
       "                                                                                            \n",
       "\n",
       "  0  0⎤                                                                                     \n",
       "      ⎥                                                                                     \n",
       "  0  0⎥                                                                                     \n",
       "      ⎥                                                                                     \n",
       "  0  0⎥                                                                                     \n",
       "      ⎥                                                                                     \n",
       "  0  0⎦                                                                                     \n",
       "                                                                                            \n",
       "       ⎛            2                               2                                ⎞      \n",
       "       ⎜  ⎛d       ⎞        d        d             d            d            d       ⎟  2⋅β(\n",
       "0  2⋅u⋅⎜u⋅⎜──(β(u))⎟  - 2⋅u⋅──(β(u))⋅──(φ(u)) + u⋅───(β(u)) + 2⋅──(β(u)) - 2⋅──(φ(u))⎟⋅ℯ    \n",
       "       ⎜  ⎝du      ⎠        du       du             2           du           du      ⎟      \n",
       "       ⎝                                          du                                 ⎠      \n",
       "                                                                                            \n",
       "0                                                   0                                       \n",
       "                                                                                            \n",
       "                                                                                            \n",
       "                                                                                            \n",
       "0                                                   0                                       \n",
       "                                                                                            \n",
       "                                                                                            \n",
       "                                                                                            \n",
       "0                                                   0                                       \n",
       "                                                                                            \n",
       "                                                                                            \n",
       "                                                                                            \n",
       "                                                                                            \n",
       "                                                                                            \n",
       "                                                                                            \n",
       "  0  0⎤                                                                                     \n",
       "      ⎥                                                                                     \n",
       "  0  0⎥                                                                                     \n",
       "      ⎥                                                                                     \n",
       "  0  0⎥                                                                                     \n",
       "      ⎥                                                                                     \n",
       "  0  0⎦                                                                                     \n",
       "                                                                                            \n",
       "                                                                                            \n",
       "                                                                                            \n",
       "                                                                                            \n",
       "                                                                                            \n",
       "                                                                                            \n",
       "                                                                                            \n",
       "                                                                                            \n",
       "                                                                                            \n",
       "                                                                                            \n",
       "                                                                                            \n",
       "  0  0⎤                                                                                     \n",
       "      ⎥                                                                                     \n",
       "  0  0⎥                                                                                     \n",
       "      ⎥                                                                                     \n",
       "  0  0⎥                                                                                     \n",
       "      ⎥                                                                                     \n",
       "  0  0⎦                                                                                     \n",
       "                                                                                            \n",
       "                                                                                            \n",
       "                                                                                            \n",
       "                                                                                            \n",
       "                                                                                            \n",
       "\n",
       "                                                                                            \n",
       "                                                                                            \n",
       "                                                                                            \n",
       "                                                                                            \n",
       "                                                                                            \n",
       "                                                                                            \n",
       "                                                                                            \n",
       "                                                                                            \n",
       "              ⎤  ⎡                                                                          \n",
       "u) - 2⋅φ(u)   ⎥  ⎢                                                                          \n",
       "             0⎥  ⎢                                                   0                      \n",
       "              ⎥  ⎢                                                                          \n",
       "              ⎥  ⎢                                                                          \n",
       "              ⎥  ⎢                                                                          \n",
       "             0⎥  ⎢                                                   0                      \n",
       "              ⎥  ⎢                                                                          \n",
       "              ⎥  ⎢                                                   0                      \n",
       "              ⎥  ⎢                                                                          \n",
       "             0⎥  ⎢    ⎛              2                               2                      \n",
       "              ⎥  ⎢    ⎜    ⎛d       ⎞        d        d             d            d          \n",
       "              ⎥  ⎢2⋅u⋅⎜- u⋅⎜──(β(u))⎟  - 2⋅u⋅──(β(u))⋅──(φ(u)) + u⋅───(β(u)) + 2⋅──(β(u)) + \n",
       "              ⎥  ⎢    ⎜    ⎝du      ⎠        du       du             2           du         \n",
       "             0⎦  ⎣    ⎝                                            du                       \n",
       "                                                                                            \n",
       "                                                                                            \n",
       "                                                                                            \n",
       "                                                                                            \n",
       "                                                                                            \n",
       "                                                                                            \n",
       "                                                                                            \n",
       "                                                                                            \n",
       "                                                                                            \n",
       "                                                                                            \n",
       "                                                                                            \n",
       "                                                                                            \n",
       "                                                                                            \n",
       "                                                                                            \n",
       "                                                                                            \n",
       "                                                                                            \n",
       "                                                                                            \n",
       "                                                                                            \n",
       "                                                                                            \n",
       "                                                                                            \n",
       "                                                                                            \n",
       "                                                                                            \n",
       "                                                                                            \n",
       "                                                                                            \n",
       "                                                                                            \n",
       "                                                                                            \n",
       "                                                                                            \n",
       "                                                                                            \n",
       "                                                                                            \n",
       "                                                                                            \n",
       "                                                                                            \n",
       "                                                                                            \n",
       "                                                                                            \n",
       "                                                                                            \n",
       "                                                                                            \n",
       "                                                                                            \n",
       "\n",
       "                          ⎡0  0  0  0⎤                                                      \n",
       "                          ⎢          ⎥                                                      \n",
       "                          ⎢0  0  0  0⎥                                                      \n",
       "                          ⎢          ⎥                                                      \n",
       "                          ⎢0  0  0  0⎥                                                      \n",
       "                          ⎢          ⎥                                                      \n",
       "                          ⎣0  0  0  0⎦                                                      \n",
       "                                                                                            \n",
       "                                         ⎛            2                               2     \n",
       "                                         ⎜  ⎛d       ⎞        d        d             d      \n",
       "                               0  0  2⋅u⋅⎜u⋅⎜──(β(u))⎟  + 2⋅u⋅──(β(u))⋅──(φ(u)) - u⋅───(β(u)\n",
       "                                         ⎜  ⎝du      ⎠        du       du             2     \n",
       "                                         ⎝                                          du      \n",
       "                                                                                            \n",
       "                               0  0                                                    0    \n",
       "                                                                                            \n",
       "                               0  0                                                    0    \n",
       "                                                                                            \n",
       "          ⎞                                                                                 \n",
       "  d       ⎟  -2⋅β(u) - 2⋅φ(u)                                                               \n",
       "2⋅──(φ(u))⎟⋅ℯ                  0  0                                                    0    \n",
       "  du      ⎟                                                                                 \n",
       "          ⎠                                                                                 \n",
       "                                                                                            \n",
       "                                                                                            \n",
       "                                                                                            \n",
       "                                                                                            \n",
       "                                                                                            \n",
       "                                                                                            \n",
       "                          ⎡0  0  0  0⎤                                                      \n",
       "                          ⎢          ⎥                                                      \n",
       "                          ⎢0  0  0  0⎥                                                      \n",
       "                          ⎢          ⎥                                                      \n",
       "                          ⎢0  0  0  0⎥                                                      \n",
       "                          ⎢          ⎥                                                      \n",
       "                          ⎣0  0  0  0⎦                                                      \n",
       "                                                                                            \n",
       "                                                                                            \n",
       "                                                                                            \n",
       "                                                                                            \n",
       "                                                                                            \n",
       "                                                                                            \n",
       "                                                                                            \n",
       "                                                                                            \n",
       "                                                                                            \n",
       "                                                                                            \n",
       "                                                                                            \n",
       "                          ⎡0  0  0  0⎤                                                      \n",
       "                          ⎢          ⎥                                                      \n",
       "                          ⎢0  0  0  0⎥                                                      \n",
       "                          ⎢          ⎥                                                      \n",
       "                          ⎢0  0  0  0⎥                                                      \n",
       "                          ⎢          ⎥                                                      \n",
       "                          ⎣0  0  0  0⎦                                                      \n",
       "                                                                                            \n",
       "                                                                                            \n",
       "                                                                                            \n",
       "                                                                                            \n",
       "                                                                                            \n",
       "\n",
       "                                               ⎤\n",
       "                                               ⎥\n",
       "                                               ⎥\n",
       "                                               ⎥\n",
       "                                               ⎥\n",
       "                                               ⎥\n",
       "                                               ⎥\n",
       "                                               ⎥\n",
       "                           ⎞                  ⎤⎥\n",
       "      d            d       ⎟  -2⋅β(u) - 2⋅φ(u)⎥⎥\n",
       ") - 2⋅──(β(u)) - 2⋅──(φ(u))⎟⋅ℯ                ⎥⎥\n",
       "      du           du      ⎟                  ⎥⎥\n",
       "                           ⎠                  ⎥⎥\n",
       "                                              ⎥⎥\n",
       "                                              ⎥⎥\n",
       "                                              ⎥⎥\n",
       "                                              ⎥⎥\n",
       "                                              ⎥⎥\n",
       "                                              ⎥⎥\n",
       "                                              ⎥⎥\n",
       "                                              ⎥⎥\n",
       "                                              ⎥⎥\n",
       "                                              ⎦⎥\n",
       "                                               ⎥\n",
       "                                               ⎥\n",
       "                                               ⎥\n",
       "                                               ⎥\n",
       "                                               ⎥\n",
       "                                               ⎥\n",
       "                                               ⎥\n",
       "                                               ⎥\n",
       "                                               ⎥\n",
       "                                               ⎥\n",
       "                                               ⎥\n",
       "                                               ⎥\n",
       "                                               ⎥\n",
       "                                               ⎥\n",
       "                                               ⎥\n",
       "                                               ⎥\n",
       "                                               ⎥\n",
       "                                               ⎥\n",
       "                                               ⎥\n",
       "                                               ⎥\n",
       "                                               ⎥\n",
       "                                               ⎥\n",
       "                                               ⎥\n",
       "                                               ⎥\n",
       "                                               ⎥\n",
       "                                               ⎥\n",
       "                                               ⎥\n",
       "                                               ⎥\n",
       "                                               ⎥\n",
       "                                               ⎥\n",
       "                                               ⎥\n",
       "                                               ⎥\n",
       "                                               ⎥\n",
       "                                               ⎥\n",
       "                                               ⎥\n",
       "                                               ⎦"
      ]
     },
     "execution_count": 35,
     "metadata": {},
     "output_type": "execute_result"
    }
   ],
   "source": [
    "rm1 = RiemannCurvatureTensor.from_christoffels(ch)\n",
    "rm1.tensor()"
   ]
  },
  {
   "cell_type": "code",
   "execution_count": 39,
   "id": "0ae761b0",
   "metadata": {},
   "outputs": [
    {
     "data": {
      "text/latex": [
       "$\\displaystyle \\left[\\begin{matrix}\\left[\\begin{matrix}0 & 0 & 0 & 0\\\\0 & 0 & 0 & 0\\\\0 & 0 & 0 & 0\\\\0 & 0 & 0 & 0\\end{matrix}\\right] & \\left[\\begin{matrix}0 & 0 & 0 & 0\\\\0 & 0 & 0 & 0\\\\0 & 0 & 0 & 0\\\\0 & 0 & 0 & 0\\end{matrix}\\right] & \\left[\\begin{matrix}0 & 0 & u \\left(- 2 u \\frac{d}{d u} \\beta{\\left(u \\right)} \\frac{d}{d u} \\phi{\\left(u \\right)} + u \\frac{d^{2}}{d u^{2}} \\beta{\\left(u \\right)} + 2 \\frac{d}{d u} \\beta{\\left(u \\right)}\\right) e^{2 \\beta{\\left(u \\right)}} & 0\\\\0 & 0 & 0 & 0\\\\u \\left(2 u \\frac{d}{d u} \\beta{\\left(u \\right)} \\frac{d}{d u} \\phi{\\left(u \\right)} - u \\frac{d^{2}}{d u^{2}} \\beta{\\left(u \\right)} - 2 \\frac{d}{d u} \\beta{\\left(u \\right)}\\right) e^{2 \\beta{\\left(u \\right)}} & 0 & 0 & 0\\\\0 & 0 & 0 & 0\\end{matrix}\\right] & \\left[\\begin{matrix}0 & 0 & 0 & u \\left(2 u \\frac{d}{d u} \\beta{\\left(u \\right)} \\frac{d}{d u} \\phi{\\left(u \\right)} - u \\frac{d^{2}}{d u^{2}} \\beta{\\left(u \\right)} - 2 \\frac{d}{d u} \\beta{\\left(u \\right)}\\right) e^{- 2 \\beta{\\left(u \\right)}}\\\\0 & 0 & 0 & 0\\\\0 & 0 & 0 & 0\\\\u \\left(- 2 u \\frac{d}{d u} \\beta{\\left(u \\right)} \\frac{d}{d u} \\phi{\\left(u \\right)} + u \\frac{d^{2}}{d u^{2}} \\beta{\\left(u \\right)} + 2 \\frac{d}{d u} \\beta{\\left(u \\right)}\\right) e^{- 2 \\beta{\\left(u \\right)}} & 0 & 0 & 0\\end{matrix}\\right]\\\\\\left[\\begin{matrix}0 & 0 & 0 & 0\\\\0 & 0 & 0 & 0\\\\0 & 0 & 0 & 0\\\\0 & 0 & 0 & 0\\end{matrix}\\right] & \\left[\\begin{matrix}0 & 0 & 0 & 0\\\\0 & 0 & 0 & 0\\\\0 & 0 & 0 & 0\\\\0 & 0 & 0 & 0\\end{matrix}\\right] & \\left[\\begin{matrix}0 & 0 & 0 & 0\\\\0 & 0 & 0 & 0\\\\0 & 0 & 0 & 0\\\\0 & 0 & 0 & 0\\end{matrix}\\right] & \\left[\\begin{matrix}0 & 0 & 0 & 0\\\\0 & 0 & 0 & 0\\\\0 & 0 & 0 & 0\\\\0 & 0 & 0 & 0\\end{matrix}\\right]\\\\\\left[\\begin{matrix}0 & 0 & u \\left(2 u \\frac{d}{d u} \\beta{\\left(u \\right)} \\frac{d}{d u} \\phi{\\left(u \\right)} - u \\frac{d^{2}}{d u^{2}} \\beta{\\left(u \\right)} - 2 \\frac{d}{d u} \\beta{\\left(u \\right)}\\right) e^{2 \\beta{\\left(u \\right)}} & 0\\\\0 & 0 & 0 & 0\\\\u \\left(- 2 u \\frac{d}{d u} \\beta{\\left(u \\right)} \\frac{d}{d u} \\phi{\\left(u \\right)} + u \\frac{d^{2}}{d u^{2}} \\beta{\\left(u \\right)} + 2 \\frac{d}{d u} \\beta{\\left(u \\right)}\\right) e^{2 \\beta{\\left(u \\right)}} & 0 & 0 & 0\\\\0 & 0 & 0 & 0\\end{matrix}\\right] & \\left[\\begin{matrix}0 & 0 & 0 & 0\\\\0 & 0 & 0 & 0\\\\0 & 0 & 0 & 0\\\\0 & 0 & 0 & 0\\end{matrix}\\right] & \\left[\\begin{matrix}0 & 0 & 0 & 0\\\\0 & 0 & 0 & 0\\\\0 & 0 & 0 & 0\\\\0 & 0 & 0 & 0\\end{matrix}\\right] & \\left[\\begin{matrix}0 & 0 & 0 & 0\\\\0 & 0 & 0 & 0\\\\0 & 0 & 0 & 0\\\\0 & 0 & 0 & 0\\end{matrix}\\right]\\\\\\left[\\begin{matrix}0 & 0 & 0 & u \\left(- 2 u \\frac{d}{d u} \\beta{\\left(u \\right)} \\frac{d}{d u} \\phi{\\left(u \\right)} + u \\frac{d^{2}}{d u^{2}} \\beta{\\left(u \\right)} + 2 \\frac{d}{d u} \\beta{\\left(u \\right)}\\right) e^{- 2 \\beta{\\left(u \\right)}}\\\\0 & 0 & 0 & 0\\\\0 & 0 & 0 & 0\\\\u \\left(2 u \\frac{d}{d u} \\beta{\\left(u \\right)} \\frac{d}{d u} \\phi{\\left(u \\right)} - u \\frac{d^{2}}{d u^{2}} \\beta{\\left(u \\right)} - 2 \\frac{d}{d u} \\beta{\\left(u \\right)}\\right) e^{- 2 \\beta{\\left(u \\right)}} & 0 & 0 & 0\\end{matrix}\\right] & \\left[\\begin{matrix}0 & 0 & 0 & 0\\\\0 & 0 & 0 & 0\\\\0 & 0 & 0 & 0\\\\0 & 0 & 0 & 0\\end{matrix}\\right] & \\left[\\begin{matrix}0 & 0 & 0 & 0\\\\0 & 0 & 0 & 0\\\\0 & 0 & 0 & 0\\\\0 & 0 & 0 & 0\\end{matrix}\\right] & \\left[\\begin{matrix}0 & 0 & 0 & 0\\\\0 & 0 & 0 & 0\\\\0 & 0 & 0 & 0\\\\0 & 0 & 0 & 0\\end{matrix}\\right]\\end{matrix}\\right]$"
      ],
      "text/plain": [
       "⎡                                                                                           \n",
       "⎢                                                                                           \n",
       "⎢                                                                                           \n",
       "⎢                                                                                           \n",
       "⎢                                                             ⎡0  0  0  0⎤                  \n",
       "⎢                                                             ⎢          ⎥                  \n",
       "⎢                                                             ⎢0  0  0  0⎥                  \n",
       "⎢                                                             ⎢          ⎥                  \n",
       "⎢                                                             ⎢0  0  0  0⎥                  \n",
       "⎢                                                             ⎢          ⎥                  \n",
       "⎢                                                             ⎣0  0  0  0⎦                  \n",
       "⎢                                                                                           \n",
       "⎢                                                                                           \n",
       "⎢                                                                                           \n",
       "⎢                                                                                           \n",
       "⎢                                                                                           \n",
       "⎢                                                             ⎡0  0  0  0⎤                  \n",
       "⎢                                                             ⎢          ⎥                  \n",
       "⎢                                                             ⎢0  0  0  0⎥                  \n",
       "⎢                                                             ⎢          ⎥                  \n",
       "⎢                                                             ⎢0  0  0  0⎥                  \n",
       "⎢                                                             ⎢          ⎥                  \n",
       "⎢                                                             ⎣0  0  0  0⎦                  \n",
       "⎢                                                                                           \n",
       "⎢ ⎡                                                                     ⎛                   \n",
       "⎢ ⎢                                                                     ⎜    d        d     \n",
       "⎢ ⎢                              0                                 0  u⋅⎜2⋅u⋅──(β(u))⋅──(φ(u\n",
       "⎢ ⎢                                                                     ⎜    du       du    \n",
       "⎢ ⎢                                                                     ⎝                   \n",
       "⎢ ⎢                                                                                         \n",
       "⎢ ⎢                              0                                 0                        \n",
       "⎢ ⎢                                                                                         \n",
       "⎢ ⎢  ⎛                              2                   ⎞                                   \n",
       "⎢ ⎢  ⎜      d        d             d            d       ⎟  2⋅β(u)                           \n",
       "⎢ ⎢u⋅⎜- 2⋅u⋅──(β(u))⋅──(φ(u)) + u⋅───(β(u)) + 2⋅──(β(u))⎟⋅ℯ        0                        \n",
       "⎢ ⎢  ⎜      du       du             2           du      ⎟                                   \n",
       "⎢ ⎢  ⎝                            du                    ⎠                                   \n",
       "⎢ ⎢                                                                                         \n",
       "⎢ ⎣                              0                                 0                        \n",
       "⎢                                                                                           \n",
       "⎢⎡                                                                       ⎛                  \n",
       "⎢⎢                                                                       ⎜      d        d  \n",
       "⎢⎢                              0                                0  0  u⋅⎜- 2⋅u⋅──(β(u))⋅──(\n",
       "⎢⎢                                                                       ⎜      du       du \n",
       "⎢⎢                                                                       ⎝                  \n",
       "⎢⎢                                                                                          \n",
       "⎢⎢                              0                                0  0                       \n",
       "⎢⎢                                                                                          \n",
       "⎢⎢                              0                                0  0                       \n",
       "⎢⎢                                                                                          \n",
       "⎢⎢  ⎛                            2                   ⎞                                      \n",
       "⎢⎢  ⎜    d        d             d            d       ⎟  -2⋅β(u)                             \n",
       "⎢⎢u⋅⎜2⋅u⋅──(β(u))⋅──(φ(u)) - u⋅───(β(u)) - 2⋅──(β(u))⎟⋅ℯ         0  0                       \n",
       "⎢⎢  ⎜    du       du             2           du      ⎟                                      \n",
       "⎣⎣  ⎝                          du                    ⎠                                      \n",
       "\n",
       "                                                           ⎡                                \n",
       "                                                           ⎢                                \n",
       "                                                           ⎢                             0  \n",
       "                                                           ⎢                                \n",
       "                                             ⎡0  0  0  0⎤  ⎢                                \n",
       "                                             ⎢          ⎥  ⎢                                \n",
       "                                             ⎢0  0  0  0⎥  ⎢                             0  \n",
       "                                             ⎢          ⎥  ⎢                                \n",
       "                                             ⎢0  0  0  0⎥  ⎢  ⎛                            2\n",
       "                                             ⎢          ⎥  ⎢  ⎜    d        d             d \n",
       "                                             ⎣0  0  0  0⎦  ⎢u⋅⎜2⋅u⋅──(β(u))⋅──(φ(u)) - u⋅───\n",
       "                                                           ⎢  ⎜    du       du             2\n",
       "                                                           ⎢  ⎝                          du \n",
       "                                                           ⎢                                \n",
       "                                                           ⎣                             0  \n",
       "                                                                                            \n",
       "                                             ⎡0  0  0  0⎤                                   \n",
       "                                             ⎢          ⎥                                   \n",
       "                                             ⎢0  0  0  0⎥                                   \n",
       "                                             ⎢          ⎥                                   \n",
       "                                             ⎢0  0  0  0⎥                                   \n",
       "                                             ⎢          ⎥                                   \n",
       "                                             ⎣0  0  0  0⎦                                   \n",
       "                                                                                            \n",
       "         2                   ⎞           ⎤                                                  \n",
       "        d            d       ⎟  2⋅β(u)   ⎥                                                  \n",
       ")) - u⋅───(β(u)) - 2⋅──(β(u))⎟⋅ℯ        0⎥                                                  \n",
       "         2           du      ⎟           ⎥                                                  \n",
       "       du                    ⎠           ⎥   ⎡0  0  0  0⎤                                   \n",
       "                                         ⎥   ⎢          ⎥                                   \n",
       "       0                                0⎥   ⎢0  0  0  0⎥                                   \n",
       "                                         ⎥   ⎢          ⎥                                   \n",
       "                                         ⎥   ⎢0  0  0  0⎥                                   \n",
       "                                         ⎥   ⎢          ⎥                                   \n",
       "       0                                0⎥   ⎣0  0  0  0⎦                                   \n",
       "                                         ⎥                                                  \n",
       "                                         ⎥                                                  \n",
       "                                         ⎥                                                  \n",
       "       0                                0⎦                                                  \n",
       "                                                                                            \n",
       "            2                   ⎞         ⎤                                                 \n",
       "           d            d       ⎟  -2⋅β(u)⎥                                                 \n",
       "φ(u)) + u⋅───(β(u)) + 2⋅──(β(u))⎟⋅ℯ       ⎥                                                 \n",
       "            2           du      ⎟         ⎥                                                 \n",
       "          du                    ⎠         ⎥  ⎡0  0  0  0⎤                                   \n",
       "                                          ⎥  ⎢          ⎥                                   \n",
       "          0                               ⎥  ⎢0  0  0  0⎥                                   \n",
       "                                          ⎥  ⎢          ⎥                                   \n",
       "          0                               ⎥  ⎢0  0  0  0⎥                                   \n",
       "                                          ⎥  ⎢          ⎥                                   \n",
       "                                          ⎥  ⎣0  0  0  0⎦                                   \n",
       "                                          ⎥                                                 \n",
       "          0                               ⎥                                                 \n",
       "                                          ⎥                                                 \n",
       "                                          ⎦                                                 \n",
       "\n",
       "                                   ⎛                              2                   ⎞     \n",
       "                                   ⎜      d        d             d            d       ⎟  2⋅β\n",
       "                              0  u⋅⎜- 2⋅u⋅──(β(u))⋅──(φ(u)) + u⋅───(β(u)) + 2⋅──(β(u))⎟⋅ℯ   \n",
       "                                   ⎜      du       du             2           du      ⎟     \n",
       "                                   ⎝                            du                    ⎠     \n",
       "                                                                                            \n",
       "                              0                                0                            \n",
       "                                                                                            \n",
       "                   ⎞                                                                        \n",
       "           d       ⎟  2⋅β(u)                                                                \n",
       "(β(u)) - 2⋅──(β(u))⎟⋅ℯ        0                                0                            \n",
       "           du      ⎟                                                                        \n",
       "                   ⎠                                                                        \n",
       "                                                                                            \n",
       "                              0                                0                            \n",
       "                                                                                            \n",
       "                           ⎡0  0  0  0⎤                                                     \n",
       "                           ⎢          ⎥                                                     \n",
       "                           ⎢0  0  0  0⎥                                                     \n",
       "                           ⎢          ⎥                                                     \n",
       "                           ⎢0  0  0  0⎥                                                     \n",
       "                           ⎢          ⎥                                                     \n",
       "                           ⎣0  0  0  0⎦                                                     \n",
       "                                                                                            \n",
       "                                                                                            \n",
       "                                                                                            \n",
       "                                                                                            \n",
       "                                                                                            \n",
       "                           ⎡0  0  0  0⎤                                                     \n",
       "                           ⎢          ⎥                                                     \n",
       "                           ⎢0  0  0  0⎥                                                     \n",
       "                           ⎢          ⎥                                                     \n",
       "                           ⎢0  0  0  0⎥                                                     \n",
       "                           ⎢          ⎥                                                     \n",
       "                           ⎣0  0  0  0⎦                                                     \n",
       "                                                                                            \n",
       "                                                                                            \n",
       "                                                                                            \n",
       "                                                                                            \n",
       "                                                                                            \n",
       "                                                                                            \n",
       "                                                                                            \n",
       "                                                                                            \n",
       "                                                                                            \n",
       "                           ⎡0  0  0  0⎤                                                     \n",
       "                           ⎢          ⎥                                                     \n",
       "                           ⎢0  0  0  0⎥                                                     \n",
       "                           ⎢          ⎥                                                     \n",
       "                           ⎢0  0  0  0⎥                                                     \n",
       "                           ⎢          ⎥                                                     \n",
       "                           ⎣0  0  0  0⎦                                                     \n",
       "                                                                                            \n",
       "                                                                                            \n",
       "                                                                                            \n",
       "                                                                                            \n",
       "\n",
       "      ⎤  ⎡                                                                         ⎛        \n",
       "(u)   ⎥  ⎢                                                                         ⎜    d   \n",
       "     0⎥  ⎢                               0                                 0  0  u⋅⎜2⋅u⋅──(β\n",
       "      ⎥  ⎢                                                                         ⎜    du  \n",
       "      ⎥  ⎢                                                                         ⎝        \n",
       "      ⎥  ⎢                                                                                  \n",
       "     0⎥  ⎢                               0                                 0  0             \n",
       "      ⎥  ⎢                                                                                  \n",
       "      ⎥  ⎢                               0                                 0  0             \n",
       "      ⎥  ⎢                                                                                  \n",
       "     0⎥  ⎢  ⎛                              2                   ⎞                            \n",
       "      ⎥  ⎢  ⎜      d        d             d            d       ⎟  -2⋅β(u)                   \n",
       "      ⎥  ⎢u⋅⎜- 2⋅u⋅──(β(u))⋅──(φ(u)) + u⋅───(β(u)) + 2⋅──(β(u))⎟⋅ℯ         0  0             \n",
       "      ⎥  ⎢  ⎜      du       du             2           du      ⎟                            \n",
       "     0⎦  ⎣  ⎝                            du                    ⎠                            \n",
       "                                                                                            \n",
       "                                                                      ⎡0  0  0  0⎤          \n",
       "                                                                      ⎢          ⎥          \n",
       "                                                                      ⎢0  0  0  0⎥          \n",
       "                                                                      ⎢          ⎥          \n",
       "                                                                      ⎢0  0  0  0⎥          \n",
       "                                                                      ⎢          ⎥          \n",
       "                                                                      ⎣0  0  0  0⎦          \n",
       "                                                                                            \n",
       "                                                                                            \n",
       "                                                                                            \n",
       "                                                                                            \n",
       "                                                                                            \n",
       "                                                                      ⎡0  0  0  0⎤          \n",
       "                                                                      ⎢          ⎥          \n",
       "                                                                      ⎢0  0  0  0⎥          \n",
       "                                                                      ⎢          ⎥          \n",
       "                                                                      ⎢0  0  0  0⎥          \n",
       "                                                                      ⎢          ⎥          \n",
       "                                                                      ⎣0  0  0  0⎦          \n",
       "                                                                                            \n",
       "                                                                                            \n",
       "                                                                                            \n",
       "                                                                                            \n",
       "                                                                                            \n",
       "                                                                                            \n",
       "                                                                                            \n",
       "                                                                                            \n",
       "                                                                                            \n",
       "                                                                      ⎡0  0  0  0⎤          \n",
       "                                                                      ⎢          ⎥          \n",
       "                                                                      ⎢0  0  0  0⎥          \n",
       "                                                                      ⎢          ⎥          \n",
       "                                                                      ⎢0  0  0  0⎥          \n",
       "                                                                      ⎢          ⎥          \n",
       "                                                                      ⎣0  0  0  0⎦          \n",
       "                                                                                            \n",
       "                                                                                            \n",
       "                                                                                            \n",
       "                                                                                            \n",
       "\n",
       "                    2                   ⎞         ⎤⎤\n",
       "     d             d            d       ⎟  -2⋅β(u)⎥⎥\n",
       "(u))⋅──(φ(u)) - u⋅───(β(u)) - 2⋅──(β(u))⎟⋅ℯ       ⎥⎥\n",
       "     du             2           du      ⎟         ⎥⎥\n",
       "                  du                    ⎠         ⎥⎥\n",
       "                                                  ⎥⎥\n",
       "                   0                              ⎥⎥\n",
       "                                                  ⎥⎥\n",
       "                   0                              ⎥⎥\n",
       "                                                  ⎥⎥\n",
       "                                                  ⎥⎥\n",
       "                                                  ⎥⎥\n",
       "                   0                              ⎥⎥\n",
       "                                                  ⎥⎥\n",
       "                                                  ⎦⎥\n",
       "                                                   ⎥\n",
       "                                                   ⎥\n",
       "                                                   ⎥\n",
       "                                                   ⎥\n",
       "                                                   ⎥\n",
       "                                                   ⎥\n",
       "                                                   ⎥\n",
       "                                                   ⎥\n",
       "                                                   ⎥\n",
       "                                                   ⎥\n",
       "                                                   ⎥\n",
       "                                                   ⎥\n",
       "                                                   ⎥\n",
       "                                                   ⎥\n",
       "                                                   ⎥\n",
       "                                                   ⎥\n",
       "                                                   ⎥\n",
       "                                                   ⎥\n",
       "                                                   ⎥\n",
       "                                                   ⎥\n",
       "                                                   ⎥\n",
       "                                                   ⎥\n",
       "                                                   ⎥\n",
       "                                                   ⎥\n",
       "                                                   ⎥\n",
       "                                                   ⎥\n",
       "                                                   ⎥\n",
       "                                                   ⎥\n",
       "                                                   ⎥\n",
       "                                                   ⎥\n",
       "                                                   ⎥\n",
       "                                                   ⎥\n",
       "                                                   ⎥\n",
       "                                                   ⎥\n",
       "                                                   ⎥\n",
       "                                                   ⎥\n",
       "                                                   ⎥\n",
       "                                                   ⎥\n",
       "                                                   ⎥\n",
       "                                                   ⎦"
      ]
     },
     "execution_count": 39,
     "metadata": {},
     "output_type": "execute_result"
    }
   ],
   "source": [
    "weyl = WeylTensor.from_metric(metric)\n",
    "simplify(weyl.tensor())"
   ]
  },
  {
   "cell_type": "code",
   "execution_count": 38,
   "id": "308a8bfe",
   "metadata": {},
   "outputs": [
    {
     "data": {
      "image/png": "[encoded data removed]",
      "text/latex": [
       "$\\displaystyle - 2 \\left(\\frac{d}{d u} \\beta{\\left(u \\right)}\\right)^{2} + \\frac{4 \\frac{d}{d u} \\phi{\\left(u \\right)}}{u}$"
      ],
      "text/plain": [
       "                    d       \n",
       "              2   4⋅──(φ(u))\n",
       "    ⎛d       ⎞      du      \n",
       "- 2⋅⎜──(β(u))⎟  + ──────────\n",
       "    ⎝du      ⎠        u     "
      ]
     },
     "execution_count": 38,
     "metadata": {},
     "output_type": "execute_result"
    }
   ],
   "source": [
    "Ric.tensor()[0,0]"
   ]
  },
  {
   "cell_type": "code",
   "execution_count": null,
   "id": "64738dfd",
   "metadata": {},
   "outputs": [],
   "source": []
  }
 ],
 "metadata": {
  "@webio": {
   "lastCommId": null,
   "lastKernelId": null
  },
  "kernelspec": {
   "display_name": "Python 3 (ipykernel)",
   "language": "python",
   "name": "python3"
  },
  "language_info": {
   "codemirror_mode": {
    "name": "ipython",
    "version": 3
   },
   "file_extension": ".py",
   "mimetype": "text/x-python",
   "name": "python",
   "nbconvert_exporter": "python",
   "pygments_lexer": "ipython3",
   "version": "3.8.8"
  }
 },
 "nbformat": 4,
 "nbformat_minor": 5
}
