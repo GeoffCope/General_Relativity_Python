{
 "cells": [
  {
   "cell_type": "markdown",
   "id": "bbfa47d7",
   "metadata": {},
   "source": [
    "# General Formula for the Momentum Imparted to Test Particles in Arbitrary Spacetimes by Qadir and Sharif\n",
    "##  Geoff Cope\n",
    "##  Univeristy of Utah\n",
    "##  𐐏𐐭𐑌𐐲𐑂𐐲𐑉𐑅𐐮𐐻𐐨 𐐲𐑂 𐐏𐐭𐐻𐐫\n",
    "##  January 24, 2022"
   ]
  },
  {
   "cell_type": "markdown",
   "id": "6d93dd72",
   "metadata": {},
   "source": [
    "https://arxiv.org/pdf/gr-qc/0701098.pdf"
   ]
  },
  {
   "cell_type": "code",
   "execution_count": 1,
   "id": "edf897be",
   "metadata": {},
   "outputs": [
    {
     "name": "stdout",
     "output_type": "stream",
     "text": [
      "IPython console for SymPy 1.9 (Python 3.8.8-64-bit) (ground types: gmpy)\n",
      "\n",
      "These commands were executed:\n",
      ">>> from __future__ import division\n",
      ">>> from sympy import *\n",
      ">>> x, y, z, t = symbols('x y z t')\n",
      ">>> k, m, n = symbols('k m n', integer=True)\n",
      ">>> f, g, h = symbols('f g h', cls=Function)\n",
      ">>> init_printing()\n",
      "\n",
      "Documentation can be found at https://docs.sympy.org/1.9/\n",
      "\n"
     ]
    }
   ],
   "source": [
    "from sympy import init_session\n",
    "init_session(use_latex=True)"
   ]
  },
  {
   "cell_type": "code",
   "execution_count": 2,
   "id": "f52ba746",
   "metadata": {},
   "outputs": [],
   "source": [
    "import warnings\n",
    "import matplotlib.cbook\n",
    "warnings.filterwarnings(\"ignore\",category=matplotlib.cbook.mplDeprecation)"
   ]
  },
  {
   "cell_type": "code",
   "execution_count": 3,
   "id": "b3c3e88f",
   "metadata": {},
   "outputs": [],
   "source": [
    "t,rho,phi,z,dt,drho,dphi,dz = symbols('t rho phi z dt drho dphi dz')"
   ]
  },
  {
   "cell_type": "code",
   "execution_count": 4,
   "id": "be3fab82",
   "metadata": {},
   "outputs": [
    {
     "data": {
      "image/png": "[encoded data removed]",
      "text/latex": [
       "$\\displaystyle \\gamma{\\left(t,\\rho \\right)}$"
      ],
      "text/plain": [
       "γ(t, ρ)"
      ]
     },
     "execution_count": 4,
     "metadata": {},
     "output_type": "execute_result"
    }
   ],
   "source": [
    "gamma = Function('gamma')(t,rho)\n",
    "gamma"
   ]
  },
  {
   "cell_type": "code",
   "execution_count": 5,
   "id": "20e04154",
   "metadata": {},
   "outputs": [
    {
     "data": {
      "image/png": "[encoded data removed]",
      "text/latex": [
       "$\\displaystyle \\psi{\\left(t,\\rho \\right)}$"
      ],
      "text/plain": [
       "ψ(t, ρ)"
      ]
     },
     "execution_count": 5,
     "metadata": {},
     "output_type": "execute_result"
    }
   ],
   "source": [
    "psi = Function('psi')(t,rho)\n",
    "psi"
   ]
  },
  {
   "cell_type": "code",
   "execution_count": 6,
   "id": "b7824426",
   "metadata": {},
   "outputs": [
    {
     "data": {
      "text/latex": [
       "$\\displaystyle \\left[\\begin{matrix}t\\\\\\rho\\\\\\phi\\\\z\\end{matrix}\\right]$"
      ],
      "text/plain": [
       "⎡t⎤\n",
       "⎢ ⎥\n",
       "⎢ρ⎥\n",
       "⎢ ⎥\n",
       "⎢φ⎥\n",
       "⎢ ⎥\n",
       "⎣z⎦"
      ]
     },
     "execution_count": 6,
     "metadata": {},
     "output_type": "execute_result"
    }
   ],
   "source": [
    "variables = Matrix([t,rho,phi,z])\n",
    "variables"
   ]
  },
  {
   "cell_type": "code",
   "execution_count": 7,
   "id": "1adf9f15",
   "metadata": {},
   "outputs": [
    {
     "data": {
      "text/latex": [
       "$\\displaystyle \\left[\\begin{matrix}dt\\\\drho\\\\dphi\\\\dz\\end{matrix}\\right]$"
      ],
      "text/plain": [
       "⎡ dt ⎤\n",
       "⎢    ⎥\n",
       "⎢drho⎥\n",
       "⎢    ⎥\n",
       "⎢dphi⎥\n",
       "⎢    ⎥\n",
       "⎣ dz ⎦"
      ]
     },
     "execution_count": 7,
     "metadata": {},
     "output_type": "execute_result"
    }
   ],
   "source": [
    "differentials = Matrix([dt,drho,dphi,dz])\n",
    "differentials "
   ]
  },
  {
   "cell_type": "code",
   "execution_count": 8,
   "id": "ec40aebe",
   "metadata": {},
   "outputs": [
    {
     "data": {
      "image/png": "[encoded data removed]",
      "text/latex": [
       "$\\displaystyle - dphi^{2} \\rho^{2} e^{- 2 \\psi{\\left(t,\\rho \\right)}} - drho^{2} e^{2 \\gamma{\\left(t,\\rho \\right)}} e^{- 2 \\psi{\\left(t,\\rho \\right)}} + dt^{2} e^{2 \\gamma{\\left(t,\\rho \\right)}} e^{- 2 \\psi{\\left(t,\\rho \\right)}} - dz^{2} e^{2 \\psi{\\left(t,\\rho \\right)}}$"
      ],
      "text/plain": [
       "      2  2  -2⋅ψ(t, ρ)       2  2⋅γ(t, ρ)  -2⋅ψ(t, ρ)     2  2⋅γ(t, ρ)  -2⋅ψ(t, ρ)     2  2⋅\n",
       "- dphi ⋅ρ ⋅ℯ           - drho ⋅ℯ         ⋅ℯ           + dt ⋅ℯ         ⋅ℯ           - dz ⋅ℯ  \n",
       "\n",
       "ψ(t, ρ)\n",
       "       "
      ]
     },
     "execution_count": 8,
     "metadata": {},
     "output_type": "execute_result"
    }
   ],
   "source": [
    "lineElement = expand( exp(2*(gamma-psi))*(dt**2 - drho**2) - exp(-2*psi)*rho**2*dphi**2 - exp(2*psi)*dz**2 ) \n",
    "lineElement"
   ]
  },
  {
   "cell_type": "code",
   "execution_count": 9,
   "id": "d3ce51c9",
   "metadata": {},
   "outputs": [
    {
     "data": {
      "text/latex": [
       "$\\displaystyle \\left[\\begin{matrix}e^{2 \\gamma{\\left(t,\\rho \\right)}} e^{- 2 \\psi{\\left(t,\\rho \\right)}} & 0 & 0 & 0\\\\0 & - e^{2 \\gamma{\\left(t,\\rho \\right)}} e^{- 2 \\psi{\\left(t,\\rho \\right)}} & 0 & 0\\\\0 & 0 & - \\rho^{2} e^{- 2 \\psi{\\left(t,\\rho \\right)}} & 0\\\\0 & 0 & 0 & - e^{2 \\psi{\\left(t,\\rho \\right)}}\\end{matrix}\\right]$"
      ],
      "text/plain": [
       "⎡ 2⋅γ(t, ρ)  -2⋅ψ(t, ρ)                                                       ⎤\n",
       "⎢ℯ         ⋅ℯ                       0                    0              0     ⎥\n",
       "⎢                                                                             ⎥\n",
       "⎢                          2⋅γ(t, ρ)  -2⋅ψ(t, ρ)                              ⎥\n",
       "⎢          0             -ℯ         ⋅ℯ                   0              0     ⎥\n",
       "⎢                                                                             ⎥\n",
       "⎢                                                   2  -2⋅ψ(t, ρ)             ⎥\n",
       "⎢          0                        0             -ρ ⋅ℯ                 0     ⎥\n",
       "⎢                                                                             ⎥\n",
       "⎢                                                                    2⋅ψ(t, ρ)⎥\n",
       "⎣          0                        0                    0         -ℯ         ⎦"
      ]
     },
     "execution_count": 9,
     "metadata": {},
     "output_type": "execute_result"
    }
   ],
   "source": [
    "g = zeros(4)\n",
    "\n",
    "for i in range(4):\n",
    "    for j in range(4):\n",
    "        if i == j:\n",
    "            g[i,j] = lineElement.coeff( differentials[i],2 ) \n",
    "        else:\n",
    "            g[i,j] = Rational(1,2)*lineElement.coeff( differentials[i]*differentials[j],1 )\n",
    "            \n",
    "g"
   ]
  },
  {
   "cell_type": "code",
   "execution_count": 10,
   "id": "3a537a41",
   "metadata": {},
   "outputs": [],
   "source": [
    "import sympy"
   ]
  },
  {
   "cell_type": "code",
   "execution_count": 11,
   "id": "e37b096b",
   "metadata": {},
   "outputs": [
    {
     "data": {
      "text/latex": [
       "$\\displaystyle \\left[\\begin{matrix}e^{2 \\gamma{\\left(t,\\rho \\right)}} e^{- 2 \\psi{\\left(t,\\rho \\right)}} & 0 & 0 & 0\\\\0 & - e^{2 \\gamma{\\left(t,\\rho \\right)}} e^{- 2 \\psi{\\left(t,\\rho \\right)}} & 0 & 0\\\\0 & 0 & - \\rho^{2} e^{- 2 \\psi{\\left(t,\\rho \\right)}} & 0\\\\0 & 0 & 0 & - e^{2 \\psi{\\left(t,\\rho \\right)}}\\end{matrix}\\right]$"
      ],
      "text/plain": [
       "⎡ 2⋅γ(t, ρ)  -2⋅ψ(t, ρ)                                                       ⎤\n",
       "⎢ℯ         ⋅ℯ                       0                    0              0     ⎥\n",
       "⎢                                                                             ⎥\n",
       "⎢                          2⋅γ(t, ρ)  -2⋅ψ(t, ρ)                              ⎥\n",
       "⎢          0             -ℯ         ⋅ℯ                   0              0     ⎥\n",
       "⎢                                                                             ⎥\n",
       "⎢                                                   2  -2⋅ψ(t, ρ)             ⎥\n",
       "⎢          0                        0             -ρ ⋅ℯ                 0     ⎥\n",
       "⎢                                                                             ⎥\n",
       "⎢                                                                    2⋅ψ(t, ρ)⎥\n",
       "⎣          0                        0                    0         -ℯ         ⎦"
      ]
     },
     "execution_count": 11,
     "metadata": {},
     "output_type": "execute_result"
    }
   ],
   "source": [
    "m = sympy.Array(g)\n",
    "m"
   ]
  },
  {
   "cell_type": "code",
   "execution_count": 12,
   "id": "24a8c66b",
   "metadata": {},
   "outputs": [],
   "source": [
    "from einsteinpy.symbolic import *"
   ]
  },
  {
   "cell_type": "code",
   "execution_count": 13,
   "id": "bb1c9a17",
   "metadata": {},
   "outputs": [],
   "source": [
    "syms = sympy.symbols(\"t rho phi z\")\n",
    "t,rho,phi,z = syms"
   ]
  },
  {
   "cell_type": "code",
   "execution_count": 14,
   "id": "d9270e86",
   "metadata": {},
   "outputs": [],
   "source": [
    "metric = MetricTensor(m,syms)"
   ]
  },
  {
   "cell_type": "code",
   "execution_count": 15,
   "id": "33d907c9",
   "metadata": {},
   "outputs": [
    {
     "data": {
      "text/latex": [
       "$\\displaystyle \\left[\\begin{matrix}\\left[\\begin{matrix}\\frac{\\partial}{\\partial t} \\gamma{\\left(t,\\rho \\right)} - \\frac{\\partial}{\\partial t} \\psi{\\left(t,\\rho \\right)} & \\frac{\\partial}{\\partial \\rho} \\gamma{\\left(t,\\rho \\right)} - \\frac{\\partial}{\\partial \\rho} \\psi{\\left(t,\\rho \\right)} & 0 & 0\\\\\\frac{\\partial}{\\partial \\rho} \\gamma{\\left(t,\\rho \\right)} - \\frac{\\partial}{\\partial \\rho} \\psi{\\left(t,\\rho \\right)} & \\frac{\\partial}{\\partial t} \\gamma{\\left(t,\\rho \\right)} - \\frac{\\partial}{\\partial t} \\psi{\\left(t,\\rho \\right)} & 0 & 0\\\\0 & 0 & - \\rho^{2} e^{- 2 \\gamma{\\left(t,\\rho \\right)}} \\frac{\\partial}{\\partial t} \\psi{\\left(t,\\rho \\right)} & 0\\\\0 & 0 & 0 & e^{- 2 \\gamma{\\left(t,\\rho \\right)} + 4 \\psi{\\left(t,\\rho \\right)}} \\frac{\\partial}{\\partial t} \\psi{\\left(t,\\rho \\right)}\\end{matrix}\\right] & \\left[\\begin{matrix}\\frac{\\partial}{\\partial \\rho} \\gamma{\\left(t,\\rho \\right)} - \\frac{\\partial}{\\partial \\rho} \\psi{\\left(t,\\rho \\right)} & \\frac{\\partial}{\\partial t} \\gamma{\\left(t,\\rho \\right)} - \\frac{\\partial}{\\partial t} \\psi{\\left(t,\\rho \\right)} & 0 & 0\\\\\\frac{\\partial}{\\partial t} \\gamma{\\left(t,\\rho \\right)} - \\frac{\\partial}{\\partial t} \\psi{\\left(t,\\rho \\right)} & \\frac{\\partial}{\\partial \\rho} \\gamma{\\left(t,\\rho \\right)} - \\frac{\\partial}{\\partial \\rho} \\psi{\\left(t,\\rho \\right)} & 0 & 0\\\\0 & 0 & \\rho \\left(\\rho \\frac{\\partial}{\\partial \\rho} \\psi{\\left(t,\\rho \\right)} - 1\\right) e^{- 2 \\gamma{\\left(t,\\rho \\right)}} & 0\\\\0 & 0 & 0 & - e^{- 2 \\gamma{\\left(t,\\rho \\right)} + 4 \\psi{\\left(t,\\rho \\right)}} \\frac{\\partial}{\\partial \\rho} \\psi{\\left(t,\\rho \\right)}\\end{matrix}\\right] & \\left[\\begin{matrix}0 & 0 & - \\frac{\\partial}{\\partial t} \\psi{\\left(t,\\rho \\right)} & 0\\\\0 & 0 & - \\frac{\\partial}{\\partial \\rho} \\psi{\\left(t,\\rho \\right)} + \\frac{1}{\\rho} & 0\\\\- \\frac{\\partial}{\\partial t} \\psi{\\left(t,\\rho \\right)} & - \\frac{\\partial}{\\partial \\rho} \\psi{\\left(t,\\rho \\right)} + \\frac{1}{\\rho} & 0 & 0\\\\0 & 0 & 0 & 0\\end{matrix}\\right] & \\left[\\begin{matrix}0 & 0 & 0 & \\frac{\\partial}{\\partial t} \\psi{\\left(t,\\rho \\right)}\\\\0 & 0 & 0 & \\frac{\\partial}{\\partial \\rho} \\psi{\\left(t,\\rho \\right)}\\\\0 & 0 & 0 & 0\\\\\\frac{\\partial}{\\partial t} \\psi{\\left(t,\\rho \\right)} & \\frac{\\partial}{\\partial \\rho} \\psi{\\left(t,\\rho \\right)} & 0 & 0\\end{matrix}\\right]\\end{matrix}\\right]$"
      ],
      "text/plain": [
       "⎡⎡∂             ∂            ∂             ∂                                                \n",
       "⎢⎢──(γ(t, ρ)) - ──(ψ(t, ρ))  ──(γ(t, ρ)) - ──(ψ(t, ρ))               0                      \n",
       "⎢⎢∂t            ∂t           ∂ρ            ∂ρ                                               \n",
       "⎢⎢                                                                                          \n",
       "⎢⎢∂             ∂            ∂             ∂                                                \n",
       "⎢⎢──(γ(t, ρ)) - ──(ψ(t, ρ))  ──(γ(t, ρ)) - ──(ψ(t, ρ))               0                      \n",
       "⎢⎢∂ρ            ∂ρ           ∂t            ∂t                                               \n",
       "⎢⎢                                                                                          \n",
       "⎢⎢                                                        2  -2⋅γ(t, ρ) ∂                   \n",
       "⎢⎢            0                          0              -ρ ⋅ℯ          ⋅──(ψ(t, ρ))         \n",
       "⎢⎢                                                                      ∂t                  \n",
       "⎢⎢                                                                                          \n",
       "⎢⎢                                                                                    -2⋅γ(t\n",
       "⎢⎢            0                          0                           0               ℯ      \n",
       "⎣⎣                                                                                          \n",
       "\n",
       "                            ⎤  ⎡∂             ∂            ∂             ∂                  \n",
       "          0                 ⎥  ⎢──(γ(t, ρ)) - ──(ψ(t, ρ))  ──(γ(t, ρ)) - ──(ψ(t, ρ))        \n",
       "                            ⎥  ⎢∂ρ            ∂ρ           ∂t            ∂t                 \n",
       "                            ⎥  ⎢                                                            \n",
       "                            ⎥  ⎢∂             ∂            ∂             ∂                  \n",
       "          0                 ⎥  ⎢──(γ(t, ρ)) - ──(ψ(t, ρ))  ──(γ(t, ρ)) - ──(ψ(t, ρ))        \n",
       "                            ⎥  ⎢∂t            ∂t           ∂ρ            ∂ρ                 \n",
       "                            ⎥  ⎢                                                            \n",
       "                            ⎥  ⎢                                                        ⎛  ∂\n",
       "          0                 ⎥  ⎢            0                          0              ρ⋅⎜ρ⋅─\n",
       "                            ⎥  ⎢                                                        ⎝  ∂\n",
       "                            ⎥  ⎢                                                            \n",
       ", ρ) + 4⋅ψ(t, ρ) ∂          ⎥  ⎢                                                            \n",
       "                ⋅──(ψ(t, ρ))⎥  ⎢            0                          0                    \n",
       "                 ∂t         ⎦  ⎣                                                            \n",
       "\n",
       "                                                                 ⎤                          \n",
       "          0                                   0                  ⎥  ⎡                       \n",
       "                                                                 ⎥  ⎢     0                0\n",
       "                                                                 ⎥  ⎢                       \n",
       "                                                                 ⎥  ⎢                       \n",
       "          0                                   0                  ⎥  ⎢                       \n",
       "                                                                 ⎥  ⎢     0                0\n",
       "                                                                 ⎥  ⎢                       \n",
       "              ⎞  -2⋅γ(t, ρ)                                      ⎥  ⎢                       \n",
       "─(ψ(t, ρ)) - 1⎟⋅ℯ                             0                  ⎥  ⎢ ∂              ∂      \n",
       "ρ             ⎠                                                  ⎥  ⎢-──(ψ(t, ρ))  - ──(ψ(t,\n",
       "                                                                 ⎥  ⎢ ∂t             ∂ρ     \n",
       "                               -2⋅γ(t, ρ) + 4⋅ψ(t, ρ) ∂          ⎥  ⎢                       \n",
       "          0                  -ℯ                      ⋅──(ψ(t, ρ))⎥  ⎣     0                0\n",
       "                                                      ∂ρ         ⎦                          \n",
       "\n",
       "                                                                           ⎤\n",
       "             ∂                ⎤  ⎡                             ∂          ⎤⎥\n",
       "            -──(ψ(t, ρ))     0⎥  ⎢     0            0       0  ──(ψ(t, ρ))⎥⎥\n",
       "             ∂t               ⎥  ⎢                             ∂t         ⎥⎥\n",
       "                              ⎥  ⎢                                        ⎥⎥\n",
       "            ∂             1   ⎥  ⎢                             ∂          ⎥⎥\n",
       "          - ──(ψ(t, ρ)) + ─  0⎥  ⎢     0            0       0  ──(ψ(t, ρ))⎥⎥\n",
       "            ∂ρ            ρ   ⎥  ⎢                             ∂ρ         ⎥⎥\n",
       "                              ⎥  ⎢                                        ⎥⎥\n",
       "       1                      ⎥  ⎢     0            0       0       0     ⎥⎥\n",
       " ρ)) + ─          0          0⎥  ⎢                                        ⎥⎥\n",
       "       ρ                      ⎥  ⎢∂            ∂                          ⎥⎥\n",
       "                              ⎥  ⎢──(ψ(t, ρ))  ──(ψ(t, ρ))  0       0     ⎥⎥\n",
       "                  0          0⎦  ⎣∂t           ∂ρ                         ⎦⎥\n",
       "                                                                           ⎦"
      ]
     },
     "execution_count": 15,
     "metadata": {},
     "output_type": "execute_result"
    }
   ],
   "source": [
    "ch = ChristoffelSymbols.from_metric(metric)\n",
    "simplify(ch.tensor())"
   ]
  },
  {
   "cell_type": "code",
   "execution_count": 16,
   "id": "01f55da3",
   "metadata": {},
   "outputs": [
    {
     "data": {
      "text/latex": [
       "$\\displaystyle \\left[\\begin{matrix}\\frac{\\rho \\left(\\frac{\\partial^{2}}{\\partial \\rho^{2}} \\gamma{\\left(t,\\rho \\right)} - \\frac{\\partial^{2}}{\\partial t^{2}} \\gamma{\\left(t,\\rho \\right)} - \\frac{\\partial^{2}}{\\partial \\rho^{2}} \\psi{\\left(t,\\rho \\right)} - 2 \\left(\\frac{\\partial}{\\partial t} \\psi{\\left(t,\\rho \\right)}\\right)^{2} + \\frac{\\partial^{2}}{\\partial t^{2}} \\psi{\\left(t,\\rho \\right)}\\right) + \\frac{\\partial}{\\partial \\rho} \\gamma{\\left(t,\\rho \\right)} - \\frac{\\partial}{\\partial \\rho} \\psi{\\left(t,\\rho \\right)}}{\\rho} & - 2 \\frac{\\partial}{\\partial \\rho} \\psi{\\left(t,\\rho \\right)} \\frac{\\partial}{\\partial t} \\psi{\\left(t,\\rho \\right)} + \\frac{\\frac{\\partial}{\\partial t} \\gamma{\\left(t,\\rho \\right)}}{\\rho} & 0 & 0\\\\- 2 \\frac{\\partial}{\\partial \\rho} \\psi{\\left(t,\\rho \\right)} \\frac{\\partial}{\\partial t} \\psi{\\left(t,\\rho \\right)} + \\frac{\\frac{\\partial}{\\partial t} \\gamma{\\left(t,\\rho \\right)}}{\\rho} & \\frac{\\rho \\left(- \\frac{\\partial^{2}}{\\partial \\rho^{2}} \\gamma{\\left(t,\\rho \\right)} + \\frac{\\partial^{2}}{\\partial t^{2}} \\gamma{\\left(t,\\rho \\right)} - 2 \\left(\\frac{\\partial}{\\partial \\rho} \\psi{\\left(t,\\rho \\right)}\\right)^{2} + \\frac{\\partial^{2}}{\\partial \\rho^{2}} \\psi{\\left(t,\\rho \\right)} - \\frac{\\partial^{2}}{\\partial t^{2}} \\psi{\\left(t,\\rho \\right)}\\right) + \\frac{\\partial}{\\partial \\rho} \\gamma{\\left(t,\\rho \\right)} + \\frac{\\partial}{\\partial \\rho} \\psi{\\left(t,\\rho \\right)}}{\\rho} & 0 & 0\\\\0 & 0 & \\rho \\left(\\rho \\frac{\\partial^{2}}{\\partial \\rho^{2}} \\psi{\\left(t,\\rho \\right)} - \\rho \\frac{\\partial^{2}}{\\partial t^{2}} \\psi{\\left(t,\\rho \\right)} + \\frac{\\partial}{\\partial \\rho} \\psi{\\left(t,\\rho \\right)}\\right) e^{- 2 \\gamma{\\left(t,\\rho \\right)}} & 0\\\\0 & 0 & 0 & \\frac{\\left(- \\rho \\frac{\\partial^{2}}{\\partial \\rho^{2}} \\psi{\\left(t,\\rho \\right)} + \\rho \\frac{\\partial^{2}}{\\partial t^{2}} \\psi{\\left(t,\\rho \\right)} - \\frac{\\partial}{\\partial \\rho} \\psi{\\left(t,\\rho \\right)}\\right) e^{- 2 \\gamma{\\left(t,\\rho \\right)} + 4 \\psi{\\left(t,\\rho \\right)}}}{\\rho}\\end{matrix}\\right]$"
      ],
      "text/plain": [
       "⎡  ⎛  2              2              2                           2     2         ⎞           \n",
       "⎢  ⎜ ∂              ∂              ∂               ⎛∂          ⎞     ∂          ⎟   ∂       \n",
       "⎢ρ⋅⎜───(γ(t, ρ)) - ───(γ(t, ρ)) - ───(ψ(t, ρ)) - 2⋅⎜──(ψ(t, ρ))⎟  + ───(ψ(t, ρ))⎟ + ──(γ(t, \n",
       "⎢  ⎜  2              2              2              ⎝∂t         ⎠      2         ⎟   ∂ρ      \n",
       "⎢  ⎝∂ρ             ∂t             ∂ρ                                ∂t          ⎠           \n",
       "⎢───────────────────────────────────────────────────────────────────────────────────────────\n",
       "⎢                                                     ρ                                     \n",
       "⎢                                                                                           \n",
       "⎢                                                                                           \n",
       "⎢                                                                                           \n",
       "⎢                                                               ∂                           \n",
       "⎢                                                               ──(γ(t, ρ))                 \n",
       "⎢                                     ∂           ∂             ∂t                          \n",
       "⎢                                 - 2⋅──(ψ(t, ρ))⋅──(ψ(t, ρ)) + ───────────                 \n",
       "⎢                                     ∂ρ          ∂t                 ρ                      \n",
       "⎢                                                                                           \n",
       "⎢                                                                                           \n",
       "⎢                                                                                           \n",
       "⎢                                                     0                                     \n",
       "⎢                                                                                           \n",
       "⎢                                                                                           \n",
       "⎢                                                                                           \n",
       "⎢                                                                                           \n",
       "⎢                                                                                           \n",
       "⎢                                                                                           \n",
       "⎢                                                                                           \n",
       "⎢                                                                                           \n",
       "⎢                                                     0                                     \n",
       "⎣                                                                                           \n",
       "\n",
       "                                                                                            \n",
       "      ∂                                                                                     \n",
       "ρ)) - ──(ψ(t, ρ))                                                                  ∂        \n",
       "      ∂ρ                                                                           ──(γ(t, ρ\n",
       "                                                         ∂           ∂             ∂t       \n",
       "─────────────────                                    - 2⋅──(ψ(t, ρ))⋅──(ψ(t, ρ)) + ─────────\n",
       "                                                         ∂ρ          ∂t                 ρ   \n",
       "                                                                                            \n",
       "                     ⎛    2              2                           2     2              2 \n",
       "                     ⎜   ∂              ∂               ⎛∂          ⎞     ∂              ∂  \n",
       "                   ρ⋅⎜- ───(γ(t, ρ)) + ───(γ(t, ρ)) - 2⋅⎜──(ψ(t, ρ))⎟  + ───(ψ(t, ρ)) - ───(\n",
       "                     ⎜    2              2              ⎝∂ρ         ⎠      2              2 \n",
       "                     ⎝  ∂ρ             ∂t                                ∂ρ             ∂t  \n",
       "                   ─────────────────────────────────────────────────────────────────────────\n",
       "                                                                         ρ                  \n",
       "                                                                                            \n",
       "                                                                                            \n",
       "                                                                                            \n",
       "                                                                         0                  \n",
       "                                                                                            \n",
       "                                                                                            \n",
       "                                                                                            \n",
       "                                                                                            \n",
       "                                                                                            \n",
       "                                                                                            \n",
       "                                                                                            \n",
       "                                                                                            \n",
       "                                                                         0                  \n",
       "                                                                                            \n",
       "\n",
       "                                                                                            \n",
       "                                                                                            \n",
       "                                                                                            \n",
       "))                                                                                          \n",
       "                                                                                            \n",
       "──                                                                   0                      \n",
       "                                                                                            \n",
       "                                                                                            \n",
       "        ⎞                                                                                   \n",
       "        ⎟   ∂             ∂                                                                 \n",
       "ψ(t, ρ))⎟ + ──(γ(t, ρ)) + ──(ψ(t, ρ))                                                       \n",
       "        ⎟   ∂ρ            ∂ρ                                                                \n",
       "        ⎠                                                                                   \n",
       "─────────────────────────────────────                                0                      \n",
       "                                                                                            \n",
       "                                                                                            \n",
       "                                         ⎛    2                2                       ⎞    \n",
       "                                         ⎜   ∂                ∂             ∂          ⎟  -2\n",
       "                                       ρ⋅⎜ρ⋅───(ψ(t, ρ)) - ρ⋅───(ψ(t, ρ)) + ──(ψ(t, ρ))⎟⋅ℯ  \n",
       "                                         ⎜    2                2            ∂ρ         ⎟    \n",
       "                                         ⎝  ∂ρ               ∂t                        ⎠    \n",
       "                                                                                            \n",
       "                                                                                            \n",
       "                                                                                            \n",
       "                                                                                            \n",
       "                                                                                            \n",
       "                                                                                            \n",
       "                                                                     0                      \n",
       "                                                                                            \n",
       "\n",
       "                                                                                   ⎤\n",
       "                                                                                   ⎥\n",
       "                                                                                   ⎥\n",
       "                                                                                   ⎥\n",
       "                                                                                   ⎥\n",
       "                                              0                                    ⎥\n",
       "                                                                                   ⎥\n",
       "                                                                                   ⎥\n",
       "                                                                                   ⎥\n",
       "                                                                                   ⎥\n",
       "                                                                                   ⎥\n",
       "                                                                                   ⎥\n",
       "                                                                                   ⎥\n",
       "                                              0                                    ⎥\n",
       "                                                                                   ⎥\n",
       "                                                                                   ⎥\n",
       "                                                                                   ⎥\n",
       "⋅γ(t, ρ)                                                                           ⎥\n",
       "                                              0                                    ⎥\n",
       "                                                                                   ⎥\n",
       "                                                                                   ⎥\n",
       "                                                                                   ⎥\n",
       "          ⎛      2                2                       ⎞                        ⎥\n",
       "          ⎜     ∂                ∂             ∂          ⎟  -2⋅γ(t, ρ) + 4⋅ψ(t, ρ)⎥\n",
       "          ⎜- ρ⋅───(ψ(t, ρ)) + ρ⋅───(ψ(t, ρ)) - ──(ψ(t, ρ))⎟⋅ℯ                      ⎥\n",
       "          ⎜      2                2            ∂ρ         ⎟                        ⎥\n",
       "          ⎝    ∂ρ               ∂t                        ⎠                        ⎥\n",
       "          ─────────────────────────────────────────────────────────────────────────⎥\n",
       "                                              ρ                                    ⎦"
      ]
     },
     "execution_count": 16,
     "metadata": {},
     "output_type": "execute_result"
    }
   ],
   "source": [
    "Ric = RicciTensor.from_metric(metric)\n",
    "Ric.tensor()"
   ]
  },
  {
   "cell_type": "code",
   "execution_count": 17,
   "id": "246871b1",
   "metadata": {},
   "outputs": [
    {
     "data": {
      "image/png": "[encoded data removed]",
      "text/latex": [
       "$\\displaystyle \\frac{2 \\left(\\rho \\frac{\\partial^{2}}{\\partial \\rho^{2}} \\gamma{\\left(t,\\rho \\right)} - \\rho \\frac{\\partial^{2}}{\\partial t^{2}} \\gamma{\\left(t,\\rho \\right)} + \\rho \\left(\\frac{\\partial}{\\partial \\rho} \\psi{\\left(t,\\rho \\right)}\\right)^{2} - \\rho \\frac{\\partial^{2}}{\\partial \\rho^{2}} \\psi{\\left(t,\\rho \\right)} - \\rho \\left(\\frac{\\partial}{\\partial t} \\psi{\\left(t,\\rho \\right)}\\right)^{2} + \\rho \\frac{\\partial^{2}}{\\partial t^{2}} \\psi{\\left(t,\\rho \\right)} - \\frac{\\partial}{\\partial \\rho} \\psi{\\left(t,\\rho \\right)}\\right) e^{- 2 \\gamma{\\left(t,\\rho \\right)} + 2 \\psi{\\left(t,\\rho \\right)}}}{\\rho}$"
      ],
      "text/plain": [
       "  ⎛    2                2                           2       2                           2   \n",
       "  ⎜   ∂                ∂               ⎛∂          ⎞       ∂               ⎛∂          ⎞    \n",
       "2⋅⎜ρ⋅───(γ(t, ρ)) - ρ⋅───(γ(t, ρ)) + ρ⋅⎜──(ψ(t, ρ))⎟  - ρ⋅───(ψ(t, ρ)) - ρ⋅⎜──(ψ(t, ρ))⎟  + \n",
       "  ⎜    2                2              ⎝∂ρ         ⎠        2              ⎝∂t         ⎠    \n",
       "  ⎝  ∂ρ               ∂t                                  ∂ρ                                \n",
       "────────────────────────────────────────────────────────────────────────────────────────────\n",
       "                                                                        ρ                   \n",
       "\n",
       "    2                       ⎞                        \n",
       "   ∂             ∂          ⎟  -2⋅γ(t, ρ) + 2⋅ψ(t, ρ)\n",
       "ρ⋅───(ψ(t, ρ)) - ──(ψ(t, ρ))⎟⋅ℯ                      \n",
       "    2            ∂ρ         ⎟                        \n",
       "  ∂t                        ⎠                        \n",
       "─────────────────────────────────────────────────────\n",
       "                                                     "
      ]
     },
     "execution_count": 17,
     "metadata": {},
     "output_type": "execute_result"
    }
   ],
   "source": [
    "R = RicciScalar.from_riccitensor(Ric)\n",
    "R.simplify()\n",
    "R.expr"
   ]
  },
  {
   "cell_type": "code",
   "execution_count": 18,
   "id": "623c7012",
   "metadata": {},
   "outputs": [
    {
     "data": {
      "text/latex": [
       "$\\displaystyle \\left[\\begin{matrix}\\frac{\\rho \\left(\\frac{\\partial^{2}}{\\partial \\rho^{2}} \\gamma{\\left(t,\\rho \\right)} - \\frac{\\partial^{2}}{\\partial t^{2}} \\gamma{\\left(t,\\rho \\right)} - \\frac{\\partial^{2}}{\\partial \\rho^{2}} \\psi{\\left(t,\\rho \\right)} - 2 \\left(\\frac{\\partial}{\\partial t} \\psi{\\left(t,\\rho \\right)}\\right)^{2} + \\frac{\\partial^{2}}{\\partial t^{2}} \\psi{\\left(t,\\rho \\right)}\\right) + \\frac{\\partial}{\\partial \\rho} \\gamma{\\left(t,\\rho \\right)} - \\frac{\\partial}{\\partial \\rho} \\psi{\\left(t,\\rho \\right)}}{\\rho} - \\frac{1.0 \\left(\\rho \\frac{\\partial^{2}}{\\partial \\rho^{2}} \\gamma{\\left(t,\\rho \\right)} - \\rho \\frac{\\partial^{2}}{\\partial t^{2}} \\gamma{\\left(t,\\rho \\right)} + \\rho \\left(\\frac{\\partial}{\\partial \\rho} \\psi{\\left(t,\\rho \\right)}\\right)^{2} - \\rho \\frac{\\partial^{2}}{\\partial \\rho^{2}} \\psi{\\left(t,\\rho \\right)} - \\rho \\left(\\frac{\\partial}{\\partial t} \\psi{\\left(t,\\rho \\right)}\\right)^{2} + \\rho \\frac{\\partial^{2}}{\\partial t^{2}} \\psi{\\left(t,\\rho \\right)} - \\frac{\\partial}{\\partial \\rho} \\psi{\\left(t,\\rho \\right)}\\right) e^{- 2 \\gamma{\\left(t,\\rho \\right)} + 2 \\psi{\\left(t,\\rho \\right)}} e^{2 \\gamma{\\left(t,\\rho \\right)}} e^{- 2 \\psi{\\left(t,\\rho \\right)}}}{\\rho} & - 2 \\frac{\\partial}{\\partial \\rho} \\psi{\\left(t,\\rho \\right)} \\frac{\\partial}{\\partial t} \\psi{\\left(t,\\rho \\right)} + \\frac{\\frac{\\partial}{\\partial t} \\gamma{\\left(t,\\rho \\right)}}{\\rho} & 0 & 0\\\\- 2 \\frac{\\partial}{\\partial \\rho} \\psi{\\left(t,\\rho \\right)} \\frac{\\partial}{\\partial t} \\psi{\\left(t,\\rho \\right)} + \\frac{\\frac{\\partial}{\\partial t} \\gamma{\\left(t,\\rho \\right)}}{\\rho} & \\frac{\\rho \\left(- \\frac{\\partial^{2}}{\\partial \\rho^{2}} \\gamma{\\left(t,\\rho \\right)} + \\frac{\\partial^{2}}{\\partial t^{2}} \\gamma{\\left(t,\\rho \\right)} - 2 \\left(\\frac{\\partial}{\\partial \\rho} \\psi{\\left(t,\\rho \\right)}\\right)^{2} + \\frac{\\partial^{2}}{\\partial \\rho^{2}} \\psi{\\left(t,\\rho \\right)} - \\frac{\\partial^{2}}{\\partial t^{2}} \\psi{\\left(t,\\rho \\right)}\\right) + \\frac{\\partial}{\\partial \\rho} \\gamma{\\left(t,\\rho \\right)} + \\frac{\\partial}{\\partial \\rho} \\psi{\\left(t,\\rho \\right)}}{\\rho} + \\frac{1.0 \\left(\\rho \\frac{\\partial^{2}}{\\partial \\rho^{2}} \\gamma{\\left(t,\\rho \\right)} - \\rho \\frac{\\partial^{2}}{\\partial t^{2}} \\gamma{\\left(t,\\rho \\right)} + \\rho \\left(\\frac{\\partial}{\\partial \\rho} \\psi{\\left(t,\\rho \\right)}\\right)^{2} - \\rho \\frac{\\partial^{2}}{\\partial \\rho^{2}} \\psi{\\left(t,\\rho \\right)} - \\rho \\left(\\frac{\\partial}{\\partial t} \\psi{\\left(t,\\rho \\right)}\\right)^{2} + \\rho \\frac{\\partial^{2}}{\\partial t^{2}} \\psi{\\left(t,\\rho \\right)} - \\frac{\\partial}{\\partial \\rho} \\psi{\\left(t,\\rho \\right)}\\right) e^{- 2 \\gamma{\\left(t,\\rho \\right)} + 2 \\psi{\\left(t,\\rho \\right)}} e^{2 \\gamma{\\left(t,\\rho \\right)}} e^{- 2 \\psi{\\left(t,\\rho \\right)}}}{\\rho} & 0 & 0\\\\0 & 0 & \\rho \\left(\\rho \\frac{\\partial^{2}}{\\partial \\rho^{2}} \\psi{\\left(t,\\rho \\right)} - \\rho \\frac{\\partial^{2}}{\\partial t^{2}} \\psi{\\left(t,\\rho \\right)} + \\frac{\\partial}{\\partial \\rho} \\psi{\\left(t,\\rho \\right)}\\right) e^{- 2 \\gamma{\\left(t,\\rho \\right)}} + 1.0 \\rho \\left(\\rho \\frac{\\partial^{2}}{\\partial \\rho^{2}} \\gamma{\\left(t,\\rho \\right)} - \\rho \\frac{\\partial^{2}}{\\partial t^{2}} \\gamma{\\left(t,\\rho \\right)} + \\rho \\left(\\frac{\\partial}{\\partial \\rho} \\psi{\\left(t,\\rho \\right)}\\right)^{2} - \\rho \\frac{\\partial^{2}}{\\partial \\rho^{2}} \\psi{\\left(t,\\rho \\right)} - \\rho \\left(\\frac{\\partial}{\\partial t} \\psi{\\left(t,\\rho \\right)}\\right)^{2} + \\rho \\frac{\\partial^{2}}{\\partial t^{2}} \\psi{\\left(t,\\rho \\right)} - \\frac{\\partial}{\\partial \\rho} \\psi{\\left(t,\\rho \\right)}\\right) e^{- 2 \\gamma{\\left(t,\\rho \\right)} + 2 \\psi{\\left(t,\\rho \\right)}} e^{- 2 \\psi{\\left(t,\\rho \\right)}} & 0\\\\0 & 0 & 0 & \\frac{\\left(- \\rho \\frac{\\partial^{2}}{\\partial \\rho^{2}} \\psi{\\left(t,\\rho \\right)} + \\rho \\frac{\\partial^{2}}{\\partial t^{2}} \\psi{\\left(t,\\rho \\right)} - \\frac{\\partial}{\\partial \\rho} \\psi{\\left(t,\\rho \\right)}\\right) e^{- 2 \\gamma{\\left(t,\\rho \\right)} + 4 \\psi{\\left(t,\\rho \\right)}}}{\\rho} + \\frac{1.0 \\left(\\rho \\frac{\\partial^{2}}{\\partial \\rho^{2}} \\gamma{\\left(t,\\rho \\right)} - \\rho \\frac{\\partial^{2}}{\\partial t^{2}} \\gamma{\\left(t,\\rho \\right)} + \\rho \\left(\\frac{\\partial}{\\partial \\rho} \\psi{\\left(t,\\rho \\right)}\\right)^{2} - \\rho \\frac{\\partial^{2}}{\\partial \\rho^{2}} \\psi{\\left(t,\\rho \\right)} - \\rho \\left(\\frac{\\partial}{\\partial t} \\psi{\\left(t,\\rho \\right)}\\right)^{2} + \\rho \\frac{\\partial^{2}}{\\partial t^{2}} \\psi{\\left(t,\\rho \\right)} - \\frac{\\partial}{\\partial \\rho} \\psi{\\left(t,\\rho \\right)}\\right) e^{- 2 \\gamma{\\left(t,\\rho \\right)} + 2 \\psi{\\left(t,\\rho \\right)}} e^{2 \\psi{\\left(t,\\rho \\right)}}}{\\rho}\\end{matrix}\\right]$"
      ],
      "text/plain": [
       "⎡  ⎛  2              2              2                           2     2         ⎞           \n",
       "⎢  ⎜ ∂              ∂              ∂               ⎛∂          ⎞     ∂          ⎟   ∂       \n",
       "⎢ρ⋅⎜───(γ(t, ρ)) - ───(γ(t, ρ)) - ───(ψ(t, ρ)) - 2⋅⎜──(ψ(t, ρ))⎟  + ───(ψ(t, ρ))⎟ + ──(γ(t, \n",
       "⎢  ⎜  2              2              2              ⎝∂t         ⎠      2         ⎟   ∂ρ      \n",
       "⎢  ⎝∂ρ             ∂t             ∂ρ                                ∂t          ⎠           \n",
       "⎢───────────────────────────────────────────────────────────────────────────────────────────\n",
       "⎢                                                     ρ                                     \n",
       "⎢                                                                                           \n",
       "⎢                                                                                           \n",
       "⎢                                                                                           \n",
       "⎢                                                                                           \n",
       "⎢                                                                                           \n",
       "⎢                                                                                           \n",
       "⎢                                                                                           \n",
       "⎢                                                                                           \n",
       "⎢                                                                                           \n",
       "⎢                                                                                           \n",
       "⎢                                                                                           \n",
       "⎢                                                                                           \n",
       "⎢                                                                                           \n",
       "⎢                                                                                           \n",
       "⎢                                                                                           \n",
       "⎢                                                                                           \n",
       "⎢                                                                                           \n",
       "⎢                                                                                           \n",
       "⎢                                                                                           \n",
       "⎢                                                                                           \n",
       "⎢                                                                                           \n",
       "⎣                                                                                           \n",
       "\n",
       "                    ⎛    2                2                           2       2             \n",
       "      ∂             ⎜   ∂                ∂               ⎛∂          ⎞       ∂              \n",
       "ρ)) - ──(ψ(t, ρ))   ⎜ρ⋅───(γ(t, ρ)) - ρ⋅───(γ(t, ρ)) + ρ⋅⎜──(ψ(t, ρ))⎟  - ρ⋅───(ψ(t, ρ)) - ρ\n",
       "      ∂ρ            ⎜    2                2              ⎝∂ρ         ⎠        2             \n",
       "                    ⎝  ∂ρ               ∂t                                  ∂ρ              \n",
       "───────────────── - ────────────────────────────────────────────────────────────────────────\n",
       "                                                                                            \n",
       "                                                                                            \n",
       "                                                                                            \n",
       "                                                                                            \n",
       "                                                         ∂                                  \n",
       "                                                         ──(γ(t, ρ))                        \n",
       "                               ∂           ∂             ∂t                                 \n",
       "                           - 2⋅──(ψ(t, ρ))⋅──(ψ(t, ρ)) + ───────────                        \n",
       "                               ∂ρ          ∂t                 ρ                             \n",
       "                                                                                            \n",
       "                                                                                            \n",
       "                                                                                            \n",
       "                                               0                                            \n",
       "                                                                                            \n",
       "                                                                                            \n",
       "                                                                                            \n",
       "                                                                                            \n",
       "                                                                                            \n",
       "                                                                                            \n",
       "                                                                                            \n",
       "                                                                                            \n",
       "                                               0                                            \n",
       "                                                                                            \n",
       "\n",
       "              2       2                       ⎞                                             \n",
       " ⎛∂          ⎞       ∂             ∂          ⎟  -2⋅γ(t, ρ) + 2⋅ψ(t, ρ)  2⋅γ(t, ρ)  -2⋅ψ(t, \n",
       "⋅⎜──(ψ(t, ρ))⎟  + ρ⋅───(ψ(t, ρ)) - ──(ψ(t, ρ))⎟⋅ℯ                      ⋅ℯ         ⋅ℯ        \n",
       " ⎝∂t         ⎠        2            ∂ρ         ⎟                                             \n",
       "                    ∂t                        ⎠                                             \n",
       "────────────────────────────────────────────────────────────────────────────────────────────\n",
       "          ρ                                                                                 \n",
       "                                                                                            \n",
       "                                                                                            \n",
       "                                                                                            \n",
       "                                                                                            \n",
       "                                                                                            \n",
       "                                                                                            \n",
       "                                                                                            \n",
       "                                                                                            \n",
       "                                                                                            \n",
       "                                                                                            \n",
       "                                                                                            \n",
       "                                                                                            \n",
       "                                                                                            \n",
       "                                                                                            \n",
       "                                                                                            \n",
       "                                                                                            \n",
       "                                                                                            \n",
       "                                                                                            \n",
       "                                                                                            \n",
       "                                                                                            \n",
       "                                                                                            \n",
       "                                                                                            \n",
       "\n",
       "                                                                                            \n",
       "ρ)                                                                                          \n",
       "                                                                                            \n",
       "                                                                                            \n",
       "                                                                                            \n",
       "──                                                                                          \n",
       "                                                                                            \n",
       "                                                                                            \n",
       "      ⎛    2              2                           2     2              2         ⎞      \n",
       "      ⎜   ∂              ∂               ⎛∂          ⎞     ∂              ∂          ⎟   ∂  \n",
       "    ρ⋅⎜- ───(γ(t, ρ)) + ───(γ(t, ρ)) - 2⋅⎜──(ψ(t, ρ))⎟  + ───(ψ(t, ρ)) - ───(ψ(t, ρ))⎟ + ──(\n",
       "      ⎜    2              2              ⎝∂ρ         ⎠      2              2         ⎟   ∂ρ \n",
       "      ⎝  ∂ρ             ∂t                                ∂ρ             ∂t          ⎠      \n",
       "    ────────────────────────────────────────────────────────────────────────────────────────\n",
       "                                                          ρ                                 \n",
       "                                                                                            \n",
       "                                                                                            \n",
       "                                                                                            \n",
       "                                                                                            \n",
       "                                                                                            \n",
       "                                                                                            \n",
       "                                                                                            \n",
       "                                                                                            \n",
       "                                                                                            \n",
       "                                                                                            \n",
       "                                                                                            \n",
       "                                                                                            \n",
       "                                                                                            \n",
       "                                                                                            \n",
       "\n",
       "                                                                                            \n",
       "                                                                                            \n",
       "                                                               ∂                            \n",
       "                                                               ──(γ(t, ρ))                  \n",
       "                                     ∂           ∂             ∂t                           \n",
       "                                 - 2⋅──(ψ(t, ρ))⋅──(ψ(t, ρ)) + ───────────                  \n",
       "                                     ∂ρ          ∂t                 ρ                       \n",
       "                                                                                            \n",
       "                             ⎛    2                2                           2       2    \n",
       "           ∂                 ⎜   ∂                ∂               ⎛∂          ⎞       ∂     \n",
       "γ(t, ρ)) + ──(ψ(t, ρ))   1.0⋅⎜ρ⋅───(γ(t, ρ)) - ρ⋅───(γ(t, ρ)) + ρ⋅⎜──(ψ(t, ρ))⎟  - ρ⋅───(ψ(t\n",
       "           ∂ρ                ⎜    2                2              ⎝∂ρ         ⎠        2    \n",
       "                             ⎝  ∂ρ               ∂t                                  ∂ρ     \n",
       "────────────────────── + ───────────────────────────────────────────────────────────────────\n",
       "                                                                                            \n",
       "                                                                                            \n",
       "                                                                                            \n",
       "                                                                                            \n",
       "                                                     0                                      \n",
       "                                                                                            \n",
       "                                                                                            \n",
       "                                                                                            \n",
       "                                                                                            \n",
       "                                                                                            \n",
       "                                                                                            \n",
       "                                                                                            \n",
       "                                                                                            \n",
       "                                                     0                                      \n",
       "                                                                                            \n",
       "\n",
       "                                                                                            \n",
       "                                                                                            \n",
       "                                                                                            \n",
       "                                                                                            \n",
       "                                                                                            \n",
       "                                                                                            \n",
       "                                                                                            \n",
       "                                                                                            \n",
       "                       2       2                       ⎞                                    \n",
       "          ⎛∂          ⎞       ∂             ∂          ⎟  -2⋅γ(t, ρ) + 2⋅ψ(t, ρ)  2⋅γ(t, ρ) \n",
       ", ρ)) - ρ⋅⎜──(ψ(t, ρ))⎟  + ρ⋅───(ψ(t, ρ)) - ──(ψ(t, ρ))⎟⋅ℯ                      ⋅ℯ         ⋅\n",
       "          ⎝∂t         ⎠        2            ∂ρ         ⎟                                    \n",
       "                             ∂t                        ⎠                                    \n",
       "────────────────────────────────────────────────────────────────────────────────────────────\n",
       "                 ρ                                                                          \n",
       "                                                                                            \n",
       "                                                                                            \n",
       "                                                                                            \n",
       "                                                                                            \n",
       "                                                                                            \n",
       "                                                                                            \n",
       "                                                                                            \n",
       "                                                                                            \n",
       "                                                                                            \n",
       "                                                                                            \n",
       "                                                                                            \n",
       "                                                                                            \n",
       "                                                                                            \n",
       "                                                                                            \n",
       "\n",
       "                                                                                            \n",
       "                                                                                            \n",
       "                                                                                            \n",
       "                                                                                            \n",
       "                                                                                            \n",
       "                                                                                            \n",
       "                                                                                            \n",
       "                                                                                            \n",
       "                                                                                            \n",
       " -2⋅ψ(t, ρ)                                                                                 \n",
       "ℯ                                                                                           \n",
       "                                                                                            \n",
       "                                                                                            \n",
       "───────────                                                                                 \n",
       "                                                                                            \n",
       "                                                                                            \n",
       "               ⎛    2                2                       ⎞                     ⎛    2   \n",
       "               ⎜   ∂                ∂             ∂          ⎟  -2⋅γ(t, ρ)         ⎜   ∂    \n",
       "             ρ⋅⎜ρ⋅───(ψ(t, ρ)) - ρ⋅───(ψ(t, ρ)) + ──(ψ(t, ρ))⎟⋅ℯ           + 1.0⋅ρ⋅⎜ρ⋅───(γ(\n",
       "               ⎜    2                2            ∂ρ         ⎟                     ⎜    2   \n",
       "               ⎝  ∂ρ               ∂t                        ⎠                     ⎝  ∂ρ    \n",
       "                                                                                            \n",
       "                                                                                            \n",
       "                                                                                            \n",
       "                                                                                            \n",
       "                                                                                            \n",
       "                                                                                            \n",
       "                                                                                            \n",
       "                                                                                            \n",
       "\n",
       "                                                                                            \n",
       "                                                                                            \n",
       "                                                                                            \n",
       "                                                                                            \n",
       "                                                                                            \n",
       "                                 0                                                          \n",
       "                                                                                            \n",
       "                                                                                            \n",
       "                                                                                            \n",
       "                                                                                            \n",
       "                                                                                            \n",
       "                                                                                            \n",
       "                                                                                            \n",
       "                                 0                                                          \n",
       "                                                                                            \n",
       "                                                                                            \n",
       "             2                           2       2                           2       2      \n",
       "            ∂               ⎛∂          ⎞       ∂               ⎛∂          ⎞       ∂       \n",
       "t, ρ)) - ρ⋅───(γ(t, ρ)) + ρ⋅⎜──(ψ(t, ρ))⎟  - ρ⋅───(ψ(t, ρ)) - ρ⋅⎜──(ψ(t, ρ))⎟  + ρ⋅───(ψ(t, \n",
       "             2              ⎝∂ρ         ⎠        2              ⎝∂t         ⎠        2      \n",
       "           ∂t                                  ∂ρ                                  ∂t       \n",
       "                                                                                            \n",
       "                                                                                            \n",
       "                                                                                            \n",
       "                                                                                            \n",
       "                                                                                            \n",
       "                                                                                            \n",
       "                                 0                                                          \n",
       "                                                                                            \n",
       "\n",
       "                                                                                            \n",
       "                                                                                            \n",
       "                                                                                            \n",
       "                                                                                            \n",
       "                                                                                            \n",
       "                                                                                            \n",
       "                                                                                            \n",
       "                                                                                            \n",
       "                                                                                            \n",
       "                                                                                            \n",
       "                                                                                            \n",
       "                                                                                            \n",
       "                                                                                            \n",
       "                                                                                            \n",
       "                                                                                            \n",
       "                                                                                            \n",
       "                 ⎞                                                                          \n",
       "      ∂          ⎟  -2⋅γ(t, ρ) + 2⋅ψ(t, ρ)  -2⋅ψ(t, ρ)                                      \n",
       "ρ)) - ──(ψ(t, ρ))⎟⋅ℯ                      ⋅ℯ                                                \n",
       "      ∂ρ         ⎟                                                                          \n",
       "                 ⎠                                                                          \n",
       "                                                                                            \n",
       "                                                        ⎛      2                2           \n",
       "                                                        ⎜     ∂                ∂            \n",
       "                                                        ⎜- ρ⋅───(ψ(t, ρ)) + ρ⋅───(ψ(t, ρ)) -\n",
       "                                                        ⎜      2                2           \n",
       "                                                        ⎝    ∂ρ               ∂t            \n",
       "                                                        ────────────────────────────────────\n",
       "                                                                                            \n",
       "\n",
       "                                                                                            \n",
       "                                                                                            \n",
       "                                                                                            \n",
       "                                                                                            \n",
       "                                                                                            \n",
       "                                                                                0           \n",
       "                                                                                            \n",
       "                                                                                            \n",
       "                                                                                            \n",
       "                                                                                            \n",
       "                                                                                            \n",
       "                                                                                            \n",
       "                                                                                            \n",
       "                                                                                0           \n",
       "                                                                                            \n",
       "                                                                                            \n",
       "                                                                                            \n",
       "                                                                                            \n",
       "                                                                                0           \n",
       "                                                                                            \n",
       "                                                                                            \n",
       "                                                                                            \n",
       "            ⎞                               ⎛    2                2                         \n",
       " ∂          ⎟  -2⋅γ(t, ρ) + 4⋅ψ(t, ρ)       ⎜   ∂                ∂               ⎛∂         \n",
       " ──(ψ(t, ρ))⎟⋅ℯ                         1.0⋅⎜ρ⋅───(γ(t, ρ)) - ρ⋅───(γ(t, ρ)) + ρ⋅⎜──(ψ(t, ρ)\n",
       " ∂ρ         ⎟                               ⎜    2                2              ⎝∂ρ        \n",
       "            ⎠                               ⎝  ∂ρ               ∂t                          \n",
       "───────────────────────────────────── + ────────────────────────────────────────────────────\n",
       "ρ                                                                                           \n",
       "\n",
       "                                                                                            \n",
       "                                                                                            \n",
       "                                                                                            \n",
       "                                                                                            \n",
       "                                                                                            \n",
       "                                                                                            \n",
       "                                                                                            \n",
       "                                                                                            \n",
       "                                                                                            \n",
       "                                                                                            \n",
       "                                                                                            \n",
       "                                                                                            \n",
       "                                                                                            \n",
       "                                                                                            \n",
       "                                                                                            \n",
       "                                                                                            \n",
       "                                                                                            \n",
       "                                                                                            \n",
       "                                                                                            \n",
       "                                                                                            \n",
       "                                                                                            \n",
       "                                                                                            \n",
       "  2       2                           2       2                       ⎞                     \n",
       " ⎞       ∂               ⎛∂          ⎞       ∂             ∂          ⎟  -2⋅γ(t, ρ) + 2⋅ψ(t,\n",
       ")⎟  - ρ⋅───(ψ(t, ρ)) - ρ⋅⎜──(ψ(t, ρ))⎟  + ρ⋅───(ψ(t, ρ)) - ──(ψ(t, ρ))⎟⋅ℯ                   \n",
       " ⎠        2              ⎝∂t         ⎠        2            ∂ρ         ⎟                     \n",
       "        ∂ρ                                  ∂t                        ⎠                     \n",
       "────────────────────────────────────────────────────────────────────────────────────────────\n",
       "                          ρ                                                                 \n",
       "\n",
       "              ⎤\n",
       "              ⎥\n",
       "              ⎥\n",
       "              ⎥\n",
       "              ⎥\n",
       "              ⎥\n",
       "              ⎥\n",
       "              ⎥\n",
       "              ⎥\n",
       "              ⎥\n",
       "              ⎥\n",
       "              ⎥\n",
       "              ⎥\n",
       "              ⎥\n",
       "              ⎥\n",
       "              ⎥\n",
       "              ⎥\n",
       "              ⎥\n",
       "              ⎥\n",
       "              ⎥\n",
       "              ⎥\n",
       "              ⎥\n",
       "              ⎥\n",
       " ρ)  2⋅ψ(t, ρ)⎥\n",
       "   ⋅ℯ         ⎥\n",
       "              ⎥\n",
       "              ⎥\n",
       "──────────────⎥\n",
       "              ⎦"
      ]
     },
     "execution_count": 18,
     "metadata": {},
     "output_type": "execute_result"
    }
   ],
   "source": [
    "einst = EinsteinTensor.from_metric(metric)\n",
    "einst.tensor()"
   ]
  },
  {
   "cell_type": "code",
   "execution_count": 19,
   "id": "c7160bff",
   "metadata": {},
   "outputs": [],
   "source": [
    "#  rm1 = RiemannCurvatureTensor.from_christoffels(ch)\n",
    "#  rm1.tensor()"
   ]
  },
  {
   "cell_type": "code",
   "execution_count": 20,
   "id": "1a34cfcf",
   "metadata": {},
   "outputs": [],
   "source": [
    "#  weyl = WeylTensor.from_metric(metric)\n",
    "#  weyl.tensor()"
   ]
  },
  {
   "cell_type": "code",
   "execution_count": 21,
   "id": "a4a82343",
   "metadata": {},
   "outputs": [
    {
     "data": {
      "text/latex": [
       "$\\displaystyle \\left[\\begin{matrix}\\frac{- \\rho \\left(- \\frac{\\partial^{2}}{\\partial \\rho^{2}} \\gamma{\\left(t,\\rho \\right)} + \\frac{\\partial^{2}}{\\partial t^{2}} \\gamma{\\left(t,\\rho \\right)} + \\frac{\\partial^{2}}{\\partial \\rho^{2}} \\psi{\\left(t,\\rho \\right)} + 2 \\left(\\frac{\\partial}{\\partial t} \\psi{\\left(t,\\rho \\right)}\\right)^{2} - \\frac{\\partial^{2}}{\\partial t^{2}} \\psi{\\left(t,\\rho \\right)}\\right) + \\frac{\\partial}{\\partial \\rho} \\gamma{\\left(t,\\rho \\right)} - \\frac{\\partial}{\\partial \\rho} \\psi{\\left(t,\\rho \\right)}}{\\rho} & - 2 \\frac{\\partial}{\\partial \\rho} \\psi{\\left(t,\\rho \\right)} \\frac{\\partial}{\\partial t} \\psi{\\left(t,\\rho \\right)} + \\frac{\\frac{\\partial}{\\partial t} \\gamma{\\left(t,\\rho \\right)}}{\\rho} & 0 & 0\\\\- 2 \\frac{\\partial}{\\partial \\rho} \\psi{\\left(t,\\rho \\right)} \\frac{\\partial}{\\partial t} \\psi{\\left(t,\\rho \\right)} + \\frac{\\frac{\\partial}{\\partial t} \\gamma{\\left(t,\\rho \\right)}}{\\rho} & \\frac{- \\rho \\left(\\frac{\\partial^{2}}{\\partial \\rho^{2}} \\gamma{\\left(t,\\rho \\right)} - \\frac{\\partial^{2}}{\\partial t^{2}} \\gamma{\\left(t,\\rho \\right)} + 2 \\left(\\frac{\\partial}{\\partial \\rho} \\psi{\\left(t,\\rho \\right)}\\right)^{2} - \\frac{\\partial^{2}}{\\partial \\rho^{2}} \\psi{\\left(t,\\rho \\right)} + \\frac{\\partial^{2}}{\\partial t^{2}} \\psi{\\left(t,\\rho \\right)}\\right) + \\frac{\\partial}{\\partial \\rho} \\gamma{\\left(t,\\rho \\right)} + \\frac{\\partial}{\\partial \\rho} \\psi{\\left(t,\\rho \\right)}}{\\rho} & 0 & 0\\\\0 & 0 & \\rho \\left(\\rho \\frac{\\partial^{2}}{\\partial \\rho^{2}} \\psi{\\left(t,\\rho \\right)} - \\rho \\frac{\\partial^{2}}{\\partial t^{2}} \\psi{\\left(t,\\rho \\right)} + \\frac{\\partial}{\\partial \\rho} \\psi{\\left(t,\\rho \\right)}\\right) e^{- 2 \\gamma{\\left(t,\\rho \\right)}} & 0\\\\0 & 0 & 0 & \\frac{\\left(- \\rho \\frac{\\partial^{2}}{\\partial \\rho^{2}} \\psi{\\left(t,\\rho \\right)} + \\rho \\frac{\\partial^{2}}{\\partial t^{2}} \\psi{\\left(t,\\rho \\right)} - \\frac{\\partial}{\\partial \\rho} \\psi{\\left(t,\\rho \\right)}\\right) e^{- 2 \\gamma{\\left(t,\\rho \\right)} + 4 \\psi{\\left(t,\\rho \\right)}}}{\\rho}\\end{matrix}\\right]$"
      ],
      "text/plain": [
       "⎡    ⎛    2              2              2                           2     2         ⎞       \n",
       "⎢    ⎜   ∂              ∂              ∂               ⎛∂          ⎞     ∂          ⎟   ∂   \n",
       "⎢- ρ⋅⎜- ───(γ(t, ρ)) + ───(γ(t, ρ)) + ───(ψ(t, ρ)) + 2⋅⎜──(ψ(t, ρ))⎟  - ───(ψ(t, ρ))⎟ + ──(γ\n",
       "⎢    ⎜    2              2              2              ⎝∂t         ⎠      2         ⎟   ∂ρ  \n",
       "⎢    ⎝  ∂ρ             ∂t             ∂ρ                                ∂t          ⎠       \n",
       "⎢───────────────────────────────────────────────────────────────────────────────────────────\n",
       "⎢                                                       ρ                                   \n",
       "⎢                                                                                           \n",
       "⎢                                                                                           \n",
       "⎢                                                                                           \n",
       "⎢                                                                 ∂                         \n",
       "⎢                                                                 ──(γ(t, ρ))               \n",
       "⎢                                       ∂           ∂             ∂t                        \n",
       "⎢                                   - 2⋅──(ψ(t, ρ))⋅──(ψ(t, ρ)) + ───────────               \n",
       "⎢                                       ∂ρ          ∂t                 ρ                    \n",
       "⎢                                                                                           \n",
       "⎢                                                                                           \n",
       "⎢                                                                                           \n",
       "⎢                                                       0                                   \n",
       "⎢                                                                                           \n",
       "⎢                                                                                           \n",
       "⎢                                                                                           \n",
       "⎢                                                                                           \n",
       "⎢                                                                                           \n",
       "⎢                                                                                           \n",
       "⎢                                                                                           \n",
       "⎢                                                                                           \n",
       "⎢                                                       0                                   \n",
       "⎣                                                                                           \n",
       "\n",
       "                                                                                            \n",
       "          ∂                                                                                 \n",
       "(t, ρ)) - ──(ψ(t, ρ))                                                                  ∂    \n",
       "          ∂ρ                                                                           ──(γ(\n",
       "                                                             ∂           ∂             ∂t   \n",
       "─────────────────────                                    - 2⋅──(ψ(t, ρ))⋅──(ψ(t, ρ)) + ─────\n",
       "                                                             ∂ρ          ∂t                 \n",
       "                                                                                            \n",
       "                           ⎛  2              2                           2     2            \n",
       "                           ⎜ ∂              ∂               ⎛∂          ⎞     ∂             \n",
       "                       - ρ⋅⎜───(γ(t, ρ)) - ───(γ(t, ρ)) + 2⋅⎜──(ψ(t, ρ))⎟  - ───(ψ(t, ρ)) + \n",
       "                           ⎜  2              2              ⎝∂ρ         ⎠      2            \n",
       "                           ⎝∂ρ             ∂t                                ∂ρ             \n",
       "                       ─────────────────────────────────────────────────────────────────────\n",
       "                                                                             ρ              \n",
       "                                                                                            \n",
       "                                                                                            \n",
       "                                                                                            \n",
       "                                                                             0              \n",
       "                                                                                            \n",
       "                                                                                            \n",
       "                                                                                            \n",
       "                                                                                            \n",
       "                                                                                            \n",
       "                                                                                            \n",
       "                                                                                            \n",
       "                                                                                            \n",
       "                                                                             0              \n",
       "                                                                                            \n",
       "\n",
       "                                                                                            \n",
       "                                                                                            \n",
       "                                                                                            \n",
       "t, ρ))                                                                                      \n",
       "                                                                                            \n",
       "──────                                                                   0                  \n",
       "ρ                                                                                           \n",
       "                                                                                            \n",
       "  2         ⎞                                                                               \n",
       " ∂          ⎟   ∂             ∂                                                             \n",
       "───(ψ(t, ρ))⎟ + ──(γ(t, ρ)) + ──(ψ(t, ρ))                                                   \n",
       "  2         ⎟   ∂ρ            ∂ρ                                                            \n",
       "∂t          ⎠                                                                               \n",
       "─────────────────────────────────────────                                0                  \n",
       "                                                                                            \n",
       "                                                                                            \n",
       "                                             ⎛    2                2                       ⎞\n",
       "                                             ⎜   ∂                ∂             ∂          ⎟\n",
       "                                           ρ⋅⎜ρ⋅───(ψ(t, ρ)) - ρ⋅───(ψ(t, ρ)) + ──(ψ(t, ρ))⎟\n",
       "                                             ⎜    2                2            ∂ρ         ⎟\n",
       "                                             ⎝  ∂ρ               ∂t                        ⎠\n",
       "                                                                                            \n",
       "                                                                                            \n",
       "                                                                                            \n",
       "                                                                                            \n",
       "                                                                                            \n",
       "                                                                                            \n",
       "                                                                         0                  \n",
       "                                                                                            \n",
       "\n",
       "                                                                                       ⎤\n",
       "                                                                                       ⎥\n",
       "                                                                                       ⎥\n",
       "                                                                                       ⎥\n",
       "                                                                                       ⎥\n",
       "                                                  0                                    ⎥\n",
       "                                                                                       ⎥\n",
       "                                                                                       ⎥\n",
       "                                                                                       ⎥\n",
       "                                                                                       ⎥\n",
       "                                                                                       ⎥\n",
       "                                                                                       ⎥\n",
       "                                                                                       ⎥\n",
       "                                                  0                                    ⎥\n",
       "                                                                                       ⎥\n",
       "                                                                                       ⎥\n",
       "                                                                                       ⎥\n",
       "  -2⋅γ(t, ρ)                                                                           ⎥\n",
       "⋅ℯ                                                0                                    ⎥\n",
       "                                                                                       ⎥\n",
       "                                                                                       ⎥\n",
       "                                                                                       ⎥\n",
       "              ⎛      2                2                       ⎞                        ⎥\n",
       "              ⎜     ∂                ∂             ∂          ⎟  -2⋅γ(t, ρ) + 4⋅ψ(t, ρ)⎥\n",
       "              ⎜- ρ⋅───(ψ(t, ρ)) + ρ⋅───(ψ(t, ρ)) - ──(ψ(t, ρ))⎟⋅ℯ                      ⎥\n",
       "              ⎜      2                2            ∂ρ         ⎟                        ⎥\n",
       "              ⎝    ∂ρ               ∂t                        ⎠                        ⎥\n",
       "              ─────────────────────────────────────────────────────────────────────────⎥\n",
       "                                                  ρ                                    ⎦"
      ]
     },
     "execution_count": 21,
     "metadata": {},
     "output_type": "execute_result"
    }
   ],
   "source": [
    "ricciSimplified = simplify(Ric.tensor())\n",
    "ricciSimplified"
   ]
  },
  {
   "cell_type": "code",
   "execution_count": 22,
   "id": "907d2fd1",
   "metadata": {},
   "outputs": [
    {
     "data": {
      "text/latex": [
       "$\\displaystyle \\left[\\begin{matrix}- 1.0 \\left(\\frac{\\partial}{\\partial \\rho} \\psi{\\left(t,\\rho \\right)}\\right)^{2} - 1.0 \\left(\\frac{\\partial}{\\partial t} \\psi{\\left(t,\\rho \\right)}\\right)^{2} + \\frac{1.0 \\frac{\\partial}{\\partial \\rho} \\gamma{\\left(t,\\rho \\right)}}{\\rho} & - 2 \\frac{\\partial}{\\partial \\rho} \\psi{\\left(t,\\rho \\right)} \\frac{\\partial}{\\partial t} \\psi{\\left(t,\\rho \\right)} + \\frac{\\frac{\\partial}{\\partial t} \\gamma{\\left(t,\\rho \\right)}}{\\rho} & 0 & 0\\\\- 2 \\frac{\\partial}{\\partial \\rho} \\psi{\\left(t,\\rho \\right)} \\frac{\\partial}{\\partial t} \\psi{\\left(t,\\rho \\right)} + \\frac{\\frac{\\partial}{\\partial t} \\gamma{\\left(t,\\rho \\right)}}{\\rho} & - 1.0 \\left(\\frac{\\partial}{\\partial \\rho} \\psi{\\left(t,\\rho \\right)}\\right)^{2} - 1.0 \\left(\\frac{\\partial}{\\partial t} \\psi{\\left(t,\\rho \\right)}\\right)^{2} + \\frac{1.0 \\frac{\\partial}{\\partial \\rho} \\gamma{\\left(t,\\rho \\right)}}{\\rho} & 0 & 0\\\\0 & 0 & 1.0 \\rho^{2} \\left(\\frac{\\partial^{2}}{\\partial \\rho^{2}} \\gamma{\\left(t,\\rho \\right)} - \\frac{\\partial^{2}}{\\partial t^{2}} \\gamma{\\left(t,\\rho \\right)} + \\left(\\frac{\\partial}{\\partial \\rho} \\psi{\\left(t,\\rho \\right)}\\right)^{2} - \\left(\\frac{\\partial}{\\partial t} \\psi{\\left(t,\\rho \\right)}\\right)^{2}\\right) e^{- 2 \\gamma{\\left(t,\\rho \\right)}} & 0\\\\0 & 0 & 0 & \\frac{\\left(1.0 \\rho \\frac{\\partial^{2}}{\\partial \\rho^{2}} \\gamma{\\left(t,\\rho \\right)} - 1.0 \\rho \\frac{\\partial^{2}}{\\partial t^{2}} \\gamma{\\left(t,\\rho \\right)} + 1.0 \\rho \\left(\\frac{\\partial}{\\partial \\rho} \\psi{\\left(t,\\rho \\right)}\\right)^{2} - 2.0 \\rho \\frac{\\partial^{2}}{\\partial \\rho^{2}} \\psi{\\left(t,\\rho \\right)} - 1.0 \\rho \\left(\\frac{\\partial}{\\partial t} \\psi{\\left(t,\\rho \\right)}\\right)^{2} + 2.0 \\rho \\frac{\\partial^{2}}{\\partial t^{2}} \\psi{\\left(t,\\rho \\right)} - 2.0 \\frac{\\partial}{\\partial \\rho} \\psi{\\left(t,\\rho \\right)}\\right) e^{- 2 \\gamma{\\left(t,\\rho \\right)} + 4 \\psi{\\left(t,\\rho \\right)}}}{\\rho}\\end{matrix}\\right]$"
      ],
      "text/plain": [
       "⎡                                        ∂                                               ∂  \n",
       "⎢               2                2   1.0⋅──(γ(t, ρ))                                     ──(\n",
       "⎢  ⎛∂          ⎞    ⎛∂          ⎞        ∂ρ                    ∂           ∂             ∂t \n",
       "⎢- ⎜──(ψ(t, ρ))⎟  - ⎜──(ψ(t, ρ))⎟  + ───────────────       - 2⋅──(ψ(t, ρ))⋅──(ψ(t, ρ)) + ───\n",
       "⎢  ⎝∂ρ         ⎠    ⎝∂t         ⎠           ρ                  ∂ρ          ∂t               \n",
       "⎢                                                                                           \n",
       "⎢                                   ∂                                                       \n",
       "⎢                                   ──(γ(t, ρ))                      2                2   1.\n",
       "⎢         ∂           ∂             ∂t                  ⎛∂          ⎞    ⎛∂          ⎞      \n",
       "⎢     - 2⋅──(ψ(t, ρ))⋅──(ψ(t, ρ)) + ───────────       - ⎜──(ψ(t, ρ))⎟  - ⎜──(ψ(t, ρ))⎟  + ──\n",
       "⎢         ∂ρ          ∂t                 ρ              ⎝∂ρ         ⎠    ⎝∂t         ⎠      \n",
       "⎢                                                                                           \n",
       "⎢                                                                                           \n",
       "⎢                                                                                           \n",
       "⎢                         0                                                    0            \n",
       "⎢                                                                                           \n",
       "⎢                                                                                           \n",
       "⎢                                                                                           \n",
       "⎢                                                                                           \n",
       "⎢                                                                                           \n",
       "⎢                                                                                           \n",
       "⎢                                                                                           \n",
       "⎢                                                                                           \n",
       "⎢                         0                                                    0            \n",
       "⎣                                                                                           \n",
       "\n",
       "                                                                                            \n",
       "γ(t, ρ))                                                                                    \n",
       "                                                                                            \n",
       "────────                                               0                                    \n",
       "  ρ                                                                                         \n",
       "                                                                                            \n",
       "  ∂                                                                                         \n",
       "0⋅──(γ(t, ρ))                                                                               \n",
       "  ∂ρ                                                                                        \n",
       "─────────────                                          0                                    \n",
       "     ρ                                                                                      \n",
       "                                                                                            \n",
       "                      ⎛  2              2                         2                2⎞       \n",
       "                    2 ⎜ ∂              ∂             ⎛∂          ⎞    ⎛∂          ⎞ ⎟  -2⋅γ(\n",
       "               1.0⋅ρ ⋅⎜───(γ(t, ρ)) - ───(γ(t, ρ)) + ⎜──(ψ(t, ρ))⎟  - ⎜──(ψ(t, ρ))⎟ ⎟⋅ℯ     \n",
       "                      ⎜  2              2            ⎝∂ρ         ⎠    ⎝∂t         ⎠ ⎟       \n",
       "                      ⎝∂ρ             ∂t                                            ⎠       \n",
       "                                                                                            \n",
       "                                                                                            \n",
       "                                                                                            \n",
       "                                                                                            \n",
       "                                                                                            \n",
       "                                                                                            \n",
       "                                                       0                                    \n",
       "                                                                                            \n",
       "\n",
       "                                                                                            \n",
       "                                                                                            \n",
       "                                                                                            \n",
       "                                                                                        0   \n",
       "                                                                                            \n",
       "                                                                                            \n",
       "                                                                                            \n",
       "                                                                                            \n",
       "                                                                                            \n",
       "                                                                                        0   \n",
       "                                                                                            \n",
       "                                                                                            \n",
       "                                                                                            \n",
       "t, ρ)                                                                                       \n",
       "                                                                                        0   \n",
       "                                                                                            \n",
       "                                                                                            \n",
       "                                                                                            \n",
       "       ⎛        2                2                               2           2              \n",
       "       ⎜       ∂                ∂                   ⎛∂          ⎞           ∂               \n",
       "       ⎜1.0⋅ρ⋅───(γ(t, ρ)) - ρ⋅───(γ(t, ρ)) + 1.0⋅ρ⋅⎜──(ψ(t, ρ))⎟  - 2.0⋅ρ⋅───(ψ(t, ρ)) - ρ⋅\n",
       "       ⎜        2                2                  ⎝∂ρ         ⎠            2              \n",
       "       ⎝      ∂ρ               ∂t                                          ∂ρ               \n",
       "       ─────────────────────────────────────────────────────────────────────────────────────\n",
       "                                                                                        ρ   \n",
       "\n",
       "                                                                              ⎤\n",
       "                                                                              ⎥\n",
       "                                                                              ⎥\n",
       "                                                                              ⎥\n",
       "                                                                              ⎥\n",
       "                                                                              ⎥\n",
       "                                                                              ⎥\n",
       "                                                                              ⎥\n",
       "                                                                              ⎥\n",
       "                                                                              ⎥\n",
       "                                                                              ⎥\n",
       "                                                                              ⎥\n",
       "                                                                              ⎥\n",
       "                                                                              ⎥\n",
       "                                                                              ⎥\n",
       "                                                                              ⎥\n",
       "                                                                              ⎥\n",
       "                                                                              ⎥\n",
       "             2           2                           ⎞                        ⎥\n",
       "⎛∂          ⎞           ∂                 ∂          ⎟  -2⋅γ(t, ρ) + 4⋅ψ(t, ρ)⎥\n",
       "⎜──(ψ(t, ρ))⎟  + 2.0⋅ρ⋅───(ψ(t, ρ)) - 2.0⋅──(ψ(t, ρ))⎟⋅ℯ                      ⎥\n",
       "⎝∂t         ⎠            2                ∂ρ         ⎟                        ⎥\n",
       "                       ∂t                            ⎠                        ⎥\n",
       "──────────────────────────────────────────────────────────────────────────────⎥\n",
       "                                                                              ⎦"
      ]
     },
     "execution_count": 22,
     "metadata": {},
     "output_type": "execute_result"
    }
   ],
   "source": [
    "einsteinSimplified = simplify(einst.tensor())\n",
    "einsteinSimplified"
   ]
  },
  {
   "cell_type": "code",
   "execution_count": 32,
   "id": "2f7f7b21",
   "metadata": {
    "scrolled": true
   },
   "outputs": [
    {
     "data": {
      "image/png": "[encoded data removed]",
      "text/latex": [
       "$\\displaystyle \\frac{\\partial^{2}}{\\partial \\rho^{2}} \\psi{\\left(t,\\rho \\right)} - \\frac{\\partial^{2}}{\\partial t^{2}} \\psi{\\left(t,\\rho \\right)} + \\frac{\\frac{\\partial}{\\partial \\rho} \\psi{\\left(t,\\rho \\right)}}{\\rho} = 0$"
      ],
      "text/plain": [
       "                              ∂              \n",
       "  2              2            ──(ψ(t, ρ))    \n",
       " ∂              ∂             ∂ρ             \n",
       "───(ψ(t, ρ)) - ───(ψ(t, ρ)) + ─────────── = 0\n",
       "  2              2                 ρ         \n",
       "∂ρ             ∂t                            "
      ]
     },
     "execution_count": 32,
     "metadata": {},
     "output_type": "execute_result"
    }
   ],
   "source": [
    "equation8a = Eq(expand((-1/rho)*ricciSimplified[3,3].args[1]),0)\n",
    "equation8a"
   ]
  },
  {
   "cell_type": "code",
   "execution_count": 33,
   "id": "282d0d0c",
   "metadata": {
    "scrolled": true
   },
   "outputs": [
    {
     "data": {
      "image/png": "[encoded data removed]",
      "text/latex": [
       "$\\displaystyle \\frac{\\partial}{\\partial \\rho} \\gamma{\\left(t,\\rho \\right)} = \\rho \\left(\\left(\\frac{\\partial}{\\partial \\rho} \\psi{\\left(t,\\rho \\right)}\\right)^{2} + \\left(\\frac{\\partial}{\\partial t} \\psi{\\left(t,\\rho \\right)}\\right)^{2}\\right)$"
      ],
      "text/plain": [
       "                ⎛             2                2⎞\n",
       "∂               ⎜⎛∂          ⎞    ⎛∂          ⎞ ⎟\n",
       "──(γ(t, ρ)) = ρ⋅⎜⎜──(ψ(t, ρ))⎟  + ⎜──(ψ(t, ρ))⎟ ⎟\n",
       "∂ρ              ⎝⎝∂ρ         ⎠    ⎝∂t         ⎠ ⎠"
      ]
     },
     "execution_count": 33,
     "metadata": {},
     "output_type": "execute_result"
    }
   ],
   "source": [
    "equation8b = Eq( diff(gamma,rho), solve( einsteinSimplified[0,0], diff(gamma,rho) )[0] ) \n",
    "equation8b "
   ]
  },
  {
   "cell_type": "code",
   "execution_count": 34,
   "id": "46b64761",
   "metadata": {},
   "outputs": [
    {
     "data": {
      "image/png": "[encoded data removed]",
      "text/latex": [
       "$\\displaystyle \\frac{\\partial}{\\partial t} \\gamma{\\left(t,\\rho \\right)} = 2 \\rho \\frac{\\partial}{\\partial \\rho} \\psi{\\left(t,\\rho \\right)} \\frac{\\partial}{\\partial t} \\psi{\\left(t,\\rho \\right)}$"
      ],
      "text/plain": [
       "∂                 ∂           ∂          \n",
       "──(γ(t, ρ)) = 2⋅ρ⋅──(ψ(t, ρ))⋅──(ψ(t, ρ))\n",
       "∂t                ∂ρ          ∂t         "
      ]
     },
     "execution_count": 34,
     "metadata": {},
     "output_type": "execute_result"
    }
   ],
   "source": [
    "equation8c = Eq(diff(gamma,t), solve( einsteinSimplified[1,0], diff(gamma,t))[0] ) \n",
    "equation8c"
   ]
  },
  {
   "cell_type": "code",
   "execution_count": 36,
   "id": "aaa6b1a7",
   "metadata": {},
   "outputs": [
    {
     "data": {
      "text/latex": [
       "$\\displaystyle \\left[\\begin{matrix}\\frac{\\partial^{2}}{\\partial \\rho^{2}} \\psi{\\left(t,\\rho \\right)} - \\frac{\\partial^{2}}{\\partial t^{2}} \\psi{\\left(t,\\rho \\right)} + \\frac{\\frac{\\partial}{\\partial \\rho} \\psi{\\left(t,\\rho \\right)}}{\\rho} = 0\\\\\\frac{\\partial}{\\partial \\rho} \\gamma{\\left(t,\\rho \\right)} = \\rho \\left(\\left(\\frac{\\partial}{\\partial \\rho} \\psi{\\left(t,\\rho \\right)}\\right)^{2} + \\left(\\frac{\\partial}{\\partial t} \\psi{\\left(t,\\rho \\right)}\\right)^{2}\\right)\\\\\\frac{\\partial}{\\partial t} \\gamma{\\left(t,\\rho \\right)} = 2 \\rho \\frac{\\partial}{\\partial \\rho} \\psi{\\left(t,\\rho \\right)} \\frac{\\partial}{\\partial t} \\psi{\\left(t,\\rho \\right)}\\end{matrix}\\right]$"
      ],
      "text/plain": [
       "⎡                                ∂                ⎤\n",
       "⎢    2              2            ──(ψ(t, ρ))      ⎥\n",
       "⎢   ∂              ∂             ∂ρ               ⎥\n",
       "⎢  ───(ψ(t, ρ)) - ───(ψ(t, ρ)) + ─────────── = 0  ⎥\n",
       "⎢    2              2                 ρ           ⎥\n",
       "⎢  ∂ρ             ∂t                              ⎥\n",
       "⎢                                                 ⎥\n",
       "⎢                ⎛             2                2⎞⎥\n",
       "⎢∂               ⎜⎛∂          ⎞    ⎛∂          ⎞ ⎟⎥\n",
       "⎢──(γ(t, ρ)) = ρ⋅⎜⎜──(ψ(t, ρ))⎟  + ⎜──(ψ(t, ρ))⎟ ⎟⎥\n",
       "⎢∂ρ              ⎝⎝∂ρ         ⎠    ⎝∂t         ⎠ ⎠⎥\n",
       "⎢                                                 ⎥\n",
       "⎢    ∂                 ∂           ∂              ⎥\n",
       "⎢    ──(γ(t, ρ)) = 2⋅ρ⋅──(ψ(t, ρ))⋅──(ψ(t, ρ))    ⎥\n",
       "⎣    ∂t                ∂ρ          ∂t             ⎦"
      ]
     },
     "execution_count": 36,
     "metadata": {},
     "output_type": "execute_result"
    }
   ],
   "source": [
    "vacuumFieldEquations = Matrix([equation8a,equation8b,equation8c])\n",
    "vacuumFieldEquations"
   ]
  },
  {
   "cell_type": "code",
   "execution_count": 37,
   "id": "20a53290",
   "metadata": {},
   "outputs": [],
   "source": [
    "X, Y = map(Function, 'XY')"
   ]
  },
  {
   "cell_type": "code",
   "execution_count": 38,
   "id": "223edc49",
   "metadata": {},
   "outputs": [
    {
     "data": {
      "image/png": "[encoded data removed]",
      "text/latex": [
       "$\\displaystyle \\frac{\\partial^{2}}{\\partial \\rho^{2}} \\psi{\\left(t,\\rho \\right)} - \\frac{\\partial^{2}}{\\partial t^{2}} \\psi{\\left(t,\\rho \\right)} + \\frac{\\frac{\\partial}{\\partial \\rho} \\psi{\\left(t,\\rho \\right)}}{\\rho} = 0$"
      ],
      "text/plain": [
       "                              ∂              \n",
       "  2              2            ──(ψ(t, ρ))    \n",
       " ∂              ∂             ∂ρ             \n",
       "───(ψ(t, ρ)) - ───(ψ(t, ρ)) + ─────────── = 0\n",
       "  2              2                 ρ         \n",
       "∂ρ             ∂t                            "
      ]
     },
     "execution_count": 38,
     "metadata": {},
     "output_type": "execute_result"
    }
   ],
   "source": [
    "eq = vacuumFieldEquations[0]\n",
    "eq"
   ]
  },
  {
   "cell_type": "code",
   "execution_count": 44,
   "id": "3a0b27ee",
   "metadata": {},
   "outputs": [
    {
     "data": {
      "image/png": "[encoded data removed]",
      "text/latex": [
       "$\\displaystyle \\frac{\\frac{d^{2}}{d \\rho^{2}} X{\\left(\\rho \\right)}}{X{\\left(\\rho \\right)}} + \\frac{\\frac{d}{d \\rho} X{\\left(\\rho \\right)}}{\\rho X{\\left(\\rho \\right)}} = - k^{2}$"
      ],
      "text/plain": [
       "  2                       \n",
       " d                        \n",
       "───(X(ρ))   d             \n",
       "  2         ──(X(ρ))      \n",
       "dρ          dρ           2\n",
       "───────── + ──────── = -k \n",
       "   X(ρ)      ρ⋅X(ρ)       "
      ]
     },
     "execution_count": 44,
     "metadata": {},
     "output_type": "execute_result"
    }
   ],
   "source": [
    "xODE = Eq(pde_separate( eq, psi, [X(rho),Y(t)])[0] ,  -k**2 ) \n",
    "xODE"
   ]
  },
  {
   "cell_type": "code",
   "execution_count": 45,
   "id": "c6dcb6e3",
   "metadata": {},
   "outputs": [
    {
     "data": {
      "image/png": "[encoded data removed]",
      "text/latex": [
       "$\\displaystyle X{\\left(\\rho \\right)} = C_{1} J_{0}\\left(k \\rho\\right) + C_{2} Y_{0}\\left(k \\rho\\right)$"
      ],
      "text/plain": [
       "X(ρ) = C₁⋅besselj(0, k⋅ρ) + C₂⋅bessely(0, k⋅ρ)"
      ]
     },
     "execution_count": 45,
     "metadata": {},
     "output_type": "execute_result"
    }
   ],
   "source": [
    "xSolution = dsolve( xODE , X(rho))\n",
    "xSolution "
   ]
  },
  {
   "cell_type": "code",
   "execution_count": 46,
   "id": "8d3a27db",
   "metadata": {},
   "outputs": [
    {
     "data": {
      "image/png": "[encoded data removed]",
      "text/latex": [
       "$\\displaystyle X{\\left(\\rho \\right)} = J_{0}\\left(k \\rho\\right) + Y_{0}\\left(k \\rho\\right)$"
      ],
      "text/plain": [
       "X(ρ) = besselj(0, k⋅ρ) + bessely(0, k⋅ρ)"
      ]
     },
     "execution_count": 46,
     "metadata": {},
     "output_type": "execute_result"
    }
   ],
   "source": [
    "#  Here we arbitrarily set the constants of integration equal to one... fix this later \n",
    "xSolutionParticular = xSolution.subs(xSolution.args[1].args[0].args[0],1).subs(xSolution.args[1].args[1].args[0],1)\n",
    "xSolutionParticular"
   ]
  },
  {
   "cell_type": "code",
   "execution_count": 48,
   "id": "89e232c6",
   "metadata": {},
   "outputs": [
    {
     "data": {
      "image/png": "[encoded data removed]",
      "text/latex": [
       "$\\displaystyle \\frac{\\frac{d^{2}}{d t^{2}} Y{\\left(t \\right)}}{Y{\\left(t \\right)}} = - k^{2}$"
      ],
      "text/plain": [
       "  2            \n",
       " d             \n",
       "───(Y(t))      \n",
       "  2            \n",
       "dt            2\n",
       "───────── = -k \n",
       "   Y(t)        "
      ]
     },
     "execution_count": 48,
     "metadata": {},
     "output_type": "execute_result"
    }
   ],
   "source": [
    "#  I've made a mistake somewhere... the X ode is set equal to k squared, this should be the negative of k square, but that gives me exponentials not sin an cos... find mistake!!\n",
    "yODE = Eq( pde_separate( eq, psi, [X(rho),Y(t)])[1] , - k**2 ) \n",
    "yODE"
   ]
  },
  {
   "cell_type": "code",
   "execution_count": 49,
   "id": "d42f83d2",
   "metadata": {},
   "outputs": [
    {
     "data": {
      "image/png": "[encoded data removed]",
      "text/latex": [
       "$\\displaystyle Y{\\left(t \\right)} = C_{1} \\sin{\\left(t \\left|{k}\\right| \\right)} + C_{2} \\cos{\\left(k t \\right)}$"
      ],
      "text/plain": [
       "Y(t) = C₁⋅sin(t⋅│k│) + C₂⋅cos(k⋅t)"
      ]
     },
     "execution_count": 49,
     "metadata": {},
     "output_type": "execute_result"
    }
   ],
   "source": [
    "ySolution = dsolve( yODE , Y(t))\n",
    "ySolution "
   ]
  },
  {
   "cell_type": "code",
   "execution_count": 50,
   "id": "95e87e35",
   "metadata": {},
   "outputs": [
    {
     "data": {
      "image/png": "[encoded data removed]",
      "text/latex": [
       "$\\displaystyle Y{\\left(t \\right)} = \\sin{\\left(t \\left|{k}\\right| \\right)} + \\cos{\\left(k t \\right)}$"
      ],
      "text/plain": [
       "Y(t) = sin(t⋅│k│) + cos(k⋅t)"
      ]
     },
     "execution_count": 50,
     "metadata": {},
     "output_type": "execute_result"
    }
   ],
   "source": [
    "#  Here we arbitrarily set the constants of integration equal to one... fix this later \n",
    "ySolutionParticular = ySolution.subs(ySolution.args[1].args[0].args[0],1).subs(ySolution.args[1].args[1].args[0],1)\n",
    "ySolutionParticular"
   ]
  },
  {
   "cell_type": "code",
   "execution_count": 51,
   "id": "d4b75ea0",
   "metadata": {},
   "outputs": [
    {
     "data": {
      "image/png": "[encoded data removed]",
      "text/latex": [
       "$\\displaystyle \\sum_{k=1}^{1} \\left(\\sin{\\left(t \\left|{k}\\right| \\right)} + \\cos{\\left(k t \\right)}\\right) \\left(J_{0}\\left(k \\rho\\right) + Y_{0}\\left(k \\rho\\right)\\right)$"
      ],
      "text/plain": [
       "  1                                                              \n",
       " ___                                                             \n",
       " ╲                                                               \n",
       "  ╲                                                              \n",
       "  ╱   (sin(t⋅│k│) + cos(k⋅t))⋅(besselj(0, k⋅ρ) + bessely(0, k⋅ρ))\n",
       " ╱                                                               \n",
       " ‾‾‾                                                             \n",
       "k = 1                                                            "
      ]
     },
     "execution_count": 51,
     "metadata": {},
     "output_type": "execute_result"
    }
   ],
   "source": [
    "#  arbitrarily keeping just one term... fix this later\n",
    "Sum( ( xSolutionParticular.args[1] * ySolutionParticular.args[1] ) ,(k,1,1) )"
   ]
  },
  {
   "cell_type": "code",
   "execution_count": 52,
   "id": "7b61bcb7",
   "metadata": {},
   "outputs": [
    {
     "data": {
      "image/png": "[encoded data removed]",
      "text/latex": [
       "$\\displaystyle \\psi{\\left(t,\\rho \\right)} = \\left(\\sin{\\left(t \\right)} + \\cos{\\left(t \\right)}\\right) \\left(J_{0}\\left(\\rho\\right) + Y_{0}\\left(\\rho\\right)\\right)$"
      ],
      "text/plain": [
       "ψ(t, ρ) = (sin(t) + cos(t))⋅(besselj(0, ρ) + bessely(0, ρ))"
      ]
     },
     "execution_count": 52,
     "metadata": {},
     "output_type": "execute_result"
    }
   ],
   "source": [
    "psiSolution = Eq(psi, Sum( ( xSolutionParticular.args[1] * ySolutionParticular.args[1] ) ,(k,1,1) ).doit() ) \n",
    "psiSolution"
   ]
  },
  {
   "cell_type": "code",
   "execution_count": 53,
   "id": "8eeb2d4f",
   "metadata": {},
   "outputs": [
    {
     "data": {
      "image/png": "[encoded data removed]",
      "text/latex": [
       "$\\displaystyle \\frac{\\partial}{\\partial t} \\gamma{\\left(t,\\rho \\right)} = 2 \\rho \\frac{\\partial}{\\partial \\rho} \\left(\\sin{\\left(t \\right)} + \\cos{\\left(t \\right)}\\right) \\left(J_{0}\\left(\\rho\\right) + Y_{0}\\left(\\rho\\right)\\right) \\frac{\\partial}{\\partial t} \\left(\\sin{\\left(t \\right)} + \\cos{\\left(t \\right)}\\right) \\left(J_{0}\\left(\\rho\\right) + Y_{0}\\left(\\rho\\right)\\right)$"
      ],
      "text/plain": [
       "∂                 ∂                                                     ∂                   \n",
       "──(γ(t, ρ)) = 2⋅ρ⋅──((sin(t) + cos(t))⋅(besselj(0, ρ) + bessely(0, ρ)))⋅──((sin(t) + cos(t))\n",
       "∂t                ∂ρ                                                    ∂t                  \n",
       "\n",
       "                                 \n",
       "⋅(besselj(0, ρ) + bessely(0, ρ)))\n",
       "                                 "
      ]
     },
     "execution_count": 53,
     "metadata": {},
     "output_type": "execute_result"
    }
   ],
   "source": [
    "dgammadt = vacuumFieldEquations[2].subs(psiSolution.lhs,psiSolution.rhs)\n",
    "dgammadt"
   ]
  },
  {
   "cell_type": "code",
   "execution_count": 54,
   "id": "191553d3",
   "metadata": {},
   "outputs": [
    {
     "data": {
      "image/png": "[encoded data removed]",
      "text/latex": [
       "$\\displaystyle \\frac{\\partial}{\\partial t} \\gamma{\\left(t,\\rho \\right)} = 2 \\rho \\left(- \\sin{\\left(t \\right)} + \\cos{\\left(t \\right)}\\right) \\left(\\sin{\\left(t \\right)} + \\cos{\\left(t \\right)}\\right) \\left(J_{0}\\left(\\rho\\right) + Y_{0}\\left(\\rho\\right)\\right) \\left(- J_{1}\\left(\\rho\\right) - Y_{1}\\left(\\rho\\right)\\right)$"
      ],
      "text/plain": [
       "∂                                                                                           \n",
       "──(γ(t, ρ)) = 2⋅ρ⋅(-sin(t) + cos(t))⋅(sin(t) + cos(t))⋅(besselj(0, ρ) + bessely(0, ρ))⋅(-bes\n",
       "∂t                                                                                          \n",
       "\n",
       "                           \n",
       "selj(1, ρ) - bessely(1, ρ))\n",
       "                           "
      ]
     },
     "execution_count": 54,
     "metadata": {},
     "output_type": "execute_result"
    }
   ],
   "source": [
    "dgammadt.doit()"
   ]
  },
  {
   "cell_type": "code",
   "execution_count": 55,
   "id": "03ea06c0",
   "metadata": {},
   "outputs": [
    {
     "data": {
      "image/png": "[encoded data removed]",
      "text/latex": [
       "$\\displaystyle \\gamma{\\left(t,\\rho \\right)} = - \\rho \\sin{\\left(2 t \\right)} J_{0}\\left(\\rho\\right) J_{1}\\left(\\rho\\right) - \\rho \\sin{\\left(2 t \\right)} J_{0}\\left(\\rho\\right) Y_{1}\\left(\\rho\\right) - \\rho \\sin{\\left(2 t \\right)} J_{1}\\left(\\rho\\right) Y_{0}\\left(\\rho\\right) - \\rho \\sin{\\left(2 t \\right)} Y_{0}\\left(\\rho\\right) Y_{1}\\left(\\rho\\right) + F{\\left(- \\rho \\right)}$"
      ],
      "text/plain": [
       "γ(t, ρ) = -ρ⋅sin(2⋅t)⋅besselj(0, ρ)⋅besselj(1, ρ) - ρ⋅sin(2⋅t)⋅besselj(0, ρ)⋅bessely(1, ρ) -\n",
       " ρ⋅sin(2⋅t)⋅besselj(1, ρ)⋅bessely(0, ρ) - ρ⋅sin(2⋅t)⋅bessely(0, ρ)⋅bessely(1, ρ) + F(-ρ)"
      ]
     },
     "execution_count": 55,
     "metadata": {},
     "output_type": "execute_result"
    }
   ],
   "source": [
    "integrateGammaWRTt = pdsolve( dgammadt.doit() )\n",
    "integrateGammaWRTt"
   ]
  },
  {
   "cell_type": "code",
   "execution_count": 56,
   "id": "69f37178",
   "metadata": {},
   "outputs": [
    {
     "data": {
      "image/png": "[encoded data removed]",
      "text/latex": [
       "$\\displaystyle \\frac{\\partial}{\\partial \\rho} \\gamma{\\left(t,\\rho \\right)} = \\rho \\left(\\left(\\frac{\\partial}{\\partial \\rho} \\left(\\sin{\\left(t \\right)} + \\cos{\\left(t \\right)}\\right) \\left(J_{0}\\left(\\rho\\right) + Y_{0}\\left(\\rho\\right)\\right)\\right)^{2} + \\left(\\frac{\\partial}{\\partial t} \\left(\\sin{\\left(t \\right)} + \\cos{\\left(t \\right)}\\right) \\left(J_{0}\\left(\\rho\\right) + Y_{0}\\left(\\rho\\right)\\right)\\right)^{2}\\right)$"
      ],
      "text/plain": [
       "                ⎛                                                       2                   \n",
       "∂               ⎜⎛∂                                                    ⎞    ⎛∂              \n",
       "──(γ(t, ρ)) = ρ⋅⎜⎜──((sin(t) + cos(t))⋅(besselj(0, ρ) + bessely(0, ρ)))⎟  + ⎜──((sin(t) + co\n",
       "∂ρ              ⎝⎝∂ρ                                                   ⎠    ⎝∂t             \n",
       "\n",
       "                                       2⎞\n",
       "                                      ⎞ ⎟\n",
       "s(t))⋅(besselj(0, ρ) + bessely(0, ρ)))⎟ ⎟\n",
       "                                      ⎠ ⎠"
      ]
     },
     "execution_count": 56,
     "metadata": {},
     "output_type": "execute_result"
    }
   ],
   "source": [
    "dgammarho = vacuumFieldEquations[1].subs(psiSolution.lhs,psiSolution.rhs)\n",
    "dgammarho"
   ]
  },
  {
   "cell_type": "code",
   "execution_count": 57,
   "id": "aeb3d6d3",
   "metadata": {},
   "outputs": [
    {
     "data": {
      "image/png": "[encoded data removed]",
      "text/latex": [
       "$\\displaystyle \\frac{\\partial}{\\partial \\rho} \\gamma{\\left(t,\\rho \\right)} = \\rho \\left(\\left(- \\sin{\\left(t \\right)} + \\cos{\\left(t \\right)}\\right)^{2} \\left(J_{0}\\left(\\rho\\right) + Y_{0}\\left(\\rho\\right)\\right)^{2} + \\left(\\sin{\\left(t \\right)} + \\cos{\\left(t \\right)}\\right)^{2} \\left(- J_{1}\\left(\\rho\\right) - Y_{1}\\left(\\rho\\right)\\right)^{2}\\right)$"
      ],
      "text/plain": [
       "∂               ⎛                  2                                2                    2  \n",
       "──(γ(t, ρ)) = ρ⋅⎝(-sin(t) + cos(t)) ⋅(besselj(0, ρ) + bessely(0, ρ))  + (sin(t) + cos(t)) ⋅(\n",
       "∂ρ                                                                                          \n",
       "\n",
       "                               2⎞\n",
       "-besselj(1, ρ) - bessely(1, ρ)) ⎠\n",
       "                                 "
      ]
     },
     "execution_count": 57,
     "metadata": {},
     "output_type": "execute_result"
    }
   ],
   "source": [
    "dgammarho.doit()"
   ]
  },
  {
   "cell_type": "code",
   "execution_count": 58,
   "id": "cb338da4",
   "metadata": {},
   "outputs": [
    {
     "data": {
      "image/png": "[encoded data removed]",
      "text/latex": [
       "$\\displaystyle \\gamma{\\left(t,\\rho \\right)} = \\rho^{2} J^{2}_{0}\\left(\\rho\\right) + 2 \\rho^{2} J_{0}\\left(\\rho\\right) Y_{0}\\left(\\rho\\right) + \\rho^{2} J^{2}_{1}\\left(\\rho\\right) + 2 \\rho^{2} J_{1}\\left(\\rho\\right) Y_{1}\\left(\\rho\\right) + \\rho^{2} Y^{2}_{0}\\left(\\rho\\right) + \\rho^{2} Y^{2}_{1}\\left(\\rho\\right) - \\rho \\sin{\\left(2 t \\right)} J_{0}\\left(\\rho\\right) J_{1}\\left(\\rho\\right) - 2 \\rho \\sin{\\left(2 t \\right)} J_{1}\\left(\\rho\\right) Y_{0}\\left(\\rho\\right) - \\rho \\sin{\\left(2 t \\right)} Y_{0}\\left(\\rho\\right) Y_{1}\\left(\\rho\\right) - \\rho J_{0}\\left(\\rho\\right) J_{1}\\left(\\rho\\right) - 2 \\rho J_{1}\\left(\\rho\\right) Y_{0}\\left(\\rho\\right) - \\rho Y_{0}\\left(\\rho\\right) Y_{1}\\left(\\rho\\right) + F{\\left(t \\right)}$"
      ],
      "text/plain": [
       "           2        2            2                                2        2            2   \n",
       "γ(t, ρ) = ρ ⋅besselj (0, ρ) + 2⋅ρ ⋅besselj(0, ρ)⋅bessely(0, ρ) + ρ ⋅besselj (1, ρ) + 2⋅ρ ⋅be\n",
       "\n",
       "                             2        2          2        2                                 \n",
       "sselj(1, ρ)⋅bessely(1, ρ) + ρ ⋅bessely (0, ρ) + ρ ⋅bessely (1, ρ) - ρ⋅sin(2⋅t)⋅besselj(0, ρ)\n",
       "\n",
       "                                                                                            \n",
       "⋅besselj(1, ρ) - 2⋅ρ⋅sin(2⋅t)⋅besselj(1, ρ)⋅bessely(0, ρ) - ρ⋅sin(2⋅t)⋅bessely(0, ρ)⋅bessely\n",
       "\n",
       "                                                                                            \n",
       "(1, ρ) - ρ⋅besselj(0, ρ)⋅besselj(1, ρ) - 2⋅ρ⋅besselj(1, ρ)⋅bessely(0, ρ) - ρ⋅bessely(0, ρ)⋅b\n",
       "\n",
       "                   \n",
       "essely(1, ρ) + F(t)"
      ]
     },
     "execution_count": 58,
     "metadata": {},
     "output_type": "execute_result"
    }
   ],
   "source": [
    "#  Prepare to wait.... this takes a while to evaluate even for just the one term solution \n",
    "integrateGammaWRTrho = pdsolve(dgammarho.doit())\n",
    "integrateGammaWRTrho"
   ]
  },
  {
   "cell_type": "code",
   "execution_count": null,
   "id": "3c4592ac",
   "metadata": {},
   "outputs": [],
   "source": []
  }
 ],
 "metadata": {
  "@webio": {
   "lastCommId": "da83f5830371450683049bfc141cec98",
   "lastKernelId": "c4308878-eb78-47fb-ab05-f9ef3054a352"
  },
  "kernelspec": {
   "display_name": "Python 3 (ipykernel)",
   "language": "python",
   "name": "python3"
  },
  "language_info": {
   "codemirror_mode": {
    "name": "ipython",
    "version": 3
   },
   "file_extension": ".py",
   "mimetype": "text/x-python",
   "name": "python",
   "nbconvert_exporter": "python",
   "pygments_lexer": "ipython3",
   "version": "3.8.8"
  }
 },
 "nbformat": 4,
 "nbformat_minor": 5
}
