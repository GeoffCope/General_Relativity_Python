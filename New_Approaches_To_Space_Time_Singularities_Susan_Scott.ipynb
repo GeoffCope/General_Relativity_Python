{
 "cells": [
  {
   "cell_type": "markdown",
   "id": "9e53241c",
   "metadata": {},
   "source": [
    "# New Approaches To Space Time Singularities by Susan Scott\n",
    "##  Geoff Cope\n",
    "##  Univeristy of Utah\n",
    "##  𐐏𐐭𐑌𐐲𐑂𐐲𐑉𐑅𐐮𐐻𐐨 𐐲𐑂 𐐏𐐭𐐻𐐫\n",
    "##  January 24, 2022"
   ]
  },
  {
   "cell_type": "markdown",
   "id": "017e3718",
   "metadata": {},
   "source": [
    "For now we just work with the Weyl metric given by equation 4.1 page 65 and will return to the others later.  Same metric is also equation 1.1 page 2 with same field equations. "
   ]
  },
  {
   "cell_type": "markdown",
   "id": "d4e514b4",
   "metadata": {},
   "source": [
    "https://digital.library.adelaide.edu.au/dspace/bitstream/2440/19586/2/02whole.pdf"
   ]
  },
  {
   "cell_type": "code",
   "execution_count": 1,
   "id": "2c982c49",
   "metadata": {},
   "outputs": [
    {
     "name": "stdout",
     "output_type": "stream",
     "text": [
      "IPython console for SymPy 1.9 (Python 3.8.8-64-bit) (ground types: gmpy)\n",
      "\n",
      "These commands were executed:\n",
      ">>> from __future__ import division\n",
      ">>> from sympy import *\n",
      ">>> x, y, z, t = symbols('x y z t')\n",
      ">>> k, m, n = symbols('k m n', integer=True)\n",
      ">>> f, g, h = symbols('f g h', cls=Function)\n",
      ">>> init_printing()\n",
      "\n",
      "Documentation can be found at https://docs.sympy.org/1.9/\n",
      "\n"
     ]
    }
   ],
   "source": [
    "from sympy import init_session\n",
    "init_session(use_latex=True)"
   ]
  },
  {
   "cell_type": "code",
   "execution_count": 2,
   "id": "f238b261",
   "metadata": {},
   "outputs": [],
   "source": [
    "import warnings\n",
    "import matplotlib.cbook\n",
    "warnings.filterwarnings(\"ignore\",category=matplotlib.cbook.mplDeprecation)"
   ]
  },
  {
   "cell_type": "code",
   "execution_count": 12,
   "id": "023adf68",
   "metadata": {},
   "outputs": [],
   "source": [
    "t,r,phi,z,dt,dr,dphi,dz = symbols('t r phi z dt dr dphi dz')"
   ]
  },
  {
   "cell_type": "code",
   "execution_count": 4,
   "id": "83cdf5a7",
   "metadata": {},
   "outputs": [
    {
     "data": {
      "image/png": "[encoded data removed]",
      "text/latex": [
       "$\\displaystyle \\lambda{\\left(r,z \\right)}$"
      ],
      "text/plain": [
       "λ(r, z)"
      ]
     },
     "execution_count": 4,
     "metadata": {},
     "output_type": "execute_result"
    }
   ],
   "source": [
    "Lambda = Function('lambda')(r,z)\n",
    "Lambda"
   ]
  },
  {
   "cell_type": "code",
   "execution_count": 5,
   "id": "f7f2615a",
   "metadata": {},
   "outputs": [
    {
     "data": {
      "image/png": "[encoded data removed]",
      "text/latex": [
       "$\\displaystyle \\nu{\\left(r,z \\right)}$"
      ],
      "text/plain": [
       "ν(r, z)"
      ]
     },
     "execution_count": 5,
     "metadata": {},
     "output_type": "execute_result"
    }
   ],
   "source": [
    "nu = Function('nu')(r,z)\n",
    "nu"
   ]
  },
  {
   "cell_type": "code",
   "execution_count": 6,
   "id": "993fe53d",
   "metadata": {},
   "outputs": [
    {
     "data": {
      "text/latex": [
       "$\\displaystyle \\left[\\begin{matrix}t\\\\r\\\\\\phi\\\\z\\end{matrix}\\right]$"
      ],
      "text/plain": [
       "⎡t⎤\n",
       "⎢ ⎥\n",
       "⎢r⎥\n",
       "⎢ ⎥\n",
       "⎢φ⎥\n",
       "⎢ ⎥\n",
       "⎣z⎦"
      ]
     },
     "execution_count": 6,
     "metadata": {},
     "output_type": "execute_result"
    }
   ],
   "source": [
    "variables = Matrix([t,r,phi,z])\n",
    "variables"
   ]
  },
  {
   "cell_type": "code",
   "execution_count": 13,
   "id": "65efe2be",
   "metadata": {},
   "outputs": [
    {
     "data": {
      "text/latex": [
       "$\\displaystyle \\left[\\begin{matrix}dt\\\\dr\\\\dphi\\\\dz\\end{matrix}\\right]$"
      ],
      "text/plain": [
       "⎡ dt ⎤\n",
       "⎢    ⎥\n",
       "⎢ dr ⎥\n",
       "⎢    ⎥\n",
       "⎢dphi⎥\n",
       "⎢    ⎥\n",
       "⎣ dz ⎦"
      ]
     },
     "execution_count": 13,
     "metadata": {},
     "output_type": "execute_result"
    }
   ],
   "source": [
    "differentials = Matrix([dt,dr,dphi,dz])\n",
    "differentials "
   ]
  },
  {
   "cell_type": "code",
   "execution_count": 14,
   "id": "4bd7ac45",
   "metadata": {},
   "outputs": [
    {
     "data": {
      "image/png": "[encoded data removed]",
      "text/latex": [
       "$\\displaystyle dphi^{2} r^{2} e^{- 2 \\lambda{\\left(r,z \\right)}} + dr^{2} e^{- 2 \\lambda{\\left(r,z \\right)}} e^{2 \\nu{\\left(r,z \\right)}} - dt^{2} e^{2 \\lambda{\\left(r,z \\right)}} + dz^{2} e^{- 2 \\lambda{\\left(r,z \\right)}} e^{2 \\nu{\\left(r,z \\right)}}$"
      ],
      "text/plain": [
       "    2  2  -2⋅λ(r, z)     2  -2⋅λ(r, z)  2⋅ν(r, z)     2  2⋅λ(r, z)     2  -2⋅λ(r, z)  2⋅ν(r,\n",
       "dphi ⋅r ⋅ℯ           + dr ⋅ℯ          ⋅ℯ          - dt ⋅ℯ          + dz ⋅ℯ          ⋅ℯ      \n",
       "\n",
       " z)\n",
       "   "
      ]
     },
     "execution_count": 14,
     "metadata": {},
     "output_type": "execute_result"
    }
   ],
   "source": [
    "lineElement = expand( -exp(2*Lambda)*dt**2 + exp(2*(nu-Lambda))*(dr**2 + dz**2)+r**2 * exp(-2*Lambda)*dphi**2 ) \n",
    "lineElement"
   ]
  },
  {
   "cell_type": "code",
   "execution_count": 15,
   "id": "e266eb6b",
   "metadata": {},
   "outputs": [
    {
     "data": {
      "text/latex": [
       "$\\displaystyle \\left[\\begin{matrix}- e^{2 \\lambda{\\left(r,z \\right)}} & 0 & 0 & 0\\\\0 & e^{- 2 \\lambda{\\left(r,z \\right)}} e^{2 \\nu{\\left(r,z \\right)}} & 0 & 0\\\\0 & 0 & r^{2} e^{- 2 \\lambda{\\left(r,z \\right)}} & 0\\\\0 & 0 & 0 & e^{- 2 \\lambda{\\left(r,z \\right)}} e^{2 \\nu{\\left(r,z \\right)}}\\end{matrix}\\right]$"
      ],
      "text/plain": [
       "⎡  2⋅λ(r, z)                                                                ⎤\n",
       "⎢-ℯ                     0                   0                   0           ⎥\n",
       "⎢                                                                           ⎥\n",
       "⎢              -2⋅λ(r, z)  2⋅ν(r, z)                                        ⎥\n",
       "⎢     0       ℯ          ⋅ℯ                 0                   0           ⎥\n",
       "⎢                                                                           ⎥\n",
       "⎢                                      2  -2⋅λ(r, z)                        ⎥\n",
       "⎢     0                 0             r ⋅ℯ                      0           ⎥\n",
       "⎢                                                                           ⎥\n",
       "⎢                                                      -2⋅λ(r, z)  2⋅ν(r, z)⎥\n",
       "⎣     0                 0                   0         ℯ          ⋅ℯ         ⎦"
      ]
     },
     "execution_count": 15,
     "metadata": {},
     "output_type": "execute_result"
    }
   ],
   "source": [
    "g = zeros(4)\n",
    "\n",
    "for i in range(4):\n",
    "    for j in range(4):\n",
    "        if i == j:\n",
    "            g[i,j] = lineElement.coeff( differentials[i],2 ) \n",
    "        else:\n",
    "            g[i,j] = Rational(1,2)*lineElement.coeff( differentials[i]*differentials[j],1 )\n",
    "            \n",
    "g"
   ]
  },
  {
   "cell_type": "code",
   "execution_count": 16,
   "id": "d33896d3",
   "metadata": {},
   "outputs": [],
   "source": [
    "import sympy"
   ]
  },
  {
   "cell_type": "code",
   "execution_count": 17,
   "id": "bc73282d",
   "metadata": {},
   "outputs": [
    {
     "data": {
      "text/latex": [
       "$\\displaystyle \\left[\\begin{matrix}- e^{2 \\lambda{\\left(r,z \\right)}} & 0 & 0 & 0\\\\0 & e^{- 2 \\lambda{\\left(r,z \\right)}} e^{2 \\nu{\\left(r,z \\right)}} & 0 & 0\\\\0 & 0 & r^{2} e^{- 2 \\lambda{\\left(r,z \\right)}} & 0\\\\0 & 0 & 0 & e^{- 2 \\lambda{\\left(r,z \\right)}} e^{2 \\nu{\\left(r,z \\right)}}\\end{matrix}\\right]$"
      ],
      "text/plain": [
       "⎡  2⋅λ(r, z)                                                                ⎤\n",
       "⎢-ℯ                     0                   0                   0           ⎥\n",
       "⎢                                                                           ⎥\n",
       "⎢              -2⋅λ(r, z)  2⋅ν(r, z)                                        ⎥\n",
       "⎢     0       ℯ          ⋅ℯ                 0                   0           ⎥\n",
       "⎢                                                                           ⎥\n",
       "⎢                                      2  -2⋅λ(r, z)                        ⎥\n",
       "⎢     0                 0             r ⋅ℯ                      0           ⎥\n",
       "⎢                                                                           ⎥\n",
       "⎢                                                      -2⋅λ(r, z)  2⋅ν(r, z)⎥\n",
       "⎣     0                 0                   0         ℯ          ⋅ℯ         ⎦"
      ]
     },
     "execution_count": 17,
     "metadata": {},
     "output_type": "execute_result"
    }
   ],
   "source": [
    "m = sympy.Array(g)\n",
    "m"
   ]
  },
  {
   "cell_type": "code",
   "execution_count": 18,
   "id": "7c7c990c",
   "metadata": {},
   "outputs": [],
   "source": [
    "from einsteinpy.symbolic import *"
   ]
  },
  {
   "cell_type": "code",
   "execution_count": 19,
   "id": "03b84d03",
   "metadata": {},
   "outputs": [],
   "source": [
    "syms = sympy.symbols(\"t r phi z\")\n",
    "t,r,phi,z = syms"
   ]
  },
  {
   "cell_type": "code",
   "execution_count": 20,
   "id": "153f3da6",
   "metadata": {},
   "outputs": [],
   "source": [
    "metric = MetricTensor(m,syms)"
   ]
  },
  {
   "cell_type": "code",
   "execution_count": 21,
   "id": "c21df9ed",
   "metadata": {},
   "outputs": [
    {
     "data": {
      "text/latex": [
       "$\\displaystyle \\left[\\begin{matrix}\\left[\\begin{matrix}0 & \\frac{\\partial}{\\partial r} \\lambda{\\left(r,z \\right)} & 0 & \\frac{\\partial}{\\partial z} \\lambda{\\left(r,z \\right)}\\\\\\frac{\\partial}{\\partial r} \\lambda{\\left(r,z \\right)} & 0 & 0 & 0\\\\0 & 0 & 0 & 0\\\\\\frac{\\partial}{\\partial z} \\lambda{\\left(r,z \\right)} & 0 & 0 & 0\\end{matrix}\\right] & \\left[\\begin{matrix}e^{4 \\lambda{\\left(r,z \\right)} - 2 \\nu{\\left(r,z \\right)}} \\frac{\\partial}{\\partial r} \\lambda{\\left(r,z \\right)} & 0 & 0 & 0\\\\0 & - \\frac{\\partial}{\\partial r} \\lambda{\\left(r,z \\right)} + \\frac{\\partial}{\\partial r} \\nu{\\left(r,z \\right)} & 0 & - \\frac{\\partial}{\\partial z} \\lambda{\\left(r,z \\right)} + \\frac{\\partial}{\\partial z} \\nu{\\left(r,z \\right)}\\\\0 & 0 & r \\left(r \\frac{\\partial}{\\partial r} \\lambda{\\left(r,z \\right)} - 1\\right) e^{- 2 \\nu{\\left(r,z \\right)}} & 0\\\\0 & - \\frac{\\partial}{\\partial z} \\lambda{\\left(r,z \\right)} + \\frac{\\partial}{\\partial z} \\nu{\\left(r,z \\right)} & 0 & \\frac{\\partial}{\\partial r} \\lambda{\\left(r,z \\right)} - \\frac{\\partial}{\\partial r} \\nu{\\left(r,z \\right)}\\end{matrix}\\right] & \\left[\\begin{matrix}0 & 0 & 0 & 0\\\\0 & 0 & - \\frac{\\partial}{\\partial r} \\lambda{\\left(r,z \\right)} + \\frac{1}{r} & 0\\\\0 & - \\frac{\\partial}{\\partial r} \\lambda{\\left(r,z \\right)} + \\frac{1}{r} & 0 & - \\frac{\\partial}{\\partial z} \\lambda{\\left(r,z \\right)}\\\\0 & 0 & - \\frac{\\partial}{\\partial z} \\lambda{\\left(r,z \\right)} & 0\\end{matrix}\\right] & \\left[\\begin{matrix}e^{4 \\lambda{\\left(r,z \\right)} - 2 \\nu{\\left(r,z \\right)}} \\frac{\\partial}{\\partial z} \\lambda{\\left(r,z \\right)} & 0 & 0 & 0\\\\0 & \\frac{\\partial}{\\partial z} \\lambda{\\left(r,z \\right)} - \\frac{\\partial}{\\partial z} \\nu{\\left(r,z \\right)} & 0 & - \\frac{\\partial}{\\partial r} \\lambda{\\left(r,z \\right)} + \\frac{\\partial}{\\partial r} \\nu{\\left(r,z \\right)}\\\\0 & 0 & r^{2} e^{- 2 \\nu{\\left(r,z \\right)}} \\frac{\\partial}{\\partial z} \\lambda{\\left(r,z \\right)} & 0\\\\0 & - \\frac{\\partial}{\\partial r} \\lambda{\\left(r,z \\right)} + \\frac{\\partial}{\\partial r} \\nu{\\left(r,z \\right)} & 0 & - \\frac{\\partial}{\\partial z} \\lambda{\\left(r,z \\right)} + \\frac{\\partial}{\\partial z} \\nu{\\left(r,z \\right)}\\end{matrix}\\right]\\end{matrix}\\right]$"
      ],
      "text/plain": [
       "⎡                                            ⎡ 4⋅λ(r, z) - 2⋅ν(r, z) ∂                      \n",
       "⎢⎡             ∂               ∂          ⎤  ⎢ℯ                     ⋅──(λ(r, z))            \n",
       "⎢⎢     0       ──(λ(r, z))  0  ──(λ(r, z))⎥  ⎢                       ∂r                     \n",
       "⎢⎢             ∂r              ∂z         ⎥  ⎢                                              \n",
       "⎢⎢                                        ⎥  ⎢                                      ∂       \n",
       "⎢⎢∂                                       ⎥  ⎢                0                   - ──(λ(r, \n",
       "⎢⎢──(λ(r, z))       0       0       0     ⎥  ⎢                                      ∂r      \n",
       "⎢⎢∂r                                      ⎥  ⎢                                              \n",
       "⎢⎢                                        ⎥  ⎢                                              \n",
       "⎢⎢     0            0       0       0     ⎥  ⎢                0                             \n",
       "⎢⎢                                        ⎥  ⎢                                              \n",
       "⎢⎢∂                                       ⎥  ⎢                                              \n",
       "⎢⎢──(λ(r, z))       0       0       0     ⎥  ⎢                                      ∂       \n",
       "⎢⎣∂z                                      ⎦  ⎢                0                   - ──(λ(r, \n",
       "⎣                                            ⎣                                      ∂z      \n",
       "\n",
       "                                                                                 ⎤          \n",
       "   0                               0                               0             ⎥  ⎡0      \n",
       "                                                                                 ⎥  ⎢       \n",
       "                                                                                 ⎥  ⎢       \n",
       "      ∂                                                 ∂             ∂          ⎥  ⎢0      \n",
       "z)) + ──(ν(r, z))                  0                  - ──(λ(r, z)) + ──(ν(r, z))⎥  ⎢       \n",
       "      ∂r                                                ∂z            ∂z         ⎥  ⎢       \n",
       "                                                                                 ⎥  ⎢     ∂ \n",
       "                     ⎛  ∂              ⎞  -2⋅ν(r, z)                             ⎥  ⎢0  - ──\n",
       "   0               r⋅⎜r⋅──(λ(r, z)) - 1⎟⋅ℯ                         0             ⎥  ⎢     ∂r\n",
       "                     ⎝  ∂r             ⎠                                         ⎥  ⎢       \n",
       "                                                                                 ⎥  ⎢       \n",
       "      ∂                                                ∂             ∂           ⎥  ⎢0      \n",
       "z)) + ──(ν(r, z))                  0                   ──(λ(r, z)) - ──(ν(r, z)) ⎥  ⎣       \n",
       "      ∂z                                               ∂r            ∂r          ⎦          \n",
       "\n",
       "                                                 ⎡ 4⋅λ(r, z) - 2⋅ν(r, z) ∂                  \n",
       "    0                  0               0      ⎤  ⎢ℯ                     ⋅──(λ(r, z))        \n",
       "                                              ⎥  ⎢                       ∂z                 \n",
       "                 ∂             1              ⎥  ⎢                                          \n",
       "    0          - ──(λ(r, z)) + ─       0      ⎥  ⎢                                     ∂    \n",
       "                 ∂r            r              ⎥  ⎢                0                    ──(λ(\n",
       "                                              ⎥  ⎢                                     ∂z   \n",
       "            1                      ∂          ⎥  ⎢                                          \n",
       "(λ(r, z)) + ─          0          -──(λ(r, z))⎥  ⎢                                          \n",
       "            r                      ∂z         ⎥  ⎢                0                         \n",
       "                                              ⎥  ⎢                                          \n",
       "                  ∂                           ⎥  ⎢                                          \n",
       "    0            -──(λ(r, z))          0      ⎥  ⎢                                      ∂   \n",
       "                  ∂z                          ⎦  ⎢                0                   - ──(λ\n",
       "                                                 ⎣                                      ∂r  \n",
       "\n",
       "                                                                              ⎤⎤\n",
       "       0                           0                            0             ⎥⎥\n",
       "                                                                              ⎥⎥\n",
       "                                                                              ⎥⎥\n",
       "         ∂                                           ∂             ∂          ⎥⎥\n",
       "r, z)) - ──(ν(r, z))               0               - ──(λ(r, z)) + ──(ν(r, z))⎥⎥\n",
       "         ∂z                                          ∂r            ∂r         ⎥⎥\n",
       "                                                                              ⎥⎥\n",
       "                        2  -2⋅ν(r, z) ∂                                       ⎥⎥\n",
       "       0               r ⋅ℯ          ⋅──(λ(r, z))               0             ⎥⎥\n",
       "                                      ∂z                                      ⎥⎥\n",
       "                                                                              ⎥⎥\n",
       "          ∂                                          ∂             ∂          ⎥⎥\n",
       "(r, z)) + ──(ν(r, z))              0               - ──(λ(r, z)) + ──(ν(r, z))⎥⎥\n",
       "          ∂r                                         ∂z            ∂z         ⎦⎦"
      ]
     },
     "execution_count": 21,
     "metadata": {},
     "output_type": "execute_result"
    }
   ],
   "source": [
    "ch = ChristoffelSymbols.from_metric(metric)\n",
    "simplify(ch.tensor())"
   ]
  },
  {
   "cell_type": "code",
   "execution_count": 22,
   "id": "b82fc54a",
   "metadata": {},
   "outputs": [
    {
     "data": {
      "text/latex": [
       "$\\displaystyle \\left[\\begin{matrix}\\frac{\\left(r \\frac{\\partial^{2}}{\\partial r^{2}} \\lambda{\\left(r,z \\right)} + r \\frac{\\partial^{2}}{\\partial z^{2}} \\lambda{\\left(r,z \\right)} + \\frac{\\partial}{\\partial r} \\lambda{\\left(r,z \\right)}\\right) e^{4 \\lambda{\\left(r,z \\right)} - 2 \\nu{\\left(r,z \\right)}}}{r} & 0 & 0 & 0\\\\0 & \\frac{r \\left(- 2 \\left(\\frac{\\partial}{\\partial r} \\lambda{\\left(r,z \\right)}\\right)^{2} + \\frac{\\partial^{2}}{\\partial r^{2}} \\lambda{\\left(r,z \\right)} + \\frac{\\partial^{2}}{\\partial z^{2}} \\lambda{\\left(r,z \\right)} - \\frac{\\partial^{2}}{\\partial r^{2}} \\nu{\\left(r,z \\right)} - \\frac{\\partial^{2}}{\\partial z^{2}} \\nu{\\left(r,z \\right)}\\right) + \\frac{\\partial}{\\partial r} \\lambda{\\left(r,z \\right)} + \\frac{\\partial}{\\partial r} \\nu{\\left(r,z \\right)}}{r} & 0 & - 2 \\frac{\\partial}{\\partial r} \\lambda{\\left(r,z \\right)} \\frac{\\partial}{\\partial z} \\lambda{\\left(r,z \\right)} + \\frac{\\frac{\\partial}{\\partial z} \\nu{\\left(r,z \\right)}}{r}\\\\0 & 0 & r \\left(r \\frac{\\partial^{2}}{\\partial r^{2}} \\lambda{\\left(r,z \\right)} + r \\frac{\\partial^{2}}{\\partial z^{2}} \\lambda{\\left(r,z \\right)} + \\frac{\\partial}{\\partial r} \\lambda{\\left(r,z \\right)}\\right) e^{- 2 \\nu{\\left(r,z \\right)}} & 0\\\\0 & - 2 \\frac{\\partial}{\\partial r} \\lambda{\\left(r,z \\right)} \\frac{\\partial}{\\partial z} \\lambda{\\left(r,z \\right)} + \\frac{\\frac{\\partial}{\\partial z} \\nu{\\left(r,z \\right)}}{r} & 0 & \\frac{r \\left(\\frac{\\partial^{2}}{\\partial r^{2}} \\lambda{\\left(r,z \\right)} - 2 \\left(\\frac{\\partial}{\\partial z} \\lambda{\\left(r,z \\right)}\\right)^{2} + \\frac{\\partial^{2}}{\\partial z^{2}} \\lambda{\\left(r,z \\right)} - \\frac{\\partial^{2}}{\\partial r^{2}} \\nu{\\left(r,z \\right)} - \\frac{\\partial^{2}}{\\partial z^{2}} \\nu{\\left(r,z \\right)}\\right) + \\frac{\\partial}{\\partial r} \\lambda{\\left(r,z \\right)} - \\frac{\\partial}{\\partial r} \\nu{\\left(r,z \\right)}}{r}\\end{matrix}\\right]$"
      ],
      "text/plain": [
       "⎡⎛    2                2                       ⎞                                            \n",
       "⎢⎜   ∂                ∂             ∂          ⎟  4⋅λ(r, z) - 2⋅ν(r, z)                     \n",
       "⎢⎜r⋅───(λ(r, z)) + r⋅───(λ(r, z)) + ──(λ(r, z))⎟⋅ℯ                                          \n",
       "⎢⎜    2                2            ∂r         ⎟                                            \n",
       "⎢⎝  ∂r               ∂z                        ⎠                                            \n",
       "⎢──────────────────────────────────────────────────────────────────────                     \n",
       "⎢                                  r                                                        \n",
       "⎢                                                                                           \n",
       "⎢                                                                          ⎛                \n",
       "⎢                                                                          ⎜    ⎛∂          \n",
       "⎢                                                                        r⋅⎜- 2⋅⎜──(λ(r, z))\n",
       "⎢                                                                          ⎜    ⎝∂r         \n",
       "⎢                                                                          ⎝                \n",
       "⎢                                  0                                     ───────────────────\n",
       "⎢                                                                                           \n",
       "⎢                                                                                           \n",
       "⎢                                                                                           \n",
       "⎢                                                                                           \n",
       "⎢                                  0                                                        \n",
       "⎢                                                                                           \n",
       "⎢                                                                                           \n",
       "⎢                                                                                           \n",
       "⎢                                                                                           \n",
       "⎢                                                                                           \n",
       "⎢                                                                                           \n",
       "⎢                                                                                           \n",
       "⎢                                                                                           \n",
       "⎢                                  0                                                        \n",
       "⎣                                                                                           \n",
       "\n",
       "                                                                                            \n",
       "                                                                                            \n",
       "                                                                                            \n",
       "                                                                                            \n",
       "                                                                                            \n",
       "                                   0                                                        \n",
       "                                                                                            \n",
       "                                                                                            \n",
       " 2     2              2              2              2         ⎞                             \n",
       "⎞     ∂              ∂              ∂              ∂          ⎟   ∂             ∂           \n",
       "⎟  + ───(λ(r, z)) + ───(λ(r, z)) - ───(ν(r, z)) - ───(ν(r, z))⎟ + ──(λ(r, z)) + ──(ν(r, z)) \n",
       "⎠      2              2              2              2         ⎟   ∂r            ∂r          \n",
       "     ∂r             ∂z             ∂r             ∂z          ⎠                             \n",
       "─────────────────────────────────────────────────────────────────────────────────────────── \n",
       "                                   r                                                        \n",
       "                                                                                            \n",
       "                                                                                            \n",
       "                                                                                            \n",
       "                                   0                                                        \n",
       "                                                                                            \n",
       "                                                                                            \n",
       "                                                                                            \n",
       "                                                                                            \n",
       "                                                                                            \n",
       "                                             ∂                                              \n",
       "                                             ──(ν(r, z))                                    \n",
       "                   ∂           ∂             ∂z                                             \n",
       "               - 2⋅──(λ(r, z))⋅──(λ(r, z)) + ───────────                                    \n",
       "                   ∂r          ∂z                 r                                         \n",
       "\n",
       "                                                                                            \n",
       "                                                                                            \n",
       "                                                                                            \n",
       "                                                                                            \n",
       "                                                                                            \n",
       "                               0                                                            \n",
       "                                                                                            \n",
       "                                                                                            \n",
       "                                                                                            \n",
       "                                                                                            \n",
       "                                                                                            \n",
       "                                                                                            \n",
       "                                                                                            \n",
       "                               0                                                            \n",
       "                                                                                            \n",
       "                                                                                            \n",
       "   ⎛    2                2                       ⎞                                          \n",
       "   ⎜   ∂                ∂             ∂          ⎟  -2⋅ν(r, z)                              \n",
       " r⋅⎜r⋅───(λ(r, z)) + r⋅───(λ(r, z)) + ──(λ(r, z))⎟⋅ℯ                                        \n",
       "   ⎜    2                2            ∂r         ⎟                                          \n",
       "   ⎝  ∂r               ∂z                        ⎠                                          \n",
       "                                                                                            \n",
       "                                                                  ⎛  2                      \n",
       "                                                                  ⎜ ∂               ⎛∂      \n",
       "                                                                r⋅⎜───(λ(r, z)) - 2⋅⎜──(λ(r,\n",
       "                                                                  ⎜  2              ⎝∂z     \n",
       "                                                                  ⎝∂r                       \n",
       "                               0                                ────────────────────────────\n",
       "                                                                                            \n",
       "\n",
       "                                                                                ⎤\n",
       "                                                                                ⎥\n",
       "                                                                                ⎥\n",
       "                                                                                ⎥\n",
       "                                                                                ⎥\n",
       "                         0                                                      ⎥\n",
       "                                                                                ⎥\n",
       "                                                                                ⎥\n",
       "                                                                                ⎥\n",
       "                                                                                ⎥\n",
       "                                   ∂                                            ⎥\n",
       "                                   ──(ν(r, z))                                  ⎥\n",
       "         ∂           ∂             ∂z                                           ⎥\n",
       "     - 2⋅──(λ(r, z))⋅──(λ(r, z)) + ───────────                                  ⎥\n",
       "         ∂r          ∂z                 r                                       ⎥\n",
       "                                                                                ⎥\n",
       "                                                                                ⎥\n",
       "                                                                                ⎥\n",
       "                         0                                                      ⎥\n",
       "                                                                                ⎥\n",
       "                                                                                ⎥\n",
       "                                                                                ⎥\n",
       "     2     2              2              2         ⎞                            ⎥\n",
       "    ⎞     ∂              ∂              ∂          ⎟   ∂             ∂          ⎥\n",
       " z))⎟  + ───(λ(r, z)) - ───(ν(r, z)) - ───(ν(r, z))⎟ + ──(λ(r, z)) - ──(ν(r, z))⎥\n",
       "    ⎠      2              2              2         ⎟   ∂r            ∂r         ⎥\n",
       "         ∂z             ∂r             ∂z          ⎠                            ⎥\n",
       "────────────────────────────────────────────────────────────────────────────────⎥\n",
       "                         r                                                      ⎦"
      ]
     },
     "execution_count": 22,
     "metadata": {},
     "output_type": "execute_result"
    }
   ],
   "source": [
    "Ric = RicciTensor.from_metric(metric)\n",
    "Ric.tensor()"
   ]
  },
  {
   "cell_type": "code",
   "execution_count": 23,
   "id": "880adc11",
   "metadata": {},
   "outputs": [
    {
     "data": {
      "image/png": "[encoded data removed]",
      "text/latex": [
       "$\\displaystyle \\frac{2 \\left(- r \\left(\\frac{\\partial}{\\partial r} \\lambda{\\left(r,z \\right)}\\right)^{2} + r \\frac{\\partial^{2}}{\\partial r^{2}} \\lambda{\\left(r,z \\right)} - r \\left(\\frac{\\partial}{\\partial z} \\lambda{\\left(r,z \\right)}\\right)^{2} + r \\frac{\\partial^{2}}{\\partial z^{2}} \\lambda{\\left(r,z \\right)} - r \\frac{\\partial^{2}}{\\partial r^{2}} \\nu{\\left(r,z \\right)} - r \\frac{\\partial^{2}}{\\partial z^{2}} \\nu{\\left(r,z \\right)} + \\frac{\\partial}{\\partial r} \\lambda{\\left(r,z \\right)}\\right) e^{2 \\lambda{\\left(r,z \\right)} - 2 \\nu{\\left(r,z \\right)}}}{r}$"
      ],
      "text/plain": [
       "  ⎛                 2       2                           2       2                2          \n",
       "  ⎜    ⎛∂          ⎞       ∂               ⎛∂          ⎞       ∂                ∂           \n",
       "2⋅⎜- r⋅⎜──(λ(r, z))⎟  + r⋅───(λ(r, z)) - r⋅⎜──(λ(r, z))⎟  + r⋅───(λ(r, z)) - r⋅───(ν(r, z)) \n",
       "  ⎜    ⎝∂r         ⎠        2              ⎝∂z         ⎠        2                2          \n",
       "  ⎝                       ∂r                                  ∂z               ∂r           \n",
       "────────────────────────────────────────────────────────────────────────────────────────────\n",
       "                                                                        r                   \n",
       "\n",
       "      2                       ⎞                       \n",
       "     ∂             ∂          ⎟  2⋅λ(r, z) - 2⋅ν(r, z)\n",
       "- r⋅───(ν(r, z)) + ──(λ(r, z))⎟⋅ℯ                     \n",
       "      2            ∂r         ⎟                       \n",
       "    ∂z                        ⎠                       \n",
       "──────────────────────────────────────────────────────\n",
       "                                                      "
      ]
     },
     "execution_count": 23,
     "metadata": {},
     "output_type": "execute_result"
    }
   ],
   "source": [
    "R = RicciScalar.from_riccitensor(Ric)\n",
    "R.simplify()\n",
    "R.expr"
   ]
  },
  {
   "cell_type": "code",
   "execution_count": 24,
   "id": "a40f6b33",
   "metadata": {},
   "outputs": [
    {
     "data": {
      "text/latex": [
       "$\\displaystyle \\left[\\begin{matrix}\\frac{\\left(r \\frac{\\partial^{2}}{\\partial r^{2}} \\lambda{\\left(r,z \\right)} + r \\frac{\\partial^{2}}{\\partial z^{2}} \\lambda{\\left(r,z \\right)} + \\frac{\\partial}{\\partial r} \\lambda{\\left(r,z \\right)}\\right) e^{4 \\lambda{\\left(r,z \\right)} - 2 \\nu{\\left(r,z \\right)}}}{r} + \\frac{1.0 \\left(- r \\left(\\frac{\\partial}{\\partial r} \\lambda{\\left(r,z \\right)}\\right)^{2} + r \\frac{\\partial^{2}}{\\partial r^{2}} \\lambda{\\left(r,z \\right)} - r \\left(\\frac{\\partial}{\\partial z} \\lambda{\\left(r,z \\right)}\\right)^{2} + r \\frac{\\partial^{2}}{\\partial z^{2}} \\lambda{\\left(r,z \\right)} - r \\frac{\\partial^{2}}{\\partial r^{2}} \\nu{\\left(r,z \\right)} - r \\frac{\\partial^{2}}{\\partial z^{2}} \\nu{\\left(r,z \\right)} + \\frac{\\partial}{\\partial r} \\lambda{\\left(r,z \\right)}\\right) e^{2 \\lambda{\\left(r,z \\right)} - 2 \\nu{\\left(r,z \\right)}} e^{2 \\lambda{\\left(r,z \\right)}}}{r} & 0 & 0 & 0\\\\0 & \\frac{r \\left(- 2 \\left(\\frac{\\partial}{\\partial r} \\lambda{\\left(r,z \\right)}\\right)^{2} + \\frac{\\partial^{2}}{\\partial r^{2}} \\lambda{\\left(r,z \\right)} + \\frac{\\partial^{2}}{\\partial z^{2}} \\lambda{\\left(r,z \\right)} - \\frac{\\partial^{2}}{\\partial r^{2}} \\nu{\\left(r,z \\right)} - \\frac{\\partial^{2}}{\\partial z^{2}} \\nu{\\left(r,z \\right)}\\right) + \\frac{\\partial}{\\partial r} \\lambda{\\left(r,z \\right)} + \\frac{\\partial}{\\partial r} \\nu{\\left(r,z \\right)}}{r} - \\frac{1.0 \\left(- r \\left(\\frac{\\partial}{\\partial r} \\lambda{\\left(r,z \\right)}\\right)^{2} + r \\frac{\\partial^{2}}{\\partial r^{2}} \\lambda{\\left(r,z \\right)} - r \\left(\\frac{\\partial}{\\partial z} \\lambda{\\left(r,z \\right)}\\right)^{2} + r \\frac{\\partial^{2}}{\\partial z^{2}} \\lambda{\\left(r,z \\right)} - r \\frac{\\partial^{2}}{\\partial r^{2}} \\nu{\\left(r,z \\right)} - r \\frac{\\partial^{2}}{\\partial z^{2}} \\nu{\\left(r,z \\right)} + \\frac{\\partial}{\\partial r} \\lambda{\\left(r,z \\right)}\\right) e^{2 \\lambda{\\left(r,z \\right)} - 2 \\nu{\\left(r,z \\right)}} e^{- 2 \\lambda{\\left(r,z \\right)}} e^{2 \\nu{\\left(r,z \\right)}}}{r} & 0 & - 2 \\frac{\\partial}{\\partial r} \\lambda{\\left(r,z \\right)} \\frac{\\partial}{\\partial z} \\lambda{\\left(r,z \\right)} + \\frac{\\frac{\\partial}{\\partial z} \\nu{\\left(r,z \\right)}}{r}\\\\0 & 0 & r \\left(r \\frac{\\partial^{2}}{\\partial r^{2}} \\lambda{\\left(r,z \\right)} + r \\frac{\\partial^{2}}{\\partial z^{2}} \\lambda{\\left(r,z \\right)} + \\frac{\\partial}{\\partial r} \\lambda{\\left(r,z \\right)}\\right) e^{- 2 \\nu{\\left(r,z \\right)}} - 1.0 r \\left(- r \\left(\\frac{\\partial}{\\partial r} \\lambda{\\left(r,z \\right)}\\right)^{2} + r \\frac{\\partial^{2}}{\\partial r^{2}} \\lambda{\\left(r,z \\right)} - r \\left(\\frac{\\partial}{\\partial z} \\lambda{\\left(r,z \\right)}\\right)^{2} + r \\frac{\\partial^{2}}{\\partial z^{2}} \\lambda{\\left(r,z \\right)} - r \\frac{\\partial^{2}}{\\partial r^{2}} \\nu{\\left(r,z \\right)} - r \\frac{\\partial^{2}}{\\partial z^{2}} \\nu{\\left(r,z \\right)} + \\frac{\\partial}{\\partial r} \\lambda{\\left(r,z \\right)}\\right) e^{2 \\lambda{\\left(r,z \\right)} - 2 \\nu{\\left(r,z \\right)}} e^{- 2 \\lambda{\\left(r,z \\right)}} & 0\\\\0 & - 2 \\frac{\\partial}{\\partial r} \\lambda{\\left(r,z \\right)} \\frac{\\partial}{\\partial z} \\lambda{\\left(r,z \\right)} + \\frac{\\frac{\\partial}{\\partial z} \\nu{\\left(r,z \\right)}}{r} & 0 & \\frac{r \\left(\\frac{\\partial^{2}}{\\partial r^{2}} \\lambda{\\left(r,z \\right)} - 2 \\left(\\frac{\\partial}{\\partial z} \\lambda{\\left(r,z \\right)}\\right)^{2} + \\frac{\\partial^{2}}{\\partial z^{2}} \\lambda{\\left(r,z \\right)} - \\frac{\\partial^{2}}{\\partial r^{2}} \\nu{\\left(r,z \\right)} - \\frac{\\partial^{2}}{\\partial z^{2}} \\nu{\\left(r,z \\right)}\\right) + \\frac{\\partial}{\\partial r} \\lambda{\\left(r,z \\right)} - \\frac{\\partial}{\\partial r} \\nu{\\left(r,z \\right)}}{r} - \\frac{1.0 \\left(- r \\left(\\frac{\\partial}{\\partial r} \\lambda{\\left(r,z \\right)}\\right)^{2} + r \\frac{\\partial^{2}}{\\partial r^{2}} \\lambda{\\left(r,z \\right)} - r \\left(\\frac{\\partial}{\\partial z} \\lambda{\\left(r,z \\right)}\\right)^{2} + r \\frac{\\partial^{2}}{\\partial z^{2}} \\lambda{\\left(r,z \\right)} - r \\frac{\\partial^{2}}{\\partial r^{2}} \\nu{\\left(r,z \\right)} - r \\frac{\\partial^{2}}{\\partial z^{2}} \\nu{\\left(r,z \\right)} + \\frac{\\partial}{\\partial r} \\lambda{\\left(r,z \\right)}\\right) e^{2 \\lambda{\\left(r,z \\right)} - 2 \\nu{\\left(r,z \\right)}} e^{- 2 \\lambda{\\left(r,z \\right)}} e^{2 \\nu{\\left(r,z \\right)}}}{r}\\end{matrix}\\right]$"
      ],
      "text/plain": [
       "⎡⎛    2                2                       ⎞                              ⎛             \n",
       "⎢⎜   ∂                ∂             ∂          ⎟  4⋅λ(r, z) - 2⋅ν(r, z)       ⎜    ⎛∂       \n",
       "⎢⎜r⋅───(λ(r, z)) + r⋅───(λ(r, z)) + ──(λ(r, z))⎟⋅ℯ                        1.0⋅⎜- r⋅⎜──(λ(r, \n",
       "⎢⎜    2                2            ∂r         ⎟                              ⎜    ⎝∂r      \n",
       "⎢⎝  ∂r               ∂z                        ⎠                              ⎝             \n",
       "⎢────────────────────────────────────────────────────────────────────── + ──────────────────\n",
       "⎢                                  r                                                        \n",
       "⎢                                                                                           \n",
       "⎢                                                                                           \n",
       "⎢                                                                                           \n",
       "⎢                                                                                           \n",
       "⎢                                                                                           \n",
       "⎢                                                                                           \n",
       "⎢                                                                                           \n",
       "⎢                                                                                           \n",
       "⎢                                                                                           \n",
       "⎢                                                                                           \n",
       "⎢                                                                                           \n",
       "⎢                                                                                           \n",
       "⎢                                                                                           \n",
       "⎢                                                                                           \n",
       "⎢                                                                                           \n",
       "⎢                                                                                           \n",
       "⎢                                                                                           \n",
       "⎢                                                                                           \n",
       "⎢                                                                                           \n",
       "⎢                                                                                           \n",
       "⎢                                                                                           \n",
       "⎣                                                                                           \n",
       "\n",
       "    2       2                           2       2                2                2         \n",
       "   ⎞       ∂               ⎛∂          ⎞       ∂                ∂                ∂          \n",
       "z))⎟  + r⋅───(λ(r, z)) - r⋅⎜──(λ(r, z))⎟  + r⋅───(λ(r, z)) - r⋅───(ν(r, z)) - r⋅───(ν(r, z))\n",
       "   ⎠        2              ⎝∂z         ⎠        2                2                2         \n",
       "          ∂r                                  ∂z               ∂r               ∂z          \n",
       "────────────────────────────────────────────────────────────────────────────────────────────\n",
       "                                                             r                              \n",
       "                                                                                            \n",
       "                                                                                            \n",
       "                                                                                            \n",
       "                                                                                            \n",
       "                                                                                            \n",
       "                                                                                            \n",
       "                        0                                                                   \n",
       "                                                                                            \n",
       "                                                                                            \n",
       "                                                                                            \n",
       "                                                                                            \n",
       "                        0                                                                   \n",
       "                                                                                            \n",
       "                                                                                            \n",
       "                                                                                            \n",
       "                                                                                            \n",
       "                                                                                            \n",
       "                                                                                            \n",
       "                                                                                            \n",
       "                                                                                            \n",
       "                        0                                                                   \n",
       "                                                                                            \n",
       "\n",
       "              ⎞                                                                             \n",
       "   ∂          ⎟  2⋅λ(r, z) - 2⋅ν(r, z)  2⋅λ(r, z)                                           \n",
       " + ──(λ(r, z))⎟⋅ℯ                     ⋅ℯ                                                    \n",
       "   ∂r         ⎟                                                                             \n",
       "              ⎠                                                                             \n",
       "─────────────────────────────────────────────────                                           \n",
       "                                                                                            \n",
       "                                                                                            \n",
       "                                                     ⎛                 2     2              \n",
       "                                                     ⎜    ⎛∂          ⎞     ∂              ∂\n",
       "                                                   r⋅⎜- 2⋅⎜──(λ(r, z))⎟  + ───(λ(r, z)) + ──\n",
       "                                                     ⎜    ⎝∂r         ⎠      2              \n",
       "                                                     ⎝                     ∂r             ∂z\n",
       "                                                   ─────────────────────────────────────────\n",
       "                                                                                            \n",
       "                                                                                            \n",
       "                                                                                            \n",
       "                                                                                            \n",
       "                                                                                            \n",
       "                                                                                            \n",
       "                                                                                            \n",
       "                                                                                            \n",
       "                                                                                            \n",
       "                                                                                            \n",
       "                                                                                            \n",
       "                                                                                            \n",
       "                                                                                            \n",
       "                                                                                            \n",
       "                                                                                            \n",
       "\n",
       "                                                                                            \n",
       "                                                                                            \n",
       "                                                                                            \n",
       "                                                                                            \n",
       "                                                                                            \n",
       "                                                                                            \n",
       "                                                                                            \n",
       "                                                                                            \n",
       "2              2              2         ⎞                               ⎛                 2 \n",
       "              ∂              ∂          ⎟   ∂             ∂             ⎜    ⎛∂          ⎞  \n",
       "─(λ(r, z)) - ───(ν(r, z)) - ───(ν(r, z))⎟ + ──(λ(r, z)) + ──(ν(r, z))   ⎜- r⋅⎜──(λ(r, z))⎟  \n",
       "2              2              2         ⎟   ∂r            ∂r            ⎜    ⎝∂r         ⎠  \n",
       "             ∂r             ∂z          ⎠                               ⎝                   \n",
       "───────────────────────────────────────────────────────────────────── - ────────────────────\n",
       "             r                                                                              \n",
       "                                                                                            \n",
       "                                                                                            \n",
       "                                                                                            \n",
       "                                                                                            \n",
       "                                                                                            \n",
       "                                                                                            \n",
       "                                                                                            \n",
       "                                                                                            \n",
       "                                                                                            \n",
       "                                                                                            \n",
       "                                                                                            \n",
       "                                                                                  ∂         \n",
       "                                                                              - 2⋅──(λ(r, z)\n",
       "                                                                                  ∂r        \n",
       "\n",
       "                                                                                            \n",
       "                                                                                            \n",
       "                                                                                            \n",
       "                                                                                            \n",
       "                                                                                            \n",
       "      0                                                                                     \n",
       "                                                                                            \n",
       "                                                                                            \n",
       "      2                           2       2                2                2               \n",
       "     ∂               ⎛∂          ⎞       ∂                ∂                ∂             ∂  \n",
       "+ r⋅───(λ(r, z)) - r⋅⎜──(λ(r, z))⎟  + r⋅───(λ(r, z)) - r⋅───(ν(r, z)) - r⋅───(ν(r, z)) + ──(\n",
       "      2              ⎝∂z         ⎠        2                2                2            ∂r \n",
       "    ∂r                                  ∂z               ∂r               ∂z                \n",
       "────────────────────────────────────────────────────────────────────────────────────────────\n",
       "                                                               r                            \n",
       "                                                                                            \n",
       "                                                                                            \n",
       "                                                                                            \n",
       "      0                                                                                     \n",
       "                                                                                            \n",
       "                                                                                            \n",
       "                                                                                            \n",
       "                                                                                            \n",
       "                                                                                            \n",
       "                ∂                                                                           \n",
       "                ──(ν(r, z))                                                                 \n",
       "  ∂             ∂z                                                                          \n",
       ")⋅──(λ(r, z)) + ───────────                                                                 \n",
       "  ∂z                 r                                                                      \n",
       "\n",
       "                                                                                            \n",
       "                                                                                            \n",
       "                                                                                            \n",
       "                                                                                            \n",
       "                                                                                            \n",
       "                                                                                            \n",
       "                                                                                            \n",
       "                                                                                            \n",
       "        ⎞                                                                                   \n",
       "        ⎟  2⋅λ(r, z) - 2⋅ν(r, z)  -2⋅λ(r, z)  2⋅ν(r, z)                                     \n",
       "λ(r, z))⎟⋅ℯ                     ⋅ℯ          ⋅ℯ                                              \n",
       "        ⎟                                                                                   \n",
       "        ⎠                                                                                   \n",
       "───────────────────────────────────────────────────────                                     \n",
       "                                                                                            \n",
       "                                                                                            \n",
       "                                                           ⎛    2                2          \n",
       "                                                           ⎜   ∂                ∂           \n",
       "                                                         r⋅⎜r⋅───(λ(r, z)) + r⋅───(λ(r, z)) \n",
       "                                                           ⎜    2                2          \n",
       "                                                           ⎝  ∂r               ∂z           \n",
       "                                                                                            \n",
       "                                                                                            \n",
       "                                                                                            \n",
       "                                                                                            \n",
       "                                                                                            \n",
       "                                                                                            \n",
       "                                                                                            \n",
       "                                                                                            \n",
       "\n",
       "                                                                                            \n",
       "                                                                                            \n",
       "                                                                                            \n",
       "                                                                                            \n",
       "                                                                                            \n",
       "                                                                           0                \n",
       "                                                                                            \n",
       "                                                                                            \n",
       "                                                                                            \n",
       "                                                                                            \n",
       "                                                                                            \n",
       "                                                                                            \n",
       "                                                                                            \n",
       "                                                                           0                \n",
       "                                                                                            \n",
       "                                                                                            \n",
       "             ⎞                 ⎛                 2       2                           2      \n",
       "  ∂          ⎟  -2⋅ν(r, z)     ⎜    ⎛∂          ⎞       ∂               ⎛∂          ⎞       \n",
       "+ ──(λ(r, z))⎟⋅ℯ           - r⋅⎜- r⋅⎜──(λ(r, z))⎟  + r⋅───(λ(r, z)) - r⋅⎜──(λ(r, z))⎟  + r⋅─\n",
       "  ∂r         ⎟                 ⎜    ⎝∂r         ⎠        2              ⎝∂z         ⎠       \n",
       "             ⎠                 ⎝                       ∂r                                  ∂\n",
       "                                                                                            \n",
       "                                                                                            \n",
       "                                                                                            \n",
       "                                                                                            \n",
       "                                                                                            \n",
       "                                                                                            \n",
       "                                                                           0                \n",
       "                                                                                            \n",
       "\n",
       "                                                                                            \n",
       "                                                                                            \n",
       "                                                                                            \n",
       "                                                                                            \n",
       "                                                                                            \n",
       "                                                                                            \n",
       "                                                                                            \n",
       "                                                                                            \n",
       "                                                                                            \n",
       "                                                                                            \n",
       "                                                                                            \n",
       "                                                                                            \n",
       "                                                                                            \n",
       "                                                                                            \n",
       "                                                                                            \n",
       "                                                                                            \n",
       " 2                2                2                       ⎞                                \n",
       "∂                ∂                ∂             ∂          ⎟  2⋅λ(r, z) - 2⋅ν(r, z)  -2⋅λ(r,\n",
       "──(λ(r, z)) - r⋅───(ν(r, z)) - r⋅───(ν(r, z)) + ──(λ(r, z))⎟⋅ℯ                     ⋅ℯ       \n",
       " 2                2                2            ∂r         ⎟                                \n",
       "z               ∂r               ∂z                        ⎠                                \n",
       "                                                                                            \n",
       "                                                                                            \n",
       "                                                                                            \n",
       "                                                                                            \n",
       "                                                                                            \n",
       "                                                                                            \n",
       "                                                                                            \n",
       "                                                                                            \n",
       "\n",
       "                                                                                            \n",
       "                                                                                            \n",
       "                                                                                            \n",
       "                                                                                            \n",
       "                                                                                            \n",
       "                                                                                            \n",
       "                                                                                            \n",
       "                                                                                            \n",
       "                                                                                            \n",
       "                                                                                            \n",
       "                                                                                            \n",
       "                                                                                            \n",
       "                                                                                            \n",
       "                                                                                            \n",
       "                                                                                            \n",
       "                                                                                            \n",
       "                                                                                            \n",
       " z)                                                                                         \n",
       "                                                                                            \n",
       "                                                                                            \n",
       "                                                                                            \n",
       "                                                                                            \n",
       "       ⎛  2                           2     2              2              2         ⎞       \n",
       "       ⎜ ∂               ⎛∂          ⎞     ∂              ∂              ∂          ⎟   ∂   \n",
       "     r⋅⎜───(λ(r, z)) - 2⋅⎜──(λ(r, z))⎟  + ───(λ(r, z)) - ───(ν(r, z)) - ───(ν(r, z))⎟ + ──(λ\n",
       "       ⎜  2              ⎝∂z         ⎠      2              2              2         ⎟   ∂r  \n",
       "       ⎝∂r                                ∂z             ∂r             ∂z          ⎠       \n",
       "     ───────────────────────────────────────────────────────────────────────────────────────\n",
       "                                                          r                                 \n",
       "\n",
       "                                                                                            \n",
       "                                                                                            \n",
       "                                                                                            \n",
       "                                                                                            \n",
       "                                                                                            \n",
       "                                                   0                                        \n",
       "                                                                                            \n",
       "                                                                                            \n",
       "                                                                                            \n",
       "                                                                                            \n",
       "                                                             ∂                              \n",
       "                                                             ──(ν(r, z))                    \n",
       "                                   ∂           ∂             ∂z                             \n",
       "                               - 2⋅──(λ(r, z))⋅──(λ(r, z)) + ───────────                    \n",
       "                                   ∂r          ∂z                 r                         \n",
       "                                                                                            \n",
       "                                                                                            \n",
       "                                                                                            \n",
       "                                                   0                                        \n",
       "                                                                                            \n",
       "                                                                                            \n",
       "                                                                                            \n",
       "                        ⎛                 2       2                           2       2     \n",
       "          ∂             ⎜    ⎛∂          ⎞       ∂               ⎛∂          ⎞       ∂      \n",
       "(r, z)) - ──(ν(r, z))   ⎜- r⋅⎜──(λ(r, z))⎟  + r⋅───(λ(r, z)) - r⋅⎜──(λ(r, z))⎟  + r⋅───(λ(r,\n",
       "          ∂r            ⎜    ⎝∂r         ⎠        2              ⎝∂z         ⎠        2     \n",
       "                        ⎝                       ∂r                                  ∂z      \n",
       "───────────────────── - ────────────────────────────────────────────────────────────────────\n",
       "                                                                                            \n",
       "\n",
       "                                                                                            \n",
       "                                                                                            \n",
       "                                                                                            \n",
       "                                                                                            \n",
       "                                                                                            \n",
       "                                                                                            \n",
       "                                                                                            \n",
       "                                                                                            \n",
       "                                                                                            \n",
       "                                                                                            \n",
       "                                                                                            \n",
       "                                                                                            \n",
       "                                                                                            \n",
       "                                                                                            \n",
       "                                                                                            \n",
       "                                                                                            \n",
       "                                                                                            \n",
       "                                                                                            \n",
       "                                                                                            \n",
       "                                                                                            \n",
       "                                                                                            \n",
       "                                                                                            \n",
       "           2                2                       ⎞                                       \n",
       "          ∂                ∂             ∂          ⎟  2⋅λ(r, z) - 2⋅ν(r, z)  -2⋅λ(r, z)  2⋅\n",
       " z)) - r⋅───(ν(r, z)) - r⋅───(ν(r, z)) + ──(λ(r, z))⎟⋅ℯ                     ⋅ℯ          ⋅ℯ  \n",
       "           2                2            ∂r         ⎟                                       \n",
       "         ∂r               ∂z                        ⎠                                       \n",
       "────────────────────────────────────────────────────────────────────────────────────────────\n",
       "               r                                                                            \n",
       "\n",
       "       ⎤\n",
       "       ⎥\n",
       "       ⎥\n",
       "       ⎥\n",
       "       ⎥\n",
       "       ⎥\n",
       "       ⎥\n",
       "       ⎥\n",
       "       ⎥\n",
       "       ⎥\n",
       "       ⎥\n",
       "       ⎥\n",
       "       ⎥\n",
       "       ⎥\n",
       "       ⎥\n",
       "       ⎥\n",
       "       ⎥\n",
       "       ⎥\n",
       "       ⎥\n",
       "       ⎥\n",
       "       ⎥\n",
       "       ⎥\n",
       "       ⎥\n",
       "ν(r, z)⎥\n",
       "       ⎥\n",
       "       ⎥\n",
       "       ⎥\n",
       "───────⎥\n",
       "       ⎦"
      ]
     },
     "execution_count": 24,
     "metadata": {},
     "output_type": "execute_result"
    }
   ],
   "source": [
    "einst = EinsteinTensor.from_metric(metric)\n",
    "einst.tensor()"
   ]
  },
  {
   "cell_type": "code",
   "execution_count": 25,
   "id": "9c929507",
   "metadata": {},
   "outputs": [],
   "source": [
    "#  rm1 = RiemannCurvatureTensor.from_christoffels(ch)\n",
    "#  rm1.tensor()"
   ]
  },
  {
   "cell_type": "code",
   "execution_count": 26,
   "id": "735a7d5d",
   "metadata": {},
   "outputs": [],
   "source": [
    "#  weyl = WeylTensor.from_metric(metric)\n",
    "#  weyl.tensor()"
   ]
  },
  {
   "cell_type": "code",
   "execution_count": 27,
   "id": "e7406d07",
   "metadata": {},
   "outputs": [
    {
     "data": {
      "text/latex": [
       "$\\displaystyle \\left[\\begin{matrix}\\frac{\\left(r \\frac{\\partial^{2}}{\\partial r^{2}} \\lambda{\\left(r,z \\right)} + r \\frac{\\partial^{2}}{\\partial z^{2}} \\lambda{\\left(r,z \\right)} + \\frac{\\partial}{\\partial r} \\lambda{\\left(r,z \\right)}\\right) e^{4 \\lambda{\\left(r,z \\right)} - 2 \\nu{\\left(r,z \\right)}}}{r} & 0 & 0 & 0\\\\0 & \\frac{- r \\left(2 \\left(\\frac{\\partial}{\\partial r} \\lambda{\\left(r,z \\right)}\\right)^{2} - \\frac{\\partial^{2}}{\\partial r^{2}} \\lambda{\\left(r,z \\right)} - \\frac{\\partial^{2}}{\\partial z^{2}} \\lambda{\\left(r,z \\right)} + \\frac{\\partial^{2}}{\\partial r^{2}} \\nu{\\left(r,z \\right)} + \\frac{\\partial^{2}}{\\partial z^{2}} \\nu{\\left(r,z \\right)}\\right) + \\frac{\\partial}{\\partial r} \\lambda{\\left(r,z \\right)} + \\frac{\\partial}{\\partial r} \\nu{\\left(r,z \\right)}}{r} & 0 & - 2 \\frac{\\partial}{\\partial r} \\lambda{\\left(r,z \\right)} \\frac{\\partial}{\\partial z} \\lambda{\\left(r,z \\right)} + \\frac{\\frac{\\partial}{\\partial z} \\nu{\\left(r,z \\right)}}{r}\\\\0 & 0 & r \\left(r \\frac{\\partial^{2}}{\\partial r^{2}} \\lambda{\\left(r,z \\right)} + r \\frac{\\partial^{2}}{\\partial z^{2}} \\lambda{\\left(r,z \\right)} + \\frac{\\partial}{\\partial r} \\lambda{\\left(r,z \\right)}\\right) e^{- 2 \\nu{\\left(r,z \\right)}} & 0\\\\0 & - 2 \\frac{\\partial}{\\partial r} \\lambda{\\left(r,z \\right)} \\frac{\\partial}{\\partial z} \\lambda{\\left(r,z \\right)} + \\frac{\\frac{\\partial}{\\partial z} \\nu{\\left(r,z \\right)}}{r} & 0 & \\frac{- r \\left(- \\frac{\\partial^{2}}{\\partial r^{2}} \\lambda{\\left(r,z \\right)} + 2 \\left(\\frac{\\partial}{\\partial z} \\lambda{\\left(r,z \\right)}\\right)^{2} - \\frac{\\partial^{2}}{\\partial z^{2}} \\lambda{\\left(r,z \\right)} + \\frac{\\partial^{2}}{\\partial r^{2}} \\nu{\\left(r,z \\right)} + \\frac{\\partial^{2}}{\\partial z^{2}} \\nu{\\left(r,z \\right)}\\right) + \\frac{\\partial}{\\partial r} \\lambda{\\left(r,z \\right)} - \\frac{\\partial}{\\partial r} \\nu{\\left(r,z \\right)}}{r}\\end{matrix}\\right]$"
      ],
      "text/plain": [
       "⎡⎛    2                2                       ⎞                                            \n",
       "⎢⎜   ∂                ∂             ∂          ⎟  4⋅λ(r, z) - 2⋅ν(r, z)                     \n",
       "⎢⎜r⋅───(λ(r, z)) + r⋅───(λ(r, z)) + ──(λ(r, z))⎟⋅ℯ                                          \n",
       "⎢⎜    2                2            ∂r         ⎟                                            \n",
       "⎢⎝  ∂r               ∂z                        ⎠                                            \n",
       "⎢──────────────────────────────────────────────────────────────────────                     \n",
       "⎢                                  r                                                        \n",
       "⎢                                                                                           \n",
       "⎢                                                                            ⎛              \n",
       "⎢                                                                            ⎜  ⎛∂          \n",
       "⎢                                                                        - r⋅⎜2⋅⎜──(λ(r, z))\n",
       "⎢                                                                            ⎜  ⎝∂r         \n",
       "⎢                                                                            ⎝              \n",
       "⎢                                  0                                     ───────────────────\n",
       "⎢                                                                                           \n",
       "⎢                                                                                           \n",
       "⎢                                                                                           \n",
       "⎢                                                                                           \n",
       "⎢                                  0                                                        \n",
       "⎢                                                                                           \n",
       "⎢                                                                                           \n",
       "⎢                                                                                           \n",
       "⎢                                                                                           \n",
       "⎢                                                                                           \n",
       "⎢                                                                                           \n",
       "⎢                                                                                           \n",
       "⎢                                                                                           \n",
       "⎢                                  0                                                        \n",
       "⎣                                                                                           \n",
       "\n",
       "                                                                                            \n",
       "                                                                                            \n",
       "                                                                                            \n",
       "                                                                                            \n",
       "                                                                                            \n",
       "                                   0                                                        \n",
       "                                                                                            \n",
       "                                                                                            \n",
       " 2     2              2              2              2         ⎞                             \n",
       "⎞     ∂              ∂              ∂              ∂          ⎟   ∂             ∂           \n",
       "⎟  - ───(λ(r, z)) - ───(λ(r, z)) + ───(ν(r, z)) + ───(ν(r, z))⎟ + ──(λ(r, z)) + ──(ν(r, z)) \n",
       "⎠      2              2              2              2         ⎟   ∂r            ∂r          \n",
       "     ∂r             ∂z             ∂r             ∂z          ⎠                             \n",
       "─────────────────────────────────────────────────────────────────────────────────────────── \n",
       "                                   r                                                        \n",
       "                                                                                            \n",
       "                                                                                            \n",
       "                                                                                            \n",
       "                                   0                                                        \n",
       "                                                                                            \n",
       "                                                                                            \n",
       "                                                                                            \n",
       "                                                                                            \n",
       "                                                                                            \n",
       "                                             ∂                                              \n",
       "                                             ──(ν(r, z))                                    \n",
       "                   ∂           ∂             ∂z                                             \n",
       "               - 2⋅──(λ(r, z))⋅──(λ(r, z)) + ───────────                                    \n",
       "                   ∂r          ∂z                 r                                         \n",
       "\n",
       "                                                                                            \n",
       "                                                                                            \n",
       "                                                                                            \n",
       "                                                                                            \n",
       "                                                                                            \n",
       "                               0                                                            \n",
       "                                                                                            \n",
       "                                                                                            \n",
       "                                                                                            \n",
       "                                                                                            \n",
       "                                                                                            \n",
       "                                                                                            \n",
       "                                                                                            \n",
       "                               0                                                            \n",
       "                                                                                            \n",
       "                                                                                            \n",
       "   ⎛    2                2                       ⎞                                          \n",
       "   ⎜   ∂                ∂             ∂          ⎟  -2⋅ν(r, z)                              \n",
       " r⋅⎜r⋅───(λ(r, z)) + r⋅───(λ(r, z)) + ──(λ(r, z))⎟⋅ℯ                                        \n",
       "   ⎜    2                2            ∂r         ⎟                                          \n",
       "   ⎝  ∂r               ∂z                        ⎠                                          \n",
       "                                                                                            \n",
       "                                                                    ⎛    2                  \n",
       "                                                                    ⎜   ∂               ⎛∂  \n",
       "                                                                - r⋅⎜- ───(λ(r, z)) + 2⋅⎜──(\n",
       "                                                                    ⎜    2              ⎝∂z \n",
       "                                                                    ⎝  ∂r                   \n",
       "                               0                                ────────────────────────────\n",
       "                                                                                            \n",
       "\n",
       "                                                                                    ⎤\n",
       "                                                                                    ⎥\n",
       "                                                                                    ⎥\n",
       "                                                                                    ⎥\n",
       "                                                                                    ⎥\n",
       "                           0                                                        ⎥\n",
       "                                                                                    ⎥\n",
       "                                                                                    ⎥\n",
       "                                                                                    ⎥\n",
       "                                                                                    ⎥\n",
       "                                     ∂                                              ⎥\n",
       "                                     ──(ν(r, z))                                    ⎥\n",
       "           ∂           ∂             ∂z                                             ⎥\n",
       "       - 2⋅──(λ(r, z))⋅──(λ(r, z)) + ───────────                                    ⎥\n",
       "           ∂r          ∂z                 r                                         ⎥\n",
       "                                                                                    ⎥\n",
       "                                                                                    ⎥\n",
       "                                                                                    ⎥\n",
       "                           0                                                        ⎥\n",
       "                                                                                    ⎥\n",
       "                                                                                    ⎥\n",
       "                                                                                    ⎥\n",
       "         2     2              2              2         ⎞                            ⎥\n",
       "        ⎞     ∂              ∂              ∂          ⎟   ∂             ∂          ⎥\n",
       "λ(r, z))⎟  - ───(λ(r, z)) + ───(ν(r, z)) + ───(ν(r, z))⎟ + ──(λ(r, z)) - ──(ν(r, z))⎥\n",
       "        ⎠      2              2              2         ⎟   ∂r            ∂r         ⎥\n",
       "             ∂z             ∂r             ∂z          ⎠                            ⎥\n",
       "────────────────────────────────────────────────────────────────────────────────────⎥\n",
       "                           r                                                        ⎦"
      ]
     },
     "execution_count": 27,
     "metadata": {},
     "output_type": "execute_result"
    }
   ],
   "source": [
    "ricciSimplified = simplify(Ric.tensor())\n",
    "ricciSimplified"
   ]
  },
  {
   "cell_type": "code",
   "execution_count": 28,
   "id": "2c1121d5",
   "metadata": {
    "scrolled": true
   },
   "outputs": [
    {
     "data": {
      "text/latex": [
       "$\\displaystyle \\left[\\begin{matrix}\\frac{\\left(- 1.0 r \\left(\\frac{\\partial}{\\partial r} \\lambda{\\left(r,z \\right)}\\right)^{2} + 2.0 r \\frac{\\partial^{2}}{\\partial r^{2}} \\lambda{\\left(r,z \\right)} - 1.0 r \\left(\\frac{\\partial}{\\partial z} \\lambda{\\left(r,z \\right)}\\right)^{2} + 2.0 r \\frac{\\partial^{2}}{\\partial z^{2}} \\lambda{\\left(r,z \\right)} - 1.0 r \\frac{\\partial^{2}}{\\partial r^{2}} \\nu{\\left(r,z \\right)} - 1.0 r \\frac{\\partial^{2}}{\\partial z^{2}} \\nu{\\left(r,z \\right)} + 2.0 \\frac{\\partial}{\\partial r} \\lambda{\\left(r,z \\right)}\\right) e^{4 \\lambda{\\left(r,z \\right)} - 2 \\nu{\\left(r,z \\right)}}}{r} & 0 & 0 & 0\\\\0 & - 1.0 \\left(\\frac{\\partial}{\\partial r} \\lambda{\\left(r,z \\right)}\\right)^{2} + 1.0 \\left(\\frac{\\partial}{\\partial z} \\lambda{\\left(r,z \\right)}\\right)^{2} + \\frac{1.0 \\frac{\\partial}{\\partial r} \\nu{\\left(r,z \\right)}}{r} & 0 & - 2 \\frac{\\partial}{\\partial r} \\lambda{\\left(r,z \\right)} \\frac{\\partial}{\\partial z} \\lambda{\\left(r,z \\right)} + \\frac{\\frac{\\partial}{\\partial z} \\nu{\\left(r,z \\right)}}{r}\\\\0 & 0 & 1.0 r^{2} \\left(\\left(\\frac{\\partial}{\\partial r} \\lambda{\\left(r,z \\right)}\\right)^{2} + \\left(\\frac{\\partial}{\\partial z} \\lambda{\\left(r,z \\right)}\\right)^{2} + \\frac{\\partial^{2}}{\\partial r^{2}} \\nu{\\left(r,z \\right)} + \\frac{\\partial^{2}}{\\partial z^{2}} \\nu{\\left(r,z \\right)}\\right) e^{- 2 \\nu{\\left(r,z \\right)}} & 0\\\\0 & - 2 \\frac{\\partial}{\\partial r} \\lambda{\\left(r,z \\right)} \\frac{\\partial}{\\partial z} \\lambda{\\left(r,z \\right)} + \\frac{\\frac{\\partial}{\\partial z} \\nu{\\left(r,z \\right)}}{r} & 0 & 1.0 \\left(\\frac{\\partial}{\\partial r} \\lambda{\\left(r,z \\right)}\\right)^{2} - 1.0 \\left(\\frac{\\partial}{\\partial z} \\lambda{\\left(r,z \\right)}\\right)^{2} - \\frac{1.0 \\frac{\\partial}{\\partial r} \\nu{\\left(r,z \\right)}}{r}\\end{matrix}\\right]$"
      ],
      "text/plain": [
       "⎡⎛                 2           2                           2           2                2   \n",
       "⎢⎜    ⎛∂          ⎞           ∂               ⎛∂          ⎞           ∂                ∂    \n",
       "⎢⎜- r⋅⎜──(λ(r, z))⎟  + 2.0⋅r⋅───(λ(r, z)) - r⋅⎜──(λ(r, z))⎟  + 2.0⋅r⋅───(λ(r, z)) - r⋅───(ν(\n",
       "⎢⎜    ⎝∂r         ⎠            2              ⎝∂z         ⎠            2                2   \n",
       "⎢⎝                           ∂r                                      ∂z               ∂r    \n",
       "⎢───────────────────────────────────────────────────────────────────────────────────────────\n",
       "⎢                                                                             r             \n",
       "⎢                                                                                           \n",
       "⎢                                                                                           \n",
       "⎢                                                                                           \n",
       "⎢                                                                                           \n",
       "⎢                                                                             0             \n",
       "⎢                                                                                           \n",
       "⎢                                                                                           \n",
       "⎢                                                                                           \n",
       "⎢                                                                                           \n",
       "⎢                                                                             0             \n",
       "⎢                                                                                           \n",
       "⎢                                                                                           \n",
       "⎢                                                                                           \n",
       "⎢                                                                                           \n",
       "⎢                                                                                           \n",
       "⎢                                                                                           \n",
       "⎢                                                                             0             \n",
       "⎣                                                                                           \n",
       "\n",
       "             2                           ⎞                                                  \n",
       "            ∂                 ∂          ⎟  4⋅λ(r, z) - 2⋅ν(r, z)                           \n",
       "r, z)) - r⋅───(ν(r, z)) + 2.0⋅──(λ(r, z))⎟⋅ℯ                                                \n",
       "             2                ∂r         ⎟                                                  \n",
       "           ∂z                            ⎠                                                  \n",
       "─────────────────────────────────────────────────────────────────                           \n",
       "                                                                                            \n",
       "                                                                                            \n",
       "                                                                                            \n",
       "                                                                                  2         \n",
       "                                                                     ⎛∂          ⎞        ⎛∂\n",
       "                                                                   - ⎜──(λ(r, z))⎟  + 1.0⋅⎜─\n",
       "                                                                     ⎝∂r         ⎠        ⎝∂\n",
       "                                                                                            \n",
       "                                                                                            \n",
       "                                                                                            \n",
       "                                                                                            \n",
       "                                                                                            \n",
       "                                                                                            \n",
       "                                                                                            \n",
       "                                                                                            \n",
       "                                                                                            \n",
       "                                                                              ∂           ∂ \n",
       "                                                                          - 2⋅──(λ(r, z))⋅──\n",
       "                                                                              ∂r          ∂z\n",
       "\n",
       "                                                                                            \n",
       "                                                                                            \n",
       "                                                                                            \n",
       "                                                                                            \n",
       "                                                                                            \n",
       "  0                                                                     0                   \n",
       "                                                                                            \n",
       "                                                                                            \n",
       "                   ∂                                                                        \n",
       "           2   1.0⋅──(ν(r, z))                                                              \n",
       "          ⎞        ∂r                                                                       \n",
       "─(λ(r, z))⎟  + ───────────────                                          0                   \n",
       "z         ⎠           r                                                                     \n",
       "                                                                                            \n",
       "                                       ⎛             2                2     2              2\n",
       "                                     2 ⎜⎛∂          ⎞    ⎛∂          ⎞     ∂              ∂ \n",
       "  0                             1.0⋅r ⋅⎜⎜──(λ(r, z))⎟  + ⎜──(λ(r, z))⎟  + ───(ν(r, z)) + ───\n",
       "                                       ⎜⎝∂r         ⎠    ⎝∂z         ⎠      2              2\n",
       "                                       ⎝                                  ∂r             ∂z \n",
       "                                                                                            \n",
       "            ∂                                                                               \n",
       "            ──(ν(r, z))                                                                     \n",
       "            ∂z                                                                              \n",
       "(λ(r, z)) + ───────────                                                 0                   \n",
       "                 r                                                                          \n",
       "\n",
       "                                                                         ⎤\n",
       "                                                                         ⎥\n",
       "                                                                         ⎥\n",
       "                                                                         ⎥\n",
       "                                                                         ⎥\n",
       "                                                0                        ⎥\n",
       "                                                                         ⎥\n",
       "                                                                         ⎥\n",
       "                                                          ∂              ⎥\n",
       "                                                          ──(ν(r, z))    ⎥\n",
       "                                ∂           ∂             ∂z             ⎥\n",
       "                            - 2⋅──(λ(r, z))⋅──(λ(r, z)) + ───────────    ⎥\n",
       "                                ∂r          ∂z                 r         ⎥\n",
       "                                                                         ⎥\n",
       "         ⎞                                                               ⎥\n",
       "         ⎟  -2⋅ν(r, z)                                                   ⎥\n",
       "(ν(r, z))⎟⋅ℯ                                    0                        ⎥\n",
       "         ⎟                                                               ⎥\n",
       "         ⎠                                                               ⎥\n",
       "                                                                         ⎥\n",
       "                                                              ∂          ⎥\n",
       "                                         2                2   ──(ν(r, z))⎥\n",
       "                            ⎛∂          ⎞    ⎛∂          ⎞    ∂r         ⎥\n",
       "                        1.0⋅⎜──(λ(r, z))⎟  - ⎜──(λ(r, z))⎟  - ───────────⎥\n",
       "                            ⎝∂r         ⎠    ⎝∂z         ⎠         r     ⎦"
      ]
     },
     "execution_count": 28,
     "metadata": {},
     "output_type": "execute_result"
    }
   ],
   "source": [
    "einsteinSimplified = simplify(einst.tensor())\n",
    "einsteinSimplified"
   ]
  },
  {
   "cell_type": "code",
   "execution_count": 40,
   "id": "3924169a",
   "metadata": {},
   "outputs": [
    {
     "data": {
      "image/png": "[encoded data removed]",
      "text/latex": [
       "$\\displaystyle \\frac{\\partial^{2}}{\\partial r^{2}} \\lambda{\\left(r,z \\right)} + \\frac{\\partial^{2}}{\\partial z^{2}} \\lambda{\\left(r,z \\right)} + \\frac{\\frac{\\partial}{\\partial r} \\lambda{\\left(r,z \\right)}}{r} = 0$"
      ],
      "text/plain": [
       "                              ∂              \n",
       "  2              2            ──(λ(r, z))    \n",
       " ∂              ∂             ∂r             \n",
       "───(λ(r, z)) + ───(λ(r, z)) + ─────────── = 0\n",
       "  2              2                 r         \n",
       "∂r             ∂z                            "
      ]
     },
     "execution_count": 40,
     "metadata": {},
     "output_type": "execute_result"
    }
   ],
   "source": [
    "equation4pt2 = Eq(expand((1/r)*ricciSimplified[0,0].args[1]),0)\n",
    "equation4pt2 "
   ]
  },
  {
   "cell_type": "code",
   "execution_count": 39,
   "id": "6957a0d1",
   "metadata": {},
   "outputs": [
    {
     "data": {
      "image/png": "[encoded data removed]",
      "text/latex": [
       "$\\displaystyle \\frac{\\partial}{\\partial r} \\nu{\\left(r,z \\right)} = r \\left(\\left(\\frac{\\partial}{\\partial r} \\lambda{\\left(r,z \\right)}\\right)^{2} - \\left(\\frac{\\partial}{\\partial z} \\lambda{\\left(r,z \\right)}\\right)^{2}\\right)$"
      ],
      "text/plain": [
       "                ⎛             2                2⎞\n",
       "∂               ⎜⎛∂          ⎞    ⎛∂          ⎞ ⎟\n",
       "──(ν(r, z)) = r⋅⎜⎜──(λ(r, z))⎟  - ⎜──(λ(r, z))⎟ ⎟\n",
       "∂r              ⎝⎝∂r         ⎠    ⎝∂z         ⎠ ⎠"
      ]
     },
     "execution_count": 39,
     "metadata": {},
     "output_type": "execute_result"
    }
   ],
   "source": [
    "equation4pt3a = Eq(diff(nu,r), solve( einsteinSimplified[1,1], diff(nu,r) )[0] ) \n",
    "equation4pt3a"
   ]
  },
  {
   "cell_type": "code",
   "execution_count": 31,
   "id": "6db61b09",
   "metadata": {},
   "outputs": [
    {
     "data": {
      "image/png": "[encoded data removed]",
      "text/latex": [
       "$\\displaystyle \\frac{\\partial}{\\partial z} \\nu{\\left(r,z \\right)} = 2 r \\frac{\\partial}{\\partial r} \\lambda{\\left(r,z \\right)} \\frac{\\partial}{\\partial z} \\lambda{\\left(r,z \\right)}$"
      ],
      "text/plain": [
       "∂                 ∂           ∂          \n",
       "──(ν(r, z)) = 2⋅r⋅──(λ(r, z))⋅──(λ(r, z))\n",
       "∂z                ∂r          ∂z         "
      ]
     },
     "execution_count": 31,
     "metadata": {},
     "output_type": "execute_result"
    }
   ],
   "source": [
    "equation4pt3b = Eq( diff(nu,z),solve( ricciSimplified[3,1], diff(nu,z) )[0] ) \n",
    "equation4pt3b"
   ]
  },
  {
   "cell_type": "code",
   "execution_count": 42,
   "id": "0e9c3ec9",
   "metadata": {},
   "outputs": [
    {
     "data": {
      "text/latex": [
       "$\\displaystyle \\left[\\begin{matrix}\\frac{\\partial^{2}}{\\partial r^{2}} \\lambda{\\left(r,z \\right)} + \\frac{\\partial^{2}}{\\partial z^{2}} \\lambda{\\left(r,z \\right)} + \\frac{\\frac{\\partial}{\\partial r} \\lambda{\\left(r,z \\right)}}{r} = 0\\\\\\frac{\\partial}{\\partial r} \\nu{\\left(r,z \\right)} = r \\left(\\left(\\frac{\\partial}{\\partial r} \\lambda{\\left(r,z \\right)}\\right)^{2} - \\left(\\frac{\\partial}{\\partial z} \\lambda{\\left(r,z \\right)}\\right)^{2}\\right)\\\\\\frac{\\partial}{\\partial z} \\nu{\\left(r,z \\right)} = 2 r \\frac{\\partial}{\\partial r} \\lambda{\\left(r,z \\right)} \\frac{\\partial}{\\partial z} \\lambda{\\left(r,z \\right)}\\end{matrix}\\right]$"
      ],
      "text/plain": [
       "⎡                                ∂                ⎤\n",
       "⎢    2              2            ──(λ(r, z))      ⎥\n",
       "⎢   ∂              ∂             ∂r               ⎥\n",
       "⎢  ───(λ(r, z)) + ───(λ(r, z)) + ─────────── = 0  ⎥\n",
       "⎢    2              2                 r           ⎥\n",
       "⎢  ∂r             ∂z                              ⎥\n",
       "⎢                                                 ⎥\n",
       "⎢                ⎛             2                2⎞⎥\n",
       "⎢∂               ⎜⎛∂          ⎞    ⎛∂          ⎞ ⎟⎥\n",
       "⎢──(ν(r, z)) = r⋅⎜⎜──(λ(r, z))⎟  - ⎜──(λ(r, z))⎟ ⎟⎥\n",
       "⎢∂r              ⎝⎝∂r         ⎠    ⎝∂z         ⎠ ⎠⎥\n",
       "⎢                                                 ⎥\n",
       "⎢    ∂                 ∂           ∂              ⎥\n",
       "⎢    ──(ν(r, z)) = 2⋅r⋅──(λ(r, z))⋅──(λ(r, z))    ⎥\n",
       "⎣    ∂z                ∂r          ∂z             ⎦"
      ]
     },
     "execution_count": 42,
     "metadata": {},
     "output_type": "execute_result"
    }
   ],
   "source": [
    "vacuumFieldEquations = Matrix([equation4pt2,equation4pt3a,equation4pt3b])\n",
    "vacuumFieldEquations"
   ]
  },
  {
   "cell_type": "code",
   "execution_count": 43,
   "id": "80f7a663",
   "metadata": {},
   "outputs": [],
   "source": [
    "X, Y = map(Function, 'XY')"
   ]
  },
  {
   "cell_type": "code",
   "execution_count": 44,
   "id": "1276bdc8",
   "metadata": {},
   "outputs": [
    {
     "data": {
      "image/png": "[encoded data removed]",
      "text/latex": [
       "$\\displaystyle \\frac{\\partial^{2}}{\\partial r^{2}} \\lambda{\\left(r,z \\right)} + \\frac{\\partial^{2}}{\\partial z^{2}} \\lambda{\\left(r,z \\right)} + \\frac{\\frac{\\partial}{\\partial r} \\lambda{\\left(r,z \\right)}}{r} = 0$"
      ],
      "text/plain": [
       "                              ∂              \n",
       "  2              2            ──(λ(r, z))    \n",
       " ∂              ∂             ∂r             \n",
       "───(λ(r, z)) + ───(λ(r, z)) + ─────────── = 0\n",
       "  2              2                 r         \n",
       "∂r             ∂z                            "
      ]
     },
     "execution_count": 44,
     "metadata": {},
     "output_type": "execute_result"
    }
   ],
   "source": [
    "eq = vacuumFieldEquations[0]\n",
    "eq"
   ]
  },
  {
   "cell_type": "code",
   "execution_count": 46,
   "id": "c9f03da9",
   "metadata": {},
   "outputs": [
    {
     "data": {
      "image/png": "[encoded data removed]",
      "text/latex": [
       "$\\displaystyle \\frac{\\frac{d^{2}}{d r^{2}} X{\\left(r \\right)}}{X{\\left(r \\right)}} + \\frac{\\frac{d}{d r} X{\\left(r \\right)}}{r X{\\left(r \\right)}} = - k^{2}$"
      ],
      "text/plain": [
       "  2                       \n",
       " d                        \n",
       "───(X(r))   d             \n",
       "  2         ──(X(r))      \n",
       "dr          dr           2\n",
       "───────── + ──────── = -k \n",
       "   X(r)      r⋅X(r)       "
      ]
     },
     "execution_count": 46,
     "metadata": {},
     "output_type": "execute_result"
    }
   ],
   "source": [
    "xODE = Eq(pde_separate( eq, Lambda, [X(r),Y(z)])[0] , -k**2 ) \n",
    "xODE"
   ]
  },
  {
   "cell_type": "code",
   "execution_count": 47,
   "id": "7e0de518",
   "metadata": {},
   "outputs": [
    {
     "data": {
      "image/png": "[encoded data removed]",
      "text/latex": [
       "$\\displaystyle X{\\left(r \\right)} = C_{1} J_{0}\\left(k r\\right) + C_{2} Y_{0}\\left(k r\\right)$"
      ],
      "text/plain": [
       "X(r) = C₁⋅besselj(0, k⋅r) + C₂⋅bessely(0, k⋅r)"
      ]
     },
     "execution_count": 47,
     "metadata": {},
     "output_type": "execute_result"
    }
   ],
   "source": [
    "xSolution = dsolve( xODE , X(r))\n",
    "xSolution "
   ]
  },
  {
   "cell_type": "code",
   "execution_count": 48,
   "id": "1a32ef4d",
   "metadata": {},
   "outputs": [
    {
     "data": {
      "image/png": "[encoded data removed]",
      "text/latex": [
       "$\\displaystyle X{\\left(r \\right)} = J_{0}\\left(k r\\right)$"
      ],
      "text/plain": [
       "X(r) = besselj(0, k⋅r)"
      ]
     },
     "execution_count": 48,
     "metadata": {},
     "output_type": "execute_result"
    }
   ],
   "source": [
    "#  Here we arbitrarily set one of the Bessel functions equal to zero... fix this later\n",
    "xSolutionParticular = xSolution.subs(xSolution.args[1].args[0].args[0],1).subs(xSolution.args[1].args[1].args[0],0)\n",
    "xSolutionParticular"
   ]
  },
  {
   "cell_type": "code",
   "execution_count": 51,
   "id": "63ffcad8",
   "metadata": {},
   "outputs": [
    {
     "data": {
      "image/png": "[encoded data removed]",
      "text/latex": [
       "$\\displaystyle - \\frac{\\frac{d^{2}}{d z^{2}} Y{\\left(z \\right)}}{Y{\\left(z \\right)}} = k^{2}$"
      ],
      "text/plain": [
       "   2            \n",
       "  d             \n",
       "-───(Y(z))      \n",
       "   2            \n",
       " dz            2\n",
       "─────────── = k \n",
       "    Y(z)        "
      ]
     },
     "execution_count": 51,
     "metadata": {},
     "output_type": "execute_result"
    }
   ],
   "source": [
    "yODE = Eq( pde_separate( eq, Lambda, [X(r),Y(z)])[1] ,  k**2 ) \n",
    "yODE"
   ]
  },
  {
   "cell_type": "code",
   "execution_count": 53,
   "id": "2374ae36",
   "metadata": {},
   "outputs": [
    {
     "data": {
      "image/png": "[encoded data removed]",
      "text/latex": [
       "$\\displaystyle Y{\\left(z \\right)} = C_{1} \\sin{\\left(z \\left|{k}\\right| \\right)} + C_{2} \\cos{\\left(k z \\right)}$"
      ],
      "text/plain": [
       "Y(z) = C₁⋅sin(z⋅│k│) + C₂⋅cos(k⋅z)"
      ]
     },
     "execution_count": 53,
     "metadata": {},
     "output_type": "execute_result"
    }
   ],
   "source": [
    "ySolution = dsolve( yODE , Y(z))\n",
    "ySolution "
   ]
  },
  {
   "cell_type": "code",
   "execution_count": 54,
   "id": "a20313eb",
   "metadata": {},
   "outputs": [
    {
     "data": {
      "image/png": "[encoded data removed]",
      "text/latex": [
       "$\\displaystyle Y{\\left(z \\right)} = \\cos{\\left(k z \\right)}$"
      ],
      "text/plain": [
       "Y(z) = cos(k⋅z)"
      ]
     },
     "execution_count": 54,
     "metadata": {},
     "output_type": "execute_result"
    }
   ],
   "source": [
    "#  Here we arbitrarily set sin equal to zero... fix this later\n",
    "ySolutionParticular = ySolution.subs(ySolution.args[1].args[0].args[0],0).subs(ySolution.args[1].args[1].args[0],1)\n",
    "ySolutionParticular"
   ]
  },
  {
   "cell_type": "code",
   "execution_count": 55,
   "id": "d2788b0b",
   "metadata": {},
   "outputs": [
    {
     "data": {
      "image/png": "[encoded data removed]",
      "text/latex": [
       "$\\displaystyle \\sum_{k=1}^{1} \\cos{\\left(k z \\right)} J_{0}\\left(k r\\right)$"
      ],
      "text/plain": [
       "  1                           \n",
       " ___                          \n",
       " ╲                            \n",
       "  ╲                           \n",
       "  ╱   cos(k⋅z)⋅besselj(0, k⋅r)\n",
       " ╱                            \n",
       " ‾‾‾                          \n",
       "k = 1                         "
      ]
     },
     "execution_count": 55,
     "metadata": {},
     "output_type": "execute_result"
    }
   ],
   "source": [
    "#  We'll keep the k is one term.... \n",
    "Sum( ( xSolutionParticular.args[1] * ySolutionParticular.args[1] ) ,(k,1,1) )"
   ]
  },
  {
   "cell_type": "code",
   "execution_count": 56,
   "id": "46d34837",
   "metadata": {},
   "outputs": [
    {
     "data": {
      "image/png": "[encoded data removed]",
      "text/latex": [
       "$\\displaystyle \\lambda{\\left(r,z \\right)} = \\cos{\\left(z \\right)} J_{0}\\left(r\\right)$"
      ],
      "text/plain": [
       "λ(r, z) = cos(z)⋅besselj(0, r)"
      ]
     },
     "execution_count": 56,
     "metadata": {},
     "output_type": "execute_result"
    }
   ],
   "source": [
    "lambdaSolution = Eq(Lambda, Sum( ( xSolutionParticular.args[1] * ySolutionParticular.args[1] ) ,(k,1,1) ).doit() ) \n",
    "lambdaSolution"
   ]
  },
  {
   "cell_type": "code",
   "execution_count": 57,
   "id": "e3681f13",
   "metadata": {},
   "outputs": [
    {
     "data": {
      "image/png": "[encoded data removed]",
      "text/latex": [
       "$\\displaystyle \\frac{\\partial}{\\partial r} \\nu{\\left(r,z \\right)} = r \\left(\\left(\\frac{\\partial}{\\partial r} \\cos{\\left(z \\right)} J_{0}\\left(r\\right)\\right)^{2} - \\left(\\frac{\\partial}{\\partial z} \\cos{\\left(z \\right)} J_{0}\\left(r\\right)\\right)^{2}\\right)$"
      ],
      "text/plain": [
       "                ⎛                          2                             2⎞\n",
       "∂               ⎜⎛∂                       ⎞    ⎛∂                       ⎞ ⎟\n",
       "──(ν(r, z)) = r⋅⎜⎜──(cos(z)⋅besselj(0, r))⎟  - ⎜──(cos(z)⋅besselj(0, r))⎟ ⎟\n",
       "∂r              ⎝⎝∂r                      ⎠    ⎝∂z                      ⎠ ⎠"
      ]
     },
     "execution_count": 57,
     "metadata": {},
     "output_type": "execute_result"
    }
   ],
   "source": [
    "equation4pt3a.subs(lambdaSolution.lhs,lambdaSolution.rhs)"
   ]
  },
  {
   "cell_type": "code",
   "execution_count": 59,
   "id": "c2e147e6",
   "metadata": {},
   "outputs": [
    {
     "data": {
      "image/png": "[encoded data removed]",
      "text/latex": [
       "$\\displaystyle \\frac{\\partial}{\\partial r} \\nu{\\left(r,z \\right)} = r \\left(- \\sin^{2}{\\left(z \\right)} J^{2}_{0}\\left(r\\right) + \\cos^{2}{\\left(z \\right)} J^{2}_{1}\\left(r\\right)\\right)$"
      ],
      "text/plain": [
       "∂               ⎛     2           2            2           2      ⎞\n",
       "──(ν(r, z)) = r⋅⎝- sin (z)⋅besselj (0, r) + cos (z)⋅besselj (1, r)⎠\n",
       "∂r                                                                 "
      ]
     },
     "execution_count": 59,
     "metadata": {},
     "output_type": "execute_result"
    }
   ],
   "source": [
    "dnudr = equation4pt3a.subs(lambdaSolution.lhs,lambdaSolution.rhs).doit()\n",
    "dnudr"
   ]
  },
  {
   "cell_type": "code",
   "execution_count": 66,
   "id": "077a3038",
   "metadata": {},
   "outputs": [
    {
     "data": {
      "image/png": "[encoded data removed]",
      "text/latex": [
       "$\\displaystyle \\nu{\\left(r,z \\right)} = - \\frac{r^{2} \\left(J^{2}_{0}\\left(r\\right) + J^{2}_{1}\\left(r\\right)\\right) \\sin^{2}{\\left(z \\right)}}{2} + \\frac{r \\left(r J^{2}_{0}\\left(r\\right) + r J^{2}_{1}\\left(r\\right) - 2 J_{0}\\left(r\\right) J_{1}\\left(r\\right)\\right) \\cos^{2}{\\left(z \\right)}}{2} + F{\\left(- z \\right)}$"
      ],
      "text/plain": [
       "             2 ⎛       2                2      ⎞    2        ⎛         2                  2 \n",
       "            r ⋅⎝besselj (0, r) + besselj (1, r)⎠⋅sin (z)   r⋅⎝r⋅besselj (0, r) + r⋅besselj (\n",
       "ν(r, z) = - ──────────────────────────────────────────── + ─────────────────────────────────\n",
       "                                 2                                                          \n",
       "\n",
       "                                     ⎞    2           \n",
       "1, r) - 2⋅besselj(0, r)⋅besselj(1, r)⎠⋅cos (z)        \n",
       "────────────────────────────────────────────── + F(-z)\n",
       "      2                                               "
      ]
     },
     "execution_count": 66,
     "metadata": {},
     "output_type": "execute_result"
    }
   ],
   "source": [
    "integrateNuWRTr = pdsolve(dnudr)\n",
    "integrateNuWRTr"
   ]
  },
  {
   "cell_type": "code",
   "execution_count": 78,
   "id": "79d4884f",
   "metadata": {},
   "outputs": [
    {
     "data": {
      "image/png": "[encoded data removed]",
      "text/latex": [
       "$\\displaystyle \\nu{\\left(r,z \\right)} = - \\frac{r^{2} \\left(J^{2}_{0}\\left(r\\right) + J^{2}_{1}\\left(r\\right)\\right) \\sin^{2}{\\left(z \\right)}}{2} + \\frac{r \\left(r J^{2}_{0}\\left(r\\right) + r J^{2}_{1}\\left(r\\right) - 2 J_{0}\\left(r\\right) J_{1}\\left(r\\right)\\right) \\cos^{2}{\\left(z \\right)}}{2}$"
      ],
      "text/plain": [
       "             2 ⎛       2                2      ⎞    2        ⎛         2                  2 \n",
       "            r ⋅⎝besselj (0, r) + besselj (1, r)⎠⋅sin (z)   r⋅⎝r⋅besselj (0, r) + r⋅besselj (\n",
       "ν(r, z) = - ──────────────────────────────────────────── + ─────────────────────────────────\n",
       "                                 2                                                          \n",
       "\n",
       "                                     ⎞    2   \n",
       "1, r) - 2⋅besselj(0, r)⋅besselj(1, r)⎠⋅cos (z)\n",
       "──────────────────────────────────────────────\n",
       "      2                                       "
      ]
     },
     "execution_count": 78,
     "metadata": {},
     "output_type": "execute_result"
    }
   ],
   "source": [
    "nuWRTrSolution = integrateNuWRTr.subs(integrateNuWRTr.args[1].args[2],0)\n",
    "nuWRTrSolution"
   ]
  },
  {
   "cell_type": "code",
   "execution_count": 60,
   "id": "8f8867c4",
   "metadata": {},
   "outputs": [
    {
     "data": {
      "image/png": "[encoded data removed]",
      "text/latex": [
       "$\\displaystyle \\frac{\\partial}{\\partial z} \\nu{\\left(r,z \\right)} = 2 r \\frac{\\partial}{\\partial r} \\cos{\\left(z \\right)} J_{0}\\left(r\\right) \\frac{\\partial}{\\partial z} \\cos{\\left(z \\right)} J_{0}\\left(r\\right)$"
      ],
      "text/plain": [
       "∂                 ∂                        ∂                       \n",
       "──(ν(r, z)) = 2⋅r⋅──(cos(z)⋅besselj(0, r))⋅──(cos(z)⋅besselj(0, r))\n",
       "∂z                ∂r                       ∂z                      "
      ]
     },
     "execution_count": 60,
     "metadata": {},
     "output_type": "execute_result"
    }
   ],
   "source": [
    "equation4pt3b.subs(lambdaSolution.lhs,lambdaSolution.rhs)"
   ]
  },
  {
   "cell_type": "code",
   "execution_count": 62,
   "id": "2ad40255",
   "metadata": {},
   "outputs": [
    {
     "data": {
      "image/png": "[encoded data removed]",
      "text/latex": [
       "$\\displaystyle \\frac{\\partial}{\\partial z} \\nu{\\left(r,z \\right)} = 2 r \\sin{\\left(z \\right)} \\cos{\\left(z \\right)} J_{0}\\left(r\\right) J_{1}\\left(r\\right)$"
      ],
      "text/plain": [
       "∂                                                          \n",
       "──(ν(r, z)) = 2⋅r⋅sin(z)⋅cos(z)⋅besselj(0, r)⋅besselj(1, r)\n",
       "∂z                                                         "
      ]
     },
     "execution_count": 62,
     "metadata": {},
     "output_type": "execute_result"
    }
   ],
   "source": [
    "dnudz = equation4pt3b.subs(lambdaSolution.lhs,lambdaSolution.rhs).doit()\n",
    "dnudz"
   ]
  },
  {
   "cell_type": "code",
   "execution_count": 64,
   "id": "67045bc7",
   "metadata": {},
   "outputs": [
    {
     "data": {
      "image/png": "[encoded data removed]",
      "text/latex": [
       "$\\displaystyle \\nu{\\left(r,z \\right)} = r \\sin^{2}{\\left(z \\right)} J_{0}\\left(r\\right) J_{1}\\left(r\\right) + F{\\left(r \\right)}$"
      ],
      "text/plain": [
       "               2                                      \n",
       "ν(r, z) = r⋅sin (z)⋅besselj(0, r)⋅besselj(1, r) + F(r)"
      ]
     },
     "execution_count": 64,
     "metadata": {},
     "output_type": "execute_result"
    }
   ],
   "source": [
    "integrateNuWRTz = pdsolve(dnudz)\n",
    "integrateNuWRTz"
   ]
  },
  {
   "cell_type": "code",
   "execution_count": 72,
   "id": "3081b360",
   "metadata": {},
   "outputs": [
    {
     "data": {
      "image/png": "[encoded data removed]",
      "text/latex": [
       "$\\displaystyle \\nu{\\left(r,z \\right)} = r \\sin^{2}{\\left(z \\right)} J_{0}\\left(r\\right) J_{1}\\left(r\\right)$"
      ],
      "text/plain": [
       "               2                               \n",
       "ν(r, z) = r⋅sin (z)⋅besselj(0, r)⋅besselj(1, r)"
      ]
     },
     "execution_count": 72,
     "metadata": {},
     "output_type": "execute_result"
    }
   ],
   "source": [
    "nuWRTzSolution = integrateNuWRTz.subs(integrateNuWRTz.args[1].args[1],0)\n",
    "nuWRTzSolution "
   ]
  }
 ],
 "metadata": {
  "@webio": {
   "lastCommId": "e4ad8567201a416b8cb20b76b3bc71d5",
   "lastKernelId": "18b06c83-ce47-4303-aa04-9879ef633cad"
  },
  "kernelspec": {
   "display_name": "Python 3 (ipykernel)",
   "language": "python",
   "name": "python3"
  },
  "language_info": {
   "codemirror_mode": {
    "name": "ipython",
    "version": 3
   },
   "file_extension": ".py",
   "mimetype": "text/x-python",
   "name": "python",
   "nbconvert_exporter": "python",
   "pygments_lexer": "ipython3",
   "version": "3.8.8"
  }
 },
 "nbformat": 4,
 "nbformat_minor": 5
}
