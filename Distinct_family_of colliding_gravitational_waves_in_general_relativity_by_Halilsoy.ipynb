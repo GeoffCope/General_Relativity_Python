{
 "cells": [
  {
   "cell_type": "markdown",
   "id": "12b3d21e",
   "metadata": {},
   "source": [
    "# Distinct family of colliding gravitational waves in general relativity by Halilsoy\n",
    "##  Geoff Cope\n",
    "##  Univeristy of Utah\n",
    "##  December 24, 2021 Christmas Eve!"
   ]
  },
  {
   "cell_type": "markdown",
   "id": "10888da6",
   "metadata": {},
   "source": [
    "PLEASE NOTE!!!! HAD THIS PROBELM REPEATEDLY WITH THIS METRIC.  FIGURE OUT WHY IT WON'T CALCULATE"
   ]
  },
  {
   "cell_type": "markdown",
   "id": "b7d16629",
   "metadata": {},
   "source": [
    "http://i-rep.emu.edu.tr:8080/xmlui/bitstream/handle/11129/2085/\\\n",
    "PhysRevD.38.2979.pdf?sequence=1"
   ]
  },
  {
   "cell_type": "code",
   "execution_count": 1,
   "id": "8cfc578d",
   "metadata": {},
   "outputs": [
    {
     "name": "stdout",
     "output_type": "stream",
     "text": [
      "IPython console for SymPy 1.9 (Python 3.8.8-64-bit) (ground types: gmpy)\n",
      "\n",
      "These commands were executed:\n",
      ">>> from __future__ import division\n",
      ">>> from sympy import *\n",
      ">>> x, y, z, t = symbols('x y z t')\n",
      ">>> k, m, n = symbols('k m n', integer=True)\n",
      ">>> f, g, h = symbols('f g h', cls=Function)\n",
      ">>> init_printing()\n",
      "\n",
      "Documentation can be found at https://docs.sympy.org/1.9/\n",
      "\n"
     ]
    }
   ],
   "source": [
    "from sympy import init_session\n",
    "init_session(use_latex=True)"
   ]
  },
  {
   "cell_type": "code",
   "execution_count": 2,
   "id": "c72c8dfb",
   "metadata": {},
   "outputs": [],
   "source": [
    "import warnings\n",
    "import matplotlib.cbook\n",
    "warnings.filterwarnings(\"ignore\",category=matplotlib.cbook.mplDeprecation)"
   ]
  },
  {
   "cell_type": "code",
   "execution_count": 3,
   "id": "4bc06acf",
   "metadata": {},
   "outputs": [],
   "source": [
    "u,v,x,y,du,dv,dx,dy = symbols('u v x y du dv dx dy')"
   ]
  },
  {
   "cell_type": "code",
   "execution_count": 4,
   "id": "6798fe45",
   "metadata": {},
   "outputs": [],
   "source": [
    "L,U,V,W = symbols('L U V W')"
   ]
  },
  {
   "cell_type": "code",
   "execution_count": null,
   "id": "4e2540d5",
   "metadata": {},
   "outputs": [],
   "source": [
    "L = Function('M')(u,v)\n",
    "L"
   ]
  },
  {
   "cell_type": "code",
   "execution_count": null,
   "id": "f2840623",
   "metadata": {},
   "outputs": [],
   "source": [
    "U = Function('U')(u,v)\n",
    "U"
   ]
  },
  {
   "cell_type": "code",
   "execution_count": null,
   "id": "9ec83569",
   "metadata": {},
   "outputs": [],
   "source": [
    "V = Function('V')(u,v)\n",
    "V"
   ]
  },
  {
   "cell_type": "code",
   "execution_count": null,
   "id": "aa7c3fae",
   "metadata": {},
   "outputs": [],
   "source": [
    "W = Function('W')(u,v)\n",
    "W"
   ]
  },
  {
   "cell_type": "code",
   "execution_count": 9,
   "id": "f5624d73",
   "metadata": {},
   "outputs": [
    {
     "data": {
      "text/latex": [
       "$\\displaystyle \\left[\\begin{matrix}u\\\\v\\\\x\\\\y\\end{matrix}\\right]$"
      ],
      "text/plain": [
       "⎡u⎤\n",
       "⎢ ⎥\n",
       "⎢v⎥\n",
       "⎢ ⎥\n",
       "⎢x⎥\n",
       "⎢ ⎥\n",
       "⎣y⎦"
      ]
     },
     "execution_count": 9,
     "metadata": {},
     "output_type": "execute_result"
    }
   ],
   "source": [
    "variables = Matrix( [u,v,x,y] )\n",
    "variables"
   ]
  },
  {
   "cell_type": "code",
   "execution_count": 10,
   "id": "435c7a63",
   "metadata": {},
   "outputs": [
    {
     "data": {
      "text/latex": [
       "$\\displaystyle \\left[\\begin{matrix}du\\\\dv\\\\dx\\\\dy\\end{matrix}\\right]$"
      ],
      "text/plain": [
       "⎡du⎤\n",
       "⎢  ⎥\n",
       "⎢dv⎥\n",
       "⎢  ⎥\n",
       "⎢dx⎥\n",
       "⎢  ⎥\n",
       "⎣dy⎦"
      ]
     },
     "execution_count": 10,
     "metadata": {},
     "output_type": "execute_result"
    }
   ],
   "source": [
    "differentials = Matrix( [du,dv,dx,dy])\n",
    "differentials"
   ]
  },
  {
   "cell_type": "code",
   "execution_count": 11,
   "id": "c6132e58",
   "metadata": {},
   "outputs": [
    {
     "data": {
      "image/png": "[encoded data removed]",
      "text/latex": [
       "$\\displaystyle 2 du dv e^{- M{\\left(u,v \\right)}} - dx^{2} e^{- U{\\left(u,v \\right)}} e^{V{\\left(u,v \\right)}} \\cosh{\\left(W{\\left(u,v \\right)} \\right)} + 2 dx dy e^{- U{\\left(u,v \\right)}} \\sinh{\\left(W{\\left(u,v \\right)} \\right)} - dy^{2} e^{- U{\\left(u,v \\right)}} e^{- V{\\left(u,v \\right)}} \\cosh{\\left(W{\\left(u,v \\right)} \\right)}$"
      ],
      "text/plain": [
       "         -M(u, v)     2  -U(u, v)  V(u, v)                          -U(u, v)                   2  -U(u, v)  -V(u, v)              \n",
       "2⋅du⋅dv⋅ℯ         - dx ⋅ℯ        ⋅ℯ       ⋅cosh(W(u, v)) + 2⋅dx⋅dy⋅ℯ        ⋅sinh(W(u, v)) - dy ⋅ℯ        ⋅ℯ        ⋅cosh(W(u, v))"
      ]
     },
     "execution_count": 11,
     "metadata": {},
     "output_type": "execute_result"
    }
   ],
   "source": [
    "lineElement = expand(2*exp(-L)*du*dv - exp(-U)* ( exp(V)*cosh(W)*dx**2 - 2*sinh(W)*dx*dy+exp(-V)*cosh(W)*dy**2 ))\n",
    "lineElement"
   ]
  },
  {
   "cell_type": "code",
   "execution_count": 12,
   "id": "e588ebfd",
   "metadata": {},
   "outputs": [
    {
     "data": {
      "text/latex": [
       "$\\displaystyle \\left[\\begin{matrix}0 & e^{- M{\\left(u,v \\right)}} & 0 & 0\\\\e^{- M{\\left(u,v \\right)}} & 0 & 0 & 0\\\\0 & 0 & - e^{- U{\\left(u,v \\right)}} e^{V{\\left(u,v \\right)}} \\cosh{\\left(W{\\left(u,v \\right)} \\right)} & e^{- U{\\left(u,v \\right)}} \\sinh{\\left(W{\\left(u,v \\right)} \\right)}\\\\0 & 0 & e^{- U{\\left(u,v \\right)}} \\sinh{\\left(W{\\left(u,v \\right)} \\right)} & - e^{- U{\\left(u,v \\right)}} e^{- V{\\left(u,v \\right)}} \\cosh{\\left(W{\\left(u,v \\right)} \\right)}\\end{matrix}\\right]$"
      ],
      "text/plain": [
       "⎡            -M(u, v)                                                                       ⎤\n",
       "⎢    0      ℯ                          0                                  0                 ⎥\n",
       "⎢                                                                                           ⎥\n",
       "⎢ -M(u, v)                                                                                  ⎥\n",
       "⎢ℯ              0                      0                                  0                 ⎥\n",
       "⎢                                                                                           ⎥\n",
       "⎢                        -U(u, v)  V(u, v)                      -U(u, v)                    ⎥\n",
       "⎢    0          0      -ℯ        ⋅ℯ       ⋅cosh(W(u, v))       ℯ        ⋅sinh(W(u, v))      ⎥\n",
       "⎢                                                                                           ⎥\n",
       "⎢                            -U(u, v)                       -U(u, v)  -V(u, v)              ⎥\n",
       "⎣    0          0           ℯ        ⋅sinh(W(u, v))       -ℯ        ⋅ℯ        ⋅cosh(W(u, v))⎦"
      ]
     },
     "execution_count": 12,
     "metadata": {},
     "output_type": "execute_result"
    }
   ],
   "source": [
    "g = zeros(4)\n",
    "\n",
    "for i in range(4):\n",
    "    for j in range(4):\n",
    "        if i == j:\n",
    "            g[i,j] = lineElement.coeff( differentials[i],2 ) \n",
    "        else:\n",
    "            g[i,j] = Rational(1,2)*lineElement.coeff( differentials[i]*differentials[j],1 )\n",
    "            \n",
    "g"
   ]
  },
  {
   "cell_type": "code",
   "execution_count": 13,
   "id": "f7164582",
   "metadata": {},
   "outputs": [],
   "source": [
    "import sympy"
   ]
  },
  {
   "cell_type": "code",
   "execution_count": 14,
   "id": "8c7417d1",
   "metadata": {},
   "outputs": [
    {
     "data": {
      "text/latex": [
       "$\\displaystyle \\left[\\begin{matrix}0 & e^{- M{\\left(u,v \\right)}} & 0 & 0\\\\e^{- M{\\left(u,v \\right)}} & 0 & 0 & 0\\\\0 & 0 & - e^{- U{\\left(u,v \\right)}} e^{V{\\left(u,v \\right)}} \\cosh{\\left(W{\\left(u,v \\right)} \\right)} & e^{- U{\\left(u,v \\right)}} \\sinh{\\left(W{\\left(u,v \\right)} \\right)}\\\\0 & 0 & e^{- U{\\left(u,v \\right)}} \\sinh{\\left(W{\\left(u,v \\right)} \\right)} & - e^{- U{\\left(u,v \\right)}} e^{- V{\\left(u,v \\right)}} \\cosh{\\left(W{\\left(u,v \\right)} \\right)}\\end{matrix}\\right]$"
      ],
      "text/plain": [
       "⎡            -M(u, v)                                                                       ⎤\n",
       "⎢    0      ℯ                          0                                  0                 ⎥\n",
       "⎢                                                                                           ⎥\n",
       "⎢ -M(u, v)                                                                                  ⎥\n",
       "⎢ℯ              0                      0                                  0                 ⎥\n",
       "⎢                                                                                           ⎥\n",
       "⎢                        -U(u, v)  V(u, v)                      -U(u, v)                    ⎥\n",
       "⎢    0          0      -ℯ        ⋅ℯ       ⋅cosh(W(u, v))       ℯ        ⋅sinh(W(u, v))      ⎥\n",
       "⎢                                                                                           ⎥\n",
       "⎢                            -U(u, v)                       -U(u, v)  -V(u, v)              ⎥\n",
       "⎣    0          0           ℯ        ⋅sinh(W(u, v))       -ℯ        ⋅ℯ        ⋅cosh(W(u, v))⎦"
      ]
     },
     "execution_count": 14,
     "metadata": {},
     "output_type": "execute_result"
    }
   ],
   "source": [
    "m = sympy.Array(g)\n",
    "m"
   ]
  },
  {
   "cell_type": "code",
   "execution_count": 15,
   "id": "7181767d",
   "metadata": {},
   "outputs": [],
   "source": [
    "from einsteinpy.symbolic import *"
   ]
  },
  {
   "cell_type": "code",
   "execution_count": 16,
   "id": "54f1972d",
   "metadata": {},
   "outputs": [],
   "source": [
    "syms = sympy.symbols(\"u v x y\")\n",
    "u,v,x,y = syms"
   ]
  },
  {
   "cell_type": "code",
   "execution_count": 17,
   "id": "bb74215d",
   "metadata": {},
   "outputs": [],
   "source": [
    "metric = MetricTensor(m,syms)"
   ]
  },
  {
   "cell_type": "code",
   "execution_count": 18,
   "id": "bb473ee9",
   "metadata": {},
   "outputs": [
    {
     "data": {
      "text/latex": [
       "$\\displaystyle \\left[\\begin{matrix}\\left[\\begin{matrix}- \\frac{\\partial}{\\partial u} M{\\left(u,v \\right)} & 0 & 0 & 0\\\\0 & 0 & 0 & 0\\\\0 & 0 & \\frac{\\left(\\sinh{\\left(W{\\left(u,v \\right)} \\right)} \\frac{\\partial}{\\partial v} W{\\left(u,v \\right)} - \\cosh{\\left(W{\\left(u,v \\right)} \\right)} \\frac{\\partial}{\\partial v} U{\\left(u,v \\right)} + \\cosh{\\left(W{\\left(u,v \\right)} \\right)} \\frac{\\partial}{\\partial v} V{\\left(u,v \\right)}\\right) e^{M{\\left(u,v \\right)} - U{\\left(u,v \\right)} + V{\\left(u,v \\right)}}}{2} & \\frac{\\left(\\sinh{\\left(W{\\left(u,v \\right)} \\right)} \\frac{\\partial}{\\partial v} U{\\left(u,v \\right)} - \\cosh{\\left(W{\\left(u,v \\right)} \\right)} \\frac{\\partial}{\\partial v} W{\\left(u,v \\right)}\\right) e^{M{\\left(u,v \\right)} - U{\\left(u,v \\right)}}}{2}\\\\0 & 0 & \\frac{\\left(\\sinh{\\left(W{\\left(u,v \\right)} \\right)} \\frac{\\partial}{\\partial v} U{\\left(u,v \\right)} - \\cosh{\\left(W{\\left(u,v \\right)} \\right)} \\frac{\\partial}{\\partial v} W{\\left(u,v \\right)}\\right) e^{M{\\left(u,v \\right)} - U{\\left(u,v \\right)}}}{2} & - \\frac{\\left(- \\sinh{\\left(W{\\left(u,v \\right)} \\right)} \\frac{\\partial}{\\partial v} W{\\left(u,v \\right)} + \\cosh{\\left(W{\\left(u,v \\right)} \\right)} \\frac{\\partial}{\\partial v} U{\\left(u,v \\right)} + \\cosh{\\left(W{\\left(u,v \\right)} \\right)} \\frac{\\partial}{\\partial v} V{\\left(u,v \\right)}\\right) e^{M{\\left(u,v \\right)} - U{\\left(u,v \\right)} - V{\\left(u,v \\right)}}}{2}\\end{matrix}\\right] & \\left[\\begin{matrix}0 & 0 & 0 & 0\\\\0 & - \\frac{\\partial}{\\partial v} M{\\left(u,v \\right)} & 0 & 0\\\\0 & 0 & \\frac{\\left(\\sinh{\\left(W{\\left(u,v \\right)} \\right)} \\frac{\\partial}{\\partial u} W{\\left(u,v \\right)} - \\cosh{\\left(W{\\left(u,v \\right)} \\right)} \\frac{\\partial}{\\partial u} U{\\left(u,v \\right)} + \\cosh{\\left(W{\\left(u,v \\right)} \\right)} \\frac{\\partial}{\\partial u} V{\\left(u,v \\right)}\\right) e^{M{\\left(u,v \\right)} - U{\\left(u,v \\right)} + V{\\left(u,v \\right)}}}{2} & \\frac{\\left(\\sinh{\\left(W{\\left(u,v \\right)} \\right)} \\frac{\\partial}{\\partial u} U{\\left(u,v \\right)} - \\cosh{\\left(W{\\left(u,v \\right)} \\right)} \\frac{\\partial}{\\partial u} W{\\left(u,v \\right)}\\right) e^{M{\\left(u,v \\right)} - U{\\left(u,v \\right)}}}{2}\\\\0 & 0 & \\frac{\\left(\\sinh{\\left(W{\\left(u,v \\right)} \\right)} \\frac{\\partial}{\\partial u} U{\\left(u,v \\right)} - \\cosh{\\left(W{\\left(u,v \\right)} \\right)} \\frac{\\partial}{\\partial u} W{\\left(u,v \\right)}\\right) e^{M{\\left(u,v \\right)} - U{\\left(u,v \\right)}}}{2} & - \\frac{\\left(- \\sinh{\\left(W{\\left(u,v \\right)} \\right)} \\frac{\\partial}{\\partial u} W{\\left(u,v \\right)} + \\cosh{\\left(W{\\left(u,v \\right)} \\right)} \\frac{\\partial}{\\partial u} U{\\left(u,v \\right)} + \\cosh{\\left(W{\\left(u,v \\right)} \\right)} \\frac{\\partial}{\\partial u} V{\\left(u,v \\right)}\\right) e^{M{\\left(u,v \\right)} - U{\\left(u,v \\right)} - V{\\left(u,v \\right)}}}{2}\\end{matrix}\\right] & \\left[\\begin{matrix}0 & 0 & \\frac{\\cosh^{2}{\\left(W{\\left(u,v \\right)} \\right)} \\frac{\\partial}{\\partial u} V{\\left(u,v \\right)}}{2} - \\frac{\\frac{\\partial}{\\partial u} U{\\left(u,v \\right)}}{2} & - \\frac{\\left(\\frac{\\sinh{\\left(2 W{\\left(u,v \\right)} \\right)} \\frac{\\partial}{\\partial u} V{\\left(u,v \\right)}}{2} + \\frac{\\partial}{\\partial u} W{\\left(u,v \\right)}\\right) e^{- V{\\left(u,v \\right)}}}{2}\\\\0 & 0 & \\frac{\\cosh^{2}{\\left(W{\\left(u,v \\right)} \\right)} \\frac{\\partial}{\\partial v} V{\\left(u,v \\right)}}{2} - \\frac{\\frac{\\partial}{\\partial v} U{\\left(u,v \\right)}}{2} & - \\frac{\\left(\\frac{\\sinh{\\left(2 W{\\left(u,v \\right)} \\right)} \\frac{\\partial}{\\partial v} V{\\left(u,v \\right)}}{2} + \\frac{\\partial}{\\partial v} W{\\left(u,v \\right)}\\right) e^{- V{\\left(u,v \\right)}}}{2}\\\\\\frac{\\cosh^{2}{\\left(W{\\left(u,v \\right)} \\right)} \\frac{\\partial}{\\partial u} V{\\left(u,v \\right)}}{2} - \\frac{\\frac{\\partial}{\\partial u} U{\\left(u,v \\right)}}{2} & \\frac{\\cosh^{2}{\\left(W{\\left(u,v \\right)} \\right)} \\frac{\\partial}{\\partial v} V{\\left(u,v \\right)}}{2} - \\frac{\\frac{\\partial}{\\partial v} U{\\left(u,v \\right)}}{2} & 0 & 0\\\\- \\frac{\\left(\\frac{\\sinh{\\left(2 W{\\left(u,v \\right)} \\right)} \\frac{\\partial}{\\partial u} V{\\left(u,v \\right)}}{2} + \\frac{\\partial}{\\partial u} W{\\left(u,v \\right)}\\right) e^{- V{\\left(u,v \\right)}}}{2} & - \\frac{\\left(\\frac{\\sinh{\\left(2 W{\\left(u,v \\right)} \\right)} \\frac{\\partial}{\\partial v} V{\\left(u,v \\right)}}{2} + \\frac{\\partial}{\\partial v} W{\\left(u,v \\right)}\\right) e^{- V{\\left(u,v \\right)}}}{2} & 0 & 0\\end{matrix}\\right] & \\left[\\begin{matrix}0 & 0 & \\frac{\\left(\\frac{\\sinh{\\left(2 W{\\left(u,v \\right)} \\right)} \\frac{\\partial}{\\partial u} V{\\left(u,v \\right)}}{2} - \\frac{\\partial}{\\partial u} W{\\left(u,v \\right)}\\right) e^{V{\\left(u,v \\right)}}}{2} & - \\frac{\\cosh^{2}{\\left(W{\\left(u,v \\right)} \\right)} \\frac{\\partial}{\\partial u} V{\\left(u,v \\right)}}{2} - \\frac{\\frac{\\partial}{\\partial u} U{\\left(u,v \\right)}}{2}\\\\0 & 0 & \\frac{\\left(\\frac{\\sinh{\\left(2 W{\\left(u,v \\right)} \\right)} \\frac{\\partial}{\\partial v} V{\\left(u,v \\right)}}{2} - \\frac{\\partial}{\\partial v} W{\\left(u,v \\right)}\\right) e^{V{\\left(u,v \\right)}}}{2} & - \\frac{\\cosh^{2}{\\left(W{\\left(u,v \\right)} \\right)} \\frac{\\partial}{\\partial v} V{\\left(u,v \\right)}}{2} - \\frac{\\frac{\\partial}{\\partial v} U{\\left(u,v \\right)}}{2}\\\\\\frac{\\left(\\frac{\\sinh{\\left(2 W{\\left(u,v \\right)} \\right)} \\frac{\\partial}{\\partial u} V{\\left(u,v \\right)}}{2} - \\frac{\\partial}{\\partial u} W{\\left(u,v \\right)}\\right) e^{V{\\left(u,v \\right)}}}{2} & \\frac{\\left(\\frac{\\sinh{\\left(2 W{\\left(u,v \\right)} \\right)} \\frac{\\partial}{\\partial v} V{\\left(u,v \\right)}}{2} - \\frac{\\partial}{\\partial v} W{\\left(u,v \\right)}\\right) e^{V{\\left(u,v \\right)}}}{2} & 0 & 0\\\\- \\frac{\\cosh^{2}{\\left(W{\\left(u,v \\right)} \\right)} \\frac{\\partial}{\\partial u} V{\\left(u,v \\right)}}{2} - \\frac{\\frac{\\partial}{\\partial u} U{\\left(u,v \\right)}}{2} & - \\frac{\\cosh^{2}{\\left(W{\\left(u,v \\right)} \\right)} \\frac{\\partial}{\\partial v} V{\\left(u,v \\right)}}{2} - \\frac{\\frac{\\partial}{\\partial v} U{\\left(u,v \\right)}}{2} & 0 & 0\\end{matrix}\\right]\\end{matrix}\\right]$"
      ],
      "text/plain": [
       "⎡                                                                                                                                    \n",
       "⎢                                                                                                                                    \n",
       "⎢                                                                                                                                    \n",
       "⎢                                                                                                                                    \n",
       "⎢                                                                                                                                    \n",
       "⎢                                                                                                                                    \n",
       "⎢⎡ ∂                                                                                                                                 \n",
       "⎢⎢-──(M(u, v))  0                                                         0                                                          \n",
       "⎢⎢ ∂u                                                                                                                                \n",
       "⎢⎢                                                                                                                                   \n",
       "⎢⎢     0        0                                                         0                                                          \n",
       "⎢⎢                                                                                                                                   \n",
       "⎢⎢                 ⎛              ∂                           ∂                           ∂          ⎞  M(u, v) - U(u, v) + V(u, v)  \n",
       "⎢⎢                 ⎜sinh(W(u, v))⋅──(W(u, v)) - cosh(W(u, v))⋅──(U(u, v)) + cosh(W(u, v))⋅──(V(u, v))⎟⋅ℯ                             \n",
       "⎢⎢                 ⎝              ∂v                          ∂v                          ∂v         ⎠                               \n",
       "⎢⎢     0        0  ────────────────────────────────────────────────────────────────────────────────────────────────────────────────  \n",
       "⎢⎢                                                                        2                                                          \n",
       "⎢⎢                                                                                                                                   \n",
       "⎢⎢                                    ⎛              ∂                           ∂          ⎞  M(u, v) - U(u, v)                     \n",
       "⎢⎢                                    ⎜sinh(W(u, v))⋅──(U(u, v)) - cosh(W(u, v))⋅──(W(u, v))⎟⋅ℯ                                      \n",
       "⎢⎢                                    ⎝              ∂v                          ∂v         ⎠                                        \n",
       "⎢⎢     0        0                     ──────────────────────────────────────────────────────────────────────────                     \n",
       "⎢⎣                                                                        2                                                          \n",
       "⎢                                                                                                                                    \n",
       "⎢                                                                                                                                    \n",
       "⎢                                                                                                                                    \n",
       "⎢                                                                                                                                    \n",
       "⎢                                                                                                                                    \n",
       "⎣                                                                                                                                    \n",
       "\n",
       "                                                                                                                                     \n",
       "                                                                                                                                     \n",
       "                                                                                                                                     \n",
       "                                                                                                                                     \n",
       "                                                                                                                                     \n",
       "                                                                                                                                     \n",
       "                                                                                                                    ⎤  ⎡0       0    \n",
       "                                                         0                                                          ⎥  ⎢             \n",
       "                                                                                                                    ⎥  ⎢    ∂        \n",
       "                                                                                                                    ⎥  ⎢0  -──(M(u, v\n",
       "                                                         0                                                          ⎥  ⎢    ∂v       \n",
       "                                                                                                                    ⎥  ⎢             \n",
       "                     ⎛              ∂                           ∂          ⎞  M(u, v) - U(u, v)                     ⎥  ⎢             \n",
       "                     ⎜sinh(W(u, v))⋅──(U(u, v)) - cosh(W(u, v))⋅──(W(u, v))⎟⋅ℯ                                      ⎥  ⎢             \n",
       "                     ⎝              ∂v                          ∂v         ⎠                                        ⎥  ⎢             \n",
       "                     ──────────────────────────────────────────────────────────────────────────                     ⎥  ⎢0       0    \n",
       "                                                         2                                                          ⎥  ⎢             \n",
       "                                                                                                                    ⎥  ⎢             \n",
       " ⎛                ∂                           ∂                           ∂          ⎞  M(u, v) - U(u, v) - V(u, v) ⎥  ⎢             \n",
       "-⎜- sinh(W(u, v))⋅──(W(u, v)) + cosh(W(u, v))⋅──(U(u, v)) + cosh(W(u, v))⋅──(V(u, v))⎟⋅ℯ                            ⎥  ⎢             \n",
       " ⎝                ∂v                          ∂v                          ∂v         ⎠                              ⎥  ⎢             \n",
       "────────────────────────────────────────────────────────────────────────────────────────────────────────────────────⎥  ⎢0       0    \n",
       "                                                         2                                                          ⎦  ⎣             \n",
       "                                                                                                                                     \n",
       "                                                                                                                                     \n",
       "                                                                                                                                     \n",
       "                                                                                                                                     \n",
       "                                                                                                                                     \n",
       "                                                                                                                                     \n",
       "\n",
       "                                                                                                                                     \n",
       "                                                                                                                                     \n",
       "                                                                                                                                     \n",
       "                                                                                                                                     \n",
       "                                                                                                                                     \n",
       "                                                                                                                                     \n",
       "                                                           0                                                                         \n",
       "                                                                                                                                     \n",
       "                                                                                                                                     \n",
       "))                                                         0                                                                         \n",
       "                                                                                                                                     \n",
       "                                                                                                                                     \n",
       "    ⎛              ∂                           ∂                           ∂          ⎞  M(u, v) - U(u, v) + V(u, v)                 \n",
       "    ⎜sinh(W(u, v))⋅──(W(u, v)) - cosh(W(u, v))⋅──(U(u, v)) + cosh(W(u, v))⋅──(V(u, v))⎟⋅ℯ                                            \n",
       "    ⎝              ∂u                          ∂u                          ∂u         ⎠                                              \n",
       "    ────────────────────────────────────────────────────────────────────────────────────────────────────────────────                 \n",
       "                                                           2                                                                         \n",
       "                                                                                                                                     \n",
       "                       ⎛              ∂                           ∂          ⎞  M(u, v) - U(u, v)                      ⎛             \n",
       "                       ⎜sinh(W(u, v))⋅──(U(u, v)) - cosh(W(u, v))⋅──(W(u, v))⎟⋅ℯ                                      -⎜- sinh(W(u, v\n",
       "                       ⎝              ∂u                          ∂u         ⎠                                         ⎝             \n",
       "                       ──────────────────────────────────────────────────────────────────────────                     ───────────────\n",
       "                                                           2                                                                         \n",
       "                                                                                                                                     \n",
       "                                                                                                                                     \n",
       "                                                                                                                                     \n",
       "                                                                                                                                     \n",
       "                                                                                                                                     \n",
       "                                                                                                                                     \n",
       "\n",
       "                                                                                                        ⎡                            \n",
       "                                                                                                        ⎢                            \n",
       "                                                                                                        ⎢                            \n",
       "                                                                                                        ⎢                            \n",
       "                                                                                                        ⎢                            \n",
       "                                                                                                        ⎢                           0\n",
       "                                          0                                                          ⎤  ⎢                            \n",
       "                                                                                                     ⎥  ⎢                            \n",
       "                                                                                                     ⎥  ⎢                            \n",
       "                                          0                                                          ⎥  ⎢                            \n",
       "                                                                                                     ⎥  ⎢                            \n",
       "                                                                                                     ⎥  ⎢                            \n",
       "      ⎛              ∂                           ∂          ⎞  M(u, v) - U(u, v)                     ⎥  ⎢                            \n",
       "      ⎜sinh(W(u, v))⋅──(U(u, v)) - cosh(W(u, v))⋅──(W(u, v))⎟⋅ℯ                                      ⎥  ⎢                           0\n",
       "      ⎝              ∂u                          ∂u         ⎠                                        ⎥  ⎢                            \n",
       "      ──────────────────────────────────────────────────────────────────────────                     ⎥  ⎢                            \n",
       "                                          2                                                          ⎥  ⎢           2          ∂     \n",
       "                                                                                                     ⎥  ⎢       cosh (W(u, v))⋅──(V(u\n",
       "   ∂                           ∂                           ∂          ⎞  M(u, v) - U(u, v) - V(u, v) ⎥  ⎢                      ∂u    \n",
       "))⋅──(W(u, v)) + cosh(W(u, v))⋅──(U(u, v)) + cosh(W(u, v))⋅──(V(u, v))⎟⋅ℯ                            ⎥  ⎢       ─────────────────────\n",
       "   ∂u                          ∂u                          ∂u         ⎠                              ⎥  ⎢                   2        \n",
       "─────────────────────────────────────────────────────────────────────────────────────────────────────⎥  ⎢                            \n",
       "                                          2                                                          ⎦  ⎢ ⎛                ∂         \n",
       "                                                                                                        ⎢ ⎜sinh(2⋅W(u, v))⋅──(V(u, v)\n",
       "                                                                                                        ⎢ ⎜                ∂u        \n",
       "                                                                                                        ⎢-⎜──────────────────────────\n",
       "                                                                                                        ⎢ ⎝             2            \n",
       "                                                                                                        ⎢────────────────────────────\n",
       "                                                                                                        ⎣                           2\n",
       "\n",
       "                                                                                                                                 ⎛   \n",
       "                                                                                                                                 ⎜sin\n",
       "                                                                                          2          ∂             ∂             ⎜   \n",
       "                                                                                      cosh (W(u, v))⋅──(V(u, v))   ──(U(u, v))  -⎜───\n",
       "                                                                                                     ∂u            ∂u            ⎝   \n",
       "                                                        0                             ────────────────────────── - ───────────  ─────\n",
       "                                                                                                  2                     2            \n",
       "                                                                                                                                     \n",
       "                                                                                                                                 ⎛   \n",
       "                                                                                                                                 ⎜sin\n",
       "                                                                                          2          ∂             ∂             ⎜   \n",
       "                                                                                      cosh (W(u, v))⋅──(V(u, v))   ──(U(u, v))  -⎜───\n",
       "                                                                                                     ∂v            ∂v            ⎝   \n",
       "                                                        0                             ────────────────────────── - ───────────  ─────\n",
       "                                                                                                  2                     2            \n",
       "                                                                                                                                     \n",
       "        ∂                               2          ∂             ∂                                                                   \n",
       ", v))   ──(U(u, v))                 cosh (W(u, v))⋅──(V(u, v))   ──(U(u, v))                                                         \n",
       "        ∂u                                         ∂v            ∂v                                                                  \n",
       "───── - ───────────                 ────────────────────────── - ───────────                             0                           \n",
       "             2                                  2                     2                                                              \n",
       "                                                                                                                                     \n",
       "               ⎞              ⎛                ∂                        ⎞                                                            \n",
       ")              ⎟              ⎜sinh(2⋅W(u, v))⋅──(V(u, v))              ⎟                                                            \n",
       "    ∂          ⎟  -V(u, v)    ⎜                ∂v            ∂          ⎟  -V(u, v)                                                  \n",
       "─ + ──(W(u, v))⎟⋅ℯ           -⎜─────────────────────────── + ──(W(u, v))⎟⋅ℯ                                                          \n",
       "    ∂u         ⎠              ⎝             2                ∂v         ⎠                                                            \n",
       "───────────────────────────  ───────────────────────────────────────────────────────                     0                           \n",
       "                                                        2                                                                            \n",
       "\n",
       "             ∂                        ⎞           ⎤  ⎡                                                                               \n",
       "h(2⋅W(u, v))⋅──(V(u, v))              ⎟           ⎥  ⎢                                                                               \n",
       "             ∂u            ∂          ⎟  -V(u, v) ⎥  ⎢                                                                               \n",
       "──────────────────────── + ──(W(u, v))⎟⋅ℯ         ⎥  ⎢                                                                               \n",
       "          2                ∂u         ⎠           ⎥  ⎢                                                                               \n",
       "──────────────────────────────────────────────────⎥  ⎢                         0                                                     \n",
       "                      2                           ⎥  ⎢                                                                               \n",
       "                                                  ⎥  ⎢                                                                               \n",
       "             ∂                        ⎞           ⎥  ⎢                                                                               \n",
       "h(2⋅W(u, v))⋅──(V(u, v))              ⎟           ⎥  ⎢                                                                               \n",
       "             ∂v            ∂          ⎟  -V(u, v) ⎥  ⎢                                                                               \n",
       "──────────────────────── + ──(W(u, v))⎟⋅ℯ         ⎥  ⎢                                                                               \n",
       "          2                ∂v         ⎠           ⎥  ⎢                                                                               \n",
       "──────────────────────────────────────────────────⎥  ⎢                         0                                                     \n",
       "                      2                           ⎥  ⎢                                                                               \n",
       "                                                  ⎥  ⎢                                                                               \n",
       "                                                  ⎥  ⎢⎛                ∂                        ⎞           ⎛                ∂       \n",
       "                                                  ⎥  ⎢⎜sinh(2⋅W(u, v))⋅──(V(u, v))              ⎟           ⎜sinh(2⋅W(u, v))⋅──(V(u, \n",
       "                                                  ⎥  ⎢⎜                ∂u            ∂          ⎟  V(u, v)  ⎜                ∂v      \n",
       "                      0                           ⎥  ⎢⎜─────────────────────────── - ──(W(u, v))⎟⋅ℯ         ⎜────────────────────────\n",
       "                                                  ⎥  ⎢⎝             2                ∂u         ⎠           ⎝             2          \n",
       "                                                  ⎥  ⎢────────────────────────────────────────────────────  ─────────────────────────\n",
       "                                                  ⎥  ⎢                         2                                                     \n",
       "                                                  ⎥  ⎢                                                                               \n",
       "                                                  ⎥  ⎢           2          ∂             ∂                            2          ∂  \n",
       "                                                  ⎥  ⎢       cosh (W(u, v))⋅──(V(u, v))   ──(U(u, v))              cosh (W(u, v))⋅──(\n",
       "                                                  ⎥  ⎢                      ∂u            ∂u                                      ∂v \n",
       "                      0                           ⎥  ⎢     - ────────────────────────── - ───────────            - ──────────────────\n",
       "                                                  ⎦  ⎣                   2                     2                               2     \n",
       "\n",
       "                             ⎛                ∂                        ⎞                                                     ⎤⎤\n",
       "                             ⎜sinh(2⋅W(u, v))⋅──(V(u, v))              ⎟                                                     ⎥⎥\n",
       "                             ⎜                ∂u            ∂          ⎟  V(u, v)        2          ∂             ∂          ⎥⎥\n",
       "                             ⎜─────────────────────────── - ──(W(u, v))⎟⋅ℯ           cosh (W(u, v))⋅──(V(u, v))   ──(U(u, v))⎥⎥\n",
       "                             ⎝             2                ∂u         ⎠                            ∂u            ∂u         ⎥⎥\n",
       "0                            ────────────────────────────────────────────────────  - ────────────────────────── - ───────────⎥⎥\n",
       "                                                      2                                          2                     2     ⎥⎥\n",
       "                                                                                                                             ⎥⎥\n",
       "                             ⎛                ∂                        ⎞                                                     ⎥⎥\n",
       "                             ⎜sinh(2⋅W(u, v))⋅──(V(u, v))              ⎟                                                     ⎥⎥\n",
       "                             ⎜                ∂v            ∂          ⎟  V(u, v)        2          ∂             ∂          ⎥⎥\n",
       "                             ⎜─────────────────────────── - ──(W(u, v))⎟⋅ℯ           cosh (W(u, v))⋅──(V(u, v))   ──(U(u, v))⎥⎥\n",
       "                             ⎝             2                ∂v         ⎠                            ∂v            ∂v         ⎥⎥\n",
       "0                            ────────────────────────────────────────────────────  - ────────────────────────── - ───────────⎥⎥\n",
       "                                                      2                                          2                     2     ⎥⎥\n",
       "                                                                                                                             ⎥⎥\n",
       "                 ⎞                                                                                                           ⎥⎥\n",
       "v))              ⎟                                                                                                           ⎥⎥\n",
       "      ∂          ⎟  V(u, v)                                                                                                  ⎥⎥\n",
       "─── - ──(W(u, v))⎟⋅ℯ                                                                                                         ⎥⎥\n",
       "      ∂v         ⎠                                                                                                           ⎥⎥\n",
       "───────────────────────────                           0                                                0                     ⎥⎥\n",
       "2                                                                                                                            ⎥⎥\n",
       "                                                                                                                             ⎥⎥\n",
       "           ∂                                                                                                                 ⎥⎥\n",
       "V(u, v))   ──(U(u, v))                                                                                                       ⎥⎥\n",
       "           ∂v                                                                                                                ⎥⎥\n",
       "──────── - ───────────                                0                                                0                     ⎥⎥\n",
       "                2                                                                                                            ⎦⎦"
      ]
     },
     "execution_count": 18,
     "metadata": {},
     "output_type": "execute_result"
    }
   ],
   "source": [
    "ch = ChristoffelSymbols.from_metric(metric)\n",
    "simplify(ch.tensor())"
   ]
  },
  {
   "cell_type": "code",
   "execution_count": null,
   "id": "58298ee5",
   "metadata": {},
   "outputs": [
    {
     "ename": "NotImplementedError",
     "evalue": "Improve MV Derivative support in collect",
     "output_type": "error",
     "traceback": [
      "\u001b[0;31m---------------------------------------------------------------------------\u001b[0m",
      "\u001b[0;31mNotImplementedError\u001b[0m                       Traceback (most recent call last)",
      "\u001b[0;32m/var/folders/r6/p_thrggs57s55w7ct5svygzr0000gn/T/ipykernel_66738/286807235.py\u001b[0m in \u001b[0;36m<module>\u001b[0;34m\u001b[0m\n\u001b[0;32m----> 1\u001b[0;31m \u001b[0mRic\u001b[0m \u001b[0;34m=\u001b[0m \u001b[0mRicciTensor\u001b[0m\u001b[0;34m.\u001b[0m\u001b[0mfrom_metric\u001b[0m\u001b[0;34m(\u001b[0m\u001b[0mmetric\u001b[0m\u001b[0;34m)\u001b[0m\u001b[0;34m\u001b[0m\u001b[0;34m\u001b[0m\u001b[0m\n\u001b[0m\u001b[1;32m      2\u001b[0m \u001b[0mRic\u001b[0m\u001b[0;34m.\u001b[0m\u001b[0mtensor\u001b[0m\u001b[0;34m(\u001b[0m\u001b[0;34m)\u001b[0m\u001b[0;34m\u001b[0m\u001b[0;34m\u001b[0m\u001b[0m\n",
      "\u001b[0;32m/opt/anaconda3/lib/python3.8/site-packages/einsteinpy/symbolic/ricci.py\u001b[0m in \u001b[0;36mfrom_metric\u001b[0;34m(cls, metric)\u001b[0m\n\u001b[1;32m    107\u001b[0m         \"\"\"\n\u001b[1;32m    108\u001b[0m         \u001b[0mch\u001b[0m \u001b[0;34m=\u001b[0m \u001b[0mChristoffelSymbols\u001b[0m\u001b[0;34m.\u001b[0m\u001b[0mfrom_metric\u001b[0m\u001b[0;34m(\u001b[0m\u001b[0mmetric\u001b[0m\u001b[0;34m)\u001b[0m\u001b[0;34m\u001b[0m\u001b[0;34m\u001b[0m\u001b[0m\n\u001b[0;32m--> 109\u001b[0;31m         \u001b[0;32mreturn\u001b[0m \u001b[0mcls\u001b[0m\u001b[0;34m.\u001b[0m\u001b[0mfrom_christoffels\u001b[0m\u001b[0;34m(\u001b[0m\u001b[0mch\u001b[0m\u001b[0;34m,\u001b[0m \u001b[0mparent_metric\u001b[0m\u001b[0;34m=\u001b[0m\u001b[0;32mNone\u001b[0m\u001b[0;34m)\u001b[0m\u001b[0;34m\u001b[0m\u001b[0;34m\u001b[0m\u001b[0m\n\u001b[0m\u001b[1;32m    110\u001b[0m \u001b[0;34m\u001b[0m\u001b[0m\n\u001b[1;32m    111\u001b[0m     \u001b[0;32mdef\u001b[0m \u001b[0mchange_config\u001b[0m\u001b[0;34m(\u001b[0m\u001b[0mself\u001b[0m\u001b[0;34m,\u001b[0m \u001b[0mnewconfig\u001b[0m\u001b[0;34m=\u001b[0m\u001b[0;34m\"ul\"\u001b[0m\u001b[0;34m,\u001b[0m \u001b[0mmetric\u001b[0m\u001b[0;34m=\u001b[0m\u001b[0;32mNone\u001b[0m\u001b[0;34m)\u001b[0m\u001b[0;34m:\u001b[0m\u001b[0;34m\u001b[0m\u001b[0;34m\u001b[0m\u001b[0m\n",
      "\u001b[0;32m/opt/anaconda3/lib/python3.8/site-packages/einsteinpy/symbolic/ricci.py\u001b[0m in \u001b[0;36mfrom_christoffels\u001b[0;34m(cls, chris, parent_metric)\u001b[0m\n\u001b[1;32m     90\u001b[0m \u001b[0;34m\u001b[0m\u001b[0m\n\u001b[1;32m     91\u001b[0m         \"\"\"\n\u001b[0;32m---> 92\u001b[0;31m         rt = RiemannCurvatureTensor.from_christoffels(\n\u001b[0m\u001b[1;32m     93\u001b[0m             \u001b[0mchris\u001b[0m\u001b[0;34m,\u001b[0m \u001b[0mparent_metric\u001b[0m\u001b[0;34m=\u001b[0m\u001b[0mparent_metric\u001b[0m\u001b[0;34m\u001b[0m\u001b[0;34m\u001b[0m\u001b[0m\n\u001b[1;32m     94\u001b[0m         )\n",
      "\u001b[0;32m/opt/anaconda3/lib/python3.8/site-packages/einsteinpy/symbolic/riemann.py\u001b[0m in \u001b[0;36mfrom_christoffels\u001b[0;34m(cls, chris, parent_metric)\u001b[0m\n\u001b[1;32m     88\u001b[0m             \u001b[0;32mfor\u001b[0m \u001b[0mp\u001b[0m \u001b[0;32min\u001b[0m \u001b[0mrange\u001b[0m\u001b[0;34m(\u001b[0m\u001b[0mdims\u001b[0m\u001b[0;34m)\u001b[0m\u001b[0;34m:\u001b[0m\u001b[0;34m\u001b[0m\u001b[0;34m\u001b[0m\u001b[0m\n\u001b[1;32m     89\u001b[0m                 \u001b[0mtemp\u001b[0m \u001b[0;34m+=\u001b[0m \u001b[0marr\u001b[0m\u001b[0;34m[\u001b[0m\u001b[0mp\u001b[0m\u001b[0;34m,\u001b[0m \u001b[0ms\u001b[0m\u001b[0;34m,\u001b[0m \u001b[0mn\u001b[0m\u001b[0;34m]\u001b[0m \u001b[0;34m*\u001b[0m \u001b[0marr\u001b[0m\u001b[0;34m[\u001b[0m\u001b[0mt\u001b[0m\u001b[0;34m,\u001b[0m \u001b[0mp\u001b[0m\u001b[0;34m,\u001b[0m \u001b[0mr\u001b[0m\u001b[0;34m]\u001b[0m \u001b[0;34m-\u001b[0m \u001b[0marr\u001b[0m\u001b[0;34m[\u001b[0m\u001b[0mp\u001b[0m\u001b[0;34m,\u001b[0m \u001b[0ms\u001b[0m\u001b[0;34m,\u001b[0m \u001b[0mr\u001b[0m\u001b[0;34m]\u001b[0m \u001b[0;34m*\u001b[0m \u001b[0marr\u001b[0m\u001b[0;34m[\u001b[0m\u001b[0mt\u001b[0m\u001b[0;34m,\u001b[0m \u001b[0mp\u001b[0m\u001b[0;34m,\u001b[0m \u001b[0mn\u001b[0m\u001b[0;34m]\u001b[0m\u001b[0;34m\u001b[0m\u001b[0;34m\u001b[0m\u001b[0m\n\u001b[0;32m---> 90\u001b[0;31m             \u001b[0mriemann_list\u001b[0m\u001b[0;34m[\u001b[0m\u001b[0mt\u001b[0m\u001b[0;34m]\u001b[0m\u001b[0;34m[\u001b[0m\u001b[0ms\u001b[0m\u001b[0;34m]\u001b[0m\u001b[0;34m[\u001b[0m\u001b[0mr\u001b[0m\u001b[0;34m]\u001b[0m\u001b[0;34m[\u001b[0m\u001b[0mn\u001b[0m\u001b[0;34m]\u001b[0m \u001b[0;34m=\u001b[0m \u001b[0msympy\u001b[0m\u001b[0;34m.\u001b[0m\u001b[0msimplify\u001b[0m\u001b[0;34m(\u001b[0m\u001b[0mtemp\u001b[0m\u001b[0;34m)\u001b[0m\u001b[0;34m\u001b[0m\u001b[0;34m\u001b[0m\u001b[0m\n\u001b[0m\u001b[1;32m     91\u001b[0m         \u001b[0;32mif\u001b[0m \u001b[0mparent_metric\u001b[0m \u001b[0;32mis\u001b[0m \u001b[0;32mNone\u001b[0m\u001b[0;34m:\u001b[0m\u001b[0;34m\u001b[0m\u001b[0;34m\u001b[0m\u001b[0m\n\u001b[1;32m     92\u001b[0m             \u001b[0mparent_metric\u001b[0m \u001b[0;34m=\u001b[0m \u001b[0mchris\u001b[0m\u001b[0;34m.\u001b[0m\u001b[0mparent_metric\u001b[0m\u001b[0;34m\u001b[0m\u001b[0;34m\u001b[0m\u001b[0m\n",
      "\u001b[0;32m/opt/anaconda3/lib/python3.8/site-packages/sympy/simplify/simplify.py\u001b[0m in \u001b[0;36msimplify\u001b[0;34m(expr, ratio, measure, rational, inverse, doit, **kwargs)\u001b[0m\n\u001b[1;32m    694\u001b[0m \u001b[0;34m\u001b[0m\u001b[0m\n\u001b[1;32m    695\u001b[0m     \u001b[0;32mif\u001b[0m \u001b[0mexpr\u001b[0m\u001b[0;34m.\u001b[0m\u001b[0mhas\u001b[0m\u001b[0;34m(\u001b[0m\u001b[0mTrigonometricFunction\u001b[0m\u001b[0;34m,\u001b[0m \u001b[0mHyperbolicFunction\u001b[0m\u001b[0;34m)\u001b[0m\u001b[0;34m:\u001b[0m\u001b[0;34m\u001b[0m\u001b[0;34m\u001b[0m\u001b[0m\n\u001b[0;32m--> 696\u001b[0;31m         \u001b[0mexpr\u001b[0m \u001b[0;34m=\u001b[0m \u001b[0mtrigsimp\u001b[0m\u001b[0;34m(\u001b[0m\u001b[0mexpr\u001b[0m\u001b[0;34m,\u001b[0m \u001b[0mdeep\u001b[0m\u001b[0;34m=\u001b[0m\u001b[0;32mTrue\u001b[0m\u001b[0;34m)\u001b[0m\u001b[0;34m\u001b[0m\u001b[0;34m\u001b[0m\u001b[0m\n\u001b[0m\u001b[1;32m    697\u001b[0m \u001b[0;34m\u001b[0m\u001b[0m\n\u001b[1;32m    698\u001b[0m     \u001b[0;32mif\u001b[0m \u001b[0mexpr\u001b[0m\u001b[0;34m.\u001b[0m\u001b[0mhas\u001b[0m\u001b[0;34m(\u001b[0m\u001b[0mlog\u001b[0m\u001b[0;34m)\u001b[0m\u001b[0;34m:\u001b[0m\u001b[0;34m\u001b[0m\u001b[0;34m\u001b[0m\u001b[0m\n",
      "\u001b[0;32m/opt/anaconda3/lib/python3.8/site-packages/sympy/simplify/trigsimp.py\u001b[0m in \u001b[0;36mtrigsimp\u001b[0;34m(expr, **opts)\u001b[0m\n\u001b[1;32m    508\u001b[0m                    }[method]\n\u001b[1;32m    509\u001b[0m \u001b[0;34m\u001b[0m\u001b[0m\n\u001b[0;32m--> 510\u001b[0;31m     \u001b[0;32mreturn\u001b[0m \u001b[0mtrigsimpfunc\u001b[0m\u001b[0;34m(\u001b[0m\u001b[0mexpr\u001b[0m\u001b[0;34m)\u001b[0m\u001b[0;34m\u001b[0m\u001b[0;34m\u001b[0m\u001b[0m\n\u001b[0m\u001b[1;32m    511\u001b[0m \u001b[0;34m\u001b[0m\u001b[0m\n\u001b[1;32m    512\u001b[0m \u001b[0;34m\u001b[0m\u001b[0m\n",
      "\u001b[0;32m/opt/anaconda3/lib/python3.8/site-packages/sympy/simplify/trigsimp.py\u001b[0m in \u001b[0;36m<lambda>\u001b[0;34m(x)\u001b[0m\n\u001b[1;32m    501\u001b[0m     trigsimpfunc = {\n\u001b[1;32m    502\u001b[0m         \u001b[0;34m'fu'\u001b[0m\u001b[0;34m:\u001b[0m \u001b[0;34m(\u001b[0m\u001b[0;32mlambda\u001b[0m \u001b[0mx\u001b[0m\u001b[0;34m:\u001b[0m \u001b[0mfu\u001b[0m\u001b[0;34m(\u001b[0m\u001b[0mx\u001b[0m\u001b[0;34m,\u001b[0m \u001b[0;34m**\u001b[0m\u001b[0mopts\u001b[0m\u001b[0;34m)\u001b[0m\u001b[0;34m)\u001b[0m\u001b[0;34m,\u001b[0m\u001b[0;34m\u001b[0m\u001b[0;34m\u001b[0m\u001b[0m\n\u001b[0;32m--> 503\u001b[0;31m         \u001b[0;34m'matching'\u001b[0m\u001b[0;34m:\u001b[0m \u001b[0;34m(\u001b[0m\u001b[0;32mlambda\u001b[0m \u001b[0mx\u001b[0m\u001b[0;34m:\u001b[0m \u001b[0mfutrig\u001b[0m\u001b[0;34m(\u001b[0m\u001b[0mx\u001b[0m\u001b[0;34m)\u001b[0m\u001b[0;34m)\u001b[0m\u001b[0;34m,\u001b[0m\u001b[0;34m\u001b[0m\u001b[0;34m\u001b[0m\u001b[0m\n\u001b[0m\u001b[1;32m    504\u001b[0m         \u001b[0;34m'groebner'\u001b[0m\u001b[0;34m:\u001b[0m \u001b[0;34m(\u001b[0m\u001b[0;32mlambda\u001b[0m \u001b[0mx\u001b[0m\u001b[0;34m:\u001b[0m \u001b[0mgroebnersimp\u001b[0m\u001b[0;34m(\u001b[0m\u001b[0mx\u001b[0m\u001b[0;34m,\u001b[0m \u001b[0;34m**\u001b[0m\u001b[0mopts\u001b[0m\u001b[0;34m)\u001b[0m\u001b[0;34m)\u001b[0m\u001b[0;34m,\u001b[0m\u001b[0;34m\u001b[0m\u001b[0;34m\u001b[0m\u001b[0m\n\u001b[1;32m    505\u001b[0m         'combined': (lambda x: futrig(groebnersimp(x,\n",
      "\u001b[0;32m/opt/anaconda3/lib/python3.8/site-packages/sympy/simplify/trigsimp.py\u001b[0m in \u001b[0;36mfutrig\u001b[0;34m(e, hyper, **kwargs)\u001b[0m\n\u001b[1;32m   1104\u001b[0m     \u001b[0;32mif\u001b[0m \u001b[0mhyper\u001b[0m \u001b[0;32mand\u001b[0m \u001b[0me\u001b[0m\u001b[0;34m.\u001b[0m\u001b[0mhas\u001b[0m\u001b[0;34m(\u001b[0m\u001b[0mHyperbolicFunction\u001b[0m\u001b[0;34m)\u001b[0m\u001b[0;34m:\u001b[0m\u001b[0;34m\u001b[0m\u001b[0;34m\u001b[0m\u001b[0m\n\u001b[1;32m   1105\u001b[0m         \u001b[0me\u001b[0m\u001b[0;34m,\u001b[0m \u001b[0mf\u001b[0m \u001b[0;34m=\u001b[0m \u001b[0mhyper_as_trig\u001b[0m\u001b[0;34m(\u001b[0m\u001b[0me\u001b[0m\u001b[0;34m)\u001b[0m\u001b[0;34m\u001b[0m\u001b[0;34m\u001b[0m\u001b[0m\n\u001b[0;32m-> 1106\u001b[0;31m         \u001b[0me\u001b[0m \u001b[0;34m=\u001b[0m \u001b[0mf\u001b[0m\u001b[0;34m(\u001b[0m\u001b[0mbottom_up\u001b[0m\u001b[0;34m(\u001b[0m\u001b[0me\u001b[0m\u001b[0;34m,\u001b[0m \u001b[0m_futrig\u001b[0m\u001b[0;34m)\u001b[0m\u001b[0;34m)\u001b[0m\u001b[0;34m\u001b[0m\u001b[0;34m\u001b[0m\u001b[0m\n\u001b[0m\u001b[1;32m   1107\u001b[0m \u001b[0;34m\u001b[0m\u001b[0m\n\u001b[1;32m   1108\u001b[0m     \u001b[0;32mif\u001b[0m \u001b[0me\u001b[0m \u001b[0;34m!=\u001b[0m \u001b[0mold\u001b[0m \u001b[0;32mand\u001b[0m \u001b[0me\u001b[0m\u001b[0;34m.\u001b[0m\u001b[0mis_Mul\u001b[0m \u001b[0;32mand\u001b[0m \u001b[0me\u001b[0m\u001b[0;34m.\u001b[0m\u001b[0margs\u001b[0m\u001b[0;34m[\u001b[0m\u001b[0;36m0\u001b[0m\u001b[0;34m]\u001b[0m\u001b[0;34m.\u001b[0m\u001b[0mis_Rational\u001b[0m\u001b[0;34m:\u001b[0m\u001b[0;34m\u001b[0m\u001b[0;34m\u001b[0m\u001b[0m\n",
      "\u001b[0;32m/opt/anaconda3/lib/python3.8/site-packages/sympy/simplify/fu.py\u001b[0m in \u001b[0;36m<lambda>\u001b[0;34m(x)\u001b[0m\n\u001b[1;32m   2073\u001b[0m     \u001b[0md\u001b[0m \u001b[0;34m=\u001b[0m \u001b[0mDummy\u001b[0m\u001b[0;34m(\u001b[0m\u001b[0;34m)\u001b[0m\u001b[0;34m\u001b[0m\u001b[0;34m\u001b[0m\u001b[0m\n\u001b[1;32m   2074\u001b[0m \u001b[0;34m\u001b[0m\u001b[0m\n\u001b[0;32m-> 2075\u001b[0;31m     return _osborne(masked, d), lambda x: collect(signsimp(\n\u001b[0m\u001b[1;32m   2076\u001b[0m         _osbornei(x, d).xreplace(dict(reps))), S.ImaginaryUnit)\n\u001b[1;32m   2077\u001b[0m \u001b[0;34m\u001b[0m\u001b[0m\n",
      "\u001b[0;32m/opt/anaconda3/lib/python3.8/site-packages/sympy/simplify/radsimp.py\u001b[0m in \u001b[0;36mcollect\u001b[0;34m(expr, syms, func, evaluate, exact, distribute_order_term)\u001b[0m\n\u001b[1;32m    173\u001b[0m         \u001b[0mreps\u001b[0m \u001b[0;34m=\u001b[0m \u001b[0mdict\u001b[0m\u001b[0;34m(\u001b[0m\u001b[0mzip\u001b[0m\u001b[0;34m(\u001b[0m\u001b[0mnonsyms\u001b[0m\u001b[0;34m,\u001b[0m \u001b[0;34m[\u001b[0m\u001b[0mDummy\u001b[0m\u001b[0;34m(\u001b[0m\u001b[0;34m**\u001b[0m\u001b[0massumptions\u001b[0m\u001b[0;34m(\u001b[0m\u001b[0mi\u001b[0m\u001b[0;34m)\u001b[0m\u001b[0;34m)\u001b[0m \u001b[0;32mfor\u001b[0m \u001b[0mi\u001b[0m \u001b[0;32min\u001b[0m \u001b[0mnonsyms\u001b[0m\u001b[0;34m]\u001b[0m\u001b[0;34m)\u001b[0m\u001b[0;34m)\u001b[0m\u001b[0;34m\u001b[0m\u001b[0;34m\u001b[0m\u001b[0m\n\u001b[1;32m    174\u001b[0m         \u001b[0msyms\u001b[0m \u001b[0;34m=\u001b[0m \u001b[0;34m[\u001b[0m\u001b[0mreps\u001b[0m\u001b[0;34m.\u001b[0m\u001b[0mget\u001b[0m\u001b[0;34m(\u001b[0m\u001b[0ms\u001b[0m\u001b[0;34m,\u001b[0m \u001b[0ms\u001b[0m\u001b[0;34m)\u001b[0m \u001b[0;32mfor\u001b[0m \u001b[0ms\u001b[0m \u001b[0;32min\u001b[0m \u001b[0msyms\u001b[0m\u001b[0;34m]\u001b[0m\u001b[0;34m\u001b[0m\u001b[0;34m\u001b[0m\u001b[0m\n\u001b[0;32m--> 175\u001b[0;31m         rv = collect(expr.subs(reps), syms,\n\u001b[0m\u001b[1;32m    176\u001b[0m             \u001b[0mfunc\u001b[0m\u001b[0;34m=\u001b[0m\u001b[0mfunc\u001b[0m\u001b[0;34m,\u001b[0m \u001b[0mevaluate\u001b[0m\u001b[0;34m=\u001b[0m\u001b[0mevaluate\u001b[0m\u001b[0;34m,\u001b[0m \u001b[0mexact\u001b[0m\u001b[0;34m=\u001b[0m\u001b[0mexact\u001b[0m\u001b[0;34m,\u001b[0m\u001b[0;34m\u001b[0m\u001b[0;34m\u001b[0m\u001b[0m\n\u001b[1;32m    177\u001b[0m             distribute_order_term=distribute_order_term)\n",
      "\u001b[0;32m/opt/anaconda3/lib/python3.8/site-packages/sympy/simplify/radsimp.py\u001b[0m in \u001b[0;36mcollect\u001b[0;34m(expr, syms, func, evaluate, exact, distribute_order_term)\u001b[0m\n\u001b[1;32m    362\u001b[0m                     for a in expr.args if a != o]) + o\n\u001b[1;32m    363\u001b[0m         \u001b[0;32melif\u001b[0m \u001b[0mexpr\u001b[0m\u001b[0;34m.\u001b[0m\u001b[0mis_Mul\u001b[0m\u001b[0;34m:\u001b[0m\u001b[0;34m\u001b[0m\u001b[0;34m\u001b[0m\u001b[0m\n\u001b[0;32m--> 364\u001b[0;31m             return expr.func(*[\n\u001b[0m\u001b[1;32m    365\u001b[0m                 \u001b[0mcollect\u001b[0m\u001b[0;34m(\u001b[0m\u001b[0mterm\u001b[0m\u001b[0;34m,\u001b[0m \u001b[0msyms\u001b[0m\u001b[0;34m,\u001b[0m \u001b[0mfunc\u001b[0m\u001b[0;34m,\u001b[0m \u001b[0;32mTrue\u001b[0m\u001b[0;34m,\u001b[0m \u001b[0mexact\u001b[0m\u001b[0;34m,\u001b[0m \u001b[0mdistribute_order_term\u001b[0m\u001b[0;34m)\u001b[0m\u001b[0;34m\u001b[0m\u001b[0;34m\u001b[0m\u001b[0m\n\u001b[1;32m    366\u001b[0m                 for term in expr.args])\n",
      "\u001b[0;32m/opt/anaconda3/lib/python3.8/site-packages/sympy/simplify/radsimp.py\u001b[0m in \u001b[0;36m<listcomp>\u001b[0;34m(.0)\u001b[0m\n\u001b[1;32m    363\u001b[0m         \u001b[0;32melif\u001b[0m \u001b[0mexpr\u001b[0m\u001b[0;34m.\u001b[0m\u001b[0mis_Mul\u001b[0m\u001b[0;34m:\u001b[0m\u001b[0;34m\u001b[0m\u001b[0;34m\u001b[0m\u001b[0m\n\u001b[1;32m    364\u001b[0m             return expr.func(*[\n\u001b[0;32m--> 365\u001b[0;31m                 \u001b[0mcollect\u001b[0m\u001b[0;34m(\u001b[0m\u001b[0mterm\u001b[0m\u001b[0;34m,\u001b[0m \u001b[0msyms\u001b[0m\u001b[0;34m,\u001b[0m \u001b[0mfunc\u001b[0m\u001b[0;34m,\u001b[0m \u001b[0;32mTrue\u001b[0m\u001b[0;34m,\u001b[0m \u001b[0mexact\u001b[0m\u001b[0;34m,\u001b[0m \u001b[0mdistribute_order_term\u001b[0m\u001b[0;34m)\u001b[0m\u001b[0;34m\u001b[0m\u001b[0;34m\u001b[0m\u001b[0m\n\u001b[0m\u001b[1;32m    366\u001b[0m                 for term in expr.args])\n\u001b[1;32m    367\u001b[0m         \u001b[0;32melif\u001b[0m \u001b[0mexpr\u001b[0m\u001b[0;34m.\u001b[0m\u001b[0mis_Pow\u001b[0m\u001b[0;34m:\u001b[0m\u001b[0;34m\u001b[0m\u001b[0;34m\u001b[0m\u001b[0m\n",
      "\u001b[0;32m/opt/anaconda3/lib/python3.8/site-packages/sympy/simplify/radsimp.py\u001b[0m in \u001b[0;36mcollect\u001b[0;34m(expr, syms, func, evaluate, exact, distribute_order_term)\u001b[0m\n\u001b[1;32m    358\u001b[0m         \u001b[0;32mif\u001b[0m \u001b[0mexpr\u001b[0m\u001b[0;34m.\u001b[0m\u001b[0mis_Add\u001b[0m\u001b[0;34m:\u001b[0m\u001b[0;34m\u001b[0m\u001b[0;34m\u001b[0m\u001b[0m\n\u001b[1;32m    359\u001b[0m             \u001b[0mo\u001b[0m \u001b[0;34m=\u001b[0m \u001b[0mexpr\u001b[0m\u001b[0;34m.\u001b[0m\u001b[0mgetO\u001b[0m\u001b[0;34m(\u001b[0m\u001b[0;34m)\u001b[0m \u001b[0;32mor\u001b[0m \u001b[0;36m0\u001b[0m\u001b[0;34m\u001b[0m\u001b[0;34m\u001b[0m\u001b[0m\n\u001b[0;32m--> 360\u001b[0;31m             expr = expr.func(*[\n\u001b[0m\u001b[1;32m    361\u001b[0m                     \u001b[0mcollect\u001b[0m\u001b[0;34m(\u001b[0m\u001b[0ma\u001b[0m\u001b[0;34m,\u001b[0m \u001b[0msyms\u001b[0m\u001b[0;34m,\u001b[0m \u001b[0mfunc\u001b[0m\u001b[0;34m,\u001b[0m \u001b[0;32mTrue\u001b[0m\u001b[0;34m,\u001b[0m \u001b[0mexact\u001b[0m\u001b[0;34m,\u001b[0m \u001b[0mdistribute_order_term\u001b[0m\u001b[0;34m)\u001b[0m\u001b[0;34m\u001b[0m\u001b[0;34m\u001b[0m\u001b[0m\n\u001b[1;32m    362\u001b[0m                     for a in expr.args if a != o]) + o\n",
      "\u001b[0;32m/opt/anaconda3/lib/python3.8/site-packages/sympy/simplify/radsimp.py\u001b[0m in \u001b[0;36m<listcomp>\u001b[0;34m(.0)\u001b[0m\n\u001b[1;32m    359\u001b[0m             \u001b[0mo\u001b[0m \u001b[0;34m=\u001b[0m \u001b[0mexpr\u001b[0m\u001b[0;34m.\u001b[0m\u001b[0mgetO\u001b[0m\u001b[0;34m(\u001b[0m\u001b[0;34m)\u001b[0m \u001b[0;32mor\u001b[0m \u001b[0;36m0\u001b[0m\u001b[0;34m\u001b[0m\u001b[0;34m\u001b[0m\u001b[0m\n\u001b[1;32m    360\u001b[0m             expr = expr.func(*[\n\u001b[0;32m--> 361\u001b[0;31m                     \u001b[0mcollect\u001b[0m\u001b[0;34m(\u001b[0m\u001b[0ma\u001b[0m\u001b[0;34m,\u001b[0m \u001b[0msyms\u001b[0m\u001b[0;34m,\u001b[0m \u001b[0mfunc\u001b[0m\u001b[0;34m,\u001b[0m \u001b[0;32mTrue\u001b[0m\u001b[0;34m,\u001b[0m \u001b[0mexact\u001b[0m\u001b[0;34m,\u001b[0m \u001b[0mdistribute_order_term\u001b[0m\u001b[0;34m)\u001b[0m\u001b[0;34m\u001b[0m\u001b[0;34m\u001b[0m\u001b[0m\n\u001b[0m\u001b[1;32m    362\u001b[0m                     for a in expr.args if a != o]) + o\n\u001b[1;32m    363\u001b[0m         \u001b[0;32melif\u001b[0m \u001b[0mexpr\u001b[0m\u001b[0;34m.\u001b[0m\u001b[0mis_Mul\u001b[0m\u001b[0;34m:\u001b[0m\u001b[0;34m\u001b[0m\u001b[0;34m\u001b[0m\u001b[0m\n",
      "\u001b[0;32m/opt/anaconda3/lib/python3.8/site-packages/sympy/simplify/radsimp.py\u001b[0m in \u001b[0;36mcollect\u001b[0;34m(expr, syms, func, evaluate, exact, distribute_order_term)\u001b[0m\n\u001b[1;32m    362\u001b[0m                     for a in expr.args if a != o]) + o\n\u001b[1;32m    363\u001b[0m         \u001b[0;32melif\u001b[0m \u001b[0mexpr\u001b[0m\u001b[0;34m.\u001b[0m\u001b[0mis_Mul\u001b[0m\u001b[0;34m:\u001b[0m\u001b[0;34m\u001b[0m\u001b[0;34m\u001b[0m\u001b[0m\n\u001b[0;32m--> 364\u001b[0;31m             return expr.func(*[\n\u001b[0m\u001b[1;32m    365\u001b[0m                 \u001b[0mcollect\u001b[0m\u001b[0;34m(\u001b[0m\u001b[0mterm\u001b[0m\u001b[0;34m,\u001b[0m \u001b[0msyms\u001b[0m\u001b[0;34m,\u001b[0m \u001b[0mfunc\u001b[0m\u001b[0;34m,\u001b[0m \u001b[0;32mTrue\u001b[0m\u001b[0;34m,\u001b[0m \u001b[0mexact\u001b[0m\u001b[0;34m,\u001b[0m \u001b[0mdistribute_order_term\u001b[0m\u001b[0;34m)\u001b[0m\u001b[0;34m\u001b[0m\u001b[0;34m\u001b[0m\u001b[0m\n\u001b[1;32m    366\u001b[0m                 for term in expr.args])\n",
      "\u001b[0;32m/opt/anaconda3/lib/python3.8/site-packages/sympy/simplify/radsimp.py\u001b[0m in \u001b[0;36m<listcomp>\u001b[0;34m(.0)\u001b[0m\n\u001b[1;32m    363\u001b[0m         \u001b[0;32melif\u001b[0m \u001b[0mexpr\u001b[0m\u001b[0;34m.\u001b[0m\u001b[0mis_Mul\u001b[0m\u001b[0;34m:\u001b[0m\u001b[0;34m\u001b[0m\u001b[0;34m\u001b[0m\u001b[0m\n\u001b[1;32m    364\u001b[0m             return expr.func(*[\n\u001b[0;32m--> 365\u001b[0;31m                 \u001b[0mcollect\u001b[0m\u001b[0;34m(\u001b[0m\u001b[0mterm\u001b[0m\u001b[0;34m,\u001b[0m \u001b[0msyms\u001b[0m\u001b[0;34m,\u001b[0m \u001b[0mfunc\u001b[0m\u001b[0;34m,\u001b[0m \u001b[0;32mTrue\u001b[0m\u001b[0;34m,\u001b[0m \u001b[0mexact\u001b[0m\u001b[0;34m,\u001b[0m \u001b[0mdistribute_order_term\u001b[0m\u001b[0;34m)\u001b[0m\u001b[0;34m\u001b[0m\u001b[0;34m\u001b[0m\u001b[0m\n\u001b[0m\u001b[1;32m    366\u001b[0m                 for term in expr.args])\n\u001b[1;32m    367\u001b[0m         \u001b[0;32melif\u001b[0m \u001b[0mexpr\u001b[0m\u001b[0;34m.\u001b[0m\u001b[0mis_Pow\u001b[0m\u001b[0;34m:\u001b[0m\u001b[0;34m\u001b[0m\u001b[0;34m\u001b[0m\u001b[0m\n",
      "\u001b[0;32m/opt/anaconda3/lib/python3.8/site-packages/sympy/simplify/radsimp.py\u001b[0m in \u001b[0;36mcollect\u001b[0;34m(expr, syms, func, evaluate, exact, distribute_order_term)\u001b[0m\n\u001b[1;32m    389\u001b[0m         \u001b[0mc\u001b[0m\u001b[0;34m,\u001b[0m \u001b[0mnc\u001b[0m \u001b[0;34m=\u001b[0m \u001b[0mproduct\u001b[0m\u001b[0;34m.\u001b[0m\u001b[0margs_cnc\u001b[0m\u001b[0;34m(\u001b[0m\u001b[0msplit_1\u001b[0m\u001b[0;34m=\u001b[0m\u001b[0;32mFalse\u001b[0m\u001b[0;34m)\u001b[0m\u001b[0;34m\u001b[0m\u001b[0;34m\u001b[0m\u001b[0m\n\u001b[1;32m    390\u001b[0m         \u001b[0margs\u001b[0m \u001b[0;34m=\u001b[0m \u001b[0mlist\u001b[0m\u001b[0;34m(\u001b[0m\u001b[0mordered\u001b[0m\u001b[0;34m(\u001b[0m\u001b[0mc\u001b[0m\u001b[0;34m)\u001b[0m\u001b[0;34m)\u001b[0m \u001b[0;34m+\u001b[0m \u001b[0mnc\u001b[0m\u001b[0;34m\u001b[0m\u001b[0;34m\u001b[0m\u001b[0m\n\u001b[0;32m--> 391\u001b[0;31m         \u001b[0mterms\u001b[0m \u001b[0;34m=\u001b[0m \u001b[0;34m[\u001b[0m\u001b[0mparse_term\u001b[0m\u001b[0;34m(\u001b[0m\u001b[0mi\u001b[0m\u001b[0;34m)\u001b[0m \u001b[0;32mfor\u001b[0m \u001b[0mi\u001b[0m \u001b[0;32min\u001b[0m \u001b[0margs\u001b[0m\u001b[0;34m]\u001b[0m\u001b[0;34m\u001b[0m\u001b[0;34m\u001b[0m\u001b[0m\n\u001b[0m\u001b[1;32m    392\u001b[0m         \u001b[0msmall_first\u001b[0m \u001b[0;34m=\u001b[0m \u001b[0;32mTrue\u001b[0m\u001b[0;34m\u001b[0m\u001b[0;34m\u001b[0m\u001b[0m\n\u001b[1;32m    393\u001b[0m \u001b[0;34m\u001b[0m\u001b[0m\n",
      "\u001b[0;32m/opt/anaconda3/lib/python3.8/site-packages/sympy/simplify/radsimp.py\u001b[0m in \u001b[0;36m<listcomp>\u001b[0;34m(.0)\u001b[0m\n\u001b[1;32m    389\u001b[0m         \u001b[0mc\u001b[0m\u001b[0;34m,\u001b[0m \u001b[0mnc\u001b[0m \u001b[0;34m=\u001b[0m \u001b[0mproduct\u001b[0m\u001b[0;34m.\u001b[0m\u001b[0margs_cnc\u001b[0m\u001b[0;34m(\u001b[0m\u001b[0msplit_1\u001b[0m\u001b[0;34m=\u001b[0m\u001b[0;32mFalse\u001b[0m\u001b[0;34m)\u001b[0m\u001b[0;34m\u001b[0m\u001b[0;34m\u001b[0m\u001b[0m\n\u001b[1;32m    390\u001b[0m         \u001b[0margs\u001b[0m \u001b[0;34m=\u001b[0m \u001b[0mlist\u001b[0m\u001b[0;34m(\u001b[0m\u001b[0mordered\u001b[0m\u001b[0;34m(\u001b[0m\u001b[0mc\u001b[0m\u001b[0;34m)\u001b[0m\u001b[0;34m)\u001b[0m \u001b[0;34m+\u001b[0m \u001b[0mnc\u001b[0m\u001b[0;34m\u001b[0m\u001b[0;34m\u001b[0m\u001b[0m\n\u001b[0;32m--> 391\u001b[0;31m         \u001b[0mterms\u001b[0m \u001b[0;34m=\u001b[0m \u001b[0;34m[\u001b[0m\u001b[0mparse_term\u001b[0m\u001b[0;34m(\u001b[0m\u001b[0mi\u001b[0m\u001b[0;34m)\u001b[0m \u001b[0;32mfor\u001b[0m \u001b[0mi\u001b[0m \u001b[0;32min\u001b[0m \u001b[0margs\u001b[0m\u001b[0;34m]\u001b[0m\u001b[0;34m\u001b[0m\u001b[0;34m\u001b[0m\u001b[0m\n\u001b[0m\u001b[1;32m    392\u001b[0m         \u001b[0msmall_first\u001b[0m \u001b[0;34m=\u001b[0m \u001b[0;32mTrue\u001b[0m\u001b[0;34m\u001b[0m\u001b[0;34m\u001b[0m\u001b[0m\n\u001b[1;32m    393\u001b[0m \u001b[0;34m\u001b[0m\u001b[0m\n",
      "\u001b[0;32m/opt/anaconda3/lib/python3.8/site-packages/sympy/simplify/radsimp.py\u001b[0m in \u001b[0;36mparse_term\u001b[0;34m(expr)\u001b[0m\n\u001b[1;32m    279\u001b[0m                 \u001b[0msexpr\u001b[0m\u001b[0;34m,\u001b[0m \u001b[0mrat_expo\u001b[0m \u001b[0;34m=\u001b[0m \u001b[0mexp\u001b[0m\u001b[0;34m(\u001b[0m\u001b[0mtail\u001b[0m\u001b[0;34m)\u001b[0m\u001b[0;34m,\u001b[0m \u001b[0mcoeff\u001b[0m\u001b[0;34m\u001b[0m\u001b[0;34m\u001b[0m\u001b[0m\n\u001b[1;32m    280\u001b[0m         \u001b[0;32melif\u001b[0m \u001b[0misinstance\u001b[0m\u001b[0;34m(\u001b[0m\u001b[0mexpr\u001b[0m\u001b[0;34m,\u001b[0m \u001b[0mDerivative\u001b[0m\u001b[0;34m)\u001b[0m\u001b[0;34m:\u001b[0m\u001b[0;34m\u001b[0m\u001b[0;34m\u001b[0m\u001b[0m\n\u001b[0;32m--> 281\u001b[0;31m             \u001b[0msexpr\u001b[0m\u001b[0;34m,\u001b[0m \u001b[0mderiv\u001b[0m \u001b[0;34m=\u001b[0m \u001b[0mparse_derivative\u001b[0m\u001b[0;34m(\u001b[0m\u001b[0mexpr\u001b[0m\u001b[0;34m)\u001b[0m\u001b[0;34m\u001b[0m\u001b[0;34m\u001b[0m\u001b[0m\n\u001b[0m\u001b[1;32m    282\u001b[0m \u001b[0;34m\u001b[0m\u001b[0m\n\u001b[1;32m    283\u001b[0m         \u001b[0;32mreturn\u001b[0m \u001b[0msexpr\u001b[0m\u001b[0;34m,\u001b[0m \u001b[0mrat_expo\u001b[0m\u001b[0;34m,\u001b[0m \u001b[0msym_expo\u001b[0m\u001b[0;34m,\u001b[0m \u001b[0mderiv\u001b[0m\u001b[0;34m\u001b[0m\u001b[0;34m\u001b[0m\u001b[0m\n",
      "\u001b[0;32m/opt/anaconda3/lib/python3.8/site-packages/sympy/simplify/radsimp.py\u001b[0m in \u001b[0;36mparse_derivative\u001b[0;34m(deriv)\u001b[0m\n\u001b[1;32m    215\u001b[0m                 \u001b[0morder\u001b[0m \u001b[0;34m+=\u001b[0m \u001b[0;36m1\u001b[0m\u001b[0;34m\u001b[0m\u001b[0;34m\u001b[0m\u001b[0m\n\u001b[1;32m    216\u001b[0m             \u001b[0;32melse\u001b[0m\u001b[0;34m:\u001b[0m\u001b[0;34m\u001b[0m\u001b[0;34m\u001b[0m\u001b[0m\n\u001b[0;32m--> 217\u001b[0;31m                 raise NotImplementedError(\n\u001b[0m\u001b[1;32m    218\u001b[0m                     'Improve MV Derivative support in collect')\n\u001b[1;32m    219\u001b[0m \u001b[0;34m\u001b[0m\u001b[0m\n",
      "\u001b[0;31mNotImplementedError\u001b[0m: Improve MV Derivative support in collect"
     ]
    }
   ],
   "source": [
    "Ric = RicciTensor.from_metric(metric)\n",
    "Ric.tensor()"
   ]
  },
  {
   "cell_type": "code",
   "execution_count": null,
   "id": "057d4c8e",
   "metadata": {},
   "outputs": [],
   "source": [
    "einst = EinsteinTensor.from_metric(metric)\n",
    "einst.tensor()"
   ]
  },
  {
   "cell_type": "code",
   "execution_count": null,
   "id": "ae5dd33f",
   "metadata": {},
   "outputs": [],
   "source": [
    "R = RicciScalar.from_riccitensor(Ric)\n",
    "R.simplify()\n",
    "R.expr"
   ]
  },
  {
   "cell_type": "code",
   "execution_count": null,
   "id": "dd25412f",
   "metadata": {},
   "outputs": [],
   "source": [
    "rm1 = RiemannCurvatureTensor.from_christoffels(ch)\n",
    "rm1.tensor()"
   ]
  },
  {
   "cell_type": "code",
   "execution_count": null,
   "id": "28029812",
   "metadata": {},
   "outputs": [],
   "source": [
    "weyl = WeylTensor.from_metric(metric)\n",
    "weyl.tensor()"
   ]
  }
 ],
 "metadata": {
  "@webio": {
   "lastCommId": "8c4d3737f653437e8bbc55a0401c7f0f",
   "lastKernelId": "ebebd154-2bba-435a-bc90-ca69ff558b4d"
  },
  "kernelspec": {
   "display_name": "Python 3 (ipykernel)",
   "language": "python",
   "name": "python3"
  },
  "language_info": {
   "codemirror_mode": {
    "name": "ipython",
    "version": 3
   },
   "file_extension": ".py",
   "mimetype": "text/x-python",
   "name": "python",
   "nbconvert_exporter": "python",
   "pygments_lexer": "ipython3",
   "version": "3.8.8"
  }
 },
 "nbformat": 4,
 "nbformat_minor": 5
}
