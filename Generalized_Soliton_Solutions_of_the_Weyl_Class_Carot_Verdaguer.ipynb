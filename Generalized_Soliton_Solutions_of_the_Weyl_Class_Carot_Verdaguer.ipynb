{
 "cells": [
  {
   "cell_type": "markdown",
   "id": "0beeddab",
   "metadata": {},
   "source": [
    "# Generalized Soliton Solutions of the Weyl Class by Carot and Verdaguer\n",
    "##  Geoff Cope\n",
    "##  𐐏𐐭𐑌𐐲𐑂𐐲𐑉𐑅𐐮𐐻𐐨 𐐲𐑂 𐐏𐐭𐐻𐐫\n",
    "##  University of Utah\n",
    "##  January 9, 2022"
   ]
  },
  {
   "cell_type": "markdown",
   "id": "ddb50100",
   "metadata": {},
   "source": [
    "https://www.researchgate.net/profile/Enric-Verdaguer/publication/231113255_Generalised_soliton_solutions_of_the_Weyl_class/links/02e7e5380dfbfde2aa000000/Generalised-soliton-solutions-of-the-Weyl-class.pdf"
   ]
  },
  {
   "cell_type": "code",
   "execution_count": 1,
   "id": "998a1e34",
   "metadata": {},
   "outputs": [
    {
     "name": "stdout",
     "output_type": "stream",
     "text": [
      "IPython console for SymPy 1.9 (Python 3.8.8-64-bit) (ground types: gmpy)\n",
      "\n",
      "These commands were executed:\n",
      ">>> from __future__ import division\n",
      ">>> from sympy import *\n",
      ">>> x, y, z, t = symbols('x y z t')\n",
      ">>> k, m, n = symbols('k m n', integer=True)\n",
      ">>> f, g, h = symbols('f g h', cls=Function)\n",
      ">>> init_printing()\n",
      "\n",
      "Documentation can be found at https://docs.sympy.org/1.9/\n",
      "\n"
     ]
    }
   ],
   "source": [
    "from sympy import init_session\n",
    "init_session(use_latex=True)"
   ]
  },
  {
   "cell_type": "code",
   "execution_count": 2,
   "id": "8b8608bc",
   "metadata": {},
   "outputs": [],
   "source": [
    "import warnings\n",
    "import matplotlib.cbook\n",
    "warnings.filterwarnings(\"ignore\",category=matplotlib.cbook.mplDeprecation)"
   ]
  },
  {
   "cell_type": "code",
   "execution_count": 3,
   "id": "0d622aa1",
   "metadata": {},
   "outputs": [],
   "source": [
    "t,rho,psi,z,dt,drho,dpsi,dz = symbols('t rho psi z dt drho dpsi dz')"
   ]
  },
  {
   "cell_type": "code",
   "execution_count": 4,
   "id": "6cfb3ad8",
   "metadata": {},
   "outputs": [
    {
     "data": {
      "image/png": "[encoded data removed]",
      "text/latex": [
       "$\\displaystyle f{\\left(\\rho,z \\right)}$"
      ],
      "text/plain": [
       "f(ρ, z)"
      ]
     },
     "execution_count": 4,
     "metadata": {},
     "output_type": "execute_result"
    }
   ],
   "source": [
    "f = Function('f')(rho,z)\n",
    "f"
   ]
  },
  {
   "cell_type": "code",
   "execution_count": 5,
   "id": "0595c22d",
   "metadata": {},
   "outputs": [
    {
     "data": {
      "image/png": "[encoded data removed]",
      "text/latex": [
       "$\\displaystyle U{\\left(\\rho,z \\right)}$"
      ],
      "text/plain": [
       "U(ρ, z)"
      ]
     },
     "execution_count": 5,
     "metadata": {},
     "output_type": "execute_result"
    }
   ],
   "source": [
    "U = Function('U')(rho,z)\n",
    "U"
   ]
  },
  {
   "cell_type": "code",
   "execution_count": 38,
   "id": "025615f5",
   "metadata": {},
   "outputs": [
    {
     "data": {
      "image/png": "[encoded data removed]",
      "text/latex": [
       "$\\displaystyle K{\\left(\\rho,z \\right)}$"
      ],
      "text/plain": [
       "K(ρ, z)"
      ]
     },
     "execution_count": 38,
     "metadata": {},
     "output_type": "execute_result"
    }
   ],
   "source": [
    "K = Function('K')(rho,z)\n",
    "K"
   ]
  },
  {
   "cell_type": "code",
   "execution_count": 7,
   "id": "ebf8cc49",
   "metadata": {},
   "outputs": [
    {
     "data": {
      "text/latex": [
       "$\\displaystyle \\left[\\begin{matrix}t\\\\\\rho\\\\\\psi\\\\z\\end{matrix}\\right]$"
      ],
      "text/plain": [
       "⎡t⎤\n",
       "⎢ ⎥\n",
       "⎢ρ⎥\n",
       "⎢ ⎥\n",
       "⎢ψ⎥\n",
       "⎢ ⎥\n",
       "⎣z⎦"
      ]
     },
     "execution_count": 7,
     "metadata": {},
     "output_type": "execute_result"
    }
   ],
   "source": [
    "variables = Matrix( [t,rho,psi,z] )\n",
    "variables"
   ]
  },
  {
   "cell_type": "code",
   "execution_count": 8,
   "id": "6b7cd5f6",
   "metadata": {},
   "outputs": [
    {
     "data": {
      "text/latex": [
       "$\\displaystyle \\left[\\begin{matrix}dt\\\\drho\\\\dpsi\\\\dz\\end{matrix}\\right]$"
      ],
      "text/plain": [
       "⎡ dt ⎤\n",
       "⎢    ⎥\n",
       "⎢drho⎥\n",
       "⎢    ⎥\n",
       "⎢dpsi⎥\n",
       "⎢    ⎥\n",
       "⎣ dz ⎦"
      ]
     },
     "execution_count": 8,
     "metadata": {},
     "output_type": "execute_result"
    }
   ],
   "source": [
    "differentials = Matrix( [dt,drho,dpsi,dz] ) \n",
    "differentials"
   ]
  },
  {
   "cell_type": "code",
   "execution_count": 9,
   "id": "af3a8c1f",
   "metadata": {},
   "outputs": [
    {
     "data": {
      "image/png": "[encoded data removed]",
      "text/latex": [
       "$\\displaystyle dpsi^{2} \\rho^{2} e^{- 2 U{\\left(\\rho,z \\right)}} + drho^{2} f{\\left(\\rho,z \\right)} - dt^{2} e^{2 U{\\left(\\rho,z \\right)}} + dz^{2} f{\\left(\\rho,z \\right)}$"
      ],
      "text/plain": [
       "    2  2  -2⋅U(ρ, z)       2             2  2⋅U(ρ, z)     2        \n",
       "dpsi ⋅ρ ⋅ℯ           + drho ⋅f(ρ, z) - dt ⋅ℯ          + dz ⋅f(ρ, z)"
      ]
     },
     "execution_count": 9,
     "metadata": {},
     "output_type": "execute_result"
    }
   ],
   "source": [
    "lineElement = expand(  f*(drho**2 + dz**2) + exp(-2*U)*rho**2*dpsi**2 - exp(2*U)*dt**2  )\n",
    "lineElement"
   ]
  },
  {
   "cell_type": "code",
   "execution_count": 10,
   "id": "4b9f2817",
   "metadata": {},
   "outputs": [
    {
     "data": {
      "text/latex": [
       "$\\displaystyle \\left[\\begin{matrix}- e^{2 U{\\left(\\rho,z \\right)}} & 0 & 0 & 0\\\\0 & f{\\left(\\rho,z \\right)} & 0 & 0\\\\0 & 0 & \\rho^{2} e^{- 2 U{\\left(\\rho,z \\right)}} & 0\\\\0 & 0 & 0 & f{\\left(\\rho,z \\right)}\\end{matrix}\\right]$"
      ],
      "text/plain": [
       "⎡  2⋅U(ρ, z)                                  ⎤\n",
       "⎢-ℯ              0           0            0   ⎥\n",
       "⎢                                             ⎥\n",
       "⎢     0       f(ρ, z)        0            0   ⎥\n",
       "⎢                                             ⎥\n",
       "⎢                       2  -2⋅U(ρ, z)         ⎥\n",
       "⎢     0          0     ρ ⋅ℯ               0   ⎥\n",
       "⎢                                             ⎥\n",
       "⎣     0          0           0         f(ρ, z)⎦"
      ]
     },
     "execution_count": 10,
     "metadata": {},
     "output_type": "execute_result"
    }
   ],
   "source": [
    "g = zeros(4)\n",
    "\n",
    "for i in range(4):\n",
    "    for j in range(4):\n",
    "        if i == j:\n",
    "            g[i,j] = lineElement.coeff( differentials[i],2 ) \n",
    "        else:\n",
    "            g[i,j] = Rational(1,2)*lineElement.coeff( differentials[i]*differentials[j],1 )\n",
    "            \n",
    "g"
   ]
  },
  {
   "cell_type": "code",
   "execution_count": 11,
   "id": "eac73faf",
   "metadata": {},
   "outputs": [],
   "source": [
    "import sympy"
   ]
  },
  {
   "cell_type": "code",
   "execution_count": 12,
   "id": "1bbddf32",
   "metadata": {},
   "outputs": [
    {
     "data": {
      "text/latex": [
       "$\\displaystyle \\left[\\begin{matrix}- e^{2 U{\\left(\\rho,z \\right)}} & 0 & 0 & 0\\\\0 & f{\\left(\\rho,z \\right)} & 0 & 0\\\\0 & 0 & \\rho^{2} e^{- 2 U{\\left(\\rho,z \\right)}} & 0\\\\0 & 0 & 0 & f{\\left(\\rho,z \\right)}\\end{matrix}\\right]$"
      ],
      "text/plain": [
       "⎡  2⋅U(ρ, z)                                  ⎤\n",
       "⎢-ℯ              0           0            0   ⎥\n",
       "⎢                                             ⎥\n",
       "⎢     0       f(ρ, z)        0            0   ⎥\n",
       "⎢                                             ⎥\n",
       "⎢                       2  -2⋅U(ρ, z)         ⎥\n",
       "⎢     0          0     ρ ⋅ℯ               0   ⎥\n",
       "⎢                                             ⎥\n",
       "⎣     0          0           0         f(ρ, z)⎦"
      ]
     },
     "execution_count": 12,
     "metadata": {},
     "output_type": "execute_result"
    }
   ],
   "source": [
    "m = sympy.Array(g)\n",
    "m"
   ]
  },
  {
   "cell_type": "code",
   "execution_count": 13,
   "id": "03d24d47",
   "metadata": {},
   "outputs": [],
   "source": [
    "from einsteinpy.symbolic import *"
   ]
  },
  {
   "cell_type": "code",
   "execution_count": 14,
   "id": "54192e29",
   "metadata": {},
   "outputs": [],
   "source": [
    "syms = sympy.symbols(\"T rho psi z\")\n",
    "t,rho,psi,z = syms"
   ]
  },
  {
   "cell_type": "code",
   "execution_count": 15,
   "id": "aab9c0bd",
   "metadata": {},
   "outputs": [],
   "source": [
    "metric = MetricTensor(m,syms)"
   ]
  },
  {
   "cell_type": "code",
   "execution_count": 16,
   "id": "ba809a93",
   "metadata": {},
   "outputs": [
    {
     "data": {
      "text/latex": [
       "$\\displaystyle \\left[\\begin{matrix}\\left[\\begin{matrix}0 & \\frac{\\partial}{\\partial \\rho} U{\\left(\\rho,z \\right)} & 0 & \\frac{\\partial}{\\partial z} U{\\left(\\rho,z \\right)}\\\\\\frac{\\partial}{\\partial \\rho} U{\\left(\\rho,z \\right)} & 0 & 0 & 0\\\\0 & 0 & 0 & 0\\\\\\frac{\\partial}{\\partial z} U{\\left(\\rho,z \\right)} & 0 & 0 & 0\\end{matrix}\\right] & \\left[\\begin{matrix}\\frac{e^{2 U{\\left(\\rho,z \\right)}} \\frac{\\partial}{\\partial \\rho} U{\\left(\\rho,z \\right)}}{f{\\left(\\rho,z \\right)}} & 0 & 0 & 0\\\\0 & \\frac{\\frac{\\partial}{\\partial \\rho} f{\\left(\\rho,z \\right)}}{2 f{\\left(\\rho,z \\right)}} & 0 & \\frac{\\frac{\\partial}{\\partial z} f{\\left(\\rho,z \\right)}}{2 f{\\left(\\rho,z \\right)}}\\\\0 & 0 & \\frac{2 \\rho^{2} e^{- 2 U{\\left(\\rho,z \\right)}} \\frac{\\partial}{\\partial \\rho} U{\\left(\\rho,z \\right)} - 2 \\rho e^{- 2 U{\\left(\\rho,z \\right)}}}{2 f{\\left(\\rho,z \\right)}} & 0\\\\0 & \\frac{\\frac{\\partial}{\\partial z} f{\\left(\\rho,z \\right)}}{2 f{\\left(\\rho,z \\right)}} & 0 & - \\frac{\\frac{\\partial}{\\partial \\rho} f{\\left(\\rho,z \\right)}}{2 f{\\left(\\rho,z \\right)}}\\end{matrix}\\right] & \\left[\\begin{matrix}0 & 0 & 0 & 0\\\\0 & 0 & \\frac{\\left(- 2 \\rho^{2} e^{- 2 U{\\left(\\rho,z \\right)}} \\frac{\\partial}{\\partial \\rho} U{\\left(\\rho,z \\right)} + 2 \\rho e^{- 2 U{\\left(\\rho,z \\right)}}\\right) e^{2 U{\\left(\\rho,z \\right)}}}{2 \\rho^{2}} & 0\\\\0 & \\frac{\\left(- 2 \\rho^{2} e^{- 2 U{\\left(\\rho,z \\right)}} \\frac{\\partial}{\\partial \\rho} U{\\left(\\rho,z \\right)} + 2 \\rho e^{- 2 U{\\left(\\rho,z \\right)}}\\right) e^{2 U{\\left(\\rho,z \\right)}}}{2 \\rho^{2}} & 0 & - \\frac{\\partial}{\\partial z} U{\\left(\\rho,z \\right)}\\\\0 & 0 & - \\frac{\\partial}{\\partial z} U{\\left(\\rho,z \\right)} & 0\\end{matrix}\\right] & \\left[\\begin{matrix}\\frac{e^{2 U{\\left(\\rho,z \\right)}} \\frac{\\partial}{\\partial z} U{\\left(\\rho,z \\right)}}{f{\\left(\\rho,z \\right)}} & 0 & 0 & 0\\\\0 & - \\frac{\\frac{\\partial}{\\partial z} f{\\left(\\rho,z \\right)}}{2 f{\\left(\\rho,z \\right)}} & 0 & \\frac{\\frac{\\partial}{\\partial \\rho} f{\\left(\\rho,z \\right)}}{2 f{\\left(\\rho,z \\right)}}\\\\0 & 0 & \\frac{\\rho^{2} e^{- 2 U{\\left(\\rho,z \\right)}} \\frac{\\partial}{\\partial z} U{\\left(\\rho,z \\right)}}{f{\\left(\\rho,z \\right)}} & 0\\\\0 & \\frac{\\frac{\\partial}{\\partial \\rho} f{\\left(\\rho,z \\right)}}{2 f{\\left(\\rho,z \\right)}} & 0 & \\frac{\\frac{\\partial}{\\partial z} f{\\left(\\rho,z \\right)}}{2 f{\\left(\\rho,z \\right)}}\\end{matrix}\\right]\\end{matrix}\\right]$"
      ],
      "text/plain": [
       "⎡                                            ⎡ 2⋅U(ρ, z) ∂                                                                               \n",
       "⎢                                            ⎢ℯ         ⋅──(U(ρ, z))                                                                     \n",
       "⎢                                            ⎢           ∂ρ                                                                              \n",
       "⎢                                            ⎢──────────────────────       0                             0                               \n",
       "⎢                                            ⎢       f(ρ, z)                                                                             \n",
       "⎢⎡             ∂               ∂          ⎤  ⎢                                                                                           \n",
       "⎢⎢     0       ──(U(ρ, z))  0  ──(U(ρ, z))⎥  ⎢                        ∂                                                             ∂    \n",
       "⎢⎢             ∂ρ              ∂z         ⎥  ⎢                        ──(f(ρ, z))                                                   ──(f(\n",
       "⎢⎢                                        ⎥  ⎢                        ∂ρ                                                            ∂z   \n",
       "⎢⎢∂                                       ⎥  ⎢          0             ───────────                        0                          ─────\n",
       "⎢⎢──(U(ρ, z))       0       0       0     ⎥  ⎢                         2⋅f(ρ, z)                                                     2⋅f(\n",
       "⎢⎢∂ρ                                      ⎥  ⎢                                                                                           \n",
       "⎢⎢                                        ⎥  ⎢                                        2  -2⋅U(ρ, z) ∂                  -2⋅U(ρ, z)        \n",
       "⎢⎢     0            0       0       0     ⎥  ⎢                                     2⋅ρ ⋅ℯ          ⋅──(U(ρ, z)) - 2⋅ρ⋅ℯ                  \n",
       "⎢⎢                                        ⎥  ⎢                                                      ∂ρ                                   \n",
       "⎢⎢∂                                       ⎥  ⎢          0                  0       ──────────────────────────────────────────────        \n",
       "⎢⎢──(U(ρ, z))       0       0       0     ⎥  ⎢                                                       2⋅f(ρ, z)                           \n",
       "⎢⎣∂z                                      ⎦  ⎢                                                                                           \n",
       "⎢                                            ⎢                        ∂                                                             ∂    \n",
       "⎢                                            ⎢                        ──(f(ρ, z))                                                  -──(f(\n",
       "⎢                                            ⎢                        ∂z                                                            ∂ρ   \n",
       "⎢                                            ⎢          0             ───────────                        0                         ──────\n",
       "⎣                                            ⎣                         2⋅f(ρ, z)                                                     2⋅f(\n",
       "\n",
       "       ⎤                                                                                                                                 \n",
       "       ⎥                                                                                                                                 \n",
       "       ⎥  ⎡0                                0                                                              0                             \n",
       "0      ⎥  ⎢                                                                                                                              \n",
       "       ⎥  ⎢                                                                  ⎛     2  -2⋅U(ρ, z) ∂                  -2⋅U(ρ, z)⎞  2⋅U(ρ, z\n",
       "       ⎥  ⎢                                                                  ⎜- 2⋅ρ ⋅ℯ          ⋅──(U(ρ, z)) + 2⋅ρ⋅ℯ          ⎟⋅ℯ        \n",
       "       ⎥  ⎢                                                                  ⎝                   ∂ρ                           ⎠          \n",
       "ρ, z)) ⎥  ⎢0                                0                                ────────────────────────────────────────────────────────────\n",
       "       ⎥  ⎢                                                                                                  2                           \n",
       "────── ⎥  ⎢                                                                                               2⋅ρ                            \n",
       "ρ, z)  ⎥  ⎢                                                                                                                              \n",
       "       ⎥  ⎢   ⎛     2  -2⋅U(ρ, z) ∂                  -2⋅U(ρ, z)⎞  2⋅U(ρ, z)                                                              \n",
       "       ⎥  ⎢   ⎜- 2⋅ρ ⋅ℯ          ⋅──(U(ρ, z)) + 2⋅ρ⋅ℯ          ⎟⋅ℯ                                                                       \n",
       "       ⎥  ⎢   ⎝                   ∂ρ                           ⎠                                                                         \n",
       "       ⎥  ⎢0  ─────────────────────────────────────────────────────────────                                0                             \n",
       "0      ⎥  ⎢                                   2                                                                                          \n",
       "       ⎥  ⎢                                2⋅ρ                                                                                           \n",
       "       ⎥  ⎢                                                                                                                              \n",
       "       ⎥  ⎢                                                                                           ∂                                  \n",
       "ρ, z)) ⎥  ⎢0                                0                                                        -──(U(ρ, z))                        \n",
       "       ⎥  ⎣                                                                                           ∂z                                 \n",
       "───────⎥                                                                                                                                 \n",
       "ρ, z)  ⎦                                                                                                                                 \n",
       "\n",
       "                  ⎡ 2⋅U(ρ, z) ∂                                                                  ⎤⎤\n",
       "                  ⎢ℯ         ⋅──(U(ρ, z))                                                        ⎥⎥\n",
       "        0      ⎤  ⎢           ∂z                                                                 ⎥⎥\n",
       "               ⎥  ⎢──────────────────────        0                    0                    0     ⎥⎥\n",
       ")              ⎥  ⎢       f(ρ, z)                                                                ⎥⎥\n",
       "               ⎥  ⎢                                                                              ⎥⎥\n",
       "               ⎥  ⎢                         ∂                                         ∂          ⎥⎥\n",
       "─       0      ⎥  ⎢                        -──(f(ρ, z))                               ──(f(ρ, z))⎥⎥\n",
       "               ⎥  ⎢                         ∂z                                        ∂ρ         ⎥⎥\n",
       "               ⎥  ⎢          0             ─────────────              0               ───────────⎥⎥\n",
       "               ⎥  ⎢                          2⋅f(ρ, z)                                 2⋅f(ρ, z) ⎥⎥\n",
       "               ⎥  ⎢                                                                              ⎥⎥\n",
       "               ⎥  ⎢                                        2  -2⋅U(ρ, z) ∂                       ⎥⎥\n",
       "    ∂          ⎥  ⎢                                       ρ ⋅ℯ          ⋅──(U(ρ, z))             ⎥⎥\n",
       "   -──(U(ρ, z))⎥  ⎢                                                      ∂z                      ⎥⎥\n",
       "    ∂z         ⎥  ⎢          0                   0        ──────────────────────────       0     ⎥⎥\n",
       "               ⎥  ⎢                                                f(ρ, z)                       ⎥⎥\n",
       "               ⎥  ⎢                                                                              ⎥⎥\n",
       "               ⎥  ⎢                         ∂                                         ∂          ⎥⎥\n",
       "        0      ⎥  ⎢                         ──(f(ρ, z))                               ──(f(ρ, z))⎥⎥\n",
       "               ⎦  ⎢                         ∂ρ                                        ∂z         ⎥⎥\n",
       "                  ⎢          0              ───────────               0               ───────────⎥⎥\n",
       "                  ⎣                          2⋅f(ρ, z)                                 2⋅f(ρ, z) ⎦⎦"
      ]
     },
     "execution_count": 16,
     "metadata": {},
     "output_type": "execute_result"
    }
   ],
   "source": [
    "ch = ChristoffelSymbols.from_metric(metric)\n",
    "ch.tensor()"
   ]
  },
  {
   "cell_type": "code",
   "execution_count": 17,
   "id": "48f2d9ad",
   "metadata": {},
   "outputs": [
    {
     "data": {
      "text/latex": [
       "$\\displaystyle \\left[\\begin{matrix}\\frac{\\left(\\rho \\frac{\\partial^{2}}{\\partial \\rho^{2}} U{\\left(\\rho,z \\right)} + \\rho \\frac{\\partial^{2}}{\\partial z^{2}} U{\\left(\\rho,z \\right)} + \\frac{\\partial}{\\partial \\rho} U{\\left(\\rho,z \\right)}\\right) e^{2 U{\\left(\\rho,z \\right)}}}{\\rho f{\\left(\\rho,z \\right)}} & 0 & 0 & 0\\\\0 & - 2 \\left(\\frac{\\partial}{\\partial \\rho} U{\\left(\\rho,z \\right)}\\right)^{2} - \\frac{\\frac{\\partial^{2}}{\\partial \\rho^{2}} f{\\left(\\rho,z \\right)}}{2 f{\\left(\\rho,z \\right)}} - \\frac{\\frac{\\partial^{2}}{\\partial z^{2}} f{\\left(\\rho,z \\right)}}{2 f{\\left(\\rho,z \\right)}} + \\frac{\\left(\\frac{\\partial}{\\partial \\rho} f{\\left(\\rho,z \\right)}\\right)^{2}}{2 f^{2}{\\left(\\rho,z \\right)}} + \\frac{\\left(\\frac{\\partial}{\\partial z} f{\\left(\\rho,z \\right)}\\right)^{2}}{2 f^{2}{\\left(\\rho,z \\right)}} + \\frac{2 \\frac{\\partial}{\\partial \\rho} U{\\left(\\rho,z \\right)}}{\\rho} + \\frac{\\frac{\\partial}{\\partial \\rho} f{\\left(\\rho,z \\right)}}{2 \\rho f{\\left(\\rho,z \\right)}} & 0 & - 2 \\frac{\\partial}{\\partial \\rho} U{\\left(\\rho,z \\right)} \\frac{\\partial}{\\partial z} U{\\left(\\rho,z \\right)} + \\frac{\\frac{\\partial}{\\partial z} U{\\left(\\rho,z \\right)}}{\\rho} + \\frac{\\frac{\\partial}{\\partial z} f{\\left(\\rho,z \\right)}}{2 \\rho f{\\left(\\rho,z \\right)}}\\\\0 & 0 & \\frac{\\rho \\left(\\rho \\frac{\\partial^{2}}{\\partial \\rho^{2}} U{\\left(\\rho,z \\right)} + \\rho \\frac{\\partial^{2}}{\\partial z^{2}} U{\\left(\\rho,z \\right)} + \\frac{\\partial}{\\partial \\rho} U{\\left(\\rho,z \\right)}\\right) e^{- 2 U{\\left(\\rho,z \\right)}}}{f{\\left(\\rho,z \\right)}} & 0\\\\0 & - 2 \\frac{\\partial}{\\partial \\rho} U{\\left(\\rho,z \\right)} \\frac{\\partial}{\\partial z} U{\\left(\\rho,z \\right)} + \\frac{\\frac{\\partial}{\\partial z} U{\\left(\\rho,z \\right)}}{\\rho} + \\frac{\\frac{\\partial}{\\partial z} f{\\left(\\rho,z \\right)}}{2 \\rho f{\\left(\\rho,z \\right)}} & 0 & - 2 \\left(\\frac{\\partial}{\\partial z} U{\\left(\\rho,z \\right)}\\right)^{2} - \\frac{\\frac{\\partial^{2}}{\\partial \\rho^{2}} f{\\left(\\rho,z \\right)}}{2 f{\\left(\\rho,z \\right)}} - \\frac{\\frac{\\partial^{2}}{\\partial z^{2}} f{\\left(\\rho,z \\right)}}{2 f{\\left(\\rho,z \\right)}} + \\frac{\\left(\\frac{\\partial}{\\partial \\rho} f{\\left(\\rho,z \\right)}\\right)^{2}}{2 f^{2}{\\left(\\rho,z \\right)}} + \\frac{\\left(\\frac{\\partial}{\\partial z} f{\\left(\\rho,z \\right)}\\right)^{2}}{2 f^{2}{\\left(\\rho,z \\right)}} - \\frac{\\frac{\\partial}{\\partial \\rho} f{\\left(\\rho,z \\right)}}{2 \\rho f{\\left(\\rho,z \\right)}}\\end{matrix}\\right]$"
      ],
      "text/plain": [
       "⎡⎛    2                2                       ⎞                                                                                         \n",
       "⎢⎜   ∂                ∂             ∂          ⎟  2⋅U(ρ, z)                                                                              \n",
       "⎢⎜ρ⋅───(U(ρ, z)) + ρ⋅───(U(ρ, z)) + ──(U(ρ, z))⎟⋅ℯ                                                                                       \n",
       "⎢⎜    2                2            ∂ρ         ⎟                                                                                         \n",
       "⎢⎝  ∂ρ               ∂z                        ⎠                                                                                         \n",
       "⎢──────────────────────────────────────────────────────────                                                         0                    \n",
       "⎢                        ρ⋅f(ρ, z)                                                                                                       \n",
       "⎢                                                                                                                                        \n",
       "⎢                                                                                   2              2                                     \n",
       "⎢                                                                                  ∂              ∂                          2           \n",
       "⎢                                                                                 ───(f(ρ, z))   ───(f(ρ, z))   ⎛∂          ⎞    ⎛∂      \n",
       "⎢                                                                             2     2              2            ⎜──(f(ρ, z))⎟    ⎜──(f(ρ,\n",
       "⎢                                                                ⎛∂          ⎞    ∂ρ             ∂z             ⎝∂ρ         ⎠    ⎝∂z     \n",
       "⎢                            0                               - 2⋅⎜──(U(ρ, z))⎟  - ──────────── - ──────────── + ────────────── + ────────\n",
       "⎢                                                                ⎝∂ρ         ⎠     2⋅f(ρ, z)      2⋅f(ρ, z)          2                2  \n",
       "⎢                                                                                                                 2⋅f (ρ, z)       2⋅f (ρ\n",
       "⎢                                                                                                                                        \n",
       "⎢                                                                                                                                        \n",
       "⎢                                                                                                                                        \n",
       "⎢                                                                                                                                        \n",
       "⎢                                                                                                                                        \n",
       "⎢                                                                                                                                        \n",
       "⎢                            0                                                                                      0                    \n",
       "⎢                                                                                                                                        \n",
       "⎢                                                                                                                                        \n",
       "⎢                                                                                                                                        \n",
       "⎢                                                                                                                                        \n",
       "⎢                                                                                                                      ∂             ∂   \n",
       "⎢                                                                                                                      ──(U(ρ, z))   ──(f\n",
       "⎢                                                                                            ∂           ∂             ∂z            ∂z  \n",
       "⎢                            0                                                           - 2⋅──(U(ρ, z))⋅──(U(ρ, z)) + ─────────── + ────\n",
       "⎢                                                                                            ∂ρ          ∂z                 ρ        2⋅ρ⋅\n",
       "⎣                                                                                                                                        \n",
       "\n",
       "                                                                                                                                         \n",
       "                                                                                                                                         \n",
       "                                                                                                                                         \n",
       "                                                                                                                                         \n",
       "                                                                                                                                         \n",
       "                                                                    0                                                                    \n",
       "                                                                                                                                         \n",
       "                                                                                                                                         \n",
       "                                                                                                                                         \n",
       "     2                                                                                                                                   \n",
       "    ⎞      ∂             ∂                                                                                                               \n",
       " z))⎟    2⋅──(U(ρ, z))   ──(f(ρ, z))                                                                                                     \n",
       "    ⎠      ∂ρ            ∂ρ                                                                                                  ∂           \n",
       "────── + ───────────── + ───────────                                0                                                    - 2⋅──(U(ρ, z))⋅\n",
       "               ρ         2⋅ρ⋅f(ρ, z)                                                                                         ∂ρ          \n",
       ", z)                                                                                                                                     \n",
       "                                                                                                                                         \n",
       "                                        ⎛    2                2                       ⎞                                                  \n",
       "                                        ⎜   ∂                ∂             ∂          ⎟  -2⋅U(ρ, z)                                      \n",
       "                                      ρ⋅⎜ρ⋅───(U(ρ, z)) + ρ⋅───(U(ρ, z)) + ──(U(ρ, z))⎟⋅ℯ                                                \n",
       "                                        ⎜    2                2            ∂ρ         ⎟                                                  \n",
       "                                        ⎝  ∂ρ               ∂z                        ⎠                                                  \n",
       "                                      ─────────────────────────────────────────────────────────────                                      \n",
       "                                                                 f(ρ, z)                                                                 \n",
       "                                                                                                                                         \n",
       "                                                                                                                            2            \n",
       "                                                                                                                           ∂             \n",
       "                                                                                                                          ───(f(ρ, z))   \n",
       "(ρ, z))                                                                                                               2     2            \n",
       "                                                                                                         ⎛∂          ⎞    ∂ρ             \n",
       "───────                                                             0                                - 2⋅⎜──(U(ρ, z))⎟  - ──────────── - \n",
       "f(ρ, z)                                                                                                  ⎝∂z         ⎠     2⋅f(ρ, z)     \n",
       "                                                                                                                                         \n",
       "\n",
       "                                                            ⎤\n",
       "                                                            ⎥\n",
       "                                                            ⎥\n",
       "                                                            ⎥\n",
       "                                                            ⎥\n",
       "           0                                                ⎥\n",
       "                                                            ⎥\n",
       "                                                            ⎥\n",
       "                                                            ⎥\n",
       "                                                            ⎥\n",
       "              ∂             ∂                               ⎥\n",
       "              ──(U(ρ, z))   ──(f(ρ, z))                     ⎥\n",
       "∂             ∂z            ∂z                              ⎥\n",
       "──(U(ρ, z)) + ─────────── + ───────────                     ⎥\n",
       "∂z                 ρ        2⋅ρ⋅f(ρ, z)                     ⎥\n",
       "                                                            ⎥\n",
       "                                                            ⎥\n",
       "                                                            ⎥\n",
       "                                                            ⎥\n",
       "                                                            ⎥\n",
       "                                                            ⎥\n",
       "                                                            ⎥\n",
       "           0                                                ⎥\n",
       "                                                            ⎥\n",
       "                                                            ⎥\n",
       "  2                                                         ⎥\n",
       " ∂                          2                2              ⎥\n",
       "───(f(ρ, z))   ⎛∂          ⎞    ⎛∂          ⎞    ∂          ⎥\n",
       "  2            ⎜──(f(ρ, z))⎟    ⎜──(f(ρ, z))⎟    ──(f(ρ, z))⎥\n",
       "∂z             ⎝∂ρ         ⎠    ⎝∂z         ⎠    ∂ρ         ⎥\n",
       "──────────── + ────────────── + ────────────── - ───────────⎥\n",
       " 2⋅f(ρ, z)          2                2           2⋅ρ⋅f(ρ, z)⎥\n",
       "                 2⋅f (ρ, z)       2⋅f (ρ, z)                ⎦"
      ]
     },
     "execution_count": 17,
     "metadata": {},
     "output_type": "execute_result"
    }
   ],
   "source": [
    "Ric = RicciTensor.from_metric(metric)\n",
    "Ric.tensor()"
   ]
  },
  {
   "cell_type": "code",
   "execution_count": 18,
   "id": "d5b5507b",
   "metadata": {},
   "outputs": [
    {
     "data": {
      "image/png": "[encoded data removed]",
      "text/latex": [
       "$\\displaystyle \\frac{\\rho \\left(\\left(\\frac{\\partial}{\\partial \\rho} f{\\left(\\rho,z \\right)}\\right)^{2} + \\left(\\frac{\\partial}{\\partial z} f{\\left(\\rho,z \\right)}\\right)^{2}\\right) - \\rho \\left(\\frac{\\partial^{2}}{\\partial \\rho^{2}} f{\\left(\\rho,z \\right)} + \\frac{\\partial^{2}}{\\partial z^{2}} f{\\left(\\rho,z \\right)}\\right) f{\\left(\\rho,z \\right)} - 2 \\rho f^{2}{\\left(\\rho,z \\right)} \\left(\\frac{\\partial}{\\partial \\rho} U{\\left(\\rho,z \\right)}\\right)^{2} - 2 \\rho f^{2}{\\left(\\rho,z \\right)} \\left(\\frac{\\partial}{\\partial z} U{\\left(\\rho,z \\right)}\\right)^{2} + 2 f^{2}{\\left(\\rho,z \\right)} \\frac{\\partial}{\\partial \\rho} U{\\left(\\rho,z \\right)}}{\\rho f^{3}{\\left(\\rho,z \\right)}}$"
      ],
      "text/plain": [
       "  ⎛             2                2⎞     ⎛  2              2         ⎞                                     2                             2\n",
       "  ⎜⎛∂          ⎞    ⎛∂          ⎞ ⎟     ⎜ ∂              ∂          ⎟                2       ⎛∂          ⎞         2       ⎛∂          ⎞ \n",
       "ρ⋅⎜⎜──(f(ρ, z))⎟  + ⎜──(f(ρ, z))⎟ ⎟ - ρ⋅⎜───(f(ρ, z)) + ───(f(ρ, z))⎟⋅f(ρ, z) - 2⋅ρ⋅f (ρ, z)⋅⎜──(U(ρ, z))⎟  - 2⋅ρ⋅f (ρ, z)⋅⎜──(U(ρ, z))⎟ \n",
       "  ⎝⎝∂ρ         ⎠    ⎝∂z         ⎠ ⎠     ⎜  2              2         ⎟                        ⎝∂ρ         ⎠                 ⎝∂z         ⎠ \n",
       "                                        ⎝∂ρ             ∂z          ⎠                                                                    \n",
       "─────────────────────────────────────────────────────────────────────────────────────────────────────────────────────────────────────────\n",
       "                                                                               3                                                         \n",
       "                                                                            ρ⋅f (ρ, z)                                                   \n",
       "\n",
       "                         \n",
       "      2       ∂          \n",
       " + 2⋅f (ρ, z)⋅──(U(ρ, z))\n",
       "              ∂ρ         \n",
       "                         \n",
       "─────────────────────────\n",
       "                         \n",
       "                         "
      ]
     },
     "execution_count": 18,
     "metadata": {},
     "output_type": "execute_result"
    }
   ],
   "source": [
    "R = RicciScalar.from_riccitensor(Ric)\n",
    "R.simplify()\n",
    "R.expr"
   ]
  },
  {
   "cell_type": "code",
   "execution_count": 19,
   "id": "cc4913e9",
   "metadata": {},
   "outputs": [
    {
     "data": {
      "text/latex": [
       "$\\displaystyle \\left[\\begin{matrix}\\frac{\\left(\\rho \\frac{\\partial^{2}}{\\partial \\rho^{2}} U{\\left(\\rho,z \\right)} + \\rho \\frac{\\partial^{2}}{\\partial z^{2}} U{\\left(\\rho,z \\right)} + \\frac{\\partial}{\\partial \\rho} U{\\left(\\rho,z \\right)}\\right) e^{2 U{\\left(\\rho,z \\right)}}}{\\rho f{\\left(\\rho,z \\right)}} + \\frac{0.5 \\left(\\rho \\left(\\left(\\frac{\\partial}{\\partial \\rho} f{\\left(\\rho,z \\right)}\\right)^{2} + \\left(\\frac{\\partial}{\\partial z} f{\\left(\\rho,z \\right)}\\right)^{2}\\right) - \\rho \\left(\\frac{\\partial^{2}}{\\partial \\rho^{2}} f{\\left(\\rho,z \\right)} + \\frac{\\partial^{2}}{\\partial z^{2}} f{\\left(\\rho,z \\right)}\\right) f{\\left(\\rho,z \\right)} - 2 \\rho f^{2}{\\left(\\rho,z \\right)} \\left(\\frac{\\partial}{\\partial \\rho} U{\\left(\\rho,z \\right)}\\right)^{2} - 2 \\rho f^{2}{\\left(\\rho,z \\right)} \\left(\\frac{\\partial}{\\partial z} U{\\left(\\rho,z \\right)}\\right)^{2} + 2 f^{2}{\\left(\\rho,z \\right)} \\frac{\\partial}{\\partial \\rho} U{\\left(\\rho,z \\right)}\\right) e^{2 U{\\left(\\rho,z \\right)}}}{\\rho f^{3}{\\left(\\rho,z \\right)}} & 0 & 0 & 0\\\\0 & - 2 \\left(\\frac{\\partial}{\\partial \\rho} U{\\left(\\rho,z \\right)}\\right)^{2} - \\frac{\\frac{\\partial^{2}}{\\partial \\rho^{2}} f{\\left(\\rho,z \\right)}}{2 f{\\left(\\rho,z \\right)}} - \\frac{\\frac{\\partial^{2}}{\\partial z^{2}} f{\\left(\\rho,z \\right)}}{2 f{\\left(\\rho,z \\right)}} + \\frac{\\left(\\frac{\\partial}{\\partial \\rho} f{\\left(\\rho,z \\right)}\\right)^{2}}{2 f^{2}{\\left(\\rho,z \\right)}} + \\frac{\\left(\\frac{\\partial}{\\partial z} f{\\left(\\rho,z \\right)}\\right)^{2}}{2 f^{2}{\\left(\\rho,z \\right)}} - \\frac{0.5 \\left(\\rho \\left(\\left(\\frac{\\partial}{\\partial \\rho} f{\\left(\\rho,z \\right)}\\right)^{2} + \\left(\\frac{\\partial}{\\partial z} f{\\left(\\rho,z \\right)}\\right)^{2}\\right) - \\rho \\left(\\frac{\\partial^{2}}{\\partial \\rho^{2}} f{\\left(\\rho,z \\right)} + \\frac{\\partial^{2}}{\\partial z^{2}} f{\\left(\\rho,z \\right)}\\right) f{\\left(\\rho,z \\right)} - 2 \\rho f^{2}{\\left(\\rho,z \\right)} \\left(\\frac{\\partial}{\\partial \\rho} U{\\left(\\rho,z \\right)}\\right)^{2} - 2 \\rho f^{2}{\\left(\\rho,z \\right)} \\left(\\frac{\\partial}{\\partial z} U{\\left(\\rho,z \\right)}\\right)^{2} + 2 f^{2}{\\left(\\rho,z \\right)} \\frac{\\partial}{\\partial \\rho} U{\\left(\\rho,z \\right)}\\right)}{\\rho f^{2}{\\left(\\rho,z \\right)}} + \\frac{2 \\frac{\\partial}{\\partial \\rho} U{\\left(\\rho,z \\right)}}{\\rho} + \\frac{\\frac{\\partial}{\\partial \\rho} f{\\left(\\rho,z \\right)}}{2 \\rho f{\\left(\\rho,z \\right)}} & 0 & - 2 \\frac{\\partial}{\\partial \\rho} U{\\left(\\rho,z \\right)} \\frac{\\partial}{\\partial z} U{\\left(\\rho,z \\right)} + \\frac{\\frac{\\partial}{\\partial z} U{\\left(\\rho,z \\right)}}{\\rho} + \\frac{\\frac{\\partial}{\\partial z} f{\\left(\\rho,z \\right)}}{2 \\rho f{\\left(\\rho,z \\right)}}\\\\0 & 0 & \\frac{\\rho \\left(\\rho \\frac{\\partial^{2}}{\\partial \\rho^{2}} U{\\left(\\rho,z \\right)} + \\rho \\frac{\\partial^{2}}{\\partial z^{2}} U{\\left(\\rho,z \\right)} + \\frac{\\partial}{\\partial \\rho} U{\\left(\\rho,z \\right)}\\right) e^{- 2 U{\\left(\\rho,z \\right)}}}{f{\\left(\\rho,z \\right)}} - \\frac{0.5 \\rho \\left(\\rho \\left(\\left(\\frac{\\partial}{\\partial \\rho} f{\\left(\\rho,z \\right)}\\right)^{2} + \\left(\\frac{\\partial}{\\partial z} f{\\left(\\rho,z \\right)}\\right)^{2}\\right) - \\rho \\left(\\frac{\\partial^{2}}{\\partial \\rho^{2}} f{\\left(\\rho,z \\right)} + \\frac{\\partial^{2}}{\\partial z^{2}} f{\\left(\\rho,z \\right)}\\right) f{\\left(\\rho,z \\right)} - 2 \\rho f^{2}{\\left(\\rho,z \\right)} \\left(\\frac{\\partial}{\\partial \\rho} U{\\left(\\rho,z \\right)}\\right)^{2} - 2 \\rho f^{2}{\\left(\\rho,z \\right)} \\left(\\frac{\\partial}{\\partial z} U{\\left(\\rho,z \\right)}\\right)^{2} + 2 f^{2}{\\left(\\rho,z \\right)} \\frac{\\partial}{\\partial \\rho} U{\\left(\\rho,z \\right)}\\right) e^{- 2 U{\\left(\\rho,z \\right)}}}{f^{3}{\\left(\\rho,z \\right)}} & 0\\\\0 & - 2 \\frac{\\partial}{\\partial \\rho} U{\\left(\\rho,z \\right)} \\frac{\\partial}{\\partial z} U{\\left(\\rho,z \\right)} + \\frac{\\frac{\\partial}{\\partial z} U{\\left(\\rho,z \\right)}}{\\rho} + \\frac{\\frac{\\partial}{\\partial z} f{\\left(\\rho,z \\right)}}{2 \\rho f{\\left(\\rho,z \\right)}} & 0 & - 2 \\left(\\frac{\\partial}{\\partial z} U{\\left(\\rho,z \\right)}\\right)^{2} - \\frac{\\frac{\\partial^{2}}{\\partial \\rho^{2}} f{\\left(\\rho,z \\right)}}{2 f{\\left(\\rho,z \\right)}} - \\frac{\\frac{\\partial^{2}}{\\partial z^{2}} f{\\left(\\rho,z \\right)}}{2 f{\\left(\\rho,z \\right)}} + \\frac{\\left(\\frac{\\partial}{\\partial \\rho} f{\\left(\\rho,z \\right)}\\right)^{2}}{2 f^{2}{\\left(\\rho,z \\right)}} + \\frac{\\left(\\frac{\\partial}{\\partial z} f{\\left(\\rho,z \\right)}\\right)^{2}}{2 f^{2}{\\left(\\rho,z \\right)}} - \\frac{0.5 \\left(\\rho \\left(\\left(\\frac{\\partial}{\\partial \\rho} f{\\left(\\rho,z \\right)}\\right)^{2} + \\left(\\frac{\\partial}{\\partial z} f{\\left(\\rho,z \\right)}\\right)^{2}\\right) - \\rho \\left(\\frac{\\partial^{2}}{\\partial \\rho^{2}} f{\\left(\\rho,z \\right)} + \\frac{\\partial^{2}}{\\partial z^{2}} f{\\left(\\rho,z \\right)}\\right) f{\\left(\\rho,z \\right)} - 2 \\rho f^{2}{\\left(\\rho,z \\right)} \\left(\\frac{\\partial}{\\partial \\rho} U{\\left(\\rho,z \\right)}\\right)^{2} - 2 \\rho f^{2}{\\left(\\rho,z \\right)} \\left(\\frac{\\partial}{\\partial z} U{\\left(\\rho,z \\right)}\\right)^{2} + 2 f^{2}{\\left(\\rho,z \\right)} \\frac{\\partial}{\\partial \\rho} U{\\left(\\rho,z \\right)}\\right)}{\\rho f^{2}{\\left(\\rho,z \\right)}} - \\frac{\\frac{\\partial}{\\partial \\rho} f{\\left(\\rho,z \\right)}}{2 \\rho f{\\left(\\rho,z \\right)}}\\end{matrix}\\right]$"
      ],
      "text/plain": [
       "⎡⎛    2                2                       ⎞                  ⎛  ⎛             2                2⎞     ⎛  2              2         ⎞ \n",
       "⎢⎜   ∂                ∂             ∂          ⎟  2⋅U(ρ, z)       ⎜  ⎜⎛∂          ⎞    ⎛∂          ⎞ ⎟     ⎜ ∂              ∂          ⎟ \n",
       "⎢⎜ρ⋅───(U(ρ, z)) + ρ⋅───(U(ρ, z)) + ──(U(ρ, z))⎟⋅ℯ            0.5⋅⎜ρ⋅⎜⎜──(f(ρ, z))⎟  + ⎜──(f(ρ, z))⎟ ⎟ - ρ⋅⎜───(f(ρ, z)) + ───(f(ρ, z))⎟⋅\n",
       "⎢⎜    2                2            ∂ρ         ⎟                  ⎜  ⎝⎝∂ρ         ⎠    ⎝∂z         ⎠ ⎠     ⎜  2              2         ⎟ \n",
       "⎢⎝  ∂ρ               ∂z                        ⎠                  ⎝                                        ⎝∂ρ             ∂z          ⎠ \n",
       "⎢────────────────────────────────────────────────────────── + ───────────────────────────────────────────────────────────────────────────\n",
       "⎢                        ρ⋅f(ρ, z)                                                                                                       \n",
       "⎢                                                                                                                                        \n",
       "⎢                                                                                                                                        \n",
       "⎢                                                                                                                                        \n",
       "⎢                                                                                                                                        \n",
       "⎢                                                                                                                                        \n",
       "⎢                                                                                                                                        \n",
       "⎢                                                                                                                                        \n",
       "⎢                                                                                                                       0                \n",
       "⎢                                                                                                                                        \n",
       "⎢                                                                                                                                        \n",
       "⎢                                                                                                                                        \n",
       "⎢                                                                                                                                        \n",
       "⎢                                                                                                                                        \n",
       "⎢                                                                                                                                        \n",
       "⎢                                                                                                                                        \n",
       "⎢                                                                                                                                        \n",
       "⎢                                                                                                                       0                \n",
       "⎢                                                                                                                                        \n",
       "⎢                                                                                                                                        \n",
       "⎢                                                                                                                                        \n",
       "⎢                                                                                                                                        \n",
       "⎢                                                                                                                                        \n",
       "⎢                                                                                                                                        \n",
       "⎢                                                                                                                                        \n",
       "⎢                                                                                                                                        \n",
       "⎢                                                                                                                       0                \n",
       "⎢                                                                                                                                        \n",
       "⎣                                                                                                                                        \n",
       "\n",
       "                                    2                             2                         ⎞                                            \n",
       "               2       ⎛∂          ⎞         2       ⎛∂          ⎞       2       ∂          ⎟  2⋅U(ρ, z)                                 \n",
       "f(ρ, z) - 2⋅ρ⋅f (ρ, z)⋅⎜──(U(ρ, z))⎟  - 2⋅ρ⋅f (ρ, z)⋅⎜──(U(ρ, z))⎟  + 2⋅f (ρ, z)⋅──(U(ρ, z))⎟⋅ℯ                                          \n",
       "                       ⎝∂ρ         ⎠                 ⎝∂z         ⎠               ∂ρ         ⎟                                            \n",
       "                                                                                            ⎠                                            \n",
       "────────────────────────────────────────────────────────────────────────────────────────────────────────                                 \n",
       "             3                                                                                                                           \n",
       "          ρ⋅f (ρ, z)                                                                                                                     \n",
       "                                                                                                                                         \n",
       "                                                                                                                                 2       \n",
       "                                                                                                                                ∂        \n",
       "                                                                                                                               ───(f(ρ, z\n",
       "                                                                                                                           2     2       \n",
       "                                                                                                              ⎛∂          ⎞    ∂ρ        \n",
       "                                                                                                          - 2⋅⎜──(U(ρ, z))⎟  - ──────────\n",
       "                                                                                                              ⎝∂ρ         ⎠     2⋅f(ρ, z)\n",
       "                                                                                                                                         \n",
       "                                                                                                                                         \n",
       "                                                                                                                                         \n",
       "                                                                                                                                         \n",
       "                                                                                                                                         \n",
       "                                                                                                                                         \n",
       "                                                                                                                                         \n",
       "                                                                                                                                         \n",
       "                                                                                                                                         \n",
       "                                                                                                                                         \n",
       "                                                                                                                                         \n",
       "                                                                                                                                         \n",
       "                                                                                                                                         \n",
       "                                                                                                                                         \n",
       "                                                                                                                                         \n",
       "                                                                                                                                         \n",
       "                                                                                                                                         \n",
       "                                                                                                                                         \n",
       "                                                                                                                                         \n",
       "\n",
       "                                                                                                                                         \n",
       "                                                                                                                                         \n",
       "                                                                                                                                         \n",
       "                                                                                                                                         \n",
       "                                                                                                                                         \n",
       "                                                                                                              0                          \n",
       "                                                                                                                                         \n",
       "                                                                                                                                         \n",
       "                                                                                                                                         \n",
       "       2                                                  ⎛  ⎛             2                2⎞     ⎛  2              2         ⎞         \n",
       "      ∂                          2                2       ⎜  ⎜⎛∂          ⎞    ⎛∂          ⎞ ⎟     ⎜ ∂              ∂          ⎟         \n",
       "))   ───(f(ρ, z))   ⎛∂          ⎞    ⎛∂          ⎞    0.5⋅⎜ρ⋅⎜⎜──(f(ρ, z))⎟  + ⎜──(f(ρ, z))⎟ ⎟ - ρ⋅⎜───(f(ρ, z)) + ───(f(ρ, z))⎟⋅f(ρ, z) \n",
       "       2            ⎜──(f(ρ, z))⎟    ⎜──(f(ρ, z))⎟        ⎜  ⎝⎝∂ρ         ⎠    ⎝∂z         ⎠ ⎠     ⎜  2              2         ⎟         \n",
       "     ∂z             ⎝∂ρ         ⎠    ⎝∂z         ⎠        ⎝                                        ⎝∂ρ             ∂z          ⎠         \n",
       "── - ──────────── + ────────────── + ────────────── - ───────────────────────────────────────────────────────────────────────────────────\n",
       "      2⋅f(ρ, z)          2                2                                                                                             2\n",
       "                      2⋅f (ρ, z)       2⋅f (ρ, z)                                                                                    ρ⋅f \n",
       "                                                                                                                                         \n",
       "                                                                                                                                         \n",
       "                                                                                                                                         \n",
       "                                                                                                                                         \n",
       "                                                                                                                                         \n",
       "                                                                                                                                         \n",
       "                                                                                                              0                          \n",
       "                                                                                                                                         \n",
       "                                                                                                                                         \n",
       "                                                                                                                                         \n",
       "                                                                                                                                         \n",
       "                                                                                                                                         \n",
       "                                                                                                                 ∂             ∂         \n",
       "                                                                                                                 ──(U(ρ, z))   ──(f(ρ, z)\n",
       "                                                                                       ∂           ∂             ∂z            ∂z        \n",
       "                                                                                   - 2⋅──(U(ρ, z))⋅──(U(ρ, z)) + ─────────── + ──────────\n",
       "                                                                                       ∂ρ          ∂z                 ρ        2⋅ρ⋅f(ρ, z\n",
       "                                                                                                                                         \n",
       "\n",
       "                                                                                                                                         \n",
       "                                                                                                                                         \n",
       "                                                                                                                                         \n",
       "                                                                                                                                         \n",
       "                                                                                                                                         \n",
       "                                                                                                                                         \n",
       "                                                                                                                                         \n",
       "                                                                                                                                         \n",
       "                                                                                                                                         \n",
       "                            2                             2                         ⎞                                                    \n",
       "       2       ⎛∂          ⎞         2       ⎛∂          ⎞       2       ∂          ⎟                                                    \n",
       "- 2⋅ρ⋅f (ρ, z)⋅⎜──(U(ρ, z))⎟  - 2⋅ρ⋅f (ρ, z)⋅⎜──(U(ρ, z))⎟  + 2⋅f (ρ, z)⋅──(U(ρ, z))⎟     ∂             ∂                                \n",
       "               ⎝∂ρ         ⎠                 ⎝∂z         ⎠               ∂ρ         ⎟   2⋅──(U(ρ, z))   ──(f(ρ, z))                      \n",
       "                                                                                    ⎠     ∂ρ            ∂ρ                               \n",
       "───────────────────────────────────────────────────────────────────────────────────── + ───────────── + ───────────                      \n",
       "                                                                                              ρ         2⋅ρ⋅f(ρ, z)                      \n",
       "(ρ, z)                                                                                                                                   \n",
       "                                                                                                                                         \n",
       "                                                                                                                       ⎛    2            \n",
       "                                                                                                                       ⎜   ∂             \n",
       "                                                                                                                     ρ⋅⎜ρ⋅───(U(ρ, z)) + \n",
       "                                                                                                                       ⎜    2            \n",
       "                                                                                                                       ⎝  ∂ρ             \n",
       "                                                                                                                     ────────────────────\n",
       "                                                                                                                                         \n",
       "                                                                                                                                         \n",
       "                                                                                                                                         \n",
       "                                                                                                                                         \n",
       "                                                                                                                                         \n",
       "                                                                                                                                         \n",
       ")                                                                                                                                        \n",
       "                                                                                                                                         \n",
       "─                                                                                                                                        \n",
       ")                                                                                                                                        \n",
       "                                                                                                                                         \n",
       "\n",
       "                                                                                                                                         \n",
       "                                                                                                                                         \n",
       "                                                                                                                                         \n",
       "                                                                                                                                         \n",
       "                                                                                                                                         \n",
       "                                                                                                      0                                  \n",
       "                                                                                                                                         \n",
       "                                                                                                                                         \n",
       "                                                                                                                                         \n",
       "                                                                                                                                         \n",
       "                                                                                                                                         \n",
       "                                                                                                                                         \n",
       "                                                                                                                                         \n",
       "                                                                                                                                         \n",
       "                                                                                                      0                                  \n",
       "                                                                                                                                         \n",
       "                                                                                                                                         \n",
       "                                                                                                                                         \n",
       "    2                       ⎞                     ⎛  ⎛             2                2⎞     ⎛  2              2         ⎞                 \n",
       "   ∂             ∂          ⎟  -2⋅U(ρ, z)         ⎜  ⎜⎛∂          ⎞    ⎛∂          ⎞ ⎟     ⎜ ∂              ∂          ⎟                2\n",
       "ρ⋅───(U(ρ, z)) + ──(U(ρ, z))⎟⋅ℯ             0.5⋅ρ⋅⎜ρ⋅⎜⎜──(f(ρ, z))⎟  + ⎜──(f(ρ, z))⎟ ⎟ - ρ⋅⎜───(f(ρ, z)) + ───(f(ρ, z))⎟⋅f(ρ, z) - 2⋅ρ⋅f \n",
       "    2            ∂ρ         ⎟                     ⎜  ⎝⎝∂ρ         ⎠    ⎝∂z         ⎠ ⎠     ⎜  2              2         ⎟                 \n",
       "  ∂z                        ⎠                     ⎝                                        ⎝∂ρ             ∂z          ⎠                 \n",
       "───────────────────────────────────────── - ─────────────────────────────────────────────────────────────────────────────────────────────\n",
       "       f(ρ, z)                                                                                                                      3    \n",
       "                                                                                                                                   f (ρ, \n",
       "                                                                                                                                         \n",
       "                                                                                                                                         \n",
       "                                                                                                                                         \n",
       "                                                                                                                                         \n",
       "                                                                                                                                         \n",
       "                                                                                                                                         \n",
       "                                                                                                      0                                  \n",
       "                                                                                                                                         \n",
       "                                                                                                                                         \n",
       "\n",
       "                                                                                                                                         \n",
       "                                                                                                                                         \n",
       "                                                                                                                                         \n",
       "                                                                                                                                         \n",
       "                                                                                                                                         \n",
       "                                                                                                                                         \n",
       "                                                                                                                                         \n",
       "                                                                                                                                         \n",
       "                                                                                                                                         \n",
       "                                                                                                                                         \n",
       "                                                                                                                                         \n",
       "                                                                                                                                         \n",
       "                                                                                                                                         \n",
       "                                                                                                                                         \n",
       "                                                                                                                                         \n",
       "                                                                                                                                         \n",
       "                                                                                                                                         \n",
       "                                                                                                                                         \n",
       "                    2                             2                         ⎞                                                            \n",
       "       ⎛∂          ⎞         2       ⎛∂          ⎞       2       ∂          ⎟  -2⋅U(ρ, z)                                                \n",
       "(ρ, z)⋅⎜──(U(ρ, z))⎟  - 2⋅ρ⋅f (ρ, z)⋅⎜──(U(ρ, z))⎟  + 2⋅f (ρ, z)⋅──(U(ρ, z))⎟⋅ℯ                                                          \n",
       "       ⎝∂ρ         ⎠                 ⎝∂z         ⎠               ∂ρ         ⎟                                                            \n",
       "                                                                            ⎠                                                            \n",
       "─────────────────────────────────────────────────────────────────────────────────────────                                                \n",
       "                                                                                                                                         \n",
       "z)                                                                                                                                       \n",
       "                                                                                                                                         \n",
       "                                                                                                                  2              2       \n",
       "                                                                                                                 ∂              ∂        \n",
       "                                                                                                                ───(f(ρ, z))   ───(f(ρ, z\n",
       "                                                                                                            2     2              2       \n",
       "                                                                                               ⎛∂          ⎞    ∂ρ             ∂z        \n",
       "                                                                                           - 2⋅⎜──(U(ρ, z))⎟  - ──────────── - ──────────\n",
       "                                                                                               ⎝∂z         ⎠     2⋅f(ρ, z)      2⋅f(ρ, z)\n",
       "                                                                                                                                         \n",
       "\n",
       "                                                                                                                                         \n",
       "                                                                                                                                         \n",
       "                                                                                                                                         \n",
       "                                                                                                                                         \n",
       "                                                                                                                                         \n",
       "                                                                                       0                                                 \n",
       "                                                                                                                                         \n",
       "                                                                                                                                         \n",
       "                                                                                                                                         \n",
       "                                                                                                                                         \n",
       "                                                                                                                                         \n",
       "                                                                                          ∂             ∂                                \n",
       "                                                                                          ──(U(ρ, z))   ──(f(ρ, z))                      \n",
       "                                                                ∂           ∂             ∂z            ∂z                               \n",
       "                                                            - 2⋅──(U(ρ, z))⋅──(U(ρ, z)) + ─────────── + ───────────                      \n",
       "                                                                ∂ρ          ∂z                 ρ        2⋅ρ⋅f(ρ, z)                      \n",
       "                                                                                                                                         \n",
       "                                                                                                                                         \n",
       "                                                                                                                                         \n",
       "                                                                                                                                         \n",
       "                                                                                                                                         \n",
       "                                                                                                                                         \n",
       "                                                                                                                                         \n",
       "                                                                                       0                                                 \n",
       "                                                                                                                                         \n",
       "                                                                                                                                         \n",
       "                                                                                                                                         \n",
       "                                           ⎛  ⎛             2                2⎞     ⎛  2              2         ⎞                        \n",
       "                  2                2       ⎜  ⎜⎛∂          ⎞    ⎛∂          ⎞ ⎟     ⎜ ∂              ∂          ⎟                2       \n",
       "))   ⎛∂          ⎞    ⎛∂          ⎞    0.5⋅⎜ρ⋅⎜⎜──(f(ρ, z))⎟  + ⎜──(f(ρ, z))⎟ ⎟ - ρ⋅⎜───(f(ρ, z)) + ───(f(ρ, z))⎟⋅f(ρ, z) - 2⋅ρ⋅f (ρ, z)⋅\n",
       "     ⎜──(f(ρ, z))⎟    ⎜──(f(ρ, z))⎟        ⎜  ⎝⎝∂ρ         ⎠    ⎝∂z         ⎠ ⎠     ⎜  2              2         ⎟                        \n",
       "     ⎝∂ρ         ⎠    ⎝∂z         ⎠        ⎝                                        ⎝∂ρ             ∂z          ⎠                        \n",
       "── + ────────────── + ────────────── - ──────────────────────────────────────────────────────────────────────────────────────────────────\n",
       "          2                2                                                                                             2               \n",
       "       2⋅f (ρ, z)       2⋅f (ρ, z)                                                                                    ρ⋅f (ρ, z)         \n",
       "\n",
       "                                                                                    ⎤\n",
       "                                                                                    ⎥\n",
       "                                                                                    ⎥\n",
       "                                                                                    ⎥\n",
       "                                                                                    ⎥\n",
       "                                                                                    ⎥\n",
       "                                                                                    ⎥\n",
       "                                                                                    ⎥\n",
       "                                                                                    ⎥\n",
       "                                                                                    ⎥\n",
       "                                                                                    ⎥\n",
       "                                                                                    ⎥\n",
       "                                                                                    ⎥\n",
       "                                                                                    ⎥\n",
       "                                                                                    ⎥\n",
       "                                                                                    ⎥\n",
       "                                                                                    ⎥\n",
       "                                                                                    ⎥\n",
       "                                                                                    ⎥\n",
       "                                                                                    ⎥\n",
       "                                                                                    ⎥\n",
       "                                                                                    ⎥\n",
       "                                                                                    ⎥\n",
       "                                                                                    ⎥\n",
       "                                                                                    ⎥\n",
       "                                                                                    ⎥\n",
       "                                                                                    ⎥\n",
       "             2                             2                         ⎞              ⎥\n",
       "⎛∂          ⎞         2       ⎛∂          ⎞       2       ∂          ⎟              ⎥\n",
       "⎜──(U(ρ, z))⎟  - 2⋅ρ⋅f (ρ, z)⋅⎜──(U(ρ, z))⎟  + 2⋅f (ρ, z)⋅──(U(ρ, z))⎟   ∂          ⎥\n",
       "⎝∂ρ         ⎠                 ⎝∂z         ⎠               ∂ρ         ⎟   ──(f(ρ, z))⎥\n",
       "                                                                     ⎠   ∂ρ         ⎥\n",
       "────────────────────────────────────────────────────────────────────── - ───────────⎥\n",
       "                                                                         2⋅ρ⋅f(ρ, z)⎥\n",
       "                                                                                    ⎦"
      ]
     },
     "execution_count": 19,
     "metadata": {},
     "output_type": "execute_result"
    }
   ],
   "source": [
    "einst = EinsteinTensor.from_metric(metric)\n",
    "einst.tensor()"
   ]
  },
  {
   "cell_type": "code",
   "execution_count": 20,
   "id": "c9b6ebdb",
   "metadata": {},
   "outputs": [],
   "source": [
    "#  rm1 = RiemannCurvatureTensor.from_christoffels(ch)\n",
    "#  rm1.tensor()"
   ]
  },
  {
   "cell_type": "code",
   "execution_count": 21,
   "id": "df76bf7e",
   "metadata": {},
   "outputs": [],
   "source": [
    "#  weyl = WeylTensor.from_metric(metric)\n",
    "#  weyl.tensor()"
   ]
  },
  {
   "cell_type": "code",
   "execution_count": 22,
   "id": "18146b6c",
   "metadata": {},
   "outputs": [
    {
     "data": {
      "text/latex": [
       "$\\displaystyle \\left[\\begin{matrix}\\frac{\\left(0.5 \\rho \\left(\\left(\\frac{\\partial}{\\partial \\rho} f{\\left(\\rho,z \\right)}\\right)^{2} + \\left(\\frac{\\partial}{\\partial z} f{\\left(\\rho,z \\right)}\\right)^{2}\\right) - 0.5 \\rho \\left(\\frac{\\partial^{2}}{\\partial \\rho^{2}} f{\\left(\\rho,z \\right)} + \\frac{\\partial^{2}}{\\partial z^{2}} f{\\left(\\rho,z \\right)}\\right) f{\\left(\\rho,z \\right)} - 1.0 \\rho f^{2}{\\left(\\rho,z \\right)} \\left(\\frac{\\partial}{\\partial \\rho} U{\\left(\\rho,z \\right)}\\right)^{2} - 1.0 \\rho f^{2}{\\left(\\rho,z \\right)} \\left(\\frac{\\partial}{\\partial z} U{\\left(\\rho,z \\right)}\\right)^{2} + \\left(\\rho \\frac{\\partial^{2}}{\\partial \\rho^{2}} U{\\left(\\rho,z \\right)} + \\rho \\frac{\\partial^{2}}{\\partial z^{2}} U{\\left(\\rho,z \\right)} + \\frac{\\partial}{\\partial \\rho} U{\\left(\\rho,z \\right)}\\right) f^{2}{\\left(\\rho,z \\right)} + 1.0 f^{2}{\\left(\\rho,z \\right)} \\frac{\\partial}{\\partial \\rho} U{\\left(\\rho,z \\right)}\\right) e^{2 U{\\left(\\rho,z \\right)}}}{\\rho f^{3}{\\left(\\rho,z \\right)}} & 0 & 0 & 0\\\\0 & - 1.0 \\left(\\frac{\\partial}{\\partial \\rho} U{\\left(\\rho,z \\right)}\\right)^{2} + 1.0 \\left(\\frac{\\partial}{\\partial z} U{\\left(\\rho,z \\right)}\\right)^{2} + \\frac{1.0 \\frac{\\partial}{\\partial \\rho} U{\\left(\\rho,z \\right)}}{\\rho} + \\frac{0.5 \\frac{\\partial}{\\partial \\rho} f{\\left(\\rho,z \\right)}}{\\rho f{\\left(\\rho,z \\right)}} & 0 & - 2 \\frac{\\partial}{\\partial \\rho} U{\\left(\\rho,z \\right)} \\frac{\\partial}{\\partial z} U{\\left(\\rho,z \\right)} + \\frac{\\frac{\\partial}{\\partial z} U{\\left(\\rho,z \\right)}}{\\rho} + \\frac{\\frac{\\partial}{\\partial z} f{\\left(\\rho,z \\right)}}{2 \\rho f{\\left(\\rho,z \\right)}}\\\\0 & 0 & \\frac{\\rho^{2} \\left(1.0 f^{2}{\\left(\\rho,z \\right)} \\left(\\frac{\\partial}{\\partial \\rho} U{\\left(\\rho,z \\right)}\\right)^{2} + 1.0 f^{2}{\\left(\\rho,z \\right)} \\frac{\\partial^{2}}{\\partial \\rho^{2}} U{\\left(\\rho,z \\right)} + 1.0 f^{2}{\\left(\\rho,z \\right)} \\left(\\frac{\\partial}{\\partial z} U{\\left(\\rho,z \\right)}\\right)^{2} + 1.0 f^{2}{\\left(\\rho,z \\right)} \\frac{\\partial^{2}}{\\partial z^{2}} U{\\left(\\rho,z \\right)} + 0.5 f{\\left(\\rho,z \\right)} \\frac{\\partial^{2}}{\\partial \\rho^{2}} f{\\left(\\rho,z \\right)} + 0.5 f{\\left(\\rho,z \\right)} \\frac{\\partial^{2}}{\\partial z^{2}} f{\\left(\\rho,z \\right)} - 0.5 \\left(\\frac{\\partial}{\\partial \\rho} f{\\left(\\rho,z \\right)}\\right)^{2} - 0.5 \\left(\\frac{\\partial}{\\partial z} f{\\left(\\rho,z \\right)}\\right)^{2}\\right) e^{- 2 U{\\left(\\rho,z \\right)}}}{f^{3}{\\left(\\rho,z \\right)}} & 0\\\\0 & - 2 \\frac{\\partial}{\\partial \\rho} U{\\left(\\rho,z \\right)} \\frac{\\partial}{\\partial z} U{\\left(\\rho,z \\right)} + \\frac{\\frac{\\partial}{\\partial z} U{\\left(\\rho,z \\right)}}{\\rho} + \\frac{\\frac{\\partial}{\\partial z} f{\\left(\\rho,z \\right)}}{2 \\rho f{\\left(\\rho,z \\right)}} & 0 & 1.0 \\left(\\frac{\\partial}{\\partial \\rho} U{\\left(\\rho,z \\right)}\\right)^{2} - 1.0 \\left(\\frac{\\partial}{\\partial z} U{\\left(\\rho,z \\right)}\\right)^{2} - \\frac{1.0 \\frac{\\partial}{\\partial \\rho} U{\\left(\\rho,z \\right)}}{\\rho} - \\frac{0.5 \\frac{\\partial}{\\partial \\rho} f{\\left(\\rho,z \\right)}}{\\rho f{\\left(\\rho,z \\right)}}\\end{matrix}\\right]$"
      ],
      "text/plain": [
       "⎡⎛      ⎛             2                2⎞         ⎛  2              2         ⎞                                   2                      \n",
       "⎢⎜      ⎜⎛∂          ⎞    ⎛∂          ⎞ ⎟         ⎜ ∂              ∂          ⎟              2       ⎛∂          ⎞       2       ⎛∂      \n",
       "⎢⎜0.5⋅ρ⋅⎜⎜──(f(ρ, z))⎟  + ⎜──(f(ρ, z))⎟ ⎟ - 0.5⋅ρ⋅⎜───(f(ρ, z)) + ───(f(ρ, z))⎟⋅f(ρ, z) - ρ⋅f (ρ, z)⋅⎜──(U(ρ, z))⎟  - ρ⋅f (ρ, z)⋅⎜──(U(ρ,\n",
       "⎢⎜      ⎝⎝∂ρ         ⎠    ⎝∂z         ⎠ ⎠         ⎜  2              2         ⎟                      ⎝∂ρ         ⎠               ⎝∂z     \n",
       "⎢⎝                                                ⎝∂ρ             ∂z          ⎠                                                          \n",
       "⎢────────────────────────────────────────────────────────────────────────────────────────────────────────────────────────────────────────\n",
       "⎢                                                                                                                      3                 \n",
       "⎢                                                                                                                   ρ⋅f (ρ, z)           \n",
       "⎢                                                                                                                                        \n",
       "⎢                                                                                                                                        \n",
       "⎢                                                                                                                                        \n",
       "⎢                                                                                                                                        \n",
       "⎢                                                                                                                       0                \n",
       "⎢                                                                                                                                        \n",
       "⎢                                                                                                                                        \n",
       "⎢                                                                                                                                        \n",
       "⎢                                                                                                                                        \n",
       "⎢                                                                                                                                        \n",
       "⎢                                                                                                                                        \n",
       "⎢                                                                                                                                        \n",
       "⎢                                                                                                                       0                \n",
       "⎢                                                                                                                                        \n",
       "⎢                                                                                                                                        \n",
       "⎢                                                                                                                                        \n",
       "⎢                                                                                                                                        \n",
       "⎢                                                                                                                                        \n",
       "⎢                                                                                                                                        \n",
       "⎢                                                                                                                       0                \n",
       "⎣                                                                                                                                        \n",
       "\n",
       "     2   ⎛    2                2                       ⎞                                    ⎞                                            \n",
       "    ⎞    ⎜   ∂                ∂             ∂          ⎟  2              2       ∂          ⎟  2⋅U(ρ, z)                                 \n",
       " z))⎟  + ⎜ρ⋅───(U(ρ, z)) + ρ⋅───(U(ρ, z)) + ──(U(ρ, z))⎟⋅f (ρ, z) + 1.0⋅f (ρ, z)⋅──(U(ρ, z))⎟⋅ℯ                                          \n",
       "    ⎠    ⎜    2                2            ∂ρ         ⎟                         ∂ρ         ⎟                                            \n",
       "         ⎝  ∂ρ               ∂z                        ⎠                                    ⎠                                            \n",
       "────────────────────────────────────────────────────────────────────────────────────────────────────────                                 \n",
       "                                                                                                                                         \n",
       "                                                                                                                                         \n",
       "                                                                                                                                         \n",
       "                                                                                                                                         \n",
       "                                                                                                                         2               \n",
       "                                                                                                            ⎛∂          ⎞        ⎛∂      \n",
       "                                                                                                          - ⎜──(U(ρ, z))⎟  + 1.0⋅⎜──(U(ρ,\n",
       "                                                                                                            ⎝∂ρ         ⎠        ⎝∂z     \n",
       "                                                                                                                                         \n",
       "                                                                                                                                         \n",
       "                                                                                                                                         \n",
       "                                                                                                                                         \n",
       "                                                                                                                                         \n",
       "                                                                                                                                         \n",
       "                                                                                                                                         \n",
       "                                                                                                                                         \n",
       "                                                                                                                                         \n",
       "                                                                                                                                         \n",
       "                                                                                                                                         \n",
       "                                                                                                                                         \n",
       "                                                                                                                       ∂           ∂     \n",
       "                                                                                                                   - 2⋅──(U(ρ, z))⋅──(U(ρ\n",
       "                                                                                                                       ∂ρ          ∂z    \n",
       "\n",
       "                                                                                                                                         \n",
       "                                                                                                                                         \n",
       "                                                                                                                                         \n",
       "                                                                                                                                         \n",
       "                                                                                                                                         \n",
       "     0                                                                                                                                   \n",
       "                                                                                                                                         \n",
       "                                                                                                                                         \n",
       "                                                                                                                                         \n",
       "             ∂                 ∂                                                                                                         \n",
       "     2   1.0⋅──(U(ρ, z))   0.5⋅──(f(ρ, z))                                                                                               \n",
       "    ⎞        ∂ρ                ∂ρ                                                                                                        \n",
       " z))⎟  + ─────────────── + ───────────────                                                                                               \n",
       "    ⎠           ρ             ρ⋅f(ρ, z)                                                                                                  \n",
       "                                                                                                                                         \n",
       "                                               ⎛                          2                  2                                      2    \n",
       "                                             2 ⎜     2       ⎛∂          ⎞         2        ∂                  2       ⎛∂          ⎞     \n",
       "                                            ρ ⋅⎜1.0⋅f (ρ, z)⋅⎜──(U(ρ, z))⎟  + 1.0⋅f (ρ, z)⋅───(U(ρ, z)) + 1.0⋅f (ρ, z)⋅⎜──(U(ρ, z))⎟  + 1\n",
       "                                               ⎜             ⎝∂ρ         ⎠                   2                         ⎝∂z         ⎠     \n",
       "                                               ⎝                                           ∂ρ                                            \n",
       "     0                                      ─────────────────────────────────────────────────────────────────────────────────────────────\n",
       "                                                                                                                                         \n",
       "                                                                                                                                         \n",
       "                                                                                                                                         \n",
       "        ∂             ∂                                                                                                                  \n",
       "        ──(U(ρ, z))   ──(f(ρ, z))                                                                                                        \n",
       "        ∂z            ∂z                                                                                                                 \n",
       ", z)) + ─────────── + ───────────                                                                                                        \n",
       "             ρ        2⋅ρ⋅f(ρ, z)                                                                                                        \n",
       "\n",
       "                                                                                                                                         \n",
       "                                                                                                                                         \n",
       "                                                                                                                                         \n",
       "                                                                                                                                         \n",
       "                                                                                                                                         \n",
       "                   0                                                                                                                     \n",
       "                                                                                                                                         \n",
       "                                                                                                                                         \n",
       "                                                                                                                                         \n",
       "                                                                                                                                         \n",
       "                                                                                                                                         \n",
       "                                                                                                                                         \n",
       "                   0                                                                                                                     \n",
       "                                                                                                                                         \n",
       "                                                                                                                                         \n",
       "              2                          2                          2                             2                    2⎞                \n",
       "    2        ∂                          ∂                          ∂                 ⎛∂          ⎞        ⎛∂          ⎞ ⎟  -2⋅U(ρ, z)    \n",
       ".0⋅f (ρ, z)⋅───(U(ρ, z)) + 0.5⋅f(ρ, z)⋅───(f(ρ, z)) + 0.5⋅f(ρ, z)⋅───(f(ρ, z)) - 0.5⋅⎜──(f(ρ, z))⎟  - 0.5⋅⎜──(f(ρ, z))⎟ ⎟⋅ℯ              \n",
       "              2                          2                          2                ⎝∂ρ         ⎠        ⎝∂z         ⎠ ⎟                \n",
       "            ∂z                         ∂ρ                         ∂z                                                    ⎠                \n",
       "─────────────────────────────────────────────────────────────────────────────────────────────────────────────────────────────────────    \n",
       "                 3                                                                                                                       \n",
       "                f (ρ, z)                                                                                                                 \n",
       "                                                                                                                                         \n",
       "                                                                                                                                         \n",
       "                                                                                                                                         \n",
       "                                                                                                                                         \n",
       "                   0                                                                                                                   1.\n",
       "                                                                                                                                         \n",
       "\n",
       "                                                                 ⎤\n",
       "                                                                 ⎥\n",
       "                                                                 ⎥\n",
       "                                                                 ⎥\n",
       "                                                                 ⎥\n",
       "                               0                                 ⎥\n",
       "                                                                 ⎥\n",
       "                                                                 ⎥\n",
       "                                                                 ⎥\n",
       "                                  ∂             ∂                ⎥\n",
       "                                  ──(U(ρ, z))   ──(f(ρ, z))      ⎥\n",
       "        ∂           ∂             ∂z            ∂z               ⎥\n",
       "    - 2⋅──(U(ρ, z))⋅──(U(ρ, z)) + ─────────── + ───────────      ⎥\n",
       "        ∂ρ          ∂z                 ρ        2⋅ρ⋅f(ρ, z)      ⎥\n",
       "                                                                 ⎥\n",
       "                                                                 ⎥\n",
       "                                                                 ⎥\n",
       "                                                                 ⎥\n",
       "                                                                 ⎥\n",
       "                                                                 ⎥\n",
       "                               0                                 ⎥\n",
       "                                                                 ⎥\n",
       "                                                                 ⎥\n",
       "                                                                 ⎥\n",
       "                                    ∂                 ∂          ⎥\n",
       "               2                2   ──(U(ρ, z))   0.5⋅──(f(ρ, z))⎥\n",
       "  ⎛∂          ⎞    ⎛∂          ⎞    ∂ρ                ∂ρ         ⎥\n",
       "0⋅⎜──(U(ρ, z))⎟  - ⎜──(U(ρ, z))⎟  - ─────────── - ───────────────⎥\n",
       "  ⎝∂ρ         ⎠    ⎝∂z         ⎠         ρ           ρ⋅f(ρ, z)   ⎦"
      ]
     },
     "execution_count": 22,
     "metadata": {},
     "output_type": "execute_result"
    }
   ],
   "source": [
    "einsteinSimplified = simplify(einst.tensor())\n",
    "einsteinSimplified"
   ]
  },
  {
   "cell_type": "code",
   "execution_count": 23,
   "id": "99044590",
   "metadata": {},
   "outputs": [
    {
     "data": {
      "text/latex": [
       "$\\displaystyle \\left[\\begin{matrix}\\frac{\\left(\\rho \\frac{\\partial^{2}}{\\partial \\rho^{2}} U{\\left(\\rho,z \\right)} + \\rho \\frac{\\partial^{2}}{\\partial z^{2}} U{\\left(\\rho,z \\right)} + \\frac{\\partial}{\\partial \\rho} U{\\left(\\rho,z \\right)}\\right) e^{2 U{\\left(\\rho,z \\right)}}}{\\rho f{\\left(\\rho,z \\right)}} & 0 & 0 & 0\\\\0 & \\frac{\\rho \\left(\\left(\\frac{\\partial}{\\partial \\rho} f{\\left(\\rho,z \\right)}\\right)^{2} + \\left(\\frac{\\partial}{\\partial z} f{\\left(\\rho,z \\right)}\\right)^{2}\\right) - \\rho \\left(\\frac{\\partial^{2}}{\\partial \\rho^{2}} f{\\left(\\rho,z \\right)} + \\frac{\\partial^{2}}{\\partial z^{2}} f{\\left(\\rho,z \\right)}\\right) f{\\left(\\rho,z \\right)} - 4 \\rho f^{2}{\\left(\\rho,z \\right)} \\left(\\frac{\\partial}{\\partial \\rho} U{\\left(\\rho,z \\right)}\\right)^{2} + 4 f^{2}{\\left(\\rho,z \\right)} \\frac{\\partial}{\\partial \\rho} U{\\left(\\rho,z \\right)} + f{\\left(\\rho,z \\right)} \\frac{\\partial}{\\partial \\rho} f{\\left(\\rho,z \\right)}}{2 \\rho f^{2}{\\left(\\rho,z \\right)}} & 0 & - 2 \\frac{\\partial}{\\partial \\rho} U{\\left(\\rho,z \\right)} \\frac{\\partial}{\\partial z} U{\\left(\\rho,z \\right)} + \\frac{\\frac{\\partial}{\\partial z} U{\\left(\\rho,z \\right)}}{\\rho} + \\frac{\\frac{\\partial}{\\partial z} f{\\left(\\rho,z \\right)}}{2 \\rho f{\\left(\\rho,z \\right)}}\\\\0 & 0 & \\frac{\\rho \\left(\\rho \\frac{\\partial^{2}}{\\partial \\rho^{2}} U{\\left(\\rho,z \\right)} + \\rho \\frac{\\partial^{2}}{\\partial z^{2}} U{\\left(\\rho,z \\right)} + \\frac{\\partial}{\\partial \\rho} U{\\left(\\rho,z \\right)}\\right) e^{- 2 U{\\left(\\rho,z \\right)}}}{f{\\left(\\rho,z \\right)}} & 0\\\\0 & - 2 \\frac{\\partial}{\\partial \\rho} U{\\left(\\rho,z \\right)} \\frac{\\partial}{\\partial z} U{\\left(\\rho,z \\right)} + \\frac{\\frac{\\partial}{\\partial z} U{\\left(\\rho,z \\right)}}{\\rho} + \\frac{\\frac{\\partial}{\\partial z} f{\\left(\\rho,z \\right)}}{2 \\rho f{\\left(\\rho,z \\right)}} & 0 & \\frac{\\rho \\left(\\left(\\frac{\\partial}{\\partial \\rho} f{\\left(\\rho,z \\right)}\\right)^{2} + \\left(\\frac{\\partial}{\\partial z} f{\\left(\\rho,z \\right)}\\right)^{2}\\right) - \\rho \\left(\\frac{\\partial^{2}}{\\partial \\rho^{2}} f{\\left(\\rho,z \\right)} + \\frac{\\partial^{2}}{\\partial z^{2}} f{\\left(\\rho,z \\right)}\\right) f{\\left(\\rho,z \\right)} - 4 \\rho f^{2}{\\left(\\rho,z \\right)} \\left(\\frac{\\partial}{\\partial z} U{\\left(\\rho,z \\right)}\\right)^{2} - f{\\left(\\rho,z \\right)} \\frac{\\partial}{\\partial \\rho} f{\\left(\\rho,z \\right)}}{2 \\rho f^{2}{\\left(\\rho,z \\right)}}\\end{matrix}\\right]$"
      ],
      "text/plain": [
       "⎡⎛    2                2                       ⎞                                                                                         \n",
       "⎢⎜   ∂                ∂             ∂          ⎟  2⋅U(ρ, z)                                                                              \n",
       "⎢⎜ρ⋅───(U(ρ, z)) + ρ⋅───(U(ρ, z)) + ──(U(ρ, z))⎟⋅ℯ                                                                                       \n",
       "⎢⎜    2                2            ∂ρ         ⎟                                                                                         \n",
       "⎢⎝  ∂ρ               ∂z                        ⎠                                                                                         \n",
       "⎢──────────────────────────────────────────────────────────                                                                              \n",
       "⎢                        ρ⋅f(ρ, z)                                                                                                       \n",
       "⎢                                                                                                                                        \n",
       "⎢                                                              ⎛             2                2⎞     ⎛  2              2         ⎞       \n",
       "⎢                                                              ⎜⎛∂          ⎞    ⎛∂          ⎞ ⎟     ⎜ ∂              ∂          ⎟       \n",
       "⎢                                                            ρ⋅⎜⎜──(f(ρ, z))⎟  + ⎜──(f(ρ, z))⎟ ⎟ - ρ⋅⎜───(f(ρ, z)) + ───(f(ρ, z))⎟⋅f(ρ, z\n",
       "⎢                                                              ⎝⎝∂ρ         ⎠    ⎝∂z         ⎠ ⎠     ⎜  2              2         ⎟       \n",
       "⎢                                                                                                    ⎝∂ρ             ∂z          ⎠       \n",
       "⎢                            0                               ────────────────────────────────────────────────────────────────────────────\n",
       "⎢                                                                                                                                        \n",
       "⎢                                                                                                                                   2⋅ρ⋅f\n",
       "⎢                                                                                                                                        \n",
       "⎢                                                                                                                                        \n",
       "⎢                                                                                                                                        \n",
       "⎢                                                                                                                                        \n",
       "⎢                                                                                                                                        \n",
       "⎢                                                                                                                                        \n",
       "⎢                            0                                                                                                           \n",
       "⎢                                                                                                                                        \n",
       "⎢                                                                                                                                        \n",
       "⎢                                                                                                                                        \n",
       "⎢                                                                                                                                        \n",
       "⎢                                                                                                                                        \n",
       "⎢                                                                                                                                        \n",
       "⎢                                                                                                                 ∂           ∂          \n",
       "⎢                            0                                                                                - 2⋅──(U(ρ, z))⋅──(U(ρ, z))\n",
       "⎢                                                                                                                 ∂ρ          ∂z         \n",
       "⎣                                                                                                                                        \n",
       "\n",
       "                                                                                                                                         \n",
       "                                                                                                                                         \n",
       "                                                                                                                                         \n",
       "                                                                                                                                         \n",
       "                                                                                                                                         \n",
       "0                                                                                                             0                          \n",
       "                                                                                                                                         \n",
       "                                                                                                                                         \n",
       "                              2                                                                                                          \n",
       "         2       ⎛∂          ⎞       2       ∂                     ∂                                                                     \n",
       ") - 4⋅ρ⋅f (ρ, z)⋅⎜──(U(ρ, z))⎟  + 4⋅f (ρ, z)⋅──(U(ρ, z)) + f(ρ, z)⋅──(f(ρ, z))                                                           \n",
       "                 ⎝∂ρ         ⎠               ∂ρ                    ∂ρ                                                                    \n",
       "                                                                                                                                         \n",
       "──────────────────────────────────────────────────────────────────────────────                                0                          \n",
       "2                                                                                                                                        \n",
       " (ρ, z)                                                                                                                                  \n",
       "                                                                                                                                         \n",
       "                                                                                  ⎛    2                2                       ⎞        \n",
       "                                                                                  ⎜   ∂                ∂             ∂          ⎟  -2⋅U(ρ\n",
       "                                                                                ρ⋅⎜ρ⋅───(U(ρ, z)) + ρ⋅───(U(ρ, z)) + ──(U(ρ, z))⎟⋅ℯ      \n",
       "                                                                                  ⎜    2                2            ∂ρ         ⎟        \n",
       "                                                                                  ⎝  ∂ρ               ∂z                        ⎠        \n",
       "0                                                                               ─────────────────────────────────────────────────────────\n",
       "                                                                                                           f(ρ, z)                       \n",
       "                                                                                                                                         \n",
       "                                                                                                                                         \n",
       "                                                                                                                                         \n",
       "   ∂             ∂                                                                                                                       \n",
       "   ──(U(ρ, z))   ──(f(ρ, z))                                                                                                             \n",
       "   ∂z            ∂z                                                                                                                      \n",
       " + ─────────── + ───────────                                                                                  0                          \n",
       "        ρ        2⋅ρ⋅f(ρ, z)                                                                                                             \n",
       "                                                                                                                                         \n",
       "\n",
       "                                                                                                                                       ⎤\n",
       "                                                                                                                                       ⎥\n",
       "                                                                                                                                       ⎥\n",
       "                                                                                                                                       ⎥\n",
       "                                                                                                                                       ⎥\n",
       "                                                                      0                                                                ⎥\n",
       "                                                                                                                                       ⎥\n",
       "                                                                                                                                       ⎥\n",
       "                                                                                                                                       ⎥\n",
       "                                                                                                                                       ⎥\n",
       "                                                                         ∂             ∂                                               ⎥\n",
       "                                                                         ──(U(ρ, z))   ──(f(ρ, z))                                     ⎥\n",
       "                                               ∂           ∂             ∂z            ∂z                                              ⎥\n",
       "                                           - 2⋅──(U(ρ, z))⋅──(U(ρ, z)) + ─────────── + ───────────                                     ⎥\n",
       "                                               ∂ρ          ∂z                 ρ        2⋅ρ⋅f(ρ, z)                                     ⎥\n",
       "                                                                                                                                       ⎥\n",
       "                                                                                                                                       ⎥\n",
       "                                                                                                                                       ⎥\n",
       ", z)                                                                                                                                   ⎥\n",
       "                                                                                                                                       ⎥\n",
       "                                                                                                                                       ⎥\n",
       "                                                                                                                                       ⎥\n",
       "────                                                                  0                                                                ⎥\n",
       "                                                                                                                                       ⎥\n",
       "                                                                                                                                       ⎥\n",
       "        ⎛             2                2⎞     ⎛  2              2         ⎞                                     2                      ⎥\n",
       "        ⎜⎛∂          ⎞    ⎛∂          ⎞ ⎟     ⎜ ∂              ∂          ⎟                2       ⎛∂          ⎞            ∂          ⎥\n",
       "      ρ⋅⎜⎜──(f(ρ, z))⎟  + ⎜──(f(ρ, z))⎟ ⎟ - ρ⋅⎜───(f(ρ, z)) + ───(f(ρ, z))⎟⋅f(ρ, z) - 4⋅ρ⋅f (ρ, z)⋅⎜──(U(ρ, z))⎟  - f(ρ, z)⋅──(f(ρ, z))⎥\n",
       "        ⎝⎝∂ρ         ⎠    ⎝∂z         ⎠ ⎠     ⎜  2              2         ⎟                        ⎝∂z         ⎠            ∂ρ         ⎥\n",
       "                                              ⎝∂ρ             ∂z          ⎠                                                            ⎥\n",
       "      ─────────────────────────────────────────────────────────────────────────────────────────────────────────────────────────────────⎥\n",
       "                                                                      2                                                                ⎥\n",
       "                                                                 2⋅ρ⋅f (ρ, z)                                                          ⎦"
      ]
     },
     "execution_count": 23,
     "metadata": {},
     "output_type": "execute_result"
    }
   ],
   "source": [
    "ricciSimplified = simplify(Ric.tensor())\n",
    "ricciSimplified"
   ]
  },
  {
   "cell_type": "code",
   "execution_count": 30,
   "id": "871e9ec7",
   "metadata": {},
   "outputs": [
    {
     "data": {
      "image/png": "[encoded data removed]",
      "text/latex": [
       "$\\displaystyle \\frac{\\partial^{2}}{\\partial \\rho^{2}} U{\\left(\\rho,z \\right)} + \\frac{\\partial^{2}}{\\partial z^{2}} U{\\left(\\rho,z \\right)} + \\frac{\\frac{\\partial}{\\partial \\rho} U{\\left(\\rho,z \\right)}}{\\rho} = 0$"
      ],
      "text/plain": [
       "                              ∂              \n",
       "  2              2            ──(U(ρ, z))    \n",
       " ∂              ∂             ∂ρ             \n",
       "───(U(ρ, z)) + ───(U(ρ, z)) + ─────────── = 0\n",
       "  2              2                 ρ         \n",
       "∂ρ             ∂z                            "
      ]
     },
     "execution_count": 30,
     "metadata": {},
     "output_type": "execute_result"
    }
   ],
   "source": [
    "equation2 = Eq(expand( (1/rho)*ricciSimplified[0,0].args[2] ) ,0)\n",
    "equation2"
   ]
  },
  {
   "cell_type": "code",
   "execution_count": 36,
   "id": "fa6fde36",
   "metadata": {},
   "outputs": [
    {
     "data": {
      "image/png": "[encoded data removed]",
      "text/latex": [
       "$\\displaystyle - 2 \\frac{\\partial}{\\partial \\rho} U{\\left(\\rho,z \\right)} \\frac{\\partial}{\\partial z} U{\\left(\\rho,z \\right)} + \\frac{\\frac{\\partial}{\\partial z} U{\\left(\\rho,z \\right)}}{\\rho} + \\frac{\\frac{\\partial}{\\partial z} f{\\left(\\rho,z \\right)}}{2 \\rho f{\\left(\\rho,z \\right)}}$"
      ],
      "text/plain": [
       "                              ∂             ∂          \n",
       "                              ──(U(ρ, z))   ──(f(ρ, z))\n",
       "    ∂           ∂             ∂z            ∂z         \n",
       "- 2⋅──(U(ρ, z))⋅──(U(ρ, z)) + ─────────── + ───────────\n",
       "    ∂ρ          ∂z                 ρ        2⋅ρ⋅f(ρ, z)"
      ]
     },
     "execution_count": 36,
     "metadata": {},
     "output_type": "execute_result"
    }
   ],
   "source": [
    "constraintKz = ricciSimplified[3,1]\n",
    "constraintKz"
   ]
  },
  {
   "cell_type": "code",
   "execution_count": 37,
   "id": "01e53435",
   "metadata": {},
   "outputs": [
    {
     "data": {
      "image/png": "[encoded data removed]",
      "text/latex": [
       "$\\displaystyle - 1.0 \\left(\\frac{\\partial}{\\partial \\rho} U{\\left(\\rho,z \\right)}\\right)^{2} + 1.0 \\left(\\frac{\\partial}{\\partial z} U{\\left(\\rho,z \\right)}\\right)^{2} + \\frac{1.0 \\frac{\\partial}{\\partial \\rho} U{\\left(\\rho,z \\right)}}{\\rho} + \\frac{0.5 \\frac{\\partial}{\\partial \\rho} f{\\left(\\rho,z \\right)}}{\\rho f{\\left(\\rho,z \\right)}}$"
      ],
      "text/plain": [
       "                                            ∂                 ∂          \n",
       "               2                    2   1.0⋅──(U(ρ, z))   0.5⋅──(f(ρ, z))\n",
       "  ⎛∂          ⎞        ⎛∂          ⎞        ∂ρ                ∂ρ         \n",
       "- ⎜──(U(ρ, z))⎟  + 1.0⋅⎜──(U(ρ, z))⎟  + ─────────────── + ───────────────\n",
       "  ⎝∂ρ         ⎠        ⎝∂z         ⎠           ρ             ρ⋅f(ρ, z)   "
      ]
     },
     "execution_count": 37,
     "metadata": {},
     "output_type": "execute_result"
    }
   ],
   "source": [
    "constraintKrho = einsteinSimplified[1,1]\n",
    "constraintKrho"
   ]
  },
  {
   "cell_type": "code",
   "execution_count": 41,
   "id": "a344fc19",
   "metadata": {},
   "outputs": [
    {
     "data": {
      "image/png": "[encoded data removed]",
      "text/latex": [
       "$\\displaystyle K{\\left(\\rho,z \\right)} = U{\\left(\\rho,z \\right)} + \\frac{\\log{\\left(f{\\left(\\rho,z \\right)} \\right)}}{2}$"
      ],
      "text/plain": [
       "                    log(f(ρ, z))\n",
       "K(ρ, z) = U(ρ, z) + ────────────\n",
       "                         2      "
      ]
     },
     "execution_count": 41,
     "metadata": {},
     "output_type": "execute_result"
    }
   ],
   "source": [
    "equation3b = Eq( K , Rational(1,2)*log(f) + U)\n",
    "equation3b "
   ]
  },
  {
   "cell_type": "code",
   "execution_count": 59,
   "id": "9f68c656",
   "metadata": {},
   "outputs": [
    {
     "data": {
      "image/png": "[encoded data removed]",
      "text/latex": [
       "$\\displaystyle \\frac{\\partial}{\\partial \\rho} f{\\left(\\rho,z \\right)} = 2 \\left(\\frac{\\partial}{\\partial \\rho} K{\\left(\\rho,z \\right)} - \\frac{\\partial}{\\partial \\rho} U{\\left(\\rho,z \\right)}\\right) f{\\left(\\rho,z \\right)}$"
      ],
      "text/plain": [
       "∂               ⎛∂             ∂          ⎞        \n",
       "──(f(ρ, z)) = 2⋅⎜──(K(ρ, z)) - ──(U(ρ, z))⎟⋅f(ρ, z)\n",
       "∂ρ              ⎝∂ρ            ∂ρ         ⎠        "
      ]
     },
     "execution_count": 59,
     "metadata": {},
     "output_type": "execute_result"
    }
   ],
   "source": [
    "dfdrho = Eq(diff(f,rho) , solve( Eq(equation3b.lhs.diff(rho),equation3b.rhs.diff(rho)), diff(f,rho) )[0] ) \n",
    "dfdrho"
   ]
  },
  {
   "cell_type": "code",
   "execution_count": 58,
   "id": "2cbf7bec",
   "metadata": {},
   "outputs": [
    {
     "data": {
      "image/png": "[encoded data removed]",
      "text/latex": [
       "$\\displaystyle \\frac{\\partial}{\\partial z} f{\\left(\\rho,z \\right)} = 2 \\left(\\frac{\\partial}{\\partial z} K{\\left(\\rho,z \\right)} - \\frac{\\partial}{\\partial z} U{\\left(\\rho,z \\right)}\\right) f{\\left(\\rho,z \\right)}$"
      ],
      "text/plain": [
       "∂               ⎛∂             ∂          ⎞        \n",
       "──(f(ρ, z)) = 2⋅⎜──(K(ρ, z)) - ──(U(ρ, z))⎟⋅f(ρ, z)\n",
       "∂z              ⎝∂z            ∂z         ⎠        "
      ]
     },
     "execution_count": 58,
     "metadata": {},
     "output_type": "execute_result"
    }
   ],
   "source": [
    "dfdz = Eq(diff(f,z) , solve( Eq(equation3b.lhs.diff(z),equation3b.rhs.diff(z)), diff(f,z) )[0] ) \n",
    "dfdz"
   ]
  },
  {
   "cell_type": "code",
   "execution_count": 67,
   "id": "7abd7111",
   "metadata": {},
   "outputs": [
    {
     "data": {
      "image/png": "[encoded data removed]",
      "text/latex": [
       "$\\displaystyle \\frac{\\partial}{\\partial z} K{\\left(\\rho,z \\right)} = 2 \\rho \\frac{\\partial}{\\partial \\rho} U{\\left(\\rho,z \\right)} \\frac{\\partial}{\\partial z} U{\\left(\\rho,z \\right)}$"
      ],
      "text/plain": [
       "∂                 ∂           ∂          \n",
       "──(K(ρ, z)) = 2⋅ρ⋅──(U(ρ, z))⋅──(U(ρ, z))\n",
       "∂z                ∂ρ          ∂z         "
      ]
     },
     "execution_count": 67,
     "metadata": {},
     "output_type": "execute_result"
    }
   ],
   "source": [
    "equation3a2 = Eq(diff(K,z) , solve( simplify(constraintKz.subs(dfdz.lhs,dfdz.rhs)), diff(K,z) )[0] ) \n",
    "equation3a2"
   ]
  },
  {
   "cell_type": "code",
   "execution_count": 68,
   "id": "e45b30f0",
   "metadata": {},
   "outputs": [
    {
     "data": {
      "image/png": "[encoded data removed]",
      "text/latex": [
       "$\\displaystyle \\frac{\\partial}{\\partial \\rho} K{\\left(\\rho,z \\right)} = \\rho \\left(\\left(\\frac{\\partial}{\\partial \\rho} U{\\left(\\rho,z \\right)}\\right)^{2} - \\left(\\frac{\\partial}{\\partial z} U{\\left(\\rho,z \\right)}\\right)^{2}\\right)$"
      ],
      "text/plain": [
       "                ⎛             2                2⎞\n",
       "∂               ⎜⎛∂          ⎞    ⎛∂          ⎞ ⎟\n",
       "──(K(ρ, z)) = ρ⋅⎜⎜──(U(ρ, z))⎟  - ⎜──(U(ρ, z))⎟ ⎟\n",
       "∂ρ              ⎝⎝∂ρ         ⎠    ⎝∂z         ⎠ ⎠"
      ]
     },
     "execution_count": 68,
     "metadata": {},
     "output_type": "execute_result"
    }
   ],
   "source": [
    "equation3a1 = Eq(diff(K,rho) , solve( simplify(constraintKrho.subs(dfdrho.lhs,dfdrho.rhs)), diff(K,rho) )[0] ) \n",
    "equation3a1"
   ]
  },
  {
   "cell_type": "code",
   "execution_count": 72,
   "id": "6af4fe5a",
   "metadata": {},
   "outputs": [
    {
     "data": {
      "text/latex": [
       "$\\displaystyle \\left[\\begin{matrix}\\frac{\\partial^{2}}{\\partial \\rho^{2}} U{\\left(\\rho,z \\right)} + \\frac{\\partial^{2}}{\\partial z^{2}} U{\\left(\\rho,z \\right)} + \\frac{\\frac{\\partial}{\\partial \\rho} U{\\left(\\rho,z \\right)}}{\\rho} = 0\\\\\\frac{\\partial}{\\partial \\rho} K{\\left(\\rho,z \\right)} = \\rho \\left(\\left(\\frac{\\partial}{\\partial \\rho} U{\\left(\\rho,z \\right)}\\right)^{2} - \\left(\\frac{\\partial}{\\partial z} U{\\left(\\rho,z \\right)}\\right)^{2}\\right)\\\\\\frac{\\partial}{\\partial z} K{\\left(\\rho,z \\right)} = 2 \\rho \\frac{\\partial}{\\partial \\rho} U{\\left(\\rho,z \\right)} \\frac{\\partial}{\\partial z} U{\\left(\\rho,z \\right)}\\end{matrix}\\right]$"
      ],
      "text/plain": [
       "⎡                                ∂                ⎤\n",
       "⎢    2              2            ──(U(ρ, z))      ⎥\n",
       "⎢   ∂              ∂             ∂ρ               ⎥\n",
       "⎢  ───(U(ρ, z)) + ───(U(ρ, z)) + ─────────── = 0  ⎥\n",
       "⎢    2              2                 ρ           ⎥\n",
       "⎢  ∂ρ             ∂z                              ⎥\n",
       "⎢                                                 ⎥\n",
       "⎢                ⎛             2                2⎞⎥\n",
       "⎢∂               ⎜⎛∂          ⎞    ⎛∂          ⎞ ⎟⎥\n",
       "⎢──(K(ρ, z)) = ρ⋅⎜⎜──(U(ρ, z))⎟  - ⎜──(U(ρ, z))⎟ ⎟⎥\n",
       "⎢∂ρ              ⎝⎝∂ρ         ⎠    ⎝∂z         ⎠ ⎠⎥\n",
       "⎢                                                 ⎥\n",
       "⎢    ∂                 ∂           ∂              ⎥\n",
       "⎢    ──(K(ρ, z)) = 2⋅ρ⋅──(U(ρ, z))⋅──(U(ρ, z))    ⎥\n",
       "⎣    ∂z                ∂ρ          ∂z             ⎦"
      ]
     },
     "execution_count": 72,
     "metadata": {},
     "output_type": "execute_result"
    }
   ],
   "source": [
    "vacuumFieldEquations = Matrix([equation2,equation3a1,equation3a2])\n",
    "vacuumFieldEquations"
   ]
  },
  {
   "cell_type": "code",
   "execution_count": 73,
   "id": "39fe5885",
   "metadata": {},
   "outputs": [],
   "source": [
    "from sympy import *"
   ]
  },
  {
   "cell_type": "code",
   "execution_count": 74,
   "id": "35aee160",
   "metadata": {},
   "outputs": [],
   "source": [
    "X, Y = map(Function, 'XY')"
   ]
  },
  {
   "cell_type": "code",
   "execution_count": 75,
   "id": "0fa90bb4",
   "metadata": {},
   "outputs": [
    {
     "data": {
      "image/png": "[encoded data removed]",
      "text/latex": [
       "$\\displaystyle \\frac{\\partial^{2}}{\\partial \\rho^{2}} U{\\left(\\rho,z \\right)} + \\frac{\\partial^{2}}{\\partial z^{2}} U{\\left(\\rho,z \\right)} + \\frac{\\frac{\\partial}{\\partial \\rho} U{\\left(\\rho,z \\right)}}{\\rho} = 0$"
      ],
      "text/plain": [
       "                              ∂              \n",
       "  2              2            ──(U(ρ, z))    \n",
       " ∂              ∂             ∂ρ             \n",
       "───(U(ρ, z)) + ───(U(ρ, z)) + ─────────── = 0\n",
       "  2              2                 ρ         \n",
       "∂ρ             ∂z                            "
      ]
     },
     "execution_count": 75,
     "metadata": {},
     "output_type": "execute_result"
    }
   ],
   "source": [
    "eq = vacuumFieldEquations[0]\n",
    "eq"
   ]
  },
  {
   "cell_type": "code",
   "execution_count": 76,
   "id": "115a8016",
   "metadata": {},
   "outputs": [
    {
     "data": {
      "image/png": "[encoded data removed]",
      "text/latex": [
       "$\\displaystyle \\frac{\\frac{d^{2}}{d \\rho^{2}} X{\\left(\\rho \\right)}}{X{\\left(\\rho \\right)}} + \\frac{\\frac{d}{d \\rho} X{\\left(\\rho \\right)}}{\\rho X{\\left(\\rho \\right)}} = - k^{2}$"
      ],
      "text/plain": [
       "  2                       \n",
       " d                        \n",
       "───(X(ρ))   d             \n",
       "  2         ──(X(ρ))      \n",
       "dρ          dρ           2\n",
       "───────── + ──────── = -k \n",
       "   X(ρ)      ρ⋅X(ρ)       "
      ]
     },
     "execution_count": 76,
     "metadata": {},
     "output_type": "execute_result"
    }
   ],
   "source": [
    "xODE = Eq(pde_separate( eq, U, [X(rho),Y(z)])[0] ,- k**2 ) \n",
    "xODE"
   ]
  },
  {
   "cell_type": "code",
   "execution_count": 77,
   "id": "48381db2",
   "metadata": {},
   "outputs": [
    {
     "data": {
      "image/png": "[encoded data removed]",
      "text/latex": [
       "$\\displaystyle X{\\left(\\rho \\right)} = C_{1} J_{0}\\left(k \\rho\\right) + C_{2} Y_{0}\\left(k \\rho\\right)$"
      ],
      "text/plain": [
       "X(ρ) = C₁⋅besselj(0, k⋅ρ) + C₂⋅bessely(0, k⋅ρ)"
      ]
     },
     "execution_count": 77,
     "metadata": {},
     "output_type": "execute_result"
    }
   ],
   "source": [
    "xSolution = dsolve( xODE , X(rho))\n",
    "xSolution "
   ]
  },
  {
   "cell_type": "code",
   "execution_count": 78,
   "id": "05c31aa2",
   "metadata": {},
   "outputs": [
    {
     "data": {
      "image/png": "[encoded data removed]",
      "text/latex": [
       "$\\displaystyle X{\\left(\\rho \\right)} = J_{0}\\left(k \\rho\\right)$"
      ],
      "text/plain": [
       "X(ρ) = besselj(0, k⋅ρ)"
      ]
     },
     "execution_count": 78,
     "metadata": {},
     "output_type": "execute_result"
    }
   ],
   "source": [
    "#  this is made up.  we are arbitrarily setting one Bessel function equal to zero.  I think that one blows up at the orgin.  Go back and check this \n",
    "xSolutionParticular = xSolution.subs(xSolution.args[1].args[0].args[0],1).subs(xSolution.args[1].args[1].args[0],0)\n",
    "xSolutionParticular"
   ]
  },
  {
   "cell_type": "code",
   "execution_count": 79,
   "id": "6cccc20c",
   "metadata": {},
   "outputs": [
    {
     "data": {
      "image/png": "[encoded data removed]",
      "text/latex": [
       "$\\displaystyle - \\frac{\\frac{d^{2}}{d z^{2}} Y{\\left(z \\right)}}{Y{\\left(z \\right)}} = k^{2}$"
      ],
      "text/plain": [
       "   2            \n",
       "  d             \n",
       "-───(Y(z))      \n",
       "   2            \n",
       " dz            2\n",
       "─────────── = k \n",
       "    Y(z)        "
      ]
     },
     "execution_count": 79,
     "metadata": {},
     "output_type": "execute_result"
    }
   ],
   "source": [
    "yODE = Eq( pde_separate( eq, U, [X(rho),Y(z)])[1] ,  k**2 ) \n",
    "yODE"
   ]
  },
  {
   "cell_type": "code",
   "execution_count": 80,
   "id": "61ae60a6",
   "metadata": {},
   "outputs": [
    {
     "data": {
      "image/png": "[encoded data removed]",
      "text/latex": [
       "$\\displaystyle Y{\\left(z \\right)} = C_{1} \\sin{\\left(z \\left|{k}\\right| \\right)} + C_{2} \\cos{\\left(k z \\right)}$"
      ],
      "text/plain": [
       "Y(z) = C₁⋅sin(z⋅│k│) + C₂⋅cos(k⋅z)"
      ]
     },
     "execution_count": 80,
     "metadata": {},
     "output_type": "execute_result"
    }
   ],
   "source": [
    "ySolution = dsolve( yODE , Y(z))\n",
    "ySolution "
   ]
  },
  {
   "cell_type": "code",
   "execution_count": 81,
   "id": "42f67244",
   "metadata": {},
   "outputs": [
    {
     "data": {
      "image/png": "[encoded data removed]",
      "text/latex": [
       "$\\displaystyle Y{\\left(z \\right)} = \\cos{\\left(k z \\right)}$"
      ],
      "text/plain": [
       "Y(z) = cos(k⋅z)"
      ]
     },
     "execution_count": 81,
     "metadata": {},
     "output_type": "execute_result"
    }
   ],
   "source": [
    "#  Here we are arbitrarily setting the sin function to zero.  Go back and fix this\n",
    "ySolutionParticular = ySolution.subs(ySolution.args[1].args[0].args[0],0).subs(ySolution.args[1].args[1].args[0],1)\n",
    "ySolutionParticular"
   ]
  },
  {
   "cell_type": "code",
   "execution_count": 82,
   "id": "02a84450",
   "metadata": {},
   "outputs": [
    {
     "data": {
      "image/png": "[encoded data removed]",
      "text/latex": [
       "$\\displaystyle \\sum_{k=1}^{1} \\cos{\\left(k z \\right)} J_{0}\\left(k \\rho\\right)$"
      ],
      "text/plain": [
       "  1                           \n",
       " ___                          \n",
       " ╲                            \n",
       "  ╲                           \n",
       "  ╱   cos(k⋅z)⋅besselj(0, k⋅ρ)\n",
       " ╱                            \n",
       " ‾‾‾                          \n",
       "k = 1                         "
      ]
     },
     "execution_count": 82,
     "metadata": {},
     "output_type": "execute_result"
    }
   ],
   "source": [
    "#  Here we arbitrary pick just one terms as an example... \n",
    "Sum( ( xSolutionParticular.args[1] * ySolutionParticular.args[1] ) ,(k,1,1) )"
   ]
  },
  {
   "cell_type": "code",
   "execution_count": 85,
   "id": "4d6e06f0",
   "metadata": {},
   "outputs": [
    {
     "data": {
      "image/png": "[encoded data removed]",
      "text/latex": [
       "$\\displaystyle U{\\left(\\rho,z \\right)} = \\cos{\\left(z \\right)} J_{0}\\left(\\rho\\right)$"
      ],
      "text/plain": [
       "U(ρ, z) = cos(z)⋅besselj(0, ρ)"
      ]
     },
     "execution_count": 85,
     "metadata": {},
     "output_type": "execute_result"
    }
   ],
   "source": [
    "psiSumOneTerms = Eq(U, Sum( ( xSolutionParticular.args[1] * ySolutionParticular.args[1] ) ,(k,1,1) ).doit() ) \n",
    "psiSumOneTerms"
   ]
  },
  {
   "cell_type": "code",
   "execution_count": 91,
   "id": "2c780318",
   "metadata": {},
   "outputs": [
    {
     "data": {
      "image/png": "[encoded data removed]",
      "text/latex": [
       "$\\displaystyle \\frac{\\partial}{\\partial \\rho} K{\\left(\\rho,z \\right)} = \\rho \\left(\\left(\\frac{\\partial}{\\partial \\rho} \\cos{\\left(z \\right)} J_{0}\\left(\\rho\\right)\\right)^{2} - \\left(\\frac{\\partial}{\\partial z} \\cos{\\left(z \\right)} J_{0}\\left(\\rho\\right)\\right)^{2}\\right)$"
      ],
      "text/plain": [
       "                ⎛                          2                             2⎞\n",
       "∂               ⎜⎛∂                       ⎞    ⎛∂                       ⎞ ⎟\n",
       "──(K(ρ, z)) = ρ⋅⎜⎜──(cos(z)⋅besselj(0, ρ))⎟  - ⎜──(cos(z)⋅besselj(0, ρ))⎟ ⎟\n",
       "∂ρ              ⎝⎝∂ρ                      ⎠    ⎝∂z                      ⎠ ⎠"
      ]
     },
     "execution_count": 91,
     "metadata": {},
     "output_type": "execute_result"
    }
   ],
   "source": [
    "equation3a1.subs(psiSumOneTerms.lhs,psiSumOneTerms.rhs)"
   ]
  },
  {
   "cell_type": "code",
   "execution_count": 93,
   "id": "be4f1295",
   "metadata": {},
   "outputs": [
    {
     "data": {
      "image/png": "[encoded data removed]",
      "text/latex": [
       "$\\displaystyle \\frac{\\partial}{\\partial \\rho} K{\\left(\\rho,z \\right)} = - \\rho \\sin^{2}{\\left(z \\right)} J^{2}_{0}\\left(\\rho\\right) + \\rho \\cos^{2}{\\left(z \\right)} J^{2}_{1}\\left(\\rho\\right)$"
      ],
      "text/plain": [
       "∂                    2           2              2           2      \n",
       "──(K(ρ, z)) = - ρ⋅sin (z)⋅besselj (0, ρ) + ρ⋅cos (z)⋅besselj (1, ρ)\n",
       "∂ρ                                                                 "
      ]
     },
     "execution_count": 93,
     "metadata": {},
     "output_type": "execute_result"
    }
   ],
   "source": [
    "equation3a1.subs(psiSumOneTerms.lhs,psiSumOneTerms.rhs).doit().expand()"
   ]
  },
  {
   "cell_type": "code",
   "execution_count": 117,
   "id": "a1a53234",
   "metadata": {},
   "outputs": [
    {
     "data": {
      "image/png": "[encoded data removed]",
      "text/latex": [
       "$\\displaystyle K{\\left(\\rho,z \\right)} = - \\frac{\\rho^{2} \\left(J^{2}_{0}\\left(\\rho\\right) + J^{2}_{1}\\left(\\rho\\right)\\right) \\sin^{2}{\\left(z \\right)}}{2} + \\frac{\\rho \\left(\\rho J^{2}_{0}\\left(\\rho\\right) + \\rho J^{2}_{1}\\left(\\rho\\right) - 2 J_{0}\\left(\\rho\\right) J_{1}\\left(\\rho\\right)\\right) \\cos^{2}{\\left(z \\right)}}{2} + F{\\left(- z \\right)}$"
      ],
      "text/plain": [
       "             2 ⎛       2                2      ⎞    2        ⎛         2                  2                                      ⎞    2  \n",
       "            ρ ⋅⎝besselj (0, ρ) + besselj (1, ρ)⎠⋅sin (z)   ρ⋅⎝ρ⋅besselj (0, ρ) + ρ⋅besselj (1, ρ) - 2⋅besselj(0, ρ)⋅besselj(1, ρ)⎠⋅cos (z\n",
       "K(ρ, z) = - ──────────────────────────────────────────── + ──────────────────────────────────────────────────────────────────────────────\n",
       "                                 2                                                                2                                      \n",
       "\n",
       "         \n",
       ")        \n",
       "─ + F(-z)\n",
       "         "
      ]
     },
     "execution_count": 117,
     "metadata": {},
     "output_type": "execute_result"
    }
   ],
   "source": [
    "integrateKwrtRho = pdsolve( equation3a1.subs(psiSumOneTerms.lhs,psiSumOneTerms.rhs).doit().expand() ) \n",
    "integrateKwrtRho"
   ]
  },
  {
   "cell_type": "code",
   "execution_count": 118,
   "id": "734fb382",
   "metadata": {},
   "outputs": [
    {
     "data": {
      "image/png": "[encoded data removed]",
      "text/latex": [
       "$\\displaystyle K{\\left(\\rho,z \\right)} = - \\frac{\\rho^{2} \\left(J^{2}_{0}\\left(\\rho\\right) + J^{2}_{1}\\left(\\rho\\right)\\right) \\sin^{2}{\\left(z \\right)}}{2} + \\frac{\\rho \\left(\\rho J^{2}_{0}\\left(\\rho\\right) + \\rho J^{2}_{1}\\left(\\rho\\right) - 2 J_{0}\\left(\\rho\\right) J_{1}\\left(\\rho\\right)\\right) \\cos^{2}{\\left(z \\right)}}{2}$"
      ],
      "text/plain": [
       "             2 ⎛       2                2      ⎞    2        ⎛         2                  2                                      ⎞    2  \n",
       "            ρ ⋅⎝besselj (0, ρ) + besselj (1, ρ)⎠⋅sin (z)   ρ⋅⎝ρ⋅besselj (0, ρ) + ρ⋅besselj (1, ρ) - 2⋅besselj(0, ρ)⋅besselj(1, ρ)⎠⋅cos (z\n",
       "K(ρ, z) = - ──────────────────────────────────────────── + ──────────────────────────────────────────────────────────────────────────────\n",
       "                                 2                                                                2                                      \n",
       "\n",
       " \n",
       ")\n",
       "─\n",
       " "
      ]
     },
     "execution_count": 118,
     "metadata": {},
     "output_type": "execute_result"
    }
   ],
   "source": [
    "KwrtRhoSolution = integrateKwrtRho.subs(integrateKwrtRho.rhs.args[2],0)\n",
    "KwrtRhoSolution "
   ]
  },
  {
   "cell_type": "code",
   "execution_count": 100,
   "id": "26f33a4a",
   "metadata": {},
   "outputs": [
    {
     "data": {
      "image/png": "[encoded data removed]",
      "text/latex": [
       "$\\displaystyle \\frac{\\partial}{\\partial z} K{\\left(\\rho,z \\right)} = 2 \\rho \\frac{\\partial}{\\partial \\rho} \\cos{\\left(z \\right)} J_{0}\\left(\\rho\\right) \\frac{\\partial}{\\partial z} \\cos{\\left(z \\right)} J_{0}\\left(\\rho\\right)$"
      ],
      "text/plain": [
       "∂                 ∂                        ∂                       \n",
       "──(K(ρ, z)) = 2⋅ρ⋅──(cos(z)⋅besselj(0, ρ))⋅──(cos(z)⋅besselj(0, ρ))\n",
       "∂z                ∂ρ                       ∂z                      "
      ]
     },
     "execution_count": 100,
     "metadata": {},
     "output_type": "execute_result"
    }
   ],
   "source": [
    "equation3a2.subs(psiSumOneTerms.lhs,psiSumOneTerms.rhs)"
   ]
  },
  {
   "cell_type": "code",
   "execution_count": 97,
   "id": "2638b7a2",
   "metadata": {},
   "outputs": [
    {
     "data": {
      "image/png": "[encoded data removed]",
      "text/latex": [
       "$\\displaystyle \\frac{\\partial}{\\partial z} K{\\left(\\rho,z \\right)} = 2 \\rho \\sin{\\left(z \\right)} \\cos{\\left(z \\right)} J_{0}\\left(\\rho\\right) J_{1}\\left(\\rho\\right)$"
      ],
      "text/plain": [
       "∂                                                          \n",
       "──(K(ρ, z)) = 2⋅ρ⋅sin(z)⋅cos(z)⋅besselj(0, ρ)⋅besselj(1, ρ)\n",
       "∂z                                                         "
      ]
     },
     "execution_count": 97,
     "metadata": {},
     "output_type": "execute_result"
    }
   ],
   "source": [
    "equation3a2.subs(psiSumOneTerms.lhs,psiSumOneTerms.rhs).doit()"
   ]
  },
  {
   "cell_type": "code",
   "execution_count": 119,
   "id": "62c06a5d",
   "metadata": {},
   "outputs": [
    {
     "data": {
      "image/png": "[encoded data removed]",
      "text/latex": [
       "$\\displaystyle K{\\left(\\rho,z \\right)} = \\rho \\sin^{2}{\\left(z \\right)} J_{0}\\left(\\rho\\right) J_{1}\\left(\\rho\\right) + F{\\left(\\rho \\right)}$"
      ],
      "text/plain": [
       "               2                                      \n",
       "K(ρ, z) = ρ⋅sin (z)⋅besselj(0, ρ)⋅besselj(1, ρ) + F(ρ)"
      ]
     },
     "execution_count": 119,
     "metadata": {},
     "output_type": "execute_result"
    }
   ],
   "source": [
    "integrateKwrtZ = pdsolve(equation3a2.subs(psiSumOneTerms.lhs,psiSumOneTerms.rhs).doit() )\n",
    "integrateKwrtZ"
   ]
  },
  {
   "cell_type": "code",
   "execution_count": 121,
   "id": "3446228e",
   "metadata": {},
   "outputs": [
    {
     "data": {
      "image/png": "[encoded data removed]",
      "text/latex": [
       "$\\displaystyle K{\\left(\\rho,z \\right)} = \\rho \\sin^{2}{\\left(z \\right)} J_{0}\\left(\\rho\\right) J_{1}\\left(\\rho\\right)$"
      ],
      "text/plain": [
       "               2                               \n",
       "K(ρ, z) = ρ⋅sin (z)⋅besselj(0, ρ)⋅besselj(1, ρ)"
      ]
     },
     "execution_count": 121,
     "metadata": {},
     "output_type": "execute_result"
    }
   ],
   "source": [
    "KwrtZsolution = integrateKwrtZ.subs(integrateKwrtZ.rhs.args[1],0)\n",
    "KwrtZsolution"
   ]
  },
  {
   "cell_type": "code",
   "execution_count": null,
   "id": "4fd98cee",
   "metadata": {},
   "outputs": [],
   "source": []
  }
 ],
 "metadata": {
  "@webio": {
   "lastCommId": "3e16441dbe424dc9b83172b6806b755a",
   "lastKernelId": "dce1bb78-3772-4641-814f-58c2aac72324"
  },
  "kernelspec": {
   "display_name": "Python 3 (ipykernel)",
   "language": "python",
   "name": "python3"
  },
  "language_info": {
   "codemirror_mode": {
    "name": "ipython",
    "version": 3
   },
   "file_extension": ".py",
   "mimetype": "text/x-python",
   "name": "python",
   "nbconvert_exporter": "python",
   "pygments_lexer": "ipython3",
   "version": "3.8.8"
  }
 },
 "nbformat": 4,
 "nbformat_minor": 5
}
