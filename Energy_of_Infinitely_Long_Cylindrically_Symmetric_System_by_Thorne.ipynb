{
 "cells": [
  {
   "cell_type": "markdown",
   "id": "8e6e3e46",
   "metadata": {},
   "source": [
    "# Energy of Infinitely Long Cylindrically Symmetric System by Thorne\n",
    "##  Geoff Cope\n",
    "##  Univeristy of Utah\n",
    "##  December 24, 2021 Christmas Eve!"
   ]
  },
  {
   "cell_type": "markdown",
   "id": "fa082ba8",
   "metadata": {},
   "source": [
    "Here we calculate tensors for metric 48 which when omega equals zero will reduce down to metric 6 and 36"
   ]
  },
  {
   "cell_type": "markdown",
   "id": "7065001f",
   "metadata": {},
   "source": [
    "https://authors.library.caltech.edu/3212/"
   ]
  },
  {
   "cell_type": "markdown",
   "id": "fe5b25ba",
   "metadata": {},
   "source": [
    "https://journals.aps.org/pr/abstract/10.1103/PhysRev.138.B251"
   ]
  },
  {
   "cell_type": "code",
   "execution_count": 1,
   "id": "abeb44bb",
   "metadata": {},
   "outputs": [
    {
     "name": "stdout",
     "output_type": "stream",
     "text": [
      "IPython console for SymPy 1.9 (Python 3.8.8-64-bit) (ground types: gmpy)\n",
      "\n",
      "These commands were executed:\n",
      ">>> from __future__ import division\n",
      ">>> from sympy import *\n",
      ">>> x, y, z, t = symbols('x y z t')\n",
      ">>> k, m, n = symbols('k m n', integer=True)\n",
      ">>> f, g, h = symbols('f g h', cls=Function)\n",
      ">>> init_printing()\n",
      "\n",
      "Documentation can be found at https://docs.sympy.org/1.9/\n",
      "\n"
     ]
    }
   ],
   "source": [
    "from sympy import init_session\n",
    "init_session(use_latex=True)"
   ]
  },
  {
   "cell_type": "code",
   "execution_count": 2,
   "id": "70b76083",
   "metadata": {},
   "outputs": [],
   "source": [
    "import warnings\n",
    "import matplotlib.cbook\n",
    "warnings.filterwarnings(\"ignore\",category=matplotlib.cbook.mplDeprecation)"
   ]
  },
  {
   "cell_type": "code",
   "execution_count": 3,
   "id": "8c6e713b",
   "metadata": {},
   "outputs": [],
   "source": [
    "t,r,phi,z,dt,dr,dphi,dz = symbols('t r phi z dt dr dphi dz')"
   ]
  },
  {
   "cell_type": "code",
   "execution_count": 4,
   "id": "b408b14e",
   "metadata": {},
   "outputs": [],
   "source": [
    "gamma, psi, omega = symbols('gamma psi omega')"
   ]
  },
  {
   "cell_type": "code",
   "execution_count": 5,
   "id": "1b3a4995",
   "metadata": {},
   "outputs": [
    {
     "data": {
      "image/png": "[encoded data removed]",
      "text/latex": [
       "$\\displaystyle \\gamma{\\left(t,r \\right)}$"
      ],
      "text/plain": [
       "γ(t, r)"
      ]
     },
     "execution_count": 5,
     "metadata": {},
     "output_type": "execute_result"
    }
   ],
   "source": [
    "gamma = Function('gamma')(t,r)\n",
    "gamma"
   ]
  },
  {
   "cell_type": "code",
   "execution_count": 6,
   "id": "e96763af",
   "metadata": {},
   "outputs": [
    {
     "data": {
      "image/png": "[encoded data removed]",
      "text/latex": [
       "$\\displaystyle \\psi{\\left(t,r \\right)}$"
      ],
      "text/plain": [
       "ψ(t, r)"
      ]
     },
     "execution_count": 6,
     "metadata": {},
     "output_type": "execute_result"
    }
   ],
   "source": [
    "psi = Function('psi')(t,r)\n",
    "psi"
   ]
  },
  {
   "cell_type": "code",
   "execution_count": 7,
   "id": "2e890f75",
   "metadata": {},
   "outputs": [
    {
     "data": {
      "image/png": "[encoded data removed]",
      "text/latex": [
       "$\\displaystyle \\omega{\\left(t,r \\right)}$"
      ],
      "text/plain": [
       "ω(t, r)"
      ]
     },
     "execution_count": 7,
     "metadata": {},
     "output_type": "execute_result"
    }
   ],
   "source": [
    "omega = Function('omega')(t,r)\n",
    "omega"
   ]
  },
  {
   "cell_type": "code",
   "execution_count": 8,
   "id": "5d2cf772",
   "metadata": {},
   "outputs": [
    {
     "data": {
      "text/latex": [
       "$\\displaystyle \\left[\\begin{matrix}t\\\\r\\\\\\phi\\\\z\\end{matrix}\\right]$"
      ],
      "text/plain": [
       "⎡t⎤\n",
       "⎢ ⎥\n",
       "⎢r⎥\n",
       "⎢ ⎥\n",
       "⎢φ⎥\n",
       "⎢ ⎥\n",
       "⎣z⎦"
      ]
     },
     "execution_count": 8,
     "metadata": {},
     "output_type": "execute_result"
    }
   ],
   "source": [
    "variables = Matrix([t,r,phi,z])\n",
    "variables"
   ]
  },
  {
   "cell_type": "code",
   "execution_count": 9,
   "id": "9e01a577",
   "metadata": {},
   "outputs": [
    {
     "data": {
      "text/latex": [
       "$\\displaystyle \\left[\\begin{matrix}dt\\\\dr\\\\dphi\\\\dz\\end{matrix}\\right]$"
      ],
      "text/plain": [
       "⎡ dt ⎤\n",
       "⎢    ⎥\n",
       "⎢ dr ⎥\n",
       "⎢    ⎥\n",
       "⎢dphi⎥\n",
       "⎢    ⎥\n",
       "⎣ dz ⎦"
      ]
     },
     "execution_count": 9,
     "metadata": {},
     "output_type": "execute_result"
    }
   ],
   "source": [
    "differentials = Matrix([dt,dr,dphi,dz])\n",
    "differentials "
   ]
  },
  {
   "cell_type": "code",
   "execution_count": 10,
   "id": "9457a05c",
   "metadata": {},
   "outputs": [
    {
     "data": {
      "image/png": "[encoded data removed]",
      "text/latex": [
       "$\\displaystyle - dphi^{2} r^{2} e^{- 2 \\psi{\\left(t,r \\right)}} - dphi^{2} \\omega^{2}{\\left(t,r \\right)} e^{2 \\psi{\\left(t,r \\right)}} - 2 dphi dz \\omega{\\left(t,r \\right)} e^{2 \\psi{\\left(t,r \\right)}} - dr^{2} e^{2 \\gamma{\\left(t,r \\right)}} e^{- 2 \\psi{\\left(t,r \\right)}} + dt^{2} e^{2 \\gamma{\\left(t,r \\right)}} e^{- 2 \\psi{\\left(t,r \\right)}} - dz^{2} e^{2 \\psi{\\left(t,r \\right)}}$"
      ],
      "text/plain": [
       "      2  2  -2⋅ψ(t, r)       2  2        2⋅ψ(t, r)                      2⋅ψ(t, r)     2  2⋅γ\n",
       "- dphi ⋅r ⋅ℯ           - dphi ⋅ω (t, r)⋅ℯ          - 2⋅dphi⋅dz⋅ω(t, r)⋅ℯ          - dr ⋅ℯ   \n",
       "\n",
       "(t, r)  -2⋅ψ(t, r)     2  2⋅γ(t, r)  -2⋅ψ(t, r)     2  2⋅ψ(t, r)\n",
       "      ⋅ℯ           + dt ⋅ℯ         ⋅ℯ           - dz ⋅ℯ         "
      ]
     },
     "execution_count": 10,
     "metadata": {},
     "output_type": "execute_result"
    }
   ],
   "source": [
    "lineElement = expand(exp(2*(gamma-psi)) * (dt**2 -dr**2) - exp(2*psi)*(dz + omega * dphi)**2 - r**2 * exp(-2*psi)*dphi**2 )\n",
    "lineElement"
   ]
  },
  {
   "cell_type": "code",
   "execution_count": 11,
   "id": "38313e66",
   "metadata": {},
   "outputs": [
    {
     "data": {
      "text/latex": [
       "$\\displaystyle \\left[\\begin{matrix}e^{2 \\gamma{\\left(t,r \\right)}} e^{- 2 \\psi{\\left(t,r \\right)}} & 0 & 0 & 0\\\\0 & - e^{2 \\gamma{\\left(t,r \\right)}} e^{- 2 \\psi{\\left(t,r \\right)}} & 0 & 0\\\\0 & 0 & - r^{2} e^{- 2 \\psi{\\left(t,r \\right)}} - \\omega^{2}{\\left(t,r \\right)} e^{2 \\psi{\\left(t,r \\right)}} & - \\omega{\\left(t,r \\right)} e^{2 \\psi{\\left(t,r \\right)}}\\\\0 & 0 & - \\omega{\\left(t,r \\right)} e^{2 \\psi{\\left(t,r \\right)}} & - e^{2 \\psi{\\left(t,r \\right)}}\\end{matrix}\\right]$"
      ],
      "text/plain": [
       "⎡ 2⋅γ(t, r)  -2⋅ψ(t, r)                                                                     \n",
       "⎢ℯ         ⋅ℯ                       0                               0                       \n",
       "⎢                                                                                           \n",
       "⎢                          2⋅γ(t, r)  -2⋅ψ(t, r)                                            \n",
       "⎢          0             -ℯ         ⋅ℯ                              0                       \n",
       "⎢                                                                                           \n",
       "⎢                                                    2  -2⋅ψ(t, r)    2        2⋅ψ(t, r)    \n",
       "⎢          0                        0             - r ⋅ℯ           - ω (t, r)⋅ℯ           -ω\n",
       "⎢                                                                                           \n",
       "⎢                                                                    2⋅ψ(t, r)              \n",
       "⎣          0                        0                      -ω(t, r)⋅ℯ                       \n",
       "\n",
       "                 ⎤\n",
       "       0         ⎥\n",
       "                 ⎥\n",
       "                 ⎥\n",
       "       0         ⎥\n",
       "                 ⎥\n",
       "        2⋅ψ(t, r)⎥\n",
       "(t, r)⋅ℯ         ⎥\n",
       "                 ⎥\n",
       "    2⋅ψ(t, r)    ⎥\n",
       "  -ℯ             ⎦"
      ]
     },
     "execution_count": 11,
     "metadata": {},
     "output_type": "execute_result"
    }
   ],
   "source": [
    "g = zeros(4)\n",
    "\n",
    "for i in range(4):\n",
    "    for j in range(4):\n",
    "        if i == j:\n",
    "            g[i,j] = lineElement.coeff( differentials[i],2 ) \n",
    "        else:\n",
    "            g[i,j] = Rational(1,2)*lineElement.coeff( differentials[i]*differentials[j],1 )\n",
    "            \n",
    "g"
   ]
  },
  {
   "cell_type": "code",
   "execution_count": 12,
   "id": "01b23c06",
   "metadata": {},
   "outputs": [],
   "source": [
    "import sympy"
   ]
  },
  {
   "cell_type": "code",
   "execution_count": 13,
   "id": "a2acc28f",
   "metadata": {},
   "outputs": [
    {
     "data": {
      "text/latex": [
       "$\\displaystyle \\left[\\begin{matrix}e^{2 \\gamma{\\left(t,r \\right)}} e^{- 2 \\psi{\\left(t,r \\right)}} & 0 & 0 & 0\\\\0 & - e^{2 \\gamma{\\left(t,r \\right)}} e^{- 2 \\psi{\\left(t,r \\right)}} & 0 & 0\\\\0 & 0 & - r^{2} e^{- 2 \\psi{\\left(t,r \\right)}} - \\omega^{2}{\\left(t,r \\right)} e^{2 \\psi{\\left(t,r \\right)}} & - \\omega{\\left(t,r \\right)} e^{2 \\psi{\\left(t,r \\right)}}\\\\0 & 0 & - \\omega{\\left(t,r \\right)} e^{2 \\psi{\\left(t,r \\right)}} & - e^{2 \\psi{\\left(t,r \\right)}}\\end{matrix}\\right]$"
      ],
      "text/plain": [
       "⎡ 2⋅γ(t, r)  -2⋅ψ(t, r)                                                                     \n",
       "⎢ℯ         ⋅ℯ                       0                               0                       \n",
       "⎢                                                                                           \n",
       "⎢                          2⋅γ(t, r)  -2⋅ψ(t, r)                                            \n",
       "⎢          0             -ℯ         ⋅ℯ                              0                       \n",
       "⎢                                                                                           \n",
       "⎢                                                    2  -2⋅ψ(t, r)    2        2⋅ψ(t, r)    \n",
       "⎢          0                        0             - r ⋅ℯ           - ω (t, r)⋅ℯ           -ω\n",
       "⎢                                                                                           \n",
       "⎢                                                                    2⋅ψ(t, r)              \n",
       "⎣          0                        0                      -ω(t, r)⋅ℯ                       \n",
       "\n",
       "                 ⎤\n",
       "       0         ⎥\n",
       "                 ⎥\n",
       "                 ⎥\n",
       "       0         ⎥\n",
       "                 ⎥\n",
       "        2⋅ψ(t, r)⎥\n",
       "(t, r)⋅ℯ         ⎥\n",
       "                 ⎥\n",
       "    2⋅ψ(t, r)    ⎥\n",
       "  -ℯ             ⎦"
      ]
     },
     "execution_count": 13,
     "metadata": {},
     "output_type": "execute_result"
    }
   ],
   "source": [
    "m = sympy.Array(g)\n",
    "m"
   ]
  },
  {
   "cell_type": "code",
   "execution_count": 14,
   "id": "16dcb08c",
   "metadata": {},
   "outputs": [],
   "source": [
    "from einsteinpy.symbolic import *"
   ]
  },
  {
   "cell_type": "code",
   "execution_count": 15,
   "id": "4b3e794f",
   "metadata": {},
   "outputs": [],
   "source": [
    "syms = sympy.symbols(\"t r phi z\")\n",
    "t,r,phi,z = syms"
   ]
  },
  {
   "cell_type": "code",
   "execution_count": 16,
   "id": "ac87d14c",
   "metadata": {},
   "outputs": [],
   "source": [
    "metric = MetricTensor(m,syms)"
   ]
  },
  {
   "cell_type": "code",
   "execution_count": 17,
   "id": "20b17335",
   "metadata": {},
   "outputs": [
    {
     "data": {
      "text/latex": [
       "$\\displaystyle \\left[\\begin{matrix}\\left[\\begin{matrix}\\frac{\\partial}{\\partial t} \\gamma{\\left(t,r \\right)} - \\frac{\\partial}{\\partial t} \\psi{\\left(t,r \\right)} & \\frac{\\partial}{\\partial r} \\gamma{\\left(t,r \\right)} - \\frac{\\partial}{\\partial r} \\psi{\\left(t,r \\right)} & 0 & 0\\\\\\frac{\\partial}{\\partial r} \\gamma{\\left(t,r \\right)} - \\frac{\\partial}{\\partial r} \\psi{\\left(t,r \\right)} & \\frac{\\partial}{\\partial t} \\gamma{\\left(t,r \\right)} - \\frac{\\partial}{\\partial t} \\psi{\\left(t,r \\right)} & 0 & 0\\\\0 & 0 & \\left(- r^{2} \\frac{\\partial}{\\partial t} \\psi{\\left(t,r \\right)} + \\left(\\omega{\\left(t,r \\right)} \\frac{\\partial}{\\partial t} \\psi{\\left(t,r \\right)} + \\frac{\\partial}{\\partial t} \\omega{\\left(t,r \\right)}\\right) \\omega{\\left(t,r \\right)} e^{4 \\psi{\\left(t,r \\right)}}\\right) e^{- 2 \\gamma{\\left(t,r \\right)}} & \\left(\\omega{\\left(t,r \\right)} \\frac{\\partial}{\\partial t} \\psi{\\left(t,r \\right)} + \\frac{\\frac{\\partial}{\\partial t} \\omega{\\left(t,r \\right)}}{2}\\right) e^{- 2 \\gamma{\\left(t,r \\right)} + 4 \\psi{\\left(t,r \\right)}}\\\\0 & 0 & \\left(\\omega{\\left(t,r \\right)} \\frac{\\partial}{\\partial t} \\psi{\\left(t,r \\right)} + \\frac{\\frac{\\partial}{\\partial t} \\omega{\\left(t,r \\right)}}{2}\\right) e^{- 2 \\gamma{\\left(t,r \\right)} + 4 \\psi{\\left(t,r \\right)}} & e^{- 2 \\gamma{\\left(t,r \\right)} + 4 \\psi{\\left(t,r \\right)}} \\frac{\\partial}{\\partial t} \\psi{\\left(t,r \\right)}\\end{matrix}\\right] & \\left[\\begin{matrix}\\frac{\\partial}{\\partial r} \\gamma{\\left(t,r \\right)} - \\frac{\\partial}{\\partial r} \\psi{\\left(t,r \\right)} & \\frac{\\partial}{\\partial t} \\gamma{\\left(t,r \\right)} - \\frac{\\partial}{\\partial t} \\psi{\\left(t,r \\right)} & 0 & 0\\\\\\frac{\\partial}{\\partial t} \\gamma{\\left(t,r \\right)} - \\frac{\\partial}{\\partial t} \\psi{\\left(t,r \\right)} & \\frac{\\partial}{\\partial r} \\gamma{\\left(t,r \\right)} - \\frac{\\partial}{\\partial r} \\psi{\\left(t,r \\right)} & 0 & 0\\\\0 & 0 & \\left(r^{2} \\frac{\\partial}{\\partial r} \\psi{\\left(t,r \\right)} - r - \\left(\\omega{\\left(t,r \\right)} \\frac{\\partial}{\\partial r} \\psi{\\left(t,r \\right)} + \\frac{\\partial}{\\partial r} \\omega{\\left(t,r \\right)}\\right) \\omega{\\left(t,r \\right)} e^{4 \\psi{\\left(t,r \\right)}}\\right) e^{- 2 \\gamma{\\left(t,r \\right)}} & - \\left(\\omega{\\left(t,r \\right)} \\frac{\\partial}{\\partial r} \\psi{\\left(t,r \\right)} + \\frac{\\frac{\\partial}{\\partial r} \\omega{\\left(t,r \\right)}}{2}\\right) e^{- 2 \\gamma{\\left(t,r \\right)} + 4 \\psi{\\left(t,r \\right)}}\\\\0 & 0 & - \\left(\\omega{\\left(t,r \\right)} \\frac{\\partial}{\\partial r} \\psi{\\left(t,r \\right)} + \\frac{\\frac{\\partial}{\\partial r} \\omega{\\left(t,r \\right)}}{2}\\right) e^{- 2 \\gamma{\\left(t,r \\right)} + 4 \\psi{\\left(t,r \\right)}} & - e^{- 2 \\gamma{\\left(t,r \\right)} + 4 \\psi{\\left(t,r \\right)}} \\frac{\\partial}{\\partial r} \\psi{\\left(t,r \\right)}\\end{matrix}\\right] & \\left[\\begin{matrix}0 & 0 & - \\frac{\\partial}{\\partial t} \\psi{\\left(t,r \\right)} + \\frac{\\omega{\\left(t,r \\right)} e^{4 \\psi{\\left(t,r \\right)}} \\frac{\\partial}{\\partial t} \\omega{\\left(t,r \\right)}}{2 r^{2}} & \\frac{e^{4 \\psi{\\left(t,r \\right)}} \\frac{\\partial}{\\partial t} \\omega{\\left(t,r \\right)}}{2 r^{2}}\\\\0 & 0 & - \\frac{\\partial}{\\partial r} \\psi{\\left(t,r \\right)} + \\frac{1}{r} + \\frac{\\omega{\\left(t,r \\right)} e^{4 \\psi{\\left(t,r \\right)}} \\frac{\\partial}{\\partial r} \\omega{\\left(t,r \\right)}}{2 r^{2}} & \\frac{e^{4 \\psi{\\left(t,r \\right)}} \\frac{\\partial}{\\partial r} \\omega{\\left(t,r \\right)}}{2 r^{2}}\\\\- \\frac{\\partial}{\\partial t} \\psi{\\left(t,r \\right)} + \\frac{\\omega{\\left(t,r \\right)} e^{4 \\psi{\\left(t,r \\right)}} \\frac{\\partial}{\\partial t} \\omega{\\left(t,r \\right)}}{2 r^{2}} & - \\frac{\\partial}{\\partial r} \\psi{\\left(t,r \\right)} + \\frac{1}{r} + \\frac{\\omega{\\left(t,r \\right)} e^{4 \\psi{\\left(t,r \\right)}} \\frac{\\partial}{\\partial r} \\omega{\\left(t,r \\right)}}{2 r^{2}} & 0 & 0\\\\\\frac{e^{4 \\psi{\\left(t,r \\right)}} \\frac{\\partial}{\\partial t} \\omega{\\left(t,r \\right)}}{2 r^{2}} & \\frac{e^{4 \\psi{\\left(t,r \\right)}} \\frac{\\partial}{\\partial r} \\omega{\\left(t,r \\right)}}{2 r^{2}} & 0 & 0\\end{matrix}\\right] & \\left[\\begin{matrix}0 & 0 & 2 \\omega{\\left(t,r \\right)} \\frac{\\partial}{\\partial t} \\psi{\\left(t,r \\right)} + \\frac{\\frac{\\partial}{\\partial t} \\omega{\\left(t,r \\right)}}{2} - \\frac{\\omega^{2}{\\left(t,r \\right)} e^{4 \\psi{\\left(t,r \\right)}} \\frac{\\partial}{\\partial t} \\omega{\\left(t,r \\right)}}{2 r^{2}} & \\frac{\\partial}{\\partial t} \\psi{\\left(t,r \\right)} - \\frac{\\omega{\\left(t,r \\right)} e^{4 \\psi{\\left(t,r \\right)}} \\frac{\\partial}{\\partial t} \\omega{\\left(t,r \\right)}}{2 r^{2}}\\\\0 & 0 & 2 \\omega{\\left(t,r \\right)} \\frac{\\partial}{\\partial r} \\psi{\\left(t,r \\right)} + \\frac{\\frac{\\partial}{\\partial r} \\omega{\\left(t,r \\right)}}{2} - \\frac{\\omega{\\left(t,r \\right)}}{r} - \\frac{\\omega^{2}{\\left(t,r \\right)} e^{4 \\psi{\\left(t,r \\right)}} \\frac{\\partial}{\\partial r} \\omega{\\left(t,r \\right)}}{2 r^{2}} & \\frac{\\partial}{\\partial r} \\psi{\\left(t,r \\right)} - \\frac{\\omega{\\left(t,r \\right)} e^{4 \\psi{\\left(t,r \\right)}} \\frac{\\partial}{\\partial r} \\omega{\\left(t,r \\right)}}{2 r^{2}}\\\\2 \\omega{\\left(t,r \\right)} \\frac{\\partial}{\\partial t} \\psi{\\left(t,r \\right)} + \\frac{\\frac{\\partial}{\\partial t} \\omega{\\left(t,r \\right)}}{2} - \\frac{\\omega^{2}{\\left(t,r \\right)} e^{4 \\psi{\\left(t,r \\right)}} \\frac{\\partial}{\\partial t} \\omega{\\left(t,r \\right)}}{2 r^{2}} & 2 \\omega{\\left(t,r \\right)} \\frac{\\partial}{\\partial r} \\psi{\\left(t,r \\right)} + \\frac{\\frac{\\partial}{\\partial r} \\omega{\\left(t,r \\right)}}{2} - \\frac{\\omega{\\left(t,r \\right)}}{r} - \\frac{\\omega^{2}{\\left(t,r \\right)} e^{4 \\psi{\\left(t,r \\right)}} \\frac{\\partial}{\\partial r} \\omega{\\left(t,r \\right)}}{2 r^{2}} & 0 & 0\\\\\\frac{\\partial}{\\partial t} \\psi{\\left(t,r \\right)} - \\frac{\\omega{\\left(t,r \\right)} e^{4 \\psi{\\left(t,r \\right)}} \\frac{\\partial}{\\partial t} \\omega{\\left(t,r \\right)}}{2 r^{2}} & \\frac{\\partial}{\\partial r} \\psi{\\left(t,r \\right)} - \\frac{\\omega{\\left(t,r \\right)} e^{4 \\psi{\\left(t,r \\right)}} \\frac{\\partial}{\\partial r} \\omega{\\left(t,r \\right)}}{2 r^{2}} & 0 & 0\\end{matrix}\\right]\\end{matrix}\\right]$"
      ],
      "text/plain": [
       "⎡                                                                                           \n",
       "⎢                                                                                           \n",
       "⎢                                                                                           \n",
       "⎢                                                                                           \n",
       "⎢⎡∂             ∂            ∂             ∂                                                \n",
       "⎢⎢──(γ(t, r)) - ──(ψ(t, r))  ──(γ(t, r)) - ──(ψ(t, r))                                      \n",
       "⎢⎢∂t            ∂t           ∂r            ∂r                                               \n",
       "⎢⎢                                                                                          \n",
       "⎢⎢∂             ∂            ∂             ∂                                                \n",
       "⎢⎢──(γ(t, r)) - ──(ψ(t, r))  ──(γ(t, r)) - ──(ψ(t, r))                                      \n",
       "⎢⎢∂r            ∂r           ∂t            ∂t                                               \n",
       "⎢⎢                                                                                          \n",
       "⎢⎢                                                                                          \n",
       "⎢⎢                                                                                          \n",
       "⎢⎢                                                      ⎛   2 ∂             ⎛        ∂      \n",
       "⎢⎢            0                          0              ⎜- r ⋅──(ψ(t, r)) + ⎜ω(t, r)⋅──(ψ(t,\n",
       "⎢⎢                                                      ⎝     ∂t            ⎝        ∂t     \n",
       "⎢⎢                                                                                          \n",
       "⎢⎢                                                                    ⎛                     \n",
       "⎢⎢                                                                    ⎜                     \n",
       "⎢⎢                                                                    ⎜        ∂            \n",
       "⎢⎢            0                          0                            ⎜ω(t, r)⋅──(ψ(t, r)) +\n",
       "⎢⎣                                                                    ⎝        ∂t           \n",
       "⎢                                                                                           \n",
       "⎢                                                                                           \n",
       "⎢                                                                                           \n",
       "⎣                                                                                           \n",
       "\n",
       "                                                                                            \n",
       "                                                                                            \n",
       "                                                                                            \n",
       "                                                                                            \n",
       "                                                                                            \n",
       "       0                                                                          0         \n",
       "                                                                                            \n",
       "                                                                                            \n",
       "                                                                                            \n",
       "       0                                                                          0         \n",
       "                                                                                            \n",
       "                                                                                            \n",
       "                                                     ⎛                      ∂          ⎞    \n",
       "                                                     ⎜                      ──(ω(t, r))⎟    \n",
       "       ∂          ⎞          4⋅ψ(t, r)⎞  -2⋅γ(t, r)  ⎜        ∂             ∂t         ⎟  -2\n",
       " r)) + ──(ω(t, r))⎟⋅ω(t, r)⋅ℯ         ⎟⋅ℯ            ⎜ω(t, r)⋅──(ψ(t, r)) + ───────────⎟⋅ℯ  \n",
       "       ∂t         ⎠                   ⎠              ⎝        ∂t                 2     ⎠    \n",
       "                                                                                            \n",
       " ∂          ⎞                                                                               \n",
       " ──(ω(t, r))⎟                                                                               \n",
       " ∂t         ⎟  -2⋅γ(t, r) + 4⋅ψ(t, r)                             -2⋅γ(t, r) + 4⋅ψ(t, r) ∂  \n",
       " ───────────⎟⋅ℯ                                                  ℯ                      ⋅──(\n",
       "      2     ⎠                                                                            ∂t \n",
       "                                                                                            \n",
       "                                                                                            \n",
       "                                                                                            \n",
       "                                                                                            \n",
       "\n",
       "                                                                                            \n",
       "                                                                                            \n",
       "                                                                                            \n",
       "                                                                                            \n",
       "                    ⎤  ⎡∂             ∂            ∂             ∂                          \n",
       "                    ⎥  ⎢──(γ(t, r)) - ──(ψ(t, r))  ──(γ(t, r)) - ──(ψ(t, r))                \n",
       "                    ⎥  ⎢∂r            ∂r           ∂t            ∂t                         \n",
       "                    ⎥  ⎢                                                                    \n",
       "                    ⎥  ⎢∂             ∂            ∂             ∂                          \n",
       "                    ⎥  ⎢──(γ(t, r)) - ──(ψ(t, r))  ──(γ(t, r)) - ──(ψ(t, r))                \n",
       "                    ⎥  ⎢∂t            ∂t           ∂r            ∂r                         \n",
       "                    ⎥  ⎢                                                                    \n",
       "                    ⎥  ⎢                                                                    \n",
       "                    ⎥  ⎢                                                                    \n",
       "⋅γ(t, r) + 4⋅ψ(t, r)⎥  ⎢                                                      ⎛ 2 ∂         \n",
       "                    ⎥  ⎢            0                          0              ⎜r ⋅──(ψ(t, r)\n",
       "                    ⎥  ⎢                                                      ⎝   ∂r        \n",
       "                    ⎥  ⎢                                                                    \n",
       "                    ⎥  ⎢                                                                    \n",
       "                    ⎥  ⎢                                                                    \n",
       "                    ⎥  ⎢                                                                    \n",
       "ψ(t, r))            ⎥  ⎢            0                          0                            \n",
       "                    ⎦  ⎣                                                                    \n",
       "                                                                                            \n",
       "                                                                                            \n",
       "                                                                                            \n",
       "                                                                                            \n",
       "\n",
       "                                                                                            \n",
       "                                                                                            \n",
       "                                                                                            \n",
       "                                                                                            \n",
       "                                                                                            \n",
       "                              0                                                             \n",
       "                                                                                            \n",
       "                                                                                            \n",
       "                                                                                            \n",
       "                              0                                                             \n",
       "                                                                                            \n",
       "                                                                                            \n",
       "                                                                              ⎛             \n",
       "                                                                              ⎜             \n",
       "        ⎛        ∂             ∂          ⎞          4⋅ψ(t, r)⎞  -2⋅γ(t, r)   ⎜        ∂    \n",
       ") - r - ⎜ω(t, r)⋅──(ψ(t, r)) + ──(ω(t, r))⎟⋅ω(t, r)⋅ℯ         ⎟⋅ℯ            -⎜ω(t, r)⋅──(ψ(\n",
       "        ⎝        ∂r            ∂r         ⎠                   ⎠               ⎝        ∂r   \n",
       "                                                                                            \n",
       " ⎛                      ∂          ⎞                                                        \n",
       " ⎜                      ──(ω(t, r))⎟                                                        \n",
       " ⎜        ∂             ∂r         ⎟  -2⋅γ(t, r) + 4⋅ψ(t, r)                               -\n",
       "-⎜ω(t, r)⋅──(ψ(t, r)) + ───────────⎟⋅ℯ                                                   -ℯ \n",
       " ⎝        ∂r                 2     ⎠                                                        \n",
       "                                                                                            \n",
       "                                                                                            \n",
       "                                                                                            \n",
       "                                                                                            \n",
       "\n",
       "                                                ⎡                                           \n",
       "                                                ⎢                                           \n",
       "                                                ⎢                                           \n",
       "                                                ⎢                      0                    \n",
       "                                             ⎤  ⎢                                           \n",
       "              0                              ⎥  ⎢                                           \n",
       "                                             ⎥  ⎢                                           \n",
       "                                             ⎥  ⎢                                           \n",
       "                                             ⎥  ⎢                                           \n",
       "              0                              ⎥  ⎢                                           \n",
       "                                             ⎥  ⎢                      0                    \n",
       "                                             ⎥  ⎢                                           \n",
       "         ∂          ⎞                        ⎥  ⎢                                           \n",
       "         ──(ω(t, r))⎟                        ⎥  ⎢                                           \n",
       "         ∂r         ⎟  -2⋅γ(t, r) + 4⋅ψ(t, r)⎥  ⎢                         4⋅ψ(t, r) ∂       \n",
       "t, r)) + ───────────⎟⋅ℯ                      ⎥  ⎢                ω(t, r)⋅ℯ         ⋅──(ω(t, \n",
       "              2     ⎠                        ⎥  ⎢  ∂                                ∂t      \n",
       "                                             ⎥  ⎢- ──(ψ(t, r)) + ───────────────────────────\n",
       "                                             ⎥  ⎢  ∂t                            2          \n",
       "                                             ⎥  ⎢                             2⋅r           \n",
       "2⋅γ(t, r) + 4⋅ψ(t, r) ∂                      ⎥  ⎢                                           \n",
       "                     ⋅──(ψ(t, r))            ⎥  ⎢             4⋅ψ(t, r) ∂                   \n",
       "                      ∂r                     ⎦  ⎢            ℯ         ⋅──(ω(t, r))         \n",
       "                                                ⎢                       ∂t                  \n",
       "                                                ⎢            ──────────────────────         \n",
       "                                                ⎢                        2                  \n",
       "                                                ⎣                     2⋅r                   \n",
       "\n",
       "                                                                                    4⋅ψ(t, r\n",
       "                                                                           ω(t, r)⋅ℯ        \n",
       "                                                             ∂                              \n",
       "                             0                             - ──(ψ(t, r)) + ─────────────────\n",
       "                                                             ∂t                            2\n",
       "                                                                                        2⋅r \n",
       "                                                                                            \n",
       "                                                                                      4⋅ψ(t,\n",
       "                                                                             ω(t, r)⋅ℯ      \n",
       "                                                           ∂             1                  \n",
       "                             0                           - ──(ψ(t, r)) + ─ + ───────────────\n",
       "                                                           ∂r            r                  \n",
       "                                                                                          2⋅\n",
       "                                                                                            \n",
       "                                  4⋅ψ(t, r) ∂                                               \n",
       "r))                      ω(t, r)⋅ℯ         ⋅──(ω(t, r))                                     \n",
       "       ∂             1                      ∂r                                              \n",
       "───  - ──(ψ(t, r)) + ─ + ──────────────────────────────                          0          \n",
       "       ∂r            r                   2                                                  \n",
       "                                      2⋅r                                                   \n",
       "                                                                                            \n",
       "                    4⋅ψ(t, r) ∂                                                             \n",
       "                   ℯ         ⋅──(ω(t, r))                                                   \n",
       "                              ∂r                                                            \n",
       "                   ──────────────────────                                        0          \n",
       "                               2                                                            \n",
       "                            2⋅r                                                             \n",
       "\n",
       ") ∂               4⋅ψ(t, r) ∂          ⎤  ⎡                                                 \n",
       " ⋅──(ω(t, r))    ℯ         ⋅──(ω(t, r))⎥  ⎢                                                 \n",
       "  ∂t                        ∂t         ⎥  ⎢                                                 \n",
       "─────────────    ──────────────────────⎥  ⎢                                  0              \n",
       "                             2         ⎥  ⎢                                                 \n",
       "                          2⋅r          ⎥  ⎢                                                 \n",
       "                                       ⎥  ⎢                                                 \n",
       " r) ∂             4⋅ψ(t, r) ∂          ⎥  ⎢                                                 \n",
       "   ⋅──(ω(t, r))  ℯ         ⋅──(ω(t, r))⎥  ⎢                                                 \n",
       "    ∂r                      ∂r         ⎥  ⎢                                                 \n",
       "───────────────  ──────────────────────⎥  ⎢                                  0              \n",
       " 2                           2         ⎥  ⎢                                                 \n",
       "r                         2⋅r          ⎥  ⎢                                                 \n",
       "                                       ⎥  ⎢                                                 \n",
       "                                       ⎥  ⎢                        ∂              2        4\n",
       "                                       ⎥  ⎢                        ──(ω(t, r))   ω (t, r)⋅ℯ \n",
       "                                       ⎥  ⎢          ∂             ∂t                       \n",
       "                           0           ⎥  ⎢2⋅ω(t, r)⋅──(ψ(t, r)) + ─────────── - ───────────\n",
       "                                       ⎥  ⎢          ∂t                 2                   \n",
       "                                       ⎥  ⎢                                                 \n",
       "                                       ⎥  ⎢                                                 \n",
       "                                       ⎥  ⎢                                   4⋅ψ(t, r) ∂   \n",
       "                                       ⎥  ⎢                          ω(t, r)⋅ℯ         ⋅──(ω\n",
       "                                       ⎥  ⎢            ∂                                ∂t  \n",
       "                           0           ⎥  ⎢            ──(ψ(t, r)) - ───────────────────────\n",
       "                                       ⎥  ⎢            ∂t                            2      \n",
       "                                       ⎦  ⎣                                       2⋅r       \n",
       "\n",
       "                                                                                            \n",
       "                                                                                            \n",
       "                                                                                            \n",
       "                                                             0                              \n",
       "                                                                                            \n",
       "                                                                                            \n",
       "                                                                                            \n",
       "                                                                                            \n",
       "                                                                                            \n",
       "                                                                                            \n",
       "                                                             0                              \n",
       "                                                                                            \n",
       "                                                                                            \n",
       "                                                                                            \n",
       "⋅ψ(t, r) ∂                                    ∂                        2        4⋅ψ(t, r) ∂ \n",
       "        ⋅──(ω(t, r))                          ──(ω(t, r))             ω (t, r)⋅ℯ         ⋅──\n",
       "         ∂t                     ∂             ∂r            ω(t, r)                       ∂r\n",
       "────────────────────  2⋅ω(t, r)⋅──(ψ(t, r)) + ─────────── - ─────── - ──────────────────────\n",
       "      2                         ∂r                 2           r                       2    \n",
       "   2⋅r                                                                              2⋅r     \n",
       "                                                                                            \n",
       "                                                              4⋅ψ(t, r) ∂                   \n",
       "(t, r))                                              ω(t, r)⋅ℯ         ⋅──(ω(t, r))         \n",
       "                                       ∂                                ∂r                  \n",
       "───────                                ──(ψ(t, r)) - ──────────────────────────────         \n",
       "                                       ∂r                            2                      \n",
       "                                                                  2⋅r                       \n",
       "\n",
       "                                        ∂              2        4⋅ψ(t, r) ∂                 \n",
       "                                        ──(ω(t, r))   ω (t, r)⋅ℯ         ⋅──(ω(t, r))       \n",
       "                          ∂             ∂t                                ∂t                \n",
       "                2⋅ω(t, r)⋅──(ψ(t, r)) + ─────────── - ───────────────────────────────       \n",
       "                          ∂t                 2                         2                    \n",
       "                                                                    2⋅r                     \n",
       "                                                                                            \n",
       "                                   ∂                        2        4⋅ψ(t, r) ∂            \n",
       "                                   ──(ω(t, r))             ω (t, r)⋅ℯ         ⋅──(ω(t, r))  \n",
       "                     ∂             ∂r            ω(t, r)                       ∂r           \n",
       "           2⋅ω(t, r)⋅──(ψ(t, r)) + ─────────── - ─────── - ───────────────────────────────  \n",
       "                     ∂r                 2           r                       2               \n",
       "                                                                         2⋅r                \n",
       "                                                                                            \n",
       "                                                                                            \n",
       "(ω(t, r))                                                                                   \n",
       "                                                                                            \n",
       "─────────                                         0                                         \n",
       "                                                                                            \n",
       "                                                                                            \n",
       "                                                                                            \n",
       "                                                                                            \n",
       "                                                                                            \n",
       "                                                                                            \n",
       "                                                  0                                         \n",
       "                                                                                            \n",
       "                                                                                            \n",
       "\n",
       "                       4⋅ψ(t, r) ∂          ⎤⎤\n",
       "              ω(t, r)⋅ℯ         ⋅──(ω(t, r))⎥⎥\n",
       "∂                                ∂t         ⎥⎥\n",
       "──(ψ(t, r)) - ──────────────────────────────⎥⎥\n",
       "∂t                            2             ⎥⎥\n",
       "                           2⋅r              ⎥⎥\n",
       "                                            ⎥⎥\n",
       "                       4⋅ψ(t, r) ∂          ⎥⎥\n",
       "              ω(t, r)⋅ℯ         ⋅──(ω(t, r))⎥⎥\n",
       "∂                                ∂r         ⎥⎥\n",
       "──(ψ(t, r)) - ──────────────────────────────⎥⎥\n",
       "∂r                            2             ⎥⎥\n",
       "                           2⋅r              ⎥⎥\n",
       "                                            ⎥⎥\n",
       "                                            ⎥⎥\n",
       "                                            ⎥⎥\n",
       "                                            ⎥⎥\n",
       "                     0                      ⎥⎥\n",
       "                                            ⎥⎥\n",
       "                                            ⎥⎥\n",
       "                                            ⎥⎥\n",
       "                                            ⎥⎥\n",
       "                                            ⎥⎥\n",
       "                                            ⎥⎥\n",
       "                     0                      ⎥⎥\n",
       "                                            ⎥⎥\n",
       "                                            ⎦⎦"
      ]
     },
     "execution_count": 17,
     "metadata": {},
     "output_type": "execute_result"
    }
   ],
   "source": [
    "ch = ChristoffelSymbols.from_metric(metric)\n",
    "simplify(ch.tensor())"
   ]
  },
  {
   "cell_type": "code",
   "execution_count": 36,
   "id": "f8dce10e",
   "metadata": {},
   "outputs": [
    {
     "ename": "KeyboardInterrupt",
     "evalue": "",
     "output_type": "error",
     "traceback": [
      "\u001b[0;31m---------------------------------------------------------------------------\u001b[0m",
      "\u001b[0;31mKeyError\u001b[0m                                  Traceback (most recent call last)",
      "\u001b[0;32m/opt/anaconda3/lib/python3.8/site-packages/sympy/core/assumptions.py\u001b[0m in \u001b[0;36mgetit\u001b[0;34m(self)\u001b[0m\n\u001b[1;32m    461\u001b[0m         \u001b[0;32mtry\u001b[0m\u001b[0;34m:\u001b[0m\u001b[0;34m\u001b[0m\u001b[0;34m\u001b[0m\u001b[0m\n\u001b[0;32m--> 462\u001b[0;31m             \u001b[0;32mreturn\u001b[0m \u001b[0mself\u001b[0m\u001b[0;34m.\u001b[0m\u001b[0m_assumptions\u001b[0m\u001b[0;34m[\u001b[0m\u001b[0mfact\u001b[0m\u001b[0;34m]\u001b[0m\u001b[0;34m\u001b[0m\u001b[0;34m\u001b[0m\u001b[0m\n\u001b[0m\u001b[1;32m    463\u001b[0m         \u001b[0;32mexcept\u001b[0m \u001b[0mKeyError\u001b[0m\u001b[0;34m:\u001b[0m\u001b[0;34m\u001b[0m\u001b[0;34m\u001b[0m\u001b[0m\n",
      "\u001b[0;31mKeyError\u001b[0m: 'negative'",
      "\nDuring handling of the above exception, another exception occurred:\n",
      "\u001b[0;31mKeyError\u001b[0m                                  Traceback (most recent call last)",
      "\u001b[0;32m/opt/anaconda3/lib/python3.8/site-packages/sympy/core/assumptions.py\u001b[0m in \u001b[0;36mgetit\u001b[0;34m(self)\u001b[0m\n\u001b[1;32m    461\u001b[0m         \u001b[0;32mtry\u001b[0m\u001b[0;34m:\u001b[0m\u001b[0;34m\u001b[0m\u001b[0;34m\u001b[0m\u001b[0m\n\u001b[0;32m--> 462\u001b[0;31m             \u001b[0;32mreturn\u001b[0m \u001b[0mself\u001b[0m\u001b[0;34m.\u001b[0m\u001b[0m_assumptions\u001b[0m\u001b[0;34m[\u001b[0m\u001b[0mfact\u001b[0m\u001b[0;34m]\u001b[0m\u001b[0;34m\u001b[0m\u001b[0;34m\u001b[0m\u001b[0m\n\u001b[0m\u001b[1;32m    463\u001b[0m         \u001b[0;32mexcept\u001b[0m \u001b[0mKeyError\u001b[0m\u001b[0;34m:\u001b[0m\u001b[0;34m\u001b[0m\u001b[0;34m\u001b[0m\u001b[0m\n",
      "\u001b[0;31mKeyError\u001b[0m: 'finite'",
      "\nDuring handling of the above exception, another exception occurred:\n",
      "\u001b[0;31mKeyError\u001b[0m                                  Traceback (most recent call last)",
      "\u001b[0;32m/opt/anaconda3/lib/python3.8/site-packages/sympy/core/assumptions.py\u001b[0m in \u001b[0;36mgetit\u001b[0;34m(self)\u001b[0m\n\u001b[1;32m    461\u001b[0m         \u001b[0;32mtry\u001b[0m\u001b[0;34m:\u001b[0m\u001b[0;34m\u001b[0m\u001b[0;34m\u001b[0m\u001b[0m\n\u001b[0;32m--> 462\u001b[0;31m             \u001b[0;32mreturn\u001b[0m \u001b[0mself\u001b[0m\u001b[0;34m.\u001b[0m\u001b[0m_assumptions\u001b[0m\u001b[0;34m[\u001b[0m\u001b[0mfact\u001b[0m\u001b[0;34m]\u001b[0m\u001b[0;34m\u001b[0m\u001b[0;34m\u001b[0m\u001b[0m\n\u001b[0m\u001b[1;32m    463\u001b[0m         \u001b[0;32mexcept\u001b[0m \u001b[0mKeyError\u001b[0m\u001b[0;34m:\u001b[0m\u001b[0;34m\u001b[0m\u001b[0;34m\u001b[0m\u001b[0m\n",
      "\u001b[0;31mKeyError\u001b[0m: 'integer'",
      "\nDuring handling of the above exception, another exception occurred:\n",
      "\u001b[0;31mKeyboardInterrupt\u001b[0m                         Traceback (most recent call last)",
      "\u001b[0;32m/var/folders/r6/p_thrggs57s55w7ct5svygzr0000gn/T/ipykernel_7224/3585405375.py\u001b[0m in \u001b[0;36m<module>\u001b[0;34m\u001b[0m\n\u001b[0;32m----> 1\u001b[0;31m \u001b[0mRic\u001b[0m \u001b[0;34m=\u001b[0m \u001b[0mRicciTensor\u001b[0m\u001b[0;34m.\u001b[0m\u001b[0mfrom_metric\u001b[0m\u001b[0;34m(\u001b[0m\u001b[0mmetric\u001b[0m\u001b[0;34m)\u001b[0m\u001b[0;34m\u001b[0m\u001b[0;34m\u001b[0m\u001b[0m\n\u001b[0m\u001b[1;32m      2\u001b[0m \u001b[0mricciSimplified\u001b[0m \u001b[0;34m=\u001b[0m \u001b[0msimplify\u001b[0m\u001b[0;34m(\u001b[0m\u001b[0mRic\u001b[0m\u001b[0;34m.\u001b[0m\u001b[0mtensor\u001b[0m\u001b[0;34m(\u001b[0m\u001b[0;34m)\u001b[0m\u001b[0;34m)\u001b[0m\u001b[0;34m\u001b[0m\u001b[0;34m\u001b[0m\u001b[0m\n\u001b[1;32m      3\u001b[0m \u001b[0mricciSimplified\u001b[0m\u001b[0;34m\u001b[0m\u001b[0;34m\u001b[0m\u001b[0m\n",
      "\u001b[0;32m/opt/anaconda3/lib/python3.8/site-packages/einsteinpy/symbolic/ricci.py\u001b[0m in \u001b[0;36mfrom_metric\u001b[0;34m(cls, metric)\u001b[0m\n\u001b[1;32m    107\u001b[0m         \"\"\"\n\u001b[1;32m    108\u001b[0m         \u001b[0mch\u001b[0m \u001b[0;34m=\u001b[0m \u001b[0mChristoffelSymbols\u001b[0m\u001b[0;34m.\u001b[0m\u001b[0mfrom_metric\u001b[0m\u001b[0;34m(\u001b[0m\u001b[0mmetric\u001b[0m\u001b[0;34m)\u001b[0m\u001b[0;34m\u001b[0m\u001b[0;34m\u001b[0m\u001b[0m\n\u001b[0;32m--> 109\u001b[0;31m         \u001b[0;32mreturn\u001b[0m \u001b[0mcls\u001b[0m\u001b[0;34m.\u001b[0m\u001b[0mfrom_christoffels\u001b[0m\u001b[0;34m(\u001b[0m\u001b[0mch\u001b[0m\u001b[0;34m,\u001b[0m \u001b[0mparent_metric\u001b[0m\u001b[0;34m=\u001b[0m\u001b[0;32mNone\u001b[0m\u001b[0;34m)\u001b[0m\u001b[0;34m\u001b[0m\u001b[0;34m\u001b[0m\u001b[0m\n\u001b[0m\u001b[1;32m    110\u001b[0m \u001b[0;34m\u001b[0m\u001b[0m\n\u001b[1;32m    111\u001b[0m     \u001b[0;32mdef\u001b[0m \u001b[0mchange_config\u001b[0m\u001b[0;34m(\u001b[0m\u001b[0mself\u001b[0m\u001b[0;34m,\u001b[0m \u001b[0mnewconfig\u001b[0m\u001b[0;34m=\u001b[0m\u001b[0;34m\"ul\"\u001b[0m\u001b[0;34m,\u001b[0m \u001b[0mmetric\u001b[0m\u001b[0;34m=\u001b[0m\u001b[0;32mNone\u001b[0m\u001b[0;34m)\u001b[0m\u001b[0;34m:\u001b[0m\u001b[0;34m\u001b[0m\u001b[0;34m\u001b[0m\u001b[0m\n",
      "\u001b[0;32m/opt/anaconda3/lib/python3.8/site-packages/einsteinpy/symbolic/ricci.py\u001b[0m in \u001b[0;36mfrom_christoffels\u001b[0;34m(cls, chris, parent_metric)\u001b[0m\n\u001b[1;32m     90\u001b[0m \u001b[0;34m\u001b[0m\u001b[0m\n\u001b[1;32m     91\u001b[0m         \"\"\"\n\u001b[0;32m---> 92\u001b[0;31m         rt = RiemannCurvatureTensor.from_christoffels(\n\u001b[0m\u001b[1;32m     93\u001b[0m             \u001b[0mchris\u001b[0m\u001b[0;34m,\u001b[0m \u001b[0mparent_metric\u001b[0m\u001b[0;34m=\u001b[0m\u001b[0mparent_metric\u001b[0m\u001b[0;34m\u001b[0m\u001b[0;34m\u001b[0m\u001b[0m\n\u001b[1;32m     94\u001b[0m         )\n",
      "\u001b[0;32m/opt/anaconda3/lib/python3.8/site-packages/einsteinpy/symbolic/riemann.py\u001b[0m in \u001b[0;36mfrom_christoffels\u001b[0;34m(cls, chris, parent_metric)\u001b[0m\n\u001b[1;32m     88\u001b[0m             \u001b[0;32mfor\u001b[0m \u001b[0mp\u001b[0m \u001b[0;32min\u001b[0m \u001b[0mrange\u001b[0m\u001b[0;34m(\u001b[0m\u001b[0mdims\u001b[0m\u001b[0;34m)\u001b[0m\u001b[0;34m:\u001b[0m\u001b[0;34m\u001b[0m\u001b[0;34m\u001b[0m\u001b[0m\n\u001b[1;32m     89\u001b[0m                 \u001b[0mtemp\u001b[0m \u001b[0;34m+=\u001b[0m \u001b[0marr\u001b[0m\u001b[0;34m[\u001b[0m\u001b[0mp\u001b[0m\u001b[0;34m,\u001b[0m \u001b[0ms\u001b[0m\u001b[0;34m,\u001b[0m \u001b[0mn\u001b[0m\u001b[0;34m]\u001b[0m \u001b[0;34m*\u001b[0m \u001b[0marr\u001b[0m\u001b[0;34m[\u001b[0m\u001b[0mt\u001b[0m\u001b[0;34m,\u001b[0m \u001b[0mp\u001b[0m\u001b[0;34m,\u001b[0m \u001b[0mr\u001b[0m\u001b[0;34m]\u001b[0m \u001b[0;34m-\u001b[0m \u001b[0marr\u001b[0m\u001b[0;34m[\u001b[0m\u001b[0mp\u001b[0m\u001b[0;34m,\u001b[0m \u001b[0ms\u001b[0m\u001b[0;34m,\u001b[0m \u001b[0mr\u001b[0m\u001b[0;34m]\u001b[0m \u001b[0;34m*\u001b[0m \u001b[0marr\u001b[0m\u001b[0;34m[\u001b[0m\u001b[0mt\u001b[0m\u001b[0;34m,\u001b[0m \u001b[0mp\u001b[0m\u001b[0;34m,\u001b[0m \u001b[0mn\u001b[0m\u001b[0;34m]\u001b[0m\u001b[0;34m\u001b[0m\u001b[0;34m\u001b[0m\u001b[0m\n\u001b[0;32m---> 90\u001b[0;31m             \u001b[0mriemann_list\u001b[0m\u001b[0;34m[\u001b[0m\u001b[0mt\u001b[0m\u001b[0;34m]\u001b[0m\u001b[0;34m[\u001b[0m\u001b[0ms\u001b[0m\u001b[0;34m]\u001b[0m\u001b[0;34m[\u001b[0m\u001b[0mr\u001b[0m\u001b[0;34m]\u001b[0m\u001b[0;34m[\u001b[0m\u001b[0mn\u001b[0m\u001b[0;34m]\u001b[0m \u001b[0;34m=\u001b[0m \u001b[0msympy\u001b[0m\u001b[0;34m.\u001b[0m\u001b[0msimplify\u001b[0m\u001b[0;34m(\u001b[0m\u001b[0mtemp\u001b[0m\u001b[0;34m)\u001b[0m\u001b[0;34m\u001b[0m\u001b[0;34m\u001b[0m\u001b[0m\n\u001b[0m\u001b[1;32m     91\u001b[0m         \u001b[0;32mif\u001b[0m \u001b[0mparent_metric\u001b[0m \u001b[0;32mis\u001b[0m \u001b[0;32mNone\u001b[0m\u001b[0;34m:\u001b[0m\u001b[0;34m\u001b[0m\u001b[0;34m\u001b[0m\u001b[0m\n\u001b[1;32m     92\u001b[0m             \u001b[0mparent_metric\u001b[0m \u001b[0;34m=\u001b[0m \u001b[0mchris\u001b[0m\u001b[0;34m.\u001b[0m\u001b[0mparent_metric\u001b[0m\u001b[0;34m\u001b[0m\u001b[0;34m\u001b[0m\u001b[0m\n",
      "\u001b[0;32m/opt/anaconda3/lib/python3.8/site-packages/sympy/simplify/simplify.py\u001b[0m in \u001b[0;36msimplify\u001b[0;34m(expr, ratio, measure, rational, inverse, doit, **kwargs)\u001b[0m\n\u001b[1;32m    631\u001b[0m         \u001b[0mexpr\u001b[0m \u001b[0;34m=\u001b[0m \u001b[0mnsimplify\u001b[0m\u001b[0;34m(\u001b[0m\u001b[0mexpr\u001b[0m\u001b[0;34m,\u001b[0m \u001b[0mrational\u001b[0m\u001b[0;34m=\u001b[0m\u001b[0;32mTrue\u001b[0m\u001b[0;34m)\u001b[0m\u001b[0;34m\u001b[0m\u001b[0;34m\u001b[0m\u001b[0m\n\u001b[1;32m    632\u001b[0m \u001b[0;34m\u001b[0m\u001b[0m\n\u001b[0;32m--> 633\u001b[0;31m     \u001b[0mexpr\u001b[0m \u001b[0;34m=\u001b[0m \u001b[0mbottom_up\u001b[0m\u001b[0;34m(\u001b[0m\u001b[0mexpr\u001b[0m\u001b[0;34m,\u001b[0m \u001b[0;32mlambda\u001b[0m \u001b[0mw\u001b[0m\u001b[0;34m:\u001b[0m \u001b[0mgetattr\u001b[0m\u001b[0;34m(\u001b[0m\u001b[0mw\u001b[0m\u001b[0;34m,\u001b[0m \u001b[0;34m'normal'\u001b[0m\u001b[0;34m,\u001b[0m \u001b[0;32mlambda\u001b[0m\u001b[0;34m:\u001b[0m \u001b[0mw\u001b[0m\u001b[0;34m)\u001b[0m\u001b[0;34m(\u001b[0m\u001b[0;34m)\u001b[0m\u001b[0;34m)\u001b[0m\u001b[0;34m\u001b[0m\u001b[0;34m\u001b[0m\u001b[0m\n\u001b[0m\u001b[1;32m    634\u001b[0m     \u001b[0mexpr\u001b[0m \u001b[0;34m=\u001b[0m \u001b[0mMul\u001b[0m\u001b[0;34m(\u001b[0m\u001b[0;34m*\u001b[0m\u001b[0mpowsimp\u001b[0m\u001b[0;34m(\u001b[0m\u001b[0mexpr\u001b[0m\u001b[0;34m)\u001b[0m\u001b[0;34m.\u001b[0m\u001b[0mas_content_primitive\u001b[0m\u001b[0;34m(\u001b[0m\u001b[0;34m)\u001b[0m\u001b[0;34m)\u001b[0m\u001b[0;34m\u001b[0m\u001b[0;34m\u001b[0m\u001b[0m\n\u001b[1;32m    635\u001b[0m     \u001b[0m_e\u001b[0m \u001b[0;34m=\u001b[0m \u001b[0mcancel\u001b[0m\u001b[0;34m(\u001b[0m\u001b[0mexpr\u001b[0m\u001b[0;34m)\u001b[0m\u001b[0;34m\u001b[0m\u001b[0;34m\u001b[0m\u001b[0m\n",
      "\u001b[0;32m/opt/anaconda3/lib/python3.8/site-packages/sympy/simplify/simplify.py\u001b[0m in \u001b[0;36mbottom_up\u001b[0;34m(rv, F, atoms, nonbasic)\u001b[0m\n\u001b[1;32m   1193\u001b[0m     \u001b[0;32mif\u001b[0m \u001b[0margs\u001b[0m \u001b[0;32mis\u001b[0m \u001b[0;32mnot\u001b[0m \u001b[0;32mNone\u001b[0m\u001b[0;34m:\u001b[0m\u001b[0;34m\u001b[0m\u001b[0;34m\u001b[0m\u001b[0m\n\u001b[1;32m   1194\u001b[0m         \u001b[0;32mif\u001b[0m \u001b[0margs\u001b[0m\u001b[0;34m:\u001b[0m\u001b[0;34m\u001b[0m\u001b[0;34m\u001b[0m\u001b[0m\n\u001b[0;32m-> 1195\u001b[0;31m             \u001b[0margs\u001b[0m \u001b[0;34m=\u001b[0m \u001b[0mtuple\u001b[0m\u001b[0;34m(\u001b[0m\u001b[0;34m[\u001b[0m\u001b[0mbottom_up\u001b[0m\u001b[0;34m(\u001b[0m\u001b[0ma\u001b[0m\u001b[0;34m,\u001b[0m \u001b[0mF\u001b[0m\u001b[0;34m,\u001b[0m \u001b[0matoms\u001b[0m\u001b[0;34m,\u001b[0m \u001b[0mnonbasic\u001b[0m\u001b[0;34m)\u001b[0m \u001b[0;32mfor\u001b[0m \u001b[0ma\u001b[0m \u001b[0;32min\u001b[0m \u001b[0margs\u001b[0m\u001b[0;34m]\u001b[0m\u001b[0;34m)\u001b[0m\u001b[0;34m\u001b[0m\u001b[0;34m\u001b[0m\u001b[0m\n\u001b[0m\u001b[1;32m   1196\u001b[0m             \u001b[0;32mif\u001b[0m \u001b[0margs\u001b[0m \u001b[0;34m!=\u001b[0m \u001b[0mrv\u001b[0m\u001b[0;34m.\u001b[0m\u001b[0margs\u001b[0m\u001b[0;34m:\u001b[0m\u001b[0;34m\u001b[0m\u001b[0;34m\u001b[0m\u001b[0m\n\u001b[1;32m   1197\u001b[0m                 \u001b[0mrv\u001b[0m \u001b[0;34m=\u001b[0m \u001b[0mrv\u001b[0m\u001b[0;34m.\u001b[0m\u001b[0mfunc\u001b[0m\u001b[0;34m(\u001b[0m\u001b[0;34m*\u001b[0m\u001b[0margs\u001b[0m\u001b[0;34m)\u001b[0m\u001b[0;34m\u001b[0m\u001b[0;34m\u001b[0m\u001b[0m\n",
      "\u001b[0;32m/opt/anaconda3/lib/python3.8/site-packages/sympy/simplify/simplify.py\u001b[0m in \u001b[0;36m<listcomp>\u001b[0;34m(.0)\u001b[0m\n\u001b[1;32m   1193\u001b[0m     \u001b[0;32mif\u001b[0m \u001b[0margs\u001b[0m \u001b[0;32mis\u001b[0m \u001b[0;32mnot\u001b[0m \u001b[0;32mNone\u001b[0m\u001b[0;34m:\u001b[0m\u001b[0;34m\u001b[0m\u001b[0;34m\u001b[0m\u001b[0m\n\u001b[1;32m   1194\u001b[0m         \u001b[0;32mif\u001b[0m \u001b[0margs\u001b[0m\u001b[0;34m:\u001b[0m\u001b[0;34m\u001b[0m\u001b[0;34m\u001b[0m\u001b[0m\n\u001b[0;32m-> 1195\u001b[0;31m             \u001b[0margs\u001b[0m \u001b[0;34m=\u001b[0m \u001b[0mtuple\u001b[0m\u001b[0;34m(\u001b[0m\u001b[0;34m[\u001b[0m\u001b[0mbottom_up\u001b[0m\u001b[0;34m(\u001b[0m\u001b[0ma\u001b[0m\u001b[0;34m,\u001b[0m \u001b[0mF\u001b[0m\u001b[0;34m,\u001b[0m \u001b[0matoms\u001b[0m\u001b[0;34m,\u001b[0m \u001b[0mnonbasic\u001b[0m\u001b[0;34m)\u001b[0m \u001b[0;32mfor\u001b[0m \u001b[0ma\u001b[0m \u001b[0;32min\u001b[0m \u001b[0margs\u001b[0m\u001b[0;34m]\u001b[0m\u001b[0;34m)\u001b[0m\u001b[0;34m\u001b[0m\u001b[0;34m\u001b[0m\u001b[0m\n\u001b[0m\u001b[1;32m   1196\u001b[0m             \u001b[0;32mif\u001b[0m \u001b[0margs\u001b[0m \u001b[0;34m!=\u001b[0m \u001b[0mrv\u001b[0m\u001b[0;34m.\u001b[0m\u001b[0margs\u001b[0m\u001b[0;34m:\u001b[0m\u001b[0;34m\u001b[0m\u001b[0;34m\u001b[0m\u001b[0m\n\u001b[1;32m   1197\u001b[0m                 \u001b[0mrv\u001b[0m \u001b[0;34m=\u001b[0m \u001b[0mrv\u001b[0m\u001b[0;34m.\u001b[0m\u001b[0mfunc\u001b[0m\u001b[0;34m(\u001b[0m\u001b[0;34m*\u001b[0m\u001b[0margs\u001b[0m\u001b[0;34m)\u001b[0m\u001b[0;34m\u001b[0m\u001b[0;34m\u001b[0m\u001b[0m\n",
      "\u001b[0;32m/opt/anaconda3/lib/python3.8/site-packages/sympy/simplify/simplify.py\u001b[0m in \u001b[0;36mbottom_up\u001b[0;34m(rv, F, atoms, nonbasic)\u001b[0m\n\u001b[1;32m   1196\u001b[0m             \u001b[0;32mif\u001b[0m \u001b[0margs\u001b[0m \u001b[0;34m!=\u001b[0m \u001b[0mrv\u001b[0m\u001b[0;34m.\u001b[0m\u001b[0margs\u001b[0m\u001b[0;34m:\u001b[0m\u001b[0;34m\u001b[0m\u001b[0;34m\u001b[0m\u001b[0m\n\u001b[1;32m   1197\u001b[0m                 \u001b[0mrv\u001b[0m \u001b[0;34m=\u001b[0m \u001b[0mrv\u001b[0m\u001b[0;34m.\u001b[0m\u001b[0mfunc\u001b[0m\u001b[0;34m(\u001b[0m\u001b[0;34m*\u001b[0m\u001b[0margs\u001b[0m\u001b[0;34m)\u001b[0m\u001b[0;34m\u001b[0m\u001b[0;34m\u001b[0m\u001b[0m\n\u001b[0;32m-> 1198\u001b[0;31m             \u001b[0mrv\u001b[0m \u001b[0;34m=\u001b[0m \u001b[0mF\u001b[0m\u001b[0;34m(\u001b[0m\u001b[0mrv\u001b[0m\u001b[0;34m)\u001b[0m\u001b[0;34m\u001b[0m\u001b[0;34m\u001b[0m\u001b[0m\n\u001b[0m\u001b[1;32m   1199\u001b[0m         \u001b[0;32melif\u001b[0m \u001b[0matoms\u001b[0m\u001b[0;34m:\u001b[0m\u001b[0;34m\u001b[0m\u001b[0;34m\u001b[0m\u001b[0m\n\u001b[1;32m   1200\u001b[0m             \u001b[0mrv\u001b[0m \u001b[0;34m=\u001b[0m \u001b[0mF\u001b[0m\u001b[0;34m(\u001b[0m\u001b[0mrv\u001b[0m\u001b[0;34m)\u001b[0m\u001b[0;34m\u001b[0m\u001b[0;34m\u001b[0m\u001b[0m\n",
      "\u001b[0;32m/opt/anaconda3/lib/python3.8/site-packages/sympy/simplify/simplify.py\u001b[0m in \u001b[0;36m<lambda>\u001b[0;34m(w)\u001b[0m\n\u001b[1;32m    631\u001b[0m         \u001b[0mexpr\u001b[0m \u001b[0;34m=\u001b[0m \u001b[0mnsimplify\u001b[0m\u001b[0;34m(\u001b[0m\u001b[0mexpr\u001b[0m\u001b[0;34m,\u001b[0m \u001b[0mrational\u001b[0m\u001b[0;34m=\u001b[0m\u001b[0;32mTrue\u001b[0m\u001b[0;34m)\u001b[0m\u001b[0;34m\u001b[0m\u001b[0;34m\u001b[0m\u001b[0m\n\u001b[1;32m    632\u001b[0m \u001b[0;34m\u001b[0m\u001b[0m\n\u001b[0;32m--> 633\u001b[0;31m     \u001b[0mexpr\u001b[0m \u001b[0;34m=\u001b[0m \u001b[0mbottom_up\u001b[0m\u001b[0;34m(\u001b[0m\u001b[0mexpr\u001b[0m\u001b[0;34m,\u001b[0m \u001b[0;32mlambda\u001b[0m \u001b[0mw\u001b[0m\u001b[0;34m:\u001b[0m \u001b[0mgetattr\u001b[0m\u001b[0;34m(\u001b[0m\u001b[0mw\u001b[0m\u001b[0;34m,\u001b[0m \u001b[0;34m'normal'\u001b[0m\u001b[0;34m,\u001b[0m \u001b[0;32mlambda\u001b[0m\u001b[0;34m:\u001b[0m \u001b[0mw\u001b[0m\u001b[0;34m)\u001b[0m\u001b[0;34m(\u001b[0m\u001b[0;34m)\u001b[0m\u001b[0;34m)\u001b[0m\u001b[0;34m\u001b[0m\u001b[0;34m\u001b[0m\u001b[0m\n\u001b[0m\u001b[1;32m    634\u001b[0m     \u001b[0mexpr\u001b[0m \u001b[0;34m=\u001b[0m \u001b[0mMul\u001b[0m\u001b[0;34m(\u001b[0m\u001b[0;34m*\u001b[0m\u001b[0mpowsimp\u001b[0m\u001b[0;34m(\u001b[0m\u001b[0mexpr\u001b[0m\u001b[0;34m)\u001b[0m\u001b[0;34m.\u001b[0m\u001b[0mas_content_primitive\u001b[0m\u001b[0;34m(\u001b[0m\u001b[0;34m)\u001b[0m\u001b[0;34m)\u001b[0m\u001b[0;34m\u001b[0m\u001b[0;34m\u001b[0m\u001b[0m\n\u001b[1;32m    635\u001b[0m     \u001b[0m_e\u001b[0m \u001b[0;34m=\u001b[0m \u001b[0mcancel\u001b[0m\u001b[0;34m(\u001b[0m\u001b[0mexpr\u001b[0m\u001b[0;34m)\u001b[0m\u001b[0;34m\u001b[0m\u001b[0;34m\u001b[0m\u001b[0m\n",
      "\u001b[0;32m/opt/anaconda3/lib/python3.8/site-packages/sympy/core/expr.py\u001b[0m in \u001b[0;36mnormal\u001b[0;34m(self)\u001b[0m\n\u001b[1;32m   2176\u001b[0m         \"\"\"\n\u001b[1;32m   2177\u001b[0m         \u001b[0;32mfrom\u001b[0m \u001b[0;34m.\u001b[0m\u001b[0mmul\u001b[0m \u001b[0;32mimport\u001b[0m \u001b[0m_unevaluated_Mul\u001b[0m\u001b[0;34m\u001b[0m\u001b[0;34m\u001b[0m\u001b[0m\n\u001b[0;32m-> 2178\u001b[0;31m         \u001b[0mn\u001b[0m\u001b[0;34m,\u001b[0m \u001b[0md\u001b[0m \u001b[0;34m=\u001b[0m \u001b[0mself\u001b[0m\u001b[0;34m.\u001b[0m\u001b[0mas_numer_denom\u001b[0m\u001b[0;34m(\u001b[0m\u001b[0;34m)\u001b[0m\u001b[0;34m\u001b[0m\u001b[0;34m\u001b[0m\u001b[0m\n\u001b[0m\u001b[1;32m   2179\u001b[0m         \u001b[0;32mif\u001b[0m \u001b[0md\u001b[0m \u001b[0;32mis\u001b[0m \u001b[0mS\u001b[0m\u001b[0;34m.\u001b[0m\u001b[0mOne\u001b[0m\u001b[0;34m:\u001b[0m\u001b[0;34m\u001b[0m\u001b[0;34m\u001b[0m\u001b[0m\n\u001b[1;32m   2180\u001b[0m             \u001b[0;32mreturn\u001b[0m \u001b[0mn\u001b[0m\u001b[0;34m\u001b[0m\u001b[0;34m\u001b[0m\u001b[0m\n",
      "\u001b[0;32m/opt/anaconda3/lib/python3.8/site-packages/sympy/core/mul.py\u001b[0m in \u001b[0;36mas_numer_denom\u001b[0;34m(self)\u001b[0m\n\u001b[1;32m   1244\u001b[0m         \u001b[0;31m# as the order is not guaranteed to be the same once they have\u001b[0m\u001b[0;34m\u001b[0m\u001b[0;34m\u001b[0m\u001b[0;34m\u001b[0m\u001b[0m\n\u001b[1;32m   1245\u001b[0m         \u001b[0;31m# been separated from each other\u001b[0m\u001b[0;34m\u001b[0m\u001b[0;34m\u001b[0m\u001b[0;34m\u001b[0m\u001b[0m\n\u001b[0;32m-> 1246\u001b[0;31m         \u001b[0mnumers\u001b[0m\u001b[0;34m,\u001b[0m \u001b[0mdenoms\u001b[0m \u001b[0;34m=\u001b[0m \u001b[0mlist\u001b[0m\u001b[0;34m(\u001b[0m\u001b[0mzip\u001b[0m\u001b[0;34m(\u001b[0m\u001b[0;34m*\u001b[0m\u001b[0;34m[\u001b[0m\u001b[0mf\u001b[0m\u001b[0;34m.\u001b[0m\u001b[0mas_numer_denom\u001b[0m\u001b[0;34m(\u001b[0m\u001b[0;34m)\u001b[0m \u001b[0;32mfor\u001b[0m \u001b[0mf\u001b[0m \u001b[0;32min\u001b[0m \u001b[0mself\u001b[0m\u001b[0;34m.\u001b[0m\u001b[0margs\u001b[0m\u001b[0;34m]\u001b[0m\u001b[0;34m)\u001b[0m\u001b[0;34m)\u001b[0m\u001b[0;34m\u001b[0m\u001b[0;34m\u001b[0m\u001b[0m\n\u001b[0m\u001b[1;32m   1247\u001b[0m         \u001b[0;32mreturn\u001b[0m \u001b[0mself\u001b[0m\u001b[0;34m.\u001b[0m\u001b[0mfunc\u001b[0m\u001b[0;34m(\u001b[0m\u001b[0;34m*\u001b[0m\u001b[0mnumers\u001b[0m\u001b[0;34m)\u001b[0m\u001b[0;34m,\u001b[0m \u001b[0mself\u001b[0m\u001b[0;34m.\u001b[0m\u001b[0mfunc\u001b[0m\u001b[0;34m(\u001b[0m\u001b[0;34m*\u001b[0m\u001b[0mdenoms\u001b[0m\u001b[0;34m)\u001b[0m\u001b[0;34m\u001b[0m\u001b[0;34m\u001b[0m\u001b[0m\n\u001b[1;32m   1248\u001b[0m \u001b[0;34m\u001b[0m\u001b[0m\n",
      "\u001b[0;32m/opt/anaconda3/lib/python3.8/site-packages/sympy/core/mul.py\u001b[0m in \u001b[0;36m<listcomp>\u001b[0;34m(.0)\u001b[0m\n\u001b[1;32m   1244\u001b[0m         \u001b[0;31m# as the order is not guaranteed to be the same once they have\u001b[0m\u001b[0;34m\u001b[0m\u001b[0;34m\u001b[0m\u001b[0;34m\u001b[0m\u001b[0m\n\u001b[1;32m   1245\u001b[0m         \u001b[0;31m# been separated from each other\u001b[0m\u001b[0;34m\u001b[0m\u001b[0;34m\u001b[0m\u001b[0;34m\u001b[0m\u001b[0m\n\u001b[0;32m-> 1246\u001b[0;31m         \u001b[0mnumers\u001b[0m\u001b[0;34m,\u001b[0m \u001b[0mdenoms\u001b[0m \u001b[0;34m=\u001b[0m \u001b[0mlist\u001b[0m\u001b[0;34m(\u001b[0m\u001b[0mzip\u001b[0m\u001b[0;34m(\u001b[0m\u001b[0;34m*\u001b[0m\u001b[0;34m[\u001b[0m\u001b[0mf\u001b[0m\u001b[0;34m.\u001b[0m\u001b[0mas_numer_denom\u001b[0m\u001b[0;34m(\u001b[0m\u001b[0;34m)\u001b[0m \u001b[0;32mfor\u001b[0m \u001b[0mf\u001b[0m \u001b[0;32min\u001b[0m \u001b[0mself\u001b[0m\u001b[0;34m.\u001b[0m\u001b[0margs\u001b[0m\u001b[0;34m]\u001b[0m\u001b[0;34m)\u001b[0m\u001b[0;34m)\u001b[0m\u001b[0;34m\u001b[0m\u001b[0;34m\u001b[0m\u001b[0m\n\u001b[0m\u001b[1;32m   1247\u001b[0m         \u001b[0;32mreturn\u001b[0m \u001b[0mself\u001b[0m\u001b[0;34m.\u001b[0m\u001b[0mfunc\u001b[0m\u001b[0;34m(\u001b[0m\u001b[0;34m*\u001b[0m\u001b[0mnumers\u001b[0m\u001b[0;34m)\u001b[0m\u001b[0;34m,\u001b[0m \u001b[0mself\u001b[0m\u001b[0;34m.\u001b[0m\u001b[0mfunc\u001b[0m\u001b[0;34m(\u001b[0m\u001b[0;34m*\u001b[0m\u001b[0mdenoms\u001b[0m\u001b[0;34m)\u001b[0m\u001b[0;34m\u001b[0m\u001b[0;34m\u001b[0m\u001b[0m\n\u001b[1;32m   1248\u001b[0m \u001b[0;34m\u001b[0m\u001b[0m\n",
      "\u001b[0;32m/opt/anaconda3/lib/python3.8/site-packages/sympy/core/add.py\u001b[0m in \u001b[0;36mas_numer_denom\u001b[0;34m(self)\u001b[0m\n\u001b[1;32m    585\u001b[0m         \u001b[0mnd\u001b[0m \u001b[0;34m=\u001b[0m \u001b[0mdefaultdict\u001b[0m\u001b[0;34m(\u001b[0m\u001b[0mlist\u001b[0m\u001b[0;34m)\u001b[0m\u001b[0;34m\u001b[0m\u001b[0;34m\u001b[0m\u001b[0m\n\u001b[1;32m    586\u001b[0m         \u001b[0;32mfor\u001b[0m \u001b[0mf\u001b[0m \u001b[0;32min\u001b[0m \u001b[0mexpr\u001b[0m\u001b[0;34m.\u001b[0m\u001b[0margs\u001b[0m\u001b[0;34m:\u001b[0m\u001b[0;34m\u001b[0m\u001b[0;34m\u001b[0m\u001b[0m\n\u001b[0;32m--> 587\u001b[0;31m             \u001b[0mni\u001b[0m\u001b[0;34m,\u001b[0m \u001b[0mdi\u001b[0m \u001b[0;34m=\u001b[0m \u001b[0mf\u001b[0m\u001b[0;34m.\u001b[0m\u001b[0mas_numer_denom\u001b[0m\u001b[0;34m(\u001b[0m\u001b[0;34m)\u001b[0m\u001b[0;34m\u001b[0m\u001b[0;34m\u001b[0m\u001b[0m\n\u001b[0m\u001b[1;32m    588\u001b[0m             \u001b[0mnd\u001b[0m\u001b[0;34m[\u001b[0m\u001b[0mdi\u001b[0m\u001b[0;34m]\u001b[0m\u001b[0;34m.\u001b[0m\u001b[0mappend\u001b[0m\u001b[0;34m(\u001b[0m\u001b[0mni\u001b[0m\u001b[0;34m)\u001b[0m\u001b[0;34m\u001b[0m\u001b[0;34m\u001b[0m\u001b[0m\n\u001b[1;32m    589\u001b[0m \u001b[0;34m\u001b[0m\u001b[0m\n",
      "\u001b[0;32m/opt/anaconda3/lib/python3.8/site-packages/sympy/core/mul.py\u001b[0m in \u001b[0;36mas_numer_denom\u001b[0;34m(self)\u001b[0m\n\u001b[1;32m   1244\u001b[0m         \u001b[0;31m# as the order is not guaranteed to be the same once they have\u001b[0m\u001b[0;34m\u001b[0m\u001b[0;34m\u001b[0m\u001b[0;34m\u001b[0m\u001b[0m\n\u001b[1;32m   1245\u001b[0m         \u001b[0;31m# been separated from each other\u001b[0m\u001b[0;34m\u001b[0m\u001b[0;34m\u001b[0m\u001b[0;34m\u001b[0m\u001b[0m\n\u001b[0;32m-> 1246\u001b[0;31m         \u001b[0mnumers\u001b[0m\u001b[0;34m,\u001b[0m \u001b[0mdenoms\u001b[0m \u001b[0;34m=\u001b[0m \u001b[0mlist\u001b[0m\u001b[0;34m(\u001b[0m\u001b[0mzip\u001b[0m\u001b[0;34m(\u001b[0m\u001b[0;34m*\u001b[0m\u001b[0;34m[\u001b[0m\u001b[0mf\u001b[0m\u001b[0;34m.\u001b[0m\u001b[0mas_numer_denom\u001b[0m\u001b[0;34m(\u001b[0m\u001b[0;34m)\u001b[0m \u001b[0;32mfor\u001b[0m \u001b[0mf\u001b[0m \u001b[0;32min\u001b[0m \u001b[0mself\u001b[0m\u001b[0;34m.\u001b[0m\u001b[0margs\u001b[0m\u001b[0;34m]\u001b[0m\u001b[0;34m)\u001b[0m\u001b[0;34m)\u001b[0m\u001b[0;34m\u001b[0m\u001b[0;34m\u001b[0m\u001b[0m\n\u001b[0m\u001b[1;32m   1247\u001b[0m         \u001b[0;32mreturn\u001b[0m \u001b[0mself\u001b[0m\u001b[0;34m.\u001b[0m\u001b[0mfunc\u001b[0m\u001b[0;34m(\u001b[0m\u001b[0;34m*\u001b[0m\u001b[0mnumers\u001b[0m\u001b[0;34m)\u001b[0m\u001b[0;34m,\u001b[0m \u001b[0mself\u001b[0m\u001b[0;34m.\u001b[0m\u001b[0mfunc\u001b[0m\u001b[0;34m(\u001b[0m\u001b[0;34m*\u001b[0m\u001b[0mdenoms\u001b[0m\u001b[0;34m)\u001b[0m\u001b[0;34m\u001b[0m\u001b[0;34m\u001b[0m\u001b[0m\n\u001b[1;32m   1248\u001b[0m \u001b[0;34m\u001b[0m\u001b[0m\n",
      "\u001b[0;32m/opt/anaconda3/lib/python3.8/site-packages/sympy/core/mul.py\u001b[0m in \u001b[0;36m<listcomp>\u001b[0;34m(.0)\u001b[0m\n\u001b[1;32m   1244\u001b[0m         \u001b[0;31m# as the order is not guaranteed to be the same once they have\u001b[0m\u001b[0;34m\u001b[0m\u001b[0;34m\u001b[0m\u001b[0;34m\u001b[0m\u001b[0m\n\u001b[1;32m   1245\u001b[0m         \u001b[0;31m# been separated from each other\u001b[0m\u001b[0;34m\u001b[0m\u001b[0;34m\u001b[0m\u001b[0;34m\u001b[0m\u001b[0m\n\u001b[0;32m-> 1246\u001b[0;31m         \u001b[0mnumers\u001b[0m\u001b[0;34m,\u001b[0m \u001b[0mdenoms\u001b[0m \u001b[0;34m=\u001b[0m \u001b[0mlist\u001b[0m\u001b[0;34m(\u001b[0m\u001b[0mzip\u001b[0m\u001b[0;34m(\u001b[0m\u001b[0;34m*\u001b[0m\u001b[0;34m[\u001b[0m\u001b[0mf\u001b[0m\u001b[0;34m.\u001b[0m\u001b[0mas_numer_denom\u001b[0m\u001b[0;34m(\u001b[0m\u001b[0;34m)\u001b[0m \u001b[0;32mfor\u001b[0m \u001b[0mf\u001b[0m \u001b[0;32min\u001b[0m \u001b[0mself\u001b[0m\u001b[0;34m.\u001b[0m\u001b[0margs\u001b[0m\u001b[0;34m]\u001b[0m\u001b[0;34m)\u001b[0m\u001b[0;34m)\u001b[0m\u001b[0;34m\u001b[0m\u001b[0;34m\u001b[0m\u001b[0m\n\u001b[0m\u001b[1;32m   1247\u001b[0m         \u001b[0;32mreturn\u001b[0m \u001b[0mself\u001b[0m\u001b[0;34m.\u001b[0m\u001b[0mfunc\u001b[0m\u001b[0;34m(\u001b[0m\u001b[0;34m*\u001b[0m\u001b[0mnumers\u001b[0m\u001b[0;34m)\u001b[0m\u001b[0;34m,\u001b[0m \u001b[0mself\u001b[0m\u001b[0;34m.\u001b[0m\u001b[0mfunc\u001b[0m\u001b[0;34m(\u001b[0m\u001b[0;34m*\u001b[0m\u001b[0mdenoms\u001b[0m\u001b[0;34m)\u001b[0m\u001b[0;34m\u001b[0m\u001b[0;34m\u001b[0m\u001b[0m\n\u001b[1;32m   1248\u001b[0m \u001b[0;34m\u001b[0m\u001b[0m\n",
      "\u001b[0;32m/opt/anaconda3/lib/python3.8/site-packages/sympy/functions/elementary/exponential.py\u001b[0m in \u001b[0;36mas_numer_denom\u001b[0;34m(self)\u001b[0m\n\u001b[1;32m     61\u001b[0m         \u001b[0mexp\u001b[0m \u001b[0;34m=\u001b[0m \u001b[0mself\u001b[0m\u001b[0;34m.\u001b[0m\u001b[0mexp\u001b[0m\u001b[0;34m\u001b[0m\u001b[0;34m\u001b[0m\u001b[0m\n\u001b[1;32m     62\u001b[0m         \u001b[0mneg_exp\u001b[0m \u001b[0;34m=\u001b[0m \u001b[0mexp\u001b[0m\u001b[0;34m.\u001b[0m\u001b[0mis_negative\u001b[0m\u001b[0;34m\u001b[0m\u001b[0;34m\u001b[0m\u001b[0m\n\u001b[0;32m---> 63\u001b[0;31m         \u001b[0;32mif\u001b[0m \u001b[0;32mnot\u001b[0m \u001b[0mneg_exp\u001b[0m \u001b[0;32mand\u001b[0m \u001b[0;32mnot\u001b[0m \u001b[0;34m(\u001b[0m\u001b[0;34m-\u001b[0m\u001b[0mexp\u001b[0m\u001b[0;34m)\u001b[0m\u001b[0;34m.\u001b[0m\u001b[0mis_negative\u001b[0m\u001b[0;34m:\u001b[0m\u001b[0;34m\u001b[0m\u001b[0;34m\u001b[0m\u001b[0m\n\u001b[0m\u001b[1;32m     64\u001b[0m             \u001b[0mneg_exp\u001b[0m \u001b[0;34m=\u001b[0m \u001b[0m_coeff_isneg\u001b[0m\u001b[0;34m(\u001b[0m\u001b[0mexp\u001b[0m\u001b[0;34m)\u001b[0m\u001b[0;34m\u001b[0m\u001b[0;34m\u001b[0m\u001b[0m\n\u001b[1;32m     65\u001b[0m         \u001b[0;32mif\u001b[0m \u001b[0mneg_exp\u001b[0m\u001b[0;34m:\u001b[0m\u001b[0;34m\u001b[0m\u001b[0;34m\u001b[0m\u001b[0m\n",
      "\u001b[0;32m/opt/anaconda3/lib/python3.8/site-packages/sympy/core/assumptions.py\u001b[0m in \u001b[0;36mgetit\u001b[0;34m(self)\u001b[0m\n\u001b[1;32m    464\u001b[0m             \u001b[0;32mif\u001b[0m \u001b[0mself\u001b[0m\u001b[0;34m.\u001b[0m\u001b[0m_assumptions\u001b[0m \u001b[0;32mis\u001b[0m \u001b[0mself\u001b[0m\u001b[0;34m.\u001b[0m\u001b[0mdefault_assumptions\u001b[0m\u001b[0;34m:\u001b[0m\u001b[0;34m\u001b[0m\u001b[0;34m\u001b[0m\u001b[0m\n\u001b[1;32m    465\u001b[0m                 \u001b[0mself\u001b[0m\u001b[0;34m.\u001b[0m\u001b[0m_assumptions\u001b[0m \u001b[0;34m=\u001b[0m \u001b[0mself\u001b[0m\u001b[0;34m.\u001b[0m\u001b[0mdefault_assumptions\u001b[0m\u001b[0;34m.\u001b[0m\u001b[0mcopy\u001b[0m\u001b[0;34m(\u001b[0m\u001b[0;34m)\u001b[0m\u001b[0;34m\u001b[0m\u001b[0;34m\u001b[0m\u001b[0m\n\u001b[0;32m--> 466\u001b[0;31m             \u001b[0;32mreturn\u001b[0m \u001b[0m_ask\u001b[0m\u001b[0;34m(\u001b[0m\u001b[0mfact\u001b[0m\u001b[0;34m,\u001b[0m \u001b[0mself\u001b[0m\u001b[0;34m)\u001b[0m\u001b[0;34m\u001b[0m\u001b[0;34m\u001b[0m\u001b[0m\n\u001b[0m\u001b[1;32m    467\u001b[0m \u001b[0;34m\u001b[0m\u001b[0m\n\u001b[1;32m    468\u001b[0m     \u001b[0mgetit\u001b[0m\u001b[0;34m.\u001b[0m\u001b[0mfunc_name\u001b[0m \u001b[0;34m=\u001b[0m \u001b[0mas_property\u001b[0m\u001b[0;34m(\u001b[0m\u001b[0mfact\u001b[0m\u001b[0;34m)\u001b[0m\u001b[0;34m\u001b[0m\u001b[0;34m\u001b[0m\u001b[0m\n",
      "\u001b[0;32m/opt/anaconda3/lib/python3.8/site-packages/sympy/core/assumptions.py\u001b[0m in \u001b[0;36m_ask\u001b[0;34m(fact, obj)\u001b[0m\n\u001b[1;32m    507\u001b[0m         \u001b[0;32mpass\u001b[0m\u001b[0;34m\u001b[0m\u001b[0;34m\u001b[0m\u001b[0m\n\u001b[1;32m    508\u001b[0m     \u001b[0;32melse\u001b[0m\u001b[0;34m:\u001b[0m\u001b[0;34m\u001b[0m\u001b[0;34m\u001b[0m\u001b[0m\n\u001b[0;32m--> 509\u001b[0;31m         \u001b[0ma\u001b[0m \u001b[0;34m=\u001b[0m \u001b[0mevaluate\u001b[0m\u001b[0;34m(\u001b[0m\u001b[0mobj\u001b[0m\u001b[0;34m)\u001b[0m\u001b[0;34m\u001b[0m\u001b[0;34m\u001b[0m\u001b[0m\n\u001b[0m\u001b[1;32m    510\u001b[0m         \u001b[0;32mif\u001b[0m \u001b[0ma\u001b[0m \u001b[0;32mis\u001b[0m \u001b[0;32mnot\u001b[0m \u001b[0;32mNone\u001b[0m\u001b[0;34m:\u001b[0m\u001b[0;34m\u001b[0m\u001b[0;34m\u001b[0m\u001b[0m\n\u001b[1;32m    511\u001b[0m             \u001b[0massumptions\u001b[0m\u001b[0;34m.\u001b[0m\u001b[0mdeduce_all_facts\u001b[0m\u001b[0;34m(\u001b[0m\u001b[0;34m(\u001b[0m\u001b[0;34m(\u001b[0m\u001b[0mfact\u001b[0m\u001b[0;34m,\u001b[0m \u001b[0ma\u001b[0m\u001b[0;34m)\u001b[0m\u001b[0;34m,\u001b[0m\u001b[0;34m)\u001b[0m\u001b[0;34m)\u001b[0m\u001b[0;34m\u001b[0m\u001b[0;34m\u001b[0m\u001b[0m\n",
      "\u001b[0;32m/opt/anaconda3/lib/python3.8/site-packages/sympy/core/expr.py\u001b[0m in \u001b[0;36m_eval_is_negative\u001b[0;34m(self)\u001b[0m\n\u001b[1;32m    858\u001b[0m \u001b[0;34m\u001b[0m\u001b[0m\n\u001b[1;32m    859\u001b[0m     \u001b[0;32mdef\u001b[0m \u001b[0m_eval_is_negative\u001b[0m\u001b[0;34m(\u001b[0m\u001b[0mself\u001b[0m\u001b[0;34m)\u001b[0m\u001b[0;34m:\u001b[0m\u001b[0;34m\u001b[0m\u001b[0;34m\u001b[0m\u001b[0m\n\u001b[0;32m--> 860\u001b[0;31m         \u001b[0mfinite\u001b[0m \u001b[0;34m=\u001b[0m \u001b[0mself\u001b[0m\u001b[0;34m.\u001b[0m\u001b[0mis_finite\u001b[0m\u001b[0;34m\u001b[0m\u001b[0;34m\u001b[0m\u001b[0m\n\u001b[0m\u001b[1;32m    861\u001b[0m         \u001b[0;32mif\u001b[0m \u001b[0mfinite\u001b[0m \u001b[0;32mis\u001b[0m \u001b[0;32mFalse\u001b[0m\u001b[0;34m:\u001b[0m\u001b[0;34m\u001b[0m\u001b[0;34m\u001b[0m\u001b[0m\n\u001b[1;32m    862\u001b[0m             \u001b[0;32mreturn\u001b[0m \u001b[0;32mFalse\u001b[0m\u001b[0;34m\u001b[0m\u001b[0;34m\u001b[0m\u001b[0m\n",
      "\u001b[0;32m/opt/anaconda3/lib/python3.8/site-packages/sympy/core/assumptions.py\u001b[0m in \u001b[0;36mgetit\u001b[0;34m(self)\u001b[0m\n\u001b[1;32m    464\u001b[0m             \u001b[0;32mif\u001b[0m \u001b[0mself\u001b[0m\u001b[0;34m.\u001b[0m\u001b[0m_assumptions\u001b[0m \u001b[0;32mis\u001b[0m \u001b[0mself\u001b[0m\u001b[0;34m.\u001b[0m\u001b[0mdefault_assumptions\u001b[0m\u001b[0;34m:\u001b[0m\u001b[0;34m\u001b[0m\u001b[0;34m\u001b[0m\u001b[0m\n\u001b[1;32m    465\u001b[0m                 \u001b[0mself\u001b[0m\u001b[0;34m.\u001b[0m\u001b[0m_assumptions\u001b[0m \u001b[0;34m=\u001b[0m \u001b[0mself\u001b[0m\u001b[0;34m.\u001b[0m\u001b[0mdefault_assumptions\u001b[0m\u001b[0;34m.\u001b[0m\u001b[0mcopy\u001b[0m\u001b[0;34m(\u001b[0m\u001b[0;34m)\u001b[0m\u001b[0;34m\u001b[0m\u001b[0;34m\u001b[0m\u001b[0m\n\u001b[0;32m--> 466\u001b[0;31m             \u001b[0;32mreturn\u001b[0m \u001b[0m_ask\u001b[0m\u001b[0;34m(\u001b[0m\u001b[0mfact\u001b[0m\u001b[0;34m,\u001b[0m \u001b[0mself\u001b[0m\u001b[0;34m)\u001b[0m\u001b[0;34m\u001b[0m\u001b[0;34m\u001b[0m\u001b[0m\n\u001b[0m\u001b[1;32m    467\u001b[0m \u001b[0;34m\u001b[0m\u001b[0m\n\u001b[1;32m    468\u001b[0m     \u001b[0mgetit\u001b[0m\u001b[0;34m.\u001b[0m\u001b[0mfunc_name\u001b[0m \u001b[0;34m=\u001b[0m \u001b[0mas_property\u001b[0m\u001b[0;34m(\u001b[0m\u001b[0mfact\u001b[0m\u001b[0;34m)\u001b[0m\u001b[0;34m\u001b[0m\u001b[0;34m\u001b[0m\u001b[0m\n",
      "\u001b[0;32m/opt/anaconda3/lib/python3.8/site-packages/sympy/core/assumptions.py\u001b[0m in \u001b[0;36m_ask\u001b[0;34m(fact, obj)\u001b[0m\n\u001b[1;32m    519\u001b[0m             \u001b[0;32mcontinue\u001b[0m\u001b[0;34m\u001b[0m\u001b[0;34m\u001b[0m\u001b[0m\n\u001b[1;32m    520\u001b[0m         \u001b[0;32mif\u001b[0m \u001b[0mpk\u001b[0m \u001b[0;32min\u001b[0m \u001b[0mhandler_map\u001b[0m\u001b[0;34m:\u001b[0m\u001b[0;34m\u001b[0m\u001b[0;34m\u001b[0m\u001b[0m\n\u001b[0;32m--> 521\u001b[0;31m             \u001b[0m_ask\u001b[0m\u001b[0;34m(\u001b[0m\u001b[0mpk\u001b[0m\u001b[0;34m,\u001b[0m \u001b[0mobj\u001b[0m\u001b[0;34m)\u001b[0m\u001b[0;34m\u001b[0m\u001b[0;34m\u001b[0m\u001b[0m\n\u001b[0m\u001b[1;32m    522\u001b[0m \u001b[0;34m\u001b[0m\u001b[0m\n\u001b[1;32m    523\u001b[0m             \u001b[0;31m# we might have found the value of fact\u001b[0m\u001b[0;34m\u001b[0m\u001b[0;34m\u001b[0m\u001b[0;34m\u001b[0m\u001b[0m\n",
      "\u001b[0;32m/opt/anaconda3/lib/python3.8/site-packages/sympy/core/assumptions.py\u001b[0m in \u001b[0;36m_ask\u001b[0;34m(fact, obj)\u001b[0m\n\u001b[1;32m    519\u001b[0m             \u001b[0;32mcontinue\u001b[0m\u001b[0;34m\u001b[0m\u001b[0;34m\u001b[0m\u001b[0m\n\u001b[1;32m    520\u001b[0m         \u001b[0;32mif\u001b[0m \u001b[0mpk\u001b[0m \u001b[0;32min\u001b[0m \u001b[0mhandler_map\u001b[0m\u001b[0;34m:\u001b[0m\u001b[0;34m\u001b[0m\u001b[0;34m\u001b[0m\u001b[0m\n\u001b[0;32m--> 521\u001b[0;31m             \u001b[0m_ask\u001b[0m\u001b[0;34m(\u001b[0m\u001b[0mpk\u001b[0m\u001b[0;34m,\u001b[0m \u001b[0mobj\u001b[0m\u001b[0;34m)\u001b[0m\u001b[0;34m\u001b[0m\u001b[0;34m\u001b[0m\u001b[0m\n\u001b[0m\u001b[1;32m    522\u001b[0m \u001b[0;34m\u001b[0m\u001b[0m\n\u001b[1;32m    523\u001b[0m             \u001b[0;31m# we might have found the value of fact\u001b[0m\u001b[0;34m\u001b[0m\u001b[0;34m\u001b[0m\u001b[0;34m\u001b[0m\u001b[0m\n",
      "\u001b[0;32m/opt/anaconda3/lib/python3.8/site-packages/sympy/core/assumptions.py\u001b[0m in \u001b[0;36m_ask\u001b[0;34m(fact, obj)\u001b[0m\n\u001b[1;32m    507\u001b[0m         \u001b[0;32mpass\u001b[0m\u001b[0;34m\u001b[0m\u001b[0;34m\u001b[0m\u001b[0m\n\u001b[1;32m    508\u001b[0m     \u001b[0;32melse\u001b[0m\u001b[0;34m:\u001b[0m\u001b[0;34m\u001b[0m\u001b[0;34m\u001b[0m\u001b[0m\n\u001b[0;32m--> 509\u001b[0;31m         \u001b[0ma\u001b[0m \u001b[0;34m=\u001b[0m \u001b[0mevaluate\u001b[0m\u001b[0;34m(\u001b[0m\u001b[0mobj\u001b[0m\u001b[0;34m)\u001b[0m\u001b[0;34m\u001b[0m\u001b[0;34m\u001b[0m\u001b[0m\n\u001b[0m\u001b[1;32m    510\u001b[0m         \u001b[0;32mif\u001b[0m \u001b[0ma\u001b[0m \u001b[0;32mis\u001b[0m \u001b[0;32mnot\u001b[0m \u001b[0;32mNone\u001b[0m\u001b[0;34m:\u001b[0m\u001b[0;34m\u001b[0m\u001b[0;34m\u001b[0m\u001b[0m\n\u001b[1;32m    511\u001b[0m             \u001b[0massumptions\u001b[0m\u001b[0;34m.\u001b[0m\u001b[0mdeduce_all_facts\u001b[0m\u001b[0;34m(\u001b[0m\u001b[0;34m(\u001b[0m\u001b[0;34m(\u001b[0m\u001b[0mfact\u001b[0m\u001b[0;34m,\u001b[0m \u001b[0ma\u001b[0m\u001b[0;34m)\u001b[0m\u001b[0;34m,\u001b[0m\u001b[0;34m)\u001b[0m\u001b[0;34m)\u001b[0m\u001b[0;34m\u001b[0m\u001b[0;34m\u001b[0m\u001b[0m\n",
      "\u001b[0;32m/opt/anaconda3/lib/python3.8/site-packages/sympy/core/mul.py\u001b[0m in \u001b[0;36m_eval_is_even\u001b[0;34m(self)\u001b[0m\n\u001b[1;32m   1608\u001b[0m     \u001b[0;32mdef\u001b[0m \u001b[0m_eval_is_even\u001b[0m\u001b[0;34m(\u001b[0m\u001b[0mself\u001b[0m\u001b[0;34m)\u001b[0m\u001b[0;34m:\u001b[0m\u001b[0;34m\u001b[0m\u001b[0;34m\u001b[0m\u001b[0m\n\u001b[1;32m   1609\u001b[0m         \u001b[0;32mfrom\u001b[0m \u001b[0msympy\u001b[0m \u001b[0;32mimport\u001b[0m \u001b[0mtrailing\u001b[0m\u001b[0;34m,\u001b[0m \u001b[0mfraction\u001b[0m\u001b[0;34m\u001b[0m\u001b[0;34m\u001b[0m\u001b[0m\n\u001b[0;32m-> 1610\u001b[0;31m         \u001b[0mis_integer\u001b[0m \u001b[0;34m=\u001b[0m \u001b[0mself\u001b[0m\u001b[0;34m.\u001b[0m\u001b[0mis_integer\u001b[0m\u001b[0;34m\u001b[0m\u001b[0;34m\u001b[0m\u001b[0m\n\u001b[0m\u001b[1;32m   1611\u001b[0m \u001b[0;34m\u001b[0m\u001b[0m\n\u001b[1;32m   1612\u001b[0m         \u001b[0;32mif\u001b[0m \u001b[0mis_integer\u001b[0m\u001b[0;34m:\u001b[0m\u001b[0;34m\u001b[0m\u001b[0;34m\u001b[0m\u001b[0m\n",
      "\u001b[0;32m/opt/anaconda3/lib/python3.8/site-packages/sympy/core/assumptions.py\u001b[0m in \u001b[0;36mgetit\u001b[0;34m(self)\u001b[0m\n\u001b[1;32m    464\u001b[0m             \u001b[0;32mif\u001b[0m \u001b[0mself\u001b[0m\u001b[0;34m.\u001b[0m\u001b[0m_assumptions\u001b[0m \u001b[0;32mis\u001b[0m \u001b[0mself\u001b[0m\u001b[0;34m.\u001b[0m\u001b[0mdefault_assumptions\u001b[0m\u001b[0;34m:\u001b[0m\u001b[0;34m\u001b[0m\u001b[0;34m\u001b[0m\u001b[0m\n\u001b[1;32m    465\u001b[0m                 \u001b[0mself\u001b[0m\u001b[0;34m.\u001b[0m\u001b[0m_assumptions\u001b[0m \u001b[0;34m=\u001b[0m \u001b[0mself\u001b[0m\u001b[0;34m.\u001b[0m\u001b[0mdefault_assumptions\u001b[0m\u001b[0;34m.\u001b[0m\u001b[0mcopy\u001b[0m\u001b[0;34m(\u001b[0m\u001b[0;34m)\u001b[0m\u001b[0;34m\u001b[0m\u001b[0;34m\u001b[0m\u001b[0m\n\u001b[0;32m--> 466\u001b[0;31m             \u001b[0;32mreturn\u001b[0m \u001b[0m_ask\u001b[0m\u001b[0;34m(\u001b[0m\u001b[0mfact\u001b[0m\u001b[0;34m,\u001b[0m \u001b[0mself\u001b[0m\u001b[0;34m)\u001b[0m\u001b[0;34m\u001b[0m\u001b[0;34m\u001b[0m\u001b[0m\n\u001b[0m\u001b[1;32m    467\u001b[0m \u001b[0;34m\u001b[0m\u001b[0m\n\u001b[1;32m    468\u001b[0m     \u001b[0mgetit\u001b[0m\u001b[0;34m.\u001b[0m\u001b[0mfunc_name\u001b[0m \u001b[0;34m=\u001b[0m \u001b[0mas_property\u001b[0m\u001b[0;34m(\u001b[0m\u001b[0mfact\u001b[0m\u001b[0;34m)\u001b[0m\u001b[0;34m\u001b[0m\u001b[0;34m\u001b[0m\u001b[0m\n",
      "\u001b[0;32m/opt/anaconda3/lib/python3.8/site-packages/sympy/core/assumptions.py\u001b[0m in \u001b[0;36m_ask\u001b[0;34m(fact, obj)\u001b[0m\n\u001b[1;32m    519\u001b[0m             \u001b[0;32mcontinue\u001b[0m\u001b[0;34m\u001b[0m\u001b[0;34m\u001b[0m\u001b[0m\n\u001b[1;32m    520\u001b[0m         \u001b[0;32mif\u001b[0m \u001b[0mpk\u001b[0m \u001b[0;32min\u001b[0m \u001b[0mhandler_map\u001b[0m\u001b[0;34m:\u001b[0m\u001b[0;34m\u001b[0m\u001b[0;34m\u001b[0m\u001b[0m\n\u001b[0;32m--> 521\u001b[0;31m             \u001b[0m_ask\u001b[0m\u001b[0;34m(\u001b[0m\u001b[0mpk\u001b[0m\u001b[0;34m,\u001b[0m \u001b[0mobj\u001b[0m\u001b[0;34m)\u001b[0m\u001b[0;34m\u001b[0m\u001b[0;34m\u001b[0m\u001b[0m\n\u001b[0m\u001b[1;32m    522\u001b[0m \u001b[0;34m\u001b[0m\u001b[0m\n\u001b[1;32m    523\u001b[0m             \u001b[0;31m# we might have found the value of fact\u001b[0m\u001b[0;34m\u001b[0m\u001b[0;34m\u001b[0m\u001b[0;34m\u001b[0m\u001b[0m\n",
      "\u001b[0;32m/opt/anaconda3/lib/python3.8/site-packages/sympy/core/assumptions.py\u001b[0m in \u001b[0;36m_ask\u001b[0;34m(fact, obj)\u001b[0m\n\u001b[1;32m    519\u001b[0m             \u001b[0;32mcontinue\u001b[0m\u001b[0;34m\u001b[0m\u001b[0;34m\u001b[0m\u001b[0m\n\u001b[1;32m    520\u001b[0m         \u001b[0;32mif\u001b[0m \u001b[0mpk\u001b[0m \u001b[0;32min\u001b[0m \u001b[0mhandler_map\u001b[0m\u001b[0;34m:\u001b[0m\u001b[0;34m\u001b[0m\u001b[0;34m\u001b[0m\u001b[0m\n\u001b[0;32m--> 521\u001b[0;31m             \u001b[0m_ask\u001b[0m\u001b[0;34m(\u001b[0m\u001b[0mpk\u001b[0m\u001b[0;34m,\u001b[0m \u001b[0mobj\u001b[0m\u001b[0;34m)\u001b[0m\u001b[0;34m\u001b[0m\u001b[0;34m\u001b[0m\u001b[0m\n\u001b[0m\u001b[1;32m    522\u001b[0m \u001b[0;34m\u001b[0m\u001b[0m\n\u001b[1;32m    523\u001b[0m             \u001b[0;31m# we might have found the value of fact\u001b[0m\u001b[0;34m\u001b[0m\u001b[0;34m\u001b[0m\u001b[0;34m\u001b[0m\u001b[0m\n",
      "\u001b[0;32m/opt/anaconda3/lib/python3.8/site-packages/sympy/core/assumptions.py\u001b[0m in \u001b[0;36m_ask\u001b[0;34m(fact, obj)\u001b[0m\n\u001b[1;32m    516\u001b[0m     \u001b[0mshuffle\u001b[0m\u001b[0;34m(\u001b[0m\u001b[0mprereq\u001b[0m\u001b[0;34m)\u001b[0m\u001b[0;34m\u001b[0m\u001b[0;34m\u001b[0m\u001b[0m\n\u001b[1;32m    517\u001b[0m     \u001b[0;32mfor\u001b[0m \u001b[0mpk\u001b[0m \u001b[0;32min\u001b[0m \u001b[0mprereq\u001b[0m\u001b[0;34m:\u001b[0m\u001b[0;34m\u001b[0m\u001b[0;34m\u001b[0m\u001b[0m\n\u001b[0;32m--> 518\u001b[0;31m         \u001b[0;32mif\u001b[0m \u001b[0mpk\u001b[0m \u001b[0;32min\u001b[0m \u001b[0massumptions\u001b[0m\u001b[0;34m:\u001b[0m\u001b[0;34m\u001b[0m\u001b[0;34m\u001b[0m\u001b[0m\n\u001b[0m\u001b[1;32m    519\u001b[0m             \u001b[0;32mcontinue\u001b[0m\u001b[0;34m\u001b[0m\u001b[0;34m\u001b[0m\u001b[0m\n\u001b[1;32m    520\u001b[0m         \u001b[0;32mif\u001b[0m \u001b[0mpk\u001b[0m \u001b[0;32min\u001b[0m \u001b[0mhandler_map\u001b[0m\u001b[0;34m:\u001b[0m\u001b[0;34m\u001b[0m\u001b[0;34m\u001b[0m\u001b[0m\n",
      "\u001b[0;31mKeyboardInterrupt\u001b[0m: "
     ]
    }
   ],
   "source": [
    "Ric = RicciTensor.from_metric(metric)\n",
    "simplify(Ric.tensor())"
   ]
  },
  {
   "cell_type": "code",
   "execution_count": null,
   "id": "615977a6",
   "metadata": {},
   "outputs": [],
   "source": [
    "R = RicciScalar.from_riccitensor(Ric)\n",
    "R.simplify()\n",
    "R.expr"
   ]
  },
  {
   "cell_type": "code",
   "execution_count": null,
   "id": "d5760829",
   "metadata": {},
   "outputs": [],
   "source": [
    "einst = EinsteinTensor.from_metric(metric)\n",
    "einsteinSimplified = simplify(einst.tensor())\n",
    "einsteinSimplified"
   ]
  },
  {
   "cell_type": "code",
   "execution_count": null,
   "id": "278208c9",
   "metadata": {},
   "outputs": [],
   "source": [
    "rm1 = RiemannCurvatureTensor.from_christoffels(ch)\n",
    "rm1.tensor()"
   ]
  },
  {
   "cell_type": "code",
   "execution_count": null,
   "id": "c0c54c8a",
   "metadata": {},
   "outputs": [],
   "source": [
    "weyl = WeylTensor.from_metric(metric)\n",
    "weyl.tensor()"
   ]
  },
  {
   "cell_type": "code",
   "execution_count": 20,
   "id": "b8f7761d",
   "metadata": {},
   "outputs": [
    {
     "data": {
      "image/png": "[encoded data removed]",
      "text/latex": [
       "$\\displaystyle - 2 \\frac{\\partial}{\\partial r} \\psi{\\left(t,r \\right)} \\frac{\\partial}{\\partial t} \\psi{\\left(t,r \\right)} + \\frac{\\frac{\\partial}{\\partial t} \\gamma{\\left(t,r \\right)}}{r} - \\frac{e^{4 \\psi{\\left(t,r \\right)}} \\frac{\\partial}{\\partial r} \\omega{\\left(t,r \\right)} \\frac{\\partial}{\\partial t} \\omega{\\left(t,r \\right)}}{2 r^{2}}$"
      ],
      "text/plain": [
       "                              ∂              4⋅ψ(t, r) ∂           ∂          \n",
       "                              ──(γ(t, r))   ℯ         ⋅──(ω(t, r))⋅──(ω(t, r))\n",
       "    ∂           ∂             ∂t                       ∂r          ∂t         \n",
       "- 2⋅──(ψ(t, r))⋅──(ψ(t, r)) + ─────────── - ──────────────────────────────────\n",
       "    ∂r          ∂t                 r                          2               \n",
       "                                                           2⋅r                "
      ]
     },
     "execution_count": 20,
     "metadata": {},
     "output_type": "execute_result"
    }
   ],
   "source": [
    "ricci10 = Ric.tensor()[1,0]\n",
    "ricci10"
   ]
  },
  {
   "cell_type": "code",
   "execution_count": 31,
   "id": "68f2290e",
   "metadata": {},
   "outputs": [
    {
     "data": {
      "image/png": "[encoded data removed]",
      "text/latex": [
       "$\\displaystyle \\frac{\\partial}{\\partial t} \\gamma{\\left(t,r \\right)} = 2 r \\frac{\\partial}{\\partial r} \\psi{\\left(t,r \\right)} \\frac{\\partial}{\\partial t} \\psi{\\left(t,r \\right)} + \\frac{e^{4 \\psi{\\left(t,r \\right)}} \\frac{\\partial}{\\partial r} \\omega{\\left(t,r \\right)} \\frac{\\partial}{\\partial t} \\omega{\\left(t,r \\right)}}{2 r}$"
      ],
      "text/plain": [
       "                                             4⋅ψ(t, r) ∂           ∂          \n",
       "                                            ℯ         ⋅──(ω(t, r))⋅──(ω(t, r))\n",
       "∂                 ∂           ∂                        ∂r          ∂t         \n",
       "──(γ(t, r)) = 2⋅r⋅──(ψ(t, r))⋅──(ψ(t, r)) + ──────────────────────────────────\n",
       "∂t                ∂r          ∂t                           2⋅r                "
      ]
     },
     "execution_count": 31,
     "metadata": {},
     "output_type": "execute_result"
    }
   ],
   "source": [
    "eq50d = Eq(diff(gamma,t),solve(ricci10,diff(gamma,t))[0])\n",
    "eq50d"
   ]
  }
 ],
 "metadata": {
  "@webio": {
   "lastCommId": null,
   "lastKernelId": null
  },
  "kernelspec": {
   "display_name": "Python 3 (ipykernel)",
   "language": "python",
   "name": "python3"
  },
  "language_info": {
   "codemirror_mode": {
    "name": "ipython",
    "version": 3
   },
   "file_extension": ".py",
   "mimetype": "text/x-python",
   "name": "python",
   "nbconvert_exporter": "python",
   "pygments_lexer": "ipython3",
   "version": "3.8.8"
  }
 },
 "nbformat": 4,
 "nbformat_minor": 5
}
