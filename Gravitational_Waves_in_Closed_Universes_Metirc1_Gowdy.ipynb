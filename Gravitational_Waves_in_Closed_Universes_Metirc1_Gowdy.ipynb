{
 "cells": [
  {
   "cell_type": "markdown",
   "id": "66ef0ac0",
   "metadata": {},
   "source": [
    "# Gravitational Waves in Closed Universes Metric 1 - Gowdy\n",
    "##  Geoff Cope\n",
    "##  Univeristy of Utah\n",
    "##  𐐏𐐭𐑌𐐲𐑂𐐲𐑉𐑅𐐮𐐻𐐨 𐐲𐑂 𐐏𐐭𐐻𐐫\n",
    "##  January 21, 2022"
   ]
  },
  {
   "cell_type": "markdown",
   "id": "f4b94670",
   "metadata": {},
   "source": [
    "There are several coordinate transformations that give different metrics, here we concentrate on equation one.  What is confusing is that half of the field equations are in terms of u and v, the other half are in terms of theta and t.  Unfortunately, we'd have to compute the field equations for two different metrics, so we just do one here.  See discussion of equations 29 and 30 for most general form"
   ]
  },
  {
   "cell_type": "markdown",
   "id": "aa180aa2",
   "metadata": {},
   "source": [
    "https://journals.aps.org/prl/abstract/10.1103/PhysRevLett.27.826"
   ]
  },
  {
   "cell_type": "code",
   "execution_count": 69,
   "id": "641f6879",
   "metadata": {},
   "outputs": [
    {
     "name": "stdout",
     "output_type": "stream",
     "text": [
      "IPython console for SymPy 1.9 (Python 3.8.8-64-bit) (ground types: gmpy)\n",
      "\n",
      "These commands were executed:\n",
      ">>> from __future__ import division\n",
      ">>> from sympy import *\n",
      ">>> x, y, z, t = symbols('x y z t')\n",
      ">>> k, m, n = symbols('k m n', integer=True)\n",
      ">>> f, g, h = symbols('f g h', cls=Function)\n",
      ">>> init_printing()\n",
      "\n",
      "Documentation can be found at https://docs.sympy.org/1.9/\n",
      "\n"
     ]
    }
   ],
   "source": [
    "from sympy import init_session\n",
    "init_session(use_latex=True)"
   ]
  },
  {
   "cell_type": "code",
   "execution_count": 70,
   "id": "0ac1484f",
   "metadata": {},
   "outputs": [],
   "source": [
    "import warnings\n",
    "import matplotlib.cbook\n",
    "warnings.filterwarnings(\"ignore\",category=matplotlib.cbook.mplDeprecation)"
   ]
  },
  {
   "cell_type": "code",
   "execution_count": 71,
   "id": "fe4a1c6e",
   "metadata": {},
   "outputs": [],
   "source": [
    "t,theta,sigma,delta,dt,dtheta,dsigma,ddelta,u,v,du,dv,L = symbols('t theta sigma delta dt dtheta dsigma ddelta u v du dv L')"
   ]
  },
  {
   "cell_type": "code",
   "execution_count": 72,
   "id": "c5b3483c",
   "metadata": {},
   "outputs": [
    {
     "data": {
      "image/png": "[encoded data removed]",
      "text/latex": [
       "$\\displaystyle a{\\left(u,v \\right)}$"
      ],
      "text/plain": [
       "a(u, v)"
      ]
     },
     "execution_count": 72,
     "metadata": {},
     "output_type": "execute_result"
    }
   ],
   "source": [
    "a = Function('a')(u,v)\n",
    "a"
   ]
  },
  {
   "cell_type": "code",
   "execution_count": 73,
   "id": "2c6757bc",
   "metadata": {},
   "outputs": [
    {
     "data": {
      "image/png": "[encoded data removed]",
      "text/latex": [
       "$\\displaystyle W{\\left(u,v \\right)}$"
      ],
      "text/plain": [
       "W(u, v)"
      ]
     },
     "execution_count": 73,
     "metadata": {},
     "output_type": "execute_result"
    }
   ],
   "source": [
    "W = Function('W')(u,v)\n",
    "W"
   ]
  },
  {
   "cell_type": "code",
   "execution_count": 74,
   "id": "f9383540",
   "metadata": {},
   "outputs": [
    {
     "data": {
      "image/png": "[encoded data removed]",
      "text/latex": [
       "$\\displaystyle r{\\left(u,v \\right)}$"
      ],
      "text/plain": [
       "r(u, v)"
      ]
     },
     "execution_count": 74,
     "metadata": {},
     "output_type": "execute_result"
    }
   ],
   "source": [
    "#  Be careful here... there's the variable R and then Ricci R.  Use different variable here...\n",
    "r = Function('r')(u,v)\n",
    "r"
   ]
  },
  {
   "cell_type": "code",
   "execution_count": 75,
   "id": "c14e56a3",
   "metadata": {},
   "outputs": [
    {
     "data": {
      "image/png": "[encoded data removed]",
      "text/latex": [
       "$\\displaystyle B{\\left(u,v \\right)}$"
      ],
      "text/plain": [
       "B(u, v)"
      ]
     },
     "execution_count": 75,
     "metadata": {},
     "output_type": "execute_result"
    }
   ],
   "source": [
    "B = Function('B')(u,v)\n",
    "B"
   ]
  },
  {
   "cell_type": "code",
   "execution_count": 76,
   "id": "6bdd2fcd",
   "metadata": {},
   "outputs": [
    {
     "data": {
      "image/png": "[encoded data removed]",
      "text/latex": [
       "$\\displaystyle a{\\left(u,v \\right)}$"
      ],
      "text/plain": [
       "a(u, v)"
      ]
     },
     "execution_count": 76,
     "metadata": {},
     "output_type": "execute_result"
    }
   ],
   "source": [
    "a = Function('a')(u,v)\n",
    "a"
   ]
  },
  {
   "cell_type": "code",
   "execution_count": 77,
   "id": "ef27a277",
   "metadata": {},
   "outputs": [
    {
     "data": {
      "image/png": "[encoded data removed]",
      "text/latex": [
       "$\\displaystyle \\psi{\\left(u,v \\right)}$"
      ],
      "text/plain": [
       "ψ(u, v)"
      ]
     },
     "execution_count": 77,
     "metadata": {},
     "output_type": "execute_result"
    }
   ],
   "source": [
    "psi = Function('psi')(u,v)\n",
    "psi"
   ]
  },
  {
   "cell_type": "code",
   "execution_count": 78,
   "id": "ecdefad4",
   "metadata": {},
   "outputs": [
    {
     "data": {
      "text/latex": [
       "$\\displaystyle \\left[\\begin{matrix}u\\\\v\\\\\\sigma\\\\\\delta\\end{matrix}\\right]$"
      ],
      "text/plain": [
       "⎡u⎤\n",
       "⎢ ⎥\n",
       "⎢v⎥\n",
       "⎢ ⎥\n",
       "⎢σ⎥\n",
       "⎢ ⎥\n",
       "⎣δ⎦"
      ]
     },
     "execution_count": 78,
     "metadata": {},
     "output_type": "execute_result"
    }
   ],
   "source": [
    "variables = Matrix([u,v,sigma,delta])\n",
    "variables"
   ]
  },
  {
   "cell_type": "code",
   "execution_count": 79,
   "id": "c90f6744",
   "metadata": {},
   "outputs": [
    {
     "data": {
      "text/latex": [
       "$\\displaystyle \\left[\\begin{matrix}du\\\\dv\\\\dsigma\\\\ddelta\\end{matrix}\\right]$"
      ],
      "text/plain": [
       "⎡  du  ⎤\n",
       "⎢      ⎥\n",
       "⎢  dv  ⎥\n",
       "⎢      ⎥\n",
       "⎢dsigma⎥\n",
       "⎢      ⎥\n",
       "⎣ddelta⎦"
      ]
     },
     "execution_count": 79,
     "metadata": {},
     "output_type": "execute_result"
    }
   ],
   "source": [
    "differentials = Matrix([du,dv,dsigma,ddelta])\n",
    "differentials "
   ]
  },
  {
   "cell_type": "code",
   "execution_count": 80,
   "id": "d92e68c2",
   "metadata": {},
   "outputs": [
    {
     "data": {
      "image/png": "[encoded data removed]",
      "text/latex": [
       "$\\displaystyle \\left(ddelta^{2} B{\\left(u,v \\right)} e^{- 2 W{\\left(u,v \\right)}} + \\frac{dsigma^{2} e^{2 W{\\left(u,v \\right)}}}{B{\\left(u,v \\right)}}\\right) r{\\left(u,v \\right)} + \\left(\\left(- \\frac{du}{2} + \\frac{dv}{2}\\right)^{2} - \\left(\\frac{du}{2} + \\frac{dv}{2}\\right)^{2}\\right) e^{2 a{\\left(u,v \\right)}}$"
      ],
      "text/plain": [
       "⎛                                    2  2⋅W(u, v)⎞           ⎛           2            2⎞           \n",
       "⎜      2          -2⋅W(u, v)   dsigma ⋅ℯ         ⎟           ⎜⎛  du   dv⎞    ⎛du   dv⎞ ⎟  2⋅a(u, v)\n",
       "⎜ddelta ⋅B(u, v)⋅ℯ           + ──────────────────⎟⋅r(u, v) + ⎜⎜- ── + ──⎟  - ⎜── + ──⎟ ⎟⋅ℯ         \n",
       "⎝                                   B(u, v)      ⎠           ⎝⎝  2    2 ⎠    ⎝2    2 ⎠ ⎠           "
      ]
     },
     "execution_count": 80,
     "metadata": {},
     "output_type": "execute_result"
    }
   ],
   "source": [
    "lineElement1 = exp(2*a)*(  ((dv-du)/2)**2 - ((dv+du)/2)**2) + r*(B**-1 * exp(2*W) * dsigma**2 + B*exp(-2*W) * ddelta**2)\n",
    "lineElement1"
   ]
  },
  {
   "cell_type": "code",
   "execution_count": 81,
   "id": "44087437",
   "metadata": {},
   "outputs": [
    {
     "data": {
      "image/png": "[encoded data removed]",
      "text/latex": [
       "$\\displaystyle \\psi{\\left(u,v \\right)} = W{\\left(u,v \\right)} - \\frac{\\log{\\left(B{\\left(u,v \\right)} \\right)}}{2}$"
      ],
      "text/plain": [
       "                    log(B(u, v))\n",
       "ψ(u, v) = W(u, v) - ────────────\n",
       "                         2      "
      ]
     },
     "execution_count": 81,
     "metadata": {},
     "output_type": "execute_result"
    }
   ],
   "source": [
    "equation3 = Eq(psi, W - Rational(1,2)*log(B))\n",
    "equation3"
   ]
  },
  {
   "cell_type": "code",
   "execution_count": 82,
   "id": "483ae59d",
   "metadata": {},
   "outputs": [
    {
     "data": {
      "image/png": "[encoded data removed]",
      "text/latex": [
       "$\\displaystyle W{\\left(u,v \\right)} = \\psi{\\left(u,v \\right)} + \\frac{\\log{\\left(B{\\left(u,v \\right)} \\right)}}{2}$"
      ],
      "text/plain": [
       "                    log(B(u, v))\n",
       "W(u, v) = ψ(u, v) + ────────────\n",
       "                         2      "
      ]
     },
     "execution_count": 82,
     "metadata": {},
     "output_type": "execute_result"
    }
   ],
   "source": [
    "wsubs = Eq(W,solve(equation3,W)[0])\n",
    "wsubs"
   ]
  },
  {
   "cell_type": "code",
   "execution_count": 83,
   "id": "7016ac52",
   "metadata": {},
   "outputs": [
    {
     "data": {
      "image/png": "[encoded data removed]",
      "text/latex": [
       "$\\displaystyle ddelta^{2} r{\\left(u,v \\right)} e^{- 2 \\psi{\\left(u,v \\right)}} + dsigma^{2} r{\\left(u,v \\right)} e^{2 \\psi{\\left(u,v \\right)}} - du dv e^{2 a{\\left(u,v \\right)}}$"
      ],
      "text/plain": [
       "      2          -2⋅ψ(u, v)         2          2⋅ψ(u, v)          2⋅a(u, v)\n",
       "ddelta ⋅r(u, v)⋅ℯ           + dsigma ⋅r(u, v)⋅ℯ          - du⋅dv⋅ℯ         "
      ]
     },
     "execution_count": 83,
     "metadata": {},
     "output_type": "execute_result"
    }
   ],
   "source": [
    "lineElement = expand(lineElement1.subs(wsubs.lhs,wsubs.rhs))\n",
    "lineElement "
   ]
  },
  {
   "cell_type": "code",
   "execution_count": 84,
   "id": "087e7eee",
   "metadata": {},
   "outputs": [
    {
     "data": {
      "text/latex": [
       "$\\displaystyle \\left[\\begin{matrix}0 & - \\frac{e^{2 a{\\left(u,v \\right)}}}{2} & 0 & 0\\\\- \\frac{e^{2 a{\\left(u,v \\right)}}}{2} & 0 & 0 & 0\\\\0 & 0 & r{\\left(u,v \\right)} e^{2 \\psi{\\left(u,v \\right)}} & 0\\\\0 & 0 & 0 & r{\\left(u,v \\right)} e^{- 2 \\psi{\\left(u,v \\right)}}\\end{matrix}\\right]$"
      ],
      "text/plain": [
       "⎡                2⋅a(u, v)                                          ⎤\n",
       "⎢              -ℯ                                                   ⎥\n",
       "⎢     0        ────────────          0                    0         ⎥\n",
       "⎢                   2                                               ⎥\n",
       "⎢                                                                   ⎥\n",
       "⎢  2⋅a(u, v)                                                        ⎥\n",
       "⎢-ℯ                                                                 ⎥\n",
       "⎢────────────       0                0                    0         ⎥\n",
       "⎢     2                                                             ⎥\n",
       "⎢                                                                   ⎥\n",
       "⎢                                     2⋅ψ(u, v)                     ⎥\n",
       "⎢     0             0        r(u, v)⋅ℯ                    0         ⎥\n",
       "⎢                                                                   ⎥\n",
       "⎢                                                         -2⋅ψ(u, v)⎥\n",
       "⎣     0             0                0           r(u, v)⋅ℯ          ⎦"
      ]
     },
     "execution_count": 84,
     "metadata": {},
     "output_type": "execute_result"
    }
   ],
   "source": [
    "g = zeros(4)\n",
    "\n",
    "for i in range(4):\n",
    "    for j in range(4):\n",
    "        if i == j:\n",
    "            g[i,j] = lineElement.coeff( differentials[i],2 ) \n",
    "        else:\n",
    "            g[i,j] = Rational(1,2)*lineElement.coeff( differentials[i]*differentials[j],1 )\n",
    "            \n",
    "g"
   ]
  },
  {
   "cell_type": "code",
   "execution_count": 85,
   "id": "f51fa502",
   "metadata": {},
   "outputs": [],
   "source": [
    "import sympy"
   ]
  },
  {
   "cell_type": "code",
   "execution_count": 86,
   "id": "32043348",
   "metadata": {},
   "outputs": [
    {
     "data": {
      "text/latex": [
       "$\\displaystyle \\left[\\begin{matrix}0 & - \\frac{e^{2 a{\\left(u,v \\right)}}}{2} & 0 & 0\\\\- \\frac{e^{2 a{\\left(u,v \\right)}}}{2} & 0 & 0 & 0\\\\0 & 0 & r{\\left(u,v \\right)} e^{2 \\psi{\\left(u,v \\right)}} & 0\\\\0 & 0 & 0 & r{\\left(u,v \\right)} e^{- 2 \\psi{\\left(u,v \\right)}}\\end{matrix}\\right]$"
      ],
      "text/plain": [
       "⎡                2⋅a(u, v)                                          ⎤\n",
       "⎢              -ℯ                                                   ⎥\n",
       "⎢     0        ────────────          0                    0         ⎥\n",
       "⎢                   2                                               ⎥\n",
       "⎢                                                                   ⎥\n",
       "⎢  2⋅a(u, v)                                                        ⎥\n",
       "⎢-ℯ                                                                 ⎥\n",
       "⎢────────────       0                0                    0         ⎥\n",
       "⎢     2                                                             ⎥\n",
       "⎢                                                                   ⎥\n",
       "⎢                                     2⋅ψ(u, v)                     ⎥\n",
       "⎢     0             0        r(u, v)⋅ℯ                    0         ⎥\n",
       "⎢                                                                   ⎥\n",
       "⎢                                                         -2⋅ψ(u, v)⎥\n",
       "⎣     0             0                0           r(u, v)⋅ℯ          ⎦"
      ]
     },
     "execution_count": 86,
     "metadata": {},
     "output_type": "execute_result"
    }
   ],
   "source": [
    "m = sympy.Array(g)\n",
    "m"
   ]
  },
  {
   "cell_type": "code",
   "execution_count": 87,
   "id": "d8edd5b2",
   "metadata": {},
   "outputs": [],
   "source": [
    "from einsteinpy.symbolic import *"
   ]
  },
  {
   "cell_type": "code",
   "execution_count": 88,
   "id": "201f27e9",
   "metadata": {},
   "outputs": [],
   "source": [
    "syms = sympy.symbols(\"u v sigma delta\")\n",
    "u,v,sigma,delta = syms"
   ]
  },
  {
   "cell_type": "code",
   "execution_count": 89,
   "id": "f15e8510",
   "metadata": {},
   "outputs": [],
   "source": [
    "metric = MetricTensor(m,syms)"
   ]
  },
  {
   "cell_type": "code",
   "execution_count": 90,
   "id": "00d55427",
   "metadata": {},
   "outputs": [
    {
     "data": {
      "text/latex": [
       "$\\displaystyle \\left[\\begin{matrix}\\left[\\begin{matrix}2 \\frac{\\partial}{\\partial u} a{\\left(u,v \\right)} & 0 & 0 & 0\\\\0 & 0 & 0 & 0\\\\0 & 0 & \\left(2 r{\\left(u,v \\right)} \\frac{\\partial}{\\partial v} \\psi{\\left(u,v \\right)} + \\frac{\\partial}{\\partial v} r{\\left(u,v \\right)}\\right) e^{- 2 a{\\left(u,v \\right)} + 2 \\psi{\\left(u,v \\right)}} & 0\\\\0 & 0 & 0 & \\left(- 2 r{\\left(u,v \\right)} \\frac{\\partial}{\\partial v} \\psi{\\left(u,v \\right)} + \\frac{\\partial}{\\partial v} r{\\left(u,v \\right)}\\right) e^{- 2 a{\\left(u,v \\right)} - 2 \\psi{\\left(u,v \\right)}}\\end{matrix}\\right] & \\left[\\begin{matrix}0 & 0 & 0 & 0\\\\0 & 2 \\frac{\\partial}{\\partial v} a{\\left(u,v \\right)} & 0 & 0\\\\0 & 0 & \\left(2 r{\\left(u,v \\right)} \\frac{\\partial}{\\partial u} \\psi{\\left(u,v \\right)} + \\frac{\\partial}{\\partial u} r{\\left(u,v \\right)}\\right) e^{- 2 a{\\left(u,v \\right)} + 2 \\psi{\\left(u,v \\right)}} & 0\\\\0 & 0 & 0 & \\left(- 2 r{\\left(u,v \\right)} \\frac{\\partial}{\\partial u} \\psi{\\left(u,v \\right)} + \\frac{\\partial}{\\partial u} r{\\left(u,v \\right)}\\right) e^{- 2 a{\\left(u,v \\right)} - 2 \\psi{\\left(u,v \\right)}}\\end{matrix}\\right] & \\left[\\begin{matrix}0 & 0 & \\frac{\\partial}{\\partial u} \\psi{\\left(u,v \\right)} + \\frac{\\frac{\\partial}{\\partial u} r{\\left(u,v \\right)}}{2 r{\\left(u,v \\right)}} & 0\\\\0 & 0 & \\frac{\\partial}{\\partial v} \\psi{\\left(u,v \\right)} + \\frac{\\frac{\\partial}{\\partial v} r{\\left(u,v \\right)}}{2 r{\\left(u,v \\right)}} & 0\\\\\\frac{\\partial}{\\partial u} \\psi{\\left(u,v \\right)} + \\frac{\\frac{\\partial}{\\partial u} r{\\left(u,v \\right)}}{2 r{\\left(u,v \\right)}} & \\frac{\\partial}{\\partial v} \\psi{\\left(u,v \\right)} + \\frac{\\frac{\\partial}{\\partial v} r{\\left(u,v \\right)}}{2 r{\\left(u,v \\right)}} & 0 & 0\\\\0 & 0 & 0 & 0\\end{matrix}\\right] & \\left[\\begin{matrix}0 & 0 & 0 & - \\frac{\\partial}{\\partial u} \\psi{\\left(u,v \\right)} + \\frac{\\frac{\\partial}{\\partial u} r{\\left(u,v \\right)}}{2 r{\\left(u,v \\right)}}\\\\0 & 0 & 0 & - \\frac{\\partial}{\\partial v} \\psi{\\left(u,v \\right)} + \\frac{\\frac{\\partial}{\\partial v} r{\\left(u,v \\right)}}{2 r{\\left(u,v \\right)}}\\\\0 & 0 & 0 & 0\\\\- \\frac{\\partial}{\\partial u} \\psi{\\left(u,v \\right)} + \\frac{\\frac{\\partial}{\\partial u} r{\\left(u,v \\right)}}{2 r{\\left(u,v \\right)}} & - \\frac{\\partial}{\\partial v} \\psi{\\left(u,v \\right)} + \\frac{\\frac{\\partial}{\\partial v} r{\\left(u,v \\right)}}{2 r{\\left(u,v \\right)}} & 0 & 0\\end{matrix}\\right]\\end{matrix}\\right]$"
      ],
      "text/plain": [
       "⎡                                                                                                                                      \n",
       "⎢                                                                                                                                      \n",
       "⎢                                                                                                                                      \n",
       "⎢⎡  ∂                                                                                                                                  \n",
       "⎢⎢2⋅──(a(u, v))  0                                0                                                               0                    \n",
       "⎢⎢  ∂u                                                                                                                                 \n",
       "⎢⎢                                                                                                                                     \n",
       "⎢⎢      0        0                                0                                                               0                    \n",
       "⎢⎢                                                                                                                                     \n",
       "⎢⎢                  ⎛          ∂             ∂          ⎞  -2⋅a(u, v) + 2⋅ψ(u, v)                                                      \n",
       "⎢⎢      0        0  ⎜2⋅r(u, v)⋅──(ψ(u, v)) + ──(r(u, v))⎟⋅ℯ                                                       0                    \n",
       "⎢⎢                  ⎝          ∂v            ∂v         ⎠                                                                              \n",
       "⎢⎢                                                                                                                                     \n",
       "⎢⎢                                                                                 ⎛            ∂             ∂          ⎞  -2⋅a(u, v) \n",
       "⎢⎢      0        0                                0                                ⎜- 2⋅r(u, v)⋅──(ψ(u, v)) + ──(r(u, v))⎟⋅ℯ           \n",
       "⎢⎣                                                                                 ⎝            ∂v            ∂v         ⎠             \n",
       "⎢                                                                                                                                      \n",
       "⎢                                                                                                                                      \n",
       "⎣                                                                                                                                      \n",
       "\n",
       "                                                                                                                                       \n",
       "                                                                                                                                       \n",
       "                                                                                                                                       \n",
       "           ⎤  ⎡0        0                                      0                                                               0       \n",
       "           ⎥  ⎢                                                                                                                        \n",
       "           ⎥  ⎢     ∂                                                                                                                  \n",
       "           ⎥  ⎢0  2⋅──(a(u, v))                                0                                                               0       \n",
       "           ⎥  ⎢     ∂v                                                                                                                 \n",
       "           ⎥  ⎢                                                                                                                        \n",
       "           ⎥  ⎢                  ⎛          ∂             ∂          ⎞  -2⋅a(u, v) + 2⋅ψ(u, v)                                         \n",
       "           ⎥  ⎢0        0        ⎜2⋅r(u, v)⋅──(ψ(u, v)) + ──(r(u, v))⎟⋅ℯ                                                       0       \n",
       "           ⎥  ⎢                  ⎝          ∂u            ∂u         ⎠                                                                 \n",
       "           ⎥  ⎢                                                                                                                        \n",
       "- 2⋅ψ(u, v)⎥  ⎢                                                                                 ⎛            ∂             ∂          ⎞\n",
       "           ⎥  ⎢0        0                                      0                                ⎜- 2⋅r(u, v)⋅──(ψ(u, v)) + ──(r(u, v))⎟\n",
       "           ⎦  ⎣                                                                                 ⎝            ∂u            ∂u         ⎠\n",
       "                                                                                                                                       \n",
       "                                                                                                                                       \n",
       "                                                                                                                                       \n",
       "\n",
       "                           ⎡                                                                    ∂             ⎤  ⎡                     \n",
       "                           ⎢                                                                    ──(r(u, v))   ⎥  ⎢                     \n",
       "                           ⎢                                                      ∂             ∂u            ⎥  ⎢                     \n",
       "                        ⎤  ⎢            0                          0              ──(ψ(u, v)) + ───────────  0⎥  ⎢             0       \n",
       "                        ⎥  ⎢                                                      ∂u             2⋅r(u, v)    ⎥  ⎢                     \n",
       "                        ⎥  ⎢                                                                                  ⎥  ⎢                     \n",
       "                        ⎥  ⎢                                                                    ∂             ⎥  ⎢                     \n",
       "                        ⎥  ⎢                                                                    ──(r(u, v))   ⎥  ⎢                     \n",
       "                        ⎥  ⎢                                                      ∂             ∂v            ⎥  ⎢                     \n",
       "                        ⎥  ⎢            0                          0              ──(ψ(u, v)) + ───────────  0⎥  ⎢             0       \n",
       "                        ⎥  ⎢                                                      ∂v             2⋅r(u, v)    ⎥  ⎢                     \n",
       "                        ⎥  ⎢                                                                                  ⎥  ⎢                     \n",
       "                        ⎥  ⎢              ∂                          ∂                                        ⎥  ⎢             0       \n",
       "  -2⋅a(u, v) - 2⋅ψ(u, v)⎥  ⎢              ──(r(u, v))                ──(r(u, v))                              ⎥  ⎢                     \n",
       "⋅ℯ                      ⎥  ⎢∂             ∂u           ∂             ∂v                                       ⎥  ⎢                ∂    \n",
       "                        ⎦  ⎢──(ψ(u, v)) + ───────────  ──(ψ(u, v)) + ───────────              0              0⎥  ⎢                ──(r(\n",
       "                           ⎢∂u             2⋅r(u, v)   ∂v             2⋅r(u, v)                               ⎥  ⎢  ∂             ∂u   \n",
       "                           ⎢                                                                                  ⎥  ⎢- ──(ψ(u, v)) + ─────\n",
       "                           ⎣            0                          0                          0              0⎦  ⎣  ∂u             2⋅r(\n",
       "\n",
       "                                                        ∂          ⎤⎤\n",
       "                                                        ──(r(u, v))⎥⎥\n",
       "                                          ∂             ∂u         ⎥⎥\n",
       "                     0               0  - ──(ψ(u, v)) + ───────────⎥⎥\n",
       "                                          ∂u             2⋅r(u, v) ⎥⎥\n",
       "                                                                   ⎥⎥\n",
       "                                                        ∂          ⎥⎥\n",
       "                                                        ──(r(u, v))⎥⎥\n",
       "                                          ∂             ∂v         ⎥⎥\n",
       "                     0               0  - ──(ψ(u, v)) + ───────────⎥⎥\n",
       "                                          ∂v             2⋅r(u, v) ⎥⎥\n",
       "                                                                   ⎥⎥\n",
       "                     0               0               0             ⎥⎥\n",
       "                                                                   ⎥⎥\n",
       "                        ∂                                          ⎥⎥\n",
       "u, v))                  ──(r(u, v))                                ⎥⎥\n",
       "          ∂             ∂v                                         ⎥⎥\n",
       "──────  - ──(ψ(u, v)) + ───────────  0               0             ⎥⎥\n",
       "u, v)     ∂v             2⋅r(u, v)                                 ⎦⎦"
      ]
     },
     "execution_count": 90,
     "metadata": {},
     "output_type": "execute_result"
    }
   ],
   "source": [
    "ch = ChristoffelSymbols.from_metric(metric)\n",
    "simplify(ch.tensor())"
   ]
  },
  {
   "cell_type": "code",
   "execution_count": 91,
   "id": "25875597",
   "metadata": {},
   "outputs": [
    {
     "data": {
      "text/latex": [
       "$\\displaystyle \\left[\\begin{matrix}- 2 \\left(\\frac{\\partial}{\\partial u} \\psi{\\left(u,v \\right)}\\right)^{2} + \\frac{2 \\frac{\\partial}{\\partial u} a{\\left(u,v \\right)} \\frac{\\partial}{\\partial u} r{\\left(u,v \\right)}}{r{\\left(u,v \\right)}} - \\frac{\\frac{\\partial^{2}}{\\partial u^{2}} r{\\left(u,v \\right)}}{r{\\left(u,v \\right)}} + \\frac{\\left(\\frac{\\partial}{\\partial u} r{\\left(u,v \\right)}\\right)^{2}}{2 r^{2}{\\left(u,v \\right)}} & - 2 \\frac{\\partial}{\\partial u} \\psi{\\left(u,v \\right)} \\frac{\\partial}{\\partial v} \\psi{\\left(u,v \\right)} - 2 \\frac{\\partial^{2}}{\\partial v\\partial u} a{\\left(u,v \\right)} - \\frac{\\frac{\\partial^{2}}{\\partial v\\partial u} r{\\left(u,v \\right)}}{r{\\left(u,v \\right)}} + \\frac{\\frac{\\partial}{\\partial u} r{\\left(u,v \\right)} \\frac{\\partial}{\\partial v} r{\\left(u,v \\right)}}{2 r^{2}{\\left(u,v \\right)}} & 0 & 0\\\\- 2 \\frac{\\partial}{\\partial u} \\psi{\\left(u,v \\right)} \\frac{\\partial}{\\partial v} \\psi{\\left(u,v \\right)} - 2 \\frac{\\partial^{2}}{\\partial v\\partial u} a{\\left(u,v \\right)} - \\frac{\\frac{\\partial^{2}}{\\partial v\\partial u} r{\\left(u,v \\right)}}{r{\\left(u,v \\right)}} + \\frac{\\frac{\\partial}{\\partial u} r{\\left(u,v \\right)} \\frac{\\partial}{\\partial v} r{\\left(u,v \\right)}}{2 r^{2}{\\left(u,v \\right)}} & - 2 \\left(\\frac{\\partial}{\\partial v} \\psi{\\left(u,v \\right)}\\right)^{2} + \\frac{2 \\frac{\\partial}{\\partial v} a{\\left(u,v \\right)} \\frac{\\partial}{\\partial v} r{\\left(u,v \\right)}}{r{\\left(u,v \\right)}} - \\frac{\\frac{\\partial^{2}}{\\partial v^{2}} r{\\left(u,v \\right)}}{r{\\left(u,v \\right)}} + \\frac{\\left(\\frac{\\partial}{\\partial v} r{\\left(u,v \\right)}\\right)^{2}}{2 r^{2}{\\left(u,v \\right)}} & 0 & 0\\\\0 & 0 & 2 \\left(2 r{\\left(u,v \\right)} \\frac{\\partial^{2}}{\\partial v\\partial u} \\psi{\\left(u,v \\right)} + \\frac{\\partial}{\\partial u} \\psi{\\left(u,v \\right)} \\frac{\\partial}{\\partial v} r{\\left(u,v \\right)} + \\frac{\\partial}{\\partial v} \\psi{\\left(u,v \\right)} \\frac{\\partial}{\\partial u} r{\\left(u,v \\right)} + \\frac{\\partial^{2}}{\\partial v\\partial u} r{\\left(u,v \\right)}\\right) e^{- 2 a{\\left(u,v \\right)} + 2 \\psi{\\left(u,v \\right)}} & 0\\\\0 & 0 & 0 & 2 \\left(- 2 r{\\left(u,v \\right)} \\frac{\\partial^{2}}{\\partial v\\partial u} \\psi{\\left(u,v \\right)} - \\frac{\\partial}{\\partial u} \\psi{\\left(u,v \\right)} \\frac{\\partial}{\\partial v} r{\\left(u,v \\right)} - \\frac{\\partial}{\\partial v} \\psi{\\left(u,v \\right)} \\frac{\\partial}{\\partial u} r{\\left(u,v \\right)} + \\frac{\\partial^{2}}{\\partial v\\partial u} r{\\left(u,v \\right)}\\right) e^{- 2 a{\\left(u,v \\right)} - 2 \\psi{\\left(u,v \\right)}}\\end{matrix}\\right]$"
      ],
      "text/plain": [
       "⎡                                                        2                                                                             \n",
       "⎢                                                       ∂                          2                                                   \n",
       "⎢                            ∂           ∂             ───(r(u, v))   ⎛∂          ⎞                                                    \n",
       "⎢                      2   2⋅──(a(u, v))⋅──(r(u, v))     2            ⎜──(r(u, v))⎟                                            2       \n",
       "⎢         ⎛∂          ⎞      ∂u          ∂u            ∂u             ⎝∂u         ⎠             ∂           ∂                 ∂        \n",
       "⎢     - 2⋅⎜──(ψ(u, v))⎟  + ───────────────────────── - ──────────── + ──────────────        - 2⋅──(ψ(u, v))⋅──(ψ(u, v)) - 2⋅─────(a(u, \n",
       "⎢         ⎝∂u         ⎠             r(u, v)              r(u, v)           2                    ∂u          ∂v              ∂v ∂u      \n",
       "⎢                                                                       2⋅r (u, v)                                                     \n",
       "⎢                                                                                                                                      \n",
       "⎢                                                                                                                                      \n",
       "⎢                                                    2                                                                                 \n",
       "⎢                                                   ∂              ∂           ∂                                        ∂           ∂  \n",
       "⎢                                   2             ─────(r(u, v))   ──(r(u, v))⋅──(r(u, v))                        2   2⋅──(a(u, v))⋅──(\n",
       "⎢    ∂           ∂                 ∂              ∂v ∂u            ∂u          ∂v                    ⎛∂          ⎞      ∂v          ∂v \n",
       "⎢- 2⋅──(ψ(u, v))⋅──(ψ(u, v)) - 2⋅─────(a(u, v)) - ────────────── + ───────────────────────       - 2⋅⎜──(ψ(u, v))⎟  + ─────────────────\n",
       "⎢    ∂u          ∂v              ∂v ∂u               r(u, v)                 2                       ⎝∂v         ⎠             r(u, v) \n",
       "⎢                                                                         2⋅r (u, v)                                                   \n",
       "⎢                                                                                                                                      \n",
       "⎢                                                                                                                                      \n",
       "⎢                                                                                                                                      \n",
       "⎢                                            0                                                                                         \n",
       "⎢                                                                                                                                      \n",
       "⎢                                                                                                                                      \n",
       "⎢                                                                                                                                      \n",
       "⎢                                                                                                                                      \n",
       "⎢                                            0                                                                                         \n",
       "⎣                                                                                                                                      \n",
       "\n",
       "                                                                                                                                       \n",
       "         2                                                                                                                             \n",
       "        ∂              ∂           ∂                                                                                                   \n",
       "      ─────(r(u, v))   ──(r(u, v))⋅──(r(u, v))                                                                                         \n",
       "      ∂v ∂u            ∂u          ∂v                                                                                                  \n",
       "v)) - ────────────── + ───────────────────────                                                              0                          \n",
       "         r(u, v)                 2                                                                                                     \n",
       "                              2⋅r (u, v)                                                                                               \n",
       "                                                                                                                                       \n",
       "             2                                                                                                                         \n",
       "            ∂                          2                                                                                               \n",
       "           ───(r(u, v))   ⎛∂          ⎞                                                                                                \n",
       "r(u, v))     2            ⎜──(r(u, v))⎟                                                                                                \n",
       "           ∂v             ⎝∂v         ⎠                                                                                                \n",
       "──────── - ──────────── + ──────────────                                                                    0                          \n",
       "             r(u, v)           2                                                                                                       \n",
       "                            2⋅r (u, v)                                                                                                 \n",
       "                                                                                                                                       \n",
       "                                                  ⎛             2                                                                    2 \n",
       "                                                  ⎜            ∂              ∂           ∂             ∂           ∂               ∂  \n",
       " 0                                              2⋅⎜2⋅r(u, v)⋅─────(ψ(u, v)) + ──(ψ(u, v))⋅──(r(u, v)) + ──(ψ(u, v))⋅──(r(u, v)) + ─────\n",
       "                                                  ⎝          ∂v ∂u            ∂u          ∂v            ∂v          ∂u            ∂v ∂u\n",
       "                                                                                                                                       \n",
       "                                                                                                                                       \n",
       "                                                                                                                                       \n",
       " 0                                                                                                          0                          \n",
       "                                                                                                                                       \n",
       "\n",
       "                                                                                                                                       \n",
       "                                                                                                                                       \n",
       "                                                                                                                                       \n",
       "                                                                                                                                       \n",
       "                                                                                                                                       \n",
       "                                                                                                 0                                     \n",
       "                                                                                                                                       \n",
       "                                                                                                                                       \n",
       "                                                                                                                                       \n",
       "                                                                                                                                       \n",
       "                                                                                                                                       \n",
       "                                                                                                                                       \n",
       "                                                                                                                                       \n",
       "                                                                                                                                       \n",
       "                                                                                                 0                                     \n",
       "                                                                                                                                       \n",
       "                                                                                                                                       \n",
       "                                                                                                                                       \n",
       "         ⎞                                                                                                                             \n",
       "         ⎟  -2⋅a(u, v) + 2⋅ψ(u, v)                                                                                                     \n",
       "(r(u, v))⎟⋅ℯ                                                                                     0                                     \n",
       "         ⎠                                                                                                                             \n",
       "                                                                                                                                       \n",
       "                                      ⎛               2                                                                    2          ⎞\n",
       "                                      ⎜              ∂              ∂           ∂             ∂           ∂               ∂           ⎟\n",
       "                                    2⋅⎜- 2⋅r(u, v)⋅─────(ψ(u, v)) - ──(ψ(u, v))⋅──(r(u, v)) - ──(ψ(u, v))⋅──(r(u, v)) + ─────(r(u, v))⎟\n",
       "                                      ⎝            ∂v ∂u            ∂u          ∂v            ∂v          ∂u            ∂v ∂u         ⎠\n",
       "\n",
       "                        ⎤\n",
       "                        ⎥\n",
       "                        ⎥\n",
       "                        ⎥\n",
       "                        ⎥\n",
       "                        ⎥\n",
       "                        ⎥\n",
       "                        ⎥\n",
       "                        ⎥\n",
       "                        ⎥\n",
       "                        ⎥\n",
       "                        ⎥\n",
       "                        ⎥\n",
       "                        ⎥\n",
       "                        ⎥\n",
       "                        ⎥\n",
       "                        ⎥\n",
       "                        ⎥\n",
       "                        ⎥\n",
       "                        ⎥\n",
       "                        ⎥\n",
       "                        ⎥\n",
       "                        ⎥\n",
       "                        ⎥\n",
       "  -2⋅a(u, v) - 2⋅ψ(u, v)⎥\n",
       "⋅ℯ                      ⎥\n",
       "                        ⎦"
      ]
     },
     "execution_count": 91,
     "metadata": {},
     "output_type": "execute_result"
    }
   ],
   "source": [
    "Ric = RicciTensor.from_metric(metric)\n",
    "Ric.tensor()"
   ]
  },
  {
   "cell_type": "code",
   "execution_count": 92,
   "id": "3629cf73",
   "metadata": {},
   "outputs": [
    {
     "data": {
      "image/png": "[encoded data removed]",
      "text/latex": [
       "$\\displaystyle \\frac{2 \\left(4 \\left(\\frac{\\partial}{\\partial u} \\psi{\\left(u,v \\right)} \\frac{\\partial}{\\partial v} \\psi{\\left(u,v \\right)} + \\frac{\\partial^{2}}{\\partial v\\partial u} a{\\left(u,v \\right)}\\right) r^{2}{\\left(u,v \\right)} + 4 r{\\left(u,v \\right)} \\frac{\\partial^{2}}{\\partial v\\partial u} r{\\left(u,v \\right)} - \\frac{\\partial}{\\partial u} r{\\left(u,v \\right)} \\frac{\\partial}{\\partial v} r{\\left(u,v \\right)}\\right) e^{- 2 a{\\left(u,v \\right)}}}{r^{2}{\\left(u,v \\right)}}$"
      ],
      "text/plain": [
       "  ⎛  ⎛                             2          ⎞                         2                                    ⎞            \n",
       "  ⎜  ⎜∂           ∂               ∂           ⎟  2                     ∂              ∂           ∂          ⎟  -2⋅a(u, v)\n",
       "2⋅⎜4⋅⎜──(ψ(u, v))⋅──(ψ(u, v)) + ─────(a(u, v))⎟⋅r (u, v) + 4⋅r(u, v)⋅─────(r(u, v)) - ──(r(u, v))⋅──(r(u, v))⎟⋅ℯ          \n",
       "  ⎝  ⎝∂u          ∂v            ∂v ∂u         ⎠                      ∂v ∂u            ∂u          ∂v         ⎠            \n",
       "──────────────────────────────────────────────────────────────────────────────────────────────────────────────────────────\n",
       "                                                          2                                                               \n",
       "                                                         r (u, v)                                                         "
      ]
     },
     "execution_count": 92,
     "metadata": {},
     "output_type": "execute_result"
    }
   ],
   "source": [
    "R = RicciScalar.from_riccitensor(Ric)\n",
    "R.simplify()\n",
    "R.expr"
   ]
  },
  {
   "cell_type": "code",
   "execution_count": 93,
   "id": "1120400a",
   "metadata": {},
   "outputs": [
    {
     "data": {
      "text/latex": [
       "$\\displaystyle \\left[\\begin{matrix}- 2 \\left(\\frac{\\partial}{\\partial u} \\psi{\\left(u,v \\right)}\\right)^{2} + \\frac{2 \\frac{\\partial}{\\partial u} a{\\left(u,v \\right)} \\frac{\\partial}{\\partial u} r{\\left(u,v \\right)}}{r{\\left(u,v \\right)}} - \\frac{\\frac{\\partial^{2}}{\\partial u^{2}} r{\\left(u,v \\right)}}{r{\\left(u,v \\right)}} + \\frac{\\left(\\frac{\\partial}{\\partial u} r{\\left(u,v \\right)}\\right)^{2}}{2 r^{2}{\\left(u,v \\right)}} & \\frac{0.5 \\left(4 \\left(\\frac{\\partial}{\\partial u} \\psi{\\left(u,v \\right)} \\frac{\\partial}{\\partial v} \\psi{\\left(u,v \\right)} + \\frac{\\partial^{2}}{\\partial v\\partial u} a{\\left(u,v \\right)}\\right) r^{2}{\\left(u,v \\right)} + 4 r{\\left(u,v \\right)} \\frac{\\partial^{2}}{\\partial v\\partial u} r{\\left(u,v \\right)} - \\frac{\\partial}{\\partial u} r{\\left(u,v \\right)} \\frac{\\partial}{\\partial v} r{\\left(u,v \\right)}\\right)}{r^{2}{\\left(u,v \\right)}} - 2 \\frac{\\partial}{\\partial u} \\psi{\\left(u,v \\right)} \\frac{\\partial}{\\partial v} \\psi{\\left(u,v \\right)} - 2 \\frac{\\partial^{2}}{\\partial v\\partial u} a{\\left(u,v \\right)} - \\frac{\\frac{\\partial^{2}}{\\partial v\\partial u} r{\\left(u,v \\right)}}{r{\\left(u,v \\right)}} + \\frac{\\frac{\\partial}{\\partial u} r{\\left(u,v \\right)} \\frac{\\partial}{\\partial v} r{\\left(u,v \\right)}}{2 r^{2}{\\left(u,v \\right)}} & 0 & 0\\\\\\frac{0.5 \\left(4 \\left(\\frac{\\partial}{\\partial u} \\psi{\\left(u,v \\right)} \\frac{\\partial}{\\partial v} \\psi{\\left(u,v \\right)} + \\frac{\\partial^{2}}{\\partial v\\partial u} a{\\left(u,v \\right)}\\right) r^{2}{\\left(u,v \\right)} + 4 r{\\left(u,v \\right)} \\frac{\\partial^{2}}{\\partial v\\partial u} r{\\left(u,v \\right)} - \\frac{\\partial}{\\partial u} r{\\left(u,v \\right)} \\frac{\\partial}{\\partial v} r{\\left(u,v \\right)}\\right)}{r^{2}{\\left(u,v \\right)}} - 2 \\frac{\\partial}{\\partial u} \\psi{\\left(u,v \\right)} \\frac{\\partial}{\\partial v} \\psi{\\left(u,v \\right)} - 2 \\frac{\\partial^{2}}{\\partial v\\partial u} a{\\left(u,v \\right)} - \\frac{\\frac{\\partial^{2}}{\\partial v\\partial u} r{\\left(u,v \\right)}}{r{\\left(u,v \\right)}} + \\frac{\\frac{\\partial}{\\partial u} r{\\left(u,v \\right)} \\frac{\\partial}{\\partial v} r{\\left(u,v \\right)}}{2 r^{2}{\\left(u,v \\right)}} & - 2 \\left(\\frac{\\partial}{\\partial v} \\psi{\\left(u,v \\right)}\\right)^{2} + \\frac{2 \\frac{\\partial}{\\partial v} a{\\left(u,v \\right)} \\frac{\\partial}{\\partial v} r{\\left(u,v \\right)}}{r{\\left(u,v \\right)}} - \\frac{\\frac{\\partial^{2}}{\\partial v^{2}} r{\\left(u,v \\right)}}{r{\\left(u,v \\right)}} + \\frac{\\left(\\frac{\\partial}{\\partial v} r{\\left(u,v \\right)}\\right)^{2}}{2 r^{2}{\\left(u,v \\right)}} & 0 & 0\\\\0 & 0 & - \\frac{1.0 \\left(4 \\left(\\frac{\\partial}{\\partial u} \\psi{\\left(u,v \\right)} \\frac{\\partial}{\\partial v} \\psi{\\left(u,v \\right)} + \\frac{\\partial^{2}}{\\partial v\\partial u} a{\\left(u,v \\right)}\\right) r^{2}{\\left(u,v \\right)} + 4 r{\\left(u,v \\right)} \\frac{\\partial^{2}}{\\partial v\\partial u} r{\\left(u,v \\right)} - \\frac{\\partial}{\\partial u} r{\\left(u,v \\right)} \\frac{\\partial}{\\partial v} r{\\left(u,v \\right)}\\right) e^{- 2 a{\\left(u,v \\right)}} e^{2 \\psi{\\left(u,v \\right)}}}{r{\\left(u,v \\right)}} + 2 \\left(2 r{\\left(u,v \\right)} \\frac{\\partial^{2}}{\\partial v\\partial u} \\psi{\\left(u,v \\right)} + \\frac{\\partial}{\\partial u} \\psi{\\left(u,v \\right)} \\frac{\\partial}{\\partial v} r{\\left(u,v \\right)} + \\frac{\\partial}{\\partial v} \\psi{\\left(u,v \\right)} \\frac{\\partial}{\\partial u} r{\\left(u,v \\right)} + \\frac{\\partial^{2}}{\\partial v\\partial u} r{\\left(u,v \\right)}\\right) e^{- 2 a{\\left(u,v \\right)} + 2 \\psi{\\left(u,v \\right)}} & 0\\\\0 & 0 & 0 & - \\frac{1.0 \\left(4 \\left(\\frac{\\partial}{\\partial u} \\psi{\\left(u,v \\right)} \\frac{\\partial}{\\partial v} \\psi{\\left(u,v \\right)} + \\frac{\\partial^{2}}{\\partial v\\partial u} a{\\left(u,v \\right)}\\right) r^{2}{\\left(u,v \\right)} + 4 r{\\left(u,v \\right)} \\frac{\\partial^{2}}{\\partial v\\partial u} r{\\left(u,v \\right)} - \\frac{\\partial}{\\partial u} r{\\left(u,v \\right)} \\frac{\\partial}{\\partial v} r{\\left(u,v \\right)}\\right) e^{- 2 a{\\left(u,v \\right)}} e^{- 2 \\psi{\\left(u,v \\right)}}}{r{\\left(u,v \\right)}} + 2 \\left(- 2 r{\\left(u,v \\right)} \\frac{\\partial^{2}}{\\partial v\\partial u} \\psi{\\left(u,v \\right)} - \\frac{\\partial}{\\partial u} \\psi{\\left(u,v \\right)} \\frac{\\partial}{\\partial v} r{\\left(u,v \\right)} - \\frac{\\partial}{\\partial v} \\psi{\\left(u,v \\right)} \\frac{\\partial}{\\partial u} r{\\left(u,v \\right)} + \\frac{\\partial^{2}}{\\partial v\\partial u} r{\\left(u,v \\right)}\\right) e^{- 2 a{\\left(u,v \\right)} - 2 \\psi{\\left(u,v \\right)}}\\end{matrix}\\right]$"
      ],
      "text/plain": [
       "⎡                                                                                                                 2                    \n",
       "⎢                                                                                                                ∂                     \n",
       "⎢                                                                                     ∂           ∂             ───(r(u, v))   ⎛∂      \n",
       "⎢                                                                               2   2⋅──(a(u, v))⋅──(r(u, v))     2            ⎜──(r(u,\n",
       "⎢                                                                  ⎛∂          ⎞      ∂u          ∂u            ∂u             ⎝∂u     \n",
       "⎢                                                              - 2⋅⎜──(ψ(u, v))⎟  + ───────────────────────── - ──────────── + ────────\n",
       "⎢                                                                  ⎝∂u         ⎠             r(u, v)              r(u, v)           2  \n",
       "⎢                                                                                                                                2⋅r (u\n",
       "⎢                                                                                                                                      \n",
       "⎢                                                                                                                                      \n",
       "⎢    ⎛  ⎛                             2          ⎞                         2                                    ⎞                      \n",
       "⎢    ⎜  ⎜∂           ∂               ∂           ⎟  2                     ∂              ∂           ∂          ⎟                      \n",
       "⎢0.5⋅⎜4⋅⎜──(ψ(u, v))⋅──(ψ(u, v)) + ─────(a(u, v))⎟⋅r (u, v) + 4⋅r(u, v)⋅─────(r(u, v)) - ──(r(u, v))⋅──(r(u, v))⎟                      \n",
       "⎢    ⎝  ⎝∂u          ∂v            ∂v ∂u         ⎠                      ∂v ∂u            ∂u          ∂v         ⎠     ∂           ∂    \n",
       "⎢──────────────────────────────────────────────────────────────────────────────────────────────────────────────── - 2⋅──(ψ(u, v))⋅──(ψ(\n",
       "⎢                                                     2                                                               ∂u          ∂v   \n",
       "⎢                                                    r (u, v)                                                                          \n",
       "⎢                                                                                                                                      \n",
       "⎢                                                                                                                                      \n",
       "⎢                                                                                                                                      \n",
       "⎢                                                                                                                                      \n",
       "⎢                                                                                                                                      \n",
       "⎢                                                                                                    0                                 \n",
       "⎢                                                                                                                                      \n",
       "⎢                                                                                                                                      \n",
       "⎢                                                                                                                                      \n",
       "⎢                                                                                                                                      \n",
       "⎢                                                                                                                                      \n",
       "⎢                                                                                                                                      \n",
       "⎢                                                                                                    0                                 \n",
       "⎣                                                                                                                                      \n",
       "\n",
       "                                                                                                                                       \n",
       "     2                                                                    ⎛  ⎛                             2          ⎞                \n",
       "    ⎞                                                                     ⎜  ⎜∂           ∂               ∂           ⎟  2             \n",
       " v))⎟                                                                 0.5⋅⎜4⋅⎜──(ψ(u, v))⋅──(ψ(u, v)) + ─────(a(u, v))⎟⋅r (u, v) + 4⋅r(\n",
       "    ⎠                                                                     ⎝  ⎝∂u          ∂v            ∂v ∂u         ⎠                \n",
       "──────                                                                ─────────────────────────────────────────────────────────────────\n",
       "                                                                                                                           2           \n",
       ", v)                                                                                                                      r (u, v)     \n",
       "                                                                                                                                       \n",
       "                                                                                                                                       \n",
       "                               2                                                                                                       \n",
       "                              ∂              ∂           ∂                                                                             \n",
       "              2             ─────(r(u, v))   ──(r(u, v))⋅──(r(u, v))                                                                   \n",
       "             ∂              ∂v ∂u            ∂u          ∂v                                                                            \n",
       "u, v)) - 2⋅─────(a(u, v)) - ────────────── + ───────────────────────                                                                - 2\n",
       "           ∂v ∂u               r(u, v)                 2                                                                               \n",
       "                                                    2⋅r (u, v)                                                                         \n",
       "                                                                                                                                       \n",
       "                                                                                                                                       \n",
       "                                                                                                                                       \n",
       "                                                                                                                                       \n",
       "                                                                                                                                       \n",
       "                                                                                                                                       \n",
       "                                                                                                                                       \n",
       "                                                                                                                                       \n",
       "                                                                                                                                       \n",
       "                                                                                                                                       \n",
       "                                                                                                                                       \n",
       "                                                                                                                                       \n",
       "                                                                                                                                       \n",
       "                                                                                                                                       \n",
       "\n",
       "                                                                                                                                       \n",
       "         2                                    ⎞                                                     2                                  \n",
       "        ∂              ∂           ∂          ⎟                                                    ∂              ∂           ∂        \n",
       "u, v)⋅─────(r(u, v)) - ──(r(u, v))⋅──(r(u, v))⎟                                    2             ─────(r(u, v))   ──(r(u, v))⋅──(r(u, v\n",
       "      ∂v ∂u            ∂u          ∂v         ⎠     ∂           ∂                 ∂              ∂v ∂u            ∂u          ∂v       \n",
       "─────────────────────────────────────────────── - 2⋅──(ψ(u, v))⋅──(ψ(u, v)) - 2⋅─────(a(u, v)) - ────────────── + ─────────────────────\n",
       "                                                    ∂u          ∂v              ∂v ∂u               r(u, v)                 2          \n",
       "                                                                                                                         2⋅r (u, v)    \n",
       "                                                                                                                                       \n",
       "                                                2                                                                                      \n",
       "                                               ∂                          2                                                            \n",
       "                    ∂           ∂             ───(r(u, v))   ⎛∂          ⎞                                                             \n",
       "              2   2⋅──(a(u, v))⋅──(r(u, v))     2            ⎜──(r(u, v))⎟                                                             \n",
       " ⎛∂          ⎞      ∂v          ∂v            ∂v             ⎝∂v         ⎠                                                             \n",
       "⋅⎜──(ψ(u, v))⎟  + ───────────────────────── - ──────────── + ──────────────                                                            \n",
       " ⎝∂v         ⎠             r(u, v)              r(u, v)           2                                                                    \n",
       "                                                               2⋅r (u, v)                                                              \n",
       "                                                                                                                                       \n",
       "                                                                                                                                       \n",
       "                                                                                                                                       \n",
       "                                                                                                                                       \n",
       "                                                                                                                                       \n",
       "                                   0                                                                                                   \n",
       "                                                                                                                                       \n",
       "                                                                                                                                       \n",
       "                                                                                                                                       \n",
       "                                                                                                                                       \n",
       "                                                                                                                                       \n",
       "                                                                                                                                       \n",
       "                                   0                                                                                                   \n",
       "                                                                                                                                       \n",
       "\n",
       "                                                                                                                                       \n",
       "                                                                                                                                       \n",
       "                                                                                                                                       \n",
       "))                                                                                                                                     \n",
       "                                                                                                                                       \n",
       "──                                                                                                                                  0  \n",
       "                                                                                                                                       \n",
       "                                                                                                                                       \n",
       "                                                                                                                                       \n",
       "                                                                                                                                       \n",
       "                                                                                                                                       \n",
       "                                                                                                                                       \n",
       "                                                                                                                                       \n",
       "                                                                                                                                       \n",
       "                                                                                                                                    0  \n",
       "                                                                                                                                       \n",
       "                                                                                                                                       \n",
       "                                                                                                                                       \n",
       "      ⎛  ⎛                             2          ⎞                         2                                    ⎞                     \n",
       "      ⎜  ⎜∂           ∂               ∂           ⎟  2                     ∂              ∂           ∂          ⎟  -2⋅a(u, v)  2⋅ψ(u, \n",
       "      ⎜4⋅⎜──(ψ(u, v))⋅──(ψ(u, v)) + ─────(a(u, v))⎟⋅r (u, v) + 4⋅r(u, v)⋅─────(r(u, v)) - ──(r(u, v))⋅──(r(u, v))⎟⋅ℯ          ⋅ℯ       \n",
       "      ⎝  ⎝∂u          ∂v            ∂v ∂u         ⎠                      ∂v ∂u            ∂u          ∂v         ⎠                     \n",
       "    - ─────────────────────────────────────────────────────────────────────────────────────────────────────────────────────────────────\n",
       "                                                                    r(u, v)                                                            \n",
       "                                                                                                                                       \n",
       "                                                                                                                                       \n",
       "                                                                                                                                       \n",
       "                                                                                                                                       \n",
       "                                                                                                                                       \n",
       "                                                                                                                                    0  \n",
       "                                                                                                                                       \n",
       "\n",
       "                                                                                                                                       \n",
       "                                                                                                                                       \n",
       "                                                                                                                                       \n",
       "                                                                                                                                       \n",
       "                                                                                                                                       \n",
       "                                                                                                                                       \n",
       "                                                                                                                                       \n",
       "                                                                                                                                       \n",
       "                                                                                                                                       \n",
       "                                                                                                                                       \n",
       "                                                                                                                                       \n",
       "                                                                                                                                       \n",
       "                                                                                                                                       \n",
       "                                                                                                                                       \n",
       "                                                                                                                                       \n",
       "                                                                                                                                       \n",
       "                                                                                                                                       \n",
       "                                                                                                                                       \n",
       "                                                                                                                                       \n",
       "v)                                                                                                                                     \n",
       "       ⎛             2                                                                    2          ⎞                                 \n",
       "       ⎜            ∂              ∂           ∂             ∂           ∂               ∂           ⎟  -2⋅a(u, v) + 2⋅ψ(u, v)         \n",
       "── + 2⋅⎜2⋅r(u, v)⋅─────(ψ(u, v)) + ──(ψ(u, v))⋅──(r(u, v)) + ──(ψ(u, v))⋅──(r(u, v)) + ─────(r(u, v))⎟⋅ℯ                               \n",
       "       ⎝          ∂v ∂u            ∂u          ∂v            ∂v          ∂u            ∂v ∂u         ⎠                                 \n",
       "                                                                                                                                       \n",
       "                                                                                                                                  ⎛  ⎛ \n",
       "                                                                                                                                  ⎜  ⎜∂\n",
       "                                                                                                                                  ⎜4⋅⎜─\n",
       "                                                                                                                                  ⎝  ⎝∂\n",
       "                                                                                                                                - ─────\n",
       "                                                                                                                                       \n",
       "\n",
       "                                                                                                                                       \n",
       "                                                                                                                                       \n",
       "                                                                                                                                       \n",
       "                                                                                                                                       \n",
       "                                                                                                                                       \n",
       "                                                                                                                          0            \n",
       "                                                                                                                                       \n",
       "                                                                                                                                       \n",
       "                                                                                                                                       \n",
       "                                                                                                                                       \n",
       "                                                                                                                                       \n",
       "                                                                                                                                       \n",
       "                                                                                                                                       \n",
       "                                                                                                                                       \n",
       "                                                                                                                          0            \n",
       "                                                                                                                                       \n",
       "                                                                                                                                       \n",
       "                                                                                                                                       \n",
       "                                                                                                                                       \n",
       "                                                                                                                                       \n",
       "                                                                                                                                       \n",
       "                                                                                                                                       \n",
       "                                                                                                                          0            \n",
       "                                                                                                                                       \n",
       "                                                                                                                                       \n",
       "                            2          ⎞                         2                                    ⎞                                \n",
       "           ∂               ∂           ⎟  2                     ∂              ∂           ∂          ⎟  -2⋅a(u, v)  -2⋅ψ(u, v)        \n",
       "─(ψ(u, v))⋅──(ψ(u, v)) + ─────(a(u, v))⎟⋅r (u, v) + 4⋅r(u, v)⋅─────(r(u, v)) - ──(r(u, v))⋅──(r(u, v))⎟⋅ℯ          ⋅ℯ               ⎛  \n",
       "u          ∂v            ∂v ∂u         ⎠                      ∂v ∂u            ∂u          ∂v         ⎠                             ⎜  \n",
       "─────────────────────────────────────────────────────────────────────────────────────────────────────────────────────────────── + 2⋅⎜- \n",
       "                                                         r(u, v)                                                                    ⎝  \n",
       "\n",
       "                                                                                                                      ⎤\n",
       "                                                                                                                      ⎥\n",
       "                                                                                                                      ⎥\n",
       "                                                                                                                      ⎥\n",
       "                                                                                                                      ⎥\n",
       "                                                                                                                      ⎥\n",
       "                                                                                                                      ⎥\n",
       "                                                                                                                      ⎥\n",
       "                                                                                                                      ⎥\n",
       "                                                                                                                      ⎥\n",
       "                                                                                                                      ⎥\n",
       "                                                                                                                      ⎥\n",
       "                                                                                                                      ⎥\n",
       "                                                                                                                      ⎥\n",
       "                                                                                                                      ⎥\n",
       "                                                                                                                      ⎥\n",
       "                                                                                                                      ⎥\n",
       "                                                                                                                      ⎥\n",
       "                                                                                                                      ⎥\n",
       "                                                                                                                      ⎥\n",
       "                                                                                                                      ⎥\n",
       "                                                                                                                      ⎥\n",
       "                                                                                                                      ⎥\n",
       "                                                                                                                      ⎥\n",
       "                                                                                                                      ⎥\n",
       "                                                                                                                      ⎥\n",
       "                                                                                                                      ⎥\n",
       "             2                                                                    2          ⎞                        ⎥\n",
       "            ∂              ∂           ∂             ∂           ∂               ∂           ⎟  -2⋅a(u, v) - 2⋅ψ(u, v)⎥\n",
       "2⋅r(u, v)⋅─────(ψ(u, v)) - ──(ψ(u, v))⋅──(r(u, v)) - ──(ψ(u, v))⋅──(r(u, v)) + ─────(r(u, v))⎟⋅ℯ                      ⎥\n",
       "          ∂v ∂u            ∂u          ∂v            ∂v          ∂u            ∂v ∂u         ⎠                        ⎦"
      ]
     },
     "execution_count": 93,
     "metadata": {},
     "output_type": "execute_result"
    }
   ],
   "source": [
    "einst = EinsteinTensor.from_metric(metric)\n",
    "einst.tensor()"
   ]
  },
  {
   "cell_type": "code",
   "execution_count": 94,
   "id": "d732a3d4",
   "metadata": {},
   "outputs": [],
   "source": [
    "#  rm1 = RiemannCurvatureTensor.from_christoffels(ch)\n",
    "#  rm1.tensor()"
   ]
  },
  {
   "cell_type": "code",
   "execution_count": 95,
   "id": "43c3b4e0",
   "metadata": {},
   "outputs": [],
   "source": [
    "#  weyl = WeylTensor.from_metric(metric)\n",
    "#  weyl.tensor()"
   ]
  },
  {
   "cell_type": "code",
   "execution_count": 96,
   "id": "311df2c1",
   "metadata": {},
   "outputs": [
    {
     "data": {
      "text/latex": [
       "$\\displaystyle \\left[\\begin{matrix}- 2 \\left(\\frac{\\partial}{\\partial u} \\psi{\\left(u,v \\right)}\\right)^{2} + \\frac{2 \\frac{\\partial}{\\partial u} a{\\left(u,v \\right)} \\frac{\\partial}{\\partial u} r{\\left(u,v \\right)}}{r{\\left(u,v \\right)}} - \\frac{\\frac{\\partial^{2}}{\\partial u^{2}} r{\\left(u,v \\right)}}{r{\\left(u,v \\right)}} + \\frac{\\left(\\frac{\\partial}{\\partial u} r{\\left(u,v \\right)}\\right)^{2}}{2 r^{2}{\\left(u,v \\right)}} & - 2 \\frac{\\partial}{\\partial u} \\psi{\\left(u,v \\right)} \\frac{\\partial}{\\partial v} \\psi{\\left(u,v \\right)} - 2 \\frac{\\partial^{2}}{\\partial v\\partial u} a{\\left(u,v \\right)} - \\frac{\\frac{\\partial^{2}}{\\partial v\\partial u} r{\\left(u,v \\right)}}{r{\\left(u,v \\right)}} + \\frac{\\frac{\\partial}{\\partial u} r{\\left(u,v \\right)} \\frac{\\partial}{\\partial v} r{\\left(u,v \\right)}}{2 r^{2}{\\left(u,v \\right)}} & 0 & 0\\\\- 2 \\frac{\\partial}{\\partial u} \\psi{\\left(u,v \\right)} \\frac{\\partial}{\\partial v} \\psi{\\left(u,v \\right)} - 2 \\frac{\\partial^{2}}{\\partial v\\partial u} a{\\left(u,v \\right)} - \\frac{\\frac{\\partial^{2}}{\\partial v\\partial u} r{\\left(u,v \\right)}}{r{\\left(u,v \\right)}} + \\frac{\\frac{\\partial}{\\partial u} r{\\left(u,v \\right)} \\frac{\\partial}{\\partial v} r{\\left(u,v \\right)}}{2 r^{2}{\\left(u,v \\right)}} & - 2 \\left(\\frac{\\partial}{\\partial v} \\psi{\\left(u,v \\right)}\\right)^{2} + \\frac{2 \\frac{\\partial}{\\partial v} a{\\left(u,v \\right)} \\frac{\\partial}{\\partial v} r{\\left(u,v \\right)}}{r{\\left(u,v \\right)}} - \\frac{\\frac{\\partial^{2}}{\\partial v^{2}} r{\\left(u,v \\right)}}{r{\\left(u,v \\right)}} + \\frac{\\left(\\frac{\\partial}{\\partial v} r{\\left(u,v \\right)}\\right)^{2}}{2 r^{2}{\\left(u,v \\right)}} & 0 & 0\\\\0 & 0 & 2 \\left(2 r{\\left(u,v \\right)} \\frac{\\partial^{2}}{\\partial v\\partial u} \\psi{\\left(u,v \\right)} + \\frac{\\partial}{\\partial u} \\psi{\\left(u,v \\right)} \\frac{\\partial}{\\partial v} r{\\left(u,v \\right)} + \\frac{\\partial}{\\partial v} \\psi{\\left(u,v \\right)} \\frac{\\partial}{\\partial u} r{\\left(u,v \\right)} + \\frac{\\partial^{2}}{\\partial v\\partial u} r{\\left(u,v \\right)}\\right) e^{- 2 a{\\left(u,v \\right)} + 2 \\psi{\\left(u,v \\right)}} & 0\\\\0 & 0 & 0 & 2 \\left(- 2 r{\\left(u,v \\right)} \\frac{\\partial^{2}}{\\partial v\\partial u} \\psi{\\left(u,v \\right)} - \\frac{\\partial}{\\partial u} \\psi{\\left(u,v \\right)} \\frac{\\partial}{\\partial v} r{\\left(u,v \\right)} - \\frac{\\partial}{\\partial v} \\psi{\\left(u,v \\right)} \\frac{\\partial}{\\partial u} r{\\left(u,v \\right)} + \\frac{\\partial^{2}}{\\partial v\\partial u} r{\\left(u,v \\right)}\\right) e^{- 2 a{\\left(u,v \\right)} - 2 \\psi{\\left(u,v \\right)}}\\end{matrix}\\right]$"
      ],
      "text/plain": [
       "⎡                                                        2                                                                             \n",
       "⎢                                                       ∂                          2                                                   \n",
       "⎢                            ∂           ∂             ───(r(u, v))   ⎛∂          ⎞                                                    \n",
       "⎢                      2   2⋅──(a(u, v))⋅──(r(u, v))     2            ⎜──(r(u, v))⎟                                            2       \n",
       "⎢         ⎛∂          ⎞      ∂u          ∂u            ∂u             ⎝∂u         ⎠             ∂           ∂                 ∂        \n",
       "⎢     - 2⋅⎜──(ψ(u, v))⎟  + ───────────────────────── - ──────────── + ──────────────        - 2⋅──(ψ(u, v))⋅──(ψ(u, v)) - 2⋅─────(a(u, \n",
       "⎢         ⎝∂u         ⎠             r(u, v)              r(u, v)           2                    ∂u          ∂v              ∂v ∂u      \n",
       "⎢                                                                       2⋅r (u, v)                                                     \n",
       "⎢                                                                                                                                      \n",
       "⎢                                                                                                                                      \n",
       "⎢                                                    2                                                                                 \n",
       "⎢                                                   ∂              ∂           ∂                                        ∂           ∂  \n",
       "⎢                                   2             ─────(r(u, v))   ──(r(u, v))⋅──(r(u, v))                        2   2⋅──(a(u, v))⋅──(\n",
       "⎢    ∂           ∂                 ∂              ∂v ∂u            ∂u          ∂v                    ⎛∂          ⎞      ∂v          ∂v \n",
       "⎢- 2⋅──(ψ(u, v))⋅──(ψ(u, v)) - 2⋅─────(a(u, v)) - ────────────── + ───────────────────────       - 2⋅⎜──(ψ(u, v))⎟  + ─────────────────\n",
       "⎢    ∂u          ∂v              ∂v ∂u               r(u, v)                 2                       ⎝∂v         ⎠             r(u, v) \n",
       "⎢                                                                         2⋅r (u, v)                                                   \n",
       "⎢                                                                                                                                      \n",
       "⎢                                                                                                                                      \n",
       "⎢                                                                                                                                      \n",
       "⎢                                            0                                                                                         \n",
       "⎢                                                                                                                                      \n",
       "⎢                                                                                                                                      \n",
       "⎢                                                                                                                                      \n",
       "⎢                                                                                                                                      \n",
       "⎢                                            0                                                                                         \n",
       "⎣                                                                                                                                      \n",
       "\n",
       "                                                                                                                                       \n",
       "         2                                                                                                                             \n",
       "        ∂              ∂           ∂                                                                                                   \n",
       "      ─────(r(u, v))   ──(r(u, v))⋅──(r(u, v))                                                                                         \n",
       "      ∂v ∂u            ∂u          ∂v                                                                                                  \n",
       "v)) - ────────────── + ───────────────────────                                                              0                          \n",
       "         r(u, v)                 2                                                                                                     \n",
       "                              2⋅r (u, v)                                                                                               \n",
       "                                                                                                                                       \n",
       "             2                                                                                                                         \n",
       "            ∂                          2                                                                                               \n",
       "           ───(r(u, v))   ⎛∂          ⎞                                                                                                \n",
       "r(u, v))     2            ⎜──(r(u, v))⎟                                                                                                \n",
       "           ∂v             ⎝∂v         ⎠                                                                                                \n",
       "──────── - ──────────── + ──────────────                                                                    0                          \n",
       "             r(u, v)           2                                                                                                       \n",
       "                            2⋅r (u, v)                                                                                                 \n",
       "                                                                                                                                       \n",
       "                                                  ⎛             2                                                                    2 \n",
       "                                                  ⎜            ∂              ∂           ∂             ∂           ∂               ∂  \n",
       " 0                                              2⋅⎜2⋅r(u, v)⋅─────(ψ(u, v)) + ──(ψ(u, v))⋅──(r(u, v)) + ──(ψ(u, v))⋅──(r(u, v)) + ─────\n",
       "                                                  ⎝          ∂v ∂u            ∂u          ∂v            ∂v          ∂u            ∂v ∂u\n",
       "                                                                                                                                       \n",
       "                                                                                                                                       \n",
       "                                                                                                                                       \n",
       " 0                                                                                                          0                          \n",
       "                                                                                                                                       \n",
       "\n",
       "                                                                                                                                       \n",
       "                                                                                                                                       \n",
       "                                                                                                                                       \n",
       "                                                                                                                                       \n",
       "                                                                                                                                       \n",
       "                                                                                                 0                                     \n",
       "                                                                                                                                       \n",
       "                                                                                                                                       \n",
       "                                                                                                                                       \n",
       "                                                                                                                                       \n",
       "                                                                                                                                       \n",
       "                                                                                                                                       \n",
       "                                                                                                                                       \n",
       "                                                                                                                                       \n",
       "                                                                                                 0                                     \n",
       "                                                                                                                                       \n",
       "                                                                                                                                       \n",
       "                                                                                                                                       \n",
       "         ⎞                                                                                                                             \n",
       "         ⎟  -2⋅a(u, v) + 2⋅ψ(u, v)                                                                                                     \n",
       "(r(u, v))⎟⋅ℯ                                                                                     0                                     \n",
       "         ⎠                                                                                                                             \n",
       "                                                                                                                                       \n",
       "                                      ⎛               2                                                                    2          ⎞\n",
       "                                      ⎜              ∂              ∂           ∂             ∂           ∂               ∂           ⎟\n",
       "                                    2⋅⎜- 2⋅r(u, v)⋅─────(ψ(u, v)) - ──(ψ(u, v))⋅──(r(u, v)) - ──(ψ(u, v))⋅──(r(u, v)) + ─────(r(u, v))⎟\n",
       "                                      ⎝            ∂v ∂u            ∂u          ∂v            ∂v          ∂u            ∂v ∂u         ⎠\n",
       "\n",
       "                        ⎤\n",
       "                        ⎥\n",
       "                        ⎥\n",
       "                        ⎥\n",
       "                        ⎥\n",
       "                        ⎥\n",
       "                        ⎥\n",
       "                        ⎥\n",
       "                        ⎥\n",
       "                        ⎥\n",
       "                        ⎥\n",
       "                        ⎥\n",
       "                        ⎥\n",
       "                        ⎥\n",
       "                        ⎥\n",
       "                        ⎥\n",
       "                        ⎥\n",
       "                        ⎥\n",
       "                        ⎥\n",
       "                        ⎥\n",
       "                        ⎥\n",
       "                        ⎥\n",
       "                        ⎥\n",
       "                        ⎥\n",
       "  -2⋅a(u, v) - 2⋅ψ(u, v)⎥\n",
       "⋅ℯ                      ⎥\n",
       "                        ⎦"
      ]
     },
     "execution_count": 96,
     "metadata": {},
     "output_type": "execute_result"
    }
   ],
   "source": [
    "ricciSimplified = simplify(Ric.tensor())\n",
    "ricciSimplified"
   ]
  },
  {
   "cell_type": "code",
   "execution_count": 97,
   "id": "ec038b76",
   "metadata": {},
   "outputs": [
    {
     "data": {
      "text/latex": [
       "$\\displaystyle \\left[\\begin{matrix}- 2 \\left(\\frac{\\partial}{\\partial u} \\psi{\\left(u,v \\right)}\\right)^{2} + \\frac{2 \\frac{\\partial}{\\partial u} a{\\left(u,v \\right)} \\frac{\\partial}{\\partial u} r{\\left(u,v \\right)}}{r{\\left(u,v \\right)}} - \\frac{\\frac{\\partial^{2}}{\\partial u^{2}} r{\\left(u,v \\right)}}{r{\\left(u,v \\right)}} + \\frac{\\left(\\frac{\\partial}{\\partial u} r{\\left(u,v \\right)}\\right)^{2}}{2 r^{2}{\\left(u,v \\right)}} & \\frac{\\frac{\\partial^{2}}{\\partial v\\partial u} r{\\left(u,v \\right)}}{r{\\left(u,v \\right)}} & 0 & 0\\\\\\frac{\\frac{\\partial^{2}}{\\partial v\\partial u} r{\\left(u,v \\right)}}{r{\\left(u,v \\right)}} & - 2 \\left(\\frac{\\partial}{\\partial v} \\psi{\\left(u,v \\right)}\\right)^{2} + \\frac{2 \\frac{\\partial}{\\partial v} a{\\left(u,v \\right)} \\frac{\\partial}{\\partial v} r{\\left(u,v \\right)}}{r{\\left(u,v \\right)}} - \\frac{\\frac{\\partial^{2}}{\\partial v^{2}} r{\\left(u,v \\right)}}{r{\\left(u,v \\right)}} + \\frac{\\left(\\frac{\\partial}{\\partial v} r{\\left(u,v \\right)}\\right)^{2}}{2 r^{2}{\\left(u,v \\right)}} & 0 & 0\\\\0 & 0 & \\frac{\\left(- 4.0 \\left(\\frac{\\partial}{\\partial u} \\psi{\\left(u,v \\right)} \\frac{\\partial}{\\partial v} \\psi{\\left(u,v \\right)} + \\frac{\\partial^{2}}{\\partial v\\partial u} a{\\left(u,v \\right)}\\right) r^{2}{\\left(u,v \\right)} + 2 \\left(2 r{\\left(u,v \\right)} \\frac{\\partial^{2}}{\\partial v\\partial u} \\psi{\\left(u,v \\right)} + \\frac{\\partial}{\\partial u} \\psi{\\left(u,v \\right)} \\frac{\\partial}{\\partial v} r{\\left(u,v \\right)} + \\frac{\\partial}{\\partial v} \\psi{\\left(u,v \\right)} \\frac{\\partial}{\\partial u} r{\\left(u,v \\right)} + \\frac{\\partial^{2}}{\\partial v\\partial u} r{\\left(u,v \\right)}\\right) r{\\left(u,v \\right)} - 4.0 r{\\left(u,v \\right)} \\frac{\\partial^{2}}{\\partial v\\partial u} r{\\left(u,v \\right)} + 1.0 \\frac{\\partial}{\\partial u} r{\\left(u,v \\right)} \\frac{\\partial}{\\partial v} r{\\left(u,v \\right)}\\right) e^{- 2 a{\\left(u,v \\right)} + 2 \\psi{\\left(u,v \\right)}}}{r{\\left(u,v \\right)}} & 0\\\\0 & 0 & 0 & \\frac{\\left(- 4.0 \\left(\\frac{\\partial}{\\partial u} \\psi{\\left(u,v \\right)} \\frac{\\partial}{\\partial v} \\psi{\\left(u,v \\right)} + \\frac{\\partial^{2}}{\\partial v\\partial u} a{\\left(u,v \\right)}\\right) r^{2}{\\left(u,v \\right)} - 2 \\left(2 r{\\left(u,v \\right)} \\frac{\\partial^{2}}{\\partial v\\partial u} \\psi{\\left(u,v \\right)} + \\frac{\\partial}{\\partial u} \\psi{\\left(u,v \\right)} \\frac{\\partial}{\\partial v} r{\\left(u,v \\right)} + \\frac{\\partial}{\\partial v} \\psi{\\left(u,v \\right)} \\frac{\\partial}{\\partial u} r{\\left(u,v \\right)} - \\frac{\\partial^{2}}{\\partial v\\partial u} r{\\left(u,v \\right)}\\right) r{\\left(u,v \\right)} - 4.0 r{\\left(u,v \\right)} \\frac{\\partial^{2}}{\\partial v\\partial u} r{\\left(u,v \\right)} + 1.0 \\frac{\\partial}{\\partial u} r{\\left(u,v \\right)} \\frac{\\partial}{\\partial v} r{\\left(u,v \\right)}\\right) e^{- 2 a{\\left(u,v \\right)} - 2 \\psi{\\left(u,v \\right)}}}{r{\\left(u,v \\right)}}\\end{matrix}\\right]$"
      ],
      "text/plain": [
       "⎡                                                   2                                                                                  \n",
       "⎢                                                  ∂                          2                                     2                  \n",
       "⎢                       ∂           ∂             ───(r(u, v))   ⎛∂          ⎞                                     ∂                   \n",
       "⎢                 2   2⋅──(a(u, v))⋅──(r(u, v))     2            ⎜──(r(u, v))⎟                                   ─────(r(u, v))        \n",
       "⎢    ⎛∂          ⎞      ∂u          ∂u            ∂u             ⎝∂u         ⎠                                   ∂v ∂u                 \n",
       "⎢- 2⋅⎜──(ψ(u, v))⎟  + ───────────────────────── - ──────────── + ──────────────                                  ──────────────        \n",
       "⎢    ⎝∂u         ⎠             r(u, v)              r(u, v)           2                                             r(u, v)            \n",
       "⎢                                                                  2⋅r (u, v)                                                          \n",
       "⎢                                                                                                                                      \n",
       "⎢                                                                                                                                   2  \n",
       "⎢                                   2                                                                                              ∂   \n",
       "⎢                                  ∂                                                                    ∂           ∂             ───(r\n",
       "⎢                                ─────(r(u, v))                                                   2   2⋅──(a(u, v))⋅──(r(u, v))     2  \n",
       "⎢                                ∂v ∂u                                               ⎛∂          ⎞      ∂v          ∂v            ∂v   \n",
       "⎢                                ──────────────                                  - 2⋅⎜──(ψ(u, v))⎟  + ───────────────────────── - ─────\n",
       "⎢                                   r(u, v)                                          ⎝∂v         ⎠             r(u, v)              r(u\n",
       "⎢                                                                                                                                      \n",
       "⎢                                                                                                                                      \n",
       "⎢                                                                                                                                      \n",
       "⎢                                                                                                                                      \n",
       "⎢                                                                                                                                      \n",
       "⎢                                                                                                                                      \n",
       "⎢                                      0                                                                               0               \n",
       "⎢                                                                                                                                      \n",
       "⎢                                                                                                                                      \n",
       "⎢                                                                                                                                      \n",
       "⎢                                                                                                                                      \n",
       "⎢                                                                                                                                      \n",
       "⎢                                                                                                                                      \n",
       "⎢                                      0                                                                               0               \n",
       "⎣                                                                                                                                      \n",
       "\n",
       "                                                                                                                                       \n",
       "                                                                                                                                       \n",
       "                                                                                                                                       \n",
       "                                                                                                                                       \n",
       "                                                                                                                                       \n",
       "                                                                                                                                       \n",
       "                                                                                                                                       \n",
       "                                                                                                                                       \n",
       "                                                                                                                                       \n",
       "                                                                                                                                       \n",
       "                       2                                                                                                               \n",
       "(u, v))   ⎛∂          ⎞                                                                                                                \n",
       "          ⎜──(r(u, v))⎟                                                                                                                \n",
       "          ⎝∂v         ⎠                                                                                                                \n",
       "─────── + ──────────────                                                                                                               \n",
       ", v)           2                                                                                                                       \n",
       "            2⋅r (u, v)                                                                                                                 \n",
       "                                                                                                                                       \n",
       "                          ⎛      ⎛                             2          ⎞              ⎛             2                               \n",
       "                          ⎜      ⎜∂           ∂               ∂           ⎟  2           ⎜            ∂              ∂           ∂     \n",
       "                          ⎜- 4.0⋅⎜──(ψ(u, v))⋅──(ψ(u, v)) + ─────(a(u, v))⎟⋅r (u, v) + 2⋅⎜2⋅r(u, v)⋅─────(ψ(u, v)) + ──(ψ(u, v))⋅──(r(u\n",
       "                          ⎝      ⎝∂u          ∂v            ∂v ∂u         ⎠              ⎝          ∂v ∂u            ∂u          ∂v    \n",
       "                          ─────────────────────────────────────────────────────────────────────────────────────────────────────────────\n",
       "                                                                                                                                       \n",
       "                                                                                                                                       \n",
       "                                                                                                                                       \n",
       "                                                                                                                                       \n",
       "                                                                                                                                       \n",
       "                                                                                                                                       \n",
       "                                                                                                                                       \n",
       "                                                                                                                                       \n",
       "\n",
       "                                                                                                                                       \n",
       "                                                                                                                                       \n",
       "                                                                                                                                       \n",
       "                                                                                                                                       \n",
       "                                                                                                                                       \n",
       "               0                                                                                                                       \n",
       "                                                                                                                                       \n",
       "                                                                                                                                       \n",
       "                                                                                                                                       \n",
       "                                                                                                                                       \n",
       "                                                                                                                                       \n",
       "                                                                                                                                       \n",
       "                                                                                                                                       \n",
       "                                                                                                                                       \n",
       "               0                                                                                                                       \n",
       "                                                                                                                                       \n",
       "                                                                                                                                       \n",
       "                                                                                                                                       \n",
       "                                     2          ⎞                          2                                        ⎞                  \n",
       "        ∂           ∂               ∂           ⎟                         ∂                  ∂           ∂          ⎟  -2⋅a(u, v) + 2⋅ψ\n",
       ", v)) + ──(ψ(u, v))⋅──(r(u, v)) + ─────(r(u, v))⎟⋅r(u, v) - 4.0⋅r(u, v)⋅─────(r(u, v)) + 1.0⋅──(r(u, v))⋅──(r(u, v))⎟⋅ℯ                \n",
       "        ∂v          ∂u            ∂v ∂u         ⎠                       ∂v ∂u                ∂u          ∂v         ⎠                  \n",
       "───────────────────────────────────────────────────────────────────────────────────────────────────────────────────────────────────────\n",
       "            r(u, v)                                                                                                                    \n",
       "                                                                                                                                       \n",
       "                                                                                                                                       \n",
       "                                                                                                                                       \n",
       "                                                                                                                                       \n",
       "                                                                                                                                       \n",
       "               0                                                                                                                       \n",
       "                                                                                                                                       \n",
       "\n",
       "                                                                                                                                       \n",
       "                                                                                                                                       \n",
       "                                                                                                                                       \n",
       "                                                                                                                                       \n",
       "                                                                                                                                       \n",
       "                                                                                                                                    0  \n",
       "                                                                                                                                       \n",
       "                                                                                                                                       \n",
       "                                                                                                                                       \n",
       "                                                                                                                                       \n",
       "                                                                                                                                       \n",
       "                                                                                                                                       \n",
       "                                                                                                                                       \n",
       "                                                                                                                                       \n",
       "                                                                                                                                    0  \n",
       "                                                                                                                                       \n",
       "                                                                                                                                       \n",
       "                                                                                                                                       \n",
       "                                                                                                                                       \n",
       "(u, v)                                                                                                                                 \n",
       "                                                                                                                                       \n",
       "                                                                                                                                       \n",
       "──────                                                                                                                              0  \n",
       "                                                                                                                                       \n",
       "                                                                                                                                       \n",
       "        ⎛      ⎛                             2          ⎞              ⎛             2                                                 \n",
       "        ⎜      ⎜∂           ∂               ∂           ⎟  2           ⎜            ∂              ∂           ∂             ∂         \n",
       "        ⎜- 4.0⋅⎜──(ψ(u, v))⋅──(ψ(u, v)) + ─────(a(u, v))⎟⋅r (u, v) - 2⋅⎜2⋅r(u, v)⋅─────(ψ(u, v)) + ──(ψ(u, v))⋅──(r(u, v)) + ──(ψ(u, v)\n",
       "        ⎝      ⎝∂u          ∂v            ∂v ∂u         ⎠              ⎝          ∂v ∂u            ∂u          ∂v            ∂v        \n",
       "        ───────────────────────────────────────────────────────────────────────────────────────────────────────────────────────────────\n",
       "                                                                                                                                 r(u, v\n",
       "\n",
       "                                                                                                                           ⎤\n",
       "                                                                                                                           ⎥\n",
       "                                                                                                                           ⎥\n",
       "                                                                                                                           ⎥\n",
       "                                                                                                                           ⎥\n",
       "                                                                                                                           ⎥\n",
       "                                                                                                                           ⎥\n",
       "                                                                                                                           ⎥\n",
       "                                                                                                                           ⎥\n",
       "                                                                                                                           ⎥\n",
       "                                                                                                                           ⎥\n",
       "                                                                                                                           ⎥\n",
       "                                                                                                                           ⎥\n",
       "                                                                                                                           ⎥\n",
       "                                                                                                                           ⎥\n",
       "                                                                                                                           ⎥\n",
       "                                                                                                                           ⎥\n",
       "                                                                                                                           ⎥\n",
       "                                                                                                                           ⎥\n",
       "                                                                                                                           ⎥\n",
       "                                                                                                                           ⎥\n",
       "                                                                                                                           ⎥\n",
       "                                                                                                                           ⎥\n",
       "                                                                                                                           ⎥\n",
       "                                                                                                                           ⎥\n",
       "                   2          ⎞                          2                                        ⎞                        ⎥\n",
       "  ∂               ∂           ⎟                         ∂                  ∂           ∂          ⎟  -2⋅a(u, v) - 2⋅ψ(u, v)⎥\n",
       ")⋅──(r(u, v)) - ─────(r(u, v))⎟⋅r(u, v) - 4.0⋅r(u, v)⋅─────(r(u, v)) + 1.0⋅──(r(u, v))⋅──(r(u, v))⎟⋅ℯ                      ⎥\n",
       "  ∂u            ∂v ∂u         ⎠                       ∂v ∂u                ∂u          ∂v         ⎠                        ⎥\n",
       "───────────────────────────────────────────────────────────────────────────────────────────────────────────────────────────⎥\n",
       ")                                                                                                                          ⎦"
      ]
     },
     "execution_count": 97,
     "metadata": {},
     "output_type": "execute_result"
    }
   ],
   "source": [
    "einsteinSimplified = simplify(einst.tensor())\n",
    "einsteinSimplified"
   ]
  },
  {
   "cell_type": "code",
   "execution_count": 119,
   "id": "5a2b0608",
   "metadata": {},
   "outputs": [
    {
     "data": {
      "image/png": "[encoded data removed]",
      "text/latex": [
       "$\\displaystyle \\frac{\\partial^{2}}{\\partial v\\partial u} r{\\left(u,v \\right)} = 0$"
      ],
      "text/plain": [
       "   2              \n",
       "  ∂               \n",
       "─────(r(u, v)) = 0\n",
       "∂v ∂u             "
      ]
     },
     "execution_count": 119,
     "metadata": {},
     "output_type": "execute_result"
    }
   ],
   "source": [
    "#  This is the wave equation in null coordinates corresponding to equation 7\n",
    "equation7 = Eq(einsteinSimplified[1,0].args[1],0)\n",
    "equation7"
   ]
  },
  {
   "cell_type": "code",
   "execution_count": 101,
   "id": "41cb5066",
   "metadata": {},
   "outputs": [
    {
     "data": {
      "image/png": "[encoded data removed]",
      "text/latex": [
       "$\\displaystyle \\frac{\\partial}{\\partial v} a{\\left(u,v \\right)} \\frac{\\partial}{\\partial v} r{\\left(u,v \\right)} = r{\\left(u,v \\right)} \\left(\\frac{\\partial}{\\partial v} \\psi{\\left(u,v \\right)}\\right)^{2} + \\frac{\\frac{\\partial^{2}}{\\partial v^{2}} r{\\left(u,v \\right)}}{2} - \\frac{\\left(\\frac{\\partial}{\\partial v} r{\\left(u,v \\right)}\\right)^{2}}{4 r{\\left(u,v \\right)}}$"
      ],
      "text/plain": [
       "                                                     2                          \n",
       "                                                    ∂                          2\n",
       "                                                   ───(r(u, v))   ⎛∂          ⎞ \n",
       "                                               2     2            ⎜──(r(u, v))⎟ \n",
       "∂           ∂                     ⎛∂          ⎞    ∂v             ⎝∂v         ⎠ \n",
       "──(a(u, v))⋅──(r(u, v)) = r(u, v)⋅⎜──(ψ(u, v))⎟  + ──────────── - ──────────────\n",
       "∂v          ∂v                    ⎝∂v         ⎠         2           4⋅r(u, v)   "
      ]
     },
     "execution_count": 101,
     "metadata": {},
     "output_type": "execute_result"
    }
   ],
   "source": [
    "equation4 = Eq((r/2)*ricciSimplified[1,1].args[3],expand((r/2)*solve( ricciSimplified[1,1],ricciSimplified[1,1].args[3])[0]))\n",
    "equation4"
   ]
  },
  {
   "cell_type": "code",
   "execution_count": 110,
   "id": "9a8a1a16",
   "metadata": {},
   "outputs": [
    {
     "data": {
      "image/png": "[encoded data removed]",
      "text/latex": [
       "$\\displaystyle \\frac{\\partial}{\\partial u} a{\\left(u,v \\right)} \\frac{\\partial}{\\partial u} r{\\left(u,v \\right)} = r{\\left(u,v \\right)} \\left(\\frac{\\partial}{\\partial u} \\psi{\\left(u,v \\right)}\\right)^{2} + \\frac{\\frac{\\partial^{2}}{\\partial u^{2}} r{\\left(u,v \\right)}}{2} - \\frac{\\left(\\frac{\\partial}{\\partial u} r{\\left(u,v \\right)}\\right)^{2}}{4 r{\\left(u,v \\right)}}$"
      ],
      "text/plain": [
       "                                                     2                          \n",
       "                                                    ∂                          2\n",
       "                                                   ───(r(u, v))   ⎛∂          ⎞ \n",
       "                                               2     2            ⎜──(r(u, v))⎟ \n",
       "∂           ∂                     ⎛∂          ⎞    ∂u             ⎝∂u         ⎠ \n",
       "──(a(u, v))⋅──(r(u, v)) = r(u, v)⋅⎜──(ψ(u, v))⎟  + ──────────── - ──────────────\n",
       "∂u          ∂u                    ⎝∂u         ⎠         2           4⋅r(u, v)   "
      ]
     },
     "execution_count": 110,
     "metadata": {},
     "output_type": "execute_result"
    }
   ],
   "source": [
    "equation5 = Eq((r/2)*ricciSimplified[0,0].args[3], expand((r/2)*solve(ricciSimplified[0,0],ricciSimplified[0,0].args[3])[0]))\n",
    "equation5"
   ]
  },
  {
   "cell_type": "code",
   "execution_count": 122,
   "id": "cde90e73",
   "metadata": {},
   "outputs": [
    {
     "data": {
      "image/png": "[encoded data removed]",
      "text/latex": [
       "$\\displaystyle 4 r{\\left(u,v \\right)} \\frac{\\partial^{2}}{\\partial v\\partial u} \\psi{\\left(u,v \\right)} + 2 \\frac{\\partial}{\\partial u} \\psi{\\left(u,v \\right)} \\frac{\\partial}{\\partial v} r{\\left(u,v \\right)} + 2 \\frac{\\partial}{\\partial v} \\psi{\\left(u,v \\right)} \\frac{\\partial}{\\partial u} r{\\left(u,v \\right)}$"
      ],
      "text/plain": [
       "             2                                                                  \n",
       "            ∂                ∂           ∂               ∂           ∂          \n",
       "4⋅r(u, v)⋅─────(ψ(u, v)) + 2⋅──(ψ(u, v))⋅──(r(u, v)) + 2⋅──(ψ(u, v))⋅──(r(u, v))\n",
       "          ∂v ∂u              ∂u          ∂v              ∂v          ∂u         "
      ]
     },
     "execution_count": 122,
     "metadata": {},
     "output_type": "execute_result"
    }
   ],
   "source": [
    "#  I believe this corresponds to equation 6 but in null coordinates\n",
    "equation6 = (ricciSimplified[2,2].args[1] - ricciSimplified[3,3].args[1])\n",
    "equation6 "
   ]
  },
  {
   "cell_type": "code",
   "execution_count": 131,
   "id": "8adc90de",
   "metadata": {},
   "outputs": [
    {
     "data": {
      "image/png": "[encoded data removed]",
      "text/latex": [
       "$\\displaystyle 0 = r{\\left(u,v \\right)} \\left(\\frac{\\partial}{\\partial v} \\psi{\\left(u,v \\right)}\\right)^{2}$"
      ],
      "text/plain": [
       "                         2\n",
       "            ⎛∂          ⎞ \n",
       "0 = r(u, v)⋅⎜──(ψ(u, v))⎟ \n",
       "            ⎝∂v         ⎠ "
      ]
     },
     "execution_count": 131,
     "metadata": {},
     "output_type": "execute_result"
    }
   ],
   "source": [
    "#  Trying to get equation 9 \n",
    "equation4.subs(diff(r,v),0).doit()  "
   ]
  },
  {
   "cell_type": "code",
   "execution_count": null,
   "id": "20bdf80d",
   "metadata": {},
   "outputs": [],
   "source": []
  }
 ],
 "metadata": {
  "@webio": {
   "lastCommId": "9acaa960fd6745029959c07ddc833697",
   "lastKernelId": "eddd5639-fa11-4c8a-9c2e-d3dfdb651ff2"
  },
  "kernelspec": {
   "display_name": "Python 3 (ipykernel)",
   "language": "python",
   "name": "python3"
  },
  "language_info": {
   "codemirror_mode": {
    "name": "ipython",
    "version": 3
   },
   "file_extension": ".py",
   "mimetype": "text/x-python",
   "name": "python",
   "nbconvert_exporter": "python",
   "pygments_lexer": "ipython3",
   "version": "3.8.8"
  }
 },
 "nbformat": 4,
 "nbformat_minor": 5
}
