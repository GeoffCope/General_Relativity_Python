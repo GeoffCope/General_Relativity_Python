{
 "cells": [
  {
   "cell_type": "markdown",
   "id": "0cba80b2",
   "metadata": {},
   "source": [
    "# Colliding Gravitational Waves by Szekeres Nature Article\n",
    "##  Geoff Cope\n",
    "##  Univeristy of Utah\n",
    "##  𐐏𐐭𐑌𐐲𐑂𐐲𐑉𐑅𐐮𐐻𐐨 𐐲𐑂 𐐏𐐭𐐻𐐫\n",
    "##  January 21, 2022"
   ]
  },
  {
   "cell_type": "markdown",
   "id": "7a14f951",
   "metadata": {},
   "source": [
    "https://www.nature.com/articles/2281183a0"
   ]
  },
  {
   "cell_type": "markdown",
   "id": "841e1d93",
   "metadata": {},
   "source": [
    "https://ui.adsabs.harvard.edu/abs/1970Natur.228.1183S/abstract"
   ]
  },
  {
   "cell_type": "code",
   "execution_count": 1,
   "id": "192dfdcd",
   "metadata": {},
   "outputs": [
    {
     "name": "stdout",
     "output_type": "stream",
     "text": [
      "IPython console for SymPy 1.9 (Python 3.8.8-64-bit) (ground types: gmpy)\n",
      "\n",
      "These commands were executed:\n",
      ">>> from __future__ import division\n",
      ">>> from sympy import *\n",
      ">>> x, y, z, t = symbols('x y z t')\n",
      ">>> k, m, n = symbols('k m n', integer=True)\n",
      ">>> f, g, h = symbols('f g h', cls=Function)\n",
      ">>> init_printing()\n",
      "\n",
      "Documentation can be found at https://docs.sympy.org/1.9/\n",
      "\n"
     ]
    }
   ],
   "source": [
    "from sympy import init_session\n",
    "init_session(use_latex=True)"
   ]
  },
  {
   "cell_type": "code",
   "execution_count": 2,
   "id": "99067ee1",
   "metadata": {},
   "outputs": [],
   "source": [
    "import warnings\n",
    "import matplotlib.cbook\n",
    "warnings.filterwarnings(\"ignore\",category=matplotlib.cbook.mplDeprecation)"
   ]
  },
  {
   "cell_type": "code",
   "execution_count": 3,
   "id": "1fafda97",
   "metadata": {},
   "outputs": [],
   "source": [
    "u,v,x,y,du,dv,dx,dy = symbols('u v x y du dv dx dy')"
   ]
  },
  {
   "cell_type": "code",
   "execution_count": 4,
   "id": "2506a7bc",
   "metadata": {},
   "outputs": [
    {
     "data": {
      "image/png": "[encoded data removed]",
      "text/latex": [
       "$\\displaystyle M{\\left(u,v \\right)}$"
      ],
      "text/plain": [
       "M(u, v)"
      ]
     },
     "execution_count": 4,
     "metadata": {},
     "output_type": "execute_result"
    }
   ],
   "source": [
    "M = Function('M')(u,v)\n",
    "M"
   ]
  },
  {
   "cell_type": "code",
   "execution_count": 5,
   "id": "71176212",
   "metadata": {},
   "outputs": [
    {
     "data": {
      "image/png": "[encoded data removed]",
      "text/latex": [
       "$\\displaystyle U{\\left(u,v \\right)}$"
      ],
      "text/plain": [
       "U(u, v)"
      ]
     },
     "execution_count": 5,
     "metadata": {},
     "output_type": "execute_result"
    }
   ],
   "source": [
    "U = Function('U')(u,v)\n",
    "U"
   ]
  },
  {
   "cell_type": "code",
   "execution_count": 6,
   "id": "328283ac",
   "metadata": {},
   "outputs": [
    {
     "data": {
      "image/png": "[encoded data removed]",
      "text/latex": [
       "$\\displaystyle V{\\left(u,v \\right)}$"
      ],
      "text/plain": [
       "V(u, v)"
      ]
     },
     "execution_count": 6,
     "metadata": {},
     "output_type": "execute_result"
    }
   ],
   "source": [
    "V = Function('V')(u,v)\n",
    "V"
   ]
  },
  {
   "cell_type": "code",
   "execution_count": 63,
   "id": "f4a58f05",
   "metadata": {},
   "outputs": [
    {
     "data": {
      "image/png": "[encoded data removed]",
      "text/latex": [
       "$\\displaystyle f{\\left(u \\right)}$"
      ],
      "text/plain": [
       "f(u)"
      ]
     },
     "execution_count": 63,
     "metadata": {},
     "output_type": "execute_result"
    }
   ],
   "source": [
    "f = Function('f')(u)\n",
    "f"
   ]
  },
  {
   "cell_type": "code",
   "execution_count": 64,
   "id": "c6bef23a",
   "metadata": {},
   "outputs": [
    {
     "data": {
      "image/png": "[encoded data removed]",
      "text/latex": [
       "$\\displaystyle g{\\left(v \\right)}$"
      ],
      "text/plain": [
       "g(v)"
      ]
     },
     "execution_count": 64,
     "metadata": {},
     "output_type": "execute_result"
    }
   ],
   "source": [
    "g = Function('g')(v)\n",
    "g"
   ]
  },
  {
   "cell_type": "code",
   "execution_count": 7,
   "id": "d770a19e",
   "metadata": {},
   "outputs": [
    {
     "data": {
      "text/latex": [
       "$\\displaystyle \\left[\\begin{matrix}u\\\\v\\\\x\\\\y\\end{matrix}\\right]$"
      ],
      "text/plain": [
       "⎡u⎤\n",
       "⎢ ⎥\n",
       "⎢v⎥\n",
       "⎢ ⎥\n",
       "⎢x⎥\n",
       "⎢ ⎥\n",
       "⎣y⎦"
      ]
     },
     "execution_count": 7,
     "metadata": {},
     "output_type": "execute_result"
    }
   ],
   "source": [
    "variables = Matrix([u,v,x,y])\n",
    "variables"
   ]
  },
  {
   "cell_type": "code",
   "execution_count": 8,
   "id": "90c9b65d",
   "metadata": {},
   "outputs": [
    {
     "data": {
      "text/latex": [
       "$\\displaystyle \\left[\\begin{matrix}du\\\\dv\\\\dx\\\\dy\\end{matrix}\\right]$"
      ],
      "text/plain": [
       "⎡du⎤\n",
       "⎢  ⎥\n",
       "⎢dv⎥\n",
       "⎢  ⎥\n",
       "⎢dx⎥\n",
       "⎢  ⎥\n",
       "⎣dy⎦"
      ]
     },
     "execution_count": 8,
     "metadata": {},
     "output_type": "execute_result"
    }
   ],
   "source": [
    "differentials = Matrix([du,dv,dx,dy])\n",
    "differentials "
   ]
  },
  {
   "cell_type": "code",
   "execution_count": 12,
   "id": "48e175cd",
   "metadata": {},
   "outputs": [
    {
     "data": {
      "image/png": "[encoded data removed]",
      "text/latex": [
       "$\\displaystyle 2 du dv e^{- M{\\left(u,v \\right)}} - dx^{2} e^{- U{\\left(u,v \\right)}} e^{V{\\left(u,v \\right)}} - dy^{2} e^{- U{\\left(u,v \\right)}} e^{- V{\\left(u,v \\right)}}$"
      ],
      "text/plain": [
       "         -M(u, v)     2  -U(u, v)  V(u, v)     2  -U(u, v)  -V(u, v)\n",
       "2⋅du⋅dv⋅ℯ         - dx ⋅ℯ        ⋅ℯ        - dy ⋅ℯ        ⋅ℯ        "
      ]
     },
     "execution_count": 12,
     "metadata": {},
     "output_type": "execute_result"
    }
   ],
   "source": [
    "lineElement = expand(2*exp(-M)*du*dv - exp(-U)* (exp(V)*dx**2 + exp(-V)*dy**2 ))\n",
    "lineElement"
   ]
  },
  {
   "cell_type": "code",
   "execution_count": 13,
   "id": "8db23d63",
   "metadata": {},
   "outputs": [
    {
     "data": {
      "text/latex": [
       "$\\displaystyle \\left[\\begin{matrix}0 & e^{- M{\\left(u,v \\right)}} & 0 & 0\\\\e^{- M{\\left(u,v \\right)}} & 0 & 0 & 0\\\\0 & 0 & - e^{- U{\\left(u,v \\right)}} e^{V{\\left(u,v \\right)}} & 0\\\\0 & 0 & 0 & - e^{- U{\\left(u,v \\right)}} e^{- V{\\left(u,v \\right)}}\\end{matrix}\\right]$"
      ],
      "text/plain": [
       "⎡            -M(u, v)                                           ⎤\n",
       "⎢    0      ℯ                   0                    0          ⎥\n",
       "⎢                                                               ⎥\n",
       "⎢ -M(u, v)                                                      ⎥\n",
       "⎢ℯ              0               0                    0          ⎥\n",
       "⎢                                                               ⎥\n",
       "⎢                        -U(u, v)  V(u, v)                      ⎥\n",
       "⎢    0          0      -ℯ        ⋅ℯ                  0          ⎥\n",
       "⎢                                                               ⎥\n",
       "⎢                                             -U(u, v)  -V(u, v)⎥\n",
       "⎣    0          0               0           -ℯ        ⋅ℯ        ⎦"
      ]
     },
     "execution_count": 13,
     "metadata": {},
     "output_type": "execute_result"
    }
   ],
   "source": [
    "g = zeros(4)\n",
    "\n",
    "for i in range(4):\n",
    "    for j in range(4):\n",
    "        if i == j:\n",
    "            g[i,j] = lineElement.coeff( differentials[i],2 ) \n",
    "        else:\n",
    "            g[i,j] = Rational(1,2)*lineElement.coeff( differentials[i]*differentials[j],1 )\n",
    "            \n",
    "g"
   ]
  },
  {
   "cell_type": "code",
   "execution_count": 14,
   "id": "7d15b2d5",
   "metadata": {},
   "outputs": [],
   "source": [
    "import sympy"
   ]
  },
  {
   "cell_type": "code",
   "execution_count": 15,
   "id": "6c16331e",
   "metadata": {},
   "outputs": [
    {
     "data": {
      "text/latex": [
       "$\\displaystyle \\left[\\begin{matrix}0 & e^{- M{\\left(u,v \\right)}} & 0 & 0\\\\e^{- M{\\left(u,v \\right)}} & 0 & 0 & 0\\\\0 & 0 & - e^{- U{\\left(u,v \\right)}} e^{V{\\left(u,v \\right)}} & 0\\\\0 & 0 & 0 & - e^{- U{\\left(u,v \\right)}} e^{- V{\\left(u,v \\right)}}\\end{matrix}\\right]$"
      ],
      "text/plain": [
       "⎡            -M(u, v)                                           ⎤\n",
       "⎢    0      ℯ                   0                    0          ⎥\n",
       "⎢                                                               ⎥\n",
       "⎢ -M(u, v)                                                      ⎥\n",
       "⎢ℯ              0               0                    0          ⎥\n",
       "⎢                                                               ⎥\n",
       "⎢                        -U(u, v)  V(u, v)                      ⎥\n",
       "⎢    0          0      -ℯ        ⋅ℯ                  0          ⎥\n",
       "⎢                                                               ⎥\n",
       "⎢                                             -U(u, v)  -V(u, v)⎥\n",
       "⎣    0          0               0           -ℯ        ⋅ℯ        ⎦"
      ]
     },
     "execution_count": 15,
     "metadata": {},
     "output_type": "execute_result"
    }
   ],
   "source": [
    "m = sympy.Array(g)\n",
    "m"
   ]
  },
  {
   "cell_type": "code",
   "execution_count": 16,
   "id": "048967a2",
   "metadata": {},
   "outputs": [],
   "source": [
    "from einsteinpy.symbolic import *"
   ]
  },
  {
   "cell_type": "code",
   "execution_count": 17,
   "id": "39fbfeda",
   "metadata": {},
   "outputs": [],
   "source": [
    "syms = sympy.symbols(\"u v x y\")\n",
    "u,v,x,y = syms"
   ]
  },
  {
   "cell_type": "code",
   "execution_count": 18,
   "id": "f34d0972",
   "metadata": {},
   "outputs": [],
   "source": [
    "metric = MetricTensor(m,syms)"
   ]
  },
  {
   "cell_type": "code",
   "execution_count": 19,
   "id": "0f9c8f88",
   "metadata": {},
   "outputs": [
    {
     "data": {
      "text/latex": [
       "$\\displaystyle \\left[\\begin{matrix}\\left[\\begin{matrix}- \\frac{\\partial}{\\partial u} M{\\left(u,v \\right)} & 0 & 0 & 0\\\\0 & 0 & 0 & 0\\\\0 & 0 & \\frac{\\left(- \\frac{\\partial}{\\partial v} U{\\left(u,v \\right)} + \\frac{\\partial}{\\partial v} V{\\left(u,v \\right)}\\right) e^{M{\\left(u,v \\right)} - U{\\left(u,v \\right)} + V{\\left(u,v \\right)}}}{2} & 0\\\\0 & 0 & 0 & - \\frac{\\left(\\frac{\\partial}{\\partial v} U{\\left(u,v \\right)} + \\frac{\\partial}{\\partial v} V{\\left(u,v \\right)}\\right) e^{M{\\left(u,v \\right)} - U{\\left(u,v \\right)} - V{\\left(u,v \\right)}}}{2}\\end{matrix}\\right] & \\left[\\begin{matrix}0 & 0 & 0 & 0\\\\0 & - \\frac{\\partial}{\\partial v} M{\\left(u,v \\right)} & 0 & 0\\\\0 & 0 & \\frac{\\left(- \\frac{\\partial}{\\partial u} U{\\left(u,v \\right)} + \\frac{\\partial}{\\partial u} V{\\left(u,v \\right)}\\right) e^{M{\\left(u,v \\right)} - U{\\left(u,v \\right)} + V{\\left(u,v \\right)}}}{2} & 0\\\\0 & 0 & 0 & - \\frac{\\left(\\frac{\\partial}{\\partial u} U{\\left(u,v \\right)} + \\frac{\\partial}{\\partial u} V{\\left(u,v \\right)}\\right) e^{M{\\left(u,v \\right)} - U{\\left(u,v \\right)} - V{\\left(u,v \\right)}}}{2}\\end{matrix}\\right] & \\left[\\begin{matrix}0 & 0 & - \\frac{\\frac{\\partial}{\\partial u} U{\\left(u,v \\right)}}{2} + \\frac{\\frac{\\partial}{\\partial u} V{\\left(u,v \\right)}}{2} & 0\\\\0 & 0 & - \\frac{\\frac{\\partial}{\\partial v} U{\\left(u,v \\right)}}{2} + \\frac{\\frac{\\partial}{\\partial v} V{\\left(u,v \\right)}}{2} & 0\\\\- \\frac{\\frac{\\partial}{\\partial u} U{\\left(u,v \\right)}}{2} + \\frac{\\frac{\\partial}{\\partial u} V{\\left(u,v \\right)}}{2} & - \\frac{\\frac{\\partial}{\\partial v} U{\\left(u,v \\right)}}{2} + \\frac{\\frac{\\partial}{\\partial v} V{\\left(u,v \\right)}}{2} & 0 & 0\\\\0 & 0 & 0 & 0\\end{matrix}\\right] & \\left[\\begin{matrix}0 & 0 & 0 & - \\frac{\\frac{\\partial}{\\partial u} U{\\left(u,v \\right)}}{2} - \\frac{\\frac{\\partial}{\\partial u} V{\\left(u,v \\right)}}{2}\\\\0 & 0 & 0 & - \\frac{\\frac{\\partial}{\\partial v} U{\\left(u,v \\right)}}{2} - \\frac{\\frac{\\partial}{\\partial v} V{\\left(u,v \\right)}}{2}\\\\0 & 0 & 0 & 0\\\\- \\frac{\\frac{\\partial}{\\partial u} U{\\left(u,v \\right)}}{2} - \\frac{\\frac{\\partial}{\\partial u} V{\\left(u,v \\right)}}{2} & - \\frac{\\frac{\\partial}{\\partial v} U{\\left(u,v \\right)}}{2} - \\frac{\\frac{\\partial}{\\partial v} V{\\left(u,v \\right)}}{2} & 0 & 0\\end{matrix}\\right]\\end{matrix}\\right]$"
      ],
      "text/plain": [
       "⎡                                                                                                                                      \n",
       "⎢⎡ ∂                                                                                                                                   \n",
       "⎢⎢-──(M(u, v))  0                              0                                                           0                           \n",
       "⎢⎢ ∂u                                                                                                                                  \n",
       "⎢⎢                                                                                                                                     \n",
       "⎢⎢     0        0                              0                                                           0                           \n",
       "⎢⎢                                                                                                                                     \n",
       "⎢⎢                 ⎛  ∂             ∂          ⎞  M(u, v) - U(u, v) + V(u, v)                                                          \n",
       "⎢⎢                 ⎜- ──(U(u, v)) + ──(V(u, v))⎟⋅ℯ                                                                                     \n",
       "⎢⎢                 ⎝  ∂v            ∂v         ⎠                                                                                       \n",
       "⎢⎢     0        0  ──────────────────────────────────────────────────────────                              0                           \n",
       "⎢⎢                                             2                                                                                       \n",
       "⎢⎢                                                                                                                                     \n",
       "⎢⎢                                                                              ⎛∂             ∂          ⎞  M(u, v) - U(u, v) - V(u, v\n",
       "⎢⎢                                                                             -⎜──(U(u, v)) + ──(V(u, v))⎟⋅ℯ                          \n",
       "⎢⎢                                                                              ⎝∂v            ∂v         ⎠                            \n",
       "⎢⎢     0        0                              0                               ────────────────────────────────────────────────────────\n",
       "⎢⎣                                                                                                         2                           \n",
       "⎣                                                                                                                                      \n",
       "\n",
       "                                                                                                                                       \n",
       "  ⎤  ⎡0       0                                    0                                                           0                       \n",
       "  ⎥  ⎢                                                                                                                                 \n",
       "  ⎥  ⎢    ∂                                                                                                                            \n",
       "  ⎥  ⎢0  -──(M(u, v))                              0                                                           0                       \n",
       "  ⎥  ⎢    ∂v                                                                                                                           \n",
       "  ⎥  ⎢                                                                                                                                 \n",
       "  ⎥  ⎢                 ⎛  ∂             ∂          ⎞  M(u, v) - U(u, v) + V(u, v)                                                      \n",
       "  ⎥  ⎢                 ⎜- ──(U(u, v)) + ──(V(u, v))⎟⋅ℯ                                                                                 \n",
       "  ⎥  ⎢                 ⎝  ∂u            ∂u         ⎠                                                                                   \n",
       "  ⎥  ⎢0       0        ──────────────────────────────────────────────────────────                              0                       \n",
       "  ⎥  ⎢                                             2                                                                                   \n",
       "  ⎥  ⎢                                                                                                                                 \n",
       ") ⎥  ⎢                                                                              ⎛∂             ∂          ⎞  M(u, v) - U(u, v) - V(\n",
       "  ⎥  ⎢                                                                             -⎜──(U(u, v)) + ──(V(u, v))⎟⋅ℯ                      \n",
       "  ⎥  ⎢                                                                              ⎝∂u            ∂u         ⎠                        \n",
       "──⎥  ⎢0       0                                    0                               ────────────────────────────────────────────────────\n",
       "  ⎦  ⎣                                                                                                         2                       \n",
       "                                                                                                                                       \n",
       "\n",
       "         ⎡                                                            ∂             ∂             ⎤  ⎡                                 \n",
       "      ⎤  ⎢                                                            ──(U(u, v))   ──(V(u, v))   ⎥  ⎢                                 \n",
       "      ⎥  ⎢                                                            ∂u            ∂u            ⎥  ⎢                                 \n",
       "      ⎥  ⎢             0                            0               - ─────────── + ───────────  0⎥  ⎢             0                   \n",
       "      ⎥  ⎢                                                                 2             2        ⎥  ⎢                                 \n",
       "      ⎥  ⎢                                                                                        ⎥  ⎢                                 \n",
       "      ⎥  ⎢                                                            ∂             ∂             ⎥  ⎢                                 \n",
       "      ⎥  ⎢                                                            ──(U(u, v))   ──(V(u, v))   ⎥  ⎢                                 \n",
       "      ⎥  ⎢                                                            ∂v            ∂v            ⎥  ⎢                                 \n",
       "      ⎥  ⎢             0                            0               - ─────────── + ───────────  0⎥  ⎢             0                   \n",
       "      ⎥  ⎢                                                                 2             2        ⎥  ⎢                                 \n",
       "      ⎥  ⎢                                                                                        ⎥  ⎢                                 \n",
       "      ⎥  ⎢  ∂             ∂              ∂             ∂                                          ⎥  ⎢             0                   \n",
       "u, v) ⎥  ⎢  ──(U(u, v))   ──(V(u, v))    ──(U(u, v))   ──(V(u, v))                                ⎥  ⎢                                 \n",
       "      ⎥  ⎢  ∂u            ∂u             ∂v            ∂v                                         ⎥  ⎢  ∂             ∂              ∂ \n",
       "      ⎥  ⎢- ─────────── + ───────────  - ─────────── + ───────────               0               0⎥  ⎢  ──(U(u, v))   ──(V(u, v))    ──\n",
       "──────⎥  ⎢       2             2              2             2                                     ⎥  ⎢  ∂u            ∂u             ∂v\n",
       "      ⎦  ⎢                                                                                        ⎥  ⎢- ─────────── - ───────────  - ──\n",
       "         ⎣             0                            0                            0               0⎦  ⎣       2             2           \n",
       "\n",
       "                              ∂             ∂          ⎤⎤\n",
       "                              ──(U(u, v))   ──(V(u, v))⎥⎥\n",
       "                              ∂u            ∂u         ⎥⎥\n",
       "         0               0  - ─────────── - ───────────⎥⎥\n",
       "                                   2             2     ⎥⎥\n",
       "                                                       ⎥⎥\n",
       "                              ∂             ∂          ⎥⎥\n",
       "                              ──(U(u, v))   ──(V(u, v))⎥⎥\n",
       "                              ∂v            ∂v         ⎥⎥\n",
       "         0               0  - ─────────── - ───────────⎥⎥\n",
       "                                   2             2     ⎥⎥\n",
       "                                                       ⎥⎥\n",
       "         0               0               0             ⎥⎥\n",
       "                                                       ⎥⎥\n",
       "            ∂                                          ⎥⎥\n",
       "(U(u, v))   ──(V(u, v))                                ⎥⎥\n",
       "            ∂v                                         ⎥⎥\n",
       "───────── - ───────────  0               0             ⎥⎥\n",
       "   2             2                                     ⎦⎦"
      ]
     },
     "execution_count": 19,
     "metadata": {},
     "output_type": "execute_result"
    }
   ],
   "source": [
    "ch = ChristoffelSymbols.from_metric(metric)\n",
    "simplify(ch.tensor())"
   ]
  },
  {
   "cell_type": "code",
   "execution_count": 20,
   "id": "b72ecab5",
   "metadata": {},
   "outputs": [
    {
     "data": {
      "text/latex": [
       "$\\displaystyle \\left[\\begin{matrix}\\frac{\\partial}{\\partial u} M{\\left(u,v \\right)} \\frac{\\partial}{\\partial u} U{\\left(u,v \\right)} - \\frac{\\left(\\frac{\\partial}{\\partial u} U{\\left(u,v \\right)}\\right)^{2}}{2} + \\frac{\\partial^{2}}{\\partial u^{2}} U{\\left(u,v \\right)} - \\frac{\\left(\\frac{\\partial}{\\partial u} V{\\left(u,v \\right)}\\right)^{2}}{2} & - \\frac{\\frac{\\partial}{\\partial u} U{\\left(u,v \\right)} \\frac{\\partial}{\\partial v} U{\\left(u,v \\right)}}{2} - \\frac{\\frac{\\partial}{\\partial u} V{\\left(u,v \\right)} \\frac{\\partial}{\\partial v} V{\\left(u,v \\right)}}{2} + \\frac{\\partial^{2}}{\\partial v\\partial u} M{\\left(u,v \\right)} + \\frac{\\partial^{2}}{\\partial v\\partial u} U{\\left(u,v \\right)} & 0 & 0\\\\- \\frac{\\frac{\\partial}{\\partial u} U{\\left(u,v \\right)} \\frac{\\partial}{\\partial v} U{\\left(u,v \\right)}}{2} - \\frac{\\frac{\\partial}{\\partial u} V{\\left(u,v \\right)} \\frac{\\partial}{\\partial v} V{\\left(u,v \\right)}}{2} + \\frac{\\partial^{2}}{\\partial v\\partial u} M{\\left(u,v \\right)} + \\frac{\\partial^{2}}{\\partial v\\partial u} U{\\left(u,v \\right)} & \\frac{\\partial}{\\partial v} M{\\left(u,v \\right)} \\frac{\\partial}{\\partial v} U{\\left(u,v \\right)} - \\frac{\\left(\\frac{\\partial}{\\partial v} U{\\left(u,v \\right)}\\right)^{2}}{2} + \\frac{\\partial^{2}}{\\partial v^{2}} U{\\left(u,v \\right)} - \\frac{\\left(\\frac{\\partial}{\\partial v} V{\\left(u,v \\right)}\\right)^{2}}{2} & 0 & 0\\\\0 & 0 & \\left(\\frac{\\partial}{\\partial u} U{\\left(u,v \\right)} \\frac{\\partial}{\\partial v} U{\\left(u,v \\right)} - \\frac{\\frac{\\partial}{\\partial u} U{\\left(u,v \\right)} \\frac{\\partial}{\\partial v} V{\\left(u,v \\right)}}{2} - \\frac{\\frac{\\partial}{\\partial v} U{\\left(u,v \\right)} \\frac{\\partial}{\\partial u} V{\\left(u,v \\right)}}{2} - \\frac{\\partial^{2}}{\\partial v\\partial u} U{\\left(u,v \\right)} + \\frac{\\partial^{2}}{\\partial v\\partial u} V{\\left(u,v \\right)}\\right) e^{M{\\left(u,v \\right)} - U{\\left(u,v \\right)} + V{\\left(u,v \\right)}} & 0\\\\0 & 0 & 0 & \\left(\\frac{\\partial}{\\partial u} U{\\left(u,v \\right)} \\frac{\\partial}{\\partial v} U{\\left(u,v \\right)} + \\frac{\\frac{\\partial}{\\partial u} U{\\left(u,v \\right)} \\frac{\\partial}{\\partial v} V{\\left(u,v \\right)}}{2} + \\frac{\\frac{\\partial}{\\partial v} U{\\left(u,v \\right)} \\frac{\\partial}{\\partial u} V{\\left(u,v \\right)}}{2} - \\frac{\\partial^{2}}{\\partial v\\partial u} U{\\left(u,v \\right)} - \\frac{\\partial^{2}}{\\partial v\\partial u} V{\\left(u,v \\right)}\\right) e^{M{\\left(u,v \\right)} - U{\\left(u,v \\right)} - V{\\left(u,v \\right)}}\\end{matrix}\\right]$"
      ],
      "text/plain": [
       "⎡                                             2                               2                                                        \n",
       "⎢                                ⎛∂          ⎞                   ⎛∂          ⎞            ∂           ∂             ∂           ∂      \n",
       "⎢                                ⎜──(U(u, v))⎟      2            ⎜──(V(u, v))⎟            ──(U(u, v))⋅──(U(u, v))   ──(V(u, v))⋅──(V(u,\n",
       "⎢      ∂           ∂             ⎝∂u         ⎠     ∂             ⎝∂u         ⎠            ∂u          ∂v            ∂u          ∂v     \n",
       "⎢      ──(M(u, v))⋅──(U(u, v)) - ────────────── + ───(U(u, v)) - ──────────────         - ─────────────────────── - ───────────────────\n",
       "⎢      ∂u          ∂u                  2            2                  2                             2                         2       \n",
       "⎢                                                 ∂u                                                                                   \n",
       "⎢                                                                                                                                      \n",
       "⎢                                                                                                                                    2 \n",
       "⎢  ∂           ∂             ∂           ∂                                                                              ⎛∂          ⎞  \n",
       "⎢  ──(U(u, v))⋅──(U(u, v))   ──(V(u, v))⋅──(V(u, v))      2                2                                            ⎜──(U(u, v))⎟  \n",
       "⎢  ∂u          ∂v            ∂u          ∂v              ∂                ∂                   ∂           ∂             ⎝∂v         ⎠  \n",
       "⎢- ─────────────────────── - ─────────────────────── + ─────(M(u, v)) + ─────(U(u, v))        ──(M(u, v))⋅──(U(u, v)) - ────────────── \n",
       "⎢             2                         2              ∂v ∂u            ∂v ∂u                 ∂v          ∂v                  2        \n",
       "⎢                                                                                                                                      \n",
       "⎢                                                                                                                                      \n",
       "⎢                                                                                                                                      \n",
       "⎢                                                                                                                                      \n",
       "⎢                                                                                                                                      \n",
       "⎢                                          0                                                                                      0    \n",
       "⎢                                                                                                                                      \n",
       "⎢                                                                                                                                      \n",
       "⎢                                                                                                                                      \n",
       "⎢                                                                                                                                      \n",
       "⎢                                                                                                                                      \n",
       "⎢                                          0                                                                                      0    \n",
       "⎣                                                                                                                                      \n",
       "\n",
       "                                                                                                                                       \n",
       "                                                                                                                                       \n",
       " v))      2                2                                                                                                           \n",
       "         ∂                ∂                                                                                                            \n",
       "──── + ─────(M(u, v)) + ─────(U(u, v))                                                                       0                         \n",
       "       ∂v ∂u            ∂v ∂u                                                                                                          \n",
       "                                                                                                                                       \n",
       "                                                                                                                                       \n",
       "                              2                                                                                                        \n",
       "                 ⎛∂          ⎞                                                                                                         \n",
       "    2            ⎜──(V(u, v))⎟                                                                                                         \n",
       "   ∂             ⎝∂v         ⎠                                                                                                         \n",
       "+ ───(U(u, v)) - ──────────────                                                                              0                         \n",
       "    2                  2                                                                                                               \n",
       "  ∂v                                                                                                                                   \n",
       "                                                                                                                                       \n",
       "                                        ⎛                          ∂           ∂             ∂           ∂                             \n",
       "                                        ⎜                          ──(U(u, v))⋅──(V(u, v))   ──(U(u, v))⋅──(V(u, v))      2            \n",
       "                                        ⎜∂           ∂             ∂u          ∂v            ∂v          ∂u              ∂             \n",
       "                                        ⎜──(U(u, v))⋅──(U(u, v)) - ─────────────────────── - ─────────────────────── - ─────(U(u, v)) +\n",
       "                                        ⎝∂u          ∂v                       2                         2              ∂v ∂u           \n",
       "                                                                                                                                       \n",
       "                                                                                                                                       \n",
       "                                                                                                                                       \n",
       "                                                                                                                                       \n",
       "                                                                                                             0                         \n",
       "                                                                                                                                       \n",
       "\n",
       "                                                                                                                                       \n",
       "                                                                                                                                       \n",
       "                                                                                                                                       \n",
       "                                                                                                                                       \n",
       "                                                                                                                    0                  \n",
       "                                                                                                                                       \n",
       "                                                                                                                                       \n",
       "                                                                                                                                       \n",
       "                                                                                                                                       \n",
       "                                                                                                                                       \n",
       "                                                                                                                                       \n",
       "                                                                                                                                       \n",
       "                                                                                                                    0                  \n",
       "                                                                                                                                       \n",
       "                                                                                                                                       \n",
       "                                                                                                                                       \n",
       "               ⎞                                                                                                                       \n",
       "    2          ⎟                                                                                                                       \n",
       "   ∂           ⎟  M(u, v) - U(u, v) + V(u, v)                                                                                          \n",
       " ─────(V(u, v))⎟⋅ℯ                                                                                                  0                  \n",
       " ∂v ∂u         ⎠                                                                                                                       \n",
       "                                                                                                                                       \n",
       "                                               ⎛                          ∂           ∂             ∂           ∂                      \n",
       "                                               ⎜                          ──(U(u, v))⋅──(V(u, v))   ──(U(u, v))⋅──(V(u, v))      2     \n",
       "                                               ⎜∂           ∂             ∂u          ∂v            ∂v          ∂u              ∂      \n",
       "                                               ⎜──(U(u, v))⋅──(U(u, v)) + ─────────────────────── + ─────────────────────── - ─────(U(u\n",
       "                                               ⎝∂u          ∂v                       2                         2              ∂v ∂u    \n",
       "\n",
       "                                                    ⎤\n",
       "                                                    ⎥\n",
       "                                                    ⎥\n",
       "                                                    ⎥\n",
       "                                                    ⎥\n",
       "                                                    ⎥\n",
       "                                                    ⎥\n",
       "                                                    ⎥\n",
       "                                                    ⎥\n",
       "                                                    ⎥\n",
       "                                                    ⎥\n",
       "                                                    ⎥\n",
       "                                                    ⎥\n",
       "                                                    ⎥\n",
       "                                                    ⎥\n",
       "                                                    ⎥\n",
       "                                                    ⎥\n",
       "                                                    ⎥\n",
       "                                                    ⎥\n",
       "                                                    ⎥\n",
       "                                                    ⎥\n",
       "                                                    ⎥\n",
       "                      ⎞                             ⎥\n",
       "           2          ⎟                             ⎥\n",
       "          ∂           ⎟  M(u, v) - U(u, v) - V(u, v)⎥\n",
       ", v)) - ─────(V(u, v))⎟⋅ℯ                           ⎥\n",
       "        ∂v ∂u         ⎠                             ⎦"
      ]
     },
     "execution_count": 20,
     "metadata": {},
     "output_type": "execute_result"
    }
   ],
   "source": [
    "Ric = RicciTensor.from_metric(metric)\n",
    "Ric.tensor()"
   ]
  },
  {
   "cell_type": "code",
   "execution_count": 21,
   "id": "c7432fa1",
   "metadata": {},
   "outputs": [
    {
     "data": {
      "image/png": "[encoded data removed]",
      "text/latex": [
       "$\\displaystyle \\left(- 3 \\frac{\\partial}{\\partial u} U{\\left(u,v \\right)} \\frac{\\partial}{\\partial v} U{\\left(u,v \\right)} - \\frac{\\partial}{\\partial u} V{\\left(u,v \\right)} \\frac{\\partial}{\\partial v} V{\\left(u,v \\right)} + 2 \\frac{\\partial^{2}}{\\partial v\\partial u} M{\\left(u,v \\right)} + 4 \\frac{\\partial^{2}}{\\partial v\\partial u} U{\\left(u,v \\right)}\\right) e^{M{\\left(u,v \\right)}}$"
      ],
      "text/plain": [
       "⎛                                                             2                  2          ⎞         \n",
       "⎜    ∂           ∂             ∂           ∂                 ∂                  ∂           ⎟  M(u, v)\n",
       "⎜- 3⋅──(U(u, v))⋅──(U(u, v)) - ──(V(u, v))⋅──(V(u, v)) + 2⋅─────(M(u, v)) + 4⋅─────(U(u, v))⎟⋅ℯ       \n",
       "⎝    ∂u          ∂v            ∂u          ∂v              ∂v ∂u              ∂v ∂u         ⎠         "
      ]
     },
     "execution_count": 21,
     "metadata": {},
     "output_type": "execute_result"
    }
   ],
   "source": [
    "R = RicciScalar.from_riccitensor(Ric)\n",
    "R.simplify()\n",
    "R.expr"
   ]
  },
  {
   "cell_type": "code",
   "execution_count": 22,
   "id": "5a919cc3",
   "metadata": {},
   "outputs": [
    {
     "data": {
      "text/latex": [
       "$\\displaystyle \\left[\\begin{matrix}\\frac{\\partial}{\\partial u} M{\\left(u,v \\right)} \\frac{\\partial}{\\partial u} U{\\left(u,v \\right)} - \\frac{\\left(\\frac{\\partial}{\\partial u} U{\\left(u,v \\right)}\\right)^{2}}{2} + \\frac{\\partial^{2}}{\\partial u^{2}} U{\\left(u,v \\right)} - \\frac{\\left(\\frac{\\partial}{\\partial u} V{\\left(u,v \\right)}\\right)^{2}}{2} & 1.0 \\frac{\\partial}{\\partial u} U{\\left(u,v \\right)} \\frac{\\partial}{\\partial v} U{\\left(u,v \\right)} - 1.0 \\frac{\\partial^{2}}{\\partial v\\partial u} U{\\left(u,v \\right)} & 0 & 0\\\\1.0 \\frac{\\partial}{\\partial u} U{\\left(u,v \\right)} \\frac{\\partial}{\\partial v} U{\\left(u,v \\right)} - 1.0 \\frac{\\partial^{2}}{\\partial v\\partial u} U{\\left(u,v \\right)} & \\frac{\\partial}{\\partial v} M{\\left(u,v \\right)} \\frac{\\partial}{\\partial v} U{\\left(u,v \\right)} - \\frac{\\left(\\frac{\\partial}{\\partial v} U{\\left(u,v \\right)}\\right)^{2}}{2} + \\frac{\\partial^{2}}{\\partial v^{2}} U{\\left(u,v \\right)} - \\frac{\\left(\\frac{\\partial}{\\partial v} V{\\left(u,v \\right)}\\right)^{2}}{2} & 0 & 0\\\\0 & 0 & 0.5 \\left(- 3 \\frac{\\partial}{\\partial u} U{\\left(u,v \\right)} \\frac{\\partial}{\\partial v} U{\\left(u,v \\right)} - \\frac{\\partial}{\\partial u} V{\\left(u,v \\right)} \\frac{\\partial}{\\partial v} V{\\left(u,v \\right)} + 2 \\frac{\\partial^{2}}{\\partial v\\partial u} M{\\left(u,v \\right)} + 4 \\frac{\\partial^{2}}{\\partial v\\partial u} U{\\left(u,v \\right)}\\right) e^{M{\\left(u,v \\right)}} e^{- U{\\left(u,v \\right)}} e^{V{\\left(u,v \\right)}} + \\left(\\frac{\\partial}{\\partial u} U{\\left(u,v \\right)} \\frac{\\partial}{\\partial v} U{\\left(u,v \\right)} - \\frac{\\frac{\\partial}{\\partial u} U{\\left(u,v \\right)} \\frac{\\partial}{\\partial v} V{\\left(u,v \\right)}}{2} - \\frac{\\frac{\\partial}{\\partial v} U{\\left(u,v \\right)} \\frac{\\partial}{\\partial u} V{\\left(u,v \\right)}}{2} - \\frac{\\partial^{2}}{\\partial v\\partial u} U{\\left(u,v \\right)} + \\frac{\\partial^{2}}{\\partial v\\partial u} V{\\left(u,v \\right)}\\right) e^{M{\\left(u,v \\right)} - U{\\left(u,v \\right)} + V{\\left(u,v \\right)}} & 0\\\\0 & 0 & 0 & 0.5 \\left(- 3 \\frac{\\partial}{\\partial u} U{\\left(u,v \\right)} \\frac{\\partial}{\\partial v} U{\\left(u,v \\right)} - \\frac{\\partial}{\\partial u} V{\\left(u,v \\right)} \\frac{\\partial}{\\partial v} V{\\left(u,v \\right)} + 2 \\frac{\\partial^{2}}{\\partial v\\partial u} M{\\left(u,v \\right)} + 4 \\frac{\\partial^{2}}{\\partial v\\partial u} U{\\left(u,v \\right)}\\right) e^{M{\\left(u,v \\right)}} e^{- U{\\left(u,v \\right)}} e^{- V{\\left(u,v \\right)}} + \\left(\\frac{\\partial}{\\partial u} U{\\left(u,v \\right)} \\frac{\\partial}{\\partial v} U{\\left(u,v \\right)} + \\frac{\\frac{\\partial}{\\partial u} U{\\left(u,v \\right)} \\frac{\\partial}{\\partial v} V{\\left(u,v \\right)}}{2} + \\frac{\\frac{\\partial}{\\partial v} U{\\left(u,v \\right)} \\frac{\\partial}{\\partial u} V{\\left(u,v \\right)}}{2} - \\frac{\\partial^{2}}{\\partial v\\partial u} U{\\left(u,v \\right)} - \\frac{\\partial^{2}}{\\partial v\\partial u} V{\\left(u,v \\right)}\\right) e^{M{\\left(u,v \\right)} - U{\\left(u,v \\right)} - V{\\left(u,v \\right)}}\\end{matrix}\\right]$"
      ],
      "text/plain": [
       "⎡                                       2                               2                                                              \n",
       "⎢                          ⎛∂          ⎞                   ⎛∂          ⎞                                                               \n",
       "⎢                          ⎜──(U(u, v))⎟      2            ⎜──(V(u, v))⎟                                                  2            \n",
       "⎢∂           ∂             ⎝∂u         ⎠     ∂             ⎝∂u         ⎠                     ∂           ∂               ∂             \n",
       "⎢──(M(u, v))⋅──(U(u, v)) - ────────────── + ───(U(u, v)) - ──────────────                1.0⋅──(U(u, v))⋅──(U(u, v)) - ─────(U(u, v))  \n",
       "⎢∂u          ∂u                  2            2                  2                           ∂u          ∂v            ∂v ∂u           \n",
       "⎢                                           ∂u                                                                                         \n",
       "⎢                                                                                                                                      \n",
       "⎢                                                                                                                 2                    \n",
       "⎢                                                                                                    ⎛∂          ⎞                   ⎛∂\n",
       "⎢                                               2                                                    ⎜──(U(u, v))⎟      2            ⎜─\n",
       "⎢                  ∂           ∂               ∂                           ∂           ∂             ⎝∂v         ⎠     ∂             ⎝∂\n",
       "⎢              1.0⋅──(U(u, v))⋅──(U(u, v)) - ─────(U(u, v))                ──(M(u, v))⋅──(U(u, v)) - ────────────── + ───(U(u, v)) - ──\n",
       "⎢                  ∂u          ∂v            ∂v ∂u                         ∂v          ∂v                  2            2              \n",
       "⎢                                                                                                                     ∂v               \n",
       "⎢                                                                                                                                      \n",
       "⎢                                                                                                                                      \n",
       "⎢                                                                                                                                      \n",
       "⎢                                                                                                                                      \n",
       "⎢                                   0                                                                         0                        \n",
       "⎢                                                                                                                                      \n",
       "⎢                                                                                                                                      \n",
       "⎢                                                                                                                                      \n",
       "⎢                                                                                                                                      \n",
       "⎢                                                                                                                                      \n",
       "⎢                                   0                                                                         0                        \n",
       "⎣                                                                                                                                      \n",
       "\n",
       "                                                                                                                                       \n",
       "                                                                                                                                       \n",
       "                                                                                                                                       \n",
       "                                                                                                                                       \n",
       "                                                                                                                                       \n",
       "                                                                                                                                       \n",
       "                                                                                                                                       \n",
       "                                                                                                                                       \n",
       "           2                                                                                                                           \n",
       "          ⎞                                                                                                                            \n",
       "─(V(u, v))⎟                                                                                                                            \n",
       "v         ⎠                                                                                                                            \n",
       "────────────                                                                                                                           \n",
       "    2                                                                                                                                  \n",
       "                                                                                                                                       \n",
       "                                                                                                                                       \n",
       "                                                                                                                                       \n",
       "                  ⎛                                                             2                  2          ⎞                        \n",
       "                  ⎜    ∂           ∂             ∂           ∂                 ∂                  ∂           ⎟  M(u, v)  -U(u, v)  V(u\n",
       "              0.5⋅⎜- 3⋅──(U(u, v))⋅──(U(u, v)) - ──(V(u, v))⋅──(V(u, v)) + 2⋅─────(M(u, v)) + 4⋅─────(U(u, v))⎟⋅ℯ       ⋅ℯ        ⋅ℯ   \n",
       "                  ⎝    ∂u          ∂v            ∂u          ∂v              ∂v ∂u              ∂v ∂u         ⎠                        \n",
       "                                                                                                                                       \n",
       "                                                                                                                                       \n",
       "                                                                                                                                       \n",
       "                                                                                                                                       \n",
       "                                                                                                                                       \n",
       "                                                                                                                                       \n",
       "\n",
       "                                                                                                                                       \n",
       "                                                                                                                                       \n",
       "                                                                                                                                       \n",
       "                                                                                                                                       \n",
       "            0                                                                                                                          \n",
       "                                                                                                                                       \n",
       "                                                                                                                                       \n",
       "                                                                                                                                       \n",
       "                                                                                                                                       \n",
       "                                                                                                                                       \n",
       "                                                                                                                                       \n",
       "                                                                                                                                       \n",
       "            0                                                                                                                          \n",
       "                                                                                                                                       \n",
       "                                                                                                                                       \n",
       "                                                                                                                                       \n",
       "       ⎛                          ∂           ∂             ∂           ∂                                            ⎞                 \n",
       "       ⎜                          ──(U(u, v))⋅──(V(u, v))   ──(U(u, v))⋅──(V(u, v))      2                2          ⎟                 \n",
       ", v)   ⎜∂           ∂             ∂u          ∂v            ∂v          ∂u              ∂                ∂           ⎟  M(u, v) - U(u, \n",
       "     + ⎜──(U(u, v))⋅──(U(u, v)) - ─────────────────────── - ─────────────────────── - ─────(U(u, v)) + ─────(V(u, v))⎟⋅ℯ               \n",
       "       ⎝∂u          ∂v                       2                         2              ∂v ∂u            ∂v ∂u         ⎠                 \n",
       "                                                                                                                                       \n",
       "                                                                                                                                       \n",
       "                                                                                                                                       \n",
       "                                                                                                                                       \n",
       "            0                                                                                                                          \n",
       "                                                                                                                                       \n",
       "\n",
       "                                                                                                                                       \n",
       "                                                                                                                                       \n",
       "                                                                                                                                       \n",
       "                                                                                                                                       \n",
       "                                                                                                                                       \n",
       "                                                                                                                                       \n",
       "                                                                                                                                       \n",
       "                                                                                                                                       \n",
       "                                                                                                                                       \n",
       "                                                                                                                                       \n",
       "                                                                                                                                       \n",
       "                                                                                                                                       \n",
       "                                                                                                                                       \n",
       "                                                                                                                                       \n",
       "                                                                                                                                       \n",
       "                                                                                                                                       \n",
       "                                                                                                                                       \n",
       "                                                                                                                                       \n",
       "v) + V(u, v)                                                                                                                           \n",
       "                                                                                                                                       \n",
       "                                                                                                                                       \n",
       "                                                                                                                                       \n",
       "                                                                                                                                       \n",
       "                  ⎛                                                             2                  2          ⎞                        \n",
       "                  ⎜    ∂           ∂             ∂           ∂                 ∂                  ∂           ⎟  M(u, v)  -U(u, v)  -V(\n",
       "              0.5⋅⎜- 3⋅──(U(u, v))⋅──(U(u, v)) - ──(V(u, v))⋅──(V(u, v)) + 2⋅─────(M(u, v)) + 4⋅─────(U(u, v))⎟⋅ℯ       ⋅ℯ        ⋅ℯ   \n",
       "                  ⎝    ∂u          ∂v            ∂u          ∂v              ∂v ∂u              ∂v ∂u         ⎠                        \n",
       "\n",
       "                                                                                                                                       \n",
       "                                                                                                                                       \n",
       "                                                                                                                                       \n",
       "                                                                                                                                       \n",
       "             0                                                                                                                         \n",
       "                                                                                                                                       \n",
       "                                                                                                                                       \n",
       "                                                                                                                                       \n",
       "                                                                                                                                       \n",
       "                                                                                                                                       \n",
       "                                                                                                                                       \n",
       "                                                                                                                                       \n",
       "             0                                                                                                                         \n",
       "                                                                                                                                       \n",
       "                                                                                                                                       \n",
       "                                                                                                                                       \n",
       "                                                                                                                                       \n",
       "                                                                                                                                       \n",
       "                                                                                                                                       \n",
       "             0                                                                                                                         \n",
       "                                                                                                                                       \n",
       "                                                                                                                                       \n",
       "        ⎛                          ∂           ∂             ∂           ∂                                            ⎞                \n",
       "        ⎜                          ──(U(u, v))⋅──(V(u, v))   ──(U(u, v))⋅──(V(u, v))      2                2          ⎟                \n",
       "u, v)   ⎜∂           ∂             ∂u          ∂v            ∂v          ∂u              ∂                ∂           ⎟  M(u, v) - U(u,\n",
       "      + ⎜──(U(u, v))⋅──(U(u, v)) + ─────────────────────── + ─────────────────────── - ─────(U(u, v)) - ─────(V(u, v))⎟⋅ℯ              \n",
       "        ⎝∂u          ∂v                       2                         2              ∂v ∂u            ∂v ∂u         ⎠                \n",
       "\n",
       "             ⎤\n",
       "             ⎥\n",
       "             ⎥\n",
       "             ⎥\n",
       "             ⎥\n",
       "             ⎥\n",
       "             ⎥\n",
       "             ⎥\n",
       "             ⎥\n",
       "             ⎥\n",
       "             ⎥\n",
       "             ⎥\n",
       "             ⎥\n",
       "             ⎥\n",
       "             ⎥\n",
       "             ⎥\n",
       "             ⎥\n",
       "             ⎥\n",
       "             ⎥\n",
       "             ⎥\n",
       "             ⎥\n",
       "             ⎥\n",
       "             ⎥\n",
       "             ⎥\n",
       " v) - V(u, v)⎥\n",
       "             ⎥\n",
       "             ⎦"
      ]
     },
     "execution_count": 22,
     "metadata": {},
     "output_type": "execute_result"
    }
   ],
   "source": [
    "einst = EinsteinTensor.from_metric(metric)\n",
    "einst.tensor()"
   ]
  },
  {
   "cell_type": "code",
   "execution_count": 23,
   "id": "8bfe90c9",
   "metadata": {},
   "outputs": [],
   "source": [
    "#  rm1 = RiemannCurvatureTensor.from_christoffels(ch)\n",
    "#  rm1.tensor()"
   ]
  },
  {
   "cell_type": "code",
   "execution_count": 24,
   "id": "b6917d08",
   "metadata": {},
   "outputs": [],
   "source": [
    "#  weyl = WeylTensor.from_metric(metric)\n",
    "#  weyl.tensor()"
   ]
  },
  {
   "cell_type": "code",
   "execution_count": 25,
   "id": "7481d179",
   "metadata": {},
   "outputs": [
    {
     "data": {
      "text/latex": [
       "$\\displaystyle \\left[\\begin{matrix}\\frac{\\partial}{\\partial u} M{\\left(u,v \\right)} \\frac{\\partial}{\\partial u} U{\\left(u,v \\right)} - \\frac{\\left(\\frac{\\partial}{\\partial u} U{\\left(u,v \\right)}\\right)^{2}}{2} + \\frac{\\partial^{2}}{\\partial u^{2}} U{\\left(u,v \\right)} - \\frac{\\left(\\frac{\\partial}{\\partial u} V{\\left(u,v \\right)}\\right)^{2}}{2} & - \\frac{\\frac{\\partial}{\\partial u} U{\\left(u,v \\right)} \\frac{\\partial}{\\partial v} U{\\left(u,v \\right)}}{2} - \\frac{\\frac{\\partial}{\\partial u} V{\\left(u,v \\right)} \\frac{\\partial}{\\partial v} V{\\left(u,v \\right)}}{2} + \\frac{\\partial^{2}}{\\partial v\\partial u} M{\\left(u,v \\right)} + \\frac{\\partial^{2}}{\\partial v\\partial u} U{\\left(u,v \\right)} & 0 & 0\\\\- \\frac{\\frac{\\partial}{\\partial u} U{\\left(u,v \\right)} \\frac{\\partial}{\\partial v} U{\\left(u,v \\right)}}{2} - \\frac{\\frac{\\partial}{\\partial u} V{\\left(u,v \\right)} \\frac{\\partial}{\\partial v} V{\\left(u,v \\right)}}{2} + \\frac{\\partial^{2}}{\\partial v\\partial u} M{\\left(u,v \\right)} + \\frac{\\partial^{2}}{\\partial v\\partial u} U{\\left(u,v \\right)} & \\frac{\\partial}{\\partial v} M{\\left(u,v \\right)} \\frac{\\partial}{\\partial v} U{\\left(u,v \\right)} - \\frac{\\left(\\frac{\\partial}{\\partial v} U{\\left(u,v \\right)}\\right)^{2}}{2} + \\frac{\\partial^{2}}{\\partial v^{2}} U{\\left(u,v \\right)} - \\frac{\\left(\\frac{\\partial}{\\partial v} V{\\left(u,v \\right)}\\right)^{2}}{2} & 0 & 0\\\\0 & 0 & \\left(\\frac{\\partial}{\\partial u} U{\\left(u,v \\right)} \\frac{\\partial}{\\partial v} U{\\left(u,v \\right)} - \\frac{\\frac{\\partial}{\\partial u} U{\\left(u,v \\right)} \\frac{\\partial}{\\partial v} V{\\left(u,v \\right)}}{2} - \\frac{\\frac{\\partial}{\\partial v} U{\\left(u,v \\right)} \\frac{\\partial}{\\partial u} V{\\left(u,v \\right)}}{2} - \\frac{\\partial^{2}}{\\partial v\\partial u} U{\\left(u,v \\right)} + \\frac{\\partial^{2}}{\\partial v\\partial u} V{\\left(u,v \\right)}\\right) e^{M{\\left(u,v \\right)} - U{\\left(u,v \\right)} + V{\\left(u,v \\right)}} & 0\\\\0 & 0 & 0 & \\left(\\frac{\\partial}{\\partial u} U{\\left(u,v \\right)} \\frac{\\partial}{\\partial v} U{\\left(u,v \\right)} + \\frac{\\frac{\\partial}{\\partial u} U{\\left(u,v \\right)} \\frac{\\partial}{\\partial v} V{\\left(u,v \\right)}}{2} + \\frac{\\frac{\\partial}{\\partial v} U{\\left(u,v \\right)} \\frac{\\partial}{\\partial u} V{\\left(u,v \\right)}}{2} - \\frac{\\partial^{2}}{\\partial v\\partial u} U{\\left(u,v \\right)} - \\frac{\\partial^{2}}{\\partial v\\partial u} V{\\left(u,v \\right)}\\right) e^{M{\\left(u,v \\right)} - U{\\left(u,v \\right)} - V{\\left(u,v \\right)}}\\end{matrix}\\right]$"
      ],
      "text/plain": [
       "⎡                                             2                               2                                                        \n",
       "⎢                                ⎛∂          ⎞                   ⎛∂          ⎞            ∂           ∂             ∂           ∂      \n",
       "⎢                                ⎜──(U(u, v))⎟      2            ⎜──(V(u, v))⎟            ──(U(u, v))⋅──(U(u, v))   ──(V(u, v))⋅──(V(u,\n",
       "⎢      ∂           ∂             ⎝∂u         ⎠     ∂             ⎝∂u         ⎠            ∂u          ∂v            ∂u          ∂v     \n",
       "⎢      ──(M(u, v))⋅──(U(u, v)) - ────────────── + ───(U(u, v)) - ──────────────         - ─────────────────────── - ───────────────────\n",
       "⎢      ∂u          ∂u                  2            2                  2                             2                         2       \n",
       "⎢                                                 ∂u                                                                                   \n",
       "⎢                                                                                                                                      \n",
       "⎢                                                                                                                                    2 \n",
       "⎢  ∂           ∂             ∂           ∂                                                                              ⎛∂          ⎞  \n",
       "⎢  ──(U(u, v))⋅──(U(u, v))   ──(V(u, v))⋅──(V(u, v))      2                2                                            ⎜──(U(u, v))⎟  \n",
       "⎢  ∂u          ∂v            ∂u          ∂v              ∂                ∂                   ∂           ∂             ⎝∂v         ⎠  \n",
       "⎢- ─────────────────────── - ─────────────────────── + ─────(M(u, v)) + ─────(U(u, v))        ──(M(u, v))⋅──(U(u, v)) - ────────────── \n",
       "⎢             2                         2              ∂v ∂u            ∂v ∂u                 ∂v          ∂v                  2        \n",
       "⎢                                                                                                                                      \n",
       "⎢                                                                                                                                      \n",
       "⎢                                                                                                                                      \n",
       "⎢                                                                                                                                      \n",
       "⎢                                                                                                                                      \n",
       "⎢                                          0                                                                                      0    \n",
       "⎢                                                                                                                                      \n",
       "⎢                                                                                                                                      \n",
       "⎢                                                                                                                                      \n",
       "⎢                                                                                                                                      \n",
       "⎢                                                                                                                                      \n",
       "⎢                                          0                                                                                      0    \n",
       "⎣                                                                                                                                      \n",
       "\n",
       "                                                                                                                                       \n",
       "                                                                                                                                       \n",
       " v))      2                2                                                                                                           \n",
       "         ∂                ∂                                                                                                            \n",
       "──── + ─────(M(u, v)) + ─────(U(u, v))                                                                       0                         \n",
       "       ∂v ∂u            ∂v ∂u                                                                                                          \n",
       "                                                                                                                                       \n",
       "                                                                                                                                       \n",
       "                              2                                                                                                        \n",
       "                 ⎛∂          ⎞                                                                                                         \n",
       "    2            ⎜──(V(u, v))⎟                                                                                                         \n",
       "   ∂             ⎝∂v         ⎠                                                                                                         \n",
       "+ ───(U(u, v)) - ──────────────                                                                              0                         \n",
       "    2                  2                                                                                                               \n",
       "  ∂v                                                                                                                                   \n",
       "                                                                                                                                       \n",
       "                                        ⎛                          ∂           ∂             ∂           ∂                             \n",
       "                                        ⎜                          ──(U(u, v))⋅──(V(u, v))   ──(U(u, v))⋅──(V(u, v))      2            \n",
       "                                        ⎜∂           ∂             ∂u          ∂v            ∂v          ∂u              ∂             \n",
       "                                        ⎜──(U(u, v))⋅──(U(u, v)) - ─────────────────────── - ─────────────────────── - ─────(U(u, v)) +\n",
       "                                        ⎝∂u          ∂v                       2                         2              ∂v ∂u           \n",
       "                                                                                                                                       \n",
       "                                                                                                                                       \n",
       "                                                                                                                                       \n",
       "                                                                                                                                       \n",
       "                                                                                                             0                         \n",
       "                                                                                                                                       \n",
       "\n",
       "                                                                                                                                       \n",
       "                                                                                                                                       \n",
       "                                                                                                                                       \n",
       "                                                                                                                                       \n",
       "                                                                                                                    0                  \n",
       "                                                                                                                                       \n",
       "                                                                                                                                       \n",
       "                                                                                                                                       \n",
       "                                                                                                                                       \n",
       "                                                                                                                                       \n",
       "                                                                                                                                       \n",
       "                                                                                                                                       \n",
       "                                                                                                                    0                  \n",
       "                                                                                                                                       \n",
       "                                                                                                                                       \n",
       "                                                                                                                                       \n",
       "               ⎞                                                                                                                       \n",
       "    2          ⎟                                                                                                                       \n",
       "   ∂           ⎟  M(u, v) - U(u, v) + V(u, v)                                                                                          \n",
       " ─────(V(u, v))⎟⋅ℯ                                                                                                  0                  \n",
       " ∂v ∂u         ⎠                                                                                                                       \n",
       "                                                                                                                                       \n",
       "                                               ⎛                          ∂           ∂             ∂           ∂                      \n",
       "                                               ⎜                          ──(U(u, v))⋅──(V(u, v))   ──(U(u, v))⋅──(V(u, v))      2     \n",
       "                                               ⎜∂           ∂             ∂u          ∂v            ∂v          ∂u              ∂      \n",
       "                                               ⎜──(U(u, v))⋅──(U(u, v)) + ─────────────────────── + ─────────────────────── - ─────(U(u\n",
       "                                               ⎝∂u          ∂v                       2                         2              ∂v ∂u    \n",
       "\n",
       "                                                    ⎤\n",
       "                                                    ⎥\n",
       "                                                    ⎥\n",
       "                                                    ⎥\n",
       "                                                    ⎥\n",
       "                                                    ⎥\n",
       "                                                    ⎥\n",
       "                                                    ⎥\n",
       "                                                    ⎥\n",
       "                                                    ⎥\n",
       "                                                    ⎥\n",
       "                                                    ⎥\n",
       "                                                    ⎥\n",
       "                                                    ⎥\n",
       "                                                    ⎥\n",
       "                                                    ⎥\n",
       "                                                    ⎥\n",
       "                                                    ⎥\n",
       "                                                    ⎥\n",
       "                                                    ⎥\n",
       "                                                    ⎥\n",
       "                                                    ⎥\n",
       "                      ⎞                             ⎥\n",
       "           2          ⎟                             ⎥\n",
       "          ∂           ⎟  M(u, v) - U(u, v) - V(u, v)⎥\n",
       ", v)) - ─────(V(u, v))⎟⋅ℯ                           ⎥\n",
       "        ∂v ∂u         ⎠                             ⎦"
      ]
     },
     "execution_count": 25,
     "metadata": {},
     "output_type": "execute_result"
    }
   ],
   "source": [
    "ricciSimplified = simplify(Ric.tensor())\n",
    "ricciSimplified"
   ]
  },
  {
   "cell_type": "code",
   "execution_count": 26,
   "id": "224c2c0d",
   "metadata": {},
   "outputs": [
    {
     "data": {
      "text/latex": [
       "$\\displaystyle \\left[\\begin{matrix}\\frac{\\partial}{\\partial u} M{\\left(u,v \\right)} \\frac{\\partial}{\\partial u} U{\\left(u,v \\right)} - \\frac{\\left(\\frac{\\partial}{\\partial u} U{\\left(u,v \\right)}\\right)^{2}}{2} + \\frac{\\partial^{2}}{\\partial u^{2}} U{\\left(u,v \\right)} - \\frac{\\left(\\frac{\\partial}{\\partial u} V{\\left(u,v \\right)}\\right)^{2}}{2} & 1.0 \\frac{\\partial}{\\partial u} U{\\left(u,v \\right)} \\frac{\\partial}{\\partial v} U{\\left(u,v \\right)} - 1.0 \\frac{\\partial^{2}}{\\partial v\\partial u} U{\\left(u,v \\right)} & 0 & 0\\\\1.0 \\frac{\\partial}{\\partial u} U{\\left(u,v \\right)} \\frac{\\partial}{\\partial v} U{\\left(u,v \\right)} - 1.0 \\frac{\\partial^{2}}{\\partial v\\partial u} U{\\left(u,v \\right)} & \\frac{\\partial}{\\partial v} M{\\left(u,v \\right)} \\frac{\\partial}{\\partial v} U{\\left(u,v \\right)} - \\frac{\\left(\\frac{\\partial}{\\partial v} U{\\left(u,v \\right)}\\right)^{2}}{2} + \\frac{\\partial^{2}}{\\partial v^{2}} U{\\left(u,v \\right)} - \\frac{\\left(\\frac{\\partial}{\\partial v} V{\\left(u,v \\right)}\\right)^{2}}{2} & 0 & 0\\\\0 & 0 & \\left(- 0.5 \\frac{\\partial}{\\partial u} U{\\left(u,v \\right)} \\frac{\\partial}{\\partial v} U{\\left(u,v \\right)} - \\frac{\\frac{\\partial}{\\partial u} U{\\left(u,v \\right)} \\frac{\\partial}{\\partial v} V{\\left(u,v \\right)}}{2} - \\frac{\\frac{\\partial}{\\partial v} U{\\left(u,v \\right)} \\frac{\\partial}{\\partial u} V{\\left(u,v \\right)}}{2} - 0.5 \\frac{\\partial}{\\partial u} V{\\left(u,v \\right)} \\frac{\\partial}{\\partial v} V{\\left(u,v \\right)} + \\frac{\\partial^{2}}{\\partial v\\partial u} M{\\left(u,v \\right)} + \\frac{\\partial^{2}}{\\partial v\\partial u} U{\\left(u,v \\right)} + \\frac{\\partial^{2}}{\\partial v\\partial u} V{\\left(u,v \\right)}\\right) e^{M{\\left(u,v \\right)} - U{\\left(u,v \\right)} + V{\\left(u,v \\right)}} & 0\\\\0 & 0 & 0 & \\left(- 0.5 \\frac{\\partial}{\\partial u} U{\\left(u,v \\right)} \\frac{\\partial}{\\partial v} U{\\left(u,v \\right)} + \\frac{\\frac{\\partial}{\\partial u} U{\\left(u,v \\right)} \\frac{\\partial}{\\partial v} V{\\left(u,v \\right)}}{2} + \\frac{\\frac{\\partial}{\\partial v} U{\\left(u,v \\right)} \\frac{\\partial}{\\partial u} V{\\left(u,v \\right)}}{2} - 0.5 \\frac{\\partial}{\\partial u} V{\\left(u,v \\right)} \\frac{\\partial}{\\partial v} V{\\left(u,v \\right)} + \\frac{\\partial^{2}}{\\partial v\\partial u} M{\\left(u,v \\right)} + \\frac{\\partial^{2}}{\\partial v\\partial u} U{\\left(u,v \\right)} - \\frac{\\partial^{2}}{\\partial v\\partial u} V{\\left(u,v \\right)}\\right) e^{M{\\left(u,v \\right)} - U{\\left(u,v \\right)} - V{\\left(u,v \\right)}}\\end{matrix}\\right]$"
      ],
      "text/plain": [
       "⎡                                       2                               2                                                              \n",
       "⎢                          ⎛∂          ⎞                   ⎛∂          ⎞                                                               \n",
       "⎢                          ⎜──(U(u, v))⎟      2            ⎜──(V(u, v))⎟                                                  2            \n",
       "⎢∂           ∂             ⎝∂u         ⎠     ∂             ⎝∂u         ⎠                     ∂           ∂               ∂             \n",
       "⎢──(M(u, v))⋅──(U(u, v)) - ────────────── + ───(U(u, v)) - ──────────────                1.0⋅──(U(u, v))⋅──(U(u, v)) - ─────(U(u, v))  \n",
       "⎢∂u          ∂u                  2            2                  2                           ∂u          ∂v            ∂v ∂u           \n",
       "⎢                                           ∂u                                                                                         \n",
       "⎢                                                                                                                                      \n",
       "⎢                                                                                                                 2                    \n",
       "⎢                                                                                                    ⎛∂          ⎞                   ⎛∂\n",
       "⎢                                               2                                                    ⎜──(U(u, v))⎟      2            ⎜─\n",
       "⎢                  ∂           ∂               ∂                           ∂           ∂             ⎝∂v         ⎠     ∂             ⎝∂\n",
       "⎢              1.0⋅──(U(u, v))⋅──(U(u, v)) - ─────(U(u, v))                ──(M(u, v))⋅──(U(u, v)) - ────────────── + ───(U(u, v)) - ──\n",
       "⎢                  ∂u          ∂v            ∂v ∂u                         ∂v          ∂v                  2            2              \n",
       "⎢                                                                                                                     ∂v               \n",
       "⎢                                                                                                                                      \n",
       "⎢                                                                                                                                      \n",
       "⎢                                                                                                                                      \n",
       "⎢                                                                                                                                      \n",
       "⎢                                   0                                                                         0                        \n",
       "⎢                                                                                                                                      \n",
       "⎢                                                                                                                                      \n",
       "⎢                                                                                                                                      \n",
       "⎢                                                                                                                                      \n",
       "⎢                                                                                                                                      \n",
       "⎢                                   0                                                                         0                        \n",
       "⎣                                                                                                                                      \n",
       "\n",
       "                                                                                                                                       \n",
       "                                                                                                                                       \n",
       "                                                                                                                                       \n",
       "                                                                                                                                       \n",
       "                                                                                                              0                        \n",
       "                                                                                                                                       \n",
       "                                                                                                                                       \n",
       "                                                                                                                                       \n",
       "           2                                                                                                                           \n",
       "          ⎞                                                                                                                            \n",
       "─(V(u, v))⎟                                                                                                                            \n",
       "v         ⎠                                                                                                                            \n",
       "────────────                                                                                                  0                        \n",
       "    2                                                                                                                                  \n",
       "                                                                                                                                       \n",
       "                                                                                                                                       \n",
       "              ⎛                                ∂           ∂             ∂           ∂                                                 \n",
       "              ⎜                                ──(U(u, v))⋅──(V(u, v))   ──(U(u, v))⋅──(V(u, v))                                    2  \n",
       "              ⎜      ∂           ∂             ∂u          ∂v            ∂v          ∂u                ∂           ∂               ∂   \n",
       "              ⎜- 0.5⋅──(U(u, v))⋅──(U(u, v)) - ─────────────────────── - ─────────────────────── - 0.5⋅──(V(u, v))⋅──(V(u, v)) + ─────(\n",
       "              ⎝      ∂u          ∂v                       2                         2                  ∂u          ∂v            ∂v ∂u \n",
       "                                                                                                                                       \n",
       "                                                                                                                                       \n",
       "                                                                                                                                       \n",
       "                                                                                                                                       \n",
       "                                                                                                              0                        \n",
       "                                                                                                                                       \n",
       "\n",
       "                                                                                                                                       \n",
       "                                                                                                                                       \n",
       "                                                                                                                                       \n",
       "                                                                                                                                       \n",
       "                                                                                                                                       \n",
       "                                                                                                                                       \n",
       "                                                                                                                                       \n",
       "                                                                                                                                       \n",
       "                                                                                                                                       \n",
       "                                                                                                                                       \n",
       "                                                                                                                                       \n",
       "                                                                                                                                       \n",
       "                                                                                                                                       \n",
       "                                                                                                                                       \n",
       "                                                                                                                                       \n",
       "                                                                                                                                       \n",
       "                                          ⎞                                                                                            \n",
       "              2                2          ⎟                                                                                            \n",
       "             ∂                ∂           ⎟  M(u, v) - U(u, v) + V(u, v)                                                               \n",
       "M(u, v)) + ─────(U(u, v)) + ─────(V(u, v))⎟⋅ℯ                                                                                          \n",
       "           ∂v ∂u            ∂v ∂u         ⎠                                                                                            \n",
       "                                                                                                                                       \n",
       "                                                                          ⎛                                ∂           ∂             ∂ \n",
       "                                                                          ⎜                                ──(U(u, v))⋅──(V(u, v))   ──\n",
       "                                                                          ⎜      ∂           ∂             ∂u          ∂v            ∂v\n",
       "                                                                          ⎜- 0.5⋅──(U(u, v))⋅──(U(u, v)) + ─────────────────────── + ──\n",
       "                                                                          ⎝      ∂u          ∂v                       2                \n",
       "\n",
       "                                                                                                                                    ⎤\n",
       "                                                                                                                                    ⎥\n",
       "                                                                                                                                    ⎥\n",
       "                                                                                                                                    ⎥\n",
       "                                   0                                                                                                ⎥\n",
       "                                                                                                                                    ⎥\n",
       "                                                                                                                                    ⎥\n",
       "                                                                                                                                    ⎥\n",
       "                                                                                                                                    ⎥\n",
       "                                                                                                                                    ⎥\n",
       "                                                                                                                                    ⎥\n",
       "                                                                                                                                    ⎥\n",
       "                                   0                                                                                                ⎥\n",
       "                                                                                                                                    ⎥\n",
       "                                                                                                                                    ⎥\n",
       "                                                                                                                                    ⎥\n",
       "                                                                                                                                    ⎥\n",
       "                                                                                                                                    ⎥\n",
       "                                                                                                                                    ⎥\n",
       "                                   0                                                                                                ⎥\n",
       "                                                                                                                                    ⎥\n",
       "                                                                                                                                    ⎥\n",
       "          ∂                                                                                           ⎞                             ⎥\n",
       "(U(u, v))⋅──(V(u, v))                                    2                2                2          ⎟                             ⎥\n",
       "          ∂u                ∂           ∂               ∂                ∂                ∂           ⎟  M(u, v) - U(u, v) - V(u, v)⎥\n",
       "───────────────────── - 0.5⋅──(V(u, v))⋅──(V(u, v)) + ─────(M(u, v)) + ─────(U(u, v)) - ─────(V(u, v))⎟⋅ℯ                           ⎥\n",
       "         2                  ∂u          ∂v            ∂v ∂u            ∂v ∂u            ∂v ∂u         ⎠                             ⎦"
      ]
     },
     "execution_count": 26,
     "metadata": {},
     "output_type": "execute_result"
    }
   ],
   "source": [
    "einsteinSimplified = simplify(einst.tensor())\n",
    "einsteinSimplified"
   ]
  },
  {
   "cell_type": "code",
   "execution_count": 29,
   "id": "e829da24",
   "metadata": {},
   "outputs": [
    {
     "data": {
      "image/png": "[encoded data removed]",
      "text/latex": [
       "$\\displaystyle \\frac{\\partial^{2}}{\\partial v\\partial u} U{\\left(u,v \\right)} = \\frac{\\partial}{\\partial u} U{\\left(u,v \\right)} \\frac{\\partial}{\\partial v} U{\\left(u,v \\right)}$"
      ],
      "text/plain": [
       "   2                                    \n",
       "  ∂              ∂           ∂          \n",
       "─────(U(u, v)) = ──(U(u, v))⋅──(U(u, v))\n",
       "∂v ∂u            ∂u          ∂v         "
      ]
     },
     "execution_count": 29,
     "metadata": {},
     "output_type": "execute_result"
    }
   ],
   "source": [
    "equation5 = Eq(diff(U,u,v), solve( einsteinSimplified[1,0], diff(U,u,v) )[0] ) \n",
    "equation5"
   ]
  },
  {
   "cell_type": "code",
   "execution_count": 59,
   "id": "eca87126",
   "metadata": {},
   "outputs": [
    {
     "data": {
      "image/png": "[encoded data removed]",
      "text/latex": [
       "$\\displaystyle 2 \\frac{\\partial^{2}}{\\partial u^{2}} U{\\left(u,v \\right)} = - 2 \\frac{\\partial}{\\partial u} M{\\left(u,v \\right)} \\frac{\\partial}{\\partial u} U{\\left(u,v \\right)} + \\left(\\frac{\\partial}{\\partial u} U{\\left(u,v \\right)}\\right)^{2} + \\left(\\frac{\\partial}{\\partial u} V{\\left(u,v \\right)}\\right)^{2}$"
      ],
      "text/plain": [
       "    2                                                       2                2\n",
       "   ∂                 ∂           ∂             ⎛∂          ⎞    ⎛∂          ⎞ \n",
       "2⋅───(U(u, v)) = - 2⋅──(M(u, v))⋅──(U(u, v)) + ⎜──(U(u, v))⎟  + ⎜──(V(u, v))⎟ \n",
       "    2                ∂u          ∂u            ⎝∂u         ⎠    ⎝∂u         ⎠ \n",
       "  ∂u                                                                          "
      ]
     },
     "execution_count": 59,
     "metadata": {},
     "output_type": "execute_result"
    }
   ],
   "source": [
    "equation6 = Eq(2*diff(U,u,u), 2*solve( einsteinSimplified[0,0], diff(U,u,u) )[0] ) \n",
    "equation6"
   ]
  },
  {
   "cell_type": "code",
   "execution_count": 58,
   "id": "a4e66feb",
   "metadata": {},
   "outputs": [
    {
     "data": {
      "image/png": "[encoded data removed]",
      "text/latex": [
       "$\\displaystyle 2 \\frac{\\partial^{2}}{\\partial v^{2}} U{\\left(u,v \\right)} = - 2 \\frac{\\partial}{\\partial v} M{\\left(u,v \\right)} \\frac{\\partial}{\\partial v} U{\\left(u,v \\right)} + \\left(\\frac{\\partial}{\\partial v} U{\\left(u,v \\right)}\\right)^{2} + \\left(\\frac{\\partial}{\\partial v} V{\\left(u,v \\right)}\\right)^{2}$"
      ],
      "text/plain": [
       "    2                                                       2                2\n",
       "   ∂                 ∂           ∂             ⎛∂          ⎞    ⎛∂          ⎞ \n",
       "2⋅───(U(u, v)) = - 2⋅──(M(u, v))⋅──(U(u, v)) + ⎜──(U(u, v))⎟  + ⎜──(V(u, v))⎟ \n",
       "    2                ∂v          ∂v            ⎝∂v         ⎠    ⎝∂v         ⎠ \n",
       "  ∂v                                                                          "
      ]
     },
     "execution_count": 58,
     "metadata": {},
     "output_type": "execute_result"
    }
   ],
   "source": [
    "equation7 = Eq(2*diff(U,v,v), 2*solve( einsteinSimplified[1,1], diff(U,v,v) )[0] ) \n",
    "equation7 "
   ]
  },
  {
   "cell_type": "code",
   "execution_count": 57,
   "id": "b39bdec2",
   "metadata": {},
   "outputs": [
    {
     "data": {
      "image/png": "[encoded data removed]",
      "text/latex": [
       "$\\displaystyle 2 \\frac{\\partial^{2}}{\\partial v\\partial u} M{\\left(u,v \\right)} = - 1.0 \\frac{\\partial}{\\partial u} U{\\left(u,v \\right)} \\frac{\\partial}{\\partial v} U{\\left(u,v \\right)} + \\frac{\\partial}{\\partial u} V{\\left(u,v \\right)} \\frac{\\partial}{\\partial v} V{\\left(u,v \\right)}$"
      ],
      "text/plain": [
       "     2                                                                \n",
       "    ∂                ∂           ∂             ∂           ∂          \n",
       "2⋅─────(M(u, v)) = - ──(U(u, v))⋅──(U(u, v)) + ──(V(u, v))⋅──(V(u, v))\n",
       "  ∂v ∂u              ∂u          ∂v            ∂u          ∂v         "
      ]
     },
     "execution_count": 57,
     "metadata": {},
     "output_type": "execute_result"
    }
   ],
   "source": [
    "equation8 = Eq(2*diff(M,u,v), 2*solve( ( einsteinSimplified[2,2].args[0] + einsteinSimplified[3,3].args[0] ).subs(equation5.lhs,equation5.rhs) , diff(M,u,v) )[0] )\n",
    "equation8"
   ]
  },
  {
   "cell_type": "code",
   "execution_count": 60,
   "id": "da7e8648",
   "metadata": {},
   "outputs": [
    {
     "data": {
      "image/png": "[encoded data removed]",
      "text/latex": [
       "$\\displaystyle 2 \\frac{\\partial^{2}}{\\partial v\\partial u} V{\\left(u,v \\right)} = \\frac{\\partial}{\\partial u} U{\\left(u,v \\right)} \\frac{\\partial}{\\partial v} V{\\left(u,v \\right)} + \\frac{\\partial}{\\partial v} U{\\left(u,v \\right)} \\frac{\\partial}{\\partial u} V{\\left(u,v \\right)}$"
      ],
      "text/plain": [
       "     2                                                              \n",
       "    ∂              ∂           ∂             ∂           ∂          \n",
       "2⋅─────(V(u, v)) = ──(U(u, v))⋅──(V(u, v)) + ──(U(u, v))⋅──(V(u, v))\n",
       "  ∂v ∂u            ∂u          ∂v            ∂v          ∂u         "
      ]
     },
     "execution_count": 60,
     "metadata": {},
     "output_type": "execute_result"
    }
   ],
   "source": [
    "equation9 = Eq(2*diff(V,u,v), 2*solve( ( einsteinSimplified[2,2].args[0] - einsteinSimplified[3,3].args[0] ), diff(V,u,v) )[0] ) \n",
    "equation9"
   ]
  },
  {
   "cell_type": "code",
   "execution_count": 62,
   "id": "ab4a2942",
   "metadata": {},
   "outputs": [
    {
     "data": {
      "text/latex": [
       "$\\displaystyle \\left[\\begin{matrix}\\frac{\\partial^{2}}{\\partial v\\partial u} U{\\left(u,v \\right)} = \\frac{\\partial}{\\partial u} U{\\left(u,v \\right)} \\frac{\\partial}{\\partial v} U{\\left(u,v \\right)}\\\\2 \\frac{\\partial^{2}}{\\partial u^{2}} U{\\left(u,v \\right)} = - 2 \\frac{\\partial}{\\partial u} M{\\left(u,v \\right)} \\frac{\\partial}{\\partial u} U{\\left(u,v \\right)} + \\left(\\frac{\\partial}{\\partial u} U{\\left(u,v \\right)}\\right)^{2} + \\left(\\frac{\\partial}{\\partial u} V{\\left(u,v \\right)}\\right)^{2}\\\\2 \\frac{\\partial^{2}}{\\partial v^{2}} U{\\left(u,v \\right)} = - 2 \\frac{\\partial}{\\partial v} M{\\left(u,v \\right)} \\frac{\\partial}{\\partial v} U{\\left(u,v \\right)} + \\left(\\frac{\\partial}{\\partial v} U{\\left(u,v \\right)}\\right)^{2} + \\left(\\frac{\\partial}{\\partial v} V{\\left(u,v \\right)}\\right)^{2}\\\\2 \\frac{\\partial^{2}}{\\partial v\\partial u} M{\\left(u,v \\right)} = - 1.0 \\frac{\\partial}{\\partial u} U{\\left(u,v \\right)} \\frac{\\partial}{\\partial v} U{\\left(u,v \\right)} + \\frac{\\partial}{\\partial u} V{\\left(u,v \\right)} \\frac{\\partial}{\\partial v} V{\\left(u,v \\right)}\\\\2 \\frac{\\partial^{2}}{\\partial v\\partial u} V{\\left(u,v \\right)} = \\frac{\\partial}{\\partial u} U{\\left(u,v \\right)} \\frac{\\partial}{\\partial v} V{\\left(u,v \\right)} + \\frac{\\partial}{\\partial v} U{\\left(u,v \\right)} \\frac{\\partial}{\\partial u} V{\\left(u,v \\right)}\\end{matrix}\\right]$"
      ],
      "text/plain": [
       "⎡                      2                                                       ⎤\n",
       "⎢                     ∂              ∂           ∂                             ⎥\n",
       "⎢                   ─────(U(u, v)) = ──(U(u, v))⋅──(U(u, v))                   ⎥\n",
       "⎢                   ∂v ∂u            ∂u          ∂v                            ⎥\n",
       "⎢                                                                              ⎥\n",
       "⎢    2                                                       2                2⎥\n",
       "⎢   ∂                 ∂           ∂             ⎛∂          ⎞    ⎛∂          ⎞ ⎥\n",
       "⎢2⋅───(U(u, v)) = - 2⋅──(M(u, v))⋅──(U(u, v)) + ⎜──(U(u, v))⎟  + ⎜──(V(u, v))⎟ ⎥\n",
       "⎢    2                ∂u          ∂u            ⎝∂u         ⎠    ⎝∂u         ⎠ ⎥\n",
       "⎢  ∂u                                                                          ⎥\n",
       "⎢                                                                              ⎥\n",
       "⎢    2                                                       2                2⎥\n",
       "⎢   ∂                 ∂           ∂             ⎛∂          ⎞    ⎛∂          ⎞ ⎥\n",
       "⎢2⋅───(U(u, v)) = - 2⋅──(M(u, v))⋅──(U(u, v)) + ⎜──(U(u, v))⎟  + ⎜──(V(u, v))⎟ ⎥\n",
       "⎢    2                ∂v          ∂v            ⎝∂v         ⎠    ⎝∂v         ⎠ ⎥\n",
       "⎢  ∂v                                                                          ⎥\n",
       "⎢                                                                              ⎥\n",
       "⎢         2                                                                    ⎥\n",
       "⎢        ∂                ∂           ∂             ∂           ∂              ⎥\n",
       "⎢    2⋅─────(M(u, v)) = - ──(U(u, v))⋅──(U(u, v)) + ──(V(u, v))⋅──(V(u, v))    ⎥\n",
       "⎢      ∂v ∂u              ∂u          ∂v            ∂u          ∂v             ⎥\n",
       "⎢                                                                              ⎥\n",
       "⎢          2                                                                   ⎥\n",
       "⎢         ∂              ∂           ∂             ∂           ∂               ⎥\n",
       "⎢     2⋅─────(V(u, v)) = ──(U(u, v))⋅──(V(u, v)) + ──(U(u, v))⋅──(V(u, v))     ⎥\n",
       "⎣       ∂v ∂u            ∂u          ∂v            ∂v          ∂u              ⎦"
      ]
     },
     "execution_count": 62,
     "metadata": {},
     "output_type": "execute_result"
    }
   ],
   "source": [
    "vacuumFieldEquations = Matrix([equation5,equation6,equation7,equation8,equation9])\n",
    "vacuumFieldEquations"
   ]
  },
  {
   "cell_type": "code",
   "execution_count": 65,
   "id": "4be829e6",
   "metadata": {},
   "outputs": [
    {
     "data": {
      "image/png": "[encoded data removed]",
      "text/latex": [
       "$\\displaystyle U{\\left(u,v \\right)} = - \\log{\\left(f{\\left(u \\right)} + g{\\left(v \\right)} \\right)}$"
      ],
      "text/plain": [
       "U(u, v) = -log(f(u) + g(v))"
      ]
     },
     "execution_count": 65,
     "metadata": {},
     "output_type": "execute_result"
    }
   ],
   "source": [
    "equation9a = Eq(U, - log(f+g))\n",
    "equation9a"
   ]
  },
  {
   "cell_type": "code",
   "execution_count": 66,
   "id": "1557268c",
   "metadata": {},
   "outputs": [
    {
     "data": {
      "image/png": "[encoded data removed]",
      "text/latex": [
       "$\\displaystyle \\frac{\\partial^{2}}{\\partial v\\partial u} \\left(- \\log{\\left(f{\\left(u \\right)} + g{\\left(v \\right)} \\right)}\\right) = \\frac{\\partial}{\\partial u} \\left(- \\log{\\left(f{\\left(u \\right)} + g{\\left(v \\right)} \\right)}\\right) \\frac{\\partial}{\\partial v} \\left(- \\log{\\left(f{\\left(u \\right)} + g{\\left(v \\right)} \\right)}\\right)$"
      ],
      "text/plain": [
       "   2                                                                  \n",
       "  ∂                        ∂                     ∂                    \n",
       "─────(-log(f(u) + g(v))) = ──(-log(f(u) + g(v)))⋅──(-log(f(u) + g(v)))\n",
       "∂v ∂u                      ∂u                    ∂v                   "
      ]
     },
     "execution_count": 66,
     "metadata": {},
     "output_type": "execute_result"
    }
   ],
   "source": [
    "equation5.subs(equation9a.lhs,equation9a.rhs)"
   ]
  },
  {
   "cell_type": "code",
   "execution_count": 67,
   "id": "86524063",
   "metadata": {},
   "outputs": [
    {
     "data": {
      "text/latex": [
       "$\\displaystyle \\text{True}$"
      ],
      "text/plain": [
       "True"
      ]
     },
     "execution_count": 67,
     "metadata": {},
     "output_type": "execute_result"
    }
   ],
   "source": [
    "equation5.subs(equation9a.lhs,equation9a.rhs).doit()"
   ]
  },
  {
   "cell_type": "code",
   "execution_count": null,
   "id": "545637b6",
   "metadata": {},
   "outputs": [],
   "source": []
  }
 ],
 "metadata": {
  "@webio": {
   "lastCommId": "89e8065a6c444b0487bcbbbf296348af",
   "lastKernelId": "aee49037-ce18-49b0-8f5a-c033679593d5"
  },
  "kernelspec": {
   "display_name": "Python 3 (ipykernel)",
   "language": "python",
   "name": "python3"
  },
  "language_info": {
   "codemirror_mode": {
    "name": "ipython",
    "version": 3
   },
   "file_extension": ".py",
   "mimetype": "text/x-python",
   "name": "python",
   "nbconvert_exporter": "python",
   "pygments_lexer": "ipython3",
   "version": "3.8.8"
  }
 },
 "nbformat": 4,
 "nbformat_minor": 5
}
