{
 "cells": [
  {
   "cell_type": "markdown",
   "id": "1aeddecf",
   "metadata": {},
   "source": [
    "# Isotropic singularities in cosmological models by Goode & Wainwright\n",
    "##  Geoff Cope\n",
    "##  Univeristy of Utah\n",
    "##  December 25, 2021 Christmas Day AND launch of JWST!"
   ]
  },
  {
   "cell_type": "markdown",
   "id": "2fa956ac",
   "metadata": {},
   "source": [
    "https://iopscience.iop.org/article/10.1088/0264-9381/2/1/010/meta"
   ]
  },
  {
   "cell_type": "code",
   "execution_count": 1,
   "id": "10eb8d9e",
   "metadata": {},
   "outputs": [
    {
     "name": "stdout",
     "output_type": "stream",
     "text": [
      "IPython console for SymPy 1.9 (Python 3.8.8-64-bit) (ground types: gmpy)\n",
      "\n",
      "These commands were executed:\n",
      ">>> from __future__ import division\n",
      ">>> from sympy import *\n",
      ">>> x, y, z, t = symbols('x y z t')\n",
      ">>> k, m, n = symbols('k m n', integer=True)\n",
      ">>> f, g, h = symbols('f g h', cls=Function)\n",
      ">>> init_printing()\n",
      "\n",
      "Documentation can be found at https://docs.sympy.org/1.9/\n",
      "\n"
     ]
    }
   ],
   "source": [
    "from sympy import init_session\n",
    "init_session(use_latex=True)"
   ]
  },
  {
   "cell_type": "code",
   "execution_count": 2,
   "id": "15d8f85e",
   "metadata": {},
   "outputs": [],
   "source": [
    "import warnings\n",
    "import matplotlib.cbook\n",
    "warnings.filterwarnings(\"ignore\",category=matplotlib.cbook.mplDeprecation)"
   ]
  },
  {
   "cell_type": "code",
   "execution_count": 3,
   "id": "0a181f56",
   "metadata": {},
   "outputs": [],
   "source": [
    "b,t,x,y,z,dt,dx,dy,dz = symbols('b t x y z dt dx dy dz')"
   ]
  },
  {
   "cell_type": "code",
   "execution_count": 4,
   "id": "3d7ec0f2",
   "metadata": {},
   "outputs": [
    {
     "data": {
      "text/latex": [
       "$\\displaystyle \\left[\\begin{matrix}t\\\\x\\\\y\\\\z\\end{matrix}\\right]$"
      ],
      "text/plain": [
       "⎡t⎤\n",
       "⎢ ⎥\n",
       "⎢x⎥\n",
       "⎢ ⎥\n",
       "⎢y⎥\n",
       "⎢ ⎥\n",
       "⎣z⎦"
      ]
     },
     "execution_count": 4,
     "metadata": {},
     "output_type": "execute_result"
    }
   ],
   "source": [
    "variables = Matrix( [t,x,y,z] )\n",
    "variables"
   ]
  },
  {
   "cell_type": "code",
   "execution_count": 5,
   "id": "9a9e21df",
   "metadata": {},
   "outputs": [
    {
     "data": {
      "text/latex": [
       "$\\displaystyle \\left[\\begin{matrix}dt\\\\dx\\\\dy\\\\dz\\end{matrix}\\right]$"
      ],
      "text/plain": [
       "⎡dt⎤\n",
       "⎢  ⎥\n",
       "⎢dx⎥\n",
       "⎢  ⎥\n",
       "⎢dy⎥\n",
       "⎢  ⎥\n",
       "⎣dz⎦"
      ]
     },
     "execution_count": 5,
     "metadata": {},
     "output_type": "execute_result"
    }
   ],
   "source": [
    "differentials = Matrix( [dt,dx,dy,dz] )\n",
    "differentials "
   ]
  },
  {
   "cell_type": "code",
   "execution_count": 7,
   "id": "0cb09c5d",
   "metadata": {},
   "outputs": [
    {
     "data": {
      "image/png": "[encoded data removed]",
      "text/latex": [
       "$\\displaystyle f{\\left(y \\right)}$"
      ],
      "text/plain": [
       "f(y)"
      ]
     },
     "execution_count": 7,
     "metadata": {},
     "output_type": "execute_result"
    }
   ],
   "source": [
    "f = Function('f')(y)\n",
    "f"
   ]
  },
  {
   "cell_type": "code",
   "execution_count": 8,
   "id": "5c1ef4e9",
   "metadata": {
    "scrolled": true
   },
   "outputs": [
    {
     "data": {
      "image/png": "[encoded data removed]",
      "text/latex": [
       "$\\displaystyle - dt^{2} + dx^{2} t + \\frac{dy^{2} t}{b^{2}} + \\frac{dz^{2} t f^{2}{\\left(y \\right)}}{b^{2}}$"
      ],
      "text/plain": [
       "                  2       2    2   \n",
       "    2     2     dy ⋅t   dz ⋅t⋅f (y)\n",
       "- dt  + dx ⋅t + ───── + ───────────\n",
       "                   2          2    \n",
       "                  b          b     "
      ]
     },
     "execution_count": 8,
     "metadata": {},
     "output_type": "execute_result"
    }
   ],
   "source": [
    "lineElement = expand(- dt**2 + t * ( dx**2 + b**-2 * ( dy**2 + f**2 * dz**2 )) )\n",
    "lineElement"
   ]
  },
  {
   "cell_type": "code",
   "execution_count": 9,
   "id": "c4a2358f",
   "metadata": {},
   "outputs": [
    {
     "data": {
      "text/latex": [
       "$\\displaystyle \\left[\\begin{matrix}-1 & 0 & 0 & 0\\\\0 & t & 0 & 0\\\\0 & 0 & \\frac{t}{b^{2}} & 0\\\\0 & 0 & 0 & \\frac{t f^{2}{\\left(y \\right)}}{b^{2}}\\end{matrix}\\right]$"
      ],
      "text/plain": [
       "⎡-1  0  0      0   ⎤\n",
       "⎢                  ⎥\n",
       "⎢0   t  0      0   ⎥\n",
       "⎢                  ⎥\n",
       "⎢       t          ⎥\n",
       "⎢0   0  ──     0   ⎥\n",
       "⎢        2         ⎥\n",
       "⎢       b          ⎥\n",
       "⎢                  ⎥\n",
       "⎢              2   ⎥\n",
       "⎢           t⋅f (y)⎥\n",
       "⎢0   0  0   ───────⎥\n",
       "⎢               2  ⎥\n",
       "⎣              b   ⎦"
      ]
     },
     "execution_count": 9,
     "metadata": {},
     "output_type": "execute_result"
    }
   ],
   "source": [
    "g = zeros(4)\n",
    "\n",
    "for i in range(4):\n",
    "    for j in range(4):\n",
    "        if i == j:\n",
    "            g[i,j] = lineElement.coeff( differentials[i],2 ) \n",
    "        else:\n",
    "            g[i,j] = Rational(1,2)*lineElement.coeff( differentials[i]*differentials[j],1 )\n",
    "            \n",
    "g"
   ]
  },
  {
   "cell_type": "code",
   "execution_count": 10,
   "id": "eb17982f",
   "metadata": {},
   "outputs": [],
   "source": [
    "import sympy"
   ]
  },
  {
   "cell_type": "code",
   "execution_count": 11,
   "id": "1f9ef9eb",
   "metadata": {},
   "outputs": [
    {
     "data": {
      "text/latex": [
       "$\\displaystyle \\left[\\begin{matrix}-1 & 0 & 0 & 0\\\\0 & t & 0 & 0\\\\0 & 0 & \\frac{t}{b^{2}} & 0\\\\0 & 0 & 0 & \\frac{t f^{2}{\\left(y \\right)}}{b^{2}}\\end{matrix}\\right]$"
      ],
      "text/plain": [
       "⎡-1  0  0      0   ⎤\n",
       "⎢                  ⎥\n",
       "⎢0   t  0      0   ⎥\n",
       "⎢                  ⎥\n",
       "⎢       t          ⎥\n",
       "⎢0   0  ──     0   ⎥\n",
       "⎢        2         ⎥\n",
       "⎢       b          ⎥\n",
       "⎢                  ⎥\n",
       "⎢              2   ⎥\n",
       "⎢           t⋅f (y)⎥\n",
       "⎢0   0  0   ───────⎥\n",
       "⎢               2  ⎥\n",
       "⎣              b   ⎦"
      ]
     },
     "execution_count": 11,
     "metadata": {},
     "output_type": "execute_result"
    }
   ],
   "source": [
    "m = sympy.Array(g)\n",
    "m"
   ]
  },
  {
   "cell_type": "code",
   "execution_count": 12,
   "id": "c0082759",
   "metadata": {},
   "outputs": [],
   "source": [
    "from einsteinpy.symbolic import *"
   ]
  },
  {
   "cell_type": "code",
   "execution_count": 13,
   "id": "682c2215",
   "metadata": {},
   "outputs": [],
   "source": [
    "syms = sympy.symbols(\"t x y z\")\n",
    "t,x,y,z = syms"
   ]
  },
  {
   "cell_type": "code",
   "execution_count": 14,
   "id": "8dd92260",
   "metadata": {},
   "outputs": [],
   "source": [
    "metric = MetricTensor(m,syms)"
   ]
  },
  {
   "cell_type": "code",
   "execution_count": 15,
   "id": "978c0573",
   "metadata": {},
   "outputs": [
    {
     "data": {
      "text/latex": [
       "$\\displaystyle \\left[\\begin{matrix}\\left[\\begin{matrix}0 & 0 & 0 & 0\\\\0 & \\frac{1}{2} & 0 & 0\\\\0 & 0 & \\frac{1}{2 b^{2}} & 0\\\\0 & 0 & 0 & \\frac{f^{2}{\\left(y \\right)}}{2 b^{2}}\\end{matrix}\\right] & \\left[\\begin{matrix}0 & \\frac{1}{2 t} & 0 & 0\\\\\\frac{1}{2 t} & 0 & 0 & 0\\\\0 & 0 & 0 & 0\\\\0 & 0 & 0 & 0\\end{matrix}\\right] & \\left[\\begin{matrix}0 & 0 & \\frac{1}{2 t} & 0\\\\0 & 0 & 0 & 0\\\\\\frac{1}{2 t} & 0 & 0 & 0\\\\0 & 0 & 0 & - f{\\left(y \\right)} \\frac{d}{d y} f{\\left(y \\right)}\\end{matrix}\\right] & \\left[\\begin{matrix}0 & 0 & 0 & \\frac{1}{2 t}\\\\0 & 0 & 0 & 0\\\\0 & 0 & 0 & \\frac{\\frac{d}{d y} f{\\left(y \\right)}}{f{\\left(y \\right)}}\\\\\\frac{1}{2 t} & 0 & \\frac{\\frac{d}{d y} f{\\left(y \\right)}}{f{\\left(y \\right)}} & 0\\end{matrix}\\right]\\end{matrix}\\right]$"
      ],
      "text/plain": [
       "⎡                                                                        ⎡                     1    ⎤⎤\n",
       "⎢⎡0   0    0      0  ⎤                                                   ⎢ 0   0     0        ───   ⎥⎥\n",
       "⎢⎢                   ⎥                    ⎡         1                 ⎤  ⎢                    2⋅t   ⎥⎥\n",
       "⎢⎢0  1/2   0      0  ⎥  ⎡      1       ⎤  ⎢ 0   0  ───        0       ⎥  ⎢                          ⎥⎥\n",
       "⎢⎢                   ⎥  ⎢ 0   ───  0  0⎥  ⎢        2⋅t                ⎥  ⎢ 0   0     0         0    ⎥⎥\n",
       "⎢⎢         1         ⎥  ⎢     2⋅t      ⎥  ⎢                           ⎥  ⎢                          ⎥⎥\n",
       "⎢⎢0   0   ────    0  ⎥  ⎢              ⎥  ⎢ 0   0   0         0       ⎥  ⎢                  d       ⎥⎥\n",
       "⎢⎢           2       ⎥  ⎢ 1            ⎥  ⎢                           ⎥  ⎢                  ──(f(y))⎥⎥\n",
       "⎢⎢        2⋅b        ⎥  ⎢───   0   0  0⎥  ⎢ 1                         ⎥  ⎢                  dy      ⎥⎥\n",
       "⎢⎢                   ⎥  ⎢2⋅t           ⎥  ⎢───  0   0         0       ⎥  ⎢ 0   0     0      ────────⎥⎥\n",
       "⎢⎢               2   ⎥  ⎢              ⎥  ⎢2⋅t                        ⎥  ⎢                    f(y)  ⎥⎥\n",
       "⎢⎢              f (y)⎥  ⎢ 0    0   0  0⎥  ⎢                           ⎥  ⎢                          ⎥⎥\n",
       "⎢⎢0   0    0    ─────⎥  ⎢              ⎥  ⎢                   d       ⎥  ⎢        d                 ⎥⎥\n",
       "⎢⎢                  2⎥  ⎣ 0    0   0  0⎦  ⎢ 0   0   0   -f(y)⋅──(f(y))⎥  ⎢        ──(f(y))          ⎥⎥\n",
       "⎢⎣               2⋅b ⎦                    ⎣                   dy      ⎦  ⎢ 1      dy                ⎥⎥\n",
       "⎢                                                                        ⎢───  0  ────────     0    ⎥⎥\n",
       "⎣                                                                        ⎣2⋅t       f(y)            ⎦⎦"
      ]
     },
     "execution_count": 15,
     "metadata": {},
     "output_type": "execute_result"
    }
   ],
   "source": [
    "ch = ChristoffelSymbols.from_metric(metric)\n",
    "ch.tensor()"
   ]
  },
  {
   "cell_type": "code",
   "execution_count": 16,
   "id": "308c31e4",
   "metadata": {},
   "outputs": [
    {
     "data": {
      "text/latex": [
       "$\\displaystyle \\left[\\begin{matrix}\\frac{3}{4 t^{2}} & 0 & 0 & 0\\\\0 & \\frac{1}{4 t} & 0 & 0\\\\0 & 0 & - \\frac{\\frac{d^{2}}{d y^{2}} f{\\left(y \\right)}}{f{\\left(y \\right)}} + \\frac{1}{4 b^{2} t} & 0\\\\0 & 0 & 0 & - f{\\left(y \\right)} \\frac{d^{2}}{d y^{2}} f{\\left(y \\right)} + \\frac{f^{2}{\\left(y \\right)}}{4 b^{2} t}\\end{matrix}\\right]$"
      ],
      "text/plain": [
       "⎡ 3                                                        ⎤\n",
       "⎢────   0            0                        0            ⎥\n",
       "⎢   2                                                      ⎥\n",
       "⎢4⋅t                                                       ⎥\n",
       "⎢                                                          ⎥\n",
       "⎢       1                                                  ⎥\n",
       "⎢ 0    ───           0                        0            ⎥\n",
       "⎢      4⋅t                                                 ⎥\n",
       "⎢                                                          ⎥\n",
       "⎢               2                                          ⎥\n",
       "⎢              d                                           ⎥\n",
       "⎢             ───(f(y))                                    ⎥\n",
       "⎢               2                                          ⎥\n",
       "⎢             dy            1                              ⎥\n",
       "⎢ 0     0   - ───────── + ──────              0            ⎥\n",
       "⎢                f(y)        2                             ⎥\n",
       "⎢                         4⋅b ⋅t                           ⎥\n",
       "⎢                                                          ⎥\n",
       "⎢                                          2          2    ⎥\n",
       "⎢                                         d          f (y) ⎥\n",
       "⎢ 0     0            0            - f(y)⋅───(f(y)) + ──────⎥\n",
       "⎢                                          2            2  ⎥\n",
       "⎣                                        dy          4⋅b ⋅t⎦"
      ]
     },
     "execution_count": 16,
     "metadata": {},
     "output_type": "execute_result"
    }
   ],
   "source": [
    "Ric = RicciTensor.from_metric(metric)\n",
    "Ric.tensor()"
   ]
  },
  {
   "cell_type": "code",
   "execution_count": 17,
   "id": "7e98c61a",
   "metadata": {},
   "outputs": [
    {
     "data": {
      "text/latex": [
       "$\\displaystyle \\left[\\begin{matrix}- \\frac{1.0 b^{2} \\frac{d^{2}}{d y^{2}} f{\\left(y \\right)}}{t f{\\left(y \\right)}} + \\frac{3}{4 t^{2}} & 0 & 0 & 0\\\\0 & \\frac{1.0 b^{2} \\frac{d^{2}}{d y^{2}} f{\\left(y \\right)}}{f{\\left(y \\right)}} + \\frac{1}{4 t} & 0 & 0\\\\0 & 0 & \\frac{1}{4 b^{2} t} & 0\\\\0 & 0 & 0 & \\frac{f^{2}{\\left(y \\right)}}{4 b^{2} t}\\end{matrix}\\right]$"
      ],
      "text/plain": [
       "⎡       2                                                     ⎤\n",
       "⎢   2  d                                                      ⎥\n",
       "⎢  b ⋅───(f(y))                                               ⎥\n",
       "⎢       2                                                     ⎥\n",
       "⎢     dy           3                                          ⎥\n",
       "⎢- ──────────── + ────            0               0       0   ⎥\n",
       "⎢     t⋅f(y)         2                                        ⎥\n",
       "⎢                 4⋅t                                         ⎥\n",
       "⎢                                                             ⎥\n",
       "⎢                                2                            ⎥\n",
       "⎢                            2  d                             ⎥\n",
       "⎢                       1.0⋅b ⋅───(f(y))                      ⎥\n",
       "⎢                                2                            ⎥\n",
       "⎢                              dy           1                 ⎥\n",
       "⎢          0            ──────────────── + ───    0       0   ⎥\n",
       "⎢                             f(y)         4⋅t                ⎥\n",
       "⎢                                                             ⎥\n",
       "⎢                                                 1           ⎥\n",
       "⎢          0                      0             ──────    0   ⎥\n",
       "⎢                                                  2          ⎥\n",
       "⎢                                               4⋅b ⋅t        ⎥\n",
       "⎢                                                             ⎥\n",
       "⎢                                                        2    ⎥\n",
       "⎢                                                       f (y) ⎥\n",
       "⎢          0                      0               0     ──────⎥\n",
       "⎢                                                          2  ⎥\n",
       "⎣                                                       4⋅b ⋅t⎦"
      ]
     },
     "execution_count": 17,
     "metadata": {},
     "output_type": "execute_result"
    }
   ],
   "source": [
    "einst = EinsteinTensor.from_metric(metric)\n",
    "einst.tensor()"
   ]
  },
  {
   "cell_type": "code",
   "execution_count": 18,
   "id": "d93431c7",
   "metadata": {},
   "outputs": [
    {
     "data": {
      "image/png": "[encoded data removed]",
      "text/latex": [
       "$\\displaystyle - \\frac{2 b^{2} \\frac{d^{2}}{d y^{2}} f{\\left(y \\right)}}{t f{\\left(y \\right)}}$"
      ],
      "text/plain": [
       "        2       \n",
       "    2  d        \n",
       "-2⋅b ⋅───(f(y)) \n",
       "        2       \n",
       "      dy        \n",
       "────────────────\n",
       "     t⋅f(y)     "
      ]
     },
     "execution_count": 18,
     "metadata": {},
     "output_type": "execute_result"
    }
   ],
   "source": [
    "R = RicciScalar.from_riccitensor(Ric)\n",
    "R.simplify()\n",
    "R.expr"
   ]
  },
  {
   "cell_type": "code",
   "execution_count": 19,
   "id": "3d52a54d",
   "metadata": {},
   "outputs": [
    {
     "data": {
      "text/latex": [
       "$\\displaystyle \\left[\\begin{matrix}\\left[\\begin{matrix}0 & 0 & 0 & 0\\\\0 & 0 & 0 & 0\\\\0 & 0 & 0 & 0\\\\0 & 0 & 0 & 0\\end{matrix}\\right] & \\left[\\begin{matrix}0 & - \\frac{1}{4 t} & 0 & 0\\\\\\frac{1}{4 t} & 0 & 0 & 0\\\\0 & 0 & 0 & 0\\\\0 & 0 & 0 & 0\\end{matrix}\\right] & \\left[\\begin{matrix}0 & 0 & - \\frac{1}{4 b^{2} t} & 0\\\\0 & 0 & 0 & 0\\\\\\frac{1}{4 b^{2} t} & 0 & 0 & 0\\\\0 & 0 & 0 & 0\\end{matrix}\\right] & \\left[\\begin{matrix}0 & 0 & 0 & - \\frac{f^{2}{\\left(y \\right)}}{4 b^{2} t}\\\\0 & 0 & 0 & 0\\\\0 & 0 & 0 & 0\\\\\\frac{f^{2}{\\left(y \\right)}}{4 b^{2} t} & 0 & 0 & 0\\end{matrix}\\right]\\\\\\left[\\begin{matrix}0 & - \\frac{1}{4 t^{2}} & 0 & 0\\\\\\frac{1}{4 t^{2}} & 0 & 0 & 0\\\\0 & 0 & 0 & 0\\\\0 & 0 & 0 & 0\\end{matrix}\\right] & \\left[\\begin{matrix}0 & 0 & 0 & 0\\\\0 & 0 & 0 & 0\\\\0 & 0 & 0 & 0\\\\0 & 0 & 0 & 0\\end{matrix}\\right] & \\left[\\begin{matrix}0 & 0 & 0 & 0\\\\0 & 0 & \\frac{1}{4 b^{2} t} & 0\\\\0 & - \\frac{1}{4 b^{2} t} & 0 & 0\\\\0 & 0 & 0 & 0\\end{matrix}\\right] & \\left[\\begin{matrix}0 & 0 & 0 & 0\\\\0 & 0 & 0 & \\frac{f^{2}{\\left(y \\right)}}{4 b^{2} t}\\\\0 & 0 & 0 & 0\\\\0 & - \\frac{f^{2}{\\left(y \\right)}}{4 b^{2} t} & 0 & 0\\end{matrix}\\right]\\\\\\left[\\begin{matrix}0 & 0 & - \\frac{1}{4 t^{2}} & 0\\\\0 & 0 & 0 & 0\\\\\\frac{1}{4 t^{2}} & 0 & 0 & 0\\\\0 & 0 & 0 & 0\\end{matrix}\\right] & \\left[\\begin{matrix}0 & 0 & 0 & 0\\\\0 & 0 & - \\frac{1}{4 t} & 0\\\\0 & \\frac{1}{4 t} & 0 & 0\\\\0 & 0 & 0 & 0\\end{matrix}\\right] & \\left[\\begin{matrix}0 & 0 & 0 & 0\\\\0 & 0 & 0 & 0\\\\0 & 0 & 0 & 0\\\\0 & 0 & 0 & 0\\end{matrix}\\right] & \\left[\\begin{matrix}0 & 0 & 0 & 0\\\\0 & 0 & 0 & 0\\\\0 & 0 & 0 & - f{\\left(y \\right)} \\frac{d^{2}}{d y^{2}} f{\\left(y \\right)} + \\frac{f^{2}{\\left(y \\right)}}{4 b^{2} t}\\\\0 & 0 & f{\\left(y \\right)} \\frac{d^{2}}{d y^{2}} f{\\left(y \\right)} - \\frac{f^{2}{\\left(y \\right)}}{4 b^{2} t} & 0\\end{matrix}\\right]\\\\\\left[\\begin{matrix}0 & 0 & 0 & - \\frac{1}{4 t^{2}}\\\\0 & 0 & 0 & 0\\\\0 & 0 & 0 & 0\\\\\\frac{1}{4 t^{2}} & 0 & 0 & 0\\end{matrix}\\right] & \\left[\\begin{matrix}0 & 0 & 0 & 0\\\\0 & 0 & 0 & - \\frac{1}{4 t}\\\\0 & 0 & 0 & 0\\\\0 & \\frac{1}{4 t} & 0 & 0\\end{matrix}\\right] & \\left[\\begin{matrix}0 & 0 & 0 & 0\\\\0 & 0 & 0 & 0\\\\0 & 0 & 0 & \\frac{\\frac{d^{2}}{d y^{2}} f{\\left(y \\right)}}{f{\\left(y \\right)}} - \\frac{1}{4 b^{2} t}\\\\0 & 0 & - \\frac{\\frac{d^{2}}{d y^{2}} f{\\left(y \\right)}}{f{\\left(y \\right)}} + \\frac{1}{4 b^{2} t} & 0\\end{matrix}\\right] & \\left[\\begin{matrix}0 & 0 & 0 & 0\\\\0 & 0 & 0 & 0\\\\0 & 0 & 0 & 0\\\\0 & 0 & 0 & 0\\end{matrix}\\right]\\end{matrix}\\right]$"
      ],
      "text/plain": [
       "⎡                                                                                                         ⎡                \n",
       "⎢                                                   ⎡            -1      ⎤                                ⎢              -f\n",
       "⎢                    ⎡     -1       ⎤               ⎢  0     0  ──────  0⎥                                ⎢  0     0  0  ──\n",
       "⎢                    ⎢ 0   ───  0  0⎥               ⎢              2     ⎥                                ⎢                \n",
       "⎢   ⎡0  0  0  0⎤     ⎢     4⋅t      ⎥               ⎢           4⋅b ⋅t   ⎥                                ⎢               4\n",
       "⎢   ⎢          ⎥     ⎢              ⎥               ⎢                    ⎥                                ⎢                \n",
       "⎢   ⎢0  0  0  0⎥     ⎢ 1            ⎥               ⎢  0     0    0     0⎥                                ⎢  0     0  0    \n",
       "⎢   ⎢          ⎥     ⎢───   0   0  0⎥               ⎢                    ⎥                                ⎢                \n",
       "⎢   ⎢0  0  0  0⎥     ⎢4⋅t           ⎥               ⎢  1                 ⎥                                ⎢  0     0  0    \n",
       "⎢   ⎢          ⎥     ⎢              ⎥               ⎢──────  0    0     0⎥                                ⎢                \n",
       "⎢   ⎣0  0  0  0⎦     ⎢ 0    0   0  0⎥               ⎢   2                ⎥                                ⎢ 2              \n",
       "⎢                    ⎢              ⎥               ⎢4⋅b ⋅t              ⎥                                ⎢f (y)           \n",
       "⎢                    ⎣ 0    0   0  0⎦               ⎢                    ⎥                                ⎢──────  0  0    \n",
       "⎢                                                   ⎣  0     0    0     0⎦                                ⎢   2            \n",
       "⎢                                                                                                         ⎣4⋅b ⋅t          \n",
       "⎢                                                                                                                          \n",
       "⎢                                                                                                         ⎡0     0     0   \n",
       "⎢⎡      -1        ⎤                                 ⎡0    0       0     0⎤                                ⎢                \n",
       "⎢⎢ 0    ────  0  0⎥                                 ⎢                    ⎥                                ⎢                \n",
       "⎢⎢         2      ⎥                                 ⎢             1      ⎥                                ⎢               f\n",
       "⎢⎢      4⋅t       ⎥    ⎡0  0  0  0⎤                 ⎢0    0     ──────  0⎥                                ⎢0     0     0  ─\n",
       "⎢⎢                ⎥    ⎢          ⎥                 ⎢              2     ⎥                                ⎢                \n",
       "⎢⎢ 1              ⎥    ⎢0  0  0  0⎥                 ⎢           4⋅b ⋅t   ⎥                                ⎢               4\n",
       "⎢⎢────   0    0  0⎥    ⎢          ⎥                 ⎢                    ⎥                                ⎢                \n",
       "⎢⎢   2            ⎥    ⎢0  0  0  0⎥                 ⎢    -1              ⎥                                ⎢0     0     0   \n",
       "⎢⎢4⋅t             ⎥    ⎢          ⎥                 ⎢0  ──────    0     0⎥                                ⎢                \n",
       "⎢⎢                ⎥    ⎣0  0  0  0⎦                 ⎢      2             ⎥                                ⎢     2          \n",
       "⎢⎢ 0     0    0  0⎥                                 ⎢   4⋅b ⋅t           ⎥                                ⎢   -f (y)       \n",
       "⎢⎢                ⎥                                 ⎢                    ⎥                                ⎢0  ───────  0   \n",
       "⎢⎣ 0     0    0  0⎦                                 ⎣0    0       0     0⎦                                ⎢       2        \n",
       "⎢                                                                                                         ⎣    4⋅b ⋅t      \n",
       "⎢                                                                                                                          \n",
       "⎢                                                                                        ⎡0  0             0               \n",
       "⎢⎡         -1     ⎤                                                                      ⎢                                 \n",
       "⎢⎢ 0    0  ────  0⎥  ⎡0   0    0   0⎤                                                    ⎢0  0             0               \n",
       "⎢⎢            2   ⎥  ⎢              ⎥                                                    ⎢                                 \n",
       "⎢⎢         4⋅t    ⎥  ⎢        -1    ⎥                    ⎡0  0  0  0⎤                    ⎢                                 \n",
       "⎢⎢                ⎥  ⎢0   0   ───  0⎥                    ⎢          ⎥                    ⎢                                 \n",
       "⎢⎢ 0    0   0    0⎥  ⎢        4⋅t   ⎥                    ⎢0  0  0  0⎥                    ⎢0  0             0             - \n",
       "⎢⎢                ⎥  ⎢              ⎥                    ⎢          ⎥                    ⎢                                 \n",
       "⎢⎢ 1              ⎥  ⎢    1         ⎥                    ⎢0  0  0  0⎥                    ⎢                                 \n",
       "⎢⎢────  0   0    0⎥  ⎢0  ───   0   0⎥                    ⎢          ⎥                    ⎢                                 \n",
       "⎢⎢   2            ⎥  ⎢   4⋅t        ⎥                    ⎣0  0  0  0⎦                    ⎢             2          2        \n",
       "⎢⎢4⋅t             ⎥  ⎢              ⎥                                                    ⎢            d          f (y)     \n",
       "⎢⎢                ⎥  ⎣0   0    0   0⎦                                                    ⎢0  0  f(y)⋅───(f(y)) - ──────    \n",
       "⎢⎣ 0    0   0    0⎦                                                                      ⎢             2            2      \n",
       "⎢                                                                                        ⎣           dy          4⋅b ⋅t    \n",
       "⎢                                                                                                                          \n",
       "⎢                                      ⎡0  0           0                    0         ⎤                                    \n",
       "⎢                                      ⎢                                              ⎥                                    \n",
       "⎢                                      ⎢0  0           0                    0         ⎥                                    \n",
       "⎢                                      ⎢                                              ⎥                                    \n",
       "⎢⎡            -1  ⎤                    ⎢                              2               ⎥                                    \n",
       "⎢⎢ 0    0  0  ────⎥  ⎡0   0   0   0 ⎤  ⎢                             d                ⎥                                    \n",
       "⎢⎢               2⎥  ⎢              ⎥  ⎢                            ───(f(y))         ⎥                                    \n",
       "⎢⎢            4⋅t ⎥  ⎢           -1 ⎥  ⎢                              2               ⎥                         ⎡0  0  0  0\n",
       "⎢⎢                ⎥  ⎢0   0   0  ───⎥  ⎢                            dy            1   ⎥                         ⎢          \n",
       "⎢⎢ 0    0  0   0  ⎥  ⎢           4⋅t⎥  ⎢0  0           0            ───────── - ──────⎥                         ⎢0  0  0  0\n",
       "⎢⎢                ⎥  ⎢              ⎥  ⎢                               f(y)        2  ⎥                         ⎢          \n",
       "⎢⎢ 0    0  0   0  ⎥  ⎢0   0   0   0 ⎥  ⎢                                        4⋅b ⋅t⎥                         ⎢0  0  0  0\n",
       "⎢⎢                ⎥  ⎢              ⎥  ⎢                                              ⎥                         ⎢          \n",
       "⎢⎢ 1              ⎥  ⎢    1         ⎥  ⎢          2                                   ⎥                         ⎣0  0  0  0\n",
       "⎢⎢────  0  0   0  ⎥  ⎢0  ───  0   0 ⎥  ⎢         d                                    ⎥                                    \n",
       "⎢⎢   2            ⎥  ⎣   4⋅t        ⎦  ⎢        ───(f(y))                             ⎥                                    \n",
       "⎢⎣4⋅t             ⎦                    ⎢          2                                   ⎥                                    \n",
       "⎢                                      ⎢        dy            1                       ⎥                                    \n",
       "⎢                                      ⎢0  0  - ───────── + ──────          0         ⎥                                    \n",
       "⎢                                      ⎢           f(y)        2                      ⎥                                    \n",
       "⎣                                      ⎣                    4⋅b ⋅t                    ⎦                                    \n",
       "\n",
       "2    ⎤                  ⎤\n",
       " (y) ⎥                  ⎥\n",
       "─────⎥                  ⎥\n",
       "  2  ⎥                  ⎥\n",
       "⋅b ⋅t⎥                  ⎥\n",
       "     ⎥                  ⎥\n",
       " 0   ⎥                  ⎥\n",
       "     ⎥                  ⎥\n",
       " 0   ⎥                  ⎥\n",
       "     ⎥                  ⎥\n",
       "     ⎥                  ⎥\n",
       "     ⎥                  ⎥\n",
       " 0   ⎥                  ⎥\n",
       "     ⎥                  ⎥\n",
       "     ⎦                  ⎥\n",
       "                        ⎥\n",
       " 0   ⎤                  ⎥\n",
       "     ⎥                  ⎥\n",
       "2    ⎥                  ⎥\n",
       " (y) ⎥                  ⎥\n",
       "─────⎥                  ⎥\n",
       "  2  ⎥                  ⎥\n",
       "⋅b ⋅t⎥                  ⎥\n",
       "     ⎥                  ⎥\n",
       " 0   ⎥                  ⎥\n",
       "     ⎥                  ⎥\n",
       "     ⎥                  ⎥\n",
       "     ⎥                  ⎥\n",
       " 0   ⎥                  ⎥\n",
       "     ⎥                  ⎥\n",
       "     ⎦                  ⎥\n",
       "                        ⎥\n",
       "          0            ⎤⎥\n",
       "                       ⎥⎥\n",
       "          0            ⎥⎥\n",
       "                       ⎥⎥\n",
       "       2          2    ⎥⎥\n",
       "      d          f (y) ⎥⎥\n",
       "f(y)⋅───(f(y)) + ──────⎥⎥\n",
       "       2            2  ⎥⎥\n",
       "     dy          4⋅b ⋅t⎥⎥\n",
       "                       ⎥⎥\n",
       "                       ⎥⎥\n",
       "                       ⎥⎥\n",
       "          0            ⎥⎥\n",
       "                       ⎥⎥\n",
       "                       ⎦⎥\n",
       "                        ⎥\n",
       "                        ⎥\n",
       "                        ⎥\n",
       "                        ⎥\n",
       "                        ⎥\n",
       "                        ⎥\n",
       "                        ⎥\n",
       "                        ⎥\n",
       "⎤                       ⎥\n",
       "⎥                       ⎥\n",
       "⎥                       ⎥\n",
       "⎥                       ⎥\n",
       "⎥                       ⎥\n",
       "⎥                       ⎥\n",
       "⎦                       ⎥\n",
       "                        ⎥\n",
       "                        ⎥\n",
       "                        ⎥\n",
       "                        ⎥\n",
       "                        ⎥\n",
       "                        ⎥\n",
       "                        ⎦"
      ]
     },
     "execution_count": 19,
     "metadata": {},
     "output_type": "execute_result"
    }
   ],
   "source": [
    "rm1 = RiemannCurvatureTensor.from_christoffels(ch)\n",
    "rm1.tensor()"
   ]
  },
  {
   "cell_type": "code",
   "execution_count": 20,
   "id": "2f207e16",
   "metadata": {},
   "outputs": [
    {
     "data": {
      "text/latex": [
       "$\\displaystyle \\left[\\begin{matrix}\\left[\\begin{matrix}0 & 0 & 0 & 0\\\\0 & 0 & 0 & 0\\\\0 & 0 & 0 & 0\\\\0 & 0 & 0 & 0\\end{matrix}\\right] & \\left[\\begin{matrix}0 & \\frac{b^{2} \\frac{d^{2}}{d y^{2}} f{\\left(y \\right)}}{3 f{\\left(y \\right)}} & 0 & 0\\\\- \\frac{b^{2} \\frac{d^{2}}{d y^{2}} f{\\left(y \\right)}}{3 f{\\left(y \\right)}} & 0 & 0 & 0\\\\0 & 0 & 0 & 0\\\\0 & 0 & 0 & 0\\end{matrix}\\right] & \\left[\\begin{matrix}0 & 0 & - \\frac{\\frac{d^{2}}{d y^{2}} f{\\left(y \\right)}}{6 f{\\left(y \\right)}} & 0\\\\0 & 0 & 0 & 0\\\\\\frac{\\frac{d^{2}}{d y^{2}} f{\\left(y \\right)}}{6 f{\\left(y \\right)}} & 0 & 0 & 0\\\\0 & 0 & 0 & 0\\end{matrix}\\right] & \\left[\\begin{matrix}0 & 0 & 0 & - \\frac{f{\\left(y \\right)} \\frac{d^{2}}{d y^{2}} f{\\left(y \\right)}}{6}\\\\0 & 0 & 0 & 0\\\\0 & 0 & 0 & 0\\\\\\frac{f{\\left(y \\right)} \\frac{d^{2}}{d y^{2}} f{\\left(y \\right)}}{6} & 0 & 0 & 0\\end{matrix}\\right]\\\\\\left[\\begin{matrix}0 & - \\frac{b^{2} \\frac{d^{2}}{d y^{2}} f{\\left(y \\right)}}{3 f{\\left(y \\right)}} & 0 & 0\\\\\\frac{b^{2} \\frac{d^{2}}{d y^{2}} f{\\left(y \\right)}}{3 f{\\left(y \\right)}} & 0 & 0 & 0\\\\0 & 0 & 0 & 0\\\\0 & 0 & 0 & 0\\end{matrix}\\right] & \\left[\\begin{matrix}0 & 0 & 0 & 0\\\\0 & 0 & 0 & 0\\\\0 & 0 & 0 & 0\\\\0 & 0 & 0 & 0\\end{matrix}\\right] & \\left[\\begin{matrix}0 & 0 & 0 & 0\\\\0 & 0 & \\frac{t \\frac{d^{2}}{d y^{2}} f{\\left(y \\right)}}{6 f{\\left(y \\right)}} & 0\\\\0 & - \\frac{t \\frac{d^{2}}{d y^{2}} f{\\left(y \\right)}}{6 f{\\left(y \\right)}} & 0 & 0\\\\0 & 0 & 0 & 0\\end{matrix}\\right] & \\left[\\begin{matrix}0 & 0 & 0 & 0\\\\0 & 0 & 0 & \\frac{t f{\\left(y \\right)} \\frac{d^{2}}{d y^{2}} f{\\left(y \\right)}}{6}\\\\0 & 0 & 0 & 0\\\\0 & - \\frac{t f{\\left(y \\right)} \\frac{d^{2}}{d y^{2}} f{\\left(y \\right)}}{6} & 0 & 0\\end{matrix}\\right]\\\\\\left[\\begin{matrix}0 & 0 & \\frac{\\frac{d^{2}}{d y^{2}} f{\\left(y \\right)}}{6 f{\\left(y \\right)}} & 0\\\\0 & 0 & 0 & 0\\\\- \\frac{\\frac{d^{2}}{d y^{2}} f{\\left(y \\right)}}{6 f{\\left(y \\right)}} & 0 & 0 & 0\\\\0 & 0 & 0 & 0\\end{matrix}\\right] & \\left[\\begin{matrix}0 & 0 & 0 & 0\\\\0 & 0 & - \\frac{t \\frac{d^{2}}{d y^{2}} f{\\left(y \\right)}}{6 f{\\left(y \\right)}} & 0\\\\0 & \\frac{t \\frac{d^{2}}{d y^{2}} f{\\left(y \\right)}}{6 f{\\left(y \\right)}} & 0 & 0\\\\0 & 0 & 0 & 0\\end{matrix}\\right] & \\left[\\begin{matrix}0 & 0 & 0 & 0\\\\0 & 0 & 0 & 0\\\\0 & 0 & 0 & 0\\\\0 & 0 & 0 & 0\\end{matrix}\\right] & \\left[\\begin{matrix}0 & 0 & 0 & 0\\\\0 & 0 & 0 & 0\\\\0 & 0 & 0 & - \\frac{t f{\\left(y \\right)} \\frac{d^{2}}{d y^{2}} f{\\left(y \\right)}}{3 b^{2}}\\\\0 & 0 & \\frac{t f{\\left(y \\right)} \\frac{d^{2}}{d y^{2}} f{\\left(y \\right)}}{3 b^{2}} & 0\\end{matrix}\\right]\\\\\\left[\\begin{matrix}0 & 0 & 0 & \\frac{f{\\left(y \\right)} \\frac{d^{2}}{d y^{2}} f{\\left(y \\right)}}{6}\\\\0 & 0 & 0 & 0\\\\0 & 0 & 0 & 0\\\\- \\frac{f{\\left(y \\right)} \\frac{d^{2}}{d y^{2}} f{\\left(y \\right)}}{6} & 0 & 0 & 0\\end{matrix}\\right] & \\left[\\begin{matrix}0 & 0 & 0 & 0\\\\0 & 0 & 0 & - \\frac{t f{\\left(y \\right)} \\frac{d^{2}}{d y^{2}} f{\\left(y \\right)}}{6}\\\\0 & 0 & 0 & 0\\\\0 & \\frac{t f{\\left(y \\right)} \\frac{d^{2}}{d y^{2}} f{\\left(y \\right)}}{6} & 0 & 0\\end{matrix}\\right] & \\left[\\begin{matrix}0 & 0 & 0 & 0\\\\0 & 0 & 0 & 0\\\\0 & 0 & 0 & \\frac{t f{\\left(y \\right)} \\frac{d^{2}}{d y^{2}} f{\\left(y \\right)}}{3 b^{2}}\\\\0 & 0 & - \\frac{t f{\\left(y \\right)} \\frac{d^{2}}{d y^{2}} f{\\left(y \\right)}}{3 b^{2}} & 0\\end{matrix}\\right] & \\left[\\begin{matrix}0 & 0 & 0 & 0\\\\0 & 0 & 0 & 0\\\\0 & 0 & 0 & 0\\\\0 & 0 & 0 & 0\\end{matrix}\\right]\\end{matrix}\\right]$"
      ],
      "text/plain": [
       "⎡                                              ⎡                     2            ⎤             ⎡                 2        \n",
       "⎢                                              ⎢                 2  d             ⎥             ⎢                d         \n",
       "⎢                                              ⎢                b ⋅───(f(y))      ⎥             ⎢              -───(f(y))  \n",
       "⎢                                              ⎢                     2            ⎥             ⎢                 2        \n",
       "⎢                                              ⎢                   dy             ⎥             ⎢               dy         \n",
       "⎢                                              ⎢      0         ────────────  0  0⎥             ⎢    0      0  ─────────── \n",
       "⎢              ⎡0  0  0  0⎤                    ⎢                   3⋅f(y)         ⎥             ⎢                 6⋅f(y)   \n",
       "⎢              ⎢          ⎥                    ⎢                                  ⎥             ⎢                          \n",
       "⎢              ⎢0  0  0  0⎥                    ⎢      2                           ⎥             ⎢    0      0       0      \n",
       "⎢              ⎢          ⎥                    ⎢  2  d                            ⎥             ⎢                          \n",
       "⎢              ⎢0  0  0  0⎥                    ⎢-b ⋅───(f(y))                     ⎥             ⎢  2                       \n",
       "⎢              ⎢          ⎥                    ⎢      2                           ⎥             ⎢ d                        \n",
       "⎢              ⎣0  0  0  0⎦                    ⎢    dy                            ⎥             ⎢───(f(y))                 \n",
       "⎢                                              ⎢──────────────       0        0  0⎥             ⎢  2                       \n",
       "⎢                                              ⎢    3⋅f(y)                        ⎥             ⎢dy                        \n",
       "⎢                                              ⎢                                  ⎥             ⎢─────────  0       0      \n",
       "⎢                                              ⎢      0              0        0  0⎥             ⎢  6⋅f(y)                  \n",
       "⎢                                              ⎢                                  ⎥             ⎢                          \n",
       "⎢                                              ⎣      0              0        0  0⎦             ⎣    0      0       0      \n",
       "⎢                                                                                                                          \n",
       "⎢  ⎡                    2             ⎤                                                       ⎡0        0             0    \n",
       "⎢  ⎢                2  d              ⎥                                                       ⎢                            \n",
       "⎢  ⎢              -b ⋅───(f(y))       ⎥                                                       ⎢                      2     \n",
       "⎢  ⎢                    2             ⎥                                                       ⎢                     d      \n",
       "⎢  ⎢                  dy              ⎥                                                       ⎢                  t⋅───(f(y)\n",
       "⎢  ⎢     0        ──────────────  0  0⎥                                                       ⎢                      2     \n",
       "⎢  ⎢                  3⋅f(y)          ⎥                    ⎡0  0  0  0⎤                       ⎢                    dy      \n",
       "⎢  ⎢                                  ⎥                    ⎢          ⎥                       ⎢0        0        ──────────\n",
       "⎢  ⎢     2                            ⎥                    ⎢0  0  0  0⎥                       ⎢                     6⋅f(y) \n",
       "⎢  ⎢ 2  d                             ⎥                    ⎢          ⎥                       ⎢                            \n",
       "⎢  ⎢b ⋅───(f(y))                      ⎥                    ⎢0  0  0  0⎥                       ⎢        2                   \n",
       "⎢  ⎢     2                            ⎥                    ⎢          ⎥                       ⎢       d                    \n",
       "⎢  ⎢   dy                             ⎥                    ⎣0  0  0  0⎦                       ⎢   -t⋅───(f(y))             \n",
       "⎢  ⎢────────────        0         0  0⎥                                                       ⎢        2                   \n",
       "⎢  ⎢   3⋅f(y)                         ⎥                                                       ⎢      dy                    \n",
       "⎢  ⎢                                  ⎥                                                       ⎢0  ─────────────       0    \n",
       "⎢  ⎢     0              0         0  0⎥                                                       ⎢       6⋅f(y)               \n",
       "⎢  ⎢                                  ⎥                                                       ⎢                            \n",
       "⎢  ⎣     0              0         0  0⎦                                                       ⎣0        0             0    \n",
       "⎢                                                                                                                          \n",
       "⎢                                                                                                                          \n",
       "⎢     ⎡                  2         ⎤            ⎡0       0             0        0⎤                                         \n",
       "⎢     ⎢                 d          ⎥            ⎢                                ⎥                                         \n",
       "⎢     ⎢                ───(f(y))   ⎥            ⎢                     2          ⎥                                         \n",
       "⎢     ⎢                  2         ⎥            ⎢                    d           ⎥                                         \n",
       "⎢     ⎢                dy          ⎥            ⎢                -t⋅───(f(y))    ⎥                                         \n",
       "⎢     ⎢     0       0  ─────────  0⎥            ⎢                     2          ⎥                                         \n",
       "⎢     ⎢                  6⋅f(y)    ⎥            ⎢                   dy           ⎥                       ⎡0  0  0  0⎤      \n",
       "⎢     ⎢                            ⎥            ⎢0       0       ─────────────  0⎥                       ⎢          ⎥      \n",
       "⎢     ⎢     0       0      0      0⎥            ⎢                    6⋅f(y)      ⎥                       ⎢0  0  0  0⎥      \n",
       "⎢     ⎢                            ⎥            ⎢                                ⎥                       ⎢          ⎥      \n",
       "⎢     ⎢   2                        ⎥            ⎢       2                        ⎥                       ⎢0  0  0  0⎥      \n",
       "⎢     ⎢  d                         ⎥            ⎢      d                         ⎥                       ⎢          ⎥      \n",
       "⎢     ⎢-───(f(y))                  ⎥            ⎢   t⋅───(f(y))                  ⎥                       ⎣0  0  0  0⎦      \n",
       "⎢     ⎢   2                        ⎥            ⎢       2                        ⎥                                         \n",
       "⎢     ⎢ dy                         ⎥            ⎢     dy                         ⎥                                         \n",
       "⎢     ⎢───────────  0      0      0⎥            ⎢0  ───────────        0        0⎥                                         \n",
       "⎢     ⎢   6⋅f(y)                   ⎥            ⎢      6⋅f(y)                    ⎥                                         \n",
       "⎢     ⎢                            ⎥            ⎢                                ⎥                                         \n",
       "⎢     ⎣     0       0      0      0⎦            ⎣0       0             0        0⎦                                         \n",
       "⎢                                                                                                                          \n",
       "⎢                                                                                                                          \n",
       "⎢                                                                                        ⎡0  0          0                  \n",
       "⎢⎡                               2      ⎤  ⎡0         0          0          0         ⎤  ⎢                                 \n",
       "⎢⎢                              d       ⎥  ⎢                                          ⎥  ⎢0  0          0                  \n",
       "⎢⎢                        f(y)⋅───(f(y))⎥  ⎢                                  2       ⎥  ⎢                                 \n",
       "⎢⎢                               2      ⎥  ⎢                                 d        ⎥  ⎢                                 \n",
       "⎢⎢                             dy       ⎥  ⎢                        -t⋅f(y)⋅───(f(y)) ⎥  ⎢                                 \n",
       "⎢⎢       0          0  0  ──────────────⎥  ⎢                                  2       ⎥  ⎢                          t⋅f(y)⋅\n",
       "⎢⎢                              6       ⎥  ⎢                                dy        ⎥  ⎢                                 \n",
       "⎢⎢                                      ⎥  ⎢0         0          0  ──────────────────⎥  ⎢                                 \n",
       "⎢⎢       0          0  0        0       ⎥  ⎢                                6         ⎥  ⎢0  0          0           ───────\n",
       "⎢⎢                                      ⎥  ⎢                                          ⎥  ⎢                                 \n",
       "⎢⎢       0          0  0        0       ⎥  ⎢0         0          0          0         ⎥  ⎢                                3\n",
       "⎢⎢                                      ⎥  ⎢                                          ⎥  ⎢                                 \n",
       "⎢⎢        2                             ⎥  ⎢            2                             ⎥  ⎢                2                \n",
       "⎢⎢       d                              ⎥  ⎢           d                              ⎥  ⎢               d                 \n",
       "⎢⎢-f(y)⋅───(f(y))                       ⎥  ⎢   t⋅f(y)⋅───(f(y))                       ⎥  ⎢      -t⋅f(y)⋅───(f(y))          \n",
       "⎢⎢        2                             ⎥  ⎢            2                             ⎥  ⎢                2                \n",
       "⎢⎢      dy                              ⎥  ⎢          dy                              ⎥  ⎢              dy                 \n",
       "⎢⎢────────────────  0  0        0       ⎥  ⎢0  ────────────────  0          0         ⎥  ⎢0  0  ──────────────────         \n",
       "⎢⎣       6                              ⎦  ⎣          6                               ⎦  ⎢                2                \n",
       "⎣                                                                                        ⎣             3⋅b                 \n",
       "\n",
       "  ⎤           ⎡                              2       ⎤  ⎤\n",
       "  ⎥           ⎢                             d        ⎥  ⎥\n",
       "  ⎥           ⎢                      -f(y)⋅───(f(y)) ⎥  ⎥\n",
       "  ⎥           ⎢                              2       ⎥  ⎥\n",
       "  ⎥           ⎢                            dy        ⎥  ⎥\n",
       " 0⎥           ⎢      0         0  0  ────────────────⎥  ⎥\n",
       "  ⎥           ⎢                             6        ⎥  ⎥\n",
       "  ⎥           ⎢                                      ⎥  ⎥\n",
       " 0⎥           ⎢      0         0  0         0        ⎥  ⎥\n",
       "  ⎥           ⎢                                      ⎥  ⎥\n",
       "  ⎥           ⎢      0         0  0         0        ⎥  ⎥\n",
       "  ⎥           ⎢                                      ⎥  ⎥\n",
       "  ⎥           ⎢       2                              ⎥  ⎥\n",
       "  ⎥           ⎢      d                               ⎥  ⎥\n",
       "  ⎥           ⎢f(y)⋅───(f(y))                        ⎥  ⎥\n",
       " 0⎥           ⎢       2                              ⎥  ⎥\n",
       "  ⎥           ⎢     dy                               ⎥  ⎥\n",
       "  ⎥           ⎢──────────────  0  0         0        ⎥  ⎥\n",
       " 0⎦           ⎣      6                               ⎦  ⎥\n",
       "                                                        ⎥\n",
       "   0⎤       ⎡0          0           0         0        ⎤⎥\n",
       "    ⎥       ⎢                                          ⎥⎥\n",
       "    ⎥       ⎢                                   2      ⎥⎥\n",
       "    ⎥       ⎢                                  d       ⎥⎥\n",
       ")   ⎥       ⎢                          t⋅f(y)⋅───(f(y))⎥⎥\n",
       "    ⎥       ⎢                                   2      ⎥⎥\n",
       "    ⎥       ⎢                                 dy       ⎥⎥\n",
       "─  0⎥       ⎢0          0           0  ────────────────⎥⎥\n",
       "    ⎥       ⎢                                 6        ⎥⎥\n",
       "    ⎥       ⎢                                          ⎥⎥\n",
       "    ⎥       ⎢0          0           0         0        ⎥⎥\n",
       "    ⎥       ⎢                                          ⎥⎥\n",
       "    ⎥       ⎢             2                            ⎥⎥\n",
       "    ⎥       ⎢            d                             ⎥⎥\n",
       "    ⎥       ⎢   -t⋅f(y)⋅───(f(y))                      ⎥⎥\n",
       "   0⎥       ⎢             2                            ⎥⎥\n",
       "    ⎥       ⎢           dy                             ⎥⎥\n",
       "    ⎥       ⎢0  ──────────────────  0         0        ⎥⎥\n",
       "   0⎦       ⎣           6                              ⎦⎥\n",
       "                                                        ⎥\n",
       "            ⎡0  0         0                  0         ⎤⎥\n",
       "            ⎢                                          ⎥⎥\n",
       "            ⎢0  0         0                  0         ⎥⎥\n",
       "            ⎢                                          ⎥⎥\n",
       "            ⎢                                  2       ⎥⎥\n",
       "            ⎢                                 d        ⎥⎥\n",
       "            ⎢                        -t⋅f(y)⋅───(f(y)) ⎥⎥\n",
       "            ⎢                                  2       ⎥⎥\n",
       "            ⎢                                dy        ⎥⎥\n",
       "            ⎢0  0         0          ──────────────────⎥⎥\n",
       "            ⎢                                  2       ⎥⎥\n",
       "            ⎢                               3⋅b        ⎥⎥\n",
       "            ⎢                                          ⎥⎥\n",
       "            ⎢               2                          ⎥⎥\n",
       "            ⎢              d                           ⎥⎥\n",
       "            ⎢      t⋅f(y)⋅───(f(y))                    ⎥⎥\n",
       "            ⎢               2                          ⎥⎥\n",
       "            ⎢             dy                           ⎥⎥\n",
       "            ⎢0  0  ────────────────          0         ⎥⎥\n",
       "            ⎢               2                          ⎥⎥\n",
       "            ⎣            3⋅b                           ⎦⎥\n",
       "                                                        ⎥\n",
       "0        ⎤                                              ⎥\n",
       "         ⎥                                              ⎥\n",
       "0        ⎥                                              ⎥\n",
       "         ⎥                                              ⎥\n",
       "  2      ⎥                                              ⎥\n",
       " d       ⎥                                              ⎥\n",
       "───(f(y))⎥                                              ⎥\n",
       "  2      ⎥                  ⎡0  0  0  0⎤                ⎥\n",
       "dy       ⎥                  ⎢          ⎥                ⎥\n",
       "─────────⎥                  ⎢0  0  0  0⎥                ⎥\n",
       "  2      ⎥                  ⎢          ⎥                ⎥\n",
       "⋅b       ⎥                  ⎢0  0  0  0⎥                ⎥\n",
       "         ⎥                  ⎢          ⎥                ⎥\n",
       "         ⎥                  ⎣0  0  0  0⎦                ⎥\n",
       "         ⎥                                              ⎥\n",
       "         ⎥                                              ⎥\n",
       "         ⎥                                              ⎥\n",
       "         ⎥                                              ⎥\n",
       "0        ⎥                                              ⎥\n",
       "         ⎥                                              ⎥\n",
       "         ⎦                                              ⎦"
      ]
     },
     "execution_count": 20,
     "metadata": {},
     "output_type": "execute_result"
    }
   ],
   "source": [
    "weyl = WeylTensor.from_metric(metric)\n",
    "weyl.tensor()"
   ]
  },
  {
   "cell_type": "code",
   "execution_count": null,
   "id": "abb81f59",
   "metadata": {},
   "outputs": [],
   "source": []
  }
 ],
 "metadata": {
  "@webio": {
   "lastCommId": "c9e325a71576431887165b9a5065dc5c",
   "lastKernelId": "e075e4b4-a508-4169-8cc6-42f6b2ac8e86"
  },
  "kernelspec": {
   "display_name": "Python 3 (ipykernel)",
   "language": "python",
   "name": "python3"
  },
  "language_info": {
   "codemirror_mode": {
    "name": "ipython",
    "version": 3
   },
   "file_extension": ".py",
   "mimetype": "text/x-python",
   "name": "python",
   "nbconvert_exporter": "python",
   "pygments_lexer": "ipython3",
   "version": "3.8.8"
  }
 },
 "nbformat": 4,
 "nbformat_minor": 5
}
