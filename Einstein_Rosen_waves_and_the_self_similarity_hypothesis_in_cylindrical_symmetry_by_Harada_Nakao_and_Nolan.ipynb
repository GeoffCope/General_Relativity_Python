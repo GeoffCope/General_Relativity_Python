{
 "cells": [
  {
   "cell_type": "markdown",
   "id": "ca857e47",
   "metadata": {},
   "source": [
    "# Einstein Rosen waves and the self similarity hypothesis in cylindrical symmetry by Harada Nakao and Nolan\n",
    "##  Geoff Cope\n",
    "##  Univeristy of Utah\n",
    "##  December 24, 2021  Christmas Eve!"
   ]
  },
  {
   "cell_type": "markdown",
   "id": "1e99320c",
   "metadata": {},
   "source": [
    "Einstein Tensor for Metric 2.2 needs to set equal to a yet to be defined stress energy tensor.  Here we concentrate on the metric given as equation 2.13 and find the vacuum field equations for this metric."
   ]
  },
  {
   "cell_type": "markdown",
   "id": "e89b78ce",
   "metadata": {},
   "source": [
    "https://arxiv.org/abs/0812.3462"
   ]
  },
  {
   "cell_type": "code",
   "execution_count": 26,
   "id": "6a73ca26",
   "metadata": {},
   "outputs": [
    {
     "name": "stdout",
     "output_type": "stream",
     "text": [
      "IPython console for SymPy 1.9 (Python 3.8.8-64-bit) (ground types: gmpy)\n",
      "\n",
      "These commands were executed:\n",
      ">>> from __future__ import division\n",
      ">>> from sympy import *\n",
      ">>> x, y, z, t = symbols('x y z t')\n",
      ">>> k, m, n = symbols('k m n', integer=True)\n",
      ">>> f, g, h = symbols('f g h', cls=Function)\n",
      ">>> init_printing()\n",
      "\n",
      "Documentation can be found at https://docs.sympy.org/1.9/\n",
      "\n"
     ]
    }
   ],
   "source": [
    "from sympy import init_session\n",
    "init_session(use_latex=True)"
   ]
  },
  {
   "cell_type": "code",
   "execution_count": 27,
   "id": "1be630e4",
   "metadata": {},
   "outputs": [],
   "source": [
    "import warnings\n",
    "import matplotlib.cbook\n",
    "warnings.filterwarnings(\"ignore\",category=matplotlib.cbook.mplDeprecation)"
   ]
  },
  {
   "cell_type": "code",
   "execution_count": 28,
   "id": "c9cfa38d",
   "metadata": {},
   "outputs": [],
   "source": [
    "x,u,v,phi,z,du,dv,dphi,dz,dt,dx = symbols('x u v phi z du dv dphi dz dt dx')"
   ]
  },
  {
   "cell_type": "code",
   "execution_count": 29,
   "id": "184de15a",
   "metadata": {},
   "outputs": [],
   "source": [
    "gamma, psi,r = symbols('gamma psi r')"
   ]
  },
  {
   "cell_type": "code",
   "execution_count": 30,
   "id": "a09f8766",
   "metadata": {},
   "outputs": [
    {
     "data": {
      "image/png": "[encoded data removed]",
      "text/latex": [
       "$\\displaystyle \\gamma{\\left(t,x \\right)}$"
      ],
      "text/plain": [
       "γ(t, x)"
      ]
     },
     "execution_count": 30,
     "metadata": {},
     "output_type": "execute_result"
    }
   ],
   "source": [
    "gamma = Function('gamma')(t,x)\n",
    "gamma"
   ]
  },
  {
   "cell_type": "code",
   "execution_count": 31,
   "id": "ac36c63b",
   "metadata": {},
   "outputs": [
    {
     "data": {
      "image/png": "[encoded data removed]",
      "text/latex": [
       "$\\displaystyle \\psi{\\left(t,x \\right)}$"
      ],
      "text/plain": [
       "ψ(t, x)"
      ]
     },
     "execution_count": 31,
     "metadata": {},
     "output_type": "execute_result"
    }
   ],
   "source": [
    "psi = Function('psi')(t,x)\n",
    "psi"
   ]
  },
  {
   "cell_type": "code",
   "execution_count": 32,
   "id": "b7f90405",
   "metadata": {},
   "outputs": [
    {
     "data": {
      "text/latex": [
       "$\\displaystyle \\left[\\begin{matrix}t\\\\x\\\\\\phi\\\\z\\end{matrix}\\right]$"
      ],
      "text/plain": [
       "⎡t⎤\n",
       "⎢ ⎥\n",
       "⎢x⎥\n",
       "⎢ ⎥\n",
       "⎢φ⎥\n",
       "⎢ ⎥\n",
       "⎣z⎦"
      ]
     },
     "execution_count": 32,
     "metadata": {},
     "output_type": "execute_result"
    }
   ],
   "source": [
    "variables = Matrix( [t,x,phi,z] )\n",
    "variables"
   ]
  },
  {
   "cell_type": "code",
   "execution_count": 33,
   "id": "1569c59d",
   "metadata": {},
   "outputs": [
    {
     "data": {
      "text/latex": [
       "$\\displaystyle \\left[\\begin{matrix}dt\\\\dx\\\\dphi\\\\dz\\end{matrix}\\right]$"
      ],
      "text/plain": [
       "⎡ dt ⎤\n",
       "⎢    ⎥\n",
       "⎢ dx ⎥\n",
       "⎢    ⎥\n",
       "⎢dphi⎥\n",
       "⎢    ⎥\n",
       "⎣ dz ⎦"
      ]
     },
     "execution_count": 33,
     "metadata": {},
     "output_type": "execute_result"
    }
   ],
   "source": [
    "differentials = Matrix( [dt,dx,dphi,dz] ) \n",
    "differentials"
   ]
  },
  {
   "cell_type": "code",
   "execution_count": 34,
   "id": "45a2975c",
   "metadata": {},
   "outputs": [
    {
     "data": {
      "image/png": "[encoded data removed]",
      "text/latex": [
       "$\\displaystyle dphi^{2} x^{2} e^{- 2 \\psi{\\left(t,x \\right)}} - dt^{2} e^{2 \\gamma{\\left(t,x \\right)}} e^{- 2 \\psi{\\left(t,x \\right)}} + dx^{2} e^{2 \\gamma{\\left(t,x \\right)}} e^{- 2 \\psi{\\left(t,x \\right)}} + dz^{2} e^{2 \\psi{\\left(t,x \\right)}}$"
      ],
      "text/plain": [
       "    2  2  -2⋅ψ(t, x)     2  2⋅γ(t, x)  -2⋅ψ(t, x)     2  2⋅γ(t, x)  -2⋅ψ(t, x)     2  2⋅ψ(t, x)\n",
       "dphi ⋅x ⋅ℯ           - dt ⋅ℯ         ⋅ℯ           + dx ⋅ℯ         ⋅ℯ           + dz ⋅ℯ         "
      ]
     },
     "execution_count": 34,
     "metadata": {},
     "output_type": "execute_result"
    }
   ],
   "source": [
    "lineElement = expand(exp(2*(gamma-psi))*( - dt**2 + dx**2 ) + exp(-2*psi)*x**2*dphi**2 + exp(2*psi)*dz**2) \n",
    "lineElement"
   ]
  },
  {
   "cell_type": "code",
   "execution_count": 35,
   "id": "3392300b",
   "metadata": {},
   "outputs": [
    {
     "data": {
      "text/latex": [
       "$\\displaystyle \\left[\\begin{matrix}- e^{2 \\gamma{\\left(t,x \\right)}} e^{- 2 \\psi{\\left(t,x \\right)}} & 0 & 0 & 0\\\\0 & e^{2 \\gamma{\\left(t,x \\right)}} e^{- 2 \\psi{\\left(t,x \\right)}} & 0 & 0\\\\0 & 0 & x^{2} e^{- 2 \\psi{\\left(t,x \\right)}} & 0\\\\0 & 0 & 0 & e^{2 \\psi{\\left(t,x \\right)}}\\end{matrix}\\right]$"
      ],
      "text/plain": [
       "⎡  2⋅γ(t, x)  -2⋅ψ(t, x)                                                    ⎤\n",
       "⎢-ℯ         ⋅ℯ                      0                   0             0     ⎥\n",
       "⎢                                                                           ⎥\n",
       "⎢                          2⋅γ(t, x)  -2⋅ψ(t, x)                            ⎥\n",
       "⎢           0             ℯ         ⋅ℯ                  0             0     ⎥\n",
       "⎢                                                                           ⎥\n",
       "⎢                                                  2  -2⋅ψ(t, x)            ⎥\n",
       "⎢           0                       0             x ⋅ℯ                0     ⎥\n",
       "⎢                                                                           ⎥\n",
       "⎢                                                                  2⋅ψ(t, x)⎥\n",
       "⎣           0                       0                   0         ℯ         ⎦"
      ]
     },
     "execution_count": 35,
     "metadata": {},
     "output_type": "execute_result"
    }
   ],
   "source": [
    "g = zeros(4)\n",
    "\n",
    "for i in range(4):\n",
    "    for j in range(4):\n",
    "        if i == j:\n",
    "            g[i,j] = lineElement.coeff( differentials[i],2 ) \n",
    "        else:\n",
    "            g[i,j] = Rational(1,2)*lineElement.coeff( differentials[i]*differentials[j],1 )\n",
    "            \n",
    "g"
   ]
  },
  {
   "cell_type": "code",
   "execution_count": 36,
   "id": "a0775cf4",
   "metadata": {},
   "outputs": [],
   "source": [
    "import sympy"
   ]
  },
  {
   "cell_type": "code",
   "execution_count": 37,
   "id": "152cc06d",
   "metadata": {},
   "outputs": [
    {
     "data": {
      "text/latex": [
       "$\\displaystyle \\left[\\begin{matrix}- e^{2 \\gamma{\\left(t,x \\right)}} e^{- 2 \\psi{\\left(t,x \\right)}} & 0 & 0 & 0\\\\0 & e^{2 \\gamma{\\left(t,x \\right)}} e^{- 2 \\psi{\\left(t,x \\right)}} & 0 & 0\\\\0 & 0 & x^{2} e^{- 2 \\psi{\\left(t,x \\right)}} & 0\\\\0 & 0 & 0 & e^{2 \\psi{\\left(t,x \\right)}}\\end{matrix}\\right]$"
      ],
      "text/plain": [
       "⎡  2⋅γ(t, x)  -2⋅ψ(t, x)                                                    ⎤\n",
       "⎢-ℯ         ⋅ℯ                      0                   0             0     ⎥\n",
       "⎢                                                                           ⎥\n",
       "⎢                          2⋅γ(t, x)  -2⋅ψ(t, x)                            ⎥\n",
       "⎢           0             ℯ         ⋅ℯ                  0             0     ⎥\n",
       "⎢                                                                           ⎥\n",
       "⎢                                                  2  -2⋅ψ(t, x)            ⎥\n",
       "⎢           0                       0             x ⋅ℯ                0     ⎥\n",
       "⎢                                                                           ⎥\n",
       "⎢                                                                  2⋅ψ(t, x)⎥\n",
       "⎣           0                       0                   0         ℯ         ⎦"
      ]
     },
     "execution_count": 37,
     "metadata": {},
     "output_type": "execute_result"
    }
   ],
   "source": [
    "m = sympy.Array(g)\n",
    "m"
   ]
  },
  {
   "cell_type": "code",
   "execution_count": 38,
   "id": "932c3e2c",
   "metadata": {},
   "outputs": [],
   "source": [
    "from einsteinpy.symbolic import *"
   ]
  },
  {
   "cell_type": "code",
   "execution_count": 39,
   "id": "e1810e48",
   "metadata": {},
   "outputs": [],
   "source": [
    "syms = sympy.symbols(\"t x phi z\")\n",
    "t,x,phi,z = syms"
   ]
  },
  {
   "cell_type": "code",
   "execution_count": 40,
   "id": "175ada12",
   "metadata": {},
   "outputs": [],
   "source": [
    "metric = MetricTensor(m,syms)"
   ]
  },
  {
   "cell_type": "code",
   "execution_count": 41,
   "id": "9d4522a9",
   "metadata": {},
   "outputs": [
    {
     "data": {
      "text/latex": [
       "$\\displaystyle \\left[\\begin{matrix}\\left[\\begin{matrix}\\frac{\\partial}{\\partial t} \\gamma{\\left(t,x \\right)} - \\frac{\\partial}{\\partial t} \\psi{\\left(t,x \\right)} & \\frac{\\partial}{\\partial x} \\gamma{\\left(t,x \\right)} - \\frac{\\partial}{\\partial x} \\psi{\\left(t,x \\right)} & 0 & 0\\\\\\frac{\\partial}{\\partial x} \\gamma{\\left(t,x \\right)} - \\frac{\\partial}{\\partial x} \\psi{\\left(t,x \\right)} & \\frac{\\partial}{\\partial t} \\gamma{\\left(t,x \\right)} - \\frac{\\partial}{\\partial t} \\psi{\\left(t,x \\right)} & 0 & 0\\\\0 & 0 & - x^{2} e^{- 2 \\gamma{\\left(t,x \\right)}} \\frac{\\partial}{\\partial t} \\psi{\\left(t,x \\right)} & 0\\\\0 & 0 & 0 & e^{- 2 \\gamma{\\left(t,x \\right)} + 4 \\psi{\\left(t,x \\right)}} \\frac{\\partial}{\\partial t} \\psi{\\left(t,x \\right)}\\end{matrix}\\right] & \\left[\\begin{matrix}\\frac{\\partial}{\\partial x} \\gamma{\\left(t,x \\right)} - \\frac{\\partial}{\\partial x} \\psi{\\left(t,x \\right)} & \\frac{\\partial}{\\partial t} \\gamma{\\left(t,x \\right)} - \\frac{\\partial}{\\partial t} \\psi{\\left(t,x \\right)} & 0 & 0\\\\\\frac{\\partial}{\\partial t} \\gamma{\\left(t,x \\right)} - \\frac{\\partial}{\\partial t} \\psi{\\left(t,x \\right)} & \\frac{\\partial}{\\partial x} \\gamma{\\left(t,x \\right)} - \\frac{\\partial}{\\partial x} \\psi{\\left(t,x \\right)} & 0 & 0\\\\0 & 0 & x \\left(x \\frac{\\partial}{\\partial x} \\psi{\\left(t,x \\right)} - 1\\right) e^{- 2 \\gamma{\\left(t,x \\right)}} & 0\\\\0 & 0 & 0 & - e^{- 2 \\gamma{\\left(t,x \\right)} + 4 \\psi{\\left(t,x \\right)}} \\frac{\\partial}{\\partial x} \\psi{\\left(t,x \\right)}\\end{matrix}\\right] & \\left[\\begin{matrix}0 & 0 & - \\frac{\\partial}{\\partial t} \\psi{\\left(t,x \\right)} & 0\\\\0 & 0 & - \\frac{\\partial}{\\partial x} \\psi{\\left(t,x \\right)} + \\frac{1}{x} & 0\\\\- \\frac{\\partial}{\\partial t} \\psi{\\left(t,x \\right)} & - \\frac{\\partial}{\\partial x} \\psi{\\left(t,x \\right)} + \\frac{1}{x} & 0 & 0\\\\0 & 0 & 0 & 0\\end{matrix}\\right] & \\left[\\begin{matrix}0 & 0 & 0 & \\frac{\\partial}{\\partial t} \\psi{\\left(t,x \\right)}\\\\0 & 0 & 0 & \\frac{\\partial}{\\partial x} \\psi{\\left(t,x \\right)}\\\\0 & 0 & 0 & 0\\\\\\frac{\\partial}{\\partial t} \\psi{\\left(t,x \\right)} & \\frac{\\partial}{\\partial x} \\psi{\\left(t,x \\right)} & 0 & 0\\end{matrix}\\right]\\end{matrix}\\right]$"
      ],
      "text/plain": [
       "⎡⎡∂             ∂            ∂             ∂                                                                            ⎤  \n",
       "⎢⎢──(γ(t, x)) - ──(ψ(t, x))  ──(γ(t, x)) - ──(ψ(t, x))               0                                0                 ⎥  \n",
       "⎢⎢∂t            ∂t           ∂x            ∂x                                                                           ⎥  \n",
       "⎢⎢                                                                                                                      ⎥  \n",
       "⎢⎢∂             ∂            ∂             ∂                                                                            ⎥  \n",
       "⎢⎢──(γ(t, x)) - ──(ψ(t, x))  ──(γ(t, x)) - ──(ψ(t, x))               0                                0                 ⎥  \n",
       "⎢⎢∂x            ∂x           ∂t            ∂t                                                                           ⎥  \n",
       "⎢⎢                                                                                                                      ⎥  \n",
       "⎢⎢                                                        2  -2⋅γ(t, x) ∂                                               ⎥  \n",
       "⎢⎢            0                          0              -x ⋅ℯ          ⋅──(ψ(t, x))                   0                 ⎥  \n",
       "⎢⎢                                                                      ∂t                                              ⎥  \n",
       "⎢⎢                                                                                                                      ⎥  \n",
       "⎢⎢                                                                                    -2⋅γ(t, x) + 4⋅ψ(t, x) ∂          ⎥  \n",
       "⎢⎢            0                          0                           0               ℯ                      ⋅──(ψ(t, x))⎥  \n",
       "⎣⎣                                                                                                           ∂t         ⎦  \n",
       "\n",
       "⎡∂             ∂            ∂             ∂                                                                                \n",
       "⎢──(γ(t, x)) - ──(ψ(t, x))  ──(γ(t, x)) - ──(ψ(t, x))                  0                                   0               \n",
       "⎢∂x            ∂x           ∂t            ∂t                                                                               \n",
       "⎢                                                                                                                          \n",
       "⎢∂             ∂            ∂             ∂                                                                                \n",
       "⎢──(γ(t, x)) - ──(ψ(t, x))  ──(γ(t, x)) - ──(ψ(t, x))                  0                                   0               \n",
       "⎢∂t            ∂t           ∂x            ∂x                                                                               \n",
       "⎢                                                                                                                          \n",
       "⎢                                                        ⎛  ∂              ⎞  -2⋅γ(t, x)                                   \n",
       "⎢            0                          0              x⋅⎜x⋅──(ψ(t, x)) - 1⎟⋅ℯ                             0               \n",
       "⎢                                                        ⎝  ∂x             ⎠                                               \n",
       "⎢                                                                                                                          \n",
       "⎢                                                                                           -2⋅γ(t, x) + 4⋅ψ(t, x) ∂       \n",
       "⎢            0                          0                              0                  -ℯ                      ⋅──(ψ(t, \n",
       "⎣                                                                                                                  ∂x      \n",
       "\n",
       "   ⎤                                                                                                     ⎤\n",
       "   ⎥  ⎡                                    ∂                ⎤  ⎡                             ∂          ⎤⎥\n",
       "   ⎥  ⎢     0                0            -──(ψ(t, x))     0⎥  ⎢     0            0       0  ──(ψ(t, x))⎥⎥\n",
       "   ⎥  ⎢                                    ∂t               ⎥  ⎢                             ∂t         ⎥⎥\n",
       "   ⎥  ⎢                                                     ⎥  ⎢                                        ⎥⎥\n",
       "   ⎥  ⎢                                   ∂             1   ⎥  ⎢                             ∂          ⎥⎥\n",
       "   ⎥  ⎢     0                0          - ──(ψ(t, x)) + ─  0⎥  ⎢     0            0       0  ──(ψ(t, x))⎥⎥\n",
       "   ⎥  ⎢                                   ∂x            x   ⎥  ⎢                             ∂x         ⎥⎥\n",
       "   ⎥  ⎢                                                     ⎥  ⎢                                        ⎥⎥\n",
       "   ⎥  ⎢ ∂              ∂             1                      ⎥  ⎢     0            0       0       0     ⎥⎥\n",
       "   ⎥  ⎢-──(ψ(t, x))  - ──(ψ(t, x)) + ─          0          0⎥  ⎢                                        ⎥⎥\n",
       "   ⎥  ⎢ ∂t             ∂x            x                      ⎥  ⎢∂            ∂                          ⎥⎥\n",
       "   ⎥  ⎢                                                     ⎥  ⎢──(ψ(t, x))  ──(ψ(t, x))  0       0     ⎥⎥\n",
       "x))⎥  ⎣     0                0                  0          0⎦  ⎣∂t           ∂x                         ⎦⎥\n",
       "   ⎦                                                                                                     ⎦"
      ]
     },
     "execution_count": 41,
     "metadata": {},
     "output_type": "execute_result"
    }
   ],
   "source": [
    "ch = ChristoffelSymbols.from_metric(metric)\n",
    "simplify(ch.tensor())"
   ]
  },
  {
   "cell_type": "code",
   "execution_count": 42,
   "id": "2cf6b73b",
   "metadata": {},
   "outputs": [
    {
     "data": {
      "text/latex": [
       "$\\displaystyle \\left[\\begin{matrix}\\frac{x \\left(- \\frac{\\partial^{2}}{\\partial t^{2}} \\gamma{\\left(t,x \\right)} + \\frac{\\partial^{2}}{\\partial x^{2}} \\gamma{\\left(t,x \\right)} - 2 \\left(\\frac{\\partial}{\\partial t} \\psi{\\left(t,x \\right)}\\right)^{2} + \\frac{\\partial^{2}}{\\partial t^{2}} \\psi{\\left(t,x \\right)} - \\frac{\\partial^{2}}{\\partial x^{2}} \\psi{\\left(t,x \\right)}\\right) + \\frac{\\partial}{\\partial x} \\gamma{\\left(t,x \\right)} - \\frac{\\partial}{\\partial x} \\psi{\\left(t,x \\right)}}{x} & - 2 \\frac{\\partial}{\\partial t} \\psi{\\left(t,x \\right)} \\frac{\\partial}{\\partial x} \\psi{\\left(t,x \\right)} + \\frac{\\frac{\\partial}{\\partial t} \\gamma{\\left(t,x \\right)}}{x} & 0 & 0\\\\- 2 \\frac{\\partial}{\\partial t} \\psi{\\left(t,x \\right)} \\frac{\\partial}{\\partial x} \\psi{\\left(t,x \\right)} + \\frac{\\frac{\\partial}{\\partial t} \\gamma{\\left(t,x \\right)}}{x} & \\frac{x \\left(\\frac{\\partial^{2}}{\\partial t^{2}} \\gamma{\\left(t,x \\right)} - \\frac{\\partial^{2}}{\\partial x^{2}} \\gamma{\\left(t,x \\right)} - \\frac{\\partial^{2}}{\\partial t^{2}} \\psi{\\left(t,x \\right)} - 2 \\left(\\frac{\\partial}{\\partial x} \\psi{\\left(t,x \\right)}\\right)^{2} + \\frac{\\partial^{2}}{\\partial x^{2}} \\psi{\\left(t,x \\right)}\\right) + \\frac{\\partial}{\\partial x} \\gamma{\\left(t,x \\right)} + \\frac{\\partial}{\\partial x} \\psi{\\left(t,x \\right)}}{x} & 0 & 0\\\\0 & 0 & x \\left(- x \\frac{\\partial^{2}}{\\partial t^{2}} \\psi{\\left(t,x \\right)} + x \\frac{\\partial^{2}}{\\partial x^{2}} \\psi{\\left(t,x \\right)} + \\frac{\\partial}{\\partial x} \\psi{\\left(t,x \\right)}\\right) e^{- 2 \\gamma{\\left(t,x \\right)}} & 0\\\\0 & 0 & 0 & \\frac{\\left(x \\frac{\\partial^{2}}{\\partial t^{2}} \\psi{\\left(t,x \\right)} - x \\frac{\\partial^{2}}{\\partial x^{2}} \\psi{\\left(t,x \\right)} - \\frac{\\partial}{\\partial x} \\psi{\\left(t,x \\right)}\\right) e^{- 2 \\gamma{\\left(t,x \\right)} + 4 \\psi{\\left(t,x \\right)}}}{x}\\end{matrix}\\right]$"
      ],
      "text/plain": [
       "⎡  ⎛    2              2                           2     2              2         ⎞                                        \n",
       "⎢  ⎜   ∂              ∂               ⎛∂          ⎞     ∂              ∂          ⎟   ∂             ∂                      \n",
       "⎢x⋅⎜- ───(γ(t, x)) + ───(γ(t, x)) - 2⋅⎜──(ψ(t, x))⎟  + ───(ψ(t, x)) - ───(ψ(t, x))⎟ + ──(γ(t, x)) - ──(ψ(t, x))            \n",
       "⎢  ⎜    2              2              ⎝∂t         ⎠      2              2         ⎟   ∂x            ∂x                     \n",
       "⎢  ⎝  ∂t             ∂x                                ∂t             ∂x          ⎠                                        \n",
       "⎢──────────────────────────────────────────────────────────────────────────────────────────────────────────────            \n",
       "⎢                                                      x                                                                   \n",
       "⎢                                                                                                                          \n",
       "⎢                                                                                                                  ⎛  2    \n",
       "⎢                                                                                                                  ⎜ ∂     \n",
       "⎢                                                                ∂                                               x⋅⎜───(γ(t\n",
       "⎢                                                                ──(γ(t, x))                                       ⎜  2    \n",
       "⎢                                      ∂           ∂             ∂t                                                ⎝∂t     \n",
       "⎢                                  - 2⋅──(ψ(t, x))⋅──(ψ(t, x)) + ───────────                                     ──────────\n",
       "⎢                                      ∂t          ∂x                 x                                                    \n",
       "⎢                                                                                                                          \n",
       "⎢                                                                                                                          \n",
       "⎢                                                                                                                          \n",
       "⎢                                                      0                                                                   \n",
       "⎢                                                                                                                          \n",
       "⎢                                                                                                                          \n",
       "⎢                                                                                                                          \n",
       "⎢                                                                                                                          \n",
       "⎢                                                                                                                          \n",
       "⎢                                                                                                                          \n",
       "⎢                                                                                                                          \n",
       "⎢                                                                                                                          \n",
       "⎢                                                      0                                                                   \n",
       "⎣                                                                                                                          \n",
       "\n",
       "                                                                                                                           \n",
       "                                                                                                                           \n",
       "                                                     ∂                                                                     \n",
       "                                                     ──(γ(t, x))                                                           \n",
       "                           ∂           ∂             ∂t                                                                    \n",
       "                       - 2⋅──(ψ(t, x))⋅──(ψ(t, x)) + ───────────                                                           \n",
       "                           ∂t          ∂x                 x                                                                \n",
       "                                                                                                                           \n",
       "          2              2                           2     2         ⎞                                                     \n",
       "         ∂              ∂               ⎛∂          ⎞     ∂          ⎟   ∂             ∂                                   \n",
       ", x)) - ───(γ(t, x)) - ───(ψ(t, x)) - 2⋅⎜──(ψ(t, x))⎟  + ───(ψ(t, x))⎟ + ──(γ(t, x)) + ──(ψ(t, x))                         \n",
       "          2              2              ⎝∂x         ⎠      2         ⎟   ∂x            ∂x                                  \n",
       "        ∂x             ∂t                                ∂x          ⎠                                                     \n",
       "──────────────────────────────────────────────────────────────────────────────────────────────────                         \n",
       "                                           x                                                                               \n",
       "                                                                                                                           \n",
       "                                                                                                      ⎛      2             \n",
       "                                                                                                      ⎜     ∂              \n",
       "                                           0                                                        x⋅⎜- x⋅───(ψ(t, x)) + x\n",
       "                                                                                                      ⎜      2             \n",
       "                                                                                                      ⎝    ∂t              \n",
       "                                                                                                                           \n",
       "                                                                                                                           \n",
       "                                                                                                                           \n",
       "                                                                                                                           \n",
       "                                                                                                                           \n",
       "                                                                                                                           \n",
       "                                           0                                                                               \n",
       "                                                                                                                           \n",
       "\n",
       "                                                                                                                 ⎤\n",
       "                                                                                                                 ⎥\n",
       "                                                                                                                 ⎥\n",
       "                                                                                                                 ⎥\n",
       "                                                                                                                 ⎥\n",
       "        0                                                                    0                                   ⎥\n",
       "                                                                                                                 ⎥\n",
       "                                                                                                                 ⎥\n",
       "                                                                                                                 ⎥\n",
       "                                                                                                                 ⎥\n",
       "                                                                                                                 ⎥\n",
       "                                                                                                                 ⎥\n",
       "                                                                                                                 ⎥\n",
       "        0                                                                    0                                   ⎥\n",
       "                                                                                                                 ⎥\n",
       "                                                                                                                 ⎥\n",
       "   2                       ⎞                                                                                     ⎥\n",
       "  ∂             ∂          ⎟  -2⋅γ(t, x)                                                                         ⎥\n",
       "⋅───(ψ(t, x)) + ──(ψ(t, x))⎟⋅ℯ                                               0                                   ⎥\n",
       "   2            ∂x         ⎟                                                                                     ⎥\n",
       " ∂x                        ⎠                                                                                     ⎥\n",
       "                                                                                                                 ⎥\n",
       "                                          ⎛    2                2                       ⎞                        ⎥\n",
       "                                          ⎜   ∂                ∂             ∂          ⎟  -2⋅γ(t, x) + 4⋅ψ(t, x)⎥\n",
       "                                          ⎜x⋅───(ψ(t, x)) - x⋅───(ψ(t, x)) - ──(ψ(t, x))⎟⋅ℯ                      ⎥\n",
       "                                          ⎜    2                2            ∂x         ⎟                        ⎥\n",
       "                                          ⎝  ∂t               ∂x                        ⎠                        ⎥\n",
       "        0                                 ───────────────────────────────────────────────────────────────────────⎥\n",
       "                                                                             x                                   ⎦"
      ]
     },
     "execution_count": 42,
     "metadata": {},
     "output_type": "execute_result"
    }
   ],
   "source": [
    "Ric = RicciTensor.from_metric(metric)\n",
    "Ric.tensor()"
   ]
  },
  {
   "cell_type": "code",
   "execution_count": 43,
   "id": "0f79f0c7",
   "metadata": {},
   "outputs": [
    {
     "data": {
      "text/latex": [
       "$\\displaystyle \\left[\\begin{matrix}- 1.0 \\left(\\frac{\\partial}{\\partial t} \\psi{\\left(t,x \\right)}\\right)^{2} - 1.0 \\left(\\frac{\\partial}{\\partial x} \\psi{\\left(t,x \\right)}\\right)^{2} + \\frac{1.0 \\frac{\\partial}{\\partial x} \\gamma{\\left(t,x \\right)}}{x} & - 2 \\frac{\\partial}{\\partial t} \\psi{\\left(t,x \\right)} \\frac{\\partial}{\\partial x} \\psi{\\left(t,x \\right)} + \\frac{\\frac{\\partial}{\\partial t} \\gamma{\\left(t,x \\right)}}{x} & 0 & 0\\\\- 2 \\frac{\\partial}{\\partial t} \\psi{\\left(t,x \\right)} \\frac{\\partial}{\\partial x} \\psi{\\left(t,x \\right)} + \\frac{\\frac{\\partial}{\\partial t} \\gamma{\\left(t,x \\right)}}{x} & - 1.0 \\left(\\frac{\\partial}{\\partial t} \\psi{\\left(t,x \\right)}\\right)^{2} - 1.0 \\left(\\frac{\\partial}{\\partial x} \\psi{\\left(t,x \\right)}\\right)^{2} + \\frac{1.0 \\frac{\\partial}{\\partial x} \\gamma{\\left(t,x \\right)}}{x} & 0 & 0\\\\0 & 0 & 1.0 x^{2} \\left(- \\frac{\\partial^{2}}{\\partial t^{2}} \\gamma{\\left(t,x \\right)} + \\frac{\\partial^{2}}{\\partial x^{2}} \\gamma{\\left(t,x \\right)} - \\left(\\frac{\\partial}{\\partial t} \\psi{\\left(t,x \\right)}\\right)^{2} + \\left(\\frac{\\partial}{\\partial x} \\psi{\\left(t,x \\right)}\\right)^{2}\\right) e^{- 2 \\gamma{\\left(t,x \\right)}} & 0\\\\0 & 0 & 0 & \\frac{\\left(- 1.0 x \\frac{\\partial^{2}}{\\partial t^{2}} \\gamma{\\left(t,x \\right)} + 1.0 x \\frac{\\partial^{2}}{\\partial x^{2}} \\gamma{\\left(t,x \\right)} - 1.0 x \\left(\\frac{\\partial}{\\partial t} \\psi{\\left(t,x \\right)}\\right)^{2} + 2.0 x \\frac{\\partial^{2}}{\\partial t^{2}} \\psi{\\left(t,x \\right)} + 1.0 x \\left(\\frac{\\partial}{\\partial x} \\psi{\\left(t,x \\right)}\\right)^{2} - 2.0 x \\frac{\\partial^{2}}{\\partial x^{2}} \\psi{\\left(t,x \\right)} - 2.0 \\frac{\\partial}{\\partial x} \\psi{\\left(t,x \\right)}\\right) e^{- 2 \\gamma{\\left(t,x \\right)} + 4 \\psi{\\left(t,x \\right)}}}{x}\\end{matrix}\\right]$"
      ],
      "text/plain": [
       "⎡                                        ∂                                               ∂                                 \n",
       "⎢               2                2   1.0⋅──(γ(t, x))                                     ──(γ(t, x))                       \n",
       "⎢  ⎛∂          ⎞    ⎛∂          ⎞        ∂x                    ∂           ∂             ∂t                                \n",
       "⎢- ⎜──(ψ(t, x))⎟  - ⎜──(ψ(t, x))⎟  + ───────────────       - 2⋅──(ψ(t, x))⋅──(ψ(t, x)) + ───────────                       \n",
       "⎢  ⎝∂t         ⎠    ⎝∂x         ⎠           x                  ∂t          ∂x                 x                            \n",
       "⎢                                                                                                                          \n",
       "⎢                                   ∂                                                         ∂                            \n",
       "⎢                                   ──(γ(t, x))                      2                2   1.0⋅──(γ(t, x))                  \n",
       "⎢         ∂           ∂             ∂t                  ⎛∂          ⎞    ⎛∂          ⎞        ∂x                           \n",
       "⎢     - 2⋅──(ψ(t, x))⋅──(ψ(t, x)) + ───────────       - ⎜──(ψ(t, x))⎟  - ⎜──(ψ(t, x))⎟  + ───────────────                  \n",
       "⎢         ∂t          ∂x                 x              ⎝∂t         ⎠    ⎝∂x         ⎠           x                         \n",
       "⎢                                                                                                                          \n",
       "⎢                                                                                                                 ⎛    2   \n",
       "⎢                                                                                                               2 ⎜   ∂    \n",
       "⎢                         0                                                    0                           1.0⋅x ⋅⎜- ───(γ(\n",
       "⎢                                                                                                                 ⎜    2   \n",
       "⎢                                                                                                                 ⎝  ∂t    \n",
       "⎢                                                                                                                          \n",
       "⎢                                                                                                                          \n",
       "⎢                                                                                                                          \n",
       "⎢                                                                                                                          \n",
       "⎢                                                                                                                          \n",
       "⎢                                                                                                                          \n",
       "⎢                         0                                                    0                                           \n",
       "⎣                                                                                                                          \n",
       "\n",
       "                                                                                                                           \n",
       "                                                                                                                           \n",
       "                                                                                                                           \n",
       "                         0                                                                                                 \n",
       "                                                                                                                           \n",
       "                                                                                                                           \n",
       "                                                                                                                           \n",
       "                                                                                                                           \n",
       "                                                                                                                           \n",
       "                         0                                                                                                 \n",
       "                                                                                                                           \n",
       "                                                                                                                           \n",
       "           2                         2                2⎞                                                                   \n",
       "          ∂             ⎛∂          ⎞    ⎛∂          ⎞ ⎟  -2⋅γ(t, x)                                                       \n",
       "t, x)) + ───(γ(t, x)) - ⎜──(ψ(t, x))⎟  + ⎜──(ψ(t, x))⎟ ⎟⋅ℯ                                                                 \n",
       "           2            ⎝∂t         ⎠    ⎝∂x         ⎠ ⎟                                                                   \n",
       "         ∂x                                            ⎠                                                                   \n",
       "                                                                                                                           \n",
       "                                                                      ⎛      2                    2                        \n",
       "                                                                      ⎜     ∂                    ∂               ⎛∂        \n",
       "                                                                      ⎜- x⋅───(γ(t, x)) + 1.0⋅x⋅───(γ(t, x)) - x⋅⎜──(ψ(t, x\n",
       "                                                                      ⎜      2                    2              ⎝∂t       \n",
       "                                                                      ⎝    ∂t                   ∂x                         \n",
       "                         0                                            ─────────────────────────────────────────────────────\n",
       "                                                                                                                           \n",
       "\n",
       "                                                                                                                ⎤\n",
       "                                                                                                                ⎥\n",
       "                                                                                                                ⎥\n",
       "                             0                                                                                  ⎥\n",
       "                                                                                                                ⎥\n",
       "                                                                                                                ⎥\n",
       "                                                                                                                ⎥\n",
       "                                                                                                                ⎥\n",
       "                                                                                                                ⎥\n",
       "                             0                                                                                  ⎥\n",
       "                                                                                                                ⎥\n",
       "                                                                                                                ⎥\n",
       "                                                                                                                ⎥\n",
       "                                                                                                                ⎥\n",
       "                             0                                                                                  ⎥\n",
       "                                                                                                                ⎥\n",
       "                                                                                                                ⎥\n",
       "                                                                                                                ⎥\n",
       "   2           2                               2           2                           ⎞                        ⎥\n",
       "  ⎞           ∂                   ⎛∂          ⎞           ∂                 ∂          ⎟  -2⋅γ(t, x) + 4⋅ψ(t, x)⎥\n",
       "))⎟  + 2.0⋅x⋅───(ψ(t, x)) + 1.0⋅x⋅⎜──(ψ(t, x))⎟  - 2.0⋅x⋅───(ψ(t, x)) - 2.0⋅──(ψ(t, x))⎟⋅ℯ                      ⎥\n",
       "  ⎠            2                  ⎝∂x         ⎠            2                ∂x         ⎟                        ⎥\n",
       "             ∂t                                          ∂x                            ⎠                        ⎥\n",
       "────────────────────────────────────────────────────────────────────────────────────────────────────────────────⎥\n",
       "                             x                                                                                  ⎦"
      ]
     },
     "execution_count": 43,
     "metadata": {},
     "output_type": "execute_result"
    }
   ],
   "source": [
    "einst = EinsteinTensor.from_metric(metric)\n",
    "simplify(einst.tensor())"
   ]
  },
  {
   "cell_type": "code",
   "execution_count": 44,
   "id": "d4c94e33",
   "metadata": {},
   "outputs": [
    {
     "data": {
      "image/png": "[encoded data removed]",
      "text/latex": [
       "$\\displaystyle \\frac{2 \\left(x \\frac{\\partial^{2}}{\\partial t^{2}} \\gamma{\\left(t,x \\right)} - x \\frac{\\partial^{2}}{\\partial x^{2}} \\gamma{\\left(t,x \\right)} + x \\left(\\frac{\\partial}{\\partial t} \\psi{\\left(t,x \\right)}\\right)^{2} - x \\frac{\\partial^{2}}{\\partial t^{2}} \\psi{\\left(t,x \\right)} - x \\left(\\frac{\\partial}{\\partial x} \\psi{\\left(t,x \\right)}\\right)^{2} + x \\frac{\\partial^{2}}{\\partial x^{2}} \\psi{\\left(t,x \\right)} + \\frac{\\partial}{\\partial x} \\psi{\\left(t,x \\right)}\\right) e^{- 2 \\gamma{\\left(t,x \\right)} + 2 \\psi{\\left(t,x \\right)}}}{x}$"
      ],
      "text/plain": [
       "  ⎛    2                2                           2       2                           2       2                       ⎞  \n",
       "  ⎜   ∂                ∂               ⎛∂          ⎞       ∂               ⎛∂          ⎞       ∂             ∂          ⎟  \n",
       "2⋅⎜x⋅───(γ(t, x)) - x⋅───(γ(t, x)) + x⋅⎜──(ψ(t, x))⎟  - x⋅───(ψ(t, x)) - x⋅⎜──(ψ(t, x))⎟  + x⋅───(ψ(t, x)) + ──(ψ(t, x))⎟⋅ℯ\n",
       "  ⎜    2                2              ⎝∂t         ⎠        2              ⎝∂x         ⎠        2            ∂x         ⎟  \n",
       "  ⎝  ∂t               ∂x                                  ∂t                                  ∂x                        ⎠  \n",
       "───────────────────────────────────────────────────────────────────────────────────────────────────────────────────────────\n",
       "                                                                        x                                                  \n",
       "\n",
       "                      \n",
       "-2⋅γ(t, x) + 2⋅ψ(t, x)\n",
       "                      \n",
       "                      \n",
       "                      \n",
       "──────────────────────\n",
       "                      "
      ]
     },
     "execution_count": 44,
     "metadata": {},
     "output_type": "execute_result"
    }
   ],
   "source": [
    "R = RicciScalar.from_riccitensor(Ric)\n",
    "R.simplify()\n",
    "R.expr"
   ]
  },
  {
   "cell_type": "code",
   "execution_count": 45,
   "id": "fa12a44d",
   "metadata": {},
   "outputs": [],
   "source": [
    "#  rm1 = RiemannCurvatureTensor.from_christoffels(ch)\n",
    "#  rm1.tensor()"
   ]
  },
  {
   "cell_type": "code",
   "execution_count": 46,
   "id": "f4276995",
   "metadata": {},
   "outputs": [],
   "source": [
    "#  weyl = WeylTensor.from_metric(metric)\n",
    "#  weyl.tensor()"
   ]
  },
  {
   "cell_type": "code",
   "execution_count": 66,
   "id": "7df14214",
   "metadata": {},
   "outputs": [
    {
     "data": {
      "image/png": "[encoded data removed]",
      "text/latex": [
       "$\\displaystyle - \\frac{\\partial^{2}}{\\partial t^{2}} \\psi{\\left(t,x \\right)} + \\frac{\\partial^{2}}{\\partial x^{2}} \\psi{\\left(t,x \\right)} + \\frac{\\frac{\\partial}{\\partial x} \\psi{\\left(t,x \\right)}}{x} = 0$"
      ],
      "text/plain": [
       "                                ∂              \n",
       "    2              2            ──(ψ(t, x))    \n",
       "   ∂              ∂             ∂x             \n",
       "- ───(ψ(t, x)) + ───(ψ(t, x)) + ─────────── = 0\n",
       "    2              2                 x         \n",
       "  ∂t             ∂x                            "
      ]
     },
     "execution_count": 66,
     "metadata": {},
     "output_type": "execute_result"
    }
   ],
   "source": [
    "equation2pt14 = Eq(expand((1/x)*Ric.tensor()[2,2].args[1]),0)\n",
    "equation2pt14"
   ]
  },
  {
   "cell_type": "code",
   "execution_count": 59,
   "id": "f2779e84",
   "metadata": {
    "scrolled": false
   },
   "outputs": [
    {
     "data": {
      "image/png": "[encoded data removed]",
      "text/latex": [
       "$\\displaystyle \\frac{\\partial}{\\partial x} \\gamma{\\left(t,x \\right)} = x \\left(\\left(\\frac{\\partial}{\\partial t} \\psi{\\left(t,x \\right)}\\right)^{2} + \\left(\\frac{\\partial}{\\partial x} \\psi{\\left(t,x \\right)}\\right)^{2}\\right)$"
      ],
      "text/plain": [
       "                ⎛             2                2⎞\n",
       "∂               ⎜⎛∂          ⎞    ⎛∂          ⎞ ⎟\n",
       "──(γ(t, x)) = x⋅⎜⎜──(ψ(t, x))⎟  + ⎜──(ψ(t, x))⎟ ⎟\n",
       "∂x              ⎝⎝∂t         ⎠    ⎝∂x         ⎠ ⎠"
      ]
     },
     "execution_count": 59,
     "metadata": {},
     "output_type": "execute_result"
    }
   ],
   "source": [
    "equation2pt15 = Eq(diff(gamma,x),solve( simplify(einst.tensor())[0,0] , diff(gamma,x))[0])\n",
    "equation2pt15"
   ]
  },
  {
   "cell_type": "code",
   "execution_count": 50,
   "id": "a4f17eea",
   "metadata": {},
   "outputs": [
    {
     "data": {
      "image/png": "[encoded data removed]",
      "text/latex": [
       "$\\displaystyle \\frac{\\partial}{\\partial t} \\gamma{\\left(t,x \\right)} = 2 x \\frac{\\partial}{\\partial t} \\psi{\\left(t,x \\right)} \\frac{\\partial}{\\partial x} \\psi{\\left(t,x \\right)}$"
      ],
      "text/plain": [
       "∂                 ∂           ∂          \n",
       "──(γ(t, x)) = 2⋅x⋅──(ψ(t, x))⋅──(ψ(t, x))\n",
       "∂t                ∂t          ∂x         "
      ]
     },
     "execution_count": 50,
     "metadata": {},
     "output_type": "execute_result"
    }
   ],
   "source": [
    "equation2pt16 = Eq(diff(gamma,t),solve( Ric.tensor()[1,0] , diff(gamma,t) )[0] )\n",
    "equation2pt16"
   ]
  },
  {
   "cell_type": "code",
   "execution_count": 68,
   "id": "57bbe52d",
   "metadata": {},
   "outputs": [
    {
     "data": {
      "text/latex": [
       "$\\displaystyle \\left[\\begin{matrix}- \\frac{\\partial^{2}}{\\partial t^{2}} \\psi{\\left(t,x \\right)} + \\frac{\\partial^{2}}{\\partial x^{2}} \\psi{\\left(t,x \\right)} + \\frac{\\frac{\\partial}{\\partial x} \\psi{\\left(t,x \\right)}}{x} = 0\\\\\\frac{\\partial}{\\partial x} \\gamma{\\left(t,x \\right)} = x \\left(\\left(\\frac{\\partial}{\\partial t} \\psi{\\left(t,x \\right)}\\right)^{2} + \\left(\\frac{\\partial}{\\partial x} \\psi{\\left(t,x \\right)}\\right)^{2}\\right)\\\\\\frac{\\partial}{\\partial t} \\gamma{\\left(t,x \\right)} = 2 x \\frac{\\partial}{\\partial t} \\psi{\\left(t,x \\right)} \\frac{\\partial}{\\partial x} \\psi{\\left(t,x \\right)}\\end{matrix}\\right]$"
      ],
      "text/plain": [
       "⎡                                 ∂               ⎤\n",
       "⎢     2              2            ──(ψ(t, x))     ⎥\n",
       "⎢    ∂              ∂             ∂x              ⎥\n",
       "⎢ - ───(ψ(t, x)) + ───(ψ(t, x)) + ─────────── = 0 ⎥\n",
       "⎢     2              2                 x          ⎥\n",
       "⎢   ∂t             ∂x                             ⎥\n",
       "⎢                                                 ⎥\n",
       "⎢                ⎛             2                2⎞⎥\n",
       "⎢∂               ⎜⎛∂          ⎞    ⎛∂          ⎞ ⎟⎥\n",
       "⎢──(γ(t, x)) = x⋅⎜⎜──(ψ(t, x))⎟  + ⎜──(ψ(t, x))⎟ ⎟⎥\n",
       "⎢∂x              ⎝⎝∂t         ⎠    ⎝∂x         ⎠ ⎠⎥\n",
       "⎢                                                 ⎥\n",
       "⎢    ∂                 ∂           ∂              ⎥\n",
       "⎢    ──(γ(t, x)) = 2⋅x⋅──(ψ(t, x))⋅──(ψ(t, x))    ⎥\n",
       "⎣    ∂t                ∂t          ∂x             ⎦"
      ]
     },
     "execution_count": 68,
     "metadata": {},
     "output_type": "execute_result"
    }
   ],
   "source": [
    "vacuumFieldEquations = Matrix([equation2pt14,equation2pt15,equation2pt16])\n",
    "vacuumFieldEquations"
   ]
  },
  {
   "cell_type": "code",
   "execution_count": null,
   "id": "861539e9",
   "metadata": {},
   "outputs": [],
   "source": []
  }
 ],
 "metadata": {
  "@webio": {
   "lastCommId": null,
   "lastKernelId": null
  },
  "kernelspec": {
   "display_name": "Python 3 (ipykernel)",
   "language": "python",
   "name": "python3"
  },
  "language_info": {
   "codemirror_mode": {
    "name": "ipython",
    "version": 3
   },
   "file_extension": ".py",
   "mimetype": "text/x-python",
   "name": "python",
   "nbconvert_exporter": "python",
   "pygments_lexer": "ipython3",
   "version": "3.8.8"
  }
 },
 "nbformat": 4,
 "nbformat_minor": 5
}
