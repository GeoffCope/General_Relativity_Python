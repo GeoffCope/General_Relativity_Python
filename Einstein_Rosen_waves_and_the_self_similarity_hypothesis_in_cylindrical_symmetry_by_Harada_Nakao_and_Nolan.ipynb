{
 "cells": [
  {
   "cell_type": "markdown",
   "id": "ca857e47",
   "metadata": {},
   "source": [
    "# Einstein Rosen waves and the self similarity hypothesis in cylindrical symmetry by Harada Nakao and Nolan\n",
    "##  Geoff Cope\n",
    "##  Univeristy of Utah\n",
    "##  December 24, 2021  Christmas Eve!"
   ]
  },
  {
   "cell_type": "markdown",
   "id": "1e99320c",
   "metadata": {},
   "source": [
    "Here we concentrate on the metric given as equation 2.2"
   ]
  },
  {
   "cell_type": "markdown",
   "id": "e89b78ce",
   "metadata": {},
   "source": [
    "https://arxiv.org/abs/0812.3462"
   ]
  },
  {
   "cell_type": "code",
   "execution_count": 1,
   "id": "6a73ca26",
   "metadata": {},
   "outputs": [
    {
     "name": "stdout",
     "output_type": "stream",
     "text": [
      "IPython console for SymPy 1.9 (Python 3.8.8-64-bit) (ground types: gmpy)\n",
      "\n",
      "These commands were executed:\n",
      ">>> from __future__ import division\n",
      ">>> from sympy import *\n",
      ">>> x, y, z, t = symbols('x y z t')\n",
      ">>> k, m, n = symbols('k m n', integer=True)\n",
      ">>> f, g, h = symbols('f g h', cls=Function)\n",
      ">>> init_printing()\n",
      "\n",
      "Documentation can be found at https://docs.sympy.org/1.9/\n",
      "\n"
     ]
    }
   ],
   "source": [
    "from sympy import init_session\n",
    "init_session(use_latex=True)"
   ]
  },
  {
   "cell_type": "code",
   "execution_count": 2,
   "id": "1be630e4",
   "metadata": {},
   "outputs": [],
   "source": [
    "import warnings\n",
    "import matplotlib.cbook\n",
    "warnings.filterwarnings(\"ignore\",category=matplotlib.cbook.mplDeprecation)"
   ]
  },
  {
   "cell_type": "code",
   "execution_count": 3,
   "id": "c9cfa38d",
   "metadata": {},
   "outputs": [],
   "source": [
    "u,v,phi,z,du,dv,dphi,dz = symbols('u v phi z du dv dphi dz')"
   ]
  },
  {
   "cell_type": "code",
   "execution_count": 4,
   "id": "184de15a",
   "metadata": {},
   "outputs": [],
   "source": [
    "gamma, psi,r = symbols('gamma psi r')"
   ]
  },
  {
   "cell_type": "code",
   "execution_count": 5,
   "id": "a09f8766",
   "metadata": {},
   "outputs": [
    {
     "data": {
      "image/png": "[encoded data removed]",
      "text/latex": [
       "$\\displaystyle \\gamma{\\left(u,v \\right)}$"
      ],
      "text/plain": [
       "γ(u, v)"
      ]
     },
     "execution_count": 5,
     "metadata": {},
     "output_type": "execute_result"
    }
   ],
   "source": [
    "gamma = Function('gamma')(u,v)\n",
    "gamma"
   ]
  },
  {
   "cell_type": "code",
   "execution_count": 6,
   "id": "ac36c63b",
   "metadata": {},
   "outputs": [
    {
     "data": {
      "image/png": "[encoded data removed]",
      "text/latex": [
       "$\\displaystyle \\psi{\\left(u,v \\right)}$"
      ],
      "text/plain": [
       "ψ(u, v)"
      ]
     },
     "execution_count": 6,
     "metadata": {},
     "output_type": "execute_result"
    }
   ],
   "source": [
    "psi = Function('psi')(u,v)\n",
    "psi"
   ]
  },
  {
   "cell_type": "code",
   "execution_count": 7,
   "id": "5e8d0f50",
   "metadata": {},
   "outputs": [
    {
     "data": {
      "image/png": "[encoded data removed]",
      "text/latex": [
       "$\\displaystyle r{\\left(u,v \\right)}$"
      ],
      "text/plain": [
       "r(u, v)"
      ]
     },
     "execution_count": 7,
     "metadata": {},
     "output_type": "execute_result"
    }
   ],
   "source": [
    "r = Function('r')(u,v)\n",
    "r"
   ]
  },
  {
   "cell_type": "code",
   "execution_count": 8,
   "id": "df138276",
   "metadata": {},
   "outputs": [
    {
     "data": {
      "image/png": "[encoded data removed]",
      "text/latex": [
       "$\\displaystyle dphi^{2} r^{2}{\\left(u,v \\right)} e^{- 2 \\psi{\\left(u,v \\right)}} - 2 du dv e^{2 \\gamma{\\left(u,v \\right)} - 2 \\psi{\\left(u,v \\right)}} + dz^{2} e^{2 \\psi{\\left(u,v \\right)}}$"
      ],
      "text/plain": [
       "    2  2        -2⋅ψ(u, v)            2⋅γ(u, v) - 2⋅ψ(u, v)     2  2⋅ψ(u, v)\n",
       "dphi ⋅r (u, v)⋅ℯ           - 2⋅du⋅dv⋅ℯ                      + dz ⋅ℯ         "
      ]
     },
     "execution_count": 8,
     "metadata": {},
     "output_type": "execute_result"
    }
   ],
   "source": [
    "lineElement = -2*exp(2*(gamma-psi))*du*dv+exp(-2*psi)*r**2*dphi**2 + exp(2*psi)*dz**2 \n",
    "lineElement"
   ]
  },
  {
   "cell_type": "code",
   "execution_count": 10,
   "id": "b7f90405",
   "metadata": {},
   "outputs": [
    {
     "data": {
      "text/latex": [
       "$\\displaystyle \\left[\\begin{matrix}u\\\\v\\\\\\phi\\\\z\\end{matrix}\\right]$"
      ],
      "text/plain": [
       "⎡u⎤\n",
       "⎢ ⎥\n",
       "⎢v⎥\n",
       "⎢ ⎥\n",
       "⎢φ⎥\n",
       "⎢ ⎥\n",
       "⎣z⎦"
      ]
     },
     "execution_count": 10,
     "metadata": {},
     "output_type": "execute_result"
    }
   ],
   "source": [
    "variables = Matrix( [u,v,phi,z] )\n",
    "variables"
   ]
  },
  {
   "cell_type": "code",
   "execution_count": 11,
   "id": "1569c59d",
   "metadata": {},
   "outputs": [
    {
     "data": {
      "text/latex": [
       "$\\displaystyle \\left[\\begin{matrix}du\\\\dv\\\\dphi\\\\dz\\end{matrix}\\right]$"
      ],
      "text/plain": [
       "⎡ du ⎤\n",
       "⎢    ⎥\n",
       "⎢ dv ⎥\n",
       "⎢    ⎥\n",
       "⎢dphi⎥\n",
       "⎢    ⎥\n",
       "⎣ dz ⎦"
      ]
     },
     "execution_count": 11,
     "metadata": {},
     "output_type": "execute_result"
    }
   ],
   "source": [
    "differentials = Matrix( [du,dv,dphi,dz] ) \n",
    "differentials"
   ]
  },
  {
   "cell_type": "code",
   "execution_count": 12,
   "id": "3392300b",
   "metadata": {},
   "outputs": [
    {
     "data": {
      "text/latex": [
       "$\\displaystyle \\left[\\begin{matrix}0 & - e^{2 \\gamma{\\left(u,v \\right)} - 2 \\psi{\\left(u,v \\right)}} & 0 & 0\\\\- e^{2 \\gamma{\\left(u,v \\right)} - 2 \\psi{\\left(u,v \\right)}} & 0 & 0 & 0\\\\0 & 0 & r^{2}{\\left(u,v \\right)} e^{- 2 \\psi{\\left(u,v \\right)}} & 0\\\\0 & 0 & 0 & e^{2 \\psi{\\left(u,v \\right)}}\\end{matrix}\\right]$"
      ],
      "text/plain": [
       "⎡                           2⋅γ(u, v) - 2⋅ψ(u, v)                                  ⎤\n",
       "⎢           0             -ℯ                                0                0     ⎥\n",
       "⎢                                                                                  ⎥\n",
       "⎢  2⋅γ(u, v) - 2⋅ψ(u, v)                                                           ⎥\n",
       "⎢-ℯ                                  0                      0                0     ⎥\n",
       "⎢                                                                                  ⎥\n",
       "⎢                                                   2        -2⋅ψ(u, v)            ⎥\n",
       "⎢           0                        0             r (u, v)⋅ℯ                0     ⎥\n",
       "⎢                                                                                  ⎥\n",
       "⎢                                                                         2⋅ψ(u, v)⎥\n",
       "⎣           0                        0                      0            ℯ         ⎦"
      ]
     },
     "execution_count": 12,
     "metadata": {},
     "output_type": "execute_result"
    }
   ],
   "source": [
    "g = zeros(4)\n",
    "\n",
    "for i in range(4):\n",
    "    for j in range(4):\n",
    "        if i == j:\n",
    "            g[i,j] = lineElement.coeff( differentials[i],2 ) \n",
    "        else:\n",
    "            g[i,j] = Rational(1,2)*lineElement.coeff( differentials[i]*differentials[j],1 )\n",
    "            \n",
    "g"
   ]
  },
  {
   "cell_type": "code",
   "execution_count": 13,
   "id": "a0775cf4",
   "metadata": {},
   "outputs": [],
   "source": [
    "import sympy"
   ]
  },
  {
   "cell_type": "code",
   "execution_count": 14,
   "id": "152cc06d",
   "metadata": {},
   "outputs": [
    {
     "data": {
      "text/latex": [
       "$\\displaystyle \\left[\\begin{matrix}0 & - e^{2 \\gamma{\\left(u,v \\right)} - 2 \\psi{\\left(u,v \\right)}} & 0 & 0\\\\- e^{2 \\gamma{\\left(u,v \\right)} - 2 \\psi{\\left(u,v \\right)}} & 0 & 0 & 0\\\\0 & 0 & r^{2}{\\left(u,v \\right)} e^{- 2 \\psi{\\left(u,v \\right)}} & 0\\\\0 & 0 & 0 & e^{2 \\psi{\\left(u,v \\right)}}\\end{matrix}\\right]$"
      ],
      "text/plain": [
       "⎡                           2⋅γ(u, v) - 2⋅ψ(u, v)                                  ⎤\n",
       "⎢           0             -ℯ                                0                0     ⎥\n",
       "⎢                                                                                  ⎥\n",
       "⎢  2⋅γ(u, v) - 2⋅ψ(u, v)                                                           ⎥\n",
       "⎢-ℯ                                  0                      0                0     ⎥\n",
       "⎢                                                                                  ⎥\n",
       "⎢                                                   2        -2⋅ψ(u, v)            ⎥\n",
       "⎢           0                        0             r (u, v)⋅ℯ                0     ⎥\n",
       "⎢                                                                                  ⎥\n",
       "⎢                                                                         2⋅ψ(u, v)⎥\n",
       "⎣           0                        0                      0            ℯ         ⎦"
      ]
     },
     "execution_count": 14,
     "metadata": {},
     "output_type": "execute_result"
    }
   ],
   "source": [
    "m = sympy.Array(g)\n",
    "m"
   ]
  },
  {
   "cell_type": "code",
   "execution_count": 15,
   "id": "932c3e2c",
   "metadata": {},
   "outputs": [],
   "source": [
    "from einsteinpy.symbolic import *"
   ]
  },
  {
   "cell_type": "code",
   "execution_count": 16,
   "id": "e1810e48",
   "metadata": {},
   "outputs": [],
   "source": [
    "syms = sympy.symbols(\"u v phi z\")\n",
    "u,v,phi,z = syms"
   ]
  },
  {
   "cell_type": "code",
   "execution_count": 17,
   "id": "175ada12",
   "metadata": {},
   "outputs": [],
   "source": [
    "metric = MetricTensor(m,syms)"
   ]
  },
  {
   "cell_type": "code",
   "execution_count": 19,
   "id": "9d4522a9",
   "metadata": {},
   "outputs": [
    {
     "data": {
      "text/latex": [
       "$\\displaystyle \\left[\\begin{matrix}\\left[\\begin{matrix}2 \\frac{\\partial}{\\partial u} \\gamma{\\left(u,v \\right)} - 2 \\frac{\\partial}{\\partial u} \\psi{\\left(u,v \\right)} & 0 & 0 & 0\\\\0 & 0 & 0 & 0\\\\0 & 0 & \\left(- r{\\left(u,v \\right)} \\frac{\\partial}{\\partial v} \\psi{\\left(u,v \\right)} + \\frac{\\partial}{\\partial v} r{\\left(u,v \\right)}\\right) r{\\left(u,v \\right)} e^{- 2 \\gamma{\\left(u,v \\right)}} & 0\\\\0 & 0 & 0 & e^{- 2 \\gamma{\\left(u,v \\right)} + 4 \\psi{\\left(u,v \\right)}} \\frac{\\partial}{\\partial v} \\psi{\\left(u,v \\right)}\\end{matrix}\\right] & \\left[\\begin{matrix}0 & 0 & 0 & 0\\\\0 & 2 \\frac{\\partial}{\\partial v} \\gamma{\\left(u,v \\right)} - 2 \\frac{\\partial}{\\partial v} \\psi{\\left(u,v \\right)} & 0 & 0\\\\0 & 0 & \\left(- r{\\left(u,v \\right)} \\frac{\\partial}{\\partial u} \\psi{\\left(u,v \\right)} + \\frac{\\partial}{\\partial u} r{\\left(u,v \\right)}\\right) r{\\left(u,v \\right)} e^{- 2 \\gamma{\\left(u,v \\right)}} & 0\\\\0 & 0 & 0 & e^{- 2 \\gamma{\\left(u,v \\right)} + 4 \\psi{\\left(u,v \\right)}} \\frac{\\partial}{\\partial u} \\psi{\\left(u,v \\right)}\\end{matrix}\\right] & \\left[\\begin{matrix}0 & 0 & - \\frac{\\partial}{\\partial u} \\psi{\\left(u,v \\right)} + \\frac{\\frac{\\partial}{\\partial u} r{\\left(u,v \\right)}}{r{\\left(u,v \\right)}} & 0\\\\0 & 0 & - \\frac{\\partial}{\\partial v} \\psi{\\left(u,v \\right)} + \\frac{\\frac{\\partial}{\\partial v} r{\\left(u,v \\right)}}{r{\\left(u,v \\right)}} & 0\\\\- \\frac{\\partial}{\\partial u} \\psi{\\left(u,v \\right)} + \\frac{\\frac{\\partial}{\\partial u} r{\\left(u,v \\right)}}{r{\\left(u,v \\right)}} & - \\frac{\\partial}{\\partial v} \\psi{\\left(u,v \\right)} + \\frac{\\frac{\\partial}{\\partial v} r{\\left(u,v \\right)}}{r{\\left(u,v \\right)}} & 0 & 0\\\\0 & 0 & 0 & 0\\end{matrix}\\right] & \\left[\\begin{matrix}0 & 0 & 0 & \\frac{\\partial}{\\partial u} \\psi{\\left(u,v \\right)}\\\\0 & 0 & 0 & \\frac{\\partial}{\\partial v} \\psi{\\left(u,v \\right)}\\\\0 & 0 & 0 & 0\\\\\\frac{\\partial}{\\partial u} \\psi{\\left(u,v \\right)} & \\frac{\\partial}{\\partial v} \\psi{\\left(u,v \\right)} & 0 & 0\\end{matrix}\\right]\\end{matrix}\\right]$"
      ],
      "text/plain": [
       "⎡                                                                                           \n",
       "⎢                                                                                           \n",
       "⎢                                                                                           \n",
       "⎢⎡  ∂               ∂                                                                       \n",
       "⎢⎢2⋅──(γ(u, v)) - 2⋅──(ψ(u, v))  0                              0                           \n",
       "⎢⎢  ∂u              ∂u                                                                      \n",
       "⎢⎢                                                                                          \n",
       "⎢⎢              0                0                              0                           \n",
       "⎢⎢                                                                                          \n",
       "⎢⎢                                  ⎛          ∂             ∂          ⎞          -2⋅γ(u, v\n",
       "⎢⎢              0                0  ⎜- r(u, v)⋅──(ψ(u, v)) + ──(r(u, v))⎟⋅r(u, v)⋅ℯ         \n",
       "⎢⎢                                  ⎝          ∂v            ∂v         ⎠                   \n",
       "⎢⎢                                                                                          \n",
       "⎢⎢                                                                                          \n",
       "⎢⎢              0                0                              0                           \n",
       "⎢⎣                                                                                          \n",
       "⎢                                                                                           \n",
       "⎢                                                                                           \n",
       "⎣                                                                                           \n",
       "\n",
       "                                                                                            \n",
       "                                                                                            \n",
       "                                                                                            \n",
       "                                      ⎤  ⎡0                0                                \n",
       "                    0                 ⎥  ⎢                                                  \n",
       "                                      ⎥  ⎢     ∂               ∂                            \n",
       "                                      ⎥  ⎢0  2⋅──(γ(u, v)) - 2⋅──(ψ(u, v))                  \n",
       "                    0                 ⎥  ⎢     ∂v              ∂v                           \n",
       "                                      ⎥  ⎢                                                  \n",
       ")                                     ⎥  ⎢                                  ⎛          ∂    \n",
       "                    0                 ⎥  ⎢0                0                ⎜- r(u, v)⋅──(ψ(\n",
       "                                      ⎥  ⎢                                  ⎝          ∂u   \n",
       "                                      ⎥  ⎢                                                  \n",
       "    -2⋅γ(u, v) + 4⋅ψ(u, v) ∂          ⎥  ⎢                                                  \n",
       "   ℯ                      ⋅──(ψ(u, v))⎥  ⎢0                0                                \n",
       "                           ∂v         ⎦  ⎣                                                  \n",
       "                                                                                            \n",
       "                                                                                            \n",
       "                                                                                            \n",
       "\n",
       "                                                                                 ⎡          \n",
       "                                                                                 ⎢          \n",
       "                                                                                 ⎢          \n",
       "            0                                               0                 ⎤  ⎢          \n",
       "                                                                              ⎥  ⎢          \n",
       "                                                                              ⎥  ⎢          \n",
       "            0                                               0                 ⎥  ⎢          \n",
       "                                                                              ⎥  ⎢          \n",
       "                                                                              ⎥  ⎢          \n",
       "         ∂          ⎞          -2⋅γ(u, v)                                     ⎥  ⎢          \n",
       "u, v)) + ──(r(u, v))⎟⋅r(u, v)⋅ℯ                             0                 ⎥  ⎢          \n",
       "         ∂u         ⎠                                                         ⎥  ⎢          \n",
       "                                                                              ⎥  ⎢          \n",
       "                                            -2⋅γ(u, v) + 4⋅ψ(u, v) ∂          ⎥  ⎢          \n",
       "            0                              ℯ                      ⋅──(ψ(u, v))⎥  ⎢  ∂       \n",
       "                                                                   ∂u         ⎦  ⎢- ──(ψ(u, \n",
       "                                                                                 ⎢  ∂u      \n",
       "                                                                                 ⎢          \n",
       "                                                                                 ⎣          \n",
       "\n",
       "                                                                ∂             ⎤             \n",
       "                                                                ──(r(u, v))   ⎥             \n",
       "                                                  ∂             ∂u            ⎥             \n",
       "   0                            0               - ──(ψ(u, v)) + ───────────  0⎥  ⎡          \n",
       "                                                  ∂u              r(u, v)     ⎥  ⎢     0    \n",
       "                                                                              ⎥  ⎢          \n",
       "                                                                ∂             ⎥  ⎢          \n",
       "                                                                ──(r(u, v))   ⎥  ⎢          \n",
       "                                                  ∂             ∂v            ⎥  ⎢     0    \n",
       "   0                            0               - ──(ψ(u, v)) + ───────────  0⎥  ⎢          \n",
       "                                                  ∂v              r(u, v)     ⎥  ⎢          \n",
       "                                                                              ⎥  ⎢     0    \n",
       "      ∂                            ∂                                          ⎥  ⎢          \n",
       "      ──(r(u, v))                  ──(r(u, v))                                ⎥  ⎢∂         \n",
       "      ∂u             ∂             ∂v                                         ⎥  ⎢──(ψ(u, v)\n",
       "v)) + ───────────  - ──(ψ(u, v)) + ───────────               0               0⎥  ⎣∂u        \n",
       "        r(u, v)      ∂v              r(u, v)                                  ⎥             \n",
       "                                                                              ⎥             \n",
       "   0                            0                            0               0⎦             \n",
       "\n",
       "                               ⎤\n",
       "                               ⎥\n",
       "                               ⎥\n",
       "                   ∂          ⎤⎥\n",
       "        0       0  ──(ψ(u, v))⎥⎥\n",
       "                   ∂u         ⎥⎥\n",
       "                              ⎥⎥\n",
       "                   ∂          ⎥⎥\n",
       "        0       0  ──(ψ(u, v))⎥⎥\n",
       "                   ∂v         ⎥⎥\n",
       "                              ⎥⎥\n",
       "        0       0       0     ⎥⎥\n",
       "                              ⎥⎥\n",
       "   ∂                          ⎥⎥\n",
       ")  ──(ψ(u, v))  0       0     ⎥⎥\n",
       "   ∂v                         ⎦⎥\n",
       "                               ⎥\n",
       "                               ⎥\n",
       "                               ⎦"
      ]
     },
     "execution_count": 19,
     "metadata": {},
     "output_type": "execute_result"
    }
   ],
   "source": [
    "ch = ChristoffelSymbols.from_metric(metric)\n",
    "simplify(ch.tensor())"
   ]
  },
  {
   "cell_type": "code",
   "execution_count": 20,
   "id": "2cf6b73b",
   "metadata": {},
   "outputs": [
    {
     "data": {
      "text/latex": [
       "$\\displaystyle \\left[\\begin{matrix}\\frac{- 2 r{\\left(u,v \\right)} \\left(\\frac{\\partial}{\\partial u} \\psi{\\left(u,v \\right)}\\right)^{2} + 2 \\frac{\\partial}{\\partial u} \\gamma{\\left(u,v \\right)} \\frac{\\partial}{\\partial u} r{\\left(u,v \\right)} - \\frac{\\partial^{2}}{\\partial u^{2}} r{\\left(u,v \\right)}}{r{\\left(u,v \\right)}} & - 2 \\frac{\\partial}{\\partial u} \\psi{\\left(u,v \\right)} \\frac{\\partial}{\\partial v} \\psi{\\left(u,v \\right)} - 2 \\frac{\\partial^{2}}{\\partial v\\partial u} \\gamma{\\left(u,v \\right)} + 2 \\frac{\\partial^{2}}{\\partial v\\partial u} \\psi{\\left(u,v \\right)} + \\frac{\\frac{\\partial}{\\partial u} \\psi{\\left(u,v \\right)} \\frac{\\partial}{\\partial v} r{\\left(u,v \\right)}}{r{\\left(u,v \\right)}} + \\frac{\\frac{\\partial}{\\partial v} \\psi{\\left(u,v \\right)} \\frac{\\partial}{\\partial u} r{\\left(u,v \\right)}}{r{\\left(u,v \\right)}} - \\frac{\\frac{\\partial^{2}}{\\partial v\\partial u} r{\\left(u,v \\right)}}{r{\\left(u,v \\right)}} & 0 & 0\\\\- 2 \\frac{\\partial}{\\partial u} \\psi{\\left(u,v \\right)} \\frac{\\partial}{\\partial v} \\psi{\\left(u,v \\right)} - 2 \\frac{\\partial^{2}}{\\partial v\\partial u} \\gamma{\\left(u,v \\right)} + 2 \\frac{\\partial^{2}}{\\partial v\\partial u} \\psi{\\left(u,v \\right)} + \\frac{\\frac{\\partial}{\\partial u} \\psi{\\left(u,v \\right)} \\frac{\\partial}{\\partial v} r{\\left(u,v \\right)}}{r{\\left(u,v \\right)}} + \\frac{\\frac{\\partial}{\\partial v} \\psi{\\left(u,v \\right)} \\frac{\\partial}{\\partial u} r{\\left(u,v \\right)}}{r{\\left(u,v \\right)}} - \\frac{\\frac{\\partial^{2}}{\\partial v\\partial u} r{\\left(u,v \\right)}}{r{\\left(u,v \\right)}} & \\frac{- 2 r{\\left(u,v \\right)} \\left(\\frac{\\partial}{\\partial v} \\psi{\\left(u,v \\right)}\\right)^{2} + 2 \\frac{\\partial}{\\partial v} \\gamma{\\left(u,v \\right)} \\frac{\\partial}{\\partial v} r{\\left(u,v \\right)} - \\frac{\\partial^{2}}{\\partial v^{2}} r{\\left(u,v \\right)}}{r{\\left(u,v \\right)}} & 0 & 0\\\\0 & 0 & \\left(- 2 r{\\left(u,v \\right)} \\frac{\\partial^{2}}{\\partial v\\partial u} \\psi{\\left(u,v \\right)} - \\frac{\\partial}{\\partial u} \\psi{\\left(u,v \\right)} \\frac{\\partial}{\\partial v} r{\\left(u,v \\right)} - \\frac{\\partial}{\\partial v} \\psi{\\left(u,v \\right)} \\frac{\\partial}{\\partial u} r{\\left(u,v \\right)} + 2 \\frac{\\partial^{2}}{\\partial v\\partial u} r{\\left(u,v \\right)}\\right) r{\\left(u,v \\right)} e^{- 2 \\gamma{\\left(u,v \\right)}} & 0\\\\0 & 0 & 0 & \\frac{\\left(2 r{\\left(u,v \\right)} \\frac{\\partial^{2}}{\\partial v\\partial u} \\psi{\\left(u,v \\right)} + \\frac{\\partial}{\\partial u} \\psi{\\left(u,v \\right)} \\frac{\\partial}{\\partial v} r{\\left(u,v \\right)} + \\frac{\\partial}{\\partial v} \\psi{\\left(u,v \\right)} \\frac{\\partial}{\\partial u} r{\\left(u,v \\right)}\\right) e^{- 2 \\gamma{\\left(u,v \\right)} + 4 \\psi{\\left(u,v \\right)}}}{r{\\left(u,v \\right)}}\\end{matrix}\\right]$"
      ],
      "text/plain": [
       "⎡                                                         2                                 \n",
       "⎢                                            ⎛∂          ⎞      ∂           ∂              ∂\n",
       "⎢                                - 2⋅r(u, v)⋅⎜──(ψ(u, v))⎟  + 2⋅──(γ(u, v))⋅──(r(u, v)) - ──\n",
       "⎢                                            ⎝∂u         ⎠      ∂u          ∂u              \n",
       "⎢                                                                                         ∂u\n",
       "⎢                                ───────────────────────────────────────────────────────────\n",
       "⎢                                                               r(u, v)                     \n",
       "⎢                                                                                           \n",
       "⎢                                                                                           \n",
       "⎢                                                                                           \n",
       "⎢                                                                    ∂           ∂          \n",
       "⎢                                   2                  2             ──(ψ(u, v))⋅──(r(u, v))\n",
       "⎢    ∂           ∂                 ∂                  ∂              ∂u          ∂v         \n",
       "⎢- 2⋅──(ψ(u, v))⋅──(ψ(u, v)) - 2⋅─────(γ(u, v)) + 2⋅─────(ψ(u, v)) + ───────────────────────\n",
       "⎢    ∂u          ∂v              ∂v ∂u              ∂v ∂u                    r(u, v)        \n",
       "⎢                                                                                           \n",
       "⎢                                                                                           \n",
       "⎢                                                                                           \n",
       "⎢                                                                  0                        \n",
       "⎢                                                                                           \n",
       "⎢                                                                                           \n",
       "⎢                                                                                           \n",
       "⎢                                                                                           \n",
       "⎢                                                                                           \n",
       "⎢                                                                                           \n",
       "⎢                                                                  0                        \n",
       "⎣                                                                                           \n",
       "\n",
       "2                                                                                           \n",
       "                                                                                            \n",
       "─(r(u, v))                                                                                  \n",
       "2                                                                               2           \n",
       "                                                 ∂           ∂                 ∂            \n",
       "──────────                                   - 2⋅──(ψ(u, v))⋅──(ψ(u, v)) - 2⋅─────(γ(u, v)) \n",
       "                                                 ∂u          ∂v              ∂v ∂u          \n",
       "                                                                                            \n",
       "                                                                                            \n",
       "                                2                                                        ⎛∂ \n",
       "   ∂           ∂               ∂                                             - 2⋅r(u, v)⋅⎜──\n",
       "   ──(ψ(u, v))⋅──(r(u, v))   ─────(r(u, v))                                              ⎝∂v\n",
       "   ∂v          ∂u            ∂v ∂u                                                          \n",
       " + ─────────────────────── - ──────────────                                  ───────────────\n",
       "           r(u, v)              r(u, v)                                                     \n",
       "                                                                                            \n",
       "                                                                                            \n",
       "                                                                                            \n",
       "                                                                                            \n",
       "                                                                                            \n",
       "                                                                                            \n",
       "                                                                                            \n",
       "                                                                                            \n",
       "                                                                                            \n",
       "                                                                                            \n",
       "                                                                                            \n",
       "                                                                                            \n",
       "\n",
       "                                                                                            \n",
       "                                                                            2               \n",
       "                     ∂           ∂             ∂           ∂               ∂                \n",
       "       2             ──(ψ(u, v))⋅──(r(u, v))   ──(ψ(u, v))⋅──(r(u, v))   ─────(r(u, v))     \n",
       "      ∂              ∂u          ∂v            ∂v          ∂u            ∂v ∂u              \n",
       "+ 2⋅─────(ψ(u, v)) + ─────────────────────── + ─────────────────────── - ──────────────     \n",
       "    ∂v ∂u                    r(u, v)                   r(u, v)              r(u, v)         \n",
       "                                                                                            \n",
       "          2                                 2                                               \n",
       "         ⎞      ∂           ∂              ∂                                                \n",
       "(ψ(u, v))⎟  + 2⋅──(γ(u, v))⋅──(r(u, v)) - ───(r(u, v))                                      \n",
       "         ⎠      ∂v          ∂v              2                                               \n",
       "                                          ∂v                                                \n",
       "──────────────────────────────────────────────────────                                      \n",
       "                r(u, v)                                                                     \n",
       "                                                                                            \n",
       "                                                                                         ⎛  \n",
       "                                                                                         ⎜  \n",
       "                   0                                                                     ⎜- \n",
       "                                                                                         ⎝  \n",
       "                                                                                            \n",
       "                                                                                            \n",
       "                                                                                            \n",
       "                                                                                            \n",
       "                                                                                            \n",
       "                   0                                                                        \n",
       "                                                                                            \n",
       "\n",
       "                                                                                            \n",
       "                                                                                            \n",
       "                                                                                            \n",
       "                                                                                            \n",
       "                                                                                            \n",
       "                                                        0                                   \n",
       "                                                                                            \n",
       "                                                                                            \n",
       "                                                                                            \n",
       "                                                                                            \n",
       "                                                                                            \n",
       "                                                                                            \n",
       "                                                                                            \n",
       "                                                        0                                   \n",
       "                                                                                            \n",
       "                                                                                            \n",
       "             2                                                                      2       \n",
       "            ∂              ∂           ∂             ∂           ∂                 ∂        \n",
       "2⋅r(u, v)⋅─────(ψ(u, v)) - ──(ψ(u, v))⋅──(r(u, v)) - ──(ψ(u, v))⋅──(r(u, v)) + 2⋅─────(r(u, \n",
       "          ∂v ∂u            ∂u          ∂v            ∂v          ∂u              ∂v ∂u      \n",
       "                                                                                            \n",
       "                                                                                            \n",
       "                                                                                            \n",
       "                                                                                            \n",
       "                                                                                            \n",
       "                                                        0                                   \n",
       "                                                                                            \n",
       "\n",
       "                                                                                            \n",
       "                                                                                            \n",
       "                                                                                            \n",
       "                                                                                            \n",
       "                                                                                            \n",
       "                                                                            0               \n",
       "                                                                                            \n",
       "                                                                                            \n",
       "                                                                                            \n",
       "                                                                                            \n",
       "                                                                                            \n",
       "                                                                                            \n",
       "                                                                                            \n",
       "                                                                            0               \n",
       "                                                                                            \n",
       "                                                                                            \n",
       "   ⎞                                                                                        \n",
       "   ⎟          -2⋅γ(u, v)                                                                    \n",
       "v))⎟⋅r(u, v)⋅ℯ                                                              0               \n",
       "   ⎠                                                                                        \n",
       "                                                                                            \n",
       "                          ⎛             2                                                   \n",
       "                          ⎜            ∂              ∂           ∂             ∂           \n",
       "                          ⎜2⋅r(u, v)⋅─────(ψ(u, v)) + ──(ψ(u, v))⋅──(r(u, v)) + ──(ψ(u, v))⋅\n",
       "                          ⎝          ∂v ∂u            ∂u          ∂v            ∂v          \n",
       "                          ──────────────────────────────────────────────────────────────────\n",
       "                                                                         r(u, v)            \n",
       "\n",
       "                                    ⎤\n",
       "                                    ⎥\n",
       "                                    ⎥\n",
       "                                    ⎥\n",
       "                                    ⎥\n",
       "                                    ⎥\n",
       "                                    ⎥\n",
       "                                    ⎥\n",
       "                                    ⎥\n",
       "                                    ⎥\n",
       "                                    ⎥\n",
       "                                    ⎥\n",
       "                                    ⎥\n",
       "                                    ⎥\n",
       "                                    ⎥\n",
       "                                    ⎥\n",
       "                                    ⎥\n",
       "                                    ⎥\n",
       "                                    ⎥\n",
       "                                    ⎥\n",
       "                                    ⎥\n",
       "           ⎞                        ⎥\n",
       "∂          ⎟  -2⋅γ(u, v) + 4⋅ψ(u, v)⎥\n",
       "──(r(u, v))⎟⋅ℯ                      ⎥\n",
       "∂u         ⎠                        ⎥\n",
       "────────────────────────────────────⎥\n",
       "                                    ⎦"
      ]
     },
     "execution_count": 20,
     "metadata": {},
     "output_type": "execute_result"
    }
   ],
   "source": [
    "Ric = RicciTensor.from_metric(metric)\n",
    "Ric.tensor()"
   ]
  },
  {
   "cell_type": "code",
   "execution_count": 22,
   "id": "0f79f0c7",
   "metadata": {},
   "outputs": [
    {
     "data": {
      "text/latex": [
       "$\\displaystyle \\left[\\begin{matrix}\\frac{- 2 r{\\left(u,v \\right)} \\left(\\frac{\\partial}{\\partial u} \\psi{\\left(u,v \\right)}\\right)^{2} + 2 \\frac{\\partial}{\\partial u} \\gamma{\\left(u,v \\right)} \\frac{\\partial}{\\partial u} r{\\left(u,v \\right)} - \\frac{\\partial^{2}}{\\partial u^{2}} r{\\left(u,v \\right)}}{r{\\left(u,v \\right)}} & \\frac{1.0 \\frac{\\partial^{2}}{\\partial v\\partial u} r{\\left(u,v \\right)}}{r{\\left(u,v \\right)}} & 0 & 0\\\\\\frac{1.0 \\frac{\\partial^{2}}{\\partial v\\partial u} r{\\left(u,v \\right)}}{r{\\left(u,v \\right)}} & \\frac{- 2 r{\\left(u,v \\right)} \\left(\\frac{\\partial}{\\partial v} \\psi{\\left(u,v \\right)}\\right)^{2} + 2 \\frac{\\partial}{\\partial v} \\gamma{\\left(u,v \\right)} \\frac{\\partial}{\\partial v} r{\\left(u,v \\right)} - \\frac{\\partial^{2}}{\\partial v^{2}} r{\\left(u,v \\right)}}{r{\\left(u,v \\right)}} & 0 & 0\\\\0 & 0 & - 2.0 \\left(\\frac{\\partial}{\\partial u} \\psi{\\left(u,v \\right)} \\frac{\\partial}{\\partial v} \\psi{\\left(u,v \\right)} + \\frac{\\partial^{2}}{\\partial v\\partial u} \\gamma{\\left(u,v \\right)}\\right) r^{2}{\\left(u,v \\right)} e^{- 2 \\gamma{\\left(u,v \\right)}} & 0\\\\0 & 0 & 0 & \\frac{\\left(- 2.0 \\left(\\frac{\\partial}{\\partial u} \\psi{\\left(u,v \\right)} \\frac{\\partial}{\\partial v} \\psi{\\left(u,v \\right)} + \\frac{\\partial^{2}}{\\partial v\\partial u} \\gamma{\\left(u,v \\right)} - \\frac{\\partial^{2}}{\\partial v\\partial u} \\psi{\\left(u,v \\right)}\\right) r{\\left(u,v \\right)} + 2 r{\\left(u,v \\right)} \\frac{\\partial^{2}}{\\partial v\\partial u} \\psi{\\left(u,v \\right)} + 2.0 \\frac{\\partial}{\\partial u} \\psi{\\left(u,v \\right)} \\frac{\\partial}{\\partial v} r{\\left(u,v \\right)} + 2.0 \\frac{\\partial}{\\partial v} \\psi{\\left(u,v \\right)} \\frac{\\partial}{\\partial u} r{\\left(u,v \\right)} - 2.0 \\frac{\\partial^{2}}{\\partial v\\partial u} r{\\left(u,v \\right)}\\right) e^{- 2 \\gamma{\\left(u,v \\right)} + 4 \\psi{\\left(u,v \\right)}}}{r{\\left(u,v \\right)}}\\end{matrix}\\right]$"
      ],
      "text/plain": [
       "⎡                         2                                 2                               \n",
       "⎢            ⎛∂          ⎞      ∂           ∂              ∂                                \n",
       "⎢- 2⋅r(u, v)⋅⎜──(ψ(u, v))⎟  + 2⋅──(γ(u, v))⋅──(r(u, v)) - ───(r(u, v))                      \n",
       "⎢            ⎝∂u         ⎠      ∂u          ∂u              2                               \n",
       "⎢                                                         ∂u                                \n",
       "⎢─────────────────────────────────────────────────────────────────────                      \n",
       "⎢                               r(u, v)                                                     \n",
       "⎢                                                                                           \n",
       "⎢                                                                                           \n",
       "⎢                                2                                                  ⎛∂      \n",
       "⎢                               ∂                                       - 2⋅r(u, v)⋅⎜──(ψ(u,\n",
       "⎢                         1.0⋅─────(r(u, v))                                        ⎝∂v     \n",
       "⎢                             ∂v ∂u                                                         \n",
       "⎢                         ──────────────────                            ────────────────────\n",
       "⎢                              r(u, v)                                                      \n",
       "⎢                                                                                           \n",
       "⎢                                                                                           \n",
       "⎢                                                                                           \n",
       "⎢                                  0                                                        \n",
       "⎢                                                                                           \n",
       "⎢                                                                                           \n",
       "⎢                                                                                           \n",
       "⎢                                                                                           \n",
       "⎢                                                                                           \n",
       "⎢                                                                                           \n",
       "⎢                                  0                                                        \n",
       "⎣                                                                                           \n",
       "\n",
       "                                                                                            \n",
       "            2                                                                               \n",
       "           ∂                                                                                \n",
       "     1.0⋅─────(r(u, v))                                                                     \n",
       "         ∂v ∂u                                                                              \n",
       "     ──────────────────                                                             0       \n",
       "          r(u, v)                                                                           \n",
       "                                                                                            \n",
       "     2                                 2                                                    \n",
       "    ⎞      ∂           ∂              ∂                                                     \n",
       " v))⎟  + 2⋅──(γ(u, v))⋅──(r(u, v)) - ───(r(u, v))                                           \n",
       "    ⎠      ∂v          ∂v              2                                                    \n",
       "                                     ∂v                                                     \n",
       "─────────────────────────────────────────────────                                   0       \n",
       "           r(u, v)                                                                          \n",
       "                                                                                            \n",
       "                                                        ⎛                             2     \n",
       "                                                        ⎜∂           ∂               ∂      \n",
       "              0                                    -2.0⋅⎜──(ψ(u, v))⋅──(ψ(u, v)) + ─────(γ(u\n",
       "                                                        ⎝∂u          ∂v            ∂v ∂u    \n",
       "                                                                                            \n",
       "                                                                                            \n",
       "                                                                                            \n",
       "                                                                                            \n",
       "                                                                                            \n",
       "              0                                                                     0       \n",
       "                                                                                            \n",
       "\n",
       "                                                                                            \n",
       "                                                                                            \n",
       "                                                                                            \n",
       "                                                                                            \n",
       "                                                                                            \n",
       "                                                                                            \n",
       "                                                                                            \n",
       "                                                                                            \n",
       "                                                                                            \n",
       "                                                                                            \n",
       "                                                                                            \n",
       "                                                                                            \n",
       "                                                                                            \n",
       "                                                                                            \n",
       "                                                                                            \n",
       "                                                                                            \n",
       "     ⎞                                                                                      \n",
       "     ⎟  2        -2⋅γ(u, v)                                                                 \n",
       ", v))⎟⋅r (u, v)⋅ℯ                                                                           \n",
       "     ⎠                                                                                      \n",
       "                                                                                            \n",
       "                             ⎛      ⎛                             2                2        \n",
       "                             ⎜      ⎜∂           ∂               ∂                ∂         \n",
       "                             ⎜- 2.0⋅⎜──(ψ(u, v))⋅──(ψ(u, v)) + ─────(γ(u, v)) - ─────(ψ(u, v\n",
       "                             ⎝      ⎝∂u          ∂v            ∂v ∂u            ∂v ∂u       \n",
       "                             ───────────────────────────────────────────────────────────────\n",
       "                                                                                            \n",
       "\n",
       "                                                                                            \n",
       "                                                                                            \n",
       "                                                                                            \n",
       "                                                                                            \n",
       "                                                                                            \n",
       "                                        0                                                   \n",
       "                                                                                            \n",
       "                                                                                            \n",
       "                                                                                            \n",
       "                                                                                            \n",
       "                                                                                            \n",
       "                                                                                            \n",
       "                                                                                            \n",
       "                                        0                                                   \n",
       "                                                                                            \n",
       "                                                                                            \n",
       "                                                                                            \n",
       "                                                                                            \n",
       "                                        0                                                   \n",
       "                                                                                            \n",
       "                                                                                            \n",
       "  ⎞                        2                                                                \n",
       "  ⎟                       ∂                  ∂           ∂                 ∂           ∂    \n",
       "))⎟⋅r(u, v) + 2⋅r(u, v)⋅─────(ψ(u, v)) + 2.0⋅──(ψ(u, v))⋅──(r(u, v)) + 2.0⋅──(ψ(u, v))⋅──(r(\n",
       "  ⎠                     ∂v ∂u                ∂u          ∂v                ∂v          ∂u   \n",
       "────────────────────────────────────────────────────────────────────────────────────────────\n",
       "                                     r(u, v)                                                \n",
       "\n",
       "                                                    ⎤\n",
       "                                                    ⎥\n",
       "                                                    ⎥\n",
       "                                                    ⎥\n",
       "                                                    ⎥\n",
       "                                                    ⎥\n",
       "                                                    ⎥\n",
       "                                                    ⎥\n",
       "                                                    ⎥\n",
       "                                                    ⎥\n",
       "                                                    ⎥\n",
       "                                                    ⎥\n",
       "                                                    ⎥\n",
       "                                                    ⎥\n",
       "                                                    ⎥\n",
       "                                                    ⎥\n",
       "                                                    ⎥\n",
       "                                                    ⎥\n",
       "                                                    ⎥\n",
       "                                                    ⎥\n",
       "                                                    ⎥\n",
       "                2          ⎞                        ⎥\n",
       "               ∂           ⎟  -2⋅γ(u, v) + 4⋅ψ(u, v)⎥\n",
       "u, v)) - 2.0⋅─────(r(u, v))⎟⋅ℯ                      ⎥\n",
       "             ∂v ∂u         ⎠                        ⎥\n",
       "────────────────────────────────────────────────────⎥\n",
       "                                                    ⎦"
      ]
     },
     "execution_count": 22,
     "metadata": {},
     "output_type": "execute_result"
    }
   ],
   "source": [
    "einst = EinsteinTensor.from_metric(metric)\n",
    "simplify(einst.tensor())"
   ]
  },
  {
   "cell_type": "code",
   "execution_count": 23,
   "id": "d4c94e33",
   "metadata": {},
   "outputs": [
    {
     "data": {
      "image/png": "[encoded data removed]",
      "text/latex": [
       "$\\displaystyle \\frac{2 \\left(2 \\left(\\frac{\\partial}{\\partial u} \\psi{\\left(u,v \\right)} \\frac{\\partial}{\\partial v} \\psi{\\left(u,v \\right)} + \\frac{\\partial^{2}}{\\partial v\\partial u} \\gamma{\\left(u,v \\right)} - \\frac{\\partial^{2}}{\\partial v\\partial u} \\psi{\\left(u,v \\right)}\\right) r{\\left(u,v \\right)} - \\frac{\\partial}{\\partial u} \\psi{\\left(u,v \\right)} \\frac{\\partial}{\\partial v} r{\\left(u,v \\right)} - \\frac{\\partial}{\\partial v} \\psi{\\left(u,v \\right)} \\frac{\\partial}{\\partial u} r{\\left(u,v \\right)} + 2 \\frac{\\partial^{2}}{\\partial v\\partial u} r{\\left(u,v \\right)}\\right) e^{- 2 \\gamma{\\left(u,v \\right)} + 2 \\psi{\\left(u,v \\right)}}}{r{\\left(u,v \\right)}}$"
      ],
      "text/plain": [
       "  ⎛  ⎛                             2                2          ⎞                            \n",
       "  ⎜  ⎜∂           ∂               ∂                ∂           ⎟           ∂           ∂    \n",
       "2⋅⎜2⋅⎜──(ψ(u, v))⋅──(ψ(u, v)) + ─────(γ(u, v)) - ─────(ψ(u, v))⎟⋅r(u, v) - ──(ψ(u, v))⋅──(r(\n",
       "  ⎝  ⎝∂u          ∂v            ∂v ∂u            ∂v ∂u         ⎠           ∂u          ∂v   \n",
       "────────────────────────────────────────────────────────────────────────────────────────────\n",
       "                                                                                r(u, v)     \n",
       "\n",
       "                                        2          ⎞                        \n",
       "         ∂           ∂                 ∂           ⎟  -2⋅γ(u, v) + 2⋅ψ(u, v)\n",
       "u, v)) - ──(ψ(u, v))⋅──(r(u, v)) + 2⋅─────(r(u, v))⎟⋅ℯ                      \n",
       "         ∂v          ∂u              ∂v ∂u         ⎠                        \n",
       "────────────────────────────────────────────────────────────────────────────\n",
       "                                                                            "
      ]
     },
     "execution_count": 23,
     "metadata": {},
     "output_type": "execute_result"
    }
   ],
   "source": [
    "R = RicciScalar.from_riccitensor(Ric)\n",
    "R.simplify()\n",
    "R.expr"
   ]
  },
  {
   "cell_type": "code",
   "execution_count": null,
   "id": "fa12a44d",
   "metadata": {},
   "outputs": [],
   "source": [
    "rm1 = RiemannCurvatureTensor.from_christoffels(ch)\n",
    "rm1.tensor()"
   ]
  },
  {
   "cell_type": "code",
   "execution_count": null,
   "id": "f4276995",
   "metadata": {},
   "outputs": [],
   "source": [
    "weyl = WeylTensor.from_metric(metric)\n",
    "weyl.tensor()"
   ]
  }
 ],
 "metadata": {
  "@webio": {
   "lastCommId": "dc71f7d389aa4b2199c50d309a806ee9",
   "lastKernelId": "74b66e42-c0e9-415e-8993-7755eb89f2a8"
  },
  "kernelspec": {
   "display_name": "Python 3 (ipykernel)",
   "language": "python",
   "name": "python3"
  },
  "language_info": {
   "codemirror_mode": {
    "name": "ipython",
    "version": 3
   },
   "file_extension": ".py",
   "mimetype": "text/x-python",
   "name": "python",
   "nbconvert_exporter": "python",
   "pygments_lexer": "ipython3",
   "version": "3.8.8"
  }
 },
 "nbformat": 4,
 "nbformat_minor": 5
}
