{
 "cells": [
  {
   "cell_type": "markdown",
   "id": "517a8777",
   "metadata": {},
   "source": [
    "# Structure of the singularities produced by colliding plane waves by Yurtsever\n",
    "##  Geoff Cope\n",
    "##  Univeristy of Utah\n",
    "##  𐐏𐐭𐑌𐐲𐑂𐐲𐑉𐑅𐐮𐐻𐐨 𐐲𐑂 𐐏𐐭𐐻𐐫\n",
    "##  December 27, 2021"
   ]
  },
  {
   "cell_type": "markdown",
   "id": "eae08925",
   "metadata": {},
   "source": [
    "Here we work with the metric given by equation 2.5.  From under equation 2.7 \"Therefore, it is sufficient to solve Eqs. (2.6c) and (2.6d) first and to obtain M by quadrature from the first two equations (2.6a) and (2.6b) afterward, since Eq. (2.7) as well as the integrability condition for (2.6a) and (2.6b) are automatically satisfied as a result of (2.6c) and (2.6d).  The initial value problem associated with the field equations is best formulated in terms of initial data posed on null characteristic surfaces\""
   ]
  },
  {
   "cell_type": "markdown",
   "id": "ae54ebb0",
   "metadata": {},
   "source": [
    "https://journals.aps.org/prd/abstract/10.1103/PhysRevD.38.1706"
   ]
  },
  {
   "cell_type": "markdown",
   "id": "27e99bae",
   "metadata": {},
   "source": [
    "https://thesis.library.caltech.edu/8009/"
   ]
  },
  {
   "cell_type": "markdown",
   "id": "cd36d9b3",
   "metadata": {},
   "source": [
    "Kasner solution is equation 3.21  Kasner's newphew is where the name Googol comes from!"
   ]
  },
  {
   "cell_type": "markdown",
   "id": "ce309dd7",
   "metadata": {},
   "source": [
    "http://www.nasonline.org/publications/biographical-memoirs/memoir-pdfs/kasner-edward.pdf"
   ]
  },
  {
   "cell_type": "code",
   "execution_count": 69,
   "id": "e3cd7425",
   "metadata": {},
   "outputs": [
    {
     "name": "stdout",
     "output_type": "stream",
     "text": [
      "IPython console for SymPy 1.9 (Python 3.8.8-64-bit) (ground types: gmpy)\n",
      "\n",
      "These commands were executed:\n",
      ">>> from __future__ import division\n",
      ">>> from sympy import *\n",
      ">>> x, y, z, t = symbols('x y z t')\n",
      ">>> k, m, n = symbols('k m n', integer=True)\n",
      ">>> f, g, h = symbols('f g h', cls=Function)\n",
      ">>> init_printing()\n",
      "\n",
      "Documentation can be found at https://docs.sympy.org/1.9/\n",
      "\n"
     ]
    }
   ],
   "source": [
    "from sympy import init_session\n",
    "init_session(use_latex=True)"
   ]
  },
  {
   "cell_type": "code",
   "execution_count": null,
   "id": "ef6bf468",
   "metadata": {},
   "outputs": [],
   "source": []
  },
  {
   "cell_type": "code",
   "execution_count": 70,
   "id": "37a5366e",
   "metadata": {},
   "outputs": [],
   "source": [
    "import warnings\n",
    "import matplotlib.cbook\n",
    "warnings.filterwarnings(\"ignore\",category=matplotlib.cbook.mplDeprecation)"
   ]
  },
  {
   "cell_type": "code",
   "execution_count": 71,
   "id": "4687e291",
   "metadata": {},
   "outputs": [],
   "source": [
    "u,v,x,y,du,dv,dx,dy = symbols( 'u v x y du dv dx dy' ) "
   ]
  },
  {
   "cell_type": "code",
   "execution_count": 72,
   "id": "e8521042",
   "metadata": {},
   "outputs": [
    {
     "data": {
      "image/png": "[encoded data removed]",
      "text/latex": [
       "$\\displaystyle M{\\left(u,v \\right)}$"
      ],
      "text/plain": [
       "M(u, v)"
      ]
     },
     "execution_count": 72,
     "metadata": {},
     "output_type": "execute_result"
    }
   ],
   "source": [
    "M = Function('M')(u,v)\n",
    "M"
   ]
  },
  {
   "cell_type": "code",
   "execution_count": 73,
   "id": "fc5912ca",
   "metadata": {},
   "outputs": [
    {
     "data": {
      "image/png": "[encoded data removed]",
      "text/latex": [
       "$\\displaystyle U{\\left(u,v \\right)}$"
      ],
      "text/plain": [
       "U(u, v)"
      ]
     },
     "execution_count": 73,
     "metadata": {},
     "output_type": "execute_result"
    }
   ],
   "source": [
    "U = Function('U')(u,v)\n",
    "U"
   ]
  },
  {
   "cell_type": "code",
   "execution_count": 74,
   "id": "25730242",
   "metadata": {},
   "outputs": [
    {
     "data": {
      "image/png": "[encoded data removed]",
      "text/latex": [
       "$\\displaystyle V{\\left(u,v \\right)}$"
      ],
      "text/plain": [
       "V(u, v)"
      ]
     },
     "execution_count": 74,
     "metadata": {},
     "output_type": "execute_result"
    }
   ],
   "source": [
    "V = Function('V')(u,v)\n",
    "V"
   ]
  },
  {
   "cell_type": "code",
   "execution_count": 75,
   "id": "1a42196b",
   "metadata": {},
   "outputs": [
    {
     "data": {
      "text/latex": [
       "$\\displaystyle \\left[\\begin{matrix}u\\\\v\\\\x\\\\y\\end{matrix}\\right]$"
      ],
      "text/plain": [
       "⎡u⎤\n",
       "⎢ ⎥\n",
       "⎢v⎥\n",
       "⎢ ⎥\n",
       "⎢x⎥\n",
       "⎢ ⎥\n",
       "⎣y⎦"
      ]
     },
     "execution_count": 75,
     "metadata": {},
     "output_type": "execute_result"
    }
   ],
   "source": [
    "variables = Matrix( [u,v,x,y] )\n",
    "variables"
   ]
  },
  {
   "cell_type": "code",
   "execution_count": 76,
   "id": "ec7a5960",
   "metadata": {},
   "outputs": [
    {
     "data": {
      "text/latex": [
       "$\\displaystyle \\left[\\begin{matrix}du\\\\dv\\\\dx\\\\dy\\end{matrix}\\right]$"
      ],
      "text/plain": [
       "⎡du⎤\n",
       "⎢  ⎥\n",
       "⎢dv⎥\n",
       "⎢  ⎥\n",
       "⎢dx⎥\n",
       "⎢  ⎥\n",
       "⎣dy⎦"
      ]
     },
     "execution_count": 76,
     "metadata": {},
     "output_type": "execute_result"
    }
   ],
   "source": [
    "differentials = Matrix( [du,dv,dx,dy] ) \n",
    "differentials"
   ]
  },
  {
   "cell_type": "code",
   "execution_count": 77,
   "id": "543a0cc3",
   "metadata": {},
   "outputs": [
    {
     "data": {
      "image/png": "[encoded data removed]",
      "text/latex": [
       "$\\displaystyle 2 du dv e^{- M{\\left(u,v \\right)}} - dx^{2} e^{- U{\\left(u,v \\right)}} e^{V{\\left(u,v \\right)}} - dy^{2} e^{- U{\\left(u,v \\right)}} e^{- V{\\left(u,v \\right)}}$"
      ],
      "text/plain": [
       "         -M(u, v)     2  -U(u, v)  V(u, v)     2  -U(u, v)  -V(u, v)\n",
       "2⋅du⋅dv⋅ℯ         - dx ⋅ℯ        ⋅ℯ        - dy ⋅ℯ        ⋅ℯ        "
      ]
     },
     "execution_count": 77,
     "metadata": {},
     "output_type": "execute_result"
    }
   ],
   "source": [
    "lineElement = expand(2*exp(-M)*du*dv - exp(-U)*( exp(V)*dx**2 + exp(-V)*dy**2 ))\n",
    "lineElement"
   ]
  },
  {
   "cell_type": "code",
   "execution_count": 78,
   "id": "ec9c0f1a",
   "metadata": {},
   "outputs": [
    {
     "data": {
      "text/latex": [
       "$\\displaystyle \\left[\\begin{matrix}0 & e^{- M{\\left(u,v \\right)}} & 0 & 0\\\\e^{- M{\\left(u,v \\right)}} & 0 & 0 & 0\\\\0 & 0 & - e^{- U{\\left(u,v \\right)}} e^{V{\\left(u,v \\right)}} & 0\\\\0 & 0 & 0 & - e^{- U{\\left(u,v \\right)}} e^{- V{\\left(u,v \\right)}}\\end{matrix}\\right]$"
      ],
      "text/plain": [
       "⎡            -M(u, v)                                           ⎤\n",
       "⎢    0      ℯ                   0                    0          ⎥\n",
       "⎢                                                               ⎥\n",
       "⎢ -M(u, v)                                                      ⎥\n",
       "⎢ℯ              0               0                    0          ⎥\n",
       "⎢                                                               ⎥\n",
       "⎢                        -U(u, v)  V(u, v)                      ⎥\n",
       "⎢    0          0      -ℯ        ⋅ℯ                  0          ⎥\n",
       "⎢                                                               ⎥\n",
       "⎢                                             -U(u, v)  -V(u, v)⎥\n",
       "⎣    0          0               0           -ℯ        ⋅ℯ        ⎦"
      ]
     },
     "execution_count": 78,
     "metadata": {},
     "output_type": "execute_result"
    }
   ],
   "source": [
    "g = zeros(4)\n",
    "\n",
    "for i in range(4):\n",
    "    for j in range(4):\n",
    "        if i == j:\n",
    "            g[i,j] = lineElement.coeff( differentials[i],2 ) \n",
    "        else:\n",
    "            g[i,j] = Rational(1,2)*lineElement.coeff( differentials[i]*differentials[j],1 )\n",
    "            \n",
    "g"
   ]
  },
  {
   "cell_type": "code",
   "execution_count": 79,
   "id": "61fb629b",
   "metadata": {},
   "outputs": [],
   "source": [
    "import sympy"
   ]
  },
  {
   "cell_type": "code",
   "execution_count": 80,
   "id": "1eebbf07",
   "metadata": {},
   "outputs": [
    {
     "data": {
      "text/latex": [
       "$\\displaystyle \\left[\\begin{matrix}0 & e^{- M{\\left(u,v \\right)}} & 0 & 0\\\\e^{- M{\\left(u,v \\right)}} & 0 & 0 & 0\\\\0 & 0 & - e^{- U{\\left(u,v \\right)}} e^{V{\\left(u,v \\right)}} & 0\\\\0 & 0 & 0 & - e^{- U{\\left(u,v \\right)}} e^{- V{\\left(u,v \\right)}}\\end{matrix}\\right]$"
      ],
      "text/plain": [
       "⎡            -M(u, v)                                           ⎤\n",
       "⎢    0      ℯ                   0                    0          ⎥\n",
       "⎢                                                               ⎥\n",
       "⎢ -M(u, v)                                                      ⎥\n",
       "⎢ℯ              0               0                    0          ⎥\n",
       "⎢                                                               ⎥\n",
       "⎢                        -U(u, v)  V(u, v)                      ⎥\n",
       "⎢    0          0      -ℯ        ⋅ℯ                  0          ⎥\n",
       "⎢                                                               ⎥\n",
       "⎢                                             -U(u, v)  -V(u, v)⎥\n",
       "⎣    0          0               0           -ℯ        ⋅ℯ        ⎦"
      ]
     },
     "execution_count": 80,
     "metadata": {},
     "output_type": "execute_result"
    }
   ],
   "source": [
    "m = sympy.Array(g)\n",
    "m"
   ]
  },
  {
   "cell_type": "code",
   "execution_count": 81,
   "id": "4c18514e",
   "metadata": {},
   "outputs": [],
   "source": [
    "from einsteinpy.symbolic import *"
   ]
  },
  {
   "cell_type": "code",
   "execution_count": 82,
   "id": "ddf9a43a",
   "metadata": {},
   "outputs": [],
   "source": [
    "syms = sympy.symbols(\"u v x y\")\n",
    "u,v,x,y = syms"
   ]
  },
  {
   "cell_type": "code",
   "execution_count": 83,
   "id": "caa16ddc",
   "metadata": {},
   "outputs": [],
   "source": [
    "metric = MetricTensor(m,syms)"
   ]
  },
  {
   "cell_type": "code",
   "execution_count": 84,
   "id": "d6862982",
   "metadata": {},
   "outputs": [
    {
     "data": {
      "text/latex": [
       "$\\displaystyle \\left[\\begin{matrix}\\left[\\begin{matrix}- \\frac{\\partial}{\\partial u} M{\\left(u,v \\right)} & 0 & 0 & 0\\\\0 & 0 & 0 & 0\\\\0 & 0 & \\frac{\\left(- e^{- U{\\left(u,v \\right)}} e^{V{\\left(u,v \\right)}} \\frac{\\partial}{\\partial v} U{\\left(u,v \\right)} + e^{- U{\\left(u,v \\right)}} e^{V{\\left(u,v \\right)}} \\frac{\\partial}{\\partial v} V{\\left(u,v \\right)}\\right) e^{M{\\left(u,v \\right)}}}{2} & 0\\\\0 & 0 & 0 & \\frac{\\left(- e^{- U{\\left(u,v \\right)}} e^{- V{\\left(u,v \\right)}} \\frac{\\partial}{\\partial v} U{\\left(u,v \\right)} - e^{- U{\\left(u,v \\right)}} e^{- V{\\left(u,v \\right)}} \\frac{\\partial}{\\partial v} V{\\left(u,v \\right)}\\right) e^{M{\\left(u,v \\right)}}}{2}\\end{matrix}\\right] & \\left[\\begin{matrix}0 & 0 & 0 & 0\\\\0 & - \\frac{\\partial}{\\partial v} M{\\left(u,v \\right)} & 0 & 0\\\\0 & 0 & \\frac{\\left(- e^{- U{\\left(u,v \\right)}} e^{V{\\left(u,v \\right)}} \\frac{\\partial}{\\partial u} U{\\left(u,v \\right)} + e^{- U{\\left(u,v \\right)}} e^{V{\\left(u,v \\right)}} \\frac{\\partial}{\\partial u} V{\\left(u,v \\right)}\\right) e^{M{\\left(u,v \\right)}}}{2} & 0\\\\0 & 0 & 0 & \\frac{\\left(- e^{- U{\\left(u,v \\right)}} e^{- V{\\left(u,v \\right)}} \\frac{\\partial}{\\partial u} U{\\left(u,v \\right)} - e^{- U{\\left(u,v \\right)}} e^{- V{\\left(u,v \\right)}} \\frac{\\partial}{\\partial u} V{\\left(u,v \\right)}\\right) e^{M{\\left(u,v \\right)}}}{2}\\end{matrix}\\right] & \\left[\\begin{matrix}0 & 0 & - \\frac{\\left(e^{- U{\\left(u,v \\right)}} e^{V{\\left(u,v \\right)}} \\frac{\\partial}{\\partial u} U{\\left(u,v \\right)} - e^{- U{\\left(u,v \\right)}} e^{V{\\left(u,v \\right)}} \\frac{\\partial}{\\partial u} V{\\left(u,v \\right)}\\right) e^{U{\\left(u,v \\right)}} e^{- V{\\left(u,v \\right)}}}{2} & 0\\\\0 & 0 & - \\frac{\\left(e^{- U{\\left(u,v \\right)}} e^{V{\\left(u,v \\right)}} \\frac{\\partial}{\\partial v} U{\\left(u,v \\right)} - e^{- U{\\left(u,v \\right)}} e^{V{\\left(u,v \\right)}} \\frac{\\partial}{\\partial v} V{\\left(u,v \\right)}\\right) e^{U{\\left(u,v \\right)}} e^{- V{\\left(u,v \\right)}}}{2} & 0\\\\- \\frac{\\left(e^{- U{\\left(u,v \\right)}} e^{V{\\left(u,v \\right)}} \\frac{\\partial}{\\partial u} U{\\left(u,v \\right)} - e^{- U{\\left(u,v \\right)}} e^{V{\\left(u,v \\right)}} \\frac{\\partial}{\\partial u} V{\\left(u,v \\right)}\\right) e^{U{\\left(u,v \\right)}} e^{- V{\\left(u,v \\right)}}}{2} & - \\frac{\\left(e^{- U{\\left(u,v \\right)}} e^{V{\\left(u,v \\right)}} \\frac{\\partial}{\\partial v} U{\\left(u,v \\right)} - e^{- U{\\left(u,v \\right)}} e^{V{\\left(u,v \\right)}} \\frac{\\partial}{\\partial v} V{\\left(u,v \\right)}\\right) e^{U{\\left(u,v \\right)}} e^{- V{\\left(u,v \\right)}}}{2} & 0 & 0\\\\0 & 0 & 0 & 0\\end{matrix}\\right] & \\left[\\begin{matrix}0 & 0 & 0 & - \\frac{\\left(e^{- U{\\left(u,v \\right)}} e^{- V{\\left(u,v \\right)}} \\frac{\\partial}{\\partial u} U{\\left(u,v \\right)} + e^{- U{\\left(u,v \\right)}} e^{- V{\\left(u,v \\right)}} \\frac{\\partial}{\\partial u} V{\\left(u,v \\right)}\\right) e^{U{\\left(u,v \\right)}} e^{V{\\left(u,v \\right)}}}{2}\\\\0 & 0 & 0 & - \\frac{\\left(e^{- U{\\left(u,v \\right)}} e^{- V{\\left(u,v \\right)}} \\frac{\\partial}{\\partial v} U{\\left(u,v \\right)} + e^{- U{\\left(u,v \\right)}} e^{- V{\\left(u,v \\right)}} \\frac{\\partial}{\\partial v} V{\\left(u,v \\right)}\\right) e^{U{\\left(u,v \\right)}} e^{V{\\left(u,v \\right)}}}{2}\\\\0 & 0 & 0 & 0\\\\- \\frac{\\left(e^{- U{\\left(u,v \\right)}} e^{- V{\\left(u,v \\right)}} \\frac{\\partial}{\\partial u} U{\\left(u,v \\right)} + e^{- U{\\left(u,v \\right)}} e^{- V{\\left(u,v \\right)}} \\frac{\\partial}{\\partial u} V{\\left(u,v \\right)}\\right) e^{U{\\left(u,v \\right)}} e^{V{\\left(u,v \\right)}}}{2} & - \\frac{\\left(e^{- U{\\left(u,v \\right)}} e^{- V{\\left(u,v \\right)}} \\frac{\\partial}{\\partial v} U{\\left(u,v \\right)} + e^{- U{\\left(u,v \\right)}} e^{- V{\\left(u,v \\right)}} \\frac{\\partial}{\\partial v} V{\\left(u,v \\right)}\\right) e^{U{\\left(u,v \\right)}} e^{V{\\left(u,v \\right)}}}{2} & 0 & 0\\end{matrix}\\right]\\end{matrix}\\right]$"
      ],
      "text/plain": [
       "⎡                                                                                           \n",
       "⎢⎡ ∂                                                                                        \n",
       "⎢⎢-──(M(u, v))  0                                       0                                   \n",
       "⎢⎢ ∂u                                                                                       \n",
       "⎢⎢                                                                                          \n",
       "⎢⎢     0        0                                       0                                   \n",
       "⎢⎢                                                                                          \n",
       "⎢⎢                 ⎛   -U(u, v)  V(u, v) ∂              -U(u, v)  V(u, v) ∂          ⎞  M(u,\n",
       "⎢⎢                 ⎜- ℯ        ⋅ℯ       ⋅──(U(u, v)) + ℯ        ⋅ℯ       ⋅──(V(u, v))⎟⋅ℯ    \n",
       "⎢⎢                 ⎝                     ∂v                               ∂v         ⎠      \n",
       "⎢⎢     0        0  ─────────────────────────────────────────────────────────────────────────\n",
       "⎢⎢                                                      2                                   \n",
       "⎢⎢                                                                                          \n",
       "⎢⎢                                                                                          \n",
       "⎢⎢                                                                                          \n",
       "⎢⎢                                                                                          \n",
       "⎢⎢     0        0                                       0                                   \n",
       "⎢⎣                                                                                          \n",
       "⎣                                                                                           \n",
       "\n",
       "                                                                                            \n",
       "                                                                                   ⎤  ⎡0    \n",
       "                                           0                                       ⎥  ⎢     \n",
       "                                                                                   ⎥  ⎢    ∂\n",
       "                                                                                   ⎥  ⎢0  -─\n",
       "                                           0                                       ⎥  ⎢    ∂\n",
       "                                                                                   ⎥  ⎢     \n",
       " v)                                                                                ⎥  ⎢     \n",
       "                                                                                   ⎥  ⎢     \n",
       "                                                                                   ⎥  ⎢     \n",
       "───                                        0                                       ⎥  ⎢0    \n",
       "                                                                                   ⎥  ⎢     \n",
       "                                                                                   ⎥  ⎢     \n",
       "     ⎛   -U(u, v)  -V(u, v) ∂              -U(u, v)  -V(u, v) ∂          ⎞  M(u, v)⎥  ⎢     \n",
       "     ⎜- ℯ        ⋅ℯ        ⋅──(U(u, v)) - ℯ        ⋅ℯ        ⋅──(V(u, v))⎟⋅ℯ       ⎥  ⎢     \n",
       "     ⎝                      ∂v                                ∂v         ⎠         ⎥  ⎢     \n",
       "     ──────────────────────────────────────────────────────────────────────────────⎥  ⎢0    \n",
       "                                           2                                       ⎦  ⎣     \n",
       "                                                                                            \n",
       "\n",
       "                                                                                            \n",
       "   0                                             0                                          \n",
       "                                                                                            \n",
       "                                                                                            \n",
       "─(M(u, v))                                       0                                          \n",
       "v                                                                                           \n",
       "                                                                                            \n",
       "            ⎛   -U(u, v)  V(u, v) ∂              -U(u, v)  V(u, v) ∂          ⎞  M(u, v)    \n",
       "            ⎜- ℯ        ⋅ℯ       ⋅──(U(u, v)) + ℯ        ⋅ℯ       ⋅──(V(u, v))⎟⋅ℯ           \n",
       "            ⎝                     ∂u                               ∂u         ⎠             \n",
       "   0        ────────────────────────────────────────────────────────────────────────────    \n",
       "                                                 2                                          \n",
       "                                                                                            \n",
       "                                                                                          ⎛ \n",
       "                                                                                          ⎜-\n",
       "                                                                                          ⎝ \n",
       "   0                                             0                                        ──\n",
       "                                                                                            \n",
       "                                                                                            \n",
       "\n",
       "                                                                               ⎡            \n",
       "                                    0                                       ⎤  ⎢            \n",
       "                                                                            ⎥  ⎢            \n",
       "                                                                            ⎥  ⎢            \n",
       "                                    0                                       ⎥  ⎢            \n",
       "                                                                            ⎥  ⎢            \n",
       "                                                                            ⎥  ⎢            \n",
       "                                                                            ⎥  ⎢            \n",
       "                                                                            ⎥  ⎢            \n",
       "                                                                            ⎥  ⎢            \n",
       "                                    0                                       ⎥  ⎢            \n",
       "                                                                            ⎥  ⎢            \n",
       "                                                                            ⎥  ⎢ ⎛ -U(u, v) \n",
       "  -U(u, v)  -V(u, v) ∂              -U(u, v)  -V(u, v) ∂          ⎞  M(u, v)⎥  ⎢-⎜ℯ        ⋅\n",
       " ℯ        ⋅ℯ        ⋅──(U(u, v)) - ℯ        ⋅ℯ        ⋅──(V(u, v))⎟⋅ℯ       ⎥  ⎢ ⎝          \n",
       "                     ∂u                                ∂u         ⎠         ⎥  ⎢────────────\n",
       "────────────────────────────────────────────────────────────────────────────⎥  ⎢            \n",
       "                                    2                                       ⎦  ⎢            \n",
       "                                                                               ⎣            \n",
       "\n",
       "                                                                                            \n",
       "                                                                                            \n",
       "                                                                                            \n",
       "                              0                                                             \n",
       "                                                                                            \n",
       "                                                                                            \n",
       "                                                                                            \n",
       "                                                                                            \n",
       "                                                                                            \n",
       "                              0                                                             \n",
       "                                                                                            \n",
       "                                                                                            \n",
       " V(u, v) ∂              -U(u, v)  V(u, v) ∂          ⎞  U(u, v)  -V(u, v)    ⎛ -U(u, v)  V(u\n",
       "ℯ       ⋅──(U(u, v)) - ℯ        ⋅ℯ       ⋅──(V(u, v))⎟⋅ℯ       ⋅ℯ           -⎜ℯ        ⋅ℯ   \n",
       "         ∂u                               ∂u         ⎠                       ⎝              \n",
       "──────────────────────────────────────────────────────────────────────────  ────────────────\n",
       "                              2                                                             \n",
       "                                                                                            \n",
       "                              0                                                             \n",
       "\n",
       "                                                                         ⎛ -U(u, v)  V(u, v)\n",
       "                                                                        -⎜ℯ        ⋅ℯ       \n",
       "                                                                         ⎝                  \n",
       "                          0                                             ────────────────────\n",
       "                                                                                            \n",
       "                                                                                            \n",
       "                                                                         ⎛ -U(u, v)  V(u, v)\n",
       "                                                                        -⎜ℯ        ⋅ℯ       \n",
       "                                                                         ⎝                  \n",
       "                          0                                             ────────────────────\n",
       "                                                                                            \n",
       "                                                                                            \n",
       ", v) ∂              -U(u, v)  V(u, v) ∂          ⎞  U(u, v)  -V(u, v)                       \n",
       "    ⋅──(U(u, v)) - ℯ        ⋅ℯ       ⋅──(V(u, v))⎟⋅ℯ       ⋅ℯ                               \n",
       "     ∂v                               ∂v         ⎠                                          \n",
       "──────────────────────────────────────────────────────────────────────                      \n",
       "                          2                                                                 \n",
       "                                                                                            \n",
       "                          0                                                                 \n",
       "\n",
       " ∂              -U(u, v)  V(u, v) ∂          ⎞  U(u, v)  -V(u, v)    ⎤  ⎡                   \n",
       "⋅──(U(u, v)) - ℯ        ⋅ℯ       ⋅──(V(u, v))⎟⋅ℯ       ⋅ℯ            ⎥  ⎢                   \n",
       " ∂u                               ∂u         ⎠                       ⎥  ⎢                   \n",
       "──────────────────────────────────────────────────────────────────  0⎥  ⎢                   \n",
       "                      2                                              ⎥  ⎢                   \n",
       "                                                                     ⎥  ⎢                   \n",
       " ∂              -U(u, v)  V(u, v) ∂          ⎞  U(u, v)  -V(u, v)    ⎥  ⎢                   \n",
       "⋅──(U(u, v)) - ℯ        ⋅ℯ       ⋅──(V(u, v))⎟⋅ℯ       ⋅ℯ            ⎥  ⎢                   \n",
       " ∂v                               ∂v         ⎠                       ⎥  ⎢                   \n",
       "──────────────────────────────────────────────────────────────────  0⎥  ⎢                   \n",
       "                      2                                              ⎥  ⎢                   \n",
       "                                                                     ⎥  ⎢                   \n",
       "                                                                     ⎥  ⎢                   \n",
       "                                                                     ⎥  ⎢                   \n",
       "                                                                     ⎥  ⎢ ⎛ -U(u, v)  -V(u, \n",
       "                      0                                             0⎥  ⎢-⎜ℯ        ⋅ℯ      \n",
       "                                                                     ⎥  ⎢ ⎝                 \n",
       "                                                                     ⎥  ⎢───────────────────\n",
       "                      0                                             0⎦  ⎣                   \n",
       "\n",
       "                                                                                            \n",
       "                                                                                            \n",
       "                                                                                            \n",
       "                        0                                                                   \n",
       "                                                                                            \n",
       "                                                                                            \n",
       "                                                                                            \n",
       "                                                                                            \n",
       "                                                                                            \n",
       "                        0                                                                   \n",
       "                                                                                            \n",
       "                                                                                            \n",
       "                        0                                                                   \n",
       "                                                                                            \n",
       "v) ∂              -U(u, v)  -V(u, v) ∂          ⎞  U(u, v)  V(u, v)    ⎛ -U(u, v)  -V(u, v) \n",
       "  ⋅──(U(u, v)) + ℯ        ⋅ℯ        ⋅──(V(u, v))⎟⋅ℯ       ⋅ℯ          -⎜ℯ        ⋅ℯ        ⋅\n",
       "   ∂u                                ∂u         ⎠                      ⎝                    \n",
       "────────────────────────────────────────────────────────────────────  ──────────────────────\n",
       "                        2                                                                   \n",
       "\n",
       "                                                                       ⎛ -U(u, v)  -V(u, v) \n",
       "                                                                      -⎜ℯ        ⋅ℯ        ⋅\n",
       "                                                                       ⎝                    \n",
       "                     0                                             0  ──────────────────────\n",
       "                                                                                            \n",
       "                                                                                            \n",
       "                                                                       ⎛ -U(u, v)  -V(u, v) \n",
       "                                                                      -⎜ℯ        ⋅ℯ        ⋅\n",
       "                                                                       ⎝                    \n",
       "                     0                                             0  ──────────────────────\n",
       "                                                                                            \n",
       "                                                                                            \n",
       "                     0                                             0                        \n",
       "                                                                                            \n",
       "∂              -U(u, v)  -V(u, v) ∂          ⎞  U(u, v)  V(u, v)                            \n",
       "──(U(u, v)) + ℯ        ⋅ℯ        ⋅──(V(u, v))⎟⋅ℯ       ⋅ℯ                                   \n",
       "∂v                                ∂v         ⎠                                              \n",
       "─────────────────────────────────────────────────────────────────  0                        \n",
       "                     2                                                                      \n",
       "\n",
       "∂              -U(u, v)  -V(u, v) ∂          ⎞  U(u, v)  V(u, v) ⎤⎤\n",
       "──(U(u, v)) + ℯ        ⋅ℯ        ⋅──(V(u, v))⎟⋅ℯ       ⋅ℯ        ⎥⎥\n",
       "∂u                                ∂u         ⎠                   ⎥⎥\n",
       "─────────────────────────────────────────────────────────────────⎥⎥\n",
       "                     2                                           ⎥⎥\n",
       "                                                                 ⎥⎥\n",
       "∂              -U(u, v)  -V(u, v) ∂          ⎞  U(u, v)  V(u, v) ⎥⎥\n",
       "──(U(u, v)) + ℯ        ⋅ℯ        ⋅──(V(u, v))⎟⋅ℯ       ⋅ℯ        ⎥⎥\n",
       "∂v                                ∂v         ⎠                   ⎥⎥\n",
       "─────────────────────────────────────────────────────────────────⎥⎥\n",
       "                     2                                           ⎥⎥\n",
       "                                                                 ⎥⎥\n",
       "                     0                                           ⎥⎥\n",
       "                                                                 ⎥⎥\n",
       "                                                                 ⎥⎥\n",
       "                                                                 ⎥⎥\n",
       "                                                                 ⎥⎥\n",
       "                     0                                           ⎥⎥\n",
       "                                                                 ⎦⎦"
      ]
     },
     "execution_count": 84,
     "metadata": {},
     "output_type": "execute_result"
    }
   ],
   "source": [
    "ch = ChristoffelSymbols.from_metric(metric)\n",
    "ch.tensor()"
   ]
  },
  {
   "cell_type": "code",
   "execution_count": 85,
   "id": "e4310d6f",
   "metadata": {},
   "outputs": [
    {
     "data": {
      "text/latex": [
       "$\\displaystyle \\left[\\begin{matrix}\\frac{\\partial}{\\partial u} M{\\left(u,v \\right)} \\frac{\\partial}{\\partial u} U{\\left(u,v \\right)} - \\frac{\\left(\\frac{\\partial}{\\partial u} U{\\left(u,v \\right)}\\right)^{2}}{2} + \\frac{\\partial^{2}}{\\partial u^{2}} U{\\left(u,v \\right)} - \\frac{\\left(\\frac{\\partial}{\\partial u} V{\\left(u,v \\right)}\\right)^{2}}{2} & - \\frac{\\frac{\\partial}{\\partial u} U{\\left(u,v \\right)} \\frac{\\partial}{\\partial v} U{\\left(u,v \\right)}}{2} - \\frac{\\frac{\\partial}{\\partial u} V{\\left(u,v \\right)} \\frac{\\partial}{\\partial v} V{\\left(u,v \\right)}}{2} + \\frac{\\partial^{2}}{\\partial v\\partial u} M{\\left(u,v \\right)} + \\frac{\\partial^{2}}{\\partial v\\partial u} U{\\left(u,v \\right)} & 0 & 0\\\\- \\frac{\\frac{\\partial}{\\partial u} U{\\left(u,v \\right)} \\frac{\\partial}{\\partial v} U{\\left(u,v \\right)}}{2} - \\frac{\\frac{\\partial}{\\partial u} V{\\left(u,v \\right)} \\frac{\\partial}{\\partial v} V{\\left(u,v \\right)}}{2} + \\frac{\\partial^{2}}{\\partial v\\partial u} M{\\left(u,v \\right)} + \\frac{\\partial^{2}}{\\partial v\\partial u} U{\\left(u,v \\right)} & \\frac{\\partial}{\\partial v} M{\\left(u,v \\right)} \\frac{\\partial}{\\partial v} U{\\left(u,v \\right)} - \\frac{\\left(\\frac{\\partial}{\\partial v} U{\\left(u,v \\right)}\\right)^{2}}{2} + \\frac{\\partial^{2}}{\\partial v^{2}} U{\\left(u,v \\right)} - \\frac{\\left(\\frac{\\partial}{\\partial v} V{\\left(u,v \\right)}\\right)^{2}}{2} & 0 & 0\\\\0 & 0 & \\left(\\frac{\\partial}{\\partial u} U{\\left(u,v \\right)} \\frac{\\partial}{\\partial v} U{\\left(u,v \\right)} - \\frac{\\frac{\\partial}{\\partial u} U{\\left(u,v \\right)} \\frac{\\partial}{\\partial v} V{\\left(u,v \\right)}}{2} - \\frac{\\frac{\\partial}{\\partial v} U{\\left(u,v \\right)} \\frac{\\partial}{\\partial u} V{\\left(u,v \\right)}}{2} - \\frac{\\partial^{2}}{\\partial v\\partial u} U{\\left(u,v \\right)} + \\frac{\\partial^{2}}{\\partial v\\partial u} V{\\left(u,v \\right)}\\right) e^{M{\\left(u,v \\right)} - U{\\left(u,v \\right)} + V{\\left(u,v \\right)}} & 0\\\\0 & 0 & 0 & \\left(\\frac{\\partial}{\\partial u} U{\\left(u,v \\right)} \\frac{\\partial}{\\partial v} U{\\left(u,v \\right)} + \\frac{\\frac{\\partial}{\\partial u} U{\\left(u,v \\right)} \\frac{\\partial}{\\partial v} V{\\left(u,v \\right)}}{2} + \\frac{\\frac{\\partial}{\\partial v} U{\\left(u,v \\right)} \\frac{\\partial}{\\partial u} V{\\left(u,v \\right)}}{2} - \\frac{\\partial^{2}}{\\partial v\\partial u} U{\\left(u,v \\right)} - \\frac{\\partial^{2}}{\\partial v\\partial u} V{\\left(u,v \\right)}\\right) e^{M{\\left(u,v \\right)} - U{\\left(u,v \\right)} - V{\\left(u,v \\right)}}\\end{matrix}\\right]$"
      ],
      "text/plain": [
       "⎡                                             2                               2             \n",
       "⎢                                ⎛∂          ⎞                   ⎛∂          ⎞            ∂ \n",
       "⎢                                ⎜──(U(u, v))⎟      2            ⎜──(V(u, v))⎟            ──\n",
       "⎢      ∂           ∂             ⎝∂u         ⎠     ∂             ⎝∂u         ⎠            ∂u\n",
       "⎢      ──(M(u, v))⋅──(U(u, v)) - ────────────── + ───(U(u, v)) - ──────────────         - ──\n",
       "⎢      ∂u          ∂u                  2            2                  2                    \n",
       "⎢                                                 ∂u                                        \n",
       "⎢                                                                                           \n",
       "⎢                                                                                           \n",
       "⎢  ∂           ∂             ∂           ∂                                                  \n",
       "⎢  ──(U(u, v))⋅──(U(u, v))   ──(V(u, v))⋅──(V(u, v))      2                2                \n",
       "⎢  ∂u          ∂v            ∂u          ∂v              ∂                ∂                 \n",
       "⎢- ─────────────────────── - ─────────────────────── + ─────(M(u, v)) + ─────(U(u, v))      \n",
       "⎢             2                         2              ∂v ∂u            ∂v ∂u               \n",
       "⎢                                                                                           \n",
       "⎢                                                                                           \n",
       "⎢                                                                                           \n",
       "⎢                                                                                           \n",
       "⎢                                                                                           \n",
       "⎢                                          0                                                \n",
       "⎢                                                                                           \n",
       "⎢                                                                                           \n",
       "⎢                                                                                           \n",
       "⎢                                                                                           \n",
       "⎢                                                                                           \n",
       "⎢                                          0                                                \n",
       "⎣                                                                                           \n",
       "\n",
       "                                                                                            \n",
       "          ∂             ∂           ∂                                                       \n",
       "(U(u, v))⋅──(U(u, v))   ──(V(u, v))⋅──(V(u, v))      2                2                     \n",
       "          ∂v            ∂u          ∂v              ∂                ∂                      \n",
       "───────────────────── - ─────────────────────── + ─────(M(u, v)) + ─────(U(u, v))           \n",
       "         2                         2              ∂v ∂u            ∂v ∂u                    \n",
       "                                                                                            \n",
       "                                                                                            \n",
       "                                         2                               2                  \n",
       "                            ⎛∂          ⎞                   ⎛∂          ⎞                   \n",
       "                            ⎜──(U(u, v))⎟      2            ⎜──(V(u, v))⎟                   \n",
       "  ∂           ∂             ⎝∂v         ⎠     ∂             ⎝∂v         ⎠                   \n",
       "  ──(M(u, v))⋅──(U(u, v)) - ────────────── + ───(U(u, v)) - ──────────────                  \n",
       "  ∂v          ∂v                  2            2                  2                         \n",
       "                                             ∂v                                             \n",
       "                                                                                            \n",
       "                                                                                   ⎛        \n",
       "                                                                                   ⎜        \n",
       "                                                                                   ⎜∂       \n",
       "                                      0                                            ⎜──(U(u, \n",
       "                                                                                   ⎝∂u      \n",
       "                                                                                            \n",
       "                                                                                            \n",
       "                                                                                            \n",
       "                                                                                            \n",
       "                                      0                                                     \n",
       "                                                                                            \n",
       "\n",
       "                                                                                            \n",
       "                                                                                            \n",
       "                                                                                            \n",
       "                                                                                            \n",
       "                                                            0                               \n",
       "                                                                                            \n",
       "                                                                                            \n",
       "                                                                                            \n",
       "                                                                                            \n",
       "                                                                                            \n",
       "                                                                                            \n",
       "                                                                                            \n",
       "                                                            0                               \n",
       "                                                                                            \n",
       "                                                                                            \n",
       "                                                                                            \n",
       "                  ∂           ∂             ∂           ∂                                   \n",
       "                  ──(U(u, v))⋅──(V(u, v))   ──(U(u, v))⋅──(V(u, v))      2                2 \n",
       "    ∂             ∂u          ∂v            ∂v          ∂u              ∂                ∂  \n",
       "v))⋅──(U(u, v)) - ─────────────────────── - ─────────────────────── - ─────(U(u, v)) + ─────\n",
       "    ∂v                       2                         2              ∂v ∂u            ∂v ∂u\n",
       "                                                                                            \n",
       "                                                                                            \n",
       "                                                                                            \n",
       "                                                                                            \n",
       "                                                            0                               \n",
       "                                                                                            \n",
       "\n",
       "                                                                                            \n",
       "                                                                                            \n",
       "                                                                                            \n",
       "                                                                                            \n",
       "                                                                                            \n",
       "                                                                                            \n",
       "                                                                                            \n",
       "                                                                                            \n",
       "                                                                                            \n",
       "                                                                                            \n",
       "                                                                                            \n",
       "                                                                                            \n",
       "                                                                                            \n",
       "                                                                                            \n",
       "                                                                                            \n",
       "                                                                                            \n",
       "         ⎞                                                                                  \n",
       "         ⎟                                                                                  \n",
       "         ⎟  M(u, v) - U(u, v) + V(u, v)                                                     \n",
       "(V(u, v))⎟⋅ℯ                                                                                \n",
       "         ⎠                                                                                  \n",
       "                                                                                            \n",
       "                                         ⎛                          ∂           ∂           \n",
       "                                         ⎜                          ──(U(u, v))⋅──(V(u, v)) \n",
       "                                         ⎜∂           ∂             ∂u          ∂v          \n",
       "                                         ⎜──(U(u, v))⋅──(U(u, v)) + ─────────────────────── \n",
       "                                         ⎝∂u          ∂v                       2            \n",
       "\n",
       "                                                                                         ⎤\n",
       "                                                                                         ⎥\n",
       "                                                                                         ⎥\n",
       "                                                                                         ⎥\n",
       "                  0                                                                      ⎥\n",
       "                                                                                         ⎥\n",
       "                                                                                         ⎥\n",
       "                                                                                         ⎥\n",
       "                                                                                         ⎥\n",
       "                                                                                         ⎥\n",
       "                                                                                         ⎥\n",
       "                                                                                         ⎥\n",
       "                  0                                                                      ⎥\n",
       "                                                                                         ⎥\n",
       "                                                                                         ⎥\n",
       "                                                                                         ⎥\n",
       "                                                                                         ⎥\n",
       "                                                                                         ⎥\n",
       "                                                                                         ⎥\n",
       "                  0                                                                      ⎥\n",
       "                                                                                         ⎥\n",
       "                                                                                         ⎥\n",
       "  ∂           ∂                                            ⎞                             ⎥\n",
       "  ──(U(u, v))⋅──(V(u, v))      2                2          ⎟                             ⎥\n",
       "  ∂v          ∂u              ∂                ∂           ⎟  M(u, v) - U(u, v) - V(u, v)⎥\n",
       "+ ─────────────────────── - ─────(U(u, v)) - ─────(V(u, v))⎟⋅ℯ                           ⎥\n",
       "             2              ∂v ∂u            ∂v ∂u         ⎠                             ⎦"
      ]
     },
     "execution_count": 85,
     "metadata": {},
     "output_type": "execute_result"
    }
   ],
   "source": [
    "Ric = RicciTensor.from_metric(metric)\n",
    "Ric.tensor()"
   ]
  },
  {
   "cell_type": "code",
   "execution_count": 86,
   "id": "62c39820",
   "metadata": {},
   "outputs": [
    {
     "data": {
      "text/latex": [
       "$\\displaystyle \\left[\\begin{matrix}\\frac{\\partial}{\\partial u} M{\\left(u,v \\right)} \\frac{\\partial}{\\partial u} U{\\left(u,v \\right)} - \\frac{\\left(\\frac{\\partial}{\\partial u} U{\\left(u,v \\right)}\\right)^{2}}{2} + \\frac{\\partial^{2}}{\\partial u^{2}} U{\\left(u,v \\right)} - \\frac{\\left(\\frac{\\partial}{\\partial u} V{\\left(u,v \\right)}\\right)^{2}}{2} & 1.0 \\frac{\\partial}{\\partial u} U{\\left(u,v \\right)} \\frac{\\partial}{\\partial v} U{\\left(u,v \\right)} - 1.0 \\frac{\\partial^{2}}{\\partial v\\partial u} U{\\left(u,v \\right)} & 0 & 0\\\\1.0 \\frac{\\partial}{\\partial u} U{\\left(u,v \\right)} \\frac{\\partial}{\\partial v} U{\\left(u,v \\right)} - 1.0 \\frac{\\partial^{2}}{\\partial v\\partial u} U{\\left(u,v \\right)} & \\frac{\\partial}{\\partial v} M{\\left(u,v \\right)} \\frac{\\partial}{\\partial v} U{\\left(u,v \\right)} - \\frac{\\left(\\frac{\\partial}{\\partial v} U{\\left(u,v \\right)}\\right)^{2}}{2} + \\frac{\\partial^{2}}{\\partial v^{2}} U{\\left(u,v \\right)} - \\frac{\\left(\\frac{\\partial}{\\partial v} V{\\left(u,v \\right)}\\right)^{2}}{2} & 0 & 0\\\\0 & 0 & 0.5 \\left(- 3 \\frac{\\partial}{\\partial u} U{\\left(u,v \\right)} \\frac{\\partial}{\\partial v} U{\\left(u,v \\right)} - \\frac{\\partial}{\\partial u} V{\\left(u,v \\right)} \\frac{\\partial}{\\partial v} V{\\left(u,v \\right)} + 2 \\frac{\\partial^{2}}{\\partial v\\partial u} M{\\left(u,v \\right)} + 4 \\frac{\\partial^{2}}{\\partial v\\partial u} U{\\left(u,v \\right)}\\right) e^{M{\\left(u,v \\right)}} e^{- U{\\left(u,v \\right)}} e^{V{\\left(u,v \\right)}} + \\left(\\frac{\\partial}{\\partial u} U{\\left(u,v \\right)} \\frac{\\partial}{\\partial v} U{\\left(u,v \\right)} - \\frac{\\frac{\\partial}{\\partial u} U{\\left(u,v \\right)} \\frac{\\partial}{\\partial v} V{\\left(u,v \\right)}}{2} - \\frac{\\frac{\\partial}{\\partial v} U{\\left(u,v \\right)} \\frac{\\partial}{\\partial u} V{\\left(u,v \\right)}}{2} - \\frac{\\partial^{2}}{\\partial v\\partial u} U{\\left(u,v \\right)} + \\frac{\\partial^{2}}{\\partial v\\partial u} V{\\left(u,v \\right)}\\right) e^{M{\\left(u,v \\right)} - U{\\left(u,v \\right)} + V{\\left(u,v \\right)}} & 0\\\\0 & 0 & 0 & 0.5 \\left(- 3 \\frac{\\partial}{\\partial u} U{\\left(u,v \\right)} \\frac{\\partial}{\\partial v} U{\\left(u,v \\right)} - \\frac{\\partial}{\\partial u} V{\\left(u,v \\right)} \\frac{\\partial}{\\partial v} V{\\left(u,v \\right)} + 2 \\frac{\\partial^{2}}{\\partial v\\partial u} M{\\left(u,v \\right)} + 4 \\frac{\\partial^{2}}{\\partial v\\partial u} U{\\left(u,v \\right)}\\right) e^{M{\\left(u,v \\right)}} e^{- U{\\left(u,v \\right)}} e^{- V{\\left(u,v \\right)}} + \\left(\\frac{\\partial}{\\partial u} U{\\left(u,v \\right)} \\frac{\\partial}{\\partial v} U{\\left(u,v \\right)} + \\frac{\\frac{\\partial}{\\partial u} U{\\left(u,v \\right)} \\frac{\\partial}{\\partial v} V{\\left(u,v \\right)}}{2} + \\frac{\\frac{\\partial}{\\partial v} U{\\left(u,v \\right)} \\frac{\\partial}{\\partial u} V{\\left(u,v \\right)}}{2} - \\frac{\\partial^{2}}{\\partial v\\partial u} U{\\left(u,v \\right)} - \\frac{\\partial^{2}}{\\partial v\\partial u} V{\\left(u,v \\right)}\\right) e^{M{\\left(u,v \\right)} - U{\\left(u,v \\right)} - V{\\left(u,v \\right)}}\\end{matrix}\\right]$"
      ],
      "text/plain": [
       "⎡                                       2                               2                   \n",
       "⎢                          ⎛∂          ⎞                   ⎛∂          ⎞                    \n",
       "⎢                          ⎜──(U(u, v))⎟      2            ⎜──(V(u, v))⎟                    \n",
       "⎢∂           ∂             ⎝∂u         ⎠     ∂             ⎝∂u         ⎠                    \n",
       "⎢──(M(u, v))⋅──(U(u, v)) - ────────────── + ───(U(u, v)) - ──────────────                1.0\n",
       "⎢∂u          ∂u                  2            2                  2                          \n",
       "⎢                                           ∂u                                              \n",
       "⎢                                                                                           \n",
       "⎢                                                                                           \n",
       "⎢                                                                                           \n",
       "⎢                                               2                                           \n",
       "⎢                  ∂           ∂               ∂                           ∂           ∂    \n",
       "⎢              1.0⋅──(U(u, v))⋅──(U(u, v)) - ─────(U(u, v))                ──(M(u, v))⋅──(U(\n",
       "⎢                  ∂u          ∂v            ∂v ∂u                         ∂v          ∂v   \n",
       "⎢                                                                                           \n",
       "⎢                                                                                           \n",
       "⎢                                                                                           \n",
       "⎢                                                                                           \n",
       "⎢                                                                                           \n",
       "⎢                                   0                                                       \n",
       "⎢                                                                                           \n",
       "⎢                                                                                           \n",
       "⎢                                                                                           \n",
       "⎢                                                                                           \n",
       "⎢                                                                                           \n",
       "⎢                                   0                                                       \n",
       "⎣                                                                                           \n",
       "\n",
       "                                                                                            \n",
       "                                                                                            \n",
       "                              2                                                             \n",
       " ∂           ∂               ∂                                                              \n",
       "⋅──(U(u, v))⋅──(U(u, v)) - ─────(U(u, v))                                                   \n",
       " ∂u          ∂v            ∂v ∂u                                                            \n",
       "                                                                                            \n",
       "                                                                                            \n",
       "                      2                               2                                     \n",
       "         ⎛∂          ⎞                   ⎛∂          ⎞                                      \n",
       "         ⎜──(U(u, v))⎟      2            ⎜──(V(u, v))⎟                                      \n",
       "         ⎝∂v         ⎠     ∂             ⎝∂v         ⎠                                      \n",
       "u, v)) - ────────────── + ───(U(u, v)) - ──────────────                                     \n",
       "               2            2                  2                                            \n",
       "                          ∂v                                                                \n",
       "                                                                                            \n",
       "                                                                                            \n",
       "                                                             ⎛                              \n",
       "                                                             ⎜    ∂           ∂             \n",
       "                  0                                      0.5⋅⎜- 3⋅──(U(u, v))⋅──(U(u, v)) - \n",
       "                                                             ⎝    ∂u          ∂v            \n",
       "                                                                                            \n",
       "                                                                                            \n",
       "                                                                                            \n",
       "                                                                                            \n",
       "                  0                                                                         \n",
       "                                                                                            \n",
       "\n",
       "                                                                                            \n",
       "                                                                                            \n",
       "                                                                                            \n",
       "                                                                                            \n",
       "                                                                                            \n",
       "                                                                                            \n",
       "                                                                                            \n",
       "                                                                                            \n",
       "                                                                                            \n",
       "                                                                                            \n",
       "                                                                                            \n",
       "                                                                                            \n",
       "                                                                                            \n",
       "                                                                                            \n",
       "                                                                                            \n",
       "                                                                                            \n",
       "                                                                                            \n",
       "                               2                  2          ⎞                              \n",
       "∂           ∂                 ∂                  ∂           ⎟  M(u, v)  -U(u, v)  V(u, v)  \n",
       "──(V(u, v))⋅──(V(u, v)) + 2⋅─────(M(u, v)) + 4⋅─────(U(u, v))⎟⋅ℯ       ⋅ℯ        ⋅ℯ        +\n",
       "∂u          ∂v              ∂v ∂u              ∂v ∂u         ⎠                              \n",
       "                                                                                            \n",
       "                                                                                            \n",
       "                                                                                            \n",
       "                                                                                            \n",
       "                                                                                            \n",
       "                                                                                            \n",
       "\n",
       "                                                                                            \n",
       "                                                                                            \n",
       "                                                                                            \n",
       "                                                                                            \n",
       "      0                                                                                     \n",
       "                                                                                            \n",
       "                                                                                            \n",
       "                                                                                            \n",
       "                                                                                            \n",
       "                                                                                            \n",
       "                                                                                            \n",
       "                                                                                            \n",
       "      0                                                                                     \n",
       "                                                                                            \n",
       "                                                                                            \n",
       "                                                                                            \n",
       " ⎛                          ∂           ∂             ∂           ∂                         \n",
       " ⎜                          ──(U(u, v))⋅──(V(u, v))   ──(U(u, v))⋅──(V(u, v))      2        \n",
       " ⎜∂           ∂             ∂u          ∂v            ∂v          ∂u              ∂         \n",
       " ⎜──(U(u, v))⋅──(U(u, v)) - ─────────────────────── - ─────────────────────── - ─────(U(u, v\n",
       " ⎝∂u          ∂v                       2                         2              ∂v ∂u       \n",
       "                                                                                            \n",
       "                                                                                            \n",
       "                                                                                            \n",
       "                                                                                            \n",
       "      0                                                                                     \n",
       "                                                                                            \n",
       "\n",
       "                                                                                            \n",
       "                                                                                            \n",
       "                                                                                            \n",
       "                                                                                            \n",
       "                                                                                            \n",
       "                                                                                            \n",
       "                                                                                            \n",
       "                                                                                            \n",
       "                                                                                            \n",
       "                                                                                            \n",
       "                                                                                            \n",
       "                                                                                            \n",
       "                                                                                            \n",
       "                                                                                            \n",
       "                                                                                            \n",
       "                                                                                            \n",
       "                   ⎞                                                                        \n",
       "        2          ⎟                                                                        \n",
       "       ∂           ⎟  M(u, v) - U(u, v) + V(u, v)                                           \n",
       ")) + ─────(V(u, v))⎟⋅ℯ                                                                      \n",
       "     ∂v ∂u         ⎠                                                                        \n",
       "                                                                                            \n",
       "                                                                                            \n",
       "                                                       ⎛                                    \n",
       "                                                       ⎜    ∂           ∂             ∂     \n",
       "                                                   0.5⋅⎜- 3⋅──(U(u, v))⋅──(U(u, v)) - ──(V(u\n",
       "                                                       ⎝    ∂u          ∂v            ∂u    \n",
       "\n",
       "                                                                                            \n",
       "                                                                                            \n",
       "                                                                                            \n",
       "                                                                                            \n",
       "                                                                                            \n",
       "                                                                                            \n",
       "                                                                                            \n",
       "                                                                                            \n",
       "                                                                                            \n",
       "                                                                                            \n",
       "                                                                                            \n",
       "                                                                                            \n",
       "                                                                                            \n",
       "                                                                                            \n",
       "                                                                                            \n",
       "                                                                                            \n",
       "                                                                                            \n",
       "                                                                                            \n",
       "                                                                                            \n",
       "                                                                                            \n",
       "                                                                                            \n",
       "                                                                                            \n",
       "                                                                                        ⎛   \n",
       "                         2                  2          ⎞                                ⎜   \n",
       "      ∂                 ∂                  ∂           ⎟  M(u, v)  -U(u, v)  -V(u, v)   ⎜∂  \n",
       ", v))⋅──(V(u, v)) + 2⋅─────(M(u, v)) + 4⋅─────(U(u, v))⎟⋅ℯ       ⋅ℯ        ⋅ℯ         + ⎜──(\n",
       "      ∂v              ∂v ∂u              ∂v ∂u         ⎠                                ⎝∂u \n",
       "\n",
       "                                                                                            \n",
       "                                                                                            \n",
       "                                                                                            \n",
       "                                                                                            \n",
       " 0                                                                                          \n",
       "                                                                                            \n",
       "                                                                                            \n",
       "                                                                                            \n",
       "                                                                                            \n",
       "                                                                                            \n",
       "                                                                                            \n",
       "                                                                                            \n",
       " 0                                                                                          \n",
       "                                                                                            \n",
       "                                                                                            \n",
       "                                                                                            \n",
       "                                                                                            \n",
       "                                                                                            \n",
       "                                                                                            \n",
       " 0                                                                                          \n",
       "                                                                                            \n",
       "                                                                                            \n",
       "                       ∂           ∂             ∂           ∂                              \n",
       "                       ──(U(u, v))⋅──(V(u, v))   ──(U(u, v))⋅──(V(u, v))      2             \n",
       "         ∂             ∂u          ∂v            ∂v          ∂u              ∂              \n",
       "U(u, v))⋅──(U(u, v)) + ─────────────────────── + ─────────────────────── - ─────(U(u, v)) - \n",
       "         ∂v                       2                         2              ∂v ∂u            \n",
       "\n",
       "                                            ⎤\n",
       "                                            ⎥\n",
       "                                            ⎥\n",
       "                                            ⎥\n",
       "                                            ⎥\n",
       "                                            ⎥\n",
       "                                            ⎥\n",
       "                                            ⎥\n",
       "                                            ⎥\n",
       "                                            ⎥\n",
       "                                            ⎥\n",
       "                                            ⎥\n",
       "                                            ⎥\n",
       "                                            ⎥\n",
       "                                            ⎥\n",
       "                                            ⎥\n",
       "                                            ⎥\n",
       "                                            ⎥\n",
       "                                            ⎥\n",
       "                                            ⎥\n",
       "                                            ⎥\n",
       "                                            ⎥\n",
       "              ⎞                             ⎥\n",
       "   2          ⎟                             ⎥\n",
       "  ∂           ⎟  M(u, v) - U(u, v) - V(u, v)⎥\n",
       "─────(V(u, v))⎟⋅ℯ                           ⎥\n",
       "∂v ∂u         ⎠                             ⎦"
      ]
     },
     "execution_count": 86,
     "metadata": {},
     "output_type": "execute_result"
    }
   ],
   "source": [
    "einst = EinsteinTensor.from_metric(metric)\n",
    "einst.tensor()"
   ]
  },
  {
   "cell_type": "code",
   "execution_count": 87,
   "id": "79376f0c",
   "metadata": {},
   "outputs": [
    {
     "data": {
      "image/png": "[encoded data removed]",
      "text/latex": [
       "$\\displaystyle \\left(- 3 \\frac{\\partial}{\\partial u} U{\\left(u,v \\right)} \\frac{\\partial}{\\partial v} U{\\left(u,v \\right)} - \\frac{\\partial}{\\partial u} V{\\left(u,v \\right)} \\frac{\\partial}{\\partial v} V{\\left(u,v \\right)} + 2 \\frac{\\partial^{2}}{\\partial v\\partial u} M{\\left(u,v \\right)} + 4 \\frac{\\partial^{2}}{\\partial v\\partial u} U{\\left(u,v \\right)}\\right) e^{M{\\left(u,v \\right)}}$"
      ],
      "text/plain": [
       "⎛                                                             2                  2          \n",
       "⎜    ∂           ∂             ∂           ∂                 ∂                  ∂           \n",
       "⎜- 3⋅──(U(u, v))⋅──(U(u, v)) - ──(V(u, v))⋅──(V(u, v)) + 2⋅─────(M(u, v)) + 4⋅─────(U(u, v))\n",
       "⎝    ∂u          ∂v            ∂u          ∂v              ∂v ∂u              ∂v ∂u         \n",
       "\n",
       "⎞         \n",
       "⎟  M(u, v)\n",
       "⎟⋅ℯ       \n",
       "⎠         "
      ]
     },
     "execution_count": 87,
     "metadata": {},
     "output_type": "execute_result"
    }
   ],
   "source": [
    "R = RicciScalar.from_riccitensor(Ric)\n",
    "R.simplify()\n",
    "R.expr"
   ]
  },
  {
   "cell_type": "code",
   "execution_count": 88,
   "id": "a356e906",
   "metadata": {},
   "outputs": [],
   "source": [
    "#  rm1 = RiemannCurvatureTensor.from_christoffels(ch)\n",
    "#  rm1.tensor()"
   ]
  },
  {
   "cell_type": "code",
   "execution_count": 89,
   "id": "e1801746",
   "metadata": {},
   "outputs": [],
   "source": [
    "#  weyl = WeylTensor.from_metric(metric)\n",
    "#  weyl.tensor()"
   ]
  },
  {
   "cell_type": "code",
   "execution_count": 90,
   "id": "9dc254b4",
   "metadata": {},
   "outputs": [
    {
     "data": {
      "image/png": "[encoded data removed]",
      "text/latex": [
       "$\\displaystyle 2 \\frac{\\partial^{2}}{\\partial u^{2}} U{\\left(u,v \\right)} = - 2 \\frac{\\partial}{\\partial u} M{\\left(u,v \\right)} \\frac{\\partial}{\\partial u} U{\\left(u,v \\right)} + \\left(\\frac{\\partial}{\\partial u} U{\\left(u,v \\right)}\\right)^{2} + \\left(\\frac{\\partial}{\\partial u} V{\\left(u,v \\right)}\\right)^{2}$"
      ],
      "text/plain": [
       "    2                                                       2                2\n",
       "   ∂                 ∂           ∂             ⎛∂          ⎞    ⎛∂          ⎞ \n",
       "2⋅───(U(u, v)) = - 2⋅──(M(u, v))⋅──(U(u, v)) + ⎜──(U(u, v))⎟  + ⎜──(V(u, v))⎟ \n",
       "    2                ∂u          ∂u            ⎝∂u         ⎠    ⎝∂u         ⎠ \n",
       "  ∂u                                                                          "
      ]
     },
     "execution_count": 90,
     "metadata": {},
     "output_type": "execute_result"
    }
   ],
   "source": [
    "equation2pt6a = Eq(2*diff(U,u,u),2*solve( simplify(Ric.tensor()[0,0]), diff(U,u,u) )[0])\n",
    "equation2pt6a"
   ]
  },
  {
   "cell_type": "code",
   "execution_count": 91,
   "id": "7675ea33",
   "metadata": {},
   "outputs": [
    {
     "data": {
      "image/png": "[encoded data removed]",
      "text/latex": [
       "$\\displaystyle 2 \\frac{\\partial^{2}}{\\partial v^{2}} U{\\left(u,v \\right)} = - 2 \\frac{\\partial}{\\partial v} M{\\left(u,v \\right)} \\frac{\\partial}{\\partial v} U{\\left(u,v \\right)} + \\left(\\frac{\\partial}{\\partial v} U{\\left(u,v \\right)}\\right)^{2} + \\left(\\frac{\\partial}{\\partial v} V{\\left(u,v \\right)}\\right)^{2}$"
      ],
      "text/plain": [
       "    2                                                       2                2\n",
       "   ∂                 ∂           ∂             ⎛∂          ⎞    ⎛∂          ⎞ \n",
       "2⋅───(U(u, v)) = - 2⋅──(M(u, v))⋅──(U(u, v)) + ⎜──(U(u, v))⎟  + ⎜──(V(u, v))⎟ \n",
       "    2                ∂v          ∂v            ⎝∂v         ⎠    ⎝∂v         ⎠ \n",
       "  ∂v                                                                          "
      ]
     },
     "execution_count": 91,
     "metadata": {},
     "output_type": "execute_result"
    }
   ],
   "source": [
    "equation2pt6b = Eq(2*diff(U,v,v),2*solve( simplify(Ric.tensor()[1,1]), diff(U,v,v) )[0])\n",
    "equation2pt6b"
   ]
  },
  {
   "cell_type": "code",
   "execution_count": 92,
   "id": "f9f9a86a",
   "metadata": {},
   "outputs": [
    {
     "data": {
      "image/png": "[encoded data removed]",
      "text/latex": [
       "$\\displaystyle \\frac{\\partial^{2}}{\\partial v\\partial u} U{\\left(u,v \\right)} = \\frac{\\partial}{\\partial u} U{\\left(u,v \\right)} \\frac{\\partial}{\\partial v} U{\\left(u,v \\right)}$"
      ],
      "text/plain": [
       "   2                                    \n",
       "  ∂              ∂           ∂          \n",
       "─────(U(u, v)) = ──(U(u, v))⋅──(U(u, v))\n",
       "∂v ∂u            ∂u          ∂v         "
      ]
     },
     "execution_count": 92,
     "metadata": {},
     "output_type": "execute_result"
    }
   ],
   "source": [
    "equation2pt6c = Eq( diff(U,u,v),solve( einst.tensor()[1,0], diff(U,u,v) )[0])\n",
    "equation2pt6c"
   ]
  },
  {
   "cell_type": "code",
   "execution_count": 93,
   "id": "892afa98",
   "metadata": {},
   "outputs": [
    {
     "data": {
      "image/png": "[encoded data removed]",
      "text/latex": [
       "$\\displaystyle \\frac{\\partial^{2}}{\\partial v\\partial u} V{\\left(u,v \\right)} = \\frac{\\frac{\\partial}{\\partial u} U{\\left(u,v \\right)} \\frac{\\partial}{\\partial v} V{\\left(u,v \\right)}}{2} + \\frac{\\frac{\\partial}{\\partial v} U{\\left(u,v \\right)} \\frac{\\partial}{\\partial u} V{\\left(u,v \\right)}}{2}$"
      ],
      "text/plain": [
       "                 ∂           ∂             ∂           ∂          \n",
       "   2             ──(U(u, v))⋅──(V(u, v))   ──(U(u, v))⋅──(V(u, v))\n",
       "  ∂              ∂u          ∂v            ∂v          ∂u         \n",
       "─────(V(u, v)) = ─────────────────────── + ───────────────────────\n",
       "∂v ∂u                       2                         2           "
      ]
     },
     "execution_count": 93,
     "metadata": {},
     "output_type": "execute_result"
    }
   ],
   "source": [
    "equation2pt6d = Eq(diff(V,u,v),solve( simplify(Ric.tensor()[2,2]).args[0] , diff(V,u,v) )[0] ).subs(equation2pt6c.args[0],equation2pt6c.args[1])\n",
    "equation2pt6d"
   ]
  },
  {
   "cell_type": "code",
   "execution_count": 94,
   "id": "75a8ac74",
   "metadata": {},
   "outputs": [
    {
     "data": {
      "image/png": "[encoded data removed]",
      "text/latex": [
       "$\\displaystyle \\frac{\\partial^{2}}{\\partial v\\partial u} M{\\left(u,v \\right)} = - \\frac{\\frac{\\partial}{\\partial u} U{\\left(u,v \\right)} \\frac{\\partial}{\\partial v} U{\\left(u,v \\right)}}{2} + \\frac{\\frac{\\partial}{\\partial u} V{\\left(u,v \\right)} \\frac{\\partial}{\\partial v} V{\\left(u,v \\right)}}{2}$"
      ],
      "text/plain": [
       "                   ∂           ∂             ∂           ∂          \n",
       "   2               ──(U(u, v))⋅──(U(u, v))   ──(V(u, v))⋅──(V(u, v))\n",
       "  ∂                ∂u          ∂v            ∂u          ∂v         \n",
       "─────(M(u, v)) = - ─────────────────────── + ───────────────────────\n",
       "∂v ∂u                         2                         2           "
      ]
     },
     "execution_count": 94,
     "metadata": {},
     "output_type": "execute_result"
    }
   ],
   "source": [
    "equation2pt7 = Eq(diff(M,u,v),solve( einst.tensor()[2,2].args[1].args[1].subs(equation2pt6c.args[0],equation2pt6c.args[1]) , diff(M,u,v) )[0])\n",
    "equation2pt7"
   ]
  },
  {
   "cell_type": "code",
   "execution_count": 96,
   "id": "cd2d98d2",
   "metadata": {},
   "outputs": [
    {
     "data": {
      "text/latex": [
       "$\\displaystyle \\left[\\begin{matrix}2 \\frac{\\partial^{2}}{\\partial u^{2}} U{\\left(u,v \\right)} = - 2 \\frac{\\partial}{\\partial u} M{\\left(u,v \\right)} \\frac{\\partial}{\\partial u} U{\\left(u,v \\right)} + \\left(\\frac{\\partial}{\\partial u} U{\\left(u,v \\right)}\\right)^{2} + \\left(\\frac{\\partial}{\\partial u} V{\\left(u,v \\right)}\\right)^{2}\\\\2 \\frac{\\partial^{2}}{\\partial v^{2}} U{\\left(u,v \\right)} = - 2 \\frac{\\partial}{\\partial v} M{\\left(u,v \\right)} \\frac{\\partial}{\\partial v} U{\\left(u,v \\right)} + \\left(\\frac{\\partial}{\\partial v} U{\\left(u,v \\right)}\\right)^{2} + \\left(\\frac{\\partial}{\\partial v} V{\\left(u,v \\right)}\\right)^{2}\\\\\\frac{\\partial^{2}}{\\partial v\\partial u} U{\\left(u,v \\right)} = \\frac{\\partial}{\\partial u} U{\\left(u,v \\right)} \\frac{\\partial}{\\partial v} U{\\left(u,v \\right)}\\\\\\frac{\\partial^{2}}{\\partial v\\partial u} V{\\left(u,v \\right)} = \\frac{\\frac{\\partial}{\\partial u} U{\\left(u,v \\right)} \\frac{\\partial}{\\partial v} V{\\left(u,v \\right)}}{2} + \\frac{\\frac{\\partial}{\\partial v} U{\\left(u,v \\right)} \\frac{\\partial}{\\partial u} V{\\left(u,v \\right)}}{2}\\\\\\frac{\\partial^{2}}{\\partial v\\partial u} M{\\left(u,v \\right)} = - \\frac{\\frac{\\partial}{\\partial u} U{\\left(u,v \\right)} \\frac{\\partial}{\\partial v} U{\\left(u,v \\right)}}{2} + \\frac{\\frac{\\partial}{\\partial u} V{\\left(u,v \\right)} \\frac{\\partial}{\\partial v} V{\\left(u,v \\right)}}{2}\\end{matrix}\\right]$"
      ],
      "text/plain": [
       "⎡    2                                                       2                2⎤\n",
       "⎢   ∂                 ∂           ∂             ⎛∂          ⎞    ⎛∂          ⎞ ⎥\n",
       "⎢2⋅───(U(u, v)) = - 2⋅──(M(u, v))⋅──(U(u, v)) + ⎜──(U(u, v))⎟  + ⎜──(V(u, v))⎟ ⎥\n",
       "⎢    2                ∂u          ∂u            ⎝∂u         ⎠    ⎝∂u         ⎠ ⎥\n",
       "⎢  ∂u                                                                          ⎥\n",
       "⎢                                                                              ⎥\n",
       "⎢    2                                                       2                2⎥\n",
       "⎢   ∂                 ∂           ∂             ⎛∂          ⎞    ⎛∂          ⎞ ⎥\n",
       "⎢2⋅───(U(u, v)) = - 2⋅──(M(u, v))⋅──(U(u, v)) + ⎜──(U(u, v))⎟  + ⎜──(V(u, v))⎟ ⎥\n",
       "⎢    2                ∂v          ∂v            ⎝∂v         ⎠    ⎝∂v         ⎠ ⎥\n",
       "⎢  ∂v                                                                          ⎥\n",
       "⎢                                                                              ⎥\n",
       "⎢                      2                                                       ⎥\n",
       "⎢                     ∂              ∂           ∂                             ⎥\n",
       "⎢                   ─────(U(u, v)) = ──(U(u, v))⋅──(U(u, v))                   ⎥\n",
       "⎢                   ∂v ∂u            ∂u          ∂v                            ⎥\n",
       "⎢                                                                              ⎥\n",
       "⎢                       ∂           ∂             ∂           ∂                ⎥\n",
       "⎢         2             ──(U(u, v))⋅──(V(u, v))   ──(U(u, v))⋅──(V(u, v))      ⎥\n",
       "⎢        ∂              ∂u          ∂v            ∂v          ∂u               ⎥\n",
       "⎢      ─────(V(u, v)) = ─────────────────────── + ───────────────────────      ⎥\n",
       "⎢      ∂v ∂u                       2                         2                 ⎥\n",
       "⎢                                                                              ⎥\n",
       "⎢                        ∂           ∂             ∂           ∂               ⎥\n",
       "⎢        2               ──(U(u, v))⋅──(U(u, v))   ──(V(u, v))⋅──(V(u, v))     ⎥\n",
       "⎢       ∂                ∂u          ∂v            ∂u          ∂v              ⎥\n",
       "⎢     ─────(M(u, v)) = - ─────────────────────── + ───────────────────────     ⎥\n",
       "⎣     ∂v ∂u                         2                         2                ⎦"
      ]
     },
     "execution_count": 96,
     "metadata": {},
     "output_type": "execute_result"
    }
   ],
   "source": [
    "vacuumFieldEquations = Matrix([equation2pt6a,equation2pt6b,equation2pt6c,equation2pt6d,equation2pt7])\n",
    "vacuumFieldEquations"
   ]
  },
  {
   "cell_type": "code",
   "execution_count": null,
   "id": "ad0797d1",
   "metadata": {},
   "outputs": [],
   "source": []
  }
 ],
 "metadata": {
  "@webio": {
   "lastCommId": "aeeecb015b364100b2f25fb68209c784",
   "lastKernelId": "7e34f2a1-4797-489d-8820-c18aaaafda90"
  },
  "kernelspec": {
   "display_name": "Python 3 (ipykernel)",
   "language": "python",
   "name": "python3"
  },
  "language_info": {
   "codemirror_mode": {
    "name": "ipython",
    "version": 3
   },
   "file_extension": ".py",
   "mimetype": "text/x-python",
   "name": "python",
   "nbconvert_exporter": "python",
   "pygments_lexer": "ipython3",
   "version": "3.8.8"
  }
 },
 "nbformat": 4,
 "nbformat_minor": 5
}
