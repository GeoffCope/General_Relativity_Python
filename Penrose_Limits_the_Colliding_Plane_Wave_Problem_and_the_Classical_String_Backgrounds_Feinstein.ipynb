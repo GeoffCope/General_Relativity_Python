{
 "cells": [
  {
   "cell_type": "markdown",
   "id": "724f7298",
   "metadata": {},
   "source": [
    "# Penrose Limits, the Colliding Plane Wave Problem and the Classical String Backgrounds by Feinstein \n",
    "##  Geoff Cope\n",
    "##  University of Utah\n",
    "##  𐐏𐐭𐑌𐐲𐑂𐐲𐑉𐑅𐐮𐐻𐐨 𐐲𐑂 𐐏𐐭𐐻𐐫\n",
    "##  December 25, 2021  Christmas Day AND the launch of JWST!"
   ]
  },
  {
   "cell_type": "markdown",
   "id": "3fb95702",
   "metadata": {},
   "source": [
    "Here we work with metric 4.  From paper: \"Any 4-dimensional spacetime with two orthogonal Killing directions can be put into the above form ( metric4 )\".  The field equations for metric 4 are given as the wave equation for G in null coordinates.  Full solution we be to first solve the wave equation for G which would consist of the sum of left and right moving arbitary profiles. Once G is found take appropriate derivatives and then plug into the wave equation for p, then solve.  Now having G and p, take appropriate derivatives and plug into wave equatioin for f and solve. "
   ]
  },
  {
   "cell_type": "markdown",
   "id": "82a37b89",
   "metadata": {},
   "source": [
    "https://arxiv.org/abs/hep-th/0206052"
   ]
  },
  {
   "cell_type": "code",
   "execution_count": 1,
   "id": "62a92ef7",
   "metadata": {},
   "outputs": [
    {
     "name": "stdout",
     "output_type": "stream",
     "text": [
      "IPython console for SymPy 1.9 (Python 3.8.8-64-bit) (ground types: gmpy)\n",
      "\n",
      "These commands were executed:\n",
      ">>> from __future__ import division\n",
      ">>> from sympy import *\n",
      ">>> x, y, z, t = symbols('x y z t')\n",
      ">>> k, m, n = symbols('k m n', integer=True)\n",
      ">>> f, g, h = symbols('f g h', cls=Function)\n",
      ">>> init_printing()\n",
      "\n",
      "Documentation can be found at https://docs.sympy.org/1.9/\n",
      "\n"
     ]
    }
   ],
   "source": [
    "from sympy import init_session\n",
    "init_session(use_latex=True)"
   ]
  },
  {
   "cell_type": "code",
   "execution_count": 2,
   "id": "931e4fd9",
   "metadata": {},
   "outputs": [],
   "source": [
    "import warnings\n",
    "import matplotlib.cbook\n",
    "warnings.filterwarnings(\"ignore\",category=matplotlib.cbook.mplDeprecation)"
   ]
  },
  {
   "cell_type": "code",
   "execution_count": 3,
   "id": "6973d3cb",
   "metadata": {},
   "outputs": [],
   "source": [
    "u,v,x,dy,du,dv,dx,dy = symbols( 'u v x y du dv dx dy' , positive = True, real = True  ) "
   ]
  },
  {
   "cell_type": "code",
   "execution_count": 4,
   "id": "857f5b14",
   "metadata": {},
   "outputs": [
    {
     "data": {
      "image/png": "[encoded data removed]",
      "text/latex": [
       "$\\displaystyle G{\\left(u,v \\right)}$"
      ],
      "text/plain": [
       "G(u, v)"
      ]
     },
     "execution_count": 4,
     "metadata": {},
     "output_type": "execute_result"
    }
   ],
   "source": [
    "G = Function('G')(u,v)\n",
    "G"
   ]
  },
  {
   "cell_type": "code",
   "execution_count": 5,
   "id": "ba6a00ca",
   "metadata": {},
   "outputs": [
    {
     "data": {
      "image/png": "[encoded data removed]",
      "text/latex": [
       "$\\displaystyle f{\\left(u,v \\right)}$"
      ],
      "text/plain": [
       "f(u, v)"
      ]
     },
     "execution_count": 5,
     "metadata": {},
     "output_type": "execute_result"
    }
   ],
   "source": [
    "f = Function('f')(u,v)\n",
    "f"
   ]
  },
  {
   "cell_type": "code",
   "execution_count": 6,
   "id": "b38150e0",
   "metadata": {},
   "outputs": [
    {
     "data": {
      "image/png": "[encoded data removed]",
      "text/latex": [
       "$\\displaystyle p{\\left(u,v \\right)}$"
      ],
      "text/plain": [
       "p(u, v)"
      ]
     },
     "execution_count": 6,
     "metadata": {},
     "output_type": "execute_result"
    }
   ],
   "source": [
    "p = Function('p')(u,v)\n",
    "p"
   ]
  },
  {
   "cell_type": "code",
   "execution_count": 7,
   "id": "d9db2f2d",
   "metadata": {},
   "outputs": [
    {
     "data": {
      "text/latex": [
       "$\\displaystyle \\left[\\begin{matrix}u\\\\v\\\\x\\\\y\\end{matrix}\\right]$"
      ],
      "text/plain": [
       "⎡u⎤\n",
       "⎢ ⎥\n",
       "⎢v⎥\n",
       "⎢ ⎥\n",
       "⎢x⎥\n",
       "⎢ ⎥\n",
       "⎣y⎦"
      ]
     },
     "execution_count": 7,
     "metadata": {},
     "output_type": "execute_result"
    }
   ],
   "source": [
    "variables = Matrix( [u,v,x,y] )\n",
    "variables"
   ]
  },
  {
   "cell_type": "code",
   "execution_count": 8,
   "id": "6a0d17fb",
   "metadata": {},
   "outputs": [
    {
     "data": {
      "text/latex": [
       "$\\displaystyle \\left[\\begin{matrix}du\\\\dv\\\\dx\\\\dy\\end{matrix}\\right]$"
      ],
      "text/plain": [
       "⎡du⎤\n",
       "⎢  ⎥\n",
       "⎢dv⎥\n",
       "⎢  ⎥\n",
       "⎢dx⎥\n",
       "⎢  ⎥\n",
       "⎣dy⎦"
      ]
     },
     "execution_count": 8,
     "metadata": {},
     "output_type": "execute_result"
    }
   ],
   "source": [
    "differentials = Matrix( [du,dv,dx,dy])\n",
    "differentials "
   ]
  },
  {
   "cell_type": "code",
   "execution_count": 10,
   "id": "2e4ef592",
   "metadata": {},
   "outputs": [
    {
     "data": {
      "image/png": "[encoded data removed]",
      "text/latex": [
       "$\\displaystyle - du dv f{\\left(u,v \\right)} + dx^{2} G{\\left(u,v \\right)} e^{p{\\left(u,v \\right)}} + dy^{2} G{\\left(u,v \\right)} e^{- p{\\left(u,v \\right)}}$"
      ],
      "text/plain": [
       "                   2          p(u, v)     2          -p(u, v)\n",
       "-du⋅dv⋅f(u, v) + dx ⋅G(u, v)⋅ℯ        + dy ⋅G(u, v)⋅ℯ        "
      ]
     },
     "execution_count": 10,
     "metadata": {},
     "output_type": "execute_result"
    }
   ],
   "source": [
    "lineElement = expand(-f*du*dv + G * ( exp(p)*dx**2 + exp(-p)*dy**2 ))\n",
    "lineElement"
   ]
  },
  {
   "cell_type": "code",
   "execution_count": 11,
   "id": "0a286e8f",
   "metadata": {},
   "outputs": [
    {
     "data": {
      "text/latex": [
       "$\\displaystyle \\left[\\begin{matrix}0 & - \\frac{f{\\left(u,v \\right)}}{2} & 0 & 0\\\\- \\frac{f{\\left(u,v \\right)}}{2} & 0 & 0 & 0\\\\0 & 0 & G{\\left(u,v \\right)} e^{p{\\left(u,v \\right)}} & 0\\\\0 & 0 & 0 & G{\\left(u,v \\right)} e^{- p{\\left(u,v \\right)}}\\end{matrix}\\right]$"
      ],
      "text/plain": [
       "⎡           -f(u, v)                                      ⎤\n",
       "⎢    0      ─────────         0                  0        ⎥\n",
       "⎢               2                                         ⎥\n",
       "⎢                                                         ⎥\n",
       "⎢-f(u, v)                                                 ⎥\n",
       "⎢─────────      0             0                  0        ⎥\n",
       "⎢    2                                                    ⎥\n",
       "⎢                                                         ⎥\n",
       "⎢                               p(u, v)                   ⎥\n",
       "⎢    0          0      G(u, v)⋅ℯ                 0        ⎥\n",
       "⎢                                                         ⎥\n",
       "⎢                                                 -p(u, v)⎥\n",
       "⎣    0          0             0          G(u, v)⋅ℯ        ⎦"
      ]
     },
     "execution_count": 11,
     "metadata": {},
     "output_type": "execute_result"
    }
   ],
   "source": [
    "g = zeros(4)\n",
    "\n",
    "for i in range(4):\n",
    "    for j in range(4):\n",
    "        if i == j:\n",
    "            g[i,j] = lineElement.coeff( differentials[i],2 ) \n",
    "        else:\n",
    "            g[i,j] = Rational(1,2)*lineElement.coeff( differentials[i]*differentials[j],1 )\n",
    "            \n",
    "g"
   ]
  },
  {
   "cell_type": "code",
   "execution_count": 12,
   "id": "7a869b5d",
   "metadata": {},
   "outputs": [],
   "source": [
    "import sympy"
   ]
  },
  {
   "cell_type": "code",
   "execution_count": 13,
   "id": "cacf6db2",
   "metadata": {},
   "outputs": [
    {
     "data": {
      "text/latex": [
       "$\\displaystyle \\left[\\begin{matrix}0 & - \\frac{f{\\left(u,v \\right)}}{2} & 0 & 0\\\\- \\frac{f{\\left(u,v \\right)}}{2} & 0 & 0 & 0\\\\0 & 0 & G{\\left(u,v \\right)} e^{p{\\left(u,v \\right)}} & 0\\\\0 & 0 & 0 & G{\\left(u,v \\right)} e^{- p{\\left(u,v \\right)}}\\end{matrix}\\right]$"
      ],
      "text/plain": [
       "⎡           -f(u, v)                                      ⎤\n",
       "⎢    0      ─────────         0                  0        ⎥\n",
       "⎢               2                                         ⎥\n",
       "⎢                                                         ⎥\n",
       "⎢-f(u, v)                                                 ⎥\n",
       "⎢─────────      0             0                  0        ⎥\n",
       "⎢    2                                                    ⎥\n",
       "⎢                                                         ⎥\n",
       "⎢                               p(u, v)                   ⎥\n",
       "⎢    0          0      G(u, v)⋅ℯ                 0        ⎥\n",
       "⎢                                                         ⎥\n",
       "⎢                                                 -p(u, v)⎥\n",
       "⎣    0          0             0          G(u, v)⋅ℯ        ⎦"
      ]
     },
     "execution_count": 13,
     "metadata": {},
     "output_type": "execute_result"
    }
   ],
   "source": [
    "m = sympy.Array(g)\n",
    "m"
   ]
  },
  {
   "cell_type": "code",
   "execution_count": 14,
   "id": "0297d7cd",
   "metadata": {},
   "outputs": [],
   "source": [
    "from einsteinpy.symbolic import *"
   ]
  },
  {
   "cell_type": "code",
   "execution_count": 15,
   "id": "571868c3",
   "metadata": {},
   "outputs": [],
   "source": [
    "syms = sympy.symbols(\"u v x y\"  , positive = True, real = True)\n",
    "u,v,x,y = syms"
   ]
  },
  {
   "cell_type": "code",
   "execution_count": 16,
   "id": "977aa492",
   "metadata": {},
   "outputs": [],
   "source": [
    "metric = MetricTensor(m,syms)"
   ]
  },
  {
   "cell_type": "code",
   "execution_count": 17,
   "id": "169dccc4",
   "metadata": {},
   "outputs": [
    {
     "data": {
      "text/latex": [
       "$\\displaystyle \\left[\\begin{matrix}\\left[\\begin{matrix}\\frac{\\frac{\\partial}{\\partial u} f{\\left(u,v \\right)}}{f{\\left(u,v \\right)}} & 0 & 0 & 0\\\\0 & 0 & 0 & 0\\\\0 & 0 & \\frac{\\left(G{\\left(u,v \\right)} \\frac{\\partial}{\\partial v} p{\\left(u,v \\right)} + \\frac{\\partial}{\\partial v} G{\\left(u,v \\right)}\\right) e^{p{\\left(u,v \\right)}}}{f{\\left(u,v \\right)}} & 0\\\\0 & 0 & 0 & \\frac{\\left(- G{\\left(u,v \\right)} \\frac{\\partial}{\\partial v} p{\\left(u,v \\right)} + \\frac{\\partial}{\\partial v} G{\\left(u,v \\right)}\\right) e^{- p{\\left(u,v \\right)}}}{f{\\left(u,v \\right)}}\\end{matrix}\\right] & \\left[\\begin{matrix}0 & 0 & 0 & 0\\\\0 & \\frac{\\frac{\\partial}{\\partial v} f{\\left(u,v \\right)}}{f{\\left(u,v \\right)}} & 0 & 0\\\\0 & 0 & \\frac{\\left(G{\\left(u,v \\right)} \\frac{\\partial}{\\partial u} p{\\left(u,v \\right)} + \\frac{\\partial}{\\partial u} G{\\left(u,v \\right)}\\right) e^{p{\\left(u,v \\right)}}}{f{\\left(u,v \\right)}} & 0\\\\0 & 0 & 0 & \\frac{\\left(- G{\\left(u,v \\right)} \\frac{\\partial}{\\partial u} p{\\left(u,v \\right)} + \\frac{\\partial}{\\partial u} G{\\left(u,v \\right)}\\right) e^{- p{\\left(u,v \\right)}}}{f{\\left(u,v \\right)}}\\end{matrix}\\right] & \\left[\\begin{matrix}0 & 0 & \\frac{\\frac{\\partial}{\\partial u} p{\\left(u,v \\right)}}{2} + \\frac{\\frac{\\partial}{\\partial u} G{\\left(u,v \\right)}}{2 G{\\left(u,v \\right)}} & 0\\\\0 & 0 & \\frac{\\frac{\\partial}{\\partial v} p{\\left(u,v \\right)}}{2} + \\frac{\\frac{\\partial}{\\partial v} G{\\left(u,v \\right)}}{2 G{\\left(u,v \\right)}} & 0\\\\\\frac{\\frac{\\partial}{\\partial u} p{\\left(u,v \\right)}}{2} + \\frac{\\frac{\\partial}{\\partial u} G{\\left(u,v \\right)}}{2 G{\\left(u,v \\right)}} & \\frac{\\frac{\\partial}{\\partial v} p{\\left(u,v \\right)}}{2} + \\frac{\\frac{\\partial}{\\partial v} G{\\left(u,v \\right)}}{2 G{\\left(u,v \\right)}} & 0 & 0\\\\0 & 0 & 0 & 0\\end{matrix}\\right] & \\left[\\begin{matrix}0 & 0 & 0 & - \\frac{\\frac{\\partial}{\\partial u} p{\\left(u,v \\right)}}{2} + \\frac{\\frac{\\partial}{\\partial u} G{\\left(u,v \\right)}}{2 G{\\left(u,v \\right)}}\\\\0 & 0 & 0 & - \\frac{\\frac{\\partial}{\\partial v} p{\\left(u,v \\right)}}{2} + \\frac{\\frac{\\partial}{\\partial v} G{\\left(u,v \\right)}}{2 G{\\left(u,v \\right)}}\\\\0 & 0 & 0 & 0\\\\- \\frac{\\frac{\\partial}{\\partial u} p{\\left(u,v \\right)}}{2} + \\frac{\\frac{\\partial}{\\partial u} G{\\left(u,v \\right)}}{2 G{\\left(u,v \\right)}} & - \\frac{\\frac{\\partial}{\\partial v} p{\\left(u,v \\right)}}{2} + \\frac{\\frac{\\partial}{\\partial v} G{\\left(u,v \\right)}}{2 G{\\left(u,v \\right)}} & 0 & 0\\end{matrix}\\right]\\end{matrix}\\right]$"
      ],
      "text/plain": [
       "⎡⎡∂                                                                                         \n",
       "⎢⎢──(f(u, v))                                                                               \n",
       "⎢⎢∂u                                                                                        \n",
       "⎢⎢───────────  0                       0                                               0    \n",
       "⎢⎢  f(u, v)                                                                                 \n",
       "⎢⎢                                                                                          \n",
       "⎢⎢     0       0                       0                                               0    \n",
       "⎢⎢                                                                                          \n",
       "⎢⎢                ⎛        ∂             ∂          ⎞  p(u, v)                              \n",
       "⎢⎢                ⎜G(u, v)⋅──(p(u, v)) + ──(G(u, v))⎟⋅ℯ                                     \n",
       "⎢⎢                ⎝        ∂v            ∂v         ⎠                                       \n",
       "⎢⎢     0       0  ────────────────────────────────────────────                         0    \n",
       "⎢⎢                                  f(u, v)                                                 \n",
       "⎢⎢                                                                                          \n",
       "⎢⎢                                                              ⎛          ∂             ∂  \n",
       "⎢⎢                                                              ⎜- G(u, v)⋅──(p(u, v)) + ──(\n",
       "⎢⎢                                                              ⎝          ∂v            ∂v \n",
       "⎢⎢     0       0                       0                        ────────────────────────────\n",
       "⎣⎣                                                                                  f(u, v) \n",
       "\n",
       "                   ⎤  ⎡0       0                            0                               \n",
       "                   ⎥  ⎢                                                                     \n",
       "                   ⎥  ⎢   ∂                                                                 \n",
       "                   ⎥  ⎢   ──(f(u, v))                                                       \n",
       "                   ⎥  ⎢   ∂v                                                                \n",
       "                   ⎥  ⎢0  ───────────                       0                               \n",
       "                   ⎥  ⎢     f(u, v)                                                         \n",
       "                   ⎥  ⎢                                                                     \n",
       "                   ⎥  ⎢                ⎛        ∂             ∂          ⎞  p(u, v)         \n",
       "                   ⎥  ⎢                ⎜G(u, v)⋅──(p(u, v)) + ──(G(u, v))⎟⋅ℯ                \n",
       "                   ⎥  ⎢                ⎝        ∂u            ∂u         ⎠                  \n",
       "                   ⎥  ⎢0       0       ────────────────────────────────────────────         \n",
       "                   ⎥  ⎢                                  f(u, v)                            \n",
       "                   ⎥  ⎢                                                                     \n",
       "        ⎞  -p(u, v)⎥  ⎢                                                              ⎛      \n",
       "G(u, v))⎟⋅ℯ        ⎥  ⎢                                                              ⎜- G(u,\n",
       "        ⎠          ⎥  ⎢                                                              ⎝      \n",
       "───────────────────⎥  ⎢0       0                            0                        ───────\n",
       "                   ⎦  ⎣                                                                     \n",
       "\n",
       "                0                       ⎤  ⎡                                                \n",
       "                                        ⎥  ⎢                                                \n",
       "                                        ⎥  ⎢                                                \n",
       "                                        ⎥  ⎢            0                          0        \n",
       "                                        ⎥  ⎢                                                \n",
       "                0                       ⎥  ⎢                                                \n",
       "                                        ⎥  ⎢                                                \n",
       "                                        ⎥  ⎢                                                \n",
       "                                        ⎥  ⎢                                                \n",
       "                                        ⎥  ⎢            0                          0        \n",
       "                                        ⎥  ⎢                                                \n",
       "                0                       ⎥  ⎢                                                \n",
       "                                        ⎥  ⎢∂             ∂            ∂             ∂      \n",
       "                                        ⎥  ⎢──(p(u, v))   ──(G(u, v))  ──(p(u, v))   ──(G(u,\n",
       "    ∂             ∂          ⎞  -p(u, v)⎥  ⎢∂u            ∂u           ∂v            ∂v     \n",
       " v)⋅──(p(u, v)) + ──(G(u, v))⎟⋅ℯ        ⎥  ⎢─────────── + ───────────  ─────────── + ───────\n",
       "    ∂u            ∂u         ⎠          ⎥  ⎢     2         2⋅G(u, v)        2         2⋅G(u,\n",
       "────────────────────────────────────────⎥  ⎢                                                \n",
       "             f(u, v)                    ⎦  ⎣            0                          0        \n",
       "\n",
       "      ∂             ∂             ⎤  ⎡                                                      \n",
       "      ──(p(u, v))   ──(G(u, v))   ⎥  ⎢                                                      \n",
       "      ∂u            ∂u            ⎥  ⎢                                                      \n",
       "      ─────────── + ───────────  0⎥  ⎢             0                            0           \n",
       "           2         2⋅G(u, v)    ⎥  ⎢                                                      \n",
       "                                  ⎥  ⎢                                                      \n",
       "      ∂             ∂             ⎥  ⎢                                                      \n",
       "      ──(p(u, v))   ──(G(u, v))   ⎥  ⎢                                                      \n",
       "      ∂v            ∂v            ⎥  ⎢                                                      \n",
       "      ─────────── + ───────────  0⎥  ⎢             0                            0           \n",
       "           2         2⋅G(u, v)    ⎥  ⎢                                                      \n",
       "                                  ⎥  ⎢                                                      \n",
       "                                  ⎥  ⎢             0                            0           \n",
       " v))                              ⎥  ⎢                                                      \n",
       "                                  ⎥  ⎢  ∂             ∂              ∂             ∂        \n",
       "────              0              0⎥  ⎢  ──(p(u, v))   ──(G(u, v))    ──(p(u, v))   ──(G(u, v\n",
       " v)                               ⎥  ⎢  ∂u            ∂u             ∂v            ∂v       \n",
       "                                  ⎥  ⎢- ─────────── + ───────────  - ─────────── + ─────────\n",
       "                  0              0⎦  ⎣       2         2⋅G(u, v)          2         2⋅G(u, v\n",
       "\n",
       "         ∂             ∂          ⎤⎤\n",
       "         ──(p(u, v))   ──(G(u, v))⎥⎥\n",
       "         ∂u            ∂u         ⎥⎥\n",
       "    0  - ─────────── + ───────────⎥⎥\n",
       "              2         2⋅G(u, v) ⎥⎥\n",
       "                                  ⎥⎥\n",
       "         ∂             ∂          ⎥⎥\n",
       "         ──(p(u, v))   ──(G(u, v))⎥⎥\n",
       "         ∂v            ∂v         ⎥⎥\n",
       "    0  - ─────────── + ───────────⎥⎥\n",
       "              2         2⋅G(u, v) ⎥⎥\n",
       "                                  ⎥⎥\n",
       "    0               0             ⎥⎥\n",
       "                                  ⎥⎥\n",
       "                                  ⎥⎥\n",
       "))                                ⎥⎥\n",
       "                                  ⎥⎥\n",
       "──  0               0             ⎥⎥\n",
       ")                                 ⎦⎦"
      ]
     },
     "execution_count": 17,
     "metadata": {},
     "output_type": "execute_result"
    }
   ],
   "source": [
    "ch = ChristoffelSymbols.from_metric(metric)\n",
    "simplify(ch.tensor())"
   ]
  },
  {
   "cell_type": "code",
   "execution_count": 18,
   "id": "f3d998f1",
   "metadata": {},
   "outputs": [
    {
     "data": {
      "text/latex": [
       "$\\displaystyle \\left[\\begin{matrix}- \\frac{\\left(\\frac{\\partial}{\\partial u} p{\\left(u,v \\right)}\\right)^{2}}{2} - \\frac{\\frac{\\partial^{2}}{\\partial u^{2}} G{\\left(u,v \\right)}}{G{\\left(u,v \\right)}} + \\frac{\\frac{\\partial}{\\partial u} G{\\left(u,v \\right)} \\frac{\\partial}{\\partial u} f{\\left(u,v \\right)}}{G{\\left(u,v \\right)} f{\\left(u,v \\right)}} + \\frac{\\left(\\frac{\\partial}{\\partial u} G{\\left(u,v \\right)}\\right)^{2}}{2 G^{2}{\\left(u,v \\right)}} & - \\frac{\\frac{\\partial}{\\partial u} p{\\left(u,v \\right)} \\frac{\\partial}{\\partial v} p{\\left(u,v \\right)}}{2} - \\frac{\\frac{\\partial^{2}}{\\partial v\\partial u} f{\\left(u,v \\right)}}{f{\\left(u,v \\right)}} + \\frac{\\frac{\\partial}{\\partial u} f{\\left(u,v \\right)} \\frac{\\partial}{\\partial v} f{\\left(u,v \\right)}}{f^{2}{\\left(u,v \\right)}} - \\frac{\\frac{\\partial^{2}}{\\partial v\\partial u} G{\\left(u,v \\right)}}{G{\\left(u,v \\right)}} + \\frac{\\frac{\\partial}{\\partial u} G{\\left(u,v \\right)} \\frac{\\partial}{\\partial v} G{\\left(u,v \\right)}}{2 G^{2}{\\left(u,v \\right)}} & 0 & 0\\\\- \\frac{\\frac{\\partial}{\\partial u} p{\\left(u,v \\right)} \\frac{\\partial}{\\partial v} p{\\left(u,v \\right)}}{2} - \\frac{\\frac{\\partial^{2}}{\\partial v\\partial u} f{\\left(u,v \\right)}}{f{\\left(u,v \\right)}} + \\frac{\\frac{\\partial}{\\partial u} f{\\left(u,v \\right)} \\frac{\\partial}{\\partial v} f{\\left(u,v \\right)}}{f^{2}{\\left(u,v \\right)}} - \\frac{\\frac{\\partial^{2}}{\\partial v\\partial u} G{\\left(u,v \\right)}}{G{\\left(u,v \\right)}} + \\frac{\\frac{\\partial}{\\partial u} G{\\left(u,v \\right)} \\frac{\\partial}{\\partial v} G{\\left(u,v \\right)}}{2 G^{2}{\\left(u,v \\right)}} & - \\frac{\\left(\\frac{\\partial}{\\partial v} p{\\left(u,v \\right)}\\right)^{2}}{2} - \\frac{\\frac{\\partial^{2}}{\\partial v^{2}} G{\\left(u,v \\right)}}{G{\\left(u,v \\right)}} + \\frac{\\frac{\\partial}{\\partial v} G{\\left(u,v \\right)} \\frac{\\partial}{\\partial v} f{\\left(u,v \\right)}}{G{\\left(u,v \\right)} f{\\left(u,v \\right)}} + \\frac{\\left(\\frac{\\partial}{\\partial v} G{\\left(u,v \\right)}\\right)^{2}}{2 G^{2}{\\left(u,v \\right)}} & 0 & 0\\\\0 & 0 & \\frac{\\left(2 G{\\left(u,v \\right)} \\frac{\\partial^{2}}{\\partial v\\partial u} p{\\left(u,v \\right)} + \\frac{\\partial}{\\partial u} G{\\left(u,v \\right)} \\frac{\\partial}{\\partial v} p{\\left(u,v \\right)} + \\frac{\\partial}{\\partial v} G{\\left(u,v \\right)} \\frac{\\partial}{\\partial u} p{\\left(u,v \\right)} + 2 \\frac{\\partial^{2}}{\\partial v\\partial u} G{\\left(u,v \\right)}\\right) e^{p{\\left(u,v \\right)}}}{f{\\left(u,v \\right)}} & 0\\\\0 & 0 & 0 & \\frac{\\left(- 2 G{\\left(u,v \\right)} \\frac{\\partial^{2}}{\\partial v\\partial u} p{\\left(u,v \\right)} - \\frac{\\partial}{\\partial u} G{\\left(u,v \\right)} \\frac{\\partial}{\\partial v} p{\\left(u,v \\right)} - \\frac{\\partial}{\\partial v} G{\\left(u,v \\right)} \\frac{\\partial}{\\partial u} p{\\left(u,v \\right)} + 2 \\frac{\\partial^{2}}{\\partial v\\partial u} G{\\left(u,v \\right)}\\right) e^{- p{\\left(u,v \\right)}}}{f{\\left(u,v \\right)}}\\end{matrix}\\right]$"
      ],
      "text/plain": [
       "⎡                                       2                                                   \n",
       "⎢                                 2    ∂                                                    \n",
       "⎢                    ⎛∂          ⎞    ───(G(u, v))   ∂           ∂             ⎛∂          ⎞\n",
       "⎢                    ⎜──(p(u, v))⎟      2            ──(G(u, v))⋅──(f(u, v))   ⎜──(G(u, v))⎟\n",
       "⎢                    ⎝∂u         ⎠    ∂u             ∂u          ∂u            ⎝∂u         ⎠\n",
       "⎢                  - ────────────── - ──────────── + ─────────────────────── + ─────────────\n",
       "⎢                          2            G(u, v)          G(u, v)⋅f(u, v)            2       \n",
       "⎢                                                                                2⋅G (u, v) \n",
       "⎢                                                                                           \n",
       "⎢                                                                                           \n",
       "⎢                               2                                          2                \n",
       "⎢  ∂           ∂               ∂              ∂           ∂               ∂              ∂  \n",
       "⎢  ──(p(u, v))⋅──(p(u, v))   ─────(f(u, v))   ──(f(u, v))⋅──(f(u, v))   ─────(G(u, v))   ──(\n",
       "⎢  ∂u          ∂v            ∂v ∂u            ∂u          ∂v            ∂v ∂u            ∂u \n",
       "⎢- ─────────────────────── - ────────────── + ─────────────────────── - ────────────── + ───\n",
       "⎢             2                 f(u, v)                2                   G(u, v)          \n",
       "⎢                                                     f (u, v)                              \n",
       "⎢                                                                                           \n",
       "⎢                                                                                           \n",
       "⎢                                                                                           \n",
       "⎢                                                                                           \n",
       "⎢                                                                                           \n",
       "⎢                                                       0                                   \n",
       "⎢                                                                                           \n",
       "⎢                                                                                           \n",
       "⎢                                                                                           \n",
       "⎢                                                                                           \n",
       "⎢                                                                                           \n",
       "⎢                                                                                           \n",
       "⎢                                                       0                                   \n",
       "⎣                                                                                           \n",
       "\n",
       "                                                                                            \n",
       "2                                                    2                                      \n",
       "                        ∂           ∂               ∂              ∂           ∂            \n",
       "                        ──(p(u, v))⋅──(p(u, v))   ─────(f(u, v))   ──(f(u, v))⋅──(f(u, v))  \n",
       "                        ∂u          ∂v            ∂v ∂u            ∂u          ∂v           \n",
       "─                     - ─────────────────────── - ────────────── + ─────────────────────── -\n",
       "                                   2                 f(u, v)                2               \n",
       "                                                                           f (u, v)         \n",
       "                                                                                            \n",
       "                                                             2                              \n",
       "                                                       2    ∂                               \n",
       "         ∂                                ⎛∂          ⎞    ───(G(u, v))   ∂           ∂     \n",
       "G(u, v))⋅──(G(u, v))                      ⎜──(p(u, v))⎟      2            ──(G(u, v))⋅──(f(u\n",
       "         ∂v                               ⎝∂v         ⎠    ∂v             ∂v          ∂v    \n",
       "────────────────────                    - ────────────── - ──────────── + ──────────────────\n",
       "       2                                        2            G(u, v)          G(u, v)⋅f(u, v\n",
       "    2⋅G (u, v)                                                                              \n",
       "                                                                                            \n",
       "                                                                                            \n",
       "                                                                                            \n",
       "                                                                                            \n",
       "                                                                                            \n",
       "                                                                             0              \n",
       "                                                                                            \n",
       "                                                                                            \n",
       "                                                                                            \n",
       "                                                                                            \n",
       "                                                                                            \n",
       "                                                                                            \n",
       "                                                                             0              \n",
       "                                                                                            \n",
       "\n",
       "                                                                                            \n",
       "    2                                                                                       \n",
       "   ∂              ∂           ∂                                                             \n",
       " ─────(G(u, v))   ──(G(u, v))⋅──(G(u, v))                                                   \n",
       " ∂v ∂u            ∂u          ∂v                                                            \n",
       " ────────────── + ───────────────────────                                                   \n",
       "    G(u, v)                 2                                                               \n",
       "                         2⋅G (u, v)                                                         \n",
       "                                                                                            \n",
       "                                                                                            \n",
       "                     2                                                                      \n",
       "        ⎛∂          ⎞                                                                       \n",
       ", v))   ⎜──(G(u, v))⎟                                                                       \n",
       "        ⎝∂v         ⎠                                                                       \n",
       "───── + ──────────────                                                                      \n",
       ")            2                                                                              \n",
       "          2⋅G (u, v)                                                                        \n",
       "                                                                                            \n",
       "                                           ⎛             2                                  \n",
       "                                           ⎜            ∂              ∂           ∂        \n",
       "                                           ⎜2⋅G(u, v)⋅─────(p(u, v)) + ──(G(u, v))⋅──(p(u, v\n",
       "                                           ⎝          ∂v ∂u            ∂u          ∂v       \n",
       "                                           ─────────────────────────────────────────────────\n",
       "                                                                                            \n",
       "                                                                                            \n",
       "                                                                                            \n",
       "                                                                                            \n",
       "                                                                                            \n",
       "                                                                                            \n",
       "                                                                                            \n",
       "                                                                                            \n",
       "\n",
       "                                                                                            \n",
       "                                                                                            \n",
       "                                                                                            \n",
       "                                                                                            \n",
       "                                                                                            \n",
       "   0                                                                                        \n",
       "                                                                                            \n",
       "                                                                                            \n",
       "                                                                                            \n",
       "                                                                                            \n",
       "                                                                                            \n",
       "                                                                                            \n",
       "                                                                                            \n",
       "                                                                                            \n",
       "   0                                                                                        \n",
       "                                                                                            \n",
       "                                                                                            \n",
       "                                                                                            \n",
       "                                    2          ⎞                                            \n",
       "     ∂           ∂                 ∂           ⎟  p(u, v)                                   \n",
       ")) + ──(G(u, v))⋅──(p(u, v)) + 2⋅─────(G(u, v))⎟⋅ℯ                                          \n",
       "     ∂v          ∂u              ∂v ∂u         ⎠                                            \n",
       "─────────────────────────────────────────────────────────                                   \n",
       "f(u, v)                                                                                     \n",
       "                                                                                            \n",
       "                                                           ⎛               2                \n",
       "                                                           ⎜              ∂              ∂  \n",
       "                                                           ⎜- 2⋅G(u, v)⋅─────(p(u, v)) - ──(\n",
       "                                                           ⎝            ∂v ∂u            ∂u \n",
       "   0                                                       ─────────────────────────────────\n",
       "                                                                                            \n",
       "\n",
       "                                                                            ⎤\n",
       "                                                                            ⎥\n",
       "                                                                            ⎥\n",
       "                                                                            ⎥\n",
       "                                                                            ⎥\n",
       "                     0                                                      ⎥\n",
       "                                                                            ⎥\n",
       "                                                                            ⎥\n",
       "                                                                            ⎥\n",
       "                                                                            ⎥\n",
       "                                                                            ⎥\n",
       "                                                                            ⎥\n",
       "                                                                            ⎥\n",
       "                                                                            ⎥\n",
       "                     0                                                      ⎥\n",
       "                                                                            ⎥\n",
       "                                                                            ⎥\n",
       "                                                                            ⎥\n",
       "                                                                            ⎥\n",
       "                                                                            ⎥\n",
       "                                                                            ⎥\n",
       "                                                                            ⎥\n",
       "                     0                                                      ⎥\n",
       "                                                                            ⎥\n",
       "                                                                            ⎥\n",
       "                                                      2          ⎞          ⎥\n",
       "         ∂             ∂           ∂                 ∂           ⎟  -p(u, v)⎥\n",
       "G(u, v))⋅──(p(u, v)) - ──(G(u, v))⋅──(p(u, v)) + 2⋅─────(G(u, v))⎟⋅ℯ        ⎥\n",
       "         ∂v            ∂v          ∂u              ∂v ∂u         ⎠          ⎥\n",
       "────────────────────────────────────────────────────────────────────────────⎥\n",
       "                  f(u, v)                                                   ⎦"
      ]
     },
     "execution_count": 18,
     "metadata": {},
     "output_type": "execute_result"
    }
   ],
   "source": [
    "Ric = RicciTensor.from_metric(metric)\n",
    "Ric.tensor()"
   ]
  },
  {
   "cell_type": "code",
   "execution_count": 19,
   "id": "72c4389b",
   "metadata": {},
   "outputs": [
    {
     "data": {
      "image/png": "[encoded data removed]",
      "text/latex": [
       "$\\displaystyle \\frac{2 \\frac{\\partial}{\\partial u} p{\\left(u,v \\right)} \\frac{\\partial}{\\partial v} p{\\left(u,v \\right)}}{f{\\left(u,v \\right)}} + \\frac{4 \\frac{\\partial^{2}}{\\partial v\\partial u} f{\\left(u,v \\right)}}{f^{2}{\\left(u,v \\right)}} - \\frac{4 \\frac{\\partial}{\\partial u} f{\\left(u,v \\right)} \\frac{\\partial}{\\partial v} f{\\left(u,v \\right)}}{f^{3}{\\left(u,v \\right)}} + \\frac{8 \\frac{\\partial^{2}}{\\partial v\\partial u} G{\\left(u,v \\right)}}{G{\\left(u,v \\right)} f{\\left(u,v \\right)}} - \\frac{2 \\frac{\\partial}{\\partial u} G{\\left(u,v \\right)} \\frac{\\partial}{\\partial v} G{\\left(u,v \\right)}}{G^{2}{\\left(u,v \\right)} f{\\left(u,v \\right)}}$"
      ],
      "text/plain": [
       "                                 2                                              2           \n",
       "  ∂           ∂                 ∂                ∂           ∂                 ∂            \n",
       "2⋅──(p(u, v))⋅──(p(u, v))   4⋅─────(f(u, v))   4⋅──(f(u, v))⋅──(f(u, v))   8⋅─────(G(u, v)) \n",
       "  ∂u          ∂v              ∂v ∂u              ∂u          ∂v              ∂v ∂u          \n",
       "───────────────────────── + ──────────────── - ───────────────────────── + ──────────────── \n",
       "         f(u, v)                 2                       3                 G(u, v)⋅f(u, v)  \n",
       "                                f (u, v)                f (u, v)                            \n",
       "\n",
       "                           \n",
       "    ∂           ∂          \n",
       "  2⋅──(G(u, v))⋅──(G(u, v))\n",
       "    ∂u          ∂v         \n",
       "- ─────────────────────────\n",
       "        2                  \n",
       "       G (u, v)⋅f(u, v)    "
      ]
     },
     "execution_count": 19,
     "metadata": {},
     "output_type": "execute_result"
    }
   ],
   "source": [
    "R = RicciScalar.from_riccitensor(Ric)\n",
    "R.simplify()\n",
    "R.expr"
   ]
  },
  {
   "cell_type": "code",
   "execution_count": 20,
   "id": "b9af3223",
   "metadata": {},
   "outputs": [
    {
     "data": {
      "text/latex": [
       "$\\displaystyle \\left[\\begin{matrix}- \\frac{\\left(\\frac{\\partial}{\\partial u} p{\\left(u,v \\right)}\\right)^{2}}{2} - \\frac{\\frac{\\partial^{2}}{\\partial u^{2}} G{\\left(u,v \\right)}}{G{\\left(u,v \\right)}} + \\frac{\\frac{\\partial}{\\partial u} G{\\left(u,v \\right)} \\frac{\\partial}{\\partial u} f{\\left(u,v \\right)}}{G{\\left(u,v \\right)} f{\\left(u,v \\right)}} + \\frac{\\left(\\frac{\\partial}{\\partial u} G{\\left(u,v \\right)}\\right)^{2}}{2 G^{2}{\\left(u,v \\right)}} & 0.25 \\left(\\frac{2 \\frac{\\partial}{\\partial u} p{\\left(u,v \\right)} \\frac{\\partial}{\\partial v} p{\\left(u,v \\right)}}{f{\\left(u,v \\right)}} + \\frac{4 \\frac{\\partial^{2}}{\\partial v\\partial u} f{\\left(u,v \\right)}}{f^{2}{\\left(u,v \\right)}} - \\frac{4 \\frac{\\partial}{\\partial u} f{\\left(u,v \\right)} \\frac{\\partial}{\\partial v} f{\\left(u,v \\right)}}{f^{3}{\\left(u,v \\right)}} + \\frac{8 \\frac{\\partial^{2}}{\\partial v\\partial u} G{\\left(u,v \\right)}}{G{\\left(u,v \\right)} f{\\left(u,v \\right)}} - \\frac{2 \\frac{\\partial}{\\partial u} G{\\left(u,v \\right)} \\frac{\\partial}{\\partial v} G{\\left(u,v \\right)}}{G^{2}{\\left(u,v \\right)} f{\\left(u,v \\right)}}\\right) f{\\left(u,v \\right)} - \\frac{\\frac{\\partial}{\\partial u} p{\\left(u,v \\right)} \\frac{\\partial}{\\partial v} p{\\left(u,v \\right)}}{2} - \\frac{\\frac{\\partial^{2}}{\\partial v\\partial u} f{\\left(u,v \\right)}}{f{\\left(u,v \\right)}} + \\frac{\\frac{\\partial}{\\partial u} f{\\left(u,v \\right)} \\frac{\\partial}{\\partial v} f{\\left(u,v \\right)}}{f^{2}{\\left(u,v \\right)}} - \\frac{\\frac{\\partial^{2}}{\\partial v\\partial u} G{\\left(u,v \\right)}}{G{\\left(u,v \\right)}} + \\frac{\\frac{\\partial}{\\partial u} G{\\left(u,v \\right)} \\frac{\\partial}{\\partial v} G{\\left(u,v \\right)}}{2 G^{2}{\\left(u,v \\right)}} & 0 & 0\\\\0.25 \\left(\\frac{2 \\frac{\\partial}{\\partial u} p{\\left(u,v \\right)} \\frac{\\partial}{\\partial v} p{\\left(u,v \\right)}}{f{\\left(u,v \\right)}} + \\frac{4 \\frac{\\partial^{2}}{\\partial v\\partial u} f{\\left(u,v \\right)}}{f^{2}{\\left(u,v \\right)}} - \\frac{4 \\frac{\\partial}{\\partial u} f{\\left(u,v \\right)} \\frac{\\partial}{\\partial v} f{\\left(u,v \\right)}}{f^{3}{\\left(u,v \\right)}} + \\frac{8 \\frac{\\partial^{2}}{\\partial v\\partial u} G{\\left(u,v \\right)}}{G{\\left(u,v \\right)} f{\\left(u,v \\right)}} - \\frac{2 \\frac{\\partial}{\\partial u} G{\\left(u,v \\right)} \\frac{\\partial}{\\partial v} G{\\left(u,v \\right)}}{G^{2}{\\left(u,v \\right)} f{\\left(u,v \\right)}}\\right) f{\\left(u,v \\right)} - \\frac{\\frac{\\partial}{\\partial u} p{\\left(u,v \\right)} \\frac{\\partial}{\\partial v} p{\\left(u,v \\right)}}{2} - \\frac{\\frac{\\partial^{2}}{\\partial v\\partial u} f{\\left(u,v \\right)}}{f{\\left(u,v \\right)}} + \\frac{\\frac{\\partial}{\\partial u} f{\\left(u,v \\right)} \\frac{\\partial}{\\partial v} f{\\left(u,v \\right)}}{f^{2}{\\left(u,v \\right)}} - \\frac{\\frac{\\partial^{2}}{\\partial v\\partial u} G{\\left(u,v \\right)}}{G{\\left(u,v \\right)}} + \\frac{\\frac{\\partial}{\\partial u} G{\\left(u,v \\right)} \\frac{\\partial}{\\partial v} G{\\left(u,v \\right)}}{2 G^{2}{\\left(u,v \\right)}} & - \\frac{\\left(\\frac{\\partial}{\\partial v} p{\\left(u,v \\right)}\\right)^{2}}{2} - \\frac{\\frac{\\partial^{2}}{\\partial v^{2}} G{\\left(u,v \\right)}}{G{\\left(u,v \\right)}} + \\frac{\\frac{\\partial}{\\partial v} G{\\left(u,v \\right)} \\frac{\\partial}{\\partial v} f{\\left(u,v \\right)}}{G{\\left(u,v \\right)} f{\\left(u,v \\right)}} + \\frac{\\left(\\frac{\\partial}{\\partial v} G{\\left(u,v \\right)}\\right)^{2}}{2 G^{2}{\\left(u,v \\right)}} & 0 & 0\\\\0 & 0 & \\frac{\\left(2 G{\\left(u,v \\right)} \\frac{\\partial^{2}}{\\partial v\\partial u} p{\\left(u,v \\right)} + \\frac{\\partial}{\\partial u} G{\\left(u,v \\right)} \\frac{\\partial}{\\partial v} p{\\left(u,v \\right)} + \\frac{\\partial}{\\partial v} G{\\left(u,v \\right)} \\frac{\\partial}{\\partial u} p{\\left(u,v \\right)} + 2 \\frac{\\partial^{2}}{\\partial v\\partial u} G{\\left(u,v \\right)}\\right) e^{p{\\left(u,v \\right)}}}{f{\\left(u,v \\right)}} - 0.5 \\left(\\frac{2 \\frac{\\partial}{\\partial u} p{\\left(u,v \\right)} \\frac{\\partial}{\\partial v} p{\\left(u,v \\right)}}{f{\\left(u,v \\right)}} + \\frac{4 \\frac{\\partial^{2}}{\\partial v\\partial u} f{\\left(u,v \\right)}}{f^{2}{\\left(u,v \\right)}} - \\frac{4 \\frac{\\partial}{\\partial u} f{\\left(u,v \\right)} \\frac{\\partial}{\\partial v} f{\\left(u,v \\right)}}{f^{3}{\\left(u,v \\right)}} + \\frac{8 \\frac{\\partial^{2}}{\\partial v\\partial u} G{\\left(u,v \\right)}}{G{\\left(u,v \\right)} f{\\left(u,v \\right)}} - \\frac{2 \\frac{\\partial}{\\partial u} G{\\left(u,v \\right)} \\frac{\\partial}{\\partial v} G{\\left(u,v \\right)}}{G^{2}{\\left(u,v \\right)} f{\\left(u,v \\right)}}\\right) G{\\left(u,v \\right)} e^{p{\\left(u,v \\right)}} & 0\\\\0 & 0 & 0 & \\frac{\\left(- 2 G{\\left(u,v \\right)} \\frac{\\partial^{2}}{\\partial v\\partial u} p{\\left(u,v \\right)} - \\frac{\\partial}{\\partial u} G{\\left(u,v \\right)} \\frac{\\partial}{\\partial v} p{\\left(u,v \\right)} - \\frac{\\partial}{\\partial v} G{\\left(u,v \\right)} \\frac{\\partial}{\\partial u} p{\\left(u,v \\right)} + 2 \\frac{\\partial^{2}}{\\partial v\\partial u} G{\\left(u,v \\right)}\\right) e^{- p{\\left(u,v \\right)}}}{f{\\left(u,v \\right)}} - 0.5 \\left(\\frac{2 \\frac{\\partial}{\\partial u} p{\\left(u,v \\right)} \\frac{\\partial}{\\partial v} p{\\left(u,v \\right)}}{f{\\left(u,v \\right)}} + \\frac{4 \\frac{\\partial^{2}}{\\partial v\\partial u} f{\\left(u,v \\right)}}{f^{2}{\\left(u,v \\right)}} - \\frac{4 \\frac{\\partial}{\\partial u} f{\\left(u,v \\right)} \\frac{\\partial}{\\partial v} f{\\left(u,v \\right)}}{f^{3}{\\left(u,v \\right)}} + \\frac{8 \\frac{\\partial^{2}}{\\partial v\\partial u} G{\\left(u,v \\right)}}{G{\\left(u,v \\right)} f{\\left(u,v \\right)}} - \\frac{2 \\frac{\\partial}{\\partial u} G{\\left(u,v \\right)} \\frac{\\partial}{\\partial v} G{\\left(u,v \\right)}}{G^{2}{\\left(u,v \\right)} f{\\left(u,v \\right)}}\\right) G{\\left(u,v \\right)} e^{- p{\\left(u,v \\right)}}\\end{matrix}\\right]$"
      ],
      "text/plain": [
       "⎡                                                                                           \n",
       "⎢                                                                                           \n",
       "⎢                                                                                        ⎛∂ \n",
       "⎢                                                                                        ⎜──\n",
       "⎢                                                                                        ⎝∂u\n",
       "⎢                                                                                      - ───\n",
       "⎢                                                                                           \n",
       "⎢                                                                                           \n",
       "⎢                                                                                           \n",
       "⎢                                                                                           \n",
       "⎢     ⎛                                 2                                              2    \n",
       "⎢     ⎜  ∂           ∂                 ∂                ∂           ∂                 ∂     \n",
       "⎢     ⎜2⋅──(p(u, v))⋅──(p(u, v))   4⋅─────(f(u, v))   4⋅──(f(u, v))⋅──(f(u, v))   8⋅─────(G(\n",
       "⎢     ⎜  ∂u          ∂v              ∂v ∂u              ∂u          ∂v              ∂v ∂u   \n",
       "⎢0.25⋅⎜───────────────────────── + ──────────────── - ───────────────────────── + ──────────\n",
       "⎢     ⎜         f(u, v)                 2                       3                 G(u, v)⋅f(\n",
       "⎢     ⎝                                f (u, v)                f (u, v)                     \n",
       "⎢                                                                                           \n",
       "⎢                                                                                           \n",
       "⎢                                                                                           \n",
       "⎢                                                                                           \n",
       "⎢                                                                                           \n",
       "⎢                                                                                           \n",
       "⎢                                                                                           \n",
       "⎢                                                                                           \n",
       "⎢                                                                                           \n",
       "⎢                                                                                           \n",
       "⎢                                                                                           \n",
       "⎢                                                                                           \n",
       "⎢                                                                                           \n",
       "⎢                                                                                           \n",
       "⎢                                                                                           \n",
       "⎣                                                                                           \n",
       "\n",
       "                2                                                                           \n",
       "          2    ∂                                                    2                       \n",
       "         ⎞    ───(G(u, v))   ∂           ∂             ⎛∂          ⎞                        \n",
       "(p(u, v))⎟      2            ──(G(u, v))⋅──(f(u, v))   ⎜──(G(u, v))⎟                        \n",
       "         ⎠    ∂u             ∂u          ∂u            ⎝∂u         ⎠                        \n",
       "─────────── - ──────────── + ─────────────────────── + ──────────────                       \n",
       "   2            G(u, v)          G(u, v)⋅f(u, v)            2                               \n",
       "                                                         2⋅G (u, v)                         \n",
       "                                                                                            \n",
       "                                                                                            \n",
       "                                  ⎞                                        2                \n",
       "           ∂           ∂          ⎟           ∂           ∂               ∂              ∂  \n",
       "u, v))   2⋅──(G(u, v))⋅──(G(u, v))⎟           ──(p(u, v))⋅──(p(u, v))   ─────(f(u, v))   ──(\n",
       "           ∂u          ∂v         ⎟           ∂u          ∂v            ∂v ∂u            ∂u \n",
       "────── - ─────────────────────────⎟⋅f(u, v) - ─────────────────────── - ────────────── + ───\n",
       "u, v)          2                  ⎟                      2                 f(u, v)          \n",
       "              G (u, v)⋅f(u, v)    ⎠                                                         \n",
       "                                                                                            \n",
       "                                                                                            \n",
       "                                                                                            \n",
       "                                                                                            \n",
       "                                                                                            \n",
       "                               0                                                            \n",
       "                                                                                            \n",
       "                                                                                            \n",
       "                                                                                            \n",
       "                                                                                            \n",
       "                                                                                            \n",
       "                                                                                            \n",
       "                                                                                            \n",
       "                               0                                                            \n",
       "                                                                                            \n",
       "                                                                                            \n",
       "\n",
       "                                                                                            \n",
       "                                                                      ⎛                     \n",
       "                                                                      ⎜  ∂           ∂      \n",
       "                                                                      ⎜2⋅──(p(u, v))⋅──(p(u,\n",
       "                                                                      ⎜  ∂u          ∂v     \n",
       "                                                                 0.25⋅⎜─────────────────────\n",
       "                                                                      ⎜         f(u, v)     \n",
       "                                                                      ⎝                     \n",
       "                                                                                            \n",
       "                                                                                            \n",
       "                          2                                                                 \n",
       "         ∂               ∂              ∂           ∂                                       \n",
       "f(u, v))⋅──(f(u, v))   ─────(G(u, v))   ──(G(u, v))⋅──(G(u, v))                             \n",
       "         ∂v            ∂v ∂u            ∂u          ∂v                                      \n",
       "──────────────────── - ────────────── + ───────────────────────                             \n",
       "      2                   G(u, v)                 2                                         \n",
       "     f (u, v)                                  2⋅G (u, v)                                   \n",
       "                                                                                            \n",
       "                                                                                            \n",
       "                                                                                            \n",
       "                                                                                            \n",
       "                                                                                            \n",
       "                                                                                            \n",
       "                                                                                            \n",
       "                                                                                            \n",
       "                                                                                            \n",
       "                                                                                            \n",
       "                                                                                            \n",
       "                                                                                            \n",
       "                                                                                            \n",
       "                                                                                            \n",
       "                                                                                            \n",
       "                                                                                            \n",
       "\n",
       "                                                                                            \n",
       "            2                                              2                                \n",
       "           ∂                ∂           ∂                 ∂                ∂           ∂    \n",
       " v))   4⋅─────(f(u, v))   4⋅──(f(u, v))⋅──(f(u, v))   8⋅─────(G(u, v))   2⋅──(G(u, v))⋅──(G(\n",
       "         ∂v ∂u              ∂u          ∂v              ∂v ∂u              ∂u          ∂v   \n",
       "──── + ──────────────── - ───────────────────────── + ──────────────── - ───────────────────\n",
       "            2                       3                 G(u, v)⋅f(u, v)          2            \n",
       "           f (u, v)                f (u, v)                                   G (u, v)⋅f(u, \n",
       "                                                                                            \n",
       "                                                                                2           \n",
       "                                                                          2    ∂            \n",
       "                                                             ⎛∂          ⎞    ───(G(u, v))  \n",
       "                                                             ⎜──(p(u, v))⎟      2           \n",
       "                                                             ⎝∂v         ⎠    ∂v            \n",
       "                                                           - ────────────── - ──────────── +\n",
       "                                                                   2            G(u, v)     \n",
       "                                                                                            \n",
       "                                                                                            \n",
       "                                                                                            \n",
       "                                                                                            \n",
       "                                                                                            \n",
       "                                                                                            \n",
       "                                                                                            \n",
       "                                                                                            \n",
       "                                                                                            \n",
       "                                                                                            \n",
       "                                                                                            \n",
       "                                                                                            \n",
       "                                                                                            \n",
       "                                                                                            \n",
       "                                                                                            \n",
       "                                                                                            \n",
       "                                                                                            \n",
       "\n",
       "                                                                                            \n",
       "      ⎞                                        2                                          2 \n",
       "      ⎟           ∂           ∂               ∂              ∂           ∂               ∂  \n",
       "u, v))⎟           ──(p(u, v))⋅──(p(u, v))   ─────(f(u, v))   ──(f(u, v))⋅──(f(u, v))   ─────\n",
       "      ⎟           ∂u          ∂v            ∂v ∂u            ∂u          ∂v            ∂v ∂u\n",
       "──────⎟⋅f(u, v) - ─────────────────────── - ────────────── + ─────────────────────── - ─────\n",
       "      ⎟                      2                 f(u, v)                2                   G(\n",
       "v)    ⎠                                                              f (u, v)               \n",
       "                                                                                            \n",
       "                                                                                            \n",
       "                                        2                                                   \n",
       " ∂           ∂             ⎛∂          ⎞                                                    \n",
       " ──(G(u, v))⋅──(f(u, v))   ⎜──(G(u, v))⎟                                                    \n",
       " ∂v          ∂v            ⎝∂v         ⎠                                                    \n",
       " ─────────────────────── + ──────────────                                                   \n",
       "     G(u, v)⋅f(u, v)            2                                                           \n",
       "                             2⋅G (u, v)                                                     \n",
       "                                                                                            \n",
       "                                                                                            \n",
       "                                                                                            \n",
       "                                                                                            \n",
       "                                                                                            \n",
       "   0                                                                                        \n",
       "                                                                                            \n",
       "                                                                                            \n",
       "                                                                                            \n",
       "                                                                                            \n",
       "                                                                                            \n",
       "                                                                                            \n",
       "                                                                                            \n",
       "   0                                                                                        \n",
       "                                                                                            \n",
       "                                                                                            \n",
       "\n",
       "                                                                                            \n",
       "                                                                                            \n",
       "            ∂           ∂                                                                   \n",
       "(G(u, v))   ──(G(u, v))⋅──(G(u, v))                                                         \n",
       "            ∂u          ∂v                                                                  \n",
       "───────── + ───────────────────────                                                         \n",
       "u, v)                 2                                                                     \n",
       "                   2⋅G (u, v)                                                               \n",
       "                                                                                            \n",
       "                                                                                            \n",
       "                                                                                            \n",
       "                                                                                            \n",
       "                                                                                            \n",
       "                                                                                            \n",
       "                                                                                            \n",
       "                                                                                            \n",
       "                                                                                            \n",
       "                                                                                            \n",
       "                                     ⎛             2                                        \n",
       "                                     ⎜            ∂              ∂           ∂             ∂\n",
       "                                     ⎜2⋅G(u, v)⋅─────(p(u, v)) + ──(G(u, v))⋅──(p(u, v)) + ─\n",
       "                                     ⎝          ∂v ∂u            ∂u          ∂v            ∂\n",
       "                                     ───────────────────────────────────────────────────────\n",
       "                                                                                      f(u, v\n",
       "                                                                                            \n",
       "                                                                                            \n",
       "                                                                                            \n",
       "                                                                                            \n",
       "                                                                                            \n",
       "                                                                                            \n",
       "                                                                                            \n",
       "                                                                                            \n",
       "                                                                                            \n",
       "\n",
       "                                                                                            \n",
       "                                                                                            \n",
       "                                                                                            \n",
       "                                                                                            \n",
       "                                                                                            \n",
       "                                                                      0                     \n",
       "                                                                                            \n",
       "                                                                                            \n",
       "                                                                                            \n",
       "                                                                                            \n",
       "                                                                                            \n",
       "                                                                                            \n",
       "                                                                                            \n",
       "                                                                                            \n",
       "                                                                      0                     \n",
       "                                                                                            \n",
       "                                                                                            \n",
       "                                                                                            \n",
       "                              2          ⎞                ⎛                                 \n",
       "           ∂                 ∂           ⎟  p(u, v)       ⎜  ∂           ∂                 ∂\n",
       "─(G(u, v))⋅──(p(u, v)) + 2⋅─────(G(u, v))⎟⋅ℯ              ⎜2⋅──(p(u, v))⋅──(p(u, v))   4⋅───\n",
       "v          ∂u              ∂v ∂u         ⎠                ⎜  ∂u          ∂v              ∂v \n",
       "─────────────────────────────────────────────────── - 0.5⋅⎜───────────────────────── + ─────\n",
       ")                                                         ⎜         f(u, v)                 \n",
       "                                                          ⎝                                f\n",
       "                                                                                            \n",
       "                                                                                            \n",
       "                                                                                            \n",
       "                                                                                            \n",
       "                                                                                            \n",
       "                                                                      0                     \n",
       "                                                                                            \n",
       "                                                                                            \n",
       "\n",
       "                                                                                            \n",
       "                                                                                            \n",
       "                                                                                            \n",
       "                                                                                            \n",
       "                                                                                            \n",
       "                                                                                            \n",
       "                                                                                            \n",
       "                                                                                            \n",
       "                                                                                            \n",
       "                                                                                            \n",
       "                                                                                            \n",
       "                                                                                            \n",
       "                                                                                            \n",
       "                                                                                            \n",
       "                                                                                            \n",
       "                                                                                            \n",
       "                                                                                            \n",
       "                                                                                            \n",
       "2                                              2                                      ⎞     \n",
       "                ∂           ∂                 ∂                ∂           ∂          ⎟     \n",
       "──(f(u, v))   4⋅──(f(u, v))⋅──(f(u, v))   8⋅─────(G(u, v))   2⋅──(G(u, v))⋅──(G(u, v))⎟     \n",
       "∂u              ∂u          ∂v              ∂v ∂u              ∂u          ∂v         ⎟     \n",
       "─────────── - ───────────────────────── + ──────────────── - ─────────────────────────⎟⋅G(u,\n",
       "2                       3                 G(u, v)⋅f(u, v)          2                  ⎟     \n",
       " (u, v)                f (u, v)                                   G (u, v)⋅f(u, v)    ⎠     \n",
       "                                                                                            \n",
       "                                                                                            \n",
       "                                                                                            \n",
       "                                                                                            \n",
       "                                                                                            \n",
       "                                                                                            \n",
       "                                                                                            \n",
       "                                                                                            \n",
       "\n",
       "                                                                                            \n",
       "                                                                                            \n",
       "                                                                                            \n",
       "                                                                                            \n",
       "                                                                                            \n",
       "                                                                                            \n",
       "                                                                                            \n",
       "                                                                                            \n",
       "                                                                                            \n",
       "                                                                                            \n",
       "                                                                                            \n",
       "                                                                                            \n",
       "                                                                                            \n",
       "                                                                                            \n",
       "                                                                                            \n",
       "                                                                                            \n",
       "                                                                                            \n",
       "                                                                                            \n",
       "                                                                                            \n",
       "                                                                                            \n",
       "                                                                                            \n",
       "     p(u, v)                                                                                \n",
       " v)⋅ℯ                                                                                       \n",
       "                                                                                            \n",
       "                                                                                            \n",
       "                                                                                            \n",
       "              ⎛               2                                                             \n",
       "              ⎜              ∂              ∂           ∂             ∂           ∂         \n",
       "              ⎜- 2⋅G(u, v)⋅─────(p(u, v)) - ──(G(u, v))⋅──(p(u, v)) - ──(G(u, v))⋅──(p(u, v)\n",
       "              ⎝            ∂v ∂u            ∂u          ∂v            ∂v          ∂u        \n",
       "              ──────────────────────────────────────────────────────────────────────────────\n",
       "                                                                 f(u, v)                    \n",
       "                                                                                            \n",
       "\n",
       "                                                                                            \n",
       "                                                                                            \n",
       "                                                                                            \n",
       "                                                                                            \n",
       "                                                                                            \n",
       "                                                 0                                          \n",
       "                                                                                            \n",
       "                                                                                            \n",
       "                                                                                            \n",
       "                                                                                            \n",
       "                                                                                            \n",
       "                                                                                            \n",
       "                                                                                            \n",
       "                                                                                            \n",
       "                                                 0                                          \n",
       "                                                                                            \n",
       "                                                                                            \n",
       "                                                                                            \n",
       "                                                                                            \n",
       "                                                                                            \n",
       "                                                                                            \n",
       "                                                                                            \n",
       "                                                 0                                          \n",
       "                                                                                            \n",
       "                                                                                            \n",
       "                                                                                            \n",
       "         2          ⎞                 ⎛                                 2                   \n",
       "        ∂           ⎟  -p(u, v)       ⎜  ∂           ∂                 ∂                ∂   \n",
       ") + 2⋅─────(G(u, v))⎟⋅ℯ               ⎜2⋅──(p(u, v))⋅──(p(u, v))   4⋅─────(f(u, v))   4⋅──(f\n",
       "      ∂v ∂u         ⎠                 ⎜  ∂u          ∂v              ∂v ∂u              ∂u  \n",
       "─────────────────────────────── - 0.5⋅⎜───────────────────────── + ──────────────── - ──────\n",
       "                                      ⎜         f(u, v)                 2                   \n",
       "                                      ⎝                                f (u, v)             \n",
       "\n",
       "                                                                                     ⎤\n",
       "                                                                                     ⎥\n",
       "                                                                                     ⎥\n",
       "                                                                                     ⎥\n",
       "                                                                                     ⎥\n",
       "                                                                                     ⎥\n",
       "                                                                                     ⎥\n",
       "                                                                                     ⎥\n",
       "                                                                                     ⎥\n",
       "                                                                                     ⎥\n",
       "                                                                                     ⎥\n",
       "                                                                                     ⎥\n",
       "                                                                                     ⎥\n",
       "                                                                                     ⎥\n",
       "                                                                                     ⎥\n",
       "                                                                                     ⎥\n",
       "                                                                                     ⎥\n",
       "                                                                                     ⎥\n",
       "                                                                                     ⎥\n",
       "                                                                                     ⎥\n",
       "                                                                                     ⎥\n",
       "                                                                                     ⎥\n",
       "                                                                                     ⎥\n",
       "                                                                                     ⎥\n",
       "                                                                                     ⎥\n",
       "                                                                                     ⎥\n",
       "                           2                                      ⎞                  ⎥\n",
       "        ∂                 ∂                ∂           ∂          ⎟                  ⎥\n",
       "(u, v))⋅──(f(u, v))   8⋅─────(G(u, v))   2⋅──(G(u, v))⋅──(G(u, v))⎟                  ⎥\n",
       "        ∂v              ∂v ∂u              ∂u          ∂v         ⎟          -p(u, v)⎥\n",
       "─────────────────── + ──────────────── - ─────────────────────────⎟⋅G(u, v)⋅ℯ        ⎥\n",
       "    3                 G(u, v)⋅f(u, v)          2                  ⎟                  ⎥\n",
       "   f (u, v)                                   G (u, v)⋅f(u, v)    ⎠                  ⎦"
      ]
     },
     "execution_count": 20,
     "metadata": {},
     "output_type": "execute_result"
    }
   ],
   "source": [
    "einst = EinsteinTensor.from_metric(metric)\n",
    "einst.tensor()"
   ]
  },
  {
   "cell_type": "code",
   "execution_count": 21,
   "id": "254b95f2",
   "metadata": {},
   "outputs": [],
   "source": [
    "#  rm1 = RiemannCurvatureTensor.from_christoffels(ch)\n",
    "#  rm1.tensor()"
   ]
  },
  {
   "cell_type": "code",
   "execution_count": 22,
   "id": "a9262ae4",
   "metadata": {},
   "outputs": [],
   "source": [
    "#  weyl = WeylTensor.from_metric(metric)\n",
    "#  weyl.tensor()"
   ]
  },
  {
   "cell_type": "code",
   "execution_count": 23,
   "id": "c48c4668",
   "metadata": {},
   "outputs": [
    {
     "data": {
      "text/latex": [
       "$\\displaystyle \\left[\\begin{matrix}- \\frac{\\left(\\frac{\\partial}{\\partial u} p{\\left(u,v \\right)}\\right)^{2}}{2} - \\frac{\\frac{\\partial^{2}}{\\partial u^{2}} G{\\left(u,v \\right)}}{G{\\left(u,v \\right)}} + \\frac{\\frac{\\partial}{\\partial u} G{\\left(u,v \\right)} \\frac{\\partial}{\\partial u} f{\\left(u,v \\right)}}{G{\\left(u,v \\right)} f{\\left(u,v \\right)}} + \\frac{\\left(\\frac{\\partial}{\\partial u} G{\\left(u,v \\right)}\\right)^{2}}{2 G^{2}{\\left(u,v \\right)}} & - \\frac{\\frac{\\partial}{\\partial u} p{\\left(u,v \\right)} \\frac{\\partial}{\\partial v} p{\\left(u,v \\right)}}{2} - \\frac{\\frac{\\partial^{2}}{\\partial v\\partial u} f{\\left(u,v \\right)}}{f{\\left(u,v \\right)}} + \\frac{\\frac{\\partial}{\\partial u} f{\\left(u,v \\right)} \\frac{\\partial}{\\partial v} f{\\left(u,v \\right)}}{f^{2}{\\left(u,v \\right)}} - \\frac{\\frac{\\partial^{2}}{\\partial v\\partial u} G{\\left(u,v \\right)}}{G{\\left(u,v \\right)}} + \\frac{\\frac{\\partial}{\\partial u} G{\\left(u,v \\right)} \\frac{\\partial}{\\partial v} G{\\left(u,v \\right)}}{2 G^{2}{\\left(u,v \\right)}} & 0 & 0\\\\- \\frac{\\frac{\\partial}{\\partial u} p{\\left(u,v \\right)} \\frac{\\partial}{\\partial v} p{\\left(u,v \\right)}}{2} - \\frac{\\frac{\\partial^{2}}{\\partial v\\partial u} f{\\left(u,v \\right)}}{f{\\left(u,v \\right)}} + \\frac{\\frac{\\partial}{\\partial u} f{\\left(u,v \\right)} \\frac{\\partial}{\\partial v} f{\\left(u,v \\right)}}{f^{2}{\\left(u,v \\right)}} - \\frac{\\frac{\\partial^{2}}{\\partial v\\partial u} G{\\left(u,v \\right)}}{G{\\left(u,v \\right)}} + \\frac{\\frac{\\partial}{\\partial u} G{\\left(u,v \\right)} \\frac{\\partial}{\\partial v} G{\\left(u,v \\right)}}{2 G^{2}{\\left(u,v \\right)}} & - \\frac{\\left(\\frac{\\partial}{\\partial v} p{\\left(u,v \\right)}\\right)^{2}}{2} - \\frac{\\frac{\\partial^{2}}{\\partial v^{2}} G{\\left(u,v \\right)}}{G{\\left(u,v \\right)}} + \\frac{\\frac{\\partial}{\\partial v} G{\\left(u,v \\right)} \\frac{\\partial}{\\partial v} f{\\left(u,v \\right)}}{G{\\left(u,v \\right)} f{\\left(u,v \\right)}} + \\frac{\\left(\\frac{\\partial}{\\partial v} G{\\left(u,v \\right)}\\right)^{2}}{2 G^{2}{\\left(u,v \\right)}} & 0 & 0\\\\0 & 0 & \\frac{\\left(2 G{\\left(u,v \\right)} \\frac{\\partial^{2}}{\\partial v\\partial u} p{\\left(u,v \\right)} + \\frac{\\partial}{\\partial u} G{\\left(u,v \\right)} \\frac{\\partial}{\\partial v} p{\\left(u,v \\right)} + \\frac{\\partial}{\\partial v} G{\\left(u,v \\right)} \\frac{\\partial}{\\partial u} p{\\left(u,v \\right)} + 2 \\frac{\\partial^{2}}{\\partial v\\partial u} G{\\left(u,v \\right)}\\right) e^{p{\\left(u,v \\right)}}}{f{\\left(u,v \\right)}} & 0\\\\0 & 0 & 0 & \\frac{\\left(- 2 G{\\left(u,v \\right)} \\frac{\\partial^{2}}{\\partial v\\partial u} p{\\left(u,v \\right)} - \\frac{\\partial}{\\partial u} G{\\left(u,v \\right)} \\frac{\\partial}{\\partial v} p{\\left(u,v \\right)} - \\frac{\\partial}{\\partial v} G{\\left(u,v \\right)} \\frac{\\partial}{\\partial u} p{\\left(u,v \\right)} + 2 \\frac{\\partial^{2}}{\\partial v\\partial u} G{\\left(u,v \\right)}\\right) e^{- p{\\left(u,v \\right)}}}{f{\\left(u,v \\right)}}\\end{matrix}\\right]$"
      ],
      "text/plain": [
       "⎡                                       2                                                   \n",
       "⎢                                 2    ∂                                                    \n",
       "⎢                    ⎛∂          ⎞    ───(G(u, v))   ∂           ∂             ⎛∂          ⎞\n",
       "⎢                    ⎜──(p(u, v))⎟      2            ──(G(u, v))⋅──(f(u, v))   ⎜──(G(u, v))⎟\n",
       "⎢                    ⎝∂u         ⎠    ∂u             ∂u          ∂u            ⎝∂u         ⎠\n",
       "⎢                  - ────────────── - ──────────── + ─────────────────────── + ─────────────\n",
       "⎢                          2            G(u, v)          G(u, v)⋅f(u, v)            2       \n",
       "⎢                                                                                2⋅G (u, v) \n",
       "⎢                                                                                           \n",
       "⎢                                                                                           \n",
       "⎢                               2                                          2                \n",
       "⎢  ∂           ∂               ∂              ∂           ∂               ∂              ∂  \n",
       "⎢  ──(p(u, v))⋅──(p(u, v))   ─────(f(u, v))   ──(f(u, v))⋅──(f(u, v))   ─────(G(u, v))   ──(\n",
       "⎢  ∂u          ∂v            ∂v ∂u            ∂u          ∂v            ∂v ∂u            ∂u \n",
       "⎢- ─────────────────────── - ────────────── + ─────────────────────── - ────────────── + ───\n",
       "⎢             2                 f(u, v)                2                   G(u, v)          \n",
       "⎢                                                     f (u, v)                              \n",
       "⎢                                                                                           \n",
       "⎢                                                                                           \n",
       "⎢                                                                                           \n",
       "⎢                                                                                           \n",
       "⎢                                                                                           \n",
       "⎢                                                       0                                   \n",
       "⎢                                                                                           \n",
       "⎢                                                                                           \n",
       "⎢                                                                                           \n",
       "⎢                                                                                           \n",
       "⎢                                                                                           \n",
       "⎢                                                                                           \n",
       "⎢                                                       0                                   \n",
       "⎣                                                                                           \n",
       "\n",
       "                                                                                            \n",
       "2                                                    2                                      \n",
       "                        ∂           ∂               ∂              ∂           ∂            \n",
       "                        ──(p(u, v))⋅──(p(u, v))   ─────(f(u, v))   ──(f(u, v))⋅──(f(u, v))  \n",
       "                        ∂u          ∂v            ∂v ∂u            ∂u          ∂v           \n",
       "─                     - ─────────────────────── - ────────────── + ─────────────────────── -\n",
       "                                   2                 f(u, v)                2               \n",
       "                                                                           f (u, v)         \n",
       "                                                                                            \n",
       "                                                             2                              \n",
       "                                                       2    ∂                               \n",
       "         ∂                                ⎛∂          ⎞    ───(G(u, v))   ∂           ∂     \n",
       "G(u, v))⋅──(G(u, v))                      ⎜──(p(u, v))⎟      2            ──(G(u, v))⋅──(f(u\n",
       "         ∂v                               ⎝∂v         ⎠    ∂v             ∂v          ∂v    \n",
       "────────────────────                    - ────────────── - ──────────── + ──────────────────\n",
       "       2                                        2            G(u, v)          G(u, v)⋅f(u, v\n",
       "    2⋅G (u, v)                                                                              \n",
       "                                                                                            \n",
       "                                                                                            \n",
       "                                                                                            \n",
       "                                                                                            \n",
       "                                                                                            \n",
       "                                                                             0              \n",
       "                                                                                            \n",
       "                                                                                            \n",
       "                                                                                            \n",
       "                                                                                            \n",
       "                                                                                            \n",
       "                                                                                            \n",
       "                                                                             0              \n",
       "                                                                                            \n",
       "\n",
       "                                                                                            \n",
       "    2                                                                                       \n",
       "   ∂              ∂           ∂                                                             \n",
       " ─────(G(u, v))   ──(G(u, v))⋅──(G(u, v))                                                   \n",
       " ∂v ∂u            ∂u          ∂v                                                            \n",
       " ────────────── + ───────────────────────                                                   \n",
       "    G(u, v)                 2                                                               \n",
       "                         2⋅G (u, v)                                                         \n",
       "                                                                                            \n",
       "                                                                                            \n",
       "                     2                                                                      \n",
       "        ⎛∂          ⎞                                                                       \n",
       ", v))   ⎜──(G(u, v))⎟                                                                       \n",
       "        ⎝∂v         ⎠                                                                       \n",
       "───── + ──────────────                                                                      \n",
       ")            2                                                                              \n",
       "          2⋅G (u, v)                                                                        \n",
       "                                                                                            \n",
       "                                           ⎛             2                                  \n",
       "                                           ⎜            ∂              ∂           ∂        \n",
       "                                           ⎜2⋅G(u, v)⋅─────(p(u, v)) + ──(G(u, v))⋅──(p(u, v\n",
       "                                           ⎝          ∂v ∂u            ∂u          ∂v       \n",
       "                                           ─────────────────────────────────────────────────\n",
       "                                                                                            \n",
       "                                                                                            \n",
       "                                                                                            \n",
       "                                                                                            \n",
       "                                                                                            \n",
       "                                                                                            \n",
       "                                                                                            \n",
       "                                                                                            \n",
       "\n",
       "                                                                                            \n",
       "                                                                                            \n",
       "                                                                                            \n",
       "                                                                                            \n",
       "                                                                                            \n",
       "   0                                                                                        \n",
       "                                                                                            \n",
       "                                                                                            \n",
       "                                                                                            \n",
       "                                                                                            \n",
       "                                                                                            \n",
       "                                                                                            \n",
       "                                                                                            \n",
       "                                                                                            \n",
       "   0                                                                                        \n",
       "                                                                                            \n",
       "                                                                                            \n",
       "                                                                                            \n",
       "                                    2          ⎞                                            \n",
       "     ∂           ∂                 ∂           ⎟  p(u, v)                                   \n",
       ")) + ──(G(u, v))⋅──(p(u, v)) + 2⋅─────(G(u, v))⎟⋅ℯ                                          \n",
       "     ∂v          ∂u              ∂v ∂u         ⎠                                            \n",
       "─────────────────────────────────────────────────────────                                   \n",
       "f(u, v)                                                                                     \n",
       "                                                                                            \n",
       "                                                           ⎛               2                \n",
       "                                                           ⎜              ∂              ∂  \n",
       "                                                           ⎜- 2⋅G(u, v)⋅─────(p(u, v)) - ──(\n",
       "                                                           ⎝            ∂v ∂u            ∂u \n",
       "   0                                                       ─────────────────────────────────\n",
       "                                                                                            \n",
       "\n",
       "                                                                            ⎤\n",
       "                                                                            ⎥\n",
       "                                                                            ⎥\n",
       "                                                                            ⎥\n",
       "                                                                            ⎥\n",
       "                     0                                                      ⎥\n",
       "                                                                            ⎥\n",
       "                                                                            ⎥\n",
       "                                                                            ⎥\n",
       "                                                                            ⎥\n",
       "                                                                            ⎥\n",
       "                                                                            ⎥\n",
       "                                                                            ⎥\n",
       "                                                                            ⎥\n",
       "                     0                                                      ⎥\n",
       "                                                                            ⎥\n",
       "                                                                            ⎥\n",
       "                                                                            ⎥\n",
       "                                                                            ⎥\n",
       "                                                                            ⎥\n",
       "                                                                            ⎥\n",
       "                                                                            ⎥\n",
       "                     0                                                      ⎥\n",
       "                                                                            ⎥\n",
       "                                                                            ⎥\n",
       "                                                      2          ⎞          ⎥\n",
       "         ∂             ∂           ∂                 ∂           ⎟  -p(u, v)⎥\n",
       "G(u, v))⋅──(p(u, v)) - ──(G(u, v))⋅──(p(u, v)) + 2⋅─────(G(u, v))⎟⋅ℯ        ⎥\n",
       "         ∂v            ∂v          ∂u              ∂v ∂u         ⎠          ⎥\n",
       "────────────────────────────────────────────────────────────────────────────⎥\n",
       "                  f(u, v)                                                   ⎦"
      ]
     },
     "execution_count": 23,
     "metadata": {},
     "output_type": "execute_result"
    }
   ],
   "source": [
    "ricciSimplified = simplify(Ric.tensor())\n",
    "ricciSimplified"
   ]
  },
  {
   "cell_type": "code",
   "execution_count": 26,
   "id": "ea9ee20a",
   "metadata": {},
   "outputs": [
    {
     "data": {
      "image/png": "[encoded data removed]",
      "text/latex": [
       "$\\displaystyle 2 \\frac{\\partial^{2}}{\\partial u^{2}} G{\\left(u,v \\right)} = - G{\\left(u,v \\right)} \\left(\\frac{\\partial}{\\partial u} p{\\left(u,v \\right)}\\right)^{2} + \\frac{2 \\frac{\\partial}{\\partial u} G{\\left(u,v \\right)} \\frac{\\partial}{\\partial u} f{\\left(u,v \\right)}}{f{\\left(u,v \\right)}} + \\frac{\\left(\\frac{\\partial}{\\partial u} G{\\left(u,v \\right)}\\right)^{2}}{G{\\left(u,v \\right)}}$"
      ],
      "text/plain": [
       "                                                                                     2\n",
       "                                              ∂           ∂             ⎛∂          ⎞ \n",
       "    2                                   2   2⋅──(G(u, v))⋅──(f(u, v))   ⎜──(G(u, v))⎟ \n",
       "   ∂                       ⎛∂          ⎞      ∂u          ∂u            ⎝∂u         ⎠ \n",
       "2⋅───(G(u, v)) = - G(u, v)⋅⎜──(p(u, v))⎟  + ───────────────────────── + ──────────────\n",
       "    2                      ⎝∂u         ⎠             f(u, v)               G(u, v)    \n",
       "  ∂u                                                                                  "
      ]
     },
     "execution_count": 26,
     "metadata": {},
     "output_type": "execute_result"
    }
   ],
   "source": [
    "Eq(2*diff(G,u,u),2*solve( ricciSimplified[0,0], diff(G,u,u) )[0])"
   ]
  },
  {
   "cell_type": "code",
   "execution_count": 27,
   "id": "233863f2",
   "metadata": {},
   "outputs": [
    {
     "data": {
      "image/png": "[encoded data removed]",
      "text/latex": [
       "$\\displaystyle 2 \\frac{\\partial^{2}}{\\partial v^{2}} G{\\left(u,v \\right)} = - G{\\left(u,v \\right)} \\left(\\frac{\\partial}{\\partial v} p{\\left(u,v \\right)}\\right)^{2} + \\frac{2 \\frac{\\partial}{\\partial v} G{\\left(u,v \\right)} \\frac{\\partial}{\\partial v} f{\\left(u,v \\right)}}{f{\\left(u,v \\right)}} + \\frac{\\left(\\frac{\\partial}{\\partial v} G{\\left(u,v \\right)}\\right)^{2}}{G{\\left(u,v \\right)}}$"
      ],
      "text/plain": [
       "                                                                                     2\n",
       "                                              ∂           ∂             ⎛∂          ⎞ \n",
       "    2                                   2   2⋅──(G(u, v))⋅──(f(u, v))   ⎜──(G(u, v))⎟ \n",
       "   ∂                       ⎛∂          ⎞      ∂v          ∂v            ⎝∂v         ⎠ \n",
       "2⋅───(G(u, v)) = - G(u, v)⋅⎜──(p(u, v))⎟  + ───────────────────────── + ──────────────\n",
       "    2                      ⎝∂v         ⎠             f(u, v)               G(u, v)    \n",
       "  ∂v                                                                                  "
      ]
     },
     "execution_count": 27,
     "metadata": {},
     "output_type": "execute_result"
    }
   ],
   "source": [
    "Eq(2*diff(G,v,v),2*solve( ricciSimplified[1,1], diff(G,v,v) )[0])"
   ]
  },
  {
   "cell_type": "code",
   "execution_count": 56,
   "id": "70e9ffe9",
   "metadata": {},
   "outputs": [
    {
     "data": {
      "image/png": "[encoded data removed]",
      "text/latex": [
       "$\\displaystyle 2 \\frac{\\partial^{2}}{\\partial v\\partial u} f{\\left(u,v \\right)} = - f{\\left(u,v \\right)} \\frac{\\partial}{\\partial u} p{\\left(u,v \\right)} \\frac{\\partial}{\\partial v} p{\\left(u,v \\right)} + \\frac{2 \\frac{\\partial}{\\partial u} f{\\left(u,v \\right)} \\frac{\\partial}{\\partial v} f{\\left(u,v \\right)}}{f{\\left(u,v \\right)}} - \\frac{2 f{\\left(u,v \\right)} \\frac{\\partial^{2}}{\\partial v\\partial u} G{\\left(u,v \\right)}}{G{\\left(u,v \\right)}} + \\frac{f{\\left(u,v \\right)} \\frac{\\partial}{\\partial u} G{\\left(u,v \\right)} \\frac{\\partial}{\\partial v} G{\\left(u,v \\right)}}{G^{2}{\\left(u,v \\right)}}$"
      ],
      "text/plain": [
       "                                                                                            \n",
       "                                                         ∂           ∂                      \n",
       "     2                                                 2⋅──(f(u, v))⋅──(f(u, v))   2⋅f(u, v)\n",
       "    ∂                        ∂           ∂               ∂u          ∂v                     \n",
       "2⋅─────(f(u, v)) = - f(u, v)⋅──(p(u, v))⋅──(p(u, v)) + ───────────────────────── - ─────────\n",
       "  ∂v ∂u                      ∂u          ∂v                     f(u, v)                    G\n",
       "                                                                                            \n",
       "\n",
       "    2                                            \n",
       "   ∂                      ∂           ∂          \n",
       "⋅─────(G(u, v))   f(u, v)⋅──(G(u, v))⋅──(G(u, v))\n",
       " ∂v ∂u                    ∂u          ∂v         \n",
       "─────────────── + ───────────────────────────────\n",
       "(u, v)                         2                 \n",
       "                              G (u, v)           "
      ]
     },
     "execution_count": 56,
     "metadata": {},
     "output_type": "execute_result"
    }
   ],
   "source": [
    "waveEquationF = Eq(2*diff(f,u,v),2*solve( ricciSimplified[0,1], diff(f,u,v) )[0])\n",
    "waveEquationF"
   ]
  },
  {
   "cell_type": "code",
   "execution_count": 54,
   "id": "b30260cc",
   "metadata": {},
   "outputs": [
    {
     "data": {
      "image/png": "[encoded data removed]",
      "text/latex": [
       "$\\displaystyle \\frac{\\partial^{2}}{\\partial v\\partial u} G{\\left(u,v \\right)} = 0$"
      ],
      "text/plain": [
       "   2              \n",
       "  ∂               \n",
       "─────(G(u, v)) = 0\n",
       "∂v ∂u             "
      ]
     },
     "execution_count": 54,
     "metadata": {},
     "output_type": "execute_result"
    }
   ],
   "source": [
    "waveEquationG = Eq(( ricciSimplified[2,2].args[1] + ricciSimplified[3,3].args[1]).args[1],0)\n",
    "waveEquationG"
   ]
  },
  {
   "cell_type": "code",
   "execution_count": 55,
   "id": "f39628e4",
   "metadata": {},
   "outputs": [
    {
     "data": {
      "image/png": "[encoded data removed]",
      "text/latex": [
       "$\\displaystyle 2 \\frac{\\partial^{2}}{\\partial v\\partial u} p{\\left(u,v \\right)} = - \\frac{\\frac{\\partial}{\\partial u} G{\\left(u,v \\right)} \\frac{\\partial}{\\partial v} p{\\left(u,v \\right)}}{G{\\left(u,v \\right)}} - \\frac{\\frac{\\partial}{\\partial v} G{\\left(u,v \\right)} \\frac{\\partial}{\\partial u} p{\\left(u,v \\right)}}{G{\\left(u,v \\right)}}$"
      ],
      "text/plain": [
       "                     ∂           ∂             ∂           ∂          \n",
       "     2               ──(G(u, v))⋅──(p(u, v))   ──(G(u, v))⋅──(p(u, v))\n",
       "    ∂                ∂u          ∂v            ∂v          ∂u         \n",
       "2⋅─────(p(u, v)) = - ─────────────────────── - ───────────────────────\n",
       "  ∂v ∂u                      G(u, v)                   G(u, v)        "
      ]
     },
     "execution_count": 55,
     "metadata": {},
     "output_type": "execute_result"
    }
   ],
   "source": [
    "waveEquationP = Eq(2*diff(p,u,v),expand(2*solve( ricciSimplified[2,2].args[1] - ricciSimplified[3,3].args[1] , diff(p,u,v) )[0]) )\n",
    "waveEquationP"
   ]
  },
  {
   "cell_type": "code",
   "execution_count": 58,
   "id": "4abef203",
   "metadata": {},
   "outputs": [
    {
     "data": {
      "text/latex": [
       "$\\displaystyle \\left[\\begin{matrix}\\frac{\\partial^{2}}{\\partial v\\partial u} G{\\left(u,v \\right)} = 0\\\\2 \\frac{\\partial^{2}}{\\partial v\\partial u} p{\\left(u,v \\right)} = - \\frac{\\frac{\\partial}{\\partial u} G{\\left(u,v \\right)} \\frac{\\partial}{\\partial v} p{\\left(u,v \\right)}}{G{\\left(u,v \\right)}} - \\frac{\\frac{\\partial}{\\partial v} G{\\left(u,v \\right)} \\frac{\\partial}{\\partial u} p{\\left(u,v \\right)}}{G{\\left(u,v \\right)}}\\\\2 \\frac{\\partial^{2}}{\\partial v\\partial u} f{\\left(u,v \\right)} = - f{\\left(u,v \\right)} \\frac{\\partial}{\\partial u} p{\\left(u,v \\right)} \\frac{\\partial}{\\partial v} p{\\left(u,v \\right)} + \\frac{2 \\frac{\\partial}{\\partial u} f{\\left(u,v \\right)} \\frac{\\partial}{\\partial v} f{\\left(u,v \\right)}}{f{\\left(u,v \\right)}} - \\frac{2 f{\\left(u,v \\right)} \\frac{\\partial^{2}}{\\partial v\\partial u} G{\\left(u,v \\right)}}{G{\\left(u,v \\right)}} + \\frac{f{\\left(u,v \\right)} \\frac{\\partial}{\\partial u} G{\\left(u,v \\right)} \\frac{\\partial}{\\partial v} G{\\left(u,v \\right)}}{G^{2}{\\left(u,v \\right)}}\\end{matrix}\\right]$"
      ],
      "text/plain": [
       "⎡                                                                2                          \n",
       "⎢                                                               ∂                           \n",
       "⎢                                                             ─────(G(u, v)) = 0            \n",
       "⎢                                                             ∂v ∂u                         \n",
       "⎢                                                                                           \n",
       "⎢                                                        ∂           ∂             ∂        \n",
       "⎢                                        2               ──(G(u, v))⋅──(p(u, v))   ──(G(u, v\n",
       "⎢                                       ∂                ∂u          ∂v            ∂v       \n",
       "⎢                                   2⋅─────(p(u, v)) = - ─────────────────────── - ─────────\n",
       "⎢                                     ∂v ∂u                      G(u, v)                   G\n",
       "⎢                                                                                           \n",
       "⎢                                                                                           \n",
       "⎢                                                         ∂           ∂                     \n",
       "⎢     2                                                 2⋅──(f(u, v))⋅──(f(u, v))   2⋅f(u, v\n",
       "⎢    ∂                        ∂           ∂               ∂u          ∂v                    \n",
       "⎢2⋅─────(f(u, v)) = - f(u, v)⋅──(p(u, v))⋅──(p(u, v)) + ───────────────────────── - ────────\n",
       "⎢  ∂v ∂u                      ∂u          ∂v                     f(u, v)                    \n",
       "⎣                                                                                           \n",
       "\n",
       "                                                  ⎤\n",
       "                                                  ⎥\n",
       "                                                  ⎥\n",
       "                                                  ⎥\n",
       "                                                  ⎥\n",
       "   ∂                                              ⎥\n",
       "))⋅──(p(u, v))                                    ⎥\n",
       "   ∂u                                             ⎥\n",
       "──────────────                                    ⎥\n",
       "(u, v)                                            ⎥\n",
       "                                                  ⎥\n",
       "     2                                            ⎥\n",
       "    ∂                      ∂           ∂          ⎥\n",
       ")⋅─────(G(u, v))   f(u, v)⋅──(G(u, v))⋅──(G(u, v))⎥\n",
       "  ∂v ∂u                    ∂u          ∂v         ⎥\n",
       "──────────────── + ───────────────────────────────⎥\n",
       "G(u, v)                         2                 ⎥\n",
       "                               G (u, v)           ⎦"
      ]
     },
     "execution_count": 58,
     "metadata": {},
     "output_type": "execute_result"
    }
   ],
   "source": [
    "vacuumFieldEquations = Matrix([waveEquationG ,waveEquationP,waveEquationF ])\n",
    "vacuumFieldEquations"
   ]
  },
  {
   "cell_type": "code",
   "execution_count": null,
   "id": "7cf0a280",
   "metadata": {},
   "outputs": [],
   "source": []
  }
 ],
 "metadata": {
  "@webio": {
   "lastCommId": "2bacd01af322485a8b8232b6b24fd0b8",
   "lastKernelId": "cd941458-07bb-4851-b6e5-001e6c395f85"
  },
  "kernelspec": {
   "display_name": "Python 3 (ipykernel)",
   "language": "python",
   "name": "python3"
  },
  "language_info": {
   "codemirror_mode": {
    "name": "ipython",
    "version": 3
   },
   "file_extension": ".py",
   "mimetype": "text/x-python",
   "name": "python",
   "nbconvert_exporter": "python",
   "pygments_lexer": "ipython3",
   "version": "3.8.8"
  }
 },
 "nbformat": 4,
 "nbformat_minor": 5
}
