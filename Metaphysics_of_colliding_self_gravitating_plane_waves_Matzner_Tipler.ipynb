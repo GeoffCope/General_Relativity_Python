{
 "cells": [
  {
   "cell_type": "markdown",
   "id": "7755fef5",
   "metadata": {},
   "source": [
    "# Metaphysics of colliding self gravitating plane waves by Matzner & Tipler\n",
    "## Geoff Cope\n",
    "## Univeristy of Utah\n",
    "## January 1 st, 2021 New Year' s Day!"
   ]
  },
  {
   "cell_type": "markdown",
   "id": "1746f9f2",
   "metadata": {},
   "source": [
    "The real messy metric is 3.1  Will go back and redo another time"
   ]
  },
  {
   "cell_type": "markdown",
   "id": "6313ff80",
   "metadata": {},
   "source": [
    "https://journals.aps.org/prd/abstract/10.1103/PhysRevD.29.1575"
   ]
  },
  {
   "cell_type": "markdown",
   "id": "96d1bf09",
   "metadata": {},
   "source": [
    "https://www.nature.com/articles/229185a0"
   ]
  },
  {
   "cell_type": "code",
   "execution_count": 16,
   "id": "e5ed8f02",
   "metadata": {},
   "outputs": [
    {
     "name": "stdout",
     "output_type": "stream",
     "text": [
      "IPython console for SymPy 1.9 (Python 3.8.8-64-bit) (ground types: gmpy)\n",
      "\n",
      "These commands were executed:\n",
      ">>> from __future__ import division\n",
      ">>> from sympy import *\n",
      ">>> x, y, z, t = symbols('x y z t')\n",
      ">>> k, m, n = symbols('k m n', integer=True)\n",
      ">>> f, g, h = symbols('f g h', cls=Function)\n",
      ">>> init_printing()\n",
      "\n",
      "Documentation can be found at https://docs.sympy.org/1.9/\n",
      "\n"
     ]
    }
   ],
   "source": [
    "from sympy import init_session\n",
    "init_session(use_latex=True)"
   ]
  },
  {
   "cell_type": "code",
   "execution_count": 17,
   "id": "0bccad2c",
   "metadata": {},
   "outputs": [],
   "source": [
    "import warnings\n",
    "import matplotlib.cbook\n",
    "warnings.filterwarnings(\"ignore\",category=matplotlib.cbook.mplDeprecation)"
   ]
  },
  {
   "cell_type": "code",
   "execution_count": 18,
   "id": "7f0a2874",
   "metadata": {},
   "outputs": [],
   "source": [
    "a,b,u,v,x,y,du,dv,dx,dy = symbols( 'a b u v x y du dv dx dy', positive = True, real = True ) "
   ]
  },
  {
   "cell_type": "code",
   "execution_count": 19,
   "id": "81184d68",
   "metadata": {},
   "outputs": [
    {
     "data": {
      "text/latex": [
       "$\\displaystyle \\left[\\begin{matrix}u\\\\v\\\\x\\\\y\\end{matrix}\\right]$"
      ],
      "text/plain": [
       "⎡u⎤\n",
       "⎢ ⎥\n",
       "⎢v⎥\n",
       "⎢ ⎥\n",
       "⎢x⎥\n",
       "⎢ ⎥\n",
       "⎣y⎦"
      ]
     },
     "execution_count": 19,
     "metadata": {},
     "output_type": "execute_result"
    }
   ],
   "source": [
    "variables = Matrix( [u,v,x,y] )\n",
    "variables"
   ]
  },
  {
   "cell_type": "code",
   "execution_count": 20,
   "id": "29dd359d",
   "metadata": {},
   "outputs": [
    {
     "data": {
      "text/latex": [
       "$\\displaystyle \\left[\\begin{matrix}du\\\\dv\\\\dx\\\\dy\\end{matrix}\\right]$"
      ],
      "text/plain": [
       "⎡du⎤\n",
       "⎢  ⎥\n",
       "⎢dv⎥\n",
       "⎢  ⎥\n",
       "⎢dx⎥\n",
       "⎢  ⎥\n",
       "⎣dy⎦"
      ]
     },
     "execution_count": 20,
     "metadata": {},
     "output_type": "execute_result"
    }
   ],
   "source": [
    "differentials = Matrix( [du,dv,dx,dy] ) \n",
    "differentials"
   ]
  },
  {
   "cell_type": "code",
   "execution_count": 21,
   "id": "aa0313eb",
   "metadata": {},
   "outputs": [
    {
     "data": {
      "image/png": "[encoded data removed]",
      "text/latex": [
       "$\\displaystyle - 2 du dv + dx^{2} \\cos^{2}{\\left(a u - b v \\right)} + dy^{2} \\cos^{2}{\\left(a u + b v \\right)}$"
      ],
      "text/plain": [
       "             2    2                2    2           \n",
       "-2⋅du⋅dv + dx ⋅cos (a⋅u - b⋅v) + dy ⋅cos (a⋅u + b⋅v)"
      ]
     },
     "execution_count": 21,
     "metadata": {},
     "output_type": "execute_result"
    }
   ],
   "source": [
    "lineElement = expand( -2*du*dv + cos(a*u-b*v)**2 * dx**2  + cos(a*u+b*v)**2 * dy**2 ) \n",
    "lineElement"
   ]
  },
  {
   "cell_type": "code",
   "execution_count": 22,
   "id": "fd2b764d",
   "metadata": {},
   "outputs": [
    {
     "data": {
      "text/latex": [
       "$\\displaystyle \\left[\\begin{matrix}0 & -1 & 0 & 0\\\\-1 & 0 & 0 & 0\\\\0 & 0 & \\cos^{2}{\\left(a u - b v \\right)} & 0\\\\0 & 0 & 0 & \\cos^{2}{\\left(a u + b v \\right)}\\end{matrix}\\right]$"
      ],
      "text/plain": [
       "⎡0   -1         0                0       ⎤\n",
       "⎢                                        ⎥\n",
       "⎢-1  0          0                0       ⎥\n",
       "⎢                                        ⎥\n",
       "⎢           2                            ⎥\n",
       "⎢0   0   cos (a⋅u - b⋅v)         0       ⎥\n",
       "⎢                                        ⎥\n",
       "⎢                            2           ⎥\n",
       "⎣0   0          0         cos (a⋅u + b⋅v)⎦"
      ]
     },
     "execution_count": 22,
     "metadata": {},
     "output_type": "execute_result"
    }
   ],
   "source": [
    "g = zeros(4)\n",
    "\n",
    "for i in range(4):\n",
    "    for j in range(4):\n",
    "        if i == j:\n",
    "            g[i,j] = lineElement.coeff( differentials[i],2 ) \n",
    "        else:\n",
    "            g[i,j] = Rational(1,2)*lineElement.coeff( differentials[i]*differentials[j],1 )\n",
    "            \n",
    "g"
   ]
  },
  {
   "cell_type": "code",
   "execution_count": 23,
   "id": "d209df14",
   "metadata": {},
   "outputs": [],
   "source": [
    "import sympy"
   ]
  },
  {
   "cell_type": "code",
   "execution_count": 24,
   "id": "c87dd242",
   "metadata": {},
   "outputs": [
    {
     "data": {
      "text/latex": [
       "$\\displaystyle \\left[\\begin{matrix}0 & -1 & 0 & 0\\\\-1 & 0 & 0 & 0\\\\0 & 0 & \\cos^{2}{\\left(a u - b v \\right)} & 0\\\\0 & 0 & 0 & \\cos^{2}{\\left(a u + b v \\right)}\\end{matrix}\\right]$"
      ],
      "text/plain": [
       "⎡0   -1         0                0       ⎤\n",
       "⎢                                        ⎥\n",
       "⎢-1  0          0                0       ⎥\n",
       "⎢                                        ⎥\n",
       "⎢           2                            ⎥\n",
       "⎢0   0   cos (a⋅u - b⋅v)         0       ⎥\n",
       "⎢                                        ⎥\n",
       "⎢                            2           ⎥\n",
       "⎣0   0          0         cos (a⋅u + b⋅v)⎦"
      ]
     },
     "execution_count": 24,
     "metadata": {},
     "output_type": "execute_result"
    }
   ],
   "source": [
    "m = sympy.Array(g)\n",
    "m"
   ]
  },
  {
   "cell_type": "code",
   "execution_count": 25,
   "id": "41deae24",
   "metadata": {},
   "outputs": [],
   "source": [
    "from einsteinpy.symbolic import *"
   ]
  },
  {
   "cell_type": "code",
   "execution_count": 28,
   "id": "db61d5ba",
   "metadata": {},
   "outputs": [],
   "source": [
    "syms = sympy.symbols(\"u v x y\" )\n",
    "u,v,x,y = syms"
   ]
  },
  {
   "cell_type": "code",
   "execution_count": 29,
   "id": "a56837c8",
   "metadata": {},
   "outputs": [],
   "source": [
    "metric = MetricTensor(m,syms)"
   ]
  },
  {
   "cell_type": "code",
   "execution_count": 30,
   "id": "e9c81be5",
   "metadata": {},
   "outputs": [
    {
     "data": {
      "text/latex": [
       "$\\displaystyle \\left[\\begin{matrix}\\left[\\begin{matrix}0 & 0 & 0 & 0\\\\0 & 0 & 0 & 0\\\\0 & 0 & 0 & 0\\\\0 & 0 & 0 & 0\\end{matrix}\\right] & \\left[\\begin{matrix}0 & 0 & 0 & 0\\\\0 & 0 & 0 & 0\\\\0 & 0 & 0 & 0\\\\0 & 0 & 0 & 0\\end{matrix}\\right] & \\left[\\begin{matrix}0 & 0 & 0 & 0\\\\0 & 0 & 0 & 0\\\\0 & 0 & 0 & 0\\\\0 & 0 & 0 & 0\\end{matrix}\\right] & \\left[\\begin{matrix}0 & 0 & 0 & 0\\\\0 & 0 & 0 & 0\\\\0 & 0 & 0 & 0\\\\0 & 0 & 0 & 0\\end{matrix}\\right]\\end{matrix}\\right]$"
      ],
      "text/plain": [
       "⎡⎡0  0  0  0⎤  ⎡0  0  0  0⎤  ⎡0  0  0  0⎤  ⎡0  0  0  0⎤⎤\n",
       "⎢⎢          ⎥  ⎢          ⎥  ⎢          ⎥  ⎢          ⎥⎥\n",
       "⎢⎢0  0  0  0⎥  ⎢0  0  0  0⎥  ⎢0  0  0  0⎥  ⎢0  0  0  0⎥⎥\n",
       "⎢⎢          ⎥  ⎢          ⎥  ⎢          ⎥  ⎢          ⎥⎥\n",
       "⎢⎢0  0  0  0⎥  ⎢0  0  0  0⎥  ⎢0  0  0  0⎥  ⎢0  0  0  0⎥⎥\n",
       "⎢⎢          ⎥  ⎢          ⎥  ⎢          ⎥  ⎢          ⎥⎥\n",
       "⎣⎣0  0  0  0⎦  ⎣0  0  0  0⎦  ⎣0  0  0  0⎦  ⎣0  0  0  0⎦⎦"
      ]
     },
     "execution_count": 30,
     "metadata": {},
     "output_type": "execute_result"
    }
   ],
   "source": [
    "ch = ChristoffelSymbols.from_metric(metric)\n",
    "ch.tensor()"
   ]
  },
  {
   "cell_type": "code",
   "execution_count": 31,
   "id": "1be58757",
   "metadata": {},
   "outputs": [
    {
     "data": {
      "text/latex": [
       "$\\displaystyle \\left[\\begin{matrix}0 & 0 & 0 & 0\\\\0 & 0 & 0 & 0\\\\0 & 0 & 0 & 0\\\\0 & 0 & 0 & 0\\end{matrix}\\right]$"
      ],
      "text/plain": [
       "⎡0  0  0  0⎤\n",
       "⎢          ⎥\n",
       "⎢0  0  0  0⎥\n",
       "⎢          ⎥\n",
       "⎢0  0  0  0⎥\n",
       "⎢          ⎥\n",
       "⎣0  0  0  0⎦"
      ]
     },
     "execution_count": 31,
     "metadata": {},
     "output_type": "execute_result"
    }
   ],
   "source": [
    "Ric = RicciTensor.from_metric(metric)\n",
    "Ric.tensor()"
   ]
  },
  {
   "cell_type": "code",
   "execution_count": 32,
   "id": "df0fbe8a",
   "metadata": {},
   "outputs": [
    {
     "data": {
      "image/png": "[encoded data removed]",
      "text/latex": [
       "$\\displaystyle 0$"
      ],
      "text/plain": [
       "0"
      ]
     },
     "execution_count": 32,
     "metadata": {},
     "output_type": "execute_result"
    }
   ],
   "source": [
    "R = RicciScalar.from_riccitensor(Ric)\n",
    "R.simplify()\n",
    "R.expr"
   ]
  },
  {
   "cell_type": "code",
   "execution_count": 33,
   "id": "a0a41c4f",
   "metadata": {},
   "outputs": [
    {
     "data": {
      "text/latex": [
       "$\\displaystyle \\left[\\begin{matrix}0 & 0 & 0 & 0\\\\0 & 0 & 0 & 0\\\\0 & 0 & 0 & 0\\\\0 & 0 & 0 & 0\\end{matrix}\\right]$"
      ],
      "text/plain": [
       "⎡0  0  0  0⎤\n",
       "⎢          ⎥\n",
       "⎢0  0  0  0⎥\n",
       "⎢          ⎥\n",
       "⎢0  0  0  0⎥\n",
       "⎢          ⎥\n",
       "⎣0  0  0  0⎦"
      ]
     },
     "execution_count": 33,
     "metadata": {},
     "output_type": "execute_result"
    }
   ],
   "source": [
    "einst = EinsteinTensor.from_metric(metric)\n",
    "einst.tensor()"
   ]
  },
  {
   "cell_type": "code",
   "execution_count": 34,
   "id": "ccae8b7b",
   "metadata": {},
   "outputs": [
    {
     "data": {
      "text/latex": [
       "$\\displaystyle \\left[\\begin{matrix}\\left[\\begin{matrix}0 & 0 & 0 & 0\\\\0 & 0 & 0 & 0\\\\0 & 0 & 0 & 0\\\\0 & 0 & 0 & 0\\end{matrix}\\right] & \\left[\\begin{matrix}0 & 0 & 0 & 0\\\\0 & 0 & 0 & 0\\\\0 & 0 & 0 & 0\\\\0 & 0 & 0 & 0\\end{matrix}\\right] & \\left[\\begin{matrix}0 & 0 & 0 & 0\\\\0 & 0 & 0 & 0\\\\0 & 0 & 0 & 0\\\\0 & 0 & 0 & 0\\end{matrix}\\right] & \\left[\\begin{matrix}0 & 0 & 0 & 0\\\\0 & 0 & 0 & 0\\\\0 & 0 & 0 & 0\\\\0 & 0 & 0 & 0\\end{matrix}\\right]\\\\\\left[\\begin{matrix}0 & 0 & 0 & 0\\\\0 & 0 & 0 & 0\\\\0 & 0 & 0 & 0\\\\0 & 0 & 0 & 0\\end{matrix}\\right] & \\left[\\begin{matrix}0 & 0 & 0 & 0\\\\0 & 0 & 0 & 0\\\\0 & 0 & 0 & 0\\\\0 & 0 & 0 & 0\\end{matrix}\\right] & \\left[\\begin{matrix}0 & 0 & 0 & 0\\\\0 & 0 & 0 & 0\\\\0 & 0 & 0 & 0\\\\0 & 0 & 0 & 0\\end{matrix}\\right] & \\left[\\begin{matrix}0 & 0 & 0 & 0\\\\0 & 0 & 0 & 0\\\\0 & 0 & 0 & 0\\\\0 & 0 & 0 & 0\\end{matrix}\\right]\\\\\\left[\\begin{matrix}0 & 0 & 0 & 0\\\\0 & 0 & 0 & 0\\\\0 & 0 & 0 & 0\\\\0 & 0 & 0 & 0\\end{matrix}\\right] & \\left[\\begin{matrix}0 & 0 & 0 & 0\\\\0 & 0 & 0 & 0\\\\0 & 0 & 0 & 0\\\\0 & 0 & 0 & 0\\end{matrix}\\right] & \\left[\\begin{matrix}0 & 0 & 0 & 0\\\\0 & 0 & 0 & 0\\\\0 & 0 & 0 & 0\\\\0 & 0 & 0 & 0\\end{matrix}\\right] & \\left[\\begin{matrix}0 & 0 & 0 & 0\\\\0 & 0 & 0 & 0\\\\0 & 0 & 0 & 0\\\\0 & 0 & 0 & 0\\end{matrix}\\right]\\\\\\left[\\begin{matrix}0 & 0 & 0 & 0\\\\0 & 0 & 0 & 0\\\\0 & 0 & 0 & 0\\\\0 & 0 & 0 & 0\\end{matrix}\\right] & \\left[\\begin{matrix}0 & 0 & 0 & 0\\\\0 & 0 & 0 & 0\\\\0 & 0 & 0 & 0\\\\0 & 0 & 0 & 0\\end{matrix}\\right] & \\left[\\begin{matrix}0 & 0 & 0 & 0\\\\0 & 0 & 0 & 0\\\\0 & 0 & 0 & 0\\\\0 & 0 & 0 & 0\\end{matrix}\\right] & \\left[\\begin{matrix}0 & 0 & 0 & 0\\\\0 & 0 & 0 & 0\\\\0 & 0 & 0 & 0\\\\0 & 0 & 0 & 0\\end{matrix}\\right]\\end{matrix}\\right]$"
      ],
      "text/plain": [
       "⎡⎡0  0  0  0⎤  ⎡0  0  0  0⎤  ⎡0  0  0  0⎤  ⎡0  0  0  0⎤⎤\n",
       "⎢⎢          ⎥  ⎢          ⎥  ⎢          ⎥  ⎢          ⎥⎥\n",
       "⎢⎢0  0  0  0⎥  ⎢0  0  0  0⎥  ⎢0  0  0  0⎥  ⎢0  0  0  0⎥⎥\n",
       "⎢⎢          ⎥  ⎢          ⎥  ⎢          ⎥  ⎢          ⎥⎥\n",
       "⎢⎢0  0  0  0⎥  ⎢0  0  0  0⎥  ⎢0  0  0  0⎥  ⎢0  0  0  0⎥⎥\n",
       "⎢⎢          ⎥  ⎢          ⎥  ⎢          ⎥  ⎢          ⎥⎥\n",
       "⎢⎣0  0  0  0⎦  ⎣0  0  0  0⎦  ⎣0  0  0  0⎦  ⎣0  0  0  0⎦⎥\n",
       "⎢                                                      ⎥\n",
       "⎢⎡0  0  0  0⎤  ⎡0  0  0  0⎤  ⎡0  0  0  0⎤  ⎡0  0  0  0⎤⎥\n",
       "⎢⎢          ⎥  ⎢          ⎥  ⎢          ⎥  ⎢          ⎥⎥\n",
       "⎢⎢0  0  0  0⎥  ⎢0  0  0  0⎥  ⎢0  0  0  0⎥  ⎢0  0  0  0⎥⎥\n",
       "⎢⎢          ⎥  ⎢          ⎥  ⎢          ⎥  ⎢          ⎥⎥\n",
       "⎢⎢0  0  0  0⎥  ⎢0  0  0  0⎥  ⎢0  0  0  0⎥  ⎢0  0  0  0⎥⎥\n",
       "⎢⎢          ⎥  ⎢          ⎥  ⎢          ⎥  ⎢          ⎥⎥\n",
       "⎢⎣0  0  0  0⎦  ⎣0  0  0  0⎦  ⎣0  0  0  0⎦  ⎣0  0  0  0⎦⎥\n",
       "⎢                                                      ⎥\n",
       "⎢⎡0  0  0  0⎤  ⎡0  0  0  0⎤  ⎡0  0  0  0⎤  ⎡0  0  0  0⎤⎥\n",
       "⎢⎢          ⎥  ⎢          ⎥  ⎢          ⎥  ⎢          ⎥⎥\n",
       "⎢⎢0  0  0  0⎥  ⎢0  0  0  0⎥  ⎢0  0  0  0⎥  ⎢0  0  0  0⎥⎥\n",
       "⎢⎢          ⎥  ⎢          ⎥  ⎢          ⎥  ⎢          ⎥⎥\n",
       "⎢⎢0  0  0  0⎥  ⎢0  0  0  0⎥  ⎢0  0  0  0⎥  ⎢0  0  0  0⎥⎥\n",
       "⎢⎢          ⎥  ⎢          ⎥  ⎢          ⎥  ⎢          ⎥⎥\n",
       "⎢⎣0  0  0  0⎦  ⎣0  0  0  0⎦  ⎣0  0  0  0⎦  ⎣0  0  0  0⎦⎥\n",
       "⎢                                                      ⎥\n",
       "⎢⎡0  0  0  0⎤  ⎡0  0  0  0⎤  ⎡0  0  0  0⎤  ⎡0  0  0  0⎤⎥\n",
       "⎢⎢          ⎥  ⎢          ⎥  ⎢          ⎥  ⎢          ⎥⎥\n",
       "⎢⎢0  0  0  0⎥  ⎢0  0  0  0⎥  ⎢0  0  0  0⎥  ⎢0  0  0  0⎥⎥\n",
       "⎢⎢          ⎥  ⎢          ⎥  ⎢          ⎥  ⎢          ⎥⎥\n",
       "⎢⎢0  0  0  0⎥  ⎢0  0  0  0⎥  ⎢0  0  0  0⎥  ⎢0  0  0  0⎥⎥\n",
       "⎢⎢          ⎥  ⎢          ⎥  ⎢          ⎥  ⎢          ⎥⎥\n",
       "⎣⎣0  0  0  0⎦  ⎣0  0  0  0⎦  ⎣0  0  0  0⎦  ⎣0  0  0  0⎦⎦"
      ]
     },
     "execution_count": 34,
     "metadata": {},
     "output_type": "execute_result"
    }
   ],
   "source": [
    "rm1 = RiemannCurvatureTensor.from_christoffels(ch)\n",
    "rm1.tensor()"
   ]
  },
  {
   "cell_type": "code",
   "execution_count": 35,
   "id": "7c13aba0",
   "metadata": {},
   "outputs": [
    {
     "data": {
      "text/latex": [
       "$\\displaystyle \\left[\\begin{matrix}\\left[\\begin{matrix}0 & 0 & 0 & 0\\\\0 & 0 & 0 & 0\\\\0 & 0 & 0 & 0\\\\0 & 0 & 0 & 0\\end{matrix}\\right] & \\left[\\begin{matrix}0 & 0 & 0 & 0\\\\0 & 0 & 0 & 0\\\\0 & 0 & 0 & 0\\\\0 & 0 & 0 & 0\\end{matrix}\\right] & \\left[\\begin{matrix}0 & 0 & 0 & 0\\\\0 & 0 & 0 & 0\\\\0 & 0 & 0 & 0\\\\0 & 0 & 0 & 0\\end{matrix}\\right] & \\left[\\begin{matrix}0 & 0 & 0 & 0\\\\0 & 0 & 0 & 0\\\\0 & 0 & 0 & 0\\\\0 & 0 & 0 & 0\\end{matrix}\\right]\\\\\\left[\\begin{matrix}0 & 0 & 0 & 0\\\\0 & 0 & 0 & 0\\\\0 & 0 & 0 & 0\\\\0 & 0 & 0 & 0\\end{matrix}\\right] & \\left[\\begin{matrix}0 & 0 & 0 & 0\\\\0 & 0 & 0 & 0\\\\0 & 0 & 0 & 0\\\\0 & 0 & 0 & 0\\end{matrix}\\right] & \\left[\\begin{matrix}0 & 0 & 0 & 0\\\\0 & 0 & 0 & 0\\\\0 & 0 & 0 & 0\\\\0 & 0 & 0 & 0\\end{matrix}\\right] & \\left[\\begin{matrix}0 & 0 & 0 & 0\\\\0 & 0 & 0 & 0\\\\0 & 0 & 0 & 0\\\\0 & 0 & 0 & 0\\end{matrix}\\right]\\\\\\left[\\begin{matrix}0 & 0 & 0 & 0\\\\0 & 0 & 0 & 0\\\\0 & 0 & 0 & 0\\\\0 & 0 & 0 & 0\\end{matrix}\\right] & \\left[\\begin{matrix}0 & 0 & 0 & 0\\\\0 & 0 & 0 & 0\\\\0 & 0 & 0 & 0\\\\0 & 0 & 0 & 0\\end{matrix}\\right] & \\left[\\begin{matrix}0 & 0 & 0 & 0\\\\0 & 0 & 0 & 0\\\\0 & 0 & 0 & 0\\\\0 & 0 & 0 & 0\\end{matrix}\\right] & \\left[\\begin{matrix}0 & 0 & 0 & 0\\\\0 & 0 & 0 & 0\\\\0 & 0 & 0 & 0\\\\0 & 0 & 0 & 0\\end{matrix}\\right]\\\\\\left[\\begin{matrix}0 & 0 & 0 & 0\\\\0 & 0 & 0 & 0\\\\0 & 0 & 0 & 0\\\\0 & 0 & 0 & 0\\end{matrix}\\right] & \\left[\\begin{matrix}0 & 0 & 0 & 0\\\\0 & 0 & 0 & 0\\\\0 & 0 & 0 & 0\\\\0 & 0 & 0 & 0\\end{matrix}\\right] & \\left[\\begin{matrix}0 & 0 & 0 & 0\\\\0 & 0 & 0 & 0\\\\0 & 0 & 0 & 0\\\\0 & 0 & 0 & 0\\end{matrix}\\right] & \\left[\\begin{matrix}0 & 0 & 0 & 0\\\\0 & 0 & 0 & 0\\\\0 & 0 & 0 & 0\\\\0 & 0 & 0 & 0\\end{matrix}\\right]\\end{matrix}\\right]$"
      ],
      "text/plain": [
       "⎡⎡0  0  0  0⎤  ⎡0  0  0  0⎤  ⎡0  0  0  0⎤  ⎡0  0  0  0⎤⎤\n",
       "⎢⎢          ⎥  ⎢          ⎥  ⎢          ⎥  ⎢          ⎥⎥\n",
       "⎢⎢0  0  0  0⎥  ⎢0  0  0  0⎥  ⎢0  0  0  0⎥  ⎢0  0  0  0⎥⎥\n",
       "⎢⎢          ⎥  ⎢          ⎥  ⎢          ⎥  ⎢          ⎥⎥\n",
       "⎢⎢0  0  0  0⎥  ⎢0  0  0  0⎥  ⎢0  0  0  0⎥  ⎢0  0  0  0⎥⎥\n",
       "⎢⎢          ⎥  ⎢          ⎥  ⎢          ⎥  ⎢          ⎥⎥\n",
       "⎢⎣0  0  0  0⎦  ⎣0  0  0  0⎦  ⎣0  0  0  0⎦  ⎣0  0  0  0⎦⎥\n",
       "⎢                                                      ⎥\n",
       "⎢⎡0  0  0  0⎤  ⎡0  0  0  0⎤  ⎡0  0  0  0⎤  ⎡0  0  0  0⎤⎥\n",
       "⎢⎢          ⎥  ⎢          ⎥  ⎢          ⎥  ⎢          ⎥⎥\n",
       "⎢⎢0  0  0  0⎥  ⎢0  0  0  0⎥  ⎢0  0  0  0⎥  ⎢0  0  0  0⎥⎥\n",
       "⎢⎢          ⎥  ⎢          ⎥  ⎢          ⎥  ⎢          ⎥⎥\n",
       "⎢⎢0  0  0  0⎥  ⎢0  0  0  0⎥  ⎢0  0  0  0⎥  ⎢0  0  0  0⎥⎥\n",
       "⎢⎢          ⎥  ⎢          ⎥  ⎢          ⎥  ⎢          ⎥⎥\n",
       "⎢⎣0  0  0  0⎦  ⎣0  0  0  0⎦  ⎣0  0  0  0⎦  ⎣0  0  0  0⎦⎥\n",
       "⎢                                                      ⎥\n",
       "⎢⎡0  0  0  0⎤  ⎡0  0  0  0⎤  ⎡0  0  0  0⎤  ⎡0  0  0  0⎤⎥\n",
       "⎢⎢          ⎥  ⎢          ⎥  ⎢          ⎥  ⎢          ⎥⎥\n",
       "⎢⎢0  0  0  0⎥  ⎢0  0  0  0⎥  ⎢0  0  0  0⎥  ⎢0  0  0  0⎥⎥\n",
       "⎢⎢          ⎥  ⎢          ⎥  ⎢          ⎥  ⎢          ⎥⎥\n",
       "⎢⎢0  0  0  0⎥  ⎢0  0  0  0⎥  ⎢0  0  0  0⎥  ⎢0  0  0  0⎥⎥\n",
       "⎢⎢          ⎥  ⎢          ⎥  ⎢          ⎥  ⎢          ⎥⎥\n",
       "⎢⎣0  0  0  0⎦  ⎣0  0  0  0⎦  ⎣0  0  0  0⎦  ⎣0  0  0  0⎦⎥\n",
       "⎢                                                      ⎥\n",
       "⎢⎡0  0  0  0⎤  ⎡0  0  0  0⎤  ⎡0  0  0  0⎤  ⎡0  0  0  0⎤⎥\n",
       "⎢⎢          ⎥  ⎢          ⎥  ⎢          ⎥  ⎢          ⎥⎥\n",
       "⎢⎢0  0  0  0⎥  ⎢0  0  0  0⎥  ⎢0  0  0  0⎥  ⎢0  0  0  0⎥⎥\n",
       "⎢⎢          ⎥  ⎢          ⎥  ⎢          ⎥  ⎢          ⎥⎥\n",
       "⎢⎢0  0  0  0⎥  ⎢0  0  0  0⎥  ⎢0  0  0  0⎥  ⎢0  0  0  0⎥⎥\n",
       "⎢⎢          ⎥  ⎢          ⎥  ⎢          ⎥  ⎢          ⎥⎥\n",
       "⎣⎣0  0  0  0⎦  ⎣0  0  0  0⎦  ⎣0  0  0  0⎦  ⎣0  0  0  0⎦⎦"
      ]
     },
     "execution_count": 35,
     "metadata": {},
     "output_type": "execute_result"
    }
   ],
   "source": [
    "weyl = WeylTensor.from_metric(metric)\n",
    "weyl.tensor()"
   ]
  }
 ],
 "metadata": {
  "@webio": {
   "lastCommId": "7944ce50e2f04100be58ba602ae38f38",
   "lastKernelId": "8228c98a-295c-4d1f-b33b-20fe16a9e499"
  },
  "kernelspec": {
   "display_name": "Python 3 (ipykernel)",
   "language": "python",
   "name": "python3"
  },
  "language_info": {
   "codemirror_mode": {
    "name": "ipython",
    "version": 3
   },
   "file_extension": ".py",
   "mimetype": "text/x-python",
   "name": "python",
   "nbconvert_exporter": "python",
   "pygments_lexer": "ipython3",
   "version": "3.8.8"
  }
 },
 "nbformat": 4,
 "nbformat_minor": 5
}
