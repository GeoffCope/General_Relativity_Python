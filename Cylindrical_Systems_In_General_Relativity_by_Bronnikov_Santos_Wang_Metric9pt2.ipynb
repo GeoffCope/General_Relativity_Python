{
 "cells": [
  {
   "cell_type": "markdown",
   "id": "294754e6",
   "metadata": {},
   "source": [
    "# Cylindrical Systems In General Relativity by Bronnikov  Santos and Wang\n",
    "##  Geoff Cope\n",
    "##  Univeristy of Utah\n",
    "##  December 22, 2021"
   ]
  },
  {
   "cell_type": "markdown",
   "id": "423d8e25",
   "metadata": {},
   "source": [
    "This is a very long paper with quite a few metrics, here we concentrate on metric 9.2  This metric also appears in the paper \"Gravitational Analaogue of Farady Rotation by Piran and Safier\" linked to down below.  We'll finish the other metrics at a later date.  The field equations at the bottom listed as equations 3 thru 5 match those given in the Piran and Safier paper. TO DO:  Bondi's Radiating Metric appears as equation 32, add this later."
   ]
  },
  {
   "cell_type": "markdown",
   "id": "d19a5a9c",
   "metadata": {},
   "source": [
    "https://arxiv.org/abs/1901.06561"
   ]
  },
  {
   "cell_type": "markdown",
   "id": "8becdf51",
   "metadata": {},
   "source": [
    "https://www.nature.com/articles/318271a0"
   ]
  },
  {
   "cell_type": "code",
   "execution_count": 1,
   "id": "9cfee5e2",
   "metadata": {
    "scrolled": false
   },
   "outputs": [
    {
     "name": "stdout",
     "output_type": "stream",
     "text": [
      "IPython console for SymPy 1.9 (Python 3.8.8-64-bit) (ground types: gmpy)\n",
      "\n",
      "These commands were executed:\n",
      ">>> from __future__ import division\n",
      ">>> from sympy import *\n",
      ">>> x, y, z, t = symbols('x y z t')\n",
      ">>> k, m, n = symbols('k m n', integer=True)\n",
      ">>> f, g, h = symbols('f g h', cls=Function)\n",
      ">>> init_printing()\n",
      "\n",
      "Documentation can be found at https://docs.sympy.org/1.9/\n",
      "\n"
     ]
    }
   ],
   "source": [
    "from sympy import init_session\n",
    "init_session(use_latex=True)"
   ]
  },
  {
   "cell_type": "code",
   "execution_count": 2,
   "id": "575bffbe",
   "metadata": {},
   "outputs": [],
   "source": [
    "import warnings\n",
    "import matplotlib.cbook\n",
    "warnings.filterwarnings(\"ignore\",category=matplotlib.cbook.mplDeprecation)"
   ]
  },
  {
   "cell_type": "code",
   "execution_count": 3,
   "id": "a28f4425",
   "metadata": {},
   "outputs": [],
   "source": [
    "t,r,phi,z,dt,dr,dphi,dz = symbols( 't r phi z dt dr dphi dz' ) "
   ]
  },
  {
   "cell_type": "code",
   "execution_count": 4,
   "id": "cfa7a529",
   "metadata": {},
   "outputs": [],
   "source": [
    "psi, omega, gamma = symbols( 'psi omega gamma')"
   ]
  },
  {
   "cell_type": "code",
   "execution_count": 5,
   "id": "2076f7c2",
   "metadata": {},
   "outputs": [
    {
     "data": {
      "image/png": "[encoded data removed]",
      "text/latex": [
       "$\\displaystyle \\psi{\\left(r,t \\right)}$"
      ],
      "text/plain": [
       "ψ(r, t)"
      ]
     },
     "execution_count": 5,
     "metadata": {},
     "output_type": "execute_result"
    }
   ],
   "source": [
    "psi = Function('psi')(r,t)\n",
    "psi"
   ]
  },
  {
   "cell_type": "code",
   "execution_count": 6,
   "id": "b9dc71f6",
   "metadata": {},
   "outputs": [
    {
     "data": {
      "image/png": "[encoded data removed]",
      "text/latex": [
       "$\\displaystyle \\omega{\\left(r,t \\right)}$"
      ],
      "text/plain": [
       "ω(r, t)"
      ]
     },
     "execution_count": 6,
     "metadata": {},
     "output_type": "execute_result"
    }
   ],
   "source": [
    "omega = Function('omega')(r,t)\n",
    "omega"
   ]
  },
  {
   "cell_type": "code",
   "execution_count": 7,
   "id": "aabee7de",
   "metadata": {},
   "outputs": [
    {
     "data": {
      "image/png": "[encoded data removed]",
      "text/latex": [
       "$\\displaystyle \\gamma{\\left(r,t \\right)}$"
      ],
      "text/plain": [
       "γ(r, t)"
      ]
     },
     "execution_count": 7,
     "metadata": {},
     "output_type": "execute_result"
    }
   ],
   "source": [
    "gamma = Function('gamma')(r,t)\n",
    "gamma"
   ]
  },
  {
   "cell_type": "code",
   "execution_count": 8,
   "id": "9add2ff0",
   "metadata": {},
   "outputs": [
    {
     "data": {
      "text/latex": [
       "$\\displaystyle \\left[\\begin{matrix}t\\\\r\\\\\\phi\\\\z\\end{matrix}\\right]$"
      ],
      "text/plain": [
       "⎡t⎤\n",
       "⎢ ⎥\n",
       "⎢r⎥\n",
       "⎢ ⎥\n",
       "⎢φ⎥\n",
       "⎢ ⎥\n",
       "⎣z⎦"
      ]
     },
     "execution_count": 8,
     "metadata": {},
     "output_type": "execute_result"
    }
   ],
   "source": [
    "variables = Matrix( [t,r,phi,z] )\n",
    "variables"
   ]
  },
  {
   "cell_type": "code",
   "execution_count": 9,
   "id": "5ed9b887",
   "metadata": {},
   "outputs": [
    {
     "data": {
      "text/latex": [
       "$\\displaystyle \\left[\\begin{matrix}dt\\\\dr\\\\dphi\\\\dz\\end{matrix}\\right]$"
      ],
      "text/plain": [
       "⎡ dt ⎤\n",
       "⎢    ⎥\n",
       "⎢ dr ⎥\n",
       "⎢    ⎥\n",
       "⎢dphi⎥\n",
       "⎢    ⎥\n",
       "⎣ dz ⎦"
      ]
     },
     "execution_count": 9,
     "metadata": {},
     "output_type": "execute_result"
    }
   ],
   "source": [
    "differentials = Matrix( [dt,dr,dphi,dz] ) \n",
    "differentials"
   ]
  },
  {
   "cell_type": "code",
   "execution_count": 10,
   "id": "0f95b9ce",
   "metadata": {},
   "outputs": [
    {
     "data": {
      "image/png": "[encoded data removed]",
      "text/latex": [
       "$\\displaystyle - dphi^{2} r^{2} e^{- 2 \\psi{\\left(r,t \\right)}} - dphi^{2} \\omega^{2}{\\left(r,t \\right)} e^{2 \\psi{\\left(r,t \\right)}} - 2 dphi dz \\omega{\\left(r,t \\right)} e^{2 \\psi{\\left(r,t \\right)}} - dr^{2} e^{2 \\gamma{\\left(r,t \\right)}} e^{- 2 \\psi{\\left(r,t \\right)}} + dt^{2} e^{2 \\gamma{\\left(r,t \\right)}} e^{- 2 \\psi{\\left(r,t \\right)}} - dz^{2} e^{2 \\psi{\\left(r,t \\right)}}$"
      ],
      "text/plain": [
       "      2  2  -2⋅ψ(r, t)       2  2        2⋅ψ(r, t)                      2⋅ψ(r, t)     2  2⋅γ(r, t)  -2⋅ψ(r, t)     2  2⋅γ(r\n",
       "- dphi ⋅r ⋅ℯ           - dphi ⋅ω (r, t)⋅ℯ          - 2⋅dphi⋅dz⋅ω(r, t)⋅ℯ          - dr ⋅ℯ         ⋅ℯ           + dt ⋅ℯ     \n",
       "\n",
       ", t)  -2⋅ψ(r, t)     2  2⋅ψ(r, t)\n",
       "    ⋅ℯ           - dz ⋅ℯ         "
      ]
     },
     "execution_count": 10,
     "metadata": {},
     "output_type": "execute_result"
    }
   ],
   "source": [
    "lineElement = expand(exp(2*(gamma-psi)) * (dt**2 - dr**2) - exp(2*psi) * (dz + omega * dphi)**2 - r**2*exp(-2*psi)*dphi**2)\n",
    "lineElement"
   ]
  },
  {
   "cell_type": "code",
   "execution_count": 11,
   "id": "5d044421",
   "metadata": {},
   "outputs": [
    {
     "data": {
      "text/latex": [
       "$\\displaystyle \\left[\\begin{matrix}e^{2 \\gamma{\\left(r,t \\right)}} e^{- 2 \\psi{\\left(r,t \\right)}} & 0 & 0 & 0\\\\0 & - e^{2 \\gamma{\\left(r,t \\right)}} e^{- 2 \\psi{\\left(r,t \\right)}} & 0 & 0\\\\0 & 0 & - r^{2} e^{- 2 \\psi{\\left(r,t \\right)}} - \\omega^{2}{\\left(r,t \\right)} e^{2 \\psi{\\left(r,t \\right)}} & - \\omega{\\left(r,t \\right)} e^{2 \\psi{\\left(r,t \\right)}}\\\\0 & 0 & - \\omega{\\left(r,t \\right)} e^{2 \\psi{\\left(r,t \\right)}} & - e^{2 \\psi{\\left(r,t \\right)}}\\end{matrix}\\right]$"
      ],
      "text/plain": [
       "⎡ 2⋅γ(r, t)  -2⋅ψ(r, t)                                                                                      ⎤\n",
       "⎢ℯ         ⋅ℯ                       0                               0                              0         ⎥\n",
       "⎢                                                                                                            ⎥\n",
       "⎢                          2⋅γ(r, t)  -2⋅ψ(r, t)                                                             ⎥\n",
       "⎢          0             -ℯ         ⋅ℯ                              0                              0         ⎥\n",
       "⎢                                                                                                            ⎥\n",
       "⎢                                                    2  -2⋅ψ(r, t)    2        2⋅ψ(r, t)            2⋅ψ(r, t)⎥\n",
       "⎢          0                        0             - r ⋅ℯ           - ω (r, t)⋅ℯ           -ω(r, t)⋅ℯ         ⎥\n",
       "⎢                                                                                                            ⎥\n",
       "⎢                                                                    2⋅ψ(r, t)                  2⋅ψ(r, t)    ⎥\n",
       "⎣          0                        0                      -ω(r, t)⋅ℯ                         -ℯ             ⎦"
      ]
     },
     "execution_count": 11,
     "metadata": {},
     "output_type": "execute_result"
    }
   ],
   "source": [
    "g = zeros(4)\n",
    "\n",
    "for i in range(4):\n",
    "    for j in range(4):\n",
    "        if i == j:\n",
    "            g[i,j] = lineElement.coeff( differentials[i],2 ) \n",
    "        else:\n",
    "            g[i,j] = Rational(1,2)*lineElement.coeff( differentials[i]*differentials[j],1 )\n",
    "            \n",
    "g"
   ]
  },
  {
   "cell_type": "code",
   "execution_count": 12,
   "id": "bc61b24f",
   "metadata": {},
   "outputs": [],
   "source": [
    "import sympy"
   ]
  },
  {
   "cell_type": "code",
   "execution_count": 13,
   "id": "98ddcd91",
   "metadata": {},
   "outputs": [
    {
     "data": {
      "text/latex": [
       "$\\displaystyle \\left[\\begin{matrix}e^{2 \\gamma{\\left(r,t \\right)}} e^{- 2 \\psi{\\left(r,t \\right)}} & 0 & 0 & 0\\\\0 & - e^{2 \\gamma{\\left(r,t \\right)}} e^{- 2 \\psi{\\left(r,t \\right)}} & 0 & 0\\\\0 & 0 & - r^{2} e^{- 2 \\psi{\\left(r,t \\right)}} - \\omega^{2}{\\left(r,t \\right)} e^{2 \\psi{\\left(r,t \\right)}} & - \\omega{\\left(r,t \\right)} e^{2 \\psi{\\left(r,t \\right)}}\\\\0 & 0 & - \\omega{\\left(r,t \\right)} e^{2 \\psi{\\left(r,t \\right)}} & - e^{2 \\psi{\\left(r,t \\right)}}\\end{matrix}\\right]$"
      ],
      "text/plain": [
       "⎡ 2⋅γ(r, t)  -2⋅ψ(r, t)                                                                                      ⎤\n",
       "⎢ℯ         ⋅ℯ                       0                               0                              0         ⎥\n",
       "⎢                                                                                                            ⎥\n",
       "⎢                          2⋅γ(r, t)  -2⋅ψ(r, t)                                                             ⎥\n",
       "⎢          0             -ℯ         ⋅ℯ                              0                              0         ⎥\n",
       "⎢                                                                                                            ⎥\n",
       "⎢                                                    2  -2⋅ψ(r, t)    2        2⋅ψ(r, t)            2⋅ψ(r, t)⎥\n",
       "⎢          0                        0             - r ⋅ℯ           - ω (r, t)⋅ℯ           -ω(r, t)⋅ℯ         ⎥\n",
       "⎢                                                                                                            ⎥\n",
       "⎢                                                                    2⋅ψ(r, t)                  2⋅ψ(r, t)    ⎥\n",
       "⎣          0                        0                      -ω(r, t)⋅ℯ                         -ℯ             ⎦"
      ]
     },
     "execution_count": 13,
     "metadata": {},
     "output_type": "execute_result"
    }
   ],
   "source": [
    "m = sympy.Array(g)\n",
    "m"
   ]
  },
  {
   "cell_type": "code",
   "execution_count": 14,
   "id": "59a10002",
   "metadata": {},
   "outputs": [],
   "source": [
    "from einsteinpy.symbolic import *"
   ]
  },
  {
   "cell_type": "code",
   "execution_count": 15,
   "id": "e31c4ca7",
   "metadata": {},
   "outputs": [],
   "source": [
    "syms = sympy.symbols(\"t r phi z\")\n",
    "t,r,phi,z = syms"
   ]
  },
  {
   "cell_type": "code",
   "execution_count": 16,
   "id": "ef333f87",
   "metadata": {},
   "outputs": [],
   "source": [
    "metric = MetricTensor(m,syms)"
   ]
  },
  {
   "cell_type": "code",
   "execution_count": 17,
   "id": "64252631",
   "metadata": {},
   "outputs": [
    {
     "data": {
      "text/latex": [
       "$\\displaystyle \\left[\\begin{matrix}\\left[\\begin{matrix}\\frac{\\partial}{\\partial t} \\gamma{\\left(r,t \\right)} - \\frac{\\partial}{\\partial t} \\psi{\\left(r,t \\right)} & \\frac{\\partial}{\\partial r} \\gamma{\\left(r,t \\right)} - \\frac{\\partial}{\\partial r} \\psi{\\left(r,t \\right)} & 0 & 0\\\\\\frac{\\partial}{\\partial r} \\gamma{\\left(r,t \\right)} - \\frac{\\partial}{\\partial r} \\psi{\\left(r,t \\right)} & \\frac{\\partial}{\\partial t} \\gamma{\\left(r,t \\right)} - \\frac{\\partial}{\\partial t} \\psi{\\left(r,t \\right)} & 0 & 0\\\\0 & 0 & \\left(- r^{2} \\frac{\\partial}{\\partial t} \\psi{\\left(r,t \\right)} + \\left(\\omega{\\left(r,t \\right)} \\frac{\\partial}{\\partial t} \\psi{\\left(r,t \\right)} + \\frac{\\partial}{\\partial t} \\omega{\\left(r,t \\right)}\\right) \\omega{\\left(r,t \\right)} e^{4 \\psi{\\left(r,t \\right)}}\\right) e^{- 2 \\gamma{\\left(r,t \\right)}} & \\left(\\omega{\\left(r,t \\right)} \\frac{\\partial}{\\partial t} \\psi{\\left(r,t \\right)} + \\frac{\\frac{\\partial}{\\partial t} \\omega{\\left(r,t \\right)}}{2}\\right) e^{- 2 \\gamma{\\left(r,t \\right)} + 4 \\psi{\\left(r,t \\right)}}\\\\0 & 0 & \\left(\\omega{\\left(r,t \\right)} \\frac{\\partial}{\\partial t} \\psi{\\left(r,t \\right)} + \\frac{\\frac{\\partial}{\\partial t} \\omega{\\left(r,t \\right)}}{2}\\right) e^{- 2 \\gamma{\\left(r,t \\right)} + 4 \\psi{\\left(r,t \\right)}} & e^{- 2 \\gamma{\\left(r,t \\right)} + 4 \\psi{\\left(r,t \\right)}} \\frac{\\partial}{\\partial t} \\psi{\\left(r,t \\right)}\\end{matrix}\\right] & \\left[\\begin{matrix}\\frac{\\partial}{\\partial r} \\gamma{\\left(r,t \\right)} - \\frac{\\partial}{\\partial r} \\psi{\\left(r,t \\right)} & \\frac{\\partial}{\\partial t} \\gamma{\\left(r,t \\right)} - \\frac{\\partial}{\\partial t} \\psi{\\left(r,t \\right)} & 0 & 0\\\\\\frac{\\partial}{\\partial t} \\gamma{\\left(r,t \\right)} - \\frac{\\partial}{\\partial t} \\psi{\\left(r,t \\right)} & \\frac{\\partial}{\\partial r} \\gamma{\\left(r,t \\right)} - \\frac{\\partial}{\\partial r} \\psi{\\left(r,t \\right)} & 0 & 0\\\\0 & 0 & \\left(r^{2} \\frac{\\partial}{\\partial r} \\psi{\\left(r,t \\right)} - r - \\left(\\omega{\\left(r,t \\right)} \\frac{\\partial}{\\partial r} \\psi{\\left(r,t \\right)} + \\frac{\\partial}{\\partial r} \\omega{\\left(r,t \\right)}\\right) \\omega{\\left(r,t \\right)} e^{4 \\psi{\\left(r,t \\right)}}\\right) e^{- 2 \\gamma{\\left(r,t \\right)}} & - \\left(\\omega{\\left(r,t \\right)} \\frac{\\partial}{\\partial r} \\psi{\\left(r,t \\right)} + \\frac{\\frac{\\partial}{\\partial r} \\omega{\\left(r,t \\right)}}{2}\\right) e^{- 2 \\gamma{\\left(r,t \\right)} + 4 \\psi{\\left(r,t \\right)}}\\\\0 & 0 & - \\left(\\omega{\\left(r,t \\right)} \\frac{\\partial}{\\partial r} \\psi{\\left(r,t \\right)} + \\frac{\\frac{\\partial}{\\partial r} \\omega{\\left(r,t \\right)}}{2}\\right) e^{- 2 \\gamma{\\left(r,t \\right)} + 4 \\psi{\\left(r,t \\right)}} & - e^{- 2 \\gamma{\\left(r,t \\right)} + 4 \\psi{\\left(r,t \\right)}} \\frac{\\partial}{\\partial r} \\psi{\\left(r,t \\right)}\\end{matrix}\\right] & \\left[\\begin{matrix}0 & 0 & - \\frac{\\partial}{\\partial t} \\psi{\\left(r,t \\right)} + \\frac{\\omega{\\left(r,t \\right)} e^{4 \\psi{\\left(r,t \\right)}} \\frac{\\partial}{\\partial t} \\omega{\\left(r,t \\right)}}{2 r^{2}} & \\frac{e^{4 \\psi{\\left(r,t \\right)}} \\frac{\\partial}{\\partial t} \\omega{\\left(r,t \\right)}}{2 r^{2}}\\\\0 & 0 & - \\frac{\\partial}{\\partial r} \\psi{\\left(r,t \\right)} + \\frac{1}{r} + \\frac{\\omega{\\left(r,t \\right)} e^{4 \\psi{\\left(r,t \\right)}} \\frac{\\partial}{\\partial r} \\omega{\\left(r,t \\right)}}{2 r^{2}} & \\frac{e^{4 \\psi{\\left(r,t \\right)}} \\frac{\\partial}{\\partial r} \\omega{\\left(r,t \\right)}}{2 r^{2}}\\\\- \\frac{\\partial}{\\partial t} \\psi{\\left(r,t \\right)} + \\frac{\\omega{\\left(r,t \\right)} e^{4 \\psi{\\left(r,t \\right)}} \\frac{\\partial}{\\partial t} \\omega{\\left(r,t \\right)}}{2 r^{2}} & - \\frac{\\partial}{\\partial r} \\psi{\\left(r,t \\right)} + \\frac{1}{r} + \\frac{\\omega{\\left(r,t \\right)} e^{4 \\psi{\\left(r,t \\right)}} \\frac{\\partial}{\\partial r} \\omega{\\left(r,t \\right)}}{2 r^{2}} & 0 & 0\\\\\\frac{e^{4 \\psi{\\left(r,t \\right)}} \\frac{\\partial}{\\partial t} \\omega{\\left(r,t \\right)}}{2 r^{2}} & \\frac{e^{4 \\psi{\\left(r,t \\right)}} \\frac{\\partial}{\\partial r} \\omega{\\left(r,t \\right)}}{2 r^{2}} & 0 & 0\\end{matrix}\\right] & \\left[\\begin{matrix}0 & 0 & 2 \\omega{\\left(r,t \\right)} \\frac{\\partial}{\\partial t} \\psi{\\left(r,t \\right)} + \\frac{\\frac{\\partial}{\\partial t} \\omega{\\left(r,t \\right)}}{2} - \\frac{\\omega^{2}{\\left(r,t \\right)} e^{4 \\psi{\\left(r,t \\right)}} \\frac{\\partial}{\\partial t} \\omega{\\left(r,t \\right)}}{2 r^{2}} & \\frac{\\partial}{\\partial t} \\psi{\\left(r,t \\right)} - \\frac{\\omega{\\left(r,t \\right)} e^{4 \\psi{\\left(r,t \\right)}} \\frac{\\partial}{\\partial t} \\omega{\\left(r,t \\right)}}{2 r^{2}}\\\\0 & 0 & 2 \\omega{\\left(r,t \\right)} \\frac{\\partial}{\\partial r} \\psi{\\left(r,t \\right)} + \\frac{\\frac{\\partial}{\\partial r} \\omega{\\left(r,t \\right)}}{2} - \\frac{\\omega{\\left(r,t \\right)}}{r} - \\frac{\\omega^{2}{\\left(r,t \\right)} e^{4 \\psi{\\left(r,t \\right)}} \\frac{\\partial}{\\partial r} \\omega{\\left(r,t \\right)}}{2 r^{2}} & \\frac{\\partial}{\\partial r} \\psi{\\left(r,t \\right)} - \\frac{\\omega{\\left(r,t \\right)} e^{4 \\psi{\\left(r,t \\right)}} \\frac{\\partial}{\\partial r} \\omega{\\left(r,t \\right)}}{2 r^{2}}\\\\2 \\omega{\\left(r,t \\right)} \\frac{\\partial}{\\partial t} \\psi{\\left(r,t \\right)} + \\frac{\\frac{\\partial}{\\partial t} \\omega{\\left(r,t \\right)}}{2} - \\frac{\\omega^{2}{\\left(r,t \\right)} e^{4 \\psi{\\left(r,t \\right)}} \\frac{\\partial}{\\partial t} \\omega{\\left(r,t \\right)}}{2 r^{2}} & 2 \\omega{\\left(r,t \\right)} \\frac{\\partial}{\\partial r} \\psi{\\left(r,t \\right)} + \\frac{\\frac{\\partial}{\\partial r} \\omega{\\left(r,t \\right)}}{2} - \\frac{\\omega{\\left(r,t \\right)}}{r} - \\frac{\\omega^{2}{\\left(r,t \\right)} e^{4 \\psi{\\left(r,t \\right)}} \\frac{\\partial}{\\partial r} \\omega{\\left(r,t \\right)}}{2 r^{2}} & 0 & 0\\\\\\frac{\\partial}{\\partial t} \\psi{\\left(r,t \\right)} - \\frac{\\omega{\\left(r,t \\right)} e^{4 \\psi{\\left(r,t \\right)}} \\frac{\\partial}{\\partial t} \\omega{\\left(r,t \\right)}}{2 r^{2}} & \\frac{\\partial}{\\partial r} \\psi{\\left(r,t \\right)} - \\frac{\\omega{\\left(r,t \\right)} e^{4 \\psi{\\left(r,t \\right)}} \\frac{\\partial}{\\partial r} \\omega{\\left(r,t \\right)}}{2 r^{2}} & 0 & 0\\end{matrix}\\right]\\end{matrix}\\right]$"
      ],
      "text/plain": [
       "⎡                                                                                                                          \n",
       "⎢                                                                                                                          \n",
       "⎢                                                                                                                          \n",
       "⎢                                                                                                                          \n",
       "⎢⎡∂             ∂            ∂             ∂                                                                               \n",
       "⎢⎢──(γ(r, t)) - ──(ψ(r, t))  ──(γ(r, t)) - ──(ψ(r, t))                                             0                       \n",
       "⎢⎢∂t            ∂t           ∂r            ∂r                                                                              \n",
       "⎢⎢                                                                                                                         \n",
       "⎢⎢∂             ∂            ∂             ∂                                                                               \n",
       "⎢⎢──(γ(r, t)) - ──(ψ(r, t))  ──(γ(r, t)) - ──(ψ(r, t))                                             0                       \n",
       "⎢⎢∂r            ∂r           ∂t            ∂t                                                                              \n",
       "⎢⎢                                                                                                                         \n",
       "⎢⎢                                                                                                                         \n",
       "⎢⎢                                                                                                                         \n",
       "⎢⎢                                                      ⎛   2 ∂             ⎛        ∂             ∂          ⎞          4⋅\n",
       "⎢⎢            0                          0              ⎜- r ⋅──(ψ(r, t)) + ⎜ω(r, t)⋅──(ψ(r, t)) + ──(ω(r, t))⎟⋅ω(r, t)⋅ℯ  \n",
       "⎢⎢                                                      ⎝     ∂t            ⎝        ∂t            ∂t         ⎠            \n",
       "⎢⎢                                                                                                                         \n",
       "⎢⎢                                                                    ⎛                      ∂          ⎞                  \n",
       "⎢⎢                                                                    ⎜                      ──(ω(r, t))⎟                  \n",
       "⎢⎢                                                                    ⎜        ∂             ∂t         ⎟  -2⋅γ(r, t) + 4⋅ψ\n",
       "⎢⎢            0                          0                            ⎜ω(r, t)⋅──(ψ(r, t)) + ───────────⎟⋅ℯ                \n",
       "⎢⎣                                                                    ⎝        ∂t                 2     ⎠                  \n",
       "⎢                                                                                                                          \n",
       "⎢                                                                                                                          \n",
       "⎢                                                                                                                          \n",
       "⎣                                                                                                                          \n",
       "\n",
       "                                                                                                                           \n",
       "                                                                                                                           \n",
       "                                                                                                                           \n",
       "                                                                                                                           \n",
       "                                                                                 ⎤  ⎡∂             ∂            ∂          \n",
       "                                                   0                             ⎥  ⎢──(γ(r, t)) - ──(ψ(r, t))  ──(γ(r, t))\n",
       "                                                                                 ⎥  ⎢∂r            ∂r           ∂t         \n",
       "                                                                                 ⎥  ⎢                                      \n",
       "                                                                                 ⎥  ⎢∂             ∂            ∂          \n",
       "                                                   0                             ⎥  ⎢──(γ(r, t)) - ──(ψ(r, t))  ──(γ(r, t))\n",
       "                                                                                 ⎥  ⎢∂t            ∂t           ∂r         \n",
       "                                                                                 ⎥  ⎢                                      \n",
       "                      ⎛                      ∂          ⎞                        ⎥  ⎢                                      \n",
       "                      ⎜                      ──(ω(r, t))⎟                        ⎥  ⎢                                      \n",
       "ψ(r, t)⎞  -2⋅γ(r, t)  ⎜        ∂             ∂t         ⎟  -2⋅γ(r, t) + 4⋅ψ(r, t)⎥  ⎢                                      \n",
       "       ⎟⋅ℯ            ⎜ω(r, t)⋅──(ψ(r, t)) + ───────────⎟⋅ℯ                      ⎥  ⎢            0                         \n",
       "       ⎠              ⎝        ∂t                 2     ⎠                        ⎥  ⎢                                      \n",
       "                                                                                 ⎥  ⎢                                      \n",
       "                                                                                 ⎥  ⎢                                      \n",
       "                                                                                 ⎥  ⎢                                      \n",
       "(r, t)                             -2⋅γ(r, t) + 4⋅ψ(r, t) ∂                      ⎥  ⎢                                      \n",
       "                                  ℯ                      ⋅──(ψ(r, t))            ⎥  ⎢            0                         \n",
       "                                                          ∂t                     ⎦  ⎣                                      \n",
       "                                                                                                                           \n",
       "                                                                                                                           \n",
       "                                                                                                                           \n",
       "                                                                                                                           \n",
       "\n",
       "                                                                                                                           \n",
       "                                                                                                                           \n",
       "                                                                                                                           \n",
       "                                                                                                                           \n",
       "   ∂                                                                                                                       \n",
       " - ──(ψ(r, t))                                              0                                                              \n",
       "   ∂t                                                                                                                      \n",
       "                                                                                                                           \n",
       "   ∂                                                                                                                       \n",
       " - ──(ψ(r, t))                                              0                                                              \n",
       "   ∂r                                                                                                                      \n",
       "                                                                                                                           \n",
       "                                                                                                            ⎛              \n",
       "                                                                                                            ⎜              \n",
       "                ⎛ 2 ∂                 ⎛        ∂             ∂          ⎞          4⋅ψ(r, t)⎞  -2⋅γ(r, t)   ⎜        ∂     \n",
       " 0              ⎜r ⋅──(ψ(r, t)) - r - ⎜ω(r, t)⋅──(ψ(r, t)) + ──(ω(r, t))⎟⋅ω(r, t)⋅ℯ         ⎟⋅ℯ            -⎜ω(r, t)⋅──(ψ(r\n",
       "                ⎝   ∂r                ⎝        ∂r            ∂r         ⎠                   ⎠               ⎝        ∂r    \n",
       "                                                                                                                           \n",
       "                               ⎛                      ∂          ⎞                                                         \n",
       "                               ⎜                      ──(ω(r, t))⎟                                                         \n",
       "                               ⎜        ∂             ∂r         ⎟  -2⋅γ(r, t) + 4⋅ψ(r, t)                               -2\n",
       " 0                            -⎜ω(r, t)⋅──(ψ(r, t)) + ───────────⎟⋅ℯ                                                   -ℯ  \n",
       "                               ⎝        ∂r                 2     ⎠                                                         \n",
       "                                                                                                                           \n",
       "                                                                                                                           \n",
       "                                                                                                                           \n",
       "                                                                                                                           \n",
       "\n",
       "                                               ⎡                                                                           \n",
       "                                               ⎢                                                                           \n",
       "                                               ⎢                                                                           \n",
       "                                               ⎢                      0                                                 0  \n",
       "                                            ⎤  ⎢                                                                           \n",
       "             0                              ⎥  ⎢                                                                           \n",
       "                                            ⎥  ⎢                                                                           \n",
       "                                            ⎥  ⎢                                                                           \n",
       "                                            ⎥  ⎢                                                                           \n",
       "             0                              ⎥  ⎢                                                                           \n",
       "                                            ⎥  ⎢                      0                                                 0  \n",
       "                                            ⎥  ⎢                                                                           \n",
       "        ∂          ⎞                        ⎥  ⎢                                                                           \n",
       "        ──(ω(r, t))⎟                        ⎥  ⎢                                                                           \n",
       "        ∂r         ⎟  -2⋅γ(r, t) + 4⋅ψ(r, t)⎥  ⎢                         4⋅ψ(r, t) ∂                                       \n",
       ", t)) + ───────────⎟⋅ℯ                      ⎥  ⎢                ω(r, t)⋅ℯ         ⋅──(ω(r, t))                      ω(r, t)\n",
       "             2     ⎠                        ⎥  ⎢  ∂                                ∂t             ∂             1          \n",
       "                                            ⎥  ⎢- ──(ψ(r, t)) + ──────────────────────────────  - ──(ψ(r, t)) + ─ + ───────\n",
       "                                            ⎥  ⎢  ∂t                            2                 ∂r            r          \n",
       "                                            ⎥  ⎢                             2⋅r                                           \n",
       "⋅γ(r, t) + 4⋅ψ(r, t) ∂                      ⎥  ⎢                                                                           \n",
       "                    ⋅──(ψ(r, t))            ⎥  ⎢             4⋅ψ(r, t) ∂                                       4⋅ψ(r, t) ∂ \n",
       "                     ∂r                     ⎦  ⎢            ℯ         ⋅──(ω(r, t))                            ℯ         ⋅──\n",
       "                                               ⎢                       ∂t                                                ∂r\n",
       "                                               ⎢            ──────────────────────                            ─────────────\n",
       "                                               ⎢                        2                                                 2\n",
       "                                               ⎣                     2⋅r                                               2⋅r \n",
       "\n",
       "                                                    4⋅ψ(r, t) ∂               4⋅ψ(r, t) ∂          ⎤  ⎡                    \n",
       "                                           ω(r, t)⋅ℯ         ⋅──(ω(r, t))    ℯ         ⋅──(ω(r, t))⎥  ⎢                    \n",
       "                             ∂                                ∂t                        ∂t         ⎥  ⎢                    \n",
       "                           - ──(ψ(r, t)) + ──────────────────────────────    ──────────────────────⎥  ⎢                    \n",
       "                             ∂t                            2                             2         ⎥  ⎢                    \n",
       "                                                        2⋅r                           2⋅r          ⎥  ⎢                    \n",
       "                                                                                                   ⎥  ⎢                    \n",
       "                                                      4⋅ψ(r, t) ∂             4⋅ψ(r, t) ∂          ⎥  ⎢                    \n",
       "                                             ω(r, t)⋅ℯ         ⋅──(ω(r, t))  ℯ         ⋅──(ω(r, t))⎥  ⎢                    \n",
       "                           ∂             1                      ∂r                      ∂r         ⎥  ⎢                    \n",
       "                         - ──(ψ(r, t)) + ─ + ──────────────────────────────  ──────────────────────⎥  ⎢                    \n",
       "                           ∂r            r                   2                           2         ⎥  ⎢                    \n",
       "                                                          2⋅r                         2⋅r          ⎥  ⎢                    \n",
       "                                                                                                   ⎥  ⎢                    \n",
       "  4⋅ψ(r, t) ∂                                                                                      ⎥  ⎢                    \n",
       "⋅ℯ         ⋅──(ω(r, t))                                                                            ⎥  ⎢                    \n",
       "            ∂r                                                                                     ⎥  ⎢          ∂         \n",
       "───────────────────────                          0                                     0           ⎥  ⎢2⋅ω(r, t)⋅──(ψ(r, t)\n",
       "         2                                                                                         ⎥  ⎢          ∂t        \n",
       "      2⋅r                                                                                          ⎥  ⎢                    \n",
       "                                                                                                   ⎥  ⎢                    \n",
       "                                                                                                   ⎥  ⎢                    \n",
       "(ω(r, t))                                                                                          ⎥  ⎢                    \n",
       "                                                                                                   ⎥  ⎢            ∂       \n",
       "─────────                                        0                                     0           ⎥  ⎢            ──(ψ(r, \n",
       "                                                                                                   ⎥  ⎢            ∂t      \n",
       "                                                                                                   ⎦  ⎣                    \n",
       "\n",
       "                                                                                                                           \n",
       "                                                                                                                           \n",
       "                                                                                                                           \n",
       "              0                                                                           0                                \n",
       "                                                                                                                           \n",
       "                                                                                                                           \n",
       "                                                                                                                           \n",
       "                                                                                                                           \n",
       "                                                                                                                           \n",
       "                                                                                                                           \n",
       "              0                                                                           0                                \n",
       "                                                                                                                           \n",
       "                                                                                                                           \n",
       "                                                                                                                           \n",
       "    ∂              2        4⋅ψ(r, t) ∂                                    ∂                        2        4⋅ψ(r, t) ∂   \n",
       "    ──(ω(r, t))   ω (r, t)⋅ℯ         ⋅──(ω(r, t))                          ──(ω(r, t))             ω (r, t)⋅ℯ         ⋅──(ω\n",
       "    ∂t                                ∂t                     ∂             ∂r            ω(r, t)                       ∂r  \n",
       ") + ─────────── - ───────────────────────────────  2⋅ω(r, t)⋅──(ψ(r, t)) + ─────────── - ─────── - ────────────────────────\n",
       "         2                         2                         ∂r                 2           r                       2      \n",
       "                                2⋅r                                                                              2⋅r       \n",
       "                                                                                                                           \n",
       "               4⋅ψ(r, t) ∂                                                                 4⋅ψ(r, t) ∂                     \n",
       "      ω(r, t)⋅ℯ         ⋅──(ω(r, t))                                              ω(r, t)⋅ℯ         ⋅──(ω(r, t))           \n",
       "                         ∂t                                         ∂                                ∂r                    \n",
       "t)) - ──────────────────────────────                                ──(ψ(r, t)) - ──────────────────────────────           \n",
       "                      2                                             ∂r                            2                        \n",
       "                   2⋅r                                                                         2⋅r                         \n",
       "\n",
       "                                      ∂              2        4⋅ψ(r, t) ∂                                        4⋅ψ(r, t) \n",
       "                                      ──(ω(r, t))   ω (r, t)⋅ℯ         ⋅──(ω(r, t))                     ω(r, t)⋅ℯ         ⋅\n",
       "                        ∂             ∂t                                ∂t                ∂                                \n",
       "              2⋅ω(r, t)⋅──(ψ(r, t)) + ─────────── - ───────────────────────────────       ──(ψ(r, t)) - ───────────────────\n",
       "                        ∂t                 2                         2                    ∂t                            2  \n",
       "                                                                  2⋅r                                                2⋅r   \n",
       "                                                                                                                           \n",
       "                                 ∂                        2        4⋅ψ(r, t) ∂                                   4⋅ψ(r, t) \n",
       "                                 ──(ω(r, t))             ω (r, t)⋅ℯ         ⋅──(ω(r, t))                ω(r, t)⋅ℯ         ⋅\n",
       "                   ∂             ∂r            ω(r, t)                       ∂r           ∂                                \n",
       "         2⋅ω(r, t)⋅──(ψ(r, t)) + ─────────── - ─────── - ───────────────────────────────  ──(ψ(r, t)) - ───────────────────\n",
       "                   ∂r                 2           r                       2               ∂r                            2  \n",
       "                                                                       2⋅r                                           2⋅r   \n",
       "                                                                                                                           \n",
       "                                                                                                                           \n",
       "(r, t))                                                                                                                    \n",
       "                                                                                                                           \n",
       "───────                                         0                                                              0           \n",
       "                                                                                                                           \n",
       "                                                                                                                           \n",
       "                                                                                                                           \n",
       "                                                                                                                           \n",
       "                                                                                                                           \n",
       "                                                                                                                           \n",
       "                                                0                                                              0           \n",
       "                                                                                                                           \n",
       "                                                                                                                           \n",
       "\n",
       "∂          ⎤⎤\n",
       "──(ω(r, t))⎥⎥\n",
       "∂t         ⎥⎥\n",
       "───────────⎥⎥\n",
       "           ⎥⎥\n",
       "           ⎥⎥\n",
       "           ⎥⎥\n",
       "∂          ⎥⎥\n",
       "──(ω(r, t))⎥⎥\n",
       "∂r         ⎥⎥\n",
       "───────────⎥⎥\n",
       "           ⎥⎥\n",
       "           ⎥⎥\n",
       "           ⎥⎥\n",
       "           ⎥⎥\n",
       "           ⎥⎥\n",
       "           ⎥⎥\n",
       "           ⎥⎥\n",
       "           ⎥⎥\n",
       "           ⎥⎥\n",
       "           ⎥⎥\n",
       "           ⎥⎥\n",
       "           ⎥⎥\n",
       "           ⎥⎥\n",
       "           ⎥⎥\n",
       "           ⎥⎥\n",
       "           ⎦⎦"
      ]
     },
     "execution_count": 17,
     "metadata": {},
     "output_type": "execute_result"
    }
   ],
   "source": [
    "ch = ChristoffelSymbols.from_metric(metric)\n",
    "simplify(ch.tensor())"
   ]
  },
  {
   "cell_type": "code",
   "execution_count": 18,
   "id": "66bb6a6f",
   "metadata": {},
   "outputs": [
    {
     "data": {
      "text/latex": [
       "$\\displaystyle \\left[\\begin{matrix}\\frac{\\partial^{2}}{\\partial r^{2}} \\gamma{\\left(r,t \\right)} - \\frac{\\partial^{2}}{\\partial t^{2}} \\gamma{\\left(r,t \\right)} - \\frac{\\partial^{2}}{\\partial r^{2}} \\psi{\\left(r,t \\right)} - 2 \\left(\\frac{\\partial}{\\partial t} \\psi{\\left(r,t \\right)}\\right)^{2} + \\frac{\\partial^{2}}{\\partial t^{2}} \\psi{\\left(r,t \\right)} + \\frac{\\frac{\\partial}{\\partial r} \\gamma{\\left(r,t \\right)}}{r} - \\frac{\\frac{\\partial}{\\partial r} \\psi{\\left(r,t \\right)}}{r} - \\frac{e^{4 \\psi{\\left(r,t \\right)}} \\left(\\frac{\\partial}{\\partial t} \\omega{\\left(r,t \\right)}\\right)^{2}}{2 r^{2}} & - 2 \\frac{\\partial}{\\partial r} \\psi{\\left(r,t \\right)} \\frac{\\partial}{\\partial t} \\psi{\\left(r,t \\right)} + \\frac{\\frac{\\partial}{\\partial t} \\gamma{\\left(r,t \\right)}}{r} - \\frac{e^{4 \\psi{\\left(r,t \\right)}} \\frac{\\partial}{\\partial r} \\omega{\\left(r,t \\right)} \\frac{\\partial}{\\partial t} \\omega{\\left(r,t \\right)}}{2 r^{2}} & 0 & 0\\\\- 2 \\frac{\\partial}{\\partial r} \\psi{\\left(r,t \\right)} \\frac{\\partial}{\\partial t} \\psi{\\left(r,t \\right)} + \\frac{\\frac{\\partial}{\\partial t} \\gamma{\\left(r,t \\right)}}{r} - \\frac{e^{4 \\psi{\\left(r,t \\right)}} \\frac{\\partial}{\\partial r} \\omega{\\left(r,t \\right)} \\frac{\\partial}{\\partial t} \\omega{\\left(r,t \\right)}}{2 r^{2}} & - \\frac{\\partial^{2}}{\\partial r^{2}} \\gamma{\\left(r,t \\right)} + \\frac{\\partial^{2}}{\\partial t^{2}} \\gamma{\\left(r,t \\right)} - 2 \\left(\\frac{\\partial}{\\partial r} \\psi{\\left(r,t \\right)}\\right)^{2} + \\frac{\\partial^{2}}{\\partial r^{2}} \\psi{\\left(r,t \\right)} - \\frac{\\partial^{2}}{\\partial t^{2}} \\psi{\\left(r,t \\right)} + \\frac{\\frac{\\partial}{\\partial r} \\gamma{\\left(r,t \\right)}}{r} + \\frac{\\frac{\\partial}{\\partial r} \\psi{\\left(r,t \\right)}}{r} - \\frac{e^{4 \\psi{\\left(r,t \\right)}} \\left(\\frac{\\partial}{\\partial r} \\omega{\\left(r,t \\right)}\\right)^{2}}{2 r^{2}} & 0 & 0\\\\0 & 0 & \\frac{\\left(r^{4} \\frac{\\partial^{2}}{\\partial r^{2}} \\psi{\\left(r,t \\right)} - r^{4} \\frac{\\partial^{2}}{\\partial t^{2}} \\psi{\\left(r,t \\right)} + r^{3} \\frac{\\partial}{\\partial r} \\psi{\\left(r,t \\right)} - r^{2} \\omega^{2}{\\left(r,t \\right)} e^{4 \\psi{\\left(r,t \\right)}} \\frac{\\partial^{2}}{\\partial r^{2}} \\psi{\\left(r,t \\right)} + r^{2} \\omega^{2}{\\left(r,t \\right)} e^{4 \\psi{\\left(r,t \\right)}} \\frac{\\partial^{2}}{\\partial t^{2}} \\psi{\\left(r,t \\right)} - 4 r^{2} \\omega{\\left(r,t \\right)} e^{4 \\psi{\\left(r,t \\right)}} \\frac{\\partial}{\\partial r} \\omega{\\left(r,t \\right)} \\frac{\\partial}{\\partial r} \\psi{\\left(r,t \\right)} - r^{2} \\omega{\\left(r,t \\right)} e^{4 \\psi{\\left(r,t \\right)}} \\frac{\\partial^{2}}{\\partial r^{2}} \\omega{\\left(r,t \\right)} + 4 r^{2} \\omega{\\left(r,t \\right)} e^{4 \\psi{\\left(r,t \\right)}} \\frac{\\partial}{\\partial t} \\omega{\\left(r,t \\right)} \\frac{\\partial}{\\partial t} \\psi{\\left(r,t \\right)} + r^{2} \\omega{\\left(r,t \\right)} e^{4 \\psi{\\left(r,t \\right)}} \\frac{\\partial^{2}}{\\partial t^{2}} \\omega{\\left(r,t \\right)} - \\frac{r^{2} e^{4 \\psi{\\left(r,t \\right)}} \\left(\\frac{\\partial}{\\partial r} \\omega{\\left(r,t \\right)}\\right)^{2}}{2} + \\frac{r^{2} e^{4 \\psi{\\left(r,t \\right)}} \\left(\\frac{\\partial}{\\partial t} \\omega{\\left(r,t \\right)}\\right)^{2}}{2} - r \\omega^{2}{\\left(r,t \\right)} e^{4 \\psi{\\left(r,t \\right)}} \\frac{\\partial}{\\partial r} \\psi{\\left(r,t \\right)} + r \\omega{\\left(r,t \\right)} e^{4 \\psi{\\left(r,t \\right)}} \\frac{\\partial}{\\partial r} \\omega{\\left(r,t \\right)} + \\frac{\\omega^{2}{\\left(r,t \\right)} e^{8 \\psi{\\left(r,t \\right)}} \\left(\\frac{\\partial}{\\partial r} \\omega{\\left(r,t \\right)}\\right)^{2}}{2} - \\frac{\\omega^{2}{\\left(r,t \\right)} e^{8 \\psi{\\left(r,t \\right)}} \\left(\\frac{\\partial}{\\partial t} \\omega{\\left(r,t \\right)}\\right)^{2}}{2}\\right) e^{- 2 \\gamma{\\left(r,t \\right)}}}{r^{2}} & \\frac{\\left(- 2 r^{2} \\omega{\\left(r,t \\right)} \\frac{\\partial^{2}}{\\partial r^{2}} \\psi{\\left(r,t \\right)} + 2 r^{2} \\omega{\\left(r,t \\right)} \\frac{\\partial^{2}}{\\partial t^{2}} \\psi{\\left(r,t \\right)} - 4 r^{2} \\frac{\\partial}{\\partial r} \\omega{\\left(r,t \\right)} \\frac{\\partial}{\\partial r} \\psi{\\left(r,t \\right)} - r^{2} \\frac{\\partial^{2}}{\\partial r^{2}} \\omega{\\left(r,t \\right)} + 4 r^{2} \\frac{\\partial}{\\partial t} \\omega{\\left(r,t \\right)} \\frac{\\partial}{\\partial t} \\psi{\\left(r,t \\right)} + r^{2} \\frac{\\partial^{2}}{\\partial t^{2}} \\omega{\\left(r,t \\right)} - 2 r \\omega{\\left(r,t \\right)} \\frac{\\partial}{\\partial r} \\psi{\\left(r,t \\right)} + r \\frac{\\partial}{\\partial r} \\omega{\\left(r,t \\right)} + \\omega{\\left(r,t \\right)} e^{4 \\psi{\\left(r,t \\right)}} \\left(\\frac{\\partial}{\\partial r} \\omega{\\left(r,t \\right)}\\right)^{2} - \\omega{\\left(r,t \\right)} e^{4 \\psi{\\left(r,t \\right)}} \\left(\\frac{\\partial}{\\partial t} \\omega{\\left(r,t \\right)}\\right)^{2}\\right) e^{- 2 \\gamma{\\left(r,t \\right)} + 4 \\psi{\\left(r,t \\right)}}}{2 r^{2}}\\\\0 & 0 & \\frac{\\left(- 2 r^{2} \\omega{\\left(r,t \\right)} \\frac{\\partial^{2}}{\\partial r^{2}} \\psi{\\left(r,t \\right)} + 2 r^{2} \\omega{\\left(r,t \\right)} \\frac{\\partial^{2}}{\\partial t^{2}} \\psi{\\left(r,t \\right)} - 4 r^{2} \\frac{\\partial}{\\partial r} \\omega{\\left(r,t \\right)} \\frac{\\partial}{\\partial r} \\psi{\\left(r,t \\right)} - r^{2} \\frac{\\partial^{2}}{\\partial r^{2}} \\omega{\\left(r,t \\right)} + 4 r^{2} \\frac{\\partial}{\\partial t} \\omega{\\left(r,t \\right)} \\frac{\\partial}{\\partial t} \\psi{\\left(r,t \\right)} + r^{2} \\frac{\\partial^{2}}{\\partial t^{2}} \\omega{\\left(r,t \\right)} - 2 r \\omega{\\left(r,t \\right)} \\frac{\\partial}{\\partial r} \\psi{\\left(r,t \\right)} + r \\frac{\\partial}{\\partial r} \\omega{\\left(r,t \\right)} + \\omega{\\left(r,t \\right)} e^{4 \\psi{\\left(r,t \\right)}} \\left(\\frac{\\partial}{\\partial r} \\omega{\\left(r,t \\right)}\\right)^{2} - \\omega{\\left(r,t \\right)} e^{4 \\psi{\\left(r,t \\right)}} \\left(\\frac{\\partial}{\\partial t} \\omega{\\left(r,t \\right)}\\right)^{2}\\right) e^{- 2 \\gamma{\\left(r,t \\right)} + 4 \\psi{\\left(r,t \\right)}}}{2 r^{2}} & \\frac{\\left(- r^{2} \\frac{\\partial^{2}}{\\partial r^{2}} \\psi{\\left(r,t \\right)} + r^{2} \\frac{\\partial^{2}}{\\partial t^{2}} \\psi{\\left(r,t \\right)} - r \\frac{\\partial}{\\partial r} \\psi{\\left(r,t \\right)} + \\frac{e^{4 \\psi{\\left(r,t \\right)}} \\left(\\frac{\\partial}{\\partial r} \\omega{\\left(r,t \\right)}\\right)^{2}}{2} - \\frac{e^{4 \\psi{\\left(r,t \\right)}} \\left(\\frac{\\partial}{\\partial t} \\omega{\\left(r,t \\right)}\\right)^{2}}{2}\\right) e^{- 2 \\gamma{\\left(r,t \\right)} + 4 \\psi{\\left(r,t \\right)}}}{r^{2}}\\end{matrix}\\right]$"
      ],
      "text/plain": [
       "⎡                                                                                                                          \n",
       "⎢                                                                               ∂             ∂              4⋅ψ(r, t) ⎛∂  \n",
       "⎢  2              2              2                           2     2            ──(γ(r, t))   ──(ψ(r, t))   ℯ         ⋅⎜──(\n",
       "⎢ ∂              ∂              ∂               ⎛∂          ⎞     ∂             ∂r            ∂r                       ⎝∂t \n",
       "⎢───(γ(r, t)) - ───(γ(r, t)) - ───(ψ(r, t)) - 2⋅⎜──(ψ(r, t))⎟  + ───(ψ(r, t)) + ─────────── - ─────────── - ───────────────\n",
       "⎢  2              2              2              ⎝∂t         ⎠      2                 r             r                      2\n",
       "⎢∂r             ∂t             ∂r                                ∂t                                                    2⋅r \n",
       "⎢                                                                                                                          \n",
       "⎢                                                                                                                          \n",
       "⎢                                                         ∂              4⋅ψ(r, t) ∂           ∂                           \n",
       "⎢                                                         ──(γ(r, t))   ℯ         ⋅──(ω(r, t))⋅──(ω(r, t))                 \n",
       "⎢                               ∂           ∂             ∂t                       ∂r          ∂t                          \n",
       "⎢                           - 2⋅──(ψ(r, t))⋅──(ψ(r, t)) + ─────────── - ──────────────────────────────────                 \n",
       "⎢                               ∂r          ∂t                 r                          2                                \n",
       "⎢                                                                                      2⋅r                                 \n",
       "⎢                                                                                                                          \n",
       "⎢                                                                                                                          \n",
       "⎢                                                                                                                          \n",
       "⎢                                                                                                                          \n",
       "⎢                                                                                                                          \n",
       "⎢                                                                                                                          \n",
       "⎢                                                                                                                          \n",
       "⎢                                                                                                                          \n",
       "⎢                                                                 0                                                        \n",
       "⎢                                                                                                                          \n",
       "⎢                                                                                                                          \n",
       "⎢                                                                                                                          \n",
       "⎢                                                                                                                          \n",
       "⎢                                                                                                                          \n",
       "⎢                                                                                                                          \n",
       "⎢                                                                                                                          \n",
       "⎢                                                                                                                          \n",
       "⎢                                                                                                                          \n",
       "⎢                                                                                                                          \n",
       "⎢                                                                 0                                                        \n",
       "⎢                                                                                                                          \n",
       "⎣                                                                                                                          \n",
       "\n",
       "         2                                                                                                                 \n",
       "        ⎞                                                             ∂              4⋅ψ(r, t) ∂           ∂               \n",
       "ω(r, t))⎟                                                             ──(γ(r, t))   ℯ         ⋅──(ω(r, t))⋅──(ω(r, t))     \n",
       "        ⎠                                   ∂           ∂             ∂t                       ∂r          ∂t              \n",
       "──────────                              - 2⋅──(ψ(r, t))⋅──(ψ(r, t)) + ─────────── - ──────────────────────────────────     \n",
       "                                            ∂r          ∂t                 r                          2                    \n",
       "                                                                                                   2⋅r                     \n",
       "                                                                                                                           \n",
       "                                                                                                                           \n",
       "                                                                                             ∂             ∂              4\n",
       "                2              2                           2     2              2            ──(γ(r, t))   ──(ψ(r, t))   ℯ \n",
       "               ∂              ∂               ⎛∂          ⎞     ∂              ∂             ∂r            ∂r              \n",
       "            - ───(γ(r, t)) + ───(γ(r, t)) - 2⋅⎜──(ψ(r, t))⎟  + ───(ψ(r, t)) - ───(ψ(r, t)) + ─────────── + ─────────── - ──\n",
       "                2              2              ⎝∂r         ⎠      2              2                 r             r          \n",
       "              ∂r             ∂t                                ∂r             ∂t                                           \n",
       "                                                                                                                           \n",
       "                                                                                                                           \n",
       "                                                                                                                           \n",
       "                                                                                                                           \n",
       "                                                                                                                           \n",
       "                                                                                                                           \n",
       "                                                                                                                           \n",
       "                                                                                                                           \n",
       "                                                                              0                                            \n",
       "                                                                                                                           \n",
       "                                                                                                                           \n",
       "                                                                                                                           \n",
       "                                                                                                                           \n",
       "                                                                                                                           \n",
       "                                                                                                                           \n",
       "                                                                                                                           \n",
       "                                                                                                                           \n",
       "                                                                                                                           \n",
       "                                                                                                                           \n",
       "                                                                              0                                            \n",
       "                                                                                                                           \n",
       "                                                                                                                           \n",
       "\n",
       "                                                                                                                           \n",
       "                                                                                                                           \n",
       "                                                                                                                           \n",
       "                                                                                                                           \n",
       "                                                                                                                           \n",
       "                                                                                                                           \n",
       "                                                                                                                           \n",
       "                                                                                                                           \n",
       "                      2                                                                                                    \n",
       "⋅ψ(r, t) ⎛∂          ⎞                                                                                                     \n",
       "        ⋅⎜──(ω(r, t))⎟                                                                                                     \n",
       "         ⎝∂r         ⎠                                                                                                     \n",
       "───────────────────────                                                                                                    \n",
       "            2                                                                                                              \n",
       "         2⋅r                                                                                                               \n",
       "                                                                                                                           \n",
       "                         ⎛                                                                                                 \n",
       "                         ⎜                                                                                                 \n",
       "                         ⎜     2                 2                                                      2                  \n",
       "                         ⎜ 4  ∂              4  ∂              3 ∂              2  2        4⋅ψ(r, t)  ∂              2  2 \n",
       "                         ⎜r ⋅───(ψ(r, t)) - r ⋅───(ψ(r, t)) + r ⋅──(ψ(r, t)) - r ⋅ω (r, t)⋅ℯ         ⋅───(ψ(r, t)) + r ⋅ω (\n",
       "                         ⎜     2                 2               ∂r                                     2                  \n",
       "                         ⎝   ∂r                ∂t                                                     ∂r                   \n",
       "                         ──────────────────────────────────────────────────────────────────────────────────────────────────\n",
       "                                                                                                                           \n",
       "                                                                                                                           \n",
       "                                                                                                                           \n",
       "                                                                                                                           \n",
       "                                                                                                                           \n",
       "                                                                                                                           \n",
       "                                                                                                                           \n",
       "                                                                                                                           \n",
       "                                                                                                                           \n",
       "                                                                                                                           \n",
       "                                                                                                                           \n",
       "                                                                                                                           \n",
       "                                                                                                                           \n",
       "\n",
       "                                                                                                                           \n",
       "                                                                                                                           \n",
       "                                                                                                                           \n",
       "                                                                                                                           \n",
       "                                                                                                                           \n",
       "                                                                                                                           \n",
       "                                                                                                                           \n",
       "                                                                                                                           \n",
       "                                                                                                                           \n",
       "                                                                                                                           \n",
       "                                                                                                                           \n",
       "                                                                                                                           \n",
       "                                                                                                                           \n",
       "                                                                                                                           \n",
       "                                                                                                                           \n",
       "                                                                                                                           \n",
       "                                                                                                                           \n",
       "                                                                                                                           \n",
       "                   2                                                                                      2                \n",
       "       4⋅ψ(r, t)  ∂                2          4⋅ψ(r, t) ∂           ∂              2          4⋅ψ(r, t)  ∂                2\n",
       "r, t)⋅ℯ         ⋅───(ψ(r, t)) - 4⋅r ⋅ω(r, t)⋅ℯ         ⋅──(ω(r, t))⋅──(ψ(r, t)) - r ⋅ω(r, t)⋅ℯ         ⋅───(ω(r, t)) + 4⋅r \n",
       "                   2                                    ∂r          ∂r                                    2                \n",
       "                 ∂t                                                                                     ∂r                 \n",
       "───────────────────────────────────────────────────────────────────────────────────────────────────────────────────────────\n",
       "                                                                                                                           \n",
       "                                                                                                                           \n",
       "                                                                                                                           \n",
       "                                                                                                                           \n",
       "                                                                                                                           \n",
       "                ⎛                 2                           2                                                2           \n",
       "                ⎜     2          ∂                2          ∂                2 ∂           ∂              2  ∂            \n",
       "                ⎜- 2⋅r ⋅ω(r, t)⋅───(ψ(r, t)) + 2⋅r ⋅ω(r, t)⋅───(ψ(r, t)) - 4⋅r ⋅──(ω(r, t))⋅──(ψ(r, t)) - r ⋅───(ω(r, t)) +\n",
       "                ⎜                 2                           2                 ∂r          ∂r                 2           \n",
       "                ⎝               ∂r                          ∂t                                               ∂r            \n",
       "                ───────────────────────────────────────────────────────────────────────────────────────────────────────────\n",
       "                                                                                                                           \n",
       "                                                                                                                           \n",
       "\n",
       "                                                                                                                           \n",
       "                                                                                                                           \n",
       "                                                                                                                           \n",
       "                                                                                                                           \n",
       "                                       0                                                                                   \n",
       "                                                                                                                           \n",
       "                                                                                                                           \n",
       "                                                                                                                           \n",
       "                                                                                                                           \n",
       "                                                                                                                           \n",
       "                                                                                                                           \n",
       "                                                                                                                           \n",
       "                                       0                                                                                   \n",
       "                                                                                                                           \n",
       "                                                                                                                           \n",
       "                                                                                                                           \n",
       "                                                                                                              2            \n",
       "                                                                                    2  4⋅ψ(r, t) ⎛∂          ⎞     2  4⋅ψ(r\n",
       "                                                                      2            r ⋅ℯ         ⋅⎜──(ω(r, t))⎟    r ⋅ℯ     \n",
       "          4⋅ψ(r, t) ∂           ∂              2          4⋅ψ(r, t)  ∂                           ⎝∂r         ⎠             \n",
       "⋅ω(r, t)⋅ℯ         ⋅──(ω(r, t))⋅──(ψ(r, t)) + r ⋅ω(r, t)⋅ℯ         ⋅───(ω(r, t)) - ──────────────────────────── + ─────────\n",
       "                    ∂t          ∂t                                    2                         2                          \n",
       "                                                                    ∂t                                                     \n",
       "───────────────────────────────────────────────────────────────────────────────────────────────────────────────────────────\n",
       "                                        2                                                                                  \n",
       "                                       r                                                                                   \n",
       "                                                                                                                           \n",
       "                                                                                                                           \n",
       "                                                                                                                           \n",
       "                                     2                                                                                     \n",
       "    2 ∂           ∂              2  ∂                         ∂               ∂                      4⋅ψ(r, t) ⎛∂          \n",
       " 4⋅r ⋅──(ω(r, t))⋅──(ψ(r, t)) + r ⋅───(ω(r, t)) - 2⋅r⋅ω(r, t)⋅──(ψ(r, t)) + r⋅──(ω(r, t)) + ω(r, t)⋅ℯ         ⋅⎜──(ω(r, t))\n",
       "      ∂t          ∂t                 2                        ∂r              ∂r                               ⎝∂r         \n",
       "                                   ∂t                                                                                      \n",
       "───────────────────────────────────────────────────────────────────────────────────────────────────────────────────────────\n",
       "                                         2                                                                                 \n",
       "                                      2⋅r                                                                                  \n",
       "\n",
       "                                                                                                                           \n",
       "                                                                                                                           \n",
       "                                                                                                                           \n",
       "                                                                                                                           \n",
       "                                                                                                                           \n",
       "                                                                                                                           \n",
       "                                                                                                                           \n",
       "                                                                                                                           \n",
       "                                                                                                                           \n",
       "                                                                                                                           \n",
       "                                                                                                                           \n",
       "                                                                                                                           \n",
       "                                                                                                                           \n",
       "                                                                                                                           \n",
       "                                                                                                                           \n",
       "                                                                                                                           \n",
       "                  2                                                                                                        \n",
       ", t) ⎛∂          ⎞                                                                            2        8⋅ψ(r, t) ⎛∂        \n",
       "    ⋅⎜──(ω(r, t))⎟                                                                           ω (r, t)⋅ℯ         ⋅⎜──(ω(r, t\n",
       "     ⎝∂t         ⎠       2        4⋅ψ(r, t) ∂                        4⋅ψ(r, t) ∂                                 ⎝∂r       \n",
       "─────────────────── - r⋅ω (r, t)⋅ℯ         ⋅──(ψ(r, t)) + r⋅ω(r, t)⋅ℯ         ⋅──(ω(r, t)) + ──────────────────────────────\n",
       "    2                                       ∂r                                 ∂r                            2             \n",
       "                                                                                                                           \n",
       "───────────────────────────────────────────────────────────────────────────────────────────────────────────────────────────\n",
       "                                                                                                                           \n",
       "                                                                                                                           \n",
       "                                                                                                                           \n",
       "                                                                                                                           \n",
       "                                                                                                                           \n",
       " 2                                   2⎞                                                                                    \n",
       "⎞             4⋅ψ(r, t) ⎛∂          ⎞ ⎟  -2⋅γ(r, t) + 4⋅ψ(r, t)                                                            \n",
       "⎟  - ω(r, t)⋅ℯ         ⋅⎜──(ω(r, t))⎟ ⎟⋅ℯ                                                                                  \n",
       "⎠                       ⎝∂t         ⎠ ⎟                                                                                    \n",
       "                                      ⎠                                                                                    \n",
       "───────────────────────────────────────────────────────────────                                                            \n",
       "                                                                                                                           \n",
       "                                                                                                                           \n",
       "\n",
       "                                                                                                                           \n",
       "                                                                                                                           \n",
       "                                                                                                                           \n",
       "                                                                                                                           \n",
       "                                                                                                                           \n",
       "                                                                                                                           \n",
       "                                                                                                                           \n",
       "                                                                                                                           \n",
       "                                                                                                                           \n",
       "                                                                                                                           \n",
       "                                                                                                                           \n",
       "                                                                                                                           \n",
       "                                                                                                                           \n",
       "                                                                                                                           \n",
       "                                                                                                                           \n",
       "                                                                                                                           \n",
       "   2                                    2⎞                                                                                 \n",
       "  ⎞     2        8⋅ψ(r, t) ⎛∂          ⎞ ⎟                                                                                 \n",
       "))⎟    ω (r, t)⋅ℯ         ⋅⎜──(ω(r, t))⎟ ⎟              ⎛                 2                           2                    \n",
       "  ⎠                        ⎝∂t         ⎠ ⎟  -2⋅γ(r, t)  ⎜     2          ∂                2          ∂                2 ∂  \n",
       "──── - ──────────────────────────────────⎟⋅ℯ            ⎜- 2⋅r ⋅ω(r, t)⋅───(ψ(r, t)) + 2⋅r ⋅ω(r, t)⋅───(ψ(r, t)) - 4⋅r ⋅──(\n",
       "                       2                 ⎟              ⎜                 2                           2                 ∂r \n",
       "                                         ⎠              ⎝               ∂r                          ∂t                     \n",
       "──────────────────────────────────────────────────────  ───────────────────────────────────────────────────────────────────\n",
       "                                                                                                                           \n",
       "                                                                                                                           \n",
       "                                                                                                                           \n",
       "                                                                                                                           \n",
       "                                                                                                                           \n",
       "                                                                                                                           \n",
       "                                                                                                                           \n",
       "                                                                                                                           \n",
       "                                                                                                                           \n",
       "                                                                                                                           \n",
       "                                                                                                                           \n",
       "                                                                                                                           \n",
       "                                                                                                                           \n",
       "\n",
       "                                                                                                                           \n",
       "                                                                                                                           \n",
       "                                                                                                                           \n",
       "                                                                                                                           \n",
       "                                                                               0                                           \n",
       "                                                                                                                           \n",
       "                                                                                                                           \n",
       "                                                                                                                           \n",
       "                                                                                                                           \n",
       "                                                                                                                           \n",
       "                                                                                                                           \n",
       "                                                                                                                           \n",
       "                                                                               0                                           \n",
       "                                                                                                                           \n",
       "                                                                                                                           \n",
       "                                                                                                                           \n",
       "                                                                                                                           \n",
       "                                                                                                                           \n",
       "                            2                                                2                                             \n",
       "         ∂              2  ∂                2 ∂           ∂              2  ∂                         ∂               ∂    \n",
       "ω(r, t))⋅──(ψ(r, t)) - r ⋅───(ω(r, t)) + 4⋅r ⋅──(ω(r, t))⋅──(ψ(r, t)) + r ⋅───(ω(r, t)) - 2⋅r⋅ω(r, t)⋅──(ψ(r, t)) + r⋅──(ω(\n",
       "         ∂r                 2                 ∂t          ∂t                 2                        ∂r              ∂r   \n",
       "                          ∂r                                               ∂t                                              \n",
       "───────────────────────────────────────────────────────────────────────────────────────────────────────────────────────────\n",
       "                                                                                 2                                         \n",
       "                                                                              2⋅r                                          \n",
       "                                                                                                                           \n",
       "             ⎛                                                                              2                           2⎞ \n",
       "             ⎜                                                       4⋅ψ(r, t) ⎛∂          ⎞     4⋅ψ(r, t) ⎛∂          ⎞ ⎟ \n",
       "             ⎜       2                 2                            ℯ         ⋅⎜──(ω(r, t))⎟    ℯ         ⋅⎜──(ω(r, t))⎟ ⎟ \n",
       "             ⎜   2  ∂              2  ∂               ∂                        ⎝∂r         ⎠               ⎝∂t         ⎠ ⎟ \n",
       "             ⎜- r ⋅───(ψ(r, t)) + r ⋅───(ψ(r, t)) - r⋅──(ψ(r, t)) + ───────────────────────── - ─────────────────────────⎟⋅\n",
       "             ⎜       2                 2              ∂r                        2                           2            ⎟ \n",
       "             ⎝     ∂r                ∂t                                                                                  ⎠ \n",
       "             ──────────────────────────────────────────────────────────────────────────────────────────────────────────────\n",
       "                                                                                2                                          \n",
       "                                                                               r                                           \n",
       "\n",
       "                                                                                                       ⎤\n",
       "                                                                                                       ⎥\n",
       "                                                                                                       ⎥\n",
       "                                                                                                       ⎥\n",
       "                                                                                                       ⎥\n",
       "                                                                                                       ⎥\n",
       "                                                                                                       ⎥\n",
       "                                                                                                       ⎥\n",
       "                                                                                                       ⎥\n",
       "                                                                                                       ⎥\n",
       "                                                                                                       ⎥\n",
       "                                                                                                       ⎥\n",
       "                                                                                                       ⎥\n",
       "                                                                                                       ⎥\n",
       "                                                                                                       ⎥\n",
       "                                                                                                       ⎥\n",
       "                                                                                                       ⎥\n",
       "                                                                                                       ⎥\n",
       "                                         2                                   2⎞                        ⎥\n",
       "                  4⋅ψ(r, t) ⎛∂          ⎞             4⋅ψ(r, t) ⎛∂          ⎞ ⎟  -2⋅γ(r, t) + 4⋅ψ(r, t)⎥\n",
       "r, t)) + ω(r, t)⋅ℯ         ⋅⎜──(ω(r, t))⎟  - ω(r, t)⋅ℯ         ⋅⎜──(ω(r, t))⎟ ⎟⋅ℯ                      ⎥\n",
       "                            ⎝∂r         ⎠                       ⎝∂t         ⎠ ⎟                        ⎥\n",
       "                                                                              ⎠                        ⎥\n",
       "───────────────────────────────────────────────────────────────────────────────────────────────────────⎥\n",
       "                                                                                                       ⎥\n",
       "                                                                                                       ⎥\n",
       "                                                                                                       ⎥\n",
       "                                                                                                       ⎥\n",
       "                                                                                                       ⎥\n",
       "                                                                                                       ⎥\n",
       " -2⋅γ(r, t) + 4⋅ψ(r, t)                                                                                ⎥\n",
       "ℯ                                                                                                      ⎥\n",
       "                                                                                                       ⎥\n",
       "                                                                                                       ⎥\n",
       "───────────────────────                                                                                ⎥\n",
       "                                                                                                       ⎥\n",
       "                                                                                                       ⎦"
      ]
     },
     "execution_count": 18,
     "metadata": {},
     "output_type": "execute_result"
    }
   ],
   "source": [
    "Ric = RicciTensor.from_metric(metric)\n",
    "simplify(Ric.tensor())"
   ]
  },
  {
   "cell_type": "code",
   "execution_count": 19,
   "id": "ec954f6c",
   "metadata": {},
   "outputs": [
    {
     "data": {
      "image/png": "[encoded data removed]",
      "text/latex": [
       "$\\displaystyle \\frac{\\left(4 r^{2} \\frac{\\partial^{2}}{\\partial r^{2}} \\gamma{\\left(r,t \\right)} - 4 r^{2} \\frac{\\partial^{2}}{\\partial t^{2}} \\gamma{\\left(r,t \\right)} + 4 r^{2} \\left(\\frac{\\partial}{\\partial r} \\psi{\\left(r,t \\right)}\\right)^{2} - 4 r^{2} \\frac{\\partial^{2}}{\\partial r^{2}} \\psi{\\left(r,t \\right)} - 4 r^{2} \\left(\\frac{\\partial}{\\partial t} \\psi{\\left(r,t \\right)}\\right)^{2} + 4 r^{2} \\frac{\\partial^{2}}{\\partial t^{2}} \\psi{\\left(r,t \\right)} - 4 r \\frac{\\partial}{\\partial r} \\psi{\\left(r,t \\right)} + e^{4 \\psi{\\left(r,t \\right)}} \\left(\\frac{\\partial}{\\partial r} \\omega{\\left(r,t \\right)}\\right)^{2} - e^{4 \\psi{\\left(r,t \\right)}} \\left(\\frac{\\partial}{\\partial t} \\omega{\\left(r,t \\right)}\\right)^{2}\\right) e^{- 2 \\gamma{\\left(r,t \\right)} + 2 \\psi{\\left(r,t \\right)}}}{2 r^{2}}$"
      ],
      "text/plain": [
       "⎛       2                   2                              2          2                              2          2          \n",
       "⎜   2  ∂                2  ∂                2 ⎛∂          ⎞       2  ∂                2 ⎛∂          ⎞       2  ∂           \n",
       "⎜4⋅r ⋅───(γ(r, t)) - 4⋅r ⋅───(γ(r, t)) + 4⋅r ⋅⎜──(ψ(r, t))⎟  - 4⋅r ⋅───(ψ(r, t)) - 4⋅r ⋅⎜──(ψ(r, t))⎟  + 4⋅r ⋅───(ψ(r, t)) \n",
       "⎜       2                   2                 ⎝∂r         ⎠           2                 ⎝∂t         ⎠           2          \n",
       "⎝     ∂r                  ∂t                                        ∂r                                        ∂t           \n",
       "───────────────────────────────────────────────────────────────────────────────────────────────────────────────────────────\n",
       "                                                                                                                2          \n",
       "                                                                                                             2⋅r           \n",
       "\n",
       "                                            2                           2⎞                        \n",
       "      ∂              4⋅ψ(r, t) ⎛∂          ⎞     4⋅ψ(r, t) ⎛∂          ⎞ ⎟  -2⋅γ(r, t) + 2⋅ψ(r, t)\n",
       "- 4⋅r⋅──(ψ(r, t)) + ℯ         ⋅⎜──(ω(r, t))⎟  - ℯ         ⋅⎜──(ω(r, t))⎟ ⎟⋅ℯ                      \n",
       "      ∂r                       ⎝∂r         ⎠               ⎝∂t         ⎠ ⎟                        \n",
       "                                                                         ⎠                        \n",
       "──────────────────────────────────────────────────────────────────────────────────────────────────\n",
       "                                                                                                  \n",
       "                                                                                                  "
      ]
     },
     "execution_count": 19,
     "metadata": {},
     "output_type": "execute_result"
    }
   ],
   "source": [
    "R = RicciScalar.from_riccitensor(Ric)\n",
    "R.simplify()\n",
    "R.expr"
   ]
  },
  {
   "cell_type": "code",
   "execution_count": 20,
   "id": "c820afee",
   "metadata": {},
   "outputs": [
    {
     "data": {
      "text/latex": [
       "$\\displaystyle \\left[\\begin{matrix}- 1.0 \\left(\\frac{\\partial}{\\partial r} \\psi{\\left(r,t \\right)}\\right)^{2} - 1.0 \\left(\\frac{\\partial}{\\partial t} \\psi{\\left(r,t \\right)}\\right)^{2} + \\frac{1.0 \\frac{\\partial}{\\partial r} \\gamma{\\left(r,t \\right)}}{r} - \\frac{0.25 e^{4 \\psi{\\left(r,t \\right)}} \\left(\\frac{\\partial}{\\partial r} \\omega{\\left(r,t \\right)}\\right)^{2}}{r^{2}} - \\frac{0.25 e^{4 \\psi{\\left(r,t \\right)}} \\left(\\frac{\\partial}{\\partial t} \\omega{\\left(r,t \\right)}\\right)^{2}}{r^{2}} & - 2 \\frac{\\partial}{\\partial r} \\psi{\\left(r,t \\right)} \\frac{\\partial}{\\partial t} \\psi{\\left(r,t \\right)} + \\frac{\\frac{\\partial}{\\partial t} \\gamma{\\left(r,t \\right)}}{r} - \\frac{e^{4 \\psi{\\left(r,t \\right)}} \\frac{\\partial}{\\partial r} \\omega{\\left(r,t \\right)} \\frac{\\partial}{\\partial t} \\omega{\\left(r,t \\right)}}{2 r^{2}} & 0 & 0\\\\- 2 \\frac{\\partial}{\\partial r} \\psi{\\left(r,t \\right)} \\frac{\\partial}{\\partial t} \\psi{\\left(r,t \\right)} + \\frac{\\frac{\\partial}{\\partial t} \\gamma{\\left(r,t \\right)}}{r} - \\frac{e^{4 \\psi{\\left(r,t \\right)}} \\frac{\\partial}{\\partial r} \\omega{\\left(r,t \\right)} \\frac{\\partial}{\\partial t} \\omega{\\left(r,t \\right)}}{2 r^{2}} & - 1.0 \\left(\\frac{\\partial}{\\partial r} \\psi{\\left(r,t \\right)}\\right)^{2} - 1.0 \\left(\\frac{\\partial}{\\partial t} \\psi{\\left(r,t \\right)}\\right)^{2} + \\frac{1.0 \\frac{\\partial}{\\partial r} \\gamma{\\left(r,t \\right)}}{r} - \\frac{0.25 e^{4 \\psi{\\left(r,t \\right)}} \\left(\\frac{\\partial}{\\partial r} \\omega{\\left(r,t \\right)}\\right)^{2}}{r^{2}} - \\frac{0.25 e^{4 \\psi{\\left(r,t \\right)}} \\left(\\frac{\\partial}{\\partial t} \\omega{\\left(r,t \\right)}\\right)^{2}}{r^{2}} & 0 & 0\\\\0 & 0 & \\frac{1.0 \\left(1.0 r^{4} \\frac{\\partial^{2}}{\\partial r^{2}} \\gamma{\\left(r,t \\right)} - 1.0 r^{4} \\frac{\\partial^{2}}{\\partial t^{2}} \\gamma{\\left(r,t \\right)} + 1.0 r^{4} \\left(\\frac{\\partial}{\\partial r} \\psi{\\left(r,t \\right)}\\right)^{2} - 1.0 r^{4} \\left(\\frac{\\partial}{\\partial t} \\psi{\\left(r,t \\right)}\\right)^{2} + 1.0 r^{2} \\omega^{2}{\\left(r,t \\right)} e^{4 \\psi{\\left(r,t \\right)}} \\frac{\\partial^{2}}{\\partial r^{2}} \\gamma{\\left(r,t \\right)} - 1.0 r^{2} \\omega^{2}{\\left(r,t \\right)} e^{4 \\psi{\\left(r,t \\right)}} \\frac{\\partial^{2}}{\\partial t^{2}} \\gamma{\\left(r,t \\right)} + 1.0 r^{2} \\omega^{2}{\\left(r,t \\right)} e^{4 \\psi{\\left(r,t \\right)}} \\left(\\frac{\\partial}{\\partial r} \\psi{\\left(r,t \\right)}\\right)^{2} - 2.0 r^{2} \\omega^{2}{\\left(r,t \\right)} e^{4 \\psi{\\left(r,t \\right)}} \\frac{\\partial^{2}}{\\partial r^{2}} \\psi{\\left(r,t \\right)} - 1.0 r^{2} \\omega^{2}{\\left(r,t \\right)} e^{4 \\psi{\\left(r,t \\right)}} \\left(\\frac{\\partial}{\\partial t} \\psi{\\left(r,t \\right)}\\right)^{2} + 2.0 r^{2} \\omega^{2}{\\left(r,t \\right)} e^{4 \\psi{\\left(r,t \\right)}} \\frac{\\partial^{2}}{\\partial t^{2}} \\psi{\\left(r,t \\right)} - 4.0 r^{2} \\omega{\\left(r,t \\right)} e^{4 \\psi{\\left(r,t \\right)}} \\frac{\\partial}{\\partial r} \\omega{\\left(r,t \\right)} \\frac{\\partial}{\\partial r} \\psi{\\left(r,t \\right)} - 1.0 r^{2} \\omega{\\left(r,t \\right)} e^{4 \\psi{\\left(r,t \\right)}} \\frac{\\partial^{2}}{\\partial r^{2}} \\omega{\\left(r,t \\right)} + 4.0 r^{2} \\omega{\\left(r,t \\right)} e^{4 \\psi{\\left(r,t \\right)}} \\frac{\\partial}{\\partial t} \\omega{\\left(r,t \\right)} \\frac{\\partial}{\\partial t} \\psi{\\left(r,t \\right)} + 1.0 r^{2} \\omega{\\left(r,t \\right)} e^{4 \\psi{\\left(r,t \\right)}} \\frac{\\partial^{2}}{\\partial t^{2}} \\omega{\\left(r,t \\right)} - 0.25 r^{2} e^{4 \\psi{\\left(r,t \\right)}} \\left(\\frac{\\partial}{\\partial r} \\omega{\\left(r,t \\right)}\\right)^{2} + 0.25 r^{2} e^{4 \\psi{\\left(r,t \\right)}} \\left(\\frac{\\partial}{\\partial t} \\omega{\\left(r,t \\right)}\\right)^{2} - 2.0 r \\omega^{2}{\\left(r,t \\right)} e^{4 \\psi{\\left(r,t \\right)}} \\frac{\\partial}{\\partial r} \\psi{\\left(r,t \\right)} + 1.0 r \\omega{\\left(r,t \\right)} e^{4 \\psi{\\left(r,t \\right)}} \\frac{\\partial}{\\partial r} \\omega{\\left(r,t \\right)} + 0.75 \\omega^{2}{\\left(r,t \\right)} e^{8 \\psi{\\left(r,t \\right)}} \\left(\\frac{\\partial}{\\partial r} \\omega{\\left(r,t \\right)}\\right)^{2} - 0.75 \\omega^{2}{\\left(r,t \\right)} e^{8 \\psi{\\left(r,t \\right)}} \\left(\\frac{\\partial}{\\partial t} \\omega{\\left(r,t \\right)}\\right)^{2}\\right) e^{- 2 \\gamma{\\left(r,t \\right)}}}{r^{2}} & \\frac{\\left(1.0 r^{2} \\omega{\\left(r,t \\right)} \\frac{\\partial^{2}}{\\partial r^{2}} \\gamma{\\left(r,t \\right)} - 1.0 r^{2} \\omega{\\left(r,t \\right)} \\frac{\\partial^{2}}{\\partial t^{2}} \\gamma{\\left(r,t \\right)} + 1.0 r^{2} \\omega{\\left(r,t \\right)} \\left(\\frac{\\partial}{\\partial r} \\psi{\\left(r,t \\right)}\\right)^{2} - 2.0 r^{2} \\omega{\\left(r,t \\right)} \\frac{\\partial^{2}}{\\partial r^{2}} \\psi{\\left(r,t \\right)} - 1.0 r^{2} \\omega{\\left(r,t \\right)} \\left(\\frac{\\partial}{\\partial t} \\psi{\\left(r,t \\right)}\\right)^{2} + 2.0 r^{2} \\omega{\\left(r,t \\right)} \\frac{\\partial^{2}}{\\partial t^{2}} \\psi{\\left(r,t \\right)} - 2.0 r^{2} \\frac{\\partial}{\\partial r} \\omega{\\left(r,t \\right)} \\frac{\\partial}{\\partial r} \\psi{\\left(r,t \\right)} - 0.5 r^{2} \\frac{\\partial^{2}}{\\partial r^{2}} \\omega{\\left(r,t \\right)} + 2.0 r^{2} \\frac{\\partial}{\\partial t} \\omega{\\left(r,t \\right)} \\frac{\\partial}{\\partial t} \\psi{\\left(r,t \\right)} + 0.5 r^{2} \\frac{\\partial^{2}}{\\partial t^{2}} \\omega{\\left(r,t \\right)} - 2.0 r \\omega{\\left(r,t \\right)} \\frac{\\partial}{\\partial r} \\psi{\\left(r,t \\right)} + 0.5 r \\frac{\\partial}{\\partial r} \\omega{\\left(r,t \\right)} + 0.75 \\omega{\\left(r,t \\right)} e^{4 \\psi{\\left(r,t \\right)}} \\left(\\frac{\\partial}{\\partial r} \\omega{\\left(r,t \\right)}\\right)^{2} - 0.75 \\omega{\\left(r,t \\right)} e^{4 \\psi{\\left(r,t \\right)}} \\left(\\frac{\\partial}{\\partial t} \\omega{\\left(r,t \\right)}\\right)^{2}\\right) e^{- 2 \\gamma{\\left(r,t \\right)} + 4 \\psi{\\left(r,t \\right)}}}{r^{2}}\\\\0 & 0 & \\frac{\\left(1.0 r^{2} \\omega{\\left(r,t \\right)} \\frac{\\partial^{2}}{\\partial r^{2}} \\gamma{\\left(r,t \\right)} - 1.0 r^{2} \\omega{\\left(r,t \\right)} \\frac{\\partial^{2}}{\\partial t^{2}} \\gamma{\\left(r,t \\right)} + 1.0 r^{2} \\omega{\\left(r,t \\right)} \\left(\\frac{\\partial}{\\partial r} \\psi{\\left(r,t \\right)}\\right)^{2} - 2.0 r^{2} \\omega{\\left(r,t \\right)} \\frac{\\partial^{2}}{\\partial r^{2}} \\psi{\\left(r,t \\right)} - 1.0 r^{2} \\omega{\\left(r,t \\right)} \\left(\\frac{\\partial}{\\partial t} \\psi{\\left(r,t \\right)}\\right)^{2} + 2.0 r^{2} \\omega{\\left(r,t \\right)} \\frac{\\partial^{2}}{\\partial t^{2}} \\psi{\\left(r,t \\right)} - 2.0 r^{2} \\frac{\\partial}{\\partial r} \\omega{\\left(r,t \\right)} \\frac{\\partial}{\\partial r} \\psi{\\left(r,t \\right)} - 0.5 r^{2} \\frac{\\partial^{2}}{\\partial r^{2}} \\omega{\\left(r,t \\right)} + 2.0 r^{2} \\frac{\\partial}{\\partial t} \\omega{\\left(r,t \\right)} \\frac{\\partial}{\\partial t} \\psi{\\left(r,t \\right)} + 0.5 r^{2} \\frac{\\partial^{2}}{\\partial t^{2}} \\omega{\\left(r,t \\right)} - 2.0 r \\omega{\\left(r,t \\right)} \\frac{\\partial}{\\partial r} \\psi{\\left(r,t \\right)} + 0.5 r \\frac{\\partial}{\\partial r} \\omega{\\left(r,t \\right)} + 0.75 \\omega{\\left(r,t \\right)} e^{4 \\psi{\\left(r,t \\right)}} \\left(\\frac{\\partial}{\\partial r} \\omega{\\left(r,t \\right)}\\right)^{2} - 0.75 \\omega{\\left(r,t \\right)} e^{4 \\psi{\\left(r,t \\right)}} \\left(\\frac{\\partial}{\\partial t} \\omega{\\left(r,t \\right)}\\right)^{2}\\right) e^{- 2 \\gamma{\\left(r,t \\right)} + 4 \\psi{\\left(r,t \\right)}}}{r^{2}} & \\frac{\\left(r^{2} \\frac{\\partial^{2}}{\\partial r^{2}} \\gamma{\\left(r,t \\right)} - 1.0 r^{2} \\frac{\\partial^{2}}{\\partial t^{2}} \\gamma{\\left(r,t \\right)} + r^{2} \\left(\\frac{\\partial}{\\partial r} \\psi{\\left(r,t \\right)}\\right)^{2} - 2.0 r^{2} \\frac{\\partial^{2}}{\\partial r^{2}} \\psi{\\left(r,t \\right)} - 1.0 r^{2} \\left(\\frac{\\partial}{\\partial t} \\psi{\\left(r,t \\right)}\\right)^{2} + 2.0 r^{2} \\frac{\\partial^{2}}{\\partial t^{2}} \\psi{\\left(r,t \\right)} - 2.0 r \\frac{\\partial}{\\partial r} \\psi{\\left(r,t \\right)} + 0.75 e^{4 \\psi{\\left(r,t \\right)}} \\left(\\frac{\\partial}{\\partial r} \\omega{\\left(r,t \\right)}\\right)^{2} - 0.75 e^{4 \\psi{\\left(r,t \\right)}} \\left(\\frac{\\partial}{\\partial t} \\omega{\\left(r,t \\right)}\\right)^{2}\\right) e^{- 2 \\gamma{\\left(r,t \\right)} + 4 \\psi{\\left(r,t \\right)}}}{r^{2}}\\end{matrix}\\right]$"
      ],
      "text/plain": [
       "⎡                                                                                   2                                2     \n",
       "⎢                                        ∂                   4⋅ψ(r, t) ⎛∂          ⎞          4⋅ψ(r, t) ⎛∂          ⎞      \n",
       "⎢               2                2   1.0⋅──(γ(r, t))   0.25⋅ℯ         ⋅⎜──(ω(r, t))⎟    0.25⋅ℯ         ⋅⎜──(ω(r, t))⎟      \n",
       "⎢  ⎛∂          ⎞    ⎛∂          ⎞        ∂r                            ⎝∂r         ⎠                    ⎝∂t         ⎠      \n",
       "⎢- ⎜──(ψ(r, t))⎟  - ⎜──(ψ(r, t))⎟  + ─────────────── - ────────────────────────────── - ──────────────────────────────     \n",
       "⎢  ⎝∂r         ⎠    ⎝∂t         ⎠           r                         2                                2                   \n",
       "⎢                                                                    r                                r                    \n",
       "⎢                                                                                                                          \n",
       "⎢                                                                                                                          \n",
       "⎢                                                 ∂              4⋅ψ(r, t) ∂           ∂                                   \n",
       "⎢                                                 ──(γ(r, t))   ℯ         ⋅──(ω(r, t))⋅──(ω(r, t))                         \n",
       "⎢                       ∂           ∂             ∂t                       ∂r          ∂t                                 ⎛\n",
       "⎢                   - 2⋅──(ψ(r, t))⋅──(ψ(r, t)) + ─────────── - ──────────────────────────────────                      - ⎜\n",
       "⎢                       ∂r          ∂t                 r                          2                                       ⎝\n",
       "⎢                                                                              2⋅r                                         \n",
       "⎢                                                                                                                          \n",
       "⎢                                                                                                                          \n",
       "⎢                                                                                                                          \n",
       "⎢                                                                                                                          \n",
       "⎢                                                                                                                          \n",
       "⎢                                                                                                                          \n",
       "⎢                                                          0                                                               \n",
       "⎢                                                                                                                          \n",
       "⎢                                                                                                                          \n",
       "⎢                                                                                                                          \n",
       "⎢                                                                                                                          \n",
       "⎢                                                                                                                          \n",
       "⎢                                                                                                                          \n",
       "⎢                                                                                                                          \n",
       "⎢                                                                                                                          \n",
       "⎢                                                          0                                                               \n",
       "⎢                                                                                                                          \n",
       "⎣                                                                                                                          \n",
       "\n",
       "                                                                                                                           \n",
       "                                              ∂              4⋅ψ(r, t) ∂           ∂                                       \n",
       "                                              ──(γ(r, t))   ℯ         ⋅──(ω(r, t))⋅──(ω(r, t))                             \n",
       "                    ∂           ∂             ∂t                       ∂r          ∂t                                      \n",
       "                - 2⋅──(ψ(r, t))⋅──(ψ(r, t)) + ─────────── - ──────────────────────────────────                             \n",
       "                    ∂r          ∂t                 r                          2                                            \n",
       "                                                                           2⋅r                                             \n",
       "                                                                                                                           \n",
       "                                                                                2                                2         \n",
       "                                     ∂                   4⋅ψ(r, t) ⎛∂          ⎞          4⋅ψ(r, t) ⎛∂          ⎞          \n",
       "            2                2   1.0⋅──(γ(r, t))   0.25⋅ℯ         ⋅⎜──(ω(r, t))⎟    0.25⋅ℯ         ⋅⎜──(ω(r, t))⎟          \n",
       "∂          ⎞    ⎛∂          ⎞        ∂r                            ⎝∂r         ⎠                    ⎝∂t         ⎠          \n",
       "──(ψ(r, t))⎟  - ⎜──(ψ(r, t))⎟  + ─────────────── - ────────────────────────────── - ──────────────────────────────         \n",
       "∂r         ⎠    ⎝∂t         ⎠           r                         2                                2                       \n",
       "                                                                 r                                r                        \n",
       "                                                                                                                           \n",
       "                                                                                                                        ⎛  \n",
       "                                                                                                                        ⎜  \n",
       "                                                                                                                    1.0⋅⎜1.\n",
       "                                                                                                                        ⎜  \n",
       "                                                                                                                        ⎝  \n",
       "                                                       0                                                            ───────\n",
       "                                                                                                                           \n",
       "                                                                                                                           \n",
       "                                                                                                                           \n",
       "                                                                                                                           \n",
       "                                                                                                                           \n",
       "                                                                                                                           \n",
       "                                                                                                                           \n",
       "                                                                                                                           \n",
       "                                                       0                                                                   \n",
       "                                                                                                                           \n",
       "                                                                                                                           \n",
       "\n",
       "                                                                                                                           \n",
       "                                                                                                                           \n",
       "                                                                                                                           \n",
       "                                                                                                                           \n",
       "                                                                                                                           \n",
       "                                                                                                                           \n",
       "                                                                                                                           \n",
       "                                                                                                                           \n",
       "                                                                                                                           \n",
       "                                                                                                                           \n",
       "                                                                                                                           \n",
       "                                                                                                                           \n",
       "                                                                                                                           \n",
       "                                                                                                                           \n",
       "                                                                                                                           \n",
       "                                                                                                                           \n",
       "       2                 2                                2                   2                                2           \n",
       "   4  ∂              4  ∂                  4 ⎛∂          ⎞     4 ⎛∂          ⎞         2  2        4⋅ψ(r, t)  ∂            \n",
       "0⋅r ⋅───(γ(r, t)) - r ⋅───(γ(r, t)) + 1.0⋅r ⋅⎜──(ψ(r, t))⎟  - r ⋅⎜──(ψ(r, t))⎟  + 1.0⋅r ⋅ω (r, t)⋅ℯ         ⋅───(γ(r, t)) -\n",
       "       2                 2                   ⎝∂r         ⎠       ⎝∂t         ⎠                                 2           \n",
       "     ∂r                ∂t                                                                                    ∂r            \n",
       "───────────────────────────────────────────────────────────────────────────────────────────────────────────────────────────\n",
       "                                                                                                                           \n",
       "                                                                                                                           \n",
       "                                                                                                                           \n",
       "                                                                                                                           \n",
       "                                                                                                                           \n",
       "                                                                                                                           \n",
       "                                                                                                                           \n",
       "                                                                                                                           \n",
       "                                                                                                                           \n",
       "                                                                                                                           \n",
       "                                                                                                                           \n",
       "\n",
       "                                                                                                                           \n",
       "                                                                                                                           \n",
       "                                                                                                                           \n",
       "                                                                                                                           \n",
       "                                                                                                                           \n",
       "                                                                                                                           \n",
       "                                                                                                                           \n",
       "                                                                                                                           \n",
       "                                                                                                                           \n",
       "                                                                                                                           \n",
       "                                                                                                                           \n",
       "                                                                                                                           \n",
       "                                                                                                                           \n",
       "                                                                                                                           \n",
       "                                                                                                                           \n",
       "                                                                                                                           \n",
       "                          2                                                    2                                2          \n",
       "  2  2        4⋅ψ(r, t)  ∂                  2  2        4⋅ψ(r, t) ⎛∂          ⎞         2  2        4⋅ψ(r, t)  ∂           \n",
       " r ⋅ω (r, t)⋅ℯ         ⋅───(γ(r, t)) + 1.0⋅r ⋅ω (r, t)⋅ℯ         ⋅⎜──(ψ(r, t))⎟  - 2.0⋅r ⋅ω (r, t)⋅ℯ         ⋅───(ψ(r, t)) \n",
       "                          2                                       ⎝∂r         ⎠                                 2          \n",
       "                        ∂t                                                                                    ∂r           \n",
       "───────────────────────────────────────────────────────────────────────────────────────────────────────────────────────────\n",
       "                                                                                                                           \n",
       "                                                                                                                           \n",
       "                                                                                                                           \n",
       "                                ⎛                 2                         2                                        2     \n",
       "                                ⎜     2          ∂              2          ∂                  2         ⎛∂          ⎞      \n",
       "                                ⎜1.0⋅r ⋅ω(r, t)⋅───(γ(r, t)) - r ⋅ω(r, t)⋅───(γ(r, t)) + 1.0⋅r ⋅ω(r, t)⋅⎜──(ψ(r, t))⎟  - 2.\n",
       "                                ⎜                 2                         2                           ⎝∂r         ⎠      \n",
       "                                ⎝               ∂r                        ∂t                                               \n",
       "                                ───────────────────────────────────────────────────────────────────────────────────────────\n",
       "                                                                                                                           \n",
       "                                                                                                                           \n",
       "\n",
       "                                                                                                                           \n",
       "                                                                                                                           \n",
       "                                                                                                                           \n",
       "                                                                                                                           \n",
       "                                                                                                                           \n",
       "                                                                                                                           \n",
       "                                                                                                                           \n",
       "                                                                                                                           \n",
       "                                                                                                                           \n",
       "                                                                                                                           \n",
       "                                                                                                                           \n",
       "                                                                                                                           \n",
       "                                                                                                                           \n",
       "                                                                                                                           \n",
       "                                                                                                                           \n",
       "                                                                                                                           \n",
       "                                      2                                2                                                   \n",
       "   2  2        4⋅ψ(r, t) ⎛∂          ⎞         2  2        4⋅ψ(r, t)  ∂                  2          4⋅ψ(r, t) ∂           ∂\n",
       "- r ⋅ω (r, t)⋅ℯ         ⋅⎜──(ψ(r, t))⎟  + 2.0⋅r ⋅ω (r, t)⋅ℯ         ⋅───(ψ(r, t)) - 4.0⋅r ⋅ω(r, t)⋅ℯ         ⋅──(ω(r, t))⋅─\n",
       "                         ⎝∂t         ⎠                                 2                                      ∂r          ∂\n",
       "                                                                     ∂t                                                    \n",
       "───────────────────────────────────────────────────────────────────────────────────────────────────────────────────────────\n",
       "                                                                                                                           \n",
       "                                                                                                                           \n",
       "                                                                                                                           \n",
       "               2                                    2                    2                                                 \n",
       "   2          ∂              2         ⎛∂          ⎞         2          ∂                  2 ∂           ∂                 \n",
       "0⋅r ⋅ω(r, t)⋅───(ψ(r, t)) - r ⋅ω(r, t)⋅⎜──(ψ(r, t))⎟  + 2.0⋅r ⋅ω(r, t)⋅───(ψ(r, t)) - 2.0⋅r ⋅──(ω(r, t))⋅──(ψ(r, t)) - 0.5⋅\n",
       "               2                       ⎝∂t         ⎠                     2                   ∂r          ∂r                \n",
       "             ∂r                                                        ∂t                                                  \n",
       "───────────────────────────────────────────────────────────────────────────────────────────────────────────────────────────\n",
       "                                                                                                                           \n",
       "                                                                                                                           \n",
       "\n",
       "                                                                                                                           \n",
       "                                                                                                                           \n",
       "                                                                                                                           \n",
       "                                                                                                                           \n",
       "     0                                                                                                                     \n",
       "                                                                                                                           \n",
       "                                                                                                                           \n",
       "                                                                                                                           \n",
       "                                                                                                                           \n",
       "                                                                                                                           \n",
       "                                                                                                                           \n",
       "                                                                                                                           \n",
       "     0                                                                                                                     \n",
       "                                                                                                                           \n",
       "                                                                                                                           \n",
       "                                                                                                                           \n",
       "                                     2                                                                                     \n",
       "              2          4⋅ψ(r, t)  ∂                  2          4⋅ψ(r, t) ∂           ∂                  2          4⋅ψ(r\n",
       "─(ψ(r, t)) - r ⋅ω(r, t)⋅ℯ         ⋅───(ω(r, t)) + 4.0⋅r ⋅ω(r, t)⋅ℯ         ⋅──(ω(r, t))⋅──(ψ(r, t)) + 1.0⋅r ⋅ω(r, t)⋅ℯ     \n",
       "r                                    2                                      ∂t          ∂t                                 \n",
       "                                   ∂r                                                                                      \n",
       "───────────────────────────────────────────────────────────────────────────────────────────────────────────────────────────\n",
       "      2                                                                                                                    \n",
       "     r                                                                                                                     \n",
       "                                                                                                                           \n",
       "     2                                                      2                                                              \n",
       " 2  ∂                  2 ∂           ∂                  2  ∂                           ∂                   ∂               \n",
       "r ⋅───(ω(r, t)) + 2.0⋅r ⋅──(ω(r, t))⋅──(ψ(r, t)) + 0.5⋅r ⋅───(ω(r, t)) - 2.0⋅r⋅ω(r, t)⋅──(ψ(r, t)) + 0.5⋅r⋅──(ω(r, t)) + 0.\n",
       "     2                   ∂t          ∂t                     2                          ∂r                  ∂r              \n",
       "   ∂r                                                     ∂t                                                               \n",
       "───────────────────────────────────────────────────────────────────────────────────────────────────────────────────────────\n",
       "      2                                                                                                                    \n",
       "     r                                                                                                                     \n",
       "\n",
       "                                                                                                                           \n",
       "                                                                                                                           \n",
       "                                                                                                                           \n",
       "                                                                                                                           \n",
       "                                                                                                                           \n",
       "                                                                                                                           \n",
       "                                                                                                                           \n",
       "                                                                                                                           \n",
       "                                                                                                                           \n",
       "                                                                                                                           \n",
       "                                                                                                                           \n",
       "                                                                                                                           \n",
       "                                                                                                                           \n",
       "                                                                                                                           \n",
       "                                                                                                                           \n",
       "                                                                                                                           \n",
       "       2                                            2                                   2                                  \n",
       ", t)  ∂                   2  4⋅ψ(r, t) ⎛∂          ⎞          2  4⋅ψ(r, t) ⎛∂          ⎞           2        4⋅ψ(r, t) ∂    \n",
       "    ⋅───(ω(r, t)) - 0.25⋅r ⋅ℯ         ⋅⎜──(ω(r, t))⎟  + 0.25⋅r ⋅ℯ         ⋅⎜──(ω(r, t))⎟  - 2.0⋅r⋅ω (r, t)⋅ℯ         ⋅──(ψ(\n",
       "       2                               ⎝∂r         ⎠                       ⎝∂t         ⎠                              ∂r   \n",
       "     ∂t                                                                                                                    \n",
       "───────────────────────────────────────────────────────────────────────────────────────────────────────────────────────────\n",
       "                                                                                                                           \n",
       "                                                                                                                           \n",
       "                                                                                                                           \n",
       "                                   2                                        2⎞                                             \n",
       "            4⋅ψ(r, t) ⎛∂          ⎞                  4⋅ψ(r, t) ⎛∂          ⎞ ⎟  -2⋅γ(r, t) + 4⋅ψ(r, t)                     \n",
       "75⋅ω(r, t)⋅ℯ         ⋅⎜──(ω(r, t))⎟  - 0.75⋅ω(r, t)⋅ℯ         ⋅⎜──(ω(r, t))⎟ ⎟⋅ℯ                                           \n",
       "                      ⎝∂r         ⎠                            ⎝∂t         ⎠ ⎟                                             \n",
       "                                                                             ⎠                                             \n",
       "──────────────────────────────────────────────────────────────────────────────────────────────────────                     \n",
       "                                                                                                                           \n",
       "                                                                                                                           \n",
       "\n",
       "                                                                                                                           \n",
       "                                                                                                                           \n",
       "                                                                                                                           \n",
       "                                                                                                                           \n",
       "                                                                                                                           \n",
       "                                                                                                                           \n",
       "                                                                                                                           \n",
       "                                                                                                                           \n",
       "                                                                                                                           \n",
       "                                                                                                                           \n",
       "                                                                                                                           \n",
       "                                                                                                                           \n",
       "                                                                                                                           \n",
       "                                                                                                                           \n",
       "                                                                                                                           \n",
       "                                                                                                                           \n",
       "                                                                                      2                                    \n",
       "                        4⋅ψ(r, t) ∂                   2        8⋅ψ(r, t) ⎛∂          ⎞          2        8⋅ψ(r, t) ⎛∂      \n",
       "r, t)) + 1.0⋅r⋅ω(r, t)⋅ℯ         ⋅──(ω(r, t)) + 0.75⋅ω (r, t)⋅ℯ         ⋅⎜──(ω(r, t))⎟  - 0.75⋅ω (r, t)⋅ℯ         ⋅⎜──(ω(r,\n",
       "                                  ∂r                                     ⎝∂r         ⎠                             ⎝∂t     \n",
       "                                                                                                                           \n",
       "───────────────────────────────────────────────────────────────────────────────────────────────────────────────────────────\n",
       "                                                                                                                           \n",
       "                                                                                                                           \n",
       "                                                                                                                           \n",
       "                                                                                                                           \n",
       "                                                                                                                           \n",
       "                                                                                                                           \n",
       "                                                                                                                           \n",
       "                                                                                                                           \n",
       "                                                                                                                           \n",
       "                                                                                                                           \n",
       "                                                                                                                           \n",
       "\n",
       "                                                                                                                           \n",
       "                                                                                                                           \n",
       "                                                                                                                           \n",
       "                                                                                                                           \n",
       "                                                                                                                           \n",
       "                                                                                                                           \n",
       "                                                                                                                           \n",
       "                                                                                                                           \n",
       "                                                                                                                           \n",
       "                                                                                                                           \n",
       "                                                                                                                           \n",
       "                                                                                                                           \n",
       "                                                                                                                           \n",
       "                                                                                                                           \n",
       "                                                                                                                           \n",
       "                                                                                                                           \n",
       "     2⎞              ⎛                 2                         2                                        2                \n",
       "    ⎞ ⎟  -2⋅γ(r, t)  ⎜     2          ∂              2          ∂                  2         ⎛∂          ⎞         2       \n",
       " t))⎟ ⎟⋅ℯ            ⎜1.0⋅r ⋅ω(r, t)⋅───(γ(r, t)) - r ⋅ω(r, t)⋅───(γ(r, t)) + 1.0⋅r ⋅ω(r, t)⋅⎜──(ψ(r, t))⎟  - 2.0⋅r ⋅ω(r, t\n",
       "    ⎠ ⎟              ⎜                 2                         2                           ⎝∂r         ⎠                 \n",
       "      ⎠              ⎝               ∂r                        ∂t                                                          \n",
       "───────────────────  ──────────────────────────────────────────────────────────────────────────────────────────────────────\n",
       "                                                                                                                           \n",
       "                                                                                                                           \n",
       "                                                                                                                           \n",
       "                                                                                                                           \n",
       "                                                                                                                           \n",
       "                                                                                                                           \n",
       "                                                                                                                           \n",
       "                                                                                                                           \n",
       "                                                                                                                           \n",
       "                                                                                                                           \n",
       "                                                                                                                           \n",
       "\n",
       "                                                                                                                           \n",
       "                                                                                                                           \n",
       "                                                                                                                           \n",
       "                                                                                                                           \n",
       "                                                                                                                     0     \n",
       "                                                                                                                           \n",
       "                                                                                                                           \n",
       "                                                                                                                           \n",
       "                                                                                                                           \n",
       "                                                                                                                           \n",
       "                                                                                                                           \n",
       "                                                                                                                           \n",
       "                                                                                                                     0     \n",
       "                                                                                                                           \n",
       "                                                                                                                           \n",
       "                                                                                                                           \n",
       "    2                                    2                    2                                                      2     \n",
       "   ∂              2         ⎛∂          ⎞         2          ∂                  2 ∂           ∂                  2  ∂      \n",
       ")⋅───(ψ(r, t)) - r ⋅ω(r, t)⋅⎜──(ψ(r, t))⎟  + 2.0⋅r ⋅ω(r, t)⋅───(ψ(r, t)) - 2.0⋅r ⋅──(ω(r, t))⋅──(ψ(r, t)) - 0.5⋅r ⋅───(ω(r,\n",
       "    2                       ⎝∂t         ⎠                     2                   ∂r          ∂r                     2     \n",
       "  ∂r                                                        ∂t                                                     ∂r      \n",
       "───────────────────────────────────────────────────────────────────────────────────────────────────────────────────────────\n",
       "                                                                                                                      2    \n",
       "                                                                                                                     r     \n",
       "                                                                                                                           \n",
       "   ⎛     2                 2                            2            2                            2            2           \n",
       "   ⎜ 2  ∂              2  ∂              2 ⎛∂          ⎞         2  ∂              2 ⎛∂          ⎞         2  ∂            \n",
       "   ⎜r ⋅───(γ(r, t)) - r ⋅───(γ(r, t)) + r ⋅⎜──(ψ(r, t))⎟  - 2.0⋅r ⋅───(ψ(r, t)) - r ⋅⎜──(ψ(r, t))⎟  + 2.0⋅r ⋅───(ψ(r, t)) -\n",
       "   ⎜     2                 2               ⎝∂r         ⎠             2               ⎝∂t         ⎠             2           \n",
       "   ⎝   ∂r                ∂t                                        ∂r                                        ∂t            \n",
       "   ────────────────────────────────────────────────────────────────────────────────────────────────────────────────────────\n",
       "                                                                                                                      2    \n",
       "                                                                                                                     r     \n",
       "\n",
       "                                                                                                                           \n",
       "                                                                                                                           \n",
       "                                                                                                                           \n",
       "                                                                                                                           \n",
       "                                                                                                                           \n",
       "                                                                                                                           \n",
       "                                                                                                                           \n",
       "                                                                                                                           \n",
       "                                                                                                                           \n",
       "                                                                                                                           \n",
       "                                                                                                                           \n",
       "                                                                                                                           \n",
       "                                                                                                                           \n",
       "                                                                                                                           \n",
       "                                                                                                                           \n",
       "                                                                                                                           \n",
       "                                                 2                                                                         \n",
       "            2 ∂           ∂                  2  ∂                           ∂                   ∂                          \n",
       " t)) + 2.0⋅r ⋅──(ω(r, t))⋅──(ψ(r, t)) + 0.5⋅r ⋅───(ω(r, t)) - 2.0⋅r⋅ω(r, t)⋅──(ψ(r, t)) + 0.5⋅r⋅──(ω(r, t)) + 0.75⋅ω(r, t)⋅\n",
       "              ∂t          ∂t                     2                          ∂r                  ∂r                         \n",
       "                                               ∂t                                                                          \n",
       "───────────────────────────────────────────────────────────────────────────────────────────────────────────────────────────\n",
       "                                                                                                                           \n",
       "                                                                                                                           \n",
       "                                                                                                                           \n",
       "                                                  2                                2⎞                                      \n",
       "       ∂                   4⋅ψ(r, t) ⎛∂          ⎞          4⋅ψ(r, t) ⎛∂          ⎞ ⎟  -2⋅γ(r, t) + 4⋅ψ(r, t)              \n",
       " 2.0⋅r⋅──(ψ(r, t)) + 0.75⋅ℯ         ⋅⎜──(ω(r, t))⎟  - 0.75⋅ℯ         ⋅⎜──(ω(r, t))⎟ ⎟⋅ℯ                                    \n",
       "       ∂r                            ⎝∂r         ⎠                    ⎝∂t         ⎠ ⎟                                      \n",
       "                                                                                    ⎠                                      \n",
       "─────────────────────────────────────────────────────────────────────────────────────────────────────────────              \n",
       "                                                                                                                           \n",
       "                                                                                                                           \n",
       "\n",
       "                                                                                           ⎤\n",
       "                                                                                           ⎥\n",
       "                                                                                           ⎥\n",
       "                                                                                           ⎥\n",
       "                                                                                           ⎥\n",
       "                                                                                           ⎥\n",
       "                                                                                           ⎥\n",
       "                                                                                           ⎥\n",
       "                                                                                           ⎥\n",
       "                                                                                           ⎥\n",
       "                                                                                           ⎥\n",
       "                                                                                           ⎥\n",
       "                                                                                           ⎥\n",
       "                                                                                           ⎥\n",
       "                                                                                           ⎥\n",
       "                                                                                           ⎥\n",
       "                        2                                        2⎞                        ⎥\n",
       " 4⋅ψ(r, t) ⎛∂          ⎞                  4⋅ψ(r, t) ⎛∂          ⎞ ⎟  -2⋅γ(r, t) + 4⋅ψ(r, t)⎥\n",
       "ℯ         ⋅⎜──(ω(r, t))⎟  - 0.75⋅ω(r, t)⋅ℯ         ⋅⎜──(ω(r, t))⎟ ⎟⋅ℯ                      ⎥\n",
       "           ⎝∂r         ⎠                            ⎝∂t         ⎠ ⎟                        ⎥\n",
       "                                                                  ⎠                        ⎥\n",
       "───────────────────────────────────────────────────────────────────────────────────────────⎥\n",
       "                                                                                           ⎥\n",
       "                                                                                           ⎥\n",
       "                                                                                           ⎥\n",
       "                                                                                           ⎥\n",
       "                                                                                           ⎥\n",
       "                                                                                           ⎥\n",
       "                                                                                           ⎥\n",
       "                                                                                           ⎥\n",
       "                                                                                           ⎥\n",
       "                                                                                           ⎥\n",
       "                                                                                           ⎦"
      ]
     },
     "execution_count": 20,
     "metadata": {},
     "output_type": "execute_result"
    }
   ],
   "source": [
    "einst = EinsteinTensor.from_metric(metric)\n",
    "simplify(einst.tensor())"
   ]
  },
  {
   "cell_type": "code",
   "execution_count": 21,
   "id": "d8bf48bf",
   "metadata": {},
   "outputs": [],
   "source": [
    "# rm1 = RiemannCurvatureTensor.from_christoffels(ch)\n",
    "# rm1.tensor()"
   ]
  },
  {
   "cell_type": "code",
   "execution_count": 22,
   "id": "66e87337",
   "metadata": {},
   "outputs": [],
   "source": [
    "# weyl = WeylTensor.from_metric(metric)\n",
    "# weyl.tensor()"
   ]
  },
  {
   "cell_type": "code",
   "execution_count": 23,
   "id": "fc0ad0e5",
   "metadata": {},
   "outputs": [
    {
     "data": {
      "image/png": "[encoded data removed]",
      "text/latex": [
       "$\\displaystyle \\frac{\\partial^{2}}{\\partial r^{2}} \\gamma{\\left(r,t \\right)} - \\frac{\\partial^{2}}{\\partial t^{2}} \\gamma{\\left(r,t \\right)} - \\frac{\\partial^{2}}{\\partial r^{2}} \\psi{\\left(r,t \\right)} - 2 \\left(\\frac{\\partial}{\\partial t} \\psi{\\left(r,t \\right)}\\right)^{2} + \\frac{\\partial^{2}}{\\partial t^{2}} \\psi{\\left(r,t \\right)} + \\frac{\\frac{\\partial}{\\partial r} \\gamma{\\left(r,t \\right)}}{r} - \\frac{\\frac{\\partial}{\\partial r} \\psi{\\left(r,t \\right)}}{r} - \\frac{e^{4 \\psi{\\left(r,t \\right)}} \\left(\\frac{\\partial}{\\partial t} \\omega{\\left(r,t \\right)}\\right)^{2}}{2 r^{2}}$"
      ],
      "text/plain": [
       "                                                                                                                           \n",
       "                                                                               ∂             ∂              4⋅ψ(r, t) ⎛∂   \n",
       "  2              2              2                           2     2            ──(γ(r, t))   ──(ψ(r, t))   ℯ         ⋅⎜──(ω\n",
       " ∂              ∂              ∂               ⎛∂          ⎞     ∂             ∂r            ∂r                       ⎝∂t  \n",
       "───(γ(r, t)) - ───(γ(r, t)) - ───(ψ(r, t)) - 2⋅⎜──(ψ(r, t))⎟  + ───(ψ(r, t)) + ─────────── - ─────────── - ────────────────\n",
       "  2              2              2              ⎝∂t         ⎠      2                 r             r                      2 \n",
       "∂r             ∂t             ∂r                                ∂t                                                    2⋅r  \n",
       "\n",
       "        2\n",
       "       ⎞ \n",
       "(r, t))⎟ \n",
       "       ⎠ \n",
       "─────────\n",
       "         \n",
       "         "
      ]
     },
     "execution_count": 23,
     "metadata": {},
     "output_type": "execute_result"
    }
   ],
   "source": [
    "ricci00 = simplify(Ric.tensor())[0,0]\n",
    "ricci00 "
   ]
  },
  {
   "cell_type": "code",
   "execution_count": 24,
   "id": "c81d648a",
   "metadata": {},
   "outputs": [
    {
     "data": {
      "image/png": "[encoded data removed]",
      "text/latex": [
       "$\\displaystyle \\frac{\\partial^{2}}{\\partial t^{2}} \\gamma{\\left(r,t \\right)} = \\frac{\\partial^{2}}{\\partial r^{2}} \\gamma{\\left(r,t \\right)} - \\frac{\\partial^{2}}{\\partial r^{2}} \\psi{\\left(r,t \\right)} - 2 \\left(\\frac{\\partial}{\\partial t} \\psi{\\left(r,t \\right)}\\right)^{2} + \\frac{\\partial^{2}}{\\partial t^{2}} \\psi{\\left(r,t \\right)} + \\frac{\\frac{\\partial}{\\partial r} \\gamma{\\left(r,t \\right)}}{r} - \\frac{\\frac{\\partial}{\\partial r} \\psi{\\left(r,t \\right)}}{r} - \\frac{e^{4 \\psi{\\left(r,t \\right)}} \\left(\\frac{\\partial}{\\partial t} \\omega{\\left(r,t \\right)}\\right)^{2}}{2 r^{2}}$"
      ],
      "text/plain": [
       "                                                                                                                           \n",
       "                                                                               ∂             ∂              4⋅ψ(r, t) ⎛∂   \n",
       "  2              2              2                           2     2            ──(γ(r, t))   ──(ψ(r, t))   ℯ         ⋅⎜──(ω\n",
       " ∂              ∂              ∂               ⎛∂          ⎞     ∂             ∂r            ∂r                       ⎝∂t  \n",
       "───(γ(r, t)) = ───(γ(r, t)) - ───(ψ(r, t)) - 2⋅⎜──(ψ(r, t))⎟  + ───(ψ(r, t)) + ─────────── - ─────────── - ────────────────\n",
       "  2              2              2              ⎝∂t         ⎠      2                 r             r                      2 \n",
       "∂t             ∂r             ∂r                                ∂t                                                    2⋅r  \n",
       "\n",
       "        2\n",
       "       ⎞ \n",
       "(r, t))⎟ \n",
       "       ⎠ \n",
       "─────────\n",
       "         \n",
       "         "
      ]
     },
     "execution_count": 24,
     "metadata": {},
     "output_type": "execute_result"
    }
   ],
   "source": [
    "Eq((-1)*ricci00.args[0],solve(ricci00,(-1)*ricci00.args[0])[0])"
   ]
  },
  {
   "cell_type": "code",
   "execution_count": 25,
   "id": "07452c26",
   "metadata": {},
   "outputs": [
    {
     "data": {
      "image/png": "[encoded data removed]",
      "text/latex": [
       "$\\displaystyle \\frac{\\partial^{2}}{\\partial r^{2}} \\gamma{\\left(r,t \\right)} - \\frac{\\partial^{2}}{\\partial t^{2}} \\gamma{\\left(r,t \\right)} - \\frac{\\partial^{2}}{\\partial r^{2}} \\psi{\\left(r,t \\right)} - 2 \\left(\\frac{\\partial}{\\partial t} \\psi{\\left(r,t \\right)}\\right)^{2} + \\frac{\\partial^{2}}{\\partial t^{2}} \\psi{\\left(r,t \\right)} + \\frac{\\frac{\\partial}{\\partial r} \\gamma{\\left(r,t \\right)}}{r} - \\frac{\\frac{\\partial}{\\partial r} \\psi{\\left(r,t \\right)}}{r} - \\frac{e^{4 \\psi{\\left(r,t \\right)}} \\left(\\frac{\\partial}{\\partial t} \\omega{\\left(r,t \\right)}\\right)^{2}}{2 r^{2}}$"
      ],
      "text/plain": [
       "                                                                                                                           \n",
       "                                                                               ∂             ∂              4⋅ψ(r, t) ⎛∂   \n",
       "  2              2              2                           2     2            ──(γ(r, t))   ──(ψ(r, t))   ℯ         ⋅⎜──(ω\n",
       " ∂              ∂              ∂               ⎛∂          ⎞     ∂             ∂r            ∂r                       ⎝∂t  \n",
       "───(γ(r, t)) - ───(γ(r, t)) - ───(ψ(r, t)) - 2⋅⎜──(ψ(r, t))⎟  + ───(ψ(r, t)) + ─────────── - ─────────── - ────────────────\n",
       "  2              2              2              ⎝∂t         ⎠      2                 r             r                      2 \n",
       "∂r             ∂t             ∂r                                ∂t                                                    2⋅r  \n",
       "\n",
       "        2\n",
       "       ⎞ \n",
       "(r, t))⎟ \n",
       "       ⎠ \n",
       "─────────\n",
       "         \n",
       "         "
      ]
     },
     "execution_count": 25,
     "metadata": {},
     "output_type": "execute_result"
    }
   ],
   "source": [
    "ricci00"
   ]
  },
  {
   "cell_type": "code",
   "execution_count": 26,
   "id": "63d749c4",
   "metadata": {},
   "outputs": [
    {
     "data": {
      "image/png": "[encoded data removed]",
      "text/latex": [
       "$\\displaystyle \\frac{\\left(- 2 r^{2} \\omega{\\left(r,t \\right)} \\frac{\\partial^{2}}{\\partial r^{2}} \\psi{\\left(r,t \\right)} + 2 r^{2} \\omega{\\left(r,t \\right)} \\frac{\\partial^{2}}{\\partial t^{2}} \\psi{\\left(r,t \\right)} - 4 r^{2} \\frac{\\partial}{\\partial r} \\omega{\\left(r,t \\right)} \\frac{\\partial}{\\partial r} \\psi{\\left(r,t \\right)} - r^{2} \\frac{\\partial^{2}}{\\partial r^{2}} \\omega{\\left(r,t \\right)} + 4 r^{2} \\frac{\\partial}{\\partial t} \\omega{\\left(r,t \\right)} \\frac{\\partial}{\\partial t} \\psi{\\left(r,t \\right)} + r^{2} \\frac{\\partial^{2}}{\\partial t^{2}} \\omega{\\left(r,t \\right)} - 2 r \\omega{\\left(r,t \\right)} \\frac{\\partial}{\\partial r} \\psi{\\left(r,t \\right)} + r \\frac{\\partial}{\\partial r} \\omega{\\left(r,t \\right)} + \\omega{\\left(r,t \\right)} e^{4 \\psi{\\left(r,t \\right)}} \\left(\\frac{\\partial}{\\partial r} \\omega{\\left(r,t \\right)}\\right)^{2} - \\omega{\\left(r,t \\right)} e^{4 \\psi{\\left(r,t \\right)}} \\left(\\frac{\\partial}{\\partial t} \\omega{\\left(r,t \\right)}\\right)^{2}\\right) e^{- 2 \\gamma{\\left(r,t \\right)} + 4 \\psi{\\left(r,t \\right)}}}{2 r^{2}}$"
      ],
      "text/plain": [
       "⎛                 2                           2                                                2                           \n",
       "⎜     2          ∂                2          ∂                2 ∂           ∂              2  ∂                2 ∂         \n",
       "⎜- 2⋅r ⋅ω(r, t)⋅───(ψ(r, t)) + 2⋅r ⋅ω(r, t)⋅───(ψ(r, t)) - 4⋅r ⋅──(ω(r, t))⋅──(ψ(r, t)) - r ⋅───(ω(r, t)) + 4⋅r ⋅──(ω(r, t)\n",
       "⎜                 2                           2                 ∂r          ∂r                 2                 ∂t        \n",
       "⎝               ∂r                          ∂t                                               ∂r                            \n",
       "───────────────────────────────────────────────────────────────────────────────────────────────────────────────────────────\n",
       "                                                                                                                           \n",
       "                                                                                                                           \n",
       "\n",
       "                     2                                                                                      2              \n",
       "  ∂              2  ∂                         ∂               ∂                      4⋅ψ(r, t) ⎛∂          ⎞             4⋅\n",
       ")⋅──(ψ(r, t)) + r ⋅───(ω(r, t)) - 2⋅r⋅ω(r, t)⋅──(ψ(r, t)) + r⋅──(ω(r, t)) + ω(r, t)⋅ℯ         ⋅⎜──(ω(r, t))⎟  - ω(r, t)⋅ℯ  \n",
       "  ∂t                 2                        ∂r              ∂r                               ⎝∂r         ⎠               \n",
       "                   ∂t                                                                                                      \n",
       "───────────────────────────────────────────────────────────────────────────────────────────────────────────────────────────\n",
       "                         2                                                                                                 \n",
       "                      2⋅r                                                                                                  \n",
       "\n",
       "                     2⎞                        \n",
       "ψ(r, t) ⎛∂          ⎞ ⎟  -2⋅γ(r, t) + 4⋅ψ(r, t)\n",
       "       ⋅⎜──(ω(r, t))⎟ ⎟⋅ℯ                      \n",
       "        ⎝∂t         ⎠ ⎟                        \n",
       "                      ⎠                        \n",
       "───────────────────────────────────────────────\n",
       "                                               \n",
       "                                               "
      ]
     },
     "execution_count": 26,
     "metadata": {},
     "output_type": "execute_result"
    }
   ],
   "source": [
    "ricci23 = simplify(Ric.tensor())[2,3]\n",
    "ricci23 "
   ]
  },
  {
   "cell_type": "code",
   "execution_count": 27,
   "id": "8d570441",
   "metadata": {},
   "outputs": [
    {
     "data": {
      "image/png": "[encoded data removed]",
      "text/latex": [
       "$\\displaystyle \\frac{\\partial^{2}}{\\partial t^{2}} \\psi{\\left(r,t \\right)} = \\frac{\\partial^{2}}{\\partial r^{2}} \\psi{\\left(r,t \\right)} + \\frac{\\frac{\\partial}{\\partial r} \\psi{\\left(r,t \\right)}}{r} - \\frac{e^{4 \\psi{\\left(r,t \\right)}} \\left(\\frac{\\partial}{\\partial r} \\omega{\\left(r,t \\right)}\\right)^{2}}{2 r^{2}} + \\frac{e^{4 \\psi{\\left(r,t \\right)}} \\left(\\frac{\\partial}{\\partial t} \\omega{\\left(r,t \\right)}\\right)^{2}}{2 r^{2}}$"
      ],
      "text/plain": [
       "                                                                    2                           2\n",
       "                              ∂              4⋅ψ(r, t) ⎛∂          ⎞     4⋅ψ(r, t) ⎛∂          ⎞ \n",
       "  2              2            ──(ψ(r, t))   ℯ         ⋅⎜──(ω(r, t))⎟    ℯ         ⋅⎜──(ω(r, t))⎟ \n",
       " ∂              ∂             ∂r                       ⎝∂r         ⎠               ⎝∂t         ⎠ \n",
       "───(ψ(r, t)) = ───(ψ(r, t)) + ─────────── - ───────────────────────── + ─────────────────────────\n",
       "  2              2                 r                      2                           2          \n",
       "∂t             ∂r                                      2⋅r                         2⋅r           "
      ]
     },
     "execution_count": 27,
     "metadata": {},
     "output_type": "execute_result"
    }
   ],
   "source": [
    "equation2 = Eq(diff(psi,t,t), expand(solve( simplify(Ric.tensor())[3,3] , diff(psi,t,t) )[0]) ) \n",
    "equation2"
   ]
  },
  {
   "cell_type": "code",
   "execution_count": 28,
   "id": "8e448cdb",
   "metadata": {},
   "outputs": [
    {
     "data": {
      "image/png": "[encoded data removed]",
      "text/latex": [
       "$\\displaystyle \\frac{\\partial^{2}}{\\partial t^{2}} \\omega{\\left(r,t \\right)} = 4 \\frac{\\partial}{\\partial r} \\omega{\\left(r,t \\right)} \\frac{\\partial}{\\partial r} \\psi{\\left(r,t \\right)} + \\frac{\\partial^{2}}{\\partial r^{2}} \\omega{\\left(r,t \\right)} - 4 \\frac{\\partial}{\\partial t} \\omega{\\left(r,t \\right)} \\frac{\\partial}{\\partial t} \\psi{\\left(r,t \\right)} - \\frac{\\frac{\\partial}{\\partial r} \\omega{\\left(r,t \\right)}}{r}$"
      ],
      "text/plain": [
       "                                                                                      ∂          \n",
       "  2                                          2                                        ──(ω(r, t))\n",
       " ∂               ∂           ∂              ∂               ∂           ∂             ∂r         \n",
       "───(ω(r, t)) = 4⋅──(ω(r, t))⋅──(ψ(r, t)) + ───(ω(r, t)) - 4⋅──(ω(r, t))⋅──(ψ(r, t)) - ───────────\n",
       "  2              ∂r          ∂r              2              ∂t          ∂t                 r     \n",
       "∂t                                         ∂r                                                    "
      ]
     },
     "execution_count": 28,
     "metadata": {},
     "output_type": "execute_result"
    }
   ],
   "source": [
    "equation3 = Eq(diff(omega,t,t),solve( simplify(simplify(Ric.tensor())[2,2].subs(equation2.args[0],equation2.args[1] )), diff(omega,t,t) )[0])\n",
    "equation3"
   ]
  },
  {
   "cell_type": "code",
   "execution_count": 29,
   "id": "808db7ef",
   "metadata": {},
   "outputs": [
    {
     "data": {
      "image/png": "[encoded data removed]",
      "text/latex": [
       "$\\displaystyle - 2 \\frac{\\partial}{\\partial r} \\psi{\\left(r,t \\right)} \\frac{\\partial}{\\partial t} \\psi{\\left(r,t \\right)} + \\frac{\\frac{\\partial}{\\partial t} \\gamma{\\left(r,t \\right)}}{r} - \\frac{e^{4 \\psi{\\left(r,t \\right)}} \\frac{\\partial}{\\partial r} \\omega{\\left(r,t \\right)} \\frac{\\partial}{\\partial t} \\omega{\\left(r,t \\right)}}{2 r^{2}}$"
      ],
      "text/plain": [
       "                              ∂              4⋅ψ(r, t) ∂           ∂          \n",
       "                              ──(γ(r, t))   ℯ         ⋅──(ω(r, t))⋅──(ω(r, t))\n",
       "    ∂           ∂             ∂t                       ∂r          ∂t         \n",
       "- 2⋅──(ψ(r, t))⋅──(ψ(r, t)) + ─────────── - ──────────────────────────────────\n",
       "    ∂r          ∂t                 r                          2               \n",
       "                                                           2⋅r                "
      ]
     },
     "execution_count": 29,
     "metadata": {},
     "output_type": "execute_result"
    }
   ],
   "source": [
    "ricci10 = simplify(Ric.tensor())[1,0]\n",
    "ricci10 "
   ]
  },
  {
   "cell_type": "code",
   "execution_count": 30,
   "id": "82bed380",
   "metadata": {},
   "outputs": [
    {
     "data": {
      "image/png": "[encoded data removed]",
      "text/latex": [
       "$\\displaystyle \\frac{\\partial}{\\partial t} \\gamma{\\left(r,t \\right)} = 2 r \\frac{\\partial}{\\partial r} \\psi{\\left(r,t \\right)} \\frac{\\partial}{\\partial t} \\psi{\\left(r,t \\right)} + \\frac{e^{4 \\psi{\\left(r,t \\right)}} \\frac{\\partial}{\\partial r} \\omega{\\left(r,t \\right)} \\frac{\\partial}{\\partial t} \\omega{\\left(r,t \\right)}}{2 r}$"
      ],
      "text/plain": [
       "                                             4⋅ψ(r, t) ∂           ∂          \n",
       "                                            ℯ         ⋅──(ω(r, t))⋅──(ω(r, t))\n",
       "∂                 ∂           ∂                        ∂r          ∂t         \n",
       "──(γ(r, t)) = 2⋅r⋅──(ψ(r, t))⋅──(ψ(r, t)) + ──────────────────────────────────\n",
       "∂t                ∂r          ∂t                           2⋅r                "
      ]
     },
     "execution_count": 30,
     "metadata": {},
     "output_type": "execute_result"
    }
   ],
   "source": [
    "equation5 =  Eq(diff(gamma,t),solve( ricci10 , diff(gamma,t) )[0])\n",
    "equation5 "
   ]
  },
  {
   "cell_type": "code",
   "execution_count": 31,
   "id": "e4b0d0d3",
   "metadata": {},
   "outputs": [
    {
     "data": {
      "image/png": "[encoded data removed]",
      "text/latex": [
       "$\\displaystyle - 1.0 \\left(\\frac{\\partial}{\\partial r} \\psi{\\left(r,t \\right)}\\right)^{2} - 1.0 \\left(\\frac{\\partial}{\\partial t} \\psi{\\left(r,t \\right)}\\right)^{2} + \\frac{1.0 \\frac{\\partial}{\\partial r} \\gamma{\\left(r,t \\right)}}{r} - \\frac{0.25 e^{4 \\psi{\\left(r,t \\right)}} \\left(\\frac{\\partial}{\\partial r} \\omega{\\left(r,t \\right)}\\right)^{2}}{r^{2}} - \\frac{0.25 e^{4 \\psi{\\left(r,t \\right)}} \\left(\\frac{\\partial}{\\partial t} \\omega{\\left(r,t \\right)}\\right)^{2}}{r^{2}}$"
      ],
      "text/plain": [
       "                                                                                   2                                2\n",
       "                                        ∂                   4⋅ψ(r, t) ⎛∂          ⎞          4⋅ψ(r, t) ⎛∂          ⎞ \n",
       "               2                2   1.0⋅──(γ(r, t))   0.25⋅ℯ         ⋅⎜──(ω(r, t))⎟    0.25⋅ℯ         ⋅⎜──(ω(r, t))⎟ \n",
       "  ⎛∂          ⎞    ⎛∂          ⎞        ∂r                            ⎝∂r         ⎠                    ⎝∂t         ⎠ \n",
       "- ⎜──(ψ(r, t))⎟  - ⎜──(ψ(r, t))⎟  + ─────────────── - ────────────────────────────── - ──────────────────────────────\n",
       "  ⎝∂r         ⎠    ⎝∂t         ⎠           r                         2                                2              \n",
       "                                                                    r                                r               "
      ]
     },
     "execution_count": 31,
     "metadata": {},
     "output_type": "execute_result"
    }
   ],
   "source": [
    "einstein00 = simplify(einst.tensor())[0,0]\n",
    "einstein00 "
   ]
  },
  {
   "cell_type": "code",
   "execution_count": 32,
   "id": "674e02b9",
   "metadata": {},
   "outputs": [
    {
     "data": {
      "image/png": "[encoded data removed]",
      "text/latex": [
       "$\\displaystyle \\frac{\\partial}{\\partial r} \\gamma{\\left(r,t \\right)} = 1.0 r \\left(\\frac{\\partial}{\\partial r} \\psi{\\left(r,t \\right)}\\right)^{2} + 1.0 r \\left(\\frac{\\partial}{\\partial t} \\psi{\\left(r,t \\right)}\\right)^{2} + \\frac{0.25 e^{4.0 \\psi{\\left(r,t \\right)}} \\left(\\frac{\\partial}{\\partial r} \\omega{\\left(r,t \\right)}\\right)^{2}}{r} + \\frac{0.25 e^{4.0 \\psi{\\left(r,t \\right)}} \\left(\\frac{\\partial}{\\partial t} \\omega{\\left(r,t \\right)}\\right)^{2}}{r}$"
      ],
      "text/plain": [
       "                                                                                           2                               \n",
       "                                                                  4.0⋅ψ(r, t) ⎛∂          ⎞          4.0⋅ψ(r, t) ⎛∂        \n",
       "                                 2                      2   0.25⋅ℯ           ⋅⎜──(ω(r, t))⎟    0.25⋅ℯ           ⋅⎜──(ω(r, t\n",
       "∂                   ⎛∂          ⎞          ⎛∂          ⎞                      ⎝∂r         ⎠                      ⎝∂t       \n",
       "──(γ(r, t)) = 1.0⋅r⋅⎜──(ψ(r, t))⎟  + 1.0⋅r⋅⎜──(ψ(r, t))⎟  + ──────────────────────────────── + ────────────────────────────\n",
       "∂r                  ⎝∂r         ⎠          ⎝∂t         ⎠                   r                                  r            \n",
       "\n",
       "   2\n",
       "  ⎞ \n",
       "))⎟ \n",
       "  ⎠ \n",
       "────\n",
       "    "
      ]
     },
     "execution_count": 32,
     "metadata": {},
     "output_type": "execute_result"
    }
   ],
   "source": [
    "equation4 = Eq(diff(gamma,r),expand(solve( einstein00 , diff(gamma,r))[0]))\n",
    "equation4"
   ]
  },
  {
   "cell_type": "code",
   "execution_count": 33,
   "id": "e649e85a",
   "metadata": {},
   "outputs": [
    {
     "name": "stderr",
     "output_type": "stream",
     "text": [
      "/opt/anaconda3/lib/python3.8/site-packages/sympy/matrices/repmatrix.py:98: SymPyDeprecationWarning: \n",
      "\n",
      "non-Expr objects in a Matrix has been deprecated since SymPy 1.9. Use\n",
      "list of lists, TableForm or some other data structure instead. See\n",
      "https://github.com/sympy/sympy/issues/21497 for more info.\n",
      "\n",
      "  SymPyDeprecationWarning(\n"
     ]
    }
   ],
   "source": [
    "fieldEquations = Matrix([equation2,equation3,equation4,equation5])"
   ]
  }
 ],
 "metadata": {
  "@webio": {
   "lastCommId": "80238d8cf82d490a83b84213cb1f8e31",
   "lastKernelId": "db24a579-f4c5-47fd-b1d2-cc53fe77cd3d"
  },
  "kernelspec": {
   "display_name": "Python 3 (ipykernel)",
   "language": "python",
   "name": "python3"
  },
  "language_info": {
   "codemirror_mode": {
    "name": "ipython",
    "version": 3
   },
   "file_extension": ".py",
   "mimetype": "text/x-python",
   "name": "python",
   "nbconvert_exporter": "python",
   "pygments_lexer": "ipython3",
   "version": "3.8.8"
  }
 },
 "nbformat": 4,
 "nbformat_minor": 5
}
