{
 "cells": [
  {
   "cell_type": "markdown",
   "id": "405d3936",
   "metadata": {},
   "source": [
    "# Scalar plane waves in general relativity by Halilsoy\n",
    "##  Geoff Cope\n",
    "##  Univeristy of Utah\n",
    "##  December 31, 2021"
   ]
  },
  {
   "cell_type": "markdown",
   "id": "3588d2ff",
   "metadata": {},
   "source": [
    "https://www.youtube.com/watch?v=IkHVQr7c-RU"
   ]
  },
  {
   "cell_type": "markdown",
   "id": "9a808dd6",
   "metadata": {},
   "source": [
    "https://www.researchgate.net/publication/226112250_Scalar _plane_waves _in _general _relativity"
   ]
  },
  {
   "cell_type": "code",
   "execution_count": 1,
   "id": "dd94a9f3",
   "metadata": {},
   "outputs": [
    {
     "name": "stdout",
     "output_type": "stream",
     "text": [
      "IPython console for SymPy 1.9 (Python 3.8.8-64-bit) (ground types: gmpy)\n",
      "\n",
      "These commands were executed:\n",
      ">>> from __future__ import division\n",
      ">>> from sympy import *\n",
      ">>> x, y, z, t = symbols('x y z t')\n",
      ">>> k, m, n = symbols('k m n', integer=True)\n",
      ">>> f, g, h = symbols('f g h', cls=Function)\n",
      ">>> init_printing()\n",
      "\n",
      "Documentation can be found at https://docs.sympy.org/1.9/\n",
      "\n"
     ]
    }
   ],
   "source": [
    "from sympy import init_session\n",
    "init_session(use_latex=True)"
   ]
  },
  {
   "cell_type": "code",
   "execution_count": 2,
   "id": "e9485046",
   "metadata": {},
   "outputs": [],
   "source": [
    "import warnings\n",
    "import matplotlib.cbook\n",
    "warnings.filterwarnings(\"ignore\",category=matplotlib.cbook.mplDeprecation)"
   ]
  },
  {
   "cell_type": "code",
   "execution_count": 3,
   "id": "ca8c686e",
   "metadata": {},
   "outputs": [],
   "source": [
    "u,v,x,y,du,dv,dx,dy = symbols( 'u v x y du dv dx dy' ) "
   ]
  },
  {
   "cell_type": "code",
   "execution_count": 4,
   "id": "94a956ed",
   "metadata": {},
   "outputs": [
    {
     "data": {
      "image/png": "[encoded data removed]",
      "text/latex": [
       "$\\displaystyle M{\\left(u,v \\right)}$"
      ],
      "text/plain": [
       "M(u, v)"
      ]
     },
     "execution_count": 4,
     "metadata": {},
     "output_type": "execute_result"
    }
   ],
   "source": [
    "M = Function('M')(u,v)\n",
    "M"
   ]
  },
  {
   "cell_type": "code",
   "execution_count": 5,
   "id": "a96f7b73",
   "metadata": {},
   "outputs": [
    {
     "data": {
      "image/png": "[encoded data removed]",
      "text/latex": [
       "$\\displaystyle U{\\left(u,v \\right)}$"
      ],
      "text/plain": [
       "U(u, v)"
      ]
     },
     "execution_count": 5,
     "metadata": {},
     "output_type": "execute_result"
    }
   ],
   "source": [
    "U = Function('U')(u,v)\n",
    "U"
   ]
  },
  {
   "cell_type": "code",
   "execution_count": 6,
   "id": "4e4f6966",
   "metadata": {},
   "outputs": [
    {
     "data": {
      "image/png": "[encoded data removed]",
      "text/latex": [
       "$\\displaystyle V{\\left(u,v \\right)}$"
      ],
      "text/plain": [
       "V(u, v)"
      ]
     },
     "execution_count": 6,
     "metadata": {},
     "output_type": "execute_result"
    }
   ],
   "source": [
    "V = Function('V')(u,v)\n",
    "V"
   ]
  },
  {
   "cell_type": "code",
   "execution_count": 7,
   "id": "2dd272fc",
   "metadata": {},
   "outputs": [
    {
     "data": {
      "text/latex": [
       "$\\displaystyle \\left[\\begin{matrix}u\\\\v\\\\x\\\\y\\end{matrix}\\right]$"
      ],
      "text/plain": [
       "⎡u⎤\n",
       "⎢ ⎥\n",
       "⎢v⎥\n",
       "⎢ ⎥\n",
       "⎢x⎥\n",
       "⎢ ⎥\n",
       "⎣y⎦"
      ]
     },
     "execution_count": 7,
     "metadata": {},
     "output_type": "execute_result"
    }
   ],
   "source": [
    "variables = Matrix( [u,v,x,y] )\n",
    "variables"
   ]
  },
  {
   "cell_type": "code",
   "execution_count": 8,
   "id": "82b3d15a",
   "metadata": {},
   "outputs": [
    {
     "data": {
      "text/latex": [
       "$\\displaystyle \\left[\\begin{matrix}du\\\\dv\\\\dx\\\\dy\\end{matrix}\\right]$"
      ],
      "text/plain": [
       "⎡du⎤\n",
       "⎢  ⎥\n",
       "⎢dv⎥\n",
       "⎢  ⎥\n",
       "⎢dx⎥\n",
       "⎢  ⎥\n",
       "⎣dy⎦"
      ]
     },
     "execution_count": 8,
     "metadata": {},
     "output_type": "execute_result"
    }
   ],
   "source": [
    "differentials = Matrix( [du,dv,dx,dy] ) \n",
    "differentials"
   ]
  },
  {
   "cell_type": "code",
   "execution_count": 51,
   "id": "feeff560",
   "metadata": {},
   "outputs": [
    {
     "data": {
      "image/png": "[encoded data removed]",
      "text/latex": [
       "$\\displaystyle 2 du dv e^{- M{\\left(u,v \\right)}} - dx^{2} e^{- U{\\left(u,v \\right)}} e^{V{\\left(u,v \\right)}} - dy^{2} e^{- U{\\left(u,v \\right)}} e^{- V{\\left(u,v \\right)}}$"
      ],
      "text/plain": [
       "         -M(u, v)     2  -U(u, v)  V(u, v)     2  -U(u, v)  -V(u, v)\n",
       "2⋅du⋅dv⋅ℯ         - dx ⋅ℯ        ⋅ℯ        - dy ⋅ℯ        ⋅ℯ        "
      ]
     },
     "execution_count": 51,
     "metadata": {},
     "output_type": "execute_result"
    }
   ],
   "source": [
    "lineElement = expand( 2*exp(-M)*du*dv - exp(-U) * ( exp(V)*dx**2 + exp(-V)*dy**2 ) ) \n",
    "lineElement"
   ]
  },
  {
   "cell_type": "code",
   "execution_count": 52,
   "id": "5df8c90b",
   "metadata": {},
   "outputs": [
    {
     "data": {
      "text/latex": [
       "$\\displaystyle \\left[\\begin{matrix}0 & e^{- M{\\left(u,v \\right)}} & 0 & 0\\\\e^{- M{\\left(u,v \\right)}} & 0 & 0 & 0\\\\0 & 0 & - e^{- U{\\left(u,v \\right)}} e^{V{\\left(u,v \\right)}} & 0\\\\0 & 0 & 0 & - e^{- U{\\left(u,v \\right)}} e^{- V{\\left(u,v \\right)}}\\end{matrix}\\right]$"
      ],
      "text/plain": [
       "⎡            -M(u, v)                                           ⎤\n",
       "⎢    0      ℯ                   0                    0          ⎥\n",
       "⎢                                                               ⎥\n",
       "⎢ -M(u, v)                                                      ⎥\n",
       "⎢ℯ              0               0                    0          ⎥\n",
       "⎢                                                               ⎥\n",
       "⎢                        -U(u, v)  V(u, v)                      ⎥\n",
       "⎢    0          0      -ℯ        ⋅ℯ                  0          ⎥\n",
       "⎢                                                               ⎥\n",
       "⎢                                             -U(u, v)  -V(u, v)⎥\n",
       "⎣    0          0               0           -ℯ        ⋅ℯ        ⎦"
      ]
     },
     "execution_count": 52,
     "metadata": {},
     "output_type": "execute_result"
    }
   ],
   "source": [
    "g = zeros(4)\n",
    "\n",
    "for i in range(4):\n",
    "    for j in range(4):\n",
    "        if i == j:\n",
    "            g[i,j] = lineElement.coeff( differentials[i],2 ) \n",
    "        else:\n",
    "            g[i,j] = Rational(1,2)*lineElement.coeff( differentials[i]*differentials[j],1 )\n",
    "            \n",
    "g"
   ]
  },
  {
   "cell_type": "code",
   "execution_count": 53,
   "id": "22c1e62e",
   "metadata": {},
   "outputs": [],
   "source": [
    "import sympy"
   ]
  },
  {
   "cell_type": "code",
   "execution_count": 54,
   "id": "e1f605c3",
   "metadata": {},
   "outputs": [
    {
     "data": {
      "text/latex": [
       "$\\displaystyle \\left[\\begin{matrix}0 & e^{- M{\\left(u,v \\right)}} & 0 & 0\\\\e^{- M{\\left(u,v \\right)}} & 0 & 0 & 0\\\\0 & 0 & - e^{- U{\\left(u,v \\right)}} e^{V{\\left(u,v \\right)}} & 0\\\\0 & 0 & 0 & - e^{- U{\\left(u,v \\right)}} e^{- V{\\left(u,v \\right)}}\\end{matrix}\\right]$"
      ],
      "text/plain": [
       "⎡            -M(u, v)                                           ⎤\n",
       "⎢    0      ℯ                   0                    0          ⎥\n",
       "⎢                                                               ⎥\n",
       "⎢ -M(u, v)                                                      ⎥\n",
       "⎢ℯ              0               0                    0          ⎥\n",
       "⎢                                                               ⎥\n",
       "⎢                        -U(u, v)  V(u, v)                      ⎥\n",
       "⎢    0          0      -ℯ        ⋅ℯ                  0          ⎥\n",
       "⎢                                                               ⎥\n",
       "⎢                                             -U(u, v)  -V(u, v)⎥\n",
       "⎣    0          0               0           -ℯ        ⋅ℯ        ⎦"
      ]
     },
     "execution_count": 54,
     "metadata": {},
     "output_type": "execute_result"
    }
   ],
   "source": [
    "m = sympy.Array(g)\n",
    "m"
   ]
  },
  {
   "cell_type": "code",
   "execution_count": 13,
   "id": "6991b8e4",
   "metadata": {},
   "outputs": [],
   "source": [
    "from einsteinpy.symbolic import *"
   ]
  },
  {
   "cell_type": "code",
   "execution_count": 55,
   "id": "de013bdc",
   "metadata": {},
   "outputs": [],
   "source": [
    "syms = sympy.symbols(\"u v x y\")\n",
    "u,v,x,y = syms"
   ]
  },
  {
   "cell_type": "code",
   "execution_count": 56,
   "id": "f0c08bf6",
   "metadata": {},
   "outputs": [],
   "source": [
    "metric = MetricTensor(m,syms)"
   ]
  },
  {
   "cell_type": "code",
   "execution_count": 57,
   "id": "98554438",
   "metadata": {},
   "outputs": [
    {
     "data": {
      "text/latex": [
       "$\\displaystyle \\left[\\begin{matrix}\\left[\\begin{matrix}- \\frac{\\partial}{\\partial u} M{\\left(u,v \\right)} & 0 & 0 & 0\\\\0 & 0 & 0 & 0\\\\0 & 0 & \\frac{\\left(- e^{- U{\\left(u,v \\right)}} e^{V{\\left(u,v \\right)}} \\frac{\\partial}{\\partial v} U{\\left(u,v \\right)} + e^{- U{\\left(u,v \\right)}} e^{V{\\left(u,v \\right)}} \\frac{\\partial}{\\partial v} V{\\left(u,v \\right)}\\right) e^{M{\\left(u,v \\right)}}}{2} & 0\\\\0 & 0 & 0 & \\frac{\\left(- e^{- U{\\left(u,v \\right)}} e^{- V{\\left(u,v \\right)}} \\frac{\\partial}{\\partial v} U{\\left(u,v \\right)} - e^{- U{\\left(u,v \\right)}} e^{- V{\\left(u,v \\right)}} \\frac{\\partial}{\\partial v} V{\\left(u,v \\right)}\\right) e^{M{\\left(u,v \\right)}}}{2}\\end{matrix}\\right] & \\left[\\begin{matrix}0 & 0 & 0 & 0\\\\0 & - \\frac{\\partial}{\\partial v} M{\\left(u,v \\right)} & 0 & 0\\\\0 & 0 & \\frac{\\left(- e^{- U{\\left(u,v \\right)}} e^{V{\\left(u,v \\right)}} \\frac{\\partial}{\\partial u} U{\\left(u,v \\right)} + e^{- U{\\left(u,v \\right)}} e^{V{\\left(u,v \\right)}} \\frac{\\partial}{\\partial u} V{\\left(u,v \\right)}\\right) e^{M{\\left(u,v \\right)}}}{2} & 0\\\\0 & 0 & 0 & \\frac{\\left(- e^{- U{\\left(u,v \\right)}} e^{- V{\\left(u,v \\right)}} \\frac{\\partial}{\\partial u} U{\\left(u,v \\right)} - e^{- U{\\left(u,v \\right)}} e^{- V{\\left(u,v \\right)}} \\frac{\\partial}{\\partial u} V{\\left(u,v \\right)}\\right) e^{M{\\left(u,v \\right)}}}{2}\\end{matrix}\\right] & \\left[\\begin{matrix}0 & 0 & - \\frac{\\left(e^{- U{\\left(u,v \\right)}} e^{V{\\left(u,v \\right)}} \\frac{\\partial}{\\partial u} U{\\left(u,v \\right)} - e^{- U{\\left(u,v \\right)}} e^{V{\\left(u,v \\right)}} \\frac{\\partial}{\\partial u} V{\\left(u,v \\right)}\\right) e^{U{\\left(u,v \\right)}} e^{- V{\\left(u,v \\right)}}}{2} & 0\\\\0 & 0 & - \\frac{\\left(e^{- U{\\left(u,v \\right)}} e^{V{\\left(u,v \\right)}} \\frac{\\partial}{\\partial v} U{\\left(u,v \\right)} - e^{- U{\\left(u,v \\right)}} e^{V{\\left(u,v \\right)}} \\frac{\\partial}{\\partial v} V{\\left(u,v \\right)}\\right) e^{U{\\left(u,v \\right)}} e^{- V{\\left(u,v \\right)}}}{2} & 0\\\\- \\frac{\\left(e^{- U{\\left(u,v \\right)}} e^{V{\\left(u,v \\right)}} \\frac{\\partial}{\\partial u} U{\\left(u,v \\right)} - e^{- U{\\left(u,v \\right)}} e^{V{\\left(u,v \\right)}} \\frac{\\partial}{\\partial u} V{\\left(u,v \\right)}\\right) e^{U{\\left(u,v \\right)}} e^{- V{\\left(u,v \\right)}}}{2} & - \\frac{\\left(e^{- U{\\left(u,v \\right)}} e^{V{\\left(u,v \\right)}} \\frac{\\partial}{\\partial v} U{\\left(u,v \\right)} - e^{- U{\\left(u,v \\right)}} e^{V{\\left(u,v \\right)}} \\frac{\\partial}{\\partial v} V{\\left(u,v \\right)}\\right) e^{U{\\left(u,v \\right)}} e^{- V{\\left(u,v \\right)}}}{2} & 0 & 0\\\\0 & 0 & 0 & 0\\end{matrix}\\right] & \\left[\\begin{matrix}0 & 0 & 0 & - \\frac{\\left(e^{- U{\\left(u,v \\right)}} e^{- V{\\left(u,v \\right)}} \\frac{\\partial}{\\partial u} U{\\left(u,v \\right)} + e^{- U{\\left(u,v \\right)}} e^{- V{\\left(u,v \\right)}} \\frac{\\partial}{\\partial u} V{\\left(u,v \\right)}\\right) e^{U{\\left(u,v \\right)}} e^{V{\\left(u,v \\right)}}}{2}\\\\0 & 0 & 0 & - \\frac{\\left(e^{- U{\\left(u,v \\right)}} e^{- V{\\left(u,v \\right)}} \\frac{\\partial}{\\partial v} U{\\left(u,v \\right)} + e^{- U{\\left(u,v \\right)}} e^{- V{\\left(u,v \\right)}} \\frac{\\partial}{\\partial v} V{\\left(u,v \\right)}\\right) e^{U{\\left(u,v \\right)}} e^{V{\\left(u,v \\right)}}}{2}\\\\0 & 0 & 0 & 0\\\\- \\frac{\\left(e^{- U{\\left(u,v \\right)}} e^{- V{\\left(u,v \\right)}} \\frac{\\partial}{\\partial u} U{\\left(u,v \\right)} + e^{- U{\\left(u,v \\right)}} e^{- V{\\left(u,v \\right)}} \\frac{\\partial}{\\partial u} V{\\left(u,v \\right)}\\right) e^{U{\\left(u,v \\right)}} e^{V{\\left(u,v \\right)}}}{2} & - \\frac{\\left(e^{- U{\\left(u,v \\right)}} e^{- V{\\left(u,v \\right)}} \\frac{\\partial}{\\partial v} U{\\left(u,v \\right)} + e^{- U{\\left(u,v \\right)}} e^{- V{\\left(u,v \\right)}} \\frac{\\partial}{\\partial v} V{\\left(u,v \\right)}\\right) e^{U{\\left(u,v \\right)}} e^{V{\\left(u,v \\right)}}}{2} & 0 & 0\\end{matrix}\\right]\\end{matrix}\\right]$"
      ],
      "text/plain": [
       "⎡                                                                                           \n",
       "⎢⎡ ∂                                                                                        \n",
       "⎢⎢-──(M(u, v))  0                                       0                                   \n",
       "⎢⎢ ∂u                                                                                       \n",
       "⎢⎢                                                                                          \n",
       "⎢⎢     0        0                                       0                                   \n",
       "⎢⎢                                                                                          \n",
       "⎢⎢                 ⎛   -U(u, v)  V(u, v) ∂              -U(u, v)  V(u, v) ∂          ⎞  M(u,\n",
       "⎢⎢                 ⎜- ℯ        ⋅ℯ       ⋅──(U(u, v)) + ℯ        ⋅ℯ       ⋅──(V(u, v))⎟⋅ℯ    \n",
       "⎢⎢                 ⎝                     ∂v                               ∂v         ⎠      \n",
       "⎢⎢     0        0  ─────────────────────────────────────────────────────────────────────────\n",
       "⎢⎢                                                      2                                   \n",
       "⎢⎢                                                                                          \n",
       "⎢⎢                                                                                          \n",
       "⎢⎢                                                                                          \n",
       "⎢⎢                                                                                          \n",
       "⎢⎢     0        0                                       0                                   \n",
       "⎢⎣                                                                                          \n",
       "⎣                                                                                           \n",
       "\n",
       "                                                                                            \n",
       "                                                                                   ⎤  ⎡0    \n",
       "                                           0                                       ⎥  ⎢     \n",
       "                                                                                   ⎥  ⎢    ∂\n",
       "                                                                                   ⎥  ⎢0  -─\n",
       "                                           0                                       ⎥  ⎢    ∂\n",
       "                                                                                   ⎥  ⎢     \n",
       " v)                                                                                ⎥  ⎢     \n",
       "                                                                                   ⎥  ⎢     \n",
       "                                                                                   ⎥  ⎢     \n",
       "───                                        0                                       ⎥  ⎢0    \n",
       "                                                                                   ⎥  ⎢     \n",
       "                                                                                   ⎥  ⎢     \n",
       "     ⎛   -U(u, v)  -V(u, v) ∂              -U(u, v)  -V(u, v) ∂          ⎞  M(u, v)⎥  ⎢     \n",
       "     ⎜- ℯ        ⋅ℯ        ⋅──(U(u, v)) - ℯ        ⋅ℯ        ⋅──(V(u, v))⎟⋅ℯ       ⎥  ⎢     \n",
       "     ⎝                      ∂v                                ∂v         ⎠         ⎥  ⎢     \n",
       "     ──────────────────────────────────────────────────────────────────────────────⎥  ⎢0    \n",
       "                                           2                                       ⎦  ⎣     \n",
       "                                                                                            \n",
       "\n",
       "                                                                                            \n",
       "   0                                             0                                          \n",
       "                                                                                            \n",
       "                                                                                            \n",
       "─(M(u, v))                                       0                                          \n",
       "v                                                                                           \n",
       "                                                                                            \n",
       "            ⎛   -U(u, v)  V(u, v) ∂              -U(u, v)  V(u, v) ∂          ⎞  M(u, v)    \n",
       "            ⎜- ℯ        ⋅ℯ       ⋅──(U(u, v)) + ℯ        ⋅ℯ       ⋅──(V(u, v))⎟⋅ℯ           \n",
       "            ⎝                     ∂u                               ∂u         ⎠             \n",
       "   0        ────────────────────────────────────────────────────────────────────────────    \n",
       "                                                 2                                          \n",
       "                                                                                            \n",
       "                                                                                          ⎛ \n",
       "                                                                                          ⎜-\n",
       "                                                                                          ⎝ \n",
       "   0                                             0                                        ──\n",
       "                                                                                            \n",
       "                                                                                            \n",
       "\n",
       "                                                                               ⎡            \n",
       "                                    0                                       ⎤  ⎢            \n",
       "                                                                            ⎥  ⎢            \n",
       "                                                                            ⎥  ⎢            \n",
       "                                    0                                       ⎥  ⎢            \n",
       "                                                                            ⎥  ⎢            \n",
       "                                                                            ⎥  ⎢            \n",
       "                                                                            ⎥  ⎢            \n",
       "                                                                            ⎥  ⎢            \n",
       "                                                                            ⎥  ⎢            \n",
       "                                    0                                       ⎥  ⎢            \n",
       "                                                                            ⎥  ⎢            \n",
       "                                                                            ⎥  ⎢ ⎛ -U(u, v) \n",
       "  -U(u, v)  -V(u, v) ∂              -U(u, v)  -V(u, v) ∂          ⎞  M(u, v)⎥  ⎢-⎜ℯ        ⋅\n",
       " ℯ        ⋅ℯ        ⋅──(U(u, v)) - ℯ        ⋅ℯ        ⋅──(V(u, v))⎟⋅ℯ       ⎥  ⎢ ⎝          \n",
       "                     ∂u                                ∂u         ⎠         ⎥  ⎢────────────\n",
       "────────────────────────────────────────────────────────────────────────────⎥  ⎢            \n",
       "                                    2                                       ⎦  ⎢            \n",
       "                                                                               ⎣            \n",
       "\n",
       "                                                                                            \n",
       "                                                                                            \n",
       "                                                                                            \n",
       "                              0                                                             \n",
       "                                                                                            \n",
       "                                                                                            \n",
       "                                                                                            \n",
       "                                                                                            \n",
       "                                                                                            \n",
       "                              0                                                             \n",
       "                                                                                            \n",
       "                                                                                            \n",
       " V(u, v) ∂              -U(u, v)  V(u, v) ∂          ⎞  U(u, v)  -V(u, v)    ⎛ -U(u, v)  V(u\n",
       "ℯ       ⋅──(U(u, v)) - ℯ        ⋅ℯ       ⋅──(V(u, v))⎟⋅ℯ       ⋅ℯ           -⎜ℯ        ⋅ℯ   \n",
       "         ∂u                               ∂u         ⎠                       ⎝              \n",
       "──────────────────────────────────────────────────────────────────────────  ────────────────\n",
       "                              2                                                             \n",
       "                                                                                            \n",
       "                              0                                                             \n",
       "\n",
       "                                                                         ⎛ -U(u, v)  V(u, v)\n",
       "                                                                        -⎜ℯ        ⋅ℯ       \n",
       "                                                                         ⎝                  \n",
       "                          0                                             ────────────────────\n",
       "                                                                                            \n",
       "                                                                                            \n",
       "                                                                         ⎛ -U(u, v)  V(u, v)\n",
       "                                                                        -⎜ℯ        ⋅ℯ       \n",
       "                                                                         ⎝                  \n",
       "                          0                                             ────────────────────\n",
       "                                                                                            \n",
       "                                                                                            \n",
       ", v) ∂              -U(u, v)  V(u, v) ∂          ⎞  U(u, v)  -V(u, v)                       \n",
       "    ⋅──(U(u, v)) - ℯ        ⋅ℯ       ⋅──(V(u, v))⎟⋅ℯ       ⋅ℯ                               \n",
       "     ∂v                               ∂v         ⎠                                          \n",
       "──────────────────────────────────────────────────────────────────────                      \n",
       "                          2                                                                 \n",
       "                                                                                            \n",
       "                          0                                                                 \n",
       "\n",
       " ∂              -U(u, v)  V(u, v) ∂          ⎞  U(u, v)  -V(u, v)    ⎤  ⎡                   \n",
       "⋅──(U(u, v)) - ℯ        ⋅ℯ       ⋅──(V(u, v))⎟⋅ℯ       ⋅ℯ            ⎥  ⎢                   \n",
       " ∂u                               ∂u         ⎠                       ⎥  ⎢                   \n",
       "──────────────────────────────────────────────────────────────────  0⎥  ⎢                   \n",
       "                      2                                              ⎥  ⎢                   \n",
       "                                                                     ⎥  ⎢                   \n",
       " ∂              -U(u, v)  V(u, v) ∂          ⎞  U(u, v)  -V(u, v)    ⎥  ⎢                   \n",
       "⋅──(U(u, v)) - ℯ        ⋅ℯ       ⋅──(V(u, v))⎟⋅ℯ       ⋅ℯ            ⎥  ⎢                   \n",
       " ∂v                               ∂v         ⎠                       ⎥  ⎢                   \n",
       "──────────────────────────────────────────────────────────────────  0⎥  ⎢                   \n",
       "                      2                                              ⎥  ⎢                   \n",
       "                                                                     ⎥  ⎢                   \n",
       "                                                                     ⎥  ⎢                   \n",
       "                                                                     ⎥  ⎢                   \n",
       "                                                                     ⎥  ⎢ ⎛ -U(u, v)  -V(u, \n",
       "                      0                                             0⎥  ⎢-⎜ℯ        ⋅ℯ      \n",
       "                                                                     ⎥  ⎢ ⎝                 \n",
       "                                                                     ⎥  ⎢───────────────────\n",
       "                      0                                             0⎦  ⎣                   \n",
       "\n",
       "                                                                                            \n",
       "                                                                                            \n",
       "                                                                                            \n",
       "                        0                                                                   \n",
       "                                                                                            \n",
       "                                                                                            \n",
       "                                                                                            \n",
       "                                                                                            \n",
       "                                                                                            \n",
       "                        0                                                                   \n",
       "                                                                                            \n",
       "                                                                                            \n",
       "                        0                                                                   \n",
       "                                                                                            \n",
       "v) ∂              -U(u, v)  -V(u, v) ∂          ⎞  U(u, v)  V(u, v)    ⎛ -U(u, v)  -V(u, v) \n",
       "  ⋅──(U(u, v)) + ℯ        ⋅ℯ        ⋅──(V(u, v))⎟⋅ℯ       ⋅ℯ          -⎜ℯ        ⋅ℯ        ⋅\n",
       "   ∂u                                ∂u         ⎠                      ⎝                    \n",
       "────────────────────────────────────────────────────────────────────  ──────────────────────\n",
       "                        2                                                                   \n",
       "\n",
       "                                                                       ⎛ -U(u, v)  -V(u, v) \n",
       "                                                                      -⎜ℯ        ⋅ℯ        ⋅\n",
       "                                                                       ⎝                    \n",
       "                     0                                             0  ──────────────────────\n",
       "                                                                                            \n",
       "                                                                                            \n",
       "                                                                       ⎛ -U(u, v)  -V(u, v) \n",
       "                                                                      -⎜ℯ        ⋅ℯ        ⋅\n",
       "                                                                       ⎝                    \n",
       "                     0                                             0  ──────────────────────\n",
       "                                                                                            \n",
       "                                                                                            \n",
       "                     0                                             0                        \n",
       "                                                                                            \n",
       "∂              -U(u, v)  -V(u, v) ∂          ⎞  U(u, v)  V(u, v)                            \n",
       "──(U(u, v)) + ℯ        ⋅ℯ        ⋅──(V(u, v))⎟⋅ℯ       ⋅ℯ                                   \n",
       "∂v                                ∂v         ⎠                                              \n",
       "─────────────────────────────────────────────────────────────────  0                        \n",
       "                     2                                                                      \n",
       "\n",
       "∂              -U(u, v)  -V(u, v) ∂          ⎞  U(u, v)  V(u, v) ⎤⎤\n",
       "──(U(u, v)) + ℯ        ⋅ℯ        ⋅──(V(u, v))⎟⋅ℯ       ⋅ℯ        ⎥⎥\n",
       "∂u                                ∂u         ⎠                   ⎥⎥\n",
       "─────────────────────────────────────────────────────────────────⎥⎥\n",
       "                     2                                           ⎥⎥\n",
       "                                                                 ⎥⎥\n",
       "∂              -U(u, v)  -V(u, v) ∂          ⎞  U(u, v)  V(u, v) ⎥⎥\n",
       "──(U(u, v)) + ℯ        ⋅ℯ        ⋅──(V(u, v))⎟⋅ℯ       ⋅ℯ        ⎥⎥\n",
       "∂v                                ∂v         ⎠                   ⎥⎥\n",
       "─────────────────────────────────────────────────────────────────⎥⎥\n",
       "                     2                                           ⎥⎥\n",
       "                                                                 ⎥⎥\n",
       "                     0                                           ⎥⎥\n",
       "                                                                 ⎥⎥\n",
       "                                                                 ⎥⎥\n",
       "                                                                 ⎥⎥\n",
       "                                                                 ⎥⎥\n",
       "                     0                                           ⎥⎥\n",
       "                                                                 ⎦⎦"
      ]
     },
     "execution_count": 57,
     "metadata": {},
     "output_type": "execute_result"
    }
   ],
   "source": [
    "ch = ChristoffelSymbols.from_metric(metric)\n",
    "ch.tensor()"
   ]
  },
  {
   "cell_type": "code",
   "execution_count": 58,
   "id": "a32f2ae0",
   "metadata": {},
   "outputs": [
    {
     "data": {
      "text/latex": [
       "$\\displaystyle \\left[\\begin{matrix}\\frac{\\partial}{\\partial u} M{\\left(u,v \\right)} \\frac{\\partial}{\\partial u} U{\\left(u,v \\right)} - \\frac{\\left(\\frac{\\partial}{\\partial u} U{\\left(u,v \\right)}\\right)^{2}}{2} + \\frac{\\partial^{2}}{\\partial u^{2}} U{\\left(u,v \\right)} - \\frac{\\left(\\frac{\\partial}{\\partial u} V{\\left(u,v \\right)}\\right)^{2}}{2} & - \\frac{\\frac{\\partial}{\\partial u} U{\\left(u,v \\right)} \\frac{\\partial}{\\partial v} U{\\left(u,v \\right)}}{2} - \\frac{\\frac{\\partial}{\\partial u} V{\\left(u,v \\right)} \\frac{\\partial}{\\partial v} V{\\left(u,v \\right)}}{2} + \\frac{\\partial^{2}}{\\partial v\\partial u} M{\\left(u,v \\right)} + \\frac{\\partial^{2}}{\\partial v\\partial u} U{\\left(u,v \\right)} & 0 & 0\\\\- \\frac{\\frac{\\partial}{\\partial u} U{\\left(u,v \\right)} \\frac{\\partial}{\\partial v} U{\\left(u,v \\right)}}{2} - \\frac{\\frac{\\partial}{\\partial u} V{\\left(u,v \\right)} \\frac{\\partial}{\\partial v} V{\\left(u,v \\right)}}{2} + \\frac{\\partial^{2}}{\\partial v\\partial u} M{\\left(u,v \\right)} + \\frac{\\partial^{2}}{\\partial v\\partial u} U{\\left(u,v \\right)} & \\frac{\\partial}{\\partial v} M{\\left(u,v \\right)} \\frac{\\partial}{\\partial v} U{\\left(u,v \\right)} - \\frac{\\left(\\frac{\\partial}{\\partial v} U{\\left(u,v \\right)}\\right)^{2}}{2} + \\frac{\\partial^{2}}{\\partial v^{2}} U{\\left(u,v \\right)} - \\frac{\\left(\\frac{\\partial}{\\partial v} V{\\left(u,v \\right)}\\right)^{2}}{2} & 0 & 0\\\\0 & 0 & \\left(\\frac{\\partial}{\\partial u} U{\\left(u,v \\right)} \\frac{\\partial}{\\partial v} U{\\left(u,v \\right)} - \\frac{\\frac{\\partial}{\\partial u} U{\\left(u,v \\right)} \\frac{\\partial}{\\partial v} V{\\left(u,v \\right)}}{2} - \\frac{\\frac{\\partial}{\\partial v} U{\\left(u,v \\right)} \\frac{\\partial}{\\partial u} V{\\left(u,v \\right)}}{2} - \\frac{\\partial^{2}}{\\partial v\\partial u} U{\\left(u,v \\right)} + \\frac{\\partial^{2}}{\\partial v\\partial u} V{\\left(u,v \\right)}\\right) e^{M{\\left(u,v \\right)} - U{\\left(u,v \\right)} + V{\\left(u,v \\right)}} & 0\\\\0 & 0 & 0 & \\left(\\frac{\\partial}{\\partial u} U{\\left(u,v \\right)} \\frac{\\partial}{\\partial v} U{\\left(u,v \\right)} + \\frac{\\frac{\\partial}{\\partial u} U{\\left(u,v \\right)} \\frac{\\partial}{\\partial v} V{\\left(u,v \\right)}}{2} + \\frac{\\frac{\\partial}{\\partial v} U{\\left(u,v \\right)} \\frac{\\partial}{\\partial u} V{\\left(u,v \\right)}}{2} - \\frac{\\partial^{2}}{\\partial v\\partial u} U{\\left(u,v \\right)} - \\frac{\\partial^{2}}{\\partial v\\partial u} V{\\left(u,v \\right)}\\right) e^{M{\\left(u,v \\right)} - U{\\left(u,v \\right)} - V{\\left(u,v \\right)}}\\end{matrix}\\right]$"
      ],
      "text/plain": [
       "⎡                                             2                               2             \n",
       "⎢                                ⎛∂          ⎞                   ⎛∂          ⎞            ∂ \n",
       "⎢                                ⎜──(U(u, v))⎟      2            ⎜──(V(u, v))⎟            ──\n",
       "⎢      ∂           ∂             ⎝∂u         ⎠     ∂             ⎝∂u         ⎠            ∂u\n",
       "⎢      ──(M(u, v))⋅──(U(u, v)) - ────────────── + ───(U(u, v)) - ──────────────         - ──\n",
       "⎢      ∂u          ∂u                  2            2                  2                    \n",
       "⎢                                                 ∂u                                        \n",
       "⎢                                                                                           \n",
       "⎢                                                                                           \n",
       "⎢  ∂           ∂             ∂           ∂                                                  \n",
       "⎢  ──(U(u, v))⋅──(U(u, v))   ──(V(u, v))⋅──(V(u, v))      2                2                \n",
       "⎢  ∂u          ∂v            ∂u          ∂v              ∂                ∂                 \n",
       "⎢- ─────────────────────── - ─────────────────────── + ─────(M(u, v)) + ─────(U(u, v))      \n",
       "⎢             2                         2              ∂v ∂u            ∂v ∂u               \n",
       "⎢                                                                                           \n",
       "⎢                                                                                           \n",
       "⎢                                                                                           \n",
       "⎢                                                                                           \n",
       "⎢                                                                                           \n",
       "⎢                                          0                                                \n",
       "⎢                                                                                           \n",
       "⎢                                                                                           \n",
       "⎢                                                                                           \n",
       "⎢                                                                                           \n",
       "⎢                                                                                           \n",
       "⎢                                          0                                                \n",
       "⎣                                                                                           \n",
       "\n",
       "                                                                                            \n",
       "          ∂             ∂           ∂                                                       \n",
       "(U(u, v))⋅──(U(u, v))   ──(V(u, v))⋅──(V(u, v))      2                2                     \n",
       "          ∂v            ∂u          ∂v              ∂                ∂                      \n",
       "───────────────────── - ─────────────────────── + ─────(M(u, v)) + ─────(U(u, v))           \n",
       "         2                         2              ∂v ∂u            ∂v ∂u                    \n",
       "                                                                                            \n",
       "                                                                                            \n",
       "                                         2                               2                  \n",
       "                            ⎛∂          ⎞                   ⎛∂          ⎞                   \n",
       "                            ⎜──(U(u, v))⎟      2            ⎜──(V(u, v))⎟                   \n",
       "  ∂           ∂             ⎝∂v         ⎠     ∂             ⎝∂v         ⎠                   \n",
       "  ──(M(u, v))⋅──(U(u, v)) - ────────────── + ───(U(u, v)) - ──────────────                  \n",
       "  ∂v          ∂v                  2            2                  2                         \n",
       "                                             ∂v                                             \n",
       "                                                                                            \n",
       "                                                                                   ⎛        \n",
       "                                                                                   ⎜        \n",
       "                                                                                   ⎜∂       \n",
       "                                      0                                            ⎜──(U(u, \n",
       "                                                                                   ⎝∂u      \n",
       "                                                                                            \n",
       "                                                                                            \n",
       "                                                                                            \n",
       "                                                                                            \n",
       "                                      0                                                     \n",
       "                                                                                            \n",
       "\n",
       "                                                                                            \n",
       "                                                                                            \n",
       "                                                                                            \n",
       "                                                                                            \n",
       "                                                            0                               \n",
       "                                                                                            \n",
       "                                                                                            \n",
       "                                                                                            \n",
       "                                                                                            \n",
       "                                                                                            \n",
       "                                                                                            \n",
       "                                                                                            \n",
       "                                                            0                               \n",
       "                                                                                            \n",
       "                                                                                            \n",
       "                                                                                            \n",
       "                  ∂           ∂             ∂           ∂                                   \n",
       "                  ──(U(u, v))⋅──(V(u, v))   ──(U(u, v))⋅──(V(u, v))      2                2 \n",
       "    ∂             ∂u          ∂v            ∂v          ∂u              ∂                ∂  \n",
       "v))⋅──(U(u, v)) - ─────────────────────── - ─────────────────────── - ─────(U(u, v)) + ─────\n",
       "    ∂v                       2                         2              ∂v ∂u            ∂v ∂u\n",
       "                                                                                            \n",
       "                                                                                            \n",
       "                                                                                            \n",
       "                                                                                            \n",
       "                                                            0                               \n",
       "                                                                                            \n",
       "\n",
       "                                                                                            \n",
       "                                                                                            \n",
       "                                                                                            \n",
       "                                                                                            \n",
       "                                                                                            \n",
       "                                                                                            \n",
       "                                                                                            \n",
       "                                                                                            \n",
       "                                                                                            \n",
       "                                                                                            \n",
       "                                                                                            \n",
       "                                                                                            \n",
       "                                                                                            \n",
       "                                                                                            \n",
       "                                                                                            \n",
       "                                                                                            \n",
       "         ⎞                                                                                  \n",
       "         ⎟                                                                                  \n",
       "         ⎟  M(u, v) - U(u, v) + V(u, v)                                                     \n",
       "(V(u, v))⎟⋅ℯ                                                                                \n",
       "         ⎠                                                                                  \n",
       "                                                                                            \n",
       "                                         ⎛                          ∂           ∂           \n",
       "                                         ⎜                          ──(U(u, v))⋅──(V(u, v)) \n",
       "                                         ⎜∂           ∂             ∂u          ∂v          \n",
       "                                         ⎜──(U(u, v))⋅──(U(u, v)) + ─────────────────────── \n",
       "                                         ⎝∂u          ∂v                       2            \n",
       "\n",
       "                                                                                         ⎤\n",
       "                                                                                         ⎥\n",
       "                                                                                         ⎥\n",
       "                                                                                         ⎥\n",
       "                  0                                                                      ⎥\n",
       "                                                                                         ⎥\n",
       "                                                                                         ⎥\n",
       "                                                                                         ⎥\n",
       "                                                                                         ⎥\n",
       "                                                                                         ⎥\n",
       "                                                                                         ⎥\n",
       "                                                                                         ⎥\n",
       "                  0                                                                      ⎥\n",
       "                                                                                         ⎥\n",
       "                                                                                         ⎥\n",
       "                                                                                         ⎥\n",
       "                                                                                         ⎥\n",
       "                                                                                         ⎥\n",
       "                                                                                         ⎥\n",
       "                  0                                                                      ⎥\n",
       "                                                                                         ⎥\n",
       "                                                                                         ⎥\n",
       "  ∂           ∂                                            ⎞                             ⎥\n",
       "  ──(U(u, v))⋅──(V(u, v))      2                2          ⎟                             ⎥\n",
       "  ∂v          ∂u              ∂                ∂           ⎟  M(u, v) - U(u, v) - V(u, v)⎥\n",
       "+ ─────────────────────── - ─────(U(u, v)) - ─────(V(u, v))⎟⋅ℯ                           ⎥\n",
       "             2              ∂v ∂u            ∂v ∂u         ⎠                             ⎦"
      ]
     },
     "execution_count": 58,
     "metadata": {},
     "output_type": "execute_result"
    }
   ],
   "source": [
    "Ric = RicciTensor.from_metric(metric)\n",
    "Ric.tensor()"
   ]
  },
  {
   "cell_type": "code",
   "execution_count": 59,
   "id": "7154d651",
   "metadata": {},
   "outputs": [
    {
     "data": {
      "image/png": "[encoded data removed]",
      "text/latex": [
       "$\\displaystyle \\left(- 3 \\frac{\\partial}{\\partial u} U{\\left(u,v \\right)} \\frac{\\partial}{\\partial v} U{\\left(u,v \\right)} - \\frac{\\partial}{\\partial u} V{\\left(u,v \\right)} \\frac{\\partial}{\\partial v} V{\\left(u,v \\right)} + 2 \\frac{\\partial^{2}}{\\partial v\\partial u} M{\\left(u,v \\right)} + 4 \\frac{\\partial^{2}}{\\partial v\\partial u} U{\\left(u,v \\right)}\\right) e^{M{\\left(u,v \\right)}}$"
      ],
      "text/plain": [
       "⎛                                                             2                  2          \n",
       "⎜    ∂           ∂             ∂           ∂                 ∂                  ∂           \n",
       "⎜- 3⋅──(U(u, v))⋅──(U(u, v)) - ──(V(u, v))⋅──(V(u, v)) + 2⋅─────(M(u, v)) + 4⋅─────(U(u, v))\n",
       "⎝    ∂u          ∂v            ∂u          ∂v              ∂v ∂u              ∂v ∂u         \n",
       "\n",
       "⎞         \n",
       "⎟  M(u, v)\n",
       "⎟⋅ℯ       \n",
       "⎠         "
      ]
     },
     "execution_count": 59,
     "metadata": {},
     "output_type": "execute_result"
    }
   ],
   "source": [
    "R = RicciScalar.from_riccitensor(Ric)\n",
    "R.simplify()\n",
    "R.expr"
   ]
  },
  {
   "cell_type": "code",
   "execution_count": 60,
   "id": "93604fb8",
   "metadata": {},
   "outputs": [
    {
     "data": {
      "text/latex": [
       "$\\displaystyle \\left[\\begin{matrix}\\frac{\\partial}{\\partial u} M{\\left(u,v \\right)} \\frac{\\partial}{\\partial u} U{\\left(u,v \\right)} - \\frac{\\left(\\frac{\\partial}{\\partial u} U{\\left(u,v \\right)}\\right)^{2}}{2} + \\frac{\\partial^{2}}{\\partial u^{2}} U{\\left(u,v \\right)} - \\frac{\\left(\\frac{\\partial}{\\partial u} V{\\left(u,v \\right)}\\right)^{2}}{2} & 1.0 \\frac{\\partial}{\\partial u} U{\\left(u,v \\right)} \\frac{\\partial}{\\partial v} U{\\left(u,v \\right)} - 1.0 \\frac{\\partial^{2}}{\\partial v\\partial u} U{\\left(u,v \\right)} & 0 & 0\\\\1.0 \\frac{\\partial}{\\partial u} U{\\left(u,v \\right)} \\frac{\\partial}{\\partial v} U{\\left(u,v \\right)} - 1.0 \\frac{\\partial^{2}}{\\partial v\\partial u} U{\\left(u,v \\right)} & \\frac{\\partial}{\\partial v} M{\\left(u,v \\right)} \\frac{\\partial}{\\partial v} U{\\left(u,v \\right)} - \\frac{\\left(\\frac{\\partial}{\\partial v} U{\\left(u,v \\right)}\\right)^{2}}{2} + \\frac{\\partial^{2}}{\\partial v^{2}} U{\\left(u,v \\right)} - \\frac{\\left(\\frac{\\partial}{\\partial v} V{\\left(u,v \\right)}\\right)^{2}}{2} & 0 & 0\\\\0 & 0 & 0.5 \\left(- 3 \\frac{\\partial}{\\partial u} U{\\left(u,v \\right)} \\frac{\\partial}{\\partial v} U{\\left(u,v \\right)} - \\frac{\\partial}{\\partial u} V{\\left(u,v \\right)} \\frac{\\partial}{\\partial v} V{\\left(u,v \\right)} + 2 \\frac{\\partial^{2}}{\\partial v\\partial u} M{\\left(u,v \\right)} + 4 \\frac{\\partial^{2}}{\\partial v\\partial u} U{\\left(u,v \\right)}\\right) e^{M{\\left(u,v \\right)}} e^{- U{\\left(u,v \\right)}} e^{V{\\left(u,v \\right)}} + \\left(\\frac{\\partial}{\\partial u} U{\\left(u,v \\right)} \\frac{\\partial}{\\partial v} U{\\left(u,v \\right)} - \\frac{\\frac{\\partial}{\\partial u} U{\\left(u,v \\right)} \\frac{\\partial}{\\partial v} V{\\left(u,v \\right)}}{2} - \\frac{\\frac{\\partial}{\\partial v} U{\\left(u,v \\right)} \\frac{\\partial}{\\partial u} V{\\left(u,v \\right)}}{2} - \\frac{\\partial^{2}}{\\partial v\\partial u} U{\\left(u,v \\right)} + \\frac{\\partial^{2}}{\\partial v\\partial u} V{\\left(u,v \\right)}\\right) e^{M{\\left(u,v \\right)} - U{\\left(u,v \\right)} + V{\\left(u,v \\right)}} & 0\\\\0 & 0 & 0 & 0.5 \\left(- 3 \\frac{\\partial}{\\partial u} U{\\left(u,v \\right)} \\frac{\\partial}{\\partial v} U{\\left(u,v \\right)} - \\frac{\\partial}{\\partial u} V{\\left(u,v \\right)} \\frac{\\partial}{\\partial v} V{\\left(u,v \\right)} + 2 \\frac{\\partial^{2}}{\\partial v\\partial u} M{\\left(u,v \\right)} + 4 \\frac{\\partial^{2}}{\\partial v\\partial u} U{\\left(u,v \\right)}\\right) e^{M{\\left(u,v \\right)}} e^{- U{\\left(u,v \\right)}} e^{- V{\\left(u,v \\right)}} + \\left(\\frac{\\partial}{\\partial u} U{\\left(u,v \\right)} \\frac{\\partial}{\\partial v} U{\\left(u,v \\right)} + \\frac{\\frac{\\partial}{\\partial u} U{\\left(u,v \\right)} \\frac{\\partial}{\\partial v} V{\\left(u,v \\right)}}{2} + \\frac{\\frac{\\partial}{\\partial v} U{\\left(u,v \\right)} \\frac{\\partial}{\\partial u} V{\\left(u,v \\right)}}{2} - \\frac{\\partial^{2}}{\\partial v\\partial u} U{\\left(u,v \\right)} - \\frac{\\partial^{2}}{\\partial v\\partial u} V{\\left(u,v \\right)}\\right) e^{M{\\left(u,v \\right)} - U{\\left(u,v \\right)} - V{\\left(u,v \\right)}}\\end{matrix}\\right]$"
      ],
      "text/plain": [
       "⎡                                       2                               2                   \n",
       "⎢                          ⎛∂          ⎞                   ⎛∂          ⎞                    \n",
       "⎢                          ⎜──(U(u, v))⎟      2            ⎜──(V(u, v))⎟                    \n",
       "⎢∂           ∂             ⎝∂u         ⎠     ∂             ⎝∂u         ⎠                    \n",
       "⎢──(M(u, v))⋅──(U(u, v)) - ────────────── + ───(U(u, v)) - ──────────────                1.0\n",
       "⎢∂u          ∂u                  2            2                  2                          \n",
       "⎢                                           ∂u                                              \n",
       "⎢                                                                                           \n",
       "⎢                                                                                           \n",
       "⎢                                                                                           \n",
       "⎢                                               2                                           \n",
       "⎢                  ∂           ∂               ∂                           ∂           ∂    \n",
       "⎢              1.0⋅──(U(u, v))⋅──(U(u, v)) - ─────(U(u, v))                ──(M(u, v))⋅──(U(\n",
       "⎢                  ∂u          ∂v            ∂v ∂u                         ∂v          ∂v   \n",
       "⎢                                                                                           \n",
       "⎢                                                                                           \n",
       "⎢                                                                                           \n",
       "⎢                                                                                           \n",
       "⎢                                                                                           \n",
       "⎢                                   0                                                       \n",
       "⎢                                                                                           \n",
       "⎢                                                                                           \n",
       "⎢                                                                                           \n",
       "⎢                                                                                           \n",
       "⎢                                                                                           \n",
       "⎢                                   0                                                       \n",
       "⎣                                                                                           \n",
       "\n",
       "                                                                                            \n",
       "                                                                                            \n",
       "                              2                                                             \n",
       " ∂           ∂               ∂                                                              \n",
       "⋅──(U(u, v))⋅──(U(u, v)) - ─────(U(u, v))                                                   \n",
       " ∂u          ∂v            ∂v ∂u                                                            \n",
       "                                                                                            \n",
       "                                                                                            \n",
       "                      2                               2                                     \n",
       "         ⎛∂          ⎞                   ⎛∂          ⎞                                      \n",
       "         ⎜──(U(u, v))⎟      2            ⎜──(V(u, v))⎟                                      \n",
       "         ⎝∂v         ⎠     ∂             ⎝∂v         ⎠                                      \n",
       "u, v)) - ────────────── + ───(U(u, v)) - ──────────────                                     \n",
       "               2            2                  2                                            \n",
       "                          ∂v                                                                \n",
       "                                                                                            \n",
       "                                                                                            \n",
       "                                                             ⎛                              \n",
       "                                                             ⎜    ∂           ∂             \n",
       "                  0                                      0.5⋅⎜- 3⋅──(U(u, v))⋅──(U(u, v)) - \n",
       "                                                             ⎝    ∂u          ∂v            \n",
       "                                                                                            \n",
       "                                                                                            \n",
       "                                                                                            \n",
       "                                                                                            \n",
       "                  0                                                                         \n",
       "                                                                                            \n",
       "\n",
       "                                                                                            \n",
       "                                                                                            \n",
       "                                                                                            \n",
       "                                                                                            \n",
       "                                                                                            \n",
       "                                                                                            \n",
       "                                                                                            \n",
       "                                                                                            \n",
       "                                                                                            \n",
       "                                                                                            \n",
       "                                                                                            \n",
       "                                                                                            \n",
       "                                                                                            \n",
       "                                                                                            \n",
       "                                                                                            \n",
       "                                                                                            \n",
       "                                                                                            \n",
       "                               2                  2          ⎞                              \n",
       "∂           ∂                 ∂                  ∂           ⎟  M(u, v)  -U(u, v)  V(u, v)  \n",
       "──(V(u, v))⋅──(V(u, v)) + 2⋅─────(M(u, v)) + 4⋅─────(U(u, v))⎟⋅ℯ       ⋅ℯ        ⋅ℯ        +\n",
       "∂u          ∂v              ∂v ∂u              ∂v ∂u         ⎠                              \n",
       "                                                                                            \n",
       "                                                                                            \n",
       "                                                                                            \n",
       "                                                                                            \n",
       "                                                                                            \n",
       "                                                                                            \n",
       "\n",
       "                                                                                            \n",
       "                                                                                            \n",
       "                                                                                            \n",
       "                                                                                            \n",
       "      0                                                                                     \n",
       "                                                                                            \n",
       "                                                                                            \n",
       "                                                                                            \n",
       "                                                                                            \n",
       "                                                                                            \n",
       "                                                                                            \n",
       "                                                                                            \n",
       "      0                                                                                     \n",
       "                                                                                            \n",
       "                                                                                            \n",
       "                                                                                            \n",
       " ⎛                          ∂           ∂             ∂           ∂                         \n",
       " ⎜                          ──(U(u, v))⋅──(V(u, v))   ──(U(u, v))⋅──(V(u, v))      2        \n",
       " ⎜∂           ∂             ∂u          ∂v            ∂v          ∂u              ∂         \n",
       " ⎜──(U(u, v))⋅──(U(u, v)) - ─────────────────────── - ─────────────────────── - ─────(U(u, v\n",
       " ⎝∂u          ∂v                       2                         2              ∂v ∂u       \n",
       "                                                                                            \n",
       "                                                                                            \n",
       "                                                                                            \n",
       "                                                                                            \n",
       "      0                                                                                     \n",
       "                                                                                            \n",
       "\n",
       "                                                                                            \n",
       "                                                                                            \n",
       "                                                                                            \n",
       "                                                                                            \n",
       "                                                                                            \n",
       "                                                                                            \n",
       "                                                                                            \n",
       "                                                                                            \n",
       "                                                                                            \n",
       "                                                                                            \n",
       "                                                                                            \n",
       "                                                                                            \n",
       "                                                                                            \n",
       "                                                                                            \n",
       "                                                                                            \n",
       "                                                                                            \n",
       "                   ⎞                                                                        \n",
       "        2          ⎟                                                                        \n",
       "       ∂           ⎟  M(u, v) - U(u, v) + V(u, v)                                           \n",
       ")) + ─────(V(u, v))⎟⋅ℯ                                                                      \n",
       "     ∂v ∂u         ⎠                                                                        \n",
       "                                                                                            \n",
       "                                                                                            \n",
       "                                                       ⎛                                    \n",
       "                                                       ⎜    ∂           ∂             ∂     \n",
       "                                                   0.5⋅⎜- 3⋅──(U(u, v))⋅──(U(u, v)) - ──(V(u\n",
       "                                                       ⎝    ∂u          ∂v            ∂u    \n",
       "\n",
       "                                                                                            \n",
       "                                                                                            \n",
       "                                                                                            \n",
       "                                                                                            \n",
       "                                                                                            \n",
       "                                                                                            \n",
       "                                                                                            \n",
       "                                                                                            \n",
       "                                                                                            \n",
       "                                                                                            \n",
       "                                                                                            \n",
       "                                                                                            \n",
       "                                                                                            \n",
       "                                                                                            \n",
       "                                                                                            \n",
       "                                                                                            \n",
       "                                                                                            \n",
       "                                                                                            \n",
       "                                                                                            \n",
       "                                                                                            \n",
       "                                                                                            \n",
       "                                                                                            \n",
       "                                                                                        ⎛   \n",
       "                         2                  2          ⎞                                ⎜   \n",
       "      ∂                 ∂                  ∂           ⎟  M(u, v)  -U(u, v)  -V(u, v)   ⎜∂  \n",
       ", v))⋅──(V(u, v)) + 2⋅─────(M(u, v)) + 4⋅─────(U(u, v))⎟⋅ℯ       ⋅ℯ        ⋅ℯ         + ⎜──(\n",
       "      ∂v              ∂v ∂u              ∂v ∂u         ⎠                                ⎝∂u \n",
       "\n",
       "                                                                                            \n",
       "                                                                                            \n",
       "                                                                                            \n",
       "                                                                                            \n",
       " 0                                                                                          \n",
       "                                                                                            \n",
       "                                                                                            \n",
       "                                                                                            \n",
       "                                                                                            \n",
       "                                                                                            \n",
       "                                                                                            \n",
       "                                                                                            \n",
       " 0                                                                                          \n",
       "                                                                                            \n",
       "                                                                                            \n",
       "                                                                                            \n",
       "                                                                                            \n",
       "                                                                                            \n",
       "                                                                                            \n",
       " 0                                                                                          \n",
       "                                                                                            \n",
       "                                                                                            \n",
       "                       ∂           ∂             ∂           ∂                              \n",
       "                       ──(U(u, v))⋅──(V(u, v))   ──(U(u, v))⋅──(V(u, v))      2             \n",
       "         ∂             ∂u          ∂v            ∂v          ∂u              ∂              \n",
       "U(u, v))⋅──(U(u, v)) + ─────────────────────── + ─────────────────────── - ─────(U(u, v)) - \n",
       "         ∂v                       2                         2              ∂v ∂u            \n",
       "\n",
       "                                            ⎤\n",
       "                                            ⎥\n",
       "                                            ⎥\n",
       "                                            ⎥\n",
       "                                            ⎥\n",
       "                                            ⎥\n",
       "                                            ⎥\n",
       "                                            ⎥\n",
       "                                            ⎥\n",
       "                                            ⎥\n",
       "                                            ⎥\n",
       "                                            ⎥\n",
       "                                            ⎥\n",
       "                                            ⎥\n",
       "                                            ⎥\n",
       "                                            ⎥\n",
       "                                            ⎥\n",
       "                                            ⎥\n",
       "                                            ⎥\n",
       "                                            ⎥\n",
       "                                            ⎥\n",
       "                                            ⎥\n",
       "              ⎞                             ⎥\n",
       "   2          ⎟                             ⎥\n",
       "  ∂           ⎟  M(u, v) - U(u, v) - V(u, v)⎥\n",
       "─────(V(u, v))⎟⋅ℯ                           ⎥\n",
       "∂v ∂u         ⎠                             ⎦"
      ]
     },
     "execution_count": 60,
     "metadata": {},
     "output_type": "execute_result"
    }
   ],
   "source": [
    "einst = EinsteinTensor.from_metric(metric)\n",
    "einst.tensor()"
   ]
  },
  {
   "cell_type": "code",
   "execution_count": null,
   "id": "8458a8f4",
   "metadata": {},
   "outputs": [],
   "source": [
    "#  rm1 = RiemannCurvatureTensor.from_christoffels(ch)\n",
    "#  rm1.tensor()"
   ]
  },
  {
   "cell_type": "code",
   "execution_count": 20,
   "id": "d5eb52f7",
   "metadata": {},
   "outputs": [],
   "source": [
    "#  weyl = WeylTensor.from_metric(metric)\n",
    "#  weyl.tensor()"
   ]
  },
  {
   "cell_type": "code",
   "execution_count": 72,
   "id": "d9acf873",
   "metadata": {},
   "outputs": [
    {
     "data": {
      "text/latex": [
       "$\\displaystyle \\left[\\begin{matrix}\\frac{\\partial}{\\partial u} M{\\left(u,v \\right)} \\frac{\\partial}{\\partial u} U{\\left(u,v \\right)} - \\frac{\\left(\\frac{\\partial}{\\partial u} U{\\left(u,v \\right)}\\right)^{2}}{2} + \\frac{\\partial^{2}}{\\partial u^{2}} U{\\left(u,v \\right)} - \\frac{\\left(\\frac{\\partial}{\\partial u} V{\\left(u,v \\right)}\\right)^{2}}{2} & 1.0 \\frac{\\partial}{\\partial u} U{\\left(u,v \\right)} \\frac{\\partial}{\\partial v} U{\\left(u,v \\right)} - 1.0 \\frac{\\partial^{2}}{\\partial v\\partial u} U{\\left(u,v \\right)} & 0 & 0\\\\1.0 \\frac{\\partial}{\\partial u} U{\\left(u,v \\right)} \\frac{\\partial}{\\partial v} U{\\left(u,v \\right)} - 1.0 \\frac{\\partial^{2}}{\\partial v\\partial u} U{\\left(u,v \\right)} & \\frac{\\partial}{\\partial v} M{\\left(u,v \\right)} \\frac{\\partial}{\\partial v} U{\\left(u,v \\right)} - \\frac{\\left(\\frac{\\partial}{\\partial v} U{\\left(u,v \\right)}\\right)^{2}}{2} + \\frac{\\partial^{2}}{\\partial v^{2}} U{\\left(u,v \\right)} - \\frac{\\left(\\frac{\\partial}{\\partial v} V{\\left(u,v \\right)}\\right)^{2}}{2} & 0 & 0\\\\0 & 0 & \\left(- 0.5 \\frac{\\partial}{\\partial u} U{\\left(u,v \\right)} \\frac{\\partial}{\\partial v} U{\\left(u,v \\right)} - \\frac{\\frac{\\partial}{\\partial u} U{\\left(u,v \\right)} \\frac{\\partial}{\\partial v} V{\\left(u,v \\right)}}{2} - \\frac{\\frac{\\partial}{\\partial v} U{\\left(u,v \\right)} \\frac{\\partial}{\\partial u} V{\\left(u,v \\right)}}{2} - 0.5 \\frac{\\partial}{\\partial u} V{\\left(u,v \\right)} \\frac{\\partial}{\\partial v} V{\\left(u,v \\right)} + \\frac{\\partial^{2}}{\\partial v\\partial u} M{\\left(u,v \\right)} + \\frac{\\partial^{2}}{\\partial v\\partial u} U{\\left(u,v \\right)} + \\frac{\\partial^{2}}{\\partial v\\partial u} V{\\left(u,v \\right)}\\right) e^{M{\\left(u,v \\right)} - U{\\left(u,v \\right)} + V{\\left(u,v \\right)}} & 0\\\\0 & 0 & 0 & \\left(- 0.5 \\frac{\\partial}{\\partial u} U{\\left(u,v \\right)} \\frac{\\partial}{\\partial v} U{\\left(u,v \\right)} + \\frac{\\frac{\\partial}{\\partial u} U{\\left(u,v \\right)} \\frac{\\partial}{\\partial v} V{\\left(u,v \\right)}}{2} + \\frac{\\frac{\\partial}{\\partial v} U{\\left(u,v \\right)} \\frac{\\partial}{\\partial u} V{\\left(u,v \\right)}}{2} - 0.5 \\frac{\\partial}{\\partial u} V{\\left(u,v \\right)} \\frac{\\partial}{\\partial v} V{\\left(u,v \\right)} + \\frac{\\partial^{2}}{\\partial v\\partial u} M{\\left(u,v \\right)} + \\frac{\\partial^{2}}{\\partial v\\partial u} U{\\left(u,v \\right)} - \\frac{\\partial^{2}}{\\partial v\\partial u} V{\\left(u,v \\right)}\\right) e^{M{\\left(u,v \\right)} - U{\\left(u,v \\right)} - V{\\left(u,v \\right)}}\\end{matrix}\\right]$"
      ],
      "text/plain": [
       "⎡                                       2                               2                   \n",
       "⎢                          ⎛∂          ⎞                   ⎛∂          ⎞                    \n",
       "⎢                          ⎜──(U(u, v))⎟      2            ⎜──(V(u, v))⎟                    \n",
       "⎢∂           ∂             ⎝∂u         ⎠     ∂             ⎝∂u         ⎠                    \n",
       "⎢──(M(u, v))⋅──(U(u, v)) - ────────────── + ───(U(u, v)) - ──────────────                1.0\n",
       "⎢∂u          ∂u                  2            2                  2                          \n",
       "⎢                                           ∂u                                              \n",
       "⎢                                                                                           \n",
       "⎢                                                                                           \n",
       "⎢                                                                                           \n",
       "⎢                                               2                                           \n",
       "⎢                  ∂           ∂               ∂                           ∂           ∂    \n",
       "⎢              1.0⋅──(U(u, v))⋅──(U(u, v)) - ─────(U(u, v))                ──(M(u, v))⋅──(U(\n",
       "⎢                  ∂u          ∂v            ∂v ∂u                         ∂v          ∂v   \n",
       "⎢                                                                                           \n",
       "⎢                                                                                           \n",
       "⎢                                                                                           \n",
       "⎢                                                                                           \n",
       "⎢                                                                                           \n",
       "⎢                                   0                                                       \n",
       "⎢                                                                                           \n",
       "⎢                                                                                           \n",
       "⎢                                                                                           \n",
       "⎢                                                                                           \n",
       "⎢                                                                                           \n",
       "⎢                                   0                                                       \n",
       "⎣                                                                                           \n",
       "\n",
       "                                                                                            \n",
       "                                                                                            \n",
       "                              2                                                             \n",
       " ∂           ∂               ∂                                                              \n",
       "⋅──(U(u, v))⋅──(U(u, v)) - ─────(U(u, v))                                                   \n",
       " ∂u          ∂v            ∂v ∂u                                                            \n",
       "                                                                                            \n",
       "                                                                                            \n",
       "                      2                               2                                     \n",
       "         ⎛∂          ⎞                   ⎛∂          ⎞                                      \n",
       "         ⎜──(U(u, v))⎟      2            ⎜──(V(u, v))⎟                                      \n",
       "         ⎝∂v         ⎠     ∂             ⎝∂v         ⎠                                      \n",
       "u, v)) - ────────────── + ───(U(u, v)) - ──────────────                                     \n",
       "               2            2                  2                                            \n",
       "                          ∂v                                                                \n",
       "                                                                                            \n",
       "                                                         ⎛                                ∂ \n",
       "                                                         ⎜                                ──\n",
       "                                                         ⎜      ∂           ∂             ∂u\n",
       "                  0                                      ⎜- 0.5⋅──(U(u, v))⋅──(U(u, v)) - ──\n",
       "                                                         ⎝      ∂u          ∂v              \n",
       "                                                                                            \n",
       "                                                                                            \n",
       "                                                                                            \n",
       "                                                                                            \n",
       "                  0                                                                         \n",
       "                                                                                            \n",
       "\n",
       "                                                                                            \n",
       "                                                                                            \n",
       "                                                                                            \n",
       "                                                                                            \n",
       "                                                             0                              \n",
       "                                                                                            \n",
       "                                                                                            \n",
       "                                                                                            \n",
       "                                                                                            \n",
       "                                                                                            \n",
       "                                                                                            \n",
       "                                                                                            \n",
       "                                                             0                              \n",
       "                                                                                            \n",
       "                                                                                            \n",
       "                                                                                            \n",
       "          ∂             ∂           ∂                                                       \n",
       "(U(u, v))⋅──(V(u, v))   ──(U(u, v))⋅──(V(u, v))                                    2        \n",
       "          ∂v            ∂v          ∂u                ∂           ∂               ∂         \n",
       "───────────────────── - ─────────────────────── - 0.5⋅──(V(u, v))⋅──(V(u, v)) + ─────(M(u, v\n",
       "         2                         2                  ∂u          ∂v            ∂v ∂u       \n",
       "                                                                                            \n",
       "                                                                                            \n",
       "                                                                                            \n",
       "                                                                                            \n",
       "                                                             0                              \n",
       "                                                                                            \n",
       "\n",
       "                                                                                            \n",
       "                                                                                            \n",
       "                                                                                            \n",
       "                                                                                            \n",
       "                                                                                            \n",
       "                                                                                            \n",
       "                                                                                            \n",
       "                                                                                            \n",
       "                                                                                            \n",
       "                                                                                            \n",
       "                                                                                            \n",
       "                                                                                            \n",
       "                                                                                            \n",
       "                                                                                            \n",
       "                                                                                            \n",
       "                                                                                            \n",
       "                                    ⎞                                                       \n",
       "        2                2          ⎟                                                       \n",
       "       ∂                ∂           ⎟  M(u, v) - U(u, v) + V(u, v)                          \n",
       ")) + ─────(U(u, v)) + ─────(V(u, v))⎟⋅ℯ                                                     \n",
       "     ∂v ∂u            ∂v ∂u         ⎠                                                       \n",
       "                                                                                            \n",
       "                                                                    ⎛                       \n",
       "                                                                    ⎜                       \n",
       "                                                                    ⎜      ∂           ∂    \n",
       "                                                                    ⎜- 0.5⋅──(U(u, v))⋅──(U(\n",
       "                                                                    ⎝      ∂u          ∂v   \n",
       "\n",
       "                                                                                            \n",
       "                                                                                            \n",
       "                                                                                            \n",
       "                                                                                            \n",
       "                                                                        0                   \n",
       "                                                                                            \n",
       "                                                                                            \n",
       "                                                                                            \n",
       "                                                                                            \n",
       "                                                                                            \n",
       "                                                                                            \n",
       "                                                                                            \n",
       "                                                                        0                   \n",
       "                                                                                            \n",
       "                                                                                            \n",
       "                                                                                            \n",
       "                                                                                            \n",
       "                                                                                            \n",
       "                                                                                            \n",
       "                                                                        0                   \n",
       "                                                                                            \n",
       "                                                                                            \n",
       "         ∂           ∂             ∂           ∂                                            \n",
       "         ──(U(u, v))⋅──(V(u, v))   ──(U(u, v))⋅──(V(u, v))                                  \n",
       "         ∂u          ∂v            ∂v          ∂u                ∂           ∂              \n",
       "u, v)) + ─────────────────────── + ─────────────────────── - 0.5⋅──(V(u, v))⋅──(V(u, v)) + ─\n",
       "                    2                         2                  ∂u          ∂v            ∂\n",
       "\n",
       "                                                                             ⎤\n",
       "                                                                             ⎥\n",
       "                                                                             ⎥\n",
       "                                                                             ⎥\n",
       "                                                                             ⎥\n",
       "                                                                             ⎥\n",
       "                                                                             ⎥\n",
       "                                                                             ⎥\n",
       "                                                                             ⎥\n",
       "                                                                             ⎥\n",
       "                                                                             ⎥\n",
       "                                                                             ⎥\n",
       "                                                                             ⎥\n",
       "                                                                             ⎥\n",
       "                                                                             ⎥\n",
       "                                                                             ⎥\n",
       "                                                                             ⎥\n",
       "                                                                             ⎥\n",
       "                                                                             ⎥\n",
       "                                                                             ⎥\n",
       "                                                                             ⎥\n",
       "                                                                             ⎥\n",
       "                                               ⎞                             ⎥\n",
       "  2                2                2          ⎟                             ⎥\n",
       " ∂                ∂                ∂           ⎟  M(u, v) - U(u, v) - V(u, v)⎥\n",
       "────(M(u, v)) + ─────(U(u, v)) - ─────(V(u, v))⎟⋅ℯ                           ⎥\n",
       "v ∂u            ∂v ∂u            ∂v ∂u         ⎠                             ⎦"
      ]
     },
     "execution_count": 72,
     "metadata": {},
     "output_type": "execute_result"
    }
   ],
   "source": [
    "einsteinSimplified = simplify(einst.tensor())\n",
    "einsteinSimplified"
   ]
  },
  {
   "cell_type": "code",
   "execution_count": 84,
   "id": "8909a201",
   "metadata": {},
   "outputs": [
    {
     "data": {
      "image/png": "[encoded data removed]",
      "text/latex": [
       "$\\displaystyle \\frac{\\partial^{2}}{\\partial v\\partial u} U{\\left(u,v \\right)} = \\frac{\\partial}{\\partial u} U{\\left(u,v \\right)} \\frac{\\partial}{\\partial v} U{\\left(u,v \\right)}$"
      ],
      "text/plain": [
       "   2                                    \n",
       "  ∂              ∂           ∂          \n",
       "─────(U(u, v)) = ──(U(u, v))⋅──(U(u, v))\n",
       "∂v ∂u            ∂u          ∂v         "
      ]
     },
     "execution_count": 84,
     "metadata": {},
     "output_type": "execute_result"
    }
   ],
   "source": [
    "equation4a =  Eq(diff(U,u,v) , solve( einst.tensor()[1,0] , diff(U,u,v) )[0] ) \n",
    "equation4a"
   ]
  },
  {
   "cell_type": "code",
   "execution_count": 87,
   "id": "5d2b2ad5",
   "metadata": {},
   "outputs": [
    {
     "data": {
      "image/png": "[encoded data removed]",
      "text/latex": [
       "$\\displaystyle 2 \\frac{\\partial^{2}}{\\partial v\\partial u} V{\\left(u,v \\right)} = \\frac{\\partial}{\\partial u} U{\\left(u,v \\right)} \\frac{\\partial}{\\partial v} V{\\left(u,v \\right)} + \\frac{\\partial}{\\partial v} U{\\left(u,v \\right)} \\frac{\\partial}{\\partial u} V{\\left(u,v \\right)}$"
      ],
      "text/plain": [
       "     2                                                              \n",
       "    ∂              ∂           ∂             ∂           ∂          \n",
       "2⋅─────(V(u, v)) = ──(U(u, v))⋅──(V(u, v)) + ──(U(u, v))⋅──(V(u, v))\n",
       "  ∂v ∂u            ∂u          ∂v            ∂v          ∂u         "
      ]
     },
     "execution_count": 87,
     "metadata": {},
     "output_type": "execute_result"
    }
   ],
   "source": [
    "equation4b = Eq(  2*diff(V,u,v) ,2* solve( simplify( Ric.tensor()[2,2].args[0] - Ric.tensor()[3,3].args[0] ) , diff(V,u,v) )[0] )\n",
    "equation4b "
   ]
  },
  {
   "cell_type": "code",
   "execution_count": 85,
   "id": "1de822da",
   "metadata": {},
   "outputs": [
    {
     "data": {
      "image/png": "[encoded data removed]",
      "text/latex": [
       "$\\displaystyle 2 \\frac{\\partial^{2}}{\\partial u^{2}} U{\\left(u,v \\right)} = - 2 \\frac{\\partial}{\\partial u} M{\\left(u,v \\right)} \\frac{\\partial}{\\partial u} U{\\left(u,v \\right)} + \\left(\\frac{\\partial}{\\partial u} U{\\left(u,v \\right)}\\right)^{2} + \\left(\\frac{\\partial}{\\partial u} V{\\left(u,v \\right)}\\right)^{2}$"
      ],
      "text/plain": [
       "    2                                                       2                2\n",
       "   ∂                 ∂           ∂             ⎛∂          ⎞    ⎛∂          ⎞ \n",
       "2⋅───(U(u, v)) = - 2⋅──(M(u, v))⋅──(U(u, v)) + ⎜──(U(u, v))⎟  + ⎜──(V(u, v))⎟ \n",
       "    2                ∂u          ∂u            ⎝∂u         ⎠    ⎝∂u         ⎠ \n",
       "  ∂u                                                                          "
      ]
     },
     "execution_count": 85,
     "metadata": {},
     "output_type": "execute_result"
    }
   ],
   "source": [
    "equation4c = Eq(  2*diff(U,u,u) , 2*solve( einst.tensor()[0,0] , diff(U,u,u) )[0] ) \n",
    "equation4c"
   ]
  },
  {
   "cell_type": "code",
   "execution_count": 93,
   "id": "58eed04f",
   "metadata": {},
   "outputs": [
    {
     "data": {
      "image/png": "[encoded data removed]",
      "text/latex": [
       "$\\displaystyle 2 \\frac{\\partial^{2}}{\\partial v^{2}} U{\\left(u,v \\right)} = - 2 \\frac{\\partial}{\\partial v} M{\\left(u,v \\right)} \\frac{\\partial}{\\partial v} U{\\left(u,v \\right)} + \\left(\\frac{\\partial}{\\partial v} U{\\left(u,v \\right)}\\right)^{2} + \\left(\\frac{\\partial}{\\partial v} V{\\left(u,v \\right)}\\right)^{2}$"
      ],
      "text/plain": [
       "    2                                                       2                2\n",
       "   ∂                 ∂           ∂             ⎛∂          ⎞    ⎛∂          ⎞ \n",
       "2⋅───(U(u, v)) = - 2⋅──(M(u, v))⋅──(U(u, v)) + ⎜──(U(u, v))⎟  + ⎜──(V(u, v))⎟ \n",
       "    2                ∂v          ∂v            ⎝∂v         ⎠    ⎝∂v         ⎠ \n",
       "  ∂v                                                                          "
      ]
     },
     "execution_count": 93,
     "metadata": {},
     "output_type": "execute_result"
    }
   ],
   "source": [
    "equation4d = Eq(  2*diff(U,v,v) , 2*solve( einst.tensor()[1,1] , diff(U,v,v) )[0] ) \n",
    "equation4d "
   ]
  },
  {
   "cell_type": "code",
   "execution_count": 92,
   "id": "606d425e",
   "metadata": {},
   "outputs": [
    {
     "data": {
      "image/png": "[encoded data removed]",
      "text/latex": [
       "$\\displaystyle 2 \\frac{\\partial^{2}}{\\partial v\\partial u} M{\\left(u,v \\right)} = - \\frac{\\partial}{\\partial u} U{\\left(u,v \\right)} \\frac{\\partial}{\\partial v} U{\\left(u,v \\right)} + \\frac{\\partial}{\\partial u} V{\\left(u,v \\right)} \\frac{\\partial}{\\partial v} V{\\left(u,v \\right)}$"
      ],
      "text/plain": [
       "     2                                                                \n",
       "    ∂                ∂           ∂             ∂           ∂          \n",
       "2⋅─────(M(u, v)) = - ──(U(u, v))⋅──(U(u, v)) + ──(V(u, v))⋅──(V(u, v))\n",
       "  ∂v ∂u              ∂u          ∂v            ∂u          ∂v         "
      ]
     },
     "execution_count": 92,
     "metadata": {},
     "output_type": "execute_result"
    }
   ],
   "source": [
    "equation4e =Eq(  2*diff(M,u,v) , 2*solve( simplify( einsteinSimplified[2,2].args[0] + einsteinSimplified[3,3].args[0] ), diff(M,u,v) )[0] ).subs(equation4a.args[0],equation4a.args[1])\n",
    "equation4e"
   ]
  },
  {
   "cell_type": "code",
   "execution_count": 95,
   "id": "7a2aeeca",
   "metadata": {},
   "outputs": [
    {
     "data": {
      "text/latex": [
       "$\\displaystyle \\left[\\begin{matrix}\\frac{\\partial^{2}}{\\partial v\\partial u} U{\\left(u,v \\right)} = \\frac{\\partial}{\\partial u} U{\\left(u,v \\right)} \\frac{\\partial}{\\partial v} U{\\left(u,v \\right)}\\\\2 \\frac{\\partial^{2}}{\\partial v\\partial u} V{\\left(u,v \\right)} = \\frac{\\partial}{\\partial u} U{\\left(u,v \\right)} \\frac{\\partial}{\\partial v} V{\\left(u,v \\right)} + \\frac{\\partial}{\\partial v} U{\\left(u,v \\right)} \\frac{\\partial}{\\partial u} V{\\left(u,v \\right)}\\\\2 \\frac{\\partial^{2}}{\\partial u^{2}} U{\\left(u,v \\right)} = - 2 \\frac{\\partial}{\\partial u} M{\\left(u,v \\right)} \\frac{\\partial}{\\partial u} U{\\left(u,v \\right)} + \\left(\\frac{\\partial}{\\partial u} U{\\left(u,v \\right)}\\right)^{2} + \\left(\\frac{\\partial}{\\partial u} V{\\left(u,v \\right)}\\right)^{2}\\\\2 \\frac{\\partial^{2}}{\\partial v^{2}} U{\\left(u,v \\right)} = - 2 \\frac{\\partial}{\\partial v} M{\\left(u,v \\right)} \\frac{\\partial}{\\partial v} U{\\left(u,v \\right)} + \\left(\\frac{\\partial}{\\partial v} U{\\left(u,v \\right)}\\right)^{2} + \\left(\\frac{\\partial}{\\partial v} V{\\left(u,v \\right)}\\right)^{2}\\\\2 \\frac{\\partial^{2}}{\\partial v\\partial u} M{\\left(u,v \\right)} = - \\frac{\\partial}{\\partial u} U{\\left(u,v \\right)} \\frac{\\partial}{\\partial v} U{\\left(u,v \\right)} + \\frac{\\partial}{\\partial u} V{\\left(u,v \\right)} \\frac{\\partial}{\\partial v} V{\\left(u,v \\right)}\\end{matrix}\\right]$"
      ],
      "text/plain": [
       "⎡                      2                                                       ⎤\n",
       "⎢                     ∂              ∂           ∂                             ⎥\n",
       "⎢                   ─────(U(u, v)) = ──(U(u, v))⋅──(U(u, v))                   ⎥\n",
       "⎢                   ∂v ∂u            ∂u          ∂v                            ⎥\n",
       "⎢                                                                              ⎥\n",
       "⎢          2                                                                   ⎥\n",
       "⎢         ∂              ∂           ∂             ∂           ∂               ⎥\n",
       "⎢     2⋅─────(V(u, v)) = ──(U(u, v))⋅──(V(u, v)) + ──(U(u, v))⋅──(V(u, v))     ⎥\n",
       "⎢       ∂v ∂u            ∂u          ∂v            ∂v          ∂u              ⎥\n",
       "⎢                                                                              ⎥\n",
       "⎢    2                                                       2                2⎥\n",
       "⎢   ∂                 ∂           ∂             ⎛∂          ⎞    ⎛∂          ⎞ ⎥\n",
       "⎢2⋅───(U(u, v)) = - 2⋅──(M(u, v))⋅──(U(u, v)) + ⎜──(U(u, v))⎟  + ⎜──(V(u, v))⎟ ⎥\n",
       "⎢    2                ∂u          ∂u            ⎝∂u         ⎠    ⎝∂u         ⎠ ⎥\n",
       "⎢  ∂u                                                                          ⎥\n",
       "⎢                                                                              ⎥\n",
       "⎢    2                                                       2                2⎥\n",
       "⎢   ∂                 ∂           ∂             ⎛∂          ⎞    ⎛∂          ⎞ ⎥\n",
       "⎢2⋅───(U(u, v)) = - 2⋅──(M(u, v))⋅──(U(u, v)) + ⎜──(U(u, v))⎟  + ⎜──(V(u, v))⎟ ⎥\n",
       "⎢    2                ∂v          ∂v            ⎝∂v         ⎠    ⎝∂v         ⎠ ⎥\n",
       "⎢  ∂v                                                                          ⎥\n",
       "⎢                                                                              ⎥\n",
       "⎢         2                                                                    ⎥\n",
       "⎢        ∂                ∂           ∂             ∂           ∂              ⎥\n",
       "⎢    2⋅─────(M(u, v)) = - ──(U(u, v))⋅──(U(u, v)) + ──(V(u, v))⋅──(V(u, v))    ⎥\n",
       "⎣      ∂v ∂u              ∂u          ∂v            ∂u          ∂v             ⎦"
      ]
     },
     "execution_count": 95,
     "metadata": {},
     "output_type": "execute_result"
    }
   ],
   "source": [
    "Matrix([equation4a,equation4b,equation4c,equation4d,equation4e])"
   ]
  }
 ],
 "metadata": {
  "@webio": {
   "lastCommId": "33d6a91d89194edd96aaee3dda92136c",
   "lastKernelId": "3359384e-1655-48b3-87ba-f145d64c47dc"
  },
  "kernelspec": {
   "display_name": "Python 3 (ipykernel)",
   "language": "python",
   "name": "python3"
  },
  "language_info": {
   "codemirror_mode": {
    "name": "ipython",
    "version": 3
   },
   "file_extension": ".py",
   "mimetype": "text/x-python",
   "name": "python",
   "nbconvert_exporter": "python",
   "pygments_lexer": "ipython3",
   "version": "3.8.8"
  }
 },
 "nbformat": 4,
 "nbformat_minor": 5
}
