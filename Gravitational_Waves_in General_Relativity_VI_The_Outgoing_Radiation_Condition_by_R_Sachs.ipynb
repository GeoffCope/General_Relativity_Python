{
 "cells": [
  {
   "cell_type": "markdown",
   "id": "7fcfc413",
   "metadata": {},
   "source": [
    "# Gravitational Waves in General Relativity.VI.The Outgoing Radiation Condition by R Sachs\n",
    "##  Geoff Cope\n",
    "##  Univeristy of Utah\n",
    "##  December 22, 2021"
   ]
  },
  {
   "cell_type": "markdown",
   "id": "f67f5c16",
   "metadata": {},
   "source": [
    "PLEASE NOTE:  FOR REASONS I HAVEN'T FIGURED OUT YET.... THE WEYL TENSOR AGREES WITH THE MATHEMATICA NOTEBOOK, BUT THE RIEMANN TENSOR DOES NOT.  PART OF THE RIEMANN TENSOR HERE LOOKS LIKE THE TRANSPOSE OF THE MATHEMATICA NOTEBOOK BUT SOME BLOCKS DO NOT AGREE. NOT SURE WHY, BUT I SUSPECT IT'S BECAUSE OF THE PRESENCE OF THE CONSTANT C.  FIGURE OUT WHY.\n",
    "\n",
    "There's an enormous amount of computations in this paper and we focus only on one metric for now.  Metric 6.5 is transformed and the resulting metric and line element are not numbered.  We calculate the tensors associated with the transformed metric."
   ]
  },
  {
   "cell_type": "markdown",
   "id": "395195fa",
   "metadata": {},
   "source": [
    "https://royalsocietypublishing.org/doi/abs/10.1098/rspa.1961.0202"
   ]
  },
  {
   "cell_type": "code",
   "execution_count": 1,
   "id": "8b19baf9",
   "metadata": {},
   "outputs": [
    {
     "name": "stdout",
     "output_type": "stream",
     "text": [
      "IPython console for SymPy 1.9 (Python 3.8.8-64-bit) (ground types: gmpy)\n",
      "\n",
      "These commands were executed:\n",
      ">>> from __future__ import division\n",
      ">>> from sympy import *\n",
      ">>> x, y, z, t = symbols('x y z t')\n",
      ">>> k, m, n = symbols('k m n', integer=True)\n",
      ">>> f, g, h = symbols('f g h', cls=Function)\n",
      ">>> init_printing()\n",
      "\n",
      "Documentation can be found at https://docs.sympy.org/1.9/\n",
      "\n"
     ]
    }
   ],
   "source": [
    "from sympy import init_session\n",
    "init_session(use_latex=True)"
   ]
  },
  {
   "cell_type": "code",
   "execution_count": 2,
   "id": "aaa49189",
   "metadata": {},
   "outputs": [],
   "source": [
    "import warnings\n",
    "import matplotlib.cbook\n",
    "warnings.filterwarnings(\"ignore\",category=matplotlib.cbook.mplDeprecation)"
   ]
  },
  {
   "cell_type": "code",
   "execution_count": 24,
   "id": "cab66d4d",
   "metadata": {},
   "outputs": [],
   "source": [
    "C,t,r,phi,z,dt,dr,dphi,dz = symbols( 'C t r phi z dt dr dphi dz' ) "
   ]
  },
  {
   "cell_type": "code",
   "execution_count": 5,
   "id": "7bbf1a3d",
   "metadata": {},
   "outputs": [
    {
     "data": {
      "text/latex": [
       "$\\displaystyle \\left[\\begin{matrix}t\\\\r\\\\\\phi\\\\z\\end{matrix}\\right]$"
      ],
      "text/plain": [
       "⎡t⎤\n",
       "⎢ ⎥\n",
       "⎢r⎥\n",
       "⎢ ⎥\n",
       "⎢φ⎥\n",
       "⎢ ⎥\n",
       "⎣z⎦"
      ]
     },
     "execution_count": 5,
     "metadata": {},
     "output_type": "execute_result"
    }
   ],
   "source": [
    "variables = Matrix( [t,r,phi,z] )\n",
    "variables"
   ]
  },
  {
   "cell_type": "code",
   "execution_count": 6,
   "id": "e9654d46",
   "metadata": {},
   "outputs": [
    {
     "data": {
      "text/latex": [
       "$\\displaystyle \\left[\\begin{matrix}dt\\\\dr\\\\dphi\\\\dz\\end{matrix}\\right]$"
      ],
      "text/plain": [
       "⎡ dt ⎤\n",
       "⎢    ⎥\n",
       "⎢ dr ⎥\n",
       "⎢    ⎥\n",
       "⎢dphi⎥\n",
       "⎢    ⎥\n",
       "⎣ dz ⎦"
      ]
     },
     "execution_count": 6,
     "metadata": {},
     "output_type": "execute_result"
    }
   ],
   "source": [
    "differentials = Matrix( [dt,dr,dphi,dz] ) \n",
    "differentials"
   ]
  },
  {
   "cell_type": "code",
   "execution_count": 25,
   "id": "93fd561e",
   "metadata": {},
   "outputs": [
    {
     "data": {
      "image/png": "[encoded data removed]",
      "text/latex": [
       "$\\displaystyle dphi^{2} e^{- 2 z} + dr^{2} e^{2 C - r^{2} + 2 z} - dt^{2} r^{2} e^{2 z} + dz^{2} e^{2 C - r^{2} + 2 z}$"
      ],
      "text/plain": [
       "                          2                                   2      \n",
       "    2  -2⋅z     2  2⋅C - r  + 2⋅z     2  2  2⋅z     2  2⋅C - r  + 2⋅z\n",
       "dphi ⋅ℯ     + dr ⋅ℯ               - dt ⋅r ⋅ℯ    + dz ⋅ℯ              "
      ]
     },
     "execution_count": 25,
     "metadata": {},
     "output_type": "execute_result"
    }
   ],
   "source": [
    "lineElement = -( r**2 * exp(2*z) * dt**2 ) + exp(2*C-r**2+2*z) * dr**2 + exp(-2*z) * dphi**2 + exp(2*C-r**2+2*z) * dz**2\n",
    "lineElement"
   ]
  },
  {
   "cell_type": "code",
   "execution_count": 26,
   "id": "73d5d78f",
   "metadata": {},
   "outputs": [
    {
     "data": {
      "text/latex": [
       "$\\displaystyle \\left[\\begin{matrix}- r^{2} e^{2 z} & 0 & 0 & 0\\\\0 & e^{2 C - r^{2} + 2 z} & 0 & 0\\\\0 & 0 & e^{- 2 z} & 0\\\\0 & 0 & 0 & e^{2 C - r^{2} + 2 z}\\end{matrix}\\right]$"
      ],
      "text/plain": [
       "⎡  2  2⋅z                                         ⎤\n",
       "⎢-r ⋅ℯ            0           0           0       ⎥\n",
       "⎢                                                 ⎥\n",
       "⎢                  2                              ⎥\n",
       "⎢           2⋅C - r  + 2⋅z                        ⎥\n",
       "⎢   0      ℯ                  0           0       ⎥\n",
       "⎢                                                 ⎥\n",
       "⎢                            -2⋅z                 ⎥\n",
       "⎢   0             0         ℯ             0       ⎥\n",
       "⎢                                                 ⎥\n",
       "⎢                                          2      ⎥\n",
       "⎢                                   2⋅C - r  + 2⋅z⎥\n",
       "⎣   0             0           0    ℯ              ⎦"
      ]
     },
     "execution_count": 26,
     "metadata": {},
     "output_type": "execute_result"
    }
   ],
   "source": [
    "g = zeros(4)\n",
    "\n",
    "for i in range(4):\n",
    "    for j in range(4):\n",
    "        if i == j:\n",
    "            g[i,j] = lineElement.coeff( differentials[i],2 ) \n",
    "        else:\n",
    "            g[i,j] = Rational(1,2)*lineElement.coeff( differentials[i]*differentials[j],1 )\n",
    "            \n",
    "g"
   ]
  },
  {
   "cell_type": "code",
   "execution_count": 10,
   "id": "603c2553",
   "metadata": {},
   "outputs": [],
   "source": [
    "import sympy"
   ]
  },
  {
   "cell_type": "code",
   "execution_count": 27,
   "id": "6789c4c3",
   "metadata": {},
   "outputs": [
    {
     "data": {
      "text/latex": [
       "$\\displaystyle \\left[\\begin{matrix}- r^{2} e^{2 z} & 0 & 0 & 0\\\\0 & e^{2 C - r^{2} + 2 z} & 0 & 0\\\\0 & 0 & e^{- 2 z} & 0\\\\0 & 0 & 0 & e^{2 C - r^{2} + 2 z}\\end{matrix}\\right]$"
      ],
      "text/plain": [
       "⎡  2  2⋅z                                         ⎤\n",
       "⎢-r ⋅ℯ            0           0           0       ⎥\n",
       "⎢                                                 ⎥\n",
       "⎢                  2                              ⎥\n",
       "⎢           2⋅C - r  + 2⋅z                        ⎥\n",
       "⎢   0      ℯ                  0           0       ⎥\n",
       "⎢                                                 ⎥\n",
       "⎢                            -2⋅z                 ⎥\n",
       "⎢   0             0         ℯ             0       ⎥\n",
       "⎢                                                 ⎥\n",
       "⎢                                          2      ⎥\n",
       "⎢                                   2⋅C - r  + 2⋅z⎥\n",
       "⎣   0             0           0    ℯ              ⎦"
      ]
     },
     "execution_count": 27,
     "metadata": {},
     "output_type": "execute_result"
    }
   ],
   "source": [
    "m = sympy.Array(g)\n",
    "m"
   ]
  },
  {
   "cell_type": "code",
   "execution_count": 12,
   "id": "d7a1c498",
   "metadata": {},
   "outputs": [],
   "source": [
    "from einsteinpy.symbolic import *"
   ]
  },
  {
   "cell_type": "code",
   "execution_count": 13,
   "id": "ba608051",
   "metadata": {},
   "outputs": [],
   "source": [
    "syms = sympy.symbols(\"t r phi z\")\n",
    "t,r,phi,z = syms"
   ]
  },
  {
   "cell_type": "code",
   "execution_count": 28,
   "id": "10bb35c8",
   "metadata": {},
   "outputs": [],
   "source": [
    "metric = MetricTensor(m,syms)"
   ]
  },
  {
   "cell_type": "code",
   "execution_count": 29,
   "id": "c4af8ef0",
   "metadata": {},
   "outputs": [
    {
     "data": {
      "text/latex": [
       "$\\displaystyle \\left[\\begin{matrix}\\left[\\begin{matrix}0 & \\frac{1}{r} & 0 & 1\\\\\\frac{1}{r} & 0 & 0 & 0\\\\0 & 0 & 0 & 0\\\\1 & 0 & 0 & 0\\end{matrix}\\right] & \\left[\\begin{matrix}r e^{- 2 C + r^{2}} & 0 & 0 & 0\\\\0 & - r & 0 & 1\\\\0 & 0 & 0 & 0\\\\0 & 1 & 0 & r\\end{matrix}\\right] & \\left[\\begin{matrix}0 & 0 & 0 & 0\\\\0 & 0 & 0 & 0\\\\0 & 0 & 0 & -1\\\\0 & 0 & -1 & 0\\end{matrix}\\right] & \\left[\\begin{matrix}r^{2} e^{- 2 C + r^{2}} & 0 & 0 & 0\\\\0 & -1 & 0 & - r\\\\0 & 0 & e^{- 2 C + r^{2} - 4 z} & 0\\\\0 & - r & 0 & 1\\end{matrix}\\right]\\end{matrix}\\right]$"
      ],
      "text/plain": [
       "⎡⎡   1      ⎤                                            ⎡            2                     \n",
       "⎢⎢0  ─  0  1⎥  ⎡           2          ⎤                  ⎢ 2  -2⋅C + r                      \n",
       "⎢⎢   r      ⎥  ⎢   -2⋅C + r           ⎥  ⎡0  0  0   0 ⎤  ⎢r ⋅ℯ           0          0       \n",
       "⎢⎢          ⎥  ⎢r⋅ℯ           0   0  0⎥  ⎢            ⎥  ⎢                                  \n",
       "⎢⎢1         ⎥  ⎢                      ⎥  ⎢0  0  0   0 ⎥  ⎢      0        -1         0       \n",
       "⎢⎢─  0  0  0⎥  ⎢     0        -r  0  1⎥  ⎢            ⎥  ⎢                                  \n",
       "⎢⎢r         ⎥  ⎢                      ⎥  ⎢0  0  0   -1⎥  ⎢                            2     \n",
       "⎢⎢          ⎥  ⎢     0        0   0  0⎥  ⎢            ⎥  ⎢                    -2⋅C + r  - 4⋅\n",
       "⎢⎢0  0  0  0⎥  ⎢                      ⎥  ⎣0  0  -1  0 ⎦  ⎢      0        0   ℯ              \n",
       "⎢⎢          ⎥  ⎣     0        1   0  r⎦                  ⎢                                  \n",
       "⎣⎣1  0  0  0⎦                                            ⎣      0        -r         0       \n",
       "\n",
       "     ⎤⎤\n",
       "     ⎥⎥\n",
       "   0 ⎥⎥\n",
       "     ⎥⎥\n",
       "   -r⎥⎥\n",
       "     ⎥⎥\n",
       "     ⎥⎥\n",
       "z    ⎥⎥\n",
       "   0 ⎥⎥\n",
       "     ⎥⎥\n",
       "   1 ⎦⎦"
      ]
     },
     "execution_count": 29,
     "metadata": {},
     "output_type": "execute_result"
    }
   ],
   "source": [
    "ch = ChristoffelSymbols.from_metric(metric)\n",
    "simplify(ch.tensor())"
   ]
  },
  {
   "cell_type": "code",
   "execution_count": 30,
   "id": "ff2d99af",
   "metadata": {},
   "outputs": [
    {
     "data": {
      "text/latex": [
       "$\\displaystyle \\left[\\begin{matrix}0 & 0 & 0 & 0\\\\0 & 0 & 0 & 0\\\\0 & 0 & 0 & 0\\\\0 & 0 & 0 & 0\\end{matrix}\\right]$"
      ],
      "text/plain": [
       "⎡0  0  0  0⎤\n",
       "⎢          ⎥\n",
       "⎢0  0  0  0⎥\n",
       "⎢          ⎥\n",
       "⎢0  0  0  0⎥\n",
       "⎢          ⎥\n",
       "⎣0  0  0  0⎦"
      ]
     },
     "execution_count": 30,
     "metadata": {},
     "output_type": "execute_result"
    }
   ],
   "source": [
    "Ric = RicciTensor.from_metric(metric)\n",
    "simplify(Ric.tensor())"
   ]
  },
  {
   "cell_type": "code",
   "execution_count": 31,
   "id": "2cae4471",
   "metadata": {},
   "outputs": [
    {
     "data": {
      "text/latex": [
       "$\\displaystyle \\left[\\begin{matrix}0 & 0 & 0 & 0\\\\0 & 0 & 0 & 0\\\\0 & 0 & 0 & 0\\\\0 & 0 & 0 & 0\\end{matrix}\\right]$"
      ],
      "text/plain": [
       "⎡0  0  0  0⎤\n",
       "⎢          ⎥\n",
       "⎢0  0  0  0⎥\n",
       "⎢          ⎥\n",
       "⎢0  0  0  0⎥\n",
       "⎢          ⎥\n",
       "⎣0  0  0  0⎦"
      ]
     },
     "execution_count": 31,
     "metadata": {},
     "output_type": "execute_result"
    }
   ],
   "source": [
    "einst = EinsteinTensor.from_metric(metric)\n",
    "simplify(einst.tensor())"
   ]
  },
  {
   "cell_type": "code",
   "execution_count": 19,
   "id": "360989dd",
   "metadata": {},
   "outputs": [
    {
     "data": {
      "image/png": "[encoded data removed]",
      "text/latex": [
       "$\\displaystyle 0$"
      ],
      "text/plain": [
       "0"
      ]
     },
     "execution_count": 19,
     "metadata": {},
     "output_type": "execute_result"
    }
   ],
   "source": [
    "R = RicciScalar.from_riccitensor(Ric)\n",
    "R.simplify()\n",
    "R.expr"
   ]
  },
  {
   "cell_type": "code",
   "execution_count": 32,
   "id": "196be5b9",
   "metadata": {},
   "outputs": [
    {
     "data": {
      "text/latex": [
       "$\\displaystyle \\left[\\begin{matrix}\\left[\\begin{matrix}0 & 0 & 0 & 0\\\\0 & 0 & 0 & 0\\\\0 & 0 & 0 & 0\\\\0 & 0 & 0 & 0\\end{matrix}\\right] & \\left[\\begin{matrix}0 & -2 & 0 & - r\\\\2 & 0 & 0 & 0\\\\0 & 0 & 0 & 0\\\\r & 0 & 0 & 0\\end{matrix}\\right] & \\left[\\begin{matrix}0 & 0 & e^{- 2 C + r^{2} - 4 z} & 0\\\\0 & 0 & 0 & 0\\\\- e^{- 2 C + r^{2} - 4 z} & 0 & 0 & 0\\\\0 & 0 & 0 & 0\\end{matrix}\\right] & \\left[\\begin{matrix}0 & - r & 0 & 1\\\\r & 0 & 0 & 0\\\\0 & 0 & 0 & 0\\\\-1 & 0 & 0 & 0\\end{matrix}\\right]\\\\\\left[\\begin{matrix}0 & - 2 r^{2} e^{- 2 C + r^{2}} & 0 & - r^{3} e^{- 2 C + r^{2}}\\\\2 r^{2} e^{- 2 C + r^{2}} & 0 & 0 & 0\\\\0 & 0 & 0 & 0\\\\r^{3} e^{- 2 C + r^{2}} & 0 & 0 & 0\\end{matrix}\\right] & \\left[\\begin{matrix}0 & 0 & 0 & 0\\\\0 & 0 & 0 & 0\\\\0 & 0 & 0 & 0\\\\0 & 0 & 0 & 0\\end{matrix}\\right] & \\left[\\begin{matrix}0 & 0 & 0 & 0\\\\0 & 0 & e^{- 2 C + r^{2} - 4 z} & 0\\\\0 & - e^{- 2 C + r^{2} - 4 z} & 0 & - r e^{- 2 C + r^{2} - 4 z}\\\\0 & 0 & r e^{- 2 C + r^{2} - 4 z} & 0\\end{matrix}\\right] & \\left[\\begin{matrix}0 & 0 & 0 & 0\\\\0 & 0 & 0 & 1\\\\0 & 0 & 0 & 0\\\\0 & -1 & 0 & 0\\end{matrix}\\right]\\\\\\left[\\begin{matrix}0 & 0 & r^{2} e^{- 2 C + r^{2}} & 0\\\\0 & 0 & 0 & 0\\\\- r^{2} e^{- 2 C + r^{2}} & 0 & 0 & 0\\\\0 & 0 & 0 & 0\\end{matrix}\\right] & \\left[\\begin{matrix}0 & 0 & 0 & 0\\\\0 & 0 & -1 & 0\\\\0 & 1 & 0 & r\\\\0 & 0 & - r & 0\\end{matrix}\\right] & \\left[\\begin{matrix}0 & 0 & 0 & 0\\\\0 & 0 & 0 & 0\\\\0 & 0 & 0 & 0\\\\0 & 0 & 0 & 0\\end{matrix}\\right] & \\left[\\begin{matrix}0 & 0 & 0 & 0\\\\0 & 0 & - r & 0\\\\0 & r & 0 & -2\\\\0 & 0 & 2 & 0\\end{matrix}\\right]\\\\\\left[\\begin{matrix}0 & - r^{3} e^{- 2 C + r^{2}} & 0 & r^{2} e^{- 2 C + r^{2}}\\\\r^{3} e^{- 2 C + r^{2}} & 0 & 0 & 0\\\\0 & 0 & 0 & 0\\\\- r^{2} e^{- 2 C + r^{2}} & 0 & 0 & 0\\end{matrix}\\right] & \\left[\\begin{matrix}0 & 0 & 0 & 0\\\\0 & 0 & 0 & -1\\\\0 & 0 & 0 & 0\\\\0 & 1 & 0 & 0\\end{matrix}\\right] & \\left[\\begin{matrix}0 & 0 & 0 & 0\\\\0 & 0 & r e^{- 2 C + r^{2} - 4 z} & 0\\\\0 & - r e^{- 2 C + r^{2} - 4 z} & 0 & 2 e^{- 2 C + r^{2} - 4 z}\\\\0 & 0 & - 2 e^{- 2 C + r^{2} - 4 z} & 0\\end{matrix}\\right] & \\left[\\begin{matrix}0 & 0 & 0 & 0\\\\0 & 0 & 0 & 0\\\\0 & 0 & 0 & 0\\\\0 & 0 & 0 & 0\\end{matrix}\\right]\\end{matrix}\\right]$"
      ],
      "text/plain": [
       "⎡                                                                                   ⎡       \n",
       "⎢                                                                                   ⎢       \n",
       "⎢                     ⎡0  0  0  0⎤                       ⎡0  -2  0  -r⎤             ⎢       \n",
       "⎢                     ⎢          ⎥                       ⎢            ⎥             ⎢       \n",
       "⎢                     ⎢0  0  0  0⎥                       ⎢2  0   0  0 ⎥             ⎢       \n",
       "⎢                     ⎢          ⎥                       ⎢            ⎥             ⎢       \n",
       "⎢                     ⎢0  0  0  0⎥                       ⎢0  0   0  0 ⎥             ⎢       \n",
       "⎢                     ⎢          ⎥                       ⎢            ⎥             ⎢  -2⋅C \n",
       "⎢                     ⎣0  0  0  0⎦                       ⎣r  0   0  0 ⎦             ⎢-ℯ     \n",
       "⎢                                                                                   ⎢       \n",
       "⎢                                                                                   ⎣       \n",
       "⎢                                                                                           \n",
       "⎢⎡                                2                  2⎤                   ⎡0          0     \n",
       "⎢⎢                     2  -2⋅C + r        3  -2⋅C + r ⎥                   ⎢                 \n",
       "⎢⎢       0         -2⋅r ⋅ℯ           0  -r ⋅ℯ         ⎥                   ⎢                 \n",
       "⎢⎢                                                    ⎥   ⎡0  0  0  0⎤    ⎢                 \n",
       "⎢⎢              2                                     ⎥   ⎢          ⎥    ⎢0          0     \n",
       "⎢⎢   2  -2⋅C + r                                      ⎥   ⎢0  0  0  0⎥    ⎢                 \n",
       "⎢⎢2⋅r ⋅ℯ                  0          0        0       ⎥   ⎢          ⎥    ⎢             2   \n",
       "⎢⎢                                                    ⎥   ⎢0  0  0  0⎥    ⎢     -2⋅C + r  - \n",
       "⎢⎢       0                0          0        0       ⎥   ⎢          ⎥    ⎢0  -ℯ            \n",
       "⎢⎢                                                    ⎥   ⎣0  0  0  0⎦    ⎢                 \n",
       "⎢⎢             2                                      ⎥                   ⎢                 \n",
       "⎢⎢  3  -2⋅C + r                                       ⎥                   ⎢                 \n",
       "⎢⎣ r ⋅ℯ                   0          0        0       ⎦                   ⎣0          0     \n",
       "⎢                                                                                           \n",
       "⎢        ⎡                               2   ⎤                                              \n",
       "⎢        ⎢                    2  -2⋅C + r    ⎥                                              \n",
       "⎢        ⎢      0         0  r ⋅ℯ           0⎥           ⎡0  0  0   0⎤                      \n",
       "⎢        ⎢                                   ⎥           ⎢           ⎥                      \n",
       "⎢        ⎢      0         0        0        0⎥           ⎢0  0  -1  0⎥                      \n",
       "⎢        ⎢                                   ⎥           ⎢           ⎥                      \n",
       "⎢        ⎢             2                     ⎥           ⎢0  1  0   r⎥                      \n",
       "⎢        ⎢  2  -2⋅C + r                      ⎥           ⎢           ⎥                      \n",
       "⎢        ⎢-r ⋅ℯ           0        0        0⎥           ⎣0  0  -r  0⎦                      \n",
       "⎢        ⎢                                   ⎥                                              \n",
       "⎢        ⎣      0         0        0        0⎦                                              \n",
       "⎢                                                                                           \n",
       "⎢  ⎡                             2                 2⎤                    ⎡0           0     \n",
       "⎢  ⎢                  3  -2⋅C + r       2  -2⋅C + r ⎥                    ⎢                  \n",
       "⎢  ⎢      0         -r ⋅ℯ           0  r ⋅ℯ         ⎥                    ⎢                  \n",
       "⎢  ⎢                                                ⎥    ⎡0  0  0  0 ⎤   ⎢                  \n",
       "⎢  ⎢            2                                   ⎥    ⎢           ⎥   ⎢0           0     \n",
       "⎢  ⎢ 3  -2⋅C + r                                    ⎥    ⎢0  0  0  -1⎥   ⎢                  \n",
       "⎢  ⎢r ⋅ℯ                  0         0        0      ⎥    ⎢           ⎥   ⎢               2  \n",
       "⎢  ⎢                                                ⎥    ⎢0  0  0  0 ⎥   ⎢       -2⋅C + r  -\n",
       "⎢  ⎢      0               0         0        0      ⎥    ⎢           ⎥   ⎢0  -r⋅ℯ           \n",
       "⎢  ⎢                                                ⎥    ⎣0  1  0  0 ⎦   ⎢                  \n",
       "⎢  ⎢             2                                  ⎥                    ⎢                  \n",
       "⎢  ⎢  2  -2⋅C + r                                   ⎥                    ⎢                  \n",
       "⎣  ⎣-r ⋅ℯ                 0         0        0      ⎦                    ⎣0           0     \n",
       "\n",
       "                        2         ⎤                           ⎤\n",
       "                -2⋅C + r  - 4⋅z   ⎥                           ⎥\n",
       " 0          0  ℯ                 0⎥             ⎡0   -r  0  1⎤⎥\n",
       "                                  ⎥             ⎢            ⎥⎥\n",
       " 0          0         0          0⎥             ⎢r   0   0  0⎥⎥\n",
       "                                  ⎥             ⎢            ⎥⎥\n",
       "   2                              ⎥             ⎢0   0   0  0⎥⎥\n",
       "+ r  - 4⋅z                        ⎥             ⎢            ⎥⎥\n",
       "            0         0          0⎥             ⎣-1  0   0  0⎦⎥\n",
       "                                  ⎥                           ⎥\n",
       " 0          0         0          0⎦                           ⎥\n",
       "                                                              ⎥\n",
       "             0                    0         ⎤                 ⎥\n",
       "                                            ⎥                 ⎥\n",
       "               2                            ⎥                 ⎥\n",
       "       -2⋅C + r  - 4⋅z                      ⎥   ⎡0  0   0  0⎤ ⎥\n",
       "      ℯ                           0         ⎥   ⎢           ⎥ ⎥\n",
       "                                            ⎥   ⎢0  0   0  1⎥ ⎥\n",
       "                                     2      ⎥   ⎢           ⎥ ⎥\n",
       "4⋅z                          -2⋅C + r  - 4⋅z⎥   ⎢0  0   0  0⎥ ⎥\n",
       "             0           -r⋅ℯ               ⎥   ⎢           ⎥ ⎥\n",
       "                                            ⎥   ⎣0  -1  0  0⎦ ⎥\n",
       "                2                           ⎥                 ⎥\n",
       "        -2⋅C + r  - 4⋅z                     ⎥                 ⎥\n",
       "     r⋅ℯ                          0         ⎦                 ⎥\n",
       "                                                              ⎥\n",
       "                                                              ⎥\n",
       "                                                              ⎥\n",
       "       ⎡0  0  0  0⎤                             ⎡0  0  0   0 ⎤⎥\n",
       "       ⎢          ⎥                             ⎢            ⎥⎥\n",
       "       ⎢0  0  0  0⎥                             ⎢0  0  -r  0 ⎥⎥\n",
       "       ⎢          ⎥                             ⎢            ⎥⎥\n",
       "       ⎢0  0  0  0⎥                             ⎢0  r  0   -2⎥⎥\n",
       "       ⎢          ⎥                             ⎢            ⎥⎥\n",
       "       ⎣0  0  0  0⎦                             ⎣0  0  2   0 ⎦⎥\n",
       "                                                              ⎥\n",
       "                                                              ⎥\n",
       "                                                              ⎥\n",
       "               0                   0         ⎤                ⎥\n",
       "                                             ⎥                ⎥\n",
       "                 2                           ⎥                ⎥\n",
       "         -2⋅C + r  - 4⋅z                     ⎥   ⎡0  0  0  0⎤ ⎥\n",
       "      r⋅ℯ                          0         ⎥   ⎢          ⎥ ⎥\n",
       "                                             ⎥   ⎢0  0  0  0⎥ ⎥\n",
       "                                      2      ⎥   ⎢          ⎥ ⎥\n",
       " 4⋅z                          -2⋅C + r  - 4⋅z⎥   ⎢0  0  0  0⎥ ⎥\n",
       "               0           2⋅ℯ               ⎥   ⎢          ⎥ ⎥\n",
       "                                             ⎥   ⎣0  0  0  0⎦ ⎥\n",
       "                  2                          ⎥                ⎥\n",
       "          -2⋅C + r  - 4⋅z                    ⎥                ⎥\n",
       "      -2⋅ℯ                         0         ⎦                ⎦"
      ]
     },
     "execution_count": 32,
     "metadata": {},
     "output_type": "execute_result"
    }
   ],
   "source": [
    "rm1 = RiemannCurvatureTensor.from_christoffels(ch)\n",
    "simplify(rm1.tensor())"
   ]
  },
  {
   "cell_type": "code",
   "execution_count": 21,
   "id": "d8edde93",
   "metadata": {},
   "outputs": [
    {
     "data": {
      "text/latex": [
       "$\\displaystyle \\left[\\begin{matrix}\\left[\\begin{matrix}0 & 0 & 0 & 0\\\\0 & 0 & 0 & 0\\\\0 & 0 & 0 & 0\\\\0 & 0 & 0 & 0\\end{matrix}\\right] & \\left[\\begin{matrix}0 & 2 r^{2} e^{2 z} & 0 & r^{3} e^{2 z}\\\\- 2 r^{2} e^{2 z} & 0 & 0 & 0\\\\0 & 0 & 0 & 0\\\\- r^{3} e^{2 z} & 0 & 0 & 0\\end{matrix}\\right] & \\left[\\begin{matrix}0 & 0 & - r^{2} e^{- 2 c + r^{2} - 2 z} & 0\\\\0 & 0 & 0 & 0\\\\r^{2} e^{- 2 c + r^{2} - 2 z} & 0 & 0 & 0\\\\0 & 0 & 0 & 0\\end{matrix}\\right] & \\left[\\begin{matrix}0 & r^{3} e^{2 z} & 0 & - r^{2} e^{2 z}\\\\- r^{3} e^{2 z} & 0 & 0 & 0\\\\0 & 0 & 0 & 0\\\\r^{2} e^{2 z} & 0 & 0 & 0\\end{matrix}\\right]\\\\\\left[\\begin{matrix}0 & - 2 r^{2} e^{2 z} & 0 & - r^{3} e^{2 z}\\\\2 r^{2} e^{2 z} & 0 & 0 & 0\\\\0 & 0 & 0 & 0\\\\r^{3} e^{2 z} & 0 & 0 & 0\\end{matrix}\\right] & \\left[\\begin{matrix}0 & 0 & 0 & 0\\\\0 & 0 & 0 & 0\\\\0 & 0 & 0 & 0\\\\0 & 0 & 0 & 0\\end{matrix}\\right] & \\left[\\begin{matrix}0 & 0 & 0 & 0\\\\0 & 0 & e^{- 2 z} & 0\\\\0 & - e^{- 2 z} & 0 & - r e^{- 2 z}\\\\0 & 0 & r e^{- 2 z} & 0\\end{matrix}\\right] & \\left[\\begin{matrix}0 & 0 & 0 & 0\\\\0 & 0 & 0 & e^{2 c - r^{2} + 2 z}\\\\0 & 0 & 0 & 0\\\\0 & - e^{2 c - r^{2} + 2 z} & 0 & 0\\end{matrix}\\right]\\\\\\left[\\begin{matrix}0 & 0 & r^{2} e^{- 2 c + r^{2} - 2 z} & 0\\\\0 & 0 & 0 & 0\\\\- r^{2} e^{- 2 c + r^{2} - 2 z} & 0 & 0 & 0\\\\0 & 0 & 0 & 0\\end{matrix}\\right] & \\left[\\begin{matrix}0 & 0 & 0 & 0\\\\0 & 0 & - e^{- 2 z} & 0\\\\0 & e^{- 2 z} & 0 & r e^{- 2 z}\\\\0 & 0 & - r e^{- 2 z} & 0\\end{matrix}\\right] & \\left[\\begin{matrix}0 & 0 & 0 & 0\\\\0 & 0 & 0 & 0\\\\0 & 0 & 0 & 0\\\\0 & 0 & 0 & 0\\end{matrix}\\right] & \\left[\\begin{matrix}0 & 0 & 0 & 0\\\\0 & 0 & - r e^{- 2 z} & 0\\\\0 & r e^{- 2 z} & 0 & - 2 e^{- 2 z}\\\\0 & 0 & 2 e^{- 2 z} & 0\\end{matrix}\\right]\\\\\\left[\\begin{matrix}0 & - r^{3} e^{2 z} & 0 & r^{2} e^{2 z}\\\\r^{3} e^{2 z} & 0 & 0 & 0\\\\0 & 0 & 0 & 0\\\\- r^{2} e^{2 z} & 0 & 0 & 0\\end{matrix}\\right] & \\left[\\begin{matrix}0 & 0 & 0 & 0\\\\0 & 0 & 0 & - e^{2 c - r^{2} + 2 z}\\\\0 & 0 & 0 & 0\\\\0 & e^{2 c - r^{2} + 2 z} & 0 & 0\\end{matrix}\\right] & \\left[\\begin{matrix}0 & 0 & 0 & 0\\\\0 & 0 & r e^{- 2 z} & 0\\\\0 & - r e^{- 2 z} & 0 & 2 e^{- 2 z}\\\\0 & 0 & - 2 e^{- 2 z} & 0\\end{matrix}\\right] & \\left[\\begin{matrix}0 & 0 & 0 & 0\\\\0 & 0 & 0 & 0\\\\0 & 0 & 0 & 0\\\\0 & 0 & 0 & 0\\end{matrix}\\right]\\end{matrix}\\right]$"
      ],
      "text/plain": [
       "⎡                                                      ⎡               2  2⋅z      3  2⋅z⎤  \n",
       "⎢                                                      ⎢    0       2⋅r ⋅ℯ     0  r ⋅ℯ   ⎥  \n",
       "⎢                  ⎡0  0  0  0⎤                        ⎢                                 ⎥  \n",
       "⎢                  ⎢          ⎥                        ⎢    2  2⋅z                       ⎥  \n",
       "⎢                  ⎢0  0  0  0⎥                        ⎢-2⋅r ⋅ℯ         0      0     0   ⎥  \n",
       "⎢                  ⎢          ⎥                        ⎢                                 ⎥  \n",
       "⎢                  ⎢0  0  0  0⎥                        ⎢    0           0      0     0   ⎥  \n",
       "⎢                  ⎢          ⎥                        ⎢                                 ⎥  \n",
       "⎢                  ⎣0  0  0  0⎦                        ⎢   3  2⋅z                        ⎥  \n",
       "⎢                                                      ⎣ -r ⋅ℯ          0      0     0   ⎦  \n",
       "⎢                                                                                           \n",
       "⎢                                                                                           \n",
       "⎢      ⎡               2  2⋅z       3  2⋅z⎤                                                 \n",
       "⎢      ⎢    0      -2⋅r ⋅ℯ     0  -r ⋅ℯ   ⎥                                                 \n",
       "⎢      ⎢                                  ⎥                       ⎡0  0  0  0⎤              \n",
       "⎢      ⎢   2  2⋅z                         ⎥                       ⎢          ⎥              \n",
       "⎢      ⎢2⋅r ⋅ℯ         0       0     0    ⎥                       ⎢0  0  0  0⎥              \n",
       "⎢      ⎢                                  ⎥                       ⎢          ⎥              \n",
       "⎢      ⎢    0          0       0     0    ⎥                       ⎢0  0  0  0⎥              \n",
       "⎢      ⎢                                  ⎥                       ⎢          ⎥              \n",
       "⎢      ⎢  3  2⋅z                          ⎥                       ⎣0  0  0  0⎦              \n",
       "⎢      ⎣ r ⋅ℯ          0       0     0    ⎦                                                 \n",
       "⎢                                                                                           \n",
       "⎢                                                                                           \n",
       "⎢⎡                                     2         ⎤        ⎡0    0       0         0   ⎤     \n",
       "⎢⎢                          2  -2⋅c + r  - 2⋅z   ⎥        ⎢                           ⎥     \n",
       "⎢⎢         0            0  r ⋅ℯ                 0⎥        ⎢             -2⋅z          ⎥     \n",
       "⎢⎢                                               ⎥        ⎢0    0     -ℯ          0   ⎥     \n",
       "⎢⎢         0            0           0           0⎥        ⎢                           ⎥     \n",
       "⎢⎢                                               ⎥        ⎢    -2⋅z               -2⋅z⎥     \n",
       "⎢⎢             2                                 ⎥        ⎢0  ℯ         0      r⋅ℯ    ⎥     \n",
       "⎢⎢  2  -2⋅c + r  - 2⋅z                           ⎥        ⎢                           ⎥     \n",
       "⎢⎢-r ⋅ℯ                 0           0           0⎥        ⎢              -2⋅z         ⎥     \n",
       "⎢⎢                                               ⎥        ⎣0    0    -r⋅ℯ         0   ⎦     \n",
       "⎢⎣         0            0           0           0⎦                                          \n",
       "⎢                                                                                           \n",
       "⎢        ⎡            3  2⋅z      2  2⋅z⎤           ⎡0         0         0         0        \n",
       "⎢        ⎢   0      -r ⋅ℯ     0  r ⋅ℯ   ⎥           ⎢                                       \n",
       "⎢        ⎢                              ⎥           ⎢                                2      \n",
       "⎢        ⎢ 3  2⋅z                       ⎥           ⎢                         2⋅c - r  + 2⋅z\n",
       "⎢        ⎢r ⋅ℯ         0      0     0   ⎥           ⎢0         0         0  -ℯ              \n",
       "⎢        ⎢                              ⎥           ⎢                                       \n",
       "⎢        ⎢   0         0      0     0   ⎥           ⎢0         0         0         0        \n",
       "⎢        ⎢                              ⎥           ⎢                                       \n",
       "⎢        ⎢  2  2⋅z                      ⎥           ⎢           2                           \n",
       "⎢        ⎣-r ⋅ℯ        0      0     0   ⎦           ⎢    2⋅c - r  + 2⋅z                     \n",
       "⎣                                                   ⎣0  ℯ                0         0        \n",
       "\n",
       "   ⎡                                     2         ⎤      ⎡           3  2⋅z       2  2⋅z⎤  \n",
       "   ⎢                          2  -2⋅c + r  - 2⋅z   ⎥      ⎢   0      r ⋅ℯ     0  -r ⋅ℯ   ⎥  \n",
       "   ⎢         0           0  -r ⋅ℯ                 0⎥      ⎢                              ⎥  \n",
       "   ⎢                                               ⎥      ⎢  3  2⋅z                      ⎥  \n",
       "   ⎢         0           0           0            0⎥      ⎢-r ⋅ℯ        0     0     0    ⎥  \n",
       "   ⎢                                               ⎥      ⎢                              ⎥  \n",
       "   ⎢            2                                  ⎥      ⎢   0         0     0     0    ⎥  \n",
       "   ⎢ 2  -2⋅c + r  - 2⋅z                            ⎥      ⎢                              ⎥  \n",
       "   ⎢r ⋅ℯ                 0           0            0⎥      ⎢ 2  2⋅z                       ⎥  \n",
       "   ⎢                                               ⎥      ⎣r ⋅ℯ         0     0     0    ⎦  \n",
       "   ⎣         0           0           0            0⎦                                        \n",
       "                                                                                            \n",
       "            ⎡0    0        0        0    ⎤            ⎡0         0          0         0     \n",
       "            ⎢                            ⎥            ⎢                                     \n",
       "            ⎢             -2⋅z           ⎥            ⎢                                2    \n",
       "            ⎢0    0      ℯ          0    ⎥            ⎢                         2⋅c - r  + 2\n",
       "            ⎢                            ⎥            ⎢0         0          0  ℯ            \n",
       "            ⎢     -2⋅z               -2⋅z⎥            ⎢                                     \n",
       "            ⎢0  -ℯ         0     -r⋅ℯ    ⎥            ⎢0         0          0         0     \n",
       "            ⎢                            ⎥            ⎢                                     \n",
       "            ⎢              -2⋅z          ⎥            ⎢            2                        \n",
       "            ⎣0    0     r⋅ℯ         0    ⎦            ⎢     2⋅c - r  + 2⋅z                  \n",
       "                                                      ⎣0  -ℯ                0         0     \n",
       "                                                                                            \n",
       "                                                          ⎡0     0        0         0    ⎤  \n",
       "                                                          ⎢                              ⎥  \n",
       "                     ⎡0  0  0  0⎤                         ⎢                -2⋅z          ⎥  \n",
       "                     ⎢          ⎥                         ⎢0     0     -r⋅ℯ         0    ⎥  \n",
       "                     ⎢0  0  0  0⎥                         ⎢                              ⎥  \n",
       "                     ⎢          ⎥                         ⎢      -2⋅z                -2⋅z⎥  \n",
       "                     ⎢0  0  0  0⎥                         ⎢0  r⋅ℯ         0      -2⋅ℯ    ⎥  \n",
       "                     ⎢          ⎥                         ⎢                              ⎥  \n",
       "                     ⎣0  0  0  0⎦                         ⎢               -2⋅z           ⎥  \n",
       "                                                          ⎣0     0     2⋅ℯ          0    ⎦  \n",
       "                                                                                            \n",
       "                                                                                            \n",
       "⎤          ⎡0     0         0         0   ⎤                                                 \n",
       "⎥          ⎢                              ⎥                                                 \n",
       "⎥          ⎢                -2⋅z          ⎥                         ⎡0  0  0  0⎤            \n",
       "⎥          ⎢0     0      r⋅ℯ          0   ⎥                         ⎢          ⎥            \n",
       "⎥          ⎢                              ⎥                         ⎢0  0  0  0⎥            \n",
       "⎥          ⎢       -2⋅z               -2⋅z⎥                         ⎢          ⎥            \n",
       "⎥          ⎢0  -r⋅ℯ         0      2⋅ℯ    ⎥                         ⎢0  0  0  0⎥            \n",
       "⎥          ⎢                              ⎥                         ⎢          ⎥            \n",
       "⎥          ⎢                 -2⋅z         ⎥                         ⎣0  0  0  0⎦            \n",
       "⎥          ⎣0     0      -2⋅ℯ         0   ⎦                                                 \n",
       "⎦                                                                                           \n",
       "\n",
       "   ⎤\n",
       "   ⎥\n",
       "   ⎥\n",
       "   ⎥\n",
       "   ⎥\n",
       "   ⎥\n",
       "   ⎥\n",
       "   ⎥\n",
       "   ⎥\n",
       "   ⎥\n",
       "   ⎥\n",
       "   ⎥\n",
       "  ⎤⎥\n",
       "  ⎥⎥\n",
       "  ⎥⎥\n",
       "⋅z⎥⎥\n",
       "  ⎥⎥\n",
       "  ⎥⎥\n",
       "  ⎥⎥\n",
       "  ⎥⎥\n",
       "  ⎥⎥\n",
       "  ⎥⎥\n",
       "  ⎦⎥\n",
       "   ⎥\n",
       "   ⎥\n",
       "   ⎥\n",
       "   ⎥\n",
       "   ⎥\n",
       "   ⎥\n",
       "   ⎥\n",
       "   ⎥\n",
       "   ⎥\n",
       "   ⎥\n",
       "   ⎥\n",
       "   ⎥\n",
       "   ⎥\n",
       "   ⎥\n",
       "   ⎥\n",
       "   ⎥\n",
       "   ⎥\n",
       "   ⎥\n",
       "   ⎥\n",
       "   ⎥\n",
       "   ⎥\n",
       "   ⎥\n",
       "   ⎥\n",
       "   ⎦"
      ]
     },
     "execution_count": 21,
     "metadata": {},
     "output_type": "execute_result"
    }
   ],
   "source": [
    "weyl = WeylTensor.from_metric(metric)\n",
    "weyl.tensor()"
   ]
  },
  {
   "cell_type": "code",
   "execution_count": null,
   "id": "aaab63af",
   "metadata": {},
   "outputs": [],
   "source": []
  }
 ],
 "metadata": {
  "kernelspec": {
   "display_name": "Python 3 (ipykernel)",
   "language": "python",
   "name": "python3"
  },
  "language_info": {
   "codemirror_mode": {
    "name": "ipython",
    "version": 3
   },
   "file_extension": ".py",
   "mimetype": "text/x-python",
   "name": "python",
   "nbconvert_exporter": "python",
   "pygments_lexer": "ipython3",
   "version": "3.8.8"
  }
 },
 "nbformat": 4,
 "nbformat_minor": 5
}
