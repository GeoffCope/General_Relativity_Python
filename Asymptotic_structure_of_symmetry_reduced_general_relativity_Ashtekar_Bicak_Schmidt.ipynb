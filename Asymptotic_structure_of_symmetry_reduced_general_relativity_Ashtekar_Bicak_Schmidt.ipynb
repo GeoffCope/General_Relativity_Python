{
 "cells": [
  {
   "cell_type": "markdown",
   "id": "fe6c16ac",
   "metadata": {},
   "source": [
    "# Asymptotic structure of symmetry reduced general relativity by Ashtekar Bicak and Schmidt\n",
    "##  Geoff Cope\n",
    "##  Univeristy of Utah\n",
    "##  January 4, 2022"
   ]
  },
  {
   "cell_type": "markdown",
   "id": "30f424e0",
   "metadata": {},
   "source": [
    "Here we work with metric 2.26 which is in Bondi type coordinates"
   ]
  },
  {
   "cell_type": "markdown",
   "id": "316825ba",
   "metadata": {},
   "source": [
    "https://arxiv.org/abs/gr-qc/9608042"
   ]
  },
  {
   "cell_type": "markdown",
   "id": "4e622512",
   "metadata": {},
   "source": [
    "This is the companion paper"
   ]
  },
  {
   "cell_type": "markdown",
   "id": "e8be9bf4",
   "metadata": {},
   "source": [
    "https://arxiv.org/abs/gr-qc/9608041"
   ]
  },
  {
   "cell_type": "code",
   "execution_count": 2,
   "id": "a4fc62c9",
   "metadata": {},
   "outputs": [
    {
     "name": "stdout",
     "output_type": "stream",
     "text": [
      "IPython console for SymPy 1.9 (Python 3.8.8-64-bit) (ground types: gmpy)\n",
      "\n",
      "These commands were executed:\n",
      ">>> from __future__ import division\n",
      ">>> from sympy import *\n",
      ">>> x, y, z, t = symbols('x y z t')\n",
      ">>> k, m, n = symbols('k m n', integer=True)\n",
      ">>> f, g, h = symbols('f g h', cls=Function)\n",
      ">>> init_printing()\n",
      "\n",
      "Documentation can be found at https://docs.sympy.org/1.9/\n",
      "\n"
     ]
    }
   ],
   "source": [
    "from sympy import init_session\n",
    "init_session(use_latex=True)"
   ]
  },
  {
   "cell_type": "code",
   "execution_count": 4,
   "id": "705a2d48",
   "metadata": {},
   "outputs": [],
   "source": [
    "import warnings\n",
    "import matplotlib.cbook\n",
    "warnings.filterwarnings(\"ignore\",category=matplotlib.cbook.mplDeprecation)"
   ]
  },
  {
   "cell_type": "code",
   "execution_count": 5,
   "id": "518c22dc",
   "metadata": {},
   "outputs": [],
   "source": [
    "u,t,rho,phi,z,du,dt,drho,dphi,dz = symbols( 'u t rho phi z du dt drho dphi dz' ) "
   ]
  },
  {
   "cell_type": "code",
   "execution_count": 6,
   "id": "2d952002",
   "metadata": {},
   "outputs": [
    {
     "data": {
      "image/png": "[encoded data removed]",
      "text/latex": [
       "$\\displaystyle \\psi{\\left(u,\\rho \\right)}$"
      ],
      "text/plain": [
       "ψ(u, ρ)"
      ]
     },
     "execution_count": 6,
     "metadata": {},
     "output_type": "execute_result"
    }
   ],
   "source": [
    "psi = Function('psi')(u,rho)\n",
    "psi"
   ]
  },
  {
   "cell_type": "code",
   "execution_count": 7,
   "id": "2f281c68",
   "metadata": {},
   "outputs": [
    {
     "data": {
      "image/png": "[encoded data removed]",
      "text/latex": [
       "$\\displaystyle \\gamma{\\left(u,\\rho \\right)}$"
      ],
      "text/plain": [
       "γ(u, ρ)"
      ]
     },
     "execution_count": 7,
     "metadata": {},
     "output_type": "execute_result"
    }
   ],
   "source": [
    "gamma = Function('gamma')(u,rho)\n",
    "gamma"
   ]
  },
  {
   "cell_type": "code",
   "execution_count": 8,
   "id": "9896f467",
   "metadata": {},
   "outputs": [
    {
     "data": {
      "text/latex": [
       "$\\displaystyle \\left[\\begin{matrix}u\\\\\\rho\\\\\\phi\\\\z\\end{matrix}\\right]$"
      ],
      "text/plain": [
       "⎡u⎤\n",
       "⎢ ⎥\n",
       "⎢ρ⎥\n",
       "⎢ ⎥\n",
       "⎢φ⎥\n",
       "⎢ ⎥\n",
       "⎣z⎦"
      ]
     },
     "execution_count": 8,
     "metadata": {},
     "output_type": "execute_result"
    }
   ],
   "source": [
    "variables = Matrix( [u,rho,phi,z] )\n",
    "variables"
   ]
  },
  {
   "cell_type": "code",
   "execution_count": 9,
   "id": "54f7e64c",
   "metadata": {},
   "outputs": [
    {
     "data": {
      "text/latex": [
       "$\\displaystyle \\left[\\begin{matrix}du\\\\drho\\\\dphi\\\\dz\\end{matrix}\\right]$"
      ],
      "text/plain": [
       "⎡ du ⎤\n",
       "⎢    ⎥\n",
       "⎢drho⎥\n",
       "⎢    ⎥\n",
       "⎢dphi⎥\n",
       "⎢    ⎥\n",
       "⎣ dz ⎦"
      ]
     },
     "execution_count": 9,
     "metadata": {},
     "output_type": "execute_result"
    }
   ],
   "source": [
    "differentials = Matrix( [du,drho,dphi,dz] ) \n",
    "differentials"
   ]
  },
  {
   "cell_type": "code",
   "execution_count": 10,
   "id": "8d340ff5",
   "metadata": {},
   "outputs": [
    {
     "data": {
      "image/png": "[encoded data removed]",
      "text/latex": [
       "$\\displaystyle dphi^{2} \\rho^{2} e^{- 2 \\psi{\\left(u,\\rho \\right)}} - 2 drho du e^{2 \\gamma{\\left(u,\\rho \\right)}} e^{- 2 \\psi{\\left(u,\\rho \\right)}} - du^{2} e^{2 \\gamma{\\left(u,\\rho \\right)}} e^{- 2 \\psi{\\left(u,\\rho \\right)}} + dz^{2} e^{2 \\psi{\\left(u,\\rho \\right)}}$"
      ],
      "text/plain": [
       "    2  2  -2⋅ψ(u, ρ)              2⋅γ(u, ρ)  -2⋅ψ(u, ρ)     2  2⋅γ(u, ρ)  -2⋅ψ(u, ρ)     2  2⋅ψ(u, ρ)\n",
       "dphi ⋅ρ ⋅ℯ           - 2⋅drho⋅du⋅ℯ         ⋅ℯ           - du ⋅ℯ         ⋅ℯ           + dz ⋅ℯ         "
      ]
     },
     "execution_count": 10,
     "metadata": {},
     "output_type": "execute_result"
    }
   ],
   "source": [
    "lineElement = expand( exp(2*psi) * dz**2 + exp(2*(gamma-psi)) * (- (du + drho)**2 + drho**2) + rho**2 * exp(-2*psi) * dphi**2 ) \n",
    "lineElement"
   ]
  },
  {
   "cell_type": "code",
   "execution_count": 11,
   "id": "125655a7",
   "metadata": {},
   "outputs": [
    {
     "data": {
      "text/latex": [
       "$\\displaystyle \\left[\\begin{matrix}- e^{2 \\gamma{\\left(u,\\rho \\right)}} e^{- 2 \\psi{\\left(u,\\rho \\right)}} & - e^{2 \\gamma{\\left(u,\\rho \\right)}} e^{- 2 \\psi{\\left(u,\\rho \\right)}} & 0 & 0\\\\- e^{2 \\gamma{\\left(u,\\rho \\right)}} e^{- 2 \\psi{\\left(u,\\rho \\right)}} & 0 & 0 & 0\\\\0 & 0 & \\rho^{2} e^{- 2 \\psi{\\left(u,\\rho \\right)}} & 0\\\\0 & 0 & 0 & e^{2 \\psi{\\left(u,\\rho \\right)}}\\end{matrix}\\right]$"
      ],
      "text/plain": [
       "⎡  2⋅γ(u, ρ)  -2⋅ψ(u, ρ)    2⋅γ(u, ρ)  -2⋅ψ(u, ρ)                            ⎤\n",
       "⎢-ℯ         ⋅ℯ            -ℯ         ⋅ℯ                  0             0     ⎥\n",
       "⎢                                                                            ⎥\n",
       "⎢  2⋅γ(u, ρ)  -2⋅ψ(u, ρ)                                                     ⎥\n",
       "⎢-ℯ         ⋅ℯ                       0                   0             0     ⎥\n",
       "⎢                                                                            ⎥\n",
       "⎢                                                   2  -2⋅ψ(u, ρ)            ⎥\n",
       "⎢           0                        0             ρ ⋅ℯ                0     ⎥\n",
       "⎢                                                                            ⎥\n",
       "⎢                                                                   2⋅ψ(u, ρ)⎥\n",
       "⎣           0                        0                   0         ℯ         ⎦"
      ]
     },
     "execution_count": 11,
     "metadata": {},
     "output_type": "execute_result"
    }
   ],
   "source": [
    "g = zeros(4)\n",
    "\n",
    "for i in range(4):\n",
    "    for j in range(4):\n",
    "        if i == j:\n",
    "            g[i,j] = lineElement.coeff( differentials[i],2 ) \n",
    "        else:\n",
    "            g[i,j] = Rational(1,2)*lineElement.coeff( differentials[i]*differentials[j],1 )\n",
    "            \n",
    "g"
   ]
  },
  {
   "cell_type": "code",
   "execution_count": 12,
   "id": "d012c991",
   "metadata": {},
   "outputs": [],
   "source": [
    "import sympy"
   ]
  },
  {
   "cell_type": "code",
   "execution_count": 13,
   "id": "691b1a55",
   "metadata": {},
   "outputs": [
    {
     "data": {
      "text/latex": [
       "$\\displaystyle \\left[\\begin{matrix}- e^{2 \\gamma{\\left(u,\\rho \\right)}} e^{- 2 \\psi{\\left(u,\\rho \\right)}} & - e^{2 \\gamma{\\left(u,\\rho \\right)}} e^{- 2 \\psi{\\left(u,\\rho \\right)}} & 0 & 0\\\\- e^{2 \\gamma{\\left(u,\\rho \\right)}} e^{- 2 \\psi{\\left(u,\\rho \\right)}} & 0 & 0 & 0\\\\0 & 0 & \\rho^{2} e^{- 2 \\psi{\\left(u,\\rho \\right)}} & 0\\\\0 & 0 & 0 & e^{2 \\psi{\\left(u,\\rho \\right)}}\\end{matrix}\\right]$"
      ],
      "text/plain": [
       "⎡  2⋅γ(u, ρ)  -2⋅ψ(u, ρ)    2⋅γ(u, ρ)  -2⋅ψ(u, ρ)                            ⎤\n",
       "⎢-ℯ         ⋅ℯ            -ℯ         ⋅ℯ                  0             0     ⎥\n",
       "⎢                                                                            ⎥\n",
       "⎢  2⋅γ(u, ρ)  -2⋅ψ(u, ρ)                                                     ⎥\n",
       "⎢-ℯ         ⋅ℯ                       0                   0             0     ⎥\n",
       "⎢                                                                            ⎥\n",
       "⎢                                                   2  -2⋅ψ(u, ρ)            ⎥\n",
       "⎢           0                        0             ρ ⋅ℯ                0     ⎥\n",
       "⎢                                                                            ⎥\n",
       "⎢                                                                   2⋅ψ(u, ρ)⎥\n",
       "⎣           0                        0                   0         ℯ         ⎦"
      ]
     },
     "execution_count": 13,
     "metadata": {},
     "output_type": "execute_result"
    }
   ],
   "source": [
    "m = sympy.Array(g)\n",
    "m"
   ]
  },
  {
   "cell_type": "code",
   "execution_count": 14,
   "id": "97b2128a",
   "metadata": {},
   "outputs": [],
   "source": [
    "from einsteinpy.symbolic import *"
   ]
  },
  {
   "cell_type": "code",
   "execution_count": 15,
   "id": "2674682d",
   "metadata": {},
   "outputs": [],
   "source": [
    "syms = sympy.symbols(\"u rho phi z\")\n",
    "u,rho,phi,z = syms"
   ]
  },
  {
   "cell_type": "code",
   "execution_count": 16,
   "id": "e3493744",
   "metadata": {},
   "outputs": [],
   "source": [
    "metric = MetricTensor(m,syms)"
   ]
  },
  {
   "cell_type": "code",
   "execution_count": 17,
   "id": "43685234",
   "metadata": {},
   "outputs": [
    {
     "data": {
      "text/latex": [
       "$\\displaystyle \\left[\\begin{matrix}\\left[\\begin{matrix}- \\frac{\\left(2 e^{2 \\gamma{\\left(u,\\rho \\right)}} e^{- 2 \\psi{\\left(u,\\rho \\right)}} \\frac{\\partial}{\\partial \\rho} \\gamma{\\left(u,\\rho \\right)} - 4 e^{2 \\gamma{\\left(u,\\rho \\right)}} e^{- 2 \\psi{\\left(u,\\rho \\right)}} \\frac{\\partial}{\\partial u} \\gamma{\\left(u,\\rho \\right)} - 2 e^{2 \\gamma{\\left(u,\\rho \\right)}} e^{- 2 \\psi{\\left(u,\\rho \\right)}} \\frac{\\partial}{\\partial \\rho} \\psi{\\left(u,\\rho \\right)} + 4 e^{2 \\gamma{\\left(u,\\rho \\right)}} e^{- 2 \\psi{\\left(u,\\rho \\right)}} \\frac{\\partial}{\\partial u} \\psi{\\left(u,\\rho \\right)}\\right) e^{- 2 \\gamma{\\left(u,\\rho \\right)}} e^{2 \\psi{\\left(u,\\rho \\right)}}}{2} & 0 & 0 & 0\\\\0 & 0 & 0 & 0\\\\0 & 0 & - \\frac{\\left(2 \\rho^{2} e^{- 2 \\psi{\\left(u,\\rho \\right)}} \\frac{\\partial}{\\partial \\rho} \\psi{\\left(u,\\rho \\right)} - 2 \\rho e^{- 2 \\psi{\\left(u,\\rho \\right)}}\\right) e^{- 2 \\gamma{\\left(u,\\rho \\right)}} e^{2 \\psi{\\left(u,\\rho \\right)}}}{2} & 0\\\\0 & 0 & 0 & e^{- 2 \\gamma{\\left(u,\\rho \\right)}} e^{4 \\psi{\\left(u,\\rho \\right)}} \\frac{\\partial}{\\partial \\rho} \\psi{\\left(u,\\rho \\right)}\\end{matrix}\\right] & \\left[\\begin{matrix}- \\frac{\\left(- 2 e^{2 \\gamma{\\left(u,\\rho \\right)}} e^{- 2 \\psi{\\left(u,\\rho \\right)}} \\frac{\\partial}{\\partial u} \\gamma{\\left(u,\\rho \\right)} + 2 e^{2 \\gamma{\\left(u,\\rho \\right)}} e^{- 2 \\psi{\\left(u,\\rho \\right)}} \\frac{\\partial}{\\partial u} \\psi{\\left(u,\\rho \\right)}\\right) e^{- 2 \\gamma{\\left(u,\\rho \\right)}} e^{2 \\psi{\\left(u,\\rho \\right)}}}{2} + \\frac{\\left(2 e^{2 \\gamma{\\left(u,\\rho \\right)}} e^{- 2 \\psi{\\left(u,\\rho \\right)}} \\frac{\\partial}{\\partial \\rho} \\gamma{\\left(u,\\rho \\right)} - 4 e^{2 \\gamma{\\left(u,\\rho \\right)}} e^{- 2 \\psi{\\left(u,\\rho \\right)}} \\frac{\\partial}{\\partial u} \\gamma{\\left(u,\\rho \\right)} - 2 e^{2 \\gamma{\\left(u,\\rho \\right)}} e^{- 2 \\psi{\\left(u,\\rho \\right)}} \\frac{\\partial}{\\partial \\rho} \\psi{\\left(u,\\rho \\right)} + 4 e^{2 \\gamma{\\left(u,\\rho \\right)}} e^{- 2 \\psi{\\left(u,\\rho \\right)}} \\frac{\\partial}{\\partial u} \\psi{\\left(u,\\rho \\right)}\\right) e^{- 2 \\gamma{\\left(u,\\rho \\right)}} e^{2 \\psi{\\left(u,\\rho \\right)}}}{2} & - \\frac{\\left(- 2 e^{2 \\gamma{\\left(u,\\rho \\right)}} e^{- 2 \\psi{\\left(u,\\rho \\right)}} \\frac{\\partial}{\\partial \\rho} \\gamma{\\left(u,\\rho \\right)} + 2 e^{2 \\gamma{\\left(u,\\rho \\right)}} e^{- 2 \\psi{\\left(u,\\rho \\right)}} \\frac{\\partial}{\\partial \\rho} \\psi{\\left(u,\\rho \\right)}\\right) e^{- 2 \\gamma{\\left(u,\\rho \\right)}} e^{2 \\psi{\\left(u,\\rho \\right)}}}{2} & 0 & 0\\\\- \\frac{\\left(- 2 e^{2 \\gamma{\\left(u,\\rho \\right)}} e^{- 2 \\psi{\\left(u,\\rho \\right)}} \\frac{\\partial}{\\partial \\rho} \\gamma{\\left(u,\\rho \\right)} + 2 e^{2 \\gamma{\\left(u,\\rho \\right)}} e^{- 2 \\psi{\\left(u,\\rho \\right)}} \\frac{\\partial}{\\partial \\rho} \\psi{\\left(u,\\rho \\right)}\\right) e^{- 2 \\gamma{\\left(u,\\rho \\right)}} e^{2 \\psi{\\left(u,\\rho \\right)}}}{2} & - \\frac{\\left(- 4 e^{2 \\gamma{\\left(u,\\rho \\right)}} e^{- 2 \\psi{\\left(u,\\rho \\right)}} \\frac{\\partial}{\\partial \\rho} \\gamma{\\left(u,\\rho \\right)} + 4 e^{2 \\gamma{\\left(u,\\rho \\right)}} e^{- 2 \\psi{\\left(u,\\rho \\right)}} \\frac{\\partial}{\\partial \\rho} \\psi{\\left(u,\\rho \\right)}\\right) e^{- 2 \\gamma{\\left(u,\\rho \\right)}} e^{2 \\psi{\\left(u,\\rho \\right)}}}{2} & 0 & 0\\\\0 & 0 & - \\rho^{2} e^{- 2 \\gamma{\\left(u,\\rho \\right)}} \\frac{\\partial}{\\partial u} \\psi{\\left(u,\\rho \\right)} + \\frac{\\left(2 \\rho^{2} e^{- 2 \\psi{\\left(u,\\rho \\right)}} \\frac{\\partial}{\\partial \\rho} \\psi{\\left(u,\\rho \\right)} - 2 \\rho e^{- 2 \\psi{\\left(u,\\rho \\right)}}\\right) e^{- 2 \\gamma{\\left(u,\\rho \\right)}} e^{2 \\psi{\\left(u,\\rho \\right)}}}{2} & 0\\\\0 & 0 & 0 & - e^{- 2 \\gamma{\\left(u,\\rho \\right)}} e^{4 \\psi{\\left(u,\\rho \\right)}} \\frac{\\partial}{\\partial \\rho} \\psi{\\left(u,\\rho \\right)} + e^{- 2 \\gamma{\\left(u,\\rho \\right)}} e^{4 \\psi{\\left(u,\\rho \\right)}} \\frac{\\partial}{\\partial u} \\psi{\\left(u,\\rho \\right)}\\end{matrix}\\right] & \\left[\\begin{matrix}0 & 0 & - \\frac{\\partial}{\\partial u} \\psi{\\left(u,\\rho \\right)} & 0\\\\0 & 0 & \\frac{\\left(- 2 \\rho^{2} e^{- 2 \\psi{\\left(u,\\rho \\right)}} \\frac{\\partial}{\\partial \\rho} \\psi{\\left(u,\\rho \\right)} + 2 \\rho e^{- 2 \\psi{\\left(u,\\rho \\right)}}\\right) e^{2 \\psi{\\left(u,\\rho \\right)}}}{2 \\rho^{2}} & 0\\\\- \\frac{\\partial}{\\partial u} \\psi{\\left(u,\\rho \\right)} & \\frac{\\left(- 2 \\rho^{2} e^{- 2 \\psi{\\left(u,\\rho \\right)}} \\frac{\\partial}{\\partial \\rho} \\psi{\\left(u,\\rho \\right)} + 2 \\rho e^{- 2 \\psi{\\left(u,\\rho \\right)}}\\right) e^{2 \\psi{\\left(u,\\rho \\right)}}}{2 \\rho^{2}} & 0 & 0\\\\0 & 0 & 0 & 0\\end{matrix}\\right] & \\left[\\begin{matrix}0 & 0 & 0 & \\frac{\\partial}{\\partial u} \\psi{\\left(u,\\rho \\right)}\\\\0 & 0 & 0 & \\frac{\\partial}{\\partial \\rho} \\psi{\\left(u,\\rho \\right)}\\\\0 & 0 & 0 & 0\\\\\\frac{\\partial}{\\partial u} \\psi{\\left(u,\\rho \\right)} & \\frac{\\partial}{\\partial \\rho} \\psi{\\left(u,\\rho \\right)} & 0 & 0\\end{matrix}\\right]\\end{matrix}\\right]$"
      ],
      "text/plain": [
       "⎡                                                                                                                                        \n",
       "⎢                                                                                                                                        \n",
       "⎢⎡ ⎛   2⋅γ(u, ρ)  -2⋅ψ(u, ρ) ∂                2⋅γ(u, ρ)  -2⋅ψ(u, ρ) ∂                2⋅γ(u, ρ)  -2⋅ψ(u, ρ) ∂                2⋅γ(u, ρ)  -2\n",
       "⎢⎢-⎜2⋅ℯ         ⋅ℯ          ⋅──(γ(u, ρ)) - 4⋅ℯ         ⋅ℯ          ⋅──(γ(u, ρ)) - 2⋅ℯ         ⋅ℯ          ⋅──(ψ(u, ρ)) + 4⋅ℯ         ⋅ℯ  \n",
       "⎢⎢ ⎝                         ∂ρ                                     ∂u                                     ∂ρ                            \n",
       "⎢⎢───────────────────────────────────────────────────────────────────────────────────────────────────────────────────────────────────────\n",
       "⎢⎢                                                                                         2                                             \n",
       "⎢⎢                                                                                                                                       \n",
       "⎢⎢                                                                                         0                                             \n",
       "⎢⎢                                                                                                                                       \n",
       "⎢⎢                                                                                                                                       \n",
       "⎢⎢                                                                                                                                       \n",
       "⎢⎢                                                                                                                                       \n",
       "⎢⎢                                                                                         0                                             \n",
       "⎢⎢                                                                                                                                       \n",
       "⎢⎢                                                                                                                                       \n",
       "⎢⎢                                                                                                                                       \n",
       "⎢⎢                                                                                         0                                             \n",
       "⎢⎣                                                                                                                                       \n",
       "⎢                                                                                                                                        \n",
       "⎣                                                                                                                                        \n",
       "\n",
       "                                                                                                                                         \n",
       "                                                                                                                                         \n",
       "⋅ψ(u, ρ) ∂          ⎞  -2⋅γ(u, ρ)  2⋅ψ(u, ρ)                                                                                             \n",
       "        ⋅──(ψ(u, ρ))⎟⋅ℯ          ⋅ℯ                                                                                                      \n",
       "         ∂u         ⎠                                                                                                                    \n",
       "─────────────────────────────────────────────  0                                      0                                                  \n",
       "                                                                                                                                         \n",
       "                                                                                                                                         \n",
       "                                               0                                      0                                                  \n",
       "                                                                                                                                         \n",
       "                                                   ⎛   2  -2⋅ψ(u, ρ) ∂                  -2⋅ψ(u, ρ)⎞  -2⋅γ(u, ρ)  2⋅ψ(u, ρ)               \n",
       "                                                  -⎜2⋅ρ ⋅ℯ          ⋅──(ψ(u, ρ)) - 2⋅ρ⋅ℯ          ⎟⋅ℯ          ⋅ℯ                        \n",
       "                                                   ⎝                 ∂ρ                           ⎠                                      \n",
       "                                               0  ─────────────────────────────────────────────────────────────────────────              \n",
       "                                                                                      2                                                  \n",
       "                                                                                                                                         \n",
       "                                                                                                                              -2⋅γ(u, ρ) \n",
       "                                               0                                      0                                      ℯ          ⋅\n",
       "                                                                                                                                         \n",
       "                                                                                                                                         \n",
       "                                                                                                                                         \n",
       "\n",
       "                         ⎡  ⎛     2⋅γ(u, ρ)  -2⋅ψ(u, ρ) ∂                2⋅γ(u, ρ)  -2⋅ψ(u, ρ) ∂          ⎞  -2⋅γ(u, ρ)  2⋅ψ(u, ρ)   ⎛   \n",
       "                         ⎢  ⎜- 2⋅ℯ         ⋅ℯ          ⋅──(γ(u, ρ)) + 2⋅ℯ         ⋅ℯ          ⋅──(ψ(u, ρ))⎟⋅ℯ          ⋅ℯ            ⎜2⋅ℯ\n",
       "                      ⎤  ⎢  ⎝                           ∂u                                     ∂u         ⎠                          ⎝   \n",
       "                      ⎥  ⎢- ────────────────────────────────────────────────────────────────────────────────────────────────────── + ────\n",
       "                      ⎥  ⎢                                                    2                                                          \n",
       "    0                 ⎥  ⎢                                                                                                               \n",
       "                      ⎥  ⎢                                                                                           ⎛     2⋅γ(u, ρ)  -2⋅\n",
       "                      ⎥  ⎢                                                                                          -⎜- 2⋅ℯ         ⋅ℯ   \n",
       "    0                 ⎥  ⎢                                                                                           ⎝                   \n",
       "                      ⎥  ⎢                                                                                          ─────────────────────\n",
       "                      ⎥  ⎢                                                                                                               \n",
       "                      ⎥  ⎢                                                                                                               \n",
       "                      ⎥  ⎢                                                                                                               \n",
       "    0                 ⎥  ⎢                                                                                                               \n",
       "                      ⎥  ⎢                                                                                                               \n",
       "                      ⎥  ⎢                                                                                                               \n",
       " 4⋅ψ(u, ρ) ∂          ⎥  ⎢                                                                                                               \n",
       "ℯ         ⋅──(ψ(u, ρ))⎥  ⎢                                                                                                               \n",
       "           ∂ρ         ⎦  ⎢                                                                                                               \n",
       "                         ⎢                                                                                                               \n",
       "                         ⎣                                                                                                               \n",
       "\n",
       "2⋅γ(u, ρ)  -2⋅ψ(u, ρ) ∂                2⋅γ(u, ρ)  -2⋅ψ(u, ρ) ∂                2⋅γ(u, ρ)  -2⋅ψ(u, ρ) ∂                2⋅γ(u, ρ)  -2⋅ψ(u, ρ\n",
       "         ⋅ℯ          ⋅──(γ(u, ρ)) - 4⋅ℯ         ⋅ℯ          ⋅──(γ(u, ρ)) - 2⋅ℯ         ⋅ℯ          ⋅──(ψ(u, ρ)) + 4⋅ℯ         ⋅ℯ         \n",
       "                      ∂ρ                                     ∂u                                     ∂ρ                                   \n",
       "─────────────────────────────────────────────────────────────────────────────────────────────────────────────────────────────────────────\n",
       "                                                                                    2                                                    \n",
       "                                                                                                                                         \n",
       "ψ(u, ρ) ∂                2⋅γ(u, ρ)  -2⋅ψ(u, ρ) ∂          ⎞  -2⋅γ(u, ρ)  2⋅ψ(u, ρ)                                                       \n",
       "       ⋅──(γ(u, ρ)) + 2⋅ℯ         ⋅ℯ          ⋅──(ψ(u, ρ))⎟⋅ℯ          ⋅ℯ                                                                \n",
       "        ∂ρ                                     ∂ρ         ⎠                                                                              \n",
       "───────────────────────────────────────────────────────────────────────────────────                                                      \n",
       "                              2                                                                                                          \n",
       "                                                                                                                                         \n",
       "                                                                                                                                         \n",
       "                                                                                                                                         \n",
       "                                                                                                                                         \n",
       "                               0                                                                                                         \n",
       "                                                                                                                                         \n",
       "                                                                                                                                         \n",
       "                                                                                                                                         \n",
       "                               0                                                                                                         \n",
       "                                                                                                                                         \n",
       "\n",
       ") ∂          ⎞  -2⋅γ(u, ρ)  2⋅ψ(u, ρ)   ⎛     2⋅γ(u, ρ)  -2⋅ψ(u, ρ) ∂                2⋅γ(u, ρ)  -2⋅ψ(u, ρ) ∂          ⎞  -2⋅γ(u, ρ)  2⋅ψ(\n",
       " ⋅──(ψ(u, ρ))⎟⋅ℯ          ⋅ℯ           -⎜- 2⋅ℯ         ⋅ℯ          ⋅──(γ(u, ρ)) + 2⋅ℯ         ⋅ℯ          ⋅──(ψ(u, ρ))⎟⋅ℯ          ⋅ℯ    \n",
       "  ∂u         ⎠                          ⎝                           ∂ρ                                     ∂ρ         ⎠                  \n",
       "─────────────────────────────────────  ──────────────────────────────────────────────────────────────────────────────────────────────────\n",
       "                                                                                          2                                              \n",
       "                                                                                                                                         \n",
       "                                        ⎛     2⋅γ(u, ρ)  -2⋅ψ(u, ρ) ∂                2⋅γ(u, ρ)  -2⋅ψ(u, ρ) ∂          ⎞  -2⋅γ(u, ρ)  2⋅ψ(\n",
       "                                       -⎜- 4⋅ℯ         ⋅ℯ          ⋅──(γ(u, ρ)) + 4⋅ℯ         ⋅ℯ          ⋅──(ψ(u, ρ))⎟⋅ℯ          ⋅ℯ    \n",
       "                                        ⎝                           ∂ρ                                     ∂ρ         ⎠                  \n",
       "                                       ──────────────────────────────────────────────────────────────────────────────────────────────────\n",
       "                                                                                          2                                              \n",
       "                                                                                                                                         \n",
       "                                                                                                                                         \n",
       "                                                                                                                                         \n",
       "                                                                                                                                         \n",
       "                                                                                          0                                              \n",
       "                                                                                                                                         \n",
       "                                                                                                                                         \n",
       "                                                                                                                                         \n",
       "                                                                                          0                                              \n",
       "                                                                                                                                         \n",
       "\n",
       "u, ρ)                                                                                                                                    \n",
       "                                                                                                                                         \n",
       "                                                                                                                                         \n",
       "──────                                                    0                                                                              \n",
       "                                                                                                                                         \n",
       "                                                                                                                                         \n",
       "u, ρ)                                                                                                                                    \n",
       "                                                                                                                                         \n",
       "                                                                                                                                         \n",
       "──────                                                    0                                                                              \n",
       "                                                                                                                                         \n",
       "                                                                                                                                         \n",
       "                                       ⎛   2  -2⋅ψ(u, ρ) ∂                  -2⋅ψ(u, ρ)⎞  -2⋅γ(u, ρ)  2⋅ψ(u, ρ)                           \n",
       "                                       ⎜2⋅ρ ⋅ℯ          ⋅──(ψ(u, ρ)) - 2⋅ρ⋅ℯ          ⎟⋅ℯ          ⋅ℯ                                    \n",
       "           2  -2⋅γ(u, ρ) ∂             ⎝                 ∂ρ                           ⎠                                                  \n",
       "        - ρ ⋅ℯ          ⋅──(ψ(u, ρ)) + ───────────────────────────────────────────────────────────────────────                           \n",
       "                         ∂u                                               2                                                              \n",
       "                                                                                                                                         \n",
       "                                                                                                                   -2⋅γ(u, ρ)  4⋅ψ(u, ρ) \n",
       "                                                          0                                                     - ℯ          ⋅ℯ         ⋅\n",
       "                                                                                                                                         \n",
       "\n",
       "                                                ⎤                                                                                        \n",
       "                                                ⎥  ⎡                                                                                     \n",
       "                                                ⎥  ⎢     0                                      0                                        \n",
       "           0                                    ⎥  ⎢                                                                                     \n",
       "                                                ⎥  ⎢                                                                                     \n",
       "                                                ⎥  ⎢                                                                             ⎛     2 \n",
       "                                                ⎥  ⎢                                                                             ⎜- 2⋅ρ ⋅\n",
       "                                                ⎥  ⎢                                                                             ⎝       \n",
       "                                                ⎥  ⎢     0                                      0                                ────────\n",
       "           0                                    ⎥  ⎢                                                                                     \n",
       "                                                ⎥  ⎢                                                                                     \n",
       "                                                ⎥  ⎢                                                                                     \n",
       "                                                ⎥  ⎢              ⎛     2  -2⋅ψ(u, ρ) ∂                  -2⋅ψ(u, ρ)⎞  2⋅ψ(u, ρ)          \n",
       "                                                ⎥  ⎢              ⎜- 2⋅ρ ⋅ℯ          ⋅──(ψ(u, ρ)) + 2⋅ρ⋅ℯ          ⎟⋅ℯ                   \n",
       "                                                ⎥  ⎢ ∂            ⎝                   ∂ρ                           ⎠                     \n",
       "           0                                    ⎥  ⎢-──(ψ(u, ρ))  ─────────────────────────────────────────────────────────────          \n",
       "                                                ⎥  ⎢ ∂u                                           2                                      \n",
       "                                                ⎥  ⎢                                           2⋅ρ                                       \n",
       "∂              -2⋅γ(u, ρ)  4⋅ψ(u, ρ) ∂          ⎥  ⎢                                                                                     \n",
       "──(ψ(u, ρ)) + ℯ          ⋅ℯ         ⋅──(ψ(u, ρ))⎥  ⎣     0                                      0                                        \n",
       "∂ρ                                   ∂u         ⎦                                                                                        \n",
       "\n",
       "                                                                                                     ⎤\n",
       "                 ∂                                      ⎤                                            ⎥\n",
       "                -──(ψ(u, ρ))                           0⎥                                            ⎥\n",
       "                 ∂u                                     ⎥                                            ⎥\n",
       "                                                        ⎥  ⎡                             ∂          ⎤⎥\n",
       " -2⋅ψ(u, ρ) ∂                  -2⋅ψ(u, ρ)⎞  2⋅ψ(u, ρ)   ⎥  ⎢     0            0       0  ──(ψ(u, ρ))⎥⎥\n",
       "ℯ          ⋅──(ψ(u, ρ)) + 2⋅ρ⋅ℯ          ⎟⋅ℯ            ⎥  ⎢                             ∂u         ⎥⎥\n",
       "            ∂ρ                           ⎠              ⎥  ⎢                                        ⎥⎥\n",
       "─────────────────────────────────────────────────────  0⎥  ⎢                             ∂          ⎥⎥\n",
       "                        2                               ⎥  ⎢     0            0       0  ──(ψ(u, ρ))⎥⎥\n",
       "                     2⋅ρ                                ⎥  ⎢                             ∂ρ         ⎥⎥\n",
       "                                                        ⎥  ⎢                                        ⎥⎥\n",
       "                                                        ⎥  ⎢     0            0       0       0     ⎥⎥\n",
       "                                                        ⎥  ⎢                                        ⎥⎥\n",
       "                                                        ⎥  ⎢∂            ∂                          ⎥⎥\n",
       "                      0                                0⎥  ⎢──(ψ(u, ρ))  ──(ψ(u, ρ))  0       0     ⎥⎥\n",
       "                                                        ⎥  ⎣∂u           ∂ρ                         ⎦⎥\n",
       "                                                        ⎥                                            ⎥\n",
       "                                                        ⎥                                            ⎥\n",
       "                      0                                0⎦                                            ⎥\n",
       "                                                                                                     ⎦"
      ]
     },
     "execution_count": 17,
     "metadata": {},
     "output_type": "execute_result"
    }
   ],
   "source": [
    "ch = ChristoffelSymbols.from_metric(metric)\n",
    "ch.tensor()"
   ]
  },
  {
   "cell_type": "code",
   "execution_count": 18,
   "id": "56d039d4",
   "metadata": {},
   "outputs": [
    {
     "data": {
      "text/latex": [
       "$\\displaystyle \\left[\\begin{matrix}\\frac{\\partial^{2}}{\\partial \\rho^{2}} \\gamma{\\left(u,\\rho \\right)} - \\frac{\\partial^{2}}{\\partial \\rho^{2}} \\psi{\\left(u,\\rho \\right)} - 2 \\left(\\frac{\\partial}{\\partial u} \\psi{\\left(u,\\rho \\right)}\\right)^{2} - 2 \\frac{\\partial^{2}}{\\partial u\\partial \\rho} \\gamma{\\left(u,\\rho \\right)} + 2 \\frac{\\partial^{2}}{\\partial u\\partial \\rho} \\psi{\\left(u,\\rho \\right)} + \\frac{\\frac{\\partial}{\\partial \\rho} \\gamma{\\left(u,\\rho \\right)}}{\\rho} - \\frac{\\frac{\\partial}{\\partial u} \\gamma{\\left(u,\\rho \\right)}}{\\rho} - \\frac{\\frac{\\partial}{\\partial \\rho} \\psi{\\left(u,\\rho \\right)}}{\\rho} + \\frac{\\frac{\\partial}{\\partial u} \\psi{\\left(u,\\rho \\right)}}{\\rho} & \\frac{\\partial^{2}}{\\partial \\rho^{2}} \\gamma{\\left(u,\\rho \\right)} - 2 \\frac{\\partial}{\\partial \\rho} \\psi{\\left(u,\\rho \\right)} \\frac{\\partial}{\\partial u} \\psi{\\left(u,\\rho \\right)} - \\frac{\\partial^{2}}{\\partial \\rho^{2}} \\psi{\\left(u,\\rho \\right)} - 2 \\frac{\\partial^{2}}{\\partial u\\partial \\rho} \\gamma{\\left(u,\\rho \\right)} + 2 \\frac{\\partial^{2}}{\\partial u\\partial \\rho} \\psi{\\left(u,\\rho \\right)} + \\frac{\\frac{\\partial}{\\partial \\rho} \\gamma{\\left(u,\\rho \\right)}}{\\rho} - \\frac{\\frac{\\partial}{\\partial \\rho} \\psi{\\left(u,\\rho \\right)}}{\\rho} + \\frac{\\frac{\\partial}{\\partial u} \\psi{\\left(u,\\rho \\right)}}{\\rho} & 0 & 0\\\\\\frac{\\partial^{2}}{\\partial \\rho^{2}} \\gamma{\\left(u,\\rho \\right)} - 2 \\frac{\\partial}{\\partial \\rho} \\psi{\\left(u,\\rho \\right)} \\frac{\\partial}{\\partial u} \\psi{\\left(u,\\rho \\right)} - \\frac{\\partial^{2}}{\\partial \\rho^{2}} \\psi{\\left(u,\\rho \\right)} - 2 \\frac{\\partial^{2}}{\\partial u\\partial \\rho} \\gamma{\\left(u,\\rho \\right)} + 2 \\frac{\\partial^{2}}{\\partial u\\partial \\rho} \\psi{\\left(u,\\rho \\right)} + \\frac{\\frac{\\partial}{\\partial \\rho} \\gamma{\\left(u,\\rho \\right)}}{\\rho} - \\frac{\\frac{\\partial}{\\partial \\rho} \\psi{\\left(u,\\rho \\right)}}{\\rho} + \\frac{\\frac{\\partial}{\\partial u} \\psi{\\left(u,\\rho \\right)}}{\\rho} & - 2 \\left(\\frac{\\partial}{\\partial \\rho} \\psi{\\left(u,\\rho \\right)}\\right)^{2} + \\frac{2 \\frac{\\partial}{\\partial \\rho} \\gamma{\\left(u,\\rho \\right)}}{\\rho} & 0 & 0\\\\0 & 0 & \\rho \\left(\\rho \\frac{\\partial^{2}}{\\partial \\rho^{2}} \\psi{\\left(u,\\rho \\right)} - 2 \\rho \\frac{\\partial^{2}}{\\partial u\\partial \\rho} \\psi{\\left(u,\\rho \\right)} + \\frac{\\partial}{\\partial \\rho} \\psi{\\left(u,\\rho \\right)} - \\frac{\\partial}{\\partial u} \\psi{\\left(u,\\rho \\right)}\\right) e^{- 2 \\gamma{\\left(u,\\rho \\right)}} & 0\\\\0 & 0 & 0 & \\frac{\\left(- \\rho \\frac{\\partial^{2}}{\\partial \\rho^{2}} \\psi{\\left(u,\\rho \\right)} + 2 \\rho \\frac{\\partial^{2}}{\\partial u\\partial \\rho} \\psi{\\left(u,\\rho \\right)} - \\frac{\\partial}{\\partial \\rho} \\psi{\\left(u,\\rho \\right)} + \\frac{\\partial}{\\partial u} \\psi{\\left(u,\\rho \\right)}\\right) e^{- 2 \\gamma{\\left(u,\\rho \\right)} + 4 \\psi{\\left(u,\\rho \\right)}}}{\\rho}\\end{matrix}\\right]$"
      ],
      "text/plain": [
       "⎡                                                                                       ∂             ∂             ∂             ∂      \n",
       "⎢  2              2                           2        2                  2             ──(γ(u, ρ))   ──(γ(u, ρ))   ──(ψ(u, ρ))   ──(ψ(u,\n",
       "⎢ ∂              ∂               ⎛∂          ⎞        ∂                  ∂              ∂ρ            ∂u            ∂ρ            ∂u     \n",
       "⎢───(γ(u, ρ)) - ───(ψ(u, ρ)) - 2⋅⎜──(ψ(u, ρ))⎟  - 2⋅─────(γ(u, ρ)) + 2⋅─────(ψ(u, ρ)) + ─────────── - ─────────── - ─────────── + ───────\n",
       "⎢  2              2              ⎝∂u         ⎠      ∂u ∂ρ              ∂u ∂ρ                 ρ             ρ             ρ             ρ \n",
       "⎢∂ρ             ∂ρ                                                                                                                       \n",
       "⎢                                                                                                                                        \n",
       "⎢                                                                                                  ∂             ∂             ∂         \n",
       "⎢    2                                          2                 2                  2             ──(γ(u, ρ))   ──(ψ(u, ρ))   ──(ψ(u, ρ)\n",
       "⎢   ∂               ∂           ∂              ∂                 ∂                  ∂              ∂ρ            ∂ρ            ∂u        \n",
       "⎢  ───(γ(u, ρ)) - 2⋅──(ψ(u, ρ))⋅──(ψ(u, ρ)) - ───(ψ(u, ρ)) - 2⋅─────(γ(u, ρ)) + 2⋅─────(ψ(u, ρ)) + ─────────── - ─────────── + ──────────\n",
       "⎢    2              ∂ρ          ∂u              2              ∂u ∂ρ              ∂u ∂ρ                 ρ             ρ             ρ    \n",
       "⎢  ∂ρ                                         ∂ρ                                                                                         \n",
       "⎢                                                                                                                                        \n",
       "⎢                                                                                                                                        \n",
       "⎢                                                                                                                                        \n",
       "⎢                                                                     0                                                                  \n",
       "⎢                                                                                                                                        \n",
       "⎢                                                                                                                                        \n",
       "⎢                                                                                                                                        \n",
       "⎢                                                                                                                                        \n",
       "⎢                                                                                                                                        \n",
       "⎢                                                                                                                                        \n",
       "⎢                                                                                                                                        \n",
       "⎢                                                                                                                                        \n",
       "⎢                                                                     0                                                                  \n",
       "⎣                                                                                                                                        \n",
       "\n",
       "                                                                                                      ∂             ∂             ∂      \n",
       " ρ))    2                                          2                 2                  2             ──(γ(u, ρ))   ──(ψ(u, ρ))   ──(ψ(u,\n",
       "       ∂               ∂           ∂              ∂                 ∂                  ∂              ∂ρ            ∂ρ            ∂u     \n",
       "────  ───(γ(u, ρ)) - 2⋅──(ψ(u, ρ))⋅──(ψ(u, ρ)) - ───(ψ(u, ρ)) - 2⋅─────(γ(u, ρ)) + 2⋅─────(ψ(u, ρ)) + ─────────── - ─────────── + ───────\n",
       "        2              ∂ρ          ∂u              2              ∂u ∂ρ              ∂u ∂ρ                 ρ             ρ             ρ \n",
       "      ∂ρ                                         ∂ρ                                                                                      \n",
       "                                                                                                                                         \n",
       "                                                                               ∂                                                         \n",
       ")                                                                        2   2⋅──(γ(u, ρ))                                               \n",
       "                                                            ⎛∂          ⎞      ∂ρ                                                        \n",
       "─                                                       - 2⋅⎜──(ψ(u, ρ))⎟  + ─────────────                                               \n",
       "                                                            ⎝∂ρ         ⎠          ρ                                                     \n",
       "                                                                                                                                         \n",
       "                                                                                                                                         \n",
       "                                                                                                                                         \n",
       "                                                                                                                                         \n",
       "                                                                         0                                                               \n",
       "                                                                                                                                         \n",
       "                                                                                                                                         \n",
       "                                                                                                                                         \n",
       "                                                                                                                                         \n",
       "                                                                                                                                         \n",
       "                                                                                                                                         \n",
       "                                                                                                                                         \n",
       "                                                                                                                                         \n",
       "                                                                         0                                                               \n",
       "                                                                                                                                         \n",
       "\n",
       "                                                                                                                                         \n",
       " ρ))                                                                                                                                     \n",
       "                                                                                                                                         \n",
       "────                                         0                                                                                      0    \n",
       "                                                                                                                                         \n",
       "                                                                                                                                         \n",
       "                                                                                                                                         \n",
       "                                                                                                                                         \n",
       "                                                                                                                                         \n",
       "                                                                                                                                         \n",
       "                                             0                                                                                      0    \n",
       "                                                                                                                                         \n",
       "                                                                                                                                         \n",
       "                                                                                                                                         \n",
       "        ⎛    2                   2                                      ⎞                                                                \n",
       "        ⎜   ∂                   ∂              ∂             ∂          ⎟  -2⋅γ(u, ρ)                                                    \n",
       "      ρ⋅⎜ρ⋅───(ψ(u, ρ)) - 2⋅ρ⋅─────(ψ(u, ρ)) + ──(ψ(u, ρ)) - ──(ψ(u, ρ))⎟⋅ℯ                                                         0    \n",
       "        ⎜    2                ∂u ∂ρ            ∂ρ            ∂u         ⎟                                                                \n",
       "        ⎝  ∂ρ                                                           ⎠                                                                \n",
       "                                                                                                                                         \n",
       "                                                                                       ⎛      2                   2                      \n",
       "                                                                                       ⎜     ∂                   ∂              ∂        \n",
       "                                                                                       ⎜- ρ⋅───(ψ(u, ρ)) + 2⋅ρ⋅─────(ψ(u, ρ)) - ──(ψ(u, ρ\n",
       "                                                                                       ⎜      2                ∂u ∂ρ            ∂ρ       \n",
       "                                                                                       ⎝    ∂ρ                                           \n",
       "                                             0                                         ──────────────────────────────────────────────────\n",
       "                                                                                                                                    ρ    \n",
       "\n",
       "                                         ⎤\n",
       "                                         ⎥\n",
       "                                         ⎥\n",
       "                                         ⎥\n",
       "                                         ⎥\n",
       "                                         ⎥\n",
       "                                         ⎥\n",
       "                                         ⎥\n",
       "                                         ⎥\n",
       "                                         ⎥\n",
       "                                         ⎥\n",
       "                                         ⎥\n",
       "                                         ⎥\n",
       "                                         ⎥\n",
       "                                         ⎥\n",
       "                                         ⎥\n",
       "                                         ⎥\n",
       "                                         ⎥\n",
       "                                         ⎥\n",
       "                                         ⎥\n",
       "                ⎞                        ⎥\n",
       "     ∂          ⎟  -2⋅γ(u, ρ) + 4⋅ψ(u, ρ)⎥\n",
       ")) + ──(ψ(u, ρ))⎟⋅ℯ                      ⎥\n",
       "     ∂u         ⎟                        ⎥\n",
       "                ⎠                        ⎥\n",
       "─────────────────────────────────────────⎥\n",
       "                                         ⎦"
      ]
     },
     "execution_count": 18,
     "metadata": {},
     "output_type": "execute_result"
    }
   ],
   "source": [
    "Ric = RicciTensor.from_metric(metric)\n",
    "Ric.tensor()"
   ]
  },
  {
   "cell_type": "code",
   "execution_count": 19,
   "id": "30d24e6f",
   "metadata": {},
   "outputs": [
    {
     "data": {
      "image/png": "[encoded data removed]",
      "text/latex": [
       "$\\displaystyle \\frac{2 \\left(\\rho \\left(- \\frac{\\partial^{2}}{\\partial \\rho^{2}} \\gamma{\\left(u,\\rho \\right)} + 2 \\frac{\\partial}{\\partial \\rho} \\psi{\\left(u,\\rho \\right)} \\frac{\\partial}{\\partial u} \\psi{\\left(u,\\rho \\right)} + \\frac{\\partial^{2}}{\\partial \\rho^{2}} \\psi{\\left(u,\\rho \\right)} + 2 \\frac{\\partial^{2}}{\\partial u\\partial \\rho} \\gamma{\\left(u,\\rho \\right)} - 2 \\frac{\\partial^{2}}{\\partial u\\partial \\rho} \\psi{\\left(u,\\rho \\right)}\\right) - \\rho \\left(\\frac{\\partial}{\\partial \\rho} \\psi{\\left(u,\\rho \\right)}\\right)^{2} + \\frac{\\partial}{\\partial \\rho} \\psi{\\left(u,\\rho \\right)} - \\frac{\\partial}{\\partial u} \\psi{\\left(u,\\rho \\right)}\\right) e^{- 2 \\gamma{\\left(u,\\rho \\right)} + 2 \\psi{\\left(u,\\rho \\right)}}}{\\rho}$"
      ],
      "text/plain": [
       "  ⎛  ⎛    2                                          2                 2                  2          ⎞                  2                \n",
       "  ⎜  ⎜   ∂               ∂           ∂              ∂                 ∂                  ∂           ⎟     ⎛∂          ⎞    ∂            \n",
       "2⋅⎜ρ⋅⎜- ───(γ(u, ρ)) + 2⋅──(ψ(u, ρ))⋅──(ψ(u, ρ)) + ───(ψ(u, ρ)) + 2⋅─────(γ(u, ρ)) - 2⋅─────(ψ(u, ρ))⎟ - ρ⋅⎜──(ψ(u, ρ))⎟  + ──(ψ(u, ρ)) -\n",
       "  ⎜  ⎜    2              ∂ρ          ∂u              2              ∂u ∂ρ              ∂u ∂ρ         ⎟     ⎝∂ρ         ⎠    ∂ρ           \n",
       "  ⎝  ⎝  ∂ρ                                         ∂ρ                                                ⎠                                   \n",
       "─────────────────────────────────────────────────────────────────────────────────────────────────────────────────────────────────────────\n",
       "                                                                                      ρ                                                  \n",
       "\n",
       "            ⎞                        \n",
       " ∂          ⎟  -2⋅γ(u, ρ) + 2⋅ψ(u, ρ)\n",
       " ──(ψ(u, ρ))⎟⋅ℯ                      \n",
       " ∂u         ⎟                        \n",
       "            ⎠                        \n",
       "─────────────────────────────────────\n",
       "                                     "
      ]
     },
     "execution_count": 19,
     "metadata": {},
     "output_type": "execute_result"
    }
   ],
   "source": [
    "R = RicciScalar.from_riccitensor(Ric)\n",
    "R.simplify()\n",
    "R.expr"
   ]
  },
  {
   "cell_type": "code",
   "execution_count": 20,
   "id": "94f624e2",
   "metadata": {},
   "outputs": [
    {
     "data": {
      "text/latex": [
       "$\\displaystyle \\left[\\begin{matrix}\\frac{\\partial^{2}}{\\partial \\rho^{2}} \\gamma{\\left(u,\\rho \\right)} - \\frac{\\partial^{2}}{\\partial \\rho^{2}} \\psi{\\left(u,\\rho \\right)} - 2 \\left(\\frac{\\partial}{\\partial u} \\psi{\\left(u,\\rho \\right)}\\right)^{2} - 2 \\frac{\\partial^{2}}{\\partial u\\partial \\rho} \\gamma{\\left(u,\\rho \\right)} + 2 \\frac{\\partial^{2}}{\\partial u\\partial \\rho} \\psi{\\left(u,\\rho \\right)} + \\frac{1.0 \\left(\\rho \\left(- \\frac{\\partial^{2}}{\\partial \\rho^{2}} \\gamma{\\left(u,\\rho \\right)} + 2 \\frac{\\partial}{\\partial \\rho} \\psi{\\left(u,\\rho \\right)} \\frac{\\partial}{\\partial u} \\psi{\\left(u,\\rho \\right)} + \\frac{\\partial^{2}}{\\partial \\rho^{2}} \\psi{\\left(u,\\rho \\right)} + 2 \\frac{\\partial^{2}}{\\partial u\\partial \\rho} \\gamma{\\left(u,\\rho \\right)} - 2 \\frac{\\partial^{2}}{\\partial u\\partial \\rho} \\psi{\\left(u,\\rho \\right)}\\right) - \\rho \\left(\\frac{\\partial}{\\partial \\rho} \\psi{\\left(u,\\rho \\right)}\\right)^{2} + \\frac{\\partial}{\\partial \\rho} \\psi{\\left(u,\\rho \\right)} - \\frac{\\partial}{\\partial u} \\psi{\\left(u,\\rho \\right)}\\right) e^{- 2 \\gamma{\\left(u,\\rho \\right)} + 2 \\psi{\\left(u,\\rho \\right)}} e^{2 \\gamma{\\left(u,\\rho \\right)}} e^{- 2 \\psi{\\left(u,\\rho \\right)}}}{\\rho} + \\frac{\\frac{\\partial}{\\partial \\rho} \\gamma{\\left(u,\\rho \\right)}}{\\rho} - \\frac{\\frac{\\partial}{\\partial u} \\gamma{\\left(u,\\rho \\right)}}{\\rho} - \\frac{\\frac{\\partial}{\\partial \\rho} \\psi{\\left(u,\\rho \\right)}}{\\rho} + \\frac{\\frac{\\partial}{\\partial u} \\psi{\\left(u,\\rho \\right)}}{\\rho} & \\frac{\\partial^{2}}{\\partial \\rho^{2}} \\gamma{\\left(u,\\rho \\right)} - 2 \\frac{\\partial}{\\partial \\rho} \\psi{\\left(u,\\rho \\right)} \\frac{\\partial}{\\partial u} \\psi{\\left(u,\\rho \\right)} - \\frac{\\partial^{2}}{\\partial \\rho^{2}} \\psi{\\left(u,\\rho \\right)} - 2 \\frac{\\partial^{2}}{\\partial u\\partial \\rho} \\gamma{\\left(u,\\rho \\right)} + 2 \\frac{\\partial^{2}}{\\partial u\\partial \\rho} \\psi{\\left(u,\\rho \\right)} + \\frac{1.0 \\left(\\rho \\left(- \\frac{\\partial^{2}}{\\partial \\rho^{2}} \\gamma{\\left(u,\\rho \\right)} + 2 \\frac{\\partial}{\\partial \\rho} \\psi{\\left(u,\\rho \\right)} \\frac{\\partial}{\\partial u} \\psi{\\left(u,\\rho \\right)} + \\frac{\\partial^{2}}{\\partial \\rho^{2}} \\psi{\\left(u,\\rho \\right)} + 2 \\frac{\\partial^{2}}{\\partial u\\partial \\rho} \\gamma{\\left(u,\\rho \\right)} - 2 \\frac{\\partial^{2}}{\\partial u\\partial \\rho} \\psi{\\left(u,\\rho \\right)}\\right) - \\rho \\left(\\frac{\\partial}{\\partial \\rho} \\psi{\\left(u,\\rho \\right)}\\right)^{2} + \\frac{\\partial}{\\partial \\rho} \\psi{\\left(u,\\rho \\right)} - \\frac{\\partial}{\\partial u} \\psi{\\left(u,\\rho \\right)}\\right) e^{- 2 \\gamma{\\left(u,\\rho \\right)} + 2 \\psi{\\left(u,\\rho \\right)}} e^{2 \\gamma{\\left(u,\\rho \\right)}} e^{- 2 \\psi{\\left(u,\\rho \\right)}}}{\\rho} + \\frac{\\frac{\\partial}{\\partial \\rho} \\gamma{\\left(u,\\rho \\right)}}{\\rho} - \\frac{\\frac{\\partial}{\\partial \\rho} \\psi{\\left(u,\\rho \\right)}}{\\rho} + \\frac{\\frac{\\partial}{\\partial u} \\psi{\\left(u,\\rho \\right)}}{\\rho} & 0 & 0\\\\\\frac{\\partial^{2}}{\\partial \\rho^{2}} \\gamma{\\left(u,\\rho \\right)} - 2 \\frac{\\partial}{\\partial \\rho} \\psi{\\left(u,\\rho \\right)} \\frac{\\partial}{\\partial u} \\psi{\\left(u,\\rho \\right)} - \\frac{\\partial^{2}}{\\partial \\rho^{2}} \\psi{\\left(u,\\rho \\right)} - 2 \\frac{\\partial^{2}}{\\partial u\\partial \\rho} \\gamma{\\left(u,\\rho \\right)} + 2 \\frac{\\partial^{2}}{\\partial u\\partial \\rho} \\psi{\\left(u,\\rho \\right)} + \\frac{1.0 \\left(\\rho \\left(- \\frac{\\partial^{2}}{\\partial \\rho^{2}} \\gamma{\\left(u,\\rho \\right)} + 2 \\frac{\\partial}{\\partial \\rho} \\psi{\\left(u,\\rho \\right)} \\frac{\\partial}{\\partial u} \\psi{\\left(u,\\rho \\right)} + \\frac{\\partial^{2}}{\\partial \\rho^{2}} \\psi{\\left(u,\\rho \\right)} + 2 \\frac{\\partial^{2}}{\\partial u\\partial \\rho} \\gamma{\\left(u,\\rho \\right)} - 2 \\frac{\\partial^{2}}{\\partial u\\partial \\rho} \\psi{\\left(u,\\rho \\right)}\\right) - \\rho \\left(\\frac{\\partial}{\\partial \\rho} \\psi{\\left(u,\\rho \\right)}\\right)^{2} + \\frac{\\partial}{\\partial \\rho} \\psi{\\left(u,\\rho \\right)} - \\frac{\\partial}{\\partial u} \\psi{\\left(u,\\rho \\right)}\\right) e^{- 2 \\gamma{\\left(u,\\rho \\right)} + 2 \\psi{\\left(u,\\rho \\right)}} e^{2 \\gamma{\\left(u,\\rho \\right)}} e^{- 2 \\psi{\\left(u,\\rho \\right)}}}{\\rho} + \\frac{\\frac{\\partial}{\\partial \\rho} \\gamma{\\left(u,\\rho \\right)}}{\\rho} - \\frac{\\frac{\\partial}{\\partial \\rho} \\psi{\\left(u,\\rho \\right)}}{\\rho} + \\frac{\\frac{\\partial}{\\partial u} \\psi{\\left(u,\\rho \\right)}}{\\rho} & - 2 \\left(\\frac{\\partial}{\\partial \\rho} \\psi{\\left(u,\\rho \\right)}\\right)^{2} + \\frac{2 \\frac{\\partial}{\\partial \\rho} \\gamma{\\left(u,\\rho \\right)}}{\\rho} & 0 & 0\\\\0 & 0 & - 1.0 \\rho \\left(\\rho \\left(- \\frac{\\partial^{2}}{\\partial \\rho^{2}} \\gamma{\\left(u,\\rho \\right)} + 2 \\frac{\\partial}{\\partial \\rho} \\psi{\\left(u,\\rho \\right)} \\frac{\\partial}{\\partial u} \\psi{\\left(u,\\rho \\right)} + \\frac{\\partial^{2}}{\\partial \\rho^{2}} \\psi{\\left(u,\\rho \\right)} + 2 \\frac{\\partial^{2}}{\\partial u\\partial \\rho} \\gamma{\\left(u,\\rho \\right)} - 2 \\frac{\\partial^{2}}{\\partial u\\partial \\rho} \\psi{\\left(u,\\rho \\right)}\\right) - \\rho \\left(\\frac{\\partial}{\\partial \\rho} \\psi{\\left(u,\\rho \\right)}\\right)^{2} + \\frac{\\partial}{\\partial \\rho} \\psi{\\left(u,\\rho \\right)} - \\frac{\\partial}{\\partial u} \\psi{\\left(u,\\rho \\right)}\\right) e^{- 2 \\gamma{\\left(u,\\rho \\right)} + 2 \\psi{\\left(u,\\rho \\right)}} e^{- 2 \\psi{\\left(u,\\rho \\right)}} + \\rho \\left(\\rho \\frac{\\partial^{2}}{\\partial \\rho^{2}} \\psi{\\left(u,\\rho \\right)} - 2 \\rho \\frac{\\partial^{2}}{\\partial u\\partial \\rho} \\psi{\\left(u,\\rho \\right)} + \\frac{\\partial}{\\partial \\rho} \\psi{\\left(u,\\rho \\right)} - \\frac{\\partial}{\\partial u} \\psi{\\left(u,\\rho \\right)}\\right) e^{- 2 \\gamma{\\left(u,\\rho \\right)}} & 0\\\\0 & 0 & 0 & - \\frac{1.0 \\left(\\rho \\left(- \\frac{\\partial^{2}}{\\partial \\rho^{2}} \\gamma{\\left(u,\\rho \\right)} + 2 \\frac{\\partial}{\\partial \\rho} \\psi{\\left(u,\\rho \\right)} \\frac{\\partial}{\\partial u} \\psi{\\left(u,\\rho \\right)} + \\frac{\\partial^{2}}{\\partial \\rho^{2}} \\psi{\\left(u,\\rho \\right)} + 2 \\frac{\\partial^{2}}{\\partial u\\partial \\rho} \\gamma{\\left(u,\\rho \\right)} - 2 \\frac{\\partial^{2}}{\\partial u\\partial \\rho} \\psi{\\left(u,\\rho \\right)}\\right) - \\rho \\left(\\frac{\\partial}{\\partial \\rho} \\psi{\\left(u,\\rho \\right)}\\right)^{2} + \\frac{\\partial}{\\partial \\rho} \\psi{\\left(u,\\rho \\right)} - \\frac{\\partial}{\\partial u} \\psi{\\left(u,\\rho \\right)}\\right) e^{- 2 \\gamma{\\left(u,\\rho \\right)} + 2 \\psi{\\left(u,\\rho \\right)}} e^{2 \\psi{\\left(u,\\rho \\right)}}}{\\rho} + \\frac{\\left(- \\rho \\frac{\\partial^{2}}{\\partial \\rho^{2}} \\psi{\\left(u,\\rho \\right)} + 2 \\rho \\frac{\\partial^{2}}{\\partial u\\partial \\rho} \\psi{\\left(u,\\rho \\right)} - \\frac{\\partial}{\\partial \\rho} \\psi{\\left(u,\\rho \\right)} + \\frac{\\partial}{\\partial u} \\psi{\\left(u,\\rho \\right)}\\right) e^{- 2 \\gamma{\\left(u,\\rho \\right)} + 4 \\psi{\\left(u,\\rho \\right)}}}{\\rho}\\end{matrix}\\right]$"
      ],
      "text/plain": [
       "⎡                                                                                           ⎛  ⎛    2                                    \n",
       "⎢                                                                                           ⎜  ⎜   ∂               ∂           ∂         \n",
       "⎢                                                                                       1.0⋅⎜ρ⋅⎜- ───(γ(u, ρ)) + 2⋅──(ψ(u, ρ))⋅──(ψ(u, ρ)\n",
       "⎢  2              2                           2        2                  2                 ⎜  ⎜    2              ∂ρ          ∂u        \n",
       "⎢ ∂              ∂               ⎛∂          ⎞        ∂                  ∂                  ⎝  ⎝  ∂ρ                                     \n",
       "⎢───(γ(u, ρ)) - ───(ψ(u, ρ)) - 2⋅⎜──(ψ(u, ρ))⎟  - 2⋅─────(γ(u, ρ)) + 2⋅─────(ψ(u, ρ)) + ─────────────────────────────────────────────────\n",
       "⎢  2              2              ⎝∂u         ⎠      ∂u ∂ρ              ∂u ∂ρ                                                             \n",
       "⎢∂ρ             ∂ρ                                                                                                                       \n",
       "⎢                                                                                                                                        \n",
       "⎢                                                                                                      ⎛  ⎛    2                         \n",
       "⎢                                                                                                      ⎜  ⎜   ∂               ∂          \n",
       "⎢                                                                                                  1.0⋅⎜ρ⋅⎜- ───(γ(u, ρ)) + 2⋅──(ψ(u, ρ))\n",
       "⎢    2                                          2                 2                  2                 ⎜  ⎜    2              ∂ρ         \n",
       "⎢   ∂               ∂           ∂              ∂                 ∂                  ∂                  ⎝  ⎝  ∂ρ                          \n",
       "⎢  ───(γ(u, ρ)) - 2⋅──(ψ(u, ρ))⋅──(ψ(u, ρ)) - ───(ψ(u, ρ)) - 2⋅─────(γ(u, ρ)) + 2⋅─────(ψ(u, ρ)) + ──────────────────────────────────────\n",
       "⎢    2              ∂ρ          ∂u              2              ∂u ∂ρ              ∂u ∂ρ                                                  \n",
       "⎢  ∂ρ                                         ∂ρ                                                                                         \n",
       "⎢                                                                                                                                        \n",
       "⎢                                                                                                                                        \n",
       "⎢                                                                                                                                        \n",
       "⎢                                                                                                                                        \n",
       "⎢                                                                                                                                        \n",
       "⎢                                                                                                                                        \n",
       "⎢                                                                                                                                        \n",
       "⎢                                                                                                                                        \n",
       "⎢                                                                                                                                        \n",
       "⎢                                                                                                                                        \n",
       "⎢                                                                                                                                        \n",
       "⎢                                                                                                                                        \n",
       "⎢                                                                                                                                        \n",
       "⎣                                                                                                                                        \n",
       "\n",
       "      2                 2                  2          ⎞                  2                            ⎞                                  \n",
       "     ∂                 ∂                  ∂           ⎟     ⎛∂          ⎞    ∂             ∂          ⎟  -2⋅γ(u, ρ) + 2⋅ψ(u, ρ)  2⋅γ(u, ρ\n",
       ") + ───(ψ(u, ρ)) + 2⋅─────(γ(u, ρ)) - 2⋅─────(ψ(u, ρ))⎟ - ρ⋅⎜──(ψ(u, ρ))⎟  + ──(ψ(u, ρ)) - ──(ψ(u, ρ))⎟⋅ℯ                      ⋅ℯ        \n",
       "      2              ∂u ∂ρ              ∂u ∂ρ         ⎟     ⎝∂ρ         ⎠    ∂ρ            ∂u         ⎟                                  \n",
       "    ∂ρ                                                ⎠                                               ⎠                                  \n",
       "─────────────────────────────────────────────────────────────────────────────────────────────────────────────────────────────────────────\n",
       "                                                  ρ                                                                                      \n",
       "                                                                                                                                         \n",
       "                                                                                                                                         \n",
       "                 2                 2                  2          ⎞                  2                            ⎞                       \n",
       " ∂              ∂                 ∂                  ∂           ⎟     ⎛∂          ⎞    ∂             ∂          ⎟  -2⋅γ(u, ρ) + 2⋅ψ(u, ρ\n",
       "⋅──(ψ(u, ρ)) + ───(ψ(u, ρ)) + 2⋅─────(γ(u, ρ)) - 2⋅─────(ψ(u, ρ))⎟ - ρ⋅⎜──(ψ(u, ρ))⎟  + ──(ψ(u, ρ)) - ──(ψ(u, ρ))⎟⋅ℯ                     \n",
       " ∂u              2              ∂u ∂ρ              ∂u ∂ρ         ⎟     ⎝∂ρ         ⎠    ∂ρ            ∂u         ⎟                       \n",
       "               ∂ρ                                                ⎠                                               ⎠                       \n",
       "─────────────────────────────────────────────────────────────────────────────────────────────────────────────────────────────────────────\n",
       "                                                             ρ                                                                           \n",
       "                                                                                                                                         \n",
       "                                                                                                                                         \n",
       "                                                                                                                                         \n",
       "                                                                                                                                         \n",
       "                                  0                                                                                                      \n",
       "                                                                                                                                         \n",
       "                                                                                                                                         \n",
       "                                                                                                                                         \n",
       "                                                                                                                                         \n",
       "                                                                                                                                         \n",
       "                                                                                                                                         \n",
       "                                                                                                                                         \n",
       "                                                                                                                                         \n",
       "                                  0                                                                                                      \n",
       "                                                                                                                                         \n",
       "\n",
       "                                                                                                                                         \n",
       ")  -2⋅ψ(u, ρ)                                                                                                                            \n",
       " ⋅ℯ             ∂             ∂             ∂             ∂                                                                              \n",
       "                ──(γ(u, ρ))   ──(γ(u, ρ))   ──(ψ(u, ρ))   ──(ψ(u, ρ))    2                                          2                 2  \n",
       "                ∂ρ            ∂u            ∂ρ            ∂u            ∂               ∂           ∂              ∂                 ∂   \n",
       "───────────── + ─────────── - ─────────── - ─────────── + ───────────  ───(γ(u, ρ)) - 2⋅──(ψ(u, ρ))⋅──(ψ(u, ρ)) - ───(ψ(u, ρ)) - 2⋅─────(\n",
       "                     ρ             ρ             ρ             ρ         2              ∂ρ          ∂u              2              ∂u ∂ρ \n",
       "                                                                       ∂ρ                                         ∂ρ                     \n",
       "                                                                                                                                         \n",
       "                                                                                                                                         \n",
       ")  2⋅γ(u, ρ)  -2⋅ψ(u, ρ)                                                                                                                 \n",
       " ⋅ℯ         ⋅ℯ             ∂             ∂             ∂                                                                                 \n",
       "                           ──(γ(u, ρ))   ──(ψ(u, ρ))   ──(ψ(u, ρ))                                                                       \n",
       "                           ∂ρ            ∂ρ            ∂u                                                                                \n",
       "──────────────────────── + ─────────── - ─────────── + ───────────                                                                       \n",
       "                                ρ             ρ             ρ                                                                            \n",
       "                                                                                                                                         \n",
       "                                                                                                                                         \n",
       "                                                                                                                                         \n",
       "                                                                                                                                         \n",
       "                                                                                                                                         \n",
       "                                                                                                                                         \n",
       "                                                                                                                                         \n",
       "                                                                                                                                         \n",
       "                                                                                                                                         \n",
       "                                                                                                                                         \n",
       "                                                                                                                                         \n",
       "                                                                                                                                         \n",
       "                                                                                                                                         \n",
       "                                                                                                                                         \n",
       "                                                                                                                                         \n",
       "\n",
       "                                  ⎛  ⎛    2                                          2                 2                  2          ⎞   \n",
       "                                  ⎜  ⎜   ∂               ∂           ∂              ∂                 ∂                  ∂           ⎟   \n",
       "                              1.0⋅⎜ρ⋅⎜- ───(γ(u, ρ)) + 2⋅──(ψ(u, ρ))⋅──(ψ(u, ρ)) + ───(ψ(u, ρ)) + 2⋅─────(γ(u, ρ)) - 2⋅─────(ψ(u, ρ))⎟ - \n",
       "                2                 ⎜  ⎜    2              ∂ρ          ∂u              2              ∂u ∂ρ              ∂u ∂ρ         ⎟   \n",
       "               ∂                  ⎝  ⎝  ∂ρ                                         ∂ρ                                                ⎠   \n",
       "γ(u, ρ)) + 2⋅─────(ψ(u, ρ)) + ───────────────────────────────────────────────────────────────────────────────────────────────────────────\n",
       "             ∂u ∂ρ                                                                                                               ρ       \n",
       "                                                                                                                                         \n",
       "                                                                                                                                         \n",
       "                                                                                                                                         \n",
       "                                                                                                                                         \n",
       "                                                                                                            ∂                            \n",
       "                                                                                                      2   2⋅──(γ(u, ρ))                  \n",
       "                                                                                         ⎛∂          ⎞      ∂ρ                           \n",
       "                                                                                     - 2⋅⎜──(ψ(u, ρ))⎟  + ─────────────                  \n",
       "                                                                                         ⎝∂ρ         ⎠          ρ                        \n",
       "                                                                                                                                         \n",
       "                                                                                                                                         \n",
       "                                                                                                                                         \n",
       "                                                                                                                                         \n",
       "                                                                                                      0                                  \n",
       "                                                                                                                                         \n",
       "                                                                                                                                         \n",
       "                                                                                                                                         \n",
       "                                                                                                                                         \n",
       "                                                                                                                                         \n",
       "                                                                                                                                         \n",
       "                                                                                                                                         \n",
       "                                                                                                                                         \n",
       "                                                                                                      0                                  \n",
       "                                                                                                                                         \n",
       "\n",
       "               2                            ⎞                                                                                            \n",
       "  ⎛∂          ⎞    ∂             ∂          ⎟  -2⋅γ(u, ρ) + 2⋅ψ(u, ρ)  2⋅γ(u, ρ)  -2⋅ψ(u, ρ)                                             \n",
       "ρ⋅⎜──(ψ(u, ρ))⎟  + ──(ψ(u, ρ)) - ──(ψ(u, ρ))⎟⋅ℯ                      ⋅ℯ         ⋅ℯ             ∂             ∂             ∂             \n",
       "  ⎝∂ρ         ⎠    ∂ρ            ∂u         ⎟                                                  ──(γ(u, ρ))   ──(ψ(u, ρ))   ──(ψ(u, ρ))   \n",
       "                                            ⎠                                                  ∂ρ            ∂ρ            ∂u            \n",
       "──────────────────────────────────────────────────────────────────────────────────────────── + ─────────── - ─────────── + ───────────   \n",
       "                                                                                                    ρ             ρ             ρ        \n",
       "                                                                                                                                         \n",
       "                                                                                                                                         \n",
       "                                                                                                                                         \n",
       "                                                                                                                                         \n",
       "                                                                                                                                         \n",
       "                                                                                                                                         \n",
       "                                                                                                                                         \n",
       "                                                                                                                                         \n",
       "                                                                                                                                         \n",
       "                                                                                                                                         \n",
       "                                                                                                                                         \n",
       "                                                                                                                                         \n",
       "                                                                                                                                         \n",
       "                                                                                                                                        -\n",
       "                                                                                                                                         \n",
       "                                                                                                                                         \n",
       "                                                                                                                                         \n",
       "                                                                                                                                         \n",
       "                                                                                                                                         \n",
       "                                                                                                                                         \n",
       "                                                                                                                                         \n",
       "                                                                                                                                         \n",
       "                                                                                                                                         \n",
       "                                                                                                                                         \n",
       "\n",
       "                                                                                                                                         \n",
       "                                                                                                                                         \n",
       "                                                                                                                                         \n",
       "                                                                                                                                         \n",
       "                                                                                                                                         \n",
       "                                                                                                                                     0   \n",
       "                                                                                                                                         \n",
       "                                                                                                                                         \n",
       "                                                                                                                                         \n",
       "                                                                                                                                         \n",
       "                                                                                                                                         \n",
       "                                                                                                                                         \n",
       "                                                                                                                                         \n",
       "                                                                                                                                         \n",
       "                                                                                                                                     0   \n",
       "                                                                                                                                         \n",
       "                                                                                                                                         \n",
       "                                                                                                                                         \n",
       "   ⎛  ⎛    2                                          2                 2                  2          ⎞                  2               \n",
       "   ⎜  ⎜   ∂               ∂           ∂              ∂                 ∂                  ∂           ⎟     ⎛∂          ⎞    ∂           \n",
       " ρ⋅⎜ρ⋅⎜- ───(γ(u, ρ)) + 2⋅──(ψ(u, ρ))⋅──(ψ(u, ρ)) + ───(ψ(u, ρ)) + 2⋅─────(γ(u, ρ)) - 2⋅─────(ψ(u, ρ))⎟ - ρ⋅⎜──(ψ(u, ρ))⎟  + ──(ψ(u, ρ)) \n",
       "   ⎜  ⎜    2              ∂ρ          ∂u              2              ∂u ∂ρ              ∂u ∂ρ         ⎟     ⎝∂ρ         ⎠    ∂ρ          \n",
       "   ⎝  ⎝  ∂ρ                                         ∂ρ                                                ⎠                                  \n",
       "                                                                                                                                         \n",
       "                                                                                                                                         \n",
       "                                                                                                                                         \n",
       "                                                                                                                                         \n",
       "                                                                                                                                         \n",
       "                                                                                                                                         \n",
       "                                                                                                                                     0   \n",
       "                                                                                                                                         \n",
       "\n",
       "                                                                                                                                         \n",
       "                                                                                                                                         \n",
       "                                                                                                                                         \n",
       "                                                                                                                                         \n",
       "                                                                                                                                         \n",
       "                                                                                                                                         \n",
       "                                                                                                                                         \n",
       "                                                                                                                                         \n",
       "                                                                                                                                         \n",
       "                                                                                                                                         \n",
       "                                                                                                                                         \n",
       "                                                                                                                                         \n",
       "                                                                                                                                         \n",
       "                                                                                                                                         \n",
       "                                                                                                                                         \n",
       "                                                                                                                                         \n",
       "                                                                                                                                         \n",
       "                                                                                                                                         \n",
       "             ⎞                                         ⎛    2                   2                                      ⎞                 \n",
       "  ∂          ⎟  -2⋅γ(u, ρ) + 2⋅ψ(u, ρ)  -2⋅ψ(u, ρ)     ⎜   ∂                   ∂              ∂             ∂          ⎟  -2⋅γ(u, ρ)     \n",
       "- ──(ψ(u, ρ))⎟⋅ℯ                      ⋅ℯ           + ρ⋅⎜ρ⋅───(ψ(u, ρ)) - 2⋅ρ⋅─────(ψ(u, ρ)) + ──(ψ(u, ρ)) - ──(ψ(u, ρ))⎟⋅ℯ               \n",
       "  ∂u         ⎟                                         ⎜    2                ∂u ∂ρ            ∂ρ            ∂u         ⎟                 \n",
       "             ⎠                                         ⎝  ∂ρ                                                           ⎠                 \n",
       "                                                                                                                                         \n",
       "                                                                                                                                        ⎛\n",
       "                                                                                                                                        ⎜\n",
       "                                                                                                                                        ⎜\n",
       "                                                                                                                                        ⎜\n",
       "                                                                                                                                        ⎝\n",
       "                                                                                                                                      - ─\n",
       "                                                                                                                                         \n",
       "\n",
       "                                                                                                                                         \n",
       "                                                                                                                                         \n",
       "                                                                                                                                         \n",
       "                                                                                                                                         \n",
       "                                                                                                                                         \n",
       "                                                                                                                                        0\n",
       "                                                                                                                                         \n",
       "                                                                                                                                         \n",
       "                                                                                                                                         \n",
       "                                                                                                                                         \n",
       "                                                                                                                                         \n",
       "                                                                                                                                         \n",
       "                                                                                                                                         \n",
       "                                                                                                                                         \n",
       "                                                                                                                                        0\n",
       "                                                                                                                                         \n",
       "                                                                                                                                         \n",
       "                                                                                                                                         \n",
       "                                                                                                                                         \n",
       "                                                                                                                                         \n",
       "                                                                                                                                        0\n",
       "                                                                                                                                         \n",
       "                                                                                                                                         \n",
       "                                                                                                                                         \n",
       "  ⎛    2                                          2                 2                  2          ⎞                  2                   \n",
       "  ⎜   ∂               ∂           ∂              ∂                 ∂                  ∂           ⎟     ⎛∂          ⎞    ∂             ∂ \n",
       "ρ⋅⎜- ───(γ(u, ρ)) + 2⋅──(ψ(u, ρ))⋅──(ψ(u, ρ)) + ───(ψ(u, ρ)) + 2⋅─────(γ(u, ρ)) - 2⋅─────(ψ(u, ρ))⎟ - ρ⋅⎜──(ψ(u, ρ))⎟  + ──(ψ(u, ρ)) - ──\n",
       "  ⎜    2              ∂ρ          ∂u              2              ∂u ∂ρ              ∂u ∂ρ         ⎟     ⎝∂ρ         ⎠    ∂ρ            ∂u\n",
       "  ⎝  ∂ρ                                         ∂ρ                                                ⎠                                      \n",
       "─────────────────────────────────────────────────────────────────────────────────────────────────────────────────────────────────────────\n",
       "                                                                                          ρ                                              \n",
       "\n",
       "                                                                                                                                         \n",
       "                                                                                                                                         \n",
       "                                                                                                                                         \n",
       "                                                                                                                                         \n",
       "                                                                                                                                         \n",
       "                                                                                                                                         \n",
       "                                                                                                                                         \n",
       "                                                                                                                                         \n",
       "                                                                                                                                         \n",
       "                                                                                                                                         \n",
       "                                                                                                                                         \n",
       "                                                                                                                                         \n",
       "                                                                                                                                         \n",
       "                                                                                                                                         \n",
       "                                                                                                                                         \n",
       "                                                                                                                                         \n",
       "                                                                                                                                         \n",
       "                                                                                                                                         \n",
       "                                                                                                                                         \n",
       "                                                                                                                                         \n",
       "                                                                                                                                         \n",
       "                                                                                                                                         \n",
       "                                                                                                                                         \n",
       "                                                                                                                                         \n",
       "         ⎞                                      ⎛      2                   2                                      ⎞                      \n",
       "         ⎟  -2⋅γ(u, ρ) + 2⋅ψ(u, ρ)  2⋅ψ(u, ρ)   ⎜     ∂                   ∂              ∂             ∂          ⎟  -2⋅γ(u, ρ) + 4⋅ψ(u, \n",
       "(ψ(u, ρ))⎟⋅ℯ                      ⋅ℯ            ⎜- ρ⋅───(ψ(u, ρ)) + 2⋅ρ⋅─────(ψ(u, ρ)) - ──(ψ(u, ρ)) + ──(ψ(u, ρ))⎟⋅ℯ                    \n",
       "         ⎟                                      ⎜      2                ∂u ∂ρ            ∂ρ            ∂u         ⎟                      \n",
       "         ⎠                                      ⎝    ∂ρ                                                           ⎠                      \n",
       "───────────────────────────────────────────── + ─────────────────────────────────────────────────────────────────────────────────────────\n",
       "                                                                                             ρ                                           \n",
       "\n",
       "  ⎤\n",
       "  ⎥\n",
       "  ⎥\n",
       "  ⎥\n",
       "  ⎥\n",
       "  ⎥\n",
       "  ⎥\n",
       "  ⎥\n",
       "  ⎥\n",
       "  ⎥\n",
       "  ⎥\n",
       "  ⎥\n",
       "  ⎥\n",
       "  ⎥\n",
       "  ⎥\n",
       "  ⎥\n",
       "  ⎥\n",
       "  ⎥\n",
       "  ⎥\n",
       "  ⎥\n",
       "  ⎥\n",
       "  ⎥\n",
       "  ⎥\n",
       "  ⎥\n",
       "  ⎥\n",
       "ρ)⎥\n",
       "  ⎥\n",
       "  ⎥\n",
       "  ⎥\n",
       "──⎥\n",
       "  ⎦"
      ]
     },
     "execution_count": 20,
     "metadata": {},
     "output_type": "execute_result"
    }
   ],
   "source": [
    "einst = EinsteinTensor.from_metric(metric)\n",
    "einst.tensor()"
   ]
  },
  {
   "cell_type": "code",
   "execution_count": 21,
   "id": "1549c63e",
   "metadata": {},
   "outputs": [],
   "source": [
    "#  rm1 = RiemannCurvatureTensor.from_christoffels(ch)\n",
    "#  rm1.tensor()"
   ]
  },
  {
   "cell_type": "code",
   "execution_count": null,
   "id": "e22ee0d2",
   "metadata": {},
   "outputs": [],
   "source": [
    "#  weyl = WeylTensor.from_metric(metric)\n",
    "#  weyl.tensor()"
   ]
  },
  {
   "cell_type": "code",
   "execution_count": 23,
   "id": "788fc174",
   "metadata": {},
   "outputs": [
    {
     "data": {
      "text/latex": [
       "$\\displaystyle \\left[\\begin{matrix}\\frac{\\rho \\left(\\frac{\\partial^{2}}{\\partial \\rho^{2}} \\gamma{\\left(u,\\rho \\right)} - \\frac{\\partial^{2}}{\\partial \\rho^{2}} \\psi{\\left(u,\\rho \\right)} - 2 \\left(\\frac{\\partial}{\\partial u} \\psi{\\left(u,\\rho \\right)}\\right)^{2} - 2 \\frac{\\partial^{2}}{\\partial u\\partial \\rho} \\gamma{\\left(u,\\rho \\right)} + 2 \\frac{\\partial^{2}}{\\partial u\\partial \\rho} \\psi{\\left(u,\\rho \\right)}\\right) + \\frac{\\partial}{\\partial \\rho} \\gamma{\\left(u,\\rho \\right)} - \\frac{\\partial}{\\partial u} \\gamma{\\left(u,\\rho \\right)} - \\frac{\\partial}{\\partial \\rho} \\psi{\\left(u,\\rho \\right)} + \\frac{\\partial}{\\partial u} \\psi{\\left(u,\\rho \\right)}}{\\rho} & \\frac{\\rho \\left(\\frac{\\partial^{2}}{\\partial \\rho^{2}} \\gamma{\\left(u,\\rho \\right)} - 2 \\frac{\\partial}{\\partial \\rho} \\psi{\\left(u,\\rho \\right)} \\frac{\\partial}{\\partial u} \\psi{\\left(u,\\rho \\right)} - \\frac{\\partial^{2}}{\\partial \\rho^{2}} \\psi{\\left(u,\\rho \\right)} - 2 \\frac{\\partial^{2}}{\\partial u\\partial \\rho} \\gamma{\\left(u,\\rho \\right)} + 2 \\frac{\\partial^{2}}{\\partial u\\partial \\rho} \\psi{\\left(u,\\rho \\right)}\\right) + \\frac{\\partial}{\\partial \\rho} \\gamma{\\left(u,\\rho \\right)} - \\frac{\\partial}{\\partial \\rho} \\psi{\\left(u,\\rho \\right)} + \\frac{\\partial}{\\partial u} \\psi{\\left(u,\\rho \\right)}}{\\rho} & 0 & 0\\\\\\frac{\\rho \\left(\\frac{\\partial^{2}}{\\partial \\rho^{2}} \\gamma{\\left(u,\\rho \\right)} - 2 \\frac{\\partial}{\\partial \\rho} \\psi{\\left(u,\\rho \\right)} \\frac{\\partial}{\\partial u} \\psi{\\left(u,\\rho \\right)} - \\frac{\\partial^{2}}{\\partial \\rho^{2}} \\psi{\\left(u,\\rho \\right)} - 2 \\frac{\\partial^{2}}{\\partial u\\partial \\rho} \\gamma{\\left(u,\\rho \\right)} + 2 \\frac{\\partial^{2}}{\\partial u\\partial \\rho} \\psi{\\left(u,\\rho \\right)}\\right) + \\frac{\\partial}{\\partial \\rho} \\gamma{\\left(u,\\rho \\right)} - \\frac{\\partial}{\\partial \\rho} \\psi{\\left(u,\\rho \\right)} + \\frac{\\partial}{\\partial u} \\psi{\\left(u,\\rho \\right)}}{\\rho} & - 2 \\left(\\frac{\\partial}{\\partial \\rho} \\psi{\\left(u,\\rho \\right)}\\right)^{2} + \\frac{2 \\frac{\\partial}{\\partial \\rho} \\gamma{\\left(u,\\rho \\right)}}{\\rho} & 0 & 0\\\\0 & 0 & \\rho \\left(\\rho \\frac{\\partial^{2}}{\\partial \\rho^{2}} \\psi{\\left(u,\\rho \\right)} - 2 \\rho \\frac{\\partial^{2}}{\\partial u\\partial \\rho} \\psi{\\left(u,\\rho \\right)} + \\frac{\\partial}{\\partial \\rho} \\psi{\\left(u,\\rho \\right)} - \\frac{\\partial}{\\partial u} \\psi{\\left(u,\\rho \\right)}\\right) e^{- 2 \\gamma{\\left(u,\\rho \\right)}} & 0\\\\0 & 0 & 0 & \\frac{\\left(- \\rho \\frac{\\partial^{2}}{\\partial \\rho^{2}} \\psi{\\left(u,\\rho \\right)} + 2 \\rho \\frac{\\partial^{2}}{\\partial u\\partial \\rho} \\psi{\\left(u,\\rho \\right)} - \\frac{\\partial}{\\partial \\rho} \\psi{\\left(u,\\rho \\right)} + \\frac{\\partial}{\\partial u} \\psi{\\left(u,\\rho \\right)}\\right) e^{- 2 \\gamma{\\left(u,\\rho \\right)} + 4 \\psi{\\left(u,\\rho \\right)}}}{\\rho}\\end{matrix}\\right]$"
      ],
      "text/plain": [
       "⎡  ⎛  2              2                           2        2                  2          ⎞                                                \n",
       "⎢  ⎜ ∂              ∂               ⎛∂          ⎞        ∂                  ∂           ⎟   ∂             ∂             ∂             ∂  \n",
       "⎢ρ⋅⎜───(γ(u, ρ)) - ───(ψ(u, ρ)) - 2⋅⎜──(ψ(u, ρ))⎟  - 2⋅─────(γ(u, ρ)) + 2⋅─────(ψ(u, ρ))⎟ + ──(γ(u, ρ)) - ──(γ(u, ρ)) - ──(ψ(u, ρ)) + ──(\n",
       "⎢  ⎜  2              2              ⎝∂u         ⎠      ∂u ∂ρ              ∂u ∂ρ         ⎟   ∂ρ            ∂u            ∂ρ            ∂u \n",
       "⎢  ⎝∂ρ             ∂ρ                                                                   ⎠                                                \n",
       "⎢────────────────────────────────────────────────────────────────────────────────────────────────────────────────────────────────────────\n",
       "⎢                                                                       ρ                                                                \n",
       "⎢                                                                                                                                        \n",
       "⎢    ⎛  2                                          2                 2                  2          ⎞                                     \n",
       "⎢    ⎜ ∂               ∂           ∂              ∂                 ∂                  ∂           ⎟   ∂             ∂             ∂     \n",
       "⎢  ρ⋅⎜───(γ(u, ρ)) - 2⋅──(ψ(u, ρ))⋅──(ψ(u, ρ)) - ───(ψ(u, ρ)) - 2⋅─────(γ(u, ρ)) + 2⋅─────(ψ(u, ρ))⎟ + ──(γ(u, ρ)) - ──(ψ(u, ρ)) + ──(ψ(u\n",
       "⎢    ⎜  2              ∂ρ          ∂u              2              ∂u ∂ρ              ∂u ∂ρ         ⎟   ∂ρ            ∂ρ            ∂u    \n",
       "⎢    ⎝∂ρ                                         ∂ρ                                                ⎠                                     \n",
       "⎢  ──────────────────────────────────────────────────────────────────────────────────────────────────────────────────────────────────────\n",
       "⎢                                                                       ρ                                                                \n",
       "⎢                                                                                                                                        \n",
       "⎢                                                                                                                                        \n",
       "⎢                                                                                                                                        \n",
       "⎢                                                                       0                                                                \n",
       "⎢                                                                                                                                        \n",
       "⎢                                                                                                                                        \n",
       "⎢                                                                                                                                        \n",
       "⎢                                                                                                                                        \n",
       "⎢                                                                                                                                        \n",
       "⎢                                                                                                                                        \n",
       "⎢                                                                                                                                        \n",
       "⎢                                                                                                                                        \n",
       "⎢                                                                       0                                                                \n",
       "⎣                                                                                                                                        \n",
       "\n",
       "            ⎛  2                                          2                 2                  2          ⎞                              \n",
       "            ⎜ ∂               ∂           ∂              ∂                 ∂                  ∂           ⎟   ∂             ∂            \n",
       "ψ(u, ρ))  ρ⋅⎜───(γ(u, ρ)) - 2⋅──(ψ(u, ρ))⋅──(ψ(u, ρ)) - ───(ψ(u, ρ)) - 2⋅─────(γ(u, ρ)) + 2⋅─────(ψ(u, ρ))⎟ + ──(γ(u, ρ)) - ──(ψ(u, ρ)) +\n",
       "            ⎜  2              ∂ρ          ∂u              2              ∂u ∂ρ              ∂u ∂ρ         ⎟   ∂ρ            ∂ρ           \n",
       "            ⎝∂ρ                                         ∂ρ                                                ⎠                              \n",
       "────────  ───────────────────────────────────────────────────────────────────────────────────────────────────────────────────────────────\n",
       "                                                                               ρ                                                         \n",
       "                                                                                                                                         \n",
       "                                                                                                                                         \n",
       "                                                                                                                                         \n",
       ", ρ))                                                                                ∂                                                   \n",
       "                                                                               2   2⋅──(γ(u, ρ))                                         \n",
       "                                                                  ⎛∂          ⎞      ∂ρ                                                  \n",
       "─────                                                         - 2⋅⎜──(ψ(u, ρ))⎟  + ─────────────                                         \n",
       "                                                                  ⎝∂ρ         ⎠          ρ                                               \n",
       "                                                                                                                                         \n",
       "                                                                                                                                         \n",
       "                                                                                                                                         \n",
       "                                                                               0                                                         \n",
       "                                                                                                                                         \n",
       "                                                                                                                                         \n",
       "                                                                                                                                         \n",
       "                                                                                                                                         \n",
       "                                                                                                                                         \n",
       "                                                                                                                                         \n",
       "                                                                                                                                         \n",
       "                                                                                                                                         \n",
       "                                                                               0                                                         \n",
       "                                                                                                                                         \n",
       "\n",
       "                                                                                                                                         \n",
       " ∂                                                                                                                                       \n",
       " ──(ψ(u, ρ))                                                                                                                             \n",
       " ∂u                                                                                                                                      \n",
       "                                                                                                                                         \n",
       "────────────                                         0                                                                                   \n",
       "                                                                                                                                         \n",
       "                                                                                                                                         \n",
       "                                                                                                                                         \n",
       "                                                                                                                                         \n",
       "                                                                                                                                         \n",
       "                                                                                                                                         \n",
       "                                                                                                                                         \n",
       "                                                     0                                                                                   \n",
       "                                                                                                                                         \n",
       "                                                                                                                                         \n",
       "                ⎛    2                   2                                      ⎞                                                        \n",
       "                ⎜   ∂                   ∂              ∂             ∂          ⎟  -2⋅γ(u, ρ)                                            \n",
       "              ρ⋅⎜ρ⋅───(ψ(u, ρ)) - 2⋅ρ⋅─────(ψ(u, ρ)) + ──(ψ(u, ρ)) - ──(ψ(u, ρ))⎟⋅ℯ                                                      \n",
       "                ⎜    2                ∂u ∂ρ            ∂ρ            ∂u         ⎟                                                        \n",
       "                ⎝  ∂ρ                                                           ⎠                                                        \n",
       "                                                                                                                                         \n",
       "                                                                                               ⎛      2                   2              \n",
       "                                                                                               ⎜     ∂                   ∂              ∂\n",
       "                                                                                               ⎜- ρ⋅───(ψ(u, ρ)) + 2⋅ρ⋅─────(ψ(u, ρ)) - ─\n",
       "                                                                                               ⎜      2                ∂u ∂ρ            ∂\n",
       "                                                                                               ⎝    ∂ρ                                   \n",
       "                                                     0                                         ──────────────────────────────────────────\n",
       "                                                                                                                                         \n",
       "\n",
       "                                                 ⎤\n",
       "                                                 ⎥\n",
       "                                                 ⎥\n",
       "                                                 ⎥\n",
       "                                                 ⎥\n",
       "   0                                             ⎥\n",
       "                                                 ⎥\n",
       "                                                 ⎥\n",
       "                                                 ⎥\n",
       "                                                 ⎥\n",
       "                                                 ⎥\n",
       "                                                 ⎥\n",
       "                                                 ⎥\n",
       "   0                                             ⎥\n",
       "                                                 ⎥\n",
       "                                                 ⎥\n",
       "                                                 ⎥\n",
       "                                                 ⎥\n",
       "   0                                             ⎥\n",
       "                                                 ⎥\n",
       "                                                 ⎥\n",
       "                                                 ⎥\n",
       "                        ⎞                        ⎥\n",
       "             ∂          ⎟  -2⋅γ(u, ρ) + 4⋅ψ(u, ρ)⎥\n",
       "─(ψ(u, ρ)) + ──(ψ(u, ρ))⎟⋅ℯ                      ⎥\n",
       "ρ            ∂u         ⎟                        ⎥\n",
       "                        ⎠                        ⎥\n",
       "─────────────────────────────────────────────────⎥\n",
       "   ρ                                             ⎦"
      ]
     },
     "execution_count": 23,
     "metadata": {},
     "output_type": "execute_result"
    }
   ],
   "source": [
    "ricciSimplified = simplify(Ric.tensor())\n",
    "ricciSimplified"
   ]
  },
  {
   "cell_type": "code",
   "execution_count": 24,
   "id": "52df3c18",
   "metadata": {},
   "outputs": [
    {
     "data": {
      "text/latex": [
       "$\\displaystyle \\left[\\begin{matrix}- 1.0 \\left(\\frac{\\partial}{\\partial \\rho} \\psi{\\left(u,\\rho \\right)}\\right)^{2} + 2.0 \\frac{\\partial}{\\partial \\rho} \\psi{\\left(u,\\rho \\right)} \\frac{\\partial}{\\partial u} \\psi{\\left(u,\\rho \\right)} - 2.0 \\left(\\frac{\\partial}{\\partial u} \\psi{\\left(u,\\rho \\right)}\\right)^{2} + \\frac{1.0 \\frac{\\partial}{\\partial \\rho} \\gamma{\\left(u,\\rho \\right)}}{\\rho} - \\frac{1.0 \\frac{\\partial}{\\partial u} \\gamma{\\left(u,\\rho \\right)}}{\\rho} & - 1.0 \\left(\\frac{\\partial}{\\partial \\rho} \\psi{\\left(u,\\rho \\right)}\\right)^{2} + \\frac{1.0 \\frac{\\partial}{\\partial \\rho} \\gamma{\\left(u,\\rho \\right)}}{\\rho} & 0 & 0\\\\- 1.0 \\left(\\frac{\\partial}{\\partial \\rho} \\psi{\\left(u,\\rho \\right)}\\right)^{2} + \\frac{1.0 \\frac{\\partial}{\\partial \\rho} \\gamma{\\left(u,\\rho \\right)}}{\\rho} & - 2 \\left(\\frac{\\partial}{\\partial \\rho} \\psi{\\left(u,\\rho \\right)}\\right)^{2} + \\frac{2 \\frac{\\partial}{\\partial \\rho} \\gamma{\\left(u,\\rho \\right)}}{\\rho} & 0 & 0\\\\0 & 0 & \\rho^{2} \\left(1.0 \\frac{\\partial^{2}}{\\partial \\rho^{2}} \\gamma{\\left(u,\\rho \\right)} + 1.0 \\left(\\frac{\\partial}{\\partial \\rho} \\psi{\\left(u,\\rho \\right)}\\right)^{2} - 2.0 \\frac{\\partial}{\\partial \\rho} \\psi{\\left(u,\\rho \\right)} \\frac{\\partial}{\\partial u} \\psi{\\left(u,\\rho \\right)} - 2.0 \\frac{\\partial^{2}}{\\partial u\\partial \\rho} \\gamma{\\left(u,\\rho \\right)}\\right) e^{- 2 \\gamma{\\left(u,\\rho \\right)}} & 0\\\\0 & 0 & 0 & \\frac{\\left(1.0 \\rho \\frac{\\partial^{2}}{\\partial \\rho^{2}} \\gamma{\\left(u,\\rho \\right)} + 1.0 \\rho \\left(\\frac{\\partial}{\\partial \\rho} \\psi{\\left(u,\\rho \\right)}\\right)^{2} - 2.0 \\rho \\frac{\\partial}{\\partial \\rho} \\psi{\\left(u,\\rho \\right)} \\frac{\\partial}{\\partial u} \\psi{\\left(u,\\rho \\right)} - 2.0 \\rho \\frac{\\partial^{2}}{\\partial \\rho^{2}} \\psi{\\left(u,\\rho \\right)} - 2.0 \\rho \\frac{\\partial^{2}}{\\partial u\\partial \\rho} \\gamma{\\left(u,\\rho \\right)} + 4.0 \\rho \\frac{\\partial^{2}}{\\partial u\\partial \\rho} \\psi{\\left(u,\\rho \\right)} - 2.0 \\frac{\\partial}{\\partial \\rho} \\psi{\\left(u,\\rho \\right)} + 2.0 \\frac{\\partial}{\\partial u} \\psi{\\left(u,\\rho \\right)}\\right) e^{- 2 \\gamma{\\left(u,\\rho \\right)} + 4 \\psi{\\left(u,\\rho \\right)}}}{\\rho}\\end{matrix}\\right]$"
      ],
      "text/plain": [
       "⎡                                                                          ∂             ∂                                   ∂           \n",
       "⎢               2                                                  2   1.0⋅──(γ(u, ρ))   ──(γ(u, ρ))                 2   1.0⋅──(γ(u, ρ)) \n",
       "⎢  ⎛∂          ⎞        ∂           ∂                 ⎛∂          ⎞        ∂ρ            ∂u             ⎛∂          ⎞        ∂ρ          \n",
       "⎢- ⎜──(ψ(u, ρ))⎟  + 2.0⋅──(ψ(u, ρ))⋅──(ψ(u, ρ)) - 2.0⋅⎜──(ψ(u, ρ))⎟  + ─────────────── - ───────────  - ⎜──(ψ(u, ρ))⎟  + ─────────────── \n",
       "⎢  ⎝∂ρ         ⎠        ∂ρ          ∂u                ⎝∂u         ⎠           ρ               ρ         ⎝∂ρ         ⎠           ρ        \n",
       "⎢                                                                                                                                        \n",
       "⎢                                                       ∂                                                                    ∂           \n",
       "⎢                                               2   1.0⋅──(γ(u, ρ))                                                    2   2⋅──(γ(u, ρ)) \n",
       "⎢                                  ⎛∂          ⎞        ∂ρ                                                ⎛∂          ⎞      ∂ρ          \n",
       "⎢                                - ⎜──(ψ(u, ρ))⎟  + ───────────────                                   - 2⋅⎜──(ψ(u, ρ))⎟  + ───────────── \n",
       "⎢                                  ⎝∂ρ         ⎠           ρ                                              ⎝∂ρ         ⎠          ρ       \n",
       "⎢                                                                                                                                        \n",
       "⎢                                                                                                                                        \n",
       "⎢                                                                                                                                        \n",
       "⎢                                                 0                                                                   0                  \n",
       "⎢                                                                                                                                        \n",
       "⎢                                                                                                                                        \n",
       "⎢                                                                                                                                        \n",
       "⎢                                                                                                                                        \n",
       "⎢                                                                                                                                        \n",
       "⎢                                                                                                                                        \n",
       "⎢                                                                                                                                        \n",
       "⎢                                                                                                                                        \n",
       "⎢                                                 0                                                                   0                  \n",
       "⎣                                                                                                                                        \n",
       "\n",
       "                                                                                                                                         \n",
       "                                                                                                                                         \n",
       "                                                                                                                                         \n",
       "                                                     0                                                                                   \n",
       "                                                                                                                                         \n",
       "                                                                                                                                         \n",
       "                                                                                                                                         \n",
       "                                                                                                                                         \n",
       "                                                                                                                                         \n",
       "                                                     0                                                                                   \n",
       "                                                                                                                                         \n",
       "                                                                                                                                         \n",
       "    ⎛      2                             2                                        2          ⎞                                           \n",
       "  2 ⎜     ∂                 ⎛∂          ⎞        ∂           ∂                   ∂           ⎟  -2⋅γ(u, ρ)                               \n",
       " ρ ⋅⎜1.0⋅───(γ(u, ρ)) + 1.0⋅⎜──(ψ(u, ρ))⎟  - 2.0⋅──(ψ(u, ρ))⋅──(ψ(u, ρ)) - 2.0⋅─────(γ(u, ρ))⎟⋅ℯ                                         \n",
       "    ⎜      2                ⎝∂ρ         ⎠        ∂ρ          ∂u                ∂u ∂ρ         ⎟                                           \n",
       "    ⎝    ∂ρ                                                                                  ⎠                                           \n",
       "                                                                                                                                         \n",
       "                                                                                                            ⎛        2                   \n",
       "                                                                                                            ⎜       ∂                   ⎛\n",
       "                                                                                                            ⎜1.0⋅ρ⋅───(γ(u, ρ)) + 1.0⋅ρ⋅⎜\n",
       "                                                                                                            ⎜        2                  ⎝\n",
       "                                                                                                            ⎝      ∂ρ                    \n",
       "                                                     0                                                      ─────────────────────────────\n",
       "                                                                                                                                         \n",
       "\n",
       "                                                                                                                                         \n",
       "                                                                                                                                         \n",
       "                                                                                                                                         \n",
       "                                                                       0                                                                 \n",
       "                                                                                                                                         \n",
       "                                                                                                                                         \n",
       "                                                                                                                                         \n",
       "                                                                                                                                         \n",
       "                                                                                                                                         \n",
       "                                                                       0                                                                 \n",
       "                                                                                                                                         \n",
       "                                                                                                                                         \n",
       "                                                                                                                                         \n",
       "                                                                                                                                         \n",
       "                                                                       0                                                                 \n",
       "                                                                                                                                         \n",
       "                                                                                                                                         \n",
       "                                                                                                                                         \n",
       "            2                                           2                     2                      2                                   \n",
       "∂          ⎞          ∂           ∂                    ∂                     ∂                      ∂                  ∂                 \n",
       "──(ψ(u, ρ))⎟  - 2.0⋅ρ⋅──(ψ(u, ρ))⋅──(ψ(u, ρ)) - 2.0⋅ρ⋅───(ψ(u, ρ)) - 2.0⋅ρ⋅─────(γ(u, ρ)) + 4.0⋅ρ⋅─────(ψ(u, ρ)) - 2.0⋅──(ψ(u, ρ)) + 2.0⋅\n",
       "∂ρ         ⎠          ∂ρ          ∂u                    2                  ∂u ∂ρ                  ∂u ∂ρ                ∂ρ                \n",
       "                                                      ∂ρ                                                                                 \n",
       "─────────────────────────────────────────────────────────────────────────────────────────────────────────────────────────────────────────\n",
       "                                                                       ρ                                                                 \n",
       "\n",
       "                                    ⎤\n",
       "                                    ⎥\n",
       "                                    ⎥\n",
       "                                    ⎥\n",
       "                                    ⎥\n",
       "                                    ⎥\n",
       "                                    ⎥\n",
       "                                    ⎥\n",
       "                                    ⎥\n",
       "                                    ⎥\n",
       "                                    ⎥\n",
       "                                    ⎥\n",
       "                                    ⎥\n",
       "                                    ⎥\n",
       "                                    ⎥\n",
       "                                    ⎥\n",
       "                                    ⎥\n",
       "                                    ⎥\n",
       "           ⎞                        ⎥\n",
       "∂          ⎟  -2⋅γ(u, ρ) + 4⋅ψ(u, ρ)⎥\n",
       "──(ψ(u, ρ))⎟⋅ℯ                      ⎥\n",
       "∂u         ⎟                        ⎥\n",
       "           ⎠                        ⎥\n",
       "────────────────────────────────────⎥\n",
       "                                    ⎦"
      ]
     },
     "execution_count": 24,
     "metadata": {},
     "output_type": "execute_result"
    }
   ],
   "source": [
    "einsteinSimplified = simplify(einst.tensor())\n",
    "einsteinSimplified"
   ]
  },
  {
   "cell_type": "code",
   "execution_count": 29,
   "id": "7b9dea03",
   "metadata": {},
   "outputs": [
    {
     "data": {
      "image/png": "[encoded data removed]",
      "text/latex": [
       "$\\displaystyle \\frac{\\partial}{\\partial \\rho} \\gamma{\\left(u,\\rho \\right)} = \\rho \\left(\\frac{\\partial}{\\partial \\rho} \\psi{\\left(u,\\rho \\right)}\\right)^{2}$"
      ],
      "text/plain": [
       "                             2\n",
       "∂               ⎛∂          ⎞ \n",
       "──(γ(u, ρ)) = ρ⋅⎜──(ψ(u, ρ))⎟ \n",
       "∂ρ              ⎝∂ρ         ⎠ "
      ]
     },
     "execution_count": 29,
     "metadata": {},
     "output_type": "execute_result"
    }
   ],
   "source": [
    "equation2pt28 = Eq(diff(gamma,rho) , solve( einsteinSimplified[1,0], diff(gamma,rho) )[0] ) \n",
    "equation2pt28"
   ]
  },
  {
   "cell_type": "code",
   "execution_count": 50,
   "id": "ad1fa372",
   "metadata": {},
   "outputs": [
    {
     "data": {
      "image/png": "[encoded data removed]",
      "text/latex": [
       "$\\displaystyle \\frac{\\partial^{2}}{\\partial \\rho^{2}} \\psi{\\left(u,\\rho \\right)} - 2 \\frac{\\partial^{2}}{\\partial u\\partial \\rho} \\psi{\\left(u,\\rho \\right)} + \\frac{\\frac{\\partial}{\\partial \\rho} \\psi{\\left(u,\\rho \\right)}}{\\rho} - \\frac{\\frac{\\partial}{\\partial u} \\psi{\\left(u,\\rho \\right)}}{\\rho} = 0$"
      ],
      "text/plain": [
       "                                  ∂             ∂              \n",
       "  2                 2             ──(ψ(u, ρ))   ──(ψ(u, ρ))    \n",
       " ∂                 ∂              ∂ρ            ∂u             \n",
       "───(ψ(u, ρ)) - 2⋅─────(ψ(u, ρ)) + ─────────── - ─────────── = 0\n",
       "  2              ∂u ∂ρ                 ρ             ρ         \n",
       "∂ρ                                                             "
      ]
     },
     "execution_count": 50,
     "metadata": {},
     "output_type": "execute_result"
    }
   ],
   "source": [
    "equation2pt29 = Eq(expand((1/rho)*ricciSimplified[2,2].args[1]),0)\n",
    "equation2pt29"
   ]
  },
  {
   "cell_type": "code",
   "execution_count": 49,
   "id": "6c9b2b20",
   "metadata": {},
   "outputs": [
    {
     "data": {
      "image/png": "[encoded data removed]",
      "text/latex": [
       "$\\displaystyle \\frac{\\partial}{\\partial u} \\gamma{\\left(u,\\rho \\right)} = 2.0 \\rho \\left(\\frac{\\partial}{\\partial \\rho} \\psi{\\left(u,\\rho \\right)} - \\frac{\\partial}{\\partial u} \\psi{\\left(u,\\rho \\right)}\\right) \\frac{\\partial}{\\partial u} \\psi{\\left(u,\\rho \\right)}$"
      ],
      "text/plain": [
       "∂                   ⎛∂             ∂          ⎞ ∂          \n",
       "──(γ(u, ρ)) = 2.0⋅ρ⋅⎜──(ψ(u, ρ)) - ──(ψ(u, ρ))⎟⋅──(ψ(u, ρ))\n",
       "∂u                  ⎝∂ρ            ∂u         ⎠ ∂u         "
      ]
     },
     "execution_count": 49,
     "metadata": {},
     "output_type": "execute_result"
    }
   ],
   "source": [
    "equation2pt27 = Eq( diff(gamma,u), solve( einsteinSimplified[0,0].subs(equation2pt28.args[0],equation2pt28.args[1]), diff(gamma,u) )[0] )\n",
    "equation2pt27"
   ]
  },
  {
   "cell_type": "code",
   "execution_count": 62,
   "id": "8aa2e8ff",
   "metadata": {},
   "outputs": [
    {
     "data": {
      "text/latex": [
       "$\\displaystyle \\left[\\begin{matrix}\\frac{\\partial}{\\partial u} \\gamma{\\left(u,\\rho \\right)} = 2.0 \\rho \\left(\\frac{\\partial}{\\partial \\rho} \\psi{\\left(u,\\rho \\right)} - \\frac{\\partial}{\\partial u} \\psi{\\left(u,\\rho \\right)}\\right) \\frac{\\partial}{\\partial u} \\psi{\\left(u,\\rho \\right)}\\\\\\frac{\\partial}{\\partial \\rho} \\gamma{\\left(u,\\rho \\right)} = \\rho \\left(\\frac{\\partial}{\\partial \\rho} \\psi{\\left(u,\\rho \\right)}\\right)^{2}\\\\\\frac{\\partial^{2}}{\\partial \\rho^{2}} \\psi{\\left(u,\\rho \\right)} - 2 \\frac{\\partial^{2}}{\\partial u\\partial \\rho} \\psi{\\left(u,\\rho \\right)} + \\frac{\\frac{\\partial}{\\partial \\rho} \\psi{\\left(u,\\rho \\right)}}{\\rho} - \\frac{\\frac{\\partial}{\\partial u} \\psi{\\left(u,\\rho \\right)}}{\\rho} = 0\\end{matrix}\\right]$"
      ],
      "text/plain": [
       "⎡  ∂                   ⎛∂             ∂          ⎞ ∂            ⎤\n",
       "⎢  ──(γ(u, ρ)) = 2.0⋅ρ⋅⎜──(ψ(u, ρ)) - ──(ψ(u, ρ))⎟⋅──(ψ(u, ρ))  ⎥\n",
       "⎢  ∂u                  ⎝∂ρ            ∂u         ⎠ ∂u           ⎥\n",
       "⎢                                                               ⎥\n",
       "⎢                                             2                 ⎥\n",
       "⎢                ∂               ⎛∂          ⎞                  ⎥\n",
       "⎢                ──(γ(u, ρ)) = ρ⋅⎜──(ψ(u, ρ))⎟                  ⎥\n",
       "⎢                ∂ρ              ⎝∂ρ         ⎠                  ⎥\n",
       "⎢                                                               ⎥\n",
       "⎢                                  ∂             ∂              ⎥\n",
       "⎢  2                 2             ──(ψ(u, ρ))   ──(ψ(u, ρ))    ⎥\n",
       "⎢ ∂                 ∂              ∂ρ            ∂u             ⎥\n",
       "⎢───(ψ(u, ρ)) - 2⋅─────(ψ(u, ρ)) + ─────────── - ─────────── = 0⎥\n",
       "⎢  2              ∂u ∂ρ                 ρ             ρ         ⎥\n",
       "⎣∂ρ                                                             ⎦"
      ]
     },
     "execution_count": 62,
     "metadata": {},
     "output_type": "execute_result"
    }
   ],
   "source": [
    "vacuumFieldEquations = Matrix([equation2pt27,equation2pt28,equation2pt29])\n",
    "vacuumFieldEquations"
   ]
  }
 ],
 "metadata": {
  "@webio": {
   "lastCommId": "75b3b68e6c6143f782c90032aca21629",
   "lastKernelId": "a96931a6-6e70-4e42-a58e-9c39e4078827"
  },
  "kernelspec": {
   "display_name": "Python 3 (ipykernel)",
   "language": "python",
   "name": "python3"
  },
  "language_info": {
   "codemirror_mode": {
    "name": "ipython",
    "version": 3
   },
   "file_extension": ".py",
   "mimetype": "text/x-python",
   "name": "python",
   "nbconvert_exporter": "python",
   "pygments_lexer": "ipython3",
   "version": "3.8.8"
  }
 },
 "nbformat": 4,
 "nbformat_minor": 5
}
