{
 "cells": [
  {
   "cell_type": "markdown",
   "id": "427097e1",
   "metadata": {},
   "source": [
    "# Singularities formed by the focusing of cylindrical null fluids by Letelier & Wang\n",
    "##  Geoff Cope\n",
    "##  Univeristy of Utah\n",
    "##  𐐏𐐭𐑌𐐲𐑂𐐲𐑉𐑅𐐮𐐻𐐨 𐐲𐑂 𐐏𐐭𐐻𐐫\n",
    "##  December 29, 2021 "
   ]
  },
  {
   "cell_type": "markdown",
   "id": "29f5315c",
   "metadata": {},
   "source": [
    "https://journals.aps.org/prd/abstract/10.1103/PhysRevD.49.5105"
   ]
  },
  {
   "cell_type": "code",
   "execution_count": 1,
   "id": "f24b258c",
   "metadata": {},
   "outputs": [
    {
     "name": "stdout",
     "output_type": "stream",
     "text": [
      "IPython console for SymPy 1.9 (Python 3.8.8-64-bit) (ground types: gmpy)\n",
      "\n",
      "These commands were executed:\n",
      ">>> from __future__ import division\n",
      ">>> from sympy import *\n",
      ">>> x, y, z, t = symbols('x y z t')\n",
      ">>> k, m, n = symbols('k m n', integer=True)\n",
      ">>> f, g, h = symbols('f g h', cls=Function)\n",
      ">>> init_printing()\n",
      "\n",
      "Documentation can be found at https://docs.sympy.org/1.9/\n",
      "\n"
     ]
    }
   ],
   "source": [
    "from sympy import init_session\n",
    "init_session(use_latex=True)"
   ]
  },
  {
   "cell_type": "code",
   "execution_count": 2,
   "id": "e0c781d5",
   "metadata": {},
   "outputs": [],
   "source": [
    "import warnings\n",
    "import matplotlib.cbook\n",
    "warnings.filterwarnings(\"ignore\",category=matplotlib.cbook.mplDeprecation)"
   ]
  },
  {
   "cell_type": "code",
   "execution_count": 4,
   "id": "a3d5df5d",
   "metadata": {},
   "outputs": [],
   "source": [
    "u,v,phi,z,du,dv,dphi,dz = symbols('u v phi z du dv dphi dz')"
   ]
  },
  {
   "cell_type": "code",
   "execution_count": 5,
   "id": "86de5508",
   "metadata": {},
   "outputs": [
    {
     "data": {
      "image/png": "[encoded data removed]",
      "text/latex": [
       "$\\displaystyle \\Omega{\\left(u,v \\right)}$"
      ],
      "text/plain": [
       "Ω(u, v)"
      ]
     },
     "execution_count": 5,
     "metadata": {},
     "output_type": "execute_result"
    }
   ],
   "source": [
    "Omega = Function('Omega')(u,v)\n",
    "Omega"
   ]
  },
  {
   "cell_type": "code",
   "execution_count": 6,
   "id": "f5b0147f",
   "metadata": {},
   "outputs": [
    {
     "data": {
      "image/png": "[encoded data removed]",
      "text/latex": [
       "$\\displaystyle h{\\left(u,v \\right)}$"
      ],
      "text/plain": [
       "h(u, v)"
      ]
     },
     "execution_count": 6,
     "metadata": {},
     "output_type": "execute_result"
    }
   ],
   "source": [
    "h = Function('h')(u,v)\n",
    "h"
   ]
  },
  {
   "cell_type": "code",
   "execution_count": 7,
   "id": "94713748",
   "metadata": {},
   "outputs": [
    {
     "data": {
      "image/png": "[encoded data removed]",
      "text/latex": [
       "$\\displaystyle \\Phi{\\left(u,v \\right)}$"
      ],
      "text/plain": [
       "Φ(u, v)"
      ]
     },
     "execution_count": 7,
     "metadata": {},
     "output_type": "execute_result"
    }
   ],
   "source": [
    "Phi = Function('Phi')(u,v)\n",
    "Phi"
   ]
  },
  {
   "cell_type": "code",
   "execution_count": 9,
   "id": "f855a010",
   "metadata": {},
   "outputs": [
    {
     "data": {
      "text/latex": [
       "$\\displaystyle \\left[\\begin{matrix}u\\\\v\\\\z\\\\\\phi\\end{matrix}\\right]$"
      ],
      "text/plain": [
       "⎡u⎤\n",
       "⎢ ⎥\n",
       "⎢v⎥\n",
       "⎢ ⎥\n",
       "⎢z⎥\n",
       "⎢ ⎥\n",
       "⎣φ⎦"
      ]
     },
     "execution_count": 9,
     "metadata": {},
     "output_type": "execute_result"
    }
   ],
   "source": [
    "variables = Matrix([u,v,z,phi])\n",
    "variables"
   ]
  },
  {
   "cell_type": "code",
   "execution_count": 10,
   "id": "0caad960",
   "metadata": {},
   "outputs": [
    {
     "data": {
      "text/latex": [
       "$\\displaystyle \\left[\\begin{matrix}du\\\\dv\\\\dz\\\\dphi\\end{matrix}\\right]$"
      ],
      "text/plain": [
       "⎡ du ⎤\n",
       "⎢    ⎥\n",
       "⎢ dv ⎥\n",
       "⎢    ⎥\n",
       "⎢ dz ⎥\n",
       "⎢    ⎥\n",
       "⎣dphi⎦"
      ]
     },
     "execution_count": 10,
     "metadata": {},
     "output_type": "execute_result"
    }
   ],
   "source": [
    "differentials = Matrix([du,dv,dz,dphi])\n",
    "differentials "
   ]
  },
  {
   "cell_type": "code",
   "execution_count": 11,
   "id": "ca7d396b",
   "metadata": {},
   "outputs": [
    {
     "data": {
      "image/png": "[encoded data removed]",
      "text/latex": [
       "$\\displaystyle dphi^{2} e^{- \\Phi{\\left(u,v \\right)}} e^{- h{\\left(u,v \\right)}} + 2 du dv e^{- \\Omega{\\left(u,v \\right)}} - dz^{2} e^{\\Phi{\\left(u,v \\right)}} e^{- h{\\left(u,v \\right)}}$"
      ],
      "text/plain": [
       "    2  -Φ(u, v)  -h(u, v)            -Ω(u, v)     2  Φ(u, v)  -h(u, v)\n",
       "dphi ⋅ℯ        ⋅ℯ         + 2⋅du⋅dv⋅ℯ         - dz ⋅ℯ       ⋅ℯ        "
      ]
     },
     "execution_count": 11,
     "metadata": {},
     "output_type": "execute_result"
    }
   ],
   "source": [
    "lineElement =  expand( 2*du*dv*exp(-Omega) + exp(-h) * ( exp(-Phi) * dphi**2 - exp(Phi) * dz**2) ) \n",
    "lineElement"
   ]
  },
  {
   "cell_type": "code",
   "execution_count": 12,
   "id": "9bd3eb35",
   "metadata": {},
   "outputs": [
    {
     "data": {
      "text/latex": [
       "$\\displaystyle \\left[\\begin{matrix}0 & e^{- \\Omega{\\left(u,v \\right)}} & 0 & 0\\\\e^{- \\Omega{\\left(u,v \\right)}} & 0 & 0 & 0\\\\0 & 0 & - e^{\\Phi{\\left(u,v \\right)}} e^{- h{\\left(u,v \\right)}} & 0\\\\0 & 0 & 0 & e^{- \\Phi{\\left(u,v \\right)}} e^{- h{\\left(u,v \\right)}}\\end{matrix}\\right]$"
      ],
      "text/plain": [
       "⎡            -Ω(u, v)                                          ⎤\n",
       "⎢    0      ℯ                   0                    0         ⎥\n",
       "⎢                                                              ⎥\n",
       "⎢ -Ω(u, v)                                                     ⎥\n",
       "⎢ℯ              0               0                    0         ⎥\n",
       "⎢                                                              ⎥\n",
       "⎢                        Φ(u, v)  -h(u, v)                     ⎥\n",
       "⎢    0          0      -ℯ       ⋅ℯ                   0         ⎥\n",
       "⎢                                                              ⎥\n",
       "⎢                                            -Φ(u, v)  -h(u, v)⎥\n",
       "⎣    0          0               0           ℯ        ⋅ℯ        ⎦"
      ]
     },
     "execution_count": 12,
     "metadata": {},
     "output_type": "execute_result"
    }
   ],
   "source": [
    "g = zeros(4)\n",
    "\n",
    "for i in range(4):\n",
    "    for j in range(4):\n",
    "        if i == j:\n",
    "            g[i,j] = lineElement.coeff( differentials[i],2 ) \n",
    "        else:\n",
    "            g[i,j] = Rational(1,2)*lineElement.coeff( differentials[i]*differentials[j],1 )\n",
    "            \n",
    "g"
   ]
  },
  {
   "cell_type": "code",
   "execution_count": 13,
   "id": "12837230",
   "metadata": {},
   "outputs": [],
   "source": [
    "import sympy"
   ]
  },
  {
   "cell_type": "code",
   "execution_count": 14,
   "id": "9806dfac",
   "metadata": {},
   "outputs": [
    {
     "data": {
      "text/latex": [
       "$\\displaystyle \\left[\\begin{matrix}0 & e^{- \\Omega{\\left(u,v \\right)}} & 0 & 0\\\\e^{- \\Omega{\\left(u,v \\right)}} & 0 & 0 & 0\\\\0 & 0 & - e^{\\Phi{\\left(u,v \\right)}} e^{- h{\\left(u,v \\right)}} & 0\\\\0 & 0 & 0 & e^{- \\Phi{\\left(u,v \\right)}} e^{- h{\\left(u,v \\right)}}\\end{matrix}\\right]$"
      ],
      "text/plain": [
       "⎡            -Ω(u, v)                                          ⎤\n",
       "⎢    0      ℯ                   0                    0         ⎥\n",
       "⎢                                                              ⎥\n",
       "⎢ -Ω(u, v)                                                     ⎥\n",
       "⎢ℯ              0               0                    0         ⎥\n",
       "⎢                                                              ⎥\n",
       "⎢                        Φ(u, v)  -h(u, v)                     ⎥\n",
       "⎢    0          0      -ℯ       ⋅ℯ                   0         ⎥\n",
       "⎢                                                              ⎥\n",
       "⎢                                            -Φ(u, v)  -h(u, v)⎥\n",
       "⎣    0          0               0           ℯ        ⋅ℯ        ⎦"
      ]
     },
     "execution_count": 14,
     "metadata": {},
     "output_type": "execute_result"
    }
   ],
   "source": [
    "m = sympy.Array(g)\n",
    "m"
   ]
  },
  {
   "cell_type": "code",
   "execution_count": 15,
   "id": "79504ec0",
   "metadata": {},
   "outputs": [],
   "source": [
    "from einsteinpy.symbolic import *"
   ]
  },
  {
   "cell_type": "code",
   "execution_count": 16,
   "id": "51289bf2",
   "metadata": {},
   "outputs": [],
   "source": [
    "syms = sympy.symbols(\"u v phi z\")\n",
    "u,v,phi,z = syms"
   ]
  },
  {
   "cell_type": "code",
   "execution_count": 17,
   "id": "ca40bba0",
   "metadata": {},
   "outputs": [],
   "source": [
    "metric = MetricTensor(m,syms)"
   ]
  },
  {
   "cell_type": "code",
   "execution_count": 18,
   "id": "e9151fdb",
   "metadata": {},
   "outputs": [
    {
     "data": {
      "text/latex": [
       "$\\displaystyle \\left[\\begin{matrix}\\left[\\begin{matrix}- \\frac{\\partial}{\\partial u} \\Omega{\\left(u,v \\right)} & 0 & 0 & 0\\\\0 & 0 & 0 & 0\\\\0 & 0 & \\frac{\\left(\\frac{\\partial}{\\partial v} \\Phi{\\left(u,v \\right)} - \\frac{\\partial}{\\partial v} h{\\left(u,v \\right)}\\right) e^{\\Omega{\\left(u,v \\right)} + \\Phi{\\left(u,v \\right)} - h{\\left(u,v \\right)}}}{2} & 0\\\\0 & 0 & 0 & \\frac{\\left(\\frac{\\partial}{\\partial v} \\Phi{\\left(u,v \\right)} + \\frac{\\partial}{\\partial v} h{\\left(u,v \\right)}\\right) e^{\\Omega{\\left(u,v \\right)} - \\Phi{\\left(u,v \\right)} - h{\\left(u,v \\right)}}}{2}\\end{matrix}\\right] & \\left[\\begin{matrix}0 & 0 & 0 & 0\\\\0 & - \\frac{\\partial}{\\partial v} \\Omega{\\left(u,v \\right)} & 0 & 0\\\\0 & 0 & \\frac{\\left(\\frac{\\partial}{\\partial u} \\Phi{\\left(u,v \\right)} - \\frac{\\partial}{\\partial u} h{\\left(u,v \\right)}\\right) e^{\\Omega{\\left(u,v \\right)} + \\Phi{\\left(u,v \\right)} - h{\\left(u,v \\right)}}}{2} & 0\\\\0 & 0 & 0 & \\frac{\\left(\\frac{\\partial}{\\partial u} \\Phi{\\left(u,v \\right)} + \\frac{\\partial}{\\partial u} h{\\left(u,v \\right)}\\right) e^{\\Omega{\\left(u,v \\right)} - \\Phi{\\left(u,v \\right)} - h{\\left(u,v \\right)}}}{2}\\end{matrix}\\right] & \\left[\\begin{matrix}0 & 0 & \\frac{\\frac{\\partial}{\\partial u} \\Phi{\\left(u,v \\right)}}{2} - \\frac{\\frac{\\partial}{\\partial u} h{\\left(u,v \\right)}}{2} & 0\\\\0 & 0 & \\frac{\\frac{\\partial}{\\partial v} \\Phi{\\left(u,v \\right)}}{2} - \\frac{\\frac{\\partial}{\\partial v} h{\\left(u,v \\right)}}{2} & 0\\\\\\frac{\\frac{\\partial}{\\partial u} \\Phi{\\left(u,v \\right)}}{2} - \\frac{\\frac{\\partial}{\\partial u} h{\\left(u,v \\right)}}{2} & \\frac{\\frac{\\partial}{\\partial v} \\Phi{\\left(u,v \\right)}}{2} - \\frac{\\frac{\\partial}{\\partial v} h{\\left(u,v \\right)}}{2} & 0 & 0\\\\0 & 0 & 0 & 0\\end{matrix}\\right] & \\left[\\begin{matrix}0 & 0 & 0 & - \\frac{\\frac{\\partial}{\\partial u} \\Phi{\\left(u,v \\right)}}{2} - \\frac{\\frac{\\partial}{\\partial u} h{\\left(u,v \\right)}}{2}\\\\0 & 0 & 0 & - \\frac{\\frac{\\partial}{\\partial v} \\Phi{\\left(u,v \\right)}}{2} - \\frac{\\frac{\\partial}{\\partial v} h{\\left(u,v \\right)}}{2}\\\\0 & 0 & 0 & 0\\\\- \\frac{\\frac{\\partial}{\\partial u} \\Phi{\\left(u,v \\right)}}{2} - \\frac{\\frac{\\partial}{\\partial u} h{\\left(u,v \\right)}}{2} & - \\frac{\\frac{\\partial}{\\partial v} \\Phi{\\left(u,v \\right)}}{2} - \\frac{\\frac{\\partial}{\\partial v} h{\\left(u,v \\right)}}{2} & 0 & 0\\end{matrix}\\right]\\end{matrix}\\right]$"
      ],
      "text/plain": [
       "⎡                                                                                                                                        \n",
       "⎢⎡ ∂                                                                                                                                 ⎤  ⎡\n",
       "⎢⎢-──(Ω(u, v))  0                             0                                                         0                            ⎥  ⎢\n",
       "⎢⎢ ∂u                                                                                                                                ⎥  ⎢\n",
       "⎢⎢                                                                                                                                   ⎥  ⎢\n",
       "⎢⎢     0        0                             0                                                         0                            ⎥  ⎢\n",
       "⎢⎢                                                                                                                                   ⎥  ⎢\n",
       "⎢⎢                 ⎛∂             ∂          ⎞  Ω(u, v) + Φ(u, v) - h(u, v)                                                          ⎥  ⎢\n",
       "⎢⎢                 ⎜──(Φ(u, v)) - ──(h(u, v))⎟⋅ℯ                                                                                     ⎥  ⎢\n",
       "⎢⎢                 ⎝∂v            ∂v         ⎠                                                                                       ⎥  ⎢\n",
       "⎢⎢     0        0  ────────────────────────────────────────────────────────                             0                            ⎥  ⎢\n",
       "⎢⎢                                            2                                                                                      ⎥  ⎢\n",
       "⎢⎢                                                                                                                                   ⎥  ⎢\n",
       "⎢⎢                                                                           ⎛∂             ∂          ⎞  Ω(u, v) - Φ(u, v) - h(u, v)⎥  ⎢\n",
       "⎢⎢                                                                           ⎜──(Φ(u, v)) + ──(h(u, v))⎟⋅ℯ                           ⎥  ⎢\n",
       "⎢⎢                                                                           ⎝∂v            ∂v         ⎠                             ⎥  ⎢\n",
       "⎢⎢     0        0                             0                              ────────────────────────────────────────────────────────⎥  ⎢\n",
       "⎢⎣                                                                                                      2                            ⎦  ⎣\n",
       "⎣                                                                                                                                        \n",
       "\n",
       "                                                                                                                                      ⎡  \n",
       "0       0                                   0                                                         0                            ⎤  ⎢  \n",
       "                                                                                                                                   ⎥  ⎢  \n",
       "    ∂                                                                                                                              ⎥  ⎢  \n",
       "0  -──(Ω(u, v))                             0                                                         0                            ⎥  ⎢  \n",
       "    ∂v                                                                                                                             ⎥  ⎢  \n",
       "                                                                                                                                   ⎥  ⎢  \n",
       "                 ⎛∂             ∂          ⎞  Ω(u, v) + Φ(u, v) - h(u, v)                                                          ⎥  ⎢  \n",
       "                 ⎜──(Φ(u, v)) - ──(h(u, v))⎟⋅ℯ                                                                                     ⎥  ⎢  \n",
       "                 ⎝∂u            ∂u         ⎠                                                                                       ⎥  ⎢  \n",
       "0       0        ────────────────────────────────────────────────────────                             0                            ⎥  ⎢  \n",
       "                                            2                                                                                      ⎥  ⎢  \n",
       "                                                                                                                                   ⎥  ⎢∂ \n",
       "                                                                           ⎛∂             ∂          ⎞  Ω(u, v) - Φ(u, v) - h(u, v)⎥  ⎢──\n",
       "                                                                           ⎜──(Φ(u, v)) + ──(h(u, v))⎟⋅ℯ                           ⎥  ⎢∂u\n",
       "                                                                           ⎝∂u            ∂u         ⎠                             ⎥  ⎢──\n",
       "0       0                                   0                              ────────────────────────────────────────────────────────⎥  ⎢  \n",
       "                                                                                                      2                            ⎦  ⎢  \n",
       "                                                                                                                                      ⎣  \n",
       "\n",
       "                                                    ∂             ∂             ⎤  ⎡                                                     \n",
       "                                                    ──(Φ(u, v))   ──(h(u, v))   ⎥  ⎢                                                     \n",
       "                                                    ∂u            ∂u            ⎥  ⎢                                                     \n",
       "          0                          0              ─────────── - ───────────  0⎥  ⎢             0                            0          \n",
       "                                                         2             2        ⎥  ⎢                                                     \n",
       "                                                                                ⎥  ⎢                                                     \n",
       "                                                    ∂             ∂             ⎥  ⎢                                                     \n",
       "                                                    ──(Φ(u, v))   ──(h(u, v))   ⎥  ⎢                                                     \n",
       "                                                    ∂v            ∂v            ⎥  ⎢                                                     \n",
       "          0                          0              ─────────── - ───────────  0⎥  ⎢             0                            0          \n",
       "                                                         2             2        ⎥  ⎢                                                     \n",
       "                                                                                ⎥  ⎢                                                     \n",
       "            ∂            ∂             ∂                                        ⎥  ⎢             0                            0          \n",
       "(Φ(u, v))   ──(h(u, v))  ──(Φ(u, v))   ──(h(u, v))                              ⎥  ⎢                                                     \n",
       "            ∂u           ∂v            ∂v                                       ⎥  ⎢  ∂             ∂              ∂             ∂       \n",
       "───────── - ───────────  ─────────── - ───────────              0              0⎥  ⎢  ──(Φ(u, v))   ──(h(u, v))    ──(Φ(u, v))   ──(h(u, \n",
       "   2             2            2             2                                   ⎥  ⎢  ∂u            ∂u             ∂v            ∂v      \n",
       "                                                                                ⎥  ⎢- ─────────── - ───────────  - ─────────── - ────────\n",
       "          0                          0                          0              0⎦  ⎣       2             2              2             2  \n",
       "\n",
       "          ∂             ∂          ⎤⎤\n",
       "          ──(Φ(u, v))   ──(h(u, v))⎥⎥\n",
       "          ∂u            ∂u         ⎥⎥\n",
       "     0  - ─────────── - ───────────⎥⎥\n",
       "               2             2     ⎥⎥\n",
       "                                   ⎥⎥\n",
       "          ∂             ∂          ⎥⎥\n",
       "          ──(Φ(u, v))   ──(h(u, v))⎥⎥\n",
       "          ∂v            ∂v         ⎥⎥\n",
       "     0  - ─────────── - ───────────⎥⎥\n",
       "               2             2     ⎥⎥\n",
       "                                   ⎥⎥\n",
       "     0               0             ⎥⎥\n",
       "                                   ⎥⎥\n",
       "                                   ⎥⎥\n",
       "v))                                ⎥⎥\n",
       "                                   ⎥⎥\n",
       "───  0               0             ⎥⎥\n",
       "                                   ⎦⎦"
      ]
     },
     "execution_count": 18,
     "metadata": {},
     "output_type": "execute_result"
    }
   ],
   "source": [
    "ch = ChristoffelSymbols.from_metric(metric)\n",
    "simplify(ch.tensor())"
   ]
  },
  {
   "cell_type": "code",
   "execution_count": 19,
   "id": "702b3f0c",
   "metadata": {},
   "outputs": [
    {
     "data": {
      "text/latex": [
       "$\\displaystyle \\left[\\begin{matrix}\\frac{\\partial}{\\partial u} \\Omega{\\left(u,v \\right)} \\frac{\\partial}{\\partial u} h{\\left(u,v \\right)} - \\frac{\\left(\\frac{\\partial}{\\partial u} \\Phi{\\left(u,v \\right)}\\right)^{2}}{2} - \\frac{\\left(\\frac{\\partial}{\\partial u} h{\\left(u,v \\right)}\\right)^{2}}{2} + \\frac{\\partial^{2}}{\\partial u^{2}} h{\\left(u,v \\right)} & - \\frac{\\frac{\\partial}{\\partial u} \\Phi{\\left(u,v \\right)} \\frac{\\partial}{\\partial v} \\Phi{\\left(u,v \\right)}}{2} - \\frac{\\frac{\\partial}{\\partial u} h{\\left(u,v \\right)} \\frac{\\partial}{\\partial v} h{\\left(u,v \\right)}}{2} + \\frac{\\partial^{2}}{\\partial v\\partial u} \\Omega{\\left(u,v \\right)} + \\frac{\\partial^{2}}{\\partial v\\partial u} h{\\left(u,v \\right)} & 0 & 0\\\\- \\frac{\\frac{\\partial}{\\partial u} \\Phi{\\left(u,v \\right)} \\frac{\\partial}{\\partial v} \\Phi{\\left(u,v \\right)}}{2} - \\frac{\\frac{\\partial}{\\partial u} h{\\left(u,v \\right)} \\frac{\\partial}{\\partial v} h{\\left(u,v \\right)}}{2} + \\frac{\\partial^{2}}{\\partial v\\partial u} \\Omega{\\left(u,v \\right)} + \\frac{\\partial^{2}}{\\partial v\\partial u} h{\\left(u,v \\right)} & \\frac{\\partial}{\\partial v} \\Omega{\\left(u,v \\right)} \\frac{\\partial}{\\partial v} h{\\left(u,v \\right)} - \\frac{\\left(\\frac{\\partial}{\\partial v} \\Phi{\\left(u,v \\right)}\\right)^{2}}{2} - \\frac{\\left(\\frac{\\partial}{\\partial v} h{\\left(u,v \\right)}\\right)^{2}}{2} + \\frac{\\partial^{2}}{\\partial v^{2}} h{\\left(u,v \\right)} & 0 & 0\\\\0 & 0 & \\left(- \\frac{\\frac{\\partial}{\\partial u} \\Phi{\\left(u,v \\right)} \\frac{\\partial}{\\partial v} h{\\left(u,v \\right)}}{2} - \\frac{\\frac{\\partial}{\\partial v} \\Phi{\\left(u,v \\right)} \\frac{\\partial}{\\partial u} h{\\left(u,v \\right)}}{2} + \\frac{\\partial}{\\partial u} h{\\left(u,v \\right)} \\frac{\\partial}{\\partial v} h{\\left(u,v \\right)} + \\frac{\\partial^{2}}{\\partial v\\partial u} \\Phi{\\left(u,v \\right)} - \\frac{\\partial^{2}}{\\partial v\\partial u} h{\\left(u,v \\right)}\\right) e^{\\Omega{\\left(u,v \\right)} + \\Phi{\\left(u,v \\right)} - h{\\left(u,v \\right)}} & 0\\\\0 & 0 & 0 & \\left(- \\frac{\\frac{\\partial}{\\partial u} \\Phi{\\left(u,v \\right)} \\frac{\\partial}{\\partial v} h{\\left(u,v \\right)}}{2} - \\frac{\\frac{\\partial}{\\partial v} \\Phi{\\left(u,v \\right)} \\frac{\\partial}{\\partial u} h{\\left(u,v \\right)}}{2} - \\frac{\\partial}{\\partial u} h{\\left(u,v \\right)} \\frac{\\partial}{\\partial v} h{\\left(u,v \\right)} + \\frac{\\partial^{2}}{\\partial v\\partial u} \\Phi{\\left(u,v \\right)} + \\frac{\\partial^{2}}{\\partial v\\partial u} h{\\left(u,v \\right)}\\right) e^{\\Omega{\\left(u,v \\right)} - \\Phi{\\left(u,v \\right)} - h{\\left(u,v \\right)}}\\end{matrix}\\right]$"
      ],
      "text/plain": [
       "⎡                                             2                2                                                                         \n",
       "⎢                                ⎛∂          ⎞    ⎛∂          ⎞                           ∂           ∂             ∂           ∂        \n",
       "⎢                                ⎜──(Φ(u, v))⎟    ⎜──(h(u, v))⎟      2                    ──(Φ(u, v))⋅──(Φ(u, v))   ──(h(u, v))⋅──(h(u, v\n",
       "⎢      ∂           ∂             ⎝∂u         ⎠    ⎝∂u         ⎠     ∂                     ∂u          ∂v            ∂u          ∂v       \n",
       "⎢      ──(Ω(u, v))⋅──(h(u, v)) - ────────────── - ────────────── + ───(h(u, v))         - ─────────────────────── - ─────────────────────\n",
       "⎢      ∂u          ∂u                  2                2            2                               2                         2         \n",
       "⎢                                                                  ∂u                                                                    \n",
       "⎢                                                                                                                                        \n",
       "⎢                                                                                                                                    2   \n",
       "⎢  ∂           ∂             ∂           ∂                                                                              ⎛∂          ⎞    \n",
       "⎢  ──(Φ(u, v))⋅──(Φ(u, v))   ──(h(u, v))⋅──(h(u, v))      2                2                                            ⎜──(Φ(u, v))⎟    \n",
       "⎢  ∂u          ∂v            ∂u          ∂v              ∂                ∂                   ∂           ∂             ⎝∂v         ⎠    \n",
       "⎢- ─────────────────────── - ─────────────────────── + ─────(Ω(u, v)) + ─────(h(u, v))        ──(Ω(u, v))⋅──(h(u, v)) - ────────────── - \n",
       "⎢             2                         2              ∂v ∂u            ∂v ∂u                 ∂v          ∂v                  2          \n",
       "⎢                                                                                                                                        \n",
       "⎢                                                                                                                                        \n",
       "⎢                                                                                                                                        \n",
       "⎢                                                                                                                                        \n",
       "⎢                                                                                                                                        \n",
       "⎢                                          0                                                                                      0      \n",
       "⎢                                                                                                                                        \n",
       "⎢                                                                                                                                        \n",
       "⎢                                                                                                                                        \n",
       "⎢                                                                                                                                        \n",
       "⎢                                                                                                                                        \n",
       "⎢                                          0                                                                                      0      \n",
       "⎣                                                                                                                                        \n",
       "\n",
       "                                                                                                                                         \n",
       "                                                                                                                                         \n",
       "))      2                2                                                                                                               \n",
       "       ∂                ∂                                                                                                                \n",
       "── + ─────(Ω(u, v)) + ─────(h(u, v))                                                                        0                            \n",
       "     ∂v ∂u            ∂v ∂u                                                                                                              \n",
       "                                                                                                                                         \n",
       "                                                                                                                                         \n",
       "             2                                                                                                                           \n",
       "⎛∂          ⎞                                                                                                                            \n",
       "⎜──(h(u, v))⎟      2                                                                                                                     \n",
       "⎝∂v         ⎠     ∂                                                                                                                      \n",
       "────────────── + ───(h(u, v))                                                                               0                            \n",
       "      2            2                                                                                                                     \n",
       "                 ∂v                                                                                                                      \n",
       "                                                                                                                                         \n",
       "                                      ⎛  ∂           ∂             ∂           ∂                                                         \n",
       "                                      ⎜  ──(Φ(u, v))⋅──(h(u, v))   ──(Φ(u, v))⋅──(h(u, v))                                2              \n",
       "                                      ⎜  ∂u          ∂v            ∂v          ∂u            ∂           ∂               ∂               \n",
       "                                      ⎜- ─────────────────────── - ─────────────────────── + ──(h(u, v))⋅──(h(u, v)) + ─────(Φ(u, v)) - ─\n",
       "                                      ⎝             2                         2              ∂u          ∂v            ∂v ∂u            ∂\n",
       "                                                                                                                                         \n",
       "                                                                                                                                         \n",
       "                                                                                                                                         \n",
       "                                                                                                                                         \n",
       "                                                                                                            0                            \n",
       "                                                                                                                                         \n",
       "\n",
       "                                                                                                                                         \n",
       "                                                                                                                                         \n",
       "                                                                                                                                         \n",
       "                                                                                                                                         \n",
       "                                                                                                                   0                     \n",
       "                                                                                                                                         \n",
       "                                                                                                                                         \n",
       "                                                                                                                                         \n",
       "                                                                                                                                         \n",
       "                                                                                                                                         \n",
       "                                                                                                                                         \n",
       "                                                                                                                                         \n",
       "                                                                                                                   0                     \n",
       "                                                                                                                                         \n",
       "                                                                                                                                         \n",
       "                                                                                                                                         \n",
       "             ⎞                                                                                                                           \n",
       "  2          ⎟                                                                                                                           \n",
       " ∂           ⎟  Ω(u, v) + Φ(u, v) - h(u, v)                                                                                              \n",
       "────(h(u, v))⎟⋅ℯ                                                                                                   0                     \n",
       "v ∂u         ⎠                                                                                                                           \n",
       "                                                                                                                                         \n",
       "                                             ⎛  ∂           ∂             ∂           ∂                                                  \n",
       "                                             ⎜  ──(Φ(u, v))⋅──(h(u, v))   ──(Φ(u, v))⋅──(h(u, v))                                2       \n",
       "                                             ⎜  ∂u          ∂v            ∂v          ∂u            ∂           ∂               ∂        \n",
       "                                             ⎜- ─────────────────────── - ─────────────────────── - ──(h(u, v))⋅──(h(u, v)) + ─────(Φ(u, \n",
       "                                             ⎝             2                         2              ∂u          ∂v            ∂v ∂u      \n",
       "\n",
       "                                                  ⎤\n",
       "                                                  ⎥\n",
       "                                                  ⎥\n",
       "                                                  ⎥\n",
       "                                                  ⎥\n",
       "                                                  ⎥\n",
       "                                                  ⎥\n",
       "                                                  ⎥\n",
       "                                                  ⎥\n",
       "                                                  ⎥\n",
       "                                                  ⎥\n",
       "                                                  ⎥\n",
       "                                                  ⎥\n",
       "                                                  ⎥\n",
       "                                                  ⎥\n",
       "                                                  ⎥\n",
       "                                                  ⎥\n",
       "                                                  ⎥\n",
       "                                                  ⎥\n",
       "                                                  ⎥\n",
       "                                                  ⎥\n",
       "                                                  ⎥\n",
       "                    ⎞                             ⎥\n",
       "         2          ⎟                             ⎥\n",
       "        ∂           ⎟  Ω(u, v) - Φ(u, v) - h(u, v)⎥\n",
       "v)) + ─────(h(u, v))⎟⋅ℯ                           ⎥\n",
       "      ∂v ∂u         ⎠                             ⎦"
      ]
     },
     "execution_count": 19,
     "metadata": {},
     "output_type": "execute_result"
    }
   ],
   "source": [
    "Ric = RicciTensor.from_metric(metric)\n",
    "Ric.tensor()"
   ]
  },
  {
   "cell_type": "code",
   "execution_count": 20,
   "id": "3915301d",
   "metadata": {},
   "outputs": [
    {
     "data": {
      "image/png": "[encoded data removed]",
      "text/latex": [
       "$\\displaystyle \\left(- \\frac{\\partial}{\\partial u} \\Phi{\\left(u,v \\right)} \\frac{\\partial}{\\partial v} \\Phi{\\left(u,v \\right)} - 3 \\frac{\\partial}{\\partial u} h{\\left(u,v \\right)} \\frac{\\partial}{\\partial v} h{\\left(u,v \\right)} + 2 \\frac{\\partial^{2}}{\\partial v\\partial u} \\Omega{\\left(u,v \\right)} + 4 \\frac{\\partial^{2}}{\\partial v\\partial u} h{\\left(u,v \\right)}\\right) e^{\\Omega{\\left(u,v \\right)}}$"
      ],
      "text/plain": [
       "⎛                                                             2                  2          ⎞         \n",
       "⎜  ∂           ∂               ∂           ∂                 ∂                  ∂           ⎟  Ω(u, v)\n",
       "⎜- ──(Φ(u, v))⋅──(Φ(u, v)) - 3⋅──(h(u, v))⋅──(h(u, v)) + 2⋅─────(Ω(u, v)) + 4⋅─────(h(u, v))⎟⋅ℯ       \n",
       "⎝  ∂u          ∂v              ∂u          ∂v              ∂v ∂u              ∂v ∂u         ⎠         "
      ]
     },
     "execution_count": 20,
     "metadata": {},
     "output_type": "execute_result"
    }
   ],
   "source": [
    "R = RicciScalar.from_riccitensor(Ric)\n",
    "R.simplify()\n",
    "R.expr"
   ]
  },
  {
   "cell_type": "code",
   "execution_count": 21,
   "id": "162e0789",
   "metadata": {},
   "outputs": [
    {
     "data": {
      "text/latex": [
       "$\\displaystyle \\left[\\begin{matrix}\\frac{\\partial}{\\partial u} \\Omega{\\left(u,v \\right)} \\frac{\\partial}{\\partial u} h{\\left(u,v \\right)} - \\frac{\\left(\\frac{\\partial}{\\partial u} \\Phi{\\left(u,v \\right)}\\right)^{2}}{2} - \\frac{\\left(\\frac{\\partial}{\\partial u} h{\\left(u,v \\right)}\\right)^{2}}{2} + \\frac{\\partial^{2}}{\\partial u^{2}} h{\\left(u,v \\right)} & 1.0 \\frac{\\partial}{\\partial u} h{\\left(u,v \\right)} \\frac{\\partial}{\\partial v} h{\\left(u,v \\right)} - 1.0 \\frac{\\partial^{2}}{\\partial v\\partial u} h{\\left(u,v \\right)} & 0 & 0\\\\1.0 \\frac{\\partial}{\\partial u} h{\\left(u,v \\right)} \\frac{\\partial}{\\partial v} h{\\left(u,v \\right)} - 1.0 \\frac{\\partial^{2}}{\\partial v\\partial u} h{\\left(u,v \\right)} & \\frac{\\partial}{\\partial v} \\Omega{\\left(u,v \\right)} \\frac{\\partial}{\\partial v} h{\\left(u,v \\right)} - \\frac{\\left(\\frac{\\partial}{\\partial v} \\Phi{\\left(u,v \\right)}\\right)^{2}}{2} - \\frac{\\left(\\frac{\\partial}{\\partial v} h{\\left(u,v \\right)}\\right)^{2}}{2} + \\frac{\\partial^{2}}{\\partial v^{2}} h{\\left(u,v \\right)} & 0 & 0\\\\0 & 0 & 0.5 \\left(- \\frac{\\partial}{\\partial u} \\Phi{\\left(u,v \\right)} \\frac{\\partial}{\\partial v} \\Phi{\\left(u,v \\right)} - 3 \\frac{\\partial}{\\partial u} h{\\left(u,v \\right)} \\frac{\\partial}{\\partial v} h{\\left(u,v \\right)} + 2 \\frac{\\partial^{2}}{\\partial v\\partial u} \\Omega{\\left(u,v \\right)} + 4 \\frac{\\partial^{2}}{\\partial v\\partial u} h{\\left(u,v \\right)}\\right) e^{\\Omega{\\left(u,v \\right)}} e^{\\Phi{\\left(u,v \\right)}} e^{- h{\\left(u,v \\right)}} + \\left(- \\frac{\\frac{\\partial}{\\partial u} \\Phi{\\left(u,v \\right)} \\frac{\\partial}{\\partial v} h{\\left(u,v \\right)}}{2} - \\frac{\\frac{\\partial}{\\partial v} \\Phi{\\left(u,v \\right)} \\frac{\\partial}{\\partial u} h{\\left(u,v \\right)}}{2} + \\frac{\\partial}{\\partial u} h{\\left(u,v \\right)} \\frac{\\partial}{\\partial v} h{\\left(u,v \\right)} + \\frac{\\partial^{2}}{\\partial v\\partial u} \\Phi{\\left(u,v \\right)} - \\frac{\\partial^{2}}{\\partial v\\partial u} h{\\left(u,v \\right)}\\right) e^{\\Omega{\\left(u,v \\right)} + \\Phi{\\left(u,v \\right)} - h{\\left(u,v \\right)}} & 0\\\\0 & 0 & 0 & - 0.5 \\left(- \\frac{\\partial}{\\partial u} \\Phi{\\left(u,v \\right)} \\frac{\\partial}{\\partial v} \\Phi{\\left(u,v \\right)} - 3 \\frac{\\partial}{\\partial u} h{\\left(u,v \\right)} \\frac{\\partial}{\\partial v} h{\\left(u,v \\right)} + 2 \\frac{\\partial^{2}}{\\partial v\\partial u} \\Omega{\\left(u,v \\right)} + 4 \\frac{\\partial^{2}}{\\partial v\\partial u} h{\\left(u,v \\right)}\\right) e^{\\Omega{\\left(u,v \\right)}} e^{- \\Phi{\\left(u,v \\right)}} e^{- h{\\left(u,v \\right)}} + \\left(- \\frac{\\frac{\\partial}{\\partial u} \\Phi{\\left(u,v \\right)} \\frac{\\partial}{\\partial v} h{\\left(u,v \\right)}}{2} - \\frac{\\frac{\\partial}{\\partial v} \\Phi{\\left(u,v \\right)} \\frac{\\partial}{\\partial u} h{\\left(u,v \\right)}}{2} - \\frac{\\partial}{\\partial u} h{\\left(u,v \\right)} \\frac{\\partial}{\\partial v} h{\\left(u,v \\right)} + \\frac{\\partial^{2}}{\\partial v\\partial u} \\Phi{\\left(u,v \\right)} + \\frac{\\partial^{2}}{\\partial v\\partial u} h{\\left(u,v \\right)}\\right) e^{\\Omega{\\left(u,v \\right)} - \\Phi{\\left(u,v \\right)} - h{\\left(u,v \\right)}}\\end{matrix}\\right]$"
      ],
      "text/plain": [
       "⎡                                       2                2                                                                               \n",
       "⎢                          ⎛∂          ⎞    ⎛∂          ⎞                                                                                \n",
       "⎢                          ⎜──(Φ(u, v))⎟    ⎜──(h(u, v))⎟      2                                                          2              \n",
       "⎢∂           ∂             ⎝∂u         ⎠    ⎝∂u         ⎠     ∂                              ∂           ∂               ∂               \n",
       "⎢──(Ω(u, v))⋅──(h(u, v)) - ────────────── - ────────────── + ───(h(u, v))                1.0⋅──(h(u, v))⋅──(h(u, v)) - ─────(h(u, v))    \n",
       "⎢∂u          ∂u                  2                2            2                             ∂u          ∂v            ∂v ∂u             \n",
       "⎢                                                            ∂u                                                                          \n",
       "⎢                                                                                                                                        \n",
       "⎢                                                                                                                 2                2     \n",
       "⎢                                                                                                    ⎛∂          ⎞    ⎛∂          ⎞      \n",
       "⎢                                               2                                                    ⎜──(Φ(u, v))⎟    ⎜──(h(u, v))⎟      \n",
       "⎢                  ∂           ∂               ∂                           ∂           ∂             ⎝∂v         ⎠    ⎝∂v         ⎠     ∂\n",
       "⎢              1.0⋅──(h(u, v))⋅──(h(u, v)) - ─────(h(u, v))                ──(Ω(u, v))⋅──(h(u, v)) - ────────────── - ────────────── + ──\n",
       "⎢                  ∂u          ∂v            ∂v ∂u                         ∂v          ∂v                  2                2            \n",
       "⎢                                                                                                                                      ∂v\n",
       "⎢                                                                                                                                        \n",
       "⎢                                                                                                                                        \n",
       "⎢                                                                                                                                        \n",
       "⎢                                                                                                                                        \n",
       "⎢                                   0                                                                         0                          \n",
       "⎢                                                                                                                                        \n",
       "⎢                                                                                                                                        \n",
       "⎢                                                                                                                                        \n",
       "⎢                                                                                                                                        \n",
       "⎢                                                                                                                                        \n",
       "⎢                                   0                                                                         0                          \n",
       "⎣                                                                                                                                        \n",
       "\n",
       "                                                                                                                                         \n",
       "                                                                                                                                         \n",
       "                                                                                                                                         \n",
       "                                                                                                                                         \n",
       "                                                                                                                                         \n",
       "                                                                                                                                         \n",
       "                                                                                                                                         \n",
       "                                                                                                                                         \n",
       "                                                                                                                                         \n",
       "                                                                                                                                         \n",
       "2                                                                                                                                        \n",
       "                                                                                                                                         \n",
       "─(h(u, v))                                                                                                                               \n",
       "2                                                                                                                                        \n",
       "                                                                                                                                         \n",
       "                                                                                                                                         \n",
       "                                                                                                                                         \n",
       "                ⎛                                                             2                  2          ⎞                            \n",
       "                ⎜  ∂           ∂               ∂           ∂                 ∂                  ∂           ⎟  Ω(u, v)  Φ(u, v)  -h(u, v)\n",
       "            0.5⋅⎜- ──(Φ(u, v))⋅──(Φ(u, v)) - 3⋅──(h(u, v))⋅──(h(u, v)) + 2⋅─────(Ω(u, v)) + 4⋅─────(h(u, v))⎟⋅ℯ       ⋅ℯ       ⋅ℯ        \n",
       "                ⎝  ∂u          ∂v              ∂u          ∂v              ∂v ∂u              ∂v ∂u         ⎠                            \n",
       "                                                                                                                                         \n",
       "                                                                                                                                         \n",
       "                                                                                                                                         \n",
       "                                                                                                                                         \n",
       "                                                                                                                                         \n",
       "                                                                                                                                         \n",
       "\n",
       "                                                                                                                                         \n",
       "                                                                                                                                         \n",
       "                                                                                                                                         \n",
       "                                                                                                                                         \n",
       "         0                                                                                                                               \n",
       "                                                                                                                                         \n",
       "                                                                                                                                         \n",
       "                                                                                                                                         \n",
       "                                                                                                                                         \n",
       "                                                                                                                                         \n",
       "                                                                                                                                         \n",
       "                                                                                                                                         \n",
       "         0                                                                                                                               \n",
       "                                                                                                                                         \n",
       "                                                                                                                                         \n",
       "                                                                                                                                         \n",
       "   ⎛  ∂           ∂             ∂           ∂                                                                      ⎞                     \n",
       "   ⎜  ──(Φ(u, v))⋅──(h(u, v))   ──(Φ(u, v))⋅──(h(u, v))                                2                2          ⎟                     \n",
       "   ⎜  ∂u          ∂v            ∂v          ∂u            ∂           ∂               ∂                ∂           ⎟  Ω(u, v) + Φ(u, v) -\n",
       " + ⎜- ─────────────────────── - ─────────────────────── + ──(h(u, v))⋅──(h(u, v)) + ─────(Φ(u, v)) - ─────(h(u, v))⎟⋅ℯ                   \n",
       "   ⎝             2                         2              ∂u          ∂v            ∂v ∂u            ∂v ∂u         ⎠                     \n",
       "                                                                                                                                         \n",
       "                                                                                                                                         \n",
       "                                                                                                                                         \n",
       "                                                                                                                                         \n",
       "         0                                                                                                                               \n",
       "                                                                                                                                         \n",
       "\n",
       "                                                                                                                                         \n",
       "                                                                                                                                         \n",
       "                                                                                                                                         \n",
       "                                                                                                                                         \n",
       "                                                                                                                                         \n",
       "                                                                                                                                         \n",
       "                                                                                                                                         \n",
       "                                                                                                                                         \n",
       "                                                                                                                                         \n",
       "                                                                                                                                         \n",
       "                                                                                                                                         \n",
       "                                                                                                                                         \n",
       "                                                                                                                                         \n",
       "                                                                                                                                         \n",
       "                                                                                                                                         \n",
       "                                                                                                                                         \n",
       "                                                                                                                                         \n",
       "                                                                                                                                         \n",
       " h(u, v)                                                                                                                                 \n",
       "                                                                                                                                         \n",
       "                                                                                                                                         \n",
       "                                                                                                                                         \n",
       "                                                                                                                                         \n",
       "                ⎛                                                             2                  2          ⎞                            \n",
       "                ⎜  ∂           ∂               ∂           ∂                 ∂                  ∂           ⎟  Ω(u, v)  -Φ(u, v)  -h(u, v\n",
       "          - 0.5⋅⎜- ──(Φ(u, v))⋅──(Φ(u, v)) - 3⋅──(h(u, v))⋅──(h(u, v)) + 2⋅─────(Ω(u, v)) + 4⋅─────(h(u, v))⎟⋅ℯ       ⋅ℯ        ⋅ℯ       \n",
       "                ⎝  ∂u          ∂v              ∂u          ∂v              ∂v ∂u              ∂v ∂u         ⎠                            \n",
       "\n",
       "                                                                                                                                         \n",
       "                                                                                                                                         \n",
       "                                                                                                                                         \n",
       "                                                                                                                                         \n",
       "         0                                                                                                                               \n",
       "                                                                                                                                         \n",
       "                                                                                                                                         \n",
       "                                                                                                                                         \n",
       "                                                                                                                                         \n",
       "                                                                                                                                         \n",
       "                                                                                                                                         \n",
       "                                                                                                                                         \n",
       "         0                                                                                                                               \n",
       "                                                                                                                                         \n",
       "                                                                                                                                         \n",
       "                                                                                                                                         \n",
       "                                                                                                                                         \n",
       "                                                                                                                                         \n",
       "                                                                                                                                         \n",
       "         0                                                                                                                               \n",
       "                                                                                                                                         \n",
       "                                                                                                                                         \n",
       "    ⎛  ∂           ∂             ∂           ∂                                                                      ⎞                    \n",
       "    ⎜  ──(Φ(u, v))⋅──(h(u, v))   ──(Φ(u, v))⋅──(h(u, v))                                2                2          ⎟                    \n",
       ")   ⎜  ∂u          ∂v            ∂v          ∂u            ∂           ∂               ∂                ∂           ⎟  Ω(u, v) - Φ(u, v) \n",
       "  + ⎜- ─────────────────────── - ─────────────────────── - ──(h(u, v))⋅──(h(u, v)) + ─────(Φ(u, v)) + ─────(h(u, v))⎟⋅ℯ                  \n",
       "    ⎝             2                         2              ∂u          ∂v            ∂v ∂u            ∂v ∂u         ⎠                    \n",
       "\n",
       "         ⎤\n",
       "         ⎥\n",
       "         ⎥\n",
       "         ⎥\n",
       "         ⎥\n",
       "         ⎥\n",
       "         ⎥\n",
       "         ⎥\n",
       "         ⎥\n",
       "         ⎥\n",
       "         ⎥\n",
       "         ⎥\n",
       "         ⎥\n",
       "         ⎥\n",
       "         ⎥\n",
       "         ⎥\n",
       "         ⎥\n",
       "         ⎥\n",
       "         ⎥\n",
       "         ⎥\n",
       "         ⎥\n",
       "         ⎥\n",
       "         ⎥\n",
       "         ⎥\n",
       "- h(u, v)⎥\n",
       "         ⎥\n",
       "         ⎦"
      ]
     },
     "execution_count": 21,
     "metadata": {},
     "output_type": "execute_result"
    }
   ],
   "source": [
    "einst = EinsteinTensor.from_metric(metric)\n",
    "einst.tensor()"
   ]
  },
  {
   "cell_type": "code",
   "execution_count": 22,
   "id": "a4142a8a",
   "metadata": {},
   "outputs": [],
   "source": [
    "#  rm1 = RiemannCurvatureTensor.from_christoffels(ch)\n",
    "#  rm1.tensor()"
   ]
  },
  {
   "cell_type": "code",
   "execution_count": 23,
   "id": "c9d3ba22",
   "metadata": {},
   "outputs": [],
   "source": [
    "#  weyl = WeylTensor.from_metric(metric)\n",
    "#  weyl.tensor()"
   ]
  },
  {
   "cell_type": "code",
   "execution_count": 24,
   "id": "ad55c99b",
   "metadata": {},
   "outputs": [
    {
     "data": {
      "text/latex": [
       "$\\displaystyle \\left[\\begin{matrix}\\frac{\\partial}{\\partial u} \\Omega{\\left(u,v \\right)} \\frac{\\partial}{\\partial u} h{\\left(u,v \\right)} - \\frac{\\left(\\frac{\\partial}{\\partial u} \\Phi{\\left(u,v \\right)}\\right)^{2}}{2} - \\frac{\\left(\\frac{\\partial}{\\partial u} h{\\left(u,v \\right)}\\right)^{2}}{2} + \\frac{\\partial^{2}}{\\partial u^{2}} h{\\left(u,v \\right)} & - \\frac{\\frac{\\partial}{\\partial u} \\Phi{\\left(u,v \\right)} \\frac{\\partial}{\\partial v} \\Phi{\\left(u,v \\right)}}{2} - \\frac{\\frac{\\partial}{\\partial u} h{\\left(u,v \\right)} \\frac{\\partial}{\\partial v} h{\\left(u,v \\right)}}{2} + \\frac{\\partial^{2}}{\\partial v\\partial u} \\Omega{\\left(u,v \\right)} + \\frac{\\partial^{2}}{\\partial v\\partial u} h{\\left(u,v \\right)} & 0 & 0\\\\- \\frac{\\frac{\\partial}{\\partial u} \\Phi{\\left(u,v \\right)} \\frac{\\partial}{\\partial v} \\Phi{\\left(u,v \\right)}}{2} - \\frac{\\frac{\\partial}{\\partial u} h{\\left(u,v \\right)} \\frac{\\partial}{\\partial v} h{\\left(u,v \\right)}}{2} + \\frac{\\partial^{2}}{\\partial v\\partial u} \\Omega{\\left(u,v \\right)} + \\frac{\\partial^{2}}{\\partial v\\partial u} h{\\left(u,v \\right)} & \\frac{\\partial}{\\partial v} \\Omega{\\left(u,v \\right)} \\frac{\\partial}{\\partial v} h{\\left(u,v \\right)} - \\frac{\\left(\\frac{\\partial}{\\partial v} \\Phi{\\left(u,v \\right)}\\right)^{2}}{2} - \\frac{\\left(\\frac{\\partial}{\\partial v} h{\\left(u,v \\right)}\\right)^{2}}{2} + \\frac{\\partial^{2}}{\\partial v^{2}} h{\\left(u,v \\right)} & 0 & 0\\\\0 & 0 & \\left(- \\frac{\\frac{\\partial}{\\partial u} \\Phi{\\left(u,v \\right)} \\frac{\\partial}{\\partial v} h{\\left(u,v \\right)}}{2} - \\frac{\\frac{\\partial}{\\partial v} \\Phi{\\left(u,v \\right)} \\frac{\\partial}{\\partial u} h{\\left(u,v \\right)}}{2} + \\frac{\\partial}{\\partial u} h{\\left(u,v \\right)} \\frac{\\partial}{\\partial v} h{\\left(u,v \\right)} + \\frac{\\partial^{2}}{\\partial v\\partial u} \\Phi{\\left(u,v \\right)} - \\frac{\\partial^{2}}{\\partial v\\partial u} h{\\left(u,v \\right)}\\right) e^{\\Omega{\\left(u,v \\right)} + \\Phi{\\left(u,v \\right)} - h{\\left(u,v \\right)}} & 0\\\\0 & 0 & 0 & \\left(- \\frac{\\frac{\\partial}{\\partial u} \\Phi{\\left(u,v \\right)} \\frac{\\partial}{\\partial v} h{\\left(u,v \\right)}}{2} - \\frac{\\frac{\\partial}{\\partial v} \\Phi{\\left(u,v \\right)} \\frac{\\partial}{\\partial u} h{\\left(u,v \\right)}}{2} - \\frac{\\partial}{\\partial u} h{\\left(u,v \\right)} \\frac{\\partial}{\\partial v} h{\\left(u,v \\right)} + \\frac{\\partial^{2}}{\\partial v\\partial u} \\Phi{\\left(u,v \\right)} + \\frac{\\partial^{2}}{\\partial v\\partial u} h{\\left(u,v \\right)}\\right) e^{\\Omega{\\left(u,v \\right)} - \\Phi{\\left(u,v \\right)} - h{\\left(u,v \\right)}}\\end{matrix}\\right]$"
      ],
      "text/plain": [
       "⎡                                             2                2                                                                         \n",
       "⎢                                ⎛∂          ⎞    ⎛∂          ⎞                           ∂           ∂             ∂           ∂        \n",
       "⎢                                ⎜──(Φ(u, v))⎟    ⎜──(h(u, v))⎟      2                    ──(Φ(u, v))⋅──(Φ(u, v))   ──(h(u, v))⋅──(h(u, v\n",
       "⎢      ∂           ∂             ⎝∂u         ⎠    ⎝∂u         ⎠     ∂                     ∂u          ∂v            ∂u          ∂v       \n",
       "⎢      ──(Ω(u, v))⋅──(h(u, v)) - ────────────── - ────────────── + ───(h(u, v))         - ─────────────────────── - ─────────────────────\n",
       "⎢      ∂u          ∂u                  2                2            2                               2                         2         \n",
       "⎢                                                                  ∂u                                                                    \n",
       "⎢                                                                                                                                        \n",
       "⎢                                                                                                                                    2   \n",
       "⎢  ∂           ∂             ∂           ∂                                                                              ⎛∂          ⎞    \n",
       "⎢  ──(Φ(u, v))⋅──(Φ(u, v))   ──(h(u, v))⋅──(h(u, v))      2                2                                            ⎜──(Φ(u, v))⎟    \n",
       "⎢  ∂u          ∂v            ∂u          ∂v              ∂                ∂                   ∂           ∂             ⎝∂v         ⎠    \n",
       "⎢- ─────────────────────── - ─────────────────────── + ─────(Ω(u, v)) + ─────(h(u, v))        ──(Ω(u, v))⋅──(h(u, v)) - ────────────── - \n",
       "⎢             2                         2              ∂v ∂u            ∂v ∂u                 ∂v          ∂v                  2          \n",
       "⎢                                                                                                                                        \n",
       "⎢                                                                                                                                        \n",
       "⎢                                                                                                                                        \n",
       "⎢                                                                                                                                        \n",
       "⎢                                                                                                                                        \n",
       "⎢                                          0                                                                                      0      \n",
       "⎢                                                                                                                                        \n",
       "⎢                                                                                                                                        \n",
       "⎢                                                                                                                                        \n",
       "⎢                                                                                                                                        \n",
       "⎢                                                                                                                                        \n",
       "⎢                                          0                                                                                      0      \n",
       "⎣                                                                                                                                        \n",
       "\n",
       "                                                                                                                                         \n",
       "                                                                                                                                         \n",
       "))      2                2                                                                                                               \n",
       "       ∂                ∂                                                                                                                \n",
       "── + ─────(Ω(u, v)) + ─────(h(u, v))                                                                        0                            \n",
       "     ∂v ∂u            ∂v ∂u                                                                                                              \n",
       "                                                                                                                                         \n",
       "                                                                                                                                         \n",
       "             2                                                                                                                           \n",
       "⎛∂          ⎞                                                                                                                            \n",
       "⎜──(h(u, v))⎟      2                                                                                                                     \n",
       "⎝∂v         ⎠     ∂                                                                                                                      \n",
       "────────────── + ───(h(u, v))                                                                               0                            \n",
       "      2            2                                                                                                                     \n",
       "                 ∂v                                                                                                                      \n",
       "                                                                                                                                         \n",
       "                                      ⎛  ∂           ∂             ∂           ∂                                                         \n",
       "                                      ⎜  ──(Φ(u, v))⋅──(h(u, v))   ──(Φ(u, v))⋅──(h(u, v))                                2              \n",
       "                                      ⎜  ∂u          ∂v            ∂v          ∂u            ∂           ∂               ∂               \n",
       "                                      ⎜- ─────────────────────── - ─────────────────────── + ──(h(u, v))⋅──(h(u, v)) + ─────(Φ(u, v)) - ─\n",
       "                                      ⎝             2                         2              ∂u          ∂v            ∂v ∂u            ∂\n",
       "                                                                                                                                         \n",
       "                                                                                                                                         \n",
       "                                                                                                                                         \n",
       "                                                                                                                                         \n",
       "                                                                                                            0                            \n",
       "                                                                                                                                         \n",
       "\n",
       "                                                                                                                                         \n",
       "                                                                                                                                         \n",
       "                                                                                                                                         \n",
       "                                                                                                                                         \n",
       "                                                                                                                   0                     \n",
       "                                                                                                                                         \n",
       "                                                                                                                                         \n",
       "                                                                                                                                         \n",
       "                                                                                                                                         \n",
       "                                                                                                                                         \n",
       "                                                                                                                                         \n",
       "                                                                                                                                         \n",
       "                                                                                                                   0                     \n",
       "                                                                                                                                         \n",
       "                                                                                                                                         \n",
       "                                                                                                                                         \n",
       "             ⎞                                                                                                                           \n",
       "  2          ⎟                                                                                                                           \n",
       " ∂           ⎟  Ω(u, v) + Φ(u, v) - h(u, v)                                                                                              \n",
       "────(h(u, v))⎟⋅ℯ                                                                                                   0                     \n",
       "v ∂u         ⎠                                                                                                                           \n",
       "                                                                                                                                         \n",
       "                                             ⎛  ∂           ∂             ∂           ∂                                                  \n",
       "                                             ⎜  ──(Φ(u, v))⋅──(h(u, v))   ──(Φ(u, v))⋅──(h(u, v))                                2       \n",
       "                                             ⎜  ∂u          ∂v            ∂v          ∂u            ∂           ∂               ∂        \n",
       "                                             ⎜- ─────────────────────── - ─────────────────────── - ──(h(u, v))⋅──(h(u, v)) + ─────(Φ(u, \n",
       "                                             ⎝             2                         2              ∂u          ∂v            ∂v ∂u      \n",
       "\n",
       "                                                  ⎤\n",
       "                                                  ⎥\n",
       "                                                  ⎥\n",
       "                                                  ⎥\n",
       "                                                  ⎥\n",
       "                                                  ⎥\n",
       "                                                  ⎥\n",
       "                                                  ⎥\n",
       "                                                  ⎥\n",
       "                                                  ⎥\n",
       "                                                  ⎥\n",
       "                                                  ⎥\n",
       "                                                  ⎥\n",
       "                                                  ⎥\n",
       "                                                  ⎥\n",
       "                                                  ⎥\n",
       "                                                  ⎥\n",
       "                                                  ⎥\n",
       "                                                  ⎥\n",
       "                                                  ⎥\n",
       "                                                  ⎥\n",
       "                                                  ⎥\n",
       "                    ⎞                             ⎥\n",
       "         2          ⎟                             ⎥\n",
       "        ∂           ⎟  Ω(u, v) - Φ(u, v) - h(u, v)⎥\n",
       "v)) + ─────(h(u, v))⎟⋅ℯ                           ⎥\n",
       "      ∂v ∂u         ⎠                             ⎦"
      ]
     },
     "execution_count": 24,
     "metadata": {},
     "output_type": "execute_result"
    }
   ],
   "source": [
    "ricciSimplified = simplify(Ric.tensor())\n",
    "ricciSimplified"
   ]
  },
  {
   "cell_type": "code",
   "execution_count": 25,
   "id": "c3db76d0",
   "metadata": {},
   "outputs": [
    {
     "data": {
      "text/latex": [
       "$\\displaystyle \\left[\\begin{matrix}\\frac{\\partial}{\\partial u} \\Omega{\\left(u,v \\right)} \\frac{\\partial}{\\partial u} h{\\left(u,v \\right)} - \\frac{\\left(\\frac{\\partial}{\\partial u} \\Phi{\\left(u,v \\right)}\\right)^{2}}{2} - \\frac{\\left(\\frac{\\partial}{\\partial u} h{\\left(u,v \\right)}\\right)^{2}}{2} + \\frac{\\partial^{2}}{\\partial u^{2}} h{\\left(u,v \\right)} & 1.0 \\frac{\\partial}{\\partial u} h{\\left(u,v \\right)} \\frac{\\partial}{\\partial v} h{\\left(u,v \\right)} - 1.0 \\frac{\\partial^{2}}{\\partial v\\partial u} h{\\left(u,v \\right)} & 0 & 0\\\\1.0 \\frac{\\partial}{\\partial u} h{\\left(u,v \\right)} \\frac{\\partial}{\\partial v} h{\\left(u,v \\right)} - 1.0 \\frac{\\partial^{2}}{\\partial v\\partial u} h{\\left(u,v \\right)} & \\frac{\\partial}{\\partial v} \\Omega{\\left(u,v \\right)} \\frac{\\partial}{\\partial v} h{\\left(u,v \\right)} - \\frac{\\left(\\frac{\\partial}{\\partial v} \\Phi{\\left(u,v \\right)}\\right)^{2}}{2} - \\frac{\\left(\\frac{\\partial}{\\partial v} h{\\left(u,v \\right)}\\right)^{2}}{2} + \\frac{\\partial^{2}}{\\partial v^{2}} h{\\left(u,v \\right)} & 0 & 0\\\\0 & 0 & \\left(- 0.5 \\frac{\\partial}{\\partial u} \\Phi{\\left(u,v \\right)} \\frac{\\partial}{\\partial v} \\Phi{\\left(u,v \\right)} - \\frac{\\frac{\\partial}{\\partial u} \\Phi{\\left(u,v \\right)} \\frac{\\partial}{\\partial v} h{\\left(u,v \\right)}}{2} - \\frac{\\frac{\\partial}{\\partial v} \\Phi{\\left(u,v \\right)} \\frac{\\partial}{\\partial u} h{\\left(u,v \\right)}}{2} - 0.5 \\frac{\\partial}{\\partial u} h{\\left(u,v \\right)} \\frac{\\partial}{\\partial v} h{\\left(u,v \\right)} + \\frac{\\partial^{2}}{\\partial v\\partial u} \\Omega{\\left(u,v \\right)} + \\frac{\\partial^{2}}{\\partial v\\partial u} \\Phi{\\left(u,v \\right)} + \\frac{\\partial^{2}}{\\partial v\\partial u} h{\\left(u,v \\right)}\\right) e^{\\Omega{\\left(u,v \\right)} + \\Phi{\\left(u,v \\right)} - h{\\left(u,v \\right)}} & 0\\\\0 & 0 & 0 & \\frac{\\left(\\frac{\\partial}{\\partial u} \\Phi{\\left(u,v \\right)} \\frac{\\partial}{\\partial v} \\Phi{\\left(u,v \\right)} - \\frac{\\partial}{\\partial u} \\Phi{\\left(u,v \\right)} \\frac{\\partial}{\\partial v} h{\\left(u,v \\right)} - \\frac{\\partial}{\\partial v} \\Phi{\\left(u,v \\right)} \\frac{\\partial}{\\partial u} h{\\left(u,v \\right)} + \\frac{\\partial}{\\partial u} h{\\left(u,v \\right)} \\frac{\\partial}{\\partial v} h{\\left(u,v \\right)} - 2 \\frac{\\partial^{2}}{\\partial v\\partial u} \\Omega{\\left(u,v \\right)} + 2 \\frac{\\partial^{2}}{\\partial v\\partial u} \\Phi{\\left(u,v \\right)} - 2 \\frac{\\partial^{2}}{\\partial v\\partial u} h{\\left(u,v \\right)}\\right) e^{\\Omega{\\left(u,v \\right)} - \\Phi{\\left(u,v \\right)} - h{\\left(u,v \\right)}}}{2}\\end{matrix}\\right]$"
      ],
      "text/plain": [
       "⎡                                       2                2                                                                               \n",
       "⎢                          ⎛∂          ⎞    ⎛∂          ⎞                                                                                \n",
       "⎢                          ⎜──(Φ(u, v))⎟    ⎜──(h(u, v))⎟      2                                                          2              \n",
       "⎢∂           ∂             ⎝∂u         ⎠    ⎝∂u         ⎠     ∂                              ∂           ∂               ∂               \n",
       "⎢──(Ω(u, v))⋅──(h(u, v)) - ────────────── - ────────────── + ───(h(u, v))                1.0⋅──(h(u, v))⋅──(h(u, v)) - ─────(h(u, v))    \n",
       "⎢∂u          ∂u                  2                2            2                             ∂u          ∂v            ∂v ∂u             \n",
       "⎢                                                            ∂u                                                                          \n",
       "⎢                                                                                                                                        \n",
       "⎢                                                                                                                 2                2     \n",
       "⎢                                                                                                    ⎛∂          ⎞    ⎛∂          ⎞      \n",
       "⎢                                               2                                                    ⎜──(Φ(u, v))⎟    ⎜──(h(u, v))⎟      \n",
       "⎢                  ∂           ∂               ∂                           ∂           ∂             ⎝∂v         ⎠    ⎝∂v         ⎠     ∂\n",
       "⎢              1.0⋅──(h(u, v))⋅──(h(u, v)) - ─────(h(u, v))                ──(Ω(u, v))⋅──(h(u, v)) - ────────────── - ────────────── + ──\n",
       "⎢                  ∂u          ∂v            ∂v ∂u                         ∂v          ∂v                  2                2            \n",
       "⎢                                                                                                                                      ∂v\n",
       "⎢                                                                                                                                        \n",
       "⎢                                                                                                                                        \n",
       "⎢                                                                                                                                        \n",
       "⎢                                                                                                                                        \n",
       "⎢                                   0                                                                         0                          \n",
       "⎢                                                                                                                                        \n",
       "⎢                                                                                                                                        \n",
       "⎢                                                                                                                                        \n",
       "⎢                                                                                                                                        \n",
       "⎢                                                                                                                                        \n",
       "⎢                                                                                                                                        \n",
       "⎢                                   0                                                                         0                          \n",
       "⎣                                                                                                                                        \n",
       "\n",
       "                                                                                                                                         \n",
       "                                                                                                                                         \n",
       "                                                                                                                                         \n",
       "                                                                                                                                         \n",
       "                                                                                                            0                            \n",
       "                                                                                                                                         \n",
       "                                                                                                                                         \n",
       "                                                                                                                                         \n",
       "                                                                                                                                         \n",
       "                                                                                                                                         \n",
       "2                                                                                                                                        \n",
       "                                                                                                                                         \n",
       "─(h(u, v))                                                                                                  0                            \n",
       "2                                                                                                                                        \n",
       "                                                                                                                                         \n",
       "                                                                                                                                         \n",
       "            ⎛                                ∂           ∂             ∂           ∂                                                     \n",
       "            ⎜                                ──(Φ(u, v))⋅──(h(u, v))   ──(Φ(u, v))⋅──(h(u, v))                                    2      \n",
       "            ⎜      ∂           ∂             ∂u          ∂v            ∂v          ∂u                ∂           ∂               ∂       \n",
       "            ⎜- 0.5⋅──(Φ(u, v))⋅──(Φ(u, v)) - ─────────────────────── - ─────────────────────── - 0.5⋅──(h(u, v))⋅──(h(u, v)) + ─────(Ω(u,\n",
       "            ⎝      ∂u          ∂v                       2                         2                  ∂u          ∂v            ∂v ∂u     \n",
       "                                                                                                                                         \n",
       "                                                                                                                                         \n",
       "                                                                                                                                         \n",
       "                                                                                                                                         \n",
       "                                                                                                                                         \n",
       "                                                                                                            0                            \n",
       "                                                                                                                                         \n",
       "\n",
       "                                                                                                                                         \n",
       "                                                                                                                                         \n",
       "                                                                                                                                         \n",
       "                                                                                                                                         \n",
       "                                                                                                                                         \n",
       "                                                                                                                                         \n",
       "                                                                                                                                         \n",
       "                                                                                                                                         \n",
       "                                                                                                                                         \n",
       "                                                                                                                                         \n",
       "                                                                                                                                         \n",
       "                                                                                                                                         \n",
       "                                                                                                                                         \n",
       "                                                                                                                                         \n",
       "                                                                                                                                         \n",
       "                                                                                                                                         \n",
       "                                      ⎞                                                                                                  \n",
       "          2                2          ⎟                                                                                                  \n",
       "         ∂                ∂           ⎟  Ω(u, v) + Φ(u, v) - h(u, v)                                                                     \n",
       " v)) + ─────(Φ(u, v)) + ─────(h(u, v))⎟⋅ℯ                                                                                                \n",
       "       ∂v ∂u            ∂v ∂u         ⎠                                                                                                  \n",
       "                                                                                                                                         \n",
       "                                                                      ⎛                                                                  \n",
       "                                                                      ⎜∂           ∂             ∂           ∂             ∂           ∂ \n",
       "                                                                      ⎜──(Φ(u, v))⋅──(Φ(u, v)) - ──(Φ(u, v))⋅──(h(u, v)) - ──(Φ(u, v))⋅──\n",
       "                                                                      ⎝∂u          ∂v            ∂u          ∂v            ∂v          ∂u\n",
       "                                                                      ───────────────────────────────────────────────────────────────────\n",
       "                                                                                                                                         \n",
       "\n",
       "                                                                                                                          ⎤\n",
       "                                                                                                                          ⎥\n",
       "                                                                                                                          ⎥\n",
       "                                                                                                                          ⎥\n",
       "                           0                                                                                              ⎥\n",
       "                                                                                                                          ⎥\n",
       "                                                                                                                          ⎥\n",
       "                                                                                                                          ⎥\n",
       "                                                                                                                          ⎥\n",
       "                                                                                                                          ⎥\n",
       "                                                                                                                          ⎥\n",
       "                                                                                                                          ⎥\n",
       "                           0                                                                                              ⎥\n",
       "                                                                                                                          ⎥\n",
       "                                                                                                                          ⎥\n",
       "                                                                                                                          ⎥\n",
       "                                                                                                                          ⎥\n",
       "                                                                                                                          ⎥\n",
       "                                                                                                                          ⎥\n",
       "                           0                                                                                              ⎥\n",
       "                                                                                                                          ⎥\n",
       "                                                                                                                          ⎥\n",
       "                                           2                  2                  2          ⎞                             ⎥\n",
       "            ∂           ∂                 ∂                  ∂                  ∂           ⎟  Ω(u, v) - Φ(u, v) - h(u, v)⎥\n",
       "(h(u, v)) + ──(h(u, v))⋅──(h(u, v)) - 2⋅─────(Ω(u, v)) + 2⋅─────(Φ(u, v)) - 2⋅─────(h(u, v))⎟⋅ℯ                           ⎥\n",
       "            ∂u          ∂v              ∂v ∂u              ∂v ∂u              ∂v ∂u         ⎠                             ⎥\n",
       "──────────────────────────────────────────────────────────────────────────────────────────────────────────────────────────⎥\n",
       "                           2                                                                                              ⎦"
      ]
     },
     "execution_count": 25,
     "metadata": {},
     "output_type": "execute_result"
    }
   ],
   "source": [
    "einsteinSimplified = simplify(einst.tensor())\n",
    "einsteinSimplified"
   ]
  },
  {
   "cell_type": "code",
   "execution_count": 52,
   "id": "d6fc4f91",
   "metadata": {},
   "outputs": [
    {
     "data": {
      "image/png": "[encoded data removed]",
      "text/latex": [
       "$\\displaystyle \\frac{\\partial^{2}}{\\partial v\\partial u} h{\\left(u,v \\right)} = \\frac{\\partial}{\\partial u} h{\\left(u,v \\right)} \\frac{\\partial}{\\partial v} h{\\left(u,v \\right)}$"
      ],
      "text/plain": [
       "   2                                    \n",
       "  ∂              ∂           ∂          \n",
       "─────(h(u, v)) = ──(h(u, v))⋅──(h(u, v))\n",
       "∂v ∂u            ∂u          ∂v         "
      ]
     },
     "execution_count": 52,
     "metadata": {},
     "output_type": "execute_result"
    }
   ],
   "source": [
    "fieldEquation1 = Eq( diff(h,u,v) , solve( einsteinSimplified[1,0] , diff(h,u,v) )[0] ) \n",
    "fieldEquation1"
   ]
  },
  {
   "cell_type": "code",
   "execution_count": 53,
   "id": "d9f301d7",
   "metadata": {},
   "outputs": [
    {
     "data": {
      "image/png": "[encoded data removed]",
      "text/latex": [
       "$\\displaystyle \\frac{\\partial^{2}}{\\partial u^{2}} h{\\left(u,v \\right)} = - \\frac{\\partial}{\\partial u} \\Omega{\\left(u,v \\right)} \\frac{\\partial}{\\partial u} h{\\left(u,v \\right)} + \\frac{\\left(\\frac{\\partial}{\\partial u} \\Phi{\\left(u,v \\right)}\\right)^{2}}{2} + \\frac{\\left(\\frac{\\partial}{\\partial u} h{\\left(u,v \\right)}\\right)^{2}}{2}$"
      ],
      "text/plain": [
       "                                                        2                2\n",
       "                                           ⎛∂          ⎞    ⎛∂          ⎞ \n",
       "  2                                        ⎜──(Φ(u, v))⎟    ⎜──(h(u, v))⎟ \n",
       " ∂               ∂           ∂             ⎝∂u         ⎠    ⎝∂u         ⎠ \n",
       "───(h(u, v)) = - ──(Ω(u, v))⋅──(h(u, v)) + ────────────── + ──────────────\n",
       "  2              ∂u          ∂u                  2                2       \n",
       "∂u                                                                        "
      ]
     },
     "execution_count": 53,
     "metadata": {},
     "output_type": "execute_result"
    }
   ],
   "source": [
    "fieldEquation2 = Eq(diff(h,u,u), solve( einsteinSimplified[0,0] , diff(h,u,u) )[0] ) \n",
    "fieldEquation2"
   ]
  },
  {
   "cell_type": "code",
   "execution_count": 54,
   "id": "7a1f5a81",
   "metadata": {},
   "outputs": [
    {
     "data": {
      "image/png": "[encoded data removed]",
      "text/latex": [
       "$\\displaystyle \\frac{\\partial^{2}}{\\partial v^{2}} h{\\left(u,v \\right)} = - \\frac{\\partial}{\\partial v} \\Omega{\\left(u,v \\right)} \\frac{\\partial}{\\partial v} h{\\left(u,v \\right)} + \\frac{\\left(\\frac{\\partial}{\\partial v} \\Phi{\\left(u,v \\right)}\\right)^{2}}{2} + \\frac{\\left(\\frac{\\partial}{\\partial v} h{\\left(u,v \\right)}\\right)^{2}}{2}$"
      ],
      "text/plain": [
       "                                                        2                2\n",
       "                                           ⎛∂          ⎞    ⎛∂          ⎞ \n",
       "  2                                        ⎜──(Φ(u, v))⎟    ⎜──(h(u, v))⎟ \n",
       " ∂               ∂           ∂             ⎝∂v         ⎠    ⎝∂v         ⎠ \n",
       "───(h(u, v)) = - ──(Ω(u, v))⋅──(h(u, v)) + ────────────── + ──────────────\n",
       "  2              ∂v          ∂v                  2                2       \n",
       "∂v                                                                        "
      ]
     },
     "execution_count": 54,
     "metadata": {},
     "output_type": "execute_result"
    }
   ],
   "source": [
    "fieldEquation3 = Eq(diff(h,v,v), solve( einsteinSimplified[1,1] , diff(h,v,v) )[0] ) \n",
    "fieldEquation3"
   ]
  },
  {
   "cell_type": "code",
   "execution_count": 45,
   "id": "68da84c5",
   "metadata": {},
   "outputs": [
    {
     "data": {
      "image/png": "[encoded data removed]",
      "text/latex": [
       "$\\displaystyle - \\frac{\\frac{\\partial}{\\partial u} \\Phi{\\left(u,v \\right)} \\frac{\\partial}{\\partial v} h{\\left(u,v \\right)}}{2} - \\frac{\\frac{\\partial}{\\partial v} \\Phi{\\left(u,v \\right)} \\frac{\\partial}{\\partial u} h{\\left(u,v \\right)}}{2} + \\frac{\\partial}{\\partial u} h{\\left(u,v \\right)} \\frac{\\partial}{\\partial v} h{\\left(u,v \\right)} + \\frac{\\partial^{2}}{\\partial v\\partial u} \\Phi{\\left(u,v \\right)} - \\frac{\\partial^{2}}{\\partial v\\partial u} h{\\left(u,v \\right)}$"
      ],
      "text/plain": [
       "  ∂           ∂             ∂           ∂                                                                      \n",
       "  ──(Φ(u, v))⋅──(h(u, v))   ──(Φ(u, v))⋅──(h(u, v))                                2                2          \n",
       "  ∂u          ∂v            ∂v          ∂u            ∂           ∂               ∂                ∂           \n",
       "- ─────────────────────── - ─────────────────────── + ──(h(u, v))⋅──(h(u, v)) + ─────(Φ(u, v)) - ─────(h(u, v))\n",
       "             2                         2              ∂u          ∂v            ∂v ∂u            ∂v ∂u         "
      ]
     },
     "execution_count": 45,
     "metadata": {},
     "output_type": "execute_result"
    }
   ],
   "source": [
    "ricciSimplified[2,2].args[0]"
   ]
  },
  {
   "cell_type": "code",
   "execution_count": 51,
   "id": "6280d107",
   "metadata": {},
   "outputs": [
    {
     "data": {
      "image/png": "[encoded data removed]",
      "text/latex": [
       "$\\displaystyle \\frac{\\partial^{2}}{\\partial v\\partial u} \\Phi{\\left(u,v \\right)} = \\frac{\\frac{\\partial}{\\partial u} \\Phi{\\left(u,v \\right)} \\frac{\\partial}{\\partial v} h{\\left(u,v \\right)}}{2} + \\frac{\\frac{\\partial}{\\partial v} \\Phi{\\left(u,v \\right)} \\frac{\\partial}{\\partial u} h{\\left(u,v \\right)}}{2}$"
      ],
      "text/plain": [
       "                 ∂           ∂             ∂           ∂          \n",
       "   2             ──(Φ(u, v))⋅──(h(u, v))   ──(Φ(u, v))⋅──(h(u, v))\n",
       "  ∂              ∂u          ∂v            ∂v          ∂u         \n",
       "─────(Φ(u, v)) = ─────────────────────── + ───────────────────────\n",
       "∂v ∂u                       2                         2           "
      ]
     },
     "execution_count": 51,
     "metadata": {},
     "output_type": "execute_result"
    }
   ],
   "source": [
    "fieldEquation5 = Eq(diff(Phi,u,v), solve( ( ricciSimplified[3,3].args[0] + ricciSimplified[2,2].args[0] ) , diff(Phi,u,v) )[0] )\n",
    "fieldEquation5"
   ]
  },
  {
   "cell_type": "code",
   "execution_count": 65,
   "id": "1a470c9b",
   "metadata": {},
   "outputs": [
    {
     "data": {
      "image/png": "[encoded data removed]",
      "text/latex": [
       "$\\displaystyle \\frac{\\partial^{2}}{\\partial v\\partial u} \\Omega{\\left(u,v \\right)} = \\frac{\\frac{\\partial}{\\partial u} \\Phi{\\left(u,v \\right)} \\frac{\\partial}{\\partial v} \\Phi{\\left(u,v \\right)}}{2} - \\frac{\\frac{\\partial}{\\partial u} h{\\left(u,v \\right)} \\frac{\\partial}{\\partial v} h{\\left(u,v \\right)}}{2}$"
      ],
      "text/plain": [
       "                 ∂           ∂             ∂           ∂          \n",
       "   2             ──(Φ(u, v))⋅──(Φ(u, v))   ──(h(u, v))⋅──(h(u, v))\n",
       "  ∂              ∂u          ∂v            ∂u          ∂v         \n",
       "─────(Ω(u, v)) = ─────────────────────── - ───────────────────────\n",
       "∂v ∂u                       2                         2           "
      ]
     },
     "execution_count": 65,
     "metadata": {},
     "output_type": "execute_result"
    }
   ],
   "source": [
    "fieldEquation4 = Eq(diff(Omega,u,v) , solve(  simplify( einsteinSimplified[2,2].args[0] + einsteinSimplified[3,3].args[1] ).subs(fieldEquation5.args[0],fieldEquation5.args[1]).subs(fieldEquation1.args[0],fieldEquation1.args[1]) , diff(Omega,u,v))[0] )\n",
    "fieldEquation4"
   ]
  },
  {
   "cell_type": "code",
   "execution_count": 67,
   "id": "7f7169ff",
   "metadata": {},
   "outputs": [
    {
     "data": {
      "text/latex": [
       "$\\displaystyle \\left[\\begin{matrix}\\frac{\\partial^{2}}{\\partial v\\partial u} h{\\left(u,v \\right)} = \\frac{\\partial}{\\partial u} h{\\left(u,v \\right)} \\frac{\\partial}{\\partial v} h{\\left(u,v \\right)}\\\\\\frac{\\partial^{2}}{\\partial u^{2}} h{\\left(u,v \\right)} = - \\frac{\\partial}{\\partial u} \\Omega{\\left(u,v \\right)} \\frac{\\partial}{\\partial u} h{\\left(u,v \\right)} + \\frac{\\left(\\frac{\\partial}{\\partial u} \\Phi{\\left(u,v \\right)}\\right)^{2}}{2} + \\frac{\\left(\\frac{\\partial}{\\partial u} h{\\left(u,v \\right)}\\right)^{2}}{2}\\\\\\frac{\\partial^{2}}{\\partial v^{2}} h{\\left(u,v \\right)} = - \\frac{\\partial}{\\partial v} \\Omega{\\left(u,v \\right)} \\frac{\\partial}{\\partial v} h{\\left(u,v \\right)} + \\frac{\\left(\\frac{\\partial}{\\partial v} \\Phi{\\left(u,v \\right)}\\right)^{2}}{2} + \\frac{\\left(\\frac{\\partial}{\\partial v} h{\\left(u,v \\right)}\\right)^{2}}{2}\\\\\\frac{\\partial^{2}}{\\partial v\\partial u} \\Omega{\\left(u,v \\right)} = \\frac{\\frac{\\partial}{\\partial u} \\Phi{\\left(u,v \\right)} \\frac{\\partial}{\\partial v} \\Phi{\\left(u,v \\right)}}{2} - \\frac{\\frac{\\partial}{\\partial u} h{\\left(u,v \\right)} \\frac{\\partial}{\\partial v} h{\\left(u,v \\right)}}{2}\\\\\\frac{\\partial^{2}}{\\partial v\\partial u} \\Phi{\\left(u,v \\right)} = \\frac{\\frac{\\partial}{\\partial u} \\Phi{\\left(u,v \\right)} \\frac{\\partial}{\\partial v} h{\\left(u,v \\right)}}{2} + \\frac{\\frac{\\partial}{\\partial v} \\Phi{\\left(u,v \\right)} \\frac{\\partial}{\\partial u} h{\\left(u,v \\right)}}{2}\\end{matrix}\\right]$"
      ],
      "text/plain": [
       "⎡                    2                                                     ⎤\n",
       "⎢                   ∂              ∂           ∂                           ⎥\n",
       "⎢                 ─────(h(u, v)) = ──(h(u, v))⋅──(h(u, v))                 ⎥\n",
       "⎢                 ∂v ∂u            ∂u          ∂v                          ⎥\n",
       "⎢                                                                          ⎥\n",
       "⎢                                                        2                2⎥\n",
       "⎢                                           ⎛∂          ⎞    ⎛∂          ⎞ ⎥\n",
       "⎢  2                                        ⎜──(Φ(u, v))⎟    ⎜──(h(u, v))⎟ ⎥\n",
       "⎢ ∂               ∂           ∂             ⎝∂u         ⎠    ⎝∂u         ⎠ ⎥\n",
       "⎢───(h(u, v)) = - ──(Ω(u, v))⋅──(h(u, v)) + ────────────── + ──────────────⎥\n",
       "⎢  2              ∂u          ∂u                  2                2       ⎥\n",
       "⎢∂u                                                                        ⎥\n",
       "⎢                                                                          ⎥\n",
       "⎢                                                        2                2⎥\n",
       "⎢                                           ⎛∂          ⎞    ⎛∂          ⎞ ⎥\n",
       "⎢  2                                        ⎜──(Φ(u, v))⎟    ⎜──(h(u, v))⎟ ⎥\n",
       "⎢ ∂               ∂           ∂             ⎝∂v         ⎠    ⎝∂v         ⎠ ⎥\n",
       "⎢───(h(u, v)) = - ──(Ω(u, v))⋅──(h(u, v)) + ────────────── + ──────────────⎥\n",
       "⎢  2              ∂v          ∂v                  2                2       ⎥\n",
       "⎢∂v                                                                        ⎥\n",
       "⎢                                                                          ⎥\n",
       "⎢                     ∂           ∂             ∂           ∂              ⎥\n",
       "⎢       2             ──(Φ(u, v))⋅──(Φ(u, v))   ──(h(u, v))⋅──(h(u, v))    ⎥\n",
       "⎢      ∂              ∂u          ∂v            ∂u          ∂v             ⎥\n",
       "⎢    ─────(Ω(u, v)) = ─────────────────────── - ───────────────────────    ⎥\n",
       "⎢    ∂v ∂u                       2                         2               ⎥\n",
       "⎢                                                                          ⎥\n",
       "⎢                     ∂           ∂             ∂           ∂              ⎥\n",
       "⎢       2             ──(Φ(u, v))⋅──(h(u, v))   ──(Φ(u, v))⋅──(h(u, v))    ⎥\n",
       "⎢      ∂              ∂u          ∂v            ∂v          ∂u             ⎥\n",
       "⎢    ─────(Φ(u, v)) = ─────────────────────── + ───────────────────────    ⎥\n",
       "⎣    ∂v ∂u                       2                         2               ⎦"
      ]
     },
     "execution_count": 67,
     "metadata": {},
     "output_type": "execute_result"
    }
   ],
   "source": [
    "vacuumFieldEquations = Matrix([fieldEquation1,fieldEquation2,fieldEquation3,fieldEquation4,fieldEquation5])\n",
    "vacuumFieldEquations"
   ]
  },
  {
   "cell_type": "code",
   "execution_count": null,
   "id": "b5e2f20b",
   "metadata": {},
   "outputs": [],
   "source": []
  }
 ],
 "metadata": {
  "@webio": {
   "lastCommId": "17a825bf473642ce84d28ae7143ad088",
   "lastKernelId": "8e4e9b85-2c78-45df-941a-4d4b755718e7"
  },
  "kernelspec": {
   "display_name": "Python 3 (ipykernel)",
   "language": "python",
   "name": "python3"
  },
  "language_info": {
   "codemirror_mode": {
    "name": "ipython",
    "version": 3
   },
   "file_extension": ".py",
   "mimetype": "text/x-python",
   "name": "python",
   "nbconvert_exporter": "python",
   "pygments_lexer": "ipython3",
   "version": "3.8.8"
  }
 },
 "nbformat": 4,
 "nbformat_minor": 5
}
