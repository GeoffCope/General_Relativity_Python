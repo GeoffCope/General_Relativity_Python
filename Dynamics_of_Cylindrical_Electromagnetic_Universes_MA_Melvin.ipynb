{
 "cells": [
  {
   "cell_type": "markdown",
   "id": "4814709b",
   "metadata": {},
   "source": [
    "# Dynamics of Cylindrical Electromagnetic Universes by M.A. Melvin\n",
    "##  Geoff Cope\n",
    "##  Univeristy of Utah\n",
    "##  January 2, 2022"
   ]
  },
  {
   "cell_type": "raw",
   "id": "49b66859",
   "metadata": {},
   "source": [
    "This only looks at metric 13 and derives just a few vacuum equations.  Will come back and finish this later"
   ]
  },
  {
   "cell_type": "markdown",
   "id": "2ef052df",
   "metadata": {},
   "source": [
    "https://journals.aps.org/pr/abstract/10.1103/PhysRev.139.B225"
   ]
  },
  {
   "cell_type": "code",
   "execution_count": 1,
   "id": "bbfb20c7",
   "metadata": {},
   "outputs": [
    {
     "name": "stdout",
     "output_type": "stream",
     "text": [
      "IPython console for SymPy 1.9 (Python 3.8.8-64-bit) (ground types: gmpy)\n",
      "\n",
      "These commands were executed:\n",
      ">>> from __future__ import division\n",
      ">>> from sympy import *\n",
      ">>> x, y, z, t = symbols('x y z t')\n",
      ">>> k, m, n = symbols('k m n', integer=True)\n",
      ">>> f, g, h = symbols('f g h', cls=Function)\n",
      ">>> init_printing()\n",
      "\n",
      "Documentation can be found at https://docs.sympy.org/1.9/\n",
      "\n"
     ]
    }
   ],
   "source": [
    "from sympy import init_session\n",
    "init_session(use_latex=True)"
   ]
  },
  {
   "cell_type": "code",
   "execution_count": 2,
   "id": "2ba92481",
   "metadata": {},
   "outputs": [],
   "source": [
    "import warnings\n",
    "import matplotlib.cbook\n",
    "warnings.filterwarnings(\"ignore\",category=matplotlib.cbook.mplDeprecation)"
   ]
  },
  {
   "cell_type": "code",
   "execution_count": 3,
   "id": "5fff10cc",
   "metadata": {},
   "outputs": [],
   "source": [
    "rho,zeta,phi,tau,drho,dzeta,dphi,dtau = symbols( 'rho zeta phi tau drho dzeta dphi dtau' ) "
   ]
  },
  {
   "cell_type": "code",
   "execution_count": 4,
   "id": "2cefdcf9",
   "metadata": {},
   "outputs": [
    {
     "data": {
      "image/png": "[encoded data removed]",
      "text/latex": [
       "$\\displaystyle \\gamma{\\left(\\rho,\\tau \\right)}$"
      ],
      "text/plain": [
       "γ(ρ, τ)"
      ]
     },
     "execution_count": 4,
     "metadata": {},
     "output_type": "execute_result"
    }
   ],
   "source": [
    "gamma = Function('gamma')(rho,tau)\n",
    "gamma"
   ]
  },
  {
   "cell_type": "code",
   "execution_count": 5,
   "id": "c7b045a0",
   "metadata": {},
   "outputs": [
    {
     "data": {
      "image/png": "[encoded data removed]",
      "text/latex": [
       "$\\displaystyle \\psi{\\left(\\rho,\\tau \\right)}$"
      ],
      "text/plain": [
       "ψ(ρ, τ)"
      ]
     },
     "execution_count": 5,
     "metadata": {},
     "output_type": "execute_result"
    }
   ],
   "source": [
    "psi = Function('psi')(rho,tau)\n",
    "psi"
   ]
  },
  {
   "cell_type": "code",
   "execution_count": 6,
   "id": "e1771167",
   "metadata": {},
   "outputs": [
    {
     "data": {
      "text/latex": [
       "$\\displaystyle \\left[\\begin{matrix}\\rho\\\\\\zeta\\\\\\phi\\\\\\tau\\end{matrix}\\right]$"
      ],
      "text/plain": [
       "⎡ρ⎤\n",
       "⎢ ⎥\n",
       "⎢ζ⎥\n",
       "⎢ ⎥\n",
       "⎢φ⎥\n",
       "⎢ ⎥\n",
       "⎣τ⎦"
      ]
     },
     "execution_count": 6,
     "metadata": {},
     "output_type": "execute_result"
    }
   ],
   "source": [
    "variables = Matrix( [rho,zeta,phi,tau] )\n",
    "variables"
   ]
  },
  {
   "cell_type": "code",
   "execution_count": 7,
   "id": "3eeee9ee",
   "metadata": {},
   "outputs": [
    {
     "data": {
      "text/latex": [
       "$\\displaystyle \\left[\\begin{matrix}drho\\\\dzeta\\\\dphi\\\\dtau\\end{matrix}\\right]$"
      ],
      "text/plain": [
       "⎡drho ⎤\n",
       "⎢     ⎥\n",
       "⎢dzeta⎥\n",
       "⎢     ⎥\n",
       "⎢dphi ⎥\n",
       "⎢     ⎥\n",
       "⎣dtau ⎦"
      ]
     },
     "execution_count": 7,
     "metadata": {},
     "output_type": "execute_result"
    }
   ],
   "source": [
    "differentials = Matrix( [drho,dzeta,dphi,dtau] )\n",
    "differentials"
   ]
  },
  {
   "cell_type": "code",
   "execution_count": 8,
   "id": "897dfc51",
   "metadata": {},
   "outputs": [
    {
     "data": {
      "image/png": "[encoded data removed]",
      "text/latex": [
       "$\\displaystyle - dphi^{2} \\rho^{2} e^{- 2 \\psi{\\left(\\rho,\\tau \\right)}} - drho^{2} e^{2 \\gamma{\\left(\\rho,\\tau \\right)}} e^{- 2 \\psi{\\left(\\rho,\\tau \\right)}} + dtau^{2} e^{2 \\gamma{\\left(\\rho,\\tau \\right)}} e^{- 2 \\psi{\\left(\\rho,\\tau \\right)}} - dzeta^{2} e^{2 \\psi{\\left(\\rho,\\tau \\right)}}$"
      ],
      "text/plain": [
       "      2  2  -2⋅ψ(ρ, τ)       2  2⋅γ(ρ, τ)  -2⋅ψ(ρ, τ)       2  2⋅γ(ρ, τ)  -2⋅ψ(ρ, τ)        2  2⋅ψ(ρ, τ)\n",
       "- dphi ⋅ρ ⋅ℯ           - drho ⋅ℯ         ⋅ℯ           + dtau ⋅ℯ         ⋅ℯ           - dzeta ⋅ℯ         "
      ]
     },
     "execution_count": 8,
     "metadata": {},
     "output_type": "execute_result"
    }
   ],
   "source": [
    "lineElement = expand(exp(2*(gamma-psi)) * (dtau**2 - drho**2) - exp(2*psi) * dzeta**2 - rho**2 * exp(-2*psi) *dphi**2)\n",
    "lineElement"
   ]
  },
  {
   "cell_type": "code",
   "execution_count": 9,
   "id": "c5ba0c20",
   "metadata": {},
   "outputs": [
    {
     "data": {
      "text/latex": [
       "$\\displaystyle \\left[\\begin{matrix}- e^{2 \\gamma{\\left(\\rho,\\tau \\right)}} e^{- 2 \\psi{\\left(\\rho,\\tau \\right)}} & 0 & 0 & 0\\\\0 & - e^{2 \\psi{\\left(\\rho,\\tau \\right)}} & 0 & 0\\\\0 & 0 & - \\rho^{2} e^{- 2 \\psi{\\left(\\rho,\\tau \\right)}} & 0\\\\0 & 0 & 0 & e^{2 \\gamma{\\left(\\rho,\\tau \\right)}} e^{- 2 \\psi{\\left(\\rho,\\tau \\right)}}\\end{matrix}\\right]$"
      ],
      "text/plain": [
       "⎡  2⋅γ(ρ, τ)  -2⋅ψ(ρ, τ)                                                      ⎤\n",
       "⎢-ℯ         ⋅ℯ                 0              0                   0           ⎥\n",
       "⎢                                                                             ⎥\n",
       "⎢                           2⋅ψ(ρ, τ)                                         ⎥\n",
       "⎢           0             -ℯ                  0                   0           ⎥\n",
       "⎢                                                                             ⎥\n",
       "⎢                                        2  -2⋅ψ(ρ, τ)                        ⎥\n",
       "⎢           0                  0       -ρ ⋅ℯ                      0           ⎥\n",
       "⎢                                                                             ⎥\n",
       "⎢                                                        2⋅γ(ρ, τ)  -2⋅ψ(ρ, τ)⎥\n",
       "⎣           0                  0              0         ℯ         ⋅ℯ          ⎦"
      ]
     },
     "execution_count": 9,
     "metadata": {},
     "output_type": "execute_result"
    }
   ],
   "source": [
    "g = zeros(4)\n",
    "\n",
    "for i in range(4):\n",
    "    for j in range(4):\n",
    "        if i == j:\n",
    "            g[i,j] = lineElement.coeff( differentials[i],2 ) \n",
    "        else:\n",
    "            g[i,j] = Rational(1,2)*lineElement.coeff( differentials[i]*differentials[j],1 )\n",
    "            \n",
    "g"
   ]
  },
  {
   "cell_type": "code",
   "execution_count": 10,
   "id": "ed13d3ad",
   "metadata": {},
   "outputs": [],
   "source": [
    "import sympy"
   ]
  },
  {
   "cell_type": "code",
   "execution_count": 11,
   "id": "d73d72ec",
   "metadata": {},
   "outputs": [
    {
     "data": {
      "text/latex": [
       "$\\displaystyle \\left[\\begin{matrix}- e^{2 \\gamma{\\left(\\rho,\\tau \\right)}} e^{- 2 \\psi{\\left(\\rho,\\tau \\right)}} & 0 & 0 & 0\\\\0 & - e^{2 \\psi{\\left(\\rho,\\tau \\right)}} & 0 & 0\\\\0 & 0 & - \\rho^{2} e^{- 2 \\psi{\\left(\\rho,\\tau \\right)}} & 0\\\\0 & 0 & 0 & e^{2 \\gamma{\\left(\\rho,\\tau \\right)}} e^{- 2 \\psi{\\left(\\rho,\\tau \\right)}}\\end{matrix}\\right]$"
      ],
      "text/plain": [
       "⎡  2⋅γ(ρ, τ)  -2⋅ψ(ρ, τ)                                                      ⎤\n",
       "⎢-ℯ         ⋅ℯ                 0              0                   0           ⎥\n",
       "⎢                                                                             ⎥\n",
       "⎢                           2⋅ψ(ρ, τ)                                         ⎥\n",
       "⎢           0             -ℯ                  0                   0           ⎥\n",
       "⎢                                                                             ⎥\n",
       "⎢                                        2  -2⋅ψ(ρ, τ)                        ⎥\n",
       "⎢           0                  0       -ρ ⋅ℯ                      0           ⎥\n",
       "⎢                                                                             ⎥\n",
       "⎢                                                        2⋅γ(ρ, τ)  -2⋅ψ(ρ, τ)⎥\n",
       "⎣           0                  0              0         ℯ         ⋅ℯ          ⎦"
      ]
     },
     "execution_count": 11,
     "metadata": {},
     "output_type": "execute_result"
    }
   ],
   "source": [
    "m = sympy.Array(g)\n",
    "m"
   ]
  },
  {
   "cell_type": "code",
   "execution_count": 12,
   "id": "bc0eebc1",
   "metadata": {},
   "outputs": [],
   "source": [
    "from einsteinpy.symbolic import *"
   ]
  },
  {
   "cell_type": "code",
   "execution_count": 13,
   "id": "d518fda5",
   "metadata": {},
   "outputs": [],
   "source": [
    "syms = sympy.symbols(\"rho zeta phi tau\")\n",
    "rho,zeta,phi,tau = syms"
   ]
  },
  {
   "cell_type": "code",
   "execution_count": 14,
   "id": "a487f399",
   "metadata": {},
   "outputs": [],
   "source": [
    "metric = MetricTensor(m,syms)"
   ]
  },
  {
   "cell_type": "code",
   "execution_count": 15,
   "id": "5cda1ae0",
   "metadata": {},
   "outputs": [
    {
     "data": {
      "text/latex": [
       "$\\displaystyle \\left[\\begin{matrix}\\left[\\begin{matrix}\\frac{\\partial}{\\partial \\rho} \\gamma{\\left(\\rho,\\tau \\right)} - \\frac{\\partial}{\\partial \\rho} \\psi{\\left(\\rho,\\tau \\right)} & 0 & 0 & \\frac{\\partial}{\\partial \\tau} \\gamma{\\left(\\rho,\\tau \\right)} - \\frac{\\partial}{\\partial \\tau} \\psi{\\left(\\rho,\\tau \\right)}\\\\0 & - e^{- 2 \\gamma{\\left(\\rho,\\tau \\right)} + 4 \\psi{\\left(\\rho,\\tau \\right)}} \\frac{\\partial}{\\partial \\rho} \\psi{\\left(\\rho,\\tau \\right)} & 0 & 0\\\\0 & 0 & \\rho \\left(\\rho \\frac{\\partial}{\\partial \\rho} \\psi{\\left(\\rho,\\tau \\right)} - 1\\right) e^{- 2 \\gamma{\\left(\\rho,\\tau \\right)}} & 0\\\\\\frac{\\partial}{\\partial \\tau} \\gamma{\\left(\\rho,\\tau \\right)} - \\frac{\\partial}{\\partial \\tau} \\psi{\\left(\\rho,\\tau \\right)} & 0 & 0 & \\frac{\\partial}{\\partial \\rho} \\gamma{\\left(\\rho,\\tau \\right)} - \\frac{\\partial}{\\partial \\rho} \\psi{\\left(\\rho,\\tau \\right)}\\end{matrix}\\right] & \\left[\\begin{matrix}0 & \\frac{\\partial}{\\partial \\rho} \\psi{\\left(\\rho,\\tau \\right)} & 0 & 0\\\\\\frac{\\partial}{\\partial \\rho} \\psi{\\left(\\rho,\\tau \\right)} & 0 & 0 & \\frac{\\partial}{\\partial \\tau} \\psi{\\left(\\rho,\\tau \\right)}\\\\0 & 0 & 0 & 0\\\\0 & \\frac{\\partial}{\\partial \\tau} \\psi{\\left(\\rho,\\tau \\right)} & 0 & 0\\end{matrix}\\right] & \\left[\\begin{matrix}0 & 0 & - \\frac{\\partial}{\\partial \\rho} \\psi{\\left(\\rho,\\tau \\right)} + \\frac{1}{\\rho} & 0\\\\0 & 0 & 0 & 0\\\\- \\frac{\\partial}{\\partial \\rho} \\psi{\\left(\\rho,\\tau \\right)} + \\frac{1}{\\rho} & 0 & 0 & - \\frac{\\partial}{\\partial \\tau} \\psi{\\left(\\rho,\\tau \\right)}\\\\0 & 0 & - \\frac{\\partial}{\\partial \\tau} \\psi{\\left(\\rho,\\tau \\right)} & 0\\end{matrix}\\right] & \\left[\\begin{matrix}\\frac{\\partial}{\\partial \\tau} \\gamma{\\left(\\rho,\\tau \\right)} - \\frac{\\partial}{\\partial \\tau} \\psi{\\left(\\rho,\\tau \\right)} & 0 & 0 & \\frac{\\partial}{\\partial \\rho} \\gamma{\\left(\\rho,\\tau \\right)} - \\frac{\\partial}{\\partial \\rho} \\psi{\\left(\\rho,\\tau \\right)}\\\\0 & e^{- 2 \\gamma{\\left(\\rho,\\tau \\right)} + 4 \\psi{\\left(\\rho,\\tau \\right)}} \\frac{\\partial}{\\partial \\tau} \\psi{\\left(\\rho,\\tau \\right)} & 0 & 0\\\\0 & 0 & - \\rho^{2} e^{- 2 \\gamma{\\left(\\rho,\\tau \\right)}} \\frac{\\partial}{\\partial \\tau} \\psi{\\left(\\rho,\\tau \\right)} & 0\\\\\\frac{\\partial}{\\partial \\rho} \\gamma{\\left(\\rho,\\tau \\right)} - \\frac{\\partial}{\\partial \\rho} \\psi{\\left(\\rho,\\tau \\right)} & 0 & 0 & \\frac{\\partial}{\\partial \\tau} \\gamma{\\left(\\rho,\\tau \\right)} - \\frac{\\partial}{\\partial \\tau} \\psi{\\left(\\rho,\\tau \\right)}\\end{matrix}\\right]\\end{matrix}\\right]$"
      ],
      "text/plain": [
       "⎡⎡∂             ∂                                                                                     ∂             ∂          ⎤        \n",
       "⎢⎢──(γ(ρ, τ)) - ──(ψ(ρ, τ))                   0                                    0                  ──(γ(ρ, τ)) - ──(ψ(ρ, τ))⎥  ⎡     \n",
       "⎢⎢∂ρ            ∂ρ                                                                                    ∂τ            ∂τ         ⎥  ⎢     \n",
       "⎢⎢                                                                                                                             ⎥  ⎢     \n",
       "⎢⎢                             -2⋅γ(ρ, τ) + 4⋅ψ(ρ, τ) ∂                                                                        ⎥  ⎢     \n",
       "⎢⎢            0              -ℯ                      ⋅──(ψ(ρ, τ))                  0                              0            ⎥  ⎢∂    \n",
       "⎢⎢                                                    ∂ρ                                                                       ⎥  ⎢──(ψ(\n",
       "⎢⎢                                                                                                                             ⎥  ⎢∂ρ   \n",
       "⎢⎢                                                                   ⎛  ∂              ⎞  -2⋅γ(ρ, τ)                           ⎥  ⎢     \n",
       "⎢⎢            0                               0                    ρ⋅⎜ρ⋅──(ψ(ρ, τ)) - 1⎟⋅ℯ                        0            ⎥  ⎢     \n",
       "⎢⎢                                                                   ⎝  ∂ρ             ⎠                                       ⎥  ⎢     \n",
       "⎢⎢                                                                                                                             ⎥  ⎢     \n",
       "⎢⎢∂             ∂                                                                                     ∂             ∂          ⎥  ⎢     \n",
       "⎢⎢──(γ(ρ, τ)) - ──(ψ(ρ, τ))                   0                                    0                  ──(γ(ρ, τ)) - ──(ψ(ρ, τ))⎥  ⎣     \n",
       "⎣⎣∂τ            ∂τ                                                                                    ∂ρ            ∂ρ         ⎦        \n",
       "\n",
       "                                                                                               ⎡∂             ∂                         \n",
       "        ∂                          ⎤  ⎡                        ∂             1              ⎤  ⎢──(γ(ρ, τ)) - ──(ψ(ρ, τ))               \n",
       "0       ──(ψ(ρ, τ))  0       0     ⎥  ⎢        0          0  - ──(ψ(ρ, τ)) + ─       0      ⎥  ⎢∂τ            ∂τ                        \n",
       "        ∂ρ                         ⎥  ⎢                        ∂ρ            ρ              ⎥  ⎢                                        \n",
       "                                   ⎥  ⎢                                                     ⎥  ⎢                            -2⋅γ(ρ, τ) +\n",
       "                        ∂          ⎥  ⎢        0          0          0               0      ⎥  ⎢            0              ℯ            \n",
       "ρ, τ))       0       0  ──(ψ(ρ, τ))⎥  ⎢                                                     ⎥  ⎢                                        \n",
       "                        ∂τ         ⎥  ⎢  ∂             1                         ∂          ⎥  ⎢                                        \n",
       "                                   ⎥  ⎢- ──(ψ(ρ, τ)) + ─  0          0          -──(ψ(ρ, τ))⎥  ⎢                                        \n",
       "0            0       0       0     ⎥  ⎢  ∂ρ            ρ                         ∂τ         ⎥  ⎢            0                           \n",
       "                                   ⎥  ⎢                                                     ⎥  ⎢                                        \n",
       "        ∂                          ⎥  ⎢                         ∂                           ⎥  ⎢                                        \n",
       "0       ──(ψ(ρ, τ))  0       0     ⎥  ⎢        0          0    -──(ψ(ρ, τ))          0      ⎥  ⎢∂             ∂                         \n",
       "        ∂τ                         ⎦  ⎣                         ∂τ                          ⎦  ⎢──(γ(ρ, τ)) - ──(ψ(ρ, τ))               \n",
       "                                                                                               ⎣∂ρ            ∂ρ                        \n",
       "\n",
       "                                                     ∂             ∂          ⎤⎤\n",
       "    0                                0               ──(γ(ρ, τ)) - ──(ψ(ρ, τ))⎥⎥\n",
       "                                                     ∂ρ            ∂ρ         ⎥⎥\n",
       "                                                                              ⎥⎥\n",
       " 4⋅ψ(ρ, τ) ∂                                                                  ⎥⎥\n",
       "          ⋅──(ψ(ρ, τ))               0                           0            ⎥⎥\n",
       "           ∂τ                                                                 ⎥⎥\n",
       "                                                                              ⎥⎥\n",
       "                          2  -2⋅γ(ρ, τ) ∂                                     ⎥⎥\n",
       "    0                   -ρ ⋅ℯ          ⋅──(ψ(ρ, τ))              0            ⎥⎥\n",
       "                                        ∂τ                                    ⎥⎥\n",
       "                                                                              ⎥⎥\n",
       "                                                     ∂             ∂          ⎥⎥\n",
       "    0                                0               ──(γ(ρ, τ)) - ──(ψ(ρ, τ))⎥⎥\n",
       "                                                     ∂τ            ∂τ         ⎦⎦"
      ]
     },
     "execution_count": 15,
     "metadata": {},
     "output_type": "execute_result"
    }
   ],
   "source": [
    "ch = ChristoffelSymbols.from_metric(metric)\n",
    "simplify(ch.tensor())"
   ]
  },
  {
   "cell_type": "code",
   "execution_count": 16,
   "id": "1af31254",
   "metadata": {},
   "outputs": [
    {
     "data": {
      "text/latex": [
       "$\\displaystyle \\left[\\begin{matrix}\\frac{- \\rho \\left(\\frac{\\partial^{2}}{\\partial \\rho^{2}} \\gamma{\\left(\\rho,\\tau \\right)} - \\frac{\\partial^{2}}{\\partial \\tau^{2}} \\gamma{\\left(\\rho,\\tau \\right)} + 2 \\left(\\frac{\\partial}{\\partial \\rho} \\psi{\\left(\\rho,\\tau \\right)}\\right)^{2} - \\frac{\\partial^{2}}{\\partial \\rho^{2}} \\psi{\\left(\\rho,\\tau \\right)} + \\frac{\\partial^{2}}{\\partial \\tau^{2}} \\psi{\\left(\\rho,\\tau \\right)}\\right) + \\frac{\\partial}{\\partial \\rho} \\gamma{\\left(\\rho,\\tau \\right)} + \\frac{\\partial}{\\partial \\rho} \\psi{\\left(\\rho,\\tau \\right)}}{\\rho} & 0 & 0 & - 2 \\frac{\\partial}{\\partial \\rho} \\psi{\\left(\\rho,\\tau \\right)} \\frac{\\partial}{\\partial \\tau} \\psi{\\left(\\rho,\\tau \\right)} + \\frac{\\frac{\\partial}{\\partial \\tau} \\gamma{\\left(\\rho,\\tau \\right)}}{\\rho}\\\\0 & \\frac{\\left(- \\rho \\frac{\\partial^{2}}{\\partial \\rho^{2}} \\psi{\\left(\\rho,\\tau \\right)} + \\rho \\frac{\\partial^{2}}{\\partial \\tau^{2}} \\psi{\\left(\\rho,\\tau \\right)} - \\frac{\\partial}{\\partial \\rho} \\psi{\\left(\\rho,\\tau \\right)}\\right) e^{- 2 \\gamma{\\left(\\rho,\\tau \\right)} + 4 \\psi{\\left(\\rho,\\tau \\right)}}}{\\rho} & 0 & 0\\\\0 & 0 & \\rho \\left(\\rho \\frac{\\partial^{2}}{\\partial \\rho^{2}} \\psi{\\left(\\rho,\\tau \\right)} - \\rho \\frac{\\partial^{2}}{\\partial \\tau^{2}} \\psi{\\left(\\rho,\\tau \\right)} + \\frac{\\partial}{\\partial \\rho} \\psi{\\left(\\rho,\\tau \\right)}\\right) e^{- 2 \\gamma{\\left(\\rho,\\tau \\right)}} & 0\\\\- 2 \\frac{\\partial}{\\partial \\rho} \\psi{\\left(\\rho,\\tau \\right)} \\frac{\\partial}{\\partial \\tau} \\psi{\\left(\\rho,\\tau \\right)} + \\frac{\\frac{\\partial}{\\partial \\tau} \\gamma{\\left(\\rho,\\tau \\right)}}{\\rho} & 0 & 0 & \\frac{- \\rho \\left(- \\frac{\\partial^{2}}{\\partial \\rho^{2}} \\gamma{\\left(\\rho,\\tau \\right)} + \\frac{\\partial^{2}}{\\partial \\tau^{2}} \\gamma{\\left(\\rho,\\tau \\right)} + \\frac{\\partial^{2}}{\\partial \\rho^{2}} \\psi{\\left(\\rho,\\tau \\right)} + 2 \\left(\\frac{\\partial}{\\partial \\tau} \\psi{\\left(\\rho,\\tau \\right)}\\right)^{2} - \\frac{\\partial^{2}}{\\partial \\tau^{2}} \\psi{\\left(\\rho,\\tau \\right)}\\right) + \\frac{\\partial}{\\partial \\rho} \\gamma{\\left(\\rho,\\tau \\right)} - \\frac{\\partial}{\\partial \\rho} \\psi{\\left(\\rho,\\tau \\right)}}{\\rho}\\end{matrix}\\right]$"
      ],
      "text/plain": [
       "⎡    ⎛  2              2                           2     2              2         ⎞                                                     \n",
       "⎢    ⎜ ∂              ∂               ⎛∂          ⎞     ∂              ∂          ⎟   ∂             ∂                                   \n",
       "⎢- ρ⋅⎜───(γ(ρ, τ)) - ───(γ(ρ, τ)) + 2⋅⎜──(ψ(ρ, τ))⎟  - ───(ψ(ρ, τ)) + ───(ψ(ρ, τ))⎟ + ──(γ(ρ, τ)) + ──(ψ(ρ, τ))                         \n",
       "⎢    ⎜  2              2              ⎝∂ρ         ⎠      2              2         ⎟   ∂ρ            ∂ρ                                  \n",
       "⎢    ⎝∂ρ             ∂τ                                ∂ρ             ∂τ          ⎠                                                     \n",
       "⎢──────────────────────────────────────────────────────────────────────────────────────────────────────────────                         \n",
       "⎢                                                      ρ                                                                                \n",
       "⎢                                                                                                                                       \n",
       "⎢                                                                                                                ⎛      2               \n",
       "⎢                                                                                                                ⎜     ∂                \n",
       "⎢                                                                                                                ⎜- ρ⋅───(ψ(ρ, τ)) + ρ⋅─\n",
       "⎢                                                                                                                ⎜      2               \n",
       "⎢                                                                                                                ⎝    ∂ρ               ∂\n",
       "⎢                                                      0                                                         ───────────────────────\n",
       "⎢                                                                                                                                       \n",
       "⎢                                                                                                                                       \n",
       "⎢                                                                                                                                       \n",
       "⎢                                                                                                                                       \n",
       "⎢                                                      0                                                                                \n",
       "⎢                                                                                                                                       \n",
       "⎢                                                                                                                                       \n",
       "⎢                                                                                                                                       \n",
       "⎢                                                                                                                                       \n",
       "⎢                                                                                                                                       \n",
       "⎢                                                                ∂                                                                      \n",
       "⎢                                                                ──(γ(ρ, τ))                                                            \n",
       "⎢                                      ∂           ∂             ∂τ                                                                     \n",
       "⎢                                  - 2⋅──(ψ(ρ, τ))⋅──(ψ(ρ, τ)) + ───────────                                                            \n",
       "⎣                                      ∂ρ          ∂τ                 ρ                                                                 \n",
       "\n",
       "                                                                                                                                        \n",
       "                                                                                                                                        \n",
       "                                                                                                                                        \n",
       "                                                                                                                                        \n",
       "                                                                                                                                        \n",
       "             0                                                                    0                                                     \n",
       "                                                                                                                                        \n",
       "                                                                                                                                        \n",
       " 2                       ⎞                                                                                                              \n",
       "∂             ∂          ⎟  -2⋅γ(ρ, τ) + 4⋅ψ(ρ, τ)                                                                                      \n",
       "──(ψ(ρ, τ)) - ──(ψ(ρ, τ))⎟⋅ℯ                                                                                                            \n",
       " 2            ∂ρ         ⎟                                                                                                              \n",
       "τ                        ⎠                                                                                                              \n",
       "──────────────────────────────────────────────────                                0                                                     \n",
       "             ρ                                                                                                                          \n",
       "                                                                                                                                        \n",
       "                                                      ⎛    2                2                       ⎞                                   \n",
       "                                                      ⎜   ∂                ∂             ∂          ⎟  -2⋅γ(ρ, τ)                       \n",
       "             0                                      ρ⋅⎜ρ⋅───(ψ(ρ, τ)) - ρ⋅───(ψ(ρ, τ)) + ──(ψ(ρ, τ))⎟⋅ℯ                                 \n",
       "                                                      ⎜    2                2            ∂ρ         ⎟                                   \n",
       "                                                      ⎝  ∂ρ               ∂τ                        ⎠                                   \n",
       "                                                                                                                                        \n",
       "                                                                                                                       ⎛    2           \n",
       "                                                                                                                       ⎜   ∂            \n",
       "                                                                                                                   - ρ⋅⎜- ───(γ(ρ, τ)) +\n",
       "                                                                                                                       ⎜    2           \n",
       "                                                                                                                       ⎝  ∂ρ            \n",
       "             0                                                                    0                                ─────────────────────\n",
       "                                                                                                                                        \n",
       "\n",
       "                                                                                           ⎤\n",
       "                                                                                           ⎥\n",
       "                                            ∂                                              ⎥\n",
       "                                            ──(γ(ρ, τ))                                    ⎥\n",
       "                  ∂           ∂             ∂τ                                             ⎥\n",
       "              - 2⋅──(ψ(ρ, τ))⋅──(ψ(ρ, τ)) + ───────────                                    ⎥\n",
       "                  ∂ρ          ∂τ                 ρ                                         ⎥\n",
       "                                                                                           ⎥\n",
       "                                                                                           ⎥\n",
       "                                                                                           ⎥\n",
       "                                                                                           ⎥\n",
       "                                                                                           ⎥\n",
       "                                                                                           ⎥\n",
       "                                  0                                                        ⎥\n",
       "                                                                                           ⎥\n",
       "                                                                                           ⎥\n",
       "                                                                                           ⎥\n",
       "                                                                                           ⎥\n",
       "                                  0                                                        ⎥\n",
       "                                                                                           ⎥\n",
       "                                                                                           ⎥\n",
       "                                                                                           ⎥\n",
       "   2              2                           2     2         ⎞                            ⎥\n",
       "  ∂              ∂               ⎛∂          ⎞     ∂          ⎟   ∂             ∂          ⎥\n",
       " ───(γ(ρ, τ)) + ───(ψ(ρ, τ)) + 2⋅⎜──(ψ(ρ, τ))⎟  - ───(ψ(ρ, τ))⎟ + ──(γ(ρ, τ)) - ──(ψ(ρ, τ))⎥\n",
       "   2              2              ⎝∂τ         ⎠      2         ⎟   ∂ρ            ∂ρ         ⎥\n",
       " ∂τ             ∂ρ                                ∂τ          ⎠                            ⎥\n",
       "───────────────────────────────────────────────────────────────────────────────────────────⎥\n",
       "                                  ρ                                                        ⎦"
      ]
     },
     "execution_count": 16,
     "metadata": {},
     "output_type": "execute_result"
    }
   ],
   "source": [
    "Ric = RicciTensor.from_metric(metric)\n",
    "simplify(Ric.tensor())"
   ]
  },
  {
   "cell_type": "code",
   "execution_count": 17,
   "id": "70c9b6ec",
   "metadata": {},
   "outputs": [
    {
     "data": {
      "image/png": "[encoded data removed]",
      "text/latex": [
       "$\\displaystyle \\frac{2 \\left(\\rho \\frac{\\partial^{2}}{\\partial \\rho^{2}} \\gamma{\\left(\\rho,\\tau \\right)} - \\rho \\frac{\\partial^{2}}{\\partial \\tau^{2}} \\gamma{\\left(\\rho,\\tau \\right)} + \\rho \\left(\\frac{\\partial}{\\partial \\rho} \\psi{\\left(\\rho,\\tau \\right)}\\right)^{2} - \\rho \\frac{\\partial^{2}}{\\partial \\rho^{2}} \\psi{\\left(\\rho,\\tau \\right)} - \\rho \\left(\\frac{\\partial}{\\partial \\tau} \\psi{\\left(\\rho,\\tau \\right)}\\right)^{2} + \\rho \\frac{\\partial^{2}}{\\partial \\tau^{2}} \\psi{\\left(\\rho,\\tau \\right)} - \\frac{\\partial}{\\partial \\rho} \\psi{\\left(\\rho,\\tau \\right)}\\right) e^{- 2 \\gamma{\\left(\\rho,\\tau \\right)} + 2 \\psi{\\left(\\rho,\\tau \\right)}}}{\\rho}$"
      ],
      "text/plain": [
       "  ⎛    2                2                           2       2                           2       2                       ⎞               \n",
       "  ⎜   ∂                ∂               ⎛∂          ⎞       ∂               ⎛∂          ⎞       ∂             ∂          ⎟  -2⋅γ(ρ, τ) + \n",
       "2⋅⎜ρ⋅───(γ(ρ, τ)) - ρ⋅───(γ(ρ, τ)) + ρ⋅⎜──(ψ(ρ, τ))⎟  - ρ⋅───(ψ(ρ, τ)) - ρ⋅⎜──(ψ(ρ, τ))⎟  + ρ⋅───(ψ(ρ, τ)) - ──(ψ(ρ, τ))⎟⋅ℯ             \n",
       "  ⎜    2                2              ⎝∂ρ         ⎠        2              ⎝∂τ         ⎠        2            ∂ρ         ⎟               \n",
       "  ⎝  ∂ρ               ∂τ                                  ∂ρ                                  ∂τ                        ⎠               \n",
       "────────────────────────────────────────────────────────────────────────────────────────────────────────────────────────────────────────\n",
       "                                                                        ρ                                                               \n",
       "\n",
       "         \n",
       "2⋅ψ(ρ, τ)\n",
       "         \n",
       "         \n",
       "         \n",
       "─────────\n",
       "         "
      ]
     },
     "execution_count": 17,
     "metadata": {},
     "output_type": "execute_result"
    }
   ],
   "source": [
    "R = RicciScalar.from_riccitensor(Ric)\n",
    "R.simplify()\n",
    "R.expr"
   ]
  },
  {
   "cell_type": "code",
   "execution_count": 18,
   "id": "3a7fb2ff",
   "metadata": {},
   "outputs": [
    {
     "data": {
      "text/latex": [
       "$\\displaystyle \\left[\\begin{matrix}\\frac{\\rho \\left(- \\frac{\\partial^{2}}{\\partial \\rho^{2}} \\gamma{\\left(\\rho,\\tau \\right)} + \\frac{\\partial^{2}}{\\partial \\tau^{2}} \\gamma{\\left(\\rho,\\tau \\right)} - 2 \\left(\\frac{\\partial}{\\partial \\rho} \\psi{\\left(\\rho,\\tau \\right)}\\right)^{2} + \\frac{\\partial^{2}}{\\partial \\rho^{2}} \\psi{\\left(\\rho,\\tau \\right)} - \\frac{\\partial^{2}}{\\partial \\tau^{2}} \\psi{\\left(\\rho,\\tau \\right)}\\right) + \\frac{\\partial}{\\partial \\rho} \\gamma{\\left(\\rho,\\tau \\right)} + \\frac{\\partial}{\\partial \\rho} \\psi{\\left(\\rho,\\tau \\right)}}{\\rho} + \\frac{1.0 \\left(\\rho \\frac{\\partial^{2}}{\\partial \\rho^{2}} \\gamma{\\left(\\rho,\\tau \\right)} - \\rho \\frac{\\partial^{2}}{\\partial \\tau^{2}} \\gamma{\\left(\\rho,\\tau \\right)} + \\rho \\left(\\frac{\\partial}{\\partial \\rho} \\psi{\\left(\\rho,\\tau \\right)}\\right)^{2} - \\rho \\frac{\\partial^{2}}{\\partial \\rho^{2}} \\psi{\\left(\\rho,\\tau \\right)} - \\rho \\left(\\frac{\\partial}{\\partial \\tau} \\psi{\\left(\\rho,\\tau \\right)}\\right)^{2} + \\rho \\frac{\\partial^{2}}{\\partial \\tau^{2}} \\psi{\\left(\\rho,\\tau \\right)} - \\frac{\\partial}{\\partial \\rho} \\psi{\\left(\\rho,\\tau \\right)}\\right) e^{- 2 \\gamma{\\left(\\rho,\\tau \\right)} + 2 \\psi{\\left(\\rho,\\tau \\right)}} e^{2 \\gamma{\\left(\\rho,\\tau \\right)}} e^{- 2 \\psi{\\left(\\rho,\\tau \\right)}}}{\\rho} & 0 & 0 & - 2 \\frac{\\partial}{\\partial \\rho} \\psi{\\left(\\rho,\\tau \\right)} \\frac{\\partial}{\\partial \\tau} \\psi{\\left(\\rho,\\tau \\right)} + \\frac{\\frac{\\partial}{\\partial \\tau} \\gamma{\\left(\\rho,\\tau \\right)}}{\\rho}\\\\0 & \\frac{\\left(- \\rho \\frac{\\partial^{2}}{\\partial \\rho^{2}} \\psi{\\left(\\rho,\\tau \\right)} + \\rho \\frac{\\partial^{2}}{\\partial \\tau^{2}} \\psi{\\left(\\rho,\\tau \\right)} - \\frac{\\partial}{\\partial \\rho} \\psi{\\left(\\rho,\\tau \\right)}\\right) e^{- 2 \\gamma{\\left(\\rho,\\tau \\right)} + 4 \\psi{\\left(\\rho,\\tau \\right)}}}{\\rho} + \\frac{1.0 \\left(\\rho \\frac{\\partial^{2}}{\\partial \\rho^{2}} \\gamma{\\left(\\rho,\\tau \\right)} - \\rho \\frac{\\partial^{2}}{\\partial \\tau^{2}} \\gamma{\\left(\\rho,\\tau \\right)} + \\rho \\left(\\frac{\\partial}{\\partial \\rho} \\psi{\\left(\\rho,\\tau \\right)}\\right)^{2} - \\rho \\frac{\\partial^{2}}{\\partial \\rho^{2}} \\psi{\\left(\\rho,\\tau \\right)} - \\rho \\left(\\frac{\\partial}{\\partial \\tau} \\psi{\\left(\\rho,\\tau \\right)}\\right)^{2} + \\rho \\frac{\\partial^{2}}{\\partial \\tau^{2}} \\psi{\\left(\\rho,\\tau \\right)} - \\frac{\\partial}{\\partial \\rho} \\psi{\\left(\\rho,\\tau \\right)}\\right) e^{- 2 \\gamma{\\left(\\rho,\\tau \\right)} + 2 \\psi{\\left(\\rho,\\tau \\right)}} e^{2 \\psi{\\left(\\rho,\\tau \\right)}}}{\\rho} & 0 & 0\\\\0 & 0 & \\rho \\left(\\rho \\frac{\\partial^{2}}{\\partial \\rho^{2}} \\psi{\\left(\\rho,\\tau \\right)} - \\rho \\frac{\\partial^{2}}{\\partial \\tau^{2}} \\psi{\\left(\\rho,\\tau \\right)} + \\frac{\\partial}{\\partial \\rho} \\psi{\\left(\\rho,\\tau \\right)}\\right) e^{- 2 \\gamma{\\left(\\rho,\\tau \\right)}} + 1.0 \\rho \\left(\\rho \\frac{\\partial^{2}}{\\partial \\rho^{2}} \\gamma{\\left(\\rho,\\tau \\right)} - \\rho \\frac{\\partial^{2}}{\\partial \\tau^{2}} \\gamma{\\left(\\rho,\\tau \\right)} + \\rho \\left(\\frac{\\partial}{\\partial \\rho} \\psi{\\left(\\rho,\\tau \\right)}\\right)^{2} - \\rho \\frac{\\partial^{2}}{\\partial \\rho^{2}} \\psi{\\left(\\rho,\\tau \\right)} - \\rho \\left(\\frac{\\partial}{\\partial \\tau} \\psi{\\left(\\rho,\\tau \\right)}\\right)^{2} + \\rho \\frac{\\partial^{2}}{\\partial \\tau^{2}} \\psi{\\left(\\rho,\\tau \\right)} - \\frac{\\partial}{\\partial \\rho} \\psi{\\left(\\rho,\\tau \\right)}\\right) e^{- 2 \\gamma{\\left(\\rho,\\tau \\right)} + 2 \\psi{\\left(\\rho,\\tau \\right)}} e^{- 2 \\psi{\\left(\\rho,\\tau \\right)}} & 0\\\\- 2 \\frac{\\partial}{\\partial \\rho} \\psi{\\left(\\rho,\\tau \\right)} \\frac{\\partial}{\\partial \\tau} \\psi{\\left(\\rho,\\tau \\right)} + \\frac{\\frac{\\partial}{\\partial \\tau} \\gamma{\\left(\\rho,\\tau \\right)}}{\\rho} & 0 & 0 & \\frac{\\rho \\left(\\frac{\\partial^{2}}{\\partial \\rho^{2}} \\gamma{\\left(\\rho,\\tau \\right)} - \\frac{\\partial^{2}}{\\partial \\tau^{2}} \\gamma{\\left(\\rho,\\tau \\right)} - \\frac{\\partial^{2}}{\\partial \\rho^{2}} \\psi{\\left(\\rho,\\tau \\right)} - 2 \\left(\\frac{\\partial}{\\partial \\tau} \\psi{\\left(\\rho,\\tau \\right)}\\right)^{2} + \\frac{\\partial^{2}}{\\partial \\tau^{2}} \\psi{\\left(\\rho,\\tau \\right)}\\right) + \\frac{\\partial}{\\partial \\rho} \\gamma{\\left(\\rho,\\tau \\right)} - \\frac{\\partial}{\\partial \\rho} \\psi{\\left(\\rho,\\tau \\right)}}{\\rho} - \\frac{1.0 \\left(\\rho \\frac{\\partial^{2}}{\\partial \\rho^{2}} \\gamma{\\left(\\rho,\\tau \\right)} - \\rho \\frac{\\partial^{2}}{\\partial \\tau^{2}} \\gamma{\\left(\\rho,\\tau \\right)} + \\rho \\left(\\frac{\\partial}{\\partial \\rho} \\psi{\\left(\\rho,\\tau \\right)}\\right)^{2} - \\rho \\frac{\\partial^{2}}{\\partial \\rho^{2}} \\psi{\\left(\\rho,\\tau \\right)} - \\rho \\left(\\frac{\\partial}{\\partial \\tau} \\psi{\\left(\\rho,\\tau \\right)}\\right)^{2} + \\rho \\frac{\\partial^{2}}{\\partial \\tau^{2}} \\psi{\\left(\\rho,\\tau \\right)} - \\frac{\\partial}{\\partial \\rho} \\psi{\\left(\\rho,\\tau \\right)}\\right) e^{- 2 \\gamma{\\left(\\rho,\\tau \\right)} + 2 \\psi{\\left(\\rho,\\tau \\right)}} e^{2 \\gamma{\\left(\\rho,\\tau \\right)}} e^{- 2 \\psi{\\left(\\rho,\\tau \\right)}}}{\\rho}\\end{matrix}\\right]$"
      ],
      "text/plain": [
       "⎡  ⎛    2              2                           2     2              2         ⎞                                   ⎛    2            \n",
       "⎢  ⎜   ∂              ∂               ⎛∂          ⎞     ∂              ∂          ⎟   ∂             ∂                 ⎜   ∂             \n",
       "⎢ρ⋅⎜- ───(γ(ρ, τ)) + ───(γ(ρ, τ)) - 2⋅⎜──(ψ(ρ, τ))⎟  + ───(ψ(ρ, τ)) - ───(ψ(ρ, τ))⎟ + ──(γ(ρ, τ)) + ──(ψ(ρ, τ))   1.0⋅⎜ρ⋅───(γ(ρ, τ)) - \n",
       "⎢  ⎜    2              2              ⎝∂ρ         ⎠      2              2         ⎟   ∂ρ            ∂ρ                ⎜    2            \n",
       "⎢  ⎝  ∂ρ             ∂τ                                ∂ρ             ∂τ          ⎠                                   ⎝  ∂ρ             \n",
       "⎢────────────────────────────────────────────────────────────────────────────────────────────────────────────── + ──────────────────────\n",
       "⎢                                                      ρ                                                                                \n",
       "⎢                                                                                                                                       \n",
       "⎢                                                                                                                                       \n",
       "⎢                                                                                                                                       \n",
       "⎢                                                                                                                                       \n",
       "⎢                                                                                                                                       \n",
       "⎢                                                                                                                                       \n",
       "⎢                                                                                                                                       \n",
       "⎢                                                                                                                                       \n",
       "⎢                                                                                                                                       \n",
       "⎢                                                                                                                                       \n",
       "⎢                                                                                                                                       \n",
       "⎢                                                                                                                                       \n",
       "⎢                                                                                                                                       \n",
       "⎢                                                                                                                                       \n",
       "⎢                                                                                                                                       \n",
       "⎢                                                                                                                                       \n",
       "⎢                                                                                                                                       \n",
       "⎢                                                                                                                                       \n",
       "⎢                                                                                                                                       \n",
       "⎢                                                                                                                             ∂         \n",
       "⎢                                                                                                                         - 2⋅──(ψ(ρ, τ)\n",
       "⎣                                                                                                                             ∂ρ        \n",
       "\n",
       "    2                           2       2                           2       2                       ⎞                                   \n",
       "   ∂               ⎛∂          ⎞       ∂               ⎛∂          ⎞       ∂             ∂          ⎟  -2⋅γ(ρ, τ) + 2⋅ψ(ρ, τ)  2⋅γ(ρ, τ)\n",
       "ρ⋅───(γ(ρ, τ)) + ρ⋅⎜──(ψ(ρ, τ))⎟  - ρ⋅───(ψ(ρ, τ)) - ρ⋅⎜──(ψ(ρ, τ))⎟  + ρ⋅───(ψ(ρ, τ)) - ──(ψ(ρ, τ))⎟⋅ℯ                      ⋅ℯ         \n",
       "    2              ⎝∂ρ         ⎠        2              ⎝∂τ         ⎠        2            ∂ρ         ⎟                                   \n",
       "  ∂τ                                  ∂ρ                                  ∂τ                        ⎠                                   \n",
       "────────────────────────────────────────────────────────────────────────────────────────────────────────────────────────────────────────\n",
       "                                                              ρ                                                                         \n",
       "                                                                                                                                        \n",
       "                                                                                                                                        \n",
       "                                                                                                                                        \n",
       "                                                                                                                                        \n",
       "                                                                                                                                        \n",
       "                                                                                                                                        \n",
       "      0                                                                                                                                 \n",
       "                                                                                                                                        \n",
       "                                                                                                                                        \n",
       "                                                                                                                                        \n",
       "                                                                                                                                        \n",
       "      0                                                                                                                                 \n",
       "                                                                                                                                        \n",
       "                                                                                                                                        \n",
       "                                                                                                                                        \n",
       "                                                                                                                                        \n",
       "                                                                                                                                        \n",
       "                ∂                                                                                                                       \n",
       "                ──(γ(ρ, τ))                                                                                                             \n",
       "  ∂             ∂τ                                                                                                                      \n",
       ")⋅──(ψ(ρ, τ)) + ───────────                                                                                                             \n",
       "  ∂τ                 ρ                                                                                                                  \n",
       "\n",
       "                                                                                                                                        \n",
       "  -2⋅ψ(ρ, τ)                                                                                                                            \n",
       "⋅ℯ                                                                                                                                      \n",
       "                                                                                                                                        \n",
       "                                                                                                                                        \n",
       "────────────                                                                                                                      0     \n",
       "                                                                                                                                        \n",
       "                                                                                                                                        \n",
       "              ⎛      2                2                       ⎞                               ⎛    2                2                   \n",
       "              ⎜     ∂                ∂             ∂          ⎟  -2⋅γ(ρ, τ) + 4⋅ψ(ρ, τ)       ⎜   ∂                ∂               ⎛∂   \n",
       "              ⎜- ρ⋅───(ψ(ρ, τ)) + ρ⋅───(ψ(ρ, τ)) - ──(ψ(ρ, τ))⎟⋅ℯ                         1.0⋅⎜ρ⋅───(γ(ρ, τ)) - ρ⋅───(γ(ρ, τ)) + ρ⋅⎜──(ψ\n",
       "              ⎜      2                2            ∂ρ         ⎟                               ⎜    2                2              ⎝∂ρ  \n",
       "              ⎝    ∂ρ               ∂τ                        ⎠                               ⎝  ∂ρ               ∂τ                    \n",
       "              ───────────────────────────────────────────────────────────────────────── + ──────────────────────────────────────────────\n",
       "                                                  ρ                                                                                     \n",
       "                                                                                                                                        \n",
       "                                                                                                                                        \n",
       "                                                                                                                                        \n",
       "                                                                                                                                  0     \n",
       "                                                                                                                                        \n",
       "                                                                                                                                        \n",
       "                                                                                                                                        \n",
       "                                                                                                                                        \n",
       "                                                                                                                                        \n",
       "                                                                                                                                        \n",
       "                                                                                                                                        \n",
       "                                                                                                                                        \n",
       "                                                                                                                                  0     \n",
       "                                                                                                                                        \n",
       "\n",
       "                                                                                                                                        \n",
       "                                                                                                                                        \n",
       "                                                                                                                                        \n",
       "                                                                                                                                        \n",
       "                                                                                                                                        \n",
       "                                                                                                                                        \n",
       "                                                                                                                                        \n",
       "                                                                                                                                        \n",
       "        2       2                           2       2                       ⎞                                                           \n",
       "       ⎞       ∂               ⎛∂          ⎞       ∂             ∂          ⎟  -2⋅γ(ρ, τ) + 2⋅ψ(ρ, τ)  2⋅ψ(ρ, τ)                        \n",
       "(ρ, τ))⎟  - ρ⋅───(ψ(ρ, τ)) - ρ⋅⎜──(ψ(ρ, τ))⎟  + ρ⋅───(ψ(ρ, τ)) - ──(ψ(ρ, τ))⎟⋅ℯ                      ⋅ℯ                                 \n",
       "       ⎠        2              ⎝∂τ         ⎠        2            ∂ρ         ⎟                                                           \n",
       "              ∂ρ                                  ∂τ                        ⎠                                                           \n",
       "────────────────────────────────────────────────────────────────────────────────────────────────────────────────                        \n",
       "                                ρ                                                                                                       \n",
       "                                                                                                                                        \n",
       "                                                                                                                    ⎛    2              \n",
       "                                                                                                                    ⎜   ∂               \n",
       "                                                                                                                  ρ⋅⎜ρ⋅───(ψ(ρ, τ)) - ρ⋅\n",
       "                                                                                                                    ⎜    2              \n",
       "                                                                                                                    ⎝  ∂ρ               \n",
       "                                                                                                                                        \n",
       "                                                                                                                                        \n",
       "                                                                                                                                        \n",
       "                                                                                                                                        \n",
       "                                                                                                                                        \n",
       "                                                                                                                                        \n",
       "                                                                                                                                        \n",
       "                                                                                                                                        \n",
       "\n",
       "                                                                                                                                        \n",
       "                                                                                                                                        \n",
       "                                                                                                                                        \n",
       "                                                                                                                                        \n",
       "                                                                                                                                        \n",
       "                                                                                          0                                             \n",
       "                                                                                                                                        \n",
       "                                                                                                                                        \n",
       "                                                                                                                                        \n",
       "                                                                                                                                        \n",
       "                                                                                                                                        \n",
       "                                                                                                                                        \n",
       "                                                                                                                                        \n",
       "                                                                                          0                                             \n",
       "                                                                                                                                        \n",
       "                                                                                                                                        \n",
       "  2                       ⎞                     ⎛    2                2                           2       2                           2 \n",
       " ∂             ∂          ⎟  -2⋅γ(ρ, τ)         ⎜   ∂                ∂               ⎛∂          ⎞       ∂               ⎛∂          ⎞  \n",
       "───(ψ(ρ, τ)) + ──(ψ(ρ, τ))⎟⋅ℯ           + 1.0⋅ρ⋅⎜ρ⋅───(γ(ρ, τ)) - ρ⋅───(γ(ρ, τ)) + ρ⋅⎜──(ψ(ρ, τ))⎟  - ρ⋅───(ψ(ρ, τ)) - ρ⋅⎜──(ψ(ρ, τ))⎟  \n",
       "  2            ∂ρ         ⎟                     ⎜    2                2              ⎝∂ρ         ⎠        2              ⎝∂τ         ⎠  \n",
       "∂τ                        ⎠                     ⎝  ∂ρ               ∂τ                                  ∂ρ                              \n",
       "                                                                                                                                        \n",
       "                                                                                                                                        \n",
       "                                                                                                                                        \n",
       "                                                                                                                                        \n",
       "                                                                                                                                        \n",
       "                                                                                                                                        \n",
       "                                                                                          0                                             \n",
       "                                                                                                                                        \n",
       "\n",
       "                                                                                                                                        \n",
       "                                                                                                                                        \n",
       "                                                                                                                                        \n",
       "                                                                                                                                        \n",
       "                                                                                                                                        \n",
       "                                                                                                                                        \n",
       "                                                                                                                                        \n",
       "                                                                                                                                        \n",
       "                                                                                                                                        \n",
       "                                                                                                                                        \n",
       "                                                                                                                                        \n",
       "                                                                                                                                        \n",
       "                                                                                                                                        \n",
       "                                                                                                                                        \n",
       "                                                                                                                                        \n",
       "                                                                                                                                        \n",
       "      2                       ⎞                                                                                                         \n",
       "     ∂             ∂          ⎟  -2⋅γ(ρ, τ) + 2⋅ψ(ρ, τ)  -2⋅ψ(ρ, τ)                                                                     \n",
       "+ ρ⋅───(ψ(ρ, τ)) - ──(ψ(ρ, τ))⎟⋅ℯ                      ⋅ℯ                                                                               \n",
       "      2            ∂ρ         ⎟                                                                                                         \n",
       "    ∂τ                        ⎠                                                                                                         \n",
       "                                                                                                                                        \n",
       "                                                                       ⎛  2              2              2                           2   \n",
       "                                                                       ⎜ ∂              ∂              ∂               ⎛∂          ⎞    \n",
       "                                                                     ρ⋅⎜───(γ(ρ, τ)) - ───(γ(ρ, τ)) - ───(ψ(ρ, τ)) - 2⋅⎜──(ψ(ρ, τ))⎟  + \n",
       "                                                                       ⎜  2              2              2              ⎝∂τ         ⎠    \n",
       "                                                                       ⎝∂ρ             ∂τ             ∂ρ                                \n",
       "                                                                     ───────────────────────────────────────────────────────────────────\n",
       "                                                                                                                          ρ             \n",
       "\n",
       "                                                                                                                                        \n",
       "                                                                                                                                        \n",
       "                                                                                 ∂                                                      \n",
       "                                                                                 ──(γ(ρ, τ))                                            \n",
       "                                                       ∂           ∂             ∂τ                                                     \n",
       "                                                   - 2⋅──(ψ(ρ, τ))⋅──(ψ(ρ, τ)) + ───────────                                            \n",
       "                                                       ∂ρ          ∂τ                 ρ                                                 \n",
       "                                                                                                                                        \n",
       "                                                                                                                                        \n",
       "                                                                                                                                        \n",
       "                                                                                                                                        \n",
       "                                                                                                                                        \n",
       "                                                                                                                                        \n",
       "                                                                       0                                                                \n",
       "                                                                                                                                        \n",
       "                                                                                                                                        \n",
       "                                                                                                                                        \n",
       "                                                                                                                                        \n",
       "                                                                       0                                                                \n",
       "                                                                                                                                        \n",
       "                                                                                                                                        \n",
       "                                                                                                                                        \n",
       "  2         ⎞                               ⎛    2                2                           2       2                           2     \n",
       " ∂          ⎟   ∂             ∂             ⎜   ∂                ∂               ⎛∂          ⎞       ∂               ⎛∂          ⎞      \n",
       "───(ψ(ρ, τ))⎟ + ──(γ(ρ, τ)) - ──(ψ(ρ, τ))   ⎜ρ⋅───(γ(ρ, τ)) - ρ⋅───(γ(ρ, τ)) + ρ⋅⎜──(ψ(ρ, τ))⎟  - ρ⋅───(ψ(ρ, τ)) - ρ⋅⎜──(ψ(ρ, τ))⎟  + ρ⋅\n",
       "  2         ⎟   ∂ρ            ∂ρ            ⎜    2                2              ⎝∂ρ         ⎠        2              ⎝∂τ         ⎠      \n",
       "∂τ          ⎠                               ⎝  ∂ρ               ∂τ                                  ∂ρ                                  \n",
       "───────────────────────────────────────── - ────────────────────────────────────────────────────────────────────────────────────────────\n",
       "                                                                                                                              ρ         \n",
       "\n",
       "                                                                          ⎤\n",
       "                                                                          ⎥\n",
       "                                                                          ⎥\n",
       "                                                                          ⎥\n",
       "                                                                          ⎥\n",
       "                                                                          ⎥\n",
       "                                                                          ⎥\n",
       "                                                                          ⎥\n",
       "                                                                          ⎥\n",
       "                                                                          ⎥\n",
       "                                                                          ⎥\n",
       "                                                                          ⎥\n",
       "                                                                          ⎥\n",
       "                                                                          ⎥\n",
       "                                                                          ⎥\n",
       "                                                                          ⎥\n",
       "                                                                          ⎥\n",
       "                                                                          ⎥\n",
       "                                                                          ⎥\n",
       "                                                                          ⎥\n",
       "                                                                          ⎥\n",
       "                                                                          ⎥\n",
       "  2                       ⎞                                               ⎥\n",
       " ∂             ∂          ⎟  -2⋅γ(ρ, τ) + 2⋅ψ(ρ, τ)  2⋅γ(ρ, τ)  -2⋅ψ(ρ, τ)⎥\n",
       "───(ψ(ρ, τ)) - ──(ψ(ρ, τ))⎟⋅ℯ                      ⋅ℯ         ⋅ℯ          ⎥\n",
       "  2            ∂ρ         ⎟                                               ⎥\n",
       "∂τ                        ⎠                                               ⎥\n",
       "──────────────────────────────────────────────────────────────────────────⎥\n",
       "                                                                          ⎦"
      ]
     },
     "execution_count": 18,
     "metadata": {},
     "output_type": "execute_result"
    }
   ],
   "source": [
    "einst = EinsteinTensor.from_metric(metric)\n",
    "einst.tensor()"
   ]
  },
  {
   "cell_type": "code",
   "execution_count": null,
   "id": "67af5683",
   "metadata": {},
   "outputs": [],
   "source": [
    "#  rm1 = RiemannCurvatureTensor.from_christoffels(ch)\n",
    "#  rm1.tensor()"
   ]
  },
  {
   "cell_type": "code",
   "execution_count": null,
   "id": "c0bba7b8",
   "metadata": {},
   "outputs": [],
   "source": [
    "#  weyl = WeylTensor.from_metric(metric)\n",
    "#  weyl.tensor()"
   ]
  },
  {
   "cell_type": "code",
   "execution_count": 19,
   "id": "97825625",
   "metadata": {},
   "outputs": [
    {
     "data": {
      "text/latex": [
       "$\\displaystyle \\left[\\begin{matrix}- 1.0 \\left(\\frac{\\partial}{\\partial \\rho} \\psi{\\left(\\rho,\\tau \\right)}\\right)^{2} - 1.0 \\left(\\frac{\\partial}{\\partial \\tau} \\psi{\\left(\\rho,\\tau \\right)}\\right)^{2} + \\frac{1.0 \\frac{\\partial}{\\partial \\rho} \\gamma{\\left(\\rho,\\tau \\right)}}{\\rho} & 0 & 0 & - 2 \\frac{\\partial}{\\partial \\rho} \\psi{\\left(\\rho,\\tau \\right)} \\frac{\\partial}{\\partial \\tau} \\psi{\\left(\\rho,\\tau \\right)} + \\frac{\\frac{\\partial}{\\partial \\tau} \\gamma{\\left(\\rho,\\tau \\right)}}{\\rho}\\\\0 & \\frac{\\left(1.0 \\rho \\frac{\\partial^{2}}{\\partial \\rho^{2}} \\gamma{\\left(\\rho,\\tau \\right)} - 1.0 \\rho \\frac{\\partial^{2}}{\\partial \\tau^{2}} \\gamma{\\left(\\rho,\\tau \\right)} + 1.0 \\rho \\left(\\frac{\\partial}{\\partial \\rho} \\psi{\\left(\\rho,\\tau \\right)}\\right)^{2} - 2.0 \\rho \\frac{\\partial^{2}}{\\partial \\rho^{2}} \\psi{\\left(\\rho,\\tau \\right)} - 1.0 \\rho \\left(\\frac{\\partial}{\\partial \\tau} \\psi{\\left(\\rho,\\tau \\right)}\\right)^{2} + 2.0 \\rho \\frac{\\partial^{2}}{\\partial \\tau^{2}} \\psi{\\left(\\rho,\\tau \\right)} - 2.0 \\frac{\\partial}{\\partial \\rho} \\psi{\\left(\\rho,\\tau \\right)}\\right) e^{- 2 \\gamma{\\left(\\rho,\\tau \\right)} + 4 \\psi{\\left(\\rho,\\tau \\right)}}}{\\rho} & 0 & 0\\\\0 & 0 & 1.0 \\rho^{2} \\left(\\frac{\\partial^{2}}{\\partial \\rho^{2}} \\gamma{\\left(\\rho,\\tau \\right)} - \\frac{\\partial^{2}}{\\partial \\tau^{2}} \\gamma{\\left(\\rho,\\tau \\right)} + \\left(\\frac{\\partial}{\\partial \\rho} \\psi{\\left(\\rho,\\tau \\right)}\\right)^{2} - \\left(\\frac{\\partial}{\\partial \\tau} \\psi{\\left(\\rho,\\tau \\right)}\\right)^{2}\\right) e^{- 2 \\gamma{\\left(\\rho,\\tau \\right)}} & 0\\\\- 2 \\frac{\\partial}{\\partial \\rho} \\psi{\\left(\\rho,\\tau \\right)} \\frac{\\partial}{\\partial \\tau} \\psi{\\left(\\rho,\\tau \\right)} + \\frac{\\frac{\\partial}{\\partial \\tau} \\gamma{\\left(\\rho,\\tau \\right)}}{\\rho} & 0 & 0 & - 1.0 \\left(\\frac{\\partial}{\\partial \\rho} \\psi{\\left(\\rho,\\tau \\right)}\\right)^{2} - 1.0 \\left(\\frac{\\partial}{\\partial \\tau} \\psi{\\left(\\rho,\\tau \\right)}\\right)^{2} + \\frac{1.0 \\frac{\\partial}{\\partial \\rho} \\gamma{\\left(\\rho,\\tau \\right)}}{\\rho}\\end{matrix}\\right]$"
      ],
      "text/plain": [
       "⎡                                        ∂                                                                                              \n",
       "⎢               2                2   1.0⋅──(γ(ρ, τ))                                                                                    \n",
       "⎢  ⎛∂          ⎞    ⎛∂          ⎞        ∂ρ                                                                                             \n",
       "⎢- ⎜──(ψ(ρ, τ))⎟  - ⎜──(ψ(ρ, τ))⎟  + ───────────────                                                                                   0\n",
       "⎢  ⎝∂ρ         ⎠    ⎝∂τ         ⎠           ρ                                                                                           \n",
       "⎢                                                                                                                                       \n",
       "⎢                                                     ⎛        2                2                               2           2           \n",
       "⎢                                                     ⎜       ∂                ∂                   ⎛∂          ⎞           ∂            \n",
       "⎢                                                     ⎜1.0⋅ρ⋅───(γ(ρ, τ)) - ρ⋅───(γ(ρ, τ)) + 1.0⋅ρ⋅⎜──(ψ(ρ, τ))⎟  - 2.0⋅ρ⋅───(ψ(ρ, τ)) -\n",
       "⎢                                                     ⎜        2                2                  ⎝∂ρ         ⎠            2           \n",
       "⎢                                                     ⎝      ∂ρ               ∂τ                                          ∂ρ            \n",
       "⎢                         0                           ──────────────────────────────────────────────────────────────────────────────────\n",
       "⎢                                                                                                                                      ρ\n",
       "⎢                                                                                                                                       \n",
       "⎢                                                                                                                                       \n",
       "⎢                                                                                                                                       \n",
       "⎢                         0                                                                                                            0\n",
       "⎢                                                                                                                                       \n",
       "⎢                                                                                                                                       \n",
       "⎢                                                                                                                                       \n",
       "⎢                                   ∂                                                                                                   \n",
       "⎢                                   ──(γ(ρ, τ))                                                                                         \n",
       "⎢         ∂           ∂             ∂τ                                                                                                  \n",
       "⎢     - 2⋅──(ψ(ρ, τ))⋅──(ψ(ρ, τ)) + ───────────                                                                                        0\n",
       "⎣         ∂ρ          ∂τ                 ρ                                                                                              \n",
       "\n",
       "                                                                                                                                        \n",
       "                                                                                                                                        \n",
       "                                                                                                                                        \n",
       "                                                                                                                           0            \n",
       "                                                                                                                                        \n",
       "                                                                                                                                        \n",
       "                2           2                           ⎞                                                                               \n",
       "   ⎛∂          ⎞           ∂                 ∂          ⎟  -2⋅γ(ρ, τ) + 4⋅ψ(ρ, τ)                                                       \n",
       " ρ⋅⎜──(ψ(ρ, τ))⎟  + 2.0⋅ρ⋅───(ψ(ρ, τ)) - 2.0⋅──(ψ(ρ, τ))⎟⋅ℯ                                                                             \n",
       "   ⎝∂τ         ⎠            2                ∂ρ         ⎟                                                                               \n",
       "                          ∂τ                            ⎠                                                                               \n",
       "─────────────────────────────────────────────────────────────────────────────────                                          0            \n",
       "                                                                                                                                        \n",
       "                                                                                                                                        \n",
       "                                                                                          ⎛  2              2                         2 \n",
       "                                                                                        2 ⎜ ∂              ∂             ⎛∂          ⎞  \n",
       "                                                                                   1.0⋅ρ ⋅⎜───(γ(ρ, τ)) - ───(γ(ρ, τ)) + ⎜──(ψ(ρ, τ))⎟  \n",
       "                                                                                          ⎜  2              2            ⎝∂ρ         ⎠  \n",
       "                                                                                          ⎝∂ρ             ∂τ                            \n",
       "                                                                                                                                        \n",
       "                                                                                                                                        \n",
       "                                                                                                                                        \n",
       "                                                                                                                                        \n",
       "                                                                                                                           0            \n",
       "                                                                                                                                        \n",
       "\n",
       "                                                                  ∂               ⎤\n",
       "                                                                  ──(γ(ρ, τ))     ⎥\n",
       "                                        ∂           ∂             ∂τ              ⎥\n",
       "                                    - 2⋅──(ψ(ρ, τ))⋅──(ψ(ρ, τ)) + ───────────     ⎥\n",
       "                                        ∂ρ          ∂τ                 ρ          ⎥\n",
       "                                                                                  ⎥\n",
       "                                                                                  ⎥\n",
       "                                                                                  ⎥\n",
       "                                                                                  ⎥\n",
       "                                                                                  ⎥\n",
       "                                                                                  ⎥\n",
       "                                                        0                         ⎥\n",
       "                                                                                  ⎥\n",
       "                                                                                  ⎥\n",
       "               2⎞                                                                 ⎥\n",
       "  ⎛∂          ⎞ ⎟  -2⋅γ(ρ, τ)                                                     ⎥\n",
       "- ⎜──(ψ(ρ, τ))⎟ ⎟⋅ℯ                                     0                         ⎥\n",
       "  ⎝∂τ         ⎠ ⎟                                                                 ⎥\n",
       "                ⎠                                                                 ⎥\n",
       "                                                                                  ⎥\n",
       "                                                                       ∂          ⎥\n",
       "                                              2                2   1.0⋅──(γ(ρ, τ))⎥\n",
       "                                 ⎛∂          ⎞    ⎛∂          ⎞        ∂ρ         ⎥\n",
       "                               - ⎜──(ψ(ρ, τ))⎟  - ⎜──(ψ(ρ, τ))⎟  + ───────────────⎥\n",
       "                                 ⎝∂ρ         ⎠    ⎝∂τ         ⎠           ρ       ⎦"
      ]
     },
     "execution_count": 19,
     "metadata": {},
     "output_type": "execute_result"
    }
   ],
   "source": [
    "einsteinSimplifed = simplify(einst.tensor()) \n",
    "einsteinSimplifed"
   ]
  },
  {
   "cell_type": "code",
   "execution_count": 20,
   "id": "827e871b",
   "metadata": {},
   "outputs": [
    {
     "data": {
      "text/latex": [
       "$\\displaystyle \\left[\\begin{matrix}\\frac{- \\rho \\left(\\frac{\\partial^{2}}{\\partial \\rho^{2}} \\gamma{\\left(\\rho,\\tau \\right)} - \\frac{\\partial^{2}}{\\partial \\tau^{2}} \\gamma{\\left(\\rho,\\tau \\right)} + 2 \\left(\\frac{\\partial}{\\partial \\rho} \\psi{\\left(\\rho,\\tau \\right)}\\right)^{2} - \\frac{\\partial^{2}}{\\partial \\rho^{2}} \\psi{\\left(\\rho,\\tau \\right)} + \\frac{\\partial^{2}}{\\partial \\tau^{2}} \\psi{\\left(\\rho,\\tau \\right)}\\right) + \\frac{\\partial}{\\partial \\rho} \\gamma{\\left(\\rho,\\tau \\right)} + \\frac{\\partial}{\\partial \\rho} \\psi{\\left(\\rho,\\tau \\right)}}{\\rho} & 0 & 0 & - 2 \\frac{\\partial}{\\partial \\rho} \\psi{\\left(\\rho,\\tau \\right)} \\frac{\\partial}{\\partial \\tau} \\psi{\\left(\\rho,\\tau \\right)} + \\frac{\\frac{\\partial}{\\partial \\tau} \\gamma{\\left(\\rho,\\tau \\right)}}{\\rho}\\\\0 & \\frac{\\left(- \\rho \\frac{\\partial^{2}}{\\partial \\rho^{2}} \\psi{\\left(\\rho,\\tau \\right)} + \\rho \\frac{\\partial^{2}}{\\partial \\tau^{2}} \\psi{\\left(\\rho,\\tau \\right)} - \\frac{\\partial}{\\partial \\rho} \\psi{\\left(\\rho,\\tau \\right)}\\right) e^{- 2 \\gamma{\\left(\\rho,\\tau \\right)} + 4 \\psi{\\left(\\rho,\\tau \\right)}}}{\\rho} & 0 & 0\\\\0 & 0 & \\rho \\left(\\rho \\frac{\\partial^{2}}{\\partial \\rho^{2}} \\psi{\\left(\\rho,\\tau \\right)} - \\rho \\frac{\\partial^{2}}{\\partial \\tau^{2}} \\psi{\\left(\\rho,\\tau \\right)} + \\frac{\\partial}{\\partial \\rho} \\psi{\\left(\\rho,\\tau \\right)}\\right) e^{- 2 \\gamma{\\left(\\rho,\\tau \\right)}} & 0\\\\- 2 \\frac{\\partial}{\\partial \\rho} \\psi{\\left(\\rho,\\tau \\right)} \\frac{\\partial}{\\partial \\tau} \\psi{\\left(\\rho,\\tau \\right)} + \\frac{\\frac{\\partial}{\\partial \\tau} \\gamma{\\left(\\rho,\\tau \\right)}}{\\rho} & 0 & 0 & \\frac{- \\rho \\left(- \\frac{\\partial^{2}}{\\partial \\rho^{2}} \\gamma{\\left(\\rho,\\tau \\right)} + \\frac{\\partial^{2}}{\\partial \\tau^{2}} \\gamma{\\left(\\rho,\\tau \\right)} + \\frac{\\partial^{2}}{\\partial \\rho^{2}} \\psi{\\left(\\rho,\\tau \\right)} + 2 \\left(\\frac{\\partial}{\\partial \\tau} \\psi{\\left(\\rho,\\tau \\right)}\\right)^{2} - \\frac{\\partial^{2}}{\\partial \\tau^{2}} \\psi{\\left(\\rho,\\tau \\right)}\\right) + \\frac{\\partial}{\\partial \\rho} \\gamma{\\left(\\rho,\\tau \\right)} - \\frac{\\partial}{\\partial \\rho} \\psi{\\left(\\rho,\\tau \\right)}}{\\rho}\\end{matrix}\\right]$"
      ],
      "text/plain": [
       "⎡    ⎛  2              2                           2     2              2         ⎞                                                     \n",
       "⎢    ⎜ ∂              ∂               ⎛∂          ⎞     ∂              ∂          ⎟   ∂             ∂                                   \n",
       "⎢- ρ⋅⎜───(γ(ρ, τ)) - ───(γ(ρ, τ)) + 2⋅⎜──(ψ(ρ, τ))⎟  - ───(ψ(ρ, τ)) + ───(ψ(ρ, τ))⎟ + ──(γ(ρ, τ)) + ──(ψ(ρ, τ))                         \n",
       "⎢    ⎜  2              2              ⎝∂ρ         ⎠      2              2         ⎟   ∂ρ            ∂ρ                                  \n",
       "⎢    ⎝∂ρ             ∂τ                                ∂ρ             ∂τ          ⎠                                                     \n",
       "⎢──────────────────────────────────────────────────────────────────────────────────────────────────────────────                         \n",
       "⎢                                                      ρ                                                                                \n",
       "⎢                                                                                                                                       \n",
       "⎢                                                                                                                ⎛      2               \n",
       "⎢                                                                                                                ⎜     ∂                \n",
       "⎢                                                                                                                ⎜- ρ⋅───(ψ(ρ, τ)) + ρ⋅─\n",
       "⎢                                                                                                                ⎜      2               \n",
       "⎢                                                                                                                ⎝    ∂ρ               ∂\n",
       "⎢                                                      0                                                         ───────────────────────\n",
       "⎢                                                                                                                                       \n",
       "⎢                                                                                                                                       \n",
       "⎢                                                                                                                                       \n",
       "⎢                                                                                                                                       \n",
       "⎢                                                      0                                                                                \n",
       "⎢                                                                                                                                       \n",
       "⎢                                                                                                                                       \n",
       "⎢                                                                                                                                       \n",
       "⎢                                                                                                                                       \n",
       "⎢                                                                                                                                       \n",
       "⎢                                                                ∂                                                                      \n",
       "⎢                                                                ──(γ(ρ, τ))                                                            \n",
       "⎢                                      ∂           ∂             ∂τ                                                                     \n",
       "⎢                                  - 2⋅──(ψ(ρ, τ))⋅──(ψ(ρ, τ)) + ───────────                                                            \n",
       "⎣                                      ∂ρ          ∂τ                 ρ                                                                 \n",
       "\n",
       "                                                                                                                                        \n",
       "                                                                                                                                        \n",
       "                                                                                                                                        \n",
       "                                                                                                                                        \n",
       "                                                                                                                                        \n",
       "             0                                                                    0                                                     \n",
       "                                                                                                                                        \n",
       "                                                                                                                                        \n",
       " 2                       ⎞                                                                                                              \n",
       "∂             ∂          ⎟  -2⋅γ(ρ, τ) + 4⋅ψ(ρ, τ)                                                                                      \n",
       "──(ψ(ρ, τ)) - ──(ψ(ρ, τ))⎟⋅ℯ                                                                                                            \n",
       " 2            ∂ρ         ⎟                                                                                                              \n",
       "τ                        ⎠                                                                                                              \n",
       "──────────────────────────────────────────────────                                0                                                     \n",
       "             ρ                                                                                                                          \n",
       "                                                                                                                                        \n",
       "                                                      ⎛    2                2                       ⎞                                   \n",
       "                                                      ⎜   ∂                ∂             ∂          ⎟  -2⋅γ(ρ, τ)                       \n",
       "             0                                      ρ⋅⎜ρ⋅───(ψ(ρ, τ)) - ρ⋅───(ψ(ρ, τ)) + ──(ψ(ρ, τ))⎟⋅ℯ                                 \n",
       "                                                      ⎜    2                2            ∂ρ         ⎟                                   \n",
       "                                                      ⎝  ∂ρ               ∂τ                        ⎠                                   \n",
       "                                                                                                                                        \n",
       "                                                                                                                       ⎛    2           \n",
       "                                                                                                                       ⎜   ∂            \n",
       "                                                                                                                   - ρ⋅⎜- ───(γ(ρ, τ)) +\n",
       "                                                                                                                       ⎜    2           \n",
       "                                                                                                                       ⎝  ∂ρ            \n",
       "             0                                                                    0                                ─────────────────────\n",
       "                                                                                                                                        \n",
       "\n",
       "                                                                                           ⎤\n",
       "                                                                                           ⎥\n",
       "                                            ∂                                              ⎥\n",
       "                                            ──(γ(ρ, τ))                                    ⎥\n",
       "                  ∂           ∂             ∂τ                                             ⎥\n",
       "              - 2⋅──(ψ(ρ, τ))⋅──(ψ(ρ, τ)) + ───────────                                    ⎥\n",
       "                  ∂ρ          ∂τ                 ρ                                         ⎥\n",
       "                                                                                           ⎥\n",
       "                                                                                           ⎥\n",
       "                                                                                           ⎥\n",
       "                                                                                           ⎥\n",
       "                                                                                           ⎥\n",
       "                                                                                           ⎥\n",
       "                                  0                                                        ⎥\n",
       "                                                                                           ⎥\n",
       "                                                                                           ⎥\n",
       "                                                                                           ⎥\n",
       "                                                                                           ⎥\n",
       "                                  0                                                        ⎥\n",
       "                                                                                           ⎥\n",
       "                                                                                           ⎥\n",
       "                                                                                           ⎥\n",
       "   2              2                           2     2         ⎞                            ⎥\n",
       "  ∂              ∂               ⎛∂          ⎞     ∂          ⎟   ∂             ∂          ⎥\n",
       " ───(γ(ρ, τ)) + ───(ψ(ρ, τ)) + 2⋅⎜──(ψ(ρ, τ))⎟  - ───(ψ(ρ, τ))⎟ + ──(γ(ρ, τ)) - ──(ψ(ρ, τ))⎥\n",
       "   2              2              ⎝∂τ         ⎠      2         ⎟   ∂ρ            ∂ρ         ⎥\n",
       " ∂τ             ∂ρ                                ∂τ          ⎠                            ⎥\n",
       "───────────────────────────────────────────────────────────────────────────────────────────⎥\n",
       "                                  ρ                                                        ⎦"
      ]
     },
     "execution_count": 20,
     "metadata": {},
     "output_type": "execute_result"
    }
   ],
   "source": [
    "ricciSimplified = simplify(Ric.tensor())\n",
    "ricciSimplified"
   ]
  },
  {
   "cell_type": "code",
   "execution_count": 32,
   "id": "43c70b27",
   "metadata": {},
   "outputs": [
    {
     "data": {
      "image/png": "[encoded data removed]",
      "text/latex": [
       "$\\displaystyle \\frac{\\partial^{2}}{\\partial \\rho^{2}} \\psi{\\left(\\rho,\\tau \\right)} - \\frac{\\partial^{2}}{\\partial \\tau^{2}} \\psi{\\left(\\rho,\\tau \\right)} + \\frac{\\frac{\\partial}{\\partial \\rho} \\psi{\\left(\\rho,\\tau \\right)}}{\\rho}$"
      ],
      "text/plain": [
       "                              ∂          \n",
       "  2              2            ──(ψ(ρ, τ))\n",
       " ∂              ∂             ∂ρ         \n",
       "───(ψ(ρ, τ)) - ───(ψ(ρ, τ)) + ───────────\n",
       "  2              2                 ρ     \n",
       "∂ρ             ∂τ                        "
      ]
     },
     "execution_count": 32,
     "metadata": {},
     "output_type": "execute_result"
    }
   ],
   "source": [
    "equation14 = expand((-1/rho)*ricciSimplified[1,1].args[1])\n",
    "equation14"
   ]
  },
  {
   "cell_type": "code",
   "execution_count": 30,
   "id": "adc60bc8",
   "metadata": {},
   "outputs": [
    {
     "data": {
      "image/png": "[encoded data removed]",
      "text/latex": [
       "$\\displaystyle \\frac{\\partial}{\\partial \\tau} \\gamma{\\left(\\rho,\\tau \\right)} = 2 \\rho \\frac{\\partial}{\\partial \\rho} \\psi{\\left(\\rho,\\tau \\right)} \\frac{\\partial}{\\partial \\tau} \\psi{\\left(\\rho,\\tau \\right)}$"
      ],
      "text/plain": [
       "∂                 ∂           ∂          \n",
       "──(γ(ρ, τ)) = 2⋅ρ⋅──(ψ(ρ, τ))⋅──(ψ(ρ, τ))\n",
       "∂τ                ∂ρ          ∂τ         "
      ]
     },
     "execution_count": 30,
     "metadata": {},
     "output_type": "execute_result"
    }
   ],
   "source": [
    "equation15c = Eq( diff(gamma,tau) , solve( einsteinSimplifed[0,3] , diff(gamma,tau) )[0] ) \n",
    "equation15c"
   ]
  },
  {
   "cell_type": "code",
   "execution_count": 31,
   "id": "12bc1b74",
   "metadata": {
    "scrolled": true
   },
   "outputs": [
    {
     "data": {
      "image/png": "[encoded data removed]",
      "text/latex": [
       "$\\displaystyle \\frac{\\partial}{\\partial \\rho} \\gamma{\\left(\\rho,\\tau \\right)} = \\rho \\left(\\left(\\frac{\\partial}{\\partial \\rho} \\psi{\\left(\\rho,\\tau \\right)}\\right)^{2} + \\left(\\frac{\\partial}{\\partial \\tau} \\psi{\\left(\\rho,\\tau \\right)}\\right)^{2}\\right)$"
      ],
      "text/plain": [
       "                ⎛             2                2⎞\n",
       "∂               ⎜⎛∂          ⎞    ⎛∂          ⎞ ⎟\n",
       "──(γ(ρ, τ)) = ρ⋅⎜⎜──(ψ(ρ, τ))⎟  + ⎜──(ψ(ρ, τ))⎟ ⎟\n",
       "∂ρ              ⎝⎝∂ρ         ⎠    ⎝∂τ         ⎠ ⎠"
      ]
     },
     "execution_count": 31,
     "metadata": {},
     "output_type": "execute_result"
    }
   ],
   "source": [
    "equation15d = Eq( diff(gamma,rho) , solve( einsteinSimplifed[0,0] , diff(gamma,rho) )[0] ) \n",
    "equation15d"
   ]
  },
  {
   "cell_type": "code",
   "execution_count": 34,
   "id": "8ed006e7",
   "metadata": {},
   "outputs": [
    {
     "data": {
      "text/latex": [
       "$\\displaystyle \\left[\\begin{matrix}\\frac{\\partial^{2}}{\\partial \\rho^{2}} \\psi{\\left(\\rho,\\tau \\right)} - \\frac{\\partial^{2}}{\\partial \\tau^{2}} \\psi{\\left(\\rho,\\tau \\right)} + \\frac{\\frac{\\partial}{\\partial \\rho} \\psi{\\left(\\rho,\\tau \\right)}}{\\rho}\\\\\\frac{\\partial}{\\partial \\tau} \\gamma{\\left(\\rho,\\tau \\right)} = 2 \\rho \\frac{\\partial}{\\partial \\rho} \\psi{\\left(\\rho,\\tau \\right)} \\frac{\\partial}{\\partial \\tau} \\psi{\\left(\\rho,\\tau \\right)}\\\\\\frac{\\partial}{\\partial \\rho} \\gamma{\\left(\\rho,\\tau \\right)} = \\rho \\left(\\left(\\frac{\\partial}{\\partial \\rho} \\psi{\\left(\\rho,\\tau \\right)}\\right)^{2} + \\left(\\frac{\\partial}{\\partial \\tau} \\psi{\\left(\\rho,\\tau \\right)}\\right)^{2}\\right)\\end{matrix}\\right]$"
      ],
      "text/plain": [
       "⎡                                  ∂              ⎤\n",
       "⎢      2              2            ──(ψ(ρ, τ))    ⎥\n",
       "⎢     ∂              ∂             ∂ρ             ⎥\n",
       "⎢    ───(ψ(ρ, τ)) - ───(ψ(ρ, τ)) + ───────────    ⎥\n",
       "⎢      2              2                 ρ         ⎥\n",
       "⎢    ∂ρ             ∂τ                            ⎥\n",
       "⎢                                                 ⎥\n",
       "⎢    ∂                 ∂           ∂              ⎥\n",
       "⎢    ──(γ(ρ, τ)) = 2⋅ρ⋅──(ψ(ρ, τ))⋅──(ψ(ρ, τ))    ⎥\n",
       "⎢    ∂τ                ∂ρ          ∂τ             ⎥\n",
       "⎢                                                 ⎥\n",
       "⎢                ⎛             2                2⎞⎥\n",
       "⎢∂               ⎜⎛∂          ⎞    ⎛∂          ⎞ ⎟⎥\n",
       "⎢──(γ(ρ, τ)) = ρ⋅⎜⎜──(ψ(ρ, τ))⎟  + ⎜──(ψ(ρ, τ))⎟ ⎟⎥\n",
       "⎣∂ρ              ⎝⎝∂ρ         ⎠    ⎝∂τ         ⎠ ⎠⎦"
      ]
     },
     "execution_count": 34,
     "metadata": {},
     "output_type": "execute_result"
    }
   ],
   "source": [
    "vacuumFieldEquations = Matrix([equation14,equation15c,equation15d])\n",
    "vacuumFieldEquations"
   ]
  },
  {
   "cell_type": "code",
   "execution_count": null,
   "id": "e85aabc7",
   "metadata": {},
   "outputs": [],
   "source": []
  }
 ],
 "metadata": {
  "@webio": {
   "lastCommId": "5b4942f5c83146bd8d96cb62914c900a",
   "lastKernelId": "c2cc53b0-e43e-4e2d-8997-f6c846cd76d4"
  },
  "kernelspec": {
   "display_name": "Python 3 (ipykernel)",
   "language": "python",
   "name": "python3"
  },
  "language_info": {
   "codemirror_mode": {
    "name": "ipython",
    "version": 3
   },
   "file_extension": ".py",
   "mimetype": "text/x-python",
   "name": "python",
   "nbconvert_exporter": "python",
   "pygments_lexer": "ipython3",
   "version": "3.8.8"
  }
 },
 "nbformat": 4,
 "nbformat_minor": 5
}
