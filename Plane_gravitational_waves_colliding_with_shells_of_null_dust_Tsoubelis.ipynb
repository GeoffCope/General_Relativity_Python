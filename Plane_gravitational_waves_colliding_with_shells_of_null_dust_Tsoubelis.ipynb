{
 "cells": [
  {
   "cell_type": "markdown",
   "id": "d6bfb7b2",
   "metadata": {},
   "source": [
    "# Plane gravitational waves colliding with shells of null dust by Tsoubelis\n",
    "##  Geoff Cope\n",
    "##  Univeristy of Utah\n",
    "##  𐐏𐐭𐑌𐐲𐑂𐐲𐑉𐑅𐐮𐐻𐐨 𐐲𐑂 𐐏𐐭𐐻𐐫\n",
    "##  January 22, 2022"
   ]
  },
  {
   "cell_type": "markdown",
   "id": "9f71663b",
   "metadata": {},
   "source": [
    "http://galaxy.cti.gr/dep/sites/default/files/[1989]_Plane%20gravitational%20waves%20colliding%20with%20shells%20of%20null%20dust.pdf"
   ]
  },
  {
   "cell_type": "code",
   "execution_count": 1,
   "id": "5bfe2fa9",
   "metadata": {},
   "outputs": [
    {
     "name": "stdout",
     "output_type": "stream",
     "text": [
      "IPython console for SymPy 1.9 (Python 3.8.8-64-bit) (ground types: gmpy)\n",
      "\n",
      "These commands were executed:\n",
      ">>> from __future__ import division\n",
      ">>> from sympy import *\n",
      ">>> x, y, z, t = symbols('x y z t')\n",
      ">>> k, m, n = symbols('k m n', integer=True)\n",
      ">>> f, g, h = symbols('f g h', cls=Function)\n",
      ">>> init_printing()\n",
      "\n",
      "Documentation can be found at https://docs.sympy.org/1.9/\n",
      "\n"
     ]
    }
   ],
   "source": [
    "from sympy import init_session\n",
    "init_session(use_latex=True)"
   ]
  },
  {
   "cell_type": "code",
   "execution_count": 2,
   "id": "629392a9",
   "metadata": {},
   "outputs": [],
   "source": [
    "import warnings\n",
    "import matplotlib.cbook\n",
    "warnings.filterwarnings(\"ignore\",category=matplotlib.cbook.mplDeprecation)"
   ]
  },
  {
   "cell_type": "code",
   "execution_count": 3,
   "id": "72a64ecb",
   "metadata": {},
   "outputs": [],
   "source": [
    "u,v,x,y,du,dv,dx,dy = symbols('u v x y du dv dx dy')"
   ]
  },
  {
   "cell_type": "code",
   "execution_count": 4,
   "id": "9bd3e5d1",
   "metadata": {},
   "outputs": [
    {
     "data": {
      "image/png": "[encoded data removed]",
      "text/latex": [
       "$\\displaystyle M{\\left(u,v \\right)}$"
      ],
      "text/plain": [
       "M(u, v)"
      ]
     },
     "execution_count": 4,
     "metadata": {},
     "output_type": "execute_result"
    }
   ],
   "source": [
    "M = Function('M')(u,v)\n",
    "M"
   ]
  },
  {
   "cell_type": "code",
   "execution_count": 5,
   "id": "eff17014",
   "metadata": {},
   "outputs": [
    {
     "data": {
      "image/png": "[encoded data removed]",
      "text/latex": [
       "$\\displaystyle U{\\left(u,v \\right)}$"
      ],
      "text/plain": [
       "U(u, v)"
      ]
     },
     "execution_count": 5,
     "metadata": {},
     "output_type": "execute_result"
    }
   ],
   "source": [
    "U = Function('U')(u,v)\n",
    "U"
   ]
  },
  {
   "cell_type": "code",
   "execution_count": 6,
   "id": "132cbed5",
   "metadata": {},
   "outputs": [
    {
     "data": {
      "image/png": "[encoded data removed]",
      "text/latex": [
       "$\\displaystyle V{\\left(u,v \\right)}$"
      ],
      "text/plain": [
       "V(u, v)"
      ]
     },
     "execution_count": 6,
     "metadata": {},
     "output_type": "execute_result"
    }
   ],
   "source": [
    "V = Function('V')(u,v)\n",
    "V"
   ]
  },
  {
   "cell_type": "code",
   "execution_count": 7,
   "id": "aa7ad237",
   "metadata": {},
   "outputs": [
    {
     "data": {
      "text/latex": [
       "$\\displaystyle \\left[\\begin{matrix}u\\\\v\\\\x\\\\y\\end{matrix}\\right]$"
      ],
      "text/plain": [
       "⎡u⎤\n",
       "⎢ ⎥\n",
       "⎢v⎥\n",
       "⎢ ⎥\n",
       "⎢x⎥\n",
       "⎢ ⎥\n",
       "⎣y⎦"
      ]
     },
     "execution_count": 7,
     "metadata": {},
     "output_type": "execute_result"
    }
   ],
   "source": [
    "variables = Matrix([u,v,x,y])\n",
    "variables"
   ]
  },
  {
   "cell_type": "code",
   "execution_count": 8,
   "id": "48cdd299",
   "metadata": {},
   "outputs": [
    {
     "data": {
      "text/latex": [
       "$\\displaystyle \\left[\\begin{matrix}du\\\\dv\\\\dx\\\\dy\\end{matrix}\\right]$"
      ],
      "text/plain": [
       "⎡du⎤\n",
       "⎢  ⎥\n",
       "⎢dv⎥\n",
       "⎢  ⎥\n",
       "⎢dx⎥\n",
       "⎢  ⎥\n",
       "⎣dy⎦"
      ]
     },
     "execution_count": 8,
     "metadata": {},
     "output_type": "execute_result"
    }
   ],
   "source": [
    "differentials = Matrix([du,dv,dx,dy])\n",
    "differentials "
   ]
  },
  {
   "cell_type": "code",
   "execution_count": 9,
   "id": "2ef6d006",
   "metadata": {},
   "outputs": [
    {
     "data": {
      "image/png": "[encoded data removed]",
      "text/latex": [
       "$\\displaystyle 2 du dv e^{- M{\\left(u,v \\right)}} - dx^{2} e^{- U{\\left(u,v \\right)}} e^{V{\\left(u,v \\right)}} - dy^{2} e^{- U{\\left(u,v \\right)}} e^{- V{\\left(u,v \\right)}}$"
      ],
      "text/plain": [
       "         -M(u, v)     2  -U(u, v)  V(u, v)     2  -U(u, v)  -V(u, v)\n",
       "2⋅du⋅dv⋅ℯ         - dx ⋅ℯ        ⋅ℯ        - dy ⋅ℯ        ⋅ℯ        "
      ]
     },
     "execution_count": 9,
     "metadata": {},
     "output_type": "execute_result"
    }
   ],
   "source": [
    "lineElement = expand( 2*exp(-M)*du*dv -exp(-U)* (exp(V)*dx**2 + exp(-V)*dy**2) ) \n",
    "lineElement"
   ]
  },
  {
   "cell_type": "code",
   "execution_count": 10,
   "id": "cbe2342c",
   "metadata": {},
   "outputs": [
    {
     "data": {
      "text/latex": [
       "$\\displaystyle \\left[\\begin{matrix}0 & e^{- M{\\left(u,v \\right)}} & 0 & 0\\\\e^{- M{\\left(u,v \\right)}} & 0 & 0 & 0\\\\0 & 0 & - e^{- U{\\left(u,v \\right)}} e^{V{\\left(u,v \\right)}} & 0\\\\0 & 0 & 0 & - e^{- U{\\left(u,v \\right)}} e^{- V{\\left(u,v \\right)}}\\end{matrix}\\right]$"
      ],
      "text/plain": [
       "⎡            -M(u, v)                                           ⎤\n",
       "⎢    0      ℯ                   0                    0          ⎥\n",
       "⎢                                                               ⎥\n",
       "⎢ -M(u, v)                                                      ⎥\n",
       "⎢ℯ              0               0                    0          ⎥\n",
       "⎢                                                               ⎥\n",
       "⎢                        -U(u, v)  V(u, v)                      ⎥\n",
       "⎢    0          0      -ℯ        ⋅ℯ                  0          ⎥\n",
       "⎢                                                               ⎥\n",
       "⎢                                             -U(u, v)  -V(u, v)⎥\n",
       "⎣    0          0               0           -ℯ        ⋅ℯ        ⎦"
      ]
     },
     "execution_count": 10,
     "metadata": {},
     "output_type": "execute_result"
    }
   ],
   "source": [
    "g = zeros(4)\n",
    "\n",
    "for i in range(4):\n",
    "    for j in range(4):\n",
    "        if i == j:\n",
    "            g[i,j] = lineElement.coeff( differentials[i],2 ) \n",
    "        else:\n",
    "            g[i,j] = Rational(1,2)*lineElement.coeff( differentials[i]*differentials[j],1 )\n",
    "            \n",
    "g"
   ]
  },
  {
   "cell_type": "code",
   "execution_count": 11,
   "id": "0d4039bb",
   "metadata": {},
   "outputs": [],
   "source": [
    "import sympy"
   ]
  },
  {
   "cell_type": "code",
   "execution_count": 12,
   "id": "373ea6b8",
   "metadata": {},
   "outputs": [
    {
     "data": {
      "text/latex": [
       "$\\displaystyle \\left[\\begin{matrix}0 & e^{- M{\\left(u,v \\right)}} & 0 & 0\\\\e^{- M{\\left(u,v \\right)}} & 0 & 0 & 0\\\\0 & 0 & - e^{- U{\\left(u,v \\right)}} e^{V{\\left(u,v \\right)}} & 0\\\\0 & 0 & 0 & - e^{- U{\\left(u,v \\right)}} e^{- V{\\left(u,v \\right)}}\\end{matrix}\\right]$"
      ],
      "text/plain": [
       "⎡            -M(u, v)                                           ⎤\n",
       "⎢    0      ℯ                   0                    0          ⎥\n",
       "⎢                                                               ⎥\n",
       "⎢ -M(u, v)                                                      ⎥\n",
       "⎢ℯ              0               0                    0          ⎥\n",
       "⎢                                                               ⎥\n",
       "⎢                        -U(u, v)  V(u, v)                      ⎥\n",
       "⎢    0          0      -ℯ        ⋅ℯ                  0          ⎥\n",
       "⎢                                                               ⎥\n",
       "⎢                                             -U(u, v)  -V(u, v)⎥\n",
       "⎣    0          0               0           -ℯ        ⋅ℯ        ⎦"
      ]
     },
     "execution_count": 12,
     "metadata": {},
     "output_type": "execute_result"
    }
   ],
   "source": [
    "m = sympy.Array(g)\n",
    "m"
   ]
  },
  {
   "cell_type": "code",
   "execution_count": 13,
   "id": "90ffec7c",
   "metadata": {},
   "outputs": [],
   "source": [
    "from einsteinpy.symbolic import *"
   ]
  },
  {
   "cell_type": "code",
   "execution_count": 14,
   "id": "d2af0405",
   "metadata": {},
   "outputs": [],
   "source": [
    "syms = sympy.symbols(\"u v x y\")\n",
    "u,v,x,y = syms"
   ]
  },
  {
   "cell_type": "code",
   "execution_count": 15,
   "id": "2203df9f",
   "metadata": {},
   "outputs": [],
   "source": [
    "metric = MetricTensor(m,syms)"
   ]
  },
  {
   "cell_type": "code",
   "execution_count": 16,
   "id": "fbe22e6b",
   "metadata": {},
   "outputs": [
    {
     "data": {
      "text/latex": [
       "$\\displaystyle \\left[\\begin{matrix}\\left[\\begin{matrix}- \\frac{\\partial}{\\partial u} M{\\left(u,v \\right)} & 0 & 0 & 0\\\\0 & 0 & 0 & 0\\\\0 & 0 & \\frac{\\left(- \\frac{\\partial}{\\partial v} U{\\left(u,v \\right)} + \\frac{\\partial}{\\partial v} V{\\left(u,v \\right)}\\right) e^{M{\\left(u,v \\right)} - U{\\left(u,v \\right)} + V{\\left(u,v \\right)}}}{2} & 0\\\\0 & 0 & 0 & - \\frac{\\left(\\frac{\\partial}{\\partial v} U{\\left(u,v \\right)} + \\frac{\\partial}{\\partial v} V{\\left(u,v \\right)}\\right) e^{M{\\left(u,v \\right)} - U{\\left(u,v \\right)} - V{\\left(u,v \\right)}}}{2}\\end{matrix}\\right] & \\left[\\begin{matrix}0 & 0 & 0 & 0\\\\0 & - \\frac{\\partial}{\\partial v} M{\\left(u,v \\right)} & 0 & 0\\\\0 & 0 & \\frac{\\left(- \\frac{\\partial}{\\partial u} U{\\left(u,v \\right)} + \\frac{\\partial}{\\partial u} V{\\left(u,v \\right)}\\right) e^{M{\\left(u,v \\right)} - U{\\left(u,v \\right)} + V{\\left(u,v \\right)}}}{2} & 0\\\\0 & 0 & 0 & - \\frac{\\left(\\frac{\\partial}{\\partial u} U{\\left(u,v \\right)} + \\frac{\\partial}{\\partial u} V{\\left(u,v \\right)}\\right) e^{M{\\left(u,v \\right)} - U{\\left(u,v \\right)} - V{\\left(u,v \\right)}}}{2}\\end{matrix}\\right] & \\left[\\begin{matrix}0 & 0 & - \\frac{\\frac{\\partial}{\\partial u} U{\\left(u,v \\right)}}{2} + \\frac{\\frac{\\partial}{\\partial u} V{\\left(u,v \\right)}}{2} & 0\\\\0 & 0 & - \\frac{\\frac{\\partial}{\\partial v} U{\\left(u,v \\right)}}{2} + \\frac{\\frac{\\partial}{\\partial v} V{\\left(u,v \\right)}}{2} & 0\\\\- \\frac{\\frac{\\partial}{\\partial u} U{\\left(u,v \\right)}}{2} + \\frac{\\frac{\\partial}{\\partial u} V{\\left(u,v \\right)}}{2} & - \\frac{\\frac{\\partial}{\\partial v} U{\\left(u,v \\right)}}{2} + \\frac{\\frac{\\partial}{\\partial v} V{\\left(u,v \\right)}}{2} & 0 & 0\\\\0 & 0 & 0 & 0\\end{matrix}\\right] & \\left[\\begin{matrix}0 & 0 & 0 & - \\frac{\\frac{\\partial}{\\partial u} U{\\left(u,v \\right)}}{2} - \\frac{\\frac{\\partial}{\\partial u} V{\\left(u,v \\right)}}{2}\\\\0 & 0 & 0 & - \\frac{\\frac{\\partial}{\\partial v} U{\\left(u,v \\right)}}{2} - \\frac{\\frac{\\partial}{\\partial v} V{\\left(u,v \\right)}}{2}\\\\0 & 0 & 0 & 0\\\\- \\frac{\\frac{\\partial}{\\partial u} U{\\left(u,v \\right)}}{2} - \\frac{\\frac{\\partial}{\\partial u} V{\\left(u,v \\right)}}{2} & - \\frac{\\frac{\\partial}{\\partial v} U{\\left(u,v \\right)}}{2} - \\frac{\\frac{\\partial}{\\partial v} V{\\left(u,v \\right)}}{2} & 0 & 0\\end{matrix}\\right]\\end{matrix}\\right]$"
      ],
      "text/plain": [
       "⎡                                                                                           \n",
       "⎢⎡ ∂                                                                                        \n",
       "⎢⎢-──(M(u, v))  0                              0                                            \n",
       "⎢⎢ ∂u                                                                                       \n",
       "⎢⎢                                                                                          \n",
       "⎢⎢     0        0                              0                                            \n",
       "⎢⎢                                                                                          \n",
       "⎢⎢                 ⎛  ∂             ∂          ⎞  M(u, v) - U(u, v) + V(u, v)               \n",
       "⎢⎢                 ⎜- ──(U(u, v)) + ──(V(u, v))⎟⋅ℯ                                          \n",
       "⎢⎢                 ⎝  ∂v            ∂v         ⎠                                            \n",
       "⎢⎢     0        0  ──────────────────────────────────────────────────────────               \n",
       "⎢⎢                                             2                                            \n",
       "⎢⎢                                                                                          \n",
       "⎢⎢                                                                              ⎛∂          \n",
       "⎢⎢                                                                             -⎜──(U(u, v))\n",
       "⎢⎢                                                                              ⎝∂v         \n",
       "⎢⎢     0        0                              0                               ─────────────\n",
       "⎢⎣                                                                                          \n",
       "⎣                                                                                           \n",
       "\n",
       "                                                                                            \n",
       "                                             ⎤  ⎡0       0                                  \n",
       "               0                             ⎥  ⎢                                           \n",
       "                                             ⎥  ⎢    ∂                                      \n",
       "                                             ⎥  ⎢0  -──(M(u, v))                            \n",
       "               0                             ⎥  ⎢    ∂v                                     \n",
       "                                             ⎥  ⎢                                           \n",
       "                                             ⎥  ⎢                 ⎛  ∂             ∂        \n",
       "                                             ⎥  ⎢                 ⎜- ──(U(u, v)) + ──(V(u, v\n",
       "                                             ⎥  ⎢                 ⎝  ∂u            ∂u       \n",
       "               0                             ⎥  ⎢0       0        ──────────────────────────\n",
       "                                             ⎥  ⎢                                           \n",
       "                                             ⎥  ⎢                                           \n",
       "   ∂          ⎞  M(u, v) - U(u, v) - V(u, v) ⎥  ⎢                                           \n",
       " + ──(V(u, v))⎟⋅ℯ                            ⎥  ⎢                                           \n",
       "   ∂v         ⎠                              ⎥  ⎢                                           \n",
       "─────────────────────────────────────────────⎥  ⎢0       0                                  \n",
       "               2                             ⎦  ⎣                                           \n",
       "                                                                                            \n",
       "\n",
       "                                                                                            \n",
       "  0                                                           0                             \n",
       "                                                                                            \n",
       "                                                                                            \n",
       "  0                                                           0                             \n",
       "                                                                                            \n",
       "                                                                                            \n",
       "  ⎞  M(u, v) - U(u, v) + V(u, v)                                                            \n",
       "))⎟⋅ℯ                                                                                       \n",
       "  ⎠                                                                                         \n",
       "────────────────────────────────                              0                             \n",
       "  2                                                                                         \n",
       "                                                                                            \n",
       "                                   ⎛∂             ∂          ⎞  M(u, v) - U(u, v) - V(u, v) \n",
       "                                  -⎜──(U(u, v)) + ──(V(u, v))⎟⋅ℯ                            \n",
       "                                   ⎝∂u            ∂u         ⎠                              \n",
       "  0                               ──────────────────────────────────────────────────────────\n",
       "                                                              2                             \n",
       "                                                                                            \n",
       "\n",
       "   ⎡                                                            ∂             ∂             \n",
       "⎤  ⎢                                                            ──(U(u, v))   ──(V(u, v))   \n",
       "⎥  ⎢                                                            ∂u            ∂u            \n",
       "⎥  ⎢             0                            0               - ─────────── + ───────────  0\n",
       "⎥  ⎢                                                                 2             2        \n",
       "⎥  ⎢                                                                                        \n",
       "⎥  ⎢                                                            ∂             ∂             \n",
       "⎥  ⎢                                                            ──(U(u, v))   ──(V(u, v))   \n",
       "⎥  ⎢                                                            ∂v            ∂v            \n",
       "⎥  ⎢             0                            0               - ─────────── + ───────────  0\n",
       "⎥  ⎢                                                                 2             2        \n",
       "⎥  ⎢                                                                                        \n",
       "⎥  ⎢  ∂             ∂              ∂             ∂                                          \n",
       "⎥  ⎢  ──(U(u, v))   ──(V(u, v))    ──(U(u, v))   ──(V(u, v))                                \n",
       "⎥  ⎢  ∂u            ∂u             ∂v            ∂v                                         \n",
       "⎥  ⎢- ─────────── + ───────────  - ─────────── + ───────────               0               0\n",
       "⎥  ⎢       2             2              2             2                                     \n",
       "⎦  ⎢                                                                                        \n",
       "   ⎣             0                            0                            0               0\n",
       "\n",
       "⎤  ⎡                                                               ∂             ∂          \n",
       "⎥  ⎢                                                               ──(U(u, v))   ──(V(u, v))\n",
       "⎥  ⎢                                                               ∂u            ∂u         \n",
       "⎥  ⎢             0                            0               0  - ─────────── - ───────────\n",
       "⎥  ⎢                                                                    2             2     \n",
       "⎥  ⎢                                                                                        \n",
       "⎥  ⎢                                                               ∂             ∂          \n",
       "⎥  ⎢                                                               ──(U(u, v))   ──(V(u, v))\n",
       "⎥  ⎢                                                               ∂v            ∂v         \n",
       "⎥  ⎢             0                            0               0  - ─────────── - ───────────\n",
       "⎥  ⎢                                                                    2             2     \n",
       "⎥  ⎢                                                                                        \n",
       "⎥  ⎢             0                            0               0               0             \n",
       "⎥  ⎢                                                                                        \n",
       "⎥  ⎢  ∂             ∂              ∂             ∂                                          \n",
       "⎥  ⎢  ──(U(u, v))   ──(V(u, v))    ──(U(u, v))   ──(V(u, v))                                \n",
       "⎥  ⎢  ∂u            ∂u             ∂v            ∂v                                         \n",
       "⎥  ⎢- ─────────── - ───────────  - ─────────── - ───────────  0               0             \n",
       "⎦  ⎣       2             2              2             2                                     \n",
       "\n",
       "⎤⎤\n",
       "⎥⎥\n",
       "⎥⎥\n",
       "⎥⎥\n",
       "⎥⎥\n",
       "⎥⎥\n",
       "⎥⎥\n",
       "⎥⎥\n",
       "⎥⎥\n",
       "⎥⎥\n",
       "⎥⎥\n",
       "⎥⎥\n",
       "⎥⎥\n",
       "⎥⎥\n",
       "⎥⎥\n",
       "⎥⎥\n",
       "⎥⎥\n",
       "⎥⎥\n",
       "⎦⎦"
      ]
     },
     "execution_count": 16,
     "metadata": {},
     "output_type": "execute_result"
    }
   ],
   "source": [
    "ch = ChristoffelSymbols.from_metric(metric)\n",
    "simplify(ch.tensor())"
   ]
  },
  {
   "cell_type": "code",
   "execution_count": 17,
   "id": "58f92b18",
   "metadata": {},
   "outputs": [
    {
     "data": {
      "text/latex": [
       "$\\displaystyle \\left[\\begin{matrix}\\frac{\\partial}{\\partial u} M{\\left(u,v \\right)} \\frac{\\partial}{\\partial u} U{\\left(u,v \\right)} - \\frac{\\left(\\frac{\\partial}{\\partial u} U{\\left(u,v \\right)}\\right)^{2}}{2} + \\frac{\\partial^{2}}{\\partial u^{2}} U{\\left(u,v \\right)} - \\frac{\\left(\\frac{\\partial}{\\partial u} V{\\left(u,v \\right)}\\right)^{2}}{2} & - \\frac{\\frac{\\partial}{\\partial u} U{\\left(u,v \\right)} \\frac{\\partial}{\\partial v} U{\\left(u,v \\right)}}{2} - \\frac{\\frac{\\partial}{\\partial u} V{\\left(u,v \\right)} \\frac{\\partial}{\\partial v} V{\\left(u,v \\right)}}{2} + \\frac{\\partial^{2}}{\\partial v\\partial u} M{\\left(u,v \\right)} + \\frac{\\partial^{2}}{\\partial v\\partial u} U{\\left(u,v \\right)} & 0 & 0\\\\- \\frac{\\frac{\\partial}{\\partial u} U{\\left(u,v \\right)} \\frac{\\partial}{\\partial v} U{\\left(u,v \\right)}}{2} - \\frac{\\frac{\\partial}{\\partial u} V{\\left(u,v \\right)} \\frac{\\partial}{\\partial v} V{\\left(u,v \\right)}}{2} + \\frac{\\partial^{2}}{\\partial v\\partial u} M{\\left(u,v \\right)} + \\frac{\\partial^{2}}{\\partial v\\partial u} U{\\left(u,v \\right)} & \\frac{\\partial}{\\partial v} M{\\left(u,v \\right)} \\frac{\\partial}{\\partial v} U{\\left(u,v \\right)} - \\frac{\\left(\\frac{\\partial}{\\partial v} U{\\left(u,v \\right)}\\right)^{2}}{2} + \\frac{\\partial^{2}}{\\partial v^{2}} U{\\left(u,v \\right)} - \\frac{\\left(\\frac{\\partial}{\\partial v} V{\\left(u,v \\right)}\\right)^{2}}{2} & 0 & 0\\\\0 & 0 & \\left(\\frac{\\partial}{\\partial u} U{\\left(u,v \\right)} \\frac{\\partial}{\\partial v} U{\\left(u,v \\right)} - \\frac{\\frac{\\partial}{\\partial u} U{\\left(u,v \\right)} \\frac{\\partial}{\\partial v} V{\\left(u,v \\right)}}{2} - \\frac{\\frac{\\partial}{\\partial v} U{\\left(u,v \\right)} \\frac{\\partial}{\\partial u} V{\\left(u,v \\right)}}{2} - \\frac{\\partial^{2}}{\\partial v\\partial u} U{\\left(u,v \\right)} + \\frac{\\partial^{2}}{\\partial v\\partial u} V{\\left(u,v \\right)}\\right) e^{M{\\left(u,v \\right)} - U{\\left(u,v \\right)} + V{\\left(u,v \\right)}} & 0\\\\0 & 0 & 0 & \\left(\\frac{\\partial}{\\partial u} U{\\left(u,v \\right)} \\frac{\\partial}{\\partial v} U{\\left(u,v \\right)} + \\frac{\\frac{\\partial}{\\partial u} U{\\left(u,v \\right)} \\frac{\\partial}{\\partial v} V{\\left(u,v \\right)}}{2} + \\frac{\\frac{\\partial}{\\partial v} U{\\left(u,v \\right)} \\frac{\\partial}{\\partial u} V{\\left(u,v \\right)}}{2} - \\frac{\\partial^{2}}{\\partial v\\partial u} U{\\left(u,v \\right)} - \\frac{\\partial^{2}}{\\partial v\\partial u} V{\\left(u,v \\right)}\\right) e^{M{\\left(u,v \\right)} - U{\\left(u,v \\right)} - V{\\left(u,v \\right)}}\\end{matrix}\\right]$"
      ],
      "text/plain": [
       "⎡                                             2                               2             \n",
       "⎢                                ⎛∂          ⎞                   ⎛∂          ⎞            ∂ \n",
       "⎢                                ⎜──(U(u, v))⎟      2            ⎜──(V(u, v))⎟            ──\n",
       "⎢      ∂           ∂             ⎝∂u         ⎠     ∂             ⎝∂u         ⎠            ∂u\n",
       "⎢      ──(M(u, v))⋅──(U(u, v)) - ────────────── + ───(U(u, v)) - ──────────────         - ──\n",
       "⎢      ∂u          ∂u                  2            2                  2                    \n",
       "⎢                                                 ∂u                                        \n",
       "⎢                                                                                           \n",
       "⎢                                                                                           \n",
       "⎢  ∂           ∂             ∂           ∂                                                  \n",
       "⎢  ──(U(u, v))⋅──(U(u, v))   ──(V(u, v))⋅──(V(u, v))      2                2                \n",
       "⎢  ∂u          ∂v            ∂u          ∂v              ∂                ∂                 \n",
       "⎢- ─────────────────────── - ─────────────────────── + ─────(M(u, v)) + ─────(U(u, v))      \n",
       "⎢             2                         2              ∂v ∂u            ∂v ∂u               \n",
       "⎢                                                                                           \n",
       "⎢                                                                                           \n",
       "⎢                                                                                           \n",
       "⎢                                                                                           \n",
       "⎢                                                                                           \n",
       "⎢                                          0                                                \n",
       "⎢                                                                                           \n",
       "⎢                                                                                           \n",
       "⎢                                                                                           \n",
       "⎢                                                                                           \n",
       "⎢                                                                                           \n",
       "⎢                                          0                                                \n",
       "⎣                                                                                           \n",
       "\n",
       "                                                                                            \n",
       "          ∂             ∂           ∂                                                       \n",
       "(U(u, v))⋅──(U(u, v))   ──(V(u, v))⋅──(V(u, v))      2                2                     \n",
       "          ∂v            ∂u          ∂v              ∂                ∂                      \n",
       "───────────────────── - ─────────────────────── + ─────(M(u, v)) + ─────(U(u, v))           \n",
       "         2                         2              ∂v ∂u            ∂v ∂u                    \n",
       "                                                                                            \n",
       "                                                                                            \n",
       "                                         2                               2                  \n",
       "                            ⎛∂          ⎞                   ⎛∂          ⎞                   \n",
       "                            ⎜──(U(u, v))⎟      2            ⎜──(V(u, v))⎟                   \n",
       "  ∂           ∂             ⎝∂v         ⎠     ∂             ⎝∂v         ⎠                   \n",
       "  ──(M(u, v))⋅──(U(u, v)) - ────────────── + ───(U(u, v)) - ──────────────                  \n",
       "  ∂v          ∂v                  2            2                  2                         \n",
       "                                             ∂v                                             \n",
       "                                                                                            \n",
       "                                                                                   ⎛        \n",
       "                                                                                   ⎜        \n",
       "                                                                                   ⎜∂       \n",
       "                                      0                                            ⎜──(U(u, \n",
       "                                                                                   ⎝∂u      \n",
       "                                                                                            \n",
       "                                                                                            \n",
       "                                                                                            \n",
       "                                                                                            \n",
       "                                      0                                                     \n",
       "                                                                                            \n",
       "\n",
       "                                                                                            \n",
       "                                                                                            \n",
       "                                                                                            \n",
       "                                                                                            \n",
       "                                                            0                               \n",
       "                                                                                            \n",
       "                                                                                            \n",
       "                                                                                            \n",
       "                                                                                            \n",
       "                                                                                            \n",
       "                                                                                            \n",
       "                                                                                            \n",
       "                                                            0                               \n",
       "                                                                                            \n",
       "                                                                                            \n",
       "                                                                                            \n",
       "                  ∂           ∂             ∂           ∂                                   \n",
       "                  ──(U(u, v))⋅──(V(u, v))   ──(U(u, v))⋅──(V(u, v))      2                2 \n",
       "    ∂             ∂u          ∂v            ∂v          ∂u              ∂                ∂  \n",
       "v))⋅──(U(u, v)) - ─────────────────────── - ─────────────────────── - ─────(U(u, v)) + ─────\n",
       "    ∂v                       2                         2              ∂v ∂u            ∂v ∂u\n",
       "                                                                                            \n",
       "                                                                                            \n",
       "                                                                                            \n",
       "                                                                                            \n",
       "                                                            0                               \n",
       "                                                                                            \n",
       "\n",
       "                                                                                            \n",
       "                                                                                            \n",
       "                                                                                            \n",
       "                                                                                            \n",
       "                                                                                            \n",
       "                                                                                            \n",
       "                                                                                            \n",
       "                                                                                            \n",
       "                                                                                            \n",
       "                                                                                            \n",
       "                                                                                            \n",
       "                                                                                            \n",
       "                                                                                            \n",
       "                                                                                            \n",
       "                                                                                            \n",
       "                                                                                            \n",
       "         ⎞                                                                                  \n",
       "         ⎟                                                                                  \n",
       "         ⎟  M(u, v) - U(u, v) + V(u, v)                                                     \n",
       "(V(u, v))⎟⋅ℯ                                                                                \n",
       "         ⎠                                                                                  \n",
       "                                                                                            \n",
       "                                         ⎛                          ∂           ∂           \n",
       "                                         ⎜                          ──(U(u, v))⋅──(V(u, v)) \n",
       "                                         ⎜∂           ∂             ∂u          ∂v          \n",
       "                                         ⎜──(U(u, v))⋅──(U(u, v)) + ─────────────────────── \n",
       "                                         ⎝∂u          ∂v                       2            \n",
       "\n",
       "                                                                                         ⎤\n",
       "                                                                                         ⎥\n",
       "                                                                                         ⎥\n",
       "                                                                                         ⎥\n",
       "                  0                                                                      ⎥\n",
       "                                                                                         ⎥\n",
       "                                                                                         ⎥\n",
       "                                                                                         ⎥\n",
       "                                                                                         ⎥\n",
       "                                                                                         ⎥\n",
       "                                                                                         ⎥\n",
       "                                                                                         ⎥\n",
       "                  0                                                                      ⎥\n",
       "                                                                                         ⎥\n",
       "                                                                                         ⎥\n",
       "                                                                                         ⎥\n",
       "                                                                                         ⎥\n",
       "                                                                                         ⎥\n",
       "                                                                                         ⎥\n",
       "                  0                                                                      ⎥\n",
       "                                                                                         ⎥\n",
       "                                                                                         ⎥\n",
       "  ∂           ∂                                            ⎞                             ⎥\n",
       "  ──(U(u, v))⋅──(V(u, v))      2                2          ⎟                             ⎥\n",
       "  ∂v          ∂u              ∂                ∂           ⎟  M(u, v) - U(u, v) - V(u, v)⎥\n",
       "+ ─────────────────────── - ─────(U(u, v)) - ─────(V(u, v))⎟⋅ℯ                           ⎥\n",
       "             2              ∂v ∂u            ∂v ∂u         ⎠                             ⎦"
      ]
     },
     "execution_count": 17,
     "metadata": {},
     "output_type": "execute_result"
    }
   ],
   "source": [
    "Ric = RicciTensor.from_metric(metric)\n",
    "Ric.tensor()"
   ]
  },
  {
   "cell_type": "code",
   "execution_count": 18,
   "id": "3b425244",
   "metadata": {},
   "outputs": [
    {
     "data": {
      "image/png": "[encoded data removed]",
      "text/latex": [
       "$\\displaystyle \\left(- 3 \\frac{\\partial}{\\partial u} U{\\left(u,v \\right)} \\frac{\\partial}{\\partial v} U{\\left(u,v \\right)} - \\frac{\\partial}{\\partial u} V{\\left(u,v \\right)} \\frac{\\partial}{\\partial v} V{\\left(u,v \\right)} + 2 \\frac{\\partial^{2}}{\\partial v\\partial u} M{\\left(u,v \\right)} + 4 \\frac{\\partial^{2}}{\\partial v\\partial u} U{\\left(u,v \\right)}\\right) e^{M{\\left(u,v \\right)}}$"
      ],
      "text/plain": [
       "⎛                                                             2                  2          \n",
       "⎜    ∂           ∂             ∂           ∂                 ∂                  ∂           \n",
       "⎜- 3⋅──(U(u, v))⋅──(U(u, v)) - ──(V(u, v))⋅──(V(u, v)) + 2⋅─────(M(u, v)) + 4⋅─────(U(u, v))\n",
       "⎝    ∂u          ∂v            ∂u          ∂v              ∂v ∂u              ∂v ∂u         \n",
       "\n",
       "⎞         \n",
       "⎟  M(u, v)\n",
       "⎟⋅ℯ       \n",
       "⎠         "
      ]
     },
     "execution_count": 18,
     "metadata": {},
     "output_type": "execute_result"
    }
   ],
   "source": [
    "R = RicciScalar.from_riccitensor(Ric)\n",
    "R.simplify()\n",
    "R.expr"
   ]
  },
  {
   "cell_type": "code",
   "execution_count": 19,
   "id": "6c32900f",
   "metadata": {},
   "outputs": [
    {
     "data": {
      "text/latex": [
       "$\\displaystyle \\left[\\begin{matrix}\\frac{\\partial}{\\partial u} M{\\left(u,v \\right)} \\frac{\\partial}{\\partial u} U{\\left(u,v \\right)} - \\frac{\\left(\\frac{\\partial}{\\partial u} U{\\left(u,v \\right)}\\right)^{2}}{2} + \\frac{\\partial^{2}}{\\partial u^{2}} U{\\left(u,v \\right)} - \\frac{\\left(\\frac{\\partial}{\\partial u} V{\\left(u,v \\right)}\\right)^{2}}{2} & 1.0 \\frac{\\partial}{\\partial u} U{\\left(u,v \\right)} \\frac{\\partial}{\\partial v} U{\\left(u,v \\right)} - 1.0 \\frac{\\partial^{2}}{\\partial v\\partial u} U{\\left(u,v \\right)} & 0 & 0\\\\1.0 \\frac{\\partial}{\\partial u} U{\\left(u,v \\right)} \\frac{\\partial}{\\partial v} U{\\left(u,v \\right)} - 1.0 \\frac{\\partial^{2}}{\\partial v\\partial u} U{\\left(u,v \\right)} & \\frac{\\partial}{\\partial v} M{\\left(u,v \\right)} \\frac{\\partial}{\\partial v} U{\\left(u,v \\right)} - \\frac{\\left(\\frac{\\partial}{\\partial v} U{\\left(u,v \\right)}\\right)^{2}}{2} + \\frac{\\partial^{2}}{\\partial v^{2}} U{\\left(u,v \\right)} - \\frac{\\left(\\frac{\\partial}{\\partial v} V{\\left(u,v \\right)}\\right)^{2}}{2} & 0 & 0\\\\0 & 0 & 0.5 \\left(- 3 \\frac{\\partial}{\\partial u} U{\\left(u,v \\right)} \\frac{\\partial}{\\partial v} U{\\left(u,v \\right)} - \\frac{\\partial}{\\partial u} V{\\left(u,v \\right)} \\frac{\\partial}{\\partial v} V{\\left(u,v \\right)} + 2 \\frac{\\partial^{2}}{\\partial v\\partial u} M{\\left(u,v \\right)} + 4 \\frac{\\partial^{2}}{\\partial v\\partial u} U{\\left(u,v \\right)}\\right) e^{M{\\left(u,v \\right)}} e^{- U{\\left(u,v \\right)}} e^{V{\\left(u,v \\right)}} + \\left(\\frac{\\partial}{\\partial u} U{\\left(u,v \\right)} \\frac{\\partial}{\\partial v} U{\\left(u,v \\right)} - \\frac{\\frac{\\partial}{\\partial u} U{\\left(u,v \\right)} \\frac{\\partial}{\\partial v} V{\\left(u,v \\right)}}{2} - \\frac{\\frac{\\partial}{\\partial v} U{\\left(u,v \\right)} \\frac{\\partial}{\\partial u} V{\\left(u,v \\right)}}{2} - \\frac{\\partial^{2}}{\\partial v\\partial u} U{\\left(u,v \\right)} + \\frac{\\partial^{2}}{\\partial v\\partial u} V{\\left(u,v \\right)}\\right) e^{M{\\left(u,v \\right)} - U{\\left(u,v \\right)} + V{\\left(u,v \\right)}} & 0\\\\0 & 0 & 0 & 0.5 \\left(- 3 \\frac{\\partial}{\\partial u} U{\\left(u,v \\right)} \\frac{\\partial}{\\partial v} U{\\left(u,v \\right)} - \\frac{\\partial}{\\partial u} V{\\left(u,v \\right)} \\frac{\\partial}{\\partial v} V{\\left(u,v \\right)} + 2 \\frac{\\partial^{2}}{\\partial v\\partial u} M{\\left(u,v \\right)} + 4 \\frac{\\partial^{2}}{\\partial v\\partial u} U{\\left(u,v \\right)}\\right) e^{M{\\left(u,v \\right)}} e^{- U{\\left(u,v \\right)}} e^{- V{\\left(u,v \\right)}} + \\left(\\frac{\\partial}{\\partial u} U{\\left(u,v \\right)} \\frac{\\partial}{\\partial v} U{\\left(u,v \\right)} + \\frac{\\frac{\\partial}{\\partial u} U{\\left(u,v \\right)} \\frac{\\partial}{\\partial v} V{\\left(u,v \\right)}}{2} + \\frac{\\frac{\\partial}{\\partial v} U{\\left(u,v \\right)} \\frac{\\partial}{\\partial u} V{\\left(u,v \\right)}}{2} - \\frac{\\partial^{2}}{\\partial v\\partial u} U{\\left(u,v \\right)} - \\frac{\\partial^{2}}{\\partial v\\partial u} V{\\left(u,v \\right)}\\right) e^{M{\\left(u,v \\right)} - U{\\left(u,v \\right)} - V{\\left(u,v \\right)}}\\end{matrix}\\right]$"
      ],
      "text/plain": [
       "⎡                                       2                               2                   \n",
       "⎢                          ⎛∂          ⎞                   ⎛∂          ⎞                    \n",
       "⎢                          ⎜──(U(u, v))⎟      2            ⎜──(V(u, v))⎟                    \n",
       "⎢∂           ∂             ⎝∂u         ⎠     ∂             ⎝∂u         ⎠                    \n",
       "⎢──(M(u, v))⋅──(U(u, v)) - ────────────── + ───(U(u, v)) - ──────────────                1.0\n",
       "⎢∂u          ∂u                  2            2                  2                          \n",
       "⎢                                           ∂u                                              \n",
       "⎢                                                                                           \n",
       "⎢                                                                                           \n",
       "⎢                                                                                           \n",
       "⎢                                               2                                           \n",
       "⎢                  ∂           ∂               ∂                           ∂           ∂    \n",
       "⎢              1.0⋅──(U(u, v))⋅──(U(u, v)) - ─────(U(u, v))                ──(M(u, v))⋅──(U(\n",
       "⎢                  ∂u          ∂v            ∂v ∂u                         ∂v          ∂v   \n",
       "⎢                                                                                           \n",
       "⎢                                                                                           \n",
       "⎢                                                                                           \n",
       "⎢                                                                                           \n",
       "⎢                                                                                           \n",
       "⎢                                   0                                                       \n",
       "⎢                                                                                           \n",
       "⎢                                                                                           \n",
       "⎢                                                                                           \n",
       "⎢                                                                                           \n",
       "⎢                                                                                           \n",
       "⎢                                   0                                                       \n",
       "⎣                                                                                           \n",
       "\n",
       "                                                                                            \n",
       "                                                                                            \n",
       "                              2                                                             \n",
       " ∂           ∂               ∂                                                              \n",
       "⋅──(U(u, v))⋅──(U(u, v)) - ─────(U(u, v))                                                   \n",
       " ∂u          ∂v            ∂v ∂u                                                            \n",
       "                                                                                            \n",
       "                                                                                            \n",
       "                      2                               2                                     \n",
       "         ⎛∂          ⎞                   ⎛∂          ⎞                                      \n",
       "         ⎜──(U(u, v))⎟      2            ⎜──(V(u, v))⎟                                      \n",
       "         ⎝∂v         ⎠     ∂             ⎝∂v         ⎠                                      \n",
       "u, v)) - ────────────── + ───(U(u, v)) - ──────────────                                     \n",
       "               2            2                  2                                            \n",
       "                          ∂v                                                                \n",
       "                                                                                            \n",
       "                                                                                            \n",
       "                                                             ⎛                              \n",
       "                                                             ⎜    ∂           ∂             \n",
       "                  0                                      0.5⋅⎜- 3⋅──(U(u, v))⋅──(U(u, v)) - \n",
       "                                                             ⎝    ∂u          ∂v            \n",
       "                                                                                            \n",
       "                                                                                            \n",
       "                                                                                            \n",
       "                                                                                            \n",
       "                  0                                                                         \n",
       "                                                                                            \n",
       "\n",
       "                                                                                            \n",
       "                                                                                            \n",
       "                                                                                            \n",
       "                                                                                            \n",
       "                                                                                            \n",
       "                                                                                            \n",
       "                                                                                            \n",
       "                                                                                            \n",
       "                                                                                            \n",
       "                                                                                            \n",
       "                                                                                            \n",
       "                                                                                            \n",
       "                                                                                            \n",
       "                                                                                            \n",
       "                                                                                            \n",
       "                                                                                            \n",
       "                                                                                            \n",
       "                               2                  2          ⎞                              \n",
       "∂           ∂                 ∂                  ∂           ⎟  M(u, v)  -U(u, v)  V(u, v)  \n",
       "──(V(u, v))⋅──(V(u, v)) + 2⋅─────(M(u, v)) + 4⋅─────(U(u, v))⎟⋅ℯ       ⋅ℯ        ⋅ℯ        +\n",
       "∂u          ∂v              ∂v ∂u              ∂v ∂u         ⎠                              \n",
       "                                                                                            \n",
       "                                                                                            \n",
       "                                                                                            \n",
       "                                                                                            \n",
       "                                                                                            \n",
       "                                                                                            \n",
       "\n",
       "                                                                                            \n",
       "                                                                                            \n",
       "                                                                                            \n",
       "                                                                                            \n",
       "      0                                                                                     \n",
       "                                                                                            \n",
       "                                                                                            \n",
       "                                                                                            \n",
       "                                                                                            \n",
       "                                                                                            \n",
       "                                                                                            \n",
       "                                                                                            \n",
       "      0                                                                                     \n",
       "                                                                                            \n",
       "                                                                                            \n",
       "                                                                                            \n",
       " ⎛                          ∂           ∂             ∂           ∂                         \n",
       " ⎜                          ──(U(u, v))⋅──(V(u, v))   ──(U(u, v))⋅──(V(u, v))      2        \n",
       " ⎜∂           ∂             ∂u          ∂v            ∂v          ∂u              ∂         \n",
       " ⎜──(U(u, v))⋅──(U(u, v)) - ─────────────────────── - ─────────────────────── - ─────(U(u, v\n",
       " ⎝∂u          ∂v                       2                         2              ∂v ∂u       \n",
       "                                                                                            \n",
       "                                                                                            \n",
       "                                                                                            \n",
       "                                                                                            \n",
       "      0                                                                                     \n",
       "                                                                                            \n",
       "\n",
       "                                                                                            \n",
       "                                                                                            \n",
       "                                                                                            \n",
       "                                                                                            \n",
       "                                                                                            \n",
       "                                                                                            \n",
       "                                                                                            \n",
       "                                                                                            \n",
       "                                                                                            \n",
       "                                                                                            \n",
       "                                                                                            \n",
       "                                                                                            \n",
       "                                                                                            \n",
       "                                                                                            \n",
       "                                                                                            \n",
       "                                                                                            \n",
       "                   ⎞                                                                        \n",
       "        2          ⎟                                                                        \n",
       "       ∂           ⎟  M(u, v) - U(u, v) + V(u, v)                                           \n",
       ")) + ─────(V(u, v))⎟⋅ℯ                                                                      \n",
       "     ∂v ∂u         ⎠                                                                        \n",
       "                                                                                            \n",
       "                                                                                            \n",
       "                                                       ⎛                                    \n",
       "                                                       ⎜    ∂           ∂             ∂     \n",
       "                                                   0.5⋅⎜- 3⋅──(U(u, v))⋅──(U(u, v)) - ──(V(u\n",
       "                                                       ⎝    ∂u          ∂v            ∂u    \n",
       "\n",
       "                                                                                            \n",
       "                                                                                            \n",
       "                                                                                            \n",
       "                                                                                            \n",
       "                                                                                            \n",
       "                                                                                            \n",
       "                                                                                            \n",
       "                                                                                            \n",
       "                                                                                            \n",
       "                                                                                            \n",
       "                                                                                            \n",
       "                                                                                            \n",
       "                                                                                            \n",
       "                                                                                            \n",
       "                                                                                            \n",
       "                                                                                            \n",
       "                                                                                            \n",
       "                                                                                            \n",
       "                                                                                            \n",
       "                                                                                            \n",
       "                                                                                            \n",
       "                                                                                            \n",
       "                                                                                        ⎛   \n",
       "                         2                  2          ⎞                                ⎜   \n",
       "      ∂                 ∂                  ∂           ⎟  M(u, v)  -U(u, v)  -V(u, v)   ⎜∂  \n",
       ", v))⋅──(V(u, v)) + 2⋅─────(M(u, v)) + 4⋅─────(U(u, v))⎟⋅ℯ       ⋅ℯ        ⋅ℯ         + ⎜──(\n",
       "      ∂v              ∂v ∂u              ∂v ∂u         ⎠                                ⎝∂u \n",
       "\n",
       "                                                                                            \n",
       "                                                                                            \n",
       "                                                                                            \n",
       "                                                                                            \n",
       " 0                                                                                          \n",
       "                                                                                            \n",
       "                                                                                            \n",
       "                                                                                            \n",
       "                                                                                            \n",
       "                                                                                            \n",
       "                                                                                            \n",
       "                                                                                            \n",
       " 0                                                                                          \n",
       "                                                                                            \n",
       "                                                                                            \n",
       "                                                                                            \n",
       "                                                                                            \n",
       "                                                                                            \n",
       "                                                                                            \n",
       " 0                                                                                          \n",
       "                                                                                            \n",
       "                                                                                            \n",
       "                       ∂           ∂             ∂           ∂                              \n",
       "                       ──(U(u, v))⋅──(V(u, v))   ──(U(u, v))⋅──(V(u, v))      2             \n",
       "         ∂             ∂u          ∂v            ∂v          ∂u              ∂              \n",
       "U(u, v))⋅──(U(u, v)) + ─────────────────────── + ─────────────────────── - ─────(U(u, v)) - \n",
       "         ∂v                       2                         2              ∂v ∂u            \n",
       "\n",
       "                                            ⎤\n",
       "                                            ⎥\n",
       "                                            ⎥\n",
       "                                            ⎥\n",
       "                                            ⎥\n",
       "                                            ⎥\n",
       "                                            ⎥\n",
       "                                            ⎥\n",
       "                                            ⎥\n",
       "                                            ⎥\n",
       "                                            ⎥\n",
       "                                            ⎥\n",
       "                                            ⎥\n",
       "                                            ⎥\n",
       "                                            ⎥\n",
       "                                            ⎥\n",
       "                                            ⎥\n",
       "                                            ⎥\n",
       "                                            ⎥\n",
       "                                            ⎥\n",
       "                                            ⎥\n",
       "                                            ⎥\n",
       "              ⎞                             ⎥\n",
       "   2          ⎟                             ⎥\n",
       "  ∂           ⎟  M(u, v) - U(u, v) - V(u, v)⎥\n",
       "─────(V(u, v))⎟⋅ℯ                           ⎥\n",
       "∂v ∂u         ⎠                             ⎦"
      ]
     },
     "execution_count": 19,
     "metadata": {},
     "output_type": "execute_result"
    }
   ],
   "source": [
    "einst = EinsteinTensor.from_metric(metric)\n",
    "einst.tensor()"
   ]
  },
  {
   "cell_type": "code",
   "execution_count": 20,
   "id": "32801d5d",
   "metadata": {},
   "outputs": [],
   "source": [
    "#  rm1 = RiemannCurvatureTensor.from_christoffels(ch)\n",
    "#  rm1.tensor()"
   ]
  },
  {
   "cell_type": "code",
   "execution_count": 21,
   "id": "31ec417d",
   "metadata": {},
   "outputs": [],
   "source": [
    "#  weyl = WeylTensor.from_metric(metric)\n",
    "#  weyl.tensor()"
   ]
  },
  {
   "cell_type": "code",
   "execution_count": 22,
   "id": "ac210cf7",
   "metadata": {},
   "outputs": [
    {
     "data": {
      "text/latex": [
       "$\\displaystyle \\left[\\begin{matrix}\\frac{\\partial}{\\partial u} M{\\left(u,v \\right)} \\frac{\\partial}{\\partial u} U{\\left(u,v \\right)} - \\frac{\\left(\\frac{\\partial}{\\partial u} U{\\left(u,v \\right)}\\right)^{2}}{2} + \\frac{\\partial^{2}}{\\partial u^{2}} U{\\left(u,v \\right)} - \\frac{\\left(\\frac{\\partial}{\\partial u} V{\\left(u,v \\right)}\\right)^{2}}{2} & - \\frac{\\frac{\\partial}{\\partial u} U{\\left(u,v \\right)} \\frac{\\partial}{\\partial v} U{\\left(u,v \\right)}}{2} - \\frac{\\frac{\\partial}{\\partial u} V{\\left(u,v \\right)} \\frac{\\partial}{\\partial v} V{\\left(u,v \\right)}}{2} + \\frac{\\partial^{2}}{\\partial v\\partial u} M{\\left(u,v \\right)} + \\frac{\\partial^{2}}{\\partial v\\partial u} U{\\left(u,v \\right)} & 0 & 0\\\\- \\frac{\\frac{\\partial}{\\partial u} U{\\left(u,v \\right)} \\frac{\\partial}{\\partial v} U{\\left(u,v \\right)}}{2} - \\frac{\\frac{\\partial}{\\partial u} V{\\left(u,v \\right)} \\frac{\\partial}{\\partial v} V{\\left(u,v \\right)}}{2} + \\frac{\\partial^{2}}{\\partial v\\partial u} M{\\left(u,v \\right)} + \\frac{\\partial^{2}}{\\partial v\\partial u} U{\\left(u,v \\right)} & \\frac{\\partial}{\\partial v} M{\\left(u,v \\right)} \\frac{\\partial}{\\partial v} U{\\left(u,v \\right)} - \\frac{\\left(\\frac{\\partial}{\\partial v} U{\\left(u,v \\right)}\\right)^{2}}{2} + \\frac{\\partial^{2}}{\\partial v^{2}} U{\\left(u,v \\right)} - \\frac{\\left(\\frac{\\partial}{\\partial v} V{\\left(u,v \\right)}\\right)^{2}}{2} & 0 & 0\\\\0 & 0 & \\left(\\frac{\\partial}{\\partial u} U{\\left(u,v \\right)} \\frac{\\partial}{\\partial v} U{\\left(u,v \\right)} - \\frac{\\frac{\\partial}{\\partial u} U{\\left(u,v \\right)} \\frac{\\partial}{\\partial v} V{\\left(u,v \\right)}}{2} - \\frac{\\frac{\\partial}{\\partial v} U{\\left(u,v \\right)} \\frac{\\partial}{\\partial u} V{\\left(u,v \\right)}}{2} - \\frac{\\partial^{2}}{\\partial v\\partial u} U{\\left(u,v \\right)} + \\frac{\\partial^{2}}{\\partial v\\partial u} V{\\left(u,v \\right)}\\right) e^{M{\\left(u,v \\right)} - U{\\left(u,v \\right)} + V{\\left(u,v \\right)}} & 0\\\\0 & 0 & 0 & \\left(\\frac{\\partial}{\\partial u} U{\\left(u,v \\right)} \\frac{\\partial}{\\partial v} U{\\left(u,v \\right)} + \\frac{\\frac{\\partial}{\\partial u} U{\\left(u,v \\right)} \\frac{\\partial}{\\partial v} V{\\left(u,v \\right)}}{2} + \\frac{\\frac{\\partial}{\\partial v} U{\\left(u,v \\right)} \\frac{\\partial}{\\partial u} V{\\left(u,v \\right)}}{2} - \\frac{\\partial^{2}}{\\partial v\\partial u} U{\\left(u,v \\right)} - \\frac{\\partial^{2}}{\\partial v\\partial u} V{\\left(u,v \\right)}\\right) e^{M{\\left(u,v \\right)} - U{\\left(u,v \\right)} - V{\\left(u,v \\right)}}\\end{matrix}\\right]$"
      ],
      "text/plain": [
       "⎡                                             2                               2             \n",
       "⎢                                ⎛∂          ⎞                   ⎛∂          ⎞            ∂ \n",
       "⎢                                ⎜──(U(u, v))⎟      2            ⎜──(V(u, v))⎟            ──\n",
       "⎢      ∂           ∂             ⎝∂u         ⎠     ∂             ⎝∂u         ⎠            ∂u\n",
       "⎢      ──(M(u, v))⋅──(U(u, v)) - ────────────── + ───(U(u, v)) - ──────────────         - ──\n",
       "⎢      ∂u          ∂u                  2            2                  2                    \n",
       "⎢                                                 ∂u                                        \n",
       "⎢                                                                                           \n",
       "⎢                                                                                           \n",
       "⎢  ∂           ∂             ∂           ∂                                                  \n",
       "⎢  ──(U(u, v))⋅──(U(u, v))   ──(V(u, v))⋅──(V(u, v))      2                2                \n",
       "⎢  ∂u          ∂v            ∂u          ∂v              ∂                ∂                 \n",
       "⎢- ─────────────────────── - ─────────────────────── + ─────(M(u, v)) + ─────(U(u, v))      \n",
       "⎢             2                         2              ∂v ∂u            ∂v ∂u               \n",
       "⎢                                                                                           \n",
       "⎢                                                                                           \n",
       "⎢                                                                                           \n",
       "⎢                                                                                           \n",
       "⎢                                                                                           \n",
       "⎢                                          0                                                \n",
       "⎢                                                                                           \n",
       "⎢                                                                                           \n",
       "⎢                                                                                           \n",
       "⎢                                                                                           \n",
       "⎢                                                                                           \n",
       "⎢                                          0                                                \n",
       "⎣                                                                                           \n",
       "\n",
       "                                                                                            \n",
       "          ∂             ∂           ∂                                                       \n",
       "(U(u, v))⋅──(U(u, v))   ──(V(u, v))⋅──(V(u, v))      2                2                     \n",
       "          ∂v            ∂u          ∂v              ∂                ∂                      \n",
       "───────────────────── - ─────────────────────── + ─────(M(u, v)) + ─────(U(u, v))           \n",
       "         2                         2              ∂v ∂u            ∂v ∂u                    \n",
       "                                                                                            \n",
       "                                                                                            \n",
       "                                         2                               2                  \n",
       "                            ⎛∂          ⎞                   ⎛∂          ⎞                   \n",
       "                            ⎜──(U(u, v))⎟      2            ⎜──(V(u, v))⎟                   \n",
       "  ∂           ∂             ⎝∂v         ⎠     ∂             ⎝∂v         ⎠                   \n",
       "  ──(M(u, v))⋅──(U(u, v)) - ────────────── + ───(U(u, v)) - ──────────────                  \n",
       "  ∂v          ∂v                  2            2                  2                         \n",
       "                                             ∂v                                             \n",
       "                                                                                            \n",
       "                                                                                   ⎛        \n",
       "                                                                                   ⎜        \n",
       "                                                                                   ⎜∂       \n",
       "                                      0                                            ⎜──(U(u, \n",
       "                                                                                   ⎝∂u      \n",
       "                                                                                            \n",
       "                                                                                            \n",
       "                                                                                            \n",
       "                                                                                            \n",
       "                                      0                                                     \n",
       "                                                                                            \n",
       "\n",
       "                                                                                            \n",
       "                                                                                            \n",
       "                                                                                            \n",
       "                                                                                            \n",
       "                                                            0                               \n",
       "                                                                                            \n",
       "                                                                                            \n",
       "                                                                                            \n",
       "                                                                                            \n",
       "                                                                                            \n",
       "                                                                                            \n",
       "                                                                                            \n",
       "                                                            0                               \n",
       "                                                                                            \n",
       "                                                                                            \n",
       "                                                                                            \n",
       "                  ∂           ∂             ∂           ∂                                   \n",
       "                  ──(U(u, v))⋅──(V(u, v))   ──(U(u, v))⋅──(V(u, v))      2                2 \n",
       "    ∂             ∂u          ∂v            ∂v          ∂u              ∂                ∂  \n",
       "v))⋅──(U(u, v)) - ─────────────────────── - ─────────────────────── - ─────(U(u, v)) + ─────\n",
       "    ∂v                       2                         2              ∂v ∂u            ∂v ∂u\n",
       "                                                                                            \n",
       "                                                                                            \n",
       "                                                                                            \n",
       "                                                                                            \n",
       "                                                            0                               \n",
       "                                                                                            \n",
       "\n",
       "                                                                                            \n",
       "                                                                                            \n",
       "                                                                                            \n",
       "                                                                                            \n",
       "                                                                                            \n",
       "                                                                                            \n",
       "                                                                                            \n",
       "                                                                                            \n",
       "                                                                                            \n",
       "                                                                                            \n",
       "                                                                                            \n",
       "                                                                                            \n",
       "                                                                                            \n",
       "                                                                                            \n",
       "                                                                                            \n",
       "                                                                                            \n",
       "         ⎞                                                                                  \n",
       "         ⎟                                                                                  \n",
       "         ⎟  M(u, v) - U(u, v) + V(u, v)                                                     \n",
       "(V(u, v))⎟⋅ℯ                                                                                \n",
       "         ⎠                                                                                  \n",
       "                                                                                            \n",
       "                                         ⎛                          ∂           ∂           \n",
       "                                         ⎜                          ──(U(u, v))⋅──(V(u, v)) \n",
       "                                         ⎜∂           ∂             ∂u          ∂v          \n",
       "                                         ⎜──(U(u, v))⋅──(U(u, v)) + ─────────────────────── \n",
       "                                         ⎝∂u          ∂v                       2            \n",
       "\n",
       "                                                                                         ⎤\n",
       "                                                                                         ⎥\n",
       "                                                                                         ⎥\n",
       "                                                                                         ⎥\n",
       "                  0                                                                      ⎥\n",
       "                                                                                         ⎥\n",
       "                                                                                         ⎥\n",
       "                                                                                         ⎥\n",
       "                                                                                         ⎥\n",
       "                                                                                         ⎥\n",
       "                                                                                         ⎥\n",
       "                                                                                         ⎥\n",
       "                  0                                                                      ⎥\n",
       "                                                                                         ⎥\n",
       "                                                                                         ⎥\n",
       "                                                                                         ⎥\n",
       "                                                                                         ⎥\n",
       "                                                                                         ⎥\n",
       "                                                                                         ⎥\n",
       "                  0                                                                      ⎥\n",
       "                                                                                         ⎥\n",
       "                                                                                         ⎥\n",
       "  ∂           ∂                                            ⎞                             ⎥\n",
       "  ──(U(u, v))⋅──(V(u, v))      2                2          ⎟                             ⎥\n",
       "  ∂v          ∂u              ∂                ∂           ⎟  M(u, v) - U(u, v) - V(u, v)⎥\n",
       "+ ─────────────────────── - ─────(U(u, v)) - ─────(V(u, v))⎟⋅ℯ                           ⎥\n",
       "             2              ∂v ∂u            ∂v ∂u         ⎠                             ⎦"
      ]
     },
     "execution_count": 22,
     "metadata": {},
     "output_type": "execute_result"
    }
   ],
   "source": [
    "ricciSimplified = simplify(Ric.tensor())\n",
    "ricciSimplified"
   ]
  },
  {
   "cell_type": "code",
   "execution_count": 23,
   "id": "db0c813f",
   "metadata": {},
   "outputs": [
    {
     "data": {
      "text/latex": [
       "$\\displaystyle \\left[\\begin{matrix}\\frac{\\partial}{\\partial u} M{\\left(u,v \\right)} \\frac{\\partial}{\\partial u} U{\\left(u,v \\right)} - \\frac{\\left(\\frac{\\partial}{\\partial u} U{\\left(u,v \\right)}\\right)^{2}}{2} + \\frac{\\partial^{2}}{\\partial u^{2}} U{\\left(u,v \\right)} - \\frac{\\left(\\frac{\\partial}{\\partial u} V{\\left(u,v \\right)}\\right)^{2}}{2} & 1.0 \\frac{\\partial}{\\partial u} U{\\left(u,v \\right)} \\frac{\\partial}{\\partial v} U{\\left(u,v \\right)} - 1.0 \\frac{\\partial^{2}}{\\partial v\\partial u} U{\\left(u,v \\right)} & 0 & 0\\\\1.0 \\frac{\\partial}{\\partial u} U{\\left(u,v \\right)} \\frac{\\partial}{\\partial v} U{\\left(u,v \\right)} - 1.0 \\frac{\\partial^{2}}{\\partial v\\partial u} U{\\left(u,v \\right)} & \\frac{\\partial}{\\partial v} M{\\left(u,v \\right)} \\frac{\\partial}{\\partial v} U{\\left(u,v \\right)} - \\frac{\\left(\\frac{\\partial}{\\partial v} U{\\left(u,v \\right)}\\right)^{2}}{2} + \\frac{\\partial^{2}}{\\partial v^{2}} U{\\left(u,v \\right)} - \\frac{\\left(\\frac{\\partial}{\\partial v} V{\\left(u,v \\right)}\\right)^{2}}{2} & 0 & 0\\\\0 & 0 & \\left(- 0.5 \\frac{\\partial}{\\partial u} U{\\left(u,v \\right)} \\frac{\\partial}{\\partial v} U{\\left(u,v \\right)} - \\frac{\\frac{\\partial}{\\partial u} U{\\left(u,v \\right)} \\frac{\\partial}{\\partial v} V{\\left(u,v \\right)}}{2} - \\frac{\\frac{\\partial}{\\partial v} U{\\left(u,v \\right)} \\frac{\\partial}{\\partial u} V{\\left(u,v \\right)}}{2} - 0.5 \\frac{\\partial}{\\partial u} V{\\left(u,v \\right)} \\frac{\\partial}{\\partial v} V{\\left(u,v \\right)} + \\frac{\\partial^{2}}{\\partial v\\partial u} M{\\left(u,v \\right)} + \\frac{\\partial^{2}}{\\partial v\\partial u} U{\\left(u,v \\right)} + \\frac{\\partial^{2}}{\\partial v\\partial u} V{\\left(u,v \\right)}\\right) e^{M{\\left(u,v \\right)} - U{\\left(u,v \\right)} + V{\\left(u,v \\right)}} & 0\\\\0 & 0 & 0 & \\left(- 0.5 \\frac{\\partial}{\\partial u} U{\\left(u,v \\right)} \\frac{\\partial}{\\partial v} U{\\left(u,v \\right)} + \\frac{\\frac{\\partial}{\\partial u} U{\\left(u,v \\right)} \\frac{\\partial}{\\partial v} V{\\left(u,v \\right)}}{2} + \\frac{\\frac{\\partial}{\\partial v} U{\\left(u,v \\right)} \\frac{\\partial}{\\partial u} V{\\left(u,v \\right)}}{2} - 0.5 \\frac{\\partial}{\\partial u} V{\\left(u,v \\right)} \\frac{\\partial}{\\partial v} V{\\left(u,v \\right)} + \\frac{\\partial^{2}}{\\partial v\\partial u} M{\\left(u,v \\right)} + \\frac{\\partial^{2}}{\\partial v\\partial u} U{\\left(u,v \\right)} - \\frac{\\partial^{2}}{\\partial v\\partial u} V{\\left(u,v \\right)}\\right) e^{M{\\left(u,v \\right)} - U{\\left(u,v \\right)} - V{\\left(u,v \\right)}}\\end{matrix}\\right]$"
      ],
      "text/plain": [
       "⎡                                       2                               2                   \n",
       "⎢                          ⎛∂          ⎞                   ⎛∂          ⎞                    \n",
       "⎢                          ⎜──(U(u, v))⎟      2            ⎜──(V(u, v))⎟                    \n",
       "⎢∂           ∂             ⎝∂u         ⎠     ∂             ⎝∂u         ⎠                    \n",
       "⎢──(M(u, v))⋅──(U(u, v)) - ────────────── + ───(U(u, v)) - ──────────────                1.0\n",
       "⎢∂u          ∂u                  2            2                  2                          \n",
       "⎢                                           ∂u                                              \n",
       "⎢                                                                                           \n",
       "⎢                                                                                           \n",
       "⎢                                                                                           \n",
       "⎢                                               2                                           \n",
       "⎢                  ∂           ∂               ∂                           ∂           ∂    \n",
       "⎢              1.0⋅──(U(u, v))⋅──(U(u, v)) - ─────(U(u, v))                ──(M(u, v))⋅──(U(\n",
       "⎢                  ∂u          ∂v            ∂v ∂u                         ∂v          ∂v   \n",
       "⎢                                                                                           \n",
       "⎢                                                                                           \n",
       "⎢                                                                                           \n",
       "⎢                                                                                           \n",
       "⎢                                                                                           \n",
       "⎢                                   0                                                       \n",
       "⎢                                                                                           \n",
       "⎢                                                                                           \n",
       "⎢                                                                                           \n",
       "⎢                                                                                           \n",
       "⎢                                                                                           \n",
       "⎢                                   0                                                       \n",
       "⎣                                                                                           \n",
       "\n",
       "                                                                                            \n",
       "                                                                                            \n",
       "                              2                                                             \n",
       " ∂           ∂               ∂                                                              \n",
       "⋅──(U(u, v))⋅──(U(u, v)) - ─────(U(u, v))                                                   \n",
       " ∂u          ∂v            ∂v ∂u                                                            \n",
       "                                                                                            \n",
       "                                                                                            \n",
       "                      2                               2                                     \n",
       "         ⎛∂          ⎞                   ⎛∂          ⎞                                      \n",
       "         ⎜──(U(u, v))⎟      2            ⎜──(V(u, v))⎟                                      \n",
       "         ⎝∂v         ⎠     ∂             ⎝∂v         ⎠                                      \n",
       "u, v)) - ────────────── + ───(U(u, v)) - ──────────────                                     \n",
       "               2            2                  2                                            \n",
       "                          ∂v                                                                \n",
       "                                                                                            \n",
       "                                                         ⎛                                ∂ \n",
       "                                                         ⎜                                ──\n",
       "                                                         ⎜      ∂           ∂             ∂u\n",
       "                  0                                      ⎜- 0.5⋅──(U(u, v))⋅──(U(u, v)) - ──\n",
       "                                                         ⎝      ∂u          ∂v              \n",
       "                                                                                            \n",
       "                                                                                            \n",
       "                                                                                            \n",
       "                                                                                            \n",
       "                  0                                                                         \n",
       "                                                                                            \n",
       "\n",
       "                                                                                            \n",
       "                                                                                            \n",
       "                                                                                            \n",
       "                                                                                            \n",
       "                                                             0                              \n",
       "                                                                                            \n",
       "                                                                                            \n",
       "                                                                                            \n",
       "                                                                                            \n",
       "                                                                                            \n",
       "                                                                                            \n",
       "                                                                                            \n",
       "                                                             0                              \n",
       "                                                                                            \n",
       "                                                                                            \n",
       "                                                                                            \n",
       "          ∂             ∂           ∂                                                       \n",
       "(U(u, v))⋅──(V(u, v))   ──(U(u, v))⋅──(V(u, v))                                    2        \n",
       "          ∂v            ∂v          ∂u                ∂           ∂               ∂         \n",
       "───────────────────── - ─────────────────────── - 0.5⋅──(V(u, v))⋅──(V(u, v)) + ─────(M(u, v\n",
       "         2                         2                  ∂u          ∂v            ∂v ∂u       \n",
       "                                                                                            \n",
       "                                                                                            \n",
       "                                                                                            \n",
       "                                                                                            \n",
       "                                                             0                              \n",
       "                                                                                            \n",
       "\n",
       "                                                                                            \n",
       "                                                                                            \n",
       "                                                                                            \n",
       "                                                                                            \n",
       "                                                                                            \n",
       "                                                                                            \n",
       "                                                                                            \n",
       "                                                                                            \n",
       "                                                                                            \n",
       "                                                                                            \n",
       "                                                                                            \n",
       "                                                                                            \n",
       "                                                                                            \n",
       "                                                                                            \n",
       "                                                                                            \n",
       "                                                                                            \n",
       "                                    ⎞                                                       \n",
       "        2                2          ⎟                                                       \n",
       "       ∂                ∂           ⎟  M(u, v) - U(u, v) + V(u, v)                          \n",
       ")) + ─────(U(u, v)) + ─────(V(u, v))⎟⋅ℯ                                                     \n",
       "     ∂v ∂u            ∂v ∂u         ⎠                                                       \n",
       "                                                                                            \n",
       "                                                                    ⎛                       \n",
       "                                                                    ⎜                       \n",
       "                                                                    ⎜      ∂           ∂    \n",
       "                                                                    ⎜- 0.5⋅──(U(u, v))⋅──(U(\n",
       "                                                                    ⎝      ∂u          ∂v   \n",
       "\n",
       "                                                                                            \n",
       "                                                                                            \n",
       "                                                                                            \n",
       "                                                                                            \n",
       "                                                                        0                   \n",
       "                                                                                            \n",
       "                                                                                            \n",
       "                                                                                            \n",
       "                                                                                            \n",
       "                                                                                            \n",
       "                                                                                            \n",
       "                                                                                            \n",
       "                                                                        0                   \n",
       "                                                                                            \n",
       "                                                                                            \n",
       "                                                                                            \n",
       "                                                                                            \n",
       "                                                                                            \n",
       "                                                                                            \n",
       "                                                                        0                   \n",
       "                                                                                            \n",
       "                                                                                            \n",
       "         ∂           ∂             ∂           ∂                                            \n",
       "         ──(U(u, v))⋅──(V(u, v))   ──(U(u, v))⋅──(V(u, v))                                  \n",
       "         ∂u          ∂v            ∂v          ∂u                ∂           ∂              \n",
       "u, v)) + ─────────────────────── + ─────────────────────── - 0.5⋅──(V(u, v))⋅──(V(u, v)) + ─\n",
       "                    2                         2                  ∂u          ∂v            ∂\n",
       "\n",
       "                                                                             ⎤\n",
       "                                                                             ⎥\n",
       "                                                                             ⎥\n",
       "                                                                             ⎥\n",
       "                                                                             ⎥\n",
       "                                                                             ⎥\n",
       "                                                                             ⎥\n",
       "                                                                             ⎥\n",
       "                                                                             ⎥\n",
       "                                                                             ⎥\n",
       "                                                                             ⎥\n",
       "                                                                             ⎥\n",
       "                                                                             ⎥\n",
       "                                                                             ⎥\n",
       "                                                                             ⎥\n",
       "                                                                             ⎥\n",
       "                                                                             ⎥\n",
       "                                                                             ⎥\n",
       "                                                                             ⎥\n",
       "                                                                             ⎥\n",
       "                                                                             ⎥\n",
       "                                                                             ⎥\n",
       "                                               ⎞                             ⎥\n",
       "  2                2                2          ⎟                             ⎥\n",
       " ∂                ∂                ∂           ⎟  M(u, v) - U(u, v) - V(u, v)⎥\n",
       "────(M(u, v)) + ─────(U(u, v)) - ─────(V(u, v))⎟⋅ℯ                           ⎥\n",
       "v ∂u            ∂v ∂u            ∂v ∂u         ⎠                             ⎦"
      ]
     },
     "execution_count": 23,
     "metadata": {},
     "output_type": "execute_result"
    }
   ],
   "source": [
    "einsteinSimplified = simplify(einst.tensor())\n",
    "einsteinSimplified"
   ]
  },
  {
   "cell_type": "code",
   "execution_count": 46,
   "id": "ed995919",
   "metadata": {},
   "outputs": [
    {
     "data": {
      "image/png": "[encoded data removed]",
      "text/latex": [
       "$\\displaystyle \\frac{\\partial^{2}}{\\partial v\\partial u} U{\\left(u,v \\right)} = \\frac{\\partial}{\\partial u} U{\\left(u,v \\right)} \\frac{\\partial}{\\partial v} U{\\left(u,v \\right)}$"
      ],
      "text/plain": [
       "   2                                    \n",
       "  ∂              ∂           ∂          \n",
       "─────(U(u, v)) = ──(U(u, v))⋅──(U(u, v))\n",
       "∂v ∂u            ∂u          ∂v         "
      ]
     },
     "execution_count": 46,
     "metadata": {},
     "output_type": "execute_result"
    }
   ],
   "source": [
    "d2ududv = Eq(diff(U,u,v), solve( einsteinSimplified[1,0], diff(U,u,v) )[0] )\n",
    "d2ududv"
   ]
  },
  {
   "cell_type": "code",
   "execution_count": 47,
   "id": "2107d632",
   "metadata": {},
   "outputs": [
    {
     "data": {
      "image/png": "[encoded data removed]",
      "text/latex": [
       "$\\displaystyle \\frac{\\partial^{2}}{\\partial u^{2}} U{\\left(u,v \\right)} = - \\frac{\\partial}{\\partial u} M{\\left(u,v \\right)} \\frac{\\partial}{\\partial u} U{\\left(u,v \\right)} + \\frac{\\left(\\frac{\\partial}{\\partial u} U{\\left(u,v \\right)}\\right)^{2}}{2} + \\frac{\\left(\\frac{\\partial}{\\partial u} V{\\left(u,v \\right)}\\right)^{2}}{2}$"
      ],
      "text/plain": [
       "                                                        2                2\n",
       "                                           ⎛∂          ⎞    ⎛∂          ⎞ \n",
       "  2                                        ⎜──(U(u, v))⎟    ⎜──(V(u, v))⎟ \n",
       " ∂               ∂           ∂             ⎝∂u         ⎠    ⎝∂u         ⎠ \n",
       "───(U(u, v)) = - ──(M(u, v))⋅──(U(u, v)) + ────────────── + ──────────────\n",
       "  2              ∂u          ∂u                  2                2       \n",
       "∂u                                                                        "
      ]
     },
     "execution_count": 47,
     "metadata": {},
     "output_type": "execute_result"
    }
   ],
   "source": [
    "d2udu2 = Eq( diff(U,u,u) , solve( einsteinSimplified[0,0], diff(U,u,u) )[0] ) \n",
    "d2udu2"
   ]
  },
  {
   "cell_type": "code",
   "execution_count": 48,
   "id": "c734801f",
   "metadata": {},
   "outputs": [
    {
     "data": {
      "image/png": "[encoded data removed]",
      "text/latex": [
       "$\\displaystyle \\frac{\\partial^{2}}{\\partial v^{2}} U{\\left(u,v \\right)} = - \\frac{\\partial}{\\partial v} M{\\left(u,v \\right)} \\frac{\\partial}{\\partial v} U{\\left(u,v \\right)} + \\frac{\\left(\\frac{\\partial}{\\partial v} U{\\left(u,v \\right)}\\right)^{2}}{2} + \\frac{\\left(\\frac{\\partial}{\\partial v} V{\\left(u,v \\right)}\\right)^{2}}{2}$"
      ],
      "text/plain": [
       "                                                        2                2\n",
       "                                           ⎛∂          ⎞    ⎛∂          ⎞ \n",
       "  2                                        ⎜──(U(u, v))⎟    ⎜──(V(u, v))⎟ \n",
       " ∂               ∂           ∂             ⎝∂v         ⎠    ⎝∂v         ⎠ \n",
       "───(U(u, v)) = - ──(M(u, v))⋅──(U(u, v)) + ────────────── + ──────────────\n",
       "  2              ∂v          ∂v                  2                2       \n",
       "∂v                                                                        "
      ]
     },
     "execution_count": 48,
     "metadata": {},
     "output_type": "execute_result"
    }
   ],
   "source": [
    "d2udv2 = Eq( diff(U,v,v) , solve( einsteinSimplified[1,1], diff(U,v,v) )[0] ) \n",
    "d2udv2"
   ]
  },
  {
   "cell_type": "code",
   "execution_count": 49,
   "id": "76d64f5d",
   "metadata": {},
   "outputs": [
    {
     "data": {
      "image/png": "[encoded data removed]",
      "text/latex": [
       "$\\displaystyle \\frac{\\partial^{2}}{\\partial v\\partial u} V{\\left(u,v \\right)} = \\frac{\\frac{\\partial}{\\partial u} U{\\left(u,v \\right)} \\frac{\\partial}{\\partial v} V{\\left(u,v \\right)}}{2} + \\frac{\\frac{\\partial}{\\partial v} U{\\left(u,v \\right)} \\frac{\\partial}{\\partial u} V{\\left(u,v \\right)}}{2}$"
      ],
      "text/plain": [
       "                 ∂           ∂             ∂           ∂          \n",
       "   2             ──(U(u, v))⋅──(V(u, v))   ──(U(u, v))⋅──(V(u, v))\n",
       "  ∂              ∂u          ∂v            ∂v          ∂u         \n",
       "─────(V(u, v)) = ─────────────────────── + ───────────────────────\n",
       "∂v ∂u                       2                         2           "
      ]
     },
     "execution_count": 49,
     "metadata": {},
     "output_type": "execute_result"
    }
   ],
   "source": [
    "d2vdudv = Eq( diff(V,u,v), solve( simplify( ricciSimplified[2,2].args[0] - ricciSimplified[3,3].args[0] ) , diff(V,u,v) )[0] ) \n",
    "d2vdudv"
   ]
  },
  {
   "cell_type": "code",
   "execution_count": 51,
   "id": "df90e689",
   "metadata": {},
   "outputs": [
    {
     "data": {
      "image/png": "[encoded data removed]",
      "text/latex": [
       "$\\displaystyle \\frac{\\partial^{2}}{\\partial v\\partial u} M{\\left(u,v \\right)} = - 0.5 \\frac{\\partial}{\\partial u} U{\\left(u,v \\right)} \\frac{\\partial}{\\partial v} U{\\left(u,v \\right)} + 0.5 \\frac{\\partial}{\\partial u} V{\\left(u,v \\right)} \\frac{\\partial}{\\partial v} V{\\left(u,v \\right)}$"
      ],
      "text/plain": [
       "   2                                                                        \n",
       "  ∂                    ∂           ∂                 ∂           ∂          \n",
       "─────(M(u, v)) = - 0.5⋅──(U(u, v))⋅──(U(u, v)) + 0.5⋅──(V(u, v))⋅──(V(u, v))\n",
       "∂v ∂u                  ∂u          ∂v                ∂u          ∂v         "
      ]
     },
     "execution_count": 51,
     "metadata": {},
     "output_type": "execute_result"
    }
   ],
   "source": [
    "d2mdudv = Eq( diff(M,u,v), solve( (einsteinSimplified[2,2].args[0] + einsteinSimplified[3,3].args[0]) , diff(M,u,v) )[0] ).subs(d2ududv.lhs,d2ududv.rhs) \n",
    "d2mdudv"
   ]
  },
  {
   "cell_type": "code",
   "execution_count": null,
   "id": "4143f3f2",
   "metadata": {},
   "outputs": [],
   "source": []
  }
 ],
 "metadata": {
  "@webio": {
   "lastCommId": "06cd43aa458d4777b25f5cf9ee4dbf5c",
   "lastKernelId": "62cd0dff-8cf6-47bf-b24b-9fc0baa82d9a"
  },
  "kernelspec": {
   "display_name": "Python 3 (ipykernel)",
   "language": "python",
   "name": "python3"
  },
  "language_info": {
   "codemirror_mode": {
    "name": "ipython",
    "version": 3
   },
   "file_extension": ".py",
   "mimetype": "text/x-python",
   "name": "python",
   "nbconvert_exporter": "python",
   "pygments_lexer": "ipython3",
   "version": "3.8.8"
  }
 },
 "nbformat": 4,
 "nbformat_minor": 5
}
