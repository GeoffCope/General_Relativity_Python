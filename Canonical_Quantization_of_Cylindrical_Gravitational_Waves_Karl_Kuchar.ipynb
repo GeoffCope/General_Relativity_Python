{
 "cells": [
  {
   "cell_type": "markdown",
   "id": "876361ee",
   "metadata": {},
   "source": [
    "# Canonical Quantization of Cylindrical Gravitational Waves by Karl Kuchar\n",
    "##  Geoff Cope\n",
    "##  Univeristy of Utah\n",
    "##  𐐏𐐭𐑌𐐲𐑂𐐲𐑉𐑅𐐮𐐻𐐨 𐐲𐑂 𐐏𐐭𐐻𐐫\n",
    "##  January 21, 2022"
   ]
  },
  {
   "cell_type": "markdown",
   "id": "0d1a0b8d",
   "metadata": {},
   "source": [
    "https://journals.aps.org/prd/abstract/10.1103/PhysRevD.4.955"
   ]
  },
  {
   "cell_type": "code",
   "execution_count": 1,
   "id": "4ffa61bd",
   "metadata": {},
   "outputs": [
    {
     "name": "stdout",
     "output_type": "stream",
     "text": [
      "IPython console for SymPy 1.9 (Python 3.8.8-64-bit) (ground types: gmpy)\n",
      "\n",
      "These commands were executed:\n",
      ">>> from __future__ import division\n",
      ">>> from sympy import *\n",
      ">>> x, y, z, t = symbols('x y z t')\n",
      ">>> k, m, n = symbols('k m n', integer=True)\n",
      ">>> f, g, h = symbols('f g h', cls=Function)\n",
      ">>> init_printing()\n",
      "\n",
      "Documentation can be found at https://docs.sympy.org/1.9/\n",
      "\n"
     ]
    }
   ],
   "source": [
    "from sympy import init_session\n",
    "init_session(use_latex=True)"
   ]
  },
  {
   "cell_type": "code",
   "execution_count": 2,
   "id": "e6b7c8ee",
   "metadata": {},
   "outputs": [],
   "source": [
    "import warnings\n",
    "import matplotlib.cbook\n",
    "warnings.filterwarnings(\"ignore\",category=matplotlib.cbook.mplDeprecation)"
   ]
  },
  {
   "cell_type": "code",
   "execution_count": 3,
   "id": "4e162863",
   "metadata": {},
   "outputs": [],
   "source": [
    "#  Capital R is for Ricci so we use lower case r here.... \n",
    "T,r,phi,z,dT,dr,dphi,dz = symbols('T r phi z dT dr dphi dz')"
   ]
  },
  {
   "cell_type": "code",
   "execution_count": 4,
   "id": "3e3af276",
   "metadata": {},
   "outputs": [
    {
     "data": {
      "image/png": "[encoded data removed]",
      "text/latex": [
       "$\\displaystyle \\Gamma{\\left(T,r \\right)}$"
      ],
      "text/plain": [
       "Γ(T, r)"
      ]
     },
     "execution_count": 4,
     "metadata": {},
     "output_type": "execute_result"
    }
   ],
   "source": [
    "Gamma = Function('Gamma')(T,r)\n",
    "Gamma"
   ]
  },
  {
   "cell_type": "code",
   "execution_count": 5,
   "id": "2c321242",
   "metadata": {},
   "outputs": [
    {
     "data": {
      "image/png": "[encoded data removed]",
      "text/latex": [
       "$\\displaystyle \\psi{\\left(T,r \\right)}$"
      ],
      "text/plain": [
       "ψ(T, r)"
      ]
     },
     "execution_count": 5,
     "metadata": {},
     "output_type": "execute_result"
    }
   ],
   "source": [
    "psi = Function('psi')(T,r)\n",
    "psi"
   ]
  },
  {
   "cell_type": "code",
   "execution_count": 6,
   "id": "8cbb4d90",
   "metadata": {},
   "outputs": [
    {
     "data": {
      "text/latex": [
       "$\\displaystyle \\left[\\begin{matrix}T\\\\r\\\\\\phi\\\\z\\end{matrix}\\right]$"
      ],
      "text/plain": [
       "⎡T⎤\n",
       "⎢ ⎥\n",
       "⎢r⎥\n",
       "⎢ ⎥\n",
       "⎢φ⎥\n",
       "⎢ ⎥\n",
       "⎣z⎦"
      ]
     },
     "execution_count": 6,
     "metadata": {},
     "output_type": "execute_result"
    }
   ],
   "source": [
    "variables = Matrix([T,r,phi,z])\n",
    "variables"
   ]
  },
  {
   "cell_type": "code",
   "execution_count": 7,
   "id": "7c759a8f",
   "metadata": {},
   "outputs": [
    {
     "data": {
      "text/latex": [
       "$\\displaystyle \\left[\\begin{matrix}dT\\\\dr\\\\dphi\\\\dz\\end{matrix}\\right]$"
      ],
      "text/plain": [
       "⎡ dT ⎤\n",
       "⎢    ⎥\n",
       "⎢ dr ⎥\n",
       "⎢    ⎥\n",
       "⎢dphi⎥\n",
       "⎢    ⎥\n",
       "⎣ dz ⎦"
      ]
     },
     "execution_count": 7,
     "metadata": {},
     "output_type": "execute_result"
    }
   ],
   "source": [
    "differentials = Matrix([dT,dr,dphi,dz])\n",
    "differentials "
   ]
  },
  {
   "cell_type": "code",
   "execution_count": 8,
   "id": "639eae5b",
   "metadata": {},
   "outputs": [
    {
     "data": {
      "image/png": "[encoded data removed]",
      "text/latex": [
       "$\\displaystyle - dT^{2} e^{\\Gamma{\\left(T,r \\right)}} e^{- \\psi{\\left(T,r \\right)}} + dphi^{2} r^{2} e^{- \\psi{\\left(T,r \\right)}} + dr^{2} e^{\\Gamma{\\left(T,r \\right)}} e^{- \\psi{\\left(T,r \\right)}} + dz^{2} e^{\\psi{\\left(T,r \\right)}}$"
      ],
      "text/plain": [
       "    2  Γ(T, r)  -ψ(T, r)       2  2  -ψ(T, r)     2  Γ(T, r)  -ψ(T, r)     2  ψ(T, r)\n",
       "- dT ⋅ℯ       ⋅ℯ         + dphi ⋅r ⋅ℯ         + dr ⋅ℯ       ⋅ℯ         + dz ⋅ℯ       "
      ]
     },
     "execution_count": 8,
     "metadata": {},
     "output_type": "execute_result"
    }
   ],
   "source": [
    "lineElement = expand( exp(Gamma-psi) * (-dT**2 + dr**2) + r**2 * exp(-psi) * dphi**2 + exp(psi)*dz**2 ) \n",
    "lineElement"
   ]
  },
  {
   "cell_type": "code",
   "execution_count": 9,
   "id": "62c896ac",
   "metadata": {},
   "outputs": [
    {
     "data": {
      "text/latex": [
       "$\\displaystyle \\left[\\begin{matrix}- e^{\\Gamma{\\left(T,r \\right)}} e^{- \\psi{\\left(T,r \\right)}} & 0 & 0 & 0\\\\0 & e^{\\Gamma{\\left(T,r \\right)}} e^{- \\psi{\\left(T,r \\right)}} & 0 & 0\\\\0 & 0 & r^{2} e^{- \\psi{\\left(T,r \\right)}} & 0\\\\0 & 0 & 0 & e^{\\psi{\\left(T,r \\right)}}\\end{matrix}\\right]$"
      ],
      "text/plain": [
       "⎡  Γ(T, r)  -ψ(T, r)                                            ⎤\n",
       "⎢-ℯ       ⋅ℯ                  0                0           0    ⎥\n",
       "⎢                                                               ⎥\n",
       "⎢                      Γ(T, r)  -ψ(T, r)                        ⎥\n",
       "⎢         0           ℯ       ⋅ℯ               0           0    ⎥\n",
       "⎢                                                               ⎥\n",
       "⎢                                          2  -ψ(T, r)          ⎥\n",
       "⎢         0                   0           r ⋅ℯ             0    ⎥\n",
       "⎢                                                               ⎥\n",
       "⎢                                                        ψ(T, r)⎥\n",
       "⎣         0                   0                0        ℯ       ⎦"
      ]
     },
     "execution_count": 9,
     "metadata": {},
     "output_type": "execute_result"
    }
   ],
   "source": [
    "g = zeros(4)\n",
    "\n",
    "for i in range(4):\n",
    "    for j in range(4):\n",
    "        if i == j:\n",
    "            g[i,j] = lineElement.coeff( differentials[i],2 ) \n",
    "        else:\n",
    "            g[i,j] = Rational(1,2)*lineElement.coeff( differentials[i]*differentials[j],1 )\n",
    "            \n",
    "g"
   ]
  },
  {
   "cell_type": "code",
   "execution_count": 10,
   "id": "18847378",
   "metadata": {},
   "outputs": [],
   "source": [
    "import sympy"
   ]
  },
  {
   "cell_type": "code",
   "execution_count": 11,
   "id": "a2867c67",
   "metadata": {},
   "outputs": [
    {
     "data": {
      "text/latex": [
       "$\\displaystyle \\left[\\begin{matrix}- e^{\\Gamma{\\left(T,r \\right)}} e^{- \\psi{\\left(T,r \\right)}} & 0 & 0 & 0\\\\0 & e^{\\Gamma{\\left(T,r \\right)}} e^{- \\psi{\\left(T,r \\right)}} & 0 & 0\\\\0 & 0 & r^{2} e^{- \\psi{\\left(T,r \\right)}} & 0\\\\0 & 0 & 0 & e^{\\psi{\\left(T,r \\right)}}\\end{matrix}\\right]$"
      ],
      "text/plain": [
       "⎡  Γ(T, r)  -ψ(T, r)                                            ⎤\n",
       "⎢-ℯ       ⋅ℯ                  0                0           0    ⎥\n",
       "⎢                                                               ⎥\n",
       "⎢                      Γ(T, r)  -ψ(T, r)                        ⎥\n",
       "⎢         0           ℯ       ⋅ℯ               0           0    ⎥\n",
       "⎢                                                               ⎥\n",
       "⎢                                          2  -ψ(T, r)          ⎥\n",
       "⎢         0                   0           r ⋅ℯ             0    ⎥\n",
       "⎢                                                               ⎥\n",
       "⎢                                                        ψ(T, r)⎥\n",
       "⎣         0                   0                0        ℯ       ⎦"
      ]
     },
     "execution_count": 11,
     "metadata": {},
     "output_type": "execute_result"
    }
   ],
   "source": [
    "m = sympy.Array(g)\n",
    "m"
   ]
  },
  {
   "cell_type": "code",
   "execution_count": 12,
   "id": "bc0fa0dd",
   "metadata": {},
   "outputs": [],
   "source": [
    "from einsteinpy.symbolic import *"
   ]
  },
  {
   "cell_type": "code",
   "execution_count": 13,
   "id": "5cdb9cc8",
   "metadata": {},
   "outputs": [],
   "source": [
    "syms = sympy.symbols(\"T r phi z\")\n",
    "T,r,phi,z = syms"
   ]
  },
  {
   "cell_type": "code",
   "execution_count": 14,
   "id": "262e060e",
   "metadata": {},
   "outputs": [],
   "source": [
    "metric = MetricTensor(m,syms)"
   ]
  },
  {
   "cell_type": "code",
   "execution_count": 15,
   "id": "dfe1e841",
   "metadata": {},
   "outputs": [
    {
     "data": {
      "text/latex": [
       "$\\displaystyle \\left[\\begin{matrix}\\left[\\begin{matrix}\\frac{\\frac{\\partial}{\\partial T} \\Gamma{\\left(T,r \\right)}}{2} - \\frac{\\frac{\\partial}{\\partial T} \\psi{\\left(T,r \\right)}}{2} & \\frac{\\frac{\\partial}{\\partial r} \\Gamma{\\left(T,r \\right)}}{2} - \\frac{\\frac{\\partial}{\\partial r} \\psi{\\left(T,r \\right)}}{2} & 0 & 0\\\\\\frac{\\frac{\\partial}{\\partial r} \\Gamma{\\left(T,r \\right)}}{2} - \\frac{\\frac{\\partial}{\\partial r} \\psi{\\left(T,r \\right)}}{2} & \\frac{\\frac{\\partial}{\\partial T} \\Gamma{\\left(T,r \\right)}}{2} - \\frac{\\frac{\\partial}{\\partial T} \\psi{\\left(T,r \\right)}}{2} & 0 & 0\\\\0 & 0 & - \\frac{r^{2} e^{- \\Gamma{\\left(T,r \\right)}} \\frac{\\partial}{\\partial T} \\psi{\\left(T,r \\right)}}{2} & 0\\\\0 & 0 & 0 & \\frac{e^{- \\Gamma{\\left(T,r \\right)} + 2 \\psi{\\left(T,r \\right)}} \\frac{\\partial}{\\partial T} \\psi{\\left(T,r \\right)}}{2}\\end{matrix}\\right] & \\left[\\begin{matrix}\\frac{\\frac{\\partial}{\\partial r} \\Gamma{\\left(T,r \\right)}}{2} - \\frac{\\frac{\\partial}{\\partial r} \\psi{\\left(T,r \\right)}}{2} & \\frac{\\frac{\\partial}{\\partial T} \\Gamma{\\left(T,r \\right)}}{2} - \\frac{\\frac{\\partial}{\\partial T} \\psi{\\left(T,r \\right)}}{2} & 0 & 0\\\\\\frac{\\frac{\\partial}{\\partial T} \\Gamma{\\left(T,r \\right)}}{2} - \\frac{\\frac{\\partial}{\\partial T} \\psi{\\left(T,r \\right)}}{2} & \\frac{\\frac{\\partial}{\\partial r} \\Gamma{\\left(T,r \\right)}}{2} - \\frac{\\frac{\\partial}{\\partial r} \\psi{\\left(T,r \\right)}}{2} & 0 & 0\\\\0 & 0 & \\frac{r \\left(r \\frac{\\partial}{\\partial r} \\psi{\\left(T,r \\right)} - 2\\right) e^{- \\Gamma{\\left(T,r \\right)}}}{2} & 0\\\\0 & 0 & 0 & - \\frac{e^{- \\Gamma{\\left(T,r \\right)} + 2 \\psi{\\left(T,r \\right)}} \\frac{\\partial}{\\partial r} \\psi{\\left(T,r \\right)}}{2}\\end{matrix}\\right] & \\left[\\begin{matrix}0 & 0 & - \\frac{\\frac{\\partial}{\\partial T} \\psi{\\left(T,r \\right)}}{2} & 0\\\\0 & 0 & - \\frac{\\frac{\\partial}{\\partial r} \\psi{\\left(T,r \\right)}}{2} + \\frac{1}{r} & 0\\\\- \\frac{\\frac{\\partial}{\\partial T} \\psi{\\left(T,r \\right)}}{2} & - \\frac{\\frac{\\partial}{\\partial r} \\psi{\\left(T,r \\right)}}{2} + \\frac{1}{r} & 0 & 0\\\\0 & 0 & 0 & 0\\end{matrix}\\right] & \\left[\\begin{matrix}0 & 0 & 0 & \\frac{\\frac{\\partial}{\\partial T} \\psi{\\left(T,r \\right)}}{2}\\\\0 & 0 & 0 & \\frac{\\frac{\\partial}{\\partial r} \\psi{\\left(T,r \\right)}}{2}\\\\0 & 0 & 0 & 0\\\\\\frac{\\frac{\\partial}{\\partial T} \\psi{\\left(T,r \\right)}}{2} & \\frac{\\frac{\\partial}{\\partial r} \\psi{\\left(T,r \\right)}}{2} & 0 & 0\\end{matrix}\\right]\\end{matrix}\\right]$"
      ],
      "text/plain": [
       "⎡⎡∂             ∂            ∂             ∂                                                                         ⎤  ⎡∂             \n",
       "⎢⎢──(Γ(T, r))   ──(ψ(T, r))  ──(Γ(T, r))   ──(ψ(T, r))                                                               ⎥  ⎢──(Γ(T, r))   \n",
       "⎢⎢∂T            ∂T           ∂r            ∂r                                                                        ⎥  ⎢∂r            \n",
       "⎢⎢─────────── - ───────────  ─────────── - ───────────              0                               0                ⎥  ⎢─────────── - \n",
       "⎢⎢     2             2            2             2                                                                    ⎥  ⎢     2        \n",
       "⎢⎢                                                                                                                   ⎥  ⎢              \n",
       "⎢⎢∂             ∂            ∂             ∂                                                                         ⎥  ⎢∂             \n",
       "⎢⎢──(Γ(T, r))   ──(ψ(T, r))  ──(Γ(T, r))   ──(ψ(T, r))                                                               ⎥  ⎢──(Γ(T, r))   \n",
       "⎢⎢∂r            ∂r           ∂T            ∂T                                                                        ⎥  ⎢∂T            \n",
       "⎢⎢─────────── - ───────────  ─────────── - ───────────              0                               0                ⎥  ⎢─────────── - \n",
       "⎢⎢     2             2            2             2                                                                    ⎥  ⎢     2        \n",
       "⎢⎢                                                                                                                   ⎥  ⎢              \n",
       "⎢⎢                                                        2  -Γ(T, r) ∂                                              ⎥  ⎢              \n",
       "⎢⎢                                                      -r ⋅ℯ        ⋅──(ψ(T, r))                                    ⎥  ⎢              \n",
       "⎢⎢                                                                    ∂T                                             ⎥  ⎢              \n",
       "⎢⎢            0                          0              ──────────────────────────                  0                ⎥  ⎢            0 \n",
       "⎢⎢                                                                  2                                                ⎥  ⎢              \n",
       "⎢⎢                                                                                                                   ⎥  ⎢              \n",
       "⎢⎢                                                                                   -Γ(T, r) + 2⋅ψ(T, r) ∂          ⎥  ⎢              \n",
       "⎢⎢                                                                                  ℯ                    ⋅──(ψ(T, r))⎥  ⎢              \n",
       "⎢⎢                                                                                                        ∂T         ⎥  ⎢              \n",
       "⎢⎢            0                          0                          0               ─────────────────────────────────⎥  ⎢            0 \n",
       "⎣⎣                                                                                                  2                ⎦  ⎣              \n",
       "\n",
       "∂            ∂             ∂                                                                                ⎤                          \n",
       "──(ψ(T, r))  ──(Γ(T, r))   ──(ψ(T, r))                                                                      ⎥                          \n",
       "∂r           ∂T            ∂T                                                                               ⎥  ⎡                       \n",
       "───────────  ─────────── - ───────────                 0                                  0                 ⎥  ⎢                       \n",
       "     2            2             2                                                                           ⎥  ⎢                       \n",
       "                                                                                                            ⎥  ⎢      0                \n",
       "∂            ∂             ∂                                                                                ⎥  ⎢                       \n",
       "──(ψ(T, r))  ──(Γ(T, r))   ──(ψ(T, r))                                                                      ⎥  ⎢                       \n",
       "∂T           ∂r            ∂r                                                                               ⎥  ⎢                       \n",
       "───────────  ─────────── - ───────────                 0                                  0                 ⎥  ⎢                       \n",
       "     2            2             2                                                                           ⎥  ⎢                       \n",
       "                                                                                                            ⎥  ⎢      0                \n",
       "                                          ⎛  ∂              ⎞  -Γ(T, r)                                     ⎥  ⎢                       \n",
       "                                        r⋅⎜r⋅──(ψ(T, r)) - 2⎟⋅ℯ                                             ⎥  ⎢                       \n",
       "                                          ⎝  ∂r             ⎠                                               ⎥  ⎢ ∂               ∂     \n",
       "                         0              ───────────────────────────────                   0                 ⎥  ⎢-──(ψ(T, r))     ──(ψ(T\n",
       "                                                       2                                                    ⎥  ⎢ ∂T              ∂r    \n",
       "                                                                                                            ⎥  ⎢─────────────  - ──────\n",
       "                                                                           -Γ(T, r) + 2⋅ψ(T, r) ∂           ⎥  ⎢      2               2\n",
       "                                                                         -ℯ                    ⋅──(ψ(T, r)) ⎥  ⎢                       \n",
       "                                                                                                ∂r          ⎥  ⎣      0                \n",
       "                         0                             0                 ───────────────────────────────────⎥                          \n",
       "                                                                                          2                 ⎦                          \n",
       "\n",
       "                                                                            ⎤\n",
       "                                                                            ⎥\n",
       "              ∂                ⎤  ⎡                             ∂          ⎤⎥\n",
       "             -──(ψ(T, r))      ⎥  ⎢                             ──(ψ(T, r))⎥⎥\n",
       "              ∂T               ⎥  ⎢                             ∂T         ⎥⎥\n",
       "0            ─────────────    0⎥  ⎢     0            0       0  ───────────⎥⎥\n",
       "                   2           ⎥  ⎢                                  2     ⎥⎥\n",
       "                               ⎥  ⎢                                        ⎥⎥\n",
       "             ∂                 ⎥  ⎢                             ∂          ⎥⎥\n",
       "             ──(ψ(T, r))       ⎥  ⎢                             ──(ψ(T, r))⎥⎥\n",
       "             ∂r            1   ⎥  ⎢                             ∂r         ⎥⎥\n",
       "0          - ─────────── + ─  0⎥  ⎢     0            0       0  ───────────⎥⎥\n",
       "                  2        r   ⎥  ⎢                                  2     ⎥⎥\n",
       "                               ⎥  ⎢                                        ⎥⎥\n",
       "                               ⎥  ⎢     0            0       0       0     ⎥⎥\n",
       ", r))                          ⎥  ⎢                                        ⎥⎥\n",
       "        1                      ⎥  ⎢∂            ∂                          ⎥⎥\n",
       "───── + ─          0          0⎥  ⎢──(ψ(T, r))  ──(ψ(T, r))                ⎥⎥\n",
       "        r                      ⎥  ⎢∂T           ∂r                         ⎥⎥\n",
       "                               ⎥  ⎢───────────  ───────────  0       0     ⎥⎥\n",
       "0                  0          0⎦  ⎣     2            2                     ⎦⎥\n",
       "                                                                            ⎥\n",
       "                                                                            ⎦"
      ]
     },
     "execution_count": 15,
     "metadata": {},
     "output_type": "execute_result"
    }
   ],
   "source": [
    "ch = ChristoffelSymbols.from_metric(metric)\n",
    "simplify(ch.tensor())"
   ]
  },
  {
   "cell_type": "code",
   "execution_count": 16,
   "id": "0b1d7a81",
   "metadata": {},
   "outputs": [
    {
     "data": {
      "text/latex": [
       "$\\displaystyle \\left[\\begin{matrix}\\frac{- r \\frac{\\partial^{2}}{\\partial T^{2}} \\Gamma{\\left(T,r \\right)} + r \\frac{\\partial^{2}}{\\partial r^{2}} \\Gamma{\\left(T,r \\right)} - r \\left(\\frac{\\partial}{\\partial T} \\psi{\\left(T,r \\right)}\\right)^{2} + r \\frac{\\partial^{2}}{\\partial T^{2}} \\psi{\\left(T,r \\right)} - r \\frac{\\partial^{2}}{\\partial r^{2}} \\psi{\\left(T,r \\right)} + \\frac{\\partial}{\\partial r} \\Gamma{\\left(T,r \\right)} - \\frac{\\partial}{\\partial r} \\psi{\\left(T,r \\right)}}{2 r} & \\frac{- r \\frac{\\partial}{\\partial T} \\psi{\\left(T,r \\right)} \\frac{\\partial}{\\partial r} \\psi{\\left(T,r \\right)} + \\frac{\\partial}{\\partial T} \\Gamma{\\left(T,r \\right)}}{2 r} & 0 & 0\\\\\\frac{- r \\frac{\\partial}{\\partial T} \\psi{\\left(T,r \\right)} \\frac{\\partial}{\\partial r} \\psi{\\left(T,r \\right)} + \\frac{\\partial}{\\partial T} \\Gamma{\\left(T,r \\right)}}{2 r} & \\frac{r \\left(\\frac{\\partial^{2}}{\\partial T^{2}} \\Gamma{\\left(T,r \\right)} - \\frac{\\partial^{2}}{\\partial r^{2}} \\Gamma{\\left(T,r \\right)} - \\frac{\\partial^{2}}{\\partial T^{2}} \\psi{\\left(T,r \\right)} - \\left(\\frac{\\partial}{\\partial r} \\psi{\\left(T,r \\right)}\\right)^{2} + \\frac{\\partial^{2}}{\\partial r^{2}} \\psi{\\left(T,r \\right)}\\right) + \\frac{\\partial}{\\partial r} \\Gamma{\\left(T,r \\right)} + \\frac{\\partial}{\\partial r} \\psi{\\left(T,r \\right)}}{2 r} & 0 & 0\\\\0 & 0 & \\frac{r \\left(- r \\frac{\\partial^{2}}{\\partial T^{2}} \\psi{\\left(T,r \\right)} + r \\frac{\\partial^{2}}{\\partial r^{2}} \\psi{\\left(T,r \\right)} + \\frac{\\partial}{\\partial r} \\psi{\\left(T,r \\right)}\\right) e^{- \\Gamma{\\left(T,r \\right)}}}{2} & 0\\\\0 & 0 & 0 & \\frac{\\left(r \\frac{\\partial^{2}}{\\partial T^{2}} \\psi{\\left(T,r \\right)} - r \\frac{\\partial^{2}}{\\partial r^{2}} \\psi{\\left(T,r \\right)} - \\frac{\\partial}{\\partial r} \\psi{\\left(T,r \\right)}\\right) e^{- \\Gamma{\\left(T,r \\right)} + 2 \\psi{\\left(T,r \\right)}}}{2 r}\\end{matrix}\\right]$"
      ],
      "text/plain": [
       "⎡      2                2                           2       2                2                                                         \n",
       "⎢     ∂                ∂               ⎛∂          ⎞       ∂                ∂             ∂             ∂                              \n",
       "⎢- r⋅───(Γ(T, r)) + r⋅───(Γ(T, r)) - r⋅⎜──(ψ(T, r))⎟  + r⋅───(ψ(T, r)) - r⋅───(ψ(T, r)) + ──(Γ(T, r)) - ──(ψ(T, r))                    \n",
       "⎢      2                2              ⎝∂T         ⎠        2                2            ∂r            ∂r                             \n",
       "⎢    ∂T               ∂r                                  ∂T               ∂r                                                          \n",
       "⎢──────────────────────────────────────────────────────────────────────────────────────────────────────────────────                    \n",
       "⎢                                                       2⋅r                                                                            \n",
       "⎢                                                                                                                                      \n",
       "⎢                                                                                                                      ⎛  2            \n",
       "⎢                                                                                                                      ⎜ ∂             \n",
       "⎢                                        ∂           ∂             ∂                                                 r⋅⎜───(Γ(T, r)) - \n",
       "⎢                                    - r⋅──(ψ(T, r))⋅──(ψ(T, r)) + ──(Γ(T, r))                                         ⎜  2            \n",
       "⎢                                        ∂T          ∂r            ∂T                                                  ⎝∂T             \n",
       "⎢                                    ─────────────────────────────────────────                                       ──────────────────\n",
       "⎢                                                       2⋅r                                                                            \n",
       "⎢                                                                                                                                      \n",
       "⎢                                                                                                                                      \n",
       "⎢                                                                                                                                      \n",
       "⎢                                                                                                                                      \n",
       "⎢                                                                                                                                      \n",
       "⎢                                                                                                                                      \n",
       "⎢                                                        0                                                                             \n",
       "⎢                                                                                                                                      \n",
       "⎢                                                                                                                                      \n",
       "⎢                                                                                                                                      \n",
       "⎢                                                                                                                                      \n",
       "⎢                                                                                                                                      \n",
       "⎢                                                                                                                                      \n",
       "⎢                                                                                                                                      \n",
       "⎢                                                        0                                                                             \n",
       "⎣                                                                                                                                      \n",
       "\n",
       "                                                                                                                                       \n",
       "                                                                                                                                       \n",
       "                  ∂           ∂             ∂                                                                                          \n",
       "              - r⋅──(ψ(T, r))⋅──(ψ(T, r)) + ──(Γ(T, r))                                                                                \n",
       "                  ∂T          ∂r            ∂T                                                                                         \n",
       "              ─────────────────────────────────────────                                                                 0              \n",
       "                                 2⋅r                                                                                                   \n",
       "                                                                                                                                       \n",
       "  2              2                         2     2         ⎞                                                                           \n",
       " ∂              ∂             ⎛∂          ⎞     ∂          ⎟   ∂             ∂                                                         \n",
       "───(Γ(T, r)) - ───(ψ(T, r)) - ⎜──(ψ(T, r))⎟  + ───(ψ(T, r))⎟ + ──(Γ(T, r)) + ──(ψ(T, r))                                               \n",
       "  2              2            ⎝∂r         ⎠      2         ⎟   ∂r            ∂r                                                        \n",
       "∂r             ∂T                              ∂r          ⎠                                                                           \n",
       "────────────────────────────────────────────────────────────────────────────────────────                                0              \n",
       "                                 2⋅r                                                                                                   \n",
       "                                                                                                                                       \n",
       "                                                                                            ⎛      2                2                  \n",
       "                                                                                            ⎜     ∂                ∂             ∂     \n",
       "                                                                                          r⋅⎜- r⋅───(ψ(T, r)) + r⋅───(ψ(T, r)) + ──(ψ(T\n",
       "                                                                                            ⎜      2                2            ∂r    \n",
       "                                                                                            ⎝    ∂T               ∂r                   \n",
       "                                  0                                                       ─────────────────────────────────────────────\n",
       "                                                                                                                        2              \n",
       "                                                                                                                                       \n",
       "                                                                                                                                       \n",
       "                                                                                                                                       \n",
       "                                                                                                                                       \n",
       "                                                                                                                                       \n",
       "                                                                                                                                       \n",
       "                                  0                                                                                     0              \n",
       "                                                                                                                                       \n",
       "\n",
       "                                                                                       ⎤\n",
       "                                                                                       ⎥\n",
       "                                                                                       ⎥\n",
       "                                                                                       ⎥\n",
       "                                                                                       ⎥\n",
       "                                                    0                                  ⎥\n",
       "                                                                                       ⎥\n",
       "                                                                                       ⎥\n",
       "                                                                                       ⎥\n",
       "                                                                                       ⎥\n",
       "                                                                                       ⎥\n",
       "                                                                                       ⎥\n",
       "                                                                                       ⎥\n",
       "                                                    0                                  ⎥\n",
       "                                                                                       ⎥\n",
       "                                                                                       ⎥\n",
       "     ⎞                                                                                 ⎥\n",
       "     ⎟  -Γ(T, r)                                                                       ⎥\n",
       ", r))⎟⋅ℯ                                                                               ⎥\n",
       "     ⎟                                                                                 ⎥\n",
       "     ⎠                                                                                 ⎥\n",
       "────────────────                                    0                                  ⎥\n",
       "                                                                                       ⎥\n",
       "                                                                                       ⎥\n",
       "                  ⎛    2                2                       ⎞                      ⎥\n",
       "                  ⎜   ∂                ∂             ∂          ⎟  -Γ(T, r) + 2⋅ψ(T, r)⎥\n",
       "                  ⎜r⋅───(ψ(T, r)) - r⋅───(ψ(T, r)) - ──(ψ(T, r))⎟⋅ℯ                    ⎥\n",
       "                  ⎜    2                2            ∂r         ⎟                      ⎥\n",
       "                  ⎝  ∂T               ∂r                        ⎠                      ⎥\n",
       "                  ─────────────────────────────────────────────────────────────────────⎥\n",
       "                                                   2⋅r                                 ⎦"
      ]
     },
     "execution_count": 16,
     "metadata": {},
     "output_type": "execute_result"
    }
   ],
   "source": [
    "Ric = RicciTensor.from_metric(metric)\n",
    "Ric.tensor()"
   ]
  },
  {
   "cell_type": "code",
   "execution_count": 17,
   "id": "cc4a2d6d",
   "metadata": {},
   "outputs": [
    {
     "data": {
      "image/png": "[encoded data removed]",
      "text/latex": [
       "$\\displaystyle \\frac{\\left(r \\frac{\\partial^{2}}{\\partial T^{2}} \\Gamma{\\left(T,r \\right)} - r \\frac{\\partial^{2}}{\\partial r^{2}} \\Gamma{\\left(T,r \\right)} + \\frac{r \\left(\\frac{\\partial}{\\partial T} \\psi{\\left(T,r \\right)}\\right)^{2}}{2} - r \\frac{\\partial^{2}}{\\partial T^{2}} \\psi{\\left(T,r \\right)} - \\frac{r \\left(\\frac{\\partial}{\\partial r} \\psi{\\left(T,r \\right)}\\right)^{2}}{2} + r \\frac{\\partial^{2}}{\\partial r^{2}} \\psi{\\left(T,r \\right)} + \\frac{\\partial}{\\partial r} \\psi{\\left(T,r \\right)}\\right) e^{- \\Gamma{\\left(T,r \\right)} + \\psi{\\left(T,r \\right)}}}{r}$"
      ],
      "text/plain": [
       "⎛                                                 2                                   2                               ⎞                \n",
       "⎜                                    ⎛∂          ⎞                       ⎛∂          ⎞                                ⎟                \n",
       "⎜    2                2            r⋅⎜──(ψ(T, r))⎟        2            r⋅⎜──(ψ(T, r))⎟        2                       ⎟                \n",
       "⎜   ∂                ∂               ⎝∂T         ⎠       ∂               ⎝∂r         ⎠       ∂             ∂          ⎟  -Γ(T, r) + ψ(T\n",
       "⎜r⋅───(Γ(T, r)) - r⋅───(Γ(T, r)) + ──────────────── - r⋅───(ψ(T, r)) - ──────────────── + r⋅───(ψ(T, r)) + ──(ψ(T, r))⎟⋅ℯ              \n",
       "⎜    2                2                   2               2                   2               2            ∂r         ⎟                \n",
       "⎝  ∂T               ∂r                                  ∂T                                  ∂r                        ⎠                \n",
       "───────────────────────────────────────────────────────────────────────────────────────────────────────────────────────────────────────\n",
       "                                                                     r                                                                 \n",
       "\n",
       "    \n",
       "    \n",
       "    \n",
       ", r)\n",
       "    \n",
       "    \n",
       "    \n",
       "────\n",
       "    "
      ]
     },
     "execution_count": 17,
     "metadata": {},
     "output_type": "execute_result"
    }
   ],
   "source": [
    "R = RicciScalar.from_riccitensor(Ric)\n",
    "R.simplify()\n",
    "R.expr"
   ]
  },
  {
   "cell_type": "code",
   "execution_count": 18,
   "id": "9845d73a",
   "metadata": {},
   "outputs": [
    {
     "data": {
      "text/latex": [
       "$\\displaystyle \\left[\\begin{matrix}\\frac{- r \\frac{\\partial^{2}}{\\partial T^{2}} \\Gamma{\\left(T,r \\right)} + r \\frac{\\partial^{2}}{\\partial r^{2}} \\Gamma{\\left(T,r \\right)} - r \\left(\\frac{\\partial}{\\partial T} \\psi{\\left(T,r \\right)}\\right)^{2} + r \\frac{\\partial^{2}}{\\partial T^{2}} \\psi{\\left(T,r \\right)} - r \\frac{\\partial^{2}}{\\partial r^{2}} \\psi{\\left(T,r \\right)} + \\frac{\\partial}{\\partial r} \\Gamma{\\left(T,r \\right)} - \\frac{\\partial}{\\partial r} \\psi{\\left(T,r \\right)}}{2 r} + \\frac{0.5 \\left(r \\frac{\\partial^{2}}{\\partial T^{2}} \\Gamma{\\left(T,r \\right)} - r \\frac{\\partial^{2}}{\\partial r^{2}} \\Gamma{\\left(T,r \\right)} + \\frac{r \\left(\\frac{\\partial}{\\partial T} \\psi{\\left(T,r \\right)}\\right)^{2}}{2} - r \\frac{\\partial^{2}}{\\partial T^{2}} \\psi{\\left(T,r \\right)} - \\frac{r \\left(\\frac{\\partial}{\\partial r} \\psi{\\left(T,r \\right)}\\right)^{2}}{2} + r \\frac{\\partial^{2}}{\\partial r^{2}} \\psi{\\left(T,r \\right)} + \\frac{\\partial}{\\partial r} \\psi{\\left(T,r \\right)}\\right) e^{- \\Gamma{\\left(T,r \\right)} + \\psi{\\left(T,r \\right)}} e^{\\Gamma{\\left(T,r \\right)}} e^{- \\psi{\\left(T,r \\right)}}}{r} & \\frac{- r \\frac{\\partial}{\\partial T} \\psi{\\left(T,r \\right)} \\frac{\\partial}{\\partial r} \\psi{\\left(T,r \\right)} + \\frac{\\partial}{\\partial T} \\Gamma{\\left(T,r \\right)}}{2 r} & 0 & 0\\\\\\frac{- r \\frac{\\partial}{\\partial T} \\psi{\\left(T,r \\right)} \\frac{\\partial}{\\partial r} \\psi{\\left(T,r \\right)} + \\frac{\\partial}{\\partial T} \\Gamma{\\left(T,r \\right)}}{2 r} & \\frac{r \\left(\\frac{\\partial^{2}}{\\partial T^{2}} \\Gamma{\\left(T,r \\right)} - \\frac{\\partial^{2}}{\\partial r^{2}} \\Gamma{\\left(T,r \\right)} - \\frac{\\partial^{2}}{\\partial T^{2}} \\psi{\\left(T,r \\right)} - \\left(\\frac{\\partial}{\\partial r} \\psi{\\left(T,r \\right)}\\right)^{2} + \\frac{\\partial^{2}}{\\partial r^{2}} \\psi{\\left(T,r \\right)}\\right) + \\frac{\\partial}{\\partial r} \\Gamma{\\left(T,r \\right)} + \\frac{\\partial}{\\partial r} \\psi{\\left(T,r \\right)}}{2 r} - \\frac{0.5 \\left(r \\frac{\\partial^{2}}{\\partial T^{2}} \\Gamma{\\left(T,r \\right)} - r \\frac{\\partial^{2}}{\\partial r^{2}} \\Gamma{\\left(T,r \\right)} + \\frac{r \\left(\\frac{\\partial}{\\partial T} \\psi{\\left(T,r \\right)}\\right)^{2}}{2} - r \\frac{\\partial^{2}}{\\partial T^{2}} \\psi{\\left(T,r \\right)} - \\frac{r \\left(\\frac{\\partial}{\\partial r} \\psi{\\left(T,r \\right)}\\right)^{2}}{2} + r \\frac{\\partial^{2}}{\\partial r^{2}} \\psi{\\left(T,r \\right)} + \\frac{\\partial}{\\partial r} \\psi{\\left(T,r \\right)}\\right) e^{- \\Gamma{\\left(T,r \\right)} + \\psi{\\left(T,r \\right)}} e^{\\Gamma{\\left(T,r \\right)}} e^{- \\psi{\\left(T,r \\right)}}}{r} & 0 & 0\\\\0 & 0 & \\frac{r \\left(- r \\frac{\\partial^{2}}{\\partial T^{2}} \\psi{\\left(T,r \\right)} + r \\frac{\\partial^{2}}{\\partial r^{2}} \\psi{\\left(T,r \\right)} + \\frac{\\partial}{\\partial r} \\psi{\\left(T,r \\right)}\\right) e^{- \\Gamma{\\left(T,r \\right)}}}{2} - 0.5 r \\left(r \\frac{\\partial^{2}}{\\partial T^{2}} \\Gamma{\\left(T,r \\right)} - r \\frac{\\partial^{2}}{\\partial r^{2}} \\Gamma{\\left(T,r \\right)} + \\frac{r \\left(\\frac{\\partial}{\\partial T} \\psi{\\left(T,r \\right)}\\right)^{2}}{2} - r \\frac{\\partial^{2}}{\\partial T^{2}} \\psi{\\left(T,r \\right)} - \\frac{r \\left(\\frac{\\partial}{\\partial r} \\psi{\\left(T,r \\right)}\\right)^{2}}{2} + r \\frac{\\partial^{2}}{\\partial r^{2}} \\psi{\\left(T,r \\right)} + \\frac{\\partial}{\\partial r} \\psi{\\left(T,r \\right)}\\right) e^{- \\Gamma{\\left(T,r \\right)} + \\psi{\\left(T,r \\right)}} e^{- \\psi{\\left(T,r \\right)}} & 0\\\\0 & 0 & 0 & \\frac{\\left(r \\frac{\\partial^{2}}{\\partial T^{2}} \\psi{\\left(T,r \\right)} - r \\frac{\\partial^{2}}{\\partial r^{2}} \\psi{\\left(T,r \\right)} - \\frac{\\partial}{\\partial r} \\psi{\\left(T,r \\right)}\\right) e^{- \\Gamma{\\left(T,r \\right)} + 2 \\psi{\\left(T,r \\right)}}}{2 r} - \\frac{0.5 \\left(r \\frac{\\partial^{2}}{\\partial T^{2}} \\Gamma{\\left(T,r \\right)} - r \\frac{\\partial^{2}}{\\partial r^{2}} \\Gamma{\\left(T,r \\right)} + \\frac{r \\left(\\frac{\\partial}{\\partial T} \\psi{\\left(T,r \\right)}\\right)^{2}}{2} - r \\frac{\\partial^{2}}{\\partial T^{2}} \\psi{\\left(T,r \\right)} - \\frac{r \\left(\\frac{\\partial}{\\partial r} \\psi{\\left(T,r \\right)}\\right)^{2}}{2} + r \\frac{\\partial^{2}}{\\partial r^{2}} \\psi{\\left(T,r \\right)} + \\frac{\\partial}{\\partial r} \\psi{\\left(T,r \\right)}\\right) e^{- \\Gamma{\\left(T,r \\right)} + \\psi{\\left(T,r \\right)}} e^{\\psi{\\left(T,r \\right)}}}{r}\\end{matrix}\\right]$"
      ],
      "text/plain": [
       "⎡                                                                                                                         ⎛            \n",
       "⎢                                                                                                                         ⎜            \n",
       "⎢      2                2                           2       2                2                                            ⎜    2       \n",
       "⎢     ∂                ∂               ⎛∂          ⎞       ∂                ∂             ∂             ∂                 ⎜   ∂        \n",
       "⎢- r⋅───(Γ(T, r)) + r⋅───(Γ(T, r)) - r⋅⎜──(ψ(T, r))⎟  + r⋅───(ψ(T, r)) - r⋅───(ψ(T, r)) + ──(Γ(T, r)) - ──(ψ(T, r))   0.5⋅⎜r⋅───(Γ(T, r\n",
       "⎢      2                2              ⎝∂T         ⎠        2                2            ∂r            ∂r                ⎜    2       \n",
       "⎢    ∂T               ∂r                                  ∂T               ∂r                                             ⎝  ∂T        \n",
       "⎢────────────────────────────────────────────────────────────────────────────────────────────────────────────────── + ─────────────────\n",
       "⎢                                                       2⋅r                                                                            \n",
       "⎢                                                                                                                                      \n",
       "⎢                                                                                                                                      \n",
       "⎢                                                                                                                                      \n",
       "⎢                                                                                                                                      \n",
       "⎢                                                                                                                                      \n",
       "⎢                                                                                                                           ∂          \n",
       "⎢                                                                                                                       - r⋅──(ψ(T, r))\n",
       "⎢                                                                                                                           ∂T         \n",
       "⎢                                                                                                                       ───────────────\n",
       "⎢                                                                                                                                      \n",
       "⎢                                                                                                                                      \n",
       "⎢                                                                                                                                      \n",
       "⎢                                                                                                                                      \n",
       "⎢                                                                                                                                      \n",
       "⎢                                                                                                                                      \n",
       "⎢                                                                                                                                      \n",
       "⎢                                                                                                                                      \n",
       "⎢                                                                                                                                      \n",
       "⎢                                                                                                                                      \n",
       "⎢                                                                                                                                      \n",
       "⎢                                                                                                                                      \n",
       "⎢                                                                                                                                      \n",
       "⎢                                                                                                                                      \n",
       "⎢                                                                                                                                      \n",
       "⎢                                                                                                                                      \n",
       "⎢                                                                                                                                      \n",
       "⎢                                                                                                                                      \n",
       "⎢                                                                                                                                      \n",
       "⎣                                                                                                                                      \n",
       "\n",
       "                                     2                                   2                               ⎞                             \n",
       "                        ⎛∂          ⎞                       ⎛∂          ⎞                                ⎟                             \n",
       "         2            r⋅⎜──(ψ(T, r))⎟        2            r⋅⎜──(ψ(T, r))⎟        2                       ⎟                             \n",
       "        ∂               ⎝∂T         ⎠       ∂               ⎝∂r         ⎠       ∂             ∂          ⎟  -Γ(T, r) + ψ(T, r)  Γ(T, r)\n",
       ")) - r⋅───(Γ(T, r)) + ──────────────── - r⋅───(ψ(T, r)) - ──────────────── + r⋅───(ψ(T, r)) + ──(ψ(T, r))⎟⋅ℯ                  ⋅ℯ       \n",
       "         2                   2               2                   2               2            ∂r         ⎟                             \n",
       "       ∂r                                  ∂T                                  ∂r                        ⎠                             \n",
       "───────────────────────────────────────────────────────────────────────────────────────────────────────────────────────────────────────\n",
       "                                                               r                                                                       \n",
       "                                                                                                                                       \n",
       "                                                                                                                                       \n",
       "                                                                                                                                       \n",
       "                                                                                                                                       \n",
       "                                                                                                                                       \n",
       " ∂             ∂                                                                                                                       \n",
       "⋅──(ψ(T, r)) + ──(Γ(T, r))                                                                                                             \n",
       " ∂r            ∂T                                                                                                                      \n",
       "──────────────────────────                                                                                                             \n",
       "    2⋅r                                                                                                                                \n",
       "                                                                                                                                       \n",
       "                                                                                                                                       \n",
       "                                                                                                                                       \n",
       "                                                                                                                                       \n",
       "                                                                                                                                       \n",
       "                                                                                                                                       \n",
       "     0                                                                                                                                 \n",
       "                                                                                                                                       \n",
       "                                                                                                                                       \n",
       "                                                                                                                                       \n",
       "                                                                                                                                       \n",
       "                                                                                                                                       \n",
       "                                                                                                                                       \n",
       "                                                                                                                                       \n",
       "                                                                                                                                       \n",
       "                                                                                                                                       \n",
       "                                                                                                                                       \n",
       "     0                                                                                                                                 \n",
       "                                                                                                                                       \n",
       "\n",
       "                                                                                                                                       \n",
       "                                                                                                                                       \n",
       "                                                                                                                                       \n",
       "  -ψ(T, r)                                                                                                                             \n",
       "⋅ℯ                                                                                                                                 ∂   \n",
       "                                                                                                                               - r⋅──(ψ\n",
       "                                                                                                                                   ∂T  \n",
       "──────────                                                                                                                     ────────\n",
       "                                                                                                                                       \n",
       "                                                                                                                                       \n",
       "                                                                                                                             ⎛         \n",
       "                                                                                                                             ⎜         \n",
       "              ⎛  2              2              2                         2     2         ⎞                                   ⎜    2    \n",
       "              ⎜ ∂              ∂              ∂             ⎛∂          ⎞     ∂          ⎟   ∂             ∂                 ⎜   ∂     \n",
       "            r⋅⎜───(Γ(T, r)) - ───(Γ(T, r)) - ───(ψ(T, r)) - ⎜──(ψ(T, r))⎟  + ───(ψ(T, r))⎟ + ──(Γ(T, r)) + ──(ψ(T, r))   0.5⋅⎜r⋅───(Γ(T\n",
       "              ⎜  2              2              2            ⎝∂r         ⎠      2         ⎟   ∂r            ∂r                ⎜    2    \n",
       "              ⎝∂T             ∂r             ∂T                              ∂r          ⎠                                   ⎝  ∂T     \n",
       "            ────────────────────────────────────────────────────────────────────────────────────────────────────────── - ──────────────\n",
       "                                                               2⋅r                                                                     \n",
       "                                                                                                                                       \n",
       "                                                                                                                                       \n",
       "                                                                                                                                       \n",
       "                                                                                                                                       \n",
       "                                                                                                                                       \n",
       "                                                                                                                                       \n",
       "                                                                                                                                       \n",
       "                                                                                                                                       \n",
       "                                                                                                                                       \n",
       "                                                                                                                                       \n",
       "                                                                                                                                       \n",
       "                                                                                                                                       \n",
       "                                                                                                                                       \n",
       "                                                                                                                                       \n",
       "                                                                                                                                       \n",
       "                                                                                                                                       \n",
       "                                                                                                                                       \n",
       "                                                                                                                                       \n",
       "                                                                                                                                       \n",
       "\n",
       "                                                                                                                                       \n",
       "                                                                                                                                       \n",
       "                                                                                                                                       \n",
       "                                                                                                                                       \n",
       "        ∂             ∂                                                                                                                \n",
       "(T, r))⋅──(ψ(T, r)) + ──(Γ(T, r))                                                                                                      \n",
       "        ∂r            ∂T                                                                                                               \n",
       "─────────────────────────────────                                                                                                      \n",
       "           2⋅r                                                                                                                         \n",
       "                                                                                                                                       \n",
       "                                        2                                   2                               ⎞                          \n",
       "                           ⎛∂          ⎞                       ⎛∂          ⎞                                ⎟                          \n",
       "            2            r⋅⎜──(ψ(T, r))⎟        2            r⋅⎜──(ψ(T, r))⎟        2                       ⎟                          \n",
       "           ∂               ⎝∂T         ⎠       ∂               ⎝∂r         ⎠       ∂             ∂          ⎟  -Γ(T, r) + ψ(T, r)  Γ(T,\n",
       ", r)) - r⋅───(Γ(T, r)) + ──────────────── - r⋅───(ψ(T, r)) - ──────────────── + r⋅───(ψ(T, r)) + ──(ψ(T, r))⎟⋅ℯ                  ⋅ℯ    \n",
       "            2                   2               2                   2               2            ∂r         ⎟                          \n",
       "          ∂r                                  ∂T                                  ∂r                        ⎠                          \n",
       "───────────────────────────────────────────────────────────────────────────────────────────────────────────────────────────────────────\n",
       "                                                                  r                                                                    \n",
       "                                                                                                                                       \n",
       "                                                                                                                                       \n",
       "                                                                                                                                       \n",
       "                                                                                                                                       \n",
       "                                                                                                                                       \n",
       "                                                                                                                                       \n",
       "            0                                                                                                                          \n",
       "                                                                                                                                       \n",
       "                                                                                                                                       \n",
       "                                                                                                                                       \n",
       "                                                                                                                                       \n",
       "                                                                                                                                       \n",
       "                                                                                                                                       \n",
       "                                                                                                                                       \n",
       "                                                                                                                                       \n",
       "                                                                                                                                       \n",
       "                                                                                                                                       \n",
       "            0                                                                                                                          \n",
       "                                                                                                                                       \n",
       "\n",
       "                                                                                                                                       \n",
       "                                                                                                                                       \n",
       "                                                                                                                                       \n",
       "                                                                                                                                       \n",
       "                                                                                                                                       \n",
       "                                                                                                                                       \n",
       "                                                                                                                                       \n",
       "                                                                                                                            0          \n",
       "                                                                                                                                       \n",
       "                                                                                                                                       \n",
       "                                                                                                                                       \n",
       "                                                                                                                                       \n",
       "                                                                                                                                       \n",
       " r)  -ψ(T, r)                                                                                                                          \n",
       "   ⋅ℯ                                                                                                                                  \n",
       "                                                                                                                                       \n",
       "                                                                                                                                       \n",
       "─────────────                                                                                                               0          \n",
       "                                                                                                                                       \n",
       "                                                                                                                                       \n",
       "                 ⎛      2                2                       ⎞                                                                     \n",
       "                 ⎜     ∂                ∂             ∂          ⎟  -Γ(T, r)         ⎛                                                 \n",
       "               r⋅⎜- r⋅───(ψ(T, r)) + r⋅───(ψ(T, r)) + ──(ψ(T, r))⎟⋅ℯ                 ⎜                                    ⎛∂          ⎞\n",
       "                 ⎜      2                2            ∂r         ⎟                   ⎜    2                2            r⋅⎜──(ψ(T, r))⎟\n",
       "                 ⎝    ∂T               ∂r                        ⎠                   ⎜   ∂                ∂               ⎝∂T         ⎠\n",
       "               ───────────────────────────────────────────────────────────── - 0.5⋅r⋅⎜r⋅───(Γ(T, r)) - r⋅───(Γ(T, r)) + ───────────────\n",
       "                                             2                                       ⎜    2                2                   2       \n",
       "                                                                                     ⎝  ∂T               ∂r                            \n",
       "                                                                                                                                       \n",
       "                                                                                                                                       \n",
       "                                                                                                                                       \n",
       "                                                                                                                                       \n",
       "                                                                                                                                       \n",
       "                                                                                                                                       \n",
       "                                                                                                                                       \n",
       "                                                                                                                                       \n",
       "                                                                                                                            0          \n",
       "                                                                                                                                       \n",
       "\n",
       "                                                                                                                                       \n",
       "                                                                                                                                       \n",
       "                                                                                                                                       \n",
       "                                                                                                                                       \n",
       "                                                                                                                                       \n",
       "                                                                                                                                       \n",
       "                                                                                                                                       \n",
       "                                                                                                                                       \n",
       "                                                                                                                                       \n",
       "                                                                                                                                       \n",
       "                                                                                                                                       \n",
       "                                                                                                                                       \n",
       "                                                                                                                                       \n",
       "                                                                                                                                       \n",
       "                                                                                                                                       \n",
       "                                                                                                                                       \n",
       "                                                                                                                                       \n",
       "                                                                                                                                       \n",
       "                                                                                                                                       \n",
       "                                                                                                                                       \n",
       "                                                                                                                                       \n",
       "2                                   2                               ⎞                                                                  \n",
       "                       ⎛∂          ⎞                                ⎟                                                                  \n",
       "        2            r⋅⎜──(ψ(T, r))⎟        2                       ⎟                                                                  \n",
       "       ∂               ⎝∂r         ⎠       ∂             ∂          ⎟  -Γ(T, r) + ψ(T, r)  -ψ(T, r)                                    \n",
       "─ - r⋅───(ψ(T, r)) - ──────────────── + r⋅───(ψ(T, r)) + ──(ψ(T, r))⎟⋅ℯ                  ⋅ℯ                                            \n",
       "        2                   2               2            ∂r         ⎟                                                                  \n",
       "      ∂T                                  ∂r                        ⎠                                                                  \n",
       "                                                                                                                                       \n",
       "                                                                                                                                       \n",
       "                                                                                                                                       \n",
       "                                                                                                     ⎛    2                2           \n",
       "                                                                                                     ⎜   ∂                ∂            \n",
       "                                                                                                     ⎜r⋅───(ψ(T, r)) - r⋅───(ψ(T, r)) -\n",
       "                                                                                                     ⎜    2                2           \n",
       "                                                                                                     ⎝  ∂T               ∂r            \n",
       "                                                                                                     ──────────────────────────────────\n",
       "                                                                                                                                      2\n",
       "\n",
       "                                                                                                                                       \n",
       "                                                                                                                                       \n",
       "                                                                                                                                       \n",
       "                                                                                                                                       \n",
       "                                                                                                                                       \n",
       "                                                                                                                                       \n",
       "                                                                                                                                       \n",
       "                                                                             0                                                         \n",
       "                                                                                                                                       \n",
       "                                                                                                                                       \n",
       "                                                                                                                                       \n",
       "                                                                                                                                       \n",
       "                                                                                                                                       \n",
       "                                                                                                                                       \n",
       "                                                                                                                                       \n",
       "                                                                                                                                       \n",
       "                                                                                                                                       \n",
       "                                                                             0                                                         \n",
       "                                                                                                                                       \n",
       "                                                                                                                                       \n",
       "                                                                                                                                       \n",
       "                                                                                                                                       \n",
       "                                                                                                                                       \n",
       "                                                                                                                                       \n",
       "                                                                                                                                       \n",
       "                                                                             0                                                         \n",
       "                                                                                                                                       \n",
       "                                                                                                                                       \n",
       "                                                                                                                                       \n",
       "                                          ⎛                                                 2                                   2      \n",
       "                                          ⎜                                    ⎛∂          ⎞                       ⎛∂          ⎞       \n",
       "            ⎞                             ⎜    2                2            r⋅⎜──(ψ(T, r))⎟        2            r⋅⎜──(ψ(T, r))⎟       \n",
       " ∂          ⎟  -Γ(T, r) + 2⋅ψ(T, r)       ⎜   ∂                ∂               ⎝∂T         ⎠       ∂               ⎝∂r         ⎠       \n",
       " ──(ψ(T, r))⎟⋅ℯ                       0.5⋅⎜r⋅───(Γ(T, r)) - r⋅───(Γ(T, r)) + ──────────────── - r⋅───(ψ(T, r)) - ──────────────── + r⋅─\n",
       " ∂r         ⎟                             ⎜    2                2                   2               2                   2              \n",
       "            ⎠                             ⎝  ∂T               ∂r                                  ∂T                                  ∂\n",
       "─────────────────────────────────── - ─────────────────────────────────────────────────────────────────────────────────────────────────\n",
       "⋅r                                                                                                               r                     \n",
       "\n",
       "                                                       ⎤\n",
       "                                                       ⎥\n",
       "                                                       ⎥\n",
       "                                                       ⎥\n",
       "                                                       ⎥\n",
       "                                                       ⎥\n",
       "                                                       ⎥\n",
       "                                                       ⎥\n",
       "                                                       ⎥\n",
       "                                                       ⎥\n",
       "                                                       ⎥\n",
       "                                                       ⎥\n",
       "                                                       ⎥\n",
       "                                                       ⎥\n",
       "                                                       ⎥\n",
       "                                                       ⎥\n",
       "                                                       ⎥\n",
       "                                                       ⎥\n",
       "                                                       ⎥\n",
       "                                                       ⎥\n",
       "                                                       ⎥\n",
       "                                                       ⎥\n",
       "                                                       ⎥\n",
       "                                                       ⎥\n",
       "                                                       ⎥\n",
       "                                                       ⎥\n",
       "                                                       ⎥\n",
       "                                                       ⎥\n",
       "                                                       ⎥\n",
       "                         ⎞                             ⎥\n",
       "                         ⎟                             ⎥\n",
       " 2                       ⎟                             ⎥\n",
       "∂             ∂          ⎟  -Γ(T, r) + ψ(T, r)  ψ(T, r)⎥\n",
       "──(ψ(T, r)) + ──(ψ(T, r))⎟⋅ℯ                  ⋅ℯ       ⎥\n",
       " 2            ∂r         ⎟                             ⎥\n",
       "r                        ⎠                             ⎥\n",
       "───────────────────────────────────────────────────────⎥\n",
       "                                                       ⎦"
      ]
     },
     "execution_count": 18,
     "metadata": {},
     "output_type": "execute_result"
    }
   ],
   "source": [
    "einst = EinsteinTensor.from_metric(metric)\n",
    "einst.tensor()"
   ]
  },
  {
   "cell_type": "code",
   "execution_count": 19,
   "id": "1fa9ffa4",
   "metadata": {},
   "outputs": [],
   "source": [
    "#  rm1 = RiemannCurvatureTensor.from_christoffels(ch)\n",
    "#  rm1.tensor()"
   ]
  },
  {
   "cell_type": "code",
   "execution_count": 20,
   "id": "212e7134",
   "metadata": {},
   "outputs": [],
   "source": [
    "#  weyl = WeylTensor.from_metric(metric)\n",
    "#  weyl.tensor()"
   ]
  },
  {
   "cell_type": "code",
   "execution_count": 21,
   "id": "588728b0",
   "metadata": {},
   "outputs": [
    {
     "data": {
      "text/latex": [
       "$\\displaystyle \\left[\\begin{matrix}\\frac{- r \\frac{\\partial^{2}}{\\partial T^{2}} \\Gamma{\\left(T,r \\right)} + r \\frac{\\partial^{2}}{\\partial r^{2}} \\Gamma{\\left(T,r \\right)} - r \\left(\\frac{\\partial}{\\partial T} \\psi{\\left(T,r \\right)}\\right)^{2} + r \\frac{\\partial^{2}}{\\partial T^{2}} \\psi{\\left(T,r \\right)} - r \\frac{\\partial^{2}}{\\partial r^{2}} \\psi{\\left(T,r \\right)} + \\frac{\\partial}{\\partial r} \\Gamma{\\left(T,r \\right)} - \\frac{\\partial}{\\partial r} \\psi{\\left(T,r \\right)}}{2 r} & \\frac{- r \\frac{\\partial}{\\partial T} \\psi{\\left(T,r \\right)} \\frac{\\partial}{\\partial r} \\psi{\\left(T,r \\right)} + \\frac{\\partial}{\\partial T} \\Gamma{\\left(T,r \\right)}}{2 r} & 0 & 0\\\\\\frac{- r \\frac{\\partial}{\\partial T} \\psi{\\left(T,r \\right)} \\frac{\\partial}{\\partial r} \\psi{\\left(T,r \\right)} + \\frac{\\partial}{\\partial T} \\Gamma{\\left(T,r \\right)}}{2 r} & \\frac{- r \\left(- \\frac{\\partial^{2}}{\\partial T^{2}} \\Gamma{\\left(T,r \\right)} + \\frac{\\partial^{2}}{\\partial r^{2}} \\Gamma{\\left(T,r \\right)} + \\frac{\\partial^{2}}{\\partial T^{2}} \\psi{\\left(T,r \\right)} + \\left(\\frac{\\partial}{\\partial r} \\psi{\\left(T,r \\right)}\\right)^{2} - \\frac{\\partial^{2}}{\\partial r^{2}} \\psi{\\left(T,r \\right)}\\right) + \\frac{\\partial}{\\partial r} \\Gamma{\\left(T,r \\right)} + \\frac{\\partial}{\\partial r} \\psi{\\left(T,r \\right)}}{2 r} & 0 & 0\\\\0 & 0 & \\frac{r \\left(- r \\frac{\\partial^{2}}{\\partial T^{2}} \\psi{\\left(T,r \\right)} + r \\frac{\\partial^{2}}{\\partial r^{2}} \\psi{\\left(T,r \\right)} + \\frac{\\partial}{\\partial r} \\psi{\\left(T,r \\right)}\\right) e^{- \\Gamma{\\left(T,r \\right)}}}{2} & 0\\\\0 & 0 & 0 & \\frac{\\left(r \\frac{\\partial^{2}}{\\partial T^{2}} \\psi{\\left(T,r \\right)} - r \\frac{\\partial^{2}}{\\partial r^{2}} \\psi{\\left(T,r \\right)} - \\frac{\\partial}{\\partial r} \\psi{\\left(T,r \\right)}\\right) e^{- \\Gamma{\\left(T,r \\right)} + 2 \\psi{\\left(T,r \\right)}}}{2 r}\\end{matrix}\\right]$"
      ],
      "text/plain": [
       "⎡      2                2                           2       2                2                                                         \n",
       "⎢     ∂                ∂               ⎛∂          ⎞       ∂                ∂             ∂             ∂                              \n",
       "⎢- r⋅───(Γ(T, r)) + r⋅───(Γ(T, r)) - r⋅⎜──(ψ(T, r))⎟  + r⋅───(ψ(T, r)) - r⋅───(ψ(T, r)) + ──(Γ(T, r)) - ──(ψ(T, r))                    \n",
       "⎢      2                2              ⎝∂T         ⎠        2                2            ∂r            ∂r                             \n",
       "⎢    ∂T               ∂r                                  ∂T               ∂r                                                          \n",
       "⎢──────────────────────────────────────────────────────────────────────────────────────────────────────────────────                    \n",
       "⎢                                                       2⋅r                                                                            \n",
       "⎢                                                                                                                                      \n",
       "⎢                                                                                                                        ⎛    2        \n",
       "⎢                                                                                                                        ⎜   ∂         \n",
       "⎢                                        ∂           ∂             ∂                                                 - r⋅⎜- ───(Γ(T, r)\n",
       "⎢                                    - r⋅──(ψ(T, r))⋅──(ψ(T, r)) + ──(Γ(T, r))                                           ⎜    2        \n",
       "⎢                                        ∂T          ∂r            ∂T                                                    ⎝  ∂T         \n",
       "⎢                                    ─────────────────────────────────────────                                       ──────────────────\n",
       "⎢                                                       2⋅r                                                                            \n",
       "⎢                                                                                                                                      \n",
       "⎢                                                                                                                                      \n",
       "⎢                                                                                                                                      \n",
       "⎢                                                                                                                                      \n",
       "⎢                                                                                                                                      \n",
       "⎢                                                                                                                                      \n",
       "⎢                                                        0                                                                             \n",
       "⎢                                                                                                                                      \n",
       "⎢                                                                                                                                      \n",
       "⎢                                                                                                                                      \n",
       "⎢                                                                                                                                      \n",
       "⎢                                                                                                                                      \n",
       "⎢                                                                                                                                      \n",
       "⎢                                                                                                                                      \n",
       "⎢                                                        0                                                                             \n",
       "⎣                                                                                                                                      \n",
       "\n",
       "                                                                                                                                       \n",
       "                                                                                                                                       \n",
       "                    ∂           ∂             ∂                                                                                        \n",
       "                - r⋅──(ψ(T, r))⋅──(ψ(T, r)) + ──(Γ(T, r))                                                                              \n",
       "                    ∂T          ∂r            ∂T                                                                                       \n",
       "                ─────────────────────────────────────────                                                                   0          \n",
       "                                   2⋅r                                                                                                 \n",
       "                                                                                                                                       \n",
       "      2              2                         2     2         ⎞                                                                       \n",
       "     ∂              ∂             ⎛∂          ⎞     ∂          ⎟   ∂             ∂                                                     \n",
       ") + ───(Γ(T, r)) + ───(ψ(T, r)) + ⎜──(ψ(T, r))⎟  - ───(ψ(T, r))⎟ + ──(Γ(T, r)) + ──(ψ(T, r))                                           \n",
       "      2              2            ⎝∂r         ⎠      2         ⎟   ∂r            ∂r                                                    \n",
       "    ∂r             ∂T                              ∂r          ⎠                                                                       \n",
       "────────────────────────────────────────────────────────────────────────────────────────────                                0          \n",
       "                                   2⋅r                                                                                                 \n",
       "                                                                                                                                       \n",
       "                                                                                                ⎛      2                2              \n",
       "                                                                                                ⎜     ∂                ∂             ∂ \n",
       "                                                                                              r⋅⎜- r⋅───(ψ(T, r)) + r⋅───(ψ(T, r)) + ──\n",
       "                                                                                                ⎜      2                2            ∂r\n",
       "                                                                                                ⎝    ∂T               ∂r               \n",
       "                                    0                                                         ─────────────────────────────────────────\n",
       "                                                                                                                            2          \n",
       "                                                                                                                                       \n",
       "                                                                                                                                       \n",
       "                                                                                                                                       \n",
       "                                                                                                                                       \n",
       "                                                                                                                                       \n",
       "                                                                                                                                       \n",
       "                                    0                                                                                       0          \n",
       "                                                                                                                                       \n",
       "\n",
       "                                                                                           ⎤\n",
       "                                                                                           ⎥\n",
       "                                                                                           ⎥\n",
       "                                                                                           ⎥\n",
       "                                                                                           ⎥\n",
       "                                                        0                                  ⎥\n",
       "                                                                                           ⎥\n",
       "                                                                                           ⎥\n",
       "                                                                                           ⎥\n",
       "                                                                                           ⎥\n",
       "                                                                                           ⎥\n",
       "                                                                                           ⎥\n",
       "                                                                                           ⎥\n",
       "                                                        0                                  ⎥\n",
       "                                                                                           ⎥\n",
       "                                                                                           ⎥\n",
       "         ⎞                                                                                 ⎥\n",
       "         ⎟  -Γ(T, r)                                                                       ⎥\n",
       "(ψ(T, r))⎟⋅ℯ                                                                               ⎥\n",
       "         ⎟                                                                                 ⎥\n",
       "         ⎠                                                                                 ⎥\n",
       "────────────────────                                    0                                  ⎥\n",
       "                                                                                           ⎥\n",
       "                                                                                           ⎥\n",
       "                      ⎛    2                2                       ⎞                      ⎥\n",
       "                      ⎜   ∂                ∂             ∂          ⎟  -Γ(T, r) + 2⋅ψ(T, r)⎥\n",
       "                      ⎜r⋅───(ψ(T, r)) - r⋅───(ψ(T, r)) - ──(ψ(T, r))⎟⋅ℯ                    ⎥\n",
       "                      ⎜    2                2            ∂r         ⎟                      ⎥\n",
       "                      ⎝  ∂T               ∂r                        ⎠                      ⎥\n",
       "                      ─────────────────────────────────────────────────────────────────────⎥\n",
       "                                                       2⋅r                                 ⎦"
      ]
     },
     "execution_count": 21,
     "metadata": {},
     "output_type": "execute_result"
    }
   ],
   "source": [
    "ricciSimplified = simplify(Ric.tensor())\n",
    "ricciSimplified"
   ]
  },
  {
   "cell_type": "code",
   "execution_count": 22,
   "id": "bb9d91a1",
   "metadata": {},
   "outputs": [
    {
     "data": {
      "text/latex": [
       "$\\displaystyle \\left[\\begin{matrix}- 0.25 \\left(\\frac{\\partial}{\\partial T} \\psi{\\left(T,r \\right)}\\right)^{2} - 0.25 \\left(\\frac{\\partial}{\\partial r} \\psi{\\left(T,r \\right)}\\right)^{2} + \\frac{\\frac{\\partial}{\\partial r} \\Gamma{\\left(T,r \\right)}}{2 r} & \\frac{- r \\frac{\\partial}{\\partial T} \\psi{\\left(T,r \\right)} \\frac{\\partial}{\\partial r} \\psi{\\left(T,r \\right)} + \\frac{\\partial}{\\partial T} \\Gamma{\\left(T,r \\right)}}{2 r} & 0 & 0\\\\\\frac{- r \\frac{\\partial}{\\partial T} \\psi{\\left(T,r \\right)} \\frac{\\partial}{\\partial r} \\psi{\\left(T,r \\right)} + \\frac{\\partial}{\\partial T} \\Gamma{\\left(T,r \\right)}}{2 r} & - 0.25 \\left(\\frac{\\partial}{\\partial T} \\psi{\\left(T,r \\right)}\\right)^{2} - 0.25 \\left(\\frac{\\partial}{\\partial r} \\psi{\\left(T,r \\right)}\\right)^{2} + \\frac{0.5 \\frac{\\partial}{\\partial r} \\Gamma{\\left(T,r \\right)}}{r} & 0 & 0\\\\0 & 0 & r^{2} \\left(- 0.5 \\frac{\\partial^{2}}{\\partial T^{2}} \\Gamma{\\left(T,r \\right)} + 0.5 \\frac{\\partial^{2}}{\\partial r^{2}} \\Gamma{\\left(T,r \\right)} - 0.25 \\left(\\frac{\\partial}{\\partial T} \\psi{\\left(T,r \\right)}\\right)^{2} + 0.25 \\left(\\frac{\\partial}{\\partial r} \\psi{\\left(T,r \\right)}\\right)^{2}\\right) e^{- \\Gamma{\\left(T,r \\right)}} & 0\\\\0 & 0 & 0 & \\frac{\\left(- 0.5 r \\frac{\\partial^{2}}{\\partial T^{2}} \\Gamma{\\left(T,r \\right)} + 0.5 r \\frac{\\partial^{2}}{\\partial r^{2}} \\Gamma{\\left(T,r \\right)} - 0.25 r \\left(\\frac{\\partial}{\\partial T} \\psi{\\left(T,r \\right)}\\right)^{2} + r \\frac{\\partial^{2}}{\\partial T^{2}} \\psi{\\left(T,r \\right)} + 0.25 r \\left(\\frac{\\partial}{\\partial r} \\psi{\\left(T,r \\right)}\\right)^{2} - 1.0 r \\frac{\\partial^{2}}{\\partial r^{2}} \\psi{\\left(T,r \\right)} - 1.0 \\frac{\\partial}{\\partial r} \\psi{\\left(T,r \\right)}\\right) e^{- \\Gamma{\\left(T,r \\right)} + 2 \\psi{\\left(T,r \\right)}}}{r}\\end{matrix}\\right]$"
      ],
      "text/plain": [
       "⎡                                              ∂                          ∂           ∂             ∂                                  \n",
       "⎢                    2                     2   ──(Γ(T, r))            - r⋅──(ψ(T, r))⋅──(ψ(T, r)) + ──(Γ(T, r))                        \n",
       "⎢       ⎛∂          ⎞         ⎛∂          ⎞    ∂r                         ∂T          ∂r            ∂T                                 \n",
       "⎢- 0.25⋅⎜──(ψ(T, r))⎟  - 0.25⋅⎜──(ψ(T, r))⎟  + ───────────            ─────────────────────────────────────────                        \n",
       "⎢       ⎝∂T         ⎠         ⎝∂r         ⎠        2⋅r                                   2⋅r                                           \n",
       "⎢                                                                                                                                      \n",
       "⎢            ∂           ∂             ∂                                                                      ∂                        \n",
       "⎢        - r⋅──(ψ(T, r))⋅──(ψ(T, r)) + ──(Γ(T, r))                              2                     2   0.5⋅──(Γ(T, r))              \n",
       "⎢            ∂T          ∂r            ∂T                          ⎛∂          ⎞         ⎛∂          ⎞        ∂r                       \n",
       "⎢        ─────────────────────────────────────────          - 0.25⋅⎜──(ψ(T, r))⎟  - 0.25⋅⎜──(ψ(T, r))⎟  + ───────────────              \n",
       "⎢                           2⋅r                                    ⎝∂T         ⎠         ⎝∂r         ⎠           r                     \n",
       "⎢                                                                                                                                      \n",
       "⎢                                                                                                                             ⎛        \n",
       "⎢                                                                                                                           2 ⎜       ∂\n",
       "⎢                            0                                                            0                                r ⋅⎜- 0.5⋅──\n",
       "⎢                                                                                                                             ⎜        \n",
       "⎢                                                                                                                             ⎝      ∂T\n",
       "⎢                                                                                                                                      \n",
       "⎢                                                                                                                                      \n",
       "⎢                                                                                                                                      \n",
       "⎢                                                                                                                                      \n",
       "⎢                                                                                                                                      \n",
       "⎢                                                                                                                                      \n",
       "⎢                            0                                                            0                                            \n",
       "⎣                                                                                                                                      \n",
       "\n",
       "                                                                                                                                       \n",
       "                                                                                                                                       \n",
       "                                                                                                                                       \n",
       "                                   0                                                                                                   \n",
       "                                                                                                                                       \n",
       "                                                                                                                                       \n",
       "                                                                                                                                       \n",
       "                                                                                                                                       \n",
       "                                                                                                                                       \n",
       "                                   0                                                                                                   \n",
       "                                                                                                                                       \n",
       "                                                                                                                                       \n",
       "2                  2                              2                     2⎞                                                             \n",
       "                  ∂                  ⎛∂          ⎞         ⎛∂          ⎞ ⎟  -Γ(T, r)                                                   \n",
       "─(Γ(T, r)) + 0.5⋅───(Γ(T, r)) - 0.25⋅⎜──(ψ(T, r))⎟  + 0.25⋅⎜──(ψ(T, r))⎟ ⎟⋅ℯ                                                           \n",
       "2                  2                 ⎝∂T         ⎠         ⎝∂r         ⎠ ⎟                                                             \n",
       "                 ∂r                                                      ⎠                                                             \n",
       "                                                                                                                                       \n",
       "                                                                                      ⎛          2                    2                \n",
       "                                                                                      ⎜         ∂                    ∂                 \n",
       "                                                                                      ⎜- 0.5⋅r⋅───(Γ(T, r)) + 0.5⋅r⋅───(Γ(T, r)) - 0.25\n",
       "                                                                                      ⎜          2                    2                \n",
       "                                                                                      ⎝        ∂T                   ∂r                 \n",
       "                                   0                                                  ─────────────────────────────────────────────────\n",
       "                                                                                                                                       \n",
       "\n",
       "                                                                                                                ⎤\n",
       "                                                                                                                ⎥\n",
       "                                                                                                                ⎥\n",
       "                               0                                                                                ⎥\n",
       "                                                                                                                ⎥\n",
       "                                                                                                                ⎥\n",
       "                                                                                                                ⎥\n",
       "                                                                                                                ⎥\n",
       "                                                                                                                ⎥\n",
       "                               0                                                                                ⎥\n",
       "                                                                                                                ⎥\n",
       "                                                                                                                ⎥\n",
       "                                                                                                                ⎥\n",
       "                                                                                                                ⎥\n",
       "                               0                                                                                ⎥\n",
       "                                                                                                                ⎥\n",
       "                                                                                                                ⎥\n",
       "                                                                                                                ⎥\n",
       "                2       2                                2       2                       ⎞                      ⎥\n",
       "   ⎛∂          ⎞       ∂                    ⎛∂          ⎞       ∂             ∂          ⎟  -Γ(T, r) + 2⋅ψ(T, r)⎥\n",
       "⋅r⋅⎜──(ψ(T, r))⎟  + r⋅───(ψ(T, r)) + 0.25⋅r⋅⎜──(ψ(T, r))⎟  - r⋅───(ψ(T, r)) - ──(ψ(T, r))⎟⋅ℯ                    ⎥\n",
       "   ⎝∂T         ⎠        2                   ⎝∂r         ⎠        2            ∂r         ⎟                      ⎥\n",
       "                      ∂T                                       ∂r                        ⎠                      ⎥\n",
       "────────────────────────────────────────────────────────────────────────────────────────────────────────────────⎥\n",
       "                               r                                                                                ⎦"
      ]
     },
     "execution_count": 22,
     "metadata": {},
     "output_type": "execute_result"
    }
   ],
   "source": [
    "einsteinSimplified = simplify(einst.tensor())\n",
    "einsteinSimplified"
   ]
  },
  {
   "cell_type": "code",
   "execution_count": 39,
   "id": "46e48cd6",
   "metadata": {},
   "outputs": [
    {
     "data": {
      "image/png": "[encoded data removed]",
      "text/latex": [
       "$\\displaystyle \\frac{\\partial^{2}}{\\partial T^{2}} \\psi{\\left(T,r \\right)} - \\frac{\\partial^{2}}{\\partial r^{2}} \\psi{\\left(T,r \\right)} - \\frac{\\frac{\\partial}{\\partial r} \\psi{\\left(T,r \\right)}}{r} = 0$"
      ],
      "text/plain": [
       "                              ∂              \n",
       "  2              2            ──(ψ(T, r))    \n",
       " ∂              ∂             ∂r             \n",
       "───(ψ(T, r)) - ───(ψ(T, r)) - ─────────── = 0\n",
       "  2              2                 r         \n",
       "∂T             ∂r                            "
      ]
     },
     "execution_count": 39,
     "metadata": {},
     "output_type": "execute_result"
    }
   ],
   "source": [
    "equation17 = Eq(expand((-1/r)*ricciSimplified[2,2].args[2]),0)\n",
    "equation17"
   ]
  },
  {
   "cell_type": "code",
   "execution_count": 28,
   "id": "23f4b486",
   "metadata": {},
   "outputs": [
    {
     "data": {
      "image/png": "[encoded data removed]",
      "text/latex": [
       "$\\displaystyle \\frac{\\partial}{\\partial r} \\Gamma{\\left(T,r \\right)} = 0.5 r \\left(\\left(\\frac{\\partial}{\\partial T} \\psi{\\left(T,r \\right)}\\right)^{2} + \\left(\\frac{\\partial}{\\partial r} \\psi{\\left(T,r \\right)}\\right)^{2}\\right)$"
      ],
      "text/plain": [
       "                    ⎛             2                2⎞\n",
       "∂                   ⎜⎛∂          ⎞    ⎛∂          ⎞ ⎟\n",
       "──(Γ(T, r)) = 0.5⋅r⋅⎜⎜──(ψ(T, r))⎟  + ⎜──(ψ(T, r))⎟ ⎟\n",
       "∂r                  ⎝⎝∂T         ⎠    ⎝∂r         ⎠ ⎠"
      ]
     },
     "execution_count": 28,
     "metadata": {},
     "output_type": "execute_result"
    }
   ],
   "source": [
    "equation18 = Eq(diff(Gamma,r) , solve( einsteinSimplified[0,0], diff(Gamma,r) )[0] ) \n",
    "equation18"
   ]
  },
  {
   "cell_type": "code",
   "execution_count": 25,
   "id": "ff8f3948",
   "metadata": {},
   "outputs": [
    {
     "data": {
      "image/png": "[encoded data removed]",
      "text/latex": [
       "$\\displaystyle \\frac{\\partial}{\\partial T} \\Gamma{\\left(T,r \\right)} = r \\frac{\\partial}{\\partial T} \\psi{\\left(T,r \\right)} \\frac{\\partial}{\\partial r} \\psi{\\left(T,r \\right)}$"
      ],
      "text/plain": [
       "∂               ∂           ∂          \n",
       "──(Γ(T, r)) = r⋅──(ψ(T, r))⋅──(ψ(T, r))\n",
       "∂T              ∂T          ∂r         "
      ]
     },
     "execution_count": 25,
     "metadata": {},
     "output_type": "execute_result"
    }
   ],
   "source": [
    "equation19 = Eq(diff(Gamma,T),solve( ricciSimplified[1,0], diff(Gamma,T))[0])\n",
    "equation19"
   ]
  },
  {
   "cell_type": "code",
   "execution_count": 40,
   "id": "987b5e43",
   "metadata": {},
   "outputs": [
    {
     "data": {
      "text/latex": [
       "$\\displaystyle \\left[\\begin{matrix}\\frac{\\partial^{2}}{\\partial T^{2}} \\psi{\\left(T,r \\right)} - \\frac{\\partial^{2}}{\\partial r^{2}} \\psi{\\left(T,r \\right)} - \\frac{\\frac{\\partial}{\\partial r} \\psi{\\left(T,r \\right)}}{r} = 0\\\\\\frac{\\partial}{\\partial T} \\Gamma{\\left(T,r \\right)} = r \\frac{\\partial}{\\partial T} \\psi{\\left(T,r \\right)} \\frac{\\partial}{\\partial r} \\psi{\\left(T,r \\right)}\\\\\\frac{\\partial}{\\partial T} \\Gamma{\\left(T,r \\right)} = r \\frac{\\partial}{\\partial T} \\psi{\\left(T,r \\right)} \\frac{\\partial}{\\partial r} \\psi{\\left(T,r \\right)}\\end{matrix}\\right]$"
      ],
      "text/plain": [
       "⎡                              ∂              ⎤\n",
       "⎢  2              2            ──(ψ(T, r))    ⎥\n",
       "⎢ ∂              ∂             ∂r             ⎥\n",
       "⎢───(ψ(T, r)) - ───(ψ(T, r)) - ─────────── = 0⎥\n",
       "⎢  2              2                 r         ⎥\n",
       "⎢∂T             ∂r                            ⎥\n",
       "⎢                                             ⎥\n",
       "⎢   ∂               ∂           ∂             ⎥\n",
       "⎢   ──(Γ(T, r)) = r⋅──(ψ(T, r))⋅──(ψ(T, r))   ⎥\n",
       "⎢   ∂T              ∂T          ∂r            ⎥\n",
       "⎢                                             ⎥\n",
       "⎢   ∂               ∂           ∂             ⎥\n",
       "⎢   ──(Γ(T, r)) = r⋅──(ψ(T, r))⋅──(ψ(T, r))   ⎥\n",
       "⎣   ∂T              ∂T          ∂r            ⎦"
      ]
     },
     "execution_count": 40,
     "metadata": {},
     "output_type": "execute_result"
    }
   ],
   "source": [
    "vacuumFieldEquations = Matrix([equation17,equation19,equation19])\n",
    "vacuumFieldEquations"
   ]
  },
  {
   "cell_type": "code",
   "execution_count": 36,
   "id": "2a7561fb",
   "metadata": {},
   "outputs": [],
   "source": [
    "from sympy import Function, Eq, pde_separate_mul, Derivative as D"
   ]
  },
  {
   "cell_type": "code",
   "execution_count": 37,
   "id": "47008a65",
   "metadata": {},
   "outputs": [],
   "source": [
    "u, X, Y = map(Function, 'uXY')"
   ]
  },
  {
   "cell_type": "code",
   "execution_count": 41,
   "id": "ba9fc765",
   "metadata": {},
   "outputs": [
    {
     "data": {
      "image/png": "[encoded data removed]",
      "text/latex": [
       "$\\displaystyle \\frac{\\partial^{2}}{\\partial T^{2}} \\psi{\\left(T,r \\right)} - \\frac{\\partial^{2}}{\\partial r^{2}} \\psi{\\left(T,r \\right)} - \\frac{\\frac{\\partial}{\\partial r} \\psi{\\left(T,r \\right)}}{r} = 0$"
      ],
      "text/plain": [
       "                              ∂              \n",
       "  2              2            ──(ψ(T, r))    \n",
       " ∂              ∂             ∂r             \n",
       "───(ψ(T, r)) - ───(ψ(T, r)) - ─────────── = 0\n",
       "  2              2                 r         \n",
       "∂T             ∂r                            "
      ]
     },
     "execution_count": 41,
     "metadata": {},
     "output_type": "execute_result"
    }
   ],
   "source": [
    "eq = vacuumFieldEquations[0]\n",
    "eq"
   ]
  },
  {
   "cell_type": "code",
   "execution_count": 52,
   "id": "ee3b9830",
   "metadata": {},
   "outputs": [
    {
     "data": {
      "image/png": "[encoded data removed]",
      "text/latex": [
       "$\\displaystyle \\frac{\\frac{d^{2}}{d r^{2}} X{\\left(r \\right)}}{X{\\left(r \\right)}} + \\frac{\\frac{d}{d r} X{\\left(r \\right)}}{r X{\\left(r \\right)}} = k^{2}$"
      ],
      "text/plain": [
       "  2                      \n",
       " d                       \n",
       "───(X(r))   d            \n",
       "  2         ──(X(r))     \n",
       "dr          dr          2\n",
       "───────── + ──────── = k \n",
       "   X(r)      r⋅X(r)      "
      ]
     },
     "execution_count": 52,
     "metadata": {},
     "output_type": "execute_result"
    }
   ],
   "source": [
    "xODE = Eq(pde_separate( eq, psi, [X(r),Y(T)])[0] , k**2 ) \n",
    "xODE"
   ]
  },
  {
   "cell_type": "code",
   "execution_count": 46,
   "id": "c54a9ce5",
   "metadata": {},
   "outputs": [],
   "source": [
    "from sympy import dsolve "
   ]
  },
  {
   "cell_type": "code",
   "execution_count": 53,
   "id": "9b9510a9",
   "metadata": {},
   "outputs": [
    {
     "data": {
      "image/png": "[encoded data removed]",
      "text/latex": [
       "$\\displaystyle X{\\left(r \\right)} = C_{1} I_{0}\\left(r \\left|{k}\\right|\\right) + C_{2} Y_{0}\\left(i r \\left|{k}\\right|\\right)$"
      ],
      "text/plain": [
       "X(r) = C₁⋅besseli(0, r⋅│k│) + C₂⋅bessely(0, ⅈ⋅r⋅│k│)"
      ]
     },
     "execution_count": 53,
     "metadata": {},
     "output_type": "execute_result"
    }
   ],
   "source": [
    "xSolution = dsolve( xODE , X(r))\n",
    "xSolution "
   ]
  },
  {
   "cell_type": "code",
   "execution_count": 54,
   "id": "c17788ab",
   "metadata": {},
   "outputs": [
    {
     "data": {
      "image/png": "[encoded data removed]",
      "text/latex": [
       "$\\displaystyle X{\\left(r \\right)} = I_{0}\\left(r \\left|{k}\\right|\\right) + Y_{0}\\left(i r \\left|{k}\\right|\\right)$"
      ],
      "text/plain": [
       "X(r) = besseli(0, r⋅│k│) + bessely(0, ⅈ⋅r⋅│k│)"
      ]
     },
     "execution_count": 54,
     "metadata": {},
     "output_type": "execute_result"
    }
   ],
   "source": [
    "xSolutionParticular = xSolution.subs(xSolution.args[1].args[0].args[0],1).subs(xSolution.args[1].args[1].args[0],1)\n",
    "xSolutionParticular"
   ]
  },
  {
   "cell_type": "code",
   "execution_count": 55,
   "id": "4b76b47f",
   "metadata": {},
   "outputs": [
    {
     "data": {
      "image/png": "[encoded data removed]",
      "text/latex": [
       "$\\displaystyle \\frac{\\frac{d^{2}}{d T^{2}} Y{\\left(T \\right)}}{Y{\\left(T \\right)}} = - k^{2}$"
      ],
      "text/plain": [
       "  2            \n",
       " d             \n",
       "───(Y(T))      \n",
       "  2            \n",
       "dT            2\n",
       "───────── = -k \n",
       "   Y(T)        "
      ]
     },
     "execution_count": 55,
     "metadata": {},
     "output_type": "execute_result"
    }
   ],
   "source": [
    "yODE = Eq( pde_separate( eq, psi, [X(r),Y(T)])[1] ,  -k**2 ) \n",
    "yODE"
   ]
  },
  {
   "cell_type": "code",
   "execution_count": 56,
   "id": "987737e5",
   "metadata": {},
   "outputs": [
    {
     "data": {
      "image/png": "[encoded data removed]",
      "text/latex": [
       "$\\displaystyle Y{\\left(T \\right)} = C_{1} \\sin{\\left(T \\left|{k}\\right| \\right)} + C_{2} \\cos{\\left(T k \\right)}$"
      ],
      "text/plain": [
       "Y(T) = C₁⋅sin(T⋅│k│) + C₂⋅cos(T⋅k)"
      ]
     },
     "execution_count": 56,
     "metadata": {},
     "output_type": "execute_result"
    }
   ],
   "source": [
    "ySolution = dsolve( yODE , Y(T))\n",
    "ySolution "
   ]
  },
  {
   "cell_type": "code",
   "execution_count": 57,
   "id": "301b0fa7",
   "metadata": {},
   "outputs": [
    {
     "data": {
      "image/png": "[encoded data removed]",
      "text/latex": [
       "$\\displaystyle Y{\\left(T \\right)} = \\sin{\\left(T \\left|{k}\\right| \\right)} + \\cos{\\left(T k \\right)}$"
      ],
      "text/plain": [
       "Y(T) = sin(T⋅│k│) + cos(T⋅k)"
      ]
     },
     "execution_count": 57,
     "metadata": {},
     "output_type": "execute_result"
    }
   ],
   "source": [
    "ySolutionParticular = ySolution.subs(ySolution.args[1].args[0].args[0],1).subs(ySolution.args[1].args[1].args[0],1)\n",
    "ySolutionParticular"
   ]
  },
  {
   "cell_type": "code",
   "execution_count": 58,
   "id": "6217b5f9",
   "metadata": {},
   "outputs": [
    {
     "data": {
      "image/png": "[encoded data removed]",
      "text/latex": [
       "$\\displaystyle \\sum_{k=1}^{2} \\left(\\sin{\\left(T \\left|{k}\\right| \\right)} + \\cos{\\left(T k \\right)}\\right) \\left(I_{0}\\left(r \\left|{k}\\right|\\right) + Y_{0}\\left(i r \\left|{k}\\right|\\right)\\right)$"
      ],
      "text/plain": [
       "  2                                                                    \n",
       " ___                                                                   \n",
       " ╲                                                                     \n",
       "  ╲                                                                    \n",
       "  ╱   (sin(T⋅│k│) + cos(T⋅k))⋅(besseli(0, r⋅│k│) + bessely(0, ⅈ⋅r⋅│k│))\n",
       " ╱                                                                     \n",
       " ‾‾‾                                                                   \n",
       "k = 1                                                                  "
      ]
     },
     "execution_count": 58,
     "metadata": {},
     "output_type": "execute_result"
    }
   ],
   "source": [
    "#  Here we arbitrary pick just two terms as an example... \n",
    "Sum( ( xSolutionParticular.args[1] * ySolutionParticular.args[1] ) ,(k,1,2) )"
   ]
  },
  {
   "cell_type": "code",
   "execution_count": null,
   "id": "8e5ecd33",
   "metadata": {},
   "outputs": [],
   "source": []
  }
 ],
 "metadata": {
  "@webio": {
   "lastCommId": "7f8b530d4a4d49c084cd7d071ec8d2b4",
   "lastKernelId": "82c9ca4e-06cb-4a71-857c-3e817ce6c643"
  },
  "kernelspec": {
   "display_name": "Python 3 (ipykernel)",
   "language": "python",
   "name": "python3"
  },
  "language_info": {
   "codemirror_mode": {
    "name": "ipython",
    "version": 3
   },
   "file_extension": ".py",
   "mimetype": "text/x-python",
   "name": "python",
   "nbconvert_exporter": "python",
   "pygments_lexer": "ipython3",
   "version": "3.8.8"
  }
 },
 "nbformat": 4,
 "nbformat_minor": 5
}
