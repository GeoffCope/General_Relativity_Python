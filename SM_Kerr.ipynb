{
 "cells": [
  {
   "cell_type": "markdown",
   "metadata": {},
   "source": [
    "# Kerr spacetime\n",
    "\n",
    "This notebook demonstrates a few capabilities of SageMath in computations regarding Kerr spacetime. The corresponding tools have been developed within the  [SageManifolds](https://sagemanifolds.obspm.fr) project."
   ]
  },
  {
   "cell_type": "markdown",
   "metadata": {},
   "source": [
    "*NB:* a version of SageMath at least equal to 8.2 is required to run this notebook:"
   ]
  },
  {
   "cell_type": "code",
   "execution_count": 1,
   "metadata": {},
   "outputs": [
    {
     "data": {
      "text/plain": [
       "'SageMath version 9.5.beta2, Release Date: 2021-09-26'"
      ]
     },
     "execution_count": 1,
     "metadata": {},
     "output_type": "execute_result"
    }
   ],
   "source": [
    "version()"
   ]
  },
  {
   "cell_type": "markdown",
   "metadata": {},
   "source": [
    "First we set up the notebook to display mathematical objects using LaTeX rendering:"
   ]
  },
  {
   "cell_type": "code",
   "execution_count": 2,
   "metadata": {},
   "outputs": [],
   "source": [
    "%display latex"
   ]
  },
  {
   "cell_type": "markdown",
   "metadata": {},
   "source": [
    "and we initialize a time counter for benchmarking:"
   ]
  },
  {
   "cell_type": "code",
   "execution_count": 3,
   "metadata": {},
   "outputs": [],
   "source": [
    "import time\n",
    "comput_time0 = time.perf_counter()"
   ]
  },
  {
   "cell_type": "markdown",
   "metadata": {},
   "source": [
    "Since some computations are quite heavy, we ask for running them in parallel on 8 threads:"
   ]
  },
  {
   "cell_type": "code",
   "execution_count": 4,
   "metadata": {},
   "outputs": [],
   "source": [
    "Parallelism().set(nproc=8)"
   ]
  },
  {
   "cell_type": "markdown",
   "metadata": {},
   "source": [
    "## Spacetime manifold\n",
    "\n",
    "We declare the Kerr spacetime (or more precisely the part of it covered by Boyer-Lindquist coordinates) as a 4-dimensional Lorentzian manifold $\\mathcal{M}$:"
   ]
  },
  {
   "cell_type": "code",
   "execution_count": 5,
   "metadata": {},
   "outputs": [
    {
     "name": "stdout",
     "output_type": "stream",
     "text": [
      "4-dimensional Lorentzian manifold M\n"
     ]
    }
   ],
   "source": [
    "M = Manifold(4, 'M', latex_name=r'\\mathcal{M}', structure='Lorentzian')\n",
    "print(M)"
   ]
  },
  {
   "cell_type": "markdown",
   "metadata": {},
   "source": [
    "We then introduce the standard <strong>Boyer-Lindquist coordinates</strong> as a chart `BL` (for *Boyer-Lindquist*) on $\\mathcal{M}$, via the method `chart()`, the argument of which is a string\n",
    "(delimited by `r\"...\"` because of the backslash symbols) expressing the coordinates names, their ranges (the default is $(-\\infty,+\\infty)$) and their LaTeX symbols:"
   ]
  },
  {
   "cell_type": "code",
   "execution_count": 6,
   "metadata": {},
   "outputs": [
    {
     "name": "stdout",
     "output_type": "stream",
     "text": [
      "Chart (M, (t, r, th, ph))\n"
     ]
    },
    {
     "data": {
      "text/html": [
       "<html>\\[\\newcommand{\\Bold}[1]{\\mathbf{#1}}\\left(\\mathcal{M},(t, r, {\\theta}, {\\phi})\\right)\\]</html>"
      ],
      "text/latex": [
       "$$\\newcommand{\\Bold}[1]{\\mathbf{#1}}\\left(\\mathcal{M},(t, r, {\\theta}, {\\phi})\\right)$$"
      ],
      "text/plain": [
       "Chart (M, (t, r, th, ph))"
      ]
     },
     "execution_count": 6,
     "metadata": {},
     "output_type": "execute_result"
    }
   ],
   "source": [
    "BL.<t,r,th,ph> = M.chart(r\"t r th:(0,pi):\\theta ph:(0,2*pi):\\phi\") \n",
    "print(BL); BL"
   ]
  },
  {
   "cell_type": "code",
   "execution_count": 7,
   "metadata": {},
   "outputs": [
    {
     "data": {
      "text/html": [
       "<html>\\[\\newcommand{\\Bold}[1]{\\mathbf{#1}}\\left(t, r\\right)\\]</html>"
      ],
      "text/latex": [
       "$$\\newcommand{\\Bold}[1]{\\mathbf{#1}}\\left(t, r\\right)$$"
      ],
      "text/plain": [
       "(t, r)"
      ]
     },
     "execution_count": 7,
     "metadata": {},
     "output_type": "execute_result"
    }
   ],
   "source": [
    "BL[0], BL[1]"
   ]
  },
  {
   "cell_type": "markdown",
   "metadata": {},
   "source": [
    "<h2>Metric tensor</h2>\n",
    "\n",
    "<p>The 2 parameters $m$ and $a$ of the Kerr spacetime are declared as symbolic variables:</p>"
   ]
  },
  {
   "cell_type": "code",
   "execution_count": 8,
   "metadata": {},
   "outputs": [
    {
     "data": {
      "text/html": [
       "<html>\\[\\newcommand{\\Bold}[1]{\\mathbf{#1}}\\left(m, a\\right)\\]</html>"
      ],
      "text/latex": [
       "$$\\newcommand{\\Bold}[1]{\\mathbf{#1}}\\left(m, a\\right)$$"
      ],
      "text/plain": [
       "(m, a)"
      ]
     },
     "execution_count": 8,
     "metadata": {},
     "output_type": "execute_result"
    }
   ],
   "source": [
    "var('m, a', domain='real')"
   ]
  },
  {
   "cell_type": "markdown",
   "metadata": {},
   "source": [
    "We get the (yet undefined) spacetime metric:"
   ]
  },
  {
   "cell_type": "code",
   "execution_count": 9,
   "metadata": {},
   "outputs": [],
   "source": [
    "g = M.metric()"
   ]
  },
  {
   "cell_type": "markdown",
   "metadata": {},
   "source": [
    "<p>The metric is set by its components in the coordinate frame associated with Boyer-Lindquist coordinates, which is the current manifold's default frame:</p>"
   ]
  },
  {
   "cell_type": "code",
   "execution_count": 10,
   "metadata": {},
   "outputs": [
    {
     "data": {
      "text/html": [
       "<html>\\[\\newcommand{\\Bold}[1]{\\mathbf{#1}}g = \\left( \\frac{2 \\, m r}{a^{2} \\cos\\left({\\theta}\\right)^{2} + r^{2}} - 1 \\right) \\mathrm{d} t\\otimes \\mathrm{d} t + \\left( -\\frac{2 \\, a m r \\sin\\left({\\theta}\\right)^{2}}{a^{2} \\cos\\left({\\theta}\\right)^{2} + r^{2}} \\right) \\mathrm{d} t\\otimes \\mathrm{d} {\\phi} + \\left( \\frac{a^{2} \\cos\\left({\\theta}\\right)^{2} + r^{2}}{a^{2} - 2 \\, m r + r^{2}} \\right) \\mathrm{d} r\\otimes \\mathrm{d} r + \\left( a^{2} \\cos\\left({\\theta}\\right)^{2} + r^{2} \\right) \\mathrm{d} {\\theta}\\otimes \\mathrm{d} {\\theta} + \\left( -\\frac{2 \\, a m r \\sin\\left({\\theta}\\right)^{2}}{a^{2} \\cos\\left({\\theta}\\right)^{2} + r^{2}} \\right) \\mathrm{d} {\\phi}\\otimes \\mathrm{d} t + {\\left(\\frac{2 \\, a^{2} m r \\sin\\left({\\theta}\\right)^{2}}{a^{2} \\cos\\left({\\theta}\\right)^{2} + r^{2}} + a^{2} + r^{2}\\right)} \\sin\\left({\\theta}\\right)^{2} \\mathrm{d} {\\phi}\\otimes \\mathrm{d} {\\phi}\\]</html>"
      ],
      "text/latex": [
       "$$\\newcommand{\\Bold}[1]{\\mathbf{#1}}g = \\left( \\frac{2 \\, m r}{a^{2} \\cos\\left({\\theta}\\right)^{2} + r^{2}} - 1 \\right) \\mathrm{d} t\\otimes \\mathrm{d} t + \\left( -\\frac{2 \\, a m r \\sin\\left({\\theta}\\right)^{2}}{a^{2} \\cos\\left({\\theta}\\right)^{2} + r^{2}} \\right) \\mathrm{d} t\\otimes \\mathrm{d} {\\phi} + \\left( \\frac{a^{2} \\cos\\left({\\theta}\\right)^{2} + r^{2}}{a^{2} - 2 \\, m r + r^{2}} \\right) \\mathrm{d} r\\otimes \\mathrm{d} r + \\left( a^{2} \\cos\\left({\\theta}\\right)^{2} + r^{2} \\right) \\mathrm{d} {\\theta}\\otimes \\mathrm{d} {\\theta} + \\left( -\\frac{2 \\, a m r \\sin\\left({\\theta}\\right)^{2}}{a^{2} \\cos\\left({\\theta}\\right)^{2} + r^{2}} \\right) \\mathrm{d} {\\phi}\\otimes \\mathrm{d} t + {\\left(\\frac{2 \\, a^{2} m r \\sin\\left({\\theta}\\right)^{2}}{a^{2} \\cos\\left({\\theta}\\right)^{2} + r^{2}} + a^{2} + r^{2}\\right)} \\sin\\left({\\theta}\\right)^{2} \\mathrm{d} {\\phi}\\otimes \\mathrm{d} {\\phi}$$"
      ],
      "text/plain": [
       "g = (2*m*r/(a^2*cos(th)^2 + r^2) - 1) dt⊗dt - 2*a*m*r*sin(th)^2/(a^2*cos(th)^2 + r^2) dt⊗dph + (a^2*cos(th)^2 + r^2)/(a^2 - 2*m*r + r^2) dr⊗dr + (a^2*cos(th)^2 + r^2) dth⊗dth - 2*a*m*r*sin(th)^2/(a^2*cos(th)^2 + r^2) dph⊗dt + (2*a^2*m*r*sin(th)^2/(a^2*cos(th)^2 + r^2) + a^2 + r^2)*sin(th)^2 dph⊗dph"
      ]
     },
     "execution_count": 10,
     "metadata": {},
     "output_type": "execute_result"
    }
   ],
   "source": [
    "rho2 = r^2 + (a*cos(th))^2\n",
    "Delta = r^2 -2*m*r + a^2\n",
    "g[0,0] = -(1-2*m*r/rho2)\n",
    "g[0,3] = -2*a*m*r*sin(th)^2/rho2\n",
    "g[1,1], g[2,2] = rho2/Delta, rho2\n",
    "g[3,3] = (r^2+a^2+2*m*r*(a*sin(th))^2/rho2)*sin(th)^2\n",
    "g.display()"
   ]
  },
  {
   "cell_type": "markdown",
   "metadata": {},
   "source": [
    "<p>A matrix view of the components with respect to the manifold's default vector frame:</p>"
   ]
  },
  {
   "cell_type": "code",
   "execution_count": 11,
   "metadata": {},
   "outputs": [
    {
     "data": {
      "text/html": [
       "<html>\\[\\newcommand{\\Bold}[1]{\\mathbf{#1}}\\left(\\begin{array}{rrrr}\n",
       "\\frac{2 \\, m r}{a^{2} \\cos\\left({\\theta}\\right)^{2} + r^{2}} - 1 & 0 & 0 & -\\frac{2 \\, a m r \\sin\\left({\\theta}\\right)^{2}}{a^{2} \\cos\\left({\\theta}\\right)^{2} + r^{2}} \\\\\n",
       "0 & \\frac{a^{2} \\cos\\left({\\theta}\\right)^{2} + r^{2}}{a^{2} - 2 \\, m r + r^{2}} & 0 & 0 \\\\\n",
       "0 & 0 & a^{2} \\cos\\left({\\theta}\\right)^{2} + r^{2} & 0 \\\\\n",
       "-\\frac{2 \\, a m r \\sin\\left({\\theta}\\right)^{2}}{a^{2} \\cos\\left({\\theta}\\right)^{2} + r^{2}} & 0 & 0 & {\\left(\\frac{2 \\, a^{2} m r \\sin\\left({\\theta}\\right)^{2}}{a^{2} \\cos\\left({\\theta}\\right)^{2} + r^{2}} + a^{2} + r^{2}\\right)} \\sin\\left({\\theta}\\right)^{2}\n",
       "\\end{array}\\right)\\]</html>"
      ],
      "text/latex": [
       "$$\\newcommand{\\Bold}[1]{\\mathbf{#1}}\\left(\\begin{array}{rrrr}\n",
       "\\frac{2 \\, m r}{a^{2} \\cos\\left({\\theta}\\right)^{2} + r^{2}} - 1 & 0 & 0 & -\\frac{2 \\, a m r \\sin\\left({\\theta}\\right)^{2}}{a^{2} \\cos\\left({\\theta}\\right)^{2} + r^{2}} \\\\\n",
       "0 & \\frac{a^{2} \\cos\\left({\\theta}\\right)^{2} + r^{2}}{a^{2} - 2 \\, m r + r^{2}} & 0 & 0 \\\\\n",
       "0 & 0 & a^{2} \\cos\\left({\\theta}\\right)^{2} + r^{2} & 0 \\\\\n",
       "-\\frac{2 \\, a m r \\sin\\left({\\theta}\\right)^{2}}{a^{2} \\cos\\left({\\theta}\\right)^{2} + r^{2}} & 0 & 0 & {\\left(\\frac{2 \\, a^{2} m r \\sin\\left({\\theta}\\right)^{2}}{a^{2} \\cos\\left({\\theta}\\right)^{2} + r^{2}} + a^{2} + r^{2}\\right)} \\sin\\left({\\theta}\\right)^{2}\n",
       "\\end{array}\\right)$$"
      ],
      "text/plain": [
       "[                                  2*m*r/(a^2*cos(th)^2 + r^2) - 1                                                                 0                                                                 0                          -2*a*m*r*sin(th)^2/(a^2*cos(th)^2 + r^2)]\n",
       "[                                                                0                         (a^2*cos(th)^2 + r^2)/(a^2 - 2*m*r + r^2)                                                                 0                                                                 0]\n",
       "[                                                                0                                                                 0                                               a^2*cos(th)^2 + r^2                                                                 0]\n",
       "[                         -2*a*m*r*sin(th)^2/(a^2*cos(th)^2 + r^2)                                                                 0                                                                 0 (2*a^2*m*r*sin(th)^2/(a^2*cos(th)^2 + r^2) + a^2 + r^2)*sin(th)^2]"
      ]
     },
     "execution_count": 11,
     "metadata": {},
     "output_type": "execute_result"
    }
   ],
   "source": [
    "g[:]"
   ]
  },
  {
   "cell_type": "markdown",
   "metadata": {},
   "source": [
    "<p>The list of the non-vanishing components:</p>"
   ]
  },
  {
   "cell_type": "code",
   "execution_count": 12,
   "metadata": {},
   "outputs": [
    {
     "data": {
      "text/html": [
       "<html>\\[\\newcommand{\\Bold}[1]{\\mathbf{#1}}\\begin{array}{lcl} g_{ \\, t \\, t }^{ \\phantom{\\, t}\\phantom{\\, t} } & = & \\frac{2 \\, m r}{a^{2} \\cos\\left({\\theta}\\right)^{2} + r^{2}} - 1 \\\\ g_{ \\, t \\, {\\phi} }^{ \\phantom{\\, t}\\phantom{\\, {\\phi}} } & = & -\\frac{2 \\, a m r \\sin\\left({\\theta}\\right)^{2}}{a^{2} \\cos\\left({\\theta}\\right)^{2} + r^{2}} \\\\ g_{ \\, r \\, r }^{ \\phantom{\\, r}\\phantom{\\, r} } & = & \\frac{a^{2} \\cos\\left({\\theta}\\right)^{2} + r^{2}}{a^{2} - 2 \\, m r + r^{2}} \\\\ g_{ \\, {\\theta} \\, {\\theta} }^{ \\phantom{\\, {\\theta}}\\phantom{\\, {\\theta}} } & = & a^{2} \\cos\\left({\\theta}\\right)^{2} + r^{2} \\\\ g_{ \\, {\\phi} \\, t }^{ \\phantom{\\, {\\phi}}\\phantom{\\, t} } & = & -\\frac{2 \\, a m r \\sin\\left({\\theta}\\right)^{2}}{a^{2} \\cos\\left({\\theta}\\right)^{2} + r^{2}} \\\\ g_{ \\, {\\phi} \\, {\\phi} }^{ \\phantom{\\, {\\phi}}\\phantom{\\, {\\phi}} } & = & {\\left(\\frac{2 \\, a^{2} m r \\sin\\left({\\theta}\\right)^{2}}{a^{2} \\cos\\left({\\theta}\\right)^{2} + r^{2}} + a^{2} + r^{2}\\right)} \\sin\\left({\\theta}\\right)^{2} \\end{array}\\]</html>"
      ],
      "text/latex": [
       "$$\\newcommand{\\Bold}[1]{\\mathbf{#1}}\\begin{array}{lcl} g_{ \\, t \\, t }^{ \\phantom{\\, t}\\phantom{\\, t} } & = & \\frac{2 \\, m r}{a^{2} \\cos\\left({\\theta}\\right)^{2} + r^{2}} - 1 \\\\ g_{ \\, t \\, {\\phi} }^{ \\phantom{\\, t}\\phantom{\\, {\\phi}} } & = & -\\frac{2 \\, a m r \\sin\\left({\\theta}\\right)^{2}}{a^{2} \\cos\\left({\\theta}\\right)^{2} + r^{2}} \\\\ g_{ \\, r \\, r }^{ \\phantom{\\, r}\\phantom{\\, r} } & = & \\frac{a^{2} \\cos\\left({\\theta}\\right)^{2} + r^{2}}{a^{2} - 2 \\, m r + r^{2}} \\\\ g_{ \\, {\\theta} \\, {\\theta} }^{ \\phantom{\\, {\\theta}}\\phantom{\\, {\\theta}} } & = & a^{2} \\cos\\left({\\theta}\\right)^{2} + r^{2} \\\\ g_{ \\, {\\phi} \\, t }^{ \\phantom{\\, {\\phi}}\\phantom{\\, t} } & = & -\\frac{2 \\, a m r \\sin\\left({\\theta}\\right)^{2}}{a^{2} \\cos\\left({\\theta}\\right)^{2} + r^{2}} \\\\ g_{ \\, {\\phi} \\, {\\phi} }^{ \\phantom{\\, {\\phi}}\\phantom{\\, {\\phi}} } & = & {\\left(\\frac{2 \\, a^{2} m r \\sin\\left({\\theta}\\right)^{2}}{a^{2} \\cos\\left({\\theta}\\right)^{2} + r^{2}} + a^{2} + r^{2}\\right)} \\sin\\left({\\theta}\\right)^{2} \\end{array}$$"
      ],
      "text/plain": [
       "g_t,t = 2*m*r/(a^2*cos(th)^2 + r^2) - 1 \n",
       "g_t,ph = -2*a*m*r*sin(th)^2/(a^2*cos(th)^2 + r^2) \n",
       "g_r,r = (a^2*cos(th)^2 + r^2)/(a^2 - 2*m*r + r^2) \n",
       "g_th,th = a^2*cos(th)^2 + r^2 \n",
       "g_ph,t = -2*a*m*r*sin(th)^2/(a^2*cos(th)^2 + r^2) \n",
       "g_ph,ph = (2*a^2*m*r*sin(th)^2/(a^2*cos(th)^2 + r^2) + a^2 + r^2)*sin(th)^2 "
      ]
     },
     "execution_count": 12,
     "metadata": {},
     "output_type": "execute_result"
    }
   ],
   "source": [
    "g.display_comp()"
   ]
  },
  {
   "cell_type": "markdown",
   "metadata": {},
   "source": [
    "<h2>Levi-Civita Connection</h2>\n",
    "\n",
    "<p>The Levi-Civita connection $\\nabla$ associated with $g$:</p>"
   ]
  },
  {
   "cell_type": "code",
   "execution_count": 13,
   "metadata": {},
   "outputs": [
    {
     "name": "stdout",
     "output_type": "stream",
     "text": [
      "Levi-Civita connection nabla_g associated with the Lorentzian metric g on the 4-dimensional Lorentzian manifold M\n"
     ]
    }
   ],
   "source": [
    "nabla = g.connection()\n",
    "print(nabla)"
   ]
  },
  {
   "cell_type": "markdown",
   "metadata": {},
   "source": [
    "<p>Let us verify that the covariant derivative of $g$ with respect to $\\nabla$ vanishes identically:</p>"
   ]
  },
  {
   "cell_type": "code",
   "execution_count": 14,
   "metadata": {},
   "outputs": [
    {
     "data": {
      "text/html": [
       "<html>\\[\\newcommand{\\Bold}[1]{\\mathbf{#1}}\\mathrm{True}\\]</html>"
      ],
      "text/latex": [
       "$$\\newcommand{\\Bold}[1]{\\mathbf{#1}}\\mathrm{True}$$"
      ],
      "text/plain": [
       "True"
      ]
     },
     "execution_count": 14,
     "metadata": {},
     "output_type": "execute_result"
    }
   ],
   "source": [
    "nabla(g) == 0"
   ]
  },
  {
   "cell_type": "markdown",
   "metadata": {},
   "source": [
    "<p>Another view of the above property:</p>"
   ]
  },
  {
   "cell_type": "code",
   "execution_count": 15,
   "metadata": {},
   "outputs": [
    {
     "data": {
      "text/html": [
       "<html>\\[\\newcommand{\\Bold}[1]{\\mathbf{#1}}\\nabla_{g} g = 0\\]</html>"
      ],
      "text/latex": [
       "$$\\newcommand{\\Bold}[1]{\\mathbf{#1}}\\nabla_{g} g = 0$$"
      ],
      "text/plain": [
       "nabla_g(g) = 0"
      ]
     },
     "execution_count": 15,
     "metadata": {},
     "output_type": "execute_result"
    }
   ],
   "source": [
    "nabla(g).display()"
   ]
  },
  {
   "cell_type": "markdown",
   "metadata": {},
   "source": [
    "<p>The nonzero Christoffel symbols (skipping those that can be deduced by symmetry of the last two indices):</p>"
   ]
  },
  {
   "cell_type": "code",
   "execution_count": 16,
   "metadata": {},
   "outputs": [
    {
     "data": {
      "text/html": [
       "<html>\\[\\newcommand{\\Bold}[1]{\\mathbf{#1}}\\begin{array}{lcl} \\Gamma_{ \\phantom{\\, t} \\, t \\, r }^{ \\, t \\phantom{\\, t} \\phantom{\\, r} } & = & -\\frac{a^{4} m - m r^{4} - {\\left(a^{4} m + a^{2} m r^{2}\\right)} \\sin\\left({\\theta}\\right)^{2}}{a^{2} r^{4} - 2 \\, m r^{5} + r^{6} + {\\left(a^{6} - 2 \\, a^{4} m r + a^{4} r^{2}\\right)} \\cos\\left({\\theta}\\right)^{4} + 2 \\, {\\left(a^{4} r^{2} - 2 \\, a^{2} m r^{3} + a^{2} r^{4}\\right)} \\cos\\left({\\theta}\\right)^{2}} \\\\ \\Gamma_{ \\phantom{\\, t} \\, t \\, {\\theta} }^{ \\, t \\phantom{\\, t} \\phantom{\\, {\\theta}} } & = & -\\frac{2 \\, a^{2} m r \\cos\\left({\\theta}\\right) \\sin\\left({\\theta}\\right)}{a^{4} \\cos\\left({\\theta}\\right)^{4} + 2 \\, a^{2} r^{2} \\cos\\left({\\theta}\\right)^{2} + r^{4}} \\\\ \\Gamma_{ \\phantom{\\, t} \\, r \\, {\\phi} }^{ \\, t \\phantom{\\, r} \\phantom{\\, {\\phi}} } & = & -\\frac{{\\left(a^{3} m r^{2} + 3 \\, a m r^{4} - {\\left(a^{5} m - a^{3} m r^{2}\\right)} \\cos\\left({\\theta}\\right)^{2}\\right)} \\sin\\left({\\theta}\\right)^{2}}{a^{2} r^{4} - 2 \\, m r^{5} + r^{6} + {\\left(a^{6} - 2 \\, a^{4} m r + a^{4} r^{2}\\right)} \\cos\\left({\\theta}\\right)^{4} + 2 \\, {\\left(a^{4} r^{2} - 2 \\, a^{2} m r^{3} + a^{2} r^{4}\\right)} \\cos\\left({\\theta}\\right)^{2}} \\\\ \\Gamma_{ \\phantom{\\, t} \\, {\\theta} \\, {\\phi} }^{ \\, t \\phantom{\\, {\\theta}} \\phantom{\\, {\\phi}} } & = & -\\frac{2 \\, {\\left(a^{5} m r \\cos\\left({\\theta}\\right) \\sin\\left({\\theta}\\right)^{5} - {\\left(a^{5} m r + a^{3} m r^{3}\\right)} \\cos\\left({\\theta}\\right) \\sin\\left({\\theta}\\right)^{3}\\right)}}{a^{6} \\cos\\left({\\theta}\\right)^{6} + 3 \\, a^{4} r^{2} \\cos\\left({\\theta}\\right)^{4} + 3 \\, a^{2} r^{4} \\cos\\left({\\theta}\\right)^{2} + r^{6}} \\\\ \\Gamma_{ \\phantom{\\, r} \\, t \\, t }^{ \\, r \\phantom{\\, t} \\phantom{\\, t} } & = & \\frac{a^{2} m r^{2} - 2 \\, m^{2} r^{3} + m r^{4} - {\\left(a^{4} m - 2 \\, a^{2} m^{2} r + a^{2} m r^{2}\\right)} \\cos\\left({\\theta}\\right)^{2}}{a^{6} \\cos\\left({\\theta}\\right)^{6} + 3 \\, a^{4} r^{2} \\cos\\left({\\theta}\\right)^{4} + 3 \\, a^{2} r^{4} \\cos\\left({\\theta}\\right)^{2} + r^{6}} \\\\ \\Gamma_{ \\phantom{\\, r} \\, t \\, {\\phi} }^{ \\, r \\phantom{\\, t} \\phantom{\\, {\\phi}} } & = & -\\frac{{\\left(a^{3} m r^{2} - 2 \\, a m^{2} r^{3} + a m r^{4} - {\\left(a^{5} m - 2 \\, a^{3} m^{2} r + a^{3} m r^{2}\\right)} \\cos\\left({\\theta}\\right)^{2}\\right)} \\sin\\left({\\theta}\\right)^{2}}{a^{6} \\cos\\left({\\theta}\\right)^{6} + 3 \\, a^{4} r^{2} \\cos\\left({\\theta}\\right)^{4} + 3 \\, a^{2} r^{4} \\cos\\left({\\theta}\\right)^{2} + r^{6}} \\\\ \\Gamma_{ \\phantom{\\, r} \\, r \\, r }^{ \\, r \\phantom{\\, r} \\phantom{\\, r} } & = & \\frac{a^{2} r - m r^{2} + {\\left(a^{2} m - a^{2} r\\right)} \\cos\\left({\\theta}\\right)^{2}}{a^{2} r^{2} - 2 \\, m r^{3} + r^{4} + {\\left(a^{4} - 2 \\, a^{2} m r + a^{2} r^{2}\\right)} \\cos\\left({\\theta}\\right)^{2}} \\\\ \\Gamma_{ \\phantom{\\, r} \\, r \\, {\\theta} }^{ \\, r \\phantom{\\, r} \\phantom{\\, {\\theta}} } & = & -\\frac{a^{2} \\cos\\left({\\theta}\\right) \\sin\\left({\\theta}\\right)}{a^{2} \\cos\\left({\\theta}\\right)^{2} + r^{2}} \\\\ \\Gamma_{ \\phantom{\\, r} \\, {\\theta} \\, {\\theta} }^{ \\, r \\phantom{\\, {\\theta}} \\phantom{\\, {\\theta}} } & = & -\\frac{a^{2} r - 2 \\, m r^{2} + r^{3}}{a^{2} \\cos\\left({\\theta}\\right)^{2} + r^{2}} \\\\ \\Gamma_{ \\phantom{\\, r} \\, {\\phi} \\, {\\phi} }^{ \\, r \\phantom{\\, {\\phi}} \\phantom{\\, {\\phi}} } & = & \\frac{{\\left(a^{4} m r^{2} - 2 \\, a^{2} m^{2} r^{3} + a^{2} m r^{4} - {\\left(a^{6} m - 2 \\, a^{4} m^{2} r + a^{4} m r^{2}\\right)} \\cos\\left({\\theta}\\right)^{2}\\right)} \\sin\\left({\\theta}\\right)^{4} - {\\left(a^{2} r^{5} - 2 \\, m r^{6} + r^{7} + {\\left(a^{6} r - 2 \\, a^{4} m r^{2} + a^{4} r^{3}\\right)} \\cos\\left({\\theta}\\right)^{4} + 2 \\, {\\left(a^{4} r^{3} - 2 \\, a^{2} m r^{4} + a^{2} r^{5}\\right)} \\cos\\left({\\theta}\\right)^{2}\\right)} \\sin\\left({\\theta}\\right)^{2}}{a^{6} \\cos\\left({\\theta}\\right)^{6} + 3 \\, a^{4} r^{2} \\cos\\left({\\theta}\\right)^{4} + 3 \\, a^{2} r^{4} \\cos\\left({\\theta}\\right)^{2} + r^{6}} \\\\ \\Gamma_{ \\phantom{\\, {\\theta}} \\, t \\, t }^{ \\, {\\theta} \\phantom{\\, t} \\phantom{\\, t} } & = & -\\frac{2 \\, a^{2} m r \\cos\\left({\\theta}\\right) \\sin\\left({\\theta}\\right)}{a^{6} \\cos\\left({\\theta}\\right)^{6} + 3 \\, a^{4} r^{2} \\cos\\left({\\theta}\\right)^{4} + 3 \\, a^{2} r^{4} \\cos\\left({\\theta}\\right)^{2} + r^{6}} \\\\ \\Gamma_{ \\phantom{\\, {\\theta}} \\, t \\, {\\phi} }^{ \\, {\\theta} \\phantom{\\, t} \\phantom{\\, {\\phi}} } & = & \\frac{2 \\, {\\left(a^{3} m r + a m r^{3}\\right)} \\cos\\left({\\theta}\\right) \\sin\\left({\\theta}\\right)}{a^{6} \\cos\\left({\\theta}\\right)^{6} + 3 \\, a^{4} r^{2} \\cos\\left({\\theta}\\right)^{4} + 3 \\, a^{2} r^{4} \\cos\\left({\\theta}\\right)^{2} + r^{6}} \\\\ \\Gamma_{ \\phantom{\\, {\\theta}} \\, r \\, r }^{ \\, {\\theta} \\phantom{\\, r} \\phantom{\\, r} } & = & \\frac{a^{2} \\cos\\left({\\theta}\\right) \\sin\\left({\\theta}\\right)}{a^{2} r^{2} - 2 \\, m r^{3} + r^{4} + {\\left(a^{4} - 2 \\, a^{2} m r + a^{2} r^{2}\\right)} \\cos\\left({\\theta}\\right)^{2}} \\\\ \\Gamma_{ \\phantom{\\, {\\theta}} \\, r \\, {\\theta} }^{ \\, {\\theta} \\phantom{\\, r} \\phantom{\\, {\\theta}} } & = & \\frac{r}{a^{2} \\cos\\left({\\theta}\\right)^{2} + r^{2}} \\\\ \\Gamma_{ \\phantom{\\, {\\theta}} \\, {\\theta} \\, {\\theta} }^{ \\, {\\theta} \\phantom{\\, {\\theta}} \\phantom{\\, {\\theta}} } & = & -\\frac{a^{2} \\cos\\left({\\theta}\\right) \\sin\\left({\\theta}\\right)}{a^{2} \\cos\\left({\\theta}\\right)^{2} + r^{2}} \\\\ \\Gamma_{ \\phantom{\\, {\\theta}} \\, {\\phi} \\, {\\phi} }^{ \\, {\\theta} \\phantom{\\, {\\phi}} \\phantom{\\, {\\phi}} } & = & -\\frac{{\\left({\\left(a^{6} - 2 \\, a^{4} m r + a^{4} r^{2}\\right)} \\cos\\left({\\theta}\\right)^{5} + 2 \\, {\\left(a^{4} r^{2} - 2 \\, a^{2} m r^{3} + a^{2} r^{4}\\right)} \\cos\\left({\\theta}\\right)^{3} + {\\left(2 \\, a^{4} m r + 4 \\, a^{2} m r^{3} + a^{2} r^{4} + r^{6}\\right)} \\cos\\left({\\theta}\\right)\\right)} \\sin\\left({\\theta}\\right)}{a^{6} \\cos\\left({\\theta}\\right)^{6} + 3 \\, a^{4} r^{2} \\cos\\left({\\theta}\\right)^{4} + 3 \\, a^{2} r^{4} \\cos\\left({\\theta}\\right)^{2} + r^{6}} \\\\ \\Gamma_{ \\phantom{\\, {\\phi}} \\, t \\, r }^{ \\, {\\phi} \\phantom{\\, t} \\phantom{\\, r} } & = & -\\frac{a^{3} m \\cos\\left({\\theta}\\right)^{2} - a m r^{2}}{a^{2} r^{4} - 2 \\, m r^{5} + r^{6} + {\\left(a^{6} - 2 \\, a^{4} m r + a^{4} r^{2}\\right)} \\cos\\left({\\theta}\\right)^{4} + 2 \\, {\\left(a^{4} r^{2} - 2 \\, a^{2} m r^{3} + a^{2} r^{4}\\right)} \\cos\\left({\\theta}\\right)^{2}} \\\\ \\Gamma_{ \\phantom{\\, {\\phi}} \\, t \\, {\\theta} }^{ \\, {\\phi} \\phantom{\\, t} \\phantom{\\, {\\theta}} } & = & -\\frac{2 \\, a m r \\cos\\left({\\theta}\\right)}{{\\left(a^{4} \\cos\\left({\\theta}\\right)^{4} + 2 \\, a^{2} r^{2} \\cos\\left({\\theta}\\right)^{2} + r^{4}\\right)} \\sin\\left({\\theta}\\right)} \\\\ \\Gamma_{ \\phantom{\\, {\\phi}} \\, r \\, {\\phi} }^{ \\, {\\phi} \\phantom{\\, r} \\phantom{\\, {\\phi}} } & = & -\\frac{a^{2} m r^{2} + 2 \\, m r^{4} - r^{5} + {\\left(a^{4} m - a^{4} r\\right)} \\cos\\left({\\theta}\\right)^{4} - {\\left(a^{4} m - a^{2} m r^{2} + 2 \\, a^{2} r^{3}\\right)} \\cos\\left({\\theta}\\right)^{2}}{a^{2} r^{4} - 2 \\, m r^{5} + r^{6} + {\\left(a^{6} - 2 \\, a^{4} m r + a^{4} r^{2}\\right)} \\cos\\left({\\theta}\\right)^{4} + 2 \\, {\\left(a^{4} r^{2} - 2 \\, a^{2} m r^{3} + a^{2} r^{4}\\right)} \\cos\\left({\\theta}\\right)^{2}} \\\\ \\Gamma_{ \\phantom{\\, {\\phi}} \\, {\\theta} \\, {\\phi} }^{ \\, {\\phi} \\phantom{\\, {\\theta}} \\phantom{\\, {\\phi}} } & = & \\frac{a^{4} \\cos\\left({\\theta}\\right) \\sin\\left({\\theta}\\right)^{4} - 2 \\, {\\left(a^{4} - a^{2} m r + a^{2} r^{2}\\right)} \\cos\\left({\\theta}\\right) \\sin\\left({\\theta}\\right)^{2} + {\\left(a^{4} + 2 \\, a^{2} r^{2} + r^{4}\\right)} \\cos\\left({\\theta}\\right)}{{\\left(a^{4} \\cos\\left({\\theta}\\right)^{4} + 2 \\, a^{2} r^{2} \\cos\\left({\\theta}\\right)^{2} + r^{4}\\right)} \\sin\\left({\\theta}\\right)} \\end{array}\\]</html>"
      ],
      "text/latex": [
       "$$\\newcommand{\\Bold}[1]{\\mathbf{#1}}\\begin{array}{lcl} \\Gamma_{ \\phantom{\\, t} \\, t \\, r }^{ \\, t \\phantom{\\, t} \\phantom{\\, r} } & = & -\\frac{a^{4} m - m r^{4} - {\\left(a^{4} m + a^{2} m r^{2}\\right)} \\sin\\left({\\theta}\\right)^{2}}{a^{2} r^{4} - 2 \\, m r^{5} + r^{6} + {\\left(a^{6} - 2 \\, a^{4} m r + a^{4} r^{2}\\right)} \\cos\\left({\\theta}\\right)^{4} + 2 \\, {\\left(a^{4} r^{2} - 2 \\, a^{2} m r^{3} + a^{2} r^{4}\\right)} \\cos\\left({\\theta}\\right)^{2}} \\\\ \\Gamma_{ \\phantom{\\, t} \\, t \\, {\\theta} }^{ \\, t \\phantom{\\, t} \\phantom{\\, {\\theta}} } & = & -\\frac{2 \\, a^{2} m r \\cos\\left({\\theta}\\right) \\sin\\left({\\theta}\\right)}{a^{4} \\cos\\left({\\theta}\\right)^{4} + 2 \\, a^{2} r^{2} \\cos\\left({\\theta}\\right)^{2} + r^{4}} \\\\ \\Gamma_{ \\phantom{\\, t} \\, r \\, {\\phi} }^{ \\, t \\phantom{\\, r} \\phantom{\\, {\\phi}} } & = & -\\frac{{\\left(a^{3} m r^{2} + 3 \\, a m r^{4} - {\\left(a^{5} m - a^{3} m r^{2}\\right)} \\cos\\left({\\theta}\\right)^{2}\\right)} \\sin\\left({\\theta}\\right)^{2}}{a^{2} r^{4} - 2 \\, m r^{5} + r^{6} + {\\left(a^{6} - 2 \\, a^{4} m r + a^{4} r^{2}\\right)} \\cos\\left({\\theta}\\right)^{4} + 2 \\, {\\left(a^{4} r^{2} - 2 \\, a^{2} m r^{3} + a^{2} r^{4}\\right)} \\cos\\left({\\theta}\\right)^{2}} \\\\ \\Gamma_{ \\phantom{\\, t} \\, {\\theta} \\, {\\phi} }^{ \\, t \\phantom{\\, {\\theta}} \\phantom{\\, {\\phi}} } & = & -\\frac{2 \\, {\\left(a^{5} m r \\cos\\left({\\theta}\\right) \\sin\\left({\\theta}\\right)^{5} - {\\left(a^{5} m r + a^{3} m r^{3}\\right)} \\cos\\left({\\theta}\\right) \\sin\\left({\\theta}\\right)^{3}\\right)}}{a^{6} \\cos\\left({\\theta}\\right)^{6} + 3 \\, a^{4} r^{2} \\cos\\left({\\theta}\\right)^{4} + 3 \\, a^{2} r^{4} \\cos\\left({\\theta}\\right)^{2} + r^{6}} \\\\ \\Gamma_{ \\phantom{\\, r} \\, t \\, t }^{ \\, r \\phantom{\\, t} \\phantom{\\, t} } & = & \\frac{a^{2} m r^{2} - 2 \\, m^{2} r^{3} + m r^{4} - {\\left(a^{4} m - 2 \\, a^{2} m^{2} r + a^{2} m r^{2}\\right)} \\cos\\left({\\theta}\\right)^{2}}{a^{6} \\cos\\left({\\theta}\\right)^{6} + 3 \\, a^{4} r^{2} \\cos\\left({\\theta}\\right)^{4} + 3 \\, a^{2} r^{4} \\cos\\left({\\theta}\\right)^{2} + r^{6}} \\\\ \\Gamma_{ \\phantom{\\, r} \\, t \\, {\\phi} }^{ \\, r \\phantom{\\, t} \\phantom{\\, {\\phi}} } & = & -\\frac{{\\left(a^{3} m r^{2} - 2 \\, a m^{2} r^{3} + a m r^{4} - {\\left(a^{5} m - 2 \\, a^{3} m^{2} r + a^{3} m r^{2}\\right)} \\cos\\left({\\theta}\\right)^{2}\\right)} \\sin\\left({\\theta}\\right)^{2}}{a^{6} \\cos\\left({\\theta}\\right)^{6} + 3 \\, a^{4} r^{2} \\cos\\left({\\theta}\\right)^{4} + 3 \\, a^{2} r^{4} \\cos\\left({\\theta}\\right)^{2} + r^{6}} \\\\ \\Gamma_{ \\phantom{\\, r} \\, r \\, r }^{ \\, r \\phantom{\\, r} \\phantom{\\, r} } & = & \\frac{a^{2} r - m r^{2} + {\\left(a^{2} m - a^{2} r\\right)} \\cos\\left({\\theta}\\right)^{2}}{a^{2} r^{2} - 2 \\, m r^{3} + r^{4} + {\\left(a^{4} - 2 \\, a^{2} m r + a^{2} r^{2}\\right)} \\cos\\left({\\theta}\\right)^{2}} \\\\ \\Gamma_{ \\phantom{\\, r} \\, r \\, {\\theta} }^{ \\, r \\phantom{\\, r} \\phantom{\\, {\\theta}} } & = & -\\frac{a^{2} \\cos\\left({\\theta}\\right) \\sin\\left({\\theta}\\right)}{a^{2} \\cos\\left({\\theta}\\right)^{2} + r^{2}} \\\\ \\Gamma_{ \\phantom{\\, r} \\, {\\theta} \\, {\\theta} }^{ \\, r \\phantom{\\, {\\theta}} \\phantom{\\, {\\theta}} } & = & -\\frac{a^{2} r - 2 \\, m r^{2} + r^{3}}{a^{2} \\cos\\left({\\theta}\\right)^{2} + r^{2}} \\\\ \\Gamma_{ \\phantom{\\, r} \\, {\\phi} \\, {\\phi} }^{ \\, r \\phantom{\\, {\\phi}} \\phantom{\\, {\\phi}} } & = & \\frac{{\\left(a^{4} m r^{2} - 2 \\, a^{2} m^{2} r^{3} + a^{2} m r^{4} - {\\left(a^{6} m - 2 \\, a^{4} m^{2} r + a^{4} m r^{2}\\right)} \\cos\\left({\\theta}\\right)^{2}\\right)} \\sin\\left({\\theta}\\right)^{4} - {\\left(a^{2} r^{5} - 2 \\, m r^{6} + r^{7} + {\\left(a^{6} r - 2 \\, a^{4} m r^{2} + a^{4} r^{3}\\right)} \\cos\\left({\\theta}\\right)^{4} + 2 \\, {\\left(a^{4} r^{3} - 2 \\, a^{2} m r^{4} + a^{2} r^{5}\\right)} \\cos\\left({\\theta}\\right)^{2}\\right)} \\sin\\left({\\theta}\\right)^{2}}{a^{6} \\cos\\left({\\theta}\\right)^{6} + 3 \\, a^{4} r^{2} \\cos\\left({\\theta}\\right)^{4} + 3 \\, a^{2} r^{4} \\cos\\left({\\theta}\\right)^{2} + r^{6}} \\\\ \\Gamma_{ \\phantom{\\, {\\theta}} \\, t \\, t }^{ \\, {\\theta} \\phantom{\\, t} \\phantom{\\, t} } & = & -\\frac{2 \\, a^{2} m r \\cos\\left({\\theta}\\right) \\sin\\left({\\theta}\\right)}{a^{6} \\cos\\left({\\theta}\\right)^{6} + 3 \\, a^{4} r^{2} \\cos\\left({\\theta}\\right)^{4} + 3 \\, a^{2} r^{4} \\cos\\left({\\theta}\\right)^{2} + r^{6}} \\\\ \\Gamma_{ \\phantom{\\, {\\theta}} \\, t \\, {\\phi} }^{ \\, {\\theta} \\phantom{\\, t} \\phantom{\\, {\\phi}} } & = & \\frac{2 \\, {\\left(a^{3} m r + a m r^{3}\\right)} \\cos\\left({\\theta}\\right) \\sin\\left({\\theta}\\right)}{a^{6} \\cos\\left({\\theta}\\right)^{6} + 3 \\, a^{4} r^{2} \\cos\\left({\\theta}\\right)^{4} + 3 \\, a^{2} r^{4} \\cos\\left({\\theta}\\right)^{2} + r^{6}} \\\\ \\Gamma_{ \\phantom{\\, {\\theta}} \\, r \\, r }^{ \\, {\\theta} \\phantom{\\, r} \\phantom{\\, r} } & = & \\frac{a^{2} \\cos\\left({\\theta}\\right) \\sin\\left({\\theta}\\right)}{a^{2} r^{2} - 2 \\, m r^{3} + r^{4} + {\\left(a^{4} - 2 \\, a^{2} m r + a^{2} r^{2}\\right)} \\cos\\left({\\theta}\\right)^{2}} \\\\ \\Gamma_{ \\phantom{\\, {\\theta}} \\, r \\, {\\theta} }^{ \\, {\\theta} \\phantom{\\, r} \\phantom{\\, {\\theta}} } & = & \\frac{r}{a^{2} \\cos\\left({\\theta}\\right)^{2} + r^{2}} \\\\ \\Gamma_{ \\phantom{\\, {\\theta}} \\, {\\theta} \\, {\\theta} }^{ \\, {\\theta} \\phantom{\\, {\\theta}} \\phantom{\\, {\\theta}} } & = & -\\frac{a^{2} \\cos\\left({\\theta}\\right) \\sin\\left({\\theta}\\right)}{a^{2} \\cos\\left({\\theta}\\right)^{2} + r^{2}} \\\\ \\Gamma_{ \\phantom{\\, {\\theta}} \\, {\\phi} \\, {\\phi} }^{ \\, {\\theta} \\phantom{\\, {\\phi}} \\phantom{\\, {\\phi}} } & = & -\\frac{{\\left({\\left(a^{6} - 2 \\, a^{4} m r + a^{4} r^{2}\\right)} \\cos\\left({\\theta}\\right)^{5} + 2 \\, {\\left(a^{4} r^{2} - 2 \\, a^{2} m r^{3} + a^{2} r^{4}\\right)} \\cos\\left({\\theta}\\right)^{3} + {\\left(2 \\, a^{4} m r + 4 \\, a^{2} m r^{3} + a^{2} r^{4} + r^{6}\\right)} \\cos\\left({\\theta}\\right)\\right)} \\sin\\left({\\theta}\\right)}{a^{6} \\cos\\left({\\theta}\\right)^{6} + 3 \\, a^{4} r^{2} \\cos\\left({\\theta}\\right)^{4} + 3 \\, a^{2} r^{4} \\cos\\left({\\theta}\\right)^{2} + r^{6}} \\\\ \\Gamma_{ \\phantom{\\, {\\phi}} \\, t \\, r }^{ \\, {\\phi} \\phantom{\\, t} \\phantom{\\, r} } & = & -\\frac{a^{3} m \\cos\\left({\\theta}\\right)^{2} - a m r^{2}}{a^{2} r^{4} - 2 \\, m r^{5} + r^{6} + {\\left(a^{6} - 2 \\, a^{4} m r + a^{4} r^{2}\\right)} \\cos\\left({\\theta}\\right)^{4} + 2 \\, {\\left(a^{4} r^{2} - 2 \\, a^{2} m r^{3} + a^{2} r^{4}\\right)} \\cos\\left({\\theta}\\right)^{2}} \\\\ \\Gamma_{ \\phantom{\\, {\\phi}} \\, t \\, {\\theta} }^{ \\, {\\phi} \\phantom{\\, t} \\phantom{\\, {\\theta}} } & = & -\\frac{2 \\, a m r \\cos\\left({\\theta}\\right)}{{\\left(a^{4} \\cos\\left({\\theta}\\right)^{4} + 2 \\, a^{2} r^{2} \\cos\\left({\\theta}\\right)^{2} + r^{4}\\right)} \\sin\\left({\\theta}\\right)} \\\\ \\Gamma_{ \\phantom{\\, {\\phi}} \\, r \\, {\\phi} }^{ \\, {\\phi} \\phantom{\\, r} \\phantom{\\, {\\phi}} } & = & -\\frac{a^{2} m r^{2} + 2 \\, m r^{4} - r^{5} + {\\left(a^{4} m - a^{4} r\\right)} \\cos\\left({\\theta}\\right)^{4} - {\\left(a^{4} m - a^{2} m r^{2} + 2 \\, a^{2} r^{3}\\right)} \\cos\\left({\\theta}\\right)^{2}}{a^{2} r^{4} - 2 \\, m r^{5} + r^{6} + {\\left(a^{6} - 2 \\, a^{4} m r + a^{4} r^{2}\\right)} \\cos\\left({\\theta}\\right)^{4} + 2 \\, {\\left(a^{4} r^{2} - 2 \\, a^{2} m r^{3} + a^{2} r^{4}\\right)} \\cos\\left({\\theta}\\right)^{2}} \\\\ \\Gamma_{ \\phantom{\\, {\\phi}} \\, {\\theta} \\, {\\phi} }^{ \\, {\\phi} \\phantom{\\, {\\theta}} \\phantom{\\, {\\phi}} } & = & \\frac{a^{4} \\cos\\left({\\theta}\\right) \\sin\\left({\\theta}\\right)^{4} - 2 \\, {\\left(a^{4} - a^{2} m r + a^{2} r^{2}\\right)} \\cos\\left({\\theta}\\right) \\sin\\left({\\theta}\\right)^{2} + {\\left(a^{4} + 2 \\, a^{2} r^{2} + r^{4}\\right)} \\cos\\left({\\theta}\\right)}{{\\left(a^{4} \\cos\\left({\\theta}\\right)^{4} + 2 \\, a^{2} r^{2} \\cos\\left({\\theta}\\right)^{2} + r^{4}\\right)} \\sin\\left({\\theta}\\right)} \\end{array}$$"
      ],
      "text/plain": [
       "Gam^t_t,r = -(a^4*m - m*r^4 - (a^4*m + a^2*m*r^2)*sin(th)^2)/(a^2*r^4 - 2*m*r^5 + r^6 + (a^6 - 2*a^4*m*r + a^4*r^2)*cos(th)^4 + 2*(a^4*r^2 - 2*a^2*m*r^3 + a^2*r^4)*cos(th)^2) \n",
       "Gam^t_t,th = -2*a^2*m*r*cos(th)*sin(th)/(a^4*cos(th)^4 + 2*a^2*r^2*cos(th)^2 + r^4) \n",
       "Gam^t_r,ph = -(a^3*m*r^2 + 3*a*m*r^4 - (a^5*m - a^3*m*r^2)*cos(th)^2)*sin(th)^2/(a^2*r^4 - 2*m*r^5 + r^6 + (a^6 - 2*a^4*m*r + a^4*r^2)*cos(th)^4 + 2*(a^4*r^2 - 2*a^2*m*r^3 + a^2*r^4)*cos(th)^2) \n",
       "Gam^t_th,ph = -2*(a^5*m*r*cos(th)*sin(th)^5 - (a^5*m*r + a^3*m*r^3)*cos(th)*sin(th)^3)/(a^6*cos(th)^6 + 3*a^4*r^2*cos(th)^4 + 3*a^2*r^4*cos(th)^2 + r^6) \n",
       "Gam^r_t,t = (a^2*m*r^2 - 2*m^2*r^3 + m*r^4 - (a^4*m - 2*a^2*m^2*r + a^2*m*r^2)*cos(th)^2)/(a^6*cos(th)^6 + 3*a^4*r^2*cos(th)^4 + 3*a^2*r^4*cos(th)^2 + r^6) \n",
       "Gam^r_t,ph = -(a^3*m*r^2 - 2*a*m^2*r^3 + a*m*r^4 - (a^5*m - 2*a^3*m^2*r + a^3*m*r^2)*cos(th)^2)*sin(th)^2/(a^6*cos(th)^6 + 3*a^4*r^2*cos(th)^4 + 3*a^2*r^4*cos(th)^2 + r^6) \n",
       "Gam^r_r,r = (a^2*r - m*r^2 + (a^2*m - a^2*r)*cos(th)^2)/(a^2*r^2 - 2*m*r^3 + r^4 + (a^4 - 2*a^2*m*r + a^2*r^2)*cos(th)^2) \n",
       "Gam^r_r,th = -a^2*cos(th)*sin(th)/(a^2*cos(th)^2 + r^2) \n",
       "Gam^r_th,th = -(a^2*r - 2*m*r^2 + r^3)/(a^2*cos(th)^2 + r^2) \n",
       "Gam^r_ph,ph = ((a^4*m*r^2 - 2*a^2*m^2*r^3 + a^2*m*r^4 - (a^6*m - 2*a^4*m^2*r + a^4*m*r^2)*cos(th)^2)*sin(th)^4 - (a^2*r^5 - 2*m*r^6 + r^7 + (a^6*r - 2*a^4*m*r^2 + a^4*r^3)*cos(th)^4 + 2*(a^4*r^3 - 2*a^2*m*r^4 + a^2*r^5)*cos(th)^2)*sin(th)^2)/(a^6*cos(th)^6 + 3*a^4*r^2*cos(th)^4 + 3*a^2*r^4*cos(th)^2 + r^6) \n",
       "Gam^th_t,t = -2*a^2*m*r*cos(th)*sin(th)/(a^6*cos(th)^6 + 3*a^4*r^2*cos(th)^4 + 3*a^2*r^4*cos(th)^2 + r^6) \n",
       "Gam^th_t,ph = 2*(a^3*m*r + a*m*r^3)*cos(th)*sin(th)/(a^6*cos(th)^6 + 3*a^4*r^2*cos(th)^4 + 3*a^2*r^4*cos(th)^2 + r^6) \n",
       "Gam^th_r,r = a^2*cos(th)*sin(th)/(a^2*r^2 - 2*m*r^3 + r^4 + (a^4 - 2*a^2*m*r + a^2*r^2)*cos(th)^2) \n",
       "Gam^th_r,th = r/(a^2*cos(th)^2 + r^2) \n",
       "Gam^th_th,th = -a^2*cos(th)*sin(th)/(a^2*cos(th)^2 + r^2) \n",
       "Gam^th_ph,ph = -((a^6 - 2*a^4*m*r + a^4*r^2)*cos(th)^5 + 2*(a^4*r^2 - 2*a^2*m*r^3 + a^2*r^4)*cos(th)^3 + (2*a^4*m*r + 4*a^2*m*r^3 + a^2*r^4 + r^6)*cos(th))*sin(th)/(a^6*cos(th)^6 + 3*a^4*r^2*cos(th)^4 + 3*a^2*r^4*cos(th)^2 + r^6) \n",
       "Gam^ph_t,r = -(a^3*m*cos(th)^2 - a*m*r^2)/(a^2*r^4 - 2*m*r^5 + r^6 + (a^6 - 2*a^4*m*r + a^4*r^2)*cos(th)^4 + 2*(a^4*r^2 - 2*a^2*m*r^3 + a^2*r^4)*cos(th)^2) \n",
       "Gam^ph_t,th = -2*a*m*r*cos(th)/((a^4*cos(th)^4 + 2*a^2*r^2*cos(th)^2 + r^4)*sin(th)) \n",
       "Gam^ph_r,ph = -(a^2*m*r^2 + 2*m*r^4 - r^5 + (a^4*m - a^4*r)*cos(th)^4 - (a^4*m - a^2*m*r^2 + 2*a^2*r^3)*cos(th)^2)/(a^2*r^4 - 2*m*r^5 + r^6 + (a^6 - 2*a^4*m*r + a^4*r^2)*cos(th)^4 + 2*(a^4*r^2 - 2*a^2*m*r^3 + a^2*r^4)*cos(th)^2) \n",
       "Gam^ph_th,ph = (a^4*cos(th)*sin(th)^4 - 2*(a^4 - a^2*m*r + a^2*r^2)*cos(th)*sin(th)^2 + (a^4 + 2*a^2*r^2 + r^4)*cos(th))/((a^4*cos(th)^4 + 2*a^2*r^2*cos(th)^2 + r^4)*sin(th)) "
      ]
     },
     "execution_count": 16,
     "metadata": {},
     "output_type": "execute_result"
    }
   ],
   "source": [
    "g.christoffel_symbols_display()"
   ]
  },
  {
   "cell_type": "markdown",
   "metadata": {},
   "source": [
    "<h2>Killing vectors</h2>\n",
    "<p>The default vector frame on the spacetime manifold is the coordinate basis associated with Boyer-Lindquist coordinates:</p>"
   ]
  },
  {
   "cell_type": "code",
   "execution_count": 17,
   "metadata": {},
   "outputs": [
    {
     "data": {
      "text/html": [
       "<html>\\[\\newcommand{\\Bold}[1]{\\mathbf{#1}}\\mathrm{True}\\]</html>"
      ],
      "text/latex": [
       "$$\\newcommand{\\Bold}[1]{\\mathbf{#1}}\\mathrm{True}$$"
      ],
      "text/plain": [
       "True"
      ]
     },
     "execution_count": 17,
     "metadata": {},
     "output_type": "execute_result"
    }
   ],
   "source": [
    "M.default_frame() is BL.frame()"
   ]
  },
  {
   "cell_type": "code",
   "execution_count": 18,
   "metadata": {},
   "outputs": [
    {
     "data": {
      "text/html": [
       "<html>\\[\\newcommand{\\Bold}[1]{\\mathbf{#1}}\\left(\\mathcal{M}, \\left(\\frac{\\partial}{\\partial t },\\frac{\\partial}{\\partial r },\\frac{\\partial}{\\partial {\\theta} },\\frac{\\partial}{\\partial {\\phi} }\\right)\\right)\\]</html>"
      ],
      "text/latex": [
       "$$\\newcommand{\\Bold}[1]{\\mathbf{#1}}\\left(\\mathcal{M}, \\left(\\frac{\\partial}{\\partial t },\\frac{\\partial}{\\partial r },\\frac{\\partial}{\\partial {\\theta} },\\frac{\\partial}{\\partial {\\phi} }\\right)\\right)$$"
      ],
      "text/plain": [
       "Coordinate frame (M, (∂/∂t,∂/∂r,∂/∂th,∂/∂ph))"
      ]
     },
     "execution_count": 18,
     "metadata": {},
     "output_type": "execute_result"
    }
   ],
   "source": [
    "BL.frame()"
   ]
  },
  {
   "cell_type": "markdown",
   "metadata": {},
   "source": [
    "<p>Let us consider the first vector field of this frame:</p>"
   ]
  },
  {
   "cell_type": "code",
   "execution_count": 19,
   "metadata": {},
   "outputs": [
    {
     "data": {
      "text/html": [
       "<html>\\[\\newcommand{\\Bold}[1]{\\mathbf{#1}}\\frac{\\partial}{\\partial t }\\]</html>"
      ],
      "text/latex": [
       "$$\\newcommand{\\Bold}[1]{\\mathbf{#1}}\\frac{\\partial}{\\partial t }$$"
      ],
      "text/plain": [
       "Vector field ∂/∂t on the 4-dimensional Lorentzian manifold M"
      ]
     },
     "execution_count": 19,
     "metadata": {},
     "output_type": "execute_result"
    }
   ],
   "source": [
    "xi = BL.frame()[0]\n",
    "xi"
   ]
  },
  {
   "cell_type": "code",
   "execution_count": 20,
   "metadata": {},
   "outputs": [
    {
     "name": "stdout",
     "output_type": "stream",
     "text": [
      "Vector field ∂/∂t on the 4-dimensional Lorentzian manifold M\n"
     ]
    }
   ],
   "source": [
    "print(xi)"
   ]
  },
  {
   "cell_type": "markdown",
   "metadata": {},
   "source": [
    "<p>The 1-form associated to it by metric duality is</p>"
   ]
  },
  {
   "cell_type": "code",
   "execution_count": 21,
   "metadata": {},
   "outputs": [
    {
     "data": {
      "text/html": [
       "<html>\\[\\newcommand{\\Bold}[1]{\\mathbf{#1}}\\left( \\frac{2 \\, m r}{a^{2} \\cos\\left({\\theta}\\right)^{2} + r^{2}} - 1 \\right) \\mathrm{d} t + \\left( -\\frac{2 \\, a m r \\sin\\left({\\theta}\\right)^{2}}{a^{2} \\cos\\left({\\theta}\\right)^{2} + r^{2}} \\right) \\mathrm{d} {\\phi}\\]</html>"
      ],
      "text/latex": [
       "$$\\newcommand{\\Bold}[1]{\\mathbf{#1}}\\left( \\frac{2 \\, m r}{a^{2} \\cos\\left({\\theta}\\right)^{2} + r^{2}} - 1 \\right) \\mathrm{d} t + \\left( -\\frac{2 \\, a m r \\sin\\left({\\theta}\\right)^{2}}{a^{2} \\cos\\left({\\theta}\\right)^{2} + r^{2}} \\right) \\mathrm{d} {\\phi}$$"
      ],
      "text/plain": [
       "(2*m*r/(a^2*cos(th)^2 + r^2) - 1) dt - 2*a*m*r*sin(th)^2/(a^2*cos(th)^2 + r^2) dph"
      ]
     },
     "execution_count": 21,
     "metadata": {},
     "output_type": "execute_result"
    }
   ],
   "source": [
    "xi_form = xi.down(g)\n",
    "xi_form.display()"
   ]
  },
  {
   "cell_type": "markdown",
   "metadata": {},
   "source": [
    "<p>Its covariant derivative is</p>"
   ]
  },
  {
   "cell_type": "code",
   "execution_count": 22,
   "metadata": {},
   "outputs": [
    {
     "name": "stdout",
     "output_type": "stream",
     "text": [
      "Tensor field of type (0,2) on the 4-dimensional Lorentzian manifold M\n"
     ]
    },
    {
     "data": {
      "text/html": [
       "<html>\\[\\newcommand{\\Bold}[1]{\\mathbf{#1}}\\left( \\frac{a^{2} m \\cos\\left({\\theta}\\right)^{2} - m r^{2}}{a^{4} \\cos\\left({\\theta}\\right)^{4} + 2 \\, a^{2} r^{2} \\cos\\left({\\theta}\\right)^{2} + r^{4}} \\right) \\mathrm{d} t\\otimes \\mathrm{d} r + \\left( \\frac{2 \\, a^{2} m r \\cos\\left({\\theta}\\right) \\sin\\left({\\theta}\\right)}{a^{4} \\cos\\left({\\theta}\\right)^{4} + 2 \\, a^{2} r^{2} \\cos\\left({\\theta}\\right)^{2} + r^{4}} \\right) \\mathrm{d} t\\otimes \\mathrm{d} {\\theta} + \\left( -\\frac{a^{2} m \\cos\\left({\\theta}\\right)^{2} - m r^{2}}{a^{4} \\cos\\left({\\theta}\\right)^{4} + 2 \\, a^{2} r^{2} \\cos\\left({\\theta}\\right)^{2} + r^{4}} \\right) \\mathrm{d} r\\otimes \\mathrm{d} t + \\left( \\frac{{\\left(a^{3} m \\cos\\left({\\theta}\\right)^{2} - a m r^{2}\\right)} \\sin\\left({\\theta}\\right)^{2}}{a^{4} \\cos\\left({\\theta}\\right)^{4} + 2 \\, a^{2} r^{2} \\cos\\left({\\theta}\\right)^{2} + r^{4}} \\right) \\mathrm{d} r\\otimes \\mathrm{d} {\\phi} + \\left( -\\frac{2 \\, a^{2} m r \\cos\\left({\\theta}\\right) \\sin\\left({\\theta}\\right)}{a^{4} \\cos\\left({\\theta}\\right)^{4} + 2 \\, a^{2} r^{2} \\cos\\left({\\theta}\\right)^{2} + r^{4}} \\right) \\mathrm{d} {\\theta}\\otimes \\mathrm{d} t + \\left( \\frac{2 \\, {\\left(a^{3} m r + a m r^{3}\\right)} \\cos\\left({\\theta}\\right) \\sin\\left({\\theta}\\right)}{a^{4} \\cos\\left({\\theta}\\right)^{4} + 2 \\, a^{2} r^{2} \\cos\\left({\\theta}\\right)^{2} + r^{4}} \\right) \\mathrm{d} {\\theta}\\otimes \\mathrm{d} {\\phi} + \\left( -\\frac{{\\left(a^{3} m \\cos\\left({\\theta}\\right)^{2} - a m r^{2}\\right)} \\sin\\left({\\theta}\\right)^{2}}{a^{4} \\cos\\left({\\theta}\\right)^{4} + 2 \\, a^{2} r^{2} \\cos\\left({\\theta}\\right)^{2} + r^{4}} \\right) \\mathrm{d} {\\phi}\\otimes \\mathrm{d} r + \\left( -\\frac{2 \\, {\\left(a^{3} m r + a m r^{3}\\right)} \\cos\\left({\\theta}\\right) \\sin\\left({\\theta}\\right)}{a^{4} \\cos\\left({\\theta}\\right)^{4} + 2 \\, a^{2} r^{2} \\cos\\left({\\theta}\\right)^{2} + r^{4}} \\right) \\mathrm{d} {\\phi}\\otimes \\mathrm{d} {\\theta}\\]</html>"
      ],
      "text/latex": [
       "$$\\newcommand{\\Bold}[1]{\\mathbf{#1}}\\left( \\frac{a^{2} m \\cos\\left({\\theta}\\right)^{2} - m r^{2}}{a^{4} \\cos\\left({\\theta}\\right)^{4} + 2 \\, a^{2} r^{2} \\cos\\left({\\theta}\\right)^{2} + r^{4}} \\right) \\mathrm{d} t\\otimes \\mathrm{d} r + \\left( \\frac{2 \\, a^{2} m r \\cos\\left({\\theta}\\right) \\sin\\left({\\theta}\\right)}{a^{4} \\cos\\left({\\theta}\\right)^{4} + 2 \\, a^{2} r^{2} \\cos\\left({\\theta}\\right)^{2} + r^{4}} \\right) \\mathrm{d} t\\otimes \\mathrm{d} {\\theta} + \\left( -\\frac{a^{2} m \\cos\\left({\\theta}\\right)^{2} - m r^{2}}{a^{4} \\cos\\left({\\theta}\\right)^{4} + 2 \\, a^{2} r^{2} \\cos\\left({\\theta}\\right)^{2} + r^{4}} \\right) \\mathrm{d} r\\otimes \\mathrm{d} t + \\left( \\frac{{\\left(a^{3} m \\cos\\left({\\theta}\\right)^{2} - a m r^{2}\\right)} \\sin\\left({\\theta}\\right)^{2}}{a^{4} \\cos\\left({\\theta}\\right)^{4} + 2 \\, a^{2} r^{2} \\cos\\left({\\theta}\\right)^{2} + r^{4}} \\right) \\mathrm{d} r\\otimes \\mathrm{d} {\\phi} + \\left( -\\frac{2 \\, a^{2} m r \\cos\\left({\\theta}\\right) \\sin\\left({\\theta}\\right)}{a^{4} \\cos\\left({\\theta}\\right)^{4} + 2 \\, a^{2} r^{2} \\cos\\left({\\theta}\\right)^{2} + r^{4}} \\right) \\mathrm{d} {\\theta}\\otimes \\mathrm{d} t + \\left( \\frac{2 \\, {\\left(a^{3} m r + a m r^{3}\\right)} \\cos\\left({\\theta}\\right) \\sin\\left({\\theta}\\right)}{a^{4} \\cos\\left({\\theta}\\right)^{4} + 2 \\, a^{2} r^{2} \\cos\\left({\\theta}\\right)^{2} + r^{4}} \\right) \\mathrm{d} {\\theta}\\otimes \\mathrm{d} {\\phi} + \\left( -\\frac{{\\left(a^{3} m \\cos\\left({\\theta}\\right)^{2} - a m r^{2}\\right)} \\sin\\left({\\theta}\\right)^{2}}{a^{4} \\cos\\left({\\theta}\\right)^{4} + 2 \\, a^{2} r^{2} \\cos\\left({\\theta}\\right)^{2} + r^{4}} \\right) \\mathrm{d} {\\phi}\\otimes \\mathrm{d} r + \\left( -\\frac{2 \\, {\\left(a^{3} m r + a m r^{3}\\right)} \\cos\\left({\\theta}\\right) \\sin\\left({\\theta}\\right)}{a^{4} \\cos\\left({\\theta}\\right)^{4} + 2 \\, a^{2} r^{2} \\cos\\left({\\theta}\\right)^{2} + r^{4}} \\right) \\mathrm{d} {\\phi}\\otimes \\mathrm{d} {\\theta}$$"
      ],
      "text/plain": [
       "(a^2*m*cos(th)^2 - m*r^2)/(a^4*cos(th)^4 + 2*a^2*r^2*cos(th)^2 + r^4) dt⊗dr + 2*a^2*m*r*cos(th)*sin(th)/(a^4*cos(th)^4 + 2*a^2*r^2*cos(th)^2 + r^4) dt⊗dth - (a^2*m*cos(th)^2 - m*r^2)/(a^4*cos(th)^4 + 2*a^2*r^2*cos(th)^2 + r^4) dr⊗dt + (a^3*m*cos(th)^2 - a*m*r^2)*sin(th)^2/(a^4*cos(th)^4 + 2*a^2*r^2*cos(th)^2 + r^4) dr⊗dph - 2*a^2*m*r*cos(th)*sin(th)/(a^4*cos(th)^4 + 2*a^2*r^2*cos(th)^2 + r^4) dth⊗dt + 2*(a^3*m*r + a*m*r^3)*cos(th)*sin(th)/(a^4*cos(th)^4 + 2*a^2*r^2*cos(th)^2 + r^4) dth⊗dph - (a^3*m*cos(th)^2 - a*m*r^2)*sin(th)^2/(a^4*cos(th)^4 + 2*a^2*r^2*cos(th)^2 + r^4) dph⊗dr - 2*(a^3*m*r + a*m*r^3)*cos(th)*sin(th)/(a^4*cos(th)^4 + 2*a^2*r^2*cos(th)^2 + r^4) dph⊗dth"
      ]
     },
     "execution_count": 22,
     "metadata": {},
     "output_type": "execute_result"
    }
   ],
   "source": [
    "nab_xi = nabla(xi_form)\n",
    "print(nab_xi)\n",
    "nab_xi.display()"
   ]
  },
  {
   "cell_type": "markdown",
   "metadata": {},
   "source": [
    "<p>Let us check that the Killing equation is satisfied:</p>"
   ]
  },
  {
   "cell_type": "code",
   "execution_count": 23,
   "metadata": {},
   "outputs": [
    {
     "data": {
      "text/html": [
       "<html>\\[\\newcommand{\\Bold}[1]{\\mathbf{#1}}\\mathrm{True}\\]</html>"
      ],
      "text/latex": [
       "$$\\newcommand{\\Bold}[1]{\\mathbf{#1}}\\mathrm{True}$$"
      ],
      "text/plain": [
       "True"
      ]
     },
     "execution_count": 23,
     "metadata": {},
     "output_type": "execute_result"
    }
   ],
   "source": [
    "nab_xi.symmetrize() == 0"
   ]
  },
  {
   "cell_type": "markdown",
   "metadata": {},
   "source": [
    "<p>Similarly, let us check that $\\frac{\\partial}{\\partial\\phi}$ is a Killing vector:</p>"
   ]
  },
  {
   "cell_type": "code",
   "execution_count": 24,
   "metadata": {},
   "outputs": [
    {
     "data": {
      "text/html": [
       "<html>\\[\\newcommand{\\Bold}[1]{\\mathbf{#1}}\\frac{\\partial}{\\partial {\\phi} }\\]</html>"
      ],
      "text/latex": [
       "$$\\newcommand{\\Bold}[1]{\\mathbf{#1}}\\frac{\\partial}{\\partial {\\phi} }$$"
      ],
      "text/plain": [
       "Vector field ∂/∂ph on the 4-dimensional Lorentzian manifold M"
      ]
     },
     "execution_count": 24,
     "metadata": {},
     "output_type": "execute_result"
    }
   ],
   "source": [
    "chi = BL.frame()[3]\n",
    "chi"
   ]
  },
  {
   "cell_type": "code",
   "execution_count": 25,
   "metadata": {},
   "outputs": [
    {
     "data": {
      "text/html": [
       "<html>\\[\\newcommand{\\Bold}[1]{\\mathbf{#1}}\\mathrm{True}\\]</html>"
      ],
      "text/latex": [
       "$$\\newcommand{\\Bold}[1]{\\mathbf{#1}}\\mathrm{True}$$"
      ],
      "text/plain": [
       "True"
      ]
     },
     "execution_count": 25,
     "metadata": {},
     "output_type": "execute_result"
    }
   ],
   "source": [
    "nabla(chi.down(g)).symmetrize() == 0"
   ]
  },
  {
   "cell_type": "markdown",
   "metadata": {},
   "source": [
    "<h2>Curvature</h2>\n",
    "\n",
    "<p>The Ricci tensor associated with $g$:</p>"
   ]
  },
  {
   "cell_type": "code",
   "execution_count": 26,
   "metadata": {},
   "outputs": [
    {
     "name": "stdout",
     "output_type": "stream",
     "text": [
      "Field of symmetric bilinear forms Ric(g) on the 4-dimensional Lorentzian manifold M\n"
     ]
    }
   ],
   "source": [
    "Ric = g.ricci()\n",
    "print(Ric)"
   ]
  },
  {
   "cell_type": "markdown",
   "metadata": {},
   "source": [
    "Let us check that the Kerr metric is a solution of the **vacuum Einstein equation**:"
   ]
  },
  {
   "cell_type": "code",
   "execution_count": 27,
   "metadata": {},
   "outputs": [
    {
     "data": {
      "text/html": [
       "<html>\\[\\newcommand{\\Bold}[1]{\\mathbf{#1}}\\mathrm{True}\\]</html>"
      ],
      "text/latex": [
       "$$\\newcommand{\\Bold}[1]{\\mathbf{#1}}\\mathrm{True}$$"
      ],
      "text/plain": [
       "True"
      ]
     },
     "execution_count": 27,
     "metadata": {},
     "output_type": "execute_result"
    }
   ],
   "source": [
    "Ric == 0"
   ]
  },
  {
   "cell_type": "markdown",
   "metadata": {},
   "source": [
    "<p>Another view of the above property:</p>"
   ]
  },
  {
   "cell_type": "code",
   "execution_count": 28,
   "metadata": {},
   "outputs": [
    {
     "data": {
      "text/html": [
       "<html>\\[\\newcommand{\\Bold}[1]{\\mathbf{#1}}\\mathrm{Ric}\\left(g\\right) = 0\\]</html>"
      ],
      "text/latex": [
       "$$\\newcommand{\\Bold}[1]{\\mathbf{#1}}\\mathrm{Ric}\\left(g\\right) = 0$$"
      ],
      "text/plain": [
       "Ric(g) = 0"
      ]
     },
     "execution_count": 28,
     "metadata": {},
     "output_type": "execute_result"
    }
   ],
   "source": [
    "Ric.display()"
   ]
  },
  {
   "cell_type": "markdown",
   "metadata": {},
   "source": [
    "<p>The Riemann curvature tensor associated with $g$:</p>"
   ]
  },
  {
   "cell_type": "code",
   "execution_count": 29,
   "metadata": {},
   "outputs": [
    {
     "name": "stdout",
     "output_type": "stream",
     "text": [
      "Tensor field Riem(g) of type (1,3) on the 4-dimensional Lorentzian manifold M\n"
     ]
    }
   ],
   "source": [
    "R = g.riemann()\n",
    "print(R)"
   ]
  },
  {
   "cell_type": "markdown",
   "metadata": {},
   "source": [
    "<p>Contrary to the Ricci tensor, the Riemann tensor does not vanish; for instance, the component $R^0_{\\ \\, 123}$ is</p>"
   ]
  },
  {
   "cell_type": "code",
   "execution_count": 30,
   "metadata": {},
   "outputs": [
    {
     "data": {
      "text/html": [
       "<html>\\[\\newcommand{\\Bold}[1]{\\mathbf{#1}}-\\frac{{\\left({\\left(a^{7} m - 2 \\, a^{5} m^{2} r + a^{5} m r^{2}\\right)} \\cos\\left({\\theta}\\right)^{5} - {\\left(3 \\, a^{7} m - 2 \\, a^{5} m^{2} r + 8 \\, a^{5} m r^{2} - 6 \\, a^{3} m^{2} r^{3} + 5 \\, a^{3} m r^{4}\\right)} \\cos\\left({\\theta}\\right)^{3} + 3 \\, {\\left(3 \\, a^{5} m r^{2} - 2 \\, a^{3} m^{2} r^{3} + 5 \\, a^{3} m r^{4} + 2 \\, a m r^{6}\\right)} \\cos\\left({\\theta}\\right)\\right)} \\sin\\left({\\theta}\\right)}{a^{2} r^{6} - 2 \\, m r^{7} + r^{8} + {\\left(a^{8} - 2 \\, a^{6} m r + a^{6} r^{2}\\right)} \\cos\\left({\\theta}\\right)^{6} + 3 \\, {\\left(a^{6} r^{2} - 2 \\, a^{4} m r^{3} + a^{4} r^{4}\\right)} \\cos\\left({\\theta}\\right)^{4} + 3 \\, {\\left(a^{4} r^{4} - 2 \\, a^{2} m r^{5} + a^{2} r^{6}\\right)} \\cos\\left({\\theta}\\right)^{2}}\\]</html>"
      ],
      "text/latex": [
       "$$\\newcommand{\\Bold}[1]{\\mathbf{#1}}-\\frac{{\\left({\\left(a^{7} m - 2 \\, a^{5} m^{2} r + a^{5} m r^{2}\\right)} \\cos\\left({\\theta}\\right)^{5} - {\\left(3 \\, a^{7} m - 2 \\, a^{5} m^{2} r + 8 \\, a^{5} m r^{2} - 6 \\, a^{3} m^{2} r^{3} + 5 \\, a^{3} m r^{4}\\right)} \\cos\\left({\\theta}\\right)^{3} + 3 \\, {\\left(3 \\, a^{5} m r^{2} - 2 \\, a^{3} m^{2} r^{3} + 5 \\, a^{3} m r^{4} + 2 \\, a m r^{6}\\right)} \\cos\\left({\\theta}\\right)\\right)} \\sin\\left({\\theta}\\right)}{a^{2} r^{6} - 2 \\, m r^{7} + r^{8} + {\\left(a^{8} - 2 \\, a^{6} m r + a^{6} r^{2}\\right)} \\cos\\left({\\theta}\\right)^{6} + 3 \\, {\\left(a^{6} r^{2} - 2 \\, a^{4} m r^{3} + a^{4} r^{4}\\right)} \\cos\\left({\\theta}\\right)^{4} + 3 \\, {\\left(a^{4} r^{4} - 2 \\, a^{2} m r^{5} + a^{2} r^{6}\\right)} \\cos\\left({\\theta}\\right)^{2}}$$"
      ],
      "text/plain": [
       "-((a^7*m - 2*a^5*m^2*r + a^5*m*r^2)*cos(th)^5 - (3*a^7*m - 2*a^5*m^2*r + 8*a^5*m*r^2 - 6*a^3*m^2*r^3 + 5*a^3*m*r^4)*cos(th)^3 + 3*(3*a^5*m*r^2 - 2*a^3*m^2*r^3 + 5*a^3*m*r^4 + 2*a*m*r^6)*cos(th))*sin(th)/(a^2*r^6 - 2*m*r^7 + r^8 + (a^8 - 2*a^6*m*r + a^6*r^2)*cos(th)^6 + 3*(a^6*r^2 - 2*a^4*m*r^3 + a^4*r^4)*cos(th)^4 + 3*(a^4*r^4 - 2*a^2*m*r^5 + a^2*r^6)*cos(th)^2)"
      ]
     },
     "execution_count": 30,
     "metadata": {},
     "output_type": "execute_result"
    }
   ],
   "source": [
    "R[0,1,2,3]"
   ]
  },
  {
   "cell_type": "markdown",
   "metadata": {},
   "source": [
    "<h3>Bianchi identity</h3>\n",
    "\n",
    "<p>Let us check the Bianchi identity $\\nabla_p R^i_{\\ \\, j kl} + \\nabla_k R^i_{\\ \\, jlp} + \\nabla_l R^i_{\\ \\, jpk} = 0$:</p>"
   ]
  },
  {
   "cell_type": "code",
   "execution_count": 31,
   "metadata": {},
   "outputs": [
    {
     "name": "stdout",
     "output_type": "stream",
     "text": [
      "Tensor field nabla_g(Riem(g)) of type (1,4) on the 4-dimensional Lorentzian manifold M\n"
     ]
    }
   ],
   "source": [
    "DR = nabla(R)   # long (takes a while)\n",
    "print(DR)"
   ]
  },
  {
   "cell_type": "code",
   "execution_count": 32,
   "metadata": {},
   "outputs": [
    {
     "name": "stdout",
     "output_type": "stream",
     "text": [
      "0 0 0 0 0 0 0 0 0 0 0 0 0 0 0 0 0 0 0 0 0 0 0 0 0 0 0 0 0 0 0 0 0 0 0 0 0 0 0 0 0 0 0 0 0 0 0 0 0 0 0 0 0 0 0 0 0 0 0 0 0 0 0 0 0 0 0 0 0 0 0 0 0 0 0 0 0 0 0 0 0 0 0 0 0 0 0 0 0 0 0 0 0 0 0 0 0 0 0 0 0 0 0 0 0 0 0 0 0 0 0 0 0 0 0 0 0 0 0 0 0 0 0 0 0 0 0 0 0 0 0 0 0 0 0 0 0 0 0 0 0 0 0 0 0 0 0 0 0 0 0 0 0 0 0 0 0 0 0 0 0 0 0 0 0 0 0 0 0 0 0 0 0 0 0 0 0 0 0 0 0 0 0 0 0 0 0 0 0 0 0 0 0 0 0 0 0 0 0 0 0 0 0 0 0 0 0 0 0 0 0 0 0 0 0 0 0 0 0 0 0 0 0 0 0 0 0 0 0 0 0 0 0 0 0 0 0 0 0 0 0 0 0 0 0 0 0 0 0 0 0 0 0 0 0 0 0 0 0 0 0 0 0 0 0 0 0 0 0 0 0 0 0 0 0 0 0 0 0 0 0 0 0 0 0 0 0 0 0 0 0 0 0 0 0 0 0 0 0 0 0 0 0 0 0 0 0 0 0 0 0 0 0 0 0 0 0 0 0 0 0 0 0 0 0 0 0 0 0 0 0 0 0 0 0 0 0 0 0 0 0 0 0 0 0 0 0 0 0 0 0 0 0 0 0 0 0 0 0 0 0 0 0 0 0 0 0 0 0 0 0 0 0 0 0 0 0 0 0 0 0 0 0 0 0 0 0 0 0 0 0 0 0 0 0 0 0 0 0 0 0 0 0 0 0 0 0 0 0 0 0 0 0 0 0 0 0 0 0 0 0 0 0 0 0 0 0 0 0 0 0 0 0 0 0 0 0 0 0 0 0 0 0 0 0 0 0 0 0 0 0 0 0 0 0 0 0 0 0 0 0 0 0 0 0 0 0 0 0 0 0 0 0 0 0 0 0 0 0 0 0 0 0 0 0 0 0 0 0 0 0 0 0 0 0 0 0 0 0 0 0 0 0 0 0 0 0 0 0 0 0 0 0 0 0 0 0 0 0 0 0 0 0 0 0 0 0 0 0 0 0 0 0 0 0 0 0 0 0 0 0 0 0 0 0 0 0 0 0 0 0 0 0 0 0 0 0 0 0 0 0 0 0 0 0 0 0 0 0 0 0 0 0 0 0 0 0 0 0 0 0 0 0 0 0 0 0 0 0 0 0 0 0 0 0 0 0 0 0 0 0 0 0 0 0 0 0 0 0 0 0 0 0 0 0 0 0 0 0 0 0 0 0 0 0 0 0 0 0 0 0 0 0 0 0 0 0 0 0 0 0 0 0 0 0 0 0 0 0 0 0 0 0 0 0 0 0 0 0 0 0 0 0 0 0 0 0 0 0 0 0 0 0 0 0 0 0 0 0 0 0 0 0 0 0 0 0 0 0 0 0 0 0 0 0 0 0 0 0 0 0 0 0 0 0 0 0 0 0 0 0 0 0 0 0 0 0 0 0 0 0 0 0 0 0 0 0 0 0 0 0 0 0 0 0 0 0 0 0 0 0 0 0 0 0 0 0 0 0 0 0 0 0 0 0 0 0 0 0 0 0 0 0 0 0 0 0 0 0 0 0 0 0 0 0 0 0 0 0 0 0 0 0 0 0 0 0 0 0 0 0 0 0 0 0 0 0 0 0 0 0 0 0 0 0 0 0 0 0 0 0 0 0 0 0 0 0 0 0 0 0 0 0 0 0 0 0 0 0 0 0 0 0 0 0 0 0 0 0 0 0 0 0 0 0 0 0 0 0 0 0 0 0 0 0 0 0 0 0 0 0 0 0 0 0 0 0 0 0 0 0 0 0 0 0 0 0 0 0 0 0 0 0 0 0 0 0 0 0 0 0 0 0 0 0 0 0 0 0 0 0 0 0 0 0 0 0 0 0 0 0 0 0 0 0 0 0 0 0 0 0 0 0 0 0 0 0 0 0 0 0 0 0 0 0 0 0 0 0 0 0 0 0 0 0 0 0 0 0 0 0 0 0 0 0 0 0 0 0 0 0 0 0 0 0 0 0 0 0 0 0 0 0 0 0 0 0 0 0 0 0 0 0 0 0 0 0 0 0 0 0 0 0 0 0 0 0 0 0 0 0 0 0 0 0 0 0 0 0 0 0 0 0 0 0 0 0 0 0 0 0 0 0 0 "
     ]
    }
   ],
   "source": [
    "# from __future__ import print_function  # uncomment for SageMath version < 9.0 (Python 2 based)\n",
    "for i in M.irange():\n",
    "    for j in M.irange():\n",
    "        for k in M.irange():\n",
    "            for l in M.irange():\n",
    "                for p in M.irange():\n",
    "                    print(DR[i,j,k,l,p] + DR[i,j,l,p,k] + DR[i,j,p,k,l], end=' ')"
   ]
  },
  {
   "cell_type": "markdown",
   "metadata": {},
   "source": [
    "<p>If the last sign in the Bianchi identity is changed to minus, the identity does no longer hold:</p>"
   ]
  },
  {
   "cell_type": "code",
   "execution_count": 33,
   "metadata": {},
   "outputs": [
    {
     "data": {
      "text/html": [
       "<html>\\[\\newcommand{\\Bold}[1]{\\mathbf{#1}}0\\]</html>"
      ],
      "text/latex": [
       "$$\\newcommand{\\Bold}[1]{\\mathbf{#1}}0$$"
      ],
      "text/plain": [
       "0"
      ]
     },
     "execution_count": 33,
     "metadata": {},
     "output_type": "execute_result"
    }
   ],
   "source": [
    "DR[0,1,2,3,1] + DR[0,1,3,1,2] + DR[0,1,1,2,3] # should be zero (Bianchi identity)"
   ]
  },
  {
   "cell_type": "code",
   "execution_count": 34,
   "metadata": {},
   "outputs": [
    {
     "data": {
      "text/html": [
       "<html>\\[\\newcommand{\\Bold}[1]{\\mathbf{#1}}\\frac{24 \\, {\\left({\\left(a^{5} m r + a^{3} m r^{3}\\right)} \\cos\\left({\\theta}\\right) \\sin\\left({\\theta}\\right)^{3} - {\\left(a^{5} m r - a m r^{5}\\right)} \\cos\\left({\\theta}\\right) \\sin\\left({\\theta}\\right)\\right)}}{a^{2} r^{6} - 2 \\, m r^{7} + r^{8} + {\\left(a^{8} - 2 \\, a^{6} m r + a^{6} r^{2}\\right)} \\cos\\left({\\theta}\\right)^{6} + 3 \\, {\\left(a^{6} r^{2} - 2 \\, a^{4} m r^{3} + a^{4} r^{4}\\right)} \\cos\\left({\\theta}\\right)^{4} + 3 \\, {\\left(a^{4} r^{4} - 2 \\, a^{2} m r^{5} + a^{2} r^{6}\\right)} \\cos\\left({\\theta}\\right)^{2}}\\]</html>"
      ],
      "text/latex": [
       "$$\\newcommand{\\Bold}[1]{\\mathbf{#1}}\\frac{24 \\, {\\left({\\left(a^{5} m r + a^{3} m r^{3}\\right)} \\cos\\left({\\theta}\\right) \\sin\\left({\\theta}\\right)^{3} - {\\left(a^{5} m r - a m r^{5}\\right)} \\cos\\left({\\theta}\\right) \\sin\\left({\\theta}\\right)\\right)}}{a^{2} r^{6} - 2 \\, m r^{7} + r^{8} + {\\left(a^{8} - 2 \\, a^{6} m r + a^{6} r^{2}\\right)} \\cos\\left({\\theta}\\right)^{6} + 3 \\, {\\left(a^{6} r^{2} - 2 \\, a^{4} m r^{3} + a^{4} r^{4}\\right)} \\cos\\left({\\theta}\\right)^{4} + 3 \\, {\\left(a^{4} r^{4} - 2 \\, a^{2} m r^{5} + a^{2} r^{6}\\right)} \\cos\\left({\\theta}\\right)^{2}}$$"
      ],
      "text/plain": [
       "24*((a^5*m*r + a^3*m*r^3)*cos(th)*sin(th)^3 - (a^5*m*r - a*m*r^5)*cos(th)*sin(th))/(a^2*r^6 - 2*m*r^7 + r^8 + (a^8 - 2*a^6*m*r + a^6*r^2)*cos(th)^6 + 3*(a^6*r^2 - 2*a^4*m*r^3 + a^4*r^4)*cos(th)^4 + 3*(a^4*r^4 - 2*a^2*m*r^5 + a^2*r^6)*cos(th)^2)"
      ]
     },
     "execution_count": 34,
     "metadata": {},
     "output_type": "execute_result"
    }
   ],
   "source": [
    "DR[0,1,2,3,1] + DR[0,1,3,1,2] - DR[0,1,1,2,3] # note the change of the second + to -"
   ]
  },
  {
   "cell_type": "markdown",
   "metadata": {},
   "source": [
    "### Kretschmann scalar\n",
    "\n",
    "The tensor $R^\\flat$, of components $R_{abcd} = g_{am} R^m_{\\ \\, bcd}$:"
   ]
  },
  {
   "cell_type": "code",
   "execution_count": 35,
   "metadata": {},
   "outputs": [
    {
     "name": "stdout",
     "output_type": "stream",
     "text": [
      "Tensor field of type (0,4) on the 4-dimensional Lorentzian manifold M\n"
     ]
    }
   ],
   "source": [
    "dR = R.down(g)\n",
    "print(dR)"
   ]
  },
  {
   "cell_type": "markdown",
   "metadata": {},
   "source": [
    "The tensor $R^\\sharp$, of components $R^{abcd} = g^{bp} g^{cq} g^{dr} R^a_{\\ \\, pqr}$:"
   ]
  },
  {
   "cell_type": "code",
   "execution_count": 36,
   "metadata": {},
   "outputs": [
    {
     "name": "stdout",
     "output_type": "stream",
     "text": [
      "Tensor field of type (4,0) on the 4-dimensional Lorentzian manifold M\n"
     ]
    }
   ],
   "source": [
    "uR = R.up(g)\n",
    "print(uR)"
   ]
  },
  {
   "cell_type": "markdown",
   "metadata": {},
   "source": [
    "The Kretschmann scalar $K := R^{abcd} R_{abcd}$:"
   ]
  },
  {
   "cell_type": "code",
   "execution_count": 37,
   "metadata": {},
   "outputs": [
    {
     "data": {
      "text/html": [
       "<html>\\[\\newcommand{\\Bold}[1]{\\mathbf{#1}}\\begin{array}{llcl} & \\mathcal{M} & \\longrightarrow & \\mathbb{R} \\\\ & \\left(t, r, {\\theta}, {\\phi}\\right) & \\longmapsto & -\\frac{48 \\, {\\left(a^{6} m^{2} \\cos\\left({\\theta}\\right)^{6} - 15 \\, a^{4} m^{2} r^{2} \\cos\\left({\\theta}\\right)^{4} + 15 \\, a^{2} m^{2} r^{4} \\cos\\left({\\theta}\\right)^{2} - m^{2} r^{6}\\right)}}{a^{12} \\cos\\left({\\theta}\\right)^{12} + 6 \\, a^{10} r^{2} \\cos\\left({\\theta}\\right)^{10} + 15 \\, a^{8} r^{4} \\cos\\left({\\theta}\\right)^{8} + 20 \\, a^{6} r^{6} \\cos\\left({\\theta}\\right)^{6} + 15 \\, a^{4} r^{8} \\cos\\left({\\theta}\\right)^{4} + 6 \\, a^{2} r^{10} \\cos\\left({\\theta}\\right)^{2} + r^{12}} \\end{array}\\]</html>"
      ],
      "text/latex": [
       "$$\\newcommand{\\Bold}[1]{\\mathbf{#1}}\\begin{array}{llcl} & \\mathcal{M} & \\longrightarrow & \\mathbb{R} \\\\ & \\left(t, r, {\\theta}, {\\phi}\\right) & \\longmapsto & -\\frac{48 \\, {\\left(a^{6} m^{2} \\cos\\left({\\theta}\\right)^{6} - 15 \\, a^{4} m^{2} r^{2} \\cos\\left({\\theta}\\right)^{4} + 15 \\, a^{2} m^{2} r^{4} \\cos\\left({\\theta}\\right)^{2} - m^{2} r^{6}\\right)}}{a^{12} \\cos\\left({\\theta}\\right)^{12} + 6 \\, a^{10} r^{2} \\cos\\left({\\theta}\\right)^{10} + 15 \\, a^{8} r^{4} \\cos\\left({\\theta}\\right)^{8} + 20 \\, a^{6} r^{6} \\cos\\left({\\theta}\\right)^{6} + 15 \\, a^{4} r^{8} \\cos\\left({\\theta}\\right)^{4} + 6 \\, a^{2} r^{10} \\cos\\left({\\theta}\\right)^{2} + r^{12}} \\end{array}$$"
      ],
      "text/plain": [
       "M → ℝ\n",
       "(t, r, th, ph) ↦ -48*(a^6*m^2*cos(th)^6 - 15*a^4*m^2*r^2*cos(th)^4 + 15*a^2*m^2*r^4*cos(th)^2 - m^2*r^6)/(a^12*cos(th)^12 + 6*a^10*r^2*cos(th)^10 + 15*a^8*r^4*cos(th)^8 + 20*a^6*r^6*cos(th)^6 + 15*a^4*r^8*cos(th)^4 + 6*a^2*r^10*cos(th)^2 + r^12)"
      ]
     },
     "execution_count": 37,
     "metadata": {},
     "output_type": "execute_result"
    }
   ],
   "source": [
    "Kr_scalar = uR['^{abcd}']*dR['_{abcd}']\n",
    "Kr_scalar.display()"
   ]
  },
  {
   "cell_type": "markdown",
   "metadata": {},
   "source": [
    "A variant of this expression can be obtained by invoking the `factor()` method on the coordinate function representing the scalar field in the manifold's default chart:"
   ]
  },
  {
   "cell_type": "code",
   "execution_count": 38,
   "metadata": {},
   "outputs": [
    {
     "data": {
      "text/html": [
       "<html>\\[\\newcommand{\\Bold}[1]{\\mathbf{#1}}-\\frac{48 \\, {\\left(a^{2} \\cos\\left({\\theta}\\right)^{2} + 4 \\, a r \\cos\\left({\\theta}\\right) + r^{2}\\right)} {\\left(a^{2} \\cos\\left({\\theta}\\right)^{2} - 4 \\, a r \\cos\\left({\\theta}\\right) + r^{2}\\right)} {\\left(a \\cos\\left({\\theta}\\right) + r\\right)} {\\left(a \\cos\\left({\\theta}\\right) - r\\right)} m^{2}}{{\\left(a^{2} \\cos\\left({\\theta}\\right)^{2} + r^{2}\\right)}^{6}}\\]</html>"
      ],
      "text/latex": [
       "$$\\newcommand{\\Bold}[1]{\\mathbf{#1}}-\\frac{48 \\, {\\left(a^{2} \\cos\\left({\\theta}\\right)^{2} + 4 \\, a r \\cos\\left({\\theta}\\right) + r^{2}\\right)} {\\left(a^{2} \\cos\\left({\\theta}\\right)^{2} - 4 \\, a r \\cos\\left({\\theta}\\right) + r^{2}\\right)} {\\left(a \\cos\\left({\\theta}\\right) + r\\right)} {\\left(a \\cos\\left({\\theta}\\right) - r\\right)} m^{2}}{{\\left(a^{2} \\cos\\left({\\theta}\\right)^{2} + r^{2}\\right)}^{6}}$$"
      ],
      "text/plain": [
       "-48*(a^2*cos(th)^2 + 4*a*r*cos(th) + r^2)*(a^2*cos(th)^2 - 4*a*r*cos(th) + r^2)*(a*cos(th) + r)*(a*cos(th) - r)*m^2/(a^2*cos(th)^2 + r^2)^6"
      ]
     },
     "execution_count": 38,
     "metadata": {},
     "output_type": "execute_result"
    }
   ],
   "source": [
    "Kr = Kr_scalar.coord_function()\n",
    "Kr.factor()"
   ]
  },
  {
   "cell_type": "markdown",
   "metadata": {},
   "source": [
    "<p>As a check, we can compare Kr to the formula given by R. Conn Henry, <a href=\"http://iopscience.iop.org/0004-637X/535/1/350/fulltext/\">Astrophys. J. <strong>535</strong>, 350 (2000)</a>:</p>"
   ]
  },
  {
   "cell_type": "code",
   "execution_count": 39,
   "metadata": {},
   "outputs": [
    {
     "data": {
      "text/html": [
       "<html>\\[\\newcommand{\\Bold}[1]{\\mathbf{#1}}\\mathrm{True}\\]</html>"
      ],
      "text/latex": [
       "$$\\newcommand{\\Bold}[1]{\\mathbf{#1}}\\mathrm{True}$$"
      ],
      "text/plain": [
       "True"
      ]
     },
     "execution_count": 39,
     "metadata": {},
     "output_type": "execute_result"
    }
   ],
   "source": [
    "Kr == 48*m^2*(r^6 - 15*r^4*(a*cos(th))^2 + 15*r^2*(a*cos(th))^4 \n",
    "              - (a*cos(th))^6) / (r^2+(a*cos(th))^2)^6"
   ]
  },
  {
   "cell_type": "markdown",
   "metadata": {},
   "source": [
    "<p>The Schwarzschild value of the Kretschmann scalar is recovered by setting $a=0$:</p>"
   ]
  },
  {
   "cell_type": "code",
   "execution_count": 40,
   "metadata": {},
   "outputs": [
    {
     "data": {
      "text/html": [
       "<html>\\[\\newcommand{\\Bold}[1]{\\mathbf{#1}}\\frac{48 \\, m^{2}}{r^{6}}\\]</html>"
      ],
      "text/latex": [
       "$$\\newcommand{\\Bold}[1]{\\mathbf{#1}}\\frac{48 \\, m^{2}}{r^{6}}$$"
      ],
      "text/plain": [
       "48*m^2/r^6"
      ]
     },
     "execution_count": 40,
     "metadata": {},
     "output_type": "execute_result"
    }
   ],
   "source": [
    "Kr.expr().subs(a=0)"
   ]
  },
  {
   "cell_type": "markdown",
   "metadata": {},
   "source": [
    "<p>Let us plot the Kretschmann scalar for $m=1$ and  $a=0.9$:</p>"
   ]
  },
  {
   "cell_type": "code",
   "execution_count": 41,
   "metadata": {},
   "outputs": [
    {
     "data": {
      "text/html": [
       "\n",
       "<iframe srcdoc=\"<!DOCTYPE html>\n",
       "<html>\n",
       "<head>\n",
       "<title></title>\n",
       "<meta charset=&quot;utf-8&quot;>\n",
       "<meta name=viewport content=&quot;width=device-width, user-scalable=no, minimum-scale=1.0, maximum-scale=1.0&quot;>\n",
       "<style>\n",
       "\n",
       "    body { margin: 0px; overflow: hidden; }\n",
       "\n",
       "    #menu-container { position: absolute; bottom: 30px; right: 40px; cursor: default; }\n",
       "\n",
       "    #menu-message { position: absolute; bottom: 0px; right: 0px; white-space: nowrap;\n",
       "                    display: none; background-color: #F5F5F5; padding: 10px; }\n",
       "\n",
       "    #menu-content { position: absolute; bottom: 0px; right: 0px;\n",
       "                    display: none; background-color: #F5F5F5; border-bottom: 1px solid black;\n",
       "                    border-right: 1px solid black; border-left: 1px solid black; }\n",
       "\n",
       "    #menu-content div { border-top: 1px solid black; padding: 10px; white-space: nowrap; }\n",
       "\n",
       "    #menu-content div:hover { background-color: #FEFEFE; }\n",
       "\n",
       "    .dark-theme #menu-container { color: white; }\n",
       "\n",
       "    .dark-theme #menu-message { background-color: #181818; }\n",
       "\n",
       "    .dark-theme #menu-content { background-color: #181818; border-color: white; }\n",
       "\n",
       "    .dark-theme #menu-content div { border-color: white; }\n",
       "\n",
       "    .dark-theme #menu-content div:hover { background-color: #303030; }\n",
       "\n",
       "</style>\n",
       "\n",
       "</head>\n",
       "\n",
       "<body>\n",
       "\n",
       "<script src=&quot;/nbextensions/threejs-sage/r122/three.min.js&quot;></script>\n",
       "<script>\n",
       "  if ( !window.THREE ) document.write(' \\\n",
       "<script src=&quot;https://cdn.jsdelivr.net/gh/sagemath/threejs-sage@r122/build/three.min.js&quot;><\\/script> \\\n",
       "            ');\n",
       "</script>\n",
       "        \n",
       "<script>\n",
       "\n",
       "    var options = {&quot;animate&quot;: false, &quot;animationControls&quot;: true, &quot;aspectRatio&quot;: [1.0, 1.0, 1.0], &quot;autoPlay&quot;: true, &quot;axes&quot;: false, &quot;axesLabels&quot;: [&quot;r&quot;, &quot;theta&quot;, &quot;Kr&quot;], &quot;axesLabelsStyle&quot;: null, &quot;decimals&quot;: 2, &quot;delay&quot;: 20, &quot;frame&quot;: true, &quot;loop&quot;: true, &quot;projection&quot;: &quot;perspective&quot;, &quot;theme&quot;: &quot;light&quot;, &quot;viewpoint&quot;: false};\n",
       "    var animate = options.animate;\n",
       "\n",
       "    if ( options.theme === 'dark' )\n",
       "        document.body.className = 'dark-theme';\n",
       "\n",
       "    var scene = new THREE.Scene();\n",
       "\n",
       "    var renderer = new THREE.WebGLRenderer( { antialias: true, preserveDrawingBuffer: true } );\n",
       "    renderer.setPixelRatio( window.devicePixelRatio );\n",
       "    renderer.setSize( window.innerWidth, window.innerHeight );\n",
       "    renderer.setClearColor( options.theme === 'dark' ? 0 : 0xffffff, 1 );\n",
       "    document.body.appendChild( renderer.domElement );\n",
       "\n",
       "    var b = [{&quot;x&quot;:1.0, &quot;y&quot;:0.0, &quot;z&quot;:-22.806160173196503}, {&quot;x&quot;:3.0, &quot;y&quot;:3.141592653589793, &quot;z&quot;:46.68658459974577}]; // bounds\n",
       "\n",
       "    if ( b[0].x === b[1].x ) {\n",
       "        b[0].x -= 1;\n",
       "        b[1].x += 1;\n",
       "    }\n",
       "    if ( b[0].y === b[1].y ) {\n",
       "        b[0].y -= 1;\n",
       "        b[1].y += 1;\n",
       "    }\n",
       "    if ( b[0].z === b[1].z ) {\n",
       "        b[0].z -= 1;\n",
       "        b[1].z += 1;\n",
       "    }\n",
       "\n",
       "    var rRange = Math.sqrt( Math.pow( b[1].x - b[0].x, 2 )\n",
       "                            + Math.pow( b[1].y - b[0].y, 2 ) );\n",
       "    var xRange = b[1].x - b[0].x;\n",
       "    var yRange = b[1].y - b[0].y;\n",
       "    var zRange = b[1].z - b[0].z;\n",
       "\n",
       "    var ar = options.aspectRatio;\n",
       "    var a = [ ar[0], ar[1], ar[2] ]; // aspect multipliers\n",
       "    var autoAspect = 2.5;\n",
       "    if ( zRange > autoAspect * rRange && a[2] === 1 ) a[2] = autoAspect * rRange / zRange;\n",
       "\n",
       "    // Distance from (xMid,yMid,zMid) to any corner of the bounding box, after applying aspectRatio\n",
       "    var midToCorner = Math.sqrt( a[0]*a[0]*xRange*xRange + a[1]*a[1]*yRange*yRange + a[2]*a[2]*zRange*zRange ) / 2;\n",
       "\n",
       "    var xMid = ( b[0].x + b[1].x ) / 2;\n",
       "    var yMid = ( b[0].y + b[1].y ) / 2;\n",
       "    var zMid = ( b[0].z + b[1].z ) / 2;\n",
       "\n",
       "    var box = new THREE.Geometry();\n",
       "    box.vertices.push( new THREE.Vector3( a[0]*b[0].x, a[1]*b[0].y, a[2]*b[0].z ) );\n",
       "    box.vertices.push( new THREE.Vector3( a[0]*b[1].x, a[1]*b[1].y, a[2]*b[1].z ) );\n",
       "    var boxMesh = new THREE.Line( box );\n",
       "    var boxColor = options.theme === 'dark' ? 'white' : 'black';\n",
       "    if ( options.frame ) scene.add( new THREE.BoxHelper( boxMesh, boxColor ) );\n",
       "\n",
       "    if ( options.axesLabels ) {\n",
       "\n",
       "        var d = options.decimals; // decimals\n",
       "        var offsetRatio = 0.1;\n",
       "        var al = options.axesLabels;\n",
       "        var als = options.axesLabelsStyle || [{}, {}, {}];\n",
       "\n",
       "        var offset = offsetRatio * a[1]*( b[1].y - b[0].y );\n",
       "        var xm = xMid.toFixed(d);\n",
       "        if ( /^-0.?0*$/.test(xm) ) xm = xm.substr(1);\n",
       "        addLabel( al[0] + '=' + xm, a[0]*xMid, a[1]*b[1].y+offset, a[2]*b[0].z, als[0] );\n",
       "        addLabel( ( b[0].x ).toFixed(d), a[0]*b[0].x, a[1]*b[1].y+offset, a[2]*b[0].z, als[0] );\n",
       "        addLabel( ( b[1].x ).toFixed(d), a[0]*b[1].x, a[1]*b[1].y+offset, a[2]*b[0].z, als[0] );\n",
       "\n",
       "        var offset = offsetRatio * a[0]*( b[1].x - b[0].x );\n",
       "        var ym = yMid.toFixed(d);\n",
       "        if ( /^-0.?0*$/.test(ym) ) ym = ym.substr(1);\n",
       "        addLabel( al[1] + '=' + ym, a[0]*b[1].x+offset, a[1]*yMid, a[2]*b[0].z, als[1] );\n",
       "        addLabel( ( b[0].y ).toFixed(d), a[0]*b[1].x+offset, a[1]*b[0].y, a[2]*b[0].z, als[1] );\n",
       "        addLabel( ( b[1].y ).toFixed(d), a[0]*b[1].x+offset, a[1]*b[1].y, a[2]*b[0].z, als[1] );\n",
       "\n",
       "        var offset = offsetRatio * a[1]*( b[1].y - b[0].y );\n",
       "        var zm = zMid.toFixed(d);\n",
       "        if ( /^-0.?0*$/.test(zm) ) zm = zm.substr(1);\n",
       "        addLabel( al[2] + '=' + zm, a[0]*b[1].x, a[1]*b[0].y-offset, a[2]*zMid, als[2] );\n",
       "        addLabel( ( b[0].z ).toFixed(d), a[0]*b[1].x, a[1]*b[0].y-offset, a[2]*b[0].z, als[2] );\n",
       "        addLabel( ( b[1].z ).toFixed(d), a[0]*b[1].x, a[1]*b[0].y-offset, a[2]*b[1].z, als[2] );\n",
       "\n",
       "    }\n",
       "\n",
       "    function addLabel( text, x, y, z, style ) {\n",
       "\n",
       "        var color = style.color || 'black';\n",
       "        var fontSize = style.fontSize || 14;\n",
       "        var fontFamily = style.fontFamily || 'monospace';\n",
       "        var fontStyle = style.fontStyle || 'normal';\n",
       "        var fontWeight = style.fontWeight || 'normal';\n",
       "        var opacity = style.opacity || 1;\n",
       "\n",
       "        if ( options.theme === 'dark' )\n",
       "            if ( color === 'black' || color === '#000000' )\n",
       "                color = 'white';\n",
       "\n",
       "        if ( Array.isArray( fontStyle ) ) {\n",
       "            fontFamily = fontFamily.map( function( f ) {\n",
       "                // Need to put quotes around fonts that have whitespace in their names.\n",
       "                return /\\s/.test( f ) ? '&quot;' + f + '&quot;' : f;\n",
       "            }).join(', ');\n",
       "        }\n",
       "\n",
       "        var canvas = document.createElement( 'canvas' );\n",
       "        var context = canvas.getContext( '2d' );\n",
       "        var pixelRatio = Math.round( window.devicePixelRatio );\n",
       "\n",
       "        // For example: italic bold 20px &quot;Times New Roman&quot;, Georgia, serif\n",
       "        var font = [fontStyle, fontWeight, fontSize + 'px', fontFamily].join(' ');\n",
       "\n",
       "        context.font = font;\n",
       "        var width = context.measureText( text ).width;\n",
       "        var height = fontSize;\n",
       "\n",
       "        // The dimensions of the canvas's underlying image data need to be powers\n",
       "        // of two in order for the resulting texture to support mipmapping.\n",
       "        canvas.width = THREE.MathUtils.ceilPowerOfTwo( width * pixelRatio );\n",
       "        canvas.height = THREE.MathUtils.ceilPowerOfTwo( height * pixelRatio );\n",
       "\n",
       "        // Re-compute the unscaled dimensions after the power of two conversion.\n",
       "        width = canvas.width / pixelRatio;\n",
       "        height = canvas.height / pixelRatio;\n",
       "\n",
       "        canvas.style.width = width + 'px';\n",
       "        canvas.style.height = height + 'px';\n",
       "\n",
       "        context.scale( pixelRatio, pixelRatio );\n",
       "        context.fillStyle = color;\n",
       "        context.font = font; // Must be set again after measureText.\n",
       "        context.textAlign = 'center';\n",
       "        context.textBaseline = 'middle';\n",
       "        context.fillText( text, width/2, height/2 );\n",
       "\n",
       "        var texture = new THREE.Texture( canvas );\n",
       "        texture.needsUpdate = true;\n",
       "\n",
       "        var materialOptions = { map: texture, sizeAttenuation: false, depthWrite: false };\n",
       "        if ( opacity < 1 ) {\n",
       "            // Setting opacity=1 would cause the texture's alpha component to be\n",
       "            // discarded, giving the text a black background instead of the\n",
       "            // background being transparent.\n",
       "            materialOptions.opacity = opacity;\n",
       "        }\n",
       "        var sprite = new THREE.Sprite( new THREE.SpriteMaterial( materialOptions ) );\n",
       "        sprite.position.set( x, y, z );\n",
       "\n",
       "        // Scaling factor, chosen somewhat arbitrarily so that the size of the text\n",
       "        // is consistent with previously generated plots.\n",
       "        var scale = 1/625;\n",
       "        if ( options.projection === 'orthographic' ) {\n",
       "            scale = midToCorner/256; // Needs to scale along with the plot itself.\n",
       "        }\n",
       "        sprite.scale.set( scale * width, scale * height, 1 );\n",
       "\n",
       "        scene.add( sprite );\n",
       "\n",
       "        return sprite;\n",
       "\n",
       "    }\n",
       "\n",
       "    if ( options.axes ) scene.add( new THREE.AxesHelper( Math.min( a[0]*b[1].x, a[1]*b[1].y, a[2]*b[1].z ) ) );\n",
       "\n",
       "    var camera = createCamera();\n",
       "    camera.up.set( 0, 0, 1 );\n",
       "    camera.position.set( a[0]*xMid, a[1]*yMid, a[2]*zMid );\n",
       "\n",
       "    var offset = new THREE.Vector3( a[0]*xRange, a[1]*yRange, a[2]*zRange );\n",
       "\n",
       "    if ( options.viewpoint ) {\n",
       "\n",
       "        var aa = options.viewpoint;\n",
       "        var axis = new THREE.Vector3( aa[0][0], aa[0][1], aa[0][2] ).normalize();\n",
       "        var angle = aa[1] * Math.PI / 180;\n",
       "        var q = new THREE.Quaternion().setFromAxisAngle( axis, angle ).inverse();\n",
       "\n",
       "        offset.set( 0, 0, offset.length() );\n",
       "        offset.applyQuaternion( q );\n",
       "\n",
       "    }\n",
       "\n",
       "    camera.position.add( offset );\n",
       "\n",
       "    function createCamera() {\n",
       "\n",
       "        var aspect = window.innerWidth / window.innerHeight;\n",
       "\n",
       "        // Scale the near and far clipping planes along with the overall plot size.\n",
       "        var nearClip = 0.01 * midToCorner;\n",
       "        var farClip = 100 * midToCorner;\n",
       "\n",
       "        if ( options.projection === 'orthographic' ) {\n",
       "            var camera = new THREE.OrthographicCamera( -1, 1, 1, -1, -farClip, farClip );\n",
       "            updateCameraAspect( camera, aspect );\n",
       "            return camera;\n",
       "        }\n",
       "\n",
       "        return new THREE.PerspectiveCamera( 45, aspect, nearClip, farClip );\n",
       "\n",
       "    }\n",
       "\n",
       "    function updateCameraAspect( camera, aspect ) {\n",
       "\n",
       "        if ( camera.isPerspectiveCamera ) {\n",
       "            camera.aspect = aspect;\n",
       "        } else if ( camera.isOrthographicCamera ) {\n",
       "            // Fit the camera frustum to the bounding box's diagonal so that the entire plot fits\n",
       "            // within at the default zoom level and camera position.\n",
       "            if ( aspect > 1 ) { // Wide window\n",
       "                camera.top = midToCorner;\n",
       "                camera.right = midToCorner * aspect;\n",
       "            } else { // Tall or square window\n",
       "                camera.top = midToCorner / aspect;\n",
       "                camera.right = midToCorner;\n",
       "            }\n",
       "            camera.bottom = -camera.top;\n",
       "            camera.left = -camera.right;\n",
       "        }\n",
       "\n",
       "        camera.updateProjectionMatrix();\n",
       "\n",
       "    }\n",
       "\n",
       "    var lights = [{&quot;x&quot;:-5, &quot;y&quot;:3, &quot;z&quot;:0, &quot;color&quot;:&quot;#7f7f7f&quot;, &quot;parent&quot;:&quot;camera&quot;}];\n",
       "    for ( var i=0 ; i < lights.length ; i++ ) {\n",
       "        var light = new THREE.DirectionalLight( lights[i].color, 1 );\n",
       "        light.position.set( a[0]*lights[i].x, a[1]*lights[i].y, a[2]*lights[i].z );\n",
       "        if ( lights[i].parent === 'camera' ) {\n",
       "            light.target.position.set( a[0]*xMid, a[1]*yMid, a[2]*zMid );\n",
       "            scene.add( light.target );\n",
       "            camera.add( light );\n",
       "        } else scene.add( light );\n",
       "    }\n",
       "    scene.add( camera );\n",
       "\n",
       "    var ambient = {&quot;color&quot;:&quot;#7f7f7f&quot;};\n",
       "    scene.add( new THREE.AmbientLight( ambient.color, 1 ) );\n",
       "\n",
       "    var controls = new THREE.OrbitControls( camera, renderer.domElement );\n",
       "    controls.target.set( a[0]*xMid, a[1]*yMid, a[2]*zMid );\n",
       "    controls.addEventListener( 'change', function() { if ( !animate ) render(); } );\n",
       "\n",
       "    window.addEventListener( 'resize', function() {\n",
       "\n",
       "        renderer.setSize( window.innerWidth, window.innerHeight );\n",
       "        updateCameraAspect( camera, window.innerWidth / window.innerHeight );\n",
       "        if ( window.rescaleFatLines ) rescaleFatLines();\n",
       "        if ( !animate ) render();\n",
       "\n",
       "    } );\n",
       "\n",
       "    var texts = [];\n",
       "    for ( var i=0 ; i < texts.length ; i++ ) addText( texts[i] );\n",
       "\n",
       "    function addText( json ) {\n",
       "        var sprite = addLabel( json.text, a[0]*json.x, a[1]*json.y, a[2]*json.z, json );\n",
       "        sprite.userData = json;\n",
       "    }\n",
       "\n",
       "    var points = [];\n",
       "    for ( var i=0 ; i < points.length ; i++ ) addPoint( points[i] );\n",
       "\n",
       "    function addPoint( json ) {\n",
       "\n",
       "        var geometry = new THREE.Geometry();\n",
       "        var v = json.point;\n",
       "        geometry.vertices.push( new THREE.Vector3( a[0]*v[0], a[1]*v[1], a[2]*v[2] ) );\n",
       "\n",
       "        var canvas = document.createElement( 'canvas' );\n",
       "        canvas.width = 128;\n",
       "        canvas.height = 128;\n",
       "\n",
       "        var context = canvas.getContext( '2d' );\n",
       "        context.arc( 64, 64, 64, 0, 2 * Math.PI );\n",
       "        context.fillStyle = json.color;\n",
       "        context.fill();\n",
       "\n",
       "        var texture = new THREE.Texture( canvas );\n",
       "        texture.needsUpdate = true;\n",
       "\n",
       "        var transparent = json.opacity < 1 ? true : false;\n",
       "        var size = camera.isOrthographicCamera ? json.size : json.size/100;\n",
       "        var material = new THREE.PointsMaterial( { size: size, map: texture,\n",
       "                                                   transparent: transparent, opacity: json.opacity,\n",
       "                                                   alphaTest: .1 } );\n",
       "\n",
       "        var c = new THREE.Vector3();\n",
       "        geometry.computeBoundingBox();\n",
       "        geometry.boundingBox.getCenter( c );\n",
       "        geometry.translate( -c.x, -c.y, -c.z );\n",
       "\n",
       "        var mesh = new THREE.Points( geometry, material );\n",
       "        mesh.position.set( c.x, c.y, c.z );\n",
       "        mesh.userData = json;\n",
       "        scene.add( mesh );\n",
       "\n",
       "    }\n",
       "\n",
       "    var lines = [];\n",
       "    for ( var i=0 ; i < lines.length ; i++ ) addLine( lines[i] );\n",
       "\n",
       "    function addLine( json ) {\n",
       "\n",
       "        var geometry = new THREE.Geometry();\n",
       "        for ( var i=0 ; i < json.points.length ; i++ ) {\n",
       "            var v = json.points[i];\n",
       "            geometry.vertices.push( new THREE.Vector3( a[0]*v[0], a[1]*v[1], a[2]*v[2] ) );\n",
       "        }\n",
       "\n",
       "        var c = new THREE.Vector3();\n",
       "        geometry.computeBoundingBox();\n",
       "        geometry.boundingBox.getCenter( c );\n",
       "        geometry.translate( -c.x, -c.y, -c.z );\n",
       "\n",
       "        var transparent = json.opacity < 1 ? true : false;\n",
       "        var materialOptions = { color: json.color, linewidth: json.linewidth,\n",
       "                                transparent: transparent, opacity: json.opacity };\n",
       "\n",
       "        var mesh;\n",
       "        if ( json.linewidth > 1 && window.createFatLineStrip ) {\n",
       "            mesh = createFatLineStrip( geometry, materialOptions );\n",
       "        } else {\n",
       "            var material = new THREE.LineBasicMaterial( materialOptions );\n",
       "            mesh = new THREE.Line( geometry, material );\n",
       "        }\n",
       "\n",
       "        mesh.position.set( c.x, c.y, c.z );\n",
       "        mesh.userData = json;\n",
       "        scene.add( mesh );\n",
       "\n",
       "    }\n",
       "\n",
       "    var surfaces = [{&quot;vertices&quot;: [{&quot;x&quot;: 1.0, &quot;y&quot;: 0.0, &quot;z&quot;: -2.5117342357302777}, {&quot;x&quot;: 1.0, &quot;y&quot;: 0.08055365778435367, &quot;z&quot;: -2.6087815630333235}, {&quot;x&quot;: 1.0512820512820513, &quot;y&quot;: 0.08055365778435367, &quot;z&quot;: -3.143844027444289}, {&quot;x&quot;: 1.0512820512820513, &quot;y&quot;: 0.0, &quot;z&quot;: -3.059423998342286}, {&quot;x&quot;: 1.0, &quot;y&quot;: 0.16110731556870733, &quot;z&quot;: -2.908105027377803}, {&quot;x&quot;: 1.0512820512820513, &quot;y&quot;: 0.16110731556870733, &quot;z&quot;: -3.4027857692490606}, {&quot;x&quot;: 1.0, &quot;y&quot;: 0.241660973353061, &quot;z&quot;: -3.434410250637761}, {&quot;x&quot;: 1.0512820512820513, &quot;y&quot;: 0.241660973353061, &quot;z&quot;: -3.8531464423210995}, {&quot;x&quot;: 1.0, &quot;y&quot;: 0.32221463113741466, &quot;z&quot;: -4.229099475410555}, {&quot;x&quot;: 1.0512820512820513, &quot;y&quot;: 0.32221463113741466, &quot;z&quot;: -4.522322708374084}, {&quot;x&quot;: 1.0, &quot;y&quot;: 0.4027682889217683, &quot;z&quot;: -5.349389487465951}, {&quot;x&quot;: 1.0512820512820513, &quot;y&quot;: 0.4027682889217683, &quot;z&quot;: -5.446026671733894}, {&quot;x&quot;: 1.0, &quot;y&quot;: 0.48332194670612194, &quot;z&quot;: -6.8641521090982955}, {&quot;x&quot;: 1.0512820512820513, &quot;y&quot;: 0.48332194670612194, &quot;z&quot;: -6.662878924878731}, {&quot;x&quot;: 1.0, &quot;y&quot;: 0.5638756044904756, &quot;z&quot;: -8.842455173822412}, {&quot;x&quot;: 1.0512820512820513, &quot;y&quot;: 0.5638756044904756, &quot;z&quot;: -8.202863435975189}, {&quot;x&quot;: 1.0, &quot;y&quot;: 0.6444292622748292, &quot;z&quot;: -11.328315424681973}, {&quot;x&quot;: 1.0512820512820513, &quot;y&quot;: 0.6444292622748292, &quot;z&quot;: -10.065426587297788}, {&quot;x&quot;: 1.0, &quot;y&quot;: 0.7249829200591829, &quot;z&quot;: -14.292749597968296}, {&quot;x&quot;: 1.0512820512820513, &quot;y&quot;: 0.7249829200591829, &quot;z&quot;: -12.182319476298943}, {&quot;x&quot;: 1.0, &quot;y&quot;: 0.8055365778435365, &quot;z&quot;: -17.554321050942537}, {&quot;x&quot;: 1.0512820512820513, &quot;y&quot;: 0.8055365778435365, &quot;z&quot;: -14.362168770596483}, {&quot;x&quot;: 1.0, &quot;y&quot;: 0.8860902356278901, &quot;z&quot;: -20.66775747586175}, {&quot;x&quot;: 1.0512820512820513, &quot;y&quot;: 0.8860902356278901, &quot;z&quot;: -16.221873901000208}, {&quot;x&quot;: 1.0, &quot;y&quot;: 0.9666438934122438, &quot;z&quot;: -22.8061601731965}, {&quot;x&quot;: 1.0512820512820513, &quot;y&quot;: 0.9666438934122438, &quot;z&quot;: -17.128890082621748}, {&quot;x&quot;: 1.0, &quot;y&quot;: 1.0471975511965974, &quot;z&quot;: -22.713410214210462}, {&quot;x&quot;: 1.0512820512820513, &quot;y&quot;: 1.0471975511965974, &quot;z&quot;: -16.209301502714588}, {&quot;x&quot;: 1.0, &quot;y&quot;: 1.1277512089809512, &quot;z&quot;: -18.86749516969325}, {&quot;x&quot;: 1.0512820512820513, &quot;y&quot;: 1.1277512089809512, &quot;z&quot;: -12.50595220241993}, {&quot;x&quot;: 1.0, &quot;y&quot;: 1.208304866765305, &quot;z&quot;: -10.01129995977585}, {&quot;x&quot;: 1.0512820512820513, &quot;y&quot;: 1.208304866765305, &quot;z&quot;: -5.358590375374966}, {&quot;x&quot;: 1.0, &quot;y&quot;: 1.2888585245496587, &quot;z&quot;: 3.9407528324714978}, {&quot;x&quot;: 1.0512820512820513, &quot;y&quot;: 1.2888585245496587, &quot;z&quot;: 5.033961085014627}, {&quot;x&quot;: 1.0, &quot;y&quot;: 1.3694121823340124, &quot;z&quot;: 20.993101084511082}, {&quot;x&quot;: 1.0512820512820513, &quot;y&quot;: 1.3694121823340124, &quot;z&quot;: 17.130986672660207}, {&quot;x&quot;: 1.0, &quot;y&quot;: 1.4499658401183662, &quot;z&quot;: 36.939937856535344}, {&quot;x&quot;: 1.0512820512820513, &quot;y&quot;: 1.4499658401183662, &quot;z&quot;: 28.094642725138396}, {&quot;x&quot;: 1.0, &quot;y&quot;: 1.53051949790272, &quot;z&quot;: 46.68658459974577}, {&quot;x&quot;: 1.0512820512820513, &quot;y&quot;: 1.53051949790272, &quot;z&quot;: 34.676056691724455}, {&quot;x&quot;: 1.0, &quot;y&quot;: 1.6110731556870737, &quot;z&quot;: 46.68658459974575}, {&quot;x&quot;: 1.0512820512820513, &quot;y&quot;: 1.6110731556870737, &quot;z&quot;: 34.67605669172444}, {&quot;x&quot;: 1.0, &quot;y&quot;: 1.6916268134714274, &quot;z&quot;: 36.93993785653531}, {&quot;x&quot;: 1.0512820512820513, &quot;y&quot;: 1.6916268134714274, &quot;z&quot;: 28.09464272513837}, {&quot;x&quot;: 1.0, &quot;y&quot;: 1.7721804712557812, &quot;z&quot;: 20.993101084510993}, {&quot;x&quot;: 1.0512820512820513, &quot;y&quot;: 1.7721804712557812, &quot;z&quot;: 17.13098667266015}, {&quot;x&quot;: 1.0, &quot;y&quot;: 1.852734129040135, &quot;z&quot;: 3.9407528324714463}, {&quot;x&quot;: 1.0512820512820513, &quot;y&quot;: 1.852734129040135, &quot;z&quot;: 5.033961085014567}, {&quot;x&quot;: 1.0, &quot;y&quot;: 1.9332877868244887, &quot;z&quot;: -10.011299959775904}, {&quot;x&quot;: 1.0512820512820513, &quot;y&quot;: 1.9332877868244887, &quot;z&quot;: -5.358590375375014}, {&quot;x&quot;: 1.0, &quot;y&quot;: 2.0138414446088424, &quot;z&quot;: -18.867495169693278}, {&quot;x&quot;: 1.0512820512820513, &quot;y&quot;: 2.0138414446088424, &quot;z&quot;: -12.505952202419962}, {&quot;x&quot;: 1.0, &quot;y&quot;: 2.094395102393196, &quot;z&quot;: -22.713410214210477}, {&quot;x&quot;: 1.0512820512820513, &quot;y&quot;: 2.094395102393196, &quot;z&quot;: -16.209301502714613}, {&quot;x&quot;: 1.0, &quot;y&quot;: 2.17494876017755, &quot;z&quot;: -22.806160173196503}, {&quot;x&quot;: 1.0512820512820513, &quot;y&quot;: 2.17494876017755, &quot;z&quot;: -17.128890082621723}, {&quot;x&quot;: 1.0, &quot;y&quot;: 2.2555024179619036, &quot;z&quot;: -20.667757475861727}, {&quot;x&quot;: 1.0512820512820513, &quot;y&quot;: 2.2555024179619036, &quot;z&quot;: -16.221873901000187}, {&quot;x&quot;: 1.0, &quot;y&quot;: 2.3360560757462574, &quot;z&quot;: -17.554321050942534}, {&quot;x&quot;: 1.0512820512820513, &quot;y&quot;: 2.3360560757462574, &quot;z&quot;: -14.362168770596476}, {&quot;x&quot;: 1.0, &quot;y&quot;: 2.416609733530611, &quot;z&quot;: -14.292749597968276}, {&quot;x&quot;: 1.0512820512820513, &quot;y&quot;: 2.416609733530611, &quot;z&quot;: -12.182319476298924}, {&quot;x&quot;: 1.0, &quot;y&quot;: 2.497163391314965, &quot;z&quot;: -11.328315424681938}, {&quot;x&quot;: 1.0512820512820513, &quot;y&quot;: 2.497163391314965, &quot;z&quot;: -10.065426587297786}, {&quot;x&quot;: 1.0, &quot;y&quot;: 2.5777170490993186, &quot;z&quot;: -8.842455173822373}, {&quot;x&quot;: 1.0512820512820513, &quot;y&quot;: 2.5777170490993186, &quot;z&quot;: -8.202863435975164}, {&quot;x&quot;: 1.0, &quot;y&quot;: 2.6582707068836724, &quot;z&quot;: -6.864152109098269}, {&quot;x&quot;: 1.0512820512820513, &quot;y&quot;: 2.6582707068836724, &quot;z&quot;: -6.662878924878714}, {&quot;x&quot;: 1.0, &quot;y&quot;: 2.738824364668026, &quot;z&quot;: -5.349389487465926}, {&quot;x&quot;: 1.0512820512820513, &quot;y&quot;: 2.738824364668026, &quot;z&quot;: -5.446026671733884}, {&quot;x&quot;: 1.0, &quot;y&quot;: 2.81937802245238, &quot;z&quot;: -4.229099475410539}, {&quot;x&quot;: 1.0512820512820513, &quot;y&quot;: 2.81937802245238, &quot;z&quot;: -4.522322708374069}, {&quot;x&quot;: 1.0, &quot;y&quot;: 2.8999316802367336, &quot;z&quot;: -3.4344102506377503}, {&quot;x&quot;: 1.0512820512820513, &quot;y&quot;: 2.8999316802367336, &quot;z&quot;: -3.8531464423210906}, {&quot;x&quot;: 1.0, &quot;y&quot;: 2.9804853380210874, &quot;z&quot;: -2.9081050273777946}, {&quot;x&quot;: 1.0512820512820513, &quot;y&quot;: 2.9804853380210874, &quot;z&quot;: -3.402785769249051}, {&quot;x&quot;: 1.0, &quot;y&quot;: 3.061038995805441, &quot;z&quot;: -2.6087815630333226}, {&quot;x&quot;: 1.0512820512820513, &quot;y&quot;: 3.061038995805441, &quot;z&quot;: -3.143844027444285}, {&quot;x&quot;: 1.0, &quot;y&quot;: 3.141592653589793, &quot;z&quot;: -2.5117342357302777}, {&quot;x&quot;: 1.0512820512820513, &quot;y&quot;: 3.141592653589793, &quot;z&quot;: -3.059423998342286}, {&quot;x&quot;: 1.1025641025641026, &quot;y&quot;: 0.08055365778435367, &quot;z&quot;: -3.3550800808419776}, {&quot;x&quot;: 1.1025641025641026, &quot;y&quot;: 0.0, &quot;z&quot;: -3.283902777289133}, {&quot;x&quot;: 1.1025641025641026, &quot;y&quot;: 0.16110731556870733, &quot;z&quot;: -3.572346015523156}, {&quot;x&quot;: 1.1025641025641026, &quot;y&quot;: 0.241660973353061, &quot;z&quot;: -3.9465931963627248}, {&quot;x&quot;: 1.1025641025641026, &quot;y&quot;: 0.32221463113741466, &quot;z&quot;: -4.494723726910609}, {&quot;x&quot;: 1.1025641025641026, &quot;y&quot;: 0.4027682889217683, &quot;z&quot;: -5.236954912281509}, {&quot;x&quot;: 1.1025641025641026, &quot;y&quot;: 0.48332194670612194, &quot;z&quot;: -6.191279246000452}, {&quot;x&quot;: 1.1025641025641026, &quot;y&quot;: 0.5638756044904756, &quot;z&quot;: -7.363087181605337}, {&quot;x&quot;: 1.1025641025641026, &quot;y&quot;: 0.6444292622748292, &quot;z&quot;: -8.727397155829095}, {&quot;x&quot;: 1.1025641025641026, &quot;y&quot;: 0.7249829200591829, &quot;z&quot;: -10.201359436751657}, {&quot;x&quot;: 1.1025641025641026, &quot;y&quot;: 0.8055365778435365, &quot;z&quot;: -11.607088873015286}, {&quot;x&quot;: 1.1025641025641026, &quot;y&quot;: 0.8860902356278901, &quot;z&quot;: -12.631585553275393}, {&quot;x&quot;: 1.1025641025641026, &quot;y&quot;: 0.9666438934122438, &quot;z&quot;: -12.803450967176484}, {&quot;x&quot;: 1.1025641025641026, &quot;y&quot;: 1.0471975511965974, &quot;z&quot;: -11.523708582033098}, {&quot;x&quot;: 1.1025641025641026, &quot;y&quot;: 1.1277512089809512, &quot;z&quot;: -8.199211301179758}, {&quot;x&quot;: 1.1025641025641026, &quot;y&quot;: 1.208304866765305, &quot;z&quot;: -2.5072036235441066}, {&quot;x&quot;: 1.1025641025641026, &quot;y&quot;: 1.2888585245496587, &quot;z&quot;: 5.258511433556613}, {&quot;x&quot;: 1.1025641025641026, &quot;y&quot;: 1.3694121823340124, &quot;z&quot;: 13.935581193438864}, {&quot;x&quot;: 1.1025641025641026, &quot;y&quot;: 1.4499658401183662, &quot;z&quot;: 21.591566302413796}, {&quot;x&quot;: 1.1025641025641026, &quot;y&quot;: 1.53051949790272, &quot;z&quot;: 26.116622804591238}, {&quot;x&quot;: 1.1025641025641026, &quot;y&quot;: 1.6110731556870737, &quot;z&quot;: 26.11662280459123}, {&quot;x&quot;: 1.1025641025641026, &quot;y&quot;: 1.6916268134714274, &quot;z&quot;: 21.591566302413785}, {&quot;x&quot;: 1.1025641025641026, &quot;y&quot;: 1.7721804712557812, &quot;z&quot;: 13.935581193438809}, {&quot;x&quot;: 1.1025641025641026, &quot;y&quot;: 1.852734129040135, &quot;z&quot;: 5.2585114335565795}, {&quot;x&quot;: 1.1025641025641026, &quot;y&quot;: 1.9332877868244887, &quot;z&quot;: -2.5072036235441395}, {&quot;x&quot;: 1.1025641025641026, &quot;y&quot;: 2.0138414446088424, &quot;z&quot;: -8.199211301179789}, {&quot;x&quot;: 1.1025641025641026, &quot;y&quot;: 2.094395102393196, &quot;z&quot;: -11.523708582033123}, {&quot;x&quot;: 1.1025641025641026, &quot;y&quot;: 2.17494876017755, &quot;z&quot;: -12.803450967176481}, {&quot;x&quot;: 1.1025641025641026, &quot;y&quot;: 2.2555024179619036, &quot;z&quot;: -12.631585553275407}, {&quot;x&quot;: 1.1025641025641026, &quot;y&quot;: 2.3360560757462574, &quot;z&quot;: -11.607088873015277}, {&quot;x&quot;: 1.1025641025641026, &quot;y&quot;: 2.416609733530611, &quot;z&quot;: -10.201359436751648}, {&quot;x&quot;: 1.1025641025641026, &quot;y&quot;: 2.497163391314965, &quot;z&quot;: -8.72739715582909}, {&quot;x&quot;: 1.1025641025641026, &quot;y&quot;: 2.5777170490993186, &quot;z&quot;: -7.363087181605306}, {&quot;x&quot;: 1.1025641025641026, &quot;y&quot;: 2.6582707068836724, &quot;z&quot;: -6.1912792460004376}, {&quot;x&quot;: 1.1025641025641026, &quot;y&quot;: 2.738824364668026, &quot;z&quot;: -5.2369549122815}, {&quot;x&quot;: 1.1025641025641026, &quot;y&quot;: 2.81937802245238, &quot;z&quot;: -4.4947237269106015}, {&quot;x&quot;: 1.1025641025641026, &quot;y&quot;: 2.8999316802367336, &quot;z&quot;: -3.9465931963627163}, {&quot;x&quot;: 1.1025641025641026, &quot;y&quot;: 2.9804853380210874, &quot;z&quot;: -3.572346015523151}, {&quot;x&quot;: 1.1025641025641026, &quot;y&quot;: 3.061038995805441, &quot;z&quot;: -3.3550800808419767}, {&quot;x&quot;: 1.1025641025641026, &quot;y&quot;: 3.141592653589793, &quot;z&quot;: -3.283902777289133}, {&quot;x&quot;: 1.153846153846154, &quot;y&quot;: 0.08055365778435367, &quot;z&quot;: -3.346944223039313}, {&quot;x&quot;: 1.153846153846154, &quot;y&quot;: 0.0, &quot;z&quot;: -3.2883889890860036}, {&quot;x&quot;: 1.153846153846154, &quot;y&quot;: 0.16110731556870733, &quot;z&quot;: -3.5248905582812844}, {&quot;x&quot;: 1.153846153846154, &quot;y&quot;: 0.241660973353061, &quot;z&quot;: -3.82869601666031}, {&quot;x&quot;: 1.153846153846154, &quot;y&quot;: 0.32221463113741466, &quot;z&quot;: -4.267726092494033}, {&quot;x&quot;: 1.153846153846154, &quot;y&quot;: 0.4027682889217683, &quot;z&quot;: -4.851514455025397}, {&quot;x&quot;: 1.153846153846154, &quot;y&quot;: 0.48332194670612194, &quot;z&quot;: -5.584680231829837}, {&quot;x&quot;: 1.153846153846154, &quot;y&quot;: 0.5638756044904756, &quot;z&quot;: -6.458207171515729}, {&quot;x&quot;: 1.153846153846154, &quot;y&quot;: 0.6444292622748292, &quot;z&quot;: -7.435667300516612}, {&quot;x&quot;: 1.153846153846154, &quot;y&quot;: 0.7249829200591829, &quot;z&quot;: -8.433587339090575}, {&quot;x&quot;: 1.153846153846154, &quot;y&quot;: 0.8055365778435365, &quot;z&quot;: -9.297428497924777}, {&quot;x&quot;: 1.153846153846154, &quot;y&quot;: 0.8860902356278901, &quot;z&quot;: -9.779735610057784}, {&quot;x&quot;: 1.153846153846154, &quot;y&quot;: 0.9666438934122438, &quot;z&quot;: -9.535424609367205}, {&quot;x&quot;: 1.153846153846154, &quot;y&quot;: 1.0471975511965974, &quot;z&quot;: -8.158621328954123}, {&quot;x&quot;: 1.153846153846154, &quot;y&quot;: 1.1277512089809512, &quot;z&quot;: -5.2878052545644385}, {&quot;x&quot;: 1.153846153846154, &quot;y&quot;: 1.208304866765305, &quot;z&quot;: -0.7868225421590682}, {&quot;x&quot;: 1.153846153846154, &quot;y&quot;: 1.2888585245496587, &quot;z&quot;: 5.042856297607269}, {&quot;x&quot;: 1.153846153846154, &quot;y&quot;: 1.3694121823340124, &quot;z&quot;: 11.334274836619787}, {&quot;x&quot;: 1.153846153846154, &quot;y&quot;: 1.4499658401183662, &quot;z&quot;: 16.758324341222327}, {&quot;x&quot;: 1.153846153846154, &quot;y&quot;: 1.53051949790272, &quot;z&quot;: 19.92127302648258}, {&quot;x&quot;: 1.153846153846154, &quot;y&quot;: 1.6110731556870737, &quot;z&quot;: 19.921273026482577}, {&quot;x&quot;: 1.153846153846154, &quot;y&quot;: 1.6916268134714274, &quot;z&quot;: 16.758324341222313}, {&quot;x&quot;: 1.153846153846154, &quot;y&quot;: 1.7721804712557812, &quot;z&quot;: 11.334274836619755}, {&quot;x&quot;: 1.153846153846154, &quot;y&quot;: 1.852734129040135, &quot;z&quot;: 5.042856297607248}, {&quot;x&quot;: 1.153846153846154, &quot;y&quot;: 1.9332877868244887, &quot;z&quot;: -0.7868225421590958}, {&quot;x&quot;: 1.153846153846154, &quot;y&quot;: 2.0138414446088424, &quot;z&quot;: -5.287805254564458}, {&quot;x&quot;: 1.153846153846154, &quot;y&quot;: 2.094395102393196, &quot;z&quot;: -8.158621328954137}, {&quot;x&quot;: 1.153846153846154, &quot;y&quot;: 2.17494876017755, &quot;z&quot;: -9.535424609367213}, {&quot;x&quot;: 1.153846153846154, &quot;y&quot;: 2.2555024179619036, &quot;z&quot;: -9.77973561005778}, {&quot;x&quot;: 1.153846153846154, &quot;y&quot;: 2.3360560757462574, &quot;z&quot;: -9.297428497924775}, {&quot;x&quot;: 1.153846153846154, &quot;y&quot;: 2.416609733530611, &quot;z&quot;: -8.433587339090566}, {&quot;x&quot;: 1.153846153846154, &quot;y&quot;: 2.497163391314965, &quot;z&quot;: -7.4356673005166005}, {&quot;x&quot;: 1.153846153846154, &quot;y&quot;: 2.5777170490993186, &quot;z&quot;: -6.458207171515708}, {&quot;x&quot;: 1.153846153846154, &quot;y&quot;: 2.6582707068836724, &quot;z&quot;: -5.584680231829825}, {&quot;x&quot;: 1.153846153846154, &quot;y&quot;: 2.738824364668026, &quot;z&quot;: -4.851514455025386}, {&quot;x&quot;: 1.153846153846154, &quot;y&quot;: 2.81937802245238, &quot;z&quot;: -4.267726092494019}, {&quot;x&quot;: 1.153846153846154, &quot;y&quot;: 2.8999316802367336, &quot;z&quot;: -3.8286960166603072}, {&quot;x&quot;: 1.153846153846154, &quot;y&quot;: 2.9804853380210874, &quot;z&quot;: -3.5248905582812844}, {&quot;x&quot;: 1.153846153846154, &quot;y&quot;: 3.061038995805441, &quot;z&quot;: -3.3469442230393116}, {&quot;x&quot;: 1.153846153846154, &quot;y&quot;: 3.141592653589793, &quot;z&quot;: -3.2883889890860036}, {&quot;x&quot;: 1.2051282051282053, &quot;y&quot;: 0.08055365778435367, &quot;z&quot;: -3.1986690132527897}, {&quot;x&quot;: 1.2051282051282053, &quot;y&quot;: 0.0, &quot;z&quot;: -3.151462391245751}, {&quot;x&quot;: 1.2051282051282053, &quot;y&quot;: 0.16110731556870733, &quot;z&quot;: -3.3415263884803954}, {&quot;x&quot;: 1.2051282051282053, &quot;y&quot;: 0.241660973353061, &quot;z&quot;: -3.583368287583744}, {&quot;x&quot;: 1.2051282051282053, &quot;y&quot;: 0.32221463113741466, &quot;z&quot;: -3.9283662769000554}, {&quot;x&quot;: 1.2051282051282053, &quot;y&quot;: 0.4027682889217683, &quot;z&quot;: -4.379021568288486}, {&quot;x&quot;: 1.2051282051282053, &quot;y&quot;: 0.48332194670612194, &quot;z&quot;: -4.931796299097831}, {&quot;x&quot;: 1.2051282051282053, &quot;y&quot;: 0.5638756044904756, &quot;z&quot;: -5.570107839083807}, {&quot;x&quot;: 1.2051282051282053, &quot;y&quot;: 0.6444292622748292, &quot;z&quot;: -6.254004630892122}, {&quot;x&quot;: 1.2051282051282053, &quot;y&quot;: 0.7249829200591829, &quot;z&quot;: -6.906564689155953}, {&quot;x&quot;: 1.2051282051282053, &quot;y&quot;: 0.8055365778435365, &quot;z&quot;: -7.398969126623021}, {&quot;x&quot;: 1.2051282051282053, &quot;y&quot;: 0.8860902356278901, &quot;z&quot;: -7.539853046508215}, {&quot;x&quot;: 1.2051282051282053, &quot;y&quot;: 0.9666438934122438, &quot;z&quot;: -7.079777872538547}, {&quot;x&quot;: 1.2051282051282053, &quot;y&quot;: 1.0471975511965974, &quot;z&quot;: -5.746328508852564}, {&quot;x&quot;: 1.2051282051282053, &quot;y&quot;: 1.1277512089809512, &quot;z&quot;: -3.323840141167226}, {&quot;x&quot;: 1.2051282051282053, &quot;y&quot;: 1.208304866765305, &quot;z&quot;: 0.22400010298121764}, {&quot;x&quot;: 1.2051282051282053, &quot;y&quot;: 1.2888585245496587, &quot;z&quot;: 4.624404209276576}, {&quot;x&quot;: 1.2051282051282053, &quot;y&quot;: 1.3694121823340124, &quot;z&quot;: 9.233797990956823}, {&quot;x&quot;: 1.2051282051282053, &quot;y&quot;: 1.4499658401183662, &quot;z&quot;: 13.128530918030616}, {&quot;x&quot;: 1.2051282051282053, &quot;y&quot;: 1.53051949790272, &quot;z&quot;: 15.37307854361837}, {&quot;x&quot;: 1.2051282051282053, &quot;y&quot;: 1.6110731556870737, &quot;z&quot;: 15.373078543618366}, {&quot;x&quot;: 1.2051282051282053, &quot;y&quot;: 1.6916268134714274, &quot;z&quot;: 13.128530918030606}, {&quot;x&quot;: 1.2051282051282053, &quot;y&quot;: 1.7721804712557812, &quot;z&quot;: 9.233797990956802}, {&quot;x&quot;: 1.2051282051282053, &quot;y&quot;: 1.852734129040135, &quot;z&quot;: 4.624404209276558}, {&quot;x&quot;: 1.2051282051282053, &quot;y&quot;: 1.9332877868244887, &quot;z&quot;: 0.2240001029811982}, {&quot;x&quot;: 1.2051282051282053, &quot;y&quot;: 2.0138414446088424, &quot;z&quot;: -3.323840141167236}, {&quot;x&quot;: 1.2051282051282053, &quot;y&quot;: 2.094395102393196, &quot;z&quot;: -5.746328508852574}, {&quot;x&quot;: 1.2051282051282053, &quot;y&quot;: 2.17494876017755, &quot;z&quot;: -7.07977787253855}, {&quot;x&quot;: 1.2051282051282053, &quot;y&quot;: 2.2555024179619036, &quot;z&quot;: -7.539853046508208}, {&quot;x&quot;: 1.2051282051282053, &quot;y&quot;: 2.3360560757462574, &quot;z&quot;: -7.398969126623016}, {&quot;x&quot;: 1.2051282051282053, &quot;y&quot;: 2.416609733530611, &quot;z&quot;: -6.906564689155943}, {&quot;x&quot;: 1.2051282051282053, &quot;y&quot;: 2.497163391314965, &quot;z&quot;: -6.254004630892117}, {&quot;x&quot;: 1.2051282051282053, &quot;y&quot;: 2.5777170490993186, &quot;z&quot;: -5.570107839083796}, {&quot;x&quot;: 1.2051282051282053, &quot;y&quot;: 2.6582707068836724, &quot;z&quot;: -4.9317962990978215}, {&quot;x&quot;: 1.2051282051282053, &quot;y&quot;: 2.738824364668026, &quot;z&quot;: -4.379021568288481}, {&quot;x&quot;: 1.2051282051282053, &quot;y&quot;: 2.81937802245238, &quot;z&quot;: -3.9283662769000505}, {&quot;x&quot;: 1.2051282051282053, &quot;y&quot;: 2.8999316802367336, &quot;z&quot;: -3.583368287583742}, {&quot;x&quot;: 1.2051282051282053, &quot;y&quot;: 2.9804853380210874, &quot;z&quot;: -3.3415263884803905}, {&quot;x&quot;: 1.2051282051282053, &quot;y&quot;: 3.061038995805441, &quot;z&quot;: -3.1986690132527915}, {&quot;x&quot;: 1.2051282051282053, &quot;y&quot;: 3.141592653589793, &quot;z&quot;: -3.1514623912457504}, {&quot;x&quot;: 1.2564102564102566, &quot;y&quot;: 0.08055365778435367, &quot;z&quot;: -2.9681455940764696}, {&quot;x&quot;: 1.2564102564102566, &quot;y&quot;: 0.0, &quot;z&quot;: -2.930745559732862}, {&quot;x&quot;: 1.2564102564102566, &quot;y&quot;: 0.16110731556870733, &quot;z&quot;: -3.0808631815415586}, {&quot;x&quot;: 1.2564102564102566, &quot;y&quot;: 0.241660973353061, &quot;z&quot;: -3.2701001485597714}, {&quot;x&quot;: 1.2564102564102566, &quot;y&quot;: 0.32221463113741466, &quot;z&quot;: -3.5366059531732366}, {&quot;x&quot;: 1.2564102564102566, &quot;y&quot;: 0.4027682889217683, &quot;z&quot;: -3.878505282416199}, {&quot;x&quot;: 1.2564102564102566, &quot;y&quot;: 0.48332194670612194, &quot;z&quot;: -4.287703550615651}, {&quot;x&quot;: 1.2564102564102566, &quot;y&quot;: 0.5638756044904756, &quot;z&quot;: -4.744441381377393}, {&quot;x&quot;: 1.2564102564102566, &quot;y&quot;: 0.6444292622748292, &quot;z&quot;: -5.209765688182342}, {&quot;x&quot;: 1.2564102564102566, &quot;y&quot;: 0.7249829200591829, &quot;z&quot;: -5.61637049450992}, {&quot;x&quot;: 1.2564102564102566, &quot;y&quot;: 0.8055365778435365, &quot;z&quot;: -5.859759049756916}, {&quot;x&quot;: 1.2564102564102566, &quot;y&quot;: 0.8860902356278901, &quot;z&quot;: -5.794195053358518}, {&quot;x&quot;: 1.2564102564102566, &quot;y&quot;: 0.9666438934122438, &quot;z&quot;: -5.241045480694233}, {&quot;x&quot;: 1.2564102564102566, &quot;y&quot;: 1.0471975511965974, &quot;z&quot;: -4.01909943363311}, {&quot;x&quot;: 1.2564102564102566, &quot;y&quot;: 1.1277512089809512, &quot;z&quot;: -2.003623314891902}, {&quot;x&quot;: 1.2564102564102566, &quot;y&quot;: 1.208304866765305, &quot;z&quot;: 0.7910822620633837}, {&quot;x&quot;: 1.2564102564102566, &quot;y&quot;: 1.2888585245496587, &quot;z&quot;: 4.132616847567457}, {&quot;x&quot;: 1.2564102564102566, &quot;y&quot;: 1.3694121823340124, &quot;z&quot;: 7.543567177470159}, {&quot;x&quot;: 1.2564102564102566, &quot;y&quot;: 1.4499658401183662, &quot;z&quot;: 10.375333827804273}, {&quot;x&quot;: 1.2564102564102566, &quot;y&quot;: 1.53051949790272, &quot;z&quot;: 11.990470335452068}, {&quot;x&quot;: 1.2564102564102566, &quot;y&quot;: 1.6110731556870737, &quot;z&quot;: 11.990470335452066}, {&quot;x&quot;: 1.2564102564102566, &quot;y&quot;: 1.6916268134714274, &quot;z&quot;: 10.375333827804265}, {&quot;x&quot;: 1.2564102564102566, &quot;y&quot;: 1.7721804712557812, &quot;z&quot;: 7.543567177470143}, {&quot;x&quot;: 1.2564102564102566, &quot;y&quot;: 1.852734129040135, &quot;z&quot;: 4.132616847567448}, {&quot;x&quot;: 1.2564102564102566, &quot;y&quot;: 1.9332877868244887, &quot;z&quot;: 0.79108226206337}, {&quot;x&quot;: 1.2564102564102566, &quot;y&quot;: 2.0138414446088424, &quot;z&quot;: -2.0036233148919154}, {&quot;x&quot;: 1.2564102564102566, &quot;y&quot;: 2.094395102393196, &quot;z&quot;: -4.019099433633106}, {&quot;x&quot;: 1.2564102564102566, &quot;y&quot;: 2.17494876017755, &quot;z&quot;: -5.241045480694236}, {&quot;x&quot;: 1.2564102564102566, &quot;y&quot;: 2.2555024179619036, &quot;z&quot;: -5.794195053358522}, {&quot;x&quot;: 1.2564102564102566, &quot;y&quot;: 2.3360560757462574, &quot;z&quot;: -5.859759049756917}, {&quot;x&quot;: 1.2564102564102566, &quot;y&quot;: 2.416609733530611, &quot;z&quot;: -5.616370494509926}, {&quot;x&quot;: 1.2564102564102566, &quot;y&quot;: 2.497163391314965, &quot;z&quot;: -5.209765688182337}, {&quot;x&quot;: 1.2564102564102566, &quot;y&quot;: 2.5777170490993186, &quot;z&quot;: -4.7444413813773885}, {&quot;x&quot;: 1.2564102564102566, &quot;y&quot;: 2.6582707068836724, &quot;z&quot;: -4.287703550615641}, {&quot;x&quot;: 1.2564102564102566, &quot;y&quot;: 2.738824364668026, &quot;z&quot;: -3.8785052824161923}, {&quot;x&quot;: 1.2564102564102566, &quot;y&quot;: 2.81937802245238, &quot;z&quot;: -3.536605953173228}, {&quot;x&quot;: 1.2564102564102566, &quot;y&quot;: 2.8999316802367336, &quot;z&quot;: -3.270100148559769}, {&quot;x&quot;: 1.2564102564102566, &quot;y&quot;: 2.9804853380210874, &quot;z&quot;: -3.0808631815415617}, {&quot;x&quot;: 1.2564102564102566, &quot;y&quot;: 3.061038995805441, &quot;z&quot;: -2.9681455940764705}, {&quot;x&quot;: 1.2564102564102566, &quot;y&quot;: 3.141592653589793, &quot;z&quot;: -2.930745559732862}, {&quot;x&quot;: 1.307692307692308, &quot;y&quot;: 0.08055365778435367, &quot;z&quot;: -2.6961833429491295}, {&quot;x&quot;: 1.307692307692308, &quot;y&quot;: 0.0, &quot;z&quot;: -2.6670157101807748}, {&quot;x&quot;: 1.307692307692308, &quot;y&quot;: 0.16110731556870733, &quot;z&quot;: -2.7837280085406}, {&quot;x&quot;: 1.307692307692308, &quot;y&quot;: 0.241660973353061, &quot;z&quot;: -2.929468016293234}, {&quot;x&quot;: 1.307692307692308, &quot;y&quot;: 0.32221463113741466, &quot;z&quot;: -3.132021047037605}, {&quot;x&quot;: 1.307692307692308, &quot;y&quot;: 0.4027682889217683, &quot;z&quot;: -3.3869969208597293}, {&quot;x&quot;: 1.307692307692308, &quot;y&quot;: 0.48332194670612194, &quot;z&quot;: -3.6841325918324976}, {&quot;x&quot;: 1.307692307692308, &quot;y&quot;: 0.5638756044904756, &quot;z&quot;: -4.003167046464098}, {&quot;x&quot;: 1.307692307692308, &quot;y&quot;: 0.6444292622748292, &quot;z&quot;: -4.30847946813896}, {&quot;x&quot;: 1.307692307692308, &quot;y&quot;: 0.7249829200591829, &quot;z&quot;: -4.543101940779608}, {&quot;x&quot;: 1.307692307692308, &quot;y&quot;: 0.8055365778435365, &quot;z&quot;: -4.623839592001579}, {&quot;x&quot;: 1.307692307692308, &quot;y&quot;: 0.8860902356278901, &quot;z&quot;: -4.440909989065183}, {&quot;x&quot;: 1.307692307692308, &quot;y&quot;: 0.9666438934122438, &quot;z&quot;: -3.8673019703022704}, {&quot;x&quot;: 1.307692307692308, &quot;y&quot;: 1.0471975511965974, &quot;z&quot;: -2.7836174536864147}, {&quot;x&quot;: 1.307692307692308, &quot;y&quot;: 1.1277512089809512, &quot;z&quot;: -1.1211827993352594}, {&quot;x&quot;: 1.307692307692308, &quot;y&quot;: 1.208304866765305, &quot;z&quot;: 1.0825323335036199}, {&quot;x&quot;: 1.307692307692308, &quot;y&quot;: 1.2888585245496587, &quot;z&quot;: 3.635939298052223}, {&quot;x&quot;: 1.307692307692308, &quot;y&quot;: 1.3694121823340124, &quot;z&quot;: 6.1842380032219495}, {&quot;x&quot;: 1.307692307692308, &quot;y&quot;: 1.4499658401183662, &quot;z&quot;: 8.267259128298937}, {&quot;x&quot;: 1.307692307692308, &quot;y&quot;: 1.53051949790272, &quot;z&quot;: 9.44450769627176}, {&quot;x&quot;: 1.307692307692308, &quot;y&quot;: 1.6110731556870737, &quot;z&quot;: 9.44450769627176}, {&quot;x&quot;: 1.307692307692308, &quot;y&quot;: 1.6916268134714274, &quot;z&quot;: 8.267259128298933}, {&quot;x&quot;: 1.307692307692308, &quot;y&quot;: 1.7721804712557812, &quot;z&quot;: 6.184238003221941}, {&quot;x&quot;: 1.307692307692308, &quot;y&quot;: 1.852734129040135, &quot;z&quot;: 3.6359392980522154}, {&quot;x&quot;: 1.307692307692308, &quot;y&quot;: 1.9332877868244887, &quot;z&quot;: 1.08253233350361}, {&quot;x&quot;: 1.307692307692308, &quot;y&quot;: 2.0138414446088424, &quot;z&quot;: -1.1211827993352654}, {&quot;x&quot;: 1.307692307692308, &quot;y&quot;: 2.094395102393196, &quot;z&quot;: -2.783617453686417}, {&quot;x&quot;: 1.307692307692308, &quot;y&quot;: 2.17494876017755, &quot;z&quot;: -3.867301970302279}, {&quot;x&quot;: 1.307692307692308, &quot;y&quot;: 2.2555024179619036, &quot;z&quot;: -4.440909989065183}, {&quot;x&quot;: 1.307692307692308, &quot;y&quot;: 2.3360560757462574, &quot;z&quot;: -4.623839592001576}, {&quot;x&quot;: 1.307692307692308, &quot;y&quot;: 2.416609733530611, &quot;z&quot;: -4.54310194077961}, {&quot;x&quot;: 1.307692307692308, &quot;y&quot;: 2.497163391314965, &quot;z&quot;: -4.308479468138954}, {&quot;x&quot;: 1.307692307692308, &quot;y&quot;: 2.5777170490993186, &quot;z&quot;: -4.003167046464092}, {&quot;x&quot;: 1.307692307692308, &quot;y&quot;: 2.6582707068836724, &quot;z&quot;: -3.6841325918324905}, {&quot;x&quot;: 1.307692307692308, &quot;y&quot;: 2.738824364668026, &quot;z&quot;: -3.3869969208597217}, {&quot;x&quot;: 1.307692307692308, &quot;y&quot;: 2.81937802245238, &quot;z&quot;: -3.1320210470375995}, {&quot;x&quot;: 1.307692307692308, &quot;y&quot;: 2.8999316802367336, &quot;z&quot;: -2.9294680162932285}, {&quot;x&quot;: 1.307692307692308, &quot;y&quot;: 2.9804853380210874, &quot;z&quot;: -2.783728008540602}, {&quot;x&quot;: 1.307692307692308, &quot;y&quot;: 3.061038995805441, &quot;z&quot;: -2.696183342949129}, {&quot;x&quot;: 1.307692307692308, &quot;y&quot;: 3.141592653589793, &quot;z&quot;: -2.6670157101807748}, {&quot;x&quot;: 1.3589743589743593, &quot;y&quot;: 0.08055365778435367, &quot;z&quot;: -2.410477769514921}, {&quot;x&quot;: 1.3589743589743593, &quot;y&quot;: 0.0, &quot;z&quot;: -2.3880693751171442}, {&quot;x&quot;: 1.3589743589743593, &quot;y&quot;: 0.16110731556870733, &quot;z&quot;: -2.4774475013688004}, {&quot;x&quot;: 1.3589743589743593, &quot;y&quot;: 0.241660973353061, &quot;z&quot;: -2.5879535354943743}, {&quot;x&quot;: 1.3589743589743593, &quot;y&quot;: 0.32221463113741466, &quot;z&quot;: -2.739390015098265}, {&quot;x&quot;: 1.3589743589743593, &quot;y&quot;: 0.4027682889217683, &quot;z&quot;: -2.9261106970351896}, {&quot;x&quot;: 1.3589743589743593, &quot;y&quot;: 0.48332194670612194, &quot;z&quot;: -3.137200938420933}, {&quot;x&quot;: 1.3589743589743593, &quot;y&quot;: 0.5638756044904756, &quot;z&quot;: -3.3534193766473503}, {&quot;x&quot;: 1.3589743589743593, &quot;y&quot;: 0.6444292622748292, &quot;z&quot;: -3.5434641883718463}, {&quot;x&quot;: 1.3589743589743593, &quot;y&quot;: 0.7249829200591829, &quot;z&quot;: -3.6601937993021054}, {&quot;x&quot;: 1.3589743589743593, &quot;y&quot;: 0.8055365778435365, &quot;z&quot;: -3.6382437518458586}, {&quot;x&quot;: 1.3589743589743593, &quot;y&quot;: 0.8860902356278901, &quot;z&quot;: -3.395568971497441}, {&quot;x&quot;: 1.3589743589743593, &quot;y&quot;: 0.9666438934122438, &quot;z&quot;: -2.842397457467853}, {&quot;x&quot;: 1.3589743589743593, &quot;y&quot;: 1.0471975511965974, &quot;z&quot;: -1.900949219419724}, {&quot;x&quot;: 1.3589743589743593, &quot;y&quot;: 1.1277512089809512, &quot;z&quot;: -0.5366259822233913}, {&quot;x&quot;: 1.3589743589743593, &quot;y&quot;: 1.208304866765305, &quot;z&quot;: 1.204840859206323}, {&quot;x&quot;: 1.3589743589743593, &quot;y&quot;: 1.2888585245496587, &quot;z&quot;: 3.1684707265764103}, {&quot;x&quot;: 1.3589743589743593, &quot;y&quot;: 1.3694121823340124, &quot;z&quot;: 5.089676520813995}, {&quot;x&quot;: 1.3589743589743593, &quot;y&quot;: 1.4499658401183662, &quot;z&quot;: 6.638671796575059}, {&quot;x&quot;: 1.3589743589743593, &quot;y&quot;: 1.53051949790272, &quot;z&quot;: 7.507015133200006}, {&quot;x&quot;: 1.3589743589743593, &quot;y&quot;: 1.6110731556870737, &quot;z&quot;: 7.507015133200006}, {&quot;x&quot;: 1.3589743589743593, &quot;y&quot;: 1.6916268134714274, &quot;z&quot;: 6.638671796575056}, {&quot;x&quot;: 1.3589743589743593, &quot;y&quot;: 1.7721804712557812, &quot;z&quot;: 5.089676520813985}, {&quot;x&quot;: 1.3589743589743593, &quot;y&quot;: 1.852734129040135, &quot;z&quot;: 3.1684707265764036}, {&quot;x&quot;: 1.3589743589743593, &quot;y&quot;: 1.9332877868244887, &quot;z&quot;: 1.2048408592063156}, {&quot;x&quot;: 1.3589743589743593, &quot;y&quot;: 2.0138414446088424, &quot;z&quot;: -0.5366259822233987}, {&quot;x&quot;: 1.3589743589743593, &quot;y&quot;: 2.094395102393196, &quot;z&quot;: -1.9009492194197297}, {&quot;x&quot;: 1.3589743589743593, &quot;y&quot;: 2.17494876017755, &quot;z&quot;: -2.8423974574678548}, {&quot;x&quot;: 1.3589743589743593, &quot;y&quot;: 2.2555024179619036, &quot;z&quot;: -3.3955689714974486}, {&quot;x&quot;: 1.3589743589743593, &quot;y&quot;: 2.3360560757462574, &quot;z&quot;: -3.638243751845856}, {&quot;x&quot;: 1.3589743589743593, &quot;y&quot;: 2.416609733530611, &quot;z&quot;: -3.6601937993021005}, {&quot;x&quot;: 1.3589743589743593, &quot;y&quot;: 2.497163391314965, &quot;z&quot;: -3.5434641883718445}, {&quot;x&quot;: 1.3589743589743593, &quot;y&quot;: 2.5777170490993186, &quot;z&quot;: -3.3534193766473495}, {&quot;x&quot;: 1.3589743589743593, &quot;y&quot;: 2.6582707068836724, &quot;z&quot;: -3.1372009384209276}, {&quot;x&quot;: 1.3589743589743593, &quot;y&quot;: 2.738824364668026, &quot;z&quot;: -2.9261106970351882}, {&quot;x&quot;: 1.3589743589743593, &quot;y&quot;: 2.81937802245238, &quot;z&quot;: -2.739390015098265}, {&quot;x&quot;: 1.3589743589743593, &quot;y&quot;: 2.8999316802367336, &quot;z&quot;: -2.587953535494373}, {&quot;x&quot;: 1.3589743589743593, &quot;y&quot;: 2.9804853380210874, &quot;z&quot;: -2.4774475013688004}, {&quot;x&quot;: 1.3589743589743593, &quot;y&quot;: 3.061038995805441, &quot;z&quot;: -2.4104777695149213}, {&quot;x&quot;: 1.3589743589743593, &quot;y&quot;: 3.141592653589793, &quot;z&quot;: -2.3880693751171442}, {&quot;x&quot;: 1.4102564102564106, &quot;y&quot;: 0.08055365778435367, &quot;z&quot;: -2.1289938898438545}, {&quot;x&quot;: 1.4102564102564106, &quot;y&quot;: 0.0, &quot;z&quot;: -2.112037562134888}, {&quot;x&quot;: 1.4102564102564106, &quot;y&quot;: 0.16110731556870733, &quot;z&quot;: -2.179436564975534}, {&quot;x&quot;: 1.4102564102564106, &quot;y&quot;: 0.241660973353061, &quot;z&quot;: -2.2618747764425904}, {&quot;x&quot;: 1.4102564102564106, &quot;y&quot;: 0.32221463113741466, &quot;z&quot;: -2.373097171507827}, {&quot;x&quot;: 1.4102564102564106, &quot;y&quot;: 0.4027682889217683, &quot;z&quot;: -2.507019970130626}, {&quot;x&quot;: 1.4102564102564106, &quot;y&quot;: 0.48332194670612194, &quot;z&quot;: -2.6529890022565557}, {&quot;x&quot;: 1.4102564102564106, &quot;y&quot;: 0.5638756044904756, &quot;z&quot;: -2.7935555262281895}, {&quot;x&quot;: 1.4102564102564106, &quot;y&quot;: 0.6444292622748292, &quot;z&quot;: -2.901936183700312}, {&quot;x&quot;: 1.4102564102564106, &quot;y&quot;: 0.7249829200591829, &quot;z&quot;: -2.9397362278685275}, {&quot;x&quot;: 1.4102564102564106, &quot;y&quot;: 0.8055365778435365, &quot;z&quot;: -2.856087382691614}, {&quot;x&quot;: 1.4102564102564106, &quot;y&quot;: 0.8860902356278901, &quot;z&quot;: -2.590035143715891}, {&quot;x&quot;: 1.4102564102564106, &quot;y&quot;: 0.9666438934122438, &quot;z&quot;: -2.078470468432085}, {&quot;x&quot;: 1.4102564102564106, &quot;y&quot;: 1.0471975511965974, &quot;z&quot;: -1.2714718002460257}, {&quot;x&quot;: 1.4102564102564106, &quot;y&quot;: 1.1277512089809512, &quot;z&quot;: -0.15474858018108406}, {&quot;x&quot;: 1.4102564102564106, &quot;y&quot;: 1.208304866765305, &quot;z&quot;: 1.2254703390920016}, {&quot;x&quot;: 1.4102564102564106, &quot;y&quot;: 1.2888585245496587, &quot;z&quot;: 2.7451860895512614}, {&quot;x&quot;: 1.4102564102564106, &quot;y&quot;: 1.3694121823340124, &quot;z&quot;: 4.206200334550619}, {&quot;x&quot;: 1.4102564102564106, &quot;y&quot;: 1.4499658401183662, &quot;z&quot;: 5.36984499103821}, {&quot;x&quot;: 1.4102564102564106, &quot;y&quot;: 1.53051949790272, &quot;z&quot;: 6.017448103096578}, {&quot;x&quot;: 1.4102564102564106, &quot;y&quot;: 1.6110731556870737, &quot;z&quot;: 6.017448103096578}, {&quot;x&quot;: 1.4102564102564106, &quot;y&quot;: 1.6916268134714274, &quot;z&quot;: 5.369844991038208}, {&quot;x&quot;: 1.4102564102564106, &quot;y&quot;: 1.7721804712557812, &quot;z&quot;: 4.2062003345506165}, {&quot;x&quot;: 1.4102564102564106, &quot;y&quot;: 1.852734129040135, &quot;z&quot;: 2.745186089551257}, {&quot;x&quot;: 1.4102564102564106, &quot;y&quot;: 1.9332877868244887, &quot;z&quot;: 1.2254703390919928}, {&quot;x&quot;: 1.4102564102564106, &quot;y&quot;: 2.0138414446088424, &quot;z&quot;: -0.15474858018109022}, {&quot;x&quot;: 1.4102564102564106, &quot;y&quot;: 2.094395102393196, &quot;z&quot;: -1.2714718002460306}, {&quot;x&quot;: 1.4102564102564106, &quot;y&quot;: 2.17494876017755, &quot;z&quot;: -2.078470468432088}, {&quot;x&quot;: 1.4102564102564106, &quot;y&quot;: 2.2555024179619036, &quot;z&quot;: -2.590035143715895}, {&quot;x&quot;: 1.4102564102564106, &quot;y&quot;: 2.3360560757462574, &quot;z&quot;: -2.856087382691618}, {&quot;x&quot;: 1.4102564102564106, &quot;y&quot;: 2.416609733530611, &quot;z&quot;: -2.93973622786853}, {&quot;x&quot;: 1.4102564102564106, &quot;y&quot;: 2.497163391314965, &quot;z&quot;: -2.90193618370031}, {&quot;x&quot;: 1.4102564102564106, &quot;y&quot;: 2.5777170490993186, &quot;z&quot;: -2.7935555262281904}, {&quot;x&quot;: 1.4102564102564106, &quot;y&quot;: 2.6582707068836724, &quot;z&quot;: -2.6529890022565565}, {&quot;x&quot;: 1.4102564102564106, &quot;y&quot;: 2.738824364668026, &quot;z&quot;: -2.507019970130627}, {&quot;x&quot;: 1.4102564102564106, &quot;y&quot;: 2.81937802245238, &quot;z&quot;: -2.373097171507825}, {&quot;x&quot;: 1.4102564102564106, &quot;y&quot;: 2.8999316802367336, &quot;z&quot;: -2.2618747764425895}, {&quot;x&quot;: 1.4102564102564106, &quot;y&quot;: 2.9804853380210874, &quot;z&quot;: -2.1794365649755316}, {&quot;x&quot;: 1.4102564102564106, &quot;y&quot;: 3.061038995805441, &quot;z&quot;: -2.128993889843854}, {&quot;x&quot;: 1.4102564102564106, &quot;y&quot;: 3.141592653589793, &quot;z&quot;: -2.112037562134888}, {&quot;x&quot;: 1.461538461538462, &quot;y&quot;: 0.08055365778435367, &quot;z&quot;: -1.8626913403044687}, {&quot;x&quot;: 1.461538461538462, &quot;y&quot;: 0.0, &quot;z&quot;: -1.850068258800897}, {&quot;x&quot;: 1.461538461538462, &quot;y&quot;: 0.16110731556870733, &quot;z&quot;: -1.9000500633088064}, {&quot;x&quot;: 1.461538461538462, &quot;y&quot;: 0.241660973353061, &quot;z&quot;: -1.9604431009026428}, {&quot;x&quot;: 1.461538461538462, &quot;y&quot;: 0.32221463113741466, &quot;z&quot;: -2.040458729935836}, {&quot;x&quot;: 1.461538461538462, &quot;y&quot;: 0.4027682889217683, &quot;z&quot;: -2.1340828401616325}, {&quot;x&quot;: 1.461538461538462, &quot;y&quot;: 0.48332194670612194, &quot;z&quot;: -2.2314275109458164}, {&quot;x&quot;: 1.461538461538462, &quot;y&quot;: 0.5638756044904756, &quot;z&quot;: -2.317143213081006}, {&quot;x&quot;: 1.461538461538462, &quot;y&quot;: 0.6444292622748292, &quot;z&quot;: -2.3687364404507263}, {&quot;x&quot;: 1.461538461538462, &quot;y&quot;: 0.7249829200591829, &quot;z&quot;: -2.3552927769538425}, {&quot;x&quot;: 1.461538461538462, &quot;y&quot;: 0.8055365778435365, &quot;z&quot;: -2.2374996480673417}, {&quot;x&quot;: 1.461538461538462, &quot;y&quot;: 0.8860902356278901, &quot;z&quot;: -1.9702776690387656}, {&quot;x&quot;: 1.461538461538462, &quot;y&quot;: 0.9666438934122438, &quot;z&quot;: -1.5095042862660963}, {&quot;x&quot;: 1.461538461538462, &quot;y&quot;: 1.0471975511965974, &quot;z&quot;: -0.8237968645822584}, {&quot;x&quot;: 1.461538461538462, &quot;y&quot;: 1.1277512089809512, &quot;z&quot;: 0.08938498297028738}, {&quot;x&quot;: 1.461538461538462, &quot;y&quot;: 1.208304866765305, &quot;z&quot;: 1.1870661186601026}, {&quot;x&quot;: 1.461538461538462, &quot;y&quot;: 1.2888585245496587, &quot;z&quot;: 2.370637016076481}, {&quot;x&quot;: 1.461538461538462, &quot;y&quot;: 1.3694121823340124, &quot;z&quot;: 3.4908652066105756}, {&quot;x&quot;: 1.461538461538462, &quot;y&quot;: 1.4499658401183662, &quot;z&quot;: 4.3733862977756095}, {&quot;x&quot;: 1.461538461538462, &quot;y&quot;: 1.53051949790272, &quot;z&quot;: 4.861350892260194}, {&quot;x&quot;: 1.461538461538462, &quot;y&quot;: 1.6110731556870737, &quot;z&quot;: 4.861350892260193}, {&quot;x&quot;: 1.461538461538462, &quot;y&quot;: 1.6916268134714274, &quot;z&quot;: 4.373386297775602}, {&quot;x&quot;: 1.461538461538462, &quot;y&quot;: 1.7721804712557812, &quot;z&quot;: 3.490865206610573}, {&quot;x&quot;: 1.461538461538462, &quot;y&quot;: 1.852734129040135, &quot;z&quot;: 2.370637016076478}, {&quot;x&quot;: 1.461538461538462, &quot;y&quot;: 1.9332877868244887, &quot;z&quot;: 1.1870661186600988}, {&quot;x&quot;: 1.461538461538462, &quot;y&quot;: 2.0138414446088424, &quot;z&quot;: 0.08938498297028262}, {&quot;x&quot;: 1.461538461538462, &quot;y&quot;: 2.094395102393196, &quot;z&quot;: -0.8237968645822614}, {&quot;x&quot;: 1.461538461538462, &quot;y&quot;: 2.17494876017755, &quot;z&quot;: -1.509504286266099}, {&quot;x&quot;: 1.461538461538462, &quot;y&quot;: 2.2555024179619036, &quot;z&quot;: -1.9702776690387678}, {&quot;x&quot;: 1.461538461538462, &quot;y&quot;: 2.3360560757462574, &quot;z&quot;: -2.2374996480673435}, {&quot;x&quot;: 1.461538461538462, &quot;y&quot;: 2.416609733530611, &quot;z&quot;: -2.355292776953841}, {&quot;x&quot;: 1.461538461538462, &quot;y&quot;: 2.497163391314965, &quot;z&quot;: -2.368736440450725}, {&quot;x&quot;: 1.461538461538462, &quot;y&quot;: 2.5777170490993186, &quot;z&quot;: -2.3171432130810032}, {&quot;x&quot;: 1.461538461538462, &quot;y&quot;: 2.6582707068836724, &quot;z&quot;: -2.231427510945812}, {&quot;x&quot;: 1.461538461538462, &quot;y&quot;: 2.738824364668026, &quot;z&quot;: -2.1340828401616303}, {&quot;x&quot;: 1.461538461538462, &quot;y&quot;: 2.81937802245238, &quot;z&quot;: -2.040458729935833}, {&quot;x&quot;: 1.461538461538462, &quot;y&quot;: 2.8999316802367336, &quot;z&quot;: -1.9604431009026433}, {&quot;x&quot;: 1.461538461538462, &quot;y&quot;: 2.9804853380210874, &quot;z&quot;: -1.9000500633088084}, {&quot;x&quot;: 1.461538461538462, &quot;y&quot;: 3.061038995805441, &quot;z&quot;: -1.8626913403044685}, {&quot;x&quot;: 1.461538461538462, &quot;y&quot;: 3.141592653589793, &quot;z&quot;: -1.8500682588008974}, {&quot;x&quot;: 1.5128205128205132, &quot;y&quot;: 0.08055365778435367, &quot;z&quot;: -1.6176311199827844}, {&quot;x&quot;: 1.5128205128205132, &quot;y&quot;: 0.0, &quot;z&quot;: -1.6084083079411937}, {&quot;x&quot;: 1.5128205128205132, &quot;y&quot;: 0.16110731556870733, &quot;z&quot;: -1.6447621435462594}, {&quot;x&quot;: 1.5128205128205132, &quot;y&quot;: 0.241660973353061, &quot;z&quot;: -1.6880555727684574}, {&quot;x&quot;: 1.5128205128205132, &quot;y&quot;: 0.32221463113741466, &quot;z&quot;: -1.7441527788774018}, {&quot;x&quot;: 1.5128205128205132, &quot;y&quot;: 0.4027682889217683, &quot;z&quot;: -1.8074028312767014}, {&quot;x&quot;: 1.5128205128205132, &quot;y&quot;: 0.48332194670612194, &quot;z&quot;: -1.8689258957357597}, {&quot;x&quot;: 1.5128205128205132, &quot;y&quot;: 0.5638756044904756, &quot;z&quot;: -1.9155015251073813}, {&quot;x&quot;: 1.5128205128205132, &quot;y&quot;: 0.6444292622748292, &quot;z&quot;: -1.9284915260544322}, {&quot;x&quot;: 1.5128205128205132, &quot;y&quot;: 0.7249829200591829, &quot;z&quot;: -1.8832123371258607}, {&quot;x&quot;: 1.5128205128205132, &quot;y&quot;: 0.8055365778435365, &quot;z&quot;: -1.7494377192860864}, {&quot;x&quot;: 1.5128205128205132, &quot;y&quot;: 0.8860902356278901, &quot;z&quot;: -1.4939526781261834}, {&quot;x&quot;: 1.5128205128205132, &quot;y&quot;: 0.9666438934122438, &quot;z&quot;: -1.0860986306839306}, {&quot;x&quot;: 1.5128205128205132, &quot;y&quot;: 1.0471975511965974, &quot;z&quot;: -0.5067478237734405}, {&quot;x&quot;: 1.5128205128205132, &quot;y&quot;: 1.1277512089809512, &quot;z&quot;: 0.24015883296238483}, {&quot;x&quot;: 1.5128205128205132, &quot;y&quot;: 1.208304866765305, &quot;z&quot;: 1.116443352279036}, {&quot;x&quot;: 1.5128205128205132, &quot;y&quot;: 1.2888585245496587, &quot;z&quot;: 2.043914639427711}, {&quot;x&quot;: 1.5128205128205132, &quot;y&quot;: 1.3694121823340124, &quot;z&quot;: 2.9095844923043344}, {&quot;x&quot;: 1.5128205128205132, &quot;y&quot;: 1.4499658401183662, &quot;z&quot;: 3.584903488817039}, {&quot;x&quot;: 1.5128205128205132, &quot;y&quot;: 1.53051949790272, &quot;z&quot;: 3.956122709038224}, {&quot;x&quot;: 1.5128205128205132, &quot;y&quot;: 1.6110731556870737, &quot;z&quot;: 3.9561227090382234}, {&quot;x&quot;: 1.5128205128205132, &quot;y&quot;: 1.6916268134714274, &quot;z&quot;: 3.584903488817034}, {&quot;x&quot;: 1.5128205128205132, &quot;y&quot;: 1.7721804712557812, &quot;z&quot;: 2.909584492304332}, {&quot;x&quot;: 1.5128205128205132, &quot;y&quot;: 1.852734129040135, &quot;z&quot;: 2.0439146394277072}, {&quot;x&quot;: 1.5128205128205132, &quot;y&quot;: 1.9332877868244887, &quot;z&quot;: 1.116443352279032}, {&quot;x&quot;: 1.5128205128205132, &quot;y&quot;: 2.0138414446088424, &quot;z&quot;: 0.24015883296238114}, {&quot;x&quot;: 1.5128205128205132, &quot;y&quot;: 2.094395102393196, &quot;z&quot;: -0.5067478237734426}, {&quot;x&quot;: 1.5128205128205132, &quot;y&quot;: 2.17494876017755, &quot;z&quot;: -1.0860986306839338}, {&quot;x&quot;: 1.5128205128205132, &quot;y&quot;: 2.2555024179619036, &quot;z&quot;: -1.4939526781261854}, {&quot;x&quot;: 1.5128205128205132, &quot;y&quot;: 2.3360560757462574, &quot;z&quot;: -1.7494377192860877}, {&quot;x&quot;: 1.5128205128205132, &quot;y&quot;: 2.416609733530611, &quot;z&quot;: -1.8832123371258604}, {&quot;x&quot;: 1.5128205128205132, &quot;y&quot;: 2.497163391314965, &quot;z&quot;: -1.9284915260544313}, {&quot;x&quot;: 1.5128205128205132, &quot;y&quot;: 2.5777170490993186, &quot;z&quot;: -1.91550152510738}, {&quot;x&quot;: 1.5128205128205132, &quot;y&quot;: 2.6582707068836724, &quot;z&quot;: -1.868925895735758}, {&quot;x&quot;: 1.5128205128205132, &quot;y&quot;: 2.738824364668026, &quot;z&quot;: -1.8074028312766992}, {&quot;x&quot;: 1.5128205128205132, &quot;y&quot;: 2.81937802245238, &quot;z&quot;: -1.7441527788774016}, {&quot;x&quot;: 1.5128205128205132, &quot;y&quot;: 2.8999316802367336, &quot;z&quot;: -1.6880555727684565}, {&quot;x&quot;: 1.5128205128205132, &quot;y&quot;: 2.9804853380210874, &quot;z&quot;: -1.6447621435462603}, {&quot;x&quot;: 1.5128205128205132, &quot;y&quot;: 3.061038995805441, &quot;z&quot;: -1.6176311199827853}, {&quot;x&quot;: 1.5128205128205132, &quot;y&quot;: 3.141592653589793, &quot;z&quot;: -1.6084083079411937}, {&quot;x&quot;: 1.5641025641025645, &quot;y&quot;: 0.08055365778435367, &quot;z&quot;: -1.3965529413510305}, {&quot;x&quot;: 1.5641025641025645, &quot;y&quot;: 0.0, &quot;z&quot;: -1.3899676103251335}, {&quot;x&quot;: 1.5641025641025645, &quot;y&quot;: 0.16110731556870733, &quot;z&quot;: -1.4157808929126552}, {&quot;x&quot;: 1.5641025641025645, &quot;y&quot;: 0.241660973353061, &quot;z&quot;: -1.4459638772556438}, {&quot;x&quot;: 1.5641025641025645, &quot;y&quot;: 0.32221463113741466, &quot;z&quot;: -1.4839447350781665}, {&quot;x&quot;: 1.5641025641025645, &quot;y&quot;: 0.4027682889217683, &quot;z&quot;: -1.5245868800113345}, {&quot;x&quot;: 1.5641025641025645, &quot;y&quot;: 0.48332194670612194, &quot;z&quot;: -1.560095462331936}, {&quot;x&quot;: 1.5641025641025645, &quot;y&quot;: 0.5638756044904756, &quot;z&quot;: -1.5792559862280522}, {&quot;x&quot;: 1.5641025641025645, &quot;y&quot;: 0.6444292622748292, &quot;z&quot;: -1.566776907436779}, {&quot;x&quot;: 1.5641025641025645, &quot;y&quot;: 0.7249829200591829, &quot;z&quot;: -1.503071420783511}, {&quot;x&quot;: 1.5641025641025645, &quot;y&quot;: 0.8055365778435365, &quot;z&quot;: -1.3649889993972442}, {&quot;x&quot;: 1.5641025641025645, &quot;y&quot;: 0.8860902356278901, &quot;z&quot;: -1.1281367156207627}, {&quot;x&quot;: 1.5641025641025645, &quot;y&quot;: 0.9666438934122438, &quot;z&quot;: -0.7713711506867456}, {&quot;x&quot;: 1.5641025641025645, &quot;y&quot;: 1.0471975511965974, &quot;z&quot;: -0.2835978314400842}, {&quot;x&quot;: 1.5641025641025645, &quot;y&quot;: 1.1277512089809512, &quot;z&quot;: 0.32796299965320924}, {&quot;x&quot;: 1.5641025641025645, &quot;y&quot;: 1.208304866765305, &quot;z&quot;: 1.0302994507215812}, {&quot;x&quot;: 1.5641025641025645, &quot;y&quot;: 1.2888585245496587, &quot;z&quot;: 1.761459597985994}, {&quot;x&quot;: 1.5641025641025645, &quot;y&quot;: 1.3694121823340124, &quot;z&quot;: 2.4354019992954083}, {&quot;x&quot;: 1.5641025641025645, &quot;y&quot;: 1.4499658401183662, &quot;z&quot;: 2.9565228378950628}, {&quot;x&quot;: 1.5641025641025645, &quot;y&quot;: 1.53051949790272, &quot;z&quot;: 3.241470448011448}, {&quot;x&quot;: 1.5641025641025645, &quot;y&quot;: 1.6110731556870737, &quot;z&quot;: 3.241470448011447}, {&quot;x&quot;: 1.5641025641025645, &quot;y&quot;: 1.6916268134714274, &quot;z&quot;: 2.9565228378950597}, {&quot;x&quot;: 1.5641025641025645, &quot;y&quot;: 1.7721804712557812, &quot;z&quot;: 2.4354019992954066}, {&quot;x&quot;: 1.5641025641025645, &quot;y&quot;: 1.852734129040135, &quot;z&quot;: 1.7614595979859917}, {&quot;x&quot;: 1.5641025641025645, &quot;y&quot;: 1.9332877868244887, &quot;z&quot;: 1.0302994507215781}, {&quot;x&quot;: 1.5641025641025645, &quot;y&quot;: 2.0138414446088424, &quot;z&quot;: 0.3279629996532064}, {&quot;x&quot;: 1.5641025641025645, &quot;y&quot;: 2.094395102393196, &quot;z&quot;: -0.28359783144008605}, {&quot;x&quot;: 1.5641025641025645, &quot;y&quot;: 2.17494876017755, &quot;z&quot;: -0.7713711506867482}, {&quot;x&quot;: 1.5641025641025645, &quot;y&quot;: 2.2555024179619036, &quot;z&quot;: -1.1281367156207642}, {&quot;x&quot;: 1.5641025641025645, &quot;y&quot;: 2.3360560757462574, &quot;z&quot;: -1.3649889993972468}, {&quot;x&quot;: 1.5641025641025645, &quot;y&quot;: 2.416609733530611, &quot;z&quot;: -1.5030714207835136}, {&quot;x&quot;: 1.5641025641025645, &quot;y&quot;: 2.497163391314965, &quot;z&quot;: -1.5667769074367777}, {&quot;x&quot;: 1.5641025641025645, &quot;y&quot;: 2.5777170490993186, &quot;z&quot;: -1.5792559862280535}, {&quot;x&quot;: 1.5641025641025645, &quot;y&quot;: 2.6582707068836724, &quot;z&quot;: -1.5600954623319372}, {&quot;x&quot;: 1.5641025641025645, &quot;y&quot;: 2.738824364668026, &quot;z&quot;: -1.5245868800113318}, {&quot;x&quot;: 1.5641025641025645, &quot;y&quot;: 2.81937802245238, &quot;z&quot;: -1.4839447350781643}, {&quot;x&quot;: 1.5641025641025645, &quot;y&quot;: 2.8999316802367336, &quot;z&quot;: -1.4459638772556422}, {&quot;x&quot;: 1.5641025641025645, &quot;y&quot;: 2.9804853380210874, &quot;z&quot;: -1.415780892912656}, {&quot;x&quot;: 1.5641025641025645, &quot;y&quot;: 3.061038995805441, &quot;z&quot;: -1.3965529413510307}, {&quot;x&quot;: 1.5641025641025645, &quot;y&quot;: 3.141592653589793, &quot;z&quot;: -1.3899676103251335}, {&quot;x&quot;: 1.6153846153846159, &quot;y&quot;: 0.08055365778435367, &quot;z&quot;: -1.2000248387911068}, {&quot;x&quot;: 1.6153846153846159, &quot;y&quot;: 0.0, &quot;z&quot;: -1.1954629655452107}, {&quot;x&quot;: 1.6153846153846159, &quot;y&quot;: 0.16110731556870733, &quot;z&quot;: -1.2132133079598222}, {&quot;x&quot;: 1.6153846153846159, &quot;y&quot;: 0.241660973353061, &quot;z&quot;: -1.2334579027243602}, {&quot;x&quot;: 1.6153846153846159, &quot;y&quot;: 0.32221463113741466, &quot;z&quot;: -1.2578805123301138}, {&quot;x&quot;: 1.6153846153846159, &quot;y&quot;: 0.4027682889217683, &quot;z&quot;: -1.2819183913584697}, {&quot;x&quot;: 1.6153846153846159, &quot;y&quot;: 0.48332194670612194, &quot;z&quot;: -1.2988406175769323}, {&quot;x&quot;: 1.6153846153846159, &quot;y&quot;: 0.5638756044904756, &quot;z&quot;: -1.2992406927370281}, {&quot;x&quot;: 1.6153846153846159, &quot;y&quot;: 0.6444292622748292, &quot;z&quot;: -1.2706649555020526}, {&quot;x&quot;: 1.6153846153846159, &quot;y&quot;: 0.7249829200591829, &quot;z&quot;: -1.1976424563606127}, {&quot;x&quot;: 1.6153846153846159, &quot;y&quot;: 0.8055365778435365, &quot;z&quot;: -1.06249468781415}, {&quot;x&quot;: 1.6153846153846159, &quot;y&quot;: 0.8860902356278901, &quot;z&quot;: -0.8473647514167524}, {&quot;x&quot;: 1.6153846153846159, &quot;y&quot;: 0.9666438934122438, &quot;z&quot;: -0.5378127092653276}, {&quot;x&quot;: 1.6153846153846159, &quot;y&quot;: 1.0471975511965974, &quot;z&quot;: -0.12795127401040382}, {&quot;x&quot;: 1.6153846153846159, &quot;y&quot;: 1.1277512089809512, &quot;z&quot;: 0.37362924296362804}, {&quot;x&quot;: 1.6153846153846159, &quot;y&quot;: 1.208304866765305, &quot;z&quot;: 0.9388621896950682}, {&quot;x&quot;: 1.6153846153846159, &quot;y&quot;: 1.2888585245496587, &quot;z&quot;: 1.5186292829161476}, {&quot;x&quot;: 1.6153846153846159, &quot;y&quot;: 1.3694121823340124, &quot;z&quot;: 2.0470233631347763}, {&quot;x&quot;: 1.6153846153846159, &quot;y&quot;: 1.4499658401183662, &quot;z&quot;: 2.452344690313049}, {&quot;x&quot;: 1.6153846153846159, &quot;y&quot;: 1.53051949790272, &quot;z&quot;: 2.67291494998339}, {&quot;x&quot;: 1.6153846153846159, &quot;y&quot;: 1.6110731556870737, &quot;z&quot;: 2.6729149499833897}, {&quot;x&quot;: 1.6153846153846159, &quot;y&quot;: 1.6916268134714274, &quot;z&quot;: 2.452344690313047}, {&quot;x&quot;: 1.6153846153846159, &quot;y&quot;: 1.7721804712557812, &quot;z&quot;: 2.047023363134775}, {&quot;x&quot;: 1.6153846153846159, &quot;y&quot;: 1.852734129040135, &quot;z&quot;: 1.5186292829161454}, {&quot;x&quot;: 1.6153846153846159, &quot;y&quot;: 1.9332877868244887, &quot;z&quot;: 0.9388621896950662}, {&quot;x&quot;: 1.6153846153846159, &quot;y&quot;: 2.0138414446088424, &quot;z&quot;: 0.3736292429636261}, {&quot;x&quot;: 1.6153846153846159, &quot;y&quot;: 2.094395102393196, &quot;z&quot;: -0.12795127401040518}, {&quot;x&quot;: 1.6153846153846159, &quot;y&quot;: 2.17494876017755, &quot;z&quot;: -0.5378127092653298}, {&quot;x&quot;: 1.6153846153846159, &quot;y&quot;: 2.2555024179619036, &quot;z&quot;: -0.8473647514167547}, {&quot;x&quot;: 1.6153846153846159, &quot;y&quot;: 2.3360560757462574, &quot;z&quot;: -1.0624946878141521}, {&quot;x&quot;: 1.6153846153846159, &quot;y&quot;: 2.416609733530611, &quot;z&quot;: -1.1976424563606147}, {&quot;x&quot;: 1.6153846153846159, &quot;y&quot;: 2.497163391314965, &quot;z&quot;: -1.2706649555020522}, {&quot;x&quot;: 1.6153846153846159, &quot;y&quot;: 2.5777170490993186, &quot;z&quot;: -1.2992406927370281}, {&quot;x&quot;: 1.6153846153846159, &quot;y&quot;: 2.6582707068836724, &quot;z&quot;: -1.2988406175769323}, {&quot;x&quot;: 1.6153846153846159, &quot;y&quot;: 2.738824364668026, &quot;z&quot;: -1.281918391358469}, {&quot;x&quot;: 1.6153846153846159, &quot;y&quot;: 2.81937802245238, &quot;z&quot;: -1.2578805123301133}, {&quot;x&quot;: 1.6153846153846159, &quot;y&quot;: 2.8999316802367336, &quot;z&quot;: -1.2334579027243586}, {&quot;x&quot;: 1.6153846153846159, &quot;y&quot;: 2.9804853380210874, &quot;z&quot;: -1.2132133079598233}, {&quot;x&quot;: 1.6153846153846159, &quot;y&quot;: 3.061038995805441, &quot;z&quot;: -1.2000248387911074}, {&quot;x&quot;: 1.6153846153846159, &quot;y&quot;: 3.141592653589793, &quot;z&quot;: -1.1954629655452105}, {&quot;x&quot;: 1.6666666666666672, &quot;y&quot;: 0.08055365778435367, &quot;z&quot;: -1.0272608437092543}, {&quot;x&quot;: 1.6666666666666672, &quot;y&quot;: 0.0, &quot;z&quot;: -1.0242343793394773}, {&quot;x&quot;: 1.6666666666666672, &quot;y&quot;: 0.16110731556870733, &quot;z&quot;: -1.0358854471826844}, {&quot;x&quot;: 1.6666666666666672, &quot;y&quot;: 0.241660973353061, &quot;z&quot;: -1.0486842823166025}, {&quot;x&quot;: 1.6666666666666672, &quot;y&quot;: 0.32221463113741466, &quot;z&quot;: -1.063089664704508}, {&quot;x&quot;: 1.6666666666666672, &quot;y&quot;: 0.4027682889217683, &quot;z&quot;: -1.0751156123107526}, {&quot;x&quot;: 1.6666666666666672, &quot;y&quot;: 0.48332194670612194, &quot;z&quot;: -1.0790202292542135}, {&quot;x&quot;: 1.6666666666666672, &quot;y&quot;: 0.5638756044904756, &quot;z&quot;: -1.066979830859253}, {&quot;x&quot;: 1.6666666666666672, &quot;y&quot;: 0.6444292622748292, &quot;z&quot;: -1.0289079537777546}, {&quot;x&quot;: 1.6666666666666672, &quot;y&quot;: 0.7249829200591829, &quot;z&quot;: -0.9526267911954327}, {&quot;x&quot;: 1.6666666666666672, &quot;y&quot;: 0.8055365778435365, &quot;z&quot;: -0.8246687741805532}, {&quot;x&quot;: 1.6666666666666672, &quot;y&quot;: 0.8860902356278901, &quot;z&quot;: -0.6320064761120299}, {&quot;x&quot;: 1.6666666666666672, &quot;y&quot;: 0.9666438934122438, &quot;z&quot;: -0.364907326299053}, {&quot;x&quot;: 1.6666666666666672, &quot;y&quot;: 1.0471975511965974, &quot;z&quot;: -0.020806644909923084}, {&quot;x&quot;: 1.6666666666666672, &quot;y&quot;: 1.1277512089809512, &quot;z&quot;: 0.39144105459051226}, {&quot;x&quot;: 1.6666666666666672, &quot;y&quot;: 1.208304866765305, &quot;z&quot;: 0.8482289118649655}, {&quot;x&quot;: 1.6666666666666672, &quot;y&quot;: 1.2888585245496587, &quot;z&quot;: 1.310548206076016}, {&quot;x&quot;: 1.6666666666666672, &quot;y&quot;: 1.3694121823340124, &quot;z&quot;: 1.7276161622865036}, {&quot;x&quot;: 1.6666666666666672, &quot;y&quot;: 1.4499658401183662, &quot;z&quot;: 2.0452271264449116}, {&quot;x&quot;: 1.6666666666666672, &quot;y&quot;: 1.53051949790272, &quot;z&quot;: 2.2173162658445045}, {&quot;x&quot;: 1.6666666666666672, &quot;y&quot;: 1.6110731556870737, &quot;z&quot;: 2.217316265844505}, {&quot;x&quot;: 1.6666666666666672, &quot;y&quot;: 1.6916268134714274, &quot;z&quot;: 2.0452271264449102}, {&quot;x&quot;: 1.6666666666666672, &quot;y&quot;: 1.7721804712557812, &quot;z&quot;: 1.7276161622865027}, {&quot;x&quot;: 1.6666666666666672, &quot;y&quot;: 1.852734129040135, &quot;z&quot;: 1.3105482060760152}, {&quot;x&quot;: 1.6666666666666672, &quot;y&quot;: 1.9332877868244887, &quot;z&quot;: 0.848228911864964}, {&quot;x&quot;: 1.6666666666666672, &quot;y&quot;: 2.0138414446088424, &quot;z&quot;: 0.3914410545905104}, {&quot;x&quot;: 1.6666666666666672, &quot;y&quot;: 2.094395102393196, &quot;z&quot;: -0.02080664490992383}, {&quot;x&quot;: 1.6666666666666672, &quot;y&quot;: 2.17494876017755, &quot;z&quot;: -0.36490732629905465}, {&quot;x&quot;: 1.6666666666666672, &quot;y&quot;: 2.2555024179619036, &quot;z&quot;: -0.6320064761120316}, {&quot;x&quot;: 1.6666666666666672, &quot;y&quot;: 2.3360560757462574, &quot;z&quot;: -0.8246687741805552}, {&quot;x&quot;: 1.6666666666666672, &quot;y&quot;: 2.416609733530611, &quot;z&quot;: -0.9526267911954334}, {&quot;x&quot;: 1.6666666666666672, &quot;y&quot;: 2.497163391314965, &quot;z&quot;: -1.0289079537777561}, {&quot;x&quot;: 1.6666666666666672, &quot;y&quot;: 2.5777170490993186, &quot;z&quot;: -1.0669798308592537}, {&quot;x&quot;: 1.6666666666666672, &quot;y&quot;: 2.6582707068836724, &quot;z&quot;: -1.0790202292542133}, {&quot;x&quot;: 1.6666666666666672, &quot;y&quot;: 2.738824364668026, &quot;z&quot;: -1.075115612310751}, {&quot;x&quot;: 1.6666666666666672, &quot;y&quot;: 2.81937802245238, &quot;z&quot;: -1.0630896647045074}, {&quot;x&quot;: 1.6666666666666672, &quot;y&quot;: 2.8999316802367336, &quot;z&quot;: -1.0486842823166025}, {&quot;x&quot;: 1.6666666666666672, &quot;y&quot;: 2.9804853380210874, &quot;z&quot;: -1.0358854471826846}, {&quot;x&quot;: 1.6666666666666672, &quot;y&quot;: 3.061038995805441, &quot;z&quot;: -1.027260843709254}, {&quot;x&quot;: 1.6666666666666672, &quot;y&quot;: 3.141592653589793, &quot;z&quot;: -1.0242343793394773}, {&quot;x&quot;: 1.7179487179487185, &quot;y&quot;: 0.08055365778435367, &quot;z&quot;: -0.8766888275539715}, {&quot;x&quot;: 1.7179487179487185, &quot;y&quot;: 0.0, &quot;z&quot;: -0.8748139746863387}, {&quot;x&quot;: 1.7179487179487185, &quot;y&quot;: 0.16110731556870733, &quot;z&quot;: -0.8819057776306154}, {&quot;x&quot;: 1.7179487179487185, &quot;y&quot;: 0.241660973353061, &quot;z&quot;: -0.889197750160019}, {&quot;x&quot;: 1.7179487179487185, &quot;y&quot;: 0.32221463113741466, &quot;z&quot;: -0.8963098920068305}, {&quot;x&quot;: 1.7179487179487185, &quot;y&quot;: 0.4027682889217683, &quot;z&quot;: -0.8998030491946387}, {&quot;x&quot;: 1.7179487179487185, &quot;y&quot;: 0.48332194670612194, &quot;z&quot;: -0.8948238107705646}, {&quot;x&quot;: 1.7179487179487185, &quot;y&quot;: 0.5638756044904756, &quot;z&quot;: -0.8749064692839679}, {&quot;x&quot;: 1.7179487179487185, &quot;y&quot;: 0.6444292622748292, &quot;z&quot;: -0.8319158576018124}, {&quot;x&quot;: 1.7179487179487185, &quot;y&quot;: 0.7249829200591829, &quot;z&quot;: -0.7562914338558411}, {&quot;x&quot;: 1.7179487179487185, &quot;y&quot;: 0.8055365778435365, &quot;z&quot;: -0.6377947251155597}, {&quot;x&quot;: 1.7179487179487185, &quot;y&quot;: 0.8860902356278901, &quot;z&quot;: -0.4669595298855309}, {&quot;x&quot;: 1.7179487179487185, &quot;y&quot;: 0.9666438934122438, &quot;z&quot;: -0.2373465837002105}, {&quot;x&quot;: 1.7179487179487185, &quot;y&quot;: 1.0471975511965974, &quot;z&quot;: 0.05153693328249008}, {&quot;x&quot;: 1.7179487179487185, &quot;y&quot;: 1.1277512089809512, &quot;z&quot;: 0.3911832275677921}, {&quot;x&quot;: 1.7179487179487185, &quot;y&quot;: 1.208304866765305, &quot;z&quot;: 0.76187120107305}, {&quot;x&quot;: 1.7179487179487185, &quot;y&quot;: 1.2888585245496587, &quot;z&quot;: 1.1325468376975274}, {&quot;x&quot;: 1.7179487179487185, &quot;y&quot;: 1.3694121823340124, &quot;z&quot;: 1.4638513334340326}, {&quot;x&quot;: 1.7179487179487185, &quot;y&quot;: 1.4499658401183662, &quot;z&quot;: 1.7144886766211376}, {&quot;x&quot;: 1.7179487179487185, &quot;y&quot;: 1.53051949790272, &quot;z&quot;: 1.8497524208454605}, {&quot;x&quot;: 1.7179487179487185, &quot;y&quot;: 1.6110731556870737, &quot;z&quot;: 1.8497524208454603}, {&quot;x&quot;: 1.7179487179487185, &quot;y&quot;: 1.6916268134714274, &quot;z&quot;: 1.7144886766211351}, {&quot;x&quot;: 1.7179487179487185, &quot;y&quot;: 1.7721804712557812, &quot;z&quot;: 1.4638513334340317}, {&quot;x&quot;: 1.7179487179487185, &quot;y&quot;: 1.852734129040135, &quot;z&quot;: 1.1325468376975265}, {&quot;x&quot;: 1.7179487179487185, &quot;y&quot;: 1.9332877868244887, &quot;z&quot;: 0.7618712010730486}, {&quot;x&quot;: 1.7179487179487185, &quot;y&quot;: 2.0138414446088424, &quot;z&quot;: 0.39118322756779045}, {&quot;x&quot;: 1.7179487179487185, &quot;y&quot;: 2.094395102393196, &quot;z&quot;: 0.05153693328248911}, {&quot;x&quot;: 1.7179487179487185, &quot;y&quot;: 2.17494876017755, &quot;z&quot;: -0.2373465837002117}, {&quot;x&quot;: 1.7179487179487185, &quot;y&quot;: 2.2555024179619036, &quot;z&quot;: -0.46695952988553274}, {&quot;x&quot;: 1.7179487179487185, &quot;y&quot;: 2.3360560757462574, &quot;z&quot;: -0.63779472511556}, {&quot;x&quot;: 1.7179487179487185, &quot;y&quot;: 2.416609733530611, &quot;z&quot;: -0.7562914338558431}, {&quot;x&quot;: 1.7179487179487185, &quot;y&quot;: 2.497163391314965, &quot;z&quot;: -0.8319158576018124}, {&quot;x&quot;: 1.7179487179487185, &quot;y&quot;: 2.5777170490993186, &quot;z&quot;: -0.8749064692839683}, {&quot;x&quot;: 1.7179487179487185, &quot;y&quot;: 2.6582707068836724, &quot;z&quot;: -0.8948238107705648}, {&quot;x&quot;: 1.7179487179487185, &quot;y&quot;: 2.738824364668026, &quot;z&quot;: -0.8998030491946385}, {&quot;x&quot;: 1.7179487179487185, &quot;y&quot;: 2.81937802245238, &quot;z&quot;: -0.8963098920068285}, {&quot;x&quot;: 1.7179487179487185, &quot;y&quot;: 2.8999316802367336, &quot;z&quot;: -0.8891977501600188}, {&quot;x&quot;: 1.7179487179487185, &quot;y&quot;: 2.9804853380210874, &quot;z&quot;: -0.8819057776306161}, {&quot;x&quot;: 1.7179487179487185, &quot;y&quot;: 3.061038995805441, &quot;z&quot;: -0.8766888275539719}, {&quot;x&quot;: 1.7179487179487185, &quot;y&quot;: 3.141592653589793, &quot;z&quot;: -0.8748139746863387}, {&quot;x&quot;: 1.7692307692307698, &quot;y&quot;: 0.08055365778435367, &quot;z&quot;: -0.746334905952422}, {&quot;x&quot;: 1.7692307692307698, &quot;y&quot;: 0.0, &quot;z&quot;: -0.7453126575697071}, {&quot;x&quot;: 1.7692307692307698, &quot;y&quot;: 0.16110731556870733, &quot;z&quot;: -0.7490418041112558}, {&quot;x&quot;: 1.7692307692307698, &quot;y&quot;: 0.241660973353061, &quot;z&quot;: -0.7523214083396588}, {&quot;x&quot;: 1.7692307692307698, &quot;y&quot;: 0.32221463113741466, &quot;z&quot;: -0.7542169258445185}, {&quot;x&quot;: 1.7692307692307698, &quot;y&quot;: 0.4027682889217683, &quot;z&quot;: -0.7517888583664964}, {&quot;x&quot;: 1.7692307692307698, &quot;y&quot;: 0.48332194670612194, &quot;z&quot;: -0.7409634964182662}, {&quot;x&quot;: 1.7692307692307698, &quot;y&quot;: 0.5638756044904756, &quot;z&quot;: -0.7164234384287954}, {&quot;x&quot;: 1.7692307692307698, &quot;y&quot;: 0.6444292622748292, &quot;z&quot;: -0.6716280673059836}, {&quot;x&quot;: 1.7692307692307698, &quot;y&quot;: 0.7249829200591829, &quot;z&quot;: -0.5990868322761563}, {&quot;x&quot;: 1.7692307692307698, &quot;y&quot;: 0.8055365778435365, &quot;z&quot;: -0.49103126612090287}, {&quot;x&quot;: 1.7692307692307698, &quot;y&quot;: 0.8860902356278901, &quot;z&quot;: -0.34061675732287855}, {&quot;x&quot;: 1.7692307692307698, &quot;y&quot;: 0.9666438934122438, &quot;z&quot;: -0.1436973380273669}, {&quot;x&quot;: 1.7692307692307698, &quot;y&quot;: 1.0471975511965974, &quot;z&quot;: 0.09897282331919283}, {&quot;x&quot;: 1.7692307692307698, &quot;y&quot;: 1.1277512089809512, &quot;z&quot;: 0.37954249060118295}, {&quot;x&quot;: 1.7692307692307698, &quot;y&quot;: 1.208304866765305, &quot;z&quot;: 0.6816047347630034}, {&quot;x&quot;: 1.7692307692307698, &quot;y&quot;: 1.2888585245496587, &quot;z&quot;: 0.9803667228153821}, {&quot;x&quot;: 1.7692307692307698, &quot;y&quot;: 1.3694121823340124, &quot;z&quot;: 1.2451471640488372}, {&quot;x&quot;: 1.7692307692307698, &quot;y&quot;: 1.4499658401183662, &quot;z&quot;: 1.4442529113611915}, {&quot;x&quot;: 1.7692307692307698, &quot;y&quot;: 1.53051949790272, &quot;z&quot;: 1.5513173075895899}, {&quot;x&quot;: 1.7692307692307698, &quot;y&quot;: 1.6110731556870737, &quot;z&quot;: 1.5513173075895894}, {&quot;x&quot;: 1.7692307692307698, &quot;y&quot;: 1.6916268134714274, &quot;z&quot;: 1.44425291136119}, {&quot;x&quot;: 1.7692307692307698, &quot;y&quot;: 1.7721804712557812, &quot;z&quot;: 1.2451471640488367}, {&quot;x&quot;: 1.7692307692307698, &quot;y&quot;: 1.852734129040135, &quot;z&quot;: 0.9803667228153816}, {&quot;x&quot;: 1.7692307692307698, &quot;y&quot;: 1.9332877868244887, &quot;z&quot;: 0.6816047347630023}, {&quot;x&quot;: 1.7692307692307698, &quot;y&quot;: 2.0138414446088424, &quot;z&quot;: 0.3795424906011819}, {&quot;x&quot;: 1.7692307692307698, &quot;y&quot;: 2.094395102393196, &quot;z&quot;: 0.09897282331919195}, {&quot;x&quot;: 1.7692307692307698, &quot;y&quot;: 2.17494876017755, &quot;z&quot;: -0.1436973380273676}, {&quot;x&quot;: 1.7692307692307698, &quot;y&quot;: 2.2555024179619036, &quot;z&quot;: -0.34061675732288}, {&quot;x&quot;: 1.7692307692307698, &quot;y&quot;: 2.3360560757462574, &quot;z&quot;: -0.4910312661209037}, {&quot;x&quot;: 1.7692307692307698, &quot;y&quot;: 2.416609733530611, &quot;z&quot;: -0.5990868322761574}, {&quot;x&quot;: 1.7692307692307698, &quot;y&quot;: 2.497163391314965, &quot;z&quot;: -0.6716280673059842}, {&quot;x&quot;: 1.7692307692307698, &quot;y&quot;: 2.5777170490993186, &quot;z&quot;: -0.7164234384287954}, {&quot;x&quot;: 1.7692307692307698, &quot;y&quot;: 2.6582707068836724, &quot;z&quot;: -0.7409634964182665}, {&quot;x&quot;: 1.7692307692307698, &quot;y&quot;: 2.738824364668026, &quot;z&quot;: -0.7517888583664953}, {&quot;x&quot;: 1.7692307692307698, &quot;y&quot;: 2.81937802245238, &quot;z&quot;: -0.7542169258445184}, {&quot;x&quot;: 1.7692307692307698, &quot;y&quot;: 2.8999316802367336, &quot;z&quot;: -0.7523214083396597}, {&quot;x&quot;: 1.7692307692307698, &quot;y&quot;: 2.9804853380210874, &quot;z&quot;: -0.749041804111255}, {&quot;x&quot;: 1.7692307692307698, &quot;y&quot;: 3.061038995805441, &quot;z&quot;: -0.7463349059524224}, {&quot;x&quot;: 1.7692307692307698, &quot;y&quot;: 3.141592653589793, &quot;z&quot;: -0.7453126575697071}, {&quot;x&quot;: 1.8205128205128212, &quot;y&quot;: 0.08055365778435367, &quot;z&quot;: -0.6340760090699196}, {&quot;x&quot;: 1.8205128205128212, &quot;y&quot;: 0.0, &quot;z&quot;: -0.6336753917113782}, {&quot;x&quot;: 1.8205128205128212, &quot;y&quot;: 0.16110731556870733, &quot;z&quot;: -0.6349637886926032}, {&quot;x&quot;: 1.8205128205128212, &quot;y&quot;: 0.241660973353061, &quot;z&quot;: -0.6353731851042486}, {&quot;x&quot;: 1.8205128205128212, &quot;y&quot;: 0.32221463113741466, &quot;z&quot;: -0.6336214060575905}, {&quot;x&quot;: 1.8205128205128212, &quot;y&quot;: 0.4027682889217683, &quot;z&quot;: -0.6272141850748164}, {&quot;x&quot;: 1.8205128205128212, &quot;y&quot;: 0.48332194670612194, &quot;z&quot;: -0.6127507096287953}, {&quot;x&quot;: 1.8205128205128212, &quot;y&quot;: 0.5638756044904756, &quot;z&quot;: -0.5858742949868816}, {&quot;x&quot;: 1.8205128205128212, &quot;y&quot;: 0.6444292622748292, &quot;z&quot;: -0.5413390126938429}, {&quot;x&quot;: 1.8205128205128212, &quot;y&quot;: 0.7249829200591829, &quot;z&quot;: -0.47328570375299417}, {&quot;x&quot;: 1.8205128205128212, &quot;y&quot;: 0.8055365778435365, &quot;z&quot;: -0.37583191751389927}, {&quot;x&quot;: 1.8205128205128212, &quot;y&quot;: 0.8860902356278901, &quot;z&quot;: -0.24405987946343094}, {&quot;x&quot;: 1.8205128205128212, &quot;y&quot;: 0.9666438934122438, &quot;z&quot;: -0.07541084113763186}, {&quot;x&quot;: 1.8205128205128212, &quot;y&quot;: 1.0471975511965974, &quot;z&quot;: 0.12865334891453528}, {&quot;x&quot;: 1.8205128205128212, &quot;y&quot;: 1.1277512089809512, &quot;z&quot;: 0.36106810857452665}, {&quot;x&quot;: 1.8205128205128212, &quot;y&quot;: 1.208304866765305, &quot;z&quot;: 0.608214805611468}, {&quot;x&quot;: 1.8205128205128212, &quot;y&quot;: 1.2888585245496587, &quot;z&quot;: 0.8502354486946726}, {&quot;x&quot;: 1.8205128205128212, &quot;y&quot;: 1.3694121823340124, &quot;z&quot;: 1.0630773412266714}, {&quot;x&quot;: 1.8205128205128212, &quot;y&quot;: 1.4499658401183662, &quot;z&quot;: 1.2222453689538288}, {&quot;x&quot;: 1.8205128205128212, &quot;y&quot;: 1.53051949790272, &quot;z&quot;: 1.3075503244788234}, {&quot;x&quot;: 1.8205128205128212, &quot;y&quot;: 1.6110731556870737, &quot;z&quot;: 1.3075503244788236}, {&quot;x&quot;: 1.8205128205128212, &quot;y&quot;: 1.6916268134714274, &quot;z&quot;: 1.2222453689538273}, {&quot;x&quot;: 1.8205128205128212, &quot;y&quot;: 1.7721804712557812, &quot;z&quot;: 1.0630773412266707}, {&quot;x&quot;: 1.8205128205128212, &quot;y&quot;: 1.852734129040135, &quot;z&quot;: 0.8502354486946716}, {&quot;x&quot;: 1.8205128205128212, &quot;y&quot;: 1.9332877868244887, &quot;z&quot;: 0.6082148056114672}, {&quot;x&quot;: 1.8205128205128212, &quot;y&quot;: 2.0138414446088424, &quot;z&quot;: 0.36106810857452537}, {&quot;x&quot;: 1.8205128205128212, &quot;y&quot;: 2.094395102393196, &quot;z&quot;: 0.12865334891453423}, {&quot;x&quot;: 1.8205128205128212, &quot;y&quot;: 2.17494876017755, &quot;z&quot;: -0.07541084113763291}, {&quot;x&quot;: 1.8205128205128212, &quot;y&quot;: 2.2555024179619036, &quot;z&quot;: -0.24405987946343252}, {&quot;x&quot;: 1.8205128205128212, &quot;y&quot;: 2.3360560757462574, &quot;z&quot;: -0.37583191751390027}, {&quot;x&quot;: 1.8205128205128212, &quot;y&quot;: 2.416609733530611, &quot;z&quot;: -0.4732857037529947}, {&quot;x&quot;: 1.8205128205128212, &quot;y&quot;: 2.497163391314965, &quot;z&quot;: -0.5413390126938435}, {&quot;x&quot;: 1.8205128205128212, &quot;y&quot;: 2.5777170490993186, &quot;z&quot;: -0.5858742949868815}, {&quot;x&quot;: 1.8205128205128212, &quot;y&quot;: 2.6582707068836724, &quot;z&quot;: -0.6127507096287951}, {&quot;x&quot;: 1.8205128205128212, &quot;y&quot;: 2.738824364668026, &quot;z&quot;: -0.6272141850748164}, {&quot;x&quot;: 1.8205128205128212, &quot;y&quot;: 2.81937802245238, &quot;z&quot;: -0.6336214060575899}, {&quot;x&quot;: 1.8205128205128212, &quot;y&quot;: 2.8999316802367336, &quot;z&quot;: -0.6353731851042492}, {&quot;x&quot;: 1.8205128205128212, &quot;y&quot;: 2.9804853380210874, &quot;z&quot;: -0.6349637886926037}, {&quot;x&quot;: 1.8205128205128212, &quot;y&quot;: 3.061038995805441, &quot;z&quot;: -0.6340760090699196}, {&quot;x&quot;: 1.8205128205128212, &quot;y&quot;: 3.141592653589793, &quot;z&quot;: -0.6336753917113782}, {&quot;x&quot;: 1.8717948717948725, &quot;y&quot;: 0.08055365778435367, &quot;z&quot;: -0.5377995700915207}, {&quot;x&quot;: 1.8717948717948725, &quot;y&quot;: 0.0, &quot;z&quot;: -0.5378436061793599}, {&quot;x&quot;: 1.8717948717948725, &quot;y&quot;: 0.16110731556870733, &quot;z&quot;: -0.5373957443450306}, {&quot;x&quot;: 1.8717948717948725, &quot;y&quot;: 0.241660973353061, &quot;z&quot;: -0.5358005264343952}, {&quot;x&quot;: 1.8717948717948725, &quot;y&quot;: 0.32221463113741466, &quot;z&quot;: -0.5315769056631673}, {&quot;x&quot;: 1.8717948717948725, &quot;y&quot;: 0.4027682889217683, &quot;z&quot;: -0.5226203140605624}, {&quot;x&quot;: 1.8717948717948725, &quot;y&quot;: 0.48332194670612194, &quot;z&quot;: -0.5061035747648495}, {&quot;x&quot;: 1.8717948717948725, &quot;y&quot;: 0.5638756044904756, &quot;z&quot;: -0.47846741636957346}, {&quot;x&quot;: 1.8717948717948725, &quot;y&quot;: 0.6444292622748292, &quot;z&quot;: -0.43551214209656963}, {&quot;x&quot;: 1.8717948717948725, &quot;y&quot;: 0.7249829200591829, &quot;z&quot;: -0.37266107267698106}, {&quot;x&quot;: 1.8717948717948725, &quot;y&quot;: 0.8055365778435365, &quot;z&quot;: -0.2854700264098482}, {&quot;x&quot;: 1.8717948717948725, &quot;y&quot;: 0.8860902356278901, &quot;z&quot;: -0.1704350587319059}, {&quot;x&quot;: 1.8717948717948725, &quot;y&quot;: 0.9666438934122438, &quot;z&quot;: -0.02608695606422287}, {&quot;x&quot;: 1.8717948717948725, &quot;y&quot;: 1.0471975511965974, &quot;z&quot;: 0.14575306849964553}, {&quot;x&quot;: 1.8717948717948725, &quot;y&quot;: 1.1277512089809512, &quot;z&quot;: 0.33883295331198765}, {&quot;x&quot;: 1.8717948717948725, &quot;y&quot;: 1.208304866765305, &quot;z&quot;: 0.5418592882597391}, {&quot;x&quot;: 1.8717948717948725, &quot;y&quot;: 1.2888585245496587, &quot;z&quot;: 0.7388716102537662}, {&quot;x&quot;: 1.8717948717948725, &quot;y&quot;: 1.3694121823340124, &quot;z&quot;: 0.9109091469711599}, {&quot;x&quot;: 1.8717948717948725, &quot;y&quot;: 1.4499658401183662, &quot;z&quot;: 1.0389120403678085}, {&quot;x&quot;: 1.8717948717948725, &quot;y&quot;: 1.53051949790272, &quot;z&quot;: 1.1073051900017075}, {&quot;x&quot;: 1.8717948717948725, &quot;y&quot;: 1.6110731556870737, &quot;z&quot;: 1.1073051900017075}, {&quot;x&quot;: 1.8717948717948725, &quot;y&quot;: 1.6916268134714274, &quot;z&quot;: 1.0389120403678067}, {&quot;x&quot;: 1.8717948717948725, &quot;y&quot;: 1.7721804712557812, &quot;z&quot;: 0.9109091469711597}, {&quot;x&quot;: 1.8717948717948725, &quot;y&quot;: 1.852734129040135, &quot;z&quot;: 0.7388716102537659}, {&quot;x&quot;: 1.8717948717948725, &quot;y&quot;: 1.9332877868244887, &quot;z&quot;: 0.5418592882597384}, {&quot;x&quot;: 1.8717948717948725, &quot;y&quot;: 2.0138414446088424, &quot;z&quot;: 0.3388329533119863}, {&quot;x&quot;: 1.8717948717948725, &quot;y&quot;: 2.094395102393196, &quot;z&quot;: 0.14575306849964503}, {&quot;x&quot;: 1.8717948717948725, &quot;y&quot;: 2.17494876017755, &quot;z&quot;: -0.02608695606422369}, {&quot;x&quot;: 1.8717948717948725, &quot;y&quot;: 2.2555024179619036, &quot;z&quot;: -0.17043505873190656}, {&quot;x&quot;: 1.8717948717948725, &quot;y&quot;: 2.3360560757462574, &quot;z&quot;: -0.28547002640984875}, {&quot;x&quot;: 1.8717948717948725, &quot;y&quot;: 2.416609733530611, &quot;z&quot;: -0.3726610726769826}, {&quot;x&quot;: 1.8717948717948725, &quot;y&quot;: 2.497163391314965, &quot;z&quot;: -0.43551214209656997}, {&quot;x&quot;: 1.8717948717948725, &quot;y&quot;: 2.5777170490993186, &quot;z&quot;: -0.47846741636957396}, {&quot;x&quot;: 1.8717948717948725, &quot;y&quot;: 2.6582707068836724, &quot;z&quot;: -0.5061035747648506}, {&quot;x&quot;: 1.8717948717948725, &quot;y&quot;: 2.738824364668026, &quot;z&quot;: -0.5226203140605623}, {&quot;x&quot;: 1.8717948717948725, &quot;y&quot;: 2.81937802245238, &quot;z&quot;: -0.531576905663168}, {&quot;x&quot;: 1.8717948717948725, &quot;y&quot;: 2.8999316802367336, &quot;z&quot;: -0.535800526434395}, {&quot;x&quot;: 1.8717948717948725, &quot;y&quot;: 2.9804853380210874, &quot;z&quot;: -0.53739574434503}, {&quot;x&quot;: 1.8717948717948725, &quot;y&quot;: 3.061038995805441, &quot;z&quot;: -0.5377995700915208}, {&quot;x&quot;: 1.8717948717948725, &quot;y&quot;: 3.141592653589793, &quot;z&quot;: -0.5378436061793599}, {&quot;x&quot;: 1.9230769230769238, &quot;y&quot;: 0.08055365778435367, &quot;z&quot;: -0.45549906052696326}, {&quot;x&quot;: 1.9230769230769238, &quot;y&quot;: 0.0, &quot;z&quot;: -0.4558532412395765}, {&quot;x&quot;: 1.9230769230769238, &quot;y&quot;: 0.16110731556870733, &quot;z&quot;: -0.4542030546169715}, {&quot;x&quot;: 1.9230769230769238, &quot;y&quot;: 0.241660973353061, &quot;z&quot;: -0.45125354160221476}, {&quot;x&quot;: 1.9230769230769238, &quot;y&quot;: 0.32221463113741466, &quot;z&quot;: -0.4454301362312255}, {&quot;x&quot;: 1.9230769230769238, &quot;y&quot;: 0.4027682889217683, &quot;z&quot;: -0.43496490117330266}, {&quot;x&quot;: 1.9230769230769238, &quot;y&quot;: 0.48332194670612194, &quot;z&quot;: -0.41751520035072676}, {&quot;x&quot;: 1.9230769230769238, &quot;y&quot;: 0.5638756044904756, &quot;z&quot;: -0.3901796903352059}, {&quot;x&quot;: 1.9230769230769238, &quot;y&quot;: 0.6444292622748292, &quot;z&quot;: -0.3496011654505663}, {&quot;x&quot;: 1.9230769230769238, &quot;y&quot;: 0.7249829200591829, &quot;z&quot;: -0.2922093358694484}, {&quot;x&quot;: 1.9230769230769238, &quot;y&quot;: 0.8055365778435365, &quot;z&quot;: -0.21465578914944192}, {&quot;x&quot;: 1.9230769230769238, &quot;y&quot;: 0.8860902356278901, &quot;z&quot;: -0.11447193450766777}, {&quot;x&quot;: 1.9230769230769238, &quot;y&quot;: 0.9666438934122438, &quot;z&quot;: 0.009071962828548571}, {&quot;x&quot;: 1.9230769230769238, &quot;y&quot;: 1.0471975511965974, &quot;z&quot;: 0.15401633887959124}, {&quot;x&quot;: 1.9230769230769238, &quot;y&quot;: 1.1277512089809512, &quot;z&quot;: 0.31488987803783997}, {&quot;x&quot;: 1.9230769230769238, &quot;y&quot;: 1.208304866765305, &quot;z&quot;: 0.482327321892985}, {&quot;x&quot;: 1.9230769230769238, &quot;y&quot;: 1.2888585245496587, &quot;z&quot;: 0.6434544367697999}, {&quot;x&quot;: 1.9230769230769238, &quot;y&quot;: 1.3694121823340124, &quot;z&quot;: 0.7832436603155077}, {&quot;x&quot;: 1.9230769230769238, &quot;y&quot;: 1.4499658401183662, &quot;z&quot;: 0.8867683760859884}, {&quot;x&quot;: 1.9230769230769238, &quot;y&quot;: 1.53051949790272, &quot;z&quot;: 0.9419273427543193}, {&quot;x&quot;: 1.9230769230769238, &quot;y&quot;: 1.6110731556870737, &quot;z&quot;: 0.9419273427543193}, {&quot;x&quot;: 1.9230769230769238, &quot;y&quot;: 1.6916268134714274, &quot;z&quot;: 0.8867683760859871}, {&quot;x&quot;: 1.9230769230769238, &quot;y&quot;: 1.7721804712557812, &quot;z&quot;: 0.7832436603155075}, {&quot;x&quot;: 1.9230769230769238, &quot;y&quot;: 1.852734129040135, &quot;z&quot;: 0.6434544367697994}, {&quot;x&quot;: 1.9230769230769238, &quot;y&quot;: 1.9332877868244887, &quot;z&quot;: 0.4823273218929842}, {&quot;x&quot;: 1.9230769230769238, &quot;y&quot;: 2.0138414446088424, &quot;z&quot;: 0.3148898780378394}, {&quot;x&quot;: 1.9230769230769238, &quot;y&quot;: 2.094395102393196, &quot;z&quot;: 0.1540163388795905}, {&quot;x&quot;: 1.9230769230769238, &quot;y&quot;: 2.17494876017755, &quot;z&quot;: 0.009071962828547917}, {&quot;x&quot;: 1.9230769230769238, &quot;y&quot;: 2.2555024179619036, &quot;z&quot;: -0.11447193450766818}, {&quot;x&quot;: 1.9230769230769238, &quot;y&quot;: 2.3360560757462574, &quot;z&quot;: -0.21465578914944225}, {&quot;x&quot;: 1.9230769230769238, &quot;y&quot;: 2.416609733530611, &quot;z&quot;: -0.2922093358694489}, {&quot;x&quot;: 1.9230769230769238, &quot;y&quot;: 2.497163391314965, &quot;z&quot;: -0.34960116545056663}, {&quot;x&quot;: 1.9230769230769238, &quot;y&quot;: 2.5777170490993186, &quot;z&quot;: -0.39017969033520605}, {&quot;x&quot;: 1.9230769230769238, &quot;y&quot;: 2.6582707068836724, &quot;z&quot;: -0.4175152003507269}, {&quot;x&quot;: 1.9230769230769238, &quot;y&quot;: 2.738824364668026, &quot;z&quot;: -0.4349649011733031}, {&quot;x&quot;: 1.9230769230769238, &quot;y&quot;: 2.81937802245238, &quot;z&quot;: -0.44543013623122574}, {&quot;x&quot;: 1.9230769230769238, &quot;y&quot;: 2.8999316802367336, &quot;z&quot;: -0.451253541602215}, {&quot;x&quot;: 1.9230769230769238, &quot;y&quot;: 2.9804853380210874, &quot;z&quot;: -0.45420305461697147}, {&quot;x&quot;: 1.9230769230769238, &quot;y&quot;: 3.061038995805441, &quot;z&quot;: -0.45549906052696343}, {&quot;x&quot;: 1.9230769230769238, &quot;y&quot;: 3.141592653589793, &quot;z&quot;: -0.4558532412395765}, {&quot;x&quot;: 1.9743589743589751, &quot;y&quot;: 0.08055365778435367, &quot;z&quot;: -0.38532615430665473}, {&quot;x&quot;: 1.9743589743589751, &quot;y&quot;: 0.0, &quot;z&quot;: -0.3858891159152961}, {&quot;x&quot;: 1.9743589743589751, &quot;y&quot;: 0.16110731556870733, &quot;z&quot;: -0.3834377578918172}, {&quot;x&quot;: 1.9743589743589751, &quot;y&quot;: 0.241660973353061, &quot;z&quot;: -0.3796179304902126}, {&quot;x&quot;: 1.9743589743589751, &quot;y&quot;: 0.32221463113741466, &quot;z&quot;: -0.3728347464467889}, {&quot;x&quot;: 1.9743589743589751, &quot;y&quot;: 0.4027682889217683, &quot;z&quot;: -0.3616081944180771}, {&quot;x&quot;: 1.9743589743589751, &quot;y&quot;: 0.48332194670612194, &quot;z&quot;: -0.3440020787433288}, {&quot;x&quot;: 1.9743589743589751, &quot;y&quot;: 0.5638756044904756, &quot;z&quot;: -0.31765545875312895}, {&quot;x&quot;: 1.9743589743589751, &quot;y&quot;: 0.6444292622748292, &quot;z&quot;: -0.2798878109251962}, {&quot;x&quot;: 1.9743589743589751, &quot;y&quot;: 0.7249829200591829, &quot;z&quot;: -0.22791759656438237}, {&quot;x&quot;: 1.9743589743589751, &quot;y&quot;: 0.8055365778435365, &quot;z&quot;: -0.15923057229441837}, {&quot;x&quot;: 1.9743589743589751, &quot;y&quot;: 0.8860902356278901, &quot;z&quot;: -0.07211444492298187}, {&quot;x&quot;: 1.9743589743589751, &quot;y&quot;: 0.9666438934122438, &quot;z&quot;: 0.033666573656741555}, {&quot;x&quot;: 1.9743589743589751, &quot;y&quot;: 1.0471975511965974, &quot;z&quot;: 0.1561511398343906}, {&quot;x&quot;: 1.9743589743589751, &quot;y&quot;: 1.1277512089809512, &quot;z&quot;: 0.2905876528281264}, {&quot;x&quot;: 1.9743589743589751, &quot;y&quot;: 1.208304866765305, &quot;z&quot;: 0.4292042659444727}, {&quot;x&quot;: 1.9743589743589751, &quot;y&quot;: 1.2888585245496587, &quot;z&quot;: 0.5615777724102105}, {&quot;x&quot;: 1.9743589743589751, &quot;y&quot;: 1.3694121823340124, &quot;z&quot;: 0.6757353619765333}, {&quot;x&quot;: 1.9743589743589751, &quot;y&quot;: 1.4499658401183662, &quot;z&quot;: 0.7599148998882423}, {&quot;x&quot;: 1.9743589743589751, &quot;y&quot;: 1.53051949790272, &quot;z&quot;: 0.8046503643941327}, {&quot;x&quot;: 1.9743589743589751, &quot;y&quot;: 1.6110731556870737, &quot;z&quot;: 0.8046503643941325}, {&quot;x&quot;: 1.9743589743589751, &quot;y&quot;: 1.6916268134714274, &quot;z&quot;: 0.759914899888241}, {&quot;x&quot;: 1.9743589743589751, &quot;y&quot;: 1.7721804712557812, &quot;z&quot;: 0.675735361976533}, {&quot;x&quot;: 1.9743589743589751, &quot;y&quot;: 1.852734129040135, &quot;z&quot;: 0.5615777724102101}, {&quot;x&quot;: 1.9743589743589751, &quot;y&quot;: 1.9332877868244887, &quot;z&quot;: 0.42920426594447214}, {&quot;x&quot;: 1.9743589743589751, &quot;y&quot;: 2.0138414446088424, &quot;z&quot;: 0.2905876528281258}, {&quot;x&quot;: 1.9743589743589751, &quot;y&quot;: 2.094395102393196, &quot;z&quot;: 0.1561511398343902}, {&quot;x&quot;: 1.9743589743589751, &quot;y&quot;: 2.17494876017755, &quot;z&quot;: 0.033666573656740875}, {&quot;x&quot;: 1.9743589743589751, &quot;y&quot;: 2.2555024179619036, &quot;z&quot;: -0.07211444492298234}, {&quot;x&quot;: 1.9743589743589751, &quot;y&quot;: 2.3360560757462574, &quot;z&quot;: -0.15923057229441911}, {&quot;x&quot;: 1.9743589743589751, &quot;y&quot;: 2.416609733530611, &quot;z&quot;: -0.22791759656438304}, {&quot;x&quot;: 1.9743589743589751, &quot;y&quot;: 2.497163391314965, &quot;z&quot;: -0.27988781092519693}, {&quot;x&quot;: 1.9743589743589751, &quot;y&quot;: 2.5777170490993186, &quot;z&quot;: -0.3176554587531293}, {&quot;x&quot;: 1.9743589743589751, &quot;y&quot;: 2.6582707068836724, &quot;z&quot;: -0.34400207874332933}, {&quot;x&quot;: 1.9743589743589751, &quot;y&quot;: 2.738824364668026, &quot;z&quot;: -0.3616081944180769}, {&quot;x&quot;: 1.9743589743589751, &quot;y&quot;: 2.81937802245238, &quot;z&quot;: -0.3728347464467892}, {&quot;x&quot;: 1.9743589743589751, &quot;y&quot;: 2.8999316802367336, &quot;z&quot;: -0.37961793049021286}, {&quot;x&quot;: 1.9743589743589751, &quot;y&quot;: 2.9804853380210874, &quot;z&quot;: -0.3834377578918171}, {&quot;x&quot;: 1.9743589743589751, &quot;y&quot;: 3.061038995805441, &quot;z&quot;: -0.38532615430665496}, {&quot;x&quot;: 1.9743589743589751, &quot;y&quot;: 3.141592653589793, &quot;z&quot;: -0.3858891159152961}, {&quot;x&quot;: 2.0256410256410264, &quot;y&quot;: 0.08055365778435367, &quot;z&quot;: -0.32561429697079597}, {&quot;x&quot;: 2.0256410256410264, &quot;y&quot;: 0.0, &quot;z&quot;: -0.32631036764161947}, {&quot;x&quot;: 2.0256410256410264, &quot;y&quot;: 0.16110731556870733, &quot;z&quot;: -0.32335631944472865}, {&quot;x&quot;: 2.0256410256410264, &quot;y&quot;: 0.241660973353061, &quot;z&quot;: -0.319022486152878}, {&quot;x&quot;: 2.0256410256410264, &quot;y&quot;: 0.32221463113741466, &quot;z&quot;: -0.3117432220511131}, {&quot;x&quot;: 2.0256410256410264, &quot;y&quot;: 0.4027682889217683, &quot;z&quot;: -0.30028293212322055}, {&quot;x&quot;: 2.0256410256410264, &quot;y&quot;: 0.48332194670612194, &quot;z&quot;: -0.2830445391393154}, {&quot;x&quot;: 2.0256410256410264, &quot;y&quot;: 0.5638756044904756, &quot;z&quot;: -0.258109470422422}, {&quot;x&quot;: 2.0256410256410264, &quot;y&quot;: 0.6444292622748292, &quot;z&quot;: -0.22333969594071698}, {&quot;x&quot;: 2.0256410256410264, &quot;y&quot;: 0.7249829200591829, &quot;z&quot;: -0.17657132359516675}, {&quot;x&quot;: 2.0256410256410264, &quot;y&quot;: 0.8055365778435365, &quot;z&quot;: -0.11592465050408064}, {&quot;x&quot;: 2.0256410256410264, &quot;y&quot;: 0.8860902356278901, &quot;z&quot;: -0.0402380319283581}, {&quot;x&quot;: 2.0256410256410264, &quot;y&quot;: 0.9666438934122438, &quot;z&quot;: 0.05040193893051108}, {&quot;x&quot;: 2.0256410256410264, &quot;y&quot;: 1.0471975511965974, &quot;z&quot;: 0.15411307798093227}, {&quot;x&quot;: 2.0256410256410264, &quot;y&quot;: 1.1277512089809512, &quot;z&quot;: 0.26679017910574254}, {&quot;x&quot;: 2.0256410256410264, &quot;y&quot;: 1.208304866765305, &quot;z&quot;: 0.3819757280670003}, {&quot;x&quot;: 2.0256410256410264, &quot;y&quot;: 1.2888585245496587, &quot;z&quot;: 0.49119932326774746}, {&quot;x&quot;: 2.0256410256410264, &quot;y&quot;: 1.3694121823340124, &quot;z&quot;: 0.5848733256219063}, {&quot;x&quot;: 2.0256410256410264, &quot;y&quot;: 1.4499658401183662, &quot;z&quot;: 0.6536741808922916}, {&quot;x&quot;: 2.0256410256410264, &quot;y&quot;: 1.53051949790272, &quot;z&quot;: 0.690149343780327}, {&quot;x&quot;: 2.0256410256410264, &quot;y&quot;: 1.6110731556870737, &quot;z&quot;: 0.690149343780327}, {&quot;x&quot;: 2.0256410256410264, &quot;y&quot;: 1.6916268134714274, &quot;z&quot;: 0.6536741808922913}, {&quot;x&quot;: 2.0256410256410264, &quot;y&quot;: 1.7721804712557812, &quot;z&quot;: 0.5848733256219061}, {&quot;x&quot;: 2.0256410256410264, &quot;y&quot;: 1.852734129040135, &quot;z&quot;: 0.4911993232677472}, {&quot;x&quot;: 2.0256410256410264, &quot;y&quot;: 1.9332877868244887, &quot;z&quot;: 0.3819757280669999}, {&quot;x&quot;: 2.0256410256410264, &quot;y&quot;: 2.0138414446088424, &quot;z&quot;: 0.26679017910574204}, {&quot;x&quot;: 2.0256410256410264, &quot;y&quot;: 2.094395102393196, &quot;z&quot;: 0.1541130779809319}, {&quot;x&quot;: 2.0256410256410264, &quot;y&quot;: 2.17494876017755, &quot;z&quot;: 0.0504019389305107}, {&quot;x&quot;: 2.0256410256410264, &quot;y&quot;: 2.2555024179619036, &quot;z&quot;: -0.040238031928358724}, {&quot;x&quot;: 2.0256410256410264, &quot;y&quot;: 2.3360560757462574, &quot;z&quot;: -0.1159246505040811}, {&quot;x&quot;: 2.0256410256410264, &quot;y&quot;: 2.416609733530611, &quot;z&quot;: -0.17657132359516758}, {&quot;x&quot;: 2.0256410256410264, &quot;y&quot;: 2.497163391314965, &quot;z&quot;: -0.22333969594071756}, {&quot;x&quot;: 2.0256410256410264, &quot;y&quot;: 2.5777170490993186, &quot;z&quot;: -0.25810947042242244}, {&quot;x&quot;: 2.0256410256410264, &quot;y&quot;: 2.6582707068836724, &quot;z&quot;: -0.2830445391393157}, {&quot;x&quot;: 2.0256410256410264, &quot;y&quot;: 2.738824364668026, &quot;z&quot;: -0.3002829321232207}, {&quot;x&quot;: 2.0256410256410264, &quot;y&quot;: 2.81937802245238, &quot;z&quot;: -0.3117432220511129}, {&quot;x&quot;: 2.0256410256410264, &quot;y&quot;: 2.8999316802367336, &quot;z&quot;: -0.31902248615287765}, {&quot;x&quot;: 2.0256410256410264, &quot;y&quot;: 2.9804853380210874, &quot;z&quot;: -0.32335631944472865}, {&quot;x&quot;: 2.0256410256410264, &quot;y&quot;: 3.061038995805441, &quot;z&quot;: -0.32561429697079586}, {&quot;x&quot;: 2.0256410256410264, &quot;y&quot;: 3.141592653589793, &quot;z&quot;: -0.32631036764161947}, {&quot;x&quot;: 2.0769230769230775, &quot;y&quot;: 0.08055365778435367, &quot;z&quot;: -0.2748840154228905}, {&quot;x&quot;: 2.0769230769230775, &quot;y&quot;: 0.0, &quot;z&quot;: -0.2756573130072723}, {&quot;x&quot;: 2.0769230769230775, &quot;y&quot;: 0.16110731556870733, &quot;z&quot;: -0.2724201626082126}, {&quot;x&quot;: 2.0769230769230775, &quot;y&quot;: 0.241660973353061, &quot;z&quot;: -0.2678312553868498}, {&quot;x&quot;: 2.0769230769230775, &quot;y&quot;: 0.32221463113741466, &quot;z&quot;: -0.2603865252865052}, {&quot;x&quot;: 2.0769230769230775, &quot;y&quot;: 0.4027682889217683, &quot;z&quot;: -0.24905665668958268}, {&quot;x&quot;: 2.0769230769230775, &quot;y&quot;: 0.48332194670612194, &quot;z&quot;: -0.23252636852486172}, {&quot;x&quot;: 2.0769230769230775, &quot;y&quot;: 0.5638756044904756, &quot;z&quot;: -0.20923828688668591}, {&quot;x&quot;: 2.0769230769230775, &quot;y&quot;: 0.6444292622748292, &quot;z&quot;: -0.17748871999069407}, {&quot;x&quot;: 2.0769230769230775, &quot;y&quot;: 0.7249829200591829, &quot;z&quot;: -0.1355971458684544}, {&quot;x&quot;: 2.0769230769230775, &quot;y&quot;: 0.8055365778435365, &quot;z&quot;: -0.0821661389411035}, {&quot;x&quot;: 2.0769230769230775, &quot;y&quot;: 0.8860902356278901, &quot;z&quot;: -0.01643323348280889}, {&quot;x&quot;: 2.0769230769230775, &quot;y&quot;: 0.9666438934122438, &quot;z&quot;: 0.061311853271375824}, {&quot;x&quot;: 2.0769230769230775, &quot;y&quot;: 1.0471975511965974, &quot;z&quot;: 0.1493107384861337}, {&quot;x&quot;: 2.0769230769230775, &quot;y&quot;: 1.1277512089809512, &quot;z&quot;: 0.24402885144011732}, {&quot;x&quot;: 2.0769230769230775, &quot;y&quot;: 1.208304866765305, &quot;z&quot;: 0.3400920211804612}, {&quot;x&quot;: 2.0769230769230775, &quot;y&quot;: 1.2888585245496587, &quot;z&quot;: 0.4305909620286479}, {&quot;x&quot;: 2.0769230769230775, &quot;y&quot;: 1.3694121823340124, &quot;z&quot;: 0.5078101116457889}, {&quot;x&quot;: 2.0769230769230775, &quot;y&quot;: 1.4499658401183662, &quot;z&quot;: 0.5643168713202926}, {&quot;x&quot;: 2.0769230769230775, &quot;y&quot;: 1.53051949790272, &quot;z&quot;: 0.5942077146883268}, {&quot;x&quot;: 2.0769230769230775, &quot;y&quot;: 1.6110731556870737, &quot;z&quot;: 0.5942077146883268}, {&quot;x&quot;: 2.0769230769230775, &quot;y&quot;: 1.6916268134714274, &quot;z&quot;: 0.5643168713202925}, {&quot;x&quot;: 2.0769230769230775, &quot;y&quot;: 1.7721804712557812, &quot;z&quot;: 0.5078101116457888}, {&quot;x&quot;: 2.0769230769230775, &quot;y&quot;: 1.852734129040135, &quot;z&quot;: 0.4305909620286477}, {&quot;x&quot;: 2.0769230769230775, &quot;y&quot;: 1.9332877868244887, &quot;z&quot;: 0.34009202118046095}, {&quot;x&quot;: 2.0769230769230775, &quot;y&quot;: 2.0138414446088424, &quot;z&quot;: 0.24402885144011693}, {&quot;x&quot;: 2.0769230769230775, &quot;y&quot;: 2.094395102393196, &quot;z&quot;: 0.14931073848613335}, {&quot;x&quot;: 2.0769230769230775, &quot;y&quot;: 2.17494876017755, &quot;z&quot;: 0.061311853271375276}, {&quot;x&quot;: 2.0769230769230775, &quot;y&quot;: 2.2555024179619036, &quot;z&quot;: -0.016433233482809437}, {&quot;x&quot;: 2.0769230769230775, &quot;y&quot;: 2.3360560757462574, &quot;z&quot;: -0.08216613894110389}, {&quot;x&quot;: 2.0769230769230775, &quot;y&quot;: 2.416609733530611, &quot;z&quot;: -0.1355971458684547}, {&quot;x&quot;: 2.0769230769230775, &quot;y&quot;: 2.497163391314965, &quot;z&quot;: -0.17748871999069457}, {&quot;x&quot;: 2.0769230769230775, &quot;y&quot;: 2.5777170490993186, &quot;z&quot;: -0.20923828688668625}, {&quot;x&quot;: 2.0769230769230775, &quot;y&quot;: 2.6582707068836724, &quot;z&quot;: -0.2325263685248622}, {&quot;x&quot;: 2.0769230769230775, &quot;y&quot;: 2.738824364668026, &quot;z&quot;: -0.24905665668958268}, {&quot;x&quot;: 2.0769230769230775, &quot;y&quot;: 2.81937802245238, &quot;z&quot;: -0.2603865252865054}, {&quot;x&quot;: 2.0769230769230775, &quot;y&quot;: 2.8999316802367336, &quot;z&quot;: -0.2678312553868493}, {&quot;x&quot;: 2.0769230769230775, &quot;y&quot;: 2.9804853380210874, &quot;z&quot;: -0.27242016260821256}, {&quot;x&quot;: 2.0769230769230775, &quot;y&quot;: 3.061038995805441, &quot;z&quot;: -0.2748840154228905}, {&quot;x&quot;: 2.0769230769230775, &quot;y&quot;: 3.141592653589793, &quot;z&quot;: -0.2756573130072723}, {&quot;x&quot;: 2.1282051282051286, &quot;y&quot;: 0.08055365778435367, &quot;z&quot;: -0.23183707801378028}, {&quot;x&quot;: 2.1282051282051286, &quot;y&quot;: 0.0, &quot;z&quot;: -0.23264687195409114}, {&quot;x&quot;: 2.1282051282051286, &quot;y&quot;: 0.16110731556870733, &quot;z&quot;: -0.2292859533803432}, {&quot;x&quot;: 2.1282051282051286, &quot;y&quot;: 0.241660973353061, &quot;z&quot;: -0.22462709897047928}, {&quot;x&quot;: 2.1282051282051286, &quot;y&quot;: 0.32221463113741466, &quot;z&quot;: -0.21724773053545693}, {&quot;x&quot;: 2.1282051282051286, &quot;y&quot;: 0.4027682889217683, &quot;z&quot;: -0.20629184426336794}, {&quot;x&quot;: 2.1282051282051286, &quot;y&quot;: 0.48332194670612194, &quot;z&quot;: -0.19067759274525747}, {&quot;x&quot;: 2.1282051282051286, &quot;y&quot;: 0.5638756044904756, &quot;z&quot;: -0.1691419696699709}, {&quot;x&quot;: 2.1282051282051286, &quot;y&quot;: 0.6444292622748292, &quot;z&quot;: -0.14032870743109752}, {&quot;x&quot;: 2.1282051282051286, &quot;y&quot;: 0.7249829200591829, &quot;z&quot;: -0.10293540247734297}, {&quot;x&quot;: 2.1282051282051286, &quot;y&quot;: 0.8055365778435365, &quot;z&quot;: -0.055930794876950074}, {&quot;x&quot;: 2.1282051282051286, &quot;y&quot;: 0.8860902356278901, &quot;z&quot;: 0.001159884675993051}, {&quot;x&quot;: 2.1282051282051286, &quot;y&quot;: 0.9666438934122438, &quot;z&quot;: 0.06792609757139638}, {&quot;x&quot;: 2.1282051282051286, &quot;y&quot;: 1.0471975511965974, &quot;z&quot;: 0.1427545497934289}, {&quot;x&quot;: 2.1282051282051286, &quot;y&quot;: 1.1277512089809512, &quot;z&quot;: 0.22260855751505496}, {&quot;x&quot;: 2.1282051282051286, &quot;y&quot;: 1.208304866765305, &quot;z&quot;: 0.303006995652084}, {&quot;x&quot;: 2.1282051282051286, &quot;y&quot;: 1.2888585245496587, &quot;z&quot;: 0.37829292513250057}, {&quot;x&quot;: 2.1282051282051286, &quot;y&quot;: 1.3694121823340124, &quot;z&quot;: 0.44222761411311495}, {&quot;x&quot;: 2.1282051282051286, &quot;y&quot;: 1.4499658401183662, &quot;z&quot;: 0.48885358423074343}, {&quot;x&quot;: 2.1282051282051286, &quot;y&quot;: 1.53051949790272, &quot;z&quot;: 0.5134668415109864}, {&quot;x&quot;: 2.1282051282051286, &quot;y&quot;: 1.6110731556870737, &quot;z&quot;: 0.5134668415109864}, {&quot;x&quot;: 2.1282051282051286, &quot;y&quot;: 1.6916268134714274, &quot;z&quot;: 0.4888535842307433}, {&quot;x&quot;: 2.1282051282051286, &quot;y&quot;: 1.7721804712557812, &quot;z&quot;: 0.44222761411311473}, {&quot;x&quot;: 2.1282051282051286, &quot;y&quot;: 1.852734129040135, &quot;z&quot;: 0.37829292513250024}, {&quot;x&quot;: 2.1282051282051286, &quot;y&quot;: 1.9332877868244887, &quot;z&quot;: 0.3030069956520836}, {&quot;x&quot;: 2.1282051282051286, &quot;y&quot;: 2.0138414446088424, &quot;z&quot;: 0.2226085575150546}, {&quot;x&quot;: 2.1282051282051286, &quot;y&quot;: 2.094395102393196, &quot;z&quot;: 0.14275454979342858}, {&quot;x&quot;: 2.1282051282051286, &quot;y&quot;: 2.17494876017755, &quot;z&quot;: 0.06792609757139587}, {&quot;x&quot;: 2.1282051282051286, &quot;y&quot;: 2.2555024179619036, &quot;z&quot;: 0.0011598846759925843}, {&quot;x&quot;: 2.1282051282051286, &quot;y&quot;: 2.3360560757462574, &quot;z&quot;: -0.05593079487695046}, {&quot;x&quot;: 2.1282051282051286, &quot;y&quot;: 2.416609733530611, &quot;z&quot;: -0.10293540247734353}, {&quot;x&quot;: 2.1282051282051286, &quot;y&quot;: 2.497163391314965, &quot;z&quot;: -0.14032870743109793}, {&quot;x&quot;: 2.1282051282051286, &quot;y&quot;: 2.5777170490993186, &quot;z&quot;: -0.16914196966997108}, {&quot;x&quot;: 2.1282051282051286, &quot;y&quot;: 2.6582707068836724, &quot;z&quot;: -0.1906775927452579}, {&quot;x&quot;: 2.1282051282051286, &quot;y&quot;: 2.738824364668026, &quot;z&quot;: -0.20629184426336816}, {&quot;x&quot;: 2.1282051282051286, &quot;y&quot;: 2.81937802245238, &quot;z&quot;: -0.21724773053545726}, {&quot;x&quot;: 2.1282051282051286, &quot;y&quot;: 2.8999316802367336, &quot;z&quot;: -0.2246270989704794}, {&quot;x&quot;: 2.1282051282051286, &quot;y&quot;: 2.9804853380210874, &quot;z&quot;: -0.22928595338034322}, {&quot;x&quot;: 2.1282051282051286, &quot;y&quot;: 3.061038995805441, &quot;z&quot;: -0.23183707801378006}, {&quot;x&quot;: 2.1282051282051286, &quot;y&quot;: 3.141592653589793, &quot;z&quot;: -0.23264687195409114}, {&quot;x&quot;: 2.1794871794871797, &quot;y&quot;: 0.08055365778435367, &quot;z&quot;: -0.195344307435179}, {&quot;x&quot;: 2.1794871794871797, &quot;y&quot;: 0.0, &quot;z&quot;: -0.1961613975955698}, {&quot;x&quot;: 2.1794871794871797, &quot;y&quot;: 0.16110731556870733, &quot;z&quot;: -0.19279030900751348}, {&quot;x&quot;: 2.1794871794871797, &quot;y&quot;: 0.241660973353061, &quot;z&quot;: -0.18819105847199416}, {&quot;x&quot;: 2.1794871794871797, &quot;y&quot;: 0.32221463113741466, &quot;z&quot;: -0.18103360026433277}, {&quot;x&quot;: 2.1794871794871797, &quot;y&quot;: 0.4027682889217683, &quot;z&quot;: -0.17060703672948985}, {&quot;x&quot;: 2.1794871794871797, &quot;y&quot;: 0.48332194670612194, &quot;z&quot;: -0.15602243241305022}, {&quot;x&quot;: 2.1794871794871797, &quot;y&quot;: 0.5638756044904756, &quot;z&quot;: -0.1362563522215569}, {&quot;x&quot;: 2.1794871794871797, &quot;y&quot;: 0.6444292622748292, &quot;z&quot;: -0.11023025567395148}, {&quot;x&quot;: 2.1794871794871797, &quot;y&quot;: 0.7249829200591829, &quot;z&quot;: -0.07693741382926231}, {&quot;x&quot;: 2.1794871794871797, &quot;y&quot;: 0.8055365778435365, &quot;z&quot;: -0.03562419285334584}, {&quot;x&quot;: 2.1794871794871797, &quot;y&quot;: 0.8860902356278901, &quot;z&quot;: 0.013978446171322961}, {&quot;x&quot;: 2.1794871794871797, &quot;y&quot;: 0.9666438934122438, &quot;z&quot;: 0.07139537781413685}, {&quot;x&quot;: 2.1794871794871797, &quot;y&quot;: 1.0471975511965974, &quot;z&quot;: 0.13516496267793893}, {&quot;x&quot;: 2.1794871794871797, &quot;y&quot;: 1.1277512089809512, &quot;z&quot;: 0.20268143084823234}, {&quot;x&quot;: 2.1794871794871797, &quot;y&quot;: 1.208304866765305, &quot;z&quot;: 0.27020037066524594}, {&quot;x&quot;: 2.1794871794871797, &quot;y&quot;: 1.2888585245496587, &quot;z&quot;: 0.3330730617124563}, {&quot;x&quot;: 2.1794871794871797, &quot;y&quot;: 1.3694121823340124, &quot;z&quot;: 0.3862315673907315}, {&quot;x&quot;: 2.1794871794871797, &quot;y&quot;: 1.4499658401183662, &quot;z&quot;: 0.4248757810402593}, {&quot;x&quot;: 2.1794871794871797, &quot;y&quot;: 1.53051949790272, &quot;z&quot;: 0.4452364374007477}, {&quot;x&quot;: 2.1794871794871797, &quot;y&quot;: 1.6110731556870737, &quot;z&quot;: 0.4452364374007477}, {&quot;x&quot;: 2.1794871794871797, &quot;y&quot;: 1.6916268134714274, &quot;z&quot;: 0.42487578104025925}, {&quot;x&quot;: 2.1794871794871797, &quot;y&quot;: 1.7721804712557812, &quot;z&quot;: 0.3862315673907314}, {&quot;x&quot;: 2.1794871794871797, &quot;y&quot;: 1.852734129040135, &quot;z&quot;: 0.3330730617124561}, {&quot;x&quot;: 2.1794871794871797, &quot;y&quot;: 1.9332877868244887, &quot;z&quot;: 0.27020037066524566}, {&quot;x&quot;: 2.1794871794871797, &quot;y&quot;: 2.0138414446088424, &quot;z&quot;: 0.20268143084823204}, {&quot;x&quot;: 2.1794871794871797, &quot;y&quot;: 2.094395102393196, &quot;z&quot;: 0.13516496267793876}, {&quot;x&quot;: 2.1794871794871797, &quot;y&quot;: 2.17494876017755, &quot;z&quot;: 0.07139537781413637}, {&quot;x&quot;: 2.1794871794871797, &quot;y&quot;: 2.2555024179619036, &quot;z&quot;: 0.013978446171322668}, {&quot;x&quot;: 2.1794871794871797, &quot;y&quot;: 2.3360560757462574, &quot;z&quot;: -0.03562419285334619}, {&quot;x&quot;: 2.1794871794871797, &quot;y&quot;: 2.416609733530611, &quot;z&quot;: -0.0769374138292629}, {&quot;x&quot;: 2.1794871794871797, &quot;y&quot;: 2.497163391314965, &quot;z&quot;: -0.11023025567395173}, {&quot;x&quot;: 2.1794871794871797, &quot;y&quot;: 2.5777170490993186, &quot;z&quot;: -0.13625635222155713}, {&quot;x&quot;: 2.1794871794871797, &quot;y&quot;: 2.6582707068836724, &quot;z&quot;: -0.15602243241305053}, {&quot;x&quot;: 2.1794871794871797, &quot;y&quot;: 2.738824364668026, &quot;z&quot;: -0.17060703672949007}, {&quot;x&quot;: 2.1794871794871797, &quot;y&quot;: 2.81937802245238, &quot;z&quot;: -0.18103360026433288}, {&quot;x&quot;: 2.1794871794871797, &quot;y&quot;: 2.8999316802367336, &quot;z&quot;: -0.1881910584719942}, {&quot;x&quot;: 2.1794871794871797, &quot;y&quot;: 2.9804853380210874, &quot;z&quot;: -0.19279030900751326}, {&quot;x&quot;: 2.1794871794871797, &quot;y&quot;: 3.061038995805441, &quot;z&quot;: -0.195344307435179}, {&quot;x&quot;: 2.1794871794871797, &quot;y&quot;: 3.141592653589793, &quot;z&quot;: -0.1961613975955698}, {&quot;x&quot;: 2.230769230769231, &quot;y&quot;: 0.08055365778435367, &quot;z&quot;: -0.16443022159604065}, {&quot;x&quot;: 2.230769230769231, &quot;y&quot;: 0.0, &quot;z&quot;: -0.16523412688227576}, {&quot;x&quot;: 2.230769230769231, &quot;y&quot;: 0.16110731556870733, &quot;z&quot;: -0.16193197625842626}, {&quot;x&quot;: 2.230769230769231, &quot;y&quot;: 0.241660973353061, &quot;z&quot;: -0.1574803283623217}, {&quot;x&quot;: 2.230769230769231, &quot;y&quot;: 0.32221463113741466, &quot;z&quot;: -0.15064648830403865}, {&quot;x&quot;: 2.230769230769231, &quot;y&quot;: 0.4027682889217683, &quot;z&quot;: -0.14084072163223768}, {&quot;x&quot;: 2.230769230769231, &quot;y&quot;: 0.48332194670612194, &quot;z&quot;: -0.12733323090954535}, {&quot;x&quot;: 2.230769230769231, &quot;y&quot;: 0.5638756044904756, &quot;z&quot;: -0.10929536313788488}, {&quot;x&quot;: 2.230769230769231, &quot;y&quot;: 0.6444292622748292, &quot;z&quot;: -0.08587049582052253}, {&quot;x&quot;: 2.230769230769231, &quot;y&quot;: 0.7249829200591829, &quot;z&quot;: -0.0562830180631035}, {&quot;x&quot;: 2.230769230769231, &quot;y&quot;: 0.8055365778435365, &quot;z&quot;: -0.019989405688628684}, {&quot;x&quot;: 2.230769230769231, &quot;y&quot;: 0.8860902356278901, &quot;z&quot;: 0.023133822845791352}, {&quot;x&quot;: 2.230769230769231, &quot;y&quot;: 0.9666438934122438, &quot;z&quot;: 0.07258484268583074}, {&quot;x&quot;: 2.230769230769231, &quot;y&quot;: 1.0471975511965974, &quot;z&quot;: 0.12705123924288833}, {&quot;x&quot;: 2.230769230769231, &quot;y&quot;: 1.1277512089809512, &quot;z&quot;: 0.18429811652610403}, {&quot;x&quot;: 2.230769230769231, &quot;y&quot;: 1.208304866765305, &quot;z&quot;: 0.2411895384559814}, {&quot;x&quot;: 2.230769230769231, &quot;y&quot;: 1.2888585245496587, &quot;z&quot;: 0.2938913727556587}, {&quot;x&quot;: 2.230769230769231, &quot;y&quot;: 1.3694121823340124, &quot;z&quot;: 0.3382683227328639}, {&quot;x&quot;: 2.230769230769231, &quot;y&quot;: 1.4499658401183662, &quot;z&quot;: 0.37043338485733485}, {&quot;x&quot;: 2.230769230769231, &quot;y&quot;: 1.53051949790272, &quot;z&quot;: 0.3873500487810373}, {&quot;x&quot;: 2.230769230769231, &quot;y&quot;: 1.6110731556870737, &quot;z&quot;: 0.3873500487810372}, {&quot;x&quot;: 2.230769230769231, &quot;y&quot;: 1.6916268134714274, &quot;z&quot;: 0.37043338485733474}, {&quot;x&quot;: 2.230769230769231, &quot;y&quot;: 1.7721804712557812, &quot;z&quot;: 0.3382683227328638}, {&quot;x&quot;: 2.230769230769231, &quot;y&quot;: 1.852734129040135, &quot;z&quot;: 0.29389137275565846}, {&quot;x&quot;: 2.230769230769231, &quot;y&quot;: 1.9332877868244887, &quot;z&quot;: 0.24118953845598112}, {&quot;x&quot;: 2.230769230769231, &quot;y&quot;: 2.0138414446088424, &quot;z&quot;: 0.1842981165261038}, {&quot;x&quot;: 2.230769230769231, &quot;y&quot;: 2.094395102393196, &quot;z&quot;: 0.1270512392428881}, {&quot;x&quot;: 2.230769230769231, &quot;y&quot;: 2.17494876017755, &quot;z&quot;: 0.0725848426858304}, {&quot;x&quot;: 2.230769230769231, &quot;y&quot;: 2.2555024179619036, &quot;z&quot;: 0.023133822845791}, {&quot;x&quot;: 2.230769230769231, &quot;y&quot;: 2.3360560757462574, &quot;z&quot;: -0.019989405688629062}, {&quot;x&quot;: 2.230769230769231, &quot;y&quot;: 2.416609733530611, &quot;z&quot;: -0.05628301806310389}, {&quot;x&quot;: 2.230769230769231, &quot;y&quot;: 2.497163391314965, &quot;z&quot;: -0.08587049582052275}, {&quot;x&quot;: 2.230769230769231, &quot;y&quot;: 2.5777170490993186, &quot;z&quot;: -0.10929536313788506}, {&quot;x&quot;: 2.230769230769231, &quot;y&quot;: 2.6582707068836724, &quot;z&quot;: -0.12733323090954562}, {&quot;x&quot;: 2.230769230769231, &quot;y&quot;: 2.738824364668026, &quot;z&quot;: -0.14084072163223793}, {&quot;x&quot;: 2.230769230769231, &quot;y&quot;: 2.81937802245238, &quot;z&quot;: -0.15064648830403876}, {&quot;x&quot;: 2.230769230769231, &quot;y&quot;: 2.8999316802367336, &quot;z&quot;: -0.15748032836232176}, {&quot;x&quot;: 2.230769230769231, &quot;y&quot;: 2.9804853380210874, &quot;z&quot;: -0.16193197625842612}, {&quot;x&quot;: 2.230769230769231, &quot;y&quot;: 3.061038995805441, &quot;z&quot;: -0.16443022159604045}, {&quot;x&quot;: 2.230769230769231, &quot;y&quot;: 3.141592653589793, &quot;z&quot;: -0.16523412688227576}, {&quot;x&quot;: 2.282051282051282, &quot;y&quot;: 0.08055365778435367, &quot;z&quot;: -0.13825654552064595}, {&quot;x&quot;: 2.282051282051282, &quot;y&quot;: 0.0, &quot;z&quot;: -0.13903333214171099}, {&quot;x&quot;: 2.282051282051282, &quot;y&quot;: 0.16110731556870733, &quot;z&quot;: -0.13585340486043418}, {&quot;x&quot;: 2.282051282051282, &quot;y&quot;: 0.241660973353061, &quot;z&quot;: -0.1316065409685093}, {&quot;x&quot;: 2.282051282051282, &quot;y&quot;: 0.32221463113741466, &quot;z&quot;: -0.12515792712785095}, {&quot;x&quot;: 2.282051282051282, &quot;y&quot;: 0.4027682889217683, &quot;z&quot;: -0.1160187893926476}, {&quot;x&quot;: 2.282051282051282, &quot;y&quot;: 0.48332194670612194, &quot;z&quot;: -0.1035904310507697}, {&quot;x&quot;: 2.282051282051282, &quot;y&quot;: 0.5638756044904756, &quot;z&quot;: -0.08720245553833632}, {&quot;x&quot;: 2.282051282051282, &quot;y&quot;: 0.6444292622748292, &quot;z&quot;: -0.06617551241440414}, {&quot;x&quot;: 2.282051282051282, &quot;y&quot;: 0.7249829200591829, &quot;z&quot;: -0.03991456288043385}, {&quot;x&quot;: 2.282051282051282, &quot;y&quot;: 0.8055365778435365, &quot;z&quot;: -0.008034706831792861}, {&quot;x&quot;: 2.282051282051282, &quot;y&quot;: 0.8860902356278901, &quot;z&quot;: 0.029486058993634462}, {&quot;x&quot;: 2.282051282051282, &quot;y&quot;: 0.9666438934122438, &quot;z&quot;: 0.07214422683466322}, {&quot;x&quot;: 2.282051282051282, &quot;y&quot;: 1.0471975511965974, &quot;z&quot;: 0.11876895027417625}, {&quot;x&quot;: 2.282051282051282, &quot;y&quot;: 1.1277512089809512, &quot;z&quot;: 0.16744332394621686}, {&quot;x&quot;: 2.282051282051282, &quot;y&quot;: 1.208304866765305, &quot;z&quot;: 0.21553474979376833}, {&quot;x&quot;: 2.282051282051282, &quot;y&quot;: 1.2888585245496587, &quot;z&quot;: 0.25986959940426924}, {&quot;x&quot;: 2.282051282051282, &quot;y&quot;: 1.3694121823340124, &quot;z&quot;: 0.29705897170158224}, {&quot;x&quot;: 2.282051282051282, &quot;y&quot;: 1.4499658401183662, &quot;z&quot;: 0.32394009135379365}, {&quot;x&quot;: 2.282051282051282, &quot;y&quot;: 1.53051949790272, &quot;z&quot;: 0.33805417138979693}, {&quot;x&quot;: 2.282051282051282, &quot;y&quot;: 1.6110731556870737, &quot;z&quot;: 0.3380541713897969}, {&quot;x&quot;: 2.282051282051282, &quot;y&quot;: 1.6916268134714274, &quot;z&quot;: 0.32394009135379354}, {&quot;x&quot;: 2.282051282051282, &quot;y&quot;: 1.7721804712557812, &quot;z&quot;: 0.2970589717015821}, {&quot;x&quot;: 2.282051282051282, &quot;y&quot;: 1.852734129040135, &quot;z&quot;: 0.2598695994042691}, {&quot;x&quot;: 2.282051282051282, &quot;y&quot;: 1.9332877868244887, &quot;z&quot;: 0.21553474979376813}, {&quot;x&quot;: 2.282051282051282, &quot;y&quot;: 2.0138414446088424, &quot;z&quot;: 0.16744332394621672}, {&quot;x&quot;: 2.282051282051282, &quot;y&quot;: 2.094395102393196, &quot;z&quot;: 0.11876895027417607}, {&quot;x&quot;: 2.282051282051282, &quot;y&quot;: 2.17494876017755, &quot;z&quot;: 0.07214422683466298}, {&quot;x&quot;: 2.282051282051282, &quot;y&quot;: 2.2555024179619036, &quot;z&quot;: 0.0294860589936341}, {&quot;x&quot;: 2.282051282051282, &quot;y&quot;: 2.3360560757462574, &quot;z&quot;: -0.008034706831793192}, {&quot;x&quot;: 2.282051282051282, &quot;y&quot;: 2.416609733530611, &quot;z&quot;: -0.039914562880434185}, {&quot;x&quot;: 2.282051282051282, &quot;y&quot;: 2.497163391314965, &quot;z&quot;: -0.06617551241440439}, {&quot;x&quot;: 2.282051282051282, &quot;y&quot;: 2.5777170490993186, &quot;z&quot;: -0.08720245553833653}, {&quot;x&quot;: 2.282051282051282, &quot;y&quot;: 2.6582707068836724, &quot;z&quot;: -0.10359043105076997}, {&quot;x&quot;: 2.282051282051282, &quot;y&quot;: 2.738824364668026, &quot;z&quot;: -0.11601878939264787}, {&quot;x&quot;: 2.282051282051282, &quot;y&quot;: 2.81937802245238, &quot;z&quot;: -0.12515792712785118}, {&quot;x&quot;: 2.282051282051282, &quot;y&quot;: 2.8999316802367336, &quot;z&quot;: -0.1316065409685094}, {&quot;x&quot;: 2.282051282051282, &quot;y&quot;: 2.9804853380210874, &quot;z&quot;: -0.13585340486043418}, {&quot;x&quot;: 2.282051282051282, &quot;y&quot;: 3.061038995805441, &quot;z&quot;: -0.1382565455206458}, {&quot;x&quot;: 2.282051282051282, &quot;y&quot;: 3.141592653589793, &quot;z&quot;: -0.13903333214171096}, {&quot;x&quot;: 2.333333333333333, &quot;y&quot;: 0.08055365778435367, &quot;z&quot;: -0.11610586075770685}, {&quot;x&quot;: 2.333333333333333, &quot;y&quot;: 0.0, &quot;z&quot;: -0.11684647241546403}, {&quot;x&quot;: 2.333333333333333, &quot;y&quot;: 0.16110731556870733, &quot;z&quot;: -0.11382288065709723}, {&quot;x&quot;: 2.333333333333333, &quot;y&quot;: 0.241660973353061, &quot;z&quot;: -0.10981534365377854}, {&quot;x&quot;: 2.333333333333333, &quot;y&quot;: 0.32221463113741466, &quot;z&quot;: -0.10378458791862832}, {&quot;x&quot;: 2.333333333333333, &quot;y&quot;: 0.4027682889217683, &quot;z&quot;: -0.0953258319824839}, {&quot;x&quot;: 2.333333333333333, &quot;y&quot;: 0.48332194670612194, &quot;z&quot;: -0.0839482754511087}, {&quot;x&quot;: 2.333333333333333, &quot;y&quot;: 0.5638756044904756, &quot;z&quot;: -0.06911004059170245}, {&quot;x&quot;: 2.333333333333333, &quot;y&quot;: 0.6444292622748292, &quot;z&quot;: -0.05027335365736704}, {&quot;x&quot;: 2.333333333333333, &quot;y&quot;: 0.7249829200591829, &quot;z&quot;: -0.026984168460148207}, {&quot;x&quot;: 2.333333333333333, &quot;y&quot;: 0.8055365778435365, &quot;z&quot;: 0.0010230487051504766}, {&quot;x&quot;: 2.333333333333333, &quot;y&quot;: 0.8860902356278901, &quot;z&quot;: 0.03370101559610395}, {&quot;x&quot;: 2.333333333333333, &quot;y&quot;: 0.9666438934122438, &quot;z&quot;: 0.07056057057056403}, {&quot;x&quot;: 2.333333333333333, &quot;y&quot;: 1.0471975511965974, &quot;z&quot;: 0.11056200477710149}, {&quot;x&quot;: 2.333333333333333, &quot;y&quot;: 1.1277512089809512, &quot;z&quot;: 0.15206038393036794}, {&quot;x&quot;: 2.333333333333333, &quot;y&quot;: 1.208304866765305, &quot;z&quot;: 0.19284023151255822}, {&quot;x&quot;: 2.333333333333333, &quot;y&quot;: 1.2888585245496587, &quot;z&quot;: 0.23026539438494498}, {&quot;x&quot;: 2.333333333333333, &quot;y&quot;: 1.3694121823340124, &quot;z&quot;: 0.2615470193683215}, {&quot;x&quot;: 2.333333333333333, &quot;y&quot;: 1.4499658401183662, &quot;z&quot;: 0.2840996972269813}, {&quot;x&quot;: 2.333333333333333, &quot;y&quot;: 1.53051949790272, &quot;z&quot;: 0.29592263987779804}, {&quot;x&quot;: 2.333333333333333, &quot;y&quot;: 1.6110731556870737, &quot;z&quot;: 0.295922639877798}, {&quot;x&quot;: 2.333333333333333, &quot;y&quot;: 1.6916268134714274, &quot;z&quot;: 0.28409969722698125}, {&quot;x&quot;: 2.333333333333333, &quot;y&quot;: 1.7721804712557812, &quot;z&quot;: 0.2615470193683213}, {&quot;x&quot;: 2.333333333333333, &quot;y&quot;: 1.852734129040135, &quot;z&quot;: 0.23026539438494487}, {&quot;x&quot;: 2.333333333333333, &quot;y&quot;: 1.9332877868244887, &quot;z&quot;: 0.19284023151255802}, {&quot;x&quot;: 2.333333333333333, &quot;y&quot;: 2.0138414446088424, &quot;z&quot;: 0.15206038393036778}, {&quot;x&quot;: 2.333333333333333, &quot;y&quot;: 2.094395102393196, &quot;z&quot;: 0.11056200477710132}, {&quot;x&quot;: 2.333333333333333, &quot;y&quot;: 2.17494876017755, &quot;z&quot;: 0.0705605705705637}, {&quot;x&quot;: 2.333333333333333, &quot;y&quot;: 2.2555024179619036, &quot;z&quot;: 0.0337010155961037}, {&quot;x&quot;: 2.333333333333333, &quot;y&quot;: 2.3360560757462574, &quot;z&quot;: 0.0010230487051503213}, {&quot;x&quot;: 2.333333333333333, &quot;y&quot;: 2.416609733530611, &quot;z&quot;: -0.02698416846014845}, {&quot;x&quot;: 2.333333333333333, &quot;y&quot;: 2.497163391314965, &quot;z&quot;: -0.05027335365736726}, {&quot;x&quot;: 2.333333333333333, &quot;y&quot;: 2.5777170490993186, &quot;z&quot;: -0.06911004059170267}, {&quot;x&quot;: 2.333333333333333, &quot;y&quot;: 2.6582707068836724, &quot;z&quot;: -0.08394827545110894}, {&quot;x&quot;: 2.333333333333333, &quot;y&quot;: 2.738824364668026, &quot;z&quot;: -0.09532583198248393}, {&quot;x&quot;: 2.333333333333333, &quot;y&quot;: 2.81937802245238, &quot;z&quot;: -0.10378458791862849}, {&quot;x&quot;: 2.333333333333333, &quot;y&quot;: 2.8999316802367336, &quot;z&quot;: -0.10981534365377849}, {&quot;x&quot;: 2.333333333333333, &quot;y&quot;: 2.9804853380210874, &quot;z&quot;: -0.11382288065709707}, {&quot;x&quot;: 2.333333333333333, &quot;y&quot;: 3.061038995805441, &quot;z&quot;: -0.11610586075770696}, {&quot;x&quot;: 2.333333333333333, &quot;y&quot;: 3.141592653589793, &quot;z&quot;: -0.11684647241546402}, {&quot;x&quot;: 2.384615384615384, &quot;y&quot;: 0.08055365778435367, &quot;z&quot;: -0.09736613443920566}, {&quot;x&quot;: 2.384615384615384, &quot;y&quot;: 0.0, &quot;z&quot;: -0.09806511423216674}, {&quot;x&quot;: 2.384615384615384, &quot;y&quot;: 0.16110731556870733, &quot;z&quot;: -0.09521787492003801}, {&quot;x&quot;: 2.384615384615384, &quot;y&quot;: 0.241660973353061, &quot;z&quot;: -0.0914677713203691}, {&quot;x&quot;: 2.384615384615384, &quot;y&quot;: 0.32221463113741466, &quot;z&quot;: -0.08586688066734592}, {&quot;x&quot;: 2.384615384615384, &quot;y&quot;: 0.4027682889217683, &quot;z&quot;: -0.0780802134360573}, {&quot;x&quot;: 2.384615384615384, &quot;y&quot;: 0.48332194670612194, &quot;z&quot;: -0.06770570482501488}, {&quot;x&quot;: 2.384615384615384, &quot;y&quot;: 0.5638756044904756, &quot;z&quot;: -0.05430581277120978}, {&quot;x&quot;: 2.384615384615384, &quot;y&quot;: 0.6444292622748292, &quot;z&quot;: -0.03745580887103862}, {&quot;x&quot;: 2.384615384615384, &quot;y&quot;: 0.7249829200591829, &quot;z&quot;: -0.01681164139443738}, {&quot;x&quot;: 2.384615384615384, &quot;y&quot;: 0.8055365778435365, &quot;z&quot;: 0.007802783185875263}, {&quot;x&quot;: 2.384615384615384, &quot;y&quot;: 0.8860902356278901, &quot;z&quot;: 0.03629431218665866}, {&quot;x&quot;: 2.384615384615384, &quot;y&quot;: 0.9666438934122438, &quot;z&quot;: 0.06819792372444454}, {&quot;x&quot;: 2.384615384615384, &quot;y&quot;: 1.0471975511965974, &quot;z&quot;: 0.10259341266988017}, {&quot;x&quot;: 2.384615384615384, &quot;y&quot;: 1.1277512089809512, &quot;z&quot;: 0.13806810544138431}, {&quot;x&quot;: 2.384615384615384, &quot;y&quot;: 1.208304866765305, &quot;z&quot;: 0.17275289294302437}, {&quot;x&quot;: 2.384615384615384, &quot;y&quot;: 1.2888585245496587, &quot;z&quot;: 0.20445052919925646}, {&quot;x&quot;: 2.384615384615384, &quot;y&quot;: 1.3694121823340124, &quot;z&quot;: 0.2308566736178232}, {&quot;x&quot;: 2.384615384615384, &quot;y&quot;: 1.4499658401183662, &quot;z&quot;: 0.24984847191757895}, {&quot;x&quot;: 2.384615384615384, &quot;y&quot;: 1.53051949790272, &quot;z&quot;: 0.2597901366623722}, {&quot;x&quot;: 2.384615384615384, &quot;y&quot;: 1.6110731556870737, &quot;z&quot;: 0.2597901366623722}, {&quot;x&quot;: 2.384615384615384, &quot;y&quot;: 1.6916268134714274, &quot;z&quot;: 0.24984847191757892}, {&quot;x&quot;: 2.384615384615384, &quot;y&quot;: 1.7721804712557812, &quot;z&quot;: 0.23085667361782314}, {&quot;x&quot;: 2.384615384615384, &quot;y&quot;: 1.852734129040135, &quot;z&quot;: 0.20445052919925638}, {&quot;x&quot;: 2.384615384615384, &quot;y&quot;: 1.9332877868244887, &quot;z&quot;: 0.1727528929430242}, {&quot;x&quot;: 2.384615384615384, &quot;y&quot;: 2.0138414446088424, &quot;z&quot;: 0.13806810544138423}, {&quot;x&quot;: 2.384615384615384, &quot;y&quot;: 2.094395102393196, &quot;z&quot;: 0.10259341266988006}, {&quot;x&quot;: 2.384615384615384, &quot;y&quot;: 2.17494876017755, &quot;z&quot;: 0.06819792372444433}, {&quot;x&quot;: 2.384615384615384, &quot;y&quot;: 2.2555024179619036, &quot;z&quot;: 0.03629431218665838}, {&quot;x&quot;: 2.384615384615384, &quot;y&quot;: 2.3360560757462574, &quot;z&quot;: 0.00780278318587508}, {&quot;x&quot;: 2.384615384615384, &quot;y&quot;: 2.416609733530611, &quot;z&quot;: -0.016811641394437644}, {&quot;x&quot;: 2.384615384615384, &quot;y&quot;: 2.497163391314965, &quot;z&quot;: -0.03745580887103886}, {&quot;x&quot;: 2.384615384615384, &quot;y&quot;: 2.5777170490993186, &quot;z&quot;: -0.054305812771209924}, {&quot;x&quot;: 2.384615384615384, &quot;y&quot;: 2.6582707068836724, &quot;z&quot;: -0.06770570482501513}, {&quot;x&quot;: 2.384615384615384, &quot;y&quot;: 2.738824364668026, &quot;z&quot;: -0.0780802134360574}, {&quot;x&quot;: 2.384615384615384, &quot;y&quot;: 2.81937802245238, &quot;z&quot;: -0.0858668806673461}, {&quot;x&quot;: 2.384615384615384, &quot;y&quot;: 2.8999316802367336, &quot;z&quot;: -0.09146777132036905}, {&quot;x&quot;: 2.384615384615384, &quot;y&quot;: 2.9804853380210874, &quot;z&quot;: -0.095217874920038}, {&quot;x&quot;: 2.384615384615384, &quot;y&quot;: 3.061038995805441, &quot;z&quot;: -0.09736613443920565}, {&quot;x&quot;: 2.384615384615384, &quot;y&quot;: 3.141592653589793, &quot;z&quot;: -0.09806511423216674}, {&quot;x&quot;: 2.4358974358974352, &quot;y&quot;: 0.08055365778435367, &quot;z&quot;: -0.08151652258155218}, {&quot;x&quot;: 2.4358974358974352, &quot;y&quot;: 0.0, &quot;z&quot;: -0.08217103918840597}, {&quot;x&quot;: 2.4358974358974352, &quot;y&quot;: 0.16110731556870733, &quot;z&quot;: -0.07950993387716207}, {&quot;x&quot;: 2.4358974358974352, &quot;y&quot;: 0.241660973353061, &quot;z&quot;: -0.07602361364155458}, {&quot;x&quot;: 2.4358974358974352, &quot;y&quot;: 0.32221463113741466, &quot;z&quot;: -0.07085020509853796}, {&quot;x&quot;: 2.4358974358974352, &quot;y&quot;: 0.4027682889217683, &quot;z&quot;: -0.06371265876119572}, {&quot;x&quot;: 2.4358974358974352, &quot;y&quot;: 0.48332194670612194, &quot;z&quot;: -0.05428185049520881}, {&quot;x&quot;: 2.4358974358974352, &quot;y&quot;: 0.5638756044904756, &quot;z&quot;: -0.04220492270630887}, {&quot;x&quot;: 2.4358974358974352, &quot;y&quot;: 0.6444292622748292, &quot;z&quot;: -0.027147388498306453}, {&quot;x&quot;: 2.4358974358974352, &quot;y&quot;: 0.7249829200591829, &quot;z&quot;: -0.008850907646125556}, {&quot;x&quot;: 2.4358974358974352, &quot;y&quot;: 0.8055365778435365, &quot;z&quot;: 0.012793974480985855}, {&quot;x&quot;: 2.4358974358974352, &quot;y&quot;: 0.8860902356278901, &quot;z&quot;: 0.03766517050390219}, {&quot;x&quot;: 2.4358974358974352, &quot;y&quot;: 0.9666438934122438, &quot;z&quot;: 0.06532730459886558}, {&quot;x&quot;: 2.4358974358974352, &quot;y&quot;: 1.0471975511965974, &quot;z&quot;: 0.09496782025201192}, {&quot;x&quot;: 2.4358974358974352, &quot;y&quot;: 1.1277512089809512, &quot;z&quot;: 0.125372239945165}, {&quot;x&quot;: 2.4358974358974352, &quot;y&quot;: 1.208304866765305, &quot;z&quot;: 0.15495968899644583}, {&quot;x&quot;: 2.4358974358974352, &quot;y&quot;: 1.2888585245496587, &quot;z&quot;: 0.18189258631158742}, {&quot;x&quot;: 2.4358974358974352, &quot;y&quot;: 1.3694121823340124, &quot;z&quot;: 0.20425947880912243}, {&quot;x&quot;: 2.4358974358974352, &quot;y&quot;: 1.4499658401183662, &quot;z&quot;: 0.22030984535246095}, {&quot;x&quot;: 2.4358974358974352, &quot;y&quot;: 1.53051949790272, &quot;z&quot;: 0.228700256361686}, {&quot;x&quot;: 2.4358974358974352, &quot;y&quot;: 1.6110731556870737, &quot;z&quot;: 0.228700256361686}, {&quot;x&quot;: 2.4358974358974352, &quot;y&quot;: 1.6916268134714274, &quot;z&quot;: 0.22030984535246093}, {&quot;x&quot;: 2.4358974358974352, &quot;y&quot;: 1.7721804712557812, &quot;z&quot;: 0.20425947880912237}, {&quot;x&quot;: 2.4358974358974352, &quot;y&quot;: 1.852734129040135, &quot;z&quot;: 0.1818925863115874}, {&quot;x&quot;: 2.4358974358974352, &quot;y&quot;: 1.9332877868244887, &quot;z&quot;: 0.15495968899644572}, {&quot;x&quot;: 2.4358974358974352, &quot;y&quot;: 2.0138414446088424, &quot;z&quot;: 0.1253722399451649}, {&quot;x&quot;: 2.4358974358974352, &quot;y&quot;: 2.094395102393196, &quot;z&quot;: 0.09496782025201186}, {&quot;x&quot;: 2.4358974358974352, &quot;y&quot;: 2.17494876017755, &quot;z&quot;: 0.06532730459886542}, {&quot;x&quot;: 2.4358974358974352, &quot;y&quot;: 2.2555024179619036, &quot;z&quot;: 0.037665170503901994}, {&quot;x&quot;: 2.4358974358974352, &quot;y&quot;: 2.3360560757462574, &quot;z&quot;: 0.012793974480985688}, {&quot;x&quot;: 2.4358974358974352, &quot;y&quot;: 2.416609733530611, &quot;z&quot;: -0.008850907646125797}, {&quot;x&quot;: 2.4358974358974352, &quot;y&quot;: 2.497163391314965, &quot;z&quot;: -0.027147388498306647}, {&quot;x&quot;: 2.4358974358974352, &quot;y&quot;: 2.5777170490993186, &quot;z&quot;: -0.042204922706309066}, {&quot;x&quot;: 2.4358974358974352, &quot;y&quot;: 2.6582707068836724, &quot;z&quot;: -0.054281850495208964}, {&quot;x&quot;: 2.4358974358974352, &quot;y&quot;: 2.738824364668026, &quot;z&quot;: -0.06371265876119586}, {&quot;x&quot;: 2.4358974358974352, &quot;y&quot;: 2.81937802245238, &quot;z&quot;: -0.07085020509853816}, {&quot;x&quot;: 2.4358974358974352, &quot;y&quot;: 2.8999316802367336, &quot;z&quot;: -0.0760236136415546}, {&quot;x&quot;: 2.4358974358974352, &quot;y&quot;: 2.9804853380210874, &quot;z&quot;: -0.07950993387716207}, {&quot;x&quot;: 2.4358974358974352, &quot;y&quot;: 3.061038995805441, &quot;z&quot;: -0.08151652258155218}, {&quot;x&quot;: 2.4358974358974352, &quot;y&quot;: 3.141592653589793, &quot;z&quot;: -0.08217103918840597}, {&quot;x&quot;: 2.4871794871794863, &quot;y&quot;: 0.08055365778435367, &quot;z&quot;: -0.0681146171998029}, {&quot;x&quot;: 2.4871794871794863, &quot;y&quot;: 0.0, &quot;z&quot;: -0.06872372646176338}, {&quot;x&quot;: 2.4871794871794863, &quot;y&quot;: 0.16110731556870733, &quot;z&quot;: -0.06625122089084448}, {&quot;x&quot;: 2.4871794871794863, &quot;y&quot;: 0.241660973353061, &quot;z&quot;: -0.0630267894920654}, {&quot;x&quot;: 2.4871794871794863, &quot;y&quot;: 0.32221463113741466, &quot;z&quot;: -0.058268715736433635}, {&quot;x&quot;: 2.4871794871794863, &quot;y&quot;: 0.4027682889217683, &quot;z&quot;: -0.05174801908258076}, {&quot;x&quot;: 2.4871794871794863, &quot;y&quot;: 0.48332194670612194, &quot;z&quot;: -0.04319551164858419}, {&quot;x&quot;: 2.4871794871794863, &quot;y&quot;: 0.5638756044904756, &quot;z&quot;: -0.032327059081234344}, {&quot;x&quot;: 2.4871794871794863, &quot;y&quot;: 0.6444292622748292, &quot;z&quot;: -0.018880188121720716}, {&quot;x&quot;: 2.4871794871794863, &quot;y&quot;: 0.7249829200591829, &quot;z&quot;: -0.0026632434066292047}, {&quot;x&quot;: 2.4871794871794863, &quot;y&quot;: 0.8055365778435365, &quot;z&quot;: 0.016383948874599638}, {&quot;x&quot;: 2.4871794871794863, &quot;y&quot;: 0.8860902356278901, &quot;z&quot;: 0.03812252368039479}, {&quot;x&quot;: 2.4871794871794863, &quot;y&quot;: 0.9666438934122438, &quot;z&quot;: 0.06214934642940952}, {&quot;x&quot;: 2.4871794871794863, &quot;y&quot;: 1.0471975511965974, &quot;z&quot;: 0.0877480243689545}, {&quot;x&quot;: 2.4871794871794863, &quot;y&quot;: 1.1277512089809512, &quot;z&quot;: 0.11387317368579952}, {&quot;x&quot;: 2.4871794871794863, &quot;y&quot;: 1.208304866765305, &quot;z&quot;: 0.13918431964758193}, {&quot;x&quot;: 2.4871794871794863, &quot;y&quot;: 1.2888585245496587, &quot;z&quot;: 0.16213962174211166}, {&quot;x&quot;: 2.4871794871794863, &quot;y&quot;: 1.3694121823340124, &quot;z&quot;: 0.18114753000494932}, {&quot;x&quot;: 2.4871794871794863, &quot;y&quot;: 1.4499658401183662, &quot;z&quot;: 0.19475860222926134}, {&quot;x&quot;: 2.4871794871794863, &quot;y&quot;: 1.53051949790272, &quot;z&quot;: 0.20186471881201135}, {&quot;x&quot;: 2.4871794871794863, &quot;y&quot;: 1.6110731556870737, &quot;z&quot;: 0.20186471881201135}, {&quot;x&quot;: 2.4871794871794863, &quot;y&quot;: 1.6916268134714274, &quot;z&quot;: 0.19475860222926128}, {&quot;x&quot;: 2.4871794871794863, &quot;y&quot;: 1.7721804712557812, &quot;z&quot;: 0.18114753000494924}, {&quot;x&quot;: 2.4871794871794863, &quot;y&quot;: 1.852734129040135, &quot;z&quot;: 0.1621396217421116}, {&quot;x&quot;: 2.4871794871794863, &quot;y&quot;: 1.9332877868244887, &quot;z&quot;: 0.13918431964758185}, {&quot;x&quot;: 2.4871794871794863, &quot;y&quot;: 2.0138414446088424, &quot;z&quot;: 0.11387317368579944}, {&quot;x&quot;: 2.4871794871794863, &quot;y&quot;: 2.094395102393196, &quot;z&quot;: 0.08774802436895443}, {&quot;x&quot;: 2.4871794871794863, &quot;y&quot;: 2.17494876017755, &quot;z&quot;: 0.062149346429409356}, {&quot;x&quot;: 2.4871794871794863, &quot;y&quot;: 2.2555024179619036, &quot;z&quot;: 0.0381225236803946}, {&quot;x&quot;: 2.4871794871794863, &quot;y&quot;: 2.3360560757462574, &quot;z&quot;: 0.016383948874599506}, {&quot;x&quot;: 2.4871794871794863, &quot;y&quot;: 2.416609733530611, &quot;z&quot;: -0.0026632434066293704}, {&quot;x&quot;: 2.4871794871794863, &quot;y&quot;: 2.497163391314965, &quot;z&quot;: -0.018880188121720886}, {&quot;x&quot;: 2.4871794871794863, &quot;y&quot;: 2.5777170490993186, &quot;z&quot;: -0.032327059081234455}, {&quot;x&quot;: 2.4871794871794863, &quot;y&quot;: 2.6582707068836724, &quot;z&quot;: -0.04319551164858435}, {&quot;x&quot;: 2.4871794871794863, &quot;y&quot;: 2.738824364668026, &quot;z&quot;: -0.05174801908258084}, {&quot;x&quot;: 2.4871794871794863, &quot;y&quot;: 2.81937802245238, &quot;z&quot;: -0.05826871573643369}, {&quot;x&quot;: 2.4871794871794863, &quot;y&quot;: 2.8999316802367336, &quot;z&quot;: -0.06302678949206543}, {&quot;x&quot;: 2.4871794871794863, &quot;y&quot;: 2.9804853380210874, &quot;z&quot;: -0.06625122089084456}, {&quot;x&quot;: 2.4871794871794863, &quot;y&quot;: 3.061038995805441, &quot;z&quot;: -0.0681146171998029}, {&quot;x&quot;: 2.4871794871794863, &quot;y&quot;: 3.141592653589793, &quot;z&quot;: -0.06872372646176339}, {&quot;x&quot;: 2.5384615384615374, &quot;y&quot;: 0.08055365778435367, &quot;z&quot;: -0.05678516566258046}, {&quot;x&quot;: 2.5384615384615374, &quot;y&quot;: 0.0, &quot;z&quot;: -0.05734925360503229}, {&quot;x&quot;: 2.5384615384615374, &quot;y&quot;: 0.16110731556870733, &quot;z&quot;: -0.05506269397100788}, {&quot;x&quot;: 2.5384615384615374, &quot;y&quot;: 0.241660973353061, &quot;z&quot;: -0.052092631926333885}, {&quot;x&quot;: 2.5384615384615374, &quot;y&quot;: 0.32221463113741466, &quot;z&quot;: -0.04773138751731906}, {&quot;x&quot;: 2.5384615384615374, &quot;y&quot;: 0.4027682889217683, &quot;z&quot;: -0.04178984070768002}, {&quot;x&quot;: 2.5384615384615374, &quot;y&quot;: 0.48332194670612194, &quot;z&quot;: -0.034048042105794624}, {&quot;x&quot;: 2.5384615384615374, &quot;y&quot;: 0.5638756044904756, &quot;z&quot;: -0.024277619353569833}, {&quot;x&quot;: 2.5384615384615374, &quot;y&quot;: 0.6444292622748292, &quot;z&quot;: -0.012273539756744743}, {&quot;x&quot;: 2.5384615384615374, &quot;y&quot;: 0.7249829200591829, &quot;z&quot;: 0.002104077662402326}, {&quot;x&quot;: 2.5384615384615374, &quot;y&quot;: 0.8055365778435365, &quot;z&quot;: 0.01887932341568584}, {&quot;x&quot;: 2.5384615384615374, &quot;y&quot;: 0.8860902356278901, &quot;z&quot;: 0.037905192240976916}, {&quot;x&quot;: 2.5384615384615374, &quot;y&quot;: 0.9666438934122438, &quot;z&quot;: 0.05881144426719224}, {&quot;x&quot;: 2.5384615384615374, &quot;y&quot;: 1.0471975511965974, &quot;z&quot;: 0.08096707081813742}, {&quot;x&quot;: 2.5384615384615374, &quot;y&quot;: 1.1277512089809512, &quot;z&quot;: 0.1034709873444612}, {&quot;x&quot;: 2.5384615384615374, &quot;y&quot;: 1.208304866765305, &quot;z&quot;: 0.12518369054461756}, {&quot;x&quot;: 2.5384615384615374, &quot;y&quot;: 1.2888585245496587, &quot;z&quot;: 0.1448073371245739}, {&quot;x&quot;: 2.5384615384615374, &quot;y&quot;: 1.3694121823340124, &quot;z&quot;: 0.16101189440714084}, {&quot;x&quot;: 2.5384615384615374, &quot;y&quot;: 1.4499658401183662, &quot;z&quot;: 0.1725924529400188}, {&quot;x&quot;: 2.5384615384615374, &quot;y&quot;: 1.53051949790272, &quot;z&quot;: 0.17863117077710883}, {&quot;x&quot;: 2.5384615384615374, &quot;y&quot;: 1.6110731556870737, &quot;z&quot;: 0.1786311707771088}, {&quot;x&quot;: 2.5384615384615374, &quot;y&quot;: 1.6916268134714274, &quot;z&quot;: 0.1725924529400188}, {&quot;x&quot;: 2.5384615384615374, &quot;y&quot;: 1.7721804712557812, &quot;z&quot;: 0.16101189440714078}, {&quot;x&quot;: 2.5384615384615374, &quot;y&quot;: 1.852734129040135, &quot;z&quot;: 0.1448073371245739}, {&quot;x&quot;: 2.5384615384615374, &quot;y&quot;: 1.9332877868244887, &quot;z&quot;: 0.12518369054461748}, {&quot;x&quot;: 2.5384615384615374, &quot;y&quot;: 2.0138414446088424, &quot;z&quot;: 0.10347098734446113}, {&quot;x&quot;: 2.5384615384615374, &quot;y&quot;: 2.094395102393196, &quot;z&quot;: 0.08096707081813738}, {&quot;x&quot;: 2.5384615384615374, &quot;y&quot;: 2.17494876017755, &quot;z&quot;: 0.05881144426719204}, {&quot;x&quot;: 2.5384615384615374, &quot;y&quot;: 2.2555024179619036, &quot;z&quot;: 0.03790519224097676}, {&quot;x&quot;: 2.5384615384615374, &quot;y&quot;: 2.3360560757462574, &quot;z&quot;: 0.018879323415685694}, {&quot;x&quot;: 2.5384615384615374, &quot;y&quot;: 2.416609733530611, &quot;z&quot;: 0.0021040776624021537}, {&quot;x&quot;: 2.5384615384615374, &quot;y&quot;: 2.497163391314965, &quot;z&quot;: -0.012273539756744885}, {&quot;x&quot;: 2.5384615384615374, &quot;y&quot;: 2.5777170490993186, &quot;z&quot;: -0.024277619353569937}, {&quot;x&quot;: 2.5384615384615374, &quot;y&quot;: 2.6582707068836724, &quot;z&quot;: -0.03404804210579472}, {&quot;x&quot;: 2.5384615384615374, &quot;y&quot;: 2.738824364668026, &quot;z&quot;: -0.04178984070768018}, {&quot;x&quot;: 2.5384615384615374, &quot;y&quot;: 2.81937802245238, &quot;z&quot;: -0.047731387517319215}, {&quot;x&quot;: 2.5384615384615374, &quot;y&quot;: 2.8999316802367336, &quot;z&quot;: -0.05209263192633393}, {&quot;x&quot;: 2.5384615384615374, &quot;y&quot;: 2.9804853380210874, &quot;z&quot;: -0.05506269397100794}, {&quot;x&quot;: 2.5384615384615374, &quot;y&quot;: 3.061038995805441, &quot;z&quot;: -0.056785165662580406}, {&quot;x&quot;: 2.5384615384615374, &quot;y&quot;: 3.141592653589793, &quot;z&quot;: -0.05734925360503229}, {&quot;x&quot;: 2.5897435897435885, &quot;y&quot;: 0.08055365778435367, &quot;z&quot;: -0.047210206214251996}, {&quot;x&quot;: 2.5897435897435885, &quot;y&quot;: 0.0, &quot;z&quot;: -0.04773057143281416}, {&quot;x&quot;: 2.5897435897435885, &quot;y&quot;: 0.16110731556870733, &quot;z&quot;: -0.04562382626102275}, {&quot;x&quot;: 2.5897435897435885, &quot;y&quot;: 0.241660973353061, &quot;z&quot;: -0.04289692888388386}, {&quot;x&quot;: 2.5897435897435885, &quot;y&quot;: 0.32221463113741466, &quot;z&quot;: -0.03891013605428202}, {&quot;x&quot;: 2.5897435897435885, &quot;y&quot;: 0.4027682889217683, &quot;z&quot;: -0.03350737028343419}, {&quot;x&quot;: 2.5897435897435885, &quot;y&quot;: 0.48332194670612194, &quot;z&quot;: -0.026509125347981242}, {&quot;x&quot;: 2.5897435897435885, &quot;y&quot;: 0.5638756044904756, &quot;z&quot;: -0.017732266229445}, {&quot;x&quot;: 2.5897435897435885, &quot;y&quot;: 0.6444292622748292, &quot;z&quot;: -0.007017546694884175}, {&quot;x&quot;: 2.5897435897435885, &quot;y&quot;: 0.7249829200591829, &quot;z&quot;: 0.005734825224017779}, {&quot;x&quot;: 2.5897435897435885, &quot;y&quot;: 0.8055365778435365, &quot;z&quot;: 0.02052287277991026}, {&quot;x&quot;: 2.5897435897435885, &quot;y&quot;: 0.8860902356278901, &quot;z&quot;: 0.03719750105244932}, {&quot;x&quot;: 2.5897435897435885, &quot;y&quot;: 0.9666438934122438, &quot;z&quot;: 0.05542075661046029}, {&quot;x&quot;: 2.5897435897435885, &quot;y&quot;: 1.0471975511965974, &quot;z&quot;: 0.0746371088195125}, {&quot;x&quot;: 2.5897435897435885, &quot;y&quot;: 1.1277512089809512, &quot;z&quot;: 0.09406868540225789}, {&quot;x&quot;: 2.5897435897435885, &quot;y&quot;: 1.208304866765305, &quot;z&quot;: 0.1127443925435423}, {&quot;x&quot;: 2.5897435897435885, &quot;y&quot;: 1.2888585245496587, &quot;z&quot;: 0.12956835906284414}, {&quot;x&quot;: 2.5897435897435885, &quot;y&quot;: 1.3694121823340124, &quot;z&quot;: 0.14342516736007374}, {&quot;x&quot;: 2.5897435897435885, &quot;y&quot;: 1.4499658401183662, &quot;z&quot;: 0.15330935747595967}, {&quot;x&quot;: 2.5897435897435885, &quot;y&quot;: 1.53051949790272, &quot;z&quot;: 0.15845764107169413}, {&quot;x&quot;: 2.5897435897435885, &quot;y&quot;: 1.6110731556870737, &quot;z&quot;: 0.15845764107169413}, {&quot;x&quot;: 2.5897435897435885, &quot;y&quot;: 1.6916268134714274, &quot;z&quot;: 0.15330935747595964}, {&quot;x&quot;: 2.5897435897435885, &quot;y&quot;: 1.7721804712557812, &quot;z&quot;: 0.1434251673600737}, {&quot;x&quot;: 2.5897435897435885, &quot;y&quot;: 1.852734129040135, &quot;z&quot;: 0.1295683590628441}, {&quot;x&quot;: 2.5897435897435885, &quot;y&quot;: 1.9332877868244887, &quot;z&quot;: 0.11274439254354221}, {&quot;x&quot;: 2.5897435897435885, &quot;y&quot;: 2.0138414446088424, &quot;z&quot;: 0.09406868540225785}, {&quot;x&quot;: 2.5897435897435885, &quot;y&quot;: 2.094395102393196, &quot;z&quot;: 0.07463710881951244}, {&quot;x&quot;: 2.5897435897435885, &quot;y&quot;: 2.17494876017755, &quot;z&quot;: 0.0554207566104602}, {&quot;x&quot;: 2.5897435897435885, &quot;y&quot;: 2.2555024179619036, &quot;z&quot;: 0.037197501052449164}, {&quot;x&quot;: 2.5897435897435885, &quot;y&quot;: 2.3360560757462574, &quot;z&quot;: 0.020522872779910134}, {&quot;x&quot;: 2.5897435897435885, &quot;y&quot;: 2.416609733530611, &quot;z&quot;: 0.005734825224017633}, {&quot;x&quot;: 2.5897435897435885, &quot;y&quot;: 2.497163391314965, &quot;z&quot;: -0.007017546694884297}, {&quot;x&quot;: 2.5897435897435885, &quot;y&quot;: 2.5777170490993186, &quot;z&quot;: -0.017732266229445105}, {&quot;x&quot;: 2.5897435897435885, &quot;y&quot;: 2.6582707068836724, &quot;z&quot;: -0.026509125347981354}, {&quot;x&quot;: 2.5897435897435885, &quot;y&quot;: 2.738824364668026, &quot;z&quot;: -0.03350737028343431}, {&quot;x&quot;: 2.5897435897435885, &quot;y&quot;: 2.81937802245238, &quot;z&quot;: -0.03891013605428212}, {&quot;x&quot;: 2.5897435897435885, &quot;y&quot;: 2.8999316802367336, &quot;z&quot;: -0.04289692888388382}, {&quot;x&quot;: 2.5897435897435885, &quot;y&quot;: 2.9804853380210874, &quot;z&quot;: -0.04562382626102274}, {&quot;x&quot;: 2.5897435897435885, &quot;y&quot;: 3.061038995805441, &quot;z&quot;: -0.047210206214251954}, {&quot;x&quot;: 2.5897435897435885, &quot;y&quot;: 3.141592653589793, &quot;z&quot;: -0.04773057143281416}, {&quot;x&quot;: 2.6410256410256396, &quot;y&quot;: 0.08055365778435367, &quot;z&quot;: -0.03912051672219772}, {&quot;x&quot;: 2.6410256410256396, &quot;y&quot;: 0.0, &quot;z&quot;: -0.03959905945286474}, {&quot;x&quot;: 2.6410256410256396, &quot;y&quot;: 0.16110731556870733, &quot;z&quot;: -0.03766373797034571}, {&quot;x&quot;: 2.6410256410256396, &quot;y&quot;: 0.241660973353061, &quot;z&quot;: -0.035166539235095814}, {&quot;x&quot;: 2.6410256410256396, &quot;y&quot;: 0.32221463113741466, &quot;z&quot;: -0.03152974162097957}, {&quot;x&quot;: 2.6410256410256396, &quot;y&quot;: 0.4027682889217683, &quot;z&quot;: -0.026624651831945824}, {&quot;x&quot;: 2.6410256410256396, &quot;y&quot;: 0.48332194670612194, &quot;z&quot;: -0.020304977983929755}, {&quot;x&quot;: 2.6410256410256396, &quot;y&quot;: 0.5638756044904756, &quot;z&quot;: -0.012424275538115887}, {&quot;x&quot;: 2.6410256410256396, &quot;y&quot;: 0.6444292622748292, &quot;z&quot;: -0.0028597623311523252}, {&quot;x&quot;: 2.6410256410256396, &quot;y&quot;: 0.7249829200591829, &quot;z&quot;: 0.008457421497720616}, {&quot;x&quot;: 2.6410256410256396, &quot;y&quot;: 0.8055365778435365, &quot;z&quot;: 0.021506814515295184}, {&quot;x&quot;: 2.6410256410256396, &quot;y&quot;: 0.8860902356278901, &quot;z&quot;: 0.03614138694116076}, {&quot;x&quot;: 2.6410256410256396, &quot;y&quot;: 0.9666438934122438, &quot;z&quot;: 0.052054075932249415}, {&quot;x&quot;: 2.6410256410256396, &quot;y&quot;: 1.0471975511965974, &quot;z&quot;: 0.0687558590667846}, {&quot;x&quot;: 2.6410256410256396, &quot;y&quot;: 1.1277512089809512, &quot;z&quot;: 0.0855741604500767}, {&quot;x&quot;: 2.6410256410256396, &quot;y&quot;: 1.208304866765305, &quot;z&quot;: 0.10167934942654835}, {&quot;x&quot;: 2.6410256410256396, &quot;y&quot;: 1.2888585245496587, &quot;z&quot;: 0.11614328091538667}, {&quot;x&quot;: 2.6410256410256396, &quot;y&quot;: 1.3694121823340124, &quot;z&quot;: 0.12802732249023838}, {&quot;x&quot;: 2.6410256410256396, &quot;y&quot;: 1.4499658401183662, &quot;z&quot;: 0.1364893579609806}, {&quot;x&quot;: 2.6410256410256396, &quot;y&quot;: 1.53051949790272, &quot;z&quot;: 0.14089217737987986}, {&quot;x&quot;: 2.6410256410256396, &quot;y&quot;: 1.6110731556870737, &quot;z&quot;: 0.14089217737987986}, {&quot;x&quot;: 2.6410256410256396, &quot;y&quot;: 1.6916268134714274, &quot;z&quot;: 0.13648935796098055}, {&quot;x&quot;: 2.6410256410256396, &quot;y&quot;: 1.7721804712557812, &quot;z&quot;: 0.12802732249023835}, {&quot;x&quot;: 2.6410256410256396, &quot;y&quot;: 1.852734129040135, &quot;z&quot;: 0.11614328091538659}, {&quot;x&quot;: 2.6410256410256396, &quot;y&quot;: 1.9332877868244887, &quot;z&quot;: 0.10167934942654833}, {&quot;x&quot;: 2.6410256410256396, &quot;y&quot;: 2.0138414446088424, &quot;z&quot;: 0.08557416045007663}, {&quot;x&quot;: 2.6410256410256396, &quot;y&quot;: 2.094395102393196, &quot;z&quot;: 0.06875585906678454}, {&quot;x&quot;: 2.6410256410256396, &quot;y&quot;: 2.17494876017755, &quot;z&quot;: 0.05205407593224924}, {&quot;x&quot;: 2.6410256410256396, &quot;y&quot;: 2.2555024179619036, &quot;z&quot;: 0.0361413869411606}, {&quot;x&quot;: 2.6410256410256396, &quot;y&quot;: 2.3360560757462574, &quot;z&quot;: 0.021506814515295028}, {&quot;x&quot;: 2.6410256410256396, &quot;y&quot;: 2.416609733530611, &quot;z&quot;: 0.00845742149772049}, {&quot;x&quot;: 2.6410256410256396, &quot;y&quot;: 2.497163391314965, &quot;z&quot;: -0.0028597623311523816}, {&quot;x&quot;: 2.6410256410256396, &quot;y&quot;: 2.5777170490993186, &quot;z&quot;: -0.012424275538115988}, {&quot;x&quot;: 2.6410256410256396, &quot;y&quot;: 2.6582707068836724, &quot;z&quot;: -0.02030497798392992}, {&quot;x&quot;: 2.6410256410256396, &quot;y&quot;: 2.738824364668026, &quot;z&quot;: -0.026624651831945872}, {&quot;x&quot;: 2.6410256410256396, &quot;y&quot;: 2.81937802245238, &quot;z&quot;: -0.031529741620979615}, {&quot;x&quot;: 2.6410256410256396, &quot;y&quot;: 2.8999316802367336, &quot;z&quot;: -0.035166539235095884}, {&quot;x&quot;: 2.6410256410256396, &quot;y&quot;: 2.9804853380210874, &quot;z&quot;: -0.03766373797034575}, {&quot;x&quot;: 2.6410256410256396, &quot;y&quot;: 3.061038995805441, &quot;z&quot;: -0.03912051672219776}, {&quot;x&quot;: 2.6410256410256396, &quot;y&quot;: 3.141592653589793, &quot;z&quot;: -0.03959905945286474}, {&quot;x&quot;: 2.6923076923076907, &quot;y&quot;: 0.08055365778435367, &quot;z&quot;: -0.03228825133344626}, {&quot;x&quot;: 2.6923076923076907, &quot;y&quot;: 0.0, &quot;z&quot;: -0.03272724390821308}, {&quot;x&quot;: 2.6923076923076907, &quot;y&quot;: 0.16110731556870733, &quot;z&quot;: -0.03095359205049441}, {&quot;x&quot;: 2.6923076923076907, &quot;y&quot;: 0.241660973353061, &quot;z&quot;: -0.02867139843442345}, {&quot;x&quot;: 2.6923076923076907, &quot;y&quot;: 0.32221463113741466, &quot;z&quot;: -0.02535933671122055}, {&quot;x&quot;: 2.6923076923076907, &quot;y&quot;: 0.4027682889217683, &quot;z&quot;: -0.020911404420488333}, {&quot;x&quot;: 2.6923076923076907, &quot;y&quot;: 0.48332194670612194, &quot;z&quot;: -0.015208583557858587}, {&quot;x&quot;: 2.6923076923076907, &quot;y&quot;: 0.5638756044904756, &quot;z&quot;: -0.008134178100094801}, {&quot;x&quot;: 2.6923076923076907, &quot;y&quot;: 0.6444292622748292, &quot;z&quot;: 0.00040558919838836925}, {&quot;x&quot;: 2.6923076923076907, &quot;y&quot;: 0.7249829200591829, &quot;z&quot;: 0.010455819417565113}, {&quot;x&quot;: 2.6923076923076907, &quot;y&quot;: 0.8055365778435365, &quot;z&quot;: 0.02198328755894615}, {&quot;x&quot;: 2.6923076923076907, &quot;y&quot;: 0.8860902356278901, &quot;z&quot;: 0.03484580011116996}, {&quot;x&quot;: 2.6923076923076907, &quot;y&quot;: 0.9666438934122438, &quot;z&quot;: 0.04876532932782618}, {&quot;x&quot;: 2.6923076923076907, &quot;y&quot;: 1.0471975511965974, &quot;z&quot;: 0.06331132440907294}, {&quot;x&quot;: 2.6923076923076907, &quot;y&quot;: 1.1277512089809512, &quot;z&quot;: 0.07790129057932559}, {&quot;x&quot;: 2.6923076923076907, &quot;y&quot;: 1.208304866765305, &quot;z&quot;: 0.09182471321919809}, {&quot;x&quot;: 2.6923076923076907, &quot;y&quot;: 1.2888585245496587, &quot;z&quot;: 0.10429317471636956}, {&quot;x&quot;: 2.6923076923076907, &quot;y&quot;: 1.3694121823340124, &quot;z&quot;: 0.11451419534064058}, {&quot;x&quot;: 2.6923076923076907, &quot;y&quot;: 1.4499658401183662, &quot;z&quot;: 0.12177996124577464}, {&quot;x&quot;: 2.6923076923076907, &quot;y&quot;: 1.53051949790272, &quot;z&quot;: 0.12555653922978383}, {&quot;x&quot;: 2.6923076923076907, &quot;y&quot;: 1.6110731556870737, &quot;z&quot;: 0.1255565392297838}, {&quot;x&quot;: 2.6923076923076907, &quot;y&quot;: 1.6916268134714274, &quot;z&quot;: 0.12177996124577464}, {&quot;x&quot;: 2.6923076923076907, &quot;y&quot;: 1.7721804712557812, &quot;z&quot;: 0.11451419534064054}, {&quot;x&quot;: 2.6923076923076907, &quot;y&quot;: 1.852734129040135, &quot;z&quot;: 0.10429317471636952}, {&quot;x&quot;: 2.6923076923076907, &quot;y&quot;: 1.9332877868244887, &quot;z&quot;: 0.09182471321919806}, {&quot;x&quot;: 2.6923076923076907, &quot;y&quot;: 2.0138414446088424, &quot;z&quot;: 0.07790129057932556}, {&quot;x&quot;: 2.6923076923076907, &quot;y&quot;: 2.094395102393196, &quot;z&quot;: 0.06331132440907289}, {&quot;x&quot;: 2.6923076923076907, &quot;y&quot;: 2.17494876017755, &quot;z&quot;: 0.04876532932782609}, {&quot;x&quot;: 2.6923076923076907, &quot;y&quot;: 2.2555024179619036, &quot;z&quot;: 0.034845800111169827}, {&quot;x&quot;: 2.6923076923076907, &quot;y&quot;: 2.3360560757462574, &quot;z&quot;: 0.021983287558946036}, {&quot;x&quot;: 2.6923076923076907, &quot;y&quot;: 2.416609733530611, &quot;z&quot;: 0.010455819417564988}, {&quot;x&quot;: 2.6923076923076907, &quot;y&quot;: 2.497163391314965, &quot;z&quot;: 0.00040558919838828067}, {&quot;x&quot;: 2.6923076923076907, &quot;y&quot;: 2.5777170490993186, &quot;z&quot;: -0.008134178100094851}, {&quot;x&quot;: 2.6923076923076907, &quot;y&quot;: 2.6582707068836724, &quot;z&quot;: -0.015208583557858726}, {&quot;x&quot;: 2.6923076923076907, &quot;y&quot;: 2.738824364668026, &quot;z&quot;: -0.02091140442048841}, {&quot;x&quot;: 2.6923076923076907, &quot;y&quot;: 2.81937802245238, &quot;z&quot;: -0.025359336711220627}, {&quot;x&quot;: 2.6923076923076907, &quot;y&quot;: 2.8999316802367336, &quot;z&quot;: -0.028671398434423512}, {&quot;x&quot;: 2.6923076923076907, &quot;y&quot;: 2.9804853380210874, &quot;z&quot;: -0.030953592050494437}, {&quot;x&quot;: 2.6923076923076907, &quot;y&quot;: 3.061038995805441, &quot;z&quot;: -0.03228825133344626}, {&quot;x&quot;: 2.6923076923076907, &quot;y&quot;: 3.141592653589793, &quot;z&quot;: -0.03272724390821308}, {&quot;x&quot;: 2.743589743589742, &quot;y&quot;: 0.08055365778435367, &quot;z&quot;: -0.02652063286373905}, {&quot;x&quot;: 2.743589743589742, &quot;y&quot;: 0.0, &quot;z&quot;: -0.026922552025380637}, {&quot;x&quot;: 2.743589743589742, &quot;y&quot;: 0.16110731556870733, &quot;z&quot;: -0.025300103982845115}, {&quot;x&quot;: 2.743589743589742, &quot;y&quot;: 0.241660973353061, &quot;z&quot;: -0.02321773467203571}, {&quot;x&quot;: 2.743589743589742, &quot;y&quot;: 0.32221463113741466, &quot;z&quot;: -0.020205236249572288}, {&quot;x&quot;: 2.743589743589742, &quot;y&quot;: 0.4027682889217683, &quot;z&quot;: -0.01617540550594086}, {&quot;x&quot;: 2.743589743589742, &quot;y&quot;: 0.48332194670612194, &quot;z&quot;: -0.011031616650394418}, {&quot;x&quot;: 2.743589743589742, &quot;y&quot;: 0.5638756044904756, &quot;z&quot;: -0.0046812824263350195}, {&quot;x&quot;: 2.743589743589742, &quot;y&quot;: 0.6444292622748292, &quot;z&quot;: 0.0029463390728803667}, {&quot;x&quot;: 2.743589743589742, &quot;y&quot;: 0.7249829200591829, &quot;z&quot;: 0.011878206408251126}, {&quot;x&quot;: 2.743589743589742, &quot;y&quot;: 0.8055365778435365, &quot;z&quot;: 0.02207262850305116}, {&quot;x&quot;: 2.743589743589742, &quot;y&quot;: 0.8860902356278901, &quot;z&quot;: 0.03339401488038202}, {&quot;x&quot;: 2.743589743589742, &quot;y&quot;: 0.9666438934122438, &quot;z&quot;: 0.045591282012332104}, {&quot;x&quot;: 2.743589743589742, &quot;y&quot;: 1.0471975511965974, &quot;z&quot;: 0.05828520565112988}, {&quot;x&quot;: 2.743589743589742, &quot;y&quot;: 1.1277512089809512, &quot;z&quot;: 0.07097044996188845}, {&quot;x&quot;: 2.743589743589742, &quot;y&quot;: 1.208304866765305, &quot;z&quot;: 0.08303704226999638}, {&quot;x&quot;: 2.743589743589742, &quot;y&quot;: 1.2888585245496587, &quot;z&quot;: 0.09381332749570417}, {&quot;x&quot;: 2.743589743589742, &quot;y&quot;: 1.3694121823340124, &quot;z&quot;: 0.10262807947257342}, {&quot;x&quot;: 2.743589743589742, &quot;y&quot;: 1.4499658401183662, &quot;z&quot;: 0.10888432947752573}, {&quot;x&quot;: 2.743589743589742, &quot;y&quot;: 1.53051949790272, &quot;z&quot;: 0.11213308165679392}, {&quot;x&quot;: 2.743589743589742, &quot;y&quot;: 1.6110731556870737, &quot;z&quot;: 0.11213308165679392}, {&quot;x&quot;: 2.743589743589742, &quot;y&quot;: 1.6916268134714274, &quot;z&quot;: 0.10888432947752572}, {&quot;x&quot;: 2.743589743589742, &quot;y&quot;: 1.7721804712557812, &quot;z&quot;: 0.10262807947257341}, {&quot;x&quot;: 2.743589743589742, &quot;y&quot;: 1.852734129040135, &quot;z&quot;: 0.09381332749570415}, {&quot;x&quot;: 2.743589743589742, &quot;y&quot;: 1.9332877868244887, &quot;z&quot;: 0.08303704226999631}, {&quot;x&quot;: 2.743589743589742, &quot;y&quot;: 2.0138414446088424, &quot;z&quot;: 0.0709704499618884}, {&quot;x&quot;: 2.743589743589742, &quot;y&quot;: 2.094395102393196, &quot;z&quot;: 0.05828520565112985}, {&quot;x&quot;: 2.743589743589742, &quot;y&quot;: 2.17494876017755, &quot;z&quot;: 0.04559128201233203}, {&quot;x&quot;: 2.743589743589742, &quot;y&quot;: 2.2555024179619036, &quot;z&quot;: 0.033394014880381954}, {&quot;x&quot;: 2.743589743589742, &quot;y&quot;: 2.3360560757462574, &quot;z&quot;: 0.0220726285030511}, {&quot;x&quot;: 2.743589743589742, &quot;y&quot;: 2.416609733530611, &quot;z&quot;: 0.011878206408251053}, {&quot;x&quot;: 2.743589743589742, &quot;y&quot;: 2.497163391314965, &quot;z&quot;: 0.002946339072880273}, {&quot;x&quot;: 2.743589743589742, &quot;y&quot;: 2.5777170490993186, &quot;z&quot;: -0.004681282426335101}, {&quot;x&quot;: 2.743589743589742, &quot;y&quot;: 2.6582707068836724, &quot;z&quot;: -0.011031616650394458}, {&quot;x&quot;: 2.743589743589742, &quot;y&quot;: 2.738824364668026, &quot;z&quot;: -0.01617540550594095}, {&quot;x&quot;: 2.743589743589742, &quot;y&quot;: 2.81937802245238, &quot;z&quot;: -0.020205236249572364}, {&quot;x&quot;: 2.743589743589742, &quot;y&quot;: 2.8999316802367336, &quot;z&quot;: -0.023217734672035768}, {&quot;x&quot;: 2.743589743589742, &quot;y&quot;: 2.9804853380210874, &quot;z&quot;: -0.025300103982845178}, {&quot;x&quot;: 2.743589743589742, &quot;y&quot;: 3.061038995805441, &quot;z&quot;: -0.026520632863739083}, {&quot;x&quot;: 2.743589743589742, &quot;y&quot;: 3.141592653589793, &quot;z&quot;: -0.026922552025380644}, {&quot;x&quot;: 2.794871794871793, &quot;y&quot;: 0.08055365778435367, &quot;z&quot;: -0.021654571324508817}, {&quot;x&quot;: 2.794871794871793, &quot;y&quot;: 0.0, &quot;z&quot;: -0.02202197737015996}, {&quot;x&quot;: 2.794871794871793, &quot;y&quot;: 0.16110731556870733, &quot;z&quot;: -0.020540022526165012}, {&quot;x&quot;: 2.794871794871793, &quot;y&quot;: 0.241660973353061, &quot;z&quot;: -0.01864232960082831}, {&quot;x&quot;: 2.794871794871793, &quot;y&quot;: 0.32221463113741466, &quot;z&quot;: -0.01590491248925093}, {&quot;x&quot;: 2.794871794871793, &quot;y&quot;: 0.4027682889217683, &quot;z&quot;: -0.012256141031188269}, {&quot;x&quot;: 2.794871794871793, &quot;y&quot;: 0.48332194670612194, &quot;z&quot;: -0.007617769690657642}, {&quot;x&quot;: 2.794871794871793, &quot;y&quot;: 0.5638756044904756, &quot;z&quot;: -0.001916736973748656}, {&quot;x&quot;: 2.794871794871793, &quot;y&quot;: 0.6444292622748292, &quot;z&quot;: 0.004899441783224563}, {&quot;x&quot;: 2.794871794871793, &quot;y&quot;: 0.7249829200591829, &quot;z&quot;: 0.01284397592611855}, {&quot;x&quot;: 2.794871794871793, &quot;y&quot;: 0.8055365778435365, &quot;z&quot;: 0.021869917544883006}, {&quot;x&quot;: 2.794871794871793, &quot;y&quot;: 0.8860902356278901, &quot;z&quot;: 0.031849322314953604}, {&quot;x&quot;: 2.794871794871793, &quot;y&quot;: 0.9666438934122438, &quot;z&quot;: 0.04255587558154654}, {&quot;x&quot;: 2.794871794871793, &quot;y&quot;: 1.0471975511965974, &quot;z&quot;: 0.053655363184362426}, {&quot;x&quot;: 2.794871794871793, &quot;y&quot;: 1.1277512089809512, &quot;z&quot;: 0.0647086292413778}, {&quot;x&quot;: 2.794871794871793, &quot;y&quot;: 1.208304866765305, &quot;z&quot;: 0.0751907698747034}, {&quot;x&quot;: 2.794871794871793, &quot;y&quot;: 1.2888585245496587, &quot;z&quot;: 0.08452799654351821}, {&quot;x&quot;: 2.794871794871793, &quot;y&quot;: 1.3694121823340124, &quot;z&quot;: 0.09215002275341702}, {&quot;x&quot;: 2.794871794871793, &quot;y&quot;: 1.4499658401183662, &quot;z&quot;: 0.09755170140061509}, {&quot;x&quot;: 2.794871794871793, &quot;y&quot;: 1.53051949790272, &quot;z&quot;: 0.10035416059196081}, {&quot;x&quot;: 2.794871794871793, &quot;y&quot;: 1.6110731556870737, &quot;z&quot;: 0.10035416059196081}, {&quot;x&quot;: 2.794871794871793, &quot;y&quot;: 1.6916268134714274, &quot;z&quot;: 0.09755170140061506}, {&quot;x&quot;: 2.794871794871793, &quot;y&quot;: 1.7721804712557812, &quot;z&quot;: 0.09215002275341701}, {&quot;x&quot;: 2.794871794871793, &quot;y&quot;: 1.852734129040135, &quot;z&quot;: 0.0845279965435182}, {&quot;x&quot;: 2.794871794871793, &quot;y&quot;: 1.9332877868244887, &quot;z&quot;: 0.07519076987470336}, {&quot;x&quot;: 2.794871794871793, &quot;y&quot;: 2.0138414446088424, &quot;z&quot;: 0.06470862924137777}, {&quot;x&quot;: 2.794871794871793, &quot;y&quot;: 2.094395102393196, &quot;z&quot;: 0.053655363184362384}, {&quot;x&quot;: 2.794871794871793, &quot;y&quot;: 2.17494876017755, &quot;z&quot;: 0.042555875581546505}, {&quot;x&quot;: 2.794871794871793, &quot;y&quot;: 2.2555024179619036, &quot;z&quot;: 0.031849322314953535}, {&quot;x&quot;: 2.794871794871793, &quot;y&quot;: 2.3360560757462574, &quot;z&quot;: 0.02186991754488294}, {&quot;x&quot;: 2.794871794871793, &quot;y&quot;: 2.416609733530611, &quot;z&quot;: 0.012843975926118429}, {&quot;x&quot;: 2.794871794871793, &quot;y&quot;: 2.497163391314965, &quot;z&quot;: 0.004899441783224536}, {&quot;x&quot;: 2.794871794871793, &quot;y&quot;: 2.5777170490993186, &quot;z&quot;: -0.0019167369737487306}, {&quot;x&quot;: 2.794871794871793, &quot;y&quot;: 2.6582707068836724, &quot;z&quot;: -0.007617769690657722}, {&quot;x&quot;: 2.794871794871793, &quot;y&quot;: 2.738824364668026, &quot;z&quot;: -0.012256141031188317}, {&quot;x&quot;: 2.794871794871793, &quot;y&quot;: 2.81937802245238, &quot;z&quot;: -0.015904912489250984}, {&quot;x&quot;: 2.794871794871793, &quot;y&quot;: 2.8999316802367336, &quot;z&quot;: -0.01864232960082836}, {&quot;x&quot;: 2.794871794871793, &quot;y&quot;: 2.9804853380210874, &quot;z&quot;: -0.02054002252616504}, {&quot;x&quot;: 2.794871794871793, &quot;y&quot;: 3.061038995805441, &quot;z&quot;: -0.021654571324508817}, {&quot;x&quot;: 2.794871794871793, &quot;y&quot;: 3.141592653589793, &quot;z&quot;: -0.022021977370159956}, {&quot;x&quot;: 2.846153846153844, &quot;y&quot;: 0.08055365778435367, &quot;z&quot;: -0.01755208697801647}, {&quot;x&quot;: 2.846153846153844, &quot;y&quot;: 0.0, &quot;z&quot;: -0.017887538191660626}, {&quot;x&quot;: 2.846153846153844, &quot;y&quot;: 0.16110731556870733, &quot;z&quot;: -0.01653544931630239}, {&quot;x&quot;: 2.846153846153844, &quot;y&quot;: 0.241660973353061, &quot;z&quot;: -0.014807673991355286}, {&quot;x&quot;: 2.846153846153844, &quot;y&quot;: 0.32221463113741466, &quot;z&quot;: -0.012321940462262416}, {&quot;x&quot;: 2.846153846153844, &quot;y&quot;: 0.4027682889217683, &quot;z&quot;: -0.009019517164008492}, {&quot;x&quot;: 2.846153846153844, &quot;y&quot;: 0.48332194670612194, &quot;z&quot;: -0.0048372410757383955}, {&quot;x&quot;: 2.846153846153844, &quot;y&quot;: 0.5638756044904756, &quot;z&quot;: 0.0002821487660393899}, {&quot;x&quot;: 2.846153846153844, &quot;y&quot;: 0.6444292622748292, &quot;z&quot;: 0.006376704277166339}, {&quot;x&quot;: 2.846153846153844, &quot;y&quot;: 0.7249829200591829, &quot;z&quot;: 0.013449317882302572}, {&quot;x&quot;: 2.846153846153844, &quot;y&quot;: 0.8055365778435365, &quot;z&quot;: 0.021450162961789077}, {&quot;x&quot;: 2.846153846153844, &quot;y&quot;: 0.8860902356278901, &quot;z&quot;: 0.030259468277038747}, {&quot;x&quot;: 2.846153846153844, &quot;y&quot;: 0.9666438934122438, &quot;z&quot;: 0.03967352749008573}, {&quot;x&quot;: 2.846153846153844, &quot;y&quot;: 1.0471975511965974, &quot;z&quot;: 0.04939757588753216}, {&quot;x&quot;: 2.846153846153844, &quot;y&quot;: 1.1277512089809512, &quot;z&quot;: 0.05904930324452817}, {&quot;x&quot;: 2.846153846153844, &quot;y&quot;: 1.208304866765305, &quot;z&quot;: 0.0681759549019541}, {&quot;x&quot;: 2.846153846153844, &quot;y&quot;: 1.2888585245496587, &quot;z&quot;: 0.07628601249030154}, {&quot;x&quot;: 2.846153846153844, &quot;y&quot;: 1.3694121823340124, &quot;z&quot;: 0.08289349651773488}, {&quot;x&quot;: 2.846153846153844, &quot;y&quot;: 1.4499658401183662, &quot;z&quot;: 0.08756959329213147}, {&quot;x&quot;: 2.846153846153844, &quot;y&quot;: 1.53051949790272, &quot;z&quot;: 0.08999354030555945}, {&quot;x&quot;: 2.846153846153844, &quot;y&quot;: 1.6110731556870737, &quot;z&quot;: 0.08999354030555934}, {&quot;x&quot;: 2.846153846153844, &quot;y&quot;: 1.6916268134714274, &quot;z&quot;: 0.08756959329213146}, {&quot;x&quot;: 2.846153846153844, &quot;y&quot;: 1.7721804712557812, &quot;z&quot;: 0.08289349651773487}, {&quot;x&quot;: 2.846153846153844, &quot;y&quot;: 1.852734129040135, &quot;z&quot;: 0.0762860124903015}, {&quot;x&quot;: 2.846153846153844, &quot;y&quot;: 1.9332877868244887, &quot;z&quot;: 0.06817595490195408}, {&quot;x&quot;: 2.846153846153844, &quot;y&quot;: 2.0138414446088424, &quot;z&quot;: 0.05904930324452812}, {&quot;x&quot;: 2.846153846153844, &quot;y&quot;: 2.094395102393196, &quot;z&quot;: 0.049397575887532144}, {&quot;x&quot;: 2.846153846153844, &quot;y&quot;: 2.17494876017755, &quot;z&quot;: 0.03967352749008568}, {&quot;x&quot;: 2.846153846153844, &quot;y&quot;: 2.2555024179619036, &quot;z&quot;: 0.03025946827703869}, {&quot;x&quot;: 2.846153846153844, &quot;y&quot;: 2.3360560757462574, &quot;z&quot;: 0.021450162961789022}, {&quot;x&quot;: 2.846153846153844, &quot;y&quot;: 2.416609733530611, &quot;z&quot;: 0.013449317882302473}, {&quot;x&quot;: 2.846153846153844, &quot;y&quot;: 2.497163391314965, &quot;z&quot;: 0.00637670427716629}, {&quot;x&quot;: 2.846153846153844, &quot;y&quot;: 2.5777170490993186, &quot;z&quot;: 0.00028214876603935085}, {&quot;x&quot;: 2.846153846153844, &quot;y&quot;: 2.6582707068836724, &quot;z&quot;: -0.0048372410757384614}, {&quot;x&quot;: 2.846153846153844, &quot;y&quot;: 2.738824364668026, &quot;z&quot;: -0.009019517164008532}, {&quot;x&quot;: 2.846153846153844, &quot;y&quot;: 2.81937802245238, &quot;z&quot;: -0.012321940462262461}, {&quot;x&quot;: 2.846153846153844, &quot;y&quot;: 2.8999316802367336, &quot;z&quot;: -0.01480767399135533}, {&quot;x&quot;: 2.846153846153844, &quot;y&quot;: 2.9804853380210874, &quot;z&quot;: -0.016535449316302443}, {&quot;x&quot;: 2.846153846153844, &quot;y&quot;: 3.061038995805441, &quot;z&quot;: -0.01755208697801647}, {&quot;x&quot;: 2.846153846153844, &quot;y&quot;: 3.141592653589793, &quot;z&quot;: -0.01788753819166063}, {&quot;x&quot;: 2.897435897435895, &quot;y&quot;: 0.08055365778435367, &quot;z&quot;: -0.014096427055125822}, {&quot;x&quot;: 2.897435897435895, &quot;y&quot;: 0.0, &quot;z&quot;: -0.014402420591467294}, {&quot;x&quot;: 2.897435897435895, &quot;y&quot;: 0.16110731556870733, &quot;z&quot;: -0.01316987834546136}, {&quot;x&quot;: 2.897435897435895, &quot;y&quot;: 0.241660973353061, &quot;z&quot;: -0.01159788586504749}, {&quot;x&quot;: 2.897435897435895, &quot;y&quot;: 0.32221463113741466, &quot;z&quot;: -0.009341762859915139}, {&quot;x&quot;: 2.897435897435895, &quot;y&quot;: 0.4027682889217683, &quot;z&quot;: -0.006353459183807187}, {&quot;x&quot;: 2.897435897435895, &quot;y&quot;: 0.48332194670612194, &quot;z&quot;: -0.0025821830954735267}, {&quot;x&quot;: 2.897435897435895, &quot;y&quot;: 0.5638756044904756, &quot;z&quot;: 0.002016554549540063}, {&quot;x&quot;: 2.897435897435895, &quot;y&quot;: 0.6444292622748292, &quot;z&quot;: 0.007469433744081502}, {&quot;x&quot;: 2.897435897435895, &quot;y&quot;: 0.7249829200591829, &quot;z&quot;: 0.013771706833588285}, {&quot;x&quot;: 2.897435897435895, &quot;y&quot;: 0.8055365778435365, &quot;z&quot;: 0.020872412731527287}, {&quot;x&quot;: 2.897435897435895, &quot;y&quot;: 0.8860902356278901, &quot;z&quot;: 0.028660117040395772}, {&quot;x&quot;: 2.897435897435895, &quot;y&quot;: 0.9666438934122438, &quot;z&quot;: 0.03695163902932234}, {&quot;x&quot;: 2.897435897435895, &quot;y&quot;: 1.0471975511965974, &quot;z&quot;: 0.04548678312313281}, {&quot;x&quot;: 2.897435897435895, &quot;y&quot;: 1.1277512089809512, &quot;z&quot;: 0.053932141650114104}, {&quot;x&quot;: 2.897435897435895, &quot;y&quot;: 1.208304866765305, &quot;z&quot;: 0.06189629673252394}, {&quot;x&quot;: 2.897435897435895, &quot;y&quot;: 1.2888585245496587, &quot;z&quot;: 0.06895708801569923}, {&quot;x&quot;: 2.897435897435895, &quot;y&quot;: 1.3694121823340124, &quot;z&quot;: 0.07469917689051726}, {&quot;x&quot;: 2.897435897435895, &quot;y&quot;: 1.4499658401183662, &quot;z&quot;: 0.07875742544285894}, {&quot;x&quot;: 2.897435897435895, &quot;y&quot;: 1.53051949790272, &quot;z&quot;: 0.08085939726337917}, {&quot;x&quot;: 2.897435897435895, &quot;y&quot;: 1.6110731556870737, &quot;z&quot;: 0.08085939726337914}, {&quot;x&quot;: 2.897435897435895, &quot;y&quot;: 1.6916268134714274, &quot;z&quot;: 0.0787574254428589}, {&quot;x&quot;: 2.897435897435895, &quot;y&quot;: 1.7721804712557812, &quot;z&quot;: 0.07469917689051725}, {&quot;x&quot;: 2.897435897435895, &quot;y&quot;: 1.852734129040135, &quot;z&quot;: 0.06895708801569922}, {&quot;x&quot;: 2.897435897435895, &quot;y&quot;: 1.9332877868244887, &quot;z&quot;: 0.0618962967325239}, {&quot;x&quot;: 2.897435897435895, &quot;y&quot;: 2.0138414446088424, &quot;z&quot;: 0.05393214165011407}, {&quot;x&quot;: 2.897435897435895, &quot;y&quot;: 2.094395102393196, &quot;z&quot;: 0.0454867831231328}, {&quot;x&quot;: 2.897435897435895, &quot;y&quot;: 2.17494876017755, &quot;z&quot;: 0.03695163902932229}, {&quot;x&quot;: 2.897435897435895, &quot;y&quot;: 2.2555024179619036, &quot;z&quot;: 0.02866011704039572}, {&quot;x&quot;: 2.897435897435895, &quot;y&quot;: 2.3360560757462574, &quot;z&quot;: 0.020872412731527228}, {&quot;x&quot;: 2.897435897435895, &quot;y&quot;: 2.416609733530611, &quot;z&quot;: 0.013771706833588233}, {&quot;x&quot;: 2.897435897435895, &quot;y&quot;: 2.497163391314965, &quot;z&quot;: 0.00746943374408146}, {&quot;x&quot;: 2.897435897435895, &quot;y&quot;: 2.5777170490993186, &quot;z&quot;: 0.0020165545495400066}, {&quot;x&quot;: 2.897435897435895, &quot;y&quot;: 2.6582707068836724, &quot;z&quot;: -0.0025821830954735614}, {&quot;x&quot;: 2.897435897435895, &quot;y&quot;: 2.738824364668026, &quot;z&quot;: -0.0063534591838072235}, {&quot;x&quot;: 2.897435897435895, &quot;y&quot;: 2.81937802245238, &quot;z&quot;: -0.009341762859915177}, {&quot;x&quot;: 2.897435897435895, &quot;y&quot;: 2.8999316802367336, &quot;z&quot;: -0.01159788586504755}, {&quot;x&quot;: 2.897435897435895, &quot;y&quot;: 2.9804853380210874, &quot;z&quot;: -0.01316987834546138}, {&quot;x&quot;: 2.897435897435895, &quot;y&quot;: 3.061038995805441, &quot;z&quot;: -0.014096427055125841}, {&quot;x&quot;: 2.897435897435895, &quot;y&quot;: 3.141592653589793, &quot;z&quot;: -0.014402420591467298}, {&quot;x&quot;: 2.9487179487179462, &quot;y&quot;: 0.08055365778435367, &quot;z&quot;: -0.01118877708668113}, {&quot;x&quot;: 2.9487179487179462, &quot;y&quot;: 0.0, &quot;z&quot;: -0.011467709556092335}, {&quot;x&quot;: 2.9487179487179462, &quot;y&quot;: 0.16110731556870733, &quot;z&quot;: -0.010344850025764147}, {&quot;x&quot;: 2.9487179487179462, &quot;y&quot;: 0.241660973353061, &quot;z&quot;: -0.008915275477912824}, {&quot;x&quot;: 2.9487179487179462, &quot;y&quot;: 0.32221463113741466, &quot;z&quot;: -0.006868144508046549}, {&quot;x&quot;: 2.9487179487179462, &quot;y&quot;: 0.4027682889217683, &quot;z&quot;: -0.004164250081790809}, {&quot;x&quot;: 2.9487179487179462, &quot;y&quot;: 0.48332194670612194, &quot;z&quot;: -0.0007629421818547487}, {&quot;x&quot;: 2.9487179487179462, &quot;y&quot;: 0.5638756044904756, &quot;z&quot;: 0.003369959391761392}, {&quot;x&quot;: 2.9487179487179462, &quot;y&quot;: 0.6444292622748292, &quot;z&quot;: 0.00825221160334308}, {&quot;x&quot;: 2.9487179487179462, &quot;y&quot;: 0.7249829200591829, &quot;z&quot;: 0.013873509561893486}, {&quot;x&quot;: 2.9487179487179462, &quot;y&quot;: 0.8055365778435365, &quot;z&quot;: 0.020183019450781152}, {&quot;x&quot;: 2.9487179487179462, &quot;y&quot;: 0.8860902356278901, &quot;z&quot;: 0.02707755679937638}, {&quot;x&quot;: 2.9487179487179462, &quot;y&quot;: 0.9666438934122438, &quot;z&quot;: 0.034392499505172355}, {&quot;x&quot;: 2.9487179487179462, &quot;y&quot;: 1.0471975511965974, &quot;z&quot;: 0.04189794731764595}, {&quot;x&quot;: 2.9487179487179462, &quot;y&quot;: 1.1277512089809512, &quot;z&quot;: 0.04930262860439737}, {&quot;x&quot;: 2.9487179487179462, &quot;y&quot;: 1.208304866765305, &quot;z&quot;: 0.056267392284559035}, {&quot;x&quot;: 2.9487179487179462, &quot;y&quot;: 1.2888585245496587, &quot;z&quot;: 0.06242871422231423}, {&quot;x&quot;: 2.9487179487179462, &quot;y&quot;: 1.3694121823340124, &quot;z&quot;: 0.06743062993379617}, {&quot;x&quot;: 2.9487179487179462, &quot;y&quot;: 1.4499658401183662, &quot;z&quot;: 0.07096129504174614}, {&quot;x&quot;: 2.9487179487179462, &quot;y&quot;: 1.53051949790272, &quot;z&quot;: 0.07278860228998153}, {&quot;x&quot;: 2.9487179487179462, &quot;y&quot;: 1.6110731556870737, &quot;z&quot;: 0.07278860228998145}, {&quot;x&quot;: 2.9487179487179462, &quot;y&quot;: 1.6916268134714274, &quot;z&quot;: 0.07096129504174613}, {&quot;x&quot;: 2.9487179487179462, &quot;y&quot;: 1.7721804712557812, &quot;z&quot;: 0.06743062993379617}, {&quot;x&quot;: 2.9487179487179462, &quot;y&quot;: 1.852734129040135, &quot;z&quot;: 0.062428714222314226}, {&quot;x&quot;: 2.9487179487179462, &quot;y&quot;: 1.9332877868244887, &quot;z&quot;: 0.056267392284559}, {&quot;x&quot;: 2.9487179487179462, &quot;y&quot;: 2.0138414446088424, &quot;z&quot;: 0.04930262860439735}, {&quot;x&quot;: 2.9487179487179462, &quot;y&quot;: 2.094395102393196, &quot;z&quot;: 0.041897947317645935}, {&quot;x&quot;: 2.9487179487179462, &quot;y&quot;: 2.17494876017755, &quot;z&quot;: 0.03439249950517232}, {&quot;x&quot;: 2.9487179487179462, &quot;y&quot;: 2.2555024179619036, &quot;z&quot;: 0.027077556799376328}, {&quot;x&quot;: 2.9487179487179462, &quot;y&quot;: 2.3360560757462574, &quot;z&quot;: 0.020183019450781117}, {&quot;x&quot;: 2.9487179487179462, &quot;y&quot;: 2.416609733530611, &quot;z&quot;: 0.013873509561893408}, {&quot;x&quot;: 2.9487179487179462, &quot;y&quot;: 2.497163391314965, &quot;z&quot;: 0.008252211603343013}, {&quot;x&quot;: 2.9487179487179462, &quot;y&quot;: 2.5777170490993186, &quot;z&quot;: 0.0033699593917613227}, {&quot;x&quot;: 2.9487179487179462, &quot;y&quot;: 2.6582707068836724, &quot;z&quot;: -0.0007629421818547986}, {&quot;x&quot;: 2.9487179487179462, &quot;y&quot;: 2.738824364668026, &quot;z&quot;: -0.004164250081790859}, {&quot;x&quot;: 2.9487179487179462, &quot;y&quot;: 2.81937802245238, &quot;z&quot;: -0.006868144508046582}, {&quot;x&quot;: 2.9487179487179462, &quot;y&quot;: 2.8999316802367336, &quot;z&quot;: -0.008915275477912854}, {&quot;x&quot;: 2.9487179487179462, &quot;y&quot;: 2.9804853380210874, &quot;z&quot;: -0.01034485002576418}, {&quot;x&quot;: 2.9487179487179462, &quot;y&quot;: 3.061038995805441, &quot;z&quot;: -0.011188777086681149}, {&quot;x&quot;: 2.9487179487179462, &quot;y&quot;: 3.141592653589793, &quot;z&quot;: -0.011467709556092335}, {&quot;x&quot;: 3.0, &quot;y&quot;: 0.08055365778435367, &quot;z&quot;: -0.008745479647062557}, {&quot;x&quot;: 3.0, &quot;y&quot;: 0.0, &quot;z&quot;: -0.008999622259963515}, {&quot;x&quot;: 3.0, &quot;y&quot;: 0.16110731556870733, &quot;z&quot;: -0.007977127833150783}, {&quot;x&quot;: 3.0, &quot;y&quot;: 0.241660973353061, &quot;z&quot;: -0.0066774572452353255}, {&quot;x&quot;: 3.0, &quot;y&quot;: 0.32221463113741466, &quot;z&quot;: -0.004820205738655705}, {&quot;x&quot;: 3.0, &quot;y&quot;: 0.4027682889217683, &quot;z&quot;: -0.0023734849544797517}, {&quot;x&quot;: 3.0, &quot;y&quot;: 0.48332194670612194, &quot;z&quot;: 0.0006950472745051918}, {&quot;x&quot;: 3.0, &quot;y&quot;: 0.5638756044904756, &quot;z&quot;: 0.004411265176566153}, {&quot;x&quot;: 3.0, &quot;y&quot;: 0.6444292622748292, &quot;z&quot;: 0.008785960965999678}, {&quot;x&quot;: 3.0, &quot;y&quot;: 0.7249829200591829, &quot;z&quot;: 0.013804888282202922}, {&quot;x&quot;: 3.0, &quot;y&quot;: 0.8055365778435365, &quot;z&quot;: 0.019418236014328204}, {&quot;x&quot;: 3.0, &quot;y&quot;: 0.8860902356278901, &quot;z&quot;: 0.02553081443088119}, {&quot;x&quot;: 3.0, &quot;y&quot;: 0.9666438934122438, &quot;z&quot;: 0.031994729369282035}, {&quot;x&quot;: 3.0, &quot;y&quot;: 1.0471975511965974, &quot;z&quot;: 0.03860663892514206}, {&quot;x&quot;: 3.0, &quot;y&quot;: 1.1277512089809512, &quot;z&quot;: 0.04511163630401488}, {&quot;x&quot;: 3.0, &quot;y&quot;: 1.208304866765305, &quot;z&quot;: 0.05121521125177134}, {&quot;x&quot;: 3.0, &quot;y&quot;: 1.2888585245496587, &quot;z&quot;: 0.05660354688169161}, {&quot;x&quot;: 3.0, &quot;y&quot;: 1.3694121823340124, &quot;z&quot;: 0.06097073359337059}, {&quot;x&quot;: 3.0, &quot;y&quot;: 1.4499658401183662, &quot;z&quot;: 0.06404967448861634}, {&quot;x&quot;: 3.0, &quot;y&quot;: 1.53051949790272, &quot;z&quot;: 0.06564203046367595}, {&quot;x&quot;: 3.0, &quot;y&quot;: 1.6110731556870737, &quot;z&quot;: 0.06564203046367587}, {&quot;x&quot;: 3.0, &quot;y&quot;: 1.6916268134714274, &quot;z&quot;: 0.06404967448861633}, {&quot;x&quot;: 3.0, &quot;y&quot;: 1.7721804712557812, &quot;z&quot;: 0.060970733593370574}, {&quot;x&quot;: 3.0, &quot;y&quot;: 1.852734129040135, &quot;z&quot;: 0.0566035468816916}, {&quot;x&quot;: 3.0, &quot;y&quot;: 1.9332877868244887, &quot;z&quot;: 0.05121521125177131}, {&quot;x&quot;: 3.0, &quot;y&quot;: 2.0138414446088424, &quot;z&quot;: 0.045111636304014865}, {&quot;x&quot;: 3.0, &quot;y&quot;: 2.094395102393196, &quot;z&quot;: 0.03860663892514203}, {&quot;x&quot;: 3.0, &quot;y&quot;: 2.17494876017755, &quot;z&quot;: 0.03199472936928199}, {&quot;x&quot;: 3.0, &quot;y&quot;: 2.2555024179619036, &quot;z&quot;: 0.025530814430881153}, {&quot;x&quot;: 3.0, &quot;y&quot;: 2.3360560757462574, &quot;z&quot;: 0.019418236014328162}, {&quot;x&quot;: 3.0, &quot;y&quot;: 2.416609733530611, &quot;z&quot;: 0.013804888282202867}, {&quot;x&quot;: 3.0, &quot;y&quot;: 2.497163391314965, &quot;z&quot;: 0.00878596096599962}, {&quot;x&quot;: 3.0, &quot;y&quot;: 2.5777170490993186, &quot;z&quot;: 0.004411265176566094}, {&quot;x&quot;: 3.0, &quot;y&quot;: 2.6582707068836724, &quot;z&quot;: 0.0006950472745051652}, {&quot;x&quot;: 3.0, &quot;y&quot;: 2.738824364668026, &quot;z&quot;: -0.002373484954479762}, {&quot;x&quot;: 3.0, &quot;y&quot;: 2.81937802245238, &quot;z&quot;: -0.004820205738655751}, {&quot;x&quot;: 3.0, &quot;y&quot;: 2.8999316802367336, &quot;z&quot;: -0.0066774572452353515}, {&quot;x&quot;: 3.0, &quot;y&quot;: 2.9804853380210874, &quot;z&quot;: -0.007977127833150795}, {&quot;x&quot;: 3.0, &quot;y&quot;: 3.061038995805441, &quot;z&quot;: -0.008745479647062572}, {&quot;x&quot;: 3.0, &quot;y&quot;: 3.141592653589793, &quot;z&quot;: -0.008999622259963515}], &quot;faces&quot;: [[0, 1, 2, 3], [1, 4, 5, 2], [4, 6, 7, 5], [6, 8, 9, 7], [8, 10, 11, 9], [10, 12, 13, 11], [12, 14, 15, 13], [14, 16, 17, 15], [16, 18, 19, 17], [18, 20, 21, 19], [20, 22, 23, 21], [22, 24, 25, 23], [24, 26, 27, 25], [26, 28, 29, 27], [28, 30, 31, 29], [30, 32, 33, 31], [32, 34, 35, 33], [34, 36, 37, 35], [36, 38, 39, 37], [38, 40, 41, 39], [40, 42, 43, 41], [42, 44, 45, 43], [44, 46, 47, 45], [46, 48, 49, 47], [48, 50, 51, 49], [50, 52, 53, 51], [52, 54, 55, 53], [54, 56, 57, 55], [56, 58, 59, 57], [58, 60, 61, 59], [60, 62, 63, 61], [62, 64, 65, 63], [64, 66, 67, 65], [66, 68, 69, 67], [68, 70, 71, 69], [70, 72, 73, 71], [72, 74, 75, 73], [74, 76, 77, 75], [76, 78, 79, 77], [3, 2, 80, 81], [2, 5, 82, 80], [5, 7, 83, 82], [7, 9, 84, 83], [9, 11, 85, 84], [11, 13, 86, 85], [13, 15, 87, 86], [15, 17, 88, 87], [17, 19, 89, 88], [19, 21, 90, 89], [21, 23, 91, 90], [23, 25, 92, 91], [25, 27, 93, 92], [27, 29, 94, 93], [29, 31, 95, 94], [31, 33, 96, 95], [33, 35, 97, 96], [35, 37, 98, 97], [37, 39, 99, 98], [39, 41, 100, 99], [41, 43, 101, 100], [43, 45, 102, 101], [45, 47, 103, 102], [47, 49, 104, 103], [49, 51, 105, 104], [51, 53, 106, 105], [53, 55, 107, 106], [55, 57, 108, 107], [57, 59, 109, 108], [59, 61, 110, 109], [61, 63, 111, 110], [63, 65, 112, 111], [65, 67, 113, 112], [67, 69, 114, 113], [69, 71, 115, 114], [71, 73, 116, 115], [73, 75, 117, 116], [75, 77, 118, 117], [77, 79, 119, 118], [81, 80, 120, 121], [80, 82, 122, 120], [82, 83, 123, 122], [83, 84, 124, 123], [84, 85, 125, 124], [85, 86, 126, 125], [86, 87, 127, 126], [87, 88, 128, 127], [88, 89, 129, 128], [89, 90, 130, 129], [90, 91, 131, 130], [91, 92, 132, 131], [92, 93, 133, 132], [93, 94, 134, 133], [94, 95, 135, 134], [95, 96, 136, 135], [96, 97, 137, 136], [97, 98, 138, 137], [98, 99, 139, 138], [99, 100, 140, 139], [100, 101, 141, 140], [101, 102, 142, 141], [102, 103, 143, 142], [103, 104, 144, 143], [104, 105, 145, 144], [105, 106, 146, 145], [106, 107, 147, 146], [107, 108, 148, 147], [108, 109, 149, 148], [109, 110, 150, 149], [110, 111, 151, 150], [111, 112, 152, 151], [112, 113, 153, 152], [113, 114, 154, 153], [114, 115, 155, 154], [115, 116, 156, 155], [116, 117, 157, 156], [117, 118, 158, 157], [118, 119, 159, 158], [121, 120, 160, 161], [120, 122, 162, 160], [122, 123, 163, 162], [123, 124, 164, 163], [124, 125, 165, 164], [125, 126, 166, 165], [126, 127, 167, 166], [127, 128, 168, 167], [128, 129, 169, 168], [129, 130, 170, 169], [130, 131, 171, 170], [131, 132, 172, 171], [132, 133, 173, 172], [133, 134, 174, 173], [134, 135, 175, 174], [135, 136, 176, 175], [136, 137, 177, 176], [137, 138, 178, 177], [138, 139, 179, 178], [139, 140, 180, 179], [140, 141, 181, 180], [141, 142, 182, 181], [142, 143, 183, 182], [143, 144, 184, 183], [144, 145, 185, 184], [145, 146, 186, 185], [146, 147, 187, 186], [147, 148, 188, 187], [148, 149, 189, 188], [149, 150, 190, 189], [150, 151, 191, 190], [151, 152, 192, 191], [152, 153, 193, 192], [153, 154, 194, 193], [154, 155, 195, 194], [155, 156, 196, 195], [156, 157, 197, 196], [157, 158, 198, 197], [158, 159, 199, 198], [161, 160, 200, 201], [160, 162, 202, 200], [162, 163, 203, 202], [163, 164, 204, 203], [164, 165, 205, 204], [165, 166, 206, 205], [166, 167, 207, 206], [167, 168, 208, 207], [168, 169, 209, 208], [169, 170, 210, 209], [170, 171, 211, 210], [171, 172, 212, 211], [172, 173, 213, 212], [173, 174, 214, 213], [174, 175, 215, 214], [175, 176, 216, 215], [176, 177, 217, 216], [177, 178, 218, 217], [178, 179, 219, 218], [179, 180, 220, 219], [180, 181, 221, 220], [181, 182, 222, 221], [182, 183, 223, 222], [183, 184, 224, 223], [184, 185, 225, 224], [185, 186, 226, 225], [186, 187, 227, 226], [187, 188, 228, 227], [188, 189, 229, 228], [189, 190, 230, 229], [190, 191, 231, 230], [191, 192, 232, 231], [192, 193, 233, 232], [193, 194, 234, 233], [194, 195, 235, 234], [195, 196, 236, 235], [196, 197, 237, 236], [197, 198, 238, 237], [198, 199, 239, 238], [201, 200, 240, 241], [200, 202, 242, 240], [202, 203, 243, 242], [203, 204, 244, 243], [204, 205, 245, 244], [205, 206, 246, 245], [206, 207, 247, 246], [207, 208, 248, 247], [208, 209, 249, 248], [209, 210, 250, 249], [210, 211, 251, 250], [211, 212, 252, 251], [212, 213, 253, 252], [213, 214, 254, 253], [214, 215, 255, 254], [215, 216, 256, 255], [216, 217, 257, 256], [217, 218, 258, 257], [218, 219, 259, 258], [219, 220, 260, 259], [220, 221, 261, 260], [221, 222, 262, 261], [222, 223, 263, 262], [223, 224, 264, 263], [224, 225, 265, 264], [225, 226, 266, 265], [226, 227, 267, 266], [227, 228, 268, 267], [228, 229, 269, 268], [229, 230, 270, 269], [230, 231, 271, 270], [231, 232, 272, 271], [232, 233, 273, 272], [233, 234, 274, 273], [234, 235, 275, 274], [235, 236, 276, 275], [236, 237, 277, 276], [237, 238, 278, 277], [238, 239, 279, 278], [241, 240, 280, 281], [240, 242, 282, 280], [242, 243, 283, 282], [243, 244, 284, 283], [244, 245, 285, 284], [245, 246, 286, 285], [246, 247, 287, 286], [247, 248, 288, 287], [248, 249, 289, 288], [249, 250, 290, 289], [250, 251, 291, 290], [251, 252, 292, 291], [252, 253, 293, 292], [253, 254, 294, 293], [254, 255, 295, 294], [255, 256, 296, 295], [256, 257, 297, 296], [257, 258, 298, 297], [258, 259, 299, 298], [259, 260, 300, 299], [260, 261, 301, 300], [261, 262, 302, 301], [262, 263, 303, 302], [263, 264, 304, 303], [264, 265, 305, 304], [265, 266, 306, 305], [266, 267, 307, 306], [267, 268, 308, 307], [268, 269, 309, 308], [269, 270, 310, 309], [270, 271, 311, 310], [271, 272, 312, 311], [272, 273, 313, 312], [273, 274, 314, 313], [274, 275, 315, 314], [275, 276, 316, 315], [276, 277, 317, 316], [277, 278, 318, 317], [278, 279, 319, 318], [281, 280, 320, 321], [280, 282, 322, 320], [282, 283, 323, 322], [283, 284, 324, 323], [284, 285, 325, 324], [285, 286, 326, 325], [286, 287, 327, 326], [287, 288, 328, 327], [288, 289, 329, 328], [289, 290, 330, 329], [290, 291, 331, 330], [291, 292, 332, 331], [292, 293, 333, 332], [293, 294, 334, 333], [294, 295, 335, 334], [295, 296, 336, 335], [296, 297, 337, 336], [297, 298, 338, 337], [298, 299, 339, 338], [299, 300, 340, 339], [300, 301, 341, 340], [301, 302, 342, 341], [302, 303, 343, 342], [303, 304, 344, 343], [304, 305, 345, 344], [305, 306, 346, 345], [306, 307, 347, 346], [307, 308, 348, 347], [308, 309, 349, 348], [309, 310, 350, 349], [310, 311, 351, 350], [311, 312, 352, 351], [312, 313, 353, 352], [313, 314, 354, 353], [314, 315, 355, 354], [315, 316, 356, 355], [316, 317, 357, 356], [317, 318, 358, 357], [318, 319, 359, 358], [321, 320, 360, 361], [320, 322, 362, 360], [322, 323, 363, 362], [323, 324, 364, 363], [324, 325, 365, 364], [325, 326, 366, 365], [326, 327, 367, 366], [327, 328, 368, 367], [328, 329, 369, 368], [329, 330, 370, 369], [330, 331, 371, 370], [331, 332, 372, 371], [332, 333, 373, 372], [333, 334, 374, 373], [334, 335, 375, 374], [335, 336, 376, 375], [336, 337, 377, 376], [337, 338, 378, 377], [338, 339, 379, 378], [339, 340, 380, 379], [340, 341, 381, 380], [341, 342, 382, 381], [342, 343, 383, 382], [343, 344, 384, 383], [344, 345, 385, 384], [345, 346, 386, 385], [346, 347, 387, 386], [347, 348, 388, 387], [348, 349, 389, 388], [349, 350, 390, 389], [350, 351, 391, 390], [351, 352, 392, 391], [352, 353, 393, 392], [353, 354, 394, 393], [354, 355, 395, 394], [355, 356, 396, 395], [356, 357, 397, 396], [357, 358, 398, 397], [358, 359, 399, 398], [361, 360, 400, 401], [360, 362, 402, 400], [362, 363, 403, 402], [363, 364, 404, 403], [364, 365, 405, 404], [365, 366, 406, 405], [366, 367, 407, 406], [367, 368, 408, 407], [368, 369, 409, 408], [369, 370, 410, 409], [370, 371, 411, 410], [371, 372, 412, 411], [372, 373, 413, 412], [373, 374, 414, 413], [374, 375, 415, 414], [375, 376, 416, 415], [376, 377, 417, 416], [377, 378, 418, 417], [378, 379, 419, 418], [379, 380, 420, 419], [380, 381, 421, 420], [381, 382, 422, 421], [382, 383, 423, 422], [383, 384, 424, 423], [384, 385, 425, 424], [385, 386, 426, 425], [386, 387, 427, 426], [387, 388, 428, 427], [388, 389, 429, 428], [389, 390, 430, 429], [390, 391, 431, 430], [391, 392, 432, 431], [392, 393, 433, 432], [393, 394, 434, 433], [394, 395, 435, 434], [395, 396, 436, 435], [396, 397, 437, 436], [397, 398, 438, 437], [398, 399, 439, 438], [401, 400, 440, 441], [400, 402, 442, 440], [402, 403, 443, 442], [403, 404, 444, 443], [404, 405, 445, 444], [405, 406, 446, 445], [406, 407, 447, 446], [407, 408, 448, 447], [408, 409, 449, 448], [409, 410, 450, 449], [410, 411, 451, 450], [411, 412, 452, 451], [412, 413, 453, 452], [413, 414, 454, 453], [414, 415, 455, 454], [415, 416, 456, 455], [416, 417, 457, 456], [417, 418, 458, 457], [418, 419, 459, 458], [419, 420, 460, 459], [420, 421, 461, 460], [421, 422, 462, 461], [422, 423, 463, 462], [423, 424, 464, 463], [424, 425, 465, 464], [425, 426, 466, 465], [426, 427, 467, 466], [427, 428, 468, 467], [428, 429, 469, 468], [429, 430, 470, 469], [430, 431, 471, 470], [431, 432, 472, 471], [432, 433, 473, 472], [433, 434, 474, 473], [434, 435, 475, 474], [435, 436, 476, 475], [436, 437, 477, 476], [437, 438, 478, 477], [438, 439, 479, 478], [441, 440, 480, 481], [440, 442, 482, 480], [442, 443, 483, 482], [443, 444, 484, 483], [444, 445, 485, 484], [445, 446, 486, 485], [446, 447, 487, 486], [447, 448, 488, 487], [448, 449, 489, 488], [449, 450, 490, 489], [450, 451, 491, 490], [451, 452, 492, 491], [452, 453, 493, 492], [453, 454, 494, 493], [454, 455, 495, 494], [455, 456, 496, 495], [456, 457, 497, 496], [457, 458, 498, 497], [458, 459, 499, 498], [459, 460, 500, 499], [460, 461, 501, 500], [461, 462, 502, 501], [462, 463, 503, 502], [463, 464, 504, 503], [464, 465, 505, 504], [465, 466, 506, 505], [466, 467, 507, 506], [467, 468, 508, 507], [468, 469, 509, 508], [469, 470, 510, 509], [470, 471, 511, 510], [471, 472, 512, 511], [472, 473, 513, 512], [473, 474, 514, 513], [474, 475, 515, 514], [475, 476, 516, 515], [476, 477, 517, 516], [477, 478, 518, 517], [478, 479, 519, 518], [481, 480, 520, 521], [480, 482, 522, 520], [482, 483, 523, 522], [483, 484, 524, 523], [484, 485, 525, 524], [485, 486, 526, 525], [486, 487, 527, 526], [487, 488, 528, 527], [488, 489, 529, 528], [489, 490, 530, 529], [490, 491, 531, 530], [491, 492, 532, 531], [492, 493, 533, 532], [493, 494, 534, 533], [494, 495, 535, 534], [495, 496, 536, 535], [496, 497, 537, 536], [497, 498, 538, 537], [498, 499, 539, 538], [499, 500, 540, 539], [500, 501, 541, 540], [501, 502, 542, 541], [502, 503, 543, 542], [503, 504, 544, 543], [504, 505, 545, 544], [505, 506, 546, 545], [506, 507, 547, 546], [507, 508, 548, 547], [508, 509, 549, 548], [509, 510, 550, 549], [510, 511, 551, 550], [511, 512, 552, 551], [512, 513, 553, 552], [513, 514, 554, 553], [514, 515, 555, 554], [515, 516, 556, 555], [516, 517, 557, 556], [517, 518, 558, 557], [518, 519, 559, 558], [521, 520, 560, 561], [520, 522, 562, 560], [522, 523, 563, 562], [523, 524, 564, 563], [524, 525, 565, 564], [525, 526, 566, 565], [526, 527, 567, 566], [527, 528, 568, 567], [528, 529, 569, 568], [529, 530, 570, 569], [530, 531, 571, 570], [531, 532, 572, 571], [532, 533, 573, 572], [533, 534, 574, 573], [534, 535, 575, 574], [535, 536, 576, 575], [536, 537, 577, 576], [537, 538, 578, 577], [538, 539, 579, 578], [539, 540, 580, 579], [540, 541, 581, 580], [541, 542, 582, 581], [542, 543, 583, 582], [543, 544, 584, 583], [544, 545, 585, 584], [545, 546, 586, 585], [546, 547, 587, 586], [547, 548, 588, 587], [548, 549, 589, 588], [549, 550, 590, 589], [550, 551, 591, 590], [551, 552, 592, 591], [552, 553, 593, 592], [553, 554, 594, 593], [554, 555, 595, 594], [555, 556, 596, 595], [556, 557, 597, 596], [557, 558, 598, 597], [558, 559, 599, 598], [561, 560, 600, 601], [560, 562, 602, 600], [562, 563, 603, 602], [563, 564, 604, 603], [564, 565, 605, 604], [565, 566, 606, 605], [566, 567, 607, 606], [567, 568, 608, 607], [568, 569, 609, 608], [569, 570, 610, 609], [570, 571, 611, 610], [571, 572, 612, 611], [572, 573, 613, 612], [573, 574, 614, 613], [574, 575, 615, 614], [575, 576, 616, 615], [576, 577, 617, 616], [577, 578, 618, 617], [578, 579, 619, 618], [579, 580, 620, 619], [580, 581, 621, 620], [581, 582, 622, 621], [582, 583, 623, 622], [583, 584, 624, 623], [584, 585, 625, 624], [585, 586, 626, 625], [586, 587, 627, 626], [587, 588, 628, 627], [588, 589, 629, 628], [589, 590, 630, 629], [590, 591, 631, 630], [591, 592, 632, 631], [592, 593, 633, 632], [593, 594, 634, 633], [594, 595, 635, 634], [595, 596, 636, 635], [596, 597, 637, 636], [597, 598, 638, 637], [598, 599, 639, 638], [601, 600, 640, 641], [600, 602, 642, 640], [602, 603, 643, 642], [603, 604, 644, 643], [604, 605, 645, 644], [605, 606, 646, 645], [606, 607, 647, 646], [607, 608, 648, 647], [608, 609, 649, 648], [609, 610, 650, 649], [610, 611, 651, 650], [611, 612, 652, 651], [612, 613, 653, 652], [613, 614, 654, 653], [614, 615, 655, 654], [615, 616, 656, 655], [616, 617, 657, 656], [617, 618, 658, 657], [618, 619, 659, 658], [619, 620, 660, 659], [620, 621, 661, 660], [621, 622, 662, 661], [622, 623, 663, 662], [623, 624, 664, 663], [624, 625, 665, 664], [625, 626, 666, 665], [626, 627, 667, 666], [627, 628, 668, 667], [628, 629, 669, 668], [629, 630, 670, 669], [630, 631, 671, 670], [631, 632, 672, 671], [632, 633, 673, 672], [633, 634, 674, 673], [634, 635, 675, 674], [635, 636, 676, 675], [636, 637, 677, 676], [637, 638, 678, 677], [638, 639, 679, 678], [641, 640, 680, 681], [640, 642, 682, 680], [642, 643, 683, 682], [643, 644, 684, 683], [644, 645, 685, 684], [645, 646, 686, 685], [646, 647, 687, 686], [647, 648, 688, 687], [648, 649, 689, 688], [649, 650, 690, 689], [650, 651, 691, 690], [651, 652, 692, 691], [652, 653, 693, 692], [653, 654, 694, 693], [654, 655, 695, 694], [655, 656, 696, 695], [656, 657, 697, 696], [657, 658, 698, 697], [658, 659, 699, 698], [659, 660, 700, 699], [660, 661, 701, 700], [661, 662, 702, 701], [662, 663, 703, 702], [663, 664, 704, 703], [664, 665, 705, 704], [665, 666, 706, 705], [666, 667, 707, 706], [667, 668, 708, 707], [668, 669, 709, 708], [669, 670, 710, 709], [670, 671, 711, 710], [671, 672, 712, 711], [672, 673, 713, 712], [673, 674, 714, 713], [674, 675, 715, 714], [675, 676, 716, 715], [676, 677, 717, 716], [677, 678, 718, 717], [678, 679, 719, 718], [681, 680, 720, 721], [680, 682, 722, 720], [682, 683, 723, 722], [683, 684, 724, 723], [684, 685, 725, 724], [685, 686, 726, 725], [686, 687, 727, 726], [687, 688, 728, 727], [688, 689, 729, 728], [689, 690, 730, 729], [690, 691, 731, 730], [691, 692, 732, 731], [692, 693, 733, 732], [693, 694, 734, 733], [694, 695, 735, 734], [695, 696, 736, 735], [696, 697, 737, 736], [697, 698, 738, 737], [698, 699, 739, 738], [699, 700, 740, 739], [700, 701, 741, 740], [701, 702, 742, 741], [702, 703, 743, 742], [703, 704, 744, 743], [704, 705, 745, 744], [705, 706, 746, 745], [706, 707, 747, 746], [707, 708, 748, 747], [708, 709, 749, 748], [709, 710, 750, 749], [710, 711, 751, 750], [711, 712, 752, 751], [712, 713, 753, 752], [713, 714, 754, 753], [714, 715, 755, 754], [715, 716, 756, 755], [716, 717, 757, 756], [717, 718, 758, 757], [718, 719, 759, 758], [721, 720, 760, 761], [720, 722, 762, 760], [722, 723, 763, 762], [723, 724, 764, 763], [724, 725, 765, 764], [725, 726, 766, 765], [726, 727, 767, 766], [727, 728, 768, 767], [728, 729, 769, 768], [729, 730, 770, 769], [730, 731, 771, 770], [731, 732, 772, 771], [732, 733, 773, 772], [733, 734, 774, 773], [734, 735, 775, 774], [735, 736, 776, 775], [736, 737, 777, 776], [737, 738, 778, 777], [738, 739, 779, 778], [739, 740, 780, 779], [740, 741, 781, 780], [741, 742, 782, 781], [742, 743, 783, 782], [743, 744, 784, 783], [744, 745, 785, 784], [745, 746, 786, 785], [746, 747, 787, 786], [747, 748, 788, 787], [748, 749, 789, 788], [749, 750, 790, 789], [750, 751, 791, 790], [751, 752, 792, 791], [752, 753, 793, 792], [753, 754, 794, 793], [754, 755, 795, 794], [755, 756, 796, 795], [756, 757, 797, 796], [757, 758, 798, 797], [758, 759, 799, 798], [761, 760, 800, 801], [760, 762, 802, 800], [762, 763, 803, 802], [763, 764, 804, 803], [764, 765, 805, 804], [765, 766, 806, 805], [766, 767, 807, 806], [767, 768, 808, 807], [768, 769, 809, 808], [769, 770, 810, 809], [770, 771, 811, 810], [771, 772, 812, 811], [772, 773, 813, 812], [773, 774, 814, 813], [774, 775, 815, 814], [775, 776, 816, 815], [776, 777, 817, 816], [777, 778, 818, 817], [778, 779, 819, 818], [779, 780, 820, 819], [780, 781, 821, 820], [781, 782, 822, 821], [782, 783, 823, 822], [783, 784, 824, 823], [784, 785, 825, 824], [785, 786, 826, 825], [786, 787, 827, 826], [787, 788, 828, 827], [788, 789, 829, 828], [789, 790, 830, 829], [790, 791, 831, 830], [791, 792, 832, 831], [792, 793, 833, 832], [793, 794, 834, 833], [794, 795, 835, 834], [795, 796, 836, 835], [796, 797, 837, 836], [797, 798, 838, 837], [798, 799, 839, 838], [801, 800, 840, 841], [800, 802, 842, 840], [802, 803, 843, 842], [803, 804, 844, 843], [804, 805, 845, 844], [805, 806, 846, 845], [806, 807, 847, 846], [807, 808, 848, 847], [808, 809, 849, 848], [809, 810, 850, 849], [810, 811, 851, 850], [811, 812, 852, 851], [812, 813, 853, 852], [813, 814, 854, 853], [814, 815, 855, 854], [815, 816, 856, 855], [816, 817, 857, 856], [817, 818, 858, 857], [818, 819, 859, 858], [819, 820, 860, 859], [820, 821, 861, 860], [821, 822, 862, 861], [822, 823, 863, 862], [823, 824, 864, 863], [824, 825, 865, 864], [825, 826, 866, 865], [826, 827, 867, 866], [827, 828, 868, 867], [828, 829, 869, 868], [829, 830, 870, 869], [830, 831, 871, 870], [831, 832, 872, 871], [832, 833, 873, 872], [833, 834, 874, 873], [834, 835, 875, 874], [835, 836, 876, 875], [836, 837, 877, 876], [837, 838, 878, 877], [838, 839, 879, 878], [841, 840, 880, 881], [840, 842, 882, 880], [842, 843, 883, 882], [843, 844, 884, 883], [844, 845, 885, 884], [845, 846, 886, 885], [846, 847, 887, 886], [847, 848, 888, 887], [848, 849, 889, 888], [849, 850, 890, 889], [850, 851, 891, 890], [851, 852, 892, 891], [852, 853, 893, 892], [853, 854, 894, 893], [854, 855, 895, 894], [855, 856, 896, 895], [856, 857, 897, 896], [857, 858, 898, 897], [858, 859, 899, 898], [859, 860, 900, 899], [860, 861, 901, 900], [861, 862, 902, 901], [862, 863, 903, 902], [863, 864, 904, 903], [864, 865, 905, 904], [865, 866, 906, 905], [866, 867, 907, 906], [867, 868, 908, 907], [868, 869, 909, 908], [869, 870, 910, 909], [870, 871, 911, 910], [871, 872, 912, 911], [872, 873, 913, 912], [873, 874, 914, 913], [874, 875, 915, 914], [875, 876, 916, 915], [876, 877, 917, 916], [877, 878, 918, 917], [878, 879, 919, 918], [881, 880, 920, 921], [880, 882, 922, 920], [882, 883, 923, 922], [883, 884, 924, 923], [884, 885, 925, 924], [885, 886, 926, 925], [886, 887, 927, 926], [887, 888, 928, 927], [888, 889, 929, 928], [889, 890, 930, 929], [890, 891, 931, 930], [891, 892, 932, 931], [892, 893, 933, 932], [893, 894, 934, 933], [894, 895, 935, 934], [895, 896, 936, 935], [896, 897, 937, 936], [897, 898, 938, 937], [898, 899, 939, 938], [899, 900, 940, 939], [900, 901, 941, 940], [901, 902, 942, 941], [902, 903, 943, 942], [903, 904, 944, 943], [904, 905, 945, 944], [905, 906, 946, 945], [906, 907, 947, 946], [907, 908, 948, 947], [908, 909, 949, 948], [909, 910, 950, 949], [910, 911, 951, 950], [911, 912, 952, 951], [912, 913, 953, 952], [913, 914, 954, 953], [914, 915, 955, 954], [915, 916, 956, 955], [916, 917, 957, 956], [917, 918, 958, 957], [918, 919, 959, 958], [921, 920, 960, 961], [920, 922, 962, 960], [922, 923, 963, 962], [923, 924, 964, 963], [924, 925, 965, 964], [925, 926, 966, 965], [926, 927, 967, 966], [927, 928, 968, 967], [928, 929, 969, 968], [929, 930, 970, 969], [930, 931, 971, 970], [931, 932, 972, 971], [932, 933, 973, 972], [933, 934, 974, 973], [934, 935, 975, 974], [935, 936, 976, 975], [936, 937, 977, 976], [937, 938, 978, 977], [938, 939, 979, 978], [939, 940, 980, 979], [940, 941, 981, 980], [941, 942, 982, 981], [942, 943, 983, 982], [943, 944, 984, 983], [944, 945, 985, 984], [945, 946, 986, 985], [946, 947, 987, 986], [947, 948, 988, 987], [948, 949, 989, 988], [949, 950, 990, 989], [950, 951, 991, 990], [951, 952, 992, 991], [952, 953, 993, 992], [953, 954, 994, 993], [954, 955, 995, 994], [955, 956, 996, 995], [956, 957, 997, 996], [957, 958, 998, 997], [958, 959, 999, 998], [961, 960, 1000, 1001], [960, 962, 1002, 1000], [962, 963, 1003, 1002], [963, 964, 1004, 1003], [964, 965, 1005, 1004], [965, 966, 1006, 1005], [966, 967, 1007, 1006], [967, 968, 1008, 1007], [968, 969, 1009, 1008], [969, 970, 1010, 1009], [970, 971, 1011, 1010], [971, 972, 1012, 1011], [972, 973, 1013, 1012], [973, 974, 1014, 1013], [974, 975, 1015, 1014], [975, 976, 1016, 1015], [976, 977, 1017, 1016], [977, 978, 1018, 1017], [978, 979, 1019, 1018], [979, 980, 1020, 1019], [980, 981, 1021, 1020], [981, 982, 1022, 1021], [982, 983, 1023, 1022], [983, 984, 1024, 1023], [984, 985, 1025, 1024], [985, 986, 1026, 1025], [986, 987, 1027, 1026], [987, 988, 1028, 1027], [988, 989, 1029, 1028], [989, 990, 1030, 1029], [990, 991, 1031, 1030], [991, 992, 1032, 1031], [992, 993, 1033, 1032], [993, 994, 1034, 1033], [994, 995, 1035, 1034], [995, 996, 1036, 1035], [996, 997, 1037, 1036], [997, 998, 1038, 1037], [998, 999, 1039, 1038], [1001, 1000, 1040, 1041], [1000, 1002, 1042, 1040], [1002, 1003, 1043, 1042], [1003, 1004, 1044, 1043], [1004, 1005, 1045, 1044], [1005, 1006, 1046, 1045], [1006, 1007, 1047, 1046], [1007, 1008, 1048, 1047], [1008, 1009, 1049, 1048], [1009, 1010, 1050, 1049], [1010, 1011, 1051, 1050], [1011, 1012, 1052, 1051], [1012, 1013, 1053, 1052], [1013, 1014, 1054, 1053], [1014, 1015, 1055, 1054], [1015, 1016, 1056, 1055], [1016, 1017, 1057, 1056], [1017, 1018, 1058, 1057], [1018, 1019, 1059, 1058], [1019, 1020, 1060, 1059], [1020, 1021, 1061, 1060], [1021, 1022, 1062, 1061], [1022, 1023, 1063, 1062], [1023, 1024, 1064, 1063], [1024, 1025, 1065, 1064], [1025, 1026, 1066, 1065], [1026, 1027, 1067, 1066], [1027, 1028, 1068, 1067], [1028, 1029, 1069, 1068], [1029, 1030, 1070, 1069], [1030, 1031, 1071, 1070], [1031, 1032, 1072, 1071], [1032, 1033, 1073, 1072], [1033, 1034, 1074, 1073], [1034, 1035, 1075, 1074], [1035, 1036, 1076, 1075], [1036, 1037, 1077, 1076], [1037, 1038, 1078, 1077], [1038, 1039, 1079, 1078], [1041, 1040, 1080, 1081], [1040, 1042, 1082, 1080], [1042, 1043, 1083, 1082], [1043, 1044, 1084, 1083], [1044, 1045, 1085, 1084], [1045, 1046, 1086, 1085], [1046, 1047, 1087, 1086], [1047, 1048, 1088, 1087], [1048, 1049, 1089, 1088], [1049, 1050, 1090, 1089], [1050, 1051, 1091, 1090], [1051, 1052, 1092, 1091], [1052, 1053, 1093, 1092], [1053, 1054, 1094, 1093], [1054, 1055, 1095, 1094], [1055, 1056, 1096, 1095], [1056, 1057, 1097, 1096], [1057, 1058, 1098, 1097], [1058, 1059, 1099, 1098], [1059, 1060, 1100, 1099], [1060, 1061, 1101, 1100], [1061, 1062, 1102, 1101], [1062, 1063, 1103, 1102], [1063, 1064, 1104, 1103], [1064, 1065, 1105, 1104], [1065, 1066, 1106, 1105], [1066, 1067, 1107, 1106], [1067, 1068, 1108, 1107], [1068, 1069, 1109, 1108], [1069, 1070, 1110, 1109], [1070, 1071, 1111, 1110], [1071, 1072, 1112, 1111], [1072, 1073, 1113, 1112], [1073, 1074, 1114, 1113], [1074, 1075, 1115, 1114], [1075, 1076, 1116, 1115], [1076, 1077, 1117, 1116], [1077, 1078, 1118, 1117], [1078, 1079, 1119, 1118], [1081, 1080, 1120, 1121], [1080, 1082, 1122, 1120], [1082, 1083, 1123, 1122], [1083, 1084, 1124, 1123], [1084, 1085, 1125, 1124], [1085, 1086, 1126, 1125], [1086, 1087, 1127, 1126], [1087, 1088, 1128, 1127], [1088, 1089, 1129, 1128], [1089, 1090, 1130, 1129], [1090, 1091, 1131, 1130], [1091, 1092, 1132, 1131], [1092, 1093, 1133, 1132], [1093, 1094, 1134, 1133], [1094, 1095, 1135, 1134], [1095, 1096, 1136, 1135], [1096, 1097, 1137, 1136], [1097, 1098, 1138, 1137], [1098, 1099, 1139, 1138], [1099, 1100, 1140, 1139], [1100, 1101, 1141, 1140], [1101, 1102, 1142, 1141], [1102, 1103, 1143, 1142], [1103, 1104, 1144, 1143], [1104, 1105, 1145, 1144], [1105, 1106, 1146, 1145], [1106, 1107, 1147, 1146], [1107, 1108, 1148, 1147], [1108, 1109, 1149, 1148], [1109, 1110, 1150, 1149], [1110, 1111, 1151, 1150], [1111, 1112, 1152, 1151], [1112, 1113, 1153, 1152], [1113, 1114, 1154, 1153], [1114, 1115, 1155, 1154], [1115, 1116, 1156, 1155], [1116, 1117, 1157, 1156], [1117, 1118, 1158, 1157], [1118, 1119, 1159, 1158], [1121, 1120, 1160, 1161], [1120, 1122, 1162, 1160], [1122, 1123, 1163, 1162], [1123, 1124, 1164, 1163], [1124, 1125, 1165, 1164], [1125, 1126, 1166, 1165], [1126, 1127, 1167, 1166], [1127, 1128, 1168, 1167], [1128, 1129, 1169, 1168], [1129, 1130, 1170, 1169], [1130, 1131, 1171, 1170], [1131, 1132, 1172, 1171], [1132, 1133, 1173, 1172], [1133, 1134, 1174, 1173], [1134, 1135, 1175, 1174], [1135, 1136, 1176, 1175], [1136, 1137, 1177, 1176], [1137, 1138, 1178, 1177], [1138, 1139, 1179, 1178], [1139, 1140, 1180, 1179], [1140, 1141, 1181, 1180], [1141, 1142, 1182, 1181], [1142, 1143, 1183, 1182], [1143, 1144, 1184, 1183], [1144, 1145, 1185, 1184], [1145, 1146, 1186, 1185], [1146, 1147, 1187, 1186], [1147, 1148, 1188, 1187], [1148, 1149, 1189, 1188], [1149, 1150, 1190, 1189], [1150, 1151, 1191, 1190], [1151, 1152, 1192, 1191], [1152, 1153, 1193, 1192], [1153, 1154, 1194, 1193], [1154, 1155, 1195, 1194], [1155, 1156, 1196, 1195], [1156, 1157, 1197, 1196], [1157, 1158, 1198, 1197], [1158, 1159, 1199, 1198], [1161, 1160, 1200, 1201], [1160, 1162, 1202, 1200], [1162, 1163, 1203, 1202], [1163, 1164, 1204, 1203], [1164, 1165, 1205, 1204], [1165, 1166, 1206, 1205], [1166, 1167, 1207, 1206], [1167, 1168, 1208, 1207], [1168, 1169, 1209, 1208], [1169, 1170, 1210, 1209], [1170, 1171, 1211, 1210], [1171, 1172, 1212, 1211], [1172, 1173, 1213, 1212], [1173, 1174, 1214, 1213], [1174, 1175, 1215, 1214], [1175, 1176, 1216, 1215], [1176, 1177, 1217, 1216], [1177, 1178, 1218, 1217], [1178, 1179, 1219, 1218], [1179, 1180, 1220, 1219], [1180, 1181, 1221, 1220], [1181, 1182, 1222, 1221], [1182, 1183, 1223, 1222], [1183, 1184, 1224, 1223], [1184, 1185, 1225, 1224], [1185, 1186, 1226, 1225], [1186, 1187, 1227, 1226], [1187, 1188, 1228, 1227], [1188, 1189, 1229, 1228], [1189, 1190, 1230, 1229], [1190, 1191, 1231, 1230], [1191, 1192, 1232, 1231], [1192, 1193, 1233, 1232], [1193, 1194, 1234, 1233], [1194, 1195, 1235, 1234], [1195, 1196, 1236, 1235], [1196, 1197, 1237, 1236], [1197, 1198, 1238, 1237], [1198, 1199, 1239, 1238], [1201, 1200, 1240, 1241], [1200, 1202, 1242, 1240], [1202, 1203, 1243, 1242], [1203, 1204, 1244, 1243], [1204, 1205, 1245, 1244], [1205, 1206, 1246, 1245], [1206, 1207, 1247, 1246], [1207, 1208, 1248, 1247], [1208, 1209, 1249, 1248], [1209, 1210, 1250, 1249], [1210, 1211, 1251, 1250], [1211, 1212, 1252, 1251], [1212, 1213, 1253, 1252], [1213, 1214, 1254, 1253], [1214, 1215, 1255, 1254], [1215, 1216, 1256, 1255], [1216, 1217, 1257, 1256], [1217, 1218, 1258, 1257], [1218, 1219, 1259, 1258], [1219, 1220, 1260, 1259], [1220, 1221, 1261, 1260], [1221, 1222, 1262, 1261], [1222, 1223, 1263, 1262], [1223, 1224, 1264, 1263], [1224, 1225, 1265, 1264], [1225, 1226, 1266, 1265], [1226, 1227, 1267, 1266], [1227, 1228, 1268, 1267], [1228, 1229, 1269, 1268], [1229, 1230, 1270, 1269], [1230, 1231, 1271, 1270], [1231, 1232, 1272, 1271], [1232, 1233, 1273, 1272], [1233, 1234, 1274, 1273], [1234, 1235, 1275, 1274], [1235, 1236, 1276, 1275], [1236, 1237, 1277, 1276], [1237, 1238, 1278, 1277], [1238, 1239, 1279, 1278], [1241, 1240, 1280, 1281], [1240, 1242, 1282, 1280], [1242, 1243, 1283, 1282], [1243, 1244, 1284, 1283], [1244, 1245, 1285, 1284], [1245, 1246, 1286, 1285], [1246, 1247, 1287, 1286], [1247, 1248, 1288, 1287], [1248, 1249, 1289, 1288], [1249, 1250, 1290, 1289], [1250, 1251, 1291, 1290], [1251, 1252, 1292, 1291], [1252, 1253, 1293, 1292], [1253, 1254, 1294, 1293], [1254, 1255, 1295, 1294], [1255, 1256, 1296, 1295], [1256, 1257, 1297, 1296], [1257, 1258, 1298, 1297], [1258, 1259, 1299, 1298], [1259, 1260, 1300, 1299], [1260, 1261, 1301, 1300], [1261, 1262, 1302, 1301], [1262, 1263, 1303, 1302], [1263, 1264, 1304, 1303], [1264, 1265, 1305, 1304], [1265, 1266, 1306, 1305], [1266, 1267, 1307, 1306], [1267, 1268, 1308, 1307], [1268, 1269, 1309, 1308], [1269, 1270, 1310, 1309], [1270, 1271, 1311, 1310], [1271, 1272, 1312, 1311], [1272, 1273, 1313, 1312], [1273, 1274, 1314, 1313], [1274, 1275, 1315, 1314], [1275, 1276, 1316, 1315], [1276, 1277, 1317, 1316], [1277, 1278, 1318, 1317], [1278, 1279, 1319, 1318], [1281, 1280, 1320, 1321], [1280, 1282, 1322, 1320], [1282, 1283, 1323, 1322], [1283, 1284, 1324, 1323], [1284, 1285, 1325, 1324], [1285, 1286, 1326, 1325], [1286, 1287, 1327, 1326], [1287, 1288, 1328, 1327], [1288, 1289, 1329, 1328], [1289, 1290, 1330, 1329], [1290, 1291, 1331, 1330], [1291, 1292, 1332, 1331], [1292, 1293, 1333, 1332], [1293, 1294, 1334, 1333], [1294, 1295, 1335, 1334], [1295, 1296, 1336, 1335], [1296, 1297, 1337, 1336], [1297, 1298, 1338, 1337], [1298, 1299, 1339, 1338], [1299, 1300, 1340, 1339], [1300, 1301, 1341, 1340], [1301, 1302, 1342, 1341], [1302, 1303, 1343, 1342], [1303, 1304, 1344, 1343], [1304, 1305, 1345, 1344], [1305, 1306, 1346, 1345], [1306, 1307, 1347, 1346], [1307, 1308, 1348, 1347], [1308, 1309, 1349, 1348], [1309, 1310, 1350, 1349], [1310, 1311, 1351, 1350], [1311, 1312, 1352, 1351], [1312, 1313, 1353, 1352], [1313, 1314, 1354, 1353], [1314, 1315, 1355, 1354], [1315, 1316, 1356, 1355], [1316, 1317, 1357, 1356], [1317, 1318, 1358, 1357], [1318, 1319, 1359, 1358], [1321, 1320, 1360, 1361], [1320, 1322, 1362, 1360], [1322, 1323, 1363, 1362], [1323, 1324, 1364, 1363], [1324, 1325, 1365, 1364], [1325, 1326, 1366, 1365], [1326, 1327, 1367, 1366], [1327, 1328, 1368, 1367], [1328, 1329, 1369, 1368], [1329, 1330, 1370, 1369], [1330, 1331, 1371, 1370], [1331, 1332, 1372, 1371], [1332, 1333, 1373, 1372], [1333, 1334, 1374, 1373], [1334, 1335, 1375, 1374], [1335, 1336, 1376, 1375], [1336, 1337, 1377, 1376], [1337, 1338, 1378, 1377], [1338, 1339, 1379, 1378], [1339, 1340, 1380, 1379], [1340, 1341, 1381, 1380], [1341, 1342, 1382, 1381], [1342, 1343, 1383, 1382], [1343, 1344, 1384, 1383], [1344, 1345, 1385, 1384], [1345, 1346, 1386, 1385], [1346, 1347, 1387, 1386], [1347, 1348, 1388, 1387], [1348, 1349, 1389, 1388], [1349, 1350, 1390, 1389], [1350, 1351, 1391, 1390], [1351, 1352, 1392, 1391], [1352, 1353, 1393, 1392], [1353, 1354, 1394, 1393], [1354, 1355, 1395, 1394], [1355, 1356, 1396, 1395], [1356, 1357, 1397, 1396], [1357, 1358, 1398, 1397], [1358, 1359, 1399, 1398], [1361, 1360, 1400, 1401], [1360, 1362, 1402, 1400], [1362, 1363, 1403, 1402], [1363, 1364, 1404, 1403], [1364, 1365, 1405, 1404], [1365, 1366, 1406, 1405], [1366, 1367, 1407, 1406], [1367, 1368, 1408, 1407], [1368, 1369, 1409, 1408], [1369, 1370, 1410, 1409], [1370, 1371, 1411, 1410], [1371, 1372, 1412, 1411], [1372, 1373, 1413, 1412], [1373, 1374, 1414, 1413], [1374, 1375, 1415, 1414], [1375, 1376, 1416, 1415], [1376, 1377, 1417, 1416], [1377, 1378, 1418, 1417], [1378, 1379, 1419, 1418], [1379, 1380, 1420, 1419], [1380, 1381, 1421, 1420], [1381, 1382, 1422, 1421], [1382, 1383, 1423, 1422], [1383, 1384, 1424, 1423], [1384, 1385, 1425, 1424], [1385, 1386, 1426, 1425], [1386, 1387, 1427, 1426], [1387, 1388, 1428, 1427], [1388, 1389, 1429, 1428], [1389, 1390, 1430, 1429], [1390, 1391, 1431, 1430], [1391, 1392, 1432, 1431], [1392, 1393, 1433, 1432], [1393, 1394, 1434, 1433], [1394, 1395, 1435, 1434], [1395, 1396, 1436, 1435], [1396, 1397, 1437, 1436], [1397, 1398, 1438, 1437], [1398, 1399, 1439, 1438], [1401, 1400, 1440, 1441], [1400, 1402, 1442, 1440], [1402, 1403, 1443, 1442], [1403, 1404, 1444, 1443], [1404, 1405, 1445, 1444], [1405, 1406, 1446, 1445], [1406, 1407, 1447, 1446], [1407, 1408, 1448, 1447], [1408, 1409, 1449, 1448], [1409, 1410, 1450, 1449], [1410, 1411, 1451, 1450], [1411, 1412, 1452, 1451], [1412, 1413, 1453, 1452], [1413, 1414, 1454, 1453], [1414, 1415, 1455, 1454], [1415, 1416, 1456, 1455], [1416, 1417, 1457, 1456], [1417, 1418, 1458, 1457], [1418, 1419, 1459, 1458], [1419, 1420, 1460, 1459], [1420, 1421, 1461, 1460], [1421, 1422, 1462, 1461], [1422, 1423, 1463, 1462], [1423, 1424, 1464, 1463], [1424, 1425, 1465, 1464], [1425, 1426, 1466, 1465], [1426, 1427, 1467, 1466], [1427, 1428, 1468, 1467], [1428, 1429, 1469, 1468], [1429, 1430, 1470, 1469], [1430, 1431, 1471, 1470], [1431, 1432, 1472, 1471], [1432, 1433, 1473, 1472], [1433, 1434, 1474, 1473], [1434, 1435, 1475, 1474], [1435, 1436, 1476, 1475], [1436, 1437, 1477, 1476], [1437, 1438, 1478, 1477], [1438, 1439, 1479, 1478], [1441, 1440, 1480, 1481], [1440, 1442, 1482, 1480], [1442, 1443, 1483, 1482], [1443, 1444, 1484, 1483], [1444, 1445, 1485, 1484], [1445, 1446, 1486, 1485], [1446, 1447, 1487, 1486], [1447, 1448, 1488, 1487], [1448, 1449, 1489, 1488], [1449, 1450, 1490, 1489], [1450, 1451, 1491, 1490], [1451, 1452, 1492, 1491], [1452, 1453, 1493, 1492], [1453, 1454, 1494, 1493], [1454, 1455, 1495, 1494], [1455, 1456, 1496, 1495], [1456, 1457, 1497, 1496], [1457, 1458, 1498, 1497], [1458, 1459, 1499, 1498], [1459, 1460, 1500, 1499], [1460, 1461, 1501, 1500], [1461, 1462, 1502, 1501], [1462, 1463, 1503, 1502], [1463, 1464, 1504, 1503], [1464, 1465, 1505, 1504], [1465, 1466, 1506, 1505], [1466, 1467, 1507, 1506], [1467, 1468, 1508, 1507], [1468, 1469, 1509, 1508], [1469, 1470, 1510, 1509], [1470, 1471, 1511, 1510], [1471, 1472, 1512, 1511], [1472, 1473, 1513, 1512], [1473, 1474, 1514, 1513], [1474, 1475, 1515, 1514], [1475, 1476, 1516, 1515], [1476, 1477, 1517, 1516], [1477, 1478, 1518, 1517], [1478, 1479, 1519, 1518], [1481, 1480, 1520, 1521], [1480, 1482, 1522, 1520], [1482, 1483, 1523, 1522], [1483, 1484, 1524, 1523], [1484, 1485, 1525, 1524], [1485, 1486, 1526, 1525], [1486, 1487, 1527, 1526], [1487, 1488, 1528, 1527], [1488, 1489, 1529, 1528], [1489, 1490, 1530, 1529], [1490, 1491, 1531, 1530], [1491, 1492, 1532, 1531], [1492, 1493, 1533, 1532], [1493, 1494, 1534, 1533], [1494, 1495, 1535, 1534], [1495, 1496, 1536, 1535], [1496, 1497, 1537, 1536], [1497, 1498, 1538, 1537], [1498, 1499, 1539, 1538], [1499, 1500, 1540, 1539], [1500, 1501, 1541, 1540], [1501, 1502, 1542, 1541], [1502, 1503, 1543, 1542], [1503, 1504, 1544, 1543], [1504, 1505, 1545, 1544], [1505, 1506, 1546, 1545], [1506, 1507, 1547, 1546], [1507, 1508, 1548, 1547], [1508, 1509, 1549, 1548], [1509, 1510, 1550, 1549], [1510, 1511, 1551, 1550], [1511, 1512, 1552, 1551], [1512, 1513, 1553, 1552], [1513, 1514, 1554, 1553], [1514, 1515, 1555, 1554], [1515, 1516, 1556, 1555], [1516, 1517, 1557, 1556], [1517, 1518, 1558, 1557], [1518, 1519, 1559, 1558], [1521, 1520, 1560, 1561], [1520, 1522, 1562, 1560], [1522, 1523, 1563, 1562], [1523, 1524, 1564, 1563], [1524, 1525, 1565, 1564], [1525, 1526, 1566, 1565], [1526, 1527, 1567, 1566], [1527, 1528, 1568, 1567], [1528, 1529, 1569, 1568], [1529, 1530, 1570, 1569], [1530, 1531, 1571, 1570], [1531, 1532, 1572, 1571], [1532, 1533, 1573, 1572], [1533, 1534, 1574, 1573], [1534, 1535, 1575, 1574], [1535, 1536, 1576, 1575], [1536, 1537, 1577, 1576], [1537, 1538, 1578, 1577], [1538, 1539, 1579, 1578], [1539, 1540, 1580, 1579], [1540, 1541, 1581, 1580], [1541, 1542, 1582, 1581], [1542, 1543, 1583, 1582], [1543, 1544, 1584, 1583], [1544, 1545, 1585, 1584], [1545, 1546, 1586, 1585], [1546, 1547, 1587, 1586], [1547, 1548, 1588, 1587], [1548, 1549, 1589, 1588], [1549, 1550, 1590, 1589], [1550, 1551, 1591, 1590], [1551, 1552, 1592, 1591], [1552, 1553, 1593, 1592], [1553, 1554, 1594, 1593], [1554, 1555, 1595, 1594], [1555, 1556, 1596, 1595], [1556, 1557, 1597, 1596], [1557, 1558, 1598, 1597], [1558, 1559, 1599, 1598]], &quot;color&quot;: &quot;#6666ff&quot;, &quot;opacity&quot;: 1.0}];\n",
       "    for ( var i=0 ; i < surfaces.length ; i++ ) addSurface( surfaces[i] );\n",
       "\n",
       "    function addSurface( json ) {\n",
       "\n",
       "        var useFaceColors = 'faceColors' in json ? true : false;\n",
       "\n",
       "        var geometry = new THREE.Geometry();\n",
       "        for ( var i=0 ; i < json.vertices.length ; i++ ) {\n",
       "            var v = json.vertices[i];\n",
       "            geometry.vertices.push( new THREE.Vector3( a[0]*v.x, a[1]*v.y, a[2]*v.z ) );\n",
       "        }\n",
       "        for ( var i=0 ; i < json.faces.length ; i++ ) {\n",
       "            var f = json.faces[i];\n",
       "            for ( var j=0 ; j < f.length - 2 ; j++ ) {\n",
       "                var face = new THREE.Face3( f[0], f[j+1], f[j+2] );\n",
       "                if ( useFaceColors ) face.color.set( json.faceColors[i] );\n",
       "                geometry.faces.push( face );\n",
       "            }\n",
       "        }\n",
       "        geometry.computeVertexNormals();\n",
       "\n",
       "        var side = json.singleSide ? THREE.FrontSide : THREE.DoubleSide;\n",
       "        var transparent = json.opacity < 1 ? true : false;\n",
       "        var depthWrite = 'depthWrite' in json ? json.depthWrite : !transparent;\n",
       "        var flatShading = json.useFlatShading ? json.useFlatShading : false;\n",
       "\n",
       "        var material = new THREE.MeshPhongMaterial( { side: side,\n",
       "                                     color: useFaceColors ? 'white' : json.color,\n",
       "                                     vertexColors: useFaceColors ? THREE.FaceColors : THREE.NoColors,\n",
       "                                     transparent: transparent, opacity: json.opacity,\n",
       "                                     shininess: 20, flatShading: flatShading,\n",
       "                                     depthWrite: depthWrite } );\n",
       "\n",
       "        var c = new THREE.Vector3();\n",
       "        geometry.computeBoundingBox();\n",
       "        geometry.boundingBox.getCenter( c );\n",
       "        geometry.translate( -c.x, -c.y, -c.z );\n",
       "\n",
       "        var mesh = new THREE.Mesh( geometry, material );\n",
       "        mesh.position.set( c.x, c.y, c.z );\n",
       "        if ( transparent && json.renderOrder ) mesh.renderOrder = json.renderOrder;\n",
       "        mesh.userData = json;\n",
       "        scene.add( mesh );\n",
       "\n",
       "        if ( json.showMeshGrid ) addSurfaceMeshGrid( json );\n",
       "\n",
       "    }\n",
       "\n",
       "    function addSurfaceMeshGrid( json ) {\n",
       "\n",
       "        var geometry = new THREE.Geometry();\n",
       "\n",
       "        for ( var i=0 ; i < json.faces.length ; i++ ) {\n",
       "            var f = json.faces[i];\n",
       "            for ( var j=0 ; j < f.length ; j++ ) {\n",
       "                var k = j === f.length-1 ? 0 : j+1;\n",
       "                var v1 = json.vertices[f[j]];\n",
       "                var v2 = json.vertices[f[k]];\n",
       "                // vertices in opposite directions on neighboring faces\n",
       "                var nudge = f[j] < f[k] ? .0005*zRange : -.0005*zRange;\n",
       "                geometry.vertices.push( new THREE.Vector3( a[0]*v1.x, a[1]*v1.y, a[2]*(v1.z+nudge) ) );\n",
       "                geometry.vertices.push( new THREE.Vector3( a[0]*v2.x, a[1]*v2.y, a[2]*(v2.z+nudge) ) );\n",
       "            }\n",
       "        }\n",
       "\n",
       "        var c = new THREE.Vector3();\n",
       "        geometry.computeBoundingBox();\n",
       "        geometry.boundingBox.getCenter( c );\n",
       "        geometry.translate( -c.x, -c.y, -c.z );\n",
       "\n",
       "        var gridColor = options.theme === 'dark' ? 'white' : 'black';\n",
       "        var linewidth = json.linewidth || 1;\n",
       "        var materialOptions = { color: gridColor, linewidth: linewidth };\n",
       "\n",
       "        var mesh;\n",
       "        if ( linewidth > 1 && window.createFatLineSegments ) {\n",
       "            mesh = createFatLineSegments( geometry, materialOptions );\n",
       "        } else {\n",
       "            var material = new THREE.LineBasicMaterial( materialOptions );\n",
       "            mesh = new THREE.LineSegments( geometry, material );\n",
       "        }\n",
       "\n",
       "        mesh.position.set( c.x, c.y, c.z );\n",
       "        mesh.userData = json;\n",
       "        scene.add( mesh );\n",
       "\n",
       "    }\n",
       "\n",
       "    function render() {\n",
       "\n",
       "        if ( window.updateAnimation ) animate = updateAnimation();\n",
       "        if ( animate ) requestAnimationFrame( render );\n",
       "\n",
       "        renderer.render( scene, camera );\n",
       "\n",
       "    }\n",
       "\n",
       "    render();\n",
       "    controls.update();\n",
       "    if ( !animate ) render();\n",
       "\n",
       "\n",
       "    // menu functions\n",
       "\n",
       "    function toggleMenu() {\n",
       "\n",
       "        var m = document.getElementById( 'menu-content' );\n",
       "        if ( m.style.display === 'block' ) m.style.display = 'none'\n",
       "        else m.style.display = 'block';\n",
       "\n",
       "    }\n",
       "\n",
       "\n",
       "    function saveAsPNG() {\n",
       "\n",
       "        var a = document.body.appendChild( document.createElement( 'a' ) );\n",
       "        a.href = renderer.domElement.toDataURL( 'image/png' );\n",
       "        a.download = 'screenshot';\n",
       "        a.click();\n",
       "\n",
       "    }\n",
       "\n",
       "    function saveAsHTML() {\n",
       "\n",
       "        toggleMenu(); // otherwise visible in output\n",
       "        event.stopPropagation();\n",
       "\n",
       "        var blob = new Blob( [ '<!DOCTYPE html>\\n' + document.documentElement.outerHTML ] );\n",
       "        var a = document.body.appendChild( document.createElement( 'a' ) );\n",
       "        a.href = window.URL.createObjectURL( blob );\n",
       "        a.download = suggestFilename();\n",
       "        a.click();\n",
       "\n",
       "        function suggestFilename() {\n",
       "            if ( !document.title ) {\n",
       "                return 'graphic.html';\n",
       "            } else if ( /\\.html?$/i.test( document.title ) ) {\n",
       "                return document.title; // already ends in .htm or .html\n",
       "            } else {\n",
       "                return document.title + '.html';\n",
       "            }\n",
       "        }\n",
       "\n",
       "    }\n",
       "\n",
       "    function getViewpoint() {\n",
       "\n",
       "        function roundTo( x, n ) { return +x.toFixed(n); }\n",
       "\n",
       "        var v = camera.quaternion.inverse();\n",
       "        var r = Math.sqrt( v.x*v.x + v.y*v.y + v.z*v.z );\n",
       "        var axis = [ roundTo( v.x / r, 4 ), roundTo( v.y / r, 4 ), roundTo( v.z / r, 4 ) ];\n",
       "        var angle = roundTo( 2 * Math.atan2( r, v.w ) * 180 / Math.PI, 2 );\n",
       "\n",
       "        var textArea = document.createElement( 'textarea' );\n",
       "        textArea.textContent = JSON.stringify( axis ) + ',' + angle;\n",
       "        textArea.style.csstext = 'position: absolute; top: -100%';\n",
       "        document.body.append( textArea );\n",
       "        textArea.select();\n",
       "        document.execCommand( 'copy' );\n",
       "\n",
       "        var m = document.getElementById( 'menu-message' );\n",
       "        m.innerHTML = 'Viewpoint copied to clipboard';\n",
       "        m.style.display = 'block';\n",
       "        setTimeout( function() { m.style.display = 'none'; }, 2000 );\n",
       "\n",
       "    }\n",
       "\n",
       "    function getCamera() {\n",
       "\n",
       "        function roundTo( x, n ) { return +x.toFixed(n); }\n",
       "\n",
       "        var pos = camera.position;\n",
       "        var pos_r = [ roundTo( pos.x, 4 ), roundTo( pos.y, 4 ), roundTo( pos.z, 4 ) ];\n",
       "   //     var up = camera.up; // up is always (0,0,1)\n",
       "        var textArea = document.createElement('textarea');\n",
       "        var cam_position = JSON.stringify(pos_r);\n",
       "        textArea.textContent = ',camera_position=' + cam_position;\n",
       "        textArea.style.csstext = 'position: absolute; top: -100%';\n",
       "        document.body.append( textArea );\n",
       "        textArea.select();\n",
       "        document.execCommand( 'copy' );\n",
       "\n",
       "        var m = document.getElementById( 'menu-message' );\n",
       "        m.innerHTML = 'Camera position '+ cam_position+' copied to clipboard';\n",
       "        m.style.display = 'block';\n",
       "        setTimeout( function() { m.style.display = 'none'; }, 2000 );\n",
       "\n",
       "    }\n",
       "                                       \n",
       "</script>\n",
       "\n",
       "<div id=&quot;menu-container&quot; onclick=&quot;toggleMenu()&quot;>&#x24d8;\n",
       "<div id=&quot;menu-message&quot;></div>\n",
       "<div id=&quot;menu-content&quot;>\n",
       "<div onclick=&quot;saveAsPNG()&quot;>Save as PNG</div>\n",
       "<div onclick=&quot;saveAsHTML()&quot;>Save as HTML</div>\n",
       "<div onclick=&quot;getCamera()&quot;>Get camera</div>\n",
       "<div onclick=&quot;getViewpoint()&quot;>Get viewpoint</div>\n",
       "<div>Close Menu</div>\n",
       "</div></div>\n",
       "\n",
       "\n",
       "</body>\n",
       "</html>\n",
       "\"\n",
       "        width=\"100%\"\n",
       "        height=\"400\"\n",
       "        style=\"border: 0;\">\n",
       "</iframe>\n"
      ],
      "text/plain": [
       "Graphics3d Object"
      ]
     },
     "execution_count": 41,
     "metadata": {},
     "output_type": "execute_result"
    }
   ],
   "source": [
    "K1 = Kr.expr().subs(m=1, a=0.9)\n",
    "plot3d(K1, (r, 1, 3), (th, 0, pi), axes_labels=['r', 'theta', 'Kr'])"
   ]
  },
  {
   "cell_type": "code",
   "execution_count": 42,
   "metadata": {},
   "outputs": [
    {
     "name": "stdout",
     "output_type": "stream",
     "text": [
      "Total elapsed time: 449.14473272299983 s\n"
     ]
    }
   ],
   "source": [
    "print(\"Total elapsed time: {} s\".format(time.perf_counter() - comput_time0))"
   ]
  }
 ],
 "metadata": {
  "@webio": {
   "lastCommId": "c26125fbd7594622b3285c655f009eaa",
   "lastKernelId": "ce426ea5-d79f-4931-aa8c-ac4a5fd69b41"
  },
  "kernelspec": {
   "display_name": "SageMath 9.4",
   "language": "sage",
   "name": "sagemath-9.4"
  },
  "language": "python",
  "language_info": {
   "codemirror_mode": {
    "name": "ipython",
    "version": 3
   },
   "file_extension": ".py",
   "mimetype": "text/x-python",
   "name": "python",
   "nbconvert_exporter": "python",
   "pygments_lexer": "ipython3",
   "version": "3.9.5"
  }
 },
 "nbformat": 4,
 "nbformat_minor": 1
}
