{
 "cells": [
  {
   "cell_type": "markdown",
   "id": "ff445095",
   "metadata": {},
   "source": [
    "# Evolution of Szekeres's Cosmological Models by Bonner and Tomimura\n",
    "##  Geoff Cope\n",
    "##  Univeristy of Utah\n",
    "##  January 5th, 2022"
   ]
  },
  {
   "cell_type": "markdown",
   "id": "334fee2e",
   "metadata": {},
   "source": [
    "https://adsabs.harvard.edu/full/1976MNRAS.175...85B"
   ]
  },
  {
   "cell_type": "code",
   "execution_count": 1,
   "id": "74a409af",
   "metadata": {},
   "outputs": [
    {
     "name": "stdout",
     "output_type": "stream",
     "text": [
      "IPython console for SymPy 1.9 (Python 3.8.8-64-bit) (ground types: gmpy)\n",
      "\n",
      "These commands were executed:\n",
      ">>> from __future__ import division\n",
      ">>> from sympy import *\n",
      ">>> x, y, z, t = symbols('x y z t')\n",
      ">>> k, m, n = symbols('k m n', integer=True)\n",
      ">>> f, g, h = symbols('f g h', cls=Function)\n",
      ">>> init_printing()\n",
      "\n",
      "Documentation can be found at https://docs.sympy.org/1.9/\n",
      "\n"
     ]
    }
   ],
   "source": [
    "from sympy import init_session\n",
    "init_session(use_latex=True)"
   ]
  },
  {
   "cell_type": "code",
   "execution_count": 2,
   "id": "26d20066",
   "metadata": {},
   "outputs": [],
   "source": [
    "import warnings\n",
    "import matplotlib.cbook\n",
    "warnings.filterwarnings(\"ignore\",category=matplotlib.cbook.mplDeprecation)"
   ]
  },
  {
   "cell_type": "code",
   "execution_count": 3,
   "id": "b6c75ad0",
   "metadata": {},
   "outputs": [],
   "source": [
    "t,x,y,z,dt,dx,dy,dz = symbols('t x y z dt dx dy dz')"
   ]
  },
  {
   "cell_type": "code",
   "execution_count": 4,
   "id": "79e6149e",
   "metadata": {},
   "outputs": [
    {
     "data": {
      "image/png": "[encoded data removed]",
      "text/latex": [
       "$\\displaystyle Q{\\left(t,x,y,z \\right)}$"
      ],
      "text/plain": [
       "Q(t, x, y, z)"
      ]
     },
     "execution_count": 4,
     "metadata": {},
     "output_type": "execute_result"
    }
   ],
   "source": [
    "Q = Function('Q')(t,x,y,z)\n",
    "Q"
   ]
  },
  {
   "cell_type": "code",
   "execution_count": 5,
   "id": "61f2f4b2",
   "metadata": {},
   "outputs": [
    {
     "data": {
      "image/png": "[encoded data removed]",
      "text/latex": [
       "$\\displaystyle A{\\left(x,y,z \\right)}$"
      ],
      "text/plain": [
       "A(x, y, z)"
      ]
     },
     "execution_count": 5,
     "metadata": {},
     "output_type": "execute_result"
    }
   ],
   "source": [
    "A = Function('A')(x,y,z)\n",
    "A"
   ]
  },
  {
   "cell_type": "code",
   "execution_count": 6,
   "id": "4b47b434",
   "metadata": {},
   "outputs": [
    {
     "data": {
      "image/png": "[encoded data removed]",
      "text/latex": [
       "$\\displaystyle R{\\left(t \\right)}$"
      ],
      "text/plain": [
       "R(t)"
      ]
     },
     "execution_count": 6,
     "metadata": {},
     "output_type": "execute_result"
    }
   ],
   "source": [
    "R = Function('R')(t)\n",
    "R"
   ]
  },
  {
   "cell_type": "code",
   "execution_count": 7,
   "id": "3bd70761",
   "metadata": {},
   "outputs": [
    {
     "data": {
      "image/png": "[encoded data removed]",
      "text/latex": [
       "$\\displaystyle T{\\left(x,t \\right)}$"
      ],
      "text/plain": [
       "T(x, t)"
      ]
     },
     "execution_count": 7,
     "metadata": {},
     "output_type": "execute_result"
    }
   ],
   "source": [
    "T = Function('T')(x,t)\n",
    "T"
   ]
  },
  {
   "cell_type": "code",
   "execution_count": 8,
   "id": "3eefca2e",
   "metadata": {},
   "outputs": [
    {
     "data": {
      "image/png": "[encoded data removed]",
      "text/latex": [
       "$\\displaystyle h{\\left(y \\right)}$"
      ],
      "text/plain": [
       "h(y)"
      ]
     },
     "execution_count": 8,
     "metadata": {},
     "output_type": "execute_result"
    }
   ],
   "source": [
    "h = Function('h')(y)\n",
    "h"
   ]
  },
  {
   "cell_type": "code",
   "execution_count": 10,
   "id": "b88c8846",
   "metadata": {},
   "outputs": [
    {
     "data": {
      "image/png": "[encoded data removed]",
      "text/latex": [
       "$\\displaystyle Q{\\left(t,x,y,z \\right)} = A{\\left(x,y,z \\right)} R{\\left(t \\right)} + T{\\left(x,t \\right)}$"
      ],
      "text/plain": [
       "Q(t, x, y, z) = A(x, y, z)⋅R(t) + T(x, t)"
      ]
     },
     "execution_count": 10,
     "metadata": {},
     "output_type": "execute_result"
    }
   ],
   "source": [
    "equation2pt2a = Eq(Q,A*R+T)\n",
    "equation2pt2a"
   ]
  },
  {
   "cell_type": "code",
   "execution_count": 11,
   "id": "1983f9a5",
   "metadata": {},
   "outputs": [
    {
     "data": {
      "text/latex": [
       "$\\displaystyle \\left[\\begin{matrix}t\\\\x\\\\y\\\\z\\end{matrix}\\right]$"
      ],
      "text/plain": [
       "⎡t⎤\n",
       "⎢ ⎥\n",
       "⎢x⎥\n",
       "⎢ ⎥\n",
       "⎢y⎥\n",
       "⎢ ⎥\n",
       "⎣z⎦"
      ]
     },
     "execution_count": 11,
     "metadata": {},
     "output_type": "execute_result"
    }
   ],
   "source": [
    "variables = Matrix( [t,x,y,z] )\n",
    "variables"
   ]
  },
  {
   "cell_type": "code",
   "execution_count": 13,
   "id": "56fef654",
   "metadata": {},
   "outputs": [
    {
     "data": {
      "text/latex": [
       "$\\displaystyle \\left[\\begin{matrix}dt\\\\dx\\\\dy\\\\dz\\end{matrix}\\right]$"
      ],
      "text/plain": [
       "⎡dt⎤\n",
       "⎢  ⎥\n",
       "⎢dx⎥\n",
       "⎢  ⎥\n",
       "⎢dy⎥\n",
       "⎢  ⎥\n",
       "⎣dz⎦"
      ]
     },
     "execution_count": 13,
     "metadata": {},
     "output_type": "execute_result"
    }
   ],
   "source": [
    "differentials = Matrix( [dt,dx,dy,dz] ) \n",
    "differentials"
   ]
  },
  {
   "cell_type": "code",
   "execution_count": 14,
   "id": "efbddccc",
   "metadata": {},
   "outputs": [
    {
     "data": {
      "image/png": "[encoded data removed]",
      "text/latex": [
       "$\\displaystyle dt^{2} - dx^{2} Q^{2}{\\left(t,x,y,z \\right)} - dy^{2} R^{2}{\\left(t \\right)} - dz^{2} R^{2}{\\left(t \\right)} h^{2}{\\left(y \\right)}$"
      ],
      "text/plain": [
       "  2     2  2                 2  2        2  2     2   \n",
       "dt  - dx ⋅Q (t, x, y, z) - dy ⋅R (t) - dz ⋅R (t)⋅h (y)"
      ]
     },
     "execution_count": 14,
     "metadata": {},
     "output_type": "execute_result"
    }
   ],
   "source": [
    "lineElement = expand( -Q**2 * dx**2 - R**2 * (dy**2 + h**2 * dz**2 ) + dt**2 ) \n",
    "lineElement"
   ]
  },
  {
   "cell_type": "code",
   "execution_count": 17,
   "id": "d938fa89",
   "metadata": {},
   "outputs": [
    {
     "data": {
      "image/png": "[encoded data removed]",
      "text/latex": [
       "$\\displaystyle dt^{2} - dx^{2} \\left(A{\\left(x,y,z \\right)} R{\\left(t \\right)} + T{\\left(x,t \\right)}\\right)^{2} - dy^{2} R^{2}{\\left(t \\right)} - dz^{2} R^{2}{\\left(t \\right)} h^{2}{\\left(y \\right)}$"
      ],
      "text/plain": [
       "  2     2                            2     2  2        2  2     2   \n",
       "dt  - dx ⋅(A(x, y, z)⋅R(t) + T(x, t))  - dy ⋅R (t) - dz ⋅R (t)⋅h (y)"
      ]
     },
     "execution_count": 17,
     "metadata": {},
     "output_type": "execute_result"
    }
   ],
   "source": [
    "lineElement.subs( equation2pt2a.args[0],equation2pt2a.args[1] ) "
   ]
  },
  {
   "cell_type": "code",
   "execution_count": 18,
   "id": "a4f94076",
   "metadata": {},
   "outputs": [
    {
     "data": {
      "image/png": "[encoded data removed]",
      "text/latex": [
       "$\\displaystyle dt^{2} - dx^{2} A^{2}{\\left(x,y,z \\right)} R^{2}{\\left(t \\right)} - 2 dx^{2} A{\\left(x,y,z \\right)} R{\\left(t \\right)} T{\\left(x,t \\right)} - dx^{2} T^{2}{\\left(x,t \\right)} - dy^{2} R^{2}{\\left(t \\right)} - dz^{2} R^{2}{\\left(t \\right)} h^{2}{\\left(y \\right)}$"
      ],
      "text/plain": [
       "  2     2  2           2          2                             2  2           2  2        2\n",
       "dt  - dx ⋅A (x, y, z)⋅R (t) - 2⋅dx ⋅A(x, y, z)⋅R(t)⋅T(x, t) - dx ⋅T (x, t) - dy ⋅R (t) - dz \n",
       "\n",
       "  2     2   \n",
       "⋅R (t)⋅h (y)"
      ]
     },
     "execution_count": 18,
     "metadata": {},
     "output_type": "execute_result"
    }
   ],
   "source": [
    "expand( lineElement.subs( equation2pt2a.args[0],equation2pt2a.args[1] ) ) "
   ]
  },
  {
   "cell_type": "code",
   "execution_count": 19,
   "id": "e37f2558",
   "metadata": {},
   "outputs": [
    {
     "data": {
      "text/latex": [
       "$\\displaystyle \\left[\\begin{matrix}1 & 0 & 0 & 0\\\\0 & - Q^{2}{\\left(t,x,y,z \\right)} & 0 & 0\\\\0 & 0 & - R^{2}{\\left(t \\right)} & 0\\\\0 & 0 & 0 & - R^{2}{\\left(t \\right)} h^{2}{\\left(y \\right)}\\end{matrix}\\right]$"
      ],
      "text/plain": [
       "⎡1         0           0          0      ⎤\n",
       "⎢                                        ⎥\n",
       "⎢     2                                  ⎥\n",
       "⎢0  -Q (t, x, y, z)    0          0      ⎥\n",
       "⎢                                        ⎥\n",
       "⎢                      2                 ⎥\n",
       "⎢0         0         -R (t)       0      ⎥\n",
       "⎢                                        ⎥\n",
       "⎢                              2     2   ⎥\n",
       "⎣0         0           0     -R (t)⋅h (y)⎦"
      ]
     },
     "execution_count": 19,
     "metadata": {},
     "output_type": "execute_result"
    }
   ],
   "source": [
    "g = zeros(4)\n",
    "\n",
    "for i in range(4):\n",
    "    for j in range(4):\n",
    "        if i == j:\n",
    "            g[i,j] = lineElement.coeff( differentials[i],2 ) \n",
    "        else:\n",
    "            g[i,j] = Rational(1,2)*lineElement.coeff( differentials[i]*differentials[j],1 )\n",
    "            \n",
    "g"
   ]
  },
  {
   "cell_type": "code",
   "execution_count": 26,
   "id": "442842e1",
   "metadata": {},
   "outputs": [],
   "source": [
    "import sympy"
   ]
  },
  {
   "cell_type": "code",
   "execution_count": 30,
   "id": "561ad7f5",
   "metadata": {},
   "outputs": [
    {
     "data": {
      "text/latex": [
       "$\\displaystyle \\left[\\begin{matrix}1 & 0 & 0 & 0\\\\0 & - Q^{2}{\\left(t,x,y,z \\right)} & 0 & 0\\\\0 & 0 & - R^{2}{\\left(t \\right)} & 0\\\\0 & 0 & 0 & - R^{2}{\\left(t \\right)} h^{2}{\\left(y \\right)}\\end{matrix}\\right]$"
      ],
      "text/plain": [
       "⎡1         0           0          0      ⎤\n",
       "⎢                                        ⎥\n",
       "⎢     2                                  ⎥\n",
       "⎢0  -Q (t, x, y, z)    0          0      ⎥\n",
       "⎢                                        ⎥\n",
       "⎢                      2                 ⎥\n",
       "⎢0         0         -R (t)       0      ⎥\n",
       "⎢                                        ⎥\n",
       "⎢                              2     2   ⎥\n",
       "⎣0         0           0     -R (t)⋅h (y)⎦"
      ]
     },
     "execution_count": 30,
     "metadata": {},
     "output_type": "execute_result"
    }
   ],
   "source": [
    "m = sympy.Array(g)\n",
    "m"
   ]
  },
  {
   "cell_type": "code",
   "execution_count": 31,
   "id": "957e8255",
   "metadata": {},
   "outputs": [],
   "source": [
    "from einsteinpy.symbolic import *"
   ]
  },
  {
   "cell_type": "code",
   "execution_count": 32,
   "id": "495701fc",
   "metadata": {},
   "outputs": [],
   "source": [
    "syms = sympy.symbols(\"t x y z\")\n",
    "t,x,y,z = syms"
   ]
  },
  {
   "cell_type": "code",
   "execution_count": 33,
   "id": "ad85fffd",
   "metadata": {},
   "outputs": [],
   "source": [
    "metric = MetricTensor(m,syms)"
   ]
  },
  {
   "cell_type": "code",
   "execution_count": 34,
   "id": "cb066ebb",
   "metadata": {},
   "outputs": [
    {
     "data": {
      "text/latex": [
       "$\\displaystyle \\left[\\begin{matrix}\\left[\\begin{matrix}0 & 0 & 0 & 0\\\\0 & Q{\\left(t,x,y,z \\right)} \\frac{\\partial}{\\partial t} Q{\\left(t,x,y,z \\right)} & 0 & 0\\\\0 & 0 & R{\\left(t \\right)} \\frac{d}{d t} R{\\left(t \\right)} & 0\\\\0 & 0 & 0 & R{\\left(t \\right)} h^{2}{\\left(y \\right)} \\frac{d}{d t} R{\\left(t \\right)}\\end{matrix}\\right] & \\left[\\begin{matrix}0 & \\frac{\\frac{\\partial}{\\partial t} Q{\\left(t,x,y,z \\right)}}{Q{\\left(t,x,y,z \\right)}} & 0 & 0\\\\\\frac{\\frac{\\partial}{\\partial t} Q{\\left(t,x,y,z \\right)}}{Q{\\left(t,x,y,z \\right)}} & \\frac{\\frac{\\partial}{\\partial x} Q{\\left(t,x,y,z \\right)}}{Q{\\left(t,x,y,z \\right)}} & \\frac{\\frac{\\partial}{\\partial y} Q{\\left(t,x,y,z \\right)}}{Q{\\left(t,x,y,z \\right)}} & \\frac{\\frac{\\partial}{\\partial z} Q{\\left(t,x,y,z \\right)}}{Q{\\left(t,x,y,z \\right)}}\\\\0 & \\frac{\\frac{\\partial}{\\partial y} Q{\\left(t,x,y,z \\right)}}{Q{\\left(t,x,y,z \\right)}} & 0 & 0\\\\0 & \\frac{\\frac{\\partial}{\\partial z} Q{\\left(t,x,y,z \\right)}}{Q{\\left(t,x,y,z \\right)}} & 0 & 0\\end{matrix}\\right] & \\left[\\begin{matrix}0 & 0 & \\frac{\\frac{d}{d t} R{\\left(t \\right)}}{R{\\left(t \\right)}} & 0\\\\0 & - \\frac{Q{\\left(t,x,y,z \\right)} \\frac{\\partial}{\\partial y} Q{\\left(t,x,y,z \\right)}}{R^{2}{\\left(t \\right)}} & 0 & 0\\\\\\frac{\\frac{d}{d t} R{\\left(t \\right)}}{R{\\left(t \\right)}} & 0 & 0 & 0\\\\0 & 0 & 0 & - h{\\left(y \\right)} \\frac{d}{d y} h{\\left(y \\right)}\\end{matrix}\\right] & \\left[\\begin{matrix}0 & 0 & 0 & \\frac{\\frac{d}{d t} R{\\left(t \\right)}}{R{\\left(t \\right)}}\\\\0 & - \\frac{Q{\\left(t,x,y,z \\right)} \\frac{\\partial}{\\partial z} Q{\\left(t,x,y,z \\right)}}{R^{2}{\\left(t \\right)} h^{2}{\\left(y \\right)}} & 0 & 0\\\\0 & 0 & 0 & \\frac{\\frac{d}{d y} h{\\left(y \\right)}}{h{\\left(y \\right)}}\\\\\\frac{\\frac{d}{d t} R{\\left(t \\right)}}{R{\\left(t \\right)}} & 0 & \\frac{\\frac{d}{d y} h{\\left(y \\right)}}{h{\\left(y \\right)}} & 0\\end{matrix}\\right]\\end{matrix}\\right]$"
      ],
      "text/plain": [
       "⎡                                                                                           \n",
       "⎢                                                                          ⎡                \n",
       "⎢                                                                          ⎢                \n",
       "⎢                                                                          ⎢                \n",
       "⎢                                                                          ⎢        0       \n",
       "⎢                                                                          ⎢                \n",
       "⎢⎡0                 0                       0                 0         ⎤  ⎢                \n",
       "⎢⎢                                                                      ⎥  ⎢∂               \n",
       "⎢⎢                 ∂                                                    ⎥  ⎢──(Q(t, x, y, z)\n",
       "⎢⎢0  Q(t, x, y, z)⋅──(Q(t, x, y, z))        0                 0         ⎥  ⎢∂t              \n",
       "⎢⎢                 ∂t                                                   ⎥  ⎢────────────────\n",
       "⎢⎢                                                                      ⎥  ⎢  Q(t, x, y, z) \n",
       "⎢⎢                                         d                            ⎥  ⎢                \n",
       "⎢⎢0                 0                 R(t)⋅──(R(t))           0         ⎥  ⎢                \n",
       "⎢⎢                                         dt                           ⎥  ⎢                \n",
       "⎢⎢                                                                      ⎥  ⎢                \n",
       "⎢⎢                                                         2    d       ⎥  ⎢        0       \n",
       "⎢⎢0                 0                       0        R(t)⋅h (y)⋅──(R(t))⎥  ⎢                \n",
       "⎢⎣                                                              dt      ⎦  ⎢                \n",
       "⎢                                                                          ⎢                \n",
       "⎢                                                                          ⎢                \n",
       "⎢                                                                          ⎢                \n",
       "⎢                                                                          ⎢        0       \n",
       "⎣                                                                          ⎣                \n",
       "\n",
       "                                                                                            \n",
       "   ∂                                                      ⎤  ⎡                              \n",
       "   ──(Q(t, x, y, z))                                      ⎥  ⎢                              \n",
       "   ∂t                                                     ⎥  ⎢                              \n",
       "   ─────────────────          0                  0        ⎥  ⎢   0                      0   \n",
       "     Q(t, x, y, z)                                        ⎥  ⎢                              \n",
       "                                                          ⎥  ⎢                              \n",
       "   ∂                  ∂                  ∂                ⎥  ⎢                         ∂    \n",
       ")  ──(Q(t, x, y, z))  ──(Q(t, x, y, z))  ──(Q(t, x, y, z))⎥  ⎢          -Q(t, x, y, z)⋅──(Q(\n",
       "   ∂x                 ∂y                 ∂z               ⎥  ⎢                         ∂y   \n",
       "─  ─────────────────  ─────────────────  ─────────────────⎥  ⎢   0      ────────────────────\n",
       "     Q(t, x, y, z)      Q(t, x, y, z)      Q(t, x, y, z)  ⎥  ⎢                         2    \n",
       "                                                          ⎥  ⎢                        R (t) \n",
       "   ∂                                                      ⎥  ⎢                              \n",
       "   ──(Q(t, x, y, z))                                      ⎥  ⎢d                             \n",
       "   ∂y                                                     ⎥  ⎢──(R(t))                      \n",
       "   ─────────────────          0                  0        ⎥  ⎢dt                            \n",
       "     Q(t, x, y, z)                                        ⎥  ⎢────────                  0   \n",
       "                                                          ⎥  ⎢  R(t)                        \n",
       "   ∂                                                      ⎥  ⎢                              \n",
       "   ──(Q(t, x, y, z))                                      ⎥  ⎢                              \n",
       "   ∂z                                                     ⎥  ⎢   0                      0   \n",
       "   ─────────────────          0                  0        ⎥  ⎣                              \n",
       "     Q(t, x, y, z)                                        ⎦                                 \n",
       "\n",
       "                                          ⎡                                                 \n",
       "               d                       ⎤  ⎢                                                 \n",
       "               ──(R(t))                ⎥  ⎢                                                 \n",
       "               dt                      ⎥  ⎢   0                      0                     0\n",
       "               ────────        0       ⎥  ⎢                                                 \n",
       "                 R(t)                  ⎥  ⎢                                                 \n",
       "                                       ⎥  ⎢                         ∂                       \n",
       "                                       ⎥  ⎢          -Q(t, x, y, z)⋅──(Q(t, x, y, z))       \n",
       "t, x, y, z))                           ⎥  ⎢                         ∂z                      \n",
       "                                       ⎥  ⎢   0      ─────────────────────────────────     0\n",
       "─────────────     0            0       ⎥  ⎢                      2     2                    \n",
       "                                       ⎥  ⎢                     R (t)⋅h (y)                 \n",
       "                                       ⎥  ⎢                                                 \n",
       "                                       ⎥  ⎢                                                 \n",
       "                                       ⎥  ⎢                                                 \n",
       "                                       ⎥  ⎢                                                 \n",
       "                                       ⎥  ⎢   0                      0                     0\n",
       "                  0            0       ⎥  ⎢                                                 \n",
       "                                       ⎥  ⎢                                                 \n",
       "                                       ⎥  ⎢d                                            d   \n",
       "                               d       ⎥  ⎢──(R(t))                                     ──(h\n",
       "                  0      -h(y)⋅──(h(y))⎥  ⎢dt                                           dy  \n",
       "                               dy      ⎦  ⎢────────                  0                  ────\n",
       "                                          ⎣  R(t)                                         h(\n",
       "\n",
       "      d       ⎤⎤\n",
       "      ──(R(t))⎥⎥\n",
       "      dt      ⎥⎥\n",
       "      ────────⎥⎥\n",
       "        R(t)  ⎥⎥\n",
       "              ⎥⎥\n",
       "              ⎥⎥\n",
       "              ⎥⎥\n",
       "              ⎥⎥\n",
       "         0    ⎥⎥\n",
       "              ⎥⎥\n",
       "              ⎥⎥\n",
       "              ⎥⎥\n",
       "      d       ⎥⎥\n",
       "      ──(h(y))⎥⎥\n",
       "      dy      ⎥⎥\n",
       "      ────────⎥⎥\n",
       "        h(y)  ⎥⎥\n",
       "              ⎥⎥\n",
       "              ⎥⎥\n",
       "(y))          ⎥⎥\n",
       "              ⎥⎥\n",
       "────     0    ⎥⎥\n",
       "y)            ⎦⎦"
      ]
     },
     "execution_count": 34,
     "metadata": {},
     "output_type": "execute_result"
    }
   ],
   "source": [
    "ch = ChristoffelSymbols.from_metric(metric)\n",
    "simplify(ch.tensor())"
   ]
  },
  {
   "cell_type": "code",
   "execution_count": 35,
   "id": "5ca3b56c",
   "metadata": {},
   "outputs": [
    {
     "data": {
      "text/latex": [
       "$\\displaystyle \\left[\\begin{matrix}- \\frac{2 \\frac{d^{2}}{d t^{2}} R{\\left(t \\right)}}{R{\\left(t \\right)}} - \\frac{\\frac{\\partial^{2}}{\\partial t^{2}} Q{\\left(t,x,y,z \\right)}}{Q{\\left(t,x,y,z \\right)}} & 0 & \\frac{- R{\\left(t \\right)} \\frac{\\partial^{2}}{\\partial y\\partial t} Q{\\left(t,x,y,z \\right)} + \\frac{\\partial}{\\partial y} Q{\\left(t,x,y,z \\right)} \\frac{d}{d t} R{\\left(t \\right)}}{Q{\\left(t,x,y,z \\right)} R{\\left(t \\right)}} & \\frac{- R{\\left(t \\right)} \\frac{\\partial^{2}}{\\partial z\\partial t} Q{\\left(t,x,y,z \\right)} + \\frac{\\partial}{\\partial z} Q{\\left(t,x,y,z \\right)} \\frac{d}{d t} R{\\left(t \\right)}}{Q{\\left(t,x,y,z \\right)} R{\\left(t \\right)}}\\\\0 & \\frac{\\left(R^{2}{\\left(t \\right)} h^{2}{\\left(y \\right)} \\frac{\\partial^{2}}{\\partial t^{2}} Q{\\left(t,x,y,z \\right)} + 2 R{\\left(t \\right)} h^{2}{\\left(y \\right)} \\frac{\\partial}{\\partial t} Q{\\left(t,x,y,z \\right)} \\frac{d}{d t} R{\\left(t \\right)} - h^{2}{\\left(y \\right)} \\frac{\\partial^{2}}{\\partial y^{2}} Q{\\left(t,x,y,z \\right)} - h{\\left(y \\right)} \\frac{\\partial}{\\partial y} Q{\\left(t,x,y,z \\right)} \\frac{d}{d y} h{\\left(y \\right)} - \\frac{\\partial^{2}}{\\partial z^{2}} Q{\\left(t,x,y,z \\right)}\\right) Q{\\left(t,x,y,z \\right)}}{R^{2}{\\left(t \\right)} h^{2}{\\left(y \\right)}} & 0 & 0\\\\\\frac{- R{\\left(t \\right)} \\frac{\\partial^{2}}{\\partial y\\partial t} Q{\\left(t,x,y,z \\right)} + \\frac{\\partial}{\\partial y} Q{\\left(t,x,y,z \\right)} \\frac{d}{d t} R{\\left(t \\right)}}{Q{\\left(t,x,y,z \\right)} R{\\left(t \\right)}} & 0 & R{\\left(t \\right)} \\frac{d^{2}}{d t^{2}} R{\\left(t \\right)} + \\left(\\frac{d}{d t} R{\\left(t \\right)}\\right)^{2} - \\frac{\\frac{d^{2}}{d y^{2}} h{\\left(y \\right)}}{h{\\left(y \\right)}} + \\frac{R{\\left(t \\right)} \\frac{\\partial}{\\partial t} Q{\\left(t,x,y,z \\right)} \\frac{d}{d t} R{\\left(t \\right)}}{Q{\\left(t,x,y,z \\right)}} - \\frac{\\frac{\\partial^{2}}{\\partial y^{2}} Q{\\left(t,x,y,z \\right)}}{Q{\\left(t,x,y,z \\right)}} & \\frac{- h{\\left(y \\right)} \\frac{\\partial^{2}}{\\partial z\\partial y} Q{\\left(t,x,y,z \\right)} + \\frac{\\partial}{\\partial z} Q{\\left(t,x,y,z \\right)} \\frac{d}{d y} h{\\left(y \\right)}}{Q{\\left(t,x,y,z \\right)} h{\\left(y \\right)}}\\\\\\frac{- R{\\left(t \\right)} \\frac{\\partial^{2}}{\\partial z\\partial t} Q{\\left(t,x,y,z \\right)} + \\frac{\\partial}{\\partial z} Q{\\left(t,x,y,z \\right)} \\frac{d}{d t} R{\\left(t \\right)}}{Q{\\left(t,x,y,z \\right)} R{\\left(t \\right)}} & 0 & \\frac{- h{\\left(y \\right)} \\frac{\\partial^{2}}{\\partial z\\partial y} Q{\\left(t,x,y,z \\right)} + \\frac{\\partial}{\\partial z} Q{\\left(t,x,y,z \\right)} \\frac{d}{d y} h{\\left(y \\right)}}{Q{\\left(t,x,y,z \\right)} h{\\left(y \\right)}} & \\frac{\\left(R{\\left(t \\right)} h{\\left(y \\right)} \\frac{d^{2}}{d t^{2}} R{\\left(t \\right)} + h{\\left(y \\right)} \\left(\\frac{d}{d t} R{\\left(t \\right)}\\right)^{2} - \\frac{d^{2}}{d y^{2}} h{\\left(y \\right)}\\right) Q{\\left(t,x,y,z \\right)} h{\\left(y \\right)} + R{\\left(t \\right)} h^{2}{\\left(y \\right)} \\frac{\\partial}{\\partial t} Q{\\left(t,x,y,z \\right)} \\frac{d}{d t} R{\\left(t \\right)} - h{\\left(y \\right)} \\frac{\\partial}{\\partial y} Q{\\left(t,x,y,z \\right)} \\frac{d}{d y} h{\\left(y \\right)} - \\frac{\\partial^{2}}{\\partial z^{2}} Q{\\left(t,x,y,z \\right)}}{Q{\\left(t,x,y,z \\right)}}\\end{matrix}\\right]$"
      ],
      "text/plain": [
       "⎡                 2           2                                                             \n",
       "⎢                d           ∂                                                              \n",
       "⎢             2⋅───(R(t))   ───(Q(t, x, y, z))                                              \n",
       "⎢                 2           2                                                             \n",
       "⎢               dt          ∂t                                                              \n",
       "⎢           - ─────────── - ──────────────────                                              \n",
       "⎢                 R(t)        Q(t, x, y, z)                                                 \n",
       "⎢                                                                                           \n",
       "⎢                                                          ⎛              2                 \n",
       "⎢                                                          ⎜ 2     2     ∂                  \n",
       "⎢                                                          ⎜R (t)⋅h (y)⋅───(Q(t, x, y, z)) +\n",
       "⎢                                                          ⎜              2                 \n",
       "⎢                                                          ⎝            ∂t                  \n",
       "⎢                           0                              ─────────────────────────────────\n",
       "⎢                                                                                           \n",
       "⎢                                                                                           \n",
       "⎢                                                                                           \n",
       "⎢                                                                                           \n",
       "⎢          2                                                                                \n",
       "⎢         ∂                    ∂                 d                                          \n",
       "⎢- R(t)⋅─────(Q(t, x, y, z)) + ──(Q(t, x, y, z))⋅──(R(t))                                   \n",
       "⎢       ∂y ∂t                  ∂y                dt                                         \n",
       "⎢────────────────────────────────────────────────────────                                   \n",
       "⎢                   Q(t, x, y, z)⋅R(t)                                                      \n",
       "⎢                                                                                           \n",
       "⎢                                                                                           \n",
       "⎢                                                                                           \n",
       "⎢          2                                                                                \n",
       "⎢         ∂                    ∂                 d                                          \n",
       "⎢- R(t)⋅─────(Q(t, x, y, z)) + ──(Q(t, x, y, z))⋅──(R(t))                                   \n",
       "⎢       ∂z ∂t                  ∂z                dt                                         \n",
       "⎢────────────────────────────────────────────────────────                                   \n",
       "⎣                   Q(t, x, y, z)⋅R(t)                                                      \n",
       "\n",
       "                                                                                            \n",
       "                                                                                            \n",
       "                                                                                            \n",
       "                                                                                            \n",
       "                                                                                            \n",
       "                                                   0                                        \n",
       "                                                                                            \n",
       "                                                                                            \n",
       "                                                   2                                        \n",
       "         2    ∂                 d           2     ∂                        ∂                \n",
       " 2⋅R(t)⋅h (y)⋅──(Q(t, x, y, z))⋅──(R(t)) - h (y)⋅───(Q(t, x, y, z)) - h(y)⋅──(Q(t, x, y, z))\n",
       "              ∂t                dt                 2                       ∂y               \n",
       "                                                 ∂y                                         \n",
       "────────────────────────────────────────────────────────────────────────────────────────────\n",
       "                                               2     2                                      \n",
       "                                              R (t)⋅h (y)                                   \n",
       "                                                                                            \n",
       "                                                                                            \n",
       "                                                                                            \n",
       "                                                                                            \n",
       "                                                                                            \n",
       "                                                                                            \n",
       "                                                   0                                        \n",
       "                                                                                            \n",
       "                                                                                            \n",
       "                                                                                            \n",
       "                                                                                            \n",
       "                                                                                            \n",
       "                                                                                            \n",
       "                                                                                            \n",
       "                                                                                            \n",
       "                                                   0                                        \n",
       "                                                                                            \n",
       "\n",
       "                                                                                            \n",
       "                                                                            2               \n",
       "                                                                           ∂                \n",
       "                                                                  - R(t)⋅─────(Q(t, x, y, z)\n",
       "                                                                         ∂y ∂t              \n",
       "                                                                  ──────────────────────────\n",
       "                                                                                     Q(t, x,\n",
       "                                                                                            \n",
       "              2               ⎞                                                             \n",
       " d           ∂                ⎟                                                             \n",
       "⋅──(h(y)) - ───(Q(t, x, y, z))⎟⋅Q(t, x, y, z)                                               \n",
       " dy           2               ⎟                                                             \n",
       "            ∂z                ⎠                                                             \n",
       "─────────────────────────────────────────────                                               \n",
       "                                                                                            \n",
       "                                                                                            \n",
       "                                                                                            \n",
       "                                                                                2           \n",
       "                                                                               d            \n",
       "                                                                              ───(h(y))     \n",
       "                                                      2                   2     2         R(\n",
       "                                                     d          ⎛d       ⎞    dy            \n",
       "                                               R(t)⋅───(R(t)) + ⎜──(R(t))⎟  - ───────── + ──\n",
       "                                                      2         ⎝dt      ⎠       h(y)       \n",
       "                                                    dt                                      \n",
       "                                                                                            \n",
       "                                                                                            \n",
       "                                                                            2               \n",
       "                                                                           ∂                \n",
       "                                                                  - h(y)⋅─────(Q(t, x, y, z)\n",
       "                                                                         ∂z ∂y              \n",
       "                                                                  ──────────────────────────\n",
       "                                                                                     Q(t, x,\n",
       "\n",
       "                                                                                            \n",
       "                                                                                            \n",
       "    ∂                 d                                                                     \n",
       ") + ──(Q(t, x, y, z))⋅──(R(t))                                                              \n",
       "    ∂y                dt                                                                    \n",
       "──────────────────────────────                                                              \n",
       " y, z)⋅R(t)                                                                                 \n",
       "                                                                                            \n",
       "                                                                                            \n",
       "                                                                                            \n",
       "                                                                                            \n",
       "                                                                                            \n",
       "                                                                                            \n",
       "  0                                                                                         \n",
       "                                                                                            \n",
       "                                                                                            \n",
       "                                                                                            \n",
       "                                  2                                                         \n",
       "                                 ∂                                                          \n",
       "   ∂                 d          ───(Q(t, x, y, z))                                          \n",
       "t)⋅──(Q(t, x, y, z))⋅──(R(t))     2                                                         \n",
       "   ∂t                dt         ∂y                                                          \n",
       "───────────────────────────── - ──────────────────                                          \n",
       "       Q(t, x, y, z)              Q(t, x, y, z)                                             \n",
       "                                                                                            \n",
       "                                                                                            \n",
       "                                                    ⎛            2                        2 \n",
       "                                                    ⎜           d               ⎛d       ⎞  \n",
       "    ∂                 d                             ⎜R(t)⋅h(y)⋅───(R(t)) + h(y)⋅⎜──(R(t))⎟  \n",
       ") + ──(Q(t, x, y, z))⋅──(h(y))                      ⎜            2              ⎝dt      ⎠  \n",
       "    ∂z                dy                            ⎝          dt                           \n",
       "──────────────────────────────                      ────────────────────────────────────────\n",
       " y, z)⋅h(y)                                                                                 \n",
       "\n",
       "                                                                                            \n",
       "                         2                                                                  \n",
       "                        ∂                    ∂                 d                            \n",
       "               - R(t)⋅─────(Q(t, x, y, z)) + ──(Q(t, x, y, z))⋅──(R(t))                     \n",
       "                      ∂z ∂t                  ∂z                dt                           \n",
       "               ────────────────────────────────────────────────────────                     \n",
       "                                  Q(t, x, y, z)⋅R(t)                                        \n",
       "                                                                                            \n",
       "                                                                                            \n",
       "                                                                                            \n",
       "                                                                                            \n",
       "                                                                                            \n",
       "                                                                                            \n",
       "                                          0                                                 \n",
       "                                                                                            \n",
       "                                                                                            \n",
       "                                                                                            \n",
       "                                                                                            \n",
       "                         2                                                                  \n",
       "                        ∂                    ∂                 d                            \n",
       "               - h(y)⋅─────(Q(t, x, y, z)) + ──(Q(t, x, y, z))⋅──(h(y))                     \n",
       "                      ∂z ∂y                  ∂z                dy                           \n",
       "               ────────────────────────────────────────────────────────                     \n",
       "                                  Q(t, x, y, z)⋅h(y)                                        \n",
       "                                                                                            \n",
       "                                                                                            \n",
       "    2      ⎞                                                                                \n",
       "   d       ⎟                            2    ∂                 d               ∂            \n",
       "- ───(h(y))⎟⋅Q(t, x, y, z)⋅h(y) + R(t)⋅h (y)⋅──(Q(t, x, y, z))⋅──(R(t)) - h(y)⋅──(Q(t, x, y,\n",
       "    2      ⎟                                 ∂t                dt              ∂y           \n",
       "  dy       ⎠                                                                                \n",
       "────────────────────────────────────────────────────────────────────────────────────────────\n",
       "                                    Q(t, x, y, z)                                           \n",
       "\n",
       "                                  ⎤\n",
       "                                  ⎥\n",
       "                                  ⎥\n",
       "                                  ⎥\n",
       "                                  ⎥\n",
       "                                  ⎥\n",
       "                                  ⎥\n",
       "                                  ⎥\n",
       "                                  ⎥\n",
       "                                  ⎥\n",
       "                                  ⎥\n",
       "                                  ⎥\n",
       "                                  ⎥\n",
       "                                  ⎥\n",
       "                                  ⎥\n",
       "                                  ⎥\n",
       "                                  ⎥\n",
       "                                  ⎥\n",
       "                                  ⎥\n",
       "                                  ⎥\n",
       "                                  ⎥\n",
       "                                  ⎥\n",
       "                                  ⎥\n",
       "                                  ⎥\n",
       "                                  ⎥\n",
       "                                  ⎥\n",
       "                  2               ⎥\n",
       "     d           ∂                ⎥\n",
       " z))⋅──(h(y)) - ───(Q(t, x, y, z))⎥\n",
       "     dy           2               ⎥\n",
       "                ∂z                ⎥\n",
       "──────────────────────────────────⎥\n",
       "                                  ⎦"
      ]
     },
     "execution_count": 35,
     "metadata": {},
     "output_type": "execute_result"
    }
   ],
   "source": [
    "Ric = RicciTensor.from_metric(metric)\n",
    "Ric.tensor()"
   ]
  },
  {
   "cell_type": "code",
   "execution_count": 36,
   "id": "7846be07",
   "metadata": {},
   "outputs": [
    {
     "data": {
      "text/latex": [
       "$\\displaystyle \\left[\\begin{matrix}\\frac{1.0 Q{\\left(t,x,y,z \\right)} h^{2}{\\left(y \\right)} \\left(\\frac{d}{d t} R{\\left(t \\right)}\\right)^{2} - 1.0 Q{\\left(t,x,y,z \\right)} h{\\left(y \\right)} \\frac{d^{2}}{d y^{2}} h{\\left(y \\right)} + 2.0 R{\\left(t \\right)} h^{2}{\\left(y \\right)} \\frac{\\partial}{\\partial t} Q{\\left(t,x,y,z \\right)} \\frac{d}{d t} R{\\left(t \\right)} - 1.0 h^{2}{\\left(y \\right)} \\frac{\\partial^{2}}{\\partial y^{2}} Q{\\left(t,x,y,z \\right)} - 1.0 h{\\left(y \\right)} \\frac{\\partial}{\\partial y} Q{\\left(t,x,y,z \\right)} \\frac{d}{d y} h{\\left(y \\right)} - 1.0 \\frac{\\partial^{2}}{\\partial z^{2}} Q{\\left(t,x,y,z \\right)}}{Q{\\left(t,x,y,z \\right)} R^{2}{\\left(t \\right)} h^{2}{\\left(y \\right)}} & 0 & \\frac{- R{\\left(t \\right)} \\frac{\\partial^{2}}{\\partial y\\partial t} Q{\\left(t,x,y,z \\right)} + \\frac{\\partial}{\\partial y} Q{\\left(t,x,y,z \\right)} \\frac{d}{d t} R{\\left(t \\right)}}{Q{\\left(t,x,y,z \\right)} R{\\left(t \\right)}} & \\frac{- R{\\left(t \\right)} \\frac{\\partial^{2}}{\\partial z\\partial t} Q{\\left(t,x,y,z \\right)} + \\frac{\\partial}{\\partial z} Q{\\left(t,x,y,z \\right)} \\frac{d}{d t} R{\\left(t \\right)}}{Q{\\left(t,x,y,z \\right)} R{\\left(t \\right)}}\\\\0 & \\frac{\\left(- 2.0 R{\\left(t \\right)} h{\\left(y \\right)} \\frac{d^{2}}{d t^{2}} R{\\left(t \\right)} - 1.0 h{\\left(y \\right)} \\left(\\frac{d}{d t} R{\\left(t \\right)}\\right)^{2} + 1.0 \\frac{d^{2}}{d y^{2}} h{\\left(y \\right)}\\right) Q^{2}{\\left(t,x,y,z \\right)}}{R^{2}{\\left(t \\right)} h{\\left(y \\right)}} & 0 & 0\\\\\\frac{- R{\\left(t \\right)} \\frac{\\partial^{2}}{\\partial y\\partial t} Q{\\left(t,x,y,z \\right)} + \\frac{\\partial}{\\partial y} Q{\\left(t,x,y,z \\right)} \\frac{d}{d t} R{\\left(t \\right)}}{Q{\\left(t,x,y,z \\right)} R{\\left(t \\right)}} & 0 & - 1.0 R{\\left(t \\right)} \\frac{d^{2}}{d t^{2}} R{\\left(t \\right)} - \\frac{1.0 R^{2}{\\left(t \\right)} \\frac{\\partial^{2}}{\\partial t^{2}} Q{\\left(t,x,y,z \\right)}}{Q{\\left(t,x,y,z \\right)}} - \\frac{1.0 R{\\left(t \\right)} \\frac{\\partial}{\\partial t} Q{\\left(t,x,y,z \\right)} \\frac{d}{d t} R{\\left(t \\right)}}{Q{\\left(t,x,y,z \\right)}} + \\frac{1.0 \\frac{\\partial}{\\partial y} Q{\\left(t,x,y,z \\right)} \\frac{d}{d y} h{\\left(y \\right)}}{Q{\\left(t,x,y,z \\right)} h{\\left(y \\right)}} + \\frac{1.0 \\frac{\\partial^{2}}{\\partial z^{2}} Q{\\left(t,x,y,z \\right)}}{Q{\\left(t,x,y,z \\right)} h^{2}{\\left(y \\right)}} & \\frac{- h{\\left(y \\right)} \\frac{\\partial^{2}}{\\partial z\\partial y} Q{\\left(t,x,y,z \\right)} + \\frac{\\partial}{\\partial z} Q{\\left(t,x,y,z \\right)} \\frac{d}{d y} h{\\left(y \\right)}}{Q{\\left(t,x,y,z \\right)} h{\\left(y \\right)}}\\\\\\frac{- R{\\left(t \\right)} \\frac{\\partial^{2}}{\\partial z\\partial t} Q{\\left(t,x,y,z \\right)} + \\frac{\\partial}{\\partial z} Q{\\left(t,x,y,z \\right)} \\frac{d}{d t} R{\\left(t \\right)}}{Q{\\left(t,x,y,z \\right)} R{\\left(t \\right)}} & 0 & \\frac{- h{\\left(y \\right)} \\frac{\\partial^{2}}{\\partial z\\partial y} Q{\\left(t,x,y,z \\right)} + \\frac{\\partial}{\\partial z} Q{\\left(t,x,y,z \\right)} \\frac{d}{d y} h{\\left(y \\right)}}{Q{\\left(t,x,y,z \\right)} h{\\left(y \\right)}} & \\frac{1.0 \\left(- Q{\\left(t,x,y,z \\right)} R{\\left(t \\right)} \\frac{d^{2}}{d t^{2}} R{\\left(t \\right)} - R^{2}{\\left(t \\right)} \\frac{\\partial^{2}}{\\partial t^{2}} Q{\\left(t,x,y,z \\right)} - R{\\left(t \\right)} \\frac{\\partial}{\\partial t} Q{\\left(t,x,y,z \\right)} \\frac{d}{d t} R{\\left(t \\right)} + \\frac{\\partial^{2}}{\\partial y^{2}} Q{\\left(t,x,y,z \\right)}\\right) h^{2}{\\left(y \\right)}}{Q{\\left(t,x,y,z \\right)}}\\end{matrix}\\right]$"
      ],
      "text/plain": [
       "⎡                                  2                        2                               \n",
       "⎢                   2    ⎛d       ⎞                        d                    2    ∂      \n",
       "⎢1.0⋅Q(t, x, y, z)⋅h (y)⋅⎜──(R(t))⎟  - Q(t, x, y, z)⋅h(y)⋅───(h(y)) + 2.0⋅R(t)⋅h (y)⋅──(Q(t,\n",
       "⎢                        ⎝dt      ⎠                         2                        ∂t     \n",
       "⎢                                                         dy                                \n",
       "⎢───────────────────────────────────────────────────────────────────────────────────────────\n",
       "⎢                                                                                           \n",
       "⎢                                                                                   Q(t, x, \n",
       "⎢                                                                                           \n",
       "⎢                                                                                           \n",
       "⎢                                                                                           \n",
       "⎢                                                                                           \n",
       "⎢                                                                                           \n",
       "⎢                                                                                           \n",
       "⎢                                                                                           \n",
       "⎢                                                                                           \n",
       "⎢                                                                                           \n",
       "⎢                                                                                           \n",
       "⎢                                                                                           \n",
       "⎢                                                                              2            \n",
       "⎢                                                                             ∂             \n",
       "⎢                                                                    - R(t)⋅─────(Q(t, x, y,\n",
       "⎢                                                                           ∂y ∂t           \n",
       "⎢                                                                    ───────────────────────\n",
       "⎢                                                                                       Q(t,\n",
       "⎢                                                                                           \n",
       "⎢                                                                                           \n",
       "⎢                                                                                           \n",
       "⎢                                                                              2            \n",
       "⎢                                                                             ∂             \n",
       "⎢                                                                    - R(t)⋅─────(Q(t, x, y,\n",
       "⎢                                                                           ∂z ∂t           \n",
       "⎢                                                                    ───────────────────────\n",
       "⎣                                                                                       Q(t,\n",
       "\n",
       "                              2                                                      2      \n",
       "           d           2     ∂                        ∂                 d           ∂       \n",
       " x, y, z))⋅──(R(t)) - h (y)⋅───(Q(t, x, y, z)) - h(y)⋅──(Q(t, x, y, z))⋅──(h(y)) - ───(Q(t, \n",
       "           dt                 2                       ∂y                dy           2      \n",
       "                            ∂y                                                     ∂z       \n",
       "────────────────────────────────────────────────────────────────────────────────────────────\n",
       "       2     2                                                                              \n",
       "y, z)⋅R (t)⋅h (y)                                                                           \n",
       "                                                                                            \n",
       "                                                                                            \n",
       "                                                                                            \n",
       "                                                                                            \n",
       "                                                                                            \n",
       "                                                                                            \n",
       "    0                                                                                       \n",
       "                                                                                            \n",
       "                                                                                            \n",
       "                                                                                            \n",
       "                                                                                            \n",
       "                                                                                            \n",
       "       ∂                 d                                                                  \n",
       " z)) + ──(Q(t, x, y, z))⋅──(R(t))                                                           \n",
       "       ∂y                dt                                                                 \n",
       "─────────────────────────────────                                                           \n",
       " x, y, z)⋅R(t)                                                                              \n",
       "                                                                                            \n",
       "                                                                                            \n",
       "                                                                                            \n",
       "                                                                                            \n",
       "       ∂                 d                                                                  \n",
       " z)) + ──(Q(t, x, y, z))⋅──(R(t))                                                           \n",
       "       ∂z                dt                                                                 \n",
       "─────────────────────────────────                                                           \n",
       " x, y, z)⋅R(t)                                                                              \n",
       "\n",
       "                                                                                            \n",
       "                                                                                            \n",
       "x, y, z))                                                                                   \n",
       "                                                                                            \n",
       "                                                                                            \n",
       "─────────                                        0                                          \n",
       "                                                                                            \n",
       "                                                                                            \n",
       "                                                                                            \n",
       "           ⎛                  2                        2         2      ⎞                   \n",
       "           ⎜                 d               ⎛d       ⎞         d       ⎟  2                \n",
       "           ⎜- 2.0⋅R(t)⋅h(y)⋅───(R(t)) - h(y)⋅⎜──(R(t))⎟  + 1.0⋅───(h(y))⎟⋅Q (t, x, y, z)    \n",
       "           ⎜                  2              ⎝dt      ⎠          2      ⎟                   \n",
       "           ⎝                dt                                 dy       ⎠                   \n",
       "           ─────────────────────────────────────────────────────────────────────────────    \n",
       "                                              2                                             \n",
       "                                             R (t)⋅h(y)                                     \n",
       "                                                                                            \n",
       "                                                                                            \n",
       "                                                                                            \n",
       "                                                                                            \n",
       "                                                                                            \n",
       "                                                                                            \n",
       "                                                 0                                        - \n",
       "                                                                                            \n",
       "                                                                                            \n",
       "                                                                                            \n",
       "                                                                                            \n",
       "                                                                                            \n",
       "                                                                                            \n",
       "                                                                                            \n",
       "                                                                                            \n",
       "                                                 0                                          \n",
       "                                                                                            \n",
       "\n",
       "                                                                                            \n",
       "                                               2                                            \n",
       "                                              ∂                    ∂                 d      \n",
       "                                     - R(t)⋅─────(Q(t, x, y, z)) + ──(Q(t, x, y, z))⋅──(R(t)\n",
       "                                            ∂y ∂t                  ∂y                dt     \n",
       "                                     ───────────────────────────────────────────────────────\n",
       "                                                        Q(t, x, y, z)⋅R(t)                  \n",
       "                                                                                            \n",
       "                                                                                            \n",
       "                                                                                            \n",
       "                                                                                            \n",
       "                                                                                            \n",
       "                                                                                            \n",
       "                                                                                            \n",
       "                                                                 0                          \n",
       "                                                                                            \n",
       "                                                                                            \n",
       "                                                                                            \n",
       "                         2                                                                  \n",
       "                  2     ∂                                                                   \n",
       "                 R (t)⋅───(Q(t, x, y, z))        ∂                 d              ∂         \n",
       "       2                 2                  R(t)⋅──(Q(t, x, y, z))⋅──(R(t))   1.0⋅──(Q(t, x,\n",
       "      d                ∂t                        ∂t                dt             ∂y        \n",
       "R(t)⋅───(R(t)) - ──────────────────────── - ─────────────────────────────── + ──────────────\n",
       "       2              Q(t, x, y, z)                  Q(t, x, y, z)                  Q(t, x, \n",
       "     dt                                                                                     \n",
       "                                                                                            \n",
       "                                                                                            \n",
       "                                               2                                            \n",
       "                                              ∂                    ∂                 d      \n",
       "                                     - h(y)⋅─────(Q(t, x, y, z)) + ──(Q(t, x, y, z))⋅──(h(y)\n",
       "                                            ∂z ∂y                  ∂z                dy     \n",
       "                                     ───────────────────────────────────────────────────────\n",
       "                                                        Q(t, x, y, z)⋅h(y)                  \n",
       "\n",
       "                                                                                            \n",
       "                                                                                       2    \n",
       "                                                                                      ∂     \n",
       ")                                                                            - R(t)⋅─────(Q(\n",
       "                                                                                    ∂z ∂t   \n",
       "─                                                                            ───────────────\n",
       "                                                                                            \n",
       "                                                                                            \n",
       "                                                                                            \n",
       "                                                                                            \n",
       "                                                                                            \n",
       "                                                                                            \n",
       "                                                                                            \n",
       "                                                                                            \n",
       "                                                                                            \n",
       "                                                                                            \n",
       "                                                                                            \n",
       "                                                                                            \n",
       "                         2                                                                  \n",
       "                        ∂                                                              2    \n",
       "        d          1.0⋅───(Q(t, x, y, z))                                             ∂     \n",
       " y, z))⋅──(h(y))         2                                                   - h(y)⋅─────(Q(\n",
       "        dy             ∂z                                                           ∂z ∂y   \n",
       "──────────────── + ──────────────────────                                    ───────────────\n",
       "y, z)⋅h(y)                         2                                                        \n",
       "                    Q(t, x, y, z)⋅h (y)                                                     \n",
       "                                                                                            \n",
       "                                               ⎛                       2                 2  \n",
       "                                               ⎜                      d           2     ∂   \n",
       "                                           1.0⋅⎜- Q(t, x, y, z)⋅R(t)⋅───(R(t)) - R (t)⋅───(Q\n",
       ")                                              ⎜                       2                 2  \n",
       "                                               ⎝                     dt                ∂t   \n",
       "─                                          ─────────────────────────────────────────────────\n",
       "                                                                                            \n",
       "\n",
       "                                                                           ⎤\n",
       "                                                                           ⎥\n",
       "               ∂                 d                                         ⎥\n",
       "t, x, y, z)) + ──(Q(t, x, y, z))⋅──(R(t))                                  ⎥\n",
       "               ∂z                dt                                        ⎥\n",
       "─────────────────────────────────────────                                  ⎥\n",
       "    Q(t, x, y, z)⋅R(t)                                                     ⎥\n",
       "                                                                           ⎥\n",
       "                                                                           ⎥\n",
       "                                                                           ⎥\n",
       "                                                                           ⎥\n",
       "                                                                           ⎥\n",
       "                                                                           ⎥\n",
       "                                                                           ⎥\n",
       "            0                                                              ⎥\n",
       "                                                                           ⎥\n",
       "                                                                           ⎥\n",
       "                                                                           ⎥\n",
       "                                                                           ⎥\n",
       "                                                                           ⎥\n",
       "               ∂                 d                                         ⎥\n",
       "t, x, y, z)) + ──(Q(t, x, y, z))⋅──(h(y))                                  ⎥\n",
       "               ∂z                dy                                        ⎥\n",
       "─────────────────────────────────────────                                  ⎥\n",
       "    Q(t, x, y, z)⋅h(y)                                                     ⎥\n",
       "                                                                           ⎥\n",
       "                                                                           ⎥\n",
       "                                                    2               ⎞      ⎥\n",
       "                     ∂                 d           ∂                ⎟  2   ⎥\n",
       "(t, x, y, z)) - R(t)⋅──(Q(t, x, y, z))⋅──(R(t)) + ───(Q(t, x, y, z))⎟⋅h (y)⎥\n",
       "                     ∂t                dt           2               ⎟      ⎥\n",
       "                                                  ∂y                ⎠      ⎥\n",
       "───────────────────────────────────────────────────────────────────────────⎥\n",
       "      Q(t, x, y, z)                                                        ⎦"
      ]
     },
     "execution_count": 36,
     "metadata": {},
     "output_type": "execute_result"
    }
   ],
   "source": [
    "einst = EinsteinTensor.from_metric(metric)\n",
    "simplify(einst.tensor())"
   ]
  },
  {
   "cell_type": "code",
   "execution_count": 37,
   "id": "7b09a167",
   "metadata": {},
   "outputs": [
    {
     "data": {
      "image/png": "[encoded data removed]",
      "text/latex": [
       "$\\displaystyle - \\frac{4 \\frac{d^{2}}{d t^{2}} R{\\left(t \\right)}}{R{\\left(t \\right)}} - \\frac{2 \\left(\\frac{d}{d t} R{\\left(t \\right)}\\right)^{2}}{R^{2}{\\left(t \\right)}} + \\frac{2 \\frac{d^{2}}{d y^{2}} h{\\left(y \\right)}}{R^{2}{\\left(t \\right)} h{\\left(y \\right)}} - \\frac{2 \\frac{\\partial^{2}}{\\partial t^{2}} Q{\\left(t,x,y,z \\right)}}{Q{\\left(t,x,y,z \\right)}} - \\frac{4 \\frac{\\partial}{\\partial t} Q{\\left(t,x,y,z \\right)} \\frac{d}{d t} R{\\left(t \\right)}}{Q{\\left(t,x,y,z \\right)} R{\\left(t \\right)}} + \\frac{2 \\frac{\\partial^{2}}{\\partial y^{2}} Q{\\left(t,x,y,z \\right)}}{Q{\\left(t,x,y,z \\right)} R^{2}{\\left(t \\right)}} + \\frac{2 \\frac{\\partial}{\\partial y} Q{\\left(t,x,y,z \\right)} \\frac{d}{d y} h{\\left(y \\right)}}{Q{\\left(t,x,y,z \\right)} R^{2}{\\left(t \\right)} h{\\left(y \\right)}} + \\frac{2 \\frac{\\partial^{2}}{\\partial z^{2}} Q{\\left(t,x,y,z \\right)}}{Q{\\left(t,x,y,z \\right)} R^{2}{\\left(t \\right)} h^{2}{\\left(y \\right)}}$"
      ],
      "text/plain": [
       "      2                             2             2                                         \n",
       "     d                      2      d             ∂                                          \n",
       "  4⋅───(R(t))     ⎛d       ⎞    2⋅───(h(y))   2⋅───(Q(t, x, y, z))     ∂                 d  \n",
       "      2         2⋅⎜──(R(t))⎟        2             2                  4⋅──(Q(t, x, y, z))⋅──(\n",
       "    dt            ⎝dt      ⎠      dy            ∂t                     ∂t                dt \n",
       "- ─────────── - ───────────── + ─────────── - ──────────────────── - ───────────────────────\n",
       "      R(t)           2            2              Q(t, x, y, z)            Q(t, x, y, z)⋅R(t)\n",
       "                    R (t)        R (t)⋅h(y)                                                 \n",
       "\n",
       "            2                                                        2                 \n",
       "           ∂                                                        ∂                  \n",
       "        2⋅───(Q(t, x, y, z))     ∂                 d             2⋅───(Q(t, x, y, z))  \n",
       "R(t))       2                  2⋅──(Q(t, x, y, z))⋅──(h(y))          2                 \n",
       "          ∂y                     ∂y                dy              ∂z                  \n",
       "───── + ──────────────────── + ──────────────────────────── + ─────────────────────────\n",
       "                       2                        2                            2     2   \n",
       "        Q(t, x, y, z)⋅R (t)      Q(t, x, y, z)⋅R (t)⋅h(y)     Q(t, x, y, z)⋅R (t)⋅h (y)"
      ]
     },
     "execution_count": 37,
     "metadata": {},
     "output_type": "execute_result"
    }
   ],
   "source": [
    "R = RicciScalar.from_riccitensor(Ric)\n",
    "R.simplify()\n",
    "R.expr"
   ]
  },
  {
   "cell_type": "code",
   "execution_count": 38,
   "id": "c2c65d00",
   "metadata": {},
   "outputs": [],
   "source": [
    "#  rm1 = RiemannCurvatureTensor.from_christoffels(ch)\n",
    "#  rm1.tensor()"
   ]
  },
  {
   "cell_type": "code",
   "execution_count": 39,
   "id": "f670725a",
   "metadata": {},
   "outputs": [],
   "source": [
    "#  weyl = WeylTensor.from_metric(metric)\n",
    "#  weyl.tensor()"
   ]
  },
  {
   "cell_type": "code",
   "execution_count": 55,
   "id": "6c22a9cb",
   "metadata": {},
   "outputs": [
    {
     "data": {
      "image/png": "[encoded data removed]",
      "text/latex": [
       "$\\displaystyle \\frac{d^{2}}{d y^{2}} h{\\left(y \\right)} = \\left(2.0 R{\\left(t \\right)} \\frac{d^{2}}{d t^{2}} R{\\left(t \\right)} + \\left(\\frac{d}{d t} R{\\left(t \\right)}\\right)^{2}\\right) h{\\left(y \\right)}$"
      ],
      "text/plain": [
       "  2         ⎛           2                   2⎞     \n",
       " d          ⎜          d          ⎛d       ⎞ ⎟     \n",
       "───(h(y)) = ⎜2.0⋅R(t)⋅───(R(t)) + ⎜──(R(t))⎟ ⎟⋅h(y)\n",
       "  2         ⎜           2         ⎝dt      ⎠ ⎟     \n",
       "dy          ⎝         dt                     ⎠     "
      ]
     },
     "execution_count": 55,
     "metadata": {},
     "output_type": "execute_result"
    }
   ],
   "source": [
    "#  Here we take a term of the 1-1 component of Einstein and set it equal to zero and solve for h double prime\n",
    "equation2pt3a = Eq( diff(h,y,y),solve( simplify(einst.tensor())[1,1].args[3] , diff(h,y,y) )[0] ) \n",
    "equation2pt3a"
   ]
  },
  {
   "cell_type": "code",
   "execution_count": 68,
   "id": "2cce170a",
   "metadata": {},
   "outputs": [
    {
     "data": {
      "image/png": "[encoded data removed]",
      "text/latex": [
       "$\\displaystyle \\frac{\\frac{d^{2}}{d y^{2}} h{\\left(y \\right)}}{h{\\left(y \\right)}} = 2.0 R{\\left(t \\right)} \\frac{d^{2}}{d t^{2}} R{\\left(t \\right)} + \\left(\\frac{d}{d t} R{\\left(t \\right)}\\right)^{2}$"
      ],
      "text/plain": [
       "  2                                         \n",
       " d                                          \n",
       "───(h(y))                                   \n",
       "  2                    2                   2\n",
       "dy                    d          ⎛d       ⎞ \n",
       "───────── = 2.0⋅R(t)⋅───(R(t)) + ⎜──(R(t))⎟ \n",
       "   h(y)                2         ⎝dt      ⎠ \n",
       "                     dt                     "
      ]
     },
     "execution_count": 68,
     "metadata": {},
     "output_type": "execute_result"
    }
   ],
   "source": [
    "equation2pt3b = Eq((1/h)*equation2pt3a.lhs,(1/h)*equation2pt3a.rhs  )\n",
    "equation2pt3b"
   ]
  },
  {
   "cell_type": "code",
   "execution_count": 70,
   "id": "d9f7535a",
   "metadata": {},
   "outputs": [
    {
     "data": {
      "image/png": "[encoded data removed]",
      "text/latex": [
       "$\\displaystyle 2.0 R{\\left(t \\right)} \\frac{d^{2}}{d t^{2}} R{\\left(t \\right)} + \\left(\\frac{d}{d t} R{\\left(t \\right)}\\right)^{2} = - k$"
      ],
      "text/plain": [
       "           2                   2     \n",
       "          d          ⎛d       ⎞      \n",
       "2.0⋅R(t)⋅───(R(t)) + ⎜──(R(t))⎟  = -k\n",
       "           2         ⎝dt      ⎠      \n",
       "         dt                          "
      ]
     },
     "execution_count": 70,
     "metadata": {},
     "output_type": "execute_result"
    }
   ],
   "source": [
    "equation2pt3 = Eq( equation2pt3b.rhs , -k ) \n",
    "equation2pt3"
   ]
  },
  {
   "cell_type": "code",
   "execution_count": 71,
   "id": "4f37cca2",
   "metadata": {},
   "outputs": [
    {
     "data": {
      "image/png": "[encoded data removed]",
      "text/latex": [
       "$\\displaystyle \\frac{\\frac{d^{2}}{d y^{2}} h{\\left(y \\right)}}{h{\\left(y \\right)}} = - k$"
      ],
      "text/plain": [
       "  2           \n",
       " d            \n",
       "───(h(y))     \n",
       "  2           \n",
       "dy            \n",
       "───────── = -k\n",
       "   h(y)       "
      ]
     },
     "execution_count": 71,
     "metadata": {},
     "output_type": "execute_result"
    }
   ],
   "source": [
    "equation2pt4 = Eq( equation2pt3b.lhs , -k ) \n",
    "equation2pt4"
   ]
  },
  {
   "cell_type": "code",
   "execution_count": 72,
   "id": "1a18be23",
   "metadata": {},
   "outputs": [
    {
     "data": {
      "image/png": "[encoded data removed]",
      "text/latex": [
       "$\\displaystyle \\frac{\\frac{d^{2}}{d y^{2}} h{\\left(y \\right)}}{h{\\left(y \\right)}} = 1$"
      ],
      "text/plain": [
       "  2          \n",
       " d           \n",
       "───(h(y))    \n",
       "  2          \n",
       "dy           \n",
       "───────── = 1\n",
       "   h(y)      "
      ]
     },
     "execution_count": 72,
     "metadata": {},
     "output_type": "execute_result"
    }
   ],
   "source": [
    "#  Hyperbolic case k = -1 \n",
    "equation2pt4.subs(k,-1)"
   ]
  },
  {
   "cell_type": "code",
   "execution_count": 117,
   "id": "97f259a0",
   "metadata": {},
   "outputs": [
    {
     "data": {
      "image/png": "[encoded data removed]",
      "text/latex": [
       "$\\displaystyle h{\\left(y \\right)} = C_{1} e^{- y} + C_{2} e^{y}$"
      ],
      "text/plain": [
       "           -y       y\n",
       "h(y) = C₁⋅ℯ   + C₂⋅ℯ "
      ]
     },
     "execution_count": 117,
     "metadata": {},
     "output_type": "execute_result"
    }
   ],
   "source": [
    "#  Hyperbolic case k = -1 \n",
    "hyperbolicODEsolution = dsolve( equation2pt4.subs(k,-1) ) \n",
    "hyperbolicODEsolution"
   ]
  },
  {
   "cell_type": "code",
   "execution_count": 118,
   "id": "88bbf39f",
   "metadata": {},
   "outputs": [
    {
     "data": {
      "image/png": "[encoded data removed]",
      "text/latex": [
       "$\\displaystyle h{\\left(y \\right)} = e^{y} + e^{- y}$"
      ],
      "text/plain": [
       "        y    -y\n",
       "h(y) = ℯ  + ℯ  "
      ]
     },
     "execution_count": 118,
     "metadata": {},
     "output_type": "execute_result"
    }
   ],
   "source": [
    "#  Here we arbitrarily set the constants of integration to one... this can be changed \n",
    "hyperbolicParticularSol = hyperbolicODEsolution.subs( hyperbolicODEsolution.rhs.args[0].args[0],1).subs(hyperbolicODEsolution.rhs.args[1].args[0],1)\n",
    "hyperbolicParticularSol"
   ]
  },
  {
   "cell_type": "code",
   "execution_count": 73,
   "id": "d91f4311",
   "metadata": {
    "scrolled": true
   },
   "outputs": [
    {
     "data": {
      "image/png": "[encoded data removed]",
      "text/latex": [
       "$\\displaystyle \\frac{\\frac{d^{2}}{d y^{2}} h{\\left(y \\right)}}{h{\\left(y \\right)}} = 0$"
      ],
      "text/plain": [
       "  2          \n",
       " d           \n",
       "───(h(y))    \n",
       "  2          \n",
       "dy           \n",
       "───────── = 0\n",
       "   h(y)      "
      ]
     },
     "execution_count": 73,
     "metadata": {},
     "output_type": "execute_result"
    }
   ],
   "source": [
    "#  Parabolic case k = 0 \n",
    "equation2pt4.subs(k,0)"
   ]
  },
  {
   "cell_type": "code",
   "execution_count": 79,
   "id": "92e0ce08",
   "metadata": {},
   "outputs": [
    {
     "data": {
      "image/png": "[encoded data removed]",
      "text/latex": [
       "$\\displaystyle h{\\left(y \\right)} = C_{1} + C_{2} y$"
      ],
      "text/plain": [
       "h(y) = C₁ + C₂⋅y"
      ]
     },
     "execution_count": 79,
     "metadata": {},
     "output_type": "execute_result"
    }
   ],
   "source": [
    "#  Parabolic case k = 0 \n",
    "parabolicODEsolution = dsolve( equation2pt4.subs(k,0) ) \n",
    "parabolicODEsolution"
   ]
  },
  {
   "cell_type": "code",
   "execution_count": 98,
   "id": "971d7701",
   "metadata": {},
   "outputs": [
    {
     "data": {
      "image/png": "[encoded data removed]",
      "text/latex": [
       "$\\displaystyle h{\\left(y \\right)} = y + 1$"
      ],
      "text/plain": [
       "h(y) = y + 1"
      ]
     },
     "execution_count": 98,
     "metadata": {},
     "output_type": "execute_result"
    }
   ],
   "source": [
    "#  Here we arbitrarily set the constants of integration to one... this can be changed \n",
    "parabolicODEsolution.subs(parabolicODEsolution.rhs.args[0],1 ).subs(parabolicODEsolution.rhs.args[1].args[0],1)"
   ]
  },
  {
   "cell_type": "code",
   "execution_count": 74,
   "id": "45980248",
   "metadata": {},
   "outputs": [
    {
     "data": {
      "image/png": "[encoded data removed]",
      "text/latex": [
       "$\\displaystyle \\frac{\\frac{d^{2}}{d y^{2}} h{\\left(y \\right)}}{h{\\left(y \\right)}} = -1$"
      ],
      "text/plain": [
       "  2           \n",
       " d            \n",
       "───(h(y))     \n",
       "  2           \n",
       "dy            \n",
       "───────── = -1\n",
       "   h(y)       "
      ]
     },
     "execution_count": 74,
     "metadata": {},
     "output_type": "execute_result"
    }
   ],
   "source": [
    "#  Ellipic case k = 1\n",
    "equation2pt4.subs(k,1)"
   ]
  },
  {
   "cell_type": "code",
   "execution_count": 80,
   "id": "597c2c2e",
   "metadata": {},
   "outputs": [
    {
     "data": {
      "image/png": "[encoded data removed]",
      "text/latex": [
       "$\\displaystyle h{\\left(y \\right)} = C_{1} \\sin{\\left(y \\right)} + C_{2} \\cos{\\left(y \\right)}$"
      ],
      "text/plain": [
       "h(y) = C₁⋅sin(y) + C₂⋅cos(y)"
      ]
     },
     "execution_count": 80,
     "metadata": {},
     "output_type": "execute_result"
    }
   ],
   "source": [
    "#  Ellipic case k = 1\n",
    "hyperbolicODEsolution = dsolve( equation2pt4.subs(k,1) ) \n",
    "hyperbolicODEsolution"
   ]
  },
  {
   "cell_type": "code",
   "execution_count": 89,
   "id": "175018eb",
   "metadata": {},
   "outputs": [
    {
     "data": {
      "image/png": "[encoded data removed]",
      "text/latex": [
       "$\\displaystyle h{\\left(y \\right)} = \\sin{\\left(y \\right)} + \\cos{\\left(y \\right)}$"
      ],
      "text/plain": [
       "h(y) = sin(y) + cos(y)"
      ]
     },
     "execution_count": 89,
     "metadata": {},
     "output_type": "execute_result"
    }
   ],
   "source": [
    "#  Here we arbitrarily set the constants of integration to one... \n",
    "hyperbolicParticularSol = hyperbolicODEsolution.subs(hyperbolicODEsolution.rhs.args[0].args[0],1).subs(hyperbolicODEsolution.rhs.args[1].args[0],1)\n",
    "hyperbolicParticularSol"
   ]
  },
  {
   "cell_type": "code",
   "execution_count": 111,
   "id": "d79f8284",
   "metadata": {},
   "outputs": [
    {
     "data": {
      "image/png": "[encoded data removed]",
      "text/latex": [
       "$\\displaystyle 2.0 R{\\left(t \\right)} \\frac{d^{2}}{d t^{2}} R{\\left(t \\right)} + \\left(\\frac{d}{d t} R{\\left(t \\right)}\\right)^{2} = 1$"
      ],
      "text/plain": [
       "           2                   2    \n",
       "          d          ⎛d       ⎞     \n",
       "2.0⋅R(t)⋅───(R(t)) + ⎜──(R(t))⎟  = 1\n",
       "           2         ⎝dt      ⎠     \n",
       "         dt                         "
      ]
     },
     "execution_count": 111,
     "metadata": {},
     "output_type": "execute_result"
    }
   ],
   "source": [
    "#  Hyperbolic case k = -1 \n",
    "equation2pt3.subs(k,-1)"
   ]
  },
  {
   "cell_type": "code",
   "execution_count": 112,
   "id": "91ac8cb8",
   "metadata": {},
   "outputs": [
    {
     "data": {
      "image/png": "[encoded data removed]",
      "text/latex": [
       "$\\displaystyle 2.0 R{\\left(t \\right)} \\frac{d^{2}}{d t^{2}} R{\\left(t \\right)} + \\left(\\frac{d}{d t} R{\\left(t \\right)}\\right)^{2} = 0$"
      ],
      "text/plain": [
       "           2                   2    \n",
       "          d          ⎛d       ⎞     \n",
       "2.0⋅R(t)⋅───(R(t)) + ⎜──(R(t))⎟  = 0\n",
       "           2         ⎝dt      ⎠     \n",
       "         dt                         "
      ]
     },
     "execution_count": 112,
     "metadata": {},
     "output_type": "execute_result"
    }
   ],
   "source": [
    "#  Parabolic case k = 0 \n",
    "equation2pt3.subs(k,0)"
   ]
  },
  {
   "cell_type": "code",
   "execution_count": 113,
   "id": "060f6858",
   "metadata": {},
   "outputs": [
    {
     "data": {
      "image/png": "[encoded data removed]",
      "text/latex": [
       "$\\displaystyle 2.0 R{\\left(t \\right)} \\frac{d^{2}}{d t^{2}} R{\\left(t \\right)} + \\left(\\frac{d}{d t} R{\\left(t \\right)}\\right)^{2} = -1$"
      ],
      "text/plain": [
       "           2                   2     \n",
       "          d          ⎛d       ⎞      \n",
       "2.0⋅R(t)⋅───(R(t)) + ⎜──(R(t))⎟  = -1\n",
       "           2         ⎝dt      ⎠      \n",
       "         dt                          "
      ]
     },
     "execution_count": 113,
     "metadata": {},
     "output_type": "execute_result"
    }
   ],
   "source": [
    "#  Ellipic case k = 1\n",
    "equation2pt3.subs(k,1)"
   ]
  },
  {
   "cell_type": "markdown",
   "id": "486a50ca",
   "metadata": {},
   "source": [
    "https://www.sympy.org/scipy-2017-codegen-tutorial/notebooks/20-ordinary-differential-equations.html"
   ]
  },
  {
   "cell_type": "code",
   "execution_count": null,
   "id": "05e7f5c2",
   "metadata": {},
   "outputs": [],
   "source": []
  }
 ],
 "metadata": {
  "@webio": {
   "lastCommId": "c037c21a6a35419abd1b0917d0b2ca70",
   "lastKernelId": "32d14bdc-52b6-47f6-96fe-7b7bbddb7a30"
  },
  "kernelspec": {
   "display_name": "Python 3 (ipykernel)",
   "language": "python",
   "name": "python3"
  },
  "language_info": {
   "codemirror_mode": {
    "name": "ipython",
    "version": 3
   },
   "file_extension": ".py",
   "mimetype": "text/x-python",
   "name": "python",
   "nbconvert_exporter": "python",
   "pygments_lexer": "ipython3",
   "version": "3.8.8"
  }
 },
 "nbformat": 4,
 "nbformat_minor": 5
}
