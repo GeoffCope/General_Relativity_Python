{
 "cells": [
  {
   "cell_type": "markdown",
   "id": "208a938c",
   "metadata": {},
   "source": [
    "# Superenergy flux of Einstein - Rosen waves by Dominguez & Gallegos\n",
    "##  Geoff Cope\n",
    "##  Univeristy of Utah\n",
    "##  December 30, 2021 "
   ]
  },
  {
   "cell_type": "markdown",
   "id": "1022e2a1",
   "metadata": {},
   "source": [
    "Here we concentrate on metric 16"
   ]
  },
  {
   "cell_type": "markdown",
   "id": "dad8f574",
   "metadata": {},
   "source": [
    "https://ui.adsabs.harvard.edu/abs/2018IJMPD..2750072D/abstract"
   ]
  },
  {
   "cell_type": "code",
   "execution_count": 1,
   "id": "0342de34",
   "metadata": {},
   "outputs": [
    {
     "name": "stdout",
     "output_type": "stream",
     "text": [
      "IPython console for SymPy 1.9 (Python 3.8.8-64-bit) (ground types: gmpy)\n",
      "\n",
      "These commands were executed:\n",
      ">>> from __future__ import division\n",
      ">>> from sympy import *\n",
      ">>> x, y, z, t = symbols('x y z t')\n",
      ">>> k, m, n = symbols('k m n', integer=True)\n",
      ">>> f, g, h = symbols('f g h', cls=Function)\n",
      ">>> init_printing()\n",
      "\n",
      "Documentation can be found at https://docs.sympy.org/1.9/\n",
      "\n"
     ]
    }
   ],
   "source": [
    "from sympy import init_session\n",
    "init_session(use_latex=True)"
   ]
  },
  {
   "cell_type": "code",
   "execution_count": 2,
   "id": "65c55979",
   "metadata": {},
   "outputs": [],
   "source": [
    "import warnings\n",
    "import matplotlib.cbook\n",
    "warnings.filterwarnings(\"ignore\",category=matplotlib.cbook.mplDeprecation)"
   ]
  },
  {
   "cell_type": "code",
   "execution_count": 3,
   "id": "6998b67e",
   "metadata": {},
   "outputs": [],
   "source": [
    "t,rho,phi,z,dt,drho,dphi,dz = symbols('t rho phi z dt drho dphi dz')"
   ]
  },
  {
   "cell_type": "code",
   "execution_count": 4,
   "id": "37d1c824",
   "metadata": {},
   "outputs": [
    {
     "data": {
      "image/png": "[encoded data removed]",
      "text/latex": [
       "$\\displaystyle K{\\left(\\rho,t \\right)}$"
      ],
      "text/plain": [
       "K(ρ, t)"
      ]
     },
     "execution_count": 4,
     "metadata": {},
     "output_type": "execute_result"
    }
   ],
   "source": [
    "K = Function('K')(rho,t)\n",
    "K"
   ]
  },
  {
   "cell_type": "code",
   "execution_count": 5,
   "id": "c64cc548",
   "metadata": {},
   "outputs": [
    {
     "data": {
      "image/png": "[encoded data removed]",
      "text/latex": [
       "$\\displaystyle U{\\left(\\rho,t \\right)}$"
      ],
      "text/plain": [
       "U(ρ, t)"
      ]
     },
     "execution_count": 5,
     "metadata": {},
     "output_type": "execute_result"
    }
   ],
   "source": [
    "U = Function('U')(rho,t)\n",
    "U"
   ]
  },
  {
   "cell_type": "code",
   "execution_count": 6,
   "id": "cbf310c9",
   "metadata": {},
   "outputs": [
    {
     "data": {
      "text/latex": [
       "$\\displaystyle \\left[\\begin{matrix}t\\\\\\rho\\\\\\phi\\\\z\\end{matrix}\\right]$"
      ],
      "text/plain": [
       "⎡t⎤\n",
       "⎢ ⎥\n",
       "⎢ρ⎥\n",
       "⎢ ⎥\n",
       "⎢φ⎥\n",
       "⎢ ⎥\n",
       "⎣z⎦"
      ]
     },
     "execution_count": 6,
     "metadata": {},
     "output_type": "execute_result"
    }
   ],
   "source": [
    "variables = Matrix([t,rho,phi,z])\n",
    "variables"
   ]
  },
  {
   "cell_type": "code",
   "execution_count": 7,
   "id": "e6962adf",
   "metadata": {},
   "outputs": [
    {
     "data": {
      "text/latex": [
       "$\\displaystyle \\left[\\begin{matrix}dt\\\\drho\\\\dphi\\\\dz\\end{matrix}\\right]$"
      ],
      "text/plain": [
       "⎡ dt ⎤\n",
       "⎢    ⎥\n",
       "⎢drho⎥\n",
       "⎢    ⎥\n",
       "⎢dphi⎥\n",
       "⎢    ⎥\n",
       "⎣ dz ⎦"
      ]
     },
     "execution_count": 7,
     "metadata": {},
     "output_type": "execute_result"
    }
   ],
   "source": [
    "differentials = Matrix([dt,drho,dphi,dz])\n",
    "differentials "
   ]
  },
  {
   "cell_type": "code",
   "execution_count": 8,
   "id": "52df8b67",
   "metadata": {},
   "outputs": [
    {
     "data": {
      "image/png": "[encoded data removed]",
      "text/latex": [
       "$\\displaystyle - dphi^{2} \\rho^{2} e^{- 2 U{\\left(\\rho,t \\right)}} - drho^{2} e^{2 K{\\left(\\rho,t \\right)}} e^{- 2 U{\\left(\\rho,t \\right)}} + dt^{2} e^{2 K{\\left(\\rho,t \\right)}} e^{- 2 U{\\left(\\rho,t \\right)}} - dz^{2} e^{2 U{\\left(\\rho,t \\right)}}$"
      ],
      "text/plain": [
       "      2  2  -2⋅U(ρ, t)       2  2⋅K(ρ, t)  -2⋅U(ρ, t)     2  2⋅K(ρ, t)  -2⋅U(ρ, t)     2  2⋅\n",
       "- dphi ⋅ρ ⋅ℯ           - drho ⋅ℯ         ⋅ℯ           + dt ⋅ℯ         ⋅ℯ           - dz ⋅ℯ  \n",
       "\n",
       "U(ρ, t)\n",
       "       "
      ]
     },
     "execution_count": 8,
     "metadata": {},
     "output_type": "execute_result"
    }
   ],
   "source": [
    "lineElement = expand( exp(2*(K-U)) * (dt**2 - drho**2) - exp(2*U)*dz**2 - exp(-2*U)*rho**2*dphi**2 )\n",
    "lineElement"
   ]
  },
  {
   "cell_type": "code",
   "execution_count": 9,
   "id": "42e335f7",
   "metadata": {},
   "outputs": [
    {
     "data": {
      "text/latex": [
       "$\\displaystyle \\left[\\begin{matrix}e^{2 K{\\left(\\rho,t \\right)}} e^{- 2 U{\\left(\\rho,t \\right)}} & 0 & 0 & 0\\\\0 & - e^{2 K{\\left(\\rho,t \\right)}} e^{- 2 U{\\left(\\rho,t \\right)}} & 0 & 0\\\\0 & 0 & - \\rho^{2} e^{- 2 U{\\left(\\rho,t \\right)}} & 0\\\\0 & 0 & 0 & - e^{2 U{\\left(\\rho,t \\right)}}\\end{matrix}\\right]$"
      ],
      "text/plain": [
       "⎡ 2⋅K(ρ, t)  -2⋅U(ρ, t)                                                       ⎤\n",
       "⎢ℯ         ⋅ℯ                       0                    0              0     ⎥\n",
       "⎢                                                                             ⎥\n",
       "⎢                          2⋅K(ρ, t)  -2⋅U(ρ, t)                              ⎥\n",
       "⎢          0             -ℯ         ⋅ℯ                   0              0     ⎥\n",
       "⎢                                                                             ⎥\n",
       "⎢                                                   2  -2⋅U(ρ, t)             ⎥\n",
       "⎢          0                        0             -ρ ⋅ℯ                 0     ⎥\n",
       "⎢                                                                             ⎥\n",
       "⎢                                                                    2⋅U(ρ, t)⎥\n",
       "⎣          0                        0                    0         -ℯ         ⎦"
      ]
     },
     "execution_count": 9,
     "metadata": {},
     "output_type": "execute_result"
    }
   ],
   "source": [
    "g = zeros(4)\n",
    "\n",
    "for i in range(4):\n",
    "    for j in range(4):\n",
    "        if i == j:\n",
    "            g[i,j] = lineElement.coeff( differentials[i],2 ) \n",
    "        else:\n",
    "            g[i,j] = Rational(1,2)*lineElement.coeff( differentials[i]*differentials[j],1 )\n",
    "            \n",
    "g"
   ]
  },
  {
   "cell_type": "code",
   "execution_count": 10,
   "id": "63f7efba",
   "metadata": {},
   "outputs": [],
   "source": [
    "import sympy"
   ]
  },
  {
   "cell_type": "code",
   "execution_count": 11,
   "id": "d917417b",
   "metadata": {},
   "outputs": [
    {
     "data": {
      "text/latex": [
       "$\\displaystyle \\left[\\begin{matrix}e^{2 K{\\left(\\rho,t \\right)}} e^{- 2 U{\\left(\\rho,t \\right)}} & 0 & 0 & 0\\\\0 & - e^{2 K{\\left(\\rho,t \\right)}} e^{- 2 U{\\left(\\rho,t \\right)}} & 0 & 0\\\\0 & 0 & - \\rho^{2} e^{- 2 U{\\left(\\rho,t \\right)}} & 0\\\\0 & 0 & 0 & - e^{2 U{\\left(\\rho,t \\right)}}\\end{matrix}\\right]$"
      ],
      "text/plain": [
       "⎡ 2⋅K(ρ, t)  -2⋅U(ρ, t)                                                       ⎤\n",
       "⎢ℯ         ⋅ℯ                       0                    0              0     ⎥\n",
       "⎢                                                                             ⎥\n",
       "⎢                          2⋅K(ρ, t)  -2⋅U(ρ, t)                              ⎥\n",
       "⎢          0             -ℯ         ⋅ℯ                   0              0     ⎥\n",
       "⎢                                                                             ⎥\n",
       "⎢                                                   2  -2⋅U(ρ, t)             ⎥\n",
       "⎢          0                        0             -ρ ⋅ℯ                 0     ⎥\n",
       "⎢                                                                             ⎥\n",
       "⎢                                                                    2⋅U(ρ, t)⎥\n",
       "⎣          0                        0                    0         -ℯ         ⎦"
      ]
     },
     "execution_count": 11,
     "metadata": {},
     "output_type": "execute_result"
    }
   ],
   "source": [
    "m = sympy.Array(g)\n",
    "m"
   ]
  },
  {
   "cell_type": "code",
   "execution_count": 12,
   "id": "d2caa63c",
   "metadata": {},
   "outputs": [],
   "source": [
    "from einsteinpy.symbolic import *"
   ]
  },
  {
   "cell_type": "code",
   "execution_count": 13,
   "id": "b11f48e9",
   "metadata": {},
   "outputs": [],
   "source": [
    "syms = sympy.symbols(\"t rho phi z\")\n",
    "t,rho,phi,z = syms"
   ]
  },
  {
   "cell_type": "code",
   "execution_count": 14,
   "id": "19bf00e4",
   "metadata": {},
   "outputs": [],
   "source": [
    "metric = MetricTensor(m,syms)"
   ]
  },
  {
   "cell_type": "code",
   "execution_count": 15,
   "id": "384b83b6",
   "metadata": {},
   "outputs": [
    {
     "data": {
      "text/latex": [
       "$\\displaystyle \\left[\\begin{matrix}\\left[\\begin{matrix}\\frac{\\partial}{\\partial t} K{\\left(\\rho,t \\right)} - \\frac{\\partial}{\\partial t} U{\\left(\\rho,t \\right)} & \\frac{\\partial}{\\partial \\rho} K{\\left(\\rho,t \\right)} - \\frac{\\partial}{\\partial \\rho} U{\\left(\\rho,t \\right)} & 0 & 0\\\\\\frac{\\partial}{\\partial \\rho} K{\\left(\\rho,t \\right)} - \\frac{\\partial}{\\partial \\rho} U{\\left(\\rho,t \\right)} & \\frac{\\partial}{\\partial t} K{\\left(\\rho,t \\right)} - \\frac{\\partial}{\\partial t} U{\\left(\\rho,t \\right)} & 0 & 0\\\\0 & 0 & - \\rho^{2} e^{- 2 K{\\left(\\rho,t \\right)}} \\frac{\\partial}{\\partial t} U{\\left(\\rho,t \\right)} & 0\\\\0 & 0 & 0 & e^{- 2 K{\\left(\\rho,t \\right)} + 4 U{\\left(\\rho,t \\right)}} \\frac{\\partial}{\\partial t} U{\\left(\\rho,t \\right)}\\end{matrix}\\right] & \\left[\\begin{matrix}\\frac{\\partial}{\\partial \\rho} K{\\left(\\rho,t \\right)} - \\frac{\\partial}{\\partial \\rho} U{\\left(\\rho,t \\right)} & \\frac{\\partial}{\\partial t} K{\\left(\\rho,t \\right)} - \\frac{\\partial}{\\partial t} U{\\left(\\rho,t \\right)} & 0 & 0\\\\\\frac{\\partial}{\\partial t} K{\\left(\\rho,t \\right)} - \\frac{\\partial}{\\partial t} U{\\left(\\rho,t \\right)} & \\frac{\\partial}{\\partial \\rho} K{\\left(\\rho,t \\right)} - \\frac{\\partial}{\\partial \\rho} U{\\left(\\rho,t \\right)} & 0 & 0\\\\0 & 0 & \\rho \\left(\\rho \\frac{\\partial}{\\partial \\rho} U{\\left(\\rho,t \\right)} - 1\\right) e^{- 2 K{\\left(\\rho,t \\right)}} & 0\\\\0 & 0 & 0 & - e^{- 2 K{\\left(\\rho,t \\right)} + 4 U{\\left(\\rho,t \\right)}} \\frac{\\partial}{\\partial \\rho} U{\\left(\\rho,t \\right)}\\end{matrix}\\right] & \\left[\\begin{matrix}0 & 0 & - \\frac{\\partial}{\\partial t} U{\\left(\\rho,t \\right)} & 0\\\\0 & 0 & - \\frac{\\partial}{\\partial \\rho} U{\\left(\\rho,t \\right)} + \\frac{1}{\\rho} & 0\\\\- \\frac{\\partial}{\\partial t} U{\\left(\\rho,t \\right)} & - \\frac{\\partial}{\\partial \\rho} U{\\left(\\rho,t \\right)} + \\frac{1}{\\rho} & 0 & 0\\\\0 & 0 & 0 & 0\\end{matrix}\\right] & \\left[\\begin{matrix}0 & 0 & 0 & \\frac{\\partial}{\\partial t} U{\\left(\\rho,t \\right)}\\\\0 & 0 & 0 & \\frac{\\partial}{\\partial \\rho} U{\\left(\\rho,t \\right)}\\\\0 & 0 & 0 & 0\\\\\\frac{\\partial}{\\partial t} U{\\left(\\rho,t \\right)} & \\frac{\\partial}{\\partial \\rho} U{\\left(\\rho,t \\right)} & 0 & 0\\end{matrix}\\right]\\end{matrix}\\right]$"
      ],
      "text/plain": [
       "⎡⎡∂             ∂            ∂             ∂                                                \n",
       "⎢⎢──(K(ρ, t)) - ──(U(ρ, t))  ──(K(ρ, t)) - ──(U(ρ, t))               0                      \n",
       "⎢⎢∂t            ∂t           ∂ρ            ∂ρ                                               \n",
       "⎢⎢                                                                                          \n",
       "⎢⎢∂             ∂            ∂             ∂                                                \n",
       "⎢⎢──(K(ρ, t)) - ──(U(ρ, t))  ──(K(ρ, t)) - ──(U(ρ, t))               0                      \n",
       "⎢⎢∂ρ            ∂ρ           ∂t            ∂t                                               \n",
       "⎢⎢                                                                                          \n",
       "⎢⎢                                                        2  -2⋅K(ρ, t) ∂                   \n",
       "⎢⎢            0                          0              -ρ ⋅ℯ          ⋅──(U(ρ, t))         \n",
       "⎢⎢                                                                      ∂t                  \n",
       "⎢⎢                                                                                          \n",
       "⎢⎢                                                                                    -2⋅K(ρ\n",
       "⎢⎢            0                          0                           0               ℯ      \n",
       "⎣⎣                                                                                          \n",
       "\n",
       "                            ⎤  ⎡∂             ∂            ∂             ∂                  \n",
       "          0                 ⎥  ⎢──(K(ρ, t)) - ──(U(ρ, t))  ──(K(ρ, t)) - ──(U(ρ, t))        \n",
       "                            ⎥  ⎢∂ρ            ∂ρ           ∂t            ∂t                 \n",
       "                            ⎥  ⎢                                                            \n",
       "                            ⎥  ⎢∂             ∂            ∂             ∂                  \n",
       "          0                 ⎥  ⎢──(K(ρ, t)) - ──(U(ρ, t))  ──(K(ρ, t)) - ──(U(ρ, t))        \n",
       "                            ⎥  ⎢∂t            ∂t           ∂ρ            ∂ρ                 \n",
       "                            ⎥  ⎢                                                            \n",
       "                            ⎥  ⎢                                                        ⎛  ∂\n",
       "          0                 ⎥  ⎢            0                          0              ρ⋅⎜ρ⋅─\n",
       "                            ⎥  ⎢                                                        ⎝  ∂\n",
       "                            ⎥  ⎢                                                            \n",
       ", t) + 4⋅U(ρ, t) ∂          ⎥  ⎢                                                            \n",
       "                ⋅──(U(ρ, t))⎥  ⎢            0                          0                    \n",
       "                 ∂t         ⎦  ⎣                                                            \n",
       "\n",
       "                                                                 ⎤                          \n",
       "          0                                   0                  ⎥  ⎡                       \n",
       "                                                                 ⎥  ⎢     0                0\n",
       "                                                                 ⎥  ⎢                       \n",
       "                                                                 ⎥  ⎢                       \n",
       "          0                                   0                  ⎥  ⎢                       \n",
       "                                                                 ⎥  ⎢     0                0\n",
       "                                                                 ⎥  ⎢                       \n",
       "              ⎞  -2⋅K(ρ, t)                                      ⎥  ⎢                       \n",
       "─(U(ρ, t)) - 1⎟⋅ℯ                             0                  ⎥  ⎢ ∂              ∂      \n",
       "ρ             ⎠                                                  ⎥  ⎢-──(U(ρ, t))  - ──(U(ρ,\n",
       "                                                                 ⎥  ⎢ ∂t             ∂ρ     \n",
       "                               -2⋅K(ρ, t) + 4⋅U(ρ, t) ∂          ⎥  ⎢                       \n",
       "          0                  -ℯ                      ⋅──(U(ρ, t))⎥  ⎣     0                0\n",
       "                                                      ∂ρ         ⎦                          \n",
       "\n",
       "                                                                           ⎤\n",
       "             ∂                ⎤  ⎡                             ∂          ⎤⎥\n",
       "            -──(U(ρ, t))     0⎥  ⎢     0            0       0  ──(U(ρ, t))⎥⎥\n",
       "             ∂t               ⎥  ⎢                             ∂t         ⎥⎥\n",
       "                              ⎥  ⎢                                        ⎥⎥\n",
       "            ∂             1   ⎥  ⎢                             ∂          ⎥⎥\n",
       "          - ──(U(ρ, t)) + ─  0⎥  ⎢     0            0       0  ──(U(ρ, t))⎥⎥\n",
       "            ∂ρ            ρ   ⎥  ⎢                             ∂ρ         ⎥⎥\n",
       "                              ⎥  ⎢                                        ⎥⎥\n",
       "       1                      ⎥  ⎢     0            0       0       0     ⎥⎥\n",
       " t)) + ─          0          0⎥  ⎢                                        ⎥⎥\n",
       "       ρ                      ⎥  ⎢∂            ∂                          ⎥⎥\n",
       "                              ⎥  ⎢──(U(ρ, t))  ──(U(ρ, t))  0       0     ⎥⎥\n",
       "                  0          0⎦  ⎣∂t           ∂ρ                         ⎦⎥\n",
       "                                                                           ⎦"
      ]
     },
     "execution_count": 15,
     "metadata": {},
     "output_type": "execute_result"
    }
   ],
   "source": [
    "ch = ChristoffelSymbols.from_metric(metric)\n",
    "simplify(ch.tensor())"
   ]
  },
  {
   "cell_type": "code",
   "execution_count": 16,
   "id": "c5d5e535",
   "metadata": {},
   "outputs": [
    {
     "data": {
      "text/latex": [
       "$\\displaystyle \\left[\\begin{matrix}\\frac{\\rho \\left(\\frac{\\partial^{2}}{\\partial \\rho^{2}} K{\\left(\\rho,t \\right)} - \\frac{\\partial^{2}}{\\partial t^{2}} K{\\left(\\rho,t \\right)} - \\frac{\\partial^{2}}{\\partial \\rho^{2}} U{\\left(\\rho,t \\right)} - 2 \\left(\\frac{\\partial}{\\partial t} U{\\left(\\rho,t \\right)}\\right)^{2} + \\frac{\\partial^{2}}{\\partial t^{2}} U{\\left(\\rho,t \\right)}\\right) + \\frac{\\partial}{\\partial \\rho} K{\\left(\\rho,t \\right)} - \\frac{\\partial}{\\partial \\rho} U{\\left(\\rho,t \\right)}}{\\rho} & - 2 \\frac{\\partial}{\\partial \\rho} U{\\left(\\rho,t \\right)} \\frac{\\partial}{\\partial t} U{\\left(\\rho,t \\right)} + \\frac{\\frac{\\partial}{\\partial t} K{\\left(\\rho,t \\right)}}{\\rho} & 0 & 0\\\\- 2 \\frac{\\partial}{\\partial \\rho} U{\\left(\\rho,t \\right)} \\frac{\\partial}{\\partial t} U{\\left(\\rho,t \\right)} + \\frac{\\frac{\\partial}{\\partial t} K{\\left(\\rho,t \\right)}}{\\rho} & \\frac{\\rho \\left(- \\frac{\\partial^{2}}{\\partial \\rho^{2}} K{\\left(\\rho,t \\right)} + \\frac{\\partial^{2}}{\\partial t^{2}} K{\\left(\\rho,t \\right)} - 2 \\left(\\frac{\\partial}{\\partial \\rho} U{\\left(\\rho,t \\right)}\\right)^{2} + \\frac{\\partial^{2}}{\\partial \\rho^{2}} U{\\left(\\rho,t \\right)} - \\frac{\\partial^{2}}{\\partial t^{2}} U{\\left(\\rho,t \\right)}\\right) + \\frac{\\partial}{\\partial \\rho} K{\\left(\\rho,t \\right)} + \\frac{\\partial}{\\partial \\rho} U{\\left(\\rho,t \\right)}}{\\rho} & 0 & 0\\\\0 & 0 & \\rho \\left(\\rho \\frac{\\partial^{2}}{\\partial \\rho^{2}} U{\\left(\\rho,t \\right)} - \\rho \\frac{\\partial^{2}}{\\partial t^{2}} U{\\left(\\rho,t \\right)} + \\frac{\\partial}{\\partial \\rho} U{\\left(\\rho,t \\right)}\\right) e^{- 2 K{\\left(\\rho,t \\right)}} & 0\\\\0 & 0 & 0 & \\frac{\\left(- \\rho \\frac{\\partial^{2}}{\\partial \\rho^{2}} U{\\left(\\rho,t \\right)} + \\rho \\frac{\\partial^{2}}{\\partial t^{2}} U{\\left(\\rho,t \\right)} - \\frac{\\partial}{\\partial \\rho} U{\\left(\\rho,t \\right)}\\right) e^{- 2 K{\\left(\\rho,t \\right)} + 4 U{\\left(\\rho,t \\right)}}}{\\rho}\\end{matrix}\\right]$"
      ],
      "text/plain": [
       "⎡  ⎛  2              2              2                           2     2         ⎞           \n",
       "⎢  ⎜ ∂              ∂              ∂               ⎛∂          ⎞     ∂          ⎟   ∂       \n",
       "⎢ρ⋅⎜───(K(ρ, t)) - ───(K(ρ, t)) - ───(U(ρ, t)) - 2⋅⎜──(U(ρ, t))⎟  + ───(U(ρ, t))⎟ + ──(K(ρ, \n",
       "⎢  ⎜  2              2              2              ⎝∂t         ⎠      2         ⎟   ∂ρ      \n",
       "⎢  ⎝∂ρ             ∂t             ∂ρ                                ∂t          ⎠           \n",
       "⎢───────────────────────────────────────────────────────────────────────────────────────────\n",
       "⎢                                                     ρ                                     \n",
       "⎢                                                                                           \n",
       "⎢                                                                                           \n",
       "⎢                                                                                           \n",
       "⎢                                                               ∂                           \n",
       "⎢                                                               ──(K(ρ, t))                 \n",
       "⎢                                     ∂           ∂             ∂t                          \n",
       "⎢                                 - 2⋅──(U(ρ, t))⋅──(U(ρ, t)) + ───────────                 \n",
       "⎢                                     ∂ρ          ∂t                 ρ                      \n",
       "⎢                                                                                           \n",
       "⎢                                                                                           \n",
       "⎢                                                                                           \n",
       "⎢                                                     0                                     \n",
       "⎢                                                                                           \n",
       "⎢                                                                                           \n",
       "⎢                                                                                           \n",
       "⎢                                                                                           \n",
       "⎢                                                                                           \n",
       "⎢                                                                                           \n",
       "⎢                                                                                           \n",
       "⎢                                                                                           \n",
       "⎢                                                     0                                     \n",
       "⎣                                                                                           \n",
       "\n",
       "                                                                                            \n",
       "      ∂                                                                                     \n",
       "t)) - ──(U(ρ, t))                                                                  ∂        \n",
       "      ∂ρ                                                                           ──(K(ρ, t\n",
       "                                                         ∂           ∂             ∂t       \n",
       "─────────────────                                    - 2⋅──(U(ρ, t))⋅──(U(ρ, t)) + ─────────\n",
       "                                                         ∂ρ          ∂t                 ρ   \n",
       "                                                                                            \n",
       "                     ⎛    2              2                           2     2              2 \n",
       "                     ⎜   ∂              ∂               ⎛∂          ⎞     ∂              ∂  \n",
       "                   ρ⋅⎜- ───(K(ρ, t)) + ───(K(ρ, t)) - 2⋅⎜──(U(ρ, t))⎟  + ───(U(ρ, t)) - ───(\n",
       "                     ⎜    2              2              ⎝∂ρ         ⎠      2              2 \n",
       "                     ⎝  ∂ρ             ∂t                                ∂ρ             ∂t  \n",
       "                   ─────────────────────────────────────────────────────────────────────────\n",
       "                                                                         ρ                  \n",
       "                                                                                            \n",
       "                                                                                            \n",
       "                                                                                            \n",
       "                                                                         0                  \n",
       "                                                                                            \n",
       "                                                                                            \n",
       "                                                                                            \n",
       "                                                                                            \n",
       "                                                                                            \n",
       "                                                                                            \n",
       "                                                                                            \n",
       "                                                                                            \n",
       "                                                                         0                  \n",
       "                                                                                            \n",
       "\n",
       "                                                                                            \n",
       "                                                                                            \n",
       "                                                                                            \n",
       "))                                                                                          \n",
       "                                                                                            \n",
       "──                                                                   0                      \n",
       "                                                                                            \n",
       "                                                                                            \n",
       "        ⎞                                                                                   \n",
       "        ⎟   ∂             ∂                                                                 \n",
       "U(ρ, t))⎟ + ──(K(ρ, t)) + ──(U(ρ, t))                                                       \n",
       "        ⎟   ∂ρ            ∂ρ                                                                \n",
       "        ⎠                                                                                   \n",
       "─────────────────────────────────────                                0                      \n",
       "                                                                                            \n",
       "                                                                                            \n",
       "                                         ⎛    2                2                       ⎞    \n",
       "                                         ⎜   ∂                ∂             ∂          ⎟  -2\n",
       "                                       ρ⋅⎜ρ⋅───(U(ρ, t)) - ρ⋅───(U(ρ, t)) + ──(U(ρ, t))⎟⋅ℯ  \n",
       "                                         ⎜    2                2            ∂ρ         ⎟    \n",
       "                                         ⎝  ∂ρ               ∂t                        ⎠    \n",
       "                                                                                            \n",
       "                                                                                            \n",
       "                                                                                            \n",
       "                                                                                            \n",
       "                                                                                            \n",
       "                                                                                            \n",
       "                                                                     0                      \n",
       "                                                                                            \n",
       "\n",
       "                                                                                   ⎤\n",
       "                                                                                   ⎥\n",
       "                                                                                   ⎥\n",
       "                                                                                   ⎥\n",
       "                                                                                   ⎥\n",
       "                                              0                                    ⎥\n",
       "                                                                                   ⎥\n",
       "                                                                                   ⎥\n",
       "                                                                                   ⎥\n",
       "                                                                                   ⎥\n",
       "                                                                                   ⎥\n",
       "                                                                                   ⎥\n",
       "                                                                                   ⎥\n",
       "                                              0                                    ⎥\n",
       "                                                                                   ⎥\n",
       "                                                                                   ⎥\n",
       "                                                                                   ⎥\n",
       "⋅K(ρ, t)                                                                           ⎥\n",
       "                                              0                                    ⎥\n",
       "                                                                                   ⎥\n",
       "                                                                                   ⎥\n",
       "                                                                                   ⎥\n",
       "          ⎛      2                2                       ⎞                        ⎥\n",
       "          ⎜     ∂                ∂             ∂          ⎟  -2⋅K(ρ, t) + 4⋅U(ρ, t)⎥\n",
       "          ⎜- ρ⋅───(U(ρ, t)) + ρ⋅───(U(ρ, t)) - ──(U(ρ, t))⎟⋅ℯ                      ⎥\n",
       "          ⎜      2                2            ∂ρ         ⎟                        ⎥\n",
       "          ⎝    ∂ρ               ∂t                        ⎠                        ⎥\n",
       "          ─────────────────────────────────────────────────────────────────────────⎥\n",
       "                                              ρ                                    ⎦"
      ]
     },
     "execution_count": 16,
     "metadata": {},
     "output_type": "execute_result"
    }
   ],
   "source": [
    "Ric = RicciTensor.from_metric(metric)\n",
    "Ric.tensor()"
   ]
  },
  {
   "cell_type": "code",
   "execution_count": 17,
   "id": "3ddfe4f3",
   "metadata": {},
   "outputs": [
    {
     "data": {
      "image/png": "[encoded data removed]",
      "text/latex": [
       "$\\displaystyle \\frac{2 \\left(\\rho \\frac{\\partial^{2}}{\\partial \\rho^{2}} K{\\left(\\rho,t \\right)} - \\rho \\frac{\\partial^{2}}{\\partial t^{2}} K{\\left(\\rho,t \\right)} + \\rho \\left(\\frac{\\partial}{\\partial \\rho} U{\\left(\\rho,t \\right)}\\right)^{2} - \\rho \\frac{\\partial^{2}}{\\partial \\rho^{2}} U{\\left(\\rho,t \\right)} - \\rho \\left(\\frac{\\partial}{\\partial t} U{\\left(\\rho,t \\right)}\\right)^{2} + \\rho \\frac{\\partial^{2}}{\\partial t^{2}} U{\\left(\\rho,t \\right)} - \\frac{\\partial}{\\partial \\rho} U{\\left(\\rho,t \\right)}\\right) e^{- 2 K{\\left(\\rho,t \\right)} + 2 U{\\left(\\rho,t \\right)}}}{\\rho}$"
      ],
      "text/plain": [
       "  ⎛    2                2                           2       2                           2   \n",
       "  ⎜   ∂                ∂               ⎛∂          ⎞       ∂               ⎛∂          ⎞    \n",
       "2⋅⎜ρ⋅───(K(ρ, t)) - ρ⋅───(K(ρ, t)) + ρ⋅⎜──(U(ρ, t))⎟  - ρ⋅───(U(ρ, t)) - ρ⋅⎜──(U(ρ, t))⎟  + \n",
       "  ⎜    2                2              ⎝∂ρ         ⎠        2              ⎝∂t         ⎠    \n",
       "  ⎝  ∂ρ               ∂t                                  ∂ρ                                \n",
       "────────────────────────────────────────────────────────────────────────────────────────────\n",
       "                                                                        ρ                   \n",
       "\n",
       "    2                       ⎞                        \n",
       "   ∂             ∂          ⎟  -2⋅K(ρ, t) + 2⋅U(ρ, t)\n",
       "ρ⋅───(U(ρ, t)) - ──(U(ρ, t))⎟⋅ℯ                      \n",
       "    2            ∂ρ         ⎟                        \n",
       "  ∂t                        ⎠                        \n",
       "─────────────────────────────────────────────────────\n",
       "                                                     "
      ]
     },
     "execution_count": 17,
     "metadata": {},
     "output_type": "execute_result"
    }
   ],
   "source": [
    "R = RicciScalar.from_riccitensor(Ric)\n",
    "R.simplify()\n",
    "R.expr"
   ]
  },
  {
   "cell_type": "code",
   "execution_count": 18,
   "id": "75a5cae0",
   "metadata": {},
   "outputs": [
    {
     "data": {
      "text/latex": [
       "$\\displaystyle \\left[\\begin{matrix}\\frac{\\rho \\left(\\frac{\\partial^{2}}{\\partial \\rho^{2}} K{\\left(\\rho,t \\right)} - \\frac{\\partial^{2}}{\\partial t^{2}} K{\\left(\\rho,t \\right)} - \\frac{\\partial^{2}}{\\partial \\rho^{2}} U{\\left(\\rho,t \\right)} - 2 \\left(\\frac{\\partial}{\\partial t} U{\\left(\\rho,t \\right)}\\right)^{2} + \\frac{\\partial^{2}}{\\partial t^{2}} U{\\left(\\rho,t \\right)}\\right) + \\frac{\\partial}{\\partial \\rho} K{\\left(\\rho,t \\right)} - \\frac{\\partial}{\\partial \\rho} U{\\left(\\rho,t \\right)}}{\\rho} - \\frac{1.0 \\left(\\rho \\frac{\\partial^{2}}{\\partial \\rho^{2}} K{\\left(\\rho,t \\right)} - \\rho \\frac{\\partial^{2}}{\\partial t^{2}} K{\\left(\\rho,t \\right)} + \\rho \\left(\\frac{\\partial}{\\partial \\rho} U{\\left(\\rho,t \\right)}\\right)^{2} - \\rho \\frac{\\partial^{2}}{\\partial \\rho^{2}} U{\\left(\\rho,t \\right)} - \\rho \\left(\\frac{\\partial}{\\partial t} U{\\left(\\rho,t \\right)}\\right)^{2} + \\rho \\frac{\\partial^{2}}{\\partial t^{2}} U{\\left(\\rho,t \\right)} - \\frac{\\partial}{\\partial \\rho} U{\\left(\\rho,t \\right)}\\right) e^{- 2 K{\\left(\\rho,t \\right)} + 2 U{\\left(\\rho,t \\right)}} e^{2 K{\\left(\\rho,t \\right)}} e^{- 2 U{\\left(\\rho,t \\right)}}}{\\rho} & - 2 \\frac{\\partial}{\\partial \\rho} U{\\left(\\rho,t \\right)} \\frac{\\partial}{\\partial t} U{\\left(\\rho,t \\right)} + \\frac{\\frac{\\partial}{\\partial t} K{\\left(\\rho,t \\right)}}{\\rho} & 0 & 0\\\\- 2 \\frac{\\partial}{\\partial \\rho} U{\\left(\\rho,t \\right)} \\frac{\\partial}{\\partial t} U{\\left(\\rho,t \\right)} + \\frac{\\frac{\\partial}{\\partial t} K{\\left(\\rho,t \\right)}}{\\rho} & \\frac{\\rho \\left(- \\frac{\\partial^{2}}{\\partial \\rho^{2}} K{\\left(\\rho,t \\right)} + \\frac{\\partial^{2}}{\\partial t^{2}} K{\\left(\\rho,t \\right)} - 2 \\left(\\frac{\\partial}{\\partial \\rho} U{\\left(\\rho,t \\right)}\\right)^{2} + \\frac{\\partial^{2}}{\\partial \\rho^{2}} U{\\left(\\rho,t \\right)} - \\frac{\\partial^{2}}{\\partial t^{2}} U{\\left(\\rho,t \\right)}\\right) + \\frac{\\partial}{\\partial \\rho} K{\\left(\\rho,t \\right)} + \\frac{\\partial}{\\partial \\rho} U{\\left(\\rho,t \\right)}}{\\rho} + \\frac{1.0 \\left(\\rho \\frac{\\partial^{2}}{\\partial \\rho^{2}} K{\\left(\\rho,t \\right)} - \\rho \\frac{\\partial^{2}}{\\partial t^{2}} K{\\left(\\rho,t \\right)} + \\rho \\left(\\frac{\\partial}{\\partial \\rho} U{\\left(\\rho,t \\right)}\\right)^{2} - \\rho \\frac{\\partial^{2}}{\\partial \\rho^{2}} U{\\left(\\rho,t \\right)} - \\rho \\left(\\frac{\\partial}{\\partial t} U{\\left(\\rho,t \\right)}\\right)^{2} + \\rho \\frac{\\partial^{2}}{\\partial t^{2}} U{\\left(\\rho,t \\right)} - \\frac{\\partial}{\\partial \\rho} U{\\left(\\rho,t \\right)}\\right) e^{- 2 K{\\left(\\rho,t \\right)} + 2 U{\\left(\\rho,t \\right)}} e^{2 K{\\left(\\rho,t \\right)}} e^{- 2 U{\\left(\\rho,t \\right)}}}{\\rho} & 0 & 0\\\\0 & 0 & \\rho \\left(\\rho \\frac{\\partial^{2}}{\\partial \\rho^{2}} U{\\left(\\rho,t \\right)} - \\rho \\frac{\\partial^{2}}{\\partial t^{2}} U{\\left(\\rho,t \\right)} + \\frac{\\partial}{\\partial \\rho} U{\\left(\\rho,t \\right)}\\right) e^{- 2 K{\\left(\\rho,t \\right)}} + 1.0 \\rho \\left(\\rho \\frac{\\partial^{2}}{\\partial \\rho^{2}} K{\\left(\\rho,t \\right)} - \\rho \\frac{\\partial^{2}}{\\partial t^{2}} K{\\left(\\rho,t \\right)} + \\rho \\left(\\frac{\\partial}{\\partial \\rho} U{\\left(\\rho,t \\right)}\\right)^{2} - \\rho \\frac{\\partial^{2}}{\\partial \\rho^{2}} U{\\left(\\rho,t \\right)} - \\rho \\left(\\frac{\\partial}{\\partial t} U{\\left(\\rho,t \\right)}\\right)^{2} + \\rho \\frac{\\partial^{2}}{\\partial t^{2}} U{\\left(\\rho,t \\right)} - \\frac{\\partial}{\\partial \\rho} U{\\left(\\rho,t \\right)}\\right) e^{- 2 K{\\left(\\rho,t \\right)} + 2 U{\\left(\\rho,t \\right)}} e^{- 2 U{\\left(\\rho,t \\right)}} & 0\\\\0 & 0 & 0 & \\frac{\\left(- \\rho \\frac{\\partial^{2}}{\\partial \\rho^{2}} U{\\left(\\rho,t \\right)} + \\rho \\frac{\\partial^{2}}{\\partial t^{2}} U{\\left(\\rho,t \\right)} - \\frac{\\partial}{\\partial \\rho} U{\\left(\\rho,t \\right)}\\right) e^{- 2 K{\\left(\\rho,t \\right)} + 4 U{\\left(\\rho,t \\right)}}}{\\rho} + \\frac{1.0 \\left(\\rho \\frac{\\partial^{2}}{\\partial \\rho^{2}} K{\\left(\\rho,t \\right)} - \\rho \\frac{\\partial^{2}}{\\partial t^{2}} K{\\left(\\rho,t \\right)} + \\rho \\left(\\frac{\\partial}{\\partial \\rho} U{\\left(\\rho,t \\right)}\\right)^{2} - \\rho \\frac{\\partial^{2}}{\\partial \\rho^{2}} U{\\left(\\rho,t \\right)} - \\rho \\left(\\frac{\\partial}{\\partial t} U{\\left(\\rho,t \\right)}\\right)^{2} + \\rho \\frac{\\partial^{2}}{\\partial t^{2}} U{\\left(\\rho,t \\right)} - \\frac{\\partial}{\\partial \\rho} U{\\left(\\rho,t \\right)}\\right) e^{- 2 K{\\left(\\rho,t \\right)} + 2 U{\\left(\\rho,t \\right)}} e^{2 U{\\left(\\rho,t \\right)}}}{\\rho}\\end{matrix}\\right]$"
      ],
      "text/plain": [
       "⎡  ⎛  2              2              2                           2     2         ⎞           \n",
       "⎢  ⎜ ∂              ∂              ∂               ⎛∂          ⎞     ∂          ⎟   ∂       \n",
       "⎢ρ⋅⎜───(K(ρ, t)) - ───(K(ρ, t)) - ───(U(ρ, t)) - 2⋅⎜──(U(ρ, t))⎟  + ───(U(ρ, t))⎟ + ──(K(ρ, \n",
       "⎢  ⎜  2              2              2              ⎝∂t         ⎠      2         ⎟   ∂ρ      \n",
       "⎢  ⎝∂ρ             ∂t             ∂ρ                                ∂t          ⎠           \n",
       "⎢───────────────────────────────────────────────────────────────────────────────────────────\n",
       "⎢                                                     ρ                                     \n",
       "⎢                                                                                           \n",
       "⎢                                                                                           \n",
       "⎢                                                                                           \n",
       "⎢                                                                                           \n",
       "⎢                                                                                           \n",
       "⎢                                                                                           \n",
       "⎢                                                                                           \n",
       "⎢                                                                                           \n",
       "⎢                                                                                           \n",
       "⎢                                                                                           \n",
       "⎢                                                                                           \n",
       "⎢                                                                                           \n",
       "⎢                                                                                           \n",
       "⎢                                                                                           \n",
       "⎢                                                                                           \n",
       "⎢                                                                                           \n",
       "⎢                                                                                           \n",
       "⎢                                                                                           \n",
       "⎢                                                                                           \n",
       "⎢                                                                                           \n",
       "⎢                                                                                           \n",
       "⎣                                                                                           \n",
       "\n",
       "                    ⎛    2                2                           2       2             \n",
       "      ∂             ⎜   ∂                ∂               ⎛∂          ⎞       ∂              \n",
       "t)) - ──(U(ρ, t))   ⎜ρ⋅───(K(ρ, t)) - ρ⋅───(K(ρ, t)) + ρ⋅⎜──(U(ρ, t))⎟  - ρ⋅───(U(ρ, t)) - ρ\n",
       "      ∂ρ            ⎜    2                2              ⎝∂ρ         ⎠        2             \n",
       "                    ⎝  ∂ρ               ∂t                                  ∂ρ              \n",
       "───────────────── - ────────────────────────────────────────────────────────────────────────\n",
       "                                                                                            \n",
       "                                                                                            \n",
       "                                                                                            \n",
       "                                                                                            \n",
       "                                                         ∂                                  \n",
       "                                                         ──(K(ρ, t))                        \n",
       "                               ∂           ∂             ∂t                                 \n",
       "                           - 2⋅──(U(ρ, t))⋅──(U(ρ, t)) + ───────────                        \n",
       "                               ∂ρ          ∂t                 ρ                             \n",
       "                                                                                            \n",
       "                                                                                            \n",
       "                                                                                            \n",
       "                                               0                                            \n",
       "                                                                                            \n",
       "                                                                                            \n",
       "                                                                                            \n",
       "                                                                                            \n",
       "                                                                                            \n",
       "                                                                                            \n",
       "                                                                                            \n",
       "                                                                                            \n",
       "                                               0                                            \n",
       "                                                                                            \n",
       "\n",
       "              2       2                       ⎞                                             \n",
       " ⎛∂          ⎞       ∂             ∂          ⎟  -2⋅K(ρ, t) + 2⋅U(ρ, t)  2⋅K(ρ, t)  -2⋅U(ρ, \n",
       "⋅⎜──(U(ρ, t))⎟  + ρ⋅───(U(ρ, t)) - ──(U(ρ, t))⎟⋅ℯ                      ⋅ℯ         ⋅ℯ        \n",
       " ⎝∂t         ⎠        2            ∂ρ         ⎟                                             \n",
       "                    ∂t                        ⎠                                             \n",
       "────────────────────────────────────────────────────────────────────────────────────────────\n",
       "          ρ                                                                                 \n",
       "                                                                                            \n",
       "                                                                                            \n",
       "                                                                                            \n",
       "                                                                                            \n",
       "                                                                                            \n",
       "                                                                                            \n",
       "                                                                                            \n",
       "                                                                                            \n",
       "                                                                                            \n",
       "                                                                                            \n",
       "                                                                                            \n",
       "                                                                                            \n",
       "                                                                                            \n",
       "                                                                                            \n",
       "                                                                                            \n",
       "                                                                                            \n",
       "                                                                                            \n",
       "                                                                                            \n",
       "                                                                                            \n",
       "                                                                                            \n",
       "                                                                                            \n",
       "                                                                                            \n",
       "\n",
       "                                                                                            \n",
       "t)                                                                                          \n",
       "                                                                                            \n",
       "                                                                                            \n",
       "                                                                                            \n",
       "──                                                                                          \n",
       "                                                                                            \n",
       "                                                                                            \n",
       "      ⎛    2              2                           2     2              2         ⎞      \n",
       "      ⎜   ∂              ∂               ⎛∂          ⎞     ∂              ∂          ⎟   ∂  \n",
       "    ρ⋅⎜- ───(K(ρ, t)) + ───(K(ρ, t)) - 2⋅⎜──(U(ρ, t))⎟  + ───(U(ρ, t)) - ───(U(ρ, t))⎟ + ──(\n",
       "      ⎜    2              2              ⎝∂ρ         ⎠      2              2         ⎟   ∂ρ \n",
       "      ⎝  ∂ρ             ∂t                                ∂ρ             ∂t          ⎠      \n",
       "    ────────────────────────────────────────────────────────────────────────────────────────\n",
       "                                                          ρ                                 \n",
       "                                                                                            \n",
       "                                                                                            \n",
       "                                                                                            \n",
       "                                                                                            \n",
       "                                                                                            \n",
       "                                                                                            \n",
       "                                                                                            \n",
       "                                                                                            \n",
       "                                                                                            \n",
       "                                                                                            \n",
       "                                                                                            \n",
       "                                                                                            \n",
       "                                                                                            \n",
       "                                                                                            \n",
       "\n",
       "                                                                                            \n",
       "                                                                                            \n",
       "                                                               ∂                            \n",
       "                                                               ──(K(ρ, t))                  \n",
       "                                     ∂           ∂             ∂t                           \n",
       "                                 - 2⋅──(U(ρ, t))⋅──(U(ρ, t)) + ───────────                  \n",
       "                                     ∂ρ          ∂t                 ρ                       \n",
       "                                                                                            \n",
       "                             ⎛    2                2                           2       2    \n",
       "           ∂                 ⎜   ∂                ∂               ⎛∂          ⎞       ∂     \n",
       "K(ρ, t)) + ──(U(ρ, t))   1.0⋅⎜ρ⋅───(K(ρ, t)) - ρ⋅───(K(ρ, t)) + ρ⋅⎜──(U(ρ, t))⎟  - ρ⋅───(U(ρ\n",
       "           ∂ρ                ⎜    2                2              ⎝∂ρ         ⎠        2    \n",
       "                             ⎝  ∂ρ               ∂t                                  ∂ρ     \n",
       "────────────────────── + ───────────────────────────────────────────────────────────────────\n",
       "                                                                                            \n",
       "                                                                                            \n",
       "                                                                                            \n",
       "                                                                                            \n",
       "                                                     0                                      \n",
       "                                                                                            \n",
       "                                                                                            \n",
       "                                                                                            \n",
       "                                                                                            \n",
       "                                                                                            \n",
       "                                                                                            \n",
       "                                                                                            \n",
       "                                                                                            \n",
       "                                                     0                                      \n",
       "                                                                                            \n",
       "\n",
       "                                                                                            \n",
       "                                                                                            \n",
       "                                                                                            \n",
       "                                                                                            \n",
       "                                                                                            \n",
       "                                                                                            \n",
       "                                                                                            \n",
       "                                                                                            \n",
       "                       2       2                       ⎞                                    \n",
       "          ⎛∂          ⎞       ∂             ∂          ⎟  -2⋅K(ρ, t) + 2⋅U(ρ, t)  2⋅K(ρ, t) \n",
       ", t)) - ρ⋅⎜──(U(ρ, t))⎟  + ρ⋅───(U(ρ, t)) - ──(U(ρ, t))⎟⋅ℯ                      ⋅ℯ         ⋅\n",
       "          ⎝∂t         ⎠        2            ∂ρ         ⎟                                    \n",
       "                             ∂t                        ⎠                                    \n",
       "────────────────────────────────────────────────────────────────────────────────────────────\n",
       "                 ρ                                                                          \n",
       "                                                                                            \n",
       "                                                                                            \n",
       "                                                                                            \n",
       "                                                                                            \n",
       "                                                                                            \n",
       "                                                                                            \n",
       "                                                                                            \n",
       "                                                                                            \n",
       "                                                                                            \n",
       "                                                                                            \n",
       "                                                                                            \n",
       "                                                                                            \n",
       "                                                                                            \n",
       "                                                                                            \n",
       "\n",
       "                                                                                            \n",
       "                                                                                            \n",
       "                                                                                            \n",
       "                                                                                            \n",
       "                                                                                            \n",
       "                                                                                            \n",
       "                                                                                            \n",
       "                                                                                            \n",
       "                                                                                            \n",
       " -2⋅U(ρ, t)                                                                                 \n",
       "ℯ                                                                                           \n",
       "                                                                                            \n",
       "                                                                                            \n",
       "───────────                                                                                 \n",
       "                                                                                            \n",
       "                                                                                            \n",
       "               ⎛    2                2                       ⎞                     ⎛    2   \n",
       "               ⎜   ∂                ∂             ∂          ⎟  -2⋅K(ρ, t)         ⎜   ∂    \n",
       "             ρ⋅⎜ρ⋅───(U(ρ, t)) - ρ⋅───(U(ρ, t)) + ──(U(ρ, t))⎟⋅ℯ           + 1.0⋅ρ⋅⎜ρ⋅───(K(\n",
       "               ⎜    2                2            ∂ρ         ⎟                     ⎜    2   \n",
       "               ⎝  ∂ρ               ∂t                        ⎠                     ⎝  ∂ρ    \n",
       "                                                                                            \n",
       "                                                                                            \n",
       "                                                                                            \n",
       "                                                                                            \n",
       "                                                                                            \n",
       "                                                                                            \n",
       "                                                                                            \n",
       "                                                                                            \n",
       "\n",
       "                                                                                            \n",
       "                                                                                            \n",
       "                                                                                            \n",
       "                                                                                            \n",
       "                                                                                            \n",
       "                                 0                                                          \n",
       "                                                                                            \n",
       "                                                                                            \n",
       "                                                                                            \n",
       "                                                                                            \n",
       "                                                                                            \n",
       "                                                                                            \n",
       "                                                                                            \n",
       "                                 0                                                          \n",
       "                                                                                            \n",
       "                                                                                            \n",
       "             2                           2       2                           2       2      \n",
       "            ∂               ⎛∂          ⎞       ∂               ⎛∂          ⎞       ∂       \n",
       "ρ, t)) - ρ⋅───(K(ρ, t)) + ρ⋅⎜──(U(ρ, t))⎟  - ρ⋅───(U(ρ, t)) - ρ⋅⎜──(U(ρ, t))⎟  + ρ⋅───(U(ρ, \n",
       "             2              ⎝∂ρ         ⎠        2              ⎝∂t         ⎠        2      \n",
       "           ∂t                                  ∂ρ                                  ∂t       \n",
       "                                                                                            \n",
       "                                                                                            \n",
       "                                                                                            \n",
       "                                                                                            \n",
       "                                                                                            \n",
       "                                                                                            \n",
       "                                 0                                                          \n",
       "                                                                                            \n",
       "\n",
       "                                                                                            \n",
       "                                                                                            \n",
       "                                                                                            \n",
       "                                                                                            \n",
       "                                                                                            \n",
       "                                                                                            \n",
       "                                                                                            \n",
       "                                                                                            \n",
       "                                                                                            \n",
       "                                                                                            \n",
       "                                                                                            \n",
       "                                                                                            \n",
       "                                                                                            \n",
       "                                                                                            \n",
       "                                                                                            \n",
       "                                                                                            \n",
       "                 ⎞                                                                          \n",
       "      ∂          ⎟  -2⋅K(ρ, t) + 2⋅U(ρ, t)  -2⋅U(ρ, t)                                      \n",
       "t)) - ──(U(ρ, t))⎟⋅ℯ                      ⋅ℯ                                                \n",
       "      ∂ρ         ⎟                                                                          \n",
       "                 ⎠                                                                          \n",
       "                                                                                            \n",
       "                                                        ⎛      2                2           \n",
       "                                                        ⎜     ∂                ∂            \n",
       "                                                        ⎜- ρ⋅───(U(ρ, t)) + ρ⋅───(U(ρ, t)) -\n",
       "                                                        ⎜      2                2           \n",
       "                                                        ⎝    ∂ρ               ∂t            \n",
       "                                                        ────────────────────────────────────\n",
       "                                                                                            \n",
       "\n",
       "                                                                                            \n",
       "                                                                                            \n",
       "                                                                                            \n",
       "                                                                                            \n",
       "                                                                                            \n",
       "                                                                                0           \n",
       "                                                                                            \n",
       "                                                                                            \n",
       "                                                                                            \n",
       "                                                                                            \n",
       "                                                                                            \n",
       "                                                                                            \n",
       "                                                                                            \n",
       "                                                                                0           \n",
       "                                                                                            \n",
       "                                                                                            \n",
       "                                                                                            \n",
       "                                                                                            \n",
       "                                                                                0           \n",
       "                                                                                            \n",
       "                                                                                            \n",
       "                                                                                            \n",
       "            ⎞                               ⎛    2                2                         \n",
       " ∂          ⎟  -2⋅K(ρ, t) + 4⋅U(ρ, t)       ⎜   ∂                ∂               ⎛∂         \n",
       " ──(U(ρ, t))⎟⋅ℯ                         1.0⋅⎜ρ⋅───(K(ρ, t)) - ρ⋅───(K(ρ, t)) + ρ⋅⎜──(U(ρ, t)\n",
       " ∂ρ         ⎟                               ⎜    2                2              ⎝∂ρ        \n",
       "            ⎠                               ⎝  ∂ρ               ∂t                          \n",
       "───────────────────────────────────── + ────────────────────────────────────────────────────\n",
       "ρ                                                                                           \n",
       "\n",
       "                                                                                            \n",
       "                                                                                            \n",
       "                                                                                            \n",
       "                                                                                            \n",
       "                                                                                            \n",
       "                                                                                            \n",
       "                                                                                            \n",
       "                                                                                            \n",
       "                                                                                            \n",
       "                                                                                            \n",
       "                                                                                            \n",
       "                                                                                            \n",
       "                                                                                            \n",
       "                                                                                            \n",
       "                                                                                            \n",
       "                                                                                            \n",
       "                                                                                            \n",
       "                                                                                            \n",
       "                                                                                            \n",
       "                                                                                            \n",
       "                                                                                            \n",
       "                                                                                            \n",
       "  2       2                           2       2                       ⎞                     \n",
       " ⎞       ∂               ⎛∂          ⎞       ∂             ∂          ⎟  -2⋅K(ρ, t) + 2⋅U(ρ,\n",
       ")⎟  - ρ⋅───(U(ρ, t)) - ρ⋅⎜──(U(ρ, t))⎟  + ρ⋅───(U(ρ, t)) - ──(U(ρ, t))⎟⋅ℯ                   \n",
       " ⎠        2              ⎝∂t         ⎠        2            ∂ρ         ⎟                     \n",
       "        ∂ρ                                  ∂t                        ⎠                     \n",
       "────────────────────────────────────────────────────────────────────────────────────────────\n",
       "                          ρ                                                                 \n",
       "\n",
       "              ⎤\n",
       "              ⎥\n",
       "              ⎥\n",
       "              ⎥\n",
       "              ⎥\n",
       "              ⎥\n",
       "              ⎥\n",
       "              ⎥\n",
       "              ⎥\n",
       "              ⎥\n",
       "              ⎥\n",
       "              ⎥\n",
       "              ⎥\n",
       "              ⎥\n",
       "              ⎥\n",
       "              ⎥\n",
       "              ⎥\n",
       "              ⎥\n",
       "              ⎥\n",
       "              ⎥\n",
       "              ⎥\n",
       "              ⎥\n",
       "              ⎥\n",
       " t)  2⋅U(ρ, t)⎥\n",
       "   ⋅ℯ         ⎥\n",
       "              ⎥\n",
       "              ⎥\n",
       "──────────────⎥\n",
       "              ⎦"
      ]
     },
     "execution_count": 18,
     "metadata": {},
     "output_type": "execute_result"
    }
   ],
   "source": [
    "einst = EinsteinTensor.from_metric(metric)\n",
    "einst.tensor()"
   ]
  },
  {
   "cell_type": "code",
   "execution_count": 19,
   "id": "0688e4bf",
   "metadata": {},
   "outputs": [],
   "source": [
    "#  rm1 = RiemannCurvatureTensor.from_christoffels(ch)\n",
    "#  rm1.tensor()"
   ]
  },
  {
   "cell_type": "code",
   "execution_count": 20,
   "id": "4fd53e1e",
   "metadata": {},
   "outputs": [],
   "source": [
    "#  weyl = WeylTensor.from_metric(metric)\n",
    "#  weyl.tensor()"
   ]
  },
  {
   "cell_type": "code",
   "execution_count": 21,
   "id": "fd59076a",
   "metadata": {},
   "outputs": [
    {
     "data": {
      "text/latex": [
       "$\\displaystyle \\left[\\begin{matrix}\\frac{- \\rho \\left(- \\frac{\\partial^{2}}{\\partial \\rho^{2}} K{\\left(\\rho,t \\right)} + \\frac{\\partial^{2}}{\\partial t^{2}} K{\\left(\\rho,t \\right)} + \\frac{\\partial^{2}}{\\partial \\rho^{2}} U{\\left(\\rho,t \\right)} + 2 \\left(\\frac{\\partial}{\\partial t} U{\\left(\\rho,t \\right)}\\right)^{2} - \\frac{\\partial^{2}}{\\partial t^{2}} U{\\left(\\rho,t \\right)}\\right) + \\frac{\\partial}{\\partial \\rho} K{\\left(\\rho,t \\right)} - \\frac{\\partial}{\\partial \\rho} U{\\left(\\rho,t \\right)}}{\\rho} & - 2 \\frac{\\partial}{\\partial \\rho} U{\\left(\\rho,t \\right)} \\frac{\\partial}{\\partial t} U{\\left(\\rho,t \\right)} + \\frac{\\frac{\\partial}{\\partial t} K{\\left(\\rho,t \\right)}}{\\rho} & 0 & 0\\\\- 2 \\frac{\\partial}{\\partial \\rho} U{\\left(\\rho,t \\right)} \\frac{\\partial}{\\partial t} U{\\left(\\rho,t \\right)} + \\frac{\\frac{\\partial}{\\partial t} K{\\left(\\rho,t \\right)}}{\\rho} & \\frac{- \\rho \\left(\\frac{\\partial^{2}}{\\partial \\rho^{2}} K{\\left(\\rho,t \\right)} - \\frac{\\partial^{2}}{\\partial t^{2}} K{\\left(\\rho,t \\right)} + 2 \\left(\\frac{\\partial}{\\partial \\rho} U{\\left(\\rho,t \\right)}\\right)^{2} - \\frac{\\partial^{2}}{\\partial \\rho^{2}} U{\\left(\\rho,t \\right)} + \\frac{\\partial^{2}}{\\partial t^{2}} U{\\left(\\rho,t \\right)}\\right) + \\frac{\\partial}{\\partial \\rho} K{\\left(\\rho,t \\right)} + \\frac{\\partial}{\\partial \\rho} U{\\left(\\rho,t \\right)}}{\\rho} & 0 & 0\\\\0 & 0 & \\rho \\left(\\rho \\frac{\\partial^{2}}{\\partial \\rho^{2}} U{\\left(\\rho,t \\right)} - \\rho \\frac{\\partial^{2}}{\\partial t^{2}} U{\\left(\\rho,t \\right)} + \\frac{\\partial}{\\partial \\rho} U{\\left(\\rho,t \\right)}\\right) e^{- 2 K{\\left(\\rho,t \\right)}} & 0\\\\0 & 0 & 0 & \\frac{\\left(- \\rho \\frac{\\partial^{2}}{\\partial \\rho^{2}} U{\\left(\\rho,t \\right)} + \\rho \\frac{\\partial^{2}}{\\partial t^{2}} U{\\left(\\rho,t \\right)} - \\frac{\\partial}{\\partial \\rho} U{\\left(\\rho,t \\right)}\\right) e^{- 2 K{\\left(\\rho,t \\right)} + 4 U{\\left(\\rho,t \\right)}}}{\\rho}\\end{matrix}\\right]$"
      ],
      "text/plain": [
       "⎡    ⎛    2              2              2                           2     2         ⎞       \n",
       "⎢    ⎜   ∂              ∂              ∂               ⎛∂          ⎞     ∂          ⎟   ∂   \n",
       "⎢- ρ⋅⎜- ───(K(ρ, t)) + ───(K(ρ, t)) + ───(U(ρ, t)) + 2⋅⎜──(U(ρ, t))⎟  - ───(U(ρ, t))⎟ + ──(K\n",
       "⎢    ⎜    2              2              2              ⎝∂t         ⎠      2         ⎟   ∂ρ  \n",
       "⎢    ⎝  ∂ρ             ∂t             ∂ρ                                ∂t          ⎠       \n",
       "⎢───────────────────────────────────────────────────────────────────────────────────────────\n",
       "⎢                                                       ρ                                   \n",
       "⎢                                                                                           \n",
       "⎢                                                                                           \n",
       "⎢                                                                                           \n",
       "⎢                                                                 ∂                         \n",
       "⎢                                                                 ──(K(ρ, t))               \n",
       "⎢                                       ∂           ∂             ∂t                        \n",
       "⎢                                   - 2⋅──(U(ρ, t))⋅──(U(ρ, t)) + ───────────               \n",
       "⎢                                       ∂ρ          ∂t                 ρ                    \n",
       "⎢                                                                                           \n",
       "⎢                                                                                           \n",
       "⎢                                                                                           \n",
       "⎢                                                       0                                   \n",
       "⎢                                                                                           \n",
       "⎢                                                                                           \n",
       "⎢                                                                                           \n",
       "⎢                                                                                           \n",
       "⎢                                                                                           \n",
       "⎢                                                                                           \n",
       "⎢                                                                                           \n",
       "⎢                                                                                           \n",
       "⎢                                                       0                                   \n",
       "⎣                                                                                           \n",
       "\n",
       "                                                                                            \n",
       "          ∂                                                                                 \n",
       "(ρ, t)) - ──(U(ρ, t))                                                                  ∂    \n",
       "          ∂ρ                                                                           ──(K(\n",
       "                                                             ∂           ∂             ∂t   \n",
       "─────────────────────                                    - 2⋅──(U(ρ, t))⋅──(U(ρ, t)) + ─────\n",
       "                                                             ∂ρ          ∂t                 \n",
       "                                                                                            \n",
       "                           ⎛  2              2                           2     2            \n",
       "                           ⎜ ∂              ∂               ⎛∂          ⎞     ∂             \n",
       "                       - ρ⋅⎜───(K(ρ, t)) - ───(K(ρ, t)) + 2⋅⎜──(U(ρ, t))⎟  - ───(U(ρ, t)) + \n",
       "                           ⎜  2              2              ⎝∂ρ         ⎠      2            \n",
       "                           ⎝∂ρ             ∂t                                ∂ρ             \n",
       "                       ─────────────────────────────────────────────────────────────────────\n",
       "                                                                             ρ              \n",
       "                                                                                            \n",
       "                                                                                            \n",
       "                                                                                            \n",
       "                                                                             0              \n",
       "                                                                                            \n",
       "                                                                                            \n",
       "                                                                                            \n",
       "                                                                                            \n",
       "                                                                                            \n",
       "                                                                                            \n",
       "                                                                                            \n",
       "                                                                                            \n",
       "                                                                             0              \n",
       "                                                                                            \n",
       "\n",
       "                                                                                            \n",
       "                                                                                            \n",
       "                                                                                            \n",
       "ρ, t))                                                                                      \n",
       "                                                                                            \n",
       "──────                                                                   0                  \n",
       "ρ                                                                                           \n",
       "                                                                                            \n",
       "  2         ⎞                                                                               \n",
       " ∂          ⎟   ∂             ∂                                                             \n",
       "───(U(ρ, t))⎟ + ──(K(ρ, t)) + ──(U(ρ, t))                                                   \n",
       "  2         ⎟   ∂ρ            ∂ρ                                                            \n",
       "∂t          ⎠                                                                               \n",
       "─────────────────────────────────────────                                0                  \n",
       "                                                                                            \n",
       "                                                                                            \n",
       "                                             ⎛    2                2                       ⎞\n",
       "                                             ⎜   ∂                ∂             ∂          ⎟\n",
       "                                           ρ⋅⎜ρ⋅───(U(ρ, t)) - ρ⋅───(U(ρ, t)) + ──(U(ρ, t))⎟\n",
       "                                             ⎜    2                2            ∂ρ         ⎟\n",
       "                                             ⎝  ∂ρ               ∂t                        ⎠\n",
       "                                                                                            \n",
       "                                                                                            \n",
       "                                                                                            \n",
       "                                                                                            \n",
       "                                                                                            \n",
       "                                                                                            \n",
       "                                                                         0                  \n",
       "                                                                                            \n",
       "\n",
       "                                                                                       ⎤\n",
       "                                                                                       ⎥\n",
       "                                                                                       ⎥\n",
       "                                                                                       ⎥\n",
       "                                                                                       ⎥\n",
       "                                                  0                                    ⎥\n",
       "                                                                                       ⎥\n",
       "                                                                                       ⎥\n",
       "                                                                                       ⎥\n",
       "                                                                                       ⎥\n",
       "                                                                                       ⎥\n",
       "                                                                                       ⎥\n",
       "                                                                                       ⎥\n",
       "                                                  0                                    ⎥\n",
       "                                                                                       ⎥\n",
       "                                                                                       ⎥\n",
       "                                                                                       ⎥\n",
       "  -2⋅K(ρ, t)                                                                           ⎥\n",
       "⋅ℯ                                                0                                    ⎥\n",
       "                                                                                       ⎥\n",
       "                                                                                       ⎥\n",
       "                                                                                       ⎥\n",
       "              ⎛      2                2                       ⎞                        ⎥\n",
       "              ⎜     ∂                ∂             ∂          ⎟  -2⋅K(ρ, t) + 4⋅U(ρ, t)⎥\n",
       "              ⎜- ρ⋅───(U(ρ, t)) + ρ⋅───(U(ρ, t)) - ──(U(ρ, t))⎟⋅ℯ                      ⎥\n",
       "              ⎜      2                2            ∂ρ         ⎟                        ⎥\n",
       "              ⎝    ∂ρ               ∂t                        ⎠                        ⎥\n",
       "              ─────────────────────────────────────────────────────────────────────────⎥\n",
       "                                                  ρ                                    ⎦"
      ]
     },
     "execution_count": 21,
     "metadata": {},
     "output_type": "execute_result"
    }
   ],
   "source": [
    "ricciSimplified = simplify(Ric.tensor())\n",
    "ricciSimplified"
   ]
  },
  {
   "cell_type": "code",
   "execution_count": 22,
   "id": "218e8c54",
   "metadata": {},
   "outputs": [
    {
     "data": {
      "text/latex": [
       "$\\displaystyle \\left[\\begin{matrix}- 1.0 \\left(\\frac{\\partial}{\\partial \\rho} U{\\left(\\rho,t \\right)}\\right)^{2} - 1.0 \\left(\\frac{\\partial}{\\partial t} U{\\left(\\rho,t \\right)}\\right)^{2} + \\frac{1.0 \\frac{\\partial}{\\partial \\rho} K{\\left(\\rho,t \\right)}}{\\rho} & - 2 \\frac{\\partial}{\\partial \\rho} U{\\left(\\rho,t \\right)} \\frac{\\partial}{\\partial t} U{\\left(\\rho,t \\right)} + \\frac{\\frac{\\partial}{\\partial t} K{\\left(\\rho,t \\right)}}{\\rho} & 0 & 0\\\\- 2 \\frac{\\partial}{\\partial \\rho} U{\\left(\\rho,t \\right)} \\frac{\\partial}{\\partial t} U{\\left(\\rho,t \\right)} + \\frac{\\frac{\\partial}{\\partial t} K{\\left(\\rho,t \\right)}}{\\rho} & - 1.0 \\left(\\frac{\\partial}{\\partial \\rho} U{\\left(\\rho,t \\right)}\\right)^{2} - 1.0 \\left(\\frac{\\partial}{\\partial t} U{\\left(\\rho,t \\right)}\\right)^{2} + \\frac{1.0 \\frac{\\partial}{\\partial \\rho} K{\\left(\\rho,t \\right)}}{\\rho} & 0 & 0\\\\0 & 0 & 1.0 \\rho^{2} \\left(\\frac{\\partial^{2}}{\\partial \\rho^{2}} K{\\left(\\rho,t \\right)} - \\frac{\\partial^{2}}{\\partial t^{2}} K{\\left(\\rho,t \\right)} + \\left(\\frac{\\partial}{\\partial \\rho} U{\\left(\\rho,t \\right)}\\right)^{2} - \\left(\\frac{\\partial}{\\partial t} U{\\left(\\rho,t \\right)}\\right)^{2}\\right) e^{- 2 K{\\left(\\rho,t \\right)}} & 0\\\\0 & 0 & 0 & \\frac{\\left(1.0 \\rho \\frac{\\partial^{2}}{\\partial \\rho^{2}} K{\\left(\\rho,t \\right)} - 1.0 \\rho \\frac{\\partial^{2}}{\\partial t^{2}} K{\\left(\\rho,t \\right)} + 1.0 \\rho \\left(\\frac{\\partial}{\\partial \\rho} U{\\left(\\rho,t \\right)}\\right)^{2} - 2.0 \\rho \\frac{\\partial^{2}}{\\partial \\rho^{2}} U{\\left(\\rho,t \\right)} - 1.0 \\rho \\left(\\frac{\\partial}{\\partial t} U{\\left(\\rho,t \\right)}\\right)^{2} + 2.0 \\rho \\frac{\\partial^{2}}{\\partial t^{2}} U{\\left(\\rho,t \\right)} - 2.0 \\frac{\\partial}{\\partial \\rho} U{\\left(\\rho,t \\right)}\\right) e^{- 2 K{\\left(\\rho,t \\right)} + 4 U{\\left(\\rho,t \\right)}}}{\\rho}\\end{matrix}\\right]$"
      ],
      "text/plain": [
       "⎡                                        ∂                                               ∂  \n",
       "⎢               2                2   1.0⋅──(K(ρ, t))                                     ──(\n",
       "⎢  ⎛∂          ⎞    ⎛∂          ⎞        ∂ρ                    ∂           ∂             ∂t \n",
       "⎢- ⎜──(U(ρ, t))⎟  - ⎜──(U(ρ, t))⎟  + ───────────────       - 2⋅──(U(ρ, t))⋅──(U(ρ, t)) + ───\n",
       "⎢  ⎝∂ρ         ⎠    ⎝∂t         ⎠           ρ                  ∂ρ          ∂t               \n",
       "⎢                                                                                           \n",
       "⎢                                   ∂                                                       \n",
       "⎢                                   ──(K(ρ, t))                      2                2   1.\n",
       "⎢         ∂           ∂             ∂t                  ⎛∂          ⎞    ⎛∂          ⎞      \n",
       "⎢     - 2⋅──(U(ρ, t))⋅──(U(ρ, t)) + ───────────       - ⎜──(U(ρ, t))⎟  - ⎜──(U(ρ, t))⎟  + ──\n",
       "⎢         ∂ρ          ∂t                 ρ              ⎝∂ρ         ⎠    ⎝∂t         ⎠      \n",
       "⎢                                                                                           \n",
       "⎢                                                                                           \n",
       "⎢                                                                                           \n",
       "⎢                         0                                                    0            \n",
       "⎢                                                                                           \n",
       "⎢                                                                                           \n",
       "⎢                                                                                           \n",
       "⎢                                                                                           \n",
       "⎢                                                                                           \n",
       "⎢                                                                                           \n",
       "⎢                                                                                           \n",
       "⎢                                                                                           \n",
       "⎢                         0                                                    0            \n",
       "⎣                                                                                           \n",
       "\n",
       "                                                                                            \n",
       "K(ρ, t))                                                                                    \n",
       "                                                                                            \n",
       "────────                                               0                                    \n",
       "  ρ                                                                                         \n",
       "                                                                                            \n",
       "  ∂                                                                                         \n",
       "0⋅──(K(ρ, t))                                                                               \n",
       "  ∂ρ                                                                                        \n",
       "─────────────                                          0                                    \n",
       "     ρ                                                                                      \n",
       "                                                                                            \n",
       "                      ⎛  2              2                         2                2⎞       \n",
       "                    2 ⎜ ∂              ∂             ⎛∂          ⎞    ⎛∂          ⎞ ⎟  -2⋅K(\n",
       "               1.0⋅ρ ⋅⎜───(K(ρ, t)) - ───(K(ρ, t)) + ⎜──(U(ρ, t))⎟  - ⎜──(U(ρ, t))⎟ ⎟⋅ℯ     \n",
       "                      ⎜  2              2            ⎝∂ρ         ⎠    ⎝∂t         ⎠ ⎟       \n",
       "                      ⎝∂ρ             ∂t                                            ⎠       \n",
       "                                                                                            \n",
       "                                                                                            \n",
       "                                                                                            \n",
       "                                                                                            \n",
       "                                                                                            \n",
       "                                                                                            \n",
       "                                                       0                                    \n",
       "                                                                                            \n",
       "\n",
       "                                                                                            \n",
       "                                                                                            \n",
       "                                                                                            \n",
       "                                                                                        0   \n",
       "                                                                                            \n",
       "                                                                                            \n",
       "                                                                                            \n",
       "                                                                                            \n",
       "                                                                                            \n",
       "                                                                                        0   \n",
       "                                                                                            \n",
       "                                                                                            \n",
       "                                                                                            \n",
       "ρ, t)                                                                                       \n",
       "                                                                                        0   \n",
       "                                                                                            \n",
       "                                                                                            \n",
       "                                                                                            \n",
       "       ⎛        2                2                               2           2              \n",
       "       ⎜       ∂                ∂                   ⎛∂          ⎞           ∂               \n",
       "       ⎜1.0⋅ρ⋅───(K(ρ, t)) - ρ⋅───(K(ρ, t)) + 1.0⋅ρ⋅⎜──(U(ρ, t))⎟  - 2.0⋅ρ⋅───(U(ρ, t)) - ρ⋅\n",
       "       ⎜        2                2                  ⎝∂ρ         ⎠            2              \n",
       "       ⎝      ∂ρ               ∂t                                          ∂ρ               \n",
       "       ─────────────────────────────────────────────────────────────────────────────────────\n",
       "                                                                                        ρ   \n",
       "\n",
       "                                                                              ⎤\n",
       "                                                                              ⎥\n",
       "                                                                              ⎥\n",
       "                                                                              ⎥\n",
       "                                                                              ⎥\n",
       "                                                                              ⎥\n",
       "                                                                              ⎥\n",
       "                                                                              ⎥\n",
       "                                                                              ⎥\n",
       "                                                                              ⎥\n",
       "                                                                              ⎥\n",
       "                                                                              ⎥\n",
       "                                                                              ⎥\n",
       "                                                                              ⎥\n",
       "                                                                              ⎥\n",
       "                                                                              ⎥\n",
       "                                                                              ⎥\n",
       "                                                                              ⎥\n",
       "             2           2                           ⎞                        ⎥\n",
       "⎛∂          ⎞           ∂                 ∂          ⎟  -2⋅K(ρ, t) + 4⋅U(ρ, t)⎥\n",
       "⎜──(U(ρ, t))⎟  + 2.0⋅ρ⋅───(U(ρ, t)) - 2.0⋅──(U(ρ, t))⎟⋅ℯ                      ⎥\n",
       "⎝∂t         ⎠            2                ∂ρ         ⎟                        ⎥\n",
       "                       ∂t                            ⎠                        ⎥\n",
       "──────────────────────────────────────────────────────────────────────────────⎥\n",
       "                                                                              ⎦"
      ]
     },
     "execution_count": 22,
     "metadata": {},
     "output_type": "execute_result"
    }
   ],
   "source": [
    "einsteinSimplifed = simplify(einst.tensor())\n",
    "einsteinSimplifed"
   ]
  },
  {
   "cell_type": "code",
   "execution_count": 33,
   "id": "b6f0bd26",
   "metadata": {},
   "outputs": [
    {
     "data": {
      "image/png": "[encoded data removed]",
      "text/latex": [
       "$\\displaystyle - \\frac{\\partial^{2}}{\\partial \\rho^{2}} U{\\left(\\rho,t \\right)} + \\frac{\\partial^{2}}{\\partial t^{2}} U{\\left(\\rho,t \\right)} - \\frac{\\frac{\\partial}{\\partial \\rho} U{\\left(\\rho,t \\right)}}{\\rho} = 0$"
      ],
      "text/plain": [
       "                                ∂              \n",
       "    2              2            ──(U(ρ, t))    \n",
       "   ∂              ∂             ∂ρ             \n",
       "- ───(U(ρ, t)) + ───(U(ρ, t)) - ─────────── = 0\n",
       "    2              2                 ρ         \n",
       "  ∂ρ             ∂t                            "
      ]
     },
     "execution_count": 33,
     "metadata": {},
     "output_type": "execute_result"
    }
   ],
   "source": [
    "equation18 = Eq(expand((-1/rho)*ricciSimplified[2,2].args[1]),0)\n",
    "equation18"
   ]
  },
  {
   "cell_type": "code",
   "execution_count": 34,
   "id": "8ebb9b4c",
   "metadata": {},
   "outputs": [
    {
     "data": {
      "image/png": "[encoded data removed]",
      "text/latex": [
       "$\\displaystyle \\frac{\\partial}{\\partial \\rho} K{\\left(\\rho,t \\right)} = \\rho \\left(\\left(\\frac{\\partial}{\\partial \\rho} U{\\left(\\rho,t \\right)}\\right)^{2} + \\left(\\frac{\\partial}{\\partial t} U{\\left(\\rho,t \\right)}\\right)^{2}\\right)$"
      ],
      "text/plain": [
       "                ⎛             2                2⎞\n",
       "∂               ⎜⎛∂          ⎞    ⎛∂          ⎞ ⎟\n",
       "──(K(ρ, t)) = ρ⋅⎜⎜──(U(ρ, t))⎟  + ⎜──(U(ρ, t))⎟ ⎟\n",
       "∂ρ              ⎝⎝∂ρ         ⎠    ⎝∂t         ⎠ ⎠"
      ]
     },
     "execution_count": 34,
     "metadata": {},
     "output_type": "execute_result"
    }
   ],
   "source": [
    "equation19a = Eq( diff(K,rho),solve( einsteinSimplifed[0,0] , diff(K,rho) )[0] )\n",
    "equation19a"
   ]
  },
  {
   "cell_type": "code",
   "execution_count": 35,
   "id": "e3b7a5fc",
   "metadata": {},
   "outputs": [
    {
     "data": {
      "image/png": "[encoded data removed]",
      "text/latex": [
       "$\\displaystyle \\frac{\\partial}{\\partial t} K{\\left(\\rho,t \\right)} = 2 \\rho \\frac{\\partial}{\\partial \\rho} U{\\left(\\rho,t \\right)} \\frac{\\partial}{\\partial t} U{\\left(\\rho,t \\right)}$"
      ],
      "text/plain": [
       "∂                 ∂           ∂          \n",
       "──(K(ρ, t)) = 2⋅ρ⋅──(U(ρ, t))⋅──(U(ρ, t))\n",
       "∂t                ∂ρ          ∂t         "
      ]
     },
     "execution_count": 35,
     "metadata": {},
     "output_type": "execute_result"
    }
   ],
   "source": [
    "equation19b = Eq(diff(K,t), solve( einsteinSimplifed[1,0] , diff(K,t) )[0] ) \n",
    "equation19b"
   ]
  },
  {
   "cell_type": "code",
   "execution_count": 37,
   "id": "3c7a3db7",
   "metadata": {},
   "outputs": [
    {
     "data": {
      "text/latex": [
       "$\\displaystyle \\left[\\begin{matrix}- \\frac{\\partial^{2}}{\\partial \\rho^{2}} U{\\left(\\rho,t \\right)} + \\frac{\\partial^{2}}{\\partial t^{2}} U{\\left(\\rho,t \\right)} - \\frac{\\frac{\\partial}{\\partial \\rho} U{\\left(\\rho,t \\right)}}{\\rho} = 0\\\\\\frac{\\partial}{\\partial \\rho} K{\\left(\\rho,t \\right)} = \\rho \\left(\\left(\\frac{\\partial}{\\partial \\rho} U{\\left(\\rho,t \\right)}\\right)^{2} + \\left(\\frac{\\partial}{\\partial t} U{\\left(\\rho,t \\right)}\\right)^{2}\\right)\\\\\\frac{\\partial}{\\partial t} K{\\left(\\rho,t \\right)} = 2 \\rho \\frac{\\partial}{\\partial \\rho} U{\\left(\\rho,t \\right)} \\frac{\\partial}{\\partial t} U{\\left(\\rho,t \\right)}\\end{matrix}\\right]$"
      ],
      "text/plain": [
       "⎡                                 ∂               ⎤\n",
       "⎢     2              2            ──(U(ρ, t))     ⎥\n",
       "⎢    ∂              ∂             ∂ρ              ⎥\n",
       "⎢ - ───(U(ρ, t)) + ───(U(ρ, t)) - ─────────── = 0 ⎥\n",
       "⎢     2              2                 ρ          ⎥\n",
       "⎢   ∂ρ             ∂t                             ⎥\n",
       "⎢                                                 ⎥\n",
       "⎢                ⎛             2                2⎞⎥\n",
       "⎢∂               ⎜⎛∂          ⎞    ⎛∂          ⎞ ⎟⎥\n",
       "⎢──(K(ρ, t)) = ρ⋅⎜⎜──(U(ρ, t))⎟  + ⎜──(U(ρ, t))⎟ ⎟⎥\n",
       "⎢∂ρ              ⎝⎝∂ρ         ⎠    ⎝∂t         ⎠ ⎠⎥\n",
       "⎢                                                 ⎥\n",
       "⎢    ∂                 ∂           ∂              ⎥\n",
       "⎢    ──(K(ρ, t)) = 2⋅ρ⋅──(U(ρ, t))⋅──(U(ρ, t))    ⎥\n",
       "⎣    ∂t                ∂ρ          ∂t             ⎦"
      ]
     },
     "execution_count": 37,
     "metadata": {},
     "output_type": "execute_result"
    }
   ],
   "source": [
    "vacuumFieldEquations = Matrix([equation18,equation19a,equation19b])\n",
    "vacuumFieldEquations"
   ]
  },
  {
   "cell_type": "code",
   "execution_count": null,
   "id": "272b9334",
   "metadata": {},
   "outputs": [],
   "source": []
  }
 ],
 "metadata": {
  "@webio": {
   "lastCommId": "3ca35694109b43848b60e8204fe87e23",
   "lastKernelId": "3f42fe54-0594-4ff4-927c-01dff1c7ca9c"
  },
  "kernelspec": {
   "display_name": "Python 3 (ipykernel)",
   "language": "python",
   "name": "python3"
  },
  "language_info": {
   "codemirror_mode": {
    "name": "ipython",
    "version": 3
   },
   "file_extension": ".py",
   "mimetype": "text/x-python",
   "name": "python",
   "nbconvert_exporter": "python",
   "pygments_lexer": "ipython3",
   "version": "3.8.8"
  }
 },
 "nbformat": 4,
 "nbformat_minor": 5
}
