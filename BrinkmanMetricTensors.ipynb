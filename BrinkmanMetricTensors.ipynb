{
 "cells": [
  {
   "cell_type": "markdown",
   "id": "899a20a5",
   "metadata": {},
   "source": [
    "# Brinkman Metric\n",
    "##  Geoff Cope\n",
    "##  Univeristy of Utah\n",
    "##  December 22, 2021"
   ]
  },
  {
   "cell_type": "markdown",
   "id": "41dcde76",
   "metadata": {},
   "source": [
    "The Brinkman metric is taken from page 195 of McMahon's Relativity Demystified"
   ]
  },
  {
   "cell_type": "markdown",
   "id": "e4515656",
   "metadata": {},
   "source": [
    "https://theswissbay.ch/pdf/Gentoomen%20Library/Misc/Demystified%20Series/McGraw-Hill%20-%20Relativity%20Demystified.pdf"
   ]
  },
  {
   "cell_type": "code",
   "execution_count": 1,
   "id": "234dcca2",
   "metadata": {},
   "outputs": [
    {
     "name": "stdout",
     "output_type": "stream",
     "text": [
      "IPython console for SymPy 1.9 (Python 3.8.8-64-bit) (ground types: gmpy)\n",
      "\n",
      "These commands were executed:\n",
      ">>> from __future__ import division\n",
      ">>> from sympy import *\n",
      ">>> x, y, z, t = symbols('x y z t')\n",
      ">>> k, m, n = symbols('k m n', integer=True)\n",
      ">>> f, g, h = symbols('f g h', cls=Function)\n",
      ">>> init_printing()\n",
      "\n",
      "Documentation can be found at https://docs.sympy.org/1.9/\n",
      "\n"
     ]
    }
   ],
   "source": [
    "from sympy import init_session\n",
    "init_session(use_latex=True)"
   ]
  },
  {
   "cell_type": "code",
   "execution_count": 2,
   "id": "72fece09",
   "metadata": {},
   "outputs": [],
   "source": [
    "import warnings\n",
    "import matplotlib.cbook\n",
    "warnings.filterwarnings(\"ignore\",category=matplotlib.cbook.mplDeprecation)"
   ]
  },
  {
   "cell_type": "code",
   "execution_count": 3,
   "id": "94b59ff9",
   "metadata": {},
   "outputs": [],
   "source": [
    "x,y,z,t,dx,dy,dz,dt,dv = symbols( 'x y z t dx dy dz dt dv' ) "
   ]
  },
  {
   "cell_type": "code",
   "execution_count": 4,
   "id": "afbf3170",
   "metadata": {},
   "outputs": [],
   "source": [
    "v,u,r,X,Y,du,dr,dX,dY = symbols('v u r X Y du dr dX dY' )"
   ]
  },
  {
   "cell_type": "code",
   "execution_count": 5,
   "id": "73169f66",
   "metadata": {},
   "outputs": [
    {
     "data": {
      "image/png": "[encoded data removed]",
      "text/latex": [
       "$\\displaystyle H{\\left(u,x,y \\right)}$"
      ],
      "text/plain": [
       "H(u, x, y)"
      ]
     },
     "execution_count": 5,
     "metadata": {},
     "output_type": "execute_result"
    }
   ],
   "source": [
    "H = Function('H')(u,x,y)\n",
    "H"
   ]
  },
  {
   "cell_type": "code",
   "execution_count": 6,
   "id": "562c1559",
   "metadata": {},
   "outputs": [
    {
     "data": {
      "text/latex": [
       "$\\displaystyle \\left[\\begin{matrix}u\\\\v\\\\x\\\\y\\end{matrix}\\right]$"
      ],
      "text/plain": [
       "⎡u⎤\n",
       "⎢ ⎥\n",
       "⎢v⎥\n",
       "⎢ ⎥\n",
       "⎢x⎥\n",
       "⎢ ⎥\n",
       "⎣y⎦"
      ]
     },
     "execution_count": 6,
     "metadata": {},
     "output_type": "execute_result"
    }
   ],
   "source": [
    "variables = Matrix( [u,v,x,y] )\n",
    "variables"
   ]
  },
  {
   "cell_type": "code",
   "execution_count": 7,
   "id": "6782ec0c",
   "metadata": {},
   "outputs": [
    {
     "data": {
      "text/latex": [
       "$\\displaystyle \\left[\\begin{matrix}du\\\\dv\\\\dx\\\\dy\\end{matrix}\\right]$"
      ],
      "text/plain": [
       "⎡du⎤\n",
       "⎢  ⎥\n",
       "⎢dv⎥\n",
       "⎢  ⎥\n",
       "⎢dx⎥\n",
       "⎢  ⎥\n",
       "⎣dy⎦"
      ]
     },
     "execution_count": 7,
     "metadata": {},
     "output_type": "execute_result"
    }
   ],
   "source": [
    "differentials = Matrix( [du,dv,dx,dy] ) \n",
    "differentials"
   ]
  },
  {
   "cell_type": "code",
   "execution_count": 8,
   "id": "9f891202",
   "metadata": {},
   "outputs": [
    {
     "data": {
      "image/png": "[encoded data removed]",
      "text/latex": [
       "$\\displaystyle du^{2} H{\\left(u,x,y \\right)} + 2 du dv - dx^{2} - dy^{2}$"
      ],
      "text/plain": [
       "  2                          2     2\n",
       "du ⋅H(u, x, y) + 2⋅du⋅dv - dx  - dy "
      ]
     },
     "execution_count": 8,
     "metadata": {},
     "output_type": "execute_result"
    }
   ],
   "source": [
    "lineElement = H*du**2 + 2*du*dv - dx**2 - dy**2 \n",
    "lineElement"
   ]
  },
  {
   "cell_type": "code",
   "execution_count": 9,
   "id": "7a318551",
   "metadata": {},
   "outputs": [
    {
     "data": {
      "text/latex": [
       "$\\displaystyle \\left[\\begin{matrix}H{\\left(u,x,y \\right)} & 1 & 0 & 0\\\\1 & 0 & 0 & 0\\\\0 & 0 & -1 & 0\\\\0 & 0 & 0 & -1\\end{matrix}\\right]$"
      ],
      "text/plain": [
       "⎡H(u, x, y)  1  0   0 ⎤\n",
       "⎢                     ⎥\n",
       "⎢    1       0  0   0 ⎥\n",
       "⎢                     ⎥\n",
       "⎢    0       0  -1  0 ⎥\n",
       "⎢                     ⎥\n",
       "⎣    0       0  0   -1⎦"
      ]
     },
     "execution_count": 9,
     "metadata": {},
     "output_type": "execute_result"
    }
   ],
   "source": [
    "g = zeros(4)\n",
    "\n",
    "for i in range(4):\n",
    "    for j in range(4):\n",
    "        if i == j:\n",
    "            g[i,j] = lineElement.coeff( differentials[i],2 ) \n",
    "        else:\n",
    "            g[i,j] = Rational(1,2)*lineElement.coeff( differentials[i]*differentials[j],1 )\n",
    "            \n",
    "g"
   ]
  },
  {
   "cell_type": "code",
   "execution_count": 10,
   "id": "816debd7",
   "metadata": {},
   "outputs": [],
   "source": [
    "import sympy"
   ]
  },
  {
   "cell_type": "code",
   "execution_count": 11,
   "id": "efa249f7",
   "metadata": {},
   "outputs": [
    {
     "data": {
      "text/latex": [
       "$\\displaystyle \\left[\\begin{matrix}H{\\left(u,x,y \\right)} & 1 & 0 & 0\\\\1 & 0 & 0 & 0\\\\0 & 0 & -1 & 0\\\\0 & 0 & 0 & -1\\end{matrix}\\right]$"
      ],
      "text/plain": [
       "⎡H(u, x, y)  1  0   0 ⎤\n",
       "⎢                     ⎥\n",
       "⎢    1       0  0   0 ⎥\n",
       "⎢                     ⎥\n",
       "⎢    0       0  -1  0 ⎥\n",
       "⎢                     ⎥\n",
       "⎣    0       0  0   -1⎦"
      ]
     },
     "execution_count": 11,
     "metadata": {},
     "output_type": "execute_result"
    }
   ],
   "source": [
    "m = sympy.Array(g)\n",
    "m"
   ]
  },
  {
   "cell_type": "code",
   "execution_count": 12,
   "id": "7505b98a",
   "metadata": {},
   "outputs": [],
   "source": [
    "from einsteinpy.symbolic import *"
   ]
  },
  {
   "cell_type": "code",
   "execution_count": 13,
   "id": "be16ce26",
   "metadata": {},
   "outputs": [],
   "source": [
    "syms = sympy.symbols(\"u v x y\")\n",
    "u,v,x,y = syms"
   ]
  },
  {
   "cell_type": "code",
   "execution_count": 14,
   "id": "b3259398",
   "metadata": {},
   "outputs": [],
   "source": [
    "metric = MetricTensor(m,syms)"
   ]
  },
  {
   "cell_type": "code",
   "execution_count": 15,
   "id": "5390fdb6",
   "metadata": {},
   "outputs": [
    {
     "data": {
      "text/latex": [
       "$\\displaystyle \\left[\\begin{matrix}\\left[\\begin{matrix}0 & 0 & 0 & 0\\\\0 & 0 & 0 & 0\\\\0 & 0 & 0 & 0\\\\0 & 0 & 0 & 0\\end{matrix}\\right] & \\left[\\begin{matrix}\\frac{\\frac{\\partial}{\\partial u} H{\\left(u,x,y \\right)}}{2} & 0 & \\frac{\\frac{\\partial}{\\partial x} H{\\left(u,x,y \\right)}}{2} & \\frac{\\frac{\\partial}{\\partial y} H{\\left(u,x,y \\right)}}{2}\\\\0 & 0 & 0 & 0\\\\\\frac{\\frac{\\partial}{\\partial x} H{\\left(u,x,y \\right)}}{2} & 0 & 0 & 0\\\\\\frac{\\frac{\\partial}{\\partial y} H{\\left(u,x,y \\right)}}{2} & 0 & 0 & 0\\end{matrix}\\right] & \\left[\\begin{matrix}\\frac{\\frac{\\partial}{\\partial x} H{\\left(u,x,y \\right)}}{2} & 0 & 0 & 0\\\\0 & 0 & 0 & 0\\\\0 & 0 & 0 & 0\\\\0 & 0 & 0 & 0\\end{matrix}\\right] & \\left[\\begin{matrix}\\frac{\\frac{\\partial}{\\partial y} H{\\left(u,x,y \\right)}}{2} & 0 & 0 & 0\\\\0 & 0 & 0 & 0\\\\0 & 0 & 0 & 0\\\\0 & 0 & 0 & 0\\end{matrix}\\right]\\end{matrix}\\right]$"
      ],
      "text/plain": [
       "⎡              ⎡∂                  ∂               ∂             ⎤                          \n",
       "⎢              ⎢──(H(u, x, y))     ──(H(u, x, y))  ──(H(u, x, y))⎥                          \n",
       "⎢              ⎢∂u                 ∂x              ∂y            ⎥                          \n",
       "⎢              ⎢──────────────  0  ──────────────  ──────────────⎥                          \n",
       "⎢              ⎢      2                  2               2       ⎥  ⎡∂                      \n",
       "⎢              ⎢                                                 ⎥  ⎢──(H(u, x, y))         \n",
       "⎢⎡0  0  0  0⎤  ⎢      0         0        0               0       ⎥  ⎢∂x                     \n",
       "⎢⎢          ⎥  ⎢                                                 ⎥  ⎢──────────────  0  0  0\n",
       "⎢⎢0  0  0  0⎥  ⎢∂                                                ⎥  ⎢      2                \n",
       "⎢⎢          ⎥  ⎢──(H(u, x, y))                                   ⎥  ⎢                       \n",
       "⎢⎢0  0  0  0⎥  ⎢∂x                                               ⎥  ⎢      0         0  0  0\n",
       "⎢⎢          ⎥  ⎢──────────────  0        0               0       ⎥  ⎢                       \n",
       "⎢⎣0  0  0  0⎦  ⎢      2                                          ⎥  ⎢      0         0  0  0\n",
       "⎢              ⎢                                                 ⎥  ⎢                       \n",
       "⎢              ⎢∂                                                ⎥  ⎣      0         0  0  0\n",
       "⎢              ⎢──(H(u, x, y))                                   ⎥                          \n",
       "⎢              ⎢∂y                                               ⎥                          \n",
       "⎢              ⎢──────────────  0        0               0       ⎥                          \n",
       "⎣              ⎣      2                                          ⎦                          \n",
       "\n",
       "                            ⎤\n",
       "                            ⎥\n",
       "                            ⎥\n",
       "                            ⎥\n",
       "⎤  ⎡∂                      ⎤⎥\n",
       "⎥  ⎢──(H(u, x, y))         ⎥⎥\n",
       "⎥  ⎢∂y                     ⎥⎥\n",
       "⎥  ⎢──────────────  0  0  0⎥⎥\n",
       "⎥  ⎢      2                ⎥⎥\n",
       "⎥  ⎢                       ⎥⎥\n",
       "⎥  ⎢      0         0  0  0⎥⎥\n",
       "⎥  ⎢                       ⎥⎥\n",
       "⎥  ⎢      0         0  0  0⎥⎥\n",
       "⎥  ⎢                       ⎥⎥\n",
       "⎦  ⎣      0         0  0  0⎦⎥\n",
       "                            ⎥\n",
       "                            ⎥\n",
       "                            ⎥\n",
       "                            ⎦"
      ]
     },
     "execution_count": 15,
     "metadata": {},
     "output_type": "execute_result"
    }
   ],
   "source": [
    "ch = ChristoffelSymbols.from_metric(metric)\n",
    "ch.tensor()"
   ]
  },
  {
   "cell_type": "code",
   "execution_count": 16,
   "id": "8d0626c8",
   "metadata": {},
   "outputs": [
    {
     "data": {
      "text/latex": [
       "$\\displaystyle \\left[\\begin{matrix}\\frac{\\frac{\\partial^{2}}{\\partial x^{2}} H{\\left(u,x,y \\right)}}{2} + \\frac{\\frac{\\partial^{2}}{\\partial y^{2}} H{\\left(u,x,y \\right)}}{2} & 0 & 0 & 0\\\\0 & 0 & 0 & 0\\\\0 & 0 & 0 & 0\\\\0 & 0 & 0 & 0\\end{matrix}\\right]$"
      ],
      "text/plain": [
       "⎡  2                 2                     ⎤\n",
       "⎢ ∂                 ∂                      ⎥\n",
       "⎢───(H(u, x, y))   ───(H(u, x, y))         ⎥\n",
       "⎢  2                 2                     ⎥\n",
       "⎢∂x                ∂y                      ⎥\n",
       "⎢─────────────── + ───────────────  0  0  0⎥\n",
       "⎢       2                 2                ⎥\n",
       "⎢                                          ⎥\n",
       "⎢                0                  0  0  0⎥\n",
       "⎢                                          ⎥\n",
       "⎢                0                  0  0  0⎥\n",
       "⎢                                          ⎥\n",
       "⎣                0                  0  0  0⎦"
      ]
     },
     "execution_count": 16,
     "metadata": {},
     "output_type": "execute_result"
    }
   ],
   "source": [
    "Ric = RicciTensor.from_metric(metric)\n",
    "Ric.tensor()"
   ]
  },
  {
   "cell_type": "code",
   "execution_count": 17,
   "id": "28dd3ed6",
   "metadata": {},
   "outputs": [
    {
     "data": {
      "text/latex": [
       "$\\displaystyle \\left[\\begin{matrix}\\frac{\\frac{\\partial^{2}}{\\partial x^{2}} H{\\left(u,x,y \\right)}}{2} + \\frac{\\frac{\\partial^{2}}{\\partial y^{2}} H{\\left(u,x,y \\right)}}{2} & 0 & 0 & 0\\\\0 & 0 & 0 & 0\\\\0 & 0 & 0 & 0\\\\0 & 0 & 0 & 0\\end{matrix}\\right]$"
      ],
      "text/plain": [
       "⎡  2                 2                     ⎤\n",
       "⎢ ∂                 ∂                      ⎥\n",
       "⎢───(H(u, x, y))   ───(H(u, x, y))         ⎥\n",
       "⎢  2                 2                     ⎥\n",
       "⎢∂x                ∂y                      ⎥\n",
       "⎢─────────────── + ───────────────  0  0  0⎥\n",
       "⎢       2                 2                ⎥\n",
       "⎢                                          ⎥\n",
       "⎢                0                  0  0  0⎥\n",
       "⎢                                          ⎥\n",
       "⎢                0                  0  0  0⎥\n",
       "⎢                                          ⎥\n",
       "⎣                0                  0  0  0⎦"
      ]
     },
     "execution_count": 17,
     "metadata": {},
     "output_type": "execute_result"
    }
   ],
   "source": [
    "einst = EinsteinTensor.from_metric(metric)\n",
    "einst.tensor()"
   ]
  },
  {
   "cell_type": "code",
   "execution_count": 18,
   "id": "d1f3652c",
   "metadata": {},
   "outputs": [
    {
     "data": {
      "image/png": "[encoded data removed]",
      "text/latex": [
       "$\\displaystyle 0$"
      ],
      "text/plain": [
       "0"
      ]
     },
     "execution_count": 18,
     "metadata": {},
     "output_type": "execute_result"
    }
   ],
   "source": [
    "R = RicciScalar.from_riccitensor(Ric)\n",
    "R.simplify()\n",
    "R.expr"
   ]
  },
  {
   "cell_type": "code",
   "execution_count": 19,
   "id": "ce3800e6",
   "metadata": {},
   "outputs": [
    {
     "data": {
      "text/latex": [
       "$\\displaystyle \\left[\\begin{matrix}\\left[\\begin{matrix}0 & 0 & 0 & 0\\\\0 & 0 & 0 & 0\\\\0 & 0 & 0 & 0\\\\0 & 0 & 0 & 0\\end{matrix}\\right] & \\left[\\begin{matrix}0 & 0 & 0 & 0\\\\0 & 0 & 0 & 0\\\\0 & 0 & 0 & 0\\\\0 & 0 & 0 & 0\\end{matrix}\\right] & \\left[\\begin{matrix}0 & 0 & 0 & 0\\\\0 & 0 & 0 & 0\\\\0 & 0 & 0 & 0\\\\0 & 0 & 0 & 0\\end{matrix}\\right] & \\left[\\begin{matrix}0 & 0 & 0 & 0\\\\0 & 0 & 0 & 0\\\\0 & 0 & 0 & 0\\\\0 & 0 & 0 & 0\\end{matrix}\\right]\\\\\\left[\\begin{matrix}0 & 0 & 0 & 0\\\\0 & 0 & 0 & 0\\\\0 & 0 & 0 & 0\\\\0 & 0 & 0 & 0\\end{matrix}\\right] & \\left[\\begin{matrix}0 & 0 & 0 & 0\\\\0 & 0 & 0 & 0\\\\0 & 0 & 0 & 0\\\\0 & 0 & 0 & 0\\end{matrix}\\right] & \\left[\\begin{matrix}0 & 0 & - \\frac{\\frac{\\partial^{2}}{\\partial x^{2}} H{\\left(u,x,y \\right)}}{2} & - \\frac{\\frac{\\partial^{2}}{\\partial y\\partial x} H{\\left(u,x,y \\right)}}{2}\\\\0 & 0 & 0 & 0\\\\\\frac{\\frac{\\partial^{2}}{\\partial x^{2}} H{\\left(u,x,y \\right)}}{2} & 0 & 0 & 0\\\\\\frac{\\frac{\\partial^{2}}{\\partial y\\partial x} H{\\left(u,x,y \\right)}}{2} & 0 & 0 & 0\\end{matrix}\\right] & \\left[\\begin{matrix}0 & 0 & - \\frac{\\frac{\\partial^{2}}{\\partial y\\partial x} H{\\left(u,x,y \\right)}}{2} & - \\frac{\\frac{\\partial^{2}}{\\partial y^{2}} H{\\left(u,x,y \\right)}}{2}\\\\0 & 0 & 0 & 0\\\\\\frac{\\frac{\\partial^{2}}{\\partial y\\partial x} H{\\left(u,x,y \\right)}}{2} & 0 & 0 & 0\\\\\\frac{\\frac{\\partial^{2}}{\\partial y^{2}} H{\\left(u,x,y \\right)}}{2} & 0 & 0 & 0\\end{matrix}\\right]\\\\\\left[\\begin{matrix}0 & 0 & - \\frac{\\frac{\\partial^{2}}{\\partial x^{2}} H{\\left(u,x,y \\right)}}{2} & - \\frac{\\frac{\\partial^{2}}{\\partial y\\partial x} H{\\left(u,x,y \\right)}}{2}\\\\0 & 0 & 0 & 0\\\\\\frac{\\frac{\\partial^{2}}{\\partial x^{2}} H{\\left(u,x,y \\right)}}{2} & 0 & 0 & 0\\\\\\frac{\\frac{\\partial^{2}}{\\partial y\\partial x} H{\\left(u,x,y \\right)}}{2} & 0 & 0 & 0\\end{matrix}\\right] & \\left[\\begin{matrix}0 & 0 & 0 & 0\\\\0 & 0 & 0 & 0\\\\0 & 0 & 0 & 0\\\\0 & 0 & 0 & 0\\end{matrix}\\right] & \\left[\\begin{matrix}0 & 0 & 0 & 0\\\\0 & 0 & 0 & 0\\\\0 & 0 & 0 & 0\\\\0 & 0 & 0 & 0\\end{matrix}\\right] & \\left[\\begin{matrix}0 & 0 & 0 & 0\\\\0 & 0 & 0 & 0\\\\0 & 0 & 0 & 0\\\\0 & 0 & 0 & 0\\end{matrix}\\right]\\\\\\left[\\begin{matrix}0 & 0 & - \\frac{\\frac{\\partial^{2}}{\\partial y\\partial x} H{\\left(u,x,y \\right)}}{2} & - \\frac{\\frac{\\partial^{2}}{\\partial y^{2}} H{\\left(u,x,y \\right)}}{2}\\\\0 & 0 & 0 & 0\\\\\\frac{\\frac{\\partial^{2}}{\\partial y\\partial x} H{\\left(u,x,y \\right)}}{2} & 0 & 0 & 0\\\\\\frac{\\frac{\\partial^{2}}{\\partial y^{2}} H{\\left(u,x,y \\right)}}{2} & 0 & 0 & 0\\end{matrix}\\right] & \\left[\\begin{matrix}0 & 0 & 0 & 0\\\\0 & 0 & 0 & 0\\\\0 & 0 & 0 & 0\\\\0 & 0 & 0 & 0\\end{matrix}\\right] & \\left[\\begin{matrix}0 & 0 & 0 & 0\\\\0 & 0 & 0 & 0\\\\0 & 0 & 0 & 0\\\\0 & 0 & 0 & 0\\end{matrix}\\right] & \\left[\\begin{matrix}0 & 0 & 0 & 0\\\\0 & 0 & 0 & 0\\\\0 & 0 & 0 & 0\\\\0 & 0 & 0 & 0\\end{matrix}\\right]\\end{matrix}\\right]$"
      ],
      "text/plain": [
       "⎡                         ⎡0  0  0  0⎤                           ⎡0  0  0  0⎤               \n",
       "⎢                         ⎢          ⎥                           ⎢          ⎥               \n",
       "⎢                         ⎢0  0  0  0⎥                           ⎢0  0  0  0⎥               \n",
       "⎢                         ⎢          ⎥                           ⎢          ⎥               \n",
       "⎢                         ⎢0  0  0  0⎥                           ⎢0  0  0  0⎥               \n",
       "⎢                         ⎢          ⎥                           ⎢          ⎥               \n",
       "⎢                         ⎣0  0  0  0⎦                           ⎣0  0  0  0⎦               \n",
       "⎢                                                                                           \n",
       "⎢                                                                              ⎡            \n",
       "⎢                                                                              ⎢            \n",
       "⎢                                                                              ⎢            \n",
       "⎢                                                                              ⎢            \n",
       "⎢                                                                              ⎢            \n",
       "⎢                                                                              ⎢        0   \n",
       "⎢                                                                              ⎢            \n",
       "⎢                                                                              ⎢            \n",
       "⎢                                                                              ⎢        0   \n",
       "⎢                         ⎡0  0  0  0⎤                           ⎡0  0  0  0⎤  ⎢            \n",
       "⎢                         ⎢          ⎥                           ⎢          ⎥  ⎢   2        \n",
       "⎢                         ⎢0  0  0  0⎥                           ⎢0  0  0  0⎥  ⎢  ∂         \n",
       "⎢                         ⎢          ⎥                           ⎢          ⎥  ⎢ ───(H(u, x,\n",
       "⎢                         ⎢0  0  0  0⎥                           ⎢0  0  0  0⎥  ⎢   2        \n",
       "⎢                         ⎢          ⎥                           ⎢          ⎥  ⎢ ∂x         \n",
       "⎢                         ⎣0  0  0  0⎦                           ⎣0  0  0  0⎦  ⎢ ───────────\n",
       "⎢                                                                              ⎢        2   \n",
       "⎢                                                                              ⎢            \n",
       "⎢                                                                              ⎢   2        \n",
       "⎢                                                                              ⎢  ∂         \n",
       "⎢                                                                              ⎢─────(H(u, x\n",
       "⎢                                                                              ⎢∂y ∂x       \n",
       "⎢                                                                              ⎢────────────\n",
       "⎢                                                                              ⎣        2   \n",
       "⎢                                                                                           \n",
       "⎢⎡                         2                                  ⎤                             \n",
       "⎢⎢                        ∂                    2              ⎥                             \n",
       "⎢⎢                      -───(H(u, x, y))      ∂               ⎥                             \n",
       "⎢⎢                         2               -─────(H(u, x, y)) ⎥                             \n",
       "⎢⎢                       ∂x                 ∂y ∂x             ⎥                             \n",
       "⎢⎢        0          0  ─────────────────  ───────────────────⎥                             \n",
       "⎢⎢                              2                   2         ⎥                             \n",
       "⎢⎢                                                            ⎥                             \n",
       "⎢⎢        0          0          0                   0         ⎥                             \n",
       "⎢⎢                                                            ⎥  ⎡0  0  0  0⎤               \n",
       "⎢⎢   2                                                        ⎥  ⎢          ⎥               \n",
       "⎢⎢  ∂                                                         ⎥  ⎢0  0  0  0⎥               \n",
       "⎢⎢ ───(H(u, x, y))                                            ⎥  ⎢          ⎥               \n",
       "⎢⎢   2                                                        ⎥  ⎢0  0  0  0⎥               \n",
       "⎢⎢ ∂x                                                         ⎥  ⎢          ⎥               \n",
       "⎢⎢ ───────────────   0          0                   0         ⎥  ⎣0  0  0  0⎦               \n",
       "⎢⎢        2                                                   ⎥                             \n",
       "⎢⎢                                                            ⎥                             \n",
       "⎢⎢   2                                                        ⎥                             \n",
       "⎢⎢  ∂                                                         ⎥                             \n",
       "⎢⎢─────(H(u, x, y))                                           ⎥                             \n",
       "⎢⎢∂y ∂x                                                       ⎥                             \n",
       "⎢⎢─────────────────  0          0                   0         ⎥                             \n",
       "⎢⎣        2                                                   ⎦                             \n",
       "⎢                                                                                           \n",
       "⎢⎡                                              2             ⎤                             \n",
       "⎢⎢                          2                  ∂              ⎥                             \n",
       "⎢⎢                         ∂                 -───(H(u, x, y)) ⎥                             \n",
       "⎢⎢                      -─────(H(u, x, y))      2             ⎥                             \n",
       "⎢⎢                       ∂y ∂x                ∂y              ⎥                             \n",
       "⎢⎢        0          0  ───────────────────  ─────────────────⎥                             \n",
       "⎢⎢                               2                   2        ⎥                             \n",
       "⎢⎢                                                            ⎥                             \n",
       "⎢⎢        0          0           0                   0        ⎥                             \n",
       "⎢⎢                                                            ⎥  ⎡0  0  0  0⎤               \n",
       "⎢⎢   2                                                        ⎥  ⎢          ⎥               \n",
       "⎢⎢  ∂                                                         ⎥  ⎢0  0  0  0⎥               \n",
       "⎢⎢─────(H(u, x, y))                                           ⎥  ⎢          ⎥               \n",
       "⎢⎢∂y ∂x                                                       ⎥  ⎢0  0  0  0⎥               \n",
       "⎢⎢─────────────────  0           0                   0        ⎥  ⎢          ⎥               \n",
       "⎢⎢        2                                                   ⎥  ⎣0  0  0  0⎦               \n",
       "⎢⎢                                                            ⎥                             \n",
       "⎢⎢   2                                                        ⎥                             \n",
       "⎢⎢  ∂                                                         ⎥                             \n",
       "⎢⎢ ───(H(u, x, y))                                            ⎥                             \n",
       "⎢⎢   2                                                        ⎥                             \n",
       "⎢⎢ ∂y                                                         ⎥                             \n",
       "⎢⎢ ───────────────   0           0                   0        ⎥                             \n",
       "⎣⎣        2                                                   ⎦                             \n",
       "\n",
       "            ⎡0  0  0  0⎤                                                    ⎡0  0  0  0⎤    \n",
       "            ⎢          ⎥                                                    ⎢          ⎥    \n",
       "            ⎢0  0  0  0⎥                                                    ⎢0  0  0  0⎥    \n",
       "            ⎢          ⎥                                                    ⎢          ⎥    \n",
       "            ⎢0  0  0  0⎥                                                    ⎢0  0  0  0⎥    \n",
       "            ⎢          ⎥                                                    ⎢          ⎥    \n",
       "            ⎣0  0  0  0⎦                                                    ⎣0  0  0  0⎦    \n",
       "                                                                                            \n",
       "             2                                  ⎤  ⎡                                        \n",
       "            ∂                    2              ⎥  ⎢                          2             \n",
       "          -───(H(u, x, y))      ∂               ⎥  ⎢                         ∂              \n",
       "             2               -─────(H(u, x, y)) ⎥  ⎢                      -─────(H(u, x, y))\n",
       "           ∂x                 ∂y ∂x             ⎥  ⎢                       ∂y ∂x            \n",
       "       0  ─────────────────  ───────────────────⎥  ⎢        0          0  ──────────────────\n",
       "                  2                   2         ⎥  ⎢                               2        \n",
       "                                                ⎥  ⎢                                        \n",
       "       0          0                   0         ⎥  ⎢        0          0           0        \n",
       "                                                ⎥  ⎢                                        \n",
       "                                                ⎥  ⎢   2                                    \n",
       "                                                ⎥  ⎢  ∂                                     \n",
       " y))                                            ⎥  ⎢─────(H(u, x, y))                       \n",
       "                                                ⎥  ⎢∂y ∂x                                   \n",
       "                                                ⎥  ⎢─────────────────  0           0        \n",
       "────   0          0                   0         ⎥  ⎢        2                               \n",
       "                                                ⎥  ⎢                                        \n",
       "                                                ⎥  ⎢   2                                    \n",
       "                                                ⎥  ⎢  ∂                                     \n",
       "                                                ⎥  ⎢ ───(H(u, x, y))                        \n",
       ", y))                                           ⎥  ⎢   2                                    \n",
       "                                                ⎥  ⎢ ∂y                                     \n",
       "─────  0          0                   0         ⎥  ⎢ ───────────────   0           0        \n",
       "                                                ⎦  ⎣        2                               \n",
       "                                                                                            \n",
       "                                                                                            \n",
       "                                                                                            \n",
       "                                                                                            \n",
       "                                                                                            \n",
       "                                                                                            \n",
       "                                                                                            \n",
       "                                                                                            \n",
       "                                                                                            \n",
       "                                                                                            \n",
       "            ⎡0  0  0  0⎤                                                    ⎡0  0  0  0⎤    \n",
       "            ⎢          ⎥                                                    ⎢          ⎥    \n",
       "            ⎢0  0  0  0⎥                                                    ⎢0  0  0  0⎥    \n",
       "            ⎢          ⎥                                                    ⎢          ⎥    \n",
       "            ⎢0  0  0  0⎥                                                    ⎢0  0  0  0⎥    \n",
       "            ⎢          ⎥                                                    ⎢          ⎥    \n",
       "            ⎣0  0  0  0⎦                                                    ⎣0  0  0  0⎦    \n",
       "                                                                                            \n",
       "                                                                                            \n",
       "                                                                                            \n",
       "                                                                                            \n",
       "                                                                                            \n",
       "                                                                                            \n",
       "                                                                                            \n",
       "                                                                                            \n",
       "                                                                                            \n",
       "                                                                                            \n",
       "                                                                                            \n",
       "                                                                                            \n",
       "                                                                                            \n",
       "                                                                                            \n",
       "                                                                                            \n",
       "                                                                                            \n",
       "                                                                                            \n",
       "                                                                                            \n",
       "            ⎡0  0  0  0⎤                                                    ⎡0  0  0  0⎤    \n",
       "            ⎢          ⎥                                                    ⎢          ⎥    \n",
       "            ⎢0  0  0  0⎥                                                    ⎢0  0  0  0⎥    \n",
       "            ⎢          ⎥                                                    ⎢          ⎥    \n",
       "            ⎢0  0  0  0⎥                                                    ⎢0  0  0  0⎥    \n",
       "            ⎢          ⎥                                                    ⎢          ⎥    \n",
       "            ⎣0  0  0  0⎦                                                    ⎣0  0  0  0⎦    \n",
       "                                                                                            \n",
       "                                                                                            \n",
       "                                                                                            \n",
       "                                                                                            \n",
       "                                                                                            \n",
       "                                                                                            \n",
       "                                                                                            \n",
       "                                                                                            \n",
       "\n",
       "                     ⎤\n",
       "                     ⎥\n",
       "                     ⎥\n",
       "                     ⎥\n",
       "                     ⎥\n",
       "                     ⎥\n",
       "                     ⎥\n",
       "                     ⎥\n",
       "      2             ⎤⎥\n",
       "     ∂              ⎥⎥\n",
       "   -───(H(u, x, y)) ⎥⎥\n",
       "      2             ⎥⎥\n",
       "    ∂y              ⎥⎥\n",
       "─  ─────────────────⎥⎥\n",
       "           2        ⎥⎥\n",
       "                    ⎥⎥\n",
       "           0        ⎥⎥\n",
       "                    ⎥⎥\n",
       "                    ⎥⎥\n",
       "                    ⎥⎥\n",
       "                    ⎥⎥\n",
       "                    ⎥⎥\n",
       "           0        ⎥⎥\n",
       "                    ⎥⎥\n",
       "                    ⎥⎥\n",
       "                    ⎥⎥\n",
       "                    ⎥⎥\n",
       "                    ⎥⎥\n",
       "                    ⎥⎥\n",
       "                    ⎥⎥\n",
       "           0        ⎥⎥\n",
       "                    ⎦⎥\n",
       "                     ⎥\n",
       "                     ⎥\n",
       "                     ⎥\n",
       "                     ⎥\n",
       "                     ⎥\n",
       "                     ⎥\n",
       "                     ⎥\n",
       "                     ⎥\n",
       "                     ⎥\n",
       "                     ⎥\n",
       "                     ⎥\n",
       "                     ⎥\n",
       "                     ⎥\n",
       "                     ⎥\n",
       "                     ⎥\n",
       "                     ⎥\n",
       "                     ⎥\n",
       "                     ⎥\n",
       "                     ⎥\n",
       "                     ⎥\n",
       "                     ⎥\n",
       "                     ⎥\n",
       "                     ⎥\n",
       "                     ⎥\n",
       "                     ⎥\n",
       "                     ⎥\n",
       "                     ⎥\n",
       "                     ⎥\n",
       "                     ⎥\n",
       "                     ⎥\n",
       "                     ⎥\n",
       "                     ⎥\n",
       "                     ⎥\n",
       "                     ⎥\n",
       "                     ⎥\n",
       "                     ⎥\n",
       "                     ⎥\n",
       "                     ⎥\n",
       "                     ⎥\n",
       "                     ⎥\n",
       "                     ⎥\n",
       "                     ⎥\n",
       "                     ⎥\n",
       "                     ⎥\n",
       "                     ⎥\n",
       "                     ⎥\n",
       "                     ⎥\n",
       "                     ⎥\n",
       "                     ⎥\n",
       "                     ⎦"
      ]
     },
     "execution_count": 19,
     "metadata": {},
     "output_type": "execute_result"
    }
   ],
   "source": [
    "rm1 = RiemannCurvatureTensor.from_christoffels(ch)\n",
    "rm1.tensor()"
   ]
  },
  {
   "cell_type": "code",
   "execution_count": 20,
   "id": "dfd8a2db",
   "metadata": {},
   "outputs": [
    {
     "data": {
      "text/latex": [
       "$\\displaystyle \\left[\\begin{matrix}\\left[\\begin{matrix}0 & 0 & 0 & 0\\\\0 & 0 & 0 & 0\\\\0 & 0 & 0 & 0\\\\0 & 0 & 0 & 0\\end{matrix}\\right] & \\left[\\begin{matrix}0 & 0 & 0 & 0\\\\0 & 0 & 0 & 0\\\\0 & 0 & 0 & 0\\\\0 & 0 & 0 & 0\\end{matrix}\\right] & \\left[\\begin{matrix}0 & 0 & - \\frac{\\frac{\\partial^{2}}{\\partial x^{2}} H{\\left(u,x,y \\right)}}{4} + \\frac{\\frac{\\partial^{2}}{\\partial y^{2}} H{\\left(u,x,y \\right)}}{4} & - \\frac{\\frac{\\partial^{2}}{\\partial y\\partial x} H{\\left(u,x,y \\right)}}{2}\\\\0 & 0 & 0 & 0\\\\\\frac{\\frac{\\partial^{2}}{\\partial x^{2}} H{\\left(u,x,y \\right)}}{4} - \\frac{\\frac{\\partial^{2}}{\\partial y^{2}} H{\\left(u,x,y \\right)}}{4} & 0 & 0 & 0\\\\\\frac{\\frac{\\partial^{2}}{\\partial y\\partial x} H{\\left(u,x,y \\right)}}{2} & 0 & 0 & 0\\end{matrix}\\right] & \\left[\\begin{matrix}0 & 0 & - \\frac{\\frac{\\partial^{2}}{\\partial y\\partial x} H{\\left(u,x,y \\right)}}{2} & \\frac{\\frac{\\partial^{2}}{\\partial x^{2}} H{\\left(u,x,y \\right)}}{4} - \\frac{\\frac{\\partial^{2}}{\\partial y^{2}} H{\\left(u,x,y \\right)}}{4}\\\\0 & 0 & 0 & 0\\\\\\frac{\\frac{\\partial^{2}}{\\partial y\\partial x} H{\\left(u,x,y \\right)}}{2} & 0 & 0 & 0\\\\- \\frac{\\frac{\\partial^{2}}{\\partial x^{2}} H{\\left(u,x,y \\right)}}{4} + \\frac{\\frac{\\partial^{2}}{\\partial y^{2}} H{\\left(u,x,y \\right)}}{4} & 0 & 0 & 0\\end{matrix}\\right]\\\\\\left[\\begin{matrix}0 & 0 & 0 & 0\\\\0 & 0 & 0 & 0\\\\0 & 0 & 0 & 0\\\\0 & 0 & 0 & 0\\end{matrix}\\right] & \\left[\\begin{matrix}0 & 0 & 0 & 0\\\\0 & 0 & 0 & 0\\\\0 & 0 & 0 & 0\\\\0 & 0 & 0 & 0\\end{matrix}\\right] & \\left[\\begin{matrix}0 & 0 & 0 & 0\\\\0 & 0 & 0 & 0\\\\0 & 0 & 0 & 0\\\\0 & 0 & 0 & 0\\end{matrix}\\right] & \\left[\\begin{matrix}0 & 0 & 0 & 0\\\\0 & 0 & 0 & 0\\\\0 & 0 & 0 & 0\\\\0 & 0 & 0 & 0\\end{matrix}\\right]\\\\\\left[\\begin{matrix}0 & 0 & \\frac{\\frac{\\partial^{2}}{\\partial x^{2}} H{\\left(u,x,y \\right)}}{4} - \\frac{\\frac{\\partial^{2}}{\\partial y^{2}} H{\\left(u,x,y \\right)}}{4} & \\frac{\\frac{\\partial^{2}}{\\partial y\\partial x} H{\\left(u,x,y \\right)}}{2}\\\\0 & 0 & 0 & 0\\\\- \\frac{\\frac{\\partial^{2}}{\\partial x^{2}} H{\\left(u,x,y \\right)}}{4} + \\frac{\\frac{\\partial^{2}}{\\partial y^{2}} H{\\left(u,x,y \\right)}}{4} & 0 & 0 & 0\\\\- \\frac{\\frac{\\partial^{2}}{\\partial y\\partial x} H{\\left(u,x,y \\right)}}{2} & 0 & 0 & 0\\end{matrix}\\right] & \\left[\\begin{matrix}0 & 0 & 0 & 0\\\\0 & 0 & 0 & 0\\\\0 & 0 & 0 & 0\\\\0 & 0 & 0 & 0\\end{matrix}\\right] & \\left[\\begin{matrix}0 & 0 & 0 & 0\\\\0 & 0 & 0 & 0\\\\0 & 0 & 0 & 0\\\\0 & 0 & 0 & 0\\end{matrix}\\right] & \\left[\\begin{matrix}0 & 0 & 0 & 0\\\\0 & 0 & 0 & 0\\\\0 & 0 & 0 & 0\\\\0 & 0 & 0 & 0\\end{matrix}\\right]\\\\\\left[\\begin{matrix}0 & 0 & \\frac{\\frac{\\partial^{2}}{\\partial y\\partial x} H{\\left(u,x,y \\right)}}{2} & - \\frac{\\frac{\\partial^{2}}{\\partial x^{2}} H{\\left(u,x,y \\right)}}{4} + \\frac{\\frac{\\partial^{2}}{\\partial y^{2}} H{\\left(u,x,y \\right)}}{4}\\\\0 & 0 & 0 & 0\\\\- \\frac{\\frac{\\partial^{2}}{\\partial y\\partial x} H{\\left(u,x,y \\right)}}{2} & 0 & 0 & 0\\\\\\frac{\\frac{\\partial^{2}}{\\partial x^{2}} H{\\left(u,x,y \\right)}}{4} - \\frac{\\frac{\\partial^{2}}{\\partial y^{2}} H{\\left(u,x,y \\right)}}{4} & 0 & 0 & 0\\end{matrix}\\right] & \\left[\\begin{matrix}0 & 0 & 0 & 0\\\\0 & 0 & 0 & 0\\\\0 & 0 & 0 & 0\\\\0 & 0 & 0 & 0\\end{matrix}\\right] & \\left[\\begin{matrix}0 & 0 & 0 & 0\\\\0 & 0 & 0 & 0\\\\0 & 0 & 0 & 0\\\\0 & 0 & 0 & 0\\end{matrix}\\right] & \\left[\\begin{matrix}0 & 0 & 0 & 0\\\\0 & 0 & 0 & 0\\\\0 & 0 & 0 & 0\\\\0 & 0 & 0 & 0\\end{matrix}\\right]\\end{matrix}\\right]$"
      ],
      "text/plain": [
       "⎡                                                                                           \n",
       "⎢                                                                                           \n",
       "⎢                                                                                           \n",
       "⎢                                                                                           \n",
       "⎢                                                                                           \n",
       "⎢                                                                                           \n",
       "⎢                                                                                           \n",
       "⎢                                                                                           \n",
       "⎢                                                                                           \n",
       "⎢                                         ⎡0  0  0  0⎤                                      \n",
       "⎢                                         ⎢          ⎥                                      \n",
       "⎢                                         ⎢0  0  0  0⎥                                      \n",
       "⎢                                         ⎢          ⎥                                      \n",
       "⎢                                         ⎢0  0  0  0⎥                                      \n",
       "⎢                                         ⎢          ⎥                                      \n",
       "⎢                                         ⎣0  0  0  0⎦                                      \n",
       "⎢                                                                                           \n",
       "⎢                                                                                           \n",
       "⎢                                                                                           \n",
       "⎢                                                                                           \n",
       "⎢                                                                                           \n",
       "⎢                                                                                           \n",
       "⎢                                                                                           \n",
       "⎢                                                                                           \n",
       "⎢                                                                                           \n",
       "⎢                                         ⎡0  0  0  0⎤                                      \n",
       "⎢                                         ⎢          ⎥                                      \n",
       "⎢                                         ⎢0  0  0  0⎥                                      \n",
       "⎢                                         ⎢          ⎥                                      \n",
       "⎢                                         ⎢0  0  0  0⎥                                      \n",
       "⎢                                         ⎢          ⎥                                      \n",
       "⎢                                         ⎣0  0  0  0⎦                                      \n",
       "⎢                                                                                           \n",
       "⎢⎡                                          2                 2                             \n",
       "⎢⎢                                         ∂                 ∂                  2           \n",
       "⎢⎢                                        ───(H(u, x, y))   ───(H(u, x, y))    ∂            \n",
       "⎢⎢                                          2                 2              ─────(H(u, x, y\n",
       "⎢⎢                                        ∂x                ∂y               ∂y ∂x          \n",
       "⎢⎢                 0                   0  ─────────────── - ───────────────  ───────────────\n",
       "⎢⎢                                               4                 4                 2      \n",
       "⎢⎢                                                                                          \n",
       "⎢⎢                 0                   0                  0                          0      \n",
       "⎢⎢                                                                                          \n",
       "⎢⎢    2                 2                                                                   \n",
       "⎢⎢   ∂                 ∂                                                                    \n",
       "⎢⎢  ───(H(u, x, y))   ───(H(u, x, y))                                                       \n",
       "⎢⎢    2                 2                                                                   \n",
       "⎢⎢  ∂x                ∂y                                                                    \n",
       "⎢⎢- ─────────────── + ───────────────  0                  0                          0      \n",
       "⎢⎢         4                 4                                                              \n",
       "⎢⎢                                                                                          \n",
       "⎢⎢            2                                                                             \n",
       "⎢⎢           ∂                                                                              \n",
       "⎢⎢        -─────(H(u, x, y))                                                                \n",
       "⎢⎢         ∂y ∂x                                                                            \n",
       "⎢⎢        ───────────────────          0                  0                          0      \n",
       "⎢⎣                 2                                                                        \n",
       "⎢                                                                                           \n",
       "⎢⎡                                                             2                 2          \n",
       "⎢⎢                                         2                  ∂                 ∂           \n",
       "⎢⎢                                        ∂                  ───(H(u, x, y))   ───(H(u, x, y\n",
       "⎢⎢                                      ─────(H(u, x, y))      2                 2          \n",
       "⎢⎢                                      ∂y ∂x                ∂x                ∂y           \n",
       "⎢⎢                0                  0  ─────────────────  - ─────────────── + ─────────────\n",
       "⎢⎢                                              2                   4                 4     \n",
       "⎢⎢                                                                                          \n",
       "⎢⎢                0                  0          0                           0               \n",
       "⎢⎢                                                                                          \n",
       "⎢⎢           2                                                                              \n",
       "⎢⎢          ∂                                                                               \n",
       "⎢⎢       -─────(H(u, x, y))                                                                 \n",
       "⎢⎢        ∂y ∂x                                                                             \n",
       "⎢⎢       ───────────────────         0          0                           0               \n",
       "⎢⎢                2                                                                         \n",
       "⎢⎢                                                                                          \n",
       "⎢⎢  2                 2                                                                     \n",
       "⎢⎢ ∂                 ∂                                                                      \n",
       "⎢⎢───(H(u, x, y))   ───(H(u, x, y))                                                         \n",
       "⎢⎢  2                 2                                                                     \n",
       "⎢⎢∂x                ∂y                                                                      \n",
       "⎢⎢─────────────── - ───────────────  0          0                           0               \n",
       "⎣⎣       4                 4                                                                \n",
       "\n",
       "                   ⎡                                          2                 2           \n",
       "                   ⎢                                         ∂                 ∂            \n",
       "                   ⎢                                        ───(H(u, x, y))   ───(H(u, x, y)\n",
       "                   ⎢                                          2                 2           \n",
       "                   ⎢                                        ∂x                ∂y            \n",
       "                   ⎢                0                  0  - ─────────────── + ──────────────\n",
       "                   ⎢                                               4                 4      \n",
       "                   ⎢                                                                        \n",
       "                   ⎢                0                  0                   0                \n",
       "     ⎡0  0  0  0⎤  ⎢                                                                        \n",
       "     ⎢          ⎥  ⎢  2                 2                                                   \n",
       "     ⎢0  0  0  0⎥  ⎢ ∂                 ∂                                                    \n",
       "     ⎢          ⎥  ⎢───(H(u, x, y))   ───(H(u, x, y))                                       \n",
       "     ⎢0  0  0  0⎥  ⎢  2                 2                                                   \n",
       "     ⎢          ⎥  ⎢∂x                ∂y                                                    \n",
       "     ⎣0  0  0  0⎦  ⎢─────────────── - ───────────────  0                   0                \n",
       "                   ⎢       4                 4                                              \n",
       "                   ⎢                                                                        \n",
       "                   ⎢           2                                                            \n",
       "                   ⎢          ∂                                                             \n",
       "                   ⎢        ─────(H(u, x, y))                                               \n",
       "                   ⎢        ∂y ∂x                                                           \n",
       "                   ⎢        ─────────────────          0                   0                \n",
       "                   ⎣                2                                                       \n",
       "                                                                                            \n",
       "     ⎡0  0  0  0⎤                                            ⎡0  0  0  0⎤                   \n",
       "     ⎢          ⎥                                            ⎢          ⎥                   \n",
       "     ⎢0  0  0  0⎥                                            ⎢0  0  0  0⎥                   \n",
       "     ⎢          ⎥                                            ⎢          ⎥                   \n",
       "     ⎢0  0  0  0⎥                                            ⎢0  0  0  0⎥                   \n",
       "     ⎢          ⎥                                            ⎢          ⎥                   \n",
       "     ⎣0  0  0  0⎦                                            ⎣0  0  0  0⎦                   \n",
       "                                                                                            \n",
       "  ⎤                                                                                         \n",
       "  ⎥                                                                                         \n",
       "  ⎥                                                                                         \n",
       "))⎥                                                                                         \n",
       "  ⎥                                                                                         \n",
       "──⎥                                                                                         \n",
       "  ⎥                                                                                         \n",
       "  ⎥                                                                                         \n",
       "  ⎥                                                                                         \n",
       "  ⎥  ⎡0  0  0  0⎤                                            ⎡0  0  0  0⎤                   \n",
       "  ⎥  ⎢          ⎥                                            ⎢          ⎥                   \n",
       "  ⎥  ⎢0  0  0  0⎥                                            ⎢0  0  0  0⎥                   \n",
       "  ⎥  ⎢          ⎥                                            ⎢          ⎥                   \n",
       "  ⎥  ⎢0  0  0  0⎥                                            ⎢0  0  0  0⎥                   \n",
       "  ⎥  ⎢          ⎥                                            ⎢          ⎥                   \n",
       "  ⎥  ⎣0  0  0  0⎦                                            ⎣0  0  0  0⎦                   \n",
       "  ⎥                                                                                         \n",
       "  ⎥                                                                                         \n",
       "  ⎥                                                                                         \n",
       "  ⎥                                                                                         \n",
       "  ⎥                                                                                         \n",
       "  ⎥                                                                                         \n",
       "  ⎥                                                                                         \n",
       "  ⎦                                                                                         \n",
       "                                                                                            \n",
       "  ⎤                                                                                         \n",
       "  ⎥                                                                                         \n",
       "))⎥                                                                                         \n",
       "  ⎥                                                                                         \n",
       "  ⎥                                                                                         \n",
       "──⎥                                                                                         \n",
       "  ⎥                                                                                         \n",
       "  ⎥                                                                                         \n",
       "  ⎥                                                                                         \n",
       "  ⎥  ⎡0  0  0  0⎤                                            ⎡0  0  0  0⎤                   \n",
       "  ⎥  ⎢          ⎥                                            ⎢          ⎥                   \n",
       "  ⎥  ⎢0  0  0  0⎥                                            ⎢0  0  0  0⎥                   \n",
       "  ⎥  ⎢          ⎥                                            ⎢          ⎥                   \n",
       "  ⎥  ⎢0  0  0  0⎥                                            ⎢0  0  0  0⎥                   \n",
       "  ⎥  ⎢          ⎥                                            ⎢          ⎥                   \n",
       "  ⎥  ⎣0  0  0  0⎦                                            ⎣0  0  0  0⎦                   \n",
       "  ⎥                                                                                         \n",
       "  ⎥                                                                                         \n",
       "  ⎥                                                                                         \n",
       "  ⎥                                                                                         \n",
       "  ⎥                                                                                         \n",
       "  ⎥                                                                                         \n",
       "  ⎥                                                                                         \n",
       "  ⎦                                                                                         \n",
       "\n",
       "                      ⎤  ⎡                                                               2  \n",
       "       2              ⎥  ⎢                                            2                 ∂   \n",
       ")     ∂               ⎥  ⎢                                           ∂                 ───(H\n",
       "   -─────(H(u, x, y)) ⎥  ⎢                                        -─────(H(u, x, y))     2  \n",
       "    ∂y ∂x             ⎥  ⎢                                         ∂y ∂x               ∂x   \n",
       "─  ───────────────────⎥  ⎢                 0                   0  ───────────────────  ─────\n",
       "            2         ⎥  ⎢                                                 2                \n",
       "                      ⎥  ⎢                                                                  \n",
       "            0         ⎥  ⎢                 0                   0           0                \n",
       "                      ⎥  ⎢                                                                  \n",
       "                      ⎥  ⎢            2                                                     \n",
       "                      ⎥  ⎢           ∂                                                      \n",
       "                      ⎥  ⎢         ─────(H(u, x, y))                                        \n",
       "                      ⎥  ⎢         ∂y ∂x                                                    \n",
       "                      ⎥  ⎢         ─────────────────           0           0                \n",
       "            0         ⎥  ⎢                 2                                                \n",
       "                      ⎥  ⎢                                                                  \n",
       "                      ⎥  ⎢    2                 2                                           \n",
       "                      ⎥  ⎢   ∂                 ∂                                            \n",
       "                      ⎥  ⎢  ───(H(u, x, y))   ───(H(u, x, y))                               \n",
       "                      ⎥  ⎢    2                 2                                           \n",
       "                      ⎥  ⎢  ∂x                ∂y                                            \n",
       "            0         ⎥  ⎢- ─────────────── + ───────────────  0           0                \n",
       "                      ⎦  ⎣         4                 4                                      \n",
       "                                                                                            \n",
       "                                                                   ⎡0  0  0  0⎤             \n",
       "                                                                   ⎢          ⎥             \n",
       "                                                                   ⎢0  0  0  0⎥             \n",
       "                                                                   ⎢          ⎥             \n",
       "                                                                   ⎢0  0  0  0⎥             \n",
       "                                                                   ⎢          ⎥             \n",
       "                                                                   ⎣0  0  0  0⎦             \n",
       "                                                                                            \n",
       "                                                                                            \n",
       "                                                                                            \n",
       "                                                                                            \n",
       "                                                                                            \n",
       "                                                                                            \n",
       "                                                                                            \n",
       "                                                                                            \n",
       "                                                                                            \n",
       "                                                                                            \n",
       "                                                                   ⎡0  0  0  0⎤             \n",
       "                                                                   ⎢          ⎥             \n",
       "                                                                   ⎢0  0  0  0⎥             \n",
       "                                                                   ⎢          ⎥             \n",
       "                                                                   ⎢0  0  0  0⎥             \n",
       "                                                                   ⎢          ⎥             \n",
       "                                                                   ⎣0  0  0  0⎦             \n",
       "                                                                                            \n",
       "                                                                                            \n",
       "                                                                                            \n",
       "                                                                                            \n",
       "                                                                                            \n",
       "                                                                                            \n",
       "                                                                                            \n",
       "                                                                                            \n",
       "                                                                                            \n",
       "                                                                                            \n",
       "                                                                                            \n",
       "                                                                                            \n",
       "                                                                                            \n",
       "                                                                                            \n",
       "                                                                                            \n",
       "                                                                                            \n",
       "                                                                                            \n",
       "                                                                                            \n",
       "                                                                   ⎡0  0  0  0⎤             \n",
       "                                                                   ⎢          ⎥             \n",
       "                                                                   ⎢0  0  0  0⎥             \n",
       "                                                                   ⎢          ⎥             \n",
       "                                                                   ⎢0  0  0  0⎥             \n",
       "                                                                   ⎢          ⎥             \n",
       "                                                                   ⎣0  0  0  0⎦             \n",
       "                                                                                            \n",
       "                                                                                            \n",
       "                                                                                            \n",
       "                                                                                            \n",
       "                                                                                            \n",
       "                                                                                            \n",
       "                                                                                            \n",
       "                                                                                            \n",
       "\n",
       "               2            ⎤⎤\n",
       "              ∂             ⎥⎥\n",
       "(u, x, y))   ───(H(u, x, y))⎥⎥\n",
       "               2            ⎥⎥\n",
       "             ∂y             ⎥⎥\n",
       "────────── - ───────────────⎥⎥\n",
       "  4                 4       ⎥⎥\n",
       "                            ⎥⎥\n",
       "           0                ⎥⎥\n",
       "                            ⎥⎥\n",
       "                            ⎥⎥\n",
       "                            ⎥⎥\n",
       "                            ⎥⎥\n",
       "                            ⎥⎥\n",
       "           0                ⎥⎥\n",
       "                            ⎥⎥\n",
       "                            ⎥⎥\n",
       "                            ⎥⎥\n",
       "                            ⎥⎥\n",
       "                            ⎥⎥\n",
       "                            ⎥⎥\n",
       "                            ⎥⎥\n",
       "           0                ⎥⎥\n",
       "                            ⎦⎥\n",
       "                             ⎥\n",
       "                             ⎥\n",
       "                             ⎥\n",
       "                             ⎥\n",
       "                             ⎥\n",
       "                             ⎥\n",
       "                             ⎥\n",
       "                             ⎥\n",
       "                             ⎥\n",
       "                             ⎥\n",
       "                             ⎥\n",
       "                             ⎥\n",
       "                             ⎥\n",
       "                             ⎥\n",
       "                             ⎥\n",
       "                             ⎥\n",
       "                             ⎥\n",
       "                             ⎥\n",
       "                             ⎥\n",
       "                             ⎥\n",
       "                             ⎥\n",
       "                             ⎥\n",
       "                             ⎥\n",
       "                             ⎥\n",
       "                             ⎥\n",
       "                             ⎥\n",
       "                             ⎥\n",
       "                             ⎥\n",
       "                             ⎥\n",
       "                             ⎥\n",
       "                             ⎥\n",
       "                             ⎥\n",
       "                             ⎥\n",
       "                             ⎥\n",
       "                             ⎥\n",
       "                             ⎥\n",
       "                             ⎥\n",
       "                             ⎥\n",
       "                             ⎥\n",
       "                             ⎥\n",
       "                             ⎥\n",
       "                             ⎥\n",
       "                             ⎥\n",
       "                             ⎥\n",
       "                             ⎥\n",
       "                             ⎥\n",
       "                             ⎥\n",
       "                             ⎥\n",
       "                             ⎥\n",
       "                             ⎥\n",
       "                             ⎥\n",
       "                             ⎥\n",
       "                             ⎥\n",
       "                             ⎥\n",
       "                             ⎥\n",
       "                             ⎥\n",
       "                             ⎥\n",
       "                             ⎦"
      ]
     },
     "execution_count": 20,
     "metadata": {},
     "output_type": "execute_result"
    }
   ],
   "source": [
    "weyl = WeylTensor.from_metric(metric)\n",
    "weyl.tensor()"
   ]
  },
  {
   "cell_type": "code",
   "execution_count": null,
   "id": "346a1c33",
   "metadata": {},
   "outputs": [],
   "source": []
  }
 ],
 "metadata": {
  "@webio": {
   "lastCommId": "de1c159739fe4c1c9cc3abbe93796ad3",
   "lastKernelId": "d1ef993e-ba94-4d34-bc5a-1831230dc61d"
  },
  "kernelspec": {
   "display_name": "Python 3 (ipykernel)",
   "language": "python",
   "name": "python3"
  },
  "language_info": {
   "codemirror_mode": {
    "name": "ipython",
    "version": 3
   },
   "file_extension": ".py",
   "mimetype": "text/x-python",
   "name": "python",
   "nbconvert_exporter": "python",
   "pygments_lexer": "ipython3",
   "version": "3.8.8"
  }
 },
 "nbformat": 4,
 "nbformat_minor": 5
}
