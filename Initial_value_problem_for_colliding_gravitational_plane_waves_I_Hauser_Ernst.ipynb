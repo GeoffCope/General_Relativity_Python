{
 "cells": [
  {
   "cell_type": "markdown",
   "id": "a496e2f3",
   "metadata": {},
   "source": [
    "# Initial value problem for colliding gravitational plane waves I by Hauser & Ernst\n",
    "##  Geoff Cope\n",
    "##  Univeristy of Utah\n",
    "##  December 22, 2021"
   ]
  },
  {
   "cell_type": "markdown",
   "id": "dd4138e5",
   "metadata": {},
   "source": [
    "https://aip.scitation.org/doi/abs/10.1063/1.528355"
   ]
  },
  {
   "cell_type": "code",
   "execution_count": 1,
   "id": "0639fffc",
   "metadata": {},
   "outputs": [
    {
     "name": "stdout",
     "output_type": "stream",
     "text": [
      "IPython console for SymPy 1.9 (Python 3.8.8-64-bit) (ground types: gmpy)\n",
      "\n",
      "These commands were executed:\n",
      ">>> from __future__ import division\n",
      ">>> from sympy import *\n",
      ">>> x, y, z, t = symbols('x y z t')\n",
      ">>> k, m, n = symbols('k m n', integer=True)\n",
      ">>> f, g, h = symbols('f g h', cls=Function)\n",
      ">>> init_printing()\n",
      "\n",
      "Documentation can be found at https://docs.sympy.org/1.9/\n",
      "\n"
     ]
    }
   ],
   "source": [
    "from sympy import init_session\n",
    "init_session(use_latex=True)"
   ]
  },
  {
   "cell_type": "code",
   "execution_count": 2,
   "id": "bc117a94",
   "metadata": {},
   "outputs": [],
   "source": [
    "import warnings\n",
    "import matplotlib.cbook\n",
    "warnings.filterwarnings(\"ignore\",category=matplotlib.cbook.mplDeprecation)"
   ]
  },
  {
   "cell_type": "code",
   "execution_count": 3,
   "id": "fcb513e7",
   "metadata": {},
   "outputs": [],
   "source": [
    "u,v,x,y,du,dv,dx,dy = symbols('u v x y du dv dx dy')"
   ]
  },
  {
   "cell_type": "code",
   "execution_count": 4,
   "id": "3020b320",
   "metadata": {},
   "outputs": [
    {
     "data": {
      "image/png": "[encoded data removed]",
      "text/latex": [
       "$\\displaystyle \\rho{\\left(u,v \\right)}$"
      ],
      "text/plain": [
       "ρ(u, v)"
      ]
     },
     "execution_count": 4,
     "metadata": {},
     "output_type": "execute_result"
    }
   ],
   "source": [
    "rho = Function('rho')(u,v)\n",
    "rho"
   ]
  },
  {
   "cell_type": "code",
   "execution_count": 5,
   "id": "fca1c1ed",
   "metadata": {},
   "outputs": [
    {
     "data": {
      "image/png": "[encoded data removed]",
      "text/latex": [
       "$\\displaystyle \\psi{\\left(u,v \\right)}$"
      ],
      "text/plain": [
       "ψ(u, v)"
      ]
     },
     "execution_count": 5,
     "metadata": {},
     "output_type": "execute_result"
    }
   ],
   "source": [
    "psi = Function('psi')(u,v)\n",
    "psi"
   ]
  },
  {
   "cell_type": "code",
   "execution_count": 6,
   "id": "5d26517f",
   "metadata": {},
   "outputs": [
    {
     "data": {
      "image/png": "[encoded data removed]",
      "text/latex": [
       "$\\displaystyle \\gamma{\\left(u,v \\right)}$"
      ],
      "text/plain": [
       "γ(u, v)"
      ]
     },
     "execution_count": 6,
     "metadata": {},
     "output_type": "execute_result"
    }
   ],
   "source": [
    "gamma = Function('gamma')(u,v)\n",
    "gamma"
   ]
  },
  {
   "cell_type": "code",
   "execution_count": 16,
   "id": "cb5ac424",
   "metadata": {},
   "outputs": [
    {
     "data": {
      "image/png": "[encoded data removed]",
      "text/latex": [
       "$\\displaystyle - \\frac{2 du dv e^{2 \\gamma{\\left(u,v \\right)}}}{\\rho^{0.5}{\\left(u,v \\right)}} + dx^{2} \\rho{\\left(u,v \\right)} e^{- 2 \\psi{\\left(u,v \\right)}} + dy^{2} \\rho{\\left(u,v \\right)} e^{2 \\psi{\\left(u,v \\right)}}$"
      ],
      "text/plain": [
       "           -0.5        2⋅γ(u, v)     2          -2⋅ψ(u, v)     2          2⋅ψ(u, v)\n",
       "- 2⋅du⋅dv⋅ρ    (u, v)⋅ℯ          + dx ⋅ρ(u, v)⋅ℯ           + dy ⋅ρ(u, v)⋅ℯ         "
      ]
     },
     "execution_count": 16,
     "metadata": {},
     "output_type": "execute_result"
    }
   ],
   "source": [
    "lineElement = expand( rho * ( exp(-2*psi) * dx**2 + exp(2*psi) * dy**2 ) - (2/rho**(1/2)) * ( exp(2*gamma)*du*dv) )\n",
    "lineElement "
   ]
  },
  {
   "cell_type": "code",
   "execution_count": null,
   "id": "799398da",
   "metadata": {},
   "outputs": [],
   "source": []
  }
 ],
 "metadata": {
  "@webio": {
   "lastCommId": "596b8ea5e22b466f9763484024275d21",
   "lastKernelId": "516212c0-30ea-48bf-a280-e68fd1242c3c"
  },
  "kernelspec": {
   "display_name": "Python 3 (ipykernel)",
   "language": "python",
   "name": "python3"
  },
  "language_info": {
   "codemirror_mode": {
    "name": "ipython",
    "version": 3
   },
   "file_extension": ".py",
   "mimetype": "text/x-python",
   "name": "python",
   "nbconvert_exporter": "python",
   "pygments_lexer": "ipython3",
   "version": "3.8.8"
  }
 },
 "nbformat": 4,
 "nbformat_minor": 5
}
