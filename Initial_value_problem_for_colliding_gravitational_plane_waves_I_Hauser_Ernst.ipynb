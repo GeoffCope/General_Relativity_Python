{
 "cells": [
  {
   "cell_type": "markdown",
   "id": "a496e2f3",
   "metadata": {},
   "source": [
    "# Initial value problem for colliding gravitational plane waves I by Hauser & Ernst\n",
    "##  Geoff Cope\n",
    "##  Univeristy of Utah\n",
    "##  December 22, 2021"
   ]
  },
  {
   "cell_type": "markdown",
   "id": "dd4138e5",
   "metadata": {},
   "source": [
    "https://aip.scitation.org/doi/abs/10.1063/1.528355"
   ]
  },
  {
   "cell_type": "markdown",
   "id": "11ee7b14",
   "metadata": {},
   "source": [
    "Note:  Equation 2.22 is the Ernst equation.  See other notebook for its derivation.  The metric 1.1 is in double null coordinates.  Hopefully it's the case that after transforming back one does get Laplace's equation 1.4"
   ]
  },
  {
   "cell_type": "code",
   "execution_count": 1,
   "id": "0639fffc",
   "metadata": {},
   "outputs": [
    {
     "name": "stdout",
     "output_type": "stream",
     "text": [
      "IPython console for SymPy 1.9 (Python 3.8.8-64-bit) (ground types: gmpy)\n",
      "\n",
      "These commands were executed:\n",
      ">>> from __future__ import division\n",
      ">>> from sympy import *\n",
      ">>> x, y, z, t = symbols('x y z t')\n",
      ">>> k, m, n = symbols('k m n', integer=True)\n",
      ">>> f, g, h = symbols('f g h', cls=Function)\n",
      ">>> init_printing()\n",
      "\n",
      "Documentation can be found at https://docs.sympy.org/1.9/\n",
      "\n"
     ]
    }
   ],
   "source": [
    "from sympy import init_session\n",
    "init_session(use_latex=True)"
   ]
  },
  {
   "cell_type": "code",
   "execution_count": 2,
   "id": "bc117a94",
   "metadata": {},
   "outputs": [],
   "source": [
    "import warnings\n",
    "import matplotlib.cbook\n",
    "warnings.filterwarnings(\"ignore\",category=matplotlib.cbook.mplDeprecation)"
   ]
  },
  {
   "cell_type": "code",
   "execution_count": 3,
   "id": "fcb513e7",
   "metadata": {},
   "outputs": [],
   "source": [
    "u,v,x,y,du,dv,dx,dy = symbols('u v x y du dv dx dy')"
   ]
  },
  {
   "cell_type": "code",
   "execution_count": 4,
   "id": "3020b320",
   "metadata": {},
   "outputs": [
    {
     "data": {
      "image/png": "[encoded data removed]",
      "text/latex": [
       "$\\displaystyle \\rho{\\left(u,v \\right)}$"
      ],
      "text/plain": [
       "ρ(u, v)"
      ]
     },
     "execution_count": 4,
     "metadata": {},
     "output_type": "execute_result"
    }
   ],
   "source": [
    "rho = Function('rho')(u,v)\n",
    "rho"
   ]
  },
  {
   "cell_type": "code",
   "execution_count": 5,
   "id": "fca1c1ed",
   "metadata": {},
   "outputs": [
    {
     "data": {
      "image/png": "[encoded data removed]",
      "text/latex": [
       "$\\displaystyle \\psi{\\left(u,v \\right)}$"
      ],
      "text/plain": [
       "ψ(u, v)"
      ]
     },
     "execution_count": 5,
     "metadata": {},
     "output_type": "execute_result"
    }
   ],
   "source": [
    "psi = Function('psi')(u,v)\n",
    "psi"
   ]
  },
  {
   "cell_type": "code",
   "execution_count": 6,
   "id": "5d26517f",
   "metadata": {},
   "outputs": [
    {
     "data": {
      "image/png": "[encoded data removed]",
      "text/latex": [
       "$\\displaystyle \\gamma{\\left(u,v \\right)}$"
      ],
      "text/plain": [
       "γ(u, v)"
      ]
     },
     "execution_count": 6,
     "metadata": {},
     "output_type": "execute_result"
    }
   ],
   "source": [
    "gamma = Function('gamma')(u,v)\n",
    "gamma"
   ]
  },
  {
   "cell_type": "code",
   "execution_count": 7,
   "id": "e0a79256",
   "metadata": {},
   "outputs": [
    {
     "data": {
      "text/latex": [
       "$\\displaystyle \\left[\\begin{matrix}u\\\\v\\\\x\\\\y\\end{matrix}\\right]$"
      ],
      "text/plain": [
       "⎡u⎤\n",
       "⎢ ⎥\n",
       "⎢v⎥\n",
       "⎢ ⎥\n",
       "⎢x⎥\n",
       "⎢ ⎥\n",
       "⎣y⎦"
      ]
     },
     "execution_count": 7,
     "metadata": {},
     "output_type": "execute_result"
    }
   ],
   "source": [
    "variables = Matrix([u,v,x,y])\n",
    "variables"
   ]
  },
  {
   "cell_type": "code",
   "execution_count": 8,
   "id": "bdb50818",
   "metadata": {},
   "outputs": [
    {
     "data": {
      "text/latex": [
       "$\\displaystyle \\left[\\begin{matrix}du\\\\dv\\\\dx\\\\dy\\end{matrix}\\right]$"
      ],
      "text/plain": [
       "⎡du⎤\n",
       "⎢  ⎥\n",
       "⎢dv⎥\n",
       "⎢  ⎥\n",
       "⎢dx⎥\n",
       "⎢  ⎥\n",
       "⎣dy⎦"
      ]
     },
     "execution_count": 8,
     "metadata": {},
     "output_type": "execute_result"
    }
   ],
   "source": [
    "differentials = Matrix([du,dv,dx,dy])\n",
    "differentials"
   ]
  },
  {
   "cell_type": "code",
   "execution_count": 24,
   "id": "cb5ac424",
   "metadata": {},
   "outputs": [
    {
     "data": {
      "image/png": "[encoded data removed]",
      "text/latex": [
       "$\\displaystyle - \\frac{2 du dv e^{2 \\gamma{\\left(u,v \\right)}}}{\\sqrt{\\rho{\\left(u,v \\right)}}} + dx^{2} \\rho{\\left(u,v \\right)} e^{- 2 \\psi{\\left(u,v \\right)}} + dy^{2} \\rho{\\left(u,v \\right)} e^{2 \\psi{\\left(u,v \\right)}}$"
      ],
      "text/plain": [
       "           2⋅γ(u, v)                                                   \n",
       "  2⋅du⋅dv⋅ℯ              2          -2⋅ψ(u, v)     2          2⋅ψ(u, v)\n",
       "- ────────────────── + dx ⋅ρ(u, v)⋅ℯ           + dy ⋅ρ(u, v)⋅ℯ         \n",
       "       _________                                                       \n",
       "     ╲╱ ρ(u, v)                                                        "
      ]
     },
     "execution_count": 24,
     "metadata": {},
     "output_type": "execute_result"
    }
   ],
   "source": [
    "lineElement = expand( rho * ( exp(-2*psi) * dx**2 + exp(2*psi) * dy**2 ) - (2/rho**(Rational(1,2))) * ( exp(2*gamma)*du*dv) )\n",
    "lineElement "
   ]
  },
  {
   "cell_type": "code",
   "execution_count": 25,
   "id": "799398da",
   "metadata": {},
   "outputs": [
    {
     "data": {
      "text/latex": [
       "$\\displaystyle \\left[\\begin{matrix}0 & - \\frac{e^{2 \\gamma{\\left(u,v \\right)}}}{\\sqrt{\\rho{\\left(u,v \\right)}}} & 0 & 0\\\\- \\frac{e^{2 \\gamma{\\left(u,v \\right)}}}{\\sqrt{\\rho{\\left(u,v \\right)}}} & 0 & 0 & 0\\\\0 & 0 & \\rho{\\left(u,v \\right)} e^{- 2 \\psi{\\left(u,v \\right)}} & 0\\\\0 & 0 & 0 & \\rho{\\left(u,v \\right)} e^{2 \\psi{\\left(u,v \\right)}}\\end{matrix}\\right]$"
      ],
      "text/plain": [
       "⎡                2⋅γ(u, v)                                          ⎤\n",
       "⎢              -ℯ                                                   ⎥\n",
       "⎢     0        ────────────           0                   0         ⎥\n",
       "⎢                _________                                          ⎥\n",
       "⎢              ╲╱ ρ(u, v)                                           ⎥\n",
       "⎢                                                                   ⎥\n",
       "⎢  2⋅γ(u, v)                                                        ⎥\n",
       "⎢-ℯ                                                                 ⎥\n",
       "⎢────────────       0                 0                   0         ⎥\n",
       "⎢  _________                                                        ⎥\n",
       "⎢╲╱ ρ(u, v)                                                         ⎥\n",
       "⎢                                                                   ⎥\n",
       "⎢                                     -2⋅ψ(u, v)                    ⎥\n",
       "⎢     0             0        ρ(u, v)⋅ℯ                    0         ⎥\n",
       "⎢                                                                   ⎥\n",
       "⎢                                                          2⋅ψ(u, v)⎥\n",
       "⎣     0             0                 0           ρ(u, v)⋅ℯ         ⎦"
      ]
     },
     "execution_count": 25,
     "metadata": {},
     "output_type": "execute_result"
    }
   ],
   "source": [
    "g = zeros(4)\n",
    "\n",
    "for i in range(4):\n",
    "    for j in range(4):\n",
    "        if i == j:\n",
    "            g[i,j] = lineElement.coeff( differentials[i],2 ) \n",
    "        else:\n",
    "            g[i,j] = Rational(1,2)*lineElement.coeff( differentials[i]*differentials[j],1 )\n",
    "            \n",
    "g"
   ]
  },
  {
   "cell_type": "code",
   "execution_count": 26,
   "id": "b9cb0e8c",
   "metadata": {},
   "outputs": [],
   "source": [
    "import sympy"
   ]
  },
  {
   "cell_type": "code",
   "execution_count": 27,
   "id": "675b9296",
   "metadata": {},
   "outputs": [
    {
     "data": {
      "text/latex": [
       "$\\displaystyle \\left[\\begin{matrix}0 & - \\frac{e^{2 \\gamma{\\left(u,v \\right)}}}{\\sqrt{\\rho{\\left(u,v \\right)}}} & 0 & 0\\\\- \\frac{e^{2 \\gamma{\\left(u,v \\right)}}}{\\sqrt{\\rho{\\left(u,v \\right)}}} & 0 & 0 & 0\\\\0 & 0 & \\rho{\\left(u,v \\right)} e^{- 2 \\psi{\\left(u,v \\right)}} & 0\\\\0 & 0 & 0 & \\rho{\\left(u,v \\right)} e^{2 \\psi{\\left(u,v \\right)}}\\end{matrix}\\right]$"
      ],
      "text/plain": [
       "⎡                2⋅γ(u, v)                                          ⎤\n",
       "⎢              -ℯ                                                   ⎥\n",
       "⎢     0        ────────────           0                   0         ⎥\n",
       "⎢                _________                                          ⎥\n",
       "⎢              ╲╱ ρ(u, v)                                           ⎥\n",
       "⎢                                                                   ⎥\n",
       "⎢  2⋅γ(u, v)                                                        ⎥\n",
       "⎢-ℯ                                                                 ⎥\n",
       "⎢────────────       0                 0                   0         ⎥\n",
       "⎢  _________                                                        ⎥\n",
       "⎢╲╱ ρ(u, v)                                                         ⎥\n",
       "⎢                                                                   ⎥\n",
       "⎢                                     -2⋅ψ(u, v)                    ⎥\n",
       "⎢     0             0        ρ(u, v)⋅ℯ                    0         ⎥\n",
       "⎢                                                                   ⎥\n",
       "⎢                                                          2⋅ψ(u, v)⎥\n",
       "⎣     0             0                 0           ρ(u, v)⋅ℯ         ⎦"
      ]
     },
     "execution_count": 27,
     "metadata": {},
     "output_type": "execute_result"
    }
   ],
   "source": [
    "m = sympy.Array(g)\n",
    "m"
   ]
  },
  {
   "cell_type": "code",
   "execution_count": 13,
   "id": "812111ab",
   "metadata": {},
   "outputs": [],
   "source": [
    "from einsteinpy.symbolic import *"
   ]
  },
  {
   "cell_type": "code",
   "execution_count": 28,
   "id": "af931ec5",
   "metadata": {},
   "outputs": [],
   "source": [
    "syms = sympy.symbols(\"u v x y\")\n",
    "u,v,x,y = syms"
   ]
  },
  {
   "cell_type": "code",
   "execution_count": 29,
   "id": "b1ebc811",
   "metadata": {},
   "outputs": [],
   "source": [
    "metric = MetricTensor(m,syms)"
   ]
  },
  {
   "cell_type": "code",
   "execution_count": 30,
   "id": "ca9e77e7",
   "metadata": {},
   "outputs": [
    {
     "data": {
      "text/latex": [
       "$\\displaystyle \\left[\\begin{matrix}\\left[\\begin{matrix}2 \\frac{\\partial}{\\partial u} \\gamma{\\left(u,v \\right)} - \\frac{\\frac{\\partial}{\\partial u} \\rho{\\left(u,v \\right)}}{2 \\rho{\\left(u,v \\right)}} & 0 & 0 & 0\\\\0 & 0 & 0 & 0\\\\0 & 0 & \\left(- \\rho{\\left(u,v \\right)} \\frac{\\partial}{\\partial v} \\psi{\\left(u,v \\right)} + \\frac{\\frac{\\partial}{\\partial v} \\rho{\\left(u,v \\right)}}{2}\\right) \\sqrt{\\rho{\\left(u,v \\right)}} e^{- 2 \\gamma{\\left(u,v \\right)} - 2 \\psi{\\left(u,v \\right)}} & 0\\\\0 & 0 & 0 & \\left(\\rho{\\left(u,v \\right)} \\frac{\\partial}{\\partial v} \\psi{\\left(u,v \\right)} + \\frac{\\frac{\\partial}{\\partial v} \\rho{\\left(u,v \\right)}}{2}\\right) \\sqrt{\\rho{\\left(u,v \\right)}} e^{- 2 \\gamma{\\left(u,v \\right)} + 2 \\psi{\\left(u,v \\right)}}\\end{matrix}\\right] & \\left[\\begin{matrix}0 & 0 & 0 & 0\\\\0 & 2 \\frac{\\partial}{\\partial v} \\gamma{\\left(u,v \\right)} - \\frac{\\frac{\\partial}{\\partial v} \\rho{\\left(u,v \\right)}}{2 \\rho{\\left(u,v \\right)}} & 0 & 0\\\\0 & 0 & \\left(- \\rho{\\left(u,v \\right)} \\frac{\\partial}{\\partial u} \\psi{\\left(u,v \\right)} + \\frac{\\frac{\\partial}{\\partial u} \\rho{\\left(u,v \\right)}}{2}\\right) \\sqrt{\\rho{\\left(u,v \\right)}} e^{- 2 \\gamma{\\left(u,v \\right)} - 2 \\psi{\\left(u,v \\right)}} & 0\\\\0 & 0 & 0 & \\left(\\rho{\\left(u,v \\right)} \\frac{\\partial}{\\partial u} \\psi{\\left(u,v \\right)} + \\frac{\\frac{\\partial}{\\partial u} \\rho{\\left(u,v \\right)}}{2}\\right) \\sqrt{\\rho{\\left(u,v \\right)}} e^{- 2 \\gamma{\\left(u,v \\right)} + 2 \\psi{\\left(u,v \\right)}}\\end{matrix}\\right] & \\left[\\begin{matrix}0 & 0 & - \\frac{\\partial}{\\partial u} \\psi{\\left(u,v \\right)} + \\frac{\\frac{\\partial}{\\partial u} \\rho{\\left(u,v \\right)}}{2 \\rho{\\left(u,v \\right)}} & 0\\\\0 & 0 & - \\frac{\\partial}{\\partial v} \\psi{\\left(u,v \\right)} + \\frac{\\frac{\\partial}{\\partial v} \\rho{\\left(u,v \\right)}}{2 \\rho{\\left(u,v \\right)}} & 0\\\\- \\frac{\\partial}{\\partial u} \\psi{\\left(u,v \\right)} + \\frac{\\frac{\\partial}{\\partial u} \\rho{\\left(u,v \\right)}}{2 \\rho{\\left(u,v \\right)}} & - \\frac{\\partial}{\\partial v} \\psi{\\left(u,v \\right)} + \\frac{\\frac{\\partial}{\\partial v} \\rho{\\left(u,v \\right)}}{2 \\rho{\\left(u,v \\right)}} & 0 & 0\\\\0 & 0 & 0 & 0\\end{matrix}\\right] & \\left[\\begin{matrix}0 & 0 & 0 & \\frac{\\partial}{\\partial u} \\psi{\\left(u,v \\right)} + \\frac{\\frac{\\partial}{\\partial u} \\rho{\\left(u,v \\right)}}{2 \\rho{\\left(u,v \\right)}}\\\\0 & 0 & 0 & \\frac{\\partial}{\\partial v} \\psi{\\left(u,v \\right)} + \\frac{\\frac{\\partial}{\\partial v} \\rho{\\left(u,v \\right)}}{2 \\rho{\\left(u,v \\right)}}\\\\0 & 0 & 0 & 0\\\\\\frac{\\partial}{\\partial u} \\psi{\\left(u,v \\right)} + \\frac{\\frac{\\partial}{\\partial u} \\rho{\\left(u,v \\right)}}{2 \\rho{\\left(u,v \\right)}} & \\frac{\\partial}{\\partial v} \\psi{\\left(u,v \\right)} + \\frac{\\frac{\\partial}{\\partial v} \\rho{\\left(u,v \\right)}}{2 \\rho{\\left(u,v \\right)}} & 0 & 0\\end{matrix}\\right]\\end{matrix}\\right]$"
      ],
      "text/plain": [
       "⎡⎡                ∂                                                                         \n",
       "⎢⎢                ──(ρ(u, v))                                                               \n",
       "⎢⎢  ∂             ∂u                                                                        \n",
       "⎢⎢2⋅──(γ(u, v)) - ───────────  0                                      0                     \n",
       "⎢⎢  ∂u             2⋅ρ(u, v)                                                                \n",
       "⎢⎢                                                                                          \n",
       "⎢⎢             0               0                                      0                     \n",
       "⎢⎢                                                                                          \n",
       "⎢⎢                                ⎛                        ∂          ⎞                     \n",
       "⎢⎢                                ⎜                        ──(ρ(u, v))⎟                     \n",
       "⎢⎢                                ⎜          ∂             ∂v         ⎟   _________  -2⋅γ(u,\n",
       "⎢⎢             0               0  ⎜- ρ(u, v)⋅──(ψ(u, v)) + ───────────⎟⋅╲╱ ρ(u, v) ⋅ℯ       \n",
       "⎢⎢                                ⎝          ∂v                 2     ⎠                     \n",
       "⎢⎢                                                                                          \n",
       "⎢⎢                                                                                          \n",
       "⎢⎢                                                                                          \n",
       "⎢⎢                                                                                          \n",
       "⎢⎢             0               0                                      0                     \n",
       "⎣⎣                                                                                          \n",
       "\n",
       "                                                                                        ⎤  ⎡\n",
       "                                                                                        ⎥  ⎢\n",
       "                                                                                        ⎥  ⎢\n",
       "                                                    0                                   ⎥  ⎢\n",
       "                                                                                        ⎥  ⎢\n",
       "                                                                                        ⎥  ⎢\n",
       "                                                    0                                   ⎥  ⎢\n",
       "                                                                                        ⎥  ⎢\n",
       "                                                                                        ⎥  ⎢\n",
       "                                                                                        ⎥  ⎢\n",
       " v) - 2⋅ψ(u, v)                                                                         ⎥  ⎢\n",
       "                                                    0                                   ⎥  ⎢\n",
       "                                                                                        ⎥  ⎢\n",
       "                                                                                        ⎥  ⎢\n",
       "                 ⎛                      ∂          ⎞                                    ⎥  ⎢\n",
       "                 ⎜                      ──(ρ(u, v))⎟                                    ⎥  ⎢\n",
       "                 ⎜        ∂             ∂v         ⎟   _________  -2⋅γ(u, v) + 2⋅ψ(u, v)⎥  ⎢\n",
       "                 ⎜ρ(u, v)⋅──(ψ(u, v)) + ───────────⎟⋅╲╱ ρ(u, v) ⋅ℯ                      ⎥  ⎢\n",
       "                 ⎝        ∂v                 2     ⎠                                    ⎦  ⎣\n",
       "\n",
       "0               0                                                   0                       \n",
       "                                                                                            \n",
       "                   ∂                                                                        \n",
       "                   ──(ρ(u, v))                                                              \n",
       "     ∂             ∂v                                                                       \n",
       "0  2⋅──(γ(u, v)) - ───────────                                      0                       \n",
       "     ∂v             2⋅ρ(u, v)                                                               \n",
       "                                                                                            \n",
       "                                ⎛                        ∂          ⎞                       \n",
       "                                ⎜                        ──(ρ(u, v))⎟                       \n",
       "                                ⎜          ∂             ∂u         ⎟   _________  -2⋅γ(u, v\n",
       "0               0               ⎜- ρ(u, v)⋅──(ψ(u, v)) + ───────────⎟⋅╲╱ ρ(u, v) ⋅ℯ         \n",
       "                                ⎝          ∂u                 2     ⎠                       \n",
       "                                                                                            \n",
       "                                                                                            \n",
       "                                                                                            \n",
       "                                                                                            \n",
       "0               0                                                   0                       \n",
       "                                                                                            \n",
       "\n",
       "                                                  0                                   ⎤  ⎡  \n",
       "                                                                                      ⎥  ⎢  \n",
       "                                                                                      ⎥  ⎢  \n",
       "                                                                                      ⎥  ⎢  \n",
       "                                                                                      ⎥  ⎢  \n",
       "                                                  0                                   ⎥  ⎢  \n",
       "                                                                                      ⎥  ⎢  \n",
       "                                                                                      ⎥  ⎢  \n",
       "                                                                                      ⎥  ⎢  \n",
       "                                                                                      ⎥  ⎢  \n",
       ") - 2⋅ψ(u, v)                                                                         ⎥  ⎢  \n",
       "                                                  0                                   ⎥  ⎢  \n",
       "                                                                                      ⎥  ⎢  \n",
       "                                                                                      ⎥  ⎢  \n",
       "               ⎛                      ∂          ⎞                                    ⎥  ⎢  \n",
       "               ⎜                      ──(ρ(u, v))⎟                                    ⎥  ⎢- \n",
       "               ⎜        ∂             ∂u         ⎟   _________  -2⋅γ(u, v) + 2⋅ψ(u, v)⎥  ⎢  \n",
       "               ⎜ρ(u, v)⋅──(ψ(u, v)) + ───────────⎟⋅╲╱ ρ(u, v) ⋅ℯ                      ⎥  ⎢  \n",
       "               ⎝        ∂u                 2     ⎠                                    ⎦  ⎣  \n",
       "\n",
       "                                                                        ∂             ⎤  ⎡  \n",
       "                                                                        ──(ρ(u, v))   ⎥  ⎢  \n",
       "                                                          ∂             ∂u            ⎥  ⎢  \n",
       "           0                            0               - ──(ψ(u, v)) + ───────────  0⎥  ⎢  \n",
       "                                                          ∂u             2⋅ρ(u, v)    ⎥  ⎢  \n",
       "                                                                                      ⎥  ⎢  \n",
       "                                                                        ∂             ⎥  ⎢  \n",
       "                                                                        ──(ρ(u, v))   ⎥  ⎢  \n",
       "                                                          ∂             ∂v            ⎥  ⎢  \n",
       "           0                            0               - ──(ψ(u, v)) + ───────────  0⎥  ⎢  \n",
       "                                                          ∂v             2⋅ρ(u, v)    ⎥  ⎢  \n",
       "                                                                                      ⎥  ⎢  \n",
       "              ∂                            ∂                                          ⎥  ⎢  \n",
       "              ──(ρ(u, v))                  ──(ρ(u, v))                                ⎥  ⎢  \n",
       "∂             ∂u             ∂             ∂v                                         ⎥  ⎢  \n",
       "──(ψ(u, v)) + ───────────  - ──(ψ(u, v)) + ───────────               0               0⎥  ⎢  \n",
       "∂u             2⋅ρ(u, v)     ∂v             2⋅ρ(u, v)                                 ⎥  ⎢∂ \n",
       "                                                                                      ⎥  ⎢──\n",
       "           0                            0                            0               0⎦  ⎣∂u\n",
       "\n",
       "                                                                     ∂          ⎤⎤\n",
       "                                                                     ──(ρ(u, v))⎥⎥\n",
       "                                                       ∂             ∂u         ⎥⎥\n",
       "          0                          0              0  ──(ψ(u, v)) + ───────────⎥⎥\n",
       "                                                       ∂u             2⋅ρ(u, v) ⎥⎥\n",
       "                                                                                ⎥⎥\n",
       "                                                                     ∂          ⎥⎥\n",
       "                                                                     ──(ρ(u, v))⎥⎥\n",
       "                                                       ∂             ∂v         ⎥⎥\n",
       "          0                          0              0  ──(ψ(u, v)) + ───────────⎥⎥\n",
       "                                                       ∂v             2⋅ρ(u, v) ⎥⎥\n",
       "                                                                                ⎥⎥\n",
       "          0                          0              0              0            ⎥⎥\n",
       "                                                                                ⎥⎥\n",
       "            ∂                          ∂                                        ⎥⎥\n",
       "            ──(ρ(u, v))                ──(ρ(u, v))                              ⎥⎥\n",
       "            ∂u           ∂             ∂v                                       ⎥⎥\n",
       "(ψ(u, v)) + ───────────  ──(ψ(u, v)) + ───────────  0              0            ⎥⎥\n",
       "             2⋅ρ(u, v)   ∂v             2⋅ρ(u, v)                               ⎦⎦"
      ]
     },
     "execution_count": 30,
     "metadata": {},
     "output_type": "execute_result"
    }
   ],
   "source": [
    "ch = ChristoffelSymbols.from_metric(metric)\n",
    "simplify(ch.tensor())"
   ]
  },
  {
   "cell_type": "code",
   "execution_count": 31,
   "id": "10e1c93b",
   "metadata": {},
   "outputs": [
    {
     "data": {
      "text/latex": [
       "$\\displaystyle \\left[\\begin{matrix}\\frac{- 2 \\rho{\\left(u,v \\right)} \\left(\\frac{\\partial}{\\partial u} \\psi{\\left(u,v \\right)}\\right)^{2} + 2 \\frac{\\partial}{\\partial u} \\gamma{\\left(u,v \\right)} \\frac{\\partial}{\\partial u} \\rho{\\left(u,v \\right)} - \\frac{\\partial^{2}}{\\partial u^{2}} \\rho{\\left(u,v \\right)}}{\\rho{\\left(u,v \\right)}} & - 2 \\frac{\\partial}{\\partial u} \\psi{\\left(u,v \\right)} \\frac{\\partial}{\\partial v} \\psi{\\left(u,v \\right)} - 2 \\frac{\\partial^{2}}{\\partial v\\partial u} \\gamma{\\left(u,v \\right)} - \\frac{\\frac{\\partial^{2}}{\\partial v\\partial u} \\rho{\\left(u,v \\right)}}{2 \\rho{\\left(u,v \\right)}} & 0 & 0\\\\- 2 \\frac{\\partial}{\\partial u} \\psi{\\left(u,v \\right)} \\frac{\\partial}{\\partial v} \\psi{\\left(u,v \\right)} - 2 \\frac{\\partial^{2}}{\\partial v\\partial u} \\gamma{\\left(u,v \\right)} - \\frac{\\frac{\\partial^{2}}{\\partial v\\partial u} \\rho{\\left(u,v \\right)}}{2 \\rho{\\left(u,v \\right)}} & \\frac{- 2 \\rho{\\left(u,v \\right)} \\left(\\frac{\\partial}{\\partial v} \\psi{\\left(u,v \\right)}\\right)^{2} + 2 \\frac{\\partial}{\\partial v} \\gamma{\\left(u,v \\right)} \\frac{\\partial}{\\partial v} \\rho{\\left(u,v \\right)} - \\frac{\\partial^{2}}{\\partial v^{2}} \\rho{\\left(u,v \\right)}}{\\rho{\\left(u,v \\right)}} & 0 & 0\\\\0 & 0 & \\left(- 2 \\rho{\\left(u,v \\right)} \\frac{\\partial^{2}}{\\partial v\\partial u} \\psi{\\left(u,v \\right)} - \\frac{\\partial}{\\partial u} \\psi{\\left(u,v \\right)} \\frac{\\partial}{\\partial v} \\rho{\\left(u,v \\right)} - \\frac{\\partial}{\\partial v} \\psi{\\left(u,v \\right)} \\frac{\\partial}{\\partial u} \\rho{\\left(u,v \\right)} + \\frac{\\partial^{2}}{\\partial v\\partial u} \\rho{\\left(u,v \\right)}\\right) \\sqrt{\\rho{\\left(u,v \\right)}} e^{- 2 \\gamma{\\left(u,v \\right)} - 2 \\psi{\\left(u,v \\right)}} & 0\\\\0 & 0 & 0 & \\left(2 \\rho{\\left(u,v \\right)} \\frac{\\partial^{2}}{\\partial v\\partial u} \\psi{\\left(u,v \\right)} + \\frac{\\partial}{\\partial u} \\psi{\\left(u,v \\right)} \\frac{\\partial}{\\partial v} \\rho{\\left(u,v \\right)} + \\frac{\\partial}{\\partial v} \\psi{\\left(u,v \\right)} \\frac{\\partial}{\\partial u} \\rho{\\left(u,v \\right)} + \\frac{\\partial^{2}}{\\partial v\\partial u} \\rho{\\left(u,v \\right)}\\right) \\sqrt{\\rho{\\left(u,v \\right)}} e^{- 2 \\gamma{\\left(u,v \\right)} + 2 \\psi{\\left(u,v \\right)}}\\end{matrix}\\right]$"
      ],
      "text/plain": [
       "⎡                         2                                 2                               \n",
       "⎢            ⎛∂          ⎞      ∂           ∂              ∂                                \n",
       "⎢- 2⋅ρ(u, v)⋅⎜──(ψ(u, v))⎟  + 2⋅──(γ(u, v))⋅──(ρ(u, v)) - ───(ρ(u, v))                      \n",
       "⎢            ⎝∂u         ⎠      ∂u          ∂u              2                               \n",
       "⎢                                                         ∂u                   ∂           ∂\n",
       "⎢─────────────────────────────────────────────────────────────────────     - 2⋅──(ψ(u, v))⋅─\n",
       "⎢                               ρ(u, v)                                        ∂u          ∂\n",
       "⎢                                                                                           \n",
       "⎢                                                                                           \n",
       "⎢                                                       2                           ⎛∂      \n",
       "⎢                                                      ∂                - 2⋅ρ(u, v)⋅⎜──(ψ(u,\n",
       "⎢                                      2             ─────(ρ(u, v))                 ⎝∂v     \n",
       "⎢       ∂           ∂                 ∂              ∂v ∂u                                  \n",
       "⎢   - 2⋅──(ψ(u, v))⋅──(ψ(u, v)) - 2⋅─────(γ(u, v)) - ──────────────     ────────────────────\n",
       "⎢       ∂u          ∂v              ∂v ∂u              2⋅ρ(u, v)                            \n",
       "⎢                                                                                           \n",
       "⎢                                                                                           \n",
       "⎢                                                                                           \n",
       "⎢                                  0                                                        \n",
       "⎢                                                                                           \n",
       "⎢                                                                                           \n",
       "⎢                                                                                           \n",
       "⎢                                                                                           \n",
       "⎢                                  0                                                        \n",
       "⎣                                                                                           \n",
       "\n",
       "                                                                                            \n",
       "                                   2                                                        \n",
       "                                  ∂                                                         \n",
       "                  2             ─────(ρ(u, v))                                              \n",
       "                 ∂              ∂v ∂u                                                       \n",
       "─(ψ(u, v)) - 2⋅─────(γ(u, v)) - ──────────────                                              \n",
       "v              ∂v ∂u              2⋅ρ(u, v)                                                 \n",
       "                                                                                            \n",
       "     2                                 2                                                    \n",
       "    ⎞      ∂           ∂              ∂                                                     \n",
       " v))⎟  + 2⋅──(γ(u, v))⋅──(ρ(u, v)) - ───(ρ(u, v))                                           \n",
       "    ⎠      ∂v          ∂v              2                                                    \n",
       "                                     ∂v                                                     \n",
       "─────────────────────────────────────────────────                                           \n",
       "           ρ(u, v)                                                                          \n",
       "                                                                                            \n",
       "                                                   ⎛               2                        \n",
       "                                                   ⎜              ∂              ∂          \n",
       "              0                                    ⎜- 2⋅ρ(u, v)⋅─────(ψ(u, v)) - ──(ψ(u, v))\n",
       "                                                   ⎝            ∂v ∂u            ∂u         \n",
       "                                                                                            \n",
       "                                                                                            \n",
       "                                                                                            \n",
       "              0                                                                             \n",
       "                                                                                            \n",
       "\n",
       "                                                                                            \n",
       "                                                                                            \n",
       "                                                                                            \n",
       "                                                                                            \n",
       "                                                                                            \n",
       "                         0                                                                  \n",
       "                                                                                            \n",
       "                                                                                            \n",
       "                                                                                            \n",
       "                                                                                            \n",
       "                                                                                            \n",
       "                                                                                            \n",
       "                                                                                            \n",
       "                         0                                                                  \n",
       "                                                                                            \n",
       "                                                                                            \n",
       "                                            2          ⎞                                    \n",
       " ∂             ∂           ∂               ∂           ⎟   _________  -2⋅γ(u, v) - 2⋅ψ(u, v)\n",
       "⋅──(ρ(u, v)) - ──(ψ(u, v))⋅──(ρ(u, v)) + ─────(ρ(u, v))⎟⋅╲╱ ρ(u, v) ⋅ℯ                      \n",
       " ∂v            ∂v          ∂u            ∂v ∂u         ⎠                                    \n",
       "                                                                                            \n",
       "                                                                                            \n",
       "                                                                                            \n",
       "                         0                                                                  \n",
       "                                                                                            \n",
       "\n",
       "                                                                                            \n",
       "                                                                                            \n",
       "                                                                                            \n",
       "                                                                                            \n",
       "                                                                                            \n",
       "                                                                   0                        \n",
       "                                                                                            \n",
       "                                                                                            \n",
       "                                                                                            \n",
       "                                                                                            \n",
       "                                                                                            \n",
       "                                                                                            \n",
       "                                                                                            \n",
       "                                                                   0                        \n",
       "                                                                                            \n",
       "                                                                                            \n",
       "                                                                                            \n",
       "                                                                                            \n",
       "                                                                   0                        \n",
       "                                                                                            \n",
       "                                                                                            \n",
       "  ⎛             2                                                                    2      \n",
       "  ⎜            ∂              ∂           ∂             ∂           ∂               ∂       \n",
       "  ⎜2⋅ρ(u, v)⋅─────(ψ(u, v)) + ──(ψ(u, v))⋅──(ρ(u, v)) + ──(ψ(u, v))⋅──(ρ(u, v)) + ─────(ρ(u,\n",
       "  ⎝          ∂v ∂u            ∂u          ∂v            ∂v          ∂u            ∂v ∂u     \n",
       "\n",
       "                                         ⎤\n",
       "                                         ⎥\n",
       "                                         ⎥\n",
       "                                         ⎥\n",
       "                                         ⎥\n",
       "                                         ⎥\n",
       "                                         ⎥\n",
       "                                         ⎥\n",
       "                                         ⎥\n",
       "                                         ⎥\n",
       "                                         ⎥\n",
       "                                         ⎥\n",
       "                                         ⎥\n",
       "                                         ⎥\n",
       "                                         ⎥\n",
       "                                         ⎥\n",
       "                                         ⎥\n",
       "                                         ⎥\n",
       "                                         ⎥\n",
       "                                         ⎥\n",
       "                                         ⎥\n",
       "    ⎞                                    ⎥\n",
       "    ⎟   _________  -2⋅γ(u, v) + 2⋅ψ(u, v)⎥\n",
       " v))⎟⋅╲╱ ρ(u, v) ⋅ℯ                      ⎥\n",
       "    ⎠                                    ⎦"
      ]
     },
     "execution_count": 31,
     "metadata": {},
     "output_type": "execute_result"
    }
   ],
   "source": [
    "Ric = RicciTensor.from_metric(metric)\n",
    "Ric.tensor()"
   ]
  },
  {
   "cell_type": "code",
   "execution_count": 32,
   "id": "5e7b09a7",
   "metadata": {},
   "outputs": [
    {
     "data": {
      "text/latex": [
       "$\\displaystyle \\left[\\begin{matrix}\\frac{- 2 \\rho{\\left(u,v \\right)} \\left(\\frac{\\partial}{\\partial u} \\psi{\\left(u,v \\right)}\\right)^{2} + 2 \\frac{\\partial}{\\partial u} \\gamma{\\left(u,v \\right)} \\frac{\\partial}{\\partial u} \\rho{\\left(u,v \\right)} - \\frac{\\partial^{2}}{\\partial u^{2}} \\rho{\\left(u,v \\right)}}{\\rho{\\left(u,v \\right)}} & \\frac{0.5 \\left(4 \\left(\\frac{\\partial}{\\partial u} \\psi{\\left(u,v \\right)} \\frac{\\partial}{\\partial v} \\psi{\\left(u,v \\right)} + \\frac{\\partial^{2}}{\\partial v\\partial u} \\gamma{\\left(u,v \\right)}\\right) \\rho{\\left(u,v \\right)} + 3 \\frac{\\partial^{2}}{\\partial v\\partial u} \\rho{\\left(u,v \\right)}\\right)}{\\rho{\\left(u,v \\right)}} - 2 \\frac{\\partial}{\\partial u} \\psi{\\left(u,v \\right)} \\frac{\\partial}{\\partial v} \\psi{\\left(u,v \\right)} - 2 \\frac{\\partial^{2}}{\\partial v\\partial u} \\gamma{\\left(u,v \\right)} - \\frac{\\frac{\\partial^{2}}{\\partial v\\partial u} \\rho{\\left(u,v \\right)}}{2 \\rho{\\left(u,v \\right)}} & 0 & 0\\\\\\frac{0.5 \\left(4 \\left(\\frac{\\partial}{\\partial u} \\psi{\\left(u,v \\right)} \\frac{\\partial}{\\partial v} \\psi{\\left(u,v \\right)} + \\frac{\\partial^{2}}{\\partial v\\partial u} \\gamma{\\left(u,v \\right)}\\right) \\rho{\\left(u,v \\right)} + 3 \\frac{\\partial^{2}}{\\partial v\\partial u} \\rho{\\left(u,v \\right)}\\right)}{\\rho{\\left(u,v \\right)}} - 2 \\frac{\\partial}{\\partial u} \\psi{\\left(u,v \\right)} \\frac{\\partial}{\\partial v} \\psi{\\left(u,v \\right)} - 2 \\frac{\\partial^{2}}{\\partial v\\partial u} \\gamma{\\left(u,v \\right)} - \\frac{\\frac{\\partial^{2}}{\\partial v\\partial u} \\rho{\\left(u,v \\right)}}{2 \\rho{\\left(u,v \\right)}} & \\frac{- 2 \\rho{\\left(u,v \\right)} \\left(\\frac{\\partial}{\\partial v} \\psi{\\left(u,v \\right)}\\right)^{2} + 2 \\frac{\\partial}{\\partial v} \\gamma{\\left(u,v \\right)} \\frac{\\partial}{\\partial v} \\rho{\\left(u,v \\right)} - \\frac{\\partial^{2}}{\\partial v^{2}} \\rho{\\left(u,v \\right)}}{\\rho{\\left(u,v \\right)}} & 0 & 0\\\\0 & 0 & - 0.5 \\left(4 \\left(\\frac{\\partial}{\\partial u} \\psi{\\left(u,v \\right)} \\frac{\\partial}{\\partial v} \\psi{\\left(u,v \\right)} + \\frac{\\partial^{2}}{\\partial v\\partial u} \\gamma{\\left(u,v \\right)}\\right) \\rho{\\left(u,v \\right)} + 3 \\frac{\\partial^{2}}{\\partial v\\partial u} \\rho{\\left(u,v \\right)}\\right) \\sqrt{\\rho{\\left(u,v \\right)}} e^{- 2 \\gamma{\\left(u,v \\right)}} e^{- 2 \\psi{\\left(u,v \\right)}} + \\left(- 2 \\rho{\\left(u,v \\right)} \\frac{\\partial^{2}}{\\partial v\\partial u} \\psi{\\left(u,v \\right)} - \\frac{\\partial}{\\partial u} \\psi{\\left(u,v \\right)} \\frac{\\partial}{\\partial v} \\rho{\\left(u,v \\right)} - \\frac{\\partial}{\\partial v} \\psi{\\left(u,v \\right)} \\frac{\\partial}{\\partial u} \\rho{\\left(u,v \\right)} + \\frac{\\partial^{2}}{\\partial v\\partial u} \\rho{\\left(u,v \\right)}\\right) \\sqrt{\\rho{\\left(u,v \\right)}} e^{- 2 \\gamma{\\left(u,v \\right)} - 2 \\psi{\\left(u,v \\right)}} & 0\\\\0 & 0 & 0 & - 0.5 \\left(4 \\left(\\frac{\\partial}{\\partial u} \\psi{\\left(u,v \\right)} \\frac{\\partial}{\\partial v} \\psi{\\left(u,v \\right)} + \\frac{\\partial^{2}}{\\partial v\\partial u} \\gamma{\\left(u,v \\right)}\\right) \\rho{\\left(u,v \\right)} + 3 \\frac{\\partial^{2}}{\\partial v\\partial u} \\rho{\\left(u,v \\right)}\\right) \\sqrt{\\rho{\\left(u,v \\right)}} e^{- 2 \\gamma{\\left(u,v \\right)}} e^{2 \\psi{\\left(u,v \\right)}} + \\left(2 \\rho{\\left(u,v \\right)} \\frac{\\partial^{2}}{\\partial v\\partial u} \\psi{\\left(u,v \\right)} + \\frac{\\partial}{\\partial u} \\psi{\\left(u,v \\right)} \\frac{\\partial}{\\partial v} \\rho{\\left(u,v \\right)} + \\frac{\\partial}{\\partial v} \\psi{\\left(u,v \\right)} \\frac{\\partial}{\\partial u} \\rho{\\left(u,v \\right)} + \\frac{\\partial^{2}}{\\partial v\\partial u} \\rho{\\left(u,v \\right)}\\right) \\sqrt{\\rho{\\left(u,v \\right)}} e^{- 2 \\gamma{\\left(u,v \\right)} + 2 \\psi{\\left(u,v \\right)}}\\end{matrix}\\right]$"
      ],
      "text/plain": [
       "⎡                                                             2                             \n",
       "⎢                                                ⎛∂          ⎞      ∂           ∂           \n",
       "⎢                                    - 2⋅ρ(u, v)⋅⎜──(ψ(u, v))⎟  + 2⋅──(γ(u, v))⋅──(ρ(u, v)) \n",
       "⎢                                                ⎝∂u         ⎠      ∂u          ∂u          \n",
       "⎢                                                                                           \n",
       "⎢                                    ───────────────────────────────────────────────────────\n",
       "⎢                                                                   ρ(u, v)                 \n",
       "⎢                                                                                           \n",
       "⎢                                                                                           \n",
       "⎢    ⎛  ⎛                             2          ⎞                2          ⎞              \n",
       "⎢    ⎜  ⎜∂           ∂               ∂           ⎟               ∂           ⎟              \n",
       "⎢0.5⋅⎜4⋅⎜──(ψ(u, v))⋅──(ψ(u, v)) + ─────(γ(u, v))⎟⋅ρ(u, v) + 3⋅─────(ρ(u, v))⎟              \n",
       "⎢    ⎝  ⎝∂u          ∂v            ∂v ∂u         ⎠             ∂v ∂u         ⎠     ∂        \n",
       "⎢───────────────────────────────────────────────────────────────────────────── - 2⋅──(ψ(u, v\n",
       "⎢                                   ρ(u, v)                                        ∂u       \n",
       "⎢                                                                                           \n",
       "⎢                                                                                           \n",
       "⎢                                                                                           \n",
       "⎢                                                                      0                    \n",
       "⎢                                                                                           \n",
       "⎢                                                                                           \n",
       "⎢                                                                                           \n",
       "⎢                                                                                           \n",
       "⎢                                                                      0                    \n",
       "⎣                                                                                           \n",
       "\n",
       "    2                                                                                       \n",
       "   ∂                                                    ⎛  ⎛                             2  \n",
       "- ───(ρ(u, v))                                          ⎜  ⎜∂           ∂               ∂   \n",
       "    2                                               0.5⋅⎜4⋅⎜──(ψ(u, v))⋅──(ψ(u, v)) + ─────(\n",
       "  ∂u                                                    ⎝  ⎝∂u          ∂v            ∂v ∂u \n",
       "──────────────                                      ────────────────────────────────────────\n",
       "                                                                                       ρ(u, \n",
       "                                                                                            \n",
       "                                                                                            \n",
       "                                       2                                                    \n",
       "                                      ∂                                                 - 2⋅\n",
       "                      2             ─────(ρ(u, v))                                          \n",
       "   ∂                 ∂              ∂v ∂u                                                   \n",
       "))⋅──(ψ(u, v)) - 2⋅─────(γ(u, v)) - ──────────────                                      ────\n",
       "   ∂v              ∂v ∂u              2⋅ρ(u, v)                                             \n",
       "                                                                                            \n",
       "                                                                                            \n",
       "                                                                                            \n",
       "                                                                                            \n",
       "                                                                                            \n",
       "                                                                                            \n",
       "                                                                                            \n",
       "                                                                                            \n",
       "                                                                                            \n",
       "                                                                                            \n",
       "\n",
       "                                                                                            \n",
       "        ⎞                2          ⎞                                                     2 \n",
       "        ⎟               ∂           ⎟                                                    ∂  \n",
       "γ(u, v))⎟⋅ρ(u, v) + 3⋅─────(ρ(u, v))⎟                                    2             ─────\n",
       "        ⎠             ∂v ∂u         ⎠     ∂           ∂                 ∂              ∂v ∂u\n",
       "───────────────────────────────────── - 2⋅──(ψ(u, v))⋅──(ψ(u, v)) - 2⋅─────(γ(u, v)) - ─────\n",
       "v)                                        ∂u          ∂v              ∂v ∂u              2⋅ρ\n",
       "                                                                                            \n",
       "                     2                                 2                                    \n",
       "        ⎛∂          ⎞      ∂           ∂              ∂                                     \n",
       "ρ(u, v)⋅⎜──(ψ(u, v))⎟  + 2⋅──(γ(u, v))⋅──(ρ(u, v)) - ───(ρ(u, v))                           \n",
       "        ⎝∂v         ⎠      ∂v          ∂v              2                                    \n",
       "                                                     ∂v                                     \n",
       "─────────────────────────────────────────────────────────────────                           \n",
       "                           ρ(u, v)                                                          \n",
       "                                                                                            \n",
       "                                                                                            \n",
       "                                                                                            \n",
       "                              0                                                             \n",
       "                                                                                            \n",
       "                                                                                            \n",
       "                                                                                            \n",
       "                                                                                            \n",
       "                              0                                                             \n",
       "                                                                                            \n",
       "\n",
       "                                                                                            \n",
       "                                                                                            \n",
       "                                                                                            \n",
       "(ρ(u, v))                                                                                   \n",
       "                                                                                            \n",
       "─────────                                                                                   \n",
       "(u, v)                                                                                      \n",
       "                                                                                            \n",
       "                                                                                            \n",
       "                                                                                            \n",
       "                                                                                            \n",
       "                                                                                            \n",
       "                                                                                            \n",
       "                                                                                            \n",
       "                                                                                            \n",
       "                                                                                            \n",
       "                 ⎛  ⎛                             2          ⎞                2          ⎞  \n",
       "                 ⎜  ⎜∂           ∂               ∂           ⎟               ∂           ⎟  \n",
       "           - 0.5⋅⎜4⋅⎜──(ψ(u, v))⋅──(ψ(u, v)) + ─────(γ(u, v))⎟⋅ρ(u, v) + 3⋅─────(ρ(u, v))⎟⋅╲\n",
       "                 ⎝  ⎝∂u          ∂v            ∂v ∂u         ⎠             ∂v ∂u         ⎠  \n",
       "                                                                                            \n",
       "                                                                                            \n",
       "                                                                                            \n",
       "                                                                                            \n",
       "                                                                                            \n",
       "\n",
       "                                                                                            \n",
       "                                                                                            \n",
       "                                                                                            \n",
       "                                                                                            \n",
       "                                                                                            \n",
       "                                            0                                               \n",
       "                                                                                            \n",
       "                                                                                            \n",
       "                                                                                            \n",
       "                                                                                            \n",
       "                                                                                            \n",
       "                                                                                            \n",
       "                                                                                            \n",
       "                                            0                                               \n",
       "                                                                                            \n",
       "                                                                                            \n",
       "                                     ⎛               2                                      \n",
       " _________  -2⋅γ(u, v)  -2⋅ψ(u, v)   ⎜              ∂              ∂           ∂            \n",
       "╱ ρ(u, v) ⋅ℯ          ⋅ℯ           + ⎜- 2⋅ρ(u, v)⋅─────(ψ(u, v)) - ──(ψ(u, v))⋅──(ρ(u, v)) -\n",
       "                                     ⎝            ∂v ∂u            ∂u          ∂v           \n",
       "                                                                                            \n",
       "                                                                                            \n",
       "                                                                                            \n",
       "                                            0                                               \n",
       "                                                                                            \n",
       "\n",
       "                                                                                            \n",
       "                                                                                            \n",
       "                                                                                            \n",
       "                                                                                            \n",
       "                                                                                            \n",
       "                                                                                            \n",
       "                                                                                            \n",
       "                                                                                            \n",
       "                                                                                            \n",
       "                                                                                            \n",
       "                                                                                            \n",
       "                                                                                            \n",
       "                                                                                            \n",
       "                                                                                            \n",
       "                                                                                            \n",
       "                                                                                            \n",
       "                              2          ⎞                                                  \n",
       " ∂           ∂               ∂           ⎟   _________  -2⋅γ(u, v) - 2⋅ψ(u, v)              \n",
       " ──(ψ(u, v))⋅──(ρ(u, v)) + ─────(ρ(u, v))⎟⋅╲╱ ρ(u, v) ⋅ℯ                                    \n",
       " ∂v          ∂u            ∂v ∂u         ⎠                                                  \n",
       "                                                                                            \n",
       "                                                                                      ⎛  ⎛  \n",
       "                                                                                      ⎜  ⎜∂ \n",
       "                                                                                - 0.5⋅⎜4⋅⎜──\n",
       "                                                                                      ⎝  ⎝∂u\n",
       "\n",
       "                                                                                            \n",
       "                                                                                            \n",
       "                                                                                            \n",
       "                                                                                            \n",
       "                                                                                            \n",
       "                                                                                            \n",
       "                                                                                            \n",
       "                                                                                            \n",
       "                                                                                            \n",
       "                                                                                            \n",
       "                                                                                            \n",
       "                                                                                            \n",
       "                                                                                            \n",
       "                                                                                            \n",
       "                                                                                            \n",
       "                                                                                            \n",
       "                                                                                            \n",
       "                                                                                            \n",
       "                                                                                            \n",
       "                                                                                            \n",
       "                                                                                            \n",
       "                           2          ⎞                2          ⎞                         \n",
       "          ∂               ∂           ⎟               ∂           ⎟   _________  -2⋅γ(u, v) \n",
       "(ψ(u, v))⋅──(ψ(u, v)) + ─────(γ(u, v))⎟⋅ρ(u, v) + 3⋅─────(ρ(u, v))⎟⋅╲╱ ρ(u, v) ⋅ℯ          ⋅\n",
       "          ∂v            ∂v ∂u         ⎠             ∂v ∂u         ⎠                         \n",
       "\n",
       "                                                                                            \n",
       "                                                                                            \n",
       "                                                                                            \n",
       "                                                                                            \n",
       "                                                                                            \n",
       "                   0                                                                        \n",
       "                                                                                            \n",
       "                                                                                            \n",
       "                                                                                            \n",
       "                                                                                            \n",
       "                                                                                            \n",
       "                                                                                            \n",
       "                                                                                            \n",
       "                   0                                                                        \n",
       "                                                                                            \n",
       "                                                                                            \n",
       "                                                                                            \n",
       "                                                                                            \n",
       "                   0                                                                        \n",
       "                                                                                            \n",
       "                                                                                            \n",
       "             ⎛             2                                                                \n",
       " 2⋅ψ(u, v)   ⎜            ∂              ∂           ∂             ∂           ∂            \n",
       "ℯ          + ⎜2⋅ρ(u, v)⋅─────(ψ(u, v)) + ──(ψ(u, v))⋅──(ρ(u, v)) + ──(ψ(u, v))⋅──(ρ(u, v)) +\n",
       "             ⎝          ∂v ∂u            ∂u          ∂v            ∂v          ∂u           \n",
       "\n",
       "                                                    ⎤\n",
       "                                                    ⎥\n",
       "                                                    ⎥\n",
       "                                                    ⎥\n",
       "                                                    ⎥\n",
       "                                                    ⎥\n",
       "                                                    ⎥\n",
       "                                                    ⎥\n",
       "                                                    ⎥\n",
       "                                                    ⎥\n",
       "                                                    ⎥\n",
       "                                                    ⎥\n",
       "                                                    ⎥\n",
       "                                                    ⎥\n",
       "                                                    ⎥\n",
       "                                                    ⎥\n",
       "                                                    ⎥\n",
       "                                                    ⎥\n",
       "                                                    ⎥\n",
       "                                                    ⎥\n",
       "                                                    ⎥\n",
       "    2          ⎞                                    ⎥\n",
       "   ∂           ⎟   _________  -2⋅γ(u, v) + 2⋅ψ(u, v)⎥\n",
       " ─────(ρ(u, v))⎟⋅╲╱ ρ(u, v) ⋅ℯ                      ⎥\n",
       " ∂v ∂u         ⎠                                    ⎦"
      ]
     },
     "execution_count": 32,
     "metadata": {},
     "output_type": "execute_result"
    }
   ],
   "source": [
    "einst = EinsteinTensor.from_metric(metric)\n",
    "einst.tensor()"
   ]
  },
  {
   "cell_type": "code",
   "execution_count": 19,
   "id": "d17aee45",
   "metadata": {},
   "outputs": [],
   "source": [
    "#  R = RicciScalar.from_riccitensor(Ric)\n",
    "#  R.simplify()\n",
    "#  R.expr"
   ]
  },
  {
   "cell_type": "code",
   "execution_count": 20,
   "id": "d60ee4f3",
   "metadata": {},
   "outputs": [],
   "source": [
    "#  rm1 = RiemannCurvatureTensor.from_christoffels(ch)\n",
    "#  rm1.tensor()"
   ]
  },
  {
   "cell_type": "code",
   "execution_count": 21,
   "id": "bcfc4cf0",
   "metadata": {},
   "outputs": [],
   "source": [
    "#  weyl = WeylTensor.from_metric(metric)\n",
    "#  weyl.tensor()"
   ]
  },
  {
   "cell_type": "code",
   "execution_count": 33,
   "id": "05de58eb",
   "metadata": {},
   "outputs": [
    {
     "data": {
      "text/latex": [
       "$\\displaystyle \\left[\\begin{matrix}\\frac{- 2 \\rho{\\left(u,v \\right)} \\left(\\frac{\\partial}{\\partial u} \\psi{\\left(u,v \\right)}\\right)^{2} + 2 \\frac{\\partial}{\\partial u} \\gamma{\\left(u,v \\right)} \\frac{\\partial}{\\partial u} \\rho{\\left(u,v \\right)} - \\frac{\\partial^{2}}{\\partial u^{2}} \\rho{\\left(u,v \\right)}}{\\rho{\\left(u,v \\right)}} & - 2 \\frac{\\partial}{\\partial u} \\psi{\\left(u,v \\right)} \\frac{\\partial}{\\partial v} \\psi{\\left(u,v \\right)} - 2 \\frac{\\partial^{2}}{\\partial v\\partial u} \\gamma{\\left(u,v \\right)} - \\frac{\\frac{\\partial^{2}}{\\partial v\\partial u} \\rho{\\left(u,v \\right)}}{2 \\rho{\\left(u,v \\right)}} & 0 & 0\\\\- 2 \\frac{\\partial}{\\partial u} \\psi{\\left(u,v \\right)} \\frac{\\partial}{\\partial v} \\psi{\\left(u,v \\right)} - 2 \\frac{\\partial^{2}}{\\partial v\\partial u} \\gamma{\\left(u,v \\right)} - \\frac{\\frac{\\partial^{2}}{\\partial v\\partial u} \\rho{\\left(u,v \\right)}}{2 \\rho{\\left(u,v \\right)}} & \\frac{- 2 \\rho{\\left(u,v \\right)} \\left(\\frac{\\partial}{\\partial v} \\psi{\\left(u,v \\right)}\\right)^{2} + 2 \\frac{\\partial}{\\partial v} \\gamma{\\left(u,v \\right)} \\frac{\\partial}{\\partial v} \\rho{\\left(u,v \\right)} - \\frac{\\partial^{2}}{\\partial v^{2}} \\rho{\\left(u,v \\right)}}{\\rho{\\left(u,v \\right)}} & 0 & 0\\\\0 & 0 & \\left(- 2 \\rho{\\left(u,v \\right)} \\frac{\\partial^{2}}{\\partial v\\partial u} \\psi{\\left(u,v \\right)} - \\frac{\\partial}{\\partial u} \\psi{\\left(u,v \\right)} \\frac{\\partial}{\\partial v} \\rho{\\left(u,v \\right)} - \\frac{\\partial}{\\partial v} \\psi{\\left(u,v \\right)} \\frac{\\partial}{\\partial u} \\rho{\\left(u,v \\right)} + \\frac{\\partial^{2}}{\\partial v\\partial u} \\rho{\\left(u,v \\right)}\\right) \\sqrt{\\rho{\\left(u,v \\right)}} e^{- 2 \\gamma{\\left(u,v \\right)} - 2 \\psi{\\left(u,v \\right)}} & 0\\\\0 & 0 & 0 & \\left(2 \\rho{\\left(u,v \\right)} \\frac{\\partial^{2}}{\\partial v\\partial u} \\psi{\\left(u,v \\right)} + \\frac{\\partial}{\\partial u} \\psi{\\left(u,v \\right)} \\frac{\\partial}{\\partial v} \\rho{\\left(u,v \\right)} + \\frac{\\partial}{\\partial v} \\psi{\\left(u,v \\right)} \\frac{\\partial}{\\partial u} \\rho{\\left(u,v \\right)} + \\frac{\\partial^{2}}{\\partial v\\partial u} \\rho{\\left(u,v \\right)}\\right) \\sqrt{\\rho{\\left(u,v \\right)}} e^{- 2 \\gamma{\\left(u,v \\right)} + 2 \\psi{\\left(u,v \\right)}}\\end{matrix}\\right]$"
      ],
      "text/plain": [
       "⎡                         2                                 2                               \n",
       "⎢            ⎛∂          ⎞      ∂           ∂              ∂                                \n",
       "⎢- 2⋅ρ(u, v)⋅⎜──(ψ(u, v))⎟  + 2⋅──(γ(u, v))⋅──(ρ(u, v)) - ───(ρ(u, v))                      \n",
       "⎢            ⎝∂u         ⎠      ∂u          ∂u              2                               \n",
       "⎢                                                         ∂u                   ∂           ∂\n",
       "⎢─────────────────────────────────────────────────────────────────────     - 2⋅──(ψ(u, v))⋅─\n",
       "⎢                               ρ(u, v)                                        ∂u          ∂\n",
       "⎢                                                                                           \n",
       "⎢                                                                                           \n",
       "⎢                                                       2                           ⎛∂      \n",
       "⎢                                                      ∂                - 2⋅ρ(u, v)⋅⎜──(ψ(u,\n",
       "⎢                                      2             ─────(ρ(u, v))                 ⎝∂v     \n",
       "⎢       ∂           ∂                 ∂              ∂v ∂u                                  \n",
       "⎢   - 2⋅──(ψ(u, v))⋅──(ψ(u, v)) - 2⋅─────(γ(u, v)) - ──────────────     ────────────────────\n",
       "⎢       ∂u          ∂v              ∂v ∂u              2⋅ρ(u, v)                            \n",
       "⎢                                                                                           \n",
       "⎢                                                                                           \n",
       "⎢                                                                                           \n",
       "⎢                                  0                                                        \n",
       "⎢                                                                                           \n",
       "⎢                                                                                           \n",
       "⎢                                                                                           \n",
       "⎢                                                                                           \n",
       "⎢                                  0                                                        \n",
       "⎣                                                                                           \n",
       "\n",
       "                                                                                            \n",
       "                                   2                                                        \n",
       "                                  ∂                                                         \n",
       "                  2             ─────(ρ(u, v))                                              \n",
       "                 ∂              ∂v ∂u                                                       \n",
       "─(ψ(u, v)) - 2⋅─────(γ(u, v)) - ──────────────                                              \n",
       "v              ∂v ∂u              2⋅ρ(u, v)                                                 \n",
       "                                                                                            \n",
       "     2                                 2                                                    \n",
       "    ⎞      ∂           ∂              ∂                                                     \n",
       " v))⎟  + 2⋅──(γ(u, v))⋅──(ρ(u, v)) - ───(ρ(u, v))                                           \n",
       "    ⎠      ∂v          ∂v              2                                                    \n",
       "                                     ∂v                                                     \n",
       "─────────────────────────────────────────────────                                           \n",
       "           ρ(u, v)                                                                          \n",
       "                                                                                            \n",
       "                                                   ⎛               2                        \n",
       "                                                   ⎜              ∂              ∂          \n",
       "              0                                    ⎜- 2⋅ρ(u, v)⋅─────(ψ(u, v)) - ──(ψ(u, v))\n",
       "                                                   ⎝            ∂v ∂u            ∂u         \n",
       "                                                                                            \n",
       "                                                                                            \n",
       "                                                                                            \n",
       "              0                                                                             \n",
       "                                                                                            \n",
       "\n",
       "                                                                                            \n",
       "                                                                                            \n",
       "                                                                                            \n",
       "                                                                                            \n",
       "                                                                                            \n",
       "                         0                                                                  \n",
       "                                                                                            \n",
       "                                                                                            \n",
       "                                                                                            \n",
       "                                                                                            \n",
       "                                                                                            \n",
       "                                                                                            \n",
       "                                                                                            \n",
       "                         0                                                                  \n",
       "                                                                                            \n",
       "                                                                                            \n",
       "                                            2          ⎞                                    \n",
       " ∂             ∂           ∂               ∂           ⎟   _________  -2⋅γ(u, v) - 2⋅ψ(u, v)\n",
       "⋅──(ρ(u, v)) - ──(ψ(u, v))⋅──(ρ(u, v)) + ─────(ρ(u, v))⎟⋅╲╱ ρ(u, v) ⋅ℯ                      \n",
       " ∂v            ∂v          ∂u            ∂v ∂u         ⎠                                    \n",
       "                                                                                            \n",
       "                                                                                            \n",
       "                                                                                            \n",
       "                         0                                                                  \n",
       "                                                                                            \n",
       "\n",
       "                                                                                            \n",
       "                                                                                            \n",
       "                                                                                            \n",
       "                                                                                            \n",
       "                                                                                            \n",
       "                                                                   0                        \n",
       "                                                                                            \n",
       "                                                                                            \n",
       "                                                                                            \n",
       "                                                                                            \n",
       "                                                                                            \n",
       "                                                                                            \n",
       "                                                                                            \n",
       "                                                                   0                        \n",
       "                                                                                            \n",
       "                                                                                            \n",
       "                                                                                            \n",
       "                                                                                            \n",
       "                                                                   0                        \n",
       "                                                                                            \n",
       "                                                                                            \n",
       "  ⎛             2                                                                    2      \n",
       "  ⎜            ∂              ∂           ∂             ∂           ∂               ∂       \n",
       "  ⎜2⋅ρ(u, v)⋅─────(ψ(u, v)) + ──(ψ(u, v))⋅──(ρ(u, v)) + ──(ψ(u, v))⋅──(ρ(u, v)) + ─────(ρ(u,\n",
       "  ⎝          ∂v ∂u            ∂u          ∂v            ∂v          ∂u            ∂v ∂u     \n",
       "\n",
       "                                         ⎤\n",
       "                                         ⎥\n",
       "                                         ⎥\n",
       "                                         ⎥\n",
       "                                         ⎥\n",
       "                                         ⎥\n",
       "                                         ⎥\n",
       "                                         ⎥\n",
       "                                         ⎥\n",
       "                                         ⎥\n",
       "                                         ⎥\n",
       "                                         ⎥\n",
       "                                         ⎥\n",
       "                                         ⎥\n",
       "                                         ⎥\n",
       "                                         ⎥\n",
       "                                         ⎥\n",
       "                                         ⎥\n",
       "                                         ⎥\n",
       "                                         ⎥\n",
       "                                         ⎥\n",
       "    ⎞                                    ⎥\n",
       "    ⎟   _________  -2⋅γ(u, v) + 2⋅ψ(u, v)⎥\n",
       " v))⎟⋅╲╱ ρ(u, v) ⋅ℯ                      ⎥\n",
       "    ⎠                                    ⎦"
      ]
     },
     "execution_count": 33,
     "metadata": {},
     "output_type": "execute_result"
    }
   ],
   "source": [
    "simplify(Ric.tensor())"
   ]
  },
  {
   "cell_type": "code",
   "execution_count": 34,
   "id": "e68673b1",
   "metadata": {},
   "outputs": [
    {
     "data": {
      "text/latex": [
       "$\\displaystyle \\left[\\begin{matrix}\\frac{- 2 \\rho{\\left(u,v \\right)} \\left(\\frac{\\partial}{\\partial u} \\psi{\\left(u,v \\right)}\\right)^{2} + 2 \\frac{\\partial}{\\partial u} \\gamma{\\left(u,v \\right)} \\frac{\\partial}{\\partial u} \\rho{\\left(u,v \\right)} - \\frac{\\partial^{2}}{\\partial u^{2}} \\rho{\\left(u,v \\right)}}{\\rho{\\left(u,v \\right)}} & \\frac{\\frac{\\partial^{2}}{\\partial v\\partial u} \\rho{\\left(u,v \\right)}}{\\rho{\\left(u,v \\right)}} & 0 & 0\\\\\\frac{\\frac{\\partial^{2}}{\\partial v\\partial u} \\rho{\\left(u,v \\right)}}{\\rho{\\left(u,v \\right)}} & \\frac{- 2 \\rho{\\left(u,v \\right)} \\left(\\frac{\\partial}{\\partial v} \\psi{\\left(u,v \\right)}\\right)^{2} + 2 \\frac{\\partial}{\\partial v} \\gamma{\\left(u,v \\right)} \\frac{\\partial}{\\partial v} \\rho{\\left(u,v \\right)} - \\frac{\\partial^{2}}{\\partial v^{2}} \\rho{\\left(u,v \\right)}}{\\rho{\\left(u,v \\right)}} & 0 & 0\\\\0 & 0 & - \\left(2.0 \\left(\\frac{\\partial}{\\partial u} \\psi{\\left(u,v \\right)} \\frac{\\partial}{\\partial v} \\psi{\\left(u,v \\right)} + \\frac{\\partial^{2}}{\\partial v\\partial u} \\gamma{\\left(u,v \\right)}\\right) \\rho{\\left(u,v \\right)} + 2 \\rho{\\left(u,v \\right)} \\frac{\\partial^{2}}{\\partial v\\partial u} \\psi{\\left(u,v \\right)} + \\frac{\\partial}{\\partial u} \\psi{\\left(u,v \\right)} \\frac{\\partial}{\\partial v} \\rho{\\left(u,v \\right)} + \\frac{\\partial}{\\partial v} \\psi{\\left(u,v \\right)} \\frac{\\partial}{\\partial u} \\rho{\\left(u,v \\right)} + 0.5 \\frac{\\partial^{2}}{\\partial v\\partial u} \\rho{\\left(u,v \\right)}\\right) \\sqrt{\\rho{\\left(u,v \\right)}} e^{- 2 \\gamma{\\left(u,v \\right)} - 2 \\psi{\\left(u,v \\right)}} & 0\\\\0 & 0 & 0 & \\left(- 2.0 \\left(\\frac{\\partial}{\\partial u} \\psi{\\left(u,v \\right)} \\frac{\\partial}{\\partial v} \\psi{\\left(u,v \\right)} + \\frac{\\partial^{2}}{\\partial v\\partial u} \\gamma{\\left(u,v \\right)}\\right) \\rho{\\left(u,v \\right)} + 2 \\rho{\\left(u,v \\right)} \\frac{\\partial^{2}}{\\partial v\\partial u} \\psi{\\left(u,v \\right)} + \\frac{\\partial}{\\partial u} \\psi{\\left(u,v \\right)} \\frac{\\partial}{\\partial v} \\rho{\\left(u,v \\right)} + \\frac{\\partial}{\\partial v} \\psi{\\left(u,v \\right)} \\frac{\\partial}{\\partial u} \\rho{\\left(u,v \\right)} - 0.5 \\frac{\\partial^{2}}{\\partial v\\partial u} \\rho{\\left(u,v \\right)}\\right) \\sqrt{\\rho{\\left(u,v \\right)}} e^{- 2 \\gamma{\\left(u,v \\right)} + 2 \\psi{\\left(u,v \\right)}}\\end{matrix}\\right]$"
      ],
      "text/plain": [
       "⎡                         2                                 2                               \n",
       "⎢            ⎛∂          ⎞      ∂           ∂              ∂                                \n",
       "⎢- 2⋅ρ(u, v)⋅⎜──(ψ(u, v))⎟  + 2⋅──(γ(u, v))⋅──(ρ(u, v)) - ───(ρ(u, v))                      \n",
       "⎢            ⎝∂u         ⎠      ∂u          ∂u              2                               \n",
       "⎢                                                         ∂u                                \n",
       "⎢─────────────────────────────────────────────────────────────────────                      \n",
       "⎢                               ρ(u, v)                                                     \n",
       "⎢                                                                                           \n",
       "⎢                                                                                           \n",
       "⎢                              2                                                    ⎛∂      \n",
       "⎢                             ∂                                         - 2⋅ρ(u, v)⋅⎜──(ψ(u,\n",
       "⎢                           ─────(ρ(u, v))                                          ⎝∂v     \n",
       "⎢                           ∂v ∂u                                                           \n",
       "⎢                           ──────────────                              ────────────────────\n",
       "⎢                              ρ(u, v)                                                      \n",
       "⎢                                                                                           \n",
       "⎢                                                                                           \n",
       "⎢                                                                                           \n",
       "⎢                                  0                                                        \n",
       "⎢                                                                                           \n",
       "⎢                                                                                           \n",
       "⎢                                                                                           \n",
       "⎢                                                                                           \n",
       "⎢                                  0                                                        \n",
       "⎣                                                                                           \n",
       "\n",
       "                                                                                            \n",
       "          2                                                                                 \n",
       "         ∂                                                                                  \n",
       "       ─────(ρ(u, v))                                                                       \n",
       "       ∂v ∂u                                                                                \n",
       "       ──────────────                                                                       \n",
       "          ρ(u, v)                                                                           \n",
       "                                                                                            \n",
       "     2                                 2                                                    \n",
       "    ⎞      ∂           ∂              ∂                                                     \n",
       " v))⎟  + 2⋅──(γ(u, v))⋅──(ρ(u, v)) - ───(ρ(u, v))                                           \n",
       "    ⎠      ∂v          ∂v              2                                                    \n",
       "                                     ∂v                                                     \n",
       "─────────────────────────────────────────────────                                           \n",
       "           ρ(u, v)                                                                          \n",
       "                                                                                            \n",
       "                                                    ⎛    ⎛                             2    \n",
       "                                                    ⎜    ⎜∂           ∂               ∂     \n",
       "              0                                    -⎜2.0⋅⎜──(ψ(u, v))⋅──(ψ(u, v)) + ─────(γ(\n",
       "                                                    ⎝    ⎝∂u          ∂v            ∂v ∂u   \n",
       "                                                                                            \n",
       "                                                                                            \n",
       "                                                                                            \n",
       "              0                                                                             \n",
       "                                                                                            \n",
       "\n",
       "                                                                                            \n",
       "                                                                                            \n",
       "                                                                                            \n",
       "                                                                                            \n",
       "                                                                                            \n",
       "                                                       0                                    \n",
       "                                                                                            \n",
       "                                                                                            \n",
       "                                                                                            \n",
       "                                                                                            \n",
       "                                                                                            \n",
       "                                                                                            \n",
       "                                                                                            \n",
       "                                                       0                                    \n",
       "                                                                                            \n",
       "                                                                                            \n",
       "      ⎞                        2                                                            \n",
       "      ⎟                       ∂              ∂           ∂             ∂           ∂        \n",
       "u, v))⎟⋅ρ(u, v) + 2⋅ρ(u, v)⋅─────(ψ(u, v)) + ──(ψ(u, v))⋅──(ρ(u, v)) + ──(ψ(u, v))⋅──(ρ(u, v\n",
       "      ⎠                     ∂v ∂u            ∂u          ∂v            ∂v          ∂u       \n",
       "                                                                                            \n",
       "                                                                                            \n",
       "                                                                                            \n",
       "                                                       0                                    \n",
       "                                                                                            \n",
       "\n",
       "                                                                                            \n",
       "                                                                                            \n",
       "                                                                                            \n",
       "                                                                                            \n",
       "                                                                                            \n",
       "                                                                                            \n",
       "                                                                                            \n",
       "                                                                                            \n",
       "                                                                                            \n",
       "                                                                                            \n",
       "                                                                                            \n",
       "                                                                                            \n",
       "                                                                                            \n",
       "                                                                                            \n",
       "                                                                                            \n",
       "                                                                                            \n",
       "            2          ⎞                                                                    \n",
       "           ∂           ⎟   _________  -2⋅γ(u, v) - 2⋅ψ(u, v)                                \n",
       ")) + 0.5⋅─────(ρ(u, v))⎟⋅╲╱ ρ(u, v) ⋅ℯ                                                      \n",
       "         ∂v ∂u         ⎠                                                                    \n",
       "                                                                                            \n",
       "                                                              ⎛      ⎛                      \n",
       "                                                              ⎜      ⎜∂           ∂         \n",
       "                                                              ⎜- 2.0⋅⎜──(ψ(u, v))⋅──(ψ(u, v)\n",
       "                                                              ⎝      ⎝∂u          ∂v        \n",
       "\n",
       "                                                                                            \n",
       "                                                                                            \n",
       "                                                                                            \n",
       "                                                                                            \n",
       "                                                                                            \n",
       "                                                                  0                         \n",
       "                                                                                            \n",
       "                                                                                            \n",
       "                                                                                            \n",
       "                                                                                            \n",
       "                                                                                            \n",
       "                                                                                            \n",
       "                                                                                            \n",
       "                                                                  0                         \n",
       "                                                                                            \n",
       "                                                                                            \n",
       "                                                                                            \n",
       "                                                                                            \n",
       "                                                                  0                         \n",
       "                                                                                            \n",
       "                                                                                            \n",
       "       2          ⎞                        2                                                \n",
       "      ∂           ⎟                       ∂              ∂           ∂             ∂        \n",
       ") + ─────(γ(u, v))⎟⋅ρ(u, v) + 2⋅ρ(u, v)⋅─────(ψ(u, v)) + ──(ψ(u, v))⋅──(ρ(u, v)) + ──(ψ(u, v\n",
       "    ∂v ∂u         ⎠                     ∂v ∂u            ∂u          ∂v            ∂v       \n",
       "\n",
       "                                                                        ⎤\n",
       "                                                                        ⎥\n",
       "                                                                        ⎥\n",
       "                                                                        ⎥\n",
       "                                                                        ⎥\n",
       "                                                                        ⎥\n",
       "                                                                        ⎥\n",
       "                                                                        ⎥\n",
       "                                                                        ⎥\n",
       "                                                                        ⎥\n",
       "                                                                        ⎥\n",
       "                                                                        ⎥\n",
       "                                                                        ⎥\n",
       "                                                                        ⎥\n",
       "                                                                        ⎥\n",
       "                                                                        ⎥\n",
       "                                                                        ⎥\n",
       "                                                                        ⎥\n",
       "                                                                        ⎥\n",
       "                                                                        ⎥\n",
       "                                                                        ⎥\n",
       "                        2          ⎞                                    ⎥\n",
       "   ∂                   ∂           ⎟   _________  -2⋅γ(u, v) + 2⋅ψ(u, v)⎥\n",
       "))⋅──(ρ(u, v)) - 0.5⋅─────(ρ(u, v))⎟⋅╲╱ ρ(u, v) ⋅ℯ                      ⎥\n",
       "   ∂u                ∂v ∂u         ⎠                                    ⎦"
      ]
     },
     "execution_count": 34,
     "metadata": {},
     "output_type": "execute_result"
    }
   ],
   "source": [
    "simplify(einst.tensor())"
   ]
  },
  {
   "cell_type": "code",
   "execution_count": 36,
   "id": "7c4e3564",
   "metadata": {},
   "outputs": [
    {
     "data": {
      "image/png": "[encoded data removed]",
      "text/latex": [
       "$\\displaystyle - 2 \\frac{\\partial}{\\partial u} \\psi{\\left(u,v \\right)} \\frac{\\partial}{\\partial v} \\psi{\\left(u,v \\right)} - 2 \\frac{\\partial^{2}}{\\partial v\\partial u} \\gamma{\\left(u,v \\right)} - \\frac{\\frac{\\partial^{2}}{\\partial v\\partial u} \\rho{\\left(u,v \\right)}}{2 \\rho{\\left(u,v \\right)}}$"
      ],
      "text/plain": [
       "                                                    2          \n",
       "                                                   ∂           \n",
       "                                   2             ─────(ρ(u, v))\n",
       "    ∂           ∂                 ∂              ∂v ∂u         \n",
       "- 2⋅──(ψ(u, v))⋅──(ψ(u, v)) - 2⋅─────(γ(u, v)) - ──────────────\n",
       "    ∂u          ∂v              ∂v ∂u              2⋅ρ(u, v)   "
      ]
     },
     "execution_count": 36,
     "metadata": {},
     "output_type": "execute_result"
    }
   ],
   "source": [
    "Ric.tensor()[0,1]"
   ]
  },
  {
   "cell_type": "code",
   "execution_count": 44,
   "id": "9f331b17",
   "metadata": {},
   "outputs": [
    {
     "data": {
      "image/png": "[encoded data removed]",
      "text/latex": [
       "$\\displaystyle - 2 \\rho{\\left(u,v \\right)} \\left(\\frac{\\partial}{\\partial v} \\psi{\\left(u,v \\right)}\\right)^{2} + 2 \\frac{\\partial}{\\partial v} \\gamma{\\left(u,v \\right)} \\frac{\\partial}{\\partial v} \\rho{\\left(u,v \\right)} - \\frac{\\partial^{2}}{\\partial v^{2}} \\rho{\\left(u,v \\right)}$"
      ],
      "text/plain": [
       "                         2                                 2         \n",
       "            ⎛∂          ⎞      ∂           ∂              ∂          \n",
       "- 2⋅ρ(u, v)⋅⎜──(ψ(u, v))⎟  + 2⋅──(γ(u, v))⋅──(ρ(u, v)) - ───(ρ(u, v))\n",
       "            ⎝∂v         ⎠      ∂v          ∂v              2         \n",
       "                                                         ∂v          "
      ]
     },
     "execution_count": 44,
     "metadata": {},
     "output_type": "execute_result"
    }
   ],
   "source": [
    "Ric.tensor()[1,1].args[1]"
   ]
  },
  {
   "cell_type": "code",
   "execution_count": 47,
   "id": "7ec993d7",
   "metadata": {},
   "outputs": [
    {
     "data": {
      "image/png": "[encoded data removed]",
      "text/latex": [
       "$\\displaystyle - 2 \\rho{\\left(u,v \\right)} \\left(\\frac{\\partial}{\\partial u} \\psi{\\left(u,v \\right)}\\right)^{2} + 2 \\frac{\\partial}{\\partial u} \\gamma{\\left(u,v \\right)} \\frac{\\partial}{\\partial u} \\rho{\\left(u,v \\right)} - \\frac{\\partial^{2}}{\\partial u^{2}} \\rho{\\left(u,v \\right)}$"
      ],
      "text/plain": [
       "                         2                                 2         \n",
       "            ⎛∂          ⎞      ∂           ∂              ∂          \n",
       "- 2⋅ρ(u, v)⋅⎜──(ψ(u, v))⎟  + 2⋅──(γ(u, v))⋅──(ρ(u, v)) - ───(ρ(u, v))\n",
       "            ⎝∂u         ⎠      ∂u          ∂u              2         \n",
       "                                                         ∂u          "
      ]
     },
     "execution_count": 47,
     "metadata": {},
     "output_type": "execute_result"
    }
   ],
   "source": [
    "Ric.tensor()[0,0].args[1]"
   ]
  },
  {
   "cell_type": "code",
   "execution_count": 50,
   "id": "2be1283c",
   "metadata": {},
   "outputs": [
    {
     "data": {
      "image/png": "[encoded data removed]",
      "text/latex": [
       "$\\displaystyle - 2 \\rho{\\left(u,v \\right)} \\frac{\\partial^{2}}{\\partial v\\partial u} \\psi{\\left(u,v \\right)} - \\frac{\\partial}{\\partial u} \\psi{\\left(u,v \\right)} \\frac{\\partial}{\\partial v} \\rho{\\left(u,v \\right)} - \\frac{\\partial}{\\partial v} \\psi{\\left(u,v \\right)} \\frac{\\partial}{\\partial u} \\rho{\\left(u,v \\right)} + \\frac{\\partial^{2}}{\\partial v\\partial u} \\rho{\\left(u,v \\right)}$"
      ],
      "text/plain": [
       "               2                                                                    2       \n",
       "              ∂              ∂           ∂             ∂           ∂               ∂        \n",
       "- 2⋅ρ(u, v)⋅─────(ψ(u, v)) - ──(ψ(u, v))⋅──(ρ(u, v)) - ──(ψ(u, v))⋅──(ρ(u, v)) + ─────(ρ(u, \n",
       "            ∂v ∂u            ∂u          ∂v            ∂v          ∂u            ∂v ∂u      \n",
       "\n",
       "   \n",
       "   \n",
       "v))\n",
       "   "
      ]
     },
     "execution_count": 50,
     "metadata": {},
     "output_type": "execute_result"
    }
   ],
   "source": [
    "Ric.tensor()[2,2].args[1]"
   ]
  },
  {
   "cell_type": "code",
   "execution_count": 76,
   "id": "06b64a5a",
   "metadata": {},
   "outputs": [
    {
     "data": {
      "image/png": "[encoded data removed]",
      "text/latex": [
       "$\\displaystyle \\frac{\\partial^{2}}{\\partial v\\partial u} \\rho{\\left(u,v \\right)} = - 2 \\rho{\\left(u,v \\right)} \\frac{\\partial^{2}}{\\partial v\\partial u} \\psi{\\left(u,v \\right)} - \\frac{\\partial}{\\partial u} \\psi{\\left(u,v \\right)} \\frac{\\partial}{\\partial v} \\rho{\\left(u,v \\right)} - \\frac{\\partial}{\\partial v} \\psi{\\left(u,v \\right)} \\frac{\\partial}{\\partial u} \\rho{\\left(u,v \\right)}$"
      ],
      "text/plain": [
       "   2                            2                                                           \n",
       "  ∂                            ∂              ∂           ∂             ∂           ∂       \n",
       "─────(ρ(u, v)) = - 2⋅ρ(u, v)⋅─────(ψ(u, v)) - ──(ψ(u, v))⋅──(ρ(u, v)) - ──(ψ(u, v))⋅──(ρ(u, \n",
       "∂v ∂u                        ∂v ∂u            ∂u          ∂v            ∂v          ∂u      \n",
       "\n",
       "   \n",
       "   \n",
       "v))\n",
       "   "
      ]
     },
     "execution_count": 76,
     "metadata": {},
     "output_type": "execute_result"
    }
   ],
   "source": [
    "Eq(diff(rho,u,v), solve( Ric.tensor()[3,3].args[1], diff(rho,u,v) )[0] ) "
   ]
  },
  {
   "cell_type": "code",
   "execution_count": 70,
   "id": "f52dadb7",
   "metadata": {},
   "outputs": [
    {
     "data": {
      "image/png": "[encoded data removed]",
      "text/latex": [
       "$\\displaystyle - 2 \\rho{\\left(u,v \\right)} \\left(\\frac{\\partial}{\\partial u} \\psi{\\left(u,v \\right)}\\right)^{2} + 2 \\frac{\\partial}{\\partial u} \\gamma{\\left(u,v \\right)} \\frac{\\partial}{\\partial u} \\rho{\\left(u,v \\right)} - \\frac{\\partial^{2}}{\\partial u^{2}} \\rho{\\left(u,v \\right)}$"
      ],
      "text/plain": [
       "                         2                                 2         \n",
       "            ⎛∂          ⎞      ∂           ∂              ∂          \n",
       "- 2⋅ρ(u, v)⋅⎜──(ψ(u, v))⎟  + 2⋅──(γ(u, v))⋅──(ρ(u, v)) - ───(ρ(u, v))\n",
       "            ⎝∂u         ⎠      ∂u          ∂u              2         \n",
       "                                                         ∂u          "
      ]
     },
     "execution_count": 70,
     "metadata": {},
     "output_type": "execute_result"
    }
   ],
   "source": [
    "simplify(einst.tensor())[0,0].args[1]"
   ]
  },
  {
   "cell_type": "code",
   "execution_count": 72,
   "id": "86b9095f",
   "metadata": {},
   "outputs": [
    {
     "data": {
      "image/png": "[encoded data removed]",
      "text/latex": [
       "$\\displaystyle \\frac{\\partial^{2}}{\\partial v\\partial u} \\rho{\\left(u,v \\right)} = 0$"
      ],
      "text/plain": [
       "   2              \n",
       "  ∂               \n",
       "─────(ρ(u, v)) = 0\n",
       "∂v ∂u             "
      ]
     },
     "execution_count": 72,
     "metadata": {},
     "output_type": "execute_result"
    }
   ],
   "source": [
    "#  This would be the wave equation for rho \n",
    "rhoWaveEquation = Eq(simplify(einst.tensor())[0,1].args[1],0)\n",
    "rhoWaveEquation "
   ]
  },
  {
   "cell_type": "code",
   "execution_count": 73,
   "id": "0dfe2cf2",
   "metadata": {},
   "outputs": [
    {
     "data": {
      "image/png": "[encoded data removed]",
      "text/latex": [
       "$\\displaystyle \\frac{\\partial^{2}}{\\partial v\\partial u} \\psi{\\left(u,v \\right)} = - \\frac{\\frac{\\partial}{\\partial u} \\psi{\\left(u,v \\right)} \\frac{\\partial}{\\partial v} \\rho{\\left(u,v \\right)}}{2 \\rho{\\left(u,v \\right)}} - \\frac{\\frac{\\partial}{\\partial v} \\psi{\\left(u,v \\right)} \\frac{\\partial}{\\partial u} \\rho{\\left(u,v \\right)}}{2 \\rho{\\left(u,v \\right)}}$"
      ],
      "text/plain": [
       "                   ∂           ∂             ∂           ∂          \n",
       "   2               ──(ψ(u, v))⋅──(ρ(u, v))   ──(ψ(u, v))⋅──(ρ(u, v))\n",
       "  ∂                ∂u          ∂v            ∂v          ∂u         \n",
       "─────(ψ(u, v)) = - ─────────────────────── - ───────────────────────\n",
       "∂v ∂u                     2⋅ρ(u, v)                 2⋅ρ(u, v)       "
      ]
     },
     "execution_count": 73,
     "metadata": {},
     "output_type": "execute_result"
    }
   ],
   "source": [
    "#  Wave equation for psi \n",
    "psiWaveEquation = Eq(diff(psi,u,v),expand(solve( simplify(einst.tensor())[2,2].args[2] + simplify(einst.tensor())[3,3].args[1] , diff(psi,u,v) )[0]))\n",
    "psiWaveEquation"
   ]
  },
  {
   "cell_type": "code",
   "execution_count": 87,
   "id": "6fbd77da",
   "metadata": {},
   "outputs": [
    {
     "data": {
      "image/png": "[encoded data removed]",
      "text/latex": [
       "$\\displaystyle \\frac{\\partial^{2}}{\\partial v\\partial u} \\gamma{\\left(u,v \\right)} = - \\frac{\\partial}{\\partial u} \\psi{\\left(u,v \\right)} \\frac{\\partial}{\\partial v} \\psi{\\left(u,v \\right)}$"
      ],
      "text/plain": [
       "   2                                     \n",
       "  ∂               ∂           ∂          \n",
       "─────(γ(u, v)) = -──(ψ(u, v))⋅──(ψ(u, v))\n",
       "∂v ∂u             ∂u          ∂v         "
      ]
     },
     "execution_count": 87,
     "metadata": {},
     "output_type": "execute_result"
    }
   ],
   "source": [
    "gammaWaveEquation = Eq(diff(gamma,u,v), solve( simplify(einst.tensor())[3,3].args[1].subs(psiWaveEquation.args[0],psiWaveEquation.args[1]).subs(rhoWaveEquation.args[0],rhoWaveEquation.args[1]), diff(gamma,u,v))[0])\n",
    "gammaWaveEquation"
   ]
  },
  {
   "cell_type": "code",
   "execution_count": 89,
   "id": "7614204f",
   "metadata": {},
   "outputs": [
    {
     "data": {
      "text/latex": [
       "$\\displaystyle \\left[\\begin{matrix}\\frac{\\partial^{2}}{\\partial v\\partial u} \\rho{\\left(u,v \\right)} = 0\\\\\\frac{\\partial^{2}}{\\partial v\\partial u} \\psi{\\left(u,v \\right)} = - \\frac{\\frac{\\partial}{\\partial u} \\psi{\\left(u,v \\right)} \\frac{\\partial}{\\partial v} \\rho{\\left(u,v \\right)}}{2 \\rho{\\left(u,v \\right)}} - \\frac{\\frac{\\partial}{\\partial v} \\psi{\\left(u,v \\right)} \\frac{\\partial}{\\partial u} \\rho{\\left(u,v \\right)}}{2 \\rho{\\left(u,v \\right)}}\\\\\\frac{\\partial^{2}}{\\partial v\\partial u} \\gamma{\\left(u,v \\right)} = - \\frac{\\partial}{\\partial u} \\psi{\\left(u,v \\right)} \\frac{\\partial}{\\partial v} \\psi{\\left(u,v \\right)}\\end{matrix}\\right]$"
      ],
      "text/plain": [
       "⎡                            2                                       ⎤\n",
       "⎢                           ∂                                        ⎥\n",
       "⎢                         ─────(ρ(u, v)) = 0                         ⎥\n",
       "⎢                         ∂v ∂u                                      ⎥\n",
       "⎢                                                                    ⎥\n",
       "⎢                   ∂           ∂             ∂           ∂          ⎥\n",
       "⎢   2               ──(ψ(u, v))⋅──(ρ(u, v))   ──(ψ(u, v))⋅──(ρ(u, v))⎥\n",
       "⎢  ∂                ∂u          ∂v            ∂v          ∂u         ⎥\n",
       "⎢─────(ψ(u, v)) = - ─────────────────────── - ───────────────────────⎥\n",
       "⎢∂v ∂u                     2⋅ρ(u, v)                 2⋅ρ(u, v)       ⎥\n",
       "⎢                                                                    ⎥\n",
       "⎢                2                                                   ⎥\n",
       "⎢               ∂               ∂           ∂                        ⎥\n",
       "⎢             ─────(γ(u, v)) = -──(ψ(u, v))⋅──(ψ(u, v))              ⎥\n",
       "⎣             ∂v ∂u             ∂u          ∂v                       ⎦"
      ]
     },
     "execution_count": 89,
     "metadata": {},
     "output_type": "execute_result"
    }
   ],
   "source": [
    "vacuumFieldEquations = Matrix([rhoWaveEquation,psiWaveEquation,gammaWaveEquation])\n",
    "vacuumFieldEquations"
   ]
  },
  {
   "cell_type": "code",
   "execution_count": null,
   "id": "1331f466",
   "metadata": {},
   "outputs": [],
   "source": []
  }
 ],
 "metadata": {
  "@webio": {
   "lastCommId": "6854c4d71fca485f8fd8ab15baeee05e",
   "lastKernelId": "8d8d07df-a293-46fd-9051-1bbef9ac32c8"
  },
  "kernelspec": {
   "display_name": "Python 3 (ipykernel)",
   "language": "python",
   "name": "python3"
  },
  "language_info": {
   "codemirror_mode": {
    "name": "ipython",
    "version": 3
   },
   "file_extension": ".py",
   "mimetype": "text/x-python",
   "name": "python",
   "nbconvert_exporter": "python",
   "pygments_lexer": "ipython3",
   "version": "3.8.8"
  }
 },
 "nbformat": 4,
 "nbformat_minor": 5
}
