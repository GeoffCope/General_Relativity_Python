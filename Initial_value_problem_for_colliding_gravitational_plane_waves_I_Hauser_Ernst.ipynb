{
 "cells": [
  {
   "cell_type": "markdown",
   "id": "a496e2f3",
   "metadata": {},
   "source": [
    "# Initial value problem for colliding gravitational plane waves I by Hauser & Ernst\n",
    "##  Geoff Cope\n",
    "##  Univeristy of Utah\n",
    "##  December 22, 2021"
   ]
  },
  {
   "cell_type": "markdown",
   "id": "dd4138e5",
   "metadata": {},
   "source": [
    "https://aip.scitation.org/doi/abs/10.1063/1.528355"
   ]
  },
  {
   "cell_type": "code",
   "execution_count": 1,
   "id": "0639fffc",
   "metadata": {},
   "outputs": [
    {
     "name": "stdout",
     "output_type": "stream",
     "text": [
      "IPython console for SymPy 1.9 (Python 3.8.8-64-bit) (ground types: gmpy)\n",
      "\n",
      "These commands were executed:\n",
      ">>> from __future__ import division\n",
      ">>> from sympy import *\n",
      ">>> x, y, z, t = symbols('x y z t')\n",
      ">>> k, m, n = symbols('k m n', integer=True)\n",
      ">>> f, g, h = symbols('f g h', cls=Function)\n",
      ">>> init_printing()\n",
      "\n",
      "Documentation can be found at https://docs.sympy.org/1.9/\n",
      "\n"
     ]
    }
   ],
   "source": [
    "from sympy import init_session\n",
    "init_session(use_latex=True)"
   ]
  },
  {
   "cell_type": "code",
   "execution_count": 2,
   "id": "bc117a94",
   "metadata": {},
   "outputs": [],
   "source": [
    "import warnings\n",
    "import matplotlib.cbook\n",
    "warnings.filterwarnings(\"ignore\",category=matplotlib.cbook.mplDeprecation)"
   ]
  },
  {
   "cell_type": "code",
   "execution_count": 3,
   "id": "fcb513e7",
   "metadata": {},
   "outputs": [],
   "source": [
    "u,v,x,y,du,dv,dx,dy = symbols('u v x y du dv dx dy')"
   ]
  },
  {
   "cell_type": "code",
   "execution_count": 4,
   "id": "3020b320",
   "metadata": {},
   "outputs": [
    {
     "data": {
      "image/png": "[encoded data removed]",
      "text/latex": [
       "$\\displaystyle \\rho{\\left(u,v \\right)}$"
      ],
      "text/plain": [
       "ρ(u, v)"
      ]
     },
     "execution_count": 4,
     "metadata": {},
     "output_type": "execute_result"
    }
   ],
   "source": [
    "rho = Function('rho')(u,v)\n",
    "rho"
   ]
  },
  {
   "cell_type": "code",
   "execution_count": 5,
   "id": "fca1c1ed",
   "metadata": {},
   "outputs": [
    {
     "data": {
      "image/png": "[encoded data removed]",
      "text/latex": [
       "$\\displaystyle \\psi{\\left(u,v \\right)}$"
      ],
      "text/plain": [
       "ψ(u, v)"
      ]
     },
     "execution_count": 5,
     "metadata": {},
     "output_type": "execute_result"
    }
   ],
   "source": [
    "psi = Function('psi')(u,v)\n",
    "psi"
   ]
  },
  {
   "cell_type": "code",
   "execution_count": 6,
   "id": "5d26517f",
   "metadata": {},
   "outputs": [
    {
     "data": {
      "image/png": "[encoded data removed]",
      "text/latex": [
       "$\\displaystyle \\gamma{\\left(u,v \\right)}$"
      ],
      "text/plain": [
       "γ(u, v)"
      ]
     },
     "execution_count": 6,
     "metadata": {},
     "output_type": "execute_result"
    }
   ],
   "source": [
    "gamma = Function('gamma')(u,v)\n",
    "gamma"
   ]
  },
  {
   "cell_type": "code",
   "execution_count": 9,
   "id": "e0a79256",
   "metadata": {},
   "outputs": [
    {
     "data": {
      "text/latex": [
       "$\\displaystyle \\left[\\begin{matrix}u\\\\v\\\\x\\\\y\\end{matrix}\\right]$"
      ],
      "text/plain": [
       "⎡u⎤\n",
       "⎢ ⎥\n",
       "⎢v⎥\n",
       "⎢ ⎥\n",
       "⎢x⎥\n",
       "⎢ ⎥\n",
       "⎣y⎦"
      ]
     },
     "execution_count": 9,
     "metadata": {},
     "output_type": "execute_result"
    }
   ],
   "source": [
    "variables = Matrix([u,v,x,y])\n",
    "variables"
   ]
  },
  {
   "cell_type": "code",
   "execution_count": 10,
   "id": "bdb50818",
   "metadata": {},
   "outputs": [
    {
     "data": {
      "text/latex": [
       "$\\displaystyle \\left[\\begin{matrix}du\\\\dv\\\\dx\\\\dy\\end{matrix}\\right]$"
      ],
      "text/plain": [
       "⎡du⎤\n",
       "⎢  ⎥\n",
       "⎢dv⎥\n",
       "⎢  ⎥\n",
       "⎢dx⎥\n",
       "⎢  ⎥\n",
       "⎣dy⎦"
      ]
     },
     "execution_count": 10,
     "metadata": {},
     "output_type": "execute_result"
    }
   ],
   "source": [
    "differentials = Matrix([du,dv,dx,dy])\n",
    "differentials"
   ]
  },
  {
   "cell_type": "code",
   "execution_count": 11,
   "id": "cb5ac424",
   "metadata": {},
   "outputs": [
    {
     "data": {
      "image/png": "[encoded data removed]",
      "text/latex": [
       "$\\displaystyle - \\frac{2 du dv e^{2 \\gamma{\\left(u,v \\right)}}}{\\rho^{0.5}{\\left(u,v \\right)}} + dx^{2} \\rho{\\left(u,v \\right)} e^{- 2 \\psi{\\left(u,v \\right)}} + dy^{2} \\rho{\\left(u,v \\right)} e^{2 \\psi{\\left(u,v \\right)}}$"
      ],
      "text/plain": [
       "           -0.5        2⋅γ(u, v)     2          -2⋅ψ(u, v)     2          2⋅ψ(u, v)\n",
       "- 2⋅du⋅dv⋅ρ    (u, v)⋅ℯ          + dx ⋅ρ(u, v)⋅ℯ           + dy ⋅ρ(u, v)⋅ℯ         "
      ]
     },
     "execution_count": 11,
     "metadata": {},
     "output_type": "execute_result"
    }
   ],
   "source": [
    "lineElement = expand( rho * ( exp(-2*psi) * dx**2 + exp(2*psi) * dy**2 ) - (2/rho**(1/2)) * ( exp(2*gamma)*du*dv) )\n",
    "lineElement "
   ]
  },
  {
   "cell_type": "code",
   "execution_count": 12,
   "id": "799398da",
   "metadata": {},
   "outputs": [
    {
     "data": {
      "text/latex": [
       "$\\displaystyle \\left[\\begin{matrix}0 & - \\frac{e^{2 \\gamma{\\left(u,v \\right)}}}{\\rho^{0.5}{\\left(u,v \\right)}} & 0 & 0\\\\- \\frac{e^{2 \\gamma{\\left(u,v \\right)}}}{\\rho^{0.5}{\\left(u,v \\right)}} & 0 & 0 & 0\\\\0 & 0 & \\rho{\\left(u,v \\right)} e^{- 2 \\psi{\\left(u,v \\right)}} & 0\\\\0 & 0 & 0 & \\rho{\\left(u,v \\right)} e^{2 \\psi{\\left(u,v \\right)}}\\end{matrix}\\right]$"
      ],
      "text/plain": [
       "⎡                           -0.5        2⋅γ(u, v)                                         ⎤\n",
       "⎢           0             -ρ    (u, v)⋅ℯ                    0                   0         ⎥\n",
       "⎢                                                                                         ⎥\n",
       "⎢  -0.5        2⋅γ(u, v)                                                                  ⎥\n",
       "⎢-ρ    (u, v)⋅ℯ                      0                      0                   0         ⎥\n",
       "⎢                                                                                         ⎥\n",
       "⎢                                                           -2⋅ψ(u, v)                    ⎥\n",
       "⎢           0                        0             ρ(u, v)⋅ℯ                    0         ⎥\n",
       "⎢                                                                                         ⎥\n",
       "⎢                                                                                2⋅ψ(u, v)⎥\n",
       "⎣           0                        0                      0           ρ(u, v)⋅ℯ         ⎦"
      ]
     },
     "execution_count": 12,
     "metadata": {},
     "output_type": "execute_result"
    }
   ],
   "source": [
    "g = zeros(4)\n",
    "\n",
    "for i in range(4):\n",
    "    for j in range(4):\n",
    "        if i == j:\n",
    "            g[i,j] = lineElement.coeff( differentials[i],2 ) \n",
    "        else:\n",
    "            g[i,j] = Rational(1,2)*lineElement.coeff( differentials[i]*differentials[j],1 )\n",
    "            \n",
    "g"
   ]
  },
  {
   "cell_type": "code",
   "execution_count": 13,
   "id": "b9cb0e8c",
   "metadata": {},
   "outputs": [],
   "source": [
    "import sympy"
   ]
  },
  {
   "cell_type": "code",
   "execution_count": 14,
   "id": "675b9296",
   "metadata": {},
   "outputs": [
    {
     "data": {
      "text/latex": [
       "$\\displaystyle \\left[\\begin{matrix}0 & - \\frac{e^{2 \\gamma{\\left(u,v \\right)}}}{\\rho^{0.5}{\\left(u,v \\right)}} & 0 & 0\\\\- \\frac{e^{2 \\gamma{\\left(u,v \\right)}}}{\\rho^{0.5}{\\left(u,v \\right)}} & 0 & 0 & 0\\\\0 & 0 & \\rho{\\left(u,v \\right)} e^{- 2 \\psi{\\left(u,v \\right)}} & 0\\\\0 & 0 & 0 & \\rho{\\left(u,v \\right)} e^{2 \\psi{\\left(u,v \\right)}}\\end{matrix}\\right]$"
      ],
      "text/plain": [
       "⎡                           -0.5        2⋅γ(u, v)                                         ⎤\n",
       "⎢           0             -ρ    (u, v)⋅ℯ                    0                   0         ⎥\n",
       "⎢                                                                                         ⎥\n",
       "⎢  -0.5        2⋅γ(u, v)                                                                  ⎥\n",
       "⎢-ρ    (u, v)⋅ℯ                      0                      0                   0         ⎥\n",
       "⎢                                                                                         ⎥\n",
       "⎢                                                           -2⋅ψ(u, v)                    ⎥\n",
       "⎢           0                        0             ρ(u, v)⋅ℯ                    0         ⎥\n",
       "⎢                                                                                         ⎥\n",
       "⎢                                                                                2⋅ψ(u, v)⎥\n",
       "⎣           0                        0                      0           ρ(u, v)⋅ℯ         ⎦"
      ]
     },
     "execution_count": 14,
     "metadata": {},
     "output_type": "execute_result"
    }
   ],
   "source": [
    "m = sympy.Array(g)\n",
    "m"
   ]
  },
  {
   "cell_type": "code",
   "execution_count": 15,
   "id": "812111ab",
   "metadata": {},
   "outputs": [],
   "source": [
    "from einsteinpy.symbolic import *"
   ]
  },
  {
   "cell_type": "code",
   "execution_count": 16,
   "id": "af931ec5",
   "metadata": {},
   "outputs": [],
   "source": [
    "syms = sympy.symbols(\"u v x y\")\n",
    "u,v,x,y = syms"
   ]
  },
  {
   "cell_type": "code",
   "execution_count": 17,
   "id": "b1ebc811",
   "metadata": {},
   "outputs": [],
   "source": [
    "metric = MetricTensor(m,syms)"
   ]
  },
  {
   "cell_type": "code",
   "execution_count": 19,
   "id": "ca9e77e7",
   "metadata": {},
   "outputs": [
    {
     "data": {
      "text/latex": [
       "$\\displaystyle \\left[\\begin{matrix}\\left[\\begin{matrix}- \\frac{0.5 \\frac{\\partial}{\\partial u} \\rho{\\left(u,v \\right)}}{\\rho^{1.0}{\\left(u,v \\right)}} + 2.0 \\frac{\\partial}{\\partial u} \\gamma{\\left(u,v \\right)} & 0 & 0 & 0\\\\0 & 0 & 0 & 0\\\\0 & 0 & \\left(- \\rho{\\left(u,v \\right)} \\frac{\\partial}{\\partial v} \\psi{\\left(u,v \\right)} + \\frac{\\frac{\\partial}{\\partial v} \\rho{\\left(u,v \\right)}}{2}\\right) \\rho^{0.5}{\\left(u,v \\right)} e^{- 2 \\gamma{\\left(u,v \\right)} - 2 \\psi{\\left(u,v \\right)}} & 0\\\\0 & 0 & 0 & \\left(\\rho{\\left(u,v \\right)} \\frac{\\partial}{\\partial v} \\psi{\\left(u,v \\right)} + \\frac{\\frac{\\partial}{\\partial v} \\rho{\\left(u,v \\right)}}{2}\\right) \\rho^{0.5}{\\left(u,v \\right)} e^{- 2 \\gamma{\\left(u,v \\right)} + 2 \\psi{\\left(u,v \\right)}}\\end{matrix}\\right] & \\left[\\begin{matrix}0 & 0 & 0 & 0\\\\0 & - \\frac{0.5 \\frac{\\partial}{\\partial v} \\rho{\\left(u,v \\right)}}{\\rho^{1.0}{\\left(u,v \\right)}} + 2.0 \\frac{\\partial}{\\partial v} \\gamma{\\left(u,v \\right)} & 0 & 0\\\\0 & 0 & \\left(- \\rho{\\left(u,v \\right)} \\frac{\\partial}{\\partial u} \\psi{\\left(u,v \\right)} + \\frac{\\frac{\\partial}{\\partial u} \\rho{\\left(u,v \\right)}}{2}\\right) \\rho^{0.5}{\\left(u,v \\right)} e^{- 2 \\gamma{\\left(u,v \\right)} - 2 \\psi{\\left(u,v \\right)}} & 0\\\\0 & 0 & 0 & \\left(\\rho{\\left(u,v \\right)} \\frac{\\partial}{\\partial u} \\psi{\\left(u,v \\right)} + \\frac{\\frac{\\partial}{\\partial u} \\rho{\\left(u,v \\right)}}{2}\\right) \\rho^{0.5}{\\left(u,v \\right)} e^{- 2 \\gamma{\\left(u,v \\right)} + 2 \\psi{\\left(u,v \\right)}}\\end{matrix}\\right] & \\left[\\begin{matrix}0 & 0 & - \\frac{\\partial}{\\partial u} \\psi{\\left(u,v \\right)} + \\frac{\\frac{\\partial}{\\partial u} \\rho{\\left(u,v \\right)}}{2 \\rho{\\left(u,v \\right)}} & 0\\\\0 & 0 & - \\frac{\\partial}{\\partial v} \\psi{\\left(u,v \\right)} + \\frac{\\frac{\\partial}{\\partial v} \\rho{\\left(u,v \\right)}}{2 \\rho{\\left(u,v \\right)}} & 0\\\\- \\frac{\\partial}{\\partial u} \\psi{\\left(u,v \\right)} + \\frac{\\frac{\\partial}{\\partial u} \\rho{\\left(u,v \\right)}}{2 \\rho{\\left(u,v \\right)}} & - \\frac{\\partial}{\\partial v} \\psi{\\left(u,v \\right)} + \\frac{\\frac{\\partial}{\\partial v} \\rho{\\left(u,v \\right)}}{2 \\rho{\\left(u,v \\right)}} & 0 & 0\\\\0 & 0 & 0 & 0\\end{matrix}\\right] & \\left[\\begin{matrix}0 & 0 & 0 & \\frac{\\partial}{\\partial u} \\psi{\\left(u,v \\right)} + \\frac{\\frac{\\partial}{\\partial u} \\rho{\\left(u,v \\right)}}{2 \\rho{\\left(u,v \\right)}}\\\\0 & 0 & 0 & \\frac{\\partial}{\\partial v} \\psi{\\left(u,v \\right)} + \\frac{\\frac{\\partial}{\\partial v} \\rho{\\left(u,v \\right)}}{2 \\rho{\\left(u,v \\right)}}\\\\0 & 0 & 0 & 0\\\\\\frac{\\partial}{\\partial u} \\psi{\\left(u,v \\right)} + \\frac{\\frac{\\partial}{\\partial u} \\rho{\\left(u,v \\right)}}{2 \\rho{\\left(u,v \\right)}} & \\frac{\\partial}{\\partial v} \\psi{\\left(u,v \\right)} + \\frac{\\frac{\\partial}{\\partial v} \\rho{\\left(u,v \\right)}}{2 \\rho{\\left(u,v \\right)}} & 0 & 0\\end{matrix}\\right]\\end{matrix}\\right]$"
      ],
      "text/plain": [
       "⎡                                                                                                                          \n",
       "⎢⎡       -1.0       ∂                 ∂                                                                                    \n",
       "⎢⎢- 0.5⋅ρ    (u, v)⋅──(ρ(u, v)) + 2.0⋅──(γ(u, v))  0                                     0                                 \n",
       "⎢⎢                  ∂u                ∂u                                                                                   \n",
       "⎢⎢                                                                                                                         \n",
       "⎢⎢                       0                         0                                     0                                 \n",
       "⎢⎢                                                                                                                         \n",
       "⎢⎢                                                    ⎛                        ∂          ⎞                                \n",
       "⎢⎢                                                    ⎜                        ──(ρ(u, v))⎟                                \n",
       "⎢⎢                                                    ⎜          ∂             ∂v         ⎟  0.5        -2⋅γ(u, v) - 2⋅ψ(u,\n",
       "⎢⎢                       0                         0  ⎜- ρ(u, v)⋅──(ψ(u, v)) + ───────────⎟⋅ρ   (u, v)⋅ℯ                   \n",
       "⎢⎢                                                    ⎝          ∂v                 2     ⎠                                \n",
       "⎢⎢                                                                                                                         \n",
       "⎢⎢                                                                                                                         \n",
       "⎢⎢                                                                                                                         \n",
       "⎢⎢                                                                                                                         \n",
       "⎢⎢                       0                         0                                     0                                 \n",
       "⎢⎣                                                                                                                         \n",
       "⎣                                                                                                                          \n",
       "\n",
       "                                                                                                                           \n",
       "                                                                           ⎤  ⎡0                         0                 \n",
       "                                       0                                   ⎥  ⎢                                            \n",
       "                                                                           ⎥  ⎢          -1.0       ∂                 ∂    \n",
       "                                                                           ⎥  ⎢0  - 0.5⋅ρ    (u, v)⋅──(ρ(u, v)) + 2.0⋅──(γ(\n",
       "                                       0                                   ⎥  ⎢                     ∂v                ∂v   \n",
       "                                                                           ⎥  ⎢                                            \n",
       "                                                                           ⎥  ⎢                                            \n",
       "                                                                           ⎥  ⎢                                            \n",
       " v)                                                                        ⎥  ⎢                                            \n",
       "                                       0                                   ⎥  ⎢0                         0                 \n",
       "                                                                           ⎥  ⎢                                            \n",
       "                                                                           ⎥  ⎢                                            \n",
       "     ⎛                      ∂          ⎞                                   ⎥  ⎢                                            \n",
       "     ⎜                      ──(ρ(u, v))⎟                                   ⎥  ⎢                                            \n",
       "     ⎜        ∂             ∂v         ⎟  0.5        -2⋅γ(u, v) + 2⋅ψ(u, v)⎥  ⎢                                            \n",
       "     ⎜ρ(u, v)⋅──(ψ(u, v)) + ───────────⎟⋅ρ   (u, v)⋅ℯ                      ⎥  ⎢0                         0                 \n",
       "     ⎝        ∂v                 2     ⎠                                   ⎦  ⎣                                            \n",
       "                                                                                                                           \n",
       "\n",
       "                                                                                                                           \n",
       "                                           0                                                                        0      \n",
       "                                                                                                                           \n",
       "                                                                                                                           \n",
       "u, v))                                     0                                                                        0      \n",
       "                                                                                                                           \n",
       "                                                                                                                           \n",
       "        ⎛                        ∂          ⎞                                                                              \n",
       "        ⎜                        ──(ρ(u, v))⎟                                                                              \n",
       "        ⎜          ∂             ∂u         ⎟  0.5        -2⋅γ(u, v) - 2⋅ψ(u, v)                                           \n",
       "        ⎜- ρ(u, v)⋅──(ψ(u, v)) + ───────────⎟⋅ρ   (u, v)⋅ℯ                                                          0      \n",
       "        ⎝          ∂u                 2     ⎠                                                                              \n",
       "                                                                                                                           \n",
       "                                                                                  ⎛                      ∂          ⎞      \n",
       "                                                                                  ⎜                      ──(ρ(u, v))⎟      \n",
       "                                                                                  ⎜        ∂             ∂u         ⎟  0.5 \n",
       "                                           0                                      ⎜ρ(u, v)⋅──(ψ(u, v)) + ───────────⎟⋅ρ   (\n",
       "                                                                                  ⎝        ∂u                 2     ⎠      \n",
       "                                                                                                                           \n",
       "\n",
       "                                ⎡                                                                          ∂             ⎤ \n",
       "                             ⎤  ⎢                                                                          ──(ρ(u, v))   ⎥ \n",
       "                             ⎥  ⎢                                                            ∂             ∂u            ⎥ \n",
       "                             ⎥  ⎢             0                            0               - ──(ψ(u, v)) + ───────────  0⎥ \n",
       "                             ⎥  ⎢                                                            ∂u             2⋅ρ(u, v)    ⎥ \n",
       "                             ⎥  ⎢                                                                                        ⎥ \n",
       "                             ⎥  ⎢                                                                          ∂             ⎥ \n",
       "                             ⎥  ⎢                                                                          ──(ρ(u, v))   ⎥ \n",
       "                             ⎥  ⎢                                                            ∂             ∂v            ⎥ \n",
       "                             ⎥  ⎢             0                            0               - ──(ψ(u, v)) + ───────────  0⎥ \n",
       "                             ⎥  ⎢                                                            ∂v             2⋅ρ(u, v)    ⎥ \n",
       "                             ⎥  ⎢                                                                                        ⎥ \n",
       "                             ⎥  ⎢                ∂                            ∂                                          ⎥ \n",
       "                             ⎥  ⎢                ──(ρ(u, v))                  ──(ρ(u, v))                                ⎥ \n",
       "                             ⎥  ⎢  ∂             ∂u             ∂             ∂v                                         ⎥ \n",
       "       -2⋅γ(u, v) + 2⋅ψ(u, v)⎥  ⎢- ──(ψ(u, v)) + ───────────  - ──(ψ(u, v)) + ───────────               0               0⎥ \n",
       "u, v)⋅ℯ                      ⎥  ⎢  ∂u             2⋅ρ(u, v)     ∂v             2⋅ρ(u, v)                                 ⎥ \n",
       "                             ⎦  ⎢                                                                                        ⎥ \n",
       "                                ⎣             0                            0                            0               0⎦ \n",
       "\n",
       " ⎡                                                                       ∂          ⎤⎤\n",
       " ⎢                                                                       ──(ρ(u, v))⎥⎥\n",
       " ⎢                                                         ∂             ∂u         ⎥⎥\n",
       " ⎢            0                          0              0  ──(ψ(u, v)) + ───────────⎥⎥\n",
       " ⎢                                                         ∂u             2⋅ρ(u, v) ⎥⎥\n",
       " ⎢                                                                                  ⎥⎥\n",
       " ⎢                                                                       ∂          ⎥⎥\n",
       " ⎢                                                                       ──(ρ(u, v))⎥⎥\n",
       " ⎢                                                         ∂             ∂v         ⎥⎥\n",
       " ⎢            0                          0              0  ──(ψ(u, v)) + ───────────⎥⎥\n",
       " ⎢                                                         ∂v             2⋅ρ(u, v) ⎥⎥\n",
       " ⎢                                                                                  ⎥⎥\n",
       " ⎢            0                          0              0              0            ⎥⎥\n",
       " ⎢                                                                                  ⎥⎥\n",
       " ⎢              ∂                          ∂                                        ⎥⎥\n",
       " ⎢              ──(ρ(u, v))                ──(ρ(u, v))                              ⎥⎥\n",
       " ⎢∂             ∂u           ∂             ∂v                                       ⎥⎥\n",
       " ⎢──(ψ(u, v)) + ───────────  ──(ψ(u, v)) + ───────────  0              0            ⎥⎥\n",
       " ⎣∂u             2⋅ρ(u, v)   ∂v             2⋅ρ(u, v)                               ⎦⎦"
      ]
     },
     "execution_count": 19,
     "metadata": {},
     "output_type": "execute_result"
    }
   ],
   "source": [
    "ch = ChristoffelSymbols.from_metric(metric)\n",
    "simplify(ch.tensor())"
   ]
  },
  {
   "cell_type": "code",
   "execution_count": 20,
   "id": "10e1c93b",
   "metadata": {},
   "outputs": [
    {
     "data": {
      "text/latex": [
       "$\\displaystyle \\left[\\begin{matrix}\\frac{- 2.0 \\rho^{1.0}{\\left(u,v \\right)} \\left(\\frac{\\partial}{\\partial u} \\psi{\\left(u,v \\right)}\\right)^{2} + 2.0 \\frac{\\partial}{\\partial u} \\gamma{\\left(u,v \\right)} \\frac{\\partial}{\\partial u} \\rho{\\left(u,v \\right)} - 1.0 \\frac{\\partial^{2}}{\\partial u^{2}} \\rho{\\left(u,v \\right)}}{\\rho^{1.0}{\\left(u,v \\right)}} & - \\frac{\\frac{\\partial^{2}}{\\partial v\\partial u} \\rho{\\left(u,v \\right)}}{2 \\rho^{1.0}{\\left(u,v \\right)}} - 2 \\frac{\\partial}{\\partial u} \\psi{\\left(u,v \\right)} \\frac{\\partial}{\\partial v} \\psi{\\left(u,v \\right)} - 2.0 \\frac{\\partial^{2}}{\\partial v\\partial u} \\gamma{\\left(u,v \\right)} & 0 & 0\\\\- \\frac{\\frac{\\partial^{2}}{\\partial v\\partial u} \\rho{\\left(u,v \\right)}}{2 \\rho^{1.0}{\\left(u,v \\right)}} - 2 \\frac{\\partial}{\\partial u} \\psi{\\left(u,v \\right)} \\frac{\\partial}{\\partial v} \\psi{\\left(u,v \\right)} - 2.0 \\frac{\\partial^{2}}{\\partial v\\partial u} \\gamma{\\left(u,v \\right)} & \\frac{- 2.0 \\rho^{1.0}{\\left(u,v \\right)} \\left(\\frac{\\partial}{\\partial v} \\psi{\\left(u,v \\right)}\\right)^{2} + 2.0 \\frac{\\partial}{\\partial v} \\gamma{\\left(u,v \\right)} \\frac{\\partial}{\\partial v} \\rho{\\left(u,v \\right)} - 1.0 \\frac{\\partial^{2}}{\\partial v^{2}} \\rho{\\left(u,v \\right)}}{\\rho^{1.0}{\\left(u,v \\right)}} & 0 & 0\\\\0 & 0 & \\left(- 1.0 \\rho^{0.5}{\\left(u,v \\right)} \\frac{\\partial}{\\partial u} \\psi{\\left(u,v \\right)} \\frac{\\partial}{\\partial v} \\rho{\\left(u,v \\right)} - 1.0 \\rho^{0.5}{\\left(u,v \\right)} \\frac{\\partial}{\\partial v} \\psi{\\left(u,v \\right)} \\frac{\\partial}{\\partial u} \\rho{\\left(u,v \\right)} + 1.0 \\rho^{0.5}{\\left(u,v \\right)} \\frac{\\partial^{2}}{\\partial v\\partial u} \\rho{\\left(u,v \\right)} - 2.0 \\rho^{1.5}{\\left(u,v \\right)} \\frac{\\partial^{2}}{\\partial v\\partial u} \\psi{\\left(u,v \\right)}\\right) e^{- 2 \\gamma{\\left(u,v \\right)} - 2 \\psi{\\left(u,v \\right)}} & 0\\\\0 & 0 & 0 & \\left(1.0 \\rho^{0.5}{\\left(u,v \\right)} \\frac{\\partial}{\\partial u} \\psi{\\left(u,v \\right)} \\frac{\\partial}{\\partial v} \\rho{\\left(u,v \\right)} + 1.0 \\rho^{0.5}{\\left(u,v \\right)} \\frac{\\partial}{\\partial v} \\psi{\\left(u,v \\right)} \\frac{\\partial}{\\partial u} \\rho{\\left(u,v \\right)} + 1.0 \\rho^{0.5}{\\left(u,v \\right)} \\frac{\\partial^{2}}{\\partial v\\partial u} \\rho{\\left(u,v \\right)} + 2.0 \\rho^{1.5}{\\left(u,v \\right)} \\frac{\\partial^{2}}{\\partial v\\partial u} \\psi{\\left(u,v \\right)}\\right) e^{- 2 \\gamma{\\left(u,v \\right)} + 2 \\psi{\\left(u,v \\right)}}\\end{matrix}\\right]$"
      ],
      "text/plain": [
       "⎡                                                                                                                   2      \n",
       "⎢                                                                                                     -1.0         ∂       \n",
       "⎢⎛                              2                                   2         ⎞                      ρ    (u, v)⋅─────(ρ(u,\n",
       "⎢⎜       1.0       ⎛∂          ⎞        ∂           ∂              ∂          ⎟  -1.0                            ∂v ∂u     \n",
       "⎢⎜- 2.0⋅ρ   (u, v)⋅⎜──(ψ(u, v))⎟  + 2.0⋅──(γ(u, v))⋅──(ρ(u, v)) - ───(ρ(u, v))⎟⋅ρ    (u, v)        - ──────────────────────\n",
       "⎢⎜                 ⎝∂u         ⎠        ∂u          ∂u              2         ⎟                                  2         \n",
       "⎢⎝                                                                ∂u          ⎠                                            \n",
       "⎢                                                                                                                          \n",
       "⎢                       2                                                                                                  \n",
       "⎢         -1.0         ∂                                                                                                   \n",
       "⎢        ρ    (u, v)⋅─────(ρ(u, v))                                      2                   ⎛                             \n",
       "⎢                    ∂v ∂u              ∂           ∂                   ∂                    ⎜       1.0       ⎛∂          \n",
       "⎢      - ────────────────────────── - 2⋅──(ψ(u, v))⋅──(ψ(u, v)) - 2.0⋅─────(γ(u, v))         ⎜- 2.0⋅ρ   (u, v)⋅⎜──(ψ(u, v))\n",
       "⎢                    2                  ∂u          ∂v                ∂v ∂u                  ⎜                 ⎝∂v         \n",
       "⎢                                                                                            ⎝                             \n",
       "⎢                                                                                                                          \n",
       "⎢                                                                                                                          \n",
       "⎢                                                                                                                          \n",
       "⎢                                            0                                                                             \n",
       "⎢                                                                                                                          \n",
       "⎢                                                                                                                          \n",
       "⎢                                                                                                                          \n",
       "⎢                                                                                                                          \n",
       "⎢                                            0                                                                             \n",
       "⎣                                                                                                                          \n",
       "\n",
       "                                                                                                                           \n",
       "                                                                                                                           \n",
       " v))                                      2                                                                                \n",
       "         ∂           ∂                   ∂                                                                                 \n",
       "──── - 2⋅──(ψ(u, v))⋅──(ψ(u, v)) - 2.0⋅─────(γ(u, v))                                                                      \n",
       "         ∂u          ∂v                ∂v ∂u                                                                               \n",
       "                                                                                                                           \n",
       "                                                                                                                           \n",
       "                                                                                                                           \n",
       "                                                                                                                           \n",
       " 2                                   2         ⎞                                                                           \n",
       "⎞        ∂           ∂              ∂          ⎟  -1.0                                                                     \n",
       "⎟  + 2.0⋅──(γ(u, v))⋅──(ρ(u, v)) - ───(ρ(u, v))⎟⋅ρ    (u, v)                                                               \n",
       "⎠        ∂v          ∂v              2         ⎟                                                                           \n",
       "                                   ∂v          ⎠                                                                           \n",
       "                                                                                                                           \n",
       "                                                              ⎛                                                            \n",
       "                                                              ⎜   0.5       ∂           ∂              0.5       ∂         \n",
       "              0                                               ⎜- ρ   (u, v)⋅──(ψ(u, v))⋅──(ρ(u, v)) - ρ   (u, v)⋅──(ψ(u, v)\n",
       "                                                              ⎝             ∂u          ∂v                       ∂v        \n",
       "                                                                                                                           \n",
       "                                                                                                                           \n",
       "                                                                                                                           \n",
       "              0                                                                                                            \n",
       "                                                                                                                           \n",
       "\n",
       "                                                                                                                           \n",
       "                                                                                                                           \n",
       "                                                                                                                           \n",
       "                                                                                                                           \n",
       "                    0                                                                                                      \n",
       "                                                                                                                           \n",
       "                                                                                                                           \n",
       "                                                                                                                           \n",
       "                                                                                                                           \n",
       "                                                                                                                           \n",
       "                                                                                                                           \n",
       "                                                                                                                           \n",
       "                    0                                                                                                      \n",
       "                                                                                                                           \n",
       "                                                                                                                           \n",
       "                                                                                                                           \n",
       "                                  2                               2          ⎞                                             \n",
       "  ∂                  0.5         ∂                   1.5         ∂           ⎟  -2⋅γ(u, v) - 2⋅ψ(u, v)                     \n",
       ")⋅──(ρ(u, v)) + 1.0⋅ρ   (u, v)⋅─────(ρ(u, v)) - 2.0⋅ρ   (u, v)⋅─────(ψ(u, v))⎟⋅ℯ                                           \n",
       "  ∂u                           ∂v ∂u                           ∂v ∂u         ⎠                                             \n",
       "                                                                                                                           \n",
       "                                                                                                        ⎛                  \n",
       "                                                                                                        ⎜     0.5       ∂  \n",
       "                    0                                                                                   ⎜1.0⋅ρ   (u, v)⋅──(\n",
       "                                                                                                        ⎝               ∂u \n",
       "\n",
       "                                                                                                                           \n",
       "                                                                                                                           \n",
       "                                                                                                                           \n",
       "                                                                                                                           \n",
       "                                                                 0                                                         \n",
       "                                                                                                                           \n",
       "                                                                                                                           \n",
       "                                                                                                                           \n",
       "                                                                                                                           \n",
       "                                                                                                                           \n",
       "                                                                                                                           \n",
       "                                                                                                                           \n",
       "                                                                 0                                                         \n",
       "                                                                                                                           \n",
       "                                                                                                                           \n",
       "                                                                                                                           \n",
       "                                                                                                                           \n",
       "                                                                                                                           \n",
       "                                                                 0                                                         \n",
       "                                                                                                                           \n",
       "                                                                                                                           \n",
       "                                                                                  2                               2        \n",
       "         ∂                  0.5       ∂           ∂                  0.5         ∂                   1.5         ∂         \n",
       "ψ(u, v))⋅──(ρ(u, v)) + 1.0⋅ρ   (u, v)⋅──(ψ(u, v))⋅──(ρ(u, v)) + 1.0⋅ρ   (u, v)⋅─────(ρ(u, v)) + 2.0⋅ρ   (u, v)⋅─────(ψ(u, v\n",
       "         ∂v                           ∂v          ∂u                           ∂v ∂u                           ∂v ∂u       \n",
       "\n",
       "                           ⎤\n",
       "                           ⎥\n",
       "                           ⎥\n",
       "                           ⎥\n",
       "                           ⎥\n",
       "                           ⎥\n",
       "                           ⎥\n",
       "                           ⎥\n",
       "                           ⎥\n",
       "                           ⎥\n",
       "                           ⎥\n",
       "                           ⎥\n",
       "                           ⎥\n",
       "                           ⎥\n",
       "                           ⎥\n",
       "                           ⎥\n",
       "                           ⎥\n",
       "                           ⎥\n",
       "                           ⎥\n",
       "                           ⎥\n",
       "                           ⎥\n",
       "  ⎞                        ⎥\n",
       "  ⎟  -2⋅γ(u, v) + 2⋅ψ(u, v)⎥\n",
       "))⎟⋅ℯ                      ⎥\n",
       "  ⎠                        ⎦"
      ]
     },
     "execution_count": 20,
     "metadata": {},
     "output_type": "execute_result"
    }
   ],
   "source": [
    "Ric = RicciTensor.from_metric(metric)\n",
    "Ric.tensor()"
   ]
  },
  {
   "cell_type": "code",
   "execution_count": null,
   "id": "5e7b09a7",
   "metadata": {},
   "outputs": [],
   "source": [
    "einst = EinsteinTensor.from_metric(metric)\n",
    "einst.tensor()"
   ]
  },
  {
   "cell_type": "code",
   "execution_count": null,
   "id": "d17aee45",
   "metadata": {},
   "outputs": [],
   "source": [
    "#  R = RicciScalar.from_riccitensor(Ric)\n",
    "#  R.simplify()\n",
    "#  R.expr"
   ]
  },
  {
   "cell_type": "code",
   "execution_count": null,
   "id": "d60ee4f3",
   "metadata": {},
   "outputs": [],
   "source": [
    "#  rm1 = RiemannCurvatureTensor.from_christoffels(ch)\n",
    "#  rm1.tensor()"
   ]
  },
  {
   "cell_type": "code",
   "execution_count": null,
   "id": "bcfc4cf0",
   "metadata": {},
   "outputs": [],
   "source": [
    "#  weyl = WeylTensor.from_metric(metric)\n",
    "#  weyl.tensor()"
   ]
  },
  {
   "cell_type": "code",
   "execution_count": null,
   "id": "05de58eb",
   "metadata": {},
   "outputs": [],
   "source": [
    "simplify(Ric.tensor())"
   ]
  },
  {
   "cell_type": "code",
   "execution_count": null,
   "id": "e68673b1",
   "metadata": {},
   "outputs": [],
   "source": [
    "simplify(einst.tensor())"
   ]
  }
 ],
 "metadata": {
  "@webio": {
   "lastCommId": "a3cb7a8e470d4cb68e1894dadbc7bf8b",
   "lastKernelId": "e6448c77-052a-456f-9ae8-cc0e910f3a1f"
  },
  "kernelspec": {
   "display_name": "Python 3 (ipykernel)",
   "language": "python",
   "name": "python3"
  },
  "language_info": {
   "codemirror_mode": {
    "name": "ipython",
    "version": 3
   },
   "file_extension": ".py",
   "mimetype": "text/x-python",
   "name": "python",
   "nbconvert_exporter": "python",
   "pygments_lexer": "ipython3",
   "version": "3.8.8"
  }
 },
 "nbformat": 4,
 "nbformat_minor": 5
}
