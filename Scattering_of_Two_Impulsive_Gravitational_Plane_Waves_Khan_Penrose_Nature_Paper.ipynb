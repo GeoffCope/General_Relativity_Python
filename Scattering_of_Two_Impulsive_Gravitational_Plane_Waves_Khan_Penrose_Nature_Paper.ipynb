{
 "cells": [
  {
   "cell_type": "markdown",
   "id": "c0633d8c",
   "metadata": {},
   "source": [
    "# Scattering of Two Impulsive Gravitational Plane Waves by Khan & Penrose Nature Paper\n",
    "## Geoff Cope\n",
    "## Univeristy of Utah\n",
    "##  𐐏𐐭𐑌𐐲𐑂𐐲𐑉𐑅𐐮𐐻𐐨 𐐲𐑂 𐐏𐐭𐐻𐐫\n",
    "## January 1 st, 2021 New Year' s Day!"
   ]
  },
  {
   "cell_type": "markdown",
   "id": "2885d0bc",
   "metadata": {},
   "source": [
    "https://www.nature.com/articles/229185a0"
   ]
  },
  {
   "cell_type": "code",
   "execution_count": 1,
   "id": "d38e1d55",
   "metadata": {},
   "outputs": [
    {
     "name": "stdout",
     "output_type": "stream",
     "text": [
      "IPython console for SymPy 1.9 (Python 3.8.8-64-bit) (ground types: gmpy)\n",
      "\n",
      "These commands were executed:\n",
      ">>> from __future__ import division\n",
      ">>> from sympy import *\n",
      ">>> x, y, z, t = symbols('x y z t')\n",
      ">>> k, m, n = symbols('k m n', integer=True)\n",
      ">>> f, g, h = symbols('f g h', cls=Function)\n",
      ">>> init_printing()\n",
      "\n",
      "Documentation can be found at https://docs.sympy.org/1.9/\n",
      "\n"
     ]
    }
   ],
   "source": [
    "from sympy import init_session\n",
    "init_session(use_latex=True)"
   ]
  },
  {
   "cell_type": "code",
   "execution_count": 2,
   "id": "64eaf778",
   "metadata": {},
   "outputs": [],
   "source": [
    "import warnings\n",
    "import matplotlib.cbook\n",
    "warnings.filterwarnings(\"ignore\",category=matplotlib.cbook.mplDeprecation)"
   ]
  },
  {
   "cell_type": "code",
   "execution_count": 3,
   "id": "6dfe8ff6",
   "metadata": {},
   "outputs": [],
   "source": [
    "p,q,u,v,x,y,du,dv,dx,dy = symbols( 'p q u v x y du dv dx dy', positive = True, real = True ) "
   ]
  },
  {
   "cell_type": "code",
   "execution_count": 4,
   "id": "d452b4aa",
   "metadata": {},
   "outputs": [
    {
     "data": {
      "text/latex": [
       "$\\displaystyle \\left[\\begin{matrix}u\\\\v\\\\x\\\\y\\end{matrix}\\right]$"
      ],
      "text/plain": [
       "⎡u⎤\n",
       "⎢ ⎥\n",
       "⎢v⎥\n",
       "⎢ ⎥\n",
       "⎢x⎥\n",
       "⎢ ⎥\n",
       "⎣y⎦"
      ]
     },
     "execution_count": 4,
     "metadata": {},
     "output_type": "execute_result"
    }
   ],
   "source": [
    "variables = Matrix( [u,v,x,y] )\n",
    "variables"
   ]
  },
  {
   "cell_type": "code",
   "execution_count": 5,
   "id": "25ab324a",
   "metadata": {},
   "outputs": [
    {
     "data": {
      "text/latex": [
       "$\\displaystyle \\left[\\begin{matrix}du\\\\dv\\\\dx\\\\dy\\end{matrix}\\right]$"
      ],
      "text/plain": [
       "⎡du⎤\n",
       "⎢  ⎥\n",
       "⎢dv⎥\n",
       "⎢  ⎥\n",
       "⎢dx⎥\n",
       "⎢  ⎥\n",
       "⎣dy⎦"
      ]
     },
     "execution_count": 5,
     "metadata": {},
     "output_type": "execute_result"
    }
   ],
   "source": [
    "differentials = Matrix( [du,dv,dx,dy] ) \n",
    "differentials"
   ]
  },
  {
   "cell_type": "code",
   "execution_count": 6,
   "id": "52692ad4",
   "metadata": {},
   "outputs": [
    {
     "data": {
      "image/png": "[encoded data removed]",
      "text/latex": [
       "$\\displaystyle r{\\left(p \\right)}$"
      ],
      "text/plain": [
       "r(p)"
      ]
     },
     "execution_count": 6,
     "metadata": {},
     "output_type": "execute_result"
    }
   ],
   "source": [
    "r = Function('r')(p)\n",
    "r"
   ]
  },
  {
   "cell_type": "code",
   "execution_count": 7,
   "id": "1aeba94b",
   "metadata": {},
   "outputs": [
    {
     "data": {
      "image/png": "[encoded data removed]",
      "text/latex": [
       "$\\displaystyle w{\\left(q \\right)}$"
      ],
      "text/plain": [
       "w(q)"
      ]
     },
     "execution_count": 7,
     "metadata": {},
     "output_type": "execute_result"
    }
   ],
   "source": [
    "w = Function('w')(q)\n",
    "w"
   ]
  },
  {
   "cell_type": "code",
   "execution_count": 8,
   "id": "0d7c7a51",
   "metadata": {},
   "outputs": [
    {
     "data": {
      "image/png": "[encoded data removed]",
      "text/latex": [
       "$\\displaystyle t{\\left(p,q \\right)}$"
      ],
      "text/plain": [
       "t(p, q)"
      ]
     },
     "execution_count": 8,
     "metadata": {},
     "output_type": "execute_result"
    }
   ],
   "source": [
    "t = Function('t')(p,q)\n",
    "t"
   ]
  },
  {
   "cell_type": "code",
   "execution_count": 9,
   "id": "03768972",
   "metadata": {},
   "outputs": [
    {
     "data": {
      "image/png": "[encoded data removed]",
      "text/latex": [
       "$\\displaystyle - \\frac{2 du dv t^{3}{\\left(p,q \\right)}}{p^{2} q^{2} r{\\left(p \\right)} w{\\left(q \\right)} + 2 p q r^{2}{\\left(p \\right)} w^{2}{\\left(q \\right)} + r^{3}{\\left(p \\right)} w^{3}{\\left(q \\right)}} + \\frac{dx^{2} p q t^{2}{\\left(p,q \\right)}}{p q - p r{\\left(p \\right)} - q w{\\left(q \\right)} + r{\\left(p \\right)} w{\\left(q \\right)}} + \\frac{dx^{2} p r{\\left(p \\right)} t^{2}{\\left(p,q \\right)}}{p q - p r{\\left(p \\right)} - q w{\\left(q \\right)} + r{\\left(p \\right)} w{\\left(q \\right)}} + \\frac{dx^{2} q t^{2}{\\left(p,q \\right)} w{\\left(q \\right)}}{p q - p r{\\left(p \\right)} - q w{\\left(q \\right)} + r{\\left(p \\right)} w{\\left(q \\right)}} + \\frac{dx^{2} r{\\left(p \\right)} t^{2}{\\left(p,q \\right)} w{\\left(q \\right)}}{p q - p r{\\left(p \\right)} - q w{\\left(q \\right)} + r{\\left(p \\right)} w{\\left(q \\right)}} + \\frac{dy^{2} p q t^{2}{\\left(p,q \\right)}}{p q + p r{\\left(p \\right)} + q w{\\left(q \\right)} + r{\\left(p \\right)} w{\\left(q \\right)}} - \\frac{dy^{2} p r{\\left(p \\right)} t^{2}{\\left(p,q \\right)}}{p q + p r{\\left(p \\right)} + q w{\\left(q \\right)} + r{\\left(p \\right)} w{\\left(q \\right)}} - \\frac{dy^{2} q t^{2}{\\left(p,q \\right)} w{\\left(q \\right)}}{p q + p r{\\left(p \\right)} + q w{\\left(q \\right)} + r{\\left(p \\right)} w{\\left(q \\right)}} + \\frac{dy^{2} r{\\left(p \\right)} t^{2}{\\left(p,q \\right)} w{\\left(q \\right)}}{p q + p r{\\left(p \\right)} + q w{\\left(q \\right)} + r{\\left(p \\right)} w{\\left(q \\right)}}$"
      ],
      "text/plain": [
       "                            3                                    2      2                   \n",
       "                   2⋅du⋅dv⋅t (p, q)                            dx ⋅p⋅q⋅t (p, q)             \n",
       "- ───────────────────────────────────────────────── + ───────────────────────────────── + ──\n",
       "   2  2                    2     2       3     3      p⋅q - p⋅r(p) - q⋅w(q) + r(p)⋅w(q)   p⋅\n",
       "  p ⋅q ⋅r(p)⋅w(q) + 2⋅p⋅q⋅r (p)⋅w (q) + r (p)⋅w (q)                                         \n",
       "\n",
       "       2         2                         2    2                             2       2     \n",
       "     dx ⋅p⋅r(p)⋅t (p, q)                 dx ⋅q⋅t (p, q)⋅w(q)                dx ⋅r(p)⋅t (p, q\n",
       "─────────────────────────────── + ───────────────────────────────── + ──────────────────────\n",
       "q - p⋅r(p) - q⋅w(q) + r(p)⋅w(q)   p⋅q - p⋅r(p) - q⋅w(q) + r(p)⋅w(q)   p⋅q - p⋅r(p) - q⋅w(q) \n",
       "                                                                                            \n",
       "\n",
       "                         2      2                          2         2                      \n",
       ")⋅w(q)                 dy ⋅p⋅q⋅t (p, q)                  dy ⋅p⋅r(p)⋅t (p, q)                \n",
       "─────────── + ───────────────────────────────── - ───────────────────────────────── - ──────\n",
       "+ r(p)⋅w(q)   p⋅q + p⋅r(p) + q⋅w(q) + r(p)⋅w(q)   p⋅q + p⋅r(p) + q⋅w(q) + r(p)⋅w(q)   p⋅q + \n",
       "                                                                                            \n",
       "\n",
       "   2    2                             2       2                \n",
       " dy ⋅q⋅t (p, q)⋅w(q)                dy ⋅r(p)⋅t (p, q)⋅w(q)     \n",
       "─────────────────────────── + ─────────────────────────────────\n",
       "p⋅r(p) + q⋅w(q) + r(p)⋅w(q)   p⋅q + p⋅r(p) + q⋅w(q) + r(p)⋅w(q)\n",
       "                                                               "
      ]
     },
     "execution_count": 9,
     "metadata": {},
     "output_type": "execute_result"
    }
   ],
   "source": [
    "lineElement = expand( (dy**2*(-q + r)*t**2*(-p + w))/((q + r)*(p + w)) + (dx**2*(q + r)*t**2*(p + w))/((-q + r)*(-p + w)) - (2*du*dv*t**3)/(r*w*(p*q + r*w)**2) ) \n",
    "lineElement"
   ]
  },
  {
   "cell_type": "code",
   "execution_count": 10,
   "id": "4cbac1ed",
   "metadata": {},
   "outputs": [
    {
     "data": {
      "text/latex": [
       "$\\displaystyle \\left[\\begin{matrix}0 & - \\frac{t^{3}{\\left(p,q \\right)}}{p^{2} q^{2} r{\\left(p \\right)} w{\\left(q \\right)} + 2 p q r^{2}{\\left(p \\right)} w^{2}{\\left(q \\right)} + r^{3}{\\left(p \\right)} w^{3}{\\left(q \\right)}} & 0 & 0\\\\- \\frac{t^{3}{\\left(p,q \\right)}}{p^{2} q^{2} r{\\left(p \\right)} w{\\left(q \\right)} + 2 p q r^{2}{\\left(p \\right)} w^{2}{\\left(q \\right)} + r^{3}{\\left(p \\right)} w^{3}{\\left(q \\right)}} & 0 & 0 & 0\\\\0 & 0 & \\frac{p q t^{2}{\\left(p,q \\right)}}{p q - p r{\\left(p \\right)} - q w{\\left(q \\right)} + r{\\left(p \\right)} w{\\left(q \\right)}} + \\frac{p r{\\left(p \\right)} t^{2}{\\left(p,q \\right)}}{p q - p r{\\left(p \\right)} - q w{\\left(q \\right)} + r{\\left(p \\right)} w{\\left(q \\right)}} + \\frac{q t^{2}{\\left(p,q \\right)} w{\\left(q \\right)}}{p q - p r{\\left(p \\right)} - q w{\\left(q \\right)} + r{\\left(p \\right)} w{\\left(q \\right)}} + \\frac{r{\\left(p \\right)} t^{2}{\\left(p,q \\right)} w{\\left(q \\right)}}{p q - p r{\\left(p \\right)} - q w{\\left(q \\right)} + r{\\left(p \\right)} w{\\left(q \\right)}} & 0\\\\0 & 0 & 0 & \\frac{p q t^{2}{\\left(p,q \\right)}}{p q + p r{\\left(p \\right)} + q w{\\left(q \\right)} + r{\\left(p \\right)} w{\\left(q \\right)}} - \\frac{p r{\\left(p \\right)} t^{2}{\\left(p,q \\right)}}{p q + p r{\\left(p \\right)} + q w{\\left(q \\right)} + r{\\left(p \\right)} w{\\left(q \\right)}} - \\frac{q t^{2}{\\left(p,q \\right)} w{\\left(q \\right)}}{p q + p r{\\left(p \\right)} + q w{\\left(q \\right)} + r{\\left(p \\right)} w{\\left(q \\right)}} + \\frac{r{\\left(p \\right)} t^{2}{\\left(p,q \\right)} w{\\left(q \\right)}}{p q + p r{\\left(p \\right)} + q w{\\left(q \\right)} + r{\\left(p \\right)} w{\\left(q \\right)}}\\end{matrix}\\right]$"
      ],
      "text/plain": [
       "⎡                                                                         3                 \n",
       "⎢                                                                       -t (p, q)           \n",
       "⎢                        0                          ────────────────────────────────────────\n",
       "⎢                                                    2  2                    2     2       3\n",
       "⎢                                                   p ⋅q ⋅r(p)⋅w(q) + 2⋅p⋅q⋅r (p)⋅w (q) + r \n",
       "⎢                                                                                           \n",
       "⎢                      3                                                                    \n",
       "⎢                    -t (p, q)                                                              \n",
       "⎢─────────────────────────────────────────────────                          0               \n",
       "⎢ 2  2                    2     2       3     3                                             \n",
       "⎢p ⋅q ⋅r(p)⋅w(q) + 2⋅p⋅q⋅r (p)⋅w (q) + r (p)⋅w (q)                                          \n",
       "⎢                                                                                           \n",
       "⎢                                                                                           \n",
       "⎢                                                                                           \n",
       "⎢                        0                                                  0               \n",
       "⎢                                                                                           \n",
       "⎢                                                                                           \n",
       "⎢                                                                                           \n",
       "⎢                                                                                           \n",
       "⎢                        0                                                  0               \n",
       "⎣                                                                                           \n",
       "\n",
       "                                                                                            \n",
       "                                                                                            \n",
       "─────────                                                                        0          \n",
       "     3                                                                                      \n",
       "(p)⋅w (q)                                                                                   \n",
       "                                                                                            \n",
       "                                                                                            \n",
       "                                                                                            \n",
       "                                                                                 0          \n",
       "                                                                                            \n",
       "                                                                                            \n",
       "                                                                                            \n",
       "                           2                                    2                           \n",
       "                      p⋅q⋅t (p, q)                      p⋅r(p)⋅t (p, q)                     \n",
       "           ───────────────────────────────── + ───────────────────────────────── + ─────────\n",
       "           p⋅q - p⋅r(p) - q⋅w(q) + r(p)⋅w(q)   p⋅q - p⋅r(p) - q⋅w(q) + r(p)⋅w(q)   p⋅q - p⋅r\n",
       "                                                                                            \n",
       "                                                                                            \n",
       "                                                                                            \n",
       "                                                                                 0          \n",
       "                                                                                            \n",
       "\n",
       "                                                                                            \n",
       "                                                                                            \n",
       "                                                                                            \n",
       "                                                                                            \n",
       "                                                                                            \n",
       "                                                                                            \n",
       "                                                                                            \n",
       "                                                                                            \n",
       "                                                                                            \n",
       "                                                                                            \n",
       "                                                                                            \n",
       "                                                                                            \n",
       "   2                                     2                                                  \n",
       "q⋅t (p, q)⋅w(q)                    r(p)⋅t (p, q)⋅w(q)                                       \n",
       "──────────────────────── + ─────────────────────────────────                                \n",
       "(p) - q⋅w(q) + r(p)⋅w(q)   p⋅q - p⋅r(p) - q⋅w(q) + r(p)⋅w(q)                                \n",
       "                                                                                            \n",
       "                                                                              2             \n",
       "                                                                         p⋅q⋅t (p, q)       \n",
       "                                                              ──────────────────────────────\n",
       "                                                              p⋅q + p⋅r(p) + q⋅w(q) + r(p)⋅w\n",
       "\n",
       "                                                                                            \n",
       "                                                                                            \n",
       "                                        0                                                   \n",
       "                                                                                            \n",
       "                                                                                            \n",
       "                                                                                            \n",
       "                                                                                            \n",
       "                                                                                            \n",
       "                                        0                                                   \n",
       "                                                                                            \n",
       "                                                                                            \n",
       "                                                                                            \n",
       "                                                                                            \n",
       "                                                                                            \n",
       "                                        0                                                   \n",
       "                                                                                            \n",
       "                                                                                            \n",
       "                       2                              2                                     \n",
       "               p⋅r(p)⋅t (p, q)                     q⋅t (p, q)⋅w(q)                    r(p)⋅t\n",
       "─── - ───────────────────────────────── - ───────────────────────────────── + ──────────────\n",
       "(q)   p⋅q + p⋅r(p) + q⋅w(q) + r(p)⋅w(q)   p⋅q + p⋅r(p) + q⋅w(q) + r(p)⋅w(q)   p⋅q + p⋅r(p) +\n",
       "\n",
       "                   ⎤\n",
       "                   ⎥\n",
       "                   ⎥\n",
       "                   ⎥\n",
       "                   ⎥\n",
       "                   ⎥\n",
       "                   ⎥\n",
       "                   ⎥\n",
       "                   ⎥\n",
       "                   ⎥\n",
       "                   ⎥\n",
       "                   ⎥\n",
       "                   ⎥\n",
       "                   ⎥\n",
       "                   ⎥\n",
       "                   ⎥\n",
       "                   ⎥\n",
       "2                  ⎥\n",
       " (p, q)⋅w(q)       ⎥\n",
       "───────────────────⎥\n",
       " q⋅w(q) + r(p)⋅w(q)⎦"
      ]
     },
     "execution_count": 10,
     "metadata": {},
     "output_type": "execute_result"
    }
   ],
   "source": [
    "g = zeros(4)\n",
    "\n",
    "for i in range(4):\n",
    "    for j in range(4):\n",
    "        if i == j:\n",
    "            g[i,j] = lineElement.coeff( differentials[i],2 ) \n",
    "        else:\n",
    "            g[i,j] = Rational(1,2)*lineElement.coeff( differentials[i]*differentials[j],1 )\n",
    "            \n",
    "g"
   ]
  },
  {
   "cell_type": "code",
   "execution_count": 11,
   "id": "c543aa06",
   "metadata": {},
   "outputs": [],
   "source": [
    "import sympy"
   ]
  },
  {
   "cell_type": "code",
   "execution_count": 12,
   "id": "67e37687",
   "metadata": {},
   "outputs": [
    {
     "data": {
      "text/latex": [
       "$\\displaystyle \\left[\\begin{matrix}0 & - \\frac{t^{3}{\\left(p,q \\right)}}{p^{2} q^{2} r{\\left(p \\right)} w{\\left(q \\right)} + 2 p q r^{2}{\\left(p \\right)} w^{2}{\\left(q \\right)} + r^{3}{\\left(p \\right)} w^{3}{\\left(q \\right)}} & 0 & 0\\\\- \\frac{t^{3}{\\left(p,q \\right)}}{p^{2} q^{2} r{\\left(p \\right)} w{\\left(q \\right)} + 2 p q r^{2}{\\left(p \\right)} w^{2}{\\left(q \\right)} + r^{3}{\\left(p \\right)} w^{3}{\\left(q \\right)}} & 0 & 0 & 0\\\\0 & 0 & \\frac{p q t^{2}{\\left(p,q \\right)}}{p q - p r{\\left(p \\right)} - q w{\\left(q \\right)} + r{\\left(p \\right)} w{\\left(q \\right)}} + \\frac{p r{\\left(p \\right)} t^{2}{\\left(p,q \\right)}}{p q - p r{\\left(p \\right)} - q w{\\left(q \\right)} + r{\\left(p \\right)} w{\\left(q \\right)}} + \\frac{q t^{2}{\\left(p,q \\right)} w{\\left(q \\right)}}{p q - p r{\\left(p \\right)} - q w{\\left(q \\right)} + r{\\left(p \\right)} w{\\left(q \\right)}} + \\frac{r{\\left(p \\right)} t^{2}{\\left(p,q \\right)} w{\\left(q \\right)}}{p q - p r{\\left(p \\right)} - q w{\\left(q \\right)} + r{\\left(p \\right)} w{\\left(q \\right)}} & 0\\\\0 & 0 & 0 & \\frac{p q t^{2}{\\left(p,q \\right)}}{p q + p r{\\left(p \\right)} + q w{\\left(q \\right)} + r{\\left(p \\right)} w{\\left(q \\right)}} - \\frac{p r{\\left(p \\right)} t^{2}{\\left(p,q \\right)}}{p q + p r{\\left(p \\right)} + q w{\\left(q \\right)} + r{\\left(p \\right)} w{\\left(q \\right)}} - \\frac{q t^{2}{\\left(p,q \\right)} w{\\left(q \\right)}}{p q + p r{\\left(p \\right)} + q w{\\left(q \\right)} + r{\\left(p \\right)} w{\\left(q \\right)}} + \\frac{r{\\left(p \\right)} t^{2}{\\left(p,q \\right)} w{\\left(q \\right)}}{p q + p r{\\left(p \\right)} + q w{\\left(q \\right)} + r{\\left(p \\right)} w{\\left(q \\right)}}\\end{matrix}\\right]$"
      ],
      "text/plain": [
       "⎡                                                                         3                 \n",
       "⎢                                                                       -t (p, q)           \n",
       "⎢                        0                          ────────────────────────────────────────\n",
       "⎢                                                    2  2                    2     2       3\n",
       "⎢                                                   p ⋅q ⋅r(p)⋅w(q) + 2⋅p⋅q⋅r (p)⋅w (q) + r \n",
       "⎢                                                                                           \n",
       "⎢                      3                                                                    \n",
       "⎢                    -t (p, q)                                                              \n",
       "⎢─────────────────────────────────────────────────                          0               \n",
       "⎢ 2  2                    2     2       3     3                                             \n",
       "⎢p ⋅q ⋅r(p)⋅w(q) + 2⋅p⋅q⋅r (p)⋅w (q) + r (p)⋅w (q)                                          \n",
       "⎢                                                                                           \n",
       "⎢                                                                                           \n",
       "⎢                                                                                           \n",
       "⎢                        0                                                  0               \n",
       "⎢                                                                                           \n",
       "⎢                                                                                           \n",
       "⎢                                                                                           \n",
       "⎢                                                                                           \n",
       "⎢                        0                                                  0               \n",
       "⎣                                                                                           \n",
       "\n",
       "                                                                                            \n",
       "                                                                                            \n",
       "─────────                                                                        0          \n",
       "     3                                                                                      \n",
       "(p)⋅w (q)                                                                                   \n",
       "                                                                                            \n",
       "                                                                                            \n",
       "                                                                                            \n",
       "                                                                                 0          \n",
       "                                                                                            \n",
       "                                                                                            \n",
       "                                                                                            \n",
       "                           2                                    2                           \n",
       "                      p⋅q⋅t (p, q)                      p⋅r(p)⋅t (p, q)                     \n",
       "           ───────────────────────────────── + ───────────────────────────────── + ─────────\n",
       "           p⋅q - p⋅r(p) - q⋅w(q) + r(p)⋅w(q)   p⋅q - p⋅r(p) - q⋅w(q) + r(p)⋅w(q)   p⋅q - p⋅r\n",
       "                                                                                            \n",
       "                                                                                            \n",
       "                                                                                            \n",
       "                                                                                 0          \n",
       "                                                                                            \n",
       "\n",
       "                                                                                            \n",
       "                                                                                            \n",
       "                                                                                            \n",
       "                                                                                            \n",
       "                                                                                            \n",
       "                                                                                            \n",
       "                                                                                            \n",
       "                                                                                            \n",
       "                                                                                            \n",
       "                                                                                            \n",
       "                                                                                            \n",
       "                                                                                            \n",
       "   2                                     2                                                  \n",
       "q⋅t (p, q)⋅w(q)                    r(p)⋅t (p, q)⋅w(q)                                       \n",
       "──────────────────────── + ─────────────────────────────────                                \n",
       "(p) - q⋅w(q) + r(p)⋅w(q)   p⋅q - p⋅r(p) - q⋅w(q) + r(p)⋅w(q)                                \n",
       "                                                                                            \n",
       "                                                                              2             \n",
       "                                                                         p⋅q⋅t (p, q)       \n",
       "                                                              ──────────────────────────────\n",
       "                                                              p⋅q + p⋅r(p) + q⋅w(q) + r(p)⋅w\n",
       "\n",
       "                                                                                            \n",
       "                                                                                            \n",
       "                                        0                                                   \n",
       "                                                                                            \n",
       "                                                                                            \n",
       "                                                                                            \n",
       "                                                                                            \n",
       "                                                                                            \n",
       "                                        0                                                   \n",
       "                                                                                            \n",
       "                                                                                            \n",
       "                                                                                            \n",
       "                                                                                            \n",
       "                                                                                            \n",
       "                                        0                                                   \n",
       "                                                                                            \n",
       "                                                                                            \n",
       "                       2                              2                                     \n",
       "               p⋅r(p)⋅t (p, q)                     q⋅t (p, q)⋅w(q)                    r(p)⋅t\n",
       "─── - ───────────────────────────────── - ───────────────────────────────── + ──────────────\n",
       "(q)   p⋅q + p⋅r(p) + q⋅w(q) + r(p)⋅w(q)   p⋅q + p⋅r(p) + q⋅w(q) + r(p)⋅w(q)   p⋅q + p⋅r(p) +\n",
       "\n",
       "                   ⎤\n",
       "                   ⎥\n",
       "                   ⎥\n",
       "                   ⎥\n",
       "                   ⎥\n",
       "                   ⎥\n",
       "                   ⎥\n",
       "                   ⎥\n",
       "                   ⎥\n",
       "                   ⎥\n",
       "                   ⎥\n",
       "                   ⎥\n",
       "                   ⎥\n",
       "                   ⎥\n",
       "                   ⎥\n",
       "                   ⎥\n",
       "                   ⎥\n",
       "2                  ⎥\n",
       " (p, q)⋅w(q)       ⎥\n",
       "───────────────────⎥\n",
       " q⋅w(q) + r(p)⋅w(q)⎦"
      ]
     },
     "execution_count": 12,
     "metadata": {},
     "output_type": "execute_result"
    }
   ],
   "source": [
    "m = sympy.Array(g)\n",
    "m"
   ]
  },
  {
   "cell_type": "code",
   "execution_count": 13,
   "id": "fc077c9e",
   "metadata": {},
   "outputs": [],
   "source": [
    "from einsteinpy.symbolic import *"
   ]
  },
  {
   "cell_type": "code",
   "execution_count": 14,
   "id": "37d22cbf",
   "metadata": {},
   "outputs": [],
   "source": [
    "syms = sympy.symbols(\"u v x y\" )\n",
    "u,v,x,y = syms"
   ]
  },
  {
   "cell_type": "code",
   "execution_count": 15,
   "id": "a59b64ef",
   "metadata": {},
   "outputs": [],
   "source": [
    "metric = MetricTensor(m,syms)"
   ]
  },
  {
   "cell_type": "code",
   "execution_count": 16,
   "id": "b978af2f",
   "metadata": {},
   "outputs": [
    {
     "data": {
      "text/latex": [
       "$\\displaystyle \\left[\\begin{matrix}\\left[\\begin{matrix}0 & 0 & 0 & 0\\\\0 & 0 & 0 & 0\\\\0 & 0 & 0 & 0\\\\0 & 0 & 0 & 0\\end{matrix}\\right] & \\left[\\begin{matrix}0 & 0 & 0 & 0\\\\0 & 0 & 0 & 0\\\\0 & 0 & 0 & 0\\\\0 & 0 & 0 & 0\\end{matrix}\\right] & \\left[\\begin{matrix}0 & 0 & 0 & 0\\\\0 & 0 & 0 & 0\\\\0 & 0 & 0 & 0\\\\0 & 0 & 0 & 0\\end{matrix}\\right] & \\left[\\begin{matrix}0 & 0 & 0 & 0\\\\0 & 0 & 0 & 0\\\\0 & 0 & 0 & 0\\\\0 & 0 & 0 & 0\\end{matrix}\\right]\\end{matrix}\\right]$"
      ],
      "text/plain": [
       "⎡⎡0  0  0  0⎤  ⎡0  0  0  0⎤  ⎡0  0  0  0⎤  ⎡0  0  0  0⎤⎤\n",
       "⎢⎢          ⎥  ⎢          ⎥  ⎢          ⎥  ⎢          ⎥⎥\n",
       "⎢⎢0  0  0  0⎥  ⎢0  0  0  0⎥  ⎢0  0  0  0⎥  ⎢0  0  0  0⎥⎥\n",
       "⎢⎢          ⎥  ⎢          ⎥  ⎢          ⎥  ⎢          ⎥⎥\n",
       "⎢⎢0  0  0  0⎥  ⎢0  0  0  0⎥  ⎢0  0  0  0⎥  ⎢0  0  0  0⎥⎥\n",
       "⎢⎢          ⎥  ⎢          ⎥  ⎢          ⎥  ⎢          ⎥⎥\n",
       "⎣⎣0  0  0  0⎦  ⎣0  0  0  0⎦  ⎣0  0  0  0⎦  ⎣0  0  0  0⎦⎦"
      ]
     },
     "execution_count": 16,
     "metadata": {},
     "output_type": "execute_result"
    }
   ],
   "source": [
    "ch = ChristoffelSymbols.from_metric(metric)\n",
    "ch.tensor()"
   ]
  },
  {
   "cell_type": "code",
   "execution_count": 17,
   "id": "d8cbc0d8",
   "metadata": {},
   "outputs": [
    {
     "data": {
      "text/latex": [
       "$\\displaystyle \\left[\\begin{matrix}0 & 0 & 0 & 0\\\\0 & 0 & 0 & 0\\\\0 & 0 & 0 & 0\\\\0 & 0 & 0 & 0\\end{matrix}\\right]$"
      ],
      "text/plain": [
       "⎡0  0  0  0⎤\n",
       "⎢          ⎥\n",
       "⎢0  0  0  0⎥\n",
       "⎢          ⎥\n",
       "⎢0  0  0  0⎥\n",
       "⎢          ⎥\n",
       "⎣0  0  0  0⎦"
      ]
     },
     "execution_count": 17,
     "metadata": {},
     "output_type": "execute_result"
    }
   ],
   "source": [
    "Ric = RicciTensor.from_metric(metric)\n",
    "Ric.tensor()"
   ]
  },
  {
   "cell_type": "code",
   "execution_count": 18,
   "id": "64a96f63",
   "metadata": {},
   "outputs": [
    {
     "data": {
      "image/png": "[encoded data removed]",
      "text/latex": [
       "$\\displaystyle 0$"
      ],
      "text/plain": [
       "0"
      ]
     },
     "execution_count": 18,
     "metadata": {},
     "output_type": "execute_result"
    }
   ],
   "source": [
    "R = RicciScalar.from_riccitensor(Ric)\n",
    "R.simplify()\n",
    "R.expr"
   ]
  },
  {
   "cell_type": "code",
   "execution_count": 19,
   "id": "3b3405ca",
   "metadata": {},
   "outputs": [
    {
     "data": {
      "text/latex": [
       "$\\displaystyle \\left[\\begin{matrix}0 & 0 & 0 & 0\\\\0 & 0 & 0 & 0\\\\0 & 0 & 0 & 0\\\\0 & 0 & 0 & 0\\end{matrix}\\right]$"
      ],
      "text/plain": [
       "⎡0  0  0  0⎤\n",
       "⎢          ⎥\n",
       "⎢0  0  0  0⎥\n",
       "⎢          ⎥\n",
       "⎢0  0  0  0⎥\n",
       "⎢          ⎥\n",
       "⎣0  0  0  0⎦"
      ]
     },
     "execution_count": 19,
     "metadata": {},
     "output_type": "execute_result"
    }
   ],
   "source": [
    "einst = EinsteinTensor.from_metric(metric)\n",
    "einst.tensor()"
   ]
  },
  {
   "cell_type": "code",
   "execution_count": 20,
   "id": "57cc4d70",
   "metadata": {},
   "outputs": [
    {
     "data": {
      "text/latex": [
       "$\\displaystyle \\left[\\begin{matrix}\\left[\\begin{matrix}0 & 0 & 0 & 0\\\\0 & 0 & 0 & 0\\\\0 & 0 & 0 & 0\\\\0 & 0 & 0 & 0\\end{matrix}\\right] & \\left[\\begin{matrix}0 & 0 & 0 & 0\\\\0 & 0 & 0 & 0\\\\0 & 0 & 0 & 0\\\\0 & 0 & 0 & 0\\end{matrix}\\right] & \\left[\\begin{matrix}0 & 0 & 0 & 0\\\\0 & 0 & 0 & 0\\\\0 & 0 & 0 & 0\\\\0 & 0 & 0 & 0\\end{matrix}\\right] & \\left[\\begin{matrix}0 & 0 & 0 & 0\\\\0 & 0 & 0 & 0\\\\0 & 0 & 0 & 0\\\\0 & 0 & 0 & 0\\end{matrix}\\right]\\\\\\left[\\begin{matrix}0 & 0 & 0 & 0\\\\0 & 0 & 0 & 0\\\\0 & 0 & 0 & 0\\\\0 & 0 & 0 & 0\\end{matrix}\\right] & \\left[\\begin{matrix}0 & 0 & 0 & 0\\\\0 & 0 & 0 & 0\\\\0 & 0 & 0 & 0\\\\0 & 0 & 0 & 0\\end{matrix}\\right] & \\left[\\begin{matrix}0 & 0 & 0 & 0\\\\0 & 0 & 0 & 0\\\\0 & 0 & 0 & 0\\\\0 & 0 & 0 & 0\\end{matrix}\\right] & \\left[\\begin{matrix}0 & 0 & 0 & 0\\\\0 & 0 & 0 & 0\\\\0 & 0 & 0 & 0\\\\0 & 0 & 0 & 0\\end{matrix}\\right]\\\\\\left[\\begin{matrix}0 & 0 & 0 & 0\\\\0 & 0 & 0 & 0\\\\0 & 0 & 0 & 0\\\\0 & 0 & 0 & 0\\end{matrix}\\right] & \\left[\\begin{matrix}0 & 0 & 0 & 0\\\\0 & 0 & 0 & 0\\\\0 & 0 & 0 & 0\\\\0 & 0 & 0 & 0\\end{matrix}\\right] & \\left[\\begin{matrix}0 & 0 & 0 & 0\\\\0 & 0 & 0 & 0\\\\0 & 0 & 0 & 0\\\\0 & 0 & 0 & 0\\end{matrix}\\right] & \\left[\\begin{matrix}0 & 0 & 0 & 0\\\\0 & 0 & 0 & 0\\\\0 & 0 & 0 & 0\\\\0 & 0 & 0 & 0\\end{matrix}\\right]\\\\\\left[\\begin{matrix}0 & 0 & 0 & 0\\\\0 & 0 & 0 & 0\\\\0 & 0 & 0 & 0\\\\0 & 0 & 0 & 0\\end{matrix}\\right] & \\left[\\begin{matrix}0 & 0 & 0 & 0\\\\0 & 0 & 0 & 0\\\\0 & 0 & 0 & 0\\\\0 & 0 & 0 & 0\\end{matrix}\\right] & \\left[\\begin{matrix}0 & 0 & 0 & 0\\\\0 & 0 & 0 & 0\\\\0 & 0 & 0 & 0\\\\0 & 0 & 0 & 0\\end{matrix}\\right] & \\left[\\begin{matrix}0 & 0 & 0 & 0\\\\0 & 0 & 0 & 0\\\\0 & 0 & 0 & 0\\\\0 & 0 & 0 & 0\\end{matrix}\\right]\\end{matrix}\\right]$"
      ],
      "text/plain": [
       "⎡⎡0  0  0  0⎤  ⎡0  0  0  0⎤  ⎡0  0  0  0⎤  ⎡0  0  0  0⎤⎤\n",
       "⎢⎢          ⎥  ⎢          ⎥  ⎢          ⎥  ⎢          ⎥⎥\n",
       "⎢⎢0  0  0  0⎥  ⎢0  0  0  0⎥  ⎢0  0  0  0⎥  ⎢0  0  0  0⎥⎥\n",
       "⎢⎢          ⎥  ⎢          ⎥  ⎢          ⎥  ⎢          ⎥⎥\n",
       "⎢⎢0  0  0  0⎥  ⎢0  0  0  0⎥  ⎢0  0  0  0⎥  ⎢0  0  0  0⎥⎥\n",
       "⎢⎢          ⎥  ⎢          ⎥  ⎢          ⎥  ⎢          ⎥⎥\n",
       "⎢⎣0  0  0  0⎦  ⎣0  0  0  0⎦  ⎣0  0  0  0⎦  ⎣0  0  0  0⎦⎥\n",
       "⎢                                                      ⎥\n",
       "⎢⎡0  0  0  0⎤  ⎡0  0  0  0⎤  ⎡0  0  0  0⎤  ⎡0  0  0  0⎤⎥\n",
       "⎢⎢          ⎥  ⎢          ⎥  ⎢          ⎥  ⎢          ⎥⎥\n",
       "⎢⎢0  0  0  0⎥  ⎢0  0  0  0⎥  ⎢0  0  0  0⎥  ⎢0  0  0  0⎥⎥\n",
       "⎢⎢          ⎥  ⎢          ⎥  ⎢          ⎥  ⎢          ⎥⎥\n",
       "⎢⎢0  0  0  0⎥  ⎢0  0  0  0⎥  ⎢0  0  0  0⎥  ⎢0  0  0  0⎥⎥\n",
       "⎢⎢          ⎥  ⎢          ⎥  ⎢          ⎥  ⎢          ⎥⎥\n",
       "⎢⎣0  0  0  0⎦  ⎣0  0  0  0⎦  ⎣0  0  0  0⎦  ⎣0  0  0  0⎦⎥\n",
       "⎢                                                      ⎥\n",
       "⎢⎡0  0  0  0⎤  ⎡0  0  0  0⎤  ⎡0  0  0  0⎤  ⎡0  0  0  0⎤⎥\n",
       "⎢⎢          ⎥  ⎢          ⎥  ⎢          ⎥  ⎢          ⎥⎥\n",
       "⎢⎢0  0  0  0⎥  ⎢0  0  0  0⎥  ⎢0  0  0  0⎥  ⎢0  0  0  0⎥⎥\n",
       "⎢⎢          ⎥  ⎢          ⎥  ⎢          ⎥  ⎢          ⎥⎥\n",
       "⎢⎢0  0  0  0⎥  ⎢0  0  0  0⎥  ⎢0  0  0  0⎥  ⎢0  0  0  0⎥⎥\n",
       "⎢⎢          ⎥  ⎢          ⎥  ⎢          ⎥  ⎢          ⎥⎥\n",
       "⎢⎣0  0  0  0⎦  ⎣0  0  0  0⎦  ⎣0  0  0  0⎦  ⎣0  0  0  0⎦⎥\n",
       "⎢                                                      ⎥\n",
       "⎢⎡0  0  0  0⎤  ⎡0  0  0  0⎤  ⎡0  0  0  0⎤  ⎡0  0  0  0⎤⎥\n",
       "⎢⎢          ⎥  ⎢          ⎥  ⎢          ⎥  ⎢          ⎥⎥\n",
       "⎢⎢0  0  0  0⎥  ⎢0  0  0  0⎥  ⎢0  0  0  0⎥  ⎢0  0  0  0⎥⎥\n",
       "⎢⎢          ⎥  ⎢          ⎥  ⎢          ⎥  ⎢          ⎥⎥\n",
       "⎢⎢0  0  0  0⎥  ⎢0  0  0  0⎥  ⎢0  0  0  0⎥  ⎢0  0  0  0⎥⎥\n",
       "⎢⎢          ⎥  ⎢          ⎥  ⎢          ⎥  ⎢          ⎥⎥\n",
       "⎣⎣0  0  0  0⎦  ⎣0  0  0  0⎦  ⎣0  0  0  0⎦  ⎣0  0  0  0⎦⎦"
      ]
     },
     "execution_count": 20,
     "metadata": {},
     "output_type": "execute_result"
    }
   ],
   "source": [
    "rm1 = RiemannCurvatureTensor.from_christoffels(ch)\n",
    "rm1.tensor()"
   ]
  },
  {
   "cell_type": "code",
   "execution_count": 21,
   "id": "ce81016c",
   "metadata": {},
   "outputs": [
    {
     "data": {
      "text/latex": [
       "$\\displaystyle \\left[\\begin{matrix}\\left[\\begin{matrix}0 & 0 & 0 & 0\\\\0 & 0 & 0 & 0\\\\0 & 0 & 0 & 0\\\\0 & 0 & 0 & 0\\end{matrix}\\right] & \\left[\\begin{matrix}0 & 0 & 0 & 0\\\\0 & 0 & 0 & 0\\\\0 & 0 & 0 & 0\\\\0 & 0 & 0 & 0\\end{matrix}\\right] & \\left[\\begin{matrix}0 & 0 & 0 & 0\\\\0 & 0 & 0 & 0\\\\0 & 0 & 0 & 0\\\\0 & 0 & 0 & 0\\end{matrix}\\right] & \\left[\\begin{matrix}0 & 0 & 0 & 0\\\\0 & 0 & 0 & 0\\\\0 & 0 & 0 & 0\\\\0 & 0 & 0 & 0\\end{matrix}\\right]\\\\\\left[\\begin{matrix}0 & 0 & 0 & 0\\\\0 & 0 & 0 & 0\\\\0 & 0 & 0 & 0\\\\0 & 0 & 0 & 0\\end{matrix}\\right] & \\left[\\begin{matrix}0 & 0 & 0 & 0\\\\0 & 0 & 0 & 0\\\\0 & 0 & 0 & 0\\\\0 & 0 & 0 & 0\\end{matrix}\\right] & \\left[\\begin{matrix}0 & 0 & 0 & 0\\\\0 & 0 & 0 & 0\\\\0 & 0 & 0 & 0\\\\0 & 0 & 0 & 0\\end{matrix}\\right] & \\left[\\begin{matrix}0 & 0 & 0 & 0\\\\0 & 0 & 0 & 0\\\\0 & 0 & 0 & 0\\\\0 & 0 & 0 & 0\\end{matrix}\\right]\\\\\\left[\\begin{matrix}0 & 0 & 0 & 0\\\\0 & 0 & 0 & 0\\\\0 & 0 & 0 & 0\\\\0 & 0 & 0 & 0\\end{matrix}\\right] & \\left[\\begin{matrix}0 & 0 & 0 & 0\\\\0 & 0 & 0 & 0\\\\0 & 0 & 0 & 0\\\\0 & 0 & 0 & 0\\end{matrix}\\right] & \\left[\\begin{matrix}0 & 0 & 0 & 0\\\\0 & 0 & 0 & 0\\\\0 & 0 & 0 & 0\\\\0 & 0 & 0 & 0\\end{matrix}\\right] & \\left[\\begin{matrix}0 & 0 & 0 & 0\\\\0 & 0 & 0 & 0\\\\0 & 0 & 0 & 0\\\\0 & 0 & 0 & 0\\end{matrix}\\right]\\\\\\left[\\begin{matrix}0 & 0 & 0 & 0\\\\0 & 0 & 0 & 0\\\\0 & 0 & 0 & 0\\\\0 & 0 & 0 & 0\\end{matrix}\\right] & \\left[\\begin{matrix}0 & 0 & 0 & 0\\\\0 & 0 & 0 & 0\\\\0 & 0 & 0 & 0\\\\0 & 0 & 0 & 0\\end{matrix}\\right] & \\left[\\begin{matrix}0 & 0 & 0 & 0\\\\0 & 0 & 0 & 0\\\\0 & 0 & 0 & 0\\\\0 & 0 & 0 & 0\\end{matrix}\\right] & \\left[\\begin{matrix}0 & 0 & 0 & 0\\\\0 & 0 & 0 & 0\\\\0 & 0 & 0 & 0\\\\0 & 0 & 0 & 0\\end{matrix}\\right]\\end{matrix}\\right]$"
      ],
      "text/plain": [
       "⎡⎡0  0  0  0⎤  ⎡0  0  0  0⎤  ⎡0  0  0  0⎤  ⎡0  0  0  0⎤⎤\n",
       "⎢⎢          ⎥  ⎢          ⎥  ⎢          ⎥  ⎢          ⎥⎥\n",
       "⎢⎢0  0  0  0⎥  ⎢0  0  0  0⎥  ⎢0  0  0  0⎥  ⎢0  0  0  0⎥⎥\n",
       "⎢⎢          ⎥  ⎢          ⎥  ⎢          ⎥  ⎢          ⎥⎥\n",
       "⎢⎢0  0  0  0⎥  ⎢0  0  0  0⎥  ⎢0  0  0  0⎥  ⎢0  0  0  0⎥⎥\n",
       "⎢⎢          ⎥  ⎢          ⎥  ⎢          ⎥  ⎢          ⎥⎥\n",
       "⎢⎣0  0  0  0⎦  ⎣0  0  0  0⎦  ⎣0  0  0  0⎦  ⎣0  0  0  0⎦⎥\n",
       "⎢                                                      ⎥\n",
       "⎢⎡0  0  0  0⎤  ⎡0  0  0  0⎤  ⎡0  0  0  0⎤  ⎡0  0  0  0⎤⎥\n",
       "⎢⎢          ⎥  ⎢          ⎥  ⎢          ⎥  ⎢          ⎥⎥\n",
       "⎢⎢0  0  0  0⎥  ⎢0  0  0  0⎥  ⎢0  0  0  0⎥  ⎢0  0  0  0⎥⎥\n",
       "⎢⎢          ⎥  ⎢          ⎥  ⎢          ⎥  ⎢          ⎥⎥\n",
       "⎢⎢0  0  0  0⎥  ⎢0  0  0  0⎥  ⎢0  0  0  0⎥  ⎢0  0  0  0⎥⎥\n",
       "⎢⎢          ⎥  ⎢          ⎥  ⎢          ⎥  ⎢          ⎥⎥\n",
       "⎢⎣0  0  0  0⎦  ⎣0  0  0  0⎦  ⎣0  0  0  0⎦  ⎣0  0  0  0⎦⎥\n",
       "⎢                                                      ⎥\n",
       "⎢⎡0  0  0  0⎤  ⎡0  0  0  0⎤  ⎡0  0  0  0⎤  ⎡0  0  0  0⎤⎥\n",
       "⎢⎢          ⎥  ⎢          ⎥  ⎢          ⎥  ⎢          ⎥⎥\n",
       "⎢⎢0  0  0  0⎥  ⎢0  0  0  0⎥  ⎢0  0  0  0⎥  ⎢0  0  0  0⎥⎥\n",
       "⎢⎢          ⎥  ⎢          ⎥  ⎢          ⎥  ⎢          ⎥⎥\n",
       "⎢⎢0  0  0  0⎥  ⎢0  0  0  0⎥  ⎢0  0  0  0⎥  ⎢0  0  0  0⎥⎥\n",
       "⎢⎢          ⎥  ⎢          ⎥  ⎢          ⎥  ⎢          ⎥⎥\n",
       "⎢⎣0  0  0  0⎦  ⎣0  0  0  0⎦  ⎣0  0  0  0⎦  ⎣0  0  0  0⎦⎥\n",
       "⎢                                                      ⎥\n",
       "⎢⎡0  0  0  0⎤  ⎡0  0  0  0⎤  ⎡0  0  0  0⎤  ⎡0  0  0  0⎤⎥\n",
       "⎢⎢          ⎥  ⎢          ⎥  ⎢          ⎥  ⎢          ⎥⎥\n",
       "⎢⎢0  0  0  0⎥  ⎢0  0  0  0⎥  ⎢0  0  0  0⎥  ⎢0  0  0  0⎥⎥\n",
       "⎢⎢          ⎥  ⎢          ⎥  ⎢          ⎥  ⎢          ⎥⎥\n",
       "⎢⎢0  0  0  0⎥  ⎢0  0  0  0⎥  ⎢0  0  0  0⎥  ⎢0  0  0  0⎥⎥\n",
       "⎢⎢          ⎥  ⎢          ⎥  ⎢          ⎥  ⎢          ⎥⎥\n",
       "⎣⎣0  0  0  0⎦  ⎣0  0  0  0⎦  ⎣0  0  0  0⎦  ⎣0  0  0  0⎦⎦"
      ]
     },
     "execution_count": 21,
     "metadata": {},
     "output_type": "execute_result"
    }
   ],
   "source": [
    "weyl = WeylTensor.from_metric(metric)\n",
    "weyl.tensor()"
   ]
  },
  {
   "cell_type": "code",
   "execution_count": null,
   "id": "1f44485c",
   "metadata": {},
   "outputs": [],
   "source": []
  }
 ],
 "metadata": {
  "@webio": {
   "lastCommId": "d2ab2c21a4a14f56b4ae7cf45c43ea24",
   "lastKernelId": "4fa4b887-fdaf-40da-a20a-3f917225946e"
  },
  "kernelspec": {
   "display_name": "Python 3 (ipykernel)",
   "language": "python",
   "name": "python3"
  },
  "language_info": {
   "codemirror_mode": {
    "name": "ipython",
    "version": 3
   },
   "file_extension": ".py",
   "mimetype": "text/x-python",
   "name": "python",
   "nbconvert_exporter": "python",
   "pygments_lexer": "ipython3",
   "version": "3.8.8"
  }
 },
 "nbformat": 4,
 "nbformat_minor": 5
}
