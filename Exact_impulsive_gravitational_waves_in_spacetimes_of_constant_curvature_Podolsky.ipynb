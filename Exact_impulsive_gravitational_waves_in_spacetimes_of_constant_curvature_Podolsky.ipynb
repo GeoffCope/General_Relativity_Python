{
 "cells": [
  {
   "cell_type": "markdown",
   "id": "b14fb723",
   "metadata": {},
   "source": [
    "# Exact impulsive gravitational waves in spacetimes of constant curvature  by Podolsky\n",
    "##  Geoff Cope\n",
    "##  Univeristy of Utah\n",
    "##  𐐏𐐭𐑌𐐲𐑂𐐲𐑉𐑅𐐮𐐻𐐨 𐐲𐑂 𐐏𐐭𐐻𐐫\n",
    "##  January 22, 2022"
   ]
  },
  {
   "cell_type": "markdown",
   "id": "d0108e25",
   "metadata": {},
   "source": [
    "Here we concentrate on the metric given by equation 74, will return and do more later"
   ]
  },
  {
   "cell_type": "markdown",
   "id": "8170e683",
   "metadata": {},
   "source": [
    "https://arxiv.org/abs/gr-qc/0201029"
   ]
  },
  {
   "cell_type": "code",
   "execution_count": 1,
   "id": "cc1294c4",
   "metadata": {},
   "outputs": [
    {
     "name": "stdout",
     "output_type": "stream",
     "text": [
      "IPython console for SymPy 1.9 (Python 3.8.8-64-bit) (ground types: gmpy)\n",
      "\n",
      "These commands were executed:\n",
      ">>> from __future__ import division\n",
      ">>> from sympy import *\n",
      ">>> x, y, z, t = symbols('x y z t')\n",
      ">>> k, m, n = symbols('k m n', integer=True)\n",
      ">>> f, g, h = symbols('f g h', cls=Function)\n",
      ">>> init_printing()\n",
      "\n",
      "Documentation can be found at https://docs.sympy.org/1.9/\n",
      "\n"
     ]
    }
   ],
   "source": [
    "from sympy import init_session\n",
    "init_session(use_latex=True)"
   ]
  },
  {
   "cell_type": "code",
   "execution_count": 2,
   "id": "f3c0478e",
   "metadata": {},
   "outputs": [],
   "source": [
    "import warnings\n",
    "import matplotlib.cbook\n",
    "warnings.filterwarnings(\"ignore\",category=matplotlib.cbook.mplDeprecation)"
   ]
  },
  {
   "cell_type": "code",
   "execution_count": 3,
   "id": "339ab4b7",
   "metadata": {},
   "outputs": [],
   "source": [
    "t,rho,phi,z,dt,drho,dphi,dz = symbols('t rho phi z dt drho dphi dz')"
   ]
  },
  {
   "cell_type": "code",
   "execution_count": 5,
   "id": "bf394da9",
   "metadata": {},
   "outputs": [
    {
     "data": {
      "image/png": "[encoded data removed]",
      "text/latex": [
       "$\\displaystyle \\psi{\\left(\\rho,z \\right)}$"
      ],
      "text/plain": [
       "ψ(ρ, z)"
      ]
     },
     "execution_count": 5,
     "metadata": {},
     "output_type": "execute_result"
    }
   ],
   "source": [
    "psi = Function('psi')(rho,z)\n",
    "psi"
   ]
  },
  {
   "cell_type": "code",
   "execution_count": 6,
   "id": "0f5a6b5d",
   "metadata": {},
   "outputs": [
    {
     "data": {
      "image/png": "[encoded data removed]",
      "text/latex": [
       "$\\displaystyle \\gamma{\\left(\\rho,z \\right)}$"
      ],
      "text/plain": [
       "γ(ρ, z)"
      ]
     },
     "execution_count": 6,
     "metadata": {},
     "output_type": "execute_result"
    }
   ],
   "source": [
    "gamma = Function('gamma')(rho,z)\n",
    "gamma"
   ]
  },
  {
   "cell_type": "code",
   "execution_count": 7,
   "id": "ae02781a",
   "metadata": {},
   "outputs": [
    {
     "data": {
      "text/latex": [
       "$\\displaystyle \\left[\\begin{matrix}t\\\\\\rho\\\\\\phi\\\\z\\end{matrix}\\right]$"
      ],
      "text/plain": [
       "⎡t⎤\n",
       "⎢ ⎥\n",
       "⎢ρ⎥\n",
       "⎢ ⎥\n",
       "⎢φ⎥\n",
       "⎢ ⎥\n",
       "⎣z⎦"
      ]
     },
     "execution_count": 7,
     "metadata": {},
     "output_type": "execute_result"
    }
   ],
   "source": [
    "variables = Matrix([t,rho,phi,z])\n",
    "variables"
   ]
  },
  {
   "cell_type": "code",
   "execution_count": 8,
   "id": "28e0973b",
   "metadata": {},
   "outputs": [
    {
     "data": {
      "text/latex": [
       "$\\displaystyle \\left[\\begin{matrix}dt\\\\drho\\\\dphi\\\\dz\\end{matrix}\\right]$"
      ],
      "text/plain": [
       "⎡ dt ⎤\n",
       "⎢    ⎥\n",
       "⎢drho⎥\n",
       "⎢    ⎥\n",
       "⎢dphi⎥\n",
       "⎢    ⎥\n",
       "⎣ dz ⎦"
      ]
     },
     "execution_count": 8,
     "metadata": {},
     "output_type": "execute_result"
    }
   ],
   "source": [
    "differentials = Matrix([dt,drho,dphi,dz])\n",
    "differentials "
   ]
  },
  {
   "cell_type": "code",
   "execution_count": 9,
   "id": "7de74b14",
   "metadata": {},
   "outputs": [
    {
     "data": {
      "image/png": "[encoded data removed]",
      "text/latex": [
       "$\\displaystyle dphi^{2} \\rho^{2} e^{- 2 \\psi{\\left(\\rho,z \\right)}} + drho^{2} e^{2 \\gamma{\\left(\\rho,z \\right)}} e^{- 2 \\psi{\\left(\\rho,z \\right)}} - dt^{2} e^{2 \\psi{\\left(\\rho,z \\right)}} + dz^{2} e^{2 \\gamma{\\left(\\rho,z \\right)}} e^{- 2 \\psi{\\left(\\rho,z \\right)}}$"
      ],
      "text/plain": [
       "    2  2  -2⋅ψ(ρ, z)       2  2⋅γ(ρ, z)  -2⋅ψ(ρ, z)     2  2⋅ψ(ρ, z)     2  2⋅γ(ρ, z)  -2⋅ψ(\n",
       "dphi ⋅ρ ⋅ℯ           + drho ⋅ℯ         ⋅ℯ           - dt ⋅ℯ          + dz ⋅ℯ         ⋅ℯ     \n",
       "\n",
       "ρ, z)\n",
       "     "
      ]
     },
     "execution_count": 9,
     "metadata": {},
     "output_type": "execute_result"
    }
   ],
   "source": [
    "lineElement = expand( -exp(2*psi)*dt**2 + exp(-2*psi)* ( exp(2*gamma)*(drho**2 + dz**2) + rho**2 * dphi**2) ) \n",
    "lineElement"
   ]
  },
  {
   "cell_type": "code",
   "execution_count": 10,
   "id": "90f08e32",
   "metadata": {},
   "outputs": [
    {
     "data": {
      "text/latex": [
       "$\\displaystyle \\left[\\begin{matrix}- e^{2 \\psi{\\left(\\rho,z \\right)}} & 0 & 0 & 0\\\\0 & e^{2 \\gamma{\\left(\\rho,z \\right)}} e^{- 2 \\psi{\\left(\\rho,z \\right)}} & 0 & 0\\\\0 & 0 & \\rho^{2} e^{- 2 \\psi{\\left(\\rho,z \\right)}} & 0\\\\0 & 0 & 0 & e^{2 \\gamma{\\left(\\rho,z \\right)}} e^{- 2 \\psi{\\left(\\rho,z \\right)}}\\end{matrix}\\right]$"
      ],
      "text/plain": [
       "⎡  2⋅ψ(ρ, z)                                                                ⎤\n",
       "⎢-ℯ                     0                   0                   0           ⎥\n",
       "⎢                                                                           ⎥\n",
       "⎢              2⋅γ(ρ, z)  -2⋅ψ(ρ, z)                                        ⎥\n",
       "⎢     0       ℯ         ⋅ℯ                  0                   0           ⎥\n",
       "⎢                                                                           ⎥\n",
       "⎢                                      2  -2⋅ψ(ρ, z)                        ⎥\n",
       "⎢     0                 0             ρ ⋅ℯ                      0           ⎥\n",
       "⎢                                                                           ⎥\n",
       "⎢                                                      2⋅γ(ρ, z)  -2⋅ψ(ρ, z)⎥\n",
       "⎣     0                 0                   0         ℯ         ⋅ℯ          ⎦"
      ]
     },
     "execution_count": 10,
     "metadata": {},
     "output_type": "execute_result"
    }
   ],
   "source": [
    "g = zeros(4)\n",
    "\n",
    "for i in range(4):\n",
    "    for j in range(4):\n",
    "        if i == j:\n",
    "            g[i,j] = lineElement.coeff( differentials[i],2 ) \n",
    "        else:\n",
    "            g[i,j] = Rational(1,2)*lineElement.coeff( differentials[i]*differentials[j],1 )\n",
    "            \n",
    "g"
   ]
  },
  {
   "cell_type": "code",
   "execution_count": 11,
   "id": "d8fd815f",
   "metadata": {},
   "outputs": [],
   "source": [
    "import sympy"
   ]
  },
  {
   "cell_type": "code",
   "execution_count": 12,
   "id": "9246e476",
   "metadata": {},
   "outputs": [
    {
     "data": {
      "text/latex": [
       "$\\displaystyle \\left[\\begin{matrix}- e^{2 \\psi{\\left(\\rho,z \\right)}} & 0 & 0 & 0\\\\0 & e^{2 \\gamma{\\left(\\rho,z \\right)}} e^{- 2 \\psi{\\left(\\rho,z \\right)}} & 0 & 0\\\\0 & 0 & \\rho^{2} e^{- 2 \\psi{\\left(\\rho,z \\right)}} & 0\\\\0 & 0 & 0 & e^{2 \\gamma{\\left(\\rho,z \\right)}} e^{- 2 \\psi{\\left(\\rho,z \\right)}}\\end{matrix}\\right]$"
      ],
      "text/plain": [
       "⎡  2⋅ψ(ρ, z)                                                                ⎤\n",
       "⎢-ℯ                     0                   0                   0           ⎥\n",
       "⎢                                                                           ⎥\n",
       "⎢              2⋅γ(ρ, z)  -2⋅ψ(ρ, z)                                        ⎥\n",
       "⎢     0       ℯ         ⋅ℯ                  0                   0           ⎥\n",
       "⎢                                                                           ⎥\n",
       "⎢                                      2  -2⋅ψ(ρ, z)                        ⎥\n",
       "⎢     0                 0             ρ ⋅ℯ                      0           ⎥\n",
       "⎢                                                                           ⎥\n",
       "⎢                                                      2⋅γ(ρ, z)  -2⋅ψ(ρ, z)⎥\n",
       "⎣     0                 0                   0         ℯ         ⋅ℯ          ⎦"
      ]
     },
     "execution_count": 12,
     "metadata": {},
     "output_type": "execute_result"
    }
   ],
   "source": [
    "m = sympy.Array(g)\n",
    "m"
   ]
  },
  {
   "cell_type": "code",
   "execution_count": 13,
   "id": "db19e07c",
   "metadata": {},
   "outputs": [],
   "source": [
    "from einsteinpy.symbolic import *"
   ]
  },
  {
   "cell_type": "code",
   "execution_count": 14,
   "id": "eac6a729",
   "metadata": {},
   "outputs": [],
   "source": [
    "syms = sympy.symbols(\"t rho phi z\")\n",
    "t,rho,phi,z = syms"
   ]
  },
  {
   "cell_type": "code",
   "execution_count": 15,
   "id": "7799dffa",
   "metadata": {},
   "outputs": [],
   "source": [
    "metric = MetricTensor(m,syms)"
   ]
  },
  {
   "cell_type": "code",
   "execution_count": 16,
   "id": "3ffe60ea",
   "metadata": {},
   "outputs": [
    {
     "data": {
      "text/latex": [
       "$\\displaystyle \\left[\\begin{matrix}\\left[\\begin{matrix}0 & \\frac{\\partial}{\\partial \\rho} \\psi{\\left(\\rho,z \\right)} & 0 & \\frac{\\partial}{\\partial z} \\psi{\\left(\\rho,z \\right)}\\\\\\frac{\\partial}{\\partial \\rho} \\psi{\\left(\\rho,z \\right)} & 0 & 0 & 0\\\\0 & 0 & 0 & 0\\\\\\frac{\\partial}{\\partial z} \\psi{\\left(\\rho,z \\right)} & 0 & 0 & 0\\end{matrix}\\right] & \\left[\\begin{matrix}e^{- 2 \\gamma{\\left(\\rho,z \\right)} + 4 \\psi{\\left(\\rho,z \\right)}} \\frac{\\partial}{\\partial \\rho} \\psi{\\left(\\rho,z \\right)} & 0 & 0 & 0\\\\0 & \\frac{\\partial}{\\partial \\rho} \\gamma{\\left(\\rho,z \\right)} - \\frac{\\partial}{\\partial \\rho} \\psi{\\left(\\rho,z \\right)} & 0 & \\frac{\\partial}{\\partial z} \\gamma{\\left(\\rho,z \\right)} - \\frac{\\partial}{\\partial z} \\psi{\\left(\\rho,z \\right)}\\\\0 & 0 & \\rho \\left(\\rho \\frac{\\partial}{\\partial \\rho} \\psi{\\left(\\rho,z \\right)} - 1\\right) e^{- 2 \\gamma{\\left(\\rho,z \\right)}} & 0\\\\0 & \\frac{\\partial}{\\partial z} \\gamma{\\left(\\rho,z \\right)} - \\frac{\\partial}{\\partial z} \\psi{\\left(\\rho,z \\right)} & 0 & - \\frac{\\partial}{\\partial \\rho} \\gamma{\\left(\\rho,z \\right)} + \\frac{\\partial}{\\partial \\rho} \\psi{\\left(\\rho,z \\right)}\\end{matrix}\\right] & \\left[\\begin{matrix}0 & 0 & 0 & 0\\\\0 & 0 & - \\frac{\\partial}{\\partial \\rho} \\psi{\\left(\\rho,z \\right)} + \\frac{1}{\\rho} & 0\\\\0 & - \\frac{\\partial}{\\partial \\rho} \\psi{\\left(\\rho,z \\right)} + \\frac{1}{\\rho} & 0 & - \\frac{\\partial}{\\partial z} \\psi{\\left(\\rho,z \\right)}\\\\0 & 0 & - \\frac{\\partial}{\\partial z} \\psi{\\left(\\rho,z \\right)} & 0\\end{matrix}\\right] & \\left[\\begin{matrix}e^{- 2 \\gamma{\\left(\\rho,z \\right)} + 4 \\psi{\\left(\\rho,z \\right)}} \\frac{\\partial}{\\partial z} \\psi{\\left(\\rho,z \\right)} & 0 & 0 & 0\\\\0 & - \\frac{\\partial}{\\partial z} \\gamma{\\left(\\rho,z \\right)} + \\frac{\\partial}{\\partial z} \\psi{\\left(\\rho,z \\right)} & 0 & \\frac{\\partial}{\\partial \\rho} \\gamma{\\left(\\rho,z \\right)} - \\frac{\\partial}{\\partial \\rho} \\psi{\\left(\\rho,z \\right)}\\\\0 & 0 & \\rho^{2} e^{- 2 \\gamma{\\left(\\rho,z \\right)}} \\frac{\\partial}{\\partial z} \\psi{\\left(\\rho,z \\right)} & 0\\\\0 & \\frac{\\partial}{\\partial \\rho} \\gamma{\\left(\\rho,z \\right)} - \\frac{\\partial}{\\partial \\rho} \\psi{\\left(\\rho,z \\right)} & 0 & \\frac{\\partial}{\\partial z} \\gamma{\\left(\\rho,z \\right)} - \\frac{\\partial}{\\partial z} \\psi{\\left(\\rho,z \\right)}\\end{matrix}\\right]\\end{matrix}\\right]$"
      ],
      "text/plain": [
       "⎡                                            ⎡ -2⋅γ(ρ, z) + 4⋅ψ(ρ, z) ∂                     \n",
       "⎢⎡             ∂               ∂          ⎤  ⎢ℯ                      ⋅──(ψ(ρ, z))           \n",
       "⎢⎢     0       ──(ψ(ρ, z))  0  ──(ψ(ρ, z))⎥  ⎢                        ∂ρ                    \n",
       "⎢⎢             ∂ρ              ∂z         ⎥  ⎢                                              \n",
       "⎢⎢                                        ⎥  ⎢                                     ∂        \n",
       "⎢⎢∂                                       ⎥  ⎢                 0                   ──(γ(ρ, z\n",
       "⎢⎢──(ψ(ρ, z))       0       0       0     ⎥  ⎢                                     ∂ρ       \n",
       "⎢⎢∂ρ                                      ⎥  ⎢                                              \n",
       "⎢⎢                                        ⎥  ⎢                                              \n",
       "⎢⎢     0            0       0       0     ⎥  ⎢                 0                            \n",
       "⎢⎢                                        ⎥  ⎢                                              \n",
       "⎢⎢∂                                       ⎥  ⎢                                              \n",
       "⎢⎢──(ψ(ρ, z))       0       0       0     ⎥  ⎢                                     ∂        \n",
       "⎢⎣∂z                                      ⎦  ⎢                 0                   ──(γ(ρ, z\n",
       "⎣                                            ⎣                                     ∂z       \n",
       "\n",
       "                                                                                ⎤           \n",
       "   0                              0                               0             ⎥  ⎡0       \n",
       "                                                                                ⎥  ⎢        \n",
       "                                                                                ⎥  ⎢        \n",
       "     ∂                                                ∂             ∂           ⎥  ⎢0       \n",
       ")) - ──(ψ(ρ, z))                  0                   ──(γ(ρ, z)) - ──(ψ(ρ, z)) ⎥  ⎢        \n",
       "     ∂ρ                                               ∂z            ∂z          ⎥  ⎢        \n",
       "                                                                                ⎥  ⎢     ∂  \n",
       "                    ⎛  ∂              ⎞  -2⋅γ(ρ, z)                             ⎥  ⎢0  - ──(\n",
       "   0              ρ⋅⎜ρ⋅──(ψ(ρ, z)) - 1⎟⋅ℯ                         0             ⎥  ⎢     ∂ρ \n",
       "                    ⎝  ∂ρ             ⎠                                         ⎥  ⎢        \n",
       "                                                                                ⎥  ⎢        \n",
       "     ∂                                                 ∂             ∂          ⎥  ⎢0       \n",
       ")) - ──(ψ(ρ, z))                  0                  - ──(γ(ρ, z)) + ──(ψ(ρ, z))⎥  ⎣        \n",
       "     ∂z                                                ∂ρ            ∂ρ         ⎦           \n",
       "\n",
       "                                                ⎡ -2⋅γ(ρ, z) + 4⋅ψ(ρ, z) ∂                  \n",
       "   0                  0               0      ⎤  ⎢ℯ                      ⋅──(ψ(ρ, z))        \n",
       "                                             ⎥  ⎢                        ∂z                 \n",
       "                ∂             1              ⎥  ⎢                                           \n",
       "   0          - ──(ψ(ρ, z)) + ─       0      ⎥  ⎢                                       ∂   \n",
       "                ∂ρ            ρ              ⎥  ⎢                 0                   - ──(γ\n",
       "                                             ⎥  ⎢                                       ∂z  \n",
       "           1                      ∂          ⎥  ⎢                                           \n",
       "ψ(ρ, z)) + ─          0          -──(ψ(ρ, z))⎥  ⎢                                           \n",
       "           ρ                      ∂z         ⎥  ⎢                 0                         \n",
       "                                             ⎥  ⎢                                           \n",
       "                 ∂                           ⎥  ⎢                                           \n",
       "   0            -──(ψ(ρ, z))          0      ⎥  ⎢                                      ∂    \n",
       "                 ∂z                          ⎦  ⎢                 0                    ──(γ(\n",
       "                                                ⎣                                      ∂ρ   \n",
       "\n",
       "                                                                            ⎤⎤\n",
       "       0                           0                           0            ⎥⎥\n",
       "                                                                            ⎥⎥\n",
       "                                                                            ⎥⎥\n",
       "          ∂                                        ∂             ∂          ⎥⎥\n",
       "(ρ, z)) + ──(ψ(ρ, z))              0               ──(γ(ρ, z)) - ──(ψ(ρ, z))⎥⎥\n",
       "          ∂z                                       ∂ρ            ∂ρ         ⎥⎥\n",
       "                                                                            ⎥⎥\n",
       "                        2  -2⋅γ(ρ, z) ∂                                     ⎥⎥\n",
       "       0               ρ ⋅ℯ          ⋅──(ψ(ρ, z))              0            ⎥⎥\n",
       "                                      ∂z                                    ⎥⎥\n",
       "                                                                            ⎥⎥\n",
       "         ∂                                         ∂             ∂          ⎥⎥\n",
       "ρ, z)) - ──(ψ(ρ, z))               0               ──(γ(ρ, z)) - ──(ψ(ρ, z))⎥⎥\n",
       "         ∂ρ                                        ∂z            ∂z         ⎦⎦"
      ]
     },
     "execution_count": 16,
     "metadata": {},
     "output_type": "execute_result"
    }
   ],
   "source": [
    "ch = ChristoffelSymbols.from_metric(metric)\n",
    "simplify(ch.tensor())"
   ]
  },
  {
   "cell_type": "code",
   "execution_count": 17,
   "id": "fe3a1f9b",
   "metadata": {},
   "outputs": [
    {
     "data": {
      "text/latex": [
       "$\\displaystyle \\left[\\begin{matrix}\\frac{\\left(\\rho \\frac{\\partial^{2}}{\\partial \\rho^{2}} \\psi{\\left(\\rho,z \\right)} + \\rho \\frac{\\partial^{2}}{\\partial z^{2}} \\psi{\\left(\\rho,z \\right)} + \\frac{\\partial}{\\partial \\rho} \\psi{\\left(\\rho,z \\right)}\\right) e^{- 2 \\gamma{\\left(\\rho,z \\right)} + 4 \\psi{\\left(\\rho,z \\right)}}}{\\rho} & 0 & 0 & 0\\\\0 & \\frac{\\rho \\left(- \\frac{\\partial^{2}}{\\partial \\rho^{2}} \\gamma{\\left(\\rho,z \\right)} - \\frac{\\partial^{2}}{\\partial z^{2}} \\gamma{\\left(\\rho,z \\right)} - 2 \\left(\\frac{\\partial}{\\partial \\rho} \\psi{\\left(\\rho,z \\right)}\\right)^{2} + \\frac{\\partial^{2}}{\\partial \\rho^{2}} \\psi{\\left(\\rho,z \\right)} + \\frac{\\partial^{2}}{\\partial z^{2}} \\psi{\\left(\\rho,z \\right)}\\right) + \\frac{\\partial}{\\partial \\rho} \\gamma{\\left(\\rho,z \\right)} + \\frac{\\partial}{\\partial \\rho} \\psi{\\left(\\rho,z \\right)}}{\\rho} & 0 & - 2 \\frac{\\partial}{\\partial \\rho} \\psi{\\left(\\rho,z \\right)} \\frac{\\partial}{\\partial z} \\psi{\\left(\\rho,z \\right)} + \\frac{\\frac{\\partial}{\\partial z} \\gamma{\\left(\\rho,z \\right)}}{\\rho}\\\\0 & 0 & \\rho \\left(\\rho \\frac{\\partial^{2}}{\\partial \\rho^{2}} \\psi{\\left(\\rho,z \\right)} + \\rho \\frac{\\partial^{2}}{\\partial z^{2}} \\psi{\\left(\\rho,z \\right)} + \\frac{\\partial}{\\partial \\rho} \\psi{\\left(\\rho,z \\right)}\\right) e^{- 2 \\gamma{\\left(\\rho,z \\right)}} & 0\\\\0 & - 2 \\frac{\\partial}{\\partial \\rho} \\psi{\\left(\\rho,z \\right)} \\frac{\\partial}{\\partial z} \\psi{\\left(\\rho,z \\right)} + \\frac{\\frac{\\partial}{\\partial z} \\gamma{\\left(\\rho,z \\right)}}{\\rho} & 0 & \\frac{\\rho \\left(- \\frac{\\partial^{2}}{\\partial \\rho^{2}} \\gamma{\\left(\\rho,z \\right)} - \\frac{\\partial^{2}}{\\partial z^{2}} \\gamma{\\left(\\rho,z \\right)} + \\frac{\\partial^{2}}{\\partial \\rho^{2}} \\psi{\\left(\\rho,z \\right)} - 2 \\left(\\frac{\\partial}{\\partial z} \\psi{\\left(\\rho,z \\right)}\\right)^{2} + \\frac{\\partial^{2}}{\\partial z^{2}} \\psi{\\left(\\rho,z \\right)}\\right) - \\frac{\\partial}{\\partial \\rho} \\gamma{\\left(\\rho,z \\right)} + \\frac{\\partial}{\\partial \\rho} \\psi{\\left(\\rho,z \\right)}}{\\rho}\\end{matrix}\\right]$"
      ],
      "text/plain": [
       "⎡⎛    2                2                       ⎞                                            \n",
       "⎢⎜   ∂                ∂             ∂          ⎟  -2⋅γ(ρ, z) + 4⋅ψ(ρ, z)                    \n",
       "⎢⎜ρ⋅───(ψ(ρ, z)) + ρ⋅───(ψ(ρ, z)) + ──(ψ(ρ, z))⎟⋅ℯ                                          \n",
       "⎢⎜    2                2            ∂ρ         ⎟                                            \n",
       "⎢⎝  ∂ρ               ∂z                        ⎠                                            \n",
       "⎢───────────────────────────────────────────────────────────────────────                    \n",
       "⎢                                   ρ                                                       \n",
       "⎢                                                                                           \n",
       "⎢                                                                           ⎛    2          \n",
       "⎢                                                                           ⎜   ∂           \n",
       "⎢                                                                         ρ⋅⎜- ───(γ(ρ, z)) \n",
       "⎢                                                                           ⎜    2          \n",
       "⎢                                                                           ⎝  ∂ρ           \n",
       "⎢                                   0                                     ──────────────────\n",
       "⎢                                                                                           \n",
       "⎢                                                                                           \n",
       "⎢                                                                                           \n",
       "⎢                                                                                           \n",
       "⎢                                   0                                                       \n",
       "⎢                                                                                           \n",
       "⎢                                                                                           \n",
       "⎢                                                                                           \n",
       "⎢                                                                                           \n",
       "⎢                                                                                           \n",
       "⎢                                                                                           \n",
       "⎢                                                                                           \n",
       "⎢                                                                                           \n",
       "⎢                                   0                                                       \n",
       "⎣                                                                                           \n",
       "\n",
       "                                                                                            \n",
       "                                                                                            \n",
       "                                                                                            \n",
       "                                                                                            \n",
       "                                                                                            \n",
       "                                    0                                                       \n",
       "                                                                                            \n",
       "                                                                                            \n",
       "    2                           2     2              2         ⎞                            \n",
       "   ∂               ⎛∂          ⎞     ∂              ∂          ⎟   ∂             ∂          \n",
       "- ───(γ(ρ, z)) - 2⋅⎜──(ψ(ρ, z))⎟  + ───(ψ(ρ, z)) + ───(ψ(ρ, z))⎟ + ──(γ(ρ, z)) + ──(ψ(ρ, z))\n",
       "    2              ⎝∂ρ         ⎠      2              2         ⎟   ∂ρ            ∂ρ         \n",
       "  ∂z                                ∂ρ             ∂z          ⎠                            \n",
       "────────────────────────────────────────────────────────────────────────────────────────────\n",
       "                                    ρ                                                       \n",
       "                                                                                            \n",
       "                                                                                            \n",
       "                                                                                            \n",
       "                                    0                                                       \n",
       "                                                                                            \n",
       "                                                                                            \n",
       "                                                                                            \n",
       "                                                                                            \n",
       "                                                                                            \n",
       "                                              ∂                                             \n",
       "                                              ──(γ(ρ, z))                                   \n",
       "                    ∂           ∂             ∂z                                            \n",
       "                - 2⋅──(ψ(ρ, z))⋅──(ψ(ρ, z)) + ───────────                                   \n",
       "                    ∂ρ          ∂z                 ρ                                        \n",
       "\n",
       "                                                                                            \n",
       "                                                                                            \n",
       "                                                                                            \n",
       "                                                                                            \n",
       "                                                                                            \n",
       "                                0                                                           \n",
       "                                                                                            \n",
       "                                                                                            \n",
       "                                                                                            \n",
       "                                                                                            \n",
       "                                                                                            \n",
       "                                                                                            \n",
       "                                                                                            \n",
       "                                0                                                           \n",
       "                                                                                            \n",
       "                                                                                            \n",
       "    ⎛    2                2                       ⎞                                         \n",
       "    ⎜   ∂                ∂             ∂          ⎟  -2⋅γ(ρ, z)                             \n",
       "  ρ⋅⎜ρ⋅───(ψ(ρ, z)) + ρ⋅───(ψ(ρ, z)) + ──(ψ(ρ, z))⎟⋅ℯ                                       \n",
       "    ⎜    2                2            ∂ρ         ⎟                                         \n",
       "    ⎝  ∂ρ               ∂z                        ⎠                                         \n",
       "                                                                                            \n",
       "                                                                   ⎛    2              2    \n",
       "                                                                   ⎜   ∂              ∂     \n",
       "                                                                 ρ⋅⎜- ───(γ(ρ, z)) - ───(γ(ρ\n",
       "                                                                   ⎜    2              2    \n",
       "                                                                   ⎝  ∂ρ             ∂z     \n",
       "                                0                                ───────────────────────────\n",
       "                                                                                            \n",
       "\n",
       "                                                                                   ⎤\n",
       "                                                                                   ⎥\n",
       "                                                                                   ⎥\n",
       "                                                                                   ⎥\n",
       "                                                                                   ⎥\n",
       "                           0                                                       ⎥\n",
       "                                                                                   ⎥\n",
       "                                                                                   ⎥\n",
       "                                                                                   ⎥\n",
       "                                                                                   ⎥\n",
       "                                     ∂                                             ⎥\n",
       "                                     ──(γ(ρ, z))                                   ⎥\n",
       "           ∂           ∂             ∂z                                            ⎥\n",
       "       - 2⋅──(ψ(ρ, z))⋅──(ψ(ρ, z)) + ───────────                                   ⎥\n",
       "           ∂ρ          ∂z                 ρ                                        ⎥\n",
       "                                                                                   ⎥\n",
       "                                                                                   ⎥\n",
       "                                                                                   ⎥\n",
       "                           0                                                       ⎥\n",
       "                                                                                   ⎥\n",
       "                                                                                   ⎥\n",
       "                                                                                   ⎥\n",
       "          2                           2     2         ⎞                            ⎥\n",
       "         ∂               ⎛∂          ⎞     ∂          ⎟   ∂             ∂          ⎥\n",
       ", z)) + ───(ψ(ρ, z)) - 2⋅⎜──(ψ(ρ, z))⎟  + ───(ψ(ρ, z))⎟ - ──(γ(ρ, z)) + ──(ψ(ρ, z))⎥\n",
       "          2              ⎝∂z         ⎠      2         ⎟   ∂ρ            ∂ρ         ⎥\n",
       "        ∂ρ                                ∂z          ⎠                            ⎥\n",
       "───────────────────────────────────────────────────────────────────────────────────⎥\n",
       "                           ρ                                                       ⎦"
      ]
     },
     "execution_count": 17,
     "metadata": {},
     "output_type": "execute_result"
    }
   ],
   "source": [
    "Ric = RicciTensor.from_metric(metric)\n",
    "Ric.tensor()"
   ]
  },
  {
   "cell_type": "code",
   "execution_count": 18,
   "id": "56e3b1ed",
   "metadata": {},
   "outputs": [
    {
     "data": {
      "image/png": "[encoded data removed]",
      "text/latex": [
       "$\\displaystyle \\frac{2 \\left(- \\rho \\frac{\\partial^{2}}{\\partial \\rho^{2}} \\gamma{\\left(\\rho,z \\right)} - \\rho \\frac{\\partial^{2}}{\\partial z^{2}} \\gamma{\\left(\\rho,z \\right)} - \\rho \\left(\\frac{\\partial}{\\partial \\rho} \\psi{\\left(\\rho,z \\right)}\\right)^{2} + \\rho \\frac{\\partial^{2}}{\\partial \\rho^{2}} \\psi{\\left(\\rho,z \\right)} - \\rho \\left(\\frac{\\partial}{\\partial z} \\psi{\\left(\\rho,z \\right)}\\right)^{2} + \\rho \\frac{\\partial^{2}}{\\partial z^{2}} \\psi{\\left(\\rho,z \\right)} + \\frac{\\partial}{\\partial \\rho} \\psi{\\left(\\rho,z \\right)}\\right) e^{- 2 \\gamma{\\left(\\rho,z \\right)} + 2 \\psi{\\left(\\rho,z \\right)}}}{\\rho}$"
      ],
      "text/plain": [
       "  ⎛      2                2                           2       2                           2 \n",
       "  ⎜     ∂                ∂               ⎛∂          ⎞       ∂               ⎛∂          ⎞  \n",
       "2⋅⎜- ρ⋅───(γ(ρ, z)) - ρ⋅───(γ(ρ, z)) - ρ⋅⎜──(ψ(ρ, z))⎟  + ρ⋅───(ψ(ρ, z)) - ρ⋅⎜──(ψ(ρ, z))⎟  \n",
       "  ⎜      2                2              ⎝∂ρ         ⎠        2              ⎝∂z         ⎠  \n",
       "  ⎝    ∂ρ               ∂z                                  ∂ρ                              \n",
       "────────────────────────────────────────────────────────────────────────────────────────────\n",
       "                                                                         ρ                  \n",
       "\n",
       "      2                       ⎞                        \n",
       "     ∂             ∂          ⎟  -2⋅γ(ρ, z) + 2⋅ψ(ρ, z)\n",
       "+ ρ⋅───(ψ(ρ, z)) + ──(ψ(ρ, z))⎟⋅ℯ                      \n",
       "      2            ∂ρ         ⎟                        \n",
       "    ∂z                        ⎠                        \n",
       "───────────────────────────────────────────────────────\n",
       "                                                       "
      ]
     },
     "execution_count": 18,
     "metadata": {},
     "output_type": "execute_result"
    }
   ],
   "source": [
    "R = RicciScalar.from_riccitensor(Ric)\n",
    "R.simplify()\n",
    "R.expr"
   ]
  },
  {
   "cell_type": "code",
   "execution_count": 19,
   "id": "37fb5568",
   "metadata": {},
   "outputs": [
    {
     "data": {
      "text/latex": [
       "$\\displaystyle \\left[\\begin{matrix}\\frac{\\left(\\rho \\frac{\\partial^{2}}{\\partial \\rho^{2}} \\psi{\\left(\\rho,z \\right)} + \\rho \\frac{\\partial^{2}}{\\partial z^{2}} \\psi{\\left(\\rho,z \\right)} + \\frac{\\partial}{\\partial \\rho} \\psi{\\left(\\rho,z \\right)}\\right) e^{- 2 \\gamma{\\left(\\rho,z \\right)} + 4 \\psi{\\left(\\rho,z \\right)}}}{\\rho} + \\frac{1.0 \\left(- \\rho \\frac{\\partial^{2}}{\\partial \\rho^{2}} \\gamma{\\left(\\rho,z \\right)} - \\rho \\frac{\\partial^{2}}{\\partial z^{2}} \\gamma{\\left(\\rho,z \\right)} - \\rho \\left(\\frac{\\partial}{\\partial \\rho} \\psi{\\left(\\rho,z \\right)}\\right)^{2} + \\rho \\frac{\\partial^{2}}{\\partial \\rho^{2}} \\psi{\\left(\\rho,z \\right)} - \\rho \\left(\\frac{\\partial}{\\partial z} \\psi{\\left(\\rho,z \\right)}\\right)^{2} + \\rho \\frac{\\partial^{2}}{\\partial z^{2}} \\psi{\\left(\\rho,z \\right)} + \\frac{\\partial}{\\partial \\rho} \\psi{\\left(\\rho,z \\right)}\\right) e^{- 2 \\gamma{\\left(\\rho,z \\right)} + 2 \\psi{\\left(\\rho,z \\right)}} e^{2 \\psi{\\left(\\rho,z \\right)}}}{\\rho} & 0 & 0 & 0\\\\0 & \\frac{\\rho \\left(- \\frac{\\partial^{2}}{\\partial \\rho^{2}} \\gamma{\\left(\\rho,z \\right)} - \\frac{\\partial^{2}}{\\partial z^{2}} \\gamma{\\left(\\rho,z \\right)} - 2 \\left(\\frac{\\partial}{\\partial \\rho} \\psi{\\left(\\rho,z \\right)}\\right)^{2} + \\frac{\\partial^{2}}{\\partial \\rho^{2}} \\psi{\\left(\\rho,z \\right)} + \\frac{\\partial^{2}}{\\partial z^{2}} \\psi{\\left(\\rho,z \\right)}\\right) + \\frac{\\partial}{\\partial \\rho} \\gamma{\\left(\\rho,z \\right)} + \\frac{\\partial}{\\partial \\rho} \\psi{\\left(\\rho,z \\right)}}{\\rho} - \\frac{1.0 \\left(- \\rho \\frac{\\partial^{2}}{\\partial \\rho^{2}} \\gamma{\\left(\\rho,z \\right)} - \\rho \\frac{\\partial^{2}}{\\partial z^{2}} \\gamma{\\left(\\rho,z \\right)} - \\rho \\left(\\frac{\\partial}{\\partial \\rho} \\psi{\\left(\\rho,z \\right)}\\right)^{2} + \\rho \\frac{\\partial^{2}}{\\partial \\rho^{2}} \\psi{\\left(\\rho,z \\right)} - \\rho \\left(\\frac{\\partial}{\\partial z} \\psi{\\left(\\rho,z \\right)}\\right)^{2} + \\rho \\frac{\\partial^{2}}{\\partial z^{2}} \\psi{\\left(\\rho,z \\right)} + \\frac{\\partial}{\\partial \\rho} \\psi{\\left(\\rho,z \\right)}\\right) e^{- 2 \\gamma{\\left(\\rho,z \\right)} + 2 \\psi{\\left(\\rho,z \\right)}} e^{2 \\gamma{\\left(\\rho,z \\right)}} e^{- 2 \\psi{\\left(\\rho,z \\right)}}}{\\rho} & 0 & - 2 \\frac{\\partial}{\\partial \\rho} \\psi{\\left(\\rho,z \\right)} \\frac{\\partial}{\\partial z} \\psi{\\left(\\rho,z \\right)} + \\frac{\\frac{\\partial}{\\partial z} \\gamma{\\left(\\rho,z \\right)}}{\\rho}\\\\0 & 0 & \\rho \\left(\\rho \\frac{\\partial^{2}}{\\partial \\rho^{2}} \\psi{\\left(\\rho,z \\right)} + \\rho \\frac{\\partial^{2}}{\\partial z^{2}} \\psi{\\left(\\rho,z \\right)} + \\frac{\\partial}{\\partial \\rho} \\psi{\\left(\\rho,z \\right)}\\right) e^{- 2 \\gamma{\\left(\\rho,z \\right)}} - 1.0 \\rho \\left(- \\rho \\frac{\\partial^{2}}{\\partial \\rho^{2}} \\gamma{\\left(\\rho,z \\right)} - \\rho \\frac{\\partial^{2}}{\\partial z^{2}} \\gamma{\\left(\\rho,z \\right)} - \\rho \\left(\\frac{\\partial}{\\partial \\rho} \\psi{\\left(\\rho,z \\right)}\\right)^{2} + \\rho \\frac{\\partial^{2}}{\\partial \\rho^{2}} \\psi{\\left(\\rho,z \\right)} - \\rho \\left(\\frac{\\partial}{\\partial z} \\psi{\\left(\\rho,z \\right)}\\right)^{2} + \\rho \\frac{\\partial^{2}}{\\partial z^{2}} \\psi{\\left(\\rho,z \\right)} + \\frac{\\partial}{\\partial \\rho} \\psi{\\left(\\rho,z \\right)}\\right) e^{- 2 \\gamma{\\left(\\rho,z \\right)} + 2 \\psi{\\left(\\rho,z \\right)}} e^{- 2 \\psi{\\left(\\rho,z \\right)}} & 0\\\\0 & - 2 \\frac{\\partial}{\\partial \\rho} \\psi{\\left(\\rho,z \\right)} \\frac{\\partial}{\\partial z} \\psi{\\left(\\rho,z \\right)} + \\frac{\\frac{\\partial}{\\partial z} \\gamma{\\left(\\rho,z \\right)}}{\\rho} & 0 & \\frac{\\rho \\left(- \\frac{\\partial^{2}}{\\partial \\rho^{2}} \\gamma{\\left(\\rho,z \\right)} - \\frac{\\partial^{2}}{\\partial z^{2}} \\gamma{\\left(\\rho,z \\right)} + \\frac{\\partial^{2}}{\\partial \\rho^{2}} \\psi{\\left(\\rho,z \\right)} - 2 \\left(\\frac{\\partial}{\\partial z} \\psi{\\left(\\rho,z \\right)}\\right)^{2} + \\frac{\\partial^{2}}{\\partial z^{2}} \\psi{\\left(\\rho,z \\right)}\\right) - \\frac{\\partial}{\\partial \\rho} \\gamma{\\left(\\rho,z \\right)} + \\frac{\\partial}{\\partial \\rho} \\psi{\\left(\\rho,z \\right)}}{\\rho} - \\frac{1.0 \\left(- \\rho \\frac{\\partial^{2}}{\\partial \\rho^{2}} \\gamma{\\left(\\rho,z \\right)} - \\rho \\frac{\\partial^{2}}{\\partial z^{2}} \\gamma{\\left(\\rho,z \\right)} - \\rho \\left(\\frac{\\partial}{\\partial \\rho} \\psi{\\left(\\rho,z \\right)}\\right)^{2} + \\rho \\frac{\\partial^{2}}{\\partial \\rho^{2}} \\psi{\\left(\\rho,z \\right)} - \\rho \\left(\\frac{\\partial}{\\partial z} \\psi{\\left(\\rho,z \\right)}\\right)^{2} + \\rho \\frac{\\partial^{2}}{\\partial z^{2}} \\psi{\\left(\\rho,z \\right)} + \\frac{\\partial}{\\partial \\rho} \\psi{\\left(\\rho,z \\right)}\\right) e^{- 2 \\gamma{\\left(\\rho,z \\right)} + 2 \\psi{\\left(\\rho,z \\right)}} e^{2 \\gamma{\\left(\\rho,z \\right)}} e^{- 2 \\psi{\\left(\\rho,z \\right)}}}{\\rho}\\end{matrix}\\right]$"
      ],
      "text/plain": [
       "⎡⎛    2                2                       ⎞                               ⎛      2     \n",
       "⎢⎜   ∂                ∂             ∂          ⎟  -2⋅γ(ρ, z) + 4⋅ψ(ρ, z)       ⎜     ∂      \n",
       "⎢⎜ρ⋅───(ψ(ρ, z)) + ρ⋅───(ψ(ρ, z)) + ──(ψ(ρ, z))⎟⋅ℯ                         1.0⋅⎜- ρ⋅───(γ(ρ,\n",
       "⎢⎜    2                2            ∂ρ         ⎟                               ⎜      2     \n",
       "⎢⎝  ∂ρ               ∂z                        ⎠                               ⎝    ∂ρ      \n",
       "⎢─────────────────────────────────────────────────────────────────────── + ─────────────────\n",
       "⎢                                   ρ                                                       \n",
       "⎢                                                                                           \n",
       "⎢                                                                                           \n",
       "⎢                                                                                           \n",
       "⎢                                                                                           \n",
       "⎢                                                                                           \n",
       "⎢                                                                                           \n",
       "⎢                                                                                           \n",
       "⎢                                                                                           \n",
       "⎢                                                                                           \n",
       "⎢                                                                                           \n",
       "⎢                                                                                           \n",
       "⎢                                                                                           \n",
       "⎢                                                                                           \n",
       "⎢                                                                                           \n",
       "⎢                                                                                           \n",
       "⎢                                                                                           \n",
       "⎢                                                                                           \n",
       "⎢                                                                                           \n",
       "⎢                                                                                           \n",
       "⎢                                                                                           \n",
       "⎢                                                                                           \n",
       "⎣                                                                                           \n",
       "\n",
       "           2                           2       2                           2       2        \n",
       "          ∂               ⎛∂          ⎞       ∂               ⎛∂          ⎞       ∂         \n",
       " z)) - ρ⋅───(γ(ρ, z)) - ρ⋅⎜──(ψ(ρ, z))⎟  + ρ⋅───(ψ(ρ, z)) - ρ⋅⎜──(ψ(ρ, z))⎟  + ρ⋅───(ψ(ρ, z)\n",
       "           2              ⎝∂ρ         ⎠        2              ⎝∂z         ⎠        2        \n",
       "         ∂z                                  ∂ρ                                  ∂z         \n",
       "────────────────────────────────────────────────────────────────────────────────────────────\n",
       "                                                              ρ                             \n",
       "                                                                                            \n",
       "                                                                                            \n",
       "                                                                                            \n",
       "                                                                                            \n",
       "                                                                                            \n",
       "                                                                                            \n",
       "                         0                                                                  \n",
       "                                                                                            \n",
       "                                                                                            \n",
       "                                                                                            \n",
       "                                                                                            \n",
       "                         0                                                                  \n",
       "                                                                                            \n",
       "                                                                                            \n",
       "                                                                                            \n",
       "                                                                                            \n",
       "                                                                                            \n",
       "                                                                                            \n",
       "                                                                                            \n",
       "                                                                                            \n",
       "                         0                                                                  \n",
       "                                                                                            \n",
       "\n",
       "               ⎞                                                                            \n",
       "    ∂          ⎟  -2⋅γ(ρ, z) + 2⋅ψ(ρ, z)  2⋅ψ(ρ, z)                                         \n",
       ") + ──(ψ(ρ, z))⎟⋅ℯ                      ⋅ℯ                                                  \n",
       "    ∂ρ         ⎟                                                                            \n",
       "               ⎠                                                                            \n",
       "───────────────────────────────────────────────────                                         \n",
       "                                                                                            \n",
       "                                                                                            \n",
       "                                                       ⎛    2              2                \n",
       "                                                       ⎜   ∂              ∂               ⎛∂\n",
       "                                                     ρ⋅⎜- ───(γ(ρ, z)) - ───(γ(ρ, z)) - 2⋅⎜─\n",
       "                                                       ⎜    2              2              ⎝∂\n",
       "                                                       ⎝  ∂ρ             ∂z                 \n",
       "                                                     ───────────────────────────────────────\n",
       "                                                                                            \n",
       "                                                                                            \n",
       "                                                                                            \n",
       "                                                                                            \n",
       "                                                                                            \n",
       "                                                                                            \n",
       "                                                                                            \n",
       "                                                                                            \n",
       "                                                                                            \n",
       "                                                                                            \n",
       "                                                                                            \n",
       "                                                                                            \n",
       "                                                                                            \n",
       "                                                                                            \n",
       "                                                                                            \n",
       "\n",
       "                                                                                            \n",
       "                                                                                            \n",
       "                                                                                            \n",
       "                                                                                            \n",
       "                                                                                            \n",
       "                                                                                            \n",
       "                                                                                            \n",
       "                                                                                            \n",
       "           2     2              2         ⎞                               ⎛      2          \n",
       "          ⎞     ∂              ∂          ⎟   ∂             ∂             ⎜     ∂           \n",
       "─(ψ(ρ, z))⎟  + ───(ψ(ρ, z)) + ───(ψ(ρ, z))⎟ + ──(γ(ρ, z)) + ──(ψ(ρ, z))   ⎜- ρ⋅───(γ(ρ, z)) \n",
       "ρ         ⎠      2              2         ⎟   ∂ρ            ∂ρ            ⎜      2          \n",
       "               ∂ρ             ∂z          ⎠                               ⎝    ∂ρ           \n",
       "─────────────────────────────────────────────────────────────────────── - ──────────────────\n",
       "               ρ                                                                            \n",
       "                                                                                            \n",
       "                                                                                            \n",
       "                                                                                            \n",
       "                                                                                            \n",
       "                                                                                            \n",
       "                                                                                            \n",
       "                                                                                            \n",
       "                                                                                            \n",
       "                                                                                            \n",
       "                                                                                            \n",
       "                                                                                            \n",
       "                                                                                     ∂      \n",
       "                                                                                 - 2⋅──(ψ(ρ,\n",
       "                                                                                     ∂ρ     \n",
       "\n",
       "                                                                                            \n",
       "                                                                                            \n",
       "                                                                                            \n",
       "                                                                                            \n",
       "                                                                                            \n",
       "         0                                                                                  \n",
       "                                                                                            \n",
       "                                                                                            \n",
       "      2                           2       2                           2       2             \n",
       "     ∂               ⎛∂          ⎞       ∂               ⎛∂          ⎞       ∂             ∂\n",
       "- ρ⋅───(γ(ρ, z)) - ρ⋅⎜──(ψ(ρ, z))⎟  + ρ⋅───(ψ(ρ, z)) - ρ⋅⎜──(ψ(ρ, z))⎟  + ρ⋅───(ψ(ρ, z)) + ─\n",
       "      2              ⎝∂ρ         ⎠        2              ⎝∂z         ⎠        2            ∂\n",
       "    ∂z                                  ∂ρ                                  ∂z              \n",
       "────────────────────────────────────────────────────────────────────────────────────────────\n",
       "                                                                 ρ                          \n",
       "                                                                                            \n",
       "                                                                                            \n",
       "                                                                                            \n",
       "         0                                                                                  \n",
       "                                                                                            \n",
       "                                                                                            \n",
       "                                                                                            \n",
       "                                                                                            \n",
       "                                                                                            \n",
       "                   ∂                                                                        \n",
       "                   ──(γ(ρ, z))                                                              \n",
       "     ∂             ∂z                                                                       \n",
       " z))⋅──(ψ(ρ, z)) + ───────────                                                              \n",
       "     ∂z                 ρ                                                                   \n",
       "\n",
       "                                                                                            \n",
       "                                                                                            \n",
       "                                                                                            \n",
       "                                                                                            \n",
       "                                                                                            \n",
       "                                                                                            \n",
       "                                                                                            \n",
       "                                                                                            \n",
       "          ⎞                                                                                 \n",
       "          ⎟  -2⋅γ(ρ, z) + 2⋅ψ(ρ, z)  2⋅γ(ρ, z)  -2⋅ψ(ρ, z)                                  \n",
       "─(ψ(ρ, z))⎟⋅ℯ                      ⋅ℯ         ⋅ℯ                                            \n",
       "ρ         ⎟                                                                                 \n",
       "          ⎠                                                                                 \n",
       "──────────────────────────────────────────────────────────                                  \n",
       "                                                                                            \n",
       "                                                                                            \n",
       "                                                              ⎛    2                2       \n",
       "                                                              ⎜   ∂                ∂        \n",
       "                                                            ρ⋅⎜ρ⋅───(ψ(ρ, z)) + ρ⋅───(ψ(ρ, z\n",
       "                                                              ⎜    2                2       \n",
       "                                                              ⎝  ∂ρ               ∂z        \n",
       "                                                                                            \n",
       "                                                                                            \n",
       "                                                                                            \n",
       "                                                                                            \n",
       "                                                                                            \n",
       "                                                                                            \n",
       "                                                                                            \n",
       "                                                                                            \n",
       "\n",
       "                                                                                            \n",
       "                                                                                            \n",
       "                                                                                            \n",
       "                                                                                            \n",
       "                                                                                            \n",
       "                                                                               0            \n",
       "                                                                                            \n",
       "                                                                                            \n",
       "                                                                                            \n",
       "                                                                                            \n",
       "                                                                                            \n",
       "                                                                                            \n",
       "                                                                                            \n",
       "                                                                               0            \n",
       "                                                                                            \n",
       "                                                                                            \n",
       "                ⎞                 ⎛      2                2                           2     \n",
       "     ∂          ⎟  -2⋅γ(ρ, z)     ⎜     ∂                ∂               ⎛∂          ⎞      \n",
       ")) + ──(ψ(ρ, z))⎟⋅ℯ           - ρ⋅⎜- ρ⋅───(γ(ρ, z)) - ρ⋅───(γ(ρ, z)) - ρ⋅⎜──(ψ(ρ, z))⎟  + ρ⋅\n",
       "     ∂ρ         ⎟                 ⎜      2                2              ⎝∂ρ         ⎠      \n",
       "                ⎠                 ⎝    ∂ρ               ∂z                                  \n",
       "                                                                                            \n",
       "                                                                                            \n",
       "                                                                                            \n",
       "                                                                                            \n",
       "                                                                                            \n",
       "                                                                                            \n",
       "                                                                               0            \n",
       "                                                                                            \n",
       "\n",
       "                                                                                            \n",
       "                                                                                            \n",
       "                                                                                            \n",
       "                                                                                            \n",
       "                                                                                            \n",
       "                                                                                            \n",
       "                                                                                            \n",
       "                                                                                            \n",
       "                                                                                            \n",
       "                                                                                            \n",
       "                                                                                            \n",
       "                                                                                            \n",
       "                                                                                            \n",
       "                                                                                            \n",
       "                                                                                            \n",
       "                                                                                            \n",
       "  2                           2       2                       ⎞                             \n",
       " ∂               ⎛∂          ⎞       ∂             ∂          ⎟  -2⋅γ(ρ, z) + 2⋅ψ(ρ, z)  -2⋅\n",
       "───(ψ(ρ, z)) - ρ⋅⎜──(ψ(ρ, z))⎟  + ρ⋅───(ψ(ρ, z)) + ──(ψ(ρ, z))⎟⋅ℯ                      ⋅ℯ   \n",
       "  2              ⎝∂z         ⎠        2            ∂ρ         ⎟                             \n",
       "∂ρ                                  ∂z                        ⎠                             \n",
       "                                                                                            \n",
       "                                                                                            \n",
       "                                                                                            \n",
       "                                                                                            \n",
       "                                                                                            \n",
       "                                                                                            \n",
       "                                                                                            \n",
       "                                                                                            \n",
       "\n",
       "                                                                                            \n",
       "                                                                                            \n",
       "                                                                                            \n",
       "                                                                                            \n",
       "                                                                                            \n",
       "                                                                                            \n",
       "                                                                                            \n",
       "                                                                                            \n",
       "                                                                                            \n",
       "                                                                                            \n",
       "                                                                                            \n",
       "                                                                                            \n",
       "                                                                                            \n",
       "                                                                                            \n",
       "                                                                                            \n",
       "                                                                                            \n",
       "                                                                                            \n",
       "ψ(ρ, z)                                                                                     \n",
       "                                                                                            \n",
       "                                                                                            \n",
       "                                                                                            \n",
       "                                                                                            \n",
       "           ⎛    2              2              2                           2     2         ⎞ \n",
       "           ⎜   ∂              ∂              ∂               ⎛∂          ⎞     ∂          ⎟ \n",
       "         ρ⋅⎜- ───(γ(ρ, z)) - ───(γ(ρ, z)) + ───(ψ(ρ, z)) - 2⋅⎜──(ψ(ρ, z))⎟  + ───(ψ(ρ, z))⎟ \n",
       "           ⎜    2              2              2              ⎝∂z         ⎠      2         ⎟ \n",
       "           ⎝  ∂ρ             ∂z             ∂ρ                                ∂z          ⎠ \n",
       "         ───────────────────────────────────────────────────────────────────────────────────\n",
       "                                                               ρ                            \n",
       "\n",
       "                                                                                            \n",
       "                                                                                            \n",
       "                                                                                            \n",
       "                                                                                            \n",
       "                                                                                            \n",
       "                                                         0                                  \n",
       "                                                                                            \n",
       "                                                                                            \n",
       "                                                                                            \n",
       "                                                                                            \n",
       "                                                                   ∂                        \n",
       "                                                                   ──(γ(ρ, z))              \n",
       "                                         ∂           ∂             ∂z                       \n",
       "                                     - 2⋅──(ψ(ρ, z))⋅──(ψ(ρ, z)) + ───────────              \n",
       "                                         ∂ρ          ∂z                 ρ                   \n",
       "                                                                                            \n",
       "                                                                                            \n",
       "                                                                                            \n",
       "                                                         0                                  \n",
       "                                                                                            \n",
       "                                                                                            \n",
       "                                                                                            \n",
       "                              ⎛      2                2                           2       2 \n",
       "  ∂             ∂             ⎜     ∂                ∂               ⎛∂          ⎞       ∂  \n",
       "- ──(γ(ρ, z)) + ──(ψ(ρ, z))   ⎜- ρ⋅───(γ(ρ, z)) - ρ⋅───(γ(ρ, z)) - ρ⋅⎜──(ψ(ρ, z))⎟  + ρ⋅───(\n",
       "  ∂ρ            ∂ρ            ⎜      2                2              ⎝∂ρ         ⎠        2 \n",
       "                              ⎝    ∂ρ               ∂z                                  ∂ρ  \n",
       "─────────────────────────── - ──────────────────────────────────────────────────────────────\n",
       "                                                                                            \n",
       "\n",
       "                                                                                            \n",
       "                                                                                            \n",
       "                                                                                            \n",
       "                                                                                            \n",
       "                                                                                            \n",
       "                                                                                            \n",
       "                                                                                            \n",
       "                                                                                            \n",
       "                                                                                            \n",
       "                                                                                            \n",
       "                                                                                            \n",
       "                                                                                            \n",
       "                                                                                            \n",
       "                                                                                            \n",
       "                                                                                            \n",
       "                                                                                            \n",
       "                                                                                            \n",
       "                                                                                            \n",
       "                                                                                            \n",
       "                                                                                            \n",
       "                                                                                            \n",
       "                                                                                            \n",
       "                          2       2                       ⎞                                 \n",
       "             ⎛∂          ⎞       ∂             ∂          ⎟  -2⋅γ(ρ, z) + 2⋅ψ(ρ, z)  2⋅γ(ρ, \n",
       "ψ(ρ, z)) - ρ⋅⎜──(ψ(ρ, z))⎟  + ρ⋅───(ψ(ρ, z)) + ──(ψ(ρ, z))⎟⋅ℯ                      ⋅ℯ       \n",
       "             ⎝∂z         ⎠        2            ∂ρ         ⎟                                 \n",
       "                                ∂z                        ⎠                                 \n",
       "────────────────────────────────────────────────────────────────────────────────────────────\n",
       "                     ρ                                                                      \n",
       "\n",
       "              ⎤\n",
       "              ⎥\n",
       "              ⎥\n",
       "              ⎥\n",
       "              ⎥\n",
       "              ⎥\n",
       "              ⎥\n",
       "              ⎥\n",
       "              ⎥\n",
       "              ⎥\n",
       "              ⎥\n",
       "              ⎥\n",
       "              ⎥\n",
       "              ⎥\n",
       "              ⎥\n",
       "              ⎥\n",
       "              ⎥\n",
       "              ⎥\n",
       "              ⎥\n",
       "              ⎥\n",
       "              ⎥\n",
       "              ⎥\n",
       "              ⎥\n",
       "z)  -2⋅ψ(ρ, z)⎥\n",
       "  ⋅ℯ          ⎥\n",
       "              ⎥\n",
       "              ⎥\n",
       "──────────────⎥\n",
       "              ⎦"
      ]
     },
     "execution_count": 19,
     "metadata": {},
     "output_type": "execute_result"
    }
   ],
   "source": [
    "einst = EinsteinTensor.from_metric(metric)\n",
    "einst.tensor()"
   ]
  },
  {
   "cell_type": "code",
   "execution_count": 20,
   "id": "2acf8abe",
   "metadata": {},
   "outputs": [],
   "source": [
    "#  rm1 = RiemannCurvatureTensor.from_christoffels(ch)\n",
    "#  rm1.tensor()"
   ]
  },
  {
   "cell_type": "code",
   "execution_count": 21,
   "id": "054fce18",
   "metadata": {},
   "outputs": [],
   "source": [
    "#  weyl = WeylTensor.from_metric(metric)\n",
    "#  weyl.tensor()"
   ]
  },
  {
   "cell_type": "code",
   "execution_count": 22,
   "id": "906d8e1c",
   "metadata": {},
   "outputs": [
    {
     "data": {
      "text/latex": [
       "$\\displaystyle \\left[\\begin{matrix}\\frac{\\left(\\rho \\frac{\\partial^{2}}{\\partial \\rho^{2}} \\psi{\\left(\\rho,z \\right)} + \\rho \\frac{\\partial^{2}}{\\partial z^{2}} \\psi{\\left(\\rho,z \\right)} + \\frac{\\partial}{\\partial \\rho} \\psi{\\left(\\rho,z \\right)}\\right) e^{- 2 \\gamma{\\left(\\rho,z \\right)} + 4 \\psi{\\left(\\rho,z \\right)}}}{\\rho} & 0 & 0 & 0\\\\0 & \\frac{- \\rho \\left(\\frac{\\partial^{2}}{\\partial \\rho^{2}} \\gamma{\\left(\\rho,z \\right)} + \\frac{\\partial^{2}}{\\partial z^{2}} \\gamma{\\left(\\rho,z \\right)} + 2 \\left(\\frac{\\partial}{\\partial \\rho} \\psi{\\left(\\rho,z \\right)}\\right)^{2} - \\frac{\\partial^{2}}{\\partial \\rho^{2}} \\psi{\\left(\\rho,z \\right)} - \\frac{\\partial^{2}}{\\partial z^{2}} \\psi{\\left(\\rho,z \\right)}\\right) + \\frac{\\partial}{\\partial \\rho} \\gamma{\\left(\\rho,z \\right)} + \\frac{\\partial}{\\partial \\rho} \\psi{\\left(\\rho,z \\right)}}{\\rho} & 0 & - 2 \\frac{\\partial}{\\partial \\rho} \\psi{\\left(\\rho,z \\right)} \\frac{\\partial}{\\partial z} \\psi{\\left(\\rho,z \\right)} + \\frac{\\frac{\\partial}{\\partial z} \\gamma{\\left(\\rho,z \\right)}}{\\rho}\\\\0 & 0 & \\rho \\left(\\rho \\frac{\\partial^{2}}{\\partial \\rho^{2}} \\psi{\\left(\\rho,z \\right)} + \\rho \\frac{\\partial^{2}}{\\partial z^{2}} \\psi{\\left(\\rho,z \\right)} + \\frac{\\partial}{\\partial \\rho} \\psi{\\left(\\rho,z \\right)}\\right) e^{- 2 \\gamma{\\left(\\rho,z \\right)}} & 0\\\\0 & - 2 \\frac{\\partial}{\\partial \\rho} \\psi{\\left(\\rho,z \\right)} \\frac{\\partial}{\\partial z} \\psi{\\left(\\rho,z \\right)} + \\frac{\\frac{\\partial}{\\partial z} \\gamma{\\left(\\rho,z \\right)}}{\\rho} & 0 & \\frac{- \\rho \\left(\\frac{\\partial^{2}}{\\partial \\rho^{2}} \\gamma{\\left(\\rho,z \\right)} + \\frac{\\partial^{2}}{\\partial z^{2}} \\gamma{\\left(\\rho,z \\right)} - \\frac{\\partial^{2}}{\\partial \\rho^{2}} \\psi{\\left(\\rho,z \\right)} + 2 \\left(\\frac{\\partial}{\\partial z} \\psi{\\left(\\rho,z \\right)}\\right)^{2} - \\frac{\\partial^{2}}{\\partial z^{2}} \\psi{\\left(\\rho,z \\right)}\\right) - \\frac{\\partial}{\\partial \\rho} \\gamma{\\left(\\rho,z \\right)} + \\frac{\\partial}{\\partial \\rho} \\psi{\\left(\\rho,z \\right)}}{\\rho}\\end{matrix}\\right]$"
      ],
      "text/plain": [
       "⎡⎛    2                2                       ⎞                                            \n",
       "⎢⎜   ∂                ∂             ∂          ⎟  -2⋅γ(ρ, z) + 4⋅ψ(ρ, z)                    \n",
       "⎢⎜ρ⋅───(ψ(ρ, z)) + ρ⋅───(ψ(ρ, z)) + ──(ψ(ρ, z))⎟⋅ℯ                                          \n",
       "⎢⎜    2                2            ∂ρ         ⎟                                            \n",
       "⎢⎝  ∂ρ               ∂z                        ⎠                                            \n",
       "⎢───────────────────────────────────────────────────────────────────────                    \n",
       "⎢                                   ρ                                                       \n",
       "⎢                                                                                           \n",
       "⎢                                                                             ⎛  2          \n",
       "⎢                                                                             ⎜ ∂           \n",
       "⎢                                                                         - ρ⋅⎜───(γ(ρ, z)) \n",
       "⎢                                                                             ⎜  2          \n",
       "⎢                                                                             ⎝∂ρ           \n",
       "⎢                                   0                                     ──────────────────\n",
       "⎢                                                                                           \n",
       "⎢                                                                                           \n",
       "⎢                                                                                           \n",
       "⎢                                                                                           \n",
       "⎢                                   0                                                       \n",
       "⎢                                                                                           \n",
       "⎢                                                                                           \n",
       "⎢                                                                                           \n",
       "⎢                                                                                           \n",
       "⎢                                                                                           \n",
       "⎢                                                                                           \n",
       "⎢                                                                                           \n",
       "⎢                                                                                           \n",
       "⎢                                   0                                                       \n",
       "⎣                                                                                           \n",
       "\n",
       "                                                                                            \n",
       "                                                                                            \n",
       "                                                                                            \n",
       "                                                                                            \n",
       "                                                                                            \n",
       "                                    0                                                       \n",
       "                                                                                            \n",
       "                                                                                            \n",
       "    2                           2     2              2         ⎞                            \n",
       "   ∂               ⎛∂          ⎞     ∂              ∂          ⎟   ∂             ∂          \n",
       "+ ───(γ(ρ, z)) + 2⋅⎜──(ψ(ρ, z))⎟  - ───(ψ(ρ, z)) - ───(ψ(ρ, z))⎟ + ──(γ(ρ, z)) + ──(ψ(ρ, z))\n",
       "    2              ⎝∂ρ         ⎠      2              2         ⎟   ∂ρ            ∂ρ         \n",
       "  ∂z                                ∂ρ             ∂z          ⎠                            \n",
       "────────────────────────────────────────────────────────────────────────────────────────────\n",
       "                                    ρ                                                       \n",
       "                                                                                            \n",
       "                                                                                            \n",
       "                                                                                            \n",
       "                                    0                                                       \n",
       "                                                                                            \n",
       "                                                                                            \n",
       "                                                                                            \n",
       "                                                                                            \n",
       "                                                                                            \n",
       "                                              ∂                                             \n",
       "                                              ──(γ(ρ, z))                                   \n",
       "                    ∂           ∂             ∂z                                            \n",
       "                - 2⋅──(ψ(ρ, z))⋅──(ψ(ρ, z)) + ───────────                                   \n",
       "                    ∂ρ          ∂z                 ρ                                        \n",
       "\n",
       "                                                                                            \n",
       "                                                                                            \n",
       "                                                                                            \n",
       "                                                                                            \n",
       "                                                                                            \n",
       "                                0                                                           \n",
       "                                                                                            \n",
       "                                                                                            \n",
       "                                                                                            \n",
       "                                                                                            \n",
       "                                                                                            \n",
       "                                                                                            \n",
       "                                                                                            \n",
       "                                0                                                           \n",
       "                                                                                            \n",
       "                                                                                            \n",
       "    ⎛    2                2                       ⎞                                         \n",
       "    ⎜   ∂                ∂             ∂          ⎟  -2⋅γ(ρ, z)                             \n",
       "  ρ⋅⎜ρ⋅───(ψ(ρ, z)) + ρ⋅───(ψ(ρ, z)) + ──(ψ(ρ, z))⎟⋅ℯ                                       \n",
       "    ⎜    2                2            ∂ρ         ⎟                                         \n",
       "    ⎝  ∂ρ               ∂z                        ⎠                                         \n",
       "                                                                                            \n",
       "                                                                     ⎛  2              2    \n",
       "                                                                     ⎜ ∂              ∂     \n",
       "                                                                 - ρ⋅⎜───(γ(ρ, z)) + ───(γ(ρ\n",
       "                                                                     ⎜  2              2    \n",
       "                                                                     ⎝∂ρ             ∂z     \n",
       "                                0                                ───────────────────────────\n",
       "                                                                                            \n",
       "\n",
       "                                                                                   ⎤\n",
       "                                                                                   ⎥\n",
       "                                                                                   ⎥\n",
       "                                                                                   ⎥\n",
       "                                                                                   ⎥\n",
       "                           0                                                       ⎥\n",
       "                                                                                   ⎥\n",
       "                                                                                   ⎥\n",
       "                                                                                   ⎥\n",
       "                                                                                   ⎥\n",
       "                                     ∂                                             ⎥\n",
       "                                     ──(γ(ρ, z))                                   ⎥\n",
       "           ∂           ∂             ∂z                                            ⎥\n",
       "       - 2⋅──(ψ(ρ, z))⋅──(ψ(ρ, z)) + ───────────                                   ⎥\n",
       "           ∂ρ          ∂z                 ρ                                        ⎥\n",
       "                                                                                   ⎥\n",
       "                                                                                   ⎥\n",
       "                                                                                   ⎥\n",
       "                           0                                                       ⎥\n",
       "                                                                                   ⎥\n",
       "                                                                                   ⎥\n",
       "                                                                                   ⎥\n",
       "          2                           2     2         ⎞                            ⎥\n",
       "         ∂               ⎛∂          ⎞     ∂          ⎟   ∂             ∂          ⎥\n",
       ", z)) - ───(ψ(ρ, z)) + 2⋅⎜──(ψ(ρ, z))⎟  - ───(ψ(ρ, z))⎟ - ──(γ(ρ, z)) + ──(ψ(ρ, z))⎥\n",
       "          2              ⎝∂z         ⎠      2         ⎟   ∂ρ            ∂ρ         ⎥\n",
       "        ∂ρ                                ∂z          ⎠                            ⎥\n",
       "───────────────────────────────────────────────────────────────────────────────────⎥\n",
       "                           ρ                                                       ⎦"
      ]
     },
     "execution_count": 22,
     "metadata": {},
     "output_type": "execute_result"
    }
   ],
   "source": [
    "ricciSimplified = simplify(Ric.tensor())\n",
    "ricciSimplified"
   ]
  },
  {
   "cell_type": "code",
   "execution_count": 23,
   "id": "aea5d069",
   "metadata": {},
   "outputs": [
    {
     "data": {
      "text/latex": [
       "$\\displaystyle \\left[\\begin{matrix}\\frac{\\left(- 1.0 \\rho \\frac{\\partial^{2}}{\\partial \\rho^{2}} \\gamma{\\left(\\rho,z \\right)} - 1.0 \\rho \\frac{\\partial^{2}}{\\partial z^{2}} \\gamma{\\left(\\rho,z \\right)} - 1.0 \\rho \\left(\\frac{\\partial}{\\partial \\rho} \\psi{\\left(\\rho,z \\right)}\\right)^{2} + 2.0 \\rho \\frac{\\partial^{2}}{\\partial \\rho^{2}} \\psi{\\left(\\rho,z \\right)} - 1.0 \\rho \\left(\\frac{\\partial}{\\partial z} \\psi{\\left(\\rho,z \\right)}\\right)^{2} + 2.0 \\rho \\frac{\\partial^{2}}{\\partial z^{2}} \\psi{\\left(\\rho,z \\right)} + 2.0 \\frac{\\partial}{\\partial \\rho} \\psi{\\left(\\rho,z \\right)}\\right) e^{- 2 \\gamma{\\left(\\rho,z \\right)} + 4 \\psi{\\left(\\rho,z \\right)}}}{\\rho} & 0 & 0 & 0\\\\0 & - 1.0 \\left(\\frac{\\partial}{\\partial \\rho} \\psi{\\left(\\rho,z \\right)}\\right)^{2} + 1.0 \\left(\\frac{\\partial}{\\partial z} \\psi{\\left(\\rho,z \\right)}\\right)^{2} + \\frac{1.0 \\frac{\\partial}{\\partial \\rho} \\gamma{\\left(\\rho,z \\right)}}{\\rho} & 0 & - 2 \\frac{\\partial}{\\partial \\rho} \\psi{\\left(\\rho,z \\right)} \\frac{\\partial}{\\partial z} \\psi{\\left(\\rho,z \\right)} + \\frac{\\frac{\\partial}{\\partial z} \\gamma{\\left(\\rho,z \\right)}}{\\rho}\\\\0 & 0 & 1.0 \\rho^{2} \\left(\\frac{\\partial^{2}}{\\partial \\rho^{2}} \\gamma{\\left(\\rho,z \\right)} + \\frac{\\partial^{2}}{\\partial z^{2}} \\gamma{\\left(\\rho,z \\right)} + \\left(\\frac{\\partial}{\\partial \\rho} \\psi{\\left(\\rho,z \\right)}\\right)^{2} + \\left(\\frac{\\partial}{\\partial z} \\psi{\\left(\\rho,z \\right)}\\right)^{2}\\right) e^{- 2 \\gamma{\\left(\\rho,z \\right)}} & 0\\\\0 & - 2 \\frac{\\partial}{\\partial \\rho} \\psi{\\left(\\rho,z \\right)} \\frac{\\partial}{\\partial z} \\psi{\\left(\\rho,z \\right)} + \\frac{\\frac{\\partial}{\\partial z} \\gamma{\\left(\\rho,z \\right)}}{\\rho} & 0 & 1.0 \\left(\\frac{\\partial}{\\partial \\rho} \\psi{\\left(\\rho,z \\right)}\\right)^{2} - 1.0 \\left(\\frac{\\partial}{\\partial z} \\psi{\\left(\\rho,z \\right)}\\right)^{2} - \\frac{1.0 \\frac{\\partial}{\\partial \\rho} \\gamma{\\left(\\rho,z \\right)}}{\\rho}\\end{matrix}\\right]$"
      ],
      "text/plain": [
       "⎡⎛      2                2                           2           2                          \n",
       "⎢⎜     ∂                ∂               ⎛∂          ⎞           ∂               ⎛∂          \n",
       "⎢⎜- ρ⋅───(γ(ρ, z)) - ρ⋅───(γ(ρ, z)) - ρ⋅⎜──(ψ(ρ, z))⎟  + 2.0⋅ρ⋅───(ψ(ρ, z)) - ρ⋅⎜──(ψ(ρ, z))\n",
       "⎢⎜      2                2              ⎝∂ρ         ⎠            2              ⎝∂z         \n",
       "⎢⎝    ∂ρ               ∂z                                      ∂ρ                           \n",
       "⎢───────────────────────────────────────────────────────────────────────────────────────────\n",
       "⎢                                                                              ρ            \n",
       "⎢                                                                                           \n",
       "⎢                                                                                           \n",
       "⎢                                                                                           \n",
       "⎢                                                                                           \n",
       "⎢                                                                              0            \n",
       "⎢                                                                                           \n",
       "⎢                                                                                           \n",
       "⎢                                                                                           \n",
       "⎢                                                                                           \n",
       "⎢                                                                              0            \n",
       "⎢                                                                                           \n",
       "⎢                                                                                           \n",
       "⎢                                                                                           \n",
       "⎢                                                                                           \n",
       "⎢                                                                                           \n",
       "⎢                                                                                           \n",
       "⎢                                                                              0            \n",
       "⎣                                                                                           \n",
       "\n",
       " 2           2                           ⎞                                                  \n",
       "⎞           ∂                 ∂          ⎟  -2⋅γ(ρ, z) + 4⋅ψ(ρ, z)                          \n",
       "⎟  + 2.0⋅ρ⋅───(ψ(ρ, z)) + 2.0⋅──(ψ(ρ, z))⎟⋅ℯ                                                \n",
       "⎠            2                ∂ρ         ⎟                                                  \n",
       "           ∂z                            ⎠                                                  \n",
       "──────────────────────────────────────────────────────────────────                          \n",
       "                                                                                            \n",
       "                                                                                            \n",
       "                                                                                            \n",
       "                                                                                   2        \n",
       "                                                                      ⎛∂          ⎞        ⎛\n",
       "                                                                    - ⎜──(ψ(ρ, z))⎟  + 1.0⋅⎜\n",
       "                                                                      ⎝∂ρ         ⎠        ⎝\n",
       "                                                                                            \n",
       "                                                                                            \n",
       "                                                                                            \n",
       "                                                                                            \n",
       "                                                                                            \n",
       "                                                                                            \n",
       "                                                                                            \n",
       "                                                                                            \n",
       "                                                                                            \n",
       "                                                                               ∂           ∂\n",
       "                                                                           - 2⋅──(ψ(ρ, z))⋅─\n",
       "                                                                               ∂ρ          ∂\n",
       "\n",
       "                                                                                            \n",
       "                                                                                            \n",
       "                                                                                            \n",
       "                                                                                            \n",
       "                                                                                            \n",
       "   0                                                                     0                  \n",
       "                                                                                            \n",
       "                                                                                            \n",
       "                    ∂                                                                       \n",
       "            2   1.0⋅──(γ(ρ, z))                                                             \n",
       "∂          ⎞        ∂ρ                                                                      \n",
       "──(ψ(ρ, z))⎟  + ───────────────                                          0                  \n",
       "∂z         ⎠           ρ                                                                    \n",
       "                                                                                            \n",
       "                                        ⎛  2              2                         2       \n",
       "                                      2 ⎜ ∂              ∂             ⎛∂          ⎞    ⎛∂  \n",
       "   0                             1.0⋅ρ ⋅⎜───(γ(ρ, z)) + ───(γ(ρ, z)) + ⎜──(ψ(ρ, z))⎟  + ⎜──(\n",
       "                                        ⎜  2              2            ⎝∂ρ         ⎠    ⎝∂z \n",
       "                                        ⎝∂ρ             ∂z                                  \n",
       "                                                                                            \n",
       "             ∂                                                                              \n",
       "             ──(γ(ρ, z))                                                                    \n",
       "             ∂z                                                                             \n",
       "─(ψ(ρ, z)) + ───────────                                                 0                  \n",
       "z                 ρ                                                                         \n",
       "\n",
       "                                                                          ⎤\n",
       "                                                                          ⎥\n",
       "                                                                          ⎥\n",
       "                                                                          ⎥\n",
       "                                                                          ⎥\n",
       "                                                 0                        ⎥\n",
       "                                                                          ⎥\n",
       "                                                                          ⎥\n",
       "                                                           ∂              ⎥\n",
       "                                                           ──(γ(ρ, z))    ⎥\n",
       "                                 ∂           ∂             ∂z             ⎥\n",
       "                             - 2⋅──(ψ(ρ, z))⋅──(ψ(ρ, z)) + ───────────    ⎥\n",
       "                                 ∂ρ          ∂z                 ρ         ⎥\n",
       "                                                                          ⎥\n",
       "         2⎞                                                               ⎥\n",
       "        ⎞ ⎟  -2⋅γ(ρ, z)                                                   ⎥\n",
       "ψ(ρ, z))⎟ ⎟⋅ℯ                                    0                        ⎥\n",
       "        ⎠ ⎟                                                               ⎥\n",
       "          ⎠                                                               ⎥\n",
       "                                                                          ⎥\n",
       "                                                               ∂          ⎥\n",
       "                                          2                2   ──(γ(ρ, z))⎥\n",
       "                             ⎛∂          ⎞    ⎛∂          ⎞    ∂ρ         ⎥\n",
       "                         1.0⋅⎜──(ψ(ρ, z))⎟  - ⎜──(ψ(ρ, z))⎟  - ───────────⎥\n",
       "                             ⎝∂ρ         ⎠    ⎝∂z         ⎠         ρ     ⎦"
      ]
     },
     "execution_count": 23,
     "metadata": {},
     "output_type": "execute_result"
    }
   ],
   "source": [
    "einsteinSimplified = simplify(einst.tensor())\n",
    "einsteinSimplified"
   ]
  },
  {
   "cell_type": "code",
   "execution_count": 32,
   "id": "81acff88",
   "metadata": {},
   "outputs": [
    {
     "data": {
      "image/png": "[encoded data removed]",
      "text/latex": [
       "$\\displaystyle \\frac{\\partial}{\\partial z} \\gamma{\\left(\\rho,z \\right)} = 2 \\rho \\frac{\\partial}{\\partial \\rho} \\psi{\\left(\\rho,z \\right)} \\frac{\\partial}{\\partial z} \\psi{\\left(\\rho,z \\right)}$"
      ],
      "text/plain": [
       "∂                 ∂           ∂          \n",
       "──(γ(ρ, z)) = 2⋅ρ⋅──(ψ(ρ, z))⋅──(ψ(ρ, z))\n",
       "∂z                ∂ρ          ∂z         "
      ]
     },
     "execution_count": 32,
     "metadata": {},
     "output_type": "execute_result"
    }
   ],
   "source": [
    "dgammadz = Eq( diff(gamma,z), solve( ricciSimplified[3,1], diff(gamma,z) )[0] ) \n",
    "dgammadz"
   ]
  },
  {
   "cell_type": "code",
   "execution_count": 33,
   "id": "aa26d84a",
   "metadata": {},
   "outputs": [
    {
     "data": {
      "image/png": "[encoded data removed]",
      "text/latex": [
       "$\\displaystyle \\frac{\\partial}{\\partial \\rho} \\gamma{\\left(\\rho,z \\right)} = \\rho \\left(\\left(\\frac{\\partial}{\\partial \\rho} \\psi{\\left(\\rho,z \\right)}\\right)^{2} - \\left(\\frac{\\partial}{\\partial z} \\psi{\\left(\\rho,z \\right)}\\right)^{2}\\right)$"
      ],
      "text/plain": [
       "                ⎛             2                2⎞\n",
       "∂               ⎜⎛∂          ⎞    ⎛∂          ⎞ ⎟\n",
       "──(γ(ρ, z)) = ρ⋅⎜⎜──(ψ(ρ, z))⎟  - ⎜──(ψ(ρ, z))⎟ ⎟\n",
       "∂ρ              ⎝⎝∂ρ         ⎠    ⎝∂z         ⎠ ⎠"
      ]
     },
     "execution_count": 33,
     "metadata": {},
     "output_type": "execute_result"
    }
   ],
   "source": [
    "dgammadrho = Eq( diff(gamma,rho), solve( einsteinSimplified[1,1], diff(gamma,rho) )[0] ) \n",
    "dgammadrho"
   ]
  },
  {
   "cell_type": "code",
   "execution_count": 34,
   "id": "e5627420",
   "metadata": {},
   "outputs": [
    {
     "data": {
      "image/png": "[encoded data removed]",
      "text/latex": [
       "$\\displaystyle \\frac{\\partial^{2}}{\\partial \\rho^{2}} \\psi{\\left(\\rho,z \\right)} + \\frac{\\partial^{2}}{\\partial z^{2}} \\psi{\\left(\\rho,z \\right)} + \\frac{\\frac{\\partial}{\\partial \\rho} \\psi{\\left(\\rho,z \\right)}}{\\rho} = 0$"
      ],
      "text/plain": [
       "                              ∂              \n",
       "  2              2            ──(ψ(ρ, z))    \n",
       " ∂              ∂             ∂ρ             \n",
       "───(ψ(ρ, z)) + ───(ψ(ρ, z)) + ─────────── = 0\n",
       "  2              2                 ρ         \n",
       "∂ρ             ∂z                            "
      ]
     },
     "execution_count": 34,
     "metadata": {},
     "output_type": "execute_result"
    }
   ],
   "source": [
    "psiLaplace = Eq(expand((1/rho)*ricciSimplified[0,0].args[1]),0)\n",
    "psiLaplace "
   ]
  },
  {
   "cell_type": "code",
   "execution_count": 39,
   "id": "91225a8d",
   "metadata": {},
   "outputs": [
    {
     "data": {
      "text/latex": [
       "$\\displaystyle \\left[\\begin{matrix}\\frac{\\partial^{2}}{\\partial \\rho^{2}} \\psi{\\left(\\rho,z \\right)} + \\frac{\\partial^{2}}{\\partial z^{2}} \\psi{\\left(\\rho,z \\right)} + \\frac{\\frac{\\partial}{\\partial \\rho} \\psi{\\left(\\rho,z \\right)}}{\\rho} = 0\\\\\\frac{\\partial}{\\partial z} \\gamma{\\left(\\rho,z \\right)} = 2 \\rho \\frac{\\partial}{\\partial \\rho} \\psi{\\left(\\rho,z \\right)} \\frac{\\partial}{\\partial z} \\psi{\\left(\\rho,z \\right)}\\\\\\frac{\\partial}{\\partial \\rho} \\gamma{\\left(\\rho,z \\right)} = \\rho \\left(\\left(\\frac{\\partial}{\\partial \\rho} \\psi{\\left(\\rho,z \\right)}\\right)^{2} - \\left(\\frac{\\partial}{\\partial z} \\psi{\\left(\\rho,z \\right)}\\right)^{2}\\right)\\end{matrix}\\right]$"
      ],
      "text/plain": [
       "⎡                                ∂                ⎤\n",
       "⎢    2              2            ──(ψ(ρ, z))      ⎥\n",
       "⎢   ∂              ∂             ∂ρ               ⎥\n",
       "⎢  ───(ψ(ρ, z)) + ───(ψ(ρ, z)) + ─────────── = 0  ⎥\n",
       "⎢    2              2                 ρ           ⎥\n",
       "⎢  ∂ρ             ∂z                              ⎥\n",
       "⎢                                                 ⎥\n",
       "⎢    ∂                 ∂           ∂              ⎥\n",
       "⎢    ──(γ(ρ, z)) = 2⋅ρ⋅──(ψ(ρ, z))⋅──(ψ(ρ, z))    ⎥\n",
       "⎢    ∂z                ∂ρ          ∂z             ⎥\n",
       "⎢                                                 ⎥\n",
       "⎢                ⎛             2                2⎞⎥\n",
       "⎢∂               ⎜⎛∂          ⎞    ⎛∂          ⎞ ⎟⎥\n",
       "⎢──(γ(ρ, z)) = ρ⋅⎜⎜──(ψ(ρ, z))⎟  - ⎜──(ψ(ρ, z))⎟ ⎟⎥\n",
       "⎣∂ρ              ⎝⎝∂ρ         ⎠    ⎝∂z         ⎠ ⎠⎦"
      ]
     },
     "execution_count": 39,
     "metadata": {},
     "output_type": "execute_result"
    }
   ],
   "source": [
    "vacuumFieldEquations = Matrix([psiLaplace,dgammadz,dgammadrho])\n",
    "vacuumFieldEquations"
   ]
  },
  {
   "cell_type": "code",
   "execution_count": 37,
   "id": "83447efe",
   "metadata": {},
   "outputs": [],
   "source": [
    "X, Y = map(Function, 'XY')"
   ]
  },
  {
   "cell_type": "code",
   "execution_count": 40,
   "id": "084fdd97",
   "metadata": {},
   "outputs": [
    {
     "data": {
      "image/png": "[encoded data removed]",
      "text/latex": [
       "$\\displaystyle \\frac{\\partial^{2}}{\\partial \\rho^{2}} \\psi{\\left(\\rho,z \\right)} + \\frac{\\partial^{2}}{\\partial z^{2}} \\psi{\\left(\\rho,z \\right)} + \\frac{\\frac{\\partial}{\\partial \\rho} \\psi{\\left(\\rho,z \\right)}}{\\rho} = 0$"
      ],
      "text/plain": [
       "                              ∂              \n",
       "  2              2            ──(ψ(ρ, z))    \n",
       " ∂              ∂             ∂ρ             \n",
       "───(ψ(ρ, z)) + ───(ψ(ρ, z)) + ─────────── = 0\n",
       "  2              2                 ρ         \n",
       "∂ρ             ∂z                            "
      ]
     },
     "execution_count": 40,
     "metadata": {},
     "output_type": "execute_result"
    }
   ],
   "source": [
    "eq = vacuumFieldEquations[0]\n",
    "eq"
   ]
  },
  {
   "cell_type": "code",
   "execution_count": 49,
   "id": "09030278",
   "metadata": {},
   "outputs": [
    {
     "data": {
      "image/png": "[encoded data removed]",
      "text/latex": [
       "$\\displaystyle \\frac{\\frac{d^{2}}{d \\rho^{2}} X{\\left(\\rho \\right)}}{X{\\left(\\rho \\right)}} + \\frac{\\frac{d}{d \\rho} X{\\left(\\rho \\right)}}{\\rho X{\\left(\\rho \\right)}} = - k^{2}$"
      ],
      "text/plain": [
       "  2                       \n",
       " d                        \n",
       "───(X(ρ))   d             \n",
       "  2         ──(X(ρ))      \n",
       "dρ          dρ           2\n",
       "───────── + ──────── = -k \n",
       "   X(ρ)      ρ⋅X(ρ)       "
      ]
     },
     "execution_count": 49,
     "metadata": {},
     "output_type": "execute_result"
    }
   ],
   "source": [
    "xODE = Eq(pde_separate( eq, psi, [X(rho),Y(z)])[0] , -k**2 ) \n",
    "xODE"
   ]
  },
  {
   "cell_type": "code",
   "execution_count": 48,
   "id": "739d0629",
   "metadata": {},
   "outputs": [
    {
     "data": {
      "image/png": "[encoded data removed]",
      "text/latex": [
       "$\\displaystyle X{\\left(\\rho \\right)} = C_{1} I_{0}\\left(\\rho \\left|{k}\\right|\\right) + C_{2} Y_{0}\\left(i \\rho \\left|{k}\\right|\\right)$"
      ],
      "text/plain": [
       "X(ρ) = C₁⋅besseli(0, ρ⋅│k│) + C₂⋅bessely(0, ⅈ⋅ρ⋅│k│)"
      ]
     },
     "execution_count": 48,
     "metadata": {},
     "output_type": "execute_result"
    }
   ],
   "source": [
    "xSolution = dsolve( xODE , X(rho))\n",
    "xSolution"
   ]
  },
  {
   "cell_type": "code",
   "execution_count": 43,
   "id": "86a84e70",
   "metadata": {},
   "outputs": [
    {
     "data": {
      "image/png": "[encoded data removed]",
      "text/latex": [
       "$\\displaystyle X{\\left(\\rho \\right)} = J_{0}\\left(k \\rho\\right)$"
      ],
      "text/plain": [
       "X(ρ) = besselj(0, k⋅ρ)"
      ]
     },
     "execution_count": 43,
     "metadata": {},
     "output_type": "execute_result"
    }
   ],
   "source": [
    "#  Here we arbitrarily set one of the Bessel functions equal to zero... fix this later\n",
    "xSolutionParticular = xSolution.subs(xSolution.args[1].args[0].args[0],1).subs(xSolution.args[1].args[1].args[0],0)\n",
    "xSolutionParticular"
   ]
  },
  {
   "cell_type": "code",
   "execution_count": 50,
   "id": "1a08b627",
   "metadata": {},
   "outputs": [
    {
     "data": {
      "image/png": "[encoded data removed]",
      "text/latex": [
       "$\\displaystyle - \\frac{\\frac{d^{2}}{d z^{2}} Y{\\left(z \\right)}}{Y{\\left(z \\right)}} = k^{2}$"
      ],
      "text/plain": [
       "   2            \n",
       "  d             \n",
       "-───(Y(z))      \n",
       "   2            \n",
       " dz            2\n",
       "─────────── = k \n",
       "    Y(z)        "
      ]
     },
     "execution_count": 50,
     "metadata": {},
     "output_type": "execute_result"
    }
   ],
   "source": [
    "yODE = Eq( pde_separate( eq, psi, [X(rho),Y(z)])[1] ,  k**2 ) \n",
    "yODE"
   ]
  },
  {
   "cell_type": "code",
   "execution_count": 51,
   "id": "5367d75a",
   "metadata": {},
   "outputs": [
    {
     "data": {
      "image/png": "[encoded data removed]",
      "text/latex": [
       "$\\displaystyle Y{\\left(z \\right)} = C_{1} \\sin{\\left(z \\left|{k}\\right| \\right)} + C_{2} \\cos{\\left(k z \\right)}$"
      ],
      "text/plain": [
       "Y(z) = C₁⋅sin(z⋅│k│) + C₂⋅cos(k⋅z)"
      ]
     },
     "execution_count": 51,
     "metadata": {},
     "output_type": "execute_result"
    }
   ],
   "source": [
    "ySolution = dsolve( yODE , Y(z))\n",
    "ySolution "
   ]
  },
  {
   "cell_type": "code",
   "execution_count": 52,
   "id": "ff956dd7",
   "metadata": {},
   "outputs": [
    {
     "data": {
      "image/png": "[encoded data removed]",
      "text/latex": [
       "$\\displaystyle Y{\\left(z \\right)} = \\cos{\\left(k z \\right)}$"
      ],
      "text/plain": [
       "Y(z) = cos(k⋅z)"
      ]
     },
     "execution_count": 52,
     "metadata": {},
     "output_type": "execute_result"
    }
   ],
   "source": [
    "#  Here we arbitrarily set sin equal to zero... fix this later\n",
    "ySolutionParticular = ySolution.subs(ySolution.args[1].args[0].args[0],0).subs(ySolution.args[1].args[1].args[0],1)\n",
    "ySolutionParticular"
   ]
  },
  {
   "cell_type": "code",
   "execution_count": 53,
   "id": "120452ae",
   "metadata": {},
   "outputs": [
    {
     "data": {
      "image/png": "[encoded data removed]",
      "text/latex": [
       "$\\displaystyle \\sum_{k=1}^{1} \\cos{\\left(k z \\right)} J_{0}\\left(k \\rho\\right)$"
      ],
      "text/plain": [
       "  1                           \n",
       " ___                          \n",
       " ╲                            \n",
       "  ╲                           \n",
       "  ╱   cos(k⋅z)⋅besselj(0, k⋅ρ)\n",
       " ╱                            \n",
       " ‾‾‾                          \n",
       "k = 1                         "
      ]
     },
     "execution_count": 53,
     "metadata": {},
     "output_type": "execute_result"
    }
   ],
   "source": [
    "#  Need to convert these from bessel functions to legendre polynomials.... \n",
    "Sum( ( xSolutionParticular.args[1] * ySolutionParticular.args[1] ) ,(k,1,1) )"
   ]
  },
  {
   "cell_type": "code",
   "execution_count": null,
   "id": "da46cf66",
   "metadata": {},
   "outputs": [],
   "source": []
  }
 ],
 "metadata": {
  "@webio": {
   "lastCommId": "f305fe37b30f4ba8806677fa284eae65",
   "lastKernelId": "62d44708-9232-4f97-ae1e-96942189912e"
  },
  "kernelspec": {
   "display_name": "Python 3 (ipykernel)",
   "language": "python",
   "name": "python3"
  },
  "language_info": {
   "codemirror_mode": {
    "name": "ipython",
    "version": 3
   },
   "file_extension": ".py",
   "mimetype": "text/x-python",
   "name": "python",
   "nbconvert_exporter": "python",
   "pygments_lexer": "ipython3",
   "version": "3.8.8"
  }
 },
 "nbformat": 4,
 "nbformat_minor": 5
}
