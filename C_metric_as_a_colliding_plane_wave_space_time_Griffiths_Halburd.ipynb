{
 "cells": [
  {
   "cell_type": "markdown",
   "id": "ff4df224",
   "metadata": {},
   "source": [
    "# C-metric as a colliding plane wave space-time by Griffiths and Halburd\n",
    "##  Geoff Cope\n",
    "##  Univeristy of Utah\n",
    "##  𐐏𐐭𐑌𐐲𐑂𐐲𐑉𐑅𐐮𐐻𐐨 𐐲𐑂 𐐏𐐭𐐻𐐫\n",
    "##  January 21, 2022"
   ]
  },
  {
   "cell_type": "markdown",
   "id": "c2bc5bc9",
   "metadata": {},
   "source": [
    "https://arxiv.org/abs/gr-qc/0701061"
   ]
  },
  {
   "cell_type": "markdown",
   "id": "b6af7d86",
   "metadata": {},
   "source": [
    "The metric that appears as equation 6 in this paper corresponds to equation 6.3 page 132 of Barrabes and Hogan.  We derive the field equations listed there using the same numbering.  Need to do coordinate transformation for function U,V,M later"
   ]
  },
  {
   "cell_type": "markdown",
   "id": "3f21acb4",
   "metadata": {},
   "source": [
    "https://www.worldscientific.com/worldscibooks/10.1142/5454"
   ]
  },
  {
   "cell_type": "code",
   "execution_count": 1,
   "id": "6f263ec2",
   "metadata": {},
   "outputs": [
    {
     "name": "stdout",
     "output_type": "stream",
     "text": [
      "IPython console for SymPy 1.9 (Python 3.8.8-64-bit) (ground types: gmpy)\n",
      "\n",
      "These commands were executed:\n",
      ">>> from __future__ import division\n",
      ">>> from sympy import *\n",
      ">>> x, y, z, t = symbols('x y z t')\n",
      ">>> k, m, n = symbols('k m n', integer=True)\n",
      ">>> f, g, h = symbols('f g h', cls=Function)\n",
      ">>> init_printing()\n",
      "\n",
      "Documentation can be found at https://docs.sympy.org/1.9/\n",
      "\n"
     ]
    }
   ],
   "source": [
    "from sympy import init_session\n",
    "init_session(use_latex=True)"
   ]
  },
  {
   "cell_type": "code",
   "execution_count": 2,
   "id": "37efbffb",
   "metadata": {},
   "outputs": [],
   "source": [
    "import warnings\n",
    "import matplotlib.cbook\n",
    "warnings.filterwarnings(\"ignore\",category=matplotlib.cbook.mplDeprecation)"
   ]
  },
  {
   "cell_type": "code",
   "execution_count": 3,
   "id": "67680eb3",
   "metadata": {},
   "outputs": [],
   "source": [
    "u,v,x,y,du,dv,dx,dy = symbols('u v x y du dv dx dy')"
   ]
  },
  {
   "cell_type": "code",
   "execution_count": 4,
   "id": "196613c3",
   "metadata": {},
   "outputs": [
    {
     "data": {
      "image/png": "[encoded data removed]",
      "text/latex": [
       "$\\displaystyle M{\\left(u,v \\right)}$"
      ],
      "text/plain": [
       "M(u, v)"
      ]
     },
     "execution_count": 4,
     "metadata": {},
     "output_type": "execute_result"
    }
   ],
   "source": [
    "M = Function('M')(u,v)\n",
    "M"
   ]
  },
  {
   "cell_type": "code",
   "execution_count": 5,
   "id": "75297207",
   "metadata": {},
   "outputs": [
    {
     "data": {
      "image/png": "[encoded data removed]",
      "text/latex": [
       "$\\displaystyle U{\\left(u,v \\right)}$"
      ],
      "text/plain": [
       "U(u, v)"
      ]
     },
     "execution_count": 5,
     "metadata": {},
     "output_type": "execute_result"
    }
   ],
   "source": [
    "U = Function('U')(u,v)\n",
    "U"
   ]
  },
  {
   "cell_type": "code",
   "execution_count": 6,
   "id": "3f5e3068",
   "metadata": {},
   "outputs": [
    {
     "data": {
      "image/png": "[encoded data removed]",
      "text/latex": [
       "$\\displaystyle V{\\left(u,v \\right)}$"
      ],
      "text/plain": [
       "V(u, v)"
      ]
     },
     "execution_count": 6,
     "metadata": {},
     "output_type": "execute_result"
    }
   ],
   "source": [
    "V = Function('V')(u,v)\n",
    "V"
   ]
  },
  {
   "cell_type": "code",
   "execution_count": 7,
   "id": "42aa9134",
   "metadata": {},
   "outputs": [
    {
     "data": {
      "text/latex": [
       "$\\displaystyle \\left[\\begin{matrix}u\\\\v\\\\x\\\\y\\end{matrix}\\right]$"
      ],
      "text/plain": [
       "⎡u⎤\n",
       "⎢ ⎥\n",
       "⎢v⎥\n",
       "⎢ ⎥\n",
       "⎢x⎥\n",
       "⎢ ⎥\n",
       "⎣y⎦"
      ]
     },
     "execution_count": 7,
     "metadata": {},
     "output_type": "execute_result"
    }
   ],
   "source": [
    "variables = Matrix([u,v,x,y])\n",
    "variables"
   ]
  },
  {
   "cell_type": "code",
   "execution_count": 8,
   "id": "e9bc9ba4",
   "metadata": {},
   "outputs": [
    {
     "data": {
      "text/latex": [
       "$\\displaystyle \\left[\\begin{matrix}du\\\\dv\\\\dx\\\\dy\\end{matrix}\\right]$"
      ],
      "text/plain": [
       "⎡du⎤\n",
       "⎢  ⎥\n",
       "⎢dv⎥\n",
       "⎢  ⎥\n",
       "⎢dx⎥\n",
       "⎢  ⎥\n",
       "⎣dy⎦"
      ]
     },
     "execution_count": 8,
     "metadata": {},
     "output_type": "execute_result"
    }
   ],
   "source": [
    "differentials = Matrix([du,dv,dx,dy])\n",
    "differentials "
   ]
  },
  {
   "cell_type": "code",
   "execution_count": 9,
   "id": "14f622c6",
   "metadata": {},
   "outputs": [
    {
     "data": {
      "image/png": "[encoded data removed]",
      "text/latex": [
       "$\\displaystyle - 2 du dv e^{- M{\\left(u,v \\right)}} + dx^{2} e^{- U{\\left(u,v \\right)}} e^{V{\\left(u,v \\right)}} + dy^{2} e^{- U{\\left(u,v \\right)}} e^{- V{\\left(u,v \\right)}}$"
      ],
      "text/plain": [
       "           -M(u, v)     2  -U(u, v)  V(u, v)     2  -U(u, v)  -V(u, v)\n",
       "- 2⋅du⋅dv⋅ℯ         + dx ⋅ℯ        ⋅ℯ        + dy ⋅ℯ        ⋅ℯ        "
      ]
     },
     "execution_count": 9,
     "metadata": {},
     "output_type": "execute_result"
    }
   ],
   "source": [
    "lineElement = expand( -2*exp(-M)*du*dv + exp(-U) * (exp(V)*dx**2 +exp(-V)*dy**2) ) \n",
    "lineElement"
   ]
  },
  {
   "cell_type": "code",
   "execution_count": 10,
   "id": "a3922666",
   "metadata": {},
   "outputs": [
    {
     "data": {
      "text/latex": [
       "$\\displaystyle \\left[\\begin{matrix}0 & - e^{- M{\\left(u,v \\right)}} & 0 & 0\\\\- e^{- M{\\left(u,v \\right)}} & 0 & 0 & 0\\\\0 & 0 & e^{- U{\\left(u,v \\right)}} e^{V{\\left(u,v \\right)}} & 0\\\\0 & 0 & 0 & e^{- U{\\left(u,v \\right)}} e^{- V{\\left(u,v \\right)}}\\end{matrix}\\right]$"
      ],
      "text/plain": [
       "⎡              -M(u, v)                                         ⎤\n",
       "⎢    0       -ℯ                  0                    0         ⎥\n",
       "⎢                                                               ⎥\n",
       "⎢  -M(u, v)                                                     ⎥\n",
       "⎢-ℯ              0               0                    0         ⎥\n",
       "⎢                                                               ⎥\n",
       "⎢                         -U(u, v)  V(u, v)                     ⎥\n",
       "⎢    0           0       ℯ        ⋅ℯ                  0         ⎥\n",
       "⎢                                                               ⎥\n",
       "⎢                                             -U(u, v)  -V(u, v)⎥\n",
       "⎣    0           0               0           ℯ        ⋅ℯ        ⎦"
      ]
     },
     "execution_count": 10,
     "metadata": {},
     "output_type": "execute_result"
    }
   ],
   "source": [
    "g = zeros(4)\n",
    "\n",
    "for i in range(4):\n",
    "    for j in range(4):\n",
    "        if i == j:\n",
    "            g[i,j] = lineElement.coeff( differentials[i],2 ) \n",
    "        else:\n",
    "            g[i,j] = Rational(1,2)*lineElement.coeff( differentials[i]*differentials[j],1 )\n",
    "            \n",
    "g"
   ]
  },
  {
   "cell_type": "code",
   "execution_count": 11,
   "id": "ec0b57ca",
   "metadata": {},
   "outputs": [],
   "source": [
    "import sympy"
   ]
  },
  {
   "cell_type": "code",
   "execution_count": 12,
   "id": "5597aa64",
   "metadata": {},
   "outputs": [
    {
     "data": {
      "text/latex": [
       "$\\displaystyle \\left[\\begin{matrix}0 & - e^{- M{\\left(u,v \\right)}} & 0 & 0\\\\- e^{- M{\\left(u,v \\right)}} & 0 & 0 & 0\\\\0 & 0 & e^{- U{\\left(u,v \\right)}} e^{V{\\left(u,v \\right)}} & 0\\\\0 & 0 & 0 & e^{- U{\\left(u,v \\right)}} e^{- V{\\left(u,v \\right)}}\\end{matrix}\\right]$"
      ],
      "text/plain": [
       "⎡              -M(u, v)                                         ⎤\n",
       "⎢    0       -ℯ                  0                    0         ⎥\n",
       "⎢                                                               ⎥\n",
       "⎢  -M(u, v)                                                     ⎥\n",
       "⎢-ℯ              0               0                    0         ⎥\n",
       "⎢                                                               ⎥\n",
       "⎢                         -U(u, v)  V(u, v)                     ⎥\n",
       "⎢    0           0       ℯ        ⋅ℯ                  0         ⎥\n",
       "⎢                                                               ⎥\n",
       "⎢                                             -U(u, v)  -V(u, v)⎥\n",
       "⎣    0           0               0           ℯ        ⋅ℯ        ⎦"
      ]
     },
     "execution_count": 12,
     "metadata": {},
     "output_type": "execute_result"
    }
   ],
   "source": [
    "m = sympy.Array(g)\n",
    "m"
   ]
  },
  {
   "cell_type": "code",
   "execution_count": 13,
   "id": "f8d5fec9",
   "metadata": {},
   "outputs": [],
   "source": [
    "from einsteinpy.symbolic import *"
   ]
  },
  {
   "cell_type": "code",
   "execution_count": 14,
   "id": "946c89a0",
   "metadata": {},
   "outputs": [],
   "source": [
    "syms = sympy.symbols(\"u v x y\")\n",
    "u,v,x,y = syms"
   ]
  },
  {
   "cell_type": "code",
   "execution_count": 15,
   "id": "8958feec",
   "metadata": {},
   "outputs": [],
   "source": [
    "metric = MetricTensor(m,syms)"
   ]
  },
  {
   "cell_type": "code",
   "execution_count": 16,
   "id": "5afe7a96",
   "metadata": {},
   "outputs": [
    {
     "data": {
      "text/latex": [
       "$\\displaystyle \\left[\\begin{matrix}\\left[\\begin{matrix}- \\frac{\\partial}{\\partial u} M{\\left(u,v \\right)} & 0 & 0 & 0\\\\0 & 0 & 0 & 0\\\\0 & 0 & \\frac{\\left(- \\frac{\\partial}{\\partial v} U{\\left(u,v \\right)} + \\frac{\\partial}{\\partial v} V{\\left(u,v \\right)}\\right) e^{M{\\left(u,v \\right)} - U{\\left(u,v \\right)} + V{\\left(u,v \\right)}}}{2} & 0\\\\0 & 0 & 0 & - \\frac{\\left(\\frac{\\partial}{\\partial v} U{\\left(u,v \\right)} + \\frac{\\partial}{\\partial v} V{\\left(u,v \\right)}\\right) e^{M{\\left(u,v \\right)} - U{\\left(u,v \\right)} - V{\\left(u,v \\right)}}}{2}\\end{matrix}\\right] & \\left[\\begin{matrix}0 & 0 & 0 & 0\\\\0 & - \\frac{\\partial}{\\partial v} M{\\left(u,v \\right)} & 0 & 0\\\\0 & 0 & \\frac{\\left(- \\frac{\\partial}{\\partial u} U{\\left(u,v \\right)} + \\frac{\\partial}{\\partial u} V{\\left(u,v \\right)}\\right) e^{M{\\left(u,v \\right)} - U{\\left(u,v \\right)} + V{\\left(u,v \\right)}}}{2} & 0\\\\0 & 0 & 0 & - \\frac{\\left(\\frac{\\partial}{\\partial u} U{\\left(u,v \\right)} + \\frac{\\partial}{\\partial u} V{\\left(u,v \\right)}\\right) e^{M{\\left(u,v \\right)} - U{\\left(u,v \\right)} - V{\\left(u,v \\right)}}}{2}\\end{matrix}\\right] & \\left[\\begin{matrix}0 & 0 & - \\frac{\\frac{\\partial}{\\partial u} U{\\left(u,v \\right)}}{2} + \\frac{\\frac{\\partial}{\\partial u} V{\\left(u,v \\right)}}{2} & 0\\\\0 & 0 & - \\frac{\\frac{\\partial}{\\partial v} U{\\left(u,v \\right)}}{2} + \\frac{\\frac{\\partial}{\\partial v} V{\\left(u,v \\right)}}{2} & 0\\\\- \\frac{\\frac{\\partial}{\\partial u} U{\\left(u,v \\right)}}{2} + \\frac{\\frac{\\partial}{\\partial u} V{\\left(u,v \\right)}}{2} & - \\frac{\\frac{\\partial}{\\partial v} U{\\left(u,v \\right)}}{2} + \\frac{\\frac{\\partial}{\\partial v} V{\\left(u,v \\right)}}{2} & 0 & 0\\\\0 & 0 & 0 & 0\\end{matrix}\\right] & \\left[\\begin{matrix}0 & 0 & 0 & - \\frac{\\frac{\\partial}{\\partial u} U{\\left(u,v \\right)}}{2} - \\frac{\\frac{\\partial}{\\partial u} V{\\left(u,v \\right)}}{2}\\\\0 & 0 & 0 & - \\frac{\\frac{\\partial}{\\partial v} U{\\left(u,v \\right)}}{2} - \\frac{\\frac{\\partial}{\\partial v} V{\\left(u,v \\right)}}{2}\\\\0 & 0 & 0 & 0\\\\- \\frac{\\frac{\\partial}{\\partial u} U{\\left(u,v \\right)}}{2} - \\frac{\\frac{\\partial}{\\partial u} V{\\left(u,v \\right)}}{2} & - \\frac{\\frac{\\partial}{\\partial v} U{\\left(u,v \\right)}}{2} - \\frac{\\frac{\\partial}{\\partial v} V{\\left(u,v \\right)}}{2} & 0 & 0\\end{matrix}\\right]\\end{matrix}\\right]$"
      ],
      "text/plain": [
       "⎡                                                                                                                                      \n",
       "⎢⎡ ∂                                                                                                                                   \n",
       "⎢⎢-──(M(u, v))  0                              0                                                           0                           \n",
       "⎢⎢ ∂u                                                                                                                                  \n",
       "⎢⎢                                                                                                                                     \n",
       "⎢⎢     0        0                              0                                                           0                           \n",
       "⎢⎢                                                                                                                                     \n",
       "⎢⎢                 ⎛  ∂             ∂          ⎞  M(u, v) - U(u, v) + V(u, v)                                                          \n",
       "⎢⎢                 ⎜- ──(U(u, v)) + ──(V(u, v))⎟⋅ℯ                                                                                     \n",
       "⎢⎢                 ⎝  ∂v            ∂v         ⎠                                                                                       \n",
       "⎢⎢     0        0  ──────────────────────────────────────────────────────────                              0                           \n",
       "⎢⎢                                             2                                                                                       \n",
       "⎢⎢                                                                                                                                     \n",
       "⎢⎢                                                                              ⎛∂             ∂          ⎞  M(u, v) - U(u, v) - V(u, v\n",
       "⎢⎢                                                                             -⎜──(U(u, v)) + ──(V(u, v))⎟⋅ℯ                          \n",
       "⎢⎢                                                                              ⎝∂v            ∂v         ⎠                            \n",
       "⎢⎢     0        0                              0                               ────────────────────────────────────────────────────────\n",
       "⎢⎣                                                                                                         2                           \n",
       "⎣                                                                                                                                      \n",
       "\n",
       "                                                                                                                                       \n",
       "  ⎤  ⎡0       0                                    0                                                           0                       \n",
       "  ⎥  ⎢                                                                                                                                 \n",
       "  ⎥  ⎢    ∂                                                                                                                            \n",
       "  ⎥  ⎢0  -──(M(u, v))                              0                                                           0                       \n",
       "  ⎥  ⎢    ∂v                                                                                                                           \n",
       "  ⎥  ⎢                                                                                                                                 \n",
       "  ⎥  ⎢                 ⎛  ∂             ∂          ⎞  M(u, v) - U(u, v) + V(u, v)                                                      \n",
       "  ⎥  ⎢                 ⎜- ──(U(u, v)) + ──(V(u, v))⎟⋅ℯ                                                                                 \n",
       "  ⎥  ⎢                 ⎝  ∂u            ∂u         ⎠                                                                                   \n",
       "  ⎥  ⎢0       0        ──────────────────────────────────────────────────────────                              0                       \n",
       "  ⎥  ⎢                                             2                                                                                   \n",
       "  ⎥  ⎢                                                                                                                                 \n",
       ") ⎥  ⎢                                                                              ⎛∂             ∂          ⎞  M(u, v) - U(u, v) - V(\n",
       "  ⎥  ⎢                                                                             -⎜──(U(u, v)) + ──(V(u, v))⎟⋅ℯ                      \n",
       "  ⎥  ⎢                                                                              ⎝∂u            ∂u         ⎠                        \n",
       "──⎥  ⎢0       0                                    0                               ────────────────────────────────────────────────────\n",
       "  ⎦  ⎣                                                                                                         2                       \n",
       "                                                                                                                                       \n",
       "\n",
       "         ⎡                                                            ∂             ∂             ⎤  ⎡                                 \n",
       "      ⎤  ⎢                                                            ──(U(u, v))   ──(V(u, v))   ⎥  ⎢                                 \n",
       "      ⎥  ⎢                                                            ∂u            ∂u            ⎥  ⎢                                 \n",
       "      ⎥  ⎢             0                            0               - ─────────── + ───────────  0⎥  ⎢             0                   \n",
       "      ⎥  ⎢                                                                 2             2        ⎥  ⎢                                 \n",
       "      ⎥  ⎢                                                                                        ⎥  ⎢                                 \n",
       "      ⎥  ⎢                                                            ∂             ∂             ⎥  ⎢                                 \n",
       "      ⎥  ⎢                                                            ──(U(u, v))   ──(V(u, v))   ⎥  ⎢                                 \n",
       "      ⎥  ⎢                                                            ∂v            ∂v            ⎥  ⎢                                 \n",
       "      ⎥  ⎢             0                            0               - ─────────── + ───────────  0⎥  ⎢             0                   \n",
       "      ⎥  ⎢                                                                 2             2        ⎥  ⎢                                 \n",
       "      ⎥  ⎢                                                                                        ⎥  ⎢                                 \n",
       "      ⎥  ⎢  ∂             ∂              ∂             ∂                                          ⎥  ⎢             0                   \n",
       "u, v) ⎥  ⎢  ──(U(u, v))   ──(V(u, v))    ──(U(u, v))   ──(V(u, v))                                ⎥  ⎢                                 \n",
       "      ⎥  ⎢  ∂u            ∂u             ∂v            ∂v                                         ⎥  ⎢  ∂             ∂              ∂ \n",
       "      ⎥  ⎢- ─────────── + ───────────  - ─────────── + ───────────               0               0⎥  ⎢  ──(U(u, v))   ──(V(u, v))    ──\n",
       "──────⎥  ⎢       2             2              2             2                                     ⎥  ⎢  ∂u            ∂u             ∂v\n",
       "      ⎦  ⎢                                                                                        ⎥  ⎢- ─────────── - ───────────  - ──\n",
       "         ⎣             0                            0                            0               0⎦  ⎣       2             2           \n",
       "\n",
       "                              ∂             ∂          ⎤⎤\n",
       "                              ──(U(u, v))   ──(V(u, v))⎥⎥\n",
       "                              ∂u            ∂u         ⎥⎥\n",
       "         0               0  - ─────────── - ───────────⎥⎥\n",
       "                                   2             2     ⎥⎥\n",
       "                                                       ⎥⎥\n",
       "                              ∂             ∂          ⎥⎥\n",
       "                              ──(U(u, v))   ──(V(u, v))⎥⎥\n",
       "                              ∂v            ∂v         ⎥⎥\n",
       "         0               0  - ─────────── - ───────────⎥⎥\n",
       "                                   2             2     ⎥⎥\n",
       "                                                       ⎥⎥\n",
       "         0               0               0             ⎥⎥\n",
       "                                                       ⎥⎥\n",
       "            ∂                                          ⎥⎥\n",
       "(U(u, v))   ──(V(u, v))                                ⎥⎥\n",
       "            ∂v                                         ⎥⎥\n",
       "───────── - ───────────  0               0             ⎥⎥\n",
       "   2             2                                     ⎦⎦"
      ]
     },
     "execution_count": 16,
     "metadata": {},
     "output_type": "execute_result"
    }
   ],
   "source": [
    "ch = ChristoffelSymbols.from_metric(metric)\n",
    "simplify(ch.tensor())"
   ]
  },
  {
   "cell_type": "code",
   "execution_count": 17,
   "id": "941455eb",
   "metadata": {},
   "outputs": [
    {
     "data": {
      "text/latex": [
       "$\\displaystyle \\left[\\begin{matrix}\\frac{\\partial}{\\partial u} M{\\left(u,v \\right)} \\frac{\\partial}{\\partial u} U{\\left(u,v \\right)} - \\frac{\\left(\\frac{\\partial}{\\partial u} U{\\left(u,v \\right)}\\right)^{2}}{2} + \\frac{\\partial^{2}}{\\partial u^{2}} U{\\left(u,v \\right)} - \\frac{\\left(\\frac{\\partial}{\\partial u} V{\\left(u,v \\right)}\\right)^{2}}{2} & - \\frac{\\frac{\\partial}{\\partial u} U{\\left(u,v \\right)} \\frac{\\partial}{\\partial v} U{\\left(u,v \\right)}}{2} - \\frac{\\frac{\\partial}{\\partial u} V{\\left(u,v \\right)} \\frac{\\partial}{\\partial v} V{\\left(u,v \\right)}}{2} + \\frac{\\partial^{2}}{\\partial v\\partial u} M{\\left(u,v \\right)} + \\frac{\\partial^{2}}{\\partial v\\partial u} U{\\left(u,v \\right)} & 0 & 0\\\\- \\frac{\\frac{\\partial}{\\partial u} U{\\left(u,v \\right)} \\frac{\\partial}{\\partial v} U{\\left(u,v \\right)}}{2} - \\frac{\\frac{\\partial}{\\partial u} V{\\left(u,v \\right)} \\frac{\\partial}{\\partial v} V{\\left(u,v \\right)}}{2} + \\frac{\\partial^{2}}{\\partial v\\partial u} M{\\left(u,v \\right)} + \\frac{\\partial^{2}}{\\partial v\\partial u} U{\\left(u,v \\right)} & \\frac{\\partial}{\\partial v} M{\\left(u,v \\right)} \\frac{\\partial}{\\partial v} U{\\left(u,v \\right)} - \\frac{\\left(\\frac{\\partial}{\\partial v} U{\\left(u,v \\right)}\\right)^{2}}{2} + \\frac{\\partial^{2}}{\\partial v^{2}} U{\\left(u,v \\right)} - \\frac{\\left(\\frac{\\partial}{\\partial v} V{\\left(u,v \\right)}\\right)^{2}}{2} & 0 & 0\\\\0 & 0 & \\left(\\frac{\\partial}{\\partial u} U{\\left(u,v \\right)} \\frac{\\partial}{\\partial v} U{\\left(u,v \\right)} - \\frac{\\frac{\\partial}{\\partial u} U{\\left(u,v \\right)} \\frac{\\partial}{\\partial v} V{\\left(u,v \\right)}}{2} - \\frac{\\frac{\\partial}{\\partial v} U{\\left(u,v \\right)} \\frac{\\partial}{\\partial u} V{\\left(u,v \\right)}}{2} - \\frac{\\partial^{2}}{\\partial v\\partial u} U{\\left(u,v \\right)} + \\frac{\\partial^{2}}{\\partial v\\partial u} V{\\left(u,v \\right)}\\right) e^{M{\\left(u,v \\right)} - U{\\left(u,v \\right)} + V{\\left(u,v \\right)}} & 0\\\\0 & 0 & 0 & \\left(\\frac{\\partial}{\\partial u} U{\\left(u,v \\right)} \\frac{\\partial}{\\partial v} U{\\left(u,v \\right)} + \\frac{\\frac{\\partial}{\\partial u} U{\\left(u,v \\right)} \\frac{\\partial}{\\partial v} V{\\left(u,v \\right)}}{2} + \\frac{\\frac{\\partial}{\\partial v} U{\\left(u,v \\right)} \\frac{\\partial}{\\partial u} V{\\left(u,v \\right)}}{2} - \\frac{\\partial^{2}}{\\partial v\\partial u} U{\\left(u,v \\right)} - \\frac{\\partial^{2}}{\\partial v\\partial u} V{\\left(u,v \\right)}\\right) e^{M{\\left(u,v \\right)} - U{\\left(u,v \\right)} - V{\\left(u,v \\right)}}\\end{matrix}\\right]$"
      ],
      "text/plain": [
       "⎡                                             2                               2                                                        \n",
       "⎢                                ⎛∂          ⎞                   ⎛∂          ⎞            ∂           ∂             ∂           ∂      \n",
       "⎢                                ⎜──(U(u, v))⎟      2            ⎜──(V(u, v))⎟            ──(U(u, v))⋅──(U(u, v))   ──(V(u, v))⋅──(V(u,\n",
       "⎢      ∂           ∂             ⎝∂u         ⎠     ∂             ⎝∂u         ⎠            ∂u          ∂v            ∂u          ∂v     \n",
       "⎢      ──(M(u, v))⋅──(U(u, v)) - ────────────── + ───(U(u, v)) - ──────────────         - ─────────────────────── - ───────────────────\n",
       "⎢      ∂u          ∂u                  2            2                  2                             2                         2       \n",
       "⎢                                                 ∂u                                                                                   \n",
       "⎢                                                                                                                                      \n",
       "⎢                                                                                                                                    2 \n",
       "⎢  ∂           ∂             ∂           ∂                                                                              ⎛∂          ⎞  \n",
       "⎢  ──(U(u, v))⋅──(U(u, v))   ──(V(u, v))⋅──(V(u, v))      2                2                                            ⎜──(U(u, v))⎟  \n",
       "⎢  ∂u          ∂v            ∂u          ∂v              ∂                ∂                   ∂           ∂             ⎝∂v         ⎠  \n",
       "⎢- ─────────────────────── - ─────────────────────── + ─────(M(u, v)) + ─────(U(u, v))        ──(M(u, v))⋅──(U(u, v)) - ────────────── \n",
       "⎢             2                         2              ∂v ∂u            ∂v ∂u                 ∂v          ∂v                  2        \n",
       "⎢                                                                                                                                      \n",
       "⎢                                                                                                                                      \n",
       "⎢                                                                                                                                      \n",
       "⎢                                                                                                                                      \n",
       "⎢                                                                                                                                      \n",
       "⎢                                          0                                                                                      0    \n",
       "⎢                                                                                                                                      \n",
       "⎢                                                                                                                                      \n",
       "⎢                                                                                                                                      \n",
       "⎢                                                                                                                                      \n",
       "⎢                                                                                                                                      \n",
       "⎢                                          0                                                                                      0    \n",
       "⎣                                                                                                                                      \n",
       "\n",
       "                                                                                                                                       \n",
       "                                                                                                                                       \n",
       " v))      2                2                                                                                                           \n",
       "         ∂                ∂                                                                                                            \n",
       "──── + ─────(M(u, v)) + ─────(U(u, v))                                                                       0                         \n",
       "       ∂v ∂u            ∂v ∂u                                                                                                          \n",
       "                                                                                                                                       \n",
       "                                                                                                                                       \n",
       "                              2                                                                                                        \n",
       "                 ⎛∂          ⎞                                                                                                         \n",
       "    2            ⎜──(V(u, v))⎟                                                                                                         \n",
       "   ∂             ⎝∂v         ⎠                                                                                                         \n",
       "+ ───(U(u, v)) - ──────────────                                                                              0                         \n",
       "    2                  2                                                                                                               \n",
       "  ∂v                                                                                                                                   \n",
       "                                                                                                                                       \n",
       "                                        ⎛                          ∂           ∂             ∂           ∂                             \n",
       "                                        ⎜                          ──(U(u, v))⋅──(V(u, v))   ──(U(u, v))⋅──(V(u, v))      2            \n",
       "                                        ⎜∂           ∂             ∂u          ∂v            ∂v          ∂u              ∂             \n",
       "                                        ⎜──(U(u, v))⋅──(U(u, v)) - ─────────────────────── - ─────────────────────── - ─────(U(u, v)) +\n",
       "                                        ⎝∂u          ∂v                       2                         2              ∂v ∂u           \n",
       "                                                                                                                                       \n",
       "                                                                                                                                       \n",
       "                                                                                                                                       \n",
       "                                                                                                                                       \n",
       "                                                                                                             0                         \n",
       "                                                                                                                                       \n",
       "\n",
       "                                                                                                                                       \n",
       "                                                                                                                                       \n",
       "                                                                                                                                       \n",
       "                                                                                                                                       \n",
       "                                                                                                                    0                  \n",
       "                                                                                                                                       \n",
       "                                                                                                                                       \n",
       "                                                                                                                                       \n",
       "                                                                                                                                       \n",
       "                                                                                                                                       \n",
       "                                                                                                                                       \n",
       "                                                                                                                                       \n",
       "                                                                                                                    0                  \n",
       "                                                                                                                                       \n",
       "                                                                                                                                       \n",
       "                                                                                                                                       \n",
       "               ⎞                                                                                                                       \n",
       "    2          ⎟                                                                                                                       \n",
       "   ∂           ⎟  M(u, v) - U(u, v) + V(u, v)                                                                                          \n",
       " ─────(V(u, v))⎟⋅ℯ                                                                                                  0                  \n",
       " ∂v ∂u         ⎠                                                                                                                       \n",
       "                                                                                                                                       \n",
       "                                               ⎛                          ∂           ∂             ∂           ∂                      \n",
       "                                               ⎜                          ──(U(u, v))⋅──(V(u, v))   ──(U(u, v))⋅──(V(u, v))      2     \n",
       "                                               ⎜∂           ∂             ∂u          ∂v            ∂v          ∂u              ∂      \n",
       "                                               ⎜──(U(u, v))⋅──(U(u, v)) + ─────────────────────── + ─────────────────────── - ─────(U(u\n",
       "                                               ⎝∂u          ∂v                       2                         2              ∂v ∂u    \n",
       "\n",
       "                                                    ⎤\n",
       "                                                    ⎥\n",
       "                                                    ⎥\n",
       "                                                    ⎥\n",
       "                                                    ⎥\n",
       "                                                    ⎥\n",
       "                                                    ⎥\n",
       "                                                    ⎥\n",
       "                                                    ⎥\n",
       "                                                    ⎥\n",
       "                                                    ⎥\n",
       "                                                    ⎥\n",
       "                                                    ⎥\n",
       "                                                    ⎥\n",
       "                                                    ⎥\n",
       "                                                    ⎥\n",
       "                                                    ⎥\n",
       "                                                    ⎥\n",
       "                                                    ⎥\n",
       "                                                    ⎥\n",
       "                                                    ⎥\n",
       "                                                    ⎥\n",
       "                      ⎞                             ⎥\n",
       "           2          ⎟                             ⎥\n",
       "          ∂           ⎟  M(u, v) - U(u, v) - V(u, v)⎥\n",
       ", v)) - ─────(V(u, v))⎟⋅ℯ                           ⎥\n",
       "        ∂v ∂u         ⎠                             ⎦"
      ]
     },
     "execution_count": 17,
     "metadata": {},
     "output_type": "execute_result"
    }
   ],
   "source": [
    "Ric = RicciTensor.from_metric(metric)\n",
    "Ric.tensor()"
   ]
  },
  {
   "cell_type": "code",
   "execution_count": 18,
   "id": "a9cff942",
   "metadata": {},
   "outputs": [
    {
     "data": {
      "image/png": "[encoded data removed]",
      "text/latex": [
       "$\\displaystyle \\left(3 \\frac{\\partial}{\\partial u} U{\\left(u,v \\right)} \\frac{\\partial}{\\partial v} U{\\left(u,v \\right)} + \\frac{\\partial}{\\partial u} V{\\left(u,v \\right)} \\frac{\\partial}{\\partial v} V{\\left(u,v \\right)} - 2 \\frac{\\partial^{2}}{\\partial v\\partial u} M{\\left(u,v \\right)} - 4 \\frac{\\partial^{2}}{\\partial v\\partial u} U{\\left(u,v \\right)}\\right) e^{M{\\left(u,v \\right)}}$"
      ],
      "text/plain": [
       "⎛                                                           2                  2          ⎞         \n",
       "⎜  ∂           ∂             ∂           ∂                 ∂                  ∂           ⎟  M(u, v)\n",
       "⎜3⋅──(U(u, v))⋅──(U(u, v)) + ──(V(u, v))⋅──(V(u, v)) - 2⋅─────(M(u, v)) - 4⋅─────(U(u, v))⎟⋅ℯ       \n",
       "⎝  ∂u          ∂v            ∂u          ∂v              ∂v ∂u              ∂v ∂u         ⎠         "
      ]
     },
     "execution_count": 18,
     "metadata": {},
     "output_type": "execute_result"
    }
   ],
   "source": [
    "R = RicciScalar.from_riccitensor(Ric)\n",
    "R.simplify()\n",
    "R.expr"
   ]
  },
  {
   "cell_type": "code",
   "execution_count": 19,
   "id": "bd2d9673",
   "metadata": {},
   "outputs": [
    {
     "data": {
      "text/latex": [
       "$\\displaystyle \\left[\\begin{matrix}\\frac{\\partial}{\\partial u} M{\\left(u,v \\right)} \\frac{\\partial}{\\partial u} U{\\left(u,v \\right)} - \\frac{\\left(\\frac{\\partial}{\\partial u} U{\\left(u,v \\right)}\\right)^{2}}{2} + \\frac{\\partial^{2}}{\\partial u^{2}} U{\\left(u,v \\right)} - \\frac{\\left(\\frac{\\partial}{\\partial u} V{\\left(u,v \\right)}\\right)^{2}}{2} & 1.0 \\frac{\\partial}{\\partial u} U{\\left(u,v \\right)} \\frac{\\partial}{\\partial v} U{\\left(u,v \\right)} - 1.0 \\frac{\\partial^{2}}{\\partial v\\partial u} U{\\left(u,v \\right)} & 0 & 0\\\\1.0 \\frac{\\partial}{\\partial u} U{\\left(u,v \\right)} \\frac{\\partial}{\\partial v} U{\\left(u,v \\right)} - 1.0 \\frac{\\partial^{2}}{\\partial v\\partial u} U{\\left(u,v \\right)} & \\frac{\\partial}{\\partial v} M{\\left(u,v \\right)} \\frac{\\partial}{\\partial v} U{\\left(u,v \\right)} - \\frac{\\left(\\frac{\\partial}{\\partial v} U{\\left(u,v \\right)}\\right)^{2}}{2} + \\frac{\\partial^{2}}{\\partial v^{2}} U{\\left(u,v \\right)} - \\frac{\\left(\\frac{\\partial}{\\partial v} V{\\left(u,v \\right)}\\right)^{2}}{2} & 0 & 0\\\\0 & 0 & - 0.5 \\left(3 \\frac{\\partial}{\\partial u} U{\\left(u,v \\right)} \\frac{\\partial}{\\partial v} U{\\left(u,v \\right)} + \\frac{\\partial}{\\partial u} V{\\left(u,v \\right)} \\frac{\\partial}{\\partial v} V{\\left(u,v \\right)} - 2 \\frac{\\partial^{2}}{\\partial v\\partial u} M{\\left(u,v \\right)} - 4 \\frac{\\partial^{2}}{\\partial v\\partial u} U{\\left(u,v \\right)}\\right) e^{M{\\left(u,v \\right)}} e^{- U{\\left(u,v \\right)}} e^{V{\\left(u,v \\right)}} + \\left(\\frac{\\partial}{\\partial u} U{\\left(u,v \\right)} \\frac{\\partial}{\\partial v} U{\\left(u,v \\right)} - \\frac{\\frac{\\partial}{\\partial u} U{\\left(u,v \\right)} \\frac{\\partial}{\\partial v} V{\\left(u,v \\right)}}{2} - \\frac{\\frac{\\partial}{\\partial v} U{\\left(u,v \\right)} \\frac{\\partial}{\\partial u} V{\\left(u,v \\right)}}{2} - \\frac{\\partial^{2}}{\\partial v\\partial u} U{\\left(u,v \\right)} + \\frac{\\partial^{2}}{\\partial v\\partial u} V{\\left(u,v \\right)}\\right) e^{M{\\left(u,v \\right)} - U{\\left(u,v \\right)} + V{\\left(u,v \\right)}} & 0\\\\0 & 0 & 0 & - 0.5 \\left(3 \\frac{\\partial}{\\partial u} U{\\left(u,v \\right)} \\frac{\\partial}{\\partial v} U{\\left(u,v \\right)} + \\frac{\\partial}{\\partial u} V{\\left(u,v \\right)} \\frac{\\partial}{\\partial v} V{\\left(u,v \\right)} - 2 \\frac{\\partial^{2}}{\\partial v\\partial u} M{\\left(u,v \\right)} - 4 \\frac{\\partial^{2}}{\\partial v\\partial u} U{\\left(u,v \\right)}\\right) e^{M{\\left(u,v \\right)}} e^{- U{\\left(u,v \\right)}} e^{- V{\\left(u,v \\right)}} + \\left(\\frac{\\partial}{\\partial u} U{\\left(u,v \\right)} \\frac{\\partial}{\\partial v} U{\\left(u,v \\right)} + \\frac{\\frac{\\partial}{\\partial u} U{\\left(u,v \\right)} \\frac{\\partial}{\\partial v} V{\\left(u,v \\right)}}{2} + \\frac{\\frac{\\partial}{\\partial v} U{\\left(u,v \\right)} \\frac{\\partial}{\\partial u} V{\\left(u,v \\right)}}{2} - \\frac{\\partial^{2}}{\\partial v\\partial u} U{\\left(u,v \\right)} - \\frac{\\partial^{2}}{\\partial v\\partial u} V{\\left(u,v \\right)}\\right) e^{M{\\left(u,v \\right)} - U{\\left(u,v \\right)} - V{\\left(u,v \\right)}}\\end{matrix}\\right]$"
      ],
      "text/plain": [
       "⎡                                       2                               2                                                              \n",
       "⎢                          ⎛∂          ⎞                   ⎛∂          ⎞                                                               \n",
       "⎢                          ⎜──(U(u, v))⎟      2            ⎜──(V(u, v))⎟                                                  2            \n",
       "⎢∂           ∂             ⎝∂u         ⎠     ∂             ⎝∂u         ⎠                     ∂           ∂               ∂             \n",
       "⎢──(M(u, v))⋅──(U(u, v)) - ────────────── + ───(U(u, v)) - ──────────────                1.0⋅──(U(u, v))⋅──(U(u, v)) - ─────(U(u, v))  \n",
       "⎢∂u          ∂u                  2            2                  2                           ∂u          ∂v            ∂v ∂u           \n",
       "⎢                                           ∂u                                                                                         \n",
       "⎢                                                                                                                                      \n",
       "⎢                                                                                                                 2                    \n",
       "⎢                                                                                                    ⎛∂          ⎞                   ⎛∂\n",
       "⎢                                               2                                                    ⎜──(U(u, v))⎟      2            ⎜─\n",
       "⎢                  ∂           ∂               ∂                           ∂           ∂             ⎝∂v         ⎠     ∂             ⎝∂\n",
       "⎢              1.0⋅──(U(u, v))⋅──(U(u, v)) - ─────(U(u, v))                ──(M(u, v))⋅──(U(u, v)) - ────────────── + ───(U(u, v)) - ──\n",
       "⎢                  ∂u          ∂v            ∂v ∂u                         ∂v          ∂v                  2            2              \n",
       "⎢                                                                                                                     ∂v               \n",
       "⎢                                                                                                                                      \n",
       "⎢                                                                                                                                      \n",
       "⎢                                                                                                                                      \n",
       "⎢                                                                                                                                      \n",
       "⎢                                   0                                                                         0                        \n",
       "⎢                                                                                                                                      \n",
       "⎢                                                                                                                                      \n",
       "⎢                                                                                                                                      \n",
       "⎢                                                                                                                                      \n",
       "⎢                                                                                                                                      \n",
       "⎢                                   0                                                                         0                        \n",
       "⎣                                                                                                                                      \n",
       "\n",
       "                                                                                                                                       \n",
       "                                                                                                                                       \n",
       "                                                                                                                                       \n",
       "                                                                                                                                       \n",
       "                                                                                                                                       \n",
       "                                                                                                                                       \n",
       "                                                                                                                                       \n",
       "                                                                                                                                       \n",
       "           2                                                                                                                           \n",
       "          ⎞                                                                                                                            \n",
       "─(V(u, v))⎟                                                                                                                            \n",
       "v         ⎠                                                                                                                            \n",
       "────────────                                                                                                                           \n",
       "    2                                                                                                                                  \n",
       "                                                                                                                                       \n",
       "                                                                                                                                       \n",
       "                                                                                                                                       \n",
       "                    ⎛                                                           2                  2          ⎞                        \n",
       "                    ⎜  ∂           ∂             ∂           ∂                 ∂                  ∂           ⎟  M(u, v)  -U(u, v)  V(u\n",
       "              - 0.5⋅⎜3⋅──(U(u, v))⋅──(U(u, v)) + ──(V(u, v))⋅──(V(u, v)) - 2⋅─────(M(u, v)) - 4⋅─────(U(u, v))⎟⋅ℯ       ⋅ℯ        ⋅ℯ   \n",
       "                    ⎝  ∂u          ∂v            ∂u          ∂v              ∂v ∂u              ∂v ∂u         ⎠                        \n",
       "                                                                                                                                       \n",
       "                                                                                                                                       \n",
       "                                                                                                                                       \n",
       "                                                                                                                                       \n",
       "                                                                                                                                       \n",
       "                                                                                                                                       \n",
       "\n",
       "                                                                                                                                       \n",
       "                                                                                                                                       \n",
       "                                                                                                                                       \n",
       "                                                                                                                                       \n",
       "            0                                                                                                                          \n",
       "                                                                                                                                       \n",
       "                                                                                                                                       \n",
       "                                                                                                                                       \n",
       "                                                                                                                                       \n",
       "                                                                                                                                       \n",
       "                                                                                                                                       \n",
       "                                                                                                                                       \n",
       "            0                                                                                                                          \n",
       "                                                                                                                                       \n",
       "                                                                                                                                       \n",
       "                                                                                                                                       \n",
       "       ⎛                          ∂           ∂             ∂           ∂                                            ⎞                 \n",
       "       ⎜                          ──(U(u, v))⋅──(V(u, v))   ──(U(u, v))⋅──(V(u, v))      2                2          ⎟                 \n",
       ", v)   ⎜∂           ∂             ∂u          ∂v            ∂v          ∂u              ∂                ∂           ⎟  M(u, v) - U(u, \n",
       "     + ⎜──(U(u, v))⋅──(U(u, v)) - ─────────────────────── - ─────────────────────── - ─────(U(u, v)) + ─────(V(u, v))⎟⋅ℯ               \n",
       "       ⎝∂u          ∂v                       2                         2              ∂v ∂u            ∂v ∂u         ⎠                 \n",
       "                                                                                                                                       \n",
       "                                                                                                                                       \n",
       "                                                                                                                                       \n",
       "                                                                                                                                       \n",
       "            0                                                                                                                          \n",
       "                                                                                                                                       \n",
       "\n",
       "                                                                                                                                       \n",
       "                                                                                                                                       \n",
       "                                                                                                                                       \n",
       "                                                                                                                                       \n",
       "                                                                                                                                       \n",
       "                                                                                                                                       \n",
       "                                                                                                                                       \n",
       "                                                                                                                                       \n",
       "                                                                                                                                       \n",
       "                                                                                                                                       \n",
       "                                                                                                                                       \n",
       "                                                                                                                                       \n",
       "                                                                                                                                       \n",
       "                                                                                                                                       \n",
       "                                                                                                                                       \n",
       "                                                                                                                                       \n",
       "                                                                                                                                       \n",
       "                                                                                                                                       \n",
       "v) + V(u, v)                                                                                                                           \n",
       "                                                                                                                                       \n",
       "                                                                                                                                       \n",
       "                                                                                                                                       \n",
       "                                                                                                                                       \n",
       "                    ⎛                                                           2                  2          ⎞                        \n",
       "                    ⎜  ∂           ∂             ∂           ∂                 ∂                  ∂           ⎟  M(u, v)  -U(u, v)  -V(\n",
       "              - 0.5⋅⎜3⋅──(U(u, v))⋅──(U(u, v)) + ──(V(u, v))⋅──(V(u, v)) - 2⋅─────(M(u, v)) - 4⋅─────(U(u, v))⎟⋅ℯ       ⋅ℯ        ⋅ℯ   \n",
       "                    ⎝  ∂u          ∂v            ∂u          ∂v              ∂v ∂u              ∂v ∂u         ⎠                        \n",
       "\n",
       "                                                                                                                                       \n",
       "                                                                                                                                       \n",
       "                                                                                                                                       \n",
       "                                                                                                                                       \n",
       "             0                                                                                                                         \n",
       "                                                                                                                                       \n",
       "                                                                                                                                       \n",
       "                                                                                                                                       \n",
       "                                                                                                                                       \n",
       "                                                                                                                                       \n",
       "                                                                                                                                       \n",
       "                                                                                                                                       \n",
       "             0                                                                                                                         \n",
       "                                                                                                                                       \n",
       "                                                                                                                                       \n",
       "                                                                                                                                       \n",
       "                                                                                                                                       \n",
       "                                                                                                                                       \n",
       "                                                                                                                                       \n",
       "             0                                                                                                                         \n",
       "                                                                                                                                       \n",
       "                                                                                                                                       \n",
       "        ⎛                          ∂           ∂             ∂           ∂                                            ⎞                \n",
       "        ⎜                          ──(U(u, v))⋅──(V(u, v))   ──(U(u, v))⋅──(V(u, v))      2                2          ⎟                \n",
       "u, v)   ⎜∂           ∂             ∂u          ∂v            ∂v          ∂u              ∂                ∂           ⎟  M(u, v) - U(u,\n",
       "      + ⎜──(U(u, v))⋅──(U(u, v)) + ─────────────────────── + ─────────────────────── - ─────(U(u, v)) - ─────(V(u, v))⎟⋅ℯ              \n",
       "        ⎝∂u          ∂v                       2                         2              ∂v ∂u            ∂v ∂u         ⎠                \n",
       "\n",
       "             ⎤\n",
       "             ⎥\n",
       "             ⎥\n",
       "             ⎥\n",
       "             ⎥\n",
       "             ⎥\n",
       "             ⎥\n",
       "             ⎥\n",
       "             ⎥\n",
       "             ⎥\n",
       "             ⎥\n",
       "             ⎥\n",
       "             ⎥\n",
       "             ⎥\n",
       "             ⎥\n",
       "             ⎥\n",
       "             ⎥\n",
       "             ⎥\n",
       "             ⎥\n",
       "             ⎥\n",
       "             ⎥\n",
       "             ⎥\n",
       "             ⎥\n",
       "             ⎥\n",
       " v) - V(u, v)⎥\n",
       "             ⎥\n",
       "             ⎦"
      ]
     },
     "execution_count": 19,
     "metadata": {},
     "output_type": "execute_result"
    }
   ],
   "source": [
    "einst = EinsteinTensor.from_metric(metric)\n",
    "einst.tensor()"
   ]
  },
  {
   "cell_type": "code",
   "execution_count": 20,
   "id": "69b05cc1",
   "metadata": {},
   "outputs": [],
   "source": [
    "#  rm1 = RiemannCurvatureTensor.from_christoffels(ch)\n",
    "#  rm1.tensor()"
   ]
  },
  {
   "cell_type": "code",
   "execution_count": 21,
   "id": "b3473de7",
   "metadata": {},
   "outputs": [],
   "source": [
    "#  weyl = WeylTensor.from_metric(metric)\n",
    "#  weyl.tensor()"
   ]
  },
  {
   "cell_type": "code",
   "execution_count": 22,
   "id": "a7fda4d9",
   "metadata": {},
   "outputs": [
    {
     "data": {
      "text/latex": [
       "$\\displaystyle \\left[\\begin{matrix}\\frac{\\partial}{\\partial u} M{\\left(u,v \\right)} \\frac{\\partial}{\\partial u} U{\\left(u,v \\right)} - \\frac{\\left(\\frac{\\partial}{\\partial u} U{\\left(u,v \\right)}\\right)^{2}}{2} + \\frac{\\partial^{2}}{\\partial u^{2}} U{\\left(u,v \\right)} - \\frac{\\left(\\frac{\\partial}{\\partial u} V{\\left(u,v \\right)}\\right)^{2}}{2} & - \\frac{\\frac{\\partial}{\\partial u} U{\\left(u,v \\right)} \\frac{\\partial}{\\partial v} U{\\left(u,v \\right)}}{2} - \\frac{\\frac{\\partial}{\\partial u} V{\\left(u,v \\right)} \\frac{\\partial}{\\partial v} V{\\left(u,v \\right)}}{2} + \\frac{\\partial^{2}}{\\partial v\\partial u} M{\\left(u,v \\right)} + \\frac{\\partial^{2}}{\\partial v\\partial u} U{\\left(u,v \\right)} & 0 & 0\\\\- \\frac{\\frac{\\partial}{\\partial u} U{\\left(u,v \\right)} \\frac{\\partial}{\\partial v} U{\\left(u,v \\right)}}{2} - \\frac{\\frac{\\partial}{\\partial u} V{\\left(u,v \\right)} \\frac{\\partial}{\\partial v} V{\\left(u,v \\right)}}{2} + \\frac{\\partial^{2}}{\\partial v\\partial u} M{\\left(u,v \\right)} + \\frac{\\partial^{2}}{\\partial v\\partial u} U{\\left(u,v \\right)} & \\frac{\\partial}{\\partial v} M{\\left(u,v \\right)} \\frac{\\partial}{\\partial v} U{\\left(u,v \\right)} - \\frac{\\left(\\frac{\\partial}{\\partial v} U{\\left(u,v \\right)}\\right)^{2}}{2} + \\frac{\\partial^{2}}{\\partial v^{2}} U{\\left(u,v \\right)} - \\frac{\\left(\\frac{\\partial}{\\partial v} V{\\left(u,v \\right)}\\right)^{2}}{2} & 0 & 0\\\\0 & 0 & \\left(\\frac{\\partial}{\\partial u} U{\\left(u,v \\right)} \\frac{\\partial}{\\partial v} U{\\left(u,v \\right)} - \\frac{\\frac{\\partial}{\\partial u} U{\\left(u,v \\right)} \\frac{\\partial}{\\partial v} V{\\left(u,v \\right)}}{2} - \\frac{\\frac{\\partial}{\\partial v} U{\\left(u,v \\right)} \\frac{\\partial}{\\partial u} V{\\left(u,v \\right)}}{2} - \\frac{\\partial^{2}}{\\partial v\\partial u} U{\\left(u,v \\right)} + \\frac{\\partial^{2}}{\\partial v\\partial u} V{\\left(u,v \\right)}\\right) e^{M{\\left(u,v \\right)} - U{\\left(u,v \\right)} + V{\\left(u,v \\right)}} & 0\\\\0 & 0 & 0 & \\left(\\frac{\\partial}{\\partial u} U{\\left(u,v \\right)} \\frac{\\partial}{\\partial v} U{\\left(u,v \\right)} + \\frac{\\frac{\\partial}{\\partial u} U{\\left(u,v \\right)} \\frac{\\partial}{\\partial v} V{\\left(u,v \\right)}}{2} + \\frac{\\frac{\\partial}{\\partial v} U{\\left(u,v \\right)} \\frac{\\partial}{\\partial u} V{\\left(u,v \\right)}}{2} - \\frac{\\partial^{2}}{\\partial v\\partial u} U{\\left(u,v \\right)} - \\frac{\\partial^{2}}{\\partial v\\partial u} V{\\left(u,v \\right)}\\right) e^{M{\\left(u,v \\right)} - U{\\left(u,v \\right)} - V{\\left(u,v \\right)}}\\end{matrix}\\right]$"
      ],
      "text/plain": [
       "⎡                                             2                               2                                                        \n",
       "⎢                                ⎛∂          ⎞                   ⎛∂          ⎞            ∂           ∂             ∂           ∂      \n",
       "⎢                                ⎜──(U(u, v))⎟      2            ⎜──(V(u, v))⎟            ──(U(u, v))⋅──(U(u, v))   ──(V(u, v))⋅──(V(u,\n",
       "⎢      ∂           ∂             ⎝∂u         ⎠     ∂             ⎝∂u         ⎠            ∂u          ∂v            ∂u          ∂v     \n",
       "⎢      ──(M(u, v))⋅──(U(u, v)) - ────────────── + ───(U(u, v)) - ──────────────         - ─────────────────────── - ───────────────────\n",
       "⎢      ∂u          ∂u                  2            2                  2                             2                         2       \n",
       "⎢                                                 ∂u                                                                                   \n",
       "⎢                                                                                                                                      \n",
       "⎢                                                                                                                                    2 \n",
       "⎢  ∂           ∂             ∂           ∂                                                                              ⎛∂          ⎞  \n",
       "⎢  ──(U(u, v))⋅──(U(u, v))   ──(V(u, v))⋅──(V(u, v))      2                2                                            ⎜──(U(u, v))⎟  \n",
       "⎢  ∂u          ∂v            ∂u          ∂v              ∂                ∂                   ∂           ∂             ⎝∂v         ⎠  \n",
       "⎢- ─────────────────────── - ─────────────────────── + ─────(M(u, v)) + ─────(U(u, v))        ──(M(u, v))⋅──(U(u, v)) - ────────────── \n",
       "⎢             2                         2              ∂v ∂u            ∂v ∂u                 ∂v          ∂v                  2        \n",
       "⎢                                                                                                                                      \n",
       "⎢                                                                                                                                      \n",
       "⎢                                                                                                                                      \n",
       "⎢                                                                                                                                      \n",
       "⎢                                                                                                                                      \n",
       "⎢                                          0                                                                                      0    \n",
       "⎢                                                                                                                                      \n",
       "⎢                                                                                                                                      \n",
       "⎢                                                                                                                                      \n",
       "⎢                                                                                                                                      \n",
       "⎢                                                                                                                                      \n",
       "⎢                                          0                                                                                      0    \n",
       "⎣                                                                                                                                      \n",
       "\n",
       "                                                                                                                                       \n",
       "                                                                                                                                       \n",
       " v))      2                2                                                                                                           \n",
       "         ∂                ∂                                                                                                            \n",
       "──── + ─────(M(u, v)) + ─────(U(u, v))                                                                       0                         \n",
       "       ∂v ∂u            ∂v ∂u                                                                                                          \n",
       "                                                                                                                                       \n",
       "                                                                                                                                       \n",
       "                              2                                                                                                        \n",
       "                 ⎛∂          ⎞                                                                                                         \n",
       "    2            ⎜──(V(u, v))⎟                                                                                                         \n",
       "   ∂             ⎝∂v         ⎠                                                                                                         \n",
       "+ ───(U(u, v)) - ──────────────                                                                              0                         \n",
       "    2                  2                                                                                                               \n",
       "  ∂v                                                                                                                                   \n",
       "                                                                                                                                       \n",
       "                                        ⎛                          ∂           ∂             ∂           ∂                             \n",
       "                                        ⎜                          ──(U(u, v))⋅──(V(u, v))   ──(U(u, v))⋅──(V(u, v))      2            \n",
       "                                        ⎜∂           ∂             ∂u          ∂v            ∂v          ∂u              ∂             \n",
       "                                        ⎜──(U(u, v))⋅──(U(u, v)) - ─────────────────────── - ─────────────────────── - ─────(U(u, v)) +\n",
       "                                        ⎝∂u          ∂v                       2                         2              ∂v ∂u           \n",
       "                                                                                                                                       \n",
       "                                                                                                                                       \n",
       "                                                                                                                                       \n",
       "                                                                                                                                       \n",
       "                                                                                                             0                         \n",
       "                                                                                                                                       \n",
       "\n",
       "                                                                                                                                       \n",
       "                                                                                                                                       \n",
       "                                                                                                                                       \n",
       "                                                                                                                                       \n",
       "                                                                                                                    0                  \n",
       "                                                                                                                                       \n",
       "                                                                                                                                       \n",
       "                                                                                                                                       \n",
       "                                                                                                                                       \n",
       "                                                                                                                                       \n",
       "                                                                                                                                       \n",
       "                                                                                                                                       \n",
       "                                                                                                                    0                  \n",
       "                                                                                                                                       \n",
       "                                                                                                                                       \n",
       "                                                                                                                                       \n",
       "               ⎞                                                                                                                       \n",
       "    2          ⎟                                                                                                                       \n",
       "   ∂           ⎟  M(u, v) - U(u, v) + V(u, v)                                                                                          \n",
       " ─────(V(u, v))⎟⋅ℯ                                                                                                  0                  \n",
       " ∂v ∂u         ⎠                                                                                                                       \n",
       "                                                                                                                                       \n",
       "                                               ⎛                          ∂           ∂             ∂           ∂                      \n",
       "                                               ⎜                          ──(U(u, v))⋅──(V(u, v))   ──(U(u, v))⋅──(V(u, v))      2     \n",
       "                                               ⎜∂           ∂             ∂u          ∂v            ∂v          ∂u              ∂      \n",
       "                                               ⎜──(U(u, v))⋅──(U(u, v)) + ─────────────────────── + ─────────────────────── - ─────(U(u\n",
       "                                               ⎝∂u          ∂v                       2                         2              ∂v ∂u    \n",
       "\n",
       "                                                    ⎤\n",
       "                                                    ⎥\n",
       "                                                    ⎥\n",
       "                                                    ⎥\n",
       "                                                    ⎥\n",
       "                                                    ⎥\n",
       "                                                    ⎥\n",
       "                                                    ⎥\n",
       "                                                    ⎥\n",
       "                                                    ⎥\n",
       "                                                    ⎥\n",
       "                                                    ⎥\n",
       "                                                    ⎥\n",
       "                                                    ⎥\n",
       "                                                    ⎥\n",
       "                                                    ⎥\n",
       "                                                    ⎥\n",
       "                                                    ⎥\n",
       "                                                    ⎥\n",
       "                                                    ⎥\n",
       "                                                    ⎥\n",
       "                                                    ⎥\n",
       "                      ⎞                             ⎥\n",
       "           2          ⎟                             ⎥\n",
       "          ∂           ⎟  M(u, v) - U(u, v) - V(u, v)⎥\n",
       ", v)) - ─────(V(u, v))⎟⋅ℯ                           ⎥\n",
       "        ∂v ∂u         ⎠                             ⎦"
      ]
     },
     "execution_count": 22,
     "metadata": {},
     "output_type": "execute_result"
    }
   ],
   "source": [
    "ricciSimplified = simplify(Ric.tensor())\n",
    "ricciSimplified"
   ]
  },
  {
   "cell_type": "code",
   "execution_count": 23,
   "id": "fff86a51",
   "metadata": {},
   "outputs": [
    {
     "data": {
      "text/latex": [
       "$\\displaystyle \\left[\\begin{matrix}\\frac{\\partial}{\\partial u} M{\\left(u,v \\right)} \\frac{\\partial}{\\partial u} U{\\left(u,v \\right)} - \\frac{\\left(\\frac{\\partial}{\\partial u} U{\\left(u,v \\right)}\\right)^{2}}{2} + \\frac{\\partial^{2}}{\\partial u^{2}} U{\\left(u,v \\right)} - \\frac{\\left(\\frac{\\partial}{\\partial u} V{\\left(u,v \\right)}\\right)^{2}}{2} & 1.0 \\frac{\\partial}{\\partial u} U{\\left(u,v \\right)} \\frac{\\partial}{\\partial v} U{\\left(u,v \\right)} - 1.0 \\frac{\\partial^{2}}{\\partial v\\partial u} U{\\left(u,v \\right)} & 0 & 0\\\\1.0 \\frac{\\partial}{\\partial u} U{\\left(u,v \\right)} \\frac{\\partial}{\\partial v} U{\\left(u,v \\right)} - 1.0 \\frac{\\partial^{2}}{\\partial v\\partial u} U{\\left(u,v \\right)} & \\frac{\\partial}{\\partial v} M{\\left(u,v \\right)} \\frac{\\partial}{\\partial v} U{\\left(u,v \\right)} - \\frac{\\left(\\frac{\\partial}{\\partial v} U{\\left(u,v \\right)}\\right)^{2}}{2} + \\frac{\\partial^{2}}{\\partial v^{2}} U{\\left(u,v \\right)} - \\frac{\\left(\\frac{\\partial}{\\partial v} V{\\left(u,v \\right)}\\right)^{2}}{2} & 0 & 0\\\\0 & 0 & \\left(- 0.5 \\frac{\\partial}{\\partial u} U{\\left(u,v \\right)} \\frac{\\partial}{\\partial v} U{\\left(u,v \\right)} - \\frac{\\frac{\\partial}{\\partial u} U{\\left(u,v \\right)} \\frac{\\partial}{\\partial v} V{\\left(u,v \\right)}}{2} - \\frac{\\frac{\\partial}{\\partial v} U{\\left(u,v \\right)} \\frac{\\partial}{\\partial u} V{\\left(u,v \\right)}}{2} - 0.5 \\frac{\\partial}{\\partial u} V{\\left(u,v \\right)} \\frac{\\partial}{\\partial v} V{\\left(u,v \\right)} + \\frac{\\partial^{2}}{\\partial v\\partial u} M{\\left(u,v \\right)} + \\frac{\\partial^{2}}{\\partial v\\partial u} U{\\left(u,v \\right)} + \\frac{\\partial^{2}}{\\partial v\\partial u} V{\\left(u,v \\right)}\\right) e^{M{\\left(u,v \\right)} - U{\\left(u,v \\right)} + V{\\left(u,v \\right)}} & 0\\\\0 & 0 & 0 & \\left(- 0.5 \\frac{\\partial}{\\partial u} U{\\left(u,v \\right)} \\frac{\\partial}{\\partial v} U{\\left(u,v \\right)} + \\frac{\\frac{\\partial}{\\partial u} U{\\left(u,v \\right)} \\frac{\\partial}{\\partial v} V{\\left(u,v \\right)}}{2} + \\frac{\\frac{\\partial}{\\partial v} U{\\left(u,v \\right)} \\frac{\\partial}{\\partial u} V{\\left(u,v \\right)}}{2} - 0.5 \\frac{\\partial}{\\partial u} V{\\left(u,v \\right)} \\frac{\\partial}{\\partial v} V{\\left(u,v \\right)} + \\frac{\\partial^{2}}{\\partial v\\partial u} M{\\left(u,v \\right)} + \\frac{\\partial^{2}}{\\partial v\\partial u} U{\\left(u,v \\right)} - \\frac{\\partial^{2}}{\\partial v\\partial u} V{\\left(u,v \\right)}\\right) e^{M{\\left(u,v \\right)} - U{\\left(u,v \\right)} - V{\\left(u,v \\right)}}\\end{matrix}\\right]$"
      ],
      "text/plain": [
       "⎡                                       2                               2                                                              \n",
       "⎢                          ⎛∂          ⎞                   ⎛∂          ⎞                                                               \n",
       "⎢                          ⎜──(U(u, v))⎟      2            ⎜──(V(u, v))⎟                                                  2            \n",
       "⎢∂           ∂             ⎝∂u         ⎠     ∂             ⎝∂u         ⎠                     ∂           ∂               ∂             \n",
       "⎢──(M(u, v))⋅──(U(u, v)) - ────────────── + ───(U(u, v)) - ──────────────                1.0⋅──(U(u, v))⋅──(U(u, v)) - ─────(U(u, v))  \n",
       "⎢∂u          ∂u                  2            2                  2                           ∂u          ∂v            ∂v ∂u           \n",
       "⎢                                           ∂u                                                                                         \n",
       "⎢                                                                                                                                      \n",
       "⎢                                                                                                                 2                    \n",
       "⎢                                                                                                    ⎛∂          ⎞                   ⎛∂\n",
       "⎢                                               2                                                    ⎜──(U(u, v))⎟      2            ⎜─\n",
       "⎢                  ∂           ∂               ∂                           ∂           ∂             ⎝∂v         ⎠     ∂             ⎝∂\n",
       "⎢              1.0⋅──(U(u, v))⋅──(U(u, v)) - ─────(U(u, v))                ──(M(u, v))⋅──(U(u, v)) - ────────────── + ───(U(u, v)) - ──\n",
       "⎢                  ∂u          ∂v            ∂v ∂u                         ∂v          ∂v                  2            2              \n",
       "⎢                                                                                                                     ∂v               \n",
       "⎢                                                                                                                                      \n",
       "⎢                                                                                                                                      \n",
       "⎢                                                                                                                                      \n",
       "⎢                                                                                                                                      \n",
       "⎢                                   0                                                                         0                        \n",
       "⎢                                                                                                                                      \n",
       "⎢                                                                                                                                      \n",
       "⎢                                                                                                                                      \n",
       "⎢                                                                                                                                      \n",
       "⎢                                                                                                                                      \n",
       "⎢                                   0                                                                         0                        \n",
       "⎣                                                                                                                                      \n",
       "\n",
       "                                                                                                                                       \n",
       "                                                                                                                                       \n",
       "                                                                                                                                       \n",
       "                                                                                                                                       \n",
       "                                                                                                              0                        \n",
       "                                                                                                                                       \n",
       "                                                                                                                                       \n",
       "                                                                                                                                       \n",
       "           2                                                                                                                           \n",
       "          ⎞                                                                                                                            \n",
       "─(V(u, v))⎟                                                                                                                            \n",
       "v         ⎠                                                                                                                            \n",
       "────────────                                                                                                  0                        \n",
       "    2                                                                                                                                  \n",
       "                                                                                                                                       \n",
       "                                                                                                                                       \n",
       "              ⎛                                ∂           ∂             ∂           ∂                                                 \n",
       "              ⎜                                ──(U(u, v))⋅──(V(u, v))   ──(U(u, v))⋅──(V(u, v))                                    2  \n",
       "              ⎜      ∂           ∂             ∂u          ∂v            ∂v          ∂u                ∂           ∂               ∂   \n",
       "              ⎜- 0.5⋅──(U(u, v))⋅──(U(u, v)) - ─────────────────────── - ─────────────────────── - 0.5⋅──(V(u, v))⋅──(V(u, v)) + ─────(\n",
       "              ⎝      ∂u          ∂v                       2                         2                  ∂u          ∂v            ∂v ∂u \n",
       "                                                                                                                                       \n",
       "                                                                                                                                       \n",
       "                                                                                                                                       \n",
       "                                                                                                                                       \n",
       "                                                                                                              0                        \n",
       "                                                                                                                                       \n",
       "\n",
       "                                                                                                                                       \n",
       "                                                                                                                                       \n",
       "                                                                                                                                       \n",
       "                                                                                                                                       \n",
       "                                                                                                                                       \n",
       "                                                                                                                                       \n",
       "                                                                                                                                       \n",
       "                                                                                                                                       \n",
       "                                                                                                                                       \n",
       "                                                                                                                                       \n",
       "                                                                                                                                       \n",
       "                                                                                                                                       \n",
       "                                                                                                                                       \n",
       "                                                                                                                                       \n",
       "                                                                                                                                       \n",
       "                                                                                                                                       \n",
       "                                          ⎞                                                                                            \n",
       "              2                2          ⎟                                                                                            \n",
       "             ∂                ∂           ⎟  M(u, v) - U(u, v) + V(u, v)                                                               \n",
       "M(u, v)) + ─────(U(u, v)) + ─────(V(u, v))⎟⋅ℯ                                                                                          \n",
       "           ∂v ∂u            ∂v ∂u         ⎠                                                                                            \n",
       "                                                                                                                                       \n",
       "                                                                          ⎛                                ∂           ∂             ∂ \n",
       "                                                                          ⎜                                ──(U(u, v))⋅──(V(u, v))   ──\n",
       "                                                                          ⎜      ∂           ∂             ∂u          ∂v            ∂v\n",
       "                                                                          ⎜- 0.5⋅──(U(u, v))⋅──(U(u, v)) + ─────────────────────── + ──\n",
       "                                                                          ⎝      ∂u          ∂v                       2                \n",
       "\n",
       "                                                                                                                                    ⎤\n",
       "                                                                                                                                    ⎥\n",
       "                                                                                                                                    ⎥\n",
       "                                                                                                                                    ⎥\n",
       "                                   0                                                                                                ⎥\n",
       "                                                                                                                                    ⎥\n",
       "                                                                                                                                    ⎥\n",
       "                                                                                                                                    ⎥\n",
       "                                                                                                                                    ⎥\n",
       "                                                                                                                                    ⎥\n",
       "                                                                                                                                    ⎥\n",
       "                                                                                                                                    ⎥\n",
       "                                   0                                                                                                ⎥\n",
       "                                                                                                                                    ⎥\n",
       "                                                                                                                                    ⎥\n",
       "                                                                                                                                    ⎥\n",
       "                                                                                                                                    ⎥\n",
       "                                                                                                                                    ⎥\n",
       "                                                                                                                                    ⎥\n",
       "                                   0                                                                                                ⎥\n",
       "                                                                                                                                    ⎥\n",
       "                                                                                                                                    ⎥\n",
       "          ∂                                                                                           ⎞                             ⎥\n",
       "(U(u, v))⋅──(V(u, v))                                    2                2                2          ⎟                             ⎥\n",
       "          ∂u                ∂           ∂               ∂                ∂                ∂           ⎟  M(u, v) - U(u, v) - V(u, v)⎥\n",
       "───────────────────── - 0.5⋅──(V(u, v))⋅──(V(u, v)) + ─────(M(u, v)) + ─────(U(u, v)) - ─────(V(u, v))⎟⋅ℯ                           ⎥\n",
       "         2                  ∂u          ∂v            ∂v ∂u            ∂v ∂u            ∂v ∂u         ⎠                             ⎦"
      ]
     },
     "execution_count": 23,
     "metadata": {},
     "output_type": "execute_result"
    }
   ],
   "source": [
    "einsteinSimplified = simplify(einst.tensor())\n",
    "einsteinSimplified"
   ]
  },
  {
   "cell_type": "code",
   "execution_count": 47,
   "id": "af073461",
   "metadata": {},
   "outputs": [
    {
     "data": {
      "image/png": "[encoded data removed]",
      "text/latex": [
       "$\\displaystyle \\frac{\\partial^{2}}{\\partial v\\partial u} U{\\left(u,v \\right)} = \\frac{\\partial}{\\partial u} U{\\left(u,v \\right)} \\frac{\\partial}{\\partial v} U{\\left(u,v \\right)}$"
      ],
      "text/plain": [
       "   2                                    \n",
       "  ∂              ∂           ∂          \n",
       "─────(U(u, v)) = ──(U(u, v))⋅──(U(u, v))\n",
       "∂v ∂u            ∂u          ∂v         "
      ]
     },
     "execution_count": 47,
     "metadata": {},
     "output_type": "execute_result"
    }
   ],
   "source": [
    "equation6pt4 = Eq( diff(U,u,v),solve(einsteinSimplified[1,0], diff(U,u,v) )[0])\n",
    "equation6pt4"
   ]
  },
  {
   "cell_type": "code",
   "execution_count": 51,
   "id": "8f1eb49c",
   "metadata": {},
   "outputs": [
    {
     "data": {
      "image/png": "[encoded data removed]",
      "text/latex": [
       "$\\displaystyle \\frac{\\partial^{2}}{\\partial v\\partial u} V{\\left(u,v \\right)} = \\frac{\\frac{\\partial}{\\partial u} U{\\left(u,v \\right)} \\frac{\\partial}{\\partial v} V{\\left(u,v \\right)}}{2} + \\frac{\\frac{\\partial}{\\partial v} U{\\left(u,v \\right)} \\frac{\\partial}{\\partial u} V{\\left(u,v \\right)}}{2}$"
      ],
      "text/plain": [
       "                 ∂           ∂             ∂           ∂          \n",
       "   2             ──(U(u, v))⋅──(V(u, v))   ──(U(u, v))⋅──(V(u, v))\n",
       "  ∂              ∂u          ∂v            ∂v          ∂u         \n",
       "─────(V(u, v)) = ─────────────────────── + ───────────────────────\n",
       "∂v ∂u                       2                         2           "
      ]
     },
     "execution_count": 51,
     "metadata": {},
     "output_type": "execute_result"
    }
   ],
   "source": [
    "equation6pt5 = Eq( diff(V,u,v),solve( (ricciSimplified[2,2].args[0] - ricciSimplified[3,3].args[0]), diff(V,u,v) )[0] ) \n",
    "equation6pt5"
   ]
  },
  {
   "cell_type": "code",
   "execution_count": 48,
   "id": "14017162",
   "metadata": {},
   "outputs": [
    {
     "data": {
      "image/png": "[encoded data removed]",
      "text/latex": [
       "$\\displaystyle \\frac{\\partial^{2}}{\\partial u^{2}} U{\\left(u,v \\right)} = - \\frac{\\partial}{\\partial u} M{\\left(u,v \\right)} \\frac{\\partial}{\\partial u} U{\\left(u,v \\right)} + \\frac{\\left(\\frac{\\partial}{\\partial u} U{\\left(u,v \\right)}\\right)^{2}}{2} + \\frac{\\left(\\frac{\\partial}{\\partial u} V{\\left(u,v \\right)}\\right)^{2}}{2}$"
      ],
      "text/plain": [
       "                                                        2                2\n",
       "                                           ⎛∂          ⎞    ⎛∂          ⎞ \n",
       "  2                                        ⎜──(U(u, v))⎟    ⎜──(V(u, v))⎟ \n",
       " ∂               ∂           ∂             ⎝∂u         ⎠    ⎝∂u         ⎠ \n",
       "───(U(u, v)) = - ──(M(u, v))⋅──(U(u, v)) + ────────────── + ──────────────\n",
       "  2              ∂u          ∂u                  2                2       \n",
       "∂u                                                                        "
      ]
     },
     "execution_count": 48,
     "metadata": {},
     "output_type": "execute_result"
    }
   ],
   "source": [
    "equation6pt6 = Eq(diff(U,u,u),solve( einsteinSimplified[0,0], diff(U,u,u) )[0])\n",
    "equation6pt6"
   ]
  },
  {
   "cell_type": "code",
   "execution_count": 50,
   "id": "1356a94d",
   "metadata": {},
   "outputs": [
    {
     "data": {
      "image/png": "[encoded data removed]",
      "text/latex": [
       "$\\displaystyle \\frac{\\partial^{2}}{\\partial v^{2}} U{\\left(u,v \\right)} = - \\frac{\\partial}{\\partial v} M{\\left(u,v \\right)} \\frac{\\partial}{\\partial v} U{\\left(u,v \\right)} + \\frac{\\left(\\frac{\\partial}{\\partial v} U{\\left(u,v \\right)}\\right)^{2}}{2} + \\frac{\\left(\\frac{\\partial}{\\partial v} V{\\left(u,v \\right)}\\right)^{2}}{2}$"
      ],
      "text/plain": [
       "                                                        2                2\n",
       "                                           ⎛∂          ⎞    ⎛∂          ⎞ \n",
       "  2                                        ⎜──(U(u, v))⎟    ⎜──(V(u, v))⎟ \n",
       " ∂               ∂           ∂             ⎝∂v         ⎠    ⎝∂v         ⎠ \n",
       "───(U(u, v)) = - ──(M(u, v))⋅──(U(u, v)) + ────────────── + ──────────────\n",
       "  2              ∂v          ∂v                  2                2       \n",
       "∂v                                                                        "
      ]
     },
     "execution_count": 50,
     "metadata": {},
     "output_type": "execute_result"
    }
   ],
   "source": [
    "equation6pt7 = Eq(diff(U,v,v),solve( einsteinSimplified[1,1], diff(U,v,v) )[0])\n",
    "equation6pt7"
   ]
  },
  {
   "cell_type": "code",
   "execution_count": 55,
   "id": "29935246",
   "metadata": {},
   "outputs": [
    {
     "data": {
      "image/png": "[encoded data removed]",
      "text/latex": [
       "$\\displaystyle 2 \\frac{\\partial^{2}}{\\partial v\\partial u} M{\\left(u,v \\right)} = - 1.0 \\frac{\\partial}{\\partial u} U{\\left(u,v \\right)} \\frac{\\partial}{\\partial v} U{\\left(u,v \\right)} + \\frac{\\partial}{\\partial u} V{\\left(u,v \\right)} \\frac{\\partial}{\\partial v} V{\\left(u,v \\right)}$"
      ],
      "text/plain": [
       "     2                                                                \n",
       "    ∂                ∂           ∂             ∂           ∂          \n",
       "2⋅─────(M(u, v)) = - ──(U(u, v))⋅──(U(u, v)) + ──(V(u, v))⋅──(V(u, v))\n",
       "  ∂v ∂u              ∂u          ∂v            ∂u          ∂v         "
      ]
     },
     "execution_count": 55,
     "metadata": {},
     "output_type": "execute_result"
    }
   ],
   "source": [
    "equation6pt8 = Eq(2*diff(M,u,v),2*solve( ( einsteinSimplified[2,2].args[0] + einsteinSimplified[3,3].args[0] ), diff(M,u,v) )[0].subs(equation6pt4.lhs,equation6pt4.rhs))\n",
    "equation6pt8"
   ]
  },
  {
   "cell_type": "code",
   "execution_count": 57,
   "id": "ab89439f",
   "metadata": {},
   "outputs": [
    {
     "data": {
      "text/latex": [
       "$\\displaystyle \\left[\\begin{matrix}\\frac{\\partial^{2}}{\\partial v\\partial u} U{\\left(u,v \\right)} = \\frac{\\partial}{\\partial u} U{\\left(u,v \\right)} \\frac{\\partial}{\\partial v} U{\\left(u,v \\right)}\\\\\\frac{\\partial^{2}}{\\partial v\\partial u} V{\\left(u,v \\right)} = \\frac{\\frac{\\partial}{\\partial u} U{\\left(u,v \\right)} \\frac{\\partial}{\\partial v} V{\\left(u,v \\right)}}{2} + \\frac{\\frac{\\partial}{\\partial v} U{\\left(u,v \\right)} \\frac{\\partial}{\\partial u} V{\\left(u,v \\right)}}{2}\\\\\\frac{\\partial^{2}}{\\partial u^{2}} U{\\left(u,v \\right)} = - \\frac{\\partial}{\\partial u} M{\\left(u,v \\right)} \\frac{\\partial}{\\partial u} U{\\left(u,v \\right)} + \\frac{\\left(\\frac{\\partial}{\\partial u} U{\\left(u,v \\right)}\\right)^{2}}{2} + \\frac{\\left(\\frac{\\partial}{\\partial u} V{\\left(u,v \\right)}\\right)^{2}}{2}\\\\\\frac{\\partial^{2}}{\\partial v^{2}} U{\\left(u,v \\right)} = - \\frac{\\partial}{\\partial v} M{\\left(u,v \\right)} \\frac{\\partial}{\\partial v} U{\\left(u,v \\right)} + \\frac{\\left(\\frac{\\partial}{\\partial v} U{\\left(u,v \\right)}\\right)^{2}}{2} + \\frac{\\left(\\frac{\\partial}{\\partial v} V{\\left(u,v \\right)}\\right)^{2}}{2}\\\\2 \\frac{\\partial^{2}}{\\partial v\\partial u} M{\\left(u,v \\right)} = - 1.0 \\frac{\\partial}{\\partial u} U{\\left(u,v \\right)} \\frac{\\partial}{\\partial v} U{\\left(u,v \\right)} + \\frac{\\partial}{\\partial u} V{\\left(u,v \\right)} \\frac{\\partial}{\\partial v} V{\\left(u,v \\right)}\\end{matrix}\\right]$"
      ],
      "text/plain": [
       "⎡                    2                                                     ⎤\n",
       "⎢                   ∂              ∂           ∂                           ⎥\n",
       "⎢                 ─────(U(u, v)) = ──(U(u, v))⋅──(U(u, v))                 ⎥\n",
       "⎢                 ∂v ∂u            ∂u          ∂v                          ⎥\n",
       "⎢                                                                          ⎥\n",
       "⎢                     ∂           ∂             ∂           ∂              ⎥\n",
       "⎢       2             ──(U(u, v))⋅──(V(u, v))   ──(U(u, v))⋅──(V(u, v))    ⎥\n",
       "⎢      ∂              ∂u          ∂v            ∂v          ∂u             ⎥\n",
       "⎢    ─────(V(u, v)) = ─────────────────────── + ───────────────────────    ⎥\n",
       "⎢    ∂v ∂u                       2                         2               ⎥\n",
       "⎢                                                                          ⎥\n",
       "⎢                                                        2                2⎥\n",
       "⎢                                           ⎛∂          ⎞    ⎛∂          ⎞ ⎥\n",
       "⎢  2                                        ⎜──(U(u, v))⎟    ⎜──(V(u, v))⎟ ⎥\n",
       "⎢ ∂               ∂           ∂             ⎝∂u         ⎠    ⎝∂u         ⎠ ⎥\n",
       "⎢───(U(u, v)) = - ──(M(u, v))⋅──(U(u, v)) + ────────────── + ──────────────⎥\n",
       "⎢  2              ∂u          ∂u                  2                2       ⎥\n",
       "⎢∂u                                                                        ⎥\n",
       "⎢                                                                          ⎥\n",
       "⎢                                                        2                2⎥\n",
       "⎢                                           ⎛∂          ⎞    ⎛∂          ⎞ ⎥\n",
       "⎢  2                                        ⎜──(U(u, v))⎟    ⎜──(V(u, v))⎟ ⎥\n",
       "⎢ ∂               ∂           ∂             ⎝∂v         ⎠    ⎝∂v         ⎠ ⎥\n",
       "⎢───(U(u, v)) = - ──(M(u, v))⋅──(U(u, v)) + ────────────── + ──────────────⎥\n",
       "⎢  2              ∂v          ∂v                  2                2       ⎥\n",
       "⎢∂v                                                                        ⎥\n",
       "⎢                                                                          ⎥\n",
       "⎢       2                                                                  ⎥\n",
       "⎢      ∂                ∂           ∂             ∂           ∂            ⎥\n",
       "⎢  2⋅─────(M(u, v)) = - ──(U(u, v))⋅──(U(u, v)) + ──(V(u, v))⋅──(V(u, v))  ⎥\n",
       "⎣    ∂v ∂u              ∂u          ∂v            ∂u          ∂v           ⎦"
      ]
     },
     "execution_count": 57,
     "metadata": {},
     "output_type": "execute_result"
    }
   ],
   "source": [
    "vacuumFieldEquations = Matrix([equation6pt4,equation6pt5,equation6pt6,equation6pt7,equation6pt8])\n",
    "vacuumFieldEquations"
   ]
  },
  {
   "cell_type": "code",
   "execution_count": null,
   "id": "52eee789",
   "metadata": {},
   "outputs": [],
   "source": []
  }
 ],
 "metadata": {
  "@webio": {
   "lastCommId": "3c970b8629114e039137f4d9dfb3edcb",
   "lastKernelId": "f5e2c447-a8c7-48e4-99ea-3ee84fe55d1d"
  },
  "kernelspec": {
   "display_name": "Python 3 (ipykernel)",
   "language": "python",
   "name": "python3"
  },
  "language_info": {
   "codemirror_mode": {
    "name": "ipython",
    "version": 3
   },
   "file_extension": ".py",
   "mimetype": "text/x-python",
   "name": "python",
   "nbconvert_exporter": "python",
   "pygments_lexer": "ipython3",
   "version": "3.8.8"
  }
 },
 "nbformat": 4,
 "nbformat_minor": 5
}
