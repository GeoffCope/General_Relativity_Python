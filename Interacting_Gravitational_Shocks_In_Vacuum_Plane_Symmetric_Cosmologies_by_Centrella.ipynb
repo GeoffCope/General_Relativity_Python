{
 "cells": [
  {
   "cell_type": "markdown",
   "id": "79f081a7",
   "metadata": {},
   "source": [
    "# Interacting Gravitational Shocks In Vacuum Plane Symmetric Cosmologies by Centrella\n",
    "##  Geoff Cope\n",
    "##  Univeristy of Utah\n",
    "##  December 22, 2021"
   ]
  },
  {
   "cell_type": "code",
   "execution_count": 1,
   "id": "aa97bfa4",
   "metadata": {},
   "outputs": [
    {
     "name": "stdout",
     "output_type": "stream",
     "text": [
      "IPython console for SymPy 1.9 (Python 3.8.8-64-bit) (ground types: gmpy)\n",
      "\n",
      "These commands were executed:\n",
      ">>> from __future__ import division\n",
      ">>> from sympy import *\n",
      ">>> x, y, z, t = symbols('x y z t')\n",
      ">>> k, m, n = symbols('k m n', integer=True)\n",
      ">>> f, g, h = symbols('f g h', cls=Function)\n",
      ">>> init_printing()\n",
      "\n",
      "Documentation can be found at https://docs.sympy.org/1.9/\n",
      "\n"
     ]
    }
   ],
   "source": [
    "from sympy import init_session\n",
    "init_session(use_latex=True)"
   ]
  },
  {
   "cell_type": "code",
   "execution_count": 2,
   "id": "b7adebf3",
   "metadata": {},
   "outputs": [],
   "source": [
    "import warnings\n",
    "import matplotlib.cbook\n",
    "warnings.filterwarnings(\"ignore\",category=matplotlib.cbook.mplDeprecation)"
   ]
  },
  {
   "cell_type": "code",
   "execution_count": 3,
   "id": "c4bb10d0",
   "metadata": {},
   "outputs": [],
   "source": [
    "T,z,x,y,dT,dz,dx,dy = symbols( 'T z x y dT dz dx dy' ) "
   ]
  },
  {
   "cell_type": "code",
   "execution_count": 4,
   "id": "026952a5",
   "metadata": {},
   "outputs": [
    {
     "data": {
      "image/png": "[encoded data removed]",
      "text/latex": [
       "$\\displaystyle \\gamma{\\left(T,z \\right)}$"
      ],
      "text/plain": [
       "γ(T, z)"
      ]
     },
     "execution_count": 4,
     "metadata": {},
     "output_type": "execute_result"
    }
   ],
   "source": [
    "gamma = Function('gamma')(T,z)\n",
    "gamma"
   ]
  },
  {
   "cell_type": "code",
   "execution_count": 5,
   "id": "0147210c",
   "metadata": {},
   "outputs": [
    {
     "data": {
      "image/png": "[encoded data removed]",
      "text/latex": [
       "$\\displaystyle \\psi{\\left(T,z \\right)}$"
      ],
      "text/plain": [
       "ψ(T, z)"
      ]
     },
     "execution_count": 5,
     "metadata": {},
     "output_type": "execute_result"
    }
   ],
   "source": [
    "psi = Function('psi')(T,z)\n",
    "psi"
   ]
  },
  {
   "cell_type": "code",
   "execution_count": 6,
   "id": "c81a06c9",
   "metadata": {},
   "outputs": [
    {
     "data": {
      "text/latex": [
       "$\\displaystyle \\left[\\begin{matrix}T\\\\z\\\\x\\\\y\\end{matrix}\\right]$"
      ],
      "text/plain": [
       "⎡T⎤\n",
       "⎢ ⎥\n",
       "⎢z⎥\n",
       "⎢ ⎥\n",
       "⎢x⎥\n",
       "⎢ ⎥\n",
       "⎣y⎦"
      ]
     },
     "execution_count": 6,
     "metadata": {},
     "output_type": "execute_result"
    }
   ],
   "source": [
    "variables = Matrix( [T,z,x,y] )\n",
    "variables"
   ]
  },
  {
   "cell_type": "code",
   "execution_count": 7,
   "id": "fb3babce",
   "metadata": {},
   "outputs": [
    {
     "data": {
      "text/latex": [
       "$\\displaystyle \\left[\\begin{matrix}dT\\\\dz\\\\dx\\\\dy\\end{matrix}\\right]$"
      ],
      "text/plain": [
       "⎡dT⎤\n",
       "⎢  ⎥\n",
       "⎢dz⎥\n",
       "⎢  ⎥\n",
       "⎢dx⎥\n",
       "⎢  ⎥\n",
       "⎣dy⎦"
      ]
     },
     "execution_count": 7,
     "metadata": {},
     "output_type": "execute_result"
    }
   ],
   "source": [
    "differentials = Matrix( [dT,dz,dx,dy] ) \n",
    "differentials"
   ]
  },
  {
   "cell_type": "code",
   "execution_count": 8,
   "id": "742bd45a",
   "metadata": {},
   "outputs": [
    {
     "data": {
      "image/png": "[encoded data removed]",
      "text/latex": [
       "$\\displaystyle T^{2} dy^{2} e^{- \\psi{\\left(T,z \\right)}} - dT^{2} e^{\\gamma{\\left(T,z \\right)}} e^{- \\psi{\\left(T,z \\right)}} + dx^{2} e^{\\psi{\\left(T,z \\right)}} + dz^{2} e^{\\gamma{\\left(T,z \\right)}} e^{- \\psi{\\left(T,z \\right)}}$"
      ],
      "text/plain": [
       " 2   2  -ψ(T, z)     2  γ(T, z)  -ψ(T, z)     2  ψ(T, z)     2  γ(T, z)  -ψ(T, z)\n",
       "T ⋅dy ⋅ℯ         - dT ⋅ℯ       ⋅ℯ         + dx ⋅ℯ        + dz ⋅ℯ       ⋅ℯ        "
      ]
     },
     "execution_count": 8,
     "metadata": {},
     "output_type": "execute_result"
    }
   ],
   "source": [
    "lineElement = expand(exp(gamma-psi) * ( -dT**2 + dz**2 ) + ( exp(psi)*dx**2 + T**2 * exp(-psi) * dy**2 ) )\n",
    "lineElement "
   ]
  },
  {
   "cell_type": "code",
   "execution_count": 9,
   "id": "ddf26a60",
   "metadata": {},
   "outputs": [
    {
     "data": {
      "text/latex": [
       "$\\displaystyle \\left[\\begin{matrix}- e^{\\gamma{\\left(T,z \\right)}} e^{- \\psi{\\left(T,z \\right)}} & 0 & 0 & 0\\\\0 & e^{\\gamma{\\left(T,z \\right)}} e^{- \\psi{\\left(T,z \\right)}} & 0 & 0\\\\0 & 0 & e^{\\psi{\\left(T,z \\right)}} & 0\\\\0 & 0 & 0 & T^{2} e^{- \\psi{\\left(T,z \\right)}}\\end{matrix}\\right]$"
      ],
      "text/plain": [
       "⎡  γ(T, z)  -ψ(T, z)                                            ⎤\n",
       "⎢-ℯ       ⋅ℯ                  0              0           0      ⎥\n",
       "⎢                                                               ⎥\n",
       "⎢                      γ(T, z)  -ψ(T, z)                        ⎥\n",
       "⎢         0           ℯ       ⋅ℯ             0           0      ⎥\n",
       "⎢                                                               ⎥\n",
       "⎢                                          ψ(T, z)              ⎥\n",
       "⎢         0                   0           ℯ              0      ⎥\n",
       "⎢                                                               ⎥\n",
       "⎢                                                    2  -ψ(T, z)⎥\n",
       "⎣         0                   0              0      T ⋅ℯ        ⎦"
      ]
     },
     "execution_count": 9,
     "metadata": {},
     "output_type": "execute_result"
    }
   ],
   "source": [
    "g = zeros(4)\n",
    "\n",
    "for i in range(4):\n",
    "    for j in range(4):\n",
    "        if i == j:\n",
    "            g[i,j] = lineElement.coeff( differentials[i],2 ) \n",
    "        else:\n",
    "            g[i,j] = Rational(1,2)*lineElement.coeff( differentials[i]*differentials[j],1 )\n",
    "            \n",
    "g"
   ]
  },
  {
   "cell_type": "code",
   "execution_count": 10,
   "id": "7c4f84bc",
   "metadata": {},
   "outputs": [],
   "source": [
    "import sympy"
   ]
  },
  {
   "cell_type": "code",
   "execution_count": 11,
   "id": "02c4a8a4",
   "metadata": {},
   "outputs": [
    {
     "data": {
      "text/latex": [
       "$\\displaystyle \\left[\\begin{matrix}- e^{\\gamma{\\left(T,z \\right)}} e^{- \\psi{\\left(T,z \\right)}} & 0 & 0 & 0\\\\0 & e^{\\gamma{\\left(T,z \\right)}} e^{- \\psi{\\left(T,z \\right)}} & 0 & 0\\\\0 & 0 & e^{\\psi{\\left(T,z \\right)}} & 0\\\\0 & 0 & 0 & T^{2} e^{- \\psi{\\left(T,z \\right)}}\\end{matrix}\\right]$"
      ],
      "text/plain": [
       "⎡  γ(T, z)  -ψ(T, z)                                            ⎤\n",
       "⎢-ℯ       ⋅ℯ                  0              0           0      ⎥\n",
       "⎢                                                               ⎥\n",
       "⎢                      γ(T, z)  -ψ(T, z)                        ⎥\n",
       "⎢         0           ℯ       ⋅ℯ             0           0      ⎥\n",
       "⎢                                                               ⎥\n",
       "⎢                                          ψ(T, z)              ⎥\n",
       "⎢         0                   0           ℯ              0      ⎥\n",
       "⎢                                                               ⎥\n",
       "⎢                                                    2  -ψ(T, z)⎥\n",
       "⎣         0                   0              0      T ⋅ℯ        ⎦"
      ]
     },
     "execution_count": 11,
     "metadata": {},
     "output_type": "execute_result"
    }
   ],
   "source": [
    "m = sympy.Array(g)\n",
    "m"
   ]
  },
  {
   "cell_type": "code",
   "execution_count": 12,
   "id": "18dcd95d",
   "metadata": {},
   "outputs": [],
   "source": [
    "from einsteinpy.symbolic import *"
   ]
  },
  {
   "cell_type": "code",
   "execution_count": 13,
   "id": "41cdae9f",
   "metadata": {},
   "outputs": [],
   "source": [
    "syms = sympy.symbols(\"T z x y\")\n",
    "T,z,x,y = syms"
   ]
  },
  {
   "cell_type": "code",
   "execution_count": 14,
   "id": "546462a3",
   "metadata": {},
   "outputs": [],
   "source": [
    "metric = MetricTensor(m,syms)"
   ]
  },
  {
   "cell_type": "code",
   "execution_count": 15,
   "id": "b5a319f9",
   "metadata": {},
   "outputs": [
    {
     "data": {
      "text/latex": [
       "$\\displaystyle \\left[\\begin{matrix}\\left[\\begin{matrix}\\frac{\\frac{\\partial}{\\partial T} \\gamma{\\left(T,z \\right)}}{2} - \\frac{\\frac{\\partial}{\\partial T} \\psi{\\left(T,z \\right)}}{2} & \\frac{\\frac{\\partial}{\\partial z} \\gamma{\\left(T,z \\right)}}{2} - \\frac{\\frac{\\partial}{\\partial z} \\psi{\\left(T,z \\right)}}{2} & 0 & 0\\\\\\frac{\\frac{\\partial}{\\partial z} \\gamma{\\left(T,z \\right)}}{2} - \\frac{\\frac{\\partial}{\\partial z} \\psi{\\left(T,z \\right)}}{2} & \\frac{\\frac{\\partial}{\\partial T} \\gamma{\\left(T,z \\right)}}{2} - \\frac{\\frac{\\partial}{\\partial T} \\psi{\\left(T,z \\right)}}{2} & 0 & 0\\\\0 & 0 & \\frac{e^{- \\gamma{\\left(T,z \\right)} + 2 \\psi{\\left(T,z \\right)}} \\frac{\\partial}{\\partial T} \\psi{\\left(T,z \\right)}}{2} & 0\\\\0 & 0 & 0 & \\frac{T \\left(- T \\frac{\\partial}{\\partial T} \\psi{\\left(T,z \\right)} + 2\\right) e^{- \\gamma{\\left(T,z \\right)}}}{2}\\end{matrix}\\right] & \\left[\\begin{matrix}\\frac{\\frac{\\partial}{\\partial z} \\gamma{\\left(T,z \\right)}}{2} - \\frac{\\frac{\\partial}{\\partial z} \\psi{\\left(T,z \\right)}}{2} & \\frac{\\frac{\\partial}{\\partial T} \\gamma{\\left(T,z \\right)}}{2} - \\frac{\\frac{\\partial}{\\partial T} \\psi{\\left(T,z \\right)}}{2} & 0 & 0\\\\\\frac{\\frac{\\partial}{\\partial T} \\gamma{\\left(T,z \\right)}}{2} - \\frac{\\frac{\\partial}{\\partial T} \\psi{\\left(T,z \\right)}}{2} & \\frac{\\frac{\\partial}{\\partial z} \\gamma{\\left(T,z \\right)}}{2} - \\frac{\\frac{\\partial}{\\partial z} \\psi{\\left(T,z \\right)}}{2} & 0 & 0\\\\0 & 0 & - \\frac{e^{- \\gamma{\\left(T,z \\right)} + 2 \\psi{\\left(T,z \\right)}} \\frac{\\partial}{\\partial z} \\psi{\\left(T,z \\right)}}{2} & 0\\\\0 & 0 & 0 & \\frac{T^{2} e^{- \\gamma{\\left(T,z \\right)}} \\frac{\\partial}{\\partial z} \\psi{\\left(T,z \\right)}}{2}\\end{matrix}\\right] & \\left[\\begin{matrix}0 & 0 & \\frac{\\frac{\\partial}{\\partial T} \\psi{\\left(T,z \\right)}}{2} & 0\\\\0 & 0 & \\frac{\\frac{\\partial}{\\partial z} \\psi{\\left(T,z \\right)}}{2} & 0\\\\\\frac{\\frac{\\partial}{\\partial T} \\psi{\\left(T,z \\right)}}{2} & \\frac{\\frac{\\partial}{\\partial z} \\psi{\\left(T,z \\right)}}{2} & 0 & 0\\\\0 & 0 & 0 & 0\\end{matrix}\\right] & \\left[\\begin{matrix}0 & 0 & 0 & - \\frac{\\frac{\\partial}{\\partial T} \\psi{\\left(T,z \\right)}}{2} + \\frac{1}{T}\\\\0 & 0 & 0 & - \\frac{\\frac{\\partial}{\\partial z} \\psi{\\left(T,z \\right)}}{2}\\\\0 & 0 & 0 & 0\\\\- \\frac{\\frac{\\partial}{\\partial T} \\psi{\\left(T,z \\right)}}{2} + \\frac{1}{T} & - \\frac{\\frac{\\partial}{\\partial z} \\psi{\\left(T,z \\right)}}{2} & 0 & 0\\end{matrix}\\right]\\end{matrix}\\right]$"
      ],
      "text/plain": [
       "⎡⎡∂             ∂            ∂             ∂                                                \n",
       "⎢⎢──(γ(T, z))   ──(ψ(T, z))  ──(γ(T, z))   ──(ψ(T, z))                                      \n",
       "⎢⎢∂T            ∂T           ∂z            ∂z                                               \n",
       "⎢⎢─────────── - ───────────  ─────────── - ───────────                  0                   \n",
       "⎢⎢     2             2            2             2                                           \n",
       "⎢⎢                                                                                          \n",
       "⎢⎢∂             ∂            ∂             ∂                                                \n",
       "⎢⎢──(γ(T, z))   ──(ψ(T, z))  ──(γ(T, z))   ──(ψ(T, z))                                      \n",
       "⎢⎢∂z            ∂z           ∂T            ∂T                                               \n",
       "⎢⎢─────────── - ───────────  ─────────── - ───────────                  0                   \n",
       "⎢⎢     2             2            2             2                                           \n",
       "⎢⎢                                                                                          \n",
       "⎢⎢                                                       -γ(T, z) + 2⋅ψ(T, z) ∂             \n",
       "⎢⎢                                                      ℯ                    ⋅──(ψ(T, z))   \n",
       "⎢⎢                                                                            ∂T            \n",
       "⎢⎢            0                          0              ─────────────────────────────────   \n",
       "⎢⎢                                                                      2                   \n",
       "⎢⎢                                                                                          \n",
       "⎢⎢                                                                                          \n",
       "⎢⎢                                                                                         T\n",
       "⎢⎢                                                                                          \n",
       "⎢⎢            0                          0                              0                  ─\n",
       "⎣⎣                                                                                          \n",
       "\n",
       "                                ⎤  ⎡∂             ∂            ∂             ∂              \n",
       "                                ⎥  ⎢──(γ(T, z))   ──(ψ(T, z))  ──(γ(T, z))   ──(ψ(T, z))    \n",
       "                                ⎥  ⎢∂z            ∂z           ∂T            ∂T             \n",
       "               0                ⎥  ⎢─────────── - ───────────  ─────────── - ───────────    \n",
       "                                ⎥  ⎢     2             2            2             2         \n",
       "                                ⎥  ⎢                                                        \n",
       "                                ⎥  ⎢∂             ∂            ∂             ∂              \n",
       "                                ⎥  ⎢──(γ(T, z))   ──(ψ(T, z))  ──(γ(T, z))   ──(ψ(T, z))    \n",
       "                                ⎥  ⎢∂T            ∂T           ∂z            ∂z             \n",
       "               0                ⎥  ⎢─────────── - ───────────  ─────────── - ───────────    \n",
       "                                ⎥  ⎢     2             2            2             2         \n",
       "                                ⎥  ⎢                                                        \n",
       "                                ⎥  ⎢                                                        \n",
       "                                ⎥  ⎢                                                      -ℯ\n",
       "                                ⎥  ⎢                                                        \n",
       "               0                ⎥  ⎢            0                          0              ──\n",
       "                                ⎥  ⎢                                                        \n",
       "                                ⎥  ⎢                                                        \n",
       " ⎛    ∂              ⎞  -γ(T, z)⎥  ⎢                                                        \n",
       "⋅⎜- T⋅──(ψ(T, z)) + 2⎟⋅ℯ        ⎥  ⎢                                                        \n",
       " ⎝    ∂T             ⎠          ⎥  ⎢                                                        \n",
       "────────────────────────────────⎥  ⎢            0                          0                \n",
       "               2                ⎦  ⎣                                                        \n",
       "\n",
       "                                                           ⎤                                \n",
       "                                                           ⎥                                \n",
       "                                                           ⎥  ⎡                          ∂  \n",
       "               0                              0            ⎥  ⎢                          ──(\n",
       "                                                           ⎥  ⎢                          ∂T \n",
       "                                                           ⎥  ⎢     0            0       ───\n",
       "                                                           ⎥  ⎢                             \n",
       "                                                           ⎥  ⎢                             \n",
       "                                                           ⎥  ⎢                          ∂  \n",
       "               0                              0            ⎥  ⎢                          ──(\n",
       "                                                           ⎥  ⎢                          ∂z \n",
       "                                                           ⎥  ⎢     0            0       ───\n",
       "-γ(T, z) + 2⋅ψ(T, z) ∂                                     ⎥  ⎢                             \n",
       "                    ⋅──(ψ(T, z))                           ⎥  ⎢                             \n",
       "                     ∂z                                    ⎥  ⎢∂            ∂               \n",
       "─────────────────────────────────             0            ⎥  ⎢──(ψ(T, z))  ──(ψ(T, z))     \n",
       "               2                                           ⎥  ⎢∂T           ∂z              \n",
       "                                                           ⎥  ⎢───────────  ───────────     \n",
       "                                    2  -γ(T, z) ∂          ⎥  ⎢     2            2          \n",
       "                                   T ⋅ℯ        ⋅──(ψ(T, z))⎥  ⎢                             \n",
       "                                                ∂z         ⎥  ⎣     0            0          \n",
       "               0                   ────────────────────────⎥                                \n",
       "                                              2            ⎦                                \n",
       "\n",
       "                                                                      ⎤\n",
       "                                                                      ⎥\n",
       "           ⎤  ⎡                                       ∂              ⎤⎥\n",
       "ψ(T, z))   ⎥  ⎢                                       ──(ψ(T, z))    ⎥⎥\n",
       "           ⎥  ⎢                                       ∂T            1⎥⎥\n",
       "────────  0⎥  ⎢        0                0        0  - ─────────── + ─⎥⎥\n",
       "  2        ⎥  ⎢                                            2        T⎥⎥\n",
       "           ⎥  ⎢                                                      ⎥⎥\n",
       "           ⎥  ⎢                                        ∂             ⎥⎥\n",
       "ψ(T, z))   ⎥  ⎢                                       -──(ψ(T, z))   ⎥⎥\n",
       "           ⎥  ⎢                                        ∂z            ⎥⎥\n",
       "────────  0⎥  ⎢        0                0        0    ─────────────  ⎥⎥\n",
       "  2        ⎥  ⎢                                             2        ⎥⎥\n",
       "           ⎥  ⎢                                                      ⎥⎥\n",
       "           ⎥  ⎢        0                0        0          0        ⎥⎥\n",
       "           ⎥  ⎢                                                      ⎥⎥\n",
       "           ⎥  ⎢  ∂                 ∂                                 ⎥⎥\n",
       "  0       0⎥  ⎢  ──(ψ(T, z))      -──(ψ(T, z))                       ⎥⎥\n",
       "           ⎥  ⎢  ∂T            1   ∂z                                ⎥⎥\n",
       "           ⎥  ⎢- ─────────── + ─  ─────────────  0          0        ⎥⎥\n",
       "  0       0⎦  ⎣       2        T        2                            ⎦⎥\n",
       "                                                                      ⎥\n",
       "                                                                      ⎦"
      ]
     },
     "execution_count": 15,
     "metadata": {},
     "output_type": "execute_result"
    }
   ],
   "source": [
    "ch = ChristoffelSymbols.from_metric(metric)\n",
    "simplify(ch.tensor())"
   ]
  },
  {
   "cell_type": "code",
   "execution_count": 16,
   "id": "bec9fe89",
   "metadata": {},
   "outputs": [
    {
     "data": {
      "text/latex": [
       "$\\displaystyle \\left[\\begin{matrix}\\frac{T \\left(- \\frac{\\partial^{2}}{\\partial T^{2}} \\gamma{\\left(T,z \\right)} + \\frac{\\partial^{2}}{\\partial z^{2}} \\gamma{\\left(T,z \\right)} - \\left(\\frac{\\partial}{\\partial T} \\psi{\\left(T,z \\right)}\\right)^{2} + \\frac{\\partial^{2}}{\\partial T^{2}} \\psi{\\left(T,z \\right)} - \\frac{\\partial^{2}}{\\partial z^{2}} \\psi{\\left(T,z \\right)}\\right) + \\frac{\\partial}{\\partial T} \\gamma{\\left(T,z \\right)} + \\frac{\\partial}{\\partial T} \\psi{\\left(T,z \\right)}}{2 T} & \\frac{- T \\frac{\\partial}{\\partial T} \\psi{\\left(T,z \\right)} \\frac{\\partial}{\\partial z} \\psi{\\left(T,z \\right)} + \\frac{\\partial}{\\partial z} \\gamma{\\left(T,z \\right)}}{2 T} & 0 & 0\\\\\\frac{- T \\frac{\\partial}{\\partial T} \\psi{\\left(T,z \\right)} \\frac{\\partial}{\\partial z} \\psi{\\left(T,z \\right)} + \\frac{\\partial}{\\partial z} \\gamma{\\left(T,z \\right)}}{2 T} & \\frac{T \\frac{\\partial^{2}}{\\partial T^{2}} \\gamma{\\left(T,z \\right)} - T \\frac{\\partial^{2}}{\\partial z^{2}} \\gamma{\\left(T,z \\right)} - T \\frac{\\partial^{2}}{\\partial T^{2}} \\psi{\\left(T,z \\right)} - T \\left(\\frac{\\partial}{\\partial z} \\psi{\\left(T,z \\right)}\\right)^{2} + T \\frac{\\partial^{2}}{\\partial z^{2}} \\psi{\\left(T,z \\right)} + \\frac{\\partial}{\\partial T} \\gamma{\\left(T,z \\right)} - \\frac{\\partial}{\\partial T} \\psi{\\left(T,z \\right)}}{2 T} & 0 & 0\\\\0 & 0 & \\frac{\\left(T \\frac{\\partial^{2}}{\\partial T^{2}} \\psi{\\left(T,z \\right)} - T \\frac{\\partial^{2}}{\\partial z^{2}} \\psi{\\left(T,z \\right)} + \\frac{\\partial}{\\partial T} \\psi{\\left(T,z \\right)}\\right) e^{- \\gamma{\\left(T,z \\right)} + 2 \\psi{\\left(T,z \\right)}}}{2 T} & 0\\\\0 & 0 & 0 & \\frac{T \\left(- T \\frac{\\partial^{2}}{\\partial T^{2}} \\psi{\\left(T,z \\right)} + T \\frac{\\partial^{2}}{\\partial z^{2}} \\psi{\\left(T,z \\right)} - \\frac{\\partial}{\\partial T} \\psi{\\left(T,z \\right)}\\right) e^{- \\gamma{\\left(T,z \\right)}}}{2}\\end{matrix}\\right]$"
      ],
      "text/plain": [
       "⎡  ⎛    2              2                         2     2              2         ⎞           \n",
       "⎢  ⎜   ∂              ∂             ⎛∂          ⎞     ∂              ∂          ⎟   ∂       \n",
       "⎢T⋅⎜- ───(γ(T, z)) + ───(γ(T, z)) - ⎜──(ψ(T, z))⎟  + ───(ψ(T, z)) - ───(ψ(T, z))⎟ + ──(γ(T, \n",
       "⎢  ⎜    2              2            ⎝∂T         ⎠      2              2         ⎟   ∂T      \n",
       "⎢  ⎝  ∂T             ∂z                              ∂T             ∂z          ⎠           \n",
       "⎢───────────────────────────────────────────────────────────────────────────────────────────\n",
       "⎢                                                    2⋅T                                    \n",
       "⎢                                                                                           \n",
       "⎢                                                                                           \n",
       "⎢                                                                                           \n",
       "⎢                                     ∂           ∂             ∂                           \n",
       "⎢                                 - T⋅──(ψ(T, z))⋅──(ψ(T, z)) + ──(γ(T, z))                 \n",
       "⎢                                     ∂T          ∂z            ∂z                          \n",
       "⎢                                 ─────────────────────────────────────────                 \n",
       "⎢                                                    2⋅T                                    \n",
       "⎢                                                                                           \n",
       "⎢                                                                                           \n",
       "⎢                                                                                           \n",
       "⎢                                                                                           \n",
       "⎢                                                                                           \n",
       "⎢                                                                                           \n",
       "⎢                                                     0                                     \n",
       "⎢                                                                                           \n",
       "⎢                                                                                           \n",
       "⎢                                                                                           \n",
       "⎢                                                                                           \n",
       "⎢                                                                                           \n",
       "⎢                                                                                           \n",
       "⎢                                                                                           \n",
       "⎢                                                     0                                     \n",
       "⎣                                                                                           \n",
       "\n",
       "                                                                                            \n",
       "      ∂                                                                                     \n",
       "z)) + ──(ψ(T, z))                                         ∂           ∂             ∂       \n",
       "      ∂T                                              - T⋅──(ψ(T, z))⋅──(ψ(T, z)) + ──(γ(T, \n",
       "                                                          ∂T          ∂z            ∂z      \n",
       "─────────────────                                     ──────────────────────────────────────\n",
       "                                                                         2⋅T                \n",
       "                                                                                            \n",
       "                       2                2                2                           2      \n",
       "                      ∂                ∂                ∂               ⎛∂          ⎞       \n",
       "                   T⋅───(γ(T, z)) - T⋅───(γ(T, z)) - T⋅───(ψ(T, z)) - T⋅⎜──(ψ(T, z))⎟  + T⋅─\n",
       "                       2                2                2              ⎝∂z         ⎠       \n",
       "                     ∂T               ∂z               ∂T                                  ∂\n",
       "                   ─────────────────────────────────────────────────────────────────────────\n",
       "                                                                         2⋅T                \n",
       "                                                                                            \n",
       "                                                                                            \n",
       "                                                                                            \n",
       "                                                                                            \n",
       "                                                                                            \n",
       "                                                                                            \n",
       "                                                                          0                 \n",
       "                                                                                            \n",
       "                                                                                            \n",
       "                                                                                            \n",
       "                                                                                            \n",
       "                                                                                            \n",
       "                                                                                            \n",
       "                                                                                            \n",
       "                                                                          0                 \n",
       "                                                                                            \n",
       "\n",
       "                                                                                            \n",
       "                                                                                            \n",
       "                                                                                            \n",
       "z))                                                                                         \n",
       "                                                                                            \n",
       "───                                                                        0                \n",
       "                                                                                            \n",
       "                                                                                            \n",
       " 2                                                                                          \n",
       "∂             ∂             ∂                                                               \n",
       "──(ψ(T, z)) + ──(γ(T, z)) - ──(ψ(T, z))                                                     \n",
       " 2            ∂T            ∂T                                                              \n",
       "z                                                                                           \n",
       "───────────────────────────────────────                                    0                \n",
       "                                                                                            \n",
       "                                                                                            \n",
       "                                         ⎛    2                2                       ⎞    \n",
       "                                         ⎜   ∂                ∂             ∂          ⎟  -γ\n",
       "                                         ⎜T⋅───(ψ(T, z)) - T⋅───(ψ(T, z)) + ──(ψ(T, z))⎟⋅ℯ  \n",
       "                                         ⎜    2                2            ∂T         ⎟    \n",
       "                                         ⎝  ∂T               ∂z                        ⎠    \n",
       "                                         ───────────────────────────────────────────────────\n",
       "                                                                          2⋅T               \n",
       "                                                                                            \n",
       "                                                                                            \n",
       "                                                                                            \n",
       "                                                                                            \n",
       "                                                                                            \n",
       "                                                                                            \n",
       "                                                                           0                \n",
       "                                                                                            \n",
       "\n",
       "                                                                                 ⎤\n",
       "                                                                                 ⎥\n",
       "                                                                                 ⎥\n",
       "                                                                                 ⎥\n",
       "                                                                                 ⎥\n",
       "                                                  0                              ⎥\n",
       "                                                                                 ⎥\n",
       "                                                                                 ⎥\n",
       "                                                                                 ⎥\n",
       "                                                                                 ⎥\n",
       "                                                                                 ⎥\n",
       "                                                                                 ⎥\n",
       "                                                                                 ⎥\n",
       "                                                  0                              ⎥\n",
       "                                                                                 ⎥\n",
       "                                                                                 ⎥\n",
       "                                                                                 ⎥\n",
       "(T, z) + 2⋅ψ(T, z)                                                               ⎥\n",
       "                                                                                 ⎥\n",
       "                                                                                 ⎥\n",
       "                                                                                 ⎥\n",
       "──────────────────                                0                              ⎥\n",
       "                                                                                 ⎥\n",
       "                                                                                 ⎥\n",
       "                      ⎛      2                2                       ⎞          ⎥\n",
       "                      ⎜     ∂                ∂             ∂          ⎟  -γ(T, z)⎥\n",
       "                    T⋅⎜- T⋅───(ψ(T, z)) + T⋅───(ψ(T, z)) - ──(ψ(T, z))⎟⋅ℯ        ⎥\n",
       "                      ⎜      2                2            ∂T         ⎟          ⎥\n",
       "                      ⎝    ∂T               ∂z                        ⎠          ⎥\n",
       "                    ─────────────────────────────────────────────────────────────⎥\n",
       "                                                  2                              ⎦"
      ]
     },
     "execution_count": 16,
     "metadata": {},
     "output_type": "execute_result"
    }
   ],
   "source": [
    "Ric = RicciTensor.from_metric(metric)\n",
    "Ric.tensor()"
   ]
  },
  {
   "cell_type": "code",
   "execution_count": 17,
   "id": "5a4ed84c",
   "metadata": {},
   "outputs": [
    {
     "data": {
      "image/png": "[encoded data removed]",
      "text/latex": [
       "$\\displaystyle \\frac{\\left(T \\frac{\\partial^{2}}{\\partial T^{2}} \\gamma{\\left(T,z \\right)} - T \\frac{\\partial^{2}}{\\partial z^{2}} \\gamma{\\left(T,z \\right)} + \\frac{T \\left(\\frac{\\partial}{\\partial T} \\psi{\\left(T,z \\right)}\\right)^{2}}{2} - T \\frac{\\partial^{2}}{\\partial T^{2}} \\psi{\\left(T,z \\right)} - \\frac{T \\left(\\frac{\\partial}{\\partial z} \\psi{\\left(T,z \\right)}\\right)^{2}}{2} + T \\frac{\\partial^{2}}{\\partial z^{2}} \\psi{\\left(T,z \\right)} - \\frac{\\partial}{\\partial T} \\psi{\\left(T,z \\right)}\\right) e^{- \\gamma{\\left(T,z \\right)} + \\psi{\\left(T,z \\right)}}}{T}$"
      ],
      "text/plain": [
       "⎛                                                 2                                   2     \n",
       "⎜                                    ⎛∂          ⎞                       ⎛∂          ⎞      \n",
       "⎜    2                2            T⋅⎜──(ψ(T, z))⎟        2            T⋅⎜──(ψ(T, z))⎟      \n",
       "⎜   ∂                ∂               ⎝∂T         ⎠       ∂               ⎝∂z         ⎠      \n",
       "⎜T⋅───(γ(T, z)) - T⋅───(γ(T, z)) + ──────────────── - T⋅───(ψ(T, z)) - ──────────────── + T⋅\n",
       "⎜    2                2                   2               2                   2             \n",
       "⎝  ∂T               ∂z                                  ∂T                                  \n",
       "────────────────────────────────────────────────────────────────────────────────────────────\n",
       "                                                                     T                      \n",
       "\n",
       "                          ⎞                    \n",
       "                          ⎟                    \n",
       "  2                       ⎟                    \n",
       " ∂             ∂          ⎟  -γ(T, z) + ψ(T, z)\n",
       "───(ψ(T, z)) - ──(ψ(T, z))⎟⋅ℯ                  \n",
       "  2            ∂T         ⎟                    \n",
       "∂z                        ⎠                    \n",
       "───────────────────────────────────────────────\n",
       "                                               "
      ]
     },
     "execution_count": 17,
     "metadata": {},
     "output_type": "execute_result"
    }
   ],
   "source": [
    "R = RicciScalar.from_riccitensor(Ric)\n",
    "R.simplify()\n",
    "R.expr"
   ]
  },
  {
   "cell_type": "code",
   "execution_count": 18,
   "id": "ecebe26b",
   "metadata": {},
   "outputs": [
    {
     "data": {
      "text/latex": [
       "$\\displaystyle \\left[\\begin{matrix}\\frac{T \\left(- \\frac{\\partial^{2}}{\\partial T^{2}} \\gamma{\\left(T,z \\right)} + \\frac{\\partial^{2}}{\\partial z^{2}} \\gamma{\\left(T,z \\right)} - \\left(\\frac{\\partial}{\\partial T} \\psi{\\left(T,z \\right)}\\right)^{2} + \\frac{\\partial^{2}}{\\partial T^{2}} \\psi{\\left(T,z \\right)} - \\frac{\\partial^{2}}{\\partial z^{2}} \\psi{\\left(T,z \\right)}\\right) + \\frac{\\partial}{\\partial T} \\gamma{\\left(T,z \\right)} + \\frac{\\partial}{\\partial T} \\psi{\\left(T,z \\right)}}{2 T} + \\frac{0.5 \\left(T \\frac{\\partial^{2}}{\\partial T^{2}} \\gamma{\\left(T,z \\right)} - T \\frac{\\partial^{2}}{\\partial z^{2}} \\gamma{\\left(T,z \\right)} + \\frac{T \\left(\\frac{\\partial}{\\partial T} \\psi{\\left(T,z \\right)}\\right)^{2}}{2} - T \\frac{\\partial^{2}}{\\partial T^{2}} \\psi{\\left(T,z \\right)} - \\frac{T \\left(\\frac{\\partial}{\\partial z} \\psi{\\left(T,z \\right)}\\right)^{2}}{2} + T \\frac{\\partial^{2}}{\\partial z^{2}} \\psi{\\left(T,z \\right)} - \\frac{\\partial}{\\partial T} \\psi{\\left(T,z \\right)}\\right) e^{- \\gamma{\\left(T,z \\right)} + \\psi{\\left(T,z \\right)}} e^{\\gamma{\\left(T,z \\right)}} e^{- \\psi{\\left(T,z \\right)}}}{T} & \\frac{- T \\frac{\\partial}{\\partial T} \\psi{\\left(T,z \\right)} \\frac{\\partial}{\\partial z} \\psi{\\left(T,z \\right)} + \\frac{\\partial}{\\partial z} \\gamma{\\left(T,z \\right)}}{2 T} & 0 & 0\\\\\\frac{- T \\frac{\\partial}{\\partial T} \\psi{\\left(T,z \\right)} \\frac{\\partial}{\\partial z} \\psi{\\left(T,z \\right)} + \\frac{\\partial}{\\partial z} \\gamma{\\left(T,z \\right)}}{2 T} & - \\frac{0.5 \\left(T \\frac{\\partial^{2}}{\\partial T^{2}} \\gamma{\\left(T,z \\right)} - T \\frac{\\partial^{2}}{\\partial z^{2}} \\gamma{\\left(T,z \\right)} + \\frac{T \\left(\\frac{\\partial}{\\partial T} \\psi{\\left(T,z \\right)}\\right)^{2}}{2} - T \\frac{\\partial^{2}}{\\partial T^{2}} \\psi{\\left(T,z \\right)} - \\frac{T \\left(\\frac{\\partial}{\\partial z} \\psi{\\left(T,z \\right)}\\right)^{2}}{2} + T \\frac{\\partial^{2}}{\\partial z^{2}} \\psi{\\left(T,z \\right)} - \\frac{\\partial}{\\partial T} \\psi{\\left(T,z \\right)}\\right) e^{- \\gamma{\\left(T,z \\right)} + \\psi{\\left(T,z \\right)}} e^{\\gamma{\\left(T,z \\right)}} e^{- \\psi{\\left(T,z \\right)}}}{T} + \\frac{T \\frac{\\partial^{2}}{\\partial T^{2}} \\gamma{\\left(T,z \\right)} - T \\frac{\\partial^{2}}{\\partial z^{2}} \\gamma{\\left(T,z \\right)} - T \\frac{\\partial^{2}}{\\partial T^{2}} \\psi{\\left(T,z \\right)} - T \\left(\\frac{\\partial}{\\partial z} \\psi{\\left(T,z \\right)}\\right)^{2} + T \\frac{\\partial^{2}}{\\partial z^{2}} \\psi{\\left(T,z \\right)} + \\frac{\\partial}{\\partial T} \\gamma{\\left(T,z \\right)} - \\frac{\\partial}{\\partial T} \\psi{\\left(T,z \\right)}}{2 T} & 0 & 0\\\\0 & 0 & \\frac{\\left(T \\frac{\\partial^{2}}{\\partial T^{2}} \\psi{\\left(T,z \\right)} - T \\frac{\\partial^{2}}{\\partial z^{2}} \\psi{\\left(T,z \\right)} + \\frac{\\partial}{\\partial T} \\psi{\\left(T,z \\right)}\\right) e^{- \\gamma{\\left(T,z \\right)} + 2 \\psi{\\left(T,z \\right)}}}{2 T} - \\frac{0.5 \\left(T \\frac{\\partial^{2}}{\\partial T^{2}} \\gamma{\\left(T,z \\right)} - T \\frac{\\partial^{2}}{\\partial z^{2}} \\gamma{\\left(T,z \\right)} + \\frac{T \\left(\\frac{\\partial}{\\partial T} \\psi{\\left(T,z \\right)}\\right)^{2}}{2} - T \\frac{\\partial^{2}}{\\partial T^{2}} \\psi{\\left(T,z \\right)} - \\frac{T \\left(\\frac{\\partial}{\\partial z} \\psi{\\left(T,z \\right)}\\right)^{2}}{2} + T \\frac{\\partial^{2}}{\\partial z^{2}} \\psi{\\left(T,z \\right)} - \\frac{\\partial}{\\partial T} \\psi{\\left(T,z \\right)}\\right) e^{- \\gamma{\\left(T,z \\right)} + \\psi{\\left(T,z \\right)}} e^{\\psi{\\left(T,z \\right)}}}{T} & 0\\\\0 & 0 & 0 & \\frac{T \\left(- T \\frac{\\partial^{2}}{\\partial T^{2}} \\psi{\\left(T,z \\right)} + T \\frac{\\partial^{2}}{\\partial z^{2}} \\psi{\\left(T,z \\right)} - \\frac{\\partial}{\\partial T} \\psi{\\left(T,z \\right)}\\right) e^{- \\gamma{\\left(T,z \\right)}}}{2} - 0.5 T \\left(T \\frac{\\partial^{2}}{\\partial T^{2}} \\gamma{\\left(T,z \\right)} - T \\frac{\\partial^{2}}{\\partial z^{2}} \\gamma{\\left(T,z \\right)} + \\frac{T \\left(\\frac{\\partial}{\\partial T} \\psi{\\left(T,z \\right)}\\right)^{2}}{2} - T \\frac{\\partial^{2}}{\\partial T^{2}} \\psi{\\left(T,z \\right)} - \\frac{T \\left(\\frac{\\partial}{\\partial z} \\psi{\\left(T,z \\right)}\\right)^{2}}{2} + T \\frac{\\partial^{2}}{\\partial z^{2}} \\psi{\\left(T,z \\right)} - \\frac{\\partial}{\\partial T} \\psi{\\left(T,z \\right)}\\right) e^{- \\gamma{\\left(T,z \\right)} + \\psi{\\left(T,z \\right)}} e^{- \\psi{\\left(T,z \\right)}}\\end{matrix}\\right]$"
      ],
      "text/plain": [
       "⎡                                                                                           \n",
       "⎢                                                                                           \n",
       "⎢  ⎛    2              2                         2     2              2         ⎞           \n",
       "⎢  ⎜   ∂              ∂             ⎛∂          ⎞     ∂              ∂          ⎟   ∂       \n",
       "⎢T⋅⎜- ───(γ(T, z)) + ───(γ(T, z)) - ⎜──(ψ(T, z))⎟  + ───(ψ(T, z)) - ───(ψ(T, z))⎟ + ──(γ(T, \n",
       "⎢  ⎜    2              2            ⎝∂T         ⎠      2              2         ⎟   ∂T      \n",
       "⎢  ⎝  ∂T             ∂z                              ∂T             ∂z          ⎠           \n",
       "⎢───────────────────────────────────────────────────────────────────────────────────────────\n",
       "⎢                                                    2⋅T                                    \n",
       "⎢                                                                                           \n",
       "⎢                                                                                           \n",
       "⎢                                                                                           \n",
       "⎢                                                                                           \n",
       "⎢                                                                                           \n",
       "⎢                                                                                           \n",
       "⎢                                                                                           \n",
       "⎢                                                                                           \n",
       "⎢                                                                                           \n",
       "⎢                                                                                           \n",
       "⎢                                                                                           \n",
       "⎢                                                                                           \n",
       "⎢                                                                                           \n",
       "⎢                                                                                           \n",
       "⎢                                                                                           \n",
       "⎢                                                                                           \n",
       "⎢                                                                                           \n",
       "⎢                                                                                           \n",
       "⎢                                                                                           \n",
       "⎢                                                                                           \n",
       "⎢                                                                                           \n",
       "⎢                                                                                           \n",
       "⎢                                                                                           \n",
       "⎢                                                                                           \n",
       "⎢                                                                                           \n",
       "⎢                                                                                           \n",
       "⎢                                                                                           \n",
       "⎢                                                                                           \n",
       "⎣                                                                                           \n",
       "\n",
       "                        ⎛                                                 2                 \n",
       "                        ⎜                                    ⎛∂          ⎞                  \n",
       "                        ⎜    2                2            T⋅⎜──(ψ(T, z))⎟        2         \n",
       "      ∂                 ⎜   ∂                ∂               ⎝∂T         ⎠       ∂          \n",
       "z)) + ──(ψ(T, z))   0.5⋅⎜T⋅───(γ(T, z)) - T⋅───(γ(T, z)) + ──────────────── - T⋅───(ψ(T, z))\n",
       "      ∂T                ⎜    2                2                   2               2         \n",
       "                        ⎝  ∂T               ∂z                                  ∂T          \n",
       "───────────────── + ────────────────────────────────────────────────────────────────────────\n",
       "                                                                                            \n",
       "                                                                                            \n",
       "                                                                                            \n",
       "                                                                                            \n",
       "                                                                                            \n",
       "                                                                                            \n",
       "                             ∂           ∂             ∂                                    \n",
       "                         - T⋅──(ψ(T, z))⋅──(ψ(T, z)) + ──(γ(T, z))                          \n",
       "                             ∂T          ∂z            ∂z                                   \n",
       "                         ─────────────────────────────────────────                          \n",
       "                                            2⋅T                                             \n",
       "                                                                                            \n",
       "                                                                                            \n",
       "                                                                                            \n",
       "                                                                                            \n",
       "                                                                                            \n",
       "                                                                                            \n",
       "                                                                                            \n",
       "                                                                                            \n",
       "                                             0                                              \n",
       "                                                                                            \n",
       "                                                                                            \n",
       "                                                                                            \n",
       "                                                                                            \n",
       "                                                                                            \n",
       "                                                                                            \n",
       "                                                                                            \n",
       "                                             0                                              \n",
       "                                                                                            \n",
       "                                                                                            \n",
       "\n",
       "                  2                               ⎞                                         \n",
       "     ⎛∂          ⎞                                ⎟                                         \n",
       "   T⋅⎜──(ψ(T, z))⎟        2                       ⎟                                         \n",
       "     ⎝∂z         ⎠       ∂             ∂          ⎟  -γ(T, z) + ψ(T, z)  γ(T, z)  -ψ(T, z)  \n",
       " - ──────────────── + T⋅───(ψ(T, z)) - ──(ψ(T, z))⎟⋅ℯ                  ⋅ℯ       ⋅ℯ          \n",
       "          2               2            ∂T         ⎟                                         \n",
       "                        ∂z                        ⎠                                         \n",
       "──────────────────────────────────────────────────────────────────────────────────────────  \n",
       "        T                                                                                   \n",
       "                                                                                            \n",
       "                                                                                            \n",
       "                                                                                            \n",
       "                                                                                            \n",
       "                                                                                            \n",
       "                                                                                            \n",
       "                                                                                            \n",
       "                                                                                            \n",
       "                                                                                            \n",
       "                                                                                            \n",
       "                                                                                            \n",
       "                                                                                            \n",
       "                                                                                            \n",
       "                                                                                            \n",
       "                                                                                            \n",
       "                                                                                            \n",
       "                                                                                            \n",
       "                                                                                            \n",
       "                                                                                            \n",
       "                                                                                            \n",
       "                                                                                            \n",
       "                                                                                            \n",
       "                                                                                            \n",
       "                                                                                            \n",
       "                                                                                            \n",
       "                                                                                            \n",
       "                                                                                            \n",
       "                                                                                            \n",
       "                                                                                            \n",
       "\n",
       "                                                                                            \n",
       "                                                                                            \n",
       "                                                                                            \n",
       "                                                                                            \n",
       "                                                                                            \n",
       "                                                                                            \n",
       "                                                                                            \n",
       "                                                                                            \n",
       "                                                                                            \n",
       "                                                                                            \n",
       "      ⎛                                                 2                                   \n",
       "      ⎜                                    ⎛∂          ⎞                       ⎛∂          ⎞\n",
       "      ⎜    2                2            T⋅⎜──(ψ(T, z))⎟        2            T⋅⎜──(ψ(T, z))⎟\n",
       "      ⎜   ∂                ∂               ⎝∂T         ⎠       ∂               ⎝∂z         ⎠\n",
       "  0.5⋅⎜T⋅───(γ(T, z)) - T⋅───(γ(T, z)) + ──────────────── - T⋅───(ψ(T, z)) - ───────────────\n",
       "      ⎜    2                2                   2               2                   2       \n",
       "      ⎝  ∂T               ∂z                                  ∂T                            \n",
       "- ──────────────────────────────────────────────────────────────────────────────────────────\n",
       "                                                                                  T         \n",
       "                                                                                            \n",
       "                                                                                            \n",
       "                                                                                            \n",
       "                                                                                            \n",
       "                                                                                            \n",
       "                                                                                            \n",
       "                                                                                            \n",
       "                                                                                            \n",
       "                                                                                            \n",
       "                                                                                            \n",
       "                                                                                            \n",
       "                                                                                            \n",
       "                                                                                            \n",
       "                                                                                            \n",
       "                                                                                            \n",
       "                                                                                            \n",
       "                                                                                            \n",
       "                                                                                            \n",
       "                                                                                            \n",
       "\n",
       "                                                                                            \n",
       "                                                                                            \n",
       "                                                                                            \n",
       "                                                                                            \n",
       "                               ∂           ∂             ∂                                  \n",
       "                           - T⋅──(ψ(T, z))⋅──(ψ(T, z)) + ──(γ(T, z))                        \n",
       "                               ∂T          ∂z            ∂z                                 \n",
       "                           ─────────────────────────────────────────                        \n",
       "                                              2⋅T                                           \n",
       "                                                                                            \n",
       "2                               ⎞                                                           \n",
       "                                ⎟                                                           \n",
       "        2                       ⎟                                              2            \n",
       "       ∂             ∂          ⎟  -γ(T, z) + ψ(T, z)  γ(T, z)  -ψ(T, z)      ∂             \n",
       "─ + T⋅───(ψ(T, z)) - ──(ψ(T, z))⎟⋅ℯ                  ⋅ℯ       ⋅ℯ           T⋅───(γ(T, z)) - \n",
       "        2            ∂T         ⎟                                              2            \n",
       "      ∂z                        ⎠                                            ∂T             \n",
       "──────────────────────────────────────────────────────────────────────── + ─────────────────\n",
       "                                                                                            \n",
       "                                                                                            \n",
       "                                                                                            \n",
       "                                                                                            \n",
       "                                                                                            \n",
       "                                                                                            \n",
       "                                                                                            \n",
       "                                                                                            \n",
       "                                                                                            \n",
       "                                               0                                            \n",
       "                                                                                            \n",
       "                                                                                            \n",
       "                                                                                            \n",
       "                                                                                            \n",
       "                                                                                            \n",
       "                                                                                            \n",
       "                                                                                            \n",
       "                                               0                                            \n",
       "                                                                                            \n",
       "                                                                                            \n",
       "\n",
       "                                                                                            \n",
       "                                                                                            \n",
       "                                                                                            \n",
       "                                                                                            \n",
       "                                                                                            \n",
       "                                                                                            \n",
       "                                                                                            \n",
       "                                                                                            \n",
       "                                                                                            \n",
       "                                                                                            \n",
       "                                                                                            \n",
       "                                                                                            \n",
       "    2                2                           2       2                                  \n",
       "   ∂                ∂               ⎛∂          ⎞       ∂             ∂             ∂       \n",
       "T⋅───(γ(T, z)) - T⋅───(ψ(T, z)) - T⋅⎜──(ψ(T, z))⎟  + T⋅───(ψ(T, z)) + ──(γ(T, z)) - ──(ψ(T, \n",
       "    2                2              ⎝∂z         ⎠        2            ∂T            ∂T      \n",
       "  ∂z               ∂T                                  ∂z                                   \n",
       "────────────────────────────────────────────────────────────────────────────────────────────\n",
       "                                     2⋅T                                                    \n",
       "                                                                                            \n",
       "                                                                                            \n",
       "                                                                                            \n",
       "                                                                                            \n",
       "                                                                                            \n",
       "                                                                                            \n",
       "                                                                                            \n",
       "                                                                                            \n",
       "                                                                                            \n",
       "                                                                                            \n",
       "                                                                                            \n",
       "                                                                                            \n",
       "                                                                                            \n",
       "                                                                                            \n",
       "                                                                                            \n",
       "                                                                                            \n",
       "                                                                                            \n",
       "                                                                                            \n",
       "                                                                                            \n",
       "\n",
       "                                                                                            \n",
       "                                                                                            \n",
       "                                                                                            \n",
       "                                                                                            \n",
       "                                                                                            \n",
       "                                                                                            \n",
       "                                                                                            \n",
       "                                                                                            \n",
       "                                                                                            \n",
       "                                                                                            \n",
       "                                                                                            \n",
       "                                                                                            \n",
       "                                                                                            \n",
       "                                                                                            \n",
       "z))                                                                                         \n",
       "                                                                                            \n",
       "                                                                                            \n",
       "───                                                                                         \n",
       "                                                                                            \n",
       "                                                                                            \n",
       "                                                                                 ⎛          \n",
       "                                                                                 ⎜          \n",
       "     ⎛    2                2                       ⎞                             ⎜    2     \n",
       "     ⎜   ∂                ∂             ∂          ⎟  -γ(T, z) + 2⋅ψ(T, z)       ⎜   ∂      \n",
       "     ⎜T⋅───(ψ(T, z)) - T⋅───(ψ(T, z)) + ──(ψ(T, z))⎟⋅ℯ                       0.5⋅⎜T⋅───(γ(T,\n",
       "     ⎜    2                2            ∂T         ⎟                             ⎜    2     \n",
       "     ⎝  ∂T               ∂z                        ⎠                             ⎝  ∂T      \n",
       "     ───────────────────────────────────────────────────────────────────── - ───────────────\n",
       "                                      2⋅T                                                   \n",
       "                                                                                            \n",
       "                                                                                            \n",
       "                                                                                            \n",
       "                                                                                            \n",
       "                                                                                            \n",
       "                                                                                            \n",
       "                                                                                            \n",
       "                                                                                            \n",
       "                                                                                            \n",
       "\n",
       "                                                                                            \n",
       "                                                                                            \n",
       "                                                                                            \n",
       "                                                                                            \n",
       "                                                                                            \n",
       "                                                                                            \n",
       "                                                                                            \n",
       "                        0                                                                   \n",
       "                                                                                            \n",
       "                                                                                            \n",
       "                                                                                            \n",
       "                                                                                            \n",
       "                                                                                            \n",
       "                                                                                            \n",
       "                                                                                            \n",
       "                                                                                            \n",
       "                                                                                            \n",
       "                        0                                                                   \n",
       "                                                                                            \n",
       "                                                                                            \n",
       "                                       2                                   2                \n",
       "                          ⎛∂          ⎞                       ⎛∂          ⎞                 \n",
       "           2            T⋅⎜──(ψ(T, z))⎟        2            T⋅⎜──(ψ(T, z))⎟        2        \n",
       "          ∂               ⎝∂T         ⎠       ∂               ⎝∂z         ⎠       ∂         \n",
       " z)) - T⋅───(γ(T, z)) + ──────────────── - T⋅───(ψ(T, z)) - ──────────────── + T⋅───(ψ(T, z)\n",
       "           2                   2               2                   2               2        \n",
       "         ∂z                                  ∂T                                  ∂z         \n",
       "────────────────────────────────────────────────────────────────────────────────────────────\n",
       "                                                            T                               \n",
       "                                                                                            \n",
       "                                                                                            \n",
       "                                                                                            \n",
       "                                                                                            \n",
       "                                                                                            \n",
       "                                                                                            \n",
       "                        0                                                                   \n",
       "                                                                                            \n",
       "                                                                                            \n",
       "\n",
       "                                                                                            \n",
       "                                                                                            \n",
       "                                                                                            \n",
       "                                                                                            \n",
       "                                                                                            \n",
       "                                                                                            \n",
       "                                                                                            \n",
       "                                                                                            \n",
       "                                                                                            \n",
       "                                                                                            \n",
       "                                                                                            \n",
       "                                                                                            \n",
       "                                                                                            \n",
       "                                                                                            \n",
       "                                                                                            \n",
       "                                                                                            \n",
       "                                                                                            \n",
       "                                                                                            \n",
       "                                                                                            \n",
       "                                                                                            \n",
       "               ⎞                                                                            \n",
       "               ⎟                                                                            \n",
       "               ⎟                                                                            \n",
       "    ∂          ⎟  -γ(T, z) + ψ(T, z)  ψ(T, z)                                               \n",
       ") - ──(ψ(T, z))⎟⋅ℯ                  ⋅ℯ                                                      \n",
       "    ∂T         ⎟                                                                            \n",
       "               ⎠                                                                            \n",
       "─────────────────────────────────────────────                                               \n",
       "                                                                                            \n",
       "                                                                                            \n",
       "                                                 ⎛      2                2                  \n",
       "                                                 ⎜     ∂                ∂             ∂     \n",
       "                                               T⋅⎜- T⋅───(ψ(T, z)) + T⋅───(ψ(T, z)) - ──(ψ(T\n",
       "                                                 ⎜      2                2            ∂T    \n",
       "                                                 ⎝    ∂T               ∂z                   \n",
       "                                               ─────────────────────────────────────────────\n",
       "                                                                             2              \n",
       "                                                                                            \n",
       "\n",
       "                                                                                            \n",
       "                                                                                            \n",
       "                                                                                            \n",
       "                                                                                            \n",
       "                                                                                            \n",
       "                                                                                            \n",
       "                                                                                            \n",
       "                                                                0                           \n",
       "                                                                                            \n",
       "                                                                                            \n",
       "                                                                                            \n",
       "                                                                                            \n",
       "                                                                                            \n",
       "                                                                                            \n",
       "                                                                                            \n",
       "                                                                                            \n",
       "                                                                                            \n",
       "                                                                0                           \n",
       "                                                                                            \n",
       "                                                                                            \n",
       "                                                                                            \n",
       "                                                                                            \n",
       "                                                                                            \n",
       "                                                                                            \n",
       "                                                                                            \n",
       "                                                                                            \n",
       "                                                                                            \n",
       "                                                                0                           \n",
       "                                                                                            \n",
       "                                                                                            \n",
       "     ⎞                                                                                      \n",
       "     ⎟  -γ(T, z)         ⎛                                                 2                \n",
       ", z))⎟⋅ℯ                 ⎜                                    ⎛∂          ⎞                 \n",
       "     ⎟                   ⎜    2                2            T⋅⎜──(ψ(T, z))⎟        2        \n",
       "     ⎠                   ⎜   ∂                ∂               ⎝∂T         ⎠       ∂         \n",
       "──────────────── - 0.5⋅T⋅⎜T⋅───(γ(T, z)) - T⋅───(γ(T, z)) + ──────────────── - T⋅───(ψ(T, z)\n",
       "                         ⎜    2                2                   2               2        \n",
       "                         ⎝  ∂T               ∂z                                  ∂T         \n",
       "\n",
       "                                                                                  ⎤\n",
       "                                                                                  ⎥\n",
       "                                                                                  ⎥\n",
       "                                                                                  ⎥\n",
       "                                                                                  ⎥\n",
       "                                                                                  ⎥\n",
       "                                                                                  ⎥\n",
       "                                                                                  ⎥\n",
       "                                                                                  ⎥\n",
       "                                                                                  ⎥\n",
       "                                                                                  ⎥\n",
       "                                                                                  ⎥\n",
       "                                                                                  ⎥\n",
       "                                                                                  ⎥\n",
       "                                                                                  ⎥\n",
       "                                                                                  ⎥\n",
       "                                                                                  ⎥\n",
       "                                                                                  ⎥\n",
       "                                                                                  ⎥\n",
       "                                                                                  ⎥\n",
       "                                                                                  ⎥\n",
       "                                                                                  ⎥\n",
       "                                                                                  ⎥\n",
       "                                                                                  ⎥\n",
       "                                                                                  ⎥\n",
       "                                                                                  ⎥\n",
       "                                                                                  ⎥\n",
       "                                                                                  ⎥\n",
       "                                                                                  ⎥\n",
       "                                                                                  ⎥\n",
       "                                                                                  ⎥\n",
       "                   2                               ⎞                              ⎥\n",
       "      ⎛∂          ⎞                                ⎟                              ⎥\n",
       "    T⋅⎜──(ψ(T, z))⎟        2                       ⎟                              ⎥\n",
       "      ⎝∂z         ⎠       ∂             ∂          ⎟  -γ(T, z) + ψ(T, z)  -ψ(T, z)⎥\n",
       ") - ──────────────── + T⋅───(ψ(T, z)) - ──(ψ(T, z))⎟⋅ℯ                  ⋅ℯ        ⎥\n",
       "           2               2            ∂T         ⎟                              ⎥\n",
       "                         ∂z                        ⎠                              ⎦"
      ]
     },
     "execution_count": 18,
     "metadata": {},
     "output_type": "execute_result"
    }
   ],
   "source": [
    "einst = EinsteinTensor.from_metric(metric)\n",
    "einst.tensor()"
   ]
  },
  {
   "cell_type": "code",
   "execution_count": 19,
   "id": "d17f51dd",
   "metadata": {},
   "outputs": [],
   "source": [
    "#  rm1 = RiemannCurvatureTensor.from_christoffels(ch)\n",
    "#  rm1.tensor()"
   ]
  },
  {
   "cell_type": "code",
   "execution_count": 20,
   "id": "bbf96a7a",
   "metadata": {},
   "outputs": [],
   "source": [
    "#  weyl = WeylTensor.from_metric(metric)\n",
    "#  weyl.tensor()"
   ]
  },
  {
   "cell_type": "code",
   "execution_count": 41,
   "id": "558d1df1",
   "metadata": {},
   "outputs": [
    {
     "data": {
      "image/png": "[encoded data removed]",
      "text/latex": [
       "$\\displaystyle \\frac{\\partial^{2}}{\\partial T^{2}} \\psi{\\left(T,z \\right)} - \\frac{\\partial^{2}}{\\partial z^{2}} \\psi{\\left(T,z \\right)} + \\frac{\\frac{\\partial}{\\partial T} \\psi{\\left(T,z \\right)}}{T} = 0$"
      ],
      "text/plain": [
       "                              ∂              \n",
       "  2              2            ──(ψ(T, z))    \n",
       " ∂              ∂             ∂T             \n",
       "───(ψ(T, z)) - ───(ψ(T, z)) + ─────────── = 0\n",
       "  2              2                 T         \n",
       "∂T             ∂z                            "
      ]
     },
     "execution_count": 41,
     "metadata": {},
     "output_type": "execute_result"
    }
   ],
   "source": [
    "equation4pt5 = Eq(expand((1/T)*Ric.tensor()[2,2].args[2]),0)\n",
    "equation4pt5"
   ]
  },
  {
   "cell_type": "code",
   "execution_count": 48,
   "id": "4e6a9adb",
   "metadata": {},
   "outputs": [
    {
     "data": {
      "image/png": "[encoded data removed]",
      "text/latex": [
       "$\\displaystyle \\frac{\\partial}{\\partial z} \\gamma{\\left(T,z \\right)} = T \\frac{\\partial}{\\partial T} \\psi{\\left(T,z \\right)} \\frac{\\partial}{\\partial z} \\psi{\\left(T,z \\right)}$"
      ],
      "text/plain": [
       "∂               ∂           ∂          \n",
       "──(γ(T, z)) = T⋅──(ψ(T, z))⋅──(ψ(T, z))\n",
       "∂z              ∂T          ∂z         "
      ]
     },
     "execution_count": 48,
     "metadata": {},
     "output_type": "execute_result"
    }
   ],
   "source": [
    "equation4pt5b = Eq( diff(gamma,z),solve( einst.tensor()[0,1].args[2], diff(gamma,z))[0] ) \n",
    "equation4pt5b"
   ]
  },
  {
   "cell_type": "code",
   "execution_count": 42,
   "id": "2c7d75d0",
   "metadata": {},
   "outputs": [
    {
     "data": {
      "image/png": "[encoded data removed]",
      "text/latex": [
       "$\\displaystyle \\frac{\\partial}{\\partial T} \\gamma{\\left(T,z \\right)} = \\frac{T \\left(\\frac{\\partial}{\\partial T} \\psi{\\left(T,z \\right)}\\right)^{2}}{2} + \\frac{T \\left(\\frac{\\partial}{\\partial z} \\psi{\\left(T,z \\right)}\\right)^{2}}{2}$"
      ],
      "text/plain": [
       "                             2                  2\n",
       "                ⎛∂          ⎞      ⎛∂          ⎞ \n",
       "              T⋅⎜──(ψ(T, z))⎟    T⋅⎜──(ψ(T, z))⎟ \n",
       "∂               ⎝∂T         ⎠      ⎝∂z         ⎠ \n",
       "──(γ(T, z)) = ──────────────── + ────────────────\n",
       "∂T                   2                  2        "
      ]
     },
     "execution_count": 42,
     "metadata": {},
     "output_type": "execute_result"
    }
   ],
   "source": [
    "equation4pt5c = Eq(diff(gamma,T), expand(solve( expand(Ric.tensor()[0,0].args[2]) + Ric.tensor()[1,1].args[2], diff(gamma,T) )[0]))\n",
    "equation4pt5c"
   ]
  },
  {
   "cell_type": "code",
   "execution_count": 50,
   "id": "ea76e9df",
   "metadata": {},
   "outputs": [
    {
     "data": {
      "text/latex": [
       "$\\displaystyle \\left[\\begin{matrix}\\frac{\\partial^{2}}{\\partial T^{2}} \\psi{\\left(T,z \\right)} - \\frac{\\partial^{2}}{\\partial z^{2}} \\psi{\\left(T,z \\right)} + \\frac{\\frac{\\partial}{\\partial T} \\psi{\\left(T,z \\right)}}{T} = 0\\\\\\frac{\\partial}{\\partial z} \\gamma{\\left(T,z \\right)} = T \\frac{\\partial}{\\partial T} \\psi{\\left(T,z \\right)} \\frac{\\partial}{\\partial z} \\psi{\\left(T,z \\right)}\\\\\\frac{\\partial}{\\partial T} \\gamma{\\left(T,z \\right)} = \\frac{T \\left(\\frac{\\partial}{\\partial T} \\psi{\\left(T,z \\right)}\\right)^{2}}{2} + \\frac{T \\left(\\frac{\\partial}{\\partial z} \\psi{\\left(T,z \\right)}\\right)^{2}}{2}\\end{matrix}\\right]$"
      ],
      "text/plain": [
       "⎡                                ∂                ⎤\n",
       "⎢    2              2            ──(ψ(T, z))      ⎥\n",
       "⎢   ∂              ∂             ∂T               ⎥\n",
       "⎢  ───(ψ(T, z)) - ───(ψ(T, z)) + ─────────── = 0  ⎥\n",
       "⎢    2              2                 T           ⎥\n",
       "⎢  ∂T             ∂z                              ⎥\n",
       "⎢                                                 ⎥\n",
       "⎢     ∂               ∂           ∂               ⎥\n",
       "⎢     ──(γ(T, z)) = T⋅──(ψ(T, z))⋅──(ψ(T, z))     ⎥\n",
       "⎢     ∂z              ∂T          ∂z              ⎥\n",
       "⎢                                                 ⎥\n",
       "⎢                             2                  2⎥\n",
       "⎢                ⎛∂          ⎞      ⎛∂          ⎞ ⎥\n",
       "⎢              T⋅⎜──(ψ(T, z))⎟    T⋅⎜──(ψ(T, z))⎟ ⎥\n",
       "⎢∂               ⎝∂T         ⎠      ⎝∂z         ⎠ ⎥\n",
       "⎢──(γ(T, z)) = ──────────────── + ────────────────⎥\n",
       "⎣∂T                   2                  2        ⎦"
      ]
     },
     "execution_count": 50,
     "metadata": {},
     "output_type": "execute_result"
    }
   ],
   "source": [
    "vacuumFieldEquations = Matrix([equation4pt5,equation4pt5b,equation4pt5c])\n",
    "vacuumFieldEquations"
   ]
  },
  {
   "cell_type": "code",
   "execution_count": null,
   "id": "d38dfc55",
   "metadata": {},
   "outputs": [],
   "source": []
  }
 ],
 "metadata": {
  "@webio": {
   "lastCommId": "9858216ef31a4197a5977399f79fd3e3",
   "lastKernelId": "8dbf6e84-5fbb-4714-ba27-90208fca8973"
  },
  "kernelspec": {
   "display_name": "Python 3 (ipykernel)",
   "language": "python",
   "name": "python3"
  },
  "language_info": {
   "codemirror_mode": {
    "name": "ipython",
    "version": 3
   },
   "file_extension": ".py",
   "mimetype": "text/x-python",
   "name": "python",
   "nbconvert_exporter": "python",
   "pygments_lexer": "ipython3",
   "version": "3.8.8"
  }
 },
 "nbformat": 4,
 "nbformat_minor": 5
}
