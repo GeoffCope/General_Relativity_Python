{
 "cells": [
  {
   "cell_type": "markdown",
   "id": "7e5aecea",
   "metadata": {},
   "source": [
    "# Dynamics of Rotating Cylindrical Shells in General Relativity by Wang et al\n",
    "##  Geoff Cope\n",
    "##  Univeristy of Utah\n",
    "##  December 24, 2021 Christmas Eve!"
   ]
  },
  {
   "cell_type": "markdown",
   "id": "539d40bc",
   "metadata": {},
   "source": [
    "Here we concentrate on the metric given as equation 1"
   ]
  },
  {
   "cell_type": "markdown",
   "id": "0c776077",
   "metadata": {},
   "source": [
    "https://arxiv.org/abs/gr-qc/0007078"
   ]
  },
  {
   "cell_type": "code",
   "execution_count": 1,
   "id": "5f3c747f",
   "metadata": {},
   "outputs": [
    {
     "name": "stdout",
     "output_type": "stream",
     "text": [
      "IPython console for SymPy 1.9 (Python 3.8.8-64-bit) (ground types: gmpy)\n",
      "\n",
      "These commands were executed:\n",
      ">>> from __future__ import division\n",
      ">>> from sympy import *\n",
      ">>> x, y, z, t = symbols('x y z t')\n",
      ">>> k, m, n = symbols('k m n', integer=True)\n",
      ">>> f, g, h = symbols('f g h', cls=Function)\n",
      ">>> init_printing()\n",
      "\n",
      "Documentation can be found at https://docs.sympy.org/1.9/\n",
      "\n"
     ]
    }
   ],
   "source": [
    "from sympy import init_session\n",
    "init_session(use_latex=True)"
   ]
  },
  {
   "cell_type": "code",
   "execution_count": 2,
   "id": "535fa8db",
   "metadata": {},
   "outputs": [],
   "source": [
    "import warnings\n",
    "import matplotlib.cbook\n",
    "warnings.filterwarnings(\"ignore\",category=matplotlib.cbook.mplDeprecation)"
   ]
  },
  {
   "cell_type": "code",
   "execution_count": 3,
   "id": "ab7240fe",
   "metadata": {},
   "outputs": [],
   "source": [
    "t,r,z,phi,dt,dr,dz,dphi = symbols('t r z phi dt dr dz dphi')"
   ]
  },
  {
   "cell_type": "code",
   "execution_count": 4,
   "id": "a037aa74",
   "metadata": {},
   "outputs": [],
   "source": [
    "psi,chi,W,omega,A = symbols('psi chi W omega A')"
   ]
  },
  {
   "cell_type": "code",
   "execution_count": 5,
   "id": "dc5de2ac",
   "metadata": {},
   "outputs": [
    {
     "data": {
      "image/png": "[encoded data removed]",
      "text/latex": [
       "$\\displaystyle \\psi{\\left(t,r \\right)}$"
      ],
      "text/plain": [
       "ψ(t, r)"
      ]
     },
     "execution_count": 5,
     "metadata": {},
     "output_type": "execute_result"
    }
   ],
   "source": [
    "psi = Function('psi')(t,r)\n",
    "psi"
   ]
  },
  {
   "cell_type": "code",
   "execution_count": 6,
   "id": "a9aecdd2",
   "metadata": {},
   "outputs": [
    {
     "data": {
      "image/png": "[encoded data removed]",
      "text/latex": [
       "$\\displaystyle \\chi{\\left(t,r \\right)}$"
      ],
      "text/plain": [
       "χ(t, r)"
      ]
     },
     "execution_count": 6,
     "metadata": {},
     "output_type": "execute_result"
    }
   ],
   "source": [
    "chi = Function('chi')(t,r)\n",
    "chi"
   ]
  },
  {
   "cell_type": "code",
   "execution_count": 7,
   "id": "b228ff90",
   "metadata": {},
   "outputs": [
    {
     "data": {
      "image/png": "[encoded data removed]",
      "text/latex": [
       "$\\displaystyle W{\\left(t,r \\right)}$"
      ],
      "text/plain": [
       "W(t, r)"
      ]
     },
     "execution_count": 7,
     "metadata": {},
     "output_type": "execute_result"
    }
   ],
   "source": [
    "W = Function('W')(t,r)\n",
    "W"
   ]
  },
  {
   "cell_type": "code",
   "execution_count": 8,
   "id": "d4c7c787",
   "metadata": {},
   "outputs": [
    {
     "data": {
      "image/png": "[encoded data removed]",
      "text/latex": [
       "$\\displaystyle \\omega{\\left(t,r \\right)}$"
      ],
      "text/plain": [
       "ω(t, r)"
      ]
     },
     "execution_count": 8,
     "metadata": {},
     "output_type": "execute_result"
    }
   ],
   "source": [
    "omega = Function('omega')(t,r)\n",
    "omega"
   ]
  },
  {
   "cell_type": "code",
   "execution_count": 9,
   "id": "f05665ce",
   "metadata": {},
   "outputs": [
    {
     "data": {
      "image/png": "[encoded data removed]",
      "text/latex": [
       "$\\displaystyle A{\\left(t,r \\right)}$"
      ],
      "text/plain": [
       "A(t, r)"
      ]
     },
     "execution_count": 9,
     "metadata": {},
     "output_type": "execute_result"
    }
   ],
   "source": [
    "A = Function('A')(t,r)\n",
    "A"
   ]
  },
  {
   "cell_type": "code",
   "execution_count": 10,
   "id": "7f13f071",
   "metadata": {},
   "outputs": [
    {
     "data": {
      "text/latex": [
       "$\\displaystyle \\left[\\begin{matrix}t\\\\r\\\\z\\\\\\phi\\end{matrix}\\right]$"
      ],
      "text/plain": [
       "⎡t⎤\n",
       "⎢ ⎥\n",
       "⎢r⎥\n",
       "⎢ ⎥\n",
       "⎢z⎥\n",
       "⎢ ⎥\n",
       "⎣φ⎦"
      ]
     },
     "execution_count": 10,
     "metadata": {},
     "output_type": "execute_result"
    }
   ],
   "source": [
    "variables = Matrix([t,r,z,phi])\n",
    "variables"
   ]
  },
  {
   "cell_type": "code",
   "execution_count": 11,
   "id": "11ec9964",
   "metadata": {},
   "outputs": [
    {
     "data": {
      "text/latex": [
       "$\\displaystyle \\left[\\begin{matrix}dt\\\\dr\\\\dz\\\\dphi\\end{matrix}\\right]$"
      ],
      "text/plain": [
       "⎡ dt ⎤\n",
       "⎢    ⎥\n",
       "⎢ dr ⎥\n",
       "⎢    ⎥\n",
       "⎢ dz ⎥\n",
       "⎢    ⎥\n",
       "⎣dphi⎦"
      ]
     },
     "execution_count": 11,
     "metadata": {},
     "output_type": "execute_result"
    }
   ],
   "source": [
    "differentials = Matrix([dt,dr,dz,dphi])\n",
    "differentials"
   ]
  },
  {
   "cell_type": "code",
   "execution_count": 12,
   "id": "7564b438",
   "metadata": {},
   "outputs": [
    {
     "data": {
      "image/png": "[encoded data removed]",
      "text/latex": [
       "$\\displaystyle - dphi^{2} W^{2}{\\left(t,r \\right)} e^{- 2 \\psi{\\left(t,r \\right)}} - 2 dphi dt W^{2}{\\left(t,r \\right)} \\omega{\\left(t,r \\right)} e^{- 2 \\psi{\\left(t,r \\right)}} - dr^{2} e^{2 \\chi{\\left(t,r \\right)}} e^{- 2 \\psi{\\left(t,r \\right)}} - dt^{2} W^{2}{\\left(t,r \\right)} \\omega^{2}{\\left(t,r \\right)} e^{- 2 \\psi{\\left(t,r \\right)}} + dt^{2} e^{2 \\chi{\\left(t,r \\right)}} e^{- 2 \\psi{\\left(t,r \\right)}} - dz^{2} e^{2 \\psi{\\left(t,r \\right)}}$"
      ],
      "text/plain": [
       "      2  2        -2⋅ψ(t, r)              2                -2⋅ψ(t, r)     2  2⋅χ(t, r)  -2⋅ψ(t, r)     2  2        2       \n",
       "- dphi ⋅W (t, r)⋅ℯ           - 2⋅dphi⋅dt⋅W (t, r)⋅ω(t, r)⋅ℯ           - dr ⋅ℯ         ⋅ℯ           - dt ⋅W (t, r)⋅ω (t, r)⋅\n",
       "\n",
       " -2⋅ψ(t, r)     2  2⋅χ(t, r)  -2⋅ψ(t, r)     2  2⋅ψ(t, r)\n",
       "ℯ           + dt ⋅ℯ         ⋅ℯ           - dz ⋅ℯ         "
      ]
     },
     "execution_count": 12,
     "metadata": {},
     "output_type": "execute_result"
    }
   ],
   "source": [
    "lineElement = expand(exp(2*(chi-psi)) * (dt**2 - dr**2 ) - W**2 * exp(-2*psi) * ( dphi + omega * dt)**2 - exp(2*psi)*dz**2 )\n",
    "lineElement"
   ]
  },
  {
   "cell_type": "code",
   "execution_count": 13,
   "id": "c69bb627",
   "metadata": {},
   "outputs": [
    {
     "data": {
      "text/latex": [
       "$\\displaystyle \\left[\\begin{matrix}- W^{2}{\\left(t,r \\right)} \\omega^{2}{\\left(t,r \\right)} e^{- 2 \\psi{\\left(t,r \\right)}} + e^{2 \\chi{\\left(t,r \\right)}} e^{- 2 \\psi{\\left(t,r \\right)}} & 0 & 0 & - W^{2}{\\left(t,r \\right)} \\omega{\\left(t,r \\right)} e^{- 2 \\psi{\\left(t,r \\right)}}\\\\0 & - e^{2 \\chi{\\left(t,r \\right)}} e^{- 2 \\psi{\\left(t,r \\right)}} & 0 & 0\\\\0 & 0 & - e^{2 \\psi{\\left(t,r \\right)}} & 0\\\\- W^{2}{\\left(t,r \\right)} \\omega{\\left(t,r \\right)} e^{- 2 \\psi{\\left(t,r \\right)}} & 0 & 0 & - W^{2}{\\left(t,r \\right)} e^{- 2 \\psi{\\left(t,r \\right)}}\\end{matrix}\\right]$"
      ],
      "text/plain": [
       "⎡   2        2        -2⋅ψ(t, r)    2⋅χ(t, r)  -2⋅ψ(t, r)                                          2                -2⋅ψ(t,\n",
       "⎢- W (t, r)⋅ω (t, r)⋅ℯ           + ℯ         ⋅ℯ                       0                  0       -W (t, r)⋅ω(t, r)⋅ℯ       \n",
       "⎢                                                                                                                          \n",
       "⎢                                                            2⋅χ(t, r)  -2⋅ψ(t, r)                                         \n",
       "⎢                           0                              -ℯ         ⋅ℯ                 0                     0           \n",
       "⎢                                                                                                                          \n",
       "⎢                                                                                     2⋅ψ(t, r)                            \n",
       "⎢                           0                                         0             -ℯ                         0           \n",
       "⎢                                                                                                                          \n",
       "⎢               2                -2⋅ψ(t, r)                                                            2        -2⋅ψ(t, r) \n",
       "⎣             -W (t, r)⋅ω(t, r)⋅ℯ                                     0                  0           -W (t, r)⋅ℯ           \n",
       "\n",
       " r)⎤\n",
       "   ⎥\n",
       "   ⎥\n",
       "   ⎥\n",
       "   ⎥\n",
       "   ⎥\n",
       "   ⎥\n",
       "   ⎥\n",
       "   ⎥\n",
       "   ⎥\n",
       "   ⎦"
      ]
     },
     "execution_count": 13,
     "metadata": {},
     "output_type": "execute_result"
    }
   ],
   "source": [
    "g = zeros(4)\n",
    "\n",
    "for i in range(4):\n",
    "    for j in range(4):\n",
    "        if i == j:\n",
    "            g[i,j] = lineElement.coeff( differentials[i],2 ) \n",
    "        else:\n",
    "            g[i,j] = Rational(1,2)*lineElement.coeff( differentials[i]*differentials[j],1 )\n",
    "            \n",
    "g"
   ]
  },
  {
   "cell_type": "code",
   "execution_count": 14,
   "id": "70480fb9",
   "metadata": {},
   "outputs": [],
   "source": [
    "import sympy"
   ]
  },
  {
   "cell_type": "code",
   "execution_count": 15,
   "id": "59566d57",
   "metadata": {},
   "outputs": [
    {
     "data": {
      "text/latex": [
       "$\\displaystyle \\left[\\begin{matrix}- W^{2}{\\left(t,r \\right)} \\omega^{2}{\\left(t,r \\right)} e^{- 2 \\psi{\\left(t,r \\right)}} + e^{2 \\chi{\\left(t,r \\right)}} e^{- 2 \\psi{\\left(t,r \\right)}} & 0 & 0 & - W^{2}{\\left(t,r \\right)} \\omega{\\left(t,r \\right)} e^{- 2 \\psi{\\left(t,r \\right)}}\\\\0 & - e^{2 \\chi{\\left(t,r \\right)}} e^{- 2 \\psi{\\left(t,r \\right)}} & 0 & 0\\\\0 & 0 & - e^{2 \\psi{\\left(t,r \\right)}} & 0\\\\- W^{2}{\\left(t,r \\right)} \\omega{\\left(t,r \\right)} e^{- 2 \\psi{\\left(t,r \\right)}} & 0 & 0 & - W^{2}{\\left(t,r \\right)} e^{- 2 \\psi{\\left(t,r \\right)}}\\end{matrix}\\right]$"
      ],
      "text/plain": [
       "⎡   2        2        -2⋅ψ(t, r)    2⋅χ(t, r)  -2⋅ψ(t, r)                                          2                -2⋅ψ(t,\n",
       "⎢- W (t, r)⋅ω (t, r)⋅ℯ           + ℯ         ⋅ℯ                       0                  0       -W (t, r)⋅ω(t, r)⋅ℯ       \n",
       "⎢                                                                                                                          \n",
       "⎢                                                            2⋅χ(t, r)  -2⋅ψ(t, r)                                         \n",
       "⎢                           0                              -ℯ         ⋅ℯ                 0                     0           \n",
       "⎢                                                                                                                          \n",
       "⎢                                                                                     2⋅ψ(t, r)                            \n",
       "⎢                           0                                         0             -ℯ                         0           \n",
       "⎢                                                                                                                          \n",
       "⎢               2                -2⋅ψ(t, r)                                                            2        -2⋅ψ(t, r) \n",
       "⎣             -W (t, r)⋅ω(t, r)⋅ℯ                                     0                  0           -W (t, r)⋅ℯ           \n",
       "\n",
       " r)⎤\n",
       "   ⎥\n",
       "   ⎥\n",
       "   ⎥\n",
       "   ⎥\n",
       "   ⎥\n",
       "   ⎥\n",
       "   ⎥\n",
       "   ⎥\n",
       "   ⎥\n",
       "   ⎦"
      ]
     },
     "execution_count": 15,
     "metadata": {},
     "output_type": "execute_result"
    }
   ],
   "source": [
    "m = sympy.Array(g)\n",
    "m"
   ]
  },
  {
   "cell_type": "code",
   "execution_count": 16,
   "id": "84e995b2",
   "metadata": {},
   "outputs": [],
   "source": [
    "from einsteinpy.symbolic import *"
   ]
  },
  {
   "cell_type": "code",
   "execution_count": 17,
   "id": "a4398ba6",
   "metadata": {},
   "outputs": [],
   "source": [
    "syms = sympy.symbols(\"t r z phi\")\n",
    "t,r,z,phi = syms"
   ]
  },
  {
   "cell_type": "code",
   "execution_count": 18,
   "id": "e758d2e5",
   "metadata": {},
   "outputs": [],
   "source": [
    "metric = MetricTensor(m,syms)"
   ]
  },
  {
   "cell_type": "code",
   "execution_count": 19,
   "id": "0de0a0fa",
   "metadata": {},
   "outputs": [
    {
     "data": {
      "text/latex": [
       "$\\displaystyle \\left[\\begin{matrix}\\left[\\begin{matrix}- W^{2}{\\left(t,r \\right)} \\omega^{2}{\\left(t,r \\right)} e^{- 2 \\chi{\\left(t,r \\right)}} \\frac{\\partial}{\\partial t} \\psi{\\left(t,r \\right)} + W{\\left(t,r \\right)} \\omega^{2}{\\left(t,r \\right)} e^{- 2 \\chi{\\left(t,r \\right)}} \\frac{\\partial}{\\partial t} W{\\left(t,r \\right)} + \\frac{\\partial}{\\partial t} \\chi{\\left(t,r \\right)} - \\frac{\\partial}{\\partial t} \\psi{\\left(t,r \\right)} & - \\frac{W^{2}{\\left(t,r \\right)} \\omega{\\left(t,r \\right)} e^{- 2 \\chi{\\left(t,r \\right)}} \\frac{\\partial}{\\partial r} \\omega{\\left(t,r \\right)}}{2} + \\frac{\\partial}{\\partial r} \\chi{\\left(t,r \\right)} - \\frac{\\partial}{\\partial r} \\psi{\\left(t,r \\right)} & 0 & \\left(- W{\\left(t,r \\right)} \\frac{\\partial}{\\partial t} \\psi{\\left(t,r \\right)} + \\frac{\\partial}{\\partial t} W{\\left(t,r \\right)}\\right) W{\\left(t,r \\right)} \\omega{\\left(t,r \\right)} e^{- 2 \\chi{\\left(t,r \\right)}}\\\\- \\frac{W^{2}{\\left(t,r \\right)} \\omega{\\left(t,r \\right)} e^{- 2 \\chi{\\left(t,r \\right)}} \\frac{\\partial}{\\partial r} \\omega{\\left(t,r \\right)}}{2} + \\frac{\\partial}{\\partial r} \\chi{\\left(t,r \\right)} - \\frac{\\partial}{\\partial r} \\psi{\\left(t,r \\right)} & \\frac{\\partial}{\\partial t} \\chi{\\left(t,r \\right)} - \\frac{\\partial}{\\partial t} \\psi{\\left(t,r \\right)} & 0 & - \\frac{W^{2}{\\left(t,r \\right)} e^{- 2 \\chi{\\left(t,r \\right)}} \\frac{\\partial}{\\partial r} \\omega{\\left(t,r \\right)}}{2}\\\\0 & 0 & e^{- 2 \\chi{\\left(t,r \\right)} + 4 \\psi{\\left(t,r \\right)}} \\frac{\\partial}{\\partial t} \\psi{\\left(t,r \\right)} & 0\\\\\\left(- W{\\left(t,r \\right)} \\frac{\\partial}{\\partial t} \\psi{\\left(t,r \\right)} + \\frac{\\partial}{\\partial t} W{\\left(t,r \\right)}\\right) W{\\left(t,r \\right)} \\omega{\\left(t,r \\right)} e^{- 2 \\chi{\\left(t,r \\right)}} & - \\frac{W^{2}{\\left(t,r \\right)} e^{- 2 \\chi{\\left(t,r \\right)}} \\frac{\\partial}{\\partial r} \\omega{\\left(t,r \\right)}}{2} & 0 & \\left(- W{\\left(t,r \\right)} \\frac{\\partial}{\\partial t} \\psi{\\left(t,r \\right)} + \\frac{\\partial}{\\partial t} W{\\left(t,r \\right)}\\right) W{\\left(t,r \\right)} e^{- 2 \\chi{\\left(t,r \\right)}}\\end{matrix}\\right] & \\left[\\begin{matrix}\\left(W^{2}{\\left(t,r \\right)} \\omega^{2}{\\left(t,r \\right)} \\frac{\\partial}{\\partial r} \\psi{\\left(t,r \\right)} - W^{2}{\\left(t,r \\right)} \\omega{\\left(t,r \\right)} \\frac{\\partial}{\\partial r} \\omega{\\left(t,r \\right)} - W{\\left(t,r \\right)} \\omega^{2}{\\left(t,r \\right)} \\frac{\\partial}{\\partial r} W{\\left(t,r \\right)} + e^{2 \\chi{\\left(t,r \\right)}} \\frac{\\partial}{\\partial r} \\chi{\\left(t,r \\right)} - e^{2 \\chi{\\left(t,r \\right)}} \\frac{\\partial}{\\partial r} \\psi{\\left(t,r \\right)}\\right) e^{- 2 \\chi{\\left(t,r \\right)}} & \\frac{\\partial}{\\partial t} \\chi{\\left(t,r \\right)} - \\frac{\\partial}{\\partial t} \\psi{\\left(t,r \\right)} & 0 & \\frac{\\left(2 W{\\left(t,r \\right)} \\omega{\\left(t,r \\right)} \\frac{\\partial}{\\partial r} \\psi{\\left(t,r \\right)} - W{\\left(t,r \\right)} \\frac{\\partial}{\\partial r} \\omega{\\left(t,r \\right)} - 2 \\omega{\\left(t,r \\right)} \\frac{\\partial}{\\partial r} W{\\left(t,r \\right)}\\right) W{\\left(t,r \\right)} e^{- 2 \\chi{\\left(t,r \\right)}}}{2}\\\\\\frac{\\partial}{\\partial t} \\chi{\\left(t,r \\right)} - \\frac{\\partial}{\\partial t} \\psi{\\left(t,r \\right)} & \\frac{\\partial}{\\partial r} \\chi{\\left(t,r \\right)} - \\frac{\\partial}{\\partial r} \\psi{\\left(t,r \\right)} & 0 & 0\\\\0 & 0 & - e^{- 2 \\chi{\\left(t,r \\right)} + 4 \\psi{\\left(t,r \\right)}} \\frac{\\partial}{\\partial r} \\psi{\\left(t,r \\right)} & 0\\\\\\frac{\\left(2 W{\\left(t,r \\right)} \\omega{\\left(t,r \\right)} \\frac{\\partial}{\\partial r} \\psi{\\left(t,r \\right)} - W{\\left(t,r \\right)} \\frac{\\partial}{\\partial r} \\omega{\\left(t,r \\right)} - 2 \\omega{\\left(t,r \\right)} \\frac{\\partial}{\\partial r} W{\\left(t,r \\right)}\\right) W{\\left(t,r \\right)} e^{- 2 \\chi{\\left(t,r \\right)}}}{2} & 0 & 0 & \\left(W{\\left(t,r \\right)} \\frac{\\partial}{\\partial r} \\psi{\\left(t,r \\right)} - \\frac{\\partial}{\\partial r} W{\\left(t,r \\right)}\\right) W{\\left(t,r \\right)} e^{- 2 \\chi{\\left(t,r \\right)}}\\end{matrix}\\right] & \\left[\\begin{matrix}0 & 0 & \\frac{\\partial}{\\partial t} \\psi{\\left(t,r \\right)} & 0\\\\0 & 0 & \\frac{\\partial}{\\partial r} \\psi{\\left(t,r \\right)} & 0\\\\\\frac{\\partial}{\\partial t} \\psi{\\left(t,r \\right)} & \\frac{\\partial}{\\partial r} \\psi{\\left(t,r \\right)} & 0 & 0\\\\0 & 0 & 0 & 0\\end{matrix}\\right] & \\left[\\begin{matrix}W^{2}{\\left(t,r \\right)} \\omega^{3}{\\left(t,r \\right)} e^{- 2 \\chi{\\left(t,r \\right)}} \\frac{\\partial}{\\partial t} \\psi{\\left(t,r \\right)} - W{\\left(t,r \\right)} \\omega^{3}{\\left(t,r \\right)} e^{- 2 \\chi{\\left(t,r \\right)}} \\frac{\\partial}{\\partial t} W{\\left(t,r \\right)} - \\omega{\\left(t,r \\right)} \\frac{\\partial}{\\partial t} \\chi{\\left(t,r \\right)} - \\omega{\\left(t,r \\right)} \\frac{\\partial}{\\partial t} \\psi{\\left(t,r \\right)} + \\frac{\\partial}{\\partial t} \\omega{\\left(t,r \\right)} + \\frac{2 \\omega{\\left(t,r \\right)} \\frac{\\partial}{\\partial t} W{\\left(t,r \\right)}}{W{\\left(t,r \\right)}} & \\frac{W^{2}{\\left(t,r \\right)} \\omega^{2}{\\left(t,r \\right)} e^{- 2 \\chi{\\left(t,r \\right)}} \\frac{\\partial}{\\partial r} \\omega{\\left(t,r \\right)}}{2} - \\omega{\\left(t,r \\right)} \\frac{\\partial}{\\partial r} \\chi{\\left(t,r \\right)} + \\frac{\\frac{\\partial}{\\partial r} \\omega{\\left(t,r \\right)}}{2} + \\frac{\\omega{\\left(t,r \\right)} \\frac{\\partial}{\\partial r} W{\\left(t,r \\right)}}{W{\\left(t,r \\right)}} & 0 & W^{2}{\\left(t,r \\right)} \\omega^{2}{\\left(t,r \\right)} e^{- 2 \\chi{\\left(t,r \\right)}} \\frac{\\partial}{\\partial t} \\psi{\\left(t,r \\right)} - W{\\left(t,r \\right)} \\omega^{2}{\\left(t,r \\right)} e^{- 2 \\chi{\\left(t,r \\right)}} \\frac{\\partial}{\\partial t} W{\\left(t,r \\right)} - \\frac{\\partial}{\\partial t} \\psi{\\left(t,r \\right)} + \\frac{\\frac{\\partial}{\\partial t} W{\\left(t,r \\right)}}{W{\\left(t,r \\right)}}\\\\\\frac{W^{2}{\\left(t,r \\right)} \\omega^{2}{\\left(t,r \\right)} e^{- 2 \\chi{\\left(t,r \\right)}} \\frac{\\partial}{\\partial r} \\omega{\\left(t,r \\right)}}{2} - \\omega{\\left(t,r \\right)} \\frac{\\partial}{\\partial r} \\chi{\\left(t,r \\right)} + \\frac{\\frac{\\partial}{\\partial r} \\omega{\\left(t,r \\right)}}{2} + \\frac{\\omega{\\left(t,r \\right)} \\frac{\\partial}{\\partial r} W{\\left(t,r \\right)}}{W{\\left(t,r \\right)}} & \\left(- \\frac{\\partial}{\\partial t} \\chi{\\left(t,r \\right)} + \\frac{\\partial}{\\partial t} \\psi{\\left(t,r \\right)}\\right) \\omega{\\left(t,r \\right)} & 0 & \\frac{W^{2}{\\left(t,r \\right)} \\omega{\\left(t,r \\right)} e^{- 2 \\chi{\\left(t,r \\right)}} \\frac{\\partial}{\\partial r} \\omega{\\left(t,r \\right)}}{2} - \\frac{\\partial}{\\partial r} \\psi{\\left(t,r \\right)} + \\frac{\\frac{\\partial}{\\partial r} W{\\left(t,r \\right)}}{W{\\left(t,r \\right)}}\\\\0 & 0 & - \\omega{\\left(t,r \\right)} e^{- 2 \\chi{\\left(t,r \\right)} + 4 \\psi{\\left(t,r \\right)}} \\frac{\\partial}{\\partial t} \\psi{\\left(t,r \\right)} & 0\\\\W^{2}{\\left(t,r \\right)} \\omega^{2}{\\left(t,r \\right)} e^{- 2 \\chi{\\left(t,r \\right)}} \\frac{\\partial}{\\partial t} \\psi{\\left(t,r \\right)} - W{\\left(t,r \\right)} \\omega^{2}{\\left(t,r \\right)} e^{- 2 \\chi{\\left(t,r \\right)}} \\frac{\\partial}{\\partial t} W{\\left(t,r \\right)} - \\frac{\\partial}{\\partial t} \\psi{\\left(t,r \\right)} + \\frac{\\frac{\\partial}{\\partial t} W{\\left(t,r \\right)}}{W{\\left(t,r \\right)}} & \\frac{W^{2}{\\left(t,r \\right)} \\omega{\\left(t,r \\right)} e^{- 2 \\chi{\\left(t,r \\right)}} \\frac{\\partial}{\\partial r} \\omega{\\left(t,r \\right)}}{2} - \\frac{\\partial}{\\partial r} \\psi{\\left(t,r \\right)} + \\frac{\\frac{\\partial}{\\partial r} W{\\left(t,r \\right)}}{W{\\left(t,r \\right)}} & 0 & \\left(W{\\left(t,r \\right)} \\frac{\\partial}{\\partial t} \\psi{\\left(t,r \\right)} - \\frac{\\partial}{\\partial t} W{\\left(t,r \\right)}\\right) W{\\left(t,r \\right)} \\omega{\\left(t,r \\right)} e^{- 2 \\chi{\\left(t,r \\right)}}\\end{matrix}\\right]\\end{matrix}\\right]$"
      ],
      "text/plain": [
       "⎡⎡                                                                                                                       2 \n",
       "⎢⎢                                                                                                                      W (\n",
       "⎢⎢   2        2        -2⋅χ(t, r) ∂                      2        -2⋅χ(t, r) ∂             ∂             ∂                 \n",
       "⎢⎢- W (t, r)⋅ω (t, r)⋅ℯ          ⋅──(ψ(t, r)) + W(t, r)⋅ω (t, r)⋅ℯ          ⋅──(W(t, r)) + ──(χ(t, r)) - ──(ψ(t, r))  - ───\n",
       "⎢⎢                                ∂t                                         ∂t            ∂t            ∂t                \n",
       "⎢⎢                                                                                                                         \n",
       "⎢⎢                         2                -2⋅χ(t, r) ∂                                                                   \n",
       "⎢⎢                        W (t, r)⋅ω(t, r)⋅ℯ          ⋅──(ω(t, r))                                                         \n",
       "⎢⎢                                                     ∂r            ∂             ∂                                       \n",
       "⎢⎢                      - ──────────────────────────────────────── + ──(χ(t, r)) - ──(ψ(t, r))                             \n",
       "⎢⎢                                           2                       ∂r            ∂r                                      \n",
       "⎢⎢                                                                                                                         \n",
       "⎢⎢                                                                                                                         \n",
       "⎢⎢                                                        0                                                                \n",
       "⎢⎢                                                                                                                         \n",
       "⎢⎢                                                                                                                         \n",
       "⎢⎢                                                                                                                         \n",
       "⎢⎢                                                                                                                         \n",
       "⎢⎢                        ⎛          ∂             ∂          ⎞                  -2⋅χ(t, r)                                \n",
       "⎢⎢                        ⎜- W(t, r)⋅──(ψ(t, r)) + ──(W(t, r))⎟⋅W(t, r)⋅ω(t, r)⋅ℯ                                          \n",
       "⎣⎣                        ⎝          ∂t            ∂t         ⎠                                                            \n",
       "\n",
       "               -2⋅χ(t, r) ∂                                                                                                \n",
       "t, r)⋅ω(t, r)⋅ℯ          ⋅──(ω(t, r))                                                                                      \n",
       "                          ∂r            ∂             ∂                                                 ⎛          ∂       \n",
       "───────────────────────────────────── + ──(χ(t, r)) - ──(ψ(t, r))                   0                   ⎜- W(t, r)⋅──(ψ(t, \n",
       "                2                       ∂r            ∂r                                                ⎝          ∂t      \n",
       "                                                                                                                           \n",
       "                                                                                                                         2 \n",
       "                                                                                                                       -W (\n",
       "                 ∂             ∂                                                                                           \n",
       "                 ──(χ(t, r)) - ──(ψ(t, r))                                          0                                  ────\n",
       "                 ∂t            ∂t                                                                                          \n",
       "                                                                                                                           \n",
       "                                                                    -2⋅χ(t, r) + 4⋅ψ(t, r) ∂                               \n",
       "                             0                                     ℯ                      ⋅──(ψ(t, r))                     \n",
       "                                                                                           ∂t                              \n",
       "                                                                                                                           \n",
       "               2        -2⋅χ(t, r) ∂                                                                                       \n",
       "             -W (t, r)⋅ℯ          ⋅──(ω(t, r))                                                                             \n",
       "                                   ∂r                                                                       ⎛          ∂   \n",
       "             ──────────────────────────────────                                     0                       ⎜- W(t, r)⋅──(ψ\n",
       "                             2                                                                              ⎝          ∂t  \n",
       "\n",
       "                                              ⎤                                                                            \n",
       "                                              ⎥  ⎡                                                                         \n",
       "      ∂          ⎞                  -2⋅χ(t, r)⎥  ⎢                                                                         \n",
       "r)) + ──(W(t, r))⎟⋅W(t, r)⋅ω(t, r)⋅ℯ          ⎥  ⎢⎛ 2        2       ∂              2               ∂                      \n",
       "      ∂t         ⎠                            ⎥  ⎢⎜W (t, r)⋅ω (t, r)⋅──(ψ(t, r)) - W (t, r)⋅ω(t, r)⋅──(ω(t, r)) - W(t, r)⋅ω\n",
       "                                              ⎥  ⎢⎝                  ∂r                             ∂r                     \n",
       "       -2⋅χ(t, r) ∂                           ⎥  ⎢                                                                         \n",
       "t, r)⋅ℯ          ⋅──(ω(t, r))                 ⎥  ⎢                                                                 ∂       \n",
       "                  ∂r                          ⎥  ⎢                                                                 ──(χ(t, \n",
       "──────────────────────────────                ⎥  ⎢                                                                 ∂t      \n",
       "            2                                 ⎥  ⎢                                                                         \n",
       "                                              ⎥  ⎢                                                                         \n",
       "                                              ⎥  ⎢                                                                         \n",
       "             0                                ⎥  ⎢                                                                         \n",
       "                                              ⎥  ⎢                                                                         \n",
       "                                              ⎥  ⎢                             ⎛                  ∂                     ∂  \n",
       "                                              ⎥  ⎢                             ⎜2⋅W(t, r)⋅ω(t, r)⋅──(ψ(t, r)) - W(t, r)⋅──(\n",
       "                                              ⎥  ⎢                             ⎝                  ∂r                    ∂r \n",
       "          ∂          ⎞          -2⋅χ(t, r)    ⎥  ⎢                             ────────────────────────────────────────────\n",
       "(t, r)) + ──(W(t, r))⎟⋅W(t, r)⋅ℯ              ⎥  ⎣                                                                         \n",
       "          ∂t         ⎠                        ⎦                                                                            \n",
       "\n",
       "                                                                                                                           \n",
       "                                                                                                                           \n",
       "                                                                                                                           \n",
       "2       ∂              2⋅χ(t, r) ∂              2⋅χ(t, r) ∂          ⎞  -2⋅χ(t, r)  ∂             ∂                        \n",
       " (t, r)⋅──(W(t, r)) + ℯ         ⋅──(χ(t, r)) - ℯ         ⋅──(ψ(t, r))⎟⋅ℯ            ──(χ(t, r)) - ──(ψ(t, r))              \n",
       "        ∂r                       ∂r                       ∂r         ⎠              ∂t            ∂t                       \n",
       "                                                                                                                           \n",
       "      ∂                                                                             ∂             ∂                        \n",
       "r)) - ──(ψ(t, r))                                                                   ──(χ(t, r)) - ──(ψ(t, r))              \n",
       "      ∂t                                                                            ∂r            ∂r                       \n",
       "                                                                                                                           \n",
       "                                                                                                                 -2⋅χ(t, r)\n",
       "    0                                                                                           0              -ℯ          \n",
       "                                                                                                                           \n",
       "                                                                                                                           \n",
       "                     ∂          ⎞          -2⋅χ(t, r)                                                                      \n",
       "ω(t, r)) - 2⋅ω(t, r)⋅──(W(t, r))⎟⋅W(t, r)⋅ℯ                                                                                \n",
       "                     ∂r         ⎠                                                                                          \n",
       "─────────────────────────────────────────────────────                                           0                          \n",
       "    2                                                                                                                      \n",
       "                                                                                                                           \n",
       "\n",
       "                                                                                                                           \n",
       "                          ⎛                  ∂                     ∂                       ∂          ⎞          -2⋅χ(t, r)\n",
       "                          ⎜2⋅W(t, r)⋅ω(t, r)⋅──(ψ(t, r)) - W(t, r)⋅──(ω(t, r)) - 2⋅ω(t, r)⋅──(W(t, r))⎟⋅W(t, r)⋅ℯ          \n",
       "                          ⎝                  ∂r                    ∂r                      ∂r         ⎠                    \n",
       "     0                    ─────────────────────────────────────────────────────────────────────────────────────────────────\n",
       "                                                                          2                                                \n",
       "                                                                                                                           \n",
       "                                                                                                                           \n",
       "     0                                                                    0                                                \n",
       "                                                                                                                           \n",
       "                                                                                                                           \n",
       " + 4⋅ψ(t, r) ∂                                                                                                             \n",
       "            ⋅──(ψ(t, r))                                                  0                                                \n",
       "             ∂r                                                                                                            \n",
       "                                                                                                                           \n",
       "                                                                                                                           \n",
       "                                                                                                                           \n",
       "                                               ⎛        ∂             ∂          ⎞          -2⋅χ(t, r)                     \n",
       "     0                                         ⎜W(t, r)⋅──(ψ(t, r)) - ──(W(t, r))⎟⋅W(t, r)⋅ℯ                               \n",
       "                                               ⎝        ∂r            ∂r         ⎠                                         \n",
       "                                                                                                                           \n",
       "\n",
       "                                               ⎡                                                                           \n",
       "⎤                                              ⎢                                                                           \n",
       "⎥                                              ⎢ 2        3        -2⋅χ(t, r) ∂                      3        -2⋅χ(t, r) ∂ \n",
       "⎥                                              ⎢W (t, r)⋅ω (t, r)⋅ℯ          ⋅──(ψ(t, r)) - W(t, r)⋅ω (t, r)⋅ℯ          ⋅──\n",
       "⎥  ⎡                          ∂             ⎤  ⎢                              ∂t                                         ∂t\n",
       "⎥  ⎢     0            0       ──(ψ(t, r))  0⎥  ⎢                                                                           \n",
       "⎥  ⎢                          ∂t            ⎥  ⎢                                  2        2        -2⋅χ(t, r) ∂           \n",
       "⎥  ⎢                                        ⎥  ⎢                                 W (t, r)⋅ω (t, r)⋅ℯ          ⋅──(ω(t, r)) \n",
       "⎥  ⎢                          ∂             ⎥  ⎢                                                               ∂r          \n",
       "⎥  ⎢     0            0       ──(ψ(t, r))  0⎥  ⎢                                 ───────────────────────────────────────── \n",
       "⎥  ⎢                          ∂r            ⎥  ⎢                                                     2                     \n",
       "⎥  ⎢                                        ⎥  ⎢                                                                           \n",
       "⎥  ⎢∂            ∂                          ⎥  ⎢                                                                           \n",
       "⎥  ⎢──(ψ(t, r))  ──(ψ(t, r))       0       0⎥  ⎢                                                                           \n",
       "⎥  ⎢∂t           ∂r                         ⎥  ⎢                                                                           \n",
       "⎥  ⎢                                        ⎥  ⎢                                                                           \n",
       "⎥  ⎣     0            0            0       0⎦  ⎢                                                                           \n",
       "⎥                                              ⎢                                                                           \n",
       "⎥                                              ⎢                            2        2        -2⋅χ(t, r) ∂                 \n",
       "⎦                                              ⎢                           W (t, r)⋅ω (t, r)⋅ℯ          ⋅──(ψ(t, r)) - W(t,\n",
       "                                               ⎣                                                         ∂t                \n",
       "\n",
       "                                                                                ∂             2        2        -2⋅χ(t, r) \n",
       "                                                                      2⋅ω(t, r)⋅──(W(t, r))  W (t, r)⋅ω (t, r)⋅ℯ          ⋅\n",
       "                    ∂                     ∂             ∂                       ∂t                                         \n",
       "(W(t, r)) - ω(t, r)⋅──(χ(t, r)) - ω(t, r)⋅──(ψ(t, r)) + ──(ω(t, r)) + ─────────────────────  ──────────────────────────────\n",
       "                    ∂t                    ∂t            ∂t                   W(t, r)                             2         \n",
       "                                                                                                                           \n",
       "                        ∂                     ∂                                                                            \n",
       "                        ──(ω(t, r))   ω(t, r)⋅──(W(t, r))                                                                  \n",
       "          ∂             ∂r                    ∂r                                                                           \n",
       "- ω(t, r)⋅──(χ(t, r)) + ─────────── + ───────────────────                                                                  \n",
       "          ∂r                 2              W(t, r)                                                                        \n",
       "                                                                                                                           \n",
       "                                                                                                                           \n",
       "       0                                                                                                                   \n",
       "                                                                                                                           \n",
       "                                                                                                                           \n",
       "                                                     ∂                                                       2             \n",
       "                                                     ──(W(t, r))                                            W (t, r)⋅ω(t, r\n",
       "     2        -2⋅χ(t, r) ∂             ∂             ∂t                                                                    \n",
       " r)⋅ω (t, r)⋅ℯ          ⋅──(W(t, r)) - ──(ψ(t, r)) + ───────────                                            ───────────────\n",
       "                         ∂t            ∂t              W(t, r)                                                             \n",
       "\n",
       "∂                                   ∂                     ∂                                                                \n",
       "──(ω(t, r))                         ──(ω(t, r))   ω(t, r)⋅──(W(t, r))                                                      \n",
       "∂r                    ∂             ∂r                    ∂r                                                          2    \n",
       "─────────── - ω(t, r)⋅──(χ(t, r)) + ─────────── + ───────────────────                       0                        W (t, \n",
       "                      ∂r                 2              W(t, r)                                                            \n",
       "                                                                                                                           \n",
       "                                                                                                                           \n",
       "                                                                                                                           \n",
       " ⎛  ∂             ∂          ⎞                                                                                             \n",
       " ⎜- ──(χ(t, r)) + ──(ψ(t, r))⎟⋅ω(t, r)                                                      0                              \n",
       " ⎝  ∂t            ∂t         ⎠                                                                                             \n",
       "                                                                                                                           \n",
       "                                                                                 -2⋅χ(t, r) + 4⋅ψ(t, r) ∂                  \n",
       "                   0                                                   -ω(t, r)⋅ℯ                      ⋅──(ψ(t, r))        \n",
       "                                                                                                        ∂t                 \n",
       "                                                                                                                           \n",
       "   -2⋅χ(t, r) ∂                           ∂                                                                                \n",
       ")⋅ℯ          ⋅──(ω(t, r))                 ──(W(t, r))                                                                      \n",
       "              ∂r            ∂             ∂r                                                                               \n",
       "───────────────────────── - ──(ψ(t, r)) + ───────────                                       0                              \n",
       "    2                       ∂r              W(t, r)                                                                        \n",
       "\n",
       "                                                                                               ∂          ⎤⎤\n",
       "                                                                                               ──(W(t, r))⎥⎥\n",
       "    2        -2⋅χ(t, r) ∂                      2        -2⋅χ(t, r) ∂             ∂             ∂t         ⎥⎥\n",
       "r)⋅ω (t, r)⋅ℯ          ⋅──(ψ(t, r)) - W(t, r)⋅ω (t, r)⋅ℯ          ⋅──(W(t, r)) - ──(ψ(t, r)) + ───────────⎥⎥\n",
       "                        ∂t                                         ∂t            ∂t              W(t, r)  ⎥⎥\n",
       "                                                                                                          ⎥⎥\n",
       "                 2                -2⋅χ(t, r) ∂                           ∂                                ⎥⎥\n",
       "                W (t, r)⋅ω(t, r)⋅ℯ          ⋅──(ω(t, r))                 ──(W(t, r))                      ⎥⎥\n",
       "                                             ∂r            ∂             ∂r                               ⎥⎥\n",
       "                ──────────────────────────────────────── - ──(ψ(t, r)) + ───────────                      ⎥⎥\n",
       "                                   2                       ∂r              W(t, r)                        ⎥⎥\n",
       "                                                                                                          ⎥⎥\n",
       "                                                                                                          ⎥⎥\n",
       "                                                 0                                                        ⎥⎥\n",
       "                                                                                                          ⎥⎥\n",
       "                                                                                                          ⎥⎥\n",
       "                                                                                                          ⎥⎥\n",
       "                                                                                                          ⎥⎥\n",
       "                  ⎛        ∂             ∂          ⎞                  -2⋅χ(t, r)                         ⎥⎥\n",
       "                  ⎜W(t, r)⋅──(ψ(t, r)) - ──(W(t, r))⎟⋅W(t, r)⋅ω(t, r)⋅ℯ                                   ⎥⎥\n",
       "                  ⎝        ∂t            ∂t         ⎠                                                     ⎦⎦"
      ]
     },
     "execution_count": 19,
     "metadata": {},
     "output_type": "execute_result"
    }
   ],
   "source": [
    "ch = ChristoffelSymbols.from_metric(metric)\n",
    "simplify(ch.tensor())"
   ]
  },
  {
   "cell_type": "code",
   "execution_count": 20,
   "id": "78ff2e23",
   "metadata": {},
   "outputs": [
    {
     "data": {
      "text/latex": [
       "$\\displaystyle \\left[\\begin{matrix}\\frac{\\left(2 \\left(\\frac{\\partial}{\\partial r} W{\\left(t,r \\right)} \\frac{\\partial}{\\partial r} \\chi{\\left(t,r \\right)} - \\frac{\\partial}{\\partial r} W{\\left(t,r \\right)} \\frac{\\partial}{\\partial r} \\psi{\\left(t,r \\right)} + \\frac{\\partial}{\\partial t} W{\\left(t,r \\right)} \\frac{\\partial}{\\partial t} \\chi{\\left(t,r \\right)} + \\frac{\\partial}{\\partial t} W{\\left(t,r \\right)} \\frac{\\partial}{\\partial t} \\psi{\\left(t,r \\right)} - \\frac{\\partial^{2}}{\\partial t^{2}} W{\\left(t,r \\right)}\\right) e^{4 \\chi{\\left(t,r \\right)}} + 2 \\left(\\frac{\\partial^{2}}{\\partial r^{2}} \\chi{\\left(t,r \\right)} - \\frac{\\partial^{2}}{\\partial t^{2}} \\chi{\\left(t,r \\right)} - \\frac{\\partial^{2}}{\\partial r^{2}} \\psi{\\left(t,r \\right)} - 2 \\left(\\frac{\\partial}{\\partial t} \\psi{\\left(t,r \\right)}\\right)^{2} + \\frac{\\partial^{2}}{\\partial t^{2}} \\psi{\\left(t,r \\right)}\\right) W{\\left(t,r \\right)} e^{4 \\chi{\\left(t,r \\right)}} + \\left(2 W{\\left(t,r \\right)} \\omega^{2}{\\left(t,r \\right)} \\frac{\\partial^{2}}{\\partial r^{2}} \\psi{\\left(t,r \\right)} - 2 W{\\left(t,r \\right)} \\omega^{2}{\\left(t,r \\right)} \\frac{\\partial^{2}}{\\partial t^{2}} \\psi{\\left(t,r \\right)} + 4 W{\\left(t,r \\right)} \\omega{\\left(t,r \\right)} \\frac{\\partial}{\\partial r} \\chi{\\left(t,r \\right)} \\frac{\\partial}{\\partial r} \\omega{\\left(t,r \\right)} - 2 W{\\left(t,r \\right)} \\omega{\\left(t,r \\right)} \\frac{\\partial^{2}}{\\partial r^{2}} \\omega{\\left(t,r \\right)} - W{\\left(t,r \\right)} \\left(\\frac{\\partial}{\\partial r} \\omega{\\left(t,r \\right)}\\right)^{2} + 2 \\omega^{2}{\\left(t,r \\right)} \\frac{\\partial}{\\partial r} W{\\left(t,r \\right)} \\frac{\\partial}{\\partial r} \\psi{\\left(t,r \\right)} - 2 \\omega^{2}{\\left(t,r \\right)} \\frac{\\partial^{2}}{\\partial r^{2}} W{\\left(t,r \\right)} - 2 \\omega^{2}{\\left(t,r \\right)} \\frac{\\partial}{\\partial t} W{\\left(t,r \\right)} \\frac{\\partial}{\\partial t} \\psi{\\left(t,r \\right)} + 2 \\omega^{2}{\\left(t,r \\right)} \\frac{\\partial^{2}}{\\partial t^{2}} W{\\left(t,r \\right)} - 6 \\omega{\\left(t,r \\right)} \\frac{\\partial}{\\partial r} W{\\left(t,r \\right)} \\frac{\\partial}{\\partial r} \\omega{\\left(t,r \\right)}\\right) W^{2}{\\left(t,r \\right)} e^{2 \\chi{\\left(t,r \\right)}} - W^{5}{\\left(t,r \\right)} \\omega^{2}{\\left(t,r \\right)} \\left(\\frac{\\partial}{\\partial r} \\omega{\\left(t,r \\right)}\\right)^{2}\\right) e^{- 4 \\chi{\\left(t,r \\right)}}}{2 W{\\left(t,r \\right)}} & \\frac{\\left(2 \\left(\\frac{\\partial}{\\partial r} W{\\left(t,r \\right)} \\frac{\\partial}{\\partial t} \\chi{\\left(t,r \\right)} + \\frac{\\partial}{\\partial t} W{\\left(t,r \\right)} \\frac{\\partial}{\\partial r} \\chi{\\left(t,r \\right)} - \\frac{\\partial^{2}}{\\partial t\\partial r} W{\\left(t,r \\right)}\\right) e^{2 \\chi{\\left(t,r \\right)}} - \\left(- 2 W{\\left(t,r \\right)} \\frac{\\partial}{\\partial t} \\chi{\\left(t,r \\right)} \\frac{\\partial}{\\partial r} \\omega{\\left(t,r \\right)} + W{\\left(t,r \\right)} \\frac{\\partial^{2}}{\\partial t\\partial r} \\omega{\\left(t,r \\right)} + 3 \\frac{\\partial}{\\partial t} W{\\left(t,r \\right)} \\frac{\\partial}{\\partial r} \\omega{\\left(t,r \\right)}\\right) W^{2}{\\left(t,r \\right)} \\omega{\\left(t,r \\right)} - 4 W{\\left(t,r \\right)} e^{2 \\chi{\\left(t,r \\right)}} \\frac{\\partial}{\\partial r} \\psi{\\left(t,r \\right)} \\frac{\\partial}{\\partial t} \\psi{\\left(t,r \\right)}\\right) e^{- 2 \\chi{\\left(t,r \\right)}}}{2 W{\\left(t,r \\right)}} & 0 & \\frac{\\left(- W^{3}{\\left(t,r \\right)} \\omega{\\left(t,r \\right)} \\left(\\frac{\\partial}{\\partial r} \\omega{\\left(t,r \\right)}\\right)^{2} + 2 W{\\left(t,r \\right)} \\omega{\\left(t,r \\right)} e^{2 \\chi{\\left(t,r \\right)}} \\frac{\\partial^{2}}{\\partial r^{2}} \\psi{\\left(t,r \\right)} - 2 W{\\left(t,r \\right)} \\omega{\\left(t,r \\right)} e^{2 \\chi{\\left(t,r \\right)}} \\frac{\\partial^{2}}{\\partial t^{2}} \\psi{\\left(t,r \\right)} + 2 W{\\left(t,r \\right)} e^{2 \\chi{\\left(t,r \\right)}} \\frac{\\partial}{\\partial r} \\chi{\\left(t,r \\right)} \\frac{\\partial}{\\partial r} \\omega{\\left(t,r \\right)} - W{\\left(t,r \\right)} e^{2 \\chi{\\left(t,r \\right)}} \\frac{\\partial^{2}}{\\partial r^{2}} \\omega{\\left(t,r \\right)} + 2 \\omega{\\left(t,r \\right)} e^{2 \\chi{\\left(t,r \\right)}} \\frac{\\partial}{\\partial r} W{\\left(t,r \\right)} \\frac{\\partial}{\\partial r} \\psi{\\left(t,r \\right)} - 2 \\omega{\\left(t,r \\right)} e^{2 \\chi{\\left(t,r \\right)}} \\frac{\\partial^{2}}{\\partial r^{2}} W{\\left(t,r \\right)} - 2 \\omega{\\left(t,r \\right)} e^{2 \\chi{\\left(t,r \\right)}} \\frac{\\partial}{\\partial t} W{\\left(t,r \\right)} \\frac{\\partial}{\\partial t} \\psi{\\left(t,r \\right)} + 2 \\omega{\\left(t,r \\right)} e^{2 \\chi{\\left(t,r \\right)}} \\frac{\\partial^{2}}{\\partial t^{2}} W{\\left(t,r \\right)} - 3 e^{2 \\chi{\\left(t,r \\right)}} \\frac{\\partial}{\\partial r} W{\\left(t,r \\right)} \\frac{\\partial}{\\partial r} \\omega{\\left(t,r \\right)}\\right) W{\\left(t,r \\right)} e^{- 4 \\chi{\\left(t,r \\right)}}}{2}\\\\\\frac{\\left(2 \\left(\\frac{\\partial}{\\partial r} W{\\left(t,r \\right)} \\frac{\\partial}{\\partial t} \\chi{\\left(t,r \\right)} + \\frac{\\partial}{\\partial t} W{\\left(t,r \\right)} \\frac{\\partial}{\\partial r} \\chi{\\left(t,r \\right)} - \\frac{\\partial^{2}}{\\partial t\\partial r} W{\\left(t,r \\right)}\\right) e^{2 \\chi{\\left(t,r \\right)}} - \\left(- 2 W{\\left(t,r \\right)} \\frac{\\partial}{\\partial t} \\chi{\\left(t,r \\right)} \\frac{\\partial}{\\partial r} \\omega{\\left(t,r \\right)} + W{\\left(t,r \\right)} \\frac{\\partial^{2}}{\\partial t\\partial r} \\omega{\\left(t,r \\right)} + 3 \\frac{\\partial}{\\partial t} W{\\left(t,r \\right)} \\frac{\\partial}{\\partial r} \\omega{\\left(t,r \\right)}\\right) W^{2}{\\left(t,r \\right)} \\omega{\\left(t,r \\right)} - 4 W{\\left(t,r \\right)} e^{2 \\chi{\\left(t,r \\right)}} \\frac{\\partial}{\\partial r} \\psi{\\left(t,r \\right)} \\frac{\\partial}{\\partial t} \\psi{\\left(t,r \\right)}\\right) e^{- 2 \\chi{\\left(t,r \\right)}}}{2 W{\\left(t,r \\right)}} & \\frac{W^{2}{\\left(t,r \\right)} e^{- 2 \\chi{\\left(t,r \\right)}} \\left(\\frac{\\partial}{\\partial r} \\omega{\\left(t,r \\right)}\\right)^{2}}{2} - \\frac{\\partial^{2}}{\\partial r^{2}} \\chi{\\left(t,r \\right)} + \\frac{\\partial^{2}}{\\partial t^{2}} \\chi{\\left(t,r \\right)} - 2 \\left(\\frac{\\partial}{\\partial r} \\psi{\\left(t,r \\right)}\\right)^{2} + \\frac{\\partial^{2}}{\\partial r^{2}} \\psi{\\left(t,r \\right)} - \\frac{\\partial^{2}}{\\partial t^{2}} \\psi{\\left(t,r \\right)} + \\frac{\\frac{\\partial}{\\partial r} W{\\left(t,r \\right)} \\frac{\\partial}{\\partial r} \\chi{\\left(t,r \\right)}}{W{\\left(t,r \\right)}} + \\frac{\\frac{\\partial}{\\partial r} W{\\left(t,r \\right)} \\frac{\\partial}{\\partial r} \\psi{\\left(t,r \\right)}}{W{\\left(t,r \\right)}} - \\frac{\\frac{\\partial^{2}}{\\partial r^{2}} W{\\left(t,r \\right)}}{W{\\left(t,r \\right)}} + \\frac{\\frac{\\partial}{\\partial t} W{\\left(t,r \\right)} \\frac{\\partial}{\\partial t} \\chi{\\left(t,r \\right)}}{W{\\left(t,r \\right)}} - \\frac{\\frac{\\partial}{\\partial t} W{\\left(t,r \\right)} \\frac{\\partial}{\\partial t} \\psi{\\left(t,r \\right)}}{W{\\left(t,r \\right)}} & 0 & \\frac{\\left(2 W{\\left(t,r \\right)} \\frac{\\partial}{\\partial t} \\chi{\\left(t,r \\right)} \\frac{\\partial}{\\partial r} \\omega{\\left(t,r \\right)} - W{\\left(t,r \\right)} \\frac{\\partial^{2}}{\\partial t\\partial r} \\omega{\\left(t,r \\right)} - 3 \\frac{\\partial}{\\partial t} W{\\left(t,r \\right)} \\frac{\\partial}{\\partial r} \\omega{\\left(t,r \\right)}\\right) W{\\left(t,r \\right)} e^{- 2 \\chi{\\left(t,r \\right)}}}{2}\\\\0 & 0 & \\frac{\\left(- W{\\left(t,r \\right)} \\frac{\\partial^{2}}{\\partial r^{2}} \\psi{\\left(t,r \\right)} + W{\\left(t,r \\right)} \\frac{\\partial^{2}}{\\partial t^{2}} \\psi{\\left(t,r \\right)} - \\frac{\\partial}{\\partial r} W{\\left(t,r \\right)} \\frac{\\partial}{\\partial r} \\psi{\\left(t,r \\right)} + \\frac{\\partial}{\\partial t} W{\\left(t,r \\right)} \\frac{\\partial}{\\partial t} \\psi{\\left(t,r \\right)}\\right) e^{- 2 \\chi{\\left(t,r \\right)} + 4 \\psi{\\left(t,r \\right)}}}{W{\\left(t,r \\right)}} & 0\\\\\\frac{\\left(- W^{3}{\\left(t,r \\right)} \\omega{\\left(t,r \\right)} \\left(\\frac{\\partial}{\\partial r} \\omega{\\left(t,r \\right)}\\right)^{2} + 2 W{\\left(t,r \\right)} \\omega{\\left(t,r \\right)} e^{2 \\chi{\\left(t,r \\right)}} \\frac{\\partial^{2}}{\\partial r^{2}} \\psi{\\left(t,r \\right)} - 2 W{\\left(t,r \\right)} \\omega{\\left(t,r \\right)} e^{2 \\chi{\\left(t,r \\right)}} \\frac{\\partial^{2}}{\\partial t^{2}} \\psi{\\left(t,r \\right)} + 2 W{\\left(t,r \\right)} e^{2 \\chi{\\left(t,r \\right)}} \\frac{\\partial}{\\partial r} \\chi{\\left(t,r \\right)} \\frac{\\partial}{\\partial r} \\omega{\\left(t,r \\right)} - W{\\left(t,r \\right)} e^{2 \\chi{\\left(t,r \\right)}} \\frac{\\partial^{2}}{\\partial r^{2}} \\omega{\\left(t,r \\right)} + 2 \\omega{\\left(t,r \\right)} e^{2 \\chi{\\left(t,r \\right)}} \\frac{\\partial}{\\partial r} W{\\left(t,r \\right)} \\frac{\\partial}{\\partial r} \\psi{\\left(t,r \\right)} - 2 \\omega{\\left(t,r \\right)} e^{2 \\chi{\\left(t,r \\right)}} \\frac{\\partial^{2}}{\\partial r^{2}} W{\\left(t,r \\right)} - 2 \\omega{\\left(t,r \\right)} e^{2 \\chi{\\left(t,r \\right)}} \\frac{\\partial}{\\partial t} W{\\left(t,r \\right)} \\frac{\\partial}{\\partial t} \\psi{\\left(t,r \\right)} + 2 \\omega{\\left(t,r \\right)} e^{2 \\chi{\\left(t,r \\right)}} \\frac{\\partial^{2}}{\\partial t^{2}} W{\\left(t,r \\right)} - 3 e^{2 \\chi{\\left(t,r \\right)}} \\frac{\\partial}{\\partial r} W{\\left(t,r \\right)} \\frac{\\partial}{\\partial r} \\omega{\\left(t,r \\right)}\\right) W{\\left(t,r \\right)} e^{- 4 \\chi{\\left(t,r \\right)}}}{2} & \\frac{\\left(2 W{\\left(t,r \\right)} \\frac{\\partial}{\\partial t} \\chi{\\left(t,r \\right)} \\frac{\\partial}{\\partial r} \\omega{\\left(t,r \\right)} - W{\\left(t,r \\right)} \\frac{\\partial^{2}}{\\partial t\\partial r} \\omega{\\left(t,r \\right)} - 3 \\frac{\\partial}{\\partial t} W{\\left(t,r \\right)} \\frac{\\partial}{\\partial r} \\omega{\\left(t,r \\right)}\\right) W{\\left(t,r \\right)} e^{- 2 \\chi{\\left(t,r \\right)}}}{2} & 0 & \\frac{\\left(- W^{3}{\\left(t,r \\right)} \\left(\\frac{\\partial}{\\partial r} \\omega{\\left(t,r \\right)}\\right)^{2} + 2 W{\\left(t,r \\right)} e^{2 \\chi{\\left(t,r \\right)}} \\frac{\\partial^{2}}{\\partial r^{2}} \\psi{\\left(t,r \\right)} - 2 W{\\left(t,r \\right)} e^{2 \\chi{\\left(t,r \\right)}} \\frac{\\partial^{2}}{\\partial t^{2}} \\psi{\\left(t,r \\right)} + 2 e^{2 \\chi{\\left(t,r \\right)}} \\frac{\\partial}{\\partial r} W{\\left(t,r \\right)} \\frac{\\partial}{\\partial r} \\psi{\\left(t,r \\right)} - 2 e^{2 \\chi{\\left(t,r \\right)}} \\frac{\\partial^{2}}{\\partial r^{2}} W{\\left(t,r \\right)} - 2 e^{2 \\chi{\\left(t,r \\right)}} \\frac{\\partial}{\\partial t} W{\\left(t,r \\right)} \\frac{\\partial}{\\partial t} \\psi{\\left(t,r \\right)} + 2 e^{2 \\chi{\\left(t,r \\right)}} \\frac{\\partial^{2}}{\\partial t^{2}} W{\\left(t,r \\right)}\\right) W{\\left(t,r \\right)} e^{- 4 \\chi{\\left(t,r \\right)}}}{2}\\end{matrix}\\right]$"
      ],
      "text/plain": [
       "⎡⎛  ⎛                                                                                                          2         ⎞ \n",
       "⎢⎜  ⎜∂           ∂             ∂           ∂             ∂           ∂             ∂           ∂              ∂          ⎟ \n",
       "⎢⎜2⋅⎜──(W(t, r))⋅──(χ(t, r)) - ──(W(t, r))⋅──(ψ(t, r)) + ──(W(t, r))⋅──(χ(t, r)) + ──(W(t, r))⋅──(ψ(t, r)) - ───(W(t, r))⎟⋅\n",
       "⎢⎜  ⎜∂r          ∂r            ∂r          ∂r            ∂t          ∂t            ∂t          ∂t              2         ⎟ \n",
       "⎢⎝  ⎝                                                                                                        ∂t          ⎠ \n",
       "⎢──────────────────────────────────────────────────────────────────────────────────────────────────────────────────────────\n",
       "⎢                                                                                                                          \n",
       "⎢                                                                                                                          \n",
       "⎢                                                                                                                          \n",
       "⎢                                                                                                                          \n",
       "⎢                                                                                                                          \n",
       "⎢                                                                                                                          \n",
       "⎢                                                                                                                          \n",
       "⎢                                                                                                                          \n",
       "⎢                                                                                                                          \n",
       "⎢                                                                                                                          \n",
       "⎢                                                                                                                          \n",
       "⎢                                                                                                                          \n",
       "⎢                                                                                                                          \n",
       "⎢                                                                                                                          \n",
       "⎢                                                                                                                          \n",
       "⎢                                                                                                                          \n",
       "⎢                                                                                                                          \n",
       "⎢                                                                                                                          \n",
       "⎢                                                                                                                          \n",
       "⎢                                                                                                       ⎛                  \n",
       "⎢                                                                                                       ⎜   3              \n",
       "⎢                                                                                                       ⎜- W (t, r)⋅ω(t, r)\n",
       "⎢                                                                                                       ⎜                  \n",
       "⎢                                                                                                       ⎝                  \n",
       "⎢                                                                                                       ───────────────────\n",
       "⎣                                                                                                                          \n",
       "\n",
       "               ⎛  2              2              2                           2     2         ⎞                      ⎛       \n",
       " 4⋅χ(t, r)     ⎜ ∂              ∂              ∂               ⎛∂          ⎞     ∂          ⎟          4⋅χ(t, r)   ⎜       \n",
       "ℯ          + 2⋅⎜───(χ(t, r)) - ───(χ(t, r)) - ───(ψ(t, r)) - 2⋅⎜──(ψ(t, r))⎟  + ───(ψ(t, r))⎟⋅W(t, r)⋅ℯ          + ⎜2⋅W(t, \n",
       "               ⎜  2              2              2              ⎝∂t         ⎠      2         ⎟                      ⎜       \n",
       "               ⎝∂r             ∂t             ∂r                                ∂t          ⎠                      ⎝       \n",
       "───────────────────────────────────────────────────────────────────────────────────────────────────────────────────────────\n",
       "                                                                                                                           \n",
       "                                                                                                                           \n",
       "                                                                                                                           \n",
       "                                                                      ⎛  ⎛                                                 \n",
       "                                                                      ⎜  ⎜∂           ∂             ∂           ∂          \n",
       "                                                                      ⎜2⋅⎜──(W(t, r))⋅──(χ(t, r)) + ──(W(t, r))⋅──(χ(t, r))\n",
       "                                                                      ⎝  ⎝∂r          ∂t            ∂t          ∂r         \n",
       "                                                                      ─────────────────────────────────────────────────────\n",
       "                                                                                                                           \n",
       "                                                                                                                           \n",
       "                                                                                                                           \n",
       "                                                                                                                           \n",
       "                                                                                                                           \n",
       "                                                                                                                           \n",
       "                                                                                                                           \n",
       "                                                                                                                           \n",
       "                                                                                                                           \n",
       "                                                                                                                           \n",
       "                                                                                                                           \n",
       "              2                                  2                                           2                             \n",
       " ⎛∂          ⎞                       2⋅χ(t, r)  ∂                                2⋅χ(t, r)  ∂                        2⋅χ(t,\n",
       "⋅⎜──(ω(t, r))⎟  + 2⋅W(t, r)⋅ω(t, r)⋅ℯ         ⋅───(ψ(t, r)) - 2⋅W(t, r)⋅ω(t, r)⋅ℯ         ⋅───(ψ(t, r)) + 2⋅W(t, r)⋅ℯ      \n",
       " ⎝∂r         ⎠                                   2                                           2                             \n",
       "                                               ∂r                                          ∂t                              \n",
       "───────────────────────────────────────────────────────────────────────────────────────────────────────────────────────────\n",
       "                                                                                                                           \n",
       "\n",
       "              2                                 2                                                                          \n",
       "    2        ∂                        2        ∂                               ∂           ∂                               \n",
       "r)⋅ω (t, r)⋅───(ψ(t, r)) - 2⋅W(t, r)⋅ω (t, r)⋅───(ψ(t, r)) + 4⋅W(t, r)⋅ω(t, r)⋅──(χ(t, r))⋅──(ω(t, r)) - 2⋅W(t, r)⋅ω(t, r)⋅\n",
       "              2                                 2                              ∂r          ∂r                              \n",
       "            ∂r                                ∂t                                                                           \n",
       "───────────────────────────────────────────────────────────────────────────────────────────────────────────────────────────\n",
       "                                                                    2⋅W(t, r)                                              \n",
       "                                                                                                                           \n",
       "                                                                                                                           \n",
       "      2          ⎞              ⎛                                                 2                                      ⎞ \n",
       "     ∂           ⎟  2⋅χ(t, r)   ⎜            ∂           ∂                       ∂                ∂           ∂          ⎟ \n",
       " - ─────(W(t, r))⎟⋅ℯ          - ⎜- 2⋅W(t, r)⋅──(χ(t, r))⋅──(ω(t, r)) + W(t, r)⋅─────(ω(t, r)) + 3⋅──(W(t, r))⋅──(ω(t, r))⎟⋅\n",
       "   ∂t ∂r         ⎠              ⎝            ∂t          ∂r                    ∂t ∂r              ∂t          ∂r         ⎠ \n",
       "───────────────────────────────────────────────────────────────────────────────────────────────────────────────────────────\n",
       "                                                                    2⋅W(t, r)                                              \n",
       "                                                                                                                           \n",
       "                                                                                                                           \n",
       "                                                                                                                           \n",
       "                                                                                                                           \n",
       "                                                                                                                           \n",
       "                                                                                                                           \n",
       "                                                                                                                           \n",
       "                                                                        0                                                  \n",
       "                                                                                                                           \n",
       "                                                                                                                           \n",
       "                                                   2                                                                       \n",
       " r) ∂           ∂                      2⋅χ(t, r)  ∂                        2⋅χ(t, r) ∂           ∂                        2\n",
       "   ⋅──(χ(t, r))⋅──(ω(t, r)) - W(t, r)⋅ℯ         ⋅───(ω(t, r)) + 2⋅ω(t, r)⋅ℯ         ⋅──(W(t, r))⋅──(ψ(t, r)) - 2⋅ω(t, r)⋅ℯ \n",
       "    ∂r          ∂r                                 2                                 ∂r          ∂r                        \n",
       "                                                 ∂r                                                                        \n",
       "───────────────────────────────────────────────────────────────────────────────────────────────────────────────────────────\n",
       "                                                                        2                                                  \n",
       "\n",
       "  2                                 2                                                     2                                \n",
       " ∂                     ⎛∂          ⎞       2       ∂           ∂                2        ∂                2       ∂        \n",
       "───(ω(t, r)) - W(t, r)⋅⎜──(ω(t, r))⎟  + 2⋅ω (t, r)⋅──(W(t, r))⋅──(ψ(t, r)) - 2⋅ω (t, r)⋅───(W(t, r)) - 2⋅ω (t, r)⋅──(W(t, r\n",
       "  2                    ⎝∂r         ⎠               ∂r          ∂r                         2                       ∂t       \n",
       "∂r                                                                                      ∂r                                 \n",
       "───────────────────────────────────────────────────────────────────────────────────────────────────────────────────────────\n",
       "                                                                                                                           \n",
       "                                                                                                                           \n",
       "                                                                                                                           \n",
       "                                                               ⎞                                                           \n",
       " 2                            2⋅χ(t, r) ∂           ∂          ⎟  -2⋅χ(t, r)                                               \n",
       "W (t, r)⋅ω(t, r) - 4⋅W(t, r)⋅ℯ         ⋅──(ψ(t, r))⋅──(ψ(t, r))⎟⋅ℯ                                                         \n",
       "                                        ∂r          ∂t         ⎠                                                           \n",
       "────────────────────────────────────────────────────────────────────────────                                               \n",
       "                                                                                                                           \n",
       "                                                                                                                           \n",
       "                                                                                                                           \n",
       "                                                                                                                           \n",
       "                                                                                                                           \n",
       "                                                                                                                           \n",
       "                                                                                                                           \n",
       "                                                                                                                           \n",
       "                                                                                                                           \n",
       "                                                                                                                           \n",
       "                                                                                                                           \n",
       "           2                                                                                  2                            \n",
       "⋅χ(t, r)  ∂                        2⋅χ(t, r) ∂           ∂                        2⋅χ(t, r)  ∂                2⋅χ(t, r) ∂  \n",
       "        ⋅───(W(t, r)) - 2⋅ω(t, r)⋅ℯ         ⋅──(W(t, r))⋅──(ψ(t, r)) + 2⋅ω(t, r)⋅ℯ         ⋅───(W(t, r)) - 3⋅ℯ         ⋅──(\n",
       "           2                                 ∂t          ∂t                                   2                         ∂r \n",
       "         ∂r                                                                                 ∂t                             \n",
       "───────────────────────────────────────────────────────────────────────────────────────────────────────────────────────────\n",
       "                                                                                                                           \n",
       "\n",
       "                              2                                             ⎞                                              \n",
       "   ∂                2        ∂                       ∂           ∂          ⎟  2        2⋅χ(t, r)    5        2       ⎛∂   \n",
       "))⋅──(ψ(t, r)) + 2⋅ω (t, r)⋅───(W(t, r)) - 6⋅ω(t, r)⋅──(W(t, r))⋅──(ω(t, r))⎟⋅W (t, r)⋅ℯ          - W (t, r)⋅ω (t, r)⋅⎜──(ω\n",
       "   ∂t                         2                      ∂r          ∂r         ⎟                                         ⎝∂r  \n",
       "                            ∂t                                              ⎠                                              \n",
       "───────────────────────────────────────────────────────────────────────────────────────────────────────────────────────────\n",
       "                                                                                                                           \n",
       "                                                                                                                           \n",
       "                                                                                                                           \n",
       "                                                                                                                           \n",
       "                                                                                                                           \n",
       "                                                                                                                           \n",
       "                                                                                                                           \n",
       "                                                                                                                           \n",
       "                                                                                                                           \n",
       "                                                                                                                           \n",
       "                                                                                                                           \n",
       "                                                                                                                           \n",
       "                                                                                                                           \n",
       "                                                                                                                           \n",
       "                                                                                                                           \n",
       "                                                                                                                           \n",
       "                                                                                                                           \n",
       "                                                                                                                           \n",
       "                                                                                                                           \n",
       "                    ⎞                                                                                                      \n",
       "         ∂          ⎟          -4⋅χ(t, r)                                                                                  \n",
       "W(t, r))⋅──(ω(t, r))⎟⋅W(t, r)⋅ℯ                                                                                            \n",
       "         ∂r         ⎟                                                                                                      \n",
       "                    ⎠                                                                                                      \n",
       "─────────────────────────────────────────                                                                                  \n",
       "                                                                                                                           \n",
       "\n",
       "        2⎞                                                                                                                 \n",
       "       ⎞ ⎟  -4⋅χ(t, r)  ⎛  ⎛                                                       2          ⎞              ⎛             \n",
       "(t, r))⎟ ⎟⋅ℯ            ⎜  ⎜∂           ∂             ∂           ∂               ∂           ⎟  2⋅χ(t, r)   ⎜            ∂\n",
       "       ⎠ ⎟              ⎜2⋅⎜──(W(t, r))⋅──(χ(t, r)) + ──(W(t, r))⋅──(χ(t, r)) - ─────(W(t, r))⎟⋅ℯ          - ⎜- 2⋅W(t, r)⋅─\n",
       "         ⎠              ⎝  ⎝∂r          ∂t            ∂t          ∂r            ∂t ∂r         ⎠              ⎝            ∂\n",
       "──────────────────────  ───────────────────────────────────────────────────────────────────────────────────────────────────\n",
       "                                                                                                                           \n",
       "                                                                                                                           \n",
       "                                                                                                                           \n",
       "                                                                   2                                                       \n",
       "                                  2        -2⋅χ(t, r) ⎛∂          ⎞                                                        \n",
       "                                 W (t, r)⋅ℯ          ⋅⎜──(ω(t, r))⎟      2              2                           2     2\n",
       "                                                      ⎝∂r         ⎠     ∂              ∂               ⎛∂          ⎞     ∂ \n",
       "                                 ─────────────────────────────────── - ───(χ(t, r)) + ───(χ(t, r)) - 2⋅⎜──(ψ(t, r))⎟  + ───\n",
       "                                                  2                      2              2              ⎝∂r         ⎠      2\n",
       "                                                                       ∂r             ∂t                                ∂r \n",
       "                                                                                                                           \n",
       "                                                                                                                           \n",
       "                                                                                                                           \n",
       "                                                                                                                           \n",
       "                                                                                                                           \n",
       "                                                                                                                           \n",
       "                                                                                                                           \n",
       "                                                                                                                           \n",
       "                                                                                                                           \n",
       "                                                                                                                           \n",
       "                                                                                                ⎛                          \n",
       "                                                                                                ⎜          ∂           ∂   \n",
       "                                                                                                ⎜2⋅W(t, r)⋅──(χ(t, r))⋅──(ω\n",
       "                                                                                                ⎝          ∂t          ∂r  \n",
       "                                                                                                ───────────────────────────\n",
       "                                                                                                                           \n",
       "\n",
       "                                                                                                                           \n",
       "                                    2                                      ⎞                                               \n",
       "           ∂                       ∂                ∂           ∂          ⎟  2                            2⋅χ(t, r) ∂     \n",
       "─(χ(t, r))⋅──(ω(t, r)) + W(t, r)⋅─────(ω(t, r)) + 3⋅──(W(t, r))⋅──(ω(t, r))⎟⋅W (t, r)⋅ω(t, r) - 4⋅W(t, r)⋅ℯ         ⋅──(ψ(t\n",
       "t          ∂r                    ∂t ∂r              ∂t          ∂r         ⎠                                         ∂r    \n",
       "───────────────────────────────────────────────────────────────────────────────────────────────────────────────────────────\n",
       "                      2⋅W(t, r)                                                                                            \n",
       "                                                                                                                           \n",
       "                                                                                 2                                         \n",
       "                                                                                ∂                                          \n",
       "                           ∂           ∂             ∂           ∂             ───(W(t, r))   ∂           ∂             ∂  \n",
       "              2            ──(W(t, r))⋅──(χ(t, r))   ──(W(t, r))⋅──(ψ(t, r))     2            ──(W(t, r))⋅──(χ(t, r))   ──(\n",
       "             ∂             ∂r          ∂r            ∂r          ∂r            ∂r             ∂t          ∂t            ∂t \n",
       "(ψ(t, r)) - ───(ψ(t, r)) + ─────────────────────── + ─────────────────────── - ──────────── + ─────────────────────── - ───\n",
       "              2                    W(t, r)                   W(t, r)             W(t, r)              W(t, r)              \n",
       "            ∂t                                                                                                             \n",
       "                                                                                                                           \n",
       "                                                                                                                           \n",
       "                                                                                                                           \n",
       "                                                                                                                           \n",
       "                                                                                                                           \n",
       "                                                                                                                           \n",
       "                          0                                                                                                \n",
       "                                                                                                                           \n",
       "                                                                                                                           \n",
       "                                                                                                                           \n",
       "                     2                                      ⎞                                                              \n",
       "                    ∂                ∂           ∂          ⎟          -2⋅χ(t, r)                                          \n",
       "(t, r)) - W(t, r)⋅─────(ω(t, r)) - 3⋅──(W(t, r))⋅──(ω(t, r))⎟⋅W(t, r)⋅ℯ                                                    \n",
       "                  ∂t ∂r              ∂t          ∂r         ⎠                                                              \n",
       "─────────────────────────────────────────────────────────────────────────────────                                          \n",
       "                          2                                                                                                \n",
       "\n",
       "                                                                                                                           \n",
       "                 ⎞                                                                                                         \n",
       "      ∂          ⎟  -2⋅χ(t, r)                                                                                             \n",
       ", r))⋅──(ψ(t, r))⎟⋅ℯ                                                                                                       \n",
       "      ∂t         ⎠                                                                                                         \n",
       "──────────────────────────────                                                               0                             \n",
       "                                                                                                                           \n",
       "                                                                                                                           \n",
       "                                                                                                                           \n",
       "                                                                                                                           \n",
       "         ∂                                                                                                                 \n",
       "W(t, r))⋅──(ψ(t, r))                                                                                                       \n",
       "         ∂t                                                                                                                \n",
       "────────────────────                                                                         0                             \n",
       "     W(t, r)                                                                                                               \n",
       "                                                                                                                           \n",
       "                                                                                                                           \n",
       "                                ⎛            2                      2                                                      \n",
       "                                ⎜           ∂                      ∂             ∂           ∂             ∂           ∂   \n",
       "                                ⎜- W(t, r)⋅───(ψ(t, r)) + W(t, r)⋅───(ψ(t, r)) - ──(W(t, r))⋅──(ψ(t, r)) + ──(W(t, r))⋅──(ψ\n",
       "                                ⎜            2                      2            ∂r          ∂r            ∂t          ∂t  \n",
       "                                ⎝          ∂r                     ∂t                                                       \n",
       "                                ───────────────────────────────────────────────────────────────────────────────────────────\n",
       "                                                                                          W(t, r)                          \n",
       "                                                                                                                           \n",
       "                                                                                                                           \n",
       "                                                                                                                           \n",
       "                                                                                                                           \n",
       "                                                                                                                           \n",
       "                                                                                                                           \n",
       "                                                                                             0                             \n",
       "                                                                                                                           \n",
       "\n",
       "                                  ⎛                                2                                  2                    \n",
       "                                  ⎜   3               ⎛∂          ⎞                       2⋅χ(t, r)  ∂                     \n",
       "                                  ⎜- W (t, r)⋅ω(t, r)⋅⎜──(ω(t, r))⎟  + 2⋅W(t, r)⋅ω(t, r)⋅ℯ         ⋅───(ψ(t, r)) - 2⋅W(t, r\n",
       "                                  ⎜                   ⎝∂r         ⎠                                   2                    \n",
       "                                  ⎝                                                                 ∂r                     \n",
       "                                  ─────────────────────────────────────────────────────────────────────────────────────────\n",
       "                                                                                                                           \n",
       "                                                                                                                           \n",
       "                                                                                                                           \n",
       "                                                                                                                           \n",
       "                                                                                                                           \n",
       "                                                                                                                           \n",
       "                                                                                                                           \n",
       "                                                                                                                           \n",
       "                                                                                                                           \n",
       "                                                                                                                           \n",
       "                                                                                                                           \n",
       "       ⎞                                                                                                                   \n",
       "       ⎟  -2⋅χ(t, r) + 4⋅ψ(t, r)                                                                                           \n",
       "(t, r))⎟⋅ℯ                                                                                                                 \n",
       "       ⎟                                                                                                                   \n",
       "       ⎠                                                                                                                   \n",
       "────────────────────────────────                                                                                           \n",
       "                                                                                                                           \n",
       "                                                                                                                           \n",
       "                                                                                                                          ⎛\n",
       "                                                                                                                          ⎜\n",
       "                                                                                                                          ⎜\n",
       "                                                                                                                          ⎜\n",
       "                                                                                                                          ⎝\n",
       "                                                                                                                          ─\n",
       "                                                                                                                           \n",
       "\n",
       "                       2                                                                                2                  \n",
       "           2⋅χ(t, r)  ∂                        2⋅χ(t, r) ∂           ∂                      2⋅χ(t, r)  ∂                   \n",
       ")⋅ω(t, r)⋅ℯ         ⋅───(ψ(t, r)) + 2⋅W(t, r)⋅ℯ         ⋅──(χ(t, r))⋅──(ω(t, r)) - W(t, r)⋅ℯ         ⋅───(ω(t, r)) + 2⋅ω(t,\n",
       "                       2                                 ∂r          ∂r                                 2                  \n",
       "                     ∂t                                                                               ∂r                   \n",
       "───────────────────────────────────────────────────────────────────────────────────────────────────────────────────────────\n",
       "                                                                                                                           \n",
       "                                                                                                                           \n",
       "                                                                                                                           \n",
       "                                                                       ⎛                                               2   \n",
       "                                                                       ⎜          ∂           ∂                       ∂    \n",
       "                                                                       ⎜2⋅W(t, r)⋅──(χ(t, r))⋅──(ω(t, r)) - W(t, r)⋅─────(ω\n",
       "                                                                       ⎝          ∂t          ∂r                    ∂t ∂r  \n",
       "                                                                       ────────────────────────────────────────────────────\n",
       "                                                                                                                           \n",
       "                                                                                                                           \n",
       "                                                                                                                           \n",
       "                                                                                                                           \n",
       "                                                                                                                           \n",
       "                                                                                                                           \n",
       "                                                                                                                           \n",
       "                                                                                                                           \n",
       "                                                                                                                           \n",
       "                                                                                                                           \n",
       "                                                                                                                           \n",
       "                        2                          2                                   2                                   \n",
       "   3       ⎛∂          ⎞               2⋅χ(t, r)  ∂                        2⋅χ(t, r)  ∂                2⋅χ(t, r) ∂         \n",
       "- W (t, r)⋅⎜──(ω(t, r))⎟  + 2⋅W(t, r)⋅ℯ         ⋅───(ψ(t, r)) - 2⋅W(t, r)⋅ℯ         ⋅───(ψ(t, r)) + 2⋅ℯ         ⋅──(W(t, r)\n",
       "           ⎝∂r         ⎠                           2                                   2                         ∂r        \n",
       "                                                 ∂r                                  ∂t                                    \n",
       "───────────────────────────────────────────────────────────────────────────────────────────────────────────────────────────\n",
       "                                                                                                                           \n",
       "\n",
       "                                                                2                                                          \n",
       "     2⋅χ(t, r) ∂           ∂                        2⋅χ(t, r)  ∂                        2⋅χ(t, r) ∂           ∂            \n",
       " r)⋅ℯ         ⋅──(W(t, r))⋅──(ψ(t, r)) - 2⋅ω(t, r)⋅ℯ         ⋅───(W(t, r)) - 2⋅ω(t, r)⋅ℯ         ⋅──(W(t, r))⋅──(ψ(t, r)) +\n",
       "               ∂r          ∂r                                   2                                 ∂t          ∂t           \n",
       "                                                              ∂r                                                           \n",
       "───────────────────────────────────────────────────────────────────────────────────────────────────────────────────────────\n",
       "  2                                                                                                                        \n",
       "                                                                                                                           \n",
       "                                                                                                                           \n",
       "                                   ⎞                                                                                       \n",
       "            ∂           ∂          ⎟          -2⋅χ(t, r)                                                                   \n",
       "(t, r)) - 3⋅──(W(t, r))⋅──(ω(t, r))⎟⋅W(t, r)⋅ℯ                                                                             \n",
       "            ∂t          ∂r         ⎠                                                                                       \n",
       "────────────────────────────────────────────────────────                                                                   \n",
       " 2                                                                                                                         \n",
       "                                                                                                                           \n",
       "                                                                                                                           \n",
       "                                                                                                                           \n",
       "                                                                                                                           \n",
       "                                                                                                                           \n",
       "                                                                                                                           \n",
       "                                                                                                                           \n",
       "  0                                                                                                                        \n",
       "                                                                                                                           \n",
       "                                                                                                                           \n",
       "                               2                                                                  2         ⎞              \n",
       "  ∂                2⋅χ(t, r)  ∂                2⋅χ(t, r) ∂           ∂                2⋅χ(t, r)  ∂          ⎟          -4⋅χ\n",
       ")⋅──(ψ(t, r)) - 2⋅ℯ         ⋅───(W(t, r)) - 2⋅ℯ         ⋅──(W(t, r))⋅──(ψ(t, r)) + 2⋅ℯ         ⋅───(W(t, r))⎟⋅W(t, r)⋅ℯ    \n",
       "  ∂r                           2                         ∂t          ∂t                           2         ⎟              \n",
       "                             ∂r                                                                 ∂t          ⎠              \n",
       "───────────────────────────────────────────────────────────────────────────────────────────────────────────────────────────\n",
       "  2                                                                                                                        \n",
       "\n",
       "                        2                                                ⎞                    ⎤\n",
       "            2⋅χ(t, r)  ∂                2⋅χ(t, r) ∂           ∂          ⎟          -4⋅χ(t, r)⎥\n",
       " 2⋅ω(t, r)⋅ℯ         ⋅───(W(t, r)) - 3⋅ℯ         ⋅──(W(t, r))⋅──(ω(t, r))⎟⋅W(t, r)⋅ℯ          ⎥\n",
       "                        2                         ∂r          ∂r         ⎟                    ⎥\n",
       "                      ∂t                                                 ⎠                    ⎥\n",
       "──────────────────────────────────────────────────────────────────────────────────────────────⎥\n",
       "                                                                                              ⎥\n",
       "                                                                                              ⎥\n",
       "                                                                                              ⎥\n",
       "                                                                                              ⎥\n",
       "                                                                                              ⎥\n",
       "                                                                                              ⎥\n",
       "                                                                                              ⎥\n",
       "                                                                                              ⎥\n",
       "                                                                                              ⎥\n",
       "                                                                                              ⎥\n",
       "                                                                                              ⎥\n",
       "                                                                                              ⎥\n",
       "                                                                                              ⎥\n",
       "                                                                                              ⎥\n",
       "                                                                                              ⎥\n",
       "                                                                                              ⎥\n",
       "                                                                                              ⎥\n",
       "                                                                                              ⎥\n",
       "                                                                                              ⎥\n",
       "                                                                                              ⎥\n",
       "(t, r)                                                                                        ⎥\n",
       "                                                                                              ⎥\n",
       "                                                                                              ⎥\n",
       "                                                                                              ⎥\n",
       "──────                                                                                        ⎥\n",
       "                                                                                              ⎦"
      ]
     },
     "execution_count": 20,
     "metadata": {},
     "output_type": "execute_result"
    }
   ],
   "source": [
    "Ric = RicciTensor.from_metric(metric)\n",
    "simplify(Ric.tensor())"
   ]
  },
  {
   "cell_type": "code",
   "execution_count": 21,
   "id": "97442ad9",
   "metadata": {},
   "outputs": [],
   "source": [
    "# einst = EinsteinTensor.from_metric(metric)\n",
    "# einst.tensor()"
   ]
  },
  {
   "cell_type": "code",
   "execution_count": 22,
   "id": "007d1679",
   "metadata": {},
   "outputs": [],
   "source": [
    "# R = RicciScalar.from_riccitensor(Ric)\n",
    "# R.simplify()\n",
    "# R.expr"
   ]
  },
  {
   "cell_type": "code",
   "execution_count": 23,
   "id": "2b26b913",
   "metadata": {},
   "outputs": [],
   "source": [
    "# rm1 = RiemannCurvatureTensor.from_christoffels(ch)\n",
    "# rm1.tensor()"
   ]
  },
  {
   "cell_type": "code",
   "execution_count": 24,
   "id": "3979e875",
   "metadata": {},
   "outputs": [],
   "source": [
    "# weyl = WeylTensor.from_metric(metric)\n",
    "# weyl.tensor()"
   ]
  }
 ],
 "metadata": {
  "@webio": {
   "lastCommId": "5d40f7d58b5944ae881f2e73ebf4359e",
   "lastKernelId": "201a3e77-6383-48dc-903d-78b6cfaea7f3"
  },
  "kernelspec": {
   "display_name": "Python 3 (ipykernel)",
   "language": "python",
   "name": "python3"
  },
  "language_info": {
   "codemirror_mode": {
    "name": "ipython",
    "version": 3
   },
   "file_extension": ".py",
   "mimetype": "text/x-python",
   "name": "python",
   "nbconvert_exporter": "python",
   "pygments_lexer": "ipython3",
   "version": "3.8.8"
  }
 },
 "nbformat": 4,
 "nbformat_minor": 5
}
