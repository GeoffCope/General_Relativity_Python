{
 "cells": [
  {
   "cell_type": "markdown",
   "id": "2021c433",
   "metadata": {},
   "source": [
    "# Numerical Study of the Gravitational Shock Wave Inside a Spherical Charged Black Hole by Ori\n",
    "##  Geoff Cope\n",
    "##  Univeristy of Utah\n",
    "##  January 8, 2022"
   ]
  },
  {
   "cell_type": "markdown",
   "id": "b7d8f4bf",
   "metadata": {},
   "source": [
    "Go back and add stress energy tensor"
   ]
  },
  {
   "cell_type": "markdown",
   "id": "22251b19",
   "metadata": {},
   "source": [
    "https://arxiv.org/pdf/1610.04355.pdf"
   ]
  },
  {
   "cell_type": "code",
   "execution_count": 1,
   "id": "5e65675c",
   "metadata": {},
   "outputs": [
    {
     "name": "stdout",
     "output_type": "stream",
     "text": [
      "IPython console for SymPy 1.9 (Python 3.8.8-64-bit) (ground types: gmpy)\n",
      "\n",
      "These commands were executed:\n",
      ">>> from __future__ import division\n",
      ">>> from sympy import *\n",
      ">>> x, y, z, t = symbols('x y z t')\n",
      ">>> k, m, n = symbols('k m n', integer=True)\n",
      ">>> f, g, h = symbols('f g h', cls=Function)\n",
      ">>> init_printing()\n",
      "\n",
      "Documentation can be found at https://docs.sympy.org/1.9/\n",
      "\n"
     ]
    }
   ],
   "source": [
    "from sympy import init_session\n",
    "init_session(use_latex=True)"
   ]
  },
  {
   "cell_type": "code",
   "execution_count": 2,
   "id": "f2ee982f",
   "metadata": {},
   "outputs": [],
   "source": [
    "import warnings\n",
    "import matplotlib.cbook\n",
    "warnings.filterwarnings(\"ignore\",category=matplotlib.cbook.mplDeprecation)"
   ]
  },
  {
   "cell_type": "code",
   "execution_count": 3,
   "id": "86e8050b",
   "metadata": {},
   "outputs": [],
   "source": [
    "u,v,theta,phi,du,dv,dtheta,dphi = symbols('u v theta phi du dv dtheta dphi')"
   ]
  },
  {
   "cell_type": "code",
   "execution_count": 4,
   "id": "b62b4db2",
   "metadata": {},
   "outputs": [
    {
     "data": {
      "image/png": "[encoded data removed]",
      "text/latex": [
       "$\\displaystyle \\sigma{\\left(u,v \\right)}$"
      ],
      "text/plain": [
       "σ(u, v)"
      ]
     },
     "execution_count": 4,
     "metadata": {},
     "output_type": "execute_result"
    }
   ],
   "source": [
    "sigma = Function('sigma')(u,v)\n",
    "sigma"
   ]
  },
  {
   "cell_type": "code",
   "execution_count": 5,
   "id": "7bfd2a41",
   "metadata": {},
   "outputs": [
    {
     "data": {
      "image/png": "[encoded data removed]",
      "text/latex": [
       "$\\displaystyle r{\\left(u,v \\right)}$"
      ],
      "text/plain": [
       "r(u, v)"
      ]
     },
     "execution_count": 5,
     "metadata": {},
     "output_type": "execute_result"
    }
   ],
   "source": [
    "r = Function('r')(u,v)\n",
    "r"
   ]
  },
  {
   "cell_type": "code",
   "execution_count": 7,
   "id": "cbcac46e",
   "metadata": {},
   "outputs": [
    {
     "data": {
      "text/latex": [
       "$\\displaystyle \\left[\\begin{matrix}u\\\\v\\\\\\theta\\\\\\phi\\end{matrix}\\right]$"
      ],
      "text/plain": [
       "⎡u⎤\n",
       "⎢ ⎥\n",
       "⎢v⎥\n",
       "⎢ ⎥\n",
       "⎢θ⎥\n",
       "⎢ ⎥\n",
       "⎣φ⎦"
      ]
     },
     "execution_count": 7,
     "metadata": {},
     "output_type": "execute_result"
    }
   ],
   "source": [
    "variables = Matrix( [u,v,theta,phi] )\n",
    "variables"
   ]
  },
  {
   "cell_type": "code",
   "execution_count": 8,
   "id": "66938f3c",
   "metadata": {},
   "outputs": [
    {
     "data": {
      "text/latex": [
       "$\\displaystyle \\left[\\begin{matrix}du\\\\dv\\\\dtheta\\\\dphi\\end{matrix}\\right]$"
      ],
      "text/plain": [
       "⎡  du  ⎤\n",
       "⎢      ⎥\n",
       "⎢  dv  ⎥\n",
       "⎢      ⎥\n",
       "⎢dtheta⎥\n",
       "⎢      ⎥\n",
       "⎣ dphi ⎦"
      ]
     },
     "execution_count": 8,
     "metadata": {},
     "output_type": "execute_result"
    }
   ],
   "source": [
    "differentials = Matrix( [du,dv,dtheta,dphi] ) \n",
    "differentials"
   ]
  },
  {
   "cell_type": "code",
   "execution_count": 11,
   "id": "6db5ed15",
   "metadata": {},
   "outputs": [
    {
     "data": {
      "image/png": "[encoded data removed]",
      "text/latex": [
       "$\\displaystyle dphi^{2} r^{2}{\\left(u,v \\right)} \\sin^{2}{\\left(\\theta \\right)} + dtheta^{2} r^{2}{\\left(u,v \\right)} - du dv e^{\\sigma{\\left(u,v \\right)}}$"
      ],
      "text/plain": [
       "    2  2          2            2  2                σ(u, v)\n",
       "dphi ⋅r (u, v)⋅sin (θ) + dtheta ⋅r (u, v) - du⋅dv⋅ℯ       "
      ]
     },
     "execution_count": 11,
     "metadata": {},
     "output_type": "execute_result"
    }
   ],
   "source": [
    "lineElement = expand(- exp(sigma)*du*dv + r**2 * (dtheta**2 + sin(theta)**2 * dphi**2 )) \n",
    "lineElement"
   ]
  },
  {
   "cell_type": "code",
   "execution_count": 12,
   "id": "85a015ab",
   "metadata": {},
   "outputs": [
    {
     "data": {
      "text/latex": [
       "$\\displaystyle \\left[\\begin{matrix}0 & - \\frac{e^{\\sigma{\\left(u,v \\right)}}}{2} & 0 & 0\\\\- \\frac{e^{\\sigma{\\left(u,v \\right)}}}{2} & 0 & 0 & 0\\\\0 & 0 & r^{2}{\\left(u,v \\right)} & 0\\\\0 & 0 & 0 & r^{2}{\\left(u,v \\right)} \\sin^{2}{\\left(\\theta \\right)}\\end{matrix}\\right]$"
      ],
      "text/plain": [
       "⎡              σ(u, v)                             ⎤\n",
       "⎢            -ℯ                                    ⎥\n",
       "⎢    0       ──────────     0             0        ⎥\n",
       "⎢                2                                 ⎥\n",
       "⎢                                                  ⎥\n",
       "⎢  σ(u, v)                                         ⎥\n",
       "⎢-ℯ                                                ⎥\n",
       "⎢──────────      0          0             0        ⎥\n",
       "⎢    2                                             ⎥\n",
       "⎢                                                  ⎥\n",
       "⎢                         2                        ⎥\n",
       "⎢    0           0       r (u, v)         0        ⎥\n",
       "⎢                                                  ⎥\n",
       "⎢                                   2          2   ⎥\n",
       "⎣    0           0          0      r (u, v)⋅sin (θ)⎦"
      ]
     },
     "execution_count": 12,
     "metadata": {},
     "output_type": "execute_result"
    }
   ],
   "source": [
    "g = zeros(4)\n",
    "\n",
    "for i in range(4):\n",
    "    for j in range(4):\n",
    "        if i == j:\n",
    "            g[i,j] = lineElement.coeff( differentials[i],2 ) \n",
    "        else:\n",
    "            g[i,j] = Rational(1,2)*lineElement.coeff( differentials[i]*differentials[j],1 )\n",
    "            \n",
    "g"
   ]
  },
  {
   "cell_type": "code",
   "execution_count": 13,
   "id": "bf3a5611",
   "metadata": {},
   "outputs": [],
   "source": [
    "import sympy"
   ]
  },
  {
   "cell_type": "code",
   "execution_count": 14,
   "id": "48b5ec65",
   "metadata": {},
   "outputs": [
    {
     "data": {
      "text/latex": [
       "$\\displaystyle \\left[\\begin{matrix}0 & - \\frac{e^{\\sigma{\\left(u,v \\right)}}}{2} & 0 & 0\\\\- \\frac{e^{\\sigma{\\left(u,v \\right)}}}{2} & 0 & 0 & 0\\\\0 & 0 & r^{2}{\\left(u,v \\right)} & 0\\\\0 & 0 & 0 & r^{2}{\\left(u,v \\right)} \\sin^{2}{\\left(\\theta \\right)}\\end{matrix}\\right]$"
      ],
      "text/plain": [
       "⎡              σ(u, v)                             ⎤\n",
       "⎢            -ℯ                                    ⎥\n",
       "⎢    0       ──────────     0             0        ⎥\n",
       "⎢                2                                 ⎥\n",
       "⎢                                                  ⎥\n",
       "⎢  σ(u, v)                                         ⎥\n",
       "⎢-ℯ                                                ⎥\n",
       "⎢──────────      0          0             0        ⎥\n",
       "⎢    2                                             ⎥\n",
       "⎢                                                  ⎥\n",
       "⎢                         2                        ⎥\n",
       "⎢    0           0       r (u, v)         0        ⎥\n",
       "⎢                                                  ⎥\n",
       "⎢                                   2          2   ⎥\n",
       "⎣    0           0          0      r (u, v)⋅sin (θ)⎦"
      ]
     },
     "execution_count": 14,
     "metadata": {},
     "output_type": "execute_result"
    }
   ],
   "source": [
    "m = sympy.Array(g)\n",
    "m"
   ]
  },
  {
   "cell_type": "code",
   "execution_count": 15,
   "id": "cb77502f",
   "metadata": {},
   "outputs": [],
   "source": [
    "from einsteinpy.symbolic import *"
   ]
  },
  {
   "cell_type": "code",
   "execution_count": 16,
   "id": "a7ea4e0d",
   "metadata": {},
   "outputs": [],
   "source": [
    "syms = sympy.symbols(\"u v theta phi\")\n",
    "u,v,theta,phi = syms"
   ]
  },
  {
   "cell_type": "code",
   "execution_count": 17,
   "id": "00bc3a45",
   "metadata": {},
   "outputs": [],
   "source": [
    "metric = MetricTensor(m,syms)"
   ]
  },
  {
   "cell_type": "code",
   "execution_count": 18,
   "id": "d20fce2d",
   "metadata": {},
   "outputs": [
    {
     "data": {
      "text/latex": [
       "$\\displaystyle \\left[\\begin{matrix}\\left[\\begin{matrix}\\frac{\\partial}{\\partial u} \\sigma{\\left(u,v \\right)} & 0 & 0 & 0\\\\0 & 0 & 0 & 0\\\\0 & 0 & 2 r{\\left(u,v \\right)} e^{- \\sigma{\\left(u,v \\right)}} \\frac{\\partial}{\\partial v} r{\\left(u,v \\right)} & 0\\\\0 & 0 & 0 & 2 r{\\left(u,v \\right)} e^{- \\sigma{\\left(u,v \\right)}} \\sin^{2}{\\left(\\theta \\right)} \\frac{\\partial}{\\partial v} r{\\left(u,v \\right)}\\end{matrix}\\right] & \\left[\\begin{matrix}0 & 0 & 0 & 0\\\\0 & \\frac{\\partial}{\\partial v} \\sigma{\\left(u,v \\right)} & 0 & 0\\\\0 & 0 & 2 r{\\left(u,v \\right)} e^{- \\sigma{\\left(u,v \\right)}} \\frac{\\partial}{\\partial u} r{\\left(u,v \\right)} & 0\\\\0 & 0 & 0 & 2 r{\\left(u,v \\right)} e^{- \\sigma{\\left(u,v \\right)}} \\sin^{2}{\\left(\\theta \\right)} \\frac{\\partial}{\\partial u} r{\\left(u,v \\right)}\\end{matrix}\\right] & \\left[\\begin{matrix}0 & 0 & \\frac{\\frac{\\partial}{\\partial u} r{\\left(u,v \\right)}}{r{\\left(u,v \\right)}} & 0\\\\0 & 0 & \\frac{\\frac{\\partial}{\\partial v} r{\\left(u,v \\right)}}{r{\\left(u,v \\right)}} & 0\\\\\\frac{\\frac{\\partial}{\\partial u} r{\\left(u,v \\right)}}{r{\\left(u,v \\right)}} & \\frac{\\frac{\\partial}{\\partial v} r{\\left(u,v \\right)}}{r{\\left(u,v \\right)}} & 0 & 0\\\\0 & 0 & 0 & - \\frac{\\sin{\\left(2 \\theta \\right)}}{2}\\end{matrix}\\right] & \\left[\\begin{matrix}0 & 0 & 0 & \\frac{\\frac{\\partial}{\\partial u} r{\\left(u,v \\right)}}{r{\\left(u,v \\right)}}\\\\0 & 0 & 0 & \\frac{\\frac{\\partial}{\\partial v} r{\\left(u,v \\right)}}{r{\\left(u,v \\right)}}\\\\0 & 0 & 0 & \\frac{1}{\\tan{\\left(\\theta \\right)}}\\\\\\frac{\\frac{\\partial}{\\partial u} r{\\left(u,v \\right)}}{r{\\left(u,v \\right)}} & \\frac{\\frac{\\partial}{\\partial v} r{\\left(u,v \\right)}}{r{\\left(u,v \\right)}} & \\frac{1}{\\tan{\\left(\\theta \\right)}} & 0\\end{matrix}\\right]\\end{matrix}\\right]$"
      ],
      "text/plain": [
       "⎡                                                                                                                                        \n",
       "⎢                                                                                                                                        \n",
       "⎢                                                                                                                                        \n",
       "⎢                                                                                                                                        \n",
       "⎢⎡∂                                                                                       ⎤  ⎡0       0                      0           \n",
       "⎢⎢──(σ(u, v))  0                 0                                    0                   ⎥  ⎢                                           \n",
       "⎢⎢∂u                                                                                      ⎥  ⎢   ∂                                       \n",
       "⎢⎢                                                                                        ⎥  ⎢0  ──(σ(u, v))                 0           \n",
       "⎢⎢     0       0                 0                                    0                   ⎥  ⎢   ∂v                                      \n",
       "⎢⎢                                                                                        ⎥  ⎢                                           \n",
       "⎢⎢                           -σ(u, v) ∂                                                   ⎥  ⎢                           -σ(u, v) ∂      \n",
       "⎢⎢     0       0  2⋅r(u, v)⋅ℯ        ⋅──(r(u, v))                     0                   ⎥  ⎢0       0       2⋅r(u, v)⋅ℯ        ⋅──(r(u,\n",
       "⎢⎢                                    ∂v                                                  ⎥  ⎢                                    ∂u     \n",
       "⎢⎢                                                                                        ⎥  ⎢                                           \n",
       "⎢⎢                                                            -σ(u, v)    2    ∂          ⎥  ⎢                                           \n",
       "⎢⎢     0       0                 0                 2⋅r(u, v)⋅ℯ        ⋅sin (θ)⋅──(r(u, v))⎥  ⎢0       0                      0           \n",
       "⎢⎣                                                                             ∂v         ⎦  ⎣                                           \n",
       "⎢                                                                                                                                        \n",
       "⎢                                                                                                                                        \n",
       "⎢                                                                                                                                        \n",
       "⎣                                                                                                                                        \n",
       "\n",
       "                                                ⎡                          ∂                      ⎤  ⎡                                  ∂\n",
       "                                                ⎢                          ──(r(u, v))            ⎥  ⎢                                  ─\n",
       "                                                ⎢                          ∂u                     ⎥  ⎢                                  ∂\n",
       "                                                ⎢     0            0       ───────────      0     ⎥  ⎢     0            0         0     ─\n",
       "                         0                   ⎤  ⎢                            r(u, v)              ⎥  ⎢                                   \n",
       "                                             ⎥  ⎢                                                 ⎥  ⎢                                   \n",
       "                                             ⎥  ⎢                          ∂                      ⎥  ⎢                                  ∂\n",
       "                         0                   ⎥  ⎢                          ──(r(u, v))            ⎥  ⎢                                  ─\n",
       "                                             ⎥  ⎢                          ∂v                     ⎥  ⎢                                  ∂\n",
       "                                             ⎥  ⎢     0            0       ───────────      0     ⎥  ⎢     0            0         0     ─\n",
       "                                             ⎥  ⎢                            r(u, v)              ⎥  ⎢                                   \n",
       " v))                     0                   ⎥  ⎢                                                 ⎥  ⎢                                   \n",
       "                                             ⎥  ⎢∂            ∂                                   ⎥  ⎢                                   \n",
       "                                             ⎥  ⎢──(r(u, v))  ──(r(u, v))                         ⎥  ⎢     0            0         0      \n",
       "                 -σ(u, v)    2    ∂          ⎥  ⎢∂u           ∂v                                  ⎥  ⎢                                   \n",
       "      2⋅r(u, v)⋅ℯ        ⋅sin (θ)⋅──(r(u, v))⎥  ⎢───────────  ───────────       0           0     ⎥  ⎢                                   \n",
       "                                  ∂u         ⎦  ⎢  r(u, v)      r(u, v)                           ⎥  ⎢∂            ∂                     \n",
       "                                                ⎢                                                 ⎥  ⎢──(r(u, v))  ──(r(u, v))           \n",
       "                                                ⎢                                       -sin(2⋅θ) ⎥  ⎢∂u           ∂v             1      \n",
       "                                                ⎢     0            0            0       ──────────⎥  ⎢───────────  ───────────  ──────   \n",
       "                                                ⎣                                           2     ⎦  ⎣  r(u, v)      r(u, v)    tan(θ)   \n",
       "\n",
       "          ⎤⎤\n",
       "─(r(u, v))⎥⎥\n",
       "u         ⎥⎥\n",
       "──────────⎥⎥\n",
       " r(u, v)  ⎥⎥\n",
       "          ⎥⎥\n",
       "          ⎥⎥\n",
       "─(r(u, v))⎥⎥\n",
       "v         ⎥⎥\n",
       "──────────⎥⎥\n",
       " r(u, v)  ⎥⎥\n",
       "          ⎥⎥\n",
       "   1      ⎥⎥\n",
       " ──────   ⎥⎥\n",
       " tan(θ)   ⎥⎥\n",
       "          ⎥⎥\n",
       "          ⎥⎥\n",
       "          ⎥⎥\n",
       "          ⎥⎥\n",
       "    0     ⎥⎥\n",
       "          ⎦⎦"
      ]
     },
     "execution_count": 18,
     "metadata": {},
     "output_type": "execute_result"
    }
   ],
   "source": [
    "ch = ChristoffelSymbols.from_metric(metric)\n",
    "simplify(ch.tensor())"
   ]
  },
  {
   "cell_type": "code",
   "execution_count": 19,
   "id": "e63a6bb9",
   "metadata": {
    "scrolled": true
   },
   "outputs": [
    {
     "data": {
      "text/latex": [
       "$\\displaystyle \\left[\\begin{matrix}\\frac{2 \\left(\\frac{\\partial}{\\partial u} r{\\left(u,v \\right)} \\frac{\\partial}{\\partial u} \\sigma{\\left(u,v \\right)} - \\frac{\\partial^{2}}{\\partial u^{2}} r{\\left(u,v \\right)}\\right)}{r{\\left(u,v \\right)}} & - \\frac{\\partial^{2}}{\\partial v\\partial u} \\sigma{\\left(u,v \\right)} - \\frac{2 \\frac{\\partial^{2}}{\\partial v\\partial u} r{\\left(u,v \\right)}}{r{\\left(u,v \\right)}} & 0 & 0\\\\- \\frac{\\partial^{2}}{\\partial v\\partial u} \\sigma{\\left(u,v \\right)} - \\frac{2 \\frac{\\partial^{2}}{\\partial v\\partial u} r{\\left(u,v \\right)}}{r{\\left(u,v \\right)}} & \\frac{2 \\left(\\frac{\\partial}{\\partial v} r{\\left(u,v \\right)} \\frac{\\partial}{\\partial v} \\sigma{\\left(u,v \\right)} - \\frac{\\partial^{2}}{\\partial v^{2}} r{\\left(u,v \\right)}\\right)}{r{\\left(u,v \\right)}} & 0 & 0\\\\0 & 0 & \\left(4 r{\\left(u,v \\right)} \\frac{\\partial^{2}}{\\partial v\\partial u} r{\\left(u,v \\right)} + e^{\\sigma{\\left(u,v \\right)}} + 4 \\frac{\\partial}{\\partial u} r{\\left(u,v \\right)} \\frac{\\partial}{\\partial v} r{\\left(u,v \\right)}\\right) e^{- \\sigma{\\left(u,v \\right)}} & 0\\\\0 & 0 & 0 & \\left(4 r{\\left(u,v \\right)} \\frac{\\partial^{2}}{\\partial v\\partial u} r{\\left(u,v \\right)} + e^{\\sigma{\\left(u,v \\right)}} + 4 \\frac{\\partial}{\\partial u} r{\\left(u,v \\right)} \\frac{\\partial}{\\partial v} r{\\left(u,v \\right)}\\right) e^{- \\sigma{\\left(u,v \\right)}} \\sin^{2}{\\left(\\theta \\right)}\\end{matrix}\\right]$"
      ],
      "text/plain": [
       "⎡  ⎛                            2         ⎞                                                                                              \n",
       "⎢  ⎜∂           ∂              ∂          ⎟                             2                                                                \n",
       "⎢2⋅⎜──(r(u, v))⋅──(σ(u, v)) - ───(r(u, v))⎟                            ∂                                                                 \n",
       "⎢  ⎜∂u          ∂u              2         ⎟          2             2⋅─────(r(u, v))                                                      \n",
       "⎢  ⎝                          ∂u          ⎠         ∂                ∂v ∂u                                                               \n",
       "⎢──────────────────────────────────────────     - ─────(σ(u, v)) - ────────────────                                           0          \n",
       "⎢                 r(u, v)                         ∂v ∂u                r(u, v)                                                           \n",
       "⎢                                                                                                                                        \n",
       "⎢                                              ⎛                            2         ⎞                                                  \n",
       "⎢                           2                  ⎜∂           ∂              ∂          ⎟                                                  \n",
       "⎢                          ∂                 2⋅⎜──(r(u, v))⋅──(σ(u, v)) - ───(r(u, v))⎟                                                  \n",
       "⎢        2             2⋅─────(r(u, v))        ⎜∂v          ∂v              2         ⎟                                                  \n",
       "⎢       ∂                ∂v ∂u                 ⎝                          ∂v          ⎠                                                  \n",
       "⎢   - ─────(σ(u, v)) - ────────────────      ──────────────────────────────────────────                                       0          \n",
       "⎢     ∂v ∂u                r(u, v)                            r(u, v)                                                                    \n",
       "⎢                                                                                                                                        \n",
       "⎢                                                                                        ⎛             2                                 \n",
       "⎢                                                                                        ⎜            ∂               σ(u, v)     ∂      \n",
       "⎢                    0                                           0                       ⎜4⋅r(u, v)⋅─────(r(u, v)) + ℯ        + 4⋅──(r(u,\n",
       "⎢                                                                                        ⎝          ∂v ∂u                         ∂u     \n",
       "⎢                                                                                                                                        \n",
       "⎢                                                                                                                                        \n",
       "⎢                                                                                                                                        \n",
       "⎢                    0                                           0                                                            0          \n",
       "⎣                                                                                                                                        \n",
       "\n",
       "                                                                                                                ⎤\n",
       "                                                                                                                ⎥\n",
       "                                                                                                                ⎥\n",
       "                                                                                                                ⎥\n",
       "                                                                                                                ⎥\n",
       "                                                                      0                                         ⎥\n",
       "                                                                                                                ⎥\n",
       "                                                                                                                ⎥\n",
       "                                                                                                                ⎥\n",
       "                                                                                                                ⎥\n",
       "                                                                                                                ⎥\n",
       "                                                                                                                ⎥\n",
       "                                                                                                                ⎥\n",
       "                                                                      0                                         ⎥\n",
       "                                                                                                                ⎥\n",
       "                                                                                                                ⎥\n",
       "                ⎞                                                                                               ⎥\n",
       "     ∂          ⎟  -σ(u, v)                                                                                     ⎥\n",
       " v))⋅──(r(u, v))⎟⋅ℯ                                                   0                                         ⎥\n",
       "     ∂v         ⎠                                                                                               ⎥\n",
       "                                                                                                                ⎥\n",
       "                             ⎛             2                                                 ⎞                  ⎥\n",
       "                             ⎜            ∂               σ(u, v)     ∂           ∂          ⎟  -σ(u, v)    2   ⎥\n",
       "                             ⎜4⋅r(u, v)⋅─────(r(u, v)) + ℯ        + 4⋅──(r(u, v))⋅──(r(u, v))⎟⋅ℯ        ⋅sin (θ)⎥\n",
       "                             ⎝          ∂v ∂u                         ∂u          ∂v         ⎠                  ⎦"
      ]
     },
     "execution_count": 19,
     "metadata": {},
     "output_type": "execute_result"
    }
   ],
   "source": [
    "Ric = RicciTensor.from_metric(metric)\n",
    "Ric.tensor()"
   ]
  },
  {
   "cell_type": "code",
   "execution_count": 21,
   "id": "21999bef",
   "metadata": {},
   "outputs": [
    {
     "data": {
      "image/png": "[encoded data removed]",
      "text/latex": [
       "$\\displaystyle \\frac{2 \\left(2 r^{2}{\\left(u,v \\right)} \\frac{\\partial^{2}}{\\partial v\\partial u} \\sigma{\\left(u,v \\right)} + 8 r{\\left(u,v \\right)} \\frac{\\partial^{2}}{\\partial v\\partial u} r{\\left(u,v \\right)} + e^{\\sigma{\\left(u,v \\right)}} + 4 \\frac{\\partial}{\\partial u} r{\\left(u,v \\right)} \\frac{\\partial}{\\partial v} r{\\left(u,v \\right)}\\right) e^{- \\sigma{\\left(u,v \\right)}}}{r^{2}{\\left(u,v \\right)}}$"
      ],
      "text/plain": [
       "  ⎛              2                          2                                                 ⎞          \n",
       "  ⎜   2         ∂                          ∂               σ(u, v)     ∂           ∂          ⎟  -σ(u, v)\n",
       "2⋅⎜2⋅r (u, v)⋅─────(σ(u, v)) + 8⋅r(u, v)⋅─────(r(u, v)) + ℯ        + 4⋅──(r(u, v))⋅──(r(u, v))⎟⋅ℯ        \n",
       "  ⎝           ∂v ∂u                      ∂v ∂u                         ∂u          ∂v         ⎠          \n",
       "─────────────────────────────────────────────────────────────────────────────────────────────────────────\n",
       "                                                  2                                                      \n",
       "                                                 r (u, v)                                                "
      ]
     },
     "execution_count": 21,
     "metadata": {},
     "output_type": "execute_result"
    }
   ],
   "source": [
    "R = RicciScalar.from_riccitensor(Ric)\n",
    "R.simplify()\n",
    "R.expr"
   ]
  },
  {
   "cell_type": "code",
   "execution_count": 20,
   "id": "f67e8e43",
   "metadata": {},
   "outputs": [
    {
     "data": {
      "text/latex": [
       "$\\displaystyle \\left[\\begin{matrix}\\frac{2 \\left(\\frac{\\partial}{\\partial u} r{\\left(u,v \\right)} \\frac{\\partial}{\\partial u} \\sigma{\\left(u,v \\right)} - \\frac{\\partial^{2}}{\\partial u^{2}} r{\\left(u,v \\right)}\\right)}{r{\\left(u,v \\right)}} & \\frac{2.0 r{\\left(u,v \\right)} \\frac{\\partial^{2}}{\\partial v\\partial u} r{\\left(u,v \\right)} + 0.5 e^{\\sigma{\\left(u,v \\right)}} + 2.0 \\frac{\\partial}{\\partial u} r{\\left(u,v \\right)} \\frac{\\partial}{\\partial v} r{\\left(u,v \\right)}}{r^{2}{\\left(u,v \\right)}} & 0 & 0\\\\\\frac{2.0 r{\\left(u,v \\right)} \\frac{\\partial^{2}}{\\partial v\\partial u} r{\\left(u,v \\right)} + 0.5 e^{\\sigma{\\left(u,v \\right)}} + 2.0 \\frac{\\partial}{\\partial u} r{\\left(u,v \\right)} \\frac{\\partial}{\\partial v} r{\\left(u,v \\right)}}{r^{2}{\\left(u,v \\right)}} & \\frac{2 \\left(\\frac{\\partial}{\\partial v} r{\\left(u,v \\right)} \\frac{\\partial}{\\partial v} \\sigma{\\left(u,v \\right)} - \\frac{\\partial^{2}}{\\partial v^{2}} r{\\left(u,v \\right)}\\right)}{r{\\left(u,v \\right)}} & 0 & 0\\\\0 & 0 & - \\left(2.0 r{\\left(u,v \\right)} \\frac{\\partial^{2}}{\\partial v\\partial u} \\sigma{\\left(u,v \\right)} + 4.0 \\frac{\\partial^{2}}{\\partial v\\partial u} r{\\left(u,v \\right)}\\right) r{\\left(u,v \\right)} e^{- \\sigma{\\left(u,v \\right)}} & 0\\\\0 & 0 & 0 & - \\left(2.0 r{\\left(u,v \\right)} \\frac{\\partial^{2}}{\\partial v\\partial u} \\sigma{\\left(u,v \\right)} + 4.0 \\frac{\\partial^{2}}{\\partial v\\partial u} r{\\left(u,v \\right)}\\right) r{\\left(u,v \\right)} e^{- \\sigma{\\left(u,v \\right)}} \\sin^{2}{\\left(\\theta \\right)}\\end{matrix}\\right]$"
      ],
      "text/plain": [
       "⎡                ⎛                            2         ⎞                                                                                \n",
       "⎢                ⎜∂           ∂              ∂          ⎟                                2                                               \n",
       "⎢              2⋅⎜──(r(u, v))⋅──(σ(u, v)) - ───(r(u, v))⎟                               ∂                   σ(u, v)       ∂           ∂  \n",
       "⎢                ⎜∂u          ∂u              2         ⎟                 2.0⋅r(u, v)⋅─────(r(u, v)) + 0.5⋅ℯ        + 2.0⋅──(r(u, v))⋅──(\n",
       "⎢                ⎝                          ∂u          ⎠                             ∂v ∂u                               ∂u          ∂v \n",
       "⎢              ──────────────────────────────────────────                 ───────────────────────────────────────────────────────────────\n",
       "⎢                               r(u, v)                                                                    2                             \n",
       "⎢                                                                                                         r (u, v)                       \n",
       "⎢                                                                                                                                        \n",
       "⎢                                                                                         ⎛                            2         ⎞       \n",
       "⎢               2                                                                         ⎜∂           ∂              ∂          ⎟       \n",
       "⎢              ∂                   σ(u, v)       ∂           ∂                          2⋅⎜──(r(u, v))⋅──(σ(u, v)) - ───(r(u, v))⎟       \n",
       "⎢2.0⋅r(u, v)⋅─────(r(u, v)) + 0.5⋅ℯ        + 2.0⋅──(r(u, v))⋅──(r(u, v))                  ⎜∂v          ∂v              2         ⎟       \n",
       "⎢            ∂v ∂u                               ∂u          ∂v                           ⎝                          ∂v          ⎠       \n",
       "⎢───────────────────────────────────────────────────────────────────────                ──────────────────────────────────────────       \n",
       "⎢                                 2                                                                      r(u, v)                         \n",
       "⎢                                r (u, v)                                                                                                \n",
       "⎢                                                                                                                                        \n",
       "⎢                                                                                                                                        \n",
       "⎢                                                                                                                                        \n",
       "⎢                                   0                                                                        0                           \n",
       "⎢                                                                                                                                        \n",
       "⎢                                                                                                                                        \n",
       "⎢                                                                                                                                        \n",
       "⎢                                                                                                                                        \n",
       "⎢                                   0                                                                        0                           \n",
       "⎣                                                                                                                                        \n",
       "\n",
       "                                                                                                                                         \n",
       "                                                                                                                                         \n",
       "                                                                                                                                         \n",
       "r(u, v))                                                                                                                                 \n",
       "                                                                                                                                         \n",
       "────────                                   0                                                                         0                   \n",
       "                                                                                                                                         \n",
       "                                                                                                                                         \n",
       "                                                                                                                                         \n",
       "                                                                                                                                         \n",
       "                                                                                                                                         \n",
       "                                                                                                                                         \n",
       "                                                                                                                                         \n",
       "                                                                                                                                         \n",
       "                                           0                                                                         0                   \n",
       "                                                                                                                                         \n",
       "                                                                                                                                         \n",
       "                                                                                                                                         \n",
       "           ⎛               2                    2          ⎞                                                                             \n",
       "           ⎜              ∂                    ∂           ⎟          -σ(u, v)                                                           \n",
       "          -⎜2.0⋅r(u, v)⋅─────(σ(u, v)) + 4.0⋅─────(r(u, v))⎟⋅r(u, v)⋅ℯ                                               0                   \n",
       "           ⎝            ∂v ∂u                ∂v ∂u         ⎠                                                                             \n",
       "                                                                                                                                         \n",
       "                                                                                 ⎛               2                    2          ⎞       \n",
       "                                                                                 ⎜              ∂                    ∂           ⎟       \n",
       "                                           0                                    -⎜2.0⋅r(u, v)⋅─────(σ(u, v)) + 4.0⋅─────(r(u, v))⎟⋅r(u, v\n",
       "                                                                                 ⎝            ∂v ∂u                ∂v ∂u         ⎠       \n",
       "\n",
       "                   ⎤\n",
       "                   ⎥\n",
       "                   ⎥\n",
       "                   ⎥\n",
       "                   ⎥\n",
       "                   ⎥\n",
       "                   ⎥\n",
       "                   ⎥\n",
       "                   ⎥\n",
       "                   ⎥\n",
       "                   ⎥\n",
       "                   ⎥\n",
       "                   ⎥\n",
       "                   ⎥\n",
       "                   ⎥\n",
       "                   ⎥\n",
       "                   ⎥\n",
       "                   ⎥\n",
       "                   ⎥\n",
       "                   ⎥\n",
       "                   ⎥\n",
       "                   ⎥\n",
       "                   ⎥\n",
       "                   ⎥\n",
       "   -σ(u, v)    2   ⎥\n",
       ")⋅ℯ        ⋅sin (θ)⎥\n",
       "                   ⎦"
      ]
     },
     "execution_count": 20,
     "metadata": {},
     "output_type": "execute_result"
    }
   ],
   "source": [
    "einst = EinsteinTensor.from_metric(metric)\n",
    "simplify(einst.tensor())"
   ]
  },
  {
   "cell_type": "code",
   "execution_count": 22,
   "id": "828c6f33",
   "metadata": {},
   "outputs": [],
   "source": [
    "#  rm1 = RiemannCurvatureTensor.from_christoffels(ch)\n",
    "#  rm1.tensor()"
   ]
  },
  {
   "cell_type": "code",
   "execution_count": 23,
   "id": "72089001",
   "metadata": {},
   "outputs": [],
   "source": [
    "#  weyl = WeylTensor.from_metric(metric)\n",
    "#  weyl.tensor()"
   ]
  },
  {
   "cell_type": "code",
   "execution_count": 36,
   "id": "1bb358ca",
   "metadata": {},
   "outputs": [
    {
     "data": {
      "image/png": "[encoded data removed]",
      "text/latex": [
       "$\\displaystyle 1.0 r{\\left(u,v \\right)} \\frac{\\partial^{2}}{\\partial v\\partial u} r{\\left(u,v \\right)} + 0.25 e^{\\sigma{\\left(u,v \\right)}} + 1.0 \\frac{\\partial}{\\partial u} r{\\left(u,v \\right)} \\frac{\\partial}{\\partial v} r{\\left(u,v \\right)}$"
      ],
      "text/plain": [
       "               2                                                        \n",
       "              ∂                    σ(u, v)       ∂           ∂          \n",
       "1.0⋅r(u, v)⋅─────(r(u, v)) + 0.25⋅ℯ        + 1.0⋅──(r(u, v))⋅──(r(u, v))\n",
       "            ∂v ∂u                                ∂u          ∂v         "
      ]
     },
     "execution_count": 36,
     "metadata": {},
     "output_type": "execute_result"
    }
   ],
   "source": [
    "equation3 = (1/2)*simplify(einst.tensor())[1,0].args[1]\n",
    "equation3"
   ]
  },
  {
   "cell_type": "code",
   "execution_count": 40,
   "id": "8eba9623",
   "metadata": {},
   "outputs": [
    {
     "data": {
      "image/png": "[encoded data removed]",
      "text/latex": [
       "$\\displaystyle 2.0 r{\\left(u,v \\right)} \\frac{\\partial^{2}}{\\partial v\\partial u} \\sigma{\\left(u,v \\right)} + 4.0 \\frac{\\partial^{2}}{\\partial v\\partial u} r{\\left(u,v \\right)}$"
      ],
      "text/plain": [
       "               2                    2          \n",
       "              ∂                    ∂           \n",
       "2.0⋅r(u, v)⋅─────(σ(u, v)) + 4.0⋅─────(r(u, v))\n",
       "            ∂v ∂u                ∂v ∂u         "
      ]
     },
     "execution_count": 40,
     "metadata": {},
     "output_type": "execute_result"
    }
   ],
   "source": [
    "equation4 = simplify(einst.tensor())[3,3].args[2]\n",
    "equation4"
   ]
  },
  {
   "cell_type": "code",
   "execution_count": 30,
   "id": "680ee22e",
   "metadata": {},
   "outputs": [
    {
     "data": {
      "image/png": "[encoded data removed]",
      "text/latex": [
       "$\\displaystyle - \\frac{\\partial}{\\partial u} r{\\left(u,v \\right)} \\frac{\\partial}{\\partial u} \\sigma{\\left(u,v \\right)} + \\frac{\\partial^{2}}{\\partial u^{2}} r{\\left(u,v \\right)}$"
      ],
      "text/plain": [
       "                              2         \n",
       "  ∂           ∂              ∂          \n",
       "- ──(r(u, v))⋅──(σ(u, v)) + ───(r(u, v))\n",
       "  ∂u          ∂u              2         \n",
       "                            ∂u          "
      ]
     },
     "execution_count": 30,
     "metadata": {},
     "output_type": "execute_result"
    }
   ],
   "source": [
    "equation5 = (-1)*simplify(einst.tensor())[0,0].args[2]\n",
    "equation5"
   ]
  },
  {
   "cell_type": "code",
   "execution_count": 31,
   "id": "0c8a5225",
   "metadata": {},
   "outputs": [
    {
     "data": {
      "image/png": "[encoded data removed]",
      "text/latex": [
       "$\\displaystyle - \\frac{\\partial}{\\partial v} r{\\left(u,v \\right)} \\frac{\\partial}{\\partial v} \\sigma{\\left(u,v \\right)} + \\frac{\\partial^{2}}{\\partial v^{2}} r{\\left(u,v \\right)}$"
      ],
      "text/plain": [
       "                              2         \n",
       "  ∂           ∂              ∂          \n",
       "- ──(r(u, v))⋅──(σ(u, v)) + ───(r(u, v))\n",
       "  ∂v          ∂v              2         \n",
       "                            ∂v          "
      ]
     },
     "execution_count": 31,
     "metadata": {},
     "output_type": "execute_result"
    }
   ],
   "source": [
    "equation6 = (-1)*simplify(einst.tensor())[1,1].args[2]\n",
    "equation6"
   ]
  },
  {
   "cell_type": "code",
   "execution_count": 41,
   "id": "008be3f1",
   "metadata": {},
   "outputs": [
    {
     "data": {
      "text/latex": [
       "$\\displaystyle \\left[\\begin{matrix}1.0 r{\\left(u,v \\right)} \\frac{\\partial^{2}}{\\partial v\\partial u} r{\\left(u,v \\right)} + 0.25 e^{\\sigma{\\left(u,v \\right)}} + 1.0 \\frac{\\partial}{\\partial u} r{\\left(u,v \\right)} \\frac{\\partial}{\\partial v} r{\\left(u,v \\right)}\\\\2.0 r{\\left(u,v \\right)} \\frac{\\partial^{2}}{\\partial v\\partial u} \\sigma{\\left(u,v \\right)} + 4.0 \\frac{\\partial^{2}}{\\partial v\\partial u} r{\\left(u,v \\right)}\\\\- \\frac{\\partial}{\\partial u} r{\\left(u,v \\right)} \\frac{\\partial}{\\partial u} \\sigma{\\left(u,v \\right)} + \\frac{\\partial^{2}}{\\partial u^{2}} r{\\left(u,v \\right)}\\\\- \\frac{\\partial}{\\partial v} r{\\left(u,v \\right)} \\frac{\\partial}{\\partial v} \\sigma{\\left(u,v \\right)} + \\frac{\\partial^{2}}{\\partial v^{2}} r{\\left(u,v \\right)}\\end{matrix}\\right]$"
      ],
      "text/plain": [
       "⎡               2                                                        ⎤\n",
       "⎢              ∂                    σ(u, v)       ∂           ∂          ⎥\n",
       "⎢1.0⋅r(u, v)⋅─────(r(u, v)) + 0.25⋅ℯ        + 1.0⋅──(r(u, v))⋅──(r(u, v))⎥\n",
       "⎢            ∂v ∂u                                ∂u          ∂v         ⎥\n",
       "⎢                                                                        ⎥\n",
       "⎢                           2                    2                       ⎥\n",
       "⎢                          ∂                    ∂                        ⎥\n",
       "⎢            2.0⋅r(u, v)⋅─────(σ(u, v)) + 4.0⋅─────(r(u, v))             ⎥\n",
       "⎢                        ∂v ∂u                ∂v ∂u                      ⎥\n",
       "⎢                                                                        ⎥\n",
       "⎢                                              2                         ⎥\n",
       "⎢                  ∂           ∂              ∂                          ⎥\n",
       "⎢                - ──(r(u, v))⋅──(σ(u, v)) + ───(r(u, v))                ⎥\n",
       "⎢                  ∂u          ∂u              2                         ⎥\n",
       "⎢                                            ∂u                          ⎥\n",
       "⎢                                                                        ⎥\n",
       "⎢                                              2                         ⎥\n",
       "⎢                  ∂           ∂              ∂                          ⎥\n",
       "⎢                - ──(r(u, v))⋅──(σ(u, v)) + ───(r(u, v))                ⎥\n",
       "⎢                  ∂v          ∂v              2                         ⎥\n",
       "⎣                                            ∂v                          ⎦"
      ]
     },
     "execution_count": 41,
     "metadata": {},
     "output_type": "execute_result"
    }
   ],
   "source": [
    "vacuumFieldEquations = Matrix([equation3,equation4,equation5,equation6])\n",
    "vacuumFieldEquations"
   ]
  },
  {
   "cell_type": "code",
   "execution_count": null,
   "id": "f64ac3cb",
   "metadata": {},
   "outputs": [],
   "source": []
  }
 ],
 "metadata": {
  "@webio": {
   "lastCommId": "a99d5690d35246aea26c47fd9e2d622c",
   "lastKernelId": "ee0254b9-7fc0-4081-9df7-123eec245da3"
  },
  "kernelspec": {
   "display_name": "Python 3 (ipykernel)",
   "language": "python",
   "name": "python3"
  },
  "language_info": {
   "codemirror_mode": {
    "name": "ipython",
    "version": 3
   },
   "file_extension": ".py",
   "mimetype": "text/x-python",
   "name": "python",
   "nbconvert_exporter": "python",
   "pygments_lexer": "ipython3",
   "version": "3.8.8"
  }
 },
 "nbformat": 4,
 "nbformat_minor": 5
}
