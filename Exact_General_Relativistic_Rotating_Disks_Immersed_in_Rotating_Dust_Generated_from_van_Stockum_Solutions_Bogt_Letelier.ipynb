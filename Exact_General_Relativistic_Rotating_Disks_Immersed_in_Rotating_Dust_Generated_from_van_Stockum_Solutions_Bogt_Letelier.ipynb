{
 "cells": [
  {
   "cell_type": "markdown",
   "id": "a044af50",
   "metadata": {},
   "source": [
    "# Exact General Relativistic Rotating Disks Immersed in Rotating Dust Generated from van Stockum Solutions  by Bogt and Letelier\n",
    "##  Geoff Cope\n",
    "##  Univeristy of Utah\n",
    "##  𐐏𐐭𐑌𐐲𐑂𐐲𐑉𐑅𐐮𐐻𐐨 𐐲𐑂 𐐏𐐭𐐻𐐫\n",
    "##  January 22, 2022"
   ]
  },
  {
   "cell_type": "markdown",
   "id": "1464fa93",
   "metadata": {},
   "source": [
    "Here we concentrate of metric 1"
   ]
  },
  {
   "cell_type": "markdown",
   "id": "4618ebcd",
   "metadata": {},
   "source": [
    "https://arxiv.org/abs/1304.2964"
   ]
  },
  {
   "cell_type": "code",
   "execution_count": 1,
   "id": "58310dbe",
   "metadata": {},
   "outputs": [
    {
     "name": "stdout",
     "output_type": "stream",
     "text": [
      "IPython console for SymPy 1.9 (Python 3.8.8-64-bit) (ground types: gmpy)\n",
      "\n",
      "These commands were executed:\n",
      ">>> from __future__ import division\n",
      ">>> from sympy import *\n",
      ">>> x, y, z, t = symbols('x y z t')\n",
      ">>> k, m, n = symbols('k m n', integer=True)\n",
      ">>> f, g, h = symbols('f g h', cls=Function)\n",
      ">>> init_printing()\n",
      "\n",
      "Documentation can be found at https://docs.sympy.org/1.9/\n",
      "\n"
     ]
    }
   ],
   "source": [
    "from sympy import init_session\n",
    "init_session(use_latex=True)"
   ]
  },
  {
   "cell_type": "code",
   "execution_count": 2,
   "id": "b5019f99",
   "metadata": {},
   "outputs": [],
   "source": [
    "t,r,phi,z,dt,dr,dphi,dz = symbols('t r phi z dt dr dphi dz')"
   ]
  },
  {
   "cell_type": "code",
   "execution_count": 4,
   "id": "6f4981ec",
   "metadata": {},
   "outputs": [
    {
     "data": {
      "image/png": "[encoded data removed]",
      "text/latex": [
       "$\\displaystyle N{\\left(r,z \\right)}$"
      ],
      "text/plain": [
       "N(r, z)"
      ]
     },
     "execution_count": 4,
     "metadata": {},
     "output_type": "execute_result"
    }
   ],
   "source": [
    "n = Function('N')(r,z)\n",
    "n"
   ]
  },
  {
   "cell_type": "code",
   "execution_count": 5,
   "id": "40ce56cb",
   "metadata": {},
   "outputs": [
    {
     "data": {
      "image/png": "[encoded data removed]",
      "text/latex": [
       "$\\displaystyle \\nu{\\left(r,z \\right)}$"
      ],
      "text/plain": [
       "ν(r, z)"
      ]
     },
     "execution_count": 5,
     "metadata": {},
     "output_type": "execute_result"
    }
   ],
   "source": [
    "nu = Function('nu')(r,z)\n",
    "nu"
   ]
  },
  {
   "cell_type": "code",
   "execution_count": 62,
   "id": "4f6b8162",
   "metadata": {},
   "outputs": [
    {
     "data": {
      "image/png": "[encoded data removed]",
      "text/latex": [
       "$\\displaystyle \\Phi{\\left(r,z \\right)}$"
      ],
      "text/plain": [
       "Φ(r, z)"
      ]
     },
     "execution_count": 62,
     "metadata": {},
     "output_type": "execute_result"
    }
   ],
   "source": [
    "Phi = Function('Phi')(r,z)\n",
    "Phi"
   ]
  },
  {
   "cell_type": "code",
   "execution_count": 6,
   "id": "762b348b",
   "metadata": {},
   "outputs": [
    {
     "data": {
      "text/latex": [
       "$\\displaystyle \\left[\\begin{matrix}t\\\\r\\\\\\phi\\\\z\\end{matrix}\\right]$"
      ],
      "text/plain": [
       "⎡t⎤\n",
       "⎢ ⎥\n",
       "⎢r⎥\n",
       "⎢ ⎥\n",
       "⎢φ⎥\n",
       "⎢ ⎥\n",
       "⎣z⎦"
      ]
     },
     "execution_count": 6,
     "metadata": {},
     "output_type": "execute_result"
    }
   ],
   "source": [
    "variables = Matrix([t,r,phi,z])\n",
    "variables"
   ]
  },
  {
   "cell_type": "code",
   "execution_count": 7,
   "id": "6777cb2c",
   "metadata": {},
   "outputs": [
    {
     "data": {
      "text/latex": [
       "$\\displaystyle \\left[\\begin{matrix}dt\\\\dr\\\\dphi\\\\dz\\end{matrix}\\right]$"
      ],
      "text/plain": [
       "⎡ dt ⎤\n",
       "⎢    ⎥\n",
       "⎢ dr ⎥\n",
       "⎢    ⎥\n",
       "⎢dphi⎥\n",
       "⎢    ⎥\n",
       "⎣ dz ⎦"
      ]
     },
     "execution_count": 7,
     "metadata": {},
     "output_type": "execute_result"
    }
   ],
   "source": [
    "differentials = Matrix([dt,dr,dphi,dz])\n",
    "differentials "
   ]
  },
  {
   "cell_type": "code",
   "execution_count": 10,
   "id": "141f25a9",
   "metadata": {},
   "outputs": [
    {
     "data": {
      "image/png": "[encoded data removed]",
      "text/latex": [
       "$\\displaystyle - dphi^{2} r^{2} + dphi^{2} N^{2}{\\left(r,z \\right)} - 2 dphi dt N{\\left(r,z \\right)} - dr^{2} e^{\\nu{\\left(r,z \\right)}} + dt^{2} - dz^{2} e^{\\nu{\\left(r,z \\right)}}$"
      ],
      "text/plain": [
       "      2  2       2  2                               2  ν(r, z)     2     2  ν(r, z)\n",
       "- dphi ⋅r  + dphi ⋅N (r, z) - 2⋅dphi⋅dt⋅N(r, z) - dr ⋅ℯ        + dt  - dz ⋅ℯ       "
      ]
     },
     "execution_count": 10,
     "metadata": {},
     "output_type": "execute_result"
    }
   ],
   "source": [
    "lineElement = expand( (dt - n * dphi)**2 - (r**2 * dphi**2) - exp(nu)*(dr**2 + dz**2) ) \n",
    "lineElement"
   ]
  },
  {
   "cell_type": "code",
   "execution_count": 9,
   "id": "0768ed0e",
   "metadata": {},
   "outputs": [
    {
     "data": {
      "text/latex": [
       "$\\displaystyle \\left[\\begin{matrix}1 & 0 & - N{\\left(r,z \\right)} & 0\\\\0 & - e^{\\nu{\\left(r,z \\right)}} & 0 & 0\\\\- N{\\left(r,z \\right)} & 0 & - r^{2} + N^{2}{\\left(r,z \\right)} & 0\\\\0 & 0 & 0 & - e^{\\nu{\\left(r,z \\right)}}\\end{matrix}\\right]$"
      ],
      "text/plain": [
       "⎡   1          0         -N(r, z)          0    ⎤\n",
       "⎢                                               ⎥\n",
       "⎢            ν(r, z)                            ⎥\n",
       "⎢   0      -ℯ                0             0    ⎥\n",
       "⎢                                               ⎥\n",
       "⎢                        2    2                 ⎥\n",
       "⎢-N(r, z)      0      - r  + N (r, z)      0    ⎥\n",
       "⎢                                               ⎥\n",
       "⎢                                        ν(r, z)⎥\n",
       "⎣   0          0             0         -ℯ       ⎦"
      ]
     },
     "execution_count": 9,
     "metadata": {},
     "output_type": "execute_result"
    }
   ],
   "source": [
    "g = zeros(4)\n",
    "\n",
    "for i in range(4):\n",
    "    for j in range(4):\n",
    "        if i == j:\n",
    "            g[i,j] = lineElement.coeff( differentials[i],2 ) \n",
    "        else:\n",
    "            g[i,j] = Rational(1,2)*lineElement.coeff( differentials[i]*differentials[j],1 )\n",
    "            \n",
    "g"
   ]
  },
  {
   "cell_type": "code",
   "execution_count": 11,
   "id": "5f94e33e",
   "metadata": {},
   "outputs": [],
   "source": [
    "import sympy"
   ]
  },
  {
   "cell_type": "code",
   "execution_count": 12,
   "id": "179da84e",
   "metadata": {},
   "outputs": [
    {
     "data": {
      "text/latex": [
       "$\\displaystyle \\left[\\begin{matrix}1 & 0 & - N{\\left(r,z \\right)} & 0\\\\0 & - e^{\\nu{\\left(r,z \\right)}} & 0 & 0\\\\- N{\\left(r,z \\right)} & 0 & - r^{2} + N^{2}{\\left(r,z \\right)} & 0\\\\0 & 0 & 0 & - e^{\\nu{\\left(r,z \\right)}}\\end{matrix}\\right]$"
      ],
      "text/plain": [
       "⎡   1          0         -N(r, z)          0    ⎤\n",
       "⎢                                               ⎥\n",
       "⎢            ν(r, z)                            ⎥\n",
       "⎢   0      -ℯ                0             0    ⎥\n",
       "⎢                                               ⎥\n",
       "⎢                        2    2                 ⎥\n",
       "⎢-N(r, z)      0      - r  + N (r, z)      0    ⎥\n",
       "⎢                                               ⎥\n",
       "⎢                                        ν(r, z)⎥\n",
       "⎣   0          0             0         -ℯ       ⎦"
      ]
     },
     "execution_count": 12,
     "metadata": {},
     "output_type": "execute_result"
    }
   ],
   "source": [
    "m = sympy.Array(g)\n",
    "m"
   ]
  },
  {
   "cell_type": "code",
   "execution_count": 13,
   "id": "c0f5e673",
   "metadata": {},
   "outputs": [],
   "source": [
    "from einsteinpy.symbolic import *"
   ]
  },
  {
   "cell_type": "code",
   "execution_count": 14,
   "id": "d2b6ec21",
   "metadata": {},
   "outputs": [],
   "source": [
    "syms = sympy.symbols(\"t r phi z\")\n",
    "t,r,phi,z = syms"
   ]
  },
  {
   "cell_type": "code",
   "execution_count": 15,
   "id": "e0fb6f2a",
   "metadata": {},
   "outputs": [],
   "source": [
    "metric = MetricTensor(m,syms)"
   ]
  },
  {
   "cell_type": "code",
   "execution_count": 16,
   "id": "83eeb401",
   "metadata": {},
   "outputs": [
    {
     "data": {
      "text/latex": [
       "$\\displaystyle \\left[\\begin{matrix}\\left[\\begin{matrix}0 & \\frac{N{\\left(r,z \\right)} \\frac{\\partial}{\\partial r} N{\\left(r,z \\right)}}{2 r^{2}} & 0 & \\frac{N{\\left(r,z \\right)} \\frac{\\partial}{\\partial z} N{\\left(r,z \\right)}}{2 r^{2}}\\\\\\frac{N{\\left(r,z \\right)} \\frac{\\partial}{\\partial r} N{\\left(r,z \\right)}}{2 r^{2}} & 0 & - \\frac{\\frac{\\partial}{\\partial r} N{\\left(r,z \\right)}}{2} + \\frac{N{\\left(r,z \\right)}}{r} - \\frac{N^{2}{\\left(r,z \\right)} \\frac{\\partial}{\\partial r} N{\\left(r,z \\right)}}{2 r^{2}} & 0\\\\0 & - \\frac{\\frac{\\partial}{\\partial r} N{\\left(r,z \\right)}}{2} + \\frac{N{\\left(r,z \\right)}}{r} - \\frac{N^{2}{\\left(r,z \\right)} \\frac{\\partial}{\\partial r} N{\\left(r,z \\right)}}{2 r^{2}} & 0 & - \\frac{\\left(r^{2} + N^{2}{\\left(r,z \\right)}\\right) \\frac{\\partial}{\\partial z} N{\\left(r,z \\right)}}{2 r^{2}}\\\\\\frac{N{\\left(r,z \\right)} \\frac{\\partial}{\\partial z} N{\\left(r,z \\right)}}{2 r^{2}} & 0 & - \\frac{\\left(r^{2} + N^{2}{\\left(r,z \\right)}\\right) \\frac{\\partial}{\\partial z} N{\\left(r,z \\right)}}{2 r^{2}} & 0\\end{matrix}\\right] & \\left[\\begin{matrix}0 & 0 & - \\frac{e^{- \\nu{\\left(r,z \\right)}} \\frac{\\partial}{\\partial r} N{\\left(r,z \\right)}}{2} & 0\\\\0 & \\frac{\\frac{\\partial}{\\partial r} \\nu{\\left(r,z \\right)}}{2} & 0 & \\frac{\\frac{\\partial}{\\partial z} \\nu{\\left(r,z \\right)}}{2}\\\\- \\frac{e^{- \\nu{\\left(r,z \\right)}} \\frac{\\partial}{\\partial r} N{\\left(r,z \\right)}}{2} & 0 & \\left(- r + N{\\left(r,z \\right)} \\frac{\\partial}{\\partial r} N{\\left(r,z \\right)}\\right) e^{- \\nu{\\left(r,z \\right)}} & 0\\\\0 & \\frac{\\frac{\\partial}{\\partial z} \\nu{\\left(r,z \\right)}}{2} & 0 & - \\frac{\\frac{\\partial}{\\partial r} \\nu{\\left(r,z \\right)}}{2}\\end{matrix}\\right] & \\left[\\begin{matrix}0 & \\frac{\\frac{\\partial}{\\partial r} N{\\left(r,z \\right)}}{2 r^{2}} & 0 & \\frac{\\frac{\\partial}{\\partial z} N{\\left(r,z \\right)}}{2 r^{2}}\\\\\\frac{\\frac{\\partial}{\\partial r} N{\\left(r,z \\right)}}{2 r^{2}} & 0 & \\frac{r - \\frac{N{\\left(r,z \\right)} \\frac{\\partial}{\\partial r} N{\\left(r,z \\right)}}{2}}{r^{2}} & 0\\\\0 & \\frac{r - \\frac{N{\\left(r,z \\right)} \\frac{\\partial}{\\partial r} N{\\left(r,z \\right)}}{2}}{r^{2}} & 0 & - \\frac{N{\\left(r,z \\right)} \\frac{\\partial}{\\partial z} N{\\left(r,z \\right)}}{2 r^{2}}\\\\\\frac{\\frac{\\partial}{\\partial z} N{\\left(r,z \\right)}}{2 r^{2}} & 0 & - \\frac{N{\\left(r,z \\right)} \\frac{\\partial}{\\partial z} N{\\left(r,z \\right)}}{2 r^{2}} & 0\\end{matrix}\\right] & \\left[\\begin{matrix}0 & 0 & - \\frac{e^{- \\nu{\\left(r,z \\right)}} \\frac{\\partial}{\\partial z} N{\\left(r,z \\right)}}{2} & 0\\\\0 & - \\frac{\\frac{\\partial}{\\partial z} \\nu{\\left(r,z \\right)}}{2} & 0 & \\frac{\\frac{\\partial}{\\partial r} \\nu{\\left(r,z \\right)}}{2}\\\\- \\frac{e^{- \\nu{\\left(r,z \\right)}} \\frac{\\partial}{\\partial z} N{\\left(r,z \\right)}}{2} & 0 & N{\\left(r,z \\right)} e^{- \\nu{\\left(r,z \\right)}} \\frac{\\partial}{\\partial z} N{\\left(r,z \\right)} & 0\\\\0 & \\frac{\\frac{\\partial}{\\partial r} \\nu{\\left(r,z \\right)}}{2} & 0 & \\frac{\\frac{\\partial}{\\partial z} \\nu{\\left(r,z \\right)}}{2}\\end{matrix}\\right]\\end{matrix}\\right]$"
      ],
      "text/plain": [
       "⎡                                                                                                                                      \n",
       "⎢                                                                                                                                      \n",
       "⎢⎡                                          ∂                                                                                       ∂  \n",
       "⎢⎢                                  N(r, z)⋅──(N(r, z))                                                                     N(r, z)⋅──(\n",
       "⎢⎢                                          ∂r                                                                                      ∂z \n",
       "⎢⎢         0                        ───────────────────                                      0                              ───────────\n",
       "⎢⎢                                             2                                                                                       \n",
       "⎢⎢                                          2⋅r                                                                                     2⋅r\n",
       "⎢⎢                                                                                                                                     \n",
       "⎢⎢        ∂                                                              ∂                        2       ∂                            \n",
       "⎢⎢N(r, z)⋅──(N(r, z))                                                    ──(N(r, z))             N (r, z)⋅──(N(r, z))                  \n",
       "⎢⎢        ∂r                                                             ∂r            N(r, z)            ∂r                           \n",
       "⎢⎢───────────────────                        0                         - ─────────── + ─────── - ────────────────────                0 \n",
       "⎢⎢           2                                                                2           r                 2                          \n",
       "⎢⎢        2⋅r                                                                                            2⋅r                           \n",
       "⎢⎢                                                                                                                                     \n",
       "⎢⎢                       ∂                        2       ∂                                                             ⎛ 2    2      ⎞\n",
       "⎢⎢                       ──(N(r, z))             N (r, z)⋅──(N(r, z))                                                  -⎝r  + N (r, z)⎠\n",
       "⎢⎢                       ∂r            N(r, z)            ∂r                                                                           \n",
       "⎢⎢         0           - ─────────── + ─────── - ────────────────────                        0                         ────────────────\n",
       "⎢⎢                            2           r                 2                                                                          \n",
       "⎢⎢                                                       2⋅r                                                                        2⋅r\n",
       "⎢⎢                                                                                                                                     \n",
       "⎢⎢        ∂                                                                     ⎛ 2    2      ⎞ ∂                                      \n",
       "⎢⎢N(r, z)⋅──(N(r, z))                                                          -⎝r  + N (r, z)⎠⋅──(N(r, z))                            \n",
       "⎢⎢        ∂z                                                                                    ∂z                                     \n",
       "⎢⎢───────────────────                        0                                 ─────────────────────────────                         0 \n",
       "⎢⎢           2                                                                                 2                                       \n",
       "⎢⎣        2⋅r                                                                               2⋅r                                        \n",
       "⎢                                                                                                                                      \n",
       "⎣                                                                                                                                      \n",
       "\n",
       "                                                                                                             ⎡                   ∂     \n",
       "                                                                                                             ⎢                   ──(N(r\n",
       "             ⎤                                                                                               ⎢                   ∂r    \n",
       "N(r, z))     ⎥                                                                                               ⎢     0             ──────\n",
       "             ⎥  ⎡                                              -ν(r, z) ∂                                 ⎤  ⎢                         \n",
       "────────     ⎥  ⎢                                            -ℯ        ⋅──(N(r, z))                       ⎥  ⎢                       2⋅\n",
       "2            ⎥  ⎢                                                       ∂r                                ⎥  ⎢                         \n",
       "             ⎥  ⎢           0                  0             ───────────────────────               0      ⎥  ⎢                         \n",
       "             ⎥  ⎢                                                       2                                 ⎥  ⎢                         \n",
       "             ⎥  ⎢                                                                                         ⎥  ⎢∂                        \n",
       "             ⎥  ⎢                         ∂                                                   ∂           ⎥  ⎢──(N(r, z))              \n",
       "             ⎥  ⎢                         ──(ν(r, z))                                         ──(ν(r, z)) ⎥  ⎢∂r                       \n",
       "             ⎥  ⎢                         ∂r                                                  ∂z          ⎥  ⎢───────────             0\n",
       "             ⎥  ⎢           0             ───────────                   0                     ─────────── ⎥  ⎢       2                 \n",
       "             ⎥  ⎢                              2                                                   2      ⎥  ⎢    2⋅r                  \n",
       "             ⎥  ⎢                                                                                         ⎥  ⎢                         \n",
       " ∂           ⎥  ⎢  -ν(r, z) ∂                                                                             ⎥  ⎢                         \n",
       "⋅──(N(r, z)) ⎥  ⎢-ℯ        ⋅──(N(r, z))                                                                   ⎥  ⎢                 N(r, z)⋅\n",
       " ∂z          ⎥  ⎢           ∂r                         ⎛             ∂          ⎞  -ν(r, z)               ⎥  ⎢                         \n",
       "─────────────⎥  ⎢───────────────────────       0       ⎜-r + N(r, z)⋅──(N(r, z))⎟⋅ℯ                0      ⎥  ⎢             r - ────────\n",
       "2            ⎥  ⎢           2                          ⎝             ∂r         ⎠                         ⎥  ⎢                         \n",
       "             ⎥  ⎢                                                                                         ⎥  ⎢     0       ────────────\n",
       "             ⎥  ⎢                         ∂                                                   ∂           ⎥  ⎢                         \n",
       "             ⎥  ⎢                         ──(ν(r, z))                                        -──(ν(r, z)) ⎥  ⎢                        r\n",
       "             ⎥  ⎢                         ∂z                                                  ∂r          ⎥  ⎢                         \n",
       "             ⎥  ⎢           0             ───────────                   0                    ─────────────⎥  ⎢∂                        \n",
       "             ⎥  ⎣                              2                                                   2      ⎦  ⎢──(N(r, z))              \n",
       "             ⎥                                                                                               ⎢∂z                       \n",
       "             ⎦                                                                                               ⎢───────────             0\n",
       "                                                                                                             ⎢       2                 \n",
       "                                                                                                             ⎣    2⋅r                  \n",
       "\n",
       "                                           ∂               ⎤                                                                           \n",
       ", z))                                      ──(N(r, z))     ⎥                                                                           \n",
       "                                           ∂z              ⎥                                                                           \n",
       "─────                   0                  ───────────     ⎥                                                                           \n",
       " 2                                                2        ⎥  ⎡                                             -ν(r, z) ∂                 \n",
       "r                                              2⋅r         ⎥  ⎢                                           -ℯ        ⋅──(N(r, z))       \n",
       "                                                           ⎥  ⎢                                                      ∂z                \n",
       "                         ∂                                 ⎥  ⎢           0                   0           ───────────────────────      \n",
       "                 N(r, z)⋅──(N(r, z))                       ⎥  ⎢                                                      2                 \n",
       "                         ∂r                                ⎥  ⎢                                                                        \n",
       "             r - ───────────────────                       ⎥  ⎢                          ∂                                            ∂\n",
       "                          2                                ⎥  ⎢                         -──(ν(r, z))                                  ─\n",
       "             ───────────────────────            0          ⎥  ⎢                          ∂z                                           ∂\n",
       "                         2                                 ⎥  ⎢           0             ─────────────                0                ─\n",
       "                        r                                  ⎥  ⎢                               2                                        \n",
       "                                                           ⎥  ⎢                                                                        \n",
       "∂                                                          ⎥  ⎢  -ν(r, z) ∂                                                            \n",
       "──(N(r, z))                                                ⎥  ⎢-ℯ        ⋅──(N(r, z))                                                  \n",
       "∂r                                             ∂           ⎥  ⎢           ∂z                                    -ν(r, z) ∂             \n",
       "───────────                           -N(r, z)⋅──(N(r, z)) ⎥  ⎢───────────────────────        0        N(r, z)⋅ℯ        ⋅──(N(r, z))   \n",
       " 2                                             ∂z          ⎥  ⎢           2                                              ∂z            \n",
       "───────────             0             ─────────────────────⎥  ⎢                                                                        \n",
       "2                                                 2        ⎥  ⎢                          ∂                                            ∂\n",
       "                                               2⋅r         ⎥  ⎢                          ──(ν(r, z))                                  ─\n",
       "                                                           ⎥  ⎢                          ∂r                                           ∂\n",
       "                       ∂                                   ⎥  ⎢           0              ───────────                 0                ─\n",
       "              -N(r, z)⋅──(N(r, z))                         ⎥  ⎣                               2                                        \n",
       "                       ∂z                                  ⎥                                                                           \n",
       "              ─────────────────────             0          ⎥                                                                           \n",
       "                          2                                ⎥                                                                           \n",
       "                       2⋅r                                 ⎦                                                                           \n",
       "\n",
       "           ⎤\n",
       "           ⎥\n",
       "           ⎥\n",
       "           ⎥\n",
       "          ⎤⎥\n",
       "          ⎥⎥\n",
       "          ⎥⎥\n",
       "    0     ⎥⎥\n",
       "          ⎥⎥\n",
       "          ⎥⎥\n",
       "          ⎥⎥\n",
       "─(ν(r, z))⎥⎥\n",
       "r         ⎥⎥\n",
       "──────────⎥⎥\n",
       "    2     ⎥⎥\n",
       "          ⎥⎥\n",
       "          ⎥⎥\n",
       "          ⎥⎥\n",
       "          ⎥⎥\n",
       "    0     ⎥⎥\n",
       "          ⎥⎥\n",
       "          ⎥⎥\n",
       "          ⎥⎥\n",
       "─(ν(r, z))⎥⎥\n",
       "z         ⎥⎥\n",
       "──────────⎥⎥\n",
       "    2     ⎦⎥\n",
       "           ⎥\n",
       "           ⎥\n",
       "           ⎥\n",
       "           ⎦"
      ]
     },
     "execution_count": 16,
     "metadata": {},
     "output_type": "execute_result"
    }
   ],
   "source": [
    "ch = ChristoffelSymbols.from_metric(metric)\n",
    "simplify(ch.tensor())"
   ]
  },
  {
   "cell_type": "code",
   "execution_count": 17,
   "id": "62a7c8f1",
   "metadata": {},
   "outputs": [
    {
     "data": {
      "text/latex": [
       "$\\displaystyle \\left[\\begin{matrix}\\frac{\\left(\\left(\\frac{\\partial}{\\partial r} N{\\left(r,z \\right)}\\right)^{2} + \\left(\\frac{\\partial}{\\partial z} N{\\left(r,z \\right)}\\right)^{2}\\right) e^{- \\nu{\\left(r,z \\right)}}}{2 r^{2}} & 0 & \\frac{\\left(- r^{2} \\frac{\\partial^{2}}{\\partial r^{2}} N{\\left(r,z \\right)} - r^{2} \\frac{\\partial^{2}}{\\partial z^{2}} N{\\left(r,z \\right)} + r \\frac{\\partial}{\\partial r} N{\\left(r,z \\right)} - N{\\left(r,z \\right)} \\left(\\frac{\\partial}{\\partial r} N{\\left(r,z \\right)}\\right)^{2} - N{\\left(r,z \\right)} \\left(\\frac{\\partial}{\\partial z} N{\\left(r,z \\right)}\\right)^{2}\\right) e^{- \\nu{\\left(r,z \\right)}}}{2 r^{2}} & 0\\\\0 & \\frac{- r^{2} \\left(\\frac{\\partial^{2}}{\\partial r^{2}} \\nu{\\left(r,z \\right)} + \\frac{\\partial^{2}}{\\partial z^{2}} \\nu{\\left(r,z \\right)}\\right) + r \\frac{\\partial}{\\partial r} \\nu{\\left(r,z \\right)} + \\left(\\frac{\\partial}{\\partial r} N{\\left(r,z \\right)}\\right)^{2}}{2 r^{2}} & 0 & \\frac{r \\frac{\\partial}{\\partial z} \\nu{\\left(r,z \\right)} + \\frac{\\partial}{\\partial r} N{\\left(r,z \\right)} \\frac{\\partial}{\\partial z} N{\\left(r,z \\right)}}{2 r^{2}}\\\\\\frac{\\left(- r^{2} \\frac{\\partial^{2}}{\\partial r^{2}} N{\\left(r,z \\right)} - r^{2} \\frac{\\partial^{2}}{\\partial z^{2}} N{\\left(r,z \\right)} + r \\frac{\\partial}{\\partial r} N{\\left(r,z \\right)} - N{\\left(r,z \\right)} \\left(\\frac{\\partial}{\\partial r} N{\\left(r,z \\right)}\\right)^{2} - N{\\left(r,z \\right)} \\left(\\frac{\\partial}{\\partial z} N{\\left(r,z \\right)}\\right)^{2}\\right) e^{- \\nu{\\left(r,z \\right)}}}{2 r^{2}} & 0 & \\frac{\\left(2 r^{2} N{\\left(r,z \\right)} \\frac{\\partial^{2}}{\\partial r^{2}} N{\\left(r,z \\right)} + 2 r^{2} N{\\left(r,z \\right)} \\frac{\\partial^{2}}{\\partial z^{2}} N{\\left(r,z \\right)} + r^{2} \\left(\\frac{\\partial}{\\partial r} N{\\left(r,z \\right)}\\right)^{2} + r^{2} \\left(\\frac{\\partial}{\\partial z} N{\\left(r,z \\right)}\\right)^{2} - 2 r N{\\left(r,z \\right)} \\frac{\\partial}{\\partial r} N{\\left(r,z \\right)} + N^{2}{\\left(r,z \\right)} \\left(\\frac{\\partial}{\\partial r} N{\\left(r,z \\right)}\\right)^{2} + N^{2}{\\left(r,z \\right)} \\left(\\frac{\\partial}{\\partial z} N{\\left(r,z \\right)}\\right)^{2}\\right) e^{- \\nu{\\left(r,z \\right)}}}{2 r^{2}} & 0\\\\0 & \\frac{r \\frac{\\partial}{\\partial z} \\nu{\\left(r,z \\right)} + \\frac{\\partial}{\\partial r} N{\\left(r,z \\right)} \\frac{\\partial}{\\partial z} N{\\left(r,z \\right)}}{2 r^{2}} & 0 & - \\frac{\\frac{\\partial^{2}}{\\partial r^{2}} \\nu{\\left(r,z \\right)}}{2} - \\frac{\\frac{\\partial^{2}}{\\partial z^{2}} \\nu{\\left(r,z \\right)}}{2} - \\frac{\\frac{\\partial}{\\partial r} \\nu{\\left(r,z \\right)}}{2 r} + \\frac{\\left(\\frac{\\partial}{\\partial z} N{\\left(r,z \\right)}\\right)^{2}}{2 r^{2}}\\end{matrix}\\right]$"
      ],
      "text/plain": [
       "⎡                                                                                                                                      \n",
       "⎢                                   ⎛             2                2⎞                                                                  \n",
       "⎢                                   ⎜⎛∂          ⎞    ⎛∂          ⎞ ⎟  -ν(r, z)                                                        \n",
       "⎢                                   ⎜⎜──(N(r, z))⎟  + ⎜──(N(r, z))⎟ ⎟⋅ℯ                                                                \n",
       "⎢                                   ⎝⎝∂r         ⎠    ⎝∂z         ⎠ ⎠                                                                  \n",
       "⎢                                   ───────────────────────────────────────────                                                        \n",
       "⎢                                                          2                                                                           \n",
       "⎢                                                       2⋅r                                                                            \n",
       "⎢                                                                                                                                      \n",
       "⎢                                                                                                                        ⎛  2          \n",
       "⎢                                                                                                                      2 ⎜ ∂           \n",
       "⎢                                                                                                                   - r ⋅⎜───(ν(r, z)) \n",
       "⎢                                                                                                                        ⎜  2          \n",
       "⎢                                                                                                                        ⎝∂r           \n",
       "⎢                                                        0                                                          ───────────────────\n",
       "⎢                                                                                                                                      \n",
       "⎢                                                                                                                                      \n",
       "⎢                                                                                                                                      \n",
       "⎢⎛       2                 2                                                 2                        2⎞                               \n",
       "⎢⎜   2  ∂              2  ∂               ∂                     ⎛∂          ⎞            ⎛∂          ⎞ ⎟  -ν(r, z)                     \n",
       "⎢⎜- r ⋅───(N(r, z)) - r ⋅───(N(r, z)) + r⋅──(N(r, z)) - N(r, z)⋅⎜──(N(r, z))⎟  - N(r, z)⋅⎜──(N(r, z))⎟ ⎟⋅ℯ                             \n",
       "⎢⎜       2                 2              ∂r                    ⎝∂r         ⎠            ⎝∂z         ⎠ ⎟                               \n",
       "⎢⎝     ∂r                ∂z                                                                            ⎠                               \n",
       "⎢─────────────────────────────────────────────────────────────────────────────────────────────────────────────────                     \n",
       "⎢                                                          2                                                                           \n",
       "⎢                                                       2⋅r                                                                            \n",
       "⎢                                                                                                                                      \n",
       "⎢                                                                                                                                      \n",
       "⎢                                                                                                                                      \n",
       "⎢                                                                                                                                   ∂  \n",
       "⎢                                                                                                                                 r⋅──(\n",
       "⎢                                                                                                                                   ∂z \n",
       "⎢                                                        0                                                                        ─────\n",
       "⎢                                                                                                                                      \n",
       "⎣                                                                                                                                      \n",
       "\n",
       "                                                                                     ⎛       2                 2                       \n",
       "                                                                                     ⎜   2  ∂              2  ∂               ∂        \n",
       "                                                                                     ⎜- r ⋅───(N(r, z)) - r ⋅───(N(r, z)) + r⋅──(N(r, z\n",
       "                                                                                     ⎜       2                 2              ∂r       \n",
       "                                                                                     ⎝     ∂r                ∂z                        \n",
       "              0                                                                      ──────────────────────────────────────────────────\n",
       "                                                                                                                                       \n",
       "                                                                                                                                       \n",
       "                                                                                                                                       \n",
       "    2         ⎞                                2                                                                                       \n",
       "   ∂          ⎟     ∂             ⎛∂          ⎞                                                                                        \n",
       "+ ───(ν(r, z))⎟ + r⋅──(ν(r, z)) + ⎜──(N(r, z))⎟                                                                                        \n",
       "    2         ⎟     ∂r            ⎝∂r         ⎠                                                                                        \n",
       "  ∂z          ⎠                                                                                                                        \n",
       "────────────────────────────────────────────────                                                                                       \n",
       "                2                                                                                                                      \n",
       "             2⋅r                                                                                                                       \n",
       "                                                                                                                                       \n",
       "                                                  ⎛               2                           2                            2           \n",
       "                                                  ⎜   2          ∂                2          ∂              2 ⎛∂          ⎞     2 ⎛∂   \n",
       "                                                  ⎜2⋅r ⋅N(r, z)⋅───(N(r, z)) + 2⋅r ⋅N(r, z)⋅───(N(r, z)) + r ⋅⎜──(N(r, z))⎟  + r ⋅⎜──(N\n",
       "                                                  ⎜               2                           2               ⎝∂r         ⎠       ⎝∂z  \n",
       "                                                  ⎝             ∂r                          ∂z                                         \n",
       "              0                                   ─────────────────────────────────────────────────────────────────────────────────────\n",
       "                                                                                                                                       \n",
       "                                                                                                                                       \n",
       "                                                                                                                                       \n",
       "                                                                                                                                       \n",
       "                                                                                                                                       \n",
       "           ∂           ∂                                                                                                               \n",
       "ν(r, z)) + ──(N(r, z))⋅──(N(r, z))                                                                                                     \n",
       "           ∂r          ∂z                                                                                                              \n",
       "──────────────────────────────────                                                                                                     \n",
       "                2                                                                                                                      \n",
       "             2⋅r                                                                                                                       \n",
       "\n",
       "                          2                        2⎞                                                                                  \n",
       "             ⎛∂          ⎞            ⎛∂          ⎞ ⎟  -ν(r, z)                                                                        \n",
       ")) - N(r, z)⋅⎜──(N(r, z))⎟  - N(r, z)⋅⎜──(N(r, z))⎟ ⎟⋅ℯ                                                                                \n",
       "             ⎝∂r         ⎠            ⎝∂z         ⎠ ⎟                                                                                  \n",
       "                                                    ⎠                                                                                  \n",
       "───────────────────────────────────────────────────────────────                                                                  0     \n",
       "        2                                                                                                                              \n",
       "     2⋅r                                                                                                                               \n",
       "                                                                                                                                       \n",
       "                                                                                                                                       \n",
       "                                                                                                                                       \n",
       "                                                                                                                ∂             ∂        \n",
       "                                                                                                              r⋅──(ν(r, z)) + ──(N(r, z\n",
       "                                                                                                                ∂z            ∂r       \n",
       "      0                                                                                                       ─────────────────────────\n",
       "                                                                                                                                   2   \n",
       "                                                                                                                                2⋅r    \n",
       "                                                                                                                                       \n",
       "        2                                                   2                         2⎞                                               \n",
       "       ⎞                ∂              2       ⎛∂          ⎞     2       ⎛∂          ⎞ ⎟  -ν(r, z)                                     \n",
       "(r, z))⎟  - 2⋅r⋅N(r, z)⋅──(N(r, z)) + N (r, z)⋅⎜──(N(r, z))⎟  + N (r, z)⋅⎜──(N(r, z))⎟ ⎟⋅ℯ                                             \n",
       "       ⎠                ∂r                     ⎝∂r         ⎠             ⎝∂z         ⎠ ⎟                                               \n",
       "                                                                                       ⎠                                               \n",
       "──────────────────────────────────────────────────────────────────────────────────────────────────                               0     \n",
       "        2                                                                                                                              \n",
       "     2⋅r                                                                                                                               \n",
       "                                                                                                                                       \n",
       "                                                                                                        2              2               \n",
       "                                                                                                       ∂              ∂                \n",
       "                                                                                                      ───(ν(r, z))   ───(ν(r, z))   ∂  \n",
       "                                                                                                        2              2            ──(\n",
       "                                                                                                      ∂r             ∂z             ∂r \n",
       "      0                                                                                             - ──────────── - ──────────── - ───\n",
       "                                                                                                           2              2            \n",
       "                                                                                                                                       \n",
       "\n",
       "                         ⎤\n",
       "                         ⎥\n",
       "                         ⎥\n",
       "                         ⎥\n",
       "                         ⎥\n",
       "                         ⎥\n",
       "                         ⎥\n",
       "                         ⎥\n",
       "                         ⎥\n",
       "                         ⎥\n",
       "                         ⎥\n",
       "   ∂                     ⎥\n",
       "))⋅──(N(r, z))           ⎥\n",
       "   ∂z                    ⎥\n",
       "──────────────           ⎥\n",
       "                         ⎥\n",
       "                         ⎥\n",
       "                         ⎥\n",
       "                         ⎥\n",
       "                         ⎥\n",
       "                         ⎥\n",
       "                         ⎥\n",
       "                         ⎥\n",
       "                         ⎥\n",
       "                         ⎥\n",
       "                         ⎥\n",
       "                         ⎥\n",
       "                         ⎥\n",
       "                        2⎥\n",
       "           ⎛∂          ⎞ ⎥\n",
       "ν(r, z))   ⎜──(N(r, z))⎟ ⎥\n",
       "           ⎝∂z         ⎠ ⎥\n",
       "──────── + ──────────────⎥\n",
       " 2⋅r               2     ⎥\n",
       "                2⋅r      ⎦"
      ]
     },
     "execution_count": 17,
     "metadata": {},
     "output_type": "execute_result"
    }
   ],
   "source": [
    "Ric = RicciTensor.from_metric(metric)\n",
    "Ric.tensor()"
   ]
  },
  {
   "cell_type": "code",
   "execution_count": 18,
   "id": "be5cf66c",
   "metadata": {},
   "outputs": [
    {
     "data": {
      "image/png": "[encoded data removed]",
      "text/latex": [
       "$\\displaystyle \\frac{\\left(2 r^{2} \\left(\\frac{\\partial^{2}}{\\partial r^{2}} \\nu{\\left(r,z \\right)} + \\frac{\\partial^{2}}{\\partial z^{2}} \\nu{\\left(r,z \\right)}\\right) - \\left(\\frac{\\partial}{\\partial r} N{\\left(r,z \\right)}\\right)^{2} - \\left(\\frac{\\partial}{\\partial z} N{\\left(r,z \\right)}\\right)^{2}\\right) e^{- \\nu{\\left(r,z \\right)}}}{2 r^{2}}$"
      ],
      "text/plain": [
       "⎛     ⎛  2              2         ⎞                2                2⎞          \n",
       "⎜   2 ⎜ ∂              ∂          ⎟   ⎛∂          ⎞    ⎛∂          ⎞ ⎟  -ν(r, z)\n",
       "⎜2⋅r ⋅⎜───(ν(r, z)) + ───(ν(r, z))⎟ - ⎜──(N(r, z))⎟  - ⎜──(N(r, z))⎟ ⎟⋅ℯ        \n",
       "⎜     ⎜  2              2         ⎟   ⎝∂r         ⎠    ⎝∂z         ⎠ ⎟          \n",
       "⎝     ⎝∂r             ∂z          ⎠                                  ⎠          \n",
       "────────────────────────────────────────────────────────────────────────────────\n",
       "                                         2                                      \n",
       "                                      2⋅r                                       "
      ]
     },
     "execution_count": 18,
     "metadata": {},
     "output_type": "execute_result"
    }
   ],
   "source": [
    "R = RicciScalar.from_riccitensor(Ric)\n",
    "R.simplify()\n",
    "R.expr"
   ]
  },
  {
   "cell_type": "code",
   "execution_count": 19,
   "id": "a110e44f",
   "metadata": {},
   "outputs": [
    {
     "data": {
      "text/latex": [
       "$\\displaystyle \\left[\\begin{matrix}\\frac{\\left(\\left(\\frac{\\partial}{\\partial r} N{\\left(r,z \\right)}\\right)^{2} + \\left(\\frac{\\partial}{\\partial z} N{\\left(r,z \\right)}\\right)^{2}\\right) e^{- \\nu{\\left(r,z \\right)}}}{2 r^{2}} - \\frac{0.25 \\left(2 r^{2} \\left(\\frac{\\partial^{2}}{\\partial r^{2}} \\nu{\\left(r,z \\right)} + \\frac{\\partial^{2}}{\\partial z^{2}} \\nu{\\left(r,z \\right)}\\right) - \\left(\\frac{\\partial}{\\partial r} N{\\left(r,z \\right)}\\right)^{2} - \\left(\\frac{\\partial}{\\partial z} N{\\left(r,z \\right)}\\right)^{2}\\right) e^{- \\nu{\\left(r,z \\right)}}}{r^{2}} & 0 & \\frac{0.25 \\left(2 r^{2} \\left(\\frac{\\partial^{2}}{\\partial r^{2}} \\nu{\\left(r,z \\right)} + \\frac{\\partial^{2}}{\\partial z^{2}} \\nu{\\left(r,z \\right)}\\right) - \\left(\\frac{\\partial}{\\partial r} N{\\left(r,z \\right)}\\right)^{2} - \\left(\\frac{\\partial}{\\partial z} N{\\left(r,z \\right)}\\right)^{2}\\right) N{\\left(r,z \\right)} e^{- \\nu{\\left(r,z \\right)}}}{r^{2}} + \\frac{\\left(- r^{2} \\frac{\\partial^{2}}{\\partial r^{2}} N{\\left(r,z \\right)} - r^{2} \\frac{\\partial^{2}}{\\partial z^{2}} N{\\left(r,z \\right)} + r \\frac{\\partial}{\\partial r} N{\\left(r,z \\right)} - N{\\left(r,z \\right)} \\left(\\frac{\\partial}{\\partial r} N{\\left(r,z \\right)}\\right)^{2} - N{\\left(r,z \\right)} \\left(\\frac{\\partial}{\\partial z} N{\\left(r,z \\right)}\\right)^{2}\\right) e^{- \\nu{\\left(r,z \\right)}}}{2 r^{2}} & 0\\\\0 & \\frac{- r^{2} \\left(\\frac{\\partial^{2}}{\\partial r^{2}} \\nu{\\left(r,z \\right)} + \\frac{\\partial^{2}}{\\partial z^{2}} \\nu{\\left(r,z \\right)}\\right) + r \\frac{\\partial}{\\partial r} \\nu{\\left(r,z \\right)} + \\left(\\frac{\\partial}{\\partial r} N{\\left(r,z \\right)}\\right)^{2}}{2 r^{2}} + \\frac{0.25 \\left(2 r^{2} \\left(\\frac{\\partial^{2}}{\\partial r^{2}} \\nu{\\left(r,z \\right)} + \\frac{\\partial^{2}}{\\partial z^{2}} \\nu{\\left(r,z \\right)}\\right) - \\left(\\frac{\\partial}{\\partial r} N{\\left(r,z \\right)}\\right)^{2} - \\left(\\frac{\\partial}{\\partial z} N{\\left(r,z \\right)}\\right)^{2}\\right)}{r^{2}} & 0 & \\frac{r \\frac{\\partial}{\\partial z} \\nu{\\left(r,z \\right)} + \\frac{\\partial}{\\partial r} N{\\left(r,z \\right)} \\frac{\\partial}{\\partial z} N{\\left(r,z \\right)}}{2 r^{2}}\\\\\\frac{0.25 \\left(2 r^{2} \\left(\\frac{\\partial^{2}}{\\partial r^{2}} \\nu{\\left(r,z \\right)} + \\frac{\\partial^{2}}{\\partial z^{2}} \\nu{\\left(r,z \\right)}\\right) - \\left(\\frac{\\partial}{\\partial r} N{\\left(r,z \\right)}\\right)^{2} - \\left(\\frac{\\partial}{\\partial z} N{\\left(r,z \\right)}\\right)^{2}\\right) N{\\left(r,z \\right)} e^{- \\nu{\\left(r,z \\right)}}}{r^{2}} + \\frac{\\left(- r^{2} \\frac{\\partial^{2}}{\\partial r^{2}} N{\\left(r,z \\right)} - r^{2} \\frac{\\partial^{2}}{\\partial z^{2}} N{\\left(r,z \\right)} + r \\frac{\\partial}{\\partial r} N{\\left(r,z \\right)} - N{\\left(r,z \\right)} \\left(\\frac{\\partial}{\\partial r} N{\\left(r,z \\right)}\\right)^{2} - N{\\left(r,z \\right)} \\left(\\frac{\\partial}{\\partial z} N{\\left(r,z \\right)}\\right)^{2}\\right) e^{- \\nu{\\left(r,z \\right)}}}{2 r^{2}} & 0 & - \\frac{\\left(- 0.5 r^{2} + 0.5 N^{2}{\\left(r,z \\right)}\\right) \\left(2 r^{2} \\left(\\frac{\\partial^{2}}{\\partial r^{2}} \\nu{\\left(r,z \\right)} + \\frac{\\partial^{2}}{\\partial z^{2}} \\nu{\\left(r,z \\right)}\\right) - \\left(\\frac{\\partial}{\\partial r} N{\\left(r,z \\right)}\\right)^{2} - \\left(\\frac{\\partial}{\\partial z} N{\\left(r,z \\right)}\\right)^{2}\\right) e^{- \\nu{\\left(r,z \\right)}}}{2 r^{2}} + \\frac{\\left(2 r^{2} N{\\left(r,z \\right)} \\frac{\\partial^{2}}{\\partial r^{2}} N{\\left(r,z \\right)} + 2 r^{2} N{\\left(r,z \\right)} \\frac{\\partial^{2}}{\\partial z^{2}} N{\\left(r,z \\right)} + r^{2} \\left(\\frac{\\partial}{\\partial r} N{\\left(r,z \\right)}\\right)^{2} + r^{2} \\left(\\frac{\\partial}{\\partial z} N{\\left(r,z \\right)}\\right)^{2} - 2 r N{\\left(r,z \\right)} \\frac{\\partial}{\\partial r} N{\\left(r,z \\right)} + N^{2}{\\left(r,z \\right)} \\left(\\frac{\\partial}{\\partial r} N{\\left(r,z \\right)}\\right)^{2} + N^{2}{\\left(r,z \\right)} \\left(\\frac{\\partial}{\\partial z} N{\\left(r,z \\right)}\\right)^{2}\\right) e^{- \\nu{\\left(r,z \\right)}}}{2 r^{2}} & 0\\\\0 & \\frac{r \\frac{\\partial}{\\partial z} \\nu{\\left(r,z \\right)} + \\frac{\\partial}{\\partial r} N{\\left(r,z \\right)} \\frac{\\partial}{\\partial z} N{\\left(r,z \\right)}}{2 r^{2}} & 0 & - \\frac{\\frac{\\partial^{2}}{\\partial r^{2}} \\nu{\\left(r,z \\right)}}{2} - \\frac{\\frac{\\partial^{2}}{\\partial z^{2}} \\nu{\\left(r,z \\right)}}{2} - \\frac{\\frac{\\partial}{\\partial r} \\nu{\\left(r,z \\right)}}{2 r} + \\frac{0.25 \\left(2 r^{2} \\left(\\frac{\\partial^{2}}{\\partial r^{2}} \\nu{\\left(r,z \\right)} + \\frac{\\partial^{2}}{\\partial z^{2}} \\nu{\\left(r,z \\right)}\\right) - \\left(\\frac{\\partial}{\\partial r} N{\\left(r,z \\right)}\\right)^{2} - \\left(\\frac{\\partial}{\\partial z} N{\\left(r,z \\right)}\\right)^{2}\\right)}{r^{2}} + \\frac{\\left(\\frac{\\partial}{\\partial z} N{\\left(r,z \\right)}\\right)^{2}}{2 r^{2}}\\end{matrix}\\right]$"
      ],
      "text/plain": [
       "⎡                                                                                          ⎛     ⎛  2              2         ⎞         \n",
       "⎢                                       ⎛             2                2⎞                  ⎜   2 ⎜ ∂              ∂          ⎟   ⎛∂    \n",
       "⎢                                       ⎜⎛∂          ⎞    ⎛∂          ⎞ ⎟  -ν(r, z)   0.25⋅⎜2⋅r ⋅⎜───(ν(r, z)) + ───(ν(r, z))⎟ - ⎜──(N(\n",
       "⎢                                       ⎜⎜──(N(r, z))⎟  + ⎜──(N(r, z))⎟ ⎟⋅ℯ                ⎜     ⎜  2              2         ⎟   ⎝∂r   \n",
       "⎢                                       ⎝⎝∂r         ⎠    ⎝∂z         ⎠ ⎠                  ⎝     ⎝∂r             ∂z          ⎠         \n",
       "⎢                                       ─────────────────────────────────────────── - ─────────────────────────────────────────────────\n",
       "⎢                                                              2                                                                 2     \n",
       "⎢                                                           2⋅r                                                                 r      \n",
       "⎢                                                                                                                                      \n",
       "⎢                                                                                                                                      \n",
       "⎢                                                                                                                                      \n",
       "⎢                                                                                                                                      \n",
       "⎢                                                                                                                                      \n",
       "⎢                                                                                                                                      \n",
       "⎢                                                                                                        0                             \n",
       "⎢                                                                                                                                      \n",
       "⎢                                                                                                                                      \n",
       "⎢                                                                                                                                      \n",
       "⎢     ⎛     ⎛  2              2         ⎞                2                2⎞                     ⎛       2                 2           \n",
       "⎢     ⎜   2 ⎜ ∂              ∂          ⎟   ⎛∂          ⎞    ⎛∂          ⎞ ⎟          -ν(r, z)   ⎜   2  ∂              2  ∂            \n",
       "⎢0.25⋅⎜2⋅r ⋅⎜───(ν(r, z)) + ───(ν(r, z))⎟ - ⎜──(N(r, z))⎟  - ⎜──(N(r, z))⎟ ⎟⋅N(r, z)⋅ℯ           ⎜- r ⋅───(N(r, z)) - r ⋅───(N(r, z)) +\n",
       "⎢     ⎜     ⎜  2              2         ⎟   ⎝∂r         ⎠    ⎝∂z         ⎠ ⎟                     ⎜       2                 2           \n",
       "⎢     ⎝     ⎝∂r             ∂z          ⎠                                  ⎠                     ⎝     ∂r                ∂z            \n",
       "⎢───────────────────────────────────────────────────────────────────────────────────────────── + ──────────────────────────────────────\n",
       "⎢                                               2                                                                                      \n",
       "⎢                                              r                                                                                       \n",
       "⎢                                                                                                                                      \n",
       "⎢                                                                                                                                      \n",
       "⎢                                                                                                                                      \n",
       "⎢                                                                                                                                      \n",
       "⎢                                                                                                                                      \n",
       "⎢                                                                                                                                      \n",
       "⎢                                                                                                        0                             \n",
       "⎢                                                                                                                                      \n",
       "⎣                                                                                                                                      \n",
       "\n",
       "       2                2⎞                                                                                                             \n",
       "      ⎞    ⎛∂          ⎞ ⎟  -ν(r, z)                                                                                                   \n",
       "r, z))⎟  - ⎜──(N(r, z))⎟ ⎟⋅ℯ                                                                                                           \n",
       "      ⎠    ⎝∂z         ⎠ ⎟                                                                                                             \n",
       "                         ⎠                                                                                                             \n",
       "────────────────────────────────────                                                                                                   \n",
       "                                                                                                                                       \n",
       "                                                                                                                                       \n",
       "                                                                                                                                       \n",
       "                                                                                  ⎛  2              2         ⎞                        \n",
       "                                                                                2 ⎜ ∂              ∂          ⎟     ∂             ⎛∂   \n",
       "                                                                             - r ⋅⎜───(ν(r, z)) + ───(ν(r, z))⎟ + r⋅──(ν(r, z)) + ⎜──(N\n",
       "                                                                                  ⎜  2              2         ⎟     ∂r            ⎝∂r  \n",
       "                                                                                  ⎝∂r             ∂z          ⎠                        \n",
       "                                                                             ──────────────────────────────────────────────────────────\n",
       "                                                                                                                2                      \n",
       "                                                                                                             2⋅r                       \n",
       "                                                                                                                                       \n",
       "                                      2                        2⎞                                                                      \n",
       "   ∂                     ⎛∂          ⎞            ⎛∂          ⎞ ⎟  -ν(r, z)                                                            \n",
       " r⋅──(N(r, z)) - N(r, z)⋅⎜──(N(r, z))⎟  - N(r, z)⋅⎜──(N(r, z))⎟ ⎟⋅ℯ                                                                    \n",
       "   ∂r                    ⎝∂r         ⎠            ⎝∂z         ⎠ ⎟                                                                      \n",
       "                                                                ⎠                                                                      \n",
       "───────────────────────────────────────────────────────────────────────────                                                            \n",
       "                    2                                                                                                                  \n",
       "                 2⋅r                                                                                                                   \n",
       "                                                                                                                                       \n",
       "                                                                                                                                       \n",
       "                                                                                                                                       \n",
       "                                                                                                                                    ∂  \n",
       "                                                                                                                                  r⋅──(\n",
       "                                                                                                                                    ∂z \n",
       "                                                                                                                                  ─────\n",
       "                                                                                                                                       \n",
       "                                                                                                                                       \n",
       "\n",
       "                                                                                                                                       \n",
       "                                                                                                                                       \n",
       "                                                                                                                                   0.25\n",
       "                                                                                                                                       \n",
       "                                                                                                                                       \n",
       "              0                                                                                                                    ────\n",
       "                                                                                                                                       \n",
       "                                                                                                                                       \n",
       "                                                                                                                                       \n",
       "        2        ⎛     ⎛  2              2         ⎞                2                2⎞                                                \n",
       "       ⎞         ⎜   2 ⎜ ∂              ∂          ⎟   ⎛∂          ⎞    ⎛∂          ⎞ ⎟                                                \n",
       "(r, z))⎟    0.25⋅⎜2⋅r ⋅⎜───(ν(r, z)) + ───(ν(r, z))⎟ - ⎜──(N(r, z))⎟  - ⎜──(N(r, z))⎟ ⎟                                                \n",
       "       ⎠         ⎜     ⎜  2              2         ⎟   ⎝∂r         ⎠    ⎝∂z         ⎠ ⎟                                                \n",
       "                 ⎝     ⎝∂r             ∂z          ⎠                                  ⎠                                                \n",
       "───────── + ───────────────────────────────────────────────────────────────────────────                                                \n",
       "                                                  2                                                                                    \n",
       "                                                 r                                                                                     \n",
       "                                                                                                                                       \n",
       "                                                                                                                     ⎛     ⎛  2        \n",
       "                                                                                           ⎛       2        2      ⎞ ⎜   2 ⎜ ∂         \n",
       "                                                                                           ⎝- 0.5⋅r  + 0.5⋅N (r, z)⎠⋅⎜2⋅r ⋅⎜───(ν(r, z)\n",
       "                                                                                                                     ⎜     ⎜  2        \n",
       "                                                                                                                     ⎝     ⎝∂r         \n",
       "              0                                                                          - ────────────────────────────────────────────\n",
       "                                                                                                                                       \n",
       "                                                                                                                                       \n",
       "                                                                                                                                       \n",
       "                                                                                                                                       \n",
       "                                                                                                                                       \n",
       "           ∂           ∂                                                                                                               \n",
       "ν(r, z)) + ──(N(r, z))⋅──(N(r, z))                                                                                                     \n",
       "           ∂r          ∂z                                                                                                              \n",
       "──────────────────────────────────                                                                                                     \n",
       "                2                                                                                                                      \n",
       "             2⋅r                                                                                                                       \n",
       "\n",
       " ⎛     ⎛  2              2         ⎞                2                2⎞                     ⎛       2                 2                \n",
       " ⎜   2 ⎜ ∂              ∂          ⎟   ⎛∂          ⎞    ⎛∂          ⎞ ⎟          -ν(r, z)   ⎜   2  ∂              2  ∂               ∂ \n",
       "⋅⎜2⋅r ⋅⎜───(ν(r, z)) + ───(ν(r, z))⎟ - ⎜──(N(r, z))⎟  - ⎜──(N(r, z))⎟ ⎟⋅N(r, z)⋅ℯ           ⎜- r ⋅───(N(r, z)) - r ⋅───(N(r, z)) + r⋅──\n",
       " ⎜     ⎜  2              2         ⎟   ⎝∂r         ⎠    ⎝∂z         ⎠ ⎟                     ⎜       2                 2              ∂r\n",
       " ⎝     ⎝∂r             ∂z          ⎠                                  ⎠                     ⎝     ∂r                ∂z                 \n",
       "───────────────────────────────────────────────────────────────────────────────────────── + ───────────────────────────────────────────\n",
       "                                           2                                                                                           \n",
       "                                          r                                                                                            \n",
       "                                                                                                                                       \n",
       "                                                                                                                                       \n",
       "                                                                                                                                       \n",
       "                                                                                                                                       \n",
       "                                                                                                                                       \n",
       "                                                                                                                                       \n",
       "                                                                                                    0                                  \n",
       "                                                                                                                                       \n",
       "                                                                                                                                       \n",
       "                                                                                                                                       \n",
       "      2         ⎞                2                2⎞             ⎛               2                           2                         \n",
       "     ∂          ⎟   ⎛∂          ⎞    ⎛∂          ⎞ ⎟  -ν(r, z)   ⎜   2          ∂                2          ∂              2 ⎛∂        \n",
       ") + ───(ν(r, z))⎟ - ⎜──(N(r, z))⎟  - ⎜──(N(r, z))⎟ ⎟⋅ℯ           ⎜2⋅r ⋅N(r, z)⋅───(N(r, z)) + 2⋅r ⋅N(r, z)⋅───(N(r, z)) + r ⋅⎜──(N(r, z\n",
       "      2         ⎟   ⎝∂r         ⎠    ⎝∂z         ⎠ ⎟             ⎜               2                           2               ⎝∂r       \n",
       "    ∂z          ⎠                                  ⎠             ⎝             ∂r                          ∂z                          \n",
       "────────────────────────────────────────────────────────────── + ──────────────────────────────────────────────────────────────────────\n",
       "          2                                                                                                                            \n",
       "       2⋅r                                                                                                                             \n",
       "                                                                                                                                       \n",
       "                                                                                                                                       \n",
       "                                                                                                                                       \n",
       "                                                                                                                                       \n",
       "                                                                                                                                       \n",
       "                                                                                                                                       \n",
       "                                                                                                    0                                  \n",
       "                                                                                                                                       \n",
       "                                                                                                                                       \n",
       "\n",
       "                                 2                        2⎞                                                                           \n",
       "                    ⎛∂          ⎞            ⎛∂          ⎞ ⎟  -ν(r, z)                                                                 \n",
       "(N(r, z)) - N(r, z)⋅⎜──(N(r, z))⎟  - N(r, z)⋅⎜──(N(r, z))⎟ ⎟⋅ℯ                                                                         \n",
       "                    ⎝∂r         ⎠            ⎝∂z         ⎠ ⎟                                                                           \n",
       "                                                           ⎠                                                                           \n",
       "──────────────────────────────────────────────────────────────────────                                                                 \n",
       "               2                                                                                                                       \n",
       "            2⋅r                                                                                                                        \n",
       "                                                                                                                                       \n",
       "                                                                                                                                       \n",
       "                                                                                                                                       \n",
       "                                                                                                                                       \n",
       "                                                                                                                                       \n",
       "                                                                                                                                       \n",
       "                                                                                                                                       \n",
       "                                                                                                                                       \n",
       "                                                                                                                                       \n",
       "                                                                                                                                       \n",
       "   2                   2                                                   2                         2⎞                                \n",
       "  ⎞     2 ⎛∂          ⎞                ∂              2       ⎛∂          ⎞     2       ⎛∂          ⎞ ⎟  -ν(r, z)                      \n",
       "))⎟  + r ⋅⎜──(N(r, z))⎟  - 2⋅r⋅N(r, z)⋅──(N(r, z)) + N (r, z)⋅⎜──(N(r, z))⎟  + N (r, z)⋅⎜──(N(r, z))⎟ ⎟⋅ℯ                              \n",
       "  ⎠       ⎝∂z         ⎠                ∂r                     ⎝∂r         ⎠             ⎝∂z         ⎠ ⎟                                \n",
       "                                                                                                      ⎠                                \n",
       "─────────────────────────────────────────────────────────────────────────────────────────────────────────────────                      \n",
       "                       2                                                                                                               \n",
       "                    2⋅r                                                                                                                \n",
       "                                                                                                                                       \n",
       "                                                                                                                       2              2\n",
       "                                                                                                                      ∂              ∂ \n",
       "                                                                                                                     ───(ν(r, z))   ───\n",
       "                                                                                                                       2              2\n",
       "                                                                                                                     ∂r             ∂z \n",
       "                                                                                                                   - ──────────── - ───\n",
       "                                                                                                                          2            \n",
       "                                                                                                                                       \n",
       "\n",
       "                                                                                                                      ⎤\n",
       "                                                                                                                      ⎥\n",
       "                                                                                                                      ⎥\n",
       "                                                                                                                      ⎥\n",
       "                                                                                                                      ⎥\n",
       "                                                0                                                                     ⎥\n",
       "                                                                                                                      ⎥\n",
       "                                                                                                                      ⎥\n",
       "                                                                                                                      ⎥\n",
       "                                                                                                                      ⎥\n",
       "                                                                                                                      ⎥\n",
       "                               ∂             ∂           ∂                                                            ⎥\n",
       "                             r⋅──(ν(r, z)) + ──(N(r, z))⋅──(N(r, z))                                                  ⎥\n",
       "                               ∂z            ∂r          ∂z                                                           ⎥\n",
       "                             ───────────────────────────────────────                                                  ⎥\n",
       "                                                  2                                                                   ⎥\n",
       "                                               2⋅r                                                                    ⎥\n",
       "                                                                                                                      ⎥\n",
       "                                                                                                                      ⎥\n",
       "                                                                                                                      ⎥\n",
       "                                                                                                                      ⎥\n",
       "                                                                                                                      ⎥\n",
       "                                                                                                                      ⎥\n",
       "                                                0                                                                     ⎥\n",
       "                                                                                                                      ⎥\n",
       "                                                                                                                      ⎥\n",
       "                                                                                                                      ⎥\n",
       "                               ⎛     ⎛  2              2         ⎞                2                2⎞                 ⎥\n",
       "                               ⎜   2 ⎜ ∂              ∂          ⎟   ⎛∂          ⎞    ⎛∂          ⎞ ⎟                2⎥\n",
       "(ν(r, z))   ∂             0.25⋅⎜2⋅r ⋅⎜───(ν(r, z)) + ───(ν(r, z))⎟ - ⎜──(N(r, z))⎟  - ⎜──(N(r, z))⎟ ⎟   ⎛∂          ⎞ ⎥\n",
       "            ──(ν(r, z))        ⎜     ⎜  2              2         ⎟   ⎝∂r         ⎠    ⎝∂z         ⎠ ⎟   ⎜──(N(r, z))⎟ ⎥\n",
       "            ∂r                 ⎝     ⎝∂r             ∂z          ⎠                                  ⎠   ⎝∂z         ⎠ ⎥\n",
       "───────── - ─────────── + ─────────────────────────────────────────────────────────────────────────── + ──────────────⎥\n",
       "  2             2⋅r                                             2                                               2     ⎥\n",
       "                                                               r                                             2⋅r      ⎦"
      ]
     },
     "execution_count": 19,
     "metadata": {},
     "output_type": "execute_result"
    }
   ],
   "source": [
    "einst = EinsteinTensor.from_metric(metric)\n",
    "einst.tensor()"
   ]
  },
  {
   "cell_type": "code",
   "execution_count": 20,
   "id": "dc31fb38",
   "metadata": {},
   "outputs": [],
   "source": [
    "#  rm1 = RiemannCurvatureTensor.from_christoffels(ch)\n",
    "#  rm1.tensor()"
   ]
  },
  {
   "cell_type": "code",
   "execution_count": 21,
   "id": "b85d6ffe",
   "metadata": {},
   "outputs": [],
   "source": [
    "#  weyl = WeylTensor.from_metric(metric)\n",
    "#  weyl.tensor()"
   ]
  },
  {
   "cell_type": "code",
   "execution_count": 22,
   "id": "b062412a",
   "metadata": {},
   "outputs": [
    {
     "data": {
      "text/latex": [
       "$\\displaystyle \\left[\\begin{matrix}\\frac{\\left(\\left(\\frac{\\partial}{\\partial r} N{\\left(r,z \\right)}\\right)^{2} + \\left(\\frac{\\partial}{\\partial z} N{\\left(r,z \\right)}\\right)^{2}\\right) e^{- \\nu{\\left(r,z \\right)}}}{2 r^{2}} & 0 & \\frac{\\left(- r^{2} \\frac{\\partial^{2}}{\\partial r^{2}} N{\\left(r,z \\right)} - r^{2} \\frac{\\partial^{2}}{\\partial z^{2}} N{\\left(r,z \\right)} + r \\frac{\\partial}{\\partial r} N{\\left(r,z \\right)} - N{\\left(r,z \\right)} \\left(\\frac{\\partial}{\\partial r} N{\\left(r,z \\right)}\\right)^{2} - N{\\left(r,z \\right)} \\left(\\frac{\\partial}{\\partial z} N{\\left(r,z \\right)}\\right)^{2}\\right) e^{- \\nu{\\left(r,z \\right)}}}{2 r^{2}} & 0\\\\0 & \\frac{- r^{2} \\left(\\frac{\\partial^{2}}{\\partial r^{2}} \\nu{\\left(r,z \\right)} + \\frac{\\partial^{2}}{\\partial z^{2}} \\nu{\\left(r,z \\right)}\\right) + r \\frac{\\partial}{\\partial r} \\nu{\\left(r,z \\right)} + \\left(\\frac{\\partial}{\\partial r} N{\\left(r,z \\right)}\\right)^{2}}{2 r^{2}} & 0 & \\frac{r \\frac{\\partial}{\\partial z} \\nu{\\left(r,z \\right)} + \\frac{\\partial}{\\partial r} N{\\left(r,z \\right)} \\frac{\\partial}{\\partial z} N{\\left(r,z \\right)}}{2 r^{2}}\\\\\\frac{\\left(- r^{2} \\frac{\\partial^{2}}{\\partial r^{2}} N{\\left(r,z \\right)} - r^{2} \\frac{\\partial^{2}}{\\partial z^{2}} N{\\left(r,z \\right)} + r \\frac{\\partial}{\\partial r} N{\\left(r,z \\right)} - N{\\left(r,z \\right)} \\left(\\frac{\\partial}{\\partial r} N{\\left(r,z \\right)}\\right)^{2} - N{\\left(r,z \\right)} \\left(\\frac{\\partial}{\\partial z} N{\\left(r,z \\right)}\\right)^{2}\\right) e^{- \\nu{\\left(r,z \\right)}}}{2 r^{2}} & 0 & \\frac{\\left(2 r^{2} N{\\left(r,z \\right)} \\frac{\\partial^{2}}{\\partial r^{2}} N{\\left(r,z \\right)} + 2 r^{2} N{\\left(r,z \\right)} \\frac{\\partial^{2}}{\\partial z^{2}} N{\\left(r,z \\right)} + r^{2} \\left(\\frac{\\partial}{\\partial r} N{\\left(r,z \\right)}\\right)^{2} + r^{2} \\left(\\frac{\\partial}{\\partial z} N{\\left(r,z \\right)}\\right)^{2} - 2 r N{\\left(r,z \\right)} \\frac{\\partial}{\\partial r} N{\\left(r,z \\right)} + N^{2}{\\left(r,z \\right)} \\left(\\frac{\\partial}{\\partial r} N{\\left(r,z \\right)}\\right)^{2} + N^{2}{\\left(r,z \\right)} \\left(\\frac{\\partial}{\\partial z} N{\\left(r,z \\right)}\\right)^{2}\\right) e^{- \\nu{\\left(r,z \\right)}}}{2 r^{2}} & 0\\\\0 & \\frac{r \\frac{\\partial}{\\partial z} \\nu{\\left(r,z \\right)} + \\frac{\\partial}{\\partial r} N{\\left(r,z \\right)} \\frac{\\partial}{\\partial z} N{\\left(r,z \\right)}}{2 r^{2}} & 0 & \\frac{- r^{2} \\left(\\frac{\\partial^{2}}{\\partial r^{2}} \\nu{\\left(r,z \\right)} + \\frac{\\partial^{2}}{\\partial z^{2}} \\nu{\\left(r,z \\right)}\\right) - r \\frac{\\partial}{\\partial r} \\nu{\\left(r,z \\right)} + \\left(\\frac{\\partial}{\\partial z} N{\\left(r,z \\right)}\\right)^{2}}{2 r^{2}}\\end{matrix}\\right]$"
      ],
      "text/plain": [
       "⎡                                                                                                                                      \n",
       "⎢                                   ⎛             2                2⎞                                                                  \n",
       "⎢                                   ⎜⎛∂          ⎞    ⎛∂          ⎞ ⎟  -ν(r, z)                                                        \n",
       "⎢                                   ⎜⎜──(N(r, z))⎟  + ⎜──(N(r, z))⎟ ⎟⋅ℯ                                                                \n",
       "⎢                                   ⎝⎝∂r         ⎠    ⎝∂z         ⎠ ⎠                                                                  \n",
       "⎢                                   ───────────────────────────────────────────                                                        \n",
       "⎢                                                          2                                                                           \n",
       "⎢                                                       2⋅r                                                                            \n",
       "⎢                                                                                                                                      \n",
       "⎢                                                                                                                        ⎛  2          \n",
       "⎢                                                                                                                      2 ⎜ ∂           \n",
       "⎢                                                                                                                   - r ⋅⎜───(ν(r, z)) \n",
       "⎢                                                                                                                        ⎜  2          \n",
       "⎢                                                                                                                        ⎝∂r           \n",
       "⎢                                                        0                                                          ───────────────────\n",
       "⎢                                                                                                                                      \n",
       "⎢                                                                                                                                      \n",
       "⎢                                                                                                                                      \n",
       "⎢⎛       2                 2                                                 2                        2⎞                               \n",
       "⎢⎜   2  ∂              2  ∂               ∂                     ⎛∂          ⎞            ⎛∂          ⎞ ⎟  -ν(r, z)                     \n",
       "⎢⎜- r ⋅───(N(r, z)) - r ⋅───(N(r, z)) + r⋅──(N(r, z)) - N(r, z)⋅⎜──(N(r, z))⎟  - N(r, z)⋅⎜──(N(r, z))⎟ ⎟⋅ℯ                             \n",
       "⎢⎜       2                 2              ∂r                    ⎝∂r         ⎠            ⎝∂z         ⎠ ⎟                               \n",
       "⎢⎝     ∂r                ∂z                                                                            ⎠                               \n",
       "⎢─────────────────────────────────────────────────────────────────────────────────────────────────────────────────                     \n",
       "⎢                                                          2                                                                           \n",
       "⎢                                                       2⋅r                                                                            \n",
       "⎢                                                                                                                                      \n",
       "⎢                                                                                                                                      \n",
       "⎢                                                                                                                                      \n",
       "⎢                                                                                                                                   ∂  \n",
       "⎢                                                                                                                                 r⋅──(\n",
       "⎢                                                                                                                                   ∂z \n",
       "⎢                                                        0                                                                        ─────\n",
       "⎢                                                                                                                                      \n",
       "⎣                                                                                                                                      \n",
       "\n",
       "                                                                                     ⎛       2                 2                       \n",
       "                                                                                     ⎜   2  ∂              2  ∂               ∂        \n",
       "                                                                                     ⎜- r ⋅───(N(r, z)) - r ⋅───(N(r, z)) + r⋅──(N(r, z\n",
       "                                                                                     ⎜       2                 2              ∂r       \n",
       "                                                                                     ⎝     ∂r                ∂z                        \n",
       "              0                                                                      ──────────────────────────────────────────────────\n",
       "                                                                                                                                       \n",
       "                                                                                                                                       \n",
       "                                                                                                                                       \n",
       "    2         ⎞                                2                                                                                       \n",
       "   ∂          ⎟     ∂             ⎛∂          ⎞                                                                                        \n",
       "+ ───(ν(r, z))⎟ + r⋅──(ν(r, z)) + ⎜──(N(r, z))⎟                                                                                        \n",
       "    2         ⎟     ∂r            ⎝∂r         ⎠                                                                                        \n",
       "  ∂z          ⎠                                                                                                                        \n",
       "────────────────────────────────────────────────                                                                                       \n",
       "                2                                                                                                                      \n",
       "             2⋅r                                                                                                                       \n",
       "                                                                                                                                       \n",
       "                                                  ⎛               2                           2                            2           \n",
       "                                                  ⎜   2          ∂                2          ∂              2 ⎛∂          ⎞     2 ⎛∂   \n",
       "                                                  ⎜2⋅r ⋅N(r, z)⋅───(N(r, z)) + 2⋅r ⋅N(r, z)⋅───(N(r, z)) + r ⋅⎜──(N(r, z))⎟  + r ⋅⎜──(N\n",
       "                                                  ⎜               2                           2               ⎝∂r         ⎠       ⎝∂z  \n",
       "                                                  ⎝             ∂r                          ∂z                                         \n",
       "              0                                   ─────────────────────────────────────────────────────────────────────────────────────\n",
       "                                                                                                                                       \n",
       "                                                                                                                                       \n",
       "                                                                                                                                       \n",
       "                                                                                                                                       \n",
       "                                                                                                                                       \n",
       "           ∂           ∂                                                                                                               \n",
       "ν(r, z)) + ──(N(r, z))⋅──(N(r, z))                                                                                                     \n",
       "           ∂r          ∂z                                                                                                              \n",
       "──────────────────────────────────                                                                                                     \n",
       "                2                                                                                                                      \n",
       "             2⋅r                                                                                                                       \n",
       "\n",
       "                          2                        2⎞                                                                                  \n",
       "             ⎛∂          ⎞            ⎛∂          ⎞ ⎟  -ν(r, z)                                                                        \n",
       ")) - N(r, z)⋅⎜──(N(r, z))⎟  - N(r, z)⋅⎜──(N(r, z))⎟ ⎟⋅ℯ                                                                                \n",
       "             ⎝∂r         ⎠            ⎝∂z         ⎠ ⎟                                                                                  \n",
       "                                                    ⎠                                                                                  \n",
       "───────────────────────────────────────────────────────────────                                                                      0 \n",
       "        2                                                                                                                              \n",
       "     2⋅r                                                                                                                               \n",
       "                                                                                                                                       \n",
       "                                                                                                                                       \n",
       "                                                                                                                                       \n",
       "                                                                                                                    ∂             ∂    \n",
       "                                                                                                                  r⋅──(ν(r, z)) + ──(N(\n",
       "                                                                                                                    ∂z            ∂r   \n",
       "      0                                                                                                           ─────────────────────\n",
       "                                                                                                                                       \n",
       "                                                                                                                                    2⋅r\n",
       "                                                                                                                                       \n",
       "        2                                                   2                         2⎞                                               \n",
       "       ⎞                ∂              2       ⎛∂          ⎞     2       ⎛∂          ⎞ ⎟  -ν(r, z)                                     \n",
       "(r, z))⎟  - 2⋅r⋅N(r, z)⋅──(N(r, z)) + N (r, z)⋅⎜──(N(r, z))⎟  + N (r, z)⋅⎜──(N(r, z))⎟ ⎟⋅ℯ                                             \n",
       "       ⎠                ∂r                     ⎝∂r         ⎠             ⎝∂z         ⎠ ⎟                                               \n",
       "                                                                                       ⎠                                               \n",
       "──────────────────────────────────────────────────────────────────────────────────────────────────                                   0 \n",
       "        2                                                                                                                              \n",
       "     2⋅r                                                                                                                               \n",
       "                                                                                                                                       \n",
       "                                                                                                         ⎛  2              2         ⎞ \n",
       "                                                                                                       2 ⎜ ∂              ∂          ⎟ \n",
       "                                                                                                    - r ⋅⎜───(ν(r, z)) + ───(ν(r, z))⎟ \n",
       "                                                                                                         ⎜  2              2         ⎟ \n",
       "                                                                                                         ⎝∂r             ∂z          ⎠ \n",
       "      0                                                                                             ───────────────────────────────────\n",
       "                                                                                                                                       \n",
       "                                                                                                                                    2⋅r\n",
       "\n",
       "                                ⎤\n",
       "                                ⎥\n",
       "                                ⎥\n",
       "                                ⎥\n",
       "                                ⎥\n",
       "                                ⎥\n",
       "                                ⎥\n",
       "                                ⎥\n",
       "                                ⎥\n",
       "                                ⎥\n",
       "                                ⎥\n",
       "       ∂                        ⎥\n",
       "r, z))⋅──(N(r, z))              ⎥\n",
       "       ∂z                       ⎥\n",
       "──────────────────              ⎥\n",
       "2                               ⎥\n",
       "                                ⎥\n",
       "                                ⎥\n",
       "                                ⎥\n",
       "                                ⎥\n",
       "                                ⎥\n",
       "                                ⎥\n",
       "                                ⎥\n",
       "                                ⎥\n",
       "                                ⎥\n",
       "                                ⎥\n",
       "                                ⎥\n",
       "                               2⎥\n",
       "    ∂             ⎛∂          ⎞ ⎥\n",
       "- r⋅──(ν(r, z)) + ⎜──(N(r, z))⎟ ⎥\n",
       "    ∂r            ⎝∂z         ⎠ ⎥\n",
       "                                ⎥\n",
       "────────────────────────────────⎥\n",
       "2                               ⎥\n",
       "                                ⎦"
      ]
     },
     "execution_count": 22,
     "metadata": {},
     "output_type": "execute_result"
    }
   ],
   "source": [
    "ricciSimplified = simplify(Ric.tensor())\n",
    "ricciSimplified"
   ]
  },
  {
   "cell_type": "code",
   "execution_count": 23,
   "id": "59c7417f",
   "metadata": {},
   "outputs": [
    {
     "data": {
      "text/latex": [
       "$\\displaystyle \\left[\\begin{matrix}\\frac{\\left(- 1.0 r^{2} \\left(\\frac{\\partial^{2}}{\\partial r^{2}} \\nu{\\left(r,z \\right)} + \\frac{\\partial^{2}}{\\partial z^{2}} \\nu{\\left(r,z \\right)}\\right) + 1.5 \\left(\\frac{\\partial}{\\partial r} N{\\left(r,z \\right)}\\right)^{2} + 1.5 \\left(\\frac{\\partial}{\\partial z} N{\\left(r,z \\right)}\\right)^{2}\\right) e^{- \\nu{\\left(r,z \\right)}}}{2 r^{2}} & 0 & \\frac{0.5 \\left(1.0 r^{2} N{\\left(r,z \\right)} \\frac{\\partial^{2}}{\\partial r^{2}} \\nu{\\left(r,z \\right)} + 1.0 r^{2} N{\\left(r,z \\right)} \\frac{\\partial^{2}}{\\partial z^{2}} \\nu{\\left(r,z \\right)} - 1.0 r^{2} \\frac{\\partial^{2}}{\\partial r^{2}} N{\\left(r,z \\right)} - 1.0 r^{2} \\frac{\\partial^{2}}{\\partial z^{2}} N{\\left(r,z \\right)} + 1.0 r \\frac{\\partial}{\\partial r} N{\\left(r,z \\right)} - 1.5 N{\\left(r,z \\right)} \\left(\\frac{\\partial}{\\partial r} N{\\left(r,z \\right)}\\right)^{2} - 1.5 N{\\left(r,z \\right)} \\left(\\frac{\\partial}{\\partial z} N{\\left(r,z \\right)}\\right)^{2}\\right) e^{- \\nu{\\left(r,z \\right)}}}{r^{2}} & 0\\\\0 & \\frac{r \\frac{\\partial}{\\partial r} \\nu{\\left(r,z \\right)} + 0.5 \\left(\\frac{\\partial}{\\partial r} N{\\left(r,z \\right)}\\right)^{2} - 0.5 \\left(\\frac{\\partial}{\\partial z} N{\\left(r,z \\right)}\\right)^{2}}{2 r^{2}} & 0 & \\frac{r \\frac{\\partial}{\\partial z} \\nu{\\left(r,z \\right)} + \\frac{\\partial}{\\partial r} N{\\left(r,z \\right)} \\frac{\\partial}{\\partial z} N{\\left(r,z \\right)}}{2 r^{2}}\\\\\\frac{0.5 \\left(1.0 r^{2} N{\\left(r,z \\right)} \\frac{\\partial^{2}}{\\partial r^{2}} \\nu{\\left(r,z \\right)} + 1.0 r^{2} N{\\left(r,z \\right)} \\frac{\\partial^{2}}{\\partial z^{2}} \\nu{\\left(r,z \\right)} - 1.0 r^{2} \\frac{\\partial^{2}}{\\partial r^{2}} N{\\left(r,z \\right)} - 1.0 r^{2} \\frac{\\partial^{2}}{\\partial z^{2}} N{\\left(r,z \\right)} + 1.0 r \\frac{\\partial}{\\partial r} N{\\left(r,z \\right)} - 1.5 N{\\left(r,z \\right)} \\left(\\frac{\\partial}{\\partial r} N{\\left(r,z \\right)}\\right)^{2} - 1.5 N{\\left(r,z \\right)} \\left(\\frac{\\partial}{\\partial z} N{\\left(r,z \\right)}\\right)^{2}\\right) e^{- \\nu{\\left(r,z \\right)}}}{r^{2}} & 0 & \\frac{\\left(2 r^{2} N{\\left(r,z \\right)} \\frac{\\partial^{2}}{\\partial r^{2}} N{\\left(r,z \\right)} + 2 r^{2} N{\\left(r,z \\right)} \\frac{\\partial^{2}}{\\partial z^{2}} N{\\left(r,z \\right)} + r^{2} \\left(\\frac{\\partial}{\\partial r} N{\\left(r,z \\right)}\\right)^{2} + r^{2} \\left(\\frac{\\partial}{\\partial z} N{\\left(r,z \\right)}\\right)^{2} - 2 r N{\\left(r,z \\right)} \\frac{\\partial}{\\partial r} N{\\left(r,z \\right)} - 0.5 \\left(r^{2} - N^{2}{\\left(r,z \\right)}\\right) \\left(- 2 r^{2} \\left(\\frac{\\partial^{2}}{\\partial r^{2}} \\nu{\\left(r,z \\right)} + \\frac{\\partial^{2}}{\\partial z^{2}} \\nu{\\left(r,z \\right)}\\right) + \\left(\\frac{\\partial}{\\partial r} N{\\left(r,z \\right)}\\right)^{2} + \\left(\\frac{\\partial}{\\partial z} N{\\left(r,z \\right)}\\right)^{2}\\right) + N^{2}{\\left(r,z \\right)} \\left(\\frac{\\partial}{\\partial r} N{\\left(r,z \\right)}\\right)^{2} + N^{2}{\\left(r,z \\right)} \\left(\\frac{\\partial}{\\partial z} N{\\left(r,z \\right)}\\right)^{2}\\right) e^{- \\nu{\\left(r,z \\right)}}}{2 r^{2}} & 0\\\\0 & \\frac{r \\frac{\\partial}{\\partial z} \\nu{\\left(r,z \\right)} + \\frac{\\partial}{\\partial r} N{\\left(r,z \\right)} \\frac{\\partial}{\\partial z} N{\\left(r,z \\right)}}{2 r^{2}} & 0 & \\frac{0.5 \\left(- 1.0 r \\frac{\\partial}{\\partial r} \\nu{\\left(r,z \\right)} - 0.5 \\left(\\frac{\\partial}{\\partial r} N{\\left(r,z \\right)}\\right)^{2} + 0.5 \\left(\\frac{\\partial}{\\partial z} N{\\left(r,z \\right)}\\right)^{2}\\right)}{r^{2}}\\end{matrix}\\right]$"
      ],
      "text/plain": [
       "⎡                                                 ⎛     ⎛  2              2         ⎞                    2                    2⎞       \n",
       "⎢                                                 ⎜   2 ⎜ ∂              ∂          ⎟       ⎛∂          ⎞        ⎛∂          ⎞ ⎟  -ν(r,\n",
       "⎢                                                 ⎜- r ⋅⎜───(ν(r, z)) + ───(ν(r, z))⎟ + 1.5⋅⎜──(N(r, z))⎟  + 1.5⋅⎜──(N(r, z))⎟ ⎟⋅ℯ     \n",
       "⎢                                                 ⎜     ⎜  2              2         ⎟       ⎝∂r         ⎠        ⎝∂z         ⎠ ⎟       \n",
       "⎢                                                 ⎝     ⎝∂r             ∂z          ⎠                                          ⎠       \n",
       "⎢                                                 ─────────────────────────────────────────────────────────────────────────────────────\n",
       "⎢                                                                                              2                                       \n",
       "⎢                                                                                           2⋅r                                        \n",
       "⎢                                                                                                                                      \n",
       "⎢                                                                                                                                      \n",
       "⎢                                                                                                                                      \n",
       "⎢                                                                                                                                      \n",
       "⎢                                                                                                                                      \n",
       "⎢                                                                                             0                                        \n",
       "⎢                                                                                                                                      \n",
       "⎢                                                                                                                                      \n",
       "⎢                                                                                                                                      \n",
       "⎢    ⎛                 2                             2                 2                 2                                             \n",
       "⎢    ⎜     2          ∂                  2          ∂              2  ∂              2  ∂                   ∂                         ⎛\n",
       "⎢0.5⋅⎜1.0⋅r ⋅N(r, z)⋅───(ν(r, z)) + 1.0⋅r ⋅N(r, z)⋅───(ν(r, z)) - r ⋅───(N(r, z)) - r ⋅───(N(r, z)) + 1.0⋅r⋅──(N(r, z)) - 1.5⋅N(r, z)⋅⎜\n",
       "⎢    ⎜                 2                             2                 2                 2                  ∂r                        ⎝\n",
       "⎢    ⎝               ∂r                            ∂z                ∂r                ∂z                                              \n",
       "⎢──────────────────────────────────────────────────────────────────────────────────────────────────────────────────────────────────────\n",
       "⎢                                                                                              2                                       \n",
       "⎢                                                                                             r                                        \n",
       "⎢                                                                                                                                      \n",
       "⎢                                                                                                                                      \n",
       "⎢                                                                                                                                      \n",
       "⎢                                                                                                                                      \n",
       "⎢                                                                                                                                      \n",
       "⎢                                                                                             0                                        \n",
       "⎢                                                                                                                                      \n",
       "⎣                                                                                                                                      \n",
       "\n",
       "                                                                                                                                       \n",
       " z)                                                                                                                                    \n",
       "                                                                                                                                       \n",
       "                                                                                                                                       \n",
       "                                                                                                                                       \n",
       "───                                                                               0                                                    \n",
       "                                                                                                                                       \n",
       "                                                                                                                                       \n",
       "                                                                                                                                       \n",
       "                                                                                        2                    2                         \n",
       "                                                         ∂                 ⎛∂          ⎞        ⎛∂          ⎞                          \n",
       "                                                       r⋅──(ν(r, z)) + 0.5⋅⎜──(N(r, z))⎟  - 0.5⋅⎜──(N(r, z))⎟                          \n",
       "                                                         ∂r                ⎝∂r         ⎠        ⎝∂z         ⎠                          \n",
       "                                                       ───────────────────────────────────────────────────────                         \n",
       "                                                                                    2                                                  \n",
       "                                                                                 2⋅r                                                   \n",
       "                                                                                                                                       \n",
       "            2                            2⎞                                                                     ⎛               2      \n",
       "∂          ⎞                ⎛∂          ⎞ ⎟  -ν(r, z)                                                           ⎜   2          ∂       \n",
       "──(N(r, z))⎟  - 1.5⋅N(r, z)⋅⎜──(N(r, z))⎟ ⎟⋅ℯ                                                                   ⎜2⋅r ⋅N(r, z)⋅───(N(r, \n",
       "∂r         ⎠                ⎝∂z         ⎠ ⎟                                                                     ⎜               2      \n",
       "                                          ⎠                                                                     ⎝             ∂r       \n",
       "─────────────────────────────────────────────────────                             0                             ───────────────────────\n",
       "                                                                                                                                       \n",
       "                                                                                                                                       \n",
       "                                                                                                                                       \n",
       "                                                                                                                                       \n",
       "                                                                 ∂             ∂           ∂                                           \n",
       "                                                               r⋅──(ν(r, z)) + ──(N(r, z))⋅──(N(r, z))                                 \n",
       "                                                                 ∂z            ∂r          ∂z                                          \n",
       "                                                               ───────────────────────────────────────                                 \n",
       "                                                                                    2                                                  \n",
       "                                                                                 2⋅r                                                   \n",
       "\n",
       "                          ⎛                 2                             2                 2                 2                        \n",
       "                          ⎜     2          ∂                  2          ∂              2  ∂              2  ∂                   ∂     \n",
       "                      0.5⋅⎜1.0⋅r ⋅N(r, z)⋅───(ν(r, z)) + 1.0⋅r ⋅N(r, z)⋅───(ν(r, z)) - r ⋅───(N(r, z)) - r ⋅───(N(r, z)) + 1.0⋅r⋅──(N(r\n",
       "                          ⎜                 2                             2                 2                 2                  ∂r    \n",
       "                          ⎝               ∂r                            ∂z                ∂r                ∂z                         \n",
       "                      ─────────────────────────────────────────────────────────────────────────────────────────────────────────────────\n",
       "                                                                                                                    2                  \n",
       "                                                                                                                   r                   \n",
       "                                                                                                                                       \n",
       "                                                                                                                                       \n",
       "                                                                                                                                       \n",
       "                                                                                                                                       \n",
       "                                                                                                                                       \n",
       "                                                                                                                   0                   \n",
       "                                                                                                                                       \n",
       "                                                                                                                                       \n",
       "                                                                                                                                       \n",
       "                     2                            2                   2                                                 ⎛       ⎛  2   \n",
       "         2          ∂              2 ⎛∂          ⎞     2 ⎛∂          ⎞                ∂                 ⎛ 2    2      ⎞ ⎜     2 ⎜ ∂    \n",
       "z)) + 2⋅r ⋅N(r, z)⋅───(N(r, z)) + r ⋅⎜──(N(r, z))⎟  + r ⋅⎜──(N(r, z))⎟  - 2⋅r⋅N(r, z)⋅──(N(r, z)) - 0.5⋅⎝r  - N (r, z)⎠⋅⎜- 2⋅r ⋅⎜───(ν(\n",
       "                     2               ⎝∂r         ⎠       ⎝∂z         ⎠                ∂r                                ⎜       ⎜  2   \n",
       "                   ∂z                                                                                                   ⎝       ⎝∂r    \n",
       "───────────────────────────────────────────────────────────────────────────────────────────────────────────────────────────────────────\n",
       "                                                                                                                     2                 \n",
       "                                                                                                                  2⋅r                  \n",
       "                                                                                                                                       \n",
       "                                                                                                                                       \n",
       "                                                                                                                                       \n",
       "                                                                                                                                       \n",
       "                                                                                                                                       \n",
       "                                                                                                                   0                   \n",
       "                                                                                                                                       \n",
       "                                                                                                                                       \n",
       "\n",
       "                                 2                            2⎞                                                                       \n",
       "                    ⎛∂          ⎞                ⎛∂          ⎞ ⎟  -ν(r, z)                                                             \n",
       ", z)) - 1.5⋅N(r, z)⋅⎜──(N(r, z))⎟  - 1.5⋅N(r, z)⋅⎜──(N(r, z))⎟ ⎟⋅ℯ                                                                     \n",
       "                    ⎝∂r         ⎠                ⎝∂z         ⎠ ⎟                                                                       \n",
       "                                                               ⎠                                                                       \n",
       "──────────────────────────────────────────────────────────────────────────                                                             \n",
       "                                                                                                                                       \n",
       "                                                                                                                                       \n",
       "                                                                                                                                       \n",
       "                                                                                                                                       \n",
       "                                                                                                                                       \n",
       "                                                                                                                                      r\n",
       "                                                                                                                                       \n",
       "                                                                                                                                      ─\n",
       "                                                                                                                                       \n",
       "                                                                                                                                       \n",
       "                                                                                                                                       \n",
       "           2         ⎞                2                2⎞                         2                         2⎞                         \n",
       "          ∂          ⎟   ⎛∂          ⎞    ⎛∂          ⎞ ⎟    2       ⎛∂          ⎞     2       ⎛∂          ⎞ ⎟  -ν(r, z)               \n",
       "r, z)) + ───(ν(r, z))⎟ + ⎜──(N(r, z))⎟  + ⎜──(N(r, z))⎟ ⎟ + N (r, z)⋅⎜──(N(r, z))⎟  + N (r, z)⋅⎜──(N(r, z))⎟ ⎟⋅ℯ                       \n",
       "           2         ⎟   ⎝∂r         ⎠    ⎝∂z         ⎠ ⎟            ⎝∂r         ⎠             ⎝∂z         ⎠ ⎟                         \n",
       "         ∂z          ⎠                                  ⎠                                                    ⎠                         \n",
       "────────────────────────────────────────────────────────────────────────────────────────────────────────────────────────               \n",
       "                                                                                                                                       \n",
       "                                                                                                                                       \n",
       "                                                                                                                                       \n",
       "                                                                                                                              ⎛        \n",
       "                                                                                                                              ⎜    ∂   \n",
       "                                                                                                                          0.5⋅⎜- r⋅──(ν\n",
       "                                                                                                                              ⎝    ∂r  \n",
       "                                                                                                                          ─────────────\n",
       "                                                                                                                                       \n",
       "                                                                                                                                       \n",
       "\n",
       "                                                  ⎤\n",
       "                                                  ⎥\n",
       "                                                  ⎥\n",
       "                                                  ⎥\n",
       "                                                  ⎥\n",
       "                  0                               ⎥\n",
       "                                                  ⎥\n",
       "                                                  ⎥\n",
       "                                                  ⎥\n",
       "                                                  ⎥\n",
       " ∂             ∂           ∂                      ⎥\n",
       "⋅──(ν(r, z)) + ──(N(r, z))⋅──(N(r, z))            ⎥\n",
       " ∂z            ∂r          ∂z                     ⎥\n",
       "──────────────────────────────────────            ⎥\n",
       "                    2                             ⎥\n",
       "                 2⋅r                              ⎥\n",
       "                                                  ⎥\n",
       "                                                  ⎥\n",
       "                                                  ⎥\n",
       "                                                  ⎥\n",
       "                                                  ⎥\n",
       "                                                  ⎥\n",
       "                  0                               ⎥\n",
       "                                                  ⎥\n",
       "                                                  ⎥\n",
       "                                                  ⎥\n",
       "                           2                    2⎞⎥\n",
       "              ⎛∂          ⎞        ⎛∂          ⎞ ⎟⎥\n",
       "(r, z)) - 0.5⋅⎜──(N(r, z))⎟  + 0.5⋅⎜──(N(r, z))⎟ ⎟⎥\n",
       "              ⎝∂r         ⎠        ⎝∂z         ⎠ ⎠⎥\n",
       "──────────────────────────────────────────────────⎥\n",
       "                   2                              ⎥\n",
       "                  r                               ⎦"
      ]
     },
     "execution_count": 23,
     "metadata": {},
     "output_type": "execute_result"
    }
   ],
   "source": [
    "einsteinSimplified = simplify(einst.tensor())\n",
    "einsteinSimplified"
   ]
  },
  {
   "cell_type": "code",
   "execution_count": 56,
   "id": "0805143d",
   "metadata": {},
   "outputs": [
    {
     "data": {
      "image/png": "[encoded data removed]",
      "text/latex": [
       "$\\displaystyle \\frac{\\partial^{2}}{\\partial r^{2}} \\nu{\\left(r,z \\right)} = - 1.0 \\frac{\\partial^{2}}{\\partial z^{2}} \\nu{\\left(r,z \\right)} + \\frac{1.5 \\left(\\frac{\\partial}{\\partial r} N{\\left(r,z \\right)}\\right)^{2}}{r^{2}} + \\frac{1.5 \\left(\\frac{\\partial}{\\partial z} N{\\left(r,z \\right)}\\right)^{2}}{r^{2}}$"
      ],
      "text/plain": [
       "                                                 2                    2\n",
       "                                    ⎛∂          ⎞        ⎛∂          ⎞ \n",
       "  2                2            1.5⋅⎜──(N(r, z))⎟    1.5⋅⎜──(N(r, z))⎟ \n",
       " ∂                ∂                 ⎝∂r         ⎠        ⎝∂z         ⎠ \n",
       "───(ν(r, z)) = - ───(ν(r, z)) + ────────────────── + ──────────────────\n",
       "  2                2                     2                    2        \n",
       "∂r               ∂z                     r                    r         "
      ]
     },
     "execution_count": 56,
     "metadata": {},
     "output_type": "execute_result"
    }
   ],
   "source": [
    "d2nudr2 = Eq(diff(nu,r,r), expand( solve( einsteinSimplified[0,0].args[2], diff(nu,r,r) )[0] ) )\n",
    "d2nudr2"
   ]
  },
  {
   "cell_type": "code",
   "execution_count": 59,
   "id": "07d7f474",
   "metadata": {},
   "outputs": [
    {
     "data": {
      "image/png": "[encoded data removed]",
      "text/latex": [
       "$\\displaystyle \\frac{\\partial^{2}}{\\partial r^{2}} N{\\left(r,z \\right)} = - \\frac{\\partial^{2}}{\\partial z^{2}} N{\\left(r,z \\right)} + \\frac{\\frac{\\partial}{\\partial r} N{\\left(r,z \\right)}}{r}$"
      ],
      "text/plain": [
       "                                ∂          \n",
       "  2                2            ──(N(r, z))\n",
       " ∂                ∂             ∂r         \n",
       "───(N(r, z)) = - ───(N(r, z)) + ───────────\n",
       "  2                2                 r     \n",
       "∂r               ∂z                        "
      ]
     },
     "execution_count": 59,
     "metadata": {},
     "output_type": "execute_result"
    }
   ],
   "source": [
    "equation2a = Eq(diff(N,r,r), solve( einsteinSimplified[0,2].args[2].subs(d2nudr2.lhs,d2nudr2.rhs), diff(N,r,r) )[0] ) \n",
    "equation2a"
   ]
  },
  {
   "cell_type": "code",
   "execution_count": 26,
   "id": "d1bac1e2",
   "metadata": {},
   "outputs": [
    {
     "data": {
      "image/png": "[encoded data removed]",
      "text/latex": [
       "$\\displaystyle \\frac{\\partial}{\\partial z} \\nu{\\left(r,z \\right)} = - \\frac{\\frac{\\partial}{\\partial r} N{\\left(r,z \\right)} \\frac{\\partial}{\\partial z} N{\\left(r,z \\right)}}{r}$"
      ],
      "text/plain": [
       "               ∂           ∂           \n",
       "              -──(N(r, z))⋅──(N(r, z)) \n",
       "∂              ∂r          ∂z          \n",
       "──(ν(r, z)) = ─────────────────────────\n",
       "∂z                        r            "
      ]
     },
     "execution_count": 26,
     "metadata": {},
     "output_type": "execute_result"
    }
   ],
   "source": [
    "equation2b1 = Eq( diff(nu,z), solve( ricciSimplified[3,1], diff(nu,z) )[0] ) \n",
    "equation2b1"
   ]
  },
  {
   "cell_type": "code",
   "execution_count": 30,
   "id": "b7c26dcd",
   "metadata": {},
   "outputs": [
    {
     "data": {
      "image/png": "[encoded data removed]",
      "text/latex": [
       "$\\displaystyle \\frac{\\partial}{\\partial r} \\nu{\\left(r,z \\right)} = - \\frac{0.5 \\left(\\frac{\\partial}{\\partial r} N{\\left(r,z \\right)}\\right)^{2}}{r} + \\frac{0.5 \\left(\\frac{\\partial}{\\partial z} N{\\left(r,z \\right)}\\right)^{2}}{r}$"
      ],
      "text/plain": [
       "                                 2                    2\n",
       "                    ⎛∂          ⎞        ⎛∂          ⎞ \n",
       "                0.5⋅⎜──(N(r, z))⎟    0.5⋅⎜──(N(r, z))⎟ \n",
       "∂                   ⎝∂r         ⎠        ⎝∂z         ⎠ \n",
       "──(ν(r, z)) = - ────────────────── + ──────────────────\n",
       "∂r                      r                    r         "
      ]
     },
     "execution_count": 30,
     "metadata": {},
     "output_type": "execute_result"
    }
   ],
   "source": [
    "equation2b2 =  Eq(diff(nu,r), expand( solve( einsteinSimplified[1,1], diff(nu,r) )[0] ) ) \n",
    "equation2b2"
   ]
  },
  {
   "cell_type": "code",
   "execution_count": 61,
   "id": "a2d20e15",
   "metadata": {},
   "outputs": [
    {
     "data": {
      "text/latex": [
       "$\\displaystyle \\left[\\begin{matrix}\\frac{\\partial^{2}}{\\partial r^{2}} N{\\left(r,z \\right)} = - \\frac{\\partial^{2}}{\\partial z^{2}} N{\\left(r,z \\right)} + \\frac{\\frac{\\partial}{\\partial r} N{\\left(r,z \\right)}}{r}\\\\\\frac{\\partial}{\\partial z} \\nu{\\left(r,z \\right)} = - \\frac{\\frac{\\partial}{\\partial r} N{\\left(r,z \\right)} \\frac{\\partial}{\\partial z} N{\\left(r,z \\right)}}{r}\\\\\\frac{\\partial}{\\partial r} \\nu{\\left(r,z \\right)} = - \\frac{0.5 \\left(\\frac{\\partial}{\\partial r} N{\\left(r,z \\right)}\\right)^{2}}{r} + \\frac{0.5 \\left(\\frac{\\partial}{\\partial z} N{\\left(r,z \\right)}\\right)^{2}}{r}\\end{matrix}\\right]$"
      ],
      "text/plain": [
       "⎡                                      ∂                ⎤\n",
       "⎢        2                2            ──(N(r, z))      ⎥\n",
       "⎢       ∂                ∂             ∂r               ⎥\n",
       "⎢      ───(N(r, z)) = - ───(N(r, z)) + ───────────      ⎥\n",
       "⎢        2                2                 r           ⎥\n",
       "⎢      ∂r               ∂z                              ⎥\n",
       "⎢                                                       ⎥\n",
       "⎢                       ∂           ∂                   ⎥\n",
       "⎢                      -──(N(r, z))⋅──(N(r, z))         ⎥\n",
       "⎢        ∂              ∂r          ∂z                  ⎥\n",
       "⎢        ──(ν(r, z)) = ─────────────────────────        ⎥\n",
       "⎢        ∂z                        r                    ⎥\n",
       "⎢                                                       ⎥\n",
       "⎢                                 2                    2⎥\n",
       "⎢                    ⎛∂          ⎞        ⎛∂          ⎞ ⎥\n",
       "⎢                0.5⋅⎜──(N(r, z))⎟    0.5⋅⎜──(N(r, z))⎟ ⎥\n",
       "⎢∂                   ⎝∂r         ⎠        ⎝∂z         ⎠ ⎥\n",
       "⎢──(ν(r, z)) = - ────────────────── + ──────────────────⎥\n",
       "⎣∂r                      r                    r         ⎦"
      ]
     },
     "execution_count": 61,
     "metadata": {},
     "output_type": "execute_result"
    }
   ],
   "source": [
    "vacuumFieldEquations = Matrix([equation2a,equation2b1,equation2b2])\n",
    "vacuumFieldEquations"
   ]
  },
  {
   "cell_type": "code",
   "execution_count": 63,
   "id": "246dd304",
   "metadata": {},
   "outputs": [
    {
     "data": {
      "image/png": "[encoded data removed]",
      "text/latex": [
       "$\\displaystyle N{\\left(r,z \\right)} = r \\frac{\\partial}{\\partial r} \\Phi{\\left(r,z \\right)}$"
      ],
      "text/plain": [
       "            ∂          \n",
       "N(r, z) = r⋅──(Φ(r, z))\n",
       "            ∂r         "
      ]
     },
     "execution_count": 63,
     "metadata": {},
     "output_type": "execute_result"
    }
   ],
   "source": [
    "equation3a = Eq(n, r * diff(Phi,r))\n",
    "equation3a"
   ]
  },
  {
   "cell_type": "code",
   "execution_count": 69,
   "id": "d3cdbe4a",
   "metadata": {},
   "outputs": [
    {
     "data": {
      "image/png": "[encoded data removed]",
      "text/latex": [
       "$\\displaystyle \\frac{\\partial}{\\partial r} \\Phi{\\left(r,z \\right)} = \\frac{N{\\left(r,z \\right)}}{r}$"
      ],
      "text/plain": [
       "∂             N(r, z)\n",
       "──(Φ(r, z)) = ───────\n",
       "∂r               r   "
      ]
     },
     "execution_count": 69,
     "metadata": {},
     "output_type": "execute_result"
    }
   ],
   "source": [
    "equation3b = Eq(diff(Phi,r), solve(equation3a, diff(Phi,r) )[0] ) \n",
    "equation3b"
   ]
  },
  {
   "cell_type": "code",
   "execution_count": 71,
   "id": "cb5f12f6",
   "metadata": {},
   "outputs": [
    {
     "data": {
      "image/png": "[encoded data removed]",
      "text/latex": [
       "$\\displaystyle \\frac{\\partial^{2}}{\\partial r^{2}} \\Phi{\\left(r,z \\right)} + \\frac{\\partial^{2}}{\\partial z^{2}} \\Phi{\\left(r,z \\right)} + \\frac{\\frac{\\partial}{\\partial r} \\Phi{\\left(r,z \\right)}}{r}$"
      ],
      "text/plain": [
       "                              ∂          \n",
       "  2              2            ──(Φ(r, z))\n",
       " ∂              ∂             ∂r         \n",
       "───(Φ(r, z)) + ───(Φ(r, z)) + ───────────\n",
       "  2              2                 r     \n",
       "∂r             ∂z                        "
      ]
     },
     "execution_count": 71,
     "metadata": {},
     "output_type": "execute_result"
    }
   ],
   "source": [
    "equation3 = diff(Phi,r,r) + diff(Phi,z,z) +(1/r)*diff(Phi,r) \n",
    "equation3"
   ]
  },
  {
   "cell_type": "code",
   "execution_count": null,
   "id": "87bfae58",
   "metadata": {},
   "outputs": [],
   "source": []
  }
 ],
 "metadata": {
  "@webio": {
   "lastCommId": "efc660c5d8a548e0ad481b7e393eb655",
   "lastKernelId": "abe0a618-5230-4562-ab40-8e8c300e80d1"
  },
  "kernelspec": {
   "display_name": "Python 3 (ipykernel)",
   "language": "python",
   "name": "python3"
  },
  "language_info": {
   "codemirror_mode": {
    "name": "ipython",
    "version": 3
   },
   "file_extension": ".py",
   "mimetype": "text/x-python",
   "name": "python",
   "nbconvert_exporter": "python",
   "pygments_lexer": "ipython3",
   "version": "3.8.8"
  }
 },
 "nbformat": 4,
 "nbformat_minor": 5
}
