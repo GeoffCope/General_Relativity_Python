{
 "cells": [
  {
   "cell_type": "markdown",
   "id": "706f9c8a",
   "metadata": {},
   "source": [
    "# Studies In Spacetimes Admitting Two Spacelike Killing Vectors by Halilsoy Metric 1\n",
    "##  Geoff Cope\n",
    "##  Univeristy of Utah\n",
    "##  𐐏𐐭𐑌𐐲𐑂𐐲𐑉𐑅𐐮𐐻𐐨 𐐲𐑂 𐐏𐐭𐐻𐐫\n",
    "##  January 10th, 2022"
   ]
  },
  {
   "cell_type": "markdown",
   "id": "4680a4b8",
   "metadata": {},
   "source": [
    "http://i-rep.emu.edu.tr:8080/xmlui/bitstream/handle/11129/2083/Journal%20of%20Mathematical%20Physics%20Volume%2029%20issue%202%201988%20%5Bdoi%2010.1063%252F1.528070%5D%20Halilsoy,%20M.%20--%20Studies%20in%20space-times%20admitting%20two%20spacelike%20Killing%20vectors.pdf?sequence=1"
   ]
  },
  {
   "cell_type": "markdown",
   "id": "0df1cd84",
   "metadata": {},
   "source": [
    "There are several metrics in this paper and here we focus on just the first one.  Here we only do the first part of Appel's theorem with c = 0, will do nonzero c later.  Will return to the other metrics later as well."
   ]
  },
  {
   "cell_type": "code",
   "execution_count": 1,
   "id": "91c10657",
   "metadata": {},
   "outputs": [
    {
     "name": "stdout",
     "output_type": "stream",
     "text": [
      "IPython console for SymPy 1.9 (Python 3.8.8-64-bit) (ground types: gmpy)\n",
      "\n",
      "These commands were executed:\n",
      ">>> from __future__ import division\n",
      ">>> from sympy import *\n",
      ">>> x, y, z, t = symbols('x y z t')\n",
      ">>> k, m, n = symbols('k m n', integer=True)\n",
      ">>> f, g, h = symbols('f g h', cls=Function)\n",
      ">>> init_printing()\n",
      "\n",
      "Documentation can be found at https://docs.sympy.org/1.9/\n",
      "\n"
     ]
    }
   ],
   "source": [
    "from sympy import init_session\n",
    "init_session(use_latex=True)"
   ]
  },
  {
   "cell_type": "code",
   "execution_count": 2,
   "id": "bb27002f",
   "metadata": {},
   "outputs": [],
   "source": [
    "import warnings\n",
    "import matplotlib.cbook\n",
    "warnings.filterwarnings(\"ignore\",category=matplotlib.cbook.mplDeprecation)"
   ]
  },
  {
   "cell_type": "code",
   "execution_count": 74,
   "id": "b69ef522",
   "metadata": {},
   "outputs": [],
   "source": [
    "t,rho,phi,z,dt,drho,dphi,dz,u,w,c,L = symbols('t rho phi z dt drho dphi dz u w c L')"
   ]
  },
  {
   "cell_type": "code",
   "execution_count": 4,
   "id": "2470b265",
   "metadata": {},
   "outputs": [
    {
     "data": {
      "image/png": "[encoded data removed]",
      "text/latex": [
       "$\\displaystyle \\gamma{\\left(t,\\rho \\right)}$"
      ],
      "text/plain": [
       "γ(t, ρ)"
      ]
     },
     "execution_count": 4,
     "metadata": {},
     "output_type": "execute_result"
    }
   ],
   "source": [
    "gamma = Function('gamma')(t,rho)\n",
    "gamma"
   ]
  },
  {
   "cell_type": "code",
   "execution_count": 5,
   "id": "e7faf4f6",
   "metadata": {},
   "outputs": [
    {
     "data": {
      "image/png": "[encoded data removed]",
      "text/latex": [
       "$\\displaystyle \\psi{\\left(t,\\rho \\right)}$"
      ],
      "text/plain": [
       "ψ(t, ρ)"
      ]
     },
     "execution_count": 5,
     "metadata": {},
     "output_type": "execute_result"
    }
   ],
   "source": [
    "psi = Function('psi')(t,rho)\n",
    "psi"
   ]
  },
  {
   "cell_type": "code",
   "execution_count": 86,
   "id": "9f1ac0d7",
   "metadata": {},
   "outputs": [
    {
     "data": {
      "image/png": "[encoded data removed]",
      "text/latex": [
       "$\\displaystyle \\lambda{\\left(t,\\rho \\right)}$"
      ],
      "text/plain": [
       "λ(t, ρ)"
      ]
     },
     "execution_count": 86,
     "metadata": {},
     "output_type": "execute_result"
    }
   ],
   "source": [
    "Lambda = Function('lambda')(t,rho)\n",
    "Lambda"
   ]
  },
  {
   "cell_type": "code",
   "execution_count": 90,
   "id": "6e9c6a74",
   "metadata": {},
   "outputs": [
    {
     "data": {
      "image/png": "[encoded data removed]",
      "text/latex": [
       "$\\displaystyle L{\\left(t,\\rho \\right)}$"
      ],
      "text/plain": [
       "L(t, ρ)"
      ]
     },
     "execution_count": 90,
     "metadata": {},
     "output_type": "execute_result"
    }
   ],
   "source": [
    "L = Function('L')(t,rho)\n",
    "L"
   ]
  },
  {
   "cell_type": "code",
   "execution_count": 87,
   "id": "dcef2a7a",
   "metadata": {},
   "outputs": [
    {
     "data": {
      "text/latex": [
       "$\\displaystyle \\left[\\begin{matrix}t\\\\\\rho\\\\\\phi\\\\z\\end{matrix}\\right]$"
      ],
      "text/plain": [
       "⎡t⎤\n",
       "⎢ ⎥\n",
       "⎢ρ⎥\n",
       "⎢ ⎥\n",
       "⎢φ⎥\n",
       "⎢ ⎥\n",
       "⎣z⎦"
      ]
     },
     "execution_count": 87,
     "metadata": {},
     "output_type": "execute_result"
    }
   ],
   "source": [
    "variables = Matrix([t,rho,phi,z])\n",
    "variables"
   ]
  },
  {
   "cell_type": "code",
   "execution_count": 7,
   "id": "f6d40af3",
   "metadata": {},
   "outputs": [
    {
     "data": {
      "text/latex": [
       "$\\displaystyle \\left[\\begin{matrix}dt\\\\drho\\\\dphi\\\\dz\\end{matrix}\\right]$"
      ],
      "text/plain": [
       "⎡ dt ⎤\n",
       "⎢    ⎥\n",
       "⎢drho⎥\n",
       "⎢    ⎥\n",
       "⎢dphi⎥\n",
       "⎢    ⎥\n",
       "⎣ dz ⎦"
      ]
     },
     "execution_count": 7,
     "metadata": {},
     "output_type": "execute_result"
    }
   ],
   "source": [
    "differentials = Matrix([dt,drho,dphi,dz])\n",
    "differentials "
   ]
  },
  {
   "cell_type": "code",
   "execution_count": 8,
   "id": "47be369c",
   "metadata": {},
   "outputs": [
    {
     "data": {
      "image/png": "[encoded data removed]",
      "text/latex": [
       "$\\displaystyle - dphi^{2} \\rho^{2} e^{- 2 \\psi{\\left(t,\\rho \\right)}} - drho^{2} e^{2 \\gamma{\\left(t,\\rho \\right)}} e^{- 2 \\psi{\\left(t,\\rho \\right)}} + dt^{2} e^{2 \\gamma{\\left(t,\\rho \\right)}} e^{- 2 \\psi{\\left(t,\\rho \\right)}} - dz^{2} e^{2 \\psi{\\left(t,\\rho \\right)}}$"
      ],
      "text/plain": [
       "      2  2  -2⋅ψ(t, ρ)       2  2⋅γ(t, ρ)  -2⋅ψ(t, ρ)     2  2⋅γ(t, ρ)  -2⋅ψ(t, ρ)     2  2⋅\n",
       "- dphi ⋅ρ ⋅ℯ           - drho ⋅ℯ         ⋅ℯ           + dt ⋅ℯ         ⋅ℯ           - dz ⋅ℯ  \n",
       "\n",
       "ψ(t, ρ)\n",
       "       "
      ]
     },
     "execution_count": 8,
     "metadata": {},
     "output_type": "execute_result"
    }
   ],
   "source": [
    "lineElement = expand(exp(2*(gamma-psi))*(dt**2 - drho**2) - rho**2 * exp(-2*psi) * dphi**2 - exp(2*psi) * dz**2) \n",
    "lineElement"
   ]
  },
  {
   "cell_type": "code",
   "execution_count": 9,
   "id": "82fee156",
   "metadata": {},
   "outputs": [
    {
     "data": {
      "text/latex": [
       "$\\displaystyle \\left[\\begin{matrix}e^{2 \\gamma{\\left(t,\\rho \\right)}} e^{- 2 \\psi{\\left(t,\\rho \\right)}} & 0 & 0 & 0\\\\0 & - e^{2 \\gamma{\\left(t,\\rho \\right)}} e^{- 2 \\psi{\\left(t,\\rho \\right)}} & 0 & 0\\\\0 & 0 & - \\rho^{2} e^{- 2 \\psi{\\left(t,\\rho \\right)}} & 0\\\\0 & 0 & 0 & - e^{2 \\psi{\\left(t,\\rho \\right)}}\\end{matrix}\\right]$"
      ],
      "text/plain": [
       "⎡ 2⋅γ(t, ρ)  -2⋅ψ(t, ρ)                                                       ⎤\n",
       "⎢ℯ         ⋅ℯ                       0                    0              0     ⎥\n",
       "⎢                                                                             ⎥\n",
       "⎢                          2⋅γ(t, ρ)  -2⋅ψ(t, ρ)                              ⎥\n",
       "⎢          0             -ℯ         ⋅ℯ                   0              0     ⎥\n",
       "⎢                                                                             ⎥\n",
       "⎢                                                   2  -2⋅ψ(t, ρ)             ⎥\n",
       "⎢          0                        0             -ρ ⋅ℯ                 0     ⎥\n",
       "⎢                                                                             ⎥\n",
       "⎢                                                                    2⋅ψ(t, ρ)⎥\n",
       "⎣          0                        0                    0         -ℯ         ⎦"
      ]
     },
     "execution_count": 9,
     "metadata": {},
     "output_type": "execute_result"
    }
   ],
   "source": [
    "g = zeros(4)\n",
    "\n",
    "for i in range(4):\n",
    "    for j in range(4):\n",
    "        if i == j:\n",
    "            g[i,j] = lineElement.coeff( differentials[i],2 ) \n",
    "        else:\n",
    "            g[i,j] = Rational(1,2)*lineElement.coeff( differentials[i]*differentials[j],1 )\n",
    "            \n",
    "g"
   ]
  },
  {
   "cell_type": "code",
   "execution_count": 10,
   "id": "b3b09b57",
   "metadata": {},
   "outputs": [],
   "source": [
    "import sympy"
   ]
  },
  {
   "cell_type": "code",
   "execution_count": 11,
   "id": "d8ebe21c",
   "metadata": {},
   "outputs": [
    {
     "data": {
      "text/latex": [
       "$\\displaystyle \\left[\\begin{matrix}e^{2 \\gamma{\\left(t,\\rho \\right)}} e^{- 2 \\psi{\\left(t,\\rho \\right)}} & 0 & 0 & 0\\\\0 & - e^{2 \\gamma{\\left(t,\\rho \\right)}} e^{- 2 \\psi{\\left(t,\\rho \\right)}} & 0 & 0\\\\0 & 0 & - \\rho^{2} e^{- 2 \\psi{\\left(t,\\rho \\right)}} & 0\\\\0 & 0 & 0 & - e^{2 \\psi{\\left(t,\\rho \\right)}}\\end{matrix}\\right]$"
      ],
      "text/plain": [
       "⎡ 2⋅γ(t, ρ)  -2⋅ψ(t, ρ)                                                       ⎤\n",
       "⎢ℯ         ⋅ℯ                       0                    0              0     ⎥\n",
       "⎢                                                                             ⎥\n",
       "⎢                          2⋅γ(t, ρ)  -2⋅ψ(t, ρ)                              ⎥\n",
       "⎢          0             -ℯ         ⋅ℯ                   0              0     ⎥\n",
       "⎢                                                                             ⎥\n",
       "⎢                                                   2  -2⋅ψ(t, ρ)             ⎥\n",
       "⎢          0                        0             -ρ ⋅ℯ                 0     ⎥\n",
       "⎢                                                                             ⎥\n",
       "⎢                                                                    2⋅ψ(t, ρ)⎥\n",
       "⎣          0                        0                    0         -ℯ         ⎦"
      ]
     },
     "execution_count": 11,
     "metadata": {},
     "output_type": "execute_result"
    }
   ],
   "source": [
    "m = sympy.Array(g)\n",
    "m"
   ]
  },
  {
   "cell_type": "code",
   "execution_count": 12,
   "id": "215a6d8a",
   "metadata": {},
   "outputs": [],
   "source": [
    "from einsteinpy.symbolic import *"
   ]
  },
  {
   "cell_type": "code",
   "execution_count": 13,
   "id": "ef6f4e9f",
   "metadata": {},
   "outputs": [],
   "source": [
    "syms = sympy.symbols(\"t rho phi z\")\n",
    "t,rho,phi,z = syms"
   ]
  },
  {
   "cell_type": "code",
   "execution_count": 14,
   "id": "4d883dea",
   "metadata": {},
   "outputs": [],
   "source": [
    "metric = MetricTensor(m,syms)"
   ]
  },
  {
   "cell_type": "code",
   "execution_count": 15,
   "id": "cdaa1959",
   "metadata": {},
   "outputs": [
    {
     "data": {
      "text/latex": [
       "$\\displaystyle \\left[\\begin{matrix}\\left[\\begin{matrix}\\frac{\\partial}{\\partial t} \\gamma{\\left(t,\\rho \\right)} - \\frac{\\partial}{\\partial t} \\psi{\\left(t,\\rho \\right)} & \\frac{\\partial}{\\partial \\rho} \\gamma{\\left(t,\\rho \\right)} - \\frac{\\partial}{\\partial \\rho} \\psi{\\left(t,\\rho \\right)} & 0 & 0\\\\\\frac{\\partial}{\\partial \\rho} \\gamma{\\left(t,\\rho \\right)} - \\frac{\\partial}{\\partial \\rho} \\psi{\\left(t,\\rho \\right)} & \\frac{\\partial}{\\partial t} \\gamma{\\left(t,\\rho \\right)} - \\frac{\\partial}{\\partial t} \\psi{\\left(t,\\rho \\right)} & 0 & 0\\\\0 & 0 & - \\rho^{2} e^{- 2 \\gamma{\\left(t,\\rho \\right)}} \\frac{\\partial}{\\partial t} \\psi{\\left(t,\\rho \\right)} & 0\\\\0 & 0 & 0 & e^{- 2 \\gamma{\\left(t,\\rho \\right)} + 4 \\psi{\\left(t,\\rho \\right)}} \\frac{\\partial}{\\partial t} \\psi{\\left(t,\\rho \\right)}\\end{matrix}\\right] & \\left[\\begin{matrix}\\frac{\\partial}{\\partial \\rho} \\gamma{\\left(t,\\rho \\right)} - \\frac{\\partial}{\\partial \\rho} \\psi{\\left(t,\\rho \\right)} & \\frac{\\partial}{\\partial t} \\gamma{\\left(t,\\rho \\right)} - \\frac{\\partial}{\\partial t} \\psi{\\left(t,\\rho \\right)} & 0 & 0\\\\\\frac{\\partial}{\\partial t} \\gamma{\\left(t,\\rho \\right)} - \\frac{\\partial}{\\partial t} \\psi{\\left(t,\\rho \\right)} & \\frac{\\partial}{\\partial \\rho} \\gamma{\\left(t,\\rho \\right)} - \\frac{\\partial}{\\partial \\rho} \\psi{\\left(t,\\rho \\right)} & 0 & 0\\\\0 & 0 & \\rho \\left(\\rho \\frac{\\partial}{\\partial \\rho} \\psi{\\left(t,\\rho \\right)} - 1\\right) e^{- 2 \\gamma{\\left(t,\\rho \\right)}} & 0\\\\0 & 0 & 0 & - e^{- 2 \\gamma{\\left(t,\\rho \\right)} + 4 \\psi{\\left(t,\\rho \\right)}} \\frac{\\partial}{\\partial \\rho} \\psi{\\left(t,\\rho \\right)}\\end{matrix}\\right] & \\left[\\begin{matrix}0 & 0 & - \\frac{\\partial}{\\partial t} \\psi{\\left(t,\\rho \\right)} & 0\\\\0 & 0 & - \\frac{\\partial}{\\partial \\rho} \\psi{\\left(t,\\rho \\right)} + \\frac{1}{\\rho} & 0\\\\- \\frac{\\partial}{\\partial t} \\psi{\\left(t,\\rho \\right)} & - \\frac{\\partial}{\\partial \\rho} \\psi{\\left(t,\\rho \\right)} + \\frac{1}{\\rho} & 0 & 0\\\\0 & 0 & 0 & 0\\end{matrix}\\right] & \\left[\\begin{matrix}0 & 0 & 0 & \\frac{\\partial}{\\partial t} \\psi{\\left(t,\\rho \\right)}\\\\0 & 0 & 0 & \\frac{\\partial}{\\partial \\rho} \\psi{\\left(t,\\rho \\right)}\\\\0 & 0 & 0 & 0\\\\\\frac{\\partial}{\\partial t} \\psi{\\left(t,\\rho \\right)} & \\frac{\\partial}{\\partial \\rho} \\psi{\\left(t,\\rho \\right)} & 0 & 0\\end{matrix}\\right]\\end{matrix}\\right]$"
      ],
      "text/plain": [
       "⎡⎡∂             ∂            ∂             ∂                                                \n",
       "⎢⎢──(γ(t, ρ)) - ──(ψ(t, ρ))  ──(γ(t, ρ)) - ──(ψ(t, ρ))               0                      \n",
       "⎢⎢∂t            ∂t           ∂ρ            ∂ρ                                               \n",
       "⎢⎢                                                                                          \n",
       "⎢⎢∂             ∂            ∂             ∂                                                \n",
       "⎢⎢──(γ(t, ρ)) - ──(ψ(t, ρ))  ──(γ(t, ρ)) - ──(ψ(t, ρ))               0                      \n",
       "⎢⎢∂ρ            ∂ρ           ∂t            ∂t                                               \n",
       "⎢⎢                                                                                          \n",
       "⎢⎢                                                        2  -2⋅γ(t, ρ) ∂                   \n",
       "⎢⎢            0                          0              -ρ ⋅ℯ          ⋅──(ψ(t, ρ))         \n",
       "⎢⎢                                                                      ∂t                  \n",
       "⎢⎢                                                                                          \n",
       "⎢⎢                                                                                    -2⋅γ(t\n",
       "⎢⎢            0                          0                           0               ℯ      \n",
       "⎣⎣                                                                                          \n",
       "\n",
       "                            ⎤  ⎡∂             ∂            ∂             ∂                  \n",
       "          0                 ⎥  ⎢──(γ(t, ρ)) - ──(ψ(t, ρ))  ──(γ(t, ρ)) - ──(ψ(t, ρ))        \n",
       "                            ⎥  ⎢∂ρ            ∂ρ           ∂t            ∂t                 \n",
       "                            ⎥  ⎢                                                            \n",
       "                            ⎥  ⎢∂             ∂            ∂             ∂                  \n",
       "          0                 ⎥  ⎢──(γ(t, ρ)) - ──(ψ(t, ρ))  ──(γ(t, ρ)) - ──(ψ(t, ρ))        \n",
       "                            ⎥  ⎢∂t            ∂t           ∂ρ            ∂ρ                 \n",
       "                            ⎥  ⎢                                                            \n",
       "                            ⎥  ⎢                                                        ⎛  ∂\n",
       "          0                 ⎥  ⎢            0                          0              ρ⋅⎜ρ⋅─\n",
       "                            ⎥  ⎢                                                        ⎝  ∂\n",
       "                            ⎥  ⎢                                                            \n",
       ", ρ) + 4⋅ψ(t, ρ) ∂          ⎥  ⎢                                                            \n",
       "                ⋅──(ψ(t, ρ))⎥  ⎢            0                          0                    \n",
       "                 ∂t         ⎦  ⎣                                                            \n",
       "\n",
       "                                                                 ⎤                          \n",
       "          0                                   0                  ⎥  ⎡                       \n",
       "                                                                 ⎥  ⎢     0                0\n",
       "                                                                 ⎥  ⎢                       \n",
       "                                                                 ⎥  ⎢                       \n",
       "          0                                   0                  ⎥  ⎢                       \n",
       "                                                                 ⎥  ⎢     0                0\n",
       "                                                                 ⎥  ⎢                       \n",
       "              ⎞  -2⋅γ(t, ρ)                                      ⎥  ⎢                       \n",
       "─(ψ(t, ρ)) - 1⎟⋅ℯ                             0                  ⎥  ⎢ ∂              ∂      \n",
       "ρ             ⎠                                                  ⎥  ⎢-──(ψ(t, ρ))  - ──(ψ(t,\n",
       "                                                                 ⎥  ⎢ ∂t             ∂ρ     \n",
       "                               -2⋅γ(t, ρ) + 4⋅ψ(t, ρ) ∂          ⎥  ⎢                       \n",
       "          0                  -ℯ                      ⋅──(ψ(t, ρ))⎥  ⎣     0                0\n",
       "                                                      ∂ρ         ⎦                          \n",
       "\n",
       "                                                                           ⎤\n",
       "             ∂                ⎤  ⎡                             ∂          ⎤⎥\n",
       "            -──(ψ(t, ρ))     0⎥  ⎢     0            0       0  ──(ψ(t, ρ))⎥⎥\n",
       "             ∂t               ⎥  ⎢                             ∂t         ⎥⎥\n",
       "                              ⎥  ⎢                                        ⎥⎥\n",
       "            ∂             1   ⎥  ⎢                             ∂          ⎥⎥\n",
       "          - ──(ψ(t, ρ)) + ─  0⎥  ⎢     0            0       0  ──(ψ(t, ρ))⎥⎥\n",
       "            ∂ρ            ρ   ⎥  ⎢                             ∂ρ         ⎥⎥\n",
       "                              ⎥  ⎢                                        ⎥⎥\n",
       "       1                      ⎥  ⎢     0            0       0       0     ⎥⎥\n",
       " ρ)) + ─          0          0⎥  ⎢                                        ⎥⎥\n",
       "       ρ                      ⎥  ⎢∂            ∂                          ⎥⎥\n",
       "                              ⎥  ⎢──(ψ(t, ρ))  ──(ψ(t, ρ))  0       0     ⎥⎥\n",
       "                  0          0⎦  ⎣∂t           ∂ρ                         ⎦⎥\n",
       "                                                                           ⎦"
      ]
     },
     "execution_count": 15,
     "metadata": {},
     "output_type": "execute_result"
    }
   ],
   "source": [
    "ch = ChristoffelSymbols.from_metric(metric)\n",
    "simplify(ch.tensor())"
   ]
  },
  {
   "cell_type": "code",
   "execution_count": 16,
   "id": "6034d099",
   "metadata": {},
   "outputs": [
    {
     "data": {
      "text/latex": [
       "$\\displaystyle \\left[\\begin{matrix}\\frac{\\rho \\left(\\frac{\\partial^{2}}{\\partial \\rho^{2}} \\gamma{\\left(t,\\rho \\right)} - \\frac{\\partial^{2}}{\\partial t^{2}} \\gamma{\\left(t,\\rho \\right)} - \\frac{\\partial^{2}}{\\partial \\rho^{2}} \\psi{\\left(t,\\rho \\right)} - 2 \\left(\\frac{\\partial}{\\partial t} \\psi{\\left(t,\\rho \\right)}\\right)^{2} + \\frac{\\partial^{2}}{\\partial t^{2}} \\psi{\\left(t,\\rho \\right)}\\right) + \\frac{\\partial}{\\partial \\rho} \\gamma{\\left(t,\\rho \\right)} - \\frac{\\partial}{\\partial \\rho} \\psi{\\left(t,\\rho \\right)}}{\\rho} & - 2 \\frac{\\partial}{\\partial \\rho} \\psi{\\left(t,\\rho \\right)} \\frac{\\partial}{\\partial t} \\psi{\\left(t,\\rho \\right)} + \\frac{\\frac{\\partial}{\\partial t} \\gamma{\\left(t,\\rho \\right)}}{\\rho} & 0 & 0\\\\- 2 \\frac{\\partial}{\\partial \\rho} \\psi{\\left(t,\\rho \\right)} \\frac{\\partial}{\\partial t} \\psi{\\left(t,\\rho \\right)} + \\frac{\\frac{\\partial}{\\partial t} \\gamma{\\left(t,\\rho \\right)}}{\\rho} & \\frac{\\rho \\left(- \\frac{\\partial^{2}}{\\partial \\rho^{2}} \\gamma{\\left(t,\\rho \\right)} + \\frac{\\partial^{2}}{\\partial t^{2}} \\gamma{\\left(t,\\rho \\right)} - 2 \\left(\\frac{\\partial}{\\partial \\rho} \\psi{\\left(t,\\rho \\right)}\\right)^{2} + \\frac{\\partial^{2}}{\\partial \\rho^{2}} \\psi{\\left(t,\\rho \\right)} - \\frac{\\partial^{2}}{\\partial t^{2}} \\psi{\\left(t,\\rho \\right)}\\right) + \\frac{\\partial}{\\partial \\rho} \\gamma{\\left(t,\\rho \\right)} + \\frac{\\partial}{\\partial \\rho} \\psi{\\left(t,\\rho \\right)}}{\\rho} & 0 & 0\\\\0 & 0 & \\rho \\left(\\rho \\frac{\\partial^{2}}{\\partial \\rho^{2}} \\psi{\\left(t,\\rho \\right)} - \\rho \\frac{\\partial^{2}}{\\partial t^{2}} \\psi{\\left(t,\\rho \\right)} + \\frac{\\partial}{\\partial \\rho} \\psi{\\left(t,\\rho \\right)}\\right) e^{- 2 \\gamma{\\left(t,\\rho \\right)}} & 0\\\\0 & 0 & 0 & \\frac{\\left(- \\rho \\frac{\\partial^{2}}{\\partial \\rho^{2}} \\psi{\\left(t,\\rho \\right)} + \\rho \\frac{\\partial^{2}}{\\partial t^{2}} \\psi{\\left(t,\\rho \\right)} - \\frac{\\partial}{\\partial \\rho} \\psi{\\left(t,\\rho \\right)}\\right) e^{- 2 \\gamma{\\left(t,\\rho \\right)} + 4 \\psi{\\left(t,\\rho \\right)}}}{\\rho}\\end{matrix}\\right]$"
      ],
      "text/plain": [
       "⎡  ⎛  2              2              2                           2     2         ⎞           \n",
       "⎢  ⎜ ∂              ∂              ∂               ⎛∂          ⎞     ∂          ⎟   ∂       \n",
       "⎢ρ⋅⎜───(γ(t, ρ)) - ───(γ(t, ρ)) - ───(ψ(t, ρ)) - 2⋅⎜──(ψ(t, ρ))⎟  + ───(ψ(t, ρ))⎟ + ──(γ(t, \n",
       "⎢  ⎜  2              2              2              ⎝∂t         ⎠      2         ⎟   ∂ρ      \n",
       "⎢  ⎝∂ρ             ∂t             ∂ρ                                ∂t          ⎠           \n",
       "⎢───────────────────────────────────────────────────────────────────────────────────────────\n",
       "⎢                                                     ρ                                     \n",
       "⎢                                                                                           \n",
       "⎢                                                                                           \n",
       "⎢                                                                                           \n",
       "⎢                                                               ∂                           \n",
       "⎢                                                               ──(γ(t, ρ))                 \n",
       "⎢                                     ∂           ∂             ∂t                          \n",
       "⎢                                 - 2⋅──(ψ(t, ρ))⋅──(ψ(t, ρ)) + ───────────                 \n",
       "⎢                                     ∂ρ          ∂t                 ρ                      \n",
       "⎢                                                                                           \n",
       "⎢                                                                                           \n",
       "⎢                                                                                           \n",
       "⎢                                                     0                                     \n",
       "⎢                                                                                           \n",
       "⎢                                                                                           \n",
       "⎢                                                                                           \n",
       "⎢                                                                                           \n",
       "⎢                                                                                           \n",
       "⎢                                                                                           \n",
       "⎢                                                                                           \n",
       "⎢                                                                                           \n",
       "⎢                                                     0                                     \n",
       "⎣                                                                                           \n",
       "\n",
       "                                                                                            \n",
       "      ∂                                                                                     \n",
       "ρ)) - ──(ψ(t, ρ))                                                                  ∂        \n",
       "      ∂ρ                                                                           ──(γ(t, ρ\n",
       "                                                         ∂           ∂             ∂t       \n",
       "─────────────────                                    - 2⋅──(ψ(t, ρ))⋅──(ψ(t, ρ)) + ─────────\n",
       "                                                         ∂ρ          ∂t                 ρ   \n",
       "                                                                                            \n",
       "                     ⎛    2              2                           2     2              2 \n",
       "                     ⎜   ∂              ∂               ⎛∂          ⎞     ∂              ∂  \n",
       "                   ρ⋅⎜- ───(γ(t, ρ)) + ───(γ(t, ρ)) - 2⋅⎜──(ψ(t, ρ))⎟  + ───(ψ(t, ρ)) - ───(\n",
       "                     ⎜    2              2              ⎝∂ρ         ⎠      2              2 \n",
       "                     ⎝  ∂ρ             ∂t                                ∂ρ             ∂t  \n",
       "                   ─────────────────────────────────────────────────────────────────────────\n",
       "                                                                         ρ                  \n",
       "                                                                                            \n",
       "                                                                                            \n",
       "                                                                                            \n",
       "                                                                         0                  \n",
       "                                                                                            \n",
       "                                                                                            \n",
       "                                                                                            \n",
       "                                                                                            \n",
       "                                                                                            \n",
       "                                                                                            \n",
       "                                                                                            \n",
       "                                                                                            \n",
       "                                                                         0                  \n",
       "                                                                                            \n",
       "\n",
       "                                                                                            \n",
       "                                                                                            \n",
       "                                                                                            \n",
       "))                                                                                          \n",
       "                                                                                            \n",
       "──                                                                   0                      \n",
       "                                                                                            \n",
       "                                                                                            \n",
       "        ⎞                                                                                   \n",
       "        ⎟   ∂             ∂                                                                 \n",
       "ψ(t, ρ))⎟ + ──(γ(t, ρ)) + ──(ψ(t, ρ))                                                       \n",
       "        ⎟   ∂ρ            ∂ρ                                                                \n",
       "        ⎠                                                                                   \n",
       "─────────────────────────────────────                                0                      \n",
       "                                                                                            \n",
       "                                                                                            \n",
       "                                         ⎛    2                2                       ⎞    \n",
       "                                         ⎜   ∂                ∂             ∂          ⎟  -2\n",
       "                                       ρ⋅⎜ρ⋅───(ψ(t, ρ)) - ρ⋅───(ψ(t, ρ)) + ──(ψ(t, ρ))⎟⋅ℯ  \n",
       "                                         ⎜    2                2            ∂ρ         ⎟    \n",
       "                                         ⎝  ∂ρ               ∂t                        ⎠    \n",
       "                                                                                            \n",
       "                                                                                            \n",
       "                                                                                            \n",
       "                                                                                            \n",
       "                                                                                            \n",
       "                                                                                            \n",
       "                                                                     0                      \n",
       "                                                                                            \n",
       "\n",
       "                                                                                   ⎤\n",
       "                                                                                   ⎥\n",
       "                                                                                   ⎥\n",
       "                                                                                   ⎥\n",
       "                                                                                   ⎥\n",
       "                                              0                                    ⎥\n",
       "                                                                                   ⎥\n",
       "                                                                                   ⎥\n",
       "                                                                                   ⎥\n",
       "                                                                                   ⎥\n",
       "                                                                                   ⎥\n",
       "                                                                                   ⎥\n",
       "                                                                                   ⎥\n",
       "                                              0                                    ⎥\n",
       "                                                                                   ⎥\n",
       "                                                                                   ⎥\n",
       "                                                                                   ⎥\n",
       "⋅γ(t, ρ)                                                                           ⎥\n",
       "                                              0                                    ⎥\n",
       "                                                                                   ⎥\n",
       "                                                                                   ⎥\n",
       "                                                                                   ⎥\n",
       "          ⎛      2                2                       ⎞                        ⎥\n",
       "          ⎜     ∂                ∂             ∂          ⎟  -2⋅γ(t, ρ) + 4⋅ψ(t, ρ)⎥\n",
       "          ⎜- ρ⋅───(ψ(t, ρ)) + ρ⋅───(ψ(t, ρ)) - ──(ψ(t, ρ))⎟⋅ℯ                      ⎥\n",
       "          ⎜      2                2            ∂ρ         ⎟                        ⎥\n",
       "          ⎝    ∂ρ               ∂t                        ⎠                        ⎥\n",
       "          ─────────────────────────────────────────────────────────────────────────⎥\n",
       "                                              ρ                                    ⎦"
      ]
     },
     "execution_count": 16,
     "metadata": {},
     "output_type": "execute_result"
    }
   ],
   "source": [
    "Ric = RicciTensor.from_metric(metric)\n",
    "Ric.tensor()"
   ]
  },
  {
   "cell_type": "code",
   "execution_count": 17,
   "id": "af18c6c3",
   "metadata": {},
   "outputs": [
    {
     "data": {
      "image/png": "[encoded data removed]",
      "text/latex": [
       "$\\displaystyle \\frac{2 \\left(\\rho \\frac{\\partial^{2}}{\\partial \\rho^{2}} \\gamma{\\left(t,\\rho \\right)} - \\rho \\frac{\\partial^{2}}{\\partial t^{2}} \\gamma{\\left(t,\\rho \\right)} + \\rho \\left(\\frac{\\partial}{\\partial \\rho} \\psi{\\left(t,\\rho \\right)}\\right)^{2} - \\rho \\frac{\\partial^{2}}{\\partial \\rho^{2}} \\psi{\\left(t,\\rho \\right)} - \\rho \\left(\\frac{\\partial}{\\partial t} \\psi{\\left(t,\\rho \\right)}\\right)^{2} + \\rho \\frac{\\partial^{2}}{\\partial t^{2}} \\psi{\\left(t,\\rho \\right)} - \\frac{\\partial}{\\partial \\rho} \\psi{\\left(t,\\rho \\right)}\\right) e^{- 2 \\gamma{\\left(t,\\rho \\right)} + 2 \\psi{\\left(t,\\rho \\right)}}}{\\rho}$"
      ],
      "text/plain": [
       "  ⎛    2                2                           2       2                           2   \n",
       "  ⎜   ∂                ∂               ⎛∂          ⎞       ∂               ⎛∂          ⎞    \n",
       "2⋅⎜ρ⋅───(γ(t, ρ)) - ρ⋅───(γ(t, ρ)) + ρ⋅⎜──(ψ(t, ρ))⎟  - ρ⋅───(ψ(t, ρ)) - ρ⋅⎜──(ψ(t, ρ))⎟  + \n",
       "  ⎜    2                2              ⎝∂ρ         ⎠        2              ⎝∂t         ⎠    \n",
       "  ⎝  ∂ρ               ∂t                                  ∂ρ                                \n",
       "────────────────────────────────────────────────────────────────────────────────────────────\n",
       "                                                                        ρ                   \n",
       "\n",
       "    2                       ⎞                        \n",
       "   ∂             ∂          ⎟  -2⋅γ(t, ρ) + 2⋅ψ(t, ρ)\n",
       "ρ⋅───(ψ(t, ρ)) - ──(ψ(t, ρ))⎟⋅ℯ                      \n",
       "    2            ∂ρ         ⎟                        \n",
       "  ∂t                        ⎠                        \n",
       "─────────────────────────────────────────────────────\n",
       "                                                     "
      ]
     },
     "execution_count": 17,
     "metadata": {},
     "output_type": "execute_result"
    }
   ],
   "source": [
    "R = RicciScalar.from_riccitensor(Ric)\n",
    "R.simplify()\n",
    "R.expr"
   ]
  },
  {
   "cell_type": "code",
   "execution_count": 18,
   "id": "1b57b6a3",
   "metadata": {},
   "outputs": [
    {
     "data": {
      "text/latex": [
       "$\\displaystyle \\left[\\begin{matrix}\\frac{\\rho \\left(\\frac{\\partial^{2}}{\\partial \\rho^{2}} \\gamma{\\left(t,\\rho \\right)} - \\frac{\\partial^{2}}{\\partial t^{2}} \\gamma{\\left(t,\\rho \\right)} - \\frac{\\partial^{2}}{\\partial \\rho^{2}} \\psi{\\left(t,\\rho \\right)} - 2 \\left(\\frac{\\partial}{\\partial t} \\psi{\\left(t,\\rho \\right)}\\right)^{2} + \\frac{\\partial^{2}}{\\partial t^{2}} \\psi{\\left(t,\\rho \\right)}\\right) + \\frac{\\partial}{\\partial \\rho} \\gamma{\\left(t,\\rho \\right)} - \\frac{\\partial}{\\partial \\rho} \\psi{\\left(t,\\rho \\right)}}{\\rho} - \\frac{1.0 \\left(\\rho \\frac{\\partial^{2}}{\\partial \\rho^{2}} \\gamma{\\left(t,\\rho \\right)} - \\rho \\frac{\\partial^{2}}{\\partial t^{2}} \\gamma{\\left(t,\\rho \\right)} + \\rho \\left(\\frac{\\partial}{\\partial \\rho} \\psi{\\left(t,\\rho \\right)}\\right)^{2} - \\rho \\frac{\\partial^{2}}{\\partial \\rho^{2}} \\psi{\\left(t,\\rho \\right)} - \\rho \\left(\\frac{\\partial}{\\partial t} \\psi{\\left(t,\\rho \\right)}\\right)^{2} + \\rho \\frac{\\partial^{2}}{\\partial t^{2}} \\psi{\\left(t,\\rho \\right)} - \\frac{\\partial}{\\partial \\rho} \\psi{\\left(t,\\rho \\right)}\\right) e^{- 2 \\gamma{\\left(t,\\rho \\right)} + 2 \\psi{\\left(t,\\rho \\right)}} e^{2 \\gamma{\\left(t,\\rho \\right)}} e^{- 2 \\psi{\\left(t,\\rho \\right)}}}{\\rho} & - 2 \\frac{\\partial}{\\partial \\rho} \\psi{\\left(t,\\rho \\right)} \\frac{\\partial}{\\partial t} \\psi{\\left(t,\\rho \\right)} + \\frac{\\frac{\\partial}{\\partial t} \\gamma{\\left(t,\\rho \\right)}}{\\rho} & 0 & 0\\\\- 2 \\frac{\\partial}{\\partial \\rho} \\psi{\\left(t,\\rho \\right)} \\frac{\\partial}{\\partial t} \\psi{\\left(t,\\rho \\right)} + \\frac{\\frac{\\partial}{\\partial t} \\gamma{\\left(t,\\rho \\right)}}{\\rho} & \\frac{\\rho \\left(- \\frac{\\partial^{2}}{\\partial \\rho^{2}} \\gamma{\\left(t,\\rho \\right)} + \\frac{\\partial^{2}}{\\partial t^{2}} \\gamma{\\left(t,\\rho \\right)} - 2 \\left(\\frac{\\partial}{\\partial \\rho} \\psi{\\left(t,\\rho \\right)}\\right)^{2} + \\frac{\\partial^{2}}{\\partial \\rho^{2}} \\psi{\\left(t,\\rho \\right)} - \\frac{\\partial^{2}}{\\partial t^{2}} \\psi{\\left(t,\\rho \\right)}\\right) + \\frac{\\partial}{\\partial \\rho} \\gamma{\\left(t,\\rho \\right)} + \\frac{\\partial}{\\partial \\rho} \\psi{\\left(t,\\rho \\right)}}{\\rho} + \\frac{1.0 \\left(\\rho \\frac{\\partial^{2}}{\\partial \\rho^{2}} \\gamma{\\left(t,\\rho \\right)} - \\rho \\frac{\\partial^{2}}{\\partial t^{2}} \\gamma{\\left(t,\\rho \\right)} + \\rho \\left(\\frac{\\partial}{\\partial \\rho} \\psi{\\left(t,\\rho \\right)}\\right)^{2} - \\rho \\frac{\\partial^{2}}{\\partial \\rho^{2}} \\psi{\\left(t,\\rho \\right)} - \\rho \\left(\\frac{\\partial}{\\partial t} \\psi{\\left(t,\\rho \\right)}\\right)^{2} + \\rho \\frac{\\partial^{2}}{\\partial t^{2}} \\psi{\\left(t,\\rho \\right)} - \\frac{\\partial}{\\partial \\rho} \\psi{\\left(t,\\rho \\right)}\\right) e^{- 2 \\gamma{\\left(t,\\rho \\right)} + 2 \\psi{\\left(t,\\rho \\right)}} e^{2 \\gamma{\\left(t,\\rho \\right)}} e^{- 2 \\psi{\\left(t,\\rho \\right)}}}{\\rho} & 0 & 0\\\\0 & 0 & \\rho \\left(\\rho \\frac{\\partial^{2}}{\\partial \\rho^{2}} \\psi{\\left(t,\\rho \\right)} - \\rho \\frac{\\partial^{2}}{\\partial t^{2}} \\psi{\\left(t,\\rho \\right)} + \\frac{\\partial}{\\partial \\rho} \\psi{\\left(t,\\rho \\right)}\\right) e^{- 2 \\gamma{\\left(t,\\rho \\right)}} + 1.0 \\rho \\left(\\rho \\frac{\\partial^{2}}{\\partial \\rho^{2}} \\gamma{\\left(t,\\rho \\right)} - \\rho \\frac{\\partial^{2}}{\\partial t^{2}} \\gamma{\\left(t,\\rho \\right)} + \\rho \\left(\\frac{\\partial}{\\partial \\rho} \\psi{\\left(t,\\rho \\right)}\\right)^{2} - \\rho \\frac{\\partial^{2}}{\\partial \\rho^{2}} \\psi{\\left(t,\\rho \\right)} - \\rho \\left(\\frac{\\partial}{\\partial t} \\psi{\\left(t,\\rho \\right)}\\right)^{2} + \\rho \\frac{\\partial^{2}}{\\partial t^{2}} \\psi{\\left(t,\\rho \\right)} - \\frac{\\partial}{\\partial \\rho} \\psi{\\left(t,\\rho \\right)}\\right) e^{- 2 \\gamma{\\left(t,\\rho \\right)} + 2 \\psi{\\left(t,\\rho \\right)}} e^{- 2 \\psi{\\left(t,\\rho \\right)}} & 0\\\\0 & 0 & 0 & \\frac{\\left(- \\rho \\frac{\\partial^{2}}{\\partial \\rho^{2}} \\psi{\\left(t,\\rho \\right)} + \\rho \\frac{\\partial^{2}}{\\partial t^{2}} \\psi{\\left(t,\\rho \\right)} - \\frac{\\partial}{\\partial \\rho} \\psi{\\left(t,\\rho \\right)}\\right) e^{- 2 \\gamma{\\left(t,\\rho \\right)} + 4 \\psi{\\left(t,\\rho \\right)}}}{\\rho} + \\frac{1.0 \\left(\\rho \\frac{\\partial^{2}}{\\partial \\rho^{2}} \\gamma{\\left(t,\\rho \\right)} - \\rho \\frac{\\partial^{2}}{\\partial t^{2}} \\gamma{\\left(t,\\rho \\right)} + \\rho \\left(\\frac{\\partial}{\\partial \\rho} \\psi{\\left(t,\\rho \\right)}\\right)^{2} - \\rho \\frac{\\partial^{2}}{\\partial \\rho^{2}} \\psi{\\left(t,\\rho \\right)} - \\rho \\left(\\frac{\\partial}{\\partial t} \\psi{\\left(t,\\rho \\right)}\\right)^{2} + \\rho \\frac{\\partial^{2}}{\\partial t^{2}} \\psi{\\left(t,\\rho \\right)} - \\frac{\\partial}{\\partial \\rho} \\psi{\\left(t,\\rho \\right)}\\right) e^{- 2 \\gamma{\\left(t,\\rho \\right)} + 2 \\psi{\\left(t,\\rho \\right)}} e^{2 \\psi{\\left(t,\\rho \\right)}}}{\\rho}\\end{matrix}\\right]$"
      ],
      "text/plain": [
       "⎡  ⎛  2              2              2                           2     2         ⎞           \n",
       "⎢  ⎜ ∂              ∂              ∂               ⎛∂          ⎞     ∂          ⎟   ∂       \n",
       "⎢ρ⋅⎜───(γ(t, ρ)) - ───(γ(t, ρ)) - ───(ψ(t, ρ)) - 2⋅⎜──(ψ(t, ρ))⎟  + ───(ψ(t, ρ))⎟ + ──(γ(t, \n",
       "⎢  ⎜  2              2              2              ⎝∂t         ⎠      2         ⎟   ∂ρ      \n",
       "⎢  ⎝∂ρ             ∂t             ∂ρ                                ∂t          ⎠           \n",
       "⎢───────────────────────────────────────────────────────────────────────────────────────────\n",
       "⎢                                                     ρ                                     \n",
       "⎢                                                                                           \n",
       "⎢                                                                                           \n",
       "⎢                                                                                           \n",
       "⎢                                                                                           \n",
       "⎢                                                                                           \n",
       "⎢                                                                                           \n",
       "⎢                                                                                           \n",
       "⎢                                                                                           \n",
       "⎢                                                                                           \n",
       "⎢                                                                                           \n",
       "⎢                                                                                           \n",
       "⎢                                                                                           \n",
       "⎢                                                                                           \n",
       "⎢                                                                                           \n",
       "⎢                                                                                           \n",
       "⎢                                                                                           \n",
       "⎢                                                                                           \n",
       "⎢                                                                                           \n",
       "⎢                                                                                           \n",
       "⎢                                                                                           \n",
       "⎢                                                                                           \n",
       "⎣                                                                                           \n",
       "\n",
       "                    ⎛    2                2                           2       2             \n",
       "      ∂             ⎜   ∂                ∂               ⎛∂          ⎞       ∂              \n",
       "ρ)) - ──(ψ(t, ρ))   ⎜ρ⋅───(γ(t, ρ)) - ρ⋅───(γ(t, ρ)) + ρ⋅⎜──(ψ(t, ρ))⎟  - ρ⋅───(ψ(t, ρ)) - ρ\n",
       "      ∂ρ            ⎜    2                2              ⎝∂ρ         ⎠        2             \n",
       "                    ⎝  ∂ρ               ∂t                                  ∂ρ              \n",
       "───────────────── - ────────────────────────────────────────────────────────────────────────\n",
       "                                                                                            \n",
       "                                                                                            \n",
       "                                                                                            \n",
       "                                                                                            \n",
       "                                                         ∂                                  \n",
       "                                                         ──(γ(t, ρ))                        \n",
       "                               ∂           ∂             ∂t                                 \n",
       "                           - 2⋅──(ψ(t, ρ))⋅──(ψ(t, ρ)) + ───────────                        \n",
       "                               ∂ρ          ∂t                 ρ                             \n",
       "                                                                                            \n",
       "                                                                                            \n",
       "                                                                                            \n",
       "                                               0                                            \n",
       "                                                                                            \n",
       "                                                                                            \n",
       "                                                                                            \n",
       "                                                                                            \n",
       "                                                                                            \n",
       "                                                                                            \n",
       "                                                                                            \n",
       "                                                                                            \n",
       "                                               0                                            \n",
       "                                                                                            \n",
       "\n",
       "              2       2                       ⎞                                             \n",
       " ⎛∂          ⎞       ∂             ∂          ⎟  -2⋅γ(t, ρ) + 2⋅ψ(t, ρ)  2⋅γ(t, ρ)  -2⋅ψ(t, \n",
       "⋅⎜──(ψ(t, ρ))⎟  + ρ⋅───(ψ(t, ρ)) - ──(ψ(t, ρ))⎟⋅ℯ                      ⋅ℯ         ⋅ℯ        \n",
       " ⎝∂t         ⎠        2            ∂ρ         ⎟                                             \n",
       "                    ∂t                        ⎠                                             \n",
       "────────────────────────────────────────────────────────────────────────────────────────────\n",
       "          ρ                                                                                 \n",
       "                                                                                            \n",
       "                                                                                            \n",
       "                                                                                            \n",
       "                                                                                            \n",
       "                                                                                            \n",
       "                                                                                            \n",
       "                                                                                            \n",
       "                                                                                            \n",
       "                                                                                            \n",
       "                                                                                            \n",
       "                                                                                            \n",
       "                                                                                            \n",
       "                                                                                            \n",
       "                                                                                            \n",
       "                                                                                            \n",
       "                                                                                            \n",
       "                                                                                            \n",
       "                                                                                            \n",
       "                                                                                            \n",
       "                                                                                            \n",
       "                                                                                            \n",
       "                                                                                            \n",
       "\n",
       "                                                                                            \n",
       "ρ)                                                                                          \n",
       "                                                                                            \n",
       "                                                                                            \n",
       "                                                                                            \n",
       "──                                                                                          \n",
       "                                                                                            \n",
       "                                                                                            \n",
       "      ⎛    2              2                           2     2              2         ⎞      \n",
       "      ⎜   ∂              ∂               ⎛∂          ⎞     ∂              ∂          ⎟   ∂  \n",
       "    ρ⋅⎜- ───(γ(t, ρ)) + ───(γ(t, ρ)) - 2⋅⎜──(ψ(t, ρ))⎟  + ───(ψ(t, ρ)) - ───(ψ(t, ρ))⎟ + ──(\n",
       "      ⎜    2              2              ⎝∂ρ         ⎠      2              2         ⎟   ∂ρ \n",
       "      ⎝  ∂ρ             ∂t                                ∂ρ             ∂t          ⎠      \n",
       "    ────────────────────────────────────────────────────────────────────────────────────────\n",
       "                                                          ρ                                 \n",
       "                                                                                            \n",
       "                                                                                            \n",
       "                                                                                            \n",
       "                                                                                            \n",
       "                                                                                            \n",
       "                                                                                            \n",
       "                                                                                            \n",
       "                                                                                            \n",
       "                                                                                            \n",
       "                                                                                            \n",
       "                                                                                            \n",
       "                                                                                            \n",
       "                                                                                            \n",
       "                                                                                            \n",
       "\n",
       "                                                                                            \n",
       "                                                                                            \n",
       "                                                               ∂                            \n",
       "                                                               ──(γ(t, ρ))                  \n",
       "                                     ∂           ∂             ∂t                           \n",
       "                                 - 2⋅──(ψ(t, ρ))⋅──(ψ(t, ρ)) + ───────────                  \n",
       "                                     ∂ρ          ∂t                 ρ                       \n",
       "                                                                                            \n",
       "                             ⎛    2                2                           2       2    \n",
       "           ∂                 ⎜   ∂                ∂               ⎛∂          ⎞       ∂     \n",
       "γ(t, ρ)) + ──(ψ(t, ρ))   1.0⋅⎜ρ⋅───(γ(t, ρ)) - ρ⋅───(γ(t, ρ)) + ρ⋅⎜──(ψ(t, ρ))⎟  - ρ⋅───(ψ(t\n",
       "           ∂ρ                ⎜    2                2              ⎝∂ρ         ⎠        2    \n",
       "                             ⎝  ∂ρ               ∂t                                  ∂ρ     \n",
       "────────────────────── + ───────────────────────────────────────────────────────────────────\n",
       "                                                                                            \n",
       "                                                                                            \n",
       "                                                                                            \n",
       "                                                                                            \n",
       "                                                     0                                      \n",
       "                                                                                            \n",
       "                                                                                            \n",
       "                                                                                            \n",
       "                                                                                            \n",
       "                                                                                            \n",
       "                                                                                            \n",
       "                                                                                            \n",
       "                                                                                            \n",
       "                                                     0                                      \n",
       "                                                                                            \n",
       "\n",
       "                                                                                            \n",
       "                                                                                            \n",
       "                                                                                            \n",
       "                                                                                            \n",
       "                                                                                            \n",
       "                                                                                            \n",
       "                                                                                            \n",
       "                                                                                            \n",
       "                       2       2                       ⎞                                    \n",
       "          ⎛∂          ⎞       ∂             ∂          ⎟  -2⋅γ(t, ρ) + 2⋅ψ(t, ρ)  2⋅γ(t, ρ) \n",
       ", ρ)) - ρ⋅⎜──(ψ(t, ρ))⎟  + ρ⋅───(ψ(t, ρ)) - ──(ψ(t, ρ))⎟⋅ℯ                      ⋅ℯ         ⋅\n",
       "          ⎝∂t         ⎠        2            ∂ρ         ⎟                                    \n",
       "                             ∂t                        ⎠                                    \n",
       "────────────────────────────────────────────────────────────────────────────────────────────\n",
       "                 ρ                                                                          \n",
       "                                                                                            \n",
       "                                                                                            \n",
       "                                                                                            \n",
       "                                                                                            \n",
       "                                                                                            \n",
       "                                                                                            \n",
       "                                                                                            \n",
       "                                                                                            \n",
       "                                                                                            \n",
       "                                                                                            \n",
       "                                                                                            \n",
       "                                                                                            \n",
       "                                                                                            \n",
       "                                                                                            \n",
       "\n",
       "                                                                                            \n",
       "                                                                                            \n",
       "                                                                                            \n",
       "                                                                                            \n",
       "                                                                                            \n",
       "                                                                                            \n",
       "                                                                                            \n",
       "                                                                                            \n",
       "                                                                                            \n",
       " -2⋅ψ(t, ρ)                                                                                 \n",
       "ℯ                                                                                           \n",
       "                                                                                            \n",
       "                                                                                            \n",
       "───────────                                                                                 \n",
       "                                                                                            \n",
       "                                                                                            \n",
       "               ⎛    2                2                       ⎞                     ⎛    2   \n",
       "               ⎜   ∂                ∂             ∂          ⎟  -2⋅γ(t, ρ)         ⎜   ∂    \n",
       "             ρ⋅⎜ρ⋅───(ψ(t, ρ)) - ρ⋅───(ψ(t, ρ)) + ──(ψ(t, ρ))⎟⋅ℯ           + 1.0⋅ρ⋅⎜ρ⋅───(γ(\n",
       "               ⎜    2                2            ∂ρ         ⎟                     ⎜    2   \n",
       "               ⎝  ∂ρ               ∂t                        ⎠                     ⎝  ∂ρ    \n",
       "                                                                                            \n",
       "                                                                                            \n",
       "                                                                                            \n",
       "                                                                                            \n",
       "                                                                                            \n",
       "                                                                                            \n",
       "                                                                                            \n",
       "                                                                                            \n",
       "\n",
       "                                                                                            \n",
       "                                                                                            \n",
       "                                                                                            \n",
       "                                                                                            \n",
       "                                                                                            \n",
       "                                 0                                                          \n",
       "                                                                                            \n",
       "                                                                                            \n",
       "                                                                                            \n",
       "                                                                                            \n",
       "                                                                                            \n",
       "                                                                                            \n",
       "                                                                                            \n",
       "                                 0                                                          \n",
       "                                                                                            \n",
       "                                                                                            \n",
       "             2                           2       2                           2       2      \n",
       "            ∂               ⎛∂          ⎞       ∂               ⎛∂          ⎞       ∂       \n",
       "t, ρ)) - ρ⋅───(γ(t, ρ)) + ρ⋅⎜──(ψ(t, ρ))⎟  - ρ⋅───(ψ(t, ρ)) - ρ⋅⎜──(ψ(t, ρ))⎟  + ρ⋅───(ψ(t, \n",
       "             2              ⎝∂ρ         ⎠        2              ⎝∂t         ⎠        2      \n",
       "           ∂t                                  ∂ρ                                  ∂t       \n",
       "                                                                                            \n",
       "                                                                                            \n",
       "                                                                                            \n",
       "                                                                                            \n",
       "                                                                                            \n",
       "                                                                                            \n",
       "                                 0                                                          \n",
       "                                                                                            \n",
       "\n",
       "                                                                                            \n",
       "                                                                                            \n",
       "                                                                                            \n",
       "                                                                                            \n",
       "                                                                                            \n",
       "                                                                                            \n",
       "                                                                                            \n",
       "                                                                                            \n",
       "                                                                                            \n",
       "                                                                                            \n",
       "                                                                                            \n",
       "                                                                                            \n",
       "                                                                                            \n",
       "                                                                                            \n",
       "                                                                                            \n",
       "                                                                                            \n",
       "                 ⎞                                                                          \n",
       "      ∂          ⎟  -2⋅γ(t, ρ) + 2⋅ψ(t, ρ)  -2⋅ψ(t, ρ)                                      \n",
       "ρ)) - ──(ψ(t, ρ))⎟⋅ℯ                      ⋅ℯ                                                \n",
       "      ∂ρ         ⎟                                                                          \n",
       "                 ⎠                                                                          \n",
       "                                                                                            \n",
       "                                                        ⎛      2                2           \n",
       "                                                        ⎜     ∂                ∂            \n",
       "                                                        ⎜- ρ⋅───(ψ(t, ρ)) + ρ⋅───(ψ(t, ρ)) -\n",
       "                                                        ⎜      2                2           \n",
       "                                                        ⎝    ∂ρ               ∂t            \n",
       "                                                        ────────────────────────────────────\n",
       "                                                                                            \n",
       "\n",
       "                                                                                            \n",
       "                                                                                            \n",
       "                                                                                            \n",
       "                                                                                            \n",
       "                                                                                            \n",
       "                                                                                0           \n",
       "                                                                                            \n",
       "                                                                                            \n",
       "                                                                                            \n",
       "                                                                                            \n",
       "                                                                                            \n",
       "                                                                                            \n",
       "                                                                                            \n",
       "                                                                                0           \n",
       "                                                                                            \n",
       "                                                                                            \n",
       "                                                                                            \n",
       "                                                                                            \n",
       "                                                                                0           \n",
       "                                                                                            \n",
       "                                                                                            \n",
       "                                                                                            \n",
       "            ⎞                               ⎛    2                2                         \n",
       " ∂          ⎟  -2⋅γ(t, ρ) + 4⋅ψ(t, ρ)       ⎜   ∂                ∂               ⎛∂         \n",
       " ──(ψ(t, ρ))⎟⋅ℯ                         1.0⋅⎜ρ⋅───(γ(t, ρ)) - ρ⋅───(γ(t, ρ)) + ρ⋅⎜──(ψ(t, ρ)\n",
       " ∂ρ         ⎟                               ⎜    2                2              ⎝∂ρ        \n",
       "            ⎠                               ⎝  ∂ρ               ∂t                          \n",
       "───────────────────────────────────── + ────────────────────────────────────────────────────\n",
       "ρ                                                                                           \n",
       "\n",
       "                                                                                            \n",
       "                                                                                            \n",
       "                                                                                            \n",
       "                                                                                            \n",
       "                                                                                            \n",
       "                                                                                            \n",
       "                                                                                            \n",
       "                                                                                            \n",
       "                                                                                            \n",
       "                                                                                            \n",
       "                                                                                            \n",
       "                                                                                            \n",
       "                                                                                            \n",
       "                                                                                            \n",
       "                                                                                            \n",
       "                                                                                            \n",
       "                                                                                            \n",
       "                                                                                            \n",
       "                                                                                            \n",
       "                                                                                            \n",
       "                                                                                            \n",
       "                                                                                            \n",
       "  2       2                           2       2                       ⎞                     \n",
       " ⎞       ∂               ⎛∂          ⎞       ∂             ∂          ⎟  -2⋅γ(t, ρ) + 2⋅ψ(t,\n",
       ")⎟  - ρ⋅───(ψ(t, ρ)) - ρ⋅⎜──(ψ(t, ρ))⎟  + ρ⋅───(ψ(t, ρ)) - ──(ψ(t, ρ))⎟⋅ℯ                   \n",
       " ⎠        2              ⎝∂t         ⎠        2            ∂ρ         ⎟                     \n",
       "        ∂ρ                                  ∂t                        ⎠                     \n",
       "────────────────────────────────────────────────────────────────────────────────────────────\n",
       "                          ρ                                                                 \n",
       "\n",
       "              ⎤\n",
       "              ⎥\n",
       "              ⎥\n",
       "              ⎥\n",
       "              ⎥\n",
       "              ⎥\n",
       "              ⎥\n",
       "              ⎥\n",
       "              ⎥\n",
       "              ⎥\n",
       "              ⎥\n",
       "              ⎥\n",
       "              ⎥\n",
       "              ⎥\n",
       "              ⎥\n",
       "              ⎥\n",
       "              ⎥\n",
       "              ⎥\n",
       "              ⎥\n",
       "              ⎥\n",
       "              ⎥\n",
       "              ⎥\n",
       "              ⎥\n",
       " ρ)  2⋅ψ(t, ρ)⎥\n",
       "   ⋅ℯ         ⎥\n",
       "              ⎥\n",
       "              ⎥\n",
       "──────────────⎥\n",
       "              ⎦"
      ]
     },
     "execution_count": 18,
     "metadata": {},
     "output_type": "execute_result"
    }
   ],
   "source": [
    "einst = EinsteinTensor.from_metric(metric)\n",
    "einst.tensor()"
   ]
  },
  {
   "cell_type": "code",
   "execution_count": 19,
   "id": "ff5d3cba",
   "metadata": {},
   "outputs": [],
   "source": [
    "#  rm1 = RiemannCurvatureTensor.from_christoffels(ch)\n",
    "#  rm1.tensor()"
   ]
  },
  {
   "cell_type": "code",
   "execution_count": 20,
   "id": "c4be20d8",
   "metadata": {},
   "outputs": [],
   "source": [
    "#  weyl = WeylTensor.from_metric(metric)\n",
    "#  weyl.tensor()"
   ]
  },
  {
   "cell_type": "code",
   "execution_count": 21,
   "id": "00d8c700",
   "metadata": {},
   "outputs": [
    {
     "data": {
      "text/latex": [
       "$\\displaystyle \\left[\\begin{matrix}\\frac{- \\rho \\left(- \\frac{\\partial^{2}}{\\partial \\rho^{2}} \\gamma{\\left(t,\\rho \\right)} + \\frac{\\partial^{2}}{\\partial t^{2}} \\gamma{\\left(t,\\rho \\right)} + \\frac{\\partial^{2}}{\\partial \\rho^{2}} \\psi{\\left(t,\\rho \\right)} + 2 \\left(\\frac{\\partial}{\\partial t} \\psi{\\left(t,\\rho \\right)}\\right)^{2} - \\frac{\\partial^{2}}{\\partial t^{2}} \\psi{\\left(t,\\rho \\right)}\\right) + \\frac{\\partial}{\\partial \\rho} \\gamma{\\left(t,\\rho \\right)} - \\frac{\\partial}{\\partial \\rho} \\psi{\\left(t,\\rho \\right)}}{\\rho} & - 2 \\frac{\\partial}{\\partial \\rho} \\psi{\\left(t,\\rho \\right)} \\frac{\\partial}{\\partial t} \\psi{\\left(t,\\rho \\right)} + \\frac{\\frac{\\partial}{\\partial t} \\gamma{\\left(t,\\rho \\right)}}{\\rho} & 0 & 0\\\\- 2 \\frac{\\partial}{\\partial \\rho} \\psi{\\left(t,\\rho \\right)} \\frac{\\partial}{\\partial t} \\psi{\\left(t,\\rho \\right)} + \\frac{\\frac{\\partial}{\\partial t} \\gamma{\\left(t,\\rho \\right)}}{\\rho} & \\frac{- \\rho \\left(\\frac{\\partial^{2}}{\\partial \\rho^{2}} \\gamma{\\left(t,\\rho \\right)} - \\frac{\\partial^{2}}{\\partial t^{2}} \\gamma{\\left(t,\\rho \\right)} + 2 \\left(\\frac{\\partial}{\\partial \\rho} \\psi{\\left(t,\\rho \\right)}\\right)^{2} - \\frac{\\partial^{2}}{\\partial \\rho^{2}} \\psi{\\left(t,\\rho \\right)} + \\frac{\\partial^{2}}{\\partial t^{2}} \\psi{\\left(t,\\rho \\right)}\\right) + \\frac{\\partial}{\\partial \\rho} \\gamma{\\left(t,\\rho \\right)} + \\frac{\\partial}{\\partial \\rho} \\psi{\\left(t,\\rho \\right)}}{\\rho} & 0 & 0\\\\0 & 0 & \\rho \\left(\\rho \\frac{\\partial^{2}}{\\partial \\rho^{2}} \\psi{\\left(t,\\rho \\right)} - \\rho \\frac{\\partial^{2}}{\\partial t^{2}} \\psi{\\left(t,\\rho \\right)} + \\frac{\\partial}{\\partial \\rho} \\psi{\\left(t,\\rho \\right)}\\right) e^{- 2 \\gamma{\\left(t,\\rho \\right)}} & 0\\\\0 & 0 & 0 & \\frac{\\left(- \\rho \\frac{\\partial^{2}}{\\partial \\rho^{2}} \\psi{\\left(t,\\rho \\right)} + \\rho \\frac{\\partial^{2}}{\\partial t^{2}} \\psi{\\left(t,\\rho \\right)} - \\frac{\\partial}{\\partial \\rho} \\psi{\\left(t,\\rho \\right)}\\right) e^{- 2 \\gamma{\\left(t,\\rho \\right)} + 4 \\psi{\\left(t,\\rho \\right)}}}{\\rho}\\end{matrix}\\right]$"
      ],
      "text/plain": [
       "⎡    ⎛    2              2              2                           2     2         ⎞       \n",
       "⎢    ⎜   ∂              ∂              ∂               ⎛∂          ⎞     ∂          ⎟   ∂   \n",
       "⎢- ρ⋅⎜- ───(γ(t, ρ)) + ───(γ(t, ρ)) + ───(ψ(t, ρ)) + 2⋅⎜──(ψ(t, ρ))⎟  - ───(ψ(t, ρ))⎟ + ──(γ\n",
       "⎢    ⎜    2              2              2              ⎝∂t         ⎠      2         ⎟   ∂ρ  \n",
       "⎢    ⎝  ∂ρ             ∂t             ∂ρ                                ∂t          ⎠       \n",
       "⎢───────────────────────────────────────────────────────────────────────────────────────────\n",
       "⎢                                                       ρ                                   \n",
       "⎢                                                                                           \n",
       "⎢                                                                                           \n",
       "⎢                                                                                           \n",
       "⎢                                                                 ∂                         \n",
       "⎢                                                                 ──(γ(t, ρ))               \n",
       "⎢                                       ∂           ∂             ∂t                        \n",
       "⎢                                   - 2⋅──(ψ(t, ρ))⋅──(ψ(t, ρ)) + ───────────               \n",
       "⎢                                       ∂ρ          ∂t                 ρ                    \n",
       "⎢                                                                                           \n",
       "⎢                                                                                           \n",
       "⎢                                                                                           \n",
       "⎢                                                       0                                   \n",
       "⎢                                                                                           \n",
       "⎢                                                                                           \n",
       "⎢                                                                                           \n",
       "⎢                                                                                           \n",
       "⎢                                                                                           \n",
       "⎢                                                                                           \n",
       "⎢                                                                                           \n",
       "⎢                                                                                           \n",
       "⎢                                                       0                                   \n",
       "⎣                                                                                           \n",
       "\n",
       "                                                                                            \n",
       "          ∂                                                                                 \n",
       "(t, ρ)) - ──(ψ(t, ρ))                                                                  ∂    \n",
       "          ∂ρ                                                                           ──(γ(\n",
       "                                                             ∂           ∂             ∂t   \n",
       "─────────────────────                                    - 2⋅──(ψ(t, ρ))⋅──(ψ(t, ρ)) + ─────\n",
       "                                                             ∂ρ          ∂t                 \n",
       "                                                                                            \n",
       "                           ⎛  2              2                           2     2            \n",
       "                           ⎜ ∂              ∂               ⎛∂          ⎞     ∂             \n",
       "                       - ρ⋅⎜───(γ(t, ρ)) - ───(γ(t, ρ)) + 2⋅⎜──(ψ(t, ρ))⎟  - ───(ψ(t, ρ)) + \n",
       "                           ⎜  2              2              ⎝∂ρ         ⎠      2            \n",
       "                           ⎝∂ρ             ∂t                                ∂ρ             \n",
       "                       ─────────────────────────────────────────────────────────────────────\n",
       "                                                                             ρ              \n",
       "                                                                                            \n",
       "                                                                                            \n",
       "                                                                                            \n",
       "                                                                             0              \n",
       "                                                                                            \n",
       "                                                                                            \n",
       "                                                                                            \n",
       "                                                                                            \n",
       "                                                                                            \n",
       "                                                                                            \n",
       "                                                                                            \n",
       "                                                                                            \n",
       "                                                                             0              \n",
       "                                                                                            \n",
       "\n",
       "                                                                                            \n",
       "                                                                                            \n",
       "                                                                                            \n",
       "t, ρ))                                                                                      \n",
       "                                                                                            \n",
       "──────                                                                   0                  \n",
       "ρ                                                                                           \n",
       "                                                                                            \n",
       "  2         ⎞                                                                               \n",
       " ∂          ⎟   ∂             ∂                                                             \n",
       "───(ψ(t, ρ))⎟ + ──(γ(t, ρ)) + ──(ψ(t, ρ))                                                   \n",
       "  2         ⎟   ∂ρ            ∂ρ                                                            \n",
       "∂t          ⎠                                                                               \n",
       "─────────────────────────────────────────                                0                  \n",
       "                                                                                            \n",
       "                                                                                            \n",
       "                                             ⎛    2                2                       ⎞\n",
       "                                             ⎜   ∂                ∂             ∂          ⎟\n",
       "                                           ρ⋅⎜ρ⋅───(ψ(t, ρ)) - ρ⋅───(ψ(t, ρ)) + ──(ψ(t, ρ))⎟\n",
       "                                             ⎜    2                2            ∂ρ         ⎟\n",
       "                                             ⎝  ∂ρ               ∂t                        ⎠\n",
       "                                                                                            \n",
       "                                                                                            \n",
       "                                                                                            \n",
       "                                                                                            \n",
       "                                                                                            \n",
       "                                                                                            \n",
       "                                                                         0                  \n",
       "                                                                                            \n",
       "\n",
       "                                                                                       ⎤\n",
       "                                                                                       ⎥\n",
       "                                                                                       ⎥\n",
       "                                                                                       ⎥\n",
       "                                                                                       ⎥\n",
       "                                                  0                                    ⎥\n",
       "                                                                                       ⎥\n",
       "                                                                                       ⎥\n",
       "                                                                                       ⎥\n",
       "                                                                                       ⎥\n",
       "                                                                                       ⎥\n",
       "                                                                                       ⎥\n",
       "                                                                                       ⎥\n",
       "                                                  0                                    ⎥\n",
       "                                                                                       ⎥\n",
       "                                                                                       ⎥\n",
       "                                                                                       ⎥\n",
       "  -2⋅γ(t, ρ)                                                                           ⎥\n",
       "⋅ℯ                                                0                                    ⎥\n",
       "                                                                                       ⎥\n",
       "                                                                                       ⎥\n",
       "                                                                                       ⎥\n",
       "              ⎛      2                2                       ⎞                        ⎥\n",
       "              ⎜     ∂                ∂             ∂          ⎟  -2⋅γ(t, ρ) + 4⋅ψ(t, ρ)⎥\n",
       "              ⎜- ρ⋅───(ψ(t, ρ)) + ρ⋅───(ψ(t, ρ)) - ──(ψ(t, ρ))⎟⋅ℯ                      ⎥\n",
       "              ⎜      2                2            ∂ρ         ⎟                        ⎥\n",
       "              ⎝    ∂ρ               ∂t                        ⎠                        ⎥\n",
       "              ─────────────────────────────────────────────────────────────────────────⎥\n",
       "                                                  ρ                                    ⎦"
      ]
     },
     "execution_count": 21,
     "metadata": {},
     "output_type": "execute_result"
    }
   ],
   "source": [
    "ricciSimplified = simplify(Ric.tensor())\n",
    "ricciSimplified"
   ]
  },
  {
   "cell_type": "code",
   "execution_count": 22,
   "id": "c1e7e33f",
   "metadata": {},
   "outputs": [
    {
     "data": {
      "text/latex": [
       "$\\displaystyle \\left[\\begin{matrix}- 1.0 \\left(\\frac{\\partial}{\\partial \\rho} \\psi{\\left(t,\\rho \\right)}\\right)^{2} - 1.0 \\left(\\frac{\\partial}{\\partial t} \\psi{\\left(t,\\rho \\right)}\\right)^{2} + \\frac{1.0 \\frac{\\partial}{\\partial \\rho} \\gamma{\\left(t,\\rho \\right)}}{\\rho} & - 2 \\frac{\\partial}{\\partial \\rho} \\psi{\\left(t,\\rho \\right)} \\frac{\\partial}{\\partial t} \\psi{\\left(t,\\rho \\right)} + \\frac{\\frac{\\partial}{\\partial t} \\gamma{\\left(t,\\rho \\right)}}{\\rho} & 0 & 0\\\\- 2 \\frac{\\partial}{\\partial \\rho} \\psi{\\left(t,\\rho \\right)} \\frac{\\partial}{\\partial t} \\psi{\\left(t,\\rho \\right)} + \\frac{\\frac{\\partial}{\\partial t} \\gamma{\\left(t,\\rho \\right)}}{\\rho} & - 1.0 \\left(\\frac{\\partial}{\\partial \\rho} \\psi{\\left(t,\\rho \\right)}\\right)^{2} - 1.0 \\left(\\frac{\\partial}{\\partial t} \\psi{\\left(t,\\rho \\right)}\\right)^{2} + \\frac{1.0 \\frac{\\partial}{\\partial \\rho} \\gamma{\\left(t,\\rho \\right)}}{\\rho} & 0 & 0\\\\0 & 0 & 1.0 \\rho^{2} \\left(\\frac{\\partial^{2}}{\\partial \\rho^{2}} \\gamma{\\left(t,\\rho \\right)} - \\frac{\\partial^{2}}{\\partial t^{2}} \\gamma{\\left(t,\\rho \\right)} + \\left(\\frac{\\partial}{\\partial \\rho} \\psi{\\left(t,\\rho \\right)}\\right)^{2} - \\left(\\frac{\\partial}{\\partial t} \\psi{\\left(t,\\rho \\right)}\\right)^{2}\\right) e^{- 2 \\gamma{\\left(t,\\rho \\right)}} & 0\\\\0 & 0 & 0 & \\frac{\\left(1.0 \\rho \\frac{\\partial^{2}}{\\partial \\rho^{2}} \\gamma{\\left(t,\\rho \\right)} - 1.0 \\rho \\frac{\\partial^{2}}{\\partial t^{2}} \\gamma{\\left(t,\\rho \\right)} + 1.0 \\rho \\left(\\frac{\\partial}{\\partial \\rho} \\psi{\\left(t,\\rho \\right)}\\right)^{2} - 2.0 \\rho \\frac{\\partial^{2}}{\\partial \\rho^{2}} \\psi{\\left(t,\\rho \\right)} - 1.0 \\rho \\left(\\frac{\\partial}{\\partial t} \\psi{\\left(t,\\rho \\right)}\\right)^{2} + 2.0 \\rho \\frac{\\partial^{2}}{\\partial t^{2}} \\psi{\\left(t,\\rho \\right)} - 2.0 \\frac{\\partial}{\\partial \\rho} \\psi{\\left(t,\\rho \\right)}\\right) e^{- 2 \\gamma{\\left(t,\\rho \\right)} + 4 \\psi{\\left(t,\\rho \\right)}}}{\\rho}\\end{matrix}\\right]$"
      ],
      "text/plain": [
       "⎡                                        ∂                                               ∂  \n",
       "⎢               2                2   1.0⋅──(γ(t, ρ))                                     ──(\n",
       "⎢  ⎛∂          ⎞    ⎛∂          ⎞        ∂ρ                    ∂           ∂             ∂t \n",
       "⎢- ⎜──(ψ(t, ρ))⎟  - ⎜──(ψ(t, ρ))⎟  + ───────────────       - 2⋅──(ψ(t, ρ))⋅──(ψ(t, ρ)) + ───\n",
       "⎢  ⎝∂ρ         ⎠    ⎝∂t         ⎠           ρ                  ∂ρ          ∂t               \n",
       "⎢                                                                                           \n",
       "⎢                                   ∂                                                       \n",
       "⎢                                   ──(γ(t, ρ))                      2                2   1.\n",
       "⎢         ∂           ∂             ∂t                  ⎛∂          ⎞    ⎛∂          ⎞      \n",
       "⎢     - 2⋅──(ψ(t, ρ))⋅──(ψ(t, ρ)) + ───────────       - ⎜──(ψ(t, ρ))⎟  - ⎜──(ψ(t, ρ))⎟  + ──\n",
       "⎢         ∂ρ          ∂t                 ρ              ⎝∂ρ         ⎠    ⎝∂t         ⎠      \n",
       "⎢                                                                                           \n",
       "⎢                                                                                           \n",
       "⎢                                                                                           \n",
       "⎢                         0                                                    0            \n",
       "⎢                                                                                           \n",
       "⎢                                                                                           \n",
       "⎢                                                                                           \n",
       "⎢                                                                                           \n",
       "⎢                                                                                           \n",
       "⎢                                                                                           \n",
       "⎢                                                                                           \n",
       "⎢                                                                                           \n",
       "⎢                         0                                                    0            \n",
       "⎣                                                                                           \n",
       "\n",
       "                                                                                            \n",
       "γ(t, ρ))                                                                                    \n",
       "                                                                                            \n",
       "────────                                               0                                    \n",
       "  ρ                                                                                         \n",
       "                                                                                            \n",
       "  ∂                                                                                         \n",
       "0⋅──(γ(t, ρ))                                                                               \n",
       "  ∂ρ                                                                                        \n",
       "─────────────                                          0                                    \n",
       "     ρ                                                                                      \n",
       "                                                                                            \n",
       "                      ⎛  2              2                         2                2⎞       \n",
       "                    2 ⎜ ∂              ∂             ⎛∂          ⎞    ⎛∂          ⎞ ⎟  -2⋅γ(\n",
       "               1.0⋅ρ ⋅⎜───(γ(t, ρ)) - ───(γ(t, ρ)) + ⎜──(ψ(t, ρ))⎟  - ⎜──(ψ(t, ρ))⎟ ⎟⋅ℯ     \n",
       "                      ⎜  2              2            ⎝∂ρ         ⎠    ⎝∂t         ⎠ ⎟       \n",
       "                      ⎝∂ρ             ∂t                                            ⎠       \n",
       "                                                                                            \n",
       "                                                                                            \n",
       "                                                                                            \n",
       "                                                                                            \n",
       "                                                                                            \n",
       "                                                                                            \n",
       "                                                       0                                    \n",
       "                                                                                            \n",
       "\n",
       "                                                                                            \n",
       "                                                                                            \n",
       "                                                                                            \n",
       "                                                                                        0   \n",
       "                                                                                            \n",
       "                                                                                            \n",
       "                                                                                            \n",
       "                                                                                            \n",
       "                                                                                            \n",
       "                                                                                        0   \n",
       "                                                                                            \n",
       "                                                                                            \n",
       "                                                                                            \n",
       "t, ρ)                                                                                       \n",
       "                                                                                        0   \n",
       "                                                                                            \n",
       "                                                                                            \n",
       "                                                                                            \n",
       "       ⎛        2                2                               2           2              \n",
       "       ⎜       ∂                ∂                   ⎛∂          ⎞           ∂               \n",
       "       ⎜1.0⋅ρ⋅───(γ(t, ρ)) - ρ⋅───(γ(t, ρ)) + 1.0⋅ρ⋅⎜──(ψ(t, ρ))⎟  - 2.0⋅ρ⋅───(ψ(t, ρ)) - ρ⋅\n",
       "       ⎜        2                2                  ⎝∂ρ         ⎠            2              \n",
       "       ⎝      ∂ρ               ∂t                                          ∂ρ               \n",
       "       ─────────────────────────────────────────────────────────────────────────────────────\n",
       "                                                                                        ρ   \n",
       "\n",
       "                                                                              ⎤\n",
       "                                                                              ⎥\n",
       "                                                                              ⎥\n",
       "                                                                              ⎥\n",
       "                                                                              ⎥\n",
       "                                                                              ⎥\n",
       "                                                                              ⎥\n",
       "                                                                              ⎥\n",
       "                                                                              ⎥\n",
       "                                                                              ⎥\n",
       "                                                                              ⎥\n",
       "                                                                              ⎥\n",
       "                                                                              ⎥\n",
       "                                                                              ⎥\n",
       "                                                                              ⎥\n",
       "                                                                              ⎥\n",
       "                                                                              ⎥\n",
       "                                                                              ⎥\n",
       "             2           2                           ⎞                        ⎥\n",
       "⎛∂          ⎞           ∂                 ∂          ⎟  -2⋅γ(t, ρ) + 4⋅ψ(t, ρ)⎥\n",
       "⎜──(ψ(t, ρ))⎟  + 2.0⋅ρ⋅───(ψ(t, ρ)) - 2.0⋅──(ψ(t, ρ))⎟⋅ℯ                      ⎥\n",
       "⎝∂t         ⎠            2                ∂ρ         ⎟                        ⎥\n",
       "                       ∂t                            ⎠                        ⎥\n",
       "──────────────────────────────────────────────────────────────────────────────⎥\n",
       "                                                                              ⎦"
      ]
     },
     "execution_count": 22,
     "metadata": {},
     "output_type": "execute_result"
    }
   ],
   "source": [
    "einsteinSimplified = simplify(einst.tensor())\n",
    "einsteinSimplified"
   ]
  },
  {
   "cell_type": "code",
   "execution_count": 38,
   "id": "d1ea3223",
   "metadata": {},
   "outputs": [
    {
     "data": {
      "image/png": "[encoded data removed]",
      "text/latex": [
       "$\\displaystyle \\frac{\\partial^{2}}{\\partial \\rho^{2}} \\psi{\\left(t,\\rho \\right)} - \\frac{\\partial^{2}}{\\partial t^{2}} \\psi{\\left(t,\\rho \\right)} + \\frac{\\frac{\\partial}{\\partial \\rho} \\psi{\\left(t,\\rho \\right)}}{\\rho} = 0$"
      ],
      "text/plain": [
       "                              ∂              \n",
       "  2              2            ──(ψ(t, ρ))    \n",
       " ∂              ∂             ∂ρ             \n",
       "───(ψ(t, ρ)) - ───(ψ(t, ρ)) + ─────────── = 0\n",
       "  2              2                 ρ         \n",
       "∂ρ             ∂t                            "
      ]
     },
     "execution_count": 38,
     "metadata": {},
     "output_type": "execute_result"
    }
   ],
   "source": [
    "equation2 = Eq(expand((-1/rho)*ricciSimplified[3,3].args[1]),0)\n",
    "equation2"
   ]
  },
  {
   "cell_type": "code",
   "execution_count": 32,
   "id": "ba0bbdb9",
   "metadata": {},
   "outputs": [
    {
     "data": {
      "image/png": "[encoded data removed]",
      "text/latex": [
       "$\\displaystyle \\frac{\\partial^{2}}{\\partial \\rho^{2}} \\gamma{\\left(t,\\rho \\right)} - \\frac{\\partial^{2}}{\\partial t^{2}} \\gamma{\\left(t,\\rho \\right)} + \\left(\\frac{\\partial}{\\partial \\rho} \\psi{\\left(t,\\rho \\right)}\\right)^{2} - \\left(\\frac{\\partial}{\\partial t} \\psi{\\left(t,\\rho \\right)}\\right)^{2}$"
      ],
      "text/plain": [
       "  2              2                         2                2\n",
       " ∂              ∂             ⎛∂          ⎞    ⎛∂          ⎞ \n",
       "───(γ(t, ρ)) - ───(γ(t, ρ)) + ⎜──(ψ(t, ρ))⎟  - ⎜──(ψ(t, ρ))⎟ \n",
       "  2              2            ⎝∂ρ         ⎠    ⎝∂t         ⎠ \n",
       "∂ρ             ∂t                                            "
      ]
     },
     "execution_count": 32,
     "metadata": {},
     "output_type": "execute_result"
    }
   ],
   "source": [
    "equation3 = einsteinSimplified[2,2].args[2]\n",
    "equation3"
   ]
  },
  {
   "cell_type": "code",
   "execution_count": 28,
   "id": "4f047ef5",
   "metadata": {},
   "outputs": [
    {
     "data": {
      "image/png": "[encoded data removed]",
      "text/latex": [
       "$\\displaystyle \\frac{\\partial}{\\partial \\rho} \\gamma{\\left(t,\\rho \\right)} = \\rho \\left(\\left(\\frac{\\partial}{\\partial \\rho} \\psi{\\left(t,\\rho \\right)}\\right)^{2} + \\left(\\frac{\\partial}{\\partial t} \\psi{\\left(t,\\rho \\right)}\\right)^{2}\\right)$"
      ],
      "text/plain": [
       "                ⎛             2                2⎞\n",
       "∂               ⎜⎛∂          ⎞    ⎛∂          ⎞ ⎟\n",
       "──(γ(t, ρ)) = ρ⋅⎜⎜──(ψ(t, ρ))⎟  + ⎜──(ψ(t, ρ))⎟ ⎟\n",
       "∂ρ              ⎝⎝∂ρ         ⎠    ⎝∂t         ⎠ ⎠"
      ]
     },
     "execution_count": 28,
     "metadata": {},
     "output_type": "execute_result"
    }
   ],
   "source": [
    "equation4 = Eq( diff(gamma,rho), solve( einsteinSimplified[0,0], diff(gamma,rho))[0] ) \n",
    "equation4 "
   ]
  },
  {
   "cell_type": "code",
   "execution_count": 25,
   "id": "fdaec75b",
   "metadata": {},
   "outputs": [
    {
     "data": {
      "image/png": "[encoded data removed]",
      "text/latex": [
       "$\\displaystyle \\frac{\\partial}{\\partial t} \\gamma{\\left(t,\\rho \\right)} = 2 \\rho \\frac{\\partial}{\\partial \\rho} \\psi{\\left(t,\\rho \\right)} \\frac{\\partial}{\\partial t} \\psi{\\left(t,\\rho \\right)}$"
      ],
      "text/plain": [
       "∂                 ∂           ∂          \n",
       "──(γ(t, ρ)) = 2⋅ρ⋅──(ψ(t, ρ))⋅──(ψ(t, ρ))\n",
       "∂t                ∂ρ          ∂t         "
      ]
     },
     "execution_count": 25,
     "metadata": {},
     "output_type": "execute_result"
    }
   ],
   "source": [
    "equation5 = Eq(diff(gamma,t),solve( ricciSimplified[1,0], diff(gamma,t) )[0] ) \n",
    "equation5"
   ]
  },
  {
   "cell_type": "code",
   "execution_count": 43,
   "id": "d6909125",
   "metadata": {},
   "outputs": [
    {
     "data": {
      "image/png": "[encoded data removed]",
      "text/latex": [
       "$\\displaystyle \\psi{\\left(t,\\rho \\right)} = \\frac{1}{\\sqrt{\\rho^{2} - t^{2}}}$"
      ],
      "text/plain": [
       "               1      \n",
       "ψ(t, ρ) = ────────────\n",
       "             _________\n",
       "            ╱  2    2 \n",
       "          ╲╱  ρ  - t  "
      ]
     },
     "execution_count": 43,
     "metadata": {},
     "output_type": "execute_result"
    }
   ],
   "source": [
    "#  Bonner Following Appel\n",
    "equation5a = Eq(psi,sqrt(rho**2-t**2)**(-1))\n",
    "equation5a"
   ]
  },
  {
   "cell_type": "code",
   "execution_count": 44,
   "id": "1b3515b7",
   "metadata": {},
   "outputs": [
    {
     "data": {
      "image/png": "[encoded data removed]",
      "text/latex": [
       "$\\displaystyle \\frac{\\partial^{2}}{\\partial \\rho^{2}} \\frac{1}{\\sqrt{\\rho^{2} - t^{2}}} - \\frac{\\partial^{2}}{\\partial t^{2}} \\frac{1}{\\sqrt{\\rho^{2} - t^{2}}} + \\frac{\\frac{\\partial}{\\partial \\rho} \\frac{1}{\\sqrt{\\rho^{2} - t^{2}}}}{\\rho} = 0$"
      ],
      "text/plain": [
       "                                        ∂ ⎛     1      ⎞    \n",
       "                                        ──⎜────────────⎟    \n",
       "                                        ∂ρ⎜   _________⎟    \n",
       "  2                   2                   ⎜  ╱  2    2 ⎟    \n",
       " ∂ ⎛     1      ⎞    ∂ ⎛     1      ⎞     ⎝╲╱  ρ  - t  ⎠    \n",
       "───⎜────────────⎟ - ───⎜────────────⎟ + ──────────────── = 0\n",
       "  2⎜   _________⎟     2⎜   _________⎟          ρ            \n",
       "∂ρ ⎜  ╱  2    2 ⎟   ∂t ⎜  ╱  2    2 ⎟                       \n",
       "   ⎝╲╱  ρ  - t  ⎠      ⎝╲╱  ρ  - t  ⎠                       "
      ]
     },
     "execution_count": 44,
     "metadata": {},
     "output_type": "execute_result"
    }
   ],
   "source": [
    "#  Bonner Following Appel\n",
    "equation2.subs(equation5a.lhs,equation5a.rhs)"
   ]
  },
  {
   "cell_type": "code",
   "execution_count": 45,
   "id": "34e7a3e3",
   "metadata": {},
   "outputs": [
    {
     "data": {
      "image/png": "[encoded data removed]",
      "text/latex": [
       "$\\displaystyle \\frac{\\frac{3 \\rho^{2}}{\\rho^{2} - t^{2}} - 1}{\\left(\\rho^{2} - t^{2}\\right)^{\\frac{3}{2}}} - \\frac{\\frac{3 t^{2}}{\\rho^{2} - t^{2}} + 1}{\\left(\\rho^{2} - t^{2}\\right)^{\\frac{3}{2}}} - \\frac{1}{\\left(\\rho^{2} - t^{2}\\right)^{\\frac{3}{2}}} = 0$"
      ],
      "text/plain": [
       "     2              2                         \n",
       "  3⋅ρ            3⋅t                          \n",
       "─────── - 1    ─────── + 1                    \n",
       " 2    2         2    2                        \n",
       "ρ  - t         ρ  - t              1          \n",
       "──────────── - ──────────── - ──────────── = 0\n",
       "         3/2            3/2            3/2    \n",
       "⎛ 2    2⎞      ⎛ 2    2⎞      ⎛ 2    2⎞       \n",
       "⎝ρ  - t ⎠      ⎝ρ  - t ⎠      ⎝ρ  - t ⎠       "
      ]
     },
     "execution_count": 45,
     "metadata": {},
     "output_type": "execute_result"
    }
   ],
   "source": [
    "#  Bonner Following Appel\n",
    "equation2.subs(equation5a.lhs,equation5a.rhs).doit()"
   ]
  },
  {
   "cell_type": "code",
   "execution_count": 46,
   "id": "01283a56",
   "metadata": {},
   "outputs": [
    {
     "data": {
      "text/latex": [
       "$\\displaystyle \\text{True}$"
      ],
      "text/plain": [
       "True"
      ]
     },
     "execution_count": 46,
     "metadata": {},
     "output_type": "execute_result"
    }
   ],
   "source": [
    "#  Bonner Following Appel\n",
    "equation2.subs(equation5a.lhs,equation5a.rhs).doit().simplify()"
   ]
  },
  {
   "cell_type": "code",
   "execution_count": 50,
   "id": "bc054b94",
   "metadata": {},
   "outputs": [
    {
     "data": {
      "image/png": "[encoded data removed]",
      "text/latex": [
       "$\\displaystyle \\psi{\\left(t,\\rho \\right)} = \\frac{\\sqrt{u + \\sqrt{u^{2} + w^{2}}}}{\\sqrt{u^{2} + w^{2}}}$"
      ],
      "text/plain": [
       "              __________________\n",
       "             ╱        _________ \n",
       "            ╱        ╱  2    2  \n",
       "          ╲╱   u + ╲╱  u  + w   \n",
       "ψ(t, ρ) = ──────────────────────\n",
       "                  _________     \n",
       "                 ╱  2    2      \n",
       "               ╲╱  u  + w       "
      ]
     },
     "execution_count": 50,
     "metadata": {},
     "output_type": "execute_result"
    }
   ],
   "source": [
    "bonnerSolution = Eq(psi, sqrt( u + sqrt(u**2+w**2)) * sqrt(u**2+w**2)**(-1) )\n",
    "bonnerSolution"
   ]
  },
  {
   "cell_type": "code",
   "execution_count": 53,
   "id": "97011a22",
   "metadata": {},
   "outputs": [
    {
     "data": {
      "image/png": "[encoded data removed]",
      "text/latex": [
       "$\\displaystyle u = c^{2} + \\rho^{2} - t^{2}$"
      ],
      "text/plain": [
       "     2    2    2\n",
       "u = c  + ρ  - t "
      ]
     },
     "execution_count": 53,
     "metadata": {},
     "output_type": "execute_result"
    }
   ],
   "source": [
    "uTransform = Eq(u,rho**2 -t**2 + c**2)\n",
    "uTransform"
   ]
  },
  {
   "cell_type": "code",
   "execution_count": 54,
   "id": "e3c82fdc",
   "metadata": {},
   "outputs": [
    {
     "data": {
      "image/png": "[encoded data removed]",
      "text/latex": [
       "$\\displaystyle w = 2 c t$"
      ],
      "text/plain": [
       "w = 2⋅c⋅t"
      ]
     },
     "execution_count": 54,
     "metadata": {},
     "output_type": "execute_result"
    }
   ],
   "source": [
    "wTransform = Eq(w,2*c*t)\n",
    "wTransform"
   ]
  },
  {
   "cell_type": "code",
   "execution_count": 57,
   "id": "7687ab0e",
   "metadata": {},
   "outputs": [
    {
     "data": {
      "image/png": "[encoded data removed]",
      "text/latex": [
       "$\\displaystyle \\psi{\\left(t,\\rho \\right)} = \\frac{\\sqrt{c^{2} + \\rho^{2} - t^{2} + \\sqrt{4 c^{2} t^{2} + \\left(c^{2} + \\rho^{2} - t^{2}\\right)^{2}}}}{\\sqrt{4 c^{2} t^{2} + \\left(c^{2} + \\rho^{2} - t^{2}\\right)^{2}}}$"
      ],
      "text/plain": [
       "               ________________________________________________\n",
       "              ╱                    ___________________________ \n",
       "             ╱                    ╱                         2  \n",
       "            ╱    2    2    2     ╱     2  2   ⎛ 2    2    2⎞   \n",
       "          ╲╱    c  + ρ  - t  + ╲╱   4⋅c ⋅t  + ⎝c  + ρ  - t ⎠   \n",
       "ψ(t, ρ) = ─────────────────────────────────────────────────────\n",
       "                         ___________________________           \n",
       "                        ╱                         2            \n",
       "                       ╱     2  2   ⎛ 2    2    2⎞             \n",
       "                     ╲╱   4⋅c ⋅t  + ⎝c  + ρ  - t ⎠             "
      ]
     },
     "execution_count": 57,
     "metadata": {},
     "output_type": "execute_result"
    }
   ],
   "source": [
    "bonnerFinal = bonnerSolution.subs(uTransform.lhs,uTransform.rhs).subs(wTransform.lhs,wTransform.rhs)\n",
    "bonnerFinal"
   ]
  },
  {
   "cell_type": "code",
   "execution_count": 59,
   "id": "aba25504",
   "metadata": {},
   "outputs": [
    {
     "data": {
      "image/png": "[encoded data removed]",
      "text/latex": [
       "$\\displaystyle \\frac{\\partial^{2}}{\\partial \\rho^{2}} \\frac{\\sqrt{c^{2} + \\rho^{2} - t^{2} + \\sqrt{4 c^{2} t^{2} + \\left(c^{2} + \\rho^{2} - t^{2}\\right)^{2}}}}{\\sqrt{4 c^{2} t^{2} + \\left(c^{2} + \\rho^{2} - t^{2}\\right)^{2}}} - \\frac{\\partial^{2}}{\\partial t^{2}} \\frac{\\sqrt{c^{2} + \\rho^{2} - t^{2} + \\sqrt{4 c^{2} t^{2} + \\left(c^{2} + \\rho^{2} - t^{2}\\right)^{2}}}}{\\sqrt{4 c^{2} t^{2} + \\left(c^{2} + \\rho^{2} - t^{2}\\right)^{2}}} + \\frac{\\frac{\\partial}{\\partial \\rho} \\frac{\\sqrt{c^{2} + \\rho^{2} - t^{2} + \\sqrt{4 c^{2} t^{2} + \\left(c^{2} + \\rho^{2} - t^{2}\\right)^{2}}}}{\\sqrt{4 c^{2} t^{2} + \\left(c^{2} + \\rho^{2} - t^{2}\\right)^{2}}}}{\\rho} = 0$"
      ],
      "text/plain": [
       "                                                                                            \n",
       "                                                                                            \n",
       "                                                                                            \n",
       "                                                                                            \n",
       "                                                                                            \n",
       "   ⎛     ________________________________________________⎞      ⎛     ______________________\n",
       "   ⎜    ╱                    ___________________________ ⎟      ⎜    ╱                    __\n",
       "   ⎜   ╱                    ╱                         2  ⎟      ⎜   ╱                    ╱  \n",
       "  2⎜  ╱    2    2    2     ╱     2  2   ⎛ 2    2    2⎞   ⎟     2⎜  ╱    2    2    2     ╱   \n",
       " ∂ ⎜╲╱    c  + ρ  - t  + ╲╱   4⋅c ⋅t  + ⎝c  + ρ  - t ⎠   ⎟    ∂ ⎜╲╱    c  + ρ  - t  + ╲╱   4\n",
       "───⎜─────────────────────────────────────────────────────⎟ - ───⎜───────────────────────────\n",
       "  2⎜               ___________________________           ⎟     2⎜               ____________\n",
       "∂ρ ⎜              ╱                         2            ⎟   ∂t ⎜              ╱            \n",
       "   ⎜             ╱     2  2   ⎛ 2    2    2⎞             ⎟      ⎜             ╱     2  2   ⎛\n",
       "   ⎝           ╲╱   4⋅c ⋅t  + ⎝c  + ρ  - t ⎠             ⎠      ⎝           ╲╱   4⋅c ⋅t  + ⎝\n",
       "\n",
       "                                ⎛     ________________________________________________⎞    \n",
       "                                ⎜    ╱                    ___________________________ ⎟    \n",
       "                                ⎜   ╱                    ╱                         2  ⎟    \n",
       "                                ⎜  ╱    2    2    2     ╱     2  2   ⎛ 2    2    2⎞   ⎟    \n",
       "                              ∂ ⎜╲╱    c  + ρ  - t  + ╲╱   4⋅c ⋅t  + ⎝c  + ρ  - t ⎠   ⎟    \n",
       "__________________________⎞   ──⎜─────────────────────────────────────────────────────⎟    \n",
       "_________________________ ⎟   ∂ρ⎜               ___________________________           ⎟    \n",
       "                       2  ⎟     ⎜              ╱                         2            ⎟    \n",
       "  2  2   ⎛ 2    2    2⎞   ⎟     ⎜             ╱     2  2   ⎛ 2    2    2⎞             ⎟    \n",
       "⋅c ⋅t  + ⎝c  + ρ  - t ⎠   ⎟     ⎝           ╲╱   4⋅c ⋅t  + ⎝c  + ρ  - t ⎠             ⎠    \n",
       "──────────────────────────⎟ + ───────────────────────────────────────────────────────── = 0\n",
       "_______________           ⎟                               ρ                                \n",
       "             2            ⎟                                                                \n",
       " 2    2    2⎞             ⎟                                                                \n",
       "c  + ρ  - t ⎠             ⎠                                                                "
      ]
     },
     "execution_count": 59,
     "metadata": {},
     "output_type": "execute_result"
    }
   ],
   "source": [
    "equation2.subs(bonnerFinal.lhs,bonnerFinal.rhs)"
   ]
  },
  {
   "cell_type": "code",
   "execution_count": 60,
   "id": "cc135910",
   "metadata": {},
   "outputs": [
    {
     "data": {
      "image/png": "[encoded data removed]",
      "text/latex": [
       "$\\displaystyle \\frac{- \\frac{4 \\rho^{2} \\left(1 + \\frac{c^{2} + \\rho^{2} - t^{2}}{\\sqrt{4 c^{2} t^{2} + \\left(c^{2} + \\rho^{2} - t^{2}\\right)^{2}}}\\right) \\left(c^{2} + \\rho^{2} - t^{2}\\right)}{\\left(4 c^{2} t^{2} + \\left(c^{2} + \\rho^{2} - t^{2}\\right)^{2}\\right) \\sqrt{c^{2} + \\rho^{2} - t^{2} + \\sqrt{4 c^{2} t^{2} + \\left(c^{2} + \\rho^{2} - t^{2}\\right)^{2}}}} + \\frac{- \\frac{\\rho^{2} \\left(1 + \\frac{c^{2} + \\rho^{2} - t^{2}}{\\sqrt{4 c^{2} t^{2} + \\left(c^{2} + \\rho^{2} - t^{2}\\right)^{2}}}\\right)^{2}}{c^{2} + \\rho^{2} - t^{2} + \\sqrt{4 c^{2} t^{2} + \\left(c^{2} + \\rho^{2} - t^{2}\\right)^{2}}} + \\frac{2 \\rho^{2}}{\\sqrt{4 c^{2} t^{2} + \\left(c^{2} + \\rho^{2} - t^{2}\\right)^{2}}} - \\frac{2 \\rho^{2} \\left(c^{2} + \\rho^{2} - t^{2}\\right)^{2}}{\\left(4 c^{2} t^{2} + \\left(c^{2} + \\rho^{2} - t^{2}\\right)^{2}\\right)^{\\frac{3}{2}}} + 1 + \\frac{c^{2} + \\rho^{2} - t^{2}}{\\sqrt{4 c^{2} t^{2} + \\left(c^{2} + \\rho^{2} - t^{2}\\right)^{2}}}}{\\sqrt{c^{2} + \\rho^{2} - t^{2} + \\sqrt{4 c^{2} t^{2} + \\left(c^{2} + \\rho^{2} - t^{2}\\right)^{2}}}} - \\frac{2 \\sqrt{c^{2} + \\rho^{2} - t^{2} + \\sqrt{4 c^{2} t^{2} + \\left(c^{2} + \\rho^{2} - t^{2}\\right)^{2}}} \\left(c^{2} + 3 \\rho^{2} - \\frac{6 \\rho^{2} \\left(c^{2} + \\rho^{2} - t^{2}\\right)^{2}}{4 c^{2} t^{2} + \\left(c^{2} + \\rho^{2} - t^{2}\\right)^{2}} - t^{2}\\right)}{4 c^{2} t^{2} + \\left(c^{2} + \\rho^{2} - t^{2}\\right)^{2}}}{\\sqrt{4 c^{2} t^{2} + \\left(c^{2} + \\rho^{2} - t^{2}\\right)^{2}}} - \\frac{\\frac{4 t^{2} \\left(1 - \\frac{c^{2} - \\rho^{2} + t^{2}}{\\sqrt{4 c^{2} t^{2} + \\left(c^{2} + \\rho^{2} - t^{2}\\right)^{2}}}\\right) \\left(c^{2} - \\rho^{2} + t^{2}\\right)}{\\left(4 c^{2} t^{2} + \\left(c^{2} + \\rho^{2} - t^{2}\\right)^{2}\\right) \\sqrt{c^{2} + \\rho^{2} - t^{2} + \\sqrt{4 c^{2} t^{2} + \\left(c^{2} + \\rho^{2} - t^{2}\\right)^{2}}}} - \\frac{\\frac{t^{2} \\left(1 - \\frac{c^{2} - \\rho^{2} + t^{2}}{\\sqrt{4 c^{2} t^{2} + \\left(c^{2} + \\rho^{2} - t^{2}\\right)^{2}}}\\right)^{2}}{c^{2} + \\rho^{2} - t^{2} + \\sqrt{4 c^{2} t^{2} + \\left(c^{2} + \\rho^{2} - t^{2}\\right)^{2}}} + \\frac{2 t^{2} \\left(c^{2} - \\rho^{2} + t^{2}\\right)^{2}}{\\left(4 c^{2} t^{2} + \\left(c^{2} + \\rho^{2} - t^{2}\\right)^{2}\\right)^{\\frac{3}{2}}} + 1 - \\frac{c^{2} - \\rho^{2} + 3 t^{2}}{\\sqrt{4 c^{2} t^{2} + \\left(c^{2} + \\rho^{2} - t^{2}\\right)^{2}}}}{\\sqrt{c^{2} + \\rho^{2} - t^{2} + \\sqrt{4 c^{2} t^{2} + \\left(c^{2} + \\rho^{2} - t^{2}\\right)^{2}}}} - \\frac{2 \\left(c^{2} - \\rho^{2} + 3 t^{2} - \\frac{6 t^{2} \\left(c^{2} - \\rho^{2} + t^{2}\\right)^{2}}{4 c^{2} t^{2} + \\left(c^{2} + \\rho^{2} - t^{2}\\right)^{2}}\\right) \\sqrt{c^{2} + \\rho^{2} - t^{2} + \\sqrt{4 c^{2} t^{2} + \\left(c^{2} + \\rho^{2} - t^{2}\\right)^{2}}}}{4 c^{2} t^{2} + \\left(c^{2} + \\rho^{2} - t^{2}\\right)^{2}}}{\\sqrt{4 c^{2} t^{2} + \\left(c^{2} + \\rho^{2} - t^{2}\\right)^{2}}} + \\frac{- \\frac{2 \\rho \\left(c^{2} + \\rho^{2} - t^{2}\\right) \\sqrt{c^{2} + \\rho^{2} - t^{2} + \\sqrt{4 c^{2} t^{2} + \\left(c^{2} + \\rho^{2} - t^{2}\\right)^{2}}}}{\\left(4 c^{2} t^{2} + \\left(c^{2} + \\rho^{2} - t^{2}\\right)^{2}\\right)^{\\frac{3}{2}}} + \\frac{\\rho + \\frac{\\rho \\left(c^{2} + \\rho^{2} - t^{2}\\right)}{\\sqrt{4 c^{2} t^{2} + \\left(c^{2} + \\rho^{2} - t^{2}\\right)^{2}}}}{\\sqrt{4 c^{2} t^{2} + \\left(c^{2} + \\rho^{2} - t^{2}\\right)^{2}} \\sqrt{c^{2} + \\rho^{2} - t^{2} + \\sqrt{4 c^{2} t^{2} + \\left(c^{2} + \\rho^{2} - t^{2}\\right)^{2}}}}}{\\rho} = 0$"
      ],
      "text/plain": [
       "                                                                                            \n",
       "                                                                                            \n",
       "                                                                                           2\n",
       "                                                                                          ρ \n",
       "                                                                                            \n",
       "                                                                                            \n",
       "                   ⎛               2    2    2         ⎞                                    \n",
       "                 2 ⎜              c  + ρ  - t          ⎟ ⎛ 2    2    2⎞                     \n",
       "              4⋅ρ ⋅⎜1 + ───────────────────────────────⎟⋅⎝c  + ρ  - t ⎠               - ────\n",
       "                   ⎜        ___________________________⎟                                    \n",
       "                   ⎜       ╱                         2 ⎟                                    \n",
       "                   ⎜      ╱     2  2   ⎛ 2    2    2⎞  ⎟                                 2  \n",
       "                   ⎝    ╲╱   4⋅c ⋅t  + ⎝c  + ρ  - t ⎠  ⎠                                c  +\n",
       "- ───────────────────────────────────────────────────────────────────────────────── + ──────\n",
       "                                   ________________________________________________         \n",
       "                                  ╱                    ___________________________          \n",
       "  ⎛                        2⎞    ╱                    ╱                         2           \n",
       "  ⎜   2  2   ⎛ 2    2    2⎞ ⎟   ╱    2    2    2     ╱     2  2   ⎛ 2    2    2⎞            \n",
       "  ⎝4⋅c ⋅t  + ⎝c  + ρ  - t ⎠ ⎠⋅╲╱    c  + ρ  - t  + ╲╱   4⋅c ⋅t  + ⎝c  + ρ  - t ⎠            \n",
       "────────────────────────────────────────────────────────────────────────────────────────────\n",
       "                                                                                            \n",
       "                                                                                            \n",
       "                                                                                            \n",
       "                                                                                            \n",
       "\n",
       "                                      2                                                     \n",
       " ⎛               2    2    2         ⎞                                                      \n",
       " ⎜              c  + ρ  - t          ⎟                                                      \n",
       "⋅⎜1 + ───────────────────────────────⎟                                                      \n",
       " ⎜        ___________________________⎟                                                      \n",
       " ⎜       ╱                         2 ⎟                                                      \n",
       " ⎜      ╱     2  2   ⎛ 2    2    2⎞  ⎟                        2                        2 ⎛ 2\n",
       " ⎝    ╲╱   4⋅c ⋅t  + ⎝c  + ρ  - t ⎠  ⎠                     2⋅ρ                      2⋅ρ ⋅⎝c \n",
       "────────────────────────────────────────── + ─────────────────────────────── - ─────────────\n",
       "               ___________________________       ___________________________                \n",
       "              ╱                         2       ╱                         2    ⎛            \n",
       "  2    2     ╱     2  2   ⎛ 2    2    2⎞       ╱     2  2   ⎛ 2    2    2⎞     ⎜   2  2   ⎛ \n",
       " ρ  - t  + ╲╱   4⋅c ⋅t  + ⎝c  + ρ  - t ⎠     ╲╱   4⋅c ⋅t  + ⎝c  + ρ  - t ⎠     ⎝4⋅c ⋅t  + ⎝c\n",
       "────────────────────────────────────────────────────────────────────────────────────────────\n",
       "                                                 ___________________________________________\n",
       "                                                ╱                    _______________________\n",
       "                                               ╱                    ╱                       \n",
       "                                              ╱    2    2    2     ╱     2  2   ⎛ 2    2    \n",
       "                                            ╲╱    c  + ρ  - t  + ╲╱   4⋅c ⋅t  + ⎝c  + ρ  - t\n",
       "────────────────────────────────────────────────────────────────────────────────────────────\n",
       "                                                                   _________________________\n",
       "                                                                  ╱                         \n",
       "                                                                 ╱     2  2   ⎛ 2    2    2⎞\n",
       "                                                               ╲╱   4⋅c ⋅t  + ⎝c  + ρ  - t ⎠\n",
       "\n",
       "                                                                                            \n",
       "                                                                                            \n",
       "                                                                                            \n",
       "                                                                                            \n",
       "                                                                                            \n",
       "           2                                                     ___________________________\n",
       "    2    2⎞                        2    2    2                  ╱                    _______\n",
       " + ρ  - t ⎠                       c  + ρ  - t                  ╱                    ╱       \n",
       "───────────────── + 1 + ───────────────────────────────       ╱    2    2    2     ╱     2  \n",
       "              3/2           ___________________________   2⋅╲╱    c  + ρ  - t  + ╲╱   4⋅c ⋅t\n",
       "            2⎞             ╱                         2                                      \n",
       "2    2    2⎞ ⎟            ╱     2  2   ⎛ 2    2    2⎞                                       \n",
       "  + ρ  - t ⎠ ⎠          ╲╱   4⋅c ⋅t  + ⎝c  + ρ  - t ⎠                                       \n",
       "─────────────────────────────────────────────────────── - ──────────────────────────────────\n",
       "_____                                                                                       \n",
       "____                                                                                        \n",
       "  2                                                                                         \n",
       "2⎞                                                                                          \n",
       " ⎠                                                                                          \n",
       "────────────────────────────────────────────────────────────────────────────────────────────\n",
       "__                                                                                          \n",
       "2                                                                                           \n",
       "                                                                                            \n",
       "                                                                                            \n",
       "\n",
       "                                                                                            \n",
       "                                                                                            \n",
       "                                                                                            \n",
       "                                                                                            \n",
       "                                                                                            \n",
       "_____________________                                                                       \n",
       "____________________  ⎛                                  2       ⎞                    ⎛     \n",
       "                  2   ⎜                  2 ⎛ 2    2    2⎞        ⎟                  2 ⎜     \n",
       "2   ⎛ 2    2    2⎞    ⎜ 2      2      6⋅ρ ⋅⎝c  + ρ  - t ⎠       2⎟               4⋅t ⋅⎜1 - ─\n",
       "  + ⎝c  + ρ  - t ⎠   ⋅⎜c  + 3⋅ρ  - ───────────────────────── - t ⎟                    ⎜     \n",
       "                      ⎜                                    2     ⎟                    ⎜     \n",
       "                      ⎜               2  2   ⎛ 2    2    2⎞      ⎟                    ⎜     \n",
       "                      ⎝            4⋅c ⋅t  + ⎝c  + ρ  - t ⎠      ⎠                    ⎝    ╲\n",
       "──────────────────────────────────────────────────────────────────   ───────────────────────\n",
       "                           2                                                                \n",
       "      2  2   ⎛ 2    2    2⎞                                                                 \n",
       "   4⋅c ⋅t  + ⎝c  + ρ  - t ⎠                                          ⎛                      \n",
       "                                                                     ⎜   2  2   ⎛ 2    2    \n",
       "                                                                     ⎝4⋅c ⋅t  + ⎝c  + ρ  - t\n",
       "────────────────────────────────────────────────────────────────── - ───────────────────────\n",
       "                                                                                            \n",
       "                                                                                            \n",
       "                                                                                            \n",
       "                                                                                            \n",
       "\n",
       "                                                                                            \n",
       "                                                                  ⎛               2    2    \n",
       "                                                                2 ⎜              c  - ρ  + t\n",
       "                                                               t ⋅⎜1 - ─────────────────────\n",
       "                                                                  ⎜        _________________\n",
       "                                                                  ⎜       ╱                 \n",
       "          2    2    2         ⎞                                   ⎜      ╱     2  2   ⎛ 2   \n",
       "         c  - ρ  + t          ⎟ ⎛ 2    2    2⎞                    ⎝    ╲╱   4⋅c ⋅t  + ⎝c  + \n",
       "──────────────────────────────⎟⋅⎝c  - ρ  + t ⎠               ───────────────────────────────\n",
       "   ___________________________⎟                                                 ____________\n",
       "  ╱                         2 ⎟                                                ╱            \n",
       " ╱     2  2   ⎛ 2    2    2⎞  ⎟                               2    2    2     ╱     2  2   ⎛\n",
       "╱   4⋅c ⋅t  + ⎝c  + ρ  - t ⎠  ⎠                              c  + ρ  - t  + ╲╱   4⋅c ⋅t  + ⎝\n",
       "────────────────────────────────────────────────────────── - ───────────────────────────────\n",
       "          ________________________________________________                                  \n",
       "         ╱                    ___________________________                                   \n",
       "  2⎞    ╱                    ╱                         2                                    \n",
       "2⎞ ⎟   ╱    2    2    2     ╱     2  2   ⎛ 2    2    2⎞                                     \n",
       " ⎠ ⎠⋅╲╱    c  + ρ  - t  + ╲╱   4⋅c ⋅t  + ⎝c  + ρ  - t ⎠                                     \n",
       "────────────────────────────────────────────────────────────────────────────────────────────\n",
       "                                                                                            \n",
       "                                                                                            \n",
       "                                                                                            \n",
       "                                                                                            \n",
       "\n",
       "           2                                                                                \n",
       "2         ⎞                                                                                 \n",
       "          ⎟                                                                                 \n",
       "──────────⎟                                                                                 \n",
       "__________⎟                                                                                 \n",
       "        2 ⎟                               2                                                 \n",
       " 2    2⎞  ⎟               2 ⎛ 2    2    2⎞                       2    2      2             ⎛\n",
       "ρ  - t ⎠  ⎠            2⋅t ⋅⎝c  - ρ  + t ⎠                      c  - ρ  + 3⋅t              ⎜\n",
       "─────────────── + ────────────────────────────── + 1 - ───────────────────────────────     ⎜\n",
       "_______________                              3/2           ___________________________   2⋅⎜\n",
       "             2    ⎛                        2⎞             ╱                         2      ⎜\n",
       " 2    2    2⎞     ⎜   2  2   ⎛ 2    2    2⎞ ⎟            ╱     2  2   ⎛ 2    2    2⎞       ⎜\n",
       "c  + ρ  - t ⎠     ⎝4⋅c ⋅t  + ⎝c  + ρ  - t ⎠ ⎠          ╲╱   4⋅c ⋅t  + ⎝c  + ρ  - t ⎠       ⎝\n",
       "────────────────────────────────────────────────────────────────────────────────────── - ───\n",
       "      ________________________________________________                                      \n",
       "     ╱                    ___________________________                                       \n",
       "    ╱                    ╱                         2                                        \n",
       "   ╱    2    2    2     ╱     2  2   ⎛ 2    2    2⎞                                         \n",
       " ╲╱    c  + ρ  - t  + ╲╱   4⋅c ⋅t  + ⎝c  + ρ  - t ⎠                                         \n",
       "────────────────────────────────────────────────────────────────────────────────────────────\n",
       "                         ___________________________                                        \n",
       "                        ╱                         2                                         \n",
       "                       ╱     2  2   ⎛ 2    2    2⎞                                          \n",
       "                     ╲╱   4⋅c ⋅t  + ⎝c  + ρ  - t ⎠                                          \n",
       "\n",
       "                                                                                            \n",
       "                                                                                            \n",
       "                                                                                            \n",
       "                                                                                            \n",
       "                                                                                            \n",
       "                                                 ___________________________________________\n",
       "                                       2  ⎞     ╱                    _______________________\n",
       "                       2 ⎛ 2    2    2⎞   ⎟    ╱                    ╱                       \n",
       " 2    2      2      6⋅t ⋅⎝c  - ρ  + t ⎠   ⎟   ╱    2    2    2     ╱     2  2   ⎛ 2    2    \n",
       "c  - ρ  + 3⋅t  - ─────────────────────────⎟⋅╲╱    c  + ρ  - t  + ╲╱   4⋅c ⋅t  + ⎝c  + ρ  - t\n",
       "                                         2⎟                                                 \n",
       "                    2  2   ⎛ 2    2    2⎞ ⎟                                                 \n",
       "                 4⋅c ⋅t  + ⎝c  + ρ  - t ⎠ ⎠                                                 \n",
       "────────────────────────────────────────────────────────────────────────────────────────────\n",
       "                                                          2                                 \n",
       "                                     2  2   ⎛ 2    2    2⎞                                  \n",
       "                                  4⋅c ⋅t  + ⎝c  + ρ  - t ⎠                                  \n",
       "                                                                                            \n",
       "                                                                                            \n",
       "────────────────────────────────────────────────────────────────────────────────────────────\n",
       "                                                                                            \n",
       "                                                                                            \n",
       "                                                                                            \n",
       "                                                                                            \n",
       "\n",
       "                                                                                            \n",
       "                                                                                            \n",
       "                                                                                            \n",
       "                                                                                            \n",
       "                                                                                            \n",
       "_____                                                                                       \n",
       "____                                                                                        \n",
       "  2                                                                                         \n",
       "2⎞                                ________________________________________________          \n",
       " ⎠                               ╱                    ___________________________           \n",
       "                                ╱                    ╱                         2            \n",
       "              ⎛ 2    2    2⎞   ╱    2    2    2     ╱     2  2   ⎛ 2    2    2⎞             \n",
       "          2⋅ρ⋅⎝c  + ρ  - t ⎠⋅╲╱    c  + ρ  - t  + ╲╱   4⋅c ⋅t  + ⎝c  + ρ  - t ⎠             \n",
       "─────   - ──────────────────────────────────────────────────────────────────────── + ───────\n",
       "                                                          3/2                               \n",
       "                               ⎛                        2⎞                               ___\n",
       "                               ⎜   2  2   ⎛ 2    2    2⎞ ⎟                              ╱   \n",
       "                               ⎝4⋅c ⋅t  + ⎝c  + ρ  - t ⎠ ⎠                             ╱    \n",
       "                                                                                     ╲╱   4⋅\n",
       "───── + ────────────────────────────────────────────────────────────────────────────────────\n",
       "                                                                                        ρ   \n",
       "                                                                                            \n",
       "                                                                                            \n",
       "                                                                                            \n",
       "\n",
       "                                                                                  \n",
       "                                                                                  \n",
       "                                                                                  \n",
       "                                                                                  \n",
       "                                                                                  \n",
       "                                                                                  \n",
       "                                ⎛ 2    2    2⎞                                    \n",
       "                              ρ⋅⎝c  + ρ  - t ⎠                                    \n",
       "                  ρ + ───────────────────────────────                             \n",
       "                          ___________________________                             \n",
       "                         ╱                         2                              \n",
       "                        ╱     2  2   ⎛ 2    2    2⎞                               \n",
       "                      ╲╱   4⋅c ⋅t  + ⎝c  + ρ  - t ⎠                               \n",
       "──────────────────────────────────────────────────────────────────────────────    \n",
       "                              ________________________________________________    \n",
       "________________________     ╱                    ___________________________     \n",
       "                      2     ╱                    ╱                         2      \n",
       " 2  2   ⎛ 2    2    2⎞     ╱    2    2    2     ╱     2  2   ⎛ 2    2    2⎞       \n",
       "c ⋅t  + ⎝c  + ρ  - t ⎠  ⋅╲╱    c  + ρ  - t  + ╲╱   4⋅c ⋅t  + ⎝c  + ρ  - t ⎠       \n",
       "────────────────────────────────────────────────────────────────────────────── = 0\n",
       "                                                                                  \n",
       "                                                                                  \n",
       "                                                                                  \n",
       "                                                                                  "
      ]
     },
     "execution_count": 60,
     "metadata": {},
     "output_type": "execute_result"
    }
   ],
   "source": [
    "equation2.subs(bonnerFinal.lhs,bonnerFinal.rhs).doit()"
   ]
  },
  {
   "cell_type": "code",
   "execution_count": 61,
   "id": "f8c6eb87",
   "metadata": {},
   "outputs": [
    {
     "data": {
      "text/latex": [
       "$\\displaystyle \\text{True}$"
      ],
      "text/plain": [
       "True"
      ]
     },
     "execution_count": 61,
     "metadata": {},
     "output_type": "execute_result"
    }
   ],
   "source": [
    "#  Takes some time to compute, but it works... \n",
    "equation2.subs(bonnerFinal.lhs,bonnerFinal.rhs).doit().simplify()"
   ]
  },
  {
   "cell_type": "code",
   "execution_count": 64,
   "id": "40cb4b3b",
   "metadata": {},
   "outputs": [
    {
     "data": {
      "image/png": "[encoded data removed]",
      "text/latex": [
       "$\\displaystyle \\frac{\\partial}{\\partial \\rho} \\gamma{\\left(t,\\rho \\right)} = \\rho \\left(\\left(\\frac{\\partial}{\\partial \\rho} \\frac{\\sqrt{c^{2} + \\rho^{2} - t^{2} + \\sqrt{4 c^{2} t^{2} + \\left(c^{2} + \\rho^{2} - t^{2}\\right)^{2}}}}{\\sqrt{4 c^{2} t^{2} + \\left(c^{2} + \\rho^{2} - t^{2}\\right)^{2}}}\\right)^{2} + \\left(\\frac{\\partial}{\\partial t} \\frac{\\sqrt{c^{2} + \\rho^{2} - t^{2} + \\sqrt{4 c^{2} t^{2} + \\left(c^{2} + \\rho^{2} - t^{2}\\right)^{2}}}}{\\sqrt{4 c^{2} t^{2} + \\left(c^{2} + \\rho^{2} - t^{2}\\right)^{2}}}\\right)^{2}\\right)$"
      ],
      "text/plain": [
       "                ⎛                                                           2               \n",
       "                ⎜⎛  ⎛     ________________________________________________⎞⎞    ⎛  ⎛     ___\n",
       "                ⎜⎜  ⎜    ╱                    ___________________________ ⎟⎟    ⎜  ⎜    ╱   \n",
       "                ⎜⎜  ⎜   ╱                    ╱                         2  ⎟⎟    ⎜  ⎜   ╱    \n",
       "                ⎜⎜  ⎜  ╱    2    2    2     ╱     2  2   ⎛ 2    2    2⎞   ⎟⎟    ⎜  ⎜  ╱    2\n",
       "∂               ⎜⎜∂ ⎜╲╱    c  + ρ  - t  + ╲╱   4⋅c ⋅t  + ⎝c  + ρ  - t ⎠   ⎟⎟    ⎜∂ ⎜╲╱    c \n",
       "──(γ(t, ρ)) = ρ⋅⎜⎜──⎜─────────────────────────────────────────────────────⎟⎟  + ⎜──⎜────────\n",
       "∂ρ              ⎜⎜∂ρ⎜               ___________________________           ⎟⎟    ⎜∂t⎜        \n",
       "                ⎜⎜  ⎜              ╱                         2            ⎟⎟    ⎜  ⎜        \n",
       "                ⎜⎜  ⎜             ╱     2  2   ⎛ 2    2    2⎞             ⎟⎟    ⎜  ⎜        \n",
       "                ⎝⎝  ⎝           ╲╱   4⋅c ⋅t  + ⎝c  + ρ  - t ⎠             ⎠⎠    ⎝  ⎝        \n",
       "\n",
       "                                               2⎞\n",
       "_____________________________________________⎞⎞ ⎟\n",
       "                 ___________________________ ⎟⎟ ⎟\n",
       "                ╱                         2  ⎟⎟ ⎟\n",
       "    2    2     ╱     2  2   ⎛ 2    2    2⎞   ⎟⎟ ⎟\n",
       " + ρ  - t  + ╲╱   4⋅c ⋅t  + ⎝c  + ρ  - t ⎠   ⎟⎟ ⎟\n",
       "─────────────────────────────────────────────⎟⎟ ⎟\n",
       "       ___________________________           ⎟⎟ ⎟\n",
       "      ╱                         2            ⎟⎟ ⎟\n",
       "     ╱     2  2   ⎛ 2    2    2⎞             ⎟⎟ ⎟\n",
       "   ╲╱   4⋅c ⋅t  + ⎝c  + ρ  - t ⎠             ⎠⎠ ⎠"
      ]
     },
     "execution_count": 64,
     "metadata": {},
     "output_type": "execute_result"
    }
   ],
   "source": [
    "equation4.subs(bonnerFinal.lhs,bonnerFinal.rhs)"
   ]
  },
  {
   "cell_type": "code",
   "execution_count": 65,
   "id": "64de34b7",
   "metadata": {},
   "outputs": [
    {
     "data": {
      "image/png": "[encoded data removed]",
      "text/latex": [
       "$\\displaystyle \\frac{\\partial}{\\partial \\rho} \\gamma{\\left(t,\\rho \\right)} = \\rho \\left(\\left(\\frac{- t + \\frac{4 c^{2} t - 2 t \\left(c^{2} + \\rho^{2} - t^{2}\\right)}{2 \\sqrt{4 c^{2} t^{2} + \\left(c^{2} + \\rho^{2} - t^{2}\\right)^{2}}}}{\\sqrt{4 c^{2} t^{2} + \\left(c^{2} + \\rho^{2} - t^{2}\\right)^{2}} \\sqrt{c^{2} + \\rho^{2} - t^{2} + \\sqrt{4 c^{2} t^{2} + \\left(c^{2} + \\rho^{2} - t^{2}\\right)^{2}}}} + \\frac{\\left(- 4 c^{2} t + 2 t \\left(c^{2} + \\rho^{2} - t^{2}\\right)\\right) \\sqrt{c^{2} + \\rho^{2} - t^{2} + \\sqrt{4 c^{2} t^{2} + \\left(c^{2} + \\rho^{2} - t^{2}\\right)^{2}}}}{\\left(4 c^{2} t^{2} + \\left(c^{2} + \\rho^{2} - t^{2}\\right)^{2}\\right)^{\\frac{3}{2}}}\\right)^{2} + \\left(- \\frac{2 \\rho \\left(c^{2} + \\rho^{2} - t^{2}\\right) \\sqrt{c^{2} + \\rho^{2} - t^{2} + \\sqrt{4 c^{2} t^{2} + \\left(c^{2} + \\rho^{2} - t^{2}\\right)^{2}}}}{\\left(4 c^{2} t^{2} + \\left(c^{2} + \\rho^{2} - t^{2}\\right)^{2}\\right)^{\\frac{3}{2}}} + \\frac{\\rho + \\frac{\\rho \\left(c^{2} + \\rho^{2} - t^{2}\\right)}{\\sqrt{4 c^{2} t^{2} + \\left(c^{2} + \\rho^{2} - t^{2}\\right)^{2}}}}{\\sqrt{4 c^{2} t^{2} + \\left(c^{2} + \\rho^{2} - t^{2}\\right)^{2}} \\sqrt{c^{2} + \\rho^{2} - t^{2} + \\sqrt{4 c^{2} t^{2} + \\left(c^{2} + \\rho^{2} - t^{2}\\right)^{2}}}}\\right)^{2}\\right)$"
      ],
      "text/plain": [
       "                ⎛                                                                           \n",
       "                ⎜⎛                                   2         ⎛ 2    2    2⎞               \n",
       "                ⎜⎜                                4⋅c ⋅t - 2⋅t⋅⎝c  + ρ  - t ⎠               \n",
       "                ⎜⎜                        -t + ─────────────────────────────────            \n",
       "                ⎜⎜                                   ___________________________            \n",
       "                ⎜⎜                                  ╱                         2             \n",
       "                ⎜⎜                                 ╱     2  2   ⎛ 2    2    2⎞              \n",
       "∂               ⎜⎜                             2⋅╲╱   4⋅c ⋅t  + ⎝c  + ρ  - t ⎠              \n",
       "──(γ(t, ρ)) = ρ⋅⎜⎜──────────────────────────────────────────────────────────────────────────\n",
       "∂ρ              ⎜⎜                                     _____________________________________\n",
       "                ⎜⎜    ___________________________     ╱                    _________________\n",
       "                ⎜⎜   ╱                         2     ╱                    ╱                 \n",
       "                ⎜⎜  ╱     2  2   ⎛ 2    2    2⎞     ╱    2    2    2     ╱     2  2   ⎛ 2   \n",
       "                ⎝⎝╲╱   4⋅c ⋅t  + ⎝c  + ρ  - t ⎠  ⋅╲╱    c  + ρ  - t  + ╲╱   4⋅c ⋅t  + ⎝c  + \n",
       "\n",
       "                                                                                            \n",
       "                                                                                            \n",
       "                                                                                            \n",
       "                                                   _________________________________________\n",
       "                                                  ╱                    _____________________\n",
       "                                                 ╱                    ╱                     \n",
       "              ⎛     2         ⎛ 2    2    2⎞⎞   ╱    2    2    2     ╱     2  2   ⎛ 2    2  \n",
       "              ⎝- 4⋅c ⋅t + 2⋅t⋅⎝c  + ρ  - t ⎠⎠⋅╲╱    c  + ρ  - t  + ╲╱   4⋅c ⋅t  + ⎝c  + ρ  -\n",
       "─────────── + ──────────────────────────────────────────────────────────────────────────────\n",
       "___________                                                          3/2                    \n",
       "__________                                ⎛                        2⎞                       \n",
       "        2                                 ⎜   2  2   ⎛ 2    2    2⎞ ⎟                       \n",
       " 2    2⎞                                  ⎝4⋅c ⋅t  + ⎝c  + ρ  - t ⎠ ⎠                       \n",
       "ρ  - t ⎠                                                                                    \n",
       "\n",
       "        2                                                                                   \n",
       "       ⎞    ⎛                                                                               \n",
       "       ⎟    ⎜                                                                               \n",
       "_______⎟    ⎜                          ________________________________________________     \n",
       "______ ⎟    ⎜                         ╱                    ___________________________      \n",
       "    2  ⎟    ⎜                        ╱                    ╱                         2       \n",
       "  2⎞   ⎟    ⎜      ⎛ 2    2    2⎞   ╱    2    2    2     ╱     2  2   ⎛ 2    2    2⎞        \n",
       " t ⎠   ⎟    ⎜  2⋅ρ⋅⎝c  + ρ  - t ⎠⋅╲╱    c  + ρ  - t  + ╲╱   4⋅c ⋅t  + ⎝c  + ρ  - t ⎠        \n",
       "───────⎟  + ⎜- ──────────────────────────────────────────────────────────────────────── + ──\n",
       "       ⎟    ⎜                                                  3/2                          \n",
       "       ⎟    ⎜                       ⎛                        2⎞                             \n",
       "       ⎟    ⎜                       ⎜   2  2   ⎛ 2    2    2⎞ ⎟                             \n",
       "       ⎟    ⎜                       ⎝4⋅c ⋅t  + ⎝c  + ρ  - t ⎠ ⎠                             \n",
       "       ⎠    ⎝                                                                             ╲╱\n",
       "\n",
       "                                                                                    2⎞\n",
       "                                     ⎛ 2    2    2⎞                                ⎞ ⎟\n",
       "                                   ρ⋅⎝c  + ρ  - t ⎠                                ⎟ ⎟\n",
       "                       ρ + ───────────────────────────────                         ⎟ ⎟\n",
       "                               ___________________________                         ⎟ ⎟\n",
       "                              ╱                         2                          ⎟ ⎟\n",
       "                             ╱     2  2   ⎛ 2    2    2⎞                           ⎟ ⎟\n",
       "                           ╲╱   4⋅c ⋅t  + ⎝c  + ρ  - t ⎠                           ⎟ ⎟\n",
       "───────────────────────────────────────────────────────────────────────────────────⎟ ⎟\n",
       "                                   ________________________________________________⎟ ⎟\n",
       "  ___________________________     ╱                    ___________________________ ⎟ ⎟\n",
       " ╱                         2     ╱                    ╱                         2  ⎟ ⎟\n",
       "╱     2  2   ⎛ 2    2    2⎞     ╱    2    2    2     ╱     2  2   ⎛ 2    2    2⎞   ⎟ ⎟\n",
       "   4⋅c ⋅t  + ⎝c  + ρ  - t ⎠  ⋅╲╱    c  + ρ  - t  + ╲╱   4⋅c ⋅t  + ⎝c  + ρ  - t ⎠   ⎠ ⎠"
      ]
     },
     "execution_count": 65,
     "metadata": {},
     "output_type": "execute_result"
    }
   ],
   "source": [
    "equation4.subs(bonnerFinal.lhs,bonnerFinal.rhs).doit()"
   ]
  },
  {
   "cell_type": "code",
   "execution_count": 66,
   "id": "c70aaaeb",
   "metadata": {
    "scrolled": true
   },
   "outputs": [
    {
     "data": {
      "image/png": "[encoded data removed]",
      "text/latex": [
       "$\\displaystyle \\frac{\\partial}{\\partial \\rho} \\gamma{\\left(t,\\rho \\right)} = \\frac{\\rho \\left(\\rho^{2} \\left(\\left(4 c^{2} t^{2} + \\left(c^{2} + \\rho^{2} - t^{2}\\right)^{2}\\right)^{\\frac{3}{2}} \\left(- c^{2} - \\rho^{2} + t^{2} - \\sqrt{4 c^{2} t^{2} + \\left(c^{2} + \\rho^{2} - t^{2}\\right)^{2}}\\right) + 2 \\left(4 c^{2} t^{2} + \\left(c^{2} + \\rho^{2} - t^{2}\\right)^{2}\\right) \\left(c^{2} + \\rho^{2} - t^{2}\\right) \\left(c^{2} + \\rho^{2} - t^{2} + \\sqrt{4 c^{2} t^{2} + \\left(c^{2} + \\rho^{2} - t^{2}\\right)^{2}}\\right)\\right)^{2} + t^{2} \\left(\\left(4 c^{2} t^{2} + \\left(c^{2} + \\rho^{2} - t^{2}\\right)^{2}\\right)^{\\frac{3}{2}} \\left(- c^{2} + \\rho^{2} - t^{2} + \\sqrt{4 c^{2} t^{2} + \\left(c^{2} + \\rho^{2} - t^{2}\\right)^{2}}\\right) + 2 \\left(4 c^{2} t^{2} + \\left(c^{2} + \\rho^{2} - t^{2}\\right)^{2}\\right) \\left(c^{2} - \\rho^{2} + t^{2}\\right) \\left(c^{2} + \\rho^{2} - t^{2} + \\sqrt{4 c^{2} t^{2} + \\left(c^{2} + \\rho^{2} - t^{2}\\right)^{2}}\\right)\\right)^{2}\\right)}{\\left(4 c^{2} t^{2} + \\left(c^{2} + \\rho^{2} - t^{2}\\right)^{2}\\right)^{5} \\left(c^{2} + \\rho^{2} - t^{2} + \\sqrt{4 c^{2} t^{2} + \\left(c^{2} + \\rho^{2} - t^{2}\\right)^{2}}\\right)}$"
      ],
      "text/plain": [
       "                ⎛                                                                           \n",
       "                ⎜   ⎛                           3/2 ⎛                     __________________\n",
       "                ⎜   ⎜⎛                        2⎞    ⎜                    ╱                  \n",
       "                ⎜ 2 ⎜⎜   2  2   ⎛ 2    2    2⎞ ⎟    ⎜   2    2    2     ╱     2  2   ⎛ 2    \n",
       "∂             ρ⋅⎝ρ ⋅⎝⎝4⋅c ⋅t  + ⎝c  + ρ  - t ⎠ ⎠   ⋅⎝- c  - ρ  + t  - ╲╱   4⋅c ⋅t  + ⎝c  + ρ\n",
       "──(γ(t, ρ)) = ──────────────────────────────────────────────────────────────────────────────\n",
       "∂ρ                                                                                          \n",
       "                                                                                            \n",
       "                                                                                            \n",
       "                                                                                            \n",
       "\n",
       "                                                                                            \n",
       "_________⎞                                                ⎛                   ______________\n",
       "       2 ⎟     ⎛                        2⎞                ⎜                  ╱              \n",
       "2    2⎞  ⎟     ⎜   2  2   ⎛ 2    2    2⎞ ⎟ ⎛ 2    2    2⎞ ⎜ 2    2    2     ╱     2  2   ⎛ 2\n",
       "  - t ⎠  ⎠ + 2⋅⎝4⋅c ⋅t  + ⎝c  + ρ  - t ⎠ ⎠⋅⎝c  + ρ  - t ⎠⋅⎝c  + ρ  - t  + ╲╱   4⋅c ⋅t  + ⎝c \n",
       "────────────────────────────────────────────────────────────────────────────────────────────\n",
       "                                                                                            \n",
       "                                                                      ⎛                     \n",
       "                                                                      ⎜   2  2   ⎛ 2    2   \n",
       "                                                                      ⎝4⋅c ⋅t  + ⎝c  + ρ  - \n",
       "\n",
       "               2                                                                            \n",
       "_____________⎞⎞       ⎛                           3/2 ⎛                     ________________\n",
       "           2 ⎟⎟       ⎜⎛                        2⎞    ⎜                    ╱                \n",
       "    2    2⎞  ⎟⎟     2 ⎜⎜   2  2   ⎛ 2    2    2⎞ ⎟    ⎜   2    2    2     ╱     2  2   ⎛ 2  \n",
       " + ρ  - t ⎠  ⎠⎠  + t ⋅⎝⎝4⋅c ⋅t  + ⎝c  + ρ  - t ⎠ ⎠   ⋅⎝- c  + ρ  - t  + ╲╱   4⋅c ⋅t  + ⎝c  +\n",
       "────────────────────────────────────────────────────────────────────────────────────────────\n",
       "     5 ⎛                   ___________________________⎞                                     \n",
       "   2⎞  ⎜                  ╱                         2 ⎟                                     \n",
       " 2⎞ ⎟  ⎜ 2    2    2     ╱     2  2   ⎛ 2    2    2⎞  ⎟                                     \n",
       "t ⎠ ⎠ ⋅⎝c  + ρ  - t  + ╲╱   4⋅c ⋅t  + ⎝c  + ρ  - t ⎠  ⎠                                     \n",
       "\n",
       "                                                                                            \n",
       "___________⎞                                                ⎛                   ____________\n",
       "         2 ⎟     ⎛                        2⎞                ⎜                  ╱            \n",
       "  2    2⎞  ⎟     ⎜   2  2   ⎛ 2    2    2⎞ ⎟ ⎛ 2    2    2⎞ ⎜ 2    2    2     ╱     2  2   ⎛\n",
       " ρ  - t ⎠  ⎠ + 2⋅⎝4⋅c ⋅t  + ⎝c  + ρ  - t ⎠ ⎠⋅⎝c  - ρ  + t ⎠⋅⎝c  + ρ  - t  + ╲╱   4⋅c ⋅t  + ⎝\n",
       "────────────────────────────────────────────────────────────────────────────────────────────\n",
       "                                                                                            \n",
       "                                                                                            \n",
       "                                                                                            \n",
       "                                                                                            \n",
       "\n",
       "                 2⎞\n",
       "_______________⎞⎞ ⎟\n",
       "             2 ⎟⎟ ⎟\n",
       " 2    2    2⎞  ⎟⎟ ⎟\n",
       "c  + ρ  - t ⎠  ⎠⎠ ⎠\n",
       "───────────────────\n",
       "                   \n",
       "                   \n",
       "                   \n",
       "                   "
      ]
     },
     "execution_count": 66,
     "metadata": {},
     "output_type": "execute_result"
    }
   ],
   "source": [
    "dgammdrho = equation4.subs(bonnerFinal.lhs,bonnerFinal.rhs).doit().simplify()\n",
    "dgammdrho"
   ]
  },
  {
   "cell_type": "code",
   "execution_count": null,
   "id": "6b8f6b51",
   "metadata": {},
   "outputs": [],
   "source": [
    "#  gammaWRTrhoSol = dsolve( dgammadrho )\n",
    "#  gammaWRTrhoSol"
   ]
  },
  {
   "cell_type": "code",
   "execution_count": 68,
   "id": "9adee4ac",
   "metadata": {},
   "outputs": [
    {
     "data": {
      "image/png": "[encoded data removed]",
      "text/latex": [
       "$\\displaystyle \\frac{\\partial}{\\partial t} \\gamma{\\left(t,\\rho \\right)} = 2 \\rho \\frac{\\partial}{\\partial \\rho} \\frac{\\sqrt{c^{2} + \\rho^{2} - t^{2} + \\sqrt{4 c^{2} t^{2} + \\left(c^{2} + \\rho^{2} - t^{2}\\right)^{2}}}}{\\sqrt{4 c^{2} t^{2} + \\left(c^{2} + \\rho^{2} - t^{2}\\right)^{2}}} \\frac{\\partial}{\\partial t} \\frac{\\sqrt{c^{2} + \\rho^{2} - t^{2} + \\sqrt{4 c^{2} t^{2} + \\left(c^{2} + \\rho^{2} - t^{2}\\right)^{2}}}}{\\sqrt{4 c^{2} t^{2} + \\left(c^{2} + \\rho^{2} - t^{2}\\right)^{2}}}$"
      ],
      "text/plain": [
       "                    ⎛     ________________________________________________⎞   ⎛     ________\n",
       "                    ⎜    ╱                    ___________________________ ⎟   ⎜    ╱        \n",
       "                    ⎜   ╱                    ╱                         2  ⎟   ⎜   ╱         \n",
       "                    ⎜  ╱    2    2    2     ╱     2  2   ⎛ 2    2    2⎞   ⎟   ⎜  ╱    2    2\n",
       "∂                 ∂ ⎜╲╱    c  + ρ  - t  + ╲╱   4⋅c ⋅t  + ⎝c  + ρ  - t ⎠   ⎟ ∂ ⎜╲╱    c  + ρ \n",
       "──(γ(t, ρ)) = 2⋅ρ⋅──⎜─────────────────────────────────────────────────────⎟⋅──⎜─────────────\n",
       "∂t                ∂ρ⎜               ___________________________           ⎟ ∂t⎜             \n",
       "                    ⎜              ╱                         2            ⎟   ⎜             \n",
       "                    ⎜             ╱     2  2   ⎛ 2    2    2⎞             ⎟   ⎜             \n",
       "                    ⎝           ╲╱   4⋅c ⋅t  + ⎝c  + ρ  - t ⎠             ⎠   ⎝           ╲╱\n",
       "\n",
       "________________________________________⎞\n",
       "            ___________________________ ⎟\n",
       "           ╱                         2  ⎟\n",
       "    2     ╱     2  2   ⎛ 2    2    2⎞   ⎟\n",
       " - t  + ╲╱   4⋅c ⋅t  + ⎝c  + ρ  - t ⎠   ⎟\n",
       "────────────────────────────────────────⎟\n",
       "  ___________________________           ⎟\n",
       " ╱                         2            ⎟\n",
       "╱     2  2   ⎛ 2    2    2⎞             ⎟\n",
       "   4⋅c ⋅t  + ⎝c  + ρ  - t ⎠             ⎠"
      ]
     },
     "execution_count": 68,
     "metadata": {},
     "output_type": "execute_result"
    }
   ],
   "source": [
    "equation5.subs(bonnerFinal.lhs,bonnerFinal.rhs)"
   ]
  },
  {
   "cell_type": "code",
   "execution_count": 69,
   "id": "97be574f",
   "metadata": {},
   "outputs": [
    {
     "data": {
      "image/png": "[encoded data removed]",
      "text/latex": [
       "$\\displaystyle \\frac{\\partial}{\\partial t} \\gamma{\\left(t,\\rho \\right)} = 2 \\rho \\left(\\frac{- t + \\frac{4 c^{2} t - 2 t \\left(c^{2} + \\rho^{2} - t^{2}\\right)}{2 \\sqrt{4 c^{2} t^{2} + \\left(c^{2} + \\rho^{2} - t^{2}\\right)^{2}}}}{\\sqrt{4 c^{2} t^{2} + \\left(c^{2} + \\rho^{2} - t^{2}\\right)^{2}} \\sqrt{c^{2} + \\rho^{2} - t^{2} + \\sqrt{4 c^{2} t^{2} + \\left(c^{2} + \\rho^{2} - t^{2}\\right)^{2}}}} + \\frac{\\left(- 4 c^{2} t + 2 t \\left(c^{2} + \\rho^{2} - t^{2}\\right)\\right) \\sqrt{c^{2} + \\rho^{2} - t^{2} + \\sqrt{4 c^{2} t^{2} + \\left(c^{2} + \\rho^{2} - t^{2}\\right)^{2}}}}{\\left(4 c^{2} t^{2} + \\left(c^{2} + \\rho^{2} - t^{2}\\right)^{2}\\right)^{\\frac{3}{2}}}\\right) \\left(- \\frac{2 \\rho \\left(c^{2} + \\rho^{2} - t^{2}\\right) \\sqrt{c^{2} + \\rho^{2} - t^{2} + \\sqrt{4 c^{2} t^{2} + \\left(c^{2} + \\rho^{2} - t^{2}\\right)^{2}}}}{\\left(4 c^{2} t^{2} + \\left(c^{2} + \\rho^{2} - t^{2}\\right)^{2}\\right)^{\\frac{3}{2}}} + \\frac{\\rho + \\frac{\\rho \\left(c^{2} + \\rho^{2} - t^{2}\\right)}{\\sqrt{4 c^{2} t^{2} + \\left(c^{2} + \\rho^{2} - t^{2}\\right)^{2}}}}{\\sqrt{4 c^{2} t^{2} + \\left(c^{2} + \\rho^{2} - t^{2}\\right)^{2}} \\sqrt{c^{2} + \\rho^{2} - t^{2} + \\sqrt{4 c^{2} t^{2} + \\left(c^{2} + \\rho^{2} - t^{2}\\right)^{2}}}}\\right)$"
      ],
      "text/plain": [
       "                  ⎛                                   2         ⎛ 2    2    2⎞              \n",
       "                  ⎜                                4⋅c ⋅t - 2⋅t⋅⎝c  + ρ  - t ⎠              \n",
       "                  ⎜                        -t + ─────────────────────────────────           \n",
       "                  ⎜                                   ___________________________           \n",
       "                  ⎜                                  ╱                         2            \n",
       "                  ⎜                                 ╱     2  2   ⎛ 2    2    2⎞             \n",
       "∂                 ⎜                             2⋅╲╱   4⋅c ⋅t  + ⎝c  + ρ  - t ⎠             \n",
       "──(γ(t, ρ)) = 2⋅ρ⋅⎜─────────────────────────────────────────────────────────────────────────\n",
       "∂t                ⎜                                     ____________________________________\n",
       "                  ⎜    ___________________________     ╱                    ________________\n",
       "                  ⎜   ╱                         2     ╱                    ╱                \n",
       "                  ⎜  ╱     2  2   ⎛ 2    2    2⎞     ╱    2    2    2     ╱     2  2   ⎛ 2  \n",
       "                  ⎝╲╱   4⋅c ⋅t  + ⎝c  + ρ  - t ⎠  ⋅╲╱    c  + ρ  - t  + ╲╱   4⋅c ⋅t  + ⎝c  +\n",
       "\n",
       "                                                                                            \n",
       "                                                                                            \n",
       "                                                    ________________________________________\n",
       "                                                   ╱                    ____________________\n",
       "                                                  ╱                    ╱                    \n",
       "               ⎛     2         ⎛ 2    2    2⎞⎞   ╱    2    2    2     ╱     2  2   ⎛ 2    2 \n",
       "               ⎝- 4⋅c ⋅t + 2⋅t⋅⎝c  + ρ  - t ⎠⎠⋅╲╱    c  + ρ  - t  + ╲╱   4⋅c ⋅t  + ⎝c  + ρ  \n",
       "──────────── + ─────────────────────────────────────────────────────────────────────────────\n",
       "____________                                                          3/2                   \n",
       "___________                                ⎛                        2⎞                      \n",
       "         2                                 ⎜   2  2   ⎛ 2    2    2⎞ ⎟                      \n",
       "  2    2⎞                                  ⎝4⋅c ⋅t  + ⎝c  + ρ  - t ⎠ ⎠                      \n",
       " ρ  - t ⎠                                                                                   \n",
       "\n",
       "        ⎞ ⎛                                                                                 \n",
       "        ⎟ ⎜                                                                                 \n",
       "________⎟ ⎜                          ________________________________________________       \n",
       "_______ ⎟ ⎜                         ╱                    ___________________________        \n",
       "     2  ⎟ ⎜                        ╱                    ╱                         2         \n",
       "   2⎞   ⎟ ⎜      ⎛ 2    2    2⎞   ╱    2    2    2     ╱     2  2   ⎛ 2    2    2⎞          \n",
       "- t ⎠   ⎟ ⎜  2⋅ρ⋅⎝c  + ρ  - t ⎠⋅╲╱    c  + ρ  - t  + ╲╱   4⋅c ⋅t  + ⎝c  + ρ  - t ⎠          \n",
       "────────⎟⋅⎜- ──────────────────────────────────────────────────────────────────────── + ────\n",
       "        ⎟ ⎜                                                  3/2                            \n",
       "        ⎟ ⎜                       ⎛                        2⎞                               \n",
       "        ⎟ ⎜                       ⎜   2  2   ⎛ 2    2    2⎞ ⎟                              ╱\n",
       "        ⎟ ⎜                       ⎝4⋅c ⋅t  + ⎝c  + ρ  - t ⎠ ⎠                             ╱ \n",
       "        ⎠ ⎝                                                                             ╲╱  \n",
       "\n",
       "                                   ⎛ 2    2    2⎞                                ⎞\n",
       "                                 ρ⋅⎝c  + ρ  - t ⎠                                ⎟\n",
       "                     ρ + ───────────────────────────────                         ⎟\n",
       "                             ___________________________                         ⎟\n",
       "                            ╱                         2                          ⎟\n",
       "                           ╱     2  2   ⎛ 2    2    2⎞                           ⎟\n",
       "                         ╲╱   4⋅c ⋅t  + ⎝c  + ρ  - t ⎠                           ⎟\n",
       "─────────────────────────────────────────────────────────────────────────────────⎟\n",
       "                                 ________________________________________________⎟\n",
       "___________________________     ╱                    ___________________________ ⎟\n",
       "                         2     ╱                    ╱                         2  ⎟\n",
       "    2  2   ⎛ 2    2    2⎞     ╱    2    2    2     ╱     2  2   ⎛ 2    2    2⎞   ⎟\n",
       " 4⋅c ⋅t  + ⎝c  + ρ  - t ⎠  ⋅╲╱    c  + ρ  - t  + ╲╱   4⋅c ⋅t  + ⎝c  + ρ  - t ⎠   ⎠"
      ]
     },
     "execution_count": 69,
     "metadata": {},
     "output_type": "execute_result"
    }
   ],
   "source": [
    "equation5.subs(bonnerFinal.lhs,bonnerFinal.rhs).doit()"
   ]
  },
  {
   "cell_type": "code",
   "execution_count": 70,
   "id": "e4cef89f",
   "metadata": {},
   "outputs": [
    {
     "data": {
      "image/png": "[encoded data removed]",
      "text/latex": [
       "$\\displaystyle \\frac{\\partial}{\\partial t} \\gamma{\\left(t,\\rho \\right)} = \\frac{2 \\rho^{2} t \\left(\\left(4 c^{2} t^{2} + \\left(c^{2} + \\rho^{2} - t^{2}\\right)^{2}\\right)^{\\frac{3}{2}} \\left(- c^{2} - \\rho^{2} + t^{2} - \\sqrt{4 c^{2} t^{2} + \\left(c^{2} + \\rho^{2} - t^{2}\\right)^{2}}\\right) + 2 \\left(4 c^{2} t^{2} + \\left(c^{2} + \\rho^{2} - t^{2}\\right)^{2}\\right) \\left(c^{2} + \\rho^{2} - t^{2}\\right) \\left(c^{2} + \\rho^{2} - t^{2} + \\sqrt{4 c^{2} t^{2} + \\left(c^{2} + \\rho^{2} - t^{2}\\right)^{2}}\\right)\\right) \\left(\\left(4 c^{2} t^{2} + \\left(c^{2} + \\rho^{2} - t^{2}\\right)^{2}\\right)^{\\frac{3}{2}} \\left(- c^{2} + \\rho^{2} - t^{2} + \\sqrt{4 c^{2} t^{2} + \\left(c^{2} + \\rho^{2} - t^{2}\\right)^{2}}\\right) + 2 \\left(4 c^{2} t^{2} + \\left(c^{2} + \\rho^{2} - t^{2}\\right)^{2}\\right) \\left(c^{2} - \\rho^{2} + t^{2}\\right) \\left(c^{2} + \\rho^{2} - t^{2} + \\sqrt{4 c^{2} t^{2} + \\left(c^{2} + \\rho^{2} - t^{2}\\right)^{2}}\\right)\\right)}{\\left(4 c^{2} t^{2} + \\left(c^{2} + \\rho^{2} - t^{2}\\right)^{2}\\right)^{5} \\left(c^{2} + \\rho^{2} - t^{2} + \\sqrt{4 c^{2} t^{2} + \\left(c^{2} + \\rho^{2} - t^{2}\\right)^{2}}\\right)}$"
      ],
      "text/plain": [
       "                     ⎛                           3/2 ⎛                     _________________\n",
       "                     ⎜⎛                        2⎞    ⎜                    ╱                 \n",
       "                 2   ⎜⎜   2  2   ⎛ 2    2    2⎞ ⎟    ⎜   2    2    2     ╱     2  2   ⎛ 2   \n",
       "∂             2⋅ρ ⋅t⋅⎝⎝4⋅c ⋅t  + ⎝c  + ρ  - t ⎠ ⎠   ⋅⎝- c  - ρ  + t  - ╲╱   4⋅c ⋅t  + ⎝c  + \n",
       "──(γ(t, ρ)) = ──────────────────────────────────────────────────────────────────────────────\n",
       "∂t                                                                                          \n",
       "                                                                                            \n",
       "                                                                                            \n",
       "                                                                                            \n",
       "\n",
       "__________⎞                                                ⎛                   _____________\n",
       "        2 ⎟     ⎛                        2⎞                ⎜                  ╱             \n",
       " 2    2⎞  ⎟     ⎜   2  2   ⎛ 2    2    2⎞ ⎟ ⎛ 2    2    2⎞ ⎜ 2    2    2     ╱     2  2   ⎛ \n",
       "ρ  - t ⎠  ⎠ + 2⋅⎝4⋅c ⋅t  + ⎝c  + ρ  - t ⎠ ⎠⋅⎝c  + ρ  - t ⎠⋅⎝c  + ρ  - t  + ╲╱   4⋅c ⋅t  + ⎝c\n",
       "────────────────────────────────────────────────────────────────────────────────────────────\n",
       "                                                                                            \n",
       "                                                                  ⎛                        2\n",
       "                                                                  ⎜   2  2   ⎛ 2    2    2⎞ \n",
       "                                                                  ⎝4⋅c ⋅t  + ⎝c  + ρ  - t ⎠ \n",
       "\n",
       "______________⎞⎞ ⎛                           3/2 ⎛                     _____________________\n",
       "            2 ⎟⎟ ⎜⎛                        2⎞    ⎜                    ╱                     \n",
       "2    2    2⎞  ⎟⎟ ⎜⎜   2  2   ⎛ 2    2    2⎞ ⎟    ⎜   2    2    2     ╱     2  2   ⎛ 2    2  \n",
       "  + ρ  - t ⎠  ⎠⎠⋅⎝⎝4⋅c ⋅t  + ⎝c  + ρ  - t ⎠ ⎠   ⋅⎝- c  + ρ  - t  + ╲╱   4⋅c ⋅t  + ⎝c  + ρ  -\n",
       "────────────────────────────────────────────────────────────────────────────────────────────\n",
       " 5 ⎛                   ___________________________⎞                                         \n",
       "⎞  ⎜                  ╱                         2 ⎟                                         \n",
       "⎟  ⎜ 2    2    2     ╱     2  2   ⎛ 2    2    2⎞  ⎟                                         \n",
       "⎠ ⋅⎝c  + ρ  - t  + ╲╱   4⋅c ⋅t  + ⎝c  + ρ  - t ⎠  ⎠                                         \n",
       "\n",
       "______⎞                                                ⎛                   _________________\n",
       "    2 ⎟     ⎛                        2⎞                ⎜                  ╱                 \n",
       "  2⎞  ⎟     ⎜   2  2   ⎛ 2    2    2⎞ ⎟ ⎛ 2    2    2⎞ ⎜ 2    2    2     ╱     2  2   ⎛ 2   \n",
       " t ⎠  ⎠ + 2⋅⎝4⋅c ⋅t  + ⎝c  + ρ  - t ⎠ ⎠⋅⎝c  - ρ  + t ⎠⋅⎝c  + ρ  - t  + ╲╱   4⋅c ⋅t  + ⎝c  + \n",
       "────────────────────────────────────────────────────────────────────────────────────────────\n",
       "                                                                                            \n",
       "                                                                                            \n",
       "                                                                                            \n",
       "                                                                                            \n",
       "\n",
       "__________⎞⎞\n",
       "        2 ⎟⎟\n",
       " 2    2⎞  ⎟⎟\n",
       "ρ  - t ⎠  ⎠⎠\n",
       "────────────\n",
       "            \n",
       "            \n",
       "            \n",
       "            "
      ]
     },
     "execution_count": 70,
     "metadata": {},
     "output_type": "execute_result"
    }
   ],
   "source": [
    "dgammadt = equation5.subs(bonnerFinal.lhs,bonnerFinal.rhs).doit().simplify()\n",
    "dgammadt"
   ]
  },
  {
   "cell_type": "code",
   "execution_count": 72,
   "id": "dd9b46a0",
   "metadata": {},
   "outputs": [],
   "source": [
    "#  gammWRTtSol = pdsolve( dgammadt ) \n",
    "#  gammWRTtSol"
   ]
  },
  {
   "cell_type": "code",
   "execution_count": 92,
   "id": "57247d3d",
   "metadata": {},
   "outputs": [
    {
     "data": {
      "image/png": "[encoded data removed]",
      "text/latex": [
       "$\\displaystyle L{\\left(t,\\rho \\right)} = - \\left(\\left(\\frac{\\partial}{\\partial \\rho} \\psi{\\left(t,\\rho \\right)}\\right)^{2} - \\left(\\frac{\\partial}{\\partial t} \\psi{\\left(t,\\rho \\right)}\\right)^{2}\\right) \\lambda{\\left(t,\\rho \\right)} + \\frac{\\partial}{\\partial \\rho} \\gamma{\\left(t,\\rho \\right)} \\frac{\\partial}{\\partial \\rho} \\lambda{\\left(t,\\rho \\right)} - \\frac{\\partial}{\\partial t} \\gamma{\\left(t,\\rho \\right)} \\frac{\\partial}{\\partial t} \\lambda{\\left(t,\\rho \\right)}$"
      ],
      "text/plain": [
       "            ⎛             2                2⎞                                               \n",
       "            ⎜⎛∂          ⎞    ⎛∂          ⎞ ⎟           ∂           ∂             ∂         \n",
       "L(t, ρ) = - ⎜⎜──(ψ(t, ρ))⎟  - ⎜──(ψ(t, ρ))⎟ ⎟⋅λ(t, ρ) + ──(γ(t, ρ))⋅──(λ(t, ρ)) - ──(γ(t, ρ)\n",
       "            ⎝⎝∂ρ         ⎠    ⎝∂t         ⎠ ⎠           ∂ρ          ∂ρ            ∂t        \n",
       "\n",
       "             \n",
       "  ∂          \n",
       ")⋅──(λ(t, ρ))\n",
       "  ∂t         "
      ]
     },
     "execution_count": 92,
     "metadata": {},
     "output_type": "execute_result"
    }
   ],
   "source": [
    "#  Euler Lagrange equations are on the right track but still wrong... go back and redo this \n",
    "equation7 = Eq(L,( diff(gamma,rho) * diff(Lambda,rho) ) - ( diff(gamma,t) * diff(Lambda,t) )-Lambda*( diff(psi,rho)**2 - diff(psi,t)**2 ) )\n",
    "equation7"
   ]
  },
  {
   "cell_type": "code",
   "execution_count": 109,
   "id": "18da9037",
   "metadata": {},
   "outputs": [
    {
     "data": {
      "image/png": "[encoded data removed]",
      "text/latex": [
       "$\\displaystyle - \\frac{\\partial^{2}}{\\partial t^{2}} \\gamma{\\left(t,\\rho \\right)} + \\left(\\frac{\\partial}{\\partial \\rho} \\psi{\\left(t,\\rho \\right)}\\right)^{2} - \\left(\\frac{\\partial}{\\partial t} \\psi{\\left(t,\\rho \\right)}\\right)^{2}$"
      ],
      "text/plain": [
       "    2                         2                2\n",
       "   ∂             ⎛∂          ⎞    ⎛∂          ⎞ \n",
       "- ───(γ(t, ρ)) + ⎜──(ψ(t, ρ))⎟  - ⎜──(ψ(t, ρ))⎟ \n",
       "    2            ⎝∂ρ         ⎠    ⎝∂t         ⎠ \n",
       "  ∂t                                            "
      ]
     },
     "execution_count": 109,
     "metadata": {},
     "output_type": "execute_result"
    }
   ],
   "source": [
    "lambdaTerm1 = diff(diff(L.subs(equation7.lhs,equation7.rhs),diff(Lambda,t)),t)-diff(L.subs(equation7.lhs,equation7.rhs),Lambda)\n",
    "lambdaTerm1"
   ]
  },
  {
   "cell_type": "code",
   "execution_count": 110,
   "id": "a2595928",
   "metadata": {},
   "outputs": [
    {
     "data": {
      "image/png": "[encoded data removed]",
      "text/latex": [
       "$\\displaystyle \\frac{\\partial^{2}}{\\partial \\rho^{2}} \\gamma{\\left(t,\\rho \\right)} + \\left(\\frac{\\partial}{\\partial \\rho} \\psi{\\left(t,\\rho \\right)}\\right)^{2} - \\left(\\frac{\\partial}{\\partial t} \\psi{\\left(t,\\rho \\right)}\\right)^{2}$"
      ],
      "text/plain": [
       "  2                         2                2\n",
       " ∂             ⎛∂          ⎞    ⎛∂          ⎞ \n",
       "───(γ(t, ρ)) + ⎜──(ψ(t, ρ))⎟  - ⎜──(ψ(t, ρ))⎟ \n",
       "  2            ⎝∂ρ         ⎠    ⎝∂t         ⎠ \n",
       "∂ρ                                            "
      ]
     },
     "execution_count": 110,
     "metadata": {},
     "output_type": "execute_result"
    }
   ],
   "source": [
    "lambdaTerm2 = diff(diff(L.subs(equation7.lhs,equation7.rhs),diff(Lambda,rho)),rho)-diff(L.subs(equation7.lhs,equation7.rhs),Lambda)\n",
    "lambdaTerm2"
   ]
  },
  {
   "cell_type": "code",
   "execution_count": 111,
   "id": "78b78dac",
   "metadata": {},
   "outputs": [
    {
     "data": {
      "image/png": "[encoded data removed]",
      "text/latex": [
       "$\\displaystyle \\frac{\\partial^{2}}{\\partial \\rho^{2}} \\gamma{\\left(t,\\rho \\right)} - \\frac{\\partial^{2}}{\\partial t^{2}} \\gamma{\\left(t,\\rho \\right)} + 2 \\left(\\frac{\\partial}{\\partial \\rho} \\psi{\\left(t,\\rho \\right)}\\right)^{2} - 2 \\left(\\frac{\\partial}{\\partial t} \\psi{\\left(t,\\rho \\right)}\\right)^{2}$"
      ],
      "text/plain": [
       "  2              2                           2                  2\n",
       " ∂              ∂               ⎛∂          ⎞      ⎛∂          ⎞ \n",
       "───(γ(t, ρ)) - ───(γ(t, ρ)) + 2⋅⎜──(ψ(t, ρ))⎟  - 2⋅⎜──(ψ(t, ρ))⎟ \n",
       "  2              2              ⎝∂ρ         ⎠      ⎝∂t         ⎠ \n",
       "∂ρ             ∂t                                                "
      ]
     },
     "execution_count": 111,
     "metadata": {},
     "output_type": "execute_result"
    }
   ],
   "source": [
    "#  Off by a factor of two..... \n",
    "lambdaTerm1 + lambdaTerm2"
   ]
  },
  {
   "cell_type": "code",
   "execution_count": 112,
   "id": "1c3c23cb",
   "metadata": {},
   "outputs": [
    {
     "data": {
      "image/png": "[encoded data removed]",
      "text/latex": [
       "$\\displaystyle - \\frac{\\partial^{2}}{\\partial t^{2}} \\lambda{\\left(t,\\rho \\right)}$"
      ],
      "text/plain": [
       "   2         \n",
       "  ∂          \n",
       "-───(λ(t, ρ))\n",
       "   2         \n",
       " ∂t          "
      ]
     },
     "execution_count": 112,
     "metadata": {},
     "output_type": "execute_result"
    }
   ],
   "source": [
    "gammaTerm1 = diff(diff(L.subs(equation7.lhs,equation7.rhs),diff(gamma,t)),t)-diff(L.subs(equation7.lhs,equation7.rhs),gamma)\n",
    "gammaTerm1"
   ]
  },
  {
   "cell_type": "code",
   "execution_count": 113,
   "id": "172d4129",
   "metadata": {},
   "outputs": [
    {
     "data": {
      "image/png": "[encoded data removed]",
      "text/latex": [
       "$\\displaystyle \\frac{\\partial^{2}}{\\partial \\rho^{2}} \\lambda{\\left(t,\\rho \\right)}$"
      ],
      "text/plain": [
       "  2         \n",
       " ∂          \n",
       "───(λ(t, ρ))\n",
       "  2         \n",
       "∂ρ          "
      ]
     },
     "execution_count": 113,
     "metadata": {},
     "output_type": "execute_result"
    }
   ],
   "source": [
    "gammaTerm2 = diff(diff(L.subs(equation7.lhs,equation7.rhs),diff(gamma,rho)),rho)-diff(L.subs(equation7.lhs,equation7.rhs),gamma)\n",
    "gammaTerm2"
   ]
  },
  {
   "cell_type": "code",
   "execution_count": 114,
   "id": "00100b43",
   "metadata": {},
   "outputs": [
    {
     "data": {
      "image/png": "[encoded data removed]",
      "text/latex": [
       "$\\displaystyle \\frac{\\partial^{2}}{\\partial \\rho^{2}} \\lambda{\\left(t,\\rho \\right)} - \\frac{\\partial^{2}}{\\partial t^{2}} \\lambda{\\left(t,\\rho \\right)}$"
      ],
      "text/plain": [
       "  2              2         \n",
       " ∂              ∂          \n",
       "───(λ(t, ρ)) - ───(λ(t, ρ))\n",
       "  2              2         \n",
       "∂ρ             ∂t          "
      ]
     },
     "execution_count": 114,
     "metadata": {},
     "output_type": "execute_result"
    }
   ],
   "source": [
    "gammaTerm1 + gammaTerm2"
   ]
  },
  {
   "cell_type": "code",
   "execution_count": 115,
   "id": "9a38b65d",
   "metadata": {},
   "outputs": [
    {
     "data": {
      "image/png": "[encoded data removed]",
      "text/latex": [
       "$\\displaystyle 2 \\lambda{\\left(t,\\rho \\right)} \\frac{\\partial^{2}}{\\partial t^{2}} \\psi{\\left(t,\\rho \\right)} + 2 \\frac{\\partial}{\\partial t} \\lambda{\\left(t,\\rho \\right)} \\frac{\\partial}{\\partial t} \\psi{\\left(t,\\rho \\right)}$"
      ],
      "text/plain": [
       "            2                                     \n",
       "           ∂               ∂           ∂          \n",
       "2⋅λ(t, ρ)⋅───(ψ(t, ρ)) + 2⋅──(λ(t, ρ))⋅──(ψ(t, ρ))\n",
       "            2              ∂t          ∂t         \n",
       "          ∂t                                      "
      ]
     },
     "execution_count": 115,
     "metadata": {},
     "output_type": "execute_result"
    }
   ],
   "source": [
    "psiTerm1 = diff(diff(L.subs(equation7.lhs,equation7.rhs),diff(psi,t)),t)-diff(L.subs(equation7.lhs,equation7.rhs),psi)\n",
    "psiTerm1"
   ]
  },
  {
   "cell_type": "code",
   "execution_count": 116,
   "id": "1431343d",
   "metadata": {},
   "outputs": [
    {
     "data": {
      "image/png": "[encoded data removed]",
      "text/latex": [
       "$\\displaystyle - 2 \\lambda{\\left(t,\\rho \\right)} \\frac{\\partial^{2}}{\\partial \\rho^{2}} \\psi{\\left(t,\\rho \\right)} - 2 \\frac{\\partial}{\\partial \\rho} \\lambda{\\left(t,\\rho \\right)} \\frac{\\partial}{\\partial \\rho} \\psi{\\left(t,\\rho \\right)}$"
      ],
      "text/plain": [
       "              2                                     \n",
       "             ∂               ∂           ∂          \n",
       "- 2⋅λ(t, ρ)⋅───(ψ(t, ρ)) - 2⋅──(λ(t, ρ))⋅──(ψ(t, ρ))\n",
       "              2              ∂ρ          ∂ρ         \n",
       "            ∂ρ                                      "
      ]
     },
     "execution_count": 116,
     "metadata": {},
     "output_type": "execute_result"
    }
   ],
   "source": [
    "psiTerm2 = diff(diff(L.subs(equation7.lhs,equation7.rhs),diff(psi,rho)),rho)-diff(L.subs(equation7.lhs,equation7.rhs),psi)\n",
    "psiTerm2"
   ]
  },
  {
   "cell_type": "code",
   "execution_count": 117,
   "id": "d8004291",
   "metadata": {},
   "outputs": [
    {
     "data": {
      "image/png": "[encoded data removed]",
      "text/latex": [
       "$\\displaystyle - 2 \\lambda{\\left(t,\\rho \\right)} \\frac{\\partial^{2}}{\\partial \\rho^{2}} \\psi{\\left(t,\\rho \\right)} + 2 \\lambda{\\left(t,\\rho \\right)} \\frac{\\partial^{2}}{\\partial t^{2}} \\psi{\\left(t,\\rho \\right)} - 2 \\frac{\\partial}{\\partial \\rho} \\lambda{\\left(t,\\rho \\right)} \\frac{\\partial}{\\partial \\rho} \\psi{\\left(t,\\rho \\right)} + 2 \\frac{\\partial}{\\partial t} \\lambda{\\left(t,\\rho \\right)} \\frac{\\partial}{\\partial t} \\psi{\\left(t,\\rho \\right)}$"
      ],
      "text/plain": [
       "              2                        2                                                    \n",
       "             ∂                        ∂               ∂           ∂               ∂         \n",
       "- 2⋅λ(t, ρ)⋅───(ψ(t, ρ)) + 2⋅λ(t, ρ)⋅───(ψ(t, ρ)) - 2⋅──(λ(t, ρ))⋅──(ψ(t, ρ)) + 2⋅──(λ(t, ρ)\n",
       "              2                        2              ∂ρ          ∂ρ              ∂t        \n",
       "            ∂ρ                       ∂t                                                     \n",
       "\n",
       "             \n",
       "  ∂          \n",
       ")⋅──(ψ(t, ρ))\n",
       "  ∂t         \n",
       "             "
      ]
     },
     "execution_count": 117,
     "metadata": {},
     "output_type": "execute_result"
    }
   ],
   "source": [
    "psiTerm1 + psiTerm2"
   ]
  },
  {
   "cell_type": "code",
   "execution_count": null,
   "id": "9c8cb414",
   "metadata": {},
   "outputs": [],
   "source": []
  }
 ],
 "metadata": {
  "@webio": {
   "lastCommId": "91b219a7e6624e7a9107930b133424f0",
   "lastKernelId": "2ee1bdcc-065b-46af-b8c9-2e1576144b42"
  },
  "kernelspec": {
   "display_name": "Python 3 (ipykernel)",
   "language": "python",
   "name": "python3"
  },
  "language_info": {
   "codemirror_mode": {
    "name": "ipython",
    "version": 3
   },
   "file_extension": ".py",
   "mimetype": "text/x-python",
   "name": "python",
   "nbconvert_exporter": "python",
   "pygments_lexer": "ipython3",
   "version": "3.8.8"
  }
 },
 "nbformat": 4,
 "nbformat_minor": 5
}
