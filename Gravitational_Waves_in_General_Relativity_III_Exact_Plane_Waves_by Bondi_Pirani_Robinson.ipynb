{
 "cells": [
  {
   "cell_type": "markdown",
   "id": "2cf53e40",
   "metadata": {},
   "source": [
    "# Gravitational Waves in General Relativity III Exact Plane Waves by Bondi, Pirani, Robinson\n",
    "##  Geoff Cope\n",
    "##  Univeristy of Utah\n",
    "##  December 22, 2021"
   ]
  },
  {
   "cell_type": "markdown",
   "id": "83a4e86a",
   "metadata": {},
   "source": [
    "The following metric is given as equation 2.7 prime which is a special case and reduction of equation 2.7"
   ]
  },
  {
   "cell_type": "markdown",
   "id": "f7e6ecc3",
   "metadata": {},
   "source": [
    "https://images-insite.sgp1.digitaloceanspaces.com/dunia_buku/koleksi-\\\n",
    "buku-lainnya/gravitational-waves-in-general-relativity-iii-exact-\\\n",
    "plane-waves-pdfdrivecom-6291584693555.pdf"
   ]
  },
  {
   "cell_type": "code",
   "execution_count": 1,
   "id": "48bb183c",
   "metadata": {},
   "outputs": [
    {
     "name": "stdout",
     "output_type": "stream",
     "text": [
      "IPython console for SymPy 1.9 (Python 3.8.8-64-bit) (ground types: gmpy)\n",
      "\n",
      "These commands were executed:\n",
      ">>> from __future__ import division\n",
      ">>> from sympy import *\n",
      ">>> x, y, z, t = symbols('x y z t')\n",
      ">>> k, m, n = symbols('k m n', integer=True)\n",
      ">>> f, g, h = symbols('f g h', cls=Function)\n",
      ">>> init_printing()\n",
      "\n",
      "Documentation can be found at https://docs.sympy.org/1.9/\n",
      "\n"
     ]
    }
   ],
   "source": [
    "from sympy import init_session\n",
    "init_session(use_latex=True)"
   ]
  },
  {
   "cell_type": "code",
   "execution_count": 2,
   "id": "7f0d176e",
   "metadata": {},
   "outputs": [],
   "source": [
    "import warnings\n",
    "import matplotlib.cbook\n",
    "warnings.filterwarnings(\"ignore\",category=matplotlib.cbook.mplDeprecation)"
   ]
  },
  {
   "cell_type": "code",
   "execution_count": 10,
   "id": "99f836b4",
   "metadata": {},
   "outputs": [],
   "source": [
    "phi,beta,tau,xi,beta,zeta,dtau,dzeta,dbeta,dzeta,u,du = symbols( 'phi beta tau xi beta zeta dtau dzeta dbeta dzeta u du' ) "
   ]
  },
  {
   "cell_type": "code",
   "execution_count": 8,
   "id": "9bef5b00",
   "metadata": {},
   "outputs": [
    {
     "data": {
      "image/png": "[encoded data removed]",
      "text/latex": [
       "$\\displaystyle \\phi{\\left(u \\right)}$"
      ],
      "text/plain": [
       "φ(u)"
      ]
     },
     "execution_count": 8,
     "metadata": {},
     "output_type": "execute_result"
    }
   ],
   "source": [
    "phi = Function('phi')(u)\n",
    "phi"
   ]
  },
  {
   "cell_type": "code",
   "execution_count": 9,
   "id": "e73143fc",
   "metadata": {},
   "outputs": [
    {
     "data": {
      "image/png": "[encoded data removed]",
      "text/latex": [
       "$\\displaystyle \\beta{\\left(u \\right)}$"
      ],
      "text/plain": [
       "β(u)"
      ]
     },
     "execution_count": 9,
     "metadata": {},
     "output_type": "execute_result"
    }
   ],
   "source": [
    "beta = Function('beta')(u)\n",
    "beta"
   ]
  },
  {
   "cell_type": "code",
   "execution_count": null,
   "id": "c2879217",
   "metadata": {},
   "outputs": [],
   "source": []
  }
 ],
 "metadata": {
  "@webio": {
   "lastCommId": null,
   "lastKernelId": null
  },
  "kernelspec": {
   "display_name": "Python 3 (ipykernel)",
   "language": "python",
   "name": "python3"
  },
  "language_info": {
   "codemirror_mode": {
    "name": "ipython",
    "version": 3
   },
   "file_extension": ".py",
   "mimetype": "text/x-python",
   "name": "python",
   "nbconvert_exporter": "python",
   "pygments_lexer": "ipython3",
   "version": "3.8.8"
  }
 },
 "nbformat": 4,
 "nbformat_minor": 5
}
