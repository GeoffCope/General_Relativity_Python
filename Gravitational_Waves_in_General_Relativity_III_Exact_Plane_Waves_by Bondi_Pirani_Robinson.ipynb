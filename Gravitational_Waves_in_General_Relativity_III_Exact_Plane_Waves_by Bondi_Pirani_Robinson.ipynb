{
 "cells": [
  {
   "cell_type": "markdown",
   "id": "2cf53e40",
   "metadata": {},
   "source": [
    "# Gravitational Waves in General Relativity III Exact Plane Waves by Bondi, Pirani, Robinson\n",
    "##  Geoff Cope\n",
    "##  Univeristy of Utah\n",
    "##  December 22, 2021"
   ]
  },
  {
   "cell_type": "markdown",
   "id": "83a4e86a",
   "metadata": {},
   "source": [
    "I messed up... start with the harder metric then reduce.\n",
    "\n",
    "The following metric is given as equation 2.7 prime which is a special case and reduction of equation 2.7.  We will go back and do the much more difficult metric 2.7 when the hyperbolic trig functions are working "
   ]
  },
  {
   "cell_type": "markdown",
   "id": "f7e6ecc3",
   "metadata": {},
   "source": [
    "https://images-insite.sgp1.digitaloceanspaces.com/dunia_buku/koleksi-buku-lainnya/gravitational-waves-in-general-relativity-iii-exact-plane-waves-pdfdrivecom-6291584693555.pdf"
   ]
  },
  {
   "cell_type": "code",
   "execution_count": 2,
   "id": "48bb183c",
   "metadata": {},
   "outputs": [
    {
     "name": "stdout",
     "output_type": "stream",
     "text": [
      "IPython console for SymPy 1.9 (Python 3.8.8-64-bit) (ground types: gmpy)\n",
      "\n",
      "These commands were executed:\n",
      ">>> from __future__ import division\n",
      ">>> from sympy import *\n",
      ">>> x, y, z, t = symbols('x y z t')\n",
      ">>> k, m, n = symbols('k m n', integer=True)\n",
      ">>> f, g, h = symbols('f g h', cls=Function)\n",
      ">>> init_printing()\n",
      "\n",
      "Documentation can be found at https://docs.sympy.org/1.9/\n",
      "\n"
     ]
    }
   ],
   "source": [
    "from sympy import init_session\n",
    "init_session(use_latex=True)"
   ]
  },
  {
   "cell_type": "code",
   "execution_count": 3,
   "id": "7f0d176e",
   "metadata": {},
   "outputs": [],
   "source": [
    "import warnings\n",
    "import matplotlib.cbook\n",
    "warnings.filterwarnings(\"ignore\",category=matplotlib.cbook.mplDeprecation)"
   ]
  },
  {
   "cell_type": "code",
   "execution_count": 14,
   "id": "99f836b4",
   "metadata": {},
   "outputs": [],
   "source": [
    "eta, phi,beta,tau,xi,beta,zeta,dtau,dxi,dbeta,dzeta,u,du,deta = symbols( 'eta phi beta tau xi beta zeta dtau dxi dbeta dzeta u du deta' ) "
   ]
  },
  {
   "cell_type": "code",
   "execution_count": 5,
   "id": "9bef5b00",
   "metadata": {},
   "outputs": [
    {
     "data": {
      "image/png": "[encoded data removed]",
      "text/latex": [
       "$\\displaystyle \\phi{\\left(u \\right)}$"
      ],
      "text/plain": [
       "φ(u)"
      ]
     },
     "execution_count": 5,
     "metadata": {},
     "output_type": "execute_result"
    }
   ],
   "source": [
    "phi = Function('phi')(u)\n",
    "phi"
   ]
  },
  {
   "cell_type": "code",
   "execution_count": 6,
   "id": "e73143fc",
   "metadata": {},
   "outputs": [
    {
     "data": {
      "image/png": "[encoded data removed]",
      "text/latex": [
       "$\\displaystyle \\beta{\\left(u \\right)}$"
      ],
      "text/plain": [
       "β(u)"
      ]
     },
     "execution_count": 6,
     "metadata": {},
     "output_type": "execute_result"
    }
   ],
   "source": [
    "beta = Function('beta')(u)\n",
    "beta"
   ]
  },
  {
   "cell_type": "code",
   "execution_count": 7,
   "id": "c2879217",
   "metadata": {},
   "outputs": [
    {
     "data": {
      "image/png": "[encoded data removed]",
      "text/latex": [
       "$\\displaystyle \\theta{\\left(u \\right)}$"
      ],
      "text/plain": [
       "θ(u)"
      ]
     },
     "execution_count": 7,
     "metadata": {},
     "output_type": "execute_result"
    }
   ],
   "source": [
    "theta = Function('theta')(u)\n",
    "theta"
   ]
  },
  {
   "cell_type": "code",
   "execution_count": 34,
   "id": "d86c1191",
   "metadata": {},
   "outputs": [
    {
     "data": {
      "text/latex": [
       "$\\displaystyle \\left[\\begin{matrix}u\\\\\\tau\\\\\\eta\\\\\\zeta\\end{matrix}\\right]$"
      ],
      "text/plain": [
       "⎡u⎤\n",
       "⎢ ⎥\n",
       "⎢τ⎥\n",
       "⎢ ⎥\n",
       "⎢η⎥\n",
       "⎢ ⎥\n",
       "⎣ζ⎦"
      ]
     },
     "execution_count": 34,
     "metadata": {},
     "output_type": "execute_result"
    }
   ],
   "source": [
    "variables = Matrix( [u,tau,eta,zeta] )\n",
    "variables"
   ]
  },
  {
   "cell_type": "code",
   "execution_count": 35,
   "id": "11fae17a",
   "metadata": {},
   "outputs": [
    {
     "data": {
      "text/latex": [
       "$\\displaystyle \\left[\\begin{matrix}du\\\\dtau\\\\deta\\\\dzeta\\end{matrix}\\right]$"
      ],
      "text/plain": [
       "⎡ du  ⎤\n",
       "⎢     ⎥\n",
       "⎢dtau ⎥\n",
       "⎢     ⎥\n",
       "⎢deta ⎥\n",
       "⎢     ⎥\n",
       "⎣dzeta⎦"
      ]
     },
     "execution_count": 35,
     "metadata": {},
     "output_type": "execute_result"
    }
   ],
   "source": [
    "differentials = Matrix( [du,dtau,deta,dzeta] ) \n",
    "differentials"
   ]
  },
  {
   "cell_type": "code",
   "execution_count": 36,
   "id": "95e7a6f0",
   "metadata": {},
   "outputs": [
    {
     "data": {
      "image/png": "[encoded data removed]",
      "text/latex": [
       "$\\displaystyle - deta^{2} u^{2} e^{2 \\beta} + dtau^{2} e^{2 \\phi} - dxi^{2} e^{2 \\phi} - dzeta^{2} u^{2} e^{- 2 \\beta}$"
      ],
      "text/plain": [
       "      2  2  2⋅β       2  2⋅φ      2  2⋅φ        2  2  -2⋅β\n",
       "- deta ⋅u ⋅ℯ    + dtau ⋅ℯ    - dxi ⋅ℯ    - dzeta ⋅u ⋅ℯ    "
      ]
     },
     "execution_count": 36,
     "metadata": {},
     "output_type": "execute_result"
    }
   ],
   "source": [
    "lineElement = expand((exp(2*phi))*(-dxi**2 + dtau**2 ) -  u**2 * ( exp(2*beta)*deta**2 + exp(-2*beta)*dzeta**2 ))\n",
    "lineElement"
   ]
  },
  {
   "cell_type": "code",
   "execution_count": 37,
   "id": "6e6a1595",
   "metadata": {},
   "outputs": [
    {
     "data": {
      "text/latex": [
       "$\\displaystyle \\left[\\begin{matrix}0 & 0 & 0 & 0\\\\0 & e^{2 \\phi} & 0 & 0\\\\0 & 0 & - u^{2} e^{2 \\beta} & 0\\\\0 & 0 & 0 & - u^{2} e^{- 2 \\beta}\\end{matrix}\\right]$"
      ],
      "text/plain": [
       "⎡0   0       0          0    ⎤\n",
       "⎢                            ⎥\n",
       "⎢    2⋅φ                     ⎥\n",
       "⎢0  ℯ        0          0    ⎥\n",
       "⎢                            ⎥\n",
       "⎢           2  2⋅β           ⎥\n",
       "⎢0   0    -u ⋅ℯ         0    ⎥\n",
       "⎢                            ⎥\n",
       "⎢                     2  -2⋅β⎥\n",
       "⎣0   0       0      -u ⋅ℯ    ⎦"
      ]
     },
     "execution_count": 37,
     "metadata": {},
     "output_type": "execute_result"
    }
   ],
   "source": [
    "g = zeros(4)\n",
    "\n",
    "for i in range(4):\n",
    "    for j in range(4):\n",
    "        if i == j:\n",
    "            g[i,j] = lineElement.coeff( differentials[i],2 ) \n",
    "        else:\n",
    "            g[i,j] = Rational(1,2)*lineElement.coeff( differentials[i]*differentials[j],1 )\n",
    "            \n",
    "g"
   ]
  },
  {
   "cell_type": "code",
   "execution_count": 23,
   "id": "66b8406e",
   "metadata": {},
   "outputs": [],
   "source": [
    "import sympy"
   ]
  },
  {
   "cell_type": "code",
   "execution_count": 24,
   "id": "26efac0f",
   "metadata": {},
   "outputs": [
    {
     "data": {
      "text/latex": [
       "$\\displaystyle \\left[\\begin{matrix}- e^{2 \\phi} & 0 & 0 & 0\\\\0 & e^{2 \\phi} & 0 & 0\\\\0 & 0 & - u^{2} e^{2 \\beta} & 0\\\\0 & 0 & 0 & - u^{2} e^{- 2 \\beta}\\end{matrix}\\right]$"
      ],
      "text/plain": [
       "⎡  2⋅φ                           ⎤\n",
       "⎢-ℯ      0       0          0    ⎥\n",
       "⎢                                ⎥\n",
       "⎢        2⋅φ                     ⎥\n",
       "⎢  0    ℯ        0          0    ⎥\n",
       "⎢                                ⎥\n",
       "⎢               2  2⋅β           ⎥\n",
       "⎢  0     0    -u ⋅ℯ         0    ⎥\n",
       "⎢                                ⎥\n",
       "⎢                         2  -2⋅β⎥\n",
       "⎣  0     0       0      -u ⋅ℯ    ⎦"
      ]
     },
     "execution_count": 24,
     "metadata": {},
     "output_type": "execute_result"
    }
   ],
   "source": [
    "m = sympy.Array(g)\n",
    "m"
   ]
  },
  {
   "cell_type": "code",
   "execution_count": 25,
   "id": "13b1db53",
   "metadata": {},
   "outputs": [],
   "source": [
    "from einsteinpy.symbolic import *"
   ]
  },
  {
   "cell_type": "code",
   "execution_count": 26,
   "id": "435c300a",
   "metadata": {},
   "outputs": [],
   "source": [
    "syms = sympy.symbols(\"u v x y\")\n",
    "u,v,x,y = syms"
   ]
  },
  {
   "cell_type": "code",
   "execution_count": 27,
   "id": "c3bd7108",
   "metadata": {},
   "outputs": [],
   "source": [
    "metric = MetricTensor(m,syms)"
   ]
  },
  {
   "cell_type": "code",
   "execution_count": 28,
   "id": "a78e163e",
   "metadata": {},
   "outputs": [
    {
     "data": {
      "text/latex": [
       "$\\displaystyle \\left[\\begin{matrix}\\left[\\begin{matrix}0 & 0 & 0 & 0\\\\0 & 0 & 0 & 0\\\\0 & 0 & - u e^{2 \\beta} e^{- 2 \\phi} & 0\\\\0 & 0 & 0 & - u e^{- 2 \\beta} e^{- 2 \\phi}\\end{matrix}\\right] & \\left[\\begin{matrix}0 & 0 & 0 & 0\\\\0 & 0 & 0 & 0\\\\0 & 0 & 0 & 0\\\\0 & 0 & 0 & 0\\end{matrix}\\right] & \\left[\\begin{matrix}0 & 0 & \\frac{1}{u} & 0\\\\0 & 0 & 0 & 0\\\\\\frac{1}{u} & 0 & 0 & 0\\\\0 & 0 & 0 & 0\\end{matrix}\\right] & \\left[\\begin{matrix}0 & 0 & 0 & \\frac{1}{u}\\\\0 & 0 & 0 & 0\\\\0 & 0 & 0 & 0\\\\\\frac{1}{u} & 0 & 0 & 0\\end{matrix}\\right]\\end{matrix}\\right]$"
      ],
      "text/plain": [
       "⎡                                                     ⎡      1   ⎤  ⎡         1⎤⎤\n",
       "⎢⎡0  0        0              0       ⎤                ⎢0  0  ─  0⎥  ⎢0  0  0  ─⎥⎥\n",
       "⎢⎢                                   ⎥  ⎡0  0  0  0⎤  ⎢      u   ⎥  ⎢         u⎥⎥\n",
       "⎢⎢0  0        0              0       ⎥  ⎢          ⎥  ⎢          ⎥  ⎢          ⎥⎥\n",
       "⎢⎢                                   ⎥  ⎢0  0  0  0⎥  ⎢0  0  0  0⎥  ⎢0  0  0  0⎥⎥\n",
       "⎢⎢          2⋅β  -2⋅φ                ⎥  ⎢          ⎥  ⎢          ⎥  ⎢          ⎥⎥\n",
       "⎢⎢0  0  -u⋅ℯ   ⋅ℯ            0       ⎥  ⎢0  0  0  0⎥  ⎢1         ⎥  ⎢0  0  0  0⎥⎥\n",
       "⎢⎢                                   ⎥  ⎢          ⎥  ⎢─  0  0  0⎥  ⎢          ⎥⎥\n",
       "⎢⎢                         -2⋅β  -2⋅φ⎥  ⎣0  0  0  0⎦  ⎢u         ⎥  ⎢1         ⎥⎥\n",
       "⎢⎣0  0        0        -u⋅ℯ    ⋅ℯ    ⎦                ⎢          ⎥  ⎢─  0  0  0⎥⎥\n",
       "⎣                                                     ⎣0  0  0  0⎦  ⎣u         ⎦⎦"
      ]
     },
     "execution_count": 28,
     "metadata": {},
     "output_type": "execute_result"
    }
   ],
   "source": [
    "ch = ChristoffelSymbols.from_metric(metric)\n",
    "ch.tensor()"
   ]
  },
  {
   "cell_type": "code",
   "execution_count": 29,
   "id": "b0cd7ece",
   "metadata": {},
   "outputs": [
    {
     "data": {
      "text/latex": [
       "$\\displaystyle \\left[\\begin{matrix}0 & 0 & 0 & 0\\\\0 & 0 & 0 & 0\\\\0 & 0 & - e^{2 \\beta - 2 \\phi} & 0\\\\0 & 0 & 0 & - e^{- 2 \\beta - 2 \\phi}\\end{matrix}\\right]$"
      ],
      "text/plain": [
       "⎡0  0       0            0      ⎤\n",
       "⎢                               ⎥\n",
       "⎢0  0       0            0      ⎥\n",
       "⎢                               ⎥\n",
       "⎢        2⋅β - 2⋅φ              ⎥\n",
       "⎢0  0  -ℯ                0      ⎥\n",
       "⎢                               ⎥\n",
       "⎢                     -2⋅β - 2⋅φ⎥\n",
       "⎣0  0       0       -ℯ          ⎦"
      ]
     },
     "execution_count": 29,
     "metadata": {},
     "output_type": "execute_result"
    }
   ],
   "source": [
    "Ric = RicciTensor.from_metric(metric)\n",
    "Ric.tensor()"
   ]
  },
  {
   "cell_type": "code",
   "execution_count": 31,
   "id": "175d9fbc",
   "metadata": {},
   "outputs": [
    {
     "data": {
      "image/png": "[encoded data removed]",
      "text/latex": [
       "$\\displaystyle \\frac{2 e^{- 2 \\phi}}{u^{2}}$"
      ],
      "text/plain": [
       "   -2⋅φ\n",
       "2⋅ℯ    \n",
       "───────\n",
       "    2  \n",
       "   u   "
      ]
     },
     "execution_count": 31,
     "metadata": {},
     "output_type": "execute_result"
    }
   ],
   "source": [
    "R = RicciScalar.from_riccitensor(Ric)\n",
    "R.simplify()\n",
    "R.expr"
   ]
  },
  {
   "cell_type": "code",
   "execution_count": 30,
   "id": "1e64aaa1",
   "metadata": {},
   "outputs": [
    {
     "data": {
      "text/latex": [
       "$\\displaystyle \\left[\\begin{matrix}\\frac{1.0}{u^{2}} & 0 & 0 & 0\\\\0 & - \\frac{1.0}{u^{2}} & 0 & 0\\\\0 & 0 & 1.0 e^{2 \\beta} e^{- 2 \\phi} - e^{2 \\beta - 2 \\phi} & 0\\\\0 & 0 & 0 & - e^{- 2 \\beta - 2 \\phi} + 1.0 e^{- 2 \\beta} e^{- 2 \\phi}\\end{matrix}\\right]$"
      ],
      "text/plain": [
       "⎡1.0                                                                     ⎤\n",
       "⎢───    0                 0                              0               ⎥\n",
       "⎢  2                                                                     ⎥\n",
       "⎢ u                                                                      ⎥\n",
       "⎢                                                                        ⎥\n",
       "⎢     -1.0                                                               ⎥\n",
       "⎢ 0   ─────               0                              0               ⎥\n",
       "⎢        2                                                               ⎥\n",
       "⎢       u                                                                ⎥\n",
       "⎢                                                                        ⎥\n",
       "⎢                 2⋅β  -2⋅φ    2⋅β - 2⋅φ                                 ⎥\n",
       "⎢ 0     0    1.0⋅ℯ   ⋅ℯ     - ℯ                          0               ⎥\n",
       "⎢                                                                        ⎥\n",
       "⎢                                            -2⋅β - 2⋅φ        -2⋅β  -2⋅φ⎥\n",
       "⎣ 0     0                 0               - ℯ           + 1.0⋅ℯ    ⋅ℯ    ⎦"
      ]
     },
     "execution_count": 30,
     "metadata": {},
     "output_type": "execute_result"
    }
   ],
   "source": [
    "einst = EinsteinTensor.from_metric(metric)\n",
    "einst.tensor()"
   ]
  },
  {
   "cell_type": "code",
   "execution_count": 32,
   "id": "26a176f0",
   "metadata": {},
   "outputs": [
    {
     "data": {
      "text/latex": [
       "$\\displaystyle \\left[\\begin{matrix}\\left[\\begin{matrix}0 & 0 & 0 & 0\\\\0 & 0 & 0 & 0\\\\0 & 0 & 0 & 0\\\\0 & 0 & 0 & 0\\end{matrix}\\right] & \\left[\\begin{matrix}0 & 0 & 0 & 0\\\\0 & 0 & 0 & 0\\\\0 & 0 & 0 & 0\\\\0 & 0 & 0 & 0\\end{matrix}\\right] & \\left[\\begin{matrix}0 & 0 & 0 & 0\\\\0 & 0 & 0 & 0\\\\0 & 0 & 0 & 0\\\\0 & 0 & 0 & 0\\end{matrix}\\right] & \\left[\\begin{matrix}0 & 0 & 0 & 0\\\\0 & 0 & 0 & 0\\\\0 & 0 & 0 & 0\\\\0 & 0 & 0 & 0\\end{matrix}\\right]\\\\\\left[\\begin{matrix}0 & 0 & 0 & 0\\\\0 & 0 & 0 & 0\\\\0 & 0 & 0 & 0\\\\0 & 0 & 0 & 0\\end{matrix}\\right] & \\left[\\begin{matrix}0 & 0 & 0 & 0\\\\0 & 0 & 0 & 0\\\\0 & 0 & 0 & 0\\\\0 & 0 & 0 & 0\\end{matrix}\\right] & \\left[\\begin{matrix}0 & 0 & 0 & 0\\\\0 & 0 & 0 & 0\\\\0 & 0 & 0 & 0\\\\0 & 0 & 0 & 0\\end{matrix}\\right] & \\left[\\begin{matrix}0 & 0 & 0 & 0\\\\0 & 0 & 0 & 0\\\\0 & 0 & 0 & 0\\\\0 & 0 & 0 & 0\\end{matrix}\\right]\\\\\\left[\\begin{matrix}0 & 0 & 0 & 0\\\\0 & 0 & 0 & 0\\\\0 & 0 & 0 & 0\\\\0 & 0 & 0 & 0\\end{matrix}\\right] & \\left[\\begin{matrix}0 & 0 & 0 & 0\\\\0 & 0 & 0 & 0\\\\0 & 0 & 0 & 0\\\\0 & 0 & 0 & 0\\end{matrix}\\right] & \\left[\\begin{matrix}0 & 0 & 0 & 0\\\\0 & 0 & 0 & 0\\\\0 & 0 & 0 & 0\\\\0 & 0 & 0 & 0\\end{matrix}\\right] & \\left[\\begin{matrix}0 & 0 & 0 & 0\\\\0 & 0 & 0 & 0\\\\0 & 0 & 0 & - e^{- 2 \\beta - 2 \\phi}\\\\0 & 0 & e^{- 2 \\beta - 2 \\phi} & 0\\end{matrix}\\right]\\\\\\left[\\begin{matrix}0 & 0 & 0 & 0\\\\0 & 0 & 0 & 0\\\\0 & 0 & 0 & 0\\\\0 & 0 & 0 & 0\\end{matrix}\\right] & \\left[\\begin{matrix}0 & 0 & 0 & 0\\\\0 & 0 & 0 & 0\\\\0 & 0 & 0 & 0\\\\0 & 0 & 0 & 0\\end{matrix}\\right] & \\left[\\begin{matrix}0 & 0 & 0 & 0\\\\0 & 0 & 0 & 0\\\\0 & 0 & 0 & e^{2 \\beta - 2 \\phi}\\\\0 & 0 & - e^{2 \\beta - 2 \\phi} & 0\\end{matrix}\\right] & \\left[\\begin{matrix}0 & 0 & 0 & 0\\\\0 & 0 & 0 & 0\\\\0 & 0 & 0 & 0\\\\0 & 0 & 0 & 0\\end{matrix}\\right]\\end{matrix}\\right]$"
      ],
      "text/plain": [
       "⎡⎡0  0  0  0⎤  ⎡0  0  0  0⎤           ⎡0  0  0  0⎤                      ⎡0  0  0  0⎤        \n",
       "⎢⎢          ⎥  ⎢          ⎥           ⎢          ⎥                      ⎢          ⎥        \n",
       "⎢⎢0  0  0  0⎥  ⎢0  0  0  0⎥           ⎢0  0  0  0⎥                      ⎢0  0  0  0⎥        \n",
       "⎢⎢          ⎥  ⎢          ⎥           ⎢          ⎥                      ⎢          ⎥        \n",
       "⎢⎢0  0  0  0⎥  ⎢0  0  0  0⎥           ⎢0  0  0  0⎥                      ⎢0  0  0  0⎥        \n",
       "⎢⎢          ⎥  ⎢          ⎥           ⎢          ⎥                      ⎢          ⎥        \n",
       "⎢⎣0  0  0  0⎦  ⎣0  0  0  0⎦           ⎣0  0  0  0⎦                      ⎣0  0  0  0⎦        \n",
       "⎢                                                                                           \n",
       "⎢⎡0  0  0  0⎤  ⎡0  0  0  0⎤           ⎡0  0  0  0⎤                      ⎡0  0  0  0⎤        \n",
       "⎢⎢          ⎥  ⎢          ⎥           ⎢          ⎥                      ⎢          ⎥        \n",
       "⎢⎢0  0  0  0⎥  ⎢0  0  0  0⎥           ⎢0  0  0  0⎥                      ⎢0  0  0  0⎥        \n",
       "⎢⎢          ⎥  ⎢          ⎥           ⎢          ⎥                      ⎢          ⎥        \n",
       "⎢⎢0  0  0  0⎥  ⎢0  0  0  0⎥           ⎢0  0  0  0⎥                      ⎢0  0  0  0⎥        \n",
       "⎢⎢          ⎥  ⎢          ⎥           ⎢          ⎥                      ⎢          ⎥        \n",
       "⎢⎣0  0  0  0⎦  ⎣0  0  0  0⎦           ⎣0  0  0  0⎦                      ⎣0  0  0  0⎦        \n",
       "⎢                                                                                           \n",
       "⎢                                                             ⎡0  0       0            0    \n",
       "⎢⎡0  0  0  0⎤  ⎡0  0  0  0⎤           ⎡0  0  0  0⎤            ⎢                             \n",
       "⎢⎢          ⎥  ⎢          ⎥           ⎢          ⎥            ⎢0  0       0            0    \n",
       "⎢⎢0  0  0  0⎥  ⎢0  0  0  0⎥           ⎢0  0  0  0⎥            ⎢                             \n",
       "⎢⎢          ⎥  ⎢          ⎥           ⎢          ⎥            ⎢                     -2⋅β - 2\n",
       "⎢⎢0  0  0  0⎥  ⎢0  0  0  0⎥           ⎢0  0  0  0⎥            ⎢0  0       0       -ℯ        \n",
       "⎢⎢          ⎥  ⎢          ⎥           ⎢          ⎥            ⎢                             \n",
       "⎢⎣0  0  0  0⎦  ⎣0  0  0  0⎦           ⎣0  0  0  0⎦            ⎢       -2⋅β - 2⋅φ            \n",
       "⎢                                                             ⎣0  0  ℯ                 0    \n",
       "⎢                                                                                           \n",
       "⎢                            ⎡0  0       0           0     ⎤                                \n",
       "⎢⎡0  0  0  0⎤  ⎡0  0  0  0⎤  ⎢                             ⎥            ⎡0  0  0  0⎤        \n",
       "⎢⎢          ⎥  ⎢          ⎥  ⎢0  0       0           0     ⎥            ⎢          ⎥        \n",
       "⎢⎢0  0  0  0⎥  ⎢0  0  0  0⎥  ⎢                             ⎥            ⎢0  0  0  0⎥        \n",
       "⎢⎢          ⎥  ⎢          ⎥  ⎢                    2⋅β - 2⋅φ⎥            ⎢          ⎥        \n",
       "⎢⎢0  0  0  0⎥  ⎢0  0  0  0⎥  ⎢0  0       0       ℯ         ⎥            ⎢0  0  0  0⎥        \n",
       "⎢⎢          ⎥  ⎢          ⎥  ⎢                             ⎥            ⎢          ⎥        \n",
       "⎢⎣0  0  0  0⎦  ⎣0  0  0  0⎦  ⎢        2⋅β - 2⋅φ            ⎥            ⎣0  0  0  0⎦        \n",
       "⎣                            ⎣0  0  -ℯ               0     ⎦                                \n",
       "\n",
       "   ⎤\n",
       "   ⎥\n",
       "   ⎥\n",
       "   ⎥\n",
       "   ⎥\n",
       "   ⎥\n",
       "   ⎥\n",
       "   ⎥\n",
       "   ⎥\n",
       "   ⎥\n",
       "   ⎥\n",
       "   ⎥\n",
       "   ⎥\n",
       "   ⎥\n",
       "   ⎥\n",
       "   ⎥\n",
       "  ⎤⎥\n",
       "  ⎥⎥\n",
       "  ⎥⎥\n",
       "  ⎥⎥\n",
       "⋅φ⎥⎥\n",
       "  ⎥⎥\n",
       "  ⎥⎥\n",
       "  ⎥⎥\n",
       "  ⎦⎥\n",
       "   ⎥\n",
       "   ⎥\n",
       "   ⎥\n",
       "   ⎥\n",
       "   ⎥\n",
       "   ⎥\n",
       "   ⎥\n",
       "   ⎥\n",
       "   ⎥\n",
       "   ⎦"
      ]
     },
     "execution_count": 32,
     "metadata": {},
     "output_type": "execute_result"
    }
   ],
   "source": [
    "rm1 = RiemannCurvatureTensor.from_christoffels(ch)\n",
    "rm1.tensor()"
   ]
  },
  {
   "cell_type": "code",
   "execution_count": 33,
   "id": "e4f86310",
   "metadata": {},
   "outputs": [
    {
     "data": {
      "text/latex": [
       "$\\displaystyle \\left[\\begin{matrix}\\left[\\begin{matrix}0 & 0 & 0 & 0\\\\0 & 0 & 0 & 0\\\\0 & 0 & 0 & 0\\\\0 & 0 & 0 & 0\\end{matrix}\\right] & \\left[\\begin{matrix}0 & - \\frac{e^{2 \\phi}}{3 u^{2}} & 0 & 0\\\\\\frac{e^{2 \\phi}}{3 u^{2}} & 0 & 0 & 0\\\\0 & 0 & 0 & 0\\\\0 & 0 & 0 & 0\\end{matrix}\\right] & \\left[\\begin{matrix}0 & 0 & - \\frac{e^{2 \\beta}}{6} & 0\\\\0 & 0 & 0 & 0\\\\\\frac{e^{2 \\beta}}{6} & 0 & 0 & 0\\\\0 & 0 & 0 & 0\\end{matrix}\\right] & \\left[\\begin{matrix}0 & 0 & 0 & - \\frac{e^{- 2 \\beta}}{6}\\\\0 & 0 & 0 & 0\\\\0 & 0 & 0 & 0\\\\\\frac{e^{- 2 \\beta}}{6} & 0 & 0 & 0\\end{matrix}\\right]\\\\\\left[\\begin{matrix}0 & \\frac{e^{2 \\phi}}{3 u^{2}} & 0 & 0\\\\- \\frac{e^{2 \\phi}}{3 u^{2}} & 0 & 0 & 0\\\\0 & 0 & 0 & 0\\\\0 & 0 & 0 & 0\\end{matrix}\\right] & \\left[\\begin{matrix}0 & 0 & 0 & 0\\\\0 & 0 & 0 & 0\\\\0 & 0 & 0 & 0\\\\0 & 0 & 0 & 0\\end{matrix}\\right] & \\left[\\begin{matrix}0 & 0 & 0 & 0\\\\0 & 0 & \\frac{e^{2 \\beta}}{6} & 0\\\\0 & - \\frac{e^{2 \\beta}}{6} & 0 & 0\\\\0 & 0 & 0 & 0\\end{matrix}\\right] & \\left[\\begin{matrix}0 & 0 & 0 & 0\\\\0 & 0 & 0 & \\frac{e^{- 2 \\beta}}{6}\\\\0 & 0 & 0 & 0\\\\0 & - \\frac{e^{- 2 \\beta}}{6} & 0 & 0\\end{matrix}\\right]\\\\\\left[\\begin{matrix}0 & 0 & \\frac{e^{2 \\beta}}{6} & 0\\\\0 & 0 & 0 & 0\\\\- \\frac{e^{2 \\beta}}{6} & 0 & 0 & 0\\\\0 & 0 & 0 & 0\\end{matrix}\\right] & \\left[\\begin{matrix}0 & 0 & 0 & 0\\\\0 & 0 & - \\frac{e^{2 \\beta}}{6} & 0\\\\0 & \\frac{e^{2 \\beta}}{6} & 0 & 0\\\\0 & 0 & 0 & 0\\end{matrix}\\right] & \\left[\\begin{matrix}0 & 0 & 0 & 0\\\\0 & 0 & 0 & 0\\\\0 & 0 & 0 & 0\\\\0 & 0 & 0 & 0\\end{matrix}\\right] & \\left[\\begin{matrix}0 & 0 & 0 & 0\\\\0 & 0 & 0 & 0\\\\0 & 0 & 0 & \\frac{u^{2} e^{- 2 \\phi}}{3}\\\\0 & 0 & - \\frac{u^{2} e^{- 2 \\phi}}{3} & 0\\end{matrix}\\right]\\\\\\left[\\begin{matrix}0 & 0 & 0 & \\frac{e^{- 2 \\beta}}{6}\\\\0 & 0 & 0 & 0\\\\0 & 0 & 0 & 0\\\\- \\frac{e^{- 2 \\beta}}{6} & 0 & 0 & 0\\end{matrix}\\right] & \\left[\\begin{matrix}0 & 0 & 0 & 0\\\\0 & 0 & 0 & - \\frac{e^{- 2 \\beta}}{6}\\\\0 & 0 & 0 & 0\\\\0 & \\frac{e^{- 2 \\beta}}{6} & 0 & 0\\end{matrix}\\right] & \\left[\\begin{matrix}0 & 0 & 0 & 0\\\\0 & 0 & 0 & 0\\\\0 & 0 & 0 & - \\frac{u^{2} e^{- 2 \\phi}}{3}\\\\0 & 0 & \\frac{u^{2} e^{- 2 \\phi}}{3} & 0\\end{matrix}\\right] & \\left[\\begin{matrix}0 & 0 & 0 & 0\\\\0 & 0 & 0 & 0\\\\0 & 0 & 0 & 0\\\\0 & 0 & 0 & 0\\end{matrix}\\right]\\end{matrix}\\right]$"
      ],
      "text/plain": [
       "⎡                         ⎡        2⋅φ       ⎤                                              \n",
       "⎢                         ⎢      -ℯ          ⎥       ⎡           2⋅β    ⎤         ⎡         \n",
       "⎢                         ⎢ 0    ──────  0  0⎥       ⎢         -ℯ       ⎥         ⎢         \n",
       "⎢                         ⎢          2       ⎥       ⎢ 0    0  ──────  0⎥         ⎢  0    0 \n",
       "⎢     ⎡0  0  0  0⎤        ⎢       3⋅u        ⎥       ⎢           6      ⎥         ⎢         \n",
       "⎢     ⎢          ⎥        ⎢                  ⎥       ⎢                  ⎥         ⎢         \n",
       "⎢     ⎢0  0  0  0⎥        ⎢ 2⋅φ              ⎥       ⎢ 0    0    0     0⎥         ⎢  0    0 \n",
       "⎢     ⎢          ⎥        ⎢ℯ                 ⎥       ⎢                  ⎥         ⎢         \n",
       "⎢     ⎢0  0  0  0⎥        ⎢────    0     0  0⎥       ⎢ 2⋅β              ⎥         ⎢  0    0 \n",
       "⎢     ⎢          ⎥        ⎢   2              ⎥       ⎢ℯ                 ⎥         ⎢         \n",
       "⎢     ⎣0  0  0  0⎦        ⎢3⋅u               ⎥       ⎢────  0    0     0⎥         ⎢ -2⋅β    \n",
       "⎢                         ⎢                  ⎥       ⎢ 6                ⎥         ⎢ℯ        \n",
       "⎢                         ⎢ 0      0     0  0⎥       ⎢                  ⎥         ⎢─────  0 \n",
       "⎢                         ⎢                  ⎥       ⎣ 0    0    0     0⎦         ⎣  6      \n",
       "⎢                         ⎣ 0      0     0  0⎦                                              \n",
       "⎢                                                                                           \n",
       "⎢ ⎡         2⋅φ      ⎤                                                                      \n",
       "⎢ ⎢        ℯ         ⎥                               ⎡0    0      0    0⎤         ⎡0     0  \n",
       "⎢ ⎢  0     ────  0  0⎥                               ⎢                  ⎥         ⎢         \n",
       "⎢ ⎢           2      ⎥                               ⎢            2⋅β   ⎥         ⎢         \n",
       "⎢ ⎢        3⋅u       ⎥        ⎡0  0  0  0⎤           ⎢           ℯ      ⎥         ⎢         \n",
       "⎢ ⎢                  ⎥        ⎢          ⎥           ⎢0    0     ────  0⎥         ⎢0     0  \n",
       "⎢ ⎢  2⋅φ             ⎥        ⎢0  0  0  0⎥           ⎢            6     ⎥         ⎢         \n",
       "⎢ ⎢-ℯ                ⎥        ⎢          ⎥           ⎢                  ⎥         ⎢         \n",
       "⎢ ⎢──────   0    0  0⎥        ⎢0  0  0  0⎥           ⎢     2⋅β          ⎥         ⎢0     0  \n",
       "⎢ ⎢    2             ⎥        ⎢          ⎥           ⎢   -ℯ             ⎥         ⎢         \n",
       "⎢ ⎢ 3⋅u              ⎥        ⎣0  0  0  0⎦           ⎢0  ──────   0    0⎥         ⎢     -2⋅β\n",
       "⎢ ⎢                  ⎥                               ⎢     6            ⎥         ⎢   -ℯ    \n",
       "⎢ ⎢  0      0    0  0⎥                               ⎢                  ⎥         ⎢0  ──────\n",
       "⎢ ⎢                  ⎥                               ⎣0    0      0    0⎦         ⎣      6  \n",
       "⎢ ⎣  0      0    0  0⎦                                                                      \n",
       "⎢                                                                                           \n",
       "⎢ ⎡            2⋅β   ⎤    ⎡0   0      0     0⎤                                 ⎡0  0      0 \n",
       "⎢ ⎢           ℯ      ⎥    ⎢                  ⎥                                 ⎢            \n",
       "⎢ ⎢  0     0  ────  0⎥    ⎢           2⋅β    ⎥                                 ⎢0  0      0 \n",
       "⎢ ⎢            6     ⎥    ⎢         -ℯ       ⎥           ⎡0  0  0  0⎤          ⎢            \n",
       "⎢ ⎢                  ⎥    ⎢0   0    ──────  0⎥           ⎢          ⎥          ⎢            \n",
       "⎢ ⎢  0     0   0    0⎥    ⎢           6      ⎥           ⎢0  0  0  0⎥          ⎢            \n",
       "⎢ ⎢                  ⎥    ⎢                  ⎥           ⎢          ⎥          ⎢0  0      0 \n",
       "⎢ ⎢  2⋅β             ⎥    ⎢    2⋅β           ⎥           ⎢0  0  0  0⎥          ⎢            \n",
       "⎢ ⎢-ℯ                ⎥    ⎢   ℯ              ⎥           ⎢          ⎥          ⎢            \n",
       "⎢ ⎢──────  0   0    0⎥    ⎢0  ────    0     0⎥           ⎣0  0  0  0⎦          ⎢        2  -\n",
       "⎢ ⎢  6               ⎥    ⎢    6             ⎥                                 ⎢      -u ⋅ℯ \n",
       "⎢ ⎢                  ⎥    ⎢                  ⎥                                 ⎢0  0  ──────\n",
       "⎢ ⎣  0     0   0    0⎦    ⎣0   0      0     0⎦                                 ⎣          3 \n",
       "⎢                                                                                           \n",
       "⎢⎡                -2⋅β⎤  ⎡0    0    0     0   ⎤  ⎡0  0     0          0     ⎤               \n",
       "⎢⎢               ℯ    ⎥  ⎢                    ⎥  ⎢                          ⎥               \n",
       "⎢⎢   0     0  0  ─────⎥  ⎢               -2⋅β ⎥  ⎢0  0     0          0     ⎥               \n",
       "⎢⎢                 6  ⎥  ⎢             -ℯ     ⎥  ⎢                          ⎥          ⎡0  0\n",
       "⎢⎢                    ⎥  ⎢0    0    0  ───────⎥  ⎢                  2  -2⋅φ ⎥          ⎢    \n",
       "⎢⎢   0     0  0    0  ⎥  ⎢                6   ⎥  ⎢                -u ⋅ℯ     ⎥          ⎢0  0\n",
       "⎢⎢                    ⎥  ⎢                    ⎥  ⎢0  0     0      ──────────⎥          ⎢    \n",
       "⎢⎢   0     0  0    0  ⎥  ⎢0    0    0     0   ⎥  ⎢                    3     ⎥          ⎢0  0\n",
       "⎢⎢                    ⎥  ⎢                    ⎥  ⎢                          ⎥          ⎢    \n",
       "⎢⎢  -2⋅β              ⎥  ⎢    -2⋅β            ⎥  ⎢       2  -2⋅φ            ⎥          ⎣0  0\n",
       "⎢⎢-ℯ                  ⎥  ⎢   ℯ                ⎥  ⎢      u ⋅ℯ                ⎥               \n",
       "⎢⎢───────  0  0    0  ⎥  ⎢0  ─────  0     0   ⎥  ⎢0  0  ────────      0     ⎥               \n",
       "⎣⎣   6                ⎦  ⎣     6              ⎦  ⎣         3                ⎦               \n",
       "\n",
       "               ⎤\n",
       "      -2⋅β ⎤   ⎥\n",
       "    -ℯ     ⎥   ⎥\n",
       " 0  ───────⎥   ⎥\n",
       "       6   ⎥   ⎥\n",
       "           ⎥   ⎥\n",
       " 0     0   ⎥   ⎥\n",
       "           ⎥   ⎥\n",
       " 0     0   ⎥   ⎥\n",
       "           ⎥   ⎥\n",
       "           ⎥   ⎥\n",
       "           ⎥   ⎥\n",
       " 0     0   ⎥   ⎥\n",
       "           ⎦   ⎥\n",
       "               ⎥\n",
       "               ⎥\n",
       "               ⎥\n",
       "   0    0  ⎤   ⎥\n",
       "           ⎥   ⎥\n",
       "       -2⋅β⎥   ⎥\n",
       "      ℯ    ⎥   ⎥\n",
       "   0  ─────⎥   ⎥\n",
       "        6  ⎥   ⎥\n",
       "           ⎥   ⎥\n",
       "   0    0  ⎥   ⎥\n",
       "           ⎥   ⎥\n",
       "           ⎥   ⎥\n",
       "           ⎥   ⎥\n",
       "─  0    0  ⎥   ⎥\n",
       "           ⎦   ⎥\n",
       "               ⎥\n",
       "               ⎥\n",
       "         0    ⎤⎥\n",
       "              ⎥⎥\n",
       "         0    ⎥⎥\n",
       "              ⎥⎥\n",
       "       2  -2⋅φ⎥⎥\n",
       "      u ⋅ℯ    ⎥⎥\n",
       "      ────────⎥⎥\n",
       "         3    ⎥⎥\n",
       "              ⎥⎥\n",
       "2⋅φ           ⎥⎥\n",
       "              ⎥⎥\n",
       "────     0    ⎥⎥\n",
       "              ⎦⎥\n",
       "               ⎥\n",
       "               ⎥\n",
       "               ⎥\n",
       "               ⎥\n",
       "  0  0⎤        ⎥\n",
       "      ⎥        ⎥\n",
       "  0  0⎥        ⎥\n",
       "      ⎥        ⎥\n",
       "  0  0⎥        ⎥\n",
       "      ⎥        ⎥\n",
       "  0  0⎦        ⎥\n",
       "               ⎥\n",
       "               ⎥\n",
       "               ⎦"
      ]
     },
     "execution_count": 33,
     "metadata": {},
     "output_type": "execute_result"
    }
   ],
   "source": [
    "weyl = WeylTensor.from_metric(metric)\n",
    "weyl.tensor()"
   ]
  },
  {
   "cell_type": "code",
   "execution_count": null,
   "id": "087297a4",
   "metadata": {},
   "outputs": [],
   "source": []
  }
 ],
 "metadata": {
  "@webio": {
   "lastCommId": "5caea2e95d684e46822ceb66c4891820",
   "lastKernelId": "59a7f566-c1c8-4d09-a4c6-dfd250f3ece7"
  },
  "kernelspec": {
   "display_name": "Python 3 (ipykernel)",
   "language": "python",
   "name": "python3"
  },
  "language_info": {
   "codemirror_mode": {
    "name": "ipython",
    "version": 3
   },
   "file_extension": ".py",
   "mimetype": "text/x-python",
   "name": "python",
   "nbconvert_exporter": "python",
   "pygments_lexer": "ipython3",
   "version": "3.8.8"
  }
 },
 "nbformat": 4,
 "nbformat_minor": 5
}
