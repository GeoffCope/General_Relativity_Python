{
 "cells": [
  {
   "cell_type": "markdown",
   "id": "c0f9a616",
   "metadata": {},
   "source": [
    "# Gravitational Solitons and Spatial Flatness by Feinstein and Charach\n",
    "##  Geoff Cope\n",
    "##  Univeristy of Utah\n",
    "##  January 8, 2022"
   ]
  },
  {
   "cell_type": "markdown",
   "id": "a3283c8e",
   "metadata": {},
   "source": [
    "https://iopscience.iop.org/article/10.1088/0264-9381/3/1/002/meta"
   ]
  },
  {
   "cell_type": "code",
   "execution_count": 1,
   "id": "c15fd070",
   "metadata": {},
   "outputs": [
    {
     "name": "stdout",
     "output_type": "stream",
     "text": [
      "IPython console for SymPy 1.9 (Python 3.8.8-64-bit) (ground types: gmpy)\n",
      "\n",
      "These commands were executed:\n",
      ">>> from __future__ import division\n",
      ">>> from sympy import *\n",
      ">>> x, y, z, t = symbols('x y z t')\n",
      ">>> k, m, n = symbols('k m n', integer=True)\n",
      ">>> f, g, h = symbols('f g h', cls=Function)\n",
      ">>> init_printing()\n",
      "\n",
      "Documentation can be found at https://docs.sympy.org/1.9/\n",
      "\n"
     ]
    }
   ],
   "source": [
    "from sympy import init_session\n",
    "init_session(use_latex=True)"
   ]
  },
  {
   "cell_type": "code",
   "execution_count": 2,
   "id": "e77726f1",
   "metadata": {},
   "outputs": [],
   "source": [
    "import warnings\n",
    "import matplotlib.cbook\n",
    "warnings.filterwarnings(\"ignore\",category=matplotlib.cbook.mplDeprecation)"
   ]
  },
  {
   "cell_type": "code",
   "execution_count": 41,
   "id": "e16f3bd8",
   "metadata": {},
   "outputs": [],
   "source": [
    "t,x,y,z,dt,dx,dy,dz,u,v = symbols('t x y z dt dx dy dz u v')"
   ]
  },
  {
   "cell_type": "code",
   "execution_count": 4,
   "id": "d30e7aee",
   "metadata": {},
   "outputs": [
    {
     "data": {
      "image/png": "[encoded data removed]",
      "text/latex": [
       "$\\displaystyle f{\\left(t,z \\right)}$"
      ],
      "text/plain": [
       "f(t, z)"
      ]
     },
     "execution_count": 4,
     "metadata": {},
     "output_type": "execute_result"
    }
   ],
   "source": [
    "f = Function('f')(t,z)\n",
    "f"
   ]
  },
  {
   "cell_type": "code",
   "execution_count": 5,
   "id": "a401ec5b",
   "metadata": {},
   "outputs": [
    {
     "data": {
      "image/png": "[encoded data removed]",
      "text/latex": [
       "$\\displaystyle p{\\left(t,z \\right)}$"
      ],
      "text/plain": [
       "p(t, z)"
      ]
     },
     "execution_count": 5,
     "metadata": {},
     "output_type": "execute_result"
    }
   ],
   "source": [
    "p = Function('p')(t,z)\n",
    "p"
   ]
  },
  {
   "cell_type": "code",
   "execution_count": 6,
   "id": "221d2483",
   "metadata": {},
   "outputs": [
    {
     "data": {
      "text/latex": [
       "$\\displaystyle \\left[\\begin{matrix}t\\\\x\\\\y\\\\z\\end{matrix}\\right]$"
      ],
      "text/plain": [
       "⎡t⎤\n",
       "⎢ ⎥\n",
       "⎢x⎥\n",
       "⎢ ⎥\n",
       "⎢y⎥\n",
       "⎢ ⎥\n",
       "⎣z⎦"
      ]
     },
     "execution_count": 6,
     "metadata": {},
     "output_type": "execute_result"
    }
   ],
   "source": [
    "variables = Matrix( [t,x,y,z] )\n",
    "variables"
   ]
  },
  {
   "cell_type": "code",
   "execution_count": 7,
   "id": "2dae9e41",
   "metadata": {},
   "outputs": [
    {
     "data": {
      "text/latex": [
       "$\\displaystyle \\left[\\begin{matrix}dt\\\\dx\\\\dy\\\\dz\\end{matrix}\\right]$"
      ],
      "text/plain": [
       "⎡dt⎤\n",
       "⎢  ⎥\n",
       "⎢dx⎥\n",
       "⎢  ⎥\n",
       "⎢dy⎥\n",
       "⎢  ⎥\n",
       "⎣dz⎦"
      ]
     },
     "execution_count": 7,
     "metadata": {},
     "output_type": "execute_result"
    }
   ],
   "source": [
    "differentials = Matrix( [dt,dx,dy,dz] ) \n",
    "differentials"
   ]
  },
  {
   "cell_type": "code",
   "execution_count": 8,
   "id": "3a506a40",
   "metadata": {},
   "outputs": [
    {
     "data": {
      "image/png": "[encoded data removed]",
      "text/latex": [
       "$\\displaystyle - dt^{2} e^{f{\\left(t,z \\right)}} + dx^{2} t e^{p{\\left(t,z \\right)}} + dy^{2} t e^{- p{\\left(t,z \\right)}} + dz^{2} e^{f{\\left(t,z \\right)}}$"
      ],
      "text/plain": [
       "    2  f(t, z)     2    p(t, z)     2    -p(t, z)     2  f(t, z)\n",
       "- dt ⋅ℯ        + dx ⋅t⋅ℯ        + dy ⋅t⋅ℯ         + dz ⋅ℯ       "
      ]
     },
     "execution_count": 8,
     "metadata": {},
     "output_type": "execute_result"
    }
   ],
   "source": [
    "lineElement = expand( exp(f)*(-dt**2 + dz**2) + t*(exp(p)*dx**2 + exp(-p)*dy**2) )\n",
    "lineElement"
   ]
  },
  {
   "cell_type": "code",
   "execution_count": 9,
   "id": "f4f7a39d",
   "metadata": {},
   "outputs": [
    {
     "data": {
      "text/latex": [
       "$\\displaystyle \\left[\\begin{matrix}- e^{f{\\left(t,z \\right)}} & 0 & 0 & 0\\\\0 & t e^{p{\\left(t,z \\right)}} & 0 & 0\\\\0 & 0 & t e^{- p{\\left(t,z \\right)}} & 0\\\\0 & 0 & 0 & e^{f{\\left(t,z \\right)}}\\end{matrix}\\right]$"
      ],
      "text/plain": [
       "⎡  f(t, z)                                   ⎤\n",
       "⎢-ℯ             0            0          0    ⎥\n",
       "⎢                                            ⎥\n",
       "⎢              p(t, z)                       ⎥\n",
       "⎢    0      t⋅ℯ              0          0    ⎥\n",
       "⎢                                            ⎥\n",
       "⎢                          -p(t, z)          ⎥\n",
       "⎢    0          0       t⋅ℯ             0    ⎥\n",
       "⎢                                            ⎥\n",
       "⎢                                     f(t, z)⎥\n",
       "⎣    0          0            0       ℯ       ⎦"
      ]
     },
     "execution_count": 9,
     "metadata": {},
     "output_type": "execute_result"
    }
   ],
   "source": [
    "g = zeros(4)\n",
    "\n",
    "for i in range(4):\n",
    "    for j in range(4):\n",
    "        if i == j:\n",
    "            g[i,j] = lineElement.coeff( differentials[i],2 ) \n",
    "        else:\n",
    "            g[i,j] = Rational(1,2)*lineElement.coeff( differentials[i]*differentials[j],1 )\n",
    "            \n",
    "g"
   ]
  },
  {
   "cell_type": "code",
   "execution_count": 10,
   "id": "9028f488",
   "metadata": {},
   "outputs": [
    {
     "data": {
      "text/latex": [
       "$\\displaystyle \\left[\\begin{matrix}- e^{f{\\left(t,z \\right)}} & 0 & 0 & 0\\\\0 & t e^{p{\\left(t,z \\right)}} & 0 & 0\\\\0 & 0 & t e^{- p{\\left(t,z \\right)}} & 0\\\\0 & 0 & 0 & e^{f{\\left(t,z \\right)}}\\end{matrix}\\right]$"
      ],
      "text/plain": [
       "⎡  f(t, z)                                   ⎤\n",
       "⎢-ℯ             0            0          0    ⎥\n",
       "⎢                                            ⎥\n",
       "⎢              p(t, z)                       ⎥\n",
       "⎢    0      t⋅ℯ              0          0    ⎥\n",
       "⎢                                            ⎥\n",
       "⎢                          -p(t, z)          ⎥\n",
       "⎢    0          0       t⋅ℯ             0    ⎥\n",
       "⎢                                            ⎥\n",
       "⎢                                     f(t, z)⎥\n",
       "⎣    0          0            0       ℯ       ⎦"
      ]
     },
     "execution_count": 10,
     "metadata": {},
     "output_type": "execute_result"
    }
   ],
   "source": [
    "g = zeros(4)\n",
    "\n",
    "for i in range(4):\n",
    "    for j in range(4):\n",
    "        if i == j:\n",
    "            g[i,j] = lineElement.coeff( differentials[i],2 ) \n",
    "        else:\n",
    "            g[i,j] = Rational(1,2)*lineElement.coeff( differentials[i]*differentials[j],1 )\n",
    "            \n",
    "g"
   ]
  },
  {
   "cell_type": "code",
   "execution_count": 11,
   "id": "0f73f931",
   "metadata": {},
   "outputs": [],
   "source": [
    "import sympy"
   ]
  },
  {
   "cell_type": "code",
   "execution_count": 12,
   "id": "ac48c729",
   "metadata": {},
   "outputs": [
    {
     "data": {
      "text/latex": [
       "$\\displaystyle \\left[\\begin{matrix}- e^{f{\\left(t,z \\right)}} & 0 & 0 & 0\\\\0 & t e^{p{\\left(t,z \\right)}} & 0 & 0\\\\0 & 0 & t e^{- p{\\left(t,z \\right)}} & 0\\\\0 & 0 & 0 & e^{f{\\left(t,z \\right)}}\\end{matrix}\\right]$"
      ],
      "text/plain": [
       "⎡  f(t, z)                                   ⎤\n",
       "⎢-ℯ             0            0          0    ⎥\n",
       "⎢                                            ⎥\n",
       "⎢              p(t, z)                       ⎥\n",
       "⎢    0      t⋅ℯ              0          0    ⎥\n",
       "⎢                                            ⎥\n",
       "⎢                          -p(t, z)          ⎥\n",
       "⎢    0          0       t⋅ℯ             0    ⎥\n",
       "⎢                                            ⎥\n",
       "⎢                                     f(t, z)⎥\n",
       "⎣    0          0            0       ℯ       ⎦"
      ]
     },
     "execution_count": 12,
     "metadata": {},
     "output_type": "execute_result"
    }
   ],
   "source": [
    "m = sympy.Array(g)\n",
    "m"
   ]
  },
  {
   "cell_type": "code",
   "execution_count": 13,
   "id": "6d6eccf1",
   "metadata": {},
   "outputs": [],
   "source": [
    "from einsteinpy.symbolic import *"
   ]
  },
  {
   "cell_type": "code",
   "execution_count": 14,
   "id": "8b65e9fe",
   "metadata": {},
   "outputs": [],
   "source": [
    "syms = sympy.symbols(\"t x y z\")\n",
    "t,x,y,z = syms"
   ]
  },
  {
   "cell_type": "code",
   "execution_count": 15,
   "id": "d6bc4be4",
   "metadata": {},
   "outputs": [],
   "source": [
    "metric = MetricTensor(m,syms)"
   ]
  },
  {
   "cell_type": "code",
   "execution_count": 16,
   "id": "77447153",
   "metadata": {},
   "outputs": [
    {
     "data": {
      "text/latex": [
       "$\\displaystyle \\left[\\begin{matrix}\\left[\\begin{matrix}\\frac{\\frac{\\partial}{\\partial t} f{\\left(t,z \\right)}}{2} & 0 & 0 & \\frac{\\frac{\\partial}{\\partial z} f{\\left(t,z \\right)}}{2}\\\\0 & \\frac{\\left(t \\frac{\\partial}{\\partial t} p{\\left(t,z \\right)} + 1\\right) e^{- f{\\left(t,z \\right)} + p{\\left(t,z \\right)}}}{2} & 0 & 0\\\\0 & 0 & \\frac{\\left(- t \\frac{\\partial}{\\partial t} p{\\left(t,z \\right)} + 1\\right) e^{- f{\\left(t,z \\right)} - p{\\left(t,z \\right)}}}{2} & 0\\\\\\frac{\\frac{\\partial}{\\partial z} f{\\left(t,z \\right)}}{2} & 0 & 0 & \\frac{\\frac{\\partial}{\\partial t} f{\\left(t,z \\right)}}{2}\\end{matrix}\\right] & \\left[\\begin{matrix}0 & \\frac{t \\frac{\\partial}{\\partial t} p{\\left(t,z \\right)} + 1}{2 t} & 0 & 0\\\\\\frac{t \\frac{\\partial}{\\partial t} p{\\left(t,z \\right)} + 1}{2 t} & 0 & 0 & \\frac{\\frac{\\partial}{\\partial z} p{\\left(t,z \\right)}}{2}\\\\0 & 0 & 0 & 0\\\\0 & \\frac{\\frac{\\partial}{\\partial z} p{\\left(t,z \\right)}}{2} & 0 & 0\\end{matrix}\\right] & \\left[\\begin{matrix}0 & 0 & \\frac{- t \\frac{\\partial}{\\partial t} p{\\left(t,z \\right)} + 1}{2 t} & 0\\\\0 & 0 & 0 & 0\\\\\\frac{- t \\frac{\\partial}{\\partial t} p{\\left(t,z \\right)} + 1}{2 t} & 0 & 0 & - \\frac{\\frac{\\partial}{\\partial z} p{\\left(t,z \\right)}}{2}\\\\0 & 0 & - \\frac{\\frac{\\partial}{\\partial z} p{\\left(t,z \\right)}}{2} & 0\\end{matrix}\\right] & \\left[\\begin{matrix}\\frac{\\frac{\\partial}{\\partial z} f{\\left(t,z \\right)}}{2} & 0 & 0 & \\frac{\\frac{\\partial}{\\partial t} f{\\left(t,z \\right)}}{2}\\\\0 & - \\frac{t e^{- f{\\left(t,z \\right)} + p{\\left(t,z \\right)}} \\frac{\\partial}{\\partial z} p{\\left(t,z \\right)}}{2} & 0 & 0\\\\0 & 0 & \\frac{t e^{- f{\\left(t,z \\right)} - p{\\left(t,z \\right)}} \\frac{\\partial}{\\partial z} p{\\left(t,z \\right)}}{2} & 0\\\\\\frac{\\frac{\\partial}{\\partial t} f{\\left(t,z \\right)}}{2} & 0 & 0 & \\frac{\\frac{\\partial}{\\partial z} f{\\left(t,z \\right)}}{2}\\end{matrix}\\right]\\end{matrix}\\right]$"
      ],
      "text/plain": [
       "⎡⎡∂                                                                                                ∂          ⎤                          \n",
       "⎢⎢──(f(t, z))                                                                                      ──(f(t, z))⎥                          \n",
       "⎢⎢∂t                                                                                               ∂z         ⎥  ⎡                     ∂ \n",
       "⎢⎢───────────                     0                                         0                      ───────────⎥  ⎢                   t⋅──\n",
       "⎢⎢     2                                                                                                2     ⎥  ⎢                     ∂t\n",
       "⎢⎢                                                                                                            ⎥  ⎢        0          ────\n",
       "⎢⎢             ⎛  ∂              ⎞  -f(t, z) + p(t, z)                                                        ⎥  ⎢                       \n",
       "⎢⎢             ⎜t⋅──(p(t, z)) + 1⎟⋅ℯ                                                                          ⎥  ⎢                       \n",
       "⎢⎢             ⎝  ∂t             ⎠                                                                            ⎥  ⎢  ∂                    \n",
       "⎢⎢     0       ───────────────────────────────────────                      0                           0     ⎥  ⎢t⋅──(p(t, z)) + 1      \n",
       "⎢⎢                                2                                                                           ⎥  ⎢  ∂t                   \n",
       "⎢⎢                                                                                                            ⎥  ⎢─────────────────      \n",
       "⎢⎢                                                      ⎛    ∂              ⎞  -f(t, z) - p(t, z)             ⎥  ⎢       2⋅t             \n",
       "⎢⎢                                                      ⎜- t⋅──(p(t, z)) + 1⎟⋅ℯ                               ⎥  ⎢                       \n",
       "⎢⎢                                                      ⎝    ∂t             ⎠                                 ⎥  ⎢        0              \n",
       "⎢⎢     0                          0                     ─────────────────────────────────────────       0     ⎥  ⎢                       \n",
       "⎢⎢                                                                          2                                 ⎥  ⎢                      ∂\n",
       "⎢⎢                                                                                                            ⎥  ⎢                      ─\n",
       "⎢⎢∂                                                                                                ∂          ⎥  ⎢                      ∂\n",
       "⎢⎢──(f(t, z))                                                                                      ──(f(t, z))⎥  ⎢        0             ─\n",
       "⎢⎢∂z                                                                                               ∂t         ⎥  ⎣                       \n",
       "⎢⎢───────────                     0                                         0                      ───────────⎥                          \n",
       "⎣⎣     2                                                                                                2     ⎦                          \n",
       "\n",
       "                                                                                              ⎡∂                                         \n",
       "                                                                                              ⎢──(f(t, z))                               \n",
       "                             ⎤  ⎡                            ∂                             ⎤  ⎢∂z                                        \n",
       "(p(t, z)) + 1                ⎥  ⎢                        - t⋅──(p(t, z)) + 1               ⎥  ⎢───────────                   0           \n",
       "                             ⎥  ⎢                            ∂t                            ⎥  ⎢     2                                    \n",
       "─────────────  0       0     ⎥  ⎢         0           0  ───────────────────        0      ⎥  ⎢                                          \n",
       "   2⋅t                       ⎥  ⎢                                2⋅t                       ⎥  ⎢                 -f(t, z) + p(t, z) ∂     \n",
       "                             ⎥  ⎢                                                          ⎥  ⎢             -t⋅ℯ                  ⋅──(p(t\n",
       "                  ∂          ⎥  ⎢         0           0           0                 0      ⎥  ⎢                                    ∂z    \n",
       "                  ──(p(t, z))⎥  ⎢                                                          ⎥  ⎢     0       ─────────────────────────────\n",
       "                  ∂z         ⎥  ⎢    ∂                                         ∂           ⎥  ⎢                              2           \n",
       "    0          0  ───────────⎥  ⎢- t⋅──(p(t, z)) + 1                          -──(p(t, z)) ⎥  ⎢                                          \n",
       "                       2     ⎥  ⎢    ∂t                                        ∂z          ⎥  ⎢                                          \n",
       "                             ⎥  ⎢───────────────────  0           0           ─────────────⎥  ⎢                                          \n",
       "    0          0       0     ⎥  ⎢        2⋅t                                        2      ⎥  ⎢                                          \n",
       "                             ⎥  ⎢                                                          ⎥  ⎢     0                        0           \n",
       "                             ⎥  ⎢                            ∂                             ⎥  ⎢                                          \n",
       "─(p(t, z))                   ⎥  ⎢                           -──(p(t, z))                   ⎥  ⎢                                          \n",
       "z                            ⎥  ⎢                            ∂z                            ⎥  ⎢∂                                         \n",
       "──────────     0       0     ⎥  ⎢         0           0     ─────────────           0      ⎥  ⎢──(f(t, z))                               \n",
       "    2                        ⎦  ⎣                                 2                        ⎦  ⎢∂t                                        \n",
       "                                                                                              ⎢───────────                   0           \n",
       "                                                                                              ⎣     2                                    \n",
       "\n",
       "                                           ∂          ⎤⎤\n",
       "                                           ──(f(t, z))⎥⎥\n",
       "                                           ∂t         ⎥⎥\n",
       "                        0                  ───────────⎥⎥\n",
       "                                                2     ⎥⎥\n",
       "                                                      ⎥⎥\n",
       "                                                      ⎥⎥\n",
       ", z))                                                 ⎥⎥\n",
       "                                                      ⎥⎥\n",
       "──────                  0                       0     ⎥⎥\n",
       "                                                      ⎥⎥\n",
       "                                                      ⎥⎥\n",
       "           -f(t, z) - p(t, z) ∂                       ⎥⎥\n",
       "        t⋅ℯ                  ⋅──(p(t, z))             ⎥⎥\n",
       "                              ∂z                      ⎥⎥\n",
       "        ─────────────────────────────────       0     ⎥⎥\n",
       "                        2                             ⎥⎥\n",
       "                                                      ⎥⎥\n",
       "                                           ∂          ⎥⎥\n",
       "                                           ──(f(t, z))⎥⎥\n",
       "                                           ∂z         ⎥⎥\n",
       "                        0                  ───────────⎥⎥\n",
       "                                                2     ⎦⎦"
      ]
     },
     "execution_count": 16,
     "metadata": {},
     "output_type": "execute_result"
    }
   ],
   "source": [
    "ch = ChristoffelSymbols.from_metric(metric)\n",
    "simplify(ch.tensor())"
   ]
  },
  {
   "cell_type": "code",
   "execution_count": 17,
   "id": "b3747843",
   "metadata": {},
   "outputs": [
    {
     "data": {
      "text/latex": [
       "$\\displaystyle \\left[\\begin{matrix}\\frac{t^{2} \\left(- \\frac{\\partial^{2}}{\\partial t^{2}} f{\\left(t,z \\right)} + \\frac{\\partial^{2}}{\\partial z^{2}} f{\\left(t,z \\right)} - \\left(\\frac{\\partial}{\\partial t} p{\\left(t,z \\right)}\\right)^{2}\\right) + t \\frac{\\partial}{\\partial t} f{\\left(t,z \\right)} + 1}{2 t^{2}} & 0 & 0 & \\frac{- t \\frac{\\partial}{\\partial t} p{\\left(t,z \\right)} \\frac{\\partial}{\\partial z} p{\\left(t,z \\right)} + \\frac{\\partial}{\\partial z} f{\\left(t,z \\right)}}{2 t}\\\\0 & \\frac{\\left(t \\frac{\\partial^{2}}{\\partial t^{2}} p{\\left(t,z \\right)} - t \\frac{\\partial^{2}}{\\partial z^{2}} p{\\left(t,z \\right)} + \\frac{\\partial}{\\partial t} p{\\left(t,z \\right)}\\right) e^{- f{\\left(t,z \\right)} + p{\\left(t,z \\right)}}}{2} & 0 & 0\\\\0 & 0 & \\frac{\\left(- t \\frac{\\partial^{2}}{\\partial t^{2}} p{\\left(t,z \\right)} + t \\frac{\\partial^{2}}{\\partial z^{2}} p{\\left(t,z \\right)} - \\frac{\\partial}{\\partial t} p{\\left(t,z \\right)}\\right) e^{- f{\\left(t,z \\right)} - p{\\left(t,z \\right)}}}{2} & 0\\\\\\frac{- t \\frac{\\partial}{\\partial t} p{\\left(t,z \\right)} \\frac{\\partial}{\\partial z} p{\\left(t,z \\right)} + \\frac{\\partial}{\\partial z} f{\\left(t,z \\right)}}{2 t} & 0 & 0 & \\frac{t \\frac{\\partial^{2}}{\\partial t^{2}} f{\\left(t,z \\right)} - t \\frac{\\partial^{2}}{\\partial z^{2}} f{\\left(t,z \\right)} - t \\left(\\frac{\\partial}{\\partial z} p{\\left(t,z \\right)}\\right)^{2} + \\frac{\\partial}{\\partial t} f{\\left(t,z \\right)}}{2 t}\\end{matrix}\\right]$"
      ],
      "text/plain": [
       "⎡   ⎛    2              2                         2⎞                                                                                     \n",
       "⎢ 2 ⎜   ∂              ∂             ⎛∂          ⎞ ⎟     ∂                                                                               \n",
       "⎢t ⋅⎜- ───(f(t, z)) + ───(f(t, z)) - ⎜──(p(t, z))⎟ ⎟ + t⋅──(f(t, z)) + 1                                                                 \n",
       "⎢   ⎜    2              2            ⎝∂t         ⎠ ⎟     ∂t                                                                              \n",
       "⎢   ⎝  ∂t             ∂z                           ⎠                                                                                     \n",
       "⎢───────────────────────────────────────────────────────────────────────                                   0                             \n",
       "⎢                                     2                                                                                                  \n",
       "⎢                                  2⋅t                                                                                                   \n",
       "⎢                                                                                                                                        \n",
       "⎢                                                                         ⎛    2                2                       ⎞                \n",
       "⎢                                                                         ⎜   ∂                ∂             ∂          ⎟  -f(t, z) + p(t\n",
       "⎢                                                                         ⎜t⋅───(p(t, z)) - t⋅───(p(t, z)) + ──(p(t, z))⎟⋅ℯ              \n",
       "⎢                                                                         ⎜    2                2            ∂t         ⎟                \n",
       "⎢                                                                         ⎝  ∂t               ∂z                        ⎠                \n",
       "⎢                                   0                                     ───────────────────────────────────────────────────────────────\n",
       "⎢                                                                                                          2                             \n",
       "⎢                                                                                                                                        \n",
       "⎢                                                                                                                                        \n",
       "⎢                                                                                                                                        \n",
       "⎢                                                                                                                                        \n",
       "⎢                                                                                                                                        \n",
       "⎢                                                                                                                                        \n",
       "⎢                                   0                                                                      0                             \n",
       "⎢                                                                                                                                        \n",
       "⎢                                                                                                                                        \n",
       "⎢                                                                                                                                        \n",
       "⎢                                                                                                                                        \n",
       "⎢                   ∂           ∂             ∂                                                                                          \n",
       "⎢               - t⋅──(p(t, z))⋅──(p(t, z)) + ──(f(t, z))                                                                                \n",
       "⎢                   ∂t          ∂z            ∂z                                                                                         \n",
       "⎢               ─────────────────────────────────────────                                                  0                             \n",
       "⎣                                  2⋅t                                                                                                   \n",
       "\n",
       "                                                                                                                                         \n",
       "                                                                                                                                         \n",
       "                                                                                            ∂           ∂             ∂                  \n",
       "                                                                                        - t⋅──(p(t, z))⋅──(p(t, z)) + ──(f(t, z))        \n",
       "                                                                                            ∂t          ∂z            ∂z                 \n",
       "                                        0                                               ─────────────────────────────────────────        \n",
       "                                                                                                           2⋅t                           \n",
       "                                                                                                                                         \n",
       "                                                                                                                                         \n",
       "                                                                                                                                         \n",
       ", z)                                                                                                                                     \n",
       "                                                                                                                                         \n",
       "                                                                                                                                         \n",
       "                                                                                                                                         \n",
       "────                                    0                                                                   0                            \n",
       "                                                                                                                                         \n",
       "                                                                                                                                         \n",
       "      ⎛      2                2                       ⎞                                                                                  \n",
       "      ⎜     ∂                ∂             ∂          ⎟  -f(t, z) - p(t, z)                                                              \n",
       "      ⎜- t⋅───(p(t, z)) + t⋅───(p(t, z)) - ──(p(t, z))⎟⋅ℯ                                                                                \n",
       "      ⎜      2                2            ∂t         ⎟                                                                                  \n",
       "      ⎝    ∂t               ∂z                        ⎠                                                                                  \n",
       "      ─────────────────────────────────────────────────────────────────────                                 0                            \n",
       "                                        2                                                                                                \n",
       "                                                                                                                                         \n",
       "                                                                                 2                2                           2          \n",
       "                                                                                ∂                ∂               ⎛∂          ⎞    ∂      \n",
       "                                                                             t⋅───(f(t, z)) - t⋅───(f(t, z)) - t⋅⎜──(p(t, z))⎟  + ──(f(t,\n",
       "                                                                                 2                2              ⎝∂z         ⎠    ∂t     \n",
       "                                                                               ∂t               ∂z                                       \n",
       "                                        0                                    ────────────────────────────────────────────────────────────\n",
       "                                                                                                           2⋅t                           \n",
       "\n",
       "    ⎤\n",
       "    ⎥\n",
       "    ⎥\n",
       "    ⎥\n",
       "    ⎥\n",
       "    ⎥\n",
       "    ⎥\n",
       "    ⎥\n",
       "    ⎥\n",
       "    ⎥\n",
       "    ⎥\n",
       "    ⎥\n",
       "    ⎥\n",
       "    ⎥\n",
       "    ⎥\n",
       "    ⎥\n",
       "    ⎥\n",
       "    ⎥\n",
       "    ⎥\n",
       "    ⎥\n",
       "    ⎥\n",
       "    ⎥\n",
       "    ⎥\n",
       "    ⎥\n",
       "    ⎥\n",
       "    ⎥\n",
       "    ⎥\n",
       " z))⎥\n",
       "    ⎥\n",
       "    ⎥\n",
       "────⎥\n",
       "    ⎦"
      ]
     },
     "execution_count": 17,
     "metadata": {},
     "output_type": "execute_result"
    }
   ],
   "source": [
    "Ric = RicciTensor.from_metric(metric)\n",
    "Ric.tensor()"
   ]
  },
  {
   "cell_type": "code",
   "execution_count": 18,
   "id": "44bed7dd",
   "metadata": {},
   "outputs": [
    {
     "data": {
      "image/png": "[encoded data removed]",
      "text/latex": [
       "$\\displaystyle \\frac{\\left(2 t^{2} \\frac{\\partial^{2}}{\\partial t^{2}} f{\\left(t,z \\right)} - 2 t^{2} \\frac{\\partial^{2}}{\\partial z^{2}} f{\\left(t,z \\right)} + t^{2} \\left(\\frac{\\partial}{\\partial t} p{\\left(t,z \\right)}\\right)^{2} - t^{2} \\left(\\frac{\\partial}{\\partial z} p{\\left(t,z \\right)}\\right)^{2} - 1\\right) e^{- f{\\left(t,z \\right)}}}{2 t^{2}}$"
      ],
      "text/plain": [
       "⎛       2                   2                            2                   2    ⎞          \n",
       "⎜   2  ∂                2  ∂              2 ⎛∂          ⎞     2 ⎛∂          ⎞     ⎟  -f(t, z)\n",
       "⎜2⋅t ⋅───(f(t, z)) - 2⋅t ⋅───(f(t, z)) + t ⋅⎜──(p(t, z))⎟  - t ⋅⎜──(p(t, z))⎟  - 1⎟⋅ℯ        \n",
       "⎜       2                   2               ⎝∂t         ⎠       ⎝∂z         ⎠     ⎟          \n",
       "⎝     ∂t                  ∂z                                                      ⎠          \n",
       "─────────────────────────────────────────────────────────────────────────────────────────────\n",
       "                                                2                                            \n",
       "                                             2⋅t                                             "
      ]
     },
     "execution_count": 18,
     "metadata": {},
     "output_type": "execute_result"
    }
   ],
   "source": [
    "R = RicciScalar.from_riccitensor(Ric)\n",
    "R.simplify()\n",
    "R.expr"
   ]
  },
  {
   "cell_type": "code",
   "execution_count": 19,
   "id": "b4e713b4",
   "metadata": {},
   "outputs": [
    {
     "data": {
      "text/latex": [
       "$\\displaystyle \\left[\\begin{matrix}- 0.25 \\left(\\frac{\\partial}{\\partial t} p{\\left(t,z \\right)}\\right)^{2} - 0.25 \\left(\\frac{\\partial}{\\partial z} p{\\left(t,z \\right)}\\right)^{2} + \\frac{0.5 \\frac{\\partial}{\\partial t} f{\\left(t,z \\right)}}{t} + \\frac{0.25}{t^{2}} & 0 & 0 & \\frac{- t \\frac{\\partial}{\\partial t} p{\\left(t,z \\right)} \\frac{\\partial}{\\partial z} p{\\left(t,z \\right)} + \\frac{\\partial}{\\partial z} f{\\left(t,z \\right)}}{2 t}\\\\0 & \\frac{\\left(- 1.0 t^{2} \\frac{\\partial^{2}}{\\partial t^{2}} f{\\left(t,z \\right)} + 1.0 t^{2} \\frac{\\partial^{2}}{\\partial z^{2}} f{\\left(t,z \\right)} - 0.5 t^{2} \\left(\\frac{\\partial}{\\partial t} p{\\left(t,z \\right)}\\right)^{2} + 0.5 t^{2} \\left(\\frac{\\partial}{\\partial z} p{\\left(t,z \\right)}\\right)^{2} + t \\left(t \\frac{\\partial^{2}}{\\partial t^{2}} p{\\left(t,z \\right)} - t \\frac{\\partial^{2}}{\\partial z^{2}} p{\\left(t,z \\right)} + \\frac{\\partial}{\\partial t} p{\\left(t,z \\right)}\\right) + 0.5\\right) e^{- f{\\left(t,z \\right)} + p{\\left(t,z \\right)}}}{2 t} & 0 & 0\\\\0 & 0 & \\frac{\\left(- 1.0 t^{2} \\frac{\\partial^{2}}{\\partial t^{2}} f{\\left(t,z \\right)} + t^{2} \\frac{\\partial^{2}}{\\partial z^{2}} f{\\left(t,z \\right)} - 0.5 t^{2} \\left(\\frac{\\partial}{\\partial t} p{\\left(t,z \\right)}\\right)^{2} + 0.5 t^{2} \\left(\\frac{\\partial}{\\partial z} p{\\left(t,z \\right)}\\right)^{2} - t \\left(t \\frac{\\partial^{2}}{\\partial t^{2}} p{\\left(t,z \\right)} - t \\frac{\\partial^{2}}{\\partial z^{2}} p{\\left(t,z \\right)} + \\frac{\\partial}{\\partial t} p{\\left(t,z \\right)}\\right) + 0.5\\right) e^{- f{\\left(t,z \\right)} - p{\\left(t,z \\right)}}}{2 t} & 0\\\\\\frac{- t \\frac{\\partial}{\\partial t} p{\\left(t,z \\right)} \\frac{\\partial}{\\partial z} p{\\left(t,z \\right)} + \\frac{\\partial}{\\partial z} f{\\left(t,z \\right)}}{2 t} & 0 & 0 & - 0.25 \\left(\\frac{\\partial}{\\partial t} p{\\left(t,z \\right)}\\right)^{2} - 0.25 \\left(\\frac{\\partial}{\\partial z} p{\\left(t,z \\right)}\\right)^{2} + \\frac{0.5 \\frac{\\partial}{\\partial t} f{\\left(t,z \\right)}}{t} + \\frac{0.25}{t^{2}}\\end{matrix}\\right]$"
      ],
      "text/plain": [
       "⎡                                                  ∂                                                                                     \n",
       "⎢                    2                     2   0.5⋅──(f(t, z))                                                                           \n",
       "⎢       ⎛∂          ⎞         ⎛∂          ⎞        ∂t            0.25                                                                    \n",
       "⎢- 0.25⋅⎜──(p(t, z))⎟  - 0.25⋅⎜──(p(t, z))⎟  + ─────────────── + ────                                                                    \n",
       "⎢       ⎝∂t         ⎠         ⎝∂z         ⎠           t            2                                                                     \n",
       "⎢                                                                 t                                                                      \n",
       "⎢                                                                                                                                        \n",
       "⎢                                                                      ⎛       2                     2                                2  \n",
       "⎢                                                                      ⎜   2  ∂                  2  ∂                  2 ⎛∂          ⎞   \n",
       "⎢                                                                      ⎜- t ⋅───(f(t, z)) + 1.0⋅t ⋅───(f(t, z)) - 0.5⋅t ⋅⎜──(p(t, z))⎟  +\n",
       "⎢                                                                      ⎜       2                     2                   ⎝∂t         ⎠   \n",
       "⎢                                                                      ⎝     ∂t                    ∂z                                    \n",
       "⎢                                 0                                    ──────────────────────────────────────────────────────────────────\n",
       "⎢                                                                                                                                        \n",
       "⎢                                                                                                                                        \n",
       "⎢                                                                                                                                        \n",
       "⎢                                                                                                                                        \n",
       "⎢                                                                                                                                        \n",
       "⎢                                                                                                                                        \n",
       "⎢                                                                                                                                        \n",
       "⎢                                 0                                                                                                      \n",
       "⎢                                                                                                                                        \n",
       "⎢                                                                                                                                        \n",
       "⎢                 ∂           ∂             ∂                                                                                            \n",
       "⎢             - t⋅──(p(t, z))⋅──(p(t, z)) + ──(f(t, z))                                                                                  \n",
       "⎢                 ∂t          ∂z            ∂z                                                                                           \n",
       "⎢             ─────────────────────────────────────────                                                                                  \n",
       "⎢                                2⋅t                                                                                                     \n",
       "⎣                                                                                                                                        \n",
       "\n",
       "                                                                                                                                         \n",
       "                                                                                                                                         \n",
       "                                                                                                                                         \n",
       "                 0                                                                                                                       \n",
       "                                                                                                                                         \n",
       "                                                                                                                                         \n",
       "                                                                                                                                         \n",
       "                     2     ⎛    2                2                       ⎞      ⎞                                                        \n",
       "      2 ⎛∂          ⎞      ⎜   ∂                ∂             ∂          ⎟      ⎟  -f(t, z) + p(t, z)                                    \n",
       " 0.5⋅t ⋅⎜──(p(t, z))⎟  + t⋅⎜t⋅───(p(t, z)) - t⋅───(p(t, z)) + ──(p(t, z))⎟ + 0.5⎟⋅ℯ                                                      \n",
       "        ⎝∂z         ⎠      ⎜    2                2            ∂t         ⎟      ⎟                                                        \n",
       "                           ⎝  ∂t               ∂z                        ⎠      ⎠                                                        \n",
       "─────────────────────────────────────────────────────────────────────────────────────────────────────                                    \n",
       "                2⋅t                                                                                                                      \n",
       "                                                                                                                                         \n",
       "                                                                                                       ⎛       2                 2       \n",
       "                                                                                                       ⎜   2  ∂              2  ∂        \n",
       "                                                                                                       ⎜- t ⋅───(f(t, z)) + t ⋅───(f(t, z\n",
       "                                                                                                       ⎜       2                 2       \n",
       "                                                                                                       ⎝     ∂t                ∂z        \n",
       "                 0                                                                                     ──────────────────────────────────\n",
       "                                                                                                                                         \n",
       "                                                                                                                                         \n",
       "                                                                                                                                         \n",
       "                                                                                                                                         \n",
       "                                                                                                                                         \n",
       "                 0                                                                                                                       \n",
       "                                                                                                                                         \n",
       "                                                                                                                                         \n",
       "\n",
       "                                                                                                                                         \n",
       "                                                                                                                                         \n",
       "                                                                                                                                         \n",
       "                                               0                                                                                         \n",
       "                                                                                                                                         \n",
       "                                                                                                                                         \n",
       "                                                                                                                                         \n",
       "                                                                                                                                         \n",
       "                                                                                                                                         \n",
       "                                                                                                                                         \n",
       "                                                                                                                                         \n",
       "                                                                                                                                         \n",
       "                                               0                                                                                         \n",
       "                                                                                                                                         \n",
       "                                                                                                                                         \n",
       "                         2                       2     ⎛    2                2                       ⎞      ⎞                            \n",
       "          2 ⎛∂          ⎞         2 ⎛∂          ⎞      ⎜   ∂                ∂             ∂          ⎟      ⎟  -f(t, z) - p(t, z)        \n",
       ")) - 0.5⋅t ⋅⎜──(p(t, z))⎟  + 0.5⋅t ⋅⎜──(p(t, z))⎟  - t⋅⎜t⋅───(p(t, z)) - t⋅───(p(t, z)) + ──(p(t, z))⎟ + 0.5⎟⋅ℯ                          \n",
       "            ⎝∂t         ⎠           ⎝∂z         ⎠      ⎜    2                2            ∂t         ⎟      ⎟                            \n",
       "                                                       ⎝  ∂t               ∂z                        ⎠      ⎠                            \n",
       "─────────────────────────────────────────────────────────────────────────────────────────────────────────────────────────────────        \n",
       "                                              2⋅t                                                                                        \n",
       "                                                                                                                                         \n",
       "                                                                                                                                         \n",
       "                                                                                                                                         \n",
       "                                                                                                                                         \n",
       "                                               0                                                                                   - 0.25\n",
       "                                                                                                                                         \n",
       "                                                                                                                                         \n",
       "\n",
       "           ∂           ∂             ∂                        ⎤\n",
       "       - t⋅──(p(t, z))⋅──(p(t, z)) + ──(f(t, z))              ⎥\n",
       "           ∂t          ∂z            ∂z                       ⎥\n",
       "       ─────────────────────────────────────────              ⎥\n",
       "                          2⋅t                                 ⎥\n",
       "                                                              ⎥\n",
       "                                                              ⎥\n",
       "                                                              ⎥\n",
       "                                                              ⎥\n",
       "                                                              ⎥\n",
       "                                                              ⎥\n",
       "                                                              ⎥\n",
       "                           0                                  ⎥\n",
       "                                                              ⎥\n",
       "                                                              ⎥\n",
       "                                                              ⎥\n",
       "                                                              ⎥\n",
       "                                                              ⎥\n",
       "                                                              ⎥\n",
       "                                                              ⎥\n",
       "                           0                                  ⎥\n",
       "                                                              ⎥\n",
       "                                                              ⎥\n",
       "                                            ∂                 ⎥\n",
       "              2                     2   0.5⋅──(f(t, z))       ⎥\n",
       " ⎛∂          ⎞         ⎛∂          ⎞        ∂t            0.25⎥\n",
       "⋅⎜──(p(t, z))⎟  - 0.25⋅⎜──(p(t, z))⎟  + ─────────────── + ────⎥\n",
       " ⎝∂t         ⎠         ⎝∂z         ⎠           t            2 ⎥\n",
       "                                                           t  ⎦"
      ]
     },
     "execution_count": 19,
     "metadata": {},
     "output_type": "execute_result"
    }
   ],
   "source": [
    "einst = EinsteinTensor.from_metric(metric)\n",
    "simplify(einst.tensor())"
   ]
  },
  {
   "cell_type": "code",
   "execution_count": 20,
   "id": "89169f72",
   "metadata": {},
   "outputs": [],
   "source": [
    "#  rm1 = RiemannCurvatureTensor.from_christoffels(ch)\n",
    "#  rm1.tensor()"
   ]
  },
  {
   "cell_type": "code",
   "execution_count": 21,
   "id": "17ea4457",
   "metadata": {},
   "outputs": [],
   "source": [
    "#  weyl = WeylTensor.from_metric(metric)\n",
    "#  weyl.tensor()"
   ]
  },
  {
   "cell_type": "code",
   "execution_count": 27,
   "id": "07bfe69e",
   "metadata": {},
   "outputs": [
    {
     "data": {
      "image/png": "[encoded data removed]",
      "text/latex": [
       "$\\displaystyle \\frac{\\partial^{2}}{\\partial t^{2}} p{\\left(t,z \\right)} - \\frac{\\partial^{2}}{\\partial z^{2}} p{\\left(t,z \\right)} + \\frac{\\frac{\\partial}{\\partial t} p{\\left(t,z \\right)}}{t} = 0$"
      ],
      "text/plain": [
       "                              ∂              \n",
       "  2              2            ──(p(t, z))    \n",
       " ∂              ∂             ∂t             \n",
       "───(p(t, z)) - ───(p(t, z)) + ─────────── = 0\n",
       "  2              2                 t         \n",
       "∂t             ∂z                            "
      ]
     },
     "execution_count": 27,
     "metadata": {},
     "output_type": "execute_result"
    }
   ],
   "source": [
    "equation6 = Eq(expand((1/t)*Ric.tensor()[1,1].args[1]),0)\n",
    "equation6"
   ]
  },
  {
   "cell_type": "code",
   "execution_count": 34,
   "id": "b8f7f8c6",
   "metadata": {},
   "outputs": [
    {
     "data": {
      "image/png": "[encoded data removed]",
      "text/latex": [
       "$\\displaystyle \\frac{\\partial}{\\partial z} f{\\left(t,z \\right)} = t \\frac{\\partial}{\\partial t} p{\\left(t,z \\right)} \\frac{\\partial}{\\partial z} p{\\left(t,z \\right)}$"
      ],
      "text/plain": [
       "∂               ∂           ∂          \n",
       "──(f(t, z)) = t⋅──(p(t, z))⋅──(p(t, z))\n",
       "∂z              ∂t          ∂z         "
      ]
     },
     "execution_count": 34,
     "metadata": {},
     "output_type": "execute_result"
    }
   ],
   "source": [
    "#  Not numbered as an equation in paper but this is a constraint equation for f\n",
    "dfdz = Eq( diff(f,z) ,solve( Ric.tensor()[3,0].args[2], diff(f,z)) [0])\n",
    "dfdz"
   ]
  },
  {
   "cell_type": "code",
   "execution_count": 37,
   "id": "e5f21c34",
   "metadata": {},
   "outputs": [
    {
     "data": {
      "image/png": "[encoded data removed]",
      "text/latex": [
       "$\\displaystyle \\frac{\\partial}{\\partial t} f{\\left(t,z \\right)} = 0.5 t \\left(\\frac{\\partial}{\\partial t} p{\\left(t,z \\right)}\\right)^{2} + 0.5 t \\left(\\frac{\\partial}{\\partial z} p{\\left(t,z \\right)}\\right)^{2} - \\frac{0.5}{t}$"
      ],
      "text/plain": [
       "                                 2                      2      \n",
       "∂                   ⎛∂          ⎞          ⎛∂          ⎞    0.5\n",
       "──(f(t, z)) = 0.5⋅t⋅⎜──(p(t, z))⎟  + 0.5⋅t⋅⎜──(p(t, z))⎟  - ───\n",
       "∂t                  ⎝∂t         ⎠          ⎝∂z         ⎠     t "
      ]
     },
     "execution_count": 37,
     "metadata": {},
     "output_type": "execute_result"
    }
   ],
   "source": [
    "#  Not numbered as an equation in paper but this is a constraint equation for f\n",
    "Eq( diff(f,t), expand( solve( simplify(einst.tensor())[0,0], diff(f,t))[0] ) )"
   ]
  },
  {
   "cell_type": "code",
   "execution_count": 43,
   "id": "533a17f2",
   "metadata": {},
   "outputs": [],
   "source": [
    "from sympy import acosh"
   ]
  },
  {
   "cell_type": "code",
   "execution_count": 46,
   "id": "b0bbab4f",
   "metadata": {},
   "outputs": [],
   "source": [
    "#  equation2 = Eq( p , k*ln(t)- m*acosh(z/t))\n",
    "#  equation2"
   ]
  },
  {
   "cell_type": "code",
   "execution_count": 45,
   "id": "569b9017",
   "metadata": {},
   "outputs": [],
   "source": [
    "X, Y = map(Function, 'XY')"
   ]
  },
  {
   "cell_type": "code",
   "execution_count": 47,
   "id": "da2dc631",
   "metadata": {},
   "outputs": [
    {
     "data": {
      "image/png": "[encoded data removed]",
      "text/latex": [
       "$\\displaystyle \\frac{\\partial^{2}}{\\partial t^{2}} p{\\left(t,z \\right)} - \\frac{\\partial^{2}}{\\partial z^{2}} p{\\left(t,z \\right)} + \\frac{\\frac{\\partial}{\\partial t} p{\\left(t,z \\right)}}{t} = 0$"
      ],
      "text/plain": [
       "                              ∂              \n",
       "  2              2            ──(p(t, z))    \n",
       " ∂              ∂             ∂t             \n",
       "───(p(t, z)) - ───(p(t, z)) + ─────────── = 0\n",
       "  2              2                 t         \n",
       "∂t             ∂z                            "
      ]
     },
     "execution_count": 47,
     "metadata": {},
     "output_type": "execute_result"
    }
   ],
   "source": [
    "eq = equation6\n",
    "eq"
   ]
  },
  {
   "cell_type": "code",
   "execution_count": 50,
   "id": "6c533619",
   "metadata": {},
   "outputs": [
    {
     "data": {
      "image/png": "[encoded data removed]",
      "text/latex": [
       "$\\displaystyle \\frac{\\frac{d^{2}}{d z^{2}} X{\\left(z \\right)}}{X{\\left(z \\right)}} = - k^{2}$"
      ],
      "text/plain": [
       "  2            \n",
       " d             \n",
       "───(X(z))      \n",
       "  2            \n",
       "dz            2\n",
       "───────── = -k \n",
       "   X(z)        "
      ]
     },
     "execution_count": 50,
     "metadata": {},
     "output_type": "execute_result"
    }
   ],
   "source": [
    "xODE = Eq(pde_separate( eq, p, [X(z),Y(t)])[0] , -k**2 ) \n",
    "xODE"
   ]
  },
  {
   "cell_type": "code",
   "execution_count": 51,
   "id": "7ebd057a",
   "metadata": {},
   "outputs": [
    {
     "data": {
      "image/png": "[encoded data removed]",
      "text/latex": [
       "$\\displaystyle \\frac{\\frac{d^{2}}{d z^{2}} X{\\left(z \\right)}}{X{\\left(z \\right)}} = - k^{2}$"
      ],
      "text/plain": [
       "  2            \n",
       " d             \n",
       "───(X(z))      \n",
       "  2            \n",
       "dz            2\n",
       "───────── = -k \n",
       "   X(z)        "
      ]
     },
     "execution_count": 51,
     "metadata": {},
     "output_type": "execute_result"
    }
   ],
   "source": [
    "xODE = Eq(pde_separate( eq, p, [X(z),Y(t)])[0] , -k**2 ) \n",
    "xODE"
   ]
  },
  {
   "cell_type": "code",
   "execution_count": 52,
   "id": "5d75edf7",
   "metadata": {},
   "outputs": [],
   "source": [
    "from sympy import dsolve "
   ]
  },
  {
   "cell_type": "code",
   "execution_count": 54,
   "id": "544923a2",
   "metadata": {},
   "outputs": [
    {
     "data": {
      "image/png": "[encoded data removed]",
      "text/latex": [
       "$\\displaystyle X{\\left(z \\right)} = C_{1} \\sin{\\left(z \\left|{k}\\right| \\right)} + C_{2} \\cos{\\left(k z \\right)}$"
      ],
      "text/plain": [
       "X(z) = C₁⋅sin(z⋅│k│) + C₂⋅cos(k⋅z)"
      ]
     },
     "execution_count": 54,
     "metadata": {},
     "output_type": "execute_result"
    }
   ],
   "source": [
    "xSolution = dsolve( xODE , X(z))\n",
    "xSolution "
   ]
  },
  {
   "cell_type": "code",
   "execution_count": 56,
   "id": "39467900",
   "metadata": {},
   "outputs": [
    {
     "data": {
      "image/png": "[encoded data removed]",
      "text/latex": [
       "$\\displaystyle X{\\left(z \\right)} = \\cos{\\left(k z \\right)}$"
      ],
      "text/plain": [
       "X(z) = cos(k⋅z)"
      ]
     },
     "execution_count": 56,
     "metadata": {},
     "output_type": "execute_result"
    }
   ],
   "source": [
    "#  Arbitrarily pick cos\n",
    "xSolutionParticular = xSolution.subs(xSolution.args[1].args[0].args[0],0).subs(xSolution.args[1].args[1].args[0],1)\n",
    "xSolutionParticular"
   ]
  },
  {
   "cell_type": "code",
   "execution_count": 58,
   "id": "848b822b",
   "metadata": {},
   "outputs": [
    {
     "data": {
      "image/png": "[encoded data removed]",
      "text/latex": [
       "$\\displaystyle \\frac{\\frac{d^{2}}{d t^{2}} Y{\\left(t \\right)}}{Y{\\left(t \\right)}} + \\frac{\\frac{d}{d t} Y{\\left(t \\right)}}{t Y{\\left(t \\right)}} = k^{2}$"
      ],
      "text/plain": [
       "  2                      \n",
       " d                       \n",
       "───(Y(t))   d            \n",
       "  2         ──(Y(t))     \n",
       "dt          dt          2\n",
       "───────── + ──────── = k \n",
       "   Y(t)      t⋅Y(t)      "
      ]
     },
     "execution_count": 58,
     "metadata": {},
     "output_type": "execute_result"
    }
   ],
   "source": [
    "yODE = Eq( pde_separate( eq, p, [X(z),Y(t)])[1] ,  k**2 ) \n",
    "yODE"
   ]
  },
  {
   "cell_type": "code",
   "execution_count": 59,
   "id": "9d5dd1f0",
   "metadata": {},
   "outputs": [
    {
     "data": {
      "image/png": "[encoded data removed]",
      "text/latex": [
       "$\\displaystyle Y{\\left(t \\right)} = C_{1} I_{0}\\left(t \\left|{k}\\right|\\right) + C_{2} Y_{0}\\left(i t \\left|{k}\\right|\\right)$"
      ],
      "text/plain": [
       "Y(t) = C₁⋅besseli(0, t⋅│k│) + C₂⋅bessely(0, ⅈ⋅t⋅│k│)"
      ]
     },
     "execution_count": 59,
     "metadata": {},
     "output_type": "execute_result"
    }
   ],
   "source": [
    "ySolution = dsolve( yODE , Y(t))\n",
    "ySolution "
   ]
  },
  {
   "cell_type": "code",
   "execution_count": 62,
   "id": "e1dcd15c",
   "metadata": {},
   "outputs": [
    {
     "data": {
      "image/png": "[encoded data removed]",
      "text/latex": [
       "$\\displaystyle Y{\\left(t \\right)} = I_{0}\\left(t \\left|{k}\\right|\\right)$"
      ],
      "text/plain": [
       "Y(t) = besseli(0, t⋅│k│)"
      ]
     },
     "execution_count": 62,
     "metadata": {},
     "output_type": "execute_result"
    }
   ],
   "source": [
    "#  This is arbitrary... go back and change this\n",
    "ySolutionParticular = ySolution.subs(ySolution.args[1].args[0].args[0],1).subs(ySolution.args[1].args[1].args[0],0)\n",
    "ySolutionParticular"
   ]
  },
  {
   "cell_type": "code",
   "execution_count": 61,
   "id": "94ded135",
   "metadata": {},
   "outputs": [
    {
     "data": {
      "image/png": "[encoded data removed]",
      "text/latex": [
       "$\\displaystyle \\sum_{k=1}^{2} \\left(I_{0}\\left(t \\left|{k}\\right|\\right) + Y_{0}\\left(i t \\left|{k}\\right|\\right)\\right) \\cos{\\left(k z \\right)}$"
      ],
      "text/plain": [
       "  2                                                     \n",
       " ___                                                    \n",
       " ╲                                                      \n",
       "  ╲                                                     \n",
       "  ╱   (besseli(0, t⋅│k│) + bessely(0, ⅈ⋅t⋅│k│))⋅cos(k⋅z)\n",
       " ╱                                                      \n",
       " ‾‾‾                                                    \n",
       "k = 1                                                   "
      ]
     },
     "execution_count": 61,
     "metadata": {},
     "output_type": "execute_result"
    }
   ],
   "source": [
    "#  Here we arbitrary pick just two terms as an example... \n",
    "Sum( ( xSolutionParticular.args[1] * ySolutionParticular.args[1] ) ,(k,1,2) )"
   ]
  },
  {
   "cell_type": "code",
   "execution_count": 64,
   "id": "7a516073",
   "metadata": {},
   "outputs": [
    {
     "data": {
      "image/png": "[encoded data removed]",
      "text/latex": [
       "$\\displaystyle p{\\left(t,z \\right)} = \\cos{\\left(z \\right)} I_{0}\\left(t\\right) + \\cos{\\left(2 z \\right)} I_{0}\\left(2 t\\right)$"
      ],
      "text/plain": [
       "p(t, z) = cos(z)⋅besseli(0, t) + cos(2⋅z)⋅besseli(0, 2⋅t)"
      ]
     },
     "execution_count": 64,
     "metadata": {},
     "output_type": "execute_result"
    }
   ],
   "source": [
    "psiSumTwoTerms = Eq(p, Sum( ( xSolutionParticular.args[1] * ySolutionParticular.args[1] ) ,(k,1,2) ).doit() ) \n",
    "psiSumTwoTerms"
   ]
  },
  {
   "cell_type": "code",
   "execution_count": 65,
   "id": "623e93f3",
   "metadata": {},
   "outputs": [
    {
     "data": {
      "image/png": "[encoded data removed]",
      "text/latex": [
       "$\\displaystyle \\cos{\\left(z \\right)} I_{0}\\left(t\\right) + \\cos{\\left(2 z \\right)} I_{0}\\left(2 t\\right)$"
      ],
      "text/plain": [
       "cos(z)⋅besseli(0, t) + cos(2⋅z)⋅besseli(0, 2⋅t)"
      ]
     },
     "execution_count": 65,
     "metadata": {},
     "output_type": "execute_result"
    }
   ],
   "source": [
    "expand( Sum( ( xSolutionParticular.args[1] * ySolutionParticular.args[1] ) ,(k,1,2) ).doit() ) "
   ]
  },
  {
   "cell_type": "code",
   "execution_count": null,
   "id": "c2b4cf42",
   "metadata": {},
   "outputs": [],
   "source": []
  }
 ],
 "metadata": {
  "@webio": {
   "lastCommId": "9018185710704a8c8fdb15002c7583ee",
   "lastKernelId": "af5b24d8-6a59-4a07-aa96-d4377447635b"
  },
  "kernelspec": {
   "display_name": "Python 3 (ipykernel)",
   "language": "python",
   "name": "python3"
  },
  "language_info": {
   "codemirror_mode": {
    "name": "ipython",
    "version": 3
   },
   "file_extension": ".py",
   "mimetype": "text/x-python",
   "name": "python",
   "nbconvert_exporter": "python",
   "pygments_lexer": "ipython3",
   "version": "3.8.8"
  }
 },
 "nbformat": 4,
 "nbformat_minor": 5
}
