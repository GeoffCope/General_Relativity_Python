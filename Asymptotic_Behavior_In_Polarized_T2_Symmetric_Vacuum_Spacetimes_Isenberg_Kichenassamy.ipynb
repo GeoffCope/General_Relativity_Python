{
 "cells": [
  {
   "cell_type": "markdown",
   "id": "50ab8988",
   "metadata": {},
   "source": [
    "# Asymptotic Behavior In Polarized T2 Symmetric Vacuum Spacetimes by Isenberg and Kichenassamy\n",
    "##  Geoff Cope\n",
    "##  Univeristy of Utah\n",
    "##  𐐏𐐭𐑌𐐲𐑂𐐲𐑉𐑅𐐮𐐻𐐨 𐐲𐑂 𐐏𐐭𐐻𐐫\n",
    "##  January 19, 2022"
   ]
  },
  {
   "cell_type": "markdown",
   "id": "26ce9074",
   "metadata": {},
   "source": [
    "https://arxiv.org/abs/1709.09715"
   ]
  },
  {
   "cell_type": "code",
   "execution_count": 1,
   "id": "96e2d154",
   "metadata": {},
   "outputs": [
    {
     "name": "stdout",
     "output_type": "stream",
     "text": [
      "IPython console for SymPy 1.9 (Python 3.8.8-64-bit) (ground types: gmpy)\n",
      "\n",
      "These commands were executed:\n",
      ">>> from __future__ import division\n",
      ">>> from sympy import *\n",
      ">>> x, y, z, t = symbols('x y z t')\n",
      ">>> k, m, n = symbols('k m n', integer=True)\n",
      ">>> f, g, h = symbols('f g h', cls=Function)\n",
      ">>> init_printing()\n",
      "\n",
      "Documentation can be found at https://docs.sympy.org/1.9/\n",
      "\n"
     ]
    }
   ],
   "source": [
    "from sympy import init_session\n",
    "init_session(use_latex=True)"
   ]
  },
  {
   "cell_type": "code",
   "execution_count": 2,
   "id": "6ac4dcd5",
   "metadata": {},
   "outputs": [],
   "source": [
    "import warnings\n",
    "import matplotlib.cbook\n",
    "warnings.filterwarnings(\"ignore\",category=matplotlib.cbook.mplDeprecation)"
   ]
  },
  {
   "cell_type": "code",
   "execution_count": 14,
   "id": "8e18e142",
   "metadata": {},
   "outputs": [],
   "source": [
    "t,theta,x,y,dt,dtheta,dx,dy,Lambda = symbols('t theta x y dt dtheta dx dy lambda')"
   ]
  },
  {
   "cell_type": "code",
   "execution_count": 4,
   "id": "5245fab1",
   "metadata": {},
   "outputs": [
    {
     "data": {
      "image/png": "[encoded data removed]",
      "text/latex": [
       "$\\displaystyle u{\\left(t,\\theta \\right)}$"
      ],
      "text/plain": [
       "u(t, θ)"
      ]
     },
     "execution_count": 4,
     "metadata": {},
     "output_type": "execute_result"
    }
   ],
   "source": [
    "u = Function('u')(t,theta)\n",
    "u"
   ]
  },
  {
   "cell_type": "code",
   "execution_count": 5,
   "id": "7d169ccf",
   "metadata": {},
   "outputs": [
    {
     "data": {
      "image/png": "[encoded data removed]",
      "text/latex": [
       "$\\displaystyle \\nu{\\left(t,\\theta \\right)}$"
      ],
      "text/plain": [
       "ν(t, θ)"
      ]
     },
     "execution_count": 5,
     "metadata": {},
     "output_type": "execute_result"
    }
   ],
   "source": [
    "nu = Function('nu')(t,theta)\n",
    "nu"
   ]
  },
  {
   "cell_type": "code",
   "execution_count": 6,
   "id": "5b7b0806",
   "metadata": {},
   "outputs": [
    {
     "data": {
      "image/png": "[encoded data removed]",
      "text/latex": [
       "$\\displaystyle \\alpha{\\left(t,\\theta \\right)}$"
      ],
      "text/plain": [
       "α(t, θ)"
      ]
     },
     "execution_count": 6,
     "metadata": {},
     "output_type": "execute_result"
    }
   ],
   "source": [
    "alpha = Function('alpha')(t,theta)\n",
    "alpha"
   ]
  },
  {
   "cell_type": "code",
   "execution_count": 7,
   "id": "31221df5",
   "metadata": {},
   "outputs": [
    {
     "data": {
      "image/png": "[encoded data removed]",
      "text/latex": [
       "$\\displaystyle \\operatorname{G_{1}}{\\left(t,\\theta \\right)}$"
      ],
      "text/plain": [
       "G₁(t, θ)"
      ]
     },
     "execution_count": 7,
     "metadata": {},
     "output_type": "execute_result"
    }
   ],
   "source": [
    "G1 = Function('G_1')(t,theta)\n",
    "G1"
   ]
  },
  {
   "cell_type": "code",
   "execution_count": 8,
   "id": "0891d64b",
   "metadata": {},
   "outputs": [
    {
     "data": {
      "image/png": "[encoded data removed]",
      "text/latex": [
       "$\\displaystyle \\operatorname{M_{1}}{\\left(t,\\theta \\right)}$"
      ],
      "text/plain": [
       "M₁(t, θ)"
      ]
     },
     "execution_count": 8,
     "metadata": {},
     "output_type": "execute_result"
    }
   ],
   "source": [
    "M1 = Function('M_1')(t,theta)\n",
    "M1"
   ]
  },
  {
   "cell_type": "code",
   "execution_count": 9,
   "id": "a8b25b65",
   "metadata": {},
   "outputs": [
    {
     "data": {
      "image/png": "[encoded data removed]",
      "text/latex": [
       "$\\displaystyle \\operatorname{G_{2}}{\\left(t,\\theta \\right)}$"
      ],
      "text/plain": [
       "G₂(t, θ)"
      ]
     },
     "execution_count": 9,
     "metadata": {},
     "output_type": "execute_result"
    }
   ],
   "source": [
    "G2 = Function('G_2')(t,theta)\n",
    "G2"
   ]
  },
  {
   "cell_type": "code",
   "execution_count": 10,
   "id": "c72884df",
   "metadata": {},
   "outputs": [
    {
     "data": {
      "image/png": "[encoded data removed]",
      "text/latex": [
       "$\\displaystyle \\operatorname{M_{2}}{\\left(t,\\theta \\right)}$"
      ],
      "text/plain": [
       "M₂(t, θ)"
      ]
     },
     "execution_count": 10,
     "metadata": {},
     "output_type": "execute_result"
    }
   ],
   "source": [
    "M2 = Function('M_2')(t,theta)\n",
    "M2"
   ]
  },
  {
   "cell_type": "code",
   "execution_count": 11,
   "id": "0d3ba27b",
   "metadata": {},
   "outputs": [
    {
     "data": {
      "text/latex": [
       "$\\displaystyle \\left[\\begin{matrix}t\\\\\\theta\\\\x\\\\y\\end{matrix}\\right]$"
      ],
      "text/plain": [
       "⎡t⎤\n",
       "⎢ ⎥\n",
       "⎢θ⎥\n",
       "⎢ ⎥\n",
       "⎢x⎥\n",
       "⎢ ⎥\n",
       "⎣y⎦"
      ]
     },
     "execution_count": 11,
     "metadata": {},
     "output_type": "execute_result"
    }
   ],
   "source": [
    "variables = Matrix([t,theta,x,y])\n",
    "variables"
   ]
  },
  {
   "cell_type": "code",
   "execution_count": 12,
   "id": "741122c9",
   "metadata": {},
   "outputs": [
    {
     "data": {
      "text/latex": [
       "$\\displaystyle \\left[\\begin{matrix}dt\\\\dtheta\\\\dx\\\\dy\\end{matrix}\\right]$"
      ],
      "text/plain": [
       "⎡  dt  ⎤\n",
       "⎢      ⎥\n",
       "⎢dtheta⎥\n",
       "⎢      ⎥\n",
       "⎢  dx  ⎥\n",
       "⎢      ⎥\n",
       "⎣  dy  ⎦"
      ]
     },
     "execution_count": 12,
     "metadata": {},
     "output_type": "execute_result"
    }
   ],
   "source": [
    "differentials = Matrix([dt,dtheta,dx,dy])\n",
    "differentials "
   ]
  },
  {
   "cell_type": "code",
   "execution_count": 21,
   "id": "2c8d26bd",
   "metadata": {},
   "outputs": [
    {
     "data": {
      "image/png": "[encoded data removed]",
      "text/latex": [
       "$\\displaystyle dt^{2} \\lambda t^{2} \\operatorname{M_{2}}^{2}{\\left(t,\\theta \\right)} e^{- 2 u{\\left(t,\\theta \\right)}} + dt^{2} \\lambda \\operatorname{M_{1}}^{2}{\\left(t,\\theta \\right)} e^{2 u{\\left(t,\\theta \\right)}} - dt^{2} \\alpha{\\left(t,\\theta \\right)} e^{2 \\nu{\\left(t,\\theta \\right)}} e^{- 2 u{\\left(t,\\theta \\right)}} + 2 dt dtheta \\lambda t^{2} \\operatorname{G_{2}}{\\left(t,\\theta \\right)} \\operatorname{M_{2}}{\\left(t,\\theta \\right)} e^{- 2 u{\\left(t,\\theta \\right)}} + 2 dt dtheta \\lambda \\operatorname{G_{1}}{\\left(t,\\theta \\right)} \\operatorname{M_{1}}{\\left(t,\\theta \\right)} e^{2 u{\\left(t,\\theta \\right)}} + 2 dt dx \\lambda \\operatorname{M_{1}}{\\left(t,\\theta \\right)} e^{2 u{\\left(t,\\theta \\right)}} + 2 dt dy \\lambda t^{2} \\operatorname{M_{2}}{\\left(t,\\theta \\right)} e^{- 2 u{\\left(t,\\theta \\right)}} + dtheta^{2} \\lambda t^{2} \\operatorname{G_{2}}^{2}{\\left(t,\\theta \\right)} e^{- 2 u{\\left(t,\\theta \\right)}} + dtheta^{2} \\lambda \\operatorname{G_{1}}^{2}{\\left(t,\\theta \\right)} e^{2 u{\\left(t,\\theta \\right)}} + dtheta^{2} e^{2 \\nu{\\left(t,\\theta \\right)}} e^{- 2 u{\\left(t,\\theta \\right)}} + 2 dtheta dx \\lambda \\operatorname{G_{1}}{\\left(t,\\theta \\right)} e^{2 u{\\left(t,\\theta \\right)}} + 2 dtheta dy \\lambda t^{2} \\operatorname{G_{2}}{\\left(t,\\theta \\right)} e^{- 2 u{\\left(t,\\theta \\right)}} + dx^{2} \\lambda e^{2 u{\\left(t,\\theta \\right)}} + dy^{2} \\lambda t^{2} e^{- 2 u{\\left(t,\\theta \\right)}}$"
      ],
      "text/plain": [
       "  2    2   2        -2⋅u(t, θ)     2     2        2⋅u(t, θ)     2          2⋅ν(t, θ)  -2⋅u(t\n",
       "dt ⋅λ⋅t ⋅M₂ (t, θ)⋅ℯ           + dt ⋅λ⋅M₁ (t, θ)⋅ℯ          - dt ⋅α(t, θ)⋅ℯ         ⋅ℯ      \n",
       "\n",
       ", θ)                  2                    -2⋅u(t, θ)                                    2⋅u\n",
       "     + 2⋅dt⋅dtheta⋅λ⋅t ⋅G₂(t, θ)⋅M₂(t, θ)⋅ℯ           + 2⋅dt⋅dtheta⋅λ⋅G₁(t, θ)⋅M₁(t, θ)⋅ℯ   \n",
       "\n",
       "(t, θ)                       2⋅u(t, θ)              2           -2⋅u(t, θ)         2    2   \n",
       "       + 2⋅dt⋅dx⋅λ⋅M₁(t, θ)⋅ℯ          + 2⋅dt⋅dy⋅λ⋅t ⋅M₂(t, θ)⋅ℯ           + dtheta ⋅λ⋅t ⋅G₂\n",
       "\n",
       "2        -2⋅u(t, θ)         2     2        2⋅u(t, θ)         2  2⋅ν(t, θ)  -2⋅u(t, θ)       \n",
       " (t, θ)⋅ℯ           + dtheta ⋅λ⋅G₁ (t, θ)⋅ℯ          + dtheta ⋅ℯ         ⋅ℯ           + 2⋅dt\n",
       "\n",
       "                    2⋅u(t, θ)                  2           -2⋅u(t, θ)     2    2⋅u(t, θ)    \n",
       "heta⋅dx⋅λ⋅G₁(t, θ)⋅ℯ          + 2⋅dtheta⋅dy⋅λ⋅t ⋅G₂(t, θ)⋅ℯ           + dx ⋅λ⋅ℯ          + d\n",
       "\n",
       " 2    2  -2⋅u(t, θ)\n",
       "y ⋅λ⋅t ⋅ℯ          "
      ]
     },
     "execution_count": 21,
     "metadata": {},
     "output_type": "execute_result"
    }
   ],
   "source": [
    "lineElement1 = expand(exp(2*(nu-u)) * (-alpha * dt**2 + dtheta**2) + Lambda * (exp(2*u)) * (dx + G1 * dtheta + M1 * dt)**2 + Lambda*exp(-2*u)*t**2 * (dy + G2*dtheta + M2 * dt)**2)\n",
    "lineElement1"
   ]
  },
  {
   "cell_type": "code",
   "execution_count": 23,
   "id": "0dcf05f9",
   "metadata": {},
   "outputs": [
    {
     "data": {
      "image/png": "[encoded data removed]",
      "text/latex": [
       "$\\displaystyle - dt^{2} e^{2 \\nu{\\left(t,\\theta \\right)}} e^{- 2 u{\\left(t,\\theta \\right)}} + dtheta^{2} e^{2 \\nu{\\left(t,\\theta \\right)}} e^{- 2 u{\\left(t,\\theta \\right)}} + dx^{2} \\lambda e^{2 u{\\left(t,\\theta \\right)}} + dy^{2} \\lambda t^{2} e^{- 2 u{\\left(t,\\theta \\right)}}$"
      ],
      "text/plain": [
       "    2  2⋅ν(t, θ)  -2⋅u(t, θ)         2  2⋅ν(t, θ)  -2⋅u(t, θ)     2    2⋅u(t, θ)     2    2 \n",
       "- dt ⋅ℯ         ⋅ℯ           + dtheta ⋅ℯ         ⋅ℯ           + dx ⋅λ⋅ℯ          + dy ⋅λ⋅t ⋅\n",
       "\n",
       " -2⋅u(t, θ)\n",
       "ℯ          "
      ]
     },
     "execution_count": 23,
     "metadata": {},
     "output_type": "execute_result"
    }
   ],
   "source": [
    "lineElement = lineElement1.subs(k,0).subs(alpha,1).subs(G1,0).subs(G2,0).subs(M1,0).subs(M2,0)\n",
    "lineElement"
   ]
  },
  {
   "cell_type": "code",
   "execution_count": 24,
   "id": "5863914d",
   "metadata": {},
   "outputs": [
    {
     "data": {
      "text/latex": [
       "$\\displaystyle \\left[\\begin{matrix}- e^{2 \\nu{\\left(t,\\theta \\right)}} e^{- 2 u{\\left(t,\\theta \\right)}} & 0 & 0 & 0\\\\0 & e^{2 \\nu{\\left(t,\\theta \\right)}} e^{- 2 u{\\left(t,\\theta \\right)}} & 0 & 0\\\\0 & 0 & \\lambda e^{2 u{\\left(t,\\theta \\right)}} & 0\\\\0 & 0 & 0 & \\lambda t^{2} e^{- 2 u{\\left(t,\\theta \\right)}}\\end{matrix}\\right]$"
      ],
      "text/plain": [
       "⎡  2⋅ν(t, θ)  -2⋅u(t, θ)                                                        ⎤\n",
       "⎢-ℯ         ⋅ℯ                      0                  0               0        ⎥\n",
       "⎢                                                                               ⎥\n",
       "⎢                          2⋅ν(t, θ)  -2⋅u(t, θ)                                ⎥\n",
       "⎢           0             ℯ         ⋅ℯ                 0               0        ⎥\n",
       "⎢                                                                               ⎥\n",
       "⎢                                                    2⋅u(t, θ)                  ⎥\n",
       "⎢           0                       0             λ⋅ℯ                  0        ⎥\n",
       "⎢                                                                               ⎥\n",
       "⎢                                                                  2  -2⋅u(t, θ)⎥\n",
       "⎣           0                       0                  0        λ⋅t ⋅ℯ          ⎦"
      ]
     },
     "execution_count": 24,
     "metadata": {},
     "output_type": "execute_result"
    }
   ],
   "source": [
    "g = zeros(4)\n",
    "\n",
    "for i in range(4):\n",
    "    for j in range(4):\n",
    "        if i == j:\n",
    "            g[i,j] = lineElement.coeff( differentials[i],2 ) \n",
    "        else:\n",
    "            g[i,j] = Rational(1,2)*lineElement.coeff( differentials[i]*differentials[j],1 )\n",
    "            \n",
    "g"
   ]
  },
  {
   "cell_type": "code",
   "execution_count": 25,
   "id": "5ad9f0fc",
   "metadata": {},
   "outputs": [],
   "source": [
    "import sympy"
   ]
  },
  {
   "cell_type": "code",
   "execution_count": 26,
   "id": "0c628e9f",
   "metadata": {},
   "outputs": [
    {
     "data": {
      "text/latex": [
       "$\\displaystyle \\left[\\begin{matrix}- e^{2 \\nu{\\left(t,\\theta \\right)}} e^{- 2 u{\\left(t,\\theta \\right)}} & 0 & 0 & 0\\\\0 & e^{2 \\nu{\\left(t,\\theta \\right)}} e^{- 2 u{\\left(t,\\theta \\right)}} & 0 & 0\\\\0 & 0 & \\lambda e^{2 u{\\left(t,\\theta \\right)}} & 0\\\\0 & 0 & 0 & \\lambda t^{2} e^{- 2 u{\\left(t,\\theta \\right)}}\\end{matrix}\\right]$"
      ],
      "text/plain": [
       "⎡  2⋅ν(t, θ)  -2⋅u(t, θ)                                                        ⎤\n",
       "⎢-ℯ         ⋅ℯ                      0                  0               0        ⎥\n",
       "⎢                                                                               ⎥\n",
       "⎢                          2⋅ν(t, θ)  -2⋅u(t, θ)                                ⎥\n",
       "⎢           0             ℯ         ⋅ℯ                 0               0        ⎥\n",
       "⎢                                                                               ⎥\n",
       "⎢                                                    2⋅u(t, θ)                  ⎥\n",
       "⎢           0                       0             λ⋅ℯ                  0        ⎥\n",
       "⎢                                                                               ⎥\n",
       "⎢                                                                  2  -2⋅u(t, θ)⎥\n",
       "⎣           0                       0                  0        λ⋅t ⋅ℯ          ⎦"
      ]
     },
     "execution_count": 26,
     "metadata": {},
     "output_type": "execute_result"
    }
   ],
   "source": [
    "m = sympy.Array(g)\n",
    "m"
   ]
  },
  {
   "cell_type": "code",
   "execution_count": 27,
   "id": "8f8800d7",
   "metadata": {},
   "outputs": [],
   "source": [
    "from einsteinpy.symbolic import *"
   ]
  },
  {
   "cell_type": "code",
   "execution_count": 30,
   "id": "903afec9",
   "metadata": {},
   "outputs": [],
   "source": [
    "syms = sympy.symbols(\"t theta x y\")\n",
    "t,theta,x,y = syms"
   ]
  },
  {
   "cell_type": "code",
   "execution_count": 29,
   "id": "346544bd",
   "metadata": {},
   "outputs": [],
   "source": [
    "metric = MetricTensor(m,syms)"
   ]
  },
  {
   "cell_type": "code",
   "execution_count": 31,
   "id": "953fb3a0",
   "metadata": {},
   "outputs": [
    {
     "data": {
      "text/latex": [
       "$\\displaystyle \\left[\\begin{matrix}\\left[\\begin{matrix}\\frac{\\partial}{\\partial t} \\nu{\\left(t,\\theta \\right)} - \\frac{\\partial}{\\partial t} u{\\left(t,\\theta \\right)} & 0 & 0 & 0\\\\0 & \\frac{\\partial}{\\partial t} \\nu{\\left(t,\\theta \\right)} - \\frac{\\partial}{\\partial t} u{\\left(t,\\theta \\right)} & 0 & 0\\\\0 & 0 & \\lambda e^{- 2 \\nu{\\left(t,\\theta \\right)} + 4 u{\\left(t,\\theta \\right)}} \\frac{\\partial}{\\partial t} u{\\left(t,\\theta \\right)} & 0\\\\0 & 0 & 0 & \\lambda t \\left(- t \\frac{\\partial}{\\partial t} u{\\left(t,\\theta \\right)} + 1\\right) e^{- 2 \\nu{\\left(t,\\theta \\right)}}\\end{matrix}\\right] & \\left[\\begin{matrix}0 & \\frac{\\partial}{\\partial t} \\nu{\\left(t,\\theta \\right)} - \\frac{\\partial}{\\partial t} u{\\left(t,\\theta \\right)} & 0 & 0\\\\\\frac{\\partial}{\\partial t} \\nu{\\left(t,\\theta \\right)} - \\frac{\\partial}{\\partial t} u{\\left(t,\\theta \\right)} & 0 & 0 & 0\\\\0 & 0 & 0 & 0\\\\0 & 0 & 0 & 0\\end{matrix}\\right] & \\left[\\begin{matrix}0 & 0 & \\frac{\\partial}{\\partial t} u{\\left(t,\\theta \\right)} & 0\\\\0 & 0 & 0 & 0\\\\\\frac{\\partial}{\\partial t} u{\\left(t,\\theta \\right)} & 0 & 0 & 0\\\\0 & 0 & 0 & 0\\end{matrix}\\right] & \\left[\\begin{matrix}0 & 0 & 0 & - \\frac{\\partial}{\\partial t} u{\\left(t,\\theta \\right)} + \\frac{1}{t}\\\\0 & 0 & 0 & 0\\\\0 & 0 & 0 & 0\\\\- \\frac{\\partial}{\\partial t} u{\\left(t,\\theta \\right)} + \\frac{1}{t} & 0 & 0 & 0\\end{matrix}\\right]\\end{matrix}\\right]$"
      ],
      "text/plain": [
       "⎡⎡∂             ∂                                                                           \n",
       "⎢⎢──(ν(t, θ)) - ──(u(t, θ))              0                                0                 \n",
       "⎢⎢∂t            ∂t                                                                          \n",
       "⎢⎢                                                                                          \n",
       "⎢⎢                           ∂             ∂                                                \n",
       "⎢⎢            0              ──(ν(t, θ)) - ──(u(t, θ))                    0                 \n",
       "⎢⎢                           ∂t            ∂t                                               \n",
       "⎢⎢                                                                                          \n",
       "⎢⎢                                                         -2⋅ν(t, θ) + 4⋅u(t, θ) ∂         \n",
       "⎢⎢            0                          0              λ⋅ℯ                      ⋅──(u(t, θ)\n",
       "⎢⎢                                                                                ∂t        \n",
       "⎢⎢                                                                                          \n",
       "⎢⎢                                                                                          \n",
       "⎢⎢            0                          0                                0                 \n",
       "⎣⎣                                                                                          \n",
       "\n",
       "                                        ⎤                                                   \n",
       "                     0                  ⎥                                                   \n",
       "                                        ⎥  ⎡                           ∂             ∂      \n",
       "                                        ⎥  ⎢            0              ──(ν(t, θ)) - ──(u(t,\n",
       "                                        ⎥  ⎢                           ∂t            ∂t     \n",
       "                     0                  ⎥  ⎢                                                \n",
       "                                        ⎥  ⎢∂             ∂                                 \n",
       "                                        ⎥  ⎢──(ν(t, θ)) - ──(u(t, θ))              0        \n",
       "                                        ⎥  ⎢∂t            ∂t                                \n",
       ")                    0                  ⎥  ⎢                                                \n",
       "                                        ⎥  ⎢            0                          0        \n",
       "                                        ⎥  ⎢                                                \n",
       "       ⎛    ∂              ⎞  -2⋅ν(t, θ)⎥  ⎣            0                          0        \n",
       "   λ⋅t⋅⎜- t⋅──(u(t, θ)) + 1⎟⋅ℯ          ⎥                                                   \n",
       "       ⎝    ∂t             ⎠            ⎦                                                   \n",
       "\n",
       "                                                                                           ⎤\n",
       "                                                                                           ⎥\n",
       "          ⎤  ⎡                ∂             ⎤  ⎡                           ∂             1⎤⎥\n",
       " θ))  0  0⎥  ⎢     0       0  ──(u(t, θ))  0⎥  ⎢        0          0  0  - ──(u(t, θ)) + ─⎥⎥\n",
       "          ⎥  ⎢                ∂t            ⎥  ⎢                           ∂t            t⎥⎥\n",
       "          ⎥  ⎢                              ⎥  ⎢                                          ⎥⎥\n",
       "          ⎥  ⎢     0       0       0       0⎥  ⎢        0          0  0          0        ⎥⎥\n",
       "      0  0⎥  ⎢                              ⎥  ⎢                                          ⎥⎥\n",
       "          ⎥  ⎢∂                             ⎥  ⎢        0          0  0          0        ⎥⎥\n",
       "          ⎥  ⎢──(u(t, θ))  0       0       0⎥  ⎢                                          ⎥⎥\n",
       "      0  0⎥  ⎢∂t                            ⎥  ⎢  ∂             1                         ⎥⎥\n",
       "          ⎥  ⎢                              ⎥  ⎢- ──(u(t, θ)) + ─  0  0          0        ⎥⎥\n",
       "      0  0⎦  ⎣     0       0       0       0⎦  ⎣  ∂t            t                         ⎦⎥\n",
       "                                                                                           ⎥\n",
       "                                                                                           ⎦"
      ]
     },
     "execution_count": 31,
     "metadata": {},
     "output_type": "execute_result"
    }
   ],
   "source": [
    "ch = ChristoffelSymbols.from_metric(metric)\n",
    "simplify(ch.tensor())"
   ]
  },
  {
   "cell_type": "code",
   "execution_count": 32,
   "id": "87be5054",
   "metadata": {},
   "outputs": [
    {
     "data": {
      "text/latex": [
       "$\\displaystyle \\left[\\begin{matrix}\\frac{t \\left(- \\frac{\\partial^{2}}{\\partial t^{2}} \\nu{\\left(t,\\theta \\right)} - 2 \\left(\\frac{\\partial}{\\partial t} u{\\left(t,\\theta \\right)}\\right)^{2} + \\frac{\\partial^{2}}{\\partial t^{2}} u{\\left(t,\\theta \\right)}\\right) + \\frac{\\partial}{\\partial t} \\nu{\\left(t,\\theta \\right)} + \\frac{\\partial}{\\partial t} u{\\left(t,\\theta \\right)}}{t} & 0 & 0 & 0\\\\0 & \\frac{\\partial^{2}}{\\partial t^{2}} \\nu{\\left(t,\\theta \\right)} - \\frac{\\partial^{2}}{\\partial t^{2}} u{\\left(t,\\theta \\right)} + \\frac{\\frac{\\partial}{\\partial t} \\nu{\\left(t,\\theta \\right)}}{t} - \\frac{\\frac{\\partial}{\\partial t} u{\\left(t,\\theta \\right)}}{t} & 0 & 0\\\\0 & 0 & \\frac{\\lambda \\left(t \\frac{\\partial^{2}}{\\partial t^{2}} u{\\left(t,\\theta \\right)} + \\frac{\\partial}{\\partial t} u{\\left(t,\\theta \\right)}\\right) e^{- 2 \\nu{\\left(t,\\theta \\right)} + 4 u{\\left(t,\\theta \\right)}}}{t} & 0\\\\0 & 0 & 0 & - \\lambda t \\left(t \\frac{\\partial^{2}}{\\partial t^{2}} u{\\left(t,\\theta \\right)} + \\frac{\\partial}{\\partial t} u{\\left(t,\\theta \\right)}\\right) e^{- 2 \\nu{\\left(t,\\theta \\right)}}\\end{matrix}\\right]$"
      ],
      "text/plain": [
       "⎡  ⎛    2                           2     2         ⎞                                       \n",
       "⎢  ⎜   ∂               ⎛∂          ⎞     ∂          ⎟   ∂             ∂                     \n",
       "⎢t⋅⎜- ───(ν(t, θ)) - 2⋅⎜──(u(t, θ))⎟  + ───(u(t, θ))⎟ + ──(ν(t, θ)) + ──(u(t, θ))           \n",
       "⎢  ⎜    2              ⎝∂t         ⎠      2         ⎟   ∂t            ∂t                    \n",
       "⎢  ⎝  ∂t                                ∂t          ⎠                                       \n",
       "⎢────────────────────────────────────────────────────────────────────────────────           \n",
       "⎢                                       t                                                   \n",
       "⎢                                                                                           \n",
       "⎢                                                                                           \n",
       "⎢                                                                                    2      \n",
       "⎢                                                                                   ∂       \n",
       "⎢                                       0                                          ───(ν(t, \n",
       "⎢                                                                                    2      \n",
       "⎢                                                                                  ∂t       \n",
       "⎢                                                                                           \n",
       "⎢                                                                                           \n",
       "⎢                                                                                           \n",
       "⎢                                                                                           \n",
       "⎢                                                                                           \n",
       "⎢                                                                                           \n",
       "⎢                                       0                                                   \n",
       "⎢                                                                                           \n",
       "⎢                                                                                           \n",
       "⎢                                                                                           \n",
       "⎢                                                                                           \n",
       "⎢                                       0                                                   \n",
       "⎢                                                                                           \n",
       "⎣                                                                                           \n",
       "\n",
       "                                                                                            \n",
       "                                                                                            \n",
       "                                                                                            \n",
       "                                                                                            \n",
       "                                                                                            \n",
       "                  0                                                        0                \n",
       "                                                                                            \n",
       "                                                                                            \n",
       "                     ∂             ∂                                                        \n",
       "        2            ──(ν(t, θ))   ──(u(t, θ))                                              \n",
       "       ∂             ∂t            ∂t                                                       \n",
       "θ)) - ───(u(t, θ)) + ─────────── - ───────────                             0                \n",
       "        2                 t             t                                                   \n",
       "      ∂t                                                                                    \n",
       "                                                                                            \n",
       "                                                  ⎛    2                       ⎞            \n",
       "                                                  ⎜   ∂             ∂          ⎟  -2⋅ν(t, θ)\n",
       "                                                λ⋅⎜t⋅───(u(t, θ)) + ──(u(t, θ))⎟⋅ℯ          \n",
       "                                                  ⎜    2            ∂t         ⎟            \n",
       "                                                  ⎝  ∂t                        ⎠            \n",
       "                  0                             ────────────────────────────────────────────\n",
       "                                                                           t                \n",
       "                                                                                            \n",
       "                                                                                            \n",
       "                                                                                            \n",
       "                  0                                                        0                \n",
       "                                                                                            \n",
       "                                                                                            \n",
       "\n",
       "                                                             ⎤\n",
       "                                                             ⎥\n",
       "                                                             ⎥\n",
       "                                                             ⎥\n",
       "                                                             ⎥\n",
       "                                     0                       ⎥\n",
       "                                                             ⎥\n",
       "                                                             ⎥\n",
       "                                                             ⎥\n",
       "                                                             ⎥\n",
       "                                                             ⎥\n",
       "                                     0                       ⎥\n",
       "                                                             ⎥\n",
       "                                                             ⎥\n",
       "                                                             ⎥\n",
       "                                                             ⎥\n",
       " + 4⋅u(t, θ)                                                 ⎥\n",
       "                                                             ⎥\n",
       "                                                             ⎥\n",
       "                                                             ⎥\n",
       "────────────                         0                       ⎥\n",
       "                                                             ⎥\n",
       "                                                             ⎥\n",
       "                   ⎛    2                       ⎞            ⎥\n",
       "                   ⎜   ∂             ∂          ⎟  -2⋅ν(t, θ)⎥\n",
       "              -λ⋅t⋅⎜t⋅───(u(t, θ)) + ──(u(t, θ))⎟⋅ℯ          ⎥\n",
       "                   ⎜    2            ∂t         ⎟            ⎥\n",
       "                   ⎝  ∂t                        ⎠            ⎦"
      ]
     },
     "execution_count": 32,
     "metadata": {},
     "output_type": "execute_result"
    }
   ],
   "source": [
    "Ric = RicciTensor.from_metric(metric)\n",
    "Ric.tensor()"
   ]
  },
  {
   "cell_type": "code",
   "execution_count": 33,
   "id": "17c05cc1",
   "metadata": {},
   "outputs": [
    {
     "data": {
      "image/png": "[encoded data removed]",
      "text/latex": [
       "$\\displaystyle \\frac{2 \\left(t \\frac{\\partial^{2}}{\\partial t^{2}} \\nu{\\left(t,\\theta \\right)} + t \\left(\\frac{\\partial}{\\partial t} u{\\left(t,\\theta \\right)}\\right)^{2} - t \\frac{\\partial^{2}}{\\partial t^{2}} u{\\left(t,\\theta \\right)} - \\frac{\\partial}{\\partial t} u{\\left(t,\\theta \\right)}\\right) e^{- 2 \\nu{\\left(t,\\theta \\right)} + 2 u{\\left(t,\\theta \\right)}}}{t}$"
      ],
      "text/plain": [
       "  ⎛    2                           2       2                       ⎞                        \n",
       "  ⎜   ∂               ⎛∂          ⎞       ∂             ∂          ⎟  -2⋅ν(t, θ) + 2⋅u(t, θ)\n",
       "2⋅⎜t⋅───(ν(t, θ)) + t⋅⎜──(u(t, θ))⎟  - t⋅───(u(t, θ)) - ──(u(t, θ))⎟⋅ℯ                      \n",
       "  ⎜    2              ⎝∂t         ⎠        2            ∂t         ⎟                        \n",
       "  ⎝  ∂t                                  ∂t                        ⎠                        \n",
       "────────────────────────────────────────────────────────────────────────────────────────────\n",
       "                                             t                                              "
      ]
     },
     "execution_count": 33,
     "metadata": {},
     "output_type": "execute_result"
    }
   ],
   "source": [
    "R = RicciScalar.from_riccitensor(Ric)\n",
    "R.simplify()\n",
    "R.expr"
   ]
  },
  {
   "cell_type": "code",
   "execution_count": 34,
   "id": "2e9f9bfe",
   "metadata": {},
   "outputs": [
    {
     "data": {
      "text/latex": [
       "$\\displaystyle \\left[\\begin{matrix}\\frac{t \\left(- \\frac{\\partial^{2}}{\\partial t^{2}} \\nu{\\left(t,\\theta \\right)} - 2 \\left(\\frac{\\partial}{\\partial t} u{\\left(t,\\theta \\right)}\\right)^{2} + \\frac{\\partial^{2}}{\\partial t^{2}} u{\\left(t,\\theta \\right)}\\right) + \\frac{\\partial}{\\partial t} \\nu{\\left(t,\\theta \\right)} + \\frac{\\partial}{\\partial t} u{\\left(t,\\theta \\right)}}{t} + \\frac{1.0 \\left(t \\frac{\\partial^{2}}{\\partial t^{2}} \\nu{\\left(t,\\theta \\right)} + t \\left(\\frac{\\partial}{\\partial t} u{\\left(t,\\theta \\right)}\\right)^{2} - t \\frac{\\partial^{2}}{\\partial t^{2}} u{\\left(t,\\theta \\right)} - \\frac{\\partial}{\\partial t} u{\\left(t,\\theta \\right)}\\right) e^{- 2 \\nu{\\left(t,\\theta \\right)} + 2 u{\\left(t,\\theta \\right)}} e^{2 \\nu{\\left(t,\\theta \\right)}} e^{- 2 u{\\left(t,\\theta \\right)}}}{t} & 0 & 0 & 0\\\\0 & \\frac{\\partial^{2}}{\\partial t^{2}} \\nu{\\left(t,\\theta \\right)} - \\frac{\\partial^{2}}{\\partial t^{2}} u{\\left(t,\\theta \\right)} - \\frac{1.0 \\left(t \\frac{\\partial^{2}}{\\partial t^{2}} \\nu{\\left(t,\\theta \\right)} + t \\left(\\frac{\\partial}{\\partial t} u{\\left(t,\\theta \\right)}\\right)^{2} - t \\frac{\\partial^{2}}{\\partial t^{2}} u{\\left(t,\\theta \\right)} - \\frac{\\partial}{\\partial t} u{\\left(t,\\theta \\right)}\\right) e^{- 2 \\nu{\\left(t,\\theta \\right)} + 2 u{\\left(t,\\theta \\right)}} e^{2 \\nu{\\left(t,\\theta \\right)}} e^{- 2 u{\\left(t,\\theta \\right)}}}{t} + \\frac{\\frac{\\partial}{\\partial t} \\nu{\\left(t,\\theta \\right)}}{t} - \\frac{\\frac{\\partial}{\\partial t} u{\\left(t,\\theta \\right)}}{t} & 0 & 0\\\\0 & 0 & \\frac{\\lambda \\left(t \\frac{\\partial^{2}}{\\partial t^{2}} u{\\left(t,\\theta \\right)} + \\frac{\\partial}{\\partial t} u{\\left(t,\\theta \\right)}\\right) e^{- 2 \\nu{\\left(t,\\theta \\right)} + 4 u{\\left(t,\\theta \\right)}}}{t} - \\frac{1.0 \\lambda \\left(t \\frac{\\partial^{2}}{\\partial t^{2}} \\nu{\\left(t,\\theta \\right)} + t \\left(\\frac{\\partial}{\\partial t} u{\\left(t,\\theta \\right)}\\right)^{2} - t \\frac{\\partial^{2}}{\\partial t^{2}} u{\\left(t,\\theta \\right)} - \\frac{\\partial}{\\partial t} u{\\left(t,\\theta \\right)}\\right) e^{- 2 \\nu{\\left(t,\\theta \\right)} + 2 u{\\left(t,\\theta \\right)}} e^{2 u{\\left(t,\\theta \\right)}}}{t} & 0\\\\0 & 0 & 0 & - \\lambda t \\left(t \\frac{\\partial^{2}}{\\partial t^{2}} u{\\left(t,\\theta \\right)} + \\frac{\\partial}{\\partial t} u{\\left(t,\\theta \\right)}\\right) e^{- 2 \\nu{\\left(t,\\theta \\right)}} - 1.0 \\lambda t \\left(t \\frac{\\partial^{2}}{\\partial t^{2}} \\nu{\\left(t,\\theta \\right)} + t \\left(\\frac{\\partial}{\\partial t} u{\\left(t,\\theta \\right)}\\right)^{2} - t \\frac{\\partial^{2}}{\\partial t^{2}} u{\\left(t,\\theta \\right)} - \\frac{\\partial}{\\partial t} u{\\left(t,\\theta \\right)}\\right) e^{- 2 \\nu{\\left(t,\\theta \\right)} + 2 u{\\left(t,\\theta \\right)}} e^{- 2 u{\\left(t,\\theta \\right)}}\\end{matrix}\\right]$"
      ],
      "text/plain": [
       "⎡  ⎛    2                           2     2         ⎞                                   ⎛   \n",
       "⎢  ⎜   ∂               ⎛∂          ⎞     ∂          ⎟   ∂             ∂                 ⎜   \n",
       "⎢t⋅⎜- ───(ν(t, θ)) - 2⋅⎜──(u(t, θ))⎟  + ───(u(t, θ))⎟ + ──(ν(t, θ)) + ──(u(t, θ))   1.0⋅⎜t⋅─\n",
       "⎢  ⎜    2              ⎝∂t         ⎠      2         ⎟   ∂t            ∂t                ⎜   \n",
       "⎢  ⎝  ∂t                                ∂t          ⎠                                   ⎝  ∂\n",
       "⎢──────────────────────────────────────────────────────────────────────────────── + ────────\n",
       "⎢                                       t                                                   \n",
       "⎢                                                                                           \n",
       "⎢                                                                                           \n",
       "⎢                                                                                           \n",
       "⎢                                                                                           \n",
       "⎢                                                                                           \n",
       "⎢                                                                                           \n",
       "⎢                                                                                           \n",
       "⎢                                                                                           \n",
       "⎢                                                                                           \n",
       "⎢                                                                                           \n",
       "⎢                                                                                           \n",
       "⎢                                                                                           \n",
       "⎢                                                                                           \n",
       "⎢                                                                                           \n",
       "⎢                                                                                           \n",
       "⎢                                                                                           \n",
       "⎢                                                                                           \n",
       "⎢                                                                                           \n",
       "⎢                                                                                           \n",
       "⎢                                                                                           \n",
       "⎢                                                                                           \n",
       "⎢                                                                                           \n",
       "⎣                                                                                           \n",
       "\n",
       " 2                           2       2                       ⎞                              \n",
       "∂               ⎛∂          ⎞       ∂             ∂          ⎟  -2⋅ν(t, θ) + 2⋅u(t, θ)  2⋅ν(\n",
       "──(ν(t, θ)) + t⋅⎜──(u(t, θ))⎟  - t⋅───(u(t, θ)) - ──(u(t, θ))⎟⋅ℯ                      ⋅ℯ    \n",
       " 2              ⎝∂t         ⎠        2            ∂t         ⎟                              \n",
       "t                                  ∂t                        ⎠                              \n",
       "────────────────────────────────────────────────────────────────────────────────────────────\n",
       "                                                  t                                         \n",
       "                                                                                            \n",
       "                                                                                            \n",
       "                                                                                            \n",
       "                                                                                            \n",
       "                                                                                            \n",
       "                                                                                            \n",
       "        0                                                                                   \n",
       "                                                                                            \n",
       "                                                                                            \n",
       "                                                                                            \n",
       "                                                                                            \n",
       "                                                                                            \n",
       "                                                                                            \n",
       "                                                                                            \n",
       "                                                                                            \n",
       "        0                                                                                   \n",
       "                                                                                            \n",
       "                                                                                            \n",
       "                                                                                            \n",
       "                                                                                            \n",
       "        0                                                                                   \n",
       "                                                                                            \n",
       "                                                                                            \n",
       "\n",
       "                                                                                            \n",
       "t, θ)  -2⋅u(t, θ)                                                                           \n",
       "     ⋅ℯ                                                                                     \n",
       "                                                                                            \n",
       "                                                                                            \n",
       "─────────────────                                                                           \n",
       "                                                                                            \n",
       "                                                                                            \n",
       "                                                 ⎛    2                           2       2 \n",
       "                                                 ⎜   ∂               ⎛∂          ⎞       ∂  \n",
       "                                                 ⎜t⋅───(ν(t, θ)) + t⋅⎜──(u(t, θ))⎟  - t⋅───(\n",
       "                     2              2            ⎜    2              ⎝∂t         ⎠        2 \n",
       "                    ∂              ∂             ⎝  ∂t                                  ∂t  \n",
       "                   ───(ν(t, θ)) - ───(u(t, θ)) - ───────────────────────────────────────────\n",
       "                     2              2                                                       \n",
       "                   ∂t             ∂t                                                        \n",
       "                                                                                            \n",
       "                                                                                            \n",
       "                                                                                            \n",
       "                                                                                            \n",
       "                                                                                            \n",
       "                                                                                            \n",
       "                                                                                            \n",
       "                                                                                            \n",
       "                                                                                            \n",
       "                                                                                            \n",
       "                                                                                            \n",
       "                                                                                            \n",
       "                                                                                            \n",
       "                                                                                            \n",
       "\n",
       "                                                                                            \n",
       "                                                                                            \n",
       "                                                                                            \n",
       "                                                                                            \n",
       "                                                                                            \n",
       "            0                                                                               \n",
       "                                                                                            \n",
       "                                                                                            \n",
       "                      ⎞                                                                     \n",
       "           ∂          ⎟  -2⋅ν(t, θ) + 2⋅u(t, θ)  2⋅ν(t, θ)  -2⋅u(t, θ)                      \n",
       "u(t, θ)) - ──(u(t, θ))⎟⋅ℯ                      ⋅ℯ         ⋅ℯ             ∂             ∂    \n",
       "           ∂t         ⎟                                                  ──(ν(t, θ))   ──(u(\n",
       "                      ⎠                                                  ∂t            ∂t   \n",
       "────────────────────────────────────────────────────────────────────── + ─────────── - ─────\n",
       "             t                                                                t             \n",
       "                                                                                            \n",
       "                                                                                            \n",
       "                                                                                            \n",
       "                                                                                            \n",
       "                                                                                            \n",
       "                                                                                            \n",
       "                                                                                            \n",
       "            0                                                                               \n",
       "                                                                                            \n",
       "                                                                                            \n",
       "                                                                                            \n",
       "                                                                                            \n",
       "            0                                                                               \n",
       "                                                                                            \n",
       "                                                                                            \n",
       "\n",
       "                                                                                            \n",
       "                                                                                            \n",
       "                                                                                            \n",
       "                                                                                            \n",
       "                                                                                            \n",
       "                                                                                        0   \n",
       "                                                                                            \n",
       "                                                                                            \n",
       "                                                                                            \n",
       "                                                                                            \n",
       "                                                                                            \n",
       "t, θ))                                                                                      \n",
       "                                                                                            \n",
       "──────                                                                                  0   \n",
       "t                                                                                           \n",
       "                                                                                            \n",
       "                                                                                            \n",
       "          ⎛    2                       ⎞                             ⎛    2                 \n",
       "          ⎜   ∂             ∂          ⎟  -2⋅ν(t, θ) + 4⋅u(t, θ)     ⎜   ∂               ⎛∂ \n",
       "        λ⋅⎜t⋅───(u(t, θ)) + ──(u(t, θ))⎟⋅ℯ                         λ⋅⎜t⋅───(ν(t, θ)) + t⋅⎜──\n",
       "          ⎜    2            ∂t         ⎟                             ⎜    2              ⎝∂t\n",
       "          ⎝  ∂t                        ⎠                             ⎝  ∂t                  \n",
       "        ──────────────────────────────────────────────────────── - ─────────────────────────\n",
       "                                   t                                                        \n",
       "                                                                                            \n",
       "                                                                                            \n",
       "                                                                                            \n",
       "                                                                                        0   \n",
       "                                                                                            \n",
       "                                                                                            \n",
       "\n",
       "                                                                                            \n",
       "                                                                                            \n",
       "                                                                                            \n",
       "                                                                                            \n",
       "                                                                                            \n",
       "                                                                                            \n",
       "                                                                                            \n",
       "                                                                                            \n",
       "                                                                                            \n",
       "                                                                                            \n",
       "                                                                                            \n",
       "                                                                                            \n",
       "                                                                                            \n",
       "                                                                                            \n",
       "                                                                                            \n",
       "                                                                                            \n",
       "                                                                                            \n",
       "          2       2                       ⎞                                                 \n",
       "         ⎞       ∂             ∂          ⎟  -2⋅ν(t, θ) + 2⋅u(t, θ)  2⋅u(t, θ)              \n",
       "(u(t, θ))⎟  - t⋅───(u(t, θ)) - ──(u(t, θ))⎟⋅ℯ                      ⋅ℯ                       \n",
       "         ⎠        2            ∂t         ⎟                                                 \n",
       "                ∂t                        ⎠                                                 \n",
       "──────────────────────────────────────────────────────────────────────────────              \n",
       "                          t                                                                 \n",
       "                                                                                            \n",
       "                                                                                      ⎛    2\n",
       "                                                                                      ⎜   ∂ \n",
       "                                                                                - λ⋅t⋅⎜t⋅───\n",
       "                                                                                      ⎜    2\n",
       "                                                                                      ⎝  ∂t \n",
       "\n",
       "                                                                                            \n",
       "                                                                                            \n",
       "                                                                                            \n",
       "                                                                                            \n",
       "                                                                                            \n",
       "                                                                  0                         \n",
       "                                                                                            \n",
       "                                                                                            \n",
       "                                                                                            \n",
       "                                                                                            \n",
       "                                                                                            \n",
       "                                                                                            \n",
       "                                                                                            \n",
       "                                                                  0                         \n",
       "                                                                                            \n",
       "                                                                                            \n",
       "                                                                                            \n",
       "                                                                                            \n",
       "                                                                                            \n",
       "                                                                                            \n",
       "                                                                                            \n",
       "                                                                                            \n",
       "                                                                  0                         \n",
       "                                                                                            \n",
       "                                                                                            \n",
       "                       ⎞                   ⎛    2                           2       2       \n",
       "            ∂          ⎟  -2⋅ν(t, θ)       ⎜   ∂               ⎛∂          ⎞       ∂        \n",
       "(u(t, θ)) + ──(u(t, θ))⎟⋅ℯ           - λ⋅t⋅⎜t⋅───(ν(t, θ)) + t⋅⎜──(u(t, θ))⎟  - t⋅───(u(t, θ\n",
       "            ∂t         ⎟                   ⎜    2              ⎝∂t         ⎠        2       \n",
       "                       ⎠                   ⎝  ∂t                                  ∂t        \n",
       "\n",
       "                                                     ⎤\n",
       "                                                     ⎥\n",
       "                                                     ⎥\n",
       "                                                     ⎥\n",
       "                                                     ⎥\n",
       "                                                     ⎥\n",
       "                                                     ⎥\n",
       "                                                     ⎥\n",
       "                                                     ⎥\n",
       "                                                     ⎥\n",
       "                                                     ⎥\n",
       "                                                     ⎥\n",
       "                                                     ⎥\n",
       "                                                     ⎥\n",
       "                                                     ⎥\n",
       "                                                     ⎥\n",
       "                                                     ⎥\n",
       "                                                     ⎥\n",
       "                                                     ⎥\n",
       "                                                     ⎥\n",
       "                                                     ⎥\n",
       "                                                     ⎥\n",
       "                                                     ⎥\n",
       "                                                     ⎥\n",
       "                                                     ⎥\n",
       "                ⎞                                    ⎥\n",
       "     ∂          ⎟  -2⋅ν(t, θ) + 2⋅u(t, θ)  -2⋅u(t, θ)⎥\n",
       ")) - ──(u(t, θ))⎟⋅ℯ                      ⋅ℯ          ⎥\n",
       "     ∂t         ⎟                                    ⎥\n",
       "                ⎠                                    ⎦"
      ]
     },
     "execution_count": 34,
     "metadata": {},
     "output_type": "execute_result"
    }
   ],
   "source": [
    "einst = EinsteinTensor.from_metric(metric)\n",
    "einst.tensor()"
   ]
  },
  {
   "cell_type": "code",
   "execution_count": 35,
   "id": "fdc0792d",
   "metadata": {},
   "outputs": [],
   "source": [
    "#  rm1 = RiemannCurvatureTensor.from_christoffels(ch)\n",
    "#  rm1.tensor()"
   ]
  },
  {
   "cell_type": "code",
   "execution_count": 36,
   "id": "6f854fdd",
   "metadata": {},
   "outputs": [],
   "source": [
    "#  weyl = WeylTensor.from_metric(metric)\n",
    "#  weyl.tensor()"
   ]
  },
  {
   "cell_type": "code",
   "execution_count": 37,
   "id": "ea41b393",
   "metadata": {},
   "outputs": [
    {
     "data": {
      "text/latex": [
       "$\\displaystyle \\left[\\begin{matrix}\\frac{- t \\left(\\frac{\\partial^{2}}{\\partial t^{2}} \\nu{\\left(t,\\theta \\right)} + 2 \\left(\\frac{\\partial}{\\partial t} u{\\left(t,\\theta \\right)}\\right)^{2} - \\frac{\\partial^{2}}{\\partial t^{2}} u{\\left(t,\\theta \\right)}\\right) + \\frac{\\partial}{\\partial t} \\nu{\\left(t,\\theta \\right)} + \\frac{\\partial}{\\partial t} u{\\left(t,\\theta \\right)}}{t} & 0 & 0 & 0\\\\0 & \\frac{t \\left(\\frac{\\partial^{2}}{\\partial t^{2}} \\nu{\\left(t,\\theta \\right)} - \\frac{\\partial^{2}}{\\partial t^{2}} u{\\left(t,\\theta \\right)}\\right) + \\frac{\\partial}{\\partial t} \\nu{\\left(t,\\theta \\right)} - \\frac{\\partial}{\\partial t} u{\\left(t,\\theta \\right)}}{t} & 0 & 0\\\\0 & 0 & \\frac{\\lambda \\left(t \\frac{\\partial^{2}}{\\partial t^{2}} u{\\left(t,\\theta \\right)} + \\frac{\\partial}{\\partial t} u{\\left(t,\\theta \\right)}\\right) e^{- 2 \\nu{\\left(t,\\theta \\right)} + 4 u{\\left(t,\\theta \\right)}}}{t} & 0\\\\0 & 0 & 0 & - \\lambda t \\left(t \\frac{\\partial^{2}}{\\partial t^{2}} u{\\left(t,\\theta \\right)} + \\frac{\\partial}{\\partial t} u{\\left(t,\\theta \\right)}\\right) e^{- 2 \\nu{\\left(t,\\theta \\right)}}\\end{matrix}\\right]$"
      ],
      "text/plain": [
       "⎡    ⎛  2                           2     2         ⎞                                       \n",
       "⎢    ⎜ ∂               ⎛∂          ⎞     ∂          ⎟   ∂             ∂                     \n",
       "⎢- t⋅⎜───(ν(t, θ)) + 2⋅⎜──(u(t, θ))⎟  - ───(u(t, θ))⎟ + ──(ν(t, θ)) + ──(u(t, θ))           \n",
       "⎢    ⎜  2              ⎝∂t         ⎠      2         ⎟   ∂t            ∂t                    \n",
       "⎢    ⎝∂t                                ∂t          ⎠                                       \n",
       "⎢────────────────────────────────────────────────────────────────────────────────           \n",
       "⎢                                       t                                                   \n",
       "⎢                                                                                           \n",
       "⎢                                                                                    ⎛  2   \n",
       "⎢                                                                                    ⎜ ∂    \n",
       "⎢                                                                                  t⋅⎜───(ν(\n",
       "⎢                                                                                    ⎜  2   \n",
       "⎢                                                                                    ⎝∂t    \n",
       "⎢                                       0                                          ─────────\n",
       "⎢                                                                                           \n",
       "⎢                                                                                           \n",
       "⎢                                                                                           \n",
       "⎢                                                                                           \n",
       "⎢                                                                                           \n",
       "⎢                                                                                           \n",
       "⎢                                                                                           \n",
       "⎢                                       0                                                   \n",
       "⎢                                                                                           \n",
       "⎢                                                                                           \n",
       "⎢                                                                                           \n",
       "⎢                                                                                           \n",
       "⎢                                       0                                                   \n",
       "⎢                                                                                           \n",
       "⎣                                                                                           \n",
       "\n",
       "                                                                                            \n",
       "                                                                                            \n",
       "                                                                                            \n",
       "                                                                                            \n",
       "                                                                                            \n",
       "                    0                                                          0            \n",
       "                                                                                            \n",
       "                                                                                            \n",
       "           2         ⎞                                                                      \n",
       "          ∂          ⎟   ∂             ∂                                                    \n",
       "t, θ)) - ───(u(t, θ))⎟ + ──(ν(t, θ)) - ──(u(t, θ))                                          \n",
       "           2         ⎟   ∂t            ∂t                                                   \n",
       "         ∂t          ⎠                                                                      \n",
       "──────────────────────────────────────────────────                             0            \n",
       "                    t                                                                       \n",
       "                                                                                            \n",
       "                                                      ⎛    2                       ⎞        \n",
       "                                                      ⎜   ∂             ∂          ⎟  -2⋅ν(t\n",
       "                                                    λ⋅⎜t⋅───(u(t, θ)) + ──(u(t, θ))⎟⋅ℯ      \n",
       "                                                      ⎜    2            ∂t         ⎟        \n",
       "                                                      ⎝  ∂t                        ⎠        \n",
       "                    0                               ────────────────────────────────────────\n",
       "                                                                               t            \n",
       "                                                                                            \n",
       "                                                                                            \n",
       "                                                                                            \n",
       "                    0                                                          0            \n",
       "                                                                                            \n",
       "                                                                                            \n",
       "\n",
       "                                                                 ⎤\n",
       "                                                                 ⎥\n",
       "                                                                 ⎥\n",
       "                                                                 ⎥\n",
       "                                                                 ⎥\n",
       "                                         0                       ⎥\n",
       "                                                                 ⎥\n",
       "                                                                 ⎥\n",
       "                                                                 ⎥\n",
       "                                                                 ⎥\n",
       "                                                                 ⎥\n",
       "                                                                 ⎥\n",
       "                                                                 ⎥\n",
       "                                         0                       ⎥\n",
       "                                                                 ⎥\n",
       "                                                                 ⎥\n",
       "                                                                 ⎥\n",
       ", θ) + 4⋅u(t, θ)                                                 ⎥\n",
       "                                                                 ⎥\n",
       "                                                                 ⎥\n",
       "                                                                 ⎥\n",
       "────────────────                         0                       ⎥\n",
       "                                                                 ⎥\n",
       "                                                                 ⎥\n",
       "                       ⎛    2                       ⎞            ⎥\n",
       "                       ⎜   ∂             ∂          ⎟  -2⋅ν(t, θ)⎥\n",
       "                  -λ⋅t⋅⎜t⋅───(u(t, θ)) + ──(u(t, θ))⎟⋅ℯ          ⎥\n",
       "                       ⎜    2            ∂t         ⎟            ⎥\n",
       "                       ⎝  ∂t                        ⎠            ⎦"
      ]
     },
     "execution_count": 37,
     "metadata": {},
     "output_type": "execute_result"
    }
   ],
   "source": [
    "ricciSimplified = simplify(Ric.tensor())\n",
    "ricciSimplified "
   ]
  },
  {
   "cell_type": "code",
   "execution_count": 38,
   "id": "fcfd3321",
   "metadata": {},
   "outputs": [
    {
     "data": {
      "text/latex": [
       "$\\displaystyle \\left[\\begin{matrix}- 1.0 \\left(\\frac{\\partial}{\\partial t} u{\\left(t,\\theta \\right)}\\right)^{2} + \\frac{1.0 \\frac{\\partial}{\\partial t} \\nu{\\left(t,\\theta \\right)}}{t} & 0 & 0 & 0\\\\0 & - 1.0 \\left(\\frac{\\partial}{\\partial t} u{\\left(t,\\theta \\right)}\\right)^{2} + \\frac{1.0 \\frac{\\partial}{\\partial t} \\nu{\\left(t,\\theta \\right)}}{t} & 0 & 0\\\\0 & 0 & \\frac{\\lambda \\left(- 1.0 t \\frac{\\partial^{2}}{\\partial t^{2}} \\nu{\\left(t,\\theta \\right)} - 1.0 t \\left(\\frac{\\partial}{\\partial t} u{\\left(t,\\theta \\right)}\\right)^{2} + 2.0 t \\frac{\\partial^{2}}{\\partial t^{2}} u{\\left(t,\\theta \\right)} + 2.0 \\frac{\\partial}{\\partial t} u{\\left(t,\\theta \\right)}\\right) e^{- 2 \\nu{\\left(t,\\theta \\right)} + 4 u{\\left(t,\\theta \\right)}}}{t} & 0\\\\0 & 0 & 0 & - 1.0 \\lambda t^{2} \\left(\\frac{\\partial^{2}}{\\partial t^{2}} \\nu{\\left(t,\\theta \\right)} + \\left(\\frac{\\partial}{\\partial t} u{\\left(t,\\theta \\right)}\\right)^{2}\\right) e^{- 2 \\nu{\\left(t,\\theta \\right)}}\\end{matrix}\\right]$"
      ],
      "text/plain": [
       "⎡                       ∂                                                                   \n",
       "⎢               2   1.0⋅──(ν(t, θ))                                                         \n",
       "⎢  ⎛∂          ⎞        ∂t                                                                  \n",
       "⎢- ⎜──(u(t, θ))⎟  + ───────────────                  0                                      \n",
       "⎢  ⎝∂t         ⎠           t                                                                \n",
       "⎢                                                                                           \n",
       "⎢                                                           ∂                               \n",
       "⎢                                                   2   1.0⋅──(ν(t, θ))                     \n",
       "⎢                                      ⎛∂          ⎞        ∂t                              \n",
       "⎢                0                   - ⎜──(u(t, θ))⎟  + ───────────────                     \n",
       "⎢                                      ⎝∂t         ⎠           t                            \n",
       "⎢                                                                                           \n",
       "⎢                                                                          ⎛      2         \n",
       "⎢                                                                          ⎜     ∂          \n",
       "⎢                                                                        λ⋅⎜- t⋅───(ν(t, θ))\n",
       "⎢                                                                          ⎜      2         \n",
       "⎢                                                                          ⎝    ∂t          \n",
       "⎢                0                                   0                   ───────────────────\n",
       "⎢                                                                                           \n",
       "⎢                                                                                           \n",
       "⎢                                                                                           \n",
       "⎢                                                                                           \n",
       "⎢                0                                   0                                      \n",
       "⎢                                                                                           \n",
       "⎣                                                                                           \n",
       "\n",
       "                                                                                            \n",
       "                                                                                            \n",
       "                                                                                            \n",
       "                               0                                                            \n",
       "                                                                                            \n",
       "                                                                                            \n",
       "                                                                                            \n",
       "                                                                                            \n",
       "                                                                                            \n",
       "                               0                                                            \n",
       "                                                                                            \n",
       "                                                                                            \n",
       "                  2           2                           ⎞                                 \n",
       "     ⎛∂          ⎞           ∂                 ∂          ⎟  -2⋅ν(t, θ) + 4⋅u(t, θ)         \n",
       " - t⋅⎜──(u(t, θ))⎟  + 2.0⋅t⋅───(u(t, θ)) + 2.0⋅──(u(t, θ))⎟⋅ℯ                               \n",
       "     ⎝∂t         ⎠            2                ∂t         ⎟                                 \n",
       "                            ∂t                            ⎠                                 \n",
       "───────────────────────────────────────────────────────────────────────────────────         \n",
       "                               t                                                            \n",
       "                                                                                            \n",
       "                                                                                            \n",
       "                                                                                            \n",
       "                               0                                                     -1.0⋅λ⋅\n",
       "                                                                                            \n",
       "                                                                                            \n",
       "\n",
       "                                              ⎤\n",
       "                                              ⎥\n",
       "                                              ⎥\n",
       "                   0                          ⎥\n",
       "                                              ⎥\n",
       "                                              ⎥\n",
       "                                              ⎥\n",
       "                                              ⎥\n",
       "                                              ⎥\n",
       "                   0                          ⎥\n",
       "                                              ⎥\n",
       "                                              ⎥\n",
       "                                              ⎥\n",
       "                                              ⎥\n",
       "                                              ⎥\n",
       "                                              ⎥\n",
       "                                              ⎥\n",
       "                   0                          ⎥\n",
       "                                              ⎥\n",
       "                                              ⎥\n",
       "   ⎛  2                         2⎞            ⎥\n",
       " 2 ⎜ ∂             ⎛∂          ⎞ ⎟  -2⋅ν(t, θ)⎥\n",
       "t ⋅⎜───(ν(t, θ)) + ⎜──(u(t, θ))⎟ ⎟⋅ℯ          ⎥\n",
       "   ⎜  2            ⎝∂t         ⎠ ⎟            ⎥\n",
       "   ⎝∂t                           ⎠            ⎦"
      ]
     },
     "execution_count": 38,
     "metadata": {},
     "output_type": "execute_result"
    }
   ],
   "source": [
    "einsteinSimplified = simplify(einst.tensor())\n",
    "einsteinSimplified"
   ]
  },
  {
   "cell_type": "code",
   "execution_count": null,
   "id": "522d63bd",
   "metadata": {},
   "outputs": [],
   "source": []
  }
 ],
 "metadata": {
  "@webio": {
   "lastCommId": "4e1e50a046884b48b17b6a4453df3d34",
   "lastKernelId": "720069ff-5d18-4c5d-aa12-4698de10000f"
  },
  "kernelspec": {
   "display_name": "Python 3 (ipykernel)",
   "language": "python",
   "name": "python3"
  },
  "language_info": {
   "codemirror_mode": {
    "name": "ipython",
    "version": 3
   },
   "file_extension": ".py",
   "mimetype": "text/x-python",
   "name": "python",
   "nbconvert_exporter": "python",
   "pygments_lexer": "ipython3",
   "version": "3.8.8"
  }
 },
 "nbformat": 4,
 "nbformat_minor": 5
}
