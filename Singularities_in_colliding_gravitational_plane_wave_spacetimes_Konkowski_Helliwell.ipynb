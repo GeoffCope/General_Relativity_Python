{
 "cells": [
  {
   "cell_type": "markdown",
   "id": "edc4678b",
   "metadata": {},
   "source": [
    "# Singularities in colliding gravitational plane-wave spacetimes by Konkowski & Helliwell\n",
    "#####  Geoff Cope\n",
    "#####  University of Utah\n",
    "#####  December 28, 2021  "
   ]
  },
  {
   "cell_type": "markdown",
   "id": "86809b60",
   "metadata": {},
   "source": [
    "Here we work with the metric from equation 2f.  This metric is given again as equation 7, but with specific functions specified for U,V, and M.  We will revisit this later.  IMPORTANT:  SEE METRIC 1D AND FIND THIS IN MATZNER AND TIPLER"
   ]
  },
  {
   "cell_type": "markdown",
   "id": "9c6ebdfd",
   "metadata": {},
   "source": [
    "https://iopscience.iop.org/article/10.1088/0264-9381/6/12/012/meta"
   ]
  },
  {
   "cell_type": "code",
   "execution_count": 1,
   "id": "967e18d0",
   "metadata": {},
   "outputs": [
    {
     "name": "stdout",
     "output_type": "stream",
     "text": [
      "IPython console for SymPy 1.9 (Python 3.8.8-64-bit) (ground types: gmpy)\n",
      "\n",
      "These commands were executed:\n",
      ">>> from __future__ import division\n",
      ">>> from sympy import *\n",
      ">>> x, y, z, t = symbols('x y z t')\n",
      ">>> k, m, n = symbols('k m n', integer=True)\n",
      ">>> f, g, h = symbols('f g h', cls=Function)\n",
      ">>> init_printing()\n",
      "\n",
      "Documentation can be found at https://docs.sympy.org/1.9/\n",
      "\n"
     ]
    }
   ],
   "source": [
    "from sympy import init_session\n",
    "init_session(use_latex=True)"
   ]
  },
  {
   "cell_type": "code",
   "execution_count": 2,
   "id": "81a8e2bd",
   "metadata": {},
   "outputs": [],
   "source": [
    "import warnings\n",
    "import matplotlib.cbook\n",
    "warnings.filterwarnings(\"ignore\",category=matplotlib.cbook.mplDeprecation)"
   ]
  },
  {
   "cell_type": "code",
   "execution_count": 3,
   "id": "faced576",
   "metadata": {},
   "outputs": [],
   "source": [
    "u,v,x,dy,du,dv,dx,dy = symbols( 'u v x y du dv dx dy' , positive = True, real = True  ) "
   ]
  },
  {
   "cell_type": "code",
   "execution_count": 4,
   "id": "3a331757",
   "metadata": {},
   "outputs": [
    {
     "data": {
      "image/png": "[encoded data removed]",
      "text/latex": [
       "$\\displaystyle M{\\left(u,v \\right)}$"
      ],
      "text/plain": [
       "M(u, v)"
      ]
     },
     "execution_count": 4,
     "metadata": {},
     "output_type": "execute_result"
    }
   ],
   "source": [
    "M = Function('M')(u,v)\n",
    "M"
   ]
  },
  {
   "cell_type": "code",
   "execution_count": 5,
   "id": "4591f4ef",
   "metadata": {},
   "outputs": [
    {
     "data": {
      "image/png": "[encoded data removed]",
      "text/latex": [
       "$\\displaystyle U{\\left(u,v \\right)}$"
      ],
      "text/plain": [
       "U(u, v)"
      ]
     },
     "execution_count": 5,
     "metadata": {},
     "output_type": "execute_result"
    }
   ],
   "source": [
    "U = Function('U')(u,v)\n",
    "U"
   ]
  },
  {
   "cell_type": "code",
   "execution_count": 6,
   "id": "81894d88",
   "metadata": {},
   "outputs": [
    {
     "data": {
      "image/png": "[encoded data removed]",
      "text/latex": [
       "$\\displaystyle V{\\left(u,v \\right)}$"
      ],
      "text/plain": [
       "V(u, v)"
      ]
     },
     "execution_count": 6,
     "metadata": {},
     "output_type": "execute_result"
    }
   ],
   "source": [
    "V = Function('V')(u,v)\n",
    "V"
   ]
  },
  {
   "cell_type": "code",
   "execution_count": 7,
   "id": "2d7b5bb1",
   "metadata": {},
   "outputs": [
    {
     "data": {
      "text/latex": [
       "$\\displaystyle \\left[\\begin{matrix}u\\\\v\\\\x\\\\y\\end{matrix}\\right]$"
      ],
      "text/plain": [
       "⎡u⎤\n",
       "⎢ ⎥\n",
       "⎢v⎥\n",
       "⎢ ⎥\n",
       "⎢x⎥\n",
       "⎢ ⎥\n",
       "⎣y⎦"
      ]
     },
     "execution_count": 7,
     "metadata": {},
     "output_type": "execute_result"
    }
   ],
   "source": [
    "variables = Matrix( [u,v,x,y] )\n",
    "variables"
   ]
  },
  {
   "cell_type": "code",
   "execution_count": 8,
   "id": "0d4e6e1c",
   "metadata": {},
   "outputs": [
    {
     "data": {
      "text/latex": [
       "$\\displaystyle \\left[\\begin{matrix}du\\\\dv\\\\dx\\\\dy\\end{matrix}\\right]$"
      ],
      "text/plain": [
       "⎡du⎤\n",
       "⎢  ⎥\n",
       "⎢dv⎥\n",
       "⎢  ⎥\n",
       "⎢dx⎥\n",
       "⎢  ⎥\n",
       "⎣dy⎦"
      ]
     },
     "execution_count": 8,
     "metadata": {},
     "output_type": "execute_result"
    }
   ],
   "source": [
    "differentials = Matrix( [du,dv,dx,dy])\n",
    "differentials "
   ]
  },
  {
   "cell_type": "code",
   "execution_count": 10,
   "id": "1cadde38",
   "metadata": {},
   "outputs": [
    {
     "data": {
      "image/png": "[encoded data removed]",
      "text/latex": [
       "$\\displaystyle - 2 du dv e^{- M{\\left(u,v \\right)}} - dx^{2} e^{- U{\\left(u,v \\right)}} e^{V{\\left(u,v \\right)}} - dy^{2} e^{- U{\\left(u,v \\right)}} e^{- V{\\left(u,v \\right)}}$"
      ],
      "text/plain": [
       "           -M(u, v)     2  -U(u, v)  V(u, v)     2  -U(u, v)  -V(u, v)\n",
       "- 2⋅du⋅dv⋅ℯ         - dx ⋅ℯ        ⋅ℯ        - dy ⋅ℯ        ⋅ℯ        "
      ]
     },
     "execution_count": 10,
     "metadata": {},
     "output_type": "execute_result"
    }
   ],
   "source": [
    "lineElement = expand(-2*exp(-M)*du*dv - exp(-U) * ( exp(V)*dx**2 + exp(-V)*dy**2 ) )\n",
    "lineElement"
   ]
  },
  {
   "cell_type": "code",
   "execution_count": 11,
   "id": "efd9b711",
   "metadata": {},
   "outputs": [
    {
     "data": {
      "text/latex": [
       "$\\displaystyle \\left[\\begin{matrix}0 & - e^{- M{\\left(u,v \\right)}} & 0 & 0\\\\- e^{- M{\\left(u,v \\right)}} & 0 & 0 & 0\\\\0 & 0 & - e^{- U{\\left(u,v \\right)}} e^{V{\\left(u,v \\right)}} & 0\\\\0 & 0 & 0 & - e^{- U{\\left(u,v \\right)}} e^{- V{\\left(u,v \\right)}}\\end{matrix}\\right]$"
      ],
      "text/plain": [
       "⎡              -M(u, v)                                           ⎤\n",
       "⎢    0       -ℯ                   0                    0          ⎥\n",
       "⎢                                                                 ⎥\n",
       "⎢  -M(u, v)                                                       ⎥\n",
       "⎢-ℯ              0                0                    0          ⎥\n",
       "⎢                                                                 ⎥\n",
       "⎢                          -U(u, v)  V(u, v)                      ⎥\n",
       "⎢    0           0       -ℯ        ⋅ℯ                  0          ⎥\n",
       "⎢                                                                 ⎥\n",
       "⎢                                               -U(u, v)  -V(u, v)⎥\n",
       "⎣    0           0                0           -ℯ        ⋅ℯ        ⎦"
      ]
     },
     "execution_count": 11,
     "metadata": {},
     "output_type": "execute_result"
    }
   ],
   "source": [
    "g = zeros(4)\n",
    "\n",
    "for i in range(4):\n",
    "    for j in range(4):\n",
    "        if i == j:\n",
    "            g[i,j] = lineElement.coeff( differentials[i],2 ) \n",
    "        else:\n",
    "            g[i,j] = Rational(1,2)*lineElement.coeff( differentials[i]*differentials[j],1 )\n",
    "            \n",
    "g"
   ]
  },
  {
   "cell_type": "code",
   "execution_count": 12,
   "id": "f447975c",
   "metadata": {},
   "outputs": [],
   "source": [
    "import sympy"
   ]
  },
  {
   "cell_type": "code",
   "execution_count": 13,
   "id": "dadd672b",
   "metadata": {},
   "outputs": [
    {
     "data": {
      "text/latex": [
       "$\\displaystyle \\left[\\begin{matrix}0 & - e^{- M{\\left(u,v \\right)}} & 0 & 0\\\\- e^{- M{\\left(u,v \\right)}} & 0 & 0 & 0\\\\0 & 0 & - e^{- U{\\left(u,v \\right)}} e^{V{\\left(u,v \\right)}} & 0\\\\0 & 0 & 0 & - e^{- U{\\left(u,v \\right)}} e^{- V{\\left(u,v \\right)}}\\end{matrix}\\right]$"
      ],
      "text/plain": [
       "⎡              -M(u, v)                                           ⎤\n",
       "⎢    0       -ℯ                   0                    0          ⎥\n",
       "⎢                                                                 ⎥\n",
       "⎢  -M(u, v)                                                       ⎥\n",
       "⎢-ℯ              0                0                    0          ⎥\n",
       "⎢                                                                 ⎥\n",
       "⎢                          -U(u, v)  V(u, v)                      ⎥\n",
       "⎢    0           0       -ℯ        ⋅ℯ                  0          ⎥\n",
       "⎢                                                                 ⎥\n",
       "⎢                                               -U(u, v)  -V(u, v)⎥\n",
       "⎣    0           0                0           -ℯ        ⋅ℯ        ⎦"
      ]
     },
     "execution_count": 13,
     "metadata": {},
     "output_type": "execute_result"
    }
   ],
   "source": [
    "m = sympy.Array(g)\n",
    "m"
   ]
  },
  {
   "cell_type": "code",
   "execution_count": 14,
   "id": "69b2933b",
   "metadata": {},
   "outputs": [],
   "source": [
    "from einsteinpy.symbolic import *"
   ]
  },
  {
   "cell_type": "code",
   "execution_count": 15,
   "id": "a6259d6d",
   "metadata": {},
   "outputs": [],
   "source": [
    "syms = sympy.symbols(\"u v x y\"  , positive = True, real = True)\n",
    "u,v,x,y = syms"
   ]
  },
  {
   "cell_type": "code",
   "execution_count": 16,
   "id": "af1c4841",
   "metadata": {},
   "outputs": [],
   "source": [
    "metric = MetricTensor(m,syms)"
   ]
  },
  {
   "cell_type": "code",
   "execution_count": 17,
   "id": "bdb76d7b",
   "metadata": {},
   "outputs": [
    {
     "data": {
      "text/latex": [
       "$\\displaystyle \\left[\\begin{matrix}\\left[\\begin{matrix}- \\frac{\\partial}{\\partial u} M{\\left(u,v \\right)} & 0 & 0 & 0\\\\0 & 0 & 0 & 0\\\\0 & 0 & \\frac{\\left(\\frac{\\partial}{\\partial v} U{\\left(u,v \\right)} - \\frac{\\partial}{\\partial v} V{\\left(u,v \\right)}\\right) e^{M{\\left(u,v \\right)} - U{\\left(u,v \\right)} + V{\\left(u,v \\right)}}}{2} & 0\\\\0 & 0 & 0 & \\frac{\\left(\\frac{\\partial}{\\partial v} U{\\left(u,v \\right)} + \\frac{\\partial}{\\partial v} V{\\left(u,v \\right)}\\right) e^{M{\\left(u,v \\right)} - U{\\left(u,v \\right)} - V{\\left(u,v \\right)}}}{2}\\end{matrix}\\right] & \\left[\\begin{matrix}0 & 0 & 0 & 0\\\\0 & - \\frac{\\partial}{\\partial v} M{\\left(u,v \\right)} & 0 & 0\\\\0 & 0 & \\frac{\\left(\\frac{\\partial}{\\partial u} U{\\left(u,v \\right)} - \\frac{\\partial}{\\partial u} V{\\left(u,v \\right)}\\right) e^{M{\\left(u,v \\right)} - U{\\left(u,v \\right)} + V{\\left(u,v \\right)}}}{2} & 0\\\\0 & 0 & 0 & \\frac{\\left(\\frac{\\partial}{\\partial u} U{\\left(u,v \\right)} + \\frac{\\partial}{\\partial u} V{\\left(u,v \\right)}\\right) e^{M{\\left(u,v \\right)} - U{\\left(u,v \\right)} - V{\\left(u,v \\right)}}}{2}\\end{matrix}\\right] & \\left[\\begin{matrix}0 & 0 & - \\frac{\\frac{\\partial}{\\partial u} U{\\left(u,v \\right)}}{2} + \\frac{\\frac{\\partial}{\\partial u} V{\\left(u,v \\right)}}{2} & 0\\\\0 & 0 & - \\frac{\\frac{\\partial}{\\partial v} U{\\left(u,v \\right)}}{2} + \\frac{\\frac{\\partial}{\\partial v} V{\\left(u,v \\right)}}{2} & 0\\\\- \\frac{\\frac{\\partial}{\\partial u} U{\\left(u,v \\right)}}{2} + \\frac{\\frac{\\partial}{\\partial u} V{\\left(u,v \\right)}}{2} & - \\frac{\\frac{\\partial}{\\partial v} U{\\left(u,v \\right)}}{2} + \\frac{\\frac{\\partial}{\\partial v} V{\\left(u,v \\right)}}{2} & 0 & 0\\\\0 & 0 & 0 & 0\\end{matrix}\\right] & \\left[\\begin{matrix}0 & 0 & 0 & - \\frac{\\frac{\\partial}{\\partial u} U{\\left(u,v \\right)}}{2} - \\frac{\\frac{\\partial}{\\partial u} V{\\left(u,v \\right)}}{2}\\\\0 & 0 & 0 & - \\frac{\\frac{\\partial}{\\partial v} U{\\left(u,v \\right)}}{2} - \\frac{\\frac{\\partial}{\\partial v} V{\\left(u,v \\right)}}{2}\\\\0 & 0 & 0 & 0\\\\- \\frac{\\frac{\\partial}{\\partial u} U{\\left(u,v \\right)}}{2} - \\frac{\\frac{\\partial}{\\partial u} V{\\left(u,v \\right)}}{2} & - \\frac{\\frac{\\partial}{\\partial v} U{\\left(u,v \\right)}}{2} - \\frac{\\frac{\\partial}{\\partial v} V{\\left(u,v \\right)}}{2} & 0 & 0\\end{matrix}\\right]\\end{matrix}\\right]$"
      ],
      "text/plain": [
       "⎡                                                                                           \n",
       "⎢⎡ ∂                                                                                        \n",
       "⎢⎢-──(M(u, v))  0                             0                                             \n",
       "⎢⎢ ∂u                                                                                       \n",
       "⎢⎢                                                                                          \n",
       "⎢⎢     0        0                             0                                             \n",
       "⎢⎢                                                                                          \n",
       "⎢⎢                 ⎛∂             ∂          ⎞  M(u, v) - U(u, v) + V(u, v)                 \n",
       "⎢⎢                 ⎜──(U(u, v)) - ──(V(u, v))⎟⋅ℯ                                            \n",
       "⎢⎢                 ⎝∂v            ∂v         ⎠                                              \n",
       "⎢⎢     0        0  ────────────────────────────────────────────────────────                 \n",
       "⎢⎢                                            2                                             \n",
       "⎢⎢                                                                                          \n",
       "⎢⎢                                                                           ⎛∂             \n",
       "⎢⎢                                                                           ⎜──(U(u, v)) + \n",
       "⎢⎢                                                                           ⎝∂v            \n",
       "⎢⎢     0        0                             0                              ───────────────\n",
       "⎢⎣                                                                                          \n",
       "⎣                                                                                           \n",
       "\n",
       "                                                                                            \n",
       "                                         ⎤  ⎡0       0                                   0  \n",
       "            0                            ⎥  ⎢                                               \n",
       "                                         ⎥  ⎢    ∂                                          \n",
       "                                         ⎥  ⎢0  -──(M(u, v))                             0  \n",
       "            0                            ⎥  ⎢    ∂v                                         \n",
       "                                         ⎥  ⎢                                               \n",
       "                                         ⎥  ⎢                 ⎛∂             ∂          ⎞  M\n",
       "                                         ⎥  ⎢                 ⎜──(U(u, v)) - ──(V(u, v))⎟⋅ℯ \n",
       "                                         ⎥  ⎢                 ⎝∂u            ∂u         ⎠   \n",
       "            0                            ⎥  ⎢0       0        ──────────────────────────────\n",
       "                                         ⎥  ⎢                                            2  \n",
       "                                         ⎥  ⎢                                               \n",
       "∂          ⎞  M(u, v) - U(u, v) - V(u, v)⎥  ⎢                                               \n",
       "──(V(u, v))⎟⋅ℯ                           ⎥  ⎢                                               \n",
       "∂v         ⎠                             ⎥  ⎢                                               \n",
       "─────────────────────────────────────────⎥  ⎢0       0                                   0  \n",
       "            2                            ⎦  ⎣                                               \n",
       "                                                                                            \n",
       "\n",
       "                                                                                       ⎡    \n",
       "                                                       0                            ⎤  ⎢    \n",
       "                                                                                    ⎥  ⎢    \n",
       "                                                                                    ⎥  ⎢    \n",
       "                                                       0                            ⎥  ⎢    \n",
       "                                                                                    ⎥  ⎢    \n",
       "                                                                                    ⎥  ⎢    \n",
       "(u, v) - U(u, v) + V(u, v)                                                          ⎥  ⎢    \n",
       "                                                                                    ⎥  ⎢    \n",
       "                                                                                    ⎥  ⎢    \n",
       "──────────────────────────                             0                            ⎥  ⎢    \n",
       "                                                                                    ⎥  ⎢    \n",
       "                                                                                    ⎥  ⎢  ∂ \n",
       "                            ⎛∂             ∂          ⎞  M(u, v) - U(u, v) - V(u, v)⎥  ⎢  ──\n",
       "                            ⎜──(U(u, v)) + ──(V(u, v))⎟⋅ℯ                           ⎥  ⎢  ∂u\n",
       "                            ⎝∂u            ∂u         ⎠                             ⎥  ⎢- ──\n",
       "                            ────────────────────────────────────────────────────────⎥  ⎢    \n",
       "                                                       2                            ⎦  ⎢    \n",
       "                                                                                       ⎣    \n",
       "\n",
       "                                                        ∂             ∂             ⎤  ⎡    \n",
       "                                                        ──(U(u, v))   ──(V(u, v))   ⎥  ⎢    \n",
       "                                                        ∂u            ∂u            ⎥  ⎢    \n",
       "         0                            0               - ─────────── + ───────────  0⎥  ⎢    \n",
       "                                                             2             2        ⎥  ⎢    \n",
       "                                                                                    ⎥  ⎢    \n",
       "                                                        ∂             ∂             ⎥  ⎢    \n",
       "                                                        ──(U(u, v))   ──(V(u, v))   ⎥  ⎢    \n",
       "                                                        ∂v            ∂v            ⎥  ⎢    \n",
       "         0                            0               - ─────────── + ───────────  0⎥  ⎢    \n",
       "                                                             2             2        ⎥  ⎢    \n",
       "                                                                                    ⎥  ⎢    \n",
       "            ∂              ∂             ∂                                          ⎥  ⎢    \n",
       "(U(u, v))   ──(V(u, v))    ──(U(u, v))   ──(V(u, v))                                ⎥  ⎢    \n",
       "            ∂u             ∂v            ∂v                                         ⎥  ⎢  ∂ \n",
       "───────── + ───────────  - ─────────── + ───────────               0               0⎥  ⎢  ──\n",
       "   2             2              2             2                                     ⎥  ⎢  ∂u\n",
       "                                                                                    ⎥  ⎢- ──\n",
       "         0                            0                            0               0⎦  ⎣    \n",
       "\n",
       "                                                           ∂             ∂          ⎤⎤\n",
       "                                                           ──(U(u, v))   ──(V(u, v))⎥⎥\n",
       "                                                           ∂u            ∂u         ⎥⎥\n",
       "         0                            0               0  - ─────────── - ───────────⎥⎥\n",
       "                                                                2             2     ⎥⎥\n",
       "                                                                                    ⎥⎥\n",
       "                                                           ∂             ∂          ⎥⎥\n",
       "                                                           ──(U(u, v))   ──(V(u, v))⎥⎥\n",
       "                                                           ∂v            ∂v         ⎥⎥\n",
       "         0                            0               0  - ─────────── - ───────────⎥⎥\n",
       "                                                                2             2     ⎥⎥\n",
       "                                                                                    ⎥⎥\n",
       "         0                            0               0               0             ⎥⎥\n",
       "                                                                                    ⎥⎥\n",
       "            ∂              ∂             ∂                                          ⎥⎥\n",
       "(U(u, v))   ──(V(u, v))    ──(U(u, v))   ──(V(u, v))                                ⎥⎥\n",
       "            ∂u             ∂v            ∂v                                         ⎥⎥\n",
       "───────── - ───────────  - ─────────── - ───────────  0               0             ⎥⎥\n",
       "   2             2              2             2                                     ⎦⎦"
      ]
     },
     "execution_count": 17,
     "metadata": {},
     "output_type": "execute_result"
    }
   ],
   "source": [
    "ch = ChristoffelSymbols.from_metric(metric)\n",
    "simplify(ch.tensor())"
   ]
  },
  {
   "cell_type": "code",
   "execution_count": 18,
   "id": "7a8ee1e7",
   "metadata": {},
   "outputs": [
    {
     "data": {
      "text/latex": [
       "$\\displaystyle \\left[\\begin{matrix}\\frac{\\partial}{\\partial u} M{\\left(u,v \\right)} \\frac{\\partial}{\\partial u} U{\\left(u,v \\right)} - \\frac{\\left(\\frac{\\partial}{\\partial u} U{\\left(u,v \\right)}\\right)^{2}}{2} + \\frac{\\partial^{2}}{\\partial u^{2}} U{\\left(u,v \\right)} - \\frac{\\left(\\frac{\\partial}{\\partial u} V{\\left(u,v \\right)}\\right)^{2}}{2} & - \\frac{\\frac{\\partial}{\\partial u} U{\\left(u,v \\right)} \\frac{\\partial}{\\partial v} U{\\left(u,v \\right)}}{2} - \\frac{\\frac{\\partial}{\\partial u} V{\\left(u,v \\right)} \\frac{\\partial}{\\partial v} V{\\left(u,v \\right)}}{2} + \\frac{\\partial^{2}}{\\partial v\\partial u} M{\\left(u,v \\right)} + \\frac{\\partial^{2}}{\\partial v\\partial u} U{\\left(u,v \\right)} & 0 & 0\\\\- \\frac{\\frac{\\partial}{\\partial u} U{\\left(u,v \\right)} \\frac{\\partial}{\\partial v} U{\\left(u,v \\right)}}{2} - \\frac{\\frac{\\partial}{\\partial u} V{\\left(u,v \\right)} \\frac{\\partial}{\\partial v} V{\\left(u,v \\right)}}{2} + \\frac{\\partial^{2}}{\\partial v\\partial u} M{\\left(u,v \\right)} + \\frac{\\partial^{2}}{\\partial v\\partial u} U{\\left(u,v \\right)} & \\frac{\\partial}{\\partial v} M{\\left(u,v \\right)} \\frac{\\partial}{\\partial v} U{\\left(u,v \\right)} - \\frac{\\left(\\frac{\\partial}{\\partial v} U{\\left(u,v \\right)}\\right)^{2}}{2} + \\frac{\\partial^{2}}{\\partial v^{2}} U{\\left(u,v \\right)} - \\frac{\\left(\\frac{\\partial}{\\partial v} V{\\left(u,v \\right)}\\right)^{2}}{2} & 0 & 0\\\\0 & 0 & \\left(- \\frac{\\partial}{\\partial u} U{\\left(u,v \\right)} \\frac{\\partial}{\\partial v} U{\\left(u,v \\right)} + \\frac{\\frac{\\partial}{\\partial u} U{\\left(u,v \\right)} \\frac{\\partial}{\\partial v} V{\\left(u,v \\right)}}{2} + \\frac{\\frac{\\partial}{\\partial v} U{\\left(u,v \\right)} \\frac{\\partial}{\\partial u} V{\\left(u,v \\right)}}{2} + \\frac{\\partial^{2}}{\\partial v\\partial u} U{\\left(u,v \\right)} - \\frac{\\partial^{2}}{\\partial v\\partial u} V{\\left(u,v \\right)}\\right) e^{M{\\left(u,v \\right)} - U{\\left(u,v \\right)} + V{\\left(u,v \\right)}} & 0\\\\0 & 0 & 0 & \\left(- \\frac{\\partial}{\\partial u} U{\\left(u,v \\right)} \\frac{\\partial}{\\partial v} U{\\left(u,v \\right)} - \\frac{\\frac{\\partial}{\\partial u} U{\\left(u,v \\right)} \\frac{\\partial}{\\partial v} V{\\left(u,v \\right)}}{2} - \\frac{\\frac{\\partial}{\\partial v} U{\\left(u,v \\right)} \\frac{\\partial}{\\partial u} V{\\left(u,v \\right)}}{2} + \\frac{\\partial^{2}}{\\partial v\\partial u} U{\\left(u,v \\right)} + \\frac{\\partial^{2}}{\\partial v\\partial u} V{\\left(u,v \\right)}\\right) e^{M{\\left(u,v \\right)} - U{\\left(u,v \\right)} - V{\\left(u,v \\right)}}\\end{matrix}\\right]$"
      ],
      "text/plain": [
       "⎡                                             2                               2             \n",
       "⎢                                ⎛∂          ⎞                   ⎛∂          ⎞            ∂ \n",
       "⎢                                ⎜──(U(u, v))⎟      2            ⎜──(V(u, v))⎟            ──\n",
       "⎢      ∂           ∂             ⎝∂u         ⎠     ∂             ⎝∂u         ⎠            ∂u\n",
       "⎢      ──(M(u, v))⋅──(U(u, v)) - ────────────── + ───(U(u, v)) - ──────────────         - ──\n",
       "⎢      ∂u          ∂u                  2            2                  2                    \n",
       "⎢                                                 ∂u                                        \n",
       "⎢                                                                                           \n",
       "⎢                                                                                           \n",
       "⎢  ∂           ∂             ∂           ∂                                                  \n",
       "⎢  ──(U(u, v))⋅──(U(u, v))   ──(V(u, v))⋅──(V(u, v))      2                2                \n",
       "⎢  ∂u          ∂v            ∂u          ∂v              ∂                ∂                 \n",
       "⎢- ─────────────────────── - ─────────────────────── + ─────(M(u, v)) + ─────(U(u, v))      \n",
       "⎢             2                         2              ∂v ∂u            ∂v ∂u               \n",
       "⎢                                                                                           \n",
       "⎢                                                                                           \n",
       "⎢                                                                                           \n",
       "⎢                                                                                           \n",
       "⎢                                                                                           \n",
       "⎢                                          0                                                \n",
       "⎢                                                                                           \n",
       "⎢                                                                                           \n",
       "⎢                                                                                           \n",
       "⎢                                                                                           \n",
       "⎢                                                                                           \n",
       "⎢                                          0                                                \n",
       "⎣                                                                                           \n",
       "\n",
       "                                                                                            \n",
       "          ∂             ∂           ∂                                                       \n",
       "(U(u, v))⋅──(U(u, v))   ──(V(u, v))⋅──(V(u, v))      2                2                     \n",
       "          ∂v            ∂u          ∂v              ∂                ∂                      \n",
       "───────────────────── - ─────────────────────── + ─────(M(u, v)) + ─────(U(u, v))           \n",
       "         2                         2              ∂v ∂u            ∂v ∂u                    \n",
       "                                                                                            \n",
       "                                                                                            \n",
       "                                         2                               2                  \n",
       "                            ⎛∂          ⎞                   ⎛∂          ⎞                   \n",
       "                            ⎜──(U(u, v))⎟      2            ⎜──(V(u, v))⎟                   \n",
       "  ∂           ∂             ⎝∂v         ⎠     ∂             ⎝∂v         ⎠                   \n",
       "  ──(M(u, v))⋅──(U(u, v)) - ────────────── + ───(U(u, v)) - ──────────────                  \n",
       "  ∂v          ∂v                  2            2                  2                         \n",
       "                                             ∂v                                             \n",
       "                                                                                            \n",
       "                                                                                   ⎛        \n",
       "                                                                                   ⎜        \n",
       "                                                                                   ⎜  ∂     \n",
       "                                      0                                            ⎜- ──(U(u\n",
       "                                                                                   ⎝  ∂u    \n",
       "                                                                                            \n",
       "                                                                                            \n",
       "                                                                                            \n",
       "                                                                                            \n",
       "                                      0                                                     \n",
       "                                                                                            \n",
       "\n",
       "                                                                                            \n",
       "                                                                                            \n",
       "                                                                                            \n",
       "                                                                                            \n",
       "                                                             0                              \n",
       "                                                                                            \n",
       "                                                                                            \n",
       "                                                                                            \n",
       "                                                                                            \n",
       "                                                                                            \n",
       "                                                                                            \n",
       "                                                                                            \n",
       "                                                             0                              \n",
       "                                                                                            \n",
       "                                                                                            \n",
       "                                                                                            \n",
       "                    ∂           ∂             ∂           ∂                                 \n",
       "                    ──(U(u, v))⋅──(V(u, v))   ──(U(u, v))⋅──(V(u, v))      2                \n",
       "      ∂             ∂u          ∂v            ∂v          ∂u              ∂                ∂\n",
       ", v))⋅──(U(u, v)) + ─────────────────────── + ─────────────────────── + ─────(U(u, v)) - ───\n",
       "      ∂v                       2                         2              ∂v ∂u            ∂v \n",
       "                                                                                            \n",
       "                                                                                            \n",
       "                                                                                            \n",
       "                                                                                            \n",
       "                                                             0                              \n",
       "                                                                                            \n",
       "\n",
       "                                                                                            \n",
       "                                                                                            \n",
       "                                                                                            \n",
       "                                                                                            \n",
       "                                                                                            \n",
       "                                                                                            \n",
       "                                                                                            \n",
       "                                                                                            \n",
       "                                                                                            \n",
       "                                                                                            \n",
       "                                                                                            \n",
       "                                                                                            \n",
       "                                                                                            \n",
       "                                                                                            \n",
       "                                                                                            \n",
       "                                                                                            \n",
       "           ⎞                                                                                \n",
       "2          ⎟                                                                                \n",
       "           ⎟  M(u, v) - U(u, v) + V(u, v)                                                   \n",
       "──(V(u, v))⎟⋅ℯ                                                                              \n",
       "∂u         ⎠                                                                                \n",
       "                                                                                            \n",
       "                                           ⎛                            ∂           ∂       \n",
       "                                           ⎜                            ──(U(u, v))⋅──(V(u, \n",
       "                                           ⎜  ∂           ∂             ∂u          ∂v      \n",
       "                                           ⎜- ──(U(u, v))⋅──(U(u, v)) - ────────────────────\n",
       "                                           ⎝  ∂u          ∂v                       2        \n",
       "\n",
       "                                                                                            \n",
       "                                                                                            \n",
       "                                                                                            \n",
       "                                                                                            \n",
       "                     0                                                                      \n",
       "                                                                                            \n",
       "                                                                                            \n",
       "                                                                                            \n",
       "                                                                                            \n",
       "                                                                                            \n",
       "                                                                                            \n",
       "                                                                                            \n",
       "                     0                                                                      \n",
       "                                                                                            \n",
       "                                                                                            \n",
       "                                                                                            \n",
       "                                                                                            \n",
       "                                                                                            \n",
       "                                                                                            \n",
       "                     0                                                                      \n",
       "                                                                                            \n",
       "                                                                                            \n",
       "      ∂           ∂                                            ⎞                            \n",
       "v))   ──(U(u, v))⋅──(V(u, v))      2                2          ⎟                            \n",
       "      ∂v          ∂u              ∂                ∂           ⎟  M(u, v) - U(u, v) - V(u, v\n",
       "─── - ─────────────────────── + ─────(U(u, v)) + ─────(V(u, v))⎟⋅ℯ                          \n",
       "                 2              ∂v ∂u            ∂v ∂u         ⎠                            \n",
       "\n",
       " ⎤\n",
       " ⎥\n",
       " ⎥\n",
       " ⎥\n",
       " ⎥\n",
       " ⎥\n",
       " ⎥\n",
       " ⎥\n",
       " ⎥\n",
       " ⎥\n",
       " ⎥\n",
       " ⎥\n",
       " ⎥\n",
       " ⎥\n",
       " ⎥\n",
       " ⎥\n",
       " ⎥\n",
       " ⎥\n",
       " ⎥\n",
       " ⎥\n",
       " ⎥\n",
       " ⎥\n",
       " ⎥\n",
       " ⎥\n",
       ")⎥\n",
       " ⎥\n",
       " ⎦"
      ]
     },
     "execution_count": 18,
     "metadata": {},
     "output_type": "execute_result"
    }
   ],
   "source": [
    "Ric = RicciTensor.from_metric(metric)\n",
    "Ric.tensor()"
   ]
  },
  {
   "cell_type": "code",
   "execution_count": 19,
   "id": "13a54cfb",
   "metadata": {},
   "outputs": [
    {
     "data": {
      "image/png": "[encoded data removed]",
      "text/latex": [
       "$\\displaystyle \\left(3 \\frac{\\partial}{\\partial u} U{\\left(u,v \\right)} \\frac{\\partial}{\\partial v} U{\\left(u,v \\right)} + \\frac{\\partial}{\\partial u} V{\\left(u,v \\right)} \\frac{\\partial}{\\partial v} V{\\left(u,v \\right)} - 2 \\frac{\\partial^{2}}{\\partial v\\partial u} M{\\left(u,v \\right)} - 4 \\frac{\\partial^{2}}{\\partial v\\partial u} U{\\left(u,v \\right)}\\right) e^{M{\\left(u,v \\right)}}$"
      ],
      "text/plain": [
       "⎛                                                           2                  2          ⎞ \n",
       "⎜  ∂           ∂             ∂           ∂                 ∂                  ∂           ⎟ \n",
       "⎜3⋅──(U(u, v))⋅──(U(u, v)) + ──(V(u, v))⋅──(V(u, v)) - 2⋅─────(M(u, v)) - 4⋅─────(U(u, v))⎟⋅\n",
       "⎝  ∂u          ∂v            ∂u          ∂v              ∂v ∂u              ∂v ∂u         ⎠ \n",
       "\n",
       "        \n",
       " M(u, v)\n",
       "ℯ       \n",
       "        "
      ]
     },
     "execution_count": 19,
     "metadata": {},
     "output_type": "execute_result"
    }
   ],
   "source": [
    "R = RicciScalar.from_riccitensor(Ric)\n",
    "R.simplify()\n",
    "R.expr"
   ]
  },
  {
   "cell_type": "code",
   "execution_count": 20,
   "id": "f6917ee7",
   "metadata": {},
   "outputs": [
    {
     "data": {
      "text/latex": [
       "$\\displaystyle \\left[\\begin{matrix}\\frac{\\partial}{\\partial u} M{\\left(u,v \\right)} \\frac{\\partial}{\\partial u} U{\\left(u,v \\right)} - \\frac{\\left(\\frac{\\partial}{\\partial u} U{\\left(u,v \\right)}\\right)^{2}}{2} + \\frac{\\partial^{2}}{\\partial u^{2}} U{\\left(u,v \\right)} - \\frac{\\left(\\frac{\\partial}{\\partial u} V{\\left(u,v \\right)}\\right)^{2}}{2} & 1.0 \\frac{\\partial}{\\partial u} U{\\left(u,v \\right)} \\frac{\\partial}{\\partial v} U{\\left(u,v \\right)} - 1.0 \\frac{\\partial^{2}}{\\partial v\\partial u} U{\\left(u,v \\right)} & 0 & 0\\\\1.0 \\frac{\\partial}{\\partial u} U{\\left(u,v \\right)} \\frac{\\partial}{\\partial v} U{\\left(u,v \\right)} - 1.0 \\frac{\\partial^{2}}{\\partial v\\partial u} U{\\left(u,v \\right)} & \\frac{\\partial}{\\partial v} M{\\left(u,v \\right)} \\frac{\\partial}{\\partial v} U{\\left(u,v \\right)} - \\frac{\\left(\\frac{\\partial}{\\partial v} U{\\left(u,v \\right)}\\right)^{2}}{2} + \\frac{\\partial^{2}}{\\partial v^{2}} U{\\left(u,v \\right)} - \\frac{\\left(\\frac{\\partial}{\\partial v} V{\\left(u,v \\right)}\\right)^{2}}{2} & 0 & 0\\\\0 & 0 & 0.5 \\left(3 \\frac{\\partial}{\\partial u} U{\\left(u,v \\right)} \\frac{\\partial}{\\partial v} U{\\left(u,v \\right)} + \\frac{\\partial}{\\partial u} V{\\left(u,v \\right)} \\frac{\\partial}{\\partial v} V{\\left(u,v \\right)} - 2 \\frac{\\partial^{2}}{\\partial v\\partial u} M{\\left(u,v \\right)} - 4 \\frac{\\partial^{2}}{\\partial v\\partial u} U{\\left(u,v \\right)}\\right) e^{M{\\left(u,v \\right)}} e^{- U{\\left(u,v \\right)}} e^{V{\\left(u,v \\right)}} + \\left(- \\frac{\\partial}{\\partial u} U{\\left(u,v \\right)} \\frac{\\partial}{\\partial v} U{\\left(u,v \\right)} + \\frac{\\frac{\\partial}{\\partial u} U{\\left(u,v \\right)} \\frac{\\partial}{\\partial v} V{\\left(u,v \\right)}}{2} + \\frac{\\frac{\\partial}{\\partial v} U{\\left(u,v \\right)} \\frac{\\partial}{\\partial u} V{\\left(u,v \\right)}}{2} + \\frac{\\partial^{2}}{\\partial v\\partial u} U{\\left(u,v \\right)} - \\frac{\\partial^{2}}{\\partial v\\partial u} V{\\left(u,v \\right)}\\right) e^{M{\\left(u,v \\right)} - U{\\left(u,v \\right)} + V{\\left(u,v \\right)}} & 0\\\\0 & 0 & 0 & 0.5 \\left(3 \\frac{\\partial}{\\partial u} U{\\left(u,v \\right)} \\frac{\\partial}{\\partial v} U{\\left(u,v \\right)} + \\frac{\\partial}{\\partial u} V{\\left(u,v \\right)} \\frac{\\partial}{\\partial v} V{\\left(u,v \\right)} - 2 \\frac{\\partial^{2}}{\\partial v\\partial u} M{\\left(u,v \\right)} - 4 \\frac{\\partial^{2}}{\\partial v\\partial u} U{\\left(u,v \\right)}\\right) e^{M{\\left(u,v \\right)}} e^{- U{\\left(u,v \\right)}} e^{- V{\\left(u,v \\right)}} + \\left(- \\frac{\\partial}{\\partial u} U{\\left(u,v \\right)} \\frac{\\partial}{\\partial v} U{\\left(u,v \\right)} - \\frac{\\frac{\\partial}{\\partial u} U{\\left(u,v \\right)} \\frac{\\partial}{\\partial v} V{\\left(u,v \\right)}}{2} - \\frac{\\frac{\\partial}{\\partial v} U{\\left(u,v \\right)} \\frac{\\partial}{\\partial u} V{\\left(u,v \\right)}}{2} + \\frac{\\partial^{2}}{\\partial v\\partial u} U{\\left(u,v \\right)} + \\frac{\\partial^{2}}{\\partial v\\partial u} V{\\left(u,v \\right)}\\right) e^{M{\\left(u,v \\right)} - U{\\left(u,v \\right)} - V{\\left(u,v \\right)}}\\end{matrix}\\right]$"
      ],
      "text/plain": [
       "⎡                                       2                               2                   \n",
       "⎢                          ⎛∂          ⎞                   ⎛∂          ⎞                    \n",
       "⎢                          ⎜──(U(u, v))⎟      2            ⎜──(V(u, v))⎟                    \n",
       "⎢∂           ∂             ⎝∂u         ⎠     ∂             ⎝∂u         ⎠                    \n",
       "⎢──(M(u, v))⋅──(U(u, v)) - ────────────── + ───(U(u, v)) - ──────────────                1.0\n",
       "⎢∂u          ∂u                  2            2                  2                          \n",
       "⎢                                           ∂u                                              \n",
       "⎢                                                                                           \n",
       "⎢                                                                                           \n",
       "⎢                                                                                           \n",
       "⎢                                               2                                           \n",
       "⎢                  ∂           ∂               ∂                           ∂           ∂    \n",
       "⎢              1.0⋅──(U(u, v))⋅──(U(u, v)) - ─────(U(u, v))                ──(M(u, v))⋅──(U(\n",
       "⎢                  ∂u          ∂v            ∂v ∂u                         ∂v          ∂v   \n",
       "⎢                                                                                           \n",
       "⎢                                                                                           \n",
       "⎢                                                                                           \n",
       "⎢                                                                                           \n",
       "⎢                                                                                           \n",
       "⎢                                   0                                                       \n",
       "⎢                                                                                           \n",
       "⎢                                                                                           \n",
       "⎢                                                                                           \n",
       "⎢                                                                                           \n",
       "⎢                                                                                           \n",
       "⎢                                   0                                                       \n",
       "⎣                                                                                           \n",
       "\n",
       "                                                                                            \n",
       "                                                                                            \n",
       "                              2                                                             \n",
       " ∂           ∂               ∂                                                              \n",
       "⋅──(U(u, v))⋅──(U(u, v)) - ─────(U(u, v))                                                   \n",
       " ∂u          ∂v            ∂v ∂u                                                            \n",
       "                                                                                            \n",
       "                                                                                            \n",
       "                      2                               2                                     \n",
       "         ⎛∂          ⎞                   ⎛∂          ⎞                                      \n",
       "         ⎜──(U(u, v))⎟      2            ⎜──(V(u, v))⎟                                      \n",
       "         ⎝∂v         ⎠     ∂             ⎝∂v         ⎠                                      \n",
       "u, v)) - ────────────── + ───(U(u, v)) - ──────────────                                     \n",
       "               2            2                  2                                            \n",
       "                          ∂v                                                                \n",
       "                                                                                            \n",
       "                                                                                            \n",
       "                                                             ⎛                              \n",
       "                                                             ⎜  ∂           ∂             ∂ \n",
       "                  0                                      0.5⋅⎜3⋅──(U(u, v))⋅──(U(u, v)) + ──\n",
       "                                                             ⎝  ∂u          ∂v            ∂u\n",
       "                                                                                            \n",
       "                                                                                            \n",
       "                                                                                            \n",
       "                                                                                            \n",
       "                  0                                                                         \n",
       "                                                                                            \n",
       "\n",
       "                                                                                            \n",
       "                                                                                            \n",
       "                                                                                            \n",
       "                                                                                            \n",
       "                                                                                            \n",
       "                                                                                            \n",
       "                                                                                            \n",
       "                                                                                            \n",
       "                                                                                            \n",
       "                                                                                            \n",
       "                                                                                            \n",
       "                                                                                            \n",
       "                                                                                            \n",
       "                                                                                            \n",
       "                                                                                            \n",
       "                                                                                            \n",
       "                                                                                           ⎛\n",
       "                             2                  2          ⎞                               ⎜\n",
       "          ∂                 ∂                  ∂           ⎟  M(u, v)  -U(u, v)  V(u, v)   ⎜\n",
       "(V(u, v))⋅──(V(u, v)) - 2⋅─────(M(u, v)) - 4⋅─────(U(u, v))⎟⋅ℯ       ⋅ℯ        ⋅ℯ        + ⎜\n",
       "          ∂v              ∂v ∂u              ∂v ∂u         ⎠                               ⎝\n",
       "                                                                                            \n",
       "                                                                                            \n",
       "                                                                                            \n",
       "                                                                                            \n",
       "                                                                                            \n",
       "                                                                                            \n",
       "\n",
       "                                                                                            \n",
       "                                                                                            \n",
       "                                                                                            \n",
       "                                                                                            \n",
       "      0                                                                                     \n",
       "                                                                                            \n",
       "                                                                                            \n",
       "                                                                                            \n",
       "                                                                                            \n",
       "                                                                                            \n",
       "                                                                                            \n",
       "                                                                                            \n",
       "      0                                                                                     \n",
       "                                                                                            \n",
       "                                                                                            \n",
       "                                                                                            \n",
       "                            ∂           ∂             ∂           ∂                         \n",
       "                            ──(U(u, v))⋅──(V(u, v))   ──(U(u, v))⋅──(V(u, v))      2        \n",
       "  ∂           ∂             ∂u          ∂v            ∂v          ∂u              ∂         \n",
       "- ──(U(u, v))⋅──(U(u, v)) + ─────────────────────── + ─────────────────────── + ─────(U(u, v\n",
       "  ∂u          ∂v                       2                         2              ∂v ∂u       \n",
       "                                                                                            \n",
       "                                                                                            \n",
       "                                                                                            \n",
       "                                                                                            \n",
       "      0                                                                                     \n",
       "                                                                                            \n",
       "\n",
       "                                                                                            \n",
       "                                                                                            \n",
       "                                                                                            \n",
       "                                                                                            \n",
       "                                                                                            \n",
       "                                                                                            \n",
       "                                                                                            \n",
       "                                                                                            \n",
       "                                                                                            \n",
       "                                                                                            \n",
       "                                                                                            \n",
       "                                                                                            \n",
       "                                                                                            \n",
       "                                                                                            \n",
       "                                                                                            \n",
       "                                                                                            \n",
       "                   ⎞                                                                        \n",
       "        2          ⎟                                                                        \n",
       "       ∂           ⎟  M(u, v) - U(u, v) + V(u, v)                                           \n",
       ")) - ─────(V(u, v))⎟⋅ℯ                                                                      \n",
       "     ∂v ∂u         ⎠                                                                        \n",
       "                                                                                            \n",
       "                                                                                            \n",
       "                                                       ⎛                                    \n",
       "                                                       ⎜  ∂           ∂             ∂       \n",
       "                                                   0.5⋅⎜3⋅──(U(u, v))⋅──(U(u, v)) + ──(V(u, \n",
       "                                                       ⎝  ∂u          ∂v            ∂u      \n",
       "\n",
       "                                                                                            \n",
       "                                                                                            \n",
       "                                                                                            \n",
       "                                                                                            \n",
       "                                                                                            \n",
       "                                                                                            \n",
       "                                                                                            \n",
       "                                                                                            \n",
       "                                                                                            \n",
       "                                                                                            \n",
       "                                                                                            \n",
       "                                                                                            \n",
       "                                                                                            \n",
       "                                                                                            \n",
       "                                                                                            \n",
       "                                                                                            \n",
       "                                                                                            \n",
       "                                                                                            \n",
       "                                                                                            \n",
       "                                                                                            \n",
       "                                                                                            \n",
       "                                                                                            \n",
       "                                                                                      ⎛     \n",
       "                       2                  2          ⎞                                ⎜     \n",
       "    ∂                 ∂                  ∂           ⎟  M(u, v)  -U(u, v)  -V(u, v)   ⎜  ∂  \n",
       "v))⋅──(V(u, v)) - 2⋅─────(M(u, v)) - 4⋅─────(U(u, v))⎟⋅ℯ       ⋅ℯ        ⋅ℯ         + ⎜- ──(\n",
       "    ∂v              ∂v ∂u              ∂v ∂u         ⎠                                ⎝  ∂u \n",
       "\n",
       "                                                                                            \n",
       "                                                                                            \n",
       "                                                                                            \n",
       "                                                                                            \n",
       " 0                                                                                          \n",
       "                                                                                            \n",
       "                                                                                            \n",
       "                                                                                            \n",
       "                                                                                            \n",
       "                                                                                            \n",
       "                                                                                            \n",
       "                                                                                            \n",
       " 0                                                                                          \n",
       "                                                                                            \n",
       "                                                                                            \n",
       "                                                                                            \n",
       "                                                                                            \n",
       "                                                                                            \n",
       "                                                                                            \n",
       " 0                                                                                          \n",
       "                                                                                            \n",
       "                                                                                            \n",
       "                       ∂           ∂             ∂           ∂                              \n",
       "                       ──(U(u, v))⋅──(V(u, v))   ──(U(u, v))⋅──(V(u, v))      2             \n",
       "         ∂             ∂u          ∂v            ∂v          ∂u              ∂              \n",
       "U(u, v))⋅──(U(u, v)) - ─────────────────────── - ─────────────────────── + ─────(U(u, v)) + \n",
       "         ∂v                       2                         2              ∂v ∂u            \n",
       "\n",
       "                                            ⎤\n",
       "                                            ⎥\n",
       "                                            ⎥\n",
       "                                            ⎥\n",
       "                                            ⎥\n",
       "                                            ⎥\n",
       "                                            ⎥\n",
       "                                            ⎥\n",
       "                                            ⎥\n",
       "                                            ⎥\n",
       "                                            ⎥\n",
       "                                            ⎥\n",
       "                                            ⎥\n",
       "                                            ⎥\n",
       "                                            ⎥\n",
       "                                            ⎥\n",
       "                                            ⎥\n",
       "                                            ⎥\n",
       "                                            ⎥\n",
       "                                            ⎥\n",
       "                                            ⎥\n",
       "                                            ⎥\n",
       "              ⎞                             ⎥\n",
       "   2          ⎟                             ⎥\n",
       "  ∂           ⎟  M(u, v) - U(u, v) - V(u, v)⎥\n",
       "─────(V(u, v))⎟⋅ℯ                           ⎥\n",
       "∂v ∂u         ⎠                             ⎦"
      ]
     },
     "execution_count": 20,
     "metadata": {},
     "output_type": "execute_result"
    }
   ],
   "source": [
    "einst = EinsteinTensor.from_metric(metric)\n",
    "einst.tensor()"
   ]
  },
  {
   "cell_type": "code",
   "execution_count": 21,
   "id": "9b90354e",
   "metadata": {},
   "outputs": [],
   "source": [
    "#  rm1 = RiemannCurvatureTensor.from_christoffels(ch)\n",
    "#  rm1.tensor()"
   ]
  },
  {
   "cell_type": "code",
   "execution_count": 22,
   "id": "7baf5dad",
   "metadata": {},
   "outputs": [],
   "source": [
    "#  weyl = WeylTensor.from_metric(metric)\n",
    "#  weyl.tensor()"
   ]
  },
  {
   "cell_type": "code",
   "execution_count": 23,
   "id": "dd892a91",
   "metadata": {},
   "outputs": [
    {
     "data": {
      "text/latex": [
       "$\\displaystyle \\left[\\begin{matrix}\\frac{\\partial}{\\partial u} M{\\left(u,v \\right)} \\frac{\\partial}{\\partial u} U{\\left(u,v \\right)} - \\frac{\\left(\\frac{\\partial}{\\partial u} U{\\left(u,v \\right)}\\right)^{2}}{2} + \\frac{\\partial^{2}}{\\partial u^{2}} U{\\left(u,v \\right)} - \\frac{\\left(\\frac{\\partial}{\\partial u} V{\\left(u,v \\right)}\\right)^{2}}{2} & - \\frac{\\frac{\\partial}{\\partial u} U{\\left(u,v \\right)} \\frac{\\partial}{\\partial v} U{\\left(u,v \\right)}}{2} - \\frac{\\frac{\\partial}{\\partial u} V{\\left(u,v \\right)} \\frac{\\partial}{\\partial v} V{\\left(u,v \\right)}}{2} + \\frac{\\partial^{2}}{\\partial v\\partial u} M{\\left(u,v \\right)} + \\frac{\\partial^{2}}{\\partial v\\partial u} U{\\left(u,v \\right)} & 0 & 0\\\\- \\frac{\\frac{\\partial}{\\partial u} U{\\left(u,v \\right)} \\frac{\\partial}{\\partial v} U{\\left(u,v \\right)}}{2} - \\frac{\\frac{\\partial}{\\partial u} V{\\left(u,v \\right)} \\frac{\\partial}{\\partial v} V{\\left(u,v \\right)}}{2} + \\frac{\\partial^{2}}{\\partial v\\partial u} M{\\left(u,v \\right)} + \\frac{\\partial^{2}}{\\partial v\\partial u} U{\\left(u,v \\right)} & \\frac{\\partial}{\\partial v} M{\\left(u,v \\right)} \\frac{\\partial}{\\partial v} U{\\left(u,v \\right)} - \\frac{\\left(\\frac{\\partial}{\\partial v} U{\\left(u,v \\right)}\\right)^{2}}{2} + \\frac{\\partial^{2}}{\\partial v^{2}} U{\\left(u,v \\right)} - \\frac{\\left(\\frac{\\partial}{\\partial v} V{\\left(u,v \\right)}\\right)^{2}}{2} & 0 & 0\\\\0 & 0 & \\left(- \\frac{\\partial}{\\partial u} U{\\left(u,v \\right)} \\frac{\\partial}{\\partial v} U{\\left(u,v \\right)} + \\frac{\\frac{\\partial}{\\partial u} U{\\left(u,v \\right)} \\frac{\\partial}{\\partial v} V{\\left(u,v \\right)}}{2} + \\frac{\\frac{\\partial}{\\partial v} U{\\left(u,v \\right)} \\frac{\\partial}{\\partial u} V{\\left(u,v \\right)}}{2} + \\frac{\\partial^{2}}{\\partial v\\partial u} U{\\left(u,v \\right)} - \\frac{\\partial^{2}}{\\partial v\\partial u} V{\\left(u,v \\right)}\\right) e^{M{\\left(u,v \\right)} - U{\\left(u,v \\right)} + V{\\left(u,v \\right)}} & 0\\\\0 & 0 & 0 & \\left(- \\frac{\\partial}{\\partial u} U{\\left(u,v \\right)} \\frac{\\partial}{\\partial v} U{\\left(u,v \\right)} - \\frac{\\frac{\\partial}{\\partial u} U{\\left(u,v \\right)} \\frac{\\partial}{\\partial v} V{\\left(u,v \\right)}}{2} - \\frac{\\frac{\\partial}{\\partial v} U{\\left(u,v \\right)} \\frac{\\partial}{\\partial u} V{\\left(u,v \\right)}}{2} + \\frac{\\partial^{2}}{\\partial v\\partial u} U{\\left(u,v \\right)} + \\frac{\\partial^{2}}{\\partial v\\partial u} V{\\left(u,v \\right)}\\right) e^{M{\\left(u,v \\right)} - U{\\left(u,v \\right)} - V{\\left(u,v \\right)}}\\end{matrix}\\right]$"
      ],
      "text/plain": [
       "⎡                                             2                               2             \n",
       "⎢                                ⎛∂          ⎞                   ⎛∂          ⎞            ∂ \n",
       "⎢                                ⎜──(U(u, v))⎟      2            ⎜──(V(u, v))⎟            ──\n",
       "⎢      ∂           ∂             ⎝∂u         ⎠     ∂             ⎝∂u         ⎠            ∂u\n",
       "⎢      ──(M(u, v))⋅──(U(u, v)) - ────────────── + ───(U(u, v)) - ──────────────         - ──\n",
       "⎢      ∂u          ∂u                  2            2                  2                    \n",
       "⎢                                                 ∂u                                        \n",
       "⎢                                                                                           \n",
       "⎢                                                                                           \n",
       "⎢  ∂           ∂             ∂           ∂                                                  \n",
       "⎢  ──(U(u, v))⋅──(U(u, v))   ──(V(u, v))⋅──(V(u, v))      2                2                \n",
       "⎢  ∂u          ∂v            ∂u          ∂v              ∂                ∂                 \n",
       "⎢- ─────────────────────── - ─────────────────────── + ─────(M(u, v)) + ─────(U(u, v))      \n",
       "⎢             2                         2              ∂v ∂u            ∂v ∂u               \n",
       "⎢                                                                                           \n",
       "⎢                                                                                           \n",
       "⎢                                                                                           \n",
       "⎢                                                                                           \n",
       "⎢                                                                                           \n",
       "⎢                                          0                                                \n",
       "⎢                                                                                           \n",
       "⎢                                                                                           \n",
       "⎢                                                                                           \n",
       "⎢                                                                                           \n",
       "⎢                                                                                           \n",
       "⎢                                          0                                                \n",
       "⎣                                                                                           \n",
       "\n",
       "                                                                                            \n",
       "          ∂             ∂           ∂                                                       \n",
       "(U(u, v))⋅──(U(u, v))   ──(V(u, v))⋅──(V(u, v))      2                2                     \n",
       "          ∂v            ∂u          ∂v              ∂                ∂                      \n",
       "───────────────────── - ─────────────────────── + ─────(M(u, v)) + ─────(U(u, v))           \n",
       "         2                         2              ∂v ∂u            ∂v ∂u                    \n",
       "                                                                                            \n",
       "                                                                                            \n",
       "                                         2                               2                  \n",
       "                            ⎛∂          ⎞                   ⎛∂          ⎞                   \n",
       "                            ⎜──(U(u, v))⎟      2            ⎜──(V(u, v))⎟                   \n",
       "  ∂           ∂             ⎝∂v         ⎠     ∂             ⎝∂v         ⎠                   \n",
       "  ──(M(u, v))⋅──(U(u, v)) - ────────────── + ───(U(u, v)) - ──────────────                  \n",
       "  ∂v          ∂v                  2            2                  2                         \n",
       "                                             ∂v                                             \n",
       "                                                                                            \n",
       "                                                                                   ⎛        \n",
       "                                                                                   ⎜        \n",
       "                                                                                   ⎜  ∂     \n",
       "                                      0                                            ⎜- ──(U(u\n",
       "                                                                                   ⎝  ∂u    \n",
       "                                                                                            \n",
       "                                                                                            \n",
       "                                                                                            \n",
       "                                                                                            \n",
       "                                      0                                                     \n",
       "                                                                                            \n",
       "\n",
       "                                                                                            \n",
       "                                                                                            \n",
       "                                                                                            \n",
       "                                                                                            \n",
       "                                                             0                              \n",
       "                                                                                            \n",
       "                                                                                            \n",
       "                                                                                            \n",
       "                                                                                            \n",
       "                                                                                            \n",
       "                                                                                            \n",
       "                                                                                            \n",
       "                                                             0                              \n",
       "                                                                                            \n",
       "                                                                                            \n",
       "                                                                                            \n",
       "                    ∂           ∂             ∂           ∂                                 \n",
       "                    ──(U(u, v))⋅──(V(u, v))   ──(U(u, v))⋅──(V(u, v))      2                \n",
       "      ∂             ∂u          ∂v            ∂v          ∂u              ∂                ∂\n",
       ", v))⋅──(U(u, v)) + ─────────────────────── + ─────────────────────── + ─────(U(u, v)) - ───\n",
       "      ∂v                       2                         2              ∂v ∂u            ∂v \n",
       "                                                                                            \n",
       "                                                                                            \n",
       "                                                                                            \n",
       "                                                                                            \n",
       "                                                             0                              \n",
       "                                                                                            \n",
       "\n",
       "                                                                                            \n",
       "                                                                                            \n",
       "                                                                                            \n",
       "                                                                                            \n",
       "                                                                                            \n",
       "                                                                                            \n",
       "                                                                                            \n",
       "                                                                                            \n",
       "                                                                                            \n",
       "                                                                                            \n",
       "                                                                                            \n",
       "                                                                                            \n",
       "                                                                                            \n",
       "                                                                                            \n",
       "                                                                                            \n",
       "                                                                                            \n",
       "           ⎞                                                                                \n",
       "2          ⎟                                                                                \n",
       "           ⎟  M(u, v) - U(u, v) + V(u, v)                                                   \n",
       "──(V(u, v))⎟⋅ℯ                                                                              \n",
       "∂u         ⎠                                                                                \n",
       "                                                                                            \n",
       "                                           ⎛                            ∂           ∂       \n",
       "                                           ⎜                            ──(U(u, v))⋅──(V(u, \n",
       "                                           ⎜  ∂           ∂             ∂u          ∂v      \n",
       "                                           ⎜- ──(U(u, v))⋅──(U(u, v)) - ────────────────────\n",
       "                                           ⎝  ∂u          ∂v                       2        \n",
       "\n",
       "                                                                                            \n",
       "                                                                                            \n",
       "                                                                                            \n",
       "                                                                                            \n",
       "                     0                                                                      \n",
       "                                                                                            \n",
       "                                                                                            \n",
       "                                                                                            \n",
       "                                                                                            \n",
       "                                                                                            \n",
       "                                                                                            \n",
       "                                                                                            \n",
       "                     0                                                                      \n",
       "                                                                                            \n",
       "                                                                                            \n",
       "                                                                                            \n",
       "                                                                                            \n",
       "                                                                                            \n",
       "                                                                                            \n",
       "                     0                                                                      \n",
       "                                                                                            \n",
       "                                                                                            \n",
       "      ∂           ∂                                            ⎞                            \n",
       "v))   ──(U(u, v))⋅──(V(u, v))      2                2          ⎟                            \n",
       "      ∂v          ∂u              ∂                ∂           ⎟  M(u, v) - U(u, v) - V(u, v\n",
       "─── - ─────────────────────── + ─────(U(u, v)) + ─────(V(u, v))⎟⋅ℯ                          \n",
       "                 2              ∂v ∂u            ∂v ∂u         ⎠                            \n",
       "\n",
       " ⎤\n",
       " ⎥\n",
       " ⎥\n",
       " ⎥\n",
       " ⎥\n",
       " ⎥\n",
       " ⎥\n",
       " ⎥\n",
       " ⎥\n",
       " ⎥\n",
       " ⎥\n",
       " ⎥\n",
       " ⎥\n",
       " ⎥\n",
       " ⎥\n",
       " ⎥\n",
       " ⎥\n",
       " ⎥\n",
       " ⎥\n",
       " ⎥\n",
       " ⎥\n",
       " ⎥\n",
       " ⎥\n",
       " ⎥\n",
       ")⎥\n",
       " ⎥\n",
       " ⎦"
      ]
     },
     "execution_count": 23,
     "metadata": {},
     "output_type": "execute_result"
    }
   ],
   "source": [
    "ricciSimplified = simplify(Ric.tensor())\n",
    "ricciSimplified"
   ]
  },
  {
   "cell_type": "code",
   "execution_count": 58,
   "id": "b999f428",
   "metadata": {},
   "outputs": [
    {
     "data": {
      "image/png": "[encoded data removed]",
      "text/latex": [
       "$\\displaystyle \\frac{\\partial^{2}}{\\partial v\\partial u} U{\\left(u,v \\right)} = \\frac{\\partial}{\\partial u} U{\\left(u,v \\right)} \\frac{\\partial}{\\partial v} U{\\left(u,v \\right)}$"
      ],
      "text/plain": [
       "   2                                    \n",
       "  ∂              ∂           ∂          \n",
       "─────(U(u, v)) = ──(U(u, v))⋅──(U(u, v))\n",
       "∂v ∂u            ∂u          ∂v         "
      ]
     },
     "execution_count": 58,
     "metadata": {},
     "output_type": "execute_result"
    }
   ],
   "source": [
    "fieldEquation1 = Eq(diff(U,u,v),solve( einst.tensor()[1,0] , diff(U,u,v) )[0])\n",
    "fieldEquation1"
   ]
  },
  {
   "cell_type": "code",
   "execution_count": 59,
   "id": "90993923",
   "metadata": {},
   "outputs": [
    {
     "data": {
      "image/png": "[encoded data removed]",
      "text/latex": [
       "$\\displaystyle 2 \\frac{\\partial^{2}}{\\partial v\\partial u} V{\\left(u,v \\right)} = \\frac{\\partial}{\\partial u} U{\\left(u,v \\right)} \\frac{\\partial}{\\partial v} V{\\left(u,v \\right)} + \\frac{\\partial}{\\partial v} U{\\left(u,v \\right)} \\frac{\\partial}{\\partial u} V{\\left(u,v \\right)}$"
      ],
      "text/plain": [
       "     2                                                              \n",
       "    ∂              ∂           ∂             ∂           ∂          \n",
       "2⋅─────(V(u, v)) = ──(U(u, v))⋅──(V(u, v)) + ──(U(u, v))⋅──(V(u, v))\n",
       "  ∂v ∂u            ∂u          ∂v            ∂v          ∂u         "
      ]
     },
     "execution_count": 59,
     "metadata": {},
     "output_type": "execute_result"
    }
   ],
   "source": [
    "fieldEquation2 = Eq(2*diff(V,u,v),2*solve( ( einst.tensor()[3,3].args[0].args[0] - einst.tensor()[2,2].args[0].args[0] ), diff(V,u,v) )[0])\n",
    "fieldEquation2"
   ]
  },
  {
   "cell_type": "code",
   "execution_count": 60,
   "id": "4c8cfe5c",
   "metadata": {},
   "outputs": [
    {
     "data": {
      "image/png": "[encoded data removed]",
      "text/latex": [
       "$\\displaystyle 2 \\frac{\\partial^{2}}{\\partial u^{2}} U{\\left(u,v \\right)} = - 2 \\frac{\\partial}{\\partial u} M{\\left(u,v \\right)} \\frac{\\partial}{\\partial u} U{\\left(u,v \\right)} + \\left(\\frac{\\partial}{\\partial u} U{\\left(u,v \\right)}\\right)^{2} + \\left(\\frac{\\partial}{\\partial u} V{\\left(u,v \\right)}\\right)^{2}$"
      ],
      "text/plain": [
       "    2                                                       2                2\n",
       "   ∂                 ∂           ∂             ⎛∂          ⎞    ⎛∂          ⎞ \n",
       "2⋅───(U(u, v)) = - 2⋅──(M(u, v))⋅──(U(u, v)) + ⎜──(U(u, v))⎟  + ⎜──(V(u, v))⎟ \n",
       "    2                ∂u          ∂u            ⎝∂u         ⎠    ⎝∂u         ⎠ \n",
       "  ∂u                                                                          "
      ]
     },
     "execution_count": 60,
     "metadata": {},
     "output_type": "execute_result"
    }
   ],
   "source": [
    "fieldEquation3 = Eq(2*diff(U,u,u),2*solve( einst.tensor()[0,0], diff(U,u,u) )[0])\n",
    "fieldEquation3"
   ]
  },
  {
   "cell_type": "code",
   "execution_count": 61,
   "id": "dc0eb81f",
   "metadata": {},
   "outputs": [
    {
     "data": {
      "image/png": "[encoded data removed]",
      "text/latex": [
       "$\\displaystyle 2 \\frac{\\partial^{2}}{\\partial v^{2}} U{\\left(u,v \\right)} = - 2 \\frac{\\partial}{\\partial v} M{\\left(u,v \\right)} \\frac{\\partial}{\\partial v} U{\\left(u,v \\right)} + \\left(\\frac{\\partial}{\\partial v} U{\\left(u,v \\right)}\\right)^{2} + \\left(\\frac{\\partial}{\\partial v} V{\\left(u,v \\right)}\\right)^{2}$"
      ],
      "text/plain": [
       "    2                                                       2                2\n",
       "   ∂                 ∂           ∂             ⎛∂          ⎞    ⎛∂          ⎞ \n",
       "2⋅───(U(u, v)) = - 2⋅──(M(u, v))⋅──(U(u, v)) + ⎜──(U(u, v))⎟  + ⎜──(V(u, v))⎟ \n",
       "    2                ∂v          ∂v            ⎝∂v         ⎠    ⎝∂v         ⎠ \n",
       "  ∂v                                                                          "
      ]
     },
     "execution_count": 61,
     "metadata": {},
     "output_type": "execute_result"
    }
   ],
   "source": [
    "fieldEquation4 = Eq(2*diff(U,v,v),2*solve( einst.tensor()[1,1], diff(U,v,v) )[0]) \n",
    "fieldEquation4"
   ]
  },
  {
   "cell_type": "code",
   "execution_count": 67,
   "id": "dab97253",
   "metadata": {},
   "outputs": [
    {
     "data": {
      "image/png": "[encoded data removed]",
      "text/latex": [
       "$\\displaystyle 2 \\frac{\\partial^{2}}{\\partial v\\partial u} M{\\left(u,v \\right)} = - \\frac{\\partial}{\\partial u} U{\\left(u,v \\right)} \\frac{\\partial}{\\partial v} U{\\left(u,v \\right)} + \\frac{\\partial}{\\partial u} V{\\left(u,v \\right)} \\frac{\\partial}{\\partial v} V{\\left(u,v \\right)}$"
      ],
      "text/plain": [
       "     2                                                                \n",
       "    ∂                ∂           ∂             ∂           ∂          \n",
       "2⋅─────(M(u, v)) = - ──(U(u, v))⋅──(U(u, v)) + ──(V(u, v))⋅──(V(u, v))\n",
       "  ∂v ∂u              ∂u          ∂v            ∂u          ∂v         "
      ]
     },
     "execution_count": 67,
     "metadata": {},
     "output_type": "execute_result"
    }
   ],
   "source": [
    "fieldEquation5 = Eq(2*diff(M,u,v),2*solve(( einst.tensor()[2,2].args[1].args[1] + einst.tensor()[3,3].args[1].args[1] ) , diff(M,u,v) )[0] ).subs(fieldEquation1.args[0],fieldEquation1.args[1])\n",
    "fieldEquation5"
   ]
  },
  {
   "cell_type": "code",
   "execution_count": 69,
   "id": "187db786",
   "metadata": {},
   "outputs": [
    {
     "data": {
      "text/latex": [
       "$\\displaystyle \\left[\\begin{matrix}\\frac{\\partial^{2}}{\\partial v\\partial u} U{\\left(u,v \\right)} = \\frac{\\partial}{\\partial u} U{\\left(u,v \\right)} \\frac{\\partial}{\\partial v} U{\\left(u,v \\right)}\\\\2 \\frac{\\partial^{2}}{\\partial v\\partial u} V{\\left(u,v \\right)} = \\frac{\\partial}{\\partial u} U{\\left(u,v \\right)} \\frac{\\partial}{\\partial v} V{\\left(u,v \\right)} + \\frac{\\partial}{\\partial v} U{\\left(u,v \\right)} \\frac{\\partial}{\\partial u} V{\\left(u,v \\right)}\\\\2 \\frac{\\partial^{2}}{\\partial u^{2}} U{\\left(u,v \\right)} = - 2 \\frac{\\partial}{\\partial u} M{\\left(u,v \\right)} \\frac{\\partial}{\\partial u} U{\\left(u,v \\right)} + \\left(\\frac{\\partial}{\\partial u} U{\\left(u,v \\right)}\\right)^{2} + \\left(\\frac{\\partial}{\\partial u} V{\\left(u,v \\right)}\\right)^{2}\\\\2 \\frac{\\partial^{2}}{\\partial v^{2}} U{\\left(u,v \\right)} = - 2 \\frac{\\partial}{\\partial v} M{\\left(u,v \\right)} \\frac{\\partial}{\\partial v} U{\\left(u,v \\right)} + \\left(\\frac{\\partial}{\\partial v} U{\\left(u,v \\right)}\\right)^{2} + \\left(\\frac{\\partial}{\\partial v} V{\\left(u,v \\right)}\\right)^{2}\\\\2 \\frac{\\partial^{2}}{\\partial v\\partial u} M{\\left(u,v \\right)} = - \\frac{\\partial}{\\partial u} U{\\left(u,v \\right)} \\frac{\\partial}{\\partial v} U{\\left(u,v \\right)} + \\frac{\\partial}{\\partial u} V{\\left(u,v \\right)} \\frac{\\partial}{\\partial v} V{\\left(u,v \\right)}\\end{matrix}\\right]$"
      ],
      "text/plain": [
       "⎡                      2                                                       ⎤\n",
       "⎢                     ∂              ∂           ∂                             ⎥\n",
       "⎢                   ─────(U(u, v)) = ──(U(u, v))⋅──(U(u, v))                   ⎥\n",
       "⎢                   ∂v ∂u            ∂u          ∂v                            ⎥\n",
       "⎢                                                                              ⎥\n",
       "⎢          2                                                                   ⎥\n",
       "⎢         ∂              ∂           ∂             ∂           ∂               ⎥\n",
       "⎢     2⋅─────(V(u, v)) = ──(U(u, v))⋅──(V(u, v)) + ──(U(u, v))⋅──(V(u, v))     ⎥\n",
       "⎢       ∂v ∂u            ∂u          ∂v            ∂v          ∂u              ⎥\n",
       "⎢                                                                              ⎥\n",
       "⎢    2                                                       2                2⎥\n",
       "⎢   ∂                 ∂           ∂             ⎛∂          ⎞    ⎛∂          ⎞ ⎥\n",
       "⎢2⋅───(U(u, v)) = - 2⋅──(M(u, v))⋅──(U(u, v)) + ⎜──(U(u, v))⎟  + ⎜──(V(u, v))⎟ ⎥\n",
       "⎢    2                ∂u          ∂u            ⎝∂u         ⎠    ⎝∂u         ⎠ ⎥\n",
       "⎢  ∂u                                                                          ⎥\n",
       "⎢                                                                              ⎥\n",
       "⎢    2                                                       2                2⎥\n",
       "⎢   ∂                 ∂           ∂             ⎛∂          ⎞    ⎛∂          ⎞ ⎥\n",
       "⎢2⋅───(U(u, v)) = - 2⋅──(M(u, v))⋅──(U(u, v)) + ⎜──(U(u, v))⎟  + ⎜──(V(u, v))⎟ ⎥\n",
       "⎢    2                ∂v          ∂v            ⎝∂v         ⎠    ⎝∂v         ⎠ ⎥\n",
       "⎢  ∂v                                                                          ⎥\n",
       "⎢                                                                              ⎥\n",
       "⎢         2                                                                    ⎥\n",
       "⎢        ∂                ∂           ∂             ∂           ∂              ⎥\n",
       "⎢    2⋅─────(M(u, v)) = - ──(U(u, v))⋅──(U(u, v)) + ──(V(u, v))⋅──(V(u, v))    ⎥\n",
       "⎣      ∂v ∂u              ∂u          ∂v            ∂u          ∂v             ⎦"
      ]
     },
     "execution_count": 69,
     "metadata": {},
     "output_type": "execute_result"
    }
   ],
   "source": [
    "vacuumFieldEquations = Matrix([fieldEquation1,fieldEquation2,fieldEquation3,fieldEquation4,fieldEquation5])\n",
    "vacuumFieldEquations"
   ]
  },
  {
   "cell_type": "code",
   "execution_count": null,
   "id": "0adb6b12",
   "metadata": {},
   "outputs": [],
   "source": []
  }
 ],
 "metadata": {
  "@webio": {
   "lastCommId": "59f1bdec9dc642eea5c49ba084541b45",
   "lastKernelId": "b081c02c-39fd-4157-9ace-65e60b88d9af"
  },
  "kernelspec": {
   "display_name": "Python 3 (ipykernel)",
   "language": "python",
   "name": "python3"
  },
  "language_info": {
   "codemirror_mode": {
    "name": "ipython",
    "version": 3
   },
   "file_extension": ".py",
   "mimetype": "text/x-python",
   "name": "python",
   "nbconvert_exporter": "python",
   "pygments_lexer": "ipython3",
   "version": "3.8.8"
  }
 },
 "nbformat": 4,
 "nbformat_minor": 5
}
