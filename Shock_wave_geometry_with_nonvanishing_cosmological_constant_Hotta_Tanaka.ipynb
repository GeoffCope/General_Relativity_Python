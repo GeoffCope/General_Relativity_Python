{
 "cells": [
  {
   "cell_type": "markdown",
   "id": "9de4ccfe",
   "metadata": {},
   "source": [
    "# Shock-wave geometry with nonvanishing cosmological constant by Hotta and Tanaka\n",
    "##  Geoff Cope\n",
    "##  Univeristy of Utah\n",
    "##  𐐏𐐭𐑌𐐲𐑂𐐲𐑉𐑅𐐮𐐻𐐨 𐐲𐑂 𐐏𐐭𐐻𐐫\n",
    "##  January 24, 2022"
   ]
  },
  {
   "cell_type": "markdown",
   "id": "c29a08ea",
   "metadata": {},
   "source": [
    "https://iopscience.iop.org/article/10.1088/0264-9381/10/2/012/meta"
   ]
  },
  {
   "cell_type": "code",
   "execution_count": 1,
   "id": "c3dca667",
   "metadata": {},
   "outputs": [
    {
     "name": "stdout",
     "output_type": "stream",
     "text": [
      "IPython console for SymPy 1.9 (Python 3.8.8-64-bit) (ground types: gmpy)\n",
      "\n",
      "These commands were executed:\n",
      ">>> from __future__ import division\n",
      ">>> from sympy import *\n",
      ">>> x, y, z, t = symbols('x y z t')\n",
      ">>> k, m, n = symbols('k m n', integer=True)\n",
      ">>> f, g, h = symbols('f g h', cls=Function)\n",
      ">>> init_printing()\n",
      "\n",
      "Documentation can be found at https://docs.sympy.org/1.9/\n",
      "\n"
     ]
    }
   ],
   "source": [
    "from sympy import init_session\n",
    "init_session(use_latex=True)"
   ]
  },
  {
   "cell_type": "code",
   "execution_count": 2,
   "id": "20d55696",
   "metadata": {},
   "outputs": [],
   "source": [
    "import warnings\n",
    "import matplotlib.cbook\n",
    "warnings.filterwarnings(\"ignore\",category=matplotlib.cbook.mplDeprecation)"
   ]
  },
  {
   "cell_type": "code",
   "execution_count": 8,
   "id": "16fa7f86",
   "metadata": {},
   "outputs": [],
   "source": [
    "a,t,r,theta,phi,Z0,Z1,Z2,Z3,Z4 = symbols('a t r theta phi Z_0 Z_1 Z_2 Z_3 Z_4')"
   ]
  },
  {
   "cell_type": "code",
   "execution_count": 25,
   "id": "77c2e707",
   "metadata": {},
   "outputs": [
    {
     "data": {
      "image/png": "[encoded data removed]",
      "text/latex": [
       "$\\displaystyle a^{2} = - Z_{0}^{2} + Z_{1}^{2} + Z_{2}^{2} + Z_{3}^{2} + Z_{4}^{2}$"
      ],
      "text/plain": [
       " 2       2     2     2     2     2\n",
       "a  = - Z₀  + Z₁  + Z₂  + Z₃  + Z₄ "
      ]
     },
     "execution_count": 25,
     "metadata": {},
     "output_type": "execute_result"
    }
   ],
   "source": [
    "equation2 = Eq(a**2, - Z0**2 + Z1**2 + Z2**2 + Z3**2 + Z4**2 )\n",
    "equation2"
   ]
  },
  {
   "cell_type": "code",
   "execution_count": 18,
   "id": "72cb36c9",
   "metadata": {},
   "outputs": [
    {
     "data": {
      "image/png": "[encoded data removed]",
      "text/latex": [
       "$\\displaystyle Z_{0} = \\sqrt{a^{2} - r^{2}} \\sinh{\\left(\\frac{t}{a} \\right)}$"
      ],
      "text/plain": [
       "        _________        \n",
       "       ╱  2    2      ⎛t⎞\n",
       "Z₀ = ╲╱  a  - r  ⋅sinh⎜─⎟\n",
       "                      ⎝a⎠"
      ]
     },
     "execution_count": 18,
     "metadata": {},
     "output_type": "execute_result"
    }
   ],
   "source": [
    "equation4 = Eq(Z0,sqrt(a**2-r**2) * sinh(t/a) ) \n",
    "equation4"
   ]
  },
  {
   "cell_type": "code",
   "execution_count": 19,
   "id": "24f496cd",
   "metadata": {},
   "outputs": [
    {
     "data": {
      "image/png": "[encoded data removed]",
      "text/latex": [
       "$\\displaystyle Z_{4} = \\sqrt{a^{2} - r^{2}} \\cosh{\\left(\\frac{t}{a} \\right)}$"
      ],
      "text/plain": [
       "        _________        \n",
       "       ╱  2    2      ⎛t⎞\n",
       "Z₄ = ╲╱  a  - r  ⋅cosh⎜─⎟\n",
       "                      ⎝a⎠"
      ]
     },
     "execution_count": 19,
     "metadata": {},
     "output_type": "execute_result"
    }
   ],
   "source": [
    "equation5 = Eq(Z4,sqrt(a**2-r**2) * cosh(t/a) ) \n",
    "equation5 "
   ]
  },
  {
   "cell_type": "code",
   "execution_count": 20,
   "id": "44ef96df",
   "metadata": {},
   "outputs": [
    {
     "data": {
      "image/png": "[encoded data removed]",
      "text/latex": [
       "$\\displaystyle Z_{1} = r \\cos{\\left(\\theta \\right)}$"
      ],
      "text/plain": [
       "Z₁ = r⋅cos(θ)"
      ]
     },
     "execution_count": 20,
     "metadata": {},
     "output_type": "execute_result"
    }
   ],
   "source": [
    "equation6 = Eq(Z1, r*cos(theta) ) \n",
    "equation6"
   ]
  },
  {
   "cell_type": "code",
   "execution_count": 21,
   "id": "a031d779",
   "metadata": {},
   "outputs": [
    {
     "data": {
      "image/png": "[encoded data removed]",
      "text/latex": [
       "$\\displaystyle Z_{2} = r \\sin{\\left(\\theta \\right)} \\cos{\\left(\\phi \\right)}$"
      ],
      "text/plain": [
       "Z₂ = r⋅sin(θ)⋅cos(φ)"
      ]
     },
     "execution_count": 21,
     "metadata": {},
     "output_type": "execute_result"
    }
   ],
   "source": [
    "equation7 = Eq(Z2, r*sin(theta) * cos(phi) )\n",
    "equation7"
   ]
  },
  {
   "cell_type": "code",
   "execution_count": 22,
   "id": "3a33f733",
   "metadata": {},
   "outputs": [
    {
     "data": {
      "image/png": "[encoded data removed]",
      "text/latex": [
       "$\\displaystyle Z_{3} = r \\sin{\\left(\\phi \\right)} \\sin{\\left(\\theta \\right)}$"
      ],
      "text/plain": [
       "Z₃ = r⋅sin(φ)⋅sin(θ)"
      ]
     },
     "execution_count": 22,
     "metadata": {},
     "output_type": "execute_result"
    }
   ],
   "source": [
    "equation8 = Eq(Z3, r*sin(theta) * sin(phi) ) \n",
    "equation8"
   ]
  },
  {
   "cell_type": "code",
   "execution_count": 31,
   "id": "bd85504e",
   "metadata": {},
   "outputs": [
    {
     "data": {
      "image/png": "[encoded data removed]",
      "text/latex": [
       "$\\displaystyle a^{2} = r^{2} \\sin^{2}{\\left(\\phi \\right)} \\sin^{2}{\\left(\\theta \\right)} + r^{2} \\sin^{2}{\\left(\\theta \\right)} \\cos^{2}{\\left(\\phi \\right)} + r^{2} \\cos^{2}{\\left(\\theta \\right)} - \\left(a^{2} - r^{2}\\right) \\sinh^{2}{\\left(\\frac{t}{a} \\right)} + \\left(a^{2} - r^{2}\\right) \\cosh^{2}{\\left(\\frac{t}{a} \\right)}$"
      ],
      "text/plain": [
       " 2    2    2       2       2    2       2       2    2      ⎛ 2    2⎞     2⎛t⎞   ⎛ 2    2⎞  \n",
       "a  = r ⋅sin (φ)⋅sin (θ) + r ⋅sin (θ)⋅cos (φ) + r ⋅cos (θ) - ⎝a  - r ⎠⋅sinh ⎜─⎟ + ⎝a  - r ⎠⋅c\n",
       "                                                                           ⎝a⎠              \n",
       "\n",
       "   2⎛t⎞\n",
       "osh ⎜─⎟\n",
       "    ⎝a⎠"
      ]
     },
     "execution_count": 31,
     "metadata": {},
     "output_type": "execute_result"
    }
   ],
   "source": [
    "equation2.subs(equation4.lhs,equation4.rhs).subs(equation5.lhs,equation5.rhs).subs(equation6.lhs,equation6.rhs).subs(equation7.lhs,equation7.rhs).subs(equation8.lhs,equation8.rhs)"
   ]
  },
  {
   "cell_type": "code",
   "execution_count": 32,
   "id": "689d11be",
   "metadata": {},
   "outputs": [
    {
     "data": {
      "text/latex": [
       "$\\displaystyle \\text{True}$"
      ],
      "text/plain": [
       "True"
      ]
     },
     "execution_count": 32,
     "metadata": {},
     "output_type": "execute_result"
    }
   ],
   "source": [
    "equation2.subs(equation4.lhs,equation4.rhs).subs(equation5.lhs,equation5.rhs).subs(equation6.lhs,equation6.rhs).subs(equation7.lhs,equation7.rhs).subs(equation8.lhs,equation8.rhs).simplify()"
   ]
  },
  {
   "cell_type": "code",
   "execution_count": null,
   "id": "acc82271",
   "metadata": {},
   "outputs": [],
   "source": []
  }
 ],
 "metadata": {
  "@webio": {
   "lastCommId": "7ee443eb012a41d58ab913faaa98226f",
   "lastKernelId": "d7ab5680-3d8c-4439-afa0-062cb3a171f4"
  },
  "kernelspec": {
   "display_name": "Python 3 (ipykernel)",
   "language": "python",
   "name": "python3"
  },
  "language_info": {
   "codemirror_mode": {
    "name": "ipython",
    "version": 3
   },
   "file_extension": ".py",
   "mimetype": "text/x-python",
   "name": "python",
   "nbconvert_exporter": "python",
   "pygments_lexer": "ipython3",
   "version": "3.8.8"
  }
 },
 "nbformat": 4,
 "nbformat_minor": 5
}
