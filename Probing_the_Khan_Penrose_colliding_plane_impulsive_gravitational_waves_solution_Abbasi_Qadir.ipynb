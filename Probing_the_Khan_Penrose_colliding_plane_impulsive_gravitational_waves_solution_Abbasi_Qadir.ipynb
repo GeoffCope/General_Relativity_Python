{
 "cells": [
  {
   "cell_type": "markdown",
   "id": "73b03b0f",
   "metadata": {},
   "source": [
    "# Probing the Khan-Penrose colliding plane impulsive gravitational waves solution by Abbasi and Qadir\n",
    "##  Geoff Cope\n",
    "##  Univeristy of Utah\n",
    "##  𐐏𐐭𐑌𐐲𐑂𐐲𐑉𐑅𐐮𐐻𐐨 𐐲𐑂 𐐏𐐭𐐻𐐫\n",
    "##  January 24, 2022"
   ]
  },
  {
   "cell_type": "markdown",
   "id": "c16dc74a",
   "metadata": {},
   "source": [
    "https://iopscience.iop.org/article/10.1088/2399-6528/aaaa7f/pdf"
   ]
  },
  {
   "cell_type": "markdown",
   "id": "f3c2363e",
   "metadata": {},
   "source": [
    "Above Paper References Paper Below"
   ]
  },
  {
   "cell_type": "markdown",
   "id": "e0773981",
   "metadata": {},
   "source": [
    "https://arxiv.org/pdf/gr-qc/0701066.pdf"
   ]
  },
  {
   "cell_type": "markdown",
   "id": "799b2b99",
   "metadata": {},
   "source": [
    "https://arxiv.org/pdf/gr-qc/0701098.pdf"
   ]
  },
  {
   "cell_type": "code",
   "execution_count": 1,
   "id": "599c789d",
   "metadata": {},
   "outputs": [
    {
     "name": "stdout",
     "output_type": "stream",
     "text": [
      "IPython console for SymPy 1.9 (Python 3.8.8-64-bit) (ground types: gmpy)\n",
      "\n",
      "These commands were executed:\n",
      ">>> from __future__ import division\n",
      ">>> from sympy import *\n",
      ">>> x, y, z, t = symbols('x y z t')\n",
      ">>> k, m, n = symbols('k m n', integer=True)\n",
      ">>> f, g, h = symbols('f g h', cls=Function)\n",
      ">>> init_printing()\n",
      "\n",
      "Documentation can be found at https://docs.sympy.org/1.9/\n",
      "\n"
     ]
    }
   ],
   "source": [
    "from sympy import init_session\n",
    "init_session(use_latex=True)"
   ]
  },
  {
   "cell_type": "code",
   "execution_count": 2,
   "id": "6ac91fc8",
   "metadata": {},
   "outputs": [],
   "source": [
    "import warnings\n",
    "import matplotlib.cbook\n",
    "warnings.filterwarnings(\"ignore\",category=matplotlib.cbook.mplDeprecation)"
   ]
  },
  {
   "cell_type": "code",
   "execution_count": 3,
   "id": "72d93d3f",
   "metadata": {},
   "outputs": [],
   "source": [
    "t,rho,phi,z,dt,drho,dphi,dz = symbols('t rho phi z dt drho dphi dz')"
   ]
  },
  {
   "cell_type": "code",
   "execution_count": 4,
   "id": "fb73937d",
   "metadata": {},
   "outputs": [
    {
     "data": {
      "image/png": "[encoded data removed]",
      "text/latex": [
       "$\\displaystyle \\gamma{\\left(t,\\rho \\right)}$"
      ],
      "text/plain": [
       "γ(t, ρ)"
      ]
     },
     "execution_count": 4,
     "metadata": {},
     "output_type": "execute_result"
    }
   ],
   "source": [
    "gamma = Function('gamma')(t,rho)\n",
    "gamma"
   ]
  },
  {
   "cell_type": "code",
   "execution_count": 5,
   "id": "6807a39b",
   "metadata": {},
   "outputs": [
    {
     "data": {
      "image/png": "[encoded data removed]",
      "text/latex": [
       "$\\displaystyle \\psi{\\left(t,\\rho \\right)}$"
      ],
      "text/plain": [
       "ψ(t, ρ)"
      ]
     },
     "execution_count": 5,
     "metadata": {},
     "output_type": "execute_result"
    }
   ],
   "source": [
    "psi = Function('psi')(t,rho)\n",
    "psi"
   ]
  },
  {
   "cell_type": "code",
   "execution_count": 6,
   "id": "52459c01",
   "metadata": {},
   "outputs": [
    {
     "data": {
      "text/latex": [
       "$\\displaystyle \\left[\\begin{matrix}t\\\\\\rho\\\\\\phi\\\\z\\end{matrix}\\right]$"
      ],
      "text/plain": [
       "⎡t⎤\n",
       "⎢ ⎥\n",
       "⎢ρ⎥\n",
       "⎢ ⎥\n",
       "⎢φ⎥\n",
       "⎢ ⎥\n",
       "⎣z⎦"
      ]
     },
     "execution_count": 6,
     "metadata": {},
     "output_type": "execute_result"
    }
   ],
   "source": [
    "variables = Matrix([t,rho,phi,z])\n",
    "variables"
   ]
  },
  {
   "cell_type": "code",
   "execution_count": 7,
   "id": "858d8d87",
   "metadata": {},
   "outputs": [
    {
     "data": {
      "text/latex": [
       "$\\displaystyle \\left[\\begin{matrix}dt\\\\drho\\\\dphi\\\\dz\\end{matrix}\\right]$"
      ],
      "text/plain": [
       "⎡ dt ⎤\n",
       "⎢    ⎥\n",
       "⎢drho⎥\n",
       "⎢    ⎥\n",
       "⎢dphi⎥\n",
       "⎢    ⎥\n",
       "⎣ dz ⎦"
      ]
     },
     "execution_count": 7,
     "metadata": {},
     "output_type": "execute_result"
    }
   ],
   "source": [
    "differentials = Matrix([dt,drho,dphi,dz])\n",
    "differentials "
   ]
  },
  {
   "cell_type": "code",
   "execution_count": 8,
   "id": "3b4deabf",
   "metadata": {},
   "outputs": [
    {
     "data": {
      "image/png": "[encoded data removed]",
      "text/latex": [
       "$\\displaystyle - dphi^{2} \\rho^{2} e^{- 2 \\psi{\\left(t,\\rho \\right)}} - drho^{2} e^{2 \\gamma{\\left(t,\\rho \\right)}} e^{- 2 \\psi{\\left(t,\\rho \\right)}} + dt^{2} e^{2 \\gamma{\\left(t,\\rho \\right)}} e^{- 2 \\psi{\\left(t,\\rho \\right)}} - dz^{2} e^{2 \\psi{\\left(t,\\rho \\right)}}$"
      ],
      "text/plain": [
       "      2  2  -2⋅ψ(t, ρ)       2  2⋅γ(t, ρ)  -2⋅ψ(t, ρ)     2  2⋅γ(t, ρ)  -2⋅ψ(t, ρ)     2  2⋅\n",
       "- dphi ⋅ρ ⋅ℯ           - drho ⋅ℯ         ⋅ℯ           + dt ⋅ℯ         ⋅ℯ           - dz ⋅ℯ  \n",
       "\n",
       "ψ(t, ρ)\n",
       "       "
      ]
     },
     "execution_count": 8,
     "metadata": {},
     "output_type": "execute_result"
    }
   ],
   "source": [
    "lineElement = expand( exp(2*(gamma-psi))*(dt**2 - drho**2) - exp(-2*psi)*rho**2*dphi**2 - exp(2*psi)*dz**2 ) \n",
    "lineElement"
   ]
  },
  {
   "cell_type": "code",
   "execution_count": 9,
   "id": "21c1748c",
   "metadata": {},
   "outputs": [
    {
     "data": {
      "text/latex": [
       "$\\displaystyle \\left[\\begin{matrix}e^{2 \\gamma{\\left(t,\\rho \\right)}} e^{- 2 \\psi{\\left(t,\\rho \\right)}} & 0 & 0 & 0\\\\0 & - e^{2 \\gamma{\\left(t,\\rho \\right)}} e^{- 2 \\psi{\\left(t,\\rho \\right)}} & 0 & 0\\\\0 & 0 & - \\rho^{2} e^{- 2 \\psi{\\left(t,\\rho \\right)}} & 0\\\\0 & 0 & 0 & - e^{2 \\psi{\\left(t,\\rho \\right)}}\\end{matrix}\\right]$"
      ],
      "text/plain": [
       "⎡ 2⋅γ(t, ρ)  -2⋅ψ(t, ρ)                                                       ⎤\n",
       "⎢ℯ         ⋅ℯ                       0                    0              0     ⎥\n",
       "⎢                                                                             ⎥\n",
       "⎢                          2⋅γ(t, ρ)  -2⋅ψ(t, ρ)                              ⎥\n",
       "⎢          0             -ℯ         ⋅ℯ                   0              0     ⎥\n",
       "⎢                                                                             ⎥\n",
       "⎢                                                   2  -2⋅ψ(t, ρ)             ⎥\n",
       "⎢          0                        0             -ρ ⋅ℯ                 0     ⎥\n",
       "⎢                                                                             ⎥\n",
       "⎢                                                                    2⋅ψ(t, ρ)⎥\n",
       "⎣          0                        0                    0         -ℯ         ⎦"
      ]
     },
     "execution_count": 9,
     "metadata": {},
     "output_type": "execute_result"
    }
   ],
   "source": [
    "g = zeros(4)\n",
    "\n",
    "for i in range(4):\n",
    "    for j in range(4):\n",
    "        if i == j:\n",
    "            g[i,j] = lineElement.coeff( differentials[i],2 ) \n",
    "        else:\n",
    "            g[i,j] = Rational(1,2)*lineElement.coeff( differentials[i]*differentials[j],1 )\n",
    "            \n",
    "g"
   ]
  },
  {
   "cell_type": "code",
   "execution_count": 10,
   "id": "451dbf52",
   "metadata": {},
   "outputs": [],
   "source": [
    "import sympy"
   ]
  },
  {
   "cell_type": "code",
   "execution_count": 11,
   "id": "14e126d7",
   "metadata": {},
   "outputs": [
    {
     "data": {
      "text/latex": [
       "$\\displaystyle \\left[\\begin{matrix}e^{2 \\gamma{\\left(t,\\rho \\right)}} e^{- 2 \\psi{\\left(t,\\rho \\right)}} & 0 & 0 & 0\\\\0 & - e^{2 \\gamma{\\left(t,\\rho \\right)}} e^{- 2 \\psi{\\left(t,\\rho \\right)}} & 0 & 0\\\\0 & 0 & - \\rho^{2} e^{- 2 \\psi{\\left(t,\\rho \\right)}} & 0\\\\0 & 0 & 0 & - e^{2 \\psi{\\left(t,\\rho \\right)}}\\end{matrix}\\right]$"
      ],
      "text/plain": [
       "⎡ 2⋅γ(t, ρ)  -2⋅ψ(t, ρ)                                                       ⎤\n",
       "⎢ℯ         ⋅ℯ                       0                    0              0     ⎥\n",
       "⎢                                                                             ⎥\n",
       "⎢                          2⋅γ(t, ρ)  -2⋅ψ(t, ρ)                              ⎥\n",
       "⎢          0             -ℯ         ⋅ℯ                   0              0     ⎥\n",
       "⎢                                                                             ⎥\n",
       "⎢                                                   2  -2⋅ψ(t, ρ)             ⎥\n",
       "⎢          0                        0             -ρ ⋅ℯ                 0     ⎥\n",
       "⎢                                                                             ⎥\n",
       "⎢                                                                    2⋅ψ(t, ρ)⎥\n",
       "⎣          0                        0                    0         -ℯ         ⎦"
      ]
     },
     "execution_count": 11,
     "metadata": {},
     "output_type": "execute_result"
    }
   ],
   "source": [
    "m = sympy.Array(g)\n",
    "m"
   ]
  },
  {
   "cell_type": "code",
   "execution_count": 12,
   "id": "28676f20",
   "metadata": {},
   "outputs": [],
   "source": [
    "from einsteinpy.symbolic import *"
   ]
  },
  {
   "cell_type": "code",
   "execution_count": 13,
   "id": "8154430c",
   "metadata": {},
   "outputs": [],
   "source": [
    "syms = sympy.symbols(\"t rho phi z\")\n",
    "t,rho,phi,z = syms"
   ]
  },
  {
   "cell_type": "code",
   "execution_count": 14,
   "id": "16433a76",
   "metadata": {},
   "outputs": [],
   "source": [
    "metric = MetricTensor(m,syms)"
   ]
  },
  {
   "cell_type": "code",
   "execution_count": 15,
   "id": "0f3c6a34",
   "metadata": {},
   "outputs": [
    {
     "data": {
      "text/latex": [
       "$\\displaystyle \\left[\\begin{matrix}\\left[\\begin{matrix}\\frac{\\partial}{\\partial t} \\gamma{\\left(t,\\rho \\right)} - \\frac{\\partial}{\\partial t} \\psi{\\left(t,\\rho \\right)} & \\frac{\\partial}{\\partial \\rho} \\gamma{\\left(t,\\rho \\right)} - \\frac{\\partial}{\\partial \\rho} \\psi{\\left(t,\\rho \\right)} & 0 & 0\\\\\\frac{\\partial}{\\partial \\rho} \\gamma{\\left(t,\\rho \\right)} - \\frac{\\partial}{\\partial \\rho} \\psi{\\left(t,\\rho \\right)} & \\frac{\\partial}{\\partial t} \\gamma{\\left(t,\\rho \\right)} - \\frac{\\partial}{\\partial t} \\psi{\\left(t,\\rho \\right)} & 0 & 0\\\\0 & 0 & - \\rho^{2} e^{- 2 \\gamma{\\left(t,\\rho \\right)}} \\frac{\\partial}{\\partial t} \\psi{\\left(t,\\rho \\right)} & 0\\\\0 & 0 & 0 & e^{- 2 \\gamma{\\left(t,\\rho \\right)} + 4 \\psi{\\left(t,\\rho \\right)}} \\frac{\\partial}{\\partial t} \\psi{\\left(t,\\rho \\right)}\\end{matrix}\\right] & \\left[\\begin{matrix}\\frac{\\partial}{\\partial \\rho} \\gamma{\\left(t,\\rho \\right)} - \\frac{\\partial}{\\partial \\rho} \\psi{\\left(t,\\rho \\right)} & \\frac{\\partial}{\\partial t} \\gamma{\\left(t,\\rho \\right)} - \\frac{\\partial}{\\partial t} \\psi{\\left(t,\\rho \\right)} & 0 & 0\\\\\\frac{\\partial}{\\partial t} \\gamma{\\left(t,\\rho \\right)} - \\frac{\\partial}{\\partial t} \\psi{\\left(t,\\rho \\right)} & \\frac{\\partial}{\\partial \\rho} \\gamma{\\left(t,\\rho \\right)} - \\frac{\\partial}{\\partial \\rho} \\psi{\\left(t,\\rho \\right)} & 0 & 0\\\\0 & 0 & \\rho \\left(\\rho \\frac{\\partial}{\\partial \\rho} \\psi{\\left(t,\\rho \\right)} - 1\\right) e^{- 2 \\gamma{\\left(t,\\rho \\right)}} & 0\\\\0 & 0 & 0 & - e^{- 2 \\gamma{\\left(t,\\rho \\right)} + 4 \\psi{\\left(t,\\rho \\right)}} \\frac{\\partial}{\\partial \\rho} \\psi{\\left(t,\\rho \\right)}\\end{matrix}\\right] & \\left[\\begin{matrix}0 & 0 & - \\frac{\\partial}{\\partial t} \\psi{\\left(t,\\rho \\right)} & 0\\\\0 & 0 & - \\frac{\\partial}{\\partial \\rho} \\psi{\\left(t,\\rho \\right)} + \\frac{1}{\\rho} & 0\\\\- \\frac{\\partial}{\\partial t} \\psi{\\left(t,\\rho \\right)} & - \\frac{\\partial}{\\partial \\rho} \\psi{\\left(t,\\rho \\right)} + \\frac{1}{\\rho} & 0 & 0\\\\0 & 0 & 0 & 0\\end{matrix}\\right] & \\left[\\begin{matrix}0 & 0 & 0 & \\frac{\\partial}{\\partial t} \\psi{\\left(t,\\rho \\right)}\\\\0 & 0 & 0 & \\frac{\\partial}{\\partial \\rho} \\psi{\\left(t,\\rho \\right)}\\\\0 & 0 & 0 & 0\\\\\\frac{\\partial}{\\partial t} \\psi{\\left(t,\\rho \\right)} & \\frac{\\partial}{\\partial \\rho} \\psi{\\left(t,\\rho \\right)} & 0 & 0\\end{matrix}\\right]\\end{matrix}\\right]$"
      ],
      "text/plain": [
       "⎡⎡∂             ∂            ∂             ∂                                                \n",
       "⎢⎢──(γ(t, ρ)) - ──(ψ(t, ρ))  ──(γ(t, ρ)) - ──(ψ(t, ρ))               0                      \n",
       "⎢⎢∂t            ∂t           ∂ρ            ∂ρ                                               \n",
       "⎢⎢                                                                                          \n",
       "⎢⎢∂             ∂            ∂             ∂                                                \n",
       "⎢⎢──(γ(t, ρ)) - ──(ψ(t, ρ))  ──(γ(t, ρ)) - ──(ψ(t, ρ))               0                      \n",
       "⎢⎢∂ρ            ∂ρ           ∂t            ∂t                                               \n",
       "⎢⎢                                                                                          \n",
       "⎢⎢                                                        2  -2⋅γ(t, ρ) ∂                   \n",
       "⎢⎢            0                          0              -ρ ⋅ℯ          ⋅──(ψ(t, ρ))         \n",
       "⎢⎢                                                                      ∂t                  \n",
       "⎢⎢                                                                                          \n",
       "⎢⎢                                                                                    -2⋅γ(t\n",
       "⎢⎢            0                          0                           0               ℯ      \n",
       "⎣⎣                                                                                          \n",
       "\n",
       "                            ⎤  ⎡∂             ∂            ∂             ∂                  \n",
       "          0                 ⎥  ⎢──(γ(t, ρ)) - ──(ψ(t, ρ))  ──(γ(t, ρ)) - ──(ψ(t, ρ))        \n",
       "                            ⎥  ⎢∂ρ            ∂ρ           ∂t            ∂t                 \n",
       "                            ⎥  ⎢                                                            \n",
       "                            ⎥  ⎢∂             ∂            ∂             ∂                  \n",
       "          0                 ⎥  ⎢──(γ(t, ρ)) - ──(ψ(t, ρ))  ──(γ(t, ρ)) - ──(ψ(t, ρ))        \n",
       "                            ⎥  ⎢∂t            ∂t           ∂ρ            ∂ρ                 \n",
       "                            ⎥  ⎢                                                            \n",
       "                            ⎥  ⎢                                                        ⎛  ∂\n",
       "          0                 ⎥  ⎢            0                          0              ρ⋅⎜ρ⋅─\n",
       "                            ⎥  ⎢                                                        ⎝  ∂\n",
       "                            ⎥  ⎢                                                            \n",
       ", ρ) + 4⋅ψ(t, ρ) ∂          ⎥  ⎢                                                            \n",
       "                ⋅──(ψ(t, ρ))⎥  ⎢            0                          0                    \n",
       "                 ∂t         ⎦  ⎣                                                            \n",
       "\n",
       "                                                                 ⎤                          \n",
       "          0                                   0                  ⎥  ⎡                       \n",
       "                                                                 ⎥  ⎢     0                0\n",
       "                                                                 ⎥  ⎢                       \n",
       "                                                                 ⎥  ⎢                       \n",
       "          0                                   0                  ⎥  ⎢                       \n",
       "                                                                 ⎥  ⎢     0                0\n",
       "                                                                 ⎥  ⎢                       \n",
       "              ⎞  -2⋅γ(t, ρ)                                      ⎥  ⎢                       \n",
       "─(ψ(t, ρ)) - 1⎟⋅ℯ                             0                  ⎥  ⎢ ∂              ∂      \n",
       "ρ             ⎠                                                  ⎥  ⎢-──(ψ(t, ρ))  - ──(ψ(t,\n",
       "                                                                 ⎥  ⎢ ∂t             ∂ρ     \n",
       "                               -2⋅γ(t, ρ) + 4⋅ψ(t, ρ) ∂          ⎥  ⎢                       \n",
       "          0                  -ℯ                      ⋅──(ψ(t, ρ))⎥  ⎣     0                0\n",
       "                                                      ∂ρ         ⎦                          \n",
       "\n",
       "                                                                           ⎤\n",
       "             ∂                ⎤  ⎡                             ∂          ⎤⎥\n",
       "            -──(ψ(t, ρ))     0⎥  ⎢     0            0       0  ──(ψ(t, ρ))⎥⎥\n",
       "             ∂t               ⎥  ⎢                             ∂t         ⎥⎥\n",
       "                              ⎥  ⎢                                        ⎥⎥\n",
       "            ∂             1   ⎥  ⎢                             ∂          ⎥⎥\n",
       "          - ──(ψ(t, ρ)) + ─  0⎥  ⎢     0            0       0  ──(ψ(t, ρ))⎥⎥\n",
       "            ∂ρ            ρ   ⎥  ⎢                             ∂ρ         ⎥⎥\n",
       "                              ⎥  ⎢                                        ⎥⎥\n",
       "       1                      ⎥  ⎢     0            0       0       0     ⎥⎥\n",
       " ρ)) + ─          0          0⎥  ⎢                                        ⎥⎥\n",
       "       ρ                      ⎥  ⎢∂            ∂                          ⎥⎥\n",
       "                              ⎥  ⎢──(ψ(t, ρ))  ──(ψ(t, ρ))  0       0     ⎥⎥\n",
       "                  0          0⎦  ⎣∂t           ∂ρ                         ⎦⎥\n",
       "                                                                           ⎦"
      ]
     },
     "execution_count": 15,
     "metadata": {},
     "output_type": "execute_result"
    }
   ],
   "source": [
    "ch = ChristoffelSymbols.from_metric(metric)\n",
    "simplify(ch.tensor())"
   ]
  },
  {
   "cell_type": "code",
   "execution_count": 16,
   "id": "5853acac",
   "metadata": {},
   "outputs": [
    {
     "data": {
      "text/latex": [
       "$\\displaystyle \\left[\\begin{matrix}\\frac{\\rho \\left(\\frac{\\partial^{2}}{\\partial \\rho^{2}} \\gamma{\\left(t,\\rho \\right)} - \\frac{\\partial^{2}}{\\partial t^{2}} \\gamma{\\left(t,\\rho \\right)} - \\frac{\\partial^{2}}{\\partial \\rho^{2}} \\psi{\\left(t,\\rho \\right)} - 2 \\left(\\frac{\\partial}{\\partial t} \\psi{\\left(t,\\rho \\right)}\\right)^{2} + \\frac{\\partial^{2}}{\\partial t^{2}} \\psi{\\left(t,\\rho \\right)}\\right) + \\frac{\\partial}{\\partial \\rho} \\gamma{\\left(t,\\rho \\right)} - \\frac{\\partial}{\\partial \\rho} \\psi{\\left(t,\\rho \\right)}}{\\rho} & - 2 \\frac{\\partial}{\\partial \\rho} \\psi{\\left(t,\\rho \\right)} \\frac{\\partial}{\\partial t} \\psi{\\left(t,\\rho \\right)} + \\frac{\\frac{\\partial}{\\partial t} \\gamma{\\left(t,\\rho \\right)}}{\\rho} & 0 & 0\\\\- 2 \\frac{\\partial}{\\partial \\rho} \\psi{\\left(t,\\rho \\right)} \\frac{\\partial}{\\partial t} \\psi{\\left(t,\\rho \\right)} + \\frac{\\frac{\\partial}{\\partial t} \\gamma{\\left(t,\\rho \\right)}}{\\rho} & \\frac{\\rho \\left(- \\frac{\\partial^{2}}{\\partial \\rho^{2}} \\gamma{\\left(t,\\rho \\right)} + \\frac{\\partial^{2}}{\\partial t^{2}} \\gamma{\\left(t,\\rho \\right)} - 2 \\left(\\frac{\\partial}{\\partial \\rho} \\psi{\\left(t,\\rho \\right)}\\right)^{2} + \\frac{\\partial^{2}}{\\partial \\rho^{2}} \\psi{\\left(t,\\rho \\right)} - \\frac{\\partial^{2}}{\\partial t^{2}} \\psi{\\left(t,\\rho \\right)}\\right) + \\frac{\\partial}{\\partial \\rho} \\gamma{\\left(t,\\rho \\right)} + \\frac{\\partial}{\\partial \\rho} \\psi{\\left(t,\\rho \\right)}}{\\rho} & 0 & 0\\\\0 & 0 & \\rho \\left(\\rho \\frac{\\partial^{2}}{\\partial \\rho^{2}} \\psi{\\left(t,\\rho \\right)} - \\rho \\frac{\\partial^{2}}{\\partial t^{2}} \\psi{\\left(t,\\rho \\right)} + \\frac{\\partial}{\\partial \\rho} \\psi{\\left(t,\\rho \\right)}\\right) e^{- 2 \\gamma{\\left(t,\\rho \\right)}} & 0\\\\0 & 0 & 0 & \\frac{\\left(- \\rho \\frac{\\partial^{2}}{\\partial \\rho^{2}} \\psi{\\left(t,\\rho \\right)} + \\rho \\frac{\\partial^{2}}{\\partial t^{2}} \\psi{\\left(t,\\rho \\right)} - \\frac{\\partial}{\\partial \\rho} \\psi{\\left(t,\\rho \\right)}\\right) e^{- 2 \\gamma{\\left(t,\\rho \\right)} + 4 \\psi{\\left(t,\\rho \\right)}}}{\\rho}\\end{matrix}\\right]$"
      ],
      "text/plain": [
       "⎡  ⎛  2              2              2                           2     2         ⎞           \n",
       "⎢  ⎜ ∂              ∂              ∂               ⎛∂          ⎞     ∂          ⎟   ∂       \n",
       "⎢ρ⋅⎜───(γ(t, ρ)) - ───(γ(t, ρ)) - ───(ψ(t, ρ)) - 2⋅⎜──(ψ(t, ρ))⎟  + ───(ψ(t, ρ))⎟ + ──(γ(t, \n",
       "⎢  ⎜  2              2              2              ⎝∂t         ⎠      2         ⎟   ∂ρ      \n",
       "⎢  ⎝∂ρ             ∂t             ∂ρ                                ∂t          ⎠           \n",
       "⎢───────────────────────────────────────────────────────────────────────────────────────────\n",
       "⎢                                                     ρ                                     \n",
       "⎢                                                                                           \n",
       "⎢                                                                                           \n",
       "⎢                                                                                           \n",
       "⎢                                                               ∂                           \n",
       "⎢                                                               ──(γ(t, ρ))                 \n",
       "⎢                                     ∂           ∂             ∂t                          \n",
       "⎢                                 - 2⋅──(ψ(t, ρ))⋅──(ψ(t, ρ)) + ───────────                 \n",
       "⎢                                     ∂ρ          ∂t                 ρ                      \n",
       "⎢                                                                                           \n",
       "⎢                                                                                           \n",
       "⎢                                                                                           \n",
       "⎢                                                     0                                     \n",
       "⎢                                                                                           \n",
       "⎢                                                                                           \n",
       "⎢                                                                                           \n",
       "⎢                                                                                           \n",
       "⎢                                                                                           \n",
       "⎢                                                                                           \n",
       "⎢                                                                                           \n",
       "⎢                                                                                           \n",
       "⎢                                                     0                                     \n",
       "⎣                                                                                           \n",
       "\n",
       "                                                                                            \n",
       "      ∂                                                                                     \n",
       "ρ)) - ──(ψ(t, ρ))                                                                  ∂        \n",
       "      ∂ρ                                                                           ──(γ(t, ρ\n",
       "                                                         ∂           ∂             ∂t       \n",
       "─────────────────                                    - 2⋅──(ψ(t, ρ))⋅──(ψ(t, ρ)) + ─────────\n",
       "                                                         ∂ρ          ∂t                 ρ   \n",
       "                                                                                            \n",
       "                     ⎛    2              2                           2     2              2 \n",
       "                     ⎜   ∂              ∂               ⎛∂          ⎞     ∂              ∂  \n",
       "                   ρ⋅⎜- ───(γ(t, ρ)) + ───(γ(t, ρ)) - 2⋅⎜──(ψ(t, ρ))⎟  + ───(ψ(t, ρ)) - ───(\n",
       "                     ⎜    2              2              ⎝∂ρ         ⎠      2              2 \n",
       "                     ⎝  ∂ρ             ∂t                                ∂ρ             ∂t  \n",
       "                   ─────────────────────────────────────────────────────────────────────────\n",
       "                                                                         ρ                  \n",
       "                                                                                            \n",
       "                                                                                            \n",
       "                                                                                            \n",
       "                                                                         0                  \n",
       "                                                                                            \n",
       "                                                                                            \n",
       "                                                                                            \n",
       "                                                                                            \n",
       "                                                                                            \n",
       "                                                                                            \n",
       "                                                                                            \n",
       "                                                                                            \n",
       "                                                                         0                  \n",
       "                                                                                            \n",
       "\n",
       "                                                                                            \n",
       "                                                                                            \n",
       "                                                                                            \n",
       "))                                                                                          \n",
       "                                                                                            \n",
       "──                                                                   0                      \n",
       "                                                                                            \n",
       "                                                                                            \n",
       "        ⎞                                                                                   \n",
       "        ⎟   ∂             ∂                                                                 \n",
       "ψ(t, ρ))⎟ + ──(γ(t, ρ)) + ──(ψ(t, ρ))                                                       \n",
       "        ⎟   ∂ρ            ∂ρ                                                                \n",
       "        ⎠                                                                                   \n",
       "─────────────────────────────────────                                0                      \n",
       "                                                                                            \n",
       "                                                                                            \n",
       "                                         ⎛    2                2                       ⎞    \n",
       "                                         ⎜   ∂                ∂             ∂          ⎟  -2\n",
       "                                       ρ⋅⎜ρ⋅───(ψ(t, ρ)) - ρ⋅───(ψ(t, ρ)) + ──(ψ(t, ρ))⎟⋅ℯ  \n",
       "                                         ⎜    2                2            ∂ρ         ⎟    \n",
       "                                         ⎝  ∂ρ               ∂t                        ⎠    \n",
       "                                                                                            \n",
       "                                                                                            \n",
       "                                                                                            \n",
       "                                                                                            \n",
       "                                                                                            \n",
       "                                                                                            \n",
       "                                                                     0                      \n",
       "                                                                                            \n",
       "\n",
       "                                                                                   ⎤\n",
       "                                                                                   ⎥\n",
       "                                                                                   ⎥\n",
       "                                                                                   ⎥\n",
       "                                                                                   ⎥\n",
       "                                              0                                    ⎥\n",
       "                                                                                   ⎥\n",
       "                                                                                   ⎥\n",
       "                                                                                   ⎥\n",
       "                                                                                   ⎥\n",
       "                                                                                   ⎥\n",
       "                                                                                   ⎥\n",
       "                                                                                   ⎥\n",
       "                                              0                                    ⎥\n",
       "                                                                                   ⎥\n",
       "                                                                                   ⎥\n",
       "                                                                                   ⎥\n",
       "⋅γ(t, ρ)                                                                           ⎥\n",
       "                                              0                                    ⎥\n",
       "                                                                                   ⎥\n",
       "                                                                                   ⎥\n",
       "                                                                                   ⎥\n",
       "          ⎛      2                2                       ⎞                        ⎥\n",
       "          ⎜     ∂                ∂             ∂          ⎟  -2⋅γ(t, ρ) + 4⋅ψ(t, ρ)⎥\n",
       "          ⎜- ρ⋅───(ψ(t, ρ)) + ρ⋅───(ψ(t, ρ)) - ──(ψ(t, ρ))⎟⋅ℯ                      ⎥\n",
       "          ⎜      2                2            ∂ρ         ⎟                        ⎥\n",
       "          ⎝    ∂ρ               ∂t                        ⎠                        ⎥\n",
       "          ─────────────────────────────────────────────────────────────────────────⎥\n",
       "                                              ρ                                    ⎦"
      ]
     },
     "execution_count": 16,
     "metadata": {},
     "output_type": "execute_result"
    }
   ],
   "source": [
    "Ric = RicciTensor.from_metric(metric)\n",
    "Ric.tensor()"
   ]
  },
  {
   "cell_type": "code",
   "execution_count": 17,
   "id": "0069aae7",
   "metadata": {},
   "outputs": [
    {
     "data": {
      "image/png": "[encoded data removed]",
      "text/latex": [
       "$\\displaystyle \\frac{2 \\left(\\rho \\frac{\\partial^{2}}{\\partial \\rho^{2}} \\gamma{\\left(t,\\rho \\right)} - \\rho \\frac{\\partial^{2}}{\\partial t^{2}} \\gamma{\\left(t,\\rho \\right)} + \\rho \\left(\\frac{\\partial}{\\partial \\rho} \\psi{\\left(t,\\rho \\right)}\\right)^{2} - \\rho \\frac{\\partial^{2}}{\\partial \\rho^{2}} \\psi{\\left(t,\\rho \\right)} - \\rho \\left(\\frac{\\partial}{\\partial t} \\psi{\\left(t,\\rho \\right)}\\right)^{2} + \\rho \\frac{\\partial^{2}}{\\partial t^{2}} \\psi{\\left(t,\\rho \\right)} - \\frac{\\partial}{\\partial \\rho} \\psi{\\left(t,\\rho \\right)}\\right) e^{- 2 \\gamma{\\left(t,\\rho \\right)} + 2 \\psi{\\left(t,\\rho \\right)}}}{\\rho}$"
      ],
      "text/plain": [
       "  ⎛    2                2                           2       2                           2   \n",
       "  ⎜   ∂                ∂               ⎛∂          ⎞       ∂               ⎛∂          ⎞    \n",
       "2⋅⎜ρ⋅───(γ(t, ρ)) - ρ⋅───(γ(t, ρ)) + ρ⋅⎜──(ψ(t, ρ))⎟  - ρ⋅───(ψ(t, ρ)) - ρ⋅⎜──(ψ(t, ρ))⎟  + \n",
       "  ⎜    2                2              ⎝∂ρ         ⎠        2              ⎝∂t         ⎠    \n",
       "  ⎝  ∂ρ               ∂t                                  ∂ρ                                \n",
       "────────────────────────────────────────────────────────────────────────────────────────────\n",
       "                                                                        ρ                   \n",
       "\n",
       "    2                       ⎞                        \n",
       "   ∂             ∂          ⎟  -2⋅γ(t, ρ) + 2⋅ψ(t, ρ)\n",
       "ρ⋅───(ψ(t, ρ)) - ──(ψ(t, ρ))⎟⋅ℯ                      \n",
       "    2            ∂ρ         ⎟                        \n",
       "  ∂t                        ⎠                        \n",
       "─────────────────────────────────────────────────────\n",
       "                                                     "
      ]
     },
     "execution_count": 17,
     "metadata": {},
     "output_type": "execute_result"
    }
   ],
   "source": [
    "R = RicciScalar.from_riccitensor(Ric)\n",
    "R.simplify()\n",
    "R.expr"
   ]
  },
  {
   "cell_type": "code",
   "execution_count": 18,
   "id": "bfcbbf0d",
   "metadata": {},
   "outputs": [
    {
     "data": {
      "text/latex": [
       "$\\displaystyle \\left[\\begin{matrix}\\frac{\\rho \\left(\\frac{\\partial^{2}}{\\partial \\rho^{2}} \\gamma{\\left(t,\\rho \\right)} - \\frac{\\partial^{2}}{\\partial t^{2}} \\gamma{\\left(t,\\rho \\right)} - \\frac{\\partial^{2}}{\\partial \\rho^{2}} \\psi{\\left(t,\\rho \\right)} - 2 \\left(\\frac{\\partial}{\\partial t} \\psi{\\left(t,\\rho \\right)}\\right)^{2} + \\frac{\\partial^{2}}{\\partial t^{2}} \\psi{\\left(t,\\rho \\right)}\\right) + \\frac{\\partial}{\\partial \\rho} \\gamma{\\left(t,\\rho \\right)} - \\frac{\\partial}{\\partial \\rho} \\psi{\\left(t,\\rho \\right)}}{\\rho} - \\frac{1.0 \\left(\\rho \\frac{\\partial^{2}}{\\partial \\rho^{2}} \\gamma{\\left(t,\\rho \\right)} - \\rho \\frac{\\partial^{2}}{\\partial t^{2}} \\gamma{\\left(t,\\rho \\right)} + \\rho \\left(\\frac{\\partial}{\\partial \\rho} \\psi{\\left(t,\\rho \\right)}\\right)^{2} - \\rho \\frac{\\partial^{2}}{\\partial \\rho^{2}} \\psi{\\left(t,\\rho \\right)} - \\rho \\left(\\frac{\\partial}{\\partial t} \\psi{\\left(t,\\rho \\right)}\\right)^{2} + \\rho \\frac{\\partial^{2}}{\\partial t^{2}} \\psi{\\left(t,\\rho \\right)} - \\frac{\\partial}{\\partial \\rho} \\psi{\\left(t,\\rho \\right)}\\right) e^{- 2 \\gamma{\\left(t,\\rho \\right)} + 2 \\psi{\\left(t,\\rho \\right)}} e^{2 \\gamma{\\left(t,\\rho \\right)}} e^{- 2 \\psi{\\left(t,\\rho \\right)}}}{\\rho} & - 2 \\frac{\\partial}{\\partial \\rho} \\psi{\\left(t,\\rho \\right)} \\frac{\\partial}{\\partial t} \\psi{\\left(t,\\rho \\right)} + \\frac{\\frac{\\partial}{\\partial t} \\gamma{\\left(t,\\rho \\right)}}{\\rho} & 0 & 0\\\\- 2 \\frac{\\partial}{\\partial \\rho} \\psi{\\left(t,\\rho \\right)} \\frac{\\partial}{\\partial t} \\psi{\\left(t,\\rho \\right)} + \\frac{\\frac{\\partial}{\\partial t} \\gamma{\\left(t,\\rho \\right)}}{\\rho} & \\frac{\\rho \\left(- \\frac{\\partial^{2}}{\\partial \\rho^{2}} \\gamma{\\left(t,\\rho \\right)} + \\frac{\\partial^{2}}{\\partial t^{2}} \\gamma{\\left(t,\\rho \\right)} - 2 \\left(\\frac{\\partial}{\\partial \\rho} \\psi{\\left(t,\\rho \\right)}\\right)^{2} + \\frac{\\partial^{2}}{\\partial \\rho^{2}} \\psi{\\left(t,\\rho \\right)} - \\frac{\\partial^{2}}{\\partial t^{2}} \\psi{\\left(t,\\rho \\right)}\\right) + \\frac{\\partial}{\\partial \\rho} \\gamma{\\left(t,\\rho \\right)} + \\frac{\\partial}{\\partial \\rho} \\psi{\\left(t,\\rho \\right)}}{\\rho} + \\frac{1.0 \\left(\\rho \\frac{\\partial^{2}}{\\partial \\rho^{2}} \\gamma{\\left(t,\\rho \\right)} - \\rho \\frac{\\partial^{2}}{\\partial t^{2}} \\gamma{\\left(t,\\rho \\right)} + \\rho \\left(\\frac{\\partial}{\\partial \\rho} \\psi{\\left(t,\\rho \\right)}\\right)^{2} - \\rho \\frac{\\partial^{2}}{\\partial \\rho^{2}} \\psi{\\left(t,\\rho \\right)} - \\rho \\left(\\frac{\\partial}{\\partial t} \\psi{\\left(t,\\rho \\right)}\\right)^{2} + \\rho \\frac{\\partial^{2}}{\\partial t^{2}} \\psi{\\left(t,\\rho \\right)} - \\frac{\\partial}{\\partial \\rho} \\psi{\\left(t,\\rho \\right)}\\right) e^{- 2 \\gamma{\\left(t,\\rho \\right)} + 2 \\psi{\\left(t,\\rho \\right)}} e^{2 \\gamma{\\left(t,\\rho \\right)}} e^{- 2 \\psi{\\left(t,\\rho \\right)}}}{\\rho} & 0 & 0\\\\0 & 0 & \\rho \\left(\\rho \\frac{\\partial^{2}}{\\partial \\rho^{2}} \\psi{\\left(t,\\rho \\right)} - \\rho \\frac{\\partial^{2}}{\\partial t^{2}} \\psi{\\left(t,\\rho \\right)} + \\frac{\\partial}{\\partial \\rho} \\psi{\\left(t,\\rho \\right)}\\right) e^{- 2 \\gamma{\\left(t,\\rho \\right)}} + 1.0 \\rho \\left(\\rho \\frac{\\partial^{2}}{\\partial \\rho^{2}} \\gamma{\\left(t,\\rho \\right)} - \\rho \\frac{\\partial^{2}}{\\partial t^{2}} \\gamma{\\left(t,\\rho \\right)} + \\rho \\left(\\frac{\\partial}{\\partial \\rho} \\psi{\\left(t,\\rho \\right)}\\right)^{2} - \\rho \\frac{\\partial^{2}}{\\partial \\rho^{2}} \\psi{\\left(t,\\rho \\right)} - \\rho \\left(\\frac{\\partial}{\\partial t} \\psi{\\left(t,\\rho \\right)}\\right)^{2} + \\rho \\frac{\\partial^{2}}{\\partial t^{2}} \\psi{\\left(t,\\rho \\right)} - \\frac{\\partial}{\\partial \\rho} \\psi{\\left(t,\\rho \\right)}\\right) e^{- 2 \\gamma{\\left(t,\\rho \\right)} + 2 \\psi{\\left(t,\\rho \\right)}} e^{- 2 \\psi{\\left(t,\\rho \\right)}} & 0\\\\0 & 0 & 0 & \\frac{\\left(- \\rho \\frac{\\partial^{2}}{\\partial \\rho^{2}} \\psi{\\left(t,\\rho \\right)} + \\rho \\frac{\\partial^{2}}{\\partial t^{2}} \\psi{\\left(t,\\rho \\right)} - \\frac{\\partial}{\\partial \\rho} \\psi{\\left(t,\\rho \\right)}\\right) e^{- 2 \\gamma{\\left(t,\\rho \\right)} + 4 \\psi{\\left(t,\\rho \\right)}}}{\\rho} + \\frac{1.0 \\left(\\rho \\frac{\\partial^{2}}{\\partial \\rho^{2}} \\gamma{\\left(t,\\rho \\right)} - \\rho \\frac{\\partial^{2}}{\\partial t^{2}} \\gamma{\\left(t,\\rho \\right)} + \\rho \\left(\\frac{\\partial}{\\partial \\rho} \\psi{\\left(t,\\rho \\right)}\\right)^{2} - \\rho \\frac{\\partial^{2}}{\\partial \\rho^{2}} \\psi{\\left(t,\\rho \\right)} - \\rho \\left(\\frac{\\partial}{\\partial t} \\psi{\\left(t,\\rho \\right)}\\right)^{2} + \\rho \\frac{\\partial^{2}}{\\partial t^{2}} \\psi{\\left(t,\\rho \\right)} - \\frac{\\partial}{\\partial \\rho} \\psi{\\left(t,\\rho \\right)}\\right) e^{- 2 \\gamma{\\left(t,\\rho \\right)} + 2 \\psi{\\left(t,\\rho \\right)}} e^{2 \\psi{\\left(t,\\rho \\right)}}}{\\rho}\\end{matrix}\\right]$"
      ],
      "text/plain": [
       "⎡  ⎛  2              2              2                           2     2         ⎞           \n",
       "⎢  ⎜ ∂              ∂              ∂               ⎛∂          ⎞     ∂          ⎟   ∂       \n",
       "⎢ρ⋅⎜───(γ(t, ρ)) - ───(γ(t, ρ)) - ───(ψ(t, ρ)) - 2⋅⎜──(ψ(t, ρ))⎟  + ───(ψ(t, ρ))⎟ + ──(γ(t, \n",
       "⎢  ⎜  2              2              2              ⎝∂t         ⎠      2         ⎟   ∂ρ      \n",
       "⎢  ⎝∂ρ             ∂t             ∂ρ                                ∂t          ⎠           \n",
       "⎢───────────────────────────────────────────────────────────────────────────────────────────\n",
       "⎢                                                     ρ                                     \n",
       "⎢                                                                                           \n",
       "⎢                                                                                           \n",
       "⎢                                                                                           \n",
       "⎢                                                                                           \n",
       "⎢                                                                                           \n",
       "⎢                                                                                           \n",
       "⎢                                                                                           \n",
       "⎢                                                                                           \n",
       "⎢                                                                                           \n",
       "⎢                                                                                           \n",
       "⎢                                                                                           \n",
       "⎢                                                                                           \n",
       "⎢                                                                                           \n",
       "⎢                                                                                           \n",
       "⎢                                                                                           \n",
       "⎢                                                                                           \n",
       "⎢                                                                                           \n",
       "⎢                                                                                           \n",
       "⎢                                                                                           \n",
       "⎢                                                                                           \n",
       "⎢                                                                                           \n",
       "⎣                                                                                           \n",
       "\n",
       "                    ⎛    2                2                           2       2             \n",
       "      ∂             ⎜   ∂                ∂               ⎛∂          ⎞       ∂              \n",
       "ρ)) - ──(ψ(t, ρ))   ⎜ρ⋅───(γ(t, ρ)) - ρ⋅───(γ(t, ρ)) + ρ⋅⎜──(ψ(t, ρ))⎟  - ρ⋅───(ψ(t, ρ)) - ρ\n",
       "      ∂ρ            ⎜    2                2              ⎝∂ρ         ⎠        2             \n",
       "                    ⎝  ∂ρ               ∂t                                  ∂ρ              \n",
       "───────────────── - ────────────────────────────────────────────────────────────────────────\n",
       "                                                                                            \n",
       "                                                                                            \n",
       "                                                                                            \n",
       "                                                                                            \n",
       "                                                         ∂                                  \n",
       "                                                         ──(γ(t, ρ))                        \n",
       "                               ∂           ∂             ∂t                                 \n",
       "                           - 2⋅──(ψ(t, ρ))⋅──(ψ(t, ρ)) + ───────────                        \n",
       "                               ∂ρ          ∂t                 ρ                             \n",
       "                                                                                            \n",
       "                                                                                            \n",
       "                                                                                            \n",
       "                                               0                                            \n",
       "                                                                                            \n",
       "                                                                                            \n",
       "                                                                                            \n",
       "                                                                                            \n",
       "                                                                                            \n",
       "                                                                                            \n",
       "                                                                                            \n",
       "                                                                                            \n",
       "                                               0                                            \n",
       "                                                                                            \n",
       "\n",
       "              2       2                       ⎞                                             \n",
       " ⎛∂          ⎞       ∂             ∂          ⎟  -2⋅γ(t, ρ) + 2⋅ψ(t, ρ)  2⋅γ(t, ρ)  -2⋅ψ(t, \n",
       "⋅⎜──(ψ(t, ρ))⎟  + ρ⋅───(ψ(t, ρ)) - ──(ψ(t, ρ))⎟⋅ℯ                      ⋅ℯ         ⋅ℯ        \n",
       " ⎝∂t         ⎠        2            ∂ρ         ⎟                                             \n",
       "                    ∂t                        ⎠                                             \n",
       "────────────────────────────────────────────────────────────────────────────────────────────\n",
       "          ρ                                                                                 \n",
       "                                                                                            \n",
       "                                                                                            \n",
       "                                                                                            \n",
       "                                                                                            \n",
       "                                                                                            \n",
       "                                                                                            \n",
       "                                                                                            \n",
       "                                                                                            \n",
       "                                                                                            \n",
       "                                                                                            \n",
       "                                                                                            \n",
       "                                                                                            \n",
       "                                                                                            \n",
       "                                                                                            \n",
       "                                                                                            \n",
       "                                                                                            \n",
       "                                                                                            \n",
       "                                                                                            \n",
       "                                                                                            \n",
       "                                                                                            \n",
       "                                                                                            \n",
       "                                                                                            \n",
       "\n",
       "                                                                                            \n",
       "ρ)                                                                                          \n",
       "                                                                                            \n",
       "                                                                                            \n",
       "                                                                                            \n",
       "──                                                                                          \n",
       "                                                                                            \n",
       "                                                                                            \n",
       "      ⎛    2              2                           2     2              2         ⎞      \n",
       "      ⎜   ∂              ∂               ⎛∂          ⎞     ∂              ∂          ⎟   ∂  \n",
       "    ρ⋅⎜- ───(γ(t, ρ)) + ───(γ(t, ρ)) - 2⋅⎜──(ψ(t, ρ))⎟  + ───(ψ(t, ρ)) - ───(ψ(t, ρ))⎟ + ──(\n",
       "      ⎜    2              2              ⎝∂ρ         ⎠      2              2         ⎟   ∂ρ \n",
       "      ⎝  ∂ρ             ∂t                                ∂ρ             ∂t          ⎠      \n",
       "    ────────────────────────────────────────────────────────────────────────────────────────\n",
       "                                                          ρ                                 \n",
       "                                                                                            \n",
       "                                                                                            \n",
       "                                                                                            \n",
       "                                                                                            \n",
       "                                                                                            \n",
       "                                                                                            \n",
       "                                                                                            \n",
       "                                                                                            \n",
       "                                                                                            \n",
       "                                                                                            \n",
       "                                                                                            \n",
       "                                                                                            \n",
       "                                                                                            \n",
       "                                                                                            \n",
       "\n",
       "                                                                                            \n",
       "                                                                                            \n",
       "                                                               ∂                            \n",
       "                                                               ──(γ(t, ρ))                  \n",
       "                                     ∂           ∂             ∂t                           \n",
       "                                 - 2⋅──(ψ(t, ρ))⋅──(ψ(t, ρ)) + ───────────                  \n",
       "                                     ∂ρ          ∂t                 ρ                       \n",
       "                                                                                            \n",
       "                             ⎛    2                2                           2       2    \n",
       "           ∂                 ⎜   ∂                ∂               ⎛∂          ⎞       ∂     \n",
       "γ(t, ρ)) + ──(ψ(t, ρ))   1.0⋅⎜ρ⋅───(γ(t, ρ)) - ρ⋅───(γ(t, ρ)) + ρ⋅⎜──(ψ(t, ρ))⎟  - ρ⋅───(ψ(t\n",
       "           ∂ρ                ⎜    2                2              ⎝∂ρ         ⎠        2    \n",
       "                             ⎝  ∂ρ               ∂t                                  ∂ρ     \n",
       "────────────────────── + ───────────────────────────────────────────────────────────────────\n",
       "                                                                                            \n",
       "                                                                                            \n",
       "                                                                                            \n",
       "                                                                                            \n",
       "                                                     0                                      \n",
       "                                                                                            \n",
       "                                                                                            \n",
       "                                                                                            \n",
       "                                                                                            \n",
       "                                                                                            \n",
       "                                                                                            \n",
       "                                                                                            \n",
       "                                                                                            \n",
       "                                                     0                                      \n",
       "                                                                                            \n",
       "\n",
       "                                                                                            \n",
       "                                                                                            \n",
       "                                                                                            \n",
       "                                                                                            \n",
       "                                                                                            \n",
       "                                                                                            \n",
       "                                                                                            \n",
       "                                                                                            \n",
       "                       2       2                       ⎞                                    \n",
       "          ⎛∂          ⎞       ∂             ∂          ⎟  -2⋅γ(t, ρ) + 2⋅ψ(t, ρ)  2⋅γ(t, ρ) \n",
       ", ρ)) - ρ⋅⎜──(ψ(t, ρ))⎟  + ρ⋅───(ψ(t, ρ)) - ──(ψ(t, ρ))⎟⋅ℯ                      ⋅ℯ         ⋅\n",
       "          ⎝∂t         ⎠        2            ∂ρ         ⎟                                    \n",
       "                             ∂t                        ⎠                                    \n",
       "────────────────────────────────────────────────────────────────────────────────────────────\n",
       "                 ρ                                                                          \n",
       "                                                                                            \n",
       "                                                                                            \n",
       "                                                                                            \n",
       "                                                                                            \n",
       "                                                                                            \n",
       "                                                                                            \n",
       "                                                                                            \n",
       "                                                                                            \n",
       "                                                                                            \n",
       "                                                                                            \n",
       "                                                                                            \n",
       "                                                                                            \n",
       "                                                                                            \n",
       "                                                                                            \n",
       "\n",
       "                                                                                            \n",
       "                                                                                            \n",
       "                                                                                            \n",
       "                                                                                            \n",
       "                                                                                            \n",
       "                                                                                            \n",
       "                                                                                            \n",
       "                                                                                            \n",
       "                                                                                            \n",
       " -2⋅ψ(t, ρ)                                                                                 \n",
       "ℯ                                                                                           \n",
       "                                                                                            \n",
       "                                                                                            \n",
       "───────────                                                                                 \n",
       "                                                                                            \n",
       "                                                                                            \n",
       "               ⎛    2                2                       ⎞                     ⎛    2   \n",
       "               ⎜   ∂                ∂             ∂          ⎟  -2⋅γ(t, ρ)         ⎜   ∂    \n",
       "             ρ⋅⎜ρ⋅───(ψ(t, ρ)) - ρ⋅───(ψ(t, ρ)) + ──(ψ(t, ρ))⎟⋅ℯ           + 1.0⋅ρ⋅⎜ρ⋅───(γ(\n",
       "               ⎜    2                2            ∂ρ         ⎟                     ⎜    2   \n",
       "               ⎝  ∂ρ               ∂t                        ⎠                     ⎝  ∂ρ    \n",
       "                                                                                            \n",
       "                                                                                            \n",
       "                                                                                            \n",
       "                                                                                            \n",
       "                                                                                            \n",
       "                                                                                            \n",
       "                                                                                            \n",
       "                                                                                            \n",
       "\n",
       "                                                                                            \n",
       "                                                                                            \n",
       "                                                                                            \n",
       "                                                                                            \n",
       "                                                                                            \n",
       "                                 0                                                          \n",
       "                                                                                            \n",
       "                                                                                            \n",
       "                                                                                            \n",
       "                                                                                            \n",
       "                                                                                            \n",
       "                                                                                            \n",
       "                                                                                            \n",
       "                                 0                                                          \n",
       "                                                                                            \n",
       "                                                                                            \n",
       "             2                           2       2                           2       2      \n",
       "            ∂               ⎛∂          ⎞       ∂               ⎛∂          ⎞       ∂       \n",
       "t, ρ)) - ρ⋅───(γ(t, ρ)) + ρ⋅⎜──(ψ(t, ρ))⎟  - ρ⋅───(ψ(t, ρ)) - ρ⋅⎜──(ψ(t, ρ))⎟  + ρ⋅───(ψ(t, \n",
       "             2              ⎝∂ρ         ⎠        2              ⎝∂t         ⎠        2      \n",
       "           ∂t                                  ∂ρ                                  ∂t       \n",
       "                                                                                            \n",
       "                                                                                            \n",
       "                                                                                            \n",
       "                                                                                            \n",
       "                                                                                            \n",
       "                                                                                            \n",
       "                                 0                                                          \n",
       "                                                                                            \n",
       "\n",
       "                                                                                            \n",
       "                                                                                            \n",
       "                                                                                            \n",
       "                                                                                            \n",
       "                                                                                            \n",
       "                                                                                            \n",
       "                                                                                            \n",
       "                                                                                            \n",
       "                                                                                            \n",
       "                                                                                            \n",
       "                                                                                            \n",
       "                                                                                            \n",
       "                                                                                            \n",
       "                                                                                            \n",
       "                                                                                            \n",
       "                                                                                            \n",
       "                 ⎞                                                                          \n",
       "      ∂          ⎟  -2⋅γ(t, ρ) + 2⋅ψ(t, ρ)  -2⋅ψ(t, ρ)                                      \n",
       "ρ)) - ──(ψ(t, ρ))⎟⋅ℯ                      ⋅ℯ                                                \n",
       "      ∂ρ         ⎟                                                                          \n",
       "                 ⎠                                                                          \n",
       "                                                                                            \n",
       "                                                        ⎛      2                2           \n",
       "                                                        ⎜     ∂                ∂            \n",
       "                                                        ⎜- ρ⋅───(ψ(t, ρ)) + ρ⋅───(ψ(t, ρ)) -\n",
       "                                                        ⎜      2                2           \n",
       "                                                        ⎝    ∂ρ               ∂t            \n",
       "                                                        ────────────────────────────────────\n",
       "                                                                                            \n",
       "\n",
       "                                                                                            \n",
       "                                                                                            \n",
       "                                                                                            \n",
       "                                                                                            \n",
       "                                                                                            \n",
       "                                                                                0           \n",
       "                                                                                            \n",
       "                                                                                            \n",
       "                                                                                            \n",
       "                                                                                            \n",
       "                                                                                            \n",
       "                                                                                            \n",
       "                                                                                            \n",
       "                                                                                0           \n",
       "                                                                                            \n",
       "                                                                                            \n",
       "                                                                                            \n",
       "                                                                                            \n",
       "                                                                                0           \n",
       "                                                                                            \n",
       "                                                                                            \n",
       "                                                                                            \n",
       "            ⎞                               ⎛    2                2                         \n",
       " ∂          ⎟  -2⋅γ(t, ρ) + 4⋅ψ(t, ρ)       ⎜   ∂                ∂               ⎛∂         \n",
       " ──(ψ(t, ρ))⎟⋅ℯ                         1.0⋅⎜ρ⋅───(γ(t, ρ)) - ρ⋅───(γ(t, ρ)) + ρ⋅⎜──(ψ(t, ρ)\n",
       " ∂ρ         ⎟                               ⎜    2                2              ⎝∂ρ        \n",
       "            ⎠                               ⎝  ∂ρ               ∂t                          \n",
       "───────────────────────────────────── + ────────────────────────────────────────────────────\n",
       "ρ                                                                                           \n",
       "\n",
       "                                                                                            \n",
       "                                                                                            \n",
       "                                                                                            \n",
       "                                                                                            \n",
       "                                                                                            \n",
       "                                                                                            \n",
       "                                                                                            \n",
       "                                                                                            \n",
       "                                                                                            \n",
       "                                                                                            \n",
       "                                                                                            \n",
       "                                                                                            \n",
       "                                                                                            \n",
       "                                                                                            \n",
       "                                                                                            \n",
       "                                                                                            \n",
       "                                                                                            \n",
       "                                                                                            \n",
       "                                                                                            \n",
       "                                                                                            \n",
       "                                                                                            \n",
       "                                                                                            \n",
       "  2       2                           2       2                       ⎞                     \n",
       " ⎞       ∂               ⎛∂          ⎞       ∂             ∂          ⎟  -2⋅γ(t, ρ) + 2⋅ψ(t,\n",
       ")⎟  - ρ⋅───(ψ(t, ρ)) - ρ⋅⎜──(ψ(t, ρ))⎟  + ρ⋅───(ψ(t, ρ)) - ──(ψ(t, ρ))⎟⋅ℯ                   \n",
       " ⎠        2              ⎝∂t         ⎠        2            ∂ρ         ⎟                     \n",
       "        ∂ρ                                  ∂t                        ⎠                     \n",
       "────────────────────────────────────────────────────────────────────────────────────────────\n",
       "                          ρ                                                                 \n",
       "\n",
       "              ⎤\n",
       "              ⎥\n",
       "              ⎥\n",
       "              ⎥\n",
       "              ⎥\n",
       "              ⎥\n",
       "              ⎥\n",
       "              ⎥\n",
       "              ⎥\n",
       "              ⎥\n",
       "              ⎥\n",
       "              ⎥\n",
       "              ⎥\n",
       "              ⎥\n",
       "              ⎥\n",
       "              ⎥\n",
       "              ⎥\n",
       "              ⎥\n",
       "              ⎥\n",
       "              ⎥\n",
       "              ⎥\n",
       "              ⎥\n",
       "              ⎥\n",
       " ρ)  2⋅ψ(t, ρ)⎥\n",
       "   ⋅ℯ         ⎥\n",
       "              ⎥\n",
       "              ⎥\n",
       "──────────────⎥\n",
       "              ⎦"
      ]
     },
     "execution_count": 18,
     "metadata": {},
     "output_type": "execute_result"
    }
   ],
   "source": [
    "einst = EinsteinTensor.from_metric(metric)\n",
    "einst.tensor()"
   ]
  },
  {
   "cell_type": "code",
   "execution_count": 19,
   "id": "bb040076",
   "metadata": {},
   "outputs": [],
   "source": [
    "#  rm1 = RiemannCurvatureTensor.from_christoffels(ch)\n",
    "#  rm1.tensor()"
   ]
  },
  {
   "cell_type": "code",
   "execution_count": 20,
   "id": "4e4a578f",
   "metadata": {},
   "outputs": [],
   "source": [
    "#  weyl = WeylTensor.from_metric(metric)\n",
    "#  weyl.tensor()"
   ]
  },
  {
   "cell_type": "code",
   "execution_count": 21,
   "id": "c49bafec",
   "metadata": {},
   "outputs": [
    {
     "data": {
      "text/latex": [
       "$\\displaystyle \\left[\\begin{matrix}\\frac{- \\rho \\left(- \\frac{\\partial^{2}}{\\partial \\rho^{2}} \\gamma{\\left(t,\\rho \\right)} + \\frac{\\partial^{2}}{\\partial t^{2}} \\gamma{\\left(t,\\rho \\right)} + \\frac{\\partial^{2}}{\\partial \\rho^{2}} \\psi{\\left(t,\\rho \\right)} + 2 \\left(\\frac{\\partial}{\\partial t} \\psi{\\left(t,\\rho \\right)}\\right)^{2} - \\frac{\\partial^{2}}{\\partial t^{2}} \\psi{\\left(t,\\rho \\right)}\\right) + \\frac{\\partial}{\\partial \\rho} \\gamma{\\left(t,\\rho \\right)} - \\frac{\\partial}{\\partial \\rho} \\psi{\\left(t,\\rho \\right)}}{\\rho} & - 2 \\frac{\\partial}{\\partial \\rho} \\psi{\\left(t,\\rho \\right)} \\frac{\\partial}{\\partial t} \\psi{\\left(t,\\rho \\right)} + \\frac{\\frac{\\partial}{\\partial t} \\gamma{\\left(t,\\rho \\right)}}{\\rho} & 0 & 0\\\\- 2 \\frac{\\partial}{\\partial \\rho} \\psi{\\left(t,\\rho \\right)} \\frac{\\partial}{\\partial t} \\psi{\\left(t,\\rho \\right)} + \\frac{\\frac{\\partial}{\\partial t} \\gamma{\\left(t,\\rho \\right)}}{\\rho} & \\frac{- \\rho \\left(\\frac{\\partial^{2}}{\\partial \\rho^{2}} \\gamma{\\left(t,\\rho \\right)} - \\frac{\\partial^{2}}{\\partial t^{2}} \\gamma{\\left(t,\\rho \\right)} + 2 \\left(\\frac{\\partial}{\\partial \\rho} \\psi{\\left(t,\\rho \\right)}\\right)^{2} - \\frac{\\partial^{2}}{\\partial \\rho^{2}} \\psi{\\left(t,\\rho \\right)} + \\frac{\\partial^{2}}{\\partial t^{2}} \\psi{\\left(t,\\rho \\right)}\\right) + \\frac{\\partial}{\\partial \\rho} \\gamma{\\left(t,\\rho \\right)} + \\frac{\\partial}{\\partial \\rho} \\psi{\\left(t,\\rho \\right)}}{\\rho} & 0 & 0\\\\0 & 0 & \\rho \\left(\\rho \\frac{\\partial^{2}}{\\partial \\rho^{2}} \\psi{\\left(t,\\rho \\right)} - \\rho \\frac{\\partial^{2}}{\\partial t^{2}} \\psi{\\left(t,\\rho \\right)} + \\frac{\\partial}{\\partial \\rho} \\psi{\\left(t,\\rho \\right)}\\right) e^{- 2 \\gamma{\\left(t,\\rho \\right)}} & 0\\\\0 & 0 & 0 & \\frac{\\left(- \\rho \\frac{\\partial^{2}}{\\partial \\rho^{2}} \\psi{\\left(t,\\rho \\right)} + \\rho \\frac{\\partial^{2}}{\\partial t^{2}} \\psi{\\left(t,\\rho \\right)} - \\frac{\\partial}{\\partial \\rho} \\psi{\\left(t,\\rho \\right)}\\right) e^{- 2 \\gamma{\\left(t,\\rho \\right)} + 4 \\psi{\\left(t,\\rho \\right)}}}{\\rho}\\end{matrix}\\right]$"
      ],
      "text/plain": [
       "⎡    ⎛    2              2              2                           2     2         ⎞       \n",
       "⎢    ⎜   ∂              ∂              ∂               ⎛∂          ⎞     ∂          ⎟   ∂   \n",
       "⎢- ρ⋅⎜- ───(γ(t, ρ)) + ───(γ(t, ρ)) + ───(ψ(t, ρ)) + 2⋅⎜──(ψ(t, ρ))⎟  - ───(ψ(t, ρ))⎟ + ──(γ\n",
       "⎢    ⎜    2              2              2              ⎝∂t         ⎠      2         ⎟   ∂ρ  \n",
       "⎢    ⎝  ∂ρ             ∂t             ∂ρ                                ∂t          ⎠       \n",
       "⎢───────────────────────────────────────────────────────────────────────────────────────────\n",
       "⎢                                                       ρ                                   \n",
       "⎢                                                                                           \n",
       "⎢                                                                                           \n",
       "⎢                                                                                           \n",
       "⎢                                                                 ∂                         \n",
       "⎢                                                                 ──(γ(t, ρ))               \n",
       "⎢                                       ∂           ∂             ∂t                        \n",
       "⎢                                   - 2⋅──(ψ(t, ρ))⋅──(ψ(t, ρ)) + ───────────               \n",
       "⎢                                       ∂ρ          ∂t                 ρ                    \n",
       "⎢                                                                                           \n",
       "⎢                                                                                           \n",
       "⎢                                                                                           \n",
       "⎢                                                       0                                   \n",
       "⎢                                                                                           \n",
       "⎢                                                                                           \n",
       "⎢                                                                                           \n",
       "⎢                                                                                           \n",
       "⎢                                                                                           \n",
       "⎢                                                                                           \n",
       "⎢                                                                                           \n",
       "⎢                                                                                           \n",
       "⎢                                                       0                                   \n",
       "⎣                                                                                           \n",
       "\n",
       "                                                                                            \n",
       "          ∂                                                                                 \n",
       "(t, ρ)) - ──(ψ(t, ρ))                                                                  ∂    \n",
       "          ∂ρ                                                                           ──(γ(\n",
       "                                                             ∂           ∂             ∂t   \n",
       "─────────────────────                                    - 2⋅──(ψ(t, ρ))⋅──(ψ(t, ρ)) + ─────\n",
       "                                                             ∂ρ          ∂t                 \n",
       "                                                                                            \n",
       "                           ⎛  2              2                           2     2            \n",
       "                           ⎜ ∂              ∂               ⎛∂          ⎞     ∂             \n",
       "                       - ρ⋅⎜───(γ(t, ρ)) - ───(γ(t, ρ)) + 2⋅⎜──(ψ(t, ρ))⎟  - ───(ψ(t, ρ)) + \n",
       "                           ⎜  2              2              ⎝∂ρ         ⎠      2            \n",
       "                           ⎝∂ρ             ∂t                                ∂ρ             \n",
       "                       ─────────────────────────────────────────────────────────────────────\n",
       "                                                                             ρ              \n",
       "                                                                                            \n",
       "                                                                                            \n",
       "                                                                                            \n",
       "                                                                             0              \n",
       "                                                                                            \n",
       "                                                                                            \n",
       "                                                                                            \n",
       "                                                                                            \n",
       "                                                                                            \n",
       "                                                                                            \n",
       "                                                                                            \n",
       "                                                                                            \n",
       "                                                                             0              \n",
       "                                                                                            \n",
       "\n",
       "                                                                                            \n",
       "                                                                                            \n",
       "                                                                                            \n",
       "t, ρ))                                                                                      \n",
       "                                                                                            \n",
       "──────                                                                   0                  \n",
       "ρ                                                                                           \n",
       "                                                                                            \n",
       "  2         ⎞                                                                               \n",
       " ∂          ⎟   ∂             ∂                                                             \n",
       "───(ψ(t, ρ))⎟ + ──(γ(t, ρ)) + ──(ψ(t, ρ))                                                   \n",
       "  2         ⎟   ∂ρ            ∂ρ                                                            \n",
       "∂t          ⎠                                                                               \n",
       "─────────────────────────────────────────                                0                  \n",
       "                                                                                            \n",
       "                                                                                            \n",
       "                                             ⎛    2                2                       ⎞\n",
       "                                             ⎜   ∂                ∂             ∂          ⎟\n",
       "                                           ρ⋅⎜ρ⋅───(ψ(t, ρ)) - ρ⋅───(ψ(t, ρ)) + ──(ψ(t, ρ))⎟\n",
       "                                             ⎜    2                2            ∂ρ         ⎟\n",
       "                                             ⎝  ∂ρ               ∂t                        ⎠\n",
       "                                                                                            \n",
       "                                                                                            \n",
       "                                                                                            \n",
       "                                                                                            \n",
       "                                                                                            \n",
       "                                                                                            \n",
       "                                                                         0                  \n",
       "                                                                                            \n",
       "\n",
       "                                                                                       ⎤\n",
       "                                                                                       ⎥\n",
       "                                                                                       ⎥\n",
       "                                                                                       ⎥\n",
       "                                                                                       ⎥\n",
       "                                                  0                                    ⎥\n",
       "                                                                                       ⎥\n",
       "                                                                                       ⎥\n",
       "                                                                                       ⎥\n",
       "                                                                                       ⎥\n",
       "                                                                                       ⎥\n",
       "                                                                                       ⎥\n",
       "                                                                                       ⎥\n",
       "                                                  0                                    ⎥\n",
       "                                                                                       ⎥\n",
       "                                                                                       ⎥\n",
       "                                                                                       ⎥\n",
       "  -2⋅γ(t, ρ)                                                                           ⎥\n",
       "⋅ℯ                                                0                                    ⎥\n",
       "                                                                                       ⎥\n",
       "                                                                                       ⎥\n",
       "                                                                                       ⎥\n",
       "              ⎛      2                2                       ⎞                        ⎥\n",
       "              ⎜     ∂                ∂             ∂          ⎟  -2⋅γ(t, ρ) + 4⋅ψ(t, ρ)⎥\n",
       "              ⎜- ρ⋅───(ψ(t, ρ)) + ρ⋅───(ψ(t, ρ)) - ──(ψ(t, ρ))⎟⋅ℯ                      ⎥\n",
       "              ⎜      2                2            ∂ρ         ⎟                        ⎥\n",
       "              ⎝    ∂ρ               ∂t                        ⎠                        ⎥\n",
       "              ─────────────────────────────────────────────────────────────────────────⎥\n",
       "                                                  ρ                                    ⎦"
      ]
     },
     "execution_count": 21,
     "metadata": {},
     "output_type": "execute_result"
    }
   ],
   "source": [
    "ricciSimplified = simplify(Ric.tensor())\n",
    "ricciSimplified"
   ]
  },
  {
   "cell_type": "code",
   "execution_count": 22,
   "id": "6c05e5c3",
   "metadata": {
    "scrolled": true
   },
   "outputs": [
    {
     "data": {
      "text/latex": [
       "$\\displaystyle \\left[\\begin{matrix}- 1.0 \\left(\\frac{\\partial}{\\partial \\rho} \\psi{\\left(t,\\rho \\right)}\\right)^{2} - 1.0 \\left(\\frac{\\partial}{\\partial t} \\psi{\\left(t,\\rho \\right)}\\right)^{2} + \\frac{1.0 \\frac{\\partial}{\\partial \\rho} \\gamma{\\left(t,\\rho \\right)}}{\\rho} & - 2 \\frac{\\partial}{\\partial \\rho} \\psi{\\left(t,\\rho \\right)} \\frac{\\partial}{\\partial t} \\psi{\\left(t,\\rho \\right)} + \\frac{\\frac{\\partial}{\\partial t} \\gamma{\\left(t,\\rho \\right)}}{\\rho} & 0 & 0\\\\- 2 \\frac{\\partial}{\\partial \\rho} \\psi{\\left(t,\\rho \\right)} \\frac{\\partial}{\\partial t} \\psi{\\left(t,\\rho \\right)} + \\frac{\\frac{\\partial}{\\partial t} \\gamma{\\left(t,\\rho \\right)}}{\\rho} & - 1.0 \\left(\\frac{\\partial}{\\partial \\rho} \\psi{\\left(t,\\rho \\right)}\\right)^{2} - 1.0 \\left(\\frac{\\partial}{\\partial t} \\psi{\\left(t,\\rho \\right)}\\right)^{2} + \\frac{1.0 \\frac{\\partial}{\\partial \\rho} \\gamma{\\left(t,\\rho \\right)}}{\\rho} & 0 & 0\\\\0 & 0 & 1.0 \\rho^{2} \\left(\\frac{\\partial^{2}}{\\partial \\rho^{2}} \\gamma{\\left(t,\\rho \\right)} - \\frac{\\partial^{2}}{\\partial t^{2}} \\gamma{\\left(t,\\rho \\right)} + \\left(\\frac{\\partial}{\\partial \\rho} \\psi{\\left(t,\\rho \\right)}\\right)^{2} - \\left(\\frac{\\partial}{\\partial t} \\psi{\\left(t,\\rho \\right)}\\right)^{2}\\right) e^{- 2 \\gamma{\\left(t,\\rho \\right)}} & 0\\\\0 & 0 & 0 & \\frac{\\left(1.0 \\rho \\frac{\\partial^{2}}{\\partial \\rho^{2}} \\gamma{\\left(t,\\rho \\right)} - 1.0 \\rho \\frac{\\partial^{2}}{\\partial t^{2}} \\gamma{\\left(t,\\rho \\right)} + 1.0 \\rho \\left(\\frac{\\partial}{\\partial \\rho} \\psi{\\left(t,\\rho \\right)}\\right)^{2} - 2.0 \\rho \\frac{\\partial^{2}}{\\partial \\rho^{2}} \\psi{\\left(t,\\rho \\right)} - 1.0 \\rho \\left(\\frac{\\partial}{\\partial t} \\psi{\\left(t,\\rho \\right)}\\right)^{2} + 2.0 \\rho \\frac{\\partial^{2}}{\\partial t^{2}} \\psi{\\left(t,\\rho \\right)} - 2.0 \\frac{\\partial}{\\partial \\rho} \\psi{\\left(t,\\rho \\right)}\\right) e^{- 2 \\gamma{\\left(t,\\rho \\right)} + 4 \\psi{\\left(t,\\rho \\right)}}}{\\rho}\\end{matrix}\\right]$"
      ],
      "text/plain": [
       "⎡                                        ∂                                               ∂  \n",
       "⎢               2                2   1.0⋅──(γ(t, ρ))                                     ──(\n",
       "⎢  ⎛∂          ⎞    ⎛∂          ⎞        ∂ρ                    ∂           ∂             ∂t \n",
       "⎢- ⎜──(ψ(t, ρ))⎟  - ⎜──(ψ(t, ρ))⎟  + ───────────────       - 2⋅──(ψ(t, ρ))⋅──(ψ(t, ρ)) + ───\n",
       "⎢  ⎝∂ρ         ⎠    ⎝∂t         ⎠           ρ                  ∂ρ          ∂t               \n",
       "⎢                                                                                           \n",
       "⎢                                   ∂                                                       \n",
       "⎢                                   ──(γ(t, ρ))                      2                2   1.\n",
       "⎢         ∂           ∂             ∂t                  ⎛∂          ⎞    ⎛∂          ⎞      \n",
       "⎢     - 2⋅──(ψ(t, ρ))⋅──(ψ(t, ρ)) + ───────────       - ⎜──(ψ(t, ρ))⎟  - ⎜──(ψ(t, ρ))⎟  + ──\n",
       "⎢         ∂ρ          ∂t                 ρ              ⎝∂ρ         ⎠    ⎝∂t         ⎠      \n",
       "⎢                                                                                           \n",
       "⎢                                                                                           \n",
       "⎢                                                                                           \n",
       "⎢                         0                                                    0            \n",
       "⎢                                                                                           \n",
       "⎢                                                                                           \n",
       "⎢                                                                                           \n",
       "⎢                                                                                           \n",
       "⎢                                                                                           \n",
       "⎢                                                                                           \n",
       "⎢                                                                                           \n",
       "⎢                                                                                           \n",
       "⎢                         0                                                    0            \n",
       "⎣                                                                                           \n",
       "\n",
       "                                                                                            \n",
       "γ(t, ρ))                                                                                    \n",
       "                                                                                            \n",
       "────────                                               0                                    \n",
       "  ρ                                                                                         \n",
       "                                                                                            \n",
       "  ∂                                                                                         \n",
       "0⋅──(γ(t, ρ))                                                                               \n",
       "  ∂ρ                                                                                        \n",
       "─────────────                                          0                                    \n",
       "     ρ                                                                                      \n",
       "                                                                                            \n",
       "                      ⎛  2              2                         2                2⎞       \n",
       "                    2 ⎜ ∂              ∂             ⎛∂          ⎞    ⎛∂          ⎞ ⎟  -2⋅γ(\n",
       "               1.0⋅ρ ⋅⎜───(γ(t, ρ)) - ───(γ(t, ρ)) + ⎜──(ψ(t, ρ))⎟  - ⎜──(ψ(t, ρ))⎟ ⎟⋅ℯ     \n",
       "                      ⎜  2              2            ⎝∂ρ         ⎠    ⎝∂t         ⎠ ⎟       \n",
       "                      ⎝∂ρ             ∂t                                            ⎠       \n",
       "                                                                                            \n",
       "                                                                                            \n",
       "                                                                                            \n",
       "                                                                                            \n",
       "                                                                                            \n",
       "                                                                                            \n",
       "                                                       0                                    \n",
       "                                                                                            \n",
       "\n",
       "                                                                                            \n",
       "                                                                                            \n",
       "                                                                                            \n",
       "                                                                                        0   \n",
       "                                                                                            \n",
       "                                                                                            \n",
       "                                                                                            \n",
       "                                                                                            \n",
       "                                                                                            \n",
       "                                                                                        0   \n",
       "                                                                                            \n",
       "                                                                                            \n",
       "                                                                                            \n",
       "t, ρ)                                                                                       \n",
       "                                                                                        0   \n",
       "                                                                                            \n",
       "                                                                                            \n",
       "                                                                                            \n",
       "       ⎛        2                2                               2           2              \n",
       "       ⎜       ∂                ∂                   ⎛∂          ⎞           ∂               \n",
       "       ⎜1.0⋅ρ⋅───(γ(t, ρ)) - ρ⋅───(γ(t, ρ)) + 1.0⋅ρ⋅⎜──(ψ(t, ρ))⎟  - 2.0⋅ρ⋅───(ψ(t, ρ)) - ρ⋅\n",
       "       ⎜        2                2                  ⎝∂ρ         ⎠            2              \n",
       "       ⎝      ∂ρ               ∂t                                          ∂ρ               \n",
       "       ─────────────────────────────────────────────────────────────────────────────────────\n",
       "                                                                                        ρ   \n",
       "\n",
       "                                                                              ⎤\n",
       "                                                                              ⎥\n",
       "                                                                              ⎥\n",
       "                                                                              ⎥\n",
       "                                                                              ⎥\n",
       "                                                                              ⎥\n",
       "                                                                              ⎥\n",
       "                                                                              ⎥\n",
       "                                                                              ⎥\n",
       "                                                                              ⎥\n",
       "                                                                              ⎥\n",
       "                                                                              ⎥\n",
       "                                                                              ⎥\n",
       "                                                                              ⎥\n",
       "                                                                              ⎥\n",
       "                                                                              ⎥\n",
       "                                                                              ⎥\n",
       "                                                                              ⎥\n",
       "             2           2                           ⎞                        ⎥\n",
       "⎛∂          ⎞           ∂                 ∂          ⎟  -2⋅γ(t, ρ) + 4⋅ψ(t, ρ)⎥\n",
       "⎜──(ψ(t, ρ))⎟  + 2.0⋅ρ⋅───(ψ(t, ρ)) - 2.0⋅──(ψ(t, ρ))⎟⋅ℯ                      ⎥\n",
       "⎝∂t         ⎠            2                ∂ρ         ⎟                        ⎥\n",
       "                       ∂t                            ⎠                        ⎥\n",
       "──────────────────────────────────────────────────────────────────────────────⎥\n",
       "                                                                              ⎦"
      ]
     },
     "execution_count": 22,
     "metadata": {},
     "output_type": "execute_result"
    }
   ],
   "source": [
    "einsteinSimplified = simplify(einst.tensor())\n",
    "einsteinSimplified"
   ]
  },
  {
   "cell_type": "code",
   "execution_count": 32,
   "id": "c00cc8b3",
   "metadata": {},
   "outputs": [
    {
     "data": {
      "image/png": "[encoded data removed]",
      "text/latex": [
       "$\\displaystyle - \\frac{\\partial^{2}}{\\partial \\rho^{2}} \\psi{\\left(t,\\rho \\right)} + \\frac{\\partial^{2}}{\\partial t^{2}} \\psi{\\left(t,\\rho \\right)} - \\frac{\\frac{\\partial}{\\partial \\rho} \\psi{\\left(t,\\rho \\right)}}{\\rho} = 0$"
      ],
      "text/plain": [
       "                                ∂              \n",
       "    2              2            ──(ψ(t, ρ))    \n",
       "   ∂              ∂             ∂ρ             \n",
       "- ───(ψ(t, ρ)) + ───(ψ(t, ρ)) - ─────────── = 0\n",
       "    2              2                 ρ         \n",
       "  ∂ρ             ∂t                            "
      ]
     },
     "execution_count": 32,
     "metadata": {},
     "output_type": "execute_result"
    }
   ],
   "source": [
    "equation8a = Eq(expand((1/rho)*ricciSimplified[3,3].args[1]),0)\n",
    "equation8a"
   ]
  },
  {
   "cell_type": "code",
   "execution_count": 34,
   "id": "5a6555d3",
   "metadata": {},
   "outputs": [
    {
     "data": {
      "image/png": "[encoded data removed]",
      "text/latex": [
       "$\\displaystyle \\frac{\\partial}{\\partial \\rho} \\gamma{\\left(t,\\rho \\right)} = \\rho \\left(\\left(\\frac{\\partial}{\\partial \\rho} \\psi{\\left(t,\\rho \\right)}\\right)^{2} + \\left(\\frac{\\partial}{\\partial t} \\psi{\\left(t,\\rho \\right)}\\right)^{2}\\right)$"
      ],
      "text/plain": [
       "                ⎛             2                2⎞\n",
       "∂               ⎜⎛∂          ⎞    ⎛∂          ⎞ ⎟\n",
       "──(γ(t, ρ)) = ρ⋅⎜⎜──(ψ(t, ρ))⎟  + ⎜──(ψ(t, ρ))⎟ ⎟\n",
       "∂ρ              ⎝⎝∂ρ         ⎠    ⎝∂t         ⎠ ⎠"
      ]
     },
     "execution_count": 34,
     "metadata": {},
     "output_type": "execute_result"
    }
   ],
   "source": [
    "equation8b = Eq(diff(gamma,rho), solve( einsteinSimplified[0,0], diff(gamma,rho) )[0] ) \n",
    "equation8b"
   ]
  },
  {
   "cell_type": "code",
   "execution_count": 33,
   "id": "827f683f",
   "metadata": {},
   "outputs": [
    {
     "data": {
      "image/png": "[encoded data removed]",
      "text/latex": [
       "$\\displaystyle \\frac{\\partial}{\\partial t} \\gamma{\\left(t,\\rho \\right)} = 2 \\rho \\frac{\\partial}{\\partial \\rho} \\psi{\\left(t,\\rho \\right)} \\frac{\\partial}{\\partial t} \\psi{\\left(t,\\rho \\right)}$"
      ],
      "text/plain": [
       "∂                 ∂           ∂          \n",
       "──(γ(t, ρ)) = 2⋅ρ⋅──(ψ(t, ρ))⋅──(ψ(t, ρ))\n",
       "∂t                ∂ρ          ∂t         "
      ]
     },
     "execution_count": 33,
     "metadata": {},
     "output_type": "execute_result"
    }
   ],
   "source": [
    "equation8c = Eq(diff(gamma,t),solve( einsteinSimplified[1,0], diff(gamma,t) )[0] ) \n",
    "equation8c "
   ]
  },
  {
   "cell_type": "code",
   "execution_count": 36,
   "id": "9c48d47e",
   "metadata": {},
   "outputs": [
    {
     "data": {
      "text/latex": [
       "$\\displaystyle \\left[\\begin{matrix}- \\frac{\\partial^{2}}{\\partial \\rho^{2}} \\psi{\\left(t,\\rho \\right)} + \\frac{\\partial^{2}}{\\partial t^{2}} \\psi{\\left(t,\\rho \\right)} - \\frac{\\frac{\\partial}{\\partial \\rho} \\psi{\\left(t,\\rho \\right)}}{\\rho} = 0\\\\\\frac{\\partial}{\\partial \\rho} \\gamma{\\left(t,\\rho \\right)} = \\rho \\left(\\left(\\frac{\\partial}{\\partial \\rho} \\psi{\\left(t,\\rho \\right)}\\right)^{2} + \\left(\\frac{\\partial}{\\partial t} \\psi{\\left(t,\\rho \\right)}\\right)^{2}\\right)\\\\\\frac{\\partial}{\\partial t} \\gamma{\\left(t,\\rho \\right)} = 2 \\rho \\frac{\\partial}{\\partial \\rho} \\psi{\\left(t,\\rho \\right)} \\frac{\\partial}{\\partial t} \\psi{\\left(t,\\rho \\right)}\\end{matrix}\\right]$"
      ],
      "text/plain": [
       "⎡                                 ∂               ⎤\n",
       "⎢     2              2            ──(ψ(t, ρ))     ⎥\n",
       "⎢    ∂              ∂             ∂ρ              ⎥\n",
       "⎢ - ───(ψ(t, ρ)) + ───(ψ(t, ρ)) - ─────────── = 0 ⎥\n",
       "⎢     2              2                 ρ          ⎥\n",
       "⎢   ∂ρ             ∂t                             ⎥\n",
       "⎢                                                 ⎥\n",
       "⎢                ⎛             2                2⎞⎥\n",
       "⎢∂               ⎜⎛∂          ⎞    ⎛∂          ⎞ ⎟⎥\n",
       "⎢──(γ(t, ρ)) = ρ⋅⎜⎜──(ψ(t, ρ))⎟  + ⎜──(ψ(t, ρ))⎟ ⎟⎥\n",
       "⎢∂ρ              ⎝⎝∂ρ         ⎠    ⎝∂t         ⎠ ⎠⎥\n",
       "⎢                                                 ⎥\n",
       "⎢    ∂                 ∂           ∂              ⎥\n",
       "⎢    ──(γ(t, ρ)) = 2⋅ρ⋅──(ψ(t, ρ))⋅──(ψ(t, ρ))    ⎥\n",
       "⎣    ∂t                ∂ρ          ∂t             ⎦"
      ]
     },
     "execution_count": 36,
     "metadata": {},
     "output_type": "execute_result"
    }
   ],
   "source": [
    "vacuumFieldEquations = Matrix([equation8a,equation8b,equation8c])\n",
    "vacuumFieldEquations"
   ]
  },
  {
   "cell_type": "code",
   "execution_count": 37,
   "id": "a099c7ef",
   "metadata": {},
   "outputs": [],
   "source": [
    "X, Y = map(Function, 'XY')"
   ]
  },
  {
   "cell_type": "code",
   "execution_count": 38,
   "id": "3df01e76",
   "metadata": {},
   "outputs": [
    {
     "data": {
      "image/png": "[encoded data removed]",
      "text/latex": [
       "$\\displaystyle - \\frac{\\partial^{2}}{\\partial \\rho^{2}} \\psi{\\left(t,\\rho \\right)} + \\frac{\\partial^{2}}{\\partial t^{2}} \\psi{\\left(t,\\rho \\right)} - \\frac{\\frac{\\partial}{\\partial \\rho} \\psi{\\left(t,\\rho \\right)}}{\\rho} = 0$"
      ],
      "text/plain": [
       "                                ∂              \n",
       "    2              2            ──(ψ(t, ρ))    \n",
       "   ∂              ∂             ∂ρ             \n",
       "- ───(ψ(t, ρ)) + ───(ψ(t, ρ)) - ─────────── = 0\n",
       "    2              2                 ρ         \n",
       "  ∂ρ             ∂t                            "
      ]
     },
     "execution_count": 38,
     "metadata": {},
     "output_type": "execute_result"
    }
   ],
   "source": [
    "eq = vacuumFieldEquations[0]\n",
    "eq"
   ]
  },
  {
   "cell_type": "code",
   "execution_count": 46,
   "id": "580a8cfe",
   "metadata": {},
   "outputs": [
    {
     "data": {
      "image/png": "[encoded data removed]",
      "text/latex": [
       "$\\displaystyle \\frac{\\frac{d^{2}}{d \\rho^{2}} X{\\left(\\rho \\right)}}{X{\\left(\\rho \\right)}} + \\frac{\\frac{d}{d \\rho} X{\\left(\\rho \\right)}}{\\rho X{\\left(\\rho \\right)}} = k^{2}$"
      ],
      "text/plain": [
       "  2                      \n",
       " d                       \n",
       "───(X(ρ))   d            \n",
       "  2         ──(X(ρ))     \n",
       "dρ          dρ          2\n",
       "───────── + ──────── = k \n",
       "   X(ρ)      ρ⋅X(ρ)      "
      ]
     },
     "execution_count": 46,
     "metadata": {},
     "output_type": "execute_result"
    }
   ],
   "source": [
    "xODE = Eq(pde_separate( eq, psi, [X(rho),Y(t)])[0] , k**2 ) \n",
    "xODE"
   ]
  },
  {
   "cell_type": "code",
   "execution_count": 47,
   "id": "bb140dcd",
   "metadata": {},
   "outputs": [
    {
     "data": {
      "image/png": "[encoded data removed]",
      "text/latex": [
       "$\\displaystyle X{\\left(\\rho \\right)} = C_{1} I_{0}\\left(\\rho \\left|{k}\\right|\\right) + C_{2} Y_{0}\\left(i \\rho \\left|{k}\\right|\\right)$"
      ],
      "text/plain": [
       "X(ρ) = C₁⋅besseli(0, ρ⋅│k│) + C₂⋅bessely(0, ⅈ⋅ρ⋅│k│)"
      ]
     },
     "execution_count": 47,
     "metadata": {},
     "output_type": "execute_result"
    }
   ],
   "source": [
    "xSolution = dsolve( xODE , X(rho))\n",
    "xSolution "
   ]
  },
  {
   "cell_type": "code",
   "execution_count": 48,
   "id": "79274819",
   "metadata": {},
   "outputs": [
    {
     "data": {
      "image/png": "[encoded data removed]",
      "text/latex": [
       "$\\displaystyle X{\\left(\\rho \\right)} = I_{0}\\left(\\rho \\left|{k}\\right|\\right) + Y_{0}\\left(i \\rho \\left|{k}\\right|\\right)$"
      ],
      "text/plain": [
       "X(ρ) = besseli(0, ρ⋅│k│) + bessely(0, ⅈ⋅ρ⋅│k│)"
      ]
     },
     "execution_count": 48,
     "metadata": {},
     "output_type": "execute_result"
    }
   ],
   "source": [
    "#  Here we arbitrarily set the constants of integration equal to one... fix this later \n",
    "xSolutionParticular = xSolution.subs(xSolution.args[1].args[0].args[0],1).subs(xSolution.args[1].args[1].args[0],1)\n",
    "xSolutionParticular"
   ]
  },
  {
   "cell_type": "code",
   "execution_count": 49,
   "id": "11d8e457",
   "metadata": {},
   "outputs": [
    {
     "data": {
      "image/png": "[encoded data removed]",
      "text/latex": [
       "$\\displaystyle \\frac{\\frac{d^{2}}{d t^{2}} Y{\\left(t \\right)}}{Y{\\left(t \\right)}} = - k^{2}$"
      ],
      "text/plain": [
       "  2            \n",
       " d             \n",
       "───(Y(t))      \n",
       "  2            \n",
       "dt            2\n",
       "───────── = -k \n",
       "   Y(t)        "
      ]
     },
     "execution_count": 49,
     "metadata": {},
     "output_type": "execute_result"
    }
   ],
   "source": [
    "yODE = Eq( pde_separate( eq, psi, [X(rho),Y(t)])[1] , - k**2 ) \n",
    "yODE"
   ]
  },
  {
   "cell_type": "code",
   "execution_count": 50,
   "id": "1eded569",
   "metadata": {},
   "outputs": [
    {
     "data": {
      "image/png": "[encoded data removed]",
      "text/latex": [
       "$\\displaystyle Y{\\left(t \\right)} = C_{1} \\sin{\\left(t \\left|{k}\\right| \\right)} + C_{2} \\cos{\\left(k t \\right)}$"
      ],
      "text/plain": [
       "Y(t) = C₁⋅sin(t⋅│k│) + C₂⋅cos(k⋅t)"
      ]
     },
     "execution_count": 50,
     "metadata": {},
     "output_type": "execute_result"
    }
   ],
   "source": [
    "ySolution = dsolve( yODE , Y(t))\n",
    "ySolution "
   ]
  },
  {
   "cell_type": "code",
   "execution_count": 52,
   "id": "5eef19b3",
   "metadata": {},
   "outputs": [
    {
     "data": {
      "image/png": "[encoded data removed]",
      "text/latex": [
       "$\\displaystyle Y{\\left(t \\right)} = \\sin{\\left(t \\left|{k}\\right| \\right)} + \\cos{\\left(k t \\right)}$"
      ],
      "text/plain": [
       "Y(t) = sin(t⋅│k│) + cos(k⋅t)"
      ]
     },
     "execution_count": 52,
     "metadata": {},
     "output_type": "execute_result"
    }
   ],
   "source": [
    "#  Here we arbitrarily set the constants of integration equal to one... fix this later \n",
    "ySolutionParticular = ySolution.subs(ySolution.args[1].args[0].args[0],1).subs(ySolution.args[1].args[1].args[0],1)\n",
    "ySolutionParticular"
   ]
  },
  {
   "cell_type": "code",
   "execution_count": 54,
   "id": "d0f95f04",
   "metadata": {},
   "outputs": [
    {
     "data": {
      "image/png": "[encoded data removed]",
      "text/latex": [
       "$\\displaystyle \\sum_{k=1}^{1} \\left(\\sin{\\left(t \\left|{k}\\right| \\right)} + \\cos{\\left(k t \\right)}\\right) \\left(I_{0}\\left(\\rho \\left|{k}\\right|\\right) + Y_{0}\\left(i \\rho \\left|{k}\\right|\\right)\\right)$"
      ],
      "text/plain": [
       "  1                                                                    \n",
       " ___                                                                   \n",
       " ╲                                                                     \n",
       "  ╲                                                                    \n",
       "  ╱   (sin(t⋅│k│) + cos(k⋅t))⋅(besseli(0, ρ⋅│k│) + bessely(0, ⅈ⋅ρ⋅│k│))\n",
       " ╱                                                                     \n",
       " ‾‾‾                                                                   \n",
       "k = 1                                                                  "
      ]
     },
     "execution_count": 54,
     "metadata": {},
     "output_type": "execute_result"
    }
   ],
   "source": [
    "#  arbitrarily keeping just one term... fix this later\n",
    "Sum( ( xSolutionParticular.args[1] * ySolutionParticular.args[1] ) ,(k,1,1) )"
   ]
  },
  {
   "cell_type": "code",
   "execution_count": 56,
   "id": "09c856af",
   "metadata": {},
   "outputs": [
    {
     "data": {
      "image/png": "[encoded data removed]",
      "text/latex": [
       "$\\displaystyle \\psi{\\left(t,\\rho \\right)} = \\left(\\sin{\\left(t \\right)} + \\cos{\\left(t \\right)}\\right) \\left(I_{0}\\left(\\rho\\right) + Y_{0}\\left(i \\rho\\right)\\right)$"
      ],
      "text/plain": [
       "ψ(t, ρ) = (sin(t) + cos(t))⋅(besseli(0, ρ) + bessely(0, ⅈ⋅ρ))"
      ]
     },
     "execution_count": 56,
     "metadata": {},
     "output_type": "execute_result"
    }
   ],
   "source": [
    "psiSolution = Eq(psi, Sum( ( xSolutionParticular.args[1] * ySolutionParticular.args[1] ) ,(k,1,1) ).doit() ) \n",
    "psiSolution"
   ]
  },
  {
   "cell_type": "code",
   "execution_count": 57,
   "id": "09a78629",
   "metadata": {},
   "outputs": [
    {
     "data": {
      "image/png": "[encoded data removed]",
      "text/latex": [
       "$\\displaystyle \\frac{\\partial}{\\partial t} \\gamma{\\left(t,\\rho \\right)} = 2 \\rho \\frac{\\partial}{\\partial \\rho} \\left(\\sin{\\left(t \\right)} + \\cos{\\left(t \\right)}\\right) \\left(I_{0}\\left(\\rho\\right) + Y_{0}\\left(i \\rho\\right)\\right) \\frac{\\partial}{\\partial t} \\left(\\sin{\\left(t \\right)} + \\cos{\\left(t \\right)}\\right) \\left(I_{0}\\left(\\rho\\right) + Y_{0}\\left(i \\rho\\right)\\right)$"
      ],
      "text/plain": [
       "∂                 ∂                                                       ∂                 \n",
       "──(γ(t, ρ)) = 2⋅ρ⋅──((sin(t) + cos(t))⋅(besseli(0, ρ) + bessely(0, ⅈ⋅ρ)))⋅──((sin(t) + cos(t\n",
       "∂t                ∂ρ                                                      ∂t                \n",
       "\n",
       "                                     \n",
       "))⋅(besseli(0, ρ) + bessely(0, ⅈ⋅ρ)))\n",
       "                                     "
      ]
     },
     "execution_count": 57,
     "metadata": {},
     "output_type": "execute_result"
    }
   ],
   "source": [
    "dgammadt = vacuumFieldEquations[2].subs(psiSolution.lhs,psiSolution.rhs)\n",
    "dgammadt"
   ]
  },
  {
   "cell_type": "code",
   "execution_count": 58,
   "id": "46744254",
   "metadata": {
    "scrolled": true
   },
   "outputs": [
    {
     "data": {
      "image/png": "[encoded data removed]",
      "text/latex": [
       "$\\displaystyle \\frac{\\partial}{\\partial t} \\gamma{\\left(t,\\rho \\right)} = 2 \\rho \\left(- \\sin{\\left(t \\right)} + \\cos{\\left(t \\right)}\\right) \\left(\\sin{\\left(t \\right)} + \\cos{\\left(t \\right)}\\right) \\left(I_{0}\\left(\\rho\\right) + Y_{0}\\left(i \\rho\\right)\\right) \\left(I_{1}\\left(\\rho\\right) - i Y_{1}\\left(i \\rho\\right)\\right)$"
      ],
      "text/plain": [
       "∂                                                                                           \n",
       "──(γ(t, ρ)) = 2⋅ρ⋅(-sin(t) + cos(t))⋅(sin(t) + cos(t))⋅(besseli(0, ρ) + bessely(0, ⅈ⋅ρ))⋅(be\n",
       "∂t                                                                                          \n",
       "\n",
       "                                \n",
       "sseli(1, ρ) - ⅈ⋅bessely(1, ⅈ⋅ρ))\n",
       "                                "
      ]
     },
     "execution_count": 58,
     "metadata": {},
     "output_type": "execute_result"
    }
   ],
   "source": [
    "dgammadt.doit()"
   ]
  },
  {
   "cell_type": "code",
   "execution_count": 62,
   "id": "3fd85a11",
   "metadata": {},
   "outputs": [
    {
     "data": {
      "image/png": "[encoded data removed]",
      "text/latex": [
       "$\\displaystyle \\gamma{\\left(t,\\rho \\right)} = \\frac{\\left(i \\rho I_{0}\\left(\\rho\\right) I_{1}\\left(\\rho\\right) + \\rho I_{0}\\left(\\rho\\right) Y_{1}\\left(i \\rho\\right) + i \\rho I_{1}\\left(\\rho\\right) Y_{0}\\left(i \\rho\\right) + \\rho Y_{0}\\left(i \\rho\\right) Y_{1}\\left(i \\rho\\right) + \\left(- \\rho \\left(i I_{0}\\left(\\rho\\right) I_{1}\\left(\\rho\\right) + I_{0}\\left(\\rho\\right) Y_{1}\\left(i \\rho\\right) + i I_{1}\\left(\\rho\\right) Y_{0}\\left(i \\rho\\right) + Y_{0}\\left(i \\rho\\right) Y_{1}\\left(i \\rho\\right)\\right) e^{2 i t} + 2 F{\\left(- \\rho \\right)}\\right) e^{2 i t}\\right) e^{- 2 i t}}{2}$"
      ],
      "text/plain": [
       "          ⎛                                                                                 \n",
       "          ⎝ⅈ⋅ρ⋅besseli(0, ρ)⋅besseli(1, ρ) + ρ⋅besseli(0, ρ)⋅bessely(1, ⅈ⋅ρ) + ⅈ⋅ρ⋅besseli(1\n",
       "γ(t, ρ) = ──────────────────────────────────────────────────────────────────────────────────\n",
       "                                                                                            \n",
       "\n",
       "                                                           ⎛                                \n",
       ", ρ)⋅bessely(0, ⅈ⋅ρ) + ρ⋅bessely(0, ⅈ⋅ρ)⋅bessely(1, ⅈ⋅ρ) + ⎝- ρ⋅(ⅈ⋅besseli(0, ρ)⋅besseli(1, \n",
       "────────────────────────────────────────────────────────────────────────────────────────────\n",
       "                                                                         2                  \n",
       "\n",
       "                                                                                            \n",
       "ρ) + besseli(0, ρ)⋅bessely(1, ⅈ⋅ρ) + ⅈ⋅besseli(1, ρ)⋅bessely(0, ⅈ⋅ρ) + bessely(0, ⅈ⋅ρ)⋅besse\n",
       "────────────────────────────────────────────────────────────────────────────────────────────\n",
       "                                                                                            \n",
       "\n",
       "             2⋅ⅈ⋅t          ⎞  2⋅ⅈ⋅t⎞  -2⋅ⅈ⋅t\n",
       "ly(1, ⅈ⋅ρ))⋅ℯ      + 2⋅F(-ρ)⎠⋅ℯ     ⎠⋅ℯ      \n",
       "─────────────────────────────────────────────\n",
       "                                             "
      ]
     },
     "execution_count": 62,
     "metadata": {},
     "output_type": "execute_result"
    }
   ],
   "source": [
    "integrateGammaWRTt = pdsolve( dgammadt.doit() )\n",
    "integrateGammaWRTt"
   ]
  },
  {
   "cell_type": "code",
   "execution_count": 60,
   "id": "23b7c78e",
   "metadata": {},
   "outputs": [
    {
     "data": {
      "image/png": "[encoded data removed]",
      "text/latex": [
       "$\\displaystyle \\frac{\\partial}{\\partial \\rho} \\gamma{\\left(t,\\rho \\right)} = \\rho \\left(\\left(\\frac{\\partial}{\\partial \\rho} \\left(\\sin{\\left(t \\right)} + \\cos{\\left(t \\right)}\\right) \\left(I_{0}\\left(\\rho\\right) + Y_{0}\\left(i \\rho\\right)\\right)\\right)^{2} + \\left(\\frac{\\partial}{\\partial t} \\left(\\sin{\\left(t \\right)} + \\cos{\\left(t \\right)}\\right) \\left(I_{0}\\left(\\rho\\right) + Y_{0}\\left(i \\rho\\right)\\right)\\right)^{2}\\right)$"
      ],
      "text/plain": [
       "                ⎛                                                         2                 \n",
       "∂               ⎜⎛∂                                                      ⎞    ⎛∂            \n",
       "──(γ(t, ρ)) = ρ⋅⎜⎜──((sin(t) + cos(t))⋅(besseli(0, ρ) + bessely(0, ⅈ⋅ρ)))⎟  + ⎜──((sin(t) + \n",
       "∂ρ              ⎝⎝∂ρ                                                     ⎠    ⎝∂t           \n",
       "\n",
       "                                           2⎞\n",
       "                                          ⎞ ⎟\n",
       "cos(t))⋅(besseli(0, ρ) + bessely(0, ⅈ⋅ρ)))⎟ ⎟\n",
       "                                          ⎠ ⎠"
      ]
     },
     "execution_count": 60,
     "metadata": {},
     "output_type": "execute_result"
    }
   ],
   "source": [
    "dgammarho = vacuumFieldEquations[1].subs(psiSolution.lhs,psiSolution.rhs)\n",
    "dgammarho"
   ]
  },
  {
   "cell_type": "code",
   "execution_count": 61,
   "id": "5ad74bde",
   "metadata": {},
   "outputs": [
    {
     "data": {
      "image/png": "[encoded data removed]",
      "text/latex": [
       "$\\displaystyle \\frac{\\partial}{\\partial \\rho} \\gamma{\\left(t,\\rho \\right)} = \\rho \\left(\\left(- \\sin{\\left(t \\right)} + \\cos{\\left(t \\right)}\\right)^{2} \\left(I_{0}\\left(\\rho\\right) + Y_{0}\\left(i \\rho\\right)\\right)^{2} + \\left(\\sin{\\left(t \\right)} + \\cos{\\left(t \\right)}\\right)^{2} \\left(I_{1}\\left(\\rho\\right) - i Y_{1}\\left(i \\rho\\right)\\right)^{2}\\right)$"
      ],
      "text/plain": [
       "∂               ⎛                  2                                  2                    2\n",
       "──(γ(t, ρ)) = ρ⋅⎝(-sin(t) + cos(t)) ⋅(besseli(0, ρ) + bessely(0, ⅈ⋅ρ))  + (sin(t) + cos(t)) \n",
       "∂ρ                                                                                          \n",
       "\n",
       "                                    2⎞\n",
       "⋅(besseli(1, ρ) - ⅈ⋅bessely(1, ⅈ⋅ρ)) ⎠\n",
       "                                      "
      ]
     },
     "execution_count": 61,
     "metadata": {},
     "output_type": "execute_result"
    }
   ],
   "source": [
    "dgammarho.doit()"
   ]
  },
  {
   "cell_type": "code",
   "execution_count": 63,
   "id": "e8b1a4a9",
   "metadata": {},
   "outputs": [
    {
     "data": {
      "image/png": "[encoded data removed]",
      "text/latex": [
       "$\\displaystyle \\gamma{\\left(t,\\rho \\right)} = - \\rho^{2} \\sin{\\left(2 t \\right)} I^{2}_{0}\\left(\\rho\\right) - 2 \\rho^{2} \\sin{\\left(2 t \\right)} I_{0}\\left(\\rho\\right) Y_{0}\\left(i \\rho\\right) + \\rho^{2} \\sin{\\left(2 t \\right)} I^{2}_{1}\\left(\\rho\\right) - 2 i \\rho^{2} \\sin{\\left(2 t \\right)} I_{1}\\left(\\rho\\right) Y_{1}\\left(i \\rho\\right) - \\rho^{2} \\sin{\\left(2 t \\right)} Y^{2}_{0}\\left(i \\rho\\right) - \\rho^{2} \\sin{\\left(2 t \\right)} Y^{2}_{1}\\left(i \\rho\\right) + \\rho \\sin{\\left(2 t \\right)} I_{0}\\left(\\rho\\right) I_{1}\\left(\\rho\\right) - 2 i \\rho \\sin{\\left(2 t \\right)} I_{0}\\left(\\rho\\right) Y_{1}\\left(i \\rho\\right) - i \\rho \\sin{\\left(2 t \\right)} Y_{0}\\left(i \\rho\\right) Y_{1}\\left(i \\rho\\right) + \\rho I_{0}\\left(\\rho\\right) I_{1}\\left(\\rho\\right) - 2 i \\rho I_{0}\\left(\\rho\\right) Y_{1}\\left(i \\rho\\right) - i \\rho Y_{0}\\left(i \\rho\\right) Y_{1}\\left(i \\rho\\right) + F{\\left(t \\right)}$"
      ],
      "text/plain": [
       "             2                 2            2                                           2   \n",
       "γ(t, ρ) = - ρ ⋅sin(2⋅t)⋅besseli (0, ρ) - 2⋅ρ ⋅sin(2⋅t)⋅besseli(0, ρ)⋅bessely(0, ⅈ⋅ρ) + ρ ⋅si\n",
       "\n",
       "              2              2                                           2                 2\n",
       "n(2⋅t)⋅besseli (1, ρ) - 2⋅ⅈ⋅ρ ⋅sin(2⋅t)⋅besseli(1, ρ)⋅bessely(1, ⅈ⋅ρ) - ρ ⋅sin(2⋅t)⋅bessely \n",
       "\n",
       "            2                 2                                                             \n",
       "(0, ⅈ⋅ρ) - ρ ⋅sin(2⋅t)⋅bessely (1, ⅈ⋅ρ) + ρ⋅sin(2⋅t)⋅besseli(0, ρ)⋅besseli(1, ρ) - 2⋅ⅈ⋅ρ⋅sin\n",
       "\n",
       "                                                                                            \n",
       "(2⋅t)⋅besseli(0, ρ)⋅bessely(1, ⅈ⋅ρ) - ⅈ⋅ρ⋅sin(2⋅t)⋅bessely(0, ⅈ⋅ρ)⋅bessely(1, ⅈ⋅ρ) + ρ⋅besse\n",
       "\n",
       "                                                                                            \n",
       "li(0, ρ)⋅besseli(1, ρ) - 2⋅ⅈ⋅ρ⋅besseli(0, ρ)⋅bessely(1, ⅈ⋅ρ) - ⅈ⋅ρ⋅bessely(0, ⅈ⋅ρ)⋅bessely(1\n",
       "\n",
       "             \n",
       ", ⅈ⋅ρ) + F(t)"
      ]
     },
     "execution_count": 63,
     "metadata": {},
     "output_type": "execute_result"
    }
   ],
   "source": [
    "#  Prepare to wait.... this takes a while to evaluate even for just the one term solution \n",
    "integrateGammaWRTrho = pdsolve(dgammarho.doit())\n",
    "integrateGammaWRTrho"
   ]
  }
 ],
 "metadata": {
  "@webio": {
   "lastCommId": "2dac93ab69924e12a243ca930e944128",
   "lastKernelId": "6fe1ab0f-e6a0-4531-9bbf-ff438c8ffc57"
  },
  "kernelspec": {
   "display_name": "Python 3 (ipykernel)",
   "language": "python",
   "name": "python3"
  },
  "language_info": {
   "codemirror_mode": {
    "name": "ipython",
    "version": 3
   },
   "file_extension": ".py",
   "mimetype": "text/x-python",
   "name": "python",
   "nbconvert_exporter": "python",
   "pygments_lexer": "ipython3",
   "version": "3.8.8"
  }
 },
 "nbformat": 4,
 "nbformat_minor": 5
}
