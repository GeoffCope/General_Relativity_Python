{
 "cells": [
  {
   "cell_type": "markdown",
   "id": "0fc8a892",
   "metadata": {},
   "source": [
    "# Null weak singularities in plane-symmetric spacetimes Ori\n",
    "##  Geoff Cope\n",
    "##  Univeristy of Utah\n",
    "## January 1, 2021"
   ]
  },
  {
   "cell_type": "markdown",
   "id": "a89fee6e",
   "metadata": {},
   "source": [
    "https://arxiv.org/pdf/gr-qc/9801086"
   ]
  },
  {
   "cell_type": "code",
   "execution_count": 1,
   "id": "0458a0b5",
   "metadata": {},
   "outputs": [
    {
     "name": "stdout",
     "output_type": "stream",
     "text": [
      "IPython console for SymPy 1.9 (Python 3.8.8-64-bit) (ground types: gmpy)\n",
      "\n",
      "These commands were executed:\n",
      ">>> from __future__ import division\n",
      ">>> from sympy import *\n",
      ">>> x, y, z, t = symbols('x y z t')\n",
      ">>> k, m, n = symbols('k m n', integer=True)\n",
      ">>> f, g, h = symbols('f g h', cls=Function)\n",
      ">>> init_printing()\n",
      "\n",
      "Documentation can be found at https://docs.sympy.org/1.9/\n",
      "\n"
     ]
    }
   ],
   "source": [
    "from sympy import init_session\n",
    "init_session(use_latex=True)"
   ]
  },
  {
   "cell_type": "code",
   "execution_count": 2,
   "id": "70e5a9e2",
   "metadata": {},
   "outputs": [],
   "source": [
    "import warnings\n",
    "import matplotlib.cbook\n",
    "warnings.filterwarnings(\"ignore\",category=matplotlib.cbook.mplDeprecation)"
   ]
  },
  {
   "cell_type": "code",
   "execution_count": 3,
   "id": "2322510b",
   "metadata": {},
   "outputs": [],
   "source": [
    "u,v,x,y,du,dv,dx,dy = symbols( 'u v x y du dv dx dy' ) "
   ]
  },
  {
   "cell_type": "code",
   "execution_count": 4,
   "id": "1ceb665d",
   "metadata": {},
   "outputs": [
    {
     "data": {
      "image/png": "[encoded data removed]",
      "text/latex": [
       "$\\displaystyle U{\\left(u,v \\right)}$"
      ],
      "text/plain": [
       "U(u, v)"
      ]
     },
     "execution_count": 4,
     "metadata": {},
     "output_type": "execute_result"
    }
   ],
   "source": [
    "U = Function('U')(u,v)\n",
    "U"
   ]
  },
  {
   "cell_type": "code",
   "execution_count": 5,
   "id": "9b72bc29",
   "metadata": {},
   "outputs": [
    {
     "data": {
      "image/png": "[encoded data removed]",
      "text/latex": [
       "$\\displaystyle V{\\left(u,v \\right)}$"
      ],
      "text/plain": [
       "V(u, v)"
      ]
     },
     "execution_count": 5,
     "metadata": {},
     "output_type": "execute_result"
    }
   ],
   "source": [
    "V = Function('V')(u,v)\n",
    "V"
   ]
  },
  {
   "cell_type": "code",
   "execution_count": 6,
   "id": "e3a509b9",
   "metadata": {},
   "outputs": [
    {
     "data": {
      "image/png": "[encoded data removed]",
      "text/latex": [
       "$\\displaystyle M{\\left(u,v \\right)}$"
      ],
      "text/plain": [
       "M(u, v)"
      ]
     },
     "execution_count": 6,
     "metadata": {},
     "output_type": "execute_result"
    }
   ],
   "source": [
    "M = Function('M')(u,v)\n",
    "M"
   ]
  },
  {
   "cell_type": "code",
   "execution_count": 8,
   "id": "ed958b3a",
   "metadata": {},
   "outputs": [
    {
     "data": {
      "text/latex": [
       "$\\displaystyle \\left[\\begin{matrix}u\\\\v\\\\x\\\\y\\end{matrix}\\right]$"
      ],
      "text/plain": [
       "⎡u⎤\n",
       "⎢ ⎥\n",
       "⎢v⎥\n",
       "⎢ ⎥\n",
       "⎢x⎥\n",
       "⎢ ⎥\n",
       "⎣y⎦"
      ]
     },
     "execution_count": 8,
     "metadata": {},
     "output_type": "execute_result"
    }
   ],
   "source": [
    "variables = Matrix( [u,v,x,y] )\n",
    "variables"
   ]
  },
  {
   "cell_type": "code",
   "execution_count": 9,
   "id": "1e5ce951",
   "metadata": {},
   "outputs": [
    {
     "data": {
      "text/latex": [
       "$\\displaystyle \\left[\\begin{matrix}du\\\\dv\\\\dx\\\\dy\\end{matrix}\\right]$"
      ],
      "text/plain": [
       "⎡du⎤\n",
       "⎢  ⎥\n",
       "⎢dv⎥\n",
       "⎢  ⎥\n",
       "⎢dx⎥\n",
       "⎢  ⎥\n",
       "⎣dy⎦"
      ]
     },
     "execution_count": 9,
     "metadata": {},
     "output_type": "execute_result"
    }
   ],
   "source": [
    "differentials = Matrix( [du,dv,dx,dy] ) \n",
    "differentials"
   ]
  },
  {
   "cell_type": "code",
   "execution_count": 10,
   "id": "46bff450",
   "metadata": {},
   "outputs": [
    {
     "data": {
      "image/png": "[encoded data removed]",
      "text/latex": [
       "$\\displaystyle - du dv e^{- M{\\left(u,v \\right)}} + dx^{2} e^{- U{\\left(u,v \\right)}} e^{V{\\left(u,v \\right)}} + dy^{2} e^{- U{\\left(u,v \\right)}} e^{- V{\\left(u,v \\right)}}$"
      ],
      "text/plain": [
       "         -M(u, v)     2  -U(u, v)  V(u, v)     2  -U(u, v)  -V(u, v)\n",
       "- du⋅dv⋅ℯ         + dx ⋅ℯ        ⋅ℯ        + dy ⋅ℯ        ⋅ℯ        "
      ]
     },
     "execution_count": 10,
     "metadata": {},
     "output_type": "execute_result"
    }
   ],
   "source": [
    "lineElement = expand( -exp(-M)*du*dv + exp(-U)* ( exp(V)*dx**2 + exp(-V)*dy**2 ) ) \n",
    "lineElement"
   ]
  },
  {
   "cell_type": "code",
   "execution_count": 11,
   "id": "fbdcc259",
   "metadata": {},
   "outputs": [
    {
     "data": {
      "text/latex": [
       "$\\displaystyle \\left[\\begin{matrix}0 & - \\frac{e^{- M{\\left(u,v \\right)}}}{2} & 0 & 0\\\\- \\frac{e^{- M{\\left(u,v \\right)}}}{2} & 0 & 0 & 0\\\\0 & 0 & e^{- U{\\left(u,v \\right)}} e^{V{\\left(u,v \\right)}} & 0\\\\0 & 0 & 0 & e^{- U{\\left(u,v \\right)}} e^{- V{\\left(u,v \\right)}}\\end{matrix}\\right]$"
      ],
      "text/plain": [
       "⎡               -M(u, v)                                          ⎤\n",
       "⎢             -ℯ                                                  ⎥\n",
       "⎢     0       ───────────          0                    0         ⎥\n",
       "⎢                  2                                              ⎥\n",
       "⎢                                                                 ⎥\n",
       "⎢  -M(u, v)                                                       ⎥\n",
       "⎢-ℯ                                                               ⎥\n",
       "⎢───────────       0               0                    0         ⎥\n",
       "⎢     2                                                           ⎥\n",
       "⎢                                                                 ⎥\n",
       "⎢                           -U(u, v)  V(u, v)                     ⎥\n",
       "⎢     0            0       ℯ        ⋅ℯ                  0         ⎥\n",
       "⎢                                                                 ⎥\n",
       "⎢                                               -U(u, v)  -V(u, v)⎥\n",
       "⎣     0            0               0           ℯ        ⋅ℯ        ⎦"
      ]
     },
     "execution_count": 11,
     "metadata": {},
     "output_type": "execute_result"
    }
   ],
   "source": [
    "g = zeros(4)\n",
    "\n",
    "for i in range(4):\n",
    "    for j in range(4):\n",
    "        if i == j:\n",
    "            g[i,j] = lineElement.coeff( differentials[i],2 ) \n",
    "        else:\n",
    "            g[i,j] = Rational(1,2)*lineElement.coeff( differentials[i]*differentials[j],1 )\n",
    "            \n",
    "g"
   ]
  },
  {
   "cell_type": "code",
   "execution_count": 12,
   "id": "2c3640a7",
   "metadata": {},
   "outputs": [],
   "source": [
    "import sympy"
   ]
  },
  {
   "cell_type": "code",
   "execution_count": 13,
   "id": "19947f1b",
   "metadata": {},
   "outputs": [
    {
     "data": {
      "text/latex": [
       "$\\displaystyle \\left[\\begin{matrix}0 & - \\frac{e^{- M{\\left(u,v \\right)}}}{2} & 0 & 0\\\\- \\frac{e^{- M{\\left(u,v \\right)}}}{2} & 0 & 0 & 0\\\\0 & 0 & e^{- U{\\left(u,v \\right)}} e^{V{\\left(u,v \\right)}} & 0\\\\0 & 0 & 0 & e^{- U{\\left(u,v \\right)}} e^{- V{\\left(u,v \\right)}}\\end{matrix}\\right]$"
      ],
      "text/plain": [
       "⎡               -M(u, v)                                          ⎤\n",
       "⎢             -ℯ                                                  ⎥\n",
       "⎢     0       ───────────          0                    0         ⎥\n",
       "⎢                  2                                              ⎥\n",
       "⎢                                                                 ⎥\n",
       "⎢  -M(u, v)                                                       ⎥\n",
       "⎢-ℯ                                                               ⎥\n",
       "⎢───────────       0               0                    0         ⎥\n",
       "⎢     2                                                           ⎥\n",
       "⎢                                                                 ⎥\n",
       "⎢                           -U(u, v)  V(u, v)                     ⎥\n",
       "⎢     0            0       ℯ        ⋅ℯ                  0         ⎥\n",
       "⎢                                                                 ⎥\n",
       "⎢                                               -U(u, v)  -V(u, v)⎥\n",
       "⎣     0            0               0           ℯ        ⋅ℯ        ⎦"
      ]
     },
     "execution_count": 13,
     "metadata": {},
     "output_type": "execute_result"
    }
   ],
   "source": [
    "m = sympy.Array(g)\n",
    "m"
   ]
  },
  {
   "cell_type": "code",
   "execution_count": 14,
   "id": "98061f35",
   "metadata": {},
   "outputs": [],
   "source": [
    "from einsteinpy.symbolic import *"
   ]
  },
  {
   "cell_type": "code",
   "execution_count": 18,
   "id": "37a53b2c",
   "metadata": {},
   "outputs": [],
   "source": [
    "syms = sympy.symbols(\"u v x y\")\n",
    "u,v,x,y = syms"
   ]
  },
  {
   "cell_type": "code",
   "execution_count": 20,
   "id": "b98dfbbb",
   "metadata": {},
   "outputs": [],
   "source": [
    "metric = MetricTensor(m,syms)"
   ]
  },
  {
   "cell_type": "code",
   "execution_count": 21,
   "id": "6541ebd0",
   "metadata": {},
   "outputs": [
    {
     "data": {
      "text/latex": [
       "$\\displaystyle \\left[\\begin{matrix}\\left[\\begin{matrix}- \\frac{\\partial}{\\partial u} M{\\left(u,v \\right)} & 0 & 0 & 0\\\\0 & 0 & 0 & 0\\\\0 & 0 & - \\left(e^{- U{\\left(u,v \\right)}} e^{V{\\left(u,v \\right)}} \\frac{\\partial}{\\partial v} U{\\left(u,v \\right)} - e^{- U{\\left(u,v \\right)}} e^{V{\\left(u,v \\right)}} \\frac{\\partial}{\\partial v} V{\\left(u,v \\right)}\\right) e^{M{\\left(u,v \\right)}} & 0\\\\0 & 0 & 0 & - \\left(e^{- U{\\left(u,v \\right)}} e^{- V{\\left(u,v \\right)}} \\frac{\\partial}{\\partial v} U{\\left(u,v \\right)} + e^{- U{\\left(u,v \\right)}} e^{- V{\\left(u,v \\right)}} \\frac{\\partial}{\\partial v} V{\\left(u,v \\right)}\\right) e^{M{\\left(u,v \\right)}}\\end{matrix}\\right] & \\left[\\begin{matrix}0 & 0 & 0 & 0\\\\0 & - \\frac{\\partial}{\\partial v} M{\\left(u,v \\right)} & 0 & 0\\\\0 & 0 & - \\left(e^{- U{\\left(u,v \\right)}} e^{V{\\left(u,v \\right)}} \\frac{\\partial}{\\partial u} U{\\left(u,v \\right)} - e^{- U{\\left(u,v \\right)}} e^{V{\\left(u,v \\right)}} \\frac{\\partial}{\\partial u} V{\\left(u,v \\right)}\\right) e^{M{\\left(u,v \\right)}} & 0\\\\0 & 0 & 0 & - \\left(e^{- U{\\left(u,v \\right)}} e^{- V{\\left(u,v \\right)}} \\frac{\\partial}{\\partial u} U{\\left(u,v \\right)} + e^{- U{\\left(u,v \\right)}} e^{- V{\\left(u,v \\right)}} \\frac{\\partial}{\\partial u} V{\\left(u,v \\right)}\\right) e^{M{\\left(u,v \\right)}}\\end{matrix}\\right] & \\left[\\begin{matrix}0 & 0 & \\frac{\\left(- e^{- U{\\left(u,v \\right)}} e^{V{\\left(u,v \\right)}} \\frac{\\partial}{\\partial u} U{\\left(u,v \\right)} + e^{- U{\\left(u,v \\right)}} e^{V{\\left(u,v \\right)}} \\frac{\\partial}{\\partial u} V{\\left(u,v \\right)}\\right) e^{U{\\left(u,v \\right)}} e^{- V{\\left(u,v \\right)}}}{2} & 0\\\\0 & 0 & \\frac{\\left(- e^{- U{\\left(u,v \\right)}} e^{V{\\left(u,v \\right)}} \\frac{\\partial}{\\partial v} U{\\left(u,v \\right)} + e^{- U{\\left(u,v \\right)}} e^{V{\\left(u,v \\right)}} \\frac{\\partial}{\\partial v} V{\\left(u,v \\right)}\\right) e^{U{\\left(u,v \\right)}} e^{- V{\\left(u,v \\right)}}}{2} & 0\\\\\\frac{\\left(- e^{- U{\\left(u,v \\right)}} e^{V{\\left(u,v \\right)}} \\frac{\\partial}{\\partial u} U{\\left(u,v \\right)} + e^{- U{\\left(u,v \\right)}} e^{V{\\left(u,v \\right)}} \\frac{\\partial}{\\partial u} V{\\left(u,v \\right)}\\right) e^{U{\\left(u,v \\right)}} e^{- V{\\left(u,v \\right)}}}{2} & \\frac{\\left(- e^{- U{\\left(u,v \\right)}} e^{V{\\left(u,v \\right)}} \\frac{\\partial}{\\partial v} U{\\left(u,v \\right)} + e^{- U{\\left(u,v \\right)}} e^{V{\\left(u,v \\right)}} \\frac{\\partial}{\\partial v} V{\\left(u,v \\right)}\\right) e^{U{\\left(u,v \\right)}} e^{- V{\\left(u,v \\right)}}}{2} & 0 & 0\\\\0 & 0 & 0 & 0\\end{matrix}\\right] & \\left[\\begin{matrix}0 & 0 & 0 & \\frac{\\left(- e^{- U{\\left(u,v \\right)}} e^{- V{\\left(u,v \\right)}} \\frac{\\partial}{\\partial u} U{\\left(u,v \\right)} - e^{- U{\\left(u,v \\right)}} e^{- V{\\left(u,v \\right)}} \\frac{\\partial}{\\partial u} V{\\left(u,v \\right)}\\right) e^{U{\\left(u,v \\right)}} e^{V{\\left(u,v \\right)}}}{2}\\\\0 & 0 & 0 & \\frac{\\left(- e^{- U{\\left(u,v \\right)}} e^{- V{\\left(u,v \\right)}} \\frac{\\partial}{\\partial v} U{\\left(u,v \\right)} - e^{- U{\\left(u,v \\right)}} e^{- V{\\left(u,v \\right)}} \\frac{\\partial}{\\partial v} V{\\left(u,v \\right)}\\right) e^{U{\\left(u,v \\right)}} e^{V{\\left(u,v \\right)}}}{2}\\\\0 & 0 & 0 & 0\\\\\\frac{\\left(- e^{- U{\\left(u,v \\right)}} e^{- V{\\left(u,v \\right)}} \\frac{\\partial}{\\partial u} U{\\left(u,v \\right)} - e^{- U{\\left(u,v \\right)}} e^{- V{\\left(u,v \\right)}} \\frac{\\partial}{\\partial u} V{\\left(u,v \\right)}\\right) e^{U{\\left(u,v \\right)}} e^{V{\\left(u,v \\right)}}}{2} & \\frac{\\left(- e^{- U{\\left(u,v \\right)}} e^{- V{\\left(u,v \\right)}} \\frac{\\partial}{\\partial v} U{\\left(u,v \\right)} - e^{- U{\\left(u,v \\right)}} e^{- V{\\left(u,v \\right)}} \\frac{\\partial}{\\partial v} V{\\left(u,v \\right)}\\right) e^{U{\\left(u,v \\right)}} e^{V{\\left(u,v \\right)}}}{2} & 0 & 0\\end{matrix}\\right]\\end{matrix}\\right]$"
      ],
      "text/plain": [
       "⎡                                                                                           \n",
       "⎢                                                                                           \n",
       "⎢                                                                                           \n",
       "⎢⎡ ∂                                                                                        \n",
       "⎢⎢-──(M(u, v))  0                                       0                                   \n",
       "⎢⎢ ∂u                                                                                       \n",
       "⎢⎢                                                                                          \n",
       "⎢⎢     0        0                                       0                                   \n",
       "⎢⎢                                                                                          \n",
       "⎢⎢                  ⎛ -U(u, v)  V(u, v) ∂              -U(u, v)  V(u, v) ∂          ⎞  M(u, \n",
       "⎢⎢     0        0  -⎜ℯ        ⋅ℯ       ⋅──(U(u, v)) - ℯ        ⋅ℯ       ⋅──(V(u, v))⎟⋅ℯ     \n",
       "⎢⎢                  ⎝                   ∂v                               ∂v         ⎠       \n",
       "⎢⎢                                                                                          \n",
       "⎢⎢                                                                                          \n",
       "⎢⎢     0        0                                       0                                   \n",
       "⎢⎣                                                                                          \n",
       "⎢                                                                                           \n",
       "⎢                                                                                           \n",
       "⎣                                                                                           \n",
       "\n",
       "                                                                                            \n",
       "                                                                                            \n",
       "                                                                                            \n",
       "                                                                                 ⎤  ⎡0      \n",
       "                                          0                                      ⎥  ⎢       \n",
       "                                                                                 ⎥  ⎢    ∂  \n",
       "                                                                                 ⎥  ⎢0  -──(\n",
       "                                          0                                      ⎥  ⎢    ∂v \n",
       "                                                                                 ⎥  ⎢       \n",
       "v)                                                                               ⎥  ⎢       \n",
       "                                          0                                      ⎥  ⎢0      \n",
       "                                                                                 ⎥  ⎢       \n",
       "                                                                                 ⎥  ⎢       \n",
       "     ⎛ -U(u, v)  -V(u, v) ∂              -U(u, v)  -V(u, v) ∂          ⎞  M(u, v)⎥  ⎢       \n",
       "    -⎜ℯ        ⋅ℯ        ⋅──(U(u, v)) + ℯ        ⋅ℯ        ⋅──(V(u, v))⎟⋅ℯ       ⎥  ⎢0      \n",
       "     ⎝                    ∂v                                ∂v         ⎠         ⎦  ⎣       \n",
       "                                                                                            \n",
       "                                                                                            \n",
       "                                                                                            \n",
       "\n",
       "                                                                                            \n",
       "                                                                                            \n",
       "                                                                                            \n",
       " 0                                             0                                            \n",
       "                                                                                            \n",
       "                                                                                            \n",
       "M(u, v))                                       0                                            \n",
       "                                                                                            \n",
       "                                                                                            \n",
       "           ⎛ -U(u, v)  V(u, v) ∂              -U(u, v)  V(u, v) ∂          ⎞  M(u, v)       \n",
       " 0        -⎜ℯ        ⋅ℯ       ⋅──(U(u, v)) - ℯ        ⋅ℯ       ⋅──(V(u, v))⎟⋅ℯ              \n",
       "           ⎝                   ∂u                               ∂u         ⎠                \n",
       "                                                                                            \n",
       "                                                                                        ⎛ -U\n",
       " 0                                             0                                       -⎜ℯ  \n",
       "                                                                                        ⎝   \n",
       "                                                                                            \n",
       "                                                                                            \n",
       "                                                                                            \n",
       "\n",
       "                                                                           ⎡                \n",
       "                                                                           ⎢                \n",
       "                                                                           ⎢                \n",
       "                                 0                                      ⎤  ⎢                \n",
       "                                                                        ⎥  ⎢                \n",
       "                                                                        ⎥  ⎢                \n",
       "                                 0                                      ⎥  ⎢                \n",
       "                                                                        ⎥  ⎢                \n",
       "                                                                        ⎥  ⎢                \n",
       "                                                                        ⎥  ⎢                \n",
       "                                 0                                      ⎥  ⎢                \n",
       "                                                                        ⎥  ⎢                \n",
       "                                                                        ⎥  ⎢⎛   -U(u, v)  V(\n",
       "(u, v)  -V(u, v) ∂              -U(u, v)  -V(u, v) ∂          ⎞  M(u, v)⎥  ⎢⎜- ℯ        ⋅ℯ  \n",
       "      ⋅ℯ        ⋅──(U(u, v)) + ℯ        ⋅ℯ        ⋅──(V(u, v))⎟⋅ℯ       ⎥  ⎢⎝               \n",
       "                 ∂u                                ∂u         ⎠         ⎦  ⎢────────────────\n",
       "                                                                           ⎢                \n",
       "                                                                           ⎢                \n",
       "                                                                           ⎣                \n",
       "\n",
       "                                                                                            \n",
       "                                                                                            \n",
       "                                                                                            \n",
       "                          0                                                                 \n",
       "                                                                                            \n",
       "                                                                                            \n",
       "                                                                                            \n",
       "                                                                                            \n",
       "                                                                                            \n",
       "                          0                                                                 \n",
       "                                                                                            \n",
       "                                                                                            \n",
       "u, v) ∂              -U(u, v)  V(u, v) ∂          ⎞  U(u, v)  -V(u, v)  ⎛   -U(u, v)  V(u, v\n",
       "     ⋅──(U(u, v)) + ℯ        ⋅ℯ       ⋅──(V(u, v))⎟⋅ℯ       ⋅ℯ          ⎜- ℯ        ⋅ℯ      \n",
       "      ∂u                               ∂u         ⎠                     ⎝                   \n",
       "──────────────────────────────────────────────────────────────────────  ────────────────────\n",
       "                          2                                                                 \n",
       "                                                                                            \n",
       "                          0                                                                 \n",
       "\n",
       "                                                                    ⎛   -U(u, v)  V(u, v) ∂ \n",
       "                                                                    ⎜- ℯ        ⋅ℯ       ⋅──\n",
       "                                                                    ⎝                     ∂u\n",
       "                      0                                             ────────────────────────\n",
       "                                                                                            \n",
       "                                                                                            \n",
       "                                                                    ⎛   -U(u, v)  V(u, v) ∂ \n",
       "                                                                    ⎜- ℯ        ⋅ℯ       ⋅──\n",
       "                                                                    ⎝                     ∂v\n",
       "                      0                                             ────────────────────────\n",
       "                                                                                            \n",
       "                                                                                            \n",
       ") ∂              -U(u, v)  V(u, v) ∂          ⎞  U(u, v)  -V(u, v)                          \n",
       " ⋅──(U(u, v)) + ℯ        ⋅ℯ       ⋅──(V(u, v))⎟⋅ℯ       ⋅ℯ                                  \n",
       "  ∂v                               ∂v         ⎠                                             \n",
       "──────────────────────────────────────────────────────────────────                          \n",
       "                      2                                                                     \n",
       "                                                                                            \n",
       "                      0                                                                     \n",
       "\n",
       "             -U(u, v)  V(u, v) ∂          ⎞  U(u, v)  -V(u, v)   ⎤  ⎡                       \n",
       "(U(u, v)) + ℯ        ⋅ℯ       ⋅──(V(u, v))⎟⋅ℯ       ⋅ℯ           ⎥  ⎢                       \n",
       "                               ∂u         ⎠                      ⎥  ⎢                       \n",
       "──────────────────────────────────────────────────────────────  0⎥  ⎢                       \n",
       "                  2                                              ⎥  ⎢                       \n",
       "                                                                 ⎥  ⎢                       \n",
       "             -U(u, v)  V(u, v) ∂          ⎞  U(u, v)  -V(u, v)   ⎥  ⎢                       \n",
       "(U(u, v)) + ℯ        ⋅ℯ       ⋅──(V(u, v))⎟⋅ℯ       ⋅ℯ           ⎥  ⎢                       \n",
       "                               ∂v         ⎠                      ⎥  ⎢                       \n",
       "──────────────────────────────────────────────────────────────  0⎥  ⎢                       \n",
       "                  2                                              ⎥  ⎢                       \n",
       "                                                                 ⎥  ⎢                       \n",
       "                                                                 ⎥  ⎢                       \n",
       "                                                                 ⎥  ⎢                       \n",
       "                                                                 ⎥  ⎢⎛   -U(u, v)  -V(u, v) \n",
       "                  0                                             0⎥  ⎢⎜- ℯ        ⋅ℯ        ⋅\n",
       "                                                                 ⎥  ⎢⎝                      \n",
       "                                                                 ⎥  ⎢───────────────────────\n",
       "                  0                                             0⎦  ⎣                       \n",
       "\n",
       "                                                                                            \n",
       "                                                                                            \n",
       "                                                                                            \n",
       "                    0                                                                       \n",
       "                                                                                            \n",
       "                                                                                            \n",
       "                                                                                            \n",
       "                                                                                            \n",
       "                                                                                            \n",
       "                    0                                                                       \n",
       "                                                                                            \n",
       "                                                                                            \n",
       "                    0                                                                       \n",
       "                                                                                            \n",
       "∂              -U(u, v)  -V(u, v) ∂          ⎞  U(u, v)  V(u, v)  ⎛   -U(u, v)  -V(u, v) ∂  \n",
       "──(U(u, v)) - ℯ        ⋅ℯ        ⋅──(V(u, v))⎟⋅ℯ       ⋅ℯ         ⎜- ℯ        ⋅ℯ        ⋅──(\n",
       "∂u                                ∂u         ⎠                    ⎝                      ∂v \n",
       "────────────────────────────────────────────────────────────────  ──────────────────────────\n",
       "                    2                                                                       \n",
       "\n",
       "                                                                  ⎛   -U(u, v)  -V(u, v) ∂  \n",
       "                                                                  ⎜- ℯ        ⋅ℯ        ⋅──(\n",
       "                                                                  ⎝                      ∂u \n",
       "                 0                                             0  ──────────────────────────\n",
       "                                                                                            \n",
       "                                                                                            \n",
       "                                                                  ⎛   -U(u, v)  -V(u, v) ∂  \n",
       "                                                                  ⎜- ℯ        ⋅ℯ        ⋅──(\n",
       "                                                                  ⎝                      ∂v \n",
       "                 0                                             0  ──────────────────────────\n",
       "                                                                                            \n",
       "                                                                                            \n",
       "                 0                                             0                            \n",
       "                                                                                            \n",
       "            -U(u, v)  -V(u, v) ∂          ⎞  U(u, v)  V(u, v)                               \n",
       "U(u, v)) - ℯ        ⋅ℯ        ⋅──(V(u, v))⎟⋅ℯ       ⋅ℯ                                      \n",
       "                               ∂v         ⎠                                                 \n",
       "─────────────────────────────────────────────────────────────  0                            \n",
       "                 2                                                                          \n",
       "\n",
       "            -U(u, v)  -V(u, v) ∂          ⎞  U(u, v)  V(u, v)⎤⎤\n",
       "U(u, v)) - ℯ        ⋅ℯ        ⋅──(V(u, v))⎟⋅ℯ       ⋅ℯ       ⎥⎥\n",
       "                               ∂u         ⎠                  ⎥⎥\n",
       "─────────────────────────────────────────────────────────────⎥⎥\n",
       "                 2                                           ⎥⎥\n",
       "                                                             ⎥⎥\n",
       "            -U(u, v)  -V(u, v) ∂          ⎞  U(u, v)  V(u, v)⎥⎥\n",
       "U(u, v)) - ℯ        ⋅ℯ        ⋅──(V(u, v))⎟⋅ℯ       ⋅ℯ       ⎥⎥\n",
       "                               ∂v         ⎠                  ⎥⎥\n",
       "─────────────────────────────────────────────────────────────⎥⎥\n",
       "                 2                                           ⎥⎥\n",
       "                                                             ⎥⎥\n",
       "                 0                                           ⎥⎥\n",
       "                                                             ⎥⎥\n",
       "                                                             ⎥⎥\n",
       "                                                             ⎥⎥\n",
       "                                                             ⎥⎥\n",
       "                 0                                           ⎥⎥\n",
       "                                                             ⎦⎦"
      ]
     },
     "execution_count": 21,
     "metadata": {},
     "output_type": "execute_result"
    }
   ],
   "source": [
    "ch = ChristoffelSymbols.from_metric(metric)\n",
    "ch.tensor()"
   ]
  },
  {
   "cell_type": "code",
   "execution_count": 22,
   "id": "d7e6e008",
   "metadata": {},
   "outputs": [
    {
     "data": {
      "text/latex": [
       "$\\displaystyle \\left[\\begin{matrix}\\frac{\\partial}{\\partial u} M{\\left(u,v \\right)} \\frac{\\partial}{\\partial u} U{\\left(u,v \\right)} - \\frac{\\left(\\frac{\\partial}{\\partial u} U{\\left(u,v \\right)}\\right)^{2}}{2} + \\frac{\\partial^{2}}{\\partial u^{2}} U{\\left(u,v \\right)} - \\frac{\\left(\\frac{\\partial}{\\partial u} V{\\left(u,v \\right)}\\right)^{2}}{2} & - \\frac{\\frac{\\partial}{\\partial u} U{\\left(u,v \\right)} \\frac{\\partial}{\\partial v} U{\\left(u,v \\right)}}{2} - \\frac{\\frac{\\partial}{\\partial u} V{\\left(u,v \\right)} \\frac{\\partial}{\\partial v} V{\\left(u,v \\right)}}{2} + \\frac{\\partial^{2}}{\\partial v\\partial u} M{\\left(u,v \\right)} + \\frac{\\partial^{2}}{\\partial v\\partial u} U{\\left(u,v \\right)} & 0 & 0\\\\- \\frac{\\frac{\\partial}{\\partial u} U{\\left(u,v \\right)} \\frac{\\partial}{\\partial v} U{\\left(u,v \\right)}}{2} - \\frac{\\frac{\\partial}{\\partial u} V{\\left(u,v \\right)} \\frac{\\partial}{\\partial v} V{\\left(u,v \\right)}}{2} + \\frac{\\partial^{2}}{\\partial v\\partial u} M{\\left(u,v \\right)} + \\frac{\\partial^{2}}{\\partial v\\partial u} U{\\left(u,v \\right)} & \\frac{\\partial}{\\partial v} M{\\left(u,v \\right)} \\frac{\\partial}{\\partial v} U{\\left(u,v \\right)} - \\frac{\\left(\\frac{\\partial}{\\partial v} U{\\left(u,v \\right)}\\right)^{2}}{2} + \\frac{\\partial^{2}}{\\partial v^{2}} U{\\left(u,v \\right)} - \\frac{\\left(\\frac{\\partial}{\\partial v} V{\\left(u,v \\right)}\\right)^{2}}{2} & 0 & 0\\\\0 & 0 & \\left(2 \\frac{\\partial}{\\partial u} U{\\left(u,v \\right)} \\frac{\\partial}{\\partial v} U{\\left(u,v \\right)} - \\frac{\\partial}{\\partial u} U{\\left(u,v \\right)} \\frac{\\partial}{\\partial v} V{\\left(u,v \\right)} - \\frac{\\partial}{\\partial v} U{\\left(u,v \\right)} \\frac{\\partial}{\\partial u} V{\\left(u,v \\right)} - 2 \\frac{\\partial^{2}}{\\partial v\\partial u} U{\\left(u,v \\right)} + 2 \\frac{\\partial^{2}}{\\partial v\\partial u} V{\\left(u,v \\right)}\\right) e^{M{\\left(u,v \\right)} - U{\\left(u,v \\right)} + V{\\left(u,v \\right)}} & 0\\\\0 & 0 & 0 & \\left(2 \\frac{\\partial}{\\partial u} U{\\left(u,v \\right)} \\frac{\\partial}{\\partial v} U{\\left(u,v \\right)} + \\frac{\\partial}{\\partial u} U{\\left(u,v \\right)} \\frac{\\partial}{\\partial v} V{\\left(u,v \\right)} + \\frac{\\partial}{\\partial v} U{\\left(u,v \\right)} \\frac{\\partial}{\\partial u} V{\\left(u,v \\right)} - 2 \\frac{\\partial^{2}}{\\partial v\\partial u} U{\\left(u,v \\right)} - 2 \\frac{\\partial^{2}}{\\partial v\\partial u} V{\\left(u,v \\right)}\\right) e^{M{\\left(u,v \\right)} - U{\\left(u,v \\right)} - V{\\left(u,v \\right)}}\\end{matrix}\\right]$"
      ],
      "text/plain": [
       "⎡                                             2                               2             \n",
       "⎢                                ⎛∂          ⎞                   ⎛∂          ⎞            ∂ \n",
       "⎢                                ⎜──(U(u, v))⎟      2            ⎜──(V(u, v))⎟            ──\n",
       "⎢      ∂           ∂             ⎝∂u         ⎠     ∂             ⎝∂u         ⎠            ∂u\n",
       "⎢      ──(M(u, v))⋅──(U(u, v)) - ────────────── + ───(U(u, v)) - ──────────────         - ──\n",
       "⎢      ∂u          ∂u                  2            2                  2                    \n",
       "⎢                                                 ∂u                                        \n",
       "⎢                                                                                           \n",
       "⎢                                                                                           \n",
       "⎢  ∂           ∂             ∂           ∂                                                  \n",
       "⎢  ──(U(u, v))⋅──(U(u, v))   ──(V(u, v))⋅──(V(u, v))      2                2                \n",
       "⎢  ∂u          ∂v            ∂u          ∂v              ∂                ∂                 \n",
       "⎢- ─────────────────────── - ─────────────────────── + ─────(M(u, v)) + ─────(U(u, v))      \n",
       "⎢             2                         2              ∂v ∂u            ∂v ∂u               \n",
       "⎢                                                                                           \n",
       "⎢                                                                                           \n",
       "⎢                                                                                           \n",
       "⎢                                                                                           \n",
       "⎢                                          0                                                \n",
       "⎢                                                                                           \n",
       "⎢                                                                                           \n",
       "⎢                                                                                           \n",
       "⎢                                                                                           \n",
       "⎢                                          0                                                \n",
       "⎣                                                                                           \n",
       "\n",
       "                                                                                            \n",
       "          ∂             ∂           ∂                                                       \n",
       "(U(u, v))⋅──(U(u, v))   ──(V(u, v))⋅──(V(u, v))      2                2                     \n",
       "          ∂v            ∂u          ∂v              ∂                ∂                      \n",
       "───────────────────── - ─────────────────────── + ─────(M(u, v)) + ─────(U(u, v))           \n",
       "         2                         2              ∂v ∂u            ∂v ∂u                    \n",
       "                                                                                            \n",
       "                                                                                            \n",
       "                                         2                               2                  \n",
       "                            ⎛∂          ⎞                   ⎛∂          ⎞                   \n",
       "                            ⎜──(U(u, v))⎟      2            ⎜──(V(u, v))⎟                   \n",
       "  ∂           ∂             ⎝∂v         ⎠     ∂             ⎝∂v         ⎠                   \n",
       "  ──(M(u, v))⋅──(U(u, v)) - ────────────── + ───(U(u, v)) - ──────────────                  \n",
       "  ∂v          ∂v                  2            2                  2                         \n",
       "                                             ∂v                                             \n",
       "                                                                                            \n",
       "                                                                                   ⎛        \n",
       "                                                                                   ⎜  ∂     \n",
       "                                      0                                            ⎜2⋅──(U(u\n",
       "                                                                                   ⎝  ∂u    \n",
       "                                                                                            \n",
       "                                                                                            \n",
       "                                                                                            \n",
       "                                      0                                                     \n",
       "                                                                                            \n",
       "\n",
       "                                                                                            \n",
       "                                                                                            \n",
       "                                                                                            \n",
       "                                                                                            \n",
       "                                                               0                            \n",
       "                                                                                            \n",
       "                                                                                            \n",
       "                                                                                            \n",
       "                                                                                            \n",
       "                                                                                            \n",
       "                                                                                            \n",
       "                                                                                            \n",
       "                                                               0                            \n",
       "                                                                                            \n",
       "                                                                                            \n",
       "                                                                                            \n",
       "                                                                             2              \n",
       "      ∂             ∂           ∂             ∂           ∂                 ∂               \n",
       ", v))⋅──(U(u, v)) - ──(U(u, v))⋅──(V(u, v)) - ──(U(u, v))⋅──(V(u, v)) - 2⋅─────(U(u, v)) + 2\n",
       "      ∂v            ∂u          ∂v            ∂v          ∂u              ∂v ∂u             \n",
       "                                                                                            \n",
       "                                                                                            \n",
       "                                                                                            \n",
       "                                                               0                            \n",
       "                                                                                            \n",
       "\n",
       "                                                                                            \n",
       "                                                                                            \n",
       "                                                                                            \n",
       "                                                                                            \n",
       "                                                                                            \n",
       "                                                                                            \n",
       "                                                                                            \n",
       "                                                                                            \n",
       "                                                                                            \n",
       "                                                                                            \n",
       "                                                                                            \n",
       "                                                                                            \n",
       "                                                                                            \n",
       "                                                                                            \n",
       "                                                                                            \n",
       "                                                                                            \n",
       "    2          ⎞                                                                            \n",
       "   ∂           ⎟  M(u, v) - U(u, v) + V(u, v)                                               \n",
       "⋅─────(V(u, v))⎟⋅ℯ                                                                          \n",
       " ∂v ∂u         ⎠                                                                            \n",
       "                                                                                            \n",
       "                                               ⎛                                            \n",
       "                                               ⎜  ∂           ∂             ∂           ∂   \n",
       "                                               ⎜2⋅──(U(u, v))⋅──(U(u, v)) + ──(U(u, v))⋅──(V\n",
       "                                               ⎝  ∂u          ∂v            ∂u          ∂v  \n",
       "\n",
       "                                                                                            \n",
       "                                                                                            \n",
       "                                                                                            \n",
       "                                                                                            \n",
       "                           0                                                                \n",
       "                                                                                            \n",
       "                                                                                            \n",
       "                                                                                            \n",
       "                                                                                            \n",
       "                                                                                            \n",
       "                                                                                            \n",
       "                                                                                            \n",
       "                           0                                                                \n",
       "                                                                                            \n",
       "                                                                                            \n",
       "                                                                                            \n",
       "                                                                                            \n",
       "                                                                                            \n",
       "                           0                                                                \n",
       "                                                                                            \n",
       "                                                                                            \n",
       "                                         2                  2          ⎞                    \n",
       "          ∂           ∂                 ∂                  ∂           ⎟  M(u, v) - U(u, v) \n",
       "(u, v)) + ──(U(u, v))⋅──(V(u, v)) - 2⋅─────(U(u, v)) - 2⋅─────(V(u, v))⎟⋅ℯ                  \n",
       "          ∂v          ∂u              ∂v ∂u              ∂v ∂u         ⎠                    \n",
       "\n",
       "         ⎤\n",
       "         ⎥\n",
       "         ⎥\n",
       "         ⎥\n",
       "         ⎥\n",
       "         ⎥\n",
       "         ⎥\n",
       "         ⎥\n",
       "         ⎥\n",
       "         ⎥\n",
       "         ⎥\n",
       "         ⎥\n",
       "         ⎥\n",
       "         ⎥\n",
       "         ⎥\n",
       "         ⎥\n",
       "         ⎥\n",
       "         ⎥\n",
       "         ⎥\n",
       "         ⎥\n",
       "         ⎥\n",
       "         ⎥\n",
       "- V(u, v)⎥\n",
       "         ⎥\n",
       "         ⎦"
      ]
     },
     "execution_count": 22,
     "metadata": {},
     "output_type": "execute_result"
    }
   ],
   "source": [
    "Ric = RicciTensor.from_metric(metric)\n",
    "Ric.tensor()"
   ]
  },
  {
   "cell_type": "code",
   "execution_count": 23,
   "id": "ba68e3dd",
   "metadata": {},
   "outputs": [
    {
     "data": {
      "image/png": "[encoded data removed]",
      "text/latex": [
       "$\\displaystyle 2 \\left(3 \\frac{\\partial}{\\partial u} U{\\left(u,v \\right)} \\frac{\\partial}{\\partial v} U{\\left(u,v \\right)} + \\frac{\\partial}{\\partial u} V{\\left(u,v \\right)} \\frac{\\partial}{\\partial v} V{\\left(u,v \\right)} - 2 \\frac{\\partial^{2}}{\\partial v\\partial u} M{\\left(u,v \\right)} - 4 \\frac{\\partial^{2}}{\\partial v\\partial u} U{\\left(u,v \\right)}\\right) e^{M{\\left(u,v \\right)}}$"
      ],
      "text/plain": [
       "  ⎛                                                           2                  2          \n",
       "  ⎜  ∂           ∂             ∂           ∂                 ∂                  ∂           \n",
       "2⋅⎜3⋅──(U(u, v))⋅──(U(u, v)) + ──(V(u, v))⋅──(V(u, v)) - 2⋅─────(M(u, v)) - 4⋅─────(U(u, v))\n",
       "  ⎝  ∂u          ∂v            ∂u          ∂v              ∂v ∂u              ∂v ∂u         \n",
       "\n",
       "⎞         \n",
       "⎟  M(u, v)\n",
       "⎟⋅ℯ       \n",
       "⎠         "
      ]
     },
     "execution_count": 23,
     "metadata": {},
     "output_type": "execute_result"
    }
   ],
   "source": [
    "R = RicciScalar.from_riccitensor(Ric)\n",
    "R.simplify()\n",
    "R.expr"
   ]
  },
  {
   "cell_type": "code",
   "execution_count": 24,
   "id": "e7379119",
   "metadata": {},
   "outputs": [
    {
     "data": {
      "text/latex": [
       "$\\displaystyle \\left[\\begin{matrix}\\frac{\\partial}{\\partial u} M{\\left(u,v \\right)} \\frac{\\partial}{\\partial u} U{\\left(u,v \\right)} - \\frac{\\left(\\frac{\\partial}{\\partial u} U{\\left(u,v \\right)}\\right)^{2}}{2} + \\frac{\\partial^{2}}{\\partial u^{2}} U{\\left(u,v \\right)} - \\frac{\\left(\\frac{\\partial}{\\partial u} V{\\left(u,v \\right)}\\right)^{2}}{2} & 1.0 \\frac{\\partial}{\\partial u} U{\\left(u,v \\right)} \\frac{\\partial}{\\partial v} U{\\left(u,v \\right)} - 1.0 \\frac{\\partial^{2}}{\\partial v\\partial u} U{\\left(u,v \\right)} & 0 & 0\\\\1.0 \\frac{\\partial}{\\partial u} U{\\left(u,v \\right)} \\frac{\\partial}{\\partial v} U{\\left(u,v \\right)} - 1.0 \\frac{\\partial^{2}}{\\partial v\\partial u} U{\\left(u,v \\right)} & \\frac{\\partial}{\\partial v} M{\\left(u,v \\right)} \\frac{\\partial}{\\partial v} U{\\left(u,v \\right)} - \\frac{\\left(\\frac{\\partial}{\\partial v} U{\\left(u,v \\right)}\\right)^{2}}{2} + \\frac{\\partial^{2}}{\\partial v^{2}} U{\\left(u,v \\right)} - \\frac{\\left(\\frac{\\partial}{\\partial v} V{\\left(u,v \\right)}\\right)^{2}}{2} & 0 & 0\\\\0 & 0 & - 1.0 \\left(3 \\frac{\\partial}{\\partial u} U{\\left(u,v \\right)} \\frac{\\partial}{\\partial v} U{\\left(u,v \\right)} + \\frac{\\partial}{\\partial u} V{\\left(u,v \\right)} \\frac{\\partial}{\\partial v} V{\\left(u,v \\right)} - 2 \\frac{\\partial^{2}}{\\partial v\\partial u} M{\\left(u,v \\right)} - 4 \\frac{\\partial^{2}}{\\partial v\\partial u} U{\\left(u,v \\right)}\\right) e^{M{\\left(u,v \\right)}} e^{- U{\\left(u,v \\right)}} e^{V{\\left(u,v \\right)}} + \\left(2 \\frac{\\partial}{\\partial u} U{\\left(u,v \\right)} \\frac{\\partial}{\\partial v} U{\\left(u,v \\right)} - \\frac{\\partial}{\\partial u} U{\\left(u,v \\right)} \\frac{\\partial}{\\partial v} V{\\left(u,v \\right)} - \\frac{\\partial}{\\partial v} U{\\left(u,v \\right)} \\frac{\\partial}{\\partial u} V{\\left(u,v \\right)} - 2 \\frac{\\partial^{2}}{\\partial v\\partial u} U{\\left(u,v \\right)} + 2 \\frac{\\partial^{2}}{\\partial v\\partial u} V{\\left(u,v \\right)}\\right) e^{M{\\left(u,v \\right)} - U{\\left(u,v \\right)} + V{\\left(u,v \\right)}} & 0\\\\0 & 0 & 0 & - 1.0 \\left(3 \\frac{\\partial}{\\partial u} U{\\left(u,v \\right)} \\frac{\\partial}{\\partial v} U{\\left(u,v \\right)} + \\frac{\\partial}{\\partial u} V{\\left(u,v \\right)} \\frac{\\partial}{\\partial v} V{\\left(u,v \\right)} - 2 \\frac{\\partial^{2}}{\\partial v\\partial u} M{\\left(u,v \\right)} - 4 \\frac{\\partial^{2}}{\\partial v\\partial u} U{\\left(u,v \\right)}\\right) e^{M{\\left(u,v \\right)}} e^{- U{\\left(u,v \\right)}} e^{- V{\\left(u,v \\right)}} + \\left(2 \\frac{\\partial}{\\partial u} U{\\left(u,v \\right)} \\frac{\\partial}{\\partial v} U{\\left(u,v \\right)} + \\frac{\\partial}{\\partial u} U{\\left(u,v \\right)} \\frac{\\partial}{\\partial v} V{\\left(u,v \\right)} + \\frac{\\partial}{\\partial v} U{\\left(u,v \\right)} \\frac{\\partial}{\\partial u} V{\\left(u,v \\right)} - 2 \\frac{\\partial^{2}}{\\partial v\\partial u} U{\\left(u,v \\right)} - 2 \\frac{\\partial^{2}}{\\partial v\\partial u} V{\\left(u,v \\right)}\\right) e^{M{\\left(u,v \\right)} - U{\\left(u,v \\right)} - V{\\left(u,v \\right)}}\\end{matrix}\\right]$"
      ],
      "text/plain": [
       "⎡                                       2                               2                   \n",
       "⎢                          ⎛∂          ⎞                   ⎛∂          ⎞                    \n",
       "⎢                          ⎜──(U(u, v))⎟      2            ⎜──(V(u, v))⎟                    \n",
       "⎢∂           ∂             ⎝∂u         ⎠     ∂             ⎝∂u         ⎠                    \n",
       "⎢──(M(u, v))⋅──(U(u, v)) - ────────────── + ───(U(u, v)) - ──────────────                1.0\n",
       "⎢∂u          ∂u                  2            2                  2                          \n",
       "⎢                                           ∂u                                              \n",
       "⎢                                                                                           \n",
       "⎢                                                                                           \n",
       "⎢                                                                                           \n",
       "⎢                                               2                                           \n",
       "⎢                  ∂           ∂               ∂                           ∂           ∂    \n",
       "⎢              1.0⋅──(U(u, v))⋅──(U(u, v)) - ─────(U(u, v))                ──(M(u, v))⋅──(U(\n",
       "⎢                  ∂u          ∂v            ∂v ∂u                         ∂v          ∂v   \n",
       "⎢                                                                                           \n",
       "⎢                                                                                           \n",
       "⎢                                                                                           \n",
       "⎢                                                                                           \n",
       "⎢                                   0                                                       \n",
       "⎢                                                                                           \n",
       "⎢                                                                                           \n",
       "⎢                                                                                           \n",
       "⎢                                                                                           \n",
       "⎢                                   0                                                       \n",
       "⎣                                                                                           \n",
       "\n",
       "                                                                                            \n",
       "                                                                                            \n",
       "                              2                                                             \n",
       " ∂           ∂               ∂                                                              \n",
       "⋅──(U(u, v))⋅──(U(u, v)) - ─────(U(u, v))                                                   \n",
       " ∂u          ∂v            ∂v ∂u                                                            \n",
       "                                                                                            \n",
       "                                                                                            \n",
       "                      2                               2                                     \n",
       "         ⎛∂          ⎞                   ⎛∂          ⎞                                      \n",
       "         ⎜──(U(u, v))⎟      2            ⎜──(V(u, v))⎟                                      \n",
       "         ⎝∂v         ⎠     ∂             ⎝∂v         ⎠                                      \n",
       "u, v)) - ────────────── + ───(U(u, v)) - ──────────────                                     \n",
       "               2            2                  2                                            \n",
       "                          ∂v                                                                \n",
       "                                                                                            \n",
       "                                                           ⎛                                \n",
       "                                                           ⎜  ∂           ∂             ∂   \n",
       "                  0                                      - ⎜3⋅──(U(u, v))⋅──(U(u, v)) + ──(V\n",
       "                                                           ⎝  ∂u          ∂v            ∂u  \n",
       "                                                                                            \n",
       "                                                                                            \n",
       "                                                                                            \n",
       "                  0                                                                         \n",
       "                                                                                            \n",
       "\n",
       "                                                                                            \n",
       "                                                                                            \n",
       "                                                                                            \n",
       "                                                                                            \n",
       "                                                                                            \n",
       "                                                                                            \n",
       "                                                                                            \n",
       "                                                                                            \n",
       "                                                                                            \n",
       "                                                                                            \n",
       "                                                                                            \n",
       "                                                                                            \n",
       "                                                                                            \n",
       "                                                                                            \n",
       "                                                                                            \n",
       "                                                                                            \n",
       "                           2                  2          ⎞                               ⎛  \n",
       "        ∂                 ∂                  ∂           ⎟  M(u, v)  -U(u, v)  V(u, v)   ⎜  \n",
       "(u, v))⋅──(V(u, v)) - 2⋅─────(M(u, v)) - 4⋅─────(U(u, v))⎟⋅ℯ       ⋅ℯ        ⋅ℯ        + ⎜2⋅\n",
       "        ∂v              ∂v ∂u              ∂v ∂u         ⎠                               ⎝  \n",
       "                                                                                            \n",
       "                                                                                            \n",
       "                                                                                            \n",
       "                                                                                            \n",
       "                                                                                            \n",
       "\n",
       "                                                                                            \n",
       "                                                                                            \n",
       "                                                                                            \n",
       "                                                                                            \n",
       "       0                                                                                    \n",
       "                                                                                            \n",
       "                                                                                            \n",
       "                                                                                            \n",
       "                                                                                            \n",
       "                                                                                            \n",
       "                                                                                            \n",
       "                                                                                            \n",
       "       0                                                                                    \n",
       "                                                                                            \n",
       "                                                                                            \n",
       "                                                                                            \n",
       "                                                                                   2        \n",
       "∂           ∂             ∂           ∂             ∂           ∂                 ∂         \n",
       "──(U(u, v))⋅──(U(u, v)) - ──(U(u, v))⋅──(V(u, v)) - ──(U(u, v))⋅──(V(u, v)) - 2⋅─────(U(u, v\n",
       "∂u          ∂v            ∂u          ∂v            ∂v          ∂u              ∂v ∂u       \n",
       "                                                                                            \n",
       "                                                                                            \n",
       "                                                                                            \n",
       "       0                                                                                    \n",
       "                                                                                            \n",
       "\n",
       "                                                                                            \n",
       "                                                                                            \n",
       "                                                                                            \n",
       "                                                                                            \n",
       "                                                                                            \n",
       "                                                                                            \n",
       "                                                                                            \n",
       "                                                                                            \n",
       "                                                                                            \n",
       "                                                                                            \n",
       "                                                                                            \n",
       "                                                                                            \n",
       "                                                                                            \n",
       "                                                                                            \n",
       "                                                                                            \n",
       "                                                                                            \n",
       "          2          ⎞                                                                      \n",
       "         ∂           ⎟  M(u, v) - U(u, v) + V(u, v)                                         \n",
       ")) + 2⋅─────(V(u, v))⎟⋅ℯ                                                                    \n",
       "       ∂v ∂u         ⎠                                                                      \n",
       "                                                                                            \n",
       "                                                       ⎛                                    \n",
       "                                                       ⎜  ∂           ∂             ∂       \n",
       "                                                     - ⎜3⋅──(U(u, v))⋅──(U(u, v)) + ──(V(u, \n",
       "                                                       ⎝  ∂u          ∂v            ∂u      \n",
       "\n",
       "                                                                                            \n",
       "                                                                                            \n",
       "                                                                                            \n",
       "                                                                                            \n",
       "                                                                                            \n",
       "                                                                                            \n",
       "                                                                                            \n",
       "                                                                                            \n",
       "                                                                                            \n",
       "                                                                                            \n",
       "                                                                                            \n",
       "                                                                                            \n",
       "                                                                                            \n",
       "                                                                                            \n",
       "                                                                                            \n",
       "                                                                                            \n",
       "                                                                                            \n",
       "                                                                                            \n",
       "                                                                                            \n",
       "                                                                                            \n",
       "                                                                                            \n",
       "                       2                  2          ⎞                                ⎛     \n",
       "    ∂                 ∂                  ∂           ⎟  M(u, v)  -U(u, v)  -V(u, v)   ⎜  ∂  \n",
       "v))⋅──(V(u, v)) - 2⋅─────(M(u, v)) - 4⋅─────(U(u, v))⎟⋅ℯ       ⋅ℯ        ⋅ℯ         + ⎜2⋅──(\n",
       "    ∂v              ∂v ∂u              ∂v ∂u         ⎠                                ⎝  ∂u \n",
       "\n",
       "                                                                                            \n",
       "                                                                                            \n",
       "                                                                                            \n",
       "                                                                                            \n",
       "    0                                                                                       \n",
       "                                                                                            \n",
       "                                                                                            \n",
       "                                                                                            \n",
       "                                                                                            \n",
       "                                                                                            \n",
       "                                                                                            \n",
       "                                                                                            \n",
       "    0                                                                                       \n",
       "                                                                                            \n",
       "                                                                                            \n",
       "                                                                                            \n",
       "                                                                                            \n",
       "                                                                                            \n",
       "    0                                                                                       \n",
       "                                                                                            \n",
       "                                                                                            \n",
       "                                                                                2           \n",
       "         ∂             ∂           ∂             ∂           ∂                 ∂            \n",
       "U(u, v))⋅──(U(u, v)) + ──(U(u, v))⋅──(V(u, v)) + ──(U(u, v))⋅──(V(u, v)) - 2⋅─────(U(u, v)) \n",
       "         ∂v            ∂u          ∂v            ∂v          ∂u              ∂v ∂u          \n",
       "\n",
       "                                                ⎤\n",
       "                                                ⎥\n",
       "                                                ⎥\n",
       "                                                ⎥\n",
       "                                                ⎥\n",
       "                                                ⎥\n",
       "                                                ⎥\n",
       "                                                ⎥\n",
       "                                                ⎥\n",
       "                                                ⎥\n",
       "                                                ⎥\n",
       "                                                ⎥\n",
       "                                                ⎥\n",
       "                                                ⎥\n",
       "                                                ⎥\n",
       "                                                ⎥\n",
       "                                                ⎥\n",
       "                                                ⎥\n",
       "                                                ⎥\n",
       "                                                ⎥\n",
       "                                                ⎥\n",
       "       2          ⎞                             ⎥\n",
       "      ∂           ⎟  M(u, v) - U(u, v) - V(u, v)⎥\n",
       "- 2⋅─────(V(u, v))⎟⋅ℯ                           ⎥\n",
       "    ∂v ∂u         ⎠                             ⎦"
      ]
     },
     "execution_count": 24,
     "metadata": {},
     "output_type": "execute_result"
    }
   ],
   "source": [
    "einst = EinsteinTensor.from_metric(metric)\n",
    "einst.tensor()"
   ]
  },
  {
   "cell_type": "code",
   "execution_count": 25,
   "id": "cbd5996f",
   "metadata": {},
   "outputs": [],
   "source": [
    "#  rm1 = RiemannCurvatureTensor.from_christoffels(ch)\n",
    "#  rm1.tensor()"
   ]
  },
  {
   "cell_type": "code",
   "execution_count": 26,
   "id": "614b44c3",
   "metadata": {},
   "outputs": [],
   "source": [
    "#  weyl = WeylTensor.from_metric(metric)\n",
    "#  weyl.tensor()"
   ]
  },
  {
   "cell_type": "code",
   "execution_count": 27,
   "id": "16f0a6ce",
   "metadata": {},
   "outputs": [
    {
     "data": {
      "text/latex": [
       "$\\displaystyle \\left[\\begin{matrix}\\frac{\\partial}{\\partial u} M{\\left(u,v \\right)} \\frac{\\partial}{\\partial u} U{\\left(u,v \\right)} - \\frac{\\left(\\frac{\\partial}{\\partial u} U{\\left(u,v \\right)}\\right)^{2}}{2} + \\frac{\\partial^{2}}{\\partial u^{2}} U{\\left(u,v \\right)} - \\frac{\\left(\\frac{\\partial}{\\partial u} V{\\left(u,v \\right)}\\right)^{2}}{2} & 1.0 \\frac{\\partial}{\\partial u} U{\\left(u,v \\right)} \\frac{\\partial}{\\partial v} U{\\left(u,v \\right)} - 1.0 \\frac{\\partial^{2}}{\\partial v\\partial u} U{\\left(u,v \\right)} & 0 & 0\\\\1.0 \\frac{\\partial}{\\partial u} U{\\left(u,v \\right)} \\frac{\\partial}{\\partial v} U{\\left(u,v \\right)} - 1.0 \\frac{\\partial^{2}}{\\partial v\\partial u} U{\\left(u,v \\right)} & \\frac{\\partial}{\\partial v} M{\\left(u,v \\right)} \\frac{\\partial}{\\partial v} U{\\left(u,v \\right)} - \\frac{\\left(\\frac{\\partial}{\\partial v} U{\\left(u,v \\right)}\\right)^{2}}{2} + \\frac{\\partial^{2}}{\\partial v^{2}} U{\\left(u,v \\right)} - \\frac{\\left(\\frac{\\partial}{\\partial v} V{\\left(u,v \\right)}\\right)^{2}}{2} & 0 & 0\\\\0 & 0 & \\left(- 1.0 \\frac{\\partial}{\\partial u} U{\\left(u,v \\right)} \\frac{\\partial}{\\partial v} U{\\left(u,v \\right)} - \\frac{\\partial}{\\partial u} U{\\left(u,v \\right)} \\frac{\\partial}{\\partial v} V{\\left(u,v \\right)} - \\frac{\\partial}{\\partial v} U{\\left(u,v \\right)} \\frac{\\partial}{\\partial u} V{\\left(u,v \\right)} - 1.0 \\frac{\\partial}{\\partial u} V{\\left(u,v \\right)} \\frac{\\partial}{\\partial v} V{\\left(u,v \\right)} + 2.0 \\frac{\\partial^{2}}{\\partial v\\partial u} M{\\left(u,v \\right)} + 2.0 \\frac{\\partial^{2}}{\\partial v\\partial u} U{\\left(u,v \\right)} + 2 \\frac{\\partial^{2}}{\\partial v\\partial u} V{\\left(u,v \\right)}\\right) e^{M{\\left(u,v \\right)} - U{\\left(u,v \\right)} + V{\\left(u,v \\right)}} & 0\\\\0 & 0 & 0 & \\left(- 1.0 \\frac{\\partial}{\\partial u} U{\\left(u,v \\right)} \\frac{\\partial}{\\partial v} U{\\left(u,v \\right)} + \\frac{\\partial}{\\partial u} U{\\left(u,v \\right)} \\frac{\\partial}{\\partial v} V{\\left(u,v \\right)} + \\frac{\\partial}{\\partial v} U{\\left(u,v \\right)} \\frac{\\partial}{\\partial u} V{\\left(u,v \\right)} - 1.0 \\frac{\\partial}{\\partial u} V{\\left(u,v \\right)} \\frac{\\partial}{\\partial v} V{\\left(u,v \\right)} + 2.0 \\frac{\\partial^{2}}{\\partial v\\partial u} M{\\left(u,v \\right)} + 2.0 \\frac{\\partial^{2}}{\\partial v\\partial u} U{\\left(u,v \\right)} - 2 \\frac{\\partial^{2}}{\\partial v\\partial u} V{\\left(u,v \\right)}\\right) e^{M{\\left(u,v \\right)} - U{\\left(u,v \\right)} - V{\\left(u,v \\right)}}\\end{matrix}\\right]$"
      ],
      "text/plain": [
       "⎡                                       2                               2                   \n",
       "⎢                          ⎛∂          ⎞                   ⎛∂          ⎞                    \n",
       "⎢                          ⎜──(U(u, v))⎟      2            ⎜──(V(u, v))⎟                    \n",
       "⎢∂           ∂             ⎝∂u         ⎠     ∂             ⎝∂u         ⎠                    \n",
       "⎢──(M(u, v))⋅──(U(u, v)) - ────────────── + ───(U(u, v)) - ──────────────                1.0\n",
       "⎢∂u          ∂u                  2            2                  2                          \n",
       "⎢                                           ∂u                                              \n",
       "⎢                                                                                           \n",
       "⎢                                                                                           \n",
       "⎢                                                                                           \n",
       "⎢                                               2                                           \n",
       "⎢                  ∂           ∂               ∂                           ∂           ∂    \n",
       "⎢              1.0⋅──(U(u, v))⋅──(U(u, v)) - ─────(U(u, v))                ──(M(u, v))⋅──(U(\n",
       "⎢                  ∂u          ∂v            ∂v ∂u                         ∂v          ∂v   \n",
       "⎢                                                                                           \n",
       "⎢                                                                                           \n",
       "⎢                                                                                           \n",
       "⎢                                                                                           \n",
       "⎢                                   0                                                       \n",
       "⎢                                                                                           \n",
       "⎢                                                                                           \n",
       "⎢                                                                                           \n",
       "⎢                                                                                           \n",
       "⎢                                   0                                                       \n",
       "⎣                                                                                           \n",
       "\n",
       "                                                                                            \n",
       "                                                                                            \n",
       "                              2                                                             \n",
       " ∂           ∂               ∂                                                              \n",
       "⋅──(U(u, v))⋅──(U(u, v)) - ─────(U(u, v))                                                   \n",
       " ∂u          ∂v            ∂v ∂u                                                            \n",
       "                                                                                            \n",
       "                                                                                            \n",
       "                      2                               2                                     \n",
       "         ⎛∂          ⎞                   ⎛∂          ⎞                                      \n",
       "         ⎜──(U(u, v))⎟      2            ⎜──(V(u, v))⎟                                      \n",
       "         ⎝∂v         ⎠     ∂             ⎝∂v         ⎠                                      \n",
       "u, v)) - ────────────── + ───(U(u, v)) - ──────────────                                     \n",
       "               2            2                  2                                            \n",
       "                          ∂v                                                                \n",
       "                                                                                            \n",
       "                                                         ⎛                                  \n",
       "                                                         ⎜  ∂           ∂             ∂     \n",
       "                  0                                      ⎜- ──(U(u, v))⋅──(U(u, v)) - ──(U(u\n",
       "                                                         ⎝  ∂u          ∂v            ∂u    \n",
       "                                                                                            \n",
       "                                                                                            \n",
       "                                                                                            \n",
       "                  0                                                                         \n",
       "                                                                                            \n",
       "\n",
       "                                                                                            \n",
       "                                                                                            \n",
       "                                                                                            \n",
       "                                                                                            \n",
       "                                                              0                             \n",
       "                                                                                            \n",
       "                                                                                            \n",
       "                                                                                            \n",
       "                                                                                            \n",
       "                                                                                            \n",
       "                                                                                            \n",
       "                                                                                            \n",
       "                                                              0                             \n",
       "                                                                                            \n",
       "                                                                                            \n",
       "                                                                                            \n",
       "                                                                               2            \n",
       "      ∂             ∂           ∂             ∂           ∂                   ∂             \n",
       ", v))⋅──(V(u, v)) - ──(U(u, v))⋅──(V(u, v)) - ──(V(u, v))⋅──(V(u, v)) + 2.0⋅─────(M(u, v)) +\n",
       "      ∂v            ∂v          ∂u            ∂u          ∂v                ∂v ∂u           \n",
       "                                                                                            \n",
       "                                                                                            \n",
       "                                                                                            \n",
       "                                                              0                             \n",
       "                                                                                            \n",
       "\n",
       "                                                                                            \n",
       "                                                                                            \n",
       "                                                                                            \n",
       "                                                                                            \n",
       "                                                                                            \n",
       "                                                                                            \n",
       "                                                                                            \n",
       "                                                                                            \n",
       "                                                                                            \n",
       "                                                                                            \n",
       "                                                                                            \n",
       "                                                                                            \n",
       "                                                                                            \n",
       "                                                                                            \n",
       "                                                                                            \n",
       "                                                                                            \n",
       "        2                  2          ⎞                                                     \n",
       "       ∂                  ∂           ⎟  M(u, v) - U(u, v) + V(u, v)                        \n",
       " 2.0⋅─────(U(u, v)) + 2⋅─────(V(u, v))⎟⋅ℯ                                                   \n",
       "     ∂v ∂u              ∂v ∂u         ⎠                                                     \n",
       "                                                                                            \n",
       "                                                                      ⎛                     \n",
       "                                                                      ⎜  ∂           ∂      \n",
       "                                                                      ⎜- ──(U(u, v))⋅──(U(u,\n",
       "                                                                      ⎝  ∂u          ∂v     \n",
       "\n",
       "                                                                                            \n",
       "                                                                                            \n",
       "                                                                                            \n",
       "                                                                                            \n",
       "                                                                           0                \n",
       "                                                                                            \n",
       "                                                                                            \n",
       "                                                                                            \n",
       "                                                                                            \n",
       "                                                                                            \n",
       "                                                                                            \n",
       "                                                                                            \n",
       "                                                                           0                \n",
       "                                                                                            \n",
       "                                                                                            \n",
       "                                                                                            \n",
       "                                                                                            \n",
       "                                                                                            \n",
       "                                                                           0                \n",
       "                                                                                            \n",
       "                                                                                            \n",
       "                                                                                            \n",
       "       ∂           ∂             ∂           ∂             ∂           ∂                   ∂\n",
       " v)) + ──(U(u, v))⋅──(V(u, v)) + ──(U(u, v))⋅──(V(u, v)) - ──(V(u, v))⋅──(V(u, v)) + 2.0⋅───\n",
       "       ∂u          ∂v            ∂v          ∂u            ∂u          ∂v                ∂v \n",
       "\n",
       "                                                                                 ⎤\n",
       "                                                                                 ⎥\n",
       "                                                                                 ⎥\n",
       "                                                                                 ⎥\n",
       "                                                                                 ⎥\n",
       "                                                                                 ⎥\n",
       "                                                                                 ⎥\n",
       "                                                                                 ⎥\n",
       "                                                                                 ⎥\n",
       "                                                                                 ⎥\n",
       "                                                                                 ⎥\n",
       "                                                                                 ⎥\n",
       "                                                                                 ⎥\n",
       "                                                                                 ⎥\n",
       "                                                                                 ⎥\n",
       "                                                                                 ⎥\n",
       "                                                                                 ⎥\n",
       "                                                                                 ⎥\n",
       "                                                                                 ⎥\n",
       "                                                                                 ⎥\n",
       "                                                                                 ⎥\n",
       "2                    2                  2          ⎞                             ⎥\n",
       "                    ∂                  ∂           ⎟  M(u, v) - U(u, v) - V(u, v)⎥\n",
       "──(M(u, v)) + 2.0⋅─────(U(u, v)) - 2⋅─────(V(u, v))⎟⋅ℯ                           ⎥\n",
       "∂u                ∂v ∂u              ∂v ∂u         ⎠                             ⎦"
      ]
     },
     "execution_count": 27,
     "metadata": {},
     "output_type": "execute_result"
    }
   ],
   "source": [
    "einsteinSimplified = simplify(einst.tensor())\n",
    "einsteinSimplified"
   ]
  },
  {
   "cell_type": "code",
   "execution_count": 28,
   "id": "3552ea9e",
   "metadata": {},
   "outputs": [
    {
     "data": {
      "text/latex": [
       "$\\displaystyle \\left[\\begin{matrix}\\frac{\\partial}{\\partial u} M{\\left(u,v \\right)} \\frac{\\partial}{\\partial u} U{\\left(u,v \\right)} - \\frac{\\left(\\frac{\\partial}{\\partial u} U{\\left(u,v \\right)}\\right)^{2}}{2} + \\frac{\\partial^{2}}{\\partial u^{2}} U{\\left(u,v \\right)} - \\frac{\\left(\\frac{\\partial}{\\partial u} V{\\left(u,v \\right)}\\right)^{2}}{2} & - \\frac{\\frac{\\partial}{\\partial u} U{\\left(u,v \\right)} \\frac{\\partial}{\\partial v} U{\\left(u,v \\right)}}{2} - \\frac{\\frac{\\partial}{\\partial u} V{\\left(u,v \\right)} \\frac{\\partial}{\\partial v} V{\\left(u,v \\right)}}{2} + \\frac{\\partial^{2}}{\\partial v\\partial u} M{\\left(u,v \\right)} + \\frac{\\partial^{2}}{\\partial v\\partial u} U{\\left(u,v \\right)} & 0 & 0\\\\- \\frac{\\frac{\\partial}{\\partial u} U{\\left(u,v \\right)} \\frac{\\partial}{\\partial v} U{\\left(u,v \\right)}}{2} - \\frac{\\frac{\\partial}{\\partial u} V{\\left(u,v \\right)} \\frac{\\partial}{\\partial v} V{\\left(u,v \\right)}}{2} + \\frac{\\partial^{2}}{\\partial v\\partial u} M{\\left(u,v \\right)} + \\frac{\\partial^{2}}{\\partial v\\partial u} U{\\left(u,v \\right)} & \\frac{\\partial}{\\partial v} M{\\left(u,v \\right)} \\frac{\\partial}{\\partial v} U{\\left(u,v \\right)} - \\frac{\\left(\\frac{\\partial}{\\partial v} U{\\left(u,v \\right)}\\right)^{2}}{2} + \\frac{\\partial^{2}}{\\partial v^{2}} U{\\left(u,v \\right)} - \\frac{\\left(\\frac{\\partial}{\\partial v} V{\\left(u,v \\right)}\\right)^{2}}{2} & 0 & 0\\\\0 & 0 & \\left(2 \\frac{\\partial}{\\partial u} U{\\left(u,v \\right)} \\frac{\\partial}{\\partial v} U{\\left(u,v \\right)} - \\frac{\\partial}{\\partial u} U{\\left(u,v \\right)} \\frac{\\partial}{\\partial v} V{\\left(u,v \\right)} - \\frac{\\partial}{\\partial v} U{\\left(u,v \\right)} \\frac{\\partial}{\\partial u} V{\\left(u,v \\right)} - 2 \\frac{\\partial^{2}}{\\partial v\\partial u} U{\\left(u,v \\right)} + 2 \\frac{\\partial^{2}}{\\partial v\\partial u} V{\\left(u,v \\right)}\\right) e^{M{\\left(u,v \\right)} - U{\\left(u,v \\right)} + V{\\left(u,v \\right)}} & 0\\\\0 & 0 & 0 & \\left(2 \\frac{\\partial}{\\partial u} U{\\left(u,v \\right)} \\frac{\\partial}{\\partial v} U{\\left(u,v \\right)} + \\frac{\\partial}{\\partial u} U{\\left(u,v \\right)} \\frac{\\partial}{\\partial v} V{\\left(u,v \\right)} + \\frac{\\partial}{\\partial v} U{\\left(u,v \\right)} \\frac{\\partial}{\\partial u} V{\\left(u,v \\right)} - 2 \\frac{\\partial^{2}}{\\partial v\\partial u} U{\\left(u,v \\right)} - 2 \\frac{\\partial^{2}}{\\partial v\\partial u} V{\\left(u,v \\right)}\\right) e^{M{\\left(u,v \\right)} - U{\\left(u,v \\right)} - V{\\left(u,v \\right)}}\\end{matrix}\\right]$"
      ],
      "text/plain": [
       "⎡                                             2                               2             \n",
       "⎢                                ⎛∂          ⎞                   ⎛∂          ⎞            ∂ \n",
       "⎢                                ⎜──(U(u, v))⎟      2            ⎜──(V(u, v))⎟            ──\n",
       "⎢      ∂           ∂             ⎝∂u         ⎠     ∂             ⎝∂u         ⎠            ∂u\n",
       "⎢      ──(M(u, v))⋅──(U(u, v)) - ────────────── + ───(U(u, v)) - ──────────────         - ──\n",
       "⎢      ∂u          ∂u                  2            2                  2                    \n",
       "⎢                                                 ∂u                                        \n",
       "⎢                                                                                           \n",
       "⎢                                                                                           \n",
       "⎢  ∂           ∂             ∂           ∂                                                  \n",
       "⎢  ──(U(u, v))⋅──(U(u, v))   ──(V(u, v))⋅──(V(u, v))      2                2                \n",
       "⎢  ∂u          ∂v            ∂u          ∂v              ∂                ∂                 \n",
       "⎢- ─────────────────────── - ─────────────────────── + ─────(M(u, v)) + ─────(U(u, v))      \n",
       "⎢             2                         2              ∂v ∂u            ∂v ∂u               \n",
       "⎢                                                                                           \n",
       "⎢                                                                                           \n",
       "⎢                                                                                           \n",
       "⎢                                                                                           \n",
       "⎢                                          0                                                \n",
       "⎢                                                                                           \n",
       "⎢                                                                                           \n",
       "⎢                                                                                           \n",
       "⎢                                                                                           \n",
       "⎢                                          0                                                \n",
       "⎣                                                                                           \n",
       "\n",
       "                                                                                            \n",
       "          ∂             ∂           ∂                                                       \n",
       "(U(u, v))⋅──(U(u, v))   ──(V(u, v))⋅──(V(u, v))      2                2                     \n",
       "          ∂v            ∂u          ∂v              ∂                ∂                      \n",
       "───────────────────── - ─────────────────────── + ─────(M(u, v)) + ─────(U(u, v))           \n",
       "         2                         2              ∂v ∂u            ∂v ∂u                    \n",
       "                                                                                            \n",
       "                                                                                            \n",
       "                                         2                               2                  \n",
       "                            ⎛∂          ⎞                   ⎛∂          ⎞                   \n",
       "                            ⎜──(U(u, v))⎟      2            ⎜──(V(u, v))⎟                   \n",
       "  ∂           ∂             ⎝∂v         ⎠     ∂             ⎝∂v         ⎠                   \n",
       "  ──(M(u, v))⋅──(U(u, v)) - ────────────── + ───(U(u, v)) - ──────────────                  \n",
       "  ∂v          ∂v                  2            2                  2                         \n",
       "                                             ∂v                                             \n",
       "                                                                                            \n",
       "                                                                                   ⎛        \n",
       "                                                                                   ⎜  ∂     \n",
       "                                      0                                            ⎜2⋅──(U(u\n",
       "                                                                                   ⎝  ∂u    \n",
       "                                                                                            \n",
       "                                                                                            \n",
       "                                                                                            \n",
       "                                      0                                                     \n",
       "                                                                                            \n",
       "\n",
       "                                                                                            \n",
       "                                                                                            \n",
       "                                                                                            \n",
       "                                                                                            \n",
       "                                                               0                            \n",
       "                                                                                            \n",
       "                                                                                            \n",
       "                                                                                            \n",
       "                                                                                            \n",
       "                                                                                            \n",
       "                                                                                            \n",
       "                                                                                            \n",
       "                                                               0                            \n",
       "                                                                                            \n",
       "                                                                                            \n",
       "                                                                                            \n",
       "                                                                             2              \n",
       "      ∂             ∂           ∂             ∂           ∂                 ∂               \n",
       ", v))⋅──(U(u, v)) - ──(U(u, v))⋅──(V(u, v)) - ──(U(u, v))⋅──(V(u, v)) - 2⋅─────(U(u, v)) + 2\n",
       "      ∂v            ∂u          ∂v            ∂v          ∂u              ∂v ∂u             \n",
       "                                                                                            \n",
       "                                                                                            \n",
       "                                                                                            \n",
       "                                                               0                            \n",
       "                                                                                            \n",
       "\n",
       "                                                                                            \n",
       "                                                                                            \n",
       "                                                                                            \n",
       "                                                                                            \n",
       "                                                                                            \n",
       "                                                                                            \n",
       "                                                                                            \n",
       "                                                                                            \n",
       "                                                                                            \n",
       "                                                                                            \n",
       "                                                                                            \n",
       "                                                                                            \n",
       "                                                                                            \n",
       "                                                                                            \n",
       "                                                                                            \n",
       "                                                                                            \n",
       "    2          ⎞                                                                            \n",
       "   ∂           ⎟  M(u, v) - U(u, v) + V(u, v)                                               \n",
       "⋅─────(V(u, v))⎟⋅ℯ                                                                          \n",
       " ∂v ∂u         ⎠                                                                            \n",
       "                                                                                            \n",
       "                                               ⎛                                            \n",
       "                                               ⎜  ∂           ∂             ∂           ∂   \n",
       "                                               ⎜2⋅──(U(u, v))⋅──(U(u, v)) + ──(U(u, v))⋅──(V\n",
       "                                               ⎝  ∂u          ∂v            ∂u          ∂v  \n",
       "\n",
       "                                                                                            \n",
       "                                                                                            \n",
       "                                                                                            \n",
       "                                                                                            \n",
       "                           0                                                                \n",
       "                                                                                            \n",
       "                                                                                            \n",
       "                                                                                            \n",
       "                                                                                            \n",
       "                                                                                            \n",
       "                                                                                            \n",
       "                                                                                            \n",
       "                           0                                                                \n",
       "                                                                                            \n",
       "                                                                                            \n",
       "                                                                                            \n",
       "                                                                                            \n",
       "                                                                                            \n",
       "                           0                                                                \n",
       "                                                                                            \n",
       "                                                                                            \n",
       "                                         2                  2          ⎞                    \n",
       "          ∂           ∂                 ∂                  ∂           ⎟  M(u, v) - U(u, v) \n",
       "(u, v)) + ──(U(u, v))⋅──(V(u, v)) - 2⋅─────(U(u, v)) - 2⋅─────(V(u, v))⎟⋅ℯ                  \n",
       "          ∂v          ∂u              ∂v ∂u              ∂v ∂u         ⎠                    \n",
       "\n",
       "         ⎤\n",
       "         ⎥\n",
       "         ⎥\n",
       "         ⎥\n",
       "         ⎥\n",
       "         ⎥\n",
       "         ⎥\n",
       "         ⎥\n",
       "         ⎥\n",
       "         ⎥\n",
       "         ⎥\n",
       "         ⎥\n",
       "         ⎥\n",
       "         ⎥\n",
       "         ⎥\n",
       "         ⎥\n",
       "         ⎥\n",
       "         ⎥\n",
       "         ⎥\n",
       "         ⎥\n",
       "         ⎥\n",
       "         ⎥\n",
       "- V(u, v)⎥\n",
       "         ⎥\n",
       "         ⎦"
      ]
     },
     "execution_count": 28,
     "metadata": {},
     "output_type": "execute_result"
    }
   ],
   "source": [
    "ricciSimplified = simplify(Ric.tensor())\n",
    "ricciSimplified "
   ]
  },
  {
   "cell_type": "code",
   "execution_count": 38,
   "id": "d10ba452",
   "metadata": {},
   "outputs": [
    {
     "data": {
      "image/png": "[encoded data removed]",
      "text/latex": [
       "$\\displaystyle \\frac{\\partial^{2}}{\\partial v\\partial u} U{\\left(u,v \\right)} = \\frac{\\partial}{\\partial u} U{\\left(u,v \\right)} \\frac{\\partial}{\\partial v} U{\\left(u,v \\right)}$"
      ],
      "text/plain": [
       "   2                                    \n",
       "  ∂              ∂           ∂          \n",
       "─────(U(u, v)) = ──(U(u, v))⋅──(U(u, v))\n",
       "∂v ∂u            ∂u          ∂v         "
      ]
     },
     "execution_count": 38,
     "metadata": {},
     "output_type": "execute_result"
    }
   ],
   "source": [
    "equation16a = Eq( diff(U,u,v) , solve( einsteinSimplified[1,0], diff(U,u,v) )[0] ) \n",
    "equation16a"
   ]
  },
  {
   "cell_type": "code",
   "execution_count": 47,
   "id": "36cda0bb",
   "metadata": {},
   "outputs": [
    {
     "data": {
      "image/png": "[encoded data removed]",
      "text/latex": [
       "$\\displaystyle 2 \\frac{\\partial^{2}}{\\partial v\\partial u} V{\\left(u,v \\right)} = \\frac{\\partial}{\\partial u} U{\\left(u,v \\right)} \\frac{\\partial}{\\partial v} V{\\left(u,v \\right)} + \\frac{\\partial}{\\partial v} U{\\left(u,v \\right)} \\frac{\\partial}{\\partial u} V{\\left(u,v \\right)}$"
      ],
      "text/plain": [
       "     2                                                              \n",
       "    ∂              ∂           ∂             ∂           ∂          \n",
       "2⋅─────(V(u, v)) = ──(U(u, v))⋅──(V(u, v)) + ──(U(u, v))⋅──(V(u, v))\n",
       "  ∂v ∂u            ∂u          ∂v            ∂v          ∂u         "
      ]
     },
     "execution_count": 47,
     "metadata": {},
     "output_type": "execute_result"
    }
   ],
   "source": [
    "equation16b = Eq( 2* diff(V,u,v) ,2 * solve( simplify( ricciSimplified[2,2].args[0] - ricciSimplified[3,3].args[0] ), diff(V,u,v) )[0] )\n",
    "equation16b"
   ]
  },
  {
   "cell_type": "code",
   "execution_count": 59,
   "id": "01cc0fb0",
   "metadata": {},
   "outputs": [
    {
     "data": {
      "image/png": "[encoded data removed]",
      "text/latex": [
       "$\\displaystyle 2 \\frac{\\partial^{2}}{\\partial v\\partial u} M{\\left(u,v \\right)} = - 1.0 \\frac{\\partial}{\\partial u} U{\\left(u,v \\right)} \\frac{\\partial}{\\partial v} U{\\left(u,v \\right)} + \\frac{\\partial}{\\partial u} V{\\left(u,v \\right)} \\frac{\\partial}{\\partial v} V{\\left(u,v \\right)}$"
      ],
      "text/plain": [
       "     2                                                                \n",
       "    ∂                ∂           ∂             ∂           ∂          \n",
       "2⋅─────(M(u, v)) = - ──(U(u, v))⋅──(U(u, v)) + ──(V(u, v))⋅──(V(u, v))\n",
       "  ∂v ∂u              ∂u          ∂v            ∂u          ∂v         "
      ]
     },
     "execution_count": 59,
     "metadata": {},
     "output_type": "execute_result"
    }
   ],
   "source": [
    "equation16c = Eq( 2* diff(M,u,v) , 2* solve( simplify( einsteinSimplified[2,2].args[0] + einsteinSimplified[3,3].args[0] ).subs(equation16a.args[0],equation16a.args[1]) , diff(M,u,v) )[0])\n",
    "equation16c"
   ]
  },
  {
   "cell_type": "code",
   "execution_count": 36,
   "id": "1a5c8051",
   "metadata": {},
   "outputs": [
    {
     "data": {
      "image/png": "[encoded data removed]",
      "text/latex": [
       "$\\displaystyle \\frac{\\partial^{2}}{\\partial v^{2}} U{\\left(u,v \\right)} = - \\frac{\\partial}{\\partial v} M{\\left(u,v \\right)} \\frac{\\partial}{\\partial v} U{\\left(u,v \\right)} + \\frac{\\left(\\frac{\\partial}{\\partial v} U{\\left(u,v \\right)}\\right)^{2}}{2} + \\frac{\\left(\\frac{\\partial}{\\partial v} V{\\left(u,v \\right)}\\right)^{2}}{2}$"
      ],
      "text/plain": [
       "                                                        2                2\n",
       "                                           ⎛∂          ⎞    ⎛∂          ⎞ \n",
       "  2                                        ⎜──(U(u, v))⎟    ⎜──(V(u, v))⎟ \n",
       " ∂               ∂           ∂             ⎝∂v         ⎠    ⎝∂v         ⎠ \n",
       "───(U(u, v)) = - ──(M(u, v))⋅──(U(u, v)) + ────────────── + ──────────────\n",
       "  2              ∂v          ∂v                  2                2       \n",
       "∂v                                                                        "
      ]
     },
     "execution_count": 36,
     "metadata": {},
     "output_type": "execute_result"
    }
   ],
   "source": [
    "equation17a = Eq(diff(U,v,v),solve( einsteinSimplified[1,1] , diff(U,v,v) )[0] ) \n",
    "equation17a"
   ]
  },
  {
   "cell_type": "code",
   "execution_count": 37,
   "id": "a82da1f1",
   "metadata": {},
   "outputs": [
    {
     "data": {
      "image/png": "[encoded data removed]",
      "text/latex": [
       "$\\displaystyle \\frac{\\partial^{2}}{\\partial u^{2}} U{\\left(u,v \\right)} = - \\frac{\\partial}{\\partial u} M{\\left(u,v \\right)} \\frac{\\partial}{\\partial u} U{\\left(u,v \\right)} + \\frac{\\left(\\frac{\\partial}{\\partial u} U{\\left(u,v \\right)}\\right)^{2}}{2} + \\frac{\\left(\\frac{\\partial}{\\partial u} V{\\left(u,v \\right)}\\right)^{2}}{2}$"
      ],
      "text/plain": [
       "                                                        2                2\n",
       "                                           ⎛∂          ⎞    ⎛∂          ⎞ \n",
       "  2                                        ⎜──(U(u, v))⎟    ⎜──(V(u, v))⎟ \n",
       " ∂               ∂           ∂             ⎝∂u         ⎠    ⎝∂u         ⎠ \n",
       "───(U(u, v)) = - ──(M(u, v))⋅──(U(u, v)) + ────────────── + ──────────────\n",
       "  2              ∂u          ∂u                  2                2       \n",
       "∂u                                                                        "
      ]
     },
     "execution_count": 37,
     "metadata": {},
     "output_type": "execute_result"
    }
   ],
   "source": [
    "equation17b = Eq( diff(U,u,u)  , solve( einsteinSimplified[0,0] , diff(U,u,u) )[0] )\n",
    "equation17b"
   ]
  },
  {
   "cell_type": "code",
   "execution_count": 61,
   "id": "04776a4b",
   "metadata": {},
   "outputs": [
    {
     "data": {
      "text/latex": [
       "$\\displaystyle \\left[\\begin{matrix}\\frac{\\partial^{2}}{\\partial v\\partial u} U{\\left(u,v \\right)} = \\frac{\\partial}{\\partial u} U{\\left(u,v \\right)} \\frac{\\partial}{\\partial v} U{\\left(u,v \\right)}\\\\2 \\frac{\\partial^{2}}{\\partial v\\partial u} V{\\left(u,v \\right)} = \\frac{\\partial}{\\partial u} U{\\left(u,v \\right)} \\frac{\\partial}{\\partial v} V{\\left(u,v \\right)} + \\frac{\\partial}{\\partial v} U{\\left(u,v \\right)} \\frac{\\partial}{\\partial u} V{\\left(u,v \\right)}\\\\2 \\frac{\\partial^{2}}{\\partial v\\partial u} M{\\left(u,v \\right)} = - 1.0 \\frac{\\partial}{\\partial u} U{\\left(u,v \\right)} \\frac{\\partial}{\\partial v} U{\\left(u,v \\right)} + \\frac{\\partial}{\\partial u} V{\\left(u,v \\right)} \\frac{\\partial}{\\partial v} V{\\left(u,v \\right)}\\\\\\frac{\\partial^{2}}{\\partial v^{2}} U{\\left(u,v \\right)} = - \\frac{\\partial}{\\partial v} M{\\left(u,v \\right)} \\frac{\\partial}{\\partial v} U{\\left(u,v \\right)} + \\frac{\\left(\\frac{\\partial}{\\partial v} U{\\left(u,v \\right)}\\right)^{2}}{2} + \\frac{\\left(\\frac{\\partial}{\\partial v} V{\\left(u,v \\right)}\\right)^{2}}{2}\\\\\\frac{\\partial^{2}}{\\partial u^{2}} U{\\left(u,v \\right)} = - \\frac{\\partial}{\\partial u} M{\\left(u,v \\right)} \\frac{\\partial}{\\partial u} U{\\left(u,v \\right)} + \\frac{\\left(\\frac{\\partial}{\\partial u} U{\\left(u,v \\right)}\\right)^{2}}{2} + \\frac{\\left(\\frac{\\partial}{\\partial u} V{\\left(u,v \\right)}\\right)^{2}}{2}\\end{matrix}\\right]$"
      ],
      "text/plain": [
       "⎡                    2                                                     ⎤\n",
       "⎢                   ∂              ∂           ∂                           ⎥\n",
       "⎢                 ─────(U(u, v)) = ──(U(u, v))⋅──(U(u, v))                 ⎥\n",
       "⎢                 ∂v ∂u            ∂u          ∂v                          ⎥\n",
       "⎢                                                                          ⎥\n",
       "⎢        2                                                                 ⎥\n",
       "⎢       ∂              ∂           ∂             ∂           ∂             ⎥\n",
       "⎢   2⋅─────(V(u, v)) = ──(U(u, v))⋅──(V(u, v)) + ──(U(u, v))⋅──(V(u, v))   ⎥\n",
       "⎢     ∂v ∂u            ∂u          ∂v            ∂v          ∂u            ⎥\n",
       "⎢                                                                          ⎥\n",
       "⎢       2                                                                  ⎥\n",
       "⎢      ∂                ∂           ∂             ∂           ∂            ⎥\n",
       "⎢  2⋅─────(M(u, v)) = - ──(U(u, v))⋅──(U(u, v)) + ──(V(u, v))⋅──(V(u, v))  ⎥\n",
       "⎢    ∂v ∂u              ∂u          ∂v            ∂u          ∂v           ⎥\n",
       "⎢                                                                          ⎥\n",
       "⎢                                                        2                2⎥\n",
       "⎢                                           ⎛∂          ⎞    ⎛∂          ⎞ ⎥\n",
       "⎢  2                                        ⎜──(U(u, v))⎟    ⎜──(V(u, v))⎟ ⎥\n",
       "⎢ ∂               ∂           ∂             ⎝∂v         ⎠    ⎝∂v         ⎠ ⎥\n",
       "⎢───(U(u, v)) = - ──(M(u, v))⋅──(U(u, v)) + ────────────── + ──────────────⎥\n",
       "⎢  2              ∂v          ∂v                  2                2       ⎥\n",
       "⎢∂v                                                                        ⎥\n",
       "⎢                                                                          ⎥\n",
       "⎢                                                        2                2⎥\n",
       "⎢                                           ⎛∂          ⎞    ⎛∂          ⎞ ⎥\n",
       "⎢  2                                        ⎜──(U(u, v))⎟    ⎜──(V(u, v))⎟ ⎥\n",
       "⎢ ∂               ∂           ∂             ⎝∂u         ⎠    ⎝∂u         ⎠ ⎥\n",
       "⎢───(U(u, v)) = - ──(M(u, v))⋅──(U(u, v)) + ────────────── + ──────────────⎥\n",
       "⎢  2              ∂u          ∂u                  2                2       ⎥\n",
       "⎣∂u                                                                        ⎦"
      ]
     },
     "execution_count": 61,
     "metadata": {},
     "output_type": "execute_result"
    }
   ],
   "source": [
    "vacuumFieldEquations = Matrix([equation16a,equation16b,equation16c,equation17a,equation17b])\n",
    "vacuumFieldEquations"
   ]
  },
  {
   "cell_type": "code",
   "execution_count": null,
   "id": "11df4e0c",
   "metadata": {},
   "outputs": [],
   "source": []
  }
 ],
 "metadata": {
  "@webio": {
   "lastCommId": "0f3c53ff75c74b058ac2d781a13d05c9",
   "lastKernelId": "a2da054b-f61c-433d-8b6e-958a7454e734"
  },
  "kernelspec": {
   "display_name": "Python 3 (ipykernel)",
   "language": "python",
   "name": "python3"
  },
  "language_info": {
   "codemirror_mode": {
    "name": "ipython",
    "version": 3
   },
   "file_extension": ".py",
   "mimetype": "text/x-python",
   "name": "python",
   "nbconvert_exporter": "python",
   "pygments_lexer": "ipython3",
   "version": "3.8.8"
  }
 },
 "nbformat": 4,
 "nbformat_minor": 5
}
