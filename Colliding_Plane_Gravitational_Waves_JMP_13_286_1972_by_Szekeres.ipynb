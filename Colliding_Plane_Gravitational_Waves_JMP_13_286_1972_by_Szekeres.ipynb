{
 "cells": [
  {
   "cell_type": "markdown",
   "id": "7d834137",
   "metadata": {},
   "source": [
    "# Colliding Plane Gravitational Waves JMP 13 286 (1972) by Szekeres\n",
    "##  Geoff Cope\n",
    "##  Univeristy of Utah\n",
    "##  December 22, 2021"
   ]
  },
  {
   "cell_type": "markdown",
   "id": "537a3ca9",
   "metadata": {},
   "source": [
    "PLEASE NOTE!!!! FOR WHATEVER REASON THIS METRIC WILL NOT CALCULATE WHEN U,V,M ARE FUNCTIONS OF TWO VARIABLES(u,v).  SEE NOTEBOOK EhlersKundtRosen and Colliding electromagnetic shock waves in general relativity by Halilsoy.  FIND OUT WHY"
   ]
  },
  {
   "cell_type": "markdown",
   "id": "79d335dc",
   "metadata": {},
   "source": [
    "https://aip.scitation.org/doi/abs/10.1063/1.1665972"
   ]
  },
  {
   "cell_type": "code",
   "execution_count": 1,
   "id": "b0f296fe",
   "metadata": {},
   "outputs": [
    {
     "name": "stdout",
     "output_type": "stream",
     "text": [
      "IPython console for SymPy 1.9 (Python 3.8.8-64-bit) (ground types: gmpy)\n",
      "\n",
      "These commands were executed:\n",
      ">>> from __future__ import division\n",
      ">>> from sympy import *\n",
      ">>> x, y, z, t = symbols('x y z t')\n",
      ">>> k, m, n = symbols('k m n', integer=True)\n",
      ">>> f, g, h = symbols('f g h', cls=Function)\n",
      ">>> init_printing()\n",
      "\n",
      "Documentation can be found at https://docs.sympy.org/1.9/\n",
      "\n"
     ]
    }
   ],
   "source": [
    "from sympy import init_session\n",
    "init_session(use_latex=True)"
   ]
  },
  {
   "cell_type": "code",
   "execution_count": 2,
   "id": "a92ff3c6",
   "metadata": {},
   "outputs": [],
   "source": [
    "import warnings\n",
    "import matplotlib.cbook\n",
    "warnings.filterwarnings(\"ignore\",category=matplotlib.cbook.mplDeprecation)"
   ]
  },
  {
   "cell_type": "code",
   "execution_count": 3,
   "id": "439ccd8a",
   "metadata": {},
   "outputs": [],
   "source": [
    "u,v,x,y,du,dv,dx,dy,M,U,V,W = symbols( 'u v x y du dv dx dy M U V W' ) "
   ]
  },
  {
   "cell_type": "code",
   "execution_count": 4,
   "id": "181820cf",
   "metadata": {},
   "outputs": [
    {
     "data": {
      "image/png": "[encoded data removed]",
      "text/latex": [
       "$\\displaystyle L{\\left(u \\right)}$"
      ],
      "text/plain": [
       "L(u)"
      ]
     },
     "execution_count": 4,
     "metadata": {},
     "output_type": "execute_result"
    }
   ],
   "source": [
    "L = Function('L')(u)\n",
    "L"
   ]
  },
  {
   "cell_type": "code",
   "execution_count": 5,
   "id": "e2463507",
   "metadata": {},
   "outputs": [
    {
     "data": {
      "image/png": "[encoded data removed]",
      "text/latex": [
       "$\\displaystyle U{\\left(u \\right)}$"
      ],
      "text/plain": [
       "U(u)"
      ]
     },
     "execution_count": 5,
     "metadata": {},
     "output_type": "execute_result"
    }
   ],
   "source": [
    "U = Function('U')(u)\n",
    "U"
   ]
  },
  {
   "cell_type": "code",
   "execution_count": 6,
   "id": "13b67c8c",
   "metadata": {},
   "outputs": [
    {
     "data": {
      "image/png": "[encoded data removed]",
      "text/latex": [
       "$\\displaystyle V{\\left(u \\right)}$"
      ],
      "text/plain": [
       "V(u)"
      ]
     },
     "execution_count": 6,
     "metadata": {},
     "output_type": "execute_result"
    }
   ],
   "source": [
    "V = Function('V')(u)\n",
    "V"
   ]
  },
  {
   "cell_type": "code",
   "execution_count": 7,
   "id": "0a598c08",
   "metadata": {},
   "outputs": [
    {
     "data": {
      "image/png": "[encoded data removed]",
      "text/latex": [
       "$\\displaystyle W{\\left(u \\right)}$"
      ],
      "text/plain": [
       "W(u)"
      ]
     },
     "execution_count": 7,
     "metadata": {},
     "output_type": "execute_result"
    }
   ],
   "source": [
    "W = Function('W')(u)\n",
    "W"
   ]
  },
  {
   "cell_type": "code",
   "execution_count": 8,
   "id": "daedca78",
   "metadata": {},
   "outputs": [
    {
     "data": {
      "text/latex": [
       "$\\displaystyle \\left[\\begin{matrix}u\\\\v\\\\x\\\\y\\end{matrix}\\right]$"
      ],
      "text/plain": [
       "⎡u⎤\n",
       "⎢ ⎥\n",
       "⎢v⎥\n",
       "⎢ ⎥\n",
       "⎢x⎥\n",
       "⎢ ⎥\n",
       "⎣y⎦"
      ]
     },
     "execution_count": 8,
     "metadata": {},
     "output_type": "execute_result"
    }
   ],
   "source": [
    "variables = Matrix( [u,v,x,y] )\n",
    "variables"
   ]
  },
  {
   "cell_type": "code",
   "execution_count": 9,
   "id": "9df1923b",
   "metadata": {},
   "outputs": [
    {
     "data": {
      "text/latex": [
       "$\\displaystyle \\left[\\begin{matrix}du\\\\dv\\\\dx\\\\dy\\end{matrix}\\right]$"
      ],
      "text/plain": [
       "⎡du⎤\n",
       "⎢  ⎥\n",
       "⎢dv⎥\n",
       "⎢  ⎥\n",
       "⎢dx⎥\n",
       "⎢  ⎥\n",
       "⎣dy⎦"
      ]
     },
     "execution_count": 9,
     "metadata": {},
     "output_type": "execute_result"
    }
   ],
   "source": [
    "differentials = Matrix( [du,dv,dx,dy] ) \n",
    "differentials"
   ]
  },
  {
   "cell_type": "code",
   "execution_count": 10,
   "id": "b456512a",
   "metadata": {},
   "outputs": [
    {
     "data": {
      "image/png": "[encoded data removed]",
      "text/latex": [
       "$\\displaystyle 2 du dv e^{- L{\\left(u \\right)}} - dx^{2} e^{- U{\\left(u \\right)}} e^{V{\\left(u \\right)}} \\cosh{\\left(W{\\left(u \\right)} \\right)} + 2 dx dy e^{- U{\\left(u \\right)}} \\sinh{\\left(W{\\left(u \\right)} \\right)} - dy^{2} e^{- U{\\left(u \\right)}} e^{- V{\\left(u \\right)}} \\cosh{\\left(W{\\left(u \\right)} \\right)}$"
      ],
      "text/plain": [
       "         -L(u)     2  -U(u)  V(u)                       -U(u)                2  -U(u)  -V(u)           \n",
       "2⋅du⋅dv⋅ℯ      - dx ⋅ℯ     ⋅ℯ    ⋅cosh(W(u)) + 2⋅dx⋅dy⋅ℯ     ⋅sinh(W(u)) - dy ⋅ℯ     ⋅ℯ     ⋅cosh(W(u))"
      ]
     },
     "execution_count": 10,
     "metadata": {},
     "output_type": "execute_result"
    }
   ],
   "source": [
    "lineElement = expand(2*exp(-L)*du*dv - exp(-U) * ( exp(V)*cosh(W)*dx**2 - 2*sinh(W)*dx*dy + exp(-V)*cosh(W)*dy**2 ))\n",
    "lineElement"
   ]
  },
  {
   "cell_type": "code",
   "execution_count": 11,
   "id": "320c0a44",
   "metadata": {},
   "outputs": [
    {
     "data": {
      "text/latex": [
       "$\\displaystyle \\left[\\begin{matrix}0 & e^{- L{\\left(u \\right)}} & 0 & 0\\\\e^{- L{\\left(u \\right)}} & 0 & 0 & 0\\\\0 & 0 & - e^{- U{\\left(u \\right)}} e^{V{\\left(u \\right)}} \\cosh{\\left(W{\\left(u \\right)} \\right)} & e^{- U{\\left(u \\right)}} \\sinh{\\left(W{\\left(u \\right)} \\right)}\\\\0 & 0 & e^{- U{\\left(u \\right)}} \\sinh{\\left(W{\\left(u \\right)} \\right)} & - e^{- U{\\left(u \\right)}} e^{- V{\\left(u \\right)}} \\cosh{\\left(W{\\left(u \\right)} \\right)}\\end{matrix}\\right]$"
      ],
      "text/plain": [
       "⎡         -L(u)                                                     ⎤\n",
       "⎢  0     ℯ                  0                          0            ⎥\n",
       "⎢                                                                   ⎥\n",
       "⎢ -L(u)                                                             ⎥\n",
       "⎢ℯ         0                0                          0            ⎥\n",
       "⎢                                                                   ⎥\n",
       "⎢                  -U(u)  V(u)                  -U(u)               ⎥\n",
       "⎢  0       0     -ℯ     ⋅ℯ    ⋅cosh(W(u))      ℯ     ⋅sinh(W(u))    ⎥\n",
       "⎢                                                                   ⎥\n",
       "⎢                    -U(u)                   -U(u)  -V(u)           ⎥\n",
       "⎣  0       0        ℯ     ⋅sinh(W(u))      -ℯ     ⋅ℯ     ⋅cosh(W(u))⎦"
      ]
     },
     "execution_count": 11,
     "metadata": {},
     "output_type": "execute_result"
    }
   ],
   "source": [
    "g = zeros(4)\n",
    "\n",
    "for i in range(4):\n",
    "    for j in range(4):\n",
    "        if i == j:\n",
    "            g[i,j] = lineElement.coeff( differentials[i],2 ) \n",
    "        else:\n",
    "            g[i,j] = Rational(1,2)*lineElement.coeff( differentials[i]*differentials[j],1 )\n",
    "            \n",
    "g"
   ]
  },
  {
   "cell_type": "code",
   "execution_count": 12,
   "id": "9af2bcf1",
   "metadata": {},
   "outputs": [],
   "source": [
    "import sympy"
   ]
  },
  {
   "cell_type": "code",
   "execution_count": 13,
   "id": "2335f030",
   "metadata": {},
   "outputs": [
    {
     "data": {
      "text/latex": [
       "$\\displaystyle \\left[\\begin{matrix}0 & e^{- L{\\left(u \\right)}} & 0 & 0\\\\e^{- L{\\left(u \\right)}} & 0 & 0 & 0\\\\0 & 0 & - e^{- U{\\left(u \\right)}} e^{V{\\left(u \\right)}} \\cosh{\\left(W{\\left(u \\right)} \\right)} & e^{- U{\\left(u \\right)}} \\sinh{\\left(W{\\left(u \\right)} \\right)}\\\\0 & 0 & e^{- U{\\left(u \\right)}} \\sinh{\\left(W{\\left(u \\right)} \\right)} & - e^{- U{\\left(u \\right)}} e^{- V{\\left(u \\right)}} \\cosh{\\left(W{\\left(u \\right)} \\right)}\\end{matrix}\\right]$"
      ],
      "text/plain": [
       "⎡         -L(u)                                                     ⎤\n",
       "⎢  0     ℯ                  0                          0            ⎥\n",
       "⎢                                                                   ⎥\n",
       "⎢ -L(u)                                                             ⎥\n",
       "⎢ℯ         0                0                          0            ⎥\n",
       "⎢                                                                   ⎥\n",
       "⎢                  -U(u)  V(u)                  -U(u)               ⎥\n",
       "⎢  0       0     -ℯ     ⋅ℯ    ⋅cosh(W(u))      ℯ     ⋅sinh(W(u))    ⎥\n",
       "⎢                                                                   ⎥\n",
       "⎢                    -U(u)                   -U(u)  -V(u)           ⎥\n",
       "⎣  0       0        ℯ     ⋅sinh(W(u))      -ℯ     ⋅ℯ     ⋅cosh(W(u))⎦"
      ]
     },
     "execution_count": 13,
     "metadata": {},
     "output_type": "execute_result"
    }
   ],
   "source": [
    "m = sympy.Array(g)\n",
    "m"
   ]
  },
  {
   "cell_type": "code",
   "execution_count": 20,
   "id": "ab847944",
   "metadata": {},
   "outputs": [],
   "source": [
    "from einsteinpy.symbolic import *"
   ]
  },
  {
   "cell_type": "code",
   "execution_count": 21,
   "id": "db98204e",
   "metadata": {},
   "outputs": [],
   "source": [
    "syms = sympy.symbols(\"u v x y\")\n",
    "u,v,x,y = syms"
   ]
  },
  {
   "cell_type": "code",
   "execution_count": 22,
   "id": "8f0e83c4",
   "metadata": {},
   "outputs": [],
   "source": [
    "metric = MetricTensor(m,syms)"
   ]
  },
  {
   "cell_type": "code",
   "execution_count": 23,
   "id": "35a19fbb",
   "metadata": {},
   "outputs": [
    {
     "data": {
      "text/latex": [
       "$\\displaystyle \\left[\\begin{matrix}\\left[\\begin{matrix}- \\frac{d}{d u} L{\\left(u \\right)} & 0 & 0 & 0\\\\0 & 0 & 0 & 0\\\\0 & 0 & 0 & 0\\\\0 & 0 & 0 & 0\\end{matrix}\\right] & \\left[\\begin{matrix}0 & 0 & 0 & 0\\\\0 & 0 & 0 & 0\\\\0 & 0 & \\frac{\\left(\\sinh{\\left(W{\\left(u \\right)} \\right)} \\frac{d}{d u} W{\\left(u \\right)} - \\cosh{\\left(W{\\left(u \\right)} \\right)} \\frac{d}{d u} U{\\left(u \\right)} + \\cosh{\\left(W{\\left(u \\right)} \\right)} \\frac{d}{d u} V{\\left(u \\right)}\\right) e^{L{\\left(u \\right)} - U{\\left(u \\right)} + V{\\left(u \\right)}}}{2} & \\frac{\\left(\\sinh{\\left(W{\\left(u \\right)} \\right)} \\frac{d}{d u} U{\\left(u \\right)} - \\cosh{\\left(W{\\left(u \\right)} \\right)} \\frac{d}{d u} W{\\left(u \\right)}\\right) e^{L{\\left(u \\right)} - U{\\left(u \\right)}}}{2}\\\\0 & 0 & \\frac{\\left(\\sinh{\\left(W{\\left(u \\right)} \\right)} \\frac{d}{d u} U{\\left(u \\right)} - \\cosh{\\left(W{\\left(u \\right)} \\right)} \\frac{d}{d u} W{\\left(u \\right)}\\right) e^{L{\\left(u \\right)} - U{\\left(u \\right)}}}{2} & - \\frac{\\left(- \\sinh{\\left(W{\\left(u \\right)} \\right)} \\frac{d}{d u} W{\\left(u \\right)} + \\cosh{\\left(W{\\left(u \\right)} \\right)} \\frac{d}{d u} U{\\left(u \\right)} + \\cosh{\\left(W{\\left(u \\right)} \\right)} \\frac{d}{d u} V{\\left(u \\right)}\\right) e^{L{\\left(u \\right)} - U{\\left(u \\right)} - V{\\left(u \\right)}}}{2}\\end{matrix}\\right] & \\left[\\begin{matrix}0 & 0 & \\frac{\\cosh^{2}{\\left(W{\\left(u \\right)} \\right)} \\frac{d}{d u} V{\\left(u \\right)}}{2} - \\frac{\\frac{d}{d u} U{\\left(u \\right)}}{2} & - \\frac{\\left(\\frac{\\sinh{\\left(2 W{\\left(u \\right)} \\right)} \\frac{d}{d u} V{\\left(u \\right)}}{2} + \\frac{d}{d u} W{\\left(u \\right)}\\right) e^{- V{\\left(u \\right)}}}{2}\\\\0 & 0 & 0 & 0\\\\\\frac{\\cosh^{2}{\\left(W{\\left(u \\right)} \\right)} \\frac{d}{d u} V{\\left(u \\right)}}{2} - \\frac{\\frac{d}{d u} U{\\left(u \\right)}}{2} & 0 & 0 & 0\\\\- \\frac{\\left(\\frac{\\sinh{\\left(2 W{\\left(u \\right)} \\right)} \\frac{d}{d u} V{\\left(u \\right)}}{2} + \\frac{d}{d u} W{\\left(u \\right)}\\right) e^{- V{\\left(u \\right)}}}{2} & 0 & 0 & 0\\end{matrix}\\right] & \\left[\\begin{matrix}0 & 0 & \\frac{\\left(\\frac{\\sinh{\\left(2 W{\\left(u \\right)} \\right)} \\frac{d}{d u} V{\\left(u \\right)}}{2} - \\frac{d}{d u} W{\\left(u \\right)}\\right) e^{V{\\left(u \\right)}}}{2} & - \\frac{\\cosh^{2}{\\left(W{\\left(u \\right)} \\right)} \\frac{d}{d u} V{\\left(u \\right)}}{2} - \\frac{\\frac{d}{d u} U{\\left(u \\right)}}{2}\\\\0 & 0 & 0 & 0\\\\\\frac{\\left(\\frac{\\sinh{\\left(2 W{\\left(u \\right)} \\right)} \\frac{d}{d u} V{\\left(u \\right)}}{2} - \\frac{d}{d u} W{\\left(u \\right)}\\right) e^{V{\\left(u \\right)}}}{2} & 0 & 0 & 0\\\\- \\frac{\\cosh^{2}{\\left(W{\\left(u \\right)} \\right)} \\frac{d}{d u} V{\\left(u \\right)}}{2} - \\frac{\\frac{d}{d u} U{\\left(u \\right)}}{2} & 0 & 0 & 0\\end{matrix}\\right]\\end{matrix}\\right]$"
      ],
      "text/plain": [
       "⎡                                                                                                                          \n",
       "⎢                                                                                                                          \n",
       "⎢                                                                                                                          \n",
       "⎢                                                                                                                          \n",
       "⎢                      ⎡0  0                                            0                                                  \n",
       "⎢                      ⎢                                                                                                   \n",
       "⎢                      ⎢0  0                                            0                                                  \n",
       "⎢⎡ d                ⎤  ⎢                                                                                                   \n",
       "⎢⎢-──(L(u))  0  0  0⎥  ⎢      ⎛           d                     d                     d       ⎞  L(u) - U(u) + V(u)        \n",
       "⎢⎢ du               ⎥  ⎢      ⎜sinh(W(u))⋅──(W(u)) - cosh(W(u))⋅──(U(u)) + cosh(W(u))⋅──(V(u))⎟⋅ℯ                          \n",
       "⎢⎢                  ⎥  ⎢      ⎝           du                    du                    du      ⎠                            \n",
       "⎢⎢    0      0  0  0⎥  ⎢0  0  ─────────────────────────────────────────────────────────────────────────────────────        \n",
       "⎢⎢                  ⎥  ⎢                                                2                                                  \n",
       "⎢⎢    0      0  0  0⎥  ⎢                                                                                                   \n",
       "⎢⎢                  ⎥  ⎢                    ⎛           d                     d       ⎞  L(u) - U(u)                  ⎛    \n",
       "⎢⎣    0      0  0  0⎦  ⎢                    ⎜sinh(W(u))⋅──(U(u)) - cosh(W(u))⋅──(W(u))⎟⋅ℯ                            -⎜- si\n",
       "⎢                      ⎢                    ⎝           du                    du      ⎠                               ⎝    \n",
       "⎢                      ⎢0  0                ────────────────────────────────────────────────────────                 ──────\n",
       "⎢                      ⎣                                               2                                                   \n",
       "⎢                                                                                                                          \n",
       "⎢                                                                                                                          \n",
       "⎢                                                                                                                          \n",
       "⎣                                                                                                                          \n",
       "\n",
       "                                                                                      ⎡                                    \n",
       "                                                                                      ⎢                                    \n",
       "                                                                                      ⎢                                    \n",
       "                                                                                      ⎢                                    \n",
       "                                      0                                            ⎤  ⎢                                    \n",
       "                                                                                   ⎥  ⎢                     0              \n",
       "                                      0                                            ⎥  ⎢                                    \n",
       "                                                                                   ⎥  ⎢                                    \n",
       "          ⎛           d                     d       ⎞  L(u) - U(u)                 ⎥  ⎢                     0              \n",
       "          ⎜sinh(W(u))⋅──(U(u)) - cosh(W(u))⋅──(W(u))⎟⋅ℯ                            ⎥  ⎢                                    \n",
       "          ⎝           du                    du      ⎠                              ⎥  ⎢          2       d          d      \n",
       "          ────────────────────────────────────────────────────────                 ⎥  ⎢      cosh (W(u))⋅──(V(u))   ──(U(u)\n",
       "                                     2                                             ⎥  ⎢                  du         du     \n",
       "                                                                                   ⎥  ⎢      ──────────────────── - ───────\n",
       "         d                     d                     d       ⎞  L(u) - U(u) - V(u) ⎥  ⎢               2                2   \n",
       "nh(W(u))⋅──(W(u)) + cosh(W(u))⋅──(U(u)) + cosh(W(u))⋅──(V(u))⎟⋅ℯ                   ⎥  ⎢                                    \n",
       "         du                    du                    du      ⎠                     ⎥  ⎢ ⎛             d                  ⎞ \n",
       "───────────────────────────────────────────────────────────────────────────────────⎥  ⎢ ⎜sinh(2⋅W(u))⋅──(V(u))           ⎟ \n",
       "                                      2                                            ⎦  ⎢ ⎜             du         d       ⎟ \n",
       "                                                                                      ⎢-⎜───────────────────── + ──(W(u))⎟⋅\n",
       "                                                                                      ⎢ ⎝          2             du      ⎠ \n",
       "                                                                                      ⎢────────────────────────────────────\n",
       "                                                                                      ⎣                     2              \n",
       "\n",
       "                                              ⎛             d                  ⎞        ⎤  ⎡                               \n",
       "                                              ⎜sinh(2⋅W(u))⋅──(V(u))           ⎟        ⎥  ⎢                               \n",
       "                2       d          d          ⎜             du         d       ⎟  -V(u) ⎥  ⎢                               \n",
       "            cosh (W(u))⋅──(V(u))   ──(U(u))  -⎜───────────────────── + ──(W(u))⎟⋅ℯ      ⎥  ⎢                               \n",
       "                        du         du         ⎝          2             du      ⎠        ⎥  ⎢                               \n",
       "         0  ──────────────────── - ────────  ───────────────────────────────────────────⎥  ⎢                   0           \n",
       "                     2                2                           2                     ⎥  ⎢                               \n",
       "                                                                                        ⎥  ⎢                               \n",
       "         0                 0                                      0                     ⎥  ⎢                   0           \n",
       "                                                                                        ⎥  ⎢                               \n",
       "                                                                                        ⎥  ⎢⎛             d                \n",
       ")                                                                                       ⎥  ⎢⎜sinh(2⋅W(u))⋅──(V(u))         \n",
       "                                                                                        ⎥  ⎢⎜             du         d     \n",
       "─        0                 0                                      0                     ⎥  ⎢⎜───────────────────── - ──(W(u\n",
       "                                                                                        ⎥  ⎢⎝          2             du    \n",
       "                                                                                        ⎥  ⎢───────────────────────────────\n",
       "                                                                                        ⎥  ⎢                   2           \n",
       "                                                                                        ⎥  ⎢                               \n",
       " -V(u)                                                                                  ⎥  ⎢         2       d          d  \n",
       "ℯ                                                                                       ⎥  ⎢     cosh (W(u))⋅──(V(u))   ──(\n",
       "                                                                                        ⎥  ⎢                 du         du \n",
       "───────  0                 0                                      0                     ⎥  ⎢   - ──────────────────── - ───\n",
       "                                                                                        ⎦  ⎣              2                \n",
       "\n",
       "              ⎛             d                  ⎞                                         ⎤⎤\n",
       "              ⎜sinh(2⋅W(u))⋅──(V(u))           ⎟                                         ⎥⎥\n",
       "              ⎜             du         d       ⎟  V(u)        2       d          d       ⎥⎥\n",
       "              ⎜───────────────────── - ──(W(u))⎟⋅ℯ        cosh (W(u))⋅──(V(u))   ──(U(u))⎥⎥\n",
       "              ⎝          2             du      ⎠                      du         du      ⎥⎥\n",
       "           0  ────────────────────────────────────────  - ──────────────────── - ────────⎥⎥\n",
       "                                 2                                 2                2    ⎥⎥\n",
       "                                                                                         ⎥⎥\n",
       "           0                     0                                      0                ⎥⎥\n",
       "                                                                                         ⎥⎥\n",
       "  ⎞                                                                                      ⎥⎥\n",
       "  ⎟                                                                                      ⎥⎥\n",
       "  ⎟  V(u)                                                                                ⎥⎥\n",
       "))⎟⋅ℯ                                                                                    ⎥⎥\n",
       "  ⎠                                                                                      ⎥⎥\n",
       "─────────  0                     0                                      0                ⎥⎥\n",
       "                                                                                         ⎥⎥\n",
       "                                                                                         ⎥⎥\n",
       "                                                                                         ⎥⎥\n",
       "U(u))                                                                                    ⎥⎥\n",
       "                                                                                         ⎥⎥\n",
       "─────      0                     0                                      0                ⎥⎥\n",
       "2                                                                                        ⎦⎦"
      ]
     },
     "execution_count": 23,
     "metadata": {},
     "output_type": "execute_result"
    }
   ],
   "source": [
    "ch = ChristoffelSymbols.from_metric(metric)\n",
    "simplify(ch.tensor())"
   ]
  },
  {
   "cell_type": "code",
   "execution_count": null,
   "id": "094b4477",
   "metadata": {},
   "outputs": [],
   "source": [
    "Ric = RicciTensor.from_metric(metric)\n",
    "Ric.tensor()"
   ]
  },
  {
   "cell_type": "code",
   "execution_count": 19,
   "id": "408a33bb",
   "metadata": {},
   "outputs": [],
   "source": [
    "# einst = EinsteinTensor.from_metric(metric)\n",
    "# einst.tensor()"
   ]
  },
  {
   "cell_type": "code",
   "execution_count": null,
   "id": "a663c110",
   "metadata": {},
   "outputs": [],
   "source": [
    "# R = RicciScalar.from_riccitensor(Ric)\n",
    "# R.simplify()\n",
    "# R.expr"
   ]
  },
  {
   "cell_type": "code",
   "execution_count": null,
   "id": "4dd7d1f0",
   "metadata": {},
   "outputs": [],
   "source": [
    "# rm1 = RiemannCurvatureTensor.from_christoffels(ch)\n",
    "# rm1.tensor()"
   ]
  },
  {
   "cell_type": "code",
   "execution_count": null,
   "id": "78d4f5a5",
   "metadata": {},
   "outputs": [],
   "source": [
    "# weyl = WeylTensor.from_metric(metric)\n",
    "# weyl.tensor()"
   ]
  }
 ],
 "metadata": {
  "@webio": {
   "lastCommId": "f3ac25c0581548dab32d408a013e26d2",
   "lastKernelId": "4652a81f-caad-490b-9283-ebaf5ea7270c"
  },
  "kernelspec": {
   "display_name": "Python 3 (ipykernel)",
   "language": "python",
   "name": "python3"
  },
  "language_info": {
   "codemirror_mode": {
    "name": "ipython",
    "version": 3
   },
   "file_extension": ".py",
   "mimetype": "text/x-python",
   "name": "python",
   "nbconvert_exporter": "python",
   "pygments_lexer": "ipython3",
   "version": "3.8.8"
  }
 },
 "nbformat": 4,
 "nbformat_minor": 5
}
