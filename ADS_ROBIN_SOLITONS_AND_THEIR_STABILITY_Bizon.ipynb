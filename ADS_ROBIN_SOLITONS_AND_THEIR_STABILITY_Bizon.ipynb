{
 "cells": [
  {
   "cell_type": "markdown",
   "id": "e9c2329c",
   "metadata": {},
   "source": [
    "# ADS ROBIN SOLITONS AND THEIR STABILITY by Bizon et al\n",
    "##  Geoff Cope\n",
    "##  Univeristy of Utah\n",
    "##  January 3, 2022"
   ]
  },
  {
   "cell_type": "markdown",
   "id": "1351291f",
   "metadata": {},
   "source": [
    "Will come back and finish this later.  Auxillary variables are introduced and field equations written in terms of the.  Not yet done here"
   ]
  },
  {
   "cell_type": "markdown",
   "id": "cf0448bc",
   "metadata": {},
   "source": [
    "https://arxiv.org/abs/2001.03980"
   ]
  },
  {
   "cell_type": "code",
   "execution_count": 1,
   "id": "828620db",
   "metadata": {},
   "outputs": [
    {
     "name": "stdout",
     "output_type": "stream",
     "text": [
      "IPython console for SymPy 1.9 (Python 3.8.8-64-bit) (ground types: gmpy)\n",
      "\n",
      "These commands were executed:\n",
      ">>> from __future__ import division\n",
      ">>> from sympy import *\n",
      ">>> x, y, z, t = symbols('x y z t')\n",
      ">>> k, m, n = symbols('k m n', integer=True)\n",
      ">>> f, g, h = symbols('f g h', cls=Function)\n",
      ">>> init_printing()\n",
      "\n",
      "Documentation can be found at https://docs.sympy.org/1.9/\n",
      "\n"
     ]
    }
   ],
   "source": [
    "from sympy import init_session\n",
    "init_session(use_latex=True)"
   ]
  },
  {
   "cell_type": "code",
   "execution_count": 2,
   "id": "c07ba1bf",
   "metadata": {},
   "outputs": [],
   "source": [
    "import warnings\n",
    "import matplotlib.cbook\n",
    "warnings.filterwarnings(\"ignore\",category=matplotlib.cbook.mplDeprecation)"
   ]
  },
  {
   "cell_type": "code",
   "execution_count": 6,
   "id": "319df4f4",
   "metadata": {},
   "outputs": [],
   "source": [
    "l,t,x,theta,phi,dt,dx,dtheta,dphi = symbols('l t x theta phi dt dx dtheta dphi')"
   ]
  },
  {
   "cell_type": "code",
   "execution_count": 4,
   "id": "4bd30b4b",
   "metadata": {},
   "outputs": [
    {
     "data": {
      "image/png": "[encoded data removed]",
      "text/latex": [
       "$\\displaystyle A{\\left(t,x \\right)}$"
      ],
      "text/plain": [
       "A(t, x)"
      ]
     },
     "execution_count": 4,
     "metadata": {},
     "output_type": "execute_result"
    }
   ],
   "source": [
    "A = Function('A')(t,x)\n",
    "A"
   ]
  },
  {
   "cell_type": "code",
   "execution_count": 5,
   "id": "755cb9a2",
   "metadata": {},
   "outputs": [
    {
     "data": {
      "image/png": "[encoded data removed]",
      "text/latex": [
       "$\\displaystyle \\delta{\\left(t,x \\right)}$"
      ],
      "text/plain": [
       "δ(t, x)"
      ]
     },
     "execution_count": 5,
     "metadata": {},
     "output_type": "execute_result"
    }
   ],
   "source": [
    "delta = Function('delta')(t,x)\n",
    "delta"
   ]
  },
  {
   "cell_type": "code",
   "execution_count": 7,
   "id": "17a72890",
   "metadata": {},
   "outputs": [
    {
     "data": {
      "text/latex": [
       "$\\displaystyle \\left[\\begin{matrix}t\\\\x\\\\\\theta\\\\\\phi\\end{matrix}\\right]$"
      ],
      "text/plain": [
       "⎡t⎤\n",
       "⎢ ⎥\n",
       "⎢x⎥\n",
       "⎢ ⎥\n",
       "⎢θ⎥\n",
       "⎢ ⎥\n",
       "⎣φ⎦"
      ]
     },
     "execution_count": 7,
     "metadata": {},
     "output_type": "execute_result"
    }
   ],
   "source": [
    "variables = Matrix([t,x,theta,phi])\n",
    "variables"
   ]
  },
  {
   "cell_type": "code",
   "execution_count": 8,
   "id": "b5c7a312",
   "metadata": {},
   "outputs": [
    {
     "data": {
      "text/latex": [
       "$\\displaystyle \\left[\\begin{matrix}dt\\\\dx\\\\dtheta\\\\dphi\\end{matrix}\\right]$"
      ],
      "text/plain": [
       "⎡  dt  ⎤\n",
       "⎢      ⎥\n",
       "⎢  dx  ⎥\n",
       "⎢      ⎥\n",
       "⎢dtheta⎥\n",
       "⎢      ⎥\n",
       "⎣ dphi ⎦"
      ]
     },
     "execution_count": 8,
     "metadata": {},
     "output_type": "execute_result"
    }
   ],
   "source": [
    "differentials = Matrix([dt,dx,dtheta,dphi])\n",
    "differentials "
   ]
  },
  {
   "cell_type": "code",
   "execution_count": 11,
   "id": "526dc60e",
   "metadata": {},
   "outputs": [
    {
     "data": {
      "image/png": "[encoded data removed]",
      "text/latex": [
       "$\\displaystyle \\frac{dphi^{2} l^{2} \\sin^{2}{\\left(\\theta \\right)} \\sin^{2}{\\left(x \\right)}}{\\cos^{2}{\\left(x \\right)}} - \\frac{dt^{2} l^{2} A{\\left(t,x \\right)} e^{- 2 \\delta{\\left(t,x \\right)}}}{\\cos^{2}{\\left(x \\right)}} + \\frac{dtheta^{2} l^{2} \\sin^{2}{\\left(x \\right)}}{\\cos^{2}{\\left(x \\right)}} + \\frac{dx^{2} l^{2}}{A{\\left(t,x \\right)} \\cos^{2}{\\left(x \\right)}}$"
      ],
      "text/plain": [
       "    2  2    2       2        2  2          -2⋅δ(t, x)         2  2    2             2  2    \n",
       "dphi ⋅l ⋅sin (θ)⋅sin (x)   dt ⋅l ⋅A(t, x)⋅ℯ             dtheta ⋅l ⋅sin (x)        dx ⋅l     \n",
       "──────────────────────── - ────────────────────────── + ────────────────── + ───────────────\n",
       "           2                           2                        2                       2   \n",
       "        cos (x)                     cos (x)                  cos (x)         A(t, x)⋅cos (x)"
      ]
     },
     "execution_count": 11,
     "metadata": {},
     "output_type": "execute_result"
    }
   ],
   "source": [
    "lineElement = expand((l**2/cos(x)**2) * (-A*exp(-2*delta)*dt**2 + (A**-1 *dx**2) +  sin(x)**2 * (dtheta**2 + sin(theta)**2 * dphi**2)))\n",
    "lineElement"
   ]
  },
  {
   "cell_type": "code",
   "execution_count": 12,
   "id": "8bfde59f",
   "metadata": {},
   "outputs": [
    {
     "data": {
      "text/latex": [
       "$\\displaystyle \\left[\\begin{matrix}- \\frac{l^{2} A{\\left(t,x \\right)} e^{- 2 \\delta{\\left(t,x \\right)}}}{\\cos^{2}{\\left(x \\right)}} & 0 & 0 & 0\\\\0 & \\frac{l^{2}}{A{\\left(t,x \\right)} \\cos^{2}{\\left(x \\right)}} & 0 & 0\\\\0 & 0 & \\frac{l^{2} \\sin^{2}{\\left(x \\right)}}{\\cos^{2}{\\left(x \\right)}} & 0\\\\0 & 0 & 0 & \\frac{l^{2} \\sin^{2}{\\left(\\theta \\right)} \\sin^{2}{\\left(x \\right)}}{\\cos^{2}{\\left(x \\right)}}\\end{matrix}\\right]$"
      ],
      "text/plain": [
       "⎡  2          -2⋅δ(t, x)                                                  ⎤\n",
       "⎢-l ⋅A(t, x)⋅ℯ                                                            ⎥\n",
       "⎢────────────────────────         0             0               0         ⎥\n",
       "⎢           2                                                             ⎥\n",
       "⎢        cos (x)                                                          ⎥\n",
       "⎢                                                                         ⎥\n",
       "⎢                                  2                                      ⎥\n",
       "⎢                                 l                                       ⎥\n",
       "⎢           0              ───────────────      0               0         ⎥\n",
       "⎢                                     2                                   ⎥\n",
       "⎢                          A(t, x)⋅cos (x)                                ⎥\n",
       "⎢                                                                         ⎥\n",
       "⎢                                            2    2                       ⎥\n",
       "⎢                                           l ⋅sin (x)                    ⎥\n",
       "⎢           0                     0         ──────────          0         ⎥\n",
       "⎢                                               2                         ⎥\n",
       "⎢                                            cos (x)                      ⎥\n",
       "⎢                                                                         ⎥\n",
       "⎢                                                        2    2       2   ⎥\n",
       "⎢                                                       l ⋅sin (θ)⋅sin (x)⎥\n",
       "⎢           0                     0             0       ──────────────────⎥\n",
       "⎢                                                               2         ⎥\n",
       "⎣                                                            cos (x)      ⎦"
      ]
     },
     "execution_count": 12,
     "metadata": {},
     "output_type": "execute_result"
    }
   ],
   "source": [
    "g = zeros(4)\n",
    "\n",
    "for i in range(4):\n",
    "    for j in range(4):\n",
    "        if i == j:\n",
    "            g[i,j] = lineElement.coeff( differentials[i],2 ) \n",
    "        else:\n",
    "            g[i,j] = Rational(1,2)*lineElement.coeff( differentials[i]*differentials[j],1 )\n",
    "            \n",
    "g"
   ]
  },
  {
   "cell_type": "code",
   "execution_count": 13,
   "id": "4cae0233",
   "metadata": {},
   "outputs": [],
   "source": [
    "import sympy"
   ]
  },
  {
   "cell_type": "code",
   "execution_count": 14,
   "id": "c70deb8f",
   "metadata": {},
   "outputs": [
    {
     "data": {
      "text/latex": [
       "$\\displaystyle \\left[\\begin{matrix}- \\frac{l^{2} A{\\left(t,x \\right)} e^{- 2 \\delta{\\left(t,x \\right)}}}{\\cos^{2}{\\left(x \\right)}} & 0 & 0 & 0\\\\0 & \\frac{l^{2}}{A{\\left(t,x \\right)} \\cos^{2}{\\left(x \\right)}} & 0 & 0\\\\0 & 0 & \\frac{l^{2} \\sin^{2}{\\left(x \\right)}}{\\cos^{2}{\\left(x \\right)}} & 0\\\\0 & 0 & 0 & \\frac{l^{2} \\sin^{2}{\\left(\\theta \\right)} \\sin^{2}{\\left(x \\right)}}{\\cos^{2}{\\left(x \\right)}}\\end{matrix}\\right]$"
      ],
      "text/plain": [
       "⎡  2          -2⋅δ(t, x)                                                  ⎤\n",
       "⎢-l ⋅A(t, x)⋅ℯ                                                            ⎥\n",
       "⎢────────────────────────         0             0               0         ⎥\n",
       "⎢           2                                                             ⎥\n",
       "⎢        cos (x)                                                          ⎥\n",
       "⎢                                                                         ⎥\n",
       "⎢                                  2                                      ⎥\n",
       "⎢                                 l                                       ⎥\n",
       "⎢           0              ───────────────      0               0         ⎥\n",
       "⎢                                     2                                   ⎥\n",
       "⎢                          A(t, x)⋅cos (x)                                ⎥\n",
       "⎢                                                                         ⎥\n",
       "⎢                                            2    2                       ⎥\n",
       "⎢                                           l ⋅sin (x)                    ⎥\n",
       "⎢           0                     0         ──────────          0         ⎥\n",
       "⎢                                               2                         ⎥\n",
       "⎢                                            cos (x)                      ⎥\n",
       "⎢                                                                         ⎥\n",
       "⎢                                                        2    2       2   ⎥\n",
       "⎢                                                       l ⋅sin (θ)⋅sin (x)⎥\n",
       "⎢           0                     0             0       ──────────────────⎥\n",
       "⎢                                                               2         ⎥\n",
       "⎣                                                            cos (x)      ⎦"
      ]
     },
     "execution_count": 14,
     "metadata": {},
     "output_type": "execute_result"
    }
   ],
   "source": [
    "m = sympy.Array(g)\n",
    "m"
   ]
  },
  {
   "cell_type": "code",
   "execution_count": 15,
   "id": "f4ac890b",
   "metadata": {},
   "outputs": [],
   "source": [
    "from einsteinpy.symbolic import *"
   ]
  },
  {
   "cell_type": "code",
   "execution_count": 16,
   "id": "12b7b991",
   "metadata": {},
   "outputs": [],
   "source": [
    "syms = sympy.symbols(\"t x theta phi\")\n",
    "t,x,theta,phi = syms"
   ]
  },
  {
   "cell_type": "code",
   "execution_count": 17,
   "id": "81cc02af",
   "metadata": {},
   "outputs": [],
   "source": [
    "metric = MetricTensor(m,syms)"
   ]
  },
  {
   "cell_type": "code",
   "execution_count": 18,
   "id": "4d85e8ae",
   "metadata": {},
   "outputs": [
    {
     "data": {
      "text/latex": [
       "$\\displaystyle \\left[\\begin{matrix}\\left[\\begin{matrix}- \\frac{\\partial}{\\partial t} \\delta{\\left(t,x \\right)} + \\frac{\\frac{\\partial}{\\partial t} A{\\left(t,x \\right)}}{2 A{\\left(t,x \\right)}} & \\tan{\\left(x \\right)} - \\frac{\\partial}{\\partial x} \\delta{\\left(t,x \\right)} + \\frac{\\frac{\\partial}{\\partial x} A{\\left(t,x \\right)}}{2 A{\\left(t,x \\right)}} & 0 & 0\\\\\\tan{\\left(x \\right)} - \\frac{\\partial}{\\partial x} \\delta{\\left(t,x \\right)} + \\frac{\\frac{\\partial}{\\partial x} A{\\left(t,x \\right)}}{2 A{\\left(t,x \\right)}} & - \\frac{e^{2 \\delta{\\left(t,x \\right)}} \\frac{\\partial}{\\partial t} A{\\left(t,x \\right)}}{2 A^{3}{\\left(t,x \\right)}} & 0 & 0\\\\0 & 0 & 0 & 0\\\\0 & 0 & 0 & 0\\end{matrix}\\right] & \\left[\\begin{matrix}\\frac{\\left(2 A{\\left(t,x \\right)} \\tan{\\left(x \\right)} - 2 A{\\left(t,x \\right)} \\frac{\\partial}{\\partial x} \\delta{\\left(t,x \\right)} + \\frac{\\partial}{\\partial x} A{\\left(t,x \\right)}\\right) A{\\left(t,x \\right)} e^{- 2 \\delta{\\left(t,x \\right)}}}{2} & - \\frac{\\frac{\\partial}{\\partial t} A{\\left(t,x \\right)}}{2 A{\\left(t,x \\right)}} & 0 & 0\\\\- \\frac{\\frac{\\partial}{\\partial t} A{\\left(t,x \\right)}}{2 A{\\left(t,x \\right)}} & \\tan{\\left(x \\right)} - \\frac{\\frac{\\partial}{\\partial x} A{\\left(t,x \\right)}}{2 A{\\left(t,x \\right)}} & 0 & 0\\\\0 & 0 & - A{\\left(t,x \\right)} \\tan{\\left(x \\right)} & 0\\\\0 & 0 & 0 & - A{\\left(t,x \\right)} \\sin^{2}{\\left(\\theta \\right)} \\tan{\\left(x \\right)}\\end{matrix}\\right] & \\left[\\begin{matrix}0 & 0 & 0 & 0\\\\0 & 0 & \\frac{2}{\\sin{\\left(2 x \\right)}} & 0\\\\0 & \\frac{2}{\\sin{\\left(2 x \\right)}} & 0 & 0\\\\0 & 0 & 0 & - \\frac{\\sin{\\left(2 \\theta \\right)}}{2}\\end{matrix}\\right] & \\left[\\begin{matrix}0 & 0 & 0 & 0\\\\0 & 0 & 0 & \\frac{2}{\\sin{\\left(2 x \\right)}}\\\\0 & 0 & 0 & \\frac{1}{\\tan{\\left(\\theta \\right)}}\\\\0 & \\frac{2}{\\sin{\\left(2 x \\right)}} & \\frac{1}{\\tan{\\left(\\theta \\right)}} & 0\\end{matrix}\\right]\\end{matrix}\\right]$"
      ],
      "text/plain": [
       "⎡⎡                   ∂                                       ∂                ⎤  ⎡⎛                             ∂             ∂         \n",
       "⎢⎢                   ──(A(t, x))                             ──(A(t, x))      ⎥  ⎢⎜2⋅A(t, x)⋅tan(x) - 2⋅A(t, x)⋅──(δ(t, x)) + ──(A(t, x)\n",
       "⎢⎢     ∂             ∂t                        ∂             ∂x               ⎥  ⎢⎝                             ∂x            ∂x        \n",
       "⎢⎢   - ──(δ(t, x)) + ───────────      tan(x) - ──(δ(t, x)) + ───────────  0  0⎥  ⎢──────────────────────────────────────────────────────\n",
       "⎢⎢     ∂t             2⋅A(t, x)                ∂x             2⋅A(t, x)       ⎥  ⎢                                     2                \n",
       "⎢⎢                                                                            ⎥  ⎢                                                      \n",
       "⎢⎢                       ∂                   2⋅δ(t, x) ∂                      ⎥  ⎢                                ∂                     \n",
       "⎢⎢                       ──(A(t, x))       -ℯ         ⋅──(A(t, x))            ⎥  ⎢                               -──(A(t, x))           \n",
       "⎢⎢         ∂             ∂x                            ∂t                     ⎥  ⎢                                ∂t                    \n",
       "⎢⎢tan(x) - ──(δ(t, x)) + ───────────       ────────────────────────       0  0⎥  ⎢                               ─────────────          \n",
       "⎢⎢         ∂x             2⋅A(t, x)                  3                        ⎥  ⎢                                 2⋅A(t, x)            \n",
       "⎢⎢                                                2⋅A (t, x)                  ⎥  ⎢                                                      \n",
       "⎢⎢                                                                            ⎥  ⎢                                     0                \n",
       "⎢⎢                0                                   0                   0  0⎥  ⎢                                                      \n",
       "⎢⎢                                                                            ⎥  ⎢                                                      \n",
       "⎣⎣                0                                   0                   0  0⎦  ⎣                                     0                \n",
       "\n",
       " ⎞          -2⋅δ(t, x)      ∂                                                         ⎤                                                 \n",
       ")⎟⋅A(t, x)⋅ℯ               -──(A(t, x))                                               ⎥                                                 \n",
       " ⎠                          ∂t                                                        ⎥  ⎡0     0         0          0     ⎤  ⎡0     0  \n",
       "──────────────────────     ─────────────             0                    0           ⎥  ⎢                                 ⎥  ⎢         \n",
       "                             2⋅A(t, x)                                                ⎥  ⎢                2                ⎥  ⎢         \n",
       "                                                                                      ⎥  ⎢0     0      ────────      0     ⎥  ⎢0     0  \n",
       "                                 ∂                                                    ⎥  ⎢             sin(2⋅x)            ⎥  ⎢         \n",
       "                                 ──(A(t, x))                                          ⎥  ⎢                                 ⎥  ⎢         \n",
       "                                 ∂x                                                   ⎥  ⎢      2                          ⎥  ⎢         \n",
       "                        tan(x) - ───────────         0                    0           ⎥  ⎢0  ────────     0          0     ⎥  ⎢0     0  \n",
       "                                  2⋅A(t, x)                                           ⎥  ⎢   sin(2⋅x)                      ⎥  ⎢         \n",
       "                                                                                      ⎥  ⎢                                 ⎥  ⎢         \n",
       "                                 0            -A(t, x)⋅tan(x)             0           ⎥  ⎢                       -sin(2⋅θ) ⎥  ⎢      2  \n",
       "                                                                                      ⎥  ⎢0     0         0      ──────────⎥  ⎢0  ──────\n",
       "                                                                           2          ⎥  ⎣                           2     ⎦  ⎣   sin(2⋅\n",
       "                                 0                   0         -A(t, x)⋅sin (θ)⋅tan(x)⎦                                                 \n",
       "\n",
       "                     ⎤\n",
       "                     ⎥\n",
       "      0        0    ⎤⎥\n",
       "                    ⎥⎥\n",
       "               2    ⎥⎥\n",
       "      0     ────────⎥⎥\n",
       "            sin(2⋅x)⎥⎥\n",
       "                    ⎥⎥\n",
       "               1    ⎥⎥\n",
       "      0      ────── ⎥⎥\n",
       "             tan(θ) ⎥⎥\n",
       "                    ⎥⎥\n",
       "      1             ⎥⎥\n",
       "──  ──────     0    ⎥⎥\n",
       "x)  tan(θ)          ⎦⎥\n",
       "                     ⎦"
      ]
     },
     "execution_count": 18,
     "metadata": {},
     "output_type": "execute_result"
    }
   ],
   "source": [
    "ch = ChristoffelSymbols.from_metric(metric)\n",
    "simplify(ch.tensor())"
   ]
  },
  {
   "cell_type": "code",
   "execution_count": 19,
   "id": "bae1b2db",
   "metadata": {},
   "outputs": [
    {
     "data": {
      "text/latex": [
       "$\\displaystyle \\left[\\begin{matrix}\\frac{\\left(\\frac{A^{4}{\\left(t,x \\right)} \\sin{\\left(x \\right)} \\frac{\\partial}{\\partial x} \\delta{\\left(t,x \\right)}}{\\cos^{3}{\\left(x \\right)}} + A^{4}{\\left(t,x \\right)} \\tan^{3}{\\left(x \\right)} \\frac{\\partial}{\\partial x} \\delta{\\left(t,x \\right)} + 3 A^{4}{\\left(t,x \\right)} \\tan^{2}{\\left(x \\right)} + A^{4}{\\left(t,x \\right)} \\left(\\frac{\\partial}{\\partial x} \\delta{\\left(t,x \\right)}\\right)^{2} - A^{4}{\\left(t,x \\right)} \\frac{\\partial^{2}}{\\partial x^{2}} \\delta{\\left(t,x \\right)} + 3 A^{4}{\\left(t,x \\right)} - \\frac{2 A^{4}{\\left(t,x \\right)} \\frac{\\partial}{\\partial x} \\delta{\\left(t,x \\right)}}{\\sin{\\left(x \\right)} \\cos^{3}{\\left(x \\right)}} - A^{3}{\\left(t,x \\right)} \\tan^{3}{\\left(x \\right)} \\frac{\\partial}{\\partial x} A{\\left(t,x \\right)} - \\frac{3 A^{3}{\\left(t,x \\right)} \\frac{\\partial}{\\partial x} A{\\left(t,x \\right)} \\frac{\\partial}{\\partial x} \\delta{\\left(t,x \\right)}}{2} + \\frac{A^{3}{\\left(t,x \\right)} \\frac{\\partial^{2}}{\\partial x^{2}} A{\\left(t,x \\right)}}{2} + \\frac{A^{3}{\\left(t,x \\right)} \\frac{\\partial}{\\partial x} A{\\left(t,x \\right)}}{\\sin{\\left(x \\right)} \\cos^{3}{\\left(x \\right)}} + \\frac{A{\\left(t,x \\right)} e^{2 \\delta{\\left(t,x \\right)}} \\frac{\\partial}{\\partial t} A{\\left(t,x \\right)} \\frac{\\partial}{\\partial t} \\delta{\\left(t,x \\right)}}{2} + \\frac{A{\\left(t,x \\right)} e^{2 \\delta{\\left(t,x \\right)}} \\frac{\\partial^{2}}{\\partial t^{2}} A{\\left(t,x \\right)}}{2} - e^{2 \\delta{\\left(t,x \\right)}} \\left(\\frac{\\partial}{\\partial t} A{\\left(t,x \\right)}\\right)^{2}\\right) e^{- 2 \\delta{\\left(t,x \\right)}}}{A^{2}{\\left(t,x \\right)}} & - \\frac{2 \\frac{\\partial}{\\partial t} A{\\left(t,x \\right)}}{A{\\left(t,x \\right)} \\sin{\\left(2 x \\right)}} & 0 & 0\\\\- \\frac{2 \\frac{\\partial}{\\partial t} A{\\left(t,x \\right)}}{A{\\left(t,x \\right)} \\sin{\\left(2 x \\right)}} & \\frac{\\sin{\\left(x \\right)} \\frac{\\partial}{\\partial x} \\delta{\\left(t,x \\right)}}{\\cos^{3}{\\left(x \\right)}} - \\tan^{3}{\\left(x \\right)} \\frac{\\partial}{\\partial x} \\delta{\\left(t,x \\right)} - 3 \\tan^{2}{\\left(x \\right)} - \\left(\\frac{\\partial}{\\partial x} \\delta{\\left(t,x \\right)}\\right)^{2} + \\frac{\\partial^{2}}{\\partial x^{2}} \\delta{\\left(t,x \\right)} - 3 + \\frac{\\tan^{3}{\\left(x \\right)} \\frac{\\partial}{\\partial x} A{\\left(t,x \\right)}}{A{\\left(t,x \\right)}} + \\frac{3 \\frac{\\partial}{\\partial x} A{\\left(t,x \\right)} \\frac{\\partial}{\\partial x} \\delta{\\left(t,x \\right)}}{2 A{\\left(t,x \\right)}} - \\frac{\\frac{\\partial^{2}}{\\partial x^{2}} A{\\left(t,x \\right)}}{2 A{\\left(t,x \\right)}} - \\frac{\\frac{\\partial}{\\partial x} A{\\left(t,x \\right)}}{A{\\left(t,x \\right)} \\sin{\\left(x \\right)} \\cos^{3}{\\left(x \\right)}} - \\frac{e^{2 \\delta{\\left(t,x \\right)}} \\frac{\\partial}{\\partial t} A{\\left(t,x \\right)} \\frac{\\partial}{\\partial t} \\delta{\\left(t,x \\right)}}{2 A^{3}{\\left(t,x \\right)}} - \\frac{e^{2 \\delta{\\left(t,x \\right)}} \\frac{\\partial^{2}}{\\partial t^{2}} A{\\left(t,x \\right)}}{2 A^{3}{\\left(t,x \\right)}} + \\frac{e^{2 \\delta{\\left(t,x \\right)}} \\left(\\frac{\\partial}{\\partial t} A{\\left(t,x \\right)}\\right)^{2}}{A^{4}{\\left(t,x \\right)}} & 0 & 0\\\\0 & 0 & - 3 A{\\left(t,x \\right)} \\tan^{2}{\\left(x \\right)} + A{\\left(t,x \\right)} \\tan{\\left(x \\right)} \\frac{\\partial}{\\partial x} \\delta{\\left(t,x \\right)} - A{\\left(t,x \\right)} - \\tan{\\left(x \\right)} \\frac{\\partial}{\\partial x} A{\\left(t,x \\right)} + 1 & 0\\\\0 & 0 & 0 & \\left(A{\\left(t,x \\right)} \\tan{\\left(x \\right)} \\frac{\\partial}{\\partial x} \\delta{\\left(t,x \\right)} + 2 A{\\left(t,x \\right)} - \\frac{3 A{\\left(t,x \\right)}}{\\cos^{2}{\\left(x \\right)}} - \\tan{\\left(x \\right)} \\frac{\\partial}{\\partial x} A{\\left(t,x \\right)} + 1\\right) \\sin^{2}{\\left(\\theta \\right)}\\end{matrix}\\right]$"
      ],
      "text/plain": [
       "⎡⎛                                                                                                                                      \n",
       "⎢⎜                                                                                                                                      \n",
       "⎢⎜ 4              ∂                                                                                                                     \n",
       "⎢⎜A (t, x)⋅sin(x)⋅──(δ(t, x))                                                                             2              2              \n",
       "⎢⎜                ∂x             4          3    ∂                4          2       4       ⎛∂          ⎞     4        ∂               \n",
       "⎢⎜─────────────────────────── + A (t, x)⋅tan (x)⋅──(δ(t, x)) + 3⋅A (t, x)⋅tan (x) + A (t, x)⋅⎜──(δ(t, x))⎟  - A (t, x)⋅───(δ(t, x)) + 3⋅\n",
       "⎢⎜             3                                 ∂x                                          ⎝∂x         ⎠               2              \n",
       "⎢⎝          cos (x)                                                                                                    ∂x               \n",
       "⎢───────────────────────────────────────────────────────────────────────────────────────────────────────────────────────────────────────\n",
       "⎢                                                                                                                                       \n",
       "⎢                                                                                                                                       \n",
       "⎢                                                                                                                                       \n",
       "⎢                                                                                                                                       \n",
       "⎢                                                                                                                                       \n",
       "⎢                                                                                                                                       \n",
       "⎢                                                                                                                                       \n",
       "⎢                                                                                                                                       \n",
       "⎢                                                                                                                                       \n",
       "⎢                                                                                                                                       \n",
       "⎢                                                                                                                                       \n",
       "⎢                                                                                                                                       \n",
       "⎢                                                                                                                                       \n",
       "⎢                                                                                                                                       \n",
       "⎢                                                                                                                                       \n",
       "⎢                                                                                                                                       \n",
       "⎢                                                                                                                                       \n",
       "⎢                                                                                                                                       \n",
       "⎢                                                                                                                                       \n",
       "⎣                                                                                                                                       \n",
       "\n",
       "                                                                                                                   2                    \n",
       "                                                                                                         3        ∂                     \n",
       "              4       ∂                                               3       ∂           ∂             A (t, x)⋅───(A(t, x))    3      \n",
       "           2⋅A (t, x)⋅──(δ(t, x))                                  3⋅A (t, x)⋅──(A(t, x))⋅──(δ(t, x))              2            A (t, x)\n",
       " 4                    ∂x             3          3    ∂                        ∂x          ∂x                     ∂x                     \n",
       "A (t, x) - ────────────────────── - A (t, x)⋅tan (x)⋅──(A(t, x)) - ────────────────────────────────── + ───────────────────── + ────────\n",
       "                         3                           ∂x                            2                              2                     \n",
       "               sin(x)⋅cos (x)                                                                                                      sin(x\n",
       "────────────────────────────────────────────────────────────────────────────────────────────────────────────────────────────────────────\n",
       "                                                                2                                                                       \n",
       "                                                               A (t, x)                                                                 \n",
       "                                                                                                                                        \n",
       "                                                                                                                                        \n",
       "                                                                                                                                        \n",
       "                                                             ∂                                                                          \n",
       "                                                          -2⋅──(A(t, x))                                                                \n",
       "                                                             ∂t                                                                         \n",
       "                                                          ────────────────                                                              \n",
       "                                                          A(t, x)⋅sin(2⋅x)                                                              \n",
       "                                                                                                                                        \n",
       "                                                                                                                                        \n",
       "                                                                                                                                        \n",
       "                                                                  0                                                                     \n",
       "                                                                                                                                        \n",
       "                                                                                                                                        \n",
       "                                                                                                                                        \n",
       "                                                                  0                                                                     \n",
       "                                                                                                                                        \n",
       "                                                                                                                                        \n",
       "\n",
       "                                                                                 2                                     ⎞                \n",
       "                                                                     2⋅δ(t, x)  ∂                                      ⎟                \n",
       " ∂                      2⋅δ(t, x) ∂           ∂             A(t, x)⋅ℯ         ⋅───(A(t, x))                            ⎟                \n",
       "⋅──(A(t, x))   A(t, x)⋅ℯ         ⋅──(A(t, x))⋅──(δ(t, x))                        2                                    2⎟                \n",
       " ∂x                               ∂t          ∂t                               ∂t              2⋅δ(t, x) ⎛∂          ⎞ ⎟  -2⋅δ(t, x)    \n",
       "──────────── + ────────────────────────────────────────── + ─────────────────────────────── - ℯ         ⋅⎜──(A(t, x))⎟ ⎟⋅ℯ              \n",
       "     3                             2                                       2                             ⎝∂t         ⎠ ⎟                \n",
       ")⋅cos (x)                                                                                                              ⎠                \n",
       "────────────────────────────────────────────────────────────────────────────────────────────────────────────────────────────────────    \n",
       "                                                                                                                                        \n",
       "                                                                                                                                        \n",
       "                                                                                                                                        \n",
       "                                                                                                                                        \n",
       "                                                                                                                                        \n",
       "                                                                                                                                        \n",
       "                                                                                                                                      si\n",
       "                                                                                                                                        \n",
       "                                                                                                                                      ──\n",
       "                                                                                                                                        \n",
       "                                                                                                                                        \n",
       "                                                                                                                                        \n",
       "                                                                                                                                        \n",
       "                                                                                                                                        \n",
       "                                                                                                                                        \n",
       "                                                                                                                                        \n",
       "                                                                                                                                        \n",
       "                                                                                                                                        \n",
       "                                                                                                                                        \n",
       "                                                                                                                                        \n",
       "\n",
       "                                                                                                                                        \n",
       "                                                                                                                                        \n",
       "                                                                                                                                        \n",
       "                                                                                                                                        \n",
       "                                                                                                                                        \n",
       "                                                                                                                               ∂        \n",
       "                                                                                                                            -2⋅──(A(t, x\n",
       "                                                                                                                               ∂t       \n",
       "                                                                                                                            ────────────\n",
       "                                                                                                                            A(t, x)⋅sin(\n",
       "                                                                                                                                        \n",
       "                                                                                                                                        \n",
       "                                                                                                                                        \n",
       "                                                                                                                                        \n",
       "     ∂                                                                                      3    ∂               ∂           ∂          \n",
       "n(x)⋅──(δ(t, x))                                                  2     2                tan (x)⋅──(A(t, x))   3⋅──(A(t, x))⋅──(δ(t, x))\n",
       "     ∂x               3    ∂                  2      ⎛∂          ⎞     ∂                         ∂x              ∂x          ∂x         \n",
       "──────────────── - tan (x)⋅──(δ(t, x)) - 3⋅tan (x) - ⎜──(δ(t, x))⎟  + ───(δ(t, x)) - 3 + ─────────────────── + ─────────────────────────\n",
       "      3                    ∂x                        ⎝∂x         ⎠      2                      A(t, x)                 2⋅A(t, x)        \n",
       "   cos (x)                                                            ∂x                                                                \n",
       "                                                                                                                                        \n",
       "                                                                                                                                        \n",
       "                                                                                                                                    0   \n",
       "                                                                                                                                        \n",
       "                                                                                                                                        \n",
       "                                                                                                                                        \n",
       "                                                                                                                                    0   \n",
       "                                                                                                                                        \n",
       "                                                                                                                                        \n",
       "\n",
       "                                                                                                                                        \n",
       "                                                                                                                                        \n",
       "                                                                                                                                        \n",
       "                                                                                                                                        \n",
       "                                                                                                                                        \n",
       "                                                                                                                                        \n",
       "))                                                                                                                                      \n",
       "                                                                                                                                        \n",
       "────                                                                                                                                    \n",
       "2⋅x)                                                                                                                                    \n",
       "                                                                                                                                        \n",
       "                                                                                                                                        \n",
       "     2                                                                                       2                                          \n",
       "    ∂                                                                            2⋅δ(t, x)  ∂                                     2     \n",
       "   ───(A(t, x))        ∂                    2⋅δ(t, x) ∂           ∂             ℯ         ⋅───(A(t, x))    2⋅δ(t, x) ⎛∂          ⎞      \n",
       "     2                 ──(A(t, x))         ℯ         ⋅──(A(t, x))⋅──(δ(t, x))                2            ℯ         ⋅⎜──(A(t, x))⎟      \n",
       "   ∂x                  ∂x                             ∂t          ∂t                       ∂t                        ⎝∂t         ⎠      \n",
       " - ──────────── - ────────────────────── - ────────────────────────────────── - ─────────────────────── + ─────────────────────────     \n",
       "    2⋅A(t, x)                       3                     3                               3                         4                   \n",
       "                  A(t, x)⋅sin(x)⋅cos (x)               2⋅A (t, x)                      2⋅A (t, x)                  A (t, x)             \n",
       "                                                                                                                                        \n",
       "                                                                                                                                        \n",
       "                                                                                                                                     - 3\n",
       "                                                                                                                                        \n",
       "                                                                                                                                        \n",
       "                                                                                                                                        \n",
       "                                                                                                                                        \n",
       "                                                                                                                                        \n",
       "                                                                                                                                        \n",
       "\n",
       "                                                                                                                                        \n",
       "                                                                                                                                        \n",
       "                                                                                                                                        \n",
       "                                                                                                                                        \n",
       "                                                                                                                                        \n",
       "                                                                                                                                        \n",
       "                                                                                                                                        \n",
       "                                                                                                                                        \n",
       "                                      0                                                                                     0           \n",
       "                                                                                                                                        \n",
       "                                                                                                                                        \n",
       "                                                                                                                                        \n",
       "                                                                                                                                        \n",
       "                                                                                                                                        \n",
       "                                                                                                                                        \n",
       "                                                                                                                                        \n",
       "                                                                                                                                        \n",
       "                                      0                                                                                     0           \n",
       "                                                                                                                                        \n",
       "                                                                                                                                        \n",
       "                                                                                                                                        \n",
       "            2                     ∂                              ∂                                                                      \n",
       "⋅A(t, x)⋅tan (x) + A(t, x)⋅tan(x)⋅──(δ(t, x)) - A(t, x) - tan(x)⋅──(A(t, x)) + 1                                            0           \n",
       "                                  ∂x                             ∂x                                                                     \n",
       "                                                                                                                                        \n",
       "                                                                                  ⎛               ∂                         3⋅A(t, x)   \n",
       "                                      0                                           ⎜A(t, x)⋅tan(x)⋅──(δ(t, x)) + 2⋅A(t, x) - ───────── - \n",
       "                                                                                  ⎜               ∂x                            2       \n",
       "                                                                                  ⎝                                          cos (x)    \n",
       "\n",
       "                               ⎤\n",
       "                               ⎥\n",
       "                               ⎥\n",
       "                               ⎥\n",
       "                               ⎥\n",
       "                               ⎥\n",
       "                               ⎥\n",
       "                               ⎥\n",
       "                               ⎥\n",
       "                               ⎥\n",
       "                               ⎥\n",
       "                               ⎥\n",
       "                               ⎥\n",
       "                               ⎥\n",
       "                               ⎥\n",
       "                               ⎥\n",
       "                               ⎥\n",
       "                               ⎥\n",
       "                               ⎥\n",
       "                               ⎥\n",
       "                               ⎥\n",
       "                               ⎥\n",
       "                               ⎥\n",
       "                               ⎥\n",
       "                               ⎥\n",
       "       ∂              ⎞    2   ⎥\n",
       "tan(x)⋅──(A(t, x)) + 1⎟⋅sin (θ)⎥\n",
       "       ∂x             ⎟        ⎥\n",
       "                      ⎠        ⎦"
      ]
     },
     "execution_count": 19,
     "metadata": {},
     "output_type": "execute_result"
    }
   ],
   "source": [
    "Ric = RicciTensor.from_metric(metric)\n",
    "Ric.tensor()"
   ]
  },
  {
   "cell_type": "code",
   "execution_count": null,
   "id": "95c4c930",
   "metadata": {},
   "outputs": [],
   "source": [
    "R = RicciScalar.from_riccitensor(Ric)\n",
    "R.simplify()\n",
    "R.expr"
   ]
  },
  {
   "cell_type": "code",
   "execution_count": null,
   "id": "32cd46c5",
   "metadata": {},
   "outputs": [],
   "source": [
    "einst = EinsteinTensor.from_metric(metric)\n",
    "einst.tensor()"
   ]
  },
  {
   "cell_type": "code",
   "execution_count": null,
   "id": "7ddb07d8",
   "metadata": {},
   "outputs": [],
   "source": [
    "#  rm1 = RiemannCurvatureTensor.from_christoffels(ch)\n",
    "#  rm1.tensor()"
   ]
  },
  {
   "cell_type": "code",
   "execution_count": null,
   "id": "7d3862eb",
   "metadata": {},
   "outputs": [],
   "source": [
    "#  weyl = WeylTensor.from_metric(metric)\n",
    "#  weyl.tensor()"
   ]
  },
  {
   "cell_type": "code",
   "execution_count": null,
   "id": "76415779",
   "metadata": {},
   "outputs": [],
   "source": [
    "ricciSimplified = simplify(Ric.tensor())\n",
    "ricciSimplified"
   ]
  },
  {
   "cell_type": "code",
   "execution_count": null,
   "id": "cee53444",
   "metadata": {},
   "outputs": [],
   "source": [
    "einsteinSimplifed = simplify(einst.tensor())\n",
    "einsteinSimplifed"
   ]
  },
  {
   "cell_type": "code",
   "execution_count": null,
   "id": "9a8ada05",
   "metadata": {},
   "outputs": [],
   "source": []
  }
 ],
 "metadata": {
  "@webio": {
   "lastCommId": "d438b6476bbe482a9680005c25641320",
   "lastKernelId": "a9f9795b-e9b2-4a8d-ad89-9d8cb8a03ee3"
  },
  "kernelspec": {
   "display_name": "Python 3 (ipykernel)",
   "language": "python",
   "name": "python3"
  },
  "language_info": {
   "codemirror_mode": {
    "name": "ipython",
    "version": 3
   },
   "file_extension": ".py",
   "mimetype": "text/x-python",
   "name": "python",
   "nbconvert_exporter": "python",
   "pygments_lexer": "ipython3",
   "version": "3.8.8"
  }
 },
 "nbformat": 4,
 "nbformat_minor": 5
}
