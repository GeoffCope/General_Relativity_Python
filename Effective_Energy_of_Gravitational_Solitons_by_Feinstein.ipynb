{
 "cells": [
  {
   "cell_type": "markdown",
   "id": "99ad3a3f",
   "metadata": {},
   "source": [
    "# Effective Energy of Gravitational Solitons by Feinstein\n",
    "##  Geoff Cope\n",
    "##  Univeristy of Utah\n",
    "##  December 24, 2021 Christmas Eve!"
   ]
  },
  {
   "cell_type": "markdown",
   "id": "5901991c",
   "metadata": {},
   "source": [
    "https://journals.aps.org/prd/abstract/10.1103/PhysRevD.35.3263"
   ]
  },
  {
   "cell_type": "code",
   "execution_count": 1,
   "id": "a48178cd",
   "metadata": {},
   "outputs": [
    {
     "name": "stdout",
     "output_type": "stream",
     "text": [
      "IPython console for SymPy 1.9 (Python 3.8.8-64-bit) (ground types: gmpy)\n",
      "\n",
      "These commands were executed:\n",
      ">>> from __future__ import division\n",
      ">>> from sympy import *\n",
      ">>> x, y, z, t = symbols('x y z t')\n",
      ">>> k, m, n = symbols('k m n', integer=True)\n",
      ">>> f, g, h = symbols('f g h', cls=Function)\n",
      ">>> init_printing()\n",
      "\n",
      "Documentation can be found at https://docs.sympy.org/1.9/\n",
      "\n"
     ]
    }
   ],
   "source": [
    "from sympy import init_session\n",
    "init_session(use_latex=True)"
   ]
  },
  {
   "cell_type": "code",
   "execution_count": 2,
   "id": "5aec2743",
   "metadata": {},
   "outputs": [],
   "source": [
    "import warnings\n",
    "import matplotlib.cbook\n",
    "warnings.filterwarnings(\"ignore\",category=matplotlib.cbook.mplDeprecation)"
   ]
  },
  {
   "cell_type": "code",
   "execution_count": 3,
   "id": "6a58da2c",
   "metadata": {},
   "outputs": [],
   "source": [
    "t,x,y,z,dt,dx,dy,dz,f,p = symbols('t x y z dt dx dy dz f p')"
   ]
  },
  {
   "cell_type": "code",
   "execution_count": 4,
   "id": "5f00520f",
   "metadata": {},
   "outputs": [
    {
     "data": {
      "image/png": "[encoded data removed]",
      "text/latex": [
       "$\\displaystyle f{\\left(t,z \\right)}$"
      ],
      "text/plain": [
       "f(t, z)"
      ]
     },
     "execution_count": 4,
     "metadata": {},
     "output_type": "execute_result"
    }
   ],
   "source": [
    "f = Function('f')(t,z)\n",
    "f"
   ]
  },
  {
   "cell_type": "code",
   "execution_count": 5,
   "id": "e4179387",
   "metadata": {},
   "outputs": [
    {
     "data": {
      "image/png": "[encoded data removed]",
      "text/latex": [
       "$\\displaystyle p{\\left(t,z \\right)}$"
      ],
      "text/plain": [
       "p(t, z)"
      ]
     },
     "execution_count": 5,
     "metadata": {},
     "output_type": "execute_result"
    }
   ],
   "source": [
    "p = Function('p')(t,z)\n",
    "p"
   ]
  },
  {
   "cell_type": "code",
   "execution_count": 6,
   "id": "13bfc4d6",
   "metadata": {},
   "outputs": [
    {
     "data": {
      "text/latex": [
       "$\\displaystyle \\left[\\begin{matrix}t\\\\x\\\\y\\\\z\\end{matrix}\\right]$"
      ],
      "text/plain": [
       "⎡t⎤\n",
       "⎢ ⎥\n",
       "⎢x⎥\n",
       "⎢ ⎥\n",
       "⎢y⎥\n",
       "⎢ ⎥\n",
       "⎣z⎦"
      ]
     },
     "execution_count": 6,
     "metadata": {},
     "output_type": "execute_result"
    }
   ],
   "source": [
    "variables = Matrix( [t,x,y,z] )\n",
    "variables"
   ]
  },
  {
   "cell_type": "code",
   "execution_count": 7,
   "id": "ac7bea06",
   "metadata": {},
   "outputs": [
    {
     "data": {
      "text/latex": [
       "$\\displaystyle \\left[\\begin{matrix}dt\\\\dx\\\\dy\\\\dz\\end{matrix}\\right]$"
      ],
      "text/plain": [
       "⎡dt⎤\n",
       "⎢  ⎥\n",
       "⎢dx⎥\n",
       "⎢  ⎥\n",
       "⎢dy⎥\n",
       "⎢  ⎥\n",
       "⎣dz⎦"
      ]
     },
     "execution_count": 7,
     "metadata": {},
     "output_type": "execute_result"
    }
   ],
   "source": [
    "differentials = Matrix( [dt,dx,dy,dz] )\n",
    "differentials"
   ]
  },
  {
   "cell_type": "code",
   "execution_count": 8,
   "id": "320c39cf",
   "metadata": {},
   "outputs": [
    {
     "data": {
      "image/png": "[encoded data removed]",
      "text/latex": [
       "$\\displaystyle - dt^{2} e^{f{\\left(t,z \\right)}} + dx^{2} t e^{p{\\left(t,z \\right)}} + dy^{2} t e^{- p{\\left(t,z \\right)}} + dz^{2} e^{f{\\left(t,z \\right)}}$"
      ],
      "text/plain": [
       "    2  f(t, z)     2    p(t, z)     2    -p(t, z)     2  f(t, z)\n",
       "- dt ⋅ℯ        + dx ⋅t⋅ℯ        + dy ⋅t⋅ℯ         + dz ⋅ℯ       "
      ]
     },
     "execution_count": 8,
     "metadata": {},
     "output_type": "execute_result"
    }
   ],
   "source": [
    "lineElement = expand(exp(f)*( -dt**2 + dz**2 ) + t* (exp(p)*dx**2 + exp(-p)*dy**2 ))\n",
    "lineElement"
   ]
  },
  {
   "cell_type": "code",
   "execution_count": 9,
   "id": "452720fd",
   "metadata": {},
   "outputs": [
    {
     "data": {
      "text/latex": [
       "$\\displaystyle \\left[\\begin{matrix}- e^{f{\\left(t,z \\right)}} & 0 & 0 & 0\\\\0 & t e^{p{\\left(t,z \\right)}} & 0 & 0\\\\0 & 0 & t e^{- p{\\left(t,z \\right)}} & 0\\\\0 & 0 & 0 & e^{f{\\left(t,z \\right)}}\\end{matrix}\\right]$"
      ],
      "text/plain": [
       "⎡  f(t, z)                                   ⎤\n",
       "⎢-ℯ             0            0          0    ⎥\n",
       "⎢                                            ⎥\n",
       "⎢              p(t, z)                       ⎥\n",
       "⎢    0      t⋅ℯ              0          0    ⎥\n",
       "⎢                                            ⎥\n",
       "⎢                          -p(t, z)          ⎥\n",
       "⎢    0          0       t⋅ℯ             0    ⎥\n",
       "⎢                                            ⎥\n",
       "⎢                                     f(t, z)⎥\n",
       "⎣    0          0            0       ℯ       ⎦"
      ]
     },
     "execution_count": 9,
     "metadata": {},
     "output_type": "execute_result"
    }
   ],
   "source": [
    "g = zeros(4)\n",
    "\n",
    "for i in range(4):\n",
    "    for j in range(4):\n",
    "        if i == j:\n",
    "            g[i,j] = lineElement.coeff( differentials[i],2 ) \n",
    "        else:\n",
    "            g[i,j] = Rational(1,2)*lineElement.coeff( differentials[i]*differentials[j],1 )\n",
    "            \n",
    "g"
   ]
  },
  {
   "cell_type": "code",
   "execution_count": 10,
   "id": "de17d201",
   "metadata": {},
   "outputs": [],
   "source": [
    "import sympy"
   ]
  },
  {
   "cell_type": "code",
   "execution_count": 11,
   "id": "8a5a39f4",
   "metadata": {},
   "outputs": [
    {
     "data": {
      "text/latex": [
       "$\\displaystyle \\left[\\begin{matrix}- e^{f{\\left(t,z \\right)}} & 0 & 0 & 0\\\\0 & t e^{p{\\left(t,z \\right)}} & 0 & 0\\\\0 & 0 & t e^{- p{\\left(t,z \\right)}} & 0\\\\0 & 0 & 0 & e^{f{\\left(t,z \\right)}}\\end{matrix}\\right]$"
      ],
      "text/plain": [
       "⎡  f(t, z)                                   ⎤\n",
       "⎢-ℯ             0            0          0    ⎥\n",
       "⎢                                            ⎥\n",
       "⎢              p(t, z)                       ⎥\n",
       "⎢    0      t⋅ℯ              0          0    ⎥\n",
       "⎢                                            ⎥\n",
       "⎢                          -p(t, z)          ⎥\n",
       "⎢    0          0       t⋅ℯ             0    ⎥\n",
       "⎢                                            ⎥\n",
       "⎢                                     f(t, z)⎥\n",
       "⎣    0          0            0       ℯ       ⎦"
      ]
     },
     "execution_count": 11,
     "metadata": {},
     "output_type": "execute_result"
    }
   ],
   "source": [
    "m = sympy.Array(g)\n",
    "m"
   ]
  },
  {
   "cell_type": "code",
   "execution_count": 12,
   "id": "5d10844b",
   "metadata": {},
   "outputs": [],
   "source": [
    "from einsteinpy.symbolic import *"
   ]
  },
  {
   "cell_type": "code",
   "execution_count": 13,
   "id": "ae2feb92",
   "metadata": {},
   "outputs": [],
   "source": [
    "syms = sympy.symbols(\"t x y z\")\n",
    "t,x,y,z = syms"
   ]
  },
  {
   "cell_type": "code",
   "execution_count": 14,
   "id": "a957d159",
   "metadata": {},
   "outputs": [],
   "source": [
    "metric = MetricTensor(m,syms)"
   ]
  },
  {
   "cell_type": "code",
   "execution_count": 15,
   "id": "511bb86f",
   "metadata": {},
   "outputs": [
    {
     "data": {
      "text/latex": [
       "$\\displaystyle \\left[\\begin{matrix}\\left[\\begin{matrix}\\frac{\\frac{\\partial}{\\partial t} f{\\left(t,z \\right)}}{2} & 0 & 0 & \\frac{\\frac{\\partial}{\\partial z} f{\\left(t,z \\right)}}{2}\\\\0 & \\frac{\\left(t \\frac{\\partial}{\\partial t} p{\\left(t,z \\right)} + 1\\right) e^{- f{\\left(t,z \\right)} + p{\\left(t,z \\right)}}}{2} & 0 & 0\\\\0 & 0 & \\frac{\\left(- t \\frac{\\partial}{\\partial t} p{\\left(t,z \\right)} + 1\\right) e^{- f{\\left(t,z \\right)} - p{\\left(t,z \\right)}}}{2} & 0\\\\\\frac{\\frac{\\partial}{\\partial z} f{\\left(t,z \\right)}}{2} & 0 & 0 & \\frac{\\frac{\\partial}{\\partial t} f{\\left(t,z \\right)}}{2}\\end{matrix}\\right] & \\left[\\begin{matrix}0 & \\frac{t \\frac{\\partial}{\\partial t} p{\\left(t,z \\right)} + 1}{2 t} & 0 & 0\\\\\\frac{t \\frac{\\partial}{\\partial t} p{\\left(t,z \\right)} + 1}{2 t} & 0 & 0 & \\frac{\\frac{\\partial}{\\partial z} p{\\left(t,z \\right)}}{2}\\\\0 & 0 & 0 & 0\\\\0 & \\frac{\\frac{\\partial}{\\partial z} p{\\left(t,z \\right)}}{2} & 0 & 0\\end{matrix}\\right] & \\left[\\begin{matrix}0 & 0 & \\frac{- t \\frac{\\partial}{\\partial t} p{\\left(t,z \\right)} + 1}{2 t} & 0\\\\0 & 0 & 0 & 0\\\\\\frac{- t \\frac{\\partial}{\\partial t} p{\\left(t,z \\right)} + 1}{2 t} & 0 & 0 & - \\frac{\\frac{\\partial}{\\partial z} p{\\left(t,z \\right)}}{2}\\\\0 & 0 & - \\frac{\\frac{\\partial}{\\partial z} p{\\left(t,z \\right)}}{2} & 0\\end{matrix}\\right] & \\left[\\begin{matrix}\\frac{\\frac{\\partial}{\\partial z} f{\\left(t,z \\right)}}{2} & 0 & 0 & \\frac{\\frac{\\partial}{\\partial t} f{\\left(t,z \\right)}}{2}\\\\0 & - \\frac{t e^{- f{\\left(t,z \\right)} + p{\\left(t,z \\right)}} \\frac{\\partial}{\\partial z} p{\\left(t,z \\right)}}{2} & 0 & 0\\\\0 & 0 & \\frac{t e^{- f{\\left(t,z \\right)} - p{\\left(t,z \\right)}} \\frac{\\partial}{\\partial z} p{\\left(t,z \\right)}}{2} & 0\\\\\\frac{\\frac{\\partial}{\\partial t} f{\\left(t,z \\right)}}{2} & 0 & 0 & \\frac{\\frac{\\partial}{\\partial z} f{\\left(t,z \\right)}}{2}\\end{matrix}\\right]\\end{matrix}\\right]$"
      ],
      "text/plain": [
       "⎡⎡∂                                                                                         \n",
       "⎢⎢──(f(t, z))                                                                               \n",
       "⎢⎢∂t                                                                                        \n",
       "⎢⎢───────────                     0                                         0               \n",
       "⎢⎢     2                                                                                    \n",
       "⎢⎢                                                                                          \n",
       "⎢⎢             ⎛  ∂              ⎞  -f(t, z) + p(t, z)                                      \n",
       "⎢⎢             ⎜t⋅──(p(t, z)) + 1⎟⋅ℯ                                                        \n",
       "⎢⎢             ⎝  ∂t             ⎠                                                          \n",
       "⎢⎢     0       ───────────────────────────────────────                      0               \n",
       "⎢⎢                                2                                                         \n",
       "⎢⎢                                                                                          \n",
       "⎢⎢                                                      ⎛    ∂              ⎞  -f(t, z) - p(\n",
       "⎢⎢                                                      ⎜- t⋅──(p(t, z)) + 1⎟⋅ℯ             \n",
       "⎢⎢                                                      ⎝    ∂t             ⎠               \n",
       "⎢⎢     0                          0                     ────────────────────────────────────\n",
       "⎢⎢                                                                          2               \n",
       "⎢⎢                                                                                          \n",
       "⎢⎢∂                                                                                         \n",
       "⎢⎢──(f(t, z))                                                                               \n",
       "⎢⎢∂z                                                                                        \n",
       "⎢⎢───────────                     0                                         0               \n",
       "⎣⎣     2                                                                                    \n",
       "\n",
       "       ∂          ⎤                                                                         \n",
       "       ──(f(t, z))⎥                                                                         \n",
       "       ∂z         ⎥  ⎡                     ∂                              ⎤  ⎡              \n",
       "       ───────────⎥  ⎢                   t⋅──(p(t, z)) + 1                ⎥  ⎢              \n",
       "            2     ⎥  ⎢                     ∂t                             ⎥  ⎢              \n",
       "                  ⎥  ⎢        0          ─────────────────  0       0     ⎥  ⎢         0    \n",
       "                  ⎥  ⎢                          2⋅t                       ⎥  ⎢              \n",
       "                  ⎥  ⎢                                                    ⎥  ⎢              \n",
       "                  ⎥  ⎢  ∂                                      ∂          ⎥  ⎢         0    \n",
       "            0     ⎥  ⎢t⋅──(p(t, z)) + 1                        ──(p(t, z))⎥  ⎢              \n",
       "                  ⎥  ⎢  ∂t                                     ∂z         ⎥  ⎢    ∂         \n",
       "                  ⎥  ⎢─────────────────          0          0  ───────────⎥  ⎢- t⋅──(p(t, z)\n",
       "t, z)             ⎥  ⎢       2⋅t                                    2     ⎥  ⎢    ∂t        \n",
       "                  ⎥  ⎢                                                    ⎥  ⎢──────────────\n",
       "                  ⎥  ⎢        0                  0          0       0     ⎥  ⎢        2⋅t   \n",
       "─────       0     ⎥  ⎢                                                    ⎥  ⎢              \n",
       "                  ⎥  ⎢                      ∂                             ⎥  ⎢              \n",
       "                  ⎥  ⎢                      ──(p(t, z))                   ⎥  ⎢              \n",
       "       ∂          ⎥  ⎢                      ∂z                            ⎥  ⎢              \n",
       "       ──(f(t, z))⎥  ⎢        0             ───────────     0       0     ⎥  ⎢         0    \n",
       "       ∂t         ⎥  ⎣                           2                        ⎦  ⎣              \n",
       "       ───────────⎥                                                                         \n",
       "            2     ⎦                                                                         \n",
       "\n",
       "                                               ⎡∂                                           \n",
       "                                               ⎢──(f(t, z))                                 \n",
       "              ∂                             ⎤  ⎢∂z                                          \n",
       "          - t⋅──(p(t, z)) + 1               ⎥  ⎢───────────                   0             \n",
       "              ∂t                            ⎥  ⎢     2                                      \n",
       "       0  ───────────────────        0      ⎥  ⎢                                            \n",
       "                  2⋅t                       ⎥  ⎢                 -f(t, z) + p(t, z) ∂       \n",
       "                                            ⎥  ⎢             -t⋅ℯ                  ⋅──(p(t, \n",
       "       0           0                 0      ⎥  ⎢                                    ∂z      \n",
       "                                            ⎥  ⎢     0       ───────────────────────────────\n",
       "                                ∂           ⎥  ⎢                              2             \n",
       ") + 1                          -──(p(t, z)) ⎥  ⎢                                            \n",
       "                                ∂z          ⎥  ⎢                                            \n",
       "─────  0           0           ─────────────⎥  ⎢                                            \n",
       "                                     2      ⎥  ⎢                                            \n",
       "                                            ⎥  ⎢     0                        0             \n",
       "              ∂                             ⎥  ⎢                                            \n",
       "             -──(p(t, z))                   ⎥  ⎢                                            \n",
       "              ∂z                            ⎥  ⎢∂                                           \n",
       "       0     ─────────────           0      ⎥  ⎢──(f(t, z))                                 \n",
       "                   2                        ⎦  ⎢∂t                                          \n",
       "                                               ⎢───────────                   0             \n",
       "                                               ⎣     2                                      \n",
       "\n",
       "                                         ∂          ⎤⎤\n",
       "                                         ──(f(t, z))⎥⎥\n",
       "                                         ∂t         ⎥⎥\n",
       "                      0                  ───────────⎥⎥\n",
       "                                              2     ⎥⎥\n",
       "                                                    ⎥⎥\n",
       "                                                    ⎥⎥\n",
       "z))                                                 ⎥⎥\n",
       "                                                    ⎥⎥\n",
       "────                  0                       0     ⎥⎥\n",
       "                                                    ⎥⎥\n",
       "                                                    ⎥⎥\n",
       "         -f(t, z) - p(t, z) ∂                       ⎥⎥\n",
       "      t⋅ℯ                  ⋅──(p(t, z))             ⎥⎥\n",
       "                            ∂z                      ⎥⎥\n",
       "      ─────────────────────────────────       0     ⎥⎥\n",
       "                      2                             ⎥⎥\n",
       "                                                    ⎥⎥\n",
       "                                         ∂          ⎥⎥\n",
       "                                         ──(f(t, z))⎥⎥\n",
       "                                         ∂z         ⎥⎥\n",
       "                      0                  ───────────⎥⎥\n",
       "                                              2     ⎦⎦"
      ]
     },
     "execution_count": 15,
     "metadata": {},
     "output_type": "execute_result"
    }
   ],
   "source": [
    "ch = ChristoffelSymbols.from_metric(metric)\n",
    "simplify(ch.tensor())"
   ]
  },
  {
   "cell_type": "code",
   "execution_count": 16,
   "id": "073a9be8",
   "metadata": {},
   "outputs": [
    {
     "data": {
      "text/latex": [
       "$\\displaystyle \\left[\\begin{matrix}\\frac{t^{2} \\left(- \\frac{\\partial^{2}}{\\partial t^{2}} f{\\left(t,z \\right)} + \\frac{\\partial^{2}}{\\partial z^{2}} f{\\left(t,z \\right)} - \\left(\\frac{\\partial}{\\partial t} p{\\left(t,z \\right)}\\right)^{2}\\right) + t \\frac{\\partial}{\\partial t} f{\\left(t,z \\right)} + 1}{2 t^{2}} & 0 & 0 & \\frac{- t \\frac{\\partial}{\\partial t} p{\\left(t,z \\right)} \\frac{\\partial}{\\partial z} p{\\left(t,z \\right)} + \\frac{\\partial}{\\partial z} f{\\left(t,z \\right)}}{2 t}\\\\0 & \\frac{\\left(t \\frac{\\partial^{2}}{\\partial t^{2}} p{\\left(t,z \\right)} - t \\frac{\\partial^{2}}{\\partial z^{2}} p{\\left(t,z \\right)} + \\frac{\\partial}{\\partial t} p{\\left(t,z \\right)}\\right) e^{- f{\\left(t,z \\right)} + p{\\left(t,z \\right)}}}{2} & 0 & 0\\\\0 & 0 & \\frac{\\left(- t \\frac{\\partial^{2}}{\\partial t^{2}} p{\\left(t,z \\right)} + t \\frac{\\partial^{2}}{\\partial z^{2}} p{\\left(t,z \\right)} - \\frac{\\partial}{\\partial t} p{\\left(t,z \\right)}\\right) e^{- f{\\left(t,z \\right)} - p{\\left(t,z \\right)}}}{2} & 0\\\\\\frac{- t \\frac{\\partial}{\\partial t} p{\\left(t,z \\right)} \\frac{\\partial}{\\partial z} p{\\left(t,z \\right)} + \\frac{\\partial}{\\partial z} f{\\left(t,z \\right)}}{2 t} & 0 & 0 & \\frac{t \\frac{\\partial^{2}}{\\partial t^{2}} f{\\left(t,z \\right)} - t \\frac{\\partial^{2}}{\\partial z^{2}} f{\\left(t,z \\right)} - t \\left(\\frac{\\partial}{\\partial z} p{\\left(t,z \\right)}\\right)^{2} + \\frac{\\partial}{\\partial t} f{\\left(t,z \\right)}}{2 t}\\end{matrix}\\right]$"
      ],
      "text/plain": [
       "⎡   ⎛    2              2                         2⎞                                        \n",
       "⎢ 2 ⎜   ∂              ∂             ⎛∂          ⎞ ⎟     ∂                                  \n",
       "⎢t ⋅⎜- ───(f(t, z)) + ───(f(t, z)) - ⎜──(p(t, z))⎟ ⎟ + t⋅──(f(t, z)) + 1                    \n",
       "⎢   ⎜    2              2            ⎝∂t         ⎠ ⎟     ∂t                                 \n",
       "⎢   ⎝  ∂t             ∂z                           ⎠                                        \n",
       "⎢───────────────────────────────────────────────────────────────────────                    \n",
       "⎢                                     2                                                     \n",
       "⎢                                  2⋅t                                                      \n",
       "⎢                                                                                           \n",
       "⎢                                                                         ⎛    2            \n",
       "⎢                                                                         ⎜   ∂             \n",
       "⎢                                                                         ⎜t⋅───(p(t, z)) - \n",
       "⎢                                                                         ⎜    2            \n",
       "⎢                                                                         ⎝  ∂t             \n",
       "⎢                                   0                                     ──────────────────\n",
       "⎢                                                                                           \n",
       "⎢                                                                                           \n",
       "⎢                                                                                           \n",
       "⎢                                                                                           \n",
       "⎢                                                                                           \n",
       "⎢                                                                                           \n",
       "⎢                                                                                           \n",
       "⎢                                   0                                                       \n",
       "⎢                                                                                           \n",
       "⎢                                                                                           \n",
       "⎢                                                                                           \n",
       "⎢                                                                                           \n",
       "⎢                   ∂           ∂             ∂                                             \n",
       "⎢               - t⋅──(p(t, z))⋅──(p(t, z)) + ──(f(t, z))                                   \n",
       "⎢                   ∂t          ∂z            ∂z                                            \n",
       "⎢               ─────────────────────────────────────────                                   \n",
       "⎣                                  2⋅t                                                      \n",
       "\n",
       "                                                                                            \n",
       "                                                                                            \n",
       "                                                                                            \n",
       "                                                                                            \n",
       "                                                                                            \n",
       "               0                                                                     0      \n",
       "                                                                                            \n",
       "                                                                                            \n",
       "                                                                                            \n",
       "    2                       ⎞                                                               \n",
       "   ∂             ∂          ⎟  -f(t, z) + p(t, z)                                           \n",
       "t⋅───(p(t, z)) + ──(p(t, z))⎟⋅ℯ                                                             \n",
       "    2            ∂t         ⎟                                                               \n",
       "  ∂z                        ⎠                                                               \n",
       "─────────────────────────────────────────────────                                    0      \n",
       "               2                                                                            \n",
       "                                                                                            \n",
       "                                                   ⎛      2                2                \n",
       "                                                   ⎜     ∂                ∂             ∂   \n",
       "                                                   ⎜- t⋅───(p(t, z)) + t⋅───(p(t, z)) - ──(p\n",
       "                                                   ⎜      2                2            ∂t  \n",
       "                                                   ⎝    ∂t               ∂z                 \n",
       "               0                                   ─────────────────────────────────────────\n",
       "                                                                                     2      \n",
       "                                                                                            \n",
       "                                                                                            \n",
       "                                                                                            \n",
       "                                                                                            \n",
       "                                                                                            \n",
       "                                                                                            \n",
       "               0                                                                     0      \n",
       "                                                                                            \n",
       "\n",
       "                                                                                            \n",
       "                                                                                            \n",
       "                                             ∂           ∂             ∂                    \n",
       "                                         - t⋅──(p(t, z))⋅──(p(t, z)) + ──(f(t, z))          \n",
       "                                             ∂t          ∂z            ∂z                   \n",
       "                                         ─────────────────────────────────────────          \n",
       "                                                            2⋅t                             \n",
       "                                                                                            \n",
       "                                                                                            \n",
       "                                                                                            \n",
       "                                                                                            \n",
       "                                                                                            \n",
       "                                                                                            \n",
       "                                                                                            \n",
       "                                                             0                              \n",
       "                                                                                            \n",
       "                                                                                            \n",
       "       ⎞                                                                                    \n",
       "       ⎟  -f(t, z) - p(t, z)                                                                \n",
       "(t, z))⎟⋅ℯ                                                                                  \n",
       "       ⎟                                                                                    \n",
       "       ⎠                                                                                    \n",
       "────────────────────────────                                 0                              \n",
       "                                                                                            \n",
       "                                                                                            \n",
       "                                  2                2                           2            \n",
       "                                 ∂                ∂               ⎛∂          ⎞    ∂        \n",
       "                              t⋅───(f(t, z)) - t⋅───(f(t, z)) - t⋅⎜──(p(t, z))⎟  + ──(f(t, z\n",
       "                                  2                2              ⎝∂z         ⎠    ∂t       \n",
       "                                ∂t               ∂z                                         \n",
       "                              ──────────────────────────────────────────────────────────────\n",
       "                                                            2⋅t                             \n",
       "\n",
       "  ⎤\n",
       "  ⎥\n",
       "  ⎥\n",
       "  ⎥\n",
       "  ⎥\n",
       "  ⎥\n",
       "  ⎥\n",
       "  ⎥\n",
       "  ⎥\n",
       "  ⎥\n",
       "  ⎥\n",
       "  ⎥\n",
       "  ⎥\n",
       "  ⎥\n",
       "  ⎥\n",
       "  ⎥\n",
       "  ⎥\n",
       "  ⎥\n",
       "  ⎥\n",
       "  ⎥\n",
       "  ⎥\n",
       "  ⎥\n",
       "  ⎥\n",
       "  ⎥\n",
       "  ⎥\n",
       "  ⎥\n",
       "  ⎥\n",
       "))⎥\n",
       "  ⎥\n",
       "  ⎥\n",
       "──⎥\n",
       "  ⎦"
      ]
     },
     "execution_count": 16,
     "metadata": {},
     "output_type": "execute_result"
    }
   ],
   "source": [
    "Ric = RicciTensor.from_metric(metric)\n",
    "Ric.tensor()"
   ]
  },
  {
   "cell_type": "code",
   "execution_count": 17,
   "id": "249e4506",
   "metadata": {},
   "outputs": [
    {
     "data": {
      "image/png": "[encoded data removed]",
      "text/latex": [
       "$\\displaystyle \\frac{\\left(2 t^{2} \\frac{\\partial^{2}}{\\partial t^{2}} f{\\left(t,z \\right)} - 2 t^{2} \\frac{\\partial^{2}}{\\partial z^{2}} f{\\left(t,z \\right)} + t^{2} \\left(\\frac{\\partial}{\\partial t} p{\\left(t,z \\right)}\\right)^{2} - t^{2} \\left(\\frac{\\partial}{\\partial z} p{\\left(t,z \\right)}\\right)^{2} - 1\\right) e^{- f{\\left(t,z \\right)}}}{2 t^{2}}$"
      ],
      "text/plain": [
       "⎛       2                   2                            2                   2    ⎞         \n",
       "⎜   2  ∂                2  ∂              2 ⎛∂          ⎞     2 ⎛∂          ⎞     ⎟  -f(t, z\n",
       "⎜2⋅t ⋅───(f(t, z)) - 2⋅t ⋅───(f(t, z)) + t ⋅⎜──(p(t, z))⎟  - t ⋅⎜──(p(t, z))⎟  - 1⎟⋅ℯ       \n",
       "⎜       2                   2               ⎝∂t         ⎠       ⎝∂z         ⎠     ⎟         \n",
       "⎝     ∂t                  ∂z                                                      ⎠         \n",
       "────────────────────────────────────────────────────────────────────────────────────────────\n",
       "                                                2                                           \n",
       "                                             2⋅t                                            \n",
       "\n",
       " \n",
       ")\n",
       " \n",
       " \n",
       " \n",
       "─\n",
       " \n",
       " "
      ]
     },
     "execution_count": 17,
     "metadata": {},
     "output_type": "execute_result"
    }
   ],
   "source": [
    "R = RicciScalar.from_riccitensor(Ric)\n",
    "R.simplify()\n",
    "R.expr"
   ]
  },
  {
   "cell_type": "code",
   "execution_count": 18,
   "id": "233020e1",
   "metadata": {},
   "outputs": [
    {
     "data": {
      "text/latex": [
       "$\\displaystyle \\left[\\begin{matrix}\\frac{t^{2} \\left(- \\frac{\\partial^{2}}{\\partial t^{2}} f{\\left(t,z \\right)} + \\frac{\\partial^{2}}{\\partial z^{2}} f{\\left(t,z \\right)} - \\left(\\frac{\\partial}{\\partial t} p{\\left(t,z \\right)}\\right)^{2}\\right) + t \\frac{\\partial}{\\partial t} f{\\left(t,z \\right)} + 1}{2 t^{2}} + \\frac{0.25 \\left(2 t^{2} \\frac{\\partial^{2}}{\\partial t^{2}} f{\\left(t,z \\right)} - 2 t^{2} \\frac{\\partial^{2}}{\\partial z^{2}} f{\\left(t,z \\right)} + t^{2} \\left(\\frac{\\partial}{\\partial t} p{\\left(t,z \\right)}\\right)^{2} - t^{2} \\left(\\frac{\\partial}{\\partial z} p{\\left(t,z \\right)}\\right)^{2} - 1\\right)}{t^{2}} & 0 & 0 & \\frac{- t \\frac{\\partial}{\\partial t} p{\\left(t,z \\right)} \\frac{\\partial}{\\partial z} p{\\left(t,z \\right)} + \\frac{\\partial}{\\partial z} f{\\left(t,z \\right)}}{2 t}\\\\0 & \\frac{\\left(t \\frac{\\partial^{2}}{\\partial t^{2}} p{\\left(t,z \\right)} - t \\frac{\\partial^{2}}{\\partial z^{2}} p{\\left(t,z \\right)} + \\frac{\\partial}{\\partial t} p{\\left(t,z \\right)}\\right) e^{- f{\\left(t,z \\right)} + p{\\left(t,z \\right)}}}{2} - \\frac{0.25 \\left(2 t^{2} \\frac{\\partial^{2}}{\\partial t^{2}} f{\\left(t,z \\right)} - 2 t^{2} \\frac{\\partial^{2}}{\\partial z^{2}} f{\\left(t,z \\right)} + t^{2} \\left(\\frac{\\partial}{\\partial t} p{\\left(t,z \\right)}\\right)^{2} - t^{2} \\left(\\frac{\\partial}{\\partial z} p{\\left(t,z \\right)}\\right)^{2} - 1\\right) e^{- f{\\left(t,z \\right)}} e^{p{\\left(t,z \\right)}}}{t} & 0 & 0\\\\0 & 0 & \\frac{\\left(- t \\frac{\\partial^{2}}{\\partial t^{2}} p{\\left(t,z \\right)} + t \\frac{\\partial^{2}}{\\partial z^{2}} p{\\left(t,z \\right)} - \\frac{\\partial}{\\partial t} p{\\left(t,z \\right)}\\right) e^{- f{\\left(t,z \\right)} - p{\\left(t,z \\right)}}}{2} - \\frac{0.25 \\left(2 t^{2} \\frac{\\partial^{2}}{\\partial t^{2}} f{\\left(t,z \\right)} - 2 t^{2} \\frac{\\partial^{2}}{\\partial z^{2}} f{\\left(t,z \\right)} + t^{2} \\left(\\frac{\\partial}{\\partial t} p{\\left(t,z \\right)}\\right)^{2} - t^{2} \\left(\\frac{\\partial}{\\partial z} p{\\left(t,z \\right)}\\right)^{2} - 1\\right) e^{- f{\\left(t,z \\right)}} e^{- p{\\left(t,z \\right)}}}{t} & 0\\\\\\frac{- t \\frac{\\partial}{\\partial t} p{\\left(t,z \\right)} \\frac{\\partial}{\\partial z} p{\\left(t,z \\right)} + \\frac{\\partial}{\\partial z} f{\\left(t,z \\right)}}{2 t} & 0 & 0 & \\frac{t \\frac{\\partial^{2}}{\\partial t^{2}} f{\\left(t,z \\right)} - t \\frac{\\partial^{2}}{\\partial z^{2}} f{\\left(t,z \\right)} - t \\left(\\frac{\\partial}{\\partial z} p{\\left(t,z \\right)}\\right)^{2} + \\frac{\\partial}{\\partial t} f{\\left(t,z \\right)}}{2 t} - \\frac{0.25 \\left(2 t^{2} \\frac{\\partial^{2}}{\\partial t^{2}} f{\\left(t,z \\right)} - 2 t^{2} \\frac{\\partial^{2}}{\\partial z^{2}} f{\\left(t,z \\right)} + t^{2} \\left(\\frac{\\partial}{\\partial t} p{\\left(t,z \\right)}\\right)^{2} - t^{2} \\left(\\frac{\\partial}{\\partial z} p{\\left(t,z \\right)}\\right)^{2} - 1\\right)}{t^{2}}\\end{matrix}\\right]$"
      ],
      "text/plain": [
       "⎡   ⎛    2              2                         2⎞                            ⎛       2   \n",
       "⎢ 2 ⎜   ∂              ∂             ⎛∂          ⎞ ⎟     ∂                      ⎜   2  ∂    \n",
       "⎢t ⋅⎜- ───(f(t, z)) + ───(f(t, z)) - ⎜──(p(t, z))⎟ ⎟ + t⋅──(f(t, z)) + 1   0.25⋅⎜2⋅t ⋅───(f(\n",
       "⎢   ⎜    2              2            ⎝∂t         ⎠ ⎟     ∂t                     ⎜       2   \n",
       "⎢   ⎝  ∂t             ∂z                           ⎠                            ⎝     ∂t    \n",
       "⎢─────────────────────────────────────────────────────────────────────── + ─────────────────\n",
       "⎢                                     2                                                     \n",
       "⎢                                  2⋅t                                                      \n",
       "⎢                                                                                           \n",
       "⎢                                                                                           \n",
       "⎢                                                                                           \n",
       "⎢                                                                                           \n",
       "⎢                                                                                           \n",
       "⎢                                                                                           \n",
       "⎢                                                                                0          \n",
       "⎢                                                                                           \n",
       "⎢                                                                                           \n",
       "⎢                                                                                           \n",
       "⎢                                                                                           \n",
       "⎢                                                                                           \n",
       "⎢                                                                                           \n",
       "⎢                                                                                           \n",
       "⎢                                                                                0          \n",
       "⎢                                                                                           \n",
       "⎢                                                                                           \n",
       "⎢                                                                                           \n",
       "⎢                                                                                           \n",
       "⎢                                                                ∂           ∂             ∂\n",
       "⎢                                                            - t⋅──(p(t, z))⋅──(p(t, z)) + ─\n",
       "⎢                                                                ∂t          ∂z            ∂\n",
       "⎢                                                            ───────────────────────────────\n",
       "⎢                                                                               2⋅t         \n",
       "⎣                                                                                           \n",
       "\n",
       "                2                            2                   2    ⎞                     \n",
       "            2  ∂              2 ⎛∂          ⎞     2 ⎛∂          ⎞     ⎟                     \n",
       "t, z)) - 2⋅t ⋅───(f(t, z)) + t ⋅⎜──(p(t, z))⎟  - t ⋅⎜──(p(t, z))⎟  - 1⎟                     \n",
       "                2               ⎝∂t         ⎠       ⎝∂z         ⎠     ⎟                     \n",
       "              ∂z                                                      ⎠                     \n",
       "───────────────────────────────────────────────────────────────────────                     \n",
       "                           2                                                                \n",
       "                          t                                                                 \n",
       "                                                                                            \n",
       "                                                                         ⎛    2             \n",
       "                                                                         ⎜   ∂              \n",
       "                                                                         ⎜t⋅───(p(t, z)) - t\n",
       "                                                                         ⎜    2             \n",
       "                                                                         ⎝  ∂t              \n",
       "                                                                         ───────────────────\n",
       "                                                                                            \n",
       "                                                                                            \n",
       "                                                                                            \n",
       "                                                                                            \n",
       "                                                                                            \n",
       "                                                                                            \n",
       "                                                                                            \n",
       "                                                                                            \n",
       "                                                                                            \n",
       "                                                                                            \n",
       "                                                                                            \n",
       "                                                                                            \n",
       "                                                                                            \n",
       "─(f(t, z))                                                                                  \n",
       "z                                                                                           \n",
       "──────────                                                                                  \n",
       "                                                                                            \n",
       "                                                                                            \n",
       "\n",
       "                                                                                            \n",
       "                                                                                            \n",
       "                                                                                            \n",
       "                                                                                            \n",
       "                                                                                            \n",
       "                                                                     0                      \n",
       "                                                                                            \n",
       "                                                                                            \n",
       "                                                                                            \n",
       "   2                       ⎞                            ⎛       2                   2       \n",
       "  ∂             ∂          ⎟  -f(t, z) + p(t, z)        ⎜   2  ∂                2  ∂        \n",
       "⋅───(p(t, z)) + ──(p(t, z))⎟⋅ℯ                     0.25⋅⎜2⋅t ⋅───(f(t, z)) - 2⋅t ⋅───(f(t, z\n",
       "   2            ∂t         ⎟                            ⎜       2                   2       \n",
       " ∂z                        ⎠                            ⎝     ∂t                  ∂z        \n",
       "──────────────────────────────────────────────── - ─────────────────────────────────────────\n",
       "              2                                                                             \n",
       "                                                                                            \n",
       "                                                                                            \n",
       "                                                                                            \n",
       "                                                                                            \n",
       "                                                                                            \n",
       "                                                                                            \n",
       "                                                                     0                      \n",
       "                                                                                            \n",
       "                                                                                            \n",
       "                                                                                            \n",
       "                                                                                            \n",
       "                                                                                            \n",
       "                                                                                            \n",
       "                                                                                            \n",
       "                                                                     0                      \n",
       "                                                                                            \n",
       "                                                                                            \n",
       "\n",
       "                                                                                            \n",
       "                                                                                            \n",
       "                                                                                            \n",
       "                                                                                            \n",
       "                                                                                            \n",
       "                                                                                            \n",
       "                                                                                            \n",
       "                                                                                            \n",
       "                                                                                            \n",
       "                     2                   2    ⎞                                             \n",
       "      2 ⎛∂          ⎞     2 ⎛∂          ⎞     ⎟  -f(t, z)  p(t, z)                          \n",
       ")) + t ⋅⎜──(p(t, z))⎟  - t ⋅⎜──(p(t, z))⎟  - 1⎟⋅ℯ        ⋅ℯ                                 \n",
       "        ⎝∂t         ⎠       ⎝∂z         ⎠     ⎟                                             \n",
       "                                              ⎠                                             \n",
       "──────────────────────────────────────────────────────────────────                          \n",
       "            t                                                                               \n",
       "                                                                                            \n",
       "                                                                    ⎛      2                \n",
       "                                                                    ⎜     ∂                ∂\n",
       "                                                                    ⎜- t⋅───(p(t, z)) + t⋅──\n",
       "                                                                    ⎜      2                \n",
       "                                                                    ⎝    ∂t               ∂z\n",
       "                                                                    ────────────────────────\n",
       "                                                                                            \n",
       "                                                                                            \n",
       "                                                                                            \n",
       "                                                                                            \n",
       "                                                                                            \n",
       "                                                                                            \n",
       "                                                                                            \n",
       "                                                                                            \n",
       "                                                                                            \n",
       "                                                                                            \n",
       "\n",
       "                                                                                            \n",
       "                                                                                            \n",
       "                                                                                            \n",
       "                                                                                            \n",
       "                                                                                            \n",
       "                                                                 0                          \n",
       "                                                                                            \n",
       "                                                                                            \n",
       "                                                                                            \n",
       "                                                                                            \n",
       "                                                                                            \n",
       "                                                                                            \n",
       "                                                                                            \n",
       "                                                                                            \n",
       "                                                                 0                          \n",
       "                                                                                            \n",
       "                                                                                            \n",
       "2                       ⎞                            ⎛       2                   2          \n",
       "             ∂          ⎟  -f(t, z) - p(t, z)        ⎜   2  ∂                2  ∂           \n",
       "─(p(t, z)) - ──(p(t, z))⎟⋅ℯ                     0.25⋅⎜2⋅t ⋅───(f(t, z)) - 2⋅t ⋅───(f(t, z)) \n",
       "2            ∂t         ⎟                            ⎜       2                   2          \n",
       "                        ⎠                            ⎝     ∂t                  ∂z           \n",
       "───────────────────────────────────────────── - ────────────────────────────────────────────\n",
       "          2                                                                                 \n",
       "                                                                                            \n",
       "                                                                                            \n",
       "                                                                                            \n",
       "                                                                                            \n",
       "                                                                                            \n",
       "                                                                                            \n",
       "                                                                 0                          \n",
       "                                                                                            \n",
       "                                                                                            \n",
       "\n",
       "                                                                                            \n",
       "                                                                                            \n",
       "                                                                                            \n",
       "                                                                                            \n",
       "                                                                                            \n",
       "                                                                                            \n",
       "                                                                                            \n",
       "                                                                                            \n",
       "                                                                                            \n",
       "                                                                                            \n",
       "                                                                                            \n",
       "                                                                                            \n",
       "                                                                                            \n",
       "                                                                                            \n",
       "                                                                                            \n",
       "                                                                                            \n",
       "                                                                                            \n",
       "                  2                   2    ⎞                                                \n",
       "   2 ⎛∂          ⎞     2 ⎛∂          ⎞     ⎟  -f(t, z)  -p(t, z)                            \n",
       "+ t ⋅⎜──(p(t, z))⎟  - t ⋅⎜──(p(t, z))⎟  - 1⎟⋅ℯ        ⋅ℯ                                    \n",
       "     ⎝∂t         ⎠       ⎝∂z         ⎠     ⎟                                                \n",
       "                                           ⎠                                                \n",
       "────────────────────────────────────────────────────────────────                            \n",
       "         t                                                                                  \n",
       "                                                                                            \n",
       "                                                                      2                2    \n",
       "                                                                     ∂                ∂     \n",
       "                                                                  t⋅───(f(t, z)) - t⋅───(f(t\n",
       "                                                                      2                2    \n",
       "                                                                    ∂t               ∂z     \n",
       "                                                                  ──────────────────────────\n",
       "                                                                                            \n",
       "                                                                                            \n",
       "\n",
       "                                                                                            \n",
       "                                                                                            \n",
       "                                   ∂           ∂             ∂                              \n",
       "                               - t⋅──(p(t, z))⋅──(p(t, z)) + ──(f(t, z))                    \n",
       "                                   ∂t          ∂z            ∂z                             \n",
       "                               ─────────────────────────────────────────                    \n",
       "                                                  2⋅t                                       \n",
       "                                                                                            \n",
       "                                                                                            \n",
       "                                                                                            \n",
       "                                                                                            \n",
       "                                                                                            \n",
       "                                                                                            \n",
       "                                                                                            \n",
       "                                                   0                                        \n",
       "                                                                                            \n",
       "                                                                                            \n",
       "                                                                                            \n",
       "                                                                                            \n",
       "                                                                                            \n",
       "                                                                                            \n",
       "                                                                                            \n",
       "                                                   0                                        \n",
       "                                                                                            \n",
       "                                                                                            \n",
       "                       2                      ⎛       2                   2                 \n",
       "          ⎛∂          ⎞    ∂                  ⎜   2  ∂                2  ∂              2 ⎛∂\n",
       ", z)) - t⋅⎜──(p(t, z))⎟  + ──(f(t, z))   0.25⋅⎜2⋅t ⋅───(f(t, z)) - 2⋅t ⋅───(f(t, z)) + t ⋅⎜─\n",
       "          ⎝∂z         ⎠    ∂t                 ⎜       2                   2               ⎝∂\n",
       "                                              ⎝     ∂t                  ∂z                  \n",
       "────────────────────────────────────── - ───────────────────────────────────────────────────\n",
       "    2⋅t                                                                              2      \n",
       "                                                                                    t       \n",
       "\n",
       "                                     ⎤\n",
       "                                     ⎥\n",
       "                                     ⎥\n",
       "                                     ⎥\n",
       "                                     ⎥\n",
       "                                     ⎥\n",
       "                                     ⎥\n",
       "                                     ⎥\n",
       "                                     ⎥\n",
       "                                     ⎥\n",
       "                                     ⎥\n",
       "                                     ⎥\n",
       "                                     ⎥\n",
       "                                     ⎥\n",
       "                                     ⎥\n",
       "                                     ⎥\n",
       "                                     ⎥\n",
       "                                     ⎥\n",
       "                                     ⎥\n",
       "                                     ⎥\n",
       "                                     ⎥\n",
       "                                     ⎥\n",
       "                                     ⎥\n",
       "                                     ⎥\n",
       "                                     ⎥\n",
       "           2                   2    ⎞⎥\n",
       "          ⎞     2 ⎛∂          ⎞     ⎟⎥\n",
       "─(p(t, z))⎟  - t ⋅⎜──(p(t, z))⎟  - 1⎟⎥\n",
       "t         ⎠       ⎝∂z         ⎠     ⎟⎥\n",
       "                                    ⎠⎥\n",
       "─────────────────────────────────────⎥\n",
       "                                     ⎥\n",
       "                                     ⎦"
      ]
     },
     "execution_count": 18,
     "metadata": {},
     "output_type": "execute_result"
    }
   ],
   "source": [
    "einst = EinsteinTensor.from_metric(metric)\n",
    "einst.tensor()"
   ]
  },
  {
   "cell_type": "code",
   "execution_count": 19,
   "id": "6d97cfa5",
   "metadata": {},
   "outputs": [],
   "source": [
    "#  rm1 = RiemannCurvatureTensor.from_christoffels(ch)\n",
    "#  rm1.tensor()"
   ]
  },
  {
   "cell_type": "code",
   "execution_count": 20,
   "id": "a03ba7e8",
   "metadata": {},
   "outputs": [],
   "source": [
    "#  weyl = WeylTensor.from_metric(metric)\n",
    "#  weyl.tensor()"
   ]
  },
  {
   "cell_type": "code",
   "execution_count": 21,
   "id": "83f4f99b",
   "metadata": {},
   "outputs": [
    {
     "data": {
      "image/png": "[encoded data removed]",
      "text/latex": [
       "$\\displaystyle \\frac{\\partial}{\\partial z} f{\\left(t,z \\right)} = t \\frac{\\partial}{\\partial t} p{\\left(t,z \\right)} \\frac{\\partial}{\\partial z} p{\\left(t,z \\right)}$"
      ],
      "text/plain": [
       "∂               ∂           ∂          \n",
       "──(f(t, z)) = t⋅──(p(t, z))⋅──(p(t, z))\n",
       "∂z              ∂t          ∂z         "
      ]
     },
     "execution_count": 21,
     "metadata": {},
     "output_type": "execute_result"
    }
   ],
   "source": [
    "fieldEquation2 = Eq(  diff(f,z) , solve( einst.tensor()[3,0], diff(f,z) )[0] ) \n",
    "fieldEquation2"
   ]
  },
  {
   "cell_type": "code",
   "execution_count": 22,
   "id": "4a1f014b",
   "metadata": {},
   "outputs": [
    {
     "data": {
      "image/png": "[encoded data removed]",
      "text/latex": [
       "$\\displaystyle \\frac{\\partial}{\\partial t} f{\\left(t,z \\right)} = 0.5 t \\left(\\frac{\\partial}{\\partial t} p{\\left(t,z \\right)}\\right)^{2} + 0.5 t \\left(\\frac{\\partial}{\\partial z} p{\\left(t,z \\right)}\\right)^{2} - \\frac{0.5}{t}$"
      ],
      "text/plain": [
       "                                 2                      2      \n",
       "∂                   ⎛∂          ⎞          ⎛∂          ⎞    0.5\n",
       "──(f(t, z)) = 0.5⋅t⋅⎜──(p(t, z))⎟  + 0.5⋅t⋅⎜──(p(t, z))⎟  - ───\n",
       "∂t                  ⎝∂t         ⎠          ⎝∂z         ⎠     t "
      ]
     },
     "execution_count": 22,
     "metadata": {},
     "output_type": "execute_result"
    }
   ],
   "source": [
    "fieldEquation3 = Eq(diff(f,t),expand(solve(simplify(einst.tensor()[0,0]), diff(f,t)) [0]))\n",
    "fieldEquation3"
   ]
  },
  {
   "cell_type": "code",
   "execution_count": 23,
   "id": "b0f7b662",
   "metadata": {},
   "outputs": [
    {
     "data": {
      "image/png": "[encoded data removed]",
      "text/latex": [
       "$\\displaystyle - 1.0 t^{2} \\frac{\\partial^{2}}{\\partial t^{2}} f{\\left(t,z \\right)} + t^{2} \\frac{\\partial^{2}}{\\partial z^{2}} f{\\left(t,z \\right)} - 0.5 t^{2} \\left(\\frac{\\partial}{\\partial t} p{\\left(t,z \\right)}\\right)^{2} + 0.5 t^{2} \\left(\\frac{\\partial}{\\partial z} p{\\left(t,z \\right)}\\right)^{2} - t \\left(t \\frac{\\partial^{2}}{\\partial t^{2}} p{\\left(t,z \\right)} - t \\frac{\\partial^{2}}{\\partial z^{2}} p{\\left(t,z \\right)} + \\frac{\\partial}{\\partial t} p{\\left(t,z \\right)}\\right) + 0.5$"
      ],
      "text/plain": [
       "       2                 2                                2                       2     ⎛   \n",
       "   2  ∂              2  ∂                  2 ⎛∂          ⎞         2 ⎛∂          ⎞      ⎜   \n",
       "- t ⋅───(f(t, z)) + t ⋅───(f(t, z)) - 0.5⋅t ⋅⎜──(p(t, z))⎟  + 0.5⋅t ⋅⎜──(p(t, z))⎟  - t⋅⎜t⋅─\n",
       "       2                 2                   ⎝∂t         ⎠           ⎝∂z         ⎠      ⎜   \n",
       "     ∂t                ∂z                                                               ⎝  ∂\n",
       "\n",
       " 2                2                       ⎞      \n",
       "∂                ∂             ∂          ⎟      \n",
       "──(p(t, z)) - t⋅───(p(t, z)) + ──(p(t, z))⎟ + 0.5\n",
       " 2                2            ∂t         ⎟      \n",
       "t               ∂z                        ⎠      "
      ]
     },
     "execution_count": 23,
     "metadata": {},
     "output_type": "execute_result"
    }
   ],
   "source": [
    "simplify(einst.tensor()[2,2]).args[2]"
   ]
  },
  {
   "cell_type": "code",
   "execution_count": 24,
   "id": "db46626d",
   "metadata": {},
   "outputs": [
    {
     "data": {
      "image/png": "[encoded data removed]",
      "text/latex": [
       "$\\displaystyle - 0.25 \\left(\\frac{\\partial}{\\partial t} p{\\left(t,z \\right)}\\right)^{2} - 0.25 \\left(\\frac{\\partial}{\\partial z} p{\\left(t,z \\right)}\\right)^{2} + \\frac{0.5 \\frac{\\partial}{\\partial t} f{\\left(t,z \\right)}}{t} + \\frac{0.25}{t^{2}}$"
      ],
      "text/plain": [
       "                                                  ∂                 \n",
       "                    2                     2   0.5⋅──(f(t, z))       \n",
       "       ⎛∂          ⎞         ⎛∂          ⎞        ∂t            0.25\n",
       "- 0.25⋅⎜──(p(t, z))⎟  - 0.25⋅⎜──(p(t, z))⎟  + ─────────────── + ────\n",
       "       ⎝∂t         ⎠         ⎝∂z         ⎠           t            2 \n",
       "                                                                 t  "
      ]
     },
     "execution_count": 24,
     "metadata": {},
     "output_type": "execute_result"
    }
   ],
   "source": [
    " simplify(einst.tensor()[3,3])"
   ]
  },
  {
   "cell_type": "code",
   "execution_count": 25,
   "id": "b83b01d1",
   "metadata": {},
   "outputs": [
    {
     "data": {
      "image/png": "[encoded data removed]",
      "text/latex": [
       "$\\displaystyle \\frac{\\partial^{2}}{\\partial t^{2}} p{\\left(t,z \\right)} = \\frac{\\partial^{2}}{\\partial z^{2}} p{\\left(t,z \\right)} - \\frac{\\frac{\\partial}{\\partial t} p{\\left(t,z \\right)}}{t}$"
      ],
      "text/plain": [
       "                              ∂          \n",
       "  2              2            ──(p(t, z))\n",
       " ∂              ∂             ∂t         \n",
       "───(p(t, z)) = ───(p(t, z)) - ───────────\n",
       "  2              2                 t     \n",
       "∂t             ∂z                        "
      ]
     },
     "execution_count": 25,
     "metadata": {},
     "output_type": "execute_result"
    }
   ],
   "source": [
    "fieldEquation1 = Eq(diff(p,t,t),solve( simplify(einst.tensor()[1,1]).args[2]-simplify(einst.tensor()[2,2]).args[2], diff(p,t,t) )[0])\n",
    "fieldEquation1"
   ]
  },
  {
   "cell_type": "code",
   "execution_count": 26,
   "id": "b8a42cb6",
   "metadata": {},
   "outputs": [
    {
     "name": "stderr",
     "output_type": "stream",
     "text": [
      "/opt/anaconda3/lib/python3.8/site-packages/sympy/matrices/repmatrix.py:98: SymPyDeprecationWarning: \n",
      "\n",
      "non-Expr objects in a Matrix has been deprecated since SymPy 1.9. Use\n",
      "list of lists, TableForm or some other data structure instead. See\n",
      "https://github.com/sympy/sympy/issues/21497 for more info.\n",
      "\n",
      "  SymPyDeprecationWarning(\n"
     ]
    },
    {
     "data": {
      "text/latex": [
       "$\\displaystyle \\left[\\begin{matrix}\\frac{\\partial^{2}}{\\partial t^{2}} p{\\left(t,z \\right)} = \\frac{\\partial^{2}}{\\partial z^{2}} p{\\left(t,z \\right)} - \\frac{\\frac{\\partial}{\\partial t} p{\\left(t,z \\right)}}{t}\\\\\\frac{\\partial}{\\partial z} f{\\left(t,z \\right)} = t \\frac{\\partial}{\\partial t} p{\\left(t,z \\right)} \\frac{\\partial}{\\partial z} p{\\left(t,z \\right)}\\\\\\frac{\\partial}{\\partial t} f{\\left(t,z \\right)} = 0.5 t \\left(\\frac{\\partial}{\\partial t} p{\\left(t,z \\right)}\\right)^{2} + 0.5 t \\left(\\frac{\\partial}{\\partial z} p{\\left(t,z \\right)}\\right)^{2} - \\frac{0.5}{t}\\end{matrix}\\right]$"
      ],
      "text/plain": [
       "⎡                                         ∂                     ⎤\n",
       "⎢             2              2            ──(p(t, z))           ⎥\n",
       "⎢            ∂              ∂             ∂t                    ⎥\n",
       "⎢           ───(p(t, z)) = ───(p(t, z)) - ───────────           ⎥\n",
       "⎢             2              2                 t                ⎥\n",
       "⎢           ∂t             ∂z                                   ⎥\n",
       "⎢                                                               ⎥\n",
       "⎢            ∂               ∂           ∂                      ⎥\n",
       "⎢            ──(f(t, z)) = t⋅──(p(t, z))⋅──(p(t, z))            ⎥\n",
       "⎢            ∂z              ∂t          ∂z                     ⎥\n",
       "⎢                                                               ⎥\n",
       "⎢                                 2                      2      ⎥\n",
       "⎢∂                   ⎛∂          ⎞          ⎛∂          ⎞    0.5⎥\n",
       "⎢──(f(t, z)) = 0.5⋅t⋅⎜──(p(t, z))⎟  + 0.5⋅t⋅⎜──(p(t, z))⎟  - ───⎥\n",
       "⎣∂t                  ⎝∂t         ⎠          ⎝∂z         ⎠     t ⎦"
      ]
     },
     "execution_count": 26,
     "metadata": {},
     "output_type": "execute_result"
    }
   ],
   "source": [
    "vacuumFieldEquations = Matrix([fieldEquation1,fieldEquation2,fieldEquation3])\n",
    "vacuumFieldEquations"
   ]
  },
  {
   "cell_type": "code",
   "execution_count": 27,
   "id": "6682dad3",
   "metadata": {},
   "outputs": [],
   "source": [
    "from sympy import *"
   ]
  },
  {
   "cell_type": "code",
   "execution_count": 28,
   "id": "8bb0ba00",
   "metadata": {},
   "outputs": [],
   "source": [
    "X, Y = map(Function, 'XY')"
   ]
  },
  {
   "cell_type": "code",
   "execution_count": 29,
   "id": "7d13e78c",
   "metadata": {},
   "outputs": [
    {
     "data": {
      "image/png": "[encoded data removed]",
      "text/latex": [
       "$\\displaystyle \\frac{\\partial^{2}}{\\partial t^{2}} p{\\left(t,z \\right)} = \\frac{\\partial^{2}}{\\partial z^{2}} p{\\left(t,z \\right)} - \\frac{\\frac{\\partial}{\\partial t} p{\\left(t,z \\right)}}{t}$"
      ],
      "text/plain": [
       "                              ∂          \n",
       "  2              2            ──(p(t, z))\n",
       " ∂              ∂             ∂t         \n",
       "───(p(t, z)) = ───(p(t, z)) - ───────────\n",
       "  2              2                 t     \n",
       "∂t             ∂z                        "
      ]
     },
     "execution_count": 29,
     "metadata": {},
     "output_type": "execute_result"
    }
   ],
   "source": [
    "eq = vacuumFieldEquations[0]\n",
    "eq"
   ]
  },
  {
   "cell_type": "code",
   "execution_count": 32,
   "id": "49892b94",
   "metadata": {},
   "outputs": [
    {
     "data": {
      "image/png": "[encoded data removed]",
      "text/latex": [
       "$\\displaystyle \\frac{\\frac{d^{2}}{d z^{2}} X{\\left(z \\right)}}{X{\\left(z \\right)}} = - k^{2}$"
      ],
      "text/plain": [
       "  2            \n",
       " d             \n",
       "───(X(z))      \n",
       "  2            \n",
       "dz            2\n",
       "───────── = -k \n",
       "   X(z)        "
      ]
     },
     "execution_count": 32,
     "metadata": {},
     "output_type": "execute_result"
    }
   ],
   "source": [
    "xODE = Eq(pde_separate( eq, p, [X(z),Y(t)])[0] , - k**2 ) \n",
    "xODE"
   ]
  },
  {
   "cell_type": "code",
   "execution_count": 33,
   "id": "3a403a88",
   "metadata": {},
   "outputs": [
    {
     "data": {
      "image/png": "[encoded data removed]",
      "text/latex": [
       "$\\displaystyle X{\\left(z \\right)} = C_{1} \\sin{\\left(z \\left|{k}\\right| \\right)} + C_{2} \\cos{\\left(k z \\right)}$"
      ],
      "text/plain": [
       "X(z) = C₁⋅sin(z⋅│k│) + C₂⋅cos(k⋅z)"
      ]
     },
     "execution_count": 33,
     "metadata": {},
     "output_type": "execute_result"
    }
   ],
   "source": [
    "xSolution = dsolve( xODE , X(z))\n",
    "xSolution "
   ]
  },
  {
   "cell_type": "code",
   "execution_count": 36,
   "id": "3a81f114",
   "metadata": {},
   "outputs": [
    {
     "data": {
      "image/png": "[encoded data removed]",
      "text/latex": [
       "$\\displaystyle \\frac{\\frac{d^{2}}{d t^{2}} Y{\\left(t \\right)}}{Y{\\left(t \\right)}} + \\frac{\\frac{d}{d t} Y{\\left(t \\right)}}{t Y{\\left(t \\right)}} = k^{2}$"
      ],
      "text/plain": [
       "  2                      \n",
       " d                       \n",
       "───(Y(t))   d            \n",
       "  2         ──(Y(t))     \n",
       "dt          dt          2\n",
       "───────── + ──────── = k \n",
       "   Y(t)      t⋅Y(t)      "
      ]
     },
     "execution_count": 36,
     "metadata": {},
     "output_type": "execute_result"
    }
   ],
   "source": [
    "yODE = Eq( pde_separate( eq, p, [X(z),Y(t)])[1] ,  k**2 ) \n",
    "yODE"
   ]
  },
  {
   "cell_type": "code",
   "execution_count": 37,
   "id": "87ab8395",
   "metadata": {},
   "outputs": [
    {
     "data": {
      "image/png": "[encoded data removed]",
      "text/latex": [
       "$\\displaystyle Y{\\left(t \\right)} = C_{1} I_{0}\\left(t \\left|{k}\\right|\\right) + C_{2} Y_{0}\\left(i t \\left|{k}\\right|\\right)$"
      ],
      "text/plain": [
       "Y(t) = C₁⋅besseli(0, t⋅│k│) + C₂⋅bessely(0, ⅈ⋅t⋅│k│)"
      ]
     },
     "execution_count": 37,
     "metadata": {},
     "output_type": "execute_result"
    }
   ],
   "source": [
    "ySolution = dsolve( yODE , Y(t))\n",
    "ySolution "
   ]
  },
  {
   "cell_type": "code",
   "execution_count": null,
   "id": "d6aaf59f",
   "metadata": {},
   "outputs": [],
   "source": []
  }
 ],
 "metadata": {
  "@webio": {
   "lastCommId": "752b8be67f78461080d7d545912a7f91",
   "lastKernelId": "7f862afb-e14c-4b12-bba5-6890cb0b98c0"
  },
  "kernelspec": {
   "display_name": "Python 3 (ipykernel)",
   "language": "python",
   "name": "python3"
  },
  "language_info": {
   "codemirror_mode": {
    "name": "ipython",
    "version": 3
   },
   "file_extension": ".py",
   "mimetype": "text/x-python",
   "name": "python",
   "nbconvert_exporter": "python",
   "pygments_lexer": "ipython3",
   "version": "3.8.8"
  }
 },
 "nbformat": 4,
 "nbformat_minor": 5
}
