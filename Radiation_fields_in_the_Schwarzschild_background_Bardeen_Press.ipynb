{
 "cells": [
  {
   "cell_type": "markdown",
   "id": "5c932311",
   "metadata": {},
   "source": [
    "# Radiation fields in the Schwarzschild background - Bardeen & Press\n",
    "##  Geoff Cope\n",
    "##  Univeristy of Utah\n",
    "##  𐐏𐐭𐑌𐐲𐑂𐐲𐑉𐑅𐐮𐐻𐐨 𐐲𐑂 𐐏𐐭𐐻𐐫\n",
    "##  December 26, 2021"
   ]
  },
  {
   "cell_type": "markdown",
   "id": "fc093e7a",
   "metadata": {},
   "source": [
    "https://authors.library.caltech.edu/11899/"
   ]
  },
  {
   "cell_type": "code",
   "execution_count": 1,
   "id": "0d5a90d9",
   "metadata": {},
   "outputs": [
    {
     "name": "stdout",
     "output_type": "stream",
     "text": [
      "IPython console for SymPy 1.9 (Python 3.8.8-64-bit) (ground types: gmpy)\n",
      "\n",
      "These commands were executed:\n",
      ">>> from __future__ import division\n",
      ">>> from sympy import *\n",
      ">>> x, y, z, t = symbols('x y z t')\n",
      ">>> k, m, n = symbols('k m n', integer=True)\n",
      ">>> f, g, h = symbols('f g h', cls=Function)\n",
      ">>> init_printing()\n",
      "\n",
      "Documentation can be found at https://docs.sympy.org/1.9/\n",
      "\n"
     ]
    }
   ],
   "source": [
    "from sympy import init_session\n",
    "init_session(use_latex=True)"
   ]
  },
  {
   "cell_type": "code",
   "execution_count": 2,
   "id": "b2d0b4a4",
   "metadata": {},
   "outputs": [],
   "source": [
    "import warnings\n",
    "import matplotlib.cbook\n",
    "warnings.filterwarnings(\"ignore\",category=matplotlib.cbook.mplDeprecation)"
   ]
  },
  {
   "cell_type": "code",
   "execution_count": 4,
   "id": "1060eb54",
   "metadata": {},
   "outputs": [],
   "source": [
    "m,u,r,theta,phi,du,dr,dtheta,dphi = symbols( 'm u r theta phi du dr dtheta dphi' ) "
   ]
  },
  {
   "cell_type": "code",
   "execution_count": 5,
   "id": "80f13a77",
   "metadata": {},
   "outputs": [
    {
     "data": {
      "text/latex": [
       "$\\displaystyle \\left[\\begin{matrix}u\\\\r\\\\\\theta\\\\\\phi\\end{matrix}\\right]$"
      ],
      "text/plain": [
       "⎡u⎤\n",
       "⎢ ⎥\n",
       "⎢r⎥\n",
       "⎢ ⎥\n",
       "⎢θ⎥\n",
       "⎢ ⎥\n",
       "⎣φ⎦"
      ]
     },
     "execution_count": 5,
     "metadata": {},
     "output_type": "execute_result"
    }
   ],
   "source": [
    "variables = Matrix( [u,r,theta,phi] )\n",
    "variables"
   ]
  },
  {
   "cell_type": "code",
   "execution_count": 6,
   "id": "739f84e1",
   "metadata": {},
   "outputs": [
    {
     "data": {
      "text/latex": [
       "$\\displaystyle \\left[\\begin{matrix}du\\\\dr\\\\dtheta\\\\dphi\\end{matrix}\\right]$"
      ],
      "text/plain": [
       "⎡  du  ⎤\n",
       "⎢      ⎥\n",
       "⎢  dr  ⎥\n",
       "⎢      ⎥\n",
       "⎢dtheta⎥\n",
       "⎢      ⎥\n",
       "⎣ dphi ⎦"
      ]
     },
     "execution_count": 6,
     "metadata": {},
     "output_type": "execute_result"
    }
   ],
   "source": [
    "differentials = Matrix( [du,dr,dtheta,dphi] )\n",
    "differentials"
   ]
  },
  {
   "cell_type": "code",
   "execution_count": 7,
   "id": "a77c237a",
   "metadata": {},
   "outputs": [
    {
     "data": {
      "image/png": "[encoded data removed]",
      "text/latex": [
       "$\\displaystyle - dphi^{2} r^{2} \\sin^{2}{\\left(\\theta \\right)} + 2 dr du - dtheta^{2} r^{2} - \\frac{2 du^{2} m}{r} + du^{2}$"
      ],
      "text/plain": [
       "                                                2        \n",
       "      2  2    2                      2  2   2⋅du ⋅m     2\n",
       "- dphi ⋅r ⋅sin (θ) + 2⋅dr⋅du - dtheta ⋅r  - ─────── + du \n",
       "                                               r         "
      ]
     },
     "execution_count": 7,
     "metadata": {},
     "output_type": "execute_result"
    }
   ],
   "source": [
    "lineElement = expand(( 1 - (2*m)/r)*du**2 + 2*du*dr - r**2 * (dtheta**2 + sin(theta)**2 * dphi**2 ))\n",
    "lineElement"
   ]
  },
  {
   "cell_type": "code",
   "execution_count": 8,
   "id": "8a04dca4",
   "metadata": {},
   "outputs": [
    {
     "data": {
      "text/latex": [
       "$\\displaystyle \\left[\\begin{matrix}- \\frac{2 m}{r} + 1 & 1 & 0 & 0\\\\1 & 0 & 0 & 0\\\\0 & 0 & - r^{2} & 0\\\\0 & 0 & 0 & - r^{2} \\sin^{2}{\\left(\\theta \\right)}\\end{matrix}\\right]$"
      ],
      "text/plain": [
       "⎡  2⋅m                         ⎤\n",
       "⎢- ─── + 1  1   0        0     ⎥\n",
       "⎢   r                          ⎥\n",
       "⎢                              ⎥\n",
       "⎢    1      0   0        0     ⎥\n",
       "⎢                              ⎥\n",
       "⎢                2             ⎥\n",
       "⎢    0      0  -r        0     ⎥\n",
       "⎢                              ⎥\n",
       "⎢                     2    2   ⎥\n",
       "⎣    0      0   0   -r ⋅sin (θ)⎦"
      ]
     },
     "execution_count": 8,
     "metadata": {},
     "output_type": "execute_result"
    }
   ],
   "source": [
    "g = zeros(4)\n",
    "\n",
    "for i in range(4):\n",
    "    for j in range(4):\n",
    "        if i == j:\n",
    "            g[i,j] = lineElement.coeff( differentials[i],2 ) \n",
    "        else:\n",
    "            g[i,j] = Rational(1,2)*lineElement.coeff( differentials[i]*differentials[j],1 )\n",
    "            \n",
    "g"
   ]
  },
  {
   "cell_type": "code",
   "execution_count": 9,
   "id": "cb863778",
   "metadata": {},
   "outputs": [],
   "source": [
    "import sympy"
   ]
  },
  {
   "cell_type": "code",
   "execution_count": 10,
   "id": "04905931",
   "metadata": {},
   "outputs": [
    {
     "data": {
      "text/latex": [
       "$\\displaystyle \\left[\\begin{matrix}- \\frac{2 m}{r} + 1 & 1 & 0 & 0\\\\1 & 0 & 0 & 0\\\\0 & 0 & - r^{2} & 0\\\\0 & 0 & 0 & - r^{2} \\sin^{2}{\\left(\\theta \\right)}\\end{matrix}\\right]$"
      ],
      "text/plain": [
       "⎡  2⋅m                         ⎤\n",
       "⎢- ─── + 1  1   0        0     ⎥\n",
       "⎢   r                          ⎥\n",
       "⎢                              ⎥\n",
       "⎢    1      0   0        0     ⎥\n",
       "⎢                              ⎥\n",
       "⎢                2             ⎥\n",
       "⎢    0      0  -r        0     ⎥\n",
       "⎢                              ⎥\n",
       "⎢                     2    2   ⎥\n",
       "⎣    0      0   0   -r ⋅sin (θ)⎦"
      ]
     },
     "execution_count": 10,
     "metadata": {},
     "output_type": "execute_result"
    }
   ],
   "source": [
    "m = sympy.Array(g)\n",
    "m"
   ]
  },
  {
   "cell_type": "code",
   "execution_count": 11,
   "id": "d892496c",
   "metadata": {},
   "outputs": [],
   "source": [
    "from einsteinpy.symbolic import *"
   ]
  },
  {
   "cell_type": "code",
   "execution_count": 12,
   "id": "b59cd050",
   "metadata": {},
   "outputs": [],
   "source": [
    "syms = sympy.symbols(\"u r theta phi\")\n",
    "u,r,theta,phi = syms"
   ]
  },
  {
   "cell_type": "code",
   "execution_count": 13,
   "id": "fedca902",
   "metadata": {},
   "outputs": [],
   "source": [
    "metric = MetricTensor(m,syms)"
   ]
  },
  {
   "cell_type": "code",
   "execution_count": 14,
   "id": "a3a44025",
   "metadata": {},
   "outputs": [
    {
     "data": {
      "text/latex": [
       "$\\displaystyle \\left[\\begin{matrix}\\left[\\begin{matrix}- \\frac{m}{r^{2}} & 0 & 0 & 0\\\\0 & 0 & 0 & 0\\\\0 & 0 & r & 0\\\\0 & 0 & 0 & r \\sin^{2}{\\left(\\theta \\right)}\\end{matrix}\\right] & \\left[\\begin{matrix}\\frac{m \\left(- 2 m + r\\right)}{r^{3}} & \\frac{m}{r^{2}} & 0 & 0\\\\\\frac{m}{r^{2}} & 0 & 0 & 0\\\\0 & 0 & 2 m - r & 0\\\\0 & 0 & 0 & \\left(2 m - r\\right) \\sin^{2}{\\left(\\theta \\right)}\\end{matrix}\\right] & \\left[\\begin{matrix}0 & 0 & 0 & 0\\\\0 & 0 & \\frac{1}{r} & 0\\\\0 & \\frac{1}{r} & 0 & 0\\\\0 & 0 & 0 & - \\frac{\\sin{\\left(2 \\theta \\right)}}{2}\\end{matrix}\\right] & \\left[\\begin{matrix}0 & 0 & 0 & 0\\\\0 & 0 & 0 & \\frac{1}{r}\\\\0 & 0 & 0 & \\frac{1}{\\tan{\\left(\\theta \\right)}}\\\\0 & \\frac{1}{r} & \\frac{1}{\\tan{\\left(\\theta \\right)}} & 0\\end{matrix}\\right]\\end{matrix}\\right]$"
      ],
      "text/plain": [
       "⎡                        ⎡m⋅(-2⋅m + r)  m                             ⎤                     \n",
       "⎢                        ⎢────────────  ──     0             0        ⎥  ⎡0  0  0      0    \n",
       "⎢⎡-m                  ⎤  ⎢      3        2                            ⎥  ⎢                  \n",
       "⎢⎢───  0  0      0    ⎥  ⎢     r        r                             ⎥  ⎢      1           \n",
       "⎢⎢  2                 ⎥  ⎢                                            ⎥  ⎢0  0  ─      0    \n",
       "⎢⎢ r                  ⎥  ⎢     m                                      ⎥  ⎢      r           \n",
       "⎢⎢                    ⎥  ⎢     ──       0      0             0        ⎥  ⎢                  \n",
       "⎢⎢ 0   0  0      0    ⎥  ⎢      2                                     ⎥  ⎢   1              \n",
       "⎢⎢                    ⎥  ⎢     r                                      ⎥  ⎢0  ─  0      0    \n",
       "⎢⎢ 0   0  r      0    ⎥  ⎢                                            ⎥  ⎢   r              \n",
       "⎢⎢                    ⎥  ⎢     0        0   2⋅m - r          0        ⎥  ⎢                  \n",
       "⎢⎢                2   ⎥  ⎢                                            ⎥  ⎢         -sin(2⋅θ)\n",
       "⎢⎣ 0   0  0  r⋅sin (θ)⎦  ⎢                                        2   ⎥  ⎢0  0  0  ─────────\n",
       "⎣                        ⎣     0        0      0     (2⋅m - r)⋅sin (θ)⎦  ⎣             2    \n",
       "\n",
       "                          ⎤\n",
       " ⎤  ⎡0  0    0       0   ⎤⎥\n",
       " ⎥  ⎢                    ⎥⎥\n",
       " ⎥  ⎢                1   ⎥⎥\n",
       " ⎥  ⎢0  0    0       ─   ⎥⎥\n",
       " ⎥  ⎢                r   ⎥⎥\n",
       " ⎥  ⎢                    ⎥⎥\n",
       " ⎥  ⎢                1   ⎥⎥\n",
       " ⎥  ⎢0  0    0     ──────⎥⎥\n",
       " ⎥  ⎢              tan(θ)⎥⎥\n",
       " ⎥  ⎢                    ⎥⎥\n",
       " ⎥  ⎢   1    1           ⎥⎥\n",
       "─⎥  ⎢0  ─  ──────    0   ⎥⎥\n",
       " ⎦  ⎣   r  tan(θ)        ⎦⎦"
      ]
     },
     "execution_count": 14,
     "metadata": {},
     "output_type": "execute_result"
    }
   ],
   "source": [
    "ch = ChristoffelSymbols.from_metric(metric)\n",
    "simplify(ch.tensor())"
   ]
  },
  {
   "cell_type": "code",
   "execution_count": 15,
   "id": "bc16d65b",
   "metadata": {},
   "outputs": [
    {
     "data": {
      "text/latex": [
       "$\\displaystyle \\left[\\begin{matrix}0 & 0 & 0 & 0\\\\0 & 0 & 0 & 0\\\\0 & 0 & 0 & 0\\\\0 & 0 & 0 & 0\\end{matrix}\\right]$"
      ],
      "text/plain": [
       "⎡0  0  0  0⎤\n",
       "⎢          ⎥\n",
       "⎢0  0  0  0⎥\n",
       "⎢          ⎥\n",
       "⎢0  0  0  0⎥\n",
       "⎢          ⎥\n",
       "⎣0  0  0  0⎦"
      ]
     },
     "execution_count": 15,
     "metadata": {},
     "output_type": "execute_result"
    }
   ],
   "source": [
    "Ric = RicciTensor.from_metric(metric)\n",
    "Ric.tensor()"
   ]
  },
  {
   "cell_type": "code",
   "execution_count": 16,
   "id": "a15eab52",
   "metadata": {},
   "outputs": [
    {
     "data": {
      "image/png": "[encoded data removed]",
      "text/latex": [
       "$\\displaystyle 0$"
      ],
      "text/plain": [
       "0"
      ]
     },
     "execution_count": 16,
     "metadata": {},
     "output_type": "execute_result"
    }
   ],
   "source": [
    "R = RicciScalar.from_riccitensor(Ric)\n",
    "R.simplify()\n",
    "R.expr"
   ]
  },
  {
   "cell_type": "code",
   "execution_count": 17,
   "id": "2b6cf739",
   "metadata": {},
   "outputs": [
    {
     "data": {
      "text/latex": [
       "$\\displaystyle \\left[\\begin{matrix}0 & 0 & 0 & 0\\\\0 & 0 & 0 & 0\\\\0 & 0 & 0 & 0\\\\0 & 0 & 0 & 0\\end{matrix}\\right]$"
      ],
      "text/plain": [
       "⎡0  0  0  0⎤\n",
       "⎢          ⎥\n",
       "⎢0  0  0  0⎥\n",
       "⎢          ⎥\n",
       "⎢0  0  0  0⎥\n",
       "⎢          ⎥\n",
       "⎣0  0  0  0⎦"
      ]
     },
     "execution_count": 17,
     "metadata": {},
     "output_type": "execute_result"
    }
   ],
   "source": [
    "einst = EinsteinTensor.from_metric(metric)\n",
    "einst.tensor()"
   ]
  },
  {
   "cell_type": "code",
   "execution_count": 18,
   "id": "41397824",
   "metadata": {},
   "outputs": [
    {
     "data": {
      "text/latex": [
       "$\\displaystyle \\left[\\begin{matrix}\\left[\\begin{matrix}0 & - \\frac{2 m}{r^{3}} & 0 & 0\\\\\\frac{2 m}{r^{3}} & 0 & 0 & 0\\\\0 & 0 & 0 & 0\\\\0 & 0 & 0 & 0\\end{matrix}\\right] & \\left[\\begin{matrix}0 & 0 & 0 & 0\\\\0 & 0 & 0 & 0\\\\0 & 0 & 0 & 0\\\\0 & 0 & 0 & 0\\end{matrix}\\right] & \\left[\\begin{matrix}0 & 0 & - \\frac{m}{r} & 0\\\\0 & 0 & 0 & 0\\\\\\frac{m}{r} & 0 & 0 & 0\\\\0 & 0 & 0 & 0\\end{matrix}\\right] & \\left[\\begin{matrix}0 & 0 & 0 & - \\frac{m \\sin^{2}{\\left(\\theta \\right)}}{r}\\\\0 & 0 & 0 & 0\\\\0 & 0 & 0 & 0\\\\\\frac{m \\sin^{2}{\\left(\\theta \\right)}}{r} & 0 & 0 & 0\\end{matrix}\\right]\\\\\\left[\\begin{matrix}0 & \\frac{2 m \\left(- 2 m + r\\right)}{r^{4}} & 0 & 0\\\\\\frac{2 m \\left(2 m - r\\right)}{r^{4}} & 0 & 0 & 0\\\\0 & 0 & 0 & 0\\\\0 & 0 & 0 & 0\\end{matrix}\\right] & \\left[\\begin{matrix}0 & \\frac{2 m}{r^{3}} & 0 & 0\\\\- \\frac{2 m}{r^{3}} & 0 & 0 & 0\\\\0 & 0 & 0 & 0\\\\0 & 0 & 0 & 0\\end{matrix}\\right] & \\left[\\begin{matrix}0 & 0 & 0 & 0\\\\0 & 0 & - \\frac{m}{r} & 0\\\\0 & \\frac{m}{r} & 0 & 0\\\\0 & 0 & 0 & 0\\end{matrix}\\right] & \\left[\\begin{matrix}0 & 0 & 0 & 0\\\\0 & 0 & 0 & - \\frac{m \\sin^{2}{\\left(\\theta \\right)}}{r}\\\\0 & 0 & 0 & 0\\\\0 & \\frac{m \\sin^{2}{\\left(\\theta \\right)}}{r} & 0 & 0\\end{matrix}\\right]\\\\\\left[\\begin{matrix}0 & 0 & \\frac{m \\left(2 m - r\\right)}{r^{4}} & 0\\\\0 & 0 & - \\frac{m}{r^{3}} & 0\\\\\\frac{m \\left(- 2 m + r\\right)}{r^{4}} & \\frac{m}{r^{3}} & 0 & 0\\\\0 & 0 & 0 & 0\\end{matrix}\\right] & \\left[\\begin{matrix}0 & 0 & - \\frac{m}{r^{3}} & 0\\\\0 & 0 & 0 & 0\\\\\\frac{m}{r^{3}} & 0 & 0 & 0\\\\0 & 0 & 0 & 0\\end{matrix}\\right] & \\left[\\begin{matrix}0 & 0 & 0 & 0\\\\0 & 0 & 0 & 0\\\\0 & 0 & 0 & 0\\\\0 & 0 & 0 & 0\\end{matrix}\\right] & \\left[\\begin{matrix}0 & 0 & 0 & 0\\\\0 & 0 & 0 & 0\\\\0 & 0 & 0 & \\frac{2 m \\sin^{2}{\\left(\\theta \\right)}}{r}\\\\0 & 0 & - \\frac{2 m \\sin^{2}{\\left(\\theta \\right)}}{r} & 0\\end{matrix}\\right]\\\\\\left[\\begin{matrix}0 & 0 & 0 & \\frac{m \\left(2 m - r\\right)}{r^{4}}\\\\0 & 0 & 0 & - \\frac{m}{r^{3}}\\\\0 & 0 & 0 & 0\\\\\\frac{m \\left(- 2 m + r\\right)}{r^{4}} & \\frac{m}{r^{3}} & 0 & 0\\end{matrix}\\right] & \\left[\\begin{matrix}0 & 0 & 0 & - \\frac{m}{r^{3}}\\\\0 & 0 & 0 & 0\\\\0 & 0 & 0 & 0\\\\\\frac{m}{r^{3}} & 0 & 0 & 0\\end{matrix}\\right] & \\left[\\begin{matrix}0 & 0 & 0 & 0\\\\0 & 0 & 0 & 0\\\\0 & 0 & 0 & - \\frac{2 m}{r}\\\\0 & 0 & \\frac{2 m}{r} & 0\\end{matrix}\\right] & \\left[\\begin{matrix}0 & 0 & 0 & 0\\\\0 & 0 & 0 & 0\\\\0 & 0 & 0 & 0\\\\0 & 0 & 0 & 0\\end{matrix}\\right]\\end{matrix}\\right]$"
      ],
      "text/plain": [
       "⎡         ⎡     -2⋅m       ⎤                                                      ⎡         \n",
       "⎢         ⎢ 0   ─────  0  0⎥                                  ⎡      -m    ⎤      ⎢         \n",
       "⎢         ⎢        3       ⎥                                  ⎢0  0  ───  0⎥      ⎢    0    \n",
       "⎢         ⎢       r        ⎥               ⎡0  0  0  0⎤       ⎢       r    ⎥      ⎢         \n",
       "⎢         ⎢                ⎥               ⎢          ⎥       ⎢            ⎥      ⎢         \n",
       "⎢         ⎢2⋅m             ⎥               ⎢0  0  0  0⎥       ⎢0  0   0   0⎥      ⎢    0    \n",
       "⎢         ⎢───    0    0  0⎥               ⎢          ⎥       ⎢            ⎥      ⎢         \n",
       "⎢         ⎢  3             ⎥               ⎢0  0  0  0⎥       ⎢m           ⎥      ⎢    0    \n",
       "⎢         ⎢ r              ⎥               ⎢          ⎥       ⎢─  0   0   0⎥      ⎢         \n",
       "⎢         ⎢                ⎥               ⎣0  0  0  0⎦       ⎢r           ⎥      ⎢     2   \n",
       "⎢         ⎢ 0     0    0  0⎥                                  ⎢            ⎥      ⎢m⋅sin (θ)\n",
       "⎢         ⎢                ⎥                                  ⎣0  0   0   0⎦      ⎢─────────\n",
       "⎢         ⎣ 0     0    0  0⎦                                                      ⎣    r    \n",
       "⎢                                                                                           \n",
       "⎢⎡               2⋅m⋅(-2⋅m + r)      ⎤  ⎡       2⋅m      ⎤                        ⎡0      0 \n",
       "⎢⎢      0        ──────────────  0  0⎥  ⎢  0    ───  0  0⎥    ⎡0  0   0   0⎤      ⎢         \n",
       "⎢⎢                      4            ⎥  ⎢         3      ⎥    ⎢            ⎥      ⎢         \n",
       "⎢⎢                     r             ⎥  ⎢        r       ⎥    ⎢      -m    ⎥      ⎢         \n",
       "⎢⎢                                   ⎥  ⎢                ⎥    ⎢0  0  ───  0⎥      ⎢0      0 \n",
       "⎢⎢2⋅m⋅(2⋅m - r)                      ⎥  ⎢-2⋅m            ⎥    ⎢       r    ⎥      ⎢         \n",
       "⎢⎢─────────────        0         0  0⎥  ⎢─────   0   0  0⎥    ⎢            ⎥      ⎢         \n",
       "⎢⎢       4                           ⎥  ⎢   3            ⎥    ⎢   m        ⎥      ⎢0      0 \n",
       "⎢⎢      r                            ⎥  ⎢  r             ⎥    ⎢0  ─   0   0⎥      ⎢         \n",
       "⎢⎢                                   ⎥  ⎢                ⎥    ⎢   r        ⎥      ⎢        2\n",
       "⎢⎢      0              0         0  0⎥  ⎢  0     0   0  0⎥    ⎢            ⎥      ⎢   m⋅sin \n",
       "⎢⎢                                   ⎥  ⎢                ⎥    ⎣0  0   0   0⎦      ⎢0  ──────\n",
       "⎢⎣      0              0         0  0⎦  ⎣  0     0   0  0⎦                        ⎣       r \n",
       "⎢                                                                                           \n",
       "⎢ ⎡                  m⋅(2⋅m - r)   ⎤                                                        \n",
       "⎢ ⎢     0        0   ───────────  0⎥                                                        \n",
       "⎢ ⎢                        4       ⎥     ⎡       -m    ⎤                        ⎡0  0       \n",
       "⎢ ⎢                       r        ⎥     ⎢0   0  ───  0⎥                        ⎢           \n",
       "⎢ ⎢                                ⎥     ⎢         3   ⎥                        ⎢0  0       \n",
       "⎢ ⎢                      -m        ⎥     ⎢        r    ⎥       ⎡0  0  0  0⎤     ⎢           \n",
       "⎢ ⎢     0        0       ───      0⎥     ⎢             ⎥       ⎢          ⎥     ⎢           \n",
       "⎢ ⎢                        3       ⎥     ⎢0   0   0   0⎥       ⎢0  0  0  0⎥     ⎢           \n",
       "⎢ ⎢                       r        ⎥     ⎢             ⎥       ⎢          ⎥     ⎢0  0       \n",
       "⎢ ⎢                                ⎥     ⎢m            ⎥       ⎢0  0  0  0⎥     ⎢           \n",
       "⎢ ⎢m⋅(-2⋅m + r)  m                 ⎥     ⎢──  0   0   0⎥       ⎢          ⎥     ⎢           \n",
       "⎢ ⎢────────────  ──       0       0⎥     ⎢ 3           ⎥       ⎣0  0  0  0⎦     ⎢           \n",
       "⎢ ⎢      4        3                ⎥     ⎢r            ⎥                        ⎢      -2⋅m⋅\n",
       "⎢ ⎢     r        r                 ⎥     ⎢             ⎥                        ⎢0  0  ─────\n",
       "⎢ ⎢                                ⎥     ⎣0   0   0   0⎦                        ⎣           \n",
       "⎢ ⎣     0        0        0       0⎦                                                        \n",
       "⎢                                                                                           \n",
       "⎢ ⎡                     m⋅(2⋅m - r)⎤                                                        \n",
       "⎢ ⎢     0        0   0  ───────────⎥                                                        \n",
       "⎢ ⎢                           4    ⎥     ⎡          -m ⎤                                    \n",
       "⎢ ⎢                          r     ⎥     ⎢0   0  0  ───⎥    ⎡0  0   0     0  ⎤              \n",
       "⎢ ⎢                                ⎥     ⎢            3⎥    ⎢                ⎥              \n",
       "⎢ ⎢                         -m     ⎥     ⎢           r ⎥    ⎢0  0   0     0  ⎥             ⎡\n",
       "⎢ ⎢     0        0   0      ───    ⎥     ⎢             ⎥    ⎢                ⎥             ⎢\n",
       "⎢ ⎢                           3    ⎥     ⎢0   0  0   0 ⎥    ⎢           -2⋅m ⎥             ⎢\n",
       "⎢ ⎢                          r     ⎥     ⎢             ⎥    ⎢0  0   0   ─────⎥             ⎢\n",
       "⎢ ⎢                                ⎥     ⎢0   0  0   0 ⎥    ⎢             r  ⎥             ⎢\n",
       "⎢ ⎢     0        0   0       0     ⎥     ⎢             ⎥    ⎢                ⎥             ⎢\n",
       "⎢ ⎢                                ⎥     ⎢m            ⎥    ⎢      2⋅m       ⎥             ⎣\n",
       "⎢ ⎢m⋅(-2⋅m + r)  m                 ⎥     ⎢──  0  0   0 ⎥    ⎢0  0  ───    0  ⎥              \n",
       "⎢ ⎢────────────  ──  0       0     ⎥     ⎢ 3           ⎥    ⎣       r        ⎦              \n",
       "⎢ ⎢      4        3                ⎥     ⎣r            ⎦                                    \n",
       "⎣ ⎣     r        r                 ⎦                                                        \n",
       "\n",
       "              2    ⎤  ⎤\n",
       "        -m⋅sin (θ) ⎥  ⎥\n",
       "  0  0  ───────────⎥  ⎥\n",
       "             r     ⎥  ⎥\n",
       "                   ⎥  ⎥\n",
       "  0  0       0     ⎥  ⎥\n",
       "                   ⎥  ⎥\n",
       "  0  0       0     ⎥  ⎥\n",
       "                   ⎥  ⎥\n",
       "                   ⎥  ⎥\n",
       "                   ⎥  ⎥\n",
       "  0  0       0     ⎥  ⎥\n",
       "                   ⎦  ⎥\n",
       "                      ⎥\n",
       "     0       0     ⎤  ⎥\n",
       "                   ⎥  ⎥\n",
       "              2    ⎥  ⎥\n",
       "        -m⋅sin (θ) ⎥  ⎥\n",
       "     0  ───────────⎥  ⎥\n",
       "             r     ⎥  ⎥\n",
       "                   ⎥  ⎥\n",
       "     0       0     ⎥  ⎥\n",
       "                   ⎥  ⎥\n",
       "                   ⎥  ⎥\n",
       "(θ)                ⎥  ⎥\n",
       "───  0       0     ⎥  ⎥\n",
       "                   ⎦  ⎥\n",
       "                      ⎥\n",
       "                      ⎥\n",
       "                      ⎥\n",
       " 0             0     ⎤⎥\n",
       "                     ⎥⎥\n",
       " 0             0     ⎥⎥\n",
       "                     ⎥⎥\n",
       "                 2   ⎥⎥\n",
       "          2⋅m⋅sin (θ)⎥⎥\n",
       " 0        ───────────⎥⎥\n",
       "               r     ⎥⎥\n",
       "                     ⎥⎥\n",
       "   2                 ⎥⎥\n",
       "sin (θ)              ⎥⎥\n",
       "────────       0     ⎥⎥\n",
       " r                   ⎦⎥\n",
       "                      ⎥\n",
       "                      ⎥\n",
       "                      ⎥\n",
       "                      ⎥\n",
       "                      ⎥\n",
       "                      ⎥\n",
       "                      ⎥\n",
       "0  0  0  0⎤           ⎥\n",
       "          ⎥           ⎥\n",
       "0  0  0  0⎥           ⎥\n",
       "          ⎥           ⎥\n",
       "0  0  0  0⎥           ⎥\n",
       "          ⎥           ⎥\n",
       "0  0  0  0⎦           ⎥\n",
       "                      ⎥\n",
       "                      ⎥\n",
       "                      ⎥\n",
       "                      ⎦"
      ]
     },
     "execution_count": 18,
     "metadata": {},
     "output_type": "execute_result"
    }
   ],
   "source": [
    "rm1 = RiemannCurvatureTensor.from_christoffels(ch)\n",
    "rm1.tensor()"
   ]
  },
  {
   "cell_type": "code",
   "execution_count": 19,
   "id": "1f351d6e",
   "metadata": {},
   "outputs": [
    {
     "data": {
      "text/latex": [
       "$\\displaystyle \\left[\\begin{matrix}\\left[\\begin{matrix}0 & 0 & 0 & 0\\\\0 & 0 & 0 & 0\\\\0 & 0 & 0 & 0\\\\0 & 0 & 0 & 0\\end{matrix}\\right] & \\left[\\begin{matrix}0 & \\frac{2 m}{r^{3}} & 0 & 0\\\\- \\frac{2 m}{r^{3}} & 0 & 0 & 0\\\\0 & 0 & 0 & 0\\\\0 & 0 & 0 & 0\\end{matrix}\\right] & \\left[\\begin{matrix}0 & 0 & \\frac{m \\left(2 m - r\\right)}{r^{2}} & 0\\\\0 & 0 & - \\frac{m}{r} & 0\\\\\\frac{m \\left(- 2 m + r\\right)}{r^{2}} & \\frac{m}{r} & 0 & 0\\\\0 & 0 & 0 & 0\\end{matrix}\\right] & \\left[\\begin{matrix}0 & 0 & 0 & \\frac{m \\left(2 m - r\\right) \\sin^{2}{\\left(\\theta \\right)}}{r^{2}}\\\\0 & 0 & 0 & - \\frac{m \\sin^{2}{\\left(\\theta \\right)}}{r}\\\\0 & 0 & 0 & 0\\\\\\frac{m \\left(- 2 m + r\\right) \\sin^{2}{\\left(\\theta \\right)}}{r^{2}} & \\frac{m \\sin^{2}{\\left(\\theta \\right)}}{r} & 0 & 0\\end{matrix}\\right]\\\\\\left[\\begin{matrix}0 & - \\frac{2 m}{r^{3}} & 0 & 0\\\\\\frac{2 m}{r^{3}} & 0 & 0 & 0\\\\0 & 0 & 0 & 0\\\\0 & 0 & 0 & 0\\end{matrix}\\right] & \\left[\\begin{matrix}0 & 0 & 0 & 0\\\\0 & 0 & 0 & 0\\\\0 & 0 & 0 & 0\\\\0 & 0 & 0 & 0\\end{matrix}\\right] & \\left[\\begin{matrix}0 & 0 & - \\frac{m}{r} & 0\\\\0 & 0 & 0 & 0\\\\\\frac{m}{r} & 0 & 0 & 0\\\\0 & 0 & 0 & 0\\end{matrix}\\right] & \\left[\\begin{matrix}0 & 0 & 0 & - \\frac{m \\sin^{2}{\\left(\\theta \\right)}}{r}\\\\0 & 0 & 0 & 0\\\\0 & 0 & 0 & 0\\\\\\frac{m \\sin^{2}{\\left(\\theta \\right)}}{r} & 0 & 0 & 0\\end{matrix}\\right]\\\\\\left[\\begin{matrix}0 & 0 & \\frac{m \\left(- 2 m + r\\right)}{r^{2}} & 0\\\\0 & 0 & \\frac{m}{r} & 0\\\\\\frac{m \\left(2 m - r\\right)}{r^{2}} & - \\frac{m}{r} & 0 & 0\\\\0 & 0 & 0 & 0\\end{matrix}\\right] & \\left[\\begin{matrix}0 & 0 & \\frac{m}{r} & 0\\\\0 & 0 & 0 & 0\\\\- \\frac{m}{r} & 0 & 0 & 0\\\\0 & 0 & 0 & 0\\end{matrix}\\right] & \\left[\\begin{matrix}0 & 0 & 0 & 0\\\\0 & 0 & 0 & 0\\\\0 & 0 & 0 & 0\\\\0 & 0 & 0 & 0\\end{matrix}\\right] & \\left[\\begin{matrix}0 & 0 & 0 & 0\\\\0 & 0 & 0 & 0\\\\0 & 0 & 0 & - 2 m r \\sin^{2}{\\left(\\theta \\right)}\\\\0 & 0 & 2 m r \\sin^{2}{\\left(\\theta \\right)} & 0\\end{matrix}\\right]\\\\\\left[\\begin{matrix}0 & 0 & 0 & \\frac{m \\left(- 2 m + r\\right) \\sin^{2}{\\left(\\theta \\right)}}{r^{2}}\\\\0 & 0 & 0 & \\frac{m \\sin^{2}{\\left(\\theta \\right)}}{r}\\\\0 & 0 & 0 & 0\\\\\\frac{m \\left(2 m - r\\right) \\sin^{2}{\\left(\\theta \\right)}}{r^{2}} & - \\frac{m \\sin^{2}{\\left(\\theta \\right)}}{r} & 0 & 0\\end{matrix}\\right] & \\left[\\begin{matrix}0 & 0 & 0 & \\frac{m \\sin^{2}{\\left(\\theta \\right)}}{r}\\\\0 & 0 & 0 & 0\\\\0 & 0 & 0 & 0\\\\- \\frac{m \\sin^{2}{\\left(\\theta \\right)}}{r} & 0 & 0 & 0\\end{matrix}\\right] & \\left[\\begin{matrix}0 & 0 & 0 & 0\\\\0 & 0 & 0 & 0\\\\0 & 0 & 0 & 2 m r \\sin^{2}{\\left(\\theta \\right)}\\\\0 & 0 & - 2 m r \\sin^{2}{\\left(\\theta \\right)} & 0\\end{matrix}\\right] & \\left[\\begin{matrix}0 & 0 & 0 & 0\\\\0 & 0 & 0 & 0\\\\0 & 0 & 0 & 0\\\\0 & 0 & 0 & 0\\end{matrix}\\right]\\end{matrix}\\right]$"
      ],
      "text/plain": [
       "⎡                                                                                           \n",
       "⎢                                                                                           \n",
       "⎢                                                                                           \n",
       "⎢                                                                   ⎡       2⋅m      ⎤      \n",
       "⎢                                                                   ⎢  0    ───  0  0⎥      \n",
       "⎢                                                                   ⎢         3      ⎥      \n",
       "⎢                       ⎡0  0  0  0⎤                                ⎢        r       ⎥      \n",
       "⎢                       ⎢          ⎥                                ⎢                ⎥      \n",
       "⎢                       ⎢0  0  0  0⎥                                ⎢-2⋅m            ⎥      \n",
       "⎢                       ⎢          ⎥                                ⎢─────   0   0  0⎥      \n",
       "⎢                       ⎢0  0  0  0⎥                                ⎢   3            ⎥      \n",
       "⎢                       ⎢          ⎥                                ⎢  r             ⎥      \n",
       "⎢                       ⎣0  0  0  0⎦                                ⎢                ⎥      \n",
       "⎢                                                                   ⎢  0     0   0  0⎥      \n",
       "⎢                                                                   ⎢                ⎥      \n",
       "⎢                                                                   ⎣  0     0   0  0⎦      \n",
       "⎢                                                                                           \n",
       "⎢                                                                                           \n",
       "⎢                                                                                           \n",
       "⎢                    ⎡     -2⋅m       ⎤                                                     \n",
       "⎢                    ⎢ 0   ─────  0  0⎥                                                     \n",
       "⎢                    ⎢        3       ⎥                                                     \n",
       "⎢                    ⎢       r        ⎥                                ⎡0  0  0  0⎤         \n",
       "⎢                    ⎢                ⎥                                ⎢          ⎥         \n",
       "⎢                    ⎢2⋅m             ⎥                                ⎢0  0  0  0⎥         \n",
       "⎢                    ⎢───    0    0  0⎥                                ⎢          ⎥         \n",
       "⎢                    ⎢  3             ⎥                                ⎢0  0  0  0⎥         \n",
       "⎢                    ⎢ r              ⎥                                ⎢          ⎥         \n",
       "⎢                    ⎢                ⎥                                ⎣0  0  0  0⎦         \n",
       "⎢                    ⎢ 0     0    0  0⎥                                                     \n",
       "⎢                    ⎢                ⎥                                                     \n",
       "⎢                    ⎣ 0     0    0  0⎦                                                     \n",
       "⎢                                                                                           \n",
       "⎢            ⎡                  m⋅(-2⋅m + r)   ⎤                                            \n",
       "⎢            ⎢     0        0   ────────────  0⎥                                            \n",
       "⎢            ⎢                        2        ⎥                      ⎡        m   ⎤        \n",
       "⎢            ⎢                       r         ⎥                      ⎢ 0   0  ─  0⎥        \n",
       "⎢            ⎢                                 ⎥                      ⎢        r   ⎥        \n",
       "⎢            ⎢                       m         ⎥                      ⎢            ⎥        \n",
       "⎢            ⎢     0        0        ─        0⎥                      ⎢ 0   0  0  0⎥        \n",
       "⎢            ⎢                       r         ⎥                      ⎢            ⎥        \n",
       "⎢            ⎢                                 ⎥                      ⎢-m          ⎥        \n",
       "⎢            ⎢m⋅(2⋅m - r)  -m                  ⎥                      ⎢───  0  0  0⎥        \n",
       "⎢            ⎢───────────  ───       0        0⎥                      ⎢ r          ⎥        \n",
       "⎢            ⎢      2       r                  ⎥                      ⎢            ⎥        \n",
       "⎢            ⎢     r                           ⎥                      ⎣ 0   0  0  0⎦        \n",
       "⎢            ⎢                                 ⎥                                            \n",
       "⎢            ⎣     0        0        0        0⎦                                            \n",
       "⎢                                                                                           \n",
       "⎢⎡                                                     2   ⎤                                \n",
       "⎢⎢                                     m⋅(-2⋅m + r)⋅sin (θ)⎥                                \n",
       "⎢⎢         0                0       0  ────────────────────⎥                                \n",
       "⎢⎢                                               2         ⎥  ⎡                        2   ⎤\n",
       "⎢⎢                                              r          ⎥  ⎢                   m⋅sin (θ)⎥\n",
       "⎢⎢                                                         ⎥  ⎢     0       0  0  ─────────⎥\n",
       "⎢⎢                                               2         ⎥  ⎢                       r    ⎥\n",
       "⎢⎢                                          m⋅sin (θ)      ⎥  ⎢                            ⎥\n",
       "⎢⎢         0                0       0       ─────────      ⎥  ⎢     0       0  0      0    ⎥\n",
       "⎢⎢                                              r          ⎥  ⎢                            ⎥\n",
       "⎢⎢                                                         ⎥  ⎢     0       0  0      0    ⎥\n",
       "⎢⎢         0                0       0           0          ⎥  ⎢                            ⎥\n",
       "⎢⎢                                                         ⎥  ⎢      2                     ⎥\n",
       "⎢⎢               2           2                             ⎥  ⎢-m⋅sin (θ)                  ⎥\n",
       "⎢⎢m⋅(2⋅m - r)⋅sin (θ)  -m⋅sin (θ)                          ⎥  ⎢───────────  0  0      0    ⎥\n",
       "⎢⎢───────────────────  ───────────  0           0          ⎥  ⎣     r                      ⎦\n",
       "⎢⎢          2               r                              ⎥                                \n",
       "⎣⎣         r                                               ⎦                                \n",
       "\n",
       "                                         ⎡                                                  \n",
       "                                         ⎢                                    m⋅(2⋅m - r)⋅si\n",
       "    ⎡                 m⋅(2⋅m - r)   ⎤    ⎢         0                0      0  ──────────────\n",
       "    ⎢     0        0  ───────────  0⎥    ⎢                                              2   \n",
       "    ⎢                       2       ⎥    ⎢                                             r    \n",
       "    ⎢                      r        ⎥    ⎢                                                  \n",
       "    ⎢                               ⎥    ⎢                                              2   \n",
       "    ⎢                     -m        ⎥    ⎢                                        -m⋅sin (θ)\n",
       "    ⎢     0        0      ───      0⎥    ⎢         0                0      0      ──────────\n",
       "    ⎢                      r        ⎥    ⎢                                             r    \n",
       "    ⎢                               ⎥    ⎢                                                  \n",
       "    ⎢m⋅(-2⋅m + r)  m                ⎥    ⎢         0                0      0           0    \n",
       "    ⎢────────────  ─       0       0⎥    ⎢                                                  \n",
       "    ⎢      2       r                ⎥    ⎢                2          2                      \n",
       "    ⎢     r                         ⎥    ⎢m⋅(-2⋅m + r)⋅sin (θ)  m⋅sin (θ)                   \n",
       "    ⎢                               ⎥    ⎢────────────────────  ─────────  0           0    \n",
       "    ⎣     0        0       0       0⎦    ⎢          2               r                       \n",
       "                                         ⎣         r                                        \n",
       "                                                                                            \n",
       "                                                      ⎡                       2    ⎤        \n",
       "             ⎡      -m    ⎤                           ⎢                 -m⋅sin (θ) ⎥        \n",
       "             ⎢0  0  ───  0⎥                           ⎢    0      0  0  ───────────⎥        \n",
       "             ⎢       r    ⎥                           ⎢                      r     ⎥        \n",
       "             ⎢            ⎥                           ⎢                            ⎥        \n",
       "             ⎢0  0   0   0⎥                           ⎢    0      0  0       0     ⎥        \n",
       "             ⎢            ⎥                           ⎢                            ⎥        \n",
       "             ⎢m           ⎥                           ⎢    0      0  0       0     ⎥        \n",
       "             ⎢─  0   0   0⎥                           ⎢                            ⎥        \n",
       "             ⎢r           ⎥                           ⎢     2                      ⎥        \n",
       "             ⎢            ⎥                           ⎢m⋅sin (θ)                   ⎥        \n",
       "             ⎣0  0   0   0⎦                           ⎢─────────  0  0       0     ⎥        \n",
       "                                                      ⎣    r                       ⎦        \n",
       "                                                                                            \n",
       "                                                                                            \n",
       "                                                                                            \n",
       "                                                                                            \n",
       "                                                   ⎡0  0        0              0       ⎤    \n",
       "              ⎡0  0  0  0⎤                         ⎢                                   ⎥    \n",
       "              ⎢          ⎥                         ⎢0  0        0              0       ⎥    \n",
       "              ⎢0  0  0  0⎥                         ⎢                                   ⎥    \n",
       "              ⎢          ⎥                         ⎢                               2   ⎥    \n",
       "              ⎢0  0  0  0⎥                         ⎢0  0        0        -2⋅m⋅r⋅sin (θ)⎥    \n",
       "              ⎢          ⎥                         ⎢                                   ⎥    \n",
       "              ⎣0  0  0  0⎦                         ⎢               2                   ⎥    \n",
       "                                                   ⎣0  0  2⋅m⋅r⋅sin (θ)        0       ⎦    \n",
       "                                                                                            \n",
       "                                                                                            \n",
       "                                                                                            \n",
       "                                                                                            \n",
       "                                                                                            \n",
       "                                                                                            \n",
       "                                                                                            \n",
       "                                                                                            \n",
       "                                                                                            \n",
       "  ⎡0  0        0               0      ⎤                                                     \n",
       "  ⎢                                   ⎥                        ⎡0  0  0  0⎤                 \n",
       "  ⎢0  0        0               0      ⎥                        ⎢          ⎥                 \n",
       "  ⎢                                   ⎥                        ⎢0  0  0  0⎥                 \n",
       "  ⎢                               2   ⎥                        ⎢          ⎥                 \n",
       "  ⎢0  0        0         2⋅m⋅r⋅sin (θ)⎥                        ⎢0  0  0  0⎥                 \n",
       "  ⎢                                   ⎥                        ⎢          ⎥                 \n",
       "  ⎢                2                  ⎥                        ⎣0  0  0  0⎦                 \n",
       "  ⎣0  0  -2⋅m⋅r⋅sin (θ)        0      ⎦                                                     \n",
       "                                                                                            \n",
       "                                                                                            \n",
       "                                                                                            \n",
       "                                                                                            \n",
       "\n",
       " 2   ⎤⎤\n",
       "n (θ)⎥⎥\n",
       "─────⎥⎥\n",
       "     ⎥⎥\n",
       "     ⎥⎥\n",
       "     ⎥⎥\n",
       "     ⎥⎥\n",
       "     ⎥⎥\n",
       "─    ⎥⎥\n",
       "     ⎥⎥\n",
       "     ⎥⎥\n",
       "     ⎥⎥\n",
       "     ⎥⎥\n",
       "     ⎥⎥\n",
       "     ⎥⎥\n",
       "     ⎥⎥\n",
       "     ⎥⎥\n",
       "     ⎦⎥\n",
       "      ⎥\n",
       "      ⎥\n",
       "      ⎥\n",
       "      ⎥\n",
       "      ⎥\n",
       "      ⎥\n",
       "      ⎥\n",
       "      ⎥\n",
       "      ⎥\n",
       "      ⎥\n",
       "      ⎥\n",
       "      ⎥\n",
       "      ⎥\n",
       "      ⎥\n",
       "      ⎥\n",
       "      ⎥\n",
       "      ⎥\n",
       "      ⎥\n",
       "      ⎥\n",
       "      ⎥\n",
       "      ⎥\n",
       "      ⎥\n",
       "      ⎥\n",
       "      ⎥\n",
       "      ⎥\n",
       "      ⎥\n",
       "      ⎥\n",
       "      ⎥\n",
       "      ⎥\n",
       "      ⎥\n",
       "      ⎥\n",
       "      ⎥\n",
       "      ⎥\n",
       "      ⎥\n",
       "      ⎥\n",
       "      ⎥\n",
       "      ⎥\n",
       "      ⎥\n",
       "      ⎥\n",
       "      ⎥\n",
       "      ⎥\n",
       "      ⎥\n",
       "      ⎥\n",
       "      ⎥\n",
       "      ⎥\n",
       "      ⎥\n",
       "      ⎥\n",
       "      ⎥\n",
       "      ⎦"
      ]
     },
     "execution_count": 19,
     "metadata": {},
     "output_type": "execute_result"
    }
   ],
   "source": [
    "weyl = WeylTensor.from_metric(metric)\n",
    "weyl.tensor()"
   ]
  },
  {
   "cell_type": "code",
   "execution_count": null,
   "id": "58b8fa18",
   "metadata": {},
   "outputs": [],
   "source": []
  }
 ],
 "metadata": {
  "@webio": {
   "lastCommId": "76eda21e735a4977845d2ab5cd263791",
   "lastKernelId": "2454256c-a62c-42ba-8581-c887acd2e1b4"
  },
  "kernelspec": {
   "display_name": "Python 3 (ipykernel)",
   "language": "python",
   "name": "python3"
  },
  "language_info": {
   "codemirror_mode": {
    "name": "ipython",
    "version": 3
   },
   "file_extension": ".py",
   "mimetype": "text/x-python",
   "name": "python",
   "nbconvert_exporter": "python",
   "pygments_lexer": "ipython3",
   "version": "3.8.8"
  }
 },
 "nbformat": 4,
 "nbformat_minor": 5
}
