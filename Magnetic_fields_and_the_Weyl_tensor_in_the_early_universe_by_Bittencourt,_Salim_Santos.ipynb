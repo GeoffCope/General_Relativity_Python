{
 "cells": [
  {
   "cell_type": "markdown",
   "id": "5de407dd",
   "metadata": {},
   "source": [
    "# Magnetic fields and the Weyl tensor in the early universe by Bittencourt, Salim & Santos\n",
    "##  Geoff Cope\n",
    "##  Univeristy of Utah\n",
    "##  December 25, 2021 Christmas Day AND Launch of JWST!!"
   ]
  },
  {
   "cell_type": "markdown",
   "id": "4b55c442",
   "metadata": {},
   "source": [
    "https://arxiv.org/abs/1402.3121"
   ]
  },
  {
   "cell_type": "code",
   "execution_count": 1,
   "id": "fb2cbf3a",
   "metadata": {},
   "outputs": [
    {
     "name": "stdout",
     "output_type": "stream",
     "text": [
      "IPython console for SymPy 1.9 (Python 3.8.8-64-bit) (ground types: gmpy)\n",
      "\n",
      "These commands were executed:\n",
      ">>> from __future__ import division\n",
      ">>> from sympy import *\n",
      ">>> x, y, z, t = symbols('x y z t')\n",
      ">>> k, m, n = symbols('k m n', integer=True)\n",
      ">>> f, g, h = symbols('f g h', cls=Function)\n",
      ">>> init_printing()\n",
      "\n",
      "Documentation can be found at https://docs.sympy.org/1.9/\n",
      "\n"
     ]
    }
   ],
   "source": [
    "from sympy import init_session\n",
    "init_session(use_latex=True)"
   ]
  },
  {
   "cell_type": "code",
   "execution_count": 2,
   "id": "75a1c1cd",
   "metadata": {},
   "outputs": [],
   "source": [
    "import warnings\n",
    "import matplotlib.cbook\n",
    "warnings.filterwarnings(\"ignore\",category=matplotlib.cbook.mplDeprecation)"
   ]
  },
  {
   "cell_type": "code",
   "execution_count": 3,
   "id": "049702f4",
   "metadata": {},
   "outputs": [],
   "source": [
    "epsilon,k,t,r,theta,phi,dt,dr,dtheta,dphi = symbols('epsilon k t r theta phi dt dr dtheta dphi')"
   ]
  },
  {
   "cell_type": "code",
   "execution_count": 4,
   "id": "91d4868a",
   "metadata": {},
   "outputs": [
    {
     "data": {
      "image/png": "[encoded data removed]",
      "text/latex": [
       "$\\displaystyle a{\\left(t \\right)}$"
      ],
      "text/plain": [
       "a(t)"
      ]
     },
     "execution_count": 4,
     "metadata": {},
     "output_type": "execute_result"
    }
   ],
   "source": [
    "a = Function('a')(t)\n",
    "a"
   ]
  },
  {
   "cell_type": "code",
   "execution_count": 5,
   "id": "1b69c54b",
   "metadata": {},
   "outputs": [
    {
     "data": {
      "text/latex": [
       "$\\displaystyle \\left[\\begin{matrix}t\\\\r\\\\\\theta\\\\\\phi\\end{matrix}\\right]$"
      ],
      "text/plain": [
       "⎡t⎤\n",
       "⎢ ⎥\n",
       "⎢r⎥\n",
       "⎢ ⎥\n",
       "⎢θ⎥\n",
       "⎢ ⎥\n",
       "⎣φ⎦"
      ]
     },
     "execution_count": 5,
     "metadata": {},
     "output_type": "execute_result"
    }
   ],
   "source": [
    "variables = Matrix( [t,r,theta,phi] )\n",
    "variables"
   ]
  },
  {
   "cell_type": "code",
   "execution_count": 6,
   "id": "ddd707d3",
   "metadata": {},
   "outputs": [
    {
     "data": {
      "text/latex": [
       "$\\displaystyle \\left[\\begin{matrix}dt\\\\dr\\\\dtheta\\\\dphi\\end{matrix}\\right]$"
      ],
      "text/plain": [
       "⎡  dt  ⎤\n",
       "⎢      ⎥\n",
       "⎢  dr  ⎥\n",
       "⎢      ⎥\n",
       "⎢dtheta⎥\n",
       "⎢      ⎥\n",
       "⎣ dphi ⎦"
      ]
     },
     "execution_count": 6,
     "metadata": {},
     "output_type": "execute_result"
    }
   ],
   "source": [
    "differentials = Matrix( [dt,dr,dtheta,dphi] )\n",
    "differentials "
   ]
  },
  {
   "cell_type": "code",
   "execution_count": 7,
   "id": "f56f1dbb",
   "metadata": {},
   "outputs": [
    {
     "data": {
      "image/png": "[encoded data removed]",
      "text/latex": [
       "$\\displaystyle - dphi^{2} r^{2} a^{2}{\\left(t \\right)} \\sin^{2}{\\left(\\theta \\right)} - \\frac{dr^{2} a^{2}{\\left(t \\right)}}{- \\epsilon r^{2} - \\frac{2 k}{r} + 1} + dt^{2} - dtheta^{2} r^{2} a^{2}{\\left(t \\right)}$"
      ],
      "text/plain": [
       "                                2  2                                \n",
       "      2  2  2       2         dr ⋅a (t)         2         2  2  2   \n",
       "- dphi ⋅r ⋅a (t)⋅sin (θ) - ──────────────── + dt  - dtheta ⋅r ⋅a (t)\n",
       "                                2   2⋅k                             \n",
       "                           - ε⋅r  - ─── + 1                         \n",
       "                                     r                              "
      ]
     },
     "execution_count": 7,
     "metadata": {},
     "output_type": "execute_result"
    }
   ],
   "source": [
    "lineElement = expand(dt**2 - a**2 * ( dr**2/( 1 - epsilon*r**2 - ((2*k/r))) +r**2*(dtheta**2 + sin(theta)**2 * dphi**2)) )\n",
    "lineElement"
   ]
  },
  {
   "cell_type": "code",
   "execution_count": 8,
   "id": "57b15577",
   "metadata": {},
   "outputs": [],
   "source": [
    "t,r,theta,phi,dt,dr,dtheta,dphi = symbols('t r theta phi dt dr dtheta dphi')"
   ]
  },
  {
   "cell_type": "code",
   "execution_count": 9,
   "id": "9fb16389",
   "metadata": {},
   "outputs": [
    {
     "data": {
      "text/latex": [
       "$\\displaystyle \\left[\\begin{matrix}1 & 0 & 0 & 0\\\\0 & - \\frac{a^{2}{\\left(t \\right)}}{- \\epsilon r^{2} - \\frac{2 k}{r} + 1} & 0 & 0\\\\0 & 0 & - r^{2} a^{2}{\\left(t \\right)} & 0\\\\0 & 0 & 0 & - r^{2} a^{2}{\\left(t \\right)} \\sin^{2}{\\left(\\theta \\right)}\\end{matrix}\\right]$"
      ],
      "text/plain": [
       "⎡1         0              0              0        ⎤\n",
       "⎢                                                 ⎥\n",
       "⎢         2                                       ⎥\n",
       "⎢       -a (t)                                    ⎥\n",
       "⎢0  ────────────────      0              0        ⎥\n",
       "⎢        2   2⋅k                                  ⎥\n",
       "⎢   - ε⋅r  - ─── + 1                              ⎥\n",
       "⎢             r                                   ⎥\n",
       "⎢                                                 ⎥\n",
       "⎢                       2  2                      ⎥\n",
       "⎢0         0          -r ⋅a (t)          0        ⎥\n",
       "⎢                                                 ⎥\n",
       "⎢                                  2  2       2   ⎥\n",
       "⎣0         0              0      -r ⋅a (t)⋅sin (θ)⎦"
      ]
     },
     "execution_count": 9,
     "metadata": {},
     "output_type": "execute_result"
    }
   ],
   "source": [
    "g = zeros(4)\n",
    "\n",
    "for i in range(4):\n",
    "    for j in range(4):\n",
    "        if i == j:\n",
    "            g[i,j] = lineElement.coeff( differentials[i],2 ) \n",
    "        else:\n",
    "            g[i,j] = Rational(1,2)*lineElement.coeff( differentials[i]*differentials[j],1 )\n",
    "            \n",
    "g"
   ]
  },
  {
   "cell_type": "code",
   "execution_count": 10,
   "id": "449a38c9",
   "metadata": {},
   "outputs": [],
   "source": [
    "import sympy"
   ]
  },
  {
   "cell_type": "code",
   "execution_count": 11,
   "id": "1a005c68",
   "metadata": {},
   "outputs": [
    {
     "data": {
      "text/latex": [
       "$\\displaystyle \\left[\\begin{matrix}1 & 0 & 0 & 0\\\\0 & - \\frac{a^{2}{\\left(t \\right)}}{- \\epsilon r^{2} - \\frac{2 k}{r} + 1} & 0 & 0\\\\0 & 0 & - r^{2} a^{2}{\\left(t \\right)} & 0\\\\0 & 0 & 0 & - r^{2} a^{2}{\\left(t \\right)} \\sin^{2}{\\left(\\theta \\right)}\\end{matrix}\\right]$"
      ],
      "text/plain": [
       "⎡1         0              0              0        ⎤\n",
       "⎢                                                 ⎥\n",
       "⎢         2                                       ⎥\n",
       "⎢       -a (t)                                    ⎥\n",
       "⎢0  ────────────────      0              0        ⎥\n",
       "⎢        2   2⋅k                                  ⎥\n",
       "⎢   - ε⋅r  - ─── + 1                              ⎥\n",
       "⎢             r                                   ⎥\n",
       "⎢                                                 ⎥\n",
       "⎢                       2  2                      ⎥\n",
       "⎢0         0          -r ⋅a (t)          0        ⎥\n",
       "⎢                                                 ⎥\n",
       "⎢                                  2  2       2   ⎥\n",
       "⎣0         0              0      -r ⋅a (t)⋅sin (θ)⎦"
      ]
     },
     "execution_count": 11,
     "metadata": {},
     "output_type": "execute_result"
    }
   ],
   "source": [
    "m = sympy.Array(g)\n",
    "m"
   ]
  },
  {
   "cell_type": "code",
   "execution_count": 12,
   "id": "6e74eb2c",
   "metadata": {},
   "outputs": [],
   "source": [
    "from einsteinpy.symbolic import *"
   ]
  },
  {
   "cell_type": "code",
   "execution_count": 13,
   "id": "5d789927",
   "metadata": {},
   "outputs": [],
   "source": [
    "syms = sympy.symbols(\"t r theta phi\")\n",
    "t,r,theta,phi = syms"
   ]
  },
  {
   "cell_type": "code",
   "execution_count": 14,
   "id": "90e487f4",
   "metadata": {},
   "outputs": [],
   "source": [
    "metric = MetricTensor(m,syms)"
   ]
  },
  {
   "cell_type": "code",
   "execution_count": 15,
   "id": "4c7ce104",
   "metadata": {},
   "outputs": [
    {
     "data": {
      "text/latex": [
       "$\\displaystyle \\left[\\begin{matrix}\\left[\\begin{matrix}0 & 0 & 0 & 0\\\\0 & \\frac{a{\\left(t \\right)} \\frac{d}{d t} a{\\left(t \\right)}}{- \\epsilon r^{2} - \\frac{2 k}{r} + 1} & 0 & 0\\\\0 & 0 & r^{2} a{\\left(t \\right)} \\frac{d}{d t} a{\\left(t \\right)} & 0\\\\0 & 0 & 0 & r^{2} a{\\left(t \\right)} \\sin^{2}{\\left(\\theta \\right)} \\frac{d}{d t} a{\\left(t \\right)}\\end{matrix}\\right] & \\left[\\begin{matrix}0 & - \\frac{\\left(\\epsilon r^{3} + 2 k - r\\right) \\frac{d}{d t} a{\\left(t \\right)}}{r \\left(- \\epsilon r^{2} - \\frac{2 k}{r} + 1\\right) a{\\left(t \\right)}} & 0 & 0\\\\- \\frac{\\left(\\epsilon r^{3} + 2 k - r\\right) \\frac{d}{d t} a{\\left(t \\right)}}{r \\left(- \\epsilon r^{2} - \\frac{2 k}{r} + 1\\right) a{\\left(t \\right)}} & - \\frac{\\left(2 \\epsilon r - \\frac{2 k}{r^{2}}\\right) \\left(\\epsilon r^{3} + 2 k - r\\right)}{2 r \\left(- \\epsilon r^{2} - \\frac{2 k}{r} + 1\\right)^{2}} & 0 & 0\\\\0 & 0 & \\epsilon r^{3} + 2 k - r & 0\\\\0 & 0 & 0 & \\left(\\epsilon r^{3} + 2 k - r\\right) \\sin^{2}{\\left(\\theta \\right)}\\end{matrix}\\right] & \\left[\\begin{matrix}0 & 0 & \\frac{\\frac{d}{d t} a{\\left(t \\right)}}{a{\\left(t \\right)}} & 0\\\\0 & 0 & \\frac{1}{r} & 0\\\\\\frac{\\frac{d}{d t} a{\\left(t \\right)}}{a{\\left(t \\right)}} & \\frac{1}{r} & 0 & 0\\\\0 & 0 & 0 & - \\sin{\\left(\\theta \\right)} \\cos{\\left(\\theta \\right)}\\end{matrix}\\right] & \\left[\\begin{matrix}0 & 0 & 0 & \\frac{\\frac{d}{d t} a{\\left(t \\right)}}{a{\\left(t \\right)}}\\\\0 & 0 & 0 & \\frac{1}{r}\\\\0 & 0 & 0 & \\frac{\\cos{\\left(\\theta \\right)}}{\\sin{\\left(\\theta \\right)}}\\\\\\frac{\\frac{d}{d t} a{\\left(t \\right)}}{a{\\left(t \\right)}} & \\frac{1}{r} & \\frac{\\cos{\\left(\\theta \\right)}}{\\sin{\\left(\\theta \\right)}} & 0\\end{matrix}\\right]\\end{matrix}\\right]$"
      ],
      "text/plain": [
       "⎡                                                                   ⎡                                ⎛   3          ⎞ d    \n",
       "⎢                                                                   ⎢                               -⎝ε⋅r  + 2⋅k - r⎠⋅──(a(\n",
       "⎢                                                                   ⎢                                                 dt   \n",
       "⎢⎡0         0                 0                     0            ⎤  ⎢             0                 ───────────────────────\n",
       "⎢⎢                                                               ⎥  ⎢                                  ⎛     2   2⋅k    ⎞  \n",
       "⎢⎢         d                                                     ⎥  ⎢                                r⋅⎜- ε⋅r  - ─── + 1⎟⋅a\n",
       "⎢⎢    a(t)⋅──(a(t))                                              ⎥  ⎢                                  ⎝          r     ⎠  \n",
       "⎢⎢         dt                                                    ⎥  ⎢                                                      \n",
       "⎢⎢0  ────────────────         0                     0            ⎥  ⎢                              ⎛        2⋅k⎞ ⎛   3     \n",
       "⎢⎢        2   2⋅k                                                ⎥  ⎢ ⎛   3          ⎞ d          -⎜2⋅ε⋅r - ───⎟⋅⎝ε⋅r  + 2⋅\n",
       "⎢⎢   - ε⋅r  - ─── + 1                                            ⎥  ⎢-⎝ε⋅r  + 2⋅k - r⎠⋅──(a(t))    ⎜          2⎟           \n",
       "⎢⎢             r                                                 ⎥  ⎢                  dt          ⎝         r ⎠           \n",
       "⎢⎢                                                               ⎥  ⎢───────────────────────────  ─────────────────────────\n",
       "⎢⎢                      2      d                                 ⎥  ⎢   ⎛     2   2⋅k    ⎞                                 \n",
       "⎢⎢0         0          r ⋅a(t)⋅──(a(t))             0            ⎥  ⎢ r⋅⎜- ε⋅r  - ─── + 1⎟⋅a(t)           ⎛     2   2⋅k    \n",
       "⎢⎢                             dt                                ⎥  ⎢   ⎝          r     ⎠            2⋅r⋅⎜- ε⋅r  - ─── + 1\n",
       "⎢⎢                                                               ⎥  ⎢                                     ⎝          r     \n",
       "⎢⎢                                        2         2    d       ⎥  ⎢                                                      \n",
       "⎢⎢0         0                 0          r ⋅a(t)⋅sin (θ)⋅──(a(t))⎥  ⎢                                                      \n",
       "⎢⎣                                                       dt      ⎦  ⎢             0                              0         \n",
       "⎢                                                                   ⎢                                                      \n",
       "⎢                                                                   ⎢                                                      \n",
       "⎣                                                                   ⎣             0                              0         \n",
       "\n",
       "                                                 ⎤                                                                         \n",
       "t))                                              ⎥                                                                         \n",
       "                                                 ⎥                                           ⎡                     d       \n",
       "────           0                    0            ⎥  ⎡             d                       ⎤  ⎢                     ──(a(t))\n",
       "                                                 ⎥  ⎢             ──(a(t))                ⎥  ⎢                     dt      \n",
       "(t)                                              ⎥  ⎢             dt                      ⎥  ⎢   0      0    0     ────────\n",
       "                                                 ⎥  ⎢   0      0  ────────        0       ⎥  ⎢                       a(t)  \n",
       "                                                 ⎥  ⎢               a(t)                  ⎥  ⎢                             \n",
       "     ⎞                                           ⎥  ⎢                                     ⎥  ⎢                        1    \n",
       "k - r⎠                                           ⎥  ⎢                1                    ⎥  ⎢   0      0    0        ─    \n",
       "                                                 ⎥  ⎢   0      0     ─            0       ⎥  ⎢                        r    \n",
       "                                                 ⎥  ⎢                r                    ⎥  ⎢                             \n",
       "───────        0                    0            ⎥  ⎢                                     ⎥  ⎢                      cos(θ) \n",
       " 2                                               ⎥  ⎢d                                    ⎥  ⎢   0      0    0      ────── \n",
       "⎞                                                ⎥  ⎢──(a(t))                             ⎥  ⎢                      sin(θ) \n",
       "⎟                                                ⎥  ⎢dt        1                          ⎥  ⎢                             \n",
       "⎠                                                ⎥  ⎢────────  ─     0            0       ⎥  ⎢d                            \n",
       "                                                 ⎥  ⎢  a(t)    r                          ⎥  ⎢──(a(t))                     \n",
       "            3                                    ⎥  ⎢                                     ⎥  ⎢dt        1  cos(θ)          \n",
       "         ε⋅r  + 2⋅k - r             0            ⎥  ⎣   0      0     0      -sin(θ)⋅cos(θ)⎦  ⎢────────  ─  ──────     0    \n",
       "                                                 ⎥                                           ⎣  a(t)    r  sin(θ)          \n",
       "                         ⎛   3          ⎞    2   ⎥                                                                         \n",
       "               0         ⎝ε⋅r  + 2⋅k - r⎠⋅sin (θ)⎦                                                                         \n",
       "\n",
       " ⎤\n",
       " ⎥\n",
       "⎤⎥\n",
       "⎥⎥\n",
       "⎥⎥\n",
       "⎥⎥\n",
       "⎥⎥\n",
       "⎥⎥\n",
       "⎥⎥\n",
       "⎥⎥\n",
       "⎥⎥\n",
       "⎥⎥\n",
       "⎥⎥\n",
       "⎥⎥\n",
       "⎥⎥\n",
       "⎥⎥\n",
       "⎥⎥\n",
       "⎥⎥\n",
       "⎥⎥\n",
       "⎥⎥\n",
       "⎦⎥\n",
       " ⎥\n",
       " ⎦"
      ]
     },
     "execution_count": 15,
     "metadata": {},
     "output_type": "execute_result"
    }
   ],
   "source": [
    "ch = ChristoffelSymbols.from_metric(metric)\n",
    "ch.tensor()"
   ]
  },
  {
   "cell_type": "code",
   "execution_count": 16,
   "id": "bb8c09d0",
   "metadata": {},
   "outputs": [
    {
     "data": {
      "text/latex": [
       "$\\displaystyle \\left[\\begin{matrix}- \\frac{3 \\frac{d^{2}}{d t^{2}} a{\\left(t \\right)}}{a{\\left(t \\right)}} & 0 & 0 & 0\\\\0 & \\frac{- 2 \\epsilon r^{3} + 2 k - r^{3} a{\\left(t \\right)} \\frac{d^{2}}{d t^{2}} a{\\left(t \\right)} - 2 r^{3} \\left(\\frac{d}{d t} a{\\left(t \\right)}\\right)^{2}}{r^{2} \\left(\\epsilon r^{3} + 2 k - r\\right)} & 0 & 0\\\\0 & 0 & \\frac{2 \\epsilon r^{3} + k + r^{3} a{\\left(t \\right)} \\frac{d^{2}}{d t^{2}} a{\\left(t \\right)} + 2 r^{3} \\left(\\frac{d}{d t} a{\\left(t \\right)}\\right)^{2}}{r} & 0\\\\0 & 0 & 0 & \\frac{\\left(2 \\epsilon r^{3} + k + r^{3} a{\\left(t \\right)} \\frac{d^{2}}{d t^{2}} a{\\left(t \\right)} + 2 r^{3} \\left(\\frac{d}{d t} a{\\left(t \\right)}\\right)^{2}\\right) \\sin^{2}{\\left(\\theta \\right)}}{r}\\end{matrix}\\right]$"
      ],
      "text/plain": [
       "⎡     2                                                                                                                    \n",
       "⎢    d                                                                                                                     \n",
       "⎢-3⋅───(a(t))                                                                                                              \n",
       "⎢     2                                                                                                                    \n",
       "⎢   dt                                                                                                                     \n",
       "⎢─────────────                            0                                                    0                           \n",
       "⎢     a(t)                                                                                                                 \n",
       "⎢                                                                                                                          \n",
       "⎢                                          2                        2                                                      \n",
       "⎢                      3          3       d             3 ⎛d       ⎞                                                       \n",
       "⎢               - 2⋅ε⋅r  + 2⋅k - r ⋅a(t)⋅───(a(t)) - 2⋅r ⋅⎜──(a(t))⎟                                                       \n",
       "⎢                                          2              ⎝dt      ⎠                                                       \n",
       "⎢                                        dt                                                                                \n",
       "⎢      0        ─────────────────────────────────────────────────────                          0                           \n",
       "⎢                                 2 ⎛   3          ⎞                                                                       \n",
       "⎢                                r ⋅⎝ε⋅r  + 2⋅k - r⎠                                                                       \n",
       "⎢                                                                                                                          \n",
       "⎢                                                                                             2                        2   \n",
       "⎢                                                                           3        3       d             3 ⎛d       ⎞    \n",
       "⎢                                                                      2⋅ε⋅r  + k + r ⋅a(t)⋅───(a(t)) + 2⋅r ⋅⎜──(a(t))⎟    \n",
       "⎢                                                                                             2              ⎝dt      ⎠    \n",
       "⎢                                                                                           dt                             \n",
       "⎢      0                                  0                            ─────────────────────────────────────────────────   \n",
       "⎢                                                                                              r                           \n",
       "⎢                                                                                                                          \n",
       "⎢                                                                                                                         ⎛\n",
       "⎢                                                                                                                         ⎜\n",
       "⎢                                                                                                                         ⎜\n",
       "⎢                                                                                                                         ⎜\n",
       "⎢                                                                                                                         ⎝\n",
       "⎢      0                                  0                                                    0                          ─\n",
       "⎣                                                                                                                          \n",
       "\n",
       "                                                          ⎤\n",
       "                                                          ⎥\n",
       "                                                          ⎥\n",
       "                                                          ⎥\n",
       "                                                          ⎥\n",
       "                            0                             ⎥\n",
       "                                                          ⎥\n",
       "                                                          ⎥\n",
       "                                                          ⎥\n",
       "                                                          ⎥\n",
       "                                                          ⎥\n",
       "                                                          ⎥\n",
       "                                                          ⎥\n",
       "                            0                             ⎥\n",
       "                                                          ⎥\n",
       "                                                          ⎥\n",
       "                                                          ⎥\n",
       "                                                          ⎥\n",
       "                                                          ⎥\n",
       "                                                          ⎥\n",
       "                                                          ⎥\n",
       "                                                          ⎥\n",
       "                            0                             ⎥\n",
       "                                                          ⎥\n",
       "                                                          ⎥\n",
       "                       2                        2⎞        ⎥\n",
       "     3        3       d             3 ⎛d       ⎞ ⎟    2   ⎥\n",
       "2⋅ε⋅r  + k + r ⋅a(t)⋅───(a(t)) + 2⋅r ⋅⎜──(a(t))⎟ ⎟⋅sin (θ)⎥\n",
       "                       2              ⎝dt      ⎠ ⎟        ⎥\n",
       "                     dt                          ⎠        ⎥\n",
       "──────────────────────────────────────────────────────────⎥\n",
       "                            r                             ⎦"
      ]
     },
     "execution_count": 16,
     "metadata": {},
     "output_type": "execute_result"
    }
   ],
   "source": [
    "Ric = RicciTensor.from_metric(metric)\n",
    "Ric.tensor()"
   ]
  },
  {
   "cell_type": "code",
   "execution_count": 17,
   "id": "dd8254f6",
   "metadata": {},
   "outputs": [
    {
     "data": {
      "image/png": "[encoded data removed]",
      "text/latex": [
       "$\\displaystyle - \\frac{6 \\epsilon + 6 a{\\left(t \\right)} \\frac{d^{2}}{d t^{2}} a{\\left(t \\right)} + 6 \\left(\\frac{d}{d t} a{\\left(t \\right)}\\right)^{2}}{a^{2}{\\left(t \\right)}}$"
      ],
      "text/plain": [
       " ⎛               2                     2⎞ \n",
       " ⎜              d            ⎛d       ⎞ ⎟ \n",
       "-⎜6⋅ε + 6⋅a(t)⋅───(a(t)) + 6⋅⎜──(a(t))⎟ ⎟ \n",
       " ⎜               2           ⎝dt      ⎠ ⎟ \n",
       " ⎝             dt                       ⎠ \n",
       "──────────────────────────────────────────\n",
       "                   2                      \n",
       "                  a (t)                   "
      ]
     },
     "execution_count": 17,
     "metadata": {},
     "output_type": "execute_result"
    }
   ],
   "source": [
    "R = RicciScalar.from_riccitensor(Ric)\n",
    "R.simplify()\n",
    "R.expr"
   ]
  },
  {
   "cell_type": "code",
   "execution_count": 18,
   "id": "74d5ca53",
   "metadata": {},
   "outputs": [
    {
     "data": {
      "text/latex": [
       "$\\displaystyle \\left[\\begin{matrix}\\frac{0.5 \\left(6 \\epsilon + 6 a{\\left(t \\right)} \\frac{d^{2}}{d t^{2}} a{\\left(t \\right)} + 6 \\left(\\frac{d}{d t} a{\\left(t \\right)}\\right)^{2}\\right)}{a^{2}{\\left(t \\right)}} - \\frac{3 \\frac{d^{2}}{d t^{2}} a{\\left(t \\right)}}{a{\\left(t \\right)}} & 0 & 0 & 0\\\\0 & - \\frac{0.5 \\left(6 \\epsilon + 6 a{\\left(t \\right)} \\frac{d^{2}}{d t^{2}} a{\\left(t \\right)} + 6 \\left(\\frac{d}{d t} a{\\left(t \\right)}\\right)^{2}\\right)}{- \\epsilon r^{2} - \\frac{2 k}{r} + 1} + \\frac{- 2 \\epsilon r^{3} + 2 k - r^{3} a{\\left(t \\right)} \\frac{d^{2}}{d t^{2}} a{\\left(t \\right)} - 2 r^{3} \\left(\\frac{d}{d t} a{\\left(t \\right)}\\right)^{2}}{r^{2} \\left(\\epsilon r^{3} + 2 k - r\\right)} & 0 & 0\\\\0 & 0 & - 0.5 r^{2} \\left(6 \\epsilon + 6 a{\\left(t \\right)} \\frac{d^{2}}{d t^{2}} a{\\left(t \\right)} + 6 \\left(\\frac{d}{d t} a{\\left(t \\right)}\\right)^{2}\\right) + \\frac{2 \\epsilon r^{3} + k + r^{3} a{\\left(t \\right)} \\frac{d^{2}}{d t^{2}} a{\\left(t \\right)} + 2 r^{3} \\left(\\frac{d}{d t} a{\\left(t \\right)}\\right)^{2}}{r} & 0\\\\0 & 0 & 0 & - 0.5 r^{2} \\left(6 \\epsilon + 6 a{\\left(t \\right)} \\frac{d^{2}}{d t^{2}} a{\\left(t \\right)} + 6 \\left(\\frac{d}{d t} a{\\left(t \\right)}\\right)^{2}\\right) \\sin^{2}{\\left(\\theta \\right)} + \\frac{\\left(2 \\epsilon r^{3} + k + r^{3} a{\\left(t \\right)} \\frac{d^{2}}{d t^{2}} a{\\left(t \\right)} + 2 r^{3} \\left(\\frac{d}{d t} a{\\left(t \\right)}\\right)^{2}\\right) \\sin^{2}{\\left(\\theta \\right)}}{r}\\end{matrix}\\right]$"
      ],
      "text/plain": [
       "⎡    ⎛               2                     2⎞       2                                                                      \n",
       "⎢    ⎜              d            ⎛d       ⎞ ⎟      d                                                                       \n",
       "⎢0.5⋅⎜6⋅ε + 6⋅a(t)⋅───(a(t)) + 6⋅⎜──(a(t))⎟ ⎟   3⋅───(a(t))                                                                \n",
       "⎢    ⎜               2           ⎝dt      ⎠ ⎟       2                                                                      \n",
       "⎢    ⎝             dt                       ⎠     dt                                                                       \n",
       "⎢──────────────────────────────────────────── - ───────────                                                    0           \n",
       "⎢                    2                              a(t)                                                                   \n",
       "⎢                   a (t)                                                                                                  \n",
       "⎢                                                                                                                          \n",
       "⎢                                                                  ⎛               2                     2⎞                \n",
       "⎢                                                                  ⎜              d            ⎛d       ⎞ ⎟          3     \n",
       "⎢                                                              0.5⋅⎜6⋅ε + 6⋅a(t)⋅───(a(t)) + 6⋅⎜──(a(t))⎟ ⎟   - 2⋅ε⋅r  + 2⋅\n",
       "⎢                                                                  ⎜               2           ⎝dt      ⎠ ⎟                \n",
       "⎢                                                                  ⎝             dt                       ⎠                \n",
       "⎢                            0                               - ──────────────────────────────────────────── + ─────────────\n",
       "⎢                                                                                 2   2⋅k                                  \n",
       "⎢                                                                            - ε⋅r  - ─── + 1                              \n",
       "⎢                                                                                      r                                   \n",
       "⎢                                                                                                                          \n",
       "⎢                                                                                                                          \n",
       "⎢                                                                                                                          \n",
       "⎢                                                                                                                          \n",
       "⎢                                                                                                                          \n",
       "⎢                                                                                                                          \n",
       "⎢                            0                                                                                 0           \n",
       "⎢                                                                                                                          \n",
       "⎢                                                                                                                          \n",
       "⎢                                                                                                                          \n",
       "⎢                                                                                                                          \n",
       "⎢                                                                                                                          \n",
       "⎢                                                                                                                          \n",
       "⎢                                                                                                                          \n",
       "⎢                                                                                                                          \n",
       "⎢                            0                                                                                 0           \n",
       "⎢                                                                                                                          \n",
       "⎣                                                                                                                          \n",
       "\n",
       "                                                                                                                           \n",
       "                                                                                                                           \n",
       "                                                                                                                           \n",
       "                                                                                                                           \n",
       "                                                                                                                           \n",
       "                                                                                            0                              \n",
       "                                                                                                                           \n",
       "                                                                                                                           \n",
       "                                                                                                                           \n",
       "              2                        2                                                                                   \n",
       "     3       d             3 ⎛d       ⎞                                                                                    \n",
       "k - r ⋅a(t)⋅───(a(t)) - 2⋅r ⋅⎜──(a(t))⎟                                                                                    \n",
       "              2              ⎝dt      ⎠                                                                                    \n",
       "            dt                                                                                                             \n",
       "────────────────────────────────────────                                                    0                              \n",
       "     2 ⎛   3          ⎞                                                                                                    \n",
       "    r ⋅⎝ε⋅r  + 2⋅k - r⎠                                                                                                    \n",
       "                                                                                                                           \n",
       "                                                                                                                           \n",
       "                                                                                                                     2     \n",
       "                                                                                                   3        3       d      \n",
       "                                                                                              2⋅ε⋅r  + k + r ⋅a(t)⋅───(a(t)\n",
       "                                                   ⎛               2                     2⎞                          2     \n",
       "                                                 2 ⎜              d            ⎛d       ⎞ ⎟                        dt      \n",
       "                                          - 0.5⋅r ⋅⎜6⋅ε + 6⋅a(t)⋅───(a(t)) + 6⋅⎜──(a(t))⎟ ⎟ + ─────────────────────────────\n",
       "                                                   ⎜               2           ⎝dt      ⎠ ⎟                           r    \n",
       "                                                   ⎝             dt                       ⎠                                \n",
       "                                                                                                                           \n",
       "                                                                                                                           \n",
       "                                                                                                                           \n",
       "                                                                                                                           \n",
       "                                                                                                                           \n",
       "                                                                                                                           \n",
       "                                                                                            0                              \n",
       "                                                                                                                           \n",
       "                                                                                                                           \n",
       "\n",
       "                                                                                                                           \n",
       "                                                                                                                           \n",
       "                                                                                                                           \n",
       "                                                                                                                           \n",
       "                                                                                                                           \n",
       "                                                                                 0                                         \n",
       "                                                                                                                           \n",
       "                                                                                                                           \n",
       "                                                                                                                           \n",
       "                                                                                                                           \n",
       "                                                                                                                           \n",
       "                                                                                                                           \n",
       "                                                                                                                           \n",
       "                                                                                                                           \n",
       "                                                                                 0                                         \n",
       "                                                                                                                           \n",
       "                                                                                                                           \n",
       "                                                                                                                           \n",
       "                                                                                                                           \n",
       "                   2                                                                                                       \n",
       "       3 ⎛d       ⎞                                                                                                        \n",
       ") + 2⋅r ⋅⎜──(a(t))⎟                                                                                                        \n",
       "         ⎝dt      ⎠                                                                                                        \n",
       "                                                                                                                           \n",
       "────────────────────                                                             0                                         \n",
       "                                                                                                                           \n",
       "                                                                                                                           \n",
       "                                                                                                                           \n",
       "                                                                                  ⎛                       2                \n",
       "                                                                                  ⎜     3        3       d             3 ⎛d\n",
       "                                                                                  ⎜2⋅ε⋅r  + k + r ⋅a(t)⋅───(a(t)) + 2⋅r ⋅⎜─\n",
       "                               ⎛               2                     2⎞           ⎜                       2              ⎝d\n",
       "                             2 ⎜              d            ⎛d       ⎞ ⎟    2      ⎝                     dt                 \n",
       "                      - 0.5⋅r ⋅⎜6⋅ε + 6⋅a(t)⋅───(a(t)) + 6⋅⎜──(a(t))⎟ ⎟⋅sin (θ) + ─────────────────────────────────────────\n",
       "                               ⎜               2           ⎝dt      ⎠ ⎟                                        r           \n",
       "                               ⎝             dt                       ⎠                                                    \n",
       "\n",
       "                  ⎤\n",
       "                  ⎥\n",
       "                  ⎥\n",
       "                  ⎥\n",
       "                  ⎥\n",
       "                  ⎥\n",
       "                  ⎥\n",
       "                  ⎥\n",
       "                  ⎥\n",
       "                  ⎥\n",
       "                  ⎥\n",
       "                  ⎥\n",
       "                  ⎥\n",
       "                  ⎥\n",
       "                  ⎥\n",
       "                  ⎥\n",
       "                  ⎥\n",
       "                  ⎥\n",
       "                  ⎥\n",
       "                  ⎥\n",
       "                  ⎥\n",
       "                  ⎥\n",
       "                  ⎥\n",
       "                  ⎥\n",
       "                  ⎥\n",
       "                  ⎥\n",
       "                  ⎥\n",
       "                  ⎥\n",
       "        2⎞        ⎥\n",
       "       ⎞ ⎟    2   ⎥\n",
       "─(a(t))⎟ ⎟⋅sin (θ)⎥\n",
       "t      ⎠ ⎟        ⎥\n",
       "         ⎠        ⎥\n",
       "──────────────────⎥\n",
       "                  ⎥\n",
       "                  ⎦"
      ]
     },
     "execution_count": 18,
     "metadata": {},
     "output_type": "execute_result"
    }
   ],
   "source": [
    "einst = EinsteinTensor.from_metric(metric)\n",
    "einst.tensor()"
   ]
  },
  {
   "cell_type": "code",
   "execution_count": 19,
   "id": "0529a08d",
   "metadata": {},
   "outputs": [
    {
     "data": {
      "text/latex": [
       "$\\displaystyle \\left[\\begin{matrix}\\left[\\begin{matrix}0 & 0 & 0 & 0\\\\0 & 0 & 0 & 0\\\\0 & 0 & 0 & 0\\\\0 & 0 & 0 & 0\\end{matrix}\\right] & \\left[\\begin{matrix}0 & - \\frac{r a{\\left(t \\right)} \\frac{d^{2}}{d t^{2}} a{\\left(t \\right)}}{\\epsilon r^{3} + 2 k - r} & 0 & 0\\\\\\frac{r a{\\left(t \\right)} \\frac{d^{2}}{d t^{2}} a{\\left(t \\right)}}{\\epsilon r^{3} + 2 k - r} & 0 & 0 & 0\\\\0 & 0 & 0 & 0\\\\0 & 0 & 0 & 0\\end{matrix}\\right] & \\left[\\begin{matrix}0 & 0 & r^{2} a{\\left(t \\right)} \\frac{d^{2}}{d t^{2}} a{\\left(t \\right)} & 0\\\\0 & 0 & 0 & 0\\\\- r^{2} a{\\left(t \\right)} \\frac{d^{2}}{d t^{2}} a{\\left(t \\right)} & 0 & 0 & 0\\\\0 & 0 & 0 & 0\\end{matrix}\\right] & \\left[\\begin{matrix}0 & 0 & 0 & r^{2} a{\\left(t \\right)} \\sin^{2}{\\left(\\theta \\right)} \\frac{d^{2}}{d t^{2}} a{\\left(t \\right)}\\\\0 & 0 & 0 & 0\\\\0 & 0 & 0 & 0\\\\- r^{2} a{\\left(t \\right)} \\sin^{2}{\\left(\\theta \\right)} \\frac{d^{2}}{d t^{2}} a{\\left(t \\right)} & 0 & 0 & 0\\end{matrix}\\right]\\\\\\left[\\begin{matrix}0 & \\frac{\\frac{d^{2}}{d t^{2}} a{\\left(t \\right)}}{a{\\left(t \\right)}} & 0 & 0\\\\- \\frac{\\frac{d^{2}}{d t^{2}} a{\\left(t \\right)}}{a{\\left(t \\right)}} & 0 & 0 & 0\\\\0 & 0 & 0 & 0\\\\0 & 0 & 0 & 0\\end{matrix}\\right] & \\left[\\begin{matrix}0 & 0 & 0 & 0\\\\0 & 0 & 0 & 0\\\\0 & 0 & 0 & 0\\\\0 & 0 & 0 & 0\\end{matrix}\\right] & \\left[\\begin{matrix}0 & 0 & 0 & 0\\\\0 & 0 & \\frac{\\epsilon r^{3} - k + r^{3} \\left(\\frac{d}{d t} a{\\left(t \\right)}\\right)^{2}}{r} & 0\\\\0 & \\frac{- \\epsilon r^{3} + k - r^{3} \\left(\\frac{d}{d t} a{\\left(t \\right)}\\right)^{2}}{r} & 0 & 0\\\\0 & 0 & 0 & 0\\end{matrix}\\right] & \\left[\\begin{matrix}0 & 0 & 0 & 0\\\\0 & 0 & 0 & \\frac{\\left(\\epsilon r^{3} - k + r^{3} \\left(\\frac{d}{d t} a{\\left(t \\right)}\\right)^{2}\\right) \\sin^{2}{\\left(\\theta \\right)}}{r}\\\\0 & 0 & 0 & 0\\\\0 & \\frac{\\left(- \\epsilon r^{3} + k - r^{3} \\left(\\frac{d}{d t} a{\\left(t \\right)}\\right)^{2}\\right) \\sin^{2}{\\left(\\theta \\right)}}{r} & 0 & 0\\end{matrix}\\right]\\\\\\left[\\begin{matrix}0 & 0 & \\frac{\\frac{d^{2}}{d t^{2}} a{\\left(t \\right)}}{a{\\left(t \\right)}} & 0\\\\0 & 0 & 0 & 0\\\\- \\frac{\\frac{d^{2}}{d t^{2}} a{\\left(t \\right)}}{a{\\left(t \\right)}} & 0 & 0 & 0\\\\0 & 0 & 0 & 0\\end{matrix}\\right] & \\left[\\begin{matrix}0 & 0 & 0 & 0\\\\0 & 0 & \\frac{\\epsilon r^{3} - k + r^{3} \\left(\\frac{d}{d t} a{\\left(t \\right)}\\right)^{2}}{r^{2} \\left(\\epsilon r^{3} + 2 k - r\\right)} & 0\\\\0 & \\frac{- \\epsilon r^{3} + k - r^{3} \\left(\\frac{d}{d t} a{\\left(t \\right)}\\right)^{2}}{r^{2} \\left(\\epsilon r^{3} + 2 k - r\\right)} & 0 & 0\\\\0 & 0 & 0 & 0\\end{matrix}\\right] & \\left[\\begin{matrix}0 & 0 & 0 & 0\\\\0 & 0 & 0 & 0\\\\0 & 0 & 0 & 0\\\\0 & 0 & 0 & 0\\end{matrix}\\right] & \\left[\\begin{matrix}0 & 0 & 0 & 0\\\\0 & 0 & 0 & 0\\\\0 & 0 & 0 & \\frac{\\left(\\epsilon r^{3} + 2 k + r^{3} \\left(\\frac{d}{d t} a{\\left(t \\right)}\\right)^{2}\\right) \\sin^{2}{\\left(\\theta \\right)}}{r}\\\\0 & 0 & - \\frac{\\left(\\epsilon r^{3} + 2 k + r^{3} \\left(\\frac{d}{d t} a{\\left(t \\right)}\\right)^{2}\\right) \\sin^{2}{\\left(\\theta \\right)}}{r} & 0\\end{matrix}\\right]\\\\\\left[\\begin{matrix}0 & 0 & 0 & \\frac{\\frac{d^{2}}{d t^{2}} a{\\left(t \\right)}}{a{\\left(t \\right)}}\\\\0 & 0 & 0 & 0\\\\0 & 0 & 0 & 0\\\\- \\frac{\\frac{d^{2}}{d t^{2}} a{\\left(t \\right)}}{a{\\left(t \\right)}} & 0 & 0 & 0\\end{matrix}\\right] & \\left[\\begin{matrix}0 & 0 & 0 & 0\\\\0 & 0 & 0 & \\frac{\\epsilon r^{3} - k + r^{3} \\left(\\frac{d}{d t} a{\\left(t \\right)}\\right)^{2}}{r^{2} \\left(\\epsilon r^{3} + 2 k - r\\right)}\\\\0 & 0 & 0 & 0\\\\0 & \\frac{- \\epsilon r^{3} + k - r^{3} \\left(\\frac{d}{d t} a{\\left(t \\right)}\\right)^{2}}{r^{2} \\left(\\epsilon r^{3} + 2 k - r\\right)} & 0 & 0\\end{matrix}\\right] & \\left[\\begin{matrix}0 & 0 & 0 & 0\\\\0 & 0 & 0 & 0\\\\0 & 0 & 0 & - \\frac{\\epsilon r^{3} + 2 k + r^{3} \\left(\\frac{d}{d t} a{\\left(t \\right)}\\right)^{2}}{r}\\\\0 & 0 & \\frac{\\epsilon r^{3} + 2 k + r^{3} \\left(\\frac{d}{d t} a{\\left(t \\right)}\\right)^{2}}{r} & 0\\end{matrix}\\right] & \\left[\\begin{matrix}0 & 0 & 0 & 0\\\\0 & 0 & 0 & 0\\\\0 & 0 & 0 & 0\\\\0 & 0 & 0 & 0\\end{matrix}\\right]\\end{matrix}\\right]$"
      ],
      "text/plain": [
       "⎡                                         ⎡                            2             ⎤                                     \n",
       "⎢                                         ⎢                           d              ⎥                                     \n",
       "⎢                                         ⎢                  -r⋅a(t)⋅───(a(t))       ⎥                                     \n",
       "⎢                                         ⎢                            2             ⎥                      ⎡              \n",
       "⎢                                         ⎢                          dt              ⎥                      ⎢              \n",
       "⎢                                         ⎢       0          ──────────────────  0  0⎥                      ⎢        0     \n",
       "⎢                                         ⎢                       3                  ⎥                      ⎢              \n",
       "⎢         ⎡0  0  0  0⎤                    ⎢                    ε⋅r  + 2⋅k - r        ⎥                      ⎢              \n",
       "⎢         ⎢          ⎥                    ⎢                                          ⎥                      ⎢              \n",
       "⎢         ⎢0  0  0  0⎥                    ⎢         2                                ⎥                      ⎢        0     \n",
       "⎢         ⎢          ⎥                    ⎢        d                                 ⎥                      ⎢              \n",
       "⎢         ⎢0  0  0  0⎥                    ⎢r⋅a(t)⋅───(a(t))                          ⎥                      ⎢           2  \n",
       "⎢         ⎢          ⎥                    ⎢         2                                ⎥                      ⎢  2       d   \n",
       "⎢         ⎣0  0  0  0⎦                    ⎢       dt                                 ⎥                      ⎢-r ⋅a(t)⋅───(a\n",
       "⎢                                         ⎢────────────────          0           0  0⎥                      ⎢           2  \n",
       "⎢                                         ⎢    3                                     ⎥                      ⎢         dt   \n",
       "⎢                                         ⎢ ε⋅r  + 2⋅k - r                           ⎥                      ⎢              \n",
       "⎢                                         ⎢                                          ⎥                      ⎣        0     \n",
       "⎢                                         ⎢       0                  0           0  0⎥                                     \n",
       "⎢                                         ⎢                                          ⎥                                     \n",
       "⎢                                         ⎣       0                  0           0  0⎦                                     \n",
       "⎢                                                                                                                          \n",
       "⎢⎡               2            ⎤                                                                                            \n",
       "⎢⎢              d             ⎥                                                                     ⎡0               0     \n",
       "⎢⎢             ───(a(t))      ⎥                                                                     ⎢                      \n",
       "⎢⎢               2            ⎥                                                                     ⎢                      \n",
       "⎢⎢             dt             ⎥                                                                     ⎢                      \n",
       "⎢⎢     0       ─────────  0  0⎥                                                                     ⎢                      \n",
       "⎢⎢                a(t)        ⎥                           ⎡0  0  0  0⎤                              ⎢                      \n",
       "⎢⎢                            ⎥                           ⎢          ⎥                              ⎢0               0     \n",
       "⎢⎢   2                        ⎥                           ⎢0  0  0  0⎥                              ⎢                      \n",
       "⎢⎢  d                         ⎥                           ⎢          ⎥                              ⎢                      \n",
       "⎢⎢-───(a(t))                  ⎥                           ⎢0  0  0  0⎥                              ⎢                      \n",
       "⎢⎢   2                        ⎥                           ⎢          ⎥                              ⎢        3        3 ⎛d \n",
       "⎢⎢ dt                         ⎥                           ⎣0  0  0  0⎦                              ⎢   - ε⋅r  + k - r ⋅⎜──\n",
       "⎢⎢───────────      0      0  0⎥                                                                     ⎢                   ⎝dt\n",
       "⎢⎢    a(t)                    ⎥                                                                     ⎢0  ───────────────────\n",
       "⎢⎢                            ⎥                                                                     ⎢                r     \n",
       "⎢⎢     0           0      0  0⎥                                                                     ⎢                      \n",
       "⎢⎢                            ⎥                                                                     ⎣0               0     \n",
       "⎢⎣     0           0      0  0⎦                                                                                            \n",
       "⎢                                                                                                                          \n",
       "⎢⎡                  2         ⎤  ⎡0               0                           0              0⎤                            \n",
       "⎢⎢                 d          ⎥  ⎢                                                            ⎥                            \n",
       "⎢⎢                ───(a(t))   ⎥  ⎢                                                        2   ⎥                            \n",
       "⎢⎢                  2         ⎥  ⎢                                   3        3 ⎛d       ⎞    ⎥                            \n",
       "⎢⎢                dt          ⎥  ⎢                                ε⋅r  - k + r ⋅⎜──(a(t))⎟    ⎥                            \n",
       "⎢⎢     0       0  ─────────  0⎥  ⎢                                              ⎝dt      ⎠    ⎥                            \n",
       "⎢⎢                   a(t)     ⎥  ⎢0               0               ─────────────────────────  0⎥                            \n",
       "⎢⎢                            ⎥  ⎢                                    2 ⎛   3          ⎞      ⎥                            \n",
       "⎢⎢     0       0      0      0⎥  ⎢                                   r ⋅⎝ε⋅r  + 2⋅k - r⎠      ⎥                            \n",
       "⎢⎢                            ⎥  ⎢                                                            ⎥                            \n",
       "⎢⎢   2                        ⎥  ⎢                             2                              ⎥                            \n",
       "⎢⎢  d                         ⎥  ⎢        3        3 ⎛d       ⎞                               ⎥                            \n",
       "⎢⎢-───(a(t))                  ⎥  ⎢   - ε⋅r  + k - r ⋅⎜──(a(t))⎟                               ⎥                            \n",
       "⎢⎢   2                        ⎥  ⎢                   ⎝dt      ⎠                               ⎥                            \n",
       "⎢⎢ dt                         ⎥  ⎢0  ───────────────────────────              0              0⎥                            \n",
       "⎢⎢───────────  0      0      0⎥  ⎢        2 ⎛   3          ⎞                                  ⎥                            \n",
       "⎢⎢    a(t)                    ⎥  ⎢       r ⋅⎝ε⋅r  + 2⋅k - r⎠                                  ⎥                            \n",
       "⎢⎢                            ⎥  ⎢                                                            ⎥                            \n",
       "⎢⎣     0       0      0      0⎦  ⎣0               0                           0              0⎦                            \n",
       "⎢                                                                                                                          \n",
       "⎢⎡                     2      ⎤  ⎡0               0               0              0            ⎤                            \n",
       "⎢⎢                    d       ⎥  ⎢                                                            ⎥  ⎡0  0               0     \n",
       "⎢⎢                   ───(a(t))⎥  ⎢                                                           2⎥  ⎢                         \n",
       "⎢⎢                     2      ⎥  ⎢                                      3        3 ⎛d       ⎞ ⎥  ⎢0  0               0     \n",
       "⎢⎢                   dt       ⎥  ⎢                                   ε⋅r  - k + r ⋅⎜──(a(t))⎟ ⎥  ⎢                         \n",
       "⎢⎢     0       0  0  ─────────⎥  ⎢                                                 ⎝dt      ⎠ ⎥  ⎢                         \n",
       "⎢⎢                      a(t)  ⎥  ⎢0               0               0  ─────────────────────────⎥  ⎢                         \n",
       "⎢⎢                            ⎥  ⎢                                       2 ⎛   3          ⎞   ⎥  ⎢                         \n",
       "⎢⎢     0       0  0      0    ⎥  ⎢                                      r ⋅⎝ε⋅r  + 2⋅k - r⎠   ⎥  ⎢                         \n",
       "⎢⎢                            ⎥  ⎢                                                            ⎥  ⎢0  0               0     \n",
       "⎢⎢     0       0  0      0    ⎥  ⎢0               0               0              0            ⎥  ⎢                         \n",
       "⎢⎢                            ⎥  ⎢                                                            ⎥  ⎢                         \n",
       "⎢⎢   2                        ⎥  ⎢                             2                              ⎥  ⎢                         \n",
       "⎢⎢  d                         ⎥  ⎢        3        3 ⎛d       ⎞                               ⎥  ⎢         3          3 ⎛d \n",
       "⎢⎢-───(a(t))                  ⎥  ⎢   - ε⋅r  + k - r ⋅⎜──(a(t))⎟                               ⎥  ⎢      ε⋅r  + 2⋅k + r ⋅⎜──\n",
       "⎢⎢   2                        ⎥  ⎢                   ⎝dt      ⎠                               ⎥  ⎢                      ⎝dt\n",
       "⎢⎢ dt                         ⎥  ⎢0  ───────────────────────────  0              0            ⎥  ⎢0  0  ───────────────────\n",
       "⎢⎢───────────  0  0      0    ⎥  ⎢        2 ⎛   3          ⎞                                  ⎥  ⎣                   r     \n",
       "⎣⎣    a(t)                    ⎦  ⎣       r ⋅⎝ε⋅r  + 2⋅k - r⎠                                  ⎦                            \n",
       "\n",
       "                                                                                                                           \n",
       "                                                                                                                           \n",
       "                                                                                                                           \n",
       "                   2         ⎤                          ⎡                                                    2      ⎤      \n",
       "          2       d          ⎥                          ⎢                                   2         2     d       ⎥      \n",
       "      0  r ⋅a(t)⋅───(a(t))  0⎥                          ⎢            0               0  0  r ⋅a(t)⋅sin (θ)⋅───(a(t))⎥      \n",
       "                   2         ⎥                          ⎢                                                    2      ⎥      \n",
       "                 dt          ⎥                          ⎢                                                  dt       ⎥      \n",
       "                             ⎥                          ⎢                                                           ⎥      \n",
       "      0          0          0⎥                          ⎢            0               0  0              0            ⎥      \n",
       "                             ⎥                          ⎢                                                           ⎥      \n",
       "                             ⎥                          ⎢            0               0  0              0            ⎥      \n",
       "                             ⎥                          ⎢                                                           ⎥      \n",
       "(t))  0          0          0⎥                          ⎢                   2                                       ⎥      \n",
       "                             ⎥                          ⎢  2         2     d                                        ⎥      \n",
       "                             ⎥                          ⎢-r ⋅a(t)⋅sin (θ)⋅───(a(t))  0  0              0            ⎥      \n",
       "                             ⎥                          ⎢                   2                                       ⎥      \n",
       "      0          0          0⎦                          ⎣                 dt                                        ⎦      \n",
       "                                                                                                                           \n",
       "                                                                                                                           \n",
       "                                                                                                                           \n",
       "                                                                                                                           \n",
       "                                                                                                                           \n",
       "                      0              0⎤       ⎡0                    0                    0                   0             \n",
       "                                      ⎥       ⎢                                                                            \n",
       "                                  2   ⎥       ⎢                                             ⎛                        2⎞    \n",
       "             3        3 ⎛d       ⎞    ⎥       ⎢                                             ⎜   3        3 ⎛d       ⎞ ⎟    \n",
       "          ε⋅r  - k + r ⋅⎜──(a(t))⎟    ⎥       ⎢                                             ⎜ε⋅r  - k + r ⋅⎜──(a(t))⎟ ⎟⋅sin\n",
       "                        ⎝dt      ⎠    ⎥       ⎢                                             ⎝              ⎝dt      ⎠ ⎠    \n",
       "          ─────────────────────────  0⎥       ⎢0                    0                    0  ───────────────────────────────\n",
       "                      r               ⎥       ⎢                                                              r             \n",
       "                                      ⎥       ⎢                                                                            \n",
       "       2                              ⎥       ⎢0                    0                    0                   0             \n",
       "      ⎞                               ⎥       ⎢                                                                            \n",
       "(a(t))⎟                               ⎥       ⎢   ⎛                          2⎞                                            \n",
       "      ⎠                               ⎥       ⎢   ⎜     3        3 ⎛d       ⎞ ⎟    2                                       \n",
       "────────              0              0⎥       ⎢   ⎜- ε⋅r  + k - r ⋅⎜──(a(t))⎟ ⎟⋅sin (θ)                                    \n",
       "                                      ⎥       ⎢   ⎝                ⎝dt      ⎠ ⎠                                            \n",
       "                                      ⎥       ⎢0  ─────────────────────────────────────  0                   0             \n",
       "                      0              0⎦       ⎣                     r                                                      \n",
       "                                                                                                                           \n",
       "                                                                                                                           \n",
       "                                                                                                                           \n",
       "                                            ⎡0  0                     0                                       0            \n",
       "                                            ⎢                                                                              \n",
       "                                            ⎢0  0                     0                                       0            \n",
       "                                            ⎢                                                                              \n",
       "                                            ⎢                                               ⎛                          2⎞  \n",
       "  ⎡0  0  0  0⎤                              ⎢                                               ⎜   3          3 ⎛d       ⎞ ⎟  \n",
       "  ⎢          ⎥                              ⎢                                               ⎜ε⋅r  + 2⋅k + r ⋅⎜──(a(t))⎟ ⎟⋅s\n",
       "  ⎢0  0  0  0⎥                              ⎢                                               ⎝                ⎝dt      ⎠ ⎠  \n",
       "  ⎢          ⎥                              ⎢0  0                     0                     ───────────────────────────────\n",
       "  ⎢0  0  0  0⎥                              ⎢                                                                 r            \n",
       "  ⎢          ⎥                              ⎢                                                                              \n",
       "  ⎣0  0  0  0⎦                              ⎢       ⎛                          2⎞                                          \n",
       "                                            ⎢       ⎜   3          3 ⎛d       ⎞ ⎟    2                                     \n",
       "                                            ⎢      -⎜ε⋅r  + 2⋅k + r ⋅⎜──(a(t))⎟ ⎟⋅sin (θ)                                  \n",
       "                                            ⎢       ⎝                ⎝dt      ⎠ ⎠                                          \n",
       "                                            ⎢0  0  ───────────────────────────────────────                    0            \n",
       "                                            ⎣                         r                                                    \n",
       "                                                                                                                           \n",
       "                                                                                                                           \n",
       "                                                                                                                           \n",
       "                         0               ⎤                                                                                 \n",
       "                                         ⎥                                                                                 \n",
       "                         0               ⎥                                                                                 \n",
       "                                         ⎥                                                                                 \n",
       "           ⎛                          2⎞ ⎥                                                                                 \n",
       "           ⎜   3          3 ⎛d       ⎞ ⎟ ⎥                                       ⎡0  0  0  0⎤                              \n",
       "          -⎜ε⋅r  + 2⋅k + r ⋅⎜──(a(t))⎟ ⎟ ⎥                                       ⎢          ⎥                              \n",
       "           ⎝                ⎝dt      ⎠ ⎠ ⎥                                       ⎢0  0  0  0⎥                              \n",
       "          ───────────────────────────────⎥                                       ⎢          ⎥                              \n",
       "                         r               ⎥                                       ⎢0  0  0  0⎥                              \n",
       "                                         ⎥                                       ⎢          ⎥                              \n",
       "       2                                 ⎥                                       ⎣0  0  0  0⎦                              \n",
       "      ⎞                                  ⎥                                                                                 \n",
       "(a(t))⎟                                  ⎥                                                                                 \n",
       "      ⎠                                  ⎥                                                                                 \n",
       "────────                 0               ⎥                                                                                 \n",
       "                                         ⎦                                                                                 \n",
       "                                                                                                                           \n",
       "\n",
       "       ⎤\n",
       "       ⎥\n",
       "       ⎥\n",
       "       ⎥\n",
       "       ⎥\n",
       "       ⎥\n",
       "       ⎥\n",
       "       ⎥\n",
       "       ⎥\n",
       "       ⎥\n",
       "       ⎥\n",
       "       ⎥\n",
       "       ⎥\n",
       "       ⎥\n",
       "       ⎥\n",
       "       ⎥\n",
       "       ⎥\n",
       "       ⎥\n",
       "       ⎥\n",
       "       ⎥\n",
       "       ⎥\n",
       "       ⎥\n",
       "       ⎥\n",
       "    ⎤  ⎥\n",
       "    ⎥  ⎥\n",
       "    ⎥  ⎥\n",
       "2   ⎥  ⎥\n",
       " (θ)⎥  ⎥\n",
       "    ⎥  ⎥\n",
       "────⎥  ⎥\n",
       "    ⎥  ⎥\n",
       "    ⎥  ⎥\n",
       "    ⎥  ⎥\n",
       "    ⎥  ⎥\n",
       "    ⎥  ⎥\n",
       "    ⎥  ⎥\n",
       "    ⎥  ⎥\n",
       "    ⎥  ⎥\n",
       "    ⎥  ⎥\n",
       "    ⎦  ⎥\n",
       "       ⎥\n",
       "       ⎥\n",
       "       ⎥\n",
       "      ⎤⎥\n",
       "      ⎥⎥\n",
       "      ⎥⎥\n",
       "      ⎥⎥\n",
       "      ⎥⎥\n",
       "  2   ⎥⎥\n",
       "in (θ)⎥⎥\n",
       "      ⎥⎥\n",
       "──────⎥⎥\n",
       "      ⎥⎥\n",
       "      ⎥⎥\n",
       "      ⎥⎥\n",
       "      ⎥⎥\n",
       "      ⎥⎥\n",
       "      ⎥⎥\n",
       "      ⎥⎥\n",
       "      ⎦⎥\n",
       "       ⎥\n",
       "       ⎥\n",
       "       ⎥\n",
       "       ⎥\n",
       "       ⎥\n",
       "       ⎥\n",
       "       ⎥\n",
       "       ⎥\n",
       "       ⎥\n",
       "       ⎥\n",
       "       ⎥\n",
       "       ⎥\n",
       "       ⎥\n",
       "       ⎥\n",
       "       ⎥\n",
       "       ⎥\n",
       "       ⎥\n",
       "       ⎥\n",
       "       ⎥\n",
       "       ⎥\n",
       "       ⎦"
      ]
     },
     "execution_count": 19,
     "metadata": {},
     "output_type": "execute_result"
    }
   ],
   "source": [
    "rm1 = RiemannCurvatureTensor.from_christoffels(ch)\n",
    "rm1.tensor()"
   ]
  },
  {
   "cell_type": "code",
   "execution_count": 20,
   "id": "8cc7e75b",
   "metadata": {},
   "outputs": [
    {
     "data": {
      "text/latex": [
       "$\\displaystyle \\left[\\begin{matrix}\\left[\\begin{matrix}0 & 0 & 0 & 0\\\\0 & 0 & 0 & 0\\\\0 & 0 & 0 & 0\\\\0 & 0 & 0 & 0\\end{matrix}\\right] & \\left[\\begin{matrix}0 & - \\frac{k}{r^{2} \\left(\\epsilon r^{3} + 2 k - r\\right)} & 0 & 0\\\\\\frac{k}{r^{2} \\left(\\epsilon r^{3} + 2 k - r\\right)} & 0 & 0 & 0\\\\0 & 0 & 0 & 0\\\\0 & 0 & 0 & 0\\end{matrix}\\right] & \\left[\\begin{matrix}0 & 0 & - \\frac{k}{2 r} & 0\\\\0 & 0 & 0 & 0\\\\\\frac{k}{2 r} & 0 & 0 & 0\\\\0 & 0 & 0 & 0\\end{matrix}\\right] & \\left[\\begin{matrix}0 & 0 & 0 & - \\frac{k \\sin^{2}{\\left(\\theta \\right)}}{2 r}\\\\0 & 0 & 0 & 0\\\\0 & 0 & 0 & 0\\\\\\frac{k \\sin^{2}{\\left(\\theta \\right)}}{2 r} & 0 & 0 & 0\\end{matrix}\\right]\\\\\\left[\\begin{matrix}0 & \\frac{k}{r^{2} \\left(\\epsilon r^{3} + 2 k - r\\right)} & 0 & 0\\\\- \\frac{k}{r^{2} \\left(\\epsilon r^{3} + 2 k - r\\right)} & 0 & 0 & 0\\\\0 & 0 & 0 & 0\\\\0 & 0 & 0 & 0\\end{matrix}\\right] & \\left[\\begin{matrix}0 & 0 & 0 & 0\\\\0 & 0 & 0 & 0\\\\0 & 0 & 0 & 0\\\\0 & 0 & 0 & 0\\end{matrix}\\right] & \\left[\\begin{matrix}0 & 0 & 0 & 0\\\\0 & 0 & - \\frac{k a^{2}{\\left(t \\right)}}{2 \\epsilon r^{3} + 4 k - 2 r} & 0\\\\0 & \\frac{k a^{2}{\\left(t \\right)}}{2 \\left(\\epsilon r^{3} + 2 k - r\\right)} & 0 & 0\\\\0 & 0 & 0 & 0\\end{matrix}\\right] & \\left[\\begin{matrix}0 & 0 & 0 & 0\\\\0 & 0 & 0 & - \\frac{k a^{2}{\\left(t \\right)} \\sin^{2}{\\left(\\theta \\right)}}{2 \\epsilon r^{3} + 4 k - 2 r}\\\\0 & 0 & 0 & 0\\\\0 & \\frac{k a^{2}{\\left(t \\right)} \\sin^{2}{\\left(\\theta \\right)}}{2 \\left(\\epsilon r^{3} + 2 k - r\\right)} & 0 & 0\\end{matrix}\\right]\\\\\\left[\\begin{matrix}0 & 0 & \\frac{k}{2 r} & 0\\\\0 & 0 & 0 & 0\\\\- \\frac{k}{2 r} & 0 & 0 & 0\\\\0 & 0 & 0 & 0\\end{matrix}\\right] & \\left[\\begin{matrix}0 & 0 & 0 & 0\\\\0 & 0 & \\frac{k a^{2}{\\left(t \\right)}}{2 \\left(\\epsilon r^{3} + 2 k - r\\right)} & 0\\\\0 & - \\frac{k a^{2}{\\left(t \\right)}}{2 \\epsilon r^{3} + 4 k - 2 r} & 0 & 0\\\\0 & 0 & 0 & 0\\end{matrix}\\right] & \\left[\\begin{matrix}0 & 0 & 0 & 0\\\\0 & 0 & 0 & 0\\\\0 & 0 & 0 & 0\\\\0 & 0 & 0 & 0\\end{matrix}\\right] & \\left[\\begin{matrix}0 & 0 & 0 & 0\\\\0 & 0 & 0 & 0\\\\0 & 0 & 0 & - k r a^{2}{\\left(t \\right)} \\sin^{2}{\\left(\\theta \\right)}\\\\0 & 0 & k r a^{2}{\\left(t \\right)} \\sin^{2}{\\left(\\theta \\right)} & 0\\end{matrix}\\right]\\\\\\left[\\begin{matrix}0 & 0 & 0 & \\frac{k \\sin^{2}{\\left(\\theta \\right)}}{2 r}\\\\0 & 0 & 0 & 0\\\\0 & 0 & 0 & 0\\\\- \\frac{k \\sin^{2}{\\left(\\theta \\right)}}{2 r} & 0 & 0 & 0\\end{matrix}\\right] & \\left[\\begin{matrix}0 & 0 & 0 & 0\\\\0 & 0 & 0 & \\frac{k a^{2}{\\left(t \\right)} \\sin^{2}{\\left(\\theta \\right)}}{2 \\left(\\epsilon r^{3} + 2 k - r\\right)}\\\\0 & 0 & 0 & 0\\\\0 & - \\frac{k a^{2}{\\left(t \\right)} \\sin^{2}{\\left(\\theta \\right)}}{2 \\epsilon r^{3} + 4 k - 2 r} & 0 & 0\\end{matrix}\\right] & \\left[\\begin{matrix}0 & 0 & 0 & 0\\\\0 & 0 & 0 & 0\\\\0 & 0 & 0 & k r a^{2}{\\left(t \\right)} \\sin^{2}{\\left(\\theta \\right)}\\\\0 & 0 & - k r a^{2}{\\left(t \\right)} \\sin^{2}{\\left(\\theta \\right)} & 0\\end{matrix}\\right] & \\left[\\begin{matrix}0 & 0 & 0 & 0\\\\0 & 0 & 0 & 0\\\\0 & 0 & 0 & 0\\\\0 & 0 & 0 & 0\\end{matrix}\\right]\\end{matrix}\\right]$"
      ],
      "text/plain": [
       "⎡                                                  ⎡                             -k               ⎤                        \n",
       "⎢                                                  ⎢         0           ───────────────────  0  0⎥                 ⎡      \n",
       "⎢                                                  ⎢                      2 ⎛   3          ⎞      ⎥                 ⎢ 0   0\n",
       "⎢                  ⎡0  0  0  0⎤                    ⎢                     r ⋅⎝ε⋅r  + 2⋅k - r⎠      ⎥                 ⎢      \n",
       "⎢                  ⎢          ⎥                    ⎢                                              ⎥                 ⎢      \n",
       "⎢                  ⎢0  0  0  0⎥                    ⎢         k                                    ⎥                 ⎢ 0   0\n",
       "⎢                  ⎢          ⎥                    ⎢───────────────────           0           0  0⎥                 ⎢      \n",
       "⎢                  ⎢0  0  0  0⎥                    ⎢ 2 ⎛   3          ⎞                           ⎥                 ⎢ k    \n",
       "⎢                  ⎢          ⎥                    ⎢r ⋅⎝ε⋅r  + 2⋅k - r⎠                           ⎥                 ⎢───  0\n",
       "⎢                  ⎣0  0  0  0⎦                    ⎢                                              ⎥                 ⎢2⋅r   \n",
       "⎢                                                  ⎢         0                    0           0  0⎥                 ⎢      \n",
       "⎢                                                  ⎢                                              ⎥                 ⎣ 0   0\n",
       "⎢                                                  ⎣         0                    0           0  0⎦                        \n",
       "⎢                                                                                                                          \n",
       "⎢                                                                                                    ⎡0          0         \n",
       "⎢⎡                              k               ⎤                                                    ⎢                     \n",
       "⎢⎢         0           ───────────────────  0  0⎥                                                    ⎢                     \n",
       "⎢⎢                      2 ⎛   3          ⎞      ⎥                                                    ⎢                     \n",
       "⎢⎢                     r ⋅⎝ε⋅r  + 2⋅k - r⎠      ⎥                    ⎡0  0  0  0⎤                    ⎢0          0         \n",
       "⎢⎢                                              ⎥                    ⎢          ⎥                    ⎢                     \n",
       "⎢⎢        -k                                    ⎥                    ⎢0  0  0  0⎥                    ⎢                     \n",
       "⎢⎢───────────────────           0           0  0⎥                    ⎢          ⎥                    ⎢                     \n",
       "⎢⎢ 2 ⎛   3          ⎞                           ⎥                    ⎢0  0  0  0⎥                    ⎢           2         \n",
       "⎢⎢r ⋅⎝ε⋅r  + 2⋅k - r⎠                           ⎥                    ⎢          ⎥                    ⎢        k⋅a (t)      \n",
       "⎢⎢                                              ⎥                    ⎣0  0  0  0⎦                    ⎢0  ──────────────────\n",
       "⎢⎢         0                    0           0  0⎥                                                    ⎢     ⎛   3          ⎞\n",
       "⎢⎢                                              ⎥                                                    ⎢   2⋅⎝ε⋅r  + 2⋅k - r⎠\n",
       "⎢⎣         0                    0           0  0⎦                                                    ⎢                     \n",
       "⎢                                                                                                    ⎣0          0         \n",
       "⎢                                                                                                                          \n",
       "⎢                                                   ⎡0          0                   0           0⎤                         \n",
       "⎢                                                   ⎢                                            ⎥                         \n",
       "⎢                ⎡         k    ⎤                   ⎢                               2            ⎥                         \n",
       "⎢                ⎢ 0   0  ───  0⎥                   ⎢                            k⋅a (t)         ⎥                         \n",
       "⎢                ⎢        2⋅r   ⎥                   ⎢0          0           ──────────────────  0⎥                    ⎡0  0\n",
       "⎢                ⎢              ⎥                   ⎢                         ⎛   3          ⎞   ⎥                    ⎢    \n",
       "⎢                ⎢ 0   0   0   0⎥                   ⎢                       2⋅⎝ε⋅r  + 2⋅k - r⎠   ⎥                    ⎢0  0\n",
       "⎢                ⎢              ⎥                   ⎢                                            ⎥                    ⎢    \n",
       "⎢                ⎢-k            ⎥                   ⎢           2                                ⎥                    ⎢0  0\n",
       "⎢                ⎢───  0   0   0⎥                   ⎢       -k⋅a (t)                             ⎥                    ⎢    \n",
       "⎢                ⎢2⋅r           ⎥                   ⎢0  ──────────────────          0           0⎥                    ⎣0  0\n",
       "⎢                ⎢              ⎥                   ⎢        3                                   ⎥                         \n",
       "⎢                ⎣ 0   0   0   0⎦                   ⎢   2⋅ε⋅r  + 4⋅k - 2⋅r                       ⎥                         \n",
       "⎢                                                   ⎢                                            ⎥                         \n",
       "⎢                                                   ⎣0          0                   0           0⎦                         \n",
       "⎢                                                                                                                          \n",
       "⎢                                                   ⎡0          0           0          0         ⎤                         \n",
       "⎢         ⎡                        2   ⎤            ⎢                                            ⎥                         \n",
       "⎢         ⎢                   k⋅sin (θ)⎥            ⎢                              2       2     ⎥                         \n",
       "⎢         ⎢     0       0  0  ─────────⎥            ⎢                           k⋅a (t)⋅sin (θ)  ⎥   ⎡0  0          0      \n",
       "⎢         ⎢                      2⋅r   ⎥            ⎢0          0           0  ──────────────────⎥   ⎢                     \n",
       "⎢         ⎢                            ⎥            ⎢                            ⎛   3          ⎞⎥   ⎢0  0          0      \n",
       "⎢         ⎢     0       0  0      0    ⎥            ⎢                          2⋅⎝ε⋅r  + 2⋅k - r⎠⎥   ⎢                     \n",
       "⎢         ⎢                            ⎥            ⎢                                            ⎥   ⎢                     \n",
       "⎢         ⎢     0       0  0      0    ⎥            ⎢0          0           0          0         ⎥   ⎢0  0          0      \n",
       "⎢         ⎢                            ⎥            ⎢                                            ⎥   ⎢                     \n",
       "⎢         ⎢      2                     ⎥            ⎢       2       2                            ⎥   ⎢            2       2\n",
       "⎢         ⎢-k⋅sin (θ)                  ⎥            ⎢   -k⋅a (t)⋅sin (θ)                         ⎥   ⎣0  0  -k⋅r⋅a (t)⋅sin \n",
       "⎢         ⎢───────────  0  0      0    ⎥            ⎢0  ──────────────────  0          0         ⎥                         \n",
       "⎢         ⎣    2⋅r                     ⎦            ⎢        3                                   ⎥                         \n",
       "⎣                                                   ⎣   2⋅ε⋅r  + 4⋅k - 2⋅r                       ⎦                         \n",
       "\n",
       "                                  ⎡                       2    ⎤        ⎤\n",
       "  -k    ⎤                         ⎢                 -k⋅sin (θ) ⎥        ⎥\n",
       "  ───  0⎥                         ⎢    0      0  0  ───────────⎥        ⎥\n",
       "  2⋅r   ⎥                         ⎢                     2⋅r    ⎥        ⎥\n",
       "        ⎥                         ⎢                            ⎥        ⎥\n",
       "   0   0⎥                         ⎢    0      0  0       0     ⎥        ⎥\n",
       "        ⎥                         ⎢                            ⎥        ⎥\n",
       "        ⎥                         ⎢    0      0  0       0     ⎥        ⎥\n",
       "   0   0⎥                         ⎢                            ⎥        ⎥\n",
       "        ⎥                         ⎢     2                      ⎥        ⎥\n",
       "        ⎥                         ⎢k⋅sin (θ)                   ⎥        ⎥\n",
       "   0   0⎦                         ⎢─────────  0  0       0     ⎥        ⎥\n",
       "                                  ⎣   2⋅r                      ⎦        ⎥\n",
       "                                                                        ⎥\n",
       "          0           0⎤  ⎡0          0           0          0         ⎤⎥\n",
       "                       ⎥  ⎢                                            ⎥⎥\n",
       "          2            ⎥  ⎢                              2       2     ⎥⎥\n",
       "      -k⋅a (t)         ⎥  ⎢                          -k⋅a (t)⋅sin (θ)  ⎥⎥\n",
       "  ──────────────────  0⎥  ⎢0          0           0  ──────────────────⎥⎥\n",
       "       3               ⎥  ⎢                               3            ⎥⎥\n",
       "  2⋅ε⋅r  + 4⋅k - 2⋅r   ⎥  ⎢                          2⋅ε⋅r  + 4⋅k - 2⋅r⎥⎥\n",
       "                       ⎥  ⎢                                            ⎥⎥\n",
       "                       ⎥  ⎢0          0           0          0         ⎥⎥\n",
       "                       ⎥  ⎢                                            ⎥⎥\n",
       "          0           0⎥  ⎢       2       2                            ⎥⎥\n",
       "                       ⎥  ⎢    k⋅a (t)⋅sin (θ)                         ⎥⎥\n",
       "                       ⎥  ⎢0  ──────────────────  0          0         ⎥⎥\n",
       "                       ⎥  ⎢     ⎛   3          ⎞                       ⎥⎥\n",
       "          0           0⎦  ⎣   2⋅⎝ε⋅r  + 2⋅k - r⎠                       ⎦⎥\n",
       "                                                                        ⎥\n",
       "                                                                        ⎥\n",
       "                                                                        ⎥\n",
       "                                                                        ⎥\n",
       "                          ⎡0  0          0                  0         ⎤ ⎥\n",
       "  0  0⎤                   ⎢                                           ⎥ ⎥\n",
       "      ⎥                   ⎢0  0          0                  0         ⎥ ⎥\n",
       "  0  0⎥                   ⎢                                           ⎥ ⎥\n",
       "      ⎥                   ⎢                               2       2   ⎥ ⎥\n",
       "  0  0⎥                   ⎢0  0          0          -k⋅r⋅a (t)⋅sin (θ)⎥ ⎥\n",
       "      ⎥                   ⎢                                           ⎥ ⎥\n",
       "  0  0⎦                   ⎢           2       2                       ⎥ ⎥\n",
       "                          ⎣0  0  k⋅r⋅a (t)⋅sin (θ)          0         ⎦ ⎥\n",
       "                                                                        ⎥\n",
       "                                                                        ⎥\n",
       "                                                                        ⎥\n",
       "                                                                        ⎥\n",
       "                                                                        ⎥\n",
       "                                                                        ⎥\n",
       "                                                                        ⎥\n",
       "             0        ⎤                                                 ⎥\n",
       "                      ⎥                    ⎡0  0  0  0⎤                 ⎥\n",
       "             0        ⎥                    ⎢          ⎥                 ⎥\n",
       "                      ⎥                    ⎢0  0  0  0⎥                 ⎥\n",
       "          2       2   ⎥                    ⎢          ⎥                 ⎥\n",
       "     k⋅r⋅a (t)⋅sin (θ)⎥                    ⎢0  0  0  0⎥                 ⎥\n",
       "                      ⎥                    ⎢          ⎥                 ⎥\n",
       "                      ⎥                    ⎣0  0  0  0⎦                 ⎥\n",
       "(θ)          0        ⎦                                                 ⎥\n",
       "                                                                        ⎥\n",
       "                                                                        ⎥\n",
       "                                                                        ⎦"
      ]
     },
     "execution_count": 20,
     "metadata": {},
     "output_type": "execute_result"
    }
   ],
   "source": [
    "weyl = WeylTensor.from_metric(metric)\n",
    "weyl.tensor()"
   ]
  },
  {
   "cell_type": "code",
   "execution_count": 22,
   "id": "f011372b",
   "metadata": {},
   "outputs": [
    {
     "data": {
      "image/png": "[encoded data removed]",
      "text/latex": [
       "$\\displaystyle - \\frac{3 \\frac{d^{2}}{d t^{2}} a{\\left(t \\right)}}{a{\\left(t \\right)}}$"
      ],
      "text/plain": [
       "     2       \n",
       "    d        \n",
       "-3⋅───(a(t)) \n",
       "     2       \n",
       "   dt        \n",
       "─────────────\n",
       "     a(t)    "
      ]
     },
     "execution_count": 22,
     "metadata": {},
     "output_type": "execute_result"
    }
   ],
   "source": [
    "Ric.tensor().subs(epsilon,0)[0,0]"
   ]
  },
  {
   "cell_type": "code",
   "execution_count": 23,
   "id": "8e826eac",
   "metadata": {},
   "outputs": [
    {
     "data": {
      "image/png": "[encoded data removed]",
      "text/latex": [
       "$\\displaystyle \\frac{2 k - r^{3} a{\\left(t \\right)} \\frac{d^{2}}{d t^{2}} a{\\left(t \\right)} - 2 r^{3} \\left(\\frac{d}{d t} a{\\left(t \\right)}\\right)^{2}}{r^{2} \\left(2 k - r\\right)}$"
      ],
      "text/plain": [
       "                2                        2\n",
       "       3       d             3 ⎛d       ⎞ \n",
       "2⋅k - r ⋅a(t)⋅───(a(t)) - 2⋅r ⋅⎜──(a(t))⎟ \n",
       "                2              ⎝dt      ⎠ \n",
       "              dt                          \n",
       "──────────────────────────────────────────\n",
       "                2                         \n",
       "               r ⋅(2⋅k - r)               "
      ]
     },
     "execution_count": 23,
     "metadata": {},
     "output_type": "execute_result"
    }
   ],
   "source": [
    "Ric.tensor().subs(epsilon,0)[1,1]"
   ]
  },
  {
   "cell_type": "code",
   "execution_count": null,
   "id": "c406bf95",
   "metadata": {},
   "outputs": [],
   "source": []
  }
 ],
 "metadata": {
  "@webio": {
   "lastCommId": "69bb2c9bd3434d219658e5a5c2d51f63",
   "lastKernelId": "12286e7f-6e0d-4ab9-8dbc-5a8c86740c42"
  },
  "kernelspec": {
   "display_name": "Python 3 (ipykernel)",
   "language": "python",
   "name": "python3"
  },
  "language_info": {
   "codemirror_mode": {
    "name": "ipython",
    "version": 3
   },
   "file_extension": ".py",
   "mimetype": "text/x-python",
   "name": "python",
   "nbconvert_exporter": "python",
   "pygments_lexer": "ipython3",
   "version": "3.8.8"
  }
 },
 "nbformat": 4,
 "nbformat_minor": 5
}
