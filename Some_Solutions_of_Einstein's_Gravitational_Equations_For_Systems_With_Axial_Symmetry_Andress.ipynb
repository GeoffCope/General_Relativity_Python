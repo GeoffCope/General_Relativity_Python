{
 "cells": [
  {
   "cell_type": "markdown",
   "id": "f35cb95d",
   "metadata": {},
   "source": [
    "# Some Solutions of Einstein's Gravitational Equations For Systems With Axial Symmetry by Andress\n",
    "##  Geoff Cope\n",
    "##  Univeristy of Utah\n",
    "##  𐐏𐐭𐑌𐐲𐑂𐐲𐑉𐑅𐐮𐐻𐐨 𐐲𐑂 𐐏𐐭𐐻𐐫\n",
    "##  January 22, 2022"
   ]
  },
  {
   "cell_type": "markdown",
   "id": "2bb93679",
   "metadata": {},
   "source": [
    "There are several metrics in this paper, here we concentrate on equation 2.0  Will return and do others later"
   ]
  },
  {
   "cell_type": "markdown",
   "id": "36371e37",
   "metadata": {},
   "source": [
    "https://royalsocietypublishing.org/doi/pdf/10.1098/rspa.1930.0028"
   ]
  },
  {
   "cell_type": "code",
   "execution_count": 1,
   "id": "f692c6ff",
   "metadata": {},
   "outputs": [
    {
     "name": "stdout",
     "output_type": "stream",
     "text": [
      "IPython console for SymPy 1.9 (Python 3.8.8-64-bit) (ground types: gmpy)\n",
      "\n",
      "These commands were executed:\n",
      ">>> from __future__ import division\n",
      ">>> from sympy import *\n",
      ">>> x, y, z, t = symbols('x y z t')\n",
      ">>> k, m, n = symbols('k m n', integer=True)\n",
      ">>> f, g, h = symbols('f g h', cls=Function)\n",
      ">>> init_printing()\n",
      "\n",
      "Documentation can be found at https://docs.sympy.org/1.9/\n",
      "\n"
     ]
    }
   ],
   "source": [
    "from sympy import init_session\n",
    "init_session(use_latex=True)"
   ]
  },
  {
   "cell_type": "code",
   "execution_count": 2,
   "id": "14cd6ea6",
   "metadata": {},
   "outputs": [],
   "source": [
    "import warnings\n",
    "import matplotlib.cbook\n",
    "warnings.filterwarnings(\"ignore\",category=matplotlib.cbook.mplDeprecation)"
   ]
  },
  {
   "cell_type": "code",
   "execution_count": 3,
   "id": "6007546e",
   "metadata": {},
   "outputs": [],
   "source": [
    "x,r,theta,t,dx,dr,dtheta,dt = symbols('x r theta t dx dr dtheta dt')"
   ]
  },
  {
   "cell_type": "code",
   "execution_count": 4,
   "id": "17f15eb2",
   "metadata": {},
   "outputs": [
    {
     "data": {
      "image/png": "[encoded data removed]",
      "text/latex": [
       "$\\displaystyle \\lambda{\\left(x,r \\right)}$"
      ],
      "text/plain": [
       "λ(x, r)"
      ]
     },
     "execution_count": 4,
     "metadata": {},
     "output_type": "execute_result"
    }
   ],
   "source": [
    "Lambda = Function('lambda')(x,r)\n",
    "Lambda"
   ]
  },
  {
   "cell_type": "code",
   "execution_count": 5,
   "id": "fc3071e0",
   "metadata": {},
   "outputs": [
    {
     "data": {
      "image/png": "[encoded data removed]",
      "text/latex": [
       "$\\displaystyle \\rho{\\left(x,r \\right)}$"
      ],
      "text/plain": [
       "ρ(x, r)"
      ]
     },
     "execution_count": 5,
     "metadata": {},
     "output_type": "execute_result"
    }
   ],
   "source": [
    "rho = Function('rho')(x,r)\n",
    "rho"
   ]
  },
  {
   "cell_type": "code",
   "execution_count": 6,
   "id": "ecafbead",
   "metadata": {},
   "outputs": [
    {
     "data": {
      "text/latex": [
       "$\\displaystyle \\left[\\begin{matrix}x\\\\r\\\\\\theta\\\\t\\end{matrix}\\right]$"
      ],
      "text/plain": [
       "⎡x⎤\n",
       "⎢ ⎥\n",
       "⎢r⎥\n",
       "⎢ ⎥\n",
       "⎢θ⎥\n",
       "⎢ ⎥\n",
       "⎣t⎦"
      ]
     },
     "execution_count": 6,
     "metadata": {},
     "output_type": "execute_result"
    }
   ],
   "source": [
    "variables = Matrix([x,r,theta,t])\n",
    "variables"
   ]
  },
  {
   "cell_type": "code",
   "execution_count": 7,
   "id": "3240d700",
   "metadata": {},
   "outputs": [
    {
     "data": {
      "text/latex": [
       "$\\displaystyle \\left[\\begin{matrix}dx\\\\dr\\\\dtheta\\\\dt\\end{matrix}\\right]$"
      ],
      "text/plain": [
       "⎡  dx  ⎤\n",
       "⎢      ⎥\n",
       "⎢  dr  ⎥\n",
       "⎢      ⎥\n",
       "⎢dtheta⎥\n",
       "⎢      ⎥\n",
       "⎣  dt  ⎦"
      ]
     },
     "execution_count": 7,
     "metadata": {},
     "output_type": "execute_result"
    }
   ],
   "source": [
    "differentials = Matrix([dx,dr,dtheta,dt])\n",
    "differentials "
   ]
  },
  {
   "cell_type": "code",
   "execution_count": 8,
   "id": "d90e595f",
   "metadata": {},
   "outputs": [
    {
     "data": {
      "image/png": "[encoded data removed]",
      "text/latex": [
       "$\\displaystyle - dr^{2} e^{\\lambda{\\left(x,r \\right)}} + dt^{2} e^{\\rho{\\left(x,r \\right)}} - dtheta^{2} r^{2} e^{- \\rho{\\left(x,r \\right)}} - dx^{2} e^{\\lambda{\\left(x,r \\right)}}$"
      ],
      "text/plain": [
       "    2  λ(x, r)     2  ρ(x, r)         2  2  -ρ(x, r)     2  λ(x, r)\n",
       "- dr ⋅ℯ        + dt ⋅ℯ        - dtheta ⋅r ⋅ℯ         - dx ⋅ℯ       "
      ]
     },
     "execution_count": 8,
     "metadata": {},
     "output_type": "execute_result"
    }
   ],
   "source": [
    "lineElement = expand( -exp(Lambda)*(dx**2 + dr**2) -r**2 * exp(-rho) *dtheta**2 + exp(rho)*dt**2 ) \n",
    "lineElement"
   ]
  },
  {
   "cell_type": "code",
   "execution_count": 9,
   "id": "a9a49c1a",
   "metadata": {},
   "outputs": [
    {
     "data": {
      "text/latex": [
       "$\\displaystyle \\left[\\begin{matrix}- e^{\\lambda{\\left(x,r \\right)}} & 0 & 0 & 0\\\\0 & - e^{\\lambda{\\left(x,r \\right)}} & 0 & 0\\\\0 & 0 & - r^{2} e^{- \\rho{\\left(x,r \\right)}} & 0\\\\0 & 0 & 0 & e^{\\rho{\\left(x,r \\right)}}\\end{matrix}\\right]$"
      ],
      "text/plain": [
       "⎡  λ(x, r)                                    ⎤\n",
       "⎢-ℯ             0            0           0    ⎥\n",
       "⎢                                             ⎥\n",
       "⎢             λ(x, r)                         ⎥\n",
       "⎢    0      -ℯ               0           0    ⎥\n",
       "⎢                                             ⎥\n",
       "⎢                        2  -ρ(x, r)          ⎥\n",
       "⎢    0          0      -r ⋅ℯ             0    ⎥\n",
       "⎢                                             ⎥\n",
       "⎢                                      ρ(x, r)⎥\n",
       "⎣    0          0            0        ℯ       ⎦"
      ]
     },
     "execution_count": 9,
     "metadata": {},
     "output_type": "execute_result"
    }
   ],
   "source": [
    "g = zeros(4)\n",
    "\n",
    "for i in range(4):\n",
    "    for j in range(4):\n",
    "        if i == j:\n",
    "            g[i,j] = lineElement.coeff( differentials[i],2 ) \n",
    "        else:\n",
    "            g[i,j] = Rational(1,2)*lineElement.coeff( differentials[i]*differentials[j],1 )\n",
    "            \n",
    "g"
   ]
  },
  {
   "cell_type": "code",
   "execution_count": 10,
   "id": "01138144",
   "metadata": {},
   "outputs": [],
   "source": [
    "import sympy"
   ]
  },
  {
   "cell_type": "code",
   "execution_count": 11,
   "id": "8d52547f",
   "metadata": {},
   "outputs": [
    {
     "data": {
      "text/latex": [
       "$\\displaystyle \\left[\\begin{matrix}- e^{\\lambda{\\left(x,r \\right)}} & 0 & 0 & 0\\\\0 & - e^{\\lambda{\\left(x,r \\right)}} & 0 & 0\\\\0 & 0 & - r^{2} e^{- \\rho{\\left(x,r \\right)}} & 0\\\\0 & 0 & 0 & e^{\\rho{\\left(x,r \\right)}}\\end{matrix}\\right]$"
      ],
      "text/plain": [
       "⎡  λ(x, r)                                    ⎤\n",
       "⎢-ℯ             0            0           0    ⎥\n",
       "⎢                                             ⎥\n",
       "⎢             λ(x, r)                         ⎥\n",
       "⎢    0      -ℯ               0           0    ⎥\n",
       "⎢                                             ⎥\n",
       "⎢                        2  -ρ(x, r)          ⎥\n",
       "⎢    0          0      -r ⋅ℯ             0    ⎥\n",
       "⎢                                             ⎥\n",
       "⎢                                      ρ(x, r)⎥\n",
       "⎣    0          0            0        ℯ       ⎦"
      ]
     },
     "execution_count": 11,
     "metadata": {},
     "output_type": "execute_result"
    }
   ],
   "source": [
    "m = sympy.Array(g)\n",
    "m"
   ]
  },
  {
   "cell_type": "code",
   "execution_count": 12,
   "id": "976db98e",
   "metadata": {},
   "outputs": [],
   "source": [
    "from einsteinpy.symbolic import *"
   ]
  },
  {
   "cell_type": "code",
   "execution_count": 13,
   "id": "23fee581",
   "metadata": {},
   "outputs": [],
   "source": [
    "syms = sympy.symbols(\"x r theta t\")\n",
    "x,r,theta,t = syms"
   ]
  },
  {
   "cell_type": "code",
   "execution_count": 14,
   "id": "555cd1ef",
   "metadata": {},
   "outputs": [],
   "source": [
    "metric = MetricTensor(m,syms)"
   ]
  },
  {
   "cell_type": "code",
   "execution_count": 15,
   "id": "2a1e5e39",
   "metadata": {},
   "outputs": [
    {
     "data": {
      "text/latex": [
       "$\\displaystyle \\left[\\begin{matrix}\\left[\\begin{matrix}\\frac{\\frac{\\partial}{\\partial x} \\lambda{\\left(x,r \\right)}}{2} & \\frac{\\frac{\\partial}{\\partial r} \\lambda{\\left(x,r \\right)}}{2} & 0 & 0\\\\\\frac{\\frac{\\partial}{\\partial r} \\lambda{\\left(x,r \\right)}}{2} & - \\frac{\\frac{\\partial}{\\partial x} \\lambda{\\left(x,r \\right)}}{2} & 0 & 0\\\\0 & 0 & \\frac{r^{2} e^{- \\lambda{\\left(x,r \\right)} - \\rho{\\left(x,r \\right)}} \\frac{\\partial}{\\partial x} \\rho{\\left(x,r \\right)}}{2} & 0\\\\0 & 0 & 0 & \\frac{e^{- \\lambda{\\left(x,r \\right)} + \\rho{\\left(x,r \\right)}} \\frac{\\partial}{\\partial x} \\rho{\\left(x,r \\right)}}{2}\\end{matrix}\\right] & \\left[\\begin{matrix}- \\frac{\\frac{\\partial}{\\partial r} \\lambda{\\left(x,r \\right)}}{2} & \\frac{\\frac{\\partial}{\\partial x} \\lambda{\\left(x,r \\right)}}{2} & 0 & 0\\\\\\frac{\\frac{\\partial}{\\partial x} \\lambda{\\left(x,r \\right)}}{2} & \\frac{\\frac{\\partial}{\\partial r} \\lambda{\\left(x,r \\right)}}{2} & 0 & 0\\\\0 & 0 & \\frac{r \\left(r \\frac{\\partial}{\\partial r} \\rho{\\left(x,r \\right)} - 2\\right) e^{- \\lambda{\\left(x,r \\right)} - \\rho{\\left(x,r \\right)}}}{2} & 0\\\\0 & 0 & 0 & \\frac{e^{- \\lambda{\\left(x,r \\right)} + \\rho{\\left(x,r \\right)}} \\frac{\\partial}{\\partial r} \\rho{\\left(x,r \\right)}}{2}\\end{matrix}\\right] & \\left[\\begin{matrix}0 & 0 & - \\frac{\\frac{\\partial}{\\partial x} \\rho{\\left(x,r \\right)}}{2} & 0\\\\0 & 0 & - \\frac{\\frac{\\partial}{\\partial r} \\rho{\\left(x,r \\right)}}{2} + \\frac{1}{r} & 0\\\\- \\frac{\\frac{\\partial}{\\partial x} \\rho{\\left(x,r \\right)}}{2} & - \\frac{\\frac{\\partial}{\\partial r} \\rho{\\left(x,r \\right)}}{2} + \\frac{1}{r} & 0 & 0\\\\0 & 0 & 0 & 0\\end{matrix}\\right] & \\left[\\begin{matrix}0 & 0 & 0 & \\frac{\\frac{\\partial}{\\partial x} \\rho{\\left(x,r \\right)}}{2}\\\\0 & 0 & 0 & \\frac{\\frac{\\partial}{\\partial r} \\rho{\\left(x,r \\right)}}{2}\\\\0 & 0 & 0 & 0\\\\\\frac{\\frac{\\partial}{\\partial x} \\rho{\\left(x,r \\right)}}{2} & \\frac{\\frac{\\partial}{\\partial r} \\rho{\\left(x,r \\right)}}{2} & 0 & 0\\end{matrix}\\right]\\end{matrix}\\right]$"
      ],
      "text/plain": [
       "⎡⎡∂             ∂                                                                                ⎤  ⎡ ∂             ∂                  \n",
       "⎢⎢──(λ(x, r))   ──(λ(x, r))                                                                      ⎥  ⎢-──(λ(x, r))   ──(λ(x, r))        \n",
       "⎢⎢∂x            ∂r                                                                               ⎥  ⎢ ∂r            ∂x                 \n",
       "⎢⎢───────────   ───────────                   0                                  0               ⎥  ⎢─────────────  ───────────        \n",
       "⎢⎢     2             2                                                                           ⎥  ⎢      2             2             \n",
       "⎢⎢                                                                                               ⎥  ⎢                                  \n",
       "⎢⎢∂             ∂                                                                                ⎥  ⎢ ∂             ∂                  \n",
       "⎢⎢──(λ(x, r))  -──(λ(x, r))                                                                      ⎥  ⎢ ──(λ(x, r))   ──(λ(x, r))        \n",
       "⎢⎢∂r            ∂x                                                                               ⎥  ⎢ ∂x            ∂r                 \n",
       "⎢⎢───────────  ─────────────                  0                                  0               ⎥  ⎢ ───────────   ───────────        \n",
       "⎢⎢     2             2                                                                           ⎥  ⎢      2             2             \n",
       "⎢⎢                                                                                               ⎥  ⎢                                  \n",
       "⎢⎢                             2  -λ(x, r) - ρ(x, r) ∂                                           ⎥  ⎢                              ⎛  ∂\n",
       "⎢⎢                            r ⋅ℯ                  ⋅──(ρ(x, r))                                 ⎥  ⎢                            r⋅⎜r⋅─\n",
       "⎢⎢                                                   ∂x                                          ⎥  ⎢                              ⎝  ∂\n",
       "⎢⎢     0             0        ──────────────────────────────────                 0               ⎥  ⎢      0             0       ──────\n",
       "⎢⎢                                            2                                                  ⎥  ⎢                                  \n",
       "⎢⎢                                                                                               ⎥  ⎢                                  \n",
       "⎢⎢                                                                 -λ(x, r) + ρ(x, r) ∂          ⎥  ⎢                                  \n",
       "⎢⎢                                                                ℯ                  ⋅──(ρ(x, r))⎥  ⎢                                  \n",
       "⎢⎢                                                                                    ∂x         ⎥  ⎢                                  \n",
       "⎢⎢     0             0                        0                   ───────────────────────────────⎥  ⎢      0             0             \n",
       "⎣⎣                                                                               2               ⎦  ⎣                                  \n",
       "\n",
       "                                                                    ⎤                                                                  \n",
       "                                                                    ⎥                                                                  \n",
       "                                                                    ⎥  ⎡                                     ∂                ⎤  ⎡     \n",
       "              0                                     0               ⎥  ⎢                                    -──(ρ(x, r))      ⎥  ⎢     \n",
       "                                                                    ⎥  ⎢                                     ∂x               ⎥  ⎢     \n",
       "                                                                    ⎥  ⎢      0                0            ─────────────    0⎥  ⎢     \n",
       "                                                                    ⎥  ⎢                                          2           ⎥  ⎢     \n",
       "                                                                    ⎥  ⎢                                                      ⎥  ⎢     \n",
       "                                                                    ⎥  ⎢                                    ∂                 ⎥  ⎢     \n",
       "              0                                     0               ⎥  ⎢                                    ──(ρ(x, r))       ⎥  ⎢     \n",
       "                                                                    ⎥  ⎢                                    ∂r            1   ⎥  ⎢     \n",
       "                                                                    ⎥  ⎢      0                0          - ─────────── + ─  0⎥  ⎢     \n",
       "              ⎞  -λ(x, r) - ρ(x, r)                                 ⎥  ⎢                                         2        r   ⎥  ⎢     \n",
       "─(ρ(x, r)) - 2⎟⋅ℯ                                                   ⎥  ⎢                                                      ⎥  ⎢     \n",
       "r             ⎠                                                     ⎥  ⎢ ∂               ∂                                    ⎥  ⎢     \n",
       "───────────────────────────────────                 0               ⎥  ⎢-──(ρ(x, r))     ──(ρ(x, r))                          ⎥  ⎢     \n",
       "              2                                                     ⎥  ⎢ ∂x              ∂r            1                      ⎥  ⎢∂    \n",
       "                                                                    ⎥  ⎢─────────────  - ─────────── + ─          0          0⎥  ⎢──(ρ(\n",
       "                                      -λ(x, r) + ρ(x, r) ∂          ⎥  ⎢      2               2        r                      ⎥  ⎢∂x   \n",
       "                                     ℯ                  ⋅──(ρ(x, r))⎥  ⎢                                                      ⎥  ⎢─────\n",
       "                                                         ∂r         ⎥  ⎣      0                0                  0          0⎦  ⎣     \n",
       "              0                      ───────────────────────────────⎥                                                                  \n",
       "                                                    2               ⎦                                                                  \n",
       "\n",
       "                                    ⎤\n",
       "                                    ⎥\n",
       "                        ∂          ⎤⎥\n",
       "                        ──(ρ(x, r))⎥⎥\n",
       "                        ∂x         ⎥⎥\n",
       "0            0       0  ───────────⎥⎥\n",
       "                             2     ⎥⎥\n",
       "                                   ⎥⎥\n",
       "                        ∂          ⎥⎥\n",
       "                        ──(ρ(x, r))⎥⎥\n",
       "                        ∂r         ⎥⎥\n",
       "0            0       0  ───────────⎥⎥\n",
       "                             2     ⎥⎥\n",
       "                                   ⎥⎥\n",
       "0            0       0       0     ⎥⎥\n",
       "                                   ⎥⎥\n",
       "        ∂                          ⎥⎥\n",
       "x, r))  ──(ρ(x, r))                ⎥⎥\n",
       "        ∂r                         ⎥⎥\n",
       "──────  ───────────  0       0     ⎥⎥\n",
       "2            2                     ⎦⎥\n",
       "                                    ⎥\n",
       "                                    ⎦"
      ]
     },
     "execution_count": 15,
     "metadata": {},
     "output_type": "execute_result"
    }
   ],
   "source": [
    "ch = ChristoffelSymbols.from_metric(metric)\n",
    "simplify(ch.tensor())"
   ]
  },
  {
   "cell_type": "code",
   "execution_count": 16,
   "id": "c952528d",
   "metadata": {},
   "outputs": [
    {
     "data": {
      "text/latex": [
       "$\\displaystyle \\left[\\begin{matrix}- \\frac{r \\frac{\\partial^{2}}{\\partial r^{2}} \\lambda{\\left(x,r \\right)} + r \\frac{\\partial^{2}}{\\partial x^{2}} \\lambda{\\left(x,r \\right)} + r \\left(\\frac{\\partial}{\\partial x} \\rho{\\left(x,r \\right)}\\right)^{2} + \\frac{\\partial}{\\partial r} \\lambda{\\left(x,r \\right)}}{2 r} & \\frac{- r \\frac{\\partial}{\\partial r} \\rho{\\left(x,r \\right)} \\frac{\\partial}{\\partial x} \\rho{\\left(x,r \\right)} + \\frac{\\partial}{\\partial x} \\lambda{\\left(x,r \\right)} + \\frac{\\partial}{\\partial x} \\rho{\\left(x,r \\right)}}{2 r} & 0 & 0\\\\\\frac{- r \\frac{\\partial}{\\partial r} \\rho{\\left(x,r \\right)} \\frac{\\partial}{\\partial x} \\rho{\\left(x,r \\right)} + \\frac{\\partial}{\\partial x} \\lambda{\\left(x,r \\right)} + \\frac{\\partial}{\\partial x} \\rho{\\left(x,r \\right)}}{2 r} & \\frac{- r \\left(\\frac{\\partial^{2}}{\\partial r^{2}} \\lambda{\\left(x,r \\right)} + \\frac{\\partial^{2}}{\\partial x^{2}} \\lambda{\\left(x,r \\right)} + \\left(\\frac{\\partial}{\\partial r} \\rho{\\left(x,r \\right)}\\right)^{2}\\right) + \\frac{\\partial}{\\partial r} \\lambda{\\left(x,r \\right)} + 2 \\frac{\\partial}{\\partial r} \\rho{\\left(x,r \\right)}}{2 r} & 0 & 0\\\\0 & 0 & \\frac{r \\left(r \\frac{\\partial^{2}}{\\partial r^{2}} \\rho{\\left(x,r \\right)} + r \\frac{\\partial^{2}}{\\partial x^{2}} \\rho{\\left(x,r \\right)} + \\frac{\\partial}{\\partial r} \\rho{\\left(x,r \\right)}\\right) e^{- \\lambda{\\left(x,r \\right)} - \\rho{\\left(x,r \\right)}}}{2} & 0\\\\0 & 0 & 0 & \\frac{\\left(r \\frac{\\partial^{2}}{\\partial r^{2}} \\rho{\\left(x,r \\right)} + r \\frac{\\partial^{2}}{\\partial x^{2}} \\rho{\\left(x,r \\right)} + \\frac{\\partial}{\\partial r} \\rho{\\left(x,r \\right)}\\right) e^{- \\lambda{\\left(x,r \\right)} + \\rho{\\left(x,r \\right)}}}{2 r}\\end{matrix}\\right]$"
      ],
      "text/plain": [
       "⎡ ⎛    2                2                           2              ⎞                                                                   \n",
       "⎢ ⎜   ∂                ∂               ⎛∂          ⎞    ∂          ⎟                                                                   \n",
       "⎢-⎜r⋅───(λ(x, r)) + r⋅───(λ(x, r)) + r⋅⎜──(ρ(x, r))⎟  + ──(λ(x, r))⎟                   ∂           ∂             ∂             ∂       \n",
       "⎢ ⎜    2                2              ⎝∂x         ⎠    ∂r         ⎟               - r⋅──(ρ(x, r))⋅──(ρ(x, r)) + ──(λ(x, r)) + ──(ρ(x, \n",
       "⎢ ⎝  ∂r               ∂x                                           ⎠                   ∂r          ∂x            ∂x            ∂x      \n",
       "⎢────────────────────────────────────────────────────────────────────              ────────────────────────────────────────────────────\n",
       "⎢                                2⋅r                                                                         2⋅r                       \n",
       "⎢                                                                                                                                      \n",
       "⎢                                                                          ⎛  2              2                         2⎞              \n",
       "⎢                                                                          ⎜ ∂              ∂             ⎛∂          ⎞ ⎟   ∂          \n",
       "⎢          ∂           ∂             ∂             ∂                   - r⋅⎜───(λ(x, r)) + ───(λ(x, r)) + ⎜──(ρ(x, r))⎟ ⎟ + ──(λ(x, r))\n",
       "⎢      - r⋅──(ρ(x, r))⋅──(ρ(x, r)) + ──(λ(x, r)) + ──(ρ(x, r))             ⎜  2              2            ⎝∂r         ⎠ ⎟   ∂r         \n",
       "⎢          ∂r          ∂x            ∂x            ∂x                      ⎝∂r             ∂x                           ⎠              \n",
       "⎢      ───────────────────────────────────────────────────────         ────────────────────────────────────────────────────────────────\n",
       "⎢                                2⋅r                                                                         2⋅r                       \n",
       "⎢                                                                                                                                      \n",
       "⎢                                                                                                                                      \n",
       "⎢                                                                                                                                      \n",
       "⎢                                                                                                                                      \n",
       "⎢                                                                                                                                      \n",
       "⎢                                                                                                                                      \n",
       "⎢                                 0                                                                           0                        \n",
       "⎢                                                                                                                                      \n",
       "⎢                                                                                                                                      \n",
       "⎢                                                                                                                                      \n",
       "⎢                                                                                                                                      \n",
       "⎢                                                                                                                                      \n",
       "⎢                                                                                                                                      \n",
       "⎢                                                                                                                                      \n",
       "⎢                                 0                                                                           0                        \n",
       "⎣                                                                                                                                      \n",
       "\n",
       "                                                                                                                                       \n",
       "                                                                                                                                       \n",
       "                                                                                                                                       \n",
       "r))                                                                                                                                    \n",
       "                                                                                                                                       \n",
       "───                                                 0                                                                     0            \n",
       "                                                                                                                                       \n",
       "                                                                                                                                       \n",
       "                                                                                                                                       \n",
       "     ∂                                                                                                                                 \n",
       " + 2⋅──(ρ(x, r))                                                                                                                       \n",
       "     ∂r                                                                                                                                \n",
       "                                                                                                                                       \n",
       "────────────────                                    0                                                                     0            \n",
       "                                                                                                                                       \n",
       "                                                                                                                                       \n",
       "                    ⎛    2                2                       ⎞                                                                    \n",
       "                    ⎜   ∂                ∂             ∂          ⎟  -λ(x, r) - ρ(x, r)                                                \n",
       "                  r⋅⎜r⋅───(ρ(x, r)) + r⋅───(ρ(x, r)) + ──(ρ(x, r))⎟⋅ℯ                                                                  \n",
       "                    ⎜    2                2            ∂r         ⎟                                                                    \n",
       "                    ⎝  ∂r               ∂x                        ⎠                                                                    \n",
       "                  ─────────────────────────────────────────────────────────────────────                                   0            \n",
       "                                                    2                                                                                  \n",
       "                                                                                                                                       \n",
       "                                                                                         ⎛    2                2                       \n",
       "                                                                                         ⎜   ∂                ∂             ∂          \n",
       "                                                                                         ⎜r⋅───(ρ(x, r)) + r⋅───(ρ(x, r)) + ──(ρ(x, r))\n",
       "                                                                                         ⎜    2                2            ∂r         \n",
       "                                                                                         ⎝  ∂r               ∂x                        \n",
       "                                                    0                                    ──────────────────────────────────────────────\n",
       "                                                                                                                         2⋅r           \n",
       "\n",
       "                     ⎤\n",
       "                     ⎥\n",
       "                     ⎥\n",
       "                     ⎥\n",
       "                     ⎥\n",
       "                     ⎥\n",
       "                     ⎥\n",
       "                     ⎥\n",
       "                     ⎥\n",
       "                     ⎥\n",
       "                     ⎥\n",
       "                     ⎥\n",
       "                     ⎥\n",
       "                     ⎥\n",
       "                     ⎥\n",
       "                     ⎥\n",
       "                     ⎥\n",
       "                     ⎥\n",
       "                     ⎥\n",
       "                     ⎥\n",
       "                     ⎥\n",
       "                     ⎥\n",
       "                     ⎥\n",
       "                     ⎥\n",
       "⎞                    ⎥\n",
       "⎟  -λ(x, r) + ρ(x, r)⎥\n",
       "⎟⋅ℯ                  ⎥\n",
       "⎟                    ⎥\n",
       "⎠                    ⎥\n",
       "─────────────────────⎥\n",
       "                     ⎦"
      ]
     },
     "execution_count": 16,
     "metadata": {},
     "output_type": "execute_result"
    }
   ],
   "source": [
    "Ric = RicciTensor.from_metric(metric)\n",
    "Ric.tensor()"
   ]
  },
  {
   "cell_type": "code",
   "execution_count": 17,
   "id": "7f13473a",
   "metadata": {},
   "outputs": [
    {
     "data": {
      "image/png": "[encoded data removed]",
      "text/latex": [
       "$\\displaystyle \\frac{\\left(r \\frac{\\partial^{2}}{\\partial r^{2}} \\lambda{\\left(x,r \\right)} + r \\frac{\\partial^{2}}{\\partial x^{2}} \\lambda{\\left(x,r \\right)} + \\frac{r \\left(\\frac{\\partial}{\\partial r} \\rho{\\left(x,r \\right)}\\right)^{2}}{2} + \\frac{r \\left(\\frac{\\partial}{\\partial x} \\rho{\\left(x,r \\right)}\\right)^{2}}{2} - \\frac{\\partial}{\\partial r} \\rho{\\left(x,r \\right)}\\right) e^{- \\lambda{\\left(x,r \\right)}}}{r}$"
      ],
      "text/plain": [
       "⎛                                                 2                  2              ⎞          \n",
       "⎜                                    ⎛∂          ⎞      ⎛∂          ⎞               ⎟          \n",
       "⎜    2                2            r⋅⎜──(ρ(x, r))⎟    r⋅⎜──(ρ(x, r))⎟               ⎟          \n",
       "⎜   ∂                ∂               ⎝∂r         ⎠      ⎝∂x         ⎠    ∂          ⎟  -λ(x, r)\n",
       "⎜r⋅───(λ(x, r)) + r⋅───(λ(x, r)) + ──────────────── + ──────────────── - ──(ρ(x, r))⎟⋅ℯ        \n",
       "⎜    2                2                   2                  2           ∂r         ⎟          \n",
       "⎝  ∂r               ∂x                                                              ⎠          \n",
       "───────────────────────────────────────────────────────────────────────────────────────────────\n",
       "                                               r                                               "
      ]
     },
     "execution_count": 17,
     "metadata": {},
     "output_type": "execute_result"
    }
   ],
   "source": [
    "R = RicciScalar.from_riccitensor(Ric)\n",
    "R.simplify()\n",
    "R.expr"
   ]
  },
  {
   "cell_type": "code",
   "execution_count": 18,
   "id": "e6a4afa2",
   "metadata": {},
   "outputs": [
    {
     "data": {
      "text/latex": [
       "$\\displaystyle \\left[\\begin{matrix}- \\frac{r \\frac{\\partial^{2}}{\\partial r^{2}} \\lambda{\\left(x,r \\right)} + r \\frac{\\partial^{2}}{\\partial x^{2}} \\lambda{\\left(x,r \\right)} + r \\left(\\frac{\\partial}{\\partial x} \\rho{\\left(x,r \\right)}\\right)^{2} + \\frac{\\partial}{\\partial r} \\lambda{\\left(x,r \\right)}}{2 r} + \\frac{0.5 \\left(r \\frac{\\partial^{2}}{\\partial r^{2}} \\lambda{\\left(x,r \\right)} + r \\frac{\\partial^{2}}{\\partial x^{2}} \\lambda{\\left(x,r \\right)} + \\frac{r \\left(\\frac{\\partial}{\\partial r} \\rho{\\left(x,r \\right)}\\right)^{2}}{2} + \\frac{r \\left(\\frac{\\partial}{\\partial x} \\rho{\\left(x,r \\right)}\\right)^{2}}{2} - \\frac{\\partial}{\\partial r} \\rho{\\left(x,r \\right)}\\right)}{r} & \\frac{- r \\frac{\\partial}{\\partial r} \\rho{\\left(x,r \\right)} \\frac{\\partial}{\\partial x} \\rho{\\left(x,r \\right)} + \\frac{\\partial}{\\partial x} \\lambda{\\left(x,r \\right)} + \\frac{\\partial}{\\partial x} \\rho{\\left(x,r \\right)}}{2 r} & 0 & 0\\\\\\frac{- r \\frac{\\partial}{\\partial r} \\rho{\\left(x,r \\right)} \\frac{\\partial}{\\partial x} \\rho{\\left(x,r \\right)} + \\frac{\\partial}{\\partial x} \\lambda{\\left(x,r \\right)} + \\frac{\\partial}{\\partial x} \\rho{\\left(x,r \\right)}}{2 r} & \\frac{- r \\left(\\frac{\\partial^{2}}{\\partial r^{2}} \\lambda{\\left(x,r \\right)} + \\frac{\\partial^{2}}{\\partial x^{2}} \\lambda{\\left(x,r \\right)} + \\left(\\frac{\\partial}{\\partial r} \\rho{\\left(x,r \\right)}\\right)^{2}\\right) + \\frac{\\partial}{\\partial r} \\lambda{\\left(x,r \\right)} + 2 \\frac{\\partial}{\\partial r} \\rho{\\left(x,r \\right)}}{2 r} + \\frac{0.5 \\left(r \\frac{\\partial^{2}}{\\partial r^{2}} \\lambda{\\left(x,r \\right)} + r \\frac{\\partial^{2}}{\\partial x^{2}} \\lambda{\\left(x,r \\right)} + \\frac{r \\left(\\frac{\\partial}{\\partial r} \\rho{\\left(x,r \\right)}\\right)^{2}}{2} + \\frac{r \\left(\\frac{\\partial}{\\partial x} \\rho{\\left(x,r \\right)}\\right)^{2}}{2} - \\frac{\\partial}{\\partial r} \\rho{\\left(x,r \\right)}\\right)}{r} & 0 & 0\\\\0 & 0 & \\frac{r \\left(r \\frac{\\partial^{2}}{\\partial r^{2}} \\rho{\\left(x,r \\right)} + r \\frac{\\partial^{2}}{\\partial x^{2}} \\rho{\\left(x,r \\right)} + \\frac{\\partial}{\\partial r} \\rho{\\left(x,r \\right)}\\right) e^{- \\lambda{\\left(x,r \\right)} - \\rho{\\left(x,r \\right)}}}{2} + 0.5 r \\left(r \\frac{\\partial^{2}}{\\partial r^{2}} \\lambda{\\left(x,r \\right)} + r \\frac{\\partial^{2}}{\\partial x^{2}} \\lambda{\\left(x,r \\right)} + \\frac{r \\left(\\frac{\\partial}{\\partial r} \\rho{\\left(x,r \\right)}\\right)^{2}}{2} + \\frac{r \\left(\\frac{\\partial}{\\partial x} \\rho{\\left(x,r \\right)}\\right)^{2}}{2} - \\frac{\\partial}{\\partial r} \\rho{\\left(x,r \\right)}\\right) e^{- \\lambda{\\left(x,r \\right)}} e^{- \\rho{\\left(x,r \\right)}} & 0\\\\0 & 0 & 0 & \\frac{\\left(r \\frac{\\partial^{2}}{\\partial r^{2}} \\rho{\\left(x,r \\right)} + r \\frac{\\partial^{2}}{\\partial x^{2}} \\rho{\\left(x,r \\right)} + \\frac{\\partial}{\\partial r} \\rho{\\left(x,r \\right)}\\right) e^{- \\lambda{\\left(x,r \\right)} + \\rho{\\left(x,r \\right)}}}{2 r} - \\frac{0.5 \\left(r \\frac{\\partial^{2}}{\\partial r^{2}} \\lambda{\\left(x,r \\right)} + r \\frac{\\partial^{2}}{\\partial x^{2}} \\lambda{\\left(x,r \\right)} + \\frac{r \\left(\\frac{\\partial}{\\partial r} \\rho{\\left(x,r \\right)}\\right)^{2}}{2} + \\frac{r \\left(\\frac{\\partial}{\\partial x} \\rho{\\left(x,r \\right)}\\right)^{2}}{2} - \\frac{\\partial}{\\partial r} \\rho{\\left(x,r \\right)}\\right) e^{- \\lambda{\\left(x,r \\right)}} e^{\\rho{\\left(x,r \\right)}}}{r}\\end{matrix}\\right]$"
      ],
      "text/plain": [
       "⎡                                                                         ⎛                                                 2          \n",
       "⎢                                                                         ⎜                                    ⎛∂          ⎞      ⎛∂   \n",
       "⎢      2                2                           2                     ⎜    2                2            r⋅⎜──(ρ(x, r))⎟    r⋅⎜──(ρ\n",
       "⎢     ∂                ∂               ⎛∂          ⎞    ∂                 ⎜   ∂                ∂               ⎝∂r         ⎠      ⎝∂x  \n",
       "⎢  r⋅───(λ(x, r)) + r⋅───(λ(x, r)) + r⋅⎜──(ρ(x, r))⎟  + ──(λ(x, r))   0.5⋅⎜r⋅───(λ(x, r)) + r⋅───(λ(x, r)) + ──────────────── + ───────\n",
       "⎢      2                2              ⎝∂x         ⎠    ∂r                ⎜    2                2                   2                  \n",
       "⎢    ∂r               ∂x                                                  ⎝  ∂r               ∂x                                       \n",
       "⎢- ──────────────────────────────────────────────────────────────── + ─────────────────────────────────────────────────────────────────\n",
       "⎢                                2⋅r                                                                              r                    \n",
       "⎢                                                                                                                                      \n",
       "⎢                                                                                                                                      \n",
       "⎢                                                                                                                                      \n",
       "⎢                                                                                                                                      \n",
       "⎢                                                                                                                                      \n",
       "⎢                                                       ∂           ∂             ∂             ∂                                      \n",
       "⎢                                                   - r⋅──(ρ(x, r))⋅──(ρ(x, r)) + ──(λ(x, r)) + ──(ρ(x, r))                            \n",
       "⎢                                                       ∂r          ∂x            ∂x            ∂x                                     \n",
       "⎢                                                   ───────────────────────────────────────────────────────                            \n",
       "⎢                                                                             2⋅r                                                      \n",
       "⎢                                                                                                                                      \n",
       "⎢                                                                                                                                      \n",
       "⎢                                                                                                                                      \n",
       "⎢                                                                                                                                      \n",
       "⎢                                                                                                                                      \n",
       "⎢                                                                                                                                      \n",
       "⎢                                                                              0                                                       \n",
       "⎢                                                                                                                                      \n",
       "⎢                                                                                                                                      \n",
       "⎢                                                                                                                                      \n",
       "⎢                                                                                                                                      \n",
       "⎢                                                                                                                                      \n",
       "⎢                                                                                                                                      \n",
       "⎢                                                                                                                                      \n",
       "⎢                                                                                                                                      \n",
       "⎢                                                                                                                                      \n",
       "⎢                                                                                                                                      \n",
       "⎢                                                                              0                                                       \n",
       "⎣                                                                                                                                      \n",
       "\n",
       "        2              ⎞                                                                                                               \n",
       "       ⎞               ⎟                                                                                                               \n",
       "(x, r))⎟               ⎟                                                                                                               \n",
       "       ⎠    ∂          ⎟                                                                                                               \n",
       "───────── - ──(ρ(x, r))⎟                                                                ∂           ∂             ∂             ∂      \n",
       "2           ∂r         ⎟                                                            - r⋅──(ρ(x, r))⋅──(ρ(x, r)) + ──(λ(x, r)) + ──(ρ(x,\n",
       "                       ⎠                                                                ∂r          ∂x            ∂x            ∂x     \n",
       "────────────────────────                                                            ───────────────────────────────────────────────────\n",
       "                                                                                                              2⋅r                      \n",
       "                                                                                                                                       \n",
       "                                                                                                                 ⎛                     \n",
       "                                                                                                                 ⎜                     \n",
       "                              ⎛  2              2                         2⎞                                     ⎜    2                \n",
       "                              ⎜ ∂              ∂             ⎛∂          ⎞ ⎟   ∂               ∂                 ⎜   ∂                ∂\n",
       "                          - r⋅⎜───(λ(x, r)) + ───(λ(x, r)) + ⎜──(ρ(x, r))⎟ ⎟ + ──(λ(x, r)) + 2⋅──(ρ(x, r))   0.5⋅⎜r⋅───(λ(x, r)) + r⋅──\n",
       "                              ⎜  2              2            ⎝∂r         ⎠ ⎟   ∂r              ∂r                ⎜    2                \n",
       "                              ⎝∂r             ∂x                           ⎠                                     ⎝  ∂r               ∂x\n",
       "                          ──────────────────────────────────────────────────────────────────────────────── + ──────────────────────────\n",
       "                                                                2⋅r                                                                    \n",
       "                                                                                                                                       \n",
       "                                                                                                                                       \n",
       "                                                                                                                                       \n",
       "                                                                                                                                       \n",
       "                                                                                                                                       \n",
       "                                                                                                                                       \n",
       "                                                                                                               0                       \n",
       "                                                                                                                                       \n",
       "                                                                                                                                       \n",
       "                                                                                                                                       \n",
       "                                                                                                                                       \n",
       "                                                                                                                                       \n",
       "                                                                                                                                       \n",
       "                                                                                                                                       \n",
       "                                                                                                                                       \n",
       "                                                                                                                                       \n",
       "                                                                                                                                       \n",
       "                                                                                                               0                       \n",
       "                                                                                                                                       \n",
       "\n",
       "                                                                                                                                       \n",
       "                                                                                                                                       \n",
       "                                                                                                                                       \n",
       "                                                                                                                                       \n",
       "                                                                                                                                       \n",
       " r))                                                                                                                                   \n",
       "                                                                                                                                       \n",
       "────                                                                                                                                   \n",
       "                                                                                                                                       \n",
       "                                                                                                                                       \n",
       "                            2                  2              ⎞                                                                        \n",
       "               ⎛∂          ⎞      ⎛∂          ⎞               ⎟                                                                        \n",
       "2            r⋅⎜──(ρ(x, r))⎟    r⋅⎜──(ρ(x, r))⎟               ⎟                                                                        \n",
       "               ⎝∂r         ⎠      ⎝∂x         ⎠    ∂          ⎟                                                                        \n",
       "─(λ(x, r)) + ──────────────── + ──────────────── - ──(ρ(x, r))⎟                                                                        \n",
       "2                   2                  2           ∂r         ⎟                                                                        \n",
       "                                                              ⎠                                                                        \n",
       "───────────────────────────────────────────────────────────────                                                                        \n",
       "                  r                                                                                                                    \n",
       "                                                                                                                                       \n",
       "                                                                   ⎛    2                2                       ⎞                     \n",
       "                                                                   ⎜   ∂                ∂             ∂          ⎟  -λ(x, r) - ρ(x, r) \n",
       "                                                                 r⋅⎜r⋅───(ρ(x, r)) + r⋅───(ρ(x, r)) + ──(ρ(x, r))⎟⋅ℯ                   \n",
       "                                                                   ⎜    2                2            ∂r         ⎟                     \n",
       "                                                                   ⎝  ∂r               ∂x                        ⎠                     \n",
       "                                                                 ───────────────────────────────────────────────────────────────────── \n",
       "                                                                                                   2                                   \n",
       "                                                                                                                                       \n",
       "                                                                                                                                       \n",
       "                                                                                                                                       \n",
       "                                                                                                                                       \n",
       "                                                                                                                                       \n",
       "                                                                                                                                       \n",
       "                                                                                                                                       \n",
       "                                                                                                                                       \n",
       "                                                                                                                                       \n",
       "                                                                                                                                       \n",
       "                                                                                                                                       \n",
       "\n",
       "                                                                                                                                       \n",
       "                                                                                                                                       \n",
       "                                                                                                                                       \n",
       "                                                                                                                                       \n",
       "                                                                                                                                       \n",
       "                                                                                                                                       \n",
       "                                                                                                                                       \n",
       "                     0                                                                                                                 \n",
       "                                                                                                                                       \n",
       "                                                                                                                                       \n",
       "                                                                                                                                       \n",
       "                                                                                                                                       \n",
       "                                                                                                                                       \n",
       "                                                                                                                                       \n",
       "                                                                                                                                       \n",
       "                                                                                                                                       \n",
       "                                                                                                                                       \n",
       "                     0                                                                                                                 \n",
       "                                                                                                                                       \n",
       "                                                                                                                                       \n",
       "                                                                                                                                       \n",
       "        ⎛                                                 2                  2              ⎞                                          \n",
       "        ⎜                                    ⎛∂          ⎞      ⎛∂          ⎞               ⎟                                          \n",
       "        ⎜    2                2            r⋅⎜──(ρ(x, r))⎟    r⋅⎜──(ρ(x, r))⎟               ⎟                                          \n",
       "        ⎜   ∂                ∂               ⎝∂r         ⎠      ⎝∂x         ⎠    ∂          ⎟  -λ(x, r)  -ρ(x, r)                      \n",
       "+ 0.5⋅r⋅⎜r⋅───(λ(x, r)) + r⋅───(λ(x, r)) + ──────────────── + ──────────────── - ──(ρ(x, r))⎟⋅ℯ        ⋅ℯ                              \n",
       "        ⎜    2                2                   2                  2           ∂r         ⎟                                          \n",
       "        ⎝  ∂r               ∂x                                                              ⎠                                          \n",
       "                                                                                                                                       \n",
       "                                                                                                                                       \n",
       "                                                                                                                                       \n",
       "                                                                                                                   ⎛    2              \n",
       "                                                                                                                   ⎜   ∂               \n",
       "                                                                                                                   ⎜r⋅───(ρ(x, r)) + r⋅\n",
       "                                                                                                                   ⎜    2              \n",
       "                                                                                                                   ⎝  ∂r               \n",
       "                     0                                                                                             ────────────────────\n",
       "                                                                                                                                       \n",
       "\n",
       "                                                                                                                                       \n",
       "                                                                                                                                       \n",
       "                                                                                                                                       \n",
       "                                                                                                                                       \n",
       "                                                                                                                                       \n",
       "                                                                                                                                       \n",
       "                                                                                                                                       \n",
       "                                                                    0                                                                  \n",
       "                                                                                                                                       \n",
       "                                                                                                                                       \n",
       "                                                                                                                                       \n",
       "                                                                                                                                       \n",
       "                                                                                                                                       \n",
       "                                                                                                                                       \n",
       "                                                                                                                                       \n",
       "                                                                                                                                       \n",
       "                                                                                                                                       \n",
       "                                                                    0                                                                  \n",
       "                                                                                                                                       \n",
       "                                                                                                                                       \n",
       "                                                                                                                                       \n",
       "                                                                                                                                       \n",
       "                                                                                                                                       \n",
       "                                                                                                                                       \n",
       "                                                                                                                                       \n",
       "                                                                    0                                                                  \n",
       "                                                                                                                                       \n",
       "                                                                                                                                       \n",
       "                                                                                                                                       \n",
       "                                                      ⎛                                                 2                  2           \n",
       "                                                      ⎜                                    ⎛∂          ⎞      ⎛∂          ⎞            \n",
       "  2                       ⎞                           ⎜    2                2            r⋅⎜──(ρ(x, r))⎟    r⋅⎜──(ρ(x, r))⎟            \n",
       " ∂             ∂          ⎟  -λ(x, r) + ρ(x, r)       ⎜   ∂                ∂               ⎝∂r         ⎠      ⎝∂x         ⎠    ∂       \n",
       "───(ρ(x, r)) + ──(ρ(x, r))⎟⋅ℯ                     0.5⋅⎜r⋅───(λ(x, r)) + r⋅───(λ(x, r)) + ──────────────── + ──────────────── - ──(ρ(x, \n",
       "  2            ∂r         ⎟                           ⎜    2                2                   2                  2           ∂r      \n",
       "∂x                        ⎠                           ⎝  ∂r               ∂x                                                           \n",
       "─────────────────────────────────────────────── - ─────────────────────────────────────────────────────────────────────────────────────\n",
       "            2⋅r                                                                                        r                               \n",
       "\n",
       "                       ⎤\n",
       "                       ⎥\n",
       "                       ⎥\n",
       "                       ⎥\n",
       "                       ⎥\n",
       "                       ⎥\n",
       "                       ⎥\n",
       "                       ⎥\n",
       "                       ⎥\n",
       "                       ⎥\n",
       "                       ⎥\n",
       "                       ⎥\n",
       "                       ⎥\n",
       "                       ⎥\n",
       "                       ⎥\n",
       "                       ⎥\n",
       "                       ⎥\n",
       "                       ⎥\n",
       "                       ⎥\n",
       "                       ⎥\n",
       "                       ⎥\n",
       "                       ⎥\n",
       "                       ⎥\n",
       "                       ⎥\n",
       "                       ⎥\n",
       "                       ⎥\n",
       "                       ⎥\n",
       "                       ⎥\n",
       "                       ⎥\n",
       "   ⎞                   ⎥\n",
       "   ⎟                   ⎥\n",
       "   ⎟                   ⎥\n",
       "   ⎟  -λ(x, r)  ρ(x, r)⎥\n",
       "r))⎟⋅ℯ        ⋅ℯ       ⎥\n",
       "   ⎟                   ⎥\n",
       "   ⎠                   ⎥\n",
       "───────────────────────⎥\n",
       "                       ⎦"
      ]
     },
     "execution_count": 18,
     "metadata": {},
     "output_type": "execute_result"
    }
   ],
   "source": [
    "einst = EinsteinTensor.from_metric(metric)\n",
    "einst.tensor()"
   ]
  },
  {
   "cell_type": "code",
   "execution_count": 19,
   "id": "3f03362f",
   "metadata": {},
   "outputs": [],
   "source": [
    "#  rm1 = RiemannCurvatureTensor.from_christoffels(ch)\n",
    "#  rm1.tensor()"
   ]
  },
  {
   "cell_type": "code",
   "execution_count": 20,
   "id": "8e1870bd",
   "metadata": {},
   "outputs": [],
   "source": [
    "#  weyl = WeylTensor.from_metric(metric)\n",
    "#  weyl.tensor()"
   ]
  },
  {
   "cell_type": "code",
   "execution_count": 21,
   "id": "edc8b430",
   "metadata": {},
   "outputs": [
    {
     "data": {
      "text/latex": [
       "$\\displaystyle \\left[\\begin{matrix}- \\frac{r \\frac{\\partial^{2}}{\\partial r^{2}} \\lambda{\\left(x,r \\right)} + r \\frac{\\partial^{2}}{\\partial x^{2}} \\lambda{\\left(x,r \\right)} + r \\left(\\frac{\\partial}{\\partial x} \\rho{\\left(x,r \\right)}\\right)^{2} + \\frac{\\partial}{\\partial r} \\lambda{\\left(x,r \\right)}}{2 r} & \\frac{- r \\frac{\\partial}{\\partial r} \\rho{\\left(x,r \\right)} \\frac{\\partial}{\\partial x} \\rho{\\left(x,r \\right)} + \\frac{\\partial}{\\partial x} \\lambda{\\left(x,r \\right)} + \\frac{\\partial}{\\partial x} \\rho{\\left(x,r \\right)}}{2 r} & 0 & 0\\\\\\frac{- r \\frac{\\partial}{\\partial r} \\rho{\\left(x,r \\right)} \\frac{\\partial}{\\partial x} \\rho{\\left(x,r \\right)} + \\frac{\\partial}{\\partial x} \\lambda{\\left(x,r \\right)} + \\frac{\\partial}{\\partial x} \\rho{\\left(x,r \\right)}}{2 r} & \\frac{- r \\left(\\frac{\\partial^{2}}{\\partial r^{2}} \\lambda{\\left(x,r \\right)} + \\frac{\\partial^{2}}{\\partial x^{2}} \\lambda{\\left(x,r \\right)} + \\left(\\frac{\\partial}{\\partial r} \\rho{\\left(x,r \\right)}\\right)^{2}\\right) + \\frac{\\partial}{\\partial r} \\lambda{\\left(x,r \\right)} + 2 \\frac{\\partial}{\\partial r} \\rho{\\left(x,r \\right)}}{2 r} & 0 & 0\\\\0 & 0 & \\frac{r \\left(r \\frac{\\partial^{2}}{\\partial r^{2}} \\rho{\\left(x,r \\right)} + r \\frac{\\partial^{2}}{\\partial x^{2}} \\rho{\\left(x,r \\right)} + \\frac{\\partial}{\\partial r} \\rho{\\left(x,r \\right)}\\right) e^{- \\lambda{\\left(x,r \\right)} - \\rho{\\left(x,r \\right)}}}{2} & 0\\\\0 & 0 & 0 & \\frac{\\left(r \\frac{\\partial^{2}}{\\partial r^{2}} \\rho{\\left(x,r \\right)} + r \\frac{\\partial^{2}}{\\partial x^{2}} \\rho{\\left(x,r \\right)} + \\frac{\\partial}{\\partial r} \\rho{\\left(x,r \\right)}\\right) e^{- \\lambda{\\left(x,r \\right)} + \\rho{\\left(x,r \\right)}}}{2 r}\\end{matrix}\\right]$"
      ],
      "text/plain": [
       "⎡ ⎛    2                2                           2              ⎞                                                                   \n",
       "⎢ ⎜   ∂                ∂               ⎛∂          ⎞    ∂          ⎟                                                                   \n",
       "⎢-⎜r⋅───(λ(x, r)) + r⋅───(λ(x, r)) + r⋅⎜──(ρ(x, r))⎟  + ──(λ(x, r))⎟                   ∂           ∂             ∂             ∂       \n",
       "⎢ ⎜    2                2              ⎝∂x         ⎠    ∂r         ⎟               - r⋅──(ρ(x, r))⋅──(ρ(x, r)) + ──(λ(x, r)) + ──(ρ(x, \n",
       "⎢ ⎝  ∂r               ∂x                                           ⎠                   ∂r          ∂x            ∂x            ∂x      \n",
       "⎢────────────────────────────────────────────────────────────────────              ────────────────────────────────────────────────────\n",
       "⎢                                2⋅r                                                                         2⋅r                       \n",
       "⎢                                                                                                                                      \n",
       "⎢                                                                          ⎛  2              2                         2⎞              \n",
       "⎢                                                                          ⎜ ∂              ∂             ⎛∂          ⎞ ⎟   ∂          \n",
       "⎢          ∂           ∂             ∂             ∂                   - r⋅⎜───(λ(x, r)) + ───(λ(x, r)) + ⎜──(ρ(x, r))⎟ ⎟ + ──(λ(x, r))\n",
       "⎢      - r⋅──(ρ(x, r))⋅──(ρ(x, r)) + ──(λ(x, r)) + ──(ρ(x, r))             ⎜  2              2            ⎝∂r         ⎠ ⎟   ∂r         \n",
       "⎢          ∂r          ∂x            ∂x            ∂x                      ⎝∂r             ∂x                           ⎠              \n",
       "⎢      ───────────────────────────────────────────────────────         ────────────────────────────────────────────────────────────────\n",
       "⎢                                2⋅r                                                                         2⋅r                       \n",
       "⎢                                                                                                                                      \n",
       "⎢                                                                                                                                      \n",
       "⎢                                                                                                                                      \n",
       "⎢                                                                                                                                      \n",
       "⎢                                                                                                                                      \n",
       "⎢                                                                                                                                      \n",
       "⎢                                 0                                                                           0                        \n",
       "⎢                                                                                                                                      \n",
       "⎢                                                                                                                                      \n",
       "⎢                                                                                                                                      \n",
       "⎢                                                                                                                                      \n",
       "⎢                                                                                                                                      \n",
       "⎢                                                                                                                                      \n",
       "⎢                                                                                                                                      \n",
       "⎢                                 0                                                                           0                        \n",
       "⎣                                                                                                                                      \n",
       "\n",
       "                                                                                                                                       \n",
       "                                                                                                                                       \n",
       "                                                                                                                                       \n",
       "r))                                                                                                                                    \n",
       "                                                                                                                                       \n",
       "───                                                 0                                                                     0            \n",
       "                                                                                                                                       \n",
       "                                                                                                                                       \n",
       "                                                                                                                                       \n",
       "     ∂                                                                                                                                 \n",
       " + 2⋅──(ρ(x, r))                                                                                                                       \n",
       "     ∂r                                                                                                                                \n",
       "                                                                                                                                       \n",
       "────────────────                                    0                                                                     0            \n",
       "                                                                                                                                       \n",
       "                                                                                                                                       \n",
       "                    ⎛    2                2                       ⎞                                                                    \n",
       "                    ⎜   ∂                ∂             ∂          ⎟  -λ(x, r) - ρ(x, r)                                                \n",
       "                  r⋅⎜r⋅───(ρ(x, r)) + r⋅───(ρ(x, r)) + ──(ρ(x, r))⎟⋅ℯ                                                                  \n",
       "                    ⎜    2                2            ∂r         ⎟                                                                    \n",
       "                    ⎝  ∂r               ∂x                        ⎠                                                                    \n",
       "                  ─────────────────────────────────────────────────────────────────────                                   0            \n",
       "                                                    2                                                                                  \n",
       "                                                                                                                                       \n",
       "                                                                                         ⎛    2                2                       \n",
       "                                                                                         ⎜   ∂                ∂             ∂          \n",
       "                                                                                         ⎜r⋅───(ρ(x, r)) + r⋅───(ρ(x, r)) + ──(ρ(x, r))\n",
       "                                                                                         ⎜    2                2            ∂r         \n",
       "                                                                                         ⎝  ∂r               ∂x                        \n",
       "                                                    0                                    ──────────────────────────────────────────────\n",
       "                                                                                                                         2⋅r           \n",
       "\n",
       "                     ⎤\n",
       "                     ⎥\n",
       "                     ⎥\n",
       "                     ⎥\n",
       "                     ⎥\n",
       "                     ⎥\n",
       "                     ⎥\n",
       "                     ⎥\n",
       "                     ⎥\n",
       "                     ⎥\n",
       "                     ⎥\n",
       "                     ⎥\n",
       "                     ⎥\n",
       "                     ⎥\n",
       "                     ⎥\n",
       "                     ⎥\n",
       "                     ⎥\n",
       "                     ⎥\n",
       "                     ⎥\n",
       "                     ⎥\n",
       "                     ⎥\n",
       "                     ⎥\n",
       "                     ⎥\n",
       "                     ⎥\n",
       "⎞                    ⎥\n",
       "⎟  -λ(x, r) + ρ(x, r)⎥\n",
       "⎟⋅ℯ                  ⎥\n",
       "⎟                    ⎥\n",
       "⎠                    ⎥\n",
       "─────────────────────⎥\n",
       "                     ⎦"
      ]
     },
     "execution_count": 21,
     "metadata": {},
     "output_type": "execute_result"
    }
   ],
   "source": [
    "ricciSimplified = simplify(Ric.tensor())\n",
    "ricciSimplified"
   ]
  },
  {
   "cell_type": "code",
   "execution_count": 22,
   "id": "b2142a2d",
   "metadata": {},
   "outputs": [
    {
     "data": {
      "text/latex": [
       "$\\displaystyle \\left[\\begin{matrix}0.25 \\left(\\frac{\\partial}{\\partial r} \\rho{\\left(x,r \\right)}\\right)^{2} - 0.25 \\left(\\frac{\\partial}{\\partial x} \\rho{\\left(x,r \\right)}\\right)^{2} - \\frac{\\frac{\\partial}{\\partial r} \\lambda{\\left(x,r \\right)}}{2 r} - \\frac{0.5 \\frac{\\partial}{\\partial r} \\rho{\\left(x,r \\right)}}{r} & \\frac{- r \\frac{\\partial}{\\partial r} \\rho{\\left(x,r \\right)} \\frac{\\partial}{\\partial x} \\rho{\\left(x,r \\right)} + \\frac{\\partial}{\\partial x} \\lambda{\\left(x,r \\right)} + \\frac{\\partial}{\\partial x} \\rho{\\left(x,r \\right)}}{2 r} & 0 & 0\\\\\\frac{- r \\frac{\\partial}{\\partial r} \\rho{\\left(x,r \\right)} \\frac{\\partial}{\\partial x} \\rho{\\left(x,r \\right)} + \\frac{\\partial}{\\partial x} \\lambda{\\left(x,r \\right)} + \\frac{\\partial}{\\partial x} \\rho{\\left(x,r \\right)}}{2 r} & - 0.25 \\left(\\frac{\\partial}{\\partial r} \\rho{\\left(x,r \\right)}\\right)^{2} + 0.25 \\left(\\frac{\\partial}{\\partial x} \\rho{\\left(x,r \\right)}\\right)^{2} + \\frac{0.5 \\frac{\\partial}{\\partial r} \\lambda{\\left(x,r \\right)}}{r} + \\frac{0.5 \\frac{\\partial}{\\partial r} \\rho{\\left(x,r \\right)}}{r} & 0 & 0\\\\0 & 0 & r^{2} \\left(0.5 \\frac{\\partial^{2}}{\\partial r^{2}} \\lambda{\\left(x,r \\right)} + 0.5 \\frac{\\partial^{2}}{\\partial x^{2}} \\lambda{\\left(x,r \\right)} + 0.25 \\left(\\frac{\\partial}{\\partial r} \\rho{\\left(x,r \\right)}\\right)^{2} + 0.5 \\frac{\\partial^{2}}{\\partial r^{2}} \\rho{\\left(x,r \\right)} + 0.25 \\left(\\frac{\\partial}{\\partial x} \\rho{\\left(x,r \\right)}\\right)^{2} + 0.5 \\frac{\\partial^{2}}{\\partial x^{2}} \\rho{\\left(x,r \\right)}\\right) e^{- \\lambda{\\left(x,r \\right)} - \\rho{\\left(x,r \\right)}} & 0\\\\0 & 0 & 0 & \\frac{\\left(- 1.0 r \\frac{\\partial^{2}}{\\partial r^{2}} \\lambda{\\left(x,r \\right)} - 1.0 r \\frac{\\partial^{2}}{\\partial x^{2}} \\lambda{\\left(x,r \\right)} - 0.5 r \\left(\\frac{\\partial}{\\partial r} \\rho{\\left(x,r \\right)}\\right)^{2} + r \\frac{\\partial^{2}}{\\partial r^{2}} \\rho{\\left(x,r \\right)} - 0.5 r \\left(\\frac{\\partial}{\\partial x} \\rho{\\left(x,r \\right)}\\right)^{2} + r \\frac{\\partial^{2}}{\\partial x^{2}} \\rho{\\left(x,r \\right)} + 2.0 \\frac{\\partial}{\\partial r} \\rho{\\left(x,r \\right)}\\right) e^{- \\lambda{\\left(x,r \\right)} + \\rho{\\left(x,r \\right)}}}{2 r}\\end{matrix}\\right]$"
      ],
      "text/plain": [
       "⎡                                            ∂                 ∂                            ∂           ∂             ∂             ∂  \n",
       "⎢                  2                     2   ──(λ(x, r))   0.5⋅──(ρ(x, r))              - r⋅──(ρ(x, r))⋅──(ρ(x, r)) + ──(λ(x, r)) + ──(\n",
       "⎢     ⎛∂          ⎞         ⎛∂          ⎞    ∂r                ∂r                           ∂r          ∂x            ∂x            ∂x \n",
       "⎢0.25⋅⎜──(ρ(x, r))⎟  - 0.25⋅⎜──(ρ(x, r))⎟  - ─────────── - ───────────────              ───────────────────────────────────────────────\n",
       "⎢     ⎝∂r         ⎠         ⎝∂x         ⎠        2⋅r              r                                               2⋅r                  \n",
       "⎢                                                                                                                                      \n",
       "⎢             ∂           ∂             ∂             ∂                                                                       ∂        \n",
       "⎢         - r⋅──(ρ(x, r))⋅──(ρ(x, r)) + ──(λ(x, r)) + ──(ρ(x, r))                               2                     2   0.5⋅──(λ(x, r\n",
       "⎢             ∂r          ∂x            ∂x            ∂x                           ⎛∂          ⎞         ⎛∂          ⎞        ∂r       \n",
       "⎢         ───────────────────────────────────────────────────────           - 0.25⋅⎜──(ρ(x, r))⎟  + 0.25⋅⎜──(ρ(x, r))⎟  + ─────────────\n",
       "⎢                                   2⋅r                                            ⎝∂r         ⎠         ⎝∂x         ⎠           r     \n",
       "⎢                                                                                                                                      \n",
       "⎢                                                                                                                                      \n",
       "⎢                                                                                                                                      \n",
       "⎢                                    0                                                                             0                   \n",
       "⎢                                                                                                                                      \n",
       "⎢                                                                                                                                      \n",
       "⎢                                                                                                                                      \n",
       "⎢                                                                                                                                      \n",
       "⎢                                                                                                                                      \n",
       "⎢                                                                                                                                      \n",
       "⎢                                                                                                                                      \n",
       "⎢                                                                                                                                      \n",
       "⎢                                    0                                                                             0                   \n",
       "⎣                                                                                                                                      \n",
       "\n",
       "                                                                                                                                       \n",
       "ρ(x, r))                                                                                                                               \n",
       "                                                                                                                                       \n",
       "────────                                                                                    0                                          \n",
       "                                                                                                                                       \n",
       "                                                                                                                                       \n",
       "         ∂                                                                                                                             \n",
       "))   0.5⋅──(ρ(x, r))                                                                                                                   \n",
       "         ∂r                                                                                                                            \n",
       "── + ───────────────                                                                        0                                          \n",
       "            r                                                                                                                          \n",
       "                                                                                                                                       \n",
       "                         ⎛      2                  2                              2         2                              2         2 \n",
       "                       2 ⎜     ∂                  ∂                  ⎛∂          ⎞         ∂                  ⎛∂          ⎞         ∂  \n",
       "                      r ⋅⎜0.5⋅───(λ(x, r)) + 0.5⋅───(λ(x, r)) + 0.25⋅⎜──(ρ(x, r))⎟  + 0.5⋅───(ρ(x, r)) + 0.25⋅⎜──(ρ(x, r))⎟  + 0.5⋅───(\n",
       "                         ⎜      2                  2                 ⎝∂r         ⎠          2                 ⎝∂x         ⎠          2 \n",
       "                         ⎝    ∂r                 ∂x                                       ∂r                                       ∂x  \n",
       "                                                                                                                                       \n",
       "                                                                                                                                       \n",
       "                                                                                                                                       \n",
       "                                                                                                                                       \n",
       "                                                                                                                                       \n",
       "                                                                                                                                       \n",
       "                                                                                            0                                          \n",
       "                                                                                                                                       \n",
       "\n",
       "                                                                                                                                       \n",
       "                                                                                                                                       \n",
       "                                                                                                                                       \n",
       "                                                                                                           0                           \n",
       "                                                                                                                                       \n",
       "                                                                                                                                       \n",
       "                                                                                                                                       \n",
       "                                                                                                                                       \n",
       "                                                                                                                                       \n",
       "                                                                                                           0                           \n",
       "                                                                                                                                       \n",
       "                                                                                                                                       \n",
       "        ⎞                                                                                                                              \n",
       "        ⎟  -λ(x, r) - ρ(x, r)                                                                                                          \n",
       "ρ(x, r))⎟⋅ℯ                                                                                                0                           \n",
       "        ⎟                                                                                                                              \n",
       "        ⎠                                                                                                                              \n",
       "                                                                                                                                       \n",
       "                               ⎛      2                2                               2       2                               2       \n",
       "                               ⎜     ∂                ∂                   ⎛∂          ⎞       ∂                   ⎛∂          ⎞       ∂\n",
       "                               ⎜- r⋅───(λ(x, r)) - r⋅───(λ(x, r)) - 0.5⋅r⋅⎜──(ρ(x, r))⎟  + r⋅───(ρ(x, r)) - 0.5⋅r⋅⎜──(ρ(x, r))⎟  + r⋅──\n",
       "                               ⎜      2                2                  ⎝∂r         ⎠        2                  ⎝∂x         ⎠        \n",
       "                               ⎝    ∂r               ∂x                                      ∂r                                      ∂x\n",
       "                               ────────────────────────────────────────────────────────────────────────────────────────────────────────\n",
       "                                                                                                          2⋅r                          \n",
       "\n",
       "                                                 ⎤\n",
       "                                                 ⎥\n",
       "                                                 ⎥\n",
       "                                                 ⎥\n",
       "                                                 ⎥\n",
       "                                                 ⎥\n",
       "                                                 ⎥\n",
       "                                                 ⎥\n",
       "                                                 ⎥\n",
       "                                                 ⎥\n",
       "                                                 ⎥\n",
       "                                                 ⎥\n",
       "                                                 ⎥\n",
       "                                                 ⎥\n",
       "                                                 ⎥\n",
       "                                                 ⎥\n",
       "                                                 ⎥\n",
       "                                                 ⎥\n",
       "2                           ⎞                    ⎥\n",
       "                 ∂          ⎟  -λ(x, r) + ρ(x, r)⎥\n",
       "─(ρ(x, r)) + 2.0⋅──(ρ(x, r))⎟⋅ℯ                  ⎥\n",
       "2                ∂r         ⎟                    ⎥\n",
       "                            ⎠                    ⎥\n",
       "─────────────────────────────────────────────────⎥\n",
       "                                                 ⎦"
      ]
     },
     "execution_count": 22,
     "metadata": {},
     "output_type": "execute_result"
    }
   ],
   "source": [
    "einsteinSimplified = simplify(einst.tensor())\n",
    "einsteinSimplified"
   ]
  },
  {
   "cell_type": "code",
   "execution_count": 30,
   "id": "4f32bfed",
   "metadata": {},
   "outputs": [
    {
     "data": {
      "image/png": "[encoded data removed]",
      "text/latex": [
       "$\\displaystyle \\frac{\\partial}{\\partial r} \\lambda{\\left(x,r \\right)} = 0.5 r \\left(\\frac{\\partial}{\\partial r} \\rho{\\left(x,r \\right)}\\right)^{2} - 0.5 r \\left(\\frac{\\partial}{\\partial x} \\rho{\\left(x,r \\right)}\\right)^{2} - \\frac{\\partial}{\\partial r} \\rho{\\left(x,r \\right)}$"
      ],
      "text/plain": [
       "                                 2                      2              \n",
       "∂                   ⎛∂          ⎞          ⎛∂          ⎞    ∂          \n",
       "──(λ(x, r)) = 0.5⋅r⋅⎜──(ρ(x, r))⎟  - 0.5⋅r⋅⎜──(ρ(x, r))⎟  - ──(ρ(x, r))\n",
       "∂r                  ⎝∂r         ⎠          ⎝∂x         ⎠    ∂r         "
      ]
     },
     "execution_count": 30,
     "metadata": {},
     "output_type": "execute_result"
    }
   ],
   "source": [
    "equation2pt21  =  Eq( diff(Lambda,r), solve( einsteinSimplified[0,0], diff(Lambda,r) )[0] ) \n",
    "equation2pt21"
   ]
  },
  {
   "cell_type": "code",
   "execution_count": 27,
   "id": "a6cc7537",
   "metadata": {},
   "outputs": [
    {
     "data": {
      "image/png": "[encoded data removed]",
      "text/latex": [
       "$\\displaystyle \\frac{\\partial}{\\partial x} \\lambda{\\left(x,r \\right)} = r \\frac{\\partial}{\\partial r} \\rho{\\left(x,r \\right)} \\frac{\\partial}{\\partial x} \\rho{\\left(x,r \\right)} - \\frac{\\partial}{\\partial x} \\rho{\\left(x,r \\right)}$"
      ],
      "text/plain": [
       "∂               ∂           ∂             ∂          \n",
       "──(λ(x, r)) = r⋅──(ρ(x, r))⋅──(ρ(x, r)) - ──(ρ(x, r))\n",
       "∂x              ∂r          ∂x            ∂x         "
      ]
     },
     "execution_count": 27,
     "metadata": {},
     "output_type": "execute_result"
    }
   ],
   "source": [
    "equation2pt22 = Eq( diff(Lambda,x) , expand(solve( einsteinSimplified[1,0], diff(Lambda,x) )[0]) ) \n",
    "equation2pt22"
   ]
  },
  {
   "cell_type": "code",
   "execution_count": 36,
   "id": "81a0daa9",
   "metadata": {},
   "outputs": [
    {
     "data": {
      "image/png": "[encoded data removed]",
      "text/latex": [
       "$\\displaystyle \\frac{\\partial^{2}}{\\partial r^{2}} \\rho{\\left(x,r \\right)} + \\frac{\\partial^{2}}{\\partial x^{2}} \\rho{\\left(x,r \\right)} + \\frac{\\frac{\\partial}{\\partial r} \\rho{\\left(x,r \\right)}}{r} = 0$"
      ],
      "text/plain": [
       "                              ∂              \n",
       "  2              2            ──(ρ(x, r))    \n",
       " ∂              ∂             ∂r             \n",
       "───(ρ(x, r)) + ───(ρ(x, r)) + ─────────── = 0\n",
       "  2              2                 r         \n",
       "∂r             ∂x                            "
      ]
     },
     "execution_count": 36,
     "metadata": {},
     "output_type": "execute_result"
    }
   ],
   "source": [
    "equation2pt23 = Eq( expand((1/r)*ricciSimplified[2,2].args[2]),0 )\n",
    "equation2pt23"
   ]
  },
  {
   "cell_type": "code",
   "execution_count": 38,
   "id": "bab0b7ae",
   "metadata": {},
   "outputs": [
    {
     "data": {
      "text/latex": [
       "$\\displaystyle \\left[\\begin{matrix}\\frac{\\partial}{\\partial r} \\lambda{\\left(x,r \\right)} = 0.5 r \\left(\\frac{\\partial}{\\partial r} \\rho{\\left(x,r \\right)}\\right)^{2} - 0.5 r \\left(\\frac{\\partial}{\\partial x} \\rho{\\left(x,r \\right)}\\right)^{2} - \\frac{\\partial}{\\partial r} \\rho{\\left(x,r \\right)}\\\\\\frac{\\partial}{\\partial x} \\lambda{\\left(x,r \\right)} = r \\frac{\\partial}{\\partial r} \\rho{\\left(x,r \\right)} \\frac{\\partial}{\\partial x} \\rho{\\left(x,r \\right)} - \\frac{\\partial}{\\partial x} \\rho{\\left(x,r \\right)}\\\\\\frac{\\partial^{2}}{\\partial r^{2}} \\rho{\\left(x,r \\right)} + \\frac{\\partial^{2}}{\\partial x^{2}} \\rho{\\left(x,r \\right)} + \\frac{\\frac{\\partial}{\\partial r} \\rho{\\left(x,r \\right)}}{r} = 0\\end{matrix}\\right]$"
      ],
      "text/plain": [
       "⎡                                 2                      2              ⎤\n",
       "⎢∂                   ⎛∂          ⎞          ⎛∂          ⎞    ∂          ⎥\n",
       "⎢──(λ(x, r)) = 0.5⋅r⋅⎜──(ρ(x, r))⎟  - 0.5⋅r⋅⎜──(ρ(x, r))⎟  - ──(ρ(x, r))⎥\n",
       "⎢∂r                  ⎝∂r         ⎠          ⎝∂x         ⎠    ∂r         ⎥\n",
       "⎢                                                                       ⎥\n",
       "⎢         ∂               ∂           ∂             ∂                   ⎥\n",
       "⎢         ──(λ(x, r)) = r⋅──(ρ(x, r))⋅──(ρ(x, r)) - ──(ρ(x, r))         ⎥\n",
       "⎢         ∂x              ∂r          ∂x            ∂x                  ⎥\n",
       "⎢                                                                       ⎥\n",
       "⎢                                           ∂                           ⎥\n",
       "⎢               2              2            ──(ρ(x, r))                 ⎥\n",
       "⎢              ∂              ∂             ∂r                          ⎥\n",
       "⎢             ───(ρ(x, r)) + ───(ρ(x, r)) + ─────────── = 0             ⎥\n",
       "⎢               2              2                 r                      ⎥\n",
       "⎣             ∂r             ∂x                                         ⎦"
      ]
     },
     "execution_count": 38,
     "metadata": {},
     "output_type": "execute_result"
    }
   ],
   "source": [
    "vacuumFieldEquations = Matrix([equation2pt21,equation2pt22,equation2pt23])\n",
    "vacuumFieldEquations"
   ]
  },
  {
   "cell_type": "code",
   "execution_count": null,
   "id": "9becc112",
   "metadata": {},
   "outputs": [],
   "source": []
  }
 ],
 "metadata": {
  "@webio": {
   "lastCommId": "bd8dba5898e441fb8e54114c6e84983c",
   "lastKernelId": "21085e97-7135-4d36-b212-f4491207e5fa"
  },
  "kernelspec": {
   "display_name": "Python 3 (ipykernel)",
   "language": "python",
   "name": "python3"
  },
  "language_info": {
   "codemirror_mode": {
    "name": "ipython",
    "version": 3
   },
   "file_extension": ".py",
   "mimetype": "text/x-python",
   "name": "python",
   "nbconvert_exporter": "python",
   "pygments_lexer": "ipython3",
   "version": "3.8.8"
  }
 },
 "nbformat": 4,
 "nbformat_minor": 5
}
