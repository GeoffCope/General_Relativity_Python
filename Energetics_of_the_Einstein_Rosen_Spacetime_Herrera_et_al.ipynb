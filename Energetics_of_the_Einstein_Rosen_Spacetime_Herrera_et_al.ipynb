{
 "cells": [
  {
   "cell_type": "markdown",
   "id": "1af27c71",
   "metadata": {},
   "source": [
    "# Energetics of the Einstein Rosen Spacetime by Herrera et al\n",
    "##  Geoff Cope\n",
    "##  Univeristy of Utah\n",
    "##  January 2, 2022"
   ]
  },
  {
   "cell_type": "markdown",
   "id": "31240a86",
   "metadata": {},
   "source": [
    "https://arxiv.org/abs/gr-qc/0606052"
   ]
  },
  {
   "cell_type": "code",
   "execution_count": 1,
   "id": "5709e21b",
   "metadata": {},
   "outputs": [
    {
     "name": "stdout",
     "output_type": "stream",
     "text": [
      "IPython console for SymPy 1.9 (Python 3.8.8-64-bit) (ground types: gmpy)\n",
      "\n",
      "These commands were executed:\n",
      ">>> from __future__ import division\n",
      ">>> from sympy import *\n",
      ">>> x, y, z, t = symbols('x y z t')\n",
      ">>> k, m, n = symbols('k m n', integer=True)\n",
      ">>> f, g, h = symbols('f g h', cls=Function)\n",
      ">>> init_printing()\n",
      "\n",
      "Documentation can be found at https://docs.sympy.org/1.9/\n",
      "\n"
     ]
    }
   ],
   "source": [
    "from sympy import init_session\n",
    "init_session(use_latex=True)"
   ]
  },
  {
   "cell_type": "code",
   "execution_count": 2,
   "id": "64ff35df",
   "metadata": {},
   "outputs": [],
   "source": [
    "import warnings\n",
    "import matplotlib.cbook\n",
    "warnings.filterwarnings(\"ignore\",category=matplotlib.cbook.mplDeprecation)"
   ]
  },
  {
   "cell_type": "code",
   "execution_count": 3,
   "id": "5f48bc1f",
   "metadata": {},
   "outputs": [],
   "source": [
    "t,r,phi,z,dt,dr,dphi,dz = symbols( 't r phi z dt dr dphi dz' ) "
   ]
  },
  {
   "cell_type": "code",
   "execution_count": 4,
   "id": "3133c58c",
   "metadata": {},
   "outputs": [
    {
     "data": {
      "image/png": "[encoded data removed]",
      "text/latex": [
       "$\\displaystyle \\psi{\\left(r,t \\right)}$"
      ],
      "text/plain": [
       "ψ(r, t)"
      ]
     },
     "execution_count": 4,
     "metadata": {},
     "output_type": "execute_result"
    }
   ],
   "source": [
    "psi = Function('psi')(r,t)\n",
    "psi"
   ]
  },
  {
   "cell_type": "code",
   "execution_count": 5,
   "id": "3418b118",
   "metadata": {},
   "outputs": [
    {
     "data": {
      "image/png": "[encoded data removed]",
      "text/latex": [
       "$\\displaystyle \\gamma{\\left(r,t \\right)}$"
      ],
      "text/plain": [
       "γ(r, t)"
      ]
     },
     "execution_count": 5,
     "metadata": {},
     "output_type": "execute_result"
    }
   ],
   "source": [
    "gamma = Function('gamma')(r,t)\n",
    "gamma"
   ]
  },
  {
   "cell_type": "code",
   "execution_count": 6,
   "id": "8903814d",
   "metadata": {},
   "outputs": [
    {
     "data": {
      "text/latex": [
       "$\\displaystyle \\left[\\begin{matrix}t\\\\r\\\\\\phi\\\\z\\end{matrix}\\right]$"
      ],
      "text/plain": [
       "⎡t⎤\n",
       "⎢ ⎥\n",
       "⎢r⎥\n",
       "⎢ ⎥\n",
       "⎢φ⎥\n",
       "⎢ ⎥\n",
       "⎣z⎦"
      ]
     },
     "execution_count": 6,
     "metadata": {},
     "output_type": "execute_result"
    }
   ],
   "source": [
    "variables = Matrix( [t,r,phi,z] )\n",
    "variables"
   ]
  },
  {
   "cell_type": "code",
   "execution_count": 7,
   "id": "a994855a",
   "metadata": {},
   "outputs": [
    {
     "data": {
      "text/latex": [
       "$\\displaystyle \\left[\\begin{matrix}dt\\\\dr\\\\dphi\\\\dz\\end{matrix}\\right]$"
      ],
      "text/plain": [
       "⎡ dt ⎤\n",
       "⎢    ⎥\n",
       "⎢ dr ⎥\n",
       "⎢    ⎥\n",
       "⎢dphi⎥\n",
       "⎢    ⎥\n",
       "⎣ dz ⎦"
      ]
     },
     "execution_count": 7,
     "metadata": {},
     "output_type": "execute_result"
    }
   ],
   "source": [
    "differentials = Matrix( [dt,dr,dphi,dz] ) \n",
    "differentials"
   ]
  },
  {
   "cell_type": "code",
   "execution_count": 8,
   "id": "f5e1afaa",
   "metadata": {},
   "outputs": [
    {
     "data": {
      "image/png": "[encoded data removed]",
      "text/latex": [
       "$\\displaystyle dphi^{2} r^{2} e^{- 2 \\psi{\\left(r,t \\right)}} + dr^{2} e^{2 \\gamma{\\left(r,t \\right)}} e^{- 2 \\psi{\\left(r,t \\right)}} - dt^{2} e^{2 \\gamma{\\left(r,t \\right)}} e^{- 2 \\psi{\\left(r,t \\right)}} + dz^{2} e^{2 \\psi{\\left(r,t \\right)}}$"
      ],
      "text/plain": [
       "    2  2  -2⋅ψ(r, t)     2  2⋅γ(r, t)  -2⋅ψ(r, t)     2  2⋅γ(r, t)  -2⋅ψ(r, t)     2  2⋅ψ(r,\n",
       "dphi ⋅r ⋅ℯ           + dr ⋅ℯ         ⋅ℯ           - dt ⋅ℯ         ⋅ℯ           + dz ⋅ℯ      \n",
       "\n",
       " t)\n",
       "   "
      ]
     },
     "execution_count": 8,
     "metadata": {},
     "output_type": "execute_result"
    }
   ],
   "source": [
    "lineElement = expand( - exp(2*(gamma-psi)) * ( dt**2- dr**2 ) + exp(2*psi)*dz**2 + r**2 * exp(-2*psi) * dphi**2 ) \n",
    "lineElement"
   ]
  },
  {
   "cell_type": "code",
   "execution_count": 9,
   "id": "63cb8b6c",
   "metadata": {},
   "outputs": [
    {
     "data": {
      "text/latex": [
       "$\\displaystyle \\left[\\begin{matrix}- e^{2 \\gamma{\\left(r,t \\right)}} e^{- 2 \\psi{\\left(r,t \\right)}} & 0 & 0 & 0\\\\0 & e^{2 \\gamma{\\left(r,t \\right)}} e^{- 2 \\psi{\\left(r,t \\right)}} & 0 & 0\\\\0 & 0 & r^{2} e^{- 2 \\psi{\\left(r,t \\right)}} & 0\\\\0 & 0 & 0 & e^{2 \\psi{\\left(r,t \\right)}}\\end{matrix}\\right]$"
      ],
      "text/plain": [
       "⎡  2⋅γ(r, t)  -2⋅ψ(r, t)                                                    ⎤\n",
       "⎢-ℯ         ⋅ℯ                      0                   0             0     ⎥\n",
       "⎢                                                                           ⎥\n",
       "⎢                          2⋅γ(r, t)  -2⋅ψ(r, t)                            ⎥\n",
       "⎢           0             ℯ         ⋅ℯ                  0             0     ⎥\n",
       "⎢                                                                           ⎥\n",
       "⎢                                                  2  -2⋅ψ(r, t)            ⎥\n",
       "⎢           0                       0             r ⋅ℯ                0     ⎥\n",
       "⎢                                                                           ⎥\n",
       "⎢                                                                  2⋅ψ(r, t)⎥\n",
       "⎣           0                       0                   0         ℯ         ⎦"
      ]
     },
     "execution_count": 9,
     "metadata": {},
     "output_type": "execute_result"
    }
   ],
   "source": [
    "g = zeros(4)\n",
    "\n",
    "for i in range(4):\n",
    "    for j in range(4):\n",
    "        if i == j:\n",
    "            g[i,j] = lineElement.coeff( differentials[i],2 ) \n",
    "        else:\n",
    "            g[i,j] = Rational(1,2)*lineElement.coeff( differentials[i]*differentials[j],1 )\n",
    "            \n",
    "g"
   ]
  },
  {
   "cell_type": "code",
   "execution_count": 10,
   "id": "96b76341",
   "metadata": {},
   "outputs": [],
   "source": [
    "import sympy"
   ]
  },
  {
   "cell_type": "code",
   "execution_count": 11,
   "id": "2bb87e8b",
   "metadata": {},
   "outputs": [
    {
     "data": {
      "text/latex": [
       "$\\displaystyle \\left[\\begin{matrix}- e^{2 \\gamma{\\left(r,t \\right)}} e^{- 2 \\psi{\\left(r,t \\right)}} & 0 & 0 & 0\\\\0 & e^{2 \\gamma{\\left(r,t \\right)}} e^{- 2 \\psi{\\left(r,t \\right)}} & 0 & 0\\\\0 & 0 & r^{2} e^{- 2 \\psi{\\left(r,t \\right)}} & 0\\\\0 & 0 & 0 & e^{2 \\psi{\\left(r,t \\right)}}\\end{matrix}\\right]$"
      ],
      "text/plain": [
       "⎡  2⋅γ(r, t)  -2⋅ψ(r, t)                                                    ⎤\n",
       "⎢-ℯ         ⋅ℯ                      0                   0             0     ⎥\n",
       "⎢                                                                           ⎥\n",
       "⎢                          2⋅γ(r, t)  -2⋅ψ(r, t)                            ⎥\n",
       "⎢           0             ℯ         ⋅ℯ                  0             0     ⎥\n",
       "⎢                                                                           ⎥\n",
       "⎢                                                  2  -2⋅ψ(r, t)            ⎥\n",
       "⎢           0                       0             r ⋅ℯ                0     ⎥\n",
       "⎢                                                                           ⎥\n",
       "⎢                                                                  2⋅ψ(r, t)⎥\n",
       "⎣           0                       0                   0         ℯ         ⎦"
      ]
     },
     "execution_count": 11,
     "metadata": {},
     "output_type": "execute_result"
    }
   ],
   "source": [
    "m = sympy.Array(g)\n",
    "m"
   ]
  },
  {
   "cell_type": "code",
   "execution_count": 12,
   "id": "883dc8ba",
   "metadata": {},
   "outputs": [],
   "source": [
    "from einsteinpy.symbolic import *"
   ]
  },
  {
   "cell_type": "code",
   "execution_count": 13,
   "id": "469e14ac",
   "metadata": {},
   "outputs": [],
   "source": [
    "syms = sympy.symbols(\"t r phi z\")\n",
    "t,r,phi,z = syms"
   ]
  },
  {
   "cell_type": "code",
   "execution_count": 14,
   "id": "0406c1b2",
   "metadata": {},
   "outputs": [],
   "source": [
    "metric = MetricTensor(m,syms)"
   ]
  },
  {
   "cell_type": "code",
   "execution_count": 15,
   "id": "44da5d35",
   "metadata": {},
   "outputs": [
    {
     "data": {
      "text/latex": [
       "$\\displaystyle \\left[\\begin{matrix}\\left[\\begin{matrix}\\frac{\\partial}{\\partial t} \\gamma{\\left(r,t \\right)} - \\frac{\\partial}{\\partial t} \\psi{\\left(r,t \\right)} & \\frac{\\partial}{\\partial r} \\gamma{\\left(r,t \\right)} - \\frac{\\partial}{\\partial r} \\psi{\\left(r,t \\right)} & 0 & 0\\\\\\frac{\\partial}{\\partial r} \\gamma{\\left(r,t \\right)} - \\frac{\\partial}{\\partial r} \\psi{\\left(r,t \\right)} & \\frac{\\partial}{\\partial t} \\gamma{\\left(r,t \\right)} - \\frac{\\partial}{\\partial t} \\psi{\\left(r,t \\right)} & 0 & 0\\\\0 & 0 & - r^{2} e^{- 2 \\gamma{\\left(r,t \\right)}} \\frac{\\partial}{\\partial t} \\psi{\\left(r,t \\right)} & 0\\\\0 & 0 & 0 & e^{- 2 \\gamma{\\left(r,t \\right)} + 4 \\psi{\\left(r,t \\right)}} \\frac{\\partial}{\\partial t} \\psi{\\left(r,t \\right)}\\end{matrix}\\right] & \\left[\\begin{matrix}\\frac{\\partial}{\\partial r} \\gamma{\\left(r,t \\right)} - \\frac{\\partial}{\\partial r} \\psi{\\left(r,t \\right)} & \\frac{\\partial}{\\partial t} \\gamma{\\left(r,t \\right)} - \\frac{\\partial}{\\partial t} \\psi{\\left(r,t \\right)} & 0 & 0\\\\\\frac{\\partial}{\\partial t} \\gamma{\\left(r,t \\right)} - \\frac{\\partial}{\\partial t} \\psi{\\left(r,t \\right)} & \\frac{\\partial}{\\partial r} \\gamma{\\left(r,t \\right)} - \\frac{\\partial}{\\partial r} \\psi{\\left(r,t \\right)} & 0 & 0\\\\0 & 0 & r \\left(r \\frac{\\partial}{\\partial r} \\psi{\\left(r,t \\right)} - 1\\right) e^{- 2 \\gamma{\\left(r,t \\right)}} & 0\\\\0 & 0 & 0 & - e^{- 2 \\gamma{\\left(r,t \\right)} + 4 \\psi{\\left(r,t \\right)}} \\frac{\\partial}{\\partial r} \\psi{\\left(r,t \\right)}\\end{matrix}\\right] & \\left[\\begin{matrix}0 & 0 & - \\frac{\\partial}{\\partial t} \\psi{\\left(r,t \\right)} & 0\\\\0 & 0 & - \\frac{\\partial}{\\partial r} \\psi{\\left(r,t \\right)} + \\frac{1}{r} & 0\\\\- \\frac{\\partial}{\\partial t} \\psi{\\left(r,t \\right)} & - \\frac{\\partial}{\\partial r} \\psi{\\left(r,t \\right)} + \\frac{1}{r} & 0 & 0\\\\0 & 0 & 0 & 0\\end{matrix}\\right] & \\left[\\begin{matrix}0 & 0 & 0 & \\frac{\\partial}{\\partial t} \\psi{\\left(r,t \\right)}\\\\0 & 0 & 0 & \\frac{\\partial}{\\partial r} \\psi{\\left(r,t \\right)}\\\\0 & 0 & 0 & 0\\\\\\frac{\\partial}{\\partial t} \\psi{\\left(r,t \\right)} & \\frac{\\partial}{\\partial r} \\psi{\\left(r,t \\right)} & 0 & 0\\end{matrix}\\right]\\end{matrix}\\right]$"
      ],
      "text/plain": [
       "⎡⎡∂             ∂            ∂             ∂                                                \n",
       "⎢⎢──(γ(r, t)) - ──(ψ(r, t))  ──(γ(r, t)) - ──(ψ(r, t))               0                      \n",
       "⎢⎢∂t            ∂t           ∂r            ∂r                                               \n",
       "⎢⎢                                                                                          \n",
       "⎢⎢∂             ∂            ∂             ∂                                                \n",
       "⎢⎢──(γ(r, t)) - ──(ψ(r, t))  ──(γ(r, t)) - ──(ψ(r, t))               0                      \n",
       "⎢⎢∂r            ∂r           ∂t            ∂t                                               \n",
       "⎢⎢                                                                                          \n",
       "⎢⎢                                                        2  -2⋅γ(r, t) ∂                   \n",
       "⎢⎢            0                          0              -r ⋅ℯ          ⋅──(ψ(r, t))         \n",
       "⎢⎢                                                                      ∂t                  \n",
       "⎢⎢                                                                                          \n",
       "⎢⎢                                                                                    -2⋅γ(r\n",
       "⎢⎢            0                          0                           0               ℯ      \n",
       "⎣⎣                                                                                          \n",
       "\n",
       "                            ⎤  ⎡∂             ∂            ∂             ∂                  \n",
       "          0                 ⎥  ⎢──(γ(r, t)) - ──(ψ(r, t))  ──(γ(r, t)) - ──(ψ(r, t))        \n",
       "                            ⎥  ⎢∂r            ∂r           ∂t            ∂t                 \n",
       "                            ⎥  ⎢                                                            \n",
       "                            ⎥  ⎢∂             ∂            ∂             ∂                  \n",
       "          0                 ⎥  ⎢──(γ(r, t)) - ──(ψ(r, t))  ──(γ(r, t)) - ──(ψ(r, t))        \n",
       "                            ⎥  ⎢∂t            ∂t           ∂r            ∂r                 \n",
       "                            ⎥  ⎢                                                            \n",
       "                            ⎥  ⎢                                                        ⎛  ∂\n",
       "          0                 ⎥  ⎢            0                          0              r⋅⎜r⋅─\n",
       "                            ⎥  ⎢                                                        ⎝  ∂\n",
       "                            ⎥  ⎢                                                            \n",
       ", t) + 4⋅ψ(r, t) ∂          ⎥  ⎢                                                            \n",
       "                ⋅──(ψ(r, t))⎥  ⎢            0                          0                    \n",
       "                 ∂t         ⎦  ⎣                                                            \n",
       "\n",
       "                                                                 ⎤                          \n",
       "          0                                   0                  ⎥  ⎡                       \n",
       "                                                                 ⎥  ⎢     0                0\n",
       "                                                                 ⎥  ⎢                       \n",
       "                                                                 ⎥  ⎢                       \n",
       "          0                                   0                  ⎥  ⎢                       \n",
       "                                                                 ⎥  ⎢     0                0\n",
       "                                                                 ⎥  ⎢                       \n",
       "              ⎞  -2⋅γ(r, t)                                      ⎥  ⎢                       \n",
       "─(ψ(r, t)) - 1⎟⋅ℯ                             0                  ⎥  ⎢ ∂              ∂      \n",
       "r             ⎠                                                  ⎥  ⎢-──(ψ(r, t))  - ──(ψ(r,\n",
       "                                                                 ⎥  ⎢ ∂t             ∂r     \n",
       "                               -2⋅γ(r, t) + 4⋅ψ(r, t) ∂          ⎥  ⎢                       \n",
       "          0                  -ℯ                      ⋅──(ψ(r, t))⎥  ⎣     0                0\n",
       "                                                      ∂r         ⎦                          \n",
       "\n",
       "                                                                           ⎤\n",
       "             ∂                ⎤  ⎡                             ∂          ⎤⎥\n",
       "            -──(ψ(r, t))     0⎥  ⎢     0            0       0  ──(ψ(r, t))⎥⎥\n",
       "             ∂t               ⎥  ⎢                             ∂t         ⎥⎥\n",
       "                              ⎥  ⎢                                        ⎥⎥\n",
       "            ∂             1   ⎥  ⎢                             ∂          ⎥⎥\n",
       "          - ──(ψ(r, t)) + ─  0⎥  ⎢     0            0       0  ──(ψ(r, t))⎥⎥\n",
       "            ∂r            r   ⎥  ⎢                             ∂r         ⎥⎥\n",
       "                              ⎥  ⎢                                        ⎥⎥\n",
       "       1                      ⎥  ⎢     0            0       0       0     ⎥⎥\n",
       " t)) + ─          0          0⎥  ⎢                                        ⎥⎥\n",
       "       r                      ⎥  ⎢∂            ∂                          ⎥⎥\n",
       "                              ⎥  ⎢──(ψ(r, t))  ──(ψ(r, t))  0       0     ⎥⎥\n",
       "                  0          0⎦  ⎣∂t           ∂r                         ⎦⎥\n",
       "                                                                           ⎦"
      ]
     },
     "execution_count": 15,
     "metadata": {},
     "output_type": "execute_result"
    }
   ],
   "source": [
    "ch = ChristoffelSymbols.from_metric(metric)\n",
    "simplify(ch.tensor())"
   ]
  },
  {
   "cell_type": "code",
   "execution_count": 16,
   "id": "d65fb816",
   "metadata": {},
   "outputs": [
    {
     "data": {
      "text/latex": [
       "$\\displaystyle \\left[\\begin{matrix}\\frac{- r \\left(- \\frac{\\partial^{2}}{\\partial r^{2}} \\gamma{\\left(r,t \\right)} + \\frac{\\partial^{2}}{\\partial t^{2}} \\gamma{\\left(r,t \\right)} + \\frac{\\partial^{2}}{\\partial r^{2}} \\psi{\\left(r,t \\right)} + 2 \\left(\\frac{\\partial}{\\partial t} \\psi{\\left(r,t \\right)}\\right)^{2} - \\frac{\\partial^{2}}{\\partial t^{2}} \\psi{\\left(r,t \\right)}\\right) + \\frac{\\partial}{\\partial r} \\gamma{\\left(r,t \\right)} - \\frac{\\partial}{\\partial r} \\psi{\\left(r,t \\right)}}{r} & - 2 \\frac{\\partial}{\\partial r} \\psi{\\left(r,t \\right)} \\frac{\\partial}{\\partial t} \\psi{\\left(r,t \\right)} + \\frac{\\frac{\\partial}{\\partial t} \\gamma{\\left(r,t \\right)}}{r} & 0 & 0\\\\- 2 \\frac{\\partial}{\\partial r} \\psi{\\left(r,t \\right)} \\frac{\\partial}{\\partial t} \\psi{\\left(r,t \\right)} + \\frac{\\frac{\\partial}{\\partial t} \\gamma{\\left(r,t \\right)}}{r} & \\frac{- r \\left(\\frac{\\partial^{2}}{\\partial r^{2}} \\gamma{\\left(r,t \\right)} - \\frac{\\partial^{2}}{\\partial t^{2}} \\gamma{\\left(r,t \\right)} + 2 \\left(\\frac{\\partial}{\\partial r} \\psi{\\left(r,t \\right)}\\right)^{2} - \\frac{\\partial^{2}}{\\partial r^{2}} \\psi{\\left(r,t \\right)} + \\frac{\\partial^{2}}{\\partial t^{2}} \\psi{\\left(r,t \\right)}\\right) + \\frac{\\partial}{\\partial r} \\gamma{\\left(r,t \\right)} + \\frac{\\partial}{\\partial r} \\psi{\\left(r,t \\right)}}{r} & 0 & 0\\\\0 & 0 & r \\left(r \\frac{\\partial^{2}}{\\partial r^{2}} \\psi{\\left(r,t \\right)} - r \\frac{\\partial^{2}}{\\partial t^{2}} \\psi{\\left(r,t \\right)} + \\frac{\\partial}{\\partial r} \\psi{\\left(r,t \\right)}\\right) e^{- 2 \\gamma{\\left(r,t \\right)}} & 0\\\\0 & 0 & 0 & \\frac{\\left(- r \\frac{\\partial^{2}}{\\partial r^{2}} \\psi{\\left(r,t \\right)} + r \\frac{\\partial^{2}}{\\partial t^{2}} \\psi{\\left(r,t \\right)} - \\frac{\\partial}{\\partial r} \\psi{\\left(r,t \\right)}\\right) e^{- 2 \\gamma{\\left(r,t \\right)} + 4 \\psi{\\left(r,t \\right)}}}{r}\\end{matrix}\\right]$"
      ],
      "text/plain": [
       "⎡    ⎛    2              2              2                           2     2         ⎞       \n",
       "⎢    ⎜   ∂              ∂              ∂               ⎛∂          ⎞     ∂          ⎟   ∂   \n",
       "⎢- r⋅⎜- ───(γ(r, t)) + ───(γ(r, t)) + ───(ψ(r, t)) + 2⋅⎜──(ψ(r, t))⎟  - ───(ψ(r, t))⎟ + ──(γ\n",
       "⎢    ⎜    2              2              2              ⎝∂t         ⎠      2         ⎟   ∂r  \n",
       "⎢    ⎝  ∂r             ∂t             ∂r                                ∂t          ⎠       \n",
       "⎢───────────────────────────────────────────────────────────────────────────────────────────\n",
       "⎢                                                       r                                   \n",
       "⎢                                                                                           \n",
       "⎢                                                                                           \n",
       "⎢                                                                                           \n",
       "⎢                                                                 ∂                         \n",
       "⎢                                                                 ──(γ(r, t))               \n",
       "⎢                                       ∂           ∂             ∂t                        \n",
       "⎢                                   - 2⋅──(ψ(r, t))⋅──(ψ(r, t)) + ───────────               \n",
       "⎢                                       ∂r          ∂t                 r                    \n",
       "⎢                                                                                           \n",
       "⎢                                                                                           \n",
       "⎢                                                                                           \n",
       "⎢                                                       0                                   \n",
       "⎢                                                                                           \n",
       "⎢                                                                                           \n",
       "⎢                                                                                           \n",
       "⎢                                                                                           \n",
       "⎢                                                                                           \n",
       "⎢                                                                                           \n",
       "⎢                                                                                           \n",
       "⎢                                                                                           \n",
       "⎢                                                       0                                   \n",
       "⎣                                                                                           \n",
       "\n",
       "                                                                                            \n",
       "          ∂                                                                                 \n",
       "(r, t)) - ──(ψ(r, t))                                                                  ∂    \n",
       "          ∂r                                                                           ──(γ(\n",
       "                                                             ∂           ∂             ∂t   \n",
       "─────────────────────                                    - 2⋅──(ψ(r, t))⋅──(ψ(r, t)) + ─────\n",
       "                                                             ∂r          ∂t                 \n",
       "                                                                                            \n",
       "                           ⎛  2              2                           2     2            \n",
       "                           ⎜ ∂              ∂               ⎛∂          ⎞     ∂             \n",
       "                       - r⋅⎜───(γ(r, t)) - ───(γ(r, t)) + 2⋅⎜──(ψ(r, t))⎟  - ───(ψ(r, t)) + \n",
       "                           ⎜  2              2              ⎝∂r         ⎠      2            \n",
       "                           ⎝∂r             ∂t                                ∂r             \n",
       "                       ─────────────────────────────────────────────────────────────────────\n",
       "                                                                             r              \n",
       "                                                                                            \n",
       "                                                                                            \n",
       "                                                                                            \n",
       "                                                                             0              \n",
       "                                                                                            \n",
       "                                                                                            \n",
       "                                                                                            \n",
       "                                                                                            \n",
       "                                                                                            \n",
       "                                                                                            \n",
       "                                                                                            \n",
       "                                                                                            \n",
       "                                                                             0              \n",
       "                                                                                            \n",
       "\n",
       "                                                                                            \n",
       "                                                                                            \n",
       "                                                                                            \n",
       "r, t))                                                                                      \n",
       "                                                                                            \n",
       "──────                                                                   0                  \n",
       "r                                                                                           \n",
       "                                                                                            \n",
       "  2         ⎞                                                                               \n",
       " ∂          ⎟   ∂             ∂                                                             \n",
       "───(ψ(r, t))⎟ + ──(γ(r, t)) + ──(ψ(r, t))                                                   \n",
       "  2         ⎟   ∂r            ∂r                                                            \n",
       "∂t          ⎠                                                                               \n",
       "─────────────────────────────────────────                                0                  \n",
       "                                                                                            \n",
       "                                                                                            \n",
       "                                             ⎛    2                2                       ⎞\n",
       "                                             ⎜   ∂                ∂             ∂          ⎟\n",
       "                                           r⋅⎜r⋅───(ψ(r, t)) - r⋅───(ψ(r, t)) + ──(ψ(r, t))⎟\n",
       "                                             ⎜    2                2            ∂r         ⎟\n",
       "                                             ⎝  ∂r               ∂t                        ⎠\n",
       "                                                                                            \n",
       "                                                                                            \n",
       "                                                                                            \n",
       "                                                                                            \n",
       "                                                                                            \n",
       "                                                                                            \n",
       "                                                                         0                  \n",
       "                                                                                            \n",
       "\n",
       "                                                                                       ⎤\n",
       "                                                                                       ⎥\n",
       "                                                                                       ⎥\n",
       "                                                                                       ⎥\n",
       "                                                                                       ⎥\n",
       "                                                  0                                    ⎥\n",
       "                                                                                       ⎥\n",
       "                                                                                       ⎥\n",
       "                                                                                       ⎥\n",
       "                                                                                       ⎥\n",
       "                                                                                       ⎥\n",
       "                                                                                       ⎥\n",
       "                                                                                       ⎥\n",
       "                                                  0                                    ⎥\n",
       "                                                                                       ⎥\n",
       "                                                                                       ⎥\n",
       "                                                                                       ⎥\n",
       "  -2⋅γ(r, t)                                                                           ⎥\n",
       "⋅ℯ                                                0                                    ⎥\n",
       "                                                                                       ⎥\n",
       "                                                                                       ⎥\n",
       "                                                                                       ⎥\n",
       "              ⎛      2                2                       ⎞                        ⎥\n",
       "              ⎜     ∂                ∂             ∂          ⎟  -2⋅γ(r, t) + 4⋅ψ(r, t)⎥\n",
       "              ⎜- r⋅───(ψ(r, t)) + r⋅───(ψ(r, t)) - ──(ψ(r, t))⎟⋅ℯ                      ⎥\n",
       "              ⎜      2                2            ∂r         ⎟                        ⎥\n",
       "              ⎝    ∂r               ∂t                        ⎠                        ⎥\n",
       "              ─────────────────────────────────────────────────────────────────────────⎥\n",
       "                                                  r                                    ⎦"
      ]
     },
     "execution_count": 16,
     "metadata": {},
     "output_type": "execute_result"
    }
   ],
   "source": [
    "Ric = RicciTensor.from_metric(metric)\n",
    "simplify(Ric.tensor())"
   ]
  },
  {
   "cell_type": "code",
   "execution_count": 17,
   "id": "c659ce2e",
   "metadata": {},
   "outputs": [
    {
     "data": {
      "image/png": "[encoded data removed]",
      "text/latex": [
       "$\\displaystyle \\frac{2 \\left(- r \\frac{\\partial^{2}}{\\partial r^{2}} \\gamma{\\left(r,t \\right)} + r \\frac{\\partial^{2}}{\\partial t^{2}} \\gamma{\\left(r,t \\right)} - r \\left(\\frac{\\partial}{\\partial r} \\psi{\\left(r,t \\right)}\\right)^{2} + r \\frac{\\partial^{2}}{\\partial r^{2}} \\psi{\\left(r,t \\right)} + r \\left(\\frac{\\partial}{\\partial t} \\psi{\\left(r,t \\right)}\\right)^{2} - r \\frac{\\partial^{2}}{\\partial t^{2}} \\psi{\\left(r,t \\right)} + \\frac{\\partial}{\\partial r} \\psi{\\left(r,t \\right)}\\right) e^{- 2 \\gamma{\\left(r,t \\right)} + 2 \\psi{\\left(r,t \\right)}}}{r}$"
      ],
      "text/plain": [
       "  ⎛      2                2                           2       2                           2 \n",
       "  ⎜     ∂                ∂               ⎛∂          ⎞       ∂               ⎛∂          ⎞  \n",
       "2⋅⎜- r⋅───(γ(r, t)) + r⋅───(γ(r, t)) - r⋅⎜──(ψ(r, t))⎟  + r⋅───(ψ(r, t)) + r⋅⎜──(ψ(r, t))⎟  \n",
       "  ⎜      2                2              ⎝∂r         ⎠        2              ⎝∂t         ⎠  \n",
       "  ⎝    ∂r               ∂t                                  ∂r                              \n",
       "────────────────────────────────────────────────────────────────────────────────────────────\n",
       "                                                                         r                  \n",
       "\n",
       "      2                       ⎞                        \n",
       "     ∂             ∂          ⎟  -2⋅γ(r, t) + 2⋅ψ(r, t)\n",
       "- r⋅───(ψ(r, t)) + ──(ψ(r, t))⎟⋅ℯ                      \n",
       "      2            ∂r         ⎟                        \n",
       "    ∂t                        ⎠                        \n",
       "───────────────────────────────────────────────────────\n",
       "                                                       "
      ]
     },
     "execution_count": 17,
     "metadata": {},
     "output_type": "execute_result"
    }
   ],
   "source": [
    "R = RicciScalar.from_riccitensor(Ric)\n",
    "R.simplify()\n",
    "R.expr"
   ]
  },
  {
   "cell_type": "code",
   "execution_count": 18,
   "id": "4d4aa289",
   "metadata": {},
   "outputs": [
    {
     "data": {
      "text/latex": [
       "$\\displaystyle \\left[\\begin{matrix}\\frac{r \\left(\\frac{\\partial^{2}}{\\partial r^{2}} \\gamma{\\left(r,t \\right)} - \\frac{\\partial^{2}}{\\partial t^{2}} \\gamma{\\left(r,t \\right)} - \\frac{\\partial^{2}}{\\partial r^{2}} \\psi{\\left(r,t \\right)} - 2 \\left(\\frac{\\partial}{\\partial t} \\psi{\\left(r,t \\right)}\\right)^{2} + \\frac{\\partial^{2}}{\\partial t^{2}} \\psi{\\left(r,t \\right)}\\right) + \\frac{\\partial}{\\partial r} \\gamma{\\left(r,t \\right)} - \\frac{\\partial}{\\partial r} \\psi{\\left(r,t \\right)}}{r} + \\frac{1.0 \\left(- r \\frac{\\partial^{2}}{\\partial r^{2}} \\gamma{\\left(r,t \\right)} + r \\frac{\\partial^{2}}{\\partial t^{2}} \\gamma{\\left(r,t \\right)} - r \\left(\\frac{\\partial}{\\partial r} \\psi{\\left(r,t \\right)}\\right)^{2} + r \\frac{\\partial^{2}}{\\partial r^{2}} \\psi{\\left(r,t \\right)} + r \\left(\\frac{\\partial}{\\partial t} \\psi{\\left(r,t \\right)}\\right)^{2} - r \\frac{\\partial^{2}}{\\partial t^{2}} \\psi{\\left(r,t \\right)} + \\frac{\\partial}{\\partial r} \\psi{\\left(r,t \\right)}\\right) e^{- 2 \\gamma{\\left(r,t \\right)} + 2 \\psi{\\left(r,t \\right)}} e^{2 \\gamma{\\left(r,t \\right)}} e^{- 2 \\psi{\\left(r,t \\right)}}}{r} & - 2 \\frac{\\partial}{\\partial r} \\psi{\\left(r,t \\right)} \\frac{\\partial}{\\partial t} \\psi{\\left(r,t \\right)} + \\frac{\\frac{\\partial}{\\partial t} \\gamma{\\left(r,t \\right)}}{r} & 0 & 0\\\\- 2 \\frac{\\partial}{\\partial r} \\psi{\\left(r,t \\right)} \\frac{\\partial}{\\partial t} \\psi{\\left(r,t \\right)} + \\frac{\\frac{\\partial}{\\partial t} \\gamma{\\left(r,t \\right)}}{r} & \\frac{r \\left(- \\frac{\\partial^{2}}{\\partial r^{2}} \\gamma{\\left(r,t \\right)} + \\frac{\\partial^{2}}{\\partial t^{2}} \\gamma{\\left(r,t \\right)} - 2 \\left(\\frac{\\partial}{\\partial r} \\psi{\\left(r,t \\right)}\\right)^{2} + \\frac{\\partial^{2}}{\\partial r^{2}} \\psi{\\left(r,t \\right)} - \\frac{\\partial^{2}}{\\partial t^{2}} \\psi{\\left(r,t \\right)}\\right) + \\frac{\\partial}{\\partial r} \\gamma{\\left(r,t \\right)} + \\frac{\\partial}{\\partial r} \\psi{\\left(r,t \\right)}}{r} - \\frac{1.0 \\left(- r \\frac{\\partial^{2}}{\\partial r^{2}} \\gamma{\\left(r,t \\right)} + r \\frac{\\partial^{2}}{\\partial t^{2}} \\gamma{\\left(r,t \\right)} - r \\left(\\frac{\\partial}{\\partial r} \\psi{\\left(r,t \\right)}\\right)^{2} + r \\frac{\\partial^{2}}{\\partial r^{2}} \\psi{\\left(r,t \\right)} + r \\left(\\frac{\\partial}{\\partial t} \\psi{\\left(r,t \\right)}\\right)^{2} - r \\frac{\\partial^{2}}{\\partial t^{2}} \\psi{\\left(r,t \\right)} + \\frac{\\partial}{\\partial r} \\psi{\\left(r,t \\right)}\\right) e^{- 2 \\gamma{\\left(r,t \\right)} + 2 \\psi{\\left(r,t \\right)}} e^{2 \\gamma{\\left(r,t \\right)}} e^{- 2 \\psi{\\left(r,t \\right)}}}{r} & 0 & 0\\\\0 & 0 & r \\left(r \\frac{\\partial^{2}}{\\partial r^{2}} \\psi{\\left(r,t \\right)} - r \\frac{\\partial^{2}}{\\partial t^{2}} \\psi{\\left(r,t \\right)} + \\frac{\\partial}{\\partial r} \\psi{\\left(r,t \\right)}\\right) e^{- 2 \\gamma{\\left(r,t \\right)}} - 1.0 r \\left(- r \\frac{\\partial^{2}}{\\partial r^{2}} \\gamma{\\left(r,t \\right)} + r \\frac{\\partial^{2}}{\\partial t^{2}} \\gamma{\\left(r,t \\right)} - r \\left(\\frac{\\partial}{\\partial r} \\psi{\\left(r,t \\right)}\\right)^{2} + r \\frac{\\partial^{2}}{\\partial r^{2}} \\psi{\\left(r,t \\right)} + r \\left(\\frac{\\partial}{\\partial t} \\psi{\\left(r,t \\right)}\\right)^{2} - r \\frac{\\partial^{2}}{\\partial t^{2}} \\psi{\\left(r,t \\right)} + \\frac{\\partial}{\\partial r} \\psi{\\left(r,t \\right)}\\right) e^{- 2 \\gamma{\\left(r,t \\right)} + 2 \\psi{\\left(r,t \\right)}} e^{- 2 \\psi{\\left(r,t \\right)}} & 0\\\\0 & 0 & 0 & \\frac{\\left(- r \\frac{\\partial^{2}}{\\partial r^{2}} \\psi{\\left(r,t \\right)} + r \\frac{\\partial^{2}}{\\partial t^{2}} \\psi{\\left(r,t \\right)} - \\frac{\\partial}{\\partial r} \\psi{\\left(r,t \\right)}\\right) e^{- 2 \\gamma{\\left(r,t \\right)} + 4 \\psi{\\left(r,t \\right)}}}{r} - \\frac{1.0 \\left(- r \\frac{\\partial^{2}}{\\partial r^{2}} \\gamma{\\left(r,t \\right)} + r \\frac{\\partial^{2}}{\\partial t^{2}} \\gamma{\\left(r,t \\right)} - r \\left(\\frac{\\partial}{\\partial r} \\psi{\\left(r,t \\right)}\\right)^{2} + r \\frac{\\partial^{2}}{\\partial r^{2}} \\psi{\\left(r,t \\right)} + r \\left(\\frac{\\partial}{\\partial t} \\psi{\\left(r,t \\right)}\\right)^{2} - r \\frac{\\partial^{2}}{\\partial t^{2}} \\psi{\\left(r,t \\right)} + \\frac{\\partial}{\\partial r} \\psi{\\left(r,t \\right)}\\right) e^{- 2 \\gamma{\\left(r,t \\right)} + 2 \\psi{\\left(r,t \\right)}} e^{2 \\psi{\\left(r,t \\right)}}}{r}\\end{matrix}\\right]$"
      ],
      "text/plain": [
       "⎡  ⎛  2              2              2                           2     2         ⎞           \n",
       "⎢  ⎜ ∂              ∂              ∂               ⎛∂          ⎞     ∂          ⎟   ∂       \n",
       "⎢r⋅⎜───(γ(r, t)) - ───(γ(r, t)) - ───(ψ(r, t)) - 2⋅⎜──(ψ(r, t))⎟  + ───(ψ(r, t))⎟ + ──(γ(r, \n",
       "⎢  ⎜  2              2              2              ⎝∂t         ⎠      2         ⎟   ∂r      \n",
       "⎢  ⎝∂r             ∂t             ∂r                                ∂t          ⎠           \n",
       "⎢───────────────────────────────────────────────────────────────────────────────────────────\n",
       "⎢                                                     r                                     \n",
       "⎢                                                                                           \n",
       "⎢                                                                                           \n",
       "⎢                                                                                           \n",
       "⎢                                                                                           \n",
       "⎢                                                                                           \n",
       "⎢                                                                                           \n",
       "⎢                                                                                           \n",
       "⎢                                                                                           \n",
       "⎢                                                                                           \n",
       "⎢                                                                                           \n",
       "⎢                                                                                           \n",
       "⎢                                                                                           \n",
       "⎢                                                                                           \n",
       "⎢                                                                                           \n",
       "⎢                                                                                           \n",
       "⎢                                                                                           \n",
       "⎢                                                                                           \n",
       "⎢                                                                                           \n",
       "⎢                                                                                           \n",
       "⎢                                                                                           \n",
       "⎢                                                                                           \n",
       "⎣                                                                                           \n",
       "\n",
       "                        ⎛      2                2                           2       2       \n",
       "      ∂                 ⎜     ∂                ∂               ⎛∂          ⎞       ∂        \n",
       "t)) - ──(ψ(r, t))   1.0⋅⎜- r⋅───(γ(r, t)) + r⋅───(γ(r, t)) - r⋅⎜──(ψ(r, t))⎟  + r⋅───(ψ(r, t\n",
       "      ∂r                ⎜      2                2              ⎝∂r         ⎠        2       \n",
       "                        ⎝    ∂r               ∂t                                  ∂r        \n",
       "───────────────── + ────────────────────────────────────────────────────────────────────────\n",
       "                                                                                            \n",
       "                                                                                            \n",
       "                                                                                            \n",
       "                                                                                            \n",
       "                                                            ∂                               \n",
       "                                                            ──(γ(r, t))                     \n",
       "                                  ∂           ∂             ∂t                              \n",
       "                              - 2⋅──(ψ(r, t))⋅──(ψ(r, t)) + ───────────                     \n",
       "                                  ∂r          ∂t                 r                          \n",
       "                                                                                            \n",
       "                                                                                            \n",
       "                                                                                            \n",
       "                                                  0                                         \n",
       "                                                                                            \n",
       "                                                                                            \n",
       "                                                                                            \n",
       "                                                                                            \n",
       "                                                                                            \n",
       "                                                                                            \n",
       "                                                                                            \n",
       "                                                                                            \n",
       "                                                  0                                         \n",
       "                                                                                            \n",
       "\n",
       "                    2       2                       ⎞                                       \n",
       "       ⎛∂          ⎞       ∂             ∂          ⎟  -2⋅γ(r, t) + 2⋅ψ(r, t)  2⋅γ(r, t)  -2\n",
       ")) + r⋅⎜──(ψ(r, t))⎟  - r⋅───(ψ(r, t)) + ──(ψ(r, t))⎟⋅ℯ                      ⋅ℯ         ⋅ℯ  \n",
       "       ⎝∂t         ⎠        2            ∂r         ⎟                                       \n",
       "                          ∂t                        ⎠                                       \n",
       "────────────────────────────────────────────────────────────────────────────────────────────\n",
       "             r                                                                              \n",
       "                                                                                            \n",
       "                                                                                            \n",
       "                                                                                            \n",
       "                                                                                            \n",
       "                                                                                            \n",
       "                                                                                            \n",
       "                                                                                            \n",
       "                                                                                            \n",
       "                                                                                            \n",
       "                                                                                            \n",
       "                                                                                            \n",
       "                                                                                            \n",
       "                                                                                            \n",
       "                                                                                            \n",
       "                                                                                            \n",
       "                                                                                            \n",
       "                                                                                            \n",
       "                                                                                            \n",
       "                                                                                            \n",
       "                                                                                            \n",
       "                                                                                            \n",
       "                                                                                            \n",
       "\n",
       "                                                                                            \n",
       "⋅ψ(r, t)                                                                                    \n",
       "                                                                                            \n",
       "                                                                                            \n",
       "                                                                                            \n",
       "────────                                                                                    \n",
       "                                                                                            \n",
       "                                                                                            \n",
       "            ⎛    2              2                           2     2              2         ⎞\n",
       "            ⎜   ∂              ∂               ⎛∂          ⎞     ∂              ∂          ⎟\n",
       "          r⋅⎜- ───(γ(r, t)) + ───(γ(r, t)) - 2⋅⎜──(ψ(r, t))⎟  + ───(ψ(r, t)) - ───(ψ(r, t))⎟\n",
       "            ⎜    2              2              ⎝∂r         ⎠      2              2         ⎟\n",
       "            ⎝  ∂r             ∂t                                ∂r             ∂t          ⎠\n",
       "          ──────────────────────────────────────────────────────────────────────────────────\n",
       "                                                                r                           \n",
       "                                                                                            \n",
       "                                                                                            \n",
       "                                                                                            \n",
       "                                                                                            \n",
       "                                                                                            \n",
       "                                                                                            \n",
       "                                                                                            \n",
       "                                                                                            \n",
       "                                                                                            \n",
       "                                                                                            \n",
       "                                                                                            \n",
       "                                                                                            \n",
       "                                                                                            \n",
       "                                                                                            \n",
       "\n",
       "                                                                                            \n",
       "                                                                                            \n",
       "                                                                    ∂                       \n",
       "                                                                    ──(γ(r, t))             \n",
       "                                          ∂           ∂             ∂t                      \n",
       "                                      - 2⋅──(ψ(r, t))⋅──(ψ(r, t)) + ───────────             \n",
       "                                          ∂r          ∂t                 r                  \n",
       "                                                                                            \n",
       "                               ⎛      2                2                           2       2\n",
       "   ∂             ∂             ⎜     ∂                ∂               ⎛∂          ⎞       ∂ \n",
       " + ──(γ(r, t)) + ──(ψ(r, t))   ⎜- r⋅───(γ(r, t)) + r⋅───(γ(r, t)) - r⋅⎜──(ψ(r, t))⎟  + r⋅───\n",
       "   ∂r            ∂r            ⎜      2                2              ⎝∂r         ⎠        2\n",
       "                               ⎝    ∂r               ∂t                                  ∂r \n",
       "──────────────────────────── - ─────────────────────────────────────────────────────────────\n",
       "                                                                                            \n",
       "                                                                                            \n",
       "                                                                                            \n",
       "                                                                                            \n",
       "                                                          0                                 \n",
       "                                                                                            \n",
       "                                                                                            \n",
       "                                                                                            \n",
       "                                                                                            \n",
       "                                                                                            \n",
       "                                                                                            \n",
       "                                                                                            \n",
       "                                                                                            \n",
       "                                                          0                                 \n",
       "                                                                                            \n",
       "\n",
       "                                                                                            \n",
       "                                                                                            \n",
       "                                                                                            \n",
       "                                                                                            \n",
       "                                                                                            \n",
       "                                                                                            \n",
       "                                                                                            \n",
       "                                                                                            \n",
       "                           2       2                       ⎞                                \n",
       "              ⎛∂          ⎞       ∂             ∂          ⎟  -2⋅γ(r, t) + 2⋅ψ(r, t)  2⋅γ(r,\n",
       "(ψ(r, t)) + r⋅⎜──(ψ(r, t))⎟  - r⋅───(ψ(r, t)) + ──(ψ(r, t))⎟⋅ℯ                      ⋅ℯ      \n",
       "              ⎝∂t         ⎠        2            ∂r         ⎟                                \n",
       "                                 ∂t                        ⎠                                \n",
       "────────────────────────────────────────────────────────────────────────────────────────────\n",
       "                      r                                                                     \n",
       "                                                                                            \n",
       "                                                                                            \n",
       "                                                                                            \n",
       "                                                                                            \n",
       "                                                                                            \n",
       "                                                                                            \n",
       "                                                                                            \n",
       "                                                                                            \n",
       "                                                                                            \n",
       "                                                                                            \n",
       "                                                                                            \n",
       "                                                                                            \n",
       "                                                                                            \n",
       "                                                                                            \n",
       "\n",
       "                                                                                            \n",
       "                                                                                            \n",
       "                                                                                            \n",
       "                                                                                            \n",
       "                                                                                            \n",
       "                                                                                            \n",
       "                                                                                            \n",
       "                                                                                            \n",
       "                                                                                            \n",
       " t)  -2⋅ψ(r, t)                                                                             \n",
       "   ⋅ℯ                                                                                       \n",
       "                                                                                            \n",
       "                                                                                            \n",
       "───────────────                                                                             \n",
       "                                                                                            \n",
       "                                                                                            \n",
       "                   ⎛    2                2                       ⎞                 ⎛      2 \n",
       "                   ⎜   ∂                ∂             ∂          ⎟  -2⋅γ(r, t)     ⎜     ∂  \n",
       "                 r⋅⎜r⋅───(ψ(r, t)) - r⋅───(ψ(r, t)) + ──(ψ(r, t))⎟⋅ℯ           - r⋅⎜- r⋅───(\n",
       "                   ⎜    2                2            ∂r         ⎟                 ⎜      2 \n",
       "                   ⎝  ∂r               ∂t                        ⎠                 ⎝    ∂r  \n",
       "                                                                                            \n",
       "                                                                                            \n",
       "                                                                                            \n",
       "                                                                                            \n",
       "                                                                                            \n",
       "                                                                                            \n",
       "                                                                                            \n",
       "                                                                                            \n",
       "\n",
       "                                                                                            \n",
       "                                                                                            \n",
       "                                                                                            \n",
       "                                                                                            \n",
       "                                                                                            \n",
       "                                    0                                                       \n",
       "                                                                                            \n",
       "                                                                                            \n",
       "                                                                                            \n",
       "                                                                                            \n",
       "                                                                                            \n",
       "                                                                                            \n",
       "                                                                                            \n",
       "                                    0                                                       \n",
       "                                                                                            \n",
       "                                                                                            \n",
       "               2                           2       2                           2       2    \n",
       "              ∂               ⎛∂          ⎞       ∂               ⎛∂          ⎞       ∂     \n",
       "γ(r, t)) + r⋅───(γ(r, t)) - r⋅⎜──(ψ(r, t))⎟  + r⋅───(ψ(r, t)) + r⋅⎜──(ψ(r, t))⎟  - r⋅───(ψ(r\n",
       "               2              ⎝∂r         ⎠        2              ⎝∂t         ⎠        2    \n",
       "             ∂t                                  ∂r                                  ∂t     \n",
       "                                                                                            \n",
       "                                                                                            \n",
       "                                                                                            \n",
       "                                                                                            \n",
       "                                                                                            \n",
       "                                                                                            \n",
       "                                    0                                                       \n",
       "                                                                                            \n",
       "\n",
       "                                                                                            \n",
       "                                                                                            \n",
       "                                                                                            \n",
       "                                                                                            \n",
       "                                                                                            \n",
       "                                                                                            \n",
       "                                                                                            \n",
       "                                                                                            \n",
       "                                                                                            \n",
       "                                                                                            \n",
       "                                                                                            \n",
       "                                                                                            \n",
       "                                                                                            \n",
       "                                                                                            \n",
       "                                                                                            \n",
       "                                                                                            \n",
       "                   ⎞                                                                        \n",
       "        ∂          ⎟  -2⋅γ(r, t) + 2⋅ψ(r, t)  -2⋅ψ(r, t)                                    \n",
       ", t)) + ──(ψ(r, t))⎟⋅ℯ                      ⋅ℯ                                              \n",
       "        ∂r         ⎟                                                                        \n",
       "                   ⎠                                                                        \n",
       "                                                                                            \n",
       "                                                          ⎛      2                2         \n",
       "                                                          ⎜     ∂                ∂          \n",
       "                                                          ⎜- r⋅───(ψ(r, t)) + r⋅───(ψ(r, t))\n",
       "                                                          ⎜      2                2         \n",
       "                                                          ⎝    ∂r               ∂t          \n",
       "                                                          ──────────────────────────────────\n",
       "                                                                                            \n",
       "\n",
       "                                                                                            \n",
       "                                                                                            \n",
       "                                                                                            \n",
       "                                                                                            \n",
       "                                                                                            \n",
       "                                                                                 0          \n",
       "                                                                                            \n",
       "                                                                                            \n",
       "                                                                                            \n",
       "                                                                                            \n",
       "                                                                                            \n",
       "                                                                                            \n",
       "                                                                                            \n",
       "                                                                                 0          \n",
       "                                                                                            \n",
       "                                                                                            \n",
       "                                                                                            \n",
       "                                                                                            \n",
       "                                                                                 0          \n",
       "                                                                                            \n",
       "                                                                                            \n",
       "                                                                                            \n",
       "              ⎞                           ⎛      2                2                         \n",
       "   ∂          ⎟  -2⋅γ(r, t) + 4⋅ψ(r, t)   ⎜     ∂                ∂               ⎛∂         \n",
       " - ──(ψ(r, t))⎟⋅ℯ                         ⎜- r⋅───(γ(r, t)) + r⋅───(γ(r, t)) - r⋅⎜──(ψ(r, t)\n",
       "   ∂r         ⎟                           ⎜      2                2              ⎝∂r        \n",
       "              ⎠                           ⎝    ∂r               ∂t                          \n",
       "─────────────────────────────────────── - ──────────────────────────────────────────────────\n",
       "  r                                                                                         \n",
       "\n",
       "                                                                                            \n",
       "                                                                                            \n",
       "                                                                                            \n",
       "                                                                                            \n",
       "                                                                                            \n",
       "                                                                                            \n",
       "                                                                                            \n",
       "                                                                                            \n",
       "                                                                                            \n",
       "                                                                                            \n",
       "                                                                                            \n",
       "                                                                                            \n",
       "                                                                                            \n",
       "                                                                                            \n",
       "                                                                                            \n",
       "                                                                                            \n",
       "                                                                                            \n",
       "                                                                                            \n",
       "                                                                                            \n",
       "                                                                                            \n",
       "                                                                                            \n",
       "                                                                                            \n",
       "  2       2                           2       2                       ⎞                     \n",
       " ⎞       ∂               ⎛∂          ⎞       ∂             ∂          ⎟  -2⋅γ(r, t) + 2⋅ψ(r,\n",
       ")⎟  + r⋅───(ψ(r, t)) + r⋅⎜──(ψ(r, t))⎟  - r⋅───(ψ(r, t)) + ──(ψ(r, t))⎟⋅ℯ                   \n",
       " ⎠        2              ⎝∂t         ⎠        2            ∂r         ⎟                     \n",
       "        ∂r                                  ∂t                        ⎠                     \n",
       "────────────────────────────────────────────────────────────────────────────────────────────\n",
       "                           r                                                                \n",
       "\n",
       "              ⎤\n",
       "              ⎥\n",
       "              ⎥\n",
       "              ⎥\n",
       "              ⎥\n",
       "              ⎥\n",
       "              ⎥\n",
       "              ⎥\n",
       "              ⎥\n",
       "              ⎥\n",
       "              ⎥\n",
       "              ⎥\n",
       "              ⎥\n",
       "              ⎥\n",
       "              ⎥\n",
       "              ⎥\n",
       "              ⎥\n",
       "              ⎥\n",
       "              ⎥\n",
       "              ⎥\n",
       "              ⎥\n",
       "              ⎥\n",
       "              ⎥\n",
       " t)  2⋅ψ(r, t)⎥\n",
       "   ⋅ℯ         ⎥\n",
       "              ⎥\n",
       "              ⎥\n",
       "──────────────⎥\n",
       "              ⎦"
      ]
     },
     "execution_count": 18,
     "metadata": {},
     "output_type": "execute_result"
    }
   ],
   "source": [
    "einst = EinsteinTensor.from_metric(metric)\n",
    "einst.tensor()"
   ]
  },
  {
   "cell_type": "code",
   "execution_count": 19,
   "id": "e71e4eb9",
   "metadata": {},
   "outputs": [],
   "source": [
    "#  rm1 = RiemannCurvatureTensor.from_christoffels(ch)\n",
    "#  rm1.tensor()"
   ]
  },
  {
   "cell_type": "code",
   "execution_count": 20,
   "id": "d3bc5603",
   "metadata": {},
   "outputs": [],
   "source": [
    "#  weyl = WeylTensor.from_metric(metric)\n",
    "#  weyl.tensor()"
   ]
  },
  {
   "cell_type": "code",
   "execution_count": 21,
   "id": "8178d1ba",
   "metadata": {},
   "outputs": [
    {
     "data": {
      "text/latex": [
       "$\\displaystyle \\left[\\begin{matrix}- 1.0 \\left(\\frac{\\partial}{\\partial r} \\psi{\\left(r,t \\right)}\\right)^{2} - 1.0 \\left(\\frac{\\partial}{\\partial t} \\psi{\\left(r,t \\right)}\\right)^{2} + \\frac{1.0 \\frac{\\partial}{\\partial r} \\gamma{\\left(r,t \\right)}}{r} & - 2 \\frac{\\partial}{\\partial r} \\psi{\\left(r,t \\right)} \\frac{\\partial}{\\partial t} \\psi{\\left(r,t \\right)} + \\frac{\\frac{\\partial}{\\partial t} \\gamma{\\left(r,t \\right)}}{r} & 0 & 0\\\\- 2 \\frac{\\partial}{\\partial r} \\psi{\\left(r,t \\right)} \\frac{\\partial}{\\partial t} \\psi{\\left(r,t \\right)} + \\frac{\\frac{\\partial}{\\partial t} \\gamma{\\left(r,t \\right)}}{r} & - 1.0 \\left(\\frac{\\partial}{\\partial r} \\psi{\\left(r,t \\right)}\\right)^{2} - 1.0 \\left(\\frac{\\partial}{\\partial t} \\psi{\\left(r,t \\right)}\\right)^{2} + \\frac{1.0 \\frac{\\partial}{\\partial r} \\gamma{\\left(r,t \\right)}}{r} & 0 & 0\\\\0 & 0 & 1.0 r^{2} \\left(\\frac{\\partial^{2}}{\\partial r^{2}} \\gamma{\\left(r,t \\right)} - \\frac{\\partial^{2}}{\\partial t^{2}} \\gamma{\\left(r,t \\right)} + \\left(\\frac{\\partial}{\\partial r} \\psi{\\left(r,t \\right)}\\right)^{2} - \\left(\\frac{\\partial}{\\partial t} \\psi{\\left(r,t \\right)}\\right)^{2}\\right) e^{- 2 \\gamma{\\left(r,t \\right)}} & 0\\\\0 & 0 & 0 & \\frac{\\left(1.0 r \\frac{\\partial^{2}}{\\partial r^{2}} \\gamma{\\left(r,t \\right)} - 1.0 r \\frac{\\partial^{2}}{\\partial t^{2}} \\gamma{\\left(r,t \\right)} + 1.0 r \\left(\\frac{\\partial}{\\partial r} \\psi{\\left(r,t \\right)}\\right)^{2} - 2.0 r \\frac{\\partial^{2}}{\\partial r^{2}} \\psi{\\left(r,t \\right)} - 1.0 r \\left(\\frac{\\partial}{\\partial t} \\psi{\\left(r,t \\right)}\\right)^{2} + 2.0 r \\frac{\\partial^{2}}{\\partial t^{2}} \\psi{\\left(r,t \\right)} - 2.0 \\frac{\\partial}{\\partial r} \\psi{\\left(r,t \\right)}\\right) e^{- 2 \\gamma{\\left(r,t \\right)} + 4 \\psi{\\left(r,t \\right)}}}{r}\\end{matrix}\\right]$"
      ],
      "text/plain": [
       "⎡                                        ∂                                               ∂  \n",
       "⎢               2                2   1.0⋅──(γ(r, t))                                     ──(\n",
       "⎢  ⎛∂          ⎞    ⎛∂          ⎞        ∂r                    ∂           ∂             ∂t \n",
       "⎢- ⎜──(ψ(r, t))⎟  - ⎜──(ψ(r, t))⎟  + ───────────────       - 2⋅──(ψ(r, t))⋅──(ψ(r, t)) + ───\n",
       "⎢  ⎝∂r         ⎠    ⎝∂t         ⎠           r                  ∂r          ∂t               \n",
       "⎢                                                                                           \n",
       "⎢                                   ∂                                                       \n",
       "⎢                                   ──(γ(r, t))                      2                2   1.\n",
       "⎢         ∂           ∂             ∂t                  ⎛∂          ⎞    ⎛∂          ⎞      \n",
       "⎢     - 2⋅──(ψ(r, t))⋅──(ψ(r, t)) + ───────────       - ⎜──(ψ(r, t))⎟  - ⎜──(ψ(r, t))⎟  + ──\n",
       "⎢         ∂r          ∂t                 r              ⎝∂r         ⎠    ⎝∂t         ⎠      \n",
       "⎢                                                                                           \n",
       "⎢                                                                                           \n",
       "⎢                                                                                           \n",
       "⎢                         0                                                    0            \n",
       "⎢                                                                                           \n",
       "⎢                                                                                           \n",
       "⎢                                                                                           \n",
       "⎢                                                                                           \n",
       "⎢                                                                                           \n",
       "⎢                                                                                           \n",
       "⎢                                                                                           \n",
       "⎢                                                                                           \n",
       "⎢                         0                                                    0            \n",
       "⎣                                                                                           \n",
       "\n",
       "                                                                                            \n",
       "γ(r, t))                                                                                    \n",
       "                                                                                            \n",
       "────────                                               0                                    \n",
       "  r                                                                                         \n",
       "                                                                                            \n",
       "  ∂                                                                                         \n",
       "0⋅──(γ(r, t))                                                                               \n",
       "  ∂r                                                                                        \n",
       "─────────────                                          0                                    \n",
       "     r                                                                                      \n",
       "                                                                                            \n",
       "                      ⎛  2              2                         2                2⎞       \n",
       "                    2 ⎜ ∂              ∂             ⎛∂          ⎞    ⎛∂          ⎞ ⎟  -2⋅γ(\n",
       "               1.0⋅r ⋅⎜───(γ(r, t)) - ───(γ(r, t)) + ⎜──(ψ(r, t))⎟  - ⎜──(ψ(r, t))⎟ ⎟⋅ℯ     \n",
       "                      ⎜  2              2            ⎝∂r         ⎠    ⎝∂t         ⎠ ⎟       \n",
       "                      ⎝∂r             ∂t                                            ⎠       \n",
       "                                                                                            \n",
       "                                                                                            \n",
       "                                                                                            \n",
       "                                                                                            \n",
       "                                                                                            \n",
       "                                                                                            \n",
       "                                                       0                                    \n",
       "                                                                                            \n",
       "\n",
       "                                                                                            \n",
       "                                                                                            \n",
       "                                                                                            \n",
       "                                                                                        0   \n",
       "                                                                                            \n",
       "                                                                                            \n",
       "                                                                                            \n",
       "                                                                                            \n",
       "                                                                                            \n",
       "                                                                                        0   \n",
       "                                                                                            \n",
       "                                                                                            \n",
       "                                                                                            \n",
       "r, t)                                                                                       \n",
       "                                                                                        0   \n",
       "                                                                                            \n",
       "                                                                                            \n",
       "                                                                                            \n",
       "       ⎛        2                2                               2           2              \n",
       "       ⎜       ∂                ∂                   ⎛∂          ⎞           ∂               \n",
       "       ⎜1.0⋅r⋅───(γ(r, t)) - r⋅───(γ(r, t)) + 1.0⋅r⋅⎜──(ψ(r, t))⎟  - 2.0⋅r⋅───(ψ(r, t)) - r⋅\n",
       "       ⎜        2                2                  ⎝∂r         ⎠            2              \n",
       "       ⎝      ∂r               ∂t                                          ∂r               \n",
       "       ─────────────────────────────────────────────────────────────────────────────────────\n",
       "                                                                                        r   \n",
       "\n",
       "                                                                              ⎤\n",
       "                                                                              ⎥\n",
       "                                                                              ⎥\n",
       "                                                                              ⎥\n",
       "                                                                              ⎥\n",
       "                                                                              ⎥\n",
       "                                                                              ⎥\n",
       "                                                                              ⎥\n",
       "                                                                              ⎥\n",
       "                                                                              ⎥\n",
       "                                                                              ⎥\n",
       "                                                                              ⎥\n",
       "                                                                              ⎥\n",
       "                                                                              ⎥\n",
       "                                                                              ⎥\n",
       "                                                                              ⎥\n",
       "                                                                              ⎥\n",
       "                                                                              ⎥\n",
       "             2           2                           ⎞                        ⎥\n",
       "⎛∂          ⎞           ∂                 ∂          ⎟  -2⋅γ(r, t) + 4⋅ψ(r, t)⎥\n",
       "⎜──(ψ(r, t))⎟  + 2.0⋅r⋅───(ψ(r, t)) - 2.0⋅──(ψ(r, t))⎟⋅ℯ                      ⎥\n",
       "⎝∂t         ⎠            2                ∂r         ⎟                        ⎥\n",
       "                       ∂t                            ⎠                        ⎥\n",
       "──────────────────────────────────────────────────────────────────────────────⎥\n",
       "                                                                              ⎦"
      ]
     },
     "execution_count": 21,
     "metadata": {},
     "output_type": "execute_result"
    }
   ],
   "source": [
    "einsteinSimplifed = simplify(einst.tensor()) \n",
    "einsteinSimplifed"
   ]
  },
  {
   "cell_type": "code",
   "execution_count": 28,
   "id": "479e1b35",
   "metadata": {
    "scrolled": true
   },
   "outputs": [
    {
     "data": {
      "image/png": "[encoded data removed]",
      "text/latex": [
       "$\\displaystyle - \\frac{\\partial^{2}}{\\partial r^{2}} \\psi{\\left(r,t \\right)} + \\frac{\\partial^{2}}{\\partial t^{2}} \\psi{\\left(r,t \\right)} - \\frac{\\frac{\\partial}{\\partial r} \\psi{\\left(r,t \\right)}}{r} = 0$"
      ],
      "text/plain": [
       "                                ∂              \n",
       "    2              2            ──(ψ(r, t))    \n",
       "   ∂              ∂             ∂r             \n",
       "- ───(ψ(r, t)) + ───(ψ(r, t)) - ─────────── = 0\n",
       "    2              2                 r         \n",
       "  ∂r             ∂t                            "
      ]
     },
     "execution_count": 28,
     "metadata": {},
     "output_type": "execute_result"
    }
   ],
   "source": [
    "equation2 = Eq(expand((-1/r)*simplify(Ric.tensor())[2,2].args[1] ) ,0)\n",
    "equation2"
   ]
  },
  {
   "cell_type": "code",
   "execution_count": 23,
   "id": "6bead903",
   "metadata": {},
   "outputs": [
    {
     "data": {
      "image/png": "[encoded data removed]",
      "text/latex": [
       "$\\displaystyle \\frac{\\partial}{\\partial t} \\gamma{\\left(r,t \\right)} = 2 r \\frac{\\partial}{\\partial r} \\psi{\\left(r,t \\right)} \\frac{\\partial}{\\partial t} \\psi{\\left(r,t \\right)}$"
      ],
      "text/plain": [
       "∂                 ∂           ∂          \n",
       "──(γ(r, t)) = 2⋅r⋅──(ψ(r, t))⋅──(ψ(r, t))\n",
       "∂t                ∂r          ∂t         "
      ]
     },
     "execution_count": 23,
     "metadata": {},
     "output_type": "execute_result"
    }
   ],
   "source": [
    "equation3 = Eq(diff(gamma,t) , solve( einsteinSimplifed[1,0] , diff(gamma,t) )[0] ) \n",
    "equation3"
   ]
  },
  {
   "cell_type": "code",
   "execution_count": 24,
   "id": "62d955de",
   "metadata": {},
   "outputs": [
    {
     "data": {
      "image/png": "[encoded data removed]",
      "text/latex": [
       "$\\displaystyle \\frac{\\partial}{\\partial r} \\gamma{\\left(r,t \\right)} = r \\left(\\left(\\frac{\\partial}{\\partial r} \\psi{\\left(r,t \\right)}\\right)^{2} + \\left(\\frac{\\partial}{\\partial t} \\psi{\\left(r,t \\right)}\\right)^{2}\\right)$"
      ],
      "text/plain": [
       "                ⎛             2                2⎞\n",
       "∂               ⎜⎛∂          ⎞    ⎛∂          ⎞ ⎟\n",
       "──(γ(r, t)) = r⋅⎜⎜──(ψ(r, t))⎟  + ⎜──(ψ(r, t))⎟ ⎟\n",
       "∂r              ⎝⎝∂r         ⎠    ⎝∂t         ⎠ ⎠"
      ]
     },
     "execution_count": 24,
     "metadata": {},
     "output_type": "execute_result"
    }
   ],
   "source": [
    "equation4 = Eq(diff(gamma,r) , solve( einsteinSimplifed[1,1] , diff(gamma,r) )[0] ) \n",
    "equation4"
   ]
  },
  {
   "cell_type": "code",
   "execution_count": 29,
   "id": "a431cef4",
   "metadata": {},
   "outputs": [
    {
     "data": {
      "text/latex": [
       "$\\displaystyle \\left[\\begin{matrix}- \\frac{\\partial^{2}}{\\partial r^{2}} \\psi{\\left(r,t \\right)} + \\frac{\\partial^{2}}{\\partial t^{2}} \\psi{\\left(r,t \\right)} - \\frac{\\frac{\\partial}{\\partial r} \\psi{\\left(r,t \\right)}}{r} = 0\\\\\\frac{\\partial}{\\partial t} \\gamma{\\left(r,t \\right)} = 2 r \\frac{\\partial}{\\partial r} \\psi{\\left(r,t \\right)} \\frac{\\partial}{\\partial t} \\psi{\\left(r,t \\right)}\\\\\\frac{\\partial}{\\partial r} \\gamma{\\left(r,t \\right)} = r \\left(\\left(\\frac{\\partial}{\\partial r} \\psi{\\left(r,t \\right)}\\right)^{2} + \\left(\\frac{\\partial}{\\partial t} \\psi{\\left(r,t \\right)}\\right)^{2}\\right)\\end{matrix}\\right]$"
      ],
      "text/plain": [
       "⎡                                 ∂               ⎤\n",
       "⎢     2              2            ──(ψ(r, t))     ⎥\n",
       "⎢    ∂              ∂             ∂r              ⎥\n",
       "⎢ - ───(ψ(r, t)) + ───(ψ(r, t)) - ─────────── = 0 ⎥\n",
       "⎢     2              2                 r          ⎥\n",
       "⎢   ∂r             ∂t                             ⎥\n",
       "⎢                                                 ⎥\n",
       "⎢    ∂                 ∂           ∂              ⎥\n",
       "⎢    ──(γ(r, t)) = 2⋅r⋅──(ψ(r, t))⋅──(ψ(r, t))    ⎥\n",
       "⎢    ∂t                ∂r          ∂t             ⎥\n",
       "⎢                                                 ⎥\n",
       "⎢                ⎛             2                2⎞⎥\n",
       "⎢∂               ⎜⎛∂          ⎞    ⎛∂          ⎞ ⎟⎥\n",
       "⎢──(γ(r, t)) = r⋅⎜⎜──(ψ(r, t))⎟  + ⎜──(ψ(r, t))⎟ ⎟⎥\n",
       "⎣∂r              ⎝⎝∂r         ⎠    ⎝∂t         ⎠ ⎠⎦"
      ]
     },
     "execution_count": 29,
     "metadata": {},
     "output_type": "execute_result"
    }
   ],
   "source": [
    "vacuumFieldEquations = Matrix([equation2,equation3,equation4])\n",
    "vacuumFieldEquations"
   ]
  },
  {
   "cell_type": "code",
   "execution_count": 26,
   "id": "88a765d5",
   "metadata": {},
   "outputs": [],
   "source": [
    "from sympy import *"
   ]
  },
  {
   "cell_type": "code",
   "execution_count": 32,
   "id": "27a05b6f",
   "metadata": {},
   "outputs": [],
   "source": [
    "X, Y = map(Function, 'XY')"
   ]
  },
  {
   "cell_type": "code",
   "execution_count": 30,
   "id": "291ec473",
   "metadata": {},
   "outputs": [
    {
     "data": {
      "image/png": "[encoded data removed]",
      "text/latex": [
       "$\\displaystyle - \\frac{\\partial^{2}}{\\partial r^{2}} \\psi{\\left(r,t \\right)} + \\frac{\\partial^{2}}{\\partial t^{2}} \\psi{\\left(r,t \\right)} - \\frac{\\frac{\\partial}{\\partial r} \\psi{\\left(r,t \\right)}}{r} = 0$"
      ],
      "text/plain": [
       "                                ∂              \n",
       "    2              2            ──(ψ(r, t))    \n",
       "   ∂              ∂             ∂r             \n",
       "- ───(ψ(r, t)) + ───(ψ(r, t)) - ─────────── = 0\n",
       "    2              2                 r         \n",
       "  ∂r             ∂t                            "
      ]
     },
     "execution_count": 30,
     "metadata": {},
     "output_type": "execute_result"
    }
   ],
   "source": [
    "eq = vacuumFieldEquations[0]\n",
    "eq"
   ]
  },
  {
   "cell_type": "code",
   "execution_count": 33,
   "id": "70c4edfa",
   "metadata": {},
   "outputs": [
    {
     "data": {
      "image/png": "[encoded data removed]",
      "text/latex": [
       "$\\displaystyle \\frac{\\frac{d^{2}}{d r^{2}} X{\\left(r \\right)}}{X{\\left(r \\right)}} + \\frac{\\frac{d}{d r} X{\\left(r \\right)}}{r X{\\left(r \\right)}} = k^{2}$"
      ],
      "text/plain": [
       "  2                      \n",
       " d                       \n",
       "───(X(r))   d            \n",
       "  2         ──(X(r))     \n",
       "dr          dr          2\n",
       "───────── + ──────── = k \n",
       "   X(r)      r⋅X(r)      "
      ]
     },
     "execution_count": 33,
     "metadata": {},
     "output_type": "execute_result"
    }
   ],
   "source": [
    "xODE = Eq(pde_separate( eq, psi, [X(r),Y(t)])[0] , k**2 ) \n",
    "xODE"
   ]
  },
  {
   "cell_type": "code",
   "execution_count": 34,
   "id": "1822833f",
   "metadata": {},
   "outputs": [
    {
     "data": {
      "image/png": "[encoded data removed]",
      "text/latex": [
       "$\\displaystyle X{\\left(r \\right)} = C_{1} I_{0}\\left(r \\left|{k}\\right|\\right) + C_{2} Y_{0}\\left(i r \\left|{k}\\right|\\right)$"
      ],
      "text/plain": [
       "X(r) = C₁⋅besseli(0, r⋅│k│) + C₂⋅bessely(0, ⅈ⋅r⋅│k│)"
      ]
     },
     "execution_count": 34,
     "metadata": {},
     "output_type": "execute_result"
    }
   ],
   "source": [
    "xSolution = dsolve( xODE , X(r))\n",
    "xSolution "
   ]
  },
  {
   "cell_type": "code",
   "execution_count": 35,
   "id": "7ff75a93",
   "metadata": {},
   "outputs": [
    {
     "data": {
      "image/png": "[encoded data removed]",
      "text/latex": [
       "$\\displaystyle \\frac{\\frac{d^{2}}{d t^{2}} Y{\\left(t \\right)}}{Y{\\left(t \\right)}} = - k^{2}$"
      ],
      "text/plain": [
       "  2            \n",
       " d             \n",
       "───(Y(t))      \n",
       "  2            \n",
       "dt            2\n",
       "───────── = -k \n",
       "   Y(t)        "
      ]
     },
     "execution_count": 35,
     "metadata": {},
     "output_type": "execute_result"
    }
   ],
   "source": [
    "yODE = Eq( pde_separate( eq, psi, [X(r),Y(t)])[1] , - k**2 ) \n",
    "yODE"
   ]
  },
  {
   "cell_type": "code",
   "execution_count": 36,
   "id": "ccfb6db9",
   "metadata": {},
   "outputs": [
    {
     "data": {
      "image/png": "[encoded data removed]",
      "text/latex": [
       "$\\displaystyle Y{\\left(t \\right)} = C_{1} \\sin{\\left(t \\left|{k}\\right| \\right)} + C_{2} \\cos{\\left(k t \\right)}$"
      ],
      "text/plain": [
       "Y(t) = C₁⋅sin(t⋅│k│) + C₂⋅cos(k⋅t)"
      ]
     },
     "execution_count": 36,
     "metadata": {},
     "output_type": "execute_result"
    }
   ],
   "source": [
    "ySolution = dsolve( yODE , Y(t))\n",
    "ySolution "
   ]
  },
  {
   "cell_type": "code",
   "execution_count": null,
   "id": "8e7427cf",
   "metadata": {},
   "outputs": [],
   "source": []
  }
 ],
 "metadata": {
  "@webio": {
   "lastCommId": null,
   "lastKernelId": null
  },
  "kernelspec": {
   "display_name": "Python 3 (ipykernel)",
   "language": "python",
   "name": "python3"
  },
  "language_info": {
   "codemirror_mode": {
    "name": "ipython",
    "version": 3
   },
   "file_extension": ".py",
   "mimetype": "text/x-python",
   "name": "python",
   "nbconvert_exporter": "python",
   "pygments_lexer": "ipython3",
   "version": "3.8.8"
  }
 },
 "nbformat": 4,
 "nbformat_minor": 5
}
