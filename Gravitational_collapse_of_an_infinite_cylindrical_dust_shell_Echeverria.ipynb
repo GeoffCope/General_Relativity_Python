{
 "cells": [
  {
   "cell_type": "markdown",
   "id": "63ccc7c5",
   "metadata": {},
   "source": [
    "# Gravitational collapse of an infinite, cylindrical dust shell by Echeverria\n",
    "##  Geoff Cope\n",
    "##  Univeristy of Utah\n",
    "##  𐐏𐐭𐑌𐐲𐑂𐐲𐑉𐑅𐐮𐐻𐐨 𐐲𐑂 𐐏𐐭𐐻𐐫\n",
    "##  January 23, 2022"
   ]
  },
  {
   "cell_type": "markdown",
   "id": "64bfe7dc",
   "metadata": {},
   "source": [
    "https://journals.aps.org/prd/abstract/10.1103/PhysRevD.47.2271"
   ]
  },
  {
   "cell_type": "code",
   "execution_count": 1,
   "id": "77a98a05",
   "metadata": {},
   "outputs": [
    {
     "name": "stdout",
     "output_type": "stream",
     "text": [
      "IPython console for SymPy 1.9 (Python 3.8.8-64-bit) (ground types: gmpy)\n",
      "\n",
      "These commands were executed:\n",
      ">>> from __future__ import division\n",
      ">>> from sympy import *\n",
      ">>> x, y, z, t = symbols('x y z t')\n",
      ">>> k, m, n = symbols('k m n', integer=True)\n",
      ">>> f, g, h = symbols('f g h', cls=Function)\n",
      ">>> init_printing()\n",
      "\n",
      "Documentation can be found at https://docs.sympy.org/1.9/\n",
      "\n"
     ]
    }
   ],
   "source": [
    "from sympy import init_session\n",
    "init_session(use_latex=True)"
   ]
  },
  {
   "cell_type": "code",
   "execution_count": 2,
   "id": "32dbabd3",
   "metadata": {},
   "outputs": [],
   "source": [
    "import warnings\n",
    "import matplotlib.cbook\n",
    "warnings.filterwarnings(\"ignore\",category=matplotlib.cbook.mplDeprecation)"
   ]
  },
  {
   "cell_type": "code",
   "execution_count": 3,
   "id": "fbd88c11",
   "metadata": {},
   "outputs": [],
   "source": [
    "t,r,phi,z,dt,dr,dphi,dz = symbols('t r phi z dt dr dphi dz')"
   ]
  },
  {
   "cell_type": "code",
   "execution_count": 4,
   "id": "a100270f",
   "metadata": {},
   "outputs": [
    {
     "data": {
      "image/png": "[encoded data removed]",
      "text/latex": [
       "$\\displaystyle \\gamma{\\left(t,r \\right)}$"
      ],
      "text/plain": [
       "γ(t, r)"
      ]
     },
     "execution_count": 4,
     "metadata": {},
     "output_type": "execute_result"
    }
   ],
   "source": [
    "gamma = Function('gamma')(t,r)\n",
    "gamma"
   ]
  },
  {
   "cell_type": "code",
   "execution_count": 9,
   "id": "85dd775e",
   "metadata": {},
   "outputs": [
    {
     "data": {
      "image/png": "[encoded data removed]",
      "text/latex": [
       "$\\displaystyle \\psi{\\left(t,r \\right)}$"
      ],
      "text/plain": [
       "ψ(t, r)"
      ]
     },
     "execution_count": 9,
     "metadata": {},
     "output_type": "execute_result"
    }
   ],
   "source": [
    "psi = Function('psi')(t,r)\n",
    "psi"
   ]
  },
  {
   "cell_type": "code",
   "execution_count": 6,
   "id": "5df6b08f",
   "metadata": {},
   "outputs": [
    {
     "data": {
      "text/latex": [
       "$\\displaystyle \\left[\\begin{matrix}t\\\\r\\\\\\phi\\\\z\\end{matrix}\\right]$"
      ],
      "text/plain": [
       "⎡t⎤\n",
       "⎢ ⎥\n",
       "⎢r⎥\n",
       "⎢ ⎥\n",
       "⎢φ⎥\n",
       "⎢ ⎥\n",
       "⎣z⎦"
      ]
     },
     "execution_count": 6,
     "metadata": {},
     "output_type": "execute_result"
    }
   ],
   "source": [
    "variables = Matrix([t,r,phi,z])\n",
    "variables"
   ]
  },
  {
   "cell_type": "code",
   "execution_count": 7,
   "id": "d15925ac",
   "metadata": {},
   "outputs": [
    {
     "data": {
      "text/latex": [
       "$\\displaystyle \\left[\\begin{matrix}dt\\\\dr\\\\dphi\\\\dz\\end{matrix}\\right]$"
      ],
      "text/plain": [
       "⎡ dt ⎤\n",
       "⎢    ⎥\n",
       "⎢ dr ⎥\n",
       "⎢    ⎥\n",
       "⎢dphi⎥\n",
       "⎢    ⎥\n",
       "⎣ dz ⎦"
      ]
     },
     "execution_count": 7,
     "metadata": {},
     "output_type": "execute_result"
    }
   ],
   "source": [
    "differentials = Matrix([dt,dr,dphi,dz])\n",
    "differentials "
   ]
  },
  {
   "cell_type": "code",
   "execution_count": 10,
   "id": "0b2f0633",
   "metadata": {},
   "outputs": [
    {
     "data": {
      "image/png": "[encoded data removed]",
      "text/latex": [
       "$\\displaystyle dphi^{2} r^{2} e^{- 2 \\psi{\\left(t,r \\right)}} + dr^{2} e^{2 \\gamma{\\left(t,r \\right)}} e^{- 2 \\psi{\\left(t,r \\right)}} - dt^{2} e^{2 \\gamma{\\left(t,r \\right)}} e^{- 2 \\psi{\\left(t,r \\right)}} + dz^{2} e^{2 \\psi{\\left(t,r \\right)}}$"
      ],
      "text/plain": [
       "    2  2  -2⋅ψ(t, r)     2  2⋅γ(t, r)  -2⋅ψ(t, r)     2  2⋅γ(t, r)  -2⋅ψ(t, r)     2  2⋅ψ(t,\n",
       "dphi ⋅r ⋅ℯ           + dr ⋅ℯ         ⋅ℯ           - dt ⋅ℯ         ⋅ℯ           + dz ⋅ℯ      \n",
       "\n",
       " r)\n",
       "   "
      ]
     },
     "execution_count": 10,
     "metadata": {},
     "output_type": "execute_result"
    }
   ],
   "source": [
    "lineElement = expand( exp(2*(gamma-psi))*(dr**2-dt**2) + exp(-2*psi)*r**2 *dphi**2  + exp(2*psi)*dz**2) \n",
    "lineElement"
   ]
  },
  {
   "cell_type": "code",
   "execution_count": 11,
   "id": "ee4eedd5",
   "metadata": {},
   "outputs": [
    {
     "data": {
      "text/latex": [
       "$\\displaystyle \\left[\\begin{matrix}- e^{2 \\gamma{\\left(t,r \\right)}} e^{- 2 \\psi{\\left(t,r \\right)}} & 0 & 0 & 0\\\\0 & e^{2 \\gamma{\\left(t,r \\right)}} e^{- 2 \\psi{\\left(t,r \\right)}} & 0 & 0\\\\0 & 0 & r^{2} e^{- 2 \\psi{\\left(t,r \\right)}} & 0\\\\0 & 0 & 0 & e^{2 \\psi{\\left(t,r \\right)}}\\end{matrix}\\right]$"
      ],
      "text/plain": [
       "⎡  2⋅γ(t, r)  -2⋅ψ(t, r)                                                    ⎤\n",
       "⎢-ℯ         ⋅ℯ                      0                   0             0     ⎥\n",
       "⎢                                                                           ⎥\n",
       "⎢                          2⋅γ(t, r)  -2⋅ψ(t, r)                            ⎥\n",
       "⎢           0             ℯ         ⋅ℯ                  0             0     ⎥\n",
       "⎢                                                                           ⎥\n",
       "⎢                                                  2  -2⋅ψ(t, r)            ⎥\n",
       "⎢           0                       0             r ⋅ℯ                0     ⎥\n",
       "⎢                                                                           ⎥\n",
       "⎢                                                                  2⋅ψ(t, r)⎥\n",
       "⎣           0                       0                   0         ℯ         ⎦"
      ]
     },
     "execution_count": 11,
     "metadata": {},
     "output_type": "execute_result"
    }
   ],
   "source": [
    "g = zeros(4)\n",
    "\n",
    "for i in range(4):\n",
    "    for j in range(4):\n",
    "        if i == j:\n",
    "            g[i,j] = lineElement.coeff( differentials[i],2 ) \n",
    "        else:\n",
    "            g[i,j] = Rational(1,2)*lineElement.coeff( differentials[i]*differentials[j],1 )\n",
    "            \n",
    "g"
   ]
  },
  {
   "cell_type": "code",
   "execution_count": 12,
   "id": "427d5533",
   "metadata": {},
   "outputs": [],
   "source": [
    "import sympy"
   ]
  },
  {
   "cell_type": "code",
   "execution_count": 13,
   "id": "c7fb88af",
   "metadata": {},
   "outputs": [
    {
     "data": {
      "text/latex": [
       "$\\displaystyle \\left[\\begin{matrix}- e^{2 \\gamma{\\left(t,r \\right)}} e^{- 2 \\psi{\\left(t,r \\right)}} & 0 & 0 & 0\\\\0 & e^{2 \\gamma{\\left(t,r \\right)}} e^{- 2 \\psi{\\left(t,r \\right)}} & 0 & 0\\\\0 & 0 & r^{2} e^{- 2 \\psi{\\left(t,r \\right)}} & 0\\\\0 & 0 & 0 & e^{2 \\psi{\\left(t,r \\right)}}\\end{matrix}\\right]$"
      ],
      "text/plain": [
       "⎡  2⋅γ(t, r)  -2⋅ψ(t, r)                                                    ⎤\n",
       "⎢-ℯ         ⋅ℯ                      0                   0             0     ⎥\n",
       "⎢                                                                           ⎥\n",
       "⎢                          2⋅γ(t, r)  -2⋅ψ(t, r)                            ⎥\n",
       "⎢           0             ℯ         ⋅ℯ                  0             0     ⎥\n",
       "⎢                                                                           ⎥\n",
       "⎢                                                  2  -2⋅ψ(t, r)            ⎥\n",
       "⎢           0                       0             r ⋅ℯ                0     ⎥\n",
       "⎢                                                                           ⎥\n",
       "⎢                                                                  2⋅ψ(t, r)⎥\n",
       "⎣           0                       0                   0         ℯ         ⎦"
      ]
     },
     "execution_count": 13,
     "metadata": {},
     "output_type": "execute_result"
    }
   ],
   "source": [
    "m = sympy.Array(g)\n",
    "m"
   ]
  },
  {
   "cell_type": "code",
   "execution_count": 14,
   "id": "e335dc41",
   "metadata": {},
   "outputs": [],
   "source": [
    "from einsteinpy.symbolic import *"
   ]
  },
  {
   "cell_type": "code",
   "execution_count": 15,
   "id": "23ee4c3f",
   "metadata": {},
   "outputs": [],
   "source": [
    "syms = sympy.symbols(\"t r phi z\")\n",
    "t,r,phi,z = syms"
   ]
  },
  {
   "cell_type": "code",
   "execution_count": 16,
   "id": "a15fad83",
   "metadata": {},
   "outputs": [],
   "source": [
    "metric = MetricTensor(m,syms)"
   ]
  },
  {
   "cell_type": "code",
   "execution_count": 17,
   "id": "75cf95db",
   "metadata": {},
   "outputs": [
    {
     "data": {
      "text/latex": [
       "$\\displaystyle \\left[\\begin{matrix}\\left[\\begin{matrix}\\frac{\\partial}{\\partial t} \\gamma{\\left(t,r \\right)} - \\frac{\\partial}{\\partial t} \\psi{\\left(t,r \\right)} & \\frac{\\partial}{\\partial r} \\gamma{\\left(t,r \\right)} - \\frac{\\partial}{\\partial r} \\psi{\\left(t,r \\right)} & 0 & 0\\\\\\frac{\\partial}{\\partial r} \\gamma{\\left(t,r \\right)} - \\frac{\\partial}{\\partial r} \\psi{\\left(t,r \\right)} & \\frac{\\partial}{\\partial t} \\gamma{\\left(t,r \\right)} - \\frac{\\partial}{\\partial t} \\psi{\\left(t,r \\right)} & 0 & 0\\\\0 & 0 & - r^{2} e^{- 2 \\gamma{\\left(t,r \\right)}} \\frac{\\partial}{\\partial t} \\psi{\\left(t,r \\right)} & 0\\\\0 & 0 & 0 & e^{- 2 \\gamma{\\left(t,r \\right)} + 4 \\psi{\\left(t,r \\right)}} \\frac{\\partial}{\\partial t} \\psi{\\left(t,r \\right)}\\end{matrix}\\right] & \\left[\\begin{matrix}\\frac{\\partial}{\\partial r} \\gamma{\\left(t,r \\right)} - \\frac{\\partial}{\\partial r} \\psi{\\left(t,r \\right)} & \\frac{\\partial}{\\partial t} \\gamma{\\left(t,r \\right)} - \\frac{\\partial}{\\partial t} \\psi{\\left(t,r \\right)} & 0 & 0\\\\\\frac{\\partial}{\\partial t} \\gamma{\\left(t,r \\right)} - \\frac{\\partial}{\\partial t} \\psi{\\left(t,r \\right)} & \\frac{\\partial}{\\partial r} \\gamma{\\left(t,r \\right)} - \\frac{\\partial}{\\partial r} \\psi{\\left(t,r \\right)} & 0 & 0\\\\0 & 0 & r \\left(r \\frac{\\partial}{\\partial r} \\psi{\\left(t,r \\right)} - 1\\right) e^{- 2 \\gamma{\\left(t,r \\right)}} & 0\\\\0 & 0 & 0 & - e^{- 2 \\gamma{\\left(t,r \\right)} + 4 \\psi{\\left(t,r \\right)}} \\frac{\\partial}{\\partial r} \\psi{\\left(t,r \\right)}\\end{matrix}\\right] & \\left[\\begin{matrix}0 & 0 & - \\frac{\\partial}{\\partial t} \\psi{\\left(t,r \\right)} & 0\\\\0 & 0 & - \\frac{\\partial}{\\partial r} \\psi{\\left(t,r \\right)} + \\frac{1}{r} & 0\\\\- \\frac{\\partial}{\\partial t} \\psi{\\left(t,r \\right)} & - \\frac{\\partial}{\\partial r} \\psi{\\left(t,r \\right)} + \\frac{1}{r} & 0 & 0\\\\0 & 0 & 0 & 0\\end{matrix}\\right] & \\left[\\begin{matrix}0 & 0 & 0 & \\frac{\\partial}{\\partial t} \\psi{\\left(t,r \\right)}\\\\0 & 0 & 0 & \\frac{\\partial}{\\partial r} \\psi{\\left(t,r \\right)}\\\\0 & 0 & 0 & 0\\\\\\frac{\\partial}{\\partial t} \\psi{\\left(t,r \\right)} & \\frac{\\partial}{\\partial r} \\psi{\\left(t,r \\right)} & 0 & 0\\end{matrix}\\right]\\end{matrix}\\right]$"
      ],
      "text/plain": [
       "⎡⎡∂             ∂            ∂             ∂                                                \n",
       "⎢⎢──(γ(t, r)) - ──(ψ(t, r))  ──(γ(t, r)) - ──(ψ(t, r))               0                      \n",
       "⎢⎢∂t            ∂t           ∂r            ∂r                                               \n",
       "⎢⎢                                                                                          \n",
       "⎢⎢∂             ∂            ∂             ∂                                                \n",
       "⎢⎢──(γ(t, r)) - ──(ψ(t, r))  ──(γ(t, r)) - ──(ψ(t, r))               0                      \n",
       "⎢⎢∂r            ∂r           ∂t            ∂t                                               \n",
       "⎢⎢                                                                                          \n",
       "⎢⎢                                                        2  -2⋅γ(t, r) ∂                   \n",
       "⎢⎢            0                          0              -r ⋅ℯ          ⋅──(ψ(t, r))         \n",
       "⎢⎢                                                                      ∂t                  \n",
       "⎢⎢                                                                                          \n",
       "⎢⎢                                                                                    -2⋅γ(t\n",
       "⎢⎢            0                          0                           0               ℯ      \n",
       "⎣⎣                                                                                          \n",
       "\n",
       "                            ⎤  ⎡∂             ∂            ∂             ∂                  \n",
       "          0                 ⎥  ⎢──(γ(t, r)) - ──(ψ(t, r))  ──(γ(t, r)) - ──(ψ(t, r))        \n",
       "                            ⎥  ⎢∂r            ∂r           ∂t            ∂t                 \n",
       "                            ⎥  ⎢                                                            \n",
       "                            ⎥  ⎢∂             ∂            ∂             ∂                  \n",
       "          0                 ⎥  ⎢──(γ(t, r)) - ──(ψ(t, r))  ──(γ(t, r)) - ──(ψ(t, r))        \n",
       "                            ⎥  ⎢∂t            ∂t           ∂r            ∂r                 \n",
       "                            ⎥  ⎢                                                            \n",
       "                            ⎥  ⎢                                                        ⎛  ∂\n",
       "          0                 ⎥  ⎢            0                          0              r⋅⎜r⋅─\n",
       "                            ⎥  ⎢                                                        ⎝  ∂\n",
       "                            ⎥  ⎢                                                            \n",
       ", r) + 4⋅ψ(t, r) ∂          ⎥  ⎢                                                            \n",
       "                ⋅──(ψ(t, r))⎥  ⎢            0                          0                    \n",
       "                 ∂t         ⎦  ⎣                                                            \n",
       "\n",
       "                                                                 ⎤                          \n",
       "          0                                   0                  ⎥  ⎡                       \n",
       "                                                                 ⎥  ⎢     0                0\n",
       "                                                                 ⎥  ⎢                       \n",
       "                                                                 ⎥  ⎢                       \n",
       "          0                                   0                  ⎥  ⎢                       \n",
       "                                                                 ⎥  ⎢     0                0\n",
       "                                                                 ⎥  ⎢                       \n",
       "              ⎞  -2⋅γ(t, r)                                      ⎥  ⎢                       \n",
       "─(ψ(t, r)) - 1⎟⋅ℯ                             0                  ⎥  ⎢ ∂              ∂      \n",
       "r             ⎠                                                  ⎥  ⎢-──(ψ(t, r))  - ──(ψ(t,\n",
       "                                                                 ⎥  ⎢ ∂t             ∂r     \n",
       "                               -2⋅γ(t, r) + 4⋅ψ(t, r) ∂          ⎥  ⎢                       \n",
       "          0                  -ℯ                      ⋅──(ψ(t, r))⎥  ⎣     0                0\n",
       "                                                      ∂r         ⎦                          \n",
       "\n",
       "                                                                           ⎤\n",
       "             ∂                ⎤  ⎡                             ∂          ⎤⎥\n",
       "            -──(ψ(t, r))     0⎥  ⎢     0            0       0  ──(ψ(t, r))⎥⎥\n",
       "             ∂t               ⎥  ⎢                             ∂t         ⎥⎥\n",
       "                              ⎥  ⎢                                        ⎥⎥\n",
       "            ∂             1   ⎥  ⎢                             ∂          ⎥⎥\n",
       "          - ──(ψ(t, r)) + ─  0⎥  ⎢     0            0       0  ──(ψ(t, r))⎥⎥\n",
       "            ∂r            r   ⎥  ⎢                             ∂r         ⎥⎥\n",
       "                              ⎥  ⎢                                        ⎥⎥\n",
       "       1                      ⎥  ⎢     0            0       0       0     ⎥⎥\n",
       " r)) + ─          0          0⎥  ⎢                                        ⎥⎥\n",
       "       r                      ⎥  ⎢∂            ∂                          ⎥⎥\n",
       "                              ⎥  ⎢──(ψ(t, r))  ──(ψ(t, r))  0       0     ⎥⎥\n",
       "                  0          0⎦  ⎣∂t           ∂r                         ⎦⎥\n",
       "                                                                           ⎦"
      ]
     },
     "execution_count": 17,
     "metadata": {},
     "output_type": "execute_result"
    }
   ],
   "source": [
    "ch = ChristoffelSymbols.from_metric(metric)\n",
    "simplify(ch.tensor())"
   ]
  },
  {
   "cell_type": "code",
   "execution_count": 18,
   "id": "361da972",
   "metadata": {},
   "outputs": [
    {
     "data": {
      "text/latex": [
       "$\\displaystyle \\left[\\begin{matrix}\\frac{r \\left(\\frac{\\partial^{2}}{\\partial r^{2}} \\gamma{\\left(t,r \\right)} - \\frac{\\partial^{2}}{\\partial t^{2}} \\gamma{\\left(t,r \\right)} - \\frac{\\partial^{2}}{\\partial r^{2}} \\psi{\\left(t,r \\right)} - 2 \\left(\\frac{\\partial}{\\partial t} \\psi{\\left(t,r \\right)}\\right)^{2} + \\frac{\\partial^{2}}{\\partial t^{2}} \\psi{\\left(t,r \\right)}\\right) + \\frac{\\partial}{\\partial r} \\gamma{\\left(t,r \\right)} - \\frac{\\partial}{\\partial r} \\psi{\\left(t,r \\right)}}{r} & - 2 \\frac{\\partial}{\\partial r} \\psi{\\left(t,r \\right)} \\frac{\\partial}{\\partial t} \\psi{\\left(t,r \\right)} + \\frac{\\frac{\\partial}{\\partial t} \\gamma{\\left(t,r \\right)}}{r} & 0 & 0\\\\- 2 \\frac{\\partial}{\\partial r} \\psi{\\left(t,r \\right)} \\frac{\\partial}{\\partial t} \\psi{\\left(t,r \\right)} + \\frac{\\frac{\\partial}{\\partial t} \\gamma{\\left(t,r \\right)}}{r} & \\frac{r \\left(- \\frac{\\partial^{2}}{\\partial r^{2}} \\gamma{\\left(t,r \\right)} + \\frac{\\partial^{2}}{\\partial t^{2}} \\gamma{\\left(t,r \\right)} - 2 \\left(\\frac{\\partial}{\\partial r} \\psi{\\left(t,r \\right)}\\right)^{2} + \\frac{\\partial^{2}}{\\partial r^{2}} \\psi{\\left(t,r \\right)} - \\frac{\\partial^{2}}{\\partial t^{2}} \\psi{\\left(t,r \\right)}\\right) + \\frac{\\partial}{\\partial r} \\gamma{\\left(t,r \\right)} + \\frac{\\partial}{\\partial r} \\psi{\\left(t,r \\right)}}{r} & 0 & 0\\\\0 & 0 & r \\left(r \\frac{\\partial^{2}}{\\partial r^{2}} \\psi{\\left(t,r \\right)} - r \\frac{\\partial^{2}}{\\partial t^{2}} \\psi{\\left(t,r \\right)} + \\frac{\\partial}{\\partial r} \\psi{\\left(t,r \\right)}\\right) e^{- 2 \\gamma{\\left(t,r \\right)}} & 0\\\\0 & 0 & 0 & \\frac{\\left(- r \\frac{\\partial^{2}}{\\partial r^{2}} \\psi{\\left(t,r \\right)} + r \\frac{\\partial^{2}}{\\partial t^{2}} \\psi{\\left(t,r \\right)} - \\frac{\\partial}{\\partial r} \\psi{\\left(t,r \\right)}\\right) e^{- 2 \\gamma{\\left(t,r \\right)} + 4 \\psi{\\left(t,r \\right)}}}{r}\\end{matrix}\\right]$"
      ],
      "text/plain": [
       "⎡  ⎛  2              2              2                           2     2         ⎞           \n",
       "⎢  ⎜ ∂              ∂              ∂               ⎛∂          ⎞     ∂          ⎟   ∂       \n",
       "⎢r⋅⎜───(γ(t, r)) - ───(γ(t, r)) - ───(ψ(t, r)) - 2⋅⎜──(ψ(t, r))⎟  + ───(ψ(t, r))⎟ + ──(γ(t, \n",
       "⎢  ⎜  2              2              2              ⎝∂t         ⎠      2         ⎟   ∂r      \n",
       "⎢  ⎝∂r             ∂t             ∂r                                ∂t          ⎠           \n",
       "⎢───────────────────────────────────────────────────────────────────────────────────────────\n",
       "⎢                                                     r                                     \n",
       "⎢                                                                                           \n",
       "⎢                                                                                           \n",
       "⎢                                                                                           \n",
       "⎢                                                               ∂                           \n",
       "⎢                                                               ──(γ(t, r))                 \n",
       "⎢                                     ∂           ∂             ∂t                          \n",
       "⎢                                 - 2⋅──(ψ(t, r))⋅──(ψ(t, r)) + ───────────                 \n",
       "⎢                                     ∂r          ∂t                 r                      \n",
       "⎢                                                                                           \n",
       "⎢                                                                                           \n",
       "⎢                                                                                           \n",
       "⎢                                                     0                                     \n",
       "⎢                                                                                           \n",
       "⎢                                                                                           \n",
       "⎢                                                                                           \n",
       "⎢                                                                                           \n",
       "⎢                                                                                           \n",
       "⎢                                                                                           \n",
       "⎢                                                                                           \n",
       "⎢                                                                                           \n",
       "⎢                                                     0                                     \n",
       "⎣                                                                                           \n",
       "\n",
       "                                                                                            \n",
       "      ∂                                                                                     \n",
       "r)) - ──(ψ(t, r))                                                                  ∂        \n",
       "      ∂r                                                                           ──(γ(t, r\n",
       "                                                         ∂           ∂             ∂t       \n",
       "─────────────────                                    - 2⋅──(ψ(t, r))⋅──(ψ(t, r)) + ─────────\n",
       "                                                         ∂r          ∂t                 r   \n",
       "                                                                                            \n",
       "                     ⎛    2              2                           2     2              2 \n",
       "                     ⎜   ∂              ∂               ⎛∂          ⎞     ∂              ∂  \n",
       "                   r⋅⎜- ───(γ(t, r)) + ───(γ(t, r)) - 2⋅⎜──(ψ(t, r))⎟  + ───(ψ(t, r)) - ───(\n",
       "                     ⎜    2              2              ⎝∂r         ⎠      2              2 \n",
       "                     ⎝  ∂r             ∂t                                ∂r             ∂t  \n",
       "                   ─────────────────────────────────────────────────────────────────────────\n",
       "                                                                         r                  \n",
       "                                                                                            \n",
       "                                                                                            \n",
       "                                                                                            \n",
       "                                                                         0                  \n",
       "                                                                                            \n",
       "                                                                                            \n",
       "                                                                                            \n",
       "                                                                                            \n",
       "                                                                                            \n",
       "                                                                                            \n",
       "                                                                                            \n",
       "                                                                                            \n",
       "                                                                         0                  \n",
       "                                                                                            \n",
       "\n",
       "                                                                                            \n",
       "                                                                                            \n",
       "                                                                                            \n",
       "))                                                                                          \n",
       "                                                                                            \n",
       "──                                                                   0                      \n",
       "                                                                                            \n",
       "                                                                                            \n",
       "        ⎞                                                                                   \n",
       "        ⎟   ∂             ∂                                                                 \n",
       "ψ(t, r))⎟ + ──(γ(t, r)) + ──(ψ(t, r))                                                       \n",
       "        ⎟   ∂r            ∂r                                                                \n",
       "        ⎠                                                                                   \n",
       "─────────────────────────────────────                                0                      \n",
       "                                                                                            \n",
       "                                                                                            \n",
       "                                         ⎛    2                2                       ⎞    \n",
       "                                         ⎜   ∂                ∂             ∂          ⎟  -2\n",
       "                                       r⋅⎜r⋅───(ψ(t, r)) - r⋅───(ψ(t, r)) + ──(ψ(t, r))⎟⋅ℯ  \n",
       "                                         ⎜    2                2            ∂r         ⎟    \n",
       "                                         ⎝  ∂r               ∂t                        ⎠    \n",
       "                                                                                            \n",
       "                                                                                            \n",
       "                                                                                            \n",
       "                                                                                            \n",
       "                                                                                            \n",
       "                                                                                            \n",
       "                                                                     0                      \n",
       "                                                                                            \n",
       "\n",
       "                                                                                   ⎤\n",
       "                                                                                   ⎥\n",
       "                                                                                   ⎥\n",
       "                                                                                   ⎥\n",
       "                                                                                   ⎥\n",
       "                                              0                                    ⎥\n",
       "                                                                                   ⎥\n",
       "                                                                                   ⎥\n",
       "                                                                                   ⎥\n",
       "                                                                                   ⎥\n",
       "                                                                                   ⎥\n",
       "                                                                                   ⎥\n",
       "                                                                                   ⎥\n",
       "                                              0                                    ⎥\n",
       "                                                                                   ⎥\n",
       "                                                                                   ⎥\n",
       "                                                                                   ⎥\n",
       "⋅γ(t, r)                                                                           ⎥\n",
       "                                              0                                    ⎥\n",
       "                                                                                   ⎥\n",
       "                                                                                   ⎥\n",
       "                                                                                   ⎥\n",
       "          ⎛      2                2                       ⎞                        ⎥\n",
       "          ⎜     ∂                ∂             ∂          ⎟  -2⋅γ(t, r) + 4⋅ψ(t, r)⎥\n",
       "          ⎜- r⋅───(ψ(t, r)) + r⋅───(ψ(t, r)) - ──(ψ(t, r))⎟⋅ℯ                      ⎥\n",
       "          ⎜      2                2            ∂r         ⎟                        ⎥\n",
       "          ⎝    ∂r               ∂t                        ⎠                        ⎥\n",
       "          ─────────────────────────────────────────────────────────────────────────⎥\n",
       "                                              r                                    ⎦"
      ]
     },
     "execution_count": 18,
     "metadata": {},
     "output_type": "execute_result"
    }
   ],
   "source": [
    "Ric = RicciTensor.from_metric(metric)\n",
    "Ric.tensor()"
   ]
  },
  {
   "cell_type": "code",
   "execution_count": 19,
   "id": "77a30e9c",
   "metadata": {},
   "outputs": [
    {
     "data": {
      "image/png": "[encoded data removed]",
      "text/latex": [
       "$\\displaystyle \\frac{2 \\left(- r \\frac{\\partial^{2}}{\\partial r^{2}} \\gamma{\\left(t,r \\right)} + r \\frac{\\partial^{2}}{\\partial t^{2}} \\gamma{\\left(t,r \\right)} - r \\left(\\frac{\\partial}{\\partial r} \\psi{\\left(t,r \\right)}\\right)^{2} + r \\frac{\\partial^{2}}{\\partial r^{2}} \\psi{\\left(t,r \\right)} + r \\left(\\frac{\\partial}{\\partial t} \\psi{\\left(t,r \\right)}\\right)^{2} - r \\frac{\\partial^{2}}{\\partial t^{2}} \\psi{\\left(t,r \\right)} + \\frac{\\partial}{\\partial r} \\psi{\\left(t,r \\right)}\\right) e^{- 2 \\gamma{\\left(t,r \\right)} + 2 \\psi{\\left(t,r \\right)}}}{r}$"
      ],
      "text/plain": [
       "  ⎛      2                2                           2       2                           2 \n",
       "  ⎜     ∂                ∂               ⎛∂          ⎞       ∂               ⎛∂          ⎞  \n",
       "2⋅⎜- r⋅───(γ(t, r)) + r⋅───(γ(t, r)) - r⋅⎜──(ψ(t, r))⎟  + r⋅───(ψ(t, r)) + r⋅⎜──(ψ(t, r))⎟  \n",
       "  ⎜      2                2              ⎝∂r         ⎠        2              ⎝∂t         ⎠  \n",
       "  ⎝    ∂r               ∂t                                  ∂r                              \n",
       "────────────────────────────────────────────────────────────────────────────────────────────\n",
       "                                                                         r                  \n",
       "\n",
       "      2                       ⎞                        \n",
       "     ∂             ∂          ⎟  -2⋅γ(t, r) + 2⋅ψ(t, r)\n",
       "- r⋅───(ψ(t, r)) + ──(ψ(t, r))⎟⋅ℯ                      \n",
       "      2            ∂r         ⎟                        \n",
       "    ∂t                        ⎠                        \n",
       "───────────────────────────────────────────────────────\n",
       "                                                       "
      ]
     },
     "execution_count": 19,
     "metadata": {},
     "output_type": "execute_result"
    }
   ],
   "source": [
    "R = RicciScalar.from_riccitensor(Ric)\n",
    "R.simplify()\n",
    "R.expr"
   ]
  },
  {
   "cell_type": "code",
   "execution_count": 20,
   "id": "694a6cb5",
   "metadata": {},
   "outputs": [
    {
     "data": {
      "text/latex": [
       "$\\displaystyle \\left[\\begin{matrix}\\frac{r \\left(\\frac{\\partial^{2}}{\\partial r^{2}} \\gamma{\\left(t,r \\right)} - \\frac{\\partial^{2}}{\\partial t^{2}} \\gamma{\\left(t,r \\right)} - \\frac{\\partial^{2}}{\\partial r^{2}} \\psi{\\left(t,r \\right)} - 2 \\left(\\frac{\\partial}{\\partial t} \\psi{\\left(t,r \\right)}\\right)^{2} + \\frac{\\partial^{2}}{\\partial t^{2}} \\psi{\\left(t,r \\right)}\\right) + \\frac{\\partial}{\\partial r} \\gamma{\\left(t,r \\right)} - \\frac{\\partial}{\\partial r} \\psi{\\left(t,r \\right)}}{r} + \\frac{1.0 \\left(- r \\frac{\\partial^{2}}{\\partial r^{2}} \\gamma{\\left(t,r \\right)} + r \\frac{\\partial^{2}}{\\partial t^{2}} \\gamma{\\left(t,r \\right)} - r \\left(\\frac{\\partial}{\\partial r} \\psi{\\left(t,r \\right)}\\right)^{2} + r \\frac{\\partial^{2}}{\\partial r^{2}} \\psi{\\left(t,r \\right)} + r \\left(\\frac{\\partial}{\\partial t} \\psi{\\left(t,r \\right)}\\right)^{2} - r \\frac{\\partial^{2}}{\\partial t^{2}} \\psi{\\left(t,r \\right)} + \\frac{\\partial}{\\partial r} \\psi{\\left(t,r \\right)}\\right) e^{- 2 \\gamma{\\left(t,r \\right)} + 2 \\psi{\\left(t,r \\right)}} e^{2 \\gamma{\\left(t,r \\right)}} e^{- 2 \\psi{\\left(t,r \\right)}}}{r} & - 2 \\frac{\\partial}{\\partial r} \\psi{\\left(t,r \\right)} \\frac{\\partial}{\\partial t} \\psi{\\left(t,r \\right)} + \\frac{\\frac{\\partial}{\\partial t} \\gamma{\\left(t,r \\right)}}{r} & 0 & 0\\\\- 2 \\frac{\\partial}{\\partial r} \\psi{\\left(t,r \\right)} \\frac{\\partial}{\\partial t} \\psi{\\left(t,r \\right)} + \\frac{\\frac{\\partial}{\\partial t} \\gamma{\\left(t,r \\right)}}{r} & \\frac{r \\left(- \\frac{\\partial^{2}}{\\partial r^{2}} \\gamma{\\left(t,r \\right)} + \\frac{\\partial^{2}}{\\partial t^{2}} \\gamma{\\left(t,r \\right)} - 2 \\left(\\frac{\\partial}{\\partial r} \\psi{\\left(t,r \\right)}\\right)^{2} + \\frac{\\partial^{2}}{\\partial r^{2}} \\psi{\\left(t,r \\right)} - \\frac{\\partial^{2}}{\\partial t^{2}} \\psi{\\left(t,r \\right)}\\right) + \\frac{\\partial}{\\partial r} \\gamma{\\left(t,r \\right)} + \\frac{\\partial}{\\partial r} \\psi{\\left(t,r \\right)}}{r} - \\frac{1.0 \\left(- r \\frac{\\partial^{2}}{\\partial r^{2}} \\gamma{\\left(t,r \\right)} + r \\frac{\\partial^{2}}{\\partial t^{2}} \\gamma{\\left(t,r \\right)} - r \\left(\\frac{\\partial}{\\partial r} \\psi{\\left(t,r \\right)}\\right)^{2} + r \\frac{\\partial^{2}}{\\partial r^{2}} \\psi{\\left(t,r \\right)} + r \\left(\\frac{\\partial}{\\partial t} \\psi{\\left(t,r \\right)}\\right)^{2} - r \\frac{\\partial^{2}}{\\partial t^{2}} \\psi{\\left(t,r \\right)} + \\frac{\\partial}{\\partial r} \\psi{\\left(t,r \\right)}\\right) e^{- 2 \\gamma{\\left(t,r \\right)} + 2 \\psi{\\left(t,r \\right)}} e^{2 \\gamma{\\left(t,r \\right)}} e^{- 2 \\psi{\\left(t,r \\right)}}}{r} & 0 & 0\\\\0 & 0 & r \\left(r \\frac{\\partial^{2}}{\\partial r^{2}} \\psi{\\left(t,r \\right)} - r \\frac{\\partial^{2}}{\\partial t^{2}} \\psi{\\left(t,r \\right)} + \\frac{\\partial}{\\partial r} \\psi{\\left(t,r \\right)}\\right) e^{- 2 \\gamma{\\left(t,r \\right)}} - 1.0 r \\left(- r \\frac{\\partial^{2}}{\\partial r^{2}} \\gamma{\\left(t,r \\right)} + r \\frac{\\partial^{2}}{\\partial t^{2}} \\gamma{\\left(t,r \\right)} - r \\left(\\frac{\\partial}{\\partial r} \\psi{\\left(t,r \\right)}\\right)^{2} + r \\frac{\\partial^{2}}{\\partial r^{2}} \\psi{\\left(t,r \\right)} + r \\left(\\frac{\\partial}{\\partial t} \\psi{\\left(t,r \\right)}\\right)^{2} - r \\frac{\\partial^{2}}{\\partial t^{2}} \\psi{\\left(t,r \\right)} + \\frac{\\partial}{\\partial r} \\psi{\\left(t,r \\right)}\\right) e^{- 2 \\gamma{\\left(t,r \\right)} + 2 \\psi{\\left(t,r \\right)}} e^{- 2 \\psi{\\left(t,r \\right)}} & 0\\\\0 & 0 & 0 & \\frac{\\left(- r \\frac{\\partial^{2}}{\\partial r^{2}} \\psi{\\left(t,r \\right)} + r \\frac{\\partial^{2}}{\\partial t^{2}} \\psi{\\left(t,r \\right)} - \\frac{\\partial}{\\partial r} \\psi{\\left(t,r \\right)}\\right) e^{- 2 \\gamma{\\left(t,r \\right)} + 4 \\psi{\\left(t,r \\right)}}}{r} - \\frac{1.0 \\left(- r \\frac{\\partial^{2}}{\\partial r^{2}} \\gamma{\\left(t,r \\right)} + r \\frac{\\partial^{2}}{\\partial t^{2}} \\gamma{\\left(t,r \\right)} - r \\left(\\frac{\\partial}{\\partial r} \\psi{\\left(t,r \\right)}\\right)^{2} + r \\frac{\\partial^{2}}{\\partial r^{2}} \\psi{\\left(t,r \\right)} + r \\left(\\frac{\\partial}{\\partial t} \\psi{\\left(t,r \\right)}\\right)^{2} - r \\frac{\\partial^{2}}{\\partial t^{2}} \\psi{\\left(t,r \\right)} + \\frac{\\partial}{\\partial r} \\psi{\\left(t,r \\right)}\\right) e^{- 2 \\gamma{\\left(t,r \\right)} + 2 \\psi{\\left(t,r \\right)}} e^{2 \\psi{\\left(t,r \\right)}}}{r}\\end{matrix}\\right]$"
      ],
      "text/plain": [
       "⎡  ⎛  2              2              2                           2     2         ⎞           \n",
       "⎢  ⎜ ∂              ∂              ∂               ⎛∂          ⎞     ∂          ⎟   ∂       \n",
       "⎢r⋅⎜───(γ(t, r)) - ───(γ(t, r)) - ───(ψ(t, r)) - 2⋅⎜──(ψ(t, r))⎟  + ───(ψ(t, r))⎟ + ──(γ(t, \n",
       "⎢  ⎜  2              2              2              ⎝∂t         ⎠      2         ⎟   ∂r      \n",
       "⎢  ⎝∂r             ∂t             ∂r                                ∂t          ⎠           \n",
       "⎢───────────────────────────────────────────────────────────────────────────────────────────\n",
       "⎢                                                     r                                     \n",
       "⎢                                                                                           \n",
       "⎢                                                                                           \n",
       "⎢                                                                                           \n",
       "⎢                                                                                           \n",
       "⎢                                                                                           \n",
       "⎢                                                                                           \n",
       "⎢                                                                                           \n",
       "⎢                                                                                           \n",
       "⎢                                                                                           \n",
       "⎢                                                                                           \n",
       "⎢                                                                                           \n",
       "⎢                                                                                           \n",
       "⎢                                                                                           \n",
       "⎢                                                                                           \n",
       "⎢                                                                                           \n",
       "⎢                                                                                           \n",
       "⎢                                                                                           \n",
       "⎢                                                                                           \n",
       "⎢                                                                                           \n",
       "⎢                                                                                           \n",
       "⎢                                                                                           \n",
       "⎣                                                                                           \n",
       "\n",
       "                        ⎛      2                2                           2       2       \n",
       "      ∂                 ⎜     ∂                ∂               ⎛∂          ⎞       ∂        \n",
       "r)) - ──(ψ(t, r))   1.0⋅⎜- r⋅───(γ(t, r)) + r⋅───(γ(t, r)) - r⋅⎜──(ψ(t, r))⎟  + r⋅───(ψ(t, r\n",
       "      ∂r                ⎜      2                2              ⎝∂r         ⎠        2       \n",
       "                        ⎝    ∂r               ∂t                                  ∂r        \n",
       "───────────────── + ────────────────────────────────────────────────────────────────────────\n",
       "                                                                                            \n",
       "                                                                                            \n",
       "                                                                                            \n",
       "                                                                                            \n",
       "                                                            ∂                               \n",
       "                                                            ──(γ(t, r))                     \n",
       "                                  ∂           ∂             ∂t                              \n",
       "                              - 2⋅──(ψ(t, r))⋅──(ψ(t, r)) + ───────────                     \n",
       "                                  ∂r          ∂t                 r                          \n",
       "                                                                                            \n",
       "                                                                                            \n",
       "                                                                                            \n",
       "                                                  0                                         \n",
       "                                                                                            \n",
       "                                                                                            \n",
       "                                                                                            \n",
       "                                                                                            \n",
       "                                                                                            \n",
       "                                                                                            \n",
       "                                                                                            \n",
       "                                                                                            \n",
       "                                                  0                                         \n",
       "                                                                                            \n",
       "\n",
       "                    2       2                       ⎞                                       \n",
       "       ⎛∂          ⎞       ∂             ∂          ⎟  -2⋅γ(t, r) + 2⋅ψ(t, r)  2⋅γ(t, r)  -2\n",
       ")) + r⋅⎜──(ψ(t, r))⎟  - r⋅───(ψ(t, r)) + ──(ψ(t, r))⎟⋅ℯ                      ⋅ℯ         ⋅ℯ  \n",
       "       ⎝∂t         ⎠        2            ∂r         ⎟                                       \n",
       "                          ∂t                        ⎠                                       \n",
       "────────────────────────────────────────────────────────────────────────────────────────────\n",
       "             r                                                                              \n",
       "                                                                                            \n",
       "                                                                                            \n",
       "                                                                                            \n",
       "                                                                                            \n",
       "                                                                                            \n",
       "                                                                                            \n",
       "                                                                                            \n",
       "                                                                                            \n",
       "                                                                                            \n",
       "                                                                                            \n",
       "                                                                                            \n",
       "                                                                                            \n",
       "                                                                                            \n",
       "                                                                                            \n",
       "                                                                                            \n",
       "                                                                                            \n",
       "                                                                                            \n",
       "                                                                                            \n",
       "                                                                                            \n",
       "                                                                                            \n",
       "                                                                                            \n",
       "                                                                                            \n",
       "\n",
       "                                                                                            \n",
       "⋅ψ(t, r)                                                                                    \n",
       "                                                                                            \n",
       "                                                                                            \n",
       "                                                                                            \n",
       "────────                                                                                    \n",
       "                                                                                            \n",
       "                                                                                            \n",
       "            ⎛    2              2                           2     2              2         ⎞\n",
       "            ⎜   ∂              ∂               ⎛∂          ⎞     ∂              ∂          ⎟\n",
       "          r⋅⎜- ───(γ(t, r)) + ───(γ(t, r)) - 2⋅⎜──(ψ(t, r))⎟  + ───(ψ(t, r)) - ───(ψ(t, r))⎟\n",
       "            ⎜    2              2              ⎝∂r         ⎠      2              2         ⎟\n",
       "            ⎝  ∂r             ∂t                                ∂r             ∂t          ⎠\n",
       "          ──────────────────────────────────────────────────────────────────────────────────\n",
       "                                                                r                           \n",
       "                                                                                            \n",
       "                                                                                            \n",
       "                                                                                            \n",
       "                                                                                            \n",
       "                                                                                            \n",
       "                                                                                            \n",
       "                                                                                            \n",
       "                                                                                            \n",
       "                                                                                            \n",
       "                                                                                            \n",
       "                                                                                            \n",
       "                                                                                            \n",
       "                                                                                            \n",
       "                                                                                            \n",
       "\n",
       "                                                                                            \n",
       "                                                                                            \n",
       "                                                                    ∂                       \n",
       "                                                                    ──(γ(t, r))             \n",
       "                                          ∂           ∂             ∂t                      \n",
       "                                      - 2⋅──(ψ(t, r))⋅──(ψ(t, r)) + ───────────             \n",
       "                                          ∂r          ∂t                 r                  \n",
       "                                                                                            \n",
       "                               ⎛      2                2                           2       2\n",
       "   ∂             ∂             ⎜     ∂                ∂               ⎛∂          ⎞       ∂ \n",
       " + ──(γ(t, r)) + ──(ψ(t, r))   ⎜- r⋅───(γ(t, r)) + r⋅───(γ(t, r)) - r⋅⎜──(ψ(t, r))⎟  + r⋅───\n",
       "   ∂r            ∂r            ⎜      2                2              ⎝∂r         ⎠        2\n",
       "                               ⎝    ∂r               ∂t                                  ∂r \n",
       "──────────────────────────── - ─────────────────────────────────────────────────────────────\n",
       "                                                                                            \n",
       "                                                                                            \n",
       "                                                                                            \n",
       "                                                                                            \n",
       "                                                          0                                 \n",
       "                                                                                            \n",
       "                                                                                            \n",
       "                                                                                            \n",
       "                                                                                            \n",
       "                                                                                            \n",
       "                                                                                            \n",
       "                                                                                            \n",
       "                                                                                            \n",
       "                                                          0                                 \n",
       "                                                                                            \n",
       "\n",
       "                                                                                            \n",
       "                                                                                            \n",
       "                                                                                            \n",
       "                                                                                            \n",
       "                                                                                            \n",
       "                                                                                            \n",
       "                                                                                            \n",
       "                                                                                            \n",
       "                           2       2                       ⎞                                \n",
       "              ⎛∂          ⎞       ∂             ∂          ⎟  -2⋅γ(t, r) + 2⋅ψ(t, r)  2⋅γ(t,\n",
       "(ψ(t, r)) + r⋅⎜──(ψ(t, r))⎟  - r⋅───(ψ(t, r)) + ──(ψ(t, r))⎟⋅ℯ                      ⋅ℯ      \n",
       "              ⎝∂t         ⎠        2            ∂r         ⎟                                \n",
       "                                 ∂t                        ⎠                                \n",
       "────────────────────────────────────────────────────────────────────────────────────────────\n",
       "                      r                                                                     \n",
       "                                                                                            \n",
       "                                                                                            \n",
       "                                                                                            \n",
       "                                                                                            \n",
       "                                                                                            \n",
       "                                                                                            \n",
       "                                                                                            \n",
       "                                                                                            \n",
       "                                                                                            \n",
       "                                                                                            \n",
       "                                                                                            \n",
       "                                                                                            \n",
       "                                                                                            \n",
       "                                                                                            \n",
       "\n",
       "                                                                                            \n",
       "                                                                                            \n",
       "                                                                                            \n",
       "                                                                                            \n",
       "                                                                                            \n",
       "                                                                                            \n",
       "                                                                                            \n",
       "                                                                                            \n",
       "                                                                                            \n",
       " r)  -2⋅ψ(t, r)                                                                             \n",
       "   ⋅ℯ                                                                                       \n",
       "                                                                                            \n",
       "                                                                                            \n",
       "───────────────                                                                             \n",
       "                                                                                            \n",
       "                                                                                            \n",
       "                   ⎛    2                2                       ⎞                 ⎛      2 \n",
       "                   ⎜   ∂                ∂             ∂          ⎟  -2⋅γ(t, r)     ⎜     ∂  \n",
       "                 r⋅⎜r⋅───(ψ(t, r)) - r⋅───(ψ(t, r)) + ──(ψ(t, r))⎟⋅ℯ           - r⋅⎜- r⋅───(\n",
       "                   ⎜    2                2            ∂r         ⎟                 ⎜      2 \n",
       "                   ⎝  ∂r               ∂t                        ⎠                 ⎝    ∂r  \n",
       "                                                                                            \n",
       "                                                                                            \n",
       "                                                                                            \n",
       "                                                                                            \n",
       "                                                                                            \n",
       "                                                                                            \n",
       "                                                                                            \n",
       "                                                                                            \n",
       "\n",
       "                                                                                            \n",
       "                                                                                            \n",
       "                                                                                            \n",
       "                                                                                            \n",
       "                                                                                            \n",
       "                                    0                                                       \n",
       "                                                                                            \n",
       "                                                                                            \n",
       "                                                                                            \n",
       "                                                                                            \n",
       "                                                                                            \n",
       "                                                                                            \n",
       "                                                                                            \n",
       "                                    0                                                       \n",
       "                                                                                            \n",
       "                                                                                            \n",
       "               2                           2       2                           2       2    \n",
       "              ∂               ⎛∂          ⎞       ∂               ⎛∂          ⎞       ∂     \n",
       "γ(t, r)) + r⋅───(γ(t, r)) - r⋅⎜──(ψ(t, r))⎟  + r⋅───(ψ(t, r)) + r⋅⎜──(ψ(t, r))⎟  - r⋅───(ψ(t\n",
       "               2              ⎝∂r         ⎠        2              ⎝∂t         ⎠        2    \n",
       "             ∂t                                  ∂r                                  ∂t     \n",
       "                                                                                            \n",
       "                                                                                            \n",
       "                                                                                            \n",
       "                                                                                            \n",
       "                                                                                            \n",
       "                                                                                            \n",
       "                                    0                                                       \n",
       "                                                                                            \n",
       "\n",
       "                                                                                            \n",
       "                                                                                            \n",
       "                                                                                            \n",
       "                                                                                            \n",
       "                                                                                            \n",
       "                                                                                            \n",
       "                                                                                            \n",
       "                                                                                            \n",
       "                                                                                            \n",
       "                                                                                            \n",
       "                                                                                            \n",
       "                                                                                            \n",
       "                                                                                            \n",
       "                                                                                            \n",
       "                                                                                            \n",
       "                                                                                            \n",
       "                   ⎞                                                                        \n",
       "        ∂          ⎟  -2⋅γ(t, r) + 2⋅ψ(t, r)  -2⋅ψ(t, r)                                    \n",
       ", r)) + ──(ψ(t, r))⎟⋅ℯ                      ⋅ℯ                                              \n",
       "        ∂r         ⎟                                                                        \n",
       "                   ⎠                                                                        \n",
       "                                                                                            \n",
       "                                                          ⎛      2                2         \n",
       "                                                          ⎜     ∂                ∂          \n",
       "                                                          ⎜- r⋅───(ψ(t, r)) + r⋅───(ψ(t, r))\n",
       "                                                          ⎜      2                2         \n",
       "                                                          ⎝    ∂r               ∂t          \n",
       "                                                          ──────────────────────────────────\n",
       "                                                                                            \n",
       "\n",
       "                                                                                            \n",
       "                                                                                            \n",
       "                                                                                            \n",
       "                                                                                            \n",
       "                                                                                            \n",
       "                                                                                 0          \n",
       "                                                                                            \n",
       "                                                                                            \n",
       "                                                                                            \n",
       "                                                                                            \n",
       "                                                                                            \n",
       "                                                                                            \n",
       "                                                                                            \n",
       "                                                                                 0          \n",
       "                                                                                            \n",
       "                                                                                            \n",
       "                                                                                            \n",
       "                                                                                            \n",
       "                                                                                 0          \n",
       "                                                                                            \n",
       "                                                                                            \n",
       "                                                                                            \n",
       "              ⎞                           ⎛      2                2                         \n",
       "   ∂          ⎟  -2⋅γ(t, r) + 4⋅ψ(t, r)   ⎜     ∂                ∂               ⎛∂         \n",
       " - ──(ψ(t, r))⎟⋅ℯ                         ⎜- r⋅───(γ(t, r)) + r⋅───(γ(t, r)) - r⋅⎜──(ψ(t, r)\n",
       "   ∂r         ⎟                           ⎜      2                2              ⎝∂r        \n",
       "              ⎠                           ⎝    ∂r               ∂t                          \n",
       "─────────────────────────────────────── - ──────────────────────────────────────────────────\n",
       "  r                                                                                         \n",
       "\n",
       "                                                                                            \n",
       "                                                                                            \n",
       "                                                                                            \n",
       "                                                                                            \n",
       "                                                                                            \n",
       "                                                                                            \n",
       "                                                                                            \n",
       "                                                                                            \n",
       "                                                                                            \n",
       "                                                                                            \n",
       "                                                                                            \n",
       "                                                                                            \n",
       "                                                                                            \n",
       "                                                                                            \n",
       "                                                                                            \n",
       "                                                                                            \n",
       "                                                                                            \n",
       "                                                                                            \n",
       "                                                                                            \n",
       "                                                                                            \n",
       "                                                                                            \n",
       "                                                                                            \n",
       "  2       2                           2       2                       ⎞                     \n",
       " ⎞       ∂               ⎛∂          ⎞       ∂             ∂          ⎟  -2⋅γ(t, r) + 2⋅ψ(t,\n",
       ")⎟  + r⋅───(ψ(t, r)) + r⋅⎜──(ψ(t, r))⎟  - r⋅───(ψ(t, r)) + ──(ψ(t, r))⎟⋅ℯ                   \n",
       " ⎠        2              ⎝∂t         ⎠        2            ∂r         ⎟                     \n",
       "        ∂r                                  ∂t                        ⎠                     \n",
       "────────────────────────────────────────────────────────────────────────────────────────────\n",
       "                           r                                                                \n",
       "\n",
       "              ⎤\n",
       "              ⎥\n",
       "              ⎥\n",
       "              ⎥\n",
       "              ⎥\n",
       "              ⎥\n",
       "              ⎥\n",
       "              ⎥\n",
       "              ⎥\n",
       "              ⎥\n",
       "              ⎥\n",
       "              ⎥\n",
       "              ⎥\n",
       "              ⎥\n",
       "              ⎥\n",
       "              ⎥\n",
       "              ⎥\n",
       "              ⎥\n",
       "              ⎥\n",
       "              ⎥\n",
       "              ⎥\n",
       "              ⎥\n",
       "              ⎥\n",
       " r)  2⋅ψ(t, r)⎥\n",
       "   ⋅ℯ         ⎥\n",
       "              ⎥\n",
       "              ⎥\n",
       "──────────────⎥\n",
       "              ⎦"
      ]
     },
     "execution_count": 20,
     "metadata": {},
     "output_type": "execute_result"
    }
   ],
   "source": [
    "einst = EinsteinTensor.from_metric(metric)\n",
    "einst.tensor()"
   ]
  },
  {
   "cell_type": "code",
   "execution_count": 21,
   "id": "8aa703c7",
   "metadata": {},
   "outputs": [],
   "source": [
    "#  rm1 = RiemannCurvatureTensor.from_christoffels(ch)\n",
    "#  rm1.tensor()"
   ]
  },
  {
   "cell_type": "code",
   "execution_count": 22,
   "id": "b9adc3c3",
   "metadata": {},
   "outputs": [],
   "source": [
    "#  weyl = WeylTensor.from_metric(metric)\n",
    "#  weyl.tensor()"
   ]
  },
  {
   "cell_type": "code",
   "execution_count": 23,
   "id": "861c6565",
   "metadata": {},
   "outputs": [
    {
     "data": {
      "text/latex": [
       "$\\displaystyle \\left[\\begin{matrix}\\frac{- r \\left(- \\frac{\\partial^{2}}{\\partial r^{2}} \\gamma{\\left(t,r \\right)} + \\frac{\\partial^{2}}{\\partial t^{2}} \\gamma{\\left(t,r \\right)} + \\frac{\\partial^{2}}{\\partial r^{2}} \\psi{\\left(t,r \\right)} + 2 \\left(\\frac{\\partial}{\\partial t} \\psi{\\left(t,r \\right)}\\right)^{2} - \\frac{\\partial^{2}}{\\partial t^{2}} \\psi{\\left(t,r \\right)}\\right) + \\frac{\\partial}{\\partial r} \\gamma{\\left(t,r \\right)} - \\frac{\\partial}{\\partial r} \\psi{\\left(t,r \\right)}}{r} & - 2 \\frac{\\partial}{\\partial r} \\psi{\\left(t,r \\right)} \\frac{\\partial}{\\partial t} \\psi{\\left(t,r \\right)} + \\frac{\\frac{\\partial}{\\partial t} \\gamma{\\left(t,r \\right)}}{r} & 0 & 0\\\\- 2 \\frac{\\partial}{\\partial r} \\psi{\\left(t,r \\right)} \\frac{\\partial}{\\partial t} \\psi{\\left(t,r \\right)} + \\frac{\\frac{\\partial}{\\partial t} \\gamma{\\left(t,r \\right)}}{r} & \\frac{- r \\left(\\frac{\\partial^{2}}{\\partial r^{2}} \\gamma{\\left(t,r \\right)} - \\frac{\\partial^{2}}{\\partial t^{2}} \\gamma{\\left(t,r \\right)} + 2 \\left(\\frac{\\partial}{\\partial r} \\psi{\\left(t,r \\right)}\\right)^{2} - \\frac{\\partial^{2}}{\\partial r^{2}} \\psi{\\left(t,r \\right)} + \\frac{\\partial^{2}}{\\partial t^{2}} \\psi{\\left(t,r \\right)}\\right) + \\frac{\\partial}{\\partial r} \\gamma{\\left(t,r \\right)} + \\frac{\\partial}{\\partial r} \\psi{\\left(t,r \\right)}}{r} & 0 & 0\\\\0 & 0 & r \\left(r \\frac{\\partial^{2}}{\\partial r^{2}} \\psi{\\left(t,r \\right)} - r \\frac{\\partial^{2}}{\\partial t^{2}} \\psi{\\left(t,r \\right)} + \\frac{\\partial}{\\partial r} \\psi{\\left(t,r \\right)}\\right) e^{- 2 \\gamma{\\left(t,r \\right)}} & 0\\\\0 & 0 & 0 & \\frac{\\left(- r \\frac{\\partial^{2}}{\\partial r^{2}} \\psi{\\left(t,r \\right)} + r \\frac{\\partial^{2}}{\\partial t^{2}} \\psi{\\left(t,r \\right)} - \\frac{\\partial}{\\partial r} \\psi{\\left(t,r \\right)}\\right) e^{- 2 \\gamma{\\left(t,r \\right)} + 4 \\psi{\\left(t,r \\right)}}}{r}\\end{matrix}\\right]$"
      ],
      "text/plain": [
       "⎡    ⎛    2              2              2                           2     2         ⎞       \n",
       "⎢    ⎜   ∂              ∂              ∂               ⎛∂          ⎞     ∂          ⎟   ∂   \n",
       "⎢- r⋅⎜- ───(γ(t, r)) + ───(γ(t, r)) + ───(ψ(t, r)) + 2⋅⎜──(ψ(t, r))⎟  - ───(ψ(t, r))⎟ + ──(γ\n",
       "⎢    ⎜    2              2              2              ⎝∂t         ⎠      2         ⎟   ∂r  \n",
       "⎢    ⎝  ∂r             ∂t             ∂r                                ∂t          ⎠       \n",
       "⎢───────────────────────────────────────────────────────────────────────────────────────────\n",
       "⎢                                                       r                                   \n",
       "⎢                                                                                           \n",
       "⎢                                                                                           \n",
       "⎢                                                                                           \n",
       "⎢                                                                 ∂                         \n",
       "⎢                                                                 ──(γ(t, r))               \n",
       "⎢                                       ∂           ∂             ∂t                        \n",
       "⎢                                   - 2⋅──(ψ(t, r))⋅──(ψ(t, r)) + ───────────               \n",
       "⎢                                       ∂r          ∂t                 r                    \n",
       "⎢                                                                                           \n",
       "⎢                                                                                           \n",
       "⎢                                                                                           \n",
       "⎢                                                       0                                   \n",
       "⎢                                                                                           \n",
       "⎢                                                                                           \n",
       "⎢                                                                                           \n",
       "⎢                                                                                           \n",
       "⎢                                                                                           \n",
       "⎢                                                                                           \n",
       "⎢                                                                                           \n",
       "⎢                                                                                           \n",
       "⎢                                                       0                                   \n",
       "⎣                                                                                           \n",
       "\n",
       "                                                                                            \n",
       "          ∂                                                                                 \n",
       "(t, r)) - ──(ψ(t, r))                                                                  ∂    \n",
       "          ∂r                                                                           ──(γ(\n",
       "                                                             ∂           ∂             ∂t   \n",
       "─────────────────────                                    - 2⋅──(ψ(t, r))⋅──(ψ(t, r)) + ─────\n",
       "                                                             ∂r          ∂t                 \n",
       "                                                                                            \n",
       "                           ⎛  2              2                           2     2            \n",
       "                           ⎜ ∂              ∂               ⎛∂          ⎞     ∂             \n",
       "                       - r⋅⎜───(γ(t, r)) - ───(γ(t, r)) + 2⋅⎜──(ψ(t, r))⎟  - ───(ψ(t, r)) + \n",
       "                           ⎜  2              2              ⎝∂r         ⎠      2            \n",
       "                           ⎝∂r             ∂t                                ∂r             \n",
       "                       ─────────────────────────────────────────────────────────────────────\n",
       "                                                                             r              \n",
       "                                                                                            \n",
       "                                                                                            \n",
       "                                                                                            \n",
       "                                                                             0              \n",
       "                                                                                            \n",
       "                                                                                            \n",
       "                                                                                            \n",
       "                                                                                            \n",
       "                                                                                            \n",
       "                                                                                            \n",
       "                                                                                            \n",
       "                                                                                            \n",
       "                                                                             0              \n",
       "                                                                                            \n",
       "\n",
       "                                                                                            \n",
       "                                                                                            \n",
       "                                                                                            \n",
       "t, r))                                                                                      \n",
       "                                                                                            \n",
       "──────                                                                   0                  \n",
       "r                                                                                           \n",
       "                                                                                            \n",
       "  2         ⎞                                                                               \n",
       " ∂          ⎟   ∂             ∂                                                             \n",
       "───(ψ(t, r))⎟ + ──(γ(t, r)) + ──(ψ(t, r))                                                   \n",
       "  2         ⎟   ∂r            ∂r                                                            \n",
       "∂t          ⎠                                                                               \n",
       "─────────────────────────────────────────                                0                  \n",
       "                                                                                            \n",
       "                                                                                            \n",
       "                                             ⎛    2                2                       ⎞\n",
       "                                             ⎜   ∂                ∂             ∂          ⎟\n",
       "                                           r⋅⎜r⋅───(ψ(t, r)) - r⋅───(ψ(t, r)) + ──(ψ(t, r))⎟\n",
       "                                             ⎜    2                2            ∂r         ⎟\n",
       "                                             ⎝  ∂r               ∂t                        ⎠\n",
       "                                                                                            \n",
       "                                                                                            \n",
       "                                                                                            \n",
       "                                                                                            \n",
       "                                                                                            \n",
       "                                                                                            \n",
       "                                                                         0                  \n",
       "                                                                                            \n",
       "\n",
       "                                                                                       ⎤\n",
       "                                                                                       ⎥\n",
       "                                                                                       ⎥\n",
       "                                                                                       ⎥\n",
       "                                                                                       ⎥\n",
       "                                                  0                                    ⎥\n",
       "                                                                                       ⎥\n",
       "                                                                                       ⎥\n",
       "                                                                                       ⎥\n",
       "                                                                                       ⎥\n",
       "                                                                                       ⎥\n",
       "                                                                                       ⎥\n",
       "                                                                                       ⎥\n",
       "                                                  0                                    ⎥\n",
       "                                                                                       ⎥\n",
       "                                                                                       ⎥\n",
       "                                                                                       ⎥\n",
       "  -2⋅γ(t, r)                                                                           ⎥\n",
       "⋅ℯ                                                0                                    ⎥\n",
       "                                                                                       ⎥\n",
       "                                                                                       ⎥\n",
       "                                                                                       ⎥\n",
       "              ⎛      2                2                       ⎞                        ⎥\n",
       "              ⎜     ∂                ∂             ∂          ⎟  -2⋅γ(t, r) + 4⋅ψ(t, r)⎥\n",
       "              ⎜- r⋅───(ψ(t, r)) + r⋅───(ψ(t, r)) - ──(ψ(t, r))⎟⋅ℯ                      ⎥\n",
       "              ⎜      2                2            ∂r         ⎟                        ⎥\n",
       "              ⎝    ∂r               ∂t                        ⎠                        ⎥\n",
       "              ─────────────────────────────────────────────────────────────────────────⎥\n",
       "                                                  r                                    ⎦"
      ]
     },
     "execution_count": 23,
     "metadata": {},
     "output_type": "execute_result"
    }
   ],
   "source": [
    "ricciSimplified = simplify(Ric.tensor())\n",
    "ricciSimplified"
   ]
  },
  {
   "cell_type": "code",
   "execution_count": 24,
   "id": "dbadb288",
   "metadata": {
    "scrolled": true
   },
   "outputs": [
    {
     "data": {
      "text/latex": [
       "$\\displaystyle \\left[\\begin{matrix}- 1.0 \\left(\\frac{\\partial}{\\partial r} \\psi{\\left(t,r \\right)}\\right)^{2} - 1.0 \\left(\\frac{\\partial}{\\partial t} \\psi{\\left(t,r \\right)}\\right)^{2} + \\frac{1.0 \\frac{\\partial}{\\partial r} \\gamma{\\left(t,r \\right)}}{r} & - 2 \\frac{\\partial}{\\partial r} \\psi{\\left(t,r \\right)} \\frac{\\partial}{\\partial t} \\psi{\\left(t,r \\right)} + \\frac{\\frac{\\partial}{\\partial t} \\gamma{\\left(t,r \\right)}}{r} & 0 & 0\\\\- 2 \\frac{\\partial}{\\partial r} \\psi{\\left(t,r \\right)} \\frac{\\partial}{\\partial t} \\psi{\\left(t,r \\right)} + \\frac{\\frac{\\partial}{\\partial t} \\gamma{\\left(t,r \\right)}}{r} & - 1.0 \\left(\\frac{\\partial}{\\partial r} \\psi{\\left(t,r \\right)}\\right)^{2} - 1.0 \\left(\\frac{\\partial}{\\partial t} \\psi{\\left(t,r \\right)}\\right)^{2} + \\frac{1.0 \\frac{\\partial}{\\partial r} \\gamma{\\left(t,r \\right)}}{r} & 0 & 0\\\\0 & 0 & 1.0 r^{2} \\left(\\frac{\\partial^{2}}{\\partial r^{2}} \\gamma{\\left(t,r \\right)} - \\frac{\\partial^{2}}{\\partial t^{2}} \\gamma{\\left(t,r \\right)} + \\left(\\frac{\\partial}{\\partial r} \\psi{\\left(t,r \\right)}\\right)^{2} - \\left(\\frac{\\partial}{\\partial t} \\psi{\\left(t,r \\right)}\\right)^{2}\\right) e^{- 2 \\gamma{\\left(t,r \\right)}} & 0\\\\0 & 0 & 0 & \\frac{\\left(1.0 r \\frac{\\partial^{2}}{\\partial r^{2}} \\gamma{\\left(t,r \\right)} - 1.0 r \\frac{\\partial^{2}}{\\partial t^{2}} \\gamma{\\left(t,r \\right)} + 1.0 r \\left(\\frac{\\partial}{\\partial r} \\psi{\\left(t,r \\right)}\\right)^{2} - 2.0 r \\frac{\\partial^{2}}{\\partial r^{2}} \\psi{\\left(t,r \\right)} - 1.0 r \\left(\\frac{\\partial}{\\partial t} \\psi{\\left(t,r \\right)}\\right)^{2} + 2.0 r \\frac{\\partial^{2}}{\\partial t^{2}} \\psi{\\left(t,r \\right)} - 2.0 \\frac{\\partial}{\\partial r} \\psi{\\left(t,r \\right)}\\right) e^{- 2 \\gamma{\\left(t,r \\right)} + 4 \\psi{\\left(t,r \\right)}}}{r}\\end{matrix}\\right]$"
      ],
      "text/plain": [
       "⎡                                        ∂                                               ∂  \n",
       "⎢               2                2   1.0⋅──(γ(t, r))                                     ──(\n",
       "⎢  ⎛∂          ⎞    ⎛∂          ⎞        ∂r                    ∂           ∂             ∂t \n",
       "⎢- ⎜──(ψ(t, r))⎟  - ⎜──(ψ(t, r))⎟  + ───────────────       - 2⋅──(ψ(t, r))⋅──(ψ(t, r)) + ───\n",
       "⎢  ⎝∂r         ⎠    ⎝∂t         ⎠           r                  ∂r          ∂t               \n",
       "⎢                                                                                           \n",
       "⎢                                   ∂                                                       \n",
       "⎢                                   ──(γ(t, r))                      2                2   1.\n",
       "⎢         ∂           ∂             ∂t                  ⎛∂          ⎞    ⎛∂          ⎞      \n",
       "⎢     - 2⋅──(ψ(t, r))⋅──(ψ(t, r)) + ───────────       - ⎜──(ψ(t, r))⎟  - ⎜──(ψ(t, r))⎟  + ──\n",
       "⎢         ∂r          ∂t                 r              ⎝∂r         ⎠    ⎝∂t         ⎠      \n",
       "⎢                                                                                           \n",
       "⎢                                                                                           \n",
       "⎢                                                                                           \n",
       "⎢                         0                                                    0            \n",
       "⎢                                                                                           \n",
       "⎢                                                                                           \n",
       "⎢                                                                                           \n",
       "⎢                                                                                           \n",
       "⎢                                                                                           \n",
       "⎢                                                                                           \n",
       "⎢                                                                                           \n",
       "⎢                                                                                           \n",
       "⎢                         0                                                    0            \n",
       "⎣                                                                                           \n",
       "\n",
       "                                                                                            \n",
       "γ(t, r))                                                                                    \n",
       "                                                                                            \n",
       "────────                                               0                                    \n",
       "  r                                                                                         \n",
       "                                                                                            \n",
       "  ∂                                                                                         \n",
       "0⋅──(γ(t, r))                                                                               \n",
       "  ∂r                                                                                        \n",
       "─────────────                                          0                                    \n",
       "     r                                                                                      \n",
       "                                                                                            \n",
       "                      ⎛  2              2                         2                2⎞       \n",
       "                    2 ⎜ ∂              ∂             ⎛∂          ⎞    ⎛∂          ⎞ ⎟  -2⋅γ(\n",
       "               1.0⋅r ⋅⎜───(γ(t, r)) - ───(γ(t, r)) + ⎜──(ψ(t, r))⎟  - ⎜──(ψ(t, r))⎟ ⎟⋅ℯ     \n",
       "                      ⎜  2              2            ⎝∂r         ⎠    ⎝∂t         ⎠ ⎟       \n",
       "                      ⎝∂r             ∂t                                            ⎠       \n",
       "                                                                                            \n",
       "                                                                                            \n",
       "                                                                                            \n",
       "                                                                                            \n",
       "                                                                                            \n",
       "                                                                                            \n",
       "                                                       0                                    \n",
       "                                                                                            \n",
       "\n",
       "                                                                                            \n",
       "                                                                                            \n",
       "                                                                                            \n",
       "                                                                                        0   \n",
       "                                                                                            \n",
       "                                                                                            \n",
       "                                                                                            \n",
       "                                                                                            \n",
       "                                                                                            \n",
       "                                                                                        0   \n",
       "                                                                                            \n",
       "                                                                                            \n",
       "                                                                                            \n",
       "t, r)                                                                                       \n",
       "                                                                                        0   \n",
       "                                                                                            \n",
       "                                                                                            \n",
       "                                                                                            \n",
       "       ⎛        2                2                               2           2              \n",
       "       ⎜       ∂                ∂                   ⎛∂          ⎞           ∂               \n",
       "       ⎜1.0⋅r⋅───(γ(t, r)) - r⋅───(γ(t, r)) + 1.0⋅r⋅⎜──(ψ(t, r))⎟  - 2.0⋅r⋅───(ψ(t, r)) - r⋅\n",
       "       ⎜        2                2                  ⎝∂r         ⎠            2              \n",
       "       ⎝      ∂r               ∂t                                          ∂r               \n",
       "       ─────────────────────────────────────────────────────────────────────────────────────\n",
       "                                                                                        r   \n",
       "\n",
       "                                                                              ⎤\n",
       "                                                                              ⎥\n",
       "                                                                              ⎥\n",
       "                                                                              ⎥\n",
       "                                                                              ⎥\n",
       "                                                                              ⎥\n",
       "                                                                              ⎥\n",
       "                                                                              ⎥\n",
       "                                                                              ⎥\n",
       "                                                                              ⎥\n",
       "                                                                              ⎥\n",
       "                                                                              ⎥\n",
       "                                                                              ⎥\n",
       "                                                                              ⎥\n",
       "                                                                              ⎥\n",
       "                                                                              ⎥\n",
       "                                                                              ⎥\n",
       "                                                                              ⎥\n",
       "             2           2                           ⎞                        ⎥\n",
       "⎛∂          ⎞           ∂                 ∂          ⎟  -2⋅γ(t, r) + 4⋅ψ(t, r)⎥\n",
       "⎜──(ψ(t, r))⎟  + 2.0⋅r⋅───(ψ(t, r)) - 2.0⋅──(ψ(t, r))⎟⋅ℯ                      ⎥\n",
       "⎝∂t         ⎠            2                ∂r         ⎟                        ⎥\n",
       "                       ∂t                            ⎠                        ⎥\n",
       "──────────────────────────────────────────────────────────────────────────────⎥\n",
       "                                                                              ⎦"
      ]
     },
     "execution_count": 24,
     "metadata": {},
     "output_type": "execute_result"
    }
   ],
   "source": [
    "einsteinSimplified = simplify(einst.tensor())\n",
    "einsteinSimplified"
   ]
  },
  {
   "cell_type": "code",
   "execution_count": 36,
   "id": "79aff810",
   "metadata": {},
   "outputs": [
    {
     "data": {
      "image/png": "[encoded data removed]",
      "text/latex": [
       "$\\displaystyle - \\frac{\\partial^{2}}{\\partial r^{2}} \\psi{\\left(t,r \\right)} + \\frac{\\partial^{2}}{\\partial t^{2}} \\psi{\\left(t,r \\right)} - \\frac{\\frac{\\partial}{\\partial r} \\psi{\\left(t,r \\right)}}{r} = 0$"
      ],
      "text/plain": [
       "                                ∂              \n",
       "    2              2            ──(ψ(t, r))    \n",
       "   ∂              ∂             ∂r             \n",
       "- ───(ψ(t, r)) + ───(ψ(t, r)) - ─────────── = 0\n",
       "    2              2                 r         \n",
       "  ∂r             ∂t                            "
      ]
     },
     "execution_count": 36,
     "metadata": {},
     "output_type": "execute_result"
    }
   ],
   "source": [
    "equation2pt2 = Eq( expand((-1/r)*ricciSimplified[2,2].args[1] ),0 ) \n",
    "equation2pt2"
   ]
  },
  {
   "cell_type": "code",
   "execution_count": 37,
   "id": "11c170ee",
   "metadata": {},
   "outputs": [
    {
     "data": {
      "image/png": "[encoded data removed]",
      "text/latex": [
       "$\\displaystyle \\frac{\\partial}{\\partial r} \\gamma{\\left(t,r \\right)} = r \\left(\\left(\\frac{\\partial}{\\partial r} \\psi{\\left(t,r \\right)}\\right)^{2} + \\left(\\frac{\\partial}{\\partial t} \\psi{\\left(t,r \\right)}\\right)^{2}\\right)$"
      ],
      "text/plain": [
       "                ⎛             2                2⎞\n",
       "∂               ⎜⎛∂          ⎞    ⎛∂          ⎞ ⎟\n",
       "──(γ(t, r)) = r⋅⎜⎜──(ψ(t, r))⎟  + ⎜──(ψ(t, r))⎟ ⎟\n",
       "∂r              ⎝⎝∂r         ⎠    ⎝∂t         ⎠ ⎠"
      ]
     },
     "execution_count": 37,
     "metadata": {},
     "output_type": "execute_result"
    }
   ],
   "source": [
    "equation2pt3 = Eq( diff(gamma,r), solve( einsteinSimplified[0,0], diff(gamma,r) )[0] )\n",
    "equation2pt3"
   ]
  },
  {
   "cell_type": "code",
   "execution_count": 38,
   "id": "906abc13",
   "metadata": {},
   "outputs": [
    {
     "data": {
      "image/png": "[encoded data removed]",
      "text/latex": [
       "$\\displaystyle \\frac{\\partial}{\\partial t} \\gamma{\\left(t,r \\right)} = 2 r \\frac{\\partial}{\\partial r} \\psi{\\left(t,r \\right)} \\frac{\\partial}{\\partial t} \\psi{\\left(t,r \\right)}$"
      ],
      "text/plain": [
       "∂                 ∂           ∂          \n",
       "──(γ(t, r)) = 2⋅r⋅──(ψ(t, r))⋅──(ψ(t, r))\n",
       "∂t                ∂r          ∂t         "
      ]
     },
     "execution_count": 38,
     "metadata": {},
     "output_type": "execute_result"
    }
   ],
   "source": [
    "equation2pt4 = Eq(diff(gamma,t),solve( ricciSimplified[1,0], diff(gamma,t) )[0] ) \n",
    "equation2pt4"
   ]
  },
  {
   "cell_type": "code",
   "execution_count": 40,
   "id": "656d581f",
   "metadata": {},
   "outputs": [
    {
     "data": {
      "text/latex": [
       "$\\displaystyle \\left[\\begin{matrix}- \\frac{\\partial^{2}}{\\partial r^{2}} \\psi{\\left(t,r \\right)} + \\frac{\\partial^{2}}{\\partial t^{2}} \\psi{\\left(t,r \\right)} - \\frac{\\frac{\\partial}{\\partial r} \\psi{\\left(t,r \\right)}}{r} = 0\\\\\\frac{\\partial}{\\partial r} \\gamma{\\left(t,r \\right)} = r \\left(\\left(\\frac{\\partial}{\\partial r} \\psi{\\left(t,r \\right)}\\right)^{2} + \\left(\\frac{\\partial}{\\partial t} \\psi{\\left(t,r \\right)}\\right)^{2}\\right)\\\\\\frac{\\partial}{\\partial t} \\gamma{\\left(t,r \\right)} = 2 r \\frac{\\partial}{\\partial r} \\psi{\\left(t,r \\right)} \\frac{\\partial}{\\partial t} \\psi{\\left(t,r \\right)}\\end{matrix}\\right]$"
      ],
      "text/plain": [
       "⎡                                 ∂               ⎤\n",
       "⎢     2              2            ──(ψ(t, r))     ⎥\n",
       "⎢    ∂              ∂             ∂r              ⎥\n",
       "⎢ - ───(ψ(t, r)) + ───(ψ(t, r)) - ─────────── = 0 ⎥\n",
       "⎢     2              2                 r          ⎥\n",
       "⎢   ∂r             ∂t                             ⎥\n",
       "⎢                                                 ⎥\n",
       "⎢                ⎛             2                2⎞⎥\n",
       "⎢∂               ⎜⎛∂          ⎞    ⎛∂          ⎞ ⎟⎥\n",
       "⎢──(γ(t, r)) = r⋅⎜⎜──(ψ(t, r))⎟  + ⎜──(ψ(t, r))⎟ ⎟⎥\n",
       "⎢∂r              ⎝⎝∂r         ⎠    ⎝∂t         ⎠ ⎠⎥\n",
       "⎢                                                 ⎥\n",
       "⎢    ∂                 ∂           ∂              ⎥\n",
       "⎢    ──(γ(t, r)) = 2⋅r⋅──(ψ(t, r))⋅──(ψ(t, r))    ⎥\n",
       "⎣    ∂t                ∂r          ∂t             ⎦"
      ]
     },
     "execution_count": 40,
     "metadata": {},
     "output_type": "execute_result"
    }
   ],
   "source": [
    "vacuumFieldEquations = Matrix([equation2pt2,equation2pt3,equation2pt4])\n",
    "vacuumFieldEquations "
   ]
  },
  {
   "cell_type": "code",
   "execution_count": null,
   "id": "bdfce1b6",
   "metadata": {},
   "outputs": [],
   "source": []
  }
 ],
 "metadata": {
  "@webio": {
   "lastCommId": "f43dd8a232e04a258f1bc6998b8a52ac",
   "lastKernelId": "2a39d1b3-c99e-45d3-bd7f-efb9340131ec"
  },
  "kernelspec": {
   "display_name": "Python 3 (ipykernel)",
   "language": "python",
   "name": "python3"
  },
  "language_info": {
   "codemirror_mode": {
    "name": "ipython",
    "version": 3
   },
   "file_extension": ".py",
   "mimetype": "text/x-python",
   "name": "python",
   "nbconvert_exporter": "python",
   "pygments_lexer": "ipython3",
   "version": "3.8.8"
  }
 },
 "nbformat": 4,
 "nbformat_minor": 5
}
