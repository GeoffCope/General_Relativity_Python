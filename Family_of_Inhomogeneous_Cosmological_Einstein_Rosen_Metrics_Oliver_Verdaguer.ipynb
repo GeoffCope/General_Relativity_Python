{
 "cells": [
  {
   "cell_type": "markdown",
   "id": "87cbf982",
   "metadata": {},
   "source": [
    "# Family of Inhomogeneous Cosmological Einstein Rosen Metrics by Oliver and Verdaguer\n",
    "##  Geoff Cope\n",
    "##  Univeristy of Utah\n",
    "##  𐐏𐐭𐑌𐐲𐑂𐐲𐑉𐑅𐐮𐐻𐐨 𐐲𐑂 𐐏𐐭𐐻𐐫\n",
    "##  January 11, 2022"
   ]
  },
  {
   "cell_type": "markdown",
   "id": "e20c2b88",
   "metadata": {},
   "source": [
    "http://diposit.ub.edu/dspace/bitstream/2445/24564/1/79608.pdf"
   ]
  },
  {
   "cell_type": "markdown",
   "id": "ec5b88da",
   "metadata": {},
   "source": [
    "We have not solved the wave equation as done in the paper.  Will go back and redo"
   ]
  },
  {
   "cell_type": "code",
   "execution_count": 1,
   "id": "bc48029a",
   "metadata": {},
   "outputs": [
    {
     "name": "stdout",
     "output_type": "stream",
     "text": [
      "IPython console for SymPy 1.9 (Python 3.8.8-64-bit) (ground types: gmpy)\n",
      "\n",
      "These commands were executed:\n",
      ">>> from __future__ import division\n",
      ">>> from sympy import *\n",
      ">>> x, y, z, t = symbols('x y z t')\n",
      ">>> k, m, n = symbols('k m n', integer=True)\n",
      ">>> f, g, h = symbols('f g h', cls=Function)\n",
      ">>> init_printing()\n",
      "\n",
      "Documentation can be found at https://docs.sympy.org/1.9/\n",
      "\n"
     ]
    }
   ],
   "source": [
    "from sympy import init_session\n",
    "init_session(use_latex=True)"
   ]
  },
  {
   "cell_type": "code",
   "execution_count": 2,
   "id": "680684b6",
   "metadata": {},
   "outputs": [],
   "source": [
    "import warnings\n",
    "import matplotlib.cbook\n",
    "warnings.filterwarnings(\"ignore\",category=matplotlib.cbook.mplDeprecation)"
   ]
  },
  {
   "cell_type": "code",
   "execution_count": 3,
   "id": "7401adbf",
   "metadata": {},
   "outputs": [],
   "source": [
    "t,x,y,z,dt,dx,dy,dz = symbols('t x y z dt dx dy dz')"
   ]
  },
  {
   "cell_type": "code",
   "execution_count": 4,
   "id": "5260aea3",
   "metadata": {},
   "outputs": [
    {
     "data": {
      "image/png": "[encoded data removed]",
      "text/latex": [
       "$\\displaystyle f{\\left(t,z \\right)}$"
      ],
      "text/plain": [
       "f(t, z)"
      ]
     },
     "execution_count": 4,
     "metadata": {},
     "output_type": "execute_result"
    }
   ],
   "source": [
    "f = Function('f')(t,z)\n",
    "f"
   ]
  },
  {
   "cell_type": "code",
   "execution_count": 5,
   "id": "89d05460",
   "metadata": {},
   "outputs": [
    {
     "data": {
      "image/png": "[encoded data removed]",
      "text/latex": [
       "$\\displaystyle \\Phi{\\left(t,z \\right)}$"
      ],
      "text/plain": [
       "Φ(t, z)"
      ]
     },
     "execution_count": 5,
     "metadata": {},
     "output_type": "execute_result"
    }
   ],
   "source": [
    "Phi = Function('Phi')(t,z)\n",
    "Phi"
   ]
  },
  {
   "cell_type": "code",
   "execution_count": 6,
   "id": "ea640e70",
   "metadata": {},
   "outputs": [
    {
     "data": {
      "text/latex": [
       "$\\displaystyle \\left[\\begin{matrix}t\\\\x\\\\y\\\\z\\end{matrix}\\right]$"
      ],
      "text/plain": [
       "⎡t⎤\n",
       "⎢ ⎥\n",
       "⎢x⎥\n",
       "⎢ ⎥\n",
       "⎢y⎥\n",
       "⎢ ⎥\n",
       "⎣z⎦"
      ]
     },
     "execution_count": 6,
     "metadata": {},
     "output_type": "execute_result"
    }
   ],
   "source": [
    "variables = Matrix([t,x,y,z])\n",
    "variables"
   ]
  },
  {
   "cell_type": "code",
   "execution_count": 7,
   "id": "c4bec863",
   "metadata": {},
   "outputs": [
    {
     "data": {
      "text/latex": [
       "$\\displaystyle \\left[\\begin{matrix}dt\\\\dx\\\\dy\\\\dz\\end{matrix}\\right]$"
      ],
      "text/plain": [
       "⎡dt⎤\n",
       "⎢  ⎥\n",
       "⎢dx⎥\n",
       "⎢  ⎥\n",
       "⎢dy⎥\n",
       "⎢  ⎥\n",
       "⎣dz⎦"
      ]
     },
     "execution_count": 7,
     "metadata": {},
     "output_type": "execute_result"
    }
   ],
   "source": [
    "differentials = Matrix([dt,dx,dy,dz])\n",
    "differentials "
   ]
  },
  {
   "cell_type": "code",
   "execution_count": 8,
   "id": "6a37cb64",
   "metadata": {},
   "outputs": [
    {
     "data": {
      "image/png": "[encoded data removed]",
      "text/latex": [
       "$\\displaystyle - dt^{2} f{\\left(t,z \\right)} + dx^{2} t e^{\\Phi{\\left(t,z \\right)}} + dy^{2} t e^{- \\Phi{\\left(t,z \\right)}} + dz^{2} f{\\left(t,z \\right)}$"
      ],
      "text/plain": [
       "    2             2    Φ(t, z)     2    -Φ(t, z)     2        \n",
       "- dt ⋅f(t, z) + dx ⋅t⋅ℯ        + dy ⋅t⋅ℯ         + dz ⋅f(t, z)"
      ]
     },
     "execution_count": 8,
     "metadata": {},
     "output_type": "execute_result"
    }
   ],
   "source": [
    "lineElement = expand( f*(dz**2 - dt**2) + t * (exp(Phi)*dx**2 + exp(-Phi)*dy**2)) \n",
    "lineElement"
   ]
  },
  {
   "cell_type": "code",
   "execution_count": 9,
   "id": "e5a204ba",
   "metadata": {},
   "outputs": [
    {
     "data": {
      "text/latex": [
       "$\\displaystyle \\left[\\begin{matrix}- f{\\left(t,z \\right)} & 0 & 0 & 0\\\\0 & t e^{\\Phi{\\left(t,z \\right)}} & 0 & 0\\\\0 & 0 & t e^{- \\Phi{\\left(t,z \\right)}} & 0\\\\0 & 0 & 0 & f{\\left(t,z \\right)}\\end{matrix}\\right]$"
      ],
      "text/plain": [
       "⎡-f(t, z)      0            0          0   ⎤\n",
       "⎢                                          ⎥\n",
       "⎢             Φ(t, z)                      ⎥\n",
       "⎢   0      t⋅ℯ              0          0   ⎥\n",
       "⎢                                          ⎥\n",
       "⎢                         -Φ(t, z)         ⎥\n",
       "⎢   0          0       t⋅ℯ             0   ⎥\n",
       "⎢                                          ⎥\n",
       "⎣   0          0            0       f(t, z)⎦"
      ]
     },
     "execution_count": 9,
     "metadata": {},
     "output_type": "execute_result"
    }
   ],
   "source": [
    "g = zeros(4)\n",
    "\n",
    "for i in range(4):\n",
    "    for j in range(4):\n",
    "        if i == j:\n",
    "            g[i,j] = lineElement.coeff( differentials[i],2 ) \n",
    "        else:\n",
    "            g[i,j] = Rational(1,2)*lineElement.coeff( differentials[i]*differentials[j],1 )\n",
    "            \n",
    "g"
   ]
  },
  {
   "cell_type": "code",
   "execution_count": 10,
   "id": "0a5fb430",
   "metadata": {},
   "outputs": [],
   "source": [
    "import sympy"
   ]
  },
  {
   "cell_type": "code",
   "execution_count": 11,
   "id": "bc492c23",
   "metadata": {},
   "outputs": [
    {
     "data": {
      "text/latex": [
       "$\\displaystyle \\left[\\begin{matrix}- f{\\left(t,z \\right)} & 0 & 0 & 0\\\\0 & t e^{\\Phi{\\left(t,z \\right)}} & 0 & 0\\\\0 & 0 & t e^{- \\Phi{\\left(t,z \\right)}} & 0\\\\0 & 0 & 0 & f{\\left(t,z \\right)}\\end{matrix}\\right]$"
      ],
      "text/plain": [
       "⎡-f(t, z)      0            0          0   ⎤\n",
       "⎢                                          ⎥\n",
       "⎢             Φ(t, z)                      ⎥\n",
       "⎢   0      t⋅ℯ              0          0   ⎥\n",
       "⎢                                          ⎥\n",
       "⎢                         -Φ(t, z)         ⎥\n",
       "⎢   0          0       t⋅ℯ             0   ⎥\n",
       "⎢                                          ⎥\n",
       "⎣   0          0            0       f(t, z)⎦"
      ]
     },
     "execution_count": 11,
     "metadata": {},
     "output_type": "execute_result"
    }
   ],
   "source": [
    "m = sympy.Array(g)\n",
    "m"
   ]
  },
  {
   "cell_type": "code",
   "execution_count": 12,
   "id": "beaeacf8",
   "metadata": {},
   "outputs": [],
   "source": [
    "from einsteinpy.symbolic import *"
   ]
  },
  {
   "cell_type": "code",
   "execution_count": 13,
   "id": "327c0b83",
   "metadata": {},
   "outputs": [],
   "source": [
    "syms = sympy.symbols(\"t x y z\")\n",
    "t,x,y,z = syms"
   ]
  },
  {
   "cell_type": "code",
   "execution_count": 14,
   "id": "be7a796b",
   "metadata": {},
   "outputs": [],
   "source": [
    "metric = MetricTensor(m,syms)"
   ]
  },
  {
   "cell_type": "code",
   "execution_count": 15,
   "id": "1e3fd117",
   "metadata": {},
   "outputs": [
    {
     "data": {
      "text/latex": [
       "$\\displaystyle \\left[\\begin{matrix}\\left[\\begin{matrix}\\frac{\\frac{\\partial}{\\partial t} f{\\left(t,z \\right)}}{2 f{\\left(t,z \\right)}} & 0 & 0 & \\frac{\\frac{\\partial}{\\partial z} f{\\left(t,z \\right)}}{2 f{\\left(t,z \\right)}}\\\\0 & \\frac{\\left(t \\frac{\\partial}{\\partial t} \\Phi{\\left(t,z \\right)} + 1\\right) e^{\\Phi{\\left(t,z \\right)}}}{2 f{\\left(t,z \\right)}} & 0 & 0\\\\0 & 0 & \\frac{\\left(- t \\frac{\\partial}{\\partial t} \\Phi{\\left(t,z \\right)} + 1\\right) e^{- \\Phi{\\left(t,z \\right)}}}{2 f{\\left(t,z \\right)}} & 0\\\\\\frac{\\frac{\\partial}{\\partial z} f{\\left(t,z \\right)}}{2 f{\\left(t,z \\right)}} & 0 & 0 & \\frac{\\frac{\\partial}{\\partial t} f{\\left(t,z \\right)}}{2 f{\\left(t,z \\right)}}\\end{matrix}\\right] & \\left[\\begin{matrix}0 & \\frac{t \\frac{\\partial}{\\partial t} \\Phi{\\left(t,z \\right)} + 1}{2 t} & 0 & 0\\\\\\frac{t \\frac{\\partial}{\\partial t} \\Phi{\\left(t,z \\right)} + 1}{2 t} & 0 & 0 & \\frac{\\frac{\\partial}{\\partial z} \\Phi{\\left(t,z \\right)}}{2}\\\\0 & 0 & 0 & 0\\\\0 & \\frac{\\frac{\\partial}{\\partial z} \\Phi{\\left(t,z \\right)}}{2} & 0 & 0\\end{matrix}\\right] & \\left[\\begin{matrix}0 & 0 & \\frac{- t \\frac{\\partial}{\\partial t} \\Phi{\\left(t,z \\right)} + 1}{2 t} & 0\\\\0 & 0 & 0 & 0\\\\\\frac{- t \\frac{\\partial}{\\partial t} \\Phi{\\left(t,z \\right)} + 1}{2 t} & 0 & 0 & - \\frac{\\frac{\\partial}{\\partial z} \\Phi{\\left(t,z \\right)}}{2}\\\\0 & 0 & - \\frac{\\frac{\\partial}{\\partial z} \\Phi{\\left(t,z \\right)}}{2} & 0\\end{matrix}\\right] & \\left[\\begin{matrix}\\frac{\\frac{\\partial}{\\partial z} f{\\left(t,z \\right)}}{2 f{\\left(t,z \\right)}} & 0 & 0 & \\frac{\\frac{\\partial}{\\partial t} f{\\left(t,z \\right)}}{2 f{\\left(t,z \\right)}}\\\\0 & - \\frac{t e^{\\Phi{\\left(t,z \\right)}} \\frac{\\partial}{\\partial z} \\Phi{\\left(t,z \\right)}}{2 f{\\left(t,z \\right)}} & 0 & 0\\\\0 & 0 & \\frac{t e^{- \\Phi{\\left(t,z \\right)}} \\frac{\\partial}{\\partial z} \\Phi{\\left(t,z \\right)}}{2 f{\\left(t,z \\right)}} & 0\\\\\\frac{\\frac{\\partial}{\\partial t} f{\\left(t,z \\right)}}{2 f{\\left(t,z \\right)}} & 0 & 0 & \\frac{\\frac{\\partial}{\\partial z} f{\\left(t,z \\right)}}{2 f{\\left(t,z \\right)}}\\end{matrix}\\right]\\end{matrix}\\right]$"
      ],
      "text/plain": [
       "⎡⎡∂                                                                           ∂          ⎤  \n",
       "⎢⎢──(f(t, z))                                                                 ──(f(t, z))⎥  \n",
       "⎢⎢∂t                                                                          ∂z         ⎥  \n",
       "⎢⎢───────────               0                               0                 ───────────⎥  \n",
       "⎢⎢ 2⋅f(t, z)                                                                   2⋅f(t, z) ⎥  \n",
       "⎢⎢                                                                                       ⎥  \n",
       "⎢⎢             ⎛  ∂              ⎞  Φ(t, z)                                              ⎥  \n",
       "⎢⎢             ⎜t⋅──(Φ(t, z)) + 1⎟⋅ℯ                                                     ⎥  \n",
       "⎢⎢             ⎝  ∂t             ⎠                                                       ⎥  \n",
       "⎢⎢     0       ────────────────────────────                 0                      0     ⎥  \n",
       "⎢⎢                      2⋅f(t, z)                                                        ⎥  \n",
       "⎢⎢                                                                                       ⎥  \n",
       "⎢⎢                                           ⎛    ∂              ⎞  -Φ(t, z)             ⎥  \n",
       "⎢⎢                                           ⎜- t⋅──(Φ(t, z)) + 1⎟⋅ℯ                     ⎥  \n",
       "⎢⎢                                           ⎝    ∂t             ⎠                       ⎥  \n",
       "⎢⎢     0                    0                ───────────────────────────────       0     ⎥  \n",
       "⎢⎢                                                      2⋅f(t, z)                        ⎥  \n",
       "⎢⎢                                                                                       ⎥  \n",
       "⎢⎢∂                                                                           ∂          ⎥  \n",
       "⎢⎢──(f(t, z))                                                                 ──(f(t, z))⎥  \n",
       "⎢⎢∂z                                                                          ∂t         ⎥  \n",
       "⎢⎢───────────               0                               0                 ───────────⎥  \n",
       "⎣⎣ 2⋅f(t, z)                                                                   2⋅f(t, z) ⎦  \n",
       "\n",
       "                                                                                            \n",
       "                                                                                            \n",
       "⎡                     ∂                              ⎤  ⎡                            ∂      \n",
       "⎢                   t⋅──(Φ(t, z)) + 1                ⎥  ⎢                        - t⋅──(Φ(t,\n",
       "⎢                     ∂t                             ⎥  ⎢                            ∂t     \n",
       "⎢        0          ─────────────────  0       0     ⎥  ⎢         0           0  ───────────\n",
       "⎢                          2⋅t                       ⎥  ⎢                                2⋅t\n",
       "⎢                                                    ⎥  ⎢                                   \n",
       "⎢  ∂                                      ∂          ⎥  ⎢         0           0           0 \n",
       "⎢t⋅──(Φ(t, z)) + 1                        ──(Φ(t, z))⎥  ⎢                                   \n",
       "⎢  ∂t                                     ∂z         ⎥  ⎢    ∂                              \n",
       "⎢─────────────────          0          0  ───────────⎥  ⎢- t⋅──(Φ(t, z)) + 1                \n",
       "⎢       2⋅t                                    2     ⎥  ⎢    ∂t                             \n",
       "⎢                                                    ⎥  ⎢───────────────────  0           0 \n",
       "⎢        0                  0          0       0     ⎥  ⎢        2⋅t                        \n",
       "⎢                                                    ⎥  ⎢                                   \n",
       "⎢                      ∂                             ⎥  ⎢                            ∂      \n",
       "⎢                      ──(Φ(t, z))                   ⎥  ⎢                           -──(Φ(t,\n",
       "⎢                      ∂z                            ⎥  ⎢                            ∂z     \n",
       "⎢        0             ───────────     0       0     ⎥  ⎢         0           0     ────────\n",
       "⎣                           2                        ⎦  ⎣                                 2 \n",
       "                                                                                            \n",
       "                                                                                            \n",
       "\n",
       "                          ⎡∂                                                               ∂\n",
       "                          ⎢──(f(t, z))                                                     ─\n",
       "                       ⎤  ⎢∂z                                                              ∂\n",
       " z)) + 1               ⎥  ⎢───────────             0                         0             ─\n",
       "                       ⎥  ⎢ 2⋅f(t, z)                                                       \n",
       "────────        0      ⎥  ⎢                                                                 \n",
       "                       ⎥  ⎢                 Φ(t, z) ∂                                       \n",
       "                       ⎥  ⎢             -t⋅ℯ       ⋅──(Φ(t, z))                             \n",
       "                0      ⎥  ⎢                         ∂z                                      \n",
       "                       ⎥  ⎢     0       ────────────────────────             0              \n",
       "           ∂           ⎥  ⎢                    2⋅f(t, z)                                    \n",
       "          -──(Φ(t, z)) ⎥  ⎢                                                                 \n",
       "           ∂z          ⎥  ⎢                                          -Φ(t, z) ∂             \n",
       "          ─────────────⎥  ⎢                                       t⋅ℯ        ⋅──(Φ(t, z))   \n",
       "                2      ⎥  ⎢                                                   ∂z            \n",
       "                       ⎥  ⎢     0                  0              ───────────────────────   \n",
       "                       ⎥  ⎢                                              2⋅f(t, z)          \n",
       " z))                   ⎥  ⎢                                                                 \n",
       "                       ⎥  ⎢∂                                                               ∂\n",
       "─────           0      ⎥  ⎢──(f(t, z))                                                     ─\n",
       "                       ⎦  ⎢∂t                                                              ∂\n",
       "                          ⎢───────────             0                         0             ─\n",
       "                          ⎣ 2⋅f(t, z)                                                       \n",
       "\n",
       "          ⎤⎤\n",
       "─(f(t, z))⎥⎥\n",
       "t         ⎥⎥\n",
       "──────────⎥⎥\n",
       "2⋅f(t, z) ⎥⎥\n",
       "          ⎥⎥\n",
       "          ⎥⎥\n",
       "          ⎥⎥\n",
       "          ⎥⎥\n",
       "    0     ⎥⎥\n",
       "          ⎥⎥\n",
       "          ⎥⎥\n",
       "          ⎥⎥\n",
       "          ⎥⎥\n",
       "          ⎥⎥\n",
       "    0     ⎥⎥\n",
       "          ⎥⎥\n",
       "          ⎥⎥\n",
       "          ⎥⎥\n",
       "─(f(t, z))⎥⎥\n",
       "z         ⎥⎥\n",
       "──────────⎥⎥\n",
       "2⋅f(t, z) ⎦⎦"
      ]
     },
     "execution_count": 15,
     "metadata": {},
     "output_type": "execute_result"
    }
   ],
   "source": [
    "ch = ChristoffelSymbols.from_metric(metric)\n",
    "simplify(ch.tensor())"
   ]
  },
  {
   "cell_type": "code",
   "execution_count": 16,
   "id": "a5aa4174",
   "metadata": {},
   "outputs": [
    {
     "data": {
      "text/latex": [
       "$\\displaystyle \\left[\\begin{matrix}\\frac{t^{2} \\left(- \\left(\\frac{\\partial^{2}}{\\partial t^{2}} f{\\left(t,z \\right)} - \\frac{\\partial^{2}}{\\partial z^{2}} f{\\left(t,z \\right)}\\right) f{\\left(t,z \\right)} + \\left(\\frac{\\partial}{\\partial t} f{\\left(t,z \\right)}\\right)^{2} - \\left(\\frac{\\partial}{\\partial z} f{\\left(t,z \\right)}\\right)^{2}\\right) - t^{2} f^{2}{\\left(t,z \\right)} \\left(\\frac{\\partial}{\\partial t} \\Phi{\\left(t,z \\right)}\\right)^{2} + t f{\\left(t,z \\right)} \\frac{\\partial}{\\partial t} f{\\left(t,z \\right)} + f^{2}{\\left(t,z \\right)}}{2 t^{2} f^{2}{\\left(t,z \\right)}} & 0 & 0 & - \\frac{\\frac{\\partial}{\\partial t} \\Phi{\\left(t,z \\right)} \\frac{\\partial}{\\partial z} \\Phi{\\left(t,z \\right)}}{2} + \\frac{\\frac{\\partial}{\\partial z} f{\\left(t,z \\right)}}{2 t f{\\left(t,z \\right)}}\\\\0 & \\frac{\\left(t \\frac{\\partial^{2}}{\\partial t^{2}} \\Phi{\\left(t,z \\right)} - t \\frac{\\partial^{2}}{\\partial z^{2}} \\Phi{\\left(t,z \\right)} + \\frac{\\partial}{\\partial t} \\Phi{\\left(t,z \\right)}\\right) e^{\\Phi{\\left(t,z \\right)}}}{2 f{\\left(t,z \\right)}} & 0 & 0\\\\0 & 0 & \\frac{\\left(- t \\frac{\\partial^{2}}{\\partial t^{2}} \\Phi{\\left(t,z \\right)} + t \\frac{\\partial^{2}}{\\partial z^{2}} \\Phi{\\left(t,z \\right)} - \\frac{\\partial}{\\partial t} \\Phi{\\left(t,z \\right)}\\right) e^{- \\Phi{\\left(t,z \\right)}}}{2 f{\\left(t,z \\right)}} & 0\\\\- \\frac{\\frac{\\partial}{\\partial t} \\Phi{\\left(t,z \\right)} \\frac{\\partial}{\\partial z} \\Phi{\\left(t,z \\right)}}{2} + \\frac{\\frac{\\partial}{\\partial z} f{\\left(t,z \\right)}}{2 t f{\\left(t,z \\right)}} & 0 & 0 & \\frac{- t f^{2}{\\left(t,z \\right)} \\left(\\frac{\\partial}{\\partial z} \\Phi{\\left(t,z \\right)}\\right)^{2} + t f{\\left(t,z \\right)} \\frac{\\partial^{2}}{\\partial t^{2}} f{\\left(t,z \\right)} - t f{\\left(t,z \\right)} \\frac{\\partial^{2}}{\\partial z^{2}} f{\\left(t,z \\right)} - t \\left(\\frac{\\partial}{\\partial t} f{\\left(t,z \\right)}\\right)^{2} + t \\left(\\frac{\\partial}{\\partial z} f{\\left(t,z \\right)}\\right)^{2} + f{\\left(t,z \\right)} \\frac{\\partial}{\\partial t} f{\\left(t,z \\right)}}{2 t f^{2}{\\left(t,z \\right)}}\\end{matrix}\\right]$"
      ],
      "text/plain": [
       "⎡   ⎛  ⎛  2              2         ⎞                        2                2⎞             \n",
       "⎢ 2 ⎜  ⎜ ∂              ∂          ⎟           ⎛∂          ⎞    ⎛∂          ⎞ ⎟    2  2     \n",
       "⎢t ⋅⎜- ⎜───(f(t, z)) - ───(f(t, z))⎟⋅f(t, z) + ⎜──(f(t, z))⎟  - ⎜──(f(t, z))⎟ ⎟ - t ⋅f (t, z\n",
       "⎢   ⎜  ⎜  2              2         ⎟           ⎝∂t         ⎠    ⎝∂z         ⎠ ⎟             \n",
       "⎢   ⎝  ⎝∂t             ∂z          ⎠                                          ⎠             \n",
       "⎢───────────────────────────────────────────────────────────────────────────────────────────\n",
       "⎢                                                                   2  2                    \n",
       "⎢                                                                2⋅t ⋅f (t, z)              \n",
       "⎢                                                                                           \n",
       "⎢                                                                                           \n",
       "⎢                                                                                           \n",
       "⎢                                                                                           \n",
       "⎢                                                                                           \n",
       "⎢                                                                                           \n",
       "⎢                                                                      0                    \n",
       "⎢                                                                                           \n",
       "⎢                                                                                           \n",
       "⎢                                                                                           \n",
       "⎢                                                                                           \n",
       "⎢                                                                                           \n",
       "⎢                                                                                           \n",
       "⎢                                                                                           \n",
       "⎢                                                                      0                    \n",
       "⎢                                                                                           \n",
       "⎢                                                                                           \n",
       "⎢                                                                                           \n",
       "⎢                                                                                           \n",
       "⎢                                                     ∂           ∂             ∂           \n",
       "⎢                                                     ──(Φ(t, z))⋅──(Φ(t, z))   ──(f(t, z)) \n",
       "⎢                                                     ∂t          ∂z            ∂z          \n",
       "⎢                                                   - ─────────────────────── + ─────────── \n",
       "⎢                                                                2              2⋅t⋅f(t, z) \n",
       "⎣                                                                                           \n",
       "\n",
       "               2                                                                            \n",
       "  ⎛∂          ⎞              ∂              2                                               \n",
       ")⋅⎜──(Φ(t, z))⎟  + t⋅f(t, z)⋅──(f(t, z)) + f (t, z)                                         \n",
       "  ⎝∂t         ⎠              ∂t                                                             \n",
       "                                                                                            \n",
       "───────────────────────────────────────────────────                             0           \n",
       "                                                                                            \n",
       "                                                                                            \n",
       "                                                                                            \n",
       "                                                     ⎛    2                2                \n",
       "                                                     ⎜   ∂                ∂             ∂   \n",
       "                                                     ⎜t⋅───(Φ(t, z)) - t⋅───(Φ(t, z)) + ──(Φ\n",
       "                                                     ⎜    2                2            ∂t  \n",
       "                                                     ⎝  ∂t               ∂z                 \n",
       "                                                     ───────────────────────────────────────\n",
       "                                                                            2⋅f(t, z)       \n",
       "                                                                                            \n",
       "                                                                                            \n",
       "                                                                                            \n",
       "                                                                                            \n",
       "                                                                                            \n",
       "                                                                                            \n",
       "                                                                                0           \n",
       "                                                                                            \n",
       "                                                                                            \n",
       "                                                                                            \n",
       "                                                                                            \n",
       "                                                                                            \n",
       "                                                                                            \n",
       "                                                                                            \n",
       "                                                                                0           \n",
       "                                                                                            \n",
       "                                                                                            \n",
       "\n",
       "                                                                                            \n",
       "                                                                                            \n",
       "                                                                                            \n",
       "                                                                                            \n",
       "                                                                                            \n",
       "                                                0                                           \n",
       "                                                                                            \n",
       "                                                                                            \n",
       "                                                                                            \n",
       "       ⎞                                                                                    \n",
       "       ⎟  Φ(t, z)                                                                           \n",
       "(t, z))⎟⋅ℯ                                                                                  \n",
       "       ⎟                                                                                    \n",
       "       ⎠                                                                                    \n",
       "─────────────────                               0                                           \n",
       "                                                                                            \n",
       "                                                                                            \n",
       "                   ⎛      2                2                       ⎞                        \n",
       "                   ⎜     ∂                ∂             ∂          ⎟  -Φ(t, z)              \n",
       "                   ⎜- t⋅───(Φ(t, z)) + t⋅───(Φ(t, z)) - ──(Φ(t, z))⎟⋅ℯ                      \n",
       "                   ⎜      2                2            ∂t         ⎟                        \n",
       "                   ⎝    ∂t               ∂z                        ⎠                        \n",
       "                   ───────────────────────────────────────────────────────────              \n",
       "                                            2⋅f(t, z)                                       \n",
       "                                                                                            \n",
       "                                                                                            \n",
       "                                                                                     2      \n",
       "                                                                                - t⋅f (t, z)\n",
       "                                                                                            \n",
       "                                                                                            \n",
       "                                                0                               ────────────\n",
       "                                                                                            \n",
       "                                                                                            \n",
       "\n",
       "                                                                                            \n",
       "                                                                                            \n",
       "                                       ∂           ∂             ∂                          \n",
       "                                       ──(Φ(t, z))⋅──(Φ(t, z))   ──(f(t, z))                \n",
       "                                       ∂t          ∂z            ∂z                         \n",
       "                                     - ─────────────────────── + ───────────                \n",
       "                                                  2              2⋅t⋅f(t, z)                \n",
       "                                                                                            \n",
       "                                                                                            \n",
       "                                                                                            \n",
       "                                                                                            \n",
       "                                                                                            \n",
       "                                                                                            \n",
       "                                                                                            \n",
       "                                                        0                                   \n",
       "                                                                                            \n",
       "                                                                                            \n",
       "                                                                                            \n",
       "                                                                                            \n",
       "                                                                                            \n",
       "                                                                                            \n",
       "                                                                                            \n",
       "                                                        0                                   \n",
       "                                                                                            \n",
       "                                                                                            \n",
       "              2               2                        2                           2        \n",
       " ⎛∂          ⎞               ∂                        ∂               ⎛∂          ⎞      ⎛∂ \n",
       "⋅⎜──(Φ(t, z))⎟  + t⋅f(t, z)⋅───(f(t, z)) - t⋅f(t, z)⋅───(f(t, z)) - t⋅⎜──(f(t, z))⎟  + t⋅⎜──\n",
       " ⎝∂z         ⎠                2                        2              ⎝∂t         ⎠      ⎝∂z\n",
       "                            ∂t                       ∂z                                     \n",
       "────────────────────────────────────────────────────────────────────────────────────────────\n",
       "                                                        2                                   \n",
       "                                                   2⋅t⋅f (t, z)                             \n",
       "\n",
       "                                 ⎤\n",
       "                                 ⎥\n",
       "                                 ⎥\n",
       "                                 ⎥\n",
       "                                 ⎥\n",
       "                                 ⎥\n",
       "                                 ⎥\n",
       "                                 ⎥\n",
       "                                 ⎥\n",
       "                                 ⎥\n",
       "                                 ⎥\n",
       "                                 ⎥\n",
       "                                 ⎥\n",
       "                                 ⎥\n",
       "                                 ⎥\n",
       "                                 ⎥\n",
       "                                 ⎥\n",
       "                                 ⎥\n",
       "                                 ⎥\n",
       "                                 ⎥\n",
       "                                 ⎥\n",
       "                                 ⎥\n",
       "                                 ⎥\n",
       "                                 ⎥\n",
       "                                 ⎥\n",
       "          2                      ⎥\n",
       "         ⎞            ∂          ⎥\n",
       "(f(t, z))⎟  + f(t, z)⋅──(f(t, z))⎥\n",
       "         ⎠            ∂t         ⎥\n",
       "                                 ⎥\n",
       "─────────────────────────────────⎥\n",
       "                                 ⎥\n",
       "                                 ⎦"
      ]
     },
     "execution_count": 16,
     "metadata": {},
     "output_type": "execute_result"
    }
   ],
   "source": [
    "Ric = RicciTensor.from_metric(metric)\n",
    "Ric.tensor()"
   ]
  },
  {
   "cell_type": "code",
   "execution_count": 17,
   "id": "48168273",
   "metadata": {},
   "outputs": [
    {
     "data": {
      "image/png": "[encoded data removed]",
      "text/latex": [
       "$\\displaystyle \\frac{t^{2} \\left(\\left(\\frac{\\partial}{\\partial t} \\Phi{\\left(t,z \\right)}\\right)^{2} - \\left(\\frac{\\partial}{\\partial z} \\Phi{\\left(t,z \\right)}\\right)^{2}\\right) f^{2}{\\left(t,z \\right)} + 2 t^{2} \\left(- \\left(\\frac{\\partial}{\\partial t} f{\\left(t,z \\right)}\\right)^{2} + \\left(\\frac{\\partial}{\\partial z} f{\\left(t,z \\right)}\\right)^{2}\\right) + 2 t^{2} \\left(\\frac{\\partial^{2}}{\\partial t^{2}} f{\\left(t,z \\right)} - \\frac{\\partial^{2}}{\\partial z^{2}} f{\\left(t,z \\right)}\\right) f{\\left(t,z \\right)} - f^{2}{\\left(t,z \\right)}}{2 t^{2} f^{3}{\\left(t,z \\right)}}$"
      ],
      "text/plain": [
       "   ⎛             2                2⎞                 ⎛               2                2⎞    \n",
       " 2 ⎜⎛∂          ⎞    ⎛∂          ⎞ ⎟  2            2 ⎜  ⎛∂          ⎞    ⎛∂          ⎞ ⎟    \n",
       "t ⋅⎜⎜──(Φ(t, z))⎟  - ⎜──(Φ(t, z))⎟ ⎟⋅f (t, z) + 2⋅t ⋅⎜- ⎜──(f(t, z))⎟  + ⎜──(f(t, z))⎟ ⎟ + 2\n",
       "   ⎝⎝∂t         ⎠    ⎝∂z         ⎠ ⎠                 ⎝  ⎝∂t         ⎠    ⎝∂z         ⎠ ⎠    \n",
       "                                                                                            \n",
       "────────────────────────────────────────────────────────────────────────────────────────────\n",
       "                                                                    2  3                    \n",
       "                                                                 2⋅t ⋅f (t, z)              \n",
       "\n",
       "    ⎛  2              2         ⎞                   \n",
       "  2 ⎜ ∂              ∂          ⎟            2      \n",
       "⋅t ⋅⎜───(f(t, z)) - ───(f(t, z))⎟⋅f(t, z) - f (t, z)\n",
       "    ⎜  2              2         ⎟                   \n",
       "    ⎝∂t             ∂z          ⎠                   \n",
       "────────────────────────────────────────────────────\n",
       "                                                    \n",
       "                                                    "
      ]
     },
     "execution_count": 17,
     "metadata": {},
     "output_type": "execute_result"
    }
   ],
   "source": [
    "R = RicciScalar.from_riccitensor(Ric)\n",
    "R.simplify()\n",
    "R.expr"
   ]
  },
  {
   "cell_type": "code",
   "execution_count": 18,
   "id": "c22e7464",
   "metadata": {},
   "outputs": [
    {
     "data": {
      "text/latex": [
       "$\\displaystyle \\left[\\begin{matrix}0.5 \\left(\\frac{\\left(\\frac{\\partial}{\\partial t} \\Phi{\\left(t,z \\right)}\\right)^{2}}{2 f{\\left(t,z \\right)}} - \\frac{\\left(\\frac{\\partial}{\\partial z} \\Phi{\\left(t,z \\right)}\\right)^{2}}{2 f{\\left(t,z \\right)}} + \\frac{\\frac{\\partial^{2}}{\\partial t^{2}} f{\\left(t,z \\right)}}{f^{2}{\\left(t,z \\right)}} - \\frac{\\frac{\\partial^{2}}{\\partial z^{2}} f{\\left(t,z \\right)}}{f^{2}{\\left(t,z \\right)}} - \\frac{\\left(\\frac{\\partial}{\\partial t} f{\\left(t,z \\right)}\\right)^{2}}{f^{3}{\\left(t,z \\right)}} + \\frac{\\left(\\frac{\\partial}{\\partial z} f{\\left(t,z \\right)}\\right)^{2}}{f^{3}{\\left(t,z \\right)}} - \\frac{1}{2 t^{2} f{\\left(t,z \\right)}}\\right) f{\\left(t,z \\right)} + \\frac{t^{2} \\left(- \\left(\\frac{\\partial^{2}}{\\partial t^{2}} f{\\left(t,z \\right)} - \\frac{\\partial^{2}}{\\partial z^{2}} f{\\left(t,z \\right)}\\right) f{\\left(t,z \\right)} + \\left(\\frac{\\partial}{\\partial t} f{\\left(t,z \\right)}\\right)^{2} - \\left(\\frac{\\partial}{\\partial z} f{\\left(t,z \\right)}\\right)^{2}\\right) - t^{2} f^{2}{\\left(t,z \\right)} \\left(\\frac{\\partial}{\\partial t} \\Phi{\\left(t,z \\right)}\\right)^{2} + t f{\\left(t,z \\right)} \\frac{\\partial}{\\partial t} f{\\left(t,z \\right)} + f^{2}{\\left(t,z \\right)}}{2 t^{2} f^{2}{\\left(t,z \\right)}} & 0 & 0 & - \\frac{\\frac{\\partial}{\\partial t} \\Phi{\\left(t,z \\right)} \\frac{\\partial}{\\partial z} \\Phi{\\left(t,z \\right)}}{2} + \\frac{\\frac{\\partial}{\\partial z} f{\\left(t,z \\right)}}{2 t f{\\left(t,z \\right)}}\\\\0 & - 0.5 t \\left(\\frac{\\left(\\frac{\\partial}{\\partial t} \\Phi{\\left(t,z \\right)}\\right)^{2}}{2 f{\\left(t,z \\right)}} - \\frac{\\left(\\frac{\\partial}{\\partial z} \\Phi{\\left(t,z \\right)}\\right)^{2}}{2 f{\\left(t,z \\right)}} + \\frac{\\frac{\\partial^{2}}{\\partial t^{2}} f{\\left(t,z \\right)}}{f^{2}{\\left(t,z \\right)}} - \\frac{\\frac{\\partial^{2}}{\\partial z^{2}} f{\\left(t,z \\right)}}{f^{2}{\\left(t,z \\right)}} - \\frac{\\left(\\frac{\\partial}{\\partial t} f{\\left(t,z \\right)}\\right)^{2}}{f^{3}{\\left(t,z \\right)}} + \\frac{\\left(\\frac{\\partial}{\\partial z} f{\\left(t,z \\right)}\\right)^{2}}{f^{3}{\\left(t,z \\right)}} - \\frac{1}{2 t^{2} f{\\left(t,z \\right)}}\\right) e^{\\Phi{\\left(t,z \\right)}} + \\frac{\\left(t \\frac{\\partial^{2}}{\\partial t^{2}} \\Phi{\\left(t,z \\right)} - t \\frac{\\partial^{2}}{\\partial z^{2}} \\Phi{\\left(t,z \\right)} + \\frac{\\partial}{\\partial t} \\Phi{\\left(t,z \\right)}\\right) e^{\\Phi{\\left(t,z \\right)}}}{2 f{\\left(t,z \\right)}} & 0 & 0\\\\0 & 0 & - 0.5 t \\left(\\frac{\\left(\\frac{\\partial}{\\partial t} \\Phi{\\left(t,z \\right)}\\right)^{2}}{2 f{\\left(t,z \\right)}} - \\frac{\\left(\\frac{\\partial}{\\partial z} \\Phi{\\left(t,z \\right)}\\right)^{2}}{2 f{\\left(t,z \\right)}} + \\frac{\\frac{\\partial^{2}}{\\partial t^{2}} f{\\left(t,z \\right)}}{f^{2}{\\left(t,z \\right)}} - \\frac{\\frac{\\partial^{2}}{\\partial z^{2}} f{\\left(t,z \\right)}}{f^{2}{\\left(t,z \\right)}} - \\frac{\\left(\\frac{\\partial}{\\partial t} f{\\left(t,z \\right)}\\right)^{2}}{f^{3}{\\left(t,z \\right)}} + \\frac{\\left(\\frac{\\partial}{\\partial z} f{\\left(t,z \\right)}\\right)^{2}}{f^{3}{\\left(t,z \\right)}} - \\frac{1}{2 t^{2} f{\\left(t,z \\right)}}\\right) e^{- \\Phi{\\left(t,z \\right)}} + \\frac{\\left(- t \\frac{\\partial^{2}}{\\partial t^{2}} \\Phi{\\left(t,z \\right)} + t \\frac{\\partial^{2}}{\\partial z^{2}} \\Phi{\\left(t,z \\right)} - \\frac{\\partial}{\\partial t} \\Phi{\\left(t,z \\right)}\\right) e^{- \\Phi{\\left(t,z \\right)}}}{2 f{\\left(t,z \\right)}} & 0\\\\- \\frac{\\frac{\\partial}{\\partial t} \\Phi{\\left(t,z \\right)} \\frac{\\partial}{\\partial z} \\Phi{\\left(t,z \\right)}}{2} + \\frac{\\frac{\\partial}{\\partial z} f{\\left(t,z \\right)}}{2 t f{\\left(t,z \\right)}} & 0 & 0 & - 0.5 \\left(\\frac{\\left(\\frac{\\partial}{\\partial t} \\Phi{\\left(t,z \\right)}\\right)^{2}}{2 f{\\left(t,z \\right)}} - \\frac{\\left(\\frac{\\partial}{\\partial z} \\Phi{\\left(t,z \\right)}\\right)^{2}}{2 f{\\left(t,z \\right)}} + \\frac{\\frac{\\partial^{2}}{\\partial t^{2}} f{\\left(t,z \\right)}}{f^{2}{\\left(t,z \\right)}} - \\frac{\\frac{\\partial^{2}}{\\partial z^{2}} f{\\left(t,z \\right)}}{f^{2}{\\left(t,z \\right)}} - \\frac{\\left(\\frac{\\partial}{\\partial t} f{\\left(t,z \\right)}\\right)^{2}}{f^{3}{\\left(t,z \\right)}} + \\frac{\\left(\\frac{\\partial}{\\partial z} f{\\left(t,z \\right)}\\right)^{2}}{f^{3}{\\left(t,z \\right)}} - \\frac{1}{2 t^{2} f{\\left(t,z \\right)}}\\right) f{\\left(t,z \\right)} + \\frac{- t f^{2}{\\left(t,z \\right)} \\left(\\frac{\\partial}{\\partial z} \\Phi{\\left(t,z \\right)}\\right)^{2} + t f{\\left(t,z \\right)} \\frac{\\partial^{2}}{\\partial t^{2}} f{\\left(t,z \\right)} - t f{\\left(t,z \\right)} \\frac{\\partial^{2}}{\\partial z^{2}} f{\\left(t,z \\right)} - t \\left(\\frac{\\partial}{\\partial t} f{\\left(t,z \\right)}\\right)^{2} + t \\left(\\frac{\\partial}{\\partial z} f{\\left(t,z \\right)}\\right)^{2} + f{\\left(t,z \\right)} \\frac{\\partial}{\\partial t} f{\\left(t,z \\right)}}{2 t f^{2}{\\left(t,z \\right)}}\\end{matrix}\\right]$"
      ],
      "text/plain": [
       "⎡    ⎛                                    2              2                                  \n",
       "⎢    ⎜             2                2    ∂              ∂                          2        \n",
       "⎢    ⎜⎛∂          ⎞    ⎛∂          ⎞    ───(f(t, z))   ───(f(t, z))   ⎛∂          ⎞    ⎛∂   \n",
       "⎢    ⎜⎜──(Φ(t, z))⎟    ⎜──(Φ(t, z))⎟      2              2            ⎜──(f(t, z))⎟    ⎜──(f\n",
       "⎢    ⎜⎝∂t         ⎠    ⎝∂z         ⎠    ∂t             ∂z             ⎝∂t         ⎠    ⎝∂z  \n",
       "⎢0.5⋅⎜────────────── - ────────────── + ──────────── - ──────────── - ────────────── + ─────\n",
       "⎢    ⎜  2⋅f(t, z)        2⋅f(t, z)         2              2               3                3\n",
       "⎢    ⎝                                    f (t, z)       f (t, z)        f (t, z)         f \n",
       "⎢                                                                                           \n",
       "⎢                                                                                           \n",
       "⎢                                                                                           \n",
       "⎢                                                                                           \n",
       "⎢                                                                                           \n",
       "⎢                                                                                           \n",
       "⎢                                                                                           \n",
       "⎢                                                                                           \n",
       "⎢                                                                                           \n",
       "⎢                                                                                           \n",
       "⎢                                                                                           \n",
       "⎢                                                                                           \n",
       "⎢                                                                                           \n",
       "⎢                                                                                           \n",
       "⎢                                                                                           \n",
       "⎢                                                                                           \n",
       "⎢                                                                                           \n",
       "⎢                                                                                           \n",
       "⎢                                                                                           \n",
       "⎢                                                                                           \n",
       "⎢                                                                                           \n",
       "⎢                                                                                           \n",
       "⎢                                                                                           \n",
       "⎢                                                                                           \n",
       "⎢                                                                                           \n",
       "⎢                                                                                           \n",
       "⎣                                                                                           \n",
       "\n",
       "                        ⎞              ⎛  ⎛  2              2         ⎞                     \n",
       "        2               ⎟            2 ⎜  ⎜ ∂              ∂          ⎟           ⎛∂        \n",
       "       ⎞                ⎟           t ⋅⎜- ⎜───(f(t, z)) - ───(f(t, z))⎟⋅f(t, z) + ⎜──(f(t, z\n",
       "(t, z))⎟                ⎟              ⎜  ⎜  2              2         ⎟           ⎝∂t       \n",
       "       ⎠         1      ⎟              ⎝  ⎝∂t             ∂z          ⎠                     \n",
       "───────── - ────────────⎟⋅f(t, z) + ────────────────────────────────────────────────────────\n",
       "               2        ⎟                                                                   \n",
       "(t, z)      2⋅t ⋅f(t, z)⎠                                                                   \n",
       "                                                                                            \n",
       "                                                                                            \n",
       "                                                                                            \n",
       "                                                                                            \n",
       "                                                                                            \n",
       "                                                                                            \n",
       "                                           0                                                \n",
       "                                                                                            \n",
       "                                                                                            \n",
       "                                                                                            \n",
       "                                                                                            \n",
       "                                                                                            \n",
       "                                                                                            \n",
       "                                                                                            \n",
       "                                                                                            \n",
       "                                           0                                                \n",
       "                                                                                            \n",
       "                                                                                            \n",
       "                                                                                            \n",
       "                                                                                            \n",
       "                                                                                            \n",
       "                          ∂           ∂             ∂                                       \n",
       "                          ──(Φ(t, z))⋅──(Φ(t, z))   ──(f(t, z))                             \n",
       "                          ∂t          ∂z            ∂z                                      \n",
       "                        - ─────────────────────── + ───────────                             \n",
       "                                     2              2⋅t⋅f(t, z)                             \n",
       "                                                                                            \n",
       "\n",
       "   2                2⎞                            2                                         \n",
       "  ⎞    ⎛∂          ⎞ ⎟    2  2       ⎛∂          ⎞              ∂              2            \n",
       "))⎟  - ⎜──(f(t, z))⎟ ⎟ - t ⋅f (t, z)⋅⎜──(Φ(t, z))⎟  + t⋅f(t, z)⋅──(f(t, z)) + f (t, z)      \n",
       "  ⎠    ⎝∂z         ⎠ ⎟               ⎝∂t         ⎠              ∂t                          \n",
       "                     ⎠                                                                      \n",
       "──────────────────────────────────────────────────────────────────────────────────────      \n",
       "           2  2                                                                             \n",
       "        2⋅t ⋅f (t, z)                                                                       \n",
       "                                                                                            \n",
       "                                                                                            \n",
       "                                                                                            \n",
       "                                                                                            \n",
       "                                                                                            \n",
       "                                                                                            \n",
       "                                                                                        - 0.\n",
       "                                                                                            \n",
       "                                                                                            \n",
       "                                                                                            \n",
       "                                                                                            \n",
       "                                                                                            \n",
       "                                                                                            \n",
       "                                                                                            \n",
       "                                                                                            \n",
       "                                                                                            \n",
       "                                                                                            \n",
       "                                                                                            \n",
       "                                                                                            \n",
       "                                                                                            \n",
       "                                                                                            \n",
       "                                                                                            \n",
       "                                                                                            \n",
       "                                                                                            \n",
       "                                                                                            \n",
       "                                                                                            \n",
       "                                                                                            \n",
       "\n",
       "                                                                                            \n",
       "                                                                                            \n",
       "                                                                                            \n",
       "                                                                                            \n",
       "                                                                                            \n",
       "                                                                                         0  \n",
       "                                                                                            \n",
       "                                                                                            \n",
       "                                                                                            \n",
       "    ⎛                                    2              2                                   \n",
       "    ⎜             2                2    ∂              ∂                          2         \n",
       "    ⎜⎛∂          ⎞    ⎛∂          ⎞    ───(f(t, z))   ───(f(t, z))   ⎛∂          ⎞    ⎛∂    \n",
       "    ⎜⎜──(Φ(t, z))⎟    ⎜──(Φ(t, z))⎟      2              2            ⎜──(f(t, z))⎟    ⎜──(f(\n",
       "    ⎜⎝∂t         ⎠    ⎝∂z         ⎠    ∂t             ∂z             ⎝∂t         ⎠    ⎝∂z   \n",
       "5⋅t⋅⎜────────────── - ────────────── + ──────────── - ──────────── - ────────────── + ──────\n",
       "    ⎜  2⋅f(t, z)        2⋅f(t, z)         2              2               3                3 \n",
       "    ⎝                                    f (t, z)       f (t, z)        f (t, z)         f (\n",
       "                                                                                            \n",
       "                                                                                            \n",
       "                                                                                            \n",
       "                                                                                            \n",
       "                                                                                            \n",
       "                                                                                            \n",
       "                                                                                         0  \n",
       "                                                                                            \n",
       "                                                                                            \n",
       "                                                                                            \n",
       "                                                                                            \n",
       "                                                                                            \n",
       "                                                                                            \n",
       "                                                                                            \n",
       "                                                                                            \n",
       "                                                                                         0  \n",
       "                                                                                            \n",
       "                                                                                            \n",
       "\n",
       "                                                                                            \n",
       "                                                                                            \n",
       "                                                                                            \n",
       "                                                                                            \n",
       "                                                                                            \n",
       "                                                                                            \n",
       "                                                                                            \n",
       "                                                                                            \n",
       "                                                                                            \n",
       "                       ⎞            ⎛    2                2                       ⎞         \n",
       "       2               ⎟            ⎜   ∂                ∂             ∂          ⎟  Φ(t, z)\n",
       "      ⎞                ⎟            ⎜t⋅───(Φ(t, z)) - t⋅───(Φ(t, z)) + ──(Φ(t, z))⎟⋅ℯ       \n",
       "t, z))⎟                ⎟            ⎜    2                2            ∂t         ⎟         \n",
       "      ⎠         1      ⎟  Φ(t, z)   ⎝  ∂t               ∂z                        ⎠         \n",
       "──────── - ────────────⎟⋅ℯ        + ────────────────────────────────────────────────────────\n",
       "              2        ⎟                                   2⋅f(t, z)                        \n",
       "t, z)      2⋅t ⋅f(t, z)⎠                                                                    \n",
       "                                                                                            \n",
       "                                                                                            \n",
       "                                                                                            \n",
       "                                                                                            \n",
       "                                                                                            \n",
       "                                                                                            \n",
       "                                                                                            \n",
       "                                                                                            \n",
       "                                                                                            \n",
       "                                                                                            \n",
       "                                                                                            \n",
       "                                                                                            \n",
       "                                                                                            \n",
       "                                                                                            \n",
       "                                                                                            \n",
       "                                                                                            \n",
       "                                                                                            \n",
       "                                                                                            \n",
       "\n",
       "                                                                                            \n",
       "                                                                                            \n",
       "                                                                                            \n",
       "                                                                                            \n",
       "                                                                                            \n",
       "                                                                                            \n",
       "                                                                                            \n",
       "                                                                                            \n",
       "                                                                                            \n",
       "                                                                                            \n",
       "                                                                                            \n",
       "                                                                                            \n",
       "                                                                                            \n",
       "                                                                                            \n",
       "                                                                                            \n",
       "                                                                                            \n",
       "                                                                                            \n",
       "                                                                                            \n",
       "          ⎛                                    2              2                             \n",
       "          ⎜             2                2    ∂              ∂                          2   \n",
       "          ⎜⎛∂          ⎞    ⎛∂          ⎞    ───(f(t, z))   ───(f(t, z))   ⎛∂          ⎞    \n",
       "          ⎜⎜──(Φ(t, z))⎟    ⎜──(Φ(t, z))⎟      2              2            ⎜──(f(t, z))⎟    \n",
       "          ⎜⎝∂t         ⎠    ⎝∂z         ⎠    ∂t             ∂z             ⎝∂t         ⎠    \n",
       "  - 0.5⋅t⋅⎜────────────── - ────────────── + ──────────── - ──────────── - ────────────── + \n",
       "          ⎜  2⋅f(t, z)        2⋅f(t, z)         2              2               3            \n",
       "          ⎝                                    f (t, z)       f (t, z)        f (t, z)      \n",
       "                                                                                            \n",
       "                                                                                            \n",
       "                                                                                            \n",
       "                                                                                            \n",
       "                                                                                            \n",
       "                                                                                            \n",
       "                                                                                            \n",
       "                                                                                            \n",
       "                                                                                            \n",
       "\n",
       "                                                                                            \n",
       "                                                                                            \n",
       "                                                                                            \n",
       "                                                                                            \n",
       "                                                                                            \n",
       "     0                                                                                      \n",
       "                                                                                            \n",
       "                                                                                            \n",
       "                                                                                            \n",
       "                                                                                            \n",
       "                                                                                            \n",
       "                                                                                            \n",
       "                                                                                            \n",
       "                                                                                            \n",
       "     0                                                                                      \n",
       "                                                                                            \n",
       "                                                                                            \n",
       "                                                                                            \n",
       "                             ⎞             ⎛      2                2                       ⎞\n",
       "             2               ⎟             ⎜     ∂                ∂             ∂          ⎟\n",
       "⎛∂          ⎞                ⎟             ⎜- t⋅───(Φ(t, z)) + t⋅───(Φ(t, z)) - ──(Φ(t, z))⎟\n",
       "⎜──(f(t, z))⎟                ⎟             ⎜      2                2            ∂t         ⎟\n",
       "⎝∂z         ⎠         1      ⎟  -Φ(t, z)   ⎝    ∂t               ∂z                        ⎠\n",
       "────────────── - ────────────⎟⋅ℯ         + ─────────────────────────────────────────────────\n",
       "    3               2        ⎟                                      2⋅f(t, z)               \n",
       "   f (t, z)      2⋅t ⋅f(t, z)⎠                                                              \n",
       "                                                                                            \n",
       "                                                                                            \n",
       "                                                                                            \n",
       "                                                                                            \n",
       "                                                                                            \n",
       "                                                                                            \n",
       "     0                                                                                      \n",
       "                                                                                            \n",
       "                                                                                            \n",
       "\n",
       "                                                                                            \n",
       "                                                                                            \n",
       "                                                                                            \n",
       "                                                                                            \n",
       "                                                                                            \n",
       "                                                                                            \n",
       "                                                                                            \n",
       "                                                                                            \n",
       "                                                                                            \n",
       "                                                                                            \n",
       "                                                                                            \n",
       "                                                                                            \n",
       "                                                                                            \n",
       "                                                                                            \n",
       "                                                                                            \n",
       "                                                                                            \n",
       "                                                                                            \n",
       "                                                                                            \n",
       "                                                                                            \n",
       "  -Φ(t, z)                                                                                  \n",
       "⋅ℯ                                                                                          \n",
       "                                                                                            \n",
       "                                                                                            \n",
       "──────────                                                                                  \n",
       "                                                                                            \n",
       "                                                                                            \n",
       "                                                                                            \n",
       "                  ⎛                                    2              2                     \n",
       "                  ⎜             2                2    ∂              ∂                      \n",
       "                  ⎜⎛∂          ⎞    ⎛∂          ⎞    ───(f(t, z))   ───(f(t, z))   ⎛∂       \n",
       "                  ⎜⎜──(Φ(t, z))⎟    ⎜──(Φ(t, z))⎟      2              2            ⎜──(f(t, \n",
       "                  ⎜⎝∂t         ⎠    ⎝∂z         ⎠    ∂t             ∂z             ⎝∂t      \n",
       "            - 0.5⋅⎜────────────── - ────────────── + ──────────── - ──────────── - ─────────\n",
       "                  ⎜  2⋅f(t, z)        2⋅f(t, z)         2              2               3    \n",
       "                  ⎝                                    f (t, z)       f (t, z)        f (t, \n",
       "\n",
       "                                                                                            \n",
       "                                                                                            \n",
       "                                   ∂           ∂             ∂                              \n",
       "                                   ──(Φ(t, z))⋅──(Φ(t, z))   ──(f(t, z))                    \n",
       "                                   ∂t          ∂z            ∂z                             \n",
       "                                 - ─────────────────────── + ───────────                    \n",
       "                                              2              2⋅t⋅f(t, z)                    \n",
       "                                                                                            \n",
       "                                                                                            \n",
       "                                                                                            \n",
       "                                                                                            \n",
       "                                                                                            \n",
       "                                                                                            \n",
       "                                                                                            \n",
       "                                                    0                                       \n",
       "                                                                                            \n",
       "                                                                                            \n",
       "                                                                                            \n",
       "                                                                                            \n",
       "                                                                                            \n",
       "                                                                                            \n",
       "                                                                                            \n",
       "                                                                                            \n",
       "                                                    0                                       \n",
       "                                                                                            \n",
       "                                                                                            \n",
       "                                                                                            \n",
       "                                     ⎞                                     2               2\n",
       "    2                2               ⎟                2       ⎛∂          ⎞               ∂ \n",
       "   ⎞    ⎛∂          ⎞                ⎟           - t⋅f (t, z)⋅⎜──(Φ(t, z))⎟  + t⋅f(t, z)⋅───\n",
       "z))⎟    ⎜──(f(t, z))⎟                ⎟                        ⎝∂z         ⎠                2\n",
       "   ⎠    ⎝∂z         ⎠         1      ⎟                                                   ∂t \n",
       "───── + ────────────── - ────────────⎟⋅f(t, z) + ───────────────────────────────────────────\n",
       "            3               2        ⎟                                                      \n",
       "z)         f (t, z)      2⋅t ⋅f(t, z)⎠                                                      \n",
       "\n",
       "                                                                                            \n",
       "                                                                                            \n",
       "                                                                                            \n",
       "                                                                                            \n",
       "                                                                                            \n",
       "                                                                                            \n",
       "                                                                                            \n",
       "                                                                                            \n",
       "                                                                                            \n",
       "                                                                                            \n",
       "                                                                                            \n",
       "                                                                                            \n",
       "                                                                                            \n",
       "                                                                                            \n",
       "                                                                                            \n",
       "                                                                                            \n",
       "                                                                                            \n",
       "                                                                                            \n",
       "                                                                                            \n",
       "                                                                                            \n",
       "                                                                                            \n",
       "                                                                                            \n",
       "                                                                                            \n",
       "                                                                                            \n",
       "                                                                                            \n",
       "                                                                                            \n",
       "                                                                                            \n",
       "                        2                           2                  2                    \n",
       "                       ∂               ⎛∂          ⎞      ⎛∂          ⎞            ∂        \n",
       "(f(t, z)) - t⋅f(t, z)⋅───(f(t, z)) - t⋅⎜──(f(t, z))⎟  + t⋅⎜──(f(t, z))⎟  + f(t, z)⋅──(f(t, z\n",
       "                        2              ⎝∂t         ⎠      ⎝∂z         ⎠            ∂t       \n",
       "                      ∂z                                                                    \n",
       "────────────────────────────────────────────────────────────────────────────────────────────\n",
       "                         2                                                                  \n",
       "                    2⋅t⋅f (t, z)                                                            \n",
       "\n",
       "  ⎤\n",
       "  ⎥\n",
       "  ⎥\n",
       "  ⎥\n",
       "  ⎥\n",
       "  ⎥\n",
       "  ⎥\n",
       "  ⎥\n",
       "  ⎥\n",
       "  ⎥\n",
       "  ⎥\n",
       "  ⎥\n",
       "  ⎥\n",
       "  ⎥\n",
       "  ⎥\n",
       "  ⎥\n",
       "  ⎥\n",
       "  ⎥\n",
       "  ⎥\n",
       "  ⎥\n",
       "  ⎥\n",
       "  ⎥\n",
       "  ⎥\n",
       "  ⎥\n",
       "  ⎥\n",
       "  ⎥\n",
       "  ⎥\n",
       "  ⎥\n",
       "  ⎥\n",
       "))⎥\n",
       "  ⎥\n",
       "  ⎥\n",
       "──⎥\n",
       "  ⎥\n",
       "  ⎦"
      ]
     },
     "execution_count": 18,
     "metadata": {},
     "output_type": "execute_result"
    }
   ],
   "source": [
    "einst = EinsteinTensor.from_metric(metric)\n",
    "einst.tensor()"
   ]
  },
  {
   "cell_type": "code",
   "execution_count": 19,
   "id": "ba762b88",
   "metadata": {},
   "outputs": [],
   "source": [
    "#  rm1 = RiemannCurvatureTensor.from_christoffels(ch)\n",
    "#  rm1.tensor()"
   ]
  },
  {
   "cell_type": "code",
   "execution_count": 20,
   "id": "15abe035",
   "metadata": {},
   "outputs": [],
   "source": [
    "#  weyl = WeylTensor.from_metric(metric)\n",
    "#  weyl.tensor()"
   ]
  },
  {
   "cell_type": "code",
   "execution_count": 21,
   "id": "a4545e4d",
   "metadata": {},
   "outputs": [
    {
     "data": {
      "text/latex": [
       "$\\displaystyle \\left[\\begin{matrix}\\frac{t^{2} \\left(- \\left(\\frac{\\partial^{2}}{\\partial t^{2}} f{\\left(t,z \\right)} - \\frac{\\partial^{2}}{\\partial z^{2}} f{\\left(t,z \\right)}\\right) f{\\left(t,z \\right)} + \\left(\\frac{\\partial}{\\partial t} f{\\left(t,z \\right)}\\right)^{2} - \\left(\\frac{\\partial}{\\partial z} f{\\left(t,z \\right)}\\right)^{2}\\right) - t^{2} f^{2}{\\left(t,z \\right)} \\left(\\frac{\\partial}{\\partial t} \\Phi{\\left(t,z \\right)}\\right)^{2} + t f{\\left(t,z \\right)} \\frac{\\partial}{\\partial t} f{\\left(t,z \\right)} + f^{2}{\\left(t,z \\right)}}{2 t^{2} f^{2}{\\left(t,z \\right)}} & 0 & 0 & - \\frac{\\frac{\\partial}{\\partial t} \\Phi{\\left(t,z \\right)} \\frac{\\partial}{\\partial z} \\Phi{\\left(t,z \\right)}}{2} + \\frac{\\frac{\\partial}{\\partial z} f{\\left(t,z \\right)}}{2 t f{\\left(t,z \\right)}}\\\\0 & \\frac{\\left(t \\frac{\\partial^{2}}{\\partial t^{2}} \\Phi{\\left(t,z \\right)} - t \\frac{\\partial^{2}}{\\partial z^{2}} \\Phi{\\left(t,z \\right)} + \\frac{\\partial}{\\partial t} \\Phi{\\left(t,z \\right)}\\right) e^{\\Phi{\\left(t,z \\right)}}}{2 f{\\left(t,z \\right)}} & 0 & 0\\\\0 & 0 & \\frac{\\left(- t \\frac{\\partial^{2}}{\\partial t^{2}} \\Phi{\\left(t,z \\right)} + t \\frac{\\partial^{2}}{\\partial z^{2}} \\Phi{\\left(t,z \\right)} - \\frac{\\partial}{\\partial t} \\Phi{\\left(t,z \\right)}\\right) e^{- \\Phi{\\left(t,z \\right)}}}{2 f{\\left(t,z \\right)}} & 0\\\\- \\frac{\\frac{\\partial}{\\partial t} \\Phi{\\left(t,z \\right)} \\frac{\\partial}{\\partial z} \\Phi{\\left(t,z \\right)}}{2} + \\frac{\\frac{\\partial}{\\partial z} f{\\left(t,z \\right)}}{2 t f{\\left(t,z \\right)}} & 0 & 0 & \\frac{- t f^{2}{\\left(t,z \\right)} \\left(\\frac{\\partial}{\\partial z} \\Phi{\\left(t,z \\right)}\\right)^{2} + t f{\\left(t,z \\right)} \\frac{\\partial^{2}}{\\partial t^{2}} f{\\left(t,z \\right)} - t f{\\left(t,z \\right)} \\frac{\\partial^{2}}{\\partial z^{2}} f{\\left(t,z \\right)} - t \\left(\\frac{\\partial}{\\partial t} f{\\left(t,z \\right)}\\right)^{2} + t \\left(\\frac{\\partial}{\\partial z} f{\\left(t,z \\right)}\\right)^{2} + f{\\left(t,z \\right)} \\frac{\\partial}{\\partial t} f{\\left(t,z \\right)}}{2 t f^{2}{\\left(t,z \\right)}}\\end{matrix}\\right]$"
      ],
      "text/plain": [
       "⎡   ⎛  ⎛  2              2         ⎞                        2                2⎞             \n",
       "⎢ 2 ⎜  ⎜ ∂              ∂          ⎟           ⎛∂          ⎞    ⎛∂          ⎞ ⎟    2  2     \n",
       "⎢t ⋅⎜- ⎜───(f(t, z)) - ───(f(t, z))⎟⋅f(t, z) + ⎜──(f(t, z))⎟  - ⎜──(f(t, z))⎟ ⎟ - t ⋅f (t, z\n",
       "⎢   ⎜  ⎜  2              2         ⎟           ⎝∂t         ⎠    ⎝∂z         ⎠ ⎟             \n",
       "⎢   ⎝  ⎝∂t             ∂z          ⎠                                          ⎠             \n",
       "⎢───────────────────────────────────────────────────────────────────────────────────────────\n",
       "⎢                                                                   2  2                    \n",
       "⎢                                                                2⋅t ⋅f (t, z)              \n",
       "⎢                                                                                           \n",
       "⎢                                                                                           \n",
       "⎢                                                                                           \n",
       "⎢                                                                                           \n",
       "⎢                                                                                           \n",
       "⎢                                                                                           \n",
       "⎢                                                                      0                    \n",
       "⎢                                                                                           \n",
       "⎢                                                                                           \n",
       "⎢                                                                                           \n",
       "⎢                                                                                           \n",
       "⎢                                                                                           \n",
       "⎢                                                                                           \n",
       "⎢                                                                                           \n",
       "⎢                                                                      0                    \n",
       "⎢                                                                                           \n",
       "⎢                                                                                           \n",
       "⎢                                                                                           \n",
       "⎢                                                                                           \n",
       "⎢                                                     ∂           ∂             ∂           \n",
       "⎢                                                     ──(Φ(t, z))⋅──(Φ(t, z))   ──(f(t, z)) \n",
       "⎢                                                     ∂t          ∂z            ∂z          \n",
       "⎢                                                   - ─────────────────────── + ─────────── \n",
       "⎢                                                                2              2⋅t⋅f(t, z) \n",
       "⎣                                                                                           \n",
       "\n",
       "               2                                                                            \n",
       "  ⎛∂          ⎞              ∂              2                                               \n",
       ")⋅⎜──(Φ(t, z))⎟  + t⋅f(t, z)⋅──(f(t, z)) + f (t, z)                                         \n",
       "  ⎝∂t         ⎠              ∂t                                                             \n",
       "                                                                                            \n",
       "───────────────────────────────────────────────────                             0           \n",
       "                                                                                            \n",
       "                                                                                            \n",
       "                                                                                            \n",
       "                                                     ⎛    2                2                \n",
       "                                                     ⎜   ∂                ∂             ∂   \n",
       "                                                     ⎜t⋅───(Φ(t, z)) - t⋅───(Φ(t, z)) + ──(Φ\n",
       "                                                     ⎜    2                2            ∂t  \n",
       "                                                     ⎝  ∂t               ∂z                 \n",
       "                                                     ───────────────────────────────────────\n",
       "                                                                            2⋅f(t, z)       \n",
       "                                                                                            \n",
       "                                                                                            \n",
       "                                                                                            \n",
       "                                                                                            \n",
       "                                                                                            \n",
       "                                                                                            \n",
       "                                                                                0           \n",
       "                                                                                            \n",
       "                                                                                            \n",
       "                                                                                            \n",
       "                                                                                            \n",
       "                                                                                            \n",
       "                                                                                            \n",
       "                                                                                            \n",
       "                                                                                0           \n",
       "                                                                                            \n",
       "                                                                                            \n",
       "\n",
       "                                                                                            \n",
       "                                                                                            \n",
       "                                                                                            \n",
       "                                                                                            \n",
       "                                                                                            \n",
       "                                                0                                           \n",
       "                                                                                            \n",
       "                                                                                            \n",
       "                                                                                            \n",
       "       ⎞                                                                                    \n",
       "       ⎟  Φ(t, z)                                                                           \n",
       "(t, z))⎟⋅ℯ                                                                                  \n",
       "       ⎟                                                                                    \n",
       "       ⎠                                                                                    \n",
       "─────────────────                               0                                           \n",
       "                                                                                            \n",
       "                                                                                            \n",
       "                   ⎛      2                2                       ⎞                        \n",
       "                   ⎜     ∂                ∂             ∂          ⎟  -Φ(t, z)              \n",
       "                   ⎜- t⋅───(Φ(t, z)) + t⋅───(Φ(t, z)) - ──(Φ(t, z))⎟⋅ℯ                      \n",
       "                   ⎜      2                2            ∂t         ⎟                        \n",
       "                   ⎝    ∂t               ∂z                        ⎠                        \n",
       "                   ───────────────────────────────────────────────────────────              \n",
       "                                            2⋅f(t, z)                                       \n",
       "                                                                                            \n",
       "                                                                                            \n",
       "                                                                                     2      \n",
       "                                                                                - t⋅f (t, z)\n",
       "                                                                                            \n",
       "                                                                                            \n",
       "                                                0                               ────────────\n",
       "                                                                                            \n",
       "                                                                                            \n",
       "\n",
       "                                                                                            \n",
       "                                                                                            \n",
       "                                       ∂           ∂             ∂                          \n",
       "                                       ──(Φ(t, z))⋅──(Φ(t, z))   ──(f(t, z))                \n",
       "                                       ∂t          ∂z            ∂z                         \n",
       "                                     - ─────────────────────── + ───────────                \n",
       "                                                  2              2⋅t⋅f(t, z)                \n",
       "                                                                                            \n",
       "                                                                                            \n",
       "                                                                                            \n",
       "                                                                                            \n",
       "                                                                                            \n",
       "                                                                                            \n",
       "                                                                                            \n",
       "                                                        0                                   \n",
       "                                                                                            \n",
       "                                                                                            \n",
       "                                                                                            \n",
       "                                                                                            \n",
       "                                                                                            \n",
       "                                                                                            \n",
       "                                                                                            \n",
       "                                                        0                                   \n",
       "                                                                                            \n",
       "                                                                                            \n",
       "              2               2                        2                           2        \n",
       " ⎛∂          ⎞               ∂                        ∂               ⎛∂          ⎞      ⎛∂ \n",
       "⋅⎜──(Φ(t, z))⎟  + t⋅f(t, z)⋅───(f(t, z)) - t⋅f(t, z)⋅───(f(t, z)) - t⋅⎜──(f(t, z))⎟  + t⋅⎜──\n",
       " ⎝∂z         ⎠                2                        2              ⎝∂t         ⎠      ⎝∂z\n",
       "                            ∂t                       ∂z                                     \n",
       "────────────────────────────────────────────────────────────────────────────────────────────\n",
       "                                                        2                                   \n",
       "                                                   2⋅t⋅f (t, z)                             \n",
       "\n",
       "                                 ⎤\n",
       "                                 ⎥\n",
       "                                 ⎥\n",
       "                                 ⎥\n",
       "                                 ⎥\n",
       "                                 ⎥\n",
       "                                 ⎥\n",
       "                                 ⎥\n",
       "                                 ⎥\n",
       "                                 ⎥\n",
       "                                 ⎥\n",
       "                                 ⎥\n",
       "                                 ⎥\n",
       "                                 ⎥\n",
       "                                 ⎥\n",
       "                                 ⎥\n",
       "                                 ⎥\n",
       "                                 ⎥\n",
       "                                 ⎥\n",
       "                                 ⎥\n",
       "                                 ⎥\n",
       "                                 ⎥\n",
       "                                 ⎥\n",
       "                                 ⎥\n",
       "                                 ⎥\n",
       "          2                      ⎥\n",
       "         ⎞            ∂          ⎥\n",
       "(f(t, z))⎟  + f(t, z)⋅──(f(t, z))⎥\n",
       "         ⎠            ∂t         ⎥\n",
       "                                 ⎥\n",
       "─────────────────────────────────⎥\n",
       "                                 ⎥\n",
       "                                 ⎦"
      ]
     },
     "execution_count": 21,
     "metadata": {},
     "output_type": "execute_result"
    }
   ],
   "source": [
    "ricciSimplified = simplify(Ric.tensor())\n",
    "ricciSimplified"
   ]
  },
  {
   "cell_type": "code",
   "execution_count": 22,
   "id": "ce71eb00",
   "metadata": {},
   "outputs": [
    {
     "data": {
      "text/latex": [
       "$\\displaystyle \\left[\\begin{matrix}- 0.25 \\left(\\frac{\\partial}{\\partial t} \\Phi{\\left(t,z \\right)}\\right)^{2} - 0.25 \\left(\\frac{\\partial}{\\partial z} \\Phi{\\left(t,z \\right)}\\right)^{2} + \\frac{0.5 \\frac{\\partial}{\\partial t} f{\\left(t,z \\right)}}{t f{\\left(t,z \\right)}} + \\frac{0.25}{t^{2}} & 0 & 0 & - \\frac{\\frac{\\partial}{\\partial t} \\Phi{\\left(t,z \\right)} \\frac{\\partial}{\\partial z} \\Phi{\\left(t,z \\right)}}{2} + \\frac{\\frac{\\partial}{\\partial z} f{\\left(t,z \\right)}}{2 t f{\\left(t,z \\right)}}\\\\0 & \\frac{\\left(0.5 t^{2} \\left(- \\left(\\frac{\\partial}{\\partial t} \\Phi{\\left(t,z \\right)}\\right)^{2} + \\left(\\frac{\\partial}{\\partial z} \\Phi{\\left(t,z \\right)}\\right)^{2}\\right) f^{2}{\\left(t,z \\right)} + 1.0 t^{2} \\left(\\left(\\frac{\\partial}{\\partial t} f{\\left(t,z \\right)}\\right)^{2} - \\left(\\frac{\\partial}{\\partial z} f{\\left(t,z \\right)}\\right)^{2}\\right) + 1.0 t^{2} \\left(- \\frac{\\partial^{2}}{\\partial t^{2}} f{\\left(t,z \\right)} + \\frac{\\partial^{2}}{\\partial z^{2}} f{\\left(t,z \\right)}\\right) f{\\left(t,z \\right)} + t \\left(t \\frac{\\partial^{2}}{\\partial t^{2}} \\Phi{\\left(t,z \\right)} - t \\frac{\\partial^{2}}{\\partial z^{2}} \\Phi{\\left(t,z \\right)} + \\frac{\\partial}{\\partial t} \\Phi{\\left(t,z \\right)}\\right) f^{2}{\\left(t,z \\right)} + 0.5 f^{2}{\\left(t,z \\right)}\\right) e^{\\Phi{\\left(t,z \\right)}}}{2 t f^{3}{\\left(t,z \\right)}} & 0 & 0\\\\0 & 0 & \\frac{\\left(0.5 t^{2} \\left(- \\left(\\frac{\\partial}{\\partial t} \\Phi{\\left(t,z \\right)}\\right)^{2} + \\left(\\frac{\\partial}{\\partial z} \\Phi{\\left(t,z \\right)}\\right)^{2}\\right) f^{2}{\\left(t,z \\right)} + 1.0 t^{2} \\left(\\left(\\frac{\\partial}{\\partial t} f{\\left(t,z \\right)}\\right)^{2} - \\left(\\frac{\\partial}{\\partial z} f{\\left(t,z \\right)}\\right)^{2}\\right) + 1.0 t^{2} \\left(- \\frac{\\partial^{2}}{\\partial t^{2}} f{\\left(t,z \\right)} + \\frac{\\partial^{2}}{\\partial z^{2}} f{\\left(t,z \\right)}\\right) f{\\left(t,z \\right)} + t \\left(- t \\frac{\\partial^{2}}{\\partial t^{2}} \\Phi{\\left(t,z \\right)} + t \\frac{\\partial^{2}}{\\partial z^{2}} \\Phi{\\left(t,z \\right)} - \\frac{\\partial}{\\partial t} \\Phi{\\left(t,z \\right)}\\right) f^{2}{\\left(t,z \\right)} + 0.5 f^{2}{\\left(t,z \\right)}\\right) e^{- \\Phi{\\left(t,z \\right)}}}{2 t f^{3}{\\left(t,z \\right)}} & 0\\\\- \\frac{\\frac{\\partial}{\\partial t} \\Phi{\\left(t,z \\right)} \\frac{\\partial}{\\partial z} \\Phi{\\left(t,z \\right)}}{2} + \\frac{\\frac{\\partial}{\\partial z} f{\\left(t,z \\right)}}{2 t f{\\left(t,z \\right)}} & 0 & 0 & - 0.25 \\left(\\frac{\\partial}{\\partial t} \\Phi{\\left(t,z \\right)}\\right)^{2} - 0.25 \\left(\\frac{\\partial}{\\partial z} \\Phi{\\left(t,z \\right)}\\right)^{2} + \\frac{0.5 \\frac{\\partial}{\\partial t} f{\\left(t,z \\right)}}{t f{\\left(t,z \\right)}} + \\frac{0.25}{t^{2}}\\end{matrix}\\right]$"
      ],
      "text/plain": [
       "⎡                                                  ∂                                        \n",
       "⎢                    2                     2   0.5⋅──(f(t, z))                              \n",
       "⎢       ⎛∂          ⎞         ⎛∂          ⎞        ∂t            0.25                       \n",
       "⎢- 0.25⋅⎜──(Φ(t, z))⎟  - 0.25⋅⎜──(Φ(t, z))⎟  + ─────────────── + ────                       \n",
       "⎢       ⎝∂t         ⎠         ⎝∂z         ⎠       t⋅f(t, z)        2                        \n",
       "⎢                                                                 t                         \n",
       "⎢                                                                                           \n",
       "⎢                                                                      ⎛       ⎛            \n",
       "⎢                                                                      ⎜     2 ⎜  ⎛∂        \n",
       "⎢                                                                      ⎜0.5⋅t ⋅⎜- ⎜──(Φ(t, z\n",
       "⎢                                                                      ⎜       ⎝  ⎝∂t       \n",
       "⎢                                                                      ⎝                    \n",
       "⎢                                 0                                    ─────────────────────\n",
       "⎢                                                                                           \n",
       "⎢                                                                                           \n",
       "⎢                                                                                           \n",
       "⎢                                                                                           \n",
       "⎢                                                                                           \n",
       "⎢                                                                                           \n",
       "⎢                                                                                           \n",
       "⎢                                                                                           \n",
       "⎢                                 0                                                         \n",
       "⎢                                                                                           \n",
       "⎢                                                                                           \n",
       "⎢                                                                                           \n",
       "⎢                ∂           ∂             ∂                                                \n",
       "⎢                ──(Φ(t, z))⋅──(Φ(t, z))   ──(f(t, z))                                      \n",
       "⎢                ∂t          ∂z            ∂z                                               \n",
       "⎢              - ─────────────────────── + ───────────                                      \n",
       "⎢                           2              2⋅t⋅f(t, z)                                      \n",
       "⎣                                                                                           \n",
       "\n",
       "                                                                                            \n",
       "                                                                                            \n",
       "                                                                                            \n",
       "                                                                                            \n",
       "                                                                                            \n",
       "                                                                                            \n",
       "                                                                                            \n",
       "   2                2⎞                   ⎛             2                2⎞          ⎛    2  \n",
       "  ⎞    ⎛∂          ⎞ ⎟  2              2 ⎜⎛∂          ⎞    ⎛∂          ⎞ ⎟        2 ⎜   ∂   \n",
       "))⎟  + ⎜──(Φ(t, z))⎟ ⎟⋅f (t, z) + 1.0⋅t ⋅⎜⎜──(f(t, z))⎟  - ⎜──(f(t, z))⎟ ⎟ + 1.0⋅t ⋅⎜- ───(f\n",
       "  ⎠    ⎝∂z         ⎠ ⎠                   ⎝⎝∂t         ⎠    ⎝∂z         ⎠ ⎠          ⎜    2  \n",
       "                                                                                    ⎝  ∂t   \n",
       "────────────────────────────────────────────────────────────────────────────────────────────\n",
       "                                                                                            \n",
       "                                                                                        2⋅t⋅\n",
       "                                                                                            \n",
       "                                                                                            \n",
       "                                                                                            \n",
       "                                                                                            \n",
       "                                                                                            \n",
       "                                                                                            \n",
       "                                                                                            \n",
       "                                                                                            \n",
       "                                                                                            \n",
       "                                                                                            \n",
       "                                                                                            \n",
       "                                                                                            \n",
       "                                                                                            \n",
       "                                                                                            \n",
       "                                                                                            \n",
       "                                                                                            \n",
       "\n",
       "                                                                                            \n",
       "                                                                                            \n",
       "                                                                                            \n",
       " 0                                                                                          \n",
       "                                                                                            \n",
       "                                                                                            \n",
       "                                                                                            \n",
       "            2         ⎞             ⎛    2                2                       ⎞         \n",
       "           ∂          ⎟             ⎜   ∂                ∂             ∂          ⎟  2      \n",
       "(t, z)) + ───(f(t, z))⎟⋅f(t, z) + t⋅⎜t⋅───(Φ(t, z)) - t⋅───(Φ(t, z)) + ──(Φ(t, z))⎟⋅f (t, z)\n",
       "            2         ⎟             ⎜    2                2            ∂t         ⎟         \n",
       "          ∂z          ⎠             ⎝  ∂t               ∂z                        ⎠         \n",
       "────────────────────────────────────────────────────────────────────────────────────────────\n",
       " 3                                                                                          \n",
       "f (t, z)                                                                                    \n",
       "                                                                                            \n",
       "                                                                                            \n",
       "                                                                                            \n",
       "                                                                                            \n",
       "                                                                                            \n",
       "                                                                                            \n",
       " 0                                                                                          \n",
       "                                                                                            \n",
       "                                                                                            \n",
       "                                                                                            \n",
       "                                                                                            \n",
       "                                                                                            \n",
       "                                                                                            \n",
       " 0                                                                                          \n",
       "                                                                                            \n",
       "                                                                                            \n",
       "\n",
       "                                                                                            \n",
       "                                                                                            \n",
       "                                                                                            \n",
       "                                                                                            \n",
       "                                                                                            \n",
       "                                                                                            \n",
       "                                                                                            \n",
       "               ⎞                                                                            \n",
       "        2      ⎟  Φ(t, z)                                                                   \n",
       " + 0.5⋅f (t, z)⎟⋅ℯ                                                                          \n",
       "               ⎟                                                                            \n",
       "               ⎠                                                                            \n",
       "─────────────────────────                                                                   \n",
       "                                                                                            \n",
       "                                                                                            \n",
       "                                                                                            \n",
       "                           ⎛       ⎛               2                2⎞                   ⎛  \n",
       "                           ⎜     2 ⎜  ⎛∂          ⎞    ⎛∂          ⎞ ⎟  2              2 ⎜⎛∂\n",
       "                           ⎜0.5⋅t ⋅⎜- ⎜──(Φ(t, z))⎟  + ⎜──(Φ(t, z))⎟ ⎟⋅f (t, z) + 1.0⋅t ⋅⎜⎜─\n",
       "                           ⎜       ⎝  ⎝∂t         ⎠    ⎝∂z         ⎠ ⎠                   ⎝⎝∂\n",
       "                           ⎝                                                                \n",
       "                           ─────────────────────────────────────────────────────────────────\n",
       "                                                                                            \n",
       "                                                                                            \n",
       "                                                                                            \n",
       "                                                                                            \n",
       "                                                                                            \n",
       "                                                                                            \n",
       "                                                                                            \n",
       "                                                                                            \n",
       "                                                                                            \n",
       "\n",
       "                                                                                            \n",
       "                                                                                            \n",
       "                                                                                            \n",
       "                                                   0                                        \n",
       "                                                                                            \n",
       "                                                                                            \n",
       "                                                                                            \n",
       "                                                                                            \n",
       "                                                                                            \n",
       "                                                                                            \n",
       "                                                                                            \n",
       "                                                                                            \n",
       "                                                   0                                        \n",
       "                                                                                            \n",
       "                                                                                            \n",
       "                                                                                            \n",
       "           2                2⎞          ⎛    2              2         ⎞             ⎛      2\n",
       "          ⎞    ⎛∂          ⎞ ⎟        2 ⎜   ∂              ∂          ⎟             ⎜     ∂ \n",
       "─(f(t, z))⎟  - ⎜──(f(t, z))⎟ ⎟ + 1.0⋅t ⋅⎜- ───(f(t, z)) + ───(f(t, z))⎟⋅f(t, z) + t⋅⎜- t⋅───\n",
       "t         ⎠    ⎝∂z         ⎠ ⎠          ⎜    2              2         ⎟             ⎜      2\n",
       "                                        ⎝  ∂t             ∂z          ⎠             ⎝    ∂t \n",
       "────────────────────────────────────────────────────────────────────────────────────────────\n",
       "                                                   3                                        \n",
       "                                              2⋅t⋅f (t, z)                                  \n",
       "                                                                                            \n",
       "                                                                                            \n",
       "                                                                                            \n",
       "                                                                                            \n",
       "                                                   0                                        \n",
       "                                                                                            \n",
       "                                                                                            \n",
       "\n",
       "                                                                                            \n",
       "                                                                                            \n",
       "                                                                                            \n",
       "                                                                                            \n",
       "                                                                                            \n",
       "                                                                                            \n",
       "                                                                                            \n",
       "                                                                                            \n",
       "                                                                                            \n",
       "                                                                                            \n",
       "                                                                                            \n",
       "                                                                                            \n",
       "                                                                                            \n",
       "                                                                                            \n",
       "                                                                                            \n",
       "                                                                                            \n",
       "                2                       ⎞                        ⎞                          \n",
       "               ∂             ∂          ⎟  2              2      ⎟  -Φ(t, z)                \n",
       "(Φ(t, z)) + t⋅───(Φ(t, z)) - ──(Φ(t, z))⎟⋅f (t, z) + 0.5⋅f (t, z)⎟⋅ℯ                        \n",
       "                2            ∂t         ⎟                        ⎟                          \n",
       "              ∂z                        ⎠                        ⎠                          \n",
       "────────────────────────────────────────────────────────────────────────────                \n",
       "                                                                                            \n",
       "                                                                                            \n",
       "                                                                                            \n",
       "                                                                                            \n",
       "                                                                                            \n",
       "                                                                                     ⎛∂     \n",
       "                                                                              - 0.25⋅⎜──(Φ(t\n",
       "                                                                                     ⎝∂t    \n",
       "                                                                                            \n",
       "\n",
       "  ∂           ∂             ∂                         ⎤\n",
       "  ──(Φ(t, z))⋅──(Φ(t, z))   ──(f(t, z))               ⎥\n",
       "  ∂t          ∂z            ∂z                        ⎥\n",
       "- ─────────────────────── + ───────────               ⎥\n",
       "             2              2⋅t⋅f(t, z)               ⎥\n",
       "                                                      ⎥\n",
       "                                                      ⎥\n",
       "                                                      ⎥\n",
       "                                                      ⎥\n",
       "                                                      ⎥\n",
       "                                                      ⎥\n",
       "                                                      ⎥\n",
       "                   0                                  ⎥\n",
       "                                                      ⎥\n",
       "                                                      ⎥\n",
       "                                                      ⎥\n",
       "                                                      ⎥\n",
       "                                                      ⎥\n",
       "                                                      ⎥\n",
       "                                                      ⎥\n",
       "                                                      ⎥\n",
       "                   0                                  ⎥\n",
       "                                                      ⎥\n",
       "                                                      ⎥\n",
       "                                                      ⎥\n",
       "                                    ∂                 ⎥\n",
       "      2                     2   0.5⋅──(f(t, z))       ⎥\n",
       "     ⎞         ⎛∂          ⎞        ∂t            0.25⎥\n",
       ", z))⎟  - 0.25⋅⎜──(Φ(t, z))⎟  + ─────────────── + ────⎥\n",
       "     ⎠         ⎝∂z         ⎠       t⋅f(t, z)        2 ⎥\n",
       "                                                   t  ⎦"
      ]
     },
     "execution_count": 22,
     "metadata": {},
     "output_type": "execute_result"
    }
   ],
   "source": [
    "einsteinSimplified = simplify(einst.tensor())\n",
    "einsteinSimplified"
   ]
  },
  {
   "cell_type": "code",
   "execution_count": 28,
   "id": "efb8ff9d",
   "metadata": {},
   "outputs": [
    {
     "data": {
      "image/png": "[encoded data removed]",
      "text/latex": [
       "$\\displaystyle \\frac{\\partial^{2}}{\\partial t^{2}} \\Phi{\\left(t,z \\right)} - \\frac{\\partial^{2}}{\\partial z^{2}} \\Phi{\\left(t,z \\right)} + \\frac{\\frac{\\partial}{\\partial t} \\Phi{\\left(t,z \\right)}}{t} = 0$"
      ],
      "text/plain": [
       "                              ∂              \n",
       "  2              2            ──(Φ(t, z))    \n",
       " ∂              ∂             ∂t             \n",
       "───(Φ(t, z)) - ───(Φ(t, z)) + ─────────── = 0\n",
       "  2              2                 t         \n",
       "∂t             ∂z                            "
      ]
     },
     "execution_count": 28,
     "metadata": {},
     "output_type": "execute_result"
    }
   ],
   "source": [
    "fieldEquation1 = Eq(expand((1/t)*ricciSimplified[1,1].args[2]),0)\n",
    "fieldEquation1"
   ]
  },
  {
   "cell_type": "code",
   "execution_count": 50,
   "id": "26853e8e",
   "metadata": {},
   "outputs": [
    {
     "data": {
      "image/png": "[encoded data removed]",
      "text/latex": [
       "$\\displaystyle \\frac{\\partial}{\\partial z} f{\\left(t,z \\right)} = t f{\\left(t,z \\right)} \\frac{\\partial}{\\partial t} \\Phi{\\left(t,z \\right)} \\frac{\\partial}{\\partial z} \\Phi{\\left(t,z \\right)}$"
      ],
      "text/plain": [
       "∂                       ∂           ∂          \n",
       "──(f(t, z)) = t⋅f(t, z)⋅──(Φ(t, z))⋅──(Φ(t, z))\n",
       "∂z                      ∂t          ∂z         "
      ]
     },
     "execution_count": 50,
     "metadata": {},
     "output_type": "execute_result"
    }
   ],
   "source": [
    "dfdz = Eq( diff(f,z),solve( einsteinSimplified[3,0], diff(f,z) )[0] ) \n",
    "dfdz"
   ]
  },
  {
   "cell_type": "code",
   "execution_count": 51,
   "id": "ce8059dc",
   "metadata": {},
   "outputs": [
    {
     "data": {
      "image/png": "[encoded data removed]",
      "text/latex": [
       "$\\displaystyle \\frac{\\partial}{\\partial t} f{\\left(t,z \\right)} = 0.5 t f{\\left(t,z \\right)} \\left(\\frac{\\partial}{\\partial t} \\Phi{\\left(t,z \\right)}\\right)^{2} + 0.5 t f{\\left(t,z \\right)} \\left(\\frac{\\partial}{\\partial z} \\Phi{\\left(t,z \\right)}\\right)^{2} - \\frac{0.5 f{\\left(t,z \\right)}}{t}$"
      ],
      "text/plain": [
       "                                         2                              2              \n",
       "∂                           ⎛∂          ⎞                  ⎛∂          ⎞    0.5⋅f(t, z)\n",
       "──(f(t, z)) = 0.5⋅t⋅f(t, z)⋅⎜──(Φ(t, z))⎟  + 0.5⋅t⋅f(t, z)⋅⎜──(Φ(t, z))⎟  - ───────────\n",
       "∂t                          ⎝∂t         ⎠                  ⎝∂z         ⎠         t     "
      ]
     },
     "execution_count": 51,
     "metadata": {},
     "output_type": "execute_result"
    }
   ],
   "source": [
    "dfdt = Eq( diff(f,t), expand( solve( einsteinSimplified[0,0], diff(f,t))[0] ) )\n",
    "dfdt"
   ]
  },
  {
   "cell_type": "code",
   "execution_count": 52,
   "id": "d53b21a0",
   "metadata": {},
   "outputs": [
    {
     "data": {
      "text/latex": [
       "$\\displaystyle \\left[\\begin{matrix}\\frac{\\partial^{2}}{\\partial t^{2}} \\Phi{\\left(t,z \\right)} - \\frac{\\partial^{2}}{\\partial z^{2}} \\Phi{\\left(t,z \\right)} + \\frac{\\frac{\\partial}{\\partial t} \\Phi{\\left(t,z \\right)}}{t} = 0\\\\\\frac{\\partial}{\\partial z} f{\\left(t,z \\right)} = t f{\\left(t,z \\right)} \\frac{\\partial}{\\partial t} \\Phi{\\left(t,z \\right)} \\frac{\\partial}{\\partial z} \\Phi{\\left(t,z \\right)}\\\\\\frac{\\partial}{\\partial t} f{\\left(t,z \\right)} = 0.5 t f{\\left(t,z \\right)} \\left(\\frac{\\partial}{\\partial t} \\Phi{\\left(t,z \\right)}\\right)^{2} + 0.5 t f{\\left(t,z \\right)} \\left(\\frac{\\partial}{\\partial z} \\Phi{\\left(t,z \\right)}\\right)^{2} - \\frac{0.5 f{\\left(t,z \\right)}}{t}\\end{matrix}\\right]$"
      ],
      "text/plain": [
       "⎡                                                   ∂                                   ⎤\n",
       "⎢                       2              2            ──(Φ(t, z))                         ⎥\n",
       "⎢                      ∂              ∂             ∂t                                  ⎥\n",
       "⎢                     ───(Φ(t, z)) - ───(Φ(t, z)) + ─────────── = 0                     ⎥\n",
       "⎢                       2              2                 t                              ⎥\n",
       "⎢                     ∂t             ∂z                                                 ⎥\n",
       "⎢                                                                                       ⎥\n",
       "⎢                    ∂                       ∂           ∂                              ⎥\n",
       "⎢                    ──(f(t, z)) = t⋅f(t, z)⋅──(Φ(t, z))⋅──(Φ(t, z))                    ⎥\n",
       "⎢                    ∂z                      ∂t          ∂z                             ⎥\n",
       "⎢                                                                                       ⎥\n",
       "⎢                                         2                              2              ⎥\n",
       "⎢∂                           ⎛∂          ⎞                  ⎛∂          ⎞    0.5⋅f(t, z)⎥\n",
       "⎢──(f(t, z)) = 0.5⋅t⋅f(t, z)⋅⎜──(Φ(t, z))⎟  + 0.5⋅t⋅f(t, z)⋅⎜──(Φ(t, z))⎟  - ───────────⎥\n",
       "⎣∂t                          ⎝∂t         ⎠                  ⎝∂z         ⎠         t     ⎦"
      ]
     },
     "execution_count": 52,
     "metadata": {},
     "output_type": "execute_result"
    }
   ],
   "source": [
    "vacuumFieldEquations = Matrix([fieldEquation1,dfdz,dfdt])\n",
    "vacuumFieldEquations"
   ]
  },
  {
   "cell_type": "code",
   "execution_count": 38,
   "id": "405c3fec",
   "metadata": {},
   "outputs": [],
   "source": [
    "X, Y = map(Function, 'XY')"
   ]
  },
  {
   "cell_type": "code",
   "execution_count": 39,
   "id": "6b821356",
   "metadata": {},
   "outputs": [
    {
     "data": {
      "image/png": "[encoded data removed]",
      "text/latex": [
       "$\\displaystyle \\frac{\\partial^{2}}{\\partial t^{2}} \\Phi{\\left(t,z \\right)} - \\frac{\\partial^{2}}{\\partial z^{2}} \\Phi{\\left(t,z \\right)} + \\frac{\\frac{\\partial}{\\partial t} \\Phi{\\left(t,z \\right)}}{t} = 0$"
      ],
      "text/plain": [
       "                              ∂              \n",
       "  2              2            ──(Φ(t, z))    \n",
       " ∂              ∂             ∂t             \n",
       "───(Φ(t, z)) - ───(Φ(t, z)) + ─────────── = 0\n",
       "  2              2                 t         \n",
       "∂t             ∂z                            "
      ]
     },
     "execution_count": 39,
     "metadata": {},
     "output_type": "execute_result"
    }
   ],
   "source": [
    "eq = vacuumFieldEquations[0]\n",
    "eq"
   ]
  },
  {
   "cell_type": "code",
   "execution_count": 40,
   "id": "5958c417",
   "metadata": {},
   "outputs": [
    {
     "data": {
      "image/png": "[encoded data removed]",
      "text/latex": [
       "$\\displaystyle \\frac{\\frac{d^{2}}{d t^{2}} X{\\left(t \\right)}}{X{\\left(t \\right)}} + \\frac{\\frac{d}{d t} X{\\left(t \\right)}}{t X{\\left(t \\right)}} = - k^{2}$"
      ],
      "text/plain": [
       "  2                       \n",
       " d                        \n",
       "───(X(t))   d             \n",
       "  2         ──(X(t))      \n",
       "dt          dt           2\n",
       "───────── + ──────── = -k \n",
       "   X(t)      t⋅X(t)       "
      ]
     },
     "execution_count": 40,
     "metadata": {},
     "output_type": "execute_result"
    }
   ],
   "source": [
    "xODE = Eq(pde_separate( eq, Phi, [X(t),Y(z)])[0] , -k**2 ) \n",
    "xODE"
   ]
  },
  {
   "cell_type": "code",
   "execution_count": 41,
   "id": "3b9df9eb",
   "metadata": {},
   "outputs": [
    {
     "data": {
      "image/png": "[encoded data removed]",
      "text/latex": [
       "$\\displaystyle X{\\left(t \\right)} = C_{1} J_{0}\\left(k t\\right) + C_{2} Y_{0}\\left(k t\\right)$"
      ],
      "text/plain": [
       "X(t) = C₁⋅besselj(0, k⋅t) + C₂⋅bessely(0, k⋅t)"
      ]
     },
     "execution_count": 41,
     "metadata": {},
     "output_type": "execute_result"
    }
   ],
   "source": [
    "xSolution = dsolve( xODE , X(t))\n",
    "xSolution "
   ]
  },
  {
   "cell_type": "code",
   "execution_count": 42,
   "id": "97d7f104",
   "metadata": {},
   "outputs": [
    {
     "data": {
      "image/png": "[encoded data removed]",
      "text/latex": [
       "$\\displaystyle X{\\left(t \\right)} = J_{0}\\left(k t\\right)$"
      ],
      "text/plain": [
       "X(t) = besselj(0, k⋅t)"
      ]
     },
     "execution_count": 42,
     "metadata": {},
     "output_type": "execute_result"
    }
   ],
   "source": [
    "#  Here we arbitrarily set one of the Bessel functions equal to zero... fix this later\n",
    "xSolutionParticular = xSolution.subs(xSolution.args[1].args[0].args[0],1).subs(xSolution.args[1].args[1].args[0],0)\n",
    "xSolutionParticular"
   ]
  },
  {
   "cell_type": "code",
   "execution_count": 44,
   "id": "7c485907",
   "metadata": {},
   "outputs": [
    {
     "data": {
      "image/png": "[encoded data removed]",
      "text/latex": [
       "$\\displaystyle \\frac{\\frac{d^{2}}{d z^{2}} Y{\\left(z \\right)}}{Y{\\left(z \\right)}} = - k^{2}$"
      ],
      "text/plain": [
       "  2            \n",
       " d             \n",
       "───(Y(z))      \n",
       "  2            \n",
       "dz            2\n",
       "───────── = -k \n",
       "   Y(z)        "
      ]
     },
     "execution_count": 44,
     "metadata": {},
     "output_type": "execute_result"
    }
   ],
   "source": [
    "yODE = Eq( pde_separate( eq, Phi, [X(t),Y(z)])[1] ,  -k**2 ) \n",
    "yODE"
   ]
  },
  {
   "cell_type": "code",
   "execution_count": 46,
   "id": "ae2828e0",
   "metadata": {},
   "outputs": [
    {
     "data": {
      "image/png": "[encoded data removed]",
      "text/latex": [
       "$\\displaystyle Y{\\left(z \\right)} = C_{1} \\sin{\\left(z \\left|{k}\\right| \\right)} + C_{2} \\cos{\\left(k z \\right)}$"
      ],
      "text/plain": [
       "Y(z) = C₁⋅sin(z⋅│k│) + C₂⋅cos(k⋅z)"
      ]
     },
     "execution_count": 46,
     "metadata": {},
     "output_type": "execute_result"
    }
   ],
   "source": [
    "ySolution = dsolve( yODE , Y(z))\n",
    "ySolution "
   ]
  },
  {
   "cell_type": "code",
   "execution_count": 47,
   "id": "58b80a52",
   "metadata": {},
   "outputs": [
    {
     "data": {
      "image/png": "[encoded data removed]",
      "text/latex": [
       "$\\displaystyle Y{\\left(z \\right)} = \\cos{\\left(k z \\right)}$"
      ],
      "text/plain": [
       "Y(z) = cos(k⋅z)"
      ]
     },
     "execution_count": 47,
     "metadata": {},
     "output_type": "execute_result"
    }
   ],
   "source": [
    "#  Here we arbitrarily set cos equal to zero... fix this later\n",
    "ySolutionParticular = ySolution.subs(ySolution.args[1].args[0].args[0],0).subs(ySolution.args[1].args[1].args[0],1)\n",
    "ySolutionParticular"
   ]
  },
  {
   "cell_type": "code",
   "execution_count": 48,
   "id": "ccef2632",
   "metadata": {},
   "outputs": [
    {
     "data": {
      "image/png": "[encoded data removed]",
      "text/latex": [
       "$\\displaystyle \\sum_{k=1}^{1} \\cos{\\left(k z \\right)} J_{0}\\left(k t\\right)$"
      ],
      "text/plain": [
       "  1                           \n",
       " ___                          \n",
       " ╲                            \n",
       "  ╲                           \n",
       "  ╱   cos(k⋅z)⋅besselj(0, k⋅t)\n",
       " ╱                            \n",
       " ‾‾‾                          \n",
       "k = 1                         "
      ]
     },
     "execution_count": 48,
     "metadata": {},
     "output_type": "execute_result"
    }
   ],
   "source": [
    "#  We'll keep just one term \n",
    "Sum( ( xSolutionParticular.args[1] * ySolutionParticular.args[1] ) ,(k,1,1) )"
   ]
  },
  {
   "cell_type": "code",
   "execution_count": 54,
   "id": "5ad0e0b9",
   "metadata": {},
   "outputs": [
    {
     "data": {
      "image/png": "[encoded data removed]",
      "text/latex": [
       "$\\displaystyle \\Phi{\\left(t,z \\right)} = \\cos{\\left(z \\right)} J_{0}\\left(t\\right)$"
      ],
      "text/plain": [
       "Φ(t, z) = cos(z)⋅besselj(0, t)"
      ]
     },
     "execution_count": 54,
     "metadata": {},
     "output_type": "execute_result"
    }
   ],
   "source": [
    "phiOneTerm = Eq(Phi, Sum( ( xSolutionParticular.args[1] * ySolutionParticular.args[1] ) ,(k,1,1) ).doit() ) \n",
    "phiOneTerm"
   ]
  },
  {
   "cell_type": "code",
   "execution_count": 55,
   "id": "bbfd9852",
   "metadata": {},
   "outputs": [
    {
     "data": {
      "image/png": "[encoded data removed]",
      "text/latex": [
       "$\\displaystyle \\frac{\\partial}{\\partial t} f{\\left(t,z \\right)} = 0.5 t f{\\left(t,z \\right)} \\left(\\frac{\\partial}{\\partial t} \\cos{\\left(z \\right)} J_{0}\\left(t\\right)\\right)^{2} + 0.5 t f{\\left(t,z \\right)} \\left(\\frac{\\partial}{\\partial z} \\cos{\\left(z \\right)} J_{0}\\left(t\\right)\\right)^{2} - \\frac{0.5 f{\\left(t,z \\right)}}{t}$"
      ],
      "text/plain": [
       "                                                      2                                     \n",
       "∂                           ⎛∂                       ⎞                  ⎛∂                  \n",
       "──(f(t, z)) = 0.5⋅t⋅f(t, z)⋅⎜──(cos(z)⋅besselj(0, t))⎟  + 0.5⋅t⋅f(t, z)⋅⎜──(cos(z)⋅besselj(0\n",
       "∂t                          ⎝∂t                      ⎠                  ⎝∂z                 \n",
       "\n",
       "      2              \n",
       "     ⎞    0.5⋅f(t, z)\n",
       ", t))⎟  - ───────────\n",
       "     ⎠         t     "
      ]
     },
     "execution_count": 55,
     "metadata": {},
     "output_type": "execute_result"
    }
   ],
   "source": [
    "dfdt.subs(phiOneTerm.lhs,phiOneTerm.rhs)"
   ]
  },
  {
   "cell_type": "code",
   "execution_count": 56,
   "id": "1acbcb78",
   "metadata": {},
   "outputs": [
    {
     "data": {
      "image/png": "[encoded data removed]",
      "text/latex": [
       "$\\displaystyle \\frac{\\partial}{\\partial t} f{\\left(t,z \\right)} = 0.5 t f{\\left(t,z \\right)} \\sin^{2}{\\left(z \\right)} J^{2}_{0}\\left(t\\right) + 0.5 t f{\\left(t,z \\right)} \\cos^{2}{\\left(z \\right)} J^{2}_{1}\\left(t\\right) - \\frac{0.5 f{\\left(t,z \\right)}}{t}$"
      ],
      "text/plain": [
       "∂                              2           2                          2           2         \n",
       "──(f(t, z)) = 0.5⋅t⋅f(t, z)⋅sin (z)⋅besselj (0, t) + 0.5⋅t⋅f(t, z)⋅cos (z)⋅besselj (1, t) - \n",
       "∂t                                                                                          \n",
       "\n",
       "0.5⋅f(t, z)\n",
       "───────────\n",
       "     t     "
      ]
     },
     "execution_count": 56,
     "metadata": {},
     "output_type": "execute_result"
    }
   ],
   "source": [
    "dfdt.subs(phiOneTerm.lhs,phiOneTerm.rhs).doit()"
   ]
  },
  {
   "cell_type": "code",
   "execution_count": 57,
   "id": "67c03505",
   "metadata": {},
   "outputs": [
    {
     "data": {
      "image/png": "[encoded data removed]",
      "text/latex": [
       "$\\displaystyle f{\\left(t,z \\right)} = \\frac{F{\\left(z \\right)} e^{t \\left(0.25 t J^{2}_{0}\\left(t\\right) + 0.25 t J^{2}_{1}\\left(t\\right) - 0.5 \\cos^{2}{\\left(z \\right)} J_{0}\\left(t\\right) J_{1}\\left(t\\right)\\right)}}{t^{0.5}}$"
      ],
      "text/plain": [
       "                        ⎛              2                       2                2           \n",
       "           -0.5       t⋅⎝0.25⋅t⋅besselj (0, t) + 0.25⋅t⋅besselj (1, t) - 0.5⋅cos (z)⋅besselj\n",
       "f(t, z) = t    ⋅F(z)⋅ℯ                                                                      \n",
       "\n",
       "                    ⎞\n",
       "(0, t)⋅besselj(1, t)⎠\n",
       "                     "
      ]
     },
     "execution_count": 57,
     "metadata": {},
     "output_type": "execute_result"
    }
   ],
   "source": [
    "integratefWRTt = pdsolve( dfdt.subs(phiOneTerm.lhs,phiOneTerm.rhs).doit() )\n",
    "integratefWRTt "
   ]
  },
  {
   "cell_type": "code",
   "execution_count": 63,
   "id": "a4ecb646",
   "metadata": {},
   "outputs": [
    {
     "data": {
      "image/png": "[encoded data removed]",
      "text/latex": [
       "$\\displaystyle f{\\left(t,z \\right)} = \\frac{e^{t \\left(0.25 t J^{2}_{0}\\left(t\\right) + 0.25 t J^{2}_{1}\\left(t\\right) - 0.5 \\cos^{2}{\\left(z \\right)} J_{0}\\left(t\\right) J_{1}\\left(t\\right)\\right)}}{t^{0.5}}$"
      ],
      "text/plain": [
       "                   ⎛              2                       2                2                \n",
       "           -0.5  t⋅⎝0.25⋅t⋅besselj (0, t) + 0.25⋅t⋅besselj (1, t) - 0.5⋅cos (z)⋅besselj(0, t\n",
       "f(t, z) = t    ⋅ℯ                                                                           \n",
       "\n",
       "               ⎞\n",
       ")⋅besselj(1, t)⎠\n",
       "                "
      ]
     },
     "execution_count": 63,
     "metadata": {},
     "output_type": "execute_result"
    }
   ],
   "source": [
    "fWRTtSol = integratefWRTt.subs(integratefWRTt.args[1].args[1],1)\n",
    "fWRTtSol"
   ]
  },
  {
   "cell_type": "code",
   "execution_count": 65,
   "id": "5b19986f",
   "metadata": {},
   "outputs": [
    {
     "data": {
      "image/png": "[encoded data removed]",
      "text/latex": [
       "$\\displaystyle \\frac{\\partial}{\\partial z} f{\\left(t,z \\right)} = t f{\\left(t,z \\right)} \\frac{\\partial}{\\partial t} \\cos{\\left(z \\right)} J_{0}\\left(t\\right) \\frac{\\partial}{\\partial z} \\cos{\\left(z \\right)} J_{0}\\left(t\\right)$"
      ],
      "text/plain": [
       "∂                       ∂                        ∂                       \n",
       "──(f(t, z)) = t⋅f(t, z)⋅──(cos(z)⋅besselj(0, t))⋅──(cos(z)⋅besselj(0, t))\n",
       "∂z                      ∂t                       ∂z                      "
      ]
     },
     "execution_count": 65,
     "metadata": {},
     "output_type": "execute_result"
    }
   ],
   "source": [
    "dfdz.subs(phiOneTerm.lhs,phiOneTerm.rhs)"
   ]
  },
  {
   "cell_type": "code",
   "execution_count": 66,
   "id": "64f93e76",
   "metadata": {},
   "outputs": [
    {
     "data": {
      "image/png": "[encoded data removed]",
      "text/latex": [
       "$\\displaystyle f{\\left(t,z \\right)} = F{\\left(t \\right)} e^{- \\frac{t \\cos{\\left(2 z \\right)} J_{0}\\left(t\\right) J_{1}\\left(t\\right)}{4}}$"
      ],
      "text/plain": [
       "                -t⋅cos(2⋅z)⋅besselj(0, t)⋅besselj(1, t) \n",
       "                ────────────────────────────────────────\n",
       "                                   4                    \n",
       "f(t, z) = F(t)⋅ℯ                                        "
      ]
     },
     "execution_count": 66,
     "metadata": {},
     "output_type": "execute_result"
    }
   ],
   "source": [
    "integratefWRTz = pdsolve(dfdz.subs(phiOneTerm.lhs,phiOneTerm.rhs))\n",
    "integratefWRTz"
   ]
  },
  {
   "cell_type": "code",
   "execution_count": 72,
   "id": "446b540f",
   "metadata": {},
   "outputs": [
    {
     "data": {
      "image/png": "[encoded data removed]",
      "text/latex": [
       "$\\displaystyle f{\\left(t,z \\right)} = e^{- \\frac{t \\cos{\\left(2 z \\right)} J_{0}\\left(t\\right) J_{1}\\left(t\\right)}{4}}$"
      ],
      "text/plain": [
       "           -t⋅cos(2⋅z)⋅besselj(0, t)⋅besselj(1, t) \n",
       "           ────────────────────────────────────────\n",
       "                              4                    \n",
       "f(t, z) = ℯ                                        "
      ]
     },
     "execution_count": 72,
     "metadata": {},
     "output_type": "execute_result"
    }
   ],
   "source": [
    "fWRTzSol = integratefWRTz.subs(integratefWRTz.args[1].args[0],1)\n",
    "fWRTzSol"
   ]
  },
  {
   "cell_type": "code",
   "execution_count": null,
   "id": "f27ba6fe",
   "metadata": {},
   "outputs": [],
   "source": []
  }
 ],
 "metadata": {
  "@webio": {
   "lastCommId": "66c2215d4da94cc685704be330bc80a1",
   "lastKernelId": "6e81da5a-54b3-4fd1-a2a0-ea9aaeb36615"
  },
  "kernelspec": {
   "display_name": "Python 3 (ipykernel)",
   "language": "python",
   "name": "python3"
  },
  "language_info": {
   "codemirror_mode": {
    "name": "ipython",
    "version": 3
   },
   "file_extension": ".py",
   "mimetype": "text/x-python",
   "name": "python",
   "nbconvert_exporter": "python",
   "pygments_lexer": "ipython3",
   "version": "3.8.8"
  }
 },
 "nbformat": 4,
 "nbformat_minor": 5
}
