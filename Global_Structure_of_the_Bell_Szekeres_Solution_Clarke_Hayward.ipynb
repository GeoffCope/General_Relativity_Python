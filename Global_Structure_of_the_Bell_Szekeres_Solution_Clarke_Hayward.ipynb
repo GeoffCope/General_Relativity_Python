{
 "cells": [
  {
   "cell_type": "markdown",
   "id": "214b41a1",
   "metadata": {},
   "source": [
    "# Global Structure of the Bell Szekeres Solution by Clarke and Hayward\n",
    "##  Geoff Cope\n",
    "##  Univeristy of Utah\n",
    "##  𐐏𐐭𐑌𐐲𐑂𐐲𐑉𐑅𐐮𐐻𐐨 𐐲𐑂 𐐏𐐭𐐻𐐫\n",
    "## January 9, 2022"
   ]
  },
  {
   "cell_type": "markdown",
   "id": "6b704617",
   "metadata": {},
   "source": [
    "https://iopscience.iop.org/article/10.1088/0264-9381/6/5/007/meta"
   ]
  },
  {
   "cell_type": "code",
   "execution_count": 1,
   "id": "de28315a",
   "metadata": {},
   "outputs": [
    {
     "name": "stdout",
     "output_type": "stream",
     "text": [
      "IPython console for SymPy 1.9 (Python 3.8.8-64-bit) (ground types: gmpy)\n",
      "\n",
      "These commands were executed:\n",
      ">>> from __future__ import division\n",
      ">>> from sympy import *\n",
      ">>> x, y, z, t = symbols('x y z t')\n",
      ">>> k, m, n = symbols('k m n', integer=True)\n",
      ">>> f, g, h = symbols('f g h', cls=Function)\n",
      ">>> init_printing()\n",
      "\n",
      "Documentation can be found at https://docs.sympy.org/1.9/\n",
      "\n"
     ]
    }
   ],
   "source": [
    "from sympy import init_session\n",
    "init_session(use_latex=True)"
   ]
  },
  {
   "cell_type": "code",
   "execution_count": 2,
   "id": "5f5e89ba",
   "metadata": {},
   "outputs": [],
   "source": [
    "import warnings\n",
    "import matplotlib.cbook\n",
    "warnings.filterwarnings(\"ignore\",category=matplotlib.cbook.mplDeprecation)"
   ]
  },
  {
   "cell_type": "code",
   "execution_count": 88,
   "id": "14dd2d9a",
   "metadata": {},
   "outputs": [],
   "source": [
    "U,V,X,Y,u,v,x,y,du,dv,dx,dy,a,b = symbols('U V X Y u v x y du dv dx dy a b' , positive = True, real = True)"
   ]
  },
  {
   "cell_type": "code",
   "execution_count": 25,
   "id": "1b379b53",
   "metadata": {},
   "outputs": [],
   "source": [
    "from sympy import Heaviside , DiracDelta"
   ]
  },
  {
   "cell_type": "code",
   "execution_count": 56,
   "id": "2c4d11a5",
   "metadata": {},
   "outputs": [],
   "source": [
    "from sympy.abc import u,v"
   ]
  },
  {
   "cell_type": "code",
   "execution_count": 57,
   "id": "ebf5a8ae",
   "metadata": {},
   "outputs": [
    {
     "data": {
      "image/png": "[encoded data removed]",
      "text/latex": [
       "$\\displaystyle \\theta\\left(u\\right)$"
      ],
      "text/plain": [
       "θ(u)"
      ]
     },
     "execution_count": 57,
     "metadata": {},
     "output_type": "execute_result"
    }
   ],
   "source": [
    "thetaU = Heaviside(u)\n",
    "thetaU"
   ]
  },
  {
   "cell_type": "code",
   "execution_count": 58,
   "id": "57f92486",
   "metadata": {},
   "outputs": [
    {
     "data": {
      "image/png": "[encoded data removed]",
      "text/latex": [
       "$\\displaystyle \\theta\\left(v\\right)$"
      ],
      "text/plain": [
       "θ(v)"
      ]
     },
     "execution_count": 58,
     "metadata": {},
     "output_type": "execute_result"
    }
   ],
   "source": [
    "thetaV = Heaviside(v)\n",
    "thetaV"
   ]
  },
  {
   "cell_type": "code",
   "execution_count": 59,
   "id": "19ab58f3",
   "metadata": {},
   "outputs": [
    {
     "data": {
      "text/latex": [
       "$\\displaystyle \\left[\\begin{matrix}u\\\\v\\\\x\\\\y\\end{matrix}\\right]$"
      ],
      "text/plain": [
       "⎡u⎤\n",
       "⎢ ⎥\n",
       "⎢v⎥\n",
       "⎢ ⎥\n",
       "⎢x⎥\n",
       "⎢ ⎥\n",
       "⎣y⎦"
      ]
     },
     "execution_count": 59,
     "metadata": {},
     "output_type": "execute_result"
    }
   ],
   "source": [
    "variables = Matrix( [u,v,x,y] )\n",
    "variables"
   ]
  },
  {
   "cell_type": "code",
   "execution_count": 60,
   "id": "d551e6de",
   "metadata": {},
   "outputs": [
    {
     "data": {
      "text/latex": [
       "$\\displaystyle \\left[\\begin{matrix}du\\\\dv\\\\dx\\\\dy\\end{matrix}\\right]$"
      ],
      "text/plain": [
       "⎡du⎤\n",
       "⎢  ⎥\n",
       "⎢dv⎥\n",
       "⎢  ⎥\n",
       "⎢dx⎥\n",
       "⎢  ⎥\n",
       "⎣dy⎦"
      ]
     },
     "execution_count": 60,
     "metadata": {},
     "output_type": "execute_result"
    }
   ],
   "source": [
    "differentials = Matrix( [du,dv,dx,dy])\n",
    "differentials"
   ]
  },
  {
   "cell_type": "code",
   "execution_count": 63,
   "id": "2ab096c1",
   "metadata": {},
   "outputs": [
    {
     "data": {
      "image/png": "[encoded data removed]",
      "text/latex": [
       "$\\displaystyle 2 du dv - dx^{2} \\cos^{2}{\\left(a u \\theta\\left(u\\right) + b v \\theta\\left(v\\right) \\right)} - dy^{2} \\cos^{2}{\\left(a u \\theta\\left(u\\right) + b v \\theta\\left(v\\right) \\right)}$"
      ],
      "text/plain": [
       "            2    2                          2    2                     \n",
       "2⋅du⋅dv - dx ⋅cos (a⋅u⋅θ(u) + b⋅v⋅θ(v)) - dy ⋅cos (a⋅u⋅θ(u) + b⋅v⋅θ(v))"
      ]
     },
     "execution_count": 63,
     "metadata": {},
     "output_type": "execute_result"
    }
   ],
   "source": [
    "lineElement = expand( 2*du*dv - ( cos(a*u*thetaU +b*v*thetaV)**2 )*dx**2 - ( cos(a*u*thetaU +b*v*thetaV)**2 )*dy**2 ) \n",
    "lineElement"
   ]
  },
  {
   "cell_type": "code",
   "execution_count": 80,
   "id": "452a6192",
   "metadata": {},
   "outputs": [
    {
     "data": {
      "image/png": "[encoded data removed]",
      "text/latex": [
       "$\\displaystyle 2 du dv - dx^{2} - dy^{2}$"
      ],
      "text/plain": [
       "            2     2\n",
       "2⋅du⋅dv - dx  - dy "
      ]
     },
     "execution_count": 80,
     "metadata": {},
     "output_type": "execute_result"
    }
   ],
   "source": [
    "equation3I = lineElement.subs(thetaV,thetaV.eval(-1)).subs(thetaU,thetaU.eval(-1))\n",
    "equation3I"
   ]
  },
  {
   "cell_type": "code",
   "execution_count": 81,
   "id": "59a1c236",
   "metadata": {},
   "outputs": [
    {
     "data": {
      "image/png": "[encoded data removed]",
      "text/latex": [
       "$\\displaystyle 2 du dv - dx^{2} \\cos^{2}{\\left(a u \\right)} - dy^{2} \\cos^{2}{\\left(a u \\right)}$"
      ],
      "text/plain": [
       "            2    2          2    2     \n",
       "2⋅du⋅dv - dx ⋅cos (a⋅u) - dy ⋅cos (a⋅u)"
      ]
     },
     "execution_count": 81,
     "metadata": {},
     "output_type": "execute_result"
    }
   ],
   "source": [
    "equation3II = lineElement.subs(thetaV,thetaV.eval(-1)).subs(thetaU,thetaU.eval(1))\n",
    "equation3II"
   ]
  },
  {
   "cell_type": "code",
   "execution_count": 82,
   "id": "999a051b",
   "metadata": {},
   "outputs": [
    {
     "data": {
      "image/png": "[encoded data removed]",
      "text/latex": [
       "$\\displaystyle 2 du dv - dx^{2} \\cos^{2}{\\left(b v \\right)} - dy^{2} \\cos^{2}{\\left(b v \\right)}$"
      ],
      "text/plain": [
       "            2    2          2    2     \n",
       "2⋅du⋅dv - dx ⋅cos (b⋅v) - dy ⋅cos (b⋅v)"
      ]
     },
     "execution_count": 82,
     "metadata": {},
     "output_type": "execute_result"
    }
   ],
   "source": [
    "equation3III = lineElement.subs(thetaV,thetaV.eval(1)).subs(thetaU,thetaU.eval(-1))\n",
    "equation3III"
   ]
  },
  {
   "cell_type": "code",
   "execution_count": 83,
   "id": "071133e7",
   "metadata": {},
   "outputs": [
    {
     "data": {
      "image/png": "[encoded data removed]",
      "text/latex": [
       "$\\displaystyle 2 du dv - dx^{2} \\cos^{2}{\\left(a u + b v \\right)} - dy^{2} \\cos^{2}{\\left(a u + b v \\right)}$"
      ],
      "text/plain": [
       "            2    2                2    2           \n",
       "2⋅du⋅dv - dx ⋅cos (a⋅u + b⋅v) - dy ⋅cos (a⋅u + b⋅v)"
      ]
     },
     "execution_count": 83,
     "metadata": {},
     "output_type": "execute_result"
    }
   ],
   "source": [
    "equation3IV = lineElement.subs(thetaV,thetaV.eval(1)).subs(thetaU,thetaU.eval(1))\n",
    "equation3IV"
   ]
  },
  {
   "cell_type": "code",
   "execution_count": 86,
   "id": "11aa5cf3",
   "metadata": {},
   "outputs": [
    {
     "data": {
      "image/png": "[encoded data removed]",
      "text/latex": [
       "$\\displaystyle U = u$"
      ],
      "text/plain": [
       "U = u"
      ]
     },
     "execution_count": 86,
     "metadata": {},
     "output_type": "execute_result"
    }
   ],
   "source": [
    "Eq(U,u)"
   ]
  },
  {
   "cell_type": "code",
   "execution_count": 87,
   "id": "07e404f8",
   "metadata": {},
   "outputs": [
    {
     "data": {
      "image/png": "[encoded data removed]",
      "text/latex": [
       "$\\displaystyle V = - \\frac{a \\left(x^{2} + y^{2}\\right) \\sin{\\left(a u \\right)} \\cos{\\left(a u \\right)}}{2} + v$"
      ],
      "text/plain": [
       "        ⎛ 2    2⎞                      \n",
       "      a⋅⎝x  + y ⎠⋅sin(a⋅u)⋅cos(a⋅u)    \n",
       "V = - ───────────────────────────── + v\n",
       "                    2                  "
      ]
     },
     "execution_count": 87,
     "metadata": {},
     "output_type": "execute_result"
    }
   ],
   "source": [
    "Eq(V,v - Rational(1,2)*a*(x**2+y**2)*sin(a*u)*cos(a*u))"
   ]
  },
  {
   "cell_type": "code",
   "execution_count": 89,
   "id": "541aa205",
   "metadata": {},
   "outputs": [
    {
     "data": {
      "image/png": "[encoded data removed]",
      "text/latex": [
       "$\\displaystyle X = x \\cos{\\left(a u \\right)}$"
      ],
      "text/plain": [
       "X = x⋅cos(a⋅u)"
      ]
     },
     "execution_count": 89,
     "metadata": {},
     "output_type": "execute_result"
    }
   ],
   "source": [
    "Eq(X, x*cos(a*u))"
   ]
  },
  {
   "cell_type": "code",
   "execution_count": 90,
   "id": "6c3d84da",
   "metadata": {},
   "outputs": [
    {
     "data": {
      "image/png": "[encoded data removed]",
      "text/latex": [
       "$\\displaystyle Y = y \\cos{\\left(a u \\right)}$"
      ],
      "text/plain": [
       "Y = y⋅cos(a⋅u)"
      ]
     },
     "execution_count": 90,
     "metadata": {},
     "output_type": "execute_result"
    }
   ],
   "source": [
    "Eq(Y, y*cos(a*u))"
   ]
  },
  {
   "cell_type": "code",
   "execution_count": 92,
   "id": "bc5687f8",
   "metadata": {},
   "outputs": [
    {
     "data": {
      "text/latex": [
       "$\\displaystyle \\left[\\begin{matrix}U = u\\\\V = - \\frac{a \\left(x^{2} + y^{2}\\right) \\sin{\\left(a u \\right)} \\cos{\\left(a u \\right)}}{2} + v\\\\X = x \\cos{\\left(a u \\right)}\\\\Y = y \\cos{\\left(a u \\right)}\\end{matrix}\\right]$"
      ],
      "text/plain": [
       "⎡                 U = u                 ⎤\n",
       "⎢                                       ⎥\n",
       "⎢        ⎛ 2    2⎞                      ⎥\n",
       "⎢      a⋅⎝x  + y ⎠⋅sin(a⋅u)⋅cos(a⋅u)    ⎥\n",
       "⎢V = - ───────────────────────────── + v⎥\n",
       "⎢                    2                  ⎥\n",
       "⎢                                       ⎥\n",
       "⎢            X = x⋅cos(a⋅u)             ⎥\n",
       "⎢                                       ⎥\n",
       "⎣            Y = y⋅cos(a⋅u)             ⎦"
      ]
     },
     "execution_count": 92,
     "metadata": {},
     "output_type": "execute_result"
    }
   ],
   "source": [
    "brinkmannCoordinates = Matrix([Eq(U,u),Eq(V,v - Rational(1,2)*a*(x**2+y**2)*sin(a*u)*cos(a*u)),Eq(X, x*cos(a*u)),Eq(Y, y*cos(a*u))])\n",
    "brinkmannCoordinates"
   ]
  },
  {
   "cell_type": "code",
   "execution_count": 94,
   "id": "92d49b29",
   "metadata": {},
   "outputs": [
    {
     "data": {
      "image/png": "[encoded data removed]",
      "text/latex": [
       "$\\displaystyle \\left( u, \\  v, \\  x, \\  y\\right) = \\left( U, \\  V + \\frac{X^{2} a \\tan{\\left(U a \\right)}}{2} + \\frac{Y^{2} a \\tan{\\left(U a \\right)}}{2}, \\  \\frac{X}{\\cos{\\left(U a \\right)}}, \\  \\frac{Y}{\\cos{\\left(U a \\right)}}\\right)$"
      ],
      "text/plain": [
       "               ⎛        2               2                               ⎞\n",
       "               ⎜       X ⋅a⋅tan(U⋅a)   Y ⋅a⋅tan(U⋅a)     X         Y    ⎟\n",
       "(u, v, x, y) = ⎜U, V + ───────────── + ─────────────, ────────, ────────⎟\n",
       "               ⎝             2               2        cos(U⋅a)  cos(U⋅a)⎠"
      ]
     },
     "execution_count": 94,
     "metadata": {},
     "output_type": "execute_result"
    }
   ],
   "source": [
    "#  I don't know how to do this.... how to set elements of matrices equal to each other \n",
    "Eq((u,v,x,y),solve(brinkmannCoordinates,(u,v,x,y))[0] ) "
   ]
  },
  {
   "cell_type": "code",
   "execution_count": null,
   "id": "5a22455e",
   "metadata": {},
   "outputs": [],
   "source": []
  }
 ],
 "metadata": {
  "@webio": {
   "lastCommId": "40639ec18efa43fbad332574e11796dc",
   "lastKernelId": "c8bab354-ffb3-4714-a9d9-5f583b462179"
  },
  "kernelspec": {
   "display_name": "Python 3 (ipykernel)",
   "language": "python",
   "name": "python3"
  },
  "language_info": {
   "codemirror_mode": {
    "name": "ipython",
    "version": 3
   },
   "file_extension": ".py",
   "mimetype": "text/x-python",
   "name": "python",
   "nbconvert_exporter": "python",
   "pygments_lexer": "ipython3",
   "version": "3.8.8"
  }
 },
 "nbformat": 4,
 "nbformat_minor": 5
}
