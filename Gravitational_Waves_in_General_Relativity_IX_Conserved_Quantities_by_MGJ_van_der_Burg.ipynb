{
 "cells": [
  {
   "cell_type": "markdown",
   "id": "0d25d77e",
   "metadata": {},
   "source": [
    "# Gravitational Waves in General Relativity. IX. Conserved Quantities by M.G.J. van der Burg\n",
    "##  Geoff Cope\n",
    "##  Univeristy of Utah\n",
    "##  December 22, 2021"
   ]
  },
  {
   "cell_type": "markdown",
   "id": "4076b6a5",
   "metadata": {},
   "source": [
    "(* Trying to figure out the best way to type this in.... it's a mess *) \n",
    "Metric is taken from the paper Gravitational Waves in General Relativity. IX. Conserved Quantities by M.G.J. van der Burg.  See Equation 1 which is the most general form.  The reduced case sets delta and W equal to zero.  That reduction, I believe, takes one back to Bondi's Radiating Metric"
   ]
  },
  {
   "cell_type": "markdown",
   "id": "2791004a",
   "metadata": {},
   "source": [
    "https://royalsocietypublishing.org/doi/abs/10.1098/rspa.1966.0197"
   ]
  },
  {
   "cell_type": "code",
   "execution_count": 1,
   "id": "a45d1a7b",
   "metadata": {},
   "outputs": [
    {
     "name": "stdout",
     "output_type": "stream",
     "text": [
      "IPython console for SymPy 1.9 (Python 3.8.8-64-bit) (ground types: gmpy)\n",
      "\n",
      "These commands were executed:\n",
      ">>> from __future__ import division\n",
      ">>> from sympy import *\n",
      ">>> x, y, z, t = symbols('x y z t')\n",
      ">>> k, m, n = symbols('k m n', integer=True)\n",
      ">>> f, g, h = symbols('f g h', cls=Function)\n",
      ">>> init_printing()\n",
      "\n",
      "Documentation can be found at https://docs.sympy.org/1.9/\n",
      "\n"
     ]
    }
   ],
   "source": [
    "from sympy import init_session\n",
    "init_session(use_latex=True)"
   ]
  },
  {
   "cell_type": "code",
   "execution_count": 2,
   "id": "acaa7fde",
   "metadata": {},
   "outputs": [],
   "source": [
    "import warnings\n",
    "import matplotlib.cbook\n",
    "warnings.filterwarnings(\"ignore\",category=matplotlib.cbook.mplDeprecation)"
   ]
  },
  {
   "cell_type": "code",
   "execution_count": 15,
   "id": "70e13b04",
   "metadata": {},
   "outputs": [],
   "source": [
    "u,r,theta,phi,du,dr,dtheta,dphi,beta,gamma,delta,U,W,V = symbols( 'u r theta phi du dr dtheta dphi beta gamma delta U W V' ) "
   ]
  },
  {
   "cell_type": "code",
   "execution_count": 22,
   "id": "2e2401b6",
   "metadata": {},
   "outputs": [
    {
     "data": {
      "image/png": "[encoded data removed]",
      "text/latex": [
       "$\\displaystyle \\beta{\\left(u,r,\\theta \\right)}$"
      ],
      "text/plain": [
       "β(u, r, θ)"
      ]
     },
     "execution_count": 22,
     "metadata": {},
     "output_type": "execute_result"
    }
   ],
   "source": [
    "beta = Function('beta')(u,r,theta)\n",
    "beta"
   ]
  },
  {
   "cell_type": "code",
   "execution_count": 13,
   "id": "fd80eddd",
   "metadata": {},
   "outputs": [
    {
     "data": {
      "image/png": "[encoded data removed]",
      "text/latex": [
       "$\\displaystyle \\gamma{\\left(u,r,\\theta \\right)}$"
      ],
      "text/plain": [
       "γ(u, r, θ)"
      ]
     },
     "execution_count": 13,
     "metadata": {},
     "output_type": "execute_result"
    }
   ],
   "source": [
    "gamma = Function('gamma')(u,r,theta)\n",
    "gamma"
   ]
  },
  {
   "cell_type": "code",
   "execution_count": 14,
   "id": "17854c12",
   "metadata": {},
   "outputs": [
    {
     "data": {
      "image/png": "[encoded data removed]",
      "text/latex": [
       "$\\displaystyle \\delta{\\left(u,r,\\theta \\right)}$"
      ],
      "text/plain": [
       "δ(u, r, θ)"
      ]
     },
     "execution_count": 14,
     "metadata": {},
     "output_type": "execute_result"
    }
   ],
   "source": [
    "delta = Function('delta')(u,r,theta)\n",
    "delta"
   ]
  },
  {
   "cell_type": "code",
   "execution_count": 16,
   "id": "51c6a52d",
   "metadata": {},
   "outputs": [
    {
     "data": {
      "image/png": "[encoded data removed]",
      "text/latex": [
       "$\\displaystyle U{\\left(u,r,\\theta \\right)}$"
      ],
      "text/plain": [
       "U(u, r, θ)"
      ]
     },
     "execution_count": 16,
     "metadata": {},
     "output_type": "execute_result"
    }
   ],
   "source": [
    "U = Function('U')(u,r,theta)\n",
    "U"
   ]
  },
  {
   "cell_type": "code",
   "execution_count": 17,
   "id": "207a01b0",
   "metadata": {},
   "outputs": [
    {
     "data": {
      "image/png": "[encoded data removed]",
      "text/latex": [
       "$\\displaystyle V{\\left(u,r,\\theta \\right)}$"
      ],
      "text/plain": [
       "V(u, r, θ)"
      ]
     },
     "execution_count": 17,
     "metadata": {},
     "output_type": "execute_result"
    }
   ],
   "source": [
    "V = Function('V')(u,r,theta)\n",
    "V"
   ]
  },
  {
   "cell_type": "code",
   "execution_count": 18,
   "id": "c8235468",
   "metadata": {},
   "outputs": [
    {
     "data": {
      "image/png": "[encoded data removed]",
      "text/latex": [
       "$\\displaystyle W{\\left(u,r,\\theta \\right)}$"
      ],
      "text/plain": [
       "W(u, r, θ)"
      ]
     },
     "execution_count": 18,
     "metadata": {},
     "output_type": "execute_result"
    }
   ],
   "source": [
    "W = Function('W')(u,r,theta)\n",
    "W"
   ]
  },
  {
   "cell_type": "code",
   "execution_count": 26,
   "id": "5e2fdddb",
   "metadata": {},
   "outputs": [],
   "source": [
    "lineElement = 2*dr*du*exp(2*beta)\n",
    "lineElement"
   ]
  },
  {
   "cell_type": "code",
   "execution_count": null,
   "id": "c1c85ad4",
   "metadata": {},
   "outputs": [],
   "source": []
  },
  {
   "cell_type": "code",
   "execution_count": null,
   "id": "75bf06ca",
   "metadata": {},
   "outputs": [],
   "source": []
  },
  {
   "cell_type": "code",
   "execution_count": null,
   "id": "7879bac2",
   "metadata": {},
   "outputs": [],
   "source": []
  }
 ],
 "metadata": {
  "@webio": {
   "lastCommId": "631f2b882d9248e6952c9d03ed07e405",
   "lastKernelId": "ee6438b0-49eb-44a8-902b-d4b64b978d8b"
  },
  "kernelspec": {
   "display_name": "Python 3 (ipykernel)",
   "language": "python",
   "name": "python3"
  },
  "language_info": {
   "codemirror_mode": {
    "name": "ipython",
    "version": 3
   },
   "file_extension": ".py",
   "mimetype": "text/x-python",
   "name": "python",
   "nbconvert_exporter": "python",
   "pygments_lexer": "ipython3",
   "version": "3.8.8"
  }
 },
 "nbformat": 4,
 "nbformat_minor": 5
}
