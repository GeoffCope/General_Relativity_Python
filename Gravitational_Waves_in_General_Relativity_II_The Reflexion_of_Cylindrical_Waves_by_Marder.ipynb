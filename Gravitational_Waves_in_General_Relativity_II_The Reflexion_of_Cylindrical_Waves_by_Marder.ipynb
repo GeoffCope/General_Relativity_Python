{
 "cells": [
  {
   "cell_type": "markdown",
   "id": "7669470c",
   "metadata": {},
   "source": [
    "# Gravitational Waves in General Relativity  II - The Reflexion of Cylindrical Waves by Marder\n",
    "##  Geoff Cope\n",
    "##  Univeristy of Utah\n",
    "##  December 22, 2021"
   ]
  },
  {
   "cell_type": "markdown",
   "id": "2dc33769",
   "metadata": {},
   "source": [
    "Gravitational Waves in General Relativity. II. The Reflexion of Cylindrical Waves by Marder.  Equation 15 of this paper, the Rosen metric, corresponds to equation 10 of paper I."
   ]
  },
  {
   "cell_type": "markdown",
   "id": "ffa27698",
   "metadata": {},
   "source": [
    "https://royalsocietypublishing.org/doi/abs/10.1098/rspa.1958.0111z"
   ]
  },
  {
   "cell_type": "code",
   "execution_count": 1,
   "id": "3e6eb0d3",
   "metadata": {},
   "outputs": [
    {
     "name": "stdout",
     "output_type": "stream",
     "text": [
      "IPython console for SymPy 1.9 (Python 3.8.8-64-bit) (ground types: gmpy)\n",
      "\n",
      "These commands were executed:\n",
      ">>> from __future__ import division\n",
      ">>> from sympy import *\n",
      ">>> x, y, z, t = symbols('x y z t')\n",
      ">>> k, m, n = symbols('k m n', integer=True)\n",
      ">>> f, g, h = symbols('f g h', cls=Function)\n",
      ">>> init_printing()\n",
      "\n",
      "Documentation can be found at https://docs.sympy.org/1.9/\n",
      "\n"
     ]
    }
   ],
   "source": [
    "from sympy import init_session\n",
    "init_session(use_latex=True)"
   ]
  },
  {
   "cell_type": "code",
   "execution_count": 2,
   "id": "a5c1ff75",
   "metadata": {},
   "outputs": [],
   "source": [
    "import warnings\n",
    "import matplotlib.cbook\n",
    "warnings.filterwarnings(\"ignore\",category=matplotlib.cbook.mplDeprecation)"
   ]
  },
  {
   "cell_type": "code",
   "execution_count": 3,
   "id": "28104e0c",
   "metadata": {},
   "outputs": [],
   "source": [
    "t,r,phi,z,dt,dr,dphi,dz,gamma,psi,mu = symbols( 't r phi z dt dr dphi dz gamma psi mu ' ) "
   ]
  },
  {
   "cell_type": "code",
   "execution_count": 4,
   "id": "b1f3c7d9",
   "metadata": {},
   "outputs": [
    {
     "data": {
      "image/png": "[encoded data removed]",
      "text/latex": [
       "$\\displaystyle \\gamma{\\left(r,t \\right)}$"
      ],
      "text/plain": [
       "γ(r, t)"
      ]
     },
     "execution_count": 4,
     "metadata": {},
     "output_type": "execute_result"
    }
   ],
   "source": [
    "gamma = Function('gamma')(r,t)\n",
    "gamma"
   ]
  },
  {
   "cell_type": "code",
   "execution_count": 5,
   "id": "d9a5ebcf",
   "metadata": {},
   "outputs": [
    {
     "data": {
      "image/png": "[encoded data removed]",
      "text/latex": [
       "$\\displaystyle \\psi{\\left(r,t \\right)}$"
      ],
      "text/plain": [
       "ψ(r, t)"
      ]
     },
     "execution_count": 5,
     "metadata": {},
     "output_type": "execute_result"
    }
   ],
   "source": [
    "psi = Function('psi')(r,t)\n",
    "psi"
   ]
  },
  {
   "cell_type": "code",
   "execution_count": 6,
   "id": "d2b40ab5",
   "metadata": {},
   "outputs": [
    {
     "data": {
      "image/png": "[encoded data removed]",
      "text/latex": [
       "$\\displaystyle \\mu{\\left(r,t \\right)}$"
      ],
      "text/plain": [
       "μ(r, t)"
      ]
     },
     "execution_count": 6,
     "metadata": {},
     "output_type": "execute_result"
    }
   ],
   "source": [
    "mu = Function('mu')(r,t)\n",
    "mu"
   ]
  },
  {
   "cell_type": "code",
   "execution_count": 7,
   "id": "9da71664",
   "metadata": {},
   "outputs": [
    {
     "data": {
      "text/latex": [
       "$\\displaystyle \\left[\\begin{matrix}t\\\\r\\\\\\phi\\\\z\\end{matrix}\\right]$"
      ],
      "text/plain": [
       "⎡t⎤\n",
       "⎢ ⎥\n",
       "⎢r⎥\n",
       "⎢ ⎥\n",
       "⎢φ⎥\n",
       "⎢ ⎥\n",
       "⎣z⎦"
      ]
     },
     "execution_count": 7,
     "metadata": {},
     "output_type": "execute_result"
    }
   ],
   "source": [
    "variables = Matrix( [t,r,phi,z])\n",
    "variables"
   ]
  },
  {
   "cell_type": "code",
   "execution_count": 8,
   "id": "55eed189",
   "metadata": {},
   "outputs": [
    {
     "data": {
      "text/latex": [
       "$\\displaystyle \\left[\\begin{matrix}dt\\\\dr\\\\dphi\\\\dz\\end{matrix}\\right]$"
      ],
      "text/plain": [
       "⎡ dt ⎤\n",
       "⎢    ⎥\n",
       "⎢ dr ⎥\n",
       "⎢    ⎥\n",
       "⎢dphi⎥\n",
       "⎢    ⎥\n",
       "⎣ dz ⎦"
      ]
     },
     "execution_count": 8,
     "metadata": {},
     "output_type": "execute_result"
    }
   ],
   "source": [
    "differentials = Matrix( [dt,dr,dphi,dz])\n",
    "differentials "
   ]
  },
  {
   "cell_type": "code",
   "execution_count": 28,
   "id": "b5c9be23",
   "metadata": {},
   "outputs": [
    {
     "data": {
      "image/png": "[encoded data removed]",
      "text/latex": [
       "$\\displaystyle - dphi^{2} r^{2} e^{- 2 \\psi{\\left(r,t \\right)}} - dr^{2} e^{2 \\gamma{\\left(r,t \\right)}} e^{- 2 \\psi{\\left(r,t \\right)}} + dt^{2} e^{2 \\gamma{\\left(r,t \\right)}} e^{- 2 \\psi{\\left(r,t \\right)}} - dz^{2} e^{2 \\psi{\\left(r,t \\right)}}$"
      ],
      "text/plain": [
       "      2  2  -2⋅ψ(r, t)     2  2⋅γ(r, t)  -2⋅ψ(r, t)     2  2⋅γ(r, t)  -2⋅ψ(r, t)     2  2⋅ψ(\n",
       "- dphi ⋅r ⋅ℯ           - dr ⋅ℯ         ⋅ℯ           + dt ⋅ℯ         ⋅ℯ           - dz ⋅ℯ    \n",
       "\n",
       "r, t)\n",
       "     "
      ]
     },
     "execution_count": 28,
     "metadata": {},
     "output_type": "execute_result"
    }
   ],
   "source": [
    "lineElement = expand(exp(2*(gamma-psi)) * ( dt**2 - dr**2) - r**2 * exp(-2*psi) * dphi**2 - exp(2*(psi)) * dz**2)\n",
    "lineElement "
   ]
  },
  {
   "cell_type": "code",
   "execution_count": 29,
   "id": "1e3f8785",
   "metadata": {},
   "outputs": [
    {
     "data": {
      "text/latex": [
       "$\\displaystyle \\left[\\begin{matrix}e^{2 \\gamma{\\left(r,t \\right)}} e^{- 2 \\psi{\\left(r,t \\right)}} & 0 & 0 & 0\\\\0 & - e^{2 \\gamma{\\left(r,t \\right)}} e^{- 2 \\psi{\\left(r,t \\right)}} & 0 & 0\\\\0 & 0 & - r^{2} e^{- 2 \\psi{\\left(r,t \\right)}} & 0\\\\0 & 0 & 0 & - e^{2 \\psi{\\left(r,t \\right)}}\\end{matrix}\\right]$"
      ],
      "text/plain": [
       "⎡ 2⋅γ(r, t)  -2⋅ψ(r, t)                                                       ⎤\n",
       "⎢ℯ         ⋅ℯ                       0                    0              0     ⎥\n",
       "⎢                                                                             ⎥\n",
       "⎢                          2⋅γ(r, t)  -2⋅ψ(r, t)                              ⎥\n",
       "⎢          0             -ℯ         ⋅ℯ                   0              0     ⎥\n",
       "⎢                                                                             ⎥\n",
       "⎢                                                   2  -2⋅ψ(r, t)             ⎥\n",
       "⎢          0                        0             -r ⋅ℯ                 0     ⎥\n",
       "⎢                                                                             ⎥\n",
       "⎢                                                                    2⋅ψ(r, t)⎥\n",
       "⎣          0                        0                    0         -ℯ         ⎦"
      ]
     },
     "execution_count": 29,
     "metadata": {},
     "output_type": "execute_result"
    }
   ],
   "source": [
    "g = zeros(4)\n",
    "\n",
    "for i in range(4):\n",
    "    for j in range(4):\n",
    "        if i == j:\n",
    "            g[i,j] = lineElement.coeff( differentials[i],2 ) \n",
    "        else:\n",
    "            g[i,j] = Rational(1,2)*lineElement.coeff( differentials[i]*differentials[j],1 )\n",
    "            \n",
    "g"
   ]
  },
  {
   "cell_type": "code",
   "execution_count": 30,
   "id": "2ae6326b",
   "metadata": {},
   "outputs": [],
   "source": [
    "import sympy"
   ]
  },
  {
   "cell_type": "code",
   "execution_count": 31,
   "id": "5beb6ac1",
   "metadata": {},
   "outputs": [
    {
     "data": {
      "text/latex": [
       "$\\displaystyle \\left[\\begin{matrix}e^{2 \\gamma{\\left(r,t \\right)}} e^{- 2 \\psi{\\left(r,t \\right)}} & 0 & 0 & 0\\\\0 & - e^{2 \\gamma{\\left(r,t \\right)}} e^{- 2 \\psi{\\left(r,t \\right)}} & 0 & 0\\\\0 & 0 & - r^{2} e^{- 2 \\psi{\\left(r,t \\right)}} & 0\\\\0 & 0 & 0 & - e^{2 \\psi{\\left(r,t \\right)}}\\end{matrix}\\right]$"
      ],
      "text/plain": [
       "⎡ 2⋅γ(r, t)  -2⋅ψ(r, t)                                                       ⎤\n",
       "⎢ℯ         ⋅ℯ                       0                    0              0     ⎥\n",
       "⎢                                                                             ⎥\n",
       "⎢                          2⋅γ(r, t)  -2⋅ψ(r, t)                              ⎥\n",
       "⎢          0             -ℯ         ⋅ℯ                   0              0     ⎥\n",
       "⎢                                                                             ⎥\n",
       "⎢                                                   2  -2⋅ψ(r, t)             ⎥\n",
       "⎢          0                        0             -r ⋅ℯ                 0     ⎥\n",
       "⎢                                                                             ⎥\n",
       "⎢                                                                    2⋅ψ(r, t)⎥\n",
       "⎣          0                        0                    0         -ℯ         ⎦"
      ]
     },
     "execution_count": 31,
     "metadata": {},
     "output_type": "execute_result"
    }
   ],
   "source": [
    "m = sympy.Array(g)\n",
    "m"
   ]
  },
  {
   "cell_type": "code",
   "execution_count": 32,
   "id": "9db96e9c",
   "metadata": {},
   "outputs": [],
   "source": [
    "from einsteinpy.symbolic import *"
   ]
  },
  {
   "cell_type": "code",
   "execution_count": 33,
   "id": "3a75b007",
   "metadata": {},
   "outputs": [],
   "source": [
    "syms = sympy.symbols(\"t r phi z\")\n",
    "t,r,phi,z = syms"
   ]
  },
  {
   "cell_type": "code",
   "execution_count": 34,
   "id": "6f35d712",
   "metadata": {},
   "outputs": [],
   "source": [
    "metric = MetricTensor(m,syms)"
   ]
  },
  {
   "cell_type": "code",
   "execution_count": 16,
   "id": "fe1b3998",
   "metadata": {},
   "outputs": [
    {
     "data": {
      "text/latex": [
       "$\\displaystyle \\left[\\begin{matrix}\\left[\\begin{matrix}\\frac{\\partial}{\\partial t} \\gamma{\\left(r,t \\right)} - \\frac{\\partial}{\\partial t} \\psi{\\left(r,t \\right)} & \\frac{\\partial}{\\partial r} \\gamma{\\left(r,t \\right)} - \\frac{\\partial}{\\partial r} \\psi{\\left(r,t \\right)} & 0 & 0\\\\\\frac{\\partial}{\\partial r} \\gamma{\\left(r,t \\right)} - \\frac{\\partial}{\\partial r} \\psi{\\left(r,t \\right)} & \\frac{\\partial}{\\partial t} \\gamma{\\left(r,t \\right)} - \\frac{\\partial}{\\partial t} \\psi{\\left(r,t \\right)} & 0 & 0\\\\0 & 0 & - r^{2} e^{- 2 \\gamma{\\left(r,t \\right)}} \\frac{\\partial}{\\partial t} \\psi{\\left(r,t \\right)} & 0\\\\0 & 0 & 0 & \\left(\\frac{\\partial}{\\partial t} \\mu{\\left(r,t \\right)} + \\frac{\\partial}{\\partial t} \\psi{\\left(r,t \\right)}\\right) e^{- 2 \\gamma{\\left(r,t \\right)} + 2 \\mu{\\left(r,t \\right)} + 4 \\psi{\\left(r,t \\right)}}\\end{matrix}\\right] & \\left[\\begin{matrix}\\frac{\\partial}{\\partial r} \\gamma{\\left(r,t \\right)} - \\frac{\\partial}{\\partial r} \\psi{\\left(r,t \\right)} & \\frac{\\partial}{\\partial t} \\gamma{\\left(r,t \\right)} - \\frac{\\partial}{\\partial t} \\psi{\\left(r,t \\right)} & 0 & 0\\\\\\frac{\\partial}{\\partial t} \\gamma{\\left(r,t \\right)} - \\frac{\\partial}{\\partial t} \\psi{\\left(r,t \\right)} & \\frac{\\partial}{\\partial r} \\gamma{\\left(r,t \\right)} - \\frac{\\partial}{\\partial r} \\psi{\\left(r,t \\right)} & 0 & 0\\\\0 & 0 & r \\left(r \\frac{\\partial}{\\partial r} \\psi{\\left(r,t \\right)} - 1\\right) e^{- 2 \\gamma{\\left(r,t \\right)}} & 0\\\\0 & 0 & 0 & - \\left(\\frac{\\partial}{\\partial r} \\mu{\\left(r,t \\right)} + \\frac{\\partial}{\\partial r} \\psi{\\left(r,t \\right)}\\right) e^{- 2 \\gamma{\\left(r,t \\right)} + 2 \\mu{\\left(r,t \\right)} + 4 \\psi{\\left(r,t \\right)}}\\end{matrix}\\right] & \\left[\\begin{matrix}0 & 0 & - \\frac{\\partial}{\\partial t} \\psi{\\left(r,t \\right)} & 0\\\\0 & 0 & - \\frac{\\partial}{\\partial r} \\psi{\\left(r,t \\right)} + \\frac{1}{r} & 0\\\\- \\frac{\\partial}{\\partial t} \\psi{\\left(r,t \\right)} & - \\frac{\\partial}{\\partial r} \\psi{\\left(r,t \\right)} + \\frac{1}{r} & 0 & 0\\\\0 & 0 & 0 & 0\\end{matrix}\\right] & \\left[\\begin{matrix}0 & 0 & 0 & \\frac{\\partial}{\\partial t} \\mu{\\left(r,t \\right)} + \\frac{\\partial}{\\partial t} \\psi{\\left(r,t \\right)}\\\\0 & 0 & 0 & \\frac{\\partial}{\\partial r} \\mu{\\left(r,t \\right)} + \\frac{\\partial}{\\partial r} \\psi{\\left(r,t \\right)}\\\\0 & 0 & 0 & 0\\\\\\frac{\\partial}{\\partial t} \\mu{\\left(r,t \\right)} + \\frac{\\partial}{\\partial t} \\psi{\\left(r,t \\right)} & \\frac{\\partial}{\\partial r} \\mu{\\left(r,t \\right)} + \\frac{\\partial}{\\partial r} \\psi{\\left(r,t \\right)} & 0 & 0\\end{matrix}\\right]\\end{matrix}\\right]$"
      ],
      "text/plain": [
       "⎡⎡∂             ∂            ∂             ∂                                                \n",
       "⎢⎢──(γ(r, t)) - ──(ψ(r, t))  ──(γ(r, t)) - ──(ψ(r, t))               0                      \n",
       "⎢⎢∂t            ∂t           ∂r            ∂r                                               \n",
       "⎢⎢                                                                                          \n",
       "⎢⎢∂             ∂            ∂             ∂                                                \n",
       "⎢⎢──(γ(r, t)) - ──(ψ(r, t))  ──(γ(r, t)) - ──(ψ(r, t))               0                      \n",
       "⎢⎢∂r            ∂r           ∂t            ∂t                                               \n",
       "⎢⎢                                                                                          \n",
       "⎢⎢                                                        2  -2⋅γ(r, t) ∂                   \n",
       "⎢⎢            0                          0              -r ⋅ℯ          ⋅──(ψ(r, t))         \n",
       "⎢⎢                                                                      ∂t                  \n",
       "⎢⎢                                                                                          \n",
       "⎢⎢                                                                                   ⎛∂     \n",
       "⎢⎢            0                          0                           0               ⎜──(μ(r\n",
       "⎣⎣                                                                                   ⎝∂t    \n",
       "\n",
       "                                                        ⎤  ⎡∂             ∂            ∂    \n",
       "                        0                               ⎥  ⎢──(γ(r, t)) - ──(ψ(r, t))  ──(γ(\n",
       "                                                        ⎥  ⎢∂r            ∂r           ∂t   \n",
       "                                                        ⎥  ⎢                                \n",
       "                                                        ⎥  ⎢∂             ∂            ∂    \n",
       "                        0                               ⎥  ⎢──(γ(r, t)) - ──(ψ(r, t))  ──(γ(\n",
       "                                                        ⎥  ⎢∂t            ∂t           ∂r   \n",
       "                                                        ⎥  ⎢                                \n",
       "                                                        ⎥  ⎢                                \n",
       "                        0                               ⎥  ⎢            0                   \n",
       "                                                        ⎥  ⎢                                \n",
       "                                                        ⎥  ⎢                                \n",
       "        ∂          ⎞  -2⋅γ(r, t) + 2⋅μ(r, t) + 4⋅ψ(r, t)⎥  ⎢                                \n",
       ", t)) + ──(ψ(r, t))⎟⋅ℯ                                  ⎥  ⎢            0                   \n",
       "        ∂t         ⎠                                    ⎦  ⎣                                \n",
       "\n",
       "         ∂                                                                                  \n",
       "r, t)) - ──(ψ(r, t))                  0                                                 0   \n",
       "         ∂t                                                                                 \n",
       "                                                                                            \n",
       "         ∂                                                                                  \n",
       "r, t)) - ──(ψ(r, t))                  0                                                 0   \n",
       "         ∂r                                                                                 \n",
       "                                                                                            \n",
       "                        ⎛  ∂              ⎞  -2⋅γ(r, t)                                     \n",
       "       0              r⋅⎜r⋅──(ψ(r, t)) - 1⎟⋅ℯ                                           0   \n",
       "                        ⎝  ∂r             ⎠                                                 \n",
       "                                                                                            \n",
       "                                                          ⎛∂             ∂          ⎞  -2⋅γ(\n",
       "       0                              0                  -⎜──(μ(r, t)) + ──(ψ(r, t))⎟⋅ℯ     \n",
       "                                                          ⎝∂r            ∂r         ⎠       \n",
       "\n",
       "                             ⎤                                                              \n",
       "                             ⎥  ⎡                                    ∂                ⎤  ⎡  \n",
       "                             ⎥  ⎢     0                0            -──(ψ(r, t))     0⎥  ⎢  \n",
       "                             ⎥  ⎢                                    ∂t               ⎥  ⎢  \n",
       "                             ⎥  ⎢                                                     ⎥  ⎢  \n",
       "                             ⎥  ⎢                                   ∂             1   ⎥  ⎢  \n",
       "                             ⎥  ⎢     0                0          - ──(ψ(r, t)) + ─  0⎥  ⎢  \n",
       "                             ⎥  ⎢                                   ∂r            r   ⎥  ⎢  \n",
       "                             ⎥  ⎢                                                     ⎥  ⎢  \n",
       "                             ⎥  ⎢ ∂              ∂             1                      ⎥  ⎢  \n",
       "                             ⎥  ⎢-──(ψ(r, t))  - ──(ψ(r, t)) + ─          0          0⎥  ⎢  \n",
       "                             ⎥  ⎢ ∂t             ∂r            r                      ⎥  ⎢∂ \n",
       "r, t) + 2⋅μ(r, t) + 4⋅ψ(r, t)⎥  ⎢                                                     ⎥  ⎢──\n",
       "                             ⎥  ⎣     0                0                  0          0⎦  ⎣∂t\n",
       "                             ⎦                                                              \n",
       "\n",
       "                                                                                 ⎤\n",
       "                                                       ∂             ∂          ⎤⎥\n",
       "          0                          0              0  ──(μ(r, t)) + ──(ψ(r, t))⎥⎥\n",
       "                                                       ∂t            ∂t         ⎥⎥\n",
       "                                                                                ⎥⎥\n",
       "                                                       ∂             ∂          ⎥⎥\n",
       "          0                          0              0  ──(μ(r, t)) + ──(ψ(r, t))⎥⎥\n",
       "                                                       ∂r            ∂r         ⎥⎥\n",
       "                                                                                ⎥⎥\n",
       "          0                          0              0              0            ⎥⎥\n",
       "                                                                                ⎥⎥\n",
       "            ∂            ∂             ∂                                        ⎥⎥\n",
       "(μ(r, t)) + ──(ψ(r, t))  ──(μ(r, t)) + ──(ψ(r, t))  0              0            ⎥⎥\n",
       "            ∂t           ∂r            ∂r                                       ⎦⎥\n",
       "                                                                                 ⎦"
      ]
     },
     "execution_count": 16,
     "metadata": {},
     "output_type": "execute_result"
    }
   ],
   "source": [
    "ch = ChristoffelSymbols.from_metric(metric)\n",
    "simplify(ch.tensor())"
   ]
  },
  {
   "cell_type": "code",
   "execution_count": 35,
   "id": "2f7b3f7e",
   "metadata": {},
   "outputs": [
    {
     "data": {
      "text/latex": [
       "$\\displaystyle \\left[\\begin{matrix}\\frac{- r \\left(- \\frac{\\partial^{2}}{\\partial r^{2}} \\gamma{\\left(r,t \\right)} + \\frac{\\partial^{2}}{\\partial t^{2}} \\gamma{\\left(r,t \\right)} + \\frac{\\partial^{2}}{\\partial r^{2}} \\psi{\\left(r,t \\right)} + 2 \\left(\\frac{\\partial}{\\partial t} \\psi{\\left(r,t \\right)}\\right)^{2} - \\frac{\\partial^{2}}{\\partial t^{2}} \\psi{\\left(r,t \\right)}\\right) + \\frac{\\partial}{\\partial r} \\gamma{\\left(r,t \\right)} - \\frac{\\partial}{\\partial r} \\psi{\\left(r,t \\right)}}{r} & - 2 \\frac{\\partial}{\\partial r} \\psi{\\left(r,t \\right)} \\frac{\\partial}{\\partial t} \\psi{\\left(r,t \\right)} + \\frac{\\frac{\\partial}{\\partial t} \\gamma{\\left(r,t \\right)}}{r} & 0 & 0\\\\- 2 \\frac{\\partial}{\\partial r} \\psi{\\left(r,t \\right)} \\frac{\\partial}{\\partial t} \\psi{\\left(r,t \\right)} + \\frac{\\frac{\\partial}{\\partial t} \\gamma{\\left(r,t \\right)}}{r} & \\frac{- r \\left(\\frac{\\partial^{2}}{\\partial r^{2}} \\gamma{\\left(r,t \\right)} - \\frac{\\partial^{2}}{\\partial t^{2}} \\gamma{\\left(r,t \\right)} + 2 \\left(\\frac{\\partial}{\\partial r} \\psi{\\left(r,t \\right)}\\right)^{2} - \\frac{\\partial^{2}}{\\partial r^{2}} \\psi{\\left(r,t \\right)} + \\frac{\\partial^{2}}{\\partial t^{2}} \\psi{\\left(r,t \\right)}\\right) + \\frac{\\partial}{\\partial r} \\gamma{\\left(r,t \\right)} + \\frac{\\partial}{\\partial r} \\psi{\\left(r,t \\right)}}{r} & 0 & 0\\\\0 & 0 & r \\left(r \\frac{\\partial^{2}}{\\partial r^{2}} \\psi{\\left(r,t \\right)} - r \\frac{\\partial^{2}}{\\partial t^{2}} \\psi{\\left(r,t \\right)} + \\frac{\\partial}{\\partial r} \\psi{\\left(r,t \\right)}\\right) e^{- 2 \\gamma{\\left(r,t \\right)}} & 0\\\\0 & 0 & 0 & \\frac{\\left(- r \\frac{\\partial^{2}}{\\partial r^{2}} \\psi{\\left(r,t \\right)} + r \\frac{\\partial^{2}}{\\partial t^{2}} \\psi{\\left(r,t \\right)} - \\frac{\\partial}{\\partial r} \\psi{\\left(r,t \\right)}\\right) e^{- 2 \\gamma{\\left(r,t \\right)} + 4 \\psi{\\left(r,t \\right)}}}{r}\\end{matrix}\\right]$"
      ],
      "text/plain": [
       "⎡    ⎛    2              2              2                           2     2         ⎞       \n",
       "⎢    ⎜   ∂              ∂              ∂               ⎛∂          ⎞     ∂          ⎟   ∂   \n",
       "⎢- r⋅⎜- ───(γ(r, t)) + ───(γ(r, t)) + ───(ψ(r, t)) + 2⋅⎜──(ψ(r, t))⎟  - ───(ψ(r, t))⎟ + ──(γ\n",
       "⎢    ⎜    2              2              2              ⎝∂t         ⎠      2         ⎟   ∂r  \n",
       "⎢    ⎝  ∂r             ∂t             ∂r                                ∂t          ⎠       \n",
       "⎢───────────────────────────────────────────────────────────────────────────────────────────\n",
       "⎢                                                       r                                   \n",
       "⎢                                                                                           \n",
       "⎢                                                                                           \n",
       "⎢                                                                                           \n",
       "⎢                                                                 ∂                         \n",
       "⎢                                                                 ──(γ(r, t))               \n",
       "⎢                                       ∂           ∂             ∂t                        \n",
       "⎢                                   - 2⋅──(ψ(r, t))⋅──(ψ(r, t)) + ───────────               \n",
       "⎢                                       ∂r          ∂t                 r                    \n",
       "⎢                                                                                           \n",
       "⎢                                                                                           \n",
       "⎢                                                                                           \n",
       "⎢                                                       0                                   \n",
       "⎢                                                                                           \n",
       "⎢                                                                                           \n",
       "⎢                                                                                           \n",
       "⎢                                                                                           \n",
       "⎢                                                                                           \n",
       "⎢                                                                                           \n",
       "⎢                                                                                           \n",
       "⎢                                                                                           \n",
       "⎢                                                       0                                   \n",
       "⎣                                                                                           \n",
       "\n",
       "                                                                                            \n",
       "          ∂                                                                                 \n",
       "(r, t)) - ──(ψ(r, t))                                                                  ∂    \n",
       "          ∂r                                                                           ──(γ(\n",
       "                                                             ∂           ∂             ∂t   \n",
       "─────────────────────                                    - 2⋅──(ψ(r, t))⋅──(ψ(r, t)) + ─────\n",
       "                                                             ∂r          ∂t                 \n",
       "                                                                                            \n",
       "                           ⎛  2              2                           2     2            \n",
       "                           ⎜ ∂              ∂               ⎛∂          ⎞     ∂             \n",
       "                       - r⋅⎜───(γ(r, t)) - ───(γ(r, t)) + 2⋅⎜──(ψ(r, t))⎟  - ───(ψ(r, t)) + \n",
       "                           ⎜  2              2              ⎝∂r         ⎠      2            \n",
       "                           ⎝∂r             ∂t                                ∂r             \n",
       "                       ─────────────────────────────────────────────────────────────────────\n",
       "                                                                             r              \n",
       "                                                                                            \n",
       "                                                                                            \n",
       "                                                                                            \n",
       "                                                                             0              \n",
       "                                                                                            \n",
       "                                                                                            \n",
       "                                                                                            \n",
       "                                                                                            \n",
       "                                                                                            \n",
       "                                                                                            \n",
       "                                                                                            \n",
       "                                                                                            \n",
       "                                                                             0              \n",
       "                                                                                            \n",
       "\n",
       "                                                                                            \n",
       "                                                                                            \n",
       "                                                                                            \n",
       "r, t))                                                                                      \n",
       "                                                                                            \n",
       "──────                                                                   0                  \n",
       "r                                                                                           \n",
       "                                                                                            \n",
       "  2         ⎞                                                                               \n",
       " ∂          ⎟   ∂             ∂                                                             \n",
       "───(ψ(r, t))⎟ + ──(γ(r, t)) + ──(ψ(r, t))                                                   \n",
       "  2         ⎟   ∂r            ∂r                                                            \n",
       "∂t          ⎠                                                                               \n",
       "─────────────────────────────────────────                                0                  \n",
       "                                                                                            \n",
       "                                                                                            \n",
       "                                             ⎛    2                2                       ⎞\n",
       "                                             ⎜   ∂                ∂             ∂          ⎟\n",
       "                                           r⋅⎜r⋅───(ψ(r, t)) - r⋅───(ψ(r, t)) + ──(ψ(r, t))⎟\n",
       "                                             ⎜    2                2            ∂r         ⎟\n",
       "                                             ⎝  ∂r               ∂t                        ⎠\n",
       "                                                                                            \n",
       "                                                                                            \n",
       "                                                                                            \n",
       "                                                                                            \n",
       "                                                                                            \n",
       "                                                                                            \n",
       "                                                                         0                  \n",
       "                                                                                            \n",
       "\n",
       "                                                                                       ⎤\n",
       "                                                                                       ⎥\n",
       "                                                                                       ⎥\n",
       "                                                                                       ⎥\n",
       "                                                                                       ⎥\n",
       "                                                  0                                    ⎥\n",
       "                                                                                       ⎥\n",
       "                                                                                       ⎥\n",
       "                                                                                       ⎥\n",
       "                                                                                       ⎥\n",
       "                                                                                       ⎥\n",
       "                                                                                       ⎥\n",
       "                                                                                       ⎥\n",
       "                                                  0                                    ⎥\n",
       "                                                                                       ⎥\n",
       "                                                                                       ⎥\n",
       "                                                                                       ⎥\n",
       "  -2⋅γ(r, t)                                                                           ⎥\n",
       "⋅ℯ                                                0                                    ⎥\n",
       "                                                                                       ⎥\n",
       "                                                                                       ⎥\n",
       "                                                                                       ⎥\n",
       "              ⎛      2                2                       ⎞                        ⎥\n",
       "              ⎜     ∂                ∂             ∂          ⎟  -2⋅γ(r, t) + 4⋅ψ(r, t)⎥\n",
       "              ⎜- r⋅───(ψ(r, t)) + r⋅───(ψ(r, t)) - ──(ψ(r, t))⎟⋅ℯ                      ⎥\n",
       "              ⎜      2                2            ∂r         ⎟                        ⎥\n",
       "              ⎝    ∂r               ∂t                        ⎠                        ⎥\n",
       "              ─────────────────────────────────────────────────────────────────────────⎥\n",
       "                                                  r                                    ⎦"
      ]
     },
     "execution_count": 35,
     "metadata": {},
     "output_type": "execute_result"
    }
   ],
   "source": [
    "Ric = RicciTensor.from_metric(metric)\n",
    "simplify(Ric.tensor())"
   ]
  },
  {
   "cell_type": "code",
   "execution_count": 18,
   "id": "0259b98c",
   "metadata": {
    "scrolled": true
   },
   "outputs": [
    {
     "data": {
      "text/latex": [
       "$\\displaystyle \\left[\\begin{matrix}1.0 \\frac{\\partial}{\\partial r} \\gamma{\\left(r,t \\right)} \\frac{\\partial}{\\partial r} \\mu{\\left(r,t \\right)} + 1.0 \\frac{\\partial}{\\partial t} \\gamma{\\left(r,t \\right)} \\frac{\\partial}{\\partial t} \\mu{\\left(r,t \\right)} - 1.0 \\left(\\frac{\\partial}{\\partial r} \\mu{\\left(r,t \\right)}\\right)^{2} - 2.0 \\frac{\\partial}{\\partial r} \\mu{\\left(r,t \\right)} \\frac{\\partial}{\\partial r} \\psi{\\left(r,t \\right)} - 1.0 \\frac{\\partial^{2}}{\\partial r^{2}} \\mu{\\left(r,t \\right)} - 2.0 \\frac{\\partial}{\\partial t} \\mu{\\left(r,t \\right)} \\frac{\\partial}{\\partial t} \\psi{\\left(r,t \\right)} - 1.0 \\left(\\frac{\\partial}{\\partial r} \\psi{\\left(r,t \\right)}\\right)^{2} - 1.0 \\left(\\frac{\\partial}{\\partial t} \\psi{\\left(r,t \\right)}\\right)^{2} + \\frac{1.0 \\frac{\\partial}{\\partial r} \\gamma{\\left(r,t \\right)}}{r} - \\frac{1.0 \\frac{\\partial}{\\partial r} \\mu{\\left(r,t \\right)}}{r} & \\frac{\\partial}{\\partial r} \\gamma{\\left(r,t \\right)} \\frac{\\partial}{\\partial t} \\mu{\\left(r,t \\right)} + \\frac{\\partial}{\\partial t} \\gamma{\\left(r,t \\right)} \\frac{\\partial}{\\partial r} \\mu{\\left(r,t \\right)} - \\frac{\\partial}{\\partial r} \\mu{\\left(r,t \\right)} \\frac{\\partial}{\\partial t} \\mu{\\left(r,t \\right)} - 2 \\frac{\\partial}{\\partial r} \\mu{\\left(r,t \\right)} \\frac{\\partial}{\\partial t} \\psi{\\left(r,t \\right)} - 2 \\frac{\\partial}{\\partial t} \\mu{\\left(r,t \\right)} \\frac{\\partial}{\\partial r} \\psi{\\left(r,t \\right)} - 2 \\frac{\\partial}{\\partial r} \\psi{\\left(r,t \\right)} \\frac{\\partial}{\\partial t} \\psi{\\left(r,t \\right)} - \\frac{\\partial^{2}}{\\partial t\\partial r} \\mu{\\left(r,t \\right)} + \\frac{\\frac{\\partial}{\\partial t} \\gamma{\\left(r,t \\right)}}{r} & 0 & 0\\\\\\frac{\\partial}{\\partial r} \\gamma{\\left(r,t \\right)} \\frac{\\partial}{\\partial t} \\mu{\\left(r,t \\right)} + \\frac{\\partial}{\\partial t} \\gamma{\\left(r,t \\right)} \\frac{\\partial}{\\partial r} \\mu{\\left(r,t \\right)} - \\frac{\\partial}{\\partial r} \\mu{\\left(r,t \\right)} \\frac{\\partial}{\\partial t} \\mu{\\left(r,t \\right)} - 2 \\frac{\\partial}{\\partial r} \\mu{\\left(r,t \\right)} \\frac{\\partial}{\\partial t} \\psi{\\left(r,t \\right)} - 2 \\frac{\\partial}{\\partial t} \\mu{\\left(r,t \\right)} \\frac{\\partial}{\\partial r} \\psi{\\left(r,t \\right)} - 2 \\frac{\\partial}{\\partial r} \\psi{\\left(r,t \\right)} \\frac{\\partial}{\\partial t} \\psi{\\left(r,t \\right)} - \\frac{\\partial^{2}}{\\partial t\\partial r} \\mu{\\left(r,t \\right)} + \\frac{\\frac{\\partial}{\\partial t} \\gamma{\\left(r,t \\right)}}{r} & 1.0 \\frac{\\partial}{\\partial r} \\gamma{\\left(r,t \\right)} \\frac{\\partial}{\\partial r} \\mu{\\left(r,t \\right)} + 1.0 \\frac{\\partial}{\\partial t} \\gamma{\\left(r,t \\right)} \\frac{\\partial}{\\partial t} \\mu{\\left(r,t \\right)} - 2.0 \\frac{\\partial}{\\partial r} \\mu{\\left(r,t \\right)} \\frac{\\partial}{\\partial r} \\psi{\\left(r,t \\right)} - 1.0 \\left(\\frac{\\partial}{\\partial t} \\mu{\\left(r,t \\right)}\\right)^{2} - 2.0 \\frac{\\partial}{\\partial t} \\mu{\\left(r,t \\right)} \\frac{\\partial}{\\partial t} \\psi{\\left(r,t \\right)} - 1.0 \\frac{\\partial^{2}}{\\partial t^{2}} \\mu{\\left(r,t \\right)} - 1.0 \\left(\\frac{\\partial}{\\partial r} \\psi{\\left(r,t \\right)}\\right)^{2} - 1.0 \\left(\\frac{\\partial}{\\partial t} \\psi{\\left(r,t \\right)}\\right)^{2} + \\frac{1.0 \\frac{\\partial}{\\partial r} \\gamma{\\left(r,t \\right)}}{r} + \\frac{1.0 \\frac{\\partial}{\\partial r} \\mu{\\left(r,t \\right)}}{r} & 0 & 0\\\\0 & 0 & r^{2} \\left(1.0 \\frac{\\partial^{2}}{\\partial r^{2}} \\gamma{\\left(r,t \\right)} - 1.0 \\frac{\\partial^{2}}{\\partial t^{2}} \\gamma{\\left(r,t \\right)} + 1.0 \\left(\\frac{\\partial}{\\partial r} \\mu{\\left(r,t \\right)}\\right)^{2} + 2.0 \\frac{\\partial}{\\partial r} \\mu{\\left(r,t \\right)} \\frac{\\partial}{\\partial r} \\psi{\\left(r,t \\right)} + 1.0 \\frac{\\partial^{2}}{\\partial r^{2}} \\mu{\\left(r,t \\right)} - 1.0 \\left(\\frac{\\partial}{\\partial t} \\mu{\\left(r,t \\right)}\\right)^{2} - 2.0 \\frac{\\partial}{\\partial t} \\mu{\\left(r,t \\right)} \\frac{\\partial}{\\partial t} \\psi{\\left(r,t \\right)} - 1.0 \\frac{\\partial^{2}}{\\partial t^{2}} \\mu{\\left(r,t \\right)} + 1.0 \\left(\\frac{\\partial}{\\partial r} \\psi{\\left(r,t \\right)}\\right)^{2} - 1.0 \\left(\\frac{\\partial}{\\partial t} \\psi{\\left(r,t \\right)}\\right)^{2}\\right) e^{- 2 \\gamma{\\left(r,t \\right)}} & 0\\\\0 & 0 & 0 & \\frac{\\left(1.0 r \\frac{\\partial^{2}}{\\partial r^{2}} \\gamma{\\left(r,t \\right)} - 1.0 r \\frac{\\partial^{2}}{\\partial t^{2}} \\gamma{\\left(r,t \\right)} + 1.0 r \\left(\\frac{\\partial}{\\partial r} \\psi{\\left(r,t \\right)}\\right)^{2} - 2.0 r \\frac{\\partial^{2}}{\\partial r^{2}} \\psi{\\left(r,t \\right)} - 1.0 r \\left(\\frac{\\partial}{\\partial t} \\psi{\\left(r,t \\right)}\\right)^{2} + 2.0 r \\frac{\\partial^{2}}{\\partial t^{2}} \\psi{\\left(r,t \\right)} - 2.0 \\frac{\\partial}{\\partial r} \\psi{\\left(r,t \\right)}\\right) e^{- 2 \\gamma{\\left(r,t \\right)} + 2 \\mu{\\left(r,t \\right)} + 4 \\psi{\\left(r,t \\right)}}}{r}\\end{matrix}\\right]$"
      ],
      "text/plain": [
       "⎡                                                                                           \n",
       "⎢                                                                         2                 \n",
       "⎢    ∂           ∂                 ∂           ∂             ⎛∂          ⎞        ∂         \n",
       "⎢1.0⋅──(γ(r, t))⋅──(μ(r, t)) + 1.0⋅──(γ(r, t))⋅──(μ(r, t)) - ⎜──(μ(r, t))⎟  - 2.0⋅──(μ(r, t)\n",
       "⎢    ∂r          ∂r                ∂t          ∂t            ⎝∂r         ⎠        ∂r        \n",
       "⎢                                                                                           \n",
       "⎢                                                                                           \n",
       "⎢                                                                                           \n",
       "⎢                                                                                           \n",
       "⎢            ∂           ∂             ∂           ∂             ∂           ∂              \n",
       "⎢            ──(γ(r, t))⋅──(μ(r, t)) + ──(γ(r, t))⋅──(μ(r, t)) - ──(μ(r, t))⋅──(μ(r, t)) - 2\n",
       "⎢            ∂r          ∂t            ∂t          ∂r            ∂r          ∂t             \n",
       "⎢                                                                                           \n",
       "⎢                                                                                           \n",
       "⎢                                                                                           \n",
       "⎢                                                                                           \n",
       "⎢                                                                                           \n",
       "⎢                                                                                           \n",
       "⎢                                                                                           \n",
       "⎢                                                                                           \n",
       "⎢                                                                                           \n",
       "⎢                                                                                           \n",
       "⎢                                                                                           \n",
       "⎢                                                                                           \n",
       "⎢                                                                                           \n",
       "⎢                                                                                           \n",
       "⎣                                                                                           \n",
       "\n",
       "                                                                                            \n",
       "                  2                                                       2                2\n",
       "  ∂              ∂                 ∂           ∂             ⎛∂          ⎞    ⎛∂          ⎞ \n",
       ")⋅──(ψ(r, t)) - ───(μ(r, t)) - 2.0⋅──(μ(r, t))⋅──(ψ(r, t)) - ⎜──(ψ(r, t))⎟  - ⎜──(ψ(r, t))⎟ \n",
       "  ∂r              2                ∂t          ∂t            ⎝∂r         ⎠    ⎝∂t         ⎠ \n",
       "                ∂r                                                                          \n",
       "                                                                                            \n",
       "                                                                                            \n",
       "                                                                                      2     \n",
       " ∂           ∂               ∂           ∂               ∂           ∂               ∂      \n",
       "⋅──(μ(r, t))⋅──(ψ(r, t)) - 2⋅──(μ(r, t))⋅──(ψ(r, t)) - 2⋅──(ψ(r, t))⋅──(ψ(r, t)) - ─────(μ(r\n",
       " ∂r          ∂t              ∂t          ∂r              ∂r          ∂t            ∂t ∂r    \n",
       "                                                                                            \n",
       "                                                                                            \n",
       "                                                                                            \n",
       "                                                                                            \n",
       "                0                                                                           \n",
       "                                                                                            \n",
       "                                                                                            \n",
       "                                                                                            \n",
       "                                                                                            \n",
       "                                                                                            \n",
       "                                                                                            \n",
       "                                                                                            \n",
       "                                                                                            \n",
       "                0                                                                           \n",
       "                                                                                            \n",
       "\n",
       "       ∂             ∂                                                                      \n",
       "   1.0⋅──(γ(r, t))   ──(μ(r, t))                                                            \n",
       "       ∂r            ∂r                         ∂           ∂             ∂           ∂     \n",
       " + ─────────────── - ───────────                ──(γ(r, t))⋅──(μ(r, t)) + ──(γ(r, t))⋅──(μ(r\n",
       "          r               r                     ∂r          ∂t            ∂t          ∂r    \n",
       "                                                                                            \n",
       "                                                                                            \n",
       "        ∂                                                                                   \n",
       "        ──(γ(r, t))                                                                         \n",
       "        ∂t                            ∂           ∂                 ∂           ∂           \n",
       ", t)) + ───────────               1.0⋅──(γ(r, t))⋅──(μ(r, t)) + 1.0⋅──(γ(r, t))⋅──(μ(r, t)) \n",
       "             r                        ∂r          ∂r                ∂t          ∂t          \n",
       "                                                                                            \n",
       "                                                                                            \n",
       "                                                                                            \n",
       "                                                                                            \n",
       "                                                                                            \n",
       "                                                                                            \n",
       "                                                                                            \n",
       "                                                                                            \n",
       "                                                                                            \n",
       "                                                                                            \n",
       "                                                                                            \n",
       "                                                                                            \n",
       "                                                                                            \n",
       "                                                                                            \n",
       "                                                                                            \n",
       "\n",
       "                                                                                            \n",
       "                                                                                            \n",
       "        ∂           ∂               ∂           ∂               ∂           ∂               \n",
       ", t)) - ──(μ(r, t))⋅──(μ(r, t)) - 2⋅──(μ(r, t))⋅──(ψ(r, t)) - 2⋅──(μ(r, t))⋅──(ψ(r, t)) - 2⋅\n",
       "        ∂r          ∂t              ∂r          ∂t              ∂t          ∂r              \n",
       "                                                                                            \n",
       "                                                                                            \n",
       "                                                                                            \n",
       "                                             2                                   2          \n",
       "      ∂           ∂             ⎛∂          ⎞        ∂           ∂              ∂           \n",
       "- 2.0⋅──(μ(r, t))⋅──(ψ(r, t)) - ⎜──(μ(r, t))⎟  - 2.0⋅──(μ(r, t))⋅──(ψ(r, t)) - ───(μ(r, t)) \n",
       "      ∂r          ∂r            ⎝∂t         ⎠        ∂t          ∂t              2          \n",
       "                                                                               ∂t           \n",
       "                                                                                            \n",
       "                                                                                            \n",
       "                                                                                            \n",
       "                                                   0                                        \n",
       "                                                                                            \n",
       "                                                                                            \n",
       "                                                                                            \n",
       "                                                                                            \n",
       "                                                                                            \n",
       "                                                                                            \n",
       "                                                                                            \n",
       "                                                                                            \n",
       "                                                   0                                        \n",
       "                                                                                            \n",
       "\n",
       "                                           ∂                                                \n",
       "                             2             ──(γ(r, t))                                      \n",
       "∂           ∂               ∂              ∂t                                               \n",
       "──(ψ(r, t))⋅──(ψ(r, t)) - ─────(μ(r, t)) + ───────────                                      \n",
       "∂r          ∂t            ∂t ∂r                 r                                           \n",
       "                                                                                            \n",
       "                                                                                            \n",
       "                                        ∂                 ∂                                 \n",
       "               2                2   1.0⋅──(γ(r, t))   1.0⋅──(μ(r, t))                       \n",
       "  ⎛∂          ⎞    ⎛∂          ⎞        ∂r                ∂r                                \n",
       "- ⎜──(ψ(r, t))⎟  - ⎜──(ψ(r, t))⎟  + ─────────────── + ───────────────                       \n",
       "  ⎝∂r         ⎠    ⎝∂t         ⎠           r                 r                              \n",
       "                                                                                            \n",
       "                                                                                            \n",
       "                                                                          ⎛      2          \n",
       "                                                                        2 ⎜     ∂           \n",
       "                                                                       r ⋅⎜1.0⋅───(γ(r, t)) \n",
       "                                                                          ⎜      2          \n",
       "                                                                          ⎝    ∂r           \n",
       "                                                                                            \n",
       "                                                                                            \n",
       "                                                                                            \n",
       "                                                                                            \n",
       "                                                                                            \n",
       "                                                                                            \n",
       "                                                                                            \n",
       "                                                                                            \n",
       "\n",
       "                                                                                            \n",
       "                                                                                            \n",
       "                                                                                            \n",
       "                                                                                       0    \n",
       "                                                                                            \n",
       "                                                                                            \n",
       "                                                                                            \n",
       "                                                                                            \n",
       "                                                                                            \n",
       "                                                                                            \n",
       "                                                                                       0    \n",
       "                                                                                            \n",
       "                                                                                            \n",
       "                                                                                            \n",
       "    2                             2                                       2                 \n",
       "   ∂                 ⎛∂          ⎞        ∂           ∂                  ∂             ⎛∂   \n",
       "- ───(γ(r, t)) + 1.0⋅⎜──(μ(r, t))⎟  + 2.0⋅──(μ(r, t))⋅──(ψ(r, t)) + 1.0⋅───(μ(r, t)) - ⎜──(μ\n",
       "    2                ⎝∂r         ⎠        ∂r          ∂r                  2            ⎝∂t  \n",
       "  ∂t                                                                    ∂r                  \n",
       "                                                                                            \n",
       "                                                                                            \n",
       "                                                                                            \n",
       "                                                                                            \n",
       "                                                                                            \n",
       "                                                                                            \n",
       "                                                                                       0    \n",
       "                                                                                            \n",
       "\n",
       "                                                                                            \n",
       "                                                                                            \n",
       "                                                                                            \n",
       "                                                                                            \n",
       "                                                                                            \n",
       "                                                                                            \n",
       "                                                                                            \n",
       "                                                                                            \n",
       "                                                                                            \n",
       "                                                                                            \n",
       "                                                                                            \n",
       "                                                                                            \n",
       "                                                                                            \n",
       "                                                                                            \n",
       "        2                                   2                             2                2\n",
       "       ⎞        ∂           ∂              ∂                 ⎛∂          ⎞    ⎛∂          ⎞ \n",
       "(r, t))⎟  - 2.0⋅──(μ(r, t))⋅──(ψ(r, t)) - ───(μ(r, t)) + 1.0⋅⎜──(ψ(r, t))⎟  - ⎜──(ψ(r, t))⎟ \n",
       "       ⎠        ∂t          ∂t              2                ⎝∂r         ⎠    ⎝∂t         ⎠ \n",
       "                                          ∂t                                                \n",
       "                                                                                            \n",
       "                                                                                            \n",
       "                                                                                            \n",
       "                                                                                            \n",
       "                                                                                            \n",
       "                                                                                            \n",
       "                                                                                            \n",
       "                                                                                            \n",
       "\n",
       "                                                                                            \n",
       "                                                                                            \n",
       "                                                                                            \n",
       "                                                                                            \n",
       "                                                                                            \n",
       "                                                                                            \n",
       "                                                                                            \n",
       "                                                                                            \n",
       "                                                                                            \n",
       "                                                                                            \n",
       "                                                                                            \n",
       "                                                                                            \n",
       "                                                                                            \n",
       "                                                                                            \n",
       "⎞                                                                                           \n",
       "⎟  -2⋅γ(r, t)                                                                               \n",
       "⎟⋅ℯ                                                                                         \n",
       "⎟                                                                                           \n",
       "⎠                                                                                           \n",
       "                                                                                            \n",
       "               ⎛        2                2                               2           2      \n",
       "               ⎜       ∂                ∂                   ⎛∂          ⎞           ∂       \n",
       "               ⎜1.0⋅r⋅───(γ(r, t)) - r⋅───(γ(r, t)) + 1.0⋅r⋅⎜──(ψ(r, t))⎟  - 2.0⋅r⋅───(ψ(r, \n",
       "               ⎜        2                2                  ⎝∂r         ⎠            2      \n",
       "               ⎝      ∂r               ∂t                                          ∂r       \n",
       "               ─────────────────────────────────────────────────────────────────────────────\n",
       "                                                                                            \n",
       "\n",
       "                                                                                            \n",
       "                                                                                            \n",
       "                                                                                            \n",
       "          0                                                                                 \n",
       "                                                                                            \n",
       "                                                                                            \n",
       "                                                                                            \n",
       "                                                                                            \n",
       "                                                                                            \n",
       "                                                                                            \n",
       "          0                                                                                 \n",
       "                                                                                            \n",
       "                                                                                            \n",
       "                                                                                            \n",
       "                                                                                            \n",
       "                                                                                            \n",
       "          0                                                                                 \n",
       "                                                                                            \n",
       "                                                                                            \n",
       "                                                                                            \n",
       "                     2           2                           ⎞                              \n",
       "        ⎛∂          ⎞           ∂                 ∂          ⎟  -2⋅γ(r, t) + 2⋅μ(r, t) + 4⋅ψ\n",
       "t)) - r⋅⎜──(ψ(r, t))⎟  + 2.0⋅r⋅───(ψ(r, t)) - 2.0⋅──(ψ(r, t))⎟⋅ℯ                            \n",
       "        ⎝∂t         ⎠            2                ∂r         ⎟                              \n",
       "                               ∂t                            ⎠                              \n",
       "────────────────────────────────────────────────────────────────────────────────────────────\n",
       "          r                                                                                 \n",
       "\n",
       "      ⎤\n",
       "      ⎥\n",
       "      ⎥\n",
       "      ⎥\n",
       "      ⎥\n",
       "      ⎥\n",
       "      ⎥\n",
       "      ⎥\n",
       "      ⎥\n",
       "      ⎥\n",
       "      ⎥\n",
       "      ⎥\n",
       "      ⎥\n",
       "      ⎥\n",
       "      ⎥\n",
       "      ⎥\n",
       "      ⎥\n",
       "      ⎥\n",
       "      ⎥\n",
       "      ⎥\n",
       "      ⎥\n",
       "(r, t)⎥\n",
       "      ⎥\n",
       "      ⎥\n",
       "      ⎥\n",
       "──────⎥\n",
       "      ⎦"
      ]
     },
     "execution_count": 18,
     "metadata": {},
     "output_type": "execute_result"
    }
   ],
   "source": [
    "einst = EinsteinTensor.from_metric(metric)\n",
    "simplify(einst.tensor())"
   ]
  },
  {
   "cell_type": "code",
   "execution_count": 36,
   "id": "62f4450a",
   "metadata": {},
   "outputs": [
    {
     "data": {
      "image/png": "[encoded data removed]",
      "text/latex": [
       "$\\displaystyle \\frac{2 \\left(r \\frac{\\partial^{2}}{\\partial r^{2}} \\gamma{\\left(r,t \\right)} - r \\frac{\\partial^{2}}{\\partial t^{2}} \\gamma{\\left(r,t \\right)} + r \\left(\\frac{\\partial}{\\partial r} \\psi{\\left(r,t \\right)}\\right)^{2} - r \\frac{\\partial^{2}}{\\partial r^{2}} \\psi{\\left(r,t \\right)} - r \\left(\\frac{\\partial}{\\partial t} \\psi{\\left(r,t \\right)}\\right)^{2} + r \\frac{\\partial^{2}}{\\partial t^{2}} \\psi{\\left(r,t \\right)} - \\frac{\\partial}{\\partial r} \\psi{\\left(r,t \\right)}\\right) e^{- 2 \\gamma{\\left(r,t \\right)} + 2 \\psi{\\left(r,t \\right)}}}{r}$"
      ],
      "text/plain": [
       "  ⎛    2                2                           2       2                           2   \n",
       "  ⎜   ∂                ∂               ⎛∂          ⎞       ∂               ⎛∂          ⎞    \n",
       "2⋅⎜r⋅───(γ(r, t)) - r⋅───(γ(r, t)) + r⋅⎜──(ψ(r, t))⎟  - r⋅───(ψ(r, t)) - r⋅⎜──(ψ(r, t))⎟  + \n",
       "  ⎜    2                2              ⎝∂r         ⎠        2              ⎝∂t         ⎠    \n",
       "  ⎝  ∂r               ∂t                                  ∂r                                \n",
       "────────────────────────────────────────────────────────────────────────────────────────────\n",
       "                                                                        r                   \n",
       "\n",
       "    2                       ⎞                        \n",
       "   ∂             ∂          ⎟  -2⋅γ(r, t) + 2⋅ψ(r, t)\n",
       "r⋅───(ψ(r, t)) - ──(ψ(r, t))⎟⋅ℯ                      \n",
       "    2            ∂r         ⎟                        \n",
       "  ∂t                        ⎠                        \n",
       "─────────────────────────────────────────────────────\n",
       "                                                     "
      ]
     },
     "execution_count": 36,
     "metadata": {},
     "output_type": "execute_result"
    }
   ],
   "source": [
    "R = RicciScalar.from_riccitensor(Ric)\n",
    "R.simplify()\n",
    "R.expr"
   ]
  },
  {
   "cell_type": "code",
   "execution_count": 20,
   "id": "4a05b5e5",
   "metadata": {},
   "outputs": [],
   "source": [
    "# rm1 = RiemannCurvatureTensor.from_christoffels(ch)\n",
    "# rm1.tensor()"
   ]
  },
  {
   "cell_type": "code",
   "execution_count": 21,
   "id": "33bba1a2",
   "metadata": {},
   "outputs": [],
   "source": [
    "# weyl = WeylTensor.from_metric(metric)\n",
    "# weyl.tensor()"
   ]
  },
  {
   "cell_type": "code",
   "execution_count": 63,
   "id": "2319df6c",
   "metadata": {
    "scrolled": true
   },
   "outputs": [
    {
     "data": {
      "image/png": "[encoded data removed]",
      "text/latex": [
       "$\\displaystyle - \\frac{\\partial^{2}}{\\partial r^{2}} \\psi{\\left(r,t \\right)} + \\frac{\\partial^{2}}{\\partial t^{2}} \\psi{\\left(r,t \\right)} - \\frac{\\frac{\\partial}{\\partial r} \\psi{\\left(r,t \\right)}}{r} = 0$"
      ],
      "text/plain": [
       "                                ∂              \n",
       "    2              2            ──(ψ(r, t))    \n",
       "   ∂              ∂             ∂r             \n",
       "- ───(ψ(r, t)) + ───(ψ(r, t)) - ─────────── = 0\n",
       "    2              2                 r         \n",
       "  ∂r             ∂t                            "
      ]
     },
     "execution_count": 63,
     "metadata": {},
     "output_type": "execute_result"
    }
   ],
   "source": [
    "fieldEquation1 = Eq(expand((-1/r)*simplify(Ric.tensor())[2,2].args[1]),0)\n",
    "fieldEquation1"
   ]
  },
  {
   "cell_type": "code",
   "execution_count": 65,
   "id": "b407fe17",
   "metadata": {},
   "outputs": [
    {
     "data": {
      "image/png": "[encoded data removed]",
      "text/latex": [
       "$\\displaystyle \\frac{\\partial}{\\partial t} \\gamma{\\left(r,t \\right)} = 2 r \\frac{\\partial}{\\partial r} \\psi{\\left(r,t \\right)} \\frac{\\partial}{\\partial t} \\psi{\\left(r,t \\right)}$"
      ],
      "text/plain": [
       "∂                 ∂           ∂          \n",
       "──(γ(r, t)) = 2⋅r⋅──(ψ(r, t))⋅──(ψ(r, t))\n",
       "∂t                ∂r          ∂t         "
      ]
     },
     "execution_count": 65,
     "metadata": {},
     "output_type": "execute_result"
    }
   ],
   "source": [
    "fieldEquation2 = Eq(diff(gamma,t),solve( simplify(Ric.tensor())[0,1], diff(gamma,t) )[0])\n",
    "fieldEquation2"
   ]
  },
  {
   "cell_type": "code",
   "execution_count": 66,
   "id": "a8ca4f03",
   "metadata": {},
   "outputs": [
    {
     "data": {
      "image/png": "[encoded data removed]",
      "text/latex": [
       "$\\displaystyle \\frac{\\partial}{\\partial r} \\gamma{\\left(r,t \\right)} = r \\left(\\left(\\frac{\\partial}{\\partial r} \\psi{\\left(r,t \\right)}\\right)^{2} + \\left(\\frac{\\partial}{\\partial t} \\psi{\\left(r,t \\right)}\\right)^{2}\\right)$"
      ],
      "text/plain": [
       "                ⎛             2                2⎞\n",
       "∂               ⎜⎛∂          ⎞    ⎛∂          ⎞ ⎟\n",
       "──(γ(r, t)) = r⋅⎜⎜──(ψ(r, t))⎟  + ⎜──(ψ(r, t))⎟ ⎟\n",
       "∂r              ⎝⎝∂r         ⎠    ⎝∂t         ⎠ ⎠"
      ]
     },
     "execution_count": 66,
     "metadata": {},
     "output_type": "execute_result"
    }
   ],
   "source": [
    "fieldEquation3 = Eq(diff(gamma,r),solve( simplify(simplify(Ric.tensor())[0,0].args[1] + simplify(Ric.tensor())[1,1].args[1]) , diff(gamma,r))[0])\n",
    "fieldEquation3"
   ]
  },
  {
   "cell_type": "code",
   "execution_count": 68,
   "id": "3eccc3ea",
   "metadata": {},
   "outputs": [
    {
     "data": {
      "text/latex": [
       "$\\displaystyle \\left[\\begin{matrix}- \\frac{\\partial^{2}}{\\partial r^{2}} \\psi{\\left(r,t \\right)} + \\frac{\\partial^{2}}{\\partial t^{2}} \\psi{\\left(r,t \\right)} - \\frac{\\frac{\\partial}{\\partial r} \\psi{\\left(r,t \\right)}}{r} = 0\\\\\\frac{\\partial}{\\partial t} \\gamma{\\left(r,t \\right)} = 2 r \\frac{\\partial}{\\partial r} \\psi{\\left(r,t \\right)} \\frac{\\partial}{\\partial t} \\psi{\\left(r,t \\right)}\\\\\\frac{\\partial}{\\partial r} \\gamma{\\left(r,t \\right)} = r \\left(\\left(\\frac{\\partial}{\\partial r} \\psi{\\left(r,t \\right)}\\right)^{2} + \\left(\\frac{\\partial}{\\partial t} \\psi{\\left(r,t \\right)}\\right)^{2}\\right)\\end{matrix}\\right]$"
      ],
      "text/plain": [
       "⎡                                 ∂               ⎤\n",
       "⎢     2              2            ──(ψ(r, t))     ⎥\n",
       "⎢    ∂              ∂             ∂r              ⎥\n",
       "⎢ - ───(ψ(r, t)) + ───(ψ(r, t)) - ─────────── = 0 ⎥\n",
       "⎢     2              2                 r          ⎥\n",
       "⎢   ∂r             ∂t                             ⎥\n",
       "⎢                                                 ⎥\n",
       "⎢    ∂                 ∂           ∂              ⎥\n",
       "⎢    ──(γ(r, t)) = 2⋅r⋅──(ψ(r, t))⋅──(ψ(r, t))    ⎥\n",
       "⎢    ∂t                ∂r          ∂t             ⎥\n",
       "⎢                                                 ⎥\n",
       "⎢                ⎛             2                2⎞⎥\n",
       "⎢∂               ⎜⎛∂          ⎞    ⎛∂          ⎞ ⎟⎥\n",
       "⎢──(γ(r, t)) = r⋅⎜⎜──(ψ(r, t))⎟  + ⎜──(ψ(r, t))⎟ ⎟⎥\n",
       "⎣∂r              ⎝⎝∂r         ⎠    ⎝∂t         ⎠ ⎠⎦"
      ]
     },
     "execution_count": 68,
     "metadata": {},
     "output_type": "execute_result"
    }
   ],
   "source": [
    "fieldEquations = Matrix([fieldEquation1,fieldEquation2,fieldEquation3])\n",
    "fieldEquations"
   ]
  },
  {
   "cell_type": "code",
   "execution_count": null,
   "id": "2bbfe7e3",
   "metadata": {},
   "outputs": [],
   "source": []
  }
 ],
 "metadata": {
  "@webio": {
   "lastCommId": "dfcde9b960e54fa188a893450bdd5e9c",
   "lastKernelId": "ce09ff34-c75c-4bce-9bdf-37a74c651259"
  },
  "kernelspec": {
   "display_name": "Python 3 (ipykernel)",
   "language": "python",
   "name": "python3"
  },
  "language_info": {
   "codemirror_mode": {
    "name": "ipython",
    "version": 3
   },
   "file_extension": ".py",
   "mimetype": "text/x-python",
   "name": "python",
   "nbconvert_exporter": "python",
   "pygments_lexer": "ipython3",
   "version": "3.8.8"
  }
 },
 "nbformat": 4,
 "nbformat_minor": 5
}
