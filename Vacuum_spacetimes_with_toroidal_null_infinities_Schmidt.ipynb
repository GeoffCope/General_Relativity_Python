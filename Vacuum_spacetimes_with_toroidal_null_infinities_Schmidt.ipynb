{
 "cells": [
  {
   "cell_type": "markdown",
   "id": "57f7c503",
   "metadata": {},
   "source": [
    "# Vacuum spacetimes with toroidal null infinities Schmidt\n",
    "##  Geoff Cope\n",
    "##  Univeristy of Utah\n",
    "##  𐐏𐐭𐑌𐐲𐑂𐐲𐑉𐑅𐐮𐐻𐐨 𐐲𐑂 𐐏𐐭𐐻𐐫\n",
    "##  January 22, 2022"
   ]
  },
  {
   "cell_type": "markdown",
   "id": "a4656fd3",
   "metadata": {},
   "source": [
    "https://pure.mpg.de/rest/items/item_153062/component/file_153061/content"
   ]
  },
  {
   "cell_type": "code",
   "execution_count": 1,
   "id": "2451af7d",
   "metadata": {},
   "outputs": [
    {
     "name": "stdout",
     "output_type": "stream",
     "text": [
      "IPython console for SymPy 1.9 (Python 3.8.8-64-bit) (ground types: gmpy)\n",
      "\n",
      "These commands were executed:\n",
      ">>> from __future__ import division\n",
      ">>> from sympy import *\n",
      ">>> x, y, z, t = symbols('x y z t')\n",
      ">>> k, m, n = symbols('k m n', integer=True)\n",
      ">>> f, g, h = symbols('f g h', cls=Function)\n",
      ">>> init_printing()\n",
      "\n",
      "Documentation can be found at https://docs.sympy.org/1.9/\n",
      "\n"
     ]
    }
   ],
   "source": [
    "from sympy import init_session\n",
    "init_session(use_latex=True)"
   ]
  },
  {
   "cell_type": "code",
   "execution_count": 2,
   "id": "fd0f153b",
   "metadata": {},
   "outputs": [],
   "source": [
    "import warnings\n",
    "import matplotlib.cbook\n",
    "warnings.filterwarnings(\"ignore\",category=matplotlib.cbook.mplDeprecation)"
   ]
  },
  {
   "cell_type": "code",
   "execution_count": 3,
   "id": "9d2595d0",
   "metadata": {},
   "outputs": [],
   "source": [
    "t,x,y,z,dt,dx,dy,dz = symbols('t x y z dt dx dy dz')"
   ]
  },
  {
   "cell_type": "code",
   "execution_count": 4,
   "id": "81119432",
   "metadata": {},
   "outputs": [
    {
     "data": {
      "image/png": "[encoded data removed]",
      "text/latex": [
       "$\\displaystyle M{\\left(t,z \\right)}$"
      ],
      "text/plain": [
       "M(t, z)"
      ]
     },
     "execution_count": 4,
     "metadata": {},
     "output_type": "execute_result"
    }
   ],
   "source": [
    "M = Function('M')(t,z)\n",
    "M"
   ]
  },
  {
   "cell_type": "code",
   "execution_count": 5,
   "id": "e80a0c39",
   "metadata": {},
   "outputs": [
    {
     "data": {
      "image/png": "[encoded data removed]",
      "text/latex": [
       "$\\displaystyle W{\\left(t,z \\right)}$"
      ],
      "text/plain": [
       "W(t, z)"
      ]
     },
     "execution_count": 5,
     "metadata": {},
     "output_type": "execute_result"
    }
   ],
   "source": [
    "W = Function('W')(t,z)\n",
    "W"
   ]
  },
  {
   "cell_type": "code",
   "execution_count": 6,
   "id": "7337916e",
   "metadata": {},
   "outputs": [
    {
     "data": {
      "text/latex": [
       "$\\displaystyle \\left[\\begin{matrix}t\\\\x\\\\y\\\\z\\end{matrix}\\right]$"
      ],
      "text/plain": [
       "⎡t⎤\n",
       "⎢ ⎥\n",
       "⎢x⎥\n",
       "⎢ ⎥\n",
       "⎢y⎥\n",
       "⎢ ⎥\n",
       "⎣z⎦"
      ]
     },
     "execution_count": 6,
     "metadata": {},
     "output_type": "execute_result"
    }
   ],
   "source": [
    "variables = Matrix([t,x,y,z])\n",
    "variables"
   ]
  },
  {
   "cell_type": "code",
   "execution_count": 7,
   "id": "783893a8",
   "metadata": {},
   "outputs": [
    {
     "data": {
      "text/latex": [
       "$\\displaystyle \\left[\\begin{matrix}dt\\\\dx\\\\dy\\\\dz\\end{matrix}\\right]$"
      ],
      "text/plain": [
       "⎡dt⎤\n",
       "⎢  ⎥\n",
       "⎢dx⎥\n",
       "⎢  ⎥\n",
       "⎢dy⎥\n",
       "⎢  ⎥\n",
       "⎣dz⎦"
      ]
     },
     "execution_count": 7,
     "metadata": {},
     "output_type": "execute_result"
    }
   ],
   "source": [
    "differentials = Matrix([dt,dx,dy,dz])\n",
    "differentials "
   ]
  },
  {
   "cell_type": "code",
   "execution_count": 8,
   "id": "e4e21ad6",
   "metadata": {},
   "outputs": [
    {
     "data": {
      "image/png": "[encoded data removed]",
      "text/latex": [
       "$\\displaystyle - dt^{2} e^{2 M{\\left(t,z \\right)}} + dx^{2} t e^{W{\\left(t,z \\right)}} + dy^{2} t e^{- W{\\left(t,z \\right)}} + dz^{2} e^{2 M{\\left(t,z \\right)}}$"
      ],
      "text/plain": [
       "    2  2⋅M(t, z)     2    W(t, z)     2    -W(t, z)     2  2⋅M(t, z)\n",
       "- dt ⋅ℯ          + dx ⋅t⋅ℯ        + dy ⋅t⋅ℯ         + dz ⋅ℯ         "
      ]
     },
     "execution_count": 8,
     "metadata": {},
     "output_type": "execute_result"
    }
   ],
   "source": [
    "#  equation 3.1 \n",
    "lineElement = expand( exp(2*M)*(-dt**2 + dz**2) + t*(exp(W)*dx**2 + exp(-W)*dy**2) ) \n",
    "lineElement"
   ]
  },
  {
   "cell_type": "code",
   "execution_count": 9,
   "id": "c1ff7ecc",
   "metadata": {},
   "outputs": [
    {
     "data": {
      "text/latex": [
       "$\\displaystyle \\left[\\begin{matrix}- e^{2 M{\\left(t,z \\right)}} & 0 & 0 & 0\\\\0 & t e^{W{\\left(t,z \\right)}} & 0 & 0\\\\0 & 0 & t e^{- W{\\left(t,z \\right)}} & 0\\\\0 & 0 & 0 & e^{2 M{\\left(t,z \\right)}}\\end{matrix}\\right]$"
      ],
      "text/plain": [
       "⎡  2⋅M(t, z)                                     ⎤\n",
       "⎢-ℯ               0            0           0     ⎥\n",
       "⎢                                                ⎥\n",
       "⎢                W(t, z)                         ⎥\n",
       "⎢     0       t⋅ℯ              0           0     ⎥\n",
       "⎢                                                ⎥\n",
       "⎢                            -W(t, z)            ⎥\n",
       "⎢     0           0       t⋅ℯ              0     ⎥\n",
       "⎢                                                ⎥\n",
       "⎢                                       2⋅M(t, z)⎥\n",
       "⎣     0           0            0       ℯ         ⎦"
      ]
     },
     "execution_count": 9,
     "metadata": {},
     "output_type": "execute_result"
    }
   ],
   "source": [
    "g = zeros(4)\n",
    "\n",
    "for i in range(4):\n",
    "    for j in range(4):\n",
    "        if i == j:\n",
    "            g[i,j] = lineElement.coeff( differentials[i],2 ) \n",
    "        else:\n",
    "            g[i,j] = Rational(1,2)*lineElement.coeff( differentials[i]*differentials[j],1 )\n",
    "            \n",
    "g"
   ]
  },
  {
   "cell_type": "code",
   "execution_count": 10,
   "id": "86020c39",
   "metadata": {},
   "outputs": [],
   "source": [
    "import sympy"
   ]
  },
  {
   "cell_type": "code",
   "execution_count": 11,
   "id": "14a82135",
   "metadata": {},
   "outputs": [
    {
     "data": {
      "text/latex": [
       "$\\displaystyle \\left[\\begin{matrix}- e^{2 M{\\left(t,z \\right)}} & 0 & 0 & 0\\\\0 & t e^{W{\\left(t,z \\right)}} & 0 & 0\\\\0 & 0 & t e^{- W{\\left(t,z \\right)}} & 0\\\\0 & 0 & 0 & e^{2 M{\\left(t,z \\right)}}\\end{matrix}\\right]$"
      ],
      "text/plain": [
       "⎡  2⋅M(t, z)                                     ⎤\n",
       "⎢-ℯ               0            0           0     ⎥\n",
       "⎢                                                ⎥\n",
       "⎢                W(t, z)                         ⎥\n",
       "⎢     0       t⋅ℯ              0           0     ⎥\n",
       "⎢                                                ⎥\n",
       "⎢                            -W(t, z)            ⎥\n",
       "⎢     0           0       t⋅ℯ              0     ⎥\n",
       "⎢                                                ⎥\n",
       "⎢                                       2⋅M(t, z)⎥\n",
       "⎣     0           0            0       ℯ         ⎦"
      ]
     },
     "execution_count": 11,
     "metadata": {},
     "output_type": "execute_result"
    }
   ],
   "source": [
    "m = sympy.Array(g)\n",
    "m"
   ]
  },
  {
   "cell_type": "code",
   "execution_count": 12,
   "id": "e30fc80a",
   "metadata": {},
   "outputs": [],
   "source": [
    "from einsteinpy.symbolic import *"
   ]
  },
  {
   "cell_type": "code",
   "execution_count": 13,
   "id": "b1e4e2a2",
   "metadata": {},
   "outputs": [],
   "source": [
    "syms = sympy.symbols(\"t x y z\")\n",
    "t,x,y,z = syms"
   ]
  },
  {
   "cell_type": "code",
   "execution_count": 14,
   "id": "18927bed",
   "metadata": {},
   "outputs": [],
   "source": [
    "metric = MetricTensor(m,syms)"
   ]
  },
  {
   "cell_type": "code",
   "execution_count": 15,
   "id": "b8c62933",
   "metadata": {},
   "outputs": [
    {
     "data": {
      "text/latex": [
       "$\\displaystyle \\left[\\begin{matrix}\\left[\\begin{matrix}\\frac{\\partial}{\\partial t} M{\\left(t,z \\right)} & 0 & 0 & \\frac{\\partial}{\\partial z} M{\\left(t,z \\right)}\\\\0 & \\frac{\\left(t \\frac{\\partial}{\\partial t} W{\\left(t,z \\right)} + 1\\right) e^{- 2 M{\\left(t,z \\right)} + W{\\left(t,z \\right)}}}{2} & 0 & 0\\\\0 & 0 & \\frac{\\left(- t \\frac{\\partial}{\\partial t} W{\\left(t,z \\right)} + 1\\right) e^{- 2 M{\\left(t,z \\right)} - W{\\left(t,z \\right)}}}{2} & 0\\\\\\frac{\\partial}{\\partial z} M{\\left(t,z \\right)} & 0 & 0 & \\frac{\\partial}{\\partial t} M{\\left(t,z \\right)}\\end{matrix}\\right] & \\left[\\begin{matrix}0 & \\frac{t \\frac{\\partial}{\\partial t} W{\\left(t,z \\right)} + 1}{2 t} & 0 & 0\\\\\\frac{t \\frac{\\partial}{\\partial t} W{\\left(t,z \\right)} + 1}{2 t} & 0 & 0 & \\frac{\\frac{\\partial}{\\partial z} W{\\left(t,z \\right)}}{2}\\\\0 & 0 & 0 & 0\\\\0 & \\frac{\\frac{\\partial}{\\partial z} W{\\left(t,z \\right)}}{2} & 0 & 0\\end{matrix}\\right] & \\left[\\begin{matrix}0 & 0 & \\frac{- t \\frac{\\partial}{\\partial t} W{\\left(t,z \\right)} + 1}{2 t} & 0\\\\0 & 0 & 0 & 0\\\\\\frac{- t \\frac{\\partial}{\\partial t} W{\\left(t,z \\right)} + 1}{2 t} & 0 & 0 & - \\frac{\\frac{\\partial}{\\partial z} W{\\left(t,z \\right)}}{2}\\\\0 & 0 & - \\frac{\\frac{\\partial}{\\partial z} W{\\left(t,z \\right)}}{2} & 0\\end{matrix}\\right] & \\left[\\begin{matrix}\\frac{\\partial}{\\partial z} M{\\left(t,z \\right)} & 0 & 0 & \\frac{\\partial}{\\partial t} M{\\left(t,z \\right)}\\\\0 & - \\frac{t e^{- 2 M{\\left(t,z \\right)} + W{\\left(t,z \\right)}} \\frac{\\partial}{\\partial z} W{\\left(t,z \\right)}}{2} & 0 & 0\\\\0 & 0 & \\frac{t e^{- 2 M{\\left(t,z \\right)} - W{\\left(t,z \\right)}} \\frac{\\partial}{\\partial z} W{\\left(t,z \\right)}}{2} & 0\\\\\\frac{\\partial}{\\partial t} M{\\left(t,z \\right)} & 0 & 0 & \\frac{\\partial}{\\partial z} M{\\left(t,z \\right)}\\end{matrix}\\right]\\end{matrix}\\right]$"
      ],
      "text/plain": [
       "⎡⎡∂                                                                                         \n",
       "⎢⎢──(M(t, z))                      0                                           0            \n",
       "⎢⎢∂t                                                                                        \n",
       "⎢⎢                                                                                          \n",
       "⎢⎢             ⎛  ∂              ⎞  -2⋅M(t, z) + W(t, z)                                    \n",
       "⎢⎢             ⎜t⋅──(W(t, z)) + 1⎟⋅ℯ                                                        \n",
       "⎢⎢             ⎝  ∂t             ⎠                                                          \n",
       "⎢⎢     0       ─────────────────────────────────────────                       0            \n",
       "⎢⎢                                 2                                                        \n",
       "⎢⎢                                                                                          \n",
       "⎢⎢                                                        ⎛    ∂              ⎞  -2⋅M(t, z) \n",
       "⎢⎢                                                        ⎜- t⋅──(W(t, z)) + 1⎟⋅ℯ           \n",
       "⎢⎢                                                        ⎝    ∂t             ⎠             \n",
       "⎢⎢     0                           0                      ──────────────────────────────────\n",
       "⎢⎢                                                                             2            \n",
       "⎢⎢                                                                                          \n",
       "⎢⎢∂                                                                                         \n",
       "⎢⎢──(M(t, z))                      0                                           0            \n",
       "⎣⎣∂z                                                                                        \n",
       "\n",
       "           ∂          ⎤  ⎡                     ∂                              ⎤  ⎡          \n",
       "           ──(M(t, z))⎥  ⎢                   t⋅──(W(t, z)) + 1                ⎥  ⎢          \n",
       "           ∂z         ⎥  ⎢                     ∂t                             ⎥  ⎢          \n",
       "                      ⎥  ⎢        0          ─────────────────  0       0     ⎥  ⎢         0\n",
       "                      ⎥  ⎢                          2⋅t                       ⎥  ⎢          \n",
       "                      ⎥  ⎢                                                    ⎥  ⎢          \n",
       "                      ⎥  ⎢  ∂                                      ∂          ⎥  ⎢         0\n",
       "                0     ⎥  ⎢t⋅──(W(t, z)) + 1                        ──(W(t, z))⎥  ⎢          \n",
       "                      ⎥  ⎢  ∂t                                     ∂z         ⎥  ⎢    ∂     \n",
       "                      ⎥  ⎢─────────────────          0          0  ───────────⎥  ⎢- t⋅──(W(t\n",
       "- W(t, z)             ⎥  ⎢       2⋅t                                    2     ⎥  ⎢    ∂t    \n",
       "                      ⎥  ⎢                                                    ⎥  ⎢──────────\n",
       "                      ⎥  ⎢        0                  0          0       0     ⎥  ⎢        2⋅\n",
       "─────────       0     ⎥  ⎢                                                    ⎥  ⎢          \n",
       "                      ⎥  ⎢                      ∂                             ⎥  ⎢          \n",
       "                      ⎥  ⎢                      ──(W(t, z))                   ⎥  ⎢          \n",
       "           ∂          ⎥  ⎢                      ∂z                            ⎥  ⎢          \n",
       "           ──(M(t, z))⎥  ⎢        0             ───────────     0       0     ⎥  ⎢         0\n",
       "           ∂t         ⎦  ⎣                           2                        ⎦  ⎣          \n",
       "\n",
       "                  ∂                             ⎤  ⎡∂                                       \n",
       "              - t⋅──(W(t, z)) + 1               ⎥  ⎢──(M(t, z))                    0        \n",
       "                  ∂t                            ⎥  ⎢∂z                                      \n",
       "           0  ───────────────────        0      ⎥  ⎢                                        \n",
       "                      2⋅t                       ⎥  ⎢                 -2⋅M(t, z) + W(t, z) ∂ \n",
       "                                                ⎥  ⎢             -t⋅ℯ                    ⋅──\n",
       "           0           0                 0      ⎥  ⎢                                      ∂z\n",
       "                                                ⎥  ⎢     0       ───────────────────────────\n",
       "                                    ∂           ⎥  ⎢                               2        \n",
       ", z)) + 1                          -──(W(t, z)) ⎥  ⎢                                        \n",
       "                                    ∂z          ⎥  ⎢                                        \n",
       "─────────  0           0           ─────────────⎥  ⎢                                        \n",
       "t                                        2      ⎥  ⎢                                        \n",
       "                                                ⎥  ⎢     0                         0        \n",
       "                  ∂                             ⎥  ⎢                                        \n",
       "                 -──(W(t, z))                   ⎥  ⎢                                        \n",
       "                  ∂z                            ⎥  ⎢∂                                       \n",
       "           0     ─────────────           0      ⎥  ⎢──(M(t, z))                    0        \n",
       "                       2                        ⎦  ⎣∂t                                      \n",
       "\n",
       "                                                 ∂          ⎤⎤\n",
       "                             0                   ──(M(t, z))⎥⎥\n",
       "                                                 ∂t         ⎥⎥\n",
       "                                                            ⎥⎥\n",
       "                                                            ⎥⎥\n",
       "(W(t, z))                                                   ⎥⎥\n",
       "                                                            ⎥⎥\n",
       "──────────                   0                        0     ⎥⎥\n",
       "                                                            ⎥⎥\n",
       "                                                            ⎥⎥\n",
       "               -2⋅M(t, z) - W(t, z) ∂                       ⎥⎥\n",
       "            t⋅ℯ                    ⋅──(W(t, z))             ⎥⎥\n",
       "                                    ∂z                      ⎥⎥\n",
       "            ───────────────────────────────────       0     ⎥⎥\n",
       "                             2                              ⎥⎥\n",
       "                                                            ⎥⎥\n",
       "                                                 ∂          ⎥⎥\n",
       "                             0                   ──(M(t, z))⎥⎥\n",
       "                                                 ∂z         ⎦⎦"
      ]
     },
     "execution_count": 15,
     "metadata": {},
     "output_type": "execute_result"
    }
   ],
   "source": [
    "ch = ChristoffelSymbols.from_metric(metric)\n",
    "simplify(ch.tensor())"
   ]
  },
  {
   "cell_type": "code",
   "execution_count": 16,
   "id": "66202dbe",
   "metadata": {},
   "outputs": [
    {
     "data": {
      "text/latex": [
       "$\\displaystyle \\left[\\begin{matrix}- \\frac{\\partial^{2}}{\\partial t^{2}} M{\\left(t,z \\right)} + \\frac{\\partial^{2}}{\\partial z^{2}} M{\\left(t,z \\right)} - \\frac{\\left(\\frac{\\partial}{\\partial t} W{\\left(t,z \\right)}\\right)^{2}}{2} + \\frac{\\frac{\\partial}{\\partial t} M{\\left(t,z \\right)}}{t} + \\frac{1}{2 t^{2}} & 0 & 0 & - \\frac{\\frac{\\partial}{\\partial t} W{\\left(t,z \\right)} \\frac{\\partial}{\\partial z} W{\\left(t,z \\right)}}{2} + \\frac{\\frac{\\partial}{\\partial z} M{\\left(t,z \\right)}}{t}\\\\0 & \\frac{\\left(t \\frac{\\partial^{2}}{\\partial t^{2}} W{\\left(t,z \\right)} - t \\frac{\\partial^{2}}{\\partial z^{2}} W{\\left(t,z \\right)} + \\frac{\\partial}{\\partial t} W{\\left(t,z \\right)}\\right) e^{- 2 M{\\left(t,z \\right)} + W{\\left(t,z \\right)}}}{2} & 0 & 0\\\\0 & 0 & \\frac{\\left(- t \\frac{\\partial^{2}}{\\partial t^{2}} W{\\left(t,z \\right)} + t \\frac{\\partial^{2}}{\\partial z^{2}} W{\\left(t,z \\right)} - \\frac{\\partial}{\\partial t} W{\\left(t,z \\right)}\\right) e^{- 2 M{\\left(t,z \\right)} - W{\\left(t,z \\right)}}}{2} & 0\\\\- \\frac{\\frac{\\partial}{\\partial t} W{\\left(t,z \\right)} \\frac{\\partial}{\\partial z} W{\\left(t,z \\right)}}{2} + \\frac{\\frac{\\partial}{\\partial z} M{\\left(t,z \\right)}}{t} & 0 & 0 & \\frac{\\partial^{2}}{\\partial t^{2}} M{\\left(t,z \\right)} - \\frac{\\partial^{2}}{\\partial z^{2}} M{\\left(t,z \\right)} - \\frac{\\left(\\frac{\\partial}{\\partial z} W{\\left(t,z \\right)}\\right)^{2}}{2} + \\frac{\\frac{\\partial}{\\partial t} M{\\left(t,z \\right)}}{t}\\end{matrix}\\right]$"
      ],
      "text/plain": [
       "⎡                                             2                                             \n",
       "⎢                                ⎛∂          ⎞    ∂                                         \n",
       "⎢    2              2            ⎜──(W(t, z))⎟    ──(M(t, z))                               \n",
       "⎢   ∂              ∂             ⎝∂t         ⎠    ∂t             1                          \n",
       "⎢- ───(M(t, z)) + ───(M(t, z)) - ────────────── + ─────────── + ────                        \n",
       "⎢    2              2                  2               t           2                        \n",
       "⎢  ∂t             ∂z                                            2⋅t                         \n",
       "⎢                                                                                           \n",
       "⎢                                                                     ⎛    2                \n",
       "⎢                                                                     ⎜   ∂                ∂\n",
       "⎢                                                                     ⎜t⋅───(W(t, z)) - t⋅──\n",
       "⎢                                                                     ⎜    2                \n",
       "⎢                                                                     ⎝  ∂t               ∂z\n",
       "⎢                                 0                                   ──────────────────────\n",
       "⎢                                                                                           \n",
       "⎢                                                                                           \n",
       "⎢                                                                                           \n",
       "⎢                                                                                           \n",
       "⎢                                                                                           \n",
       "⎢                                                                                           \n",
       "⎢                                                                                           \n",
       "⎢                                 0                                                         \n",
       "⎢                                                                                           \n",
       "⎢                                                                                           \n",
       "⎢                                                                                           \n",
       "⎢                ∂           ∂             ∂                                                \n",
       "⎢                ──(W(t, z))⋅──(W(t, z))   ──(M(t, z))                                      \n",
       "⎢                ∂t          ∂z            ∂z                                               \n",
       "⎢              - ─────────────────────── + ───────────                                      \n",
       "⎢                           2                   t                                           \n",
       "⎣                                                                                           \n",
       "\n",
       "                                                                                            \n",
       "                                                                                            \n",
       "                                                                                            \n",
       "                                                                                            \n",
       "            0                                                                       0       \n",
       "                                                                                            \n",
       "                                                                                            \n",
       "                                                                                            \n",
       "2                       ⎞                                                                   \n",
       "             ∂          ⎟  -2⋅M(t, z) + W(t, z)                                             \n",
       "─(W(t, z)) + ──(W(t, z))⎟⋅ℯ                                                                 \n",
       "2            ∂t         ⎟                                                                   \n",
       "                        ⎠                                                                   \n",
       "───────────────────────────────────────────────                                     0       \n",
       "            2                                                                               \n",
       "                                                                                            \n",
       "                                                 ⎛      2                2                  \n",
       "                                                 ⎜     ∂                ∂             ∂     \n",
       "                                                 ⎜- t⋅───(W(t, z)) + t⋅───(W(t, z)) - ──(W(t\n",
       "                                                 ⎜      2                2            ∂t    \n",
       "                                                 ⎝    ∂t               ∂z                   \n",
       "            0                                    ───────────────────────────────────────────\n",
       "                                                                                    2       \n",
       "                                                                                            \n",
       "                                                                                            \n",
       "                                                                                            \n",
       "                                                                                            \n",
       "                                                                                            \n",
       "            0                                                                       0       \n",
       "                                                                                            \n",
       "                                                                                            \n",
       "\n",
       "                                                                                        ⎤\n",
       "                                         ∂           ∂             ∂                    ⎥\n",
       "                                         ──(W(t, z))⋅──(W(t, z))   ──(M(t, z))          ⎥\n",
       "                                         ∂t          ∂z            ∂z                   ⎥\n",
       "                                       - ─────────────────────── + ───────────          ⎥\n",
       "                                                    2                   t               ⎥\n",
       "                                                                                        ⎥\n",
       "                                                                                        ⎥\n",
       "                                                                                        ⎥\n",
       "                                                                                        ⎥\n",
       "                                                                                        ⎥\n",
       "                                                                                        ⎥\n",
       "                                                                                        ⎥\n",
       "                                                          0                             ⎥\n",
       "                                                                                        ⎥\n",
       "                                                                                        ⎥\n",
       "     ⎞                                                                                  ⎥\n",
       "     ⎟  -2⋅M(t, z) - W(t, z)                                                            ⎥\n",
       ", z))⎟⋅ℯ                                                                                ⎥\n",
       "     ⎟                                                                                  ⎥\n",
       "     ⎠                                                                                  ⎥\n",
       "────────────────────────────                              0                             ⎥\n",
       "                                                                                        ⎥\n",
       "                                                                                        ⎥\n",
       "                                                                         2              ⎥\n",
       "                                                            ⎛∂          ⎞    ∂          ⎥\n",
       "                                2              2            ⎜──(W(t, z))⎟    ──(M(t, z))⎥\n",
       "                               ∂              ∂             ⎝∂z         ⎠    ∂t         ⎥\n",
       "                              ───(M(t, z)) - ───(M(t, z)) - ────────────── + ───────────⎥\n",
       "                                2              2                  2               t     ⎥\n",
       "                              ∂t             ∂z                                         ⎦"
      ]
     },
     "execution_count": 16,
     "metadata": {},
     "output_type": "execute_result"
    }
   ],
   "source": [
    "Ric = RicciTensor.from_metric(metric)\n",
    "Ric.tensor()"
   ]
  },
  {
   "cell_type": "code",
   "execution_count": 17,
   "id": "d2dffcc1",
   "metadata": {},
   "outputs": [
    {
     "data": {
      "image/png": "[encoded data removed]",
      "text/latex": [
       "$\\displaystyle \\frac{\\left(4 t^{2} \\frac{\\partial^{2}}{\\partial t^{2}} M{\\left(t,z \\right)} - 4 t^{2} \\frac{\\partial^{2}}{\\partial z^{2}} M{\\left(t,z \\right)} + t^{2} \\left(\\frac{\\partial}{\\partial t} W{\\left(t,z \\right)}\\right)^{2} - t^{2} \\left(\\frac{\\partial}{\\partial z} W{\\left(t,z \\right)}\\right)^{2} - 1\\right) e^{- 2 M{\\left(t,z \\right)}}}{2 t^{2}}$"
      ],
      "text/plain": [
       "⎛       2                   2                            2                   2    ⎞         \n",
       "⎜   2  ∂                2  ∂              2 ⎛∂          ⎞     2 ⎛∂          ⎞     ⎟  -2⋅M(t,\n",
       "⎜4⋅t ⋅───(M(t, z)) - 4⋅t ⋅───(M(t, z)) + t ⋅⎜──(W(t, z))⎟  - t ⋅⎜──(W(t, z))⎟  - 1⎟⋅ℯ       \n",
       "⎜       2                   2               ⎝∂t         ⎠       ⎝∂z         ⎠     ⎟         \n",
       "⎝     ∂t                  ∂z                                                      ⎠         \n",
       "────────────────────────────────────────────────────────────────────────────────────────────\n",
       "                                                 2                                          \n",
       "                                              2⋅t                                           \n",
       "\n",
       "   \n",
       " z)\n",
       "   \n",
       "   \n",
       "   \n",
       "───\n",
       "   \n",
       "   "
      ]
     },
     "execution_count": 17,
     "metadata": {},
     "output_type": "execute_result"
    }
   ],
   "source": [
    "R = RicciScalar.from_riccitensor(Ric)\n",
    "R.simplify()\n",
    "R.expr"
   ]
  },
  {
   "cell_type": "code",
   "execution_count": 18,
   "id": "1a8dfc9f",
   "metadata": {},
   "outputs": [
    {
     "data": {
      "text/latex": [
       "$\\displaystyle \\left[\\begin{matrix}- \\frac{\\partial^{2}}{\\partial t^{2}} M{\\left(t,z \\right)} + \\frac{\\partial^{2}}{\\partial z^{2}} M{\\left(t,z \\right)} - \\frac{\\left(\\frac{\\partial}{\\partial t} W{\\left(t,z \\right)}\\right)^{2}}{2} + \\frac{\\frac{\\partial}{\\partial t} M{\\left(t,z \\right)}}{t} + \\frac{0.25 \\left(4 t^{2} \\frac{\\partial^{2}}{\\partial t^{2}} M{\\left(t,z \\right)} - 4 t^{2} \\frac{\\partial^{2}}{\\partial z^{2}} M{\\left(t,z \\right)} + t^{2} \\left(\\frac{\\partial}{\\partial t} W{\\left(t,z \\right)}\\right)^{2} - t^{2} \\left(\\frac{\\partial}{\\partial z} W{\\left(t,z \\right)}\\right)^{2} - 1\\right)}{t^{2}} + \\frac{1}{2 t^{2}} & 0 & 0 & - \\frac{\\frac{\\partial}{\\partial t} W{\\left(t,z \\right)} \\frac{\\partial}{\\partial z} W{\\left(t,z \\right)}}{2} + \\frac{\\frac{\\partial}{\\partial z} M{\\left(t,z \\right)}}{t}\\\\0 & \\frac{\\left(t \\frac{\\partial^{2}}{\\partial t^{2}} W{\\left(t,z \\right)} - t \\frac{\\partial^{2}}{\\partial z^{2}} W{\\left(t,z \\right)} + \\frac{\\partial}{\\partial t} W{\\left(t,z \\right)}\\right) e^{- 2 M{\\left(t,z \\right)} + W{\\left(t,z \\right)}}}{2} - \\frac{0.25 \\left(4 t^{2} \\frac{\\partial^{2}}{\\partial t^{2}} M{\\left(t,z \\right)} - 4 t^{2} \\frac{\\partial^{2}}{\\partial z^{2}} M{\\left(t,z \\right)} + t^{2} \\left(\\frac{\\partial}{\\partial t} W{\\left(t,z \\right)}\\right)^{2} - t^{2} \\left(\\frac{\\partial}{\\partial z} W{\\left(t,z \\right)}\\right)^{2} - 1\\right) e^{- 2 M{\\left(t,z \\right)}} e^{W{\\left(t,z \\right)}}}{t} & 0 & 0\\\\0 & 0 & \\frac{\\left(- t \\frac{\\partial^{2}}{\\partial t^{2}} W{\\left(t,z \\right)} + t \\frac{\\partial^{2}}{\\partial z^{2}} W{\\left(t,z \\right)} - \\frac{\\partial}{\\partial t} W{\\left(t,z \\right)}\\right) e^{- 2 M{\\left(t,z \\right)} - W{\\left(t,z \\right)}}}{2} - \\frac{0.25 \\left(4 t^{2} \\frac{\\partial^{2}}{\\partial t^{2}} M{\\left(t,z \\right)} - 4 t^{2} \\frac{\\partial^{2}}{\\partial z^{2}} M{\\left(t,z \\right)} + t^{2} \\left(\\frac{\\partial}{\\partial t} W{\\left(t,z \\right)}\\right)^{2} - t^{2} \\left(\\frac{\\partial}{\\partial z} W{\\left(t,z \\right)}\\right)^{2} - 1\\right) e^{- 2 M{\\left(t,z \\right)}} e^{- W{\\left(t,z \\right)}}}{t} & 0\\\\- \\frac{\\frac{\\partial}{\\partial t} W{\\left(t,z \\right)} \\frac{\\partial}{\\partial z} W{\\left(t,z \\right)}}{2} + \\frac{\\frac{\\partial}{\\partial z} M{\\left(t,z \\right)}}{t} & 0 & 0 & \\frac{\\partial^{2}}{\\partial t^{2}} M{\\left(t,z \\right)} - \\frac{\\partial^{2}}{\\partial z^{2}} M{\\left(t,z \\right)} - \\frac{\\left(\\frac{\\partial}{\\partial z} W{\\left(t,z \\right)}\\right)^{2}}{2} + \\frac{\\frac{\\partial}{\\partial t} M{\\left(t,z \\right)}}{t} - \\frac{0.25 \\left(4 t^{2} \\frac{\\partial^{2}}{\\partial t^{2}} M{\\left(t,z \\right)} - 4 t^{2} \\frac{\\partial^{2}}{\\partial z^{2}} M{\\left(t,z \\right)} + t^{2} \\left(\\frac{\\partial}{\\partial t} W{\\left(t,z \\right)}\\right)^{2} - t^{2} \\left(\\frac{\\partial}{\\partial z} W{\\left(t,z \\right)}\\right)^{2} - 1\\right)}{t^{2}}\\end{matrix}\\right]$"
      ],
      "text/plain": [
       "⎡                                                                    ⎛       2              \n",
       "⎢                                             2                      ⎜   2  ∂               \n",
       "⎢                                ⎛∂          ⎞    ∂             0.25⋅⎜4⋅t ⋅───(M(t, z)) - 4⋅\n",
       "⎢    2              2            ⎜──(W(t, z))⎟    ──(M(t, z))        ⎜       2              \n",
       "⎢   ∂              ∂             ⎝∂t         ⎠    ∂t                 ⎝     ∂t               \n",
       "⎢- ───(M(t, z)) + ───(M(t, z)) - ────────────── + ─────────── + ────────────────────────────\n",
       "⎢    2              2                  2               t                                    \n",
       "⎢  ∂t             ∂z                                                                        \n",
       "⎢                                                                                           \n",
       "⎢                                                                                           \n",
       "⎢                                                                                           \n",
       "⎢                                                                                           \n",
       "⎢                                                                                           \n",
       "⎢                                                                                           \n",
       "⎢                                                                              0            \n",
       "⎢                                                                                           \n",
       "⎢                                                                                           \n",
       "⎢                                                                                           \n",
       "⎢                                                                                           \n",
       "⎢                                                                                           \n",
       "⎢                                                                                           \n",
       "⎢                                                                                           \n",
       "⎢                                                                              0            \n",
       "⎢                                                                                           \n",
       "⎢                                                                                           \n",
       "⎢                                                                                           \n",
       "⎢                                                                                           \n",
       "⎢                                                             ∂           ∂             ∂   \n",
       "⎢                                                             ──(W(t, z))⋅──(W(t, z))   ──(M\n",
       "⎢                                                             ∂t          ∂z            ∂z  \n",
       "⎢                                                           - ─────────────────────── + ────\n",
       "⎢                                                                        2                  \n",
       "⎣                                                                                           \n",
       "\n",
       "     2                            2                   2    ⎞                                \n",
       " 2  ∂              2 ⎛∂          ⎞     2 ⎛∂          ⎞     ⎟                                \n",
       "t ⋅───(M(t, z)) + t ⋅⎜──(W(t, z))⎟  - t ⋅⎜──(W(t, z))⎟  - 1⎟                                \n",
       "     2               ⎝∂t         ⎠       ⎝∂z         ⎠     ⎟                                \n",
       "   ∂z                                                      ⎠    1                           \n",
       "──────────────────────────────────────────────────────────── + ────                         \n",
       "                2                                                 2                         \n",
       "               t                                               2⋅t                          \n",
       "                                                                                            \n",
       "                                                                     ⎛    2                2\n",
       "                                                                     ⎜   ∂                ∂ \n",
       "                                                                     ⎜t⋅───(W(t, z)) - t⋅───\n",
       "                                                                     ⎜    2                2\n",
       "                                                                     ⎝  ∂t               ∂z \n",
       "                                                                     ───────────────────────\n",
       "                                                                                            \n",
       "                                                                                            \n",
       "                                                                                            \n",
       "                                                                                            \n",
       "                                                                                            \n",
       "                                                                                            \n",
       "                                                                                            \n",
       "                                                                                            \n",
       "                                                                                            \n",
       "                                                                                            \n",
       "                                                                                            \n",
       "                                                                                            \n",
       "                                                                                            \n",
       "(t, z))                                                                                     \n",
       "                                                                                            \n",
       "───────                                                                                     \n",
       " t                                                                                          \n",
       "                                                                                            \n",
       "\n",
       "                                                                                            \n",
       "                                                                                            \n",
       "                                                                                            \n",
       "                                                                                            \n",
       "                                                                                            \n",
       "                                                                   0                        \n",
       "                                                                                            \n",
       "                                                                                            \n",
       "                                                                                            \n",
       "                       ⎞                              ⎛       2                   2         \n",
       "            ∂          ⎟  -2⋅M(t, z) + W(t, z)        ⎜   2  ∂                2  ∂          \n",
       "(W(t, z)) + ──(W(t, z))⎟⋅ℯ                       0.25⋅⎜4⋅t ⋅───(M(t, z)) - 4⋅t ⋅───(M(t, z))\n",
       "            ∂t         ⎟                              ⎜       2                   2         \n",
       "                       ⎠                              ⎝     ∂t                  ∂z          \n",
       "────────────────────────────────────────────── - ───────────────────────────────────────────\n",
       "           2                                                                                \n",
       "                                                                                            \n",
       "                                                                                            \n",
       "                                                                                            \n",
       "                                                                                            \n",
       "                                                                                            \n",
       "                                                                                            \n",
       "                                                                   0                        \n",
       "                                                                                            \n",
       "                                                                                            \n",
       "                                                                                            \n",
       "                                                                                            \n",
       "                                                                                            \n",
       "                                                                                            \n",
       "                                                                                            \n",
       "                                                                   0                        \n",
       "                                                                                            \n",
       "                                                                                            \n",
       "\n",
       "                                                                                            \n",
       "                                                                                            \n",
       "                                                                                            \n",
       "                                                                                            \n",
       "                                                                                            \n",
       "                                                                                            \n",
       "                                                                                            \n",
       "                                                                                            \n",
       "                                                                                            \n",
       "                   2                   2    ⎞                                               \n",
       "    2 ⎛∂          ⎞     2 ⎛∂          ⎞     ⎟  -2⋅M(t, z)  W(t, z)                          \n",
       " + t ⋅⎜──(W(t, z))⎟  - t ⋅⎜──(W(t, z))⎟  - 1⎟⋅ℯ          ⋅ℯ                                 \n",
       "      ⎝∂t         ⎠       ⎝∂z         ⎠     ⎟                                               \n",
       "                                            ⎠                                               \n",
       "──────────────────────────────────────────────────────────────────                          \n",
       "           t                                                                                \n",
       "                                                                                            \n",
       "                                                                    ⎛      2                \n",
       "                                                                    ⎜     ∂                ∂\n",
       "                                                                    ⎜- t⋅───(W(t, z)) + t⋅──\n",
       "                                                                    ⎜      2                \n",
       "                                                                    ⎝    ∂t               ∂z\n",
       "                                                                    ────────────────────────\n",
       "                                                                                            \n",
       "                                                                                            \n",
       "                                                                                            \n",
       "                                                                                            \n",
       "                                                                                            \n",
       "                                                                                            \n",
       "                                                                                            \n",
       "                                                                                            \n",
       "                                                                                            \n",
       "                                                                                            \n",
       "\n",
       "                                                                                            \n",
       "                                                                                            \n",
       "                                                                                            \n",
       "                                                                                            \n",
       "                                                                                            \n",
       "                                                                   0                        \n",
       "                                                                                            \n",
       "                                                                                            \n",
       "                                                                                            \n",
       "                                                                                            \n",
       "                                                                                            \n",
       "                                                                                            \n",
       "                                                                                            \n",
       "                                                                                            \n",
       "                                                                   0                        \n",
       "                                                                                            \n",
       "                                                                                            \n",
       "2                       ⎞                              ⎛       2                   2        \n",
       "             ∂          ⎟  -2⋅M(t, z) - W(t, z)        ⎜   2  ∂                2  ∂         \n",
       "─(W(t, z)) - ──(W(t, z))⎟⋅ℯ                       0.25⋅⎜4⋅t ⋅───(M(t, z)) - 4⋅t ⋅───(M(t, z)\n",
       "2            ∂t         ⎟                              ⎜       2                   2        \n",
       "                        ⎠                              ⎝     ∂t                  ∂z         \n",
       "─────────────────────────────────────────────── - ──────────────────────────────────────────\n",
       "           2                                                                                \n",
       "                                                                                            \n",
       "                                                                                            \n",
       "                                                                                            \n",
       "                                                                                            \n",
       "                                                                                            \n",
       "                                                                                            \n",
       "                                                                   0                        \n",
       "                                                                                            \n",
       "                                                                                            \n",
       "\n",
       "                                                                                            \n",
       "                                                                                            \n",
       "                                                                                            \n",
       "                                                                                            \n",
       "                                                                                            \n",
       "                                                                                            \n",
       "                                                                                            \n",
       "                                                                                            \n",
       "                                                                                            \n",
       "                                                                                            \n",
       "                                                                                            \n",
       "                                                                                            \n",
       "                                                                                            \n",
       "                                                                                            \n",
       "                                                                                            \n",
       "                                                                                            \n",
       "                                                                                            \n",
       "                    2                   2    ⎞                                              \n",
       "     2 ⎛∂          ⎞     2 ⎛∂          ⎞     ⎟  -2⋅M(t, z)  -W(t, z)                        \n",
       ") + t ⋅⎜──(W(t, z))⎟  - t ⋅⎜──(W(t, z))⎟  - 1⎟⋅ℯ          ⋅ℯ                                \n",
       "       ⎝∂t         ⎠       ⎝∂z         ⎠     ⎟                                              \n",
       "                                             ⎠                                              \n",
       "────────────────────────────────────────────────────────────────────                        \n",
       "            t                                                                               \n",
       "                                                                                            \n",
       "                                                                                            \n",
       "                                                                                            \n",
       "                                                                                            \n",
       "                                                                        2              2    \n",
       "                                                                       ∂              ∂     \n",
       "                                                                      ───(M(t, z)) - ───(M(t\n",
       "                                                                        2              2    \n",
       "                                                                      ∂t             ∂z     \n",
       "\n",
       "                                                                                            \n",
       "                                                                                            \n",
       "                                   ∂           ∂             ∂                              \n",
       "                                   ──(W(t, z))⋅──(W(t, z))   ──(M(t, z))                    \n",
       "                                   ∂t          ∂z            ∂z                             \n",
       "                                 - ─────────────────────── + ───────────                    \n",
       "                                              2                   t                         \n",
       "                                                                                            \n",
       "                                                                                            \n",
       "                                                                                            \n",
       "                                                                                            \n",
       "                                                                                            \n",
       "                                                                                            \n",
       "                                                                                            \n",
       "                                                    0                                       \n",
       "                                                                                            \n",
       "                                                                                            \n",
       "                                                                                            \n",
       "                                                                                            \n",
       "                                                                                            \n",
       "                                                                                            \n",
       "                                                                                            \n",
       "                                                    0                                       \n",
       "                                                                                            \n",
       "                                                                                            \n",
       "                                            ⎛       2                   2                   \n",
       "                     2                      ⎜   2  ∂                2  ∂              2 ⎛∂  \n",
       "        ⎛∂          ⎞    ∂             0.25⋅⎜4⋅t ⋅───(M(t, z)) - 4⋅t ⋅───(M(t, z)) + t ⋅⎜──(\n",
       "        ⎜──(W(t, z))⎟    ──(M(t, z))        ⎜       2                   2               ⎝∂t \n",
       "        ⎝∂z         ⎠    ∂t                 ⎝     ∂t                  ∂z                    \n",
       ", z)) - ────────────── + ─────────── - ─────────────────────────────────────────────────────\n",
       "              2               t                                                    2        \n",
       "                                                                                  t         \n",
       "\n",
       "                                   ⎤\n",
       "                                   ⎥\n",
       "                                   ⎥\n",
       "                                   ⎥\n",
       "                                   ⎥\n",
       "                                   ⎥\n",
       "                                   ⎥\n",
       "                                   ⎥\n",
       "                                   ⎥\n",
       "                                   ⎥\n",
       "                                   ⎥\n",
       "                                   ⎥\n",
       "                                   ⎥\n",
       "                                   ⎥\n",
       "                                   ⎥\n",
       "                                   ⎥\n",
       "                                   ⎥\n",
       "                                   ⎥\n",
       "                                   ⎥\n",
       "                                   ⎥\n",
       "                                   ⎥\n",
       "                                   ⎥\n",
       "                                   ⎥\n",
       "                                   ⎥\n",
       "                                   ⎥\n",
       "         2                   2    ⎞⎥\n",
       "        ⎞     2 ⎛∂          ⎞     ⎟⎥\n",
       "W(t, z))⎟  - t ⋅⎜──(W(t, z))⎟  - 1⎟⎥\n",
       "        ⎠       ⎝∂z         ⎠     ⎟⎥\n",
       "                                  ⎠⎥\n",
       "───────────────────────────────────⎥\n",
       "                                   ⎥\n",
       "                                   ⎦"
      ]
     },
     "execution_count": 18,
     "metadata": {},
     "output_type": "execute_result"
    }
   ],
   "source": [
    "einst = EinsteinTensor.from_metric(metric)\n",
    "einst.tensor()"
   ]
  },
  {
   "cell_type": "code",
   "execution_count": 19,
   "id": "0697454e",
   "metadata": {},
   "outputs": [],
   "source": [
    "#  rm1 = RiemannCurvatureTensor.from_christoffels(ch)\n",
    "#  rm1.tensor()"
   ]
  },
  {
   "cell_type": "code",
   "execution_count": 20,
   "id": "3109f974",
   "metadata": {},
   "outputs": [],
   "source": [
    "#  weyl = WeylTensor.from_metric(metric)\n",
    "#  weyl.tensor()"
   ]
  },
  {
   "cell_type": "code",
   "execution_count": 21,
   "id": "4feaeaf4",
   "metadata": {},
   "outputs": [
    {
     "data": {
      "text/latex": [
       "$\\displaystyle \\left[\\begin{matrix}- \\frac{\\partial^{2}}{\\partial t^{2}} M{\\left(t,z \\right)} + \\frac{\\partial^{2}}{\\partial z^{2}} M{\\left(t,z \\right)} - \\frac{\\left(\\frac{\\partial}{\\partial t} W{\\left(t,z \\right)}\\right)^{2}}{2} + \\frac{\\frac{\\partial}{\\partial t} M{\\left(t,z \\right)}}{t} + \\frac{1}{2 t^{2}} & 0 & 0 & - \\frac{\\frac{\\partial}{\\partial t} W{\\left(t,z \\right)} \\frac{\\partial}{\\partial z} W{\\left(t,z \\right)}}{2} + \\frac{\\frac{\\partial}{\\partial z} M{\\left(t,z \\right)}}{t}\\\\0 & \\frac{\\left(t \\frac{\\partial^{2}}{\\partial t^{2}} W{\\left(t,z \\right)} - t \\frac{\\partial^{2}}{\\partial z^{2}} W{\\left(t,z \\right)} + \\frac{\\partial}{\\partial t} W{\\left(t,z \\right)}\\right) e^{- 2 M{\\left(t,z \\right)} + W{\\left(t,z \\right)}}}{2} & 0 & 0\\\\0 & 0 & \\frac{\\left(- t \\frac{\\partial^{2}}{\\partial t^{2}} W{\\left(t,z \\right)} + t \\frac{\\partial^{2}}{\\partial z^{2}} W{\\left(t,z \\right)} - \\frac{\\partial}{\\partial t} W{\\left(t,z \\right)}\\right) e^{- 2 M{\\left(t,z \\right)} - W{\\left(t,z \\right)}}}{2} & 0\\\\- \\frac{\\frac{\\partial}{\\partial t} W{\\left(t,z \\right)} \\frac{\\partial}{\\partial z} W{\\left(t,z \\right)}}{2} + \\frac{\\frac{\\partial}{\\partial z} M{\\left(t,z \\right)}}{t} & 0 & 0 & \\frac{\\partial^{2}}{\\partial t^{2}} M{\\left(t,z \\right)} - \\frac{\\partial^{2}}{\\partial z^{2}} M{\\left(t,z \\right)} - \\frac{\\left(\\frac{\\partial}{\\partial z} W{\\left(t,z \\right)}\\right)^{2}}{2} + \\frac{\\frac{\\partial}{\\partial t} M{\\left(t,z \\right)}}{t}\\end{matrix}\\right]$"
      ],
      "text/plain": [
       "⎡                                             2                                             \n",
       "⎢                                ⎛∂          ⎞    ∂                                         \n",
       "⎢    2              2            ⎜──(W(t, z))⎟    ──(M(t, z))                               \n",
       "⎢   ∂              ∂             ⎝∂t         ⎠    ∂t             1                          \n",
       "⎢- ───(M(t, z)) + ───(M(t, z)) - ────────────── + ─────────── + ────                        \n",
       "⎢    2              2                  2               t           2                        \n",
       "⎢  ∂t             ∂z                                            2⋅t                         \n",
       "⎢                                                                                           \n",
       "⎢                                                                     ⎛    2                \n",
       "⎢                                                                     ⎜   ∂                ∂\n",
       "⎢                                                                     ⎜t⋅───(W(t, z)) - t⋅──\n",
       "⎢                                                                     ⎜    2                \n",
       "⎢                                                                     ⎝  ∂t               ∂z\n",
       "⎢                                 0                                   ──────────────────────\n",
       "⎢                                                                                           \n",
       "⎢                                                                                           \n",
       "⎢                                                                                           \n",
       "⎢                                                                                           \n",
       "⎢                                                                                           \n",
       "⎢                                                                                           \n",
       "⎢                                                                                           \n",
       "⎢                                 0                                                         \n",
       "⎢                                                                                           \n",
       "⎢                                                                                           \n",
       "⎢                                                                                           \n",
       "⎢                ∂           ∂             ∂                                                \n",
       "⎢                ──(W(t, z))⋅──(W(t, z))   ──(M(t, z))                                      \n",
       "⎢                ∂t          ∂z            ∂z                                               \n",
       "⎢              - ─────────────────────── + ───────────                                      \n",
       "⎢                           2                   t                                           \n",
       "⎣                                                                                           \n",
       "\n",
       "                                                                                            \n",
       "                                                                                            \n",
       "                                                                                            \n",
       "                                                                                            \n",
       "            0                                                                       0       \n",
       "                                                                                            \n",
       "                                                                                            \n",
       "                                                                                            \n",
       "2                       ⎞                                                                   \n",
       "             ∂          ⎟  -2⋅M(t, z) + W(t, z)                                             \n",
       "─(W(t, z)) + ──(W(t, z))⎟⋅ℯ                                                                 \n",
       "2            ∂t         ⎟                                                                   \n",
       "                        ⎠                                                                   \n",
       "───────────────────────────────────────────────                                     0       \n",
       "            2                                                                               \n",
       "                                                                                            \n",
       "                                                 ⎛      2                2                  \n",
       "                                                 ⎜     ∂                ∂             ∂     \n",
       "                                                 ⎜- t⋅───(W(t, z)) + t⋅───(W(t, z)) - ──(W(t\n",
       "                                                 ⎜      2                2            ∂t    \n",
       "                                                 ⎝    ∂t               ∂z                   \n",
       "            0                                    ───────────────────────────────────────────\n",
       "                                                                                    2       \n",
       "                                                                                            \n",
       "                                                                                            \n",
       "                                                                                            \n",
       "                                                                                            \n",
       "                                                                                            \n",
       "            0                                                                       0       \n",
       "                                                                                            \n",
       "                                                                                            \n",
       "\n",
       "                                                                                        ⎤\n",
       "                                         ∂           ∂             ∂                    ⎥\n",
       "                                         ──(W(t, z))⋅──(W(t, z))   ──(M(t, z))          ⎥\n",
       "                                         ∂t          ∂z            ∂z                   ⎥\n",
       "                                       - ─────────────────────── + ───────────          ⎥\n",
       "                                                    2                   t               ⎥\n",
       "                                                                                        ⎥\n",
       "                                                                                        ⎥\n",
       "                                                                                        ⎥\n",
       "                                                                                        ⎥\n",
       "                                                                                        ⎥\n",
       "                                                                                        ⎥\n",
       "                                                                                        ⎥\n",
       "                                                          0                             ⎥\n",
       "                                                                                        ⎥\n",
       "                                                                                        ⎥\n",
       "     ⎞                                                                                  ⎥\n",
       "     ⎟  -2⋅M(t, z) - W(t, z)                                                            ⎥\n",
       ", z))⎟⋅ℯ                                                                                ⎥\n",
       "     ⎟                                                                                  ⎥\n",
       "     ⎠                                                                                  ⎥\n",
       "────────────────────────────                              0                             ⎥\n",
       "                                                                                        ⎥\n",
       "                                                                                        ⎥\n",
       "                                                                         2              ⎥\n",
       "                                                            ⎛∂          ⎞    ∂          ⎥\n",
       "                                2              2            ⎜──(W(t, z))⎟    ──(M(t, z))⎥\n",
       "                               ∂              ∂             ⎝∂z         ⎠    ∂t         ⎥\n",
       "                              ───(M(t, z)) - ───(M(t, z)) - ────────────── + ───────────⎥\n",
       "                                2              2                  2               t     ⎥\n",
       "                              ∂t             ∂z                                         ⎦"
      ]
     },
     "execution_count": 21,
     "metadata": {},
     "output_type": "execute_result"
    }
   ],
   "source": [
    "ricciSimplified = simplify(Ric.tensor())\n",
    "ricciSimplified"
   ]
  },
  {
   "cell_type": "code",
   "execution_count": 22,
   "id": "0fa1e07f",
   "metadata": {
    "scrolled": false
   },
   "outputs": [
    {
     "data": {
      "text/latex": [
       "$\\displaystyle \\left[\\begin{matrix}- 0.25 \\left(\\frac{\\partial}{\\partial t} W{\\left(t,z \\right)}\\right)^{2} - 0.25 \\left(\\frac{\\partial}{\\partial z} W{\\left(t,z \\right)}\\right)^{2} + \\frac{1.0 \\frac{\\partial}{\\partial t} M{\\left(t,z \\right)}}{t} + \\frac{0.25}{t^{2}} & 0 & 0 & - \\frac{\\frac{\\partial}{\\partial t} W{\\left(t,z \\right)} \\frac{\\partial}{\\partial z} W{\\left(t,z \\right)}}{2} + \\frac{\\frac{\\partial}{\\partial z} M{\\left(t,z \\right)}}{t}\\\\0 & \\frac{\\left(- 1.0 t^{2} \\frac{\\partial^{2}}{\\partial t^{2}} M{\\left(t,z \\right)} + t^{2} \\frac{\\partial^{2}}{\\partial z^{2}} M{\\left(t,z \\right)} - 0.25 t^{2} \\left(\\frac{\\partial}{\\partial t} W{\\left(t,z \\right)}\\right)^{2} + 0.25 t^{2} \\left(\\frac{\\partial}{\\partial z} W{\\left(t,z \\right)}\\right)^{2} + \\frac{t \\left(t \\frac{\\partial^{2}}{\\partial t^{2}} W{\\left(t,z \\right)} - t \\frac{\\partial^{2}}{\\partial z^{2}} W{\\left(t,z \\right)} + \\frac{\\partial}{\\partial t} W{\\left(t,z \\right)}\\right)}{2} + 0.25\\right) e^{- 2 M{\\left(t,z \\right)} + W{\\left(t,z \\right)}}}{t} & 0 & 0\\\\0 & 0 & \\frac{\\left(- 1.0 t^{2} \\frac{\\partial^{2}}{\\partial t^{2}} M{\\left(t,z \\right)} + t^{2} \\frac{\\partial^{2}}{\\partial z^{2}} M{\\left(t,z \\right)} - 0.25 t^{2} \\left(\\frac{\\partial}{\\partial t} W{\\left(t,z \\right)}\\right)^{2} + 0.25 t^{2} \\left(\\frac{\\partial}{\\partial z} W{\\left(t,z \\right)}\\right)^{2} - \\frac{t \\left(t \\frac{\\partial^{2}}{\\partial t^{2}} W{\\left(t,z \\right)} - t \\frac{\\partial^{2}}{\\partial z^{2}} W{\\left(t,z \\right)} + \\frac{\\partial}{\\partial t} W{\\left(t,z \\right)}\\right)}{2} + 0.25\\right) e^{- 2 M{\\left(t,z \\right)} - W{\\left(t,z \\right)}}}{t} & 0\\\\- \\frac{\\frac{\\partial}{\\partial t} W{\\left(t,z \\right)} \\frac{\\partial}{\\partial z} W{\\left(t,z \\right)}}{2} + \\frac{\\frac{\\partial}{\\partial z} M{\\left(t,z \\right)}}{t} & 0 & 0 & - 0.25 \\left(\\frac{\\partial}{\\partial t} W{\\left(t,z \\right)}\\right)^{2} - 0.25 \\left(\\frac{\\partial}{\\partial z} W{\\left(t,z \\right)}\\right)^{2} + \\frac{1.0 \\frac{\\partial}{\\partial t} M{\\left(t,z \\right)}}{t} + \\frac{0.25}{t^{2}}\\end{matrix}\\right]$"
      ],
      "text/plain": [
       "⎡                                                  ∂                                        \n",
       "⎢                    2                     2   1.0⋅──(M(t, z))                              \n",
       "⎢       ⎛∂          ⎞         ⎛∂          ⎞        ∂t            0.25                       \n",
       "⎢- 0.25⋅⎜──(W(t, z))⎟  - 0.25⋅⎜──(W(t, z))⎟  + ─────────────── + ────                       \n",
       "⎢       ⎝∂t         ⎠         ⎝∂z         ⎠           t            2                        \n",
       "⎢                                                                 t                         \n",
       "⎢                                                                                           \n",
       "⎢                                                                      ⎛                    \n",
       "⎢                                                                      ⎜                    \n",
       "⎢                                                                      ⎜                    \n",
       "⎢                                                                      ⎜       2            \n",
       "⎢                                                                      ⎜   2  ∂             \n",
       "⎢                                                                      ⎜- t ⋅───(M(t, z)) + \n",
       "⎢                                                                      ⎜       2            \n",
       "⎢                                                                      ⎝     ∂t             \n",
       "⎢                                 0                                    ─────────────────────\n",
       "⎢                                                                                           \n",
       "⎢                                                                                           \n",
       "⎢                                                                                           \n",
       "⎢                                                                                           \n",
       "⎢                                                                                           \n",
       "⎢                                                                                           \n",
       "⎢                                                                                           \n",
       "⎢                                                                                           \n",
       "⎢                                                                                           \n",
       "⎢                                                                                           \n",
       "⎢                                 0                                                         \n",
       "⎢                                                                                           \n",
       "⎢                                                                                           \n",
       "⎢                ∂           ∂             ∂                                                \n",
       "⎢                ──(W(t, z))⋅──(W(t, z))   ──(M(t, z))                                      \n",
       "⎢                ∂t          ∂z            ∂z                                               \n",
       "⎢              - ─────────────────────── + ───────────                                      \n",
       "⎢                           2                   t                                           \n",
       "⎣                                                                                           \n",
       "\n",
       "                                                                                            \n",
       "                                                                                            \n",
       "                                                                                            \n",
       "                                                              0                             \n",
       "                                                                                            \n",
       "                                                                                            \n",
       "                                                                                            \n",
       "                                                                      ⎛    2                \n",
       "                                                                      ⎜   ∂                ∂\n",
       "                                                                    t⋅⎜t⋅───(W(t, z)) - t⋅──\n",
       "     2                                 2                        2     ⎜    2                \n",
       " 2  ∂                   2 ⎛∂          ⎞          2 ⎛∂          ⎞      ⎝  ∂t               ∂z\n",
       "t ⋅───(M(t, z)) - 0.25⋅t ⋅⎜──(W(t, z))⎟  + 0.25⋅t ⋅⎜──(W(t, z))⎟  + ────────────────────────\n",
       "     2                    ⎝∂t         ⎠            ⎝∂z         ⎠                            \n",
       "   ∂z                                                                                       \n",
       "────────────────────────────────────────────────────────────────────────────────────────────\n",
       "                                                              t                             \n",
       "                                                                                            \n",
       "                                                                                            \n",
       "                                                                                            \n",
       "                                                                                            \n",
       "                                                                                            \n",
       "                                                                                            \n",
       "                                                                                            \n",
       "                                                                                            \n",
       "                                                                                            \n",
       "                                                              0                             \n",
       "                                                                                            \n",
       "                                                                                            \n",
       "                                                                                            \n",
       "                                                                                            \n",
       "                                                                                            \n",
       "                                                              0                             \n",
       "                                                                                            \n",
       "                                                                                            \n",
       "\n",
       "                                                                                            \n",
       "                                                                                            \n",
       "                                                                                            \n",
       "                                                                                            \n",
       "                                                                                            \n",
       "                                                                                            \n",
       "                                                                                            \n",
       "2                       ⎞       ⎞                                                           \n",
       "             ∂          ⎟       ⎟                                                           \n",
       "─(W(t, z)) + ──(W(t, z))⎟       ⎟                                                           \n",
       "2            ∂t         ⎟       ⎟                                                           \n",
       "                        ⎠       ⎟  -2⋅M(t, z) + W(t, z)                                     \n",
       "───────────────────────── + 0.25⎟⋅ℯ                                                         \n",
       "2                               ⎟                                                           \n",
       "                                ⎠                                                           \n",
       "───────────────────────────────────────────────────────                                     \n",
       "                                                                                            \n",
       "                                                                                            \n",
       "                                                         ⎛                                  \n",
       "                                                         ⎜                                  \n",
       "                                                         ⎜                                  \n",
       "                                                         ⎜       2                 2        \n",
       "                                                         ⎜   2  ∂              2  ∂         \n",
       "                                                         ⎜- t ⋅───(M(t, z)) + t ⋅───(M(t, z)\n",
       "                                                         ⎜       2                 2        \n",
       "                                                         ⎝     ∂t                ∂z         \n",
       "                                                         ───────────────────────────────────\n",
       "                                                                                            \n",
       "                                                                                            \n",
       "                                                                                            \n",
       "                                                                                            \n",
       "                                                                                            \n",
       "                                                                                            \n",
       "                                                                                            \n",
       "                                                                                            \n",
       "\n",
       "                                                                                            \n",
       "                                                                                            \n",
       "                                                                                            \n",
       "                                                0                                           \n",
       "                                                                                            \n",
       "                                                                                            \n",
       "                                                                                            \n",
       "                                                                                            \n",
       "                                                                                            \n",
       "                                                                                            \n",
       "                                                                                            \n",
       "                                                                                            \n",
       "                                                                                            \n",
       "                                                                                            \n",
       "                                                                                            \n",
       "                                                0                                           \n",
       "                                                                                            \n",
       "                                                                                            \n",
       "                                                        ⎛    2                2             \n",
       "                                                        ⎜   ∂                ∂             ∂\n",
       "                                                      t⋅⎜t⋅───(W(t, z)) - t⋅───(W(t, z)) + ─\n",
       "                         2                        2     ⎜    2                2            ∂\n",
       "          2 ⎛∂          ⎞          2 ⎛∂          ⎞      ⎝  ∂t               ∂z              \n",
       ") - 0.25⋅t ⋅⎜──(W(t, z))⎟  + 0.25⋅t ⋅⎜──(W(t, z))⎟  - ──────────────────────────────────────\n",
       "            ⎝∂t         ⎠            ⎝∂z         ⎠                            2             \n",
       "                                                                                            \n",
       "────────────────────────────────────────────────────────────────────────────────────────────\n",
       "                                                t                                           \n",
       "                                                                                            \n",
       "                                                                                            \n",
       "                                                                                            \n",
       "                                                                                            \n",
       "                                                0                                           \n",
       "                                                                                            \n",
       "                                                                                            \n",
       "\n",
       "                                                           ∂           ∂             ∂      \n",
       "                                                           ──(W(t, z))⋅──(W(t, z))   ──(M(t,\n",
       "                                                           ∂t          ∂z            ∂z     \n",
       "                                                         - ─────────────────────── + ───────\n",
       "                                                                      2                   t \n",
       "                                                                                            \n",
       "                                                                                            \n",
       "                                                                                            \n",
       "                                                                                            \n",
       "                                                                                            \n",
       "                                                                                            \n",
       "                                                                                            \n",
       "                                                                                            \n",
       "                                                                                            \n",
       "                                                                                            \n",
       "                                                                            0               \n",
       "                                                                                            \n",
       "                                                                                            \n",
       "          ⎞       ⎞                                                                         \n",
       "          ⎟       ⎟                                                                         \n",
       "─(W(t, z))⎟       ⎟                                                                         \n",
       "t         ⎟       ⎟                                                                         \n",
       "          ⎠       ⎟  -2⋅M(t, z) - W(t, z)                                                   \n",
       "─────────── + 0.25⎟⋅ℯ                                                                       \n",
       "                  ⎟                                                                         \n",
       "                  ⎠                                                                         \n",
       "─────────────────────────────────────────                                   0               \n",
       "                                                                                            \n",
       "                                                                                            \n",
       "                                                                                            \n",
       "                                                               2                     2   1.0\n",
       "                                                  ⎛∂          ⎞         ⎛∂          ⎞       \n",
       "                                           - 0.25⋅⎜──(W(t, z))⎟  - 0.25⋅⎜──(W(t, z))⎟  + ───\n",
       "                                                  ⎝∂t         ⎠         ⎝∂z         ⎠       \n",
       "                                                                                            \n",
       "\n",
       "                   ⎤\n",
       " z))               ⎥\n",
       "                   ⎥\n",
       "────               ⎥\n",
       "                   ⎥\n",
       "                   ⎥\n",
       "                   ⎥\n",
       "                   ⎥\n",
       "                   ⎥\n",
       "                   ⎥\n",
       "                   ⎥\n",
       "                   ⎥\n",
       "                   ⎥\n",
       "                   ⎥\n",
       "                   ⎥\n",
       "                   ⎥\n",
       "                   ⎥\n",
       "                   ⎥\n",
       "                   ⎥\n",
       "                   ⎥\n",
       "                   ⎥\n",
       "                   ⎥\n",
       "                   ⎥\n",
       "                   ⎥\n",
       "                   ⎥\n",
       "                   ⎥\n",
       "                   ⎥\n",
       "                   ⎥\n",
       "                   ⎥\n",
       " ∂                 ⎥\n",
       "⋅──(M(t, z))       ⎥\n",
       " ∂t            0.25⎥\n",
       "──────────── + ────⎥\n",
       "    t            2 ⎥\n",
       "                t  ⎦"
      ]
     },
     "execution_count": 22,
     "metadata": {},
     "output_type": "execute_result"
    }
   ],
   "source": [
    "einsteinSimplified = simplify(einst.tensor())\n",
    "einsteinSimplified"
   ]
  },
  {
   "cell_type": "code",
   "execution_count": 35,
   "id": "db826bca",
   "metadata": {},
   "outputs": [
    {
     "data": {
      "image/png": "[encoded data removed]",
      "text/latex": [
       "$\\displaystyle \\frac{\\partial^{2}}{\\partial t^{2}} W{\\left(t,z \\right)} - \\frac{\\partial^{2}}{\\partial z^{2}} W{\\left(t,z \\right)} + \\frac{\\frac{\\partial}{\\partial t} W{\\left(t,z \\right)}}{t} = 0$"
      ],
      "text/plain": [
       "                              ∂              \n",
       "  2              2            ──(W(t, z))    \n",
       " ∂              ∂             ∂t             \n",
       "───(W(t, z)) - ───(W(t, z)) + ─────────── = 0\n",
       "  2              2                 t         \n",
       "∂t             ∂z                            "
      ]
     },
     "execution_count": 35,
     "metadata": {},
     "output_type": "execute_result"
    }
   ],
   "source": [
    "equation3pt2 = Eq(expand((1/t)*ricciSimplified[1,1].args[1]),0)\n",
    "equation3pt2"
   ]
  },
  {
   "cell_type": "code",
   "execution_count": 29,
   "id": "af3e63ee",
   "metadata": {},
   "outputs": [
    {
     "data": {
      "image/png": "[encoded data removed]",
      "text/latex": [
       "$\\displaystyle \\frac{\\partial}{\\partial t} M{\\left(t,z \\right)} = 0.25 t \\left(\\frac{\\partial}{\\partial t} W{\\left(t,z \\right)}\\right)^{2} + 0.25 t \\left(\\frac{\\partial}{\\partial z} W{\\left(t,z \\right)}\\right)^{2} - \\frac{0.25}{t}$"
      ],
      "text/plain": [
       "                                  2                       2       \n",
       "∂                    ⎛∂          ⎞           ⎛∂          ⎞    0.25\n",
       "──(M(t, z)) = 0.25⋅t⋅⎜──(W(t, z))⎟  + 0.25⋅t⋅⎜──(W(t, z))⎟  - ────\n",
       "∂t                   ⎝∂t         ⎠           ⎝∂z         ⎠     t  "
      ]
     },
     "execution_count": 29,
     "metadata": {},
     "output_type": "execute_result"
    }
   ],
   "source": [
    "equation3pt3 = Eq(diff(M,t), expand( solve( einsteinSimplified[0,0], diff(M,t))[0] ) )\n",
    "equation3pt3"
   ]
  },
  {
   "cell_type": "code",
   "execution_count": 25,
   "id": "ece4f906",
   "metadata": {},
   "outputs": [
    {
     "data": {
      "image/png": "[encoded data removed]",
      "text/latex": [
       "$\\displaystyle \\frac{\\partial}{\\partial z} M{\\left(t,z \\right)} = \\frac{t \\frac{\\partial}{\\partial t} W{\\left(t,z \\right)} \\frac{\\partial}{\\partial z} W{\\left(t,z \\right)}}{2}$"
      ],
      "text/plain": [
       "                ∂           ∂          \n",
       "              t⋅──(W(t, z))⋅──(W(t, z))\n",
       "∂               ∂t          ∂z         \n",
       "──(M(t, z)) = ─────────────────────────\n",
       "∂z                        2            "
      ]
     },
     "execution_count": 25,
     "metadata": {},
     "output_type": "execute_result"
    }
   ],
   "source": [
    "equation3pt4 = Eq(diff(M,z), solve( einsteinSimplified[3,0], diff(M,z) )[0] ) \n",
    "equation3pt4"
   ]
  },
  {
   "cell_type": "code",
   "execution_count": 37,
   "id": "3576f26c",
   "metadata": {},
   "outputs": [
    {
     "data": {
      "text/latex": [
       "$\\displaystyle \\left[\\begin{matrix}\\frac{\\partial^{2}}{\\partial t^{2}} W{\\left(t,z \\right)} - \\frac{\\partial^{2}}{\\partial z^{2}} W{\\left(t,z \\right)} + \\frac{\\frac{\\partial}{\\partial t} W{\\left(t,z \\right)}}{t} = 0\\\\\\frac{\\partial}{\\partial t} M{\\left(t,z \\right)} = 0.25 t \\left(\\frac{\\partial}{\\partial t} W{\\left(t,z \\right)}\\right)^{2} + 0.25 t \\left(\\frac{\\partial}{\\partial z} W{\\left(t,z \\right)}\\right)^{2} - \\frac{0.25}{t}\\\\\\frac{\\partial}{\\partial z} M{\\left(t,z \\right)} = \\frac{t \\frac{\\partial}{\\partial t} W{\\left(t,z \\right)} \\frac{\\partial}{\\partial z} W{\\left(t,z \\right)}}{2}\\end{matrix}\\right]$"
      ],
      "text/plain": [
       "⎡                                        ∂                         ⎤\n",
       "⎢            2              2            ──(W(t, z))               ⎥\n",
       "⎢           ∂              ∂             ∂t                        ⎥\n",
       "⎢          ───(W(t, z)) - ───(W(t, z)) + ─────────── = 0           ⎥\n",
       "⎢            2              2                 t                    ⎥\n",
       "⎢          ∂t             ∂z                                       ⎥\n",
       "⎢                                                                  ⎥\n",
       "⎢                                  2                       2       ⎥\n",
       "⎢∂                    ⎛∂          ⎞           ⎛∂          ⎞    0.25⎥\n",
       "⎢──(M(t, z)) = 0.25⋅t⋅⎜──(W(t, z))⎟  + 0.25⋅t⋅⎜──(W(t, z))⎟  - ────⎥\n",
       "⎢∂t                   ⎝∂t         ⎠           ⎝∂z         ⎠     t  ⎥\n",
       "⎢                                                                  ⎥\n",
       "⎢                             ∂           ∂                        ⎥\n",
       "⎢                           t⋅──(W(t, z))⋅──(W(t, z))              ⎥\n",
       "⎢             ∂               ∂t          ∂z                       ⎥\n",
       "⎢             ──(M(t, z)) = ─────────────────────────              ⎥\n",
       "⎣             ∂z                        2                          ⎦"
      ]
     },
     "execution_count": 37,
     "metadata": {},
     "output_type": "execute_result"
    }
   ],
   "source": [
    "vacuumFieldEquations = Matrix([equation3pt2,equation3pt3,equation3pt4])\n",
    "vacuumFieldEquations"
   ]
  },
  {
   "cell_type": "code",
   "execution_count": 54,
   "id": "da9ba6d0",
   "metadata": {},
   "outputs": [
    {
     "data": {
      "image/png": "[encoded data removed]",
      "text/latex": [
       "$\\displaystyle - dt^{2} e^{2 M{\\left(t,z \\right)}} + dx^{2} t + dy^{2} t + dz^{2} e^{2 M{\\left(t,z \\right)}}$"
      ],
      "text/plain": [
       "    2  2⋅M(t, z)     2       2       2  2⋅M(t, z)\n",
       "- dt ⋅ℯ          + dx ⋅t + dy ⋅t + dz ⋅ℯ         "
      ]
     },
     "execution_count": 54,
     "metadata": {},
     "output_type": "execute_result"
    }
   ],
   "source": [
    "equation3pt5a = lineElement.subs(W,0)\n",
    "equation3pt5a"
   ]
  },
  {
   "cell_type": "code",
   "execution_count": 44,
   "id": "b345543c",
   "metadata": {},
   "outputs": [
    {
     "data": {
      "image/png": "[encoded data removed]",
      "text/latex": [
       "$\\displaystyle M{\\left(t,z \\right)} = F{\\left(- z \\right)} - 0.25 \\log{\\left(t \\right)}$"
      ],
      "text/plain": [
       "M(t, z) = F(-z) - 0.25⋅log(t)"
      ]
     },
     "execution_count": 44,
     "metadata": {},
     "output_type": "execute_result"
    }
   ],
   "source": [
    "integrateMwrtT = pdsolve( equation3pt3.subs(W,0).doit() , M ) \n",
    "integrateMwrtT"
   ]
  },
  {
   "cell_type": "code",
   "execution_count": 50,
   "id": "bfb3291f",
   "metadata": {},
   "outputs": [
    {
     "data": {
      "image/png": "[encoded data removed]",
      "text/latex": [
       "$\\displaystyle M{\\left(t,z \\right)} = - 0.25 \\log{\\left(t \\right)}$"
      ],
      "text/plain": [
       "M(t, z) = -0.25⋅log(t)"
      ]
     },
     "execution_count": 50,
     "metadata": {},
     "output_type": "execute_result"
    }
   ],
   "source": [
    "mSolution = integrateMwrtT.subs(integrateMwrtT.args[1].args[1],0)\n",
    "mSolution"
   ]
  },
  {
   "cell_type": "code",
   "execution_count": null,
   "id": "b61b9f41",
   "metadata": {},
   "outputs": [],
   "source": []
  }
 ],
 "metadata": {
  "@webio": {
   "lastCommId": "153f70e22f0143d59b36113783e2cb11",
   "lastKernelId": "fd246aac-37a1-44f2-86f8-b0c6d118ad71"
  },
  "kernelspec": {
   "display_name": "Python 3 (ipykernel)",
   "language": "python",
   "name": "python3"
  },
  "language_info": {
   "codemirror_mode": {
    "name": "ipython",
    "version": 3
   },
   "file_extension": ".py",
   "mimetype": "text/x-python",
   "name": "python",
   "nbconvert_exporter": "python",
   "pygments_lexer": "ipython3",
   "version": "3.8.8"
  }
 },
 "nbformat": 4,
 "nbformat_minor": 5
}
