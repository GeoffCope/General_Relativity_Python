{
 "cells": [
  {
   "cell_type": "markdown",
   "id": "a60b8b31",
   "metadata": {},
   "source": [
    "# Cylindrical Systems In General Relativity by Bronnikov  Santos and Wang\n",
    "##  Geoff Cope\n",
    "##  Univeristy of Utah\n",
    "##  December 28, 2021"
   ]
  },
  {
   "cell_type": "markdown",
   "id": "7eb7ad81",
   "metadata": {},
   "source": [
    "This is also a very long paper with a large number of metrics.  Here we concentrate on metric 2.23 the Weyl Metric.  The vacuum field equations are derived and listed as 2.23 - 2.26  We'll do some others another time."
   ]
  },
  {
   "cell_type": "markdown",
   "id": "adc73595",
   "metadata": {},
   "source": [
    "https://arxiv.org/abs/1901.06561"
   ]
  },
  {
   "cell_type": "markdown",
   "id": "cab457c7",
   "metadata": {},
   "source": [
    "As mentioned in the paper there is a quote from J.L. Synge that appears at the top of page 313 in Relativity The General Theory.  \"We now come to the most amazing fact in this work:  written out explicitly in the form (our equation 2.25 this paper) the equation is recognized as Laplace's equation in cyclindrical coordinates.\" "
   ]
  },
  {
   "cell_type": "markdown",
   "id": "ae29d263",
   "metadata": {},
   "source": [
    "https://archive.org/details/relativitygenera0000syng"
   ]
  },
  {
   "cell_type": "code",
   "execution_count": 1,
   "id": "00ba53ce",
   "metadata": {},
   "outputs": [
    {
     "name": "stdout",
     "output_type": "stream",
     "text": [
      "IPython console for SymPy 1.9 (Python 3.8.8-64-bit) (ground types: gmpy)\n",
      "\n",
      "These commands were executed:\n",
      ">>> from __future__ import division\n",
      ">>> from sympy import *\n",
      ">>> x, y, z, t = symbols('x y z t')\n",
      ">>> k, m, n = symbols('k m n', integer=True)\n",
      ">>> f, g, h = symbols('f g h', cls=Function)\n",
      ">>> init_printing()\n",
      "\n",
      "Documentation can be found at https://docs.sympy.org/1.9/\n",
      "\n"
     ]
    }
   ],
   "source": [
    "from sympy import init_session\n",
    "init_session(use_latex=True)"
   ]
  },
  {
   "cell_type": "code",
   "execution_count": 2,
   "id": "699b75f0",
   "metadata": {},
   "outputs": [],
   "source": [
    "import warnings\n",
    "import matplotlib.cbook\n",
    "warnings.filterwarnings(\"ignore\",category=matplotlib.cbook.mplDeprecation)"
   ]
  },
  {
   "cell_type": "code",
   "execution_count": 3,
   "id": "ca838c13",
   "metadata": {},
   "outputs": [],
   "source": [
    "t,rho,phi,z,dt,drho,dphi,dz = symbols( 't rho phi z dt drho dphi dz' ) "
   ]
  },
  {
   "cell_type": "code",
   "execution_count": 34,
   "id": "956ce3bf",
   "metadata": {},
   "outputs": [
    {
     "data": {
      "image/png": "[encoded data removed]",
      "text/latex": [
       "$\\displaystyle \\lambda{\\left(\\rho,z \\right)}$"
      ],
      "text/plain": [
       "λ(ρ, z)"
      ]
     },
     "execution_count": 34,
     "metadata": {},
     "output_type": "execute_result"
    }
   ],
   "source": [
    "Lambda = Function('lambda')(rho,z)\n",
    "Lambda"
   ]
  },
  {
   "cell_type": "code",
   "execution_count": 5,
   "id": "376c14fb",
   "metadata": {},
   "outputs": [
    {
     "data": {
      "image/png": "[encoded data removed]",
      "text/latex": [
       "$\\displaystyle \\mu{\\left(\\rho,z \\right)}$"
      ],
      "text/plain": [
       "μ(ρ, z)"
      ]
     },
     "execution_count": 5,
     "metadata": {},
     "output_type": "execute_result"
    }
   ],
   "source": [
    "mu = Function('mu')(rho,z)\n",
    "mu"
   ]
  },
  {
   "cell_type": "code",
   "execution_count": 6,
   "id": "c6b08b9f",
   "metadata": {},
   "outputs": [
    {
     "data": {
      "text/latex": [
       "$\\displaystyle \\left[\\begin{matrix}t\\\\\\rho\\\\\\phi\\\\z\\end{matrix}\\right]$"
      ],
      "text/plain": [
       "⎡t⎤\n",
       "⎢ ⎥\n",
       "⎢ρ⎥\n",
       "⎢ ⎥\n",
       "⎢φ⎥\n",
       "⎢ ⎥\n",
       "⎣z⎦"
      ]
     },
     "execution_count": 6,
     "metadata": {},
     "output_type": "execute_result"
    }
   ],
   "source": [
    "variables = Matrix( [t,rho,phi,z] )\n",
    "variables"
   ]
  },
  {
   "cell_type": "code",
   "execution_count": 7,
   "id": "b4b351f4",
   "metadata": {},
   "outputs": [
    {
     "data": {
      "text/latex": [
       "$\\displaystyle \\left[\\begin{matrix}dt\\\\drho\\\\dphi\\\\dz\\end{matrix}\\right]$"
      ],
      "text/plain": [
       "⎡ dt ⎤\n",
       "⎢    ⎥\n",
       "⎢drho⎥\n",
       "⎢    ⎥\n",
       "⎢dphi⎥\n",
       "⎢    ⎥\n",
       "⎣ dz ⎦"
      ]
     },
     "execution_count": 7,
     "metadata": {},
     "output_type": "execute_result"
    }
   ],
   "source": [
    "differentials = Matrix( [dt,drho,dphi,dz] ) \n",
    "differentials"
   ]
  },
  {
   "cell_type": "code",
   "execution_count": 8,
   "id": "d7b04cef",
   "metadata": {},
   "outputs": [
    {
     "data": {
      "image/png": "[encoded data removed]",
      "text/latex": [
       "$\\displaystyle - dphi^{2} \\rho^{2} e^{- 2 \\lambda{\\left(\\rho,z \\right)}} - drho^{2} e^{- 2 \\lambda{\\left(\\rho,z \\right)}} e^{2 \\mu{\\left(\\rho,z \\right)}} + dt^{2} e^{2 \\lambda{\\left(\\rho,z \\right)}} - dz^{2} e^{- 2 \\lambda{\\left(\\rho,z \\right)}} e^{2 \\mu{\\left(\\rho,z \\right)}}$"
      ],
      "text/plain": [
       "      2  2  -2⋅λ(ρ, z)       2  -2⋅λ(ρ, z)  2⋅μ(ρ, z)     2  2⋅λ(ρ, z)     2  -2⋅λ(ρ, z)  2⋅μ(ρ, z)\n",
       "- dphi ⋅ρ ⋅ℯ           - drho ⋅ℯ          ⋅ℯ          + dt ⋅ℯ          - dz ⋅ℯ          ⋅ℯ         "
      ]
     },
     "execution_count": 8,
     "metadata": {},
     "output_type": "execute_result"
    }
   ],
   "source": [
    "lineElement = expand( exp(2*Lambda)*dt**2 - exp(-2*Lambda) * ( exp(2*mu) * (drho**2 + dz**2 ) + rho**2 * dphi**2 ) ) \n",
    "lineElement"
   ]
  },
  {
   "cell_type": "code",
   "execution_count": 9,
   "id": "3b3e593a",
   "metadata": {},
   "outputs": [
    {
     "data": {
      "text/latex": [
       "$\\displaystyle \\left[\\begin{matrix}e^{2 \\lambda{\\left(\\rho,z \\right)}} & 0 & 0 & 0\\\\0 & - e^{- 2 \\lambda{\\left(\\rho,z \\right)}} e^{2 \\mu{\\left(\\rho,z \\right)}} & 0 & 0\\\\0 & 0 & - \\rho^{2} e^{- 2 \\lambda{\\left(\\rho,z \\right)}} & 0\\\\0 & 0 & 0 & - e^{- 2 \\lambda{\\left(\\rho,z \\right)}} e^{2 \\mu{\\left(\\rho,z \\right)}}\\end{matrix}\\right]$"
      ],
      "text/plain": [
       "⎡ 2⋅λ(ρ, z)                                                                   ⎤\n",
       "⎢ℯ                      0                    0                    0           ⎥\n",
       "⎢                                                                             ⎥\n",
       "⎢              -2⋅λ(ρ, z)  2⋅μ(ρ, z)                                          ⎥\n",
       "⎢    0       -ℯ          ⋅ℯ                  0                    0           ⎥\n",
       "⎢                                                                             ⎥\n",
       "⎢                                       2  -2⋅λ(ρ, z)                         ⎥\n",
       "⎢    0                  0             -ρ ⋅ℯ                       0           ⎥\n",
       "⎢                                                                             ⎥\n",
       "⎢                                                        -2⋅λ(ρ, z)  2⋅μ(ρ, z)⎥\n",
       "⎣    0                  0                    0         -ℯ          ⋅ℯ         ⎦"
      ]
     },
     "execution_count": 9,
     "metadata": {},
     "output_type": "execute_result"
    }
   ],
   "source": [
    "g = zeros(4)\n",
    "\n",
    "for i in range(4):\n",
    "    for j in range(4):\n",
    "        if i == j:\n",
    "            g[i,j] = lineElement.coeff( differentials[i],2 ) \n",
    "        else:\n",
    "            g[i,j] = Rational(1,2)*lineElement.coeff( differentials[i]*differentials[j],1 )\n",
    "            \n",
    "g"
   ]
  },
  {
   "cell_type": "code",
   "execution_count": 10,
   "id": "5086293c",
   "metadata": {},
   "outputs": [],
   "source": [
    "import sympy"
   ]
  },
  {
   "cell_type": "code",
   "execution_count": 11,
   "id": "6aef1cb1",
   "metadata": {},
   "outputs": [
    {
     "data": {
      "text/latex": [
       "$\\displaystyle \\left[\\begin{matrix}e^{2 \\lambda{\\left(\\rho,z \\right)}} & 0 & 0 & 0\\\\0 & - e^{- 2 \\lambda{\\left(\\rho,z \\right)}} e^{2 \\mu{\\left(\\rho,z \\right)}} & 0 & 0\\\\0 & 0 & - \\rho^{2} e^{- 2 \\lambda{\\left(\\rho,z \\right)}} & 0\\\\0 & 0 & 0 & - e^{- 2 \\lambda{\\left(\\rho,z \\right)}} e^{2 \\mu{\\left(\\rho,z \\right)}}\\end{matrix}\\right]$"
      ],
      "text/plain": [
       "⎡ 2⋅λ(ρ, z)                                                                   ⎤\n",
       "⎢ℯ                      0                    0                    0           ⎥\n",
       "⎢                                                                             ⎥\n",
       "⎢              -2⋅λ(ρ, z)  2⋅μ(ρ, z)                                          ⎥\n",
       "⎢    0       -ℯ          ⋅ℯ                  0                    0           ⎥\n",
       "⎢                                                                             ⎥\n",
       "⎢                                       2  -2⋅λ(ρ, z)                         ⎥\n",
       "⎢    0                  0             -ρ ⋅ℯ                       0           ⎥\n",
       "⎢                                                                             ⎥\n",
       "⎢                                                        -2⋅λ(ρ, z)  2⋅μ(ρ, z)⎥\n",
       "⎣    0                  0                    0         -ℯ          ⋅ℯ         ⎦"
      ]
     },
     "execution_count": 11,
     "metadata": {},
     "output_type": "execute_result"
    }
   ],
   "source": [
    "m = sympy.Array(g)\n",
    "m"
   ]
  },
  {
   "cell_type": "code",
   "execution_count": 12,
   "id": "c931f4ba",
   "metadata": {},
   "outputs": [],
   "source": [
    "from einsteinpy.symbolic import *"
   ]
  },
  {
   "cell_type": "code",
   "execution_count": 13,
   "id": "13291c0b",
   "metadata": {},
   "outputs": [],
   "source": [
    "syms = sympy.symbols(\"t rho phi z\")\n",
    "t,rho,phi,z = syms"
   ]
  },
  {
   "cell_type": "code",
   "execution_count": 14,
   "id": "ec541a56",
   "metadata": {},
   "outputs": [],
   "source": [
    "metric = MetricTensor(m,syms)"
   ]
  },
  {
   "cell_type": "code",
   "execution_count": 15,
   "id": "4c9d7ca2",
   "metadata": {},
   "outputs": [
    {
     "data": {
      "text/latex": [
       "$\\displaystyle \\left[\\begin{matrix}\\left[\\begin{matrix}0 & \\frac{\\partial}{\\partial \\rho} \\lambda{\\left(\\rho,z \\right)} & 0 & \\frac{\\partial}{\\partial z} \\lambda{\\left(\\rho,z \\right)}\\\\\\frac{\\partial}{\\partial \\rho} \\lambda{\\left(\\rho,z \\right)} & 0 & 0 & 0\\\\0 & 0 & 0 & 0\\\\\\frac{\\partial}{\\partial z} \\lambda{\\left(\\rho,z \\right)} & 0 & 0 & 0\\end{matrix}\\right] & \\left[\\begin{matrix}e^{4 \\lambda{\\left(\\rho,z \\right)}} e^{- 2 \\mu{\\left(\\rho,z \\right)}} \\frac{\\partial}{\\partial \\rho} \\lambda{\\left(\\rho,z \\right)} & 0 & 0 & 0\\\\0 & - \\frac{\\left(2 e^{- 2 \\lambda{\\left(\\rho,z \\right)}} e^{2 \\mu{\\left(\\rho,z \\right)}} \\frac{\\partial}{\\partial \\rho} \\lambda{\\left(\\rho,z \\right)} - 2 e^{- 2 \\lambda{\\left(\\rho,z \\right)}} e^{2 \\mu{\\left(\\rho,z \\right)}} \\frac{\\partial}{\\partial \\rho} \\mu{\\left(\\rho,z \\right)}\\right) e^{2 \\lambda{\\left(\\rho,z \\right)}} e^{- 2 \\mu{\\left(\\rho,z \\right)}}}{2} & 0 & - \\frac{\\left(2 e^{- 2 \\lambda{\\left(\\rho,z \\right)}} e^{2 \\mu{\\left(\\rho,z \\right)}} \\frac{\\partial}{\\partial z} \\lambda{\\left(\\rho,z \\right)} - 2 e^{- 2 \\lambda{\\left(\\rho,z \\right)}} e^{2 \\mu{\\left(\\rho,z \\right)}} \\frac{\\partial}{\\partial z} \\mu{\\left(\\rho,z \\right)}\\right) e^{2 \\lambda{\\left(\\rho,z \\right)}} e^{- 2 \\mu{\\left(\\rho,z \\right)}}}{2}\\\\0 & 0 & - \\frac{\\left(- 2 \\rho^{2} e^{- 2 \\lambda{\\left(\\rho,z \\right)}} \\frac{\\partial}{\\partial \\rho} \\lambda{\\left(\\rho,z \\right)} + 2 \\rho e^{- 2 \\lambda{\\left(\\rho,z \\right)}}\\right) e^{2 \\lambda{\\left(\\rho,z \\right)}} e^{- 2 \\mu{\\left(\\rho,z \\right)}}}{2} & 0\\\\0 & - \\frac{\\left(2 e^{- 2 \\lambda{\\left(\\rho,z \\right)}} e^{2 \\mu{\\left(\\rho,z \\right)}} \\frac{\\partial}{\\partial z} \\lambda{\\left(\\rho,z \\right)} - 2 e^{- 2 \\lambda{\\left(\\rho,z \\right)}} e^{2 \\mu{\\left(\\rho,z \\right)}} \\frac{\\partial}{\\partial z} \\mu{\\left(\\rho,z \\right)}\\right) e^{2 \\lambda{\\left(\\rho,z \\right)}} e^{- 2 \\mu{\\left(\\rho,z \\right)}}}{2} & 0 & - \\frac{\\left(- 2 e^{- 2 \\lambda{\\left(\\rho,z \\right)}} e^{2 \\mu{\\left(\\rho,z \\right)}} \\frac{\\partial}{\\partial \\rho} \\lambda{\\left(\\rho,z \\right)} + 2 e^{- 2 \\lambda{\\left(\\rho,z \\right)}} e^{2 \\mu{\\left(\\rho,z \\right)}} \\frac{\\partial}{\\partial \\rho} \\mu{\\left(\\rho,z \\right)}\\right) e^{2 \\lambda{\\left(\\rho,z \\right)}} e^{- 2 \\mu{\\left(\\rho,z \\right)}}}{2}\\end{matrix}\\right] & \\left[\\begin{matrix}0 & 0 & 0 & 0\\\\0 & 0 & - \\frac{\\left(2 \\rho^{2} e^{- 2 \\lambda{\\left(\\rho,z \\right)}} \\frac{\\partial}{\\partial \\rho} \\lambda{\\left(\\rho,z \\right)} - 2 \\rho e^{- 2 \\lambda{\\left(\\rho,z \\right)}}\\right) e^{2 \\lambda{\\left(\\rho,z \\right)}}}{2 \\rho^{2}} & 0\\\\0 & - \\frac{\\left(2 \\rho^{2} e^{- 2 \\lambda{\\left(\\rho,z \\right)}} \\frac{\\partial}{\\partial \\rho} \\lambda{\\left(\\rho,z \\right)} - 2 \\rho e^{- 2 \\lambda{\\left(\\rho,z \\right)}}\\right) e^{2 \\lambda{\\left(\\rho,z \\right)}}}{2 \\rho^{2}} & 0 & - \\frac{\\partial}{\\partial z} \\lambda{\\left(\\rho,z \\right)}\\\\0 & 0 & - \\frac{\\partial}{\\partial z} \\lambda{\\left(\\rho,z \\right)} & 0\\end{matrix}\\right] & \\left[\\begin{matrix}e^{4 \\lambda{\\left(\\rho,z \\right)}} e^{- 2 \\mu{\\left(\\rho,z \\right)}} \\frac{\\partial}{\\partial z} \\lambda{\\left(\\rho,z \\right)} & 0 & 0 & 0\\\\0 & - \\frac{\\left(- 2 e^{- 2 \\lambda{\\left(\\rho,z \\right)}} e^{2 \\mu{\\left(\\rho,z \\right)}} \\frac{\\partial}{\\partial z} \\lambda{\\left(\\rho,z \\right)} + 2 e^{- 2 \\lambda{\\left(\\rho,z \\right)}} e^{2 \\mu{\\left(\\rho,z \\right)}} \\frac{\\partial}{\\partial z} \\mu{\\left(\\rho,z \\right)}\\right) e^{2 \\lambda{\\left(\\rho,z \\right)}} e^{- 2 \\mu{\\left(\\rho,z \\right)}}}{2} & 0 & - \\frac{\\left(2 e^{- 2 \\lambda{\\left(\\rho,z \\right)}} e^{2 \\mu{\\left(\\rho,z \\right)}} \\frac{\\partial}{\\partial \\rho} \\lambda{\\left(\\rho,z \\right)} - 2 e^{- 2 \\lambda{\\left(\\rho,z \\right)}} e^{2 \\mu{\\left(\\rho,z \\right)}} \\frac{\\partial}{\\partial \\rho} \\mu{\\left(\\rho,z \\right)}\\right) e^{2 \\lambda{\\left(\\rho,z \\right)}} e^{- 2 \\mu{\\left(\\rho,z \\right)}}}{2}\\\\0 & 0 & \\rho^{2} e^{- 2 \\mu{\\left(\\rho,z \\right)}} \\frac{\\partial}{\\partial z} \\lambda{\\left(\\rho,z \\right)} & 0\\\\0 & - \\frac{\\left(2 e^{- 2 \\lambda{\\left(\\rho,z \\right)}} e^{2 \\mu{\\left(\\rho,z \\right)}} \\frac{\\partial}{\\partial \\rho} \\lambda{\\left(\\rho,z \\right)} - 2 e^{- 2 \\lambda{\\left(\\rho,z \\right)}} e^{2 \\mu{\\left(\\rho,z \\right)}} \\frac{\\partial}{\\partial \\rho} \\mu{\\left(\\rho,z \\right)}\\right) e^{2 \\lambda{\\left(\\rho,z \\right)}} e^{- 2 \\mu{\\left(\\rho,z \\right)}}}{2} & 0 & - \\frac{\\left(2 e^{- 2 \\lambda{\\left(\\rho,z \\right)}} e^{2 \\mu{\\left(\\rho,z \\right)}} \\frac{\\partial}{\\partial z} \\lambda{\\left(\\rho,z \\right)} - 2 e^{- 2 \\lambda{\\left(\\rho,z \\right)}} e^{2 \\mu{\\left(\\rho,z \\right)}} \\frac{\\partial}{\\partial z} \\mu{\\left(\\rho,z \\right)}\\right) e^{2 \\lambda{\\left(\\rho,z \\right)}} e^{- 2 \\mu{\\left(\\rho,z \\right)}}}{2}\\end{matrix}\\right]\\end{matrix}\\right]$"
      ],
      "text/plain": [
       "⎡                                            ⎡ 4⋅λ(ρ, z)  -2⋅μ(ρ, z) ∂                                                                   \n",
       "⎢                                            ⎢ℯ         ⋅ℯ          ⋅──(λ(ρ, z))                                                    0    \n",
       "⎢                                            ⎢                       ∂ρ                                                                  \n",
       "⎢                                            ⎢                                                                                           \n",
       "⎢⎡             ∂               ∂          ⎤  ⎢                                     ⎛   -2⋅λ(ρ, z)  2⋅μ(ρ, z) ∂                -2⋅λ(ρ, z) \n",
       "⎢⎢     0       ──(λ(ρ, z))  0  ──(λ(ρ, z))⎥  ⎢                                    -⎜2⋅ℯ          ⋅ℯ         ⋅──(λ(ρ, z)) - 2⋅ℯ          ⋅\n",
       "⎢⎢             ∂ρ              ∂z         ⎥  ⎢                                     ⎝                         ∂ρ                          \n",
       "⎢⎢                                        ⎥  ⎢                0                   ───────────────────────────────────────────────────────\n",
       "⎢⎢∂                                       ⎥  ⎢                                                                                      2    \n",
       "⎢⎢──(λ(ρ, z))       0       0       0     ⎥  ⎢                                                                                           \n",
       "⎢⎢∂ρ                                      ⎥  ⎢                                                                                           \n",
       "⎢⎢                                        ⎥  ⎢                                                                                           \n",
       "⎢⎢     0            0       0       0     ⎥  ⎢                                                                                           \n",
       "⎢⎢                                        ⎥  ⎢                0                                                                     0    \n",
       "⎢⎢∂                                       ⎥  ⎢                                                                                           \n",
       "⎢⎢──(λ(ρ, z))       0       0       0     ⎥  ⎢                                                                                           \n",
       "⎢⎣∂z                                      ⎦  ⎢                                     ⎛   -2⋅λ(ρ, z)  2⋅μ(ρ, z) ∂                -2⋅λ(ρ, z) \n",
       "⎢                                            ⎢                                    -⎜2⋅ℯ          ⋅ℯ         ⋅──(λ(ρ, z)) - 2⋅ℯ          ⋅\n",
       "⎢                                            ⎢                                     ⎝                         ∂z                          \n",
       "⎢                                            ⎢                0                   ───────────────────────────────────────────────────────\n",
       "⎣                                            ⎣                                                                                      2    \n",
       "\n",
       "                                                                                                                                         \n",
       "                                                                                      0                                                  \n",
       "                                                                                                                                         \n",
       "                                                                                                                                         \n",
       " 2⋅μ(ρ, z) ∂          ⎞  2⋅λ(ρ, z)  -2⋅μ(ρ, z)                                                                                  ⎛   -2⋅λ(\n",
       "ℯ         ⋅──(μ(ρ, z))⎟⋅ℯ         ⋅ℯ                                                                                           -⎜2⋅ℯ     \n",
       "           ∂ρ         ⎠                                                                                                         ⎝        \n",
       "───────────────────────────────────────────────                                       0                                        ──────────\n",
       "                                                                                                                                         \n",
       "                                                                                                                                         \n",
       "                                                  ⎛     2  -2⋅λ(ρ, z) ∂                  -2⋅λ(ρ, z)⎞  2⋅λ(ρ, z)  -2⋅μ(ρ, z)              \n",
       "                                                 -⎜- 2⋅ρ ⋅ℯ          ⋅──(λ(ρ, z)) + 2⋅ρ⋅ℯ          ⎟⋅ℯ         ⋅ℯ                        \n",
       "                                                  ⎝                   ∂ρ                           ⎠                                     \n",
       "                                                 ───────────────────────────────────────────────────────────────────────────             \n",
       "                                                                                      2                                                  \n",
       "                                                                                                                                         \n",
       " 2⋅μ(ρ, z) ∂          ⎞  2⋅λ(ρ, z)  -2⋅μ(ρ, z)                                                                                 ⎛     -2⋅λ\n",
       "ℯ         ⋅──(μ(ρ, z))⎟⋅ℯ         ⋅ℯ                                                                                          -⎜- 2⋅ℯ    \n",
       "           ∂z         ⎠                                                                                                        ⎝         \n",
       "───────────────────────────────────────────────                                       0                                       ───────────\n",
       "                                                                                                                                         \n",
       "\n",
       "                                                                                             ⎤                                           \n",
       "                                        0                                                    ⎥  ⎡0                                0      \n",
       "                                                                                             ⎥  ⎢                                        \n",
       "                                                                                             ⎥  ⎢                                        \n",
       "ρ, z)  2⋅μ(ρ, z) ∂                -2⋅λ(ρ, z)  2⋅μ(ρ, z) ∂          ⎞  2⋅λ(ρ, z)  -2⋅μ(ρ, z)  ⎥  ⎢                                        \n",
       "     ⋅ℯ         ⋅──(λ(ρ, z)) - 2⋅ℯ          ⋅ℯ         ⋅──(μ(ρ, z))⎟⋅ℯ         ⋅ℯ            ⎥  ⎢                                        \n",
       "                 ∂z                                     ∂z         ⎠                         ⎥  ⎢0                                0      \n",
       "──────────────────────────────────────────────────────────────────────────────────────────── ⎥  ⎢                                        \n",
       "                                        2                                                    ⎥  ⎢                                        \n",
       "                                                                                             ⎥  ⎢                                        \n",
       "                                                                                             ⎥  ⎢    ⎛   2  -2⋅λ(ρ, z) ∂                 \n",
       "                                                                                             ⎥  ⎢   -⎜2⋅ρ ⋅ℯ          ⋅──(λ(ρ, z)) - 2⋅ρ⋅\n",
       "                                                                                             ⎥  ⎢    ⎝                 ∂ρ                \n",
       "                                        0                                                    ⎥  ⎢0  ─────────────────────────────────────\n",
       "                                                                                             ⎥  ⎢                                   2    \n",
       "                                                                                             ⎥  ⎢                                2⋅ρ     \n",
       "(ρ, z)  2⋅μ(ρ, z) ∂                -2⋅λ(ρ, z)  2⋅μ(ρ, z) ∂          ⎞  2⋅λ(ρ, z)  -2⋅μ(ρ, z) ⎥  ⎢                                        \n",
       "      ⋅ℯ         ⋅──(λ(ρ, z)) + 2⋅ℯ          ⋅ℯ         ⋅──(μ(ρ, z))⎟⋅ℯ         ⋅ℯ           ⎥  ⎢                                        \n",
       "                  ∂ρ                                     ∂ρ         ⎠                        ⎥  ⎢0                                0      \n",
       "─────────────────────────────────────────────────────────────────────────────────────────────⎥  ⎣                                        \n",
       "                                        2                                                    ⎦                                           \n",
       "\n",
       "                                                                                                                                         \n",
       "                                                        0                                     0      ⎤  ⎡ 4⋅λ(ρ, z)  -2⋅μ(ρ, z) ∂        \n",
       "                                                                                                     ⎥  ⎢ℯ         ⋅ℯ          ⋅──(λ(ρ, z\n",
       "                           ⎛   2  -2⋅λ(ρ, z) ∂                  -2⋅λ(ρ, z)⎞  2⋅λ(ρ, z)               ⎥  ⎢                       ∂z       \n",
       "                          -⎜2⋅ρ ⋅ℯ          ⋅──(λ(ρ, z)) - 2⋅ρ⋅ℯ          ⎟⋅ℯ                        ⎥  ⎢                                \n",
       "                           ⎝                 ∂ρ                           ⎠                          ⎥  ⎢                                \n",
       "                          ─────────────────────────────────────────────────────────────       0      ⎥  ⎢                                \n",
       "                                                          2                                          ⎥  ⎢                                \n",
       "                                                       2⋅ρ                                           ⎥  ⎢                0               \n",
       "                                                                                                     ⎥  ⎢                                \n",
       " -2⋅λ(ρ, z)⎞  2⋅λ(ρ, z)                                                                              ⎥  ⎢                                \n",
       "ℯ          ⎟⋅ℯ                                                                                       ⎥  ⎢                                \n",
       "           ⎠                                                                              ∂          ⎥  ⎢                0               \n",
       "────────────────────────                                0                                -──(λ(ρ, z))⎥  ⎢                                \n",
       "                                                                                          ∂z         ⎥  ⎢                                \n",
       "                                                                                                     ⎥  ⎢                                \n",
       "                                                                                                     ⎥  ⎢                                \n",
       "                                                   ∂                                                 ⎥  ⎢                                \n",
       "                                                  -──(λ(ρ, z))                                0      ⎥  ⎢                0               \n",
       "                                                   ∂z                                                ⎦  ⎣                                \n",
       "                                                                                                                                         \n",
       "\n",
       "                                                                                                                                         \n",
       "                                                                                                                                         \n",
       "))                                                     0                                                                  0              \n",
       "                                                                                                                                         \n",
       "                                                                                                                                         \n",
       "     ⎛     -2⋅λ(ρ, z)  2⋅μ(ρ, z) ∂                -2⋅λ(ρ, z)  2⋅μ(ρ, z) ∂          ⎞  2⋅λ(ρ, z)  -2⋅μ(ρ, z)                              \n",
       "    -⎜- 2⋅ℯ          ⋅ℯ         ⋅──(λ(ρ, z)) + 2⋅ℯ          ⋅ℯ         ⋅──(μ(ρ, z))⎟⋅ℯ         ⋅ℯ                                        \n",
       "     ⎝                           ∂z                                     ∂z         ⎠                                                     \n",
       "    ────────────────────────────────────────────────────────────────────────────────────────────────────────              0              \n",
       "                                                       2                                                                                 \n",
       "                                                                                                                                         \n",
       "                                                                                                               2  -2⋅μ(ρ, z) ∂           \n",
       "                                                       0                                                      ρ ⋅ℯ          ⋅──(λ(ρ, z)) \n",
       "                                                                                                                             ∂z          \n",
       "                                                                                                                                         \n",
       "      ⎛   -2⋅λ(ρ, z)  2⋅μ(ρ, z) ∂                -2⋅λ(ρ, z)  2⋅μ(ρ, z) ∂          ⎞  2⋅λ(ρ, z)  -2⋅μ(ρ, z)                               \n",
       "     -⎜2⋅ℯ          ⋅ℯ         ⋅──(λ(ρ, z)) - 2⋅ℯ          ⋅ℯ         ⋅──(μ(ρ, z))⎟⋅ℯ         ⋅ℯ                                         \n",
       "      ⎝                         ∂ρ                                     ∂ρ         ⎠                                                      \n",
       "     ──────────────────────────────────────────────────────────────────────────────────────────────────────               0              \n",
       "                                                       2                                                                                 \n",
       "                                                                                                                                         \n",
       "\n",
       "                                                                                                        ⎤\n",
       "                                                                                                       ⎤⎥\n",
       "                                                   0                                                   ⎥⎥\n",
       "                                                                                                       ⎥⎥\n",
       "                                                                                                       ⎥⎥\n",
       "  ⎛   -2⋅λ(ρ, z)  2⋅μ(ρ, z) ∂                -2⋅λ(ρ, z)  2⋅μ(ρ, z) ∂          ⎞  2⋅λ(ρ, z)  -2⋅μ(ρ, z) ⎥⎥\n",
       " -⎜2⋅ℯ          ⋅ℯ         ⋅──(λ(ρ, z)) - 2⋅ℯ          ⋅ℯ         ⋅──(μ(ρ, z))⎟⋅ℯ         ⋅ℯ           ⎥⎥\n",
       "  ⎝                         ∂ρ                                     ∂ρ         ⎠                        ⎥⎥\n",
       " ──────────────────────────────────────────────────────────────────────────────────────────────────────⎥⎥\n",
       "                                                   2                                                   ⎥⎥\n",
       "                                                                                                       ⎥⎥\n",
       "                                                                                                       ⎥⎥\n",
       "                                                   0                                                   ⎥⎥\n",
       "                                                                                                       ⎥⎥\n",
       "                                                                                                       ⎥⎥\n",
       "  ⎛   -2⋅λ(ρ, z)  2⋅μ(ρ, z) ∂                -2⋅λ(ρ, z)  2⋅μ(ρ, z) ∂          ⎞  2⋅λ(ρ, z)  -2⋅μ(ρ, z) ⎥⎥\n",
       " -⎜2⋅ℯ          ⋅ℯ         ⋅──(λ(ρ, z)) - 2⋅ℯ          ⋅ℯ         ⋅──(μ(ρ, z))⎟⋅ℯ         ⋅ℯ           ⎥⎥\n",
       "  ⎝                         ∂z                                     ∂z         ⎠                        ⎥⎥\n",
       " ──────────────────────────────────────────────────────────────────────────────────────────────────────⎥⎥\n",
       "                                                   2                                                   ⎦⎥\n",
       "                                                                                                        ⎦"
      ]
     },
     "execution_count": 15,
     "metadata": {},
     "output_type": "execute_result"
    }
   ],
   "source": [
    "ch = ChristoffelSymbols.from_metric(metric)\n",
    "ch.tensor()"
   ]
  },
  {
   "cell_type": "code",
   "execution_count": 16,
   "id": "8d8528cd",
   "metadata": {},
   "outputs": [
    {
     "data": {
      "text/latex": [
       "$\\displaystyle \\left[\\begin{matrix}\\frac{\\left(\\rho \\frac{\\partial^{2}}{\\partial \\rho^{2}} \\lambda{\\left(\\rho,z \\right)} + \\rho \\frac{\\partial^{2}}{\\partial z^{2}} \\lambda{\\left(\\rho,z \\right)} + \\frac{\\partial}{\\partial \\rho} \\lambda{\\left(\\rho,z \\right)}\\right) e^{4 \\lambda{\\left(\\rho,z \\right)} - 2 \\mu{\\left(\\rho,z \\right)}}}{\\rho} & 0 & 0 & 0\\\\0 & \\frac{\\rho \\left(- 2 \\left(\\frac{\\partial}{\\partial \\rho} \\lambda{\\left(\\rho,z \\right)}\\right)^{2} + \\frac{\\partial^{2}}{\\partial \\rho^{2}} \\lambda{\\left(\\rho,z \\right)} + \\frac{\\partial^{2}}{\\partial z^{2}} \\lambda{\\left(\\rho,z \\right)} - \\frac{\\partial^{2}}{\\partial \\rho^{2}} \\mu{\\left(\\rho,z \\right)} - \\frac{\\partial^{2}}{\\partial z^{2}} \\mu{\\left(\\rho,z \\right)}\\right) + \\frac{\\partial}{\\partial \\rho} \\lambda{\\left(\\rho,z \\right)} + \\frac{\\partial}{\\partial \\rho} \\mu{\\left(\\rho,z \\right)}}{\\rho} & 0 & - 2 \\frac{\\partial}{\\partial \\rho} \\lambda{\\left(\\rho,z \\right)} \\frac{\\partial}{\\partial z} \\lambda{\\left(\\rho,z \\right)} + \\frac{\\frac{\\partial}{\\partial z} \\mu{\\left(\\rho,z \\right)}}{\\rho}\\\\0 & 0 & \\rho \\left(\\rho \\frac{\\partial^{2}}{\\partial \\rho^{2}} \\lambda{\\left(\\rho,z \\right)} + \\rho \\frac{\\partial^{2}}{\\partial z^{2}} \\lambda{\\left(\\rho,z \\right)} + \\frac{\\partial}{\\partial \\rho} \\lambda{\\left(\\rho,z \\right)}\\right) e^{- 2 \\mu{\\left(\\rho,z \\right)}} & 0\\\\0 & - 2 \\frac{\\partial}{\\partial \\rho} \\lambda{\\left(\\rho,z \\right)} \\frac{\\partial}{\\partial z} \\lambda{\\left(\\rho,z \\right)} + \\frac{\\frac{\\partial}{\\partial z} \\mu{\\left(\\rho,z \\right)}}{\\rho} & 0 & \\frac{\\rho \\left(\\frac{\\partial^{2}}{\\partial \\rho^{2}} \\lambda{\\left(\\rho,z \\right)} - 2 \\left(\\frac{\\partial}{\\partial z} \\lambda{\\left(\\rho,z \\right)}\\right)^{2} + \\frac{\\partial^{2}}{\\partial z^{2}} \\lambda{\\left(\\rho,z \\right)} - \\frac{\\partial^{2}}{\\partial \\rho^{2}} \\mu{\\left(\\rho,z \\right)} - \\frac{\\partial^{2}}{\\partial z^{2}} \\mu{\\left(\\rho,z \\right)}\\right) + \\frac{\\partial}{\\partial \\rho} \\lambda{\\left(\\rho,z \\right)} - \\frac{\\partial}{\\partial \\rho} \\mu{\\left(\\rho,z \\right)}}{\\rho}\\end{matrix}\\right]$"
      ],
      "text/plain": [
       "⎡⎛    2                2                       ⎞                                                                                         \n",
       "⎢⎜   ∂                ∂             ∂          ⎟  4⋅λ(ρ, z) - 2⋅μ(ρ, z)                                                                  \n",
       "⎢⎜ρ⋅───(λ(ρ, z)) + ρ⋅───(λ(ρ, z)) + ──(λ(ρ, z))⎟⋅ℯ                                                                                       \n",
       "⎢⎜    2                2            ∂ρ         ⎟                                                                                         \n",
       "⎢⎝  ∂ρ               ∂z                        ⎠                                                                                         \n",
       "⎢──────────────────────────────────────────────────────────────────────                                                        0         \n",
       "⎢                                  ρ                                                                                                     \n",
       "⎢                                                                                                                                        \n",
       "⎢                                                                          ⎛                 2     2              2              2       \n",
       "⎢                                                                          ⎜    ⎛∂          ⎞     ∂              ∂              ∂        \n",
       "⎢                                                                        ρ⋅⎜- 2⋅⎜──(λ(ρ, z))⎟  + ───(λ(ρ, z)) + ───(λ(ρ, z)) - ───(μ(ρ, z\n",
       "⎢                                                                          ⎜    ⎝∂ρ         ⎠      2              2              2       \n",
       "⎢                                                                          ⎝                     ∂ρ             ∂z             ∂ρ        \n",
       "⎢                                  0                                     ────────────────────────────────────────────────────────────────\n",
       "⎢                                                                                                                              ρ         \n",
       "⎢                                                                                                                                        \n",
       "⎢                                                                                                                                        \n",
       "⎢                                                                                                                                        \n",
       "⎢                                  0                                                                                           0         \n",
       "⎢                                                                                                                                        \n",
       "⎢                                                                                                                                        \n",
       "⎢                                                                                                                                        \n",
       "⎢                                                                                                                                        \n",
       "⎢                                                                                                                                        \n",
       "⎢                                                                                                                                        \n",
       "⎢                                                                                                                                        \n",
       "⎢                                                                                                              ∂           ∂             \n",
       "⎢                                  0                                                                       - 2⋅──(λ(ρ, z))⋅──(λ(ρ, z)) + \n",
       "⎣                                                                                                              ∂ρ          ∂z            \n",
       "\n",
       "                                                                                                                                         \n",
       "                                                                                                                                         \n",
       "                                                                                                                                         \n",
       "                                                                                                                                         \n",
       "                                                                                                                                         \n",
       "                                                                              0                                                          \n",
       "                                                                                                                                         \n",
       "                                                                                                                                         \n",
       "       2         ⎞                                                                                                                       \n",
       "      ∂          ⎟   ∂             ∂                                                                                                     \n",
       ")) - ───(μ(ρ, z))⎟ + ──(λ(ρ, z)) + ──(μ(ρ, z))                                                                                           \n",
       "       2         ⎟   ∂ρ            ∂ρ                                                                                                    \n",
       "     ∂z          ⎠                                                                                                                       \n",
       "──────────────────────────────────────────────                                0                                                          \n",
       "                                                                                                                                         \n",
       "                                                                                                                                         \n",
       "                                                  ⎛    2                2                       ⎞                                        \n",
       "                                                  ⎜   ∂                ∂             ∂          ⎟  -2⋅μ(ρ, z)                            \n",
       "                                                ρ⋅⎜ρ⋅───(λ(ρ, z)) + ρ⋅───(λ(ρ, z)) + ──(λ(ρ, z))⎟⋅ℯ                                      \n",
       "                                                  ⎜    2                2            ∂ρ         ⎟                                        \n",
       "                                                  ⎝  ∂ρ               ∂z                        ⎠                                        \n",
       "                                                                                                                                         \n",
       "                                                                                                                 ⎛  2                    \n",
       "                                                                                                                 ⎜ ∂               ⎛∂    \n",
       "∂                                                                                                              ρ⋅⎜───(λ(ρ, z)) - 2⋅⎜──(λ(\n",
       "──(μ(ρ, z))                                                                                                      ⎜  2              ⎝∂z   \n",
       "∂z                                                                                                               ⎝∂ρ                     \n",
       "───────────                                                                   0                                ──────────────────────────\n",
       "     ρ                                                                                                                                   \n",
       "\n",
       "                                                                                  ⎤\n",
       "                                                                                  ⎥\n",
       "                                                                                  ⎥\n",
       "                                                                                  ⎥\n",
       "                                                                                  ⎥\n",
       "                           0                                                      ⎥\n",
       "                                                                                  ⎥\n",
       "                                                                                  ⎥\n",
       "                                                                                  ⎥\n",
       "                                                                                  ⎥\n",
       "                                     ∂                                            ⎥\n",
       "                                     ──(μ(ρ, z))                                  ⎥\n",
       "           ∂           ∂             ∂z                                           ⎥\n",
       "       - 2⋅──(λ(ρ, z))⋅──(λ(ρ, z)) + ───────────                                  ⎥\n",
       "           ∂ρ          ∂z                 ρ                                       ⎥\n",
       "                                                                                  ⎥\n",
       "                                                                                  ⎥\n",
       "                                                                                  ⎥\n",
       "                           0                                                      ⎥\n",
       "                                                                                  ⎥\n",
       "                                                                                  ⎥\n",
       "                                                                                  ⎥\n",
       "       2     2              2              2         ⎞                            ⎥\n",
       "      ⎞     ∂              ∂              ∂          ⎟   ∂             ∂          ⎥\n",
       "ρ, z))⎟  + ───(λ(ρ, z)) - ───(μ(ρ, z)) - ───(μ(ρ, z))⎟ + ──(λ(ρ, z)) - ──(μ(ρ, z))⎥\n",
       "      ⎠      2              2              2         ⎟   ∂ρ            ∂ρ         ⎥\n",
       "           ∂z             ∂ρ             ∂z          ⎠                            ⎥\n",
       "──────────────────────────────────────────────────────────────────────────────────⎥\n",
       "                           ρ                                                      ⎦"
      ]
     },
     "execution_count": 16,
     "metadata": {},
     "output_type": "execute_result"
    }
   ],
   "source": [
    "Ric = RicciTensor.from_metric(metric)\n",
    "Ric.tensor()"
   ]
  },
  {
   "cell_type": "code",
   "execution_count": 17,
   "id": "bcd68935",
   "metadata": {},
   "outputs": [
    {
     "data": {
      "image/png": "[encoded data removed]",
      "text/latex": [
       "$\\displaystyle \\frac{2 \\left(\\rho \\left(\\frac{\\partial}{\\partial \\rho} \\lambda{\\left(\\rho,z \\right)}\\right)^{2} - \\rho \\frac{\\partial^{2}}{\\partial \\rho^{2}} \\lambda{\\left(\\rho,z \\right)} + \\rho \\left(\\frac{\\partial}{\\partial z} \\lambda{\\left(\\rho,z \\right)}\\right)^{2} - \\rho \\frac{\\partial^{2}}{\\partial z^{2}} \\lambda{\\left(\\rho,z \\right)} + \\rho \\frac{\\partial^{2}}{\\partial \\rho^{2}} \\mu{\\left(\\rho,z \\right)} + \\rho \\frac{\\partial^{2}}{\\partial z^{2}} \\mu{\\left(\\rho,z \\right)} - \\frac{\\partial}{\\partial \\rho} \\lambda{\\left(\\rho,z \\right)}\\right) e^{2 \\lambda{\\left(\\rho,z \\right)} - 2 \\mu{\\left(\\rho,z \\right)}}}{\\rho}$"
      ],
      "text/plain": [
       "  ⎛               2       2                           2       2                2                2                       ⎞                \n",
       "  ⎜  ⎛∂          ⎞       ∂               ⎛∂          ⎞       ∂                ∂                ∂             ∂          ⎟  2⋅λ(ρ, z) - 2⋅\n",
       "2⋅⎜ρ⋅⎜──(λ(ρ, z))⎟  - ρ⋅───(λ(ρ, z)) + ρ⋅⎜──(λ(ρ, z))⎟  - ρ⋅───(λ(ρ, z)) + ρ⋅───(μ(ρ, z)) + ρ⋅───(μ(ρ, z)) - ──(λ(ρ, z))⎟⋅ℯ              \n",
       "  ⎜  ⎝∂ρ         ⎠        2              ⎝∂z         ⎠        2                2                2            ∂ρ         ⎟                \n",
       "  ⎝                     ∂ρ                                  ∂z               ∂ρ               ∂z                        ⎠                \n",
       "─────────────────────────────────────────────────────────────────────────────────────────────────────────────────────────────────────────\n",
       "                                                                       ρ                                                                 \n",
       "\n",
       "       \n",
       "μ(ρ, z)\n",
       "       \n",
       "       \n",
       "       \n",
       "───────\n",
       "       "
      ]
     },
     "execution_count": 17,
     "metadata": {},
     "output_type": "execute_result"
    }
   ],
   "source": [
    "R = RicciScalar.from_riccitensor(Ric)\n",
    "R.simplify()\n",
    "R.expr"
   ]
  },
  {
   "cell_type": "code",
   "execution_count": 18,
   "id": "e3153583",
   "metadata": {},
   "outputs": [
    {
     "data": {
      "text/latex": [
       "$\\displaystyle \\left[\\begin{matrix}\\frac{\\left(\\rho \\frac{\\partial^{2}}{\\partial \\rho^{2}} \\lambda{\\left(\\rho,z \\right)} + \\rho \\frac{\\partial^{2}}{\\partial z^{2}} \\lambda{\\left(\\rho,z \\right)} + \\frac{\\partial}{\\partial \\rho} \\lambda{\\left(\\rho,z \\right)}\\right) e^{4 \\lambda{\\left(\\rho,z \\right)} - 2 \\mu{\\left(\\rho,z \\right)}}}{\\rho} - \\frac{1.0 \\left(\\rho \\left(\\frac{\\partial}{\\partial \\rho} \\lambda{\\left(\\rho,z \\right)}\\right)^{2} - \\rho \\frac{\\partial^{2}}{\\partial \\rho^{2}} \\lambda{\\left(\\rho,z \\right)} + \\rho \\left(\\frac{\\partial}{\\partial z} \\lambda{\\left(\\rho,z \\right)}\\right)^{2} - \\rho \\frac{\\partial^{2}}{\\partial z^{2}} \\lambda{\\left(\\rho,z \\right)} + \\rho \\frac{\\partial^{2}}{\\partial \\rho^{2}} \\mu{\\left(\\rho,z \\right)} + \\rho \\frac{\\partial^{2}}{\\partial z^{2}} \\mu{\\left(\\rho,z \\right)} - \\frac{\\partial}{\\partial \\rho} \\lambda{\\left(\\rho,z \\right)}\\right) e^{2 \\lambda{\\left(\\rho,z \\right)} - 2 \\mu{\\left(\\rho,z \\right)}} e^{2 \\lambda{\\left(\\rho,z \\right)}}}{\\rho} & 0 & 0 & 0\\\\0 & \\frac{\\rho \\left(- 2 \\left(\\frac{\\partial}{\\partial \\rho} \\lambda{\\left(\\rho,z \\right)}\\right)^{2} + \\frac{\\partial^{2}}{\\partial \\rho^{2}} \\lambda{\\left(\\rho,z \\right)} + \\frac{\\partial^{2}}{\\partial z^{2}} \\lambda{\\left(\\rho,z \\right)} - \\frac{\\partial^{2}}{\\partial \\rho^{2}} \\mu{\\left(\\rho,z \\right)} - \\frac{\\partial^{2}}{\\partial z^{2}} \\mu{\\left(\\rho,z \\right)}\\right) + \\frac{\\partial}{\\partial \\rho} \\lambda{\\left(\\rho,z \\right)} + \\frac{\\partial}{\\partial \\rho} \\mu{\\left(\\rho,z \\right)}}{\\rho} + \\frac{1.0 \\left(\\rho \\left(\\frac{\\partial}{\\partial \\rho} \\lambda{\\left(\\rho,z \\right)}\\right)^{2} - \\rho \\frac{\\partial^{2}}{\\partial \\rho^{2}} \\lambda{\\left(\\rho,z \\right)} + \\rho \\left(\\frac{\\partial}{\\partial z} \\lambda{\\left(\\rho,z \\right)}\\right)^{2} - \\rho \\frac{\\partial^{2}}{\\partial z^{2}} \\lambda{\\left(\\rho,z \\right)} + \\rho \\frac{\\partial^{2}}{\\partial \\rho^{2}} \\mu{\\left(\\rho,z \\right)} + \\rho \\frac{\\partial^{2}}{\\partial z^{2}} \\mu{\\left(\\rho,z \\right)} - \\frac{\\partial}{\\partial \\rho} \\lambda{\\left(\\rho,z \\right)}\\right) e^{2 \\lambda{\\left(\\rho,z \\right)} - 2 \\mu{\\left(\\rho,z \\right)}} e^{- 2 \\lambda{\\left(\\rho,z \\right)}} e^{2 \\mu{\\left(\\rho,z \\right)}}}{\\rho} & 0 & - 2 \\frac{\\partial}{\\partial \\rho} \\lambda{\\left(\\rho,z \\right)} \\frac{\\partial}{\\partial z} \\lambda{\\left(\\rho,z \\right)} + \\frac{\\frac{\\partial}{\\partial z} \\mu{\\left(\\rho,z \\right)}}{\\rho}\\\\0 & 0 & \\rho \\left(\\rho \\frac{\\partial^{2}}{\\partial \\rho^{2}} \\lambda{\\left(\\rho,z \\right)} + \\rho \\frac{\\partial^{2}}{\\partial z^{2}} \\lambda{\\left(\\rho,z \\right)} + \\frac{\\partial}{\\partial \\rho} \\lambda{\\left(\\rho,z \\right)}\\right) e^{- 2 \\mu{\\left(\\rho,z \\right)}} + 1.0 \\rho \\left(\\rho \\left(\\frac{\\partial}{\\partial \\rho} \\lambda{\\left(\\rho,z \\right)}\\right)^{2} - \\rho \\frac{\\partial^{2}}{\\partial \\rho^{2}} \\lambda{\\left(\\rho,z \\right)} + \\rho \\left(\\frac{\\partial}{\\partial z} \\lambda{\\left(\\rho,z \\right)}\\right)^{2} - \\rho \\frac{\\partial^{2}}{\\partial z^{2}} \\lambda{\\left(\\rho,z \\right)} + \\rho \\frac{\\partial^{2}}{\\partial \\rho^{2}} \\mu{\\left(\\rho,z \\right)} + \\rho \\frac{\\partial^{2}}{\\partial z^{2}} \\mu{\\left(\\rho,z \\right)} - \\frac{\\partial}{\\partial \\rho} \\lambda{\\left(\\rho,z \\right)}\\right) e^{2 \\lambda{\\left(\\rho,z \\right)} - 2 \\mu{\\left(\\rho,z \\right)}} e^{- 2 \\lambda{\\left(\\rho,z \\right)}} & 0\\\\0 & - 2 \\frac{\\partial}{\\partial \\rho} \\lambda{\\left(\\rho,z \\right)} \\frac{\\partial}{\\partial z} \\lambda{\\left(\\rho,z \\right)} + \\frac{\\frac{\\partial}{\\partial z} \\mu{\\left(\\rho,z \\right)}}{\\rho} & 0 & \\frac{\\rho \\left(\\frac{\\partial^{2}}{\\partial \\rho^{2}} \\lambda{\\left(\\rho,z \\right)} - 2 \\left(\\frac{\\partial}{\\partial z} \\lambda{\\left(\\rho,z \\right)}\\right)^{2} + \\frac{\\partial^{2}}{\\partial z^{2}} \\lambda{\\left(\\rho,z \\right)} - \\frac{\\partial^{2}}{\\partial \\rho^{2}} \\mu{\\left(\\rho,z \\right)} - \\frac{\\partial^{2}}{\\partial z^{2}} \\mu{\\left(\\rho,z \\right)}\\right) + \\frac{\\partial}{\\partial \\rho} \\lambda{\\left(\\rho,z \\right)} - \\frac{\\partial}{\\partial \\rho} \\mu{\\left(\\rho,z \\right)}}{\\rho} + \\frac{1.0 \\left(\\rho \\left(\\frac{\\partial}{\\partial \\rho} \\lambda{\\left(\\rho,z \\right)}\\right)^{2} - \\rho \\frac{\\partial^{2}}{\\partial \\rho^{2}} \\lambda{\\left(\\rho,z \\right)} + \\rho \\left(\\frac{\\partial}{\\partial z} \\lambda{\\left(\\rho,z \\right)}\\right)^{2} - \\rho \\frac{\\partial^{2}}{\\partial z^{2}} \\lambda{\\left(\\rho,z \\right)} + \\rho \\frac{\\partial^{2}}{\\partial \\rho^{2}} \\mu{\\left(\\rho,z \\right)} + \\rho \\frac{\\partial^{2}}{\\partial z^{2}} \\mu{\\left(\\rho,z \\right)} - \\frac{\\partial}{\\partial \\rho} \\lambda{\\left(\\rho,z \\right)}\\right) e^{2 \\lambda{\\left(\\rho,z \\right)} - 2 \\mu{\\left(\\rho,z \\right)}} e^{- 2 \\lambda{\\left(\\rho,z \\right)}} e^{2 \\mu{\\left(\\rho,z \\right)}}}{\\rho}\\end{matrix}\\right]$"
      ],
      "text/plain": [
       "⎡⎛    2                2                       ⎞                          ⎛               2       2                           2       2  \n",
       "⎢⎜   ∂                ∂             ∂          ⎟  4⋅λ(ρ, z) - 2⋅μ(ρ, z)   ⎜  ⎛∂          ⎞       ∂               ⎛∂          ⎞       ∂   \n",
       "⎢⎜ρ⋅───(λ(ρ, z)) + ρ⋅───(λ(ρ, z)) + ──(λ(ρ, z))⎟⋅ℯ                        ⎜ρ⋅⎜──(λ(ρ, z))⎟  - ρ⋅───(λ(ρ, z)) + ρ⋅⎜──(λ(ρ, z))⎟  - ρ⋅───(λ\n",
       "⎢⎜    2                2            ∂ρ         ⎟                          ⎜  ⎝∂ρ         ⎠        2              ⎝∂z         ⎠        2  \n",
       "⎢⎝  ∂ρ               ∂z                        ⎠                          ⎝                     ∂ρ                                  ∂z   \n",
       "⎢────────────────────────────────────────────────────────────────────── - ───────────────────────────────────────────────────────────────\n",
       "⎢                                  ρ                                                                                                     \n",
       "⎢                                                                                                                                        \n",
       "⎢                                                                                                                                        \n",
       "⎢                                                                                                                                        \n",
       "⎢                                                                                                                                        \n",
       "⎢                                                                                                                                        \n",
       "⎢                                                                                                                                        \n",
       "⎢                                                                                                                0                       \n",
       "⎢                                                                                                                                        \n",
       "⎢                                                                                                                                        \n",
       "⎢                                                                                                                                        \n",
       "⎢                                                                                                                                        \n",
       "⎢                                                                                                                0                       \n",
       "⎢                                                                                                                                        \n",
       "⎢                                                                                                                                        \n",
       "⎢                                                                                                                                        \n",
       "⎢                                                                                                                                        \n",
       "⎢                                                                                                                                        \n",
       "⎢                                                                                                                                        \n",
       "⎢                                                                                                                                        \n",
       "⎢                                                                                                                                        \n",
       "⎢                                                                                                                0                       \n",
       "⎣                                                                                                                                        \n",
       "\n",
       "              2                2                       ⎞                                                                                 \n",
       "             ∂                ∂             ∂          ⎟  2⋅λ(ρ, z) - 2⋅μ(ρ, z)  2⋅λ(ρ, z)                                               \n",
       "(ρ, z)) + ρ⋅───(μ(ρ, z)) + ρ⋅───(μ(ρ, z)) - ──(λ(ρ, z))⎟⋅ℯ                     ⋅ℯ                                                        \n",
       "              2                2            ∂ρ         ⎟                                                                                 \n",
       "            ∂ρ               ∂z                        ⎠                                                                                 \n",
       "──────────────────────────────────────────────────────────────────────────────────────────                                               \n",
       "             ρ                                                                                                                           \n",
       "                                                                                                                                         \n",
       "                                                                                              ⎛                 2     2              2   \n",
       "                                                                                              ⎜    ⎛∂          ⎞     ∂              ∂    \n",
       "                                                                                            ρ⋅⎜- 2⋅⎜──(λ(ρ, z))⎟  + ───(λ(ρ, z)) + ───(λ(\n",
       "                                                                                              ⎜    ⎝∂ρ         ⎠      2              2   \n",
       "                                                                                              ⎝                     ∂ρ             ∂z    \n",
       "                                                                                            ─────────────────────────────────────────────\n",
       "                                                                                                                                         \n",
       "                                                                                                                                         \n",
       "                                                                                                                                         \n",
       "                                                                                                                                         \n",
       "                                                                                                                                         \n",
       "                                                                                                                                         \n",
       "                                                                                                                                         \n",
       "                                                                                                                                         \n",
       "                                                                                                                                         \n",
       "                                                                                                                                         \n",
       "                                                                                                                                         \n",
       "                                                                                                                                         \n",
       "                                                                                                                                         \n",
       "                                                                                                                                         \n",
       "                                                                                                                                         \n",
       "\n",
       "                                                                                                                                         \n",
       "                                                                                                                                         \n",
       "                                                                                                                                         \n",
       "                                                                                                                                         \n",
       "                                                                                                                                         \n",
       "                                                                                               0                                         \n",
       "                                                                                                                                         \n",
       "                                                                                                                                         \n",
       "           2              2         ⎞                                   ⎛               2       2                           2       2    \n",
       "          ∂              ∂          ⎟   ∂             ∂                 ⎜  ⎛∂          ⎞       ∂               ⎛∂          ⎞       ∂     \n",
       "ρ, z)) - ───(μ(ρ, z)) - ───(μ(ρ, z))⎟ + ──(λ(ρ, z)) + ──(μ(ρ, z))   1.0⋅⎜ρ⋅⎜──(λ(ρ, z))⎟  - ρ⋅───(λ(ρ, z)) + ρ⋅⎜──(λ(ρ, z))⎟  - ρ⋅───(λ(ρ\n",
       "           2              2         ⎟   ∂ρ            ∂ρ                ⎜  ⎝∂ρ         ⎠        2              ⎝∂z         ⎠        2    \n",
       "         ∂ρ             ∂z          ⎠                                   ⎝                     ∂ρ                                  ∂z     \n",
       "───────────────────────────────────────────────────────────────── + ─────────────────────────────────────────────────────────────────────\n",
       "         ρ                                                                                                                               \n",
       "                                                                                                                                         \n",
       "                                                                                                                                         \n",
       "                                                                                                                                         \n",
       "                                                                                               0                                         \n",
       "                                                                                                                                         \n",
       "                                                                                                                                         \n",
       "                                                                                                                                         \n",
       "                                                                                                                                         \n",
       "                                                                                                                                         \n",
       "                                                                                                         ∂                               \n",
       "                                                                                                         ──(μ(ρ, z))                     \n",
       "                                                                               ∂           ∂             ∂z                              \n",
       "                                                                           - 2⋅──(λ(ρ, z))⋅──(λ(ρ, z)) + ───────────                     \n",
       "                                                                               ∂ρ          ∂z                 ρ                          \n",
       "\n",
       "                                                                                                                                         \n",
       "                                                                                                                                         \n",
       "                                                                                                                                         \n",
       "                                                                                                                                         \n",
       "                                                                                                                                         \n",
       "                                                                                                                                         \n",
       "                                                                                                                                         \n",
       "                                                                                                                                         \n",
       "            2                2                       ⎞                                                                                   \n",
       "           ∂                ∂             ∂          ⎟  2⋅λ(ρ, z) - 2⋅μ(ρ, z)  -2⋅λ(ρ, z)  2⋅μ(ρ, z)                                     \n",
       ", z)) + ρ⋅───(μ(ρ, z)) + ρ⋅───(μ(ρ, z)) - ──(λ(ρ, z))⎟⋅ℯ                     ⋅ℯ          ⋅ℯ                                              \n",
       "            2                2            ∂ρ         ⎟                                                                                   \n",
       "          ∂ρ               ∂z                        ⎠                                                                                   \n",
       "────────────────────────────────────────────────────────────────────────────────────────────────────                                     \n",
       "               ρ                                                                                                                         \n",
       "                                                                                                                                         \n",
       "                                                                                                        ⎛    2                2          \n",
       "                                                                                                        ⎜   ∂                ∂           \n",
       "                                                                                                      ρ⋅⎜ρ⋅───(λ(ρ, z)) + ρ⋅───(λ(ρ, z)) \n",
       "                                                                                                        ⎜    2                2          \n",
       "                                                                                                        ⎝  ∂ρ               ∂z           \n",
       "                                                                                                                                         \n",
       "                                                                                                                                         \n",
       "                                                                                                                                         \n",
       "                                                                                                                                         \n",
       "                                                                                                                                         \n",
       "                                                                                                                                         \n",
       "                                                                                                                                         \n",
       "                                                                                                                                         \n",
       "\n",
       "                                                                                                                                         \n",
       "                                                                                                                                         \n",
       "                                                                                                                                         \n",
       "                                                                                                                                         \n",
       "                                                                                                                                         \n",
       "                                                                            0                                                            \n",
       "                                                                                                                                         \n",
       "                                                                                                                                         \n",
       "                                                                                                                                         \n",
       "                                                                                                                                         \n",
       "                                                                                                                                         \n",
       "                                                                                                                                         \n",
       "                                                                                                                                         \n",
       "                                                                            0                                                            \n",
       "                                                                                                                                         \n",
       "                                                                                                                                         \n",
       "             ⎞                     ⎛               2       2                           2       2                2                2       \n",
       "  ∂          ⎟  -2⋅μ(ρ, z)         ⎜  ⎛∂          ⎞       ∂               ⎛∂          ⎞       ∂                ∂                ∂        \n",
       "+ ──(λ(ρ, z))⎟⋅ℯ           + 1.0⋅ρ⋅⎜ρ⋅⎜──(λ(ρ, z))⎟  - ρ⋅───(λ(ρ, z)) + ρ⋅⎜──(λ(ρ, z))⎟  - ρ⋅───(λ(ρ, z)) + ρ⋅───(μ(ρ, z)) + ρ⋅───(μ(ρ, z\n",
       "  ∂ρ         ⎟                     ⎜  ⎝∂ρ         ⎠        2              ⎝∂z         ⎠        2                2                2       \n",
       "             ⎠                     ⎝                     ∂ρ                                  ∂z               ∂ρ               ∂z        \n",
       "                                                                                                                                         \n",
       "                                                                                                                                         \n",
       "                                                                                                                                         \n",
       "                                                                                                                                         \n",
       "                                                                                                                                         \n",
       "                                                                                                                                         \n",
       "                                                                            0                                                            \n",
       "                                                                                                                                         \n",
       "\n",
       "                                                                                                                                         \n",
       "                                                                                                                                         \n",
       "                                                                                                                                         \n",
       "                                                                                                                                         \n",
       "                                                                                                                                         \n",
       "                                                                                                                                         \n",
       "                                                                                                                                         \n",
       "                                                                                                                                         \n",
       "                                                                                                                                         \n",
       "                                                                                                                                         \n",
       "                                                                                                                                         \n",
       "                                                                                                                                         \n",
       "                                                                                                                                         \n",
       "                                                                                                                                         \n",
       "                                                                                                                                         \n",
       "                                                                                                                                         \n",
       "                ⎞                                                                                                                        \n",
       "     ∂          ⎟  2⋅λ(ρ, z) - 2⋅μ(ρ, z)  -2⋅λ(ρ, z)                                                                                     \n",
       ")) - ──(λ(ρ, z))⎟⋅ℯ                     ⋅ℯ                                                                                               \n",
       "     ∂ρ         ⎟                                                                                                                        \n",
       "                ⎠                                                                                                                        \n",
       "                                                                                                                                         \n",
       "                                                        ⎛  2                           2     2              2              2         ⎞   \n",
       "                                                        ⎜ ∂               ⎛∂          ⎞     ∂              ∂              ∂          ⎟   \n",
       "                                                      ρ⋅⎜───(λ(ρ, z)) - 2⋅⎜──(λ(ρ, z))⎟  + ───(λ(ρ, z)) - ───(μ(ρ, z)) - ───(μ(ρ, z))⎟ + \n",
       "                                                        ⎜  2              ⎝∂z         ⎠      2              2              2         ⎟   \n",
       "                                                        ⎝∂ρ                                ∂z             ∂ρ             ∂z          ⎠   \n",
       "                                                      ───────────────────────────────────────────────────────────────────────────────────\n",
       "                                                                                                           ρ                             \n",
       "\n",
       "                                                                                                                                         \n",
       "                                                                                                                                         \n",
       "                                                                                                                                         \n",
       "                                                                                                                                         \n",
       "                                                                                                                                         \n",
       "                                                        0                                                                                \n",
       "                                                                                                                                         \n",
       "                                                                                                                                         \n",
       "                                                                                                                                         \n",
       "                                                                                                                                         \n",
       "                                                                  ∂                                                                      \n",
       "                                                                  ──(μ(ρ, z))                                                            \n",
       "                                        ∂           ∂             ∂z                                                                     \n",
       "                                    - 2⋅──(λ(ρ, z))⋅──(λ(ρ, z)) + ───────────                                                            \n",
       "                                        ∂ρ          ∂z                 ρ                                                                 \n",
       "                                                                                                                                         \n",
       "                                                                                                                                         \n",
       "                                                                                                                                         \n",
       "                                                        0                                                                                \n",
       "                                                                                                                                         \n",
       "                                                                                                                                         \n",
       "                                                                                                                                         \n",
       "                                ⎛               2       2                           2       2                2                2          \n",
       "∂             ∂                 ⎜  ⎛∂          ⎞       ∂               ⎛∂          ⎞       ∂                ∂                ∂           \n",
       "──(λ(ρ, z)) - ──(μ(ρ, z))   1.0⋅⎜ρ⋅⎜──(λ(ρ, z))⎟  - ρ⋅───(λ(ρ, z)) + ρ⋅⎜──(λ(ρ, z))⎟  - ρ⋅───(λ(ρ, z)) + ρ⋅───(μ(ρ, z)) + ρ⋅───(μ(ρ, z)) \n",
       "∂ρ            ∂ρ                ⎜  ⎝∂ρ         ⎠        2              ⎝∂z         ⎠        2                2                2          \n",
       "                                ⎝                     ∂ρ                                  ∂z               ∂ρ               ∂z           \n",
       "───────────────────────── + ─────────────────────────────────────────────────────────────────────────────────────────────────────────────\n",
       "                                                                                                                ρ                        \n",
       "\n",
       "                                                            ⎤\n",
       "                                                            ⎥\n",
       "                                                            ⎥\n",
       "                                                            ⎥\n",
       "                                                            ⎥\n",
       "                                                            ⎥\n",
       "                                                            ⎥\n",
       "                                                            ⎥\n",
       "                                                            ⎥\n",
       "                                                            ⎥\n",
       "                                                            ⎥\n",
       "                                                            ⎥\n",
       "                                                            ⎥\n",
       "                                                            ⎥\n",
       "                                                            ⎥\n",
       "                                                            ⎥\n",
       "                                                            ⎥\n",
       "                                                            ⎥\n",
       "                                                            ⎥\n",
       "                                                            ⎥\n",
       "                                                            ⎥\n",
       "                                                            ⎥\n",
       "             ⎞                                              ⎥\n",
       "  ∂          ⎟  2⋅λ(ρ, z) - 2⋅μ(ρ, z)  -2⋅λ(ρ, z)  2⋅μ(ρ, z)⎥\n",
       "- ──(λ(ρ, z))⎟⋅ℯ                     ⋅ℯ          ⋅ℯ         ⎥\n",
       "  ∂ρ         ⎟                                              ⎥\n",
       "             ⎠                                              ⎥\n",
       "────────────────────────────────────────────────────────────⎥\n",
       "                                                            ⎦"
      ]
     },
     "execution_count": 18,
     "metadata": {},
     "output_type": "execute_result"
    }
   ],
   "source": [
    "einst = EinsteinTensor.from_metric(metric)\n",
    "einst.tensor()"
   ]
  },
  {
   "cell_type": "code",
   "execution_count": 19,
   "id": "6dfe43d9",
   "metadata": {},
   "outputs": [
    {
     "data": {
      "text/latex": [
       "$\\displaystyle \\left[\\begin{matrix}\\frac{\\left(- 1.0 \\rho \\left(\\frac{\\partial}{\\partial \\rho} \\lambda{\\left(\\rho,z \\right)}\\right)^{2} + 2.0 \\rho \\frac{\\partial^{2}}{\\partial \\rho^{2}} \\lambda{\\left(\\rho,z \\right)} - 1.0 \\rho \\left(\\frac{\\partial}{\\partial z} \\lambda{\\left(\\rho,z \\right)}\\right)^{2} + 2.0 \\rho \\frac{\\partial^{2}}{\\partial z^{2}} \\lambda{\\left(\\rho,z \\right)} - 1.0 \\rho \\frac{\\partial^{2}}{\\partial \\rho^{2}} \\mu{\\left(\\rho,z \\right)} - 1.0 \\rho \\frac{\\partial^{2}}{\\partial z^{2}} \\mu{\\left(\\rho,z \\right)} + 2.0 \\frac{\\partial}{\\partial \\rho} \\lambda{\\left(\\rho,z \\right)}\\right) e^{4 \\lambda{\\left(\\rho,z \\right)} - 2 \\mu{\\left(\\rho,z \\right)}}}{\\rho} & 0 & 0 & 0\\\\0 & - 1.0 \\left(\\frac{\\partial}{\\partial \\rho} \\lambda{\\left(\\rho,z \\right)}\\right)^{2} + 1.0 \\left(\\frac{\\partial}{\\partial z} \\lambda{\\left(\\rho,z \\right)}\\right)^{2} + \\frac{1.0 \\frac{\\partial}{\\partial \\rho} \\mu{\\left(\\rho,z \\right)}}{\\rho} & 0 & - 2 \\frac{\\partial}{\\partial \\rho} \\lambda{\\left(\\rho,z \\right)} \\frac{\\partial}{\\partial z} \\lambda{\\left(\\rho,z \\right)} + \\frac{\\frac{\\partial}{\\partial z} \\mu{\\left(\\rho,z \\right)}}{\\rho}\\\\0 & 0 & 1.0 \\rho^{2} \\left(\\left(\\frac{\\partial}{\\partial \\rho} \\lambda{\\left(\\rho,z \\right)}\\right)^{2} + \\left(\\frac{\\partial}{\\partial z} \\lambda{\\left(\\rho,z \\right)}\\right)^{2} + \\frac{\\partial^{2}}{\\partial \\rho^{2}} \\mu{\\left(\\rho,z \\right)} + \\frac{\\partial^{2}}{\\partial z^{2}} \\mu{\\left(\\rho,z \\right)}\\right) e^{- 2 \\mu{\\left(\\rho,z \\right)}} & 0\\\\0 & - 2 \\frac{\\partial}{\\partial \\rho} \\lambda{\\left(\\rho,z \\right)} \\frac{\\partial}{\\partial z} \\lambda{\\left(\\rho,z \\right)} + \\frac{\\frac{\\partial}{\\partial z} \\mu{\\left(\\rho,z \\right)}}{\\rho} & 0 & 1.0 \\left(\\frac{\\partial}{\\partial \\rho} \\lambda{\\left(\\rho,z \\right)}\\right)^{2} - 1.0 \\left(\\frac{\\partial}{\\partial z} \\lambda{\\left(\\rho,z \\right)}\\right)^{2} - \\frac{1.0 \\frac{\\partial}{\\partial \\rho} \\mu{\\left(\\rho,z \\right)}}{\\rho}\\end{matrix}\\right]$"
      ],
      "text/plain": [
       "⎡⎛                 2           2                           2           2                2                2                           ⎞   \n",
       "⎢⎜    ⎛∂          ⎞           ∂               ⎛∂          ⎞           ∂                ∂                ∂                 ∂          ⎟  4\n",
       "⎢⎜- ρ⋅⎜──(λ(ρ, z))⎟  + 2.0⋅ρ⋅───(λ(ρ, z)) - ρ⋅⎜──(λ(ρ, z))⎟  + 2.0⋅ρ⋅───(λ(ρ, z)) - ρ⋅───(μ(ρ, z)) - ρ⋅───(μ(ρ, z)) + 2.0⋅──(λ(ρ, z))⎟⋅ℯ \n",
       "⎢⎜    ⎝∂ρ         ⎠            2              ⎝∂z         ⎠            2                2                2                ∂ρ         ⎟   \n",
       "⎢⎝                           ∂ρ                                      ∂z               ∂ρ               ∂z                            ⎠   \n",
       "⎢────────────────────────────────────────────────────────────────────────────────────────────────────────────────────────────────────────\n",
       "⎢                                                                             ρ                                                          \n",
       "⎢                                                                                                                                        \n",
       "⎢                                                                                                                                        \n",
       "⎢                                                                                                                                        \n",
       "⎢                                                                                                                                        \n",
       "⎢                                                                             0                                                          \n",
       "⎢                                                                                                                                        \n",
       "⎢                                                                                                                                        \n",
       "⎢                                                                                                                                        \n",
       "⎢                                                                                                                                        \n",
       "⎢                                                                             0                                                          \n",
       "⎢                                                                                                                                        \n",
       "⎢                                                                                                                                        \n",
       "⎢                                                                                                                                        \n",
       "⎢                                                                                                                                        \n",
       "⎢                                                                                                                                        \n",
       "⎢                                                                                                                                        \n",
       "⎢                                                                             0                                                          \n",
       "⎣                                                                                                                                        \n",
       "\n",
       "                                                                                                                                         \n",
       "⋅λ(ρ, z) - 2⋅μ(ρ, z)                                                                                                                     \n",
       "                                                                                                                                         \n",
       "                                                                                                                                         \n",
       "                                                                                                                                         \n",
       "────────────────────                             0                                                                     0                 \n",
       "                                                                                                                                         \n",
       "                                                                                                                                         \n",
       "                                                                  ∂                                                                      \n",
       "                                     2                    2   1.0⋅──(μ(ρ, z))                                                            \n",
       "                        ⎛∂          ⎞        ⎛∂          ⎞        ∂ρ                                                                     \n",
       "                      - ⎜──(λ(ρ, z))⎟  + 1.0⋅⎜──(λ(ρ, z))⎟  + ───────────────                                          0                 \n",
       "                        ⎝∂ρ         ⎠        ⎝∂z         ⎠           ρ                                                                   \n",
       "                                                                                                                                         \n",
       "                                                                                      ⎛             2                2     2             \n",
       "                                                                                    2 ⎜⎛∂          ⎞    ⎛∂          ⎞     ∂              \n",
       "                                                 0                             1.0⋅ρ ⋅⎜⎜──(λ(ρ, z))⎟  + ⎜──(λ(ρ, z))⎟  + ───(μ(ρ, z)) + ─\n",
       "                                                                                      ⎜⎝∂ρ         ⎠    ⎝∂z         ⎠      2             \n",
       "                                                                                      ⎝                                  ∂ρ             ∂\n",
       "                                                                                                                                         \n",
       "                                                           ∂                                                                             \n",
       "                                                           ──(μ(ρ, z))                                                                   \n",
       "                                 ∂           ∂             ∂z                                                                            \n",
       "                             - 2⋅──(λ(ρ, z))⋅──(λ(ρ, z)) + ───────────                                                 0                 \n",
       "                                 ∂ρ          ∂z                 ρ                                                                        \n",
       "\n",
       "                                                                           ⎤\n",
       "                                                                           ⎥\n",
       "                                                                           ⎥\n",
       "                                                                           ⎥\n",
       "                                                                           ⎥\n",
       "                                                  0                        ⎥\n",
       "                                                                           ⎥\n",
       "                                                                           ⎥\n",
       "                                                            ∂              ⎥\n",
       "                                                            ──(μ(ρ, z))    ⎥\n",
       "                                  ∂           ∂             ∂z             ⎥\n",
       "                              - 2⋅──(λ(ρ, z))⋅──(λ(ρ, z)) + ───────────    ⎥\n",
       "                                  ∂ρ          ∂z                 ρ         ⎥\n",
       "                                                                           ⎥\n",
       " 2         ⎞                                                               ⎥\n",
       "∂          ⎟  -2⋅μ(ρ, z)                                                   ⎥\n",
       "──(μ(ρ, z))⎟⋅ℯ                                    0                        ⎥\n",
       " 2         ⎟                                                               ⎥\n",
       "z          ⎠                                                               ⎥\n",
       "                                                                           ⎥\n",
       "                                                                ∂          ⎥\n",
       "                                           2                2   ──(μ(ρ, z))⎥\n",
       "                              ⎛∂          ⎞    ⎛∂          ⎞    ∂ρ         ⎥\n",
       "                          1.0⋅⎜──(λ(ρ, z))⎟  - ⎜──(λ(ρ, z))⎟  - ───────────⎥\n",
       "                              ⎝∂ρ         ⎠    ⎝∂z         ⎠         ρ     ⎦"
      ]
     },
     "execution_count": 19,
     "metadata": {},
     "output_type": "execute_result"
    }
   ],
   "source": [
    "simplify(einst.tensor())"
   ]
  },
  {
   "cell_type": "code",
   "execution_count": 20,
   "id": "46ceefec",
   "metadata": {},
   "outputs": [],
   "source": [
    "#  rm1 = RiemannCurvatureTensor.from_christoffels(ch)\n",
    "#  rm1.tensor()"
   ]
  },
  {
   "cell_type": "code",
   "execution_count": 21,
   "id": "9cfef960",
   "metadata": {},
   "outputs": [],
   "source": [
    "#  weyl = WeylTensor.from_metric(metric)\n",
    "#  weyl.tensor()"
   ]
  },
  {
   "cell_type": "code",
   "execution_count": 22,
   "id": "b42763af",
   "metadata": {},
   "outputs": [
    {
     "data": {
      "image/png": "[encoded data removed]",
      "text/latex": [
       "$\\displaystyle \\frac{\\partial^{2}}{\\partial \\rho^{2}} \\lambda{\\left(\\rho,z \\right)} + \\frac{\\partial^{2}}{\\partial z^{2}} \\lambda{\\left(\\rho,z \\right)} + \\frac{\\frac{\\partial}{\\partial \\rho} \\lambda{\\left(\\rho,z \\right)}}{\\rho} = 0$"
      ],
      "text/plain": [
       "                              ∂              \n",
       "  2              2            ──(λ(ρ, z))    \n",
       " ∂              ∂             ∂ρ             \n",
       "───(λ(ρ, z)) + ───(λ(ρ, z)) + ─────────── = 0\n",
       "  2              2                 ρ         \n",
       "∂ρ             ∂z                            "
      ]
     },
     "execution_count": 22,
     "metadata": {},
     "output_type": "execute_result"
    }
   ],
   "source": [
    "equation2pt24 = Eq( expand((1/rho)*Ric.tensor()[0,0].args[1]) , 0 ) \n",
    "equation2pt24"
   ]
  },
  {
   "cell_type": "code",
   "execution_count": 23,
   "id": "3b13e2ff",
   "metadata": {},
   "outputs": [
    {
     "data": {
      "image/png": "[encoded data removed]",
      "text/latex": [
       "$\\displaystyle \\frac{\\partial}{\\partial \\rho} \\mu{\\left(\\rho,z \\right)} = \\rho \\left(\\left(\\frac{\\partial}{\\partial \\rho} \\lambda{\\left(\\rho,z \\right)}\\right)^{2} - \\left(\\frac{\\partial}{\\partial z} \\lambda{\\left(\\rho,z \\right)}\\right)^{2}\\right)$"
      ],
      "text/plain": [
       "                ⎛             2                2⎞\n",
       "∂               ⎜⎛∂          ⎞    ⎛∂          ⎞ ⎟\n",
       "──(μ(ρ, z)) = ρ⋅⎜⎜──(λ(ρ, z))⎟  - ⎜──(λ(ρ, z))⎟ ⎟\n",
       "∂ρ              ⎝⎝∂ρ         ⎠    ⎝∂z         ⎠ ⎠"
      ]
     },
     "execution_count": 23,
     "metadata": {},
     "output_type": "execute_result"
    }
   ],
   "source": [
    "equation2pt25 = Eq(diff(mu,rho),solve( simplify(einst.tensor())[3,3] , diff(mu,rho))[0] ) \n",
    "equation2pt25"
   ]
  },
  {
   "cell_type": "code",
   "execution_count": 24,
   "id": "26d12675",
   "metadata": {},
   "outputs": [
    {
     "data": {
      "image/png": "[encoded data removed]",
      "text/latex": [
       "$\\displaystyle \\frac{\\partial}{\\partial z} \\mu{\\left(\\rho,z \\right)} = 2 \\rho \\frac{\\partial}{\\partial \\rho} \\lambda{\\left(\\rho,z \\right)} \\frac{\\partial}{\\partial z} \\lambda{\\left(\\rho,z \\right)}$"
      ],
      "text/plain": [
       "∂                 ∂           ∂          \n",
       "──(μ(ρ, z)) = 2⋅ρ⋅──(λ(ρ, z))⋅──(λ(ρ, z))\n",
       "∂z                ∂ρ          ∂z         "
      ]
     },
     "execution_count": 24,
     "metadata": {},
     "output_type": "execute_result"
    }
   ],
   "source": [
    "equation2pt26 = Eq(diff(mu,z),solve( simplify(einst.tensor())[1,3], diff(mu,z) )[0])\n",
    "equation2pt26"
   ]
  },
  {
   "cell_type": "code",
   "execution_count": 25,
   "id": "15ec7d93",
   "metadata": {},
   "outputs": [
    {
     "name": "stderr",
     "output_type": "stream",
     "text": [
      "/opt/anaconda3/lib/python3.8/site-packages/sympy/matrices/repmatrix.py:98: SymPyDeprecationWarning: \n",
      "\n",
      "non-Expr objects in a Matrix has been deprecated since SymPy 1.9. Use\n",
      "list of lists, TableForm or some other data structure instead. See\n",
      "https://github.com/sympy/sympy/issues/21497 for more info.\n",
      "\n",
      "  SymPyDeprecationWarning(\n"
     ]
    },
    {
     "data": {
      "text/latex": [
       "$\\displaystyle \\left[\\begin{matrix}\\frac{\\partial^{2}}{\\partial \\rho^{2}} \\lambda{\\left(\\rho,z \\right)} + \\frac{\\partial^{2}}{\\partial z^{2}} \\lambda{\\left(\\rho,z \\right)} + \\frac{\\frac{\\partial}{\\partial \\rho} \\lambda{\\left(\\rho,z \\right)}}{\\rho} = 0\\\\\\frac{\\partial}{\\partial \\rho} \\mu{\\left(\\rho,z \\right)} = \\rho \\left(\\left(\\frac{\\partial}{\\partial \\rho} \\lambda{\\left(\\rho,z \\right)}\\right)^{2} - \\left(\\frac{\\partial}{\\partial z} \\lambda{\\left(\\rho,z \\right)}\\right)^{2}\\right)\\\\\\frac{\\partial}{\\partial z} \\mu{\\left(\\rho,z \\right)} = 2 \\rho \\frac{\\partial}{\\partial \\rho} \\lambda{\\left(\\rho,z \\right)} \\frac{\\partial}{\\partial z} \\lambda{\\left(\\rho,z \\right)}\\end{matrix}\\right]$"
      ],
      "text/plain": [
       "⎡                                ∂                ⎤\n",
       "⎢    2              2            ──(λ(ρ, z))      ⎥\n",
       "⎢   ∂              ∂             ∂ρ               ⎥\n",
       "⎢  ───(λ(ρ, z)) + ───(λ(ρ, z)) + ─────────── = 0  ⎥\n",
       "⎢    2              2                 ρ           ⎥\n",
       "⎢  ∂ρ             ∂z                              ⎥\n",
       "⎢                                                 ⎥\n",
       "⎢                ⎛             2                2⎞⎥\n",
       "⎢∂               ⎜⎛∂          ⎞    ⎛∂          ⎞ ⎟⎥\n",
       "⎢──(μ(ρ, z)) = ρ⋅⎜⎜──(λ(ρ, z))⎟  - ⎜──(λ(ρ, z))⎟ ⎟⎥\n",
       "⎢∂ρ              ⎝⎝∂ρ         ⎠    ⎝∂z         ⎠ ⎠⎥\n",
       "⎢                                                 ⎥\n",
       "⎢    ∂                 ∂           ∂              ⎥\n",
       "⎢    ──(μ(ρ, z)) = 2⋅ρ⋅──(λ(ρ, z))⋅──(λ(ρ, z))    ⎥\n",
       "⎣    ∂z                ∂ρ          ∂z             ⎦"
      ]
     },
     "execution_count": 25,
     "metadata": {},
     "output_type": "execute_result"
    }
   ],
   "source": [
    "vacuumFieldEquations = Matrix([equation2pt24,equation2pt25,equation2pt26])\n",
    "vacuumFieldEquations"
   ]
  },
  {
   "cell_type": "code",
   "execution_count": 26,
   "id": "361c9ead",
   "metadata": {},
   "outputs": [],
   "source": [
    "from sympy import * "
   ]
  },
  {
   "cell_type": "code",
   "execution_count": 27,
   "id": "3bbd89ef",
   "metadata": {},
   "outputs": [],
   "source": [
    "X, Y = map(Function, 'XY')"
   ]
  },
  {
   "cell_type": "code",
   "execution_count": 28,
   "id": "6a4479d9",
   "metadata": {},
   "outputs": [
    {
     "data": {
      "image/png": "[encoded data removed]",
      "text/latex": [
       "$\\displaystyle \\frac{\\partial^{2}}{\\partial \\rho^{2}} \\lambda{\\left(\\rho,z \\right)} + \\frac{\\partial^{2}}{\\partial z^{2}} \\lambda{\\left(\\rho,z \\right)} + \\frac{\\frac{\\partial}{\\partial \\rho} \\lambda{\\left(\\rho,z \\right)}}{\\rho} = 0$"
      ],
      "text/plain": [
       "                              ∂              \n",
       "  2              2            ──(λ(ρ, z))    \n",
       " ∂              ∂             ∂ρ             \n",
       "───(λ(ρ, z)) + ───(λ(ρ, z)) + ─────────── = 0\n",
       "  2              2                 ρ         \n",
       "∂ρ             ∂z                            "
      ]
     },
     "execution_count": 28,
     "metadata": {},
     "output_type": "execute_result"
    }
   ],
   "source": [
    "eq = vacuumFieldEquations[0]\n",
    "eq"
   ]
  },
  {
   "cell_type": "code",
   "execution_count": 37,
   "id": "2db46585",
   "metadata": {},
   "outputs": [
    {
     "data": {
      "image/png": "[encoded data removed]",
      "text/latex": [
       "$\\displaystyle \\frac{\\frac{d^{2}}{d \\rho^{2}} X{\\left(\\rho \\right)}}{X{\\left(\\rho \\right)}} + \\frac{\\frac{d}{d \\rho} X{\\left(\\rho \\right)}}{\\rho X{\\left(\\rho \\right)}} = k^{2}$"
      ],
      "text/plain": [
       "  2                      \n",
       " d                       \n",
       "───(X(ρ))   d            \n",
       "  2         ──(X(ρ))     \n",
       "dρ          dρ          2\n",
       "───────── + ──────── = k \n",
       "   X(ρ)      ρ⋅X(ρ)      "
      ]
     },
     "execution_count": 37,
     "metadata": {},
     "output_type": "execute_result"
    }
   ],
   "source": [
    "xODE = Eq(pde_separate( eq, Lambda, [X(rho),Y(z)])[0] , k**2 ) \n",
    "xODE"
   ]
  },
  {
   "cell_type": "code",
   "execution_count": 36,
   "id": "193d097f",
   "metadata": {},
   "outputs": [
    {
     "data": {
      "image/png": "[encoded data removed]",
      "text/latex": [
       "$\\displaystyle \\lambda{\\left(\\rho,z \\right)}$"
      ],
      "text/plain": [
       "λ(ρ, z)"
      ]
     },
     "execution_count": 36,
     "metadata": {},
     "output_type": "execute_result"
    }
   ],
   "source": [
    "Lambda"
   ]
  },
  {
   "cell_type": "code",
   "execution_count": null,
   "id": "e068065f",
   "metadata": {},
   "outputs": [],
   "source": []
  }
 ],
 "metadata": {
  "@webio": {
   "lastCommId": "5b9a563343ed45b594b1cc1baf49474f",
   "lastKernelId": "29ccd749-16d4-431f-99aa-071d746454d8"
  },
  "kernelspec": {
   "display_name": "Python 3 (ipykernel)",
   "language": "python",
   "name": "python3"
  },
  "language_info": {
   "codemirror_mode": {
    "name": "ipython",
    "version": 3
   },
   "file_extension": ".py",
   "mimetype": "text/x-python",
   "name": "python",
   "nbconvert_exporter": "python",
   "pygments_lexer": "ipython3",
   "version": "3.8.8"
  }
 },
 "nbformat": 4,
 "nbformat_minor": 5
}
