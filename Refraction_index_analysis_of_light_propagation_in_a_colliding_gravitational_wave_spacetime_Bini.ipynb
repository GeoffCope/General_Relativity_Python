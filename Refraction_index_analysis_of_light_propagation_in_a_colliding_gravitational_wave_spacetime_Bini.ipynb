{
 "cells": [
  {
   "cell_type": "markdown",
   "id": "97209796",
   "metadata": {},
   "source": [
    "# Refraction index analysis of light propagation in a colliding gravitational wave spacetime Bini\n",
    "##  Geoff Cope\n",
    "##  Univeristy of Utah\n",
    "##  𐐏𐐭𐑌𐐲𐑂𐐲𐑉𐑅𐐮𐐻𐐨 𐐲𐑂 𐐏𐐭𐐻𐐫\n",
    "##  January 21, 2022"
   ]
  },
  {
   "cell_type": "markdown",
   "id": "fbccaedb",
   "metadata": {},
   "source": [
    "https://arxiv.org/pdf/1408.6983.pdf"
   ]
  },
  {
   "cell_type": "code",
   "execution_count": 1,
   "id": "8f7f5719",
   "metadata": {},
   "outputs": [
    {
     "name": "stdout",
     "output_type": "stream",
     "text": [
      "IPython console for SymPy 1.9 (Python 3.8.8-64-bit) (ground types: gmpy)\n",
      "\n",
      "These commands were executed:\n",
      ">>> from __future__ import division\n",
      ">>> from sympy import *\n",
      ">>> x, y, z, t = symbols('x y z t')\n",
      ">>> k, m, n = symbols('k m n', integer=True)\n",
      ">>> f, g, h = symbols('f g h', cls=Function)\n",
      ">>> init_printing()\n",
      "\n",
      "Documentation can be found at https://docs.sympy.org/1.9/\n",
      "\n"
     ]
    }
   ],
   "source": [
    "from sympy import init_session\n",
    "init_session(use_latex=True)"
   ]
  },
  {
   "cell_type": "code",
   "execution_count": 2,
   "id": "f944c34e",
   "metadata": {},
   "outputs": [],
   "source": [
    "import warnings\n",
    "import matplotlib.cbook\n",
    "warnings.filterwarnings(\"ignore\",category=matplotlib.cbook.mplDeprecation)"
   ]
  },
  {
   "cell_type": "code",
   "execution_count": 4,
   "id": "b5372760",
   "metadata": {},
   "outputs": [],
   "source": [
    "t,z,x,y,dt,dz,dx,dy = symbols('t z x y dt dz dx dy')"
   ]
  },
  {
   "cell_type": "code",
   "execution_count": 5,
   "id": "c98ced8e",
   "metadata": {},
   "outputs": [
    {
     "data": {
      "image/png": "[encoded data removed]",
      "text/latex": [
       "$\\displaystyle M{\\left(t,x \\right)}$"
      ],
      "text/plain": [
       "M(t, x)"
      ]
     },
     "execution_count": 5,
     "metadata": {},
     "output_type": "execute_result"
    }
   ],
   "source": [
    "M = Function('M')(t,x)\n",
    "M"
   ]
  },
  {
   "cell_type": "code",
   "execution_count": 6,
   "id": "75e0dd74",
   "metadata": {},
   "outputs": [
    {
     "data": {
      "image/png": "[encoded data removed]",
      "text/latex": [
       "$\\displaystyle U{\\left(t,x \\right)}$"
      ],
      "text/plain": [
       "U(t, x)"
      ]
     },
     "execution_count": 6,
     "metadata": {},
     "output_type": "execute_result"
    }
   ],
   "source": [
    "U = Function('U')(t,x)\n",
    "U"
   ]
  },
  {
   "cell_type": "code",
   "execution_count": 7,
   "id": "a7f0c1c3",
   "metadata": {},
   "outputs": [
    {
     "data": {
      "image/png": "[encoded data removed]",
      "text/latex": [
       "$\\displaystyle V{\\left(t,x \\right)}$"
      ],
      "text/plain": [
       "V(t, x)"
      ]
     },
     "execution_count": 7,
     "metadata": {},
     "output_type": "execute_result"
    }
   ],
   "source": [
    "V = Function('V')(t,x)\n",
    "V"
   ]
  },
  {
   "cell_type": "code",
   "execution_count": 8,
   "id": "d0c1000c",
   "metadata": {},
   "outputs": [
    {
     "data": {
      "image/png": "[encoded data removed]",
      "text/latex": [
       "$\\displaystyle W{\\left(t,x \\right)}$"
      ],
      "text/plain": [
       "W(t, x)"
      ]
     },
     "execution_count": 8,
     "metadata": {},
     "output_type": "execute_result"
    }
   ],
   "source": [
    "W = Function('W')(t,x)\n",
    "W"
   ]
  },
  {
   "cell_type": "code",
   "execution_count": 19,
   "id": "f91568e6",
   "metadata": {},
   "outputs": [
    {
     "data": {
      "text/latex": [
       "$\\displaystyle \\left[\\begin{matrix}t\\\\z\\\\x\\\\y\\end{matrix}\\right]$"
      ],
      "text/plain": [
       "⎡t⎤\n",
       "⎢ ⎥\n",
       "⎢z⎥\n",
       "⎢ ⎥\n",
       "⎢x⎥\n",
       "⎢ ⎥\n",
       "⎣y⎦"
      ]
     },
     "execution_count": 19,
     "metadata": {},
     "output_type": "execute_result"
    }
   ],
   "source": [
    "variables = Matrix([t,z,x,y])\n",
    "variables"
   ]
  },
  {
   "cell_type": "code",
   "execution_count": 18,
   "id": "09577142",
   "metadata": {},
   "outputs": [
    {
     "data": {
      "text/latex": [
       "$\\displaystyle \\left[\\begin{matrix}dt\\\\dz\\\\dx\\\\dy\\end{matrix}\\right]$"
      ],
      "text/plain": [
       "⎡dt⎤\n",
       "⎢  ⎥\n",
       "⎢dz⎥\n",
       "⎢  ⎥\n",
       "⎢dx⎥\n",
       "⎢  ⎥\n",
       "⎣dy⎦"
      ]
     },
     "execution_count": 18,
     "metadata": {},
     "output_type": "execute_result"
    }
   ],
   "source": [
    "differentials = Matrix([dt,dz,dx,dy])\n",
    "differentials "
   ]
  },
  {
   "cell_type": "code",
   "execution_count": 16,
   "id": "92c3266e",
   "metadata": {},
   "outputs": [
    {
     "data": {
      "image/png": "[encoded data removed]",
      "text/latex": [
       "$\\displaystyle - dt^{2} e^{M{\\left(t,x \\right)}} + dx^{2} e^{- U{\\left(t,x \\right)}} e^{V{\\left(t,x \\right)}} \\cosh{\\left(W{\\left(t,x \\right)} \\right)} - 2 dx dy e^{- U{\\left(t,x \\right)}} \\sinh{\\left(W{\\left(t,x \\right)} \\right)} + dy^{2} e^{- U{\\left(t,x \\right)}} e^{- V{\\left(t,x \\right)}} \\cosh{\\left(W{\\left(t,x \\right)} \\right)} + dz^{2} e^{M{\\left(t,x \\right)}}$"
      ],
      "text/plain": [
       "    2  M(t, x)     2  -U(t, x)  V(t, x)                          -U(t, x)                   2  -U(t, x)  -V(t, x)                   2  \n",
       "- dt ⋅ℯ        + dx ⋅ℯ        ⋅ℯ       ⋅cosh(W(t, x)) - 2⋅dx⋅dy⋅ℯ        ⋅sinh(W(t, x)) + dy ⋅ℯ        ⋅ℯ        ⋅cosh(W(t, x)) + dz ⋅ℯ\n",
       "\n",
       "M(t, x)\n",
       "       "
      ]
     },
     "execution_count": 16,
     "metadata": {},
     "output_type": "execute_result"
    }
   ],
   "source": [
    "lineElement = expand( -exp(M) * (dt**2 - dz**2 ) + exp(-U) * ( -2*sinh(W)*dx*dy + cosh(W)*( exp(V)*dx**2 + exp(-V)*dy**2)))\n",
    "lineElement"
   ]
  },
  {
   "cell_type": "code",
   "execution_count": 20,
   "id": "2bd2be47",
   "metadata": {},
   "outputs": [
    {
     "data": {
      "text/latex": [
       "$\\displaystyle \\left[\\begin{matrix}- e^{M{\\left(t,x \\right)}} & 0 & 0 & 0\\\\0 & e^{M{\\left(t,x \\right)}} & 0 & 0\\\\0 & 0 & e^{- U{\\left(t,x \\right)}} e^{V{\\left(t,x \\right)}} \\cosh{\\left(W{\\left(t,x \\right)} \\right)} & - e^{- U{\\left(t,x \\right)}} \\sinh{\\left(W{\\left(t,x \\right)} \\right)}\\\\0 & 0 & - e^{- U{\\left(t,x \\right)}} \\sinh{\\left(W{\\left(t,x \\right)} \\right)} & e^{- U{\\left(t,x \\right)}} e^{- V{\\left(t,x \\right)}} \\cosh{\\left(W{\\left(t,x \\right)} \\right)}\\end{matrix}\\right]$"
      ],
      "text/plain": [
       "⎡  M(t, x)                                                                               ⎤\n",
       "⎢-ℯ            0                     0                                  0                ⎥\n",
       "⎢                                                                                        ⎥\n",
       "⎢            M(t, x)                                                                     ⎥\n",
       "⎢    0      ℯ                        0                                  0                ⎥\n",
       "⎢                                                                                        ⎥\n",
       "⎢                      -U(t, x)  V(t, x)                      -U(t, x)                   ⎥\n",
       "⎢    0         0      ℯ        ⋅ℯ       ⋅cosh(W(t, x))      -ℯ        ⋅sinh(W(t, x))     ⎥\n",
       "⎢                                                                                        ⎥\n",
       "⎢                           -U(t, x)                     -U(t, x)  -V(t, x)              ⎥\n",
       "⎣    0         0          -ℯ        ⋅sinh(W(t, x))      ℯ        ⋅ℯ        ⋅cosh(W(t, x))⎦"
      ]
     },
     "execution_count": 20,
     "metadata": {},
     "output_type": "execute_result"
    }
   ],
   "source": [
    "g = zeros(4)\n",
    "\n",
    "for i in range(4):\n",
    "    for j in range(4):\n",
    "        if i == j:\n",
    "            g[i,j] = lineElement.coeff( differentials[i],2 ) \n",
    "        else:\n",
    "            g[i,j] = Rational(1,2)*lineElement.coeff( differentials[i]*differentials[j],1 )\n",
    "            \n",
    "g"
   ]
  },
  {
   "cell_type": "code",
   "execution_count": 21,
   "id": "ffd22ef0",
   "metadata": {},
   "outputs": [],
   "source": [
    "import sympy"
   ]
  },
  {
   "cell_type": "code",
   "execution_count": 22,
   "id": "2a03ac61",
   "metadata": {},
   "outputs": [
    {
     "data": {
      "text/latex": [
       "$\\displaystyle \\left[\\begin{matrix}- e^{M{\\left(t,x \\right)}} & 0 & 0 & 0\\\\0 & e^{M{\\left(t,x \\right)}} & 0 & 0\\\\0 & 0 & e^{- U{\\left(t,x \\right)}} e^{V{\\left(t,x \\right)}} \\cosh{\\left(W{\\left(t,x \\right)} \\right)} & - e^{- U{\\left(t,x \\right)}} \\sinh{\\left(W{\\left(t,x \\right)} \\right)}\\\\0 & 0 & - e^{- U{\\left(t,x \\right)}} \\sinh{\\left(W{\\left(t,x \\right)} \\right)} & e^{- U{\\left(t,x \\right)}} e^{- V{\\left(t,x \\right)}} \\cosh{\\left(W{\\left(t,x \\right)} \\right)}\\end{matrix}\\right]$"
      ],
      "text/plain": [
       "⎡  M(t, x)                                                                               ⎤\n",
       "⎢-ℯ            0                     0                                  0                ⎥\n",
       "⎢                                                                                        ⎥\n",
       "⎢            M(t, x)                                                                     ⎥\n",
       "⎢    0      ℯ                        0                                  0                ⎥\n",
       "⎢                                                                                        ⎥\n",
       "⎢                      -U(t, x)  V(t, x)                      -U(t, x)                   ⎥\n",
       "⎢    0         0      ℯ        ⋅ℯ       ⋅cosh(W(t, x))      -ℯ        ⋅sinh(W(t, x))     ⎥\n",
       "⎢                                                                                        ⎥\n",
       "⎢                           -U(t, x)                     -U(t, x)  -V(t, x)              ⎥\n",
       "⎣    0         0          -ℯ        ⋅sinh(W(t, x))      ℯ        ⋅ℯ        ⋅cosh(W(t, x))⎦"
      ]
     },
     "execution_count": 22,
     "metadata": {},
     "output_type": "execute_result"
    }
   ],
   "source": [
    "m = sympy.Array(g)\n",
    "m"
   ]
  },
  {
   "cell_type": "code",
   "execution_count": 23,
   "id": "4a7bcffc",
   "metadata": {},
   "outputs": [],
   "source": [
    "from einsteinpy.symbolic import *"
   ]
  },
  {
   "cell_type": "code",
   "execution_count": 24,
   "id": "010cb57d",
   "metadata": {},
   "outputs": [],
   "source": [
    "syms = sympy.symbols(\"t z x y\")\n",
    "t,z,x,y = syms"
   ]
  },
  {
   "cell_type": "code",
   "execution_count": 25,
   "id": "3af37966",
   "metadata": {},
   "outputs": [],
   "source": [
    "metric = MetricTensor(m,syms)"
   ]
  },
  {
   "cell_type": "code",
   "execution_count": 26,
   "id": "9fc715f5",
   "metadata": {},
   "outputs": [
    {
     "data": {
      "text/latex": [
       "$\\displaystyle \\left[\\begin{matrix}\\left[\\begin{matrix}\\frac{\\frac{\\partial}{\\partial t} M{\\left(t,x \\right)}}{2} & 0 & \\frac{\\frac{\\partial}{\\partial x} M{\\left(t,x \\right)}}{2} & 0\\\\0 & \\frac{\\frac{\\partial}{\\partial t} M{\\left(t,x \\right)}}{2} & 0 & 0\\\\\\frac{\\frac{\\partial}{\\partial x} M{\\left(t,x \\right)}}{2} & 0 & \\frac{\\left(\\sinh{\\left(W{\\left(t,x \\right)} \\right)} \\frac{\\partial}{\\partial t} W{\\left(t,x \\right)} - \\cosh{\\left(W{\\left(t,x \\right)} \\right)} \\frac{\\partial}{\\partial t} U{\\left(t,x \\right)} + \\cosh{\\left(W{\\left(t,x \\right)} \\right)} \\frac{\\partial}{\\partial t} V{\\left(t,x \\right)}\\right) e^{- M{\\left(t,x \\right)} - U{\\left(t,x \\right)} + V{\\left(t,x \\right)}}}{2} & \\frac{\\left(\\sinh{\\left(W{\\left(t,x \\right)} \\right)} \\frac{\\partial}{\\partial t} U{\\left(t,x \\right)} - \\cosh{\\left(W{\\left(t,x \\right)} \\right)} \\frac{\\partial}{\\partial t} W{\\left(t,x \\right)}\\right) e^{- M{\\left(t,x \\right)} - U{\\left(t,x \\right)}}}{2}\\\\0 & 0 & \\frac{\\left(\\sinh{\\left(W{\\left(t,x \\right)} \\right)} \\frac{\\partial}{\\partial t} U{\\left(t,x \\right)} - \\cosh{\\left(W{\\left(t,x \\right)} \\right)} \\frac{\\partial}{\\partial t} W{\\left(t,x \\right)}\\right) e^{- M{\\left(t,x \\right)} - U{\\left(t,x \\right)}}}{2} & - \\frac{\\left(- \\sinh{\\left(W{\\left(t,x \\right)} \\right)} \\frac{\\partial}{\\partial t} W{\\left(t,x \\right)} + \\cosh{\\left(W{\\left(t,x \\right)} \\right)} \\frac{\\partial}{\\partial t} U{\\left(t,x \\right)} + \\cosh{\\left(W{\\left(t,x \\right)} \\right)} \\frac{\\partial}{\\partial t} V{\\left(t,x \\right)}\\right) e^{- M{\\left(t,x \\right)} - U{\\left(t,x \\right)} - V{\\left(t,x \\right)}}}{2}\\end{matrix}\\right] & \\left[\\begin{matrix}0 & \\frac{\\frac{\\partial}{\\partial t} M{\\left(t,x \\right)}}{2} & 0 & 0\\\\\\frac{\\frac{\\partial}{\\partial t} M{\\left(t,x \\right)}}{2} & 0 & \\frac{\\frac{\\partial}{\\partial x} M{\\left(t,x \\right)}}{2} & 0\\\\0 & \\frac{\\frac{\\partial}{\\partial x} M{\\left(t,x \\right)}}{2} & 0 & 0\\\\0 & 0 & 0 & 0\\end{matrix}\\right] & \\left[\\begin{matrix}\\frac{e^{M{\\left(t,x \\right)} + U{\\left(t,x \\right)} - V{\\left(t,x \\right)}} \\cosh{\\left(W{\\left(t,x \\right)} \\right)} \\frac{\\partial}{\\partial x} M{\\left(t,x \\right)}}{2} & 0 & \\frac{\\cosh^{2}{\\left(W{\\left(t,x \\right)} \\right)} \\frac{\\partial}{\\partial t} V{\\left(t,x \\right)}}{2} - \\frac{\\frac{\\partial}{\\partial t} U{\\left(t,x \\right)}}{2} & - \\frac{\\left(\\frac{\\sinh{\\left(2 W{\\left(t,x \\right)} \\right)} \\frac{\\partial}{\\partial t} V{\\left(t,x \\right)}}{2} + \\frac{\\partial}{\\partial t} W{\\left(t,x \\right)}\\right) e^{- V{\\left(t,x \\right)}}}{2}\\\\0 & - \\frac{e^{M{\\left(t,x \\right)} + U{\\left(t,x \\right)} - V{\\left(t,x \\right)}} \\cosh{\\left(W{\\left(t,x \\right)} \\right)} \\frac{\\partial}{\\partial x} M{\\left(t,x \\right)}}{2} & 0 & 0\\\\\\frac{\\cosh^{2}{\\left(W{\\left(t,x \\right)} \\right)} \\frac{\\partial}{\\partial t} V{\\left(t,x \\right)}}{2} - \\frac{\\frac{\\partial}{\\partial t} U{\\left(t,x \\right)}}{2} & 0 & - \\frac{\\sinh{\\left(2 W{\\left(t,x \\right)} \\right)} \\frac{\\partial}{\\partial x} W{\\left(t,x \\right)}}{4} + \\frac{\\cosh{\\left(2 W{\\left(t,x \\right)} \\right)} \\frac{\\partial}{\\partial x} U{\\left(t,x \\right)}}{4} + \\frac{\\cosh{\\left(2 W{\\left(t,x \\right)} \\right)} \\frac{\\partial}{\\partial x} V{\\left(t,x \\right)}}{4} - \\frac{3 \\frac{\\partial}{\\partial x} U{\\left(t,x \\right)}}{4} + \\frac{\\frac{\\partial}{\\partial x} V{\\left(t,x \\right)}}{4} & - \\frac{\\left(\\sinh{\\left(2 W{\\left(t,x \\right)} \\right)} \\frac{\\partial}{\\partial x} U{\\left(t,x \\right)} + \\sinh{\\left(2 W{\\left(t,x \\right)} \\right)} \\frac{\\partial}{\\partial x} V{\\left(t,x \\right)} - \\cosh{\\left(2 W{\\left(t,x \\right)} \\right)} \\frac{\\partial}{\\partial x} W{\\left(t,x \\right)} + \\frac{\\partial}{\\partial x} W{\\left(t,x \\right)}\\right) e^{- V{\\left(t,x \\right)}}}{4}\\\\- \\frac{\\left(\\frac{\\sinh{\\left(2 W{\\left(t,x \\right)} \\right)} \\frac{\\partial}{\\partial t} V{\\left(t,x \\right)}}{2} + \\frac{\\partial}{\\partial t} W{\\left(t,x \\right)}\\right) e^{- V{\\left(t,x \\right)}}}{2} & 0 & - \\frac{\\left(\\sinh{\\left(2 W{\\left(t,x \\right)} \\right)} \\frac{\\partial}{\\partial x} U{\\left(t,x \\right)} + \\sinh{\\left(2 W{\\left(t,x \\right)} \\right)} \\frac{\\partial}{\\partial x} V{\\left(t,x \\right)} - \\cosh{\\left(2 W{\\left(t,x \\right)} \\right)} \\frac{\\partial}{\\partial x} W{\\left(t,x \\right)} + \\frac{\\partial}{\\partial x} W{\\left(t,x \\right)}\\right) e^{- V{\\left(t,x \\right)}}}{4} & \\frac{\\left(- \\sinh{\\left(2 W{\\left(t,x \\right)} \\right)} \\frac{\\partial}{\\partial x} W{\\left(t,x \\right)} + \\cosh{\\left(2 W{\\left(t,x \\right)} \\right)} \\frac{\\partial}{\\partial x} U{\\left(t,x \\right)} + \\cosh{\\left(2 W{\\left(t,x \\right)} \\right)} \\frac{\\partial}{\\partial x} V{\\left(t,x \\right)} + \\frac{\\partial}{\\partial x} U{\\left(t,x \\right)} + \\frac{\\partial}{\\partial x} V{\\left(t,x \\right)}\\right) e^{- 2 V{\\left(t,x \\right)}}}{4}\\end{matrix}\\right] & \\left[\\begin{matrix}\\frac{e^{M{\\left(t,x \\right)} + U{\\left(t,x \\right)}} \\sinh{\\left(W{\\left(t,x \\right)} \\right)} \\frac{\\partial}{\\partial x} M{\\left(t,x \\right)}}{2} & 0 & \\frac{\\left(\\frac{\\sinh{\\left(2 W{\\left(t,x \\right)} \\right)} \\frac{\\partial}{\\partial t} V{\\left(t,x \\right)}}{2} - \\frac{\\partial}{\\partial t} W{\\left(t,x \\right)}\\right) e^{V{\\left(t,x \\right)}}}{2} & - \\frac{\\cosh^{2}{\\left(W{\\left(t,x \\right)} \\right)} \\frac{\\partial}{\\partial t} V{\\left(t,x \\right)}}{2} - \\frac{\\frac{\\partial}{\\partial t} U{\\left(t,x \\right)}}{2}\\\\0 & - \\frac{e^{M{\\left(t,x \\right)} + U{\\left(t,x \\right)}} \\sinh{\\left(W{\\left(t,x \\right)} \\right)} \\frac{\\partial}{\\partial x} M{\\left(t,x \\right)}}{2} & 0 & 0\\\\\\frac{\\left(\\frac{\\sinh{\\left(2 W{\\left(t,x \\right)} \\right)} \\frac{\\partial}{\\partial t} V{\\left(t,x \\right)}}{2} - \\frac{\\partial}{\\partial t} W{\\left(t,x \\right)}\\right) e^{V{\\left(t,x \\right)}}}{2} & 0 & \\frac{\\left(\\sinh{\\left(2 W{\\left(t,x \\right)} \\right)} \\frac{\\partial}{\\partial x} U{\\left(t,x \\right)} + \\sinh{\\left(2 W{\\left(t,x \\right)} \\right)} \\frac{\\partial}{\\partial x} V{\\left(t,x \\right)} - \\cosh{\\left(2 W{\\left(t,x \\right)} \\right)} \\frac{\\partial}{\\partial x} W{\\left(t,x \\right)} - 3 \\frac{\\partial}{\\partial x} W{\\left(t,x \\right)}\\right) e^{V{\\left(t,x \\right)}}}{4} & \\frac{\\sinh{\\left(2 W{\\left(t,x \\right)} \\right)} \\frac{\\partial}{\\partial x} W{\\left(t,x \\right)}}{4} - \\frac{\\cosh{\\left(2 W{\\left(t,x \\right)} \\right)} \\frac{\\partial}{\\partial x} U{\\left(t,x \\right)}}{4} - \\frac{\\cosh{\\left(2 W{\\left(t,x \\right)} \\right)} \\frac{\\partial}{\\partial x} V{\\left(t,x \\right)}}{4} - \\frac{\\frac{\\partial}{\\partial x} U{\\left(t,x \\right)}}{4} - \\frac{\\frac{\\partial}{\\partial x} V{\\left(t,x \\right)}}{4}\\\\- \\frac{\\cosh^{2}{\\left(W{\\left(t,x \\right)} \\right)} \\frac{\\partial}{\\partial t} V{\\left(t,x \\right)}}{2} - \\frac{\\frac{\\partial}{\\partial t} U{\\left(t,x \\right)}}{2} & 0 & \\frac{\\sinh{\\left(2 W{\\left(t,x \\right)} \\right)} \\frac{\\partial}{\\partial x} W{\\left(t,x \\right)}}{4} - \\frac{\\cosh{\\left(2 W{\\left(t,x \\right)} \\right)} \\frac{\\partial}{\\partial x} U{\\left(t,x \\right)}}{4} - \\frac{\\cosh{\\left(2 W{\\left(t,x \\right)} \\right)} \\frac{\\partial}{\\partial x} V{\\left(t,x \\right)}}{4} - \\frac{\\frac{\\partial}{\\partial x} U{\\left(t,x \\right)}}{4} - \\frac{\\frac{\\partial}{\\partial x} V{\\left(t,x \\right)}}{4} & \\frac{\\left(\\sinh{\\left(2 W{\\left(t,x \\right)} \\right)} \\frac{\\partial}{\\partial x} U{\\left(t,x \\right)} + \\sinh{\\left(2 W{\\left(t,x \\right)} \\right)} \\frac{\\partial}{\\partial x} V{\\left(t,x \\right)} - \\cosh{\\left(2 W{\\left(t,x \\right)} \\right)} \\frac{\\partial}{\\partial x} W{\\left(t,x \\right)} + \\frac{\\partial}{\\partial x} W{\\left(t,x \\right)}\\right) e^{- V{\\left(t,x \\right)}}}{4}\\end{matrix}\\right]\\end{matrix}\\right]$"
      ],
      "text/plain": [
       "⎡                                                                                                                                      \n",
       "⎢                                                                                                                                      \n",
       "⎢⎡∂                                                                            ∂                                                       \n",
       "⎢⎢──(M(t, x))                                                                  ──(M(t, x))                                             \n",
       "⎢⎢∂t                                                                           ∂x                                                      \n",
       "⎢⎢───────────       0                                                          ───────────                                             \n",
       "⎢⎢     2                                                                            2                                                  \n",
       "⎢⎢                                                                                                                                     \n",
       "⎢⎢             ∂                                                                                                                       \n",
       "⎢⎢             ──(M(t, x))                                                                                                             \n",
       "⎢⎢             ∂t                                                                                                                      \n",
       "⎢⎢     0       ───────────                                                          0                                                  \n",
       "⎢⎢                  2                                                                                                                  \n",
       "⎢⎢                                                                                                                                     \n",
       "⎢⎢∂                         ⎛              ∂                           ∂                           ∂          ⎞  -M(t, x) - U(t, x) + V\n",
       "⎢⎢──(M(t, x))               ⎜sinh(W(t, x))⋅──(W(t, x)) - cosh(W(t, x))⋅──(U(t, x)) + cosh(W(t, x))⋅──(V(t, x))⎟⋅ℯ                      \n",
       "⎢⎢∂x                        ⎝              ∂t                          ∂t                          ∂t         ⎠                        \n",
       "⎢⎢───────────       0       ───────────────────────────────────────────────────────────────────────────────────────────────────────────\n",
       "⎢⎢     2                                                                            2                                                  \n",
       "⎢⎢                                                                                                                                     \n",
       "⎢⎢                                             ⎛              ∂                           ∂          ⎞  -M(t, x) - U(t, x)             \n",
       "⎢⎢                                             ⎜sinh(W(t, x))⋅──(U(t, x)) - cosh(W(t, x))⋅──(W(t, x))⎟⋅ℯ                               \n",
       "⎢⎢                                             ⎝              ∂t                          ∂t         ⎠                                 \n",
       "⎢⎢     0            0                          ───────────────────────────────────────────────────────────────────────────             \n",
       "⎢⎣                                                                                  2                                                  \n",
       "⎢                                                                                                                                      \n",
       "⎣                                                                                                                                      \n",
       "\n",
       "                                                                                                                                       \n",
       "                                                                                                                                       \n",
       "                                                                                                                             ⎤         \n",
       "                                                                                                                             ⎥         \n",
       "                                                                                                                             ⎥  ⎡      \n",
       "                                                                  0                                                          ⎥  ⎢      \n",
       "                                                                                                                             ⎥  ⎢      \n",
       "                                                                                                                             ⎥  ⎢     0\n",
       "                                                                                                                             ⎥  ⎢      \n",
       "                                                                                                                             ⎥  ⎢      \n",
       "                                                                                                                             ⎥  ⎢∂     \n",
       "                                                                  0                                                          ⎥  ⎢──(M(t\n",
       "                                                                                                                             ⎥  ⎢∂t    \n",
       "                                                                                                                             ⎥  ⎢──────\n",
       "(t, x)                       ⎛              ∂                           ∂          ⎞  -M(t, x) - U(t, x)                     ⎥  ⎢     2\n",
       "                             ⎜sinh(W(t, x))⋅──(U(t, x)) - cosh(W(t, x))⋅──(W(t, x))⎟⋅ℯ                                       ⎥  ⎢      \n",
       "                             ⎝              ∂t                          ∂t         ⎠                                         ⎥  ⎢      \n",
       "──────                       ───────────────────────────────────────────────────────────────────────────                     ⎥  ⎢      \n",
       "                                                                  2                                                          ⎥  ⎢      \n",
       "                                                                                                                             ⎥  ⎢     0\n",
       "         ⎛                ∂                           ∂                           ∂          ⎞  -M(t, x) - U(t, x) - V(t, x) ⎥  ⎢      \n",
       "        -⎜- sinh(W(t, x))⋅──(W(t, x)) + cosh(W(t, x))⋅──(U(t, x)) + cosh(W(t, x))⋅──(V(t, x))⎟⋅ℯ                             ⎥  ⎢      \n",
       "         ⎝                ∂t                          ∂t                          ∂t         ⎠                               ⎥  ⎣     0\n",
       "        ─────────────────────────────────────────────────────────────────────────────────────────────────────────────────────⎥         \n",
       "                                                                  2                                                          ⎦         \n",
       "                                                                                                                                       \n",
       "                                                                                                                                       \n",
       "\n",
       "                                     ⎡                                                                                                 \n",
       "                                     ⎢                                                                                                 \n",
       "                                     ⎢ M(t, x) + U(t, x) - V(t, x)               ∂                                                     \n",
       "                                     ⎢ℯ                           ⋅cosh(W(t, x))⋅──(M(t, x))                                           \n",
       "       ∂                          ⎤  ⎢                                           ∂x                                                    \n",
       "       ──(M(t, x))                ⎥  ⎢──────────────────────────────────────────────────────                              0            \n",
       "       ∂t                         ⎥  ⎢                          2                                                                      \n",
       "       ───────────       0       0⎥  ⎢                                                                                                 \n",
       "            2                     ⎥  ⎢                                                           M(t, x) + U(t, x) - V(t, x)           \n",
       "                                  ⎥  ⎢                                                         -ℯ                           ⋅cosh(W(t, \n",
       "                    ∂             ⎥  ⎢                                                                                                 \n",
       ", x))               ──(M(t, x))   ⎥  ⎢                           0                             ────────────────────────────────────────\n",
       "                    ∂x            ⎥  ⎢                                                                                    2            \n",
       "─────       0       ───────────  0⎥  ⎢                                                                                                 \n",
       "                         2        ⎥  ⎢           2          ∂             ∂                                                            \n",
       "                                  ⎥  ⎢       cosh (W(t, x))⋅──(V(t, x))   ──(U(t, x))                                                  \n",
       "       ∂                          ⎥  ⎢                      ∂t            ∂t                                                           \n",
       "       ──(M(t, x))                ⎥  ⎢       ────────────────────────── - ───────────                                     0            \n",
       "       ∂x                         ⎥  ⎢                   2                     2                                                       \n",
       "       ───────────       0       0⎥  ⎢                                                                                                 \n",
       "            2                     ⎥  ⎢ ⎛                ∂                        ⎞                                                     \n",
       "                                  ⎥  ⎢ ⎜sinh(2⋅W(t, x))⋅──(V(t, x))              ⎟                                                     \n",
       "            0            0       0⎦  ⎢ ⎜                ∂t            ∂          ⎟  -V(t, x)                                           \n",
       "                                     ⎢-⎜─────────────────────────── + ──(W(t, x))⎟⋅ℯ                                                   \n",
       "                                     ⎢ ⎝             2                ∂t         ⎠                                                     \n",
       "                                     ⎢───────────────────────────────────────────────────────                             0            \n",
       "                                     ⎣                           2                                                                     \n",
       "\n",
       "                                                                                                                                       \n",
       "                                                                                                                                       \n",
       "                                                             2          ∂             ∂                                                \n",
       "                                                         cosh (W(t, x))⋅──(V(t, x))   ──(U(t, x))                                      \n",
       "                                                                        ∂t            ∂t                                               \n",
       "                                                         ────────────────────────── - ───────────                                      \n",
       "                                                                     2                     2                                           \n",
       "                                                                                                                                       \n",
       "    ∂                                                                                                                                  \n",
       "x))⋅──(M(t, x))                                                                                                                        \n",
       "    ∂x                                                                                                                                 \n",
       "────────────────                                                             0                                                         \n",
       "                                                                                                                                       \n",
       "                                                                                                                                       \n",
       "                                    ∂                             ∂                             ∂               ∂             ∂        \n",
       "                    sinh(2⋅W(t, x))⋅──(W(t, x))   cosh(2⋅W(t, x))⋅──(U(t, x))   cosh(2⋅W(t, x))⋅──(V(t, x))   3⋅──(U(t, x))   ──(V(t, x\n",
       "                                    ∂x                            ∂x                            ∂x              ∂x            ∂x       \n",
       "                  - ─────────────────────────── + ─────────────────────────── + ─────────────────────────── - ───────────── + ─────────\n",
       "                                 4                             4                             4                      4              4   \n",
       "                                                                                                                                       \n",
       "                                                                                                                                       \n",
       "                                                                                                                                       \n",
       "                     ⎛                ∂                             ∂                             ∂             ∂          ⎞  -V(t, x) \n",
       "                    -⎜sinh(2⋅W(t, x))⋅──(U(t, x)) + sinh(2⋅W(t, x))⋅──(V(t, x)) - cosh(2⋅W(t, x))⋅──(W(t, x)) + ──(W(t, x))⎟⋅ℯ         \n",
       "                     ⎝                ∂x                            ∂x                            ∂x            ∂x         ⎠           \n",
       "                    ───────────────────────────────────────────────────────────────────────────────────────────────────────────────────\n",
       "                                                                             4                                                         \n",
       "\n",
       "                                           ⎛                ∂                        ⎞                                                 \n",
       "                                           ⎜sinh(2⋅W(t, x))⋅──(V(t, x))              ⎟                                                 \n",
       "                                           ⎜                ∂t            ∂          ⎟  -V(t, x)                                       \n",
       "                                          -⎜─────────────────────────── + ──(W(t, x))⎟⋅ℯ                                               \n",
       "                                           ⎝             2                ∂t         ⎠                                                 \n",
       "                                          ───────────────────────────────────────────────────────                                      \n",
       "                                                                     2                                                                 \n",
       "                                                                                                                                       \n",
       "                                                                                                                                       \n",
       "                                                                                                                                       \n",
       "                                                                                                                                       \n",
       "                                                                     0                                                                 \n",
       "                                                                                                                                       \n",
       "                                                                                                                                       \n",
       "             ⎛                ∂                             ∂                             ∂             ∂          ⎞  -V(t, x)         \n",
       "))          -⎜sinh(2⋅W(t, x))⋅──(U(t, x)) + sinh(2⋅W(t, x))⋅──(V(t, x)) - cosh(2⋅W(t, x))⋅──(W(t, x)) + ──(W(t, x))⎟⋅ℯ                 \n",
       "             ⎝                ∂x                            ∂x                            ∂x            ∂x         ⎠                   \n",
       "──          ───────────────────────────────────────────────────────────────────────────────────────────────────────────────────        \n",
       "                                                                     4                                                                 \n",
       "                                                                                                                                       \n",
       "                                                                                                                                       \n",
       "                                                                                                                                       \n",
       "    ⎛                  ∂                             ∂                             ∂             ∂             ∂          ⎞  -2⋅V(t, x)\n",
       "    ⎜- sinh(2⋅W(t, x))⋅──(W(t, x)) + cosh(2⋅W(t, x))⋅──(U(t, x)) + cosh(2⋅W(t, x))⋅──(V(t, x)) + ──(U(t, x)) + ──(V(t, x))⎟⋅ℯ          \n",
       "    ⎝                  ∂x                            ∂x                            ∂x            ∂x            ∂x         ⎠            \n",
       "    ───────────────────────────────────────────────────────────────────────────────────────────────────────────────────────────────────\n",
       "                                                                     4                                                                 \n",
       "\n",
       "⎤  ⎡                                                                                                                                   \n",
       "⎥  ⎢                                                                                                                                   \n",
       "⎥  ⎢     M(t, x) + U(t, x)               ∂                                                                                             \n",
       "⎥  ⎢    ℯ                 ⋅sinh(W(t, x))⋅──(M(t, x))                                                                                   \n",
       "⎥  ⎢                                     ∂x                                                                                            \n",
       "⎥  ⎢    ────────────────────────────────────────────                            0                                                      \n",
       "⎥  ⎢                         2                                                                                                         \n",
       "⎥  ⎢                                                                                                                                   \n",
       "⎥  ⎢                                                        M(t, x) + U(t, x)               ∂                                          \n",
       "⎥  ⎢                                                      -ℯ                 ⋅sinh(W(t, x))⋅──(M(t, x))                                \n",
       "⎥  ⎢                                                                                        ∂x                                         \n",
       "⎥  ⎢                         0                            ──────────────────────────────────────────────                               \n",
       "⎥  ⎢                                                                            2                                                      \n",
       "⎥  ⎢                                                                                                                                   \n",
       "⎥  ⎢⎛                ∂                        ⎞                                                                                        \n",
       "⎥  ⎢⎜sinh(2⋅W(t, x))⋅──(V(t, x))              ⎟                                                                                        \n",
       "⎥  ⎢⎜                ∂t            ∂          ⎟  V(t, x)                                                  ⎛                ∂           \n",
       "⎥  ⎢⎜─────────────────────────── - ──(W(t, x))⎟⋅ℯ                                                         ⎜sinh(2⋅W(t, x))⋅──(U(t, x)) \n",
       "⎥  ⎢⎝             2                ∂t         ⎠                                                           ⎝                ∂x          \n",
       "⎥  ⎢────────────────────────────────────────────────────                        0                         ─────────────────────────────\n",
       "⎥  ⎢                         2                                                                                                         \n",
       "⎥  ⎢                                                                                                                                   \n",
       "⎥  ⎢           2          ∂             ∂                                                                                 ∂            \n",
       "⎥  ⎢       cosh (W(t, x))⋅──(V(t, x))   ──(U(t, x))                                                       sinh(2⋅W(t, x))⋅──(W(t, x))  \n",
       "⎥  ⎢                      ∂t            ∂t                                                                                ∂x           \n",
       "⎥  ⎢     - ────────────────────────── - ───────────                             0                         ─────────────────────────── -\n",
       "⎦  ⎣                   2                     2                                                                         4               \n",
       "\n",
       "  ⎛                ∂                        ⎞                                                                                          \n",
       "  ⎜sinh(2⋅W(t, x))⋅──(V(t, x))              ⎟                                                                                          \n",
       "  ⎜                ∂t            ∂          ⎟  V(t, x)                                                                            2    \n",
       "  ⎜─────────────────────────── - ──(W(t, x))⎟⋅ℯ                                                                               cosh (W(t\n",
       "  ⎝             2                ∂t         ⎠                                                                                          \n",
       "  ────────────────────────────────────────────────────                                                                      - ─────────\n",
       "                           2                                                                                                           \n",
       "                                                                                                                                       \n",
       "                                                                                                                                       \n",
       "                                                                                                                                       \n",
       "                                                                                                                                       \n",
       "                            0                                                                                                          \n",
       "                                                                                                                                       \n",
       "                                                                                                                                       \n",
       "                                                                                                                                       \n",
       "                                                                                                                                       \n",
       "                  ∂                             ∂               ∂          ⎞  V(t, x)                   ∂                             ∂\n",
       "+ sinh(2⋅W(t, x))⋅──(V(t, x)) - cosh(2⋅W(t, x))⋅──(W(t, x)) - 3⋅──(W(t, x))⎟⋅ℯ          sinh(2⋅W(t, x))⋅──(W(t, x))   cosh(2⋅W(t, x))⋅─\n",
       "                  ∂x                            ∂x              ∂x         ⎠                            ∂x                            ∂\n",
       "─────────────────────────────────────────────────────────────────────────────────────   ─────────────────────────── - ─────────────────\n",
       "                           4                                                                         4                             4   \n",
       "                                                                                                                                       \n",
       "                 ∂                             ∂             ∂             ∂             ⎛                ∂                            \n",
       " cosh(2⋅W(t, x))⋅──(U(t, x))   cosh(2⋅W(t, x))⋅──(V(t, x))   ──(U(t, x))   ──(V(t, x))   ⎜sinh(2⋅W(t, x))⋅──(U(t, x)) + sinh(2⋅W(t, x))\n",
       "                 ∂x                            ∂x            ∂x            ∂x            ⎝                ∂x                           \n",
       " ─────────────────────────── - ─────────────────────────── - ─────────── - ───────────   ──────────────────────────────────────────────\n",
       "              4                             4                     4             4                                                      \n",
       "\n",
       "                                                                    ⎤⎤\n",
       "                                                                    ⎥⎥\n",
       "      ∂             ∂                                               ⎥⎥\n",
       ", x))⋅──(V(t, x))   ──(U(t, x))                                     ⎥⎥\n",
       "      ∂t            ∂t                                              ⎥⎥\n",
       "───────────────── - ───────────                                     ⎥⎥\n",
       "   2                     2                                          ⎥⎥\n",
       "                                                                    ⎥⎥\n",
       "                                                                    ⎥⎥\n",
       "                                                                    ⎥⎥\n",
       "                                                                    ⎥⎥\n",
       "          0                                                         ⎥⎥\n",
       "                                                                    ⎥⎥\n",
       "                                                                    ⎥⎥\n",
       "                                                                    ⎥⎥\n",
       "                                                                    ⎥⎥\n",
       "                             ∂             ∂             ∂          ⎥⎥\n",
       "─(U(t, x))   cosh(2⋅W(t, x))⋅──(V(t, x))   ──(U(t, x))   ──(V(t, x))⎥⎥\n",
       "x                            ∂x            ∂x            ∂x         ⎥⎥\n",
       "────────── - ─────────────────────────── - ─────────── - ───────────⎥⎥\n",
       "                          4                     4             4     ⎥⎥\n",
       "                                                                    ⎥⎥\n",
       " ∂                             ∂             ∂          ⎞  -V(t, x) ⎥⎥\n",
       "⋅──(V(t, x)) - cosh(2⋅W(t, x))⋅──(W(t, x)) + ──(W(t, x))⎟⋅ℯ         ⎥⎥\n",
       " ∂x                            ∂x            ∂x         ⎠           ⎥⎥\n",
       "─────────────────────────────────────────────────────────────────── ⎥⎥\n",
       "          4                                                         ⎦⎦"
      ]
     },
     "execution_count": 26,
     "metadata": {},
     "output_type": "execute_result"
    }
   ],
   "source": [
    "ch = ChristoffelSymbols.from_metric(metric)\n",
    "simplify(ch.tensor())"
   ]
  },
  {
   "cell_type": "code",
   "execution_count": 27,
   "id": "9ed8f393",
   "metadata": {},
   "outputs": [
    {
     "ename": "NotImplementedError",
     "evalue": "Improve MV Derivative support in collect",
     "output_type": "error",
     "traceback": [
      "\u001b[0;31m---------------------------------------------------------------------------\u001b[0m",
      "\u001b[0;31mNotImplementedError\u001b[0m                       Traceback (most recent call last)",
      "\u001b[0;32m/var/folders/r6/p_thrggs57s55w7ct5svygzr0000gn/T/ipykernel_84382/286807235.py\u001b[0m in \u001b[0;36m<module>\u001b[0;34m\u001b[0m\n\u001b[0;32m----> 1\u001b[0;31m \u001b[0mRic\u001b[0m \u001b[0;34m=\u001b[0m \u001b[0mRicciTensor\u001b[0m\u001b[0;34m.\u001b[0m\u001b[0mfrom_metric\u001b[0m\u001b[0;34m(\u001b[0m\u001b[0mmetric\u001b[0m\u001b[0;34m)\u001b[0m\u001b[0;34m\u001b[0m\u001b[0;34m\u001b[0m\u001b[0m\n\u001b[0m\u001b[1;32m      2\u001b[0m \u001b[0mRic\u001b[0m\u001b[0;34m.\u001b[0m\u001b[0mtensor\u001b[0m\u001b[0;34m(\u001b[0m\u001b[0;34m)\u001b[0m\u001b[0;34m\u001b[0m\u001b[0;34m\u001b[0m\u001b[0m\n",
      "\u001b[0;32m/opt/anaconda3/lib/python3.8/site-packages/einsteinpy/symbolic/ricci.py\u001b[0m in \u001b[0;36mfrom_metric\u001b[0;34m(cls, metric)\u001b[0m\n\u001b[1;32m    107\u001b[0m         \"\"\"\n\u001b[1;32m    108\u001b[0m         \u001b[0mch\u001b[0m \u001b[0;34m=\u001b[0m \u001b[0mChristoffelSymbols\u001b[0m\u001b[0;34m.\u001b[0m\u001b[0mfrom_metric\u001b[0m\u001b[0;34m(\u001b[0m\u001b[0mmetric\u001b[0m\u001b[0;34m)\u001b[0m\u001b[0;34m\u001b[0m\u001b[0;34m\u001b[0m\u001b[0m\n\u001b[0;32m--> 109\u001b[0;31m         \u001b[0;32mreturn\u001b[0m \u001b[0mcls\u001b[0m\u001b[0;34m.\u001b[0m\u001b[0mfrom_christoffels\u001b[0m\u001b[0;34m(\u001b[0m\u001b[0mch\u001b[0m\u001b[0;34m,\u001b[0m \u001b[0mparent_metric\u001b[0m\u001b[0;34m=\u001b[0m\u001b[0;32mNone\u001b[0m\u001b[0;34m)\u001b[0m\u001b[0;34m\u001b[0m\u001b[0;34m\u001b[0m\u001b[0m\n\u001b[0m\u001b[1;32m    110\u001b[0m \u001b[0;34m\u001b[0m\u001b[0m\n\u001b[1;32m    111\u001b[0m     \u001b[0;32mdef\u001b[0m \u001b[0mchange_config\u001b[0m\u001b[0;34m(\u001b[0m\u001b[0mself\u001b[0m\u001b[0;34m,\u001b[0m \u001b[0mnewconfig\u001b[0m\u001b[0;34m=\u001b[0m\u001b[0;34m\"ul\"\u001b[0m\u001b[0;34m,\u001b[0m \u001b[0mmetric\u001b[0m\u001b[0;34m=\u001b[0m\u001b[0;32mNone\u001b[0m\u001b[0;34m)\u001b[0m\u001b[0;34m:\u001b[0m\u001b[0;34m\u001b[0m\u001b[0;34m\u001b[0m\u001b[0m\n",
      "\u001b[0;32m/opt/anaconda3/lib/python3.8/site-packages/einsteinpy/symbolic/ricci.py\u001b[0m in \u001b[0;36mfrom_christoffels\u001b[0;34m(cls, chris, parent_metric)\u001b[0m\n\u001b[1;32m     90\u001b[0m \u001b[0;34m\u001b[0m\u001b[0m\n\u001b[1;32m     91\u001b[0m         \"\"\"\n\u001b[0;32m---> 92\u001b[0;31m         rt = RiemannCurvatureTensor.from_christoffels(\n\u001b[0m\u001b[1;32m     93\u001b[0m             \u001b[0mchris\u001b[0m\u001b[0;34m,\u001b[0m \u001b[0mparent_metric\u001b[0m\u001b[0;34m=\u001b[0m\u001b[0mparent_metric\u001b[0m\u001b[0;34m\u001b[0m\u001b[0;34m\u001b[0m\u001b[0m\n\u001b[1;32m     94\u001b[0m         )\n",
      "\u001b[0;32m/opt/anaconda3/lib/python3.8/site-packages/einsteinpy/symbolic/riemann.py\u001b[0m in \u001b[0;36mfrom_christoffels\u001b[0;34m(cls, chris, parent_metric)\u001b[0m\n\u001b[1;32m     88\u001b[0m             \u001b[0;32mfor\u001b[0m \u001b[0mp\u001b[0m \u001b[0;32min\u001b[0m \u001b[0mrange\u001b[0m\u001b[0;34m(\u001b[0m\u001b[0mdims\u001b[0m\u001b[0;34m)\u001b[0m\u001b[0;34m:\u001b[0m\u001b[0;34m\u001b[0m\u001b[0;34m\u001b[0m\u001b[0m\n\u001b[1;32m     89\u001b[0m                 \u001b[0mtemp\u001b[0m \u001b[0;34m+=\u001b[0m \u001b[0marr\u001b[0m\u001b[0;34m[\u001b[0m\u001b[0mp\u001b[0m\u001b[0;34m,\u001b[0m \u001b[0ms\u001b[0m\u001b[0;34m,\u001b[0m \u001b[0mn\u001b[0m\u001b[0;34m]\u001b[0m \u001b[0;34m*\u001b[0m \u001b[0marr\u001b[0m\u001b[0;34m[\u001b[0m\u001b[0mt\u001b[0m\u001b[0;34m,\u001b[0m \u001b[0mp\u001b[0m\u001b[0;34m,\u001b[0m \u001b[0mr\u001b[0m\u001b[0;34m]\u001b[0m \u001b[0;34m-\u001b[0m \u001b[0marr\u001b[0m\u001b[0;34m[\u001b[0m\u001b[0mp\u001b[0m\u001b[0;34m,\u001b[0m \u001b[0ms\u001b[0m\u001b[0;34m,\u001b[0m \u001b[0mr\u001b[0m\u001b[0;34m]\u001b[0m \u001b[0;34m*\u001b[0m \u001b[0marr\u001b[0m\u001b[0;34m[\u001b[0m\u001b[0mt\u001b[0m\u001b[0;34m,\u001b[0m \u001b[0mp\u001b[0m\u001b[0;34m,\u001b[0m \u001b[0mn\u001b[0m\u001b[0;34m]\u001b[0m\u001b[0;34m\u001b[0m\u001b[0;34m\u001b[0m\u001b[0m\n\u001b[0;32m---> 90\u001b[0;31m             \u001b[0mriemann_list\u001b[0m\u001b[0;34m[\u001b[0m\u001b[0mt\u001b[0m\u001b[0;34m]\u001b[0m\u001b[0;34m[\u001b[0m\u001b[0ms\u001b[0m\u001b[0;34m]\u001b[0m\u001b[0;34m[\u001b[0m\u001b[0mr\u001b[0m\u001b[0;34m]\u001b[0m\u001b[0;34m[\u001b[0m\u001b[0mn\u001b[0m\u001b[0;34m]\u001b[0m \u001b[0;34m=\u001b[0m \u001b[0msympy\u001b[0m\u001b[0;34m.\u001b[0m\u001b[0msimplify\u001b[0m\u001b[0;34m(\u001b[0m\u001b[0mtemp\u001b[0m\u001b[0;34m)\u001b[0m\u001b[0;34m\u001b[0m\u001b[0;34m\u001b[0m\u001b[0m\n\u001b[0m\u001b[1;32m     91\u001b[0m         \u001b[0;32mif\u001b[0m \u001b[0mparent_metric\u001b[0m \u001b[0;32mis\u001b[0m \u001b[0;32mNone\u001b[0m\u001b[0;34m:\u001b[0m\u001b[0;34m\u001b[0m\u001b[0;34m\u001b[0m\u001b[0m\n\u001b[1;32m     92\u001b[0m             \u001b[0mparent_metric\u001b[0m \u001b[0;34m=\u001b[0m \u001b[0mchris\u001b[0m\u001b[0;34m.\u001b[0m\u001b[0mparent_metric\u001b[0m\u001b[0;34m\u001b[0m\u001b[0;34m\u001b[0m\u001b[0m\n",
      "\u001b[0;32m/opt/anaconda3/lib/python3.8/site-packages/sympy/simplify/simplify.py\u001b[0m in \u001b[0;36msimplify\u001b[0;34m(expr, ratio, measure, rational, inverse, doit, **kwargs)\u001b[0m\n\u001b[1;32m    694\u001b[0m \u001b[0;34m\u001b[0m\u001b[0m\n\u001b[1;32m    695\u001b[0m     \u001b[0;32mif\u001b[0m \u001b[0mexpr\u001b[0m\u001b[0;34m.\u001b[0m\u001b[0mhas\u001b[0m\u001b[0;34m(\u001b[0m\u001b[0mTrigonometricFunction\u001b[0m\u001b[0;34m,\u001b[0m \u001b[0mHyperbolicFunction\u001b[0m\u001b[0;34m)\u001b[0m\u001b[0;34m:\u001b[0m\u001b[0;34m\u001b[0m\u001b[0;34m\u001b[0m\u001b[0m\n\u001b[0;32m--> 696\u001b[0;31m         \u001b[0mexpr\u001b[0m \u001b[0;34m=\u001b[0m \u001b[0mtrigsimp\u001b[0m\u001b[0;34m(\u001b[0m\u001b[0mexpr\u001b[0m\u001b[0;34m,\u001b[0m \u001b[0mdeep\u001b[0m\u001b[0;34m=\u001b[0m\u001b[0;32mTrue\u001b[0m\u001b[0;34m)\u001b[0m\u001b[0;34m\u001b[0m\u001b[0;34m\u001b[0m\u001b[0m\n\u001b[0m\u001b[1;32m    697\u001b[0m \u001b[0;34m\u001b[0m\u001b[0m\n\u001b[1;32m    698\u001b[0m     \u001b[0;32mif\u001b[0m \u001b[0mexpr\u001b[0m\u001b[0;34m.\u001b[0m\u001b[0mhas\u001b[0m\u001b[0;34m(\u001b[0m\u001b[0mlog\u001b[0m\u001b[0;34m)\u001b[0m\u001b[0;34m:\u001b[0m\u001b[0;34m\u001b[0m\u001b[0;34m\u001b[0m\u001b[0m\n",
      "\u001b[0;32m/opt/anaconda3/lib/python3.8/site-packages/sympy/simplify/trigsimp.py\u001b[0m in \u001b[0;36mtrigsimp\u001b[0;34m(expr, **opts)\u001b[0m\n\u001b[1;32m    508\u001b[0m                    }[method]\n\u001b[1;32m    509\u001b[0m \u001b[0;34m\u001b[0m\u001b[0m\n\u001b[0;32m--> 510\u001b[0;31m     \u001b[0;32mreturn\u001b[0m \u001b[0mtrigsimpfunc\u001b[0m\u001b[0;34m(\u001b[0m\u001b[0mexpr\u001b[0m\u001b[0;34m)\u001b[0m\u001b[0;34m\u001b[0m\u001b[0;34m\u001b[0m\u001b[0m\n\u001b[0m\u001b[1;32m    511\u001b[0m \u001b[0;34m\u001b[0m\u001b[0m\n\u001b[1;32m    512\u001b[0m \u001b[0;34m\u001b[0m\u001b[0m\n",
      "\u001b[0;32m/opt/anaconda3/lib/python3.8/site-packages/sympy/simplify/trigsimp.py\u001b[0m in \u001b[0;36m<lambda>\u001b[0;34m(x)\u001b[0m\n\u001b[1;32m    501\u001b[0m     trigsimpfunc = {\n\u001b[1;32m    502\u001b[0m         \u001b[0;34m'fu'\u001b[0m\u001b[0;34m:\u001b[0m \u001b[0;34m(\u001b[0m\u001b[0;32mlambda\u001b[0m \u001b[0mx\u001b[0m\u001b[0;34m:\u001b[0m \u001b[0mfu\u001b[0m\u001b[0;34m(\u001b[0m\u001b[0mx\u001b[0m\u001b[0;34m,\u001b[0m \u001b[0;34m**\u001b[0m\u001b[0mopts\u001b[0m\u001b[0;34m)\u001b[0m\u001b[0;34m)\u001b[0m\u001b[0;34m,\u001b[0m\u001b[0;34m\u001b[0m\u001b[0;34m\u001b[0m\u001b[0m\n\u001b[0;32m--> 503\u001b[0;31m         \u001b[0;34m'matching'\u001b[0m\u001b[0;34m:\u001b[0m \u001b[0;34m(\u001b[0m\u001b[0;32mlambda\u001b[0m \u001b[0mx\u001b[0m\u001b[0;34m:\u001b[0m \u001b[0mfutrig\u001b[0m\u001b[0;34m(\u001b[0m\u001b[0mx\u001b[0m\u001b[0;34m)\u001b[0m\u001b[0;34m)\u001b[0m\u001b[0;34m,\u001b[0m\u001b[0;34m\u001b[0m\u001b[0;34m\u001b[0m\u001b[0m\n\u001b[0m\u001b[1;32m    504\u001b[0m         \u001b[0;34m'groebner'\u001b[0m\u001b[0;34m:\u001b[0m \u001b[0;34m(\u001b[0m\u001b[0;32mlambda\u001b[0m \u001b[0mx\u001b[0m\u001b[0;34m:\u001b[0m \u001b[0mgroebnersimp\u001b[0m\u001b[0;34m(\u001b[0m\u001b[0mx\u001b[0m\u001b[0;34m,\u001b[0m \u001b[0;34m**\u001b[0m\u001b[0mopts\u001b[0m\u001b[0;34m)\u001b[0m\u001b[0;34m)\u001b[0m\u001b[0;34m,\u001b[0m\u001b[0;34m\u001b[0m\u001b[0;34m\u001b[0m\u001b[0m\n\u001b[1;32m    505\u001b[0m         'combined': (lambda x: futrig(groebnersimp(x,\n",
      "\u001b[0;32m/opt/anaconda3/lib/python3.8/site-packages/sympy/simplify/trigsimp.py\u001b[0m in \u001b[0;36mfutrig\u001b[0;34m(e, hyper, **kwargs)\u001b[0m\n\u001b[1;32m   1104\u001b[0m     \u001b[0;32mif\u001b[0m \u001b[0mhyper\u001b[0m \u001b[0;32mand\u001b[0m \u001b[0me\u001b[0m\u001b[0;34m.\u001b[0m\u001b[0mhas\u001b[0m\u001b[0;34m(\u001b[0m\u001b[0mHyperbolicFunction\u001b[0m\u001b[0;34m)\u001b[0m\u001b[0;34m:\u001b[0m\u001b[0;34m\u001b[0m\u001b[0;34m\u001b[0m\u001b[0m\n\u001b[1;32m   1105\u001b[0m         \u001b[0me\u001b[0m\u001b[0;34m,\u001b[0m \u001b[0mf\u001b[0m \u001b[0;34m=\u001b[0m \u001b[0mhyper_as_trig\u001b[0m\u001b[0;34m(\u001b[0m\u001b[0me\u001b[0m\u001b[0;34m)\u001b[0m\u001b[0;34m\u001b[0m\u001b[0;34m\u001b[0m\u001b[0m\n\u001b[0;32m-> 1106\u001b[0;31m         \u001b[0me\u001b[0m \u001b[0;34m=\u001b[0m \u001b[0mf\u001b[0m\u001b[0;34m(\u001b[0m\u001b[0mbottom_up\u001b[0m\u001b[0;34m(\u001b[0m\u001b[0me\u001b[0m\u001b[0;34m,\u001b[0m \u001b[0m_futrig\u001b[0m\u001b[0;34m)\u001b[0m\u001b[0;34m)\u001b[0m\u001b[0;34m\u001b[0m\u001b[0;34m\u001b[0m\u001b[0m\n\u001b[0m\u001b[1;32m   1107\u001b[0m \u001b[0;34m\u001b[0m\u001b[0m\n\u001b[1;32m   1108\u001b[0m     \u001b[0;32mif\u001b[0m \u001b[0me\u001b[0m \u001b[0;34m!=\u001b[0m \u001b[0mold\u001b[0m \u001b[0;32mand\u001b[0m \u001b[0me\u001b[0m\u001b[0;34m.\u001b[0m\u001b[0mis_Mul\u001b[0m \u001b[0;32mand\u001b[0m \u001b[0me\u001b[0m\u001b[0;34m.\u001b[0m\u001b[0margs\u001b[0m\u001b[0;34m[\u001b[0m\u001b[0;36m0\u001b[0m\u001b[0;34m]\u001b[0m\u001b[0;34m.\u001b[0m\u001b[0mis_Rational\u001b[0m\u001b[0;34m:\u001b[0m\u001b[0;34m\u001b[0m\u001b[0;34m\u001b[0m\u001b[0m\n",
      "\u001b[0;32m/opt/anaconda3/lib/python3.8/site-packages/sympy/simplify/fu.py\u001b[0m in \u001b[0;36m<lambda>\u001b[0;34m(x)\u001b[0m\n\u001b[1;32m   2073\u001b[0m     \u001b[0md\u001b[0m \u001b[0;34m=\u001b[0m \u001b[0mDummy\u001b[0m\u001b[0;34m(\u001b[0m\u001b[0;34m)\u001b[0m\u001b[0;34m\u001b[0m\u001b[0;34m\u001b[0m\u001b[0m\n\u001b[1;32m   2074\u001b[0m \u001b[0;34m\u001b[0m\u001b[0m\n\u001b[0;32m-> 2075\u001b[0;31m     return _osborne(masked, d), lambda x: collect(signsimp(\n\u001b[0m\u001b[1;32m   2076\u001b[0m         _osbornei(x, d).xreplace(dict(reps))), S.ImaginaryUnit)\n\u001b[1;32m   2077\u001b[0m \u001b[0;34m\u001b[0m\u001b[0m\n",
      "\u001b[0;32m/opt/anaconda3/lib/python3.8/site-packages/sympy/simplify/radsimp.py\u001b[0m in \u001b[0;36mcollect\u001b[0;34m(expr, syms, func, evaluate, exact, distribute_order_term)\u001b[0m\n\u001b[1;32m    173\u001b[0m         \u001b[0mreps\u001b[0m \u001b[0;34m=\u001b[0m \u001b[0mdict\u001b[0m\u001b[0;34m(\u001b[0m\u001b[0mzip\u001b[0m\u001b[0;34m(\u001b[0m\u001b[0mnonsyms\u001b[0m\u001b[0;34m,\u001b[0m \u001b[0;34m[\u001b[0m\u001b[0mDummy\u001b[0m\u001b[0;34m(\u001b[0m\u001b[0;34m**\u001b[0m\u001b[0massumptions\u001b[0m\u001b[0;34m(\u001b[0m\u001b[0mi\u001b[0m\u001b[0;34m)\u001b[0m\u001b[0;34m)\u001b[0m \u001b[0;32mfor\u001b[0m \u001b[0mi\u001b[0m \u001b[0;32min\u001b[0m \u001b[0mnonsyms\u001b[0m\u001b[0;34m]\u001b[0m\u001b[0;34m)\u001b[0m\u001b[0;34m)\u001b[0m\u001b[0;34m\u001b[0m\u001b[0;34m\u001b[0m\u001b[0m\n\u001b[1;32m    174\u001b[0m         \u001b[0msyms\u001b[0m \u001b[0;34m=\u001b[0m \u001b[0;34m[\u001b[0m\u001b[0mreps\u001b[0m\u001b[0;34m.\u001b[0m\u001b[0mget\u001b[0m\u001b[0;34m(\u001b[0m\u001b[0ms\u001b[0m\u001b[0;34m,\u001b[0m \u001b[0ms\u001b[0m\u001b[0;34m)\u001b[0m \u001b[0;32mfor\u001b[0m \u001b[0ms\u001b[0m \u001b[0;32min\u001b[0m \u001b[0msyms\u001b[0m\u001b[0;34m]\u001b[0m\u001b[0;34m\u001b[0m\u001b[0;34m\u001b[0m\u001b[0m\n\u001b[0;32m--> 175\u001b[0;31m         rv = collect(expr.subs(reps), syms,\n\u001b[0m\u001b[1;32m    176\u001b[0m             \u001b[0mfunc\u001b[0m\u001b[0;34m=\u001b[0m\u001b[0mfunc\u001b[0m\u001b[0;34m,\u001b[0m \u001b[0mevaluate\u001b[0m\u001b[0;34m=\u001b[0m\u001b[0mevaluate\u001b[0m\u001b[0;34m,\u001b[0m \u001b[0mexact\u001b[0m\u001b[0;34m=\u001b[0m\u001b[0mexact\u001b[0m\u001b[0;34m,\u001b[0m\u001b[0;34m\u001b[0m\u001b[0;34m\u001b[0m\u001b[0m\n\u001b[1;32m    177\u001b[0m             distribute_order_term=distribute_order_term)\n",
      "\u001b[0;32m/opt/anaconda3/lib/python3.8/site-packages/sympy/simplify/radsimp.py\u001b[0m in \u001b[0;36mcollect\u001b[0;34m(expr, syms, func, evaluate, exact, distribute_order_term)\u001b[0m\n\u001b[1;32m    362\u001b[0m                     for a in expr.args if a != o]) + o\n\u001b[1;32m    363\u001b[0m         \u001b[0;32melif\u001b[0m \u001b[0mexpr\u001b[0m\u001b[0;34m.\u001b[0m\u001b[0mis_Mul\u001b[0m\u001b[0;34m:\u001b[0m\u001b[0;34m\u001b[0m\u001b[0;34m\u001b[0m\u001b[0m\n\u001b[0;32m--> 364\u001b[0;31m             return expr.func(*[\n\u001b[0m\u001b[1;32m    365\u001b[0m                 \u001b[0mcollect\u001b[0m\u001b[0;34m(\u001b[0m\u001b[0mterm\u001b[0m\u001b[0;34m,\u001b[0m \u001b[0msyms\u001b[0m\u001b[0;34m,\u001b[0m \u001b[0mfunc\u001b[0m\u001b[0;34m,\u001b[0m \u001b[0;32mTrue\u001b[0m\u001b[0;34m,\u001b[0m \u001b[0mexact\u001b[0m\u001b[0;34m,\u001b[0m \u001b[0mdistribute_order_term\u001b[0m\u001b[0;34m)\u001b[0m\u001b[0;34m\u001b[0m\u001b[0;34m\u001b[0m\u001b[0m\n\u001b[1;32m    366\u001b[0m                 for term in expr.args])\n",
      "\u001b[0;32m/opt/anaconda3/lib/python3.8/site-packages/sympy/simplify/radsimp.py\u001b[0m in \u001b[0;36m<listcomp>\u001b[0;34m(.0)\u001b[0m\n\u001b[1;32m    363\u001b[0m         \u001b[0;32melif\u001b[0m \u001b[0mexpr\u001b[0m\u001b[0;34m.\u001b[0m\u001b[0mis_Mul\u001b[0m\u001b[0;34m:\u001b[0m\u001b[0;34m\u001b[0m\u001b[0;34m\u001b[0m\u001b[0m\n\u001b[1;32m    364\u001b[0m             return expr.func(*[\n\u001b[0;32m--> 365\u001b[0;31m                 \u001b[0mcollect\u001b[0m\u001b[0;34m(\u001b[0m\u001b[0mterm\u001b[0m\u001b[0;34m,\u001b[0m \u001b[0msyms\u001b[0m\u001b[0;34m,\u001b[0m \u001b[0mfunc\u001b[0m\u001b[0;34m,\u001b[0m \u001b[0;32mTrue\u001b[0m\u001b[0;34m,\u001b[0m \u001b[0mexact\u001b[0m\u001b[0;34m,\u001b[0m \u001b[0mdistribute_order_term\u001b[0m\u001b[0;34m)\u001b[0m\u001b[0;34m\u001b[0m\u001b[0;34m\u001b[0m\u001b[0m\n\u001b[0m\u001b[1;32m    366\u001b[0m                 for term in expr.args])\n\u001b[1;32m    367\u001b[0m         \u001b[0;32melif\u001b[0m \u001b[0mexpr\u001b[0m\u001b[0;34m.\u001b[0m\u001b[0mis_Pow\u001b[0m\u001b[0;34m:\u001b[0m\u001b[0;34m\u001b[0m\u001b[0;34m\u001b[0m\u001b[0m\n",
      "\u001b[0;32m/opt/anaconda3/lib/python3.8/site-packages/sympy/simplify/radsimp.py\u001b[0m in \u001b[0;36mcollect\u001b[0;34m(expr, syms, func, evaluate, exact, distribute_order_term)\u001b[0m\n\u001b[1;32m    358\u001b[0m         \u001b[0;32mif\u001b[0m \u001b[0mexpr\u001b[0m\u001b[0;34m.\u001b[0m\u001b[0mis_Add\u001b[0m\u001b[0;34m:\u001b[0m\u001b[0;34m\u001b[0m\u001b[0;34m\u001b[0m\u001b[0m\n\u001b[1;32m    359\u001b[0m             \u001b[0mo\u001b[0m \u001b[0;34m=\u001b[0m \u001b[0mexpr\u001b[0m\u001b[0;34m.\u001b[0m\u001b[0mgetO\u001b[0m\u001b[0;34m(\u001b[0m\u001b[0;34m)\u001b[0m \u001b[0;32mor\u001b[0m \u001b[0;36m0\u001b[0m\u001b[0;34m\u001b[0m\u001b[0;34m\u001b[0m\u001b[0m\n\u001b[0;32m--> 360\u001b[0;31m             expr = expr.func(*[\n\u001b[0m\u001b[1;32m    361\u001b[0m                     \u001b[0mcollect\u001b[0m\u001b[0;34m(\u001b[0m\u001b[0ma\u001b[0m\u001b[0;34m,\u001b[0m \u001b[0msyms\u001b[0m\u001b[0;34m,\u001b[0m \u001b[0mfunc\u001b[0m\u001b[0;34m,\u001b[0m \u001b[0;32mTrue\u001b[0m\u001b[0;34m,\u001b[0m \u001b[0mexact\u001b[0m\u001b[0;34m,\u001b[0m \u001b[0mdistribute_order_term\u001b[0m\u001b[0;34m)\u001b[0m\u001b[0;34m\u001b[0m\u001b[0;34m\u001b[0m\u001b[0m\n\u001b[1;32m    362\u001b[0m                     for a in expr.args if a != o]) + o\n",
      "\u001b[0;32m/opt/anaconda3/lib/python3.8/site-packages/sympy/simplify/radsimp.py\u001b[0m in \u001b[0;36m<listcomp>\u001b[0;34m(.0)\u001b[0m\n\u001b[1;32m    359\u001b[0m             \u001b[0mo\u001b[0m \u001b[0;34m=\u001b[0m \u001b[0mexpr\u001b[0m\u001b[0;34m.\u001b[0m\u001b[0mgetO\u001b[0m\u001b[0;34m(\u001b[0m\u001b[0;34m)\u001b[0m \u001b[0;32mor\u001b[0m \u001b[0;36m0\u001b[0m\u001b[0;34m\u001b[0m\u001b[0;34m\u001b[0m\u001b[0m\n\u001b[1;32m    360\u001b[0m             expr = expr.func(*[\n\u001b[0;32m--> 361\u001b[0;31m                     \u001b[0mcollect\u001b[0m\u001b[0;34m(\u001b[0m\u001b[0ma\u001b[0m\u001b[0;34m,\u001b[0m \u001b[0msyms\u001b[0m\u001b[0;34m,\u001b[0m \u001b[0mfunc\u001b[0m\u001b[0;34m,\u001b[0m \u001b[0;32mTrue\u001b[0m\u001b[0;34m,\u001b[0m \u001b[0mexact\u001b[0m\u001b[0;34m,\u001b[0m \u001b[0mdistribute_order_term\u001b[0m\u001b[0;34m)\u001b[0m\u001b[0;34m\u001b[0m\u001b[0;34m\u001b[0m\u001b[0m\n\u001b[0m\u001b[1;32m    362\u001b[0m                     for a in expr.args if a != o]) + o\n\u001b[1;32m    363\u001b[0m         \u001b[0;32melif\u001b[0m \u001b[0mexpr\u001b[0m\u001b[0;34m.\u001b[0m\u001b[0mis_Mul\u001b[0m\u001b[0;34m:\u001b[0m\u001b[0;34m\u001b[0m\u001b[0;34m\u001b[0m\u001b[0m\n",
      "\u001b[0;32m/opt/anaconda3/lib/python3.8/site-packages/sympy/simplify/radsimp.py\u001b[0m in \u001b[0;36mcollect\u001b[0;34m(expr, syms, func, evaluate, exact, distribute_order_term)\u001b[0m\n\u001b[1;32m    362\u001b[0m                     for a in expr.args if a != o]) + o\n\u001b[1;32m    363\u001b[0m         \u001b[0;32melif\u001b[0m \u001b[0mexpr\u001b[0m\u001b[0;34m.\u001b[0m\u001b[0mis_Mul\u001b[0m\u001b[0;34m:\u001b[0m\u001b[0;34m\u001b[0m\u001b[0;34m\u001b[0m\u001b[0m\n\u001b[0;32m--> 364\u001b[0;31m             return expr.func(*[\n\u001b[0m\u001b[1;32m    365\u001b[0m                 \u001b[0mcollect\u001b[0m\u001b[0;34m(\u001b[0m\u001b[0mterm\u001b[0m\u001b[0;34m,\u001b[0m \u001b[0msyms\u001b[0m\u001b[0;34m,\u001b[0m \u001b[0mfunc\u001b[0m\u001b[0;34m,\u001b[0m \u001b[0;32mTrue\u001b[0m\u001b[0;34m,\u001b[0m \u001b[0mexact\u001b[0m\u001b[0;34m,\u001b[0m \u001b[0mdistribute_order_term\u001b[0m\u001b[0;34m)\u001b[0m\u001b[0;34m\u001b[0m\u001b[0;34m\u001b[0m\u001b[0m\n\u001b[1;32m    366\u001b[0m                 for term in expr.args])\n",
      "\u001b[0;32m/opt/anaconda3/lib/python3.8/site-packages/sympy/simplify/radsimp.py\u001b[0m in \u001b[0;36m<listcomp>\u001b[0;34m(.0)\u001b[0m\n\u001b[1;32m    363\u001b[0m         \u001b[0;32melif\u001b[0m \u001b[0mexpr\u001b[0m\u001b[0;34m.\u001b[0m\u001b[0mis_Mul\u001b[0m\u001b[0;34m:\u001b[0m\u001b[0;34m\u001b[0m\u001b[0;34m\u001b[0m\u001b[0m\n\u001b[1;32m    364\u001b[0m             return expr.func(*[\n\u001b[0;32m--> 365\u001b[0;31m                 \u001b[0mcollect\u001b[0m\u001b[0;34m(\u001b[0m\u001b[0mterm\u001b[0m\u001b[0;34m,\u001b[0m \u001b[0msyms\u001b[0m\u001b[0;34m,\u001b[0m \u001b[0mfunc\u001b[0m\u001b[0;34m,\u001b[0m \u001b[0;32mTrue\u001b[0m\u001b[0;34m,\u001b[0m \u001b[0mexact\u001b[0m\u001b[0;34m,\u001b[0m \u001b[0mdistribute_order_term\u001b[0m\u001b[0;34m)\u001b[0m\u001b[0;34m\u001b[0m\u001b[0;34m\u001b[0m\u001b[0m\n\u001b[0m\u001b[1;32m    366\u001b[0m                 for term in expr.args])\n\u001b[1;32m    367\u001b[0m         \u001b[0;32melif\u001b[0m \u001b[0mexpr\u001b[0m\u001b[0;34m.\u001b[0m\u001b[0mis_Pow\u001b[0m\u001b[0;34m:\u001b[0m\u001b[0;34m\u001b[0m\u001b[0;34m\u001b[0m\u001b[0m\n",
      "\u001b[0;32m/opt/anaconda3/lib/python3.8/site-packages/sympy/simplify/radsimp.py\u001b[0m in \u001b[0;36mcollect\u001b[0;34m(expr, syms, func, evaluate, exact, distribute_order_term)\u001b[0m\n\u001b[1;32m    389\u001b[0m         \u001b[0mc\u001b[0m\u001b[0;34m,\u001b[0m \u001b[0mnc\u001b[0m \u001b[0;34m=\u001b[0m \u001b[0mproduct\u001b[0m\u001b[0;34m.\u001b[0m\u001b[0margs_cnc\u001b[0m\u001b[0;34m(\u001b[0m\u001b[0msplit_1\u001b[0m\u001b[0;34m=\u001b[0m\u001b[0;32mFalse\u001b[0m\u001b[0;34m)\u001b[0m\u001b[0;34m\u001b[0m\u001b[0;34m\u001b[0m\u001b[0m\n\u001b[1;32m    390\u001b[0m         \u001b[0margs\u001b[0m \u001b[0;34m=\u001b[0m \u001b[0mlist\u001b[0m\u001b[0;34m(\u001b[0m\u001b[0mordered\u001b[0m\u001b[0;34m(\u001b[0m\u001b[0mc\u001b[0m\u001b[0;34m)\u001b[0m\u001b[0;34m)\u001b[0m \u001b[0;34m+\u001b[0m \u001b[0mnc\u001b[0m\u001b[0;34m\u001b[0m\u001b[0;34m\u001b[0m\u001b[0m\n\u001b[0;32m--> 391\u001b[0;31m         \u001b[0mterms\u001b[0m \u001b[0;34m=\u001b[0m \u001b[0;34m[\u001b[0m\u001b[0mparse_term\u001b[0m\u001b[0;34m(\u001b[0m\u001b[0mi\u001b[0m\u001b[0;34m)\u001b[0m \u001b[0;32mfor\u001b[0m \u001b[0mi\u001b[0m \u001b[0;32min\u001b[0m \u001b[0margs\u001b[0m\u001b[0;34m]\u001b[0m\u001b[0;34m\u001b[0m\u001b[0;34m\u001b[0m\u001b[0m\n\u001b[0m\u001b[1;32m    392\u001b[0m         \u001b[0msmall_first\u001b[0m \u001b[0;34m=\u001b[0m \u001b[0;32mTrue\u001b[0m\u001b[0;34m\u001b[0m\u001b[0;34m\u001b[0m\u001b[0m\n\u001b[1;32m    393\u001b[0m \u001b[0;34m\u001b[0m\u001b[0m\n",
      "\u001b[0;32m/opt/anaconda3/lib/python3.8/site-packages/sympy/simplify/radsimp.py\u001b[0m in \u001b[0;36m<listcomp>\u001b[0;34m(.0)\u001b[0m\n\u001b[1;32m    389\u001b[0m         \u001b[0mc\u001b[0m\u001b[0;34m,\u001b[0m \u001b[0mnc\u001b[0m \u001b[0;34m=\u001b[0m \u001b[0mproduct\u001b[0m\u001b[0;34m.\u001b[0m\u001b[0margs_cnc\u001b[0m\u001b[0;34m(\u001b[0m\u001b[0msplit_1\u001b[0m\u001b[0;34m=\u001b[0m\u001b[0;32mFalse\u001b[0m\u001b[0;34m)\u001b[0m\u001b[0;34m\u001b[0m\u001b[0;34m\u001b[0m\u001b[0m\n\u001b[1;32m    390\u001b[0m         \u001b[0margs\u001b[0m \u001b[0;34m=\u001b[0m \u001b[0mlist\u001b[0m\u001b[0;34m(\u001b[0m\u001b[0mordered\u001b[0m\u001b[0;34m(\u001b[0m\u001b[0mc\u001b[0m\u001b[0;34m)\u001b[0m\u001b[0;34m)\u001b[0m \u001b[0;34m+\u001b[0m \u001b[0mnc\u001b[0m\u001b[0;34m\u001b[0m\u001b[0;34m\u001b[0m\u001b[0m\n\u001b[0;32m--> 391\u001b[0;31m         \u001b[0mterms\u001b[0m \u001b[0;34m=\u001b[0m \u001b[0;34m[\u001b[0m\u001b[0mparse_term\u001b[0m\u001b[0;34m(\u001b[0m\u001b[0mi\u001b[0m\u001b[0;34m)\u001b[0m \u001b[0;32mfor\u001b[0m \u001b[0mi\u001b[0m \u001b[0;32min\u001b[0m \u001b[0margs\u001b[0m\u001b[0;34m]\u001b[0m\u001b[0;34m\u001b[0m\u001b[0;34m\u001b[0m\u001b[0m\n\u001b[0m\u001b[1;32m    392\u001b[0m         \u001b[0msmall_first\u001b[0m \u001b[0;34m=\u001b[0m \u001b[0;32mTrue\u001b[0m\u001b[0;34m\u001b[0m\u001b[0;34m\u001b[0m\u001b[0m\n\u001b[1;32m    393\u001b[0m \u001b[0;34m\u001b[0m\u001b[0m\n",
      "\u001b[0;32m/opt/anaconda3/lib/python3.8/site-packages/sympy/simplify/radsimp.py\u001b[0m in \u001b[0;36mparse_term\u001b[0;34m(expr)\u001b[0m\n\u001b[1;32m    279\u001b[0m                 \u001b[0msexpr\u001b[0m\u001b[0;34m,\u001b[0m \u001b[0mrat_expo\u001b[0m \u001b[0;34m=\u001b[0m \u001b[0mexp\u001b[0m\u001b[0;34m(\u001b[0m\u001b[0mtail\u001b[0m\u001b[0;34m)\u001b[0m\u001b[0;34m,\u001b[0m \u001b[0mcoeff\u001b[0m\u001b[0;34m\u001b[0m\u001b[0;34m\u001b[0m\u001b[0m\n\u001b[1;32m    280\u001b[0m         \u001b[0;32melif\u001b[0m \u001b[0misinstance\u001b[0m\u001b[0;34m(\u001b[0m\u001b[0mexpr\u001b[0m\u001b[0;34m,\u001b[0m \u001b[0mDerivative\u001b[0m\u001b[0;34m)\u001b[0m\u001b[0;34m:\u001b[0m\u001b[0;34m\u001b[0m\u001b[0;34m\u001b[0m\u001b[0m\n\u001b[0;32m--> 281\u001b[0;31m             \u001b[0msexpr\u001b[0m\u001b[0;34m,\u001b[0m \u001b[0mderiv\u001b[0m \u001b[0;34m=\u001b[0m \u001b[0mparse_derivative\u001b[0m\u001b[0;34m(\u001b[0m\u001b[0mexpr\u001b[0m\u001b[0;34m)\u001b[0m\u001b[0;34m\u001b[0m\u001b[0;34m\u001b[0m\u001b[0m\n\u001b[0m\u001b[1;32m    282\u001b[0m \u001b[0;34m\u001b[0m\u001b[0m\n\u001b[1;32m    283\u001b[0m         \u001b[0;32mreturn\u001b[0m \u001b[0msexpr\u001b[0m\u001b[0;34m,\u001b[0m \u001b[0mrat_expo\u001b[0m\u001b[0;34m,\u001b[0m \u001b[0msym_expo\u001b[0m\u001b[0;34m,\u001b[0m \u001b[0mderiv\u001b[0m\u001b[0;34m\u001b[0m\u001b[0;34m\u001b[0m\u001b[0m\n",
      "\u001b[0;32m/opt/anaconda3/lib/python3.8/site-packages/sympy/simplify/radsimp.py\u001b[0m in \u001b[0;36mparse_derivative\u001b[0;34m(deriv)\u001b[0m\n\u001b[1;32m    215\u001b[0m                 \u001b[0morder\u001b[0m \u001b[0;34m+=\u001b[0m \u001b[0;36m1\u001b[0m\u001b[0;34m\u001b[0m\u001b[0;34m\u001b[0m\u001b[0m\n\u001b[1;32m    216\u001b[0m             \u001b[0;32melse\u001b[0m\u001b[0;34m:\u001b[0m\u001b[0;34m\u001b[0m\u001b[0;34m\u001b[0m\u001b[0m\n\u001b[0;32m--> 217\u001b[0;31m                 raise NotImplementedError(\n\u001b[0m\u001b[1;32m    218\u001b[0m                     'Improve MV Derivative support in collect')\n\u001b[1;32m    219\u001b[0m \u001b[0;34m\u001b[0m\u001b[0m\n",
      "\u001b[0;31mNotImplementedError\u001b[0m: Improve MV Derivative support in collect"
     ]
    }
   ],
   "source": [
    "Ric = RicciTensor.from_metric(metric)\n",
    "Ric.tensor()"
   ]
  },
  {
   "cell_type": "code",
   "execution_count": null,
   "id": "fc85e54c",
   "metadata": {},
   "outputs": [],
   "source": [
    "R = RicciScalar.from_riccitensor(Ric)\n",
    "R.simplify()\n",
    "R.expr"
   ]
  },
  {
   "cell_type": "code",
   "execution_count": null,
   "id": "a699c1e4",
   "metadata": {},
   "outputs": [],
   "source": [
    "einst = EinsteinTensor.from_metric(metric)\n",
    "einst.tensor()"
   ]
  },
  {
   "cell_type": "code",
   "execution_count": 28,
   "id": "19c954ea",
   "metadata": {},
   "outputs": [],
   "source": [
    "#  rm1 = RiemannCurvatureTensor.from_christoffels(ch)\n",
    "#  rm1.tensor()"
   ]
  },
  {
   "cell_type": "code",
   "execution_count": 29,
   "id": "dbb4049c",
   "metadata": {},
   "outputs": [],
   "source": [
    "#  weyl = WeylTensor.from_metric(metric)\n",
    "#  weyl.tensor()"
   ]
  },
  {
   "cell_type": "code",
   "execution_count": 30,
   "id": "09b63ae0",
   "metadata": {},
   "outputs": [
    {
     "ename": "NameError",
     "evalue": "name 'Ric' is not defined",
     "output_type": "error",
     "traceback": [
      "\u001b[0;31m---------------------------------------------------------------------------\u001b[0m",
      "\u001b[0;31mNameError\u001b[0m                                 Traceback (most recent call last)",
      "\u001b[0;32m/var/folders/r6/p_thrggs57s55w7ct5svygzr0000gn/T/ipykernel_84382/1026481060.py\u001b[0m in \u001b[0;36m<module>\u001b[0;34m\u001b[0m\n\u001b[0;32m----> 1\u001b[0;31m \u001b[0mricciSimplified\u001b[0m \u001b[0;34m=\u001b[0m \u001b[0msimplify\u001b[0m\u001b[0;34m(\u001b[0m\u001b[0mRic\u001b[0m\u001b[0;34m.\u001b[0m\u001b[0mtensor\u001b[0m\u001b[0;34m(\u001b[0m\u001b[0;34m)\u001b[0m\u001b[0;34m)\u001b[0m\u001b[0;34m\u001b[0m\u001b[0;34m\u001b[0m\u001b[0m\n\u001b[0m\u001b[1;32m      2\u001b[0m \u001b[0mricciSimplified\u001b[0m\u001b[0;34m\u001b[0m\u001b[0;34m\u001b[0m\u001b[0m\n",
      "\u001b[0;31mNameError\u001b[0m: name 'Ric' is not defined"
     ]
    }
   ],
   "source": [
    "ricciSimplified = simplify(Ric.tensor())\n",
    "ricciSimplified"
   ]
  },
  {
   "cell_type": "code",
   "execution_count": null,
   "id": "1d2609d8",
   "metadata": {},
   "outputs": [],
   "source": [
    "einsteinSimplified = simplify(einst.tensor())\n",
    "einsteinSimplified"
   ]
  }
 ],
 "metadata": {
  "@webio": {
   "lastCommId": "623cfd2abbae4a4ea5fcc6cef53b6ef6",
   "lastKernelId": "142916d1-75fb-4c19-914e-330e396fca3c"
  },
  "kernelspec": {
   "display_name": "Python 3 (ipykernel)",
   "language": "python",
   "name": "python3"
  },
  "language_info": {
   "codemirror_mode": {
    "name": "ipython",
    "version": 3
   },
   "file_extension": ".py",
   "mimetype": "text/x-python",
   "name": "python",
   "nbconvert_exporter": "python",
   "pygments_lexer": "ipython3",
   "version": "3.8.8"
  }
 },
 "nbformat": 4,
 "nbformat_minor": 5
}
