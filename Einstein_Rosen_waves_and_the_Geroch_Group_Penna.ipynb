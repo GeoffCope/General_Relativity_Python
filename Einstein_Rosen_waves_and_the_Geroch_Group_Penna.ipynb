{
 "cells": [
  {
   "cell_type": "markdown",
   "id": "f021fd7f",
   "metadata": {},
   "source": [
    "# Einstein Rosen waves and the Geroch Group by Penna\n",
    "##  Geoff Cope\n",
    "##  Univeristy of Utah\n",
    "##  January 5th, 2022"
   ]
  },
  {
   "cell_type": "markdown",
   "id": "6fc8cb8b",
   "metadata": {},
   "source": [
    "There's a problem with separation of variables.... setting the X equation equal to the negative of k squared does give the right Bessel functions.  However, setting the Y equation equal to the positive of k squared gives exponentials not sin and cos.  So, until we find the mistake, we'll set the Y equation also equal to the negative of k squared to get the appropriate trig functions.  There's a minus sign wrong somewhere...find it."
   ]
  },
  {
   "cell_type": "markdown",
   "id": "b39b17f4",
   "metadata": {},
   "source": [
    "https://arxiv.org/abs/2106.13252"
   ]
  },
  {
   "cell_type": "code",
   "execution_count": 1,
   "id": "cb6665be",
   "metadata": {},
   "outputs": [
    {
     "name": "stdout",
     "output_type": "stream",
     "text": [
      "IPython console for SymPy 1.9 (Python 3.8.8-64-bit) (ground types: gmpy)\n",
      "\n",
      "These commands were executed:\n",
      ">>> from __future__ import division\n",
      ">>> from sympy import *\n",
      ">>> x, y, z, t = symbols('x y z t')\n",
      ">>> k, m, n = symbols('k m n', integer=True)\n",
      ">>> f, g, h = symbols('f g h', cls=Function)\n",
      ">>> init_printing()\n",
      "\n",
      "Documentation can be found at https://docs.sympy.org/1.9/\n",
      "\n"
     ]
    }
   ],
   "source": [
    "from sympy import init_session\n",
    "init_session(use_latex=True)"
   ]
  },
  {
   "cell_type": "code",
   "execution_count": 2,
   "id": "d1d6133f",
   "metadata": {},
   "outputs": [],
   "source": [
    "import warnings\n",
    "import matplotlib.cbook\n",
    "warnings.filterwarnings(\"ignore\",category=matplotlib.cbook.mplDeprecation)"
   ]
  },
  {
   "cell_type": "code",
   "execution_count": 3,
   "id": "b851134d",
   "metadata": {},
   "outputs": [],
   "source": [
    "t,rho,phi,z,dt,drho,dphi,dz = symbols('t rho phi z dt drho dphi dz')"
   ]
  },
  {
   "cell_type": "code",
   "execution_count": 4,
   "id": "a9a9c109",
   "metadata": {},
   "outputs": [
    {
     "data": {
      "image/png": "[encoded data removed]",
      "text/latex": [
       "$\\displaystyle \\gamma{\\left(\\rho,t \\right)}$"
      ],
      "text/plain": [
       "γ(ρ, t)"
      ]
     },
     "execution_count": 4,
     "metadata": {},
     "output_type": "execute_result"
    }
   ],
   "source": [
    "gamma = Function('gamma')(rho,t)\n",
    "gamma"
   ]
  },
  {
   "cell_type": "code",
   "execution_count": 5,
   "id": "af7c2d74",
   "metadata": {},
   "outputs": [
    {
     "data": {
      "image/png": "[encoded data removed]",
      "text/latex": [
       "$\\displaystyle \\psi{\\left(\\rho,t \\right)}$"
      ],
      "text/plain": [
       "ψ(ρ, t)"
      ]
     },
     "execution_count": 5,
     "metadata": {},
     "output_type": "execute_result"
    }
   ],
   "source": [
    "psi = Function('psi')(rho,t)\n",
    "psi"
   ]
  },
  {
   "cell_type": "code",
   "execution_count": 6,
   "id": "7dcdd964",
   "metadata": {},
   "outputs": [
    {
     "data": {
      "text/latex": [
       "$\\displaystyle \\left[\\begin{matrix}t\\\\\\rho\\\\\\phi\\\\z\\end{matrix}\\right]$"
      ],
      "text/plain": [
       "⎡t⎤\n",
       "⎢ ⎥\n",
       "⎢ρ⎥\n",
       "⎢ ⎥\n",
       "⎢φ⎥\n",
       "⎢ ⎥\n",
       "⎣z⎦"
      ]
     },
     "execution_count": 6,
     "metadata": {},
     "output_type": "execute_result"
    }
   ],
   "source": [
    "variables = Matrix( [t,rho,phi,z] )\n",
    "variables"
   ]
  },
  {
   "cell_type": "code",
   "execution_count": 7,
   "id": "d85e7fdd",
   "metadata": {},
   "outputs": [
    {
     "data": {
      "text/latex": [
       "$\\displaystyle \\left[\\begin{matrix}dt\\\\drho\\\\dphi\\\\dz\\end{matrix}\\right]$"
      ],
      "text/plain": [
       "⎡ dt ⎤\n",
       "⎢    ⎥\n",
       "⎢drho⎥\n",
       "⎢    ⎥\n",
       "⎢dphi⎥\n",
       "⎢    ⎥\n",
       "⎣ dz ⎦"
      ]
     },
     "execution_count": 7,
     "metadata": {},
     "output_type": "execute_result"
    }
   ],
   "source": [
    "differentials = Matrix( [dt,drho,dphi,dz] ) \n",
    "differentials"
   ]
  },
  {
   "cell_type": "code",
   "execution_count": 8,
   "id": "1afdc734",
   "metadata": {},
   "outputs": [
    {
     "data": {
      "image/png": "[encoded data removed]",
      "text/latex": [
       "$\\displaystyle dphi^{2} \\rho^{2} e^{- 2 \\psi{\\left(\\rho,t \\right)}} + drho^{2} e^{2 \\gamma{\\left(\\rho,t \\right)}} e^{- 2 \\psi{\\left(\\rho,t \\right)}} - dt^{2} e^{2 \\gamma{\\left(\\rho,t \\right)}} e^{- 2 \\psi{\\left(\\rho,t \\right)}} + dz^{2} e^{2 \\psi{\\left(\\rho,t \\right)}}$"
      ],
      "text/plain": [
       "    2  2  -2⋅ψ(ρ, t)       2  2⋅γ(ρ, t)  -2⋅ψ(ρ, t)     2  2⋅γ(ρ, t)  -2⋅ψ(ρ, t)     2  2⋅ψ(ρ, t)\n",
       "dphi ⋅ρ ⋅ℯ           + drho ⋅ℯ         ⋅ℯ           - dt ⋅ℯ         ⋅ℯ           + dz ⋅ℯ         "
      ]
     },
     "execution_count": 8,
     "metadata": {},
     "output_type": "execute_result"
    }
   ],
   "source": [
    "lineElement = expand(exp(2*(gamma-psi))*( - dt**2 + drho**2 ) + exp(-2*psi)*rho**2*dphi**2 + exp(2*psi)*dz**2) \n",
    "lineElement"
   ]
  },
  {
   "cell_type": "code",
   "execution_count": 9,
   "id": "811b29e9",
   "metadata": {},
   "outputs": [
    {
     "data": {
      "text/latex": [
       "$\\displaystyle \\left[\\begin{matrix}- e^{2 \\gamma{\\left(\\rho,t \\right)}} e^{- 2 \\psi{\\left(\\rho,t \\right)}} & 0 & 0 & 0\\\\0 & e^{2 \\gamma{\\left(\\rho,t \\right)}} e^{- 2 \\psi{\\left(\\rho,t \\right)}} & 0 & 0\\\\0 & 0 & \\rho^{2} e^{- 2 \\psi{\\left(\\rho,t \\right)}} & 0\\\\0 & 0 & 0 & e^{2 \\psi{\\left(\\rho,t \\right)}}\\end{matrix}\\right]$"
      ],
      "text/plain": [
       "⎡  2⋅γ(ρ, t)  -2⋅ψ(ρ, t)                                                    ⎤\n",
       "⎢-ℯ         ⋅ℯ                      0                   0             0     ⎥\n",
       "⎢                                                                           ⎥\n",
       "⎢                          2⋅γ(ρ, t)  -2⋅ψ(ρ, t)                            ⎥\n",
       "⎢           0             ℯ         ⋅ℯ                  0             0     ⎥\n",
       "⎢                                                                           ⎥\n",
       "⎢                                                  2  -2⋅ψ(ρ, t)            ⎥\n",
       "⎢           0                       0             ρ ⋅ℯ                0     ⎥\n",
       "⎢                                                                           ⎥\n",
       "⎢                                                                  2⋅ψ(ρ, t)⎥\n",
       "⎣           0                       0                   0         ℯ         ⎦"
      ]
     },
     "execution_count": 9,
     "metadata": {},
     "output_type": "execute_result"
    }
   ],
   "source": [
    "g = zeros(4)\n",
    "\n",
    "for i in range(4):\n",
    "    for j in range(4):\n",
    "        if i == j:\n",
    "            g[i,j] = lineElement.coeff( differentials[i],2 ) \n",
    "        else:\n",
    "            g[i,j] = Rational(1,2)*lineElement.coeff( differentials[i]*differentials[j],1 )\n",
    "            \n",
    "g"
   ]
  },
  {
   "cell_type": "code",
   "execution_count": 10,
   "id": "3cb999c4",
   "metadata": {},
   "outputs": [],
   "source": [
    "import sympy"
   ]
  },
  {
   "cell_type": "code",
   "execution_count": 11,
   "id": "b2c4730c",
   "metadata": {},
   "outputs": [
    {
     "data": {
      "text/latex": [
       "$\\displaystyle \\left[\\begin{matrix}- e^{2 \\gamma{\\left(\\rho,t \\right)}} e^{- 2 \\psi{\\left(\\rho,t \\right)}} & 0 & 0 & 0\\\\0 & e^{2 \\gamma{\\left(\\rho,t \\right)}} e^{- 2 \\psi{\\left(\\rho,t \\right)}} & 0 & 0\\\\0 & 0 & \\rho^{2} e^{- 2 \\psi{\\left(\\rho,t \\right)}} & 0\\\\0 & 0 & 0 & e^{2 \\psi{\\left(\\rho,t \\right)}}\\end{matrix}\\right]$"
      ],
      "text/plain": [
       "⎡  2⋅γ(ρ, t)  -2⋅ψ(ρ, t)                                                    ⎤\n",
       "⎢-ℯ         ⋅ℯ                      0                   0             0     ⎥\n",
       "⎢                                                                           ⎥\n",
       "⎢                          2⋅γ(ρ, t)  -2⋅ψ(ρ, t)                            ⎥\n",
       "⎢           0             ℯ         ⋅ℯ                  0             0     ⎥\n",
       "⎢                                                                           ⎥\n",
       "⎢                                                  2  -2⋅ψ(ρ, t)            ⎥\n",
       "⎢           0                       0             ρ ⋅ℯ                0     ⎥\n",
       "⎢                                                                           ⎥\n",
       "⎢                                                                  2⋅ψ(ρ, t)⎥\n",
       "⎣           0                       0                   0         ℯ         ⎦"
      ]
     },
     "execution_count": 11,
     "metadata": {},
     "output_type": "execute_result"
    }
   ],
   "source": [
    "m = sympy.Array(g)\n",
    "m"
   ]
  },
  {
   "cell_type": "code",
   "execution_count": 12,
   "id": "fc5c64cb",
   "metadata": {},
   "outputs": [],
   "source": [
    "from einsteinpy.symbolic import *"
   ]
  },
  {
   "cell_type": "code",
   "execution_count": 13,
   "id": "cd5969e9",
   "metadata": {},
   "outputs": [],
   "source": [
    "syms = sympy.symbols(\"t rho phi z\")\n",
    "t,rho,phi,z = syms"
   ]
  },
  {
   "cell_type": "code",
   "execution_count": 14,
   "id": "e19299c6",
   "metadata": {},
   "outputs": [],
   "source": [
    "metric = MetricTensor(m,syms)"
   ]
  },
  {
   "cell_type": "code",
   "execution_count": 15,
   "id": "3efa26ce",
   "metadata": {},
   "outputs": [
    {
     "data": {
      "text/latex": [
       "$\\displaystyle \\left[\\begin{matrix}\\left[\\begin{matrix}\\frac{\\partial}{\\partial t} \\gamma{\\left(\\rho,t \\right)} - \\frac{\\partial}{\\partial t} \\psi{\\left(\\rho,t \\right)} & \\frac{\\partial}{\\partial \\rho} \\gamma{\\left(\\rho,t \\right)} - \\frac{\\partial}{\\partial \\rho} \\psi{\\left(\\rho,t \\right)} & 0 & 0\\\\\\frac{\\partial}{\\partial \\rho} \\gamma{\\left(\\rho,t \\right)} - \\frac{\\partial}{\\partial \\rho} \\psi{\\left(\\rho,t \\right)} & \\frac{\\partial}{\\partial t} \\gamma{\\left(\\rho,t \\right)} - \\frac{\\partial}{\\partial t} \\psi{\\left(\\rho,t \\right)} & 0 & 0\\\\0 & 0 & - \\rho^{2} e^{- 2 \\gamma{\\left(\\rho,t \\right)}} \\frac{\\partial}{\\partial t} \\psi{\\left(\\rho,t \\right)} & 0\\\\0 & 0 & 0 & e^{- 2 \\gamma{\\left(\\rho,t \\right)} + 4 \\psi{\\left(\\rho,t \\right)}} \\frac{\\partial}{\\partial t} \\psi{\\left(\\rho,t \\right)}\\end{matrix}\\right] & \\left[\\begin{matrix}\\frac{\\partial}{\\partial \\rho} \\gamma{\\left(\\rho,t \\right)} - \\frac{\\partial}{\\partial \\rho} \\psi{\\left(\\rho,t \\right)} & \\frac{\\partial}{\\partial t} \\gamma{\\left(\\rho,t \\right)} - \\frac{\\partial}{\\partial t} \\psi{\\left(\\rho,t \\right)} & 0 & 0\\\\\\frac{\\partial}{\\partial t} \\gamma{\\left(\\rho,t \\right)} - \\frac{\\partial}{\\partial t} \\psi{\\left(\\rho,t \\right)} & \\frac{\\partial}{\\partial \\rho} \\gamma{\\left(\\rho,t \\right)} - \\frac{\\partial}{\\partial \\rho} \\psi{\\left(\\rho,t \\right)} & 0 & 0\\\\0 & 0 & \\rho \\left(\\rho \\frac{\\partial}{\\partial \\rho} \\psi{\\left(\\rho,t \\right)} - 1\\right) e^{- 2 \\gamma{\\left(\\rho,t \\right)}} & 0\\\\0 & 0 & 0 & - e^{- 2 \\gamma{\\left(\\rho,t \\right)} + 4 \\psi{\\left(\\rho,t \\right)}} \\frac{\\partial}{\\partial \\rho} \\psi{\\left(\\rho,t \\right)}\\end{matrix}\\right] & \\left[\\begin{matrix}0 & 0 & - \\frac{\\partial}{\\partial t} \\psi{\\left(\\rho,t \\right)} & 0\\\\0 & 0 & - \\frac{\\partial}{\\partial \\rho} \\psi{\\left(\\rho,t \\right)} + \\frac{1}{\\rho} & 0\\\\- \\frac{\\partial}{\\partial t} \\psi{\\left(\\rho,t \\right)} & - \\frac{\\partial}{\\partial \\rho} \\psi{\\left(\\rho,t \\right)} + \\frac{1}{\\rho} & 0 & 0\\\\0 & 0 & 0 & 0\\end{matrix}\\right] & \\left[\\begin{matrix}0 & 0 & 0 & \\frac{\\partial}{\\partial t} \\psi{\\left(\\rho,t \\right)}\\\\0 & 0 & 0 & \\frac{\\partial}{\\partial \\rho} \\psi{\\left(\\rho,t \\right)}\\\\0 & 0 & 0 & 0\\\\\\frac{\\partial}{\\partial t} \\psi{\\left(\\rho,t \\right)} & \\frac{\\partial}{\\partial \\rho} \\psi{\\left(\\rho,t \\right)} & 0 & 0\\end{matrix}\\right]\\end{matrix}\\right]$"
      ],
      "text/plain": [
       "⎡⎡∂             ∂            ∂             ∂                                                                            ⎤  ⎡∂            \n",
       "⎢⎢──(γ(ρ, t)) - ──(ψ(ρ, t))  ──(γ(ρ, t)) - ──(ψ(ρ, t))               0                                0                 ⎥  ⎢──(γ(ρ, t)) -\n",
       "⎢⎢∂t            ∂t           ∂ρ            ∂ρ                                                                           ⎥  ⎢∂ρ           \n",
       "⎢⎢                                                                                                                      ⎥  ⎢             \n",
       "⎢⎢∂             ∂            ∂             ∂                                                                            ⎥  ⎢∂            \n",
       "⎢⎢──(γ(ρ, t)) - ──(ψ(ρ, t))  ──(γ(ρ, t)) - ──(ψ(ρ, t))               0                                0                 ⎥  ⎢──(γ(ρ, t)) -\n",
       "⎢⎢∂ρ            ∂ρ           ∂t            ∂t                                                                           ⎥  ⎢∂t           \n",
       "⎢⎢                                                                                                                      ⎥  ⎢             \n",
       "⎢⎢                                                        2  -2⋅γ(ρ, t) ∂                                               ⎥  ⎢             \n",
       "⎢⎢            0                          0              -ρ ⋅ℯ          ⋅──(ψ(ρ, t))                   0                 ⎥  ⎢            0\n",
       "⎢⎢                                                                      ∂t                                              ⎥  ⎢             \n",
       "⎢⎢                                                                                                                      ⎥  ⎢             \n",
       "⎢⎢                                                                                    -2⋅γ(ρ, t) + 4⋅ψ(ρ, t) ∂          ⎥  ⎢             \n",
       "⎢⎢            0                          0                           0               ℯ                      ⋅──(ψ(ρ, t))⎥  ⎢            0\n",
       "⎣⎣                                                                                                           ∂t         ⎦  ⎣             \n",
       "\n",
       " ∂            ∂             ∂                                                                                   ⎤                        \n",
       " ──(ψ(ρ, t))  ──(γ(ρ, t)) - ──(ψ(ρ, t))                  0                                   0                  ⎥  ⎡                     \n",
       " ∂ρ           ∂t            ∂t                                                                                  ⎥  ⎢     0               \n",
       "                                                                                                                ⎥  ⎢                     \n",
       " ∂            ∂             ∂                                                                                   ⎥  ⎢                     \n",
       " ──(ψ(ρ, t))  ──(γ(ρ, t)) - ──(ψ(ρ, t))                  0                                   0                  ⎥  ⎢                     \n",
       " ∂t           ∂ρ            ∂ρ                                                                                  ⎥  ⎢     0               \n",
       "                                                                                                                ⎥  ⎢                     \n",
       "                                           ⎛  ∂              ⎞  -2⋅γ(ρ, t)                                      ⎥  ⎢                     \n",
       "                          0              ρ⋅⎜ρ⋅──(ψ(ρ, t)) - 1⎟⋅ℯ                             0                  ⎥  ⎢ ∂              ∂    \n",
       "                                           ⎝  ∂ρ             ⎠                                                  ⎥  ⎢-──(ψ(ρ, t))  - ──(ψ(\n",
       "                                                                                                                ⎥  ⎢ ∂t             ∂ρ   \n",
       "                                                                              -2⋅γ(ρ, t) + 4⋅ψ(ρ, t) ∂          ⎥  ⎢                     \n",
       "                          0                              0                  -ℯ                      ⋅──(ψ(ρ, t))⎥  ⎣     0               \n",
       "                                                                                                     ∂ρ         ⎦                        \n",
       "\n",
       "                                                                             ⎤\n",
       "               ∂                ⎤  ⎡                             ∂          ⎤⎥\n",
       " 0            -──(ψ(ρ, t))     0⎥  ⎢     0            0       0  ──(ψ(ρ, t))⎥⎥\n",
       "               ∂t               ⎥  ⎢                             ∂t         ⎥⎥\n",
       "                                ⎥  ⎢                                        ⎥⎥\n",
       "              ∂             1   ⎥  ⎢                             ∂          ⎥⎥\n",
       " 0          - ──(ψ(ρ, t)) + ─  0⎥  ⎢     0            0       0  ──(ψ(ρ, t))⎥⎥\n",
       "              ∂ρ            ρ   ⎥  ⎢                             ∂ρ         ⎥⎥\n",
       "                                ⎥  ⎢                                        ⎥⎥\n",
       "         1                      ⎥  ⎢     0            0       0       0     ⎥⎥\n",
       "ρ, t)) + ─          0          0⎥  ⎢                                        ⎥⎥\n",
       "         ρ                      ⎥  ⎢∂            ∂                          ⎥⎥\n",
       "                                ⎥  ⎢──(ψ(ρ, t))  ──(ψ(ρ, t))  0       0     ⎥⎥\n",
       " 0                  0          0⎦  ⎣∂t           ∂ρ                         ⎦⎥\n",
       "                                                                             ⎦"
      ]
     },
     "execution_count": 15,
     "metadata": {},
     "output_type": "execute_result"
    }
   ],
   "source": [
    "ch = ChristoffelSymbols.from_metric(metric)\n",
    "simplify(ch.tensor())"
   ]
  },
  {
   "cell_type": "code",
   "execution_count": 16,
   "id": "b975e859",
   "metadata": {
    "scrolled": true
   },
   "outputs": [
    {
     "data": {
      "text/latex": [
       "$\\displaystyle \\left[\\begin{matrix}\\frac{\\rho \\left(\\frac{\\partial^{2}}{\\partial \\rho^{2}} \\gamma{\\left(\\rho,t \\right)} - \\frac{\\partial^{2}}{\\partial t^{2}} \\gamma{\\left(\\rho,t \\right)} - \\frac{\\partial^{2}}{\\partial \\rho^{2}} \\psi{\\left(\\rho,t \\right)} - 2 \\left(\\frac{\\partial}{\\partial t} \\psi{\\left(\\rho,t \\right)}\\right)^{2} + \\frac{\\partial^{2}}{\\partial t^{2}} \\psi{\\left(\\rho,t \\right)}\\right) + \\frac{\\partial}{\\partial \\rho} \\gamma{\\left(\\rho,t \\right)} - \\frac{\\partial}{\\partial \\rho} \\psi{\\left(\\rho,t \\right)}}{\\rho} & - 2 \\frac{\\partial}{\\partial \\rho} \\psi{\\left(\\rho,t \\right)} \\frac{\\partial}{\\partial t} \\psi{\\left(\\rho,t \\right)} + \\frac{\\frac{\\partial}{\\partial t} \\gamma{\\left(\\rho,t \\right)}}{\\rho} & 0 & 0\\\\- 2 \\frac{\\partial}{\\partial \\rho} \\psi{\\left(\\rho,t \\right)} \\frac{\\partial}{\\partial t} \\psi{\\left(\\rho,t \\right)} + \\frac{\\frac{\\partial}{\\partial t} \\gamma{\\left(\\rho,t \\right)}}{\\rho} & \\frac{\\rho \\left(- \\frac{\\partial^{2}}{\\partial \\rho^{2}} \\gamma{\\left(\\rho,t \\right)} + \\frac{\\partial^{2}}{\\partial t^{2}} \\gamma{\\left(\\rho,t \\right)} - 2 \\left(\\frac{\\partial}{\\partial \\rho} \\psi{\\left(\\rho,t \\right)}\\right)^{2} + \\frac{\\partial^{2}}{\\partial \\rho^{2}} \\psi{\\left(\\rho,t \\right)} - \\frac{\\partial^{2}}{\\partial t^{2}} \\psi{\\left(\\rho,t \\right)}\\right) + \\frac{\\partial}{\\partial \\rho} \\gamma{\\left(\\rho,t \\right)} + \\frac{\\partial}{\\partial \\rho} \\psi{\\left(\\rho,t \\right)}}{\\rho} & 0 & 0\\\\0 & 0 & \\rho \\left(\\rho \\frac{\\partial^{2}}{\\partial \\rho^{2}} \\psi{\\left(\\rho,t \\right)} - \\rho \\frac{\\partial^{2}}{\\partial t^{2}} \\psi{\\left(\\rho,t \\right)} + \\frac{\\partial}{\\partial \\rho} \\psi{\\left(\\rho,t \\right)}\\right) e^{- 2 \\gamma{\\left(\\rho,t \\right)}} & 0\\\\0 & 0 & 0 & \\frac{\\left(- \\rho \\frac{\\partial^{2}}{\\partial \\rho^{2}} \\psi{\\left(\\rho,t \\right)} + \\rho \\frac{\\partial^{2}}{\\partial t^{2}} \\psi{\\left(\\rho,t \\right)} - \\frac{\\partial}{\\partial \\rho} \\psi{\\left(\\rho,t \\right)}\\right) e^{- 2 \\gamma{\\left(\\rho,t \\right)} + 4 \\psi{\\left(\\rho,t \\right)}}}{\\rho}\\end{matrix}\\right]$"
      ],
      "text/plain": [
       "⎡  ⎛  2              2              2                           2     2         ⎞                                                        \n",
       "⎢  ⎜ ∂              ∂              ∂               ⎛∂          ⎞     ∂          ⎟   ∂             ∂                                      \n",
       "⎢ρ⋅⎜───(γ(ρ, t)) - ───(γ(ρ, t)) - ───(ψ(ρ, t)) - 2⋅⎜──(ψ(ρ, t))⎟  + ───(ψ(ρ, t))⎟ + ──(γ(ρ, t)) - ──(ψ(ρ, t))                            \n",
       "⎢  ⎜  2              2              2              ⎝∂t         ⎠      2         ⎟   ∂ρ            ∂ρ                                     \n",
       "⎢  ⎝∂ρ             ∂t             ∂ρ                                ∂t          ⎠                                                        \n",
       "⎢────────────────────────────────────────────────────────────────────────────────────────────────────────────                            \n",
       "⎢                                                     ρ                                                                                  \n",
       "⎢                                                                                                                                        \n",
       "⎢                                                                                                                ⎛    2              2   \n",
       "⎢                                                                                                                ⎜   ∂              ∂    \n",
       "⎢                                                               ∂                                              ρ⋅⎜- ───(γ(ρ, t)) + ───(γ(\n",
       "⎢                                                               ──(γ(ρ, t))                                      ⎜    2              2   \n",
       "⎢                                     ∂           ∂             ∂t                                               ⎝  ∂ρ             ∂t    \n",
       "⎢                                 - 2⋅──(ψ(ρ, t))⋅──(ψ(ρ, t)) + ───────────                                    ──────────────────────────\n",
       "⎢                                     ∂ρ          ∂t                 ρ                                                                   \n",
       "⎢                                                                                                                                        \n",
       "⎢                                                                                                                                        \n",
       "⎢                                                                                                                                        \n",
       "⎢                                                     0                                                                                  \n",
       "⎢                                                                                                                                        \n",
       "⎢                                                                                                                                        \n",
       "⎢                                                                                                                                        \n",
       "⎢                                                                                                                                        \n",
       "⎢                                                                                                                                        \n",
       "⎢                                                                                                                                        \n",
       "⎢                                                                                                                                        \n",
       "⎢                                                                                                                                        \n",
       "⎢                                                     0                                                                                  \n",
       "⎣                                                                                                                                        \n",
       "\n",
       "                                                                                                                                         \n",
       "                                                                                                                                         \n",
       "                                      ∂                                                                                                  \n",
       "                                      ──(γ(ρ, t))                                                                                        \n",
       "            ∂           ∂             ∂t                                                                                                 \n",
       "        - 2⋅──(ψ(ρ, t))⋅──(ψ(ρ, t)) + ───────────                                                                   0                    \n",
       "            ∂ρ          ∂t                 ρ                                                                                             \n",
       "                                                                                                                                         \n",
       "                        2     2              2         ⎞                                                                                 \n",
       "           ⎛∂          ⎞     ∂              ∂          ⎟   ∂             ∂                                                               \n",
       "ρ, t)) - 2⋅⎜──(ψ(ρ, t))⎟  + ───(ψ(ρ, t)) - ───(ψ(ρ, t))⎟ + ──(γ(ρ, t)) + ──(ψ(ρ, t))                                                     \n",
       "           ⎝∂ρ         ⎠      2              2         ⎟   ∂ρ            ∂ρ                                                              \n",
       "                            ∂ρ             ∂t          ⎠                                                                                 \n",
       "────────────────────────────────────────────────────────────────────────────────────                                0                    \n",
       "                            ρ                                                                                                            \n",
       "                                                                                                                                         \n",
       "                                                                                        ⎛    2                2                       ⎞  \n",
       "                                                                                        ⎜   ∂                ∂             ∂          ⎟  \n",
       "                            0                                                         ρ⋅⎜ρ⋅───(ψ(ρ, t)) - ρ⋅───(ψ(ρ, t)) + ──(ψ(ρ, t))⎟⋅ℯ\n",
       "                                                                                        ⎜    2                2            ∂ρ         ⎟  \n",
       "                                                                                        ⎝  ∂ρ               ∂t                        ⎠  \n",
       "                                                                                                                                         \n",
       "                                                                                                                                         \n",
       "                                                                                                                                         \n",
       "                                                                                                                                         \n",
       "                                                                                                                                         \n",
       "                                                                                                                                         \n",
       "                            0                                                                                       0                    \n",
       "                                                                                                                                         \n",
       "\n",
       "                                                                                     ⎤\n",
       "                                                                                     ⎥\n",
       "                                                                                     ⎥\n",
       "                                                                                     ⎥\n",
       "                                                                                     ⎥\n",
       "                                                0                                    ⎥\n",
       "                                                                                     ⎥\n",
       "                                                                                     ⎥\n",
       "                                                                                     ⎥\n",
       "                                                                                     ⎥\n",
       "                                                                                     ⎥\n",
       "                                                                                     ⎥\n",
       "                                                                                     ⎥\n",
       "                                                0                                    ⎥\n",
       "                                                                                     ⎥\n",
       "                                                                                     ⎥\n",
       "                                                                                     ⎥\n",
       "-2⋅γ(ρ, t)                                                                           ⎥\n",
       "                                                0                                    ⎥\n",
       "                                                                                     ⎥\n",
       "                                                                                     ⎥\n",
       "                                                                                     ⎥\n",
       "            ⎛      2                2                       ⎞                        ⎥\n",
       "            ⎜     ∂                ∂             ∂          ⎟  -2⋅γ(ρ, t) + 4⋅ψ(ρ, t)⎥\n",
       "            ⎜- ρ⋅───(ψ(ρ, t)) + ρ⋅───(ψ(ρ, t)) - ──(ψ(ρ, t))⎟⋅ℯ                      ⎥\n",
       "            ⎜      2                2            ∂ρ         ⎟                        ⎥\n",
       "            ⎝    ∂ρ               ∂t                        ⎠                        ⎥\n",
       "            ─────────────────────────────────────────────────────────────────────────⎥\n",
       "                                                ρ                                    ⎦"
      ]
     },
     "execution_count": 16,
     "metadata": {},
     "output_type": "execute_result"
    }
   ],
   "source": [
    "Ric = RicciTensor.from_metric(metric)\n",
    "Ric.tensor()"
   ]
  },
  {
   "cell_type": "code",
   "execution_count": 17,
   "id": "538973fd",
   "metadata": {},
   "outputs": [
    {
     "data": {
      "image/png": "[encoded data removed]",
      "text/latex": [
       "$\\displaystyle \\frac{2 \\left(- \\rho \\frac{\\partial^{2}}{\\partial \\rho^{2}} \\gamma{\\left(\\rho,t \\right)} + \\rho \\frac{\\partial^{2}}{\\partial t^{2}} \\gamma{\\left(\\rho,t \\right)} - \\rho \\left(\\frac{\\partial}{\\partial \\rho} \\psi{\\left(\\rho,t \\right)}\\right)^{2} + \\rho \\frac{\\partial^{2}}{\\partial \\rho^{2}} \\psi{\\left(\\rho,t \\right)} + \\rho \\left(\\frac{\\partial}{\\partial t} \\psi{\\left(\\rho,t \\right)}\\right)^{2} - \\rho \\frac{\\partial^{2}}{\\partial t^{2}} \\psi{\\left(\\rho,t \\right)} + \\frac{\\partial}{\\partial \\rho} \\psi{\\left(\\rho,t \\right)}\\right) e^{- 2 \\gamma{\\left(\\rho,t \\right)} + 2 \\psi{\\left(\\rho,t \\right)}}}{\\rho}$"
      ],
      "text/plain": [
       "  ⎛      2                2                           2       2                           2       2                       ⎞              \n",
       "  ⎜     ∂                ∂               ⎛∂          ⎞       ∂               ⎛∂          ⎞       ∂             ∂          ⎟  -2⋅γ(ρ, t) +\n",
       "2⋅⎜- ρ⋅───(γ(ρ, t)) + ρ⋅───(γ(ρ, t)) - ρ⋅⎜──(ψ(ρ, t))⎟  + ρ⋅───(ψ(ρ, t)) + ρ⋅⎜──(ψ(ρ, t))⎟  - ρ⋅───(ψ(ρ, t)) + ──(ψ(ρ, t))⎟⋅ℯ            \n",
       "  ⎜      2                2              ⎝∂ρ         ⎠        2              ⎝∂t         ⎠        2            ∂ρ         ⎟              \n",
       "  ⎝    ∂ρ               ∂t                                  ∂ρ                                  ∂t                        ⎠              \n",
       "─────────────────────────────────────────────────────────────────────────────────────────────────────────────────────────────────────────\n",
       "                                                                         ρ                                                               \n",
       "\n",
       "          \n",
       " 2⋅ψ(ρ, t)\n",
       "          \n",
       "          \n",
       "          \n",
       "──────────\n",
       "          "
      ]
     },
     "execution_count": 17,
     "metadata": {},
     "output_type": "execute_result"
    }
   ],
   "source": [
    "R = RicciScalar.from_riccitensor(Ric)\n",
    "R.simplify()\n",
    "R.expr"
   ]
  },
  {
   "cell_type": "code",
   "execution_count": 18,
   "id": "55814d0c",
   "metadata": {},
   "outputs": [
    {
     "data": {
      "text/latex": [
       "$\\displaystyle \\left[\\begin{matrix}- 1.0 \\left(\\frac{\\partial}{\\partial \\rho} \\psi{\\left(\\rho,t \\right)}\\right)^{2} - 1.0 \\left(\\frac{\\partial}{\\partial t} \\psi{\\left(\\rho,t \\right)}\\right)^{2} + \\frac{1.0 \\frac{\\partial}{\\partial \\rho} \\gamma{\\left(\\rho,t \\right)}}{\\rho} & - 2 \\frac{\\partial}{\\partial \\rho} \\psi{\\left(\\rho,t \\right)} \\frac{\\partial}{\\partial t} \\psi{\\left(\\rho,t \\right)} + \\frac{\\frac{\\partial}{\\partial t} \\gamma{\\left(\\rho,t \\right)}}{\\rho} & 0 & 0\\\\- 2 \\frac{\\partial}{\\partial \\rho} \\psi{\\left(\\rho,t \\right)} \\frac{\\partial}{\\partial t} \\psi{\\left(\\rho,t \\right)} + \\frac{\\frac{\\partial}{\\partial t} \\gamma{\\left(\\rho,t \\right)}}{\\rho} & - 1.0 \\left(\\frac{\\partial}{\\partial \\rho} \\psi{\\left(\\rho,t \\right)}\\right)^{2} - 1.0 \\left(\\frac{\\partial}{\\partial t} \\psi{\\left(\\rho,t \\right)}\\right)^{2} + \\frac{1.0 \\frac{\\partial}{\\partial \\rho} \\gamma{\\left(\\rho,t \\right)}}{\\rho} & 0 & 0\\\\0 & 0 & 1.0 \\rho^{2} \\left(\\frac{\\partial^{2}}{\\partial \\rho^{2}} \\gamma{\\left(\\rho,t \\right)} - \\frac{\\partial^{2}}{\\partial t^{2}} \\gamma{\\left(\\rho,t \\right)} + \\left(\\frac{\\partial}{\\partial \\rho} \\psi{\\left(\\rho,t \\right)}\\right)^{2} - \\left(\\frac{\\partial}{\\partial t} \\psi{\\left(\\rho,t \\right)}\\right)^{2}\\right) e^{- 2 \\gamma{\\left(\\rho,t \\right)}} & 0\\\\0 & 0 & 0 & \\frac{\\left(1.0 \\rho \\frac{\\partial^{2}}{\\partial \\rho^{2}} \\gamma{\\left(\\rho,t \\right)} - 1.0 \\rho \\frac{\\partial^{2}}{\\partial t^{2}} \\gamma{\\left(\\rho,t \\right)} + 1.0 \\rho \\left(\\frac{\\partial}{\\partial \\rho} \\psi{\\left(\\rho,t \\right)}\\right)^{2} - 2.0 \\rho \\frac{\\partial^{2}}{\\partial \\rho^{2}} \\psi{\\left(\\rho,t \\right)} - 1.0 \\rho \\left(\\frac{\\partial}{\\partial t} \\psi{\\left(\\rho,t \\right)}\\right)^{2} + 2.0 \\rho \\frac{\\partial^{2}}{\\partial t^{2}} \\psi{\\left(\\rho,t \\right)} - 2.0 \\frac{\\partial}{\\partial \\rho} \\psi{\\left(\\rho,t \\right)}\\right) e^{- 2 \\gamma{\\left(\\rho,t \\right)} + 4 \\psi{\\left(\\rho,t \\right)}}}{\\rho}\\end{matrix}\\right]$"
      ],
      "text/plain": [
       "⎡                                        ∂                                               ∂                                               \n",
       "⎢               2                2   1.0⋅──(γ(ρ, t))                                     ──(γ(ρ, t))                                     \n",
       "⎢  ⎛∂          ⎞    ⎛∂          ⎞        ∂ρ                    ∂           ∂             ∂t                                              \n",
       "⎢- ⎜──(ψ(ρ, t))⎟  - ⎜──(ψ(ρ, t))⎟  + ───────────────       - 2⋅──(ψ(ρ, t))⋅──(ψ(ρ, t)) + ───────────                                     \n",
       "⎢  ⎝∂ρ         ⎠    ⎝∂t         ⎠           ρ                  ∂ρ          ∂t                 ρ                                          \n",
       "⎢                                                                                                                                        \n",
       "⎢                                   ∂                                                         ∂                                          \n",
       "⎢                                   ──(γ(ρ, t))                      2                2   1.0⋅──(γ(ρ, t))                                \n",
       "⎢         ∂           ∂             ∂t                  ⎛∂          ⎞    ⎛∂          ⎞        ∂ρ                                         \n",
       "⎢     - 2⋅──(ψ(ρ, t))⋅──(ψ(ρ, t)) + ───────────       - ⎜──(ψ(ρ, t))⎟  - ⎜──(ψ(ρ, t))⎟  + ───────────────                                \n",
       "⎢         ∂ρ          ∂t                 ρ              ⎝∂ρ         ⎠    ⎝∂t         ⎠           ρ                                       \n",
       "⎢                                                                                                                                        \n",
       "⎢                                                                                                                 ⎛  2              2    \n",
       "⎢                                                                                                               2 ⎜ ∂              ∂     \n",
       "⎢                         0                                                    0                           1.0⋅ρ ⋅⎜───(γ(ρ, t)) - ───(γ(ρ\n",
       "⎢                                                                                                                 ⎜  2              2    \n",
       "⎢                                                                                                                 ⎝∂ρ             ∂t     \n",
       "⎢                                                                                                                                        \n",
       "⎢                                                                                                                                        \n",
       "⎢                                                                                                                                        \n",
       "⎢                                                                                                                                        \n",
       "⎢                                                                                                                                        \n",
       "⎢                                                                                                                                        \n",
       "⎢                         0                                                    0                                                         \n",
       "⎣                                                                                                                                        \n",
       "\n",
       "                                                                                                                                         \n",
       "                                                                                                                                         \n",
       "                                                                                                                                         \n",
       "          0                                                                                                                            0 \n",
       "                                                                                                                                         \n",
       "                                                                                                                                         \n",
       "                                                                                                                                         \n",
       "                                                                                                                                         \n",
       "                                                                                                                                         \n",
       "          0                                                                                                                            0 \n",
       "                                                                                                                                         \n",
       "                                                                                                                                         \n",
       "                     2                2⎞                                                                                                 \n",
       "        ⎛∂          ⎞    ⎛∂          ⎞ ⎟  -2⋅γ(ρ, t)                                                                                     \n",
       ", t)) + ⎜──(ψ(ρ, t))⎟  - ⎜──(ψ(ρ, t))⎟ ⎟⋅ℯ                                                                                             0 \n",
       "        ⎝∂ρ         ⎠    ⎝∂t         ⎠ ⎟                                                                                                 \n",
       "                                       ⎠                                                                                                 \n",
       "                                                                                                                                         \n",
       "                                                      ⎛        2                2                               2           2            \n",
       "                                                      ⎜       ∂                ∂                   ⎛∂          ⎞           ∂             \n",
       "                                                      ⎜1.0⋅ρ⋅───(γ(ρ, t)) - ρ⋅───(γ(ρ, t)) + 1.0⋅ρ⋅⎜──(ψ(ρ, t))⎟  - 2.0⋅ρ⋅───(ψ(ρ, t)) - \n",
       "                                                      ⎜        2                2                  ⎝∂ρ         ⎠            2            \n",
       "                                                      ⎝      ∂ρ               ∂t                                          ∂ρ             \n",
       "          0                                           ───────────────────────────────────────────────────────────────────────────────────\n",
       "                                                                                                                                       ρ \n",
       "\n",
       "                                                                                ⎤\n",
       "                                                                                ⎥\n",
       "                                                                                ⎥\n",
       "                                                                                ⎥\n",
       "                                                                                ⎥\n",
       "                                                                                ⎥\n",
       "                                                                                ⎥\n",
       "                                                                                ⎥\n",
       "                                                                                ⎥\n",
       "                                                                                ⎥\n",
       "                                                                                ⎥\n",
       "                                                                                ⎥\n",
       "                                                                                ⎥\n",
       "                                                                                ⎥\n",
       "                                                                                ⎥\n",
       "                                                                                ⎥\n",
       "                                                                                ⎥\n",
       "                                                                                ⎥\n",
       "               2           2                           ⎞                        ⎥\n",
       "  ⎛∂          ⎞           ∂                 ∂          ⎟  -2⋅γ(ρ, t) + 4⋅ψ(ρ, t)⎥\n",
       "ρ⋅⎜──(ψ(ρ, t))⎟  + 2.0⋅ρ⋅───(ψ(ρ, t)) - 2.0⋅──(ψ(ρ, t))⎟⋅ℯ                      ⎥\n",
       "  ⎝∂t         ⎠            2                ∂ρ         ⎟                        ⎥\n",
       "                         ∂t                            ⎠                        ⎥\n",
       "────────────────────────────────────────────────────────────────────────────────⎥\n",
       "                                                                                ⎦"
      ]
     },
     "execution_count": 18,
     "metadata": {},
     "output_type": "execute_result"
    }
   ],
   "source": [
    "einst = EinsteinTensor.from_metric(metric)\n",
    "simplify(einst.tensor())"
   ]
  },
  {
   "cell_type": "code",
   "execution_count": 19,
   "id": "1936ea7e",
   "metadata": {},
   "outputs": [],
   "source": [
    "#  rm1 = RiemannCurvatureTensor.from_christoffels(ch)\n",
    "#  rm1.tensor()"
   ]
  },
  {
   "cell_type": "code",
   "execution_count": 20,
   "id": "bff2bfc4",
   "metadata": {},
   "outputs": [],
   "source": [
    "#  weyl = WeylTensor.from_metric(metric)\n",
    "#  weyl.tensor()"
   ]
  },
  {
   "cell_type": "code",
   "execution_count": 21,
   "id": "13226611",
   "metadata": {},
   "outputs": [
    {
     "data": {
      "image/png": "[encoded data removed]",
      "text/latex": [
       "$\\displaystyle - \\frac{\\partial^{2}}{\\partial \\rho^{2}} \\psi{\\left(\\rho,t \\right)} + \\frac{\\partial^{2}}{\\partial t^{2}} \\psi{\\left(\\rho,t \\right)} - \\frac{\\frac{\\partial}{\\partial \\rho} \\psi{\\left(\\rho,t \\right)}}{\\rho} = 0$"
      ],
      "text/plain": [
       "                                ∂              \n",
       "    2              2            ──(ψ(ρ, t))    \n",
       "   ∂              ∂             ∂ρ             \n",
       "- ───(ψ(ρ, t)) + ───(ψ(ρ, t)) - ─────────── = 0\n",
       "    2              2                 ρ         \n",
       "  ∂ρ             ∂t                            "
      ]
     },
     "execution_count": 21,
     "metadata": {},
     "output_type": "execute_result"
    }
   ],
   "source": [
    "bessel = Eq(expand((-1/rho)*Ric.tensor()[2,2].args[1]),0)\n",
    "bessel"
   ]
  },
  {
   "cell_type": "code",
   "execution_count": 22,
   "id": "c7d36e64",
   "metadata": {},
   "outputs": [
    {
     "data": {
      "image/png": "[encoded data removed]",
      "text/latex": [
       "$\\displaystyle \\frac{\\partial}{\\partial t} \\gamma{\\left(\\rho,t \\right)} = 2 \\rho \\frac{\\partial}{\\partial \\rho} \\psi{\\left(\\rho,t \\right)} \\frac{\\partial}{\\partial t} \\psi{\\left(\\rho,t \\right)}$"
      ],
      "text/plain": [
       "∂                 ∂           ∂          \n",
       "──(γ(ρ, t)) = 2⋅ρ⋅──(ψ(ρ, t))⋅──(ψ(ρ, t))\n",
       "∂t                ∂ρ          ∂t         "
      ]
     },
     "execution_count": 22,
     "metadata": {},
     "output_type": "execute_result"
    }
   ],
   "source": [
    "dgammadt = Eq( diff(gamma,t),solve( Ric.tensor()[1,0], diff(gamma,t) )[0] ) \n",
    "dgammadt "
   ]
  },
  {
   "cell_type": "code",
   "execution_count": 23,
   "id": "1e5deb71",
   "metadata": {},
   "outputs": [
    {
     "data": {
      "image/png": "[encoded data removed]",
      "text/latex": [
       "$\\displaystyle \\frac{\\partial}{\\partial \\rho} \\gamma{\\left(\\rho,t \\right)} = \\rho \\left(\\left(\\frac{\\partial}{\\partial \\rho} \\psi{\\left(\\rho,t \\right)}\\right)^{2} + \\left(\\frac{\\partial}{\\partial t} \\psi{\\left(\\rho,t \\right)}\\right)^{2}\\right)$"
      ],
      "text/plain": [
       "                ⎛             2                2⎞\n",
       "∂               ⎜⎛∂          ⎞    ⎛∂          ⎞ ⎟\n",
       "──(γ(ρ, t)) = ρ⋅⎜⎜──(ψ(ρ, t))⎟  + ⎜──(ψ(ρ, t))⎟ ⎟\n",
       "∂ρ              ⎝⎝∂ρ         ⎠    ⎝∂t         ⎠ ⎠"
      ]
     },
     "execution_count": 23,
     "metadata": {},
     "output_type": "execute_result"
    }
   ],
   "source": [
    "dgammadrho = Eq( diff(gamma,rho),solve( simplify(einst.tensor())[0,0], diff(gamma,rho) )[0] ) \n",
    "dgammadrho"
   ]
  },
  {
   "cell_type": "code",
   "execution_count": 25,
   "id": "6f093e1d",
   "metadata": {},
   "outputs": [
    {
     "data": {
      "text/latex": [
       "$\\displaystyle \\left[\\begin{matrix}- \\frac{\\partial^{2}}{\\partial \\rho^{2}} \\psi{\\left(\\rho,t \\right)} + \\frac{\\partial^{2}}{\\partial t^{2}} \\psi{\\left(\\rho,t \\right)} - \\frac{\\frac{\\partial}{\\partial \\rho} \\psi{\\left(\\rho,t \\right)}}{\\rho} = 0\\\\\\frac{\\partial}{\\partial t} \\gamma{\\left(\\rho,t \\right)} = 2 \\rho \\frac{\\partial}{\\partial \\rho} \\psi{\\left(\\rho,t \\right)} \\frac{\\partial}{\\partial t} \\psi{\\left(\\rho,t \\right)}\\\\\\frac{\\partial}{\\partial \\rho} \\gamma{\\left(\\rho,t \\right)} = \\rho \\left(\\left(\\frac{\\partial}{\\partial \\rho} \\psi{\\left(\\rho,t \\right)}\\right)^{2} + \\left(\\frac{\\partial}{\\partial t} \\psi{\\left(\\rho,t \\right)}\\right)^{2}\\right)\\end{matrix}\\right]$"
      ],
      "text/plain": [
       "⎡                                 ∂               ⎤\n",
       "⎢     2              2            ──(ψ(ρ, t))     ⎥\n",
       "⎢    ∂              ∂             ∂ρ              ⎥\n",
       "⎢ - ───(ψ(ρ, t)) + ───(ψ(ρ, t)) - ─────────── = 0 ⎥\n",
       "⎢     2              2                 ρ          ⎥\n",
       "⎢   ∂ρ             ∂t                             ⎥\n",
       "⎢                                                 ⎥\n",
       "⎢    ∂                 ∂           ∂              ⎥\n",
       "⎢    ──(γ(ρ, t)) = 2⋅ρ⋅──(ψ(ρ, t))⋅──(ψ(ρ, t))    ⎥\n",
       "⎢    ∂t                ∂ρ          ∂t             ⎥\n",
       "⎢                                                 ⎥\n",
       "⎢                ⎛             2                2⎞⎥\n",
       "⎢∂               ⎜⎛∂          ⎞    ⎛∂          ⎞ ⎟⎥\n",
       "⎢──(γ(ρ, t)) = ρ⋅⎜⎜──(ψ(ρ, t))⎟  + ⎜──(ψ(ρ, t))⎟ ⎟⎥\n",
       "⎣∂ρ              ⎝⎝∂ρ         ⎠    ⎝∂t         ⎠ ⎠⎦"
      ]
     },
     "execution_count": 25,
     "metadata": {},
     "output_type": "execute_result"
    }
   ],
   "source": [
    "vacuumFieldEquations = Matrix([bessel,dgammadt,dgammadrho])\n",
    "vacuumFieldEquations"
   ]
  },
  {
   "cell_type": "code",
   "execution_count": 26,
   "id": "6728960e",
   "metadata": {},
   "outputs": [],
   "source": [
    "X, Y = map(Function, 'XY')"
   ]
  },
  {
   "cell_type": "code",
   "execution_count": 27,
   "id": "aefca33a",
   "metadata": {},
   "outputs": [
    {
     "data": {
      "image/png": "[encoded data removed]",
      "text/latex": [
       "$\\displaystyle - \\frac{\\partial^{2}}{\\partial \\rho^{2}} \\psi{\\left(\\rho,t \\right)} + \\frac{\\partial^{2}}{\\partial t^{2}} \\psi{\\left(\\rho,t \\right)} - \\frac{\\frac{\\partial}{\\partial \\rho} \\psi{\\left(\\rho,t \\right)}}{\\rho} = 0$"
      ],
      "text/plain": [
       "                                ∂              \n",
       "    2              2            ──(ψ(ρ, t))    \n",
       "   ∂              ∂             ∂ρ             \n",
       "- ───(ψ(ρ, t)) + ───(ψ(ρ, t)) - ─────────── = 0\n",
       "    2              2                 ρ         \n",
       "  ∂ρ             ∂t                            "
      ]
     },
     "execution_count": 27,
     "metadata": {},
     "output_type": "execute_result"
    }
   ],
   "source": [
    "eq = vacuumFieldEquations[0]\n",
    "eq"
   ]
  },
  {
   "cell_type": "code",
   "execution_count": 40,
   "id": "fe62a6f3",
   "metadata": {},
   "outputs": [
    {
     "data": {
      "image/png": "[encoded data removed]",
      "text/latex": [
       "$\\displaystyle \\frac{\\frac{d^{2}}{d \\rho^{2}} X{\\left(\\rho \\right)}}{X{\\left(\\rho \\right)}} + \\frac{\\frac{d}{d \\rho} X{\\left(\\rho \\right)}}{\\rho X{\\left(\\rho \\right)}} = - k^{2}$"
      ],
      "text/plain": [
       "  2                       \n",
       " d                        \n",
       "───(X(ρ))   d             \n",
       "  2         ──(X(ρ))      \n",
       "dρ          dρ           2\n",
       "───────── + ──────── = -k \n",
       "   X(ρ)      ρ⋅X(ρ)       "
      ]
     },
     "execution_count": 40,
     "metadata": {},
     "output_type": "execute_result"
    }
   ],
   "source": [
    "xODE = Eq(pde_separate( eq, psi, [X(rho),Y(t)])[0] , -k**2 ) \n",
    "xODE"
   ]
  },
  {
   "cell_type": "code",
   "execution_count": 42,
   "id": "3d4f0d8b",
   "metadata": {},
   "outputs": [
    {
     "data": {
      "image/png": "[encoded data removed]",
      "text/latex": [
       "$\\displaystyle X{\\left(\\rho \\right)} = C_{1} J_{0}\\left(k \\rho\\right) + C_{2} Y_{0}\\left(k \\rho\\right)$"
      ],
      "text/plain": [
       "X(ρ) = C₁⋅besselj(0, k⋅ρ) + C₂⋅bessely(0, k⋅ρ)"
      ]
     },
     "execution_count": 42,
     "metadata": {},
     "output_type": "execute_result"
    }
   ],
   "source": [
    "xSolution = dsolve( xODE , X(rho))\n",
    "xSolution "
   ]
  },
  {
   "cell_type": "code",
   "execution_count": 43,
   "id": "91ec7391",
   "metadata": {},
   "outputs": [
    {
     "data": {
      "image/png": "[encoded data removed]",
      "text/latex": [
       "$\\displaystyle X{\\left(\\rho \\right)} = J_{0}\\left(k \\rho\\right)$"
      ],
      "text/plain": [
       "X(ρ) = besselj(0, k⋅ρ)"
      ]
     },
     "execution_count": 43,
     "metadata": {},
     "output_type": "execute_result"
    }
   ],
   "source": [
    "#  Here we arbitrarily set one of the Bessel functions equal to zero... fix this later\n",
    "xSolutionParticular = xSolution.subs(xSolution.args[1].args[0].args[0],1).subs(xSolution.args[1].args[1].args[0],0)\n",
    "xSolutionParticular"
   ]
  },
  {
   "cell_type": "code",
   "execution_count": 46,
   "id": "ca58a04e",
   "metadata": {},
   "outputs": [
    {
     "data": {
      "image/png": "[encoded data removed]",
      "text/latex": [
       "$\\displaystyle \\frac{\\frac{d^{2}}{d t^{2}} Y{\\left(t \\right)}}{Y{\\left(t \\right)}} = - k^{2}$"
      ],
      "text/plain": [
       "  2            \n",
       " d             \n",
       "───(Y(t))      \n",
       "  2            \n",
       "dt            2\n",
       "───────── = -k \n",
       "   Y(t)        "
      ]
     },
     "execution_count": 46,
     "metadata": {},
     "output_type": "execute_result"
    }
   ],
   "source": [
    "yODE = Eq( pde_separate( eq, psi, [X(rho),Y(t)])[1] ,  -k**2 ) \n",
    "yODE"
   ]
  },
  {
   "cell_type": "code",
   "execution_count": 47,
   "id": "9c74d04b",
   "metadata": {},
   "outputs": [
    {
     "data": {
      "image/png": "[encoded data removed]",
      "text/latex": [
       "$\\displaystyle Y{\\left(t \\right)} = C_{1} \\sin{\\left(t \\left|{k}\\right| \\right)} + C_{2} \\cos{\\left(k t \\right)}$"
      ],
      "text/plain": [
       "Y(t) = C₁⋅sin(t⋅│k│) + C₂⋅cos(k⋅t)"
      ]
     },
     "execution_count": 47,
     "metadata": {},
     "output_type": "execute_result"
    }
   ],
   "source": [
    "ySolution = dsolve( yODE , Y(t))\n",
    "ySolution "
   ]
  },
  {
   "cell_type": "code",
   "execution_count": 49,
   "id": "78f2cebc",
   "metadata": {},
   "outputs": [
    {
     "data": {
      "image/png": "[encoded data removed]",
      "text/latex": [
       "$\\displaystyle Y{\\left(t \\right)} = \\cos{\\left(k t \\right)}$"
      ],
      "text/plain": [
       "Y(t) = cos(k⋅t)"
      ]
     },
     "execution_count": 49,
     "metadata": {},
     "output_type": "execute_result"
    }
   ],
   "source": [
    "#  Here we arbitrarily set cos equal to zero... fix this later\n",
    "ySolutionParticular = ySolution.subs(ySolution.args[1].args[0].args[0],0).subs(ySolution.args[1].args[1].args[0],1)\n",
    "ySolutionParticular"
   ]
  },
  {
   "cell_type": "code",
   "execution_count": 52,
   "id": "a7e38825",
   "metadata": {},
   "outputs": [
    {
     "data": {
      "image/png": "[encoded data removed]",
      "text/latex": [
       "$\\displaystyle \\sum_{k=1}^{1} \\cos{\\left(k t \\right)} J_{0}\\left(k \\rho\\right)$"
      ],
      "text/plain": [
       "  1                           \n",
       " ___                          \n",
       " ╲                            \n",
       "  ╲                           \n",
       "  ╱   cos(k⋅t)⋅besselj(0, k⋅ρ)\n",
       " ╱                            \n",
       " ‾‾‾                          \n",
       "k = 1                         "
      ]
     },
     "execution_count": 52,
     "metadata": {},
     "output_type": "execute_result"
    }
   ],
   "source": [
    "#  It looks like they only keep the k is one term.... \n",
    "Sum( ( xSolutionParticular.args[1] * ySolutionParticular.args[1] ) ,(k,1,1) )"
   ]
  },
  {
   "cell_type": "code",
   "execution_count": 56,
   "id": "6c56fc79",
   "metadata": {},
   "outputs": [
    {
     "data": {
      "image/png": "[encoded data removed]",
      "text/latex": [
       "$\\displaystyle \\psi{\\left(\\rho,t \\right)} = \\cos{\\left(t \\right)} J_{0}\\left(\\rho\\right)$"
      ],
      "text/plain": [
       "ψ(ρ, t) = cos(t)⋅besselj(0, ρ)"
      ]
     },
     "execution_count": 56,
     "metadata": {},
     "output_type": "execute_result"
    }
   ],
   "source": [
    "equation2pt2 = Eq(psi, Sum( ( xSolutionParticular.args[1] * ySolutionParticular.args[1] ) ,(k,1,1) ).doit() ) \n",
    "equation2pt2"
   ]
  },
  {
   "cell_type": "code",
   "execution_count": 59,
   "id": "f06fef48",
   "metadata": {},
   "outputs": [
    {
     "data": {
      "image/png": "[encoded data removed]",
      "text/latex": [
       "$\\displaystyle \\frac{\\partial}{\\partial t} \\gamma{\\left(\\rho,t \\right)} = 2 \\rho \\frac{\\partial}{\\partial \\rho} \\cos{\\left(t \\right)} J_{0}\\left(\\rho\\right) \\frac{\\partial}{\\partial t} \\cos{\\left(t \\right)} J_{0}\\left(\\rho\\right)$"
      ],
      "text/plain": [
       "∂                 ∂                        ∂                       \n",
       "──(γ(ρ, t)) = 2⋅ρ⋅──(cos(t)⋅besselj(0, ρ))⋅──(cos(t)⋅besselj(0, ρ))\n",
       "∂t                ∂ρ                       ∂t                      "
      ]
     },
     "execution_count": 59,
     "metadata": {},
     "output_type": "execute_result"
    }
   ],
   "source": [
    "dgammadt = vacuumFieldEquations[1].subs(equation2pt2.args[0],equation2pt2.args[1] )\n",
    "dgammadt"
   ]
  },
  {
   "cell_type": "code",
   "execution_count": 60,
   "id": "060fdaea",
   "metadata": {},
   "outputs": [
    {
     "data": {
      "image/png": "[encoded data removed]",
      "text/latex": [
       "$\\displaystyle \\frac{\\partial}{\\partial t} \\gamma{\\left(\\rho,t \\right)} = 2 \\rho \\sin{\\left(t \\right)} \\cos{\\left(t \\right)} J_{0}\\left(\\rho\\right) J_{1}\\left(\\rho\\right)$"
      ],
      "text/plain": [
       "∂                                                          \n",
       "──(γ(ρ, t)) = 2⋅ρ⋅sin(t)⋅cos(t)⋅besselj(0, ρ)⋅besselj(1, ρ)\n",
       "∂t                                                         "
      ]
     },
     "execution_count": 60,
     "metadata": {},
     "output_type": "execute_result"
    }
   ],
   "source": [
    "dgammadt.doit()"
   ]
  },
  {
   "cell_type": "code",
   "execution_count": 61,
   "id": "df55ac39",
   "metadata": {},
   "outputs": [
    {
     "data": {
      "image/png": "[encoded data removed]",
      "text/latex": [
       "$\\displaystyle \\gamma{\\left(\\rho,t \\right)} = \\rho \\sin^{2}{\\left(t \\right)} J_{0}\\left(\\rho\\right) J_{1}\\left(\\rho\\right) + F{\\left(\\rho \\right)}$"
      ],
      "text/plain": [
       "               2                                      \n",
       "γ(ρ, t) = ρ⋅sin (t)⋅besselj(0, ρ)⋅besselj(1, ρ) + F(ρ)"
      ]
     },
     "execution_count": 61,
     "metadata": {},
     "output_type": "execute_result"
    }
   ],
   "source": [
    "#  For the appropriate choice of F(rho) this should be equivalent to equation 2.3 below \n",
    "integrateGammaWRTt = pdsolve( expand(dgammadt.doit()) )\n",
    "integrateGammaWRTt "
   ]
  },
  {
   "cell_type": "code",
   "execution_count": 62,
   "id": "696ea5f5",
   "metadata": {},
   "outputs": [
    {
     "data": {
      "image/png": "[encoded data removed]",
      "text/latex": [
       "$\\displaystyle \\frac{\\partial}{\\partial \\rho} \\gamma{\\left(\\rho,t \\right)} = \\rho \\left(\\left(\\frac{\\partial}{\\partial \\rho} \\cos{\\left(t \\right)} J_{0}\\left(\\rho\\right)\\right)^{2} + \\left(\\frac{\\partial}{\\partial t} \\cos{\\left(t \\right)} J_{0}\\left(\\rho\\right)\\right)^{2}\\right)$"
      ],
      "text/plain": [
       "                ⎛                          2                             2⎞\n",
       "∂               ⎜⎛∂                       ⎞    ⎛∂                       ⎞ ⎟\n",
       "──(γ(ρ, t)) = ρ⋅⎜⎜──(cos(t)⋅besselj(0, ρ))⎟  + ⎜──(cos(t)⋅besselj(0, ρ))⎟ ⎟\n",
       "∂ρ              ⎝⎝∂ρ                      ⎠    ⎝∂t                      ⎠ ⎠"
      ]
     },
     "execution_count": 62,
     "metadata": {},
     "output_type": "execute_result"
    }
   ],
   "source": [
    "dgammadrho = vacuumFieldEquations[2].subs(equation2pt2.args[0],equation2pt2.args[1] )\n",
    "dgammadrho"
   ]
  },
  {
   "cell_type": "code",
   "execution_count": 63,
   "id": "9caa27dc",
   "metadata": {},
   "outputs": [
    {
     "data": {
      "image/png": "[encoded data removed]",
      "text/latex": [
       "$\\displaystyle \\frac{\\partial}{\\partial \\rho} \\gamma{\\left(\\rho,t \\right)} = \\rho \\left(\\sin^{2}{\\left(t \\right)} J^{2}_{0}\\left(\\rho\\right) + \\cos^{2}{\\left(t \\right)} J^{2}_{1}\\left(\\rho\\right)\\right)$"
      ],
      "text/plain": [
       "∂               ⎛   2           2            2           2      ⎞\n",
       "──(γ(ρ, t)) = ρ⋅⎝sin (t)⋅besselj (0, ρ) + cos (t)⋅besselj (1, ρ)⎠\n",
       "∂ρ                                                               "
      ]
     },
     "execution_count": 63,
     "metadata": {},
     "output_type": "execute_result"
    }
   ],
   "source": [
    "dgammadrho.doit()"
   ]
  },
  {
   "cell_type": "code",
   "execution_count": 64,
   "id": "6a69b22b",
   "metadata": {},
   "outputs": [
    {
     "data": {
      "image/png": "[encoded data removed]",
      "text/latex": [
       "$\\displaystyle \\frac{\\partial}{\\partial \\rho} \\gamma{\\left(\\rho,t \\right)} = \\rho \\sin^{2}{\\left(t \\right)} J^{2}_{0}\\left(\\rho\\right) + \\rho \\cos^{2}{\\left(t \\right)} J^{2}_{1}\\left(\\rho\\right)$"
      ],
      "text/plain": [
       "∂                  2           2              2           2      \n",
       "──(γ(ρ, t)) = ρ⋅sin (t)⋅besselj (0, ρ) + ρ⋅cos (t)⋅besselj (1, ρ)\n",
       "∂ρ                                                               "
      ]
     },
     "execution_count": 64,
     "metadata": {},
     "output_type": "execute_result"
    }
   ],
   "source": [
    "expand(dgammadrho.doit())"
   ]
  },
  {
   "cell_type": "code",
   "execution_count": 65,
   "id": "aa219fe4",
   "metadata": {},
   "outputs": [
    {
     "data": {
      "image/png": "[encoded data removed]",
      "text/latex": [
       "$\\displaystyle \\gamma{\\left(\\rho,t \\right)} = \\frac{\\rho^{2} J^{2}_{0}\\left(\\rho\\right)}{2} + \\frac{\\rho^{2} J^{2}_{1}\\left(\\rho\\right)}{2} - \\rho \\cos^{2}{\\left(t \\right)} J_{0}\\left(\\rho\\right) J_{1}\\left(\\rho\\right) + F{\\left(- t \\right)}$"
      ],
      "text/plain": [
       "           2        2          2        2                                                      \n",
       "          ρ ⋅besselj (0, ρ)   ρ ⋅besselj (1, ρ)        2                                       \n",
       "γ(ρ, t) = ───────────────── + ───────────────── - ρ⋅cos (t)⋅besselj(0, ρ)⋅besselj(1, ρ) + F(-t)\n",
       "                  2                   2                                                        "
      ]
     },
     "execution_count": 65,
     "metadata": {},
     "output_type": "execute_result"
    }
   ],
   "source": [
    "integrateGammaWRTrho = pdsolve( expand(dgammadrho.doit()) )\n",
    "integrateGammaWRTrho"
   ]
  },
  {
   "cell_type": "code",
   "execution_count": 70,
   "id": "6c30b9c8",
   "metadata": {},
   "outputs": [
    {
     "data": {
      "image/png": "[encoded data removed]",
      "text/latex": [
       "$\\displaystyle \\gamma{\\left(\\rho,t \\right)} = \\frac{\\rho^{2} J^{2}_{0}\\left(\\rho\\right)}{2} + \\frac{\\rho^{2} J^{2}_{1}\\left(\\rho\\right)}{2} - \\rho \\cos^{2}{\\left(t \\right)} J_{0}\\left(\\rho\\right) J_{1}\\left(\\rho\\right)$"
      ],
      "text/plain": [
       "           2        2          2        2                                              \n",
       "          ρ ⋅besselj (0, ρ)   ρ ⋅besselj (1, ρ)        2                               \n",
       "γ(ρ, t) = ───────────────── + ───────────────── - ρ⋅cos (t)⋅besselj(0, ρ)⋅besselj(1, ρ)\n",
       "                  2                   2                                                "
      ]
     },
     "execution_count": 70,
     "metadata": {},
     "output_type": "execute_result"
    }
   ],
   "source": [
    "equation2pt3 = integrateGammaWRTrho.subs( integrateGammaWRTrho.args[1].args[3],0)\n",
    "equation2pt3"
   ]
  }
 ],
 "metadata": {
  "@webio": {
   "lastCommId": "2d5141c33f6b4da38c6a8d4679abdfd8",
   "lastKernelId": "799fbb7d-ad8b-4c27-ad69-b84eef6d8454"
  },
  "kernelspec": {
   "display_name": "Python 3 (ipykernel)",
   "language": "python",
   "name": "python3"
  },
  "language_info": {
   "codemirror_mode": {
    "name": "ipython",
    "version": 3
   },
   "file_extension": ".py",
   "mimetype": "text/x-python",
   "name": "python",
   "nbconvert_exporter": "python",
   "pygments_lexer": "ipython3",
   "version": "3.8.8"
  }
 },
 "nbformat": 4,
 "nbformat_minor": 5
}
