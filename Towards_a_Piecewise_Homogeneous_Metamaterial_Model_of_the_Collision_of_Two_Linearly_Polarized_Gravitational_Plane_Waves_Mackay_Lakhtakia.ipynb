{
 "cells": [
  {
   "cell_type": "markdown",
   "id": "bc86c915",
   "metadata": {},
   "source": [
    "# Towards a Piecewise-Homogeneous Metamaterial Model of the Collision of Two Linearly Polarized Gravitational Plane Waves by Mackay and Lakhtakia\n",
    "##  Geoff Cope\n",
    "##  Univeristy of Utah\n",
    "##  𐐏𐐭𐑌𐐲𐑂𐐲𐑉𐑅𐐮𐐻𐐨 𐐲𐑂 𐐏𐐭𐐻𐐫\n",
    "##  January 21, 2022"
   ]
  },
  {
   "cell_type": "markdown",
   "id": "d711aebb",
   "metadata": {},
   "source": [
    "https://arxiv.org/pdf/1408.0601.pdf"
   ]
  },
  {
   "cell_type": "code",
   "execution_count": 1,
   "id": "ed504e2e",
   "metadata": {},
   "outputs": [
    {
     "name": "stdout",
     "output_type": "stream",
     "text": [
      "IPython console for SymPy 1.9 (Python 3.8.8-64-bit) (ground types: gmpy)\n",
      "\n",
      "These commands were executed:\n",
      ">>> from __future__ import division\n",
      ">>> from sympy import *\n",
      ">>> x, y, z, t = symbols('x y z t')\n",
      ">>> k, m, n = symbols('k m n', integer=True)\n",
      ">>> f, g, h = symbols('f g h', cls=Function)\n",
      ">>> init_printing()\n",
      "\n",
      "Documentation can be found at https://docs.sympy.org/1.9/\n",
      "\n"
     ]
    }
   ],
   "source": [
    "from sympy import init_session\n",
    "init_session(use_latex=True)"
   ]
  },
  {
   "cell_type": "code",
   "execution_count": 2,
   "id": "28c428ff",
   "metadata": {},
   "outputs": [],
   "source": [
    "import warnings\n",
    "import matplotlib.cbook\n",
    "warnings.filterwarnings(\"ignore\",category=matplotlib.cbook.mplDeprecation)"
   ]
  },
  {
   "cell_type": "code",
   "execution_count": 12,
   "id": "a93ddc6a",
   "metadata": {},
   "outputs": [],
   "source": [
    "t,x,y,z,dt,dx,dy,dz,sigma = symbols('t x y z dt dx dy dz sigma')"
   ]
  },
  {
   "cell_type": "code",
   "execution_count": 4,
   "id": "1c4b66c1",
   "metadata": {},
   "outputs": [
    {
     "data": {
      "image/png": "[encoded data removed]",
      "text/latex": [
       "$\\displaystyle \\operatorname{F_{+}}{\\left(t \\right)}$"
      ],
      "text/plain": [
       "F₊(t)"
      ]
     },
     "execution_count": 4,
     "metadata": {},
     "output_type": "execute_result"
    }
   ],
   "source": [
    "Fp = Function('F_+')(t)\n",
    "Fp"
   ]
  },
  {
   "cell_type": "code",
   "execution_count": 13,
   "id": "e293b918",
   "metadata": {},
   "outputs": [
    {
     "data": {
      "image/png": "[encoded data removed]",
      "text/latex": [
       "$\\displaystyle \\operatorname{F_{+}}{\\left(t \\right)} = \\sigma \\sin{\\left(t \\right)} + 1$"
      ],
      "text/plain": [
       "F₊(t) = σ⋅sin(t) + 1"
      ]
     },
     "execution_count": 13,
     "metadata": {},
     "output_type": "execute_result"
    }
   ],
   "source": [
    "equation3a = Eq(Fp,1 + sigma * sin(t))\n",
    "equation3a"
   ]
  },
  {
   "cell_type": "code",
   "execution_count": 7,
   "id": "0a76c3b4",
   "metadata": {},
   "outputs": [
    {
     "data": {
      "image/png": "[encoded data removed]",
      "text/latex": [
       "$\\displaystyle \\operatorname{F_{-}}{\\left(t \\right)}$"
      ],
      "text/plain": [
       "F₋(t)"
      ]
     },
     "execution_count": 7,
     "metadata": {},
     "output_type": "execute_result"
    }
   ],
   "source": [
    "Fm = Function('F_-')(t)\n",
    "Fm"
   ]
  },
  {
   "cell_type": "code",
   "execution_count": 14,
   "id": "9bb5ffd9",
   "metadata": {},
   "outputs": [
    {
     "data": {
      "image/png": "[encoded data removed]",
      "text/latex": [
       "$\\displaystyle \\operatorname{F_{-}}{\\left(t \\right)} = - \\sigma \\sin{\\left(t \\right)} + 1$"
      ],
      "text/plain": [
       "F₋(t) = -σ⋅sin(t) + 1"
      ]
     },
     "execution_count": 14,
     "metadata": {},
     "output_type": "execute_result"
    }
   ],
   "source": [
    "equation3b = Eq(Fm,1 - sigma * sin(t))\n",
    "equation3b"
   ]
  },
  {
   "cell_type": "code",
   "execution_count": 8,
   "id": "e5beef3a",
   "metadata": {},
   "outputs": [
    {
     "data": {
      "text/latex": [
       "$\\displaystyle \\left[\\begin{matrix}t\\\\x\\\\y\\\\z\\end{matrix}\\right]$"
      ],
      "text/plain": [
       "⎡t⎤\n",
       "⎢ ⎥\n",
       "⎢x⎥\n",
       "⎢ ⎥\n",
       "⎢y⎥\n",
       "⎢ ⎥\n",
       "⎣z⎦"
      ]
     },
     "execution_count": 8,
     "metadata": {},
     "output_type": "execute_result"
    }
   ],
   "source": [
    "variables = Matrix([t,x,y,z])\n",
    "variables"
   ]
  },
  {
   "cell_type": "code",
   "execution_count": 9,
   "id": "5f00a198",
   "metadata": {},
   "outputs": [
    {
     "data": {
      "text/latex": [
       "$\\displaystyle \\left[\\begin{matrix}dt\\\\dx\\\\dy\\\\dz\\end{matrix}\\right]$"
      ],
      "text/plain": [
       "⎡dt⎤\n",
       "⎢  ⎥\n",
       "⎢dx⎥\n",
       "⎢  ⎥\n",
       "⎢dy⎥\n",
       "⎢  ⎥\n",
       "⎣dz⎦"
      ]
     },
     "execution_count": 9,
     "metadata": {},
     "output_type": "execute_result"
    }
   ],
   "source": [
    "differentials = Matrix([dt,dx,dy,dz])\n",
    "differentials "
   ]
  },
  {
   "cell_type": "code",
   "execution_count": 10,
   "id": "886d228e",
   "metadata": {},
   "outputs": [
    {
     "data": {
      "image/png": "[encoded data removed]",
      "text/latex": [
       "$\\displaystyle dt^{2} \\operatorname{F_{+}}^{2}{\\left(t \\right)} + \\frac{dx^{2} \\operatorname{F_{-}}{\\left(t \\right)}}{\\operatorname{F_{+}}{\\left(t \\right)}} + dy^{2} \\operatorname{F_{+}}^{2}{\\left(t \\right)} \\cos^{2}{\\left(z \\right)} - dz^{2} \\operatorname{F_{+}}^{2}{\\left(t \\right)}$"
      ],
      "text/plain": [
       "               2                                        \n",
       "  2   2      dx ⋅F₋(t)     2   2       2        2   2   \n",
       "dt ⋅F₊ (t) + ───────── + dy ⋅F₊ (t)⋅cos (z) - dz ⋅F₊ (t)\n",
       "               F₊(t)                                    "
      ]
     },
     "execution_count": 10,
     "metadata": {},
     "output_type": "execute_result"
    }
   ],
   "source": [
    "lineElement1 = expand( Fp**2 * (dt**2 - dz**2) +(Fm/Fp)*dx**2 + cos(z)**2 * Fp**2 * dy**2 )\n",
    "lineElement1"
   ]
  },
  {
   "cell_type": "code",
   "execution_count": 18,
   "id": "cfb77fcb",
   "metadata": {},
   "outputs": [
    {
     "data": {
      "image/png": "[encoded data removed]",
      "text/latex": [
       "$\\displaystyle dt^{2} \\left(\\sin{\\left(t \\right)} + 1\\right)^{2} + \\frac{dx^{2} \\left(1 - \\sin{\\left(t \\right)}\\right)}{\\sin{\\left(t \\right)} + 1} + dy^{2} \\left(\\sin{\\left(t \\right)} + 1\\right)^{2} \\cos^{2}{\\left(z \\right)} - dz^{2} \\left(\\sin{\\left(t \\right)} + 1\\right)^{2}$"
      ],
      "text/plain": [
       "                      2                                                             \n",
       "  2             2   dx ⋅(1 - sin(t))     2             2    2        2             2\n",
       "dt ⋅(sin(t) + 1)  + ──────────────── + dy ⋅(sin(t) + 1) ⋅cos (z) - dz ⋅(sin(t) + 1) \n",
       "                       sin(t) + 1                                                   "
      ]
     },
     "execution_count": 18,
     "metadata": {},
     "output_type": "execute_result"
    }
   ],
   "source": [
    "#  See description under equation 3 for the choice of sigma as plus one \n",
    "lineElement = lineElement1.subs(equation3a.lhs,equation3a.rhs).subs(equation3b.lhs,equation3b.rhs).subs(sigma,1)\n",
    "lineElement"
   ]
  },
  {
   "cell_type": "code",
   "execution_count": 19,
   "id": "9e24d828",
   "metadata": {},
   "outputs": [
    {
     "data": {
      "text/latex": [
       "$\\displaystyle \\left[\\begin{matrix}\\left(\\sin{\\left(t \\right)} + 1\\right)^{2} & 0 & 0 & 0\\\\0 & \\frac{1 - \\sin{\\left(t \\right)}}{\\sin{\\left(t \\right)} + 1} & 0 & 0\\\\0 & 0 & \\left(\\sin{\\left(t \\right)} + 1\\right)^{2} \\cos^{2}{\\left(z \\right)} & 0\\\\0 & 0 & 0 & - \\left(\\sin{\\left(t \\right)} + 1\\right)^{2}\\end{matrix}\\right]$"
      ],
      "text/plain": [
       "⎡            2                                                   ⎤\n",
       "⎢(sin(t) + 1)       0                 0                  0       ⎥\n",
       "⎢                                                                ⎥\n",
       "⎢               1 - sin(t)                                       ⎥\n",
       "⎢      0        ──────────            0                  0       ⎥\n",
       "⎢               sin(t) + 1                                       ⎥\n",
       "⎢                                                                ⎥\n",
       "⎢                                       2    2                   ⎥\n",
       "⎢      0            0       (sin(t) + 1) ⋅cos (z)        0       ⎥\n",
       "⎢                                                                ⎥\n",
       "⎢                                                               2⎥\n",
       "⎣      0            0                 0            -(sin(t) + 1) ⎦"
      ]
     },
     "execution_count": 19,
     "metadata": {},
     "output_type": "execute_result"
    }
   ],
   "source": [
    "g = zeros(4)\n",
    "\n",
    "for i in range(4):\n",
    "    for j in range(4):\n",
    "        if i == j:\n",
    "            g[i,j] = lineElement.coeff( differentials[i],2 ) \n",
    "        else:\n",
    "            g[i,j] = Rational(1,2)*lineElement.coeff( differentials[i]*differentials[j],1 )\n",
    "            \n",
    "g"
   ]
  },
  {
   "cell_type": "code",
   "execution_count": 20,
   "id": "301747d6",
   "metadata": {},
   "outputs": [],
   "source": [
    "import sympy"
   ]
  },
  {
   "cell_type": "code",
   "execution_count": 21,
   "id": "1a634c1f",
   "metadata": {},
   "outputs": [
    {
     "data": {
      "text/latex": [
       "$\\displaystyle \\left[\\begin{matrix}\\left(\\sin{\\left(t \\right)} + 1\\right)^{2} & 0 & 0 & 0\\\\0 & \\frac{1 - \\sin{\\left(t \\right)}}{\\sin{\\left(t \\right)} + 1} & 0 & 0\\\\0 & 0 & \\left(\\sin{\\left(t \\right)} + 1\\right)^{2} \\cos^{2}{\\left(z \\right)} & 0\\\\0 & 0 & 0 & - \\left(\\sin{\\left(t \\right)} + 1\\right)^{2}\\end{matrix}\\right]$"
      ],
      "text/plain": [
       "⎡            2                                                   ⎤\n",
       "⎢(sin(t) + 1)       0                 0                  0       ⎥\n",
       "⎢                                                                ⎥\n",
       "⎢               1 - sin(t)                                       ⎥\n",
       "⎢      0        ──────────            0                  0       ⎥\n",
       "⎢               sin(t) + 1                                       ⎥\n",
       "⎢                                                                ⎥\n",
       "⎢                                       2    2                   ⎥\n",
       "⎢      0            0       (sin(t) + 1) ⋅cos (z)        0       ⎥\n",
       "⎢                                                                ⎥\n",
       "⎢                                                               2⎥\n",
       "⎣      0            0                 0            -(sin(t) + 1) ⎦"
      ]
     },
     "execution_count": 21,
     "metadata": {},
     "output_type": "execute_result"
    }
   ],
   "source": [
    "m = sympy.Array(g)\n",
    "m"
   ]
  },
  {
   "cell_type": "code",
   "execution_count": 22,
   "id": "21fb6fe2",
   "metadata": {},
   "outputs": [],
   "source": [
    "from einsteinpy.symbolic import *"
   ]
  },
  {
   "cell_type": "code",
   "execution_count": 24,
   "id": "8d5d2f8b",
   "metadata": {},
   "outputs": [],
   "source": [
    "syms = sympy.symbols(\"t x y z\")\n",
    "t,x,y,z = syms"
   ]
  },
  {
   "cell_type": "code",
   "execution_count": 25,
   "id": "576eead8",
   "metadata": {},
   "outputs": [],
   "source": [
    "metric = MetricTensor(m,syms)"
   ]
  },
  {
   "cell_type": "code",
   "execution_count": 26,
   "id": "afc9e41e",
   "metadata": {},
   "outputs": [
    {
     "data": {
      "text/latex": [
       "$\\displaystyle \\left[\\begin{matrix}\\left[\\begin{matrix}\\frac{\\cos{\\left(t \\right)}}{\\sin{\\left(t \\right)} + 1} & 0 & 0 & 0\\\\0 & \\frac{\\cos{\\left(t \\right)}}{\\left(\\sin{\\left(t \\right)} + 1\\right)^{4}} & 0 & 0\\\\0 & 0 & - \\frac{\\cos{\\left(t \\right)} \\cos^{2}{\\left(z \\right)}}{\\sin{\\left(t \\right)} + 1} & 0\\\\0 & 0 & 0 & \\frac{\\cos{\\left(t \\right)}}{\\sin{\\left(t \\right)} + 1}\\end{matrix}\\right] & \\left[\\begin{matrix}0 & - \\frac{1}{\\cos{\\left(t \\right)}} & 0 & 0\\\\- \\frac{1}{\\cos{\\left(t \\right)}} & 0 & 0 & 0\\\\0 & 0 & 0 & 0\\\\0 & 0 & 0 & 0\\end{matrix}\\right] & \\left[\\begin{matrix}0 & 0 & \\frac{\\cos{\\left(t \\right)}}{\\sin{\\left(t \\right)} + 1} & 0\\\\0 & 0 & 0 & 0\\\\\\frac{\\cos{\\left(t \\right)}}{\\sin{\\left(t \\right)} + 1} & 0 & 0 & - \\tan{\\left(z \\right)}\\\\0 & 0 & - \\tan{\\left(z \\right)} & 0\\end{matrix}\\right] & \\left[\\begin{matrix}0 & 0 & 0 & \\frac{\\cos{\\left(t \\right)}}{\\sin{\\left(t \\right)} + 1}\\\\0 & 0 & 0 & 0\\\\0 & 0 & - \\frac{\\sin{\\left(2 z \\right)}}{2} & 0\\\\\\frac{\\cos{\\left(t \\right)}}{\\sin{\\left(t \\right)} + 1} & 0 & 0 & 0\\end{matrix}\\right]\\end{matrix}\\right]$"
      ],
      "text/plain": [
       "⎡⎡  cos(t)                                               ⎤                                                                             \n",
       "⎢⎢──────────        0               0              0     ⎥                                                                             \n",
       "⎢⎢sin(t) + 1                                             ⎥                                                                ⎡            \n",
       "⎢⎢                                                       ⎥  ⎡         -1         ⎤  ⎡                 cos(t)           ⎤  ⎢    0       \n",
       "⎢⎢                cos(t)                                 ⎥  ⎢  0     ──────  0  0⎥  ⎢    0       0  ──────────     0   ⎥  ⎢            \n",
       "⎢⎢    0       ─────────────         0              0     ⎥  ⎢        cos(t)      ⎥  ⎢               sin(t) + 1         ⎥  ⎢            \n",
       "⎢⎢                        4                              ⎥  ⎢                    ⎥  ⎢                                  ⎥  ⎢    0       \n",
       "⎢⎢            (sin(t) + 1)                               ⎥  ⎢ -1                 ⎥  ⎢    0       0      0          0   ⎥  ⎢            \n",
       "⎢⎢                                                       ⎥  ⎢──────    0     0  0⎥  ⎢                                  ⎥  ⎢            \n",
       "⎢⎢                                      2                ⎥  ⎢cos(t)              ⎥  ⎢  cos(t)                          ⎥  ⎢    0       \n",
       "⎢⎢                           -cos(t)⋅cos (z)             ⎥  ⎢                    ⎥  ⎢──────────  0      0       -tan(z)⎥  ⎢            \n",
       "⎢⎢    0             0        ────────────────      0     ⎥  ⎢  0       0     0  0⎥  ⎢sin(t) + 1                        ⎥  ⎢            \n",
       "⎢⎢                              sin(t) + 1               ⎥  ⎢                    ⎥  ⎢                                  ⎥  ⎢  cos(t)    \n",
       "⎢⎢                                                       ⎥  ⎣  0       0     0  0⎦  ⎣    0       0   -tan(z)       0   ⎦  ⎢──────────  \n",
       "⎢⎢                                               cos(t)  ⎥                                                                ⎣sin(t) + 1  \n",
       "⎢⎢    0             0               0          ──────────⎥                                                                             \n",
       "⎣⎣                                             sin(t) + 1⎦                                                                             \n",
       "\n",
       "                          ⎤\n",
       "                          ⎥\n",
       "                 cos(t)  ⎤⎥\n",
       "0      0       ──────────⎥⎥\n",
       "               sin(t) + 1⎥⎥\n",
       "                         ⎥⎥\n",
       "0      0           0     ⎥⎥\n",
       "                         ⎥⎥\n",
       "   -sin(2⋅z)             ⎥⎥\n",
       "0  ──────────      0     ⎥⎥\n",
       "       2                 ⎥⎥\n",
       "                         ⎥⎥\n",
       "                         ⎥⎥\n",
       "0      0           0     ⎥⎥\n",
       "                         ⎦⎥\n",
       "                          ⎥\n",
       "                          ⎦"
      ]
     },
     "execution_count": 26,
     "metadata": {},
     "output_type": "execute_result"
    }
   ],
   "source": [
    "ch = ChristoffelSymbols.from_metric(metric)\n",
    "simplify(ch.tensor())"
   ]
  },
  {
   "cell_type": "code",
   "execution_count": 27,
   "id": "b0c4c71a",
   "metadata": {},
   "outputs": [
    {
     "data": {
      "text/latex": [
       "$\\displaystyle \\left[\\begin{matrix}0 & 0 & 0 & 0\\\\0 & 0 & 0 & 0\\\\0 & 0 & 0 & 0\\\\0 & 0 & 0 & 0\\end{matrix}\\right]$"
      ],
      "text/plain": [
       "⎡0  0  0  0⎤\n",
       "⎢          ⎥\n",
       "⎢0  0  0  0⎥\n",
       "⎢          ⎥\n",
       "⎢0  0  0  0⎥\n",
       "⎢          ⎥\n",
       "⎣0  0  0  0⎦"
      ]
     },
     "execution_count": 27,
     "metadata": {},
     "output_type": "execute_result"
    }
   ],
   "source": [
    "Ric = RicciTensor.from_metric(metric)\n",
    "Ric.tensor()"
   ]
  },
  {
   "cell_type": "code",
   "execution_count": 28,
   "id": "a52ccad7",
   "metadata": {},
   "outputs": [
    {
     "data": {
      "image/png": "[encoded data removed]",
      "text/latex": [
       "$\\displaystyle 0$"
      ],
      "text/plain": [
       "0"
      ]
     },
     "execution_count": 28,
     "metadata": {},
     "output_type": "execute_result"
    }
   ],
   "source": [
    "R = RicciScalar.from_riccitensor(Ric)\n",
    "R.simplify()\n",
    "R.expr"
   ]
  },
  {
   "cell_type": "code",
   "execution_count": 29,
   "id": "7b294221",
   "metadata": {},
   "outputs": [
    {
     "data": {
      "text/latex": [
       "$\\displaystyle \\left[\\begin{matrix}0 & 0 & 0 & 0\\\\0 & 0 & 0 & 0\\\\0 & 0 & 0 & 0\\\\0 & 0 & 0 & 0\\end{matrix}\\right]$"
      ],
      "text/plain": [
       "⎡0  0  0  0⎤\n",
       "⎢          ⎥\n",
       "⎢0  0  0  0⎥\n",
       "⎢          ⎥\n",
       "⎢0  0  0  0⎥\n",
       "⎢          ⎥\n",
       "⎣0  0  0  0⎦"
      ]
     },
     "execution_count": 29,
     "metadata": {},
     "output_type": "execute_result"
    }
   ],
   "source": [
    "einst = EinsteinTensor.from_metric(metric)\n",
    "einst.tensor()"
   ]
  },
  {
   "cell_type": "code",
   "execution_count": 30,
   "id": "06f4c6bc",
   "metadata": {},
   "outputs": [
    {
     "data": {
      "text/latex": [
       "$\\displaystyle \\left[\\begin{matrix}\\left[\\begin{matrix}0 & 0 & 0 & 0\\\\0 & 0 & 0 & 0\\\\0 & 0 & 0 & 0\\\\0 & 0 & 0 & 0\\end{matrix}\\right] & \\left[\\begin{matrix}0 & \\frac{2 \\sin{\\left(t \\right)} - 2}{\\left(\\sin{\\left(t \\right)} + 1\\right)^{4}} & 0 & 0\\\\\\frac{2 - 2 \\sin{\\left(t \\right)}}{\\left(\\sin{\\left(t \\right)} + 1\\right)^{4}} & 0 & 0 & 0\\\\0 & 0 & 0 & 0\\\\0 & 0 & 0 & 0\\end{matrix}\\right] & \\left[\\begin{matrix}0 & 0 & \\frac{\\cos^{2}{\\left(z \\right)}}{\\sin{\\left(t \\right)} + 1} & 0\\\\0 & 0 & 0 & 0\\\\- \\frac{\\cos^{2}{\\left(z \\right)}}{\\sin{\\left(t \\right)} + 1} & 0 & 0 & 0\\\\0 & 0 & 0 & 0\\end{matrix}\\right] & \\left[\\begin{matrix}0 & 0 & 0 & - \\frac{1}{\\sin{\\left(t \\right)} + 1}\\\\0 & 0 & 0 & 0\\\\0 & 0 & 0 & 0\\\\\\frac{1}{\\sin{\\left(t \\right)} + 1} & 0 & 0 & 0\\end{matrix}\\right]\\\\\\left[\\begin{matrix}0 & \\frac{2 \\left(1 - \\sin{\\left(t \\right)}\\right)}{\\cos^{2}{\\left(t \\right)}} & 0 & 0\\\\\\frac{2 \\left(\\sin{\\left(t \\right)} - 1\\right)}{\\cos^{2}{\\left(t \\right)}} & 0 & 0 & 0\\\\0 & 0 & 0 & 0\\\\0 & 0 & 0 & 0\\end{matrix}\\right] & \\left[\\begin{matrix}0 & 0 & 0 & 0\\\\0 & 0 & 0 & 0\\\\0 & 0 & 0 & 0\\\\0 & 0 & 0 & 0\\end{matrix}\\right] & \\left[\\begin{matrix}0 & 0 & 0 & 0\\\\0 & 0 & \\frac{\\cos^{2}{\\left(z \\right)}}{\\sin{\\left(t \\right)} + 1} & 0\\\\0 & - \\frac{\\cos^{2}{\\left(z \\right)}}{\\sin{\\left(t \\right)} + 1} & 0 & 0\\\\0 & 0 & 0 & 0\\end{matrix}\\right] & \\left[\\begin{matrix}0 & 0 & 0 & 0\\\\0 & 0 & 0 & - \\frac{1}{\\sin{\\left(t \\right)} + 1}\\\\0 & 0 & 0 & 0\\\\0 & \\frac{1}{\\sin{\\left(t \\right)} + 1} & 0 & 0\\end{matrix}\\right]\\\\\\left[\\begin{matrix}0 & 0 & - \\frac{1}{\\sin{\\left(t \\right)} + 1} & 0\\\\0 & 0 & 0 & 0\\\\\\frac{1}{\\sin{\\left(t \\right)} + 1} & 0 & 0 & 0\\\\0 & 0 & 0 & 0\\end{matrix}\\right] & \\left[\\begin{matrix}0 & 0 & 0 & 0\\\\0 & 0 & - \\frac{\\cos^{2}{\\left(t \\right)}}{\\left(\\sin{\\left(t \\right)} + 1\\right)^{5}} & 0\\\\0 & \\frac{\\cos^{2}{\\left(t \\right)}}{\\left(\\sin{\\left(t \\right)} + 1\\right)^{5}} & 0 & 0\\\\0 & 0 & 0 & 0\\end{matrix}\\right] & \\left[\\begin{matrix}0 & 0 & 0 & 0\\\\0 & 0 & 0 & 0\\\\0 & 0 & 0 & 0\\\\0 & 0 & 0 & 0\\end{matrix}\\right] & \\left[\\begin{matrix}0 & 0 & 0 & 0\\\\0 & 0 & 0 & 0\\\\0 & 0 & 0 & \\frac{2}{\\sin{\\left(t \\right)} + 1}\\\\0 & 0 & - \\frac{2}{\\sin{\\left(t \\right)} + 1} & 0\\end{matrix}\\right]\\\\\\left[\\begin{matrix}0 & 0 & 0 & - \\frac{1}{\\sin{\\left(t \\right)} + 1}\\\\0 & 0 & 0 & 0\\\\0 & 0 & 0 & 0\\\\\\frac{1}{\\sin{\\left(t \\right)} + 1} & 0 & 0 & 0\\end{matrix}\\right] & \\left[\\begin{matrix}0 & 0 & 0 & 0\\\\0 & 0 & 0 & - \\frac{\\cos^{2}{\\left(t \\right)}}{\\left(\\sin{\\left(t \\right)} + 1\\right)^{5}}\\\\0 & 0 & 0 & 0\\\\0 & \\frac{\\cos^{2}{\\left(t \\right)}}{\\left(\\sin{\\left(t \\right)} + 1\\right)^{5}} & 0 & 0\\end{matrix}\\right] & \\left[\\begin{matrix}0 & 0 & 0 & 0\\\\0 & 0 & 0 & 0\\\\0 & 0 & 0 & \\frac{2 \\cos^{2}{\\left(z \\right)}}{\\sin{\\left(t \\right)} + 1}\\\\0 & 0 & - \\frac{2 \\cos^{2}{\\left(z \\right)}}{\\sin{\\left(t \\right)} + 1} & 0\\end{matrix}\\right] & \\left[\\begin{matrix}0 & 0 & 0 & 0\\\\0 & 0 & 0 & 0\\\\0 & 0 & 0 & 0\\\\0 & 0 & 0 & 0\\end{matrix}\\right]\\end{matrix}\\right]$"
      ],
      "text/plain": [
       "⎡                                        ⎡                2⋅sin(t) - 2      ⎤  ⎡                   2        ⎤                          \n",
       "⎢                                        ⎢      0        ─────────────  0  0⎥  ⎢                cos (z)     ⎥   ⎡                     -\n",
       "⎢                                        ⎢                           4      ⎥  ⎢    0       0  ──────────  0⎥   ⎢    0       0  0  ────\n",
       "⎢             ⎡0  0  0  0⎤               ⎢               (sin(t) + 1)       ⎥  ⎢               sin(t) + 1   ⎥   ⎢                  sin(\n",
       "⎢             ⎢          ⎥               ⎢                                  ⎥  ⎢                            ⎥   ⎢                      \n",
       "⎢             ⎢0  0  0  0⎥               ⎢ 2 - 2⋅sin(t)                     ⎥  ⎢    0       0      0       0⎥   ⎢    0       0  0      \n",
       "⎢             ⎢          ⎥               ⎢─────────────        0        0  0⎥  ⎢                            ⎥   ⎢                      \n",
       "⎢             ⎢0  0  0  0⎥               ⎢            4                     ⎥  ⎢    2                       ⎥   ⎢    0       0  0      \n",
       "⎢             ⎢          ⎥               ⎢(sin(t) + 1)                      ⎥  ⎢-cos (z)                    ⎥   ⎢                      \n",
       "⎢             ⎣0  0  0  0⎦               ⎢                                  ⎥  ⎢──────────  0      0       0⎥   ⎢    1                 \n",
       "⎢                                        ⎢      0              0        0  0⎥  ⎢sin(t) + 1                  ⎥   ⎢──────────  0  0      \n",
       "⎢                                        ⎢                                  ⎥  ⎢                            ⎥   ⎣sin(t) + 1            \n",
       "⎢                                        ⎣      0              0        0  0⎦  ⎣    0       0      0       0⎦                          \n",
       "⎢                                                                                                                                      \n",
       "⎢⎡                2⋅(1 - sin(t))      ⎤                                        ⎡0      0           0       0⎤                          \n",
       "⎢⎢      0         ──────────────  0  0⎥                                        ⎢                            ⎥   ⎡0      0       0      \n",
       "⎢⎢                      2             ⎥                                        ⎢                   2        ⎥   ⎢                      \n",
       "⎢⎢                   cos (t)          ⎥              ⎡0  0  0  0⎤              ⎢                cos (z)     ⎥   ⎢                     -\n",
       "⎢⎢                                    ⎥              ⎢          ⎥              ⎢0      0       ──────────  0⎥   ⎢0      0       0  ────\n",
       "⎢⎢2⋅(sin(t) - 1)                      ⎥              ⎢0  0  0  0⎥              ⎢               sin(t) + 1   ⎥   ⎢                  sin(\n",
       "⎢⎢──────────────        0         0  0⎥              ⎢          ⎥              ⎢                            ⎥   ⎢                      \n",
       "⎢⎢      2                             ⎥              ⎢0  0  0  0⎥              ⎢       2                    ⎥   ⎢0      0       0      \n",
       "⎢⎢   cos (t)                          ⎥              ⎢          ⎥              ⎢   -cos (z)                 ⎥   ⎢                      \n",
       "⎢⎢                                    ⎥              ⎣0  0  0  0⎦              ⎢0  ──────────      0       0⎥   ⎢       1              \n",
       "⎢⎢      0               0         0  0⎥                                        ⎢   sin(t) + 1               ⎥   ⎢0  ──────────  0      \n",
       "⎢⎢                                    ⎥                                        ⎢                            ⎥   ⎣   sin(t) + 1         \n",
       "⎢⎣      0               0         0  0⎦                                        ⎣0      0           0       0⎦                          \n",
       "⎢                                                                                                                                      \n",
       "⎢                                        ⎡0        0              0        0⎤                                                          \n",
       "⎢                                        ⎢                                  ⎥                                                          \n",
       "⎢    ⎡                  -1        ⎤      ⎢                        2         ⎥                                   ⎡0  0      0           \n",
       "⎢    ⎢    0       0  ──────────  0⎥      ⎢                    -cos (t)      ⎥                                   ⎢                      \n",
       "⎢    ⎢               sin(t) + 1   ⎥      ⎢0        0        ─────────────  0⎥           ⎡0  0  0  0⎤            ⎢0  0      0           \n",
       "⎢    ⎢                            ⎥      ⎢                              5   ⎥           ⎢          ⎥            ⎢                      \n",
       "⎢    ⎢    0       0      0       0⎥      ⎢                  (sin(t) + 1)    ⎥           ⎢0  0  0  0⎥            ⎢                      \n",
       "⎢    ⎢                            ⎥      ⎢                                  ⎥           ⎢          ⎥            ⎢0  0      0       ────\n",
       "⎢    ⎢    1                       ⎥      ⎢         2                        ⎥           ⎢0  0  0  0⎥            ⎢                  sin(\n",
       "⎢    ⎢──────────  0      0       0⎥      ⎢      cos (t)                     ⎥           ⎢          ⎥            ⎢                      \n",
       "⎢    ⎢sin(t) + 1                  ⎥      ⎢0  ─────────────        0        0⎥           ⎣0  0  0  0⎦            ⎢         -2           \n",
       "⎢    ⎢                            ⎥      ⎢               5                  ⎥                                   ⎢0  0  ──────────      \n",
       "⎢    ⎣    0       0      0       0⎦      ⎢   (sin(t) + 1)                   ⎥                                   ⎣      sin(t) + 1      \n",
       "⎢                                        ⎢                                  ⎥                                                          \n",
       "⎢                                        ⎣0        0              0        0⎦                                                          \n",
       "⎢                                                                                                                                      \n",
       "⎢                                        ⎡0        0        0        0      ⎤                                                          \n",
       "⎢                                        ⎢                                  ⎥  ⎡0  0       0           0     ⎤                         \n",
       "⎢    ⎡                     -1     ⎤      ⎢                           2      ⎥  ⎢                             ⎥                         \n",
       "⎢    ⎢    0       0  0  ──────────⎥      ⎢                       -cos (t)   ⎥  ⎢0  0       0           0     ⎥                         \n",
       "⎢    ⎢                  sin(t) + 1⎥      ⎢0        0        0  ─────────────⎥  ⎢                             ⎥           ⎡0  0  0  0⎤  \n",
       "⎢    ⎢                            ⎥      ⎢                                 5⎥  ⎢                        2    ⎥           ⎢          ⎥  \n",
       "⎢    ⎢    0       0  0      0     ⎥      ⎢                     (sin(t) + 1) ⎥  ⎢                   2⋅cos (z) ⎥           ⎢0  0  0  0⎥  \n",
       "⎢    ⎢                            ⎥      ⎢                                  ⎥  ⎢0  0       0       ──────────⎥           ⎢          ⎥  \n",
       "⎢    ⎢    0       0  0      0     ⎥      ⎢0        0        0        0      ⎥  ⎢                   sin(t) + 1⎥           ⎢0  0  0  0⎥  \n",
       "⎢    ⎢                            ⎥      ⎢                                  ⎥  ⎢                             ⎥           ⎢          ⎥  \n",
       "⎢    ⎢    1                       ⎥      ⎢         2                        ⎥  ⎢            2                ⎥           ⎣0  0  0  0⎦  \n",
       "⎢    ⎢──────────  0  0      0     ⎥      ⎢      cos (t)                     ⎥  ⎢      -2⋅cos (z)             ⎥                         \n",
       "⎢    ⎣sin(t) + 1                  ⎦      ⎢0  ─────────────  0        0      ⎥  ⎢0  0  ───────────      0     ⎥                         \n",
       "⎢                                        ⎢               5                  ⎥  ⎣       sin(t) + 1            ⎦                         \n",
       "⎣                                        ⎣   (sin(t) + 1)                   ⎦                                                          \n",
       "\n",
       "       ⎤\n",
       "1     ⎤⎥\n",
       "──────⎥⎥\n",
       "t) + 1⎥⎥\n",
       "      ⎥⎥\n",
       "0     ⎥⎥\n",
       "      ⎥⎥\n",
       "0     ⎥⎥\n",
       "      ⎥⎥\n",
       "      ⎥⎥\n",
       "0     ⎥⎥\n",
       "      ⎦⎥\n",
       "       ⎥\n",
       "       ⎥\n",
       "       ⎥\n",
       "0     ⎤⎥\n",
       "      ⎥⎥\n",
       "1     ⎥⎥\n",
       "──────⎥⎥\n",
       "t) + 1⎥⎥\n",
       "      ⎥⎥\n",
       "0     ⎥⎥\n",
       "      ⎥⎥\n",
       "      ⎥⎥\n",
       "0     ⎥⎥\n",
       "      ⎦⎥\n",
       "       ⎥\n",
       "       ⎥\n",
       "       ⎥\n",
       "       ⎥\n",
       "0     ⎤⎥\n",
       "      ⎥⎥\n",
       "0     ⎥⎥\n",
       "      ⎥⎥\n",
       "2     ⎥⎥\n",
       "──────⎥⎥\n",
       "t) + 1⎥⎥\n",
       "      ⎥⎥\n",
       "      ⎥⎥\n",
       "0     ⎥⎥\n",
       "      ⎦⎥\n",
       "       ⎥\n",
       "       ⎥\n",
       "       ⎥\n",
       "       ⎥\n",
       "       ⎥\n",
       "       ⎥\n",
       "       ⎥\n",
       "       ⎥\n",
       "       ⎥\n",
       "       ⎥\n",
       "       ⎥\n",
       "       ⎥\n",
       "       ⎥\n",
       "       ⎥\n",
       "       ⎥\n",
       "       ⎥\n",
       "       ⎥\n",
       "       ⎦"
      ]
     },
     "execution_count": 30,
     "metadata": {},
     "output_type": "execute_result"
    }
   ],
   "source": [
    "rm1 = RiemannCurvatureTensor.from_christoffels(ch)\n",
    "rm1.tensor()"
   ]
  },
  {
   "cell_type": "code",
   "execution_count": 31,
   "id": "6d29a1b9",
   "metadata": {},
   "outputs": [
    {
     "data": {
      "text/latex": [
       "$\\displaystyle \\left[\\begin{matrix}\\left[\\begin{matrix}0 & 0 & 0 & 0\\\\0 & 0 & 0 & 0\\\\0 & 0 & 0 & 0\\\\0 & 0 & 0 & 0\\end{matrix}\\right] & \\left[\\begin{matrix}0 & \\frac{2 \\left(\\sin{\\left(t \\right)} - 1\\right)}{\\left(\\sin{\\left(t \\right)} + 1\\right)^{2}} & 0 & 0\\\\\\frac{2 \\left(1 - \\sin{\\left(t \\right)}\\right)}{\\left(\\sin{\\left(t \\right)} + 1\\right)^{2}} & 0 & 0 & 0\\\\0 & 0 & 0 & 0\\\\0 & 0 & 0 & 0\\end{matrix}\\right] & \\left[\\begin{matrix}0 & 0 & \\left(\\sin{\\left(t \\right)} + 1\\right) \\cos^{2}{\\left(z \\right)} & 0\\\\0 & 0 & 0 & 0\\\\- \\left(\\sin{\\left(t \\right)} + 1\\right) \\cos^{2}{\\left(z \\right)} & 0 & 0 & 0\\\\0 & 0 & 0 & 0\\end{matrix}\\right] & \\left[\\begin{matrix}0 & 0 & 0 & - \\sin{\\left(t \\right)} - 1\\\\0 & 0 & 0 & 0\\\\0 & 0 & 0 & 0\\\\\\sin{\\left(t \\right)} + 1 & 0 & 0 & 0\\end{matrix}\\right]\\\\\\left[\\begin{matrix}0 & \\frac{2 \\left(\\sin{\\left(t \\right)} - 1\\right)^{2}}{\\left(\\sin{\\left(t \\right)} + 1\\right) \\cos^{2}{\\left(t \\right)}} & 0 & 0\\\\- \\frac{2 \\left(\\sin{\\left(t \\right)} - 1\\right)^{2}}{\\left(\\sin{\\left(t \\right)} + 1\\right) \\cos^{2}{\\left(t \\right)}} & 0 & 0 & 0\\\\0 & 0 & 0 & 0\\\\0 & 0 & 0 & 0\\end{matrix}\\right] & \\left[\\begin{matrix}0 & 0 & 0 & 0\\\\0 & 0 & 0 & 0\\\\0 & 0 & 0 & 0\\\\0 & 0 & 0 & 0\\end{matrix}\\right] & \\left[\\begin{matrix}0 & 0 & 0 & 0\\\\0 & 0 & \\frac{\\left(1 - \\sin{\\left(t \\right)}\\right) \\cos^{2}{\\left(z \\right)}}{\\left(\\sin{\\left(t \\right)} + 1\\right)^{2}} & 0\\\\0 & \\frac{\\left(\\sin{\\left(t \\right)} - 1\\right) \\cos^{2}{\\left(z \\right)}}{\\left(\\sin{\\left(t \\right)} + 1\\right)^{2}} & 0 & 0\\\\0 & 0 & 0 & 0\\end{matrix}\\right] & \\left[\\begin{matrix}0 & 0 & 0 & 0\\\\0 & 0 & 0 & \\frac{\\sin{\\left(t \\right)} - 1}{\\left(\\sin{\\left(t \\right)} + 1\\right)^{2}}\\\\0 & 0 & 0 & 0\\\\0 & \\frac{1 - \\sin{\\left(t \\right)}}{\\left(\\sin{\\left(t \\right)} + 1\\right)^{2}} & 0 & 0\\end{matrix}\\right]\\\\\\left[\\begin{matrix}0 & 0 & - \\left(\\sin{\\left(t \\right)} + 1\\right) \\cos^{2}{\\left(z \\right)} & 0\\\\0 & 0 & 0 & 0\\\\\\left(\\sin{\\left(t \\right)} + 1\\right) \\cos^{2}{\\left(z \\right)} & 0 & 0 & 0\\\\0 & 0 & 0 & 0\\end{matrix}\\right] & \\left[\\begin{matrix}0 & 0 & 0 & 0\\\\0 & 0 & - \\frac{\\cos^{2}{\\left(t \\right)} \\cos^{2}{\\left(z \\right)}}{\\left(\\sin{\\left(t \\right)} + 1\\right)^{3}} & 0\\\\0 & \\frac{\\cos^{2}{\\left(t \\right)} \\cos^{2}{\\left(z \\right)}}{\\left(\\sin{\\left(t \\right)} + 1\\right)^{3}} & 0 & 0\\\\0 & 0 & 0 & 0\\end{matrix}\\right] & \\left[\\begin{matrix}0 & 0 & 0 & 0\\\\0 & 0 & 0 & 0\\\\0 & 0 & 0 & 0\\\\0 & 0 & 0 & 0\\end{matrix}\\right] & \\left[\\begin{matrix}0 & 0 & 0 & 0\\\\0 & 0 & 0 & 0\\\\0 & 0 & 0 & 2 \\left(\\sin{\\left(t \\right)} + 1\\right) \\cos^{2}{\\left(z \\right)}\\\\0 & 0 & - 2 \\left(\\sin{\\left(t \\right)} + 1\\right) \\cos^{2}{\\left(z \\right)} & 0\\end{matrix}\\right]\\\\\\left[\\begin{matrix}0 & 0 & 0 & \\sin{\\left(t \\right)} + 1\\\\0 & 0 & 0 & 0\\\\0 & 0 & 0 & 0\\\\- \\sin{\\left(t \\right)} - 1 & 0 & 0 & 0\\end{matrix}\\right] & \\left[\\begin{matrix}0 & 0 & 0 & 0\\\\0 & 0 & 0 & \\frac{\\cos^{2}{\\left(t \\right)}}{\\left(\\sin{\\left(t \\right)} + 1\\right)^{3}}\\\\0 & 0 & 0 & 0\\\\0 & - \\frac{\\cos^{2}{\\left(t \\right)}}{\\left(\\sin{\\left(t \\right)} + 1\\right)^{3}} & 0 & 0\\end{matrix}\\right] & \\left[\\begin{matrix}0 & 0 & 0 & 0\\\\0 & 0 & 0 & 0\\\\0 & 0 & 0 & - 2 \\left(\\sin{\\left(t \\right)} + 1\\right) \\cos^{2}{\\left(z \\right)}\\\\0 & 0 & 2 \\left(\\sin{\\left(t \\right)} + 1\\right) \\cos^{2}{\\left(z \\right)} & 0\\end{matrix}\\right] & \\left[\\begin{matrix}0 & 0 & 0 & 0\\\\0 & 0 & 0 & 0\\\\0 & 0 & 0 & 0\\\\0 & 0 & 0 & 0\\end{matrix}\\right]\\end{matrix}\\right]$"
      ],
      "text/plain": [
       "⎡                                                       ⎡                2⋅(sin(t) - 1)      ⎤                                         \n",
       "⎢                                                       ⎢      0         ──────────────  0  0⎥                                         \n",
       "⎢                                                       ⎢                            2       ⎥      ⎡                                  \n",
       "⎢                   ⎡0  0  0  0⎤                        ⎢                (sin(t) + 1)        ⎥      ⎢          0            0  (sin(t) \n",
       "⎢                   ⎢          ⎥                        ⎢                                    ⎥      ⎢                                  \n",
       "⎢                   ⎢0  0  0  0⎥                        ⎢2⋅(1 - sin(t))                      ⎥      ⎢          0            0          \n",
       "⎢                   ⎢          ⎥                        ⎢──────────────        0         0  0⎥      ⎢                                  \n",
       "⎢                   ⎢0  0  0  0⎥                        ⎢            2                       ⎥      ⎢                 2                \n",
       "⎢                   ⎢          ⎥                        ⎢(sin(t) + 1)                        ⎥      ⎢-(sin(t) + 1)⋅cos (z)  0          \n",
       "⎢                   ⎣0  0  0  0⎦                        ⎢                                    ⎥      ⎢                                  \n",
       "⎢                                                       ⎢      0               0         0  0⎥      ⎣          0            0          \n",
       "⎢                                                       ⎢                                    ⎥                                         \n",
       "⎢                                                       ⎣      0               0         0  0⎦                                         \n",
       "⎢                                                                                                                                      \n",
       "⎢⎡                                      2         ⎤                                                 ⎡0           0                     \n",
       "⎢⎢                        2⋅(sin(t) - 1)          ⎥                                                 ⎢                                  \n",
       "⎢⎢         0            ────────────────────  0  0⎥                                                 ⎢                                  \n",
       "⎢⎢                                      2         ⎥                                                 ⎢                         (1 - sin(\n",
       "⎢⎢                      (sin(t) + 1)⋅cos (t)      ⎥                  ⎡0  0  0  0⎤                   ⎢0           0            ─────────\n",
       "⎢⎢                                                ⎥                  ⎢          ⎥                   ⎢                                  \n",
       "⎢⎢                2                               ⎥                  ⎢0  0  0  0⎥                   ⎢                            (sin(t\n",
       "⎢⎢ -2⋅(sin(t) - 1)                                ⎥                  ⎢          ⎥                   ⎢                                  \n",
       "⎢⎢────────────────────           0            0  0⎥                  ⎢0  0  0  0⎥                   ⎢                   2              \n",
       "⎢⎢                2                               ⎥                  ⎢          ⎥                   ⎢   (sin(t) - 1)⋅cos (z)           \n",
       "⎢⎢(sin(t) + 1)⋅cos (t)                            ⎥                  ⎣0  0  0  0⎦                   ⎢0  ────────────────────           \n",
       "⎢⎢                                                ⎥                                                 ⎢                  2               \n",
       "⎢⎢         0                     0            0  0⎥                                                 ⎢      (sin(t) + 1)                \n",
       "⎢⎢                                                ⎥                                                 ⎢                                  \n",
       "⎢⎣         0                     0            0  0⎦                                                 ⎣0           0                     \n",
       "⎢                                                                                                                                      \n",
       "⎢                                                     ⎡0         0                 0          0⎤                                       \n",
       "⎢                                                     ⎢                                        ⎥                                       \n",
       "⎢                                                     ⎢                        2       2       ⎥                                       \n",
       "⎢⎡                                          2      ⎤  ⎢                    -cos (t)⋅cos (z)    ⎥                                       \n",
       "⎢⎢         0            0  -(sin(t) + 1)⋅cos (z)  0⎥  ⎢0         0         ─────────────────  0⎥                       ⎡0  0  0  0⎤    \n",
       "⎢⎢                                                 ⎥  ⎢                                  3     ⎥                       ⎢          ⎥    \n",
       "⎢⎢         0            0            0            0⎥  ⎢                      (sin(t) + 1)      ⎥                       ⎢0  0  0  0⎥    \n",
       "⎢⎢                                                 ⎥  ⎢                                        ⎥                       ⎢          ⎥    \n",
       "⎢⎢                2                                ⎥  ⎢      2       2                         ⎥                       ⎢0  0  0  0⎥    \n",
       "⎢⎢(sin(t) + 1)⋅cos (z)  0            0            0⎥  ⎢   cos (t)⋅cos (z)                      ⎥                       ⎢          ⎥    \n",
       "⎢⎢                                                 ⎥  ⎢0  ───────────────          0          0⎥                       ⎣0  0  0  0⎦    \n",
       "⎢⎣         0            0            0            0⎦  ⎢                3                       ⎥                                       \n",
       "⎢                                                     ⎢    (sin(t) + 1)                        ⎥                                       \n",
       "⎢                                                     ⎢                                        ⎥                                       \n",
       "⎢                                                     ⎣0         0                 0          0⎦                                       \n",
       "⎢                                                                                                                                      \n",
       "⎢                                                        ⎡0        0        0        0      ⎤                                          \n",
       "⎢                                                        ⎢                                  ⎥                                          \n",
       "⎢                                                        ⎢                           2      ⎥                                          \n",
       "⎢                                                        ⎢                        cos (t)   ⎥     ⎡0  0            0                   \n",
       "⎢          ⎡     0       0  0  sin(t) + 1⎤               ⎢0        0        0  ─────────────⎥     ⎢                                    \n",
       "⎢          ⎢                             ⎥               ⎢                                 3⎥     ⎢0  0            0                   \n",
       "⎢          ⎢     0       0  0      0     ⎥               ⎢                     (sin(t) + 1) ⎥     ⎢                                    \n",
       "⎢          ⎢                             ⎥               ⎢                                  ⎥     ⎢                                    \n",
       "⎢          ⎢     0       0  0      0     ⎥               ⎢0        0        0        0      ⎥     ⎢0  0            0             -2⋅(si\n",
       "⎢          ⎢                             ⎥               ⎢                                  ⎥     ⎢                                    \n",
       "⎢          ⎣-sin(t) - 1  0  0      0     ⎦               ⎢         2                        ⎥     ⎢                        2           \n",
       "⎢                                                        ⎢     -cos (t)                     ⎥     ⎣0  0  2⋅(sin(t) + 1)⋅cos (z)        \n",
       "⎢                                                        ⎢0  ─────────────  0        0      ⎥                                          \n",
       "⎢                                                        ⎢               3                  ⎥                                          \n",
       "⎣                                                        ⎣   (sin(t) + 1)                   ⎦                                          \n",
       "\n",
       "                                                                           ⎤\n",
       "                                                                           ⎥\n",
       "        2      ⎤                                                           ⎥\n",
       "+ 1)⋅cos (z)  0⎥                ⎡    0       0  0  -sin(t) - 1⎤            ⎥\n",
       "               ⎥                ⎢                             ⎥            ⎥\n",
       " 0            0⎥                ⎢    0       0  0       0     ⎥            ⎥\n",
       "               ⎥                ⎢                             ⎥            ⎥\n",
       "               ⎥                ⎢    0       0  0       0     ⎥            ⎥\n",
       " 0            0⎥                ⎢                             ⎥            ⎥\n",
       "               ⎥                ⎣sin(t) + 1  0  0       0     ⎦            ⎥\n",
       " 0            0⎦                                                           ⎥\n",
       "                                                                           ⎥\n",
       "                                                                           ⎥\n",
       "                                                                           ⎥\n",
       "0            0⎤                                                            ⎥\n",
       "              ⎥              ⎡0        0        0        0      ⎤          ⎥\n",
       "       2      ⎥              ⎢                                  ⎥          ⎥\n",
       "t))⋅cos (z)   ⎥              ⎢                       sin(t) - 1 ⎥          ⎥\n",
       "───────────  0⎥              ⎢0        0        0  ─────────────⎥          ⎥\n",
       "      2       ⎥              ⎢                                 2⎥          ⎥\n",
       ") + 1)        ⎥              ⎢                     (sin(t) + 1) ⎥          ⎥\n",
       "              ⎥              ⎢                                  ⎥          ⎥\n",
       "              ⎥              ⎢0        0        0        0      ⎥          ⎥\n",
       "              ⎥              ⎢                                  ⎥          ⎥\n",
       "0            0⎥              ⎢     1 - sin(t)                   ⎥          ⎥\n",
       "              ⎥              ⎢0  ─────────────  0        0      ⎥          ⎥\n",
       "              ⎥              ⎢               2                  ⎥          ⎥\n",
       "              ⎥              ⎣   (sin(t) + 1)                   ⎦          ⎥\n",
       "0            0⎦                                                            ⎥\n",
       "                                                                           ⎥\n",
       "                                                                           ⎥\n",
       "                                                                           ⎥\n",
       "                                                                           ⎥\n",
       "                    ⎡0  0             0                       0           ⎤⎥\n",
       "                    ⎢                                                     ⎥⎥\n",
       "                    ⎢0  0             0                       0           ⎥⎥\n",
       "                    ⎢                                                     ⎥⎥\n",
       "                    ⎢                                                 2   ⎥⎥\n",
       "                    ⎢0  0             0             2⋅(sin(t) + 1)⋅cos (z)⎥⎥\n",
       "                    ⎢                                                     ⎥⎥\n",
       "                    ⎢                         2                           ⎥⎥\n",
       "                    ⎣0  0  -2⋅(sin(t) + 1)⋅cos (z)            0           ⎦⎥\n",
       "                                                                           ⎥\n",
       "                                                                           ⎥\n",
       "                                                                           ⎥\n",
       "                                                                           ⎥\n",
       "                                                                           ⎥\n",
       "                                                                           ⎥\n",
       "                                                                           ⎥\n",
       "     0           ⎤                                                         ⎥\n",
       "                 ⎥                       ⎡0  0  0  0⎤                      ⎥\n",
       "     0           ⎥                       ⎢          ⎥                      ⎥\n",
       "                 ⎥                       ⎢0  0  0  0⎥                      ⎥\n",
       "             2   ⎥                       ⎢          ⎥                      ⎥\n",
       "n(t) + 1)⋅cos (z)⎥                       ⎢0  0  0  0⎥                      ⎥\n",
       "                 ⎥                       ⎢          ⎥                      ⎥\n",
       "                 ⎥                       ⎣0  0  0  0⎦                      ⎥\n",
       "     0           ⎦                                                         ⎥\n",
       "                                                                           ⎥\n",
       "                                                                           ⎥\n",
       "                                                                           ⎦"
      ]
     },
     "execution_count": 31,
     "metadata": {},
     "output_type": "execute_result"
    }
   ],
   "source": [
    "weyl = WeylTensor.from_metric(metric)\n",
    "weyl.tensor()"
   ]
  },
  {
   "cell_type": "code",
   "execution_count": null,
   "id": "28a31ae8",
   "metadata": {},
   "outputs": [],
   "source": []
  }
 ],
 "metadata": {
  "@webio": {
   "lastCommId": "92b6cf5c31d24815a8ea4e7d5afbf032",
   "lastKernelId": "c74a5bfa-02e8-4958-a88d-f547fdbab848"
  },
  "kernelspec": {
   "display_name": "Python 3 (ipykernel)",
   "language": "python",
   "name": "python3"
  },
  "language_info": {
   "codemirror_mode": {
    "name": "ipython",
    "version": 3
   },
   "file_extension": ".py",
   "mimetype": "text/x-python",
   "name": "python",
   "nbconvert_exporter": "python",
   "pygments_lexer": "ipython3",
   "version": "3.8.8"
  }
 },
 "nbformat": 4,
 "nbformat_minor": 5
}
