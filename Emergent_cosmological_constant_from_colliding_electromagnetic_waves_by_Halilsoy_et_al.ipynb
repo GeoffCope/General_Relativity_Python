{
 "cells": [
  {
   "cell_type": "markdown",
   "id": "0ccb3726",
   "metadata": {},
   "source": [
    "# Emergent cosmological constant from colliding electromagnetic waves by Halilsoy et al\n",
    "##  Geoff Cope\n",
    "##  Univeristy of Utah\n",
    "##  December 24, 2021 Christmas Eve!"
   ]
  },
  {
   "cell_type": "markdown",
   "id": "de19cb92",
   "metadata": {},
   "source": [
    "Here we concentrate on metric 2.2 and will calculate the others later\n",
    "PLEASE NOTE:  NOT SURE WHY IN EINSTEIN TENSOR THERE APPEARS 1.0 WHEREAS IN RICCI IT DOESN'T.  FIGURE OUT DIFFERENCE"
   ]
  },
  {
   "cell_type": "markdown",
   "id": "4f90f7ae",
   "metadata": {},
   "source": [
    "https://arxiv.org/abs/1401.2148"
   ]
  },
  {
   "cell_type": "markdown",
   "id": "85832549",
   "metadata": {},
   "source": [
    "https://www.youtube.com/watch?v=IkHVQr7c-RU"
   ]
  },
  {
   "cell_type": "code",
   "execution_count": 2,
   "id": "1100268f",
   "metadata": {},
   "outputs": [
    {
     "name": "stdout",
     "output_type": "stream",
     "text": [
      "IPython console for SymPy 1.9 (Python 3.8.8-64-bit) (ground types: gmpy)\n",
      "\n",
      "These commands were executed:\n",
      ">>> from __future__ import division\n",
      ">>> from sympy import *\n",
      ">>> x, y, z, t = symbols('x y z t')\n",
      ">>> k, m, n = symbols('k m n', integer=True)\n",
      ">>> f, g, h = symbols('f g h', cls=Function)\n",
      ">>> init_printing()\n",
      "\n",
      "Documentation can be found at https://docs.sympy.org/1.9/\n",
      "\n"
     ]
    }
   ],
   "source": [
    "from sympy import init_session\n",
    "init_session(use_latex=True)"
   ]
  },
  {
   "cell_type": "code",
   "execution_count": 3,
   "id": "d7c335ad",
   "metadata": {},
   "outputs": [],
   "source": [
    "import warnings\n",
    "import matplotlib.cbook\n",
    "warnings.filterwarnings(\"ignore\",category=matplotlib.cbook.mplDeprecation)"
   ]
  },
  {
   "cell_type": "code",
   "execution_count": 4,
   "id": "a54d995d",
   "metadata": {},
   "outputs": [],
   "source": [
    "u,v,x,y,du,dv,dx,dy = symbols('u v x y du dv dx dy')"
   ]
  },
  {
   "cell_type": "code",
   "execution_count": 5,
   "id": "3b0fc833",
   "metadata": {},
   "outputs": [],
   "source": [
    "alpha,beta = symbols('alpha beta')"
   ]
  },
  {
   "cell_type": "code",
   "execution_count": 6,
   "id": "394884b8",
   "metadata": {},
   "outputs": [
    {
     "data": {
      "text/latex": [
       "$\\displaystyle \\left[\\begin{matrix}u\\\\v\\\\x\\\\y\\end{matrix}\\right]$"
      ],
      "text/plain": [
       "⎡u⎤\n",
       "⎢ ⎥\n",
       "⎢v⎥\n",
       "⎢ ⎥\n",
       "⎢x⎥\n",
       "⎢ ⎥\n",
       "⎣y⎦"
      ]
     },
     "execution_count": 6,
     "metadata": {},
     "output_type": "execute_result"
    }
   ],
   "source": [
    "variables = Matrix( [u,v,x,y] )\n",
    "variables"
   ]
  },
  {
   "cell_type": "code",
   "execution_count": 8,
   "id": "3255706f",
   "metadata": {},
   "outputs": [
    {
     "data": {
      "text/latex": [
       "$\\displaystyle \\left[\\begin{matrix}du\\\\dv\\\\dx\\\\dy\\end{matrix}\\right]$"
      ],
      "text/plain": [
       "⎡du⎤\n",
       "⎢  ⎥\n",
       "⎢dv⎥\n",
       "⎢  ⎥\n",
       "⎢dx⎥\n",
       "⎢  ⎥\n",
       "⎣dy⎦"
      ]
     },
     "execution_count": 8,
     "metadata": {},
     "output_type": "execute_result"
    }
   ],
   "source": [
    "differentials = Matrix([du,dv,dx,dy])\n",
    "differentials "
   ]
  },
  {
   "cell_type": "code",
   "execution_count": 9,
   "id": "ae7dd61d",
   "metadata": {},
   "outputs": [
    {
     "data": {
      "image/png": "[encoded data removed]",
      "text/latex": [
       "$\\displaystyle 2 du dv - dx^{2} \\cos^{2}{\\left(\\alpha \\left(u - v\\right) \\right)} - dy^{2} \\cos^{2}{\\left(\\beta \\left(u + v\\right) \\right)}$"
      ],
      "text/plain": [
       "            2    2                2    2           \n",
       "2⋅du⋅dv - dx ⋅cos (α⋅(u - v)) - dy ⋅cos (β⋅(u + v))"
      ]
     },
     "execution_count": 9,
     "metadata": {},
     "output_type": "execute_result"
    }
   ],
   "source": [
    "lineElement = 2*du*dv - cos(alpha*(u-v))**2 * dx**2 - cos(beta*(u+v))**2 * dy**2 \n",
    "lineElement"
   ]
  },
  {
   "cell_type": "code",
   "execution_count": 10,
   "id": "9f65689d",
   "metadata": {},
   "outputs": [
    {
     "data": {
      "text/latex": [
       "$\\displaystyle \\left[\\begin{matrix}0 & 1 & 0 & 0\\\\1 & 0 & 0 & 0\\\\0 & 0 & - \\cos^{2}{\\left(\\alpha \\left(u - v\\right) \\right)} & 0\\\\0 & 0 & 0 & - \\cos^{2}{\\left(\\beta \\left(u + v\\right) \\right)}\\end{matrix}\\right]$"
      ],
      "text/plain": [
       "⎡0  1         0                 0        ⎤\n",
       "⎢                                        ⎥\n",
       "⎢1  0         0                 0        ⎥\n",
       "⎢                                        ⎥\n",
       "⎢          2                             ⎥\n",
       "⎢0  0  -cos (α⋅(u - v))         0        ⎥\n",
       "⎢                                        ⎥\n",
       "⎢                            2           ⎥\n",
       "⎣0  0         0          -cos (β⋅(u + v))⎦"
      ]
     },
     "execution_count": 10,
     "metadata": {},
     "output_type": "execute_result"
    }
   ],
   "source": [
    "g = zeros(4)\n",
    "\n",
    "for i in range(4):\n",
    "    for j in range(4):\n",
    "        if i == j:\n",
    "            g[i,j] = lineElement.coeff( differentials[i],2 ) \n",
    "        else:\n",
    "            g[i,j] = Rational(1,2)*lineElement.coeff( differentials[i]*differentials[j],1 )\n",
    "            \n",
    "g"
   ]
  },
  {
   "cell_type": "code",
   "execution_count": 11,
   "id": "d9d2c592",
   "metadata": {},
   "outputs": [],
   "source": [
    "import sympy"
   ]
  },
  {
   "cell_type": "code",
   "execution_count": 12,
   "id": "4369797e",
   "metadata": {},
   "outputs": [
    {
     "data": {
      "text/latex": [
       "$\\displaystyle \\left[\\begin{matrix}0 & 1 & 0 & 0\\\\1 & 0 & 0 & 0\\\\0 & 0 & - \\cos^{2}{\\left(\\alpha \\left(u - v\\right) \\right)} & 0\\\\0 & 0 & 0 & - \\cos^{2}{\\left(\\beta \\left(u + v\\right) \\right)}\\end{matrix}\\right]$"
      ],
      "text/plain": [
       "⎡0  1         0                 0        ⎤\n",
       "⎢                                        ⎥\n",
       "⎢1  0         0                 0        ⎥\n",
       "⎢                                        ⎥\n",
       "⎢          2                             ⎥\n",
       "⎢0  0  -cos (α⋅(u - v))         0        ⎥\n",
       "⎢                                        ⎥\n",
       "⎢                            2           ⎥\n",
       "⎣0  0         0          -cos (β⋅(u + v))⎦"
      ]
     },
     "execution_count": 12,
     "metadata": {},
     "output_type": "execute_result"
    }
   ],
   "source": [
    "m = sympy.Array(g)\n",
    "m"
   ]
  },
  {
   "cell_type": "code",
   "execution_count": 13,
   "id": "a3d239ca",
   "metadata": {},
   "outputs": [],
   "source": [
    "from einsteinpy.symbolic import *"
   ]
  },
  {
   "cell_type": "code",
   "execution_count": 14,
   "id": "630ab994",
   "metadata": {},
   "outputs": [],
   "source": [
    "syms = sympy.symbols(\"u v x y\")\n",
    "u,v,x,y = syms"
   ]
  },
  {
   "cell_type": "code",
   "execution_count": 15,
   "id": "17f8c5ef",
   "metadata": {},
   "outputs": [],
   "source": [
    "metric = MetricTensor(m,syms)"
   ]
  },
  {
   "cell_type": "code",
   "execution_count": 16,
   "id": "a47c1473",
   "metadata": {},
   "outputs": [
    {
     "data": {
      "text/latex": [
       "$\\displaystyle \\left[\\begin{matrix}\\left[\\begin{matrix}0 & 0 & 0 & 0\\\\0 & 0 & 0 & 0\\\\0 & 0 & \\alpha \\sin{\\left(\\alpha \\left(u - v\\right) \\right)} \\cos{\\left(\\alpha \\left(u - v\\right) \\right)} & 0\\\\0 & 0 & 0 & - \\beta \\sin{\\left(\\beta \\left(u + v\\right) \\right)} \\cos{\\left(\\beta \\left(u + v\\right) \\right)}\\end{matrix}\\right] & \\left[\\begin{matrix}0 & 0 & 0 & 0\\\\0 & 0 & 0 & 0\\\\0 & 0 & - \\alpha \\sin{\\left(\\alpha \\left(u - v\\right) \\right)} \\cos{\\left(\\alpha \\left(u - v\\right) \\right)} & 0\\\\0 & 0 & 0 & - \\beta \\sin{\\left(\\beta \\left(u + v\\right) \\right)} \\cos{\\left(\\beta \\left(u + v\\right) \\right)}\\end{matrix}\\right] & \\left[\\begin{matrix}0 & 0 & - \\frac{\\alpha \\sin{\\left(\\alpha \\left(u - v\\right) \\right)} \\cos{\\left(\\alpha \\left(u - v\\right) \\right)}}{\\cos^{2}{\\left(\\alpha u - \\alpha v \\right)}} & 0\\\\0 & 0 & \\frac{\\alpha \\sin{\\left(\\alpha \\left(u - v\\right) \\right)} \\cos{\\left(\\alpha \\left(u - v\\right) \\right)}}{\\cos^{2}{\\left(\\alpha u - \\alpha v \\right)}} & 0\\\\- \\frac{\\alpha \\sin{\\left(\\alpha \\left(u - v\\right) \\right)} \\cos{\\left(\\alpha \\left(u - v\\right) \\right)}}{\\cos^{2}{\\left(\\alpha u - \\alpha v \\right)}} & \\frac{\\alpha \\sin{\\left(\\alpha \\left(u - v\\right) \\right)} \\cos{\\left(\\alpha \\left(u - v\\right) \\right)}}{\\cos^{2}{\\left(\\alpha u - \\alpha v \\right)}} & 0 & 0\\\\0 & 0 & 0 & 0\\end{matrix}\\right] & \\left[\\begin{matrix}0 & 0 & 0 & - \\frac{\\beta \\sin{\\left(\\beta \\left(u + v\\right) \\right)} \\cos{\\left(\\beta \\left(u + v\\right) \\right)}}{\\cos^{2}{\\left(\\beta u + \\beta v \\right)}}\\\\0 & 0 & 0 & - \\frac{\\beta \\sin{\\left(\\beta \\left(u + v\\right) \\right)} \\cos{\\left(\\beta \\left(u + v\\right) \\right)}}{\\cos^{2}{\\left(\\beta u + \\beta v \\right)}}\\\\0 & 0 & 0 & 0\\\\- \\frac{\\beta \\sin{\\left(\\beta \\left(u + v\\right) \\right)} \\cos{\\left(\\beta \\left(u + v\\right) \\right)}}{\\cos^{2}{\\left(\\beta u + \\beta v \\right)}} & - \\frac{\\beta \\sin{\\left(\\beta \\left(u + v\\right) \\right)} \\cos{\\left(\\beta \\left(u + v\\right) \\right)}}{\\cos^{2}{\\left(\\beta u + \\beta v \\right)}} & 0 & 0\\end{matrix}\\right]\\end{matrix}\\right]$"
      ],
      "text/plain": [
       "⎡                                                                                           \n",
       "⎢                                                                                           \n",
       "⎢                                                                                           \n",
       "⎢                                                                                           \n",
       "⎢                                                                                           \n",
       "⎢⎡0  0                 0                                0                ⎤  ⎡0  0           \n",
       "⎢⎢                                                                       ⎥  ⎢               \n",
       "⎢⎢0  0                 0                                0                ⎥  ⎢0  0           \n",
       "⎢⎢                                                                       ⎥  ⎢               \n",
       "⎢⎢0  0  α⋅sin(α⋅(u - v))⋅cos(α⋅(u - v))                 0                ⎥  ⎢0  0  -α⋅sin(α⋅\n",
       "⎢⎢                                                                       ⎥  ⎢               \n",
       "⎢⎣0  0                 0                 -β⋅sin(β⋅(u + v))⋅cos(β⋅(u + v))⎦  ⎣0  0           \n",
       "⎢                                                                                           \n",
       "⎢                                                                                           \n",
       "⎢                                                                                           \n",
       "⎣                                                                                           \n",
       "\n",
       "                                                            ⎡                               \n",
       "                                                            ⎢                0              \n",
       "                                                            ⎢                               \n",
       "                                                            ⎢                               \n",
       "                                                            ⎢                               \n",
       "      0                                 0                ⎤  ⎢                               \n",
       "                                                         ⎥  ⎢                0              \n",
       "      0                                 0                ⎥  ⎢                               \n",
       "                                                         ⎥  ⎢                               \n",
       "(u - v))⋅cos(α⋅(u - v))                 0                ⎥  ⎢                               \n",
       "                                                         ⎥  ⎢-α⋅sin(α⋅(u - v))⋅cos(α⋅(u - v)\n",
       "      0                  -β⋅sin(β⋅(u + v))⋅cos(β⋅(u + v))⎦  ⎢───────────────────────────────\n",
       "                                                            ⎢            2                  \n",
       "                                                            ⎢         cos (α⋅u - α⋅v)       \n",
       "                                                            ⎢                               \n",
       "                                                            ⎣                0              \n",
       "\n",
       "                                     -α⋅sin(α⋅(u - v))⋅cos(α⋅(u - v))    ⎤  ⎡               \n",
       "                   0                 ─────────────────────────────────  0⎥  ⎢               \n",
       "                                                 2                       ⎥  ⎢               \n",
       "                                              cos (α⋅u - α⋅v)            ⎥  ⎢               \n",
       "                                                                         ⎥  ⎢               \n",
       "                                      α⋅sin(α⋅(u - v))⋅cos(α⋅(u - v))    ⎥  ⎢               \n",
       "                   0                  ───────────────────────────────   0⎥  ⎢               \n",
       "                                                 2                       ⎥  ⎢               \n",
       "                                              cos (α⋅u - α⋅v)            ⎥  ⎢               \n",
       "                                                                         ⎥  ⎢               \n",
       ")   α⋅sin(α⋅(u - v))⋅cos(α⋅(u - v))                                      ⎥  ⎢               \n",
       "──  ───────────────────────────────                  0                  0⎥  ⎢               \n",
       "               2                                                         ⎥  ⎢-β⋅sin(β⋅(u + v\n",
       "            cos (α⋅u - α⋅v)                                              ⎥  ⎢───────────────\n",
       "                                                                         ⎥  ⎢            2  \n",
       "                   0                                 0                  0⎦  ⎣         cos (β\n",
       "\n",
       "                                                          -β⋅sin(β⋅(u + v))⋅cos(β⋅(u + v)) ⎤\n",
       " 0                                  0                  0  ─────────────────────────────────⎥\n",
       "                                                                      2                    ⎥\n",
       "                                                                   cos (β⋅u + β⋅v)         ⎥\n",
       "                                                                                           ⎥\n",
       "                                                          -β⋅sin(β⋅(u + v))⋅cos(β⋅(u + v)) ⎥\n",
       " 0                                  0                  0  ─────────────────────────────────⎥\n",
       "                                                                      2                    ⎥\n",
       "                                                                   cos (β⋅u + β⋅v)         ⎥\n",
       "                                                                                           ⎥\n",
       " 0                                  0                  0                  0                ⎥\n",
       "                                                                                           ⎥\n",
       "))⋅cos(β⋅(u + v))   -β⋅sin(β⋅(u + v))⋅cos(β⋅(u + v))                                       ⎥\n",
       "──────────────────  ─────────────────────────────────  0                  0                ⎥\n",
       "                                2                                                          ⎥\n",
       "⋅u + β⋅v)                    cos (β⋅u + β⋅v)                                               ⎦\n",
       "\n",
       "⎤\n",
       "⎥\n",
       "⎥\n",
       "⎥\n",
       "⎥\n",
       "⎥\n",
       "⎥\n",
       "⎥\n",
       "⎥\n",
       "⎥\n",
       "⎥\n",
       "⎥\n",
       "⎥\n",
       "⎥\n",
       "⎥\n",
       "⎦"
      ]
     },
     "execution_count": 16,
     "metadata": {},
     "output_type": "execute_result"
    }
   ],
   "source": [
    "ch = ChristoffelSymbols.from_metric(metric)\n",
    "ch.tensor()"
   ]
  },
  {
   "cell_type": "code",
   "execution_count": 17,
   "id": "36f4dd31",
   "metadata": {},
   "outputs": [
    {
     "data": {
      "text/latex": [
       "$\\displaystyle \\left[\\begin{matrix}\\alpha^{2} + \\beta^{2} & - \\alpha^{2} + \\beta^{2} & 0 & 0\\\\- \\alpha^{2} + \\beta^{2} & \\alpha^{2} + \\beta^{2} & 0 & 0\\\\0 & 0 & 2 \\alpha^{2} \\cos^{2}{\\left(\\alpha \\left(u - v\\right) \\right)} & 0\\\\0 & 0 & 0 & - 2 \\beta^{2} \\cos^{2}{\\left(\\beta \\left(u + v\\right) \\right)}\\end{matrix}\\right]$"
      ],
      "text/plain": [
       "⎡  2    2      2    2                                             ⎤\n",
       "⎢ α  + β    - α  + β            0                      0          ⎥\n",
       "⎢                                                                 ⎥\n",
       "⎢   2    2    2    2                                              ⎥\n",
       "⎢- α  + β    α  + β             0                      0          ⎥\n",
       "⎢                                                                 ⎥\n",
       "⎢                         2    2                                  ⎥\n",
       "⎢    0          0      2⋅α ⋅cos (α⋅(u - v))            0          ⎥\n",
       "⎢                                                                 ⎥\n",
       "⎢                                                2    2           ⎥\n",
       "⎣    0          0               0            -2⋅β ⋅cos (β⋅(u + v))⎦"
      ]
     },
     "execution_count": 17,
     "metadata": {},
     "output_type": "execute_result"
    }
   ],
   "source": [
    "Ric = RicciTensor.from_metric(metric)\n",
    "Ric.tensor()"
   ]
  },
  {
   "cell_type": "code",
   "execution_count": 19,
   "id": "5e2eff98",
   "metadata": {},
   "outputs": [
    {
     "data": {
      "image/png": "[encoded data removed]",
      "text/latex": [
       "$\\displaystyle - 4 \\alpha^{2} + 4 \\beta^{2}$"
      ],
      "text/plain": [
       "     2      2\n",
       "- 4⋅α  + 4⋅β "
      ]
     },
     "execution_count": 19,
     "metadata": {},
     "output_type": "execute_result"
    }
   ],
   "source": [
    "R = RicciScalar.from_riccitensor(Ric)\n",
    "R.simplify()\n",
    "R.expr"
   ]
  },
  {
   "cell_type": "code",
   "execution_count": 20,
   "id": "c63742aa",
   "metadata": {},
   "outputs": [
    {
     "data": {
      "text/latex": [
       "$\\displaystyle \\left[\\begin{matrix}\\alpha^{2} + \\beta^{2} & 1.0 \\alpha^{2} - 1.0 \\beta^{2} & 0 & 0\\\\1.0 \\alpha^{2} - 1.0 \\beta^{2} & \\alpha^{2} + \\beta^{2} & 0 & 0\\\\0 & 0 & 2 \\alpha^{2} \\cos^{2}{\\left(\\alpha \\left(u - v\\right) \\right)} + 0.5 \\left(- 4 \\alpha^{2} + 4 \\beta^{2}\\right) \\cos^{2}{\\left(\\alpha \\left(u - v\\right) \\right)} & 0\\\\0 & 0 & 0 & - 2 \\beta^{2} \\cos^{2}{\\left(\\beta \\left(u + v\\right) \\right)} + 0.5 \\left(- 4 \\alpha^{2} + 4 \\beta^{2}\\right) \\cos^{2}{\\left(\\beta \\left(u + v\\right) \\right)}\\end{matrix}\\right]$"
      ],
      "text/plain": [
       "⎡   2    2         2    2                                                                   \n",
       "⎢  α  + β     1.0⋅α  - β                               0                                    \n",
       "⎢                                                                                           \n",
       "⎢     2    2     2    2                                                                     \n",
       "⎢1.0⋅α  - β     α  + β                                 0                                    \n",
       "⎢                                                                                           \n",
       "⎢                             2    2                  ⎛     2      2⎞    2                  \n",
       "⎢     0            0       2⋅α ⋅cos (α⋅(u - v)) + 0.5⋅⎝- 4⋅α  + 4⋅β ⎠⋅cos (α⋅(u - v))       \n",
       "⎢                                                                                           \n",
       "⎢                                                                                           \n",
       "⎣     0            0                                   0                               - 2⋅β\n",
       "\n",
       "                                                       ⎤\n",
       "                        0                              ⎥\n",
       "                                                       ⎥\n",
       "                                                       ⎥\n",
       "                        0                              ⎥\n",
       "                                                       ⎥\n",
       "                                                       ⎥\n",
       "                        0                              ⎥\n",
       "                                                       ⎥\n",
       "2    2                  ⎛     2      2⎞    2           ⎥\n",
       " ⋅cos (β⋅(u + v)) + 0.5⋅⎝- 4⋅α  + 4⋅β ⎠⋅cos (β⋅(u + v))⎦"
      ]
     },
     "execution_count": 20,
     "metadata": {},
     "output_type": "execute_result"
    }
   ],
   "source": [
    "einst = EinsteinTensor.from_metric(metric)\n",
    "einst.tensor()"
   ]
  },
  {
   "cell_type": "code",
   "execution_count": 21,
   "id": "a2b5fbb1",
   "metadata": {},
   "outputs": [
    {
     "data": {
      "text/latex": [
       "$\\displaystyle \\left[\\begin{matrix}\\left[\\begin{matrix}0 & 0 & 0 & 0\\\\0 & 0 & 0 & 0\\\\0 & 0 & 0 & 0\\\\0 & 0 & 0 & 0\\end{matrix}\\right] & \\left[\\begin{matrix}0 & 0 & 0 & 0\\\\0 & 0 & 0 & 0\\\\0 & 0 & 0 & 0\\\\0 & 0 & 0 & 0\\end{matrix}\\right] & \\left[\\begin{matrix}0 & 0 & \\alpha^{2} \\cos^{2}{\\left(\\alpha \\left(u - v\\right) \\right)} & 0\\\\0 & 0 & - \\alpha^{2} \\cos^{2}{\\left(\\alpha \\left(u - v\\right) \\right)} & 0\\\\- \\alpha^{2} \\cos^{2}{\\left(\\alpha \\left(u - v\\right) \\right)} & \\alpha^{2} \\cos^{2}{\\left(\\alpha \\left(u - v\\right) \\right)} & 0 & 0\\\\0 & 0 & 0 & 0\\end{matrix}\\right] & \\left[\\begin{matrix}0 & 0 & 0 & - \\beta^{2} \\cos^{2}{\\left(\\beta \\left(u + v\\right) \\right)}\\\\0 & 0 & 0 & - \\beta^{2} \\cos^{2}{\\left(\\beta \\left(u + v\\right) \\right)}\\\\0 & 0 & 0 & 0\\\\\\beta^{2} \\cos^{2}{\\left(\\beta \\left(u + v\\right) \\right)} & \\beta^{2} \\cos^{2}{\\left(\\beta \\left(u + v\\right) \\right)} & 0 & 0\\end{matrix}\\right]\\\\\\left[\\begin{matrix}0 & 0 & 0 & 0\\\\0 & 0 & 0 & 0\\\\0 & 0 & 0 & 0\\\\0 & 0 & 0 & 0\\end{matrix}\\right] & \\left[\\begin{matrix}0 & 0 & 0 & 0\\\\0 & 0 & 0 & 0\\\\0 & 0 & 0 & 0\\\\0 & 0 & 0 & 0\\end{matrix}\\right] & \\left[\\begin{matrix}0 & 0 & - \\alpha^{2} \\cos^{2}{\\left(\\alpha \\left(u - v\\right) \\right)} & 0\\\\0 & 0 & \\alpha^{2} \\cos^{2}{\\left(\\alpha \\left(u - v\\right) \\right)} & 0\\\\\\alpha^{2} \\cos^{2}{\\left(\\alpha \\left(u - v\\right) \\right)} & - \\alpha^{2} \\cos^{2}{\\left(\\alpha \\left(u - v\\right) \\right)} & 0 & 0\\\\0 & 0 & 0 & 0\\end{matrix}\\right] & \\left[\\begin{matrix}0 & 0 & 0 & - \\beta^{2} \\cos^{2}{\\left(\\beta \\left(u + v\\right) \\right)}\\\\0 & 0 & 0 & - \\beta^{2} \\cos^{2}{\\left(\\beta \\left(u + v\\right) \\right)}\\\\0 & 0 & 0 & 0\\\\\\beta^{2} \\cos^{2}{\\left(\\beta \\left(u + v\\right) \\right)} & \\beta^{2} \\cos^{2}{\\left(\\beta \\left(u + v\\right) \\right)} & 0 & 0\\end{matrix}\\right]\\\\\\left[\\begin{matrix}0 & 0 & - \\alpha^{2} & 0\\\\0 & 0 & \\alpha^{2} & 0\\\\\\alpha^{2} & - \\alpha^{2} & 0 & 0\\\\0 & 0 & 0 & 0\\end{matrix}\\right] & \\left[\\begin{matrix}0 & 0 & \\alpha^{2} & 0\\\\0 & 0 & - \\alpha^{2} & 0\\\\- \\alpha^{2} & \\alpha^{2} & 0 & 0\\\\0 & 0 & 0 & 0\\end{matrix}\\right] & \\left[\\begin{matrix}0 & 0 & 0 & 0\\\\0 & 0 & 0 & 0\\\\0 & 0 & 0 & 0\\\\0 & 0 & 0 & 0\\end{matrix}\\right] & \\left[\\begin{matrix}0 & 0 & 0 & 0\\\\0 & 0 & 0 & 0\\\\0 & 0 & 0 & 0\\\\0 & 0 & 0 & 0\\end{matrix}\\right]\\\\\\left[\\begin{matrix}0 & 0 & 0 & - \\beta^{2}\\\\0 & 0 & 0 & - \\beta^{2}\\\\0 & 0 & 0 & 0\\\\\\beta^{2} & \\beta^{2} & 0 & 0\\end{matrix}\\right] & \\left[\\begin{matrix}0 & 0 & 0 & - \\beta^{2}\\\\0 & 0 & 0 & - \\beta^{2}\\\\0 & 0 & 0 & 0\\\\\\beta^{2} & \\beta^{2} & 0 & 0\\end{matrix}\\right] & \\left[\\begin{matrix}0 & 0 & 0 & 0\\\\0 & 0 & 0 & 0\\\\0 & 0 & 0 & 0\\\\0 & 0 & 0 & 0\\end{matrix}\\right] & \\left[\\begin{matrix}0 & 0 & 0 & 0\\\\0 & 0 & 0 & 0\\\\0 & 0 & 0 & 0\\\\0 & 0 & 0 & 0\\end{matrix}\\right]\\end{matrix}\\right]$"
      ],
      "text/plain": [
       "⎡                                      ⎡                                          2    2    \n",
       "⎢                                      ⎢         0                   0           α ⋅cos (α⋅(\n",
       "⎢  ⎡0  0  0  0⎤       ⎡0  0  0  0⎤     ⎢                                                    \n",
       "⎢  ⎢          ⎥       ⎢          ⎥     ⎢                                           2    2   \n",
       "⎢  ⎢0  0  0  0⎥       ⎢0  0  0  0⎥     ⎢         0                   0           -α ⋅cos (α⋅\n",
       "⎢  ⎢          ⎥       ⎢          ⎥     ⎢                                                    \n",
       "⎢  ⎢0  0  0  0⎥       ⎢0  0  0  0⎥     ⎢  2    2              2    2                        \n",
       "⎢  ⎢          ⎥       ⎢          ⎥     ⎢-α ⋅cos (α⋅(u - v))  α ⋅cos (α⋅(u - v))           0 \n",
       "⎢  ⎣0  0  0  0⎦       ⎣0  0  0  0⎦     ⎢                                                    \n",
       "⎢                                      ⎣         0                   0                    0 \n",
       "⎢                                                                                           \n",
       "⎢                                      ⎡                                           2    2   \n",
       "⎢                                      ⎢        0                    0           -α ⋅cos (α⋅\n",
       "⎢  ⎡0  0  0  0⎤       ⎡0  0  0  0⎤     ⎢                                                    \n",
       "⎢  ⎢          ⎥       ⎢          ⎥     ⎢                                          2    2    \n",
       "⎢  ⎢0  0  0  0⎥       ⎢0  0  0  0⎥     ⎢        0                    0           α ⋅cos (α⋅(\n",
       "⎢  ⎢          ⎥       ⎢          ⎥     ⎢                                                    \n",
       "⎢  ⎢0  0  0  0⎥       ⎢0  0  0  0⎥     ⎢ 2    2               2    2                        \n",
       "⎢  ⎢          ⎥       ⎢          ⎥     ⎢α ⋅cos (α⋅(u - v))  -α ⋅cos (α⋅(u - v))           0 \n",
       "⎢  ⎣0  0  0  0⎦       ⎣0  0  0  0⎦     ⎢                                                    \n",
       "⎢                                      ⎣        0                    0                    0 \n",
       "⎢                                                                                           \n",
       "⎢⎡           2   ⎤  ⎡          2    ⎤                                                       \n",
       "⎢⎢0    0   -α   0⎥  ⎢ 0   0   α    0⎥                                                       \n",
       "⎢⎢               ⎥  ⎢               ⎥                            ⎡0  0  0  0⎤               \n",
       "⎢⎢          2    ⎥  ⎢           2   ⎥                            ⎢          ⎥               \n",
       "⎢⎢0    0   α    0⎥  ⎢ 0   0   -α   0⎥                            ⎢0  0  0  0⎥               \n",
       "⎢⎢               ⎥  ⎢               ⎥                            ⎢          ⎥               \n",
       "⎢⎢ 2    2        ⎥  ⎢  2   2        ⎥                            ⎢0  0  0  0⎥               \n",
       "⎢⎢α   -α    0   0⎥  ⎢-α   α    0   0⎥                            ⎢          ⎥               \n",
       "⎢⎢               ⎥  ⎢               ⎥                            ⎣0  0  0  0⎦               \n",
       "⎢⎣0    0    0   0⎦  ⎣ 0   0    0   0⎦                                                       \n",
       "⎢                                                                                           \n",
       "⎢⎡             2⎤   ⎡             2⎤                                                        \n",
       "⎢⎢0   0   0  -β ⎥   ⎢0   0   0  -β ⎥                                                        \n",
       "⎢⎢              ⎥   ⎢              ⎥                             ⎡0  0  0  0⎤               \n",
       "⎢⎢             2⎥   ⎢             2⎥                             ⎢          ⎥               \n",
       "⎢⎢0   0   0  -β ⎥   ⎢0   0   0  -β ⎥                             ⎢0  0  0  0⎥               \n",
       "⎢⎢              ⎥   ⎢              ⎥                             ⎢          ⎥               \n",
       "⎢⎢0   0   0   0 ⎥   ⎢0   0   0   0 ⎥                             ⎢0  0  0  0⎥               \n",
       "⎢⎢              ⎥   ⎢              ⎥                             ⎢          ⎥               \n",
       "⎢⎢ 2   2        ⎥   ⎢ 2   2        ⎥                             ⎣0  0  0  0⎦               \n",
       "⎣⎣β   β   0   0 ⎦   ⎣β   β   0   0 ⎦                                                        \n",
       "\n",
       "           ⎤  ⎡                                             2    2           ⎤⎤\n",
       "u - v))   0⎥  ⎢        0                   0           0  -β ⋅cos (β⋅(u + v))⎥⎥\n",
       "           ⎥  ⎢                                                              ⎥⎥\n",
       "           ⎥  ⎢                                             2    2           ⎥⎥\n",
       "(u - v))  0⎥  ⎢        0                   0           0  -β ⋅cos (β⋅(u + v))⎥⎥\n",
       "           ⎥  ⎢                                                              ⎥⎥\n",
       "           ⎥  ⎢        0                   0           0           0         ⎥⎥\n",
       "          0⎥  ⎢                                                              ⎥⎥\n",
       "           ⎥  ⎢ 2    2              2    2                                   ⎥⎥\n",
       "          0⎦  ⎣β ⋅cos (β⋅(u + v))  β ⋅cos (β⋅(u + v))  0           0         ⎦⎥\n",
       "                                                                              ⎥\n",
       "           ⎤  ⎡                                             2    2           ⎤⎥\n",
       "(u - v))  0⎥  ⎢        0                   0           0  -β ⋅cos (β⋅(u + v))⎥⎥\n",
       "           ⎥  ⎢                                                              ⎥⎥\n",
       "           ⎥  ⎢                                             2    2           ⎥⎥\n",
       "u - v))   0⎥  ⎢        0                   0           0  -β ⋅cos (β⋅(u + v))⎥⎥\n",
       "           ⎥  ⎢                                                              ⎥⎥\n",
       "           ⎥  ⎢        0                   0           0           0         ⎥⎥\n",
       "          0⎥  ⎢                                                              ⎥⎥\n",
       "           ⎥  ⎢ 2    2              2    2                                   ⎥⎥\n",
       "          0⎦  ⎣β ⋅cos (β⋅(u + v))  β ⋅cos (β⋅(u + v))  0           0         ⎦⎥\n",
       "                                                                              ⎥\n",
       "                                                                              ⎥\n",
       "                                                                              ⎥\n",
       "                                        ⎡0  0  0  0⎤                          ⎥\n",
       "                                        ⎢          ⎥                          ⎥\n",
       "                                        ⎢0  0  0  0⎥                          ⎥\n",
       "                                        ⎢          ⎥                          ⎥\n",
       "                                        ⎢0  0  0  0⎥                          ⎥\n",
       "                                        ⎢          ⎥                          ⎥\n",
       "                                        ⎣0  0  0  0⎦                          ⎥\n",
       "                                                                              ⎥\n",
       "                                                                              ⎥\n",
       "                                                                              ⎥\n",
       "                                                                              ⎥\n",
       "                                        ⎡0  0  0  0⎤                          ⎥\n",
       "                                        ⎢          ⎥                          ⎥\n",
       "                                        ⎢0  0  0  0⎥                          ⎥\n",
       "                                        ⎢          ⎥                          ⎥\n",
       "                                        ⎢0  0  0  0⎥                          ⎥\n",
       "                                        ⎢          ⎥                          ⎥\n",
       "                                        ⎣0  0  0  0⎦                          ⎥\n",
       "                                                                              ⎦"
      ]
     },
     "execution_count": 21,
     "metadata": {},
     "output_type": "execute_result"
    }
   ],
   "source": [
    "rm1 = RiemannCurvatureTensor.from_christoffels(ch)\n",
    "rm1.tensor()"
   ]
  },
  {
   "cell_type": "code",
   "execution_count": 22,
   "id": "b71fad0b",
   "metadata": {},
   "outputs": [
    {
     "data": {
      "text/latex": [
       "$\\displaystyle \\left[\\begin{matrix}\\left[\\begin{matrix}0 & 0 & 0 & 0\\\\0 & 0 & 0 & 0\\\\0 & 0 & 0 & 0\\\\0 & 0 & 0 & 0\\end{matrix}\\right] & \\left[\\begin{matrix}0 & - \\frac{\\alpha^{2}}{3} + \\frac{\\beta^{2}}{3} & 0 & 0\\\\\\frac{\\alpha^{2}}{3} - \\frac{\\beta^{2}}{3} & 0 & 0 & 0\\\\0 & 0 & 0 & 0\\\\0 & 0 & 0 & 0\\end{matrix}\\right] & \\left[\\begin{matrix}0 & 0 & \\frac{\\left(- \\alpha^{2} + \\beta^{2}\\right) \\cos^{2}{\\left(\\alpha \\left(u - v\\right) \\right)}}{2} & 0\\\\0 & 0 & \\frac{\\left(\\alpha^{2} - \\beta^{2}\\right) \\cos^{2}{\\left(\\alpha \\left(u - v\\right) \\right)}}{6} & 0\\\\\\frac{\\left(\\alpha^{2} - \\beta^{2}\\right) \\cos^{2}{\\left(\\alpha \\left(u - v\\right) \\right)}}{2} & \\frac{\\left(- \\alpha^{2} + \\beta^{2}\\right) \\cos^{2}{\\left(\\alpha \\left(u - v\\right) \\right)}}{6} & 0 & 0\\\\0 & 0 & 0 & 0\\end{matrix}\\right] & \\left[\\begin{matrix}0 & 0 & 0 & \\frac{\\left(\\alpha^{2} - \\beta^{2}\\right) \\cos^{2}{\\left(\\beta \\left(u + v\\right) \\right)}}{2}\\\\0 & 0 & 0 & \\frac{\\left(\\alpha^{2} - \\beta^{2}\\right) \\cos^{2}{\\left(\\beta \\left(u + v\\right) \\right)}}{6}\\\\0 & 0 & 0 & 0\\\\\\frac{\\left(- \\alpha^{2} + \\beta^{2}\\right) \\cos^{2}{\\left(\\beta \\left(u + v\\right) \\right)}}{2} & \\frac{\\left(- \\alpha^{2} + \\beta^{2}\\right) \\cos^{2}{\\left(\\beta \\left(u + v\\right) \\right)}}{6} & 0 & 0\\end{matrix}\\right]\\\\\\left[\\begin{matrix}0 & \\frac{\\alpha^{2}}{3} - \\frac{\\beta^{2}}{3} & 0 & 0\\\\- \\frac{\\alpha^{2}}{3} + \\frac{\\beta^{2}}{3} & 0 & 0 & 0\\\\0 & 0 & 0 & 0\\\\0 & 0 & 0 & 0\\end{matrix}\\right] & \\left[\\begin{matrix}0 & 0 & 0 & 0\\\\0 & 0 & 0 & 0\\\\0 & 0 & 0 & 0\\\\0 & 0 & 0 & 0\\end{matrix}\\right] & \\left[\\begin{matrix}0 & 0 & \\frac{\\left(\\alpha^{2} - \\beta^{2}\\right) \\cos^{2}{\\left(\\alpha \\left(u - v\\right) \\right)}}{6} & 0\\\\0 & 0 & \\frac{\\left(- \\alpha^{2} + \\beta^{2}\\right) \\cos^{2}{\\left(\\alpha \\left(u - v\\right) \\right)}}{2} & 0\\\\\\frac{\\left(- \\alpha^{2} + \\beta^{2}\\right) \\cos^{2}{\\left(\\alpha \\left(u - v\\right) \\right)}}{6} & \\frac{\\left(\\alpha^{2} - \\beta^{2}\\right) \\cos^{2}{\\left(\\alpha \\left(u - v\\right) \\right)}}{2} & 0 & 0\\\\0 & 0 & 0 & 0\\end{matrix}\\right] & \\left[\\begin{matrix}0 & 0 & 0 & \\frac{\\left(\\alpha^{2} - \\beta^{2}\\right) \\cos^{2}{\\left(\\beta \\left(u + v\\right) \\right)}}{6}\\\\0 & 0 & 0 & \\frac{\\left(\\alpha^{2} - \\beta^{2}\\right) \\cos^{2}{\\left(\\beta \\left(u + v\\right) \\right)}}{2}\\\\0 & 0 & 0 & 0\\\\\\frac{\\left(- \\alpha^{2} + \\beta^{2}\\right) \\cos^{2}{\\left(\\beta \\left(u + v\\right) \\right)}}{6} & \\frac{\\left(- \\alpha^{2} + \\beta^{2}\\right) \\cos^{2}{\\left(\\beta \\left(u + v\\right) \\right)}}{2} & 0 & 0\\end{matrix}\\right]\\\\\\left[\\begin{matrix}0 & 0 & \\frac{\\left(\\alpha^{2} - \\beta^{2}\\right) \\cos^{2}{\\left(\\alpha \\left(u - v\\right) \\right)}}{2} & 0\\\\0 & 0 & \\frac{\\left(- \\alpha^{2} + \\beta^{2}\\right) \\cos^{2}{\\left(\\alpha \\left(u - v\\right) \\right)}}{6} & 0\\\\\\frac{\\left(- \\alpha^{2} + \\beta^{2}\\right) \\cos^{2}{\\left(\\alpha \\left(u - v\\right) \\right)}}{2} & \\frac{\\left(\\alpha^{2} - \\beta^{2}\\right) \\cos^{2}{\\left(\\alpha \\left(u - v\\right) \\right)}}{6} & 0 & 0\\\\0 & 0 & 0 & 0\\end{matrix}\\right] & \\left[\\begin{matrix}0 & 0 & \\frac{\\left(- \\alpha^{2} + \\beta^{2}\\right) \\cos^{2}{\\left(\\alpha \\left(u - v\\right) \\right)}}{6} & 0\\\\0 & 0 & \\frac{\\left(\\alpha^{2} - \\beta^{2}\\right) \\cos^{2}{\\left(\\alpha \\left(u - v\\right) \\right)}}{2} & 0\\\\\\frac{\\left(\\alpha^{2} - \\beta^{2}\\right) \\cos^{2}{\\left(\\alpha \\left(u - v\\right) \\right)}}{6} & \\frac{\\left(- \\alpha^{2} + \\beta^{2}\\right) \\cos^{2}{\\left(\\alpha \\left(u - v\\right) \\right)}}{2} & 0 & 0\\\\0 & 0 & 0 & 0\\end{matrix}\\right] & \\left[\\begin{matrix}0 & 0 & 0 & 0\\\\0 & 0 & 0 & 0\\\\0 & 0 & 0 & 0\\\\0 & 0 & 0 & 0\\end{matrix}\\right] & \\left[\\begin{matrix}0 & 0 & 0 & 0\\\\0 & 0 & 0 & 0\\\\0 & 0 & 0 & \\frac{\\left(\\alpha^{2} - \\beta^{2}\\right) \\cos^{2}{\\left(\\alpha \\left(u - v\\right) \\right)} \\cos^{2}{\\left(\\beta \\left(u + v\\right) \\right)}}{3}\\\\0 & 0 & \\frac{\\left(- \\alpha^{2} + \\beta^{2}\\right) \\cos^{2}{\\left(\\alpha \\left(u - v\\right) \\right)} \\cos^{2}{\\left(\\beta \\left(u + v\\right) \\right)}}{3} & 0\\end{matrix}\\right]\\\\\\left[\\begin{matrix}0 & 0 & 0 & \\frac{\\left(- \\alpha^{2} + \\beta^{2}\\right) \\cos^{2}{\\left(\\beta \\left(u + v\\right) \\right)}}{2}\\\\0 & 0 & 0 & \\frac{\\left(- \\alpha^{2} + \\beta^{2}\\right) \\cos^{2}{\\left(\\beta \\left(u + v\\right) \\right)}}{6}\\\\0 & 0 & 0 & 0\\\\\\frac{\\left(\\alpha^{2} - \\beta^{2}\\right) \\cos^{2}{\\left(\\beta \\left(u + v\\right) \\right)}}{2} & \\frac{\\left(\\alpha^{2} - \\beta^{2}\\right) \\cos^{2}{\\left(\\beta \\left(u + v\\right) \\right)}}{6} & 0 & 0\\end{matrix}\\right] & \\left[\\begin{matrix}0 & 0 & 0 & \\frac{\\left(- \\alpha^{2} + \\beta^{2}\\right) \\cos^{2}{\\left(\\beta \\left(u + v\\right) \\right)}}{6}\\\\0 & 0 & 0 & \\frac{\\left(- \\alpha^{2} + \\beta^{2}\\right) \\cos^{2}{\\left(\\beta \\left(u + v\\right) \\right)}}{2}\\\\0 & 0 & 0 & 0\\\\\\frac{\\left(\\alpha^{2} - \\beta^{2}\\right) \\cos^{2}{\\left(\\beta \\left(u + v\\right) \\right)}}{6} & \\frac{\\left(\\alpha^{2} - \\beta^{2}\\right) \\cos^{2}{\\left(\\beta \\left(u + v\\right) \\right)}}{2} & 0 & 0\\end{matrix}\\right] & \\left[\\begin{matrix}0 & 0 & 0 & 0\\\\0 & 0 & 0 & 0\\\\0 & 0 & 0 & \\frac{\\left(- \\alpha^{2} + \\beta^{2}\\right) \\cos^{2}{\\left(\\alpha \\left(u - v\\right) \\right)} \\cos^{2}{\\left(\\beta \\left(u + v\\right) \\right)}}{3}\\\\0 & 0 & \\frac{\\left(\\alpha^{2} - \\beta^{2}\\right) \\cos^{2}{\\left(\\alpha \\left(u - v\\right) \\right)} \\cos^{2}{\\left(\\beta \\left(u + v\\right) \\right)}}{3} & 0\\end{matrix}\\right] & \\left[\\begin{matrix}0 & 0 & 0 & 0\\\\0 & 0 & 0 & 0\\\\0 & 0 & 0 & 0\\\\0 & 0 & 0 & 0\\end{matrix}\\right]\\end{matrix}\\right]$"
      ],
      "text/plain": [
       "⎡                                                                                           \n",
       "⎢                                                                                           \n",
       "⎢                                                                                           \n",
       "⎢                                                                                           \n",
       "⎢                                                                                           \n",
       "⎢                                      ⎡0  0  0  0⎤                                         \n",
       "⎢                                      ⎢          ⎥                                         \n",
       "⎢                                      ⎢0  0  0  0⎥                                         \n",
       "⎢                                      ⎢          ⎥                                         \n",
       "⎢                                      ⎢0  0  0  0⎥                                         \n",
       "⎢                                      ⎢          ⎥                                         \n",
       "⎢                                      ⎣0  0  0  0⎦                                         \n",
       "⎢                                                                                           \n",
       "⎢                                                                                           \n",
       "⎢                                                                                           \n",
       "⎢                                                                                           \n",
       "⎢                                                                                           \n",
       "⎢                                                                                           \n",
       "⎢                                                                                           \n",
       "⎢                               ⎡            2    2      ⎤                                  \n",
       "⎢                               ⎢           α    β       ⎥                                  \n",
       "⎢                               ⎢    0      ── - ──  0  0⎥                                  \n",
       "⎢                               ⎢           3    3       ⎥                                  \n",
       "⎢                               ⎢                        ⎥                                  \n",
       "⎢                               ⎢   2    2               ⎥                                  \n",
       "⎢                               ⎢  α    β                ⎥                                  \n",
       "⎢                               ⎢- ── + ──     0     0  0⎥                                  \n",
       "⎢                               ⎢  3    3                ⎥                                  \n",
       "⎢                               ⎢                        ⎥                                  \n",
       "⎢                               ⎢    0         0     0  0⎥                                  \n",
       "⎢                               ⎢                        ⎥                                  \n",
       "⎢                               ⎣    0         0     0  0⎦                                  \n",
       "⎢                                                                                           \n",
       "⎢                                                                                           \n",
       "⎢⎡                                                         ⎛ 2    2⎞    2               ⎤  ⎡\n",
       "⎢⎢                                                         ⎝α  - β ⎠⋅cos (α⋅(u - v))    ⎥  ⎢\n",
       "⎢⎢             0                           0               ─────────────────────────   0⎥  ⎢\n",
       "⎢⎢                                                                     2                ⎥  ⎢\n",
       "⎢⎢                                                                                      ⎥  ⎢\n",
       "⎢⎢                                                        ⎛   2    2⎞    2              ⎥  ⎢\n",
       "⎢⎢                                                        ⎝- α  + β ⎠⋅cos (α⋅(u - v))   ⎥  ⎢\n",
       "⎢⎢             0                           0              ───────────────────────────  0⎥  ⎢\n",
       "⎢⎢                                                                     6                ⎥  ⎢\n",
       "⎢⎢                                                                                      ⎥  ⎢\n",
       "⎢⎢⎛   2    2⎞    2             ⎛ 2    2⎞    2                                           ⎥  ⎢\n",
       "⎢⎢⎝- α  + β ⎠⋅cos (α⋅(u - v))  ⎝α  - β ⎠⋅cos (α⋅(u - v))                                ⎥  ⎢\n",
       "⎢⎢───────────────────────────  ─────────────────────────               0               0⎥  ⎢\n",
       "⎢⎢             2                           6                                            ⎥  ⎢\n",
       "⎢⎢                                                                                      ⎥  ⎢\n",
       "⎢⎣             0                           0                           0               0⎦  ⎣\n",
       "⎢                                                                                           \n",
       "⎢ ⎡                                                         ⎛   2    2⎞    2           ⎤    \n",
       "⎢ ⎢                                                         ⎝- α  + β ⎠⋅cos (β⋅(u + v))⎥    \n",
       "⎢ ⎢            0                          0              0  ───────────────────────────⎥    \n",
       "⎢ ⎢                                                                      2             ⎥    \n",
       "⎢ ⎢                                                                                    ⎥    \n",
       "⎢ ⎢                                                         ⎛   2    2⎞    2           ⎥    \n",
       "⎢ ⎢                                                         ⎝- α  + β ⎠⋅cos (β⋅(u + v))⎥    \n",
       "⎢ ⎢            0                          0              0  ───────────────────────────⎥    \n",
       "⎢ ⎢                                                                      6             ⎥    \n",
       "⎢ ⎢                                                                                    ⎥    \n",
       "⎢ ⎢            0                          0              0               0             ⎥    \n",
       "⎢ ⎢                                                                                    ⎥    \n",
       "⎢ ⎢⎛ 2    2⎞    2             ⎛ 2    2⎞    2                                           ⎥    \n",
       "⎢ ⎢⎝α  - β ⎠⋅cos (β⋅(u + v))  ⎝α  - β ⎠⋅cos (β⋅(u + v))                                ⎥    \n",
       "⎢ ⎢─────────────────────────  ─────────────────────────  0               0             ⎥    \n",
       "⎣ ⎣            2                          6                                            ⎦    \n",
       "\n",
       "                                                                                            \n",
       "                                                                                            \n",
       "                              ⎡            2    2      ⎤                                    \n",
       "                              ⎢           α    β       ⎥                                    \n",
       "                              ⎢   0     - ── + ──  0  0⎥                                    \n",
       "                              ⎢           3    3       ⎥                                    \n",
       "                              ⎢                        ⎥                                    \n",
       "                              ⎢ 2    2                 ⎥                                    \n",
       "                              ⎢α    β                  ⎥                                    \n",
       "                              ⎢── - ──      0      0  0⎥                                    \n",
       "                              ⎢3    3                  ⎥                                    \n",
       "                              ⎢                        ⎥                                    \n",
       "                              ⎢   0         0      0  0⎥                                    \n",
       "                              ⎢                        ⎥                                    \n",
       "                              ⎣   0         0      0  0⎦                                    \n",
       "                                                                                            \n",
       "                                                                                            \n",
       "                                                                                            \n",
       "                                                                                            \n",
       "                                                                                            \n",
       "                                                                                            \n",
       "                                                                                            \n",
       "                                     ⎡0  0  0  0⎤                                           \n",
       "                                     ⎢          ⎥                                           \n",
       "                                     ⎢0  0  0  0⎥                                           \n",
       "                                     ⎢          ⎥                                           \n",
       "                                     ⎢0  0  0  0⎥                                           \n",
       "                                     ⎢          ⎥                                           \n",
       "                                     ⎣0  0  0  0⎦                                           \n",
       "                                                                                            \n",
       "                                                                                            \n",
       "                                                                                            \n",
       "                                                                                            \n",
       "                                                                                            \n",
       "                                                        ⎛   2    2⎞    2              ⎤     \n",
       "                                                        ⎝- α  + β ⎠⋅cos (α⋅(u - v))   ⎥     \n",
       "            0                           0               ───────────────────────────  0⎥     \n",
       "                                                                     6                ⎥     \n",
       "                                                                                      ⎥     \n",
       "                                                         ⎛ 2    2⎞    2               ⎥     \n",
       "                                                         ⎝α  - β ⎠⋅cos (α⋅(u - v))    ⎥     \n",
       "            0                           0                ─────────────────────────   0⎥     \n",
       "                                                                     2                ⎥     \n",
       "                                                                                      ⎥     \n",
       "⎛ 2    2⎞    2             ⎛   2    2⎞    2                                           ⎥     \n",
       "⎝α  - β ⎠⋅cos (α⋅(u - v))  ⎝- α  + β ⎠⋅cos (α⋅(u - v))                                ⎥     \n",
       "─────────────────────────  ───────────────────────────               0               0⎥     \n",
       "            6                           2                                             ⎥     \n",
       "                                                                                      ⎥     \n",
       "            0                           0                            0               0⎦     \n",
       "                                                                                            \n",
       "⎡                                                         ⎛   2    2⎞    2           ⎤      \n",
       "⎢                                                         ⎝- α  + β ⎠⋅cos (β⋅(u + v))⎥      \n",
       "⎢            0                          0              0  ───────────────────────────⎥   ⎡0 \n",
       "⎢                                                                      6             ⎥   ⎢  \n",
       "⎢                                                                                    ⎥   ⎢0 \n",
       "⎢                                                         ⎛   2    2⎞    2           ⎥   ⎢  \n",
       "⎢                                                         ⎝- α  + β ⎠⋅cos (β⋅(u + v))⎥   ⎢  \n",
       "⎢            0                          0              0  ───────────────────────────⎥   ⎢  \n",
       "⎢                                                                      2             ⎥   ⎢0 \n",
       "⎢                                                                                    ⎥   ⎢  \n",
       "⎢            0                          0              0               0             ⎥   ⎢  \n",
       "⎢                                                                                    ⎥   ⎢  \n",
       "⎢⎛ 2    2⎞    2             ⎛ 2    2⎞    2                                           ⎥   ⎢  \n",
       "⎢⎝α  - β ⎠⋅cos (β⋅(u + v))  ⎝α  - β ⎠⋅cos (β⋅(u + v))                                ⎥   ⎢0 \n",
       "⎢─────────────────────────  ─────────────────────────  0               0             ⎥   ⎣  \n",
       "⎣            6                          2                                            ⎦      \n",
       "\n",
       "⎡                                                        ⎛   2    2⎞    2              ⎤    \n",
       "⎢                                                        ⎝- α  + β ⎠⋅cos (α⋅(u - v))   ⎥    \n",
       "⎢            0                           0               ───────────────────────────  0⎥    \n",
       "⎢                                                                     2                ⎥    \n",
       "⎢                                                                                      ⎥    \n",
       "⎢                                                         ⎛ 2    2⎞    2               ⎥    \n",
       "⎢                                                         ⎝α  - β ⎠⋅cos (α⋅(u - v))    ⎥    \n",
       "⎢            0                           0                ─────────────────────────   0⎥    \n",
       "⎢                                                                     6                ⎥    \n",
       "⎢                                                                                      ⎥    \n",
       "⎢⎛ 2    2⎞    2             ⎛   2    2⎞    2                                           ⎥    \n",
       "⎢⎝α  - β ⎠⋅cos (α⋅(u - v))  ⎝- α  + β ⎠⋅cos (α⋅(u - v))                                ⎥    \n",
       "⎢─────────────────────────  ───────────────────────────               0               0⎥    \n",
       "⎢            2                           6                                             ⎥    \n",
       "⎢                                                                                      ⎥    \n",
       "⎣            0                           0                            0               0⎦    \n",
       "                                                                                            \n",
       "⎡                                                         ⎛ 2    2⎞    2               ⎤    \n",
       "⎢                                                         ⎝α  - β ⎠⋅cos (α⋅(u - v))    ⎥    \n",
       "⎢             0                           0               ─────────────────────────   0⎥    \n",
       "⎢                                                                     6                ⎥    \n",
       "⎢                                                                                      ⎥    \n",
       "⎢                                                        ⎛   2    2⎞    2              ⎥    \n",
       "⎢                                                        ⎝- α  + β ⎠⋅cos (α⋅(u - v))   ⎥    \n",
       "⎢             0                           0              ───────────────────────────  0⎥    \n",
       "⎢                                                                     2                ⎥    \n",
       "⎢                                                                                      ⎥    \n",
       "⎢⎛   2    2⎞    2             ⎛ 2    2⎞    2                                           ⎥    \n",
       "⎢⎝- α  + β ⎠⋅cos (α⋅(u - v))  ⎝α  - β ⎠⋅cos (α⋅(u - v))                                ⎥    \n",
       "⎢───────────────────────────  ─────────────────────────               0               0⎥    \n",
       "⎢             6                           2                                            ⎥    \n",
       "⎢                                                                                      ⎥    \n",
       "⎣             0                           0                           0               0⎦    \n",
       "                                                                                            \n",
       "                                                                                            \n",
       "                                                                                            \n",
       "                                                                                            \n",
       "                                                                                            \n",
       "                                                                                            \n",
       "                                      ⎡0  0  0  0⎤                                          \n",
       "                                      ⎢          ⎥                                          \n",
       "                                      ⎢0  0  0  0⎥                                          \n",
       "                                      ⎢          ⎥                                          \n",
       "                                      ⎢0  0  0  0⎥                                          \n",
       "                                      ⎢          ⎥                                          \n",
       "                                      ⎣0  0  0  0⎦                                          \n",
       "                                                                                            \n",
       "                                                                                            \n",
       "                                                                                            \n",
       "                                                                                            \n",
       "                                                                                            \n",
       "                                                                                            \n",
       "                                                                                            \n",
       " 0                      0                                           0                     ⎤ \n",
       "                                                                                          ⎥ \n",
       " 0                      0                                           0                     ⎥ \n",
       "                                                                                          ⎥ \n",
       "                                               ⎛   2    2⎞    2               2           ⎥ \n",
       "                                               ⎝- α  + β ⎠⋅cos (α⋅(u - v))⋅cos (β⋅(u + v))⎥ \n",
       " 0                      0                      ───────────────────────────────────────────⎥ \n",
       "                                                                    3                     ⎥ \n",
       "                                                                                          ⎥ \n",
       "    ⎛ 2    2⎞    2               2                                                        ⎥ \n",
       "    ⎝α  - β ⎠⋅cos (α⋅(u - v))⋅cos (β⋅(u + v))                                             ⎥ \n",
       " 0  ─────────────────────────────────────────                       0                     ⎥ \n",
       "                        3                                                                 ⎦ \n",
       "                                                                                            \n",
       "\n",
       "    ⎡                                                             ⎛ 2    2⎞    2           ⎤\n",
       "    ⎢                                                             ⎝α  - β ⎠⋅cos (β⋅(u + v))⎥\n",
       "    ⎢             0                            0               0  ─────────────────────────⎥\n",
       "    ⎢                                                                         2            ⎥\n",
       "    ⎢                                                                                      ⎥\n",
       "    ⎢                                                             ⎛ 2    2⎞    2           ⎥\n",
       "    ⎢                                                             ⎝α  - β ⎠⋅cos (β⋅(u + v))⎥\n",
       "    ⎢             0                            0               0  ─────────────────────────⎥\n",
       "    ⎢                                                                         6            ⎥\n",
       "    ⎢                                                                                      ⎥\n",
       "    ⎢             0                            0               0              0            ⎥\n",
       "    ⎢                                                                                      ⎥\n",
       "    ⎢⎛   2    2⎞    2             ⎛   2    2⎞    2                                         ⎥\n",
       "    ⎢⎝- α  + β ⎠⋅cos (β⋅(u + v))  ⎝- α  + β ⎠⋅cos (β⋅(u + v))                              ⎥\n",
       "    ⎢───────────────────────────  ───────────────────────────  0              0            ⎥\n",
       "    ⎣             2                            6                                           ⎦\n",
       "                                                                                            \n",
       "    ⎡                                                             ⎛ 2    2⎞    2           ⎤\n",
       "    ⎢                                                             ⎝α  - β ⎠⋅cos (β⋅(u + v))⎥\n",
       "    ⎢             0                            0               0  ─────────────────────────⎥\n",
       "    ⎢                                                                         6            ⎥\n",
       "    ⎢                                                                                      ⎥\n",
       "    ⎢                                                             ⎛ 2    2⎞    2           ⎥\n",
       "    ⎢                                                             ⎝α  - β ⎠⋅cos (β⋅(u + v))⎥\n",
       "    ⎢             0                            0               0  ─────────────────────────⎥\n",
       "    ⎢                                                                         2            ⎥\n",
       "    ⎢                                                                                      ⎥\n",
       "    ⎢             0                            0               0              0            ⎥\n",
       "    ⎢                                                                                      ⎥\n",
       "    ⎢⎛   2    2⎞    2             ⎛   2    2⎞    2                                         ⎥\n",
       "    ⎢⎝- α  + β ⎠⋅cos (β⋅(u + v))  ⎝- α  + β ⎠⋅cos (β⋅(u + v))                              ⎥\n",
       "    ⎢───────────────────────────  ───────────────────────────  0              0            ⎥\n",
       "    ⎣             6                            2                                           ⎦\n",
       "                                                                                            \n",
       "                                                                                            \n",
       "                                                                                            \n",
       " ⎡0  0                       0                                           0                  \n",
       " ⎢                                                                                          \n",
       " ⎢0  0                       0                                           0                  \n",
       " ⎢                                                                                          \n",
       " ⎢                                                   ⎛ 2    2⎞    2               2         \n",
       " ⎢                                                   ⎝α  - β ⎠⋅cos (α⋅(u - v))⋅cos (β⋅(u + v\n",
       " ⎢0  0                       0                       ───────────────────────────────────────\n",
       " ⎢                                                                       3                  \n",
       " ⎢                                                                                          \n",
       " ⎢      ⎛   2    2⎞    2               2                                                    \n",
       " ⎢      ⎝- α  + β ⎠⋅cos (α⋅(u - v))⋅cos (β⋅(u + v))                                         \n",
       " ⎢0  0  ───────────────────────────────────────────                      0                  \n",
       " ⎣                           3                                                              \n",
       "                                                                                            \n",
       "                                                                                            \n",
       "                                                                                            \n",
       "                                                                                            \n",
       "                                                                                            \n",
       "                                                                                            \n",
       "                                                                                            \n",
       "                                          ⎡0  0  0  0⎤                                      \n",
       "                                          ⎢          ⎥                                      \n",
       "                                          ⎢0  0  0  0⎥                                      \n",
       "                                          ⎢          ⎥                                      \n",
       "                                          ⎢0  0  0  0⎥                                      \n",
       "                                          ⎢          ⎥                                      \n",
       "                                          ⎣0  0  0  0⎦                                      \n",
       "                                                                                            \n",
       "                                                                                            \n",
       "                                                                                            \n",
       "                                                                                            \n",
       "\n",
       "   ⎤\n",
       "   ⎥\n",
       "   ⎥\n",
       "   ⎥\n",
       "   ⎥\n",
       "   ⎥\n",
       "   ⎥\n",
       "   ⎥\n",
       "   ⎥\n",
       "   ⎥\n",
       "   ⎥\n",
       "   ⎥\n",
       "   ⎥\n",
       "   ⎥\n",
       "   ⎥\n",
       "   ⎥\n",
       "   ⎥\n",
       "   ⎥\n",
       "   ⎥\n",
       "   ⎥\n",
       "   ⎥\n",
       "   ⎥\n",
       "   ⎥\n",
       "   ⎥\n",
       "   ⎥\n",
       "   ⎥\n",
       "   ⎥\n",
       "   ⎥\n",
       "   ⎥\n",
       "   ⎥\n",
       "   ⎥\n",
       "   ⎥\n",
       "   ⎥\n",
       "   ⎥\n",
       "   ⎥\n",
       "   ⎥\n",
       "  ⎤⎥\n",
       "  ⎥⎥\n",
       "  ⎥⎥\n",
       "  ⎥⎥\n",
       "  ⎥⎥\n",
       "))⎥⎥\n",
       "──⎥⎥\n",
       "  ⎥⎥\n",
       "  ⎥⎥\n",
       "  ⎥⎥\n",
       "  ⎥⎥\n",
       "  ⎥⎥\n",
       "  ⎦⎥\n",
       "   ⎥\n",
       "   ⎥\n",
       "   ⎥\n",
       "   ⎥\n",
       "   ⎥\n",
       "   ⎥\n",
       "   ⎥\n",
       "   ⎥\n",
       "   ⎥\n",
       "   ⎥\n",
       "   ⎥\n",
       "   ⎥\n",
       "   ⎥\n",
       "   ⎥\n",
       "   ⎥\n",
       "   ⎥\n",
       "   ⎥\n",
       "   ⎦"
      ]
     },
     "execution_count": 22,
     "metadata": {},
     "output_type": "execute_result"
    }
   ],
   "source": [
    "weyl = WeylTensor.from_metric(metric)\n",
    "weyl.tensor()"
   ]
  },
  {
   "cell_type": "code",
   "execution_count": null,
   "id": "bdc6536a",
   "metadata": {},
   "outputs": [],
   "source": []
  }
 ],
 "metadata": {
  "@webio": {
   "lastCommId": "1c9ace31e30f408baaa2af1e02e756fb",
   "lastKernelId": "f8216c41-a3d9-43e6-98b7-5aec84894d6a"
  },
  "kernelspec": {
   "display_name": "Python 3 (ipykernel)",
   "language": "python",
   "name": "python3"
  },
  "language_info": {
   "codemirror_mode": {
    "name": "ipython",
    "version": 3
   },
   "file_extension": ".py",
   "mimetype": "text/x-python",
   "name": "python",
   "nbconvert_exporter": "python",
   "pygments_lexer": "ipython3",
   "version": "3.8.8"
  }
 },
 "nbformat": 4,
 "nbformat_minor": 5
}
