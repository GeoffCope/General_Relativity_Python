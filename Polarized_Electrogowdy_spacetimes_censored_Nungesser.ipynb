{
 "cells": [
  {
   "cell_type": "markdown",
   "id": "5105f011",
   "metadata": {},
   "source": [
    "# Polarized Electrogowdy spacetimes censored by Nungesser\n",
    "##  Geoff Cope\n",
    "##  Univeristy of Utah\n",
    "##  𐐏𐐭𐑌𐐲𐑂𐐲𐑉𐑅𐐮𐐻𐐨 𐐲𐑂 𐐏𐐭𐐻𐐫\n",
    "##  January 22, 2022"
   ]
  },
  {
   "cell_type": "markdown",
   "id": "7a243cb4",
   "metadata": {},
   "source": [
    "Here we only derive the vacuum field equations.  Will come back later, define stress energy tensors, and take its divergence which should give remaining equation 7."
   ]
  },
  {
   "cell_type": "markdown",
   "id": "c4d47512",
   "metadata": {},
   "source": [
    "https://arxiv.org/pdf/0912.0643.pdf"
   ]
  },
  {
   "cell_type": "code",
   "execution_count": 1,
   "id": "16489d67",
   "metadata": {},
   "outputs": [
    {
     "name": "stdout",
     "output_type": "stream",
     "text": [
      "IPython console for SymPy 1.9 (Python 3.8.8-64-bit) (ground types: gmpy)\n",
      "\n",
      "These commands were executed:\n",
      ">>> from __future__ import division\n",
      ">>> from sympy import *\n",
      ">>> x, y, z, t = symbols('x y z t')\n",
      ">>> k, m, n = symbols('k m n', integer=True)\n",
      ">>> f, g, h = symbols('f g h', cls=Function)\n",
      ">>> init_printing()\n",
      "\n",
      "Documentation can be found at https://docs.sympy.org/1.9/\n",
      "\n"
     ]
    }
   ],
   "source": [
    "from sympy import init_session\n",
    "init_session(use_latex=True)"
   ]
  },
  {
   "cell_type": "code",
   "execution_count": 2,
   "id": "a91f4c68",
   "metadata": {},
   "outputs": [],
   "source": [
    "import warnings\n",
    "import matplotlib.cbook\n",
    "warnings.filterwarnings(\"ignore\",category=matplotlib.cbook.mplDeprecation)"
   ]
  },
  {
   "cell_type": "code",
   "execution_count": 3,
   "id": "39a32e22",
   "metadata": {},
   "outputs": [],
   "source": [
    "t,theta,x,y,dt,dtheta,dx,dy = symbols('t theta x y dt dtheta dx dy')"
   ]
  },
  {
   "cell_type": "code",
   "execution_count": null,
   "id": "b336f862",
   "metadata": {},
   "outputs": [],
   "source": []
  },
  {
   "cell_type": "code",
   "execution_count": 4,
   "id": "0a6bf6bc",
   "metadata": {},
   "outputs": [
    {
     "data": {
      "image/png": "[encoded data removed]",
      "text/latex": [
       "$\\displaystyle \\lambda{\\left(t,\\theta \\right)}$"
      ],
      "text/plain": [
       "λ(t, θ)"
      ]
     },
     "execution_count": 4,
     "metadata": {},
     "output_type": "execute_result"
    }
   ],
   "source": [
    "Lambda = Function('lambda')(t,theta)\n",
    "Lambda"
   ]
  },
  {
   "cell_type": "code",
   "execution_count": 9,
   "id": "94398ac5",
   "metadata": {},
   "outputs": [
    {
     "data": {
      "image/png": "[encoded data removed]",
      "text/latex": [
       "$\\displaystyle \\lambda_{b}{\\left(t,\\theta \\right)}$"
      ],
      "text/plain": [
       "λ_b(t, θ)"
      ]
     },
     "execution_count": 9,
     "metadata": {},
     "output_type": "execute_result"
    }
   ],
   "source": [
    "lambdaBar = Function('lambda_b')(t,theta)\n",
    "lambdaBar"
   ]
  },
  {
   "cell_type": "code",
   "execution_count": 5,
   "id": "e248e1e3",
   "metadata": {},
   "outputs": [
    {
     "data": {
      "image/png": "[encoded data removed]",
      "text/latex": [
       "$\\displaystyle P{\\left(t,\\theta \\right)}$"
      ],
      "text/plain": [
       "P(t, θ)"
      ]
     },
     "execution_count": 5,
     "metadata": {},
     "output_type": "execute_result"
    }
   ],
   "source": [
    "P = Function('P')(t,theta)\n",
    "P"
   ]
  },
  {
   "cell_type": "code",
   "execution_count": 15,
   "id": "8e9c8367",
   "metadata": {},
   "outputs": [
    {
     "data": {
      "image/png": "[encoded data removed]",
      "text/latex": [
       "$\\displaystyle p{\\left(t,\\theta \\right)}$"
      ],
      "text/plain": [
       "p(t, θ)"
      ]
     },
     "execution_count": 15,
     "metadata": {},
     "output_type": "execute_result"
    }
   ],
   "source": [
    "p = Function('p')(t,theta)\n",
    "p"
   ]
  },
  {
   "cell_type": "code",
   "execution_count": 10,
   "id": "4a0fd7c7",
   "metadata": {},
   "outputs": [
    {
     "data": {
      "text/latex": [
       "$\\displaystyle \\left[\\begin{matrix}t\\\\\\theta\\\\x\\\\y\\end{matrix}\\right]$"
      ],
      "text/plain": [
       "⎡t⎤\n",
       "⎢ ⎥\n",
       "⎢θ⎥\n",
       "⎢ ⎥\n",
       "⎢x⎥\n",
       "⎢ ⎥\n",
       "⎣y⎦"
      ]
     },
     "execution_count": 10,
     "metadata": {},
     "output_type": "execute_result"
    }
   ],
   "source": [
    "variables = Matrix([t,theta,x,y])\n",
    "variables"
   ]
  },
  {
   "cell_type": "code",
   "execution_count": 11,
   "id": "b8d61bf6",
   "metadata": {},
   "outputs": [
    {
     "data": {
      "text/latex": [
       "$\\displaystyle \\left[\\begin{matrix}dt\\\\dtheta\\\\dx\\\\dy\\end{matrix}\\right]$"
      ],
      "text/plain": [
       "⎡  dt  ⎤\n",
       "⎢      ⎥\n",
       "⎢dtheta⎥\n",
       "⎢      ⎥\n",
       "⎢  dx  ⎥\n",
       "⎢      ⎥\n",
       "⎣  dy  ⎦"
      ]
     },
     "execution_count": 11,
     "metadata": {},
     "output_type": "execute_result"
    }
   ],
   "source": [
    "differentials = Matrix([dt,dtheta,dx,dy])\n",
    "differentials "
   ]
  },
  {
   "cell_type": "code",
   "execution_count": 30,
   "id": "7cb5d451",
   "metadata": {},
   "outputs": [
    {
     "data": {
      "image/png": "[encoded data removed]",
      "text/latex": [
       "$\\displaystyle t \\left(dx^{2} e^{p{\\left(t,\\theta \\right)}} + dy^{2} e^{- p{\\left(t,\\theta \\right)}}\\right) + \\frac{\\left(- dt^{2} + dtheta^{2}\\right) e^{\\frac{\\lambda{\\left(t,\\theta \\right)}}{2}}}{\\sqrt{t}}$"
      ],
      "text/plain": [
       "                                                      λ(t, θ)\n",
       "                                                      ───────\n",
       "                                   ⎛    2         2⎞     2   \n",
       "  ⎛  2  p(t, θ)     2  -p(t, θ)⎞   ⎝- dt  + dtheta ⎠⋅ℯ       \n",
       "t⋅⎝dx ⋅ℯ        + dy ⋅ℯ        ⎠ + ──────────────────────────\n",
       "                                               √t            "
      ]
     },
     "execution_count": 30,
     "metadata": {},
     "output_type": "execute_result"
    }
   ],
   "source": [
    "lineElement1 = t**(Rational(-1,2)) * exp(Lambda/2)*(-dt**2 + dtheta**2) + t*(exp(p)*dx**2 + exp(-p)*dy**2)\n",
    "lineElement1"
   ]
  },
  {
   "cell_type": "code",
   "execution_count": 17,
   "id": "c73f2795",
   "metadata": {},
   "outputs": [
    {
     "data": {
      "image/png": "[encoded data removed]",
      "text/latex": [
       "$\\displaystyle P{\\left(t,\\theta \\right)} = \\frac{p{\\left(t,\\theta \\right)}}{2} - \\frac{\\log{\\left(t \\right)}}{2}$"
      ],
      "text/plain": [
       "          p(t, θ)   log(t)\n",
       "P(t, θ) = ─────── - ──────\n",
       "             2        2   "
      ]
     },
     "execution_count": 17,
     "metadata": {},
     "output_type": "execute_result"
    }
   ],
   "source": [
    "equation4 = Eq(P, Rational(1,2)*( p - log(t)))\n",
    "equation4"
   ]
  },
  {
   "cell_type": "code",
   "execution_count": 23,
   "id": "4690acc4",
   "metadata": {},
   "outputs": [
    {
     "data": {
      "image/png": "[encoded data removed]",
      "text/latex": [
       "$\\displaystyle p{\\left(t,\\theta \\right)} = 2 P{\\left(t,\\theta \\right)} + \\log{\\left(t \\right)}$"
      ],
      "text/plain": [
       "p(t, θ) = 2⋅P(t, θ) + log(t)"
      ]
     },
     "execution_count": 23,
     "metadata": {},
     "output_type": "execute_result"
    }
   ],
   "source": [
    "pReplace = Eq(p,solve(equation4, p)[0])\n",
    "pReplace"
   ]
  },
  {
   "cell_type": "code",
   "execution_count": 19,
   "id": "2d92d944",
   "metadata": {},
   "outputs": [
    {
     "data": {
      "image/png": "[encoded data removed]",
      "text/latex": [
       "$\\displaystyle \\lambda_{b}{\\left(t,\\theta \\right)} = \\frac{\\lambda{\\left(t,\\theta \\right)}}{4} - p{\\left(t,\\theta \\right)} - \\frac{\\log{\\left(t \\right)}}{4}$"
      ],
      "text/plain": [
       "            λ(t, θ)             log(t)\n",
       "λ_b(t, θ) = ─────── - p(t, θ) - ──────\n",
       "               4                  4   "
      ]
     },
     "execution_count": 19,
     "metadata": {},
     "output_type": "execute_result"
    }
   ],
   "source": [
    "equation5 = Eq(lambdaBar, Rational(1,4)*(Lambda - log(t)) - p )\n",
    "equation5"
   ]
  },
  {
   "cell_type": "code",
   "execution_count": 26,
   "id": "9b2e0d67",
   "metadata": {},
   "outputs": [
    {
     "data": {
      "image/png": "[encoded data removed]",
      "text/latex": [
       "$\\displaystyle \\lambda{\\left(t,\\theta \\right)} = 4 \\lambda_{b}{\\left(t,\\theta \\right)} + 4 p{\\left(t,\\theta \\right)} + \\log{\\left(t \\right)}$"
      ],
      "text/plain": [
       "λ(t, θ) = 4⋅λ_b(t, θ) + 4⋅p(t, θ) + log(t)"
      ]
     },
     "execution_count": 26,
     "metadata": {},
     "output_type": "execute_result"
    }
   ],
   "source": [
    "lambdaReplace = Eq(Lambda,solve(equation5,Lambda)[0] ) \n",
    "lambdaReplace"
   ]
  },
  {
   "cell_type": "code",
   "execution_count": 31,
   "id": "609d0dfb",
   "metadata": {},
   "outputs": [
    {
     "data": {
      "image/png": "[encoded data removed]",
      "text/latex": [
       "$\\displaystyle - dt^{2} e^{2 \\lambda_{b}{\\left(t,\\theta \\right)}} e^{2 p{\\left(t,\\theta \\right)}} + dtheta^{2} e^{2 \\lambda_{b}{\\left(t,\\theta \\right)}} e^{2 p{\\left(t,\\theta \\right)}} + dx^{2} t^{2} e^{2 P{\\left(t,\\theta \\right)}} + dy^{2} e^{- 2 P{\\left(t,\\theta \\right)}}$"
      ],
      "text/plain": [
       "    2  2⋅λ_b(t, θ)  2⋅p(t, θ)         2  2⋅λ_b(t, θ)  2⋅p(t, θ)     2  2  2⋅P(t, θ)     2  -2⋅P(t, θ)\n",
       "- dt ⋅ℯ           ⋅ℯ          + dtheta ⋅ℯ           ⋅ℯ          + dx ⋅t ⋅ℯ          + dy ⋅ℯ          "
      ]
     },
     "execution_count": 31,
     "metadata": {},
     "output_type": "execute_result"
    }
   ],
   "source": [
    "lineElement = expand( lineElement1.subs(pReplace.lhs,pReplace.rhs).subs(lambdaReplace.lhs,lambdaReplace.rhs) ) \n",
    "lineElement "
   ]
  },
  {
   "cell_type": "code",
   "execution_count": 32,
   "id": "0e935078",
   "metadata": {},
   "outputs": [
    {
     "data": {
      "text/latex": [
       "$\\displaystyle \\left[\\begin{matrix}- e^{2 \\lambda_{b}{\\left(t,\\theta \\right)}} e^{2 p{\\left(t,\\theta \\right)}} & 0 & 0 & 0\\\\0 & e^{2 \\lambda_{b}{\\left(t,\\theta \\right)}} e^{2 p{\\left(t,\\theta \\right)}} & 0 & 0\\\\0 & 0 & t^{2} e^{2 P{\\left(t,\\theta \\right)}} & 0\\\\0 & 0 & 0 & e^{- 2 P{\\left(t,\\theta \\right)}}\\end{matrix}\\right]$"
      ],
      "text/plain": [
       "⎡  2⋅λ_b(t, θ)  2⋅p(t, θ)                                                     ⎤\n",
       "⎢-ℯ           ⋅ℯ                      0                   0             0     ⎥\n",
       "⎢                                                                             ⎥\n",
       "⎢                           2⋅λ_b(t, θ)  2⋅p(t, θ)                            ⎥\n",
       "⎢           0              ℯ           ⋅ℯ                 0             0     ⎥\n",
       "⎢                                                                             ⎥\n",
       "⎢                                                    2  2⋅P(t, θ)             ⎥\n",
       "⎢           0                         0             t ⋅ℯ                0     ⎥\n",
       "⎢                                                                             ⎥\n",
       "⎢                                                                   -2⋅P(t, θ)⎥\n",
       "⎣           0                         0                   0        ℯ          ⎦"
      ]
     },
     "execution_count": 32,
     "metadata": {},
     "output_type": "execute_result"
    }
   ],
   "source": [
    "#  This matches equation 10\n",
    "g = zeros(4)\n",
    "\n",
    "for i in range(4):\n",
    "    for j in range(4):\n",
    "        if i == j:\n",
    "            g[i,j] = lineElement.coeff( differentials[i],2 ) \n",
    "        else:\n",
    "            g[i,j] = Rational(1,2)*lineElement.coeff( differentials[i]*differentials[j],1 )\n",
    "            \n",
    "g"
   ]
  },
  {
   "cell_type": "code",
   "execution_count": 33,
   "id": "2d34ba8c",
   "metadata": {},
   "outputs": [],
   "source": [
    "import sympy"
   ]
  },
  {
   "cell_type": "code",
   "execution_count": 34,
   "id": "a71b0d79",
   "metadata": {},
   "outputs": [
    {
     "data": {
      "text/latex": [
       "$\\displaystyle \\left[\\begin{matrix}- e^{2 \\lambda_{b}{\\left(t,\\theta \\right)}} e^{2 p{\\left(t,\\theta \\right)}} & 0 & 0 & 0\\\\0 & e^{2 \\lambda_{b}{\\left(t,\\theta \\right)}} e^{2 p{\\left(t,\\theta \\right)}} & 0 & 0\\\\0 & 0 & t^{2} e^{2 P{\\left(t,\\theta \\right)}} & 0\\\\0 & 0 & 0 & e^{- 2 P{\\left(t,\\theta \\right)}}\\end{matrix}\\right]$"
      ],
      "text/plain": [
       "⎡  2⋅λ_b(t, θ)  2⋅p(t, θ)                                                     ⎤\n",
       "⎢-ℯ           ⋅ℯ                      0                   0             0     ⎥\n",
       "⎢                                                                             ⎥\n",
       "⎢                           2⋅λ_b(t, θ)  2⋅p(t, θ)                            ⎥\n",
       "⎢           0              ℯ           ⋅ℯ                 0             0     ⎥\n",
       "⎢                                                                             ⎥\n",
       "⎢                                                    2  2⋅P(t, θ)             ⎥\n",
       "⎢           0                         0             t ⋅ℯ                0     ⎥\n",
       "⎢                                                                             ⎥\n",
       "⎢                                                                   -2⋅P(t, θ)⎥\n",
       "⎣           0                         0                   0        ℯ          ⎦"
      ]
     },
     "execution_count": 34,
     "metadata": {},
     "output_type": "execute_result"
    }
   ],
   "source": [
    "m = sympy.Array(g)\n",
    "m"
   ]
  },
  {
   "cell_type": "code",
   "execution_count": 35,
   "id": "9985facb",
   "metadata": {},
   "outputs": [],
   "source": [
    "from einsteinpy.symbolic import *"
   ]
  },
  {
   "cell_type": "code",
   "execution_count": 36,
   "id": "436b98b9",
   "metadata": {},
   "outputs": [],
   "source": [
    "syms = sympy.symbols(\"t theta x y\")\n",
    "t,theta,x,y = syms"
   ]
  },
  {
   "cell_type": "code",
   "execution_count": 37,
   "id": "c5274584",
   "metadata": {},
   "outputs": [],
   "source": [
    "metric = MetricTensor(m,syms)"
   ]
  },
  {
   "cell_type": "code",
   "execution_count": 38,
   "id": "8fb8bcc9",
   "metadata": {},
   "outputs": [
    {
     "data": {
      "text/latex": [
       "$\\displaystyle \\left[\\begin{matrix}\\left[\\begin{matrix}\\frac{\\partial}{\\partial t} \\lambda_{b}{\\left(t,\\theta \\right)} + \\frac{\\partial}{\\partial t} p{\\left(t,\\theta \\right)} & \\frac{\\partial}{\\partial \\theta} \\lambda_{b}{\\left(t,\\theta \\right)} + \\frac{\\partial}{\\partial \\theta} p{\\left(t,\\theta \\right)} & 0 & 0\\\\\\frac{\\partial}{\\partial \\theta} \\lambda_{b}{\\left(t,\\theta \\right)} + \\frac{\\partial}{\\partial \\theta} p{\\left(t,\\theta \\right)} & \\frac{\\partial}{\\partial t} \\lambda_{b}{\\left(t,\\theta \\right)} + \\frac{\\partial}{\\partial t} p{\\left(t,\\theta \\right)} & 0 & 0\\\\0 & 0 & t \\left(t \\frac{\\partial}{\\partial t} P{\\left(t,\\theta \\right)} + 1\\right) e^{2 P{\\left(t,\\theta \\right)} - 2 \\lambda_{b}{\\left(t,\\theta \\right)} - 2 p{\\left(t,\\theta \\right)}} & 0\\\\0 & 0 & 0 & - e^{- 2 P{\\left(t,\\theta \\right)} - 2 \\lambda_{b}{\\left(t,\\theta \\right)} - 2 p{\\left(t,\\theta \\right)}} \\frac{\\partial}{\\partial t} P{\\left(t,\\theta \\right)}\\end{matrix}\\right] & \\left[\\begin{matrix}\\frac{\\partial}{\\partial \\theta} \\lambda_{b}{\\left(t,\\theta \\right)} + \\frac{\\partial}{\\partial \\theta} p{\\left(t,\\theta \\right)} & \\frac{\\partial}{\\partial t} \\lambda_{b}{\\left(t,\\theta \\right)} + \\frac{\\partial}{\\partial t} p{\\left(t,\\theta \\right)} & 0 & 0\\\\\\frac{\\partial}{\\partial t} \\lambda_{b}{\\left(t,\\theta \\right)} + \\frac{\\partial}{\\partial t} p{\\left(t,\\theta \\right)} & \\frac{\\partial}{\\partial \\theta} \\lambda_{b}{\\left(t,\\theta \\right)} + \\frac{\\partial}{\\partial \\theta} p{\\left(t,\\theta \\right)} & 0 & 0\\\\0 & 0 & - t^{2} e^{2 P{\\left(t,\\theta \\right)} - 2 \\lambda_{b}{\\left(t,\\theta \\right)} - 2 p{\\left(t,\\theta \\right)}} \\frac{\\partial}{\\partial \\theta} P{\\left(t,\\theta \\right)} & 0\\\\0 & 0 & 0 & e^{- 2 P{\\left(t,\\theta \\right)} - 2 \\lambda_{b}{\\left(t,\\theta \\right)} - 2 p{\\left(t,\\theta \\right)}} \\frac{\\partial}{\\partial \\theta} P{\\left(t,\\theta \\right)}\\end{matrix}\\right] & \\left[\\begin{matrix}0 & 0 & \\frac{\\partial}{\\partial t} P{\\left(t,\\theta \\right)} + \\frac{1}{t} & 0\\\\0 & 0 & \\frac{\\partial}{\\partial \\theta} P{\\left(t,\\theta \\right)} & 0\\\\\\frac{\\partial}{\\partial t} P{\\left(t,\\theta \\right)} + \\frac{1}{t} & \\frac{\\partial}{\\partial \\theta} P{\\left(t,\\theta \\right)} & 0 & 0\\\\0 & 0 & 0 & 0\\end{matrix}\\right] & \\left[\\begin{matrix}0 & 0 & 0 & - \\frac{\\partial}{\\partial t} P{\\left(t,\\theta \\right)}\\\\0 & 0 & 0 & - \\frac{\\partial}{\\partial \\theta} P{\\left(t,\\theta \\right)}\\\\0 & 0 & 0 & 0\\\\- \\frac{\\partial}{\\partial t} P{\\left(t,\\theta \\right)} & - \\frac{\\partial}{\\partial \\theta} P{\\left(t,\\theta \\right)} & 0 & 0\\end{matrix}\\right]\\end{matrix}\\right]$"
      ],
      "text/plain": [
       "⎡⎡∂               ∂            ∂               ∂                                                                                       \n",
       "⎢⎢──(λ_b(t, θ)) + ──(p(t, θ))  ──(λ_b(t, θ)) + ──(p(t, θ))                              0                                              \n",
       "⎢⎢∂t              ∂t           ∂θ              ∂θ                                                                                      \n",
       "⎢⎢                                                                                                                                     \n",
       "⎢⎢∂               ∂            ∂               ∂                                                                                       \n",
       "⎢⎢──(λ_b(t, θ)) + ──(p(t, θ))  ──(λ_b(t, θ)) + ──(p(t, θ))                              0                                              \n",
       "⎢⎢∂θ              ∂θ           ∂t              ∂t                                                                                      \n",
       "⎢⎢                                                                                                                                     \n",
       "⎢⎢                                                            ⎛  ∂              ⎞  2⋅P(t, θ) - 2⋅λ_b(t, θ) - 2⋅p(t, θ)                 \n",
       "⎢⎢             0                            0               t⋅⎜t⋅──(P(t, θ)) + 1⎟⋅ℯ                                                    \n",
       "⎢⎢                                                            ⎝  ∂t             ⎠                                                      \n",
       "⎢⎢                                                                                                                                     \n",
       "⎢⎢                                                                                                                        -2⋅P(t, θ) - \n",
       "⎢⎢             0                            0                                           0                               -ℯ             \n",
       "⎣⎣                                                                                                                                     \n",
       "\n",
       "                                   ⎤  ⎡∂               ∂            ∂               ∂                                                  \n",
       "         0                         ⎥  ⎢──(λ_b(t, θ)) + ──(p(t, θ))  ──(λ_b(t, θ)) + ──(p(t, θ))                           0            \n",
       "                                   ⎥  ⎢∂θ              ∂θ           ∂t              ∂t                                                 \n",
       "                                   ⎥  ⎢                                                                                                \n",
       "                                   ⎥  ⎢∂               ∂            ∂               ∂                                                  \n",
       "         0                         ⎥  ⎢──(λ_b(t, θ)) + ──(p(t, θ))  ──(λ_b(t, θ)) + ──(p(t, θ))                           0            \n",
       "                                   ⎥  ⎢∂t              ∂t           ∂θ              ∂θ                                                 \n",
       "                                   ⎥  ⎢                                                                                                \n",
       "                                   ⎥  ⎢                                                            2  2⋅P(t, θ) - 2⋅λ_b(t, θ) - 2⋅p(t, \n",
       "         0                         ⎥  ⎢             0                            0               -t ⋅ℯ                                 \n",
       "                                   ⎥  ⎢                                                                                                \n",
       "                                   ⎥  ⎢                                                                                                \n",
       "2⋅λ_b(t, θ) - 2⋅p(t, θ) ∂          ⎥  ⎢                                                                                                \n",
       "                       ⋅──(P(t, θ))⎥  ⎢             0                            0                                        0            \n",
       "                        ∂t         ⎦  ⎣                                                                                                \n",
       "\n",
       "                                                                 ⎤                                                                     \n",
       "                                        0                        ⎥  ⎡                              ∂             1   ⎤  ⎡              \n",
       "                                                                 ⎥  ⎢       0              0       ──(P(t, θ)) + ─  0⎥  ⎢     0        \n",
       "                                                                 ⎥  ⎢                              ∂t            t   ⎥  ⎢              \n",
       "                                                                 ⎥  ⎢                                                ⎥  ⎢              \n",
       "                                        0                        ⎥  ⎢                                ∂               ⎥  ⎢              \n",
       "                                                                 ⎥  ⎢       0              0         ──(P(t, θ))    0⎥  ⎢     0        \n",
       "                                                                 ⎥  ⎢                                ∂θ              ⎥  ⎢              \n",
       "θ) ∂                                                             ⎥  ⎢                                                ⎥  ⎢              \n",
       "  ⋅──(P(t, θ))                          0                        ⎥  ⎢∂             1  ∂                              ⎥  ⎢     0        \n",
       "   ∂θ                                                            ⎥  ⎢──(P(t, θ)) + ─  ──(P(t, θ))         0         0⎥  ⎢              \n",
       "                                                                 ⎥  ⎢∂t            t  ∂θ                             ⎥  ⎢ ∂            \n",
       "                 -2⋅P(t, θ) - 2⋅λ_b(t, θ) - 2⋅p(t, θ) ∂          ⎥  ⎢                                                ⎥  ⎢-──(P(t, θ))  \n",
       "                ℯ                                    ⋅──(P(t, θ))⎥  ⎣       0              0              0         0⎦  ⎣ ∂t           \n",
       "                                                      ∂θ         ⎦                                                                     \n",
       "\n",
       "                              ⎤\n",
       "                  ∂          ⎤⎥\n",
       "     0        0  -──(P(t, θ))⎥⎥\n",
       "                  ∂t         ⎥⎥\n",
       "                             ⎥⎥\n",
       "                  ∂          ⎥⎥\n",
       "     0        0  -──(P(t, θ))⎥⎥\n",
       "                  ∂θ         ⎥⎥\n",
       "                             ⎥⎥\n",
       "     0        0       0      ⎥⎥\n",
       "                             ⎥⎥\n",
       " ∂                           ⎥⎥\n",
       "-──(P(t, θ))  0       0      ⎥⎥\n",
       " ∂θ                          ⎦⎥\n",
       "                              ⎦"
      ]
     },
     "execution_count": 38,
     "metadata": {},
     "output_type": "execute_result"
    }
   ],
   "source": [
    "ch = ChristoffelSymbols.from_metric(metric)\n",
    "simplify(ch.tensor())"
   ]
  },
  {
   "cell_type": "code",
   "execution_count": 39,
   "id": "395c76f2",
   "metadata": {},
   "outputs": [
    {
     "data": {
      "text/latex": [
       "$\\displaystyle \\left[\\begin{matrix}\\frac{t \\left(- 2 \\left(\\frac{\\partial}{\\partial t} P{\\left(t,\\theta \\right)}\\right)^{2} - \\frac{\\partial^{2}}{\\partial t^{2}} \\lambda_{b}{\\left(t,\\theta \\right)} + \\frac{\\partial^{2}}{\\partial \\theta^{2}} \\lambda_{b}{\\left(t,\\theta \\right)} - \\frac{\\partial^{2}}{\\partial t^{2}} p{\\left(t,\\theta \\right)} + \\frac{\\partial^{2}}{\\partial \\theta^{2}} p{\\left(t,\\theta \\right)}\\right) - 2 \\frac{\\partial}{\\partial t} P{\\left(t,\\theta \\right)} + \\frac{\\partial}{\\partial t} \\lambda_{b}{\\left(t,\\theta \\right)} + \\frac{\\partial}{\\partial t} p{\\left(t,\\theta \\right)}}{t} & \\frac{- 2 t \\frac{\\partial}{\\partial t} P{\\left(t,\\theta \\right)} \\frac{\\partial}{\\partial \\theta} P{\\left(t,\\theta \\right)} - \\frac{\\partial}{\\partial \\theta} P{\\left(t,\\theta \\right)} + \\frac{\\partial}{\\partial \\theta} \\lambda_{b}{\\left(t,\\theta \\right)} + \\frac{\\partial}{\\partial \\theta} p{\\left(t,\\theta \\right)}}{t} & 0 & 0\\\\\\frac{- 2 t \\frac{\\partial}{\\partial t} P{\\left(t,\\theta \\right)} \\frac{\\partial}{\\partial \\theta} P{\\left(t,\\theta \\right)} - \\frac{\\partial}{\\partial \\theta} P{\\left(t,\\theta \\right)} + \\frac{\\partial}{\\partial \\theta} \\lambda_{b}{\\left(t,\\theta \\right)} + \\frac{\\partial}{\\partial \\theta} p{\\left(t,\\theta \\right)}}{t} & \\frac{t \\left(- 2 \\left(\\frac{\\partial}{\\partial \\theta} P{\\left(t,\\theta \\right)}\\right)^{2} + \\frac{\\partial^{2}}{\\partial t^{2}} \\lambda_{b}{\\left(t,\\theta \\right)} - \\frac{\\partial^{2}}{\\partial \\theta^{2}} \\lambda_{b}{\\left(t,\\theta \\right)} + \\frac{\\partial^{2}}{\\partial t^{2}} p{\\left(t,\\theta \\right)} - \\frac{\\partial^{2}}{\\partial \\theta^{2}} p{\\left(t,\\theta \\right)}\\right) + \\frac{\\partial}{\\partial t} \\lambda_{b}{\\left(t,\\theta \\right)} + \\frac{\\partial}{\\partial t} p{\\left(t,\\theta \\right)}}{t} & 0 & 0\\\\0 & 0 & t \\left(t \\frac{\\partial^{2}}{\\partial t^{2}} P{\\left(t,\\theta \\right)} - t \\frac{\\partial^{2}}{\\partial \\theta^{2}} P{\\left(t,\\theta \\right)} + \\frac{\\partial}{\\partial t} P{\\left(t,\\theta \\right)}\\right) e^{2 P{\\left(t,\\theta \\right)} - 2 \\lambda_{b}{\\left(t,\\theta \\right)} - 2 p{\\left(t,\\theta \\right)}} & 0\\\\0 & 0 & 0 & \\frac{\\left(- t \\frac{\\partial^{2}}{\\partial t^{2}} P{\\left(t,\\theta \\right)} + t \\frac{\\partial^{2}}{\\partial \\theta^{2}} P{\\left(t,\\theta \\right)} - \\frac{\\partial}{\\partial t} P{\\left(t,\\theta \\right)}\\right) e^{- 2 P{\\left(t,\\theta \\right)} - 2 \\lambda_{b}{\\left(t,\\theta \\right)} - 2 p{\\left(t,\\theta \\right)}}}{t}\\end{matrix}\\right]$"
      ],
      "text/plain": [
       "⎡  ⎛                 2     2                2                2              2         ⎞                                                \n",
       "⎢  ⎜    ⎛∂          ⎞     ∂                ∂                ∂              ∂          ⎟     ∂             ∂               ∂            \n",
       "⎢t⋅⎜- 2⋅⎜──(P(t, θ))⎟  - ───(λ_b(t, θ)) + ───(λ_b(t, θ)) - ───(p(t, θ)) + ───(p(t, θ))⎟ - 2⋅──(P(t, θ)) + ──(λ_b(t, θ)) + ──(p(t, θ))  \n",
       "⎢  ⎜    ⎝∂t         ⎠      2                2                2              2         ⎟     ∂t            ∂t              ∂t           \n",
       "⎢  ⎝                     ∂t               ∂θ               ∂t             ∂θ          ⎠                                                \n",
       "⎢────────────────────────────────────────────────────────────────────────────────────────────────────────────────────────────────────  \n",
       "⎢                                                                 t                                                                    \n",
       "⎢                                                                                                                                      \n",
       "⎢                                                                                                                                      \n",
       "⎢                                                                                                                                      \n",
       "⎢                                   ∂           ∂             ∂             ∂               ∂                                          \n",
       "⎢                             - 2⋅t⋅──(P(t, θ))⋅──(P(t, θ)) - ──(P(t, θ)) + ──(λ_b(t, θ)) + ──(p(t, θ))                                \n",
       "⎢                                   ∂t          ∂θ            ∂θ            ∂θ              ∂θ                                         \n",
       "⎢                             ─────────────────────────────────────────────────────────────────────────                                \n",
       "⎢                                                                 t                                                                    \n",
       "⎢                                                                                                                                      \n",
       "⎢                                                                                                                                      \n",
       "⎢                                                                                                                                      \n",
       "⎢                                                                 0                                                                    \n",
       "⎢                                                                                                                                      \n",
       "⎢                                                                                                                                      \n",
       "⎢                                                                                                                                      \n",
       "⎢                                                                                                                                      \n",
       "⎢                                                                                                                                      \n",
       "⎢                                                                                                                                      \n",
       "⎢                                                                                                                                      \n",
       "⎢                                                                                                                                      \n",
       "⎢                                                                 0                                                                    \n",
       "⎣                                                                                                                                      \n",
       "\n",
       "                                                                                                                                       \n",
       "                                                                                                                                       \n",
       "                           ∂           ∂             ∂             ∂               ∂                                                   \n",
       "                     - 2⋅t⋅──(P(t, θ))⋅──(P(t, θ)) - ──(P(t, θ)) + ──(λ_b(t, θ)) + ──(p(t, θ))                                         \n",
       "                           ∂t          ∂θ            ∂θ            ∂θ              ∂θ                                                  \n",
       "                     ─────────────────────────────────────────────────────────────────────────                                         \n",
       "                                                         t                                                                             \n",
       "                                                                                                                                       \n",
       "  ⎛                 2     2                2                2              2         ⎞                                                 \n",
       "  ⎜    ⎛∂          ⎞     ∂                ∂                ∂              ∂          ⎟   ∂               ∂                             \n",
       "t⋅⎜- 2⋅⎜──(P(t, θ))⎟  + ───(λ_b(t, θ)) - ───(λ_b(t, θ)) + ───(p(t, θ)) - ───(p(t, θ))⎟ + ──(λ_b(t, θ)) + ──(p(t, θ))                   \n",
       "  ⎜    ⎝∂θ         ⎠      2                2                2              2         ⎟   ∂t              ∂t                            \n",
       "  ⎝                     ∂t               ∂θ               ∂t             ∂θ          ⎠                                                 \n",
       "────────────────────────────────────────────────────────────────────────────────────────────────────────────────────                   \n",
       "                                                         t                                                                             \n",
       "                                                                                                                                       \n",
       "                                                                                                                        ⎛    2         \n",
       "                                                                                                                        ⎜   ∂          \n",
       "                                                         0                                                            t⋅⎜t⋅───(P(t, θ))\n",
       "                                                                                                                        ⎜    2         \n",
       "                                                                                                                        ⎝  ∂t          \n",
       "                                                                                                                                       \n",
       "                                                                                                                                       \n",
       "                                                                                                                                       \n",
       "                                                                                                                                       \n",
       "                                                                                                                                       \n",
       "                                                                                                                                       \n",
       "                                                         0                                                                             \n",
       "                                                                                                                                       \n",
       "\n",
       "                                                                                                                                       \n",
       "                                                                                                                                       \n",
       "                                                                                                                                       \n",
       "                                                                                                                                       \n",
       "                                                                                                                                       \n",
       "                         0                                                                                        0                    \n",
       "                                                                                                                                       \n",
       "                                                                                                                                       \n",
       "                                                                                                                                       \n",
       "                                                                                                                                       \n",
       "                                                                                                                                       \n",
       "                                                                                                                                       \n",
       "                                                                                                                                       \n",
       "                         0                                                                                        0                    \n",
       "                                                                                                                                       \n",
       "                                                                                                                                       \n",
       "       2                       ⎞                                                                                                       \n",
       "      ∂             ∂          ⎟  2⋅P(t, θ) - 2⋅λ_b(t, θ) - 2⋅p(t, θ)                                                                  \n",
       " - t⋅───(P(t, θ)) + ──(P(t, θ))⎟⋅ℯ                                                                                0                    \n",
       "       2            ∂t         ⎟                                                                                                       \n",
       "     ∂θ                        ⎠                                                                                                       \n",
       "                                                                                                                                       \n",
       "                                                                       ⎛      2                2                       ⎞               \n",
       "                                                                       ⎜     ∂                ∂             ∂          ⎟  -2⋅P(t, θ) - \n",
       "                                                                       ⎜- t⋅───(P(t, θ)) + t⋅───(P(t, θ)) - ──(P(t, θ))⎟⋅ℯ             \n",
       "                                                                       ⎜      2                2            ∂t         ⎟               \n",
       "                                                                       ⎝    ∂t               ∂θ                        ⎠               \n",
       "                         0                                             ────────────────────────────────────────────────────────────────\n",
       "                                                                                                                  t                    \n",
       "\n",
       "                       ⎤\n",
       "                       ⎥\n",
       "                       ⎥\n",
       "                       ⎥\n",
       "                       ⎥\n",
       "                       ⎥\n",
       "                       ⎥\n",
       "                       ⎥\n",
       "                       ⎥\n",
       "                       ⎥\n",
       "                       ⎥\n",
       "                       ⎥\n",
       "                       ⎥\n",
       "                       ⎥\n",
       "                       ⎥\n",
       "                       ⎥\n",
       "                       ⎥\n",
       "                       ⎥\n",
       "                       ⎥\n",
       "                       ⎥\n",
       "                       ⎥\n",
       "                       ⎥\n",
       "                       ⎥\n",
       "2⋅λ_b(t, θ) - 2⋅p(t, θ)⎥\n",
       "                       ⎥\n",
       "                       ⎥\n",
       "                       ⎥\n",
       "───────────────────────⎥\n",
       "                       ⎦"
      ]
     },
     "execution_count": 39,
     "metadata": {},
     "output_type": "execute_result"
    }
   ],
   "source": [
    "Ric = RicciTensor.from_metric(metric)\n",
    "Ric.tensor()"
   ]
  },
  {
   "cell_type": "code",
   "execution_count": 40,
   "id": "44dca4c0",
   "metadata": {},
   "outputs": [
    {
     "data": {
      "image/png": "[encoded data removed]",
      "text/latex": [
       "$\\displaystyle \\frac{2 \\left(t \\left(\\frac{\\partial}{\\partial t} P{\\left(t,\\theta \\right)}\\right)^{2} - t \\left(\\frac{\\partial}{\\partial \\theta} P{\\left(t,\\theta \\right)}\\right)^{2} + t \\frac{\\partial^{2}}{\\partial t^{2}} \\lambda_{b}{\\left(t,\\theta \\right)} - t \\frac{\\partial^{2}}{\\partial \\theta^{2}} \\lambda_{b}{\\left(t,\\theta \\right)} + t \\frac{\\partial^{2}}{\\partial t^{2}} p{\\left(t,\\theta \\right)} - t \\frac{\\partial^{2}}{\\partial \\theta^{2}} p{\\left(t,\\theta \\right)} + \\frac{\\partial}{\\partial t} P{\\left(t,\\theta \\right)}\\right) e^{- 2 \\lambda_{b}{\\left(t,\\theta \\right)} - 2 p{\\left(t,\\theta \\right)}}}{t}$"
      ],
      "text/plain": [
       "  ⎛               2                  2       2                  2                  2                2                       ⎞          \n",
       "  ⎜  ⎛∂          ⎞      ⎛∂          ⎞       ∂                  ∂                  ∂                ∂             ∂          ⎟  -2⋅λ_b(t\n",
       "2⋅⎜t⋅⎜──(P(t, θ))⎟  - t⋅⎜──(P(t, θ))⎟  + t⋅───(λ_b(t, θ)) - t⋅───(λ_b(t, θ)) + t⋅───(p(t, θ)) - t⋅───(p(t, θ)) + ──(P(t, θ))⎟⋅ℯ        \n",
       "  ⎜  ⎝∂t         ⎠      ⎝∂θ         ⎠        2                  2                  2                2            ∂t         ⎟          \n",
       "  ⎝                                        ∂t                 ∂θ                 ∂t               ∂θ                        ⎠          \n",
       "───────────────────────────────────────────────────────────────────────────────────────────────────────────────────────────────────────\n",
       "                                                                           t                                                           \n",
       "\n",
       "                \n",
       ", θ) - 2⋅p(t, θ)\n",
       "                \n",
       "                \n",
       "                \n",
       "────────────────\n",
       "                "
      ]
     },
     "execution_count": 40,
     "metadata": {},
     "output_type": "execute_result"
    }
   ],
   "source": [
    "R = RicciScalar.from_riccitensor(Ric)\n",
    "R.simplify()\n",
    "R.expr"
   ]
  },
  {
   "cell_type": "code",
   "execution_count": 41,
   "id": "5e842942",
   "metadata": {},
   "outputs": [
    {
     "data": {
      "text/latex": [
       "$\\displaystyle \\left[\\begin{matrix}\\frac{t \\left(- 2 \\left(\\frac{\\partial}{\\partial t} P{\\left(t,\\theta \\right)}\\right)^{2} - \\frac{\\partial^{2}}{\\partial t^{2}} \\lambda_{b}{\\left(t,\\theta \\right)} + \\frac{\\partial^{2}}{\\partial \\theta^{2}} \\lambda_{b}{\\left(t,\\theta \\right)} - \\frac{\\partial^{2}}{\\partial t^{2}} p{\\left(t,\\theta \\right)} + \\frac{\\partial^{2}}{\\partial \\theta^{2}} p{\\left(t,\\theta \\right)}\\right) - 2 \\frac{\\partial}{\\partial t} P{\\left(t,\\theta \\right)} + \\frac{\\partial}{\\partial t} \\lambda_{b}{\\left(t,\\theta \\right)} + \\frac{\\partial}{\\partial t} p{\\left(t,\\theta \\right)}}{t} + \\frac{1.0 \\left(t \\left(\\frac{\\partial}{\\partial t} P{\\left(t,\\theta \\right)}\\right)^{2} - t \\left(\\frac{\\partial}{\\partial \\theta} P{\\left(t,\\theta \\right)}\\right)^{2} + t \\frac{\\partial^{2}}{\\partial t^{2}} \\lambda_{b}{\\left(t,\\theta \\right)} - t \\frac{\\partial^{2}}{\\partial \\theta^{2}} \\lambda_{b}{\\left(t,\\theta \\right)} + t \\frac{\\partial^{2}}{\\partial t^{2}} p{\\left(t,\\theta \\right)} - t \\frac{\\partial^{2}}{\\partial \\theta^{2}} p{\\left(t,\\theta \\right)} + \\frac{\\partial}{\\partial t} P{\\left(t,\\theta \\right)}\\right) e^{- 2 \\lambda_{b}{\\left(t,\\theta \\right)} - 2 p{\\left(t,\\theta \\right)}} e^{2 \\lambda_{b}{\\left(t,\\theta \\right)}} e^{2 p{\\left(t,\\theta \\right)}}}{t} & \\frac{- 2 t \\frac{\\partial}{\\partial t} P{\\left(t,\\theta \\right)} \\frac{\\partial}{\\partial \\theta} P{\\left(t,\\theta \\right)} - \\frac{\\partial}{\\partial \\theta} P{\\left(t,\\theta \\right)} + \\frac{\\partial}{\\partial \\theta} \\lambda_{b}{\\left(t,\\theta \\right)} + \\frac{\\partial}{\\partial \\theta} p{\\left(t,\\theta \\right)}}{t} & 0 & 0\\\\\\frac{- 2 t \\frac{\\partial}{\\partial t} P{\\left(t,\\theta \\right)} \\frac{\\partial}{\\partial \\theta} P{\\left(t,\\theta \\right)} - \\frac{\\partial}{\\partial \\theta} P{\\left(t,\\theta \\right)} + \\frac{\\partial}{\\partial \\theta} \\lambda_{b}{\\left(t,\\theta \\right)} + \\frac{\\partial}{\\partial \\theta} p{\\left(t,\\theta \\right)}}{t} & \\frac{t \\left(- 2 \\left(\\frac{\\partial}{\\partial \\theta} P{\\left(t,\\theta \\right)}\\right)^{2} + \\frac{\\partial^{2}}{\\partial t^{2}} \\lambda_{b}{\\left(t,\\theta \\right)} - \\frac{\\partial^{2}}{\\partial \\theta^{2}} \\lambda_{b}{\\left(t,\\theta \\right)} + \\frac{\\partial^{2}}{\\partial t^{2}} p{\\left(t,\\theta \\right)} - \\frac{\\partial^{2}}{\\partial \\theta^{2}} p{\\left(t,\\theta \\right)}\\right) + \\frac{\\partial}{\\partial t} \\lambda_{b}{\\left(t,\\theta \\right)} + \\frac{\\partial}{\\partial t} p{\\left(t,\\theta \\right)}}{t} - \\frac{1.0 \\left(t \\left(\\frac{\\partial}{\\partial t} P{\\left(t,\\theta \\right)}\\right)^{2} - t \\left(\\frac{\\partial}{\\partial \\theta} P{\\left(t,\\theta \\right)}\\right)^{2} + t \\frac{\\partial^{2}}{\\partial t^{2}} \\lambda_{b}{\\left(t,\\theta \\right)} - t \\frac{\\partial^{2}}{\\partial \\theta^{2}} \\lambda_{b}{\\left(t,\\theta \\right)} + t \\frac{\\partial^{2}}{\\partial t^{2}} p{\\left(t,\\theta \\right)} - t \\frac{\\partial^{2}}{\\partial \\theta^{2}} p{\\left(t,\\theta \\right)} + \\frac{\\partial}{\\partial t} P{\\left(t,\\theta \\right)}\\right) e^{- 2 \\lambda_{b}{\\left(t,\\theta \\right)} - 2 p{\\left(t,\\theta \\right)}} e^{2 \\lambda_{b}{\\left(t,\\theta \\right)}} e^{2 p{\\left(t,\\theta \\right)}}}{t} & 0 & 0\\\\0 & 0 & t \\left(t \\frac{\\partial^{2}}{\\partial t^{2}} P{\\left(t,\\theta \\right)} - t \\frac{\\partial^{2}}{\\partial \\theta^{2}} P{\\left(t,\\theta \\right)} + \\frac{\\partial}{\\partial t} P{\\left(t,\\theta \\right)}\\right) e^{2 P{\\left(t,\\theta \\right)} - 2 \\lambda_{b}{\\left(t,\\theta \\right)} - 2 p{\\left(t,\\theta \\right)}} - 1.0 t \\left(t \\left(\\frac{\\partial}{\\partial t} P{\\left(t,\\theta \\right)}\\right)^{2} - t \\left(\\frac{\\partial}{\\partial \\theta} P{\\left(t,\\theta \\right)}\\right)^{2} + t \\frac{\\partial^{2}}{\\partial t^{2}} \\lambda_{b}{\\left(t,\\theta \\right)} - t \\frac{\\partial^{2}}{\\partial \\theta^{2}} \\lambda_{b}{\\left(t,\\theta \\right)} + t \\frac{\\partial^{2}}{\\partial t^{2}} p{\\left(t,\\theta \\right)} - t \\frac{\\partial^{2}}{\\partial \\theta^{2}} p{\\left(t,\\theta \\right)} + \\frac{\\partial}{\\partial t} P{\\left(t,\\theta \\right)}\\right) e^{- 2 \\lambda_{b}{\\left(t,\\theta \\right)} - 2 p{\\left(t,\\theta \\right)}} e^{2 P{\\left(t,\\theta \\right)}} & 0\\\\0 & 0 & 0 & \\frac{\\left(- t \\frac{\\partial^{2}}{\\partial t^{2}} P{\\left(t,\\theta \\right)} + t \\frac{\\partial^{2}}{\\partial \\theta^{2}} P{\\left(t,\\theta \\right)} - \\frac{\\partial}{\\partial t} P{\\left(t,\\theta \\right)}\\right) e^{- 2 P{\\left(t,\\theta \\right)} - 2 \\lambda_{b}{\\left(t,\\theta \\right)} - 2 p{\\left(t,\\theta \\right)}}}{t} - \\frac{1.0 \\left(t \\left(\\frac{\\partial}{\\partial t} P{\\left(t,\\theta \\right)}\\right)^{2} - t \\left(\\frac{\\partial}{\\partial \\theta} P{\\left(t,\\theta \\right)}\\right)^{2} + t \\frac{\\partial^{2}}{\\partial t^{2}} \\lambda_{b}{\\left(t,\\theta \\right)} - t \\frac{\\partial^{2}}{\\partial \\theta^{2}} \\lambda_{b}{\\left(t,\\theta \\right)} + t \\frac{\\partial^{2}}{\\partial t^{2}} p{\\left(t,\\theta \\right)} - t \\frac{\\partial^{2}}{\\partial \\theta^{2}} p{\\left(t,\\theta \\right)} + \\frac{\\partial}{\\partial t} P{\\left(t,\\theta \\right)}\\right) e^{- 2 \\lambda_{b}{\\left(t,\\theta \\right)} - 2 p{\\left(t,\\theta \\right)}} e^{- 2 P{\\left(t,\\theta \\right)}}}{t}\\end{matrix}\\right]$"
      ],
      "text/plain": [
       "⎡  ⎛                 2     2                2                2              2         ⎞                                                \n",
       "⎢  ⎜    ⎛∂          ⎞     ∂                ∂                ∂              ∂          ⎟     ∂             ∂               ∂            \n",
       "⎢t⋅⎜- 2⋅⎜──(P(t, θ))⎟  - ───(λ_b(t, θ)) + ───(λ_b(t, θ)) - ───(p(t, θ)) + ───(p(t, θ))⎟ - 2⋅──(P(t, θ)) + ──(λ_b(t, θ)) + ──(p(t, θ))  \n",
       "⎢  ⎜    ⎝∂t         ⎠      2                2                2              2         ⎟     ∂t            ∂t              ∂t           \n",
       "⎢  ⎝                     ∂t               ∂θ               ∂t             ∂θ          ⎠                                                \n",
       "⎢──────────────────────────────────────────────────────────────────────────────────────────────────────────────────────────────────── +\n",
       "⎢                                                                 t                                                                    \n",
       "⎢                                                                                                                                      \n",
       "⎢                                                                                                                                      \n",
       "⎢                                                                                                                                      \n",
       "⎢                                                                                                                             ∂        \n",
       "⎢                                                                                                                       - 2⋅t⋅──(P(t, θ\n",
       "⎢                                                                                                                             ∂t       \n",
       "⎢                                                                                                                       ───────────────\n",
       "⎢                                                                                                                                      \n",
       "⎢                                                                                                                                      \n",
       "⎢                                                                                                                                      \n",
       "⎢                                                                                                                                      \n",
       "⎢                                                                                                                                      \n",
       "⎢                                                                                                                                      \n",
       "⎢                                                                                                                                      \n",
       "⎢                                                                                                                                      \n",
       "⎢                                                                                                                                      \n",
       "⎢                                                                                                                                      \n",
       "⎢                                                                                                                                      \n",
       "⎢                                                                                                                                      \n",
       "⎢                                                                                                                                      \n",
       "⎢                                                                                                                                      \n",
       "⎣                                                                                                                                      \n",
       "\n",
       "     ⎛               2                  2       2                  2                  2                2                       ⎞       \n",
       "     ⎜  ⎛∂          ⎞      ⎛∂          ⎞       ∂                  ∂                  ∂                ∂             ∂          ⎟  -2⋅λ_\n",
       " 1.0⋅⎜t⋅⎜──(P(t, θ))⎟  - t⋅⎜──(P(t, θ))⎟  + t⋅───(λ_b(t, θ)) - t⋅───(λ_b(t, θ)) + t⋅───(p(t, θ)) - t⋅───(p(t, θ)) + ──(P(t, θ))⎟⋅ℯ     \n",
       "     ⎜  ⎝∂t         ⎠      ⎝∂θ         ⎠        2                  2                  2                2            ∂t         ⎟       \n",
       "     ⎝                                        ∂t                 ∂θ                 ∂t               ∂θ                        ⎠       \n",
       " ──────────────────────────────────────────────────────────────────────────────────────────────────────────────────────────────────────\n",
       "                                                                                         t                                             \n",
       "                                                                                                                                       \n",
       "                                                                                                                                       \n",
       "                                                                                                                                       \n",
       "   ∂             ∂             ∂               ∂                                                                                       \n",
       "))⋅──(P(t, θ)) - ──(P(t, θ)) + ──(λ_b(t, θ)) + ──(p(t, θ))                                                                             \n",
       "   ∂θ            ∂θ            ∂θ              ∂θ                                                                                      \n",
       "──────────────────────────────────────────────────────────                                                                             \n",
       "                     t                                                                                                                 \n",
       "                                                                                                                                       \n",
       "                                                                                                                                       \n",
       "                                                                                                                                       \n",
       "                     0                                                                                                                 \n",
       "                                                                                                                                       \n",
       "                                                                                                                                       \n",
       "                                                                                                                                       \n",
       "                                                                                                                                       \n",
       "                                                                                                                                       \n",
       "                                                                                                                                       \n",
       "                                                                                                                                       \n",
       "                                                                                                                                       \n",
       "                     0                                                                                                                 \n",
       "                                                                                                                                       \n",
       "\n",
       "                                                                                                                                       \n",
       "b(t, θ) - 2⋅p(t, θ)  2⋅λ_b(t, θ)  2⋅p(t, θ)                                                                                            \n",
       "                   ⋅ℯ           ⋅ℯ                                                                                                     \n",
       "                                                                                                                                       \n",
       "                                                                                                                                       \n",
       "───────────────────────────────────────────                                                                                            \n",
       "                                                                                                                                       \n",
       "                                                                                                                                       \n",
       "                                               ⎛                 2     2                2                2              2         ⎞    \n",
       "                                               ⎜    ⎛∂          ⎞     ∂                ∂                ∂              ∂          ⎟   ∂\n",
       "                                             t⋅⎜- 2⋅⎜──(P(t, θ))⎟  + ───(λ_b(t, θ)) - ───(λ_b(t, θ)) + ───(p(t, θ)) - ───(p(t, θ))⎟ + ─\n",
       "                                               ⎜    ⎝∂θ         ⎠      2                2                2              2         ⎟   ∂\n",
       "                                               ⎝                     ∂t               ∂θ               ∂t             ∂θ          ⎠    \n",
       "                                             ──────────────────────────────────────────────────────────────────────────────────────────\n",
       "                                                                                                      t                                \n",
       "                                                                                                                                       \n",
       "                                                                                                                                       \n",
       "                                                                                                                                       \n",
       "                                                                                                                                       \n",
       "                                                                                                                                       \n",
       "                                                                                                                                       \n",
       "                                                                                                                                       \n",
       "                                                                                                                                       \n",
       "                                                                                                                                       \n",
       "                                                                                                                                       \n",
       "                                                                                                                                       \n",
       "                                                                                                                                       \n",
       "                                                                                                                                       \n",
       "                                                                                                                                       \n",
       "\n",
       "                                                                                                                                       \n",
       "                                                                                                                                       \n",
       "                         ∂           ∂             ∂             ∂               ∂                                                     \n",
       "                   - 2⋅t⋅──(P(t, θ))⋅──(P(t, θ)) - ──(P(t, θ)) + ──(λ_b(t, θ)) + ──(p(t, θ))                                           \n",
       "                         ∂t          ∂θ            ∂θ            ∂θ              ∂θ                                                    \n",
       "                   ─────────────────────────────────────────────────────────────────────────                                           \n",
       "                                                       t                                                                               \n",
       "                                                                                                                                       \n",
       "                             ⎛               2                  2       2                  2                  2                2       \n",
       "               ∂             ⎜  ⎛∂          ⎞      ⎛∂          ⎞       ∂                  ∂                  ∂                ∂        \n",
       "─(λ_b(t, θ)) + ──(p(t, θ))   ⎜t⋅⎜──(P(t, θ))⎟  - t⋅⎜──(P(t, θ))⎟  + t⋅───(λ_b(t, θ)) - t⋅───(λ_b(t, θ)) + t⋅───(p(t, θ)) - t⋅───(p(t, θ\n",
       "t              ∂t            ⎜  ⎝∂t         ⎠      ⎝∂θ         ⎠        2                  2                  2                2       \n",
       "                             ⎝                                        ∂t                 ∂θ                 ∂t               ∂θ        \n",
       "────────────────────────── - ──────────────────────────────────────────────────────────────────────────────────────────────────────────\n",
       "                                                                                                                   t                   \n",
       "                                                                                                                                       \n",
       "                                                                                                                                       \n",
       "                                                                                                                                       \n",
       "                                                       0                                                                               \n",
       "                                                                                                                                       \n",
       "                                                                                                                                       \n",
       "                                                                                                                                       \n",
       "                                                                                                                                       \n",
       "                                                                                                                                       \n",
       "                                                                                                                                       \n",
       "                                                                                                                                       \n",
       "                                                                                                                                       \n",
       "                                                       0                                                                               \n",
       "                                                                                                                                       \n",
       "\n",
       "                                                                                                                                       \n",
       "                                                                                                                                       \n",
       "                                                                                                                                       \n",
       "                                                                                                                                       \n",
       "                                                                                                                                       \n",
       "                                                                                                                                       \n",
       "                                                                                                                                       \n",
       "                                                                                                                                       \n",
       "                ⎞                                                                                                                      \n",
       "     ∂          ⎟  -2⋅λ_b(t, θ) - 2⋅p(t, θ)  2⋅λ_b(t, θ)  2⋅p(t, θ)                                                                    \n",
       ")) + ──(P(t, θ))⎟⋅ℯ                        ⋅ℯ           ⋅ℯ                                                                             \n",
       "     ∂t         ⎟                                                                                                                      \n",
       "                ⎠                                                                                                                      \n",
       "───────────────────────────────────────────────────────────────────                                                                    \n",
       "                                                                                                                                       \n",
       "                                                                                                                                       \n",
       "                                                                       ⎛    2                2                       ⎞                 \n",
       "                                                                       ⎜   ∂                ∂             ∂          ⎟  2⋅P(t, θ) - 2⋅λ\n",
       "                                                                     t⋅⎜t⋅───(P(t, θ)) - t⋅───(P(t, θ)) + ──(P(t, θ))⎟⋅ℯ               \n",
       "                                                                       ⎜    2                2            ∂t         ⎟                 \n",
       "                                                                       ⎝  ∂t               ∂θ                        ⎠                 \n",
       "                                                                                                                                       \n",
       "                                                                                                                                       \n",
       "                                                                                                                                       \n",
       "                                                                                                                                       \n",
       "                                                                                                                                       \n",
       "                                                                                                                                       \n",
       "                                                                                                                                       \n",
       "                                                                                                                                       \n",
       "\n",
       "                                                                                                                                       \n",
       "                                                                                                                                       \n",
       "                                                                                                                                       \n",
       "                                                                                                                                       \n",
       "                                                                                                                                       \n",
       "                                                           0                                                                           \n",
       "                                                                                                                                       \n",
       "                                                                                                                                       \n",
       "                                                                                                                                       \n",
       "                                                                                                                                       \n",
       "                                                                                                                                       \n",
       "                                                                                                                                       \n",
       "                                                                                                                                       \n",
       "                                                           0                                                                           \n",
       "                                                                                                                                       \n",
       "                                                                                                                                       \n",
       "                         ⎛               2                  2       2                  2                  2                2           \n",
       "_b(t, θ) - 2⋅p(t, θ)     ⎜  ⎛∂          ⎞      ⎛∂          ⎞       ∂                  ∂                  ∂                ∂            \n",
       "                     - t⋅⎜t⋅⎜──(P(t, θ))⎟  - t⋅⎜──(P(t, θ))⎟  + t⋅───(λ_b(t, θ)) - t⋅───(λ_b(t, θ)) + t⋅───(p(t, θ)) - t⋅───(p(t, θ)) +\n",
       "                         ⎜  ⎝∂t         ⎠      ⎝∂θ         ⎠        2                  2                  2                2           \n",
       "                         ⎝                                        ∂t                 ∂θ                 ∂t               ∂θ            \n",
       "                                                                                                                                       \n",
       "                                                                                                                                       \n",
       "                                                                                                                                       \n",
       "                                                                                                                                       \n",
       "                                                                                                                                       \n",
       "                                                                                                                                       \n",
       "                                                           0                                                                           \n",
       "                                                                                                                                       \n",
       "\n",
       "                                                                                                                                       \n",
       "                                                                                                                                       \n",
       "                                                                                                                                       \n",
       "                                                                                                                                       \n",
       "                                                                                                                                       \n",
       "                                                                                                                                       \n",
       "                                                                                                                                       \n",
       "                                                                                                                                       \n",
       "                                                                                                                                       \n",
       "                                                                                                                                       \n",
       "                                                                                                                                       \n",
       "                                                                                                                                       \n",
       "                                                                                                                                       \n",
       "                                                                                                                                       \n",
       "                                                                                                                                       \n",
       "                                                                                                                                       \n",
       "            ⎞                                                                                                                          \n",
       " ∂          ⎟  -2⋅λ_b(t, θ) - 2⋅p(t, θ)  2⋅P(t, θ)                                                                                     \n",
       " ──(P(t, θ))⎟⋅ℯ                        ⋅ℯ                                                                                              \n",
       " ∂t         ⎟                                                                                                                          \n",
       "            ⎠                                                                                                                          \n",
       "                                                                                                                                       \n",
       "                                                    ⎛      2                2                       ⎞                                  \n",
       "                                                    ⎜     ∂                ∂             ∂          ⎟  -2⋅P(t, θ) - 2⋅λ_b(t, θ) - 2⋅p(t\n",
       "                                                    ⎜- t⋅───(P(t, θ)) + t⋅───(P(t, θ)) - ──(P(t, θ))⎟⋅ℯ                                \n",
       "                                                    ⎜      2                2            ∂t         ⎟                                  \n",
       "                                                    ⎝    ∂t               ∂θ                        ⎠                                  \n",
       "                                                    ───────────────────────────────────────────────────────────────────────────────────\n",
       "                                                                                               t                                       \n",
       "\n",
       "                                                                                                                                       \n",
       "                                                                                                                                       \n",
       "                                                                                                                                       \n",
       "                                                                                                                                       \n",
       "                                                                                                                                       \n",
       "                                          0                                                                                            \n",
       "                                                                                                                                       \n",
       "                                                                                                                                       \n",
       "                                                                                                                                       \n",
       "                                                                                                                                       \n",
       "                                                                                                                                       \n",
       "                                                                                                                                       \n",
       "                                                                                                                                       \n",
       "                                          0                                                                                            \n",
       "                                                                                                                                       \n",
       "                                                                                                                                       \n",
       "                                                                                                                                       \n",
       "                                                                                                                                       \n",
       "                                          0                                                                                            \n",
       "                                                                                                                                       \n",
       "                                                                                                                                       \n",
       "                                                                                                                                       \n",
       "       ⎛               2                  2       2                  2                  2                2                       ⎞     \n",
       ", θ)   ⎜  ⎛∂          ⎞      ⎛∂          ⎞       ∂                  ∂                  ∂                ∂             ∂          ⎟  -2⋅\n",
       "       ⎜t⋅⎜──(P(t, θ))⎟  - t⋅⎜──(P(t, θ))⎟  + t⋅───(λ_b(t, θ)) - t⋅───(λ_b(t, θ)) + t⋅───(p(t, θ)) - t⋅───(p(t, θ)) + ──(P(t, θ))⎟⋅ℯ   \n",
       "       ⎜  ⎝∂t         ⎠      ⎝∂θ         ⎠        2                  2                  2                2            ∂t         ⎟     \n",
       "       ⎝                                        ∂t                 ∂θ                 ∂t               ∂θ                        ⎠     \n",
       "──── - ────────────────────────────────────────────────────────────────────────────────────────────────────────────────────────────────\n",
       "                                                                                       t                                               \n",
       "\n",
       "                                 ⎤\n",
       "                                 ⎥\n",
       "                                 ⎥\n",
       "                                 ⎥\n",
       "                                 ⎥\n",
       "                                 ⎥\n",
       "                                 ⎥\n",
       "                                 ⎥\n",
       "                                 ⎥\n",
       "                                 ⎥\n",
       "                                 ⎥\n",
       "                                 ⎥\n",
       "                                 ⎥\n",
       "                                 ⎥\n",
       "                                 ⎥\n",
       "                                 ⎥\n",
       "                                 ⎥\n",
       "                                 ⎥\n",
       "                                 ⎥\n",
       "                                 ⎥\n",
       "                                 ⎥\n",
       "                                 ⎥\n",
       "                                 ⎥\n",
       "λ_b(t, θ) - 2⋅p(t, θ)  -2⋅P(t, θ)⎥\n",
       "                     ⋅ℯ          ⎥\n",
       "                                 ⎥\n",
       "                                 ⎥\n",
       "─────────────────────────────────⎥\n",
       "                                 ⎦"
      ]
     },
     "execution_count": 41,
     "metadata": {},
     "output_type": "execute_result"
    }
   ],
   "source": [
    "einst = EinsteinTensor.from_metric(metric)\n",
    "einst.tensor()"
   ]
  },
  {
   "cell_type": "code",
   "execution_count": 42,
   "id": "9d873134",
   "metadata": {},
   "outputs": [],
   "source": [
    "#  rm1 = RiemannCurvatureTensor.from_christoffels(ch)\n",
    "#  rm1.tensor()"
   ]
  },
  {
   "cell_type": "code",
   "execution_count": 43,
   "id": "e429338a",
   "metadata": {},
   "outputs": [],
   "source": [
    "#  weyl = WeylTensor.from_metric(metric)\n",
    "#  weyl.tensor()"
   ]
  },
  {
   "cell_type": "code",
   "execution_count": 44,
   "id": "0dc3198c",
   "metadata": {},
   "outputs": [
    {
     "data": {
      "text/latex": [
       "$\\displaystyle \\left[\\begin{matrix}\\frac{- t \\left(2 \\left(\\frac{\\partial}{\\partial t} P{\\left(t,\\theta \\right)}\\right)^{2} + \\frac{\\partial^{2}}{\\partial t^{2}} \\lambda_{b}{\\left(t,\\theta \\right)} - \\frac{\\partial^{2}}{\\partial \\theta^{2}} \\lambda_{b}{\\left(t,\\theta \\right)} + \\frac{\\partial^{2}}{\\partial t^{2}} p{\\left(t,\\theta \\right)} - \\frac{\\partial^{2}}{\\partial \\theta^{2}} p{\\left(t,\\theta \\right)}\\right) - 2 \\frac{\\partial}{\\partial t} P{\\left(t,\\theta \\right)} + \\frac{\\partial}{\\partial t} \\lambda_{b}{\\left(t,\\theta \\right)} + \\frac{\\partial}{\\partial t} p{\\left(t,\\theta \\right)}}{t} & \\frac{- 2 t \\frac{\\partial}{\\partial t} P{\\left(t,\\theta \\right)} \\frac{\\partial}{\\partial \\theta} P{\\left(t,\\theta \\right)} - \\frac{\\partial}{\\partial \\theta} P{\\left(t,\\theta \\right)} + \\frac{\\partial}{\\partial \\theta} \\lambda_{b}{\\left(t,\\theta \\right)} + \\frac{\\partial}{\\partial \\theta} p{\\left(t,\\theta \\right)}}{t} & 0 & 0\\\\\\frac{- 2 t \\frac{\\partial}{\\partial t} P{\\left(t,\\theta \\right)} \\frac{\\partial}{\\partial \\theta} P{\\left(t,\\theta \\right)} - \\frac{\\partial}{\\partial \\theta} P{\\left(t,\\theta \\right)} + \\frac{\\partial}{\\partial \\theta} \\lambda_{b}{\\left(t,\\theta \\right)} + \\frac{\\partial}{\\partial \\theta} p{\\left(t,\\theta \\right)}}{t} & \\frac{- t \\left(2 \\left(\\frac{\\partial}{\\partial \\theta} P{\\left(t,\\theta \\right)}\\right)^{2} - \\frac{\\partial^{2}}{\\partial t^{2}} \\lambda_{b}{\\left(t,\\theta \\right)} + \\frac{\\partial^{2}}{\\partial \\theta^{2}} \\lambda_{b}{\\left(t,\\theta \\right)} - \\frac{\\partial^{2}}{\\partial t^{2}} p{\\left(t,\\theta \\right)} + \\frac{\\partial^{2}}{\\partial \\theta^{2}} p{\\left(t,\\theta \\right)}\\right) + \\frac{\\partial}{\\partial t} \\lambda_{b}{\\left(t,\\theta \\right)} + \\frac{\\partial}{\\partial t} p{\\left(t,\\theta \\right)}}{t} & 0 & 0\\\\0 & 0 & t \\left(t \\frac{\\partial^{2}}{\\partial t^{2}} P{\\left(t,\\theta \\right)} - t \\frac{\\partial^{2}}{\\partial \\theta^{2}} P{\\left(t,\\theta \\right)} + \\frac{\\partial}{\\partial t} P{\\left(t,\\theta \\right)}\\right) e^{2 P{\\left(t,\\theta \\right)} - 2 \\lambda_{b}{\\left(t,\\theta \\right)} - 2 p{\\left(t,\\theta \\right)}} & 0\\\\0 & 0 & 0 & \\frac{\\left(- t \\frac{\\partial^{2}}{\\partial t^{2}} P{\\left(t,\\theta \\right)} + t \\frac{\\partial^{2}}{\\partial \\theta^{2}} P{\\left(t,\\theta \\right)} - \\frac{\\partial}{\\partial t} P{\\left(t,\\theta \\right)}\\right) e^{- 2 P{\\left(t,\\theta \\right)} - 2 \\lambda_{b}{\\left(t,\\theta \\right)} - 2 p{\\left(t,\\theta \\right)}}}{t}\\end{matrix}\\right]$"
      ],
      "text/plain": [
       "⎡    ⎛               2     2                2                2              2         ⎞                                                \n",
       "⎢    ⎜  ⎛∂          ⎞     ∂                ∂                ∂              ∂          ⎟     ∂             ∂               ∂            \n",
       "⎢- t⋅⎜2⋅⎜──(P(t, θ))⎟  + ───(λ_b(t, θ)) - ───(λ_b(t, θ)) + ───(p(t, θ)) - ───(p(t, θ))⎟ - 2⋅──(P(t, θ)) + ──(λ_b(t, θ)) + ──(p(t, θ))  \n",
       "⎢    ⎜  ⎝∂t         ⎠      2                2                2              2         ⎟     ∂t            ∂t              ∂t           \n",
       "⎢    ⎝                   ∂t               ∂θ               ∂t             ∂θ          ⎠                                                \n",
       "⎢────────────────────────────────────────────────────────────────────────────────────────────────────────────────────────────────────  \n",
       "⎢                                                                 t                                                                    \n",
       "⎢                                                                                                                                      \n",
       "⎢                                                                                                                                      \n",
       "⎢                                                                                                                                      \n",
       "⎢                                   ∂           ∂             ∂             ∂               ∂                                          \n",
       "⎢                             - 2⋅t⋅──(P(t, θ))⋅──(P(t, θ)) - ──(P(t, θ)) + ──(λ_b(t, θ)) + ──(p(t, θ))                                \n",
       "⎢                                   ∂t          ∂θ            ∂θ            ∂θ              ∂θ                                         \n",
       "⎢                             ─────────────────────────────────────────────────────────────────────────                                \n",
       "⎢                                                                 t                                                                    \n",
       "⎢                                                                                                                                      \n",
       "⎢                                                                                                                                      \n",
       "⎢                                                                                                                                      \n",
       "⎢                                                                 0                                                                    \n",
       "⎢                                                                                                                                      \n",
       "⎢                                                                                                                                      \n",
       "⎢                                                                                                                                      \n",
       "⎢                                                                                                                                      \n",
       "⎢                                                                                                                                      \n",
       "⎢                                                                                                                                      \n",
       "⎢                                                                                                                                      \n",
       "⎢                                                                                                                                      \n",
       "⎢                                                                 0                                                                    \n",
       "⎣                                                                                                                                      \n",
       "\n",
       "                                                                                                                                       \n",
       "                                                                                                                                       \n",
       "                           ∂           ∂             ∂             ∂               ∂                                                   \n",
       "                     - 2⋅t⋅──(P(t, θ))⋅──(P(t, θ)) - ──(P(t, θ)) + ──(λ_b(t, θ)) + ──(p(t, θ))                                         \n",
       "                           ∂t          ∂θ            ∂θ            ∂θ              ∂θ                                                  \n",
       "                     ─────────────────────────────────────────────────────────────────────────                                         \n",
       "                                                         t                                                                             \n",
       "                                                                                                                                       \n",
       "    ⎛               2     2                2                2              2         ⎞                                                 \n",
       "    ⎜  ⎛∂          ⎞     ∂                ∂                ∂              ∂          ⎟   ∂               ∂                             \n",
       "- t⋅⎜2⋅⎜──(P(t, θ))⎟  - ───(λ_b(t, θ)) + ───(λ_b(t, θ)) - ───(p(t, θ)) + ───(p(t, θ))⎟ + ──(λ_b(t, θ)) + ──(p(t, θ))                   \n",
       "    ⎜  ⎝∂θ         ⎠      2                2                2              2         ⎟   ∂t              ∂t                            \n",
       "    ⎝                   ∂t               ∂θ               ∂t             ∂θ          ⎠                                                 \n",
       "────────────────────────────────────────────────────────────────────────────────────────────────────────────────────                   \n",
       "                                                         t                                                                             \n",
       "                                                                                                                                       \n",
       "                                                                                                                        ⎛    2         \n",
       "                                                                                                                        ⎜   ∂          \n",
       "                                                         0                                                            t⋅⎜t⋅───(P(t, θ))\n",
       "                                                                                                                        ⎜    2         \n",
       "                                                                                                                        ⎝  ∂t          \n",
       "                                                                                                                                       \n",
       "                                                                                                                                       \n",
       "                                                                                                                                       \n",
       "                                                                                                                                       \n",
       "                                                                                                                                       \n",
       "                                                                                                                                       \n",
       "                                                         0                                                                             \n",
       "                                                                                                                                       \n",
       "\n",
       "                                                                                                                                       \n",
       "                                                                                                                                       \n",
       "                                                                                                                                       \n",
       "                                                                                                                                       \n",
       "                                                                                                                                       \n",
       "                         0                                                                                        0                    \n",
       "                                                                                                                                       \n",
       "                                                                                                                                       \n",
       "                                                                                                                                       \n",
       "                                                                                                                                       \n",
       "                                                                                                                                       \n",
       "                                                                                                                                       \n",
       "                                                                                                                                       \n",
       "                         0                                                                                        0                    \n",
       "                                                                                                                                       \n",
       "                                                                                                                                       \n",
       "       2                       ⎞                                                                                                       \n",
       "      ∂             ∂          ⎟  2⋅P(t, θ) - 2⋅λ_b(t, θ) - 2⋅p(t, θ)                                                                  \n",
       " - t⋅───(P(t, θ)) + ──(P(t, θ))⎟⋅ℯ                                                                                0                    \n",
       "       2            ∂t         ⎟                                                                                                       \n",
       "     ∂θ                        ⎠                                                                                                       \n",
       "                                                                                                                                       \n",
       "                                                                       ⎛      2                2                       ⎞               \n",
       "                                                                       ⎜     ∂                ∂             ∂          ⎟  -2⋅P(t, θ) - \n",
       "                                                                       ⎜- t⋅───(P(t, θ)) + t⋅───(P(t, θ)) - ──(P(t, θ))⎟⋅ℯ             \n",
       "                                                                       ⎜      2                2            ∂t         ⎟               \n",
       "                                                                       ⎝    ∂t               ∂θ                        ⎠               \n",
       "                         0                                             ────────────────────────────────────────────────────────────────\n",
       "                                                                                                                  t                    \n",
       "\n",
       "                       ⎤\n",
       "                       ⎥\n",
       "                       ⎥\n",
       "                       ⎥\n",
       "                       ⎥\n",
       "                       ⎥\n",
       "                       ⎥\n",
       "                       ⎥\n",
       "                       ⎥\n",
       "                       ⎥\n",
       "                       ⎥\n",
       "                       ⎥\n",
       "                       ⎥\n",
       "                       ⎥\n",
       "                       ⎥\n",
       "                       ⎥\n",
       "                       ⎥\n",
       "                       ⎥\n",
       "                       ⎥\n",
       "                       ⎥\n",
       "                       ⎥\n",
       "                       ⎥\n",
       "                       ⎥\n",
       "2⋅λ_b(t, θ) - 2⋅p(t, θ)⎥\n",
       "                       ⎥\n",
       "                       ⎥\n",
       "                       ⎥\n",
       "───────────────────────⎥\n",
       "                       ⎦"
      ]
     },
     "execution_count": 44,
     "metadata": {},
     "output_type": "execute_result"
    }
   ],
   "source": [
    "ricciSimplified = simplify(Ric.tensor())\n",
    "ricciSimplified"
   ]
  },
  {
   "cell_type": "code",
   "execution_count": 45,
   "id": "8f6e4a20",
   "metadata": {
    "scrolled": true
   },
   "outputs": [
    {
     "data": {
      "text/latex": [
       "$\\displaystyle \\left[\\begin{matrix}\\frac{1.0 \\left(- t \\left(\\frac{\\partial}{\\partial t} P{\\left(t,\\theta \\right)}\\right)^{2} - t \\left(\\frac{\\partial}{\\partial \\theta} P{\\left(t,\\theta \\right)}\\right)^{2} - \\frac{\\partial}{\\partial t} P{\\left(t,\\theta \\right)} + \\frac{\\partial}{\\partial t} \\lambda_{b}{\\left(t,\\theta \\right)} + \\frac{\\partial}{\\partial t} p{\\left(t,\\theta \\right)}\\right)}{t} & \\frac{- 2 t \\frac{\\partial}{\\partial t} P{\\left(t,\\theta \\right)} \\frac{\\partial}{\\partial \\theta} P{\\left(t,\\theta \\right)} - \\frac{\\partial}{\\partial \\theta} P{\\left(t,\\theta \\right)} + \\frac{\\partial}{\\partial \\theta} \\lambda_{b}{\\left(t,\\theta \\right)} + \\frac{\\partial}{\\partial \\theta} p{\\left(t,\\theta \\right)}}{t} & 0 & 0\\\\\\frac{- 2 t \\frac{\\partial}{\\partial t} P{\\left(t,\\theta \\right)} \\frac{\\partial}{\\partial \\theta} P{\\left(t,\\theta \\right)} - \\frac{\\partial}{\\partial \\theta} P{\\left(t,\\theta \\right)} + \\frac{\\partial}{\\partial \\theta} \\lambda_{b}{\\left(t,\\theta \\right)} + \\frac{\\partial}{\\partial \\theta} p{\\left(t,\\theta \\right)}}{t} & \\frac{1.0 \\left(- t \\left(\\frac{\\partial}{\\partial t} P{\\left(t,\\theta \\right)}\\right)^{2} - t \\left(\\frac{\\partial}{\\partial \\theta} P{\\left(t,\\theta \\right)}\\right)^{2} - \\frac{\\partial}{\\partial t} P{\\left(t,\\theta \\right)} + \\frac{\\partial}{\\partial t} \\lambda_{b}{\\left(t,\\theta \\right)} + \\frac{\\partial}{\\partial t} p{\\left(t,\\theta \\right)}\\right)}{t} & 0 & 0\\\\0 & 0 & 1.0 t^{2} \\left(- \\left(\\frac{\\partial}{\\partial t} P{\\left(t,\\theta \\right)}\\right)^{2} + \\frac{\\partial^{2}}{\\partial t^{2}} P{\\left(t,\\theta \\right)} + \\left(\\frac{\\partial}{\\partial \\theta} P{\\left(t,\\theta \\right)}\\right)^{2} - \\frac{\\partial^{2}}{\\partial \\theta^{2}} P{\\left(t,\\theta \\right)} - \\frac{\\partial^{2}}{\\partial t^{2}} \\lambda_{b}{\\left(t,\\theta \\right)} + \\frac{\\partial^{2}}{\\partial \\theta^{2}} \\lambda_{b}{\\left(t,\\theta \\right)} - \\frac{\\partial^{2}}{\\partial t^{2}} p{\\left(t,\\theta \\right)} + \\frac{\\partial^{2}}{\\partial \\theta^{2}} p{\\left(t,\\theta \\right)}\\right) e^{2 P{\\left(t,\\theta \\right)} - 2 \\lambda_{b}{\\left(t,\\theta \\right)} - 2 p{\\left(t,\\theta \\right)}} & 0\\\\0 & 0 & 0 & \\frac{\\left(- 1.0 t \\left(\\frac{\\partial}{\\partial t} P{\\left(t,\\theta \\right)}\\right)^{2} - t \\frac{\\partial^{2}}{\\partial t^{2}} P{\\left(t,\\theta \\right)} + 1.0 t \\left(\\frac{\\partial}{\\partial \\theta} P{\\left(t,\\theta \\right)}\\right)^{2} + t \\frac{\\partial^{2}}{\\partial \\theta^{2}} P{\\left(t,\\theta \\right)} - 1.0 t \\frac{\\partial^{2}}{\\partial t^{2}} \\lambda_{b}{\\left(t,\\theta \\right)} + 1.0 t \\frac{\\partial^{2}}{\\partial \\theta^{2}} \\lambda_{b}{\\left(t,\\theta \\right)} - 1.0 t \\frac{\\partial^{2}}{\\partial t^{2}} p{\\left(t,\\theta \\right)} + 1.0 t \\frac{\\partial^{2}}{\\partial \\theta^{2}} p{\\left(t,\\theta \\right)} - 2.0 \\frac{\\partial}{\\partial t} P{\\left(t,\\theta \\right)}\\right) e^{- 2 P{\\left(t,\\theta \\right)} - 2 \\lambda_{b}{\\left(t,\\theta \\right)} - 2 p{\\left(t,\\theta \\right)}}}{t}\\end{matrix}\\right]$"
      ],
      "text/plain": [
       "⎡    ⎛                 2                  2                                            ⎞                                               \n",
       "⎢    ⎜    ⎛∂          ⎞      ⎛∂          ⎞    ∂             ∂               ∂          ⎟               ∂           ∂             ∂     \n",
       "⎢1.0⋅⎜- t⋅⎜──(P(t, θ))⎟  - t⋅⎜──(P(t, θ))⎟  - ──(P(t, θ)) + ──(λ_b(t, θ)) + ──(p(t, θ))⎟         - 2⋅t⋅──(P(t, θ))⋅──(P(t, θ)) - ──(P(t\n",
       "⎢    ⎝    ⎝∂t         ⎠      ⎝∂θ         ⎠    ∂t            ∂t              ∂t         ⎠               ∂t          ∂θ            ∂θ    \n",
       "⎢───────────────────────────────────────────────────────────────────────────────────────         ──────────────────────────────────────\n",
       "⎢                                           t                                                                                        t \n",
       "⎢                                                                                                                                      \n",
       "⎢                                                                                             ⎛                 2                  2   \n",
       "⎢             ∂           ∂             ∂             ∂               ∂                       ⎜    ⎛∂          ⎞      ⎛∂          ⎞    \n",
       "⎢       - 2⋅t⋅──(P(t, θ))⋅──(P(t, θ)) - ──(P(t, θ)) + ──(λ_b(t, θ)) + ──(p(t, θ))         1.0⋅⎜- t⋅⎜──(P(t, θ))⎟  - t⋅⎜──(P(t, θ))⎟  - \n",
       "⎢             ∂t          ∂θ            ∂θ            ∂θ              ∂θ                      ⎝    ⎝∂t         ⎠      ⎝∂θ         ⎠    \n",
       "⎢       ─────────────────────────────────────────────────────────────────────────         ─────────────────────────────────────────────\n",
       "⎢                                           t                                                                                        t \n",
       "⎢                                                                                                                                      \n",
       "⎢                                                                                                                                      \n",
       "⎢                                                                                                                                      \n",
       "⎢                                           0                                                                                        0 \n",
       "⎢                                                                                                                                      \n",
       "⎢                                                                                                                                      \n",
       "⎢                                                                                                                                      \n",
       "⎢                                                                                                                                      \n",
       "⎢                                                                                                                                      \n",
       "⎢                                                                                                                                      \n",
       "⎢                                                                                                                                      \n",
       "⎢                                                                                                                                      \n",
       "⎢                                           0                                                                                        0 \n",
       "⎣                                                                                                                                      \n",
       "\n",
       "                                                                                                                                       \n",
       "        ∂               ∂                                                                                                              \n",
       ", θ)) + ──(λ_b(t, θ)) + ──(p(t, θ))                                                                                                    \n",
       "        ∂θ              ∂θ                                                                                                             \n",
       "───────────────────────────────────                                                                                               0    \n",
       "                                                                                                                                       \n",
       "                                                                                                                                       \n",
       "                                         ⎞                                                                                             \n",
       "∂             ∂               ∂          ⎟                                                                                             \n",
       "──(P(t, θ)) + ──(λ_b(t, θ)) + ──(p(t, θ))⎟                                                                                             \n",
       "∂t            ∂t              ∂t         ⎠                                                                                             \n",
       "──────────────────────────────────────────                                                                                        0    \n",
       "                                                                                                                                       \n",
       "                                                                                                                                       \n",
       "                                                   ⎛               2     2                         2     2              2              \n",
       "                                                 2 ⎜  ⎛∂          ⎞     ∂             ⎛∂          ⎞     ∂              ∂               \n",
       "                                            1.0⋅t ⋅⎜- ⎜──(P(t, θ))⎟  + ───(P(t, θ)) + ⎜──(P(t, θ))⎟  - ───(P(t, θ)) - ───(λ_b(t, θ)) + \n",
       "                                                   ⎜  ⎝∂t         ⎠      2            ⎝∂θ         ⎠      2              2              \n",
       "                                                   ⎝                   ∂t                              ∂θ             ∂t               \n",
       "                                                                                                                                       \n",
       "                                                                                                                                       \n",
       "                                                                                                                                       \n",
       "                                                                                                                                       \n",
       "                                                                                                                                       \n",
       "                                                                                                                                       \n",
       "                                                                                                                                  0    \n",
       "                                                                                                                                       \n",
       "\n",
       "                                                                                                                                       \n",
       "                                                                                                                                       \n",
       "                                                                                                                                       \n",
       "                                                                                                                                       \n",
       "                                                                                                                                       \n",
       "                                                                                                                                       \n",
       "                                                                                                                                       \n",
       "                                                                                                                                       \n",
       "                                                                                                                                       \n",
       "                                                                                                                                       \n",
       "                                                                                                                                       \n",
       "                                                                                                                                       \n",
       "                                                                                                                                       \n",
       "                                                                                                                                       \n",
       "  2                2              2         ⎞                                                                                          \n",
       " ∂                ∂              ∂          ⎟  2⋅P(t, θ) - 2⋅λ_b(t, θ) - 2⋅p(t, θ)                                                     \n",
       "───(λ_b(t, θ)) - ───(p(t, θ)) + ───(p(t, θ))⎟⋅ℯ                                                                                        \n",
       "  2                2              2         ⎟                                                                                          \n",
       "∂θ               ∂t             ∂θ          ⎠                                                                                          \n",
       "                                                                                                                                       \n",
       "                                                                                    ⎛                 2       2                        \n",
       "                                                                                    ⎜    ⎛∂          ⎞       ∂                   ⎛∂    \n",
       "                                                                                    ⎜- t⋅⎜──(P(t, θ))⎟  - t⋅───(P(t, θ)) + 1.0⋅t⋅⎜──(P(\n",
       "                                                                                    ⎜    ⎝∂t         ⎠        2                  ⎝∂θ   \n",
       "                                                                                    ⎝                       ∂t                         \n",
       "                                                                                    ───────────────────────────────────────────────────\n",
       "                                                                                                                                       \n",
       "\n",
       "                                                                                                                                       \n",
       "                                                                                                                                       \n",
       "                                                                                                                                       \n",
       "                                                                                                                                       \n",
       "                                                       0                                                                               \n",
       "                                                                                                                                       \n",
       "                                                                                                                                       \n",
       "                                                                                                                                       \n",
       "                                                                                                                                       \n",
       "                                                                                                                                       \n",
       "                                                                                                                                       \n",
       "                                                       0                                                                               \n",
       "                                                                                                                                       \n",
       "                                                                                                                                       \n",
       "                                                                                                                                       \n",
       "                                                                                                                                       \n",
       "                                                       0                                                                               \n",
       "                                                                                                                                       \n",
       "                                                                                                                                       \n",
       "                                                                                                                                       \n",
       "       2       2                2                      2                  2                    2                           ⎞           \n",
       "      ⎞       ∂                ∂                      ∂                  ∂                    ∂                 ∂          ⎟  -2⋅P(t, θ\n",
       "t, θ))⎟  + t⋅───(P(t, θ)) - t⋅───(λ_b(t, θ)) + 1.0⋅t⋅───(λ_b(t, θ)) - t⋅───(p(t, θ)) + 1.0⋅t⋅───(p(t, θ)) - 2.0⋅──(P(t, θ))⎟⋅ℯ         \n",
       "      ⎠        2                2                      2                  2                    2                ∂t         ⎟           \n",
       "             ∂θ               ∂t                     ∂θ                 ∂t                   ∂θ                            ⎠           \n",
       "───────────────────────────────────────────────────────────────────────────────────────────────────────────────────────────────────────\n",
       "                                                       t                                                                               \n",
       "\n",
       "                           ⎤\n",
       "                           ⎥\n",
       "                           ⎥\n",
       "                           ⎥\n",
       "                           ⎥\n",
       "                           ⎥\n",
       "                           ⎥\n",
       "                           ⎥\n",
       "                           ⎥\n",
       "                           ⎥\n",
       "                           ⎥\n",
       "                           ⎥\n",
       "                           ⎥\n",
       "                           ⎥\n",
       "                           ⎥\n",
       "                           ⎥\n",
       "                           ⎥\n",
       "                           ⎥\n",
       "                           ⎥\n",
       "                           ⎥\n",
       "                           ⎥\n",
       ") - 2⋅λ_b(t, θ) - 2⋅p(t, θ)⎥\n",
       "                           ⎥\n",
       "                           ⎥\n",
       "                           ⎥\n",
       "───────────────────────────⎥\n",
       "                           ⎦"
      ]
     },
     "execution_count": 45,
     "metadata": {},
     "output_type": "execute_result"
    }
   ],
   "source": [
    "einsteinSimplified = simplify(einst.tensor())\n",
    "einsteinSimplified"
   ]
  },
  {
   "cell_type": "code",
   "execution_count": 62,
   "id": "d17a5d13",
   "metadata": {},
   "outputs": [
    {
     "data": {
      "image/png": "[encoded data removed]",
      "text/latex": [
       "$\\displaystyle \\frac{\\partial^{2}}{\\partial t^{2}} P{\\left(t,\\theta \\right)} - \\frac{\\partial^{2}}{\\partial \\theta^{2}} P{\\left(t,\\theta \\right)} + \\frac{\\frac{\\partial}{\\partial t} P{\\left(t,\\theta \\right)}}{t}$"
      ],
      "text/plain": [
       "                              ∂          \n",
       "  2              2            ──(P(t, θ))\n",
       " ∂              ∂             ∂t         \n",
       "───(P(t, θ)) - ───(P(t, θ)) + ───────────\n",
       "  2              2                 t     \n",
       "∂t             ∂θ                        "
      ]
     },
     "execution_count": 62,
     "metadata": {},
     "output_type": "execute_result"
    }
   ],
   "source": [
    "equation6 = expand((1/t)*ricciSimplified[2,2].args[1] ) \n",
    "equation6"
   ]
  },
  {
   "cell_type": "code",
   "execution_count": 61,
   "id": "d135677c",
   "metadata": {
    "scrolled": true
   },
   "outputs": [
    {
     "data": {
      "image/png": "[encoded data removed]",
      "text/latex": [
       "$\\displaystyle \\frac{\\partial}{\\partial t} \\lambda_{b}{\\left(t,\\theta \\right)} = t \\left(\\frac{\\partial}{\\partial t} P{\\left(t,\\theta \\right)}\\right)^{2} + t \\left(\\frac{\\partial}{\\partial \\theta} P{\\left(t,\\theta \\right)}\\right)^{2} + \\frac{\\partial}{\\partial t} P{\\left(t,\\theta \\right)} - \\frac{\\partial}{\\partial t} p{\\left(t,\\theta \\right)}$"
      ],
      "text/plain": [
       "                               2                  2                            \n",
       "∂                 ⎛∂          ⎞      ⎛∂          ⎞    ∂             ∂          \n",
       "──(λ_b(t, θ)) = t⋅⎜──(P(t, θ))⎟  + t⋅⎜──(P(t, θ))⎟  + ──(P(t, θ)) - ──(p(t, θ))\n",
       "∂t                ⎝∂t         ⎠      ⎝∂θ         ⎠    ∂t            ∂t         "
      ]
     },
     "execution_count": 61,
     "metadata": {},
     "output_type": "execute_result"
    }
   ],
   "source": [
    "equation8 = Eq(diff(lambdaBar,t),solve( einsteinSimplified[0,0], diff(lambdaBar,t))[0] ) \n",
    "equation8"
   ]
  },
  {
   "cell_type": "code",
   "execution_count": 60,
   "id": "aff7085e",
   "metadata": {},
   "outputs": [
    {
     "data": {
      "image/png": "[encoded data removed]",
      "text/latex": [
       "$\\displaystyle \\frac{\\partial}{\\partial \\theta} \\lambda_{b}{\\left(t,\\theta \\right)} = 2 t \\frac{\\partial}{\\partial t} P{\\left(t,\\theta \\right)} \\frac{\\partial}{\\partial \\theta} P{\\left(t,\\theta \\right)} + \\frac{\\partial}{\\partial \\theta} P{\\left(t,\\theta \\right)} - \\frac{\\partial}{\\partial \\theta} p{\\left(t,\\theta \\right)}$"
      ],
      "text/plain": [
       "∂                   ∂           ∂             ∂             ∂          \n",
       "──(λ_b(t, θ)) = 2⋅t⋅──(P(t, θ))⋅──(P(t, θ)) + ──(P(t, θ)) - ──(p(t, θ))\n",
       "∂θ                  ∂t          ∂θ            ∂θ            ∂θ         "
      ]
     },
     "execution_count": 60,
     "metadata": {},
     "output_type": "execute_result"
    }
   ],
   "source": [
    "equation9 = Eq(diff(lambdaBar,theta),solve( einsteinSimplified[1,0], diff(lambdaBar,theta) )[0] ) \n",
    "equation9"
   ]
  },
  {
   "cell_type": "code",
   "execution_count": 64,
   "id": "51cae1f3",
   "metadata": {},
   "outputs": [
    {
     "data": {
      "text/latex": [
       "$\\displaystyle \\left[\\begin{matrix}\\frac{\\partial^{2}}{\\partial t^{2}} P{\\left(t,\\theta \\right)} - \\frac{\\partial^{2}}{\\partial \\theta^{2}} P{\\left(t,\\theta \\right)} + \\frac{\\frac{\\partial}{\\partial t} P{\\left(t,\\theta \\right)}}{t}\\\\\\frac{\\partial}{\\partial t} \\lambda_{b}{\\left(t,\\theta \\right)} = t \\left(\\frac{\\partial}{\\partial t} P{\\left(t,\\theta \\right)}\\right)^{2} + t \\left(\\frac{\\partial}{\\partial \\theta} P{\\left(t,\\theta \\right)}\\right)^{2} + \\frac{\\partial}{\\partial t} P{\\left(t,\\theta \\right)} - \\frac{\\partial}{\\partial t} p{\\left(t,\\theta \\right)}\\\\\\frac{\\partial}{\\partial \\theta} \\lambda_{b}{\\left(t,\\theta \\right)} = 2 t \\frac{\\partial}{\\partial t} P{\\left(t,\\theta \\right)} \\frac{\\partial}{\\partial \\theta} P{\\left(t,\\theta \\right)} + \\frac{\\partial}{\\partial \\theta} P{\\left(t,\\theta \\right)} - \\frac{\\partial}{\\partial \\theta} p{\\left(t,\\theta \\right)}\\end{matrix}\\right]$"
      ],
      "text/plain": [
       "⎡                                                 ∂                             ⎤\n",
       "⎢                     2              2            ──(P(t, θ))                   ⎥\n",
       "⎢                    ∂              ∂             ∂t                            ⎥\n",
       "⎢                   ───(P(t, θ)) - ───(P(t, θ)) + ───────────                   ⎥\n",
       "⎢                     2              2                 t                        ⎥\n",
       "⎢                   ∂t             ∂θ                                           ⎥\n",
       "⎢                                                                               ⎥\n",
       "⎢                               2                  2                            ⎥\n",
       "⎢∂                 ⎛∂          ⎞      ⎛∂          ⎞    ∂             ∂          ⎥\n",
       "⎢──(λ_b(t, θ)) = t⋅⎜──(P(t, θ))⎟  + t⋅⎜──(P(t, θ))⎟  + ──(P(t, θ)) - ──(p(t, θ))⎥\n",
       "⎢∂t                ⎝∂t         ⎠      ⎝∂θ         ⎠    ∂t            ∂t         ⎥\n",
       "⎢                                                                               ⎥\n",
       "⎢    ∂                   ∂           ∂             ∂             ∂              ⎥\n",
       "⎢    ──(λ_b(t, θ)) = 2⋅t⋅──(P(t, θ))⋅──(P(t, θ)) + ──(P(t, θ)) - ──(p(t, θ))    ⎥\n",
       "⎣    ∂θ                  ∂t          ∂θ            ∂θ            ∂θ             ⎦"
      ]
     },
     "execution_count": 64,
     "metadata": {},
     "output_type": "execute_result"
    }
   ],
   "source": [
    "vacuumFieldEquations = Matrix([equation6,equation8,equation9])\n",
    "vacuumFieldEquations"
   ]
  }
 ],
 "metadata": {
  "@webio": {
   "lastCommId": "08b2e1a2ee074b0ab74018f0854849d6",
   "lastKernelId": "4eed61dc-88cb-4814-a30f-85b436966432"
  },
  "kernelspec": {
   "display_name": "Python 3 (ipykernel)",
   "language": "python",
   "name": "python3"
  },
  "language_info": {
   "codemirror_mode": {
    "name": "ipython",
    "version": 3
   },
   "file_extension": ".py",
   "mimetype": "text/x-python",
   "name": "python",
   "nbconvert_exporter": "python",
   "pygments_lexer": "ipython3",
   "version": "3.8.8"
  }
 },
 "nbformat": 4,
 "nbformat_minor": 5
}
