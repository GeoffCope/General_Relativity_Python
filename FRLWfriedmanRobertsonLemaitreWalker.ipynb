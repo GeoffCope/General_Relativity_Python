{
 "cells": [
  {
   "cell_type": "markdown",
   "id": "f8bdf88f",
   "metadata": {},
   "source": [
    "# Friedman Robertson Lemaitre Walker Metric\n",
    "##  Geoff Cope\n",
    "##  University of Utah\n",
    "##  December 22, 2021"
   ]
  },
  {
   "cell_type": "markdown",
   "id": "b54af4c7",
   "metadata": {},
   "source": [
    "This form of the FRLW metric is taken from \"A First Course In General Relativity\" by Foster and Nightengale page 186 equation 6.2  The Christoffel Symbols are listed as equation 6.4 and the Ricci Tensor is given as equation 6.5  Still trying to figure out how to typeset dtheta and dphi.  Using from sympy.diffgeom.rn import * and R2.dtheta will give an appropriate dtheta but haven't figured out dphi yet.  PLEASE NOTE:  It appears that the convention used here for the Ricci Tensor is the negative of that given in Foster and Nightengale. TO DO:  Construct Stress Energy Tensor, equate SET to Einstein to get two ODE's.  Give initial conitions for ODE's and plot"
   ]
  },
  {
   "cell_type": "markdown",
   "id": "ad649eb1",
   "metadata": {},
   "source": [
    "http://chiataimakro.vicp.cc:8880/%E5%BE%85%E6%95%B4%E7%90%86/Foster,.Nightingale,.A.Short.Course.in.General.Relativity,.3ed,.Springer,.2006,.295s.pdf"
   ]
  },
  {
   "cell_type": "code",
   "execution_count": 1,
   "id": "6bf14f43",
   "metadata": {},
   "outputs": [
    {
     "name": "stdout",
     "output_type": "stream",
     "text": [
      "IPython console for SymPy 1.9 (Python 3.8.8-64-bit) (ground types: gmpy)\n",
      "\n",
      "These commands were executed:\n",
      ">>> from __future__ import division\n",
      ">>> from sympy import *\n",
      ">>> x, y, z, t = symbols('x y z t')\n",
      ">>> k, m, n = symbols('k m n', integer=True)\n",
      ">>> f, g, h = symbols('f g h', cls=Function)\n",
      ">>> init_printing()\n",
      "\n",
      "Documentation can be found at https://docs.sympy.org/1.9/\n",
      "\n"
     ]
    }
   ],
   "source": [
    "from sympy import init_session\n",
    "init_session(use_latex=True)"
   ]
  },
  {
   "cell_type": "code",
   "execution_count": 2,
   "id": "2ea76fb4",
   "metadata": {},
   "outputs": [],
   "source": [
    "import warnings\n",
    "import matplotlib.cbook\n",
    "warnings.filterwarnings(\"ignore\",category=matplotlib.cbook.mplDeprecation)"
   ]
  },
  {
   "cell_type": "code",
   "execution_count": 3,
   "id": "1e8decc4",
   "metadata": {},
   "outputs": [],
   "source": [
    "t,r,theta,phi,k,dt,dr,dx,dy = symbols('t r theta phi k dt dr dx dy')"
   ]
  },
  {
   "cell_type": "code",
   "execution_count": 5,
   "id": "cc2c91a2",
   "metadata": {},
   "outputs": [
    {
     "data": {
      "image/png": "[encoded data removed]",
      "text/latex": [
       "$\\displaystyle R{\\left(t \\right)}$"
      ],
      "text/plain": [
       "R(t)"
      ]
     },
     "execution_count": 5,
     "metadata": {},
     "output_type": "execute_result"
    }
   ],
   "source": [
    "R = Function('R')(t)\n",
    "R"
   ]
  },
  {
   "cell_type": "code",
   "execution_count": 6,
   "id": "7affc949",
   "metadata": {},
   "outputs": [
    {
     "data": {
      "text/latex": [
       "$\\displaystyle \\left[\\begin{matrix}t\\\\r\\\\\\theta\\\\\\phi\\end{matrix}\\right]$"
      ],
      "text/plain": [
       "⎡t⎤\n",
       "⎢ ⎥\n",
       "⎢r⎥\n",
       "⎢ ⎥\n",
       "⎢θ⎥\n",
       "⎢ ⎥\n",
       "⎣φ⎦"
      ]
     },
     "execution_count": 6,
     "metadata": {},
     "output_type": "execute_result"
    }
   ],
   "source": [
    "variables = Matrix( [t,r,theta,phi])\n",
    "variables"
   ]
  },
  {
   "cell_type": "code",
   "execution_count": 8,
   "id": "51689ba1",
   "metadata": {},
   "outputs": [
    {
     "data": {
      "text/latex": [
       "$\\displaystyle \\left[\\begin{matrix}dt\\\\dr\\\\dx\\\\dy\\end{matrix}\\right]$"
      ],
      "text/plain": [
       "⎡dt⎤\n",
       "⎢  ⎥\n",
       "⎢dr⎥\n",
       "⎢  ⎥\n",
       "⎢dx⎥\n",
       "⎢  ⎥\n",
       "⎣dy⎦"
      ]
     },
     "execution_count": 8,
     "metadata": {},
     "output_type": "execute_result"
    }
   ],
   "source": [
    "differentials = Matrix( [dt,dr,dx,dy])\n",
    "differentials"
   ]
  },
  {
   "cell_type": "code",
   "execution_count": 10,
   "id": "ba5dd11c",
   "metadata": {},
   "outputs": [
    {
     "data": {
      "image/png": "[encoded data removed]",
      "text/latex": [
       "$\\displaystyle \\frac{dr^{2} R^{2}{\\left(t \\right)}}{- k r^{2} + 1} - dt^{2} + dx^{2} r^{2} R^{2}{\\left(t \\right)} + dy^{2} r^{2} R^{2}{\\left(t \\right)} \\sin^{2}{\\left(\\theta \\right)}$"
      ],
      "text/plain": [
       "  2  2                                                \n",
       "dr ⋅R (t)      2     2  2  2        2  2  2       2   \n",
       "────────── - dt  + dx ⋅r ⋅R (t) + dy ⋅r ⋅R (t)⋅sin (θ)\n",
       "     2                                                \n",
       "- k⋅r  + 1                                            "
      ]
     },
     "execution_count": 10,
     "metadata": {},
     "output_type": "execute_result"
    }
   ],
   "source": [
    "lineElement = expand((-1)*dt**2 + (R**2)*( (1-k * r**2)**-1 * dr**2 + r**2 * dx**2 + r**2 * sin(theta)**2 * dy**2 ))\n",
    "lineElement"
   ]
  },
  {
   "cell_type": "code",
   "execution_count": 12,
   "id": "d32fd4ee",
   "metadata": {},
   "outputs": [
    {
     "data": {
      "text/latex": [
       "$\\displaystyle \\left[\\begin{matrix}-1 & 0 & 0 & 0\\\\0 & \\frac{R^{2}{\\left(t \\right)}}{- k r^{2} + 1} & 0 & 0\\\\0 & 0 & r^{2} R^{2}{\\left(t \\right)} & 0\\\\0 & 0 & 0 & r^{2} R^{2}{\\left(t \\right)} \\sin^{2}{\\left(\\theta \\right)}\\end{matrix}\\right]$"
      ],
      "text/plain": [
       "⎡-1      0          0             0        ⎤\n",
       "⎢                                          ⎥\n",
       "⎢       2                                  ⎥\n",
       "⎢      R (t)                               ⎥\n",
       "⎢0   ──────────     0             0        ⎥\n",
       "⎢         2                                ⎥\n",
       "⎢    - k⋅r  + 1                            ⎥\n",
       "⎢                                          ⎥\n",
       "⎢                 2  2                     ⎥\n",
       "⎢0       0       r ⋅R (t)         0        ⎥\n",
       "⎢                                          ⎥\n",
       "⎢                           2  2       2   ⎥\n",
       "⎣0       0          0      r ⋅R (t)⋅sin (θ)⎦"
      ]
     },
     "execution_count": 12,
     "metadata": {},
     "output_type": "execute_result"
    }
   ],
   "source": [
    "g = zeros(4)\n",
    "\n",
    "for i in range(4):\n",
    "    for j in range(4):\n",
    "        if i == j:\n",
    "            g[i,j] = lineElement.coeff( differentials[i],2 ) \n",
    "        else:\n",
    "            g[i,j] = Rational(1,2)*lineElement.coeff( differentials[i]*differentials[j],1 )\n",
    "            \n",
    "g"
   ]
  },
  {
   "cell_type": "code",
   "execution_count": 13,
   "id": "1c17f05f",
   "metadata": {},
   "outputs": [],
   "source": [
    "import sympy"
   ]
  },
  {
   "cell_type": "code",
   "execution_count": 14,
   "id": "1a92db3f",
   "metadata": {},
   "outputs": [
    {
     "data": {
      "text/latex": [
       "$\\displaystyle \\left[\\begin{matrix}-1 & 0 & 0 & 0\\\\0 & \\frac{R^{2}{\\left(t \\right)}}{- k r^{2} + 1} & 0 & 0\\\\0 & 0 & r^{2} R^{2}{\\left(t \\right)} & 0\\\\0 & 0 & 0 & r^{2} R^{2}{\\left(t \\right)} \\sin^{2}{\\left(\\theta \\right)}\\end{matrix}\\right]$"
      ],
      "text/plain": [
       "⎡-1      0          0             0        ⎤\n",
       "⎢                                          ⎥\n",
       "⎢       2                                  ⎥\n",
       "⎢      R (t)                               ⎥\n",
       "⎢0   ──────────     0             0        ⎥\n",
       "⎢         2                                ⎥\n",
       "⎢    - k⋅r  + 1                            ⎥\n",
       "⎢                                          ⎥\n",
       "⎢                 2  2                     ⎥\n",
       "⎢0       0       r ⋅R (t)         0        ⎥\n",
       "⎢                                          ⎥\n",
       "⎢                           2  2       2   ⎥\n",
       "⎣0       0          0      r ⋅R (t)⋅sin (θ)⎦"
      ]
     },
     "execution_count": 14,
     "metadata": {},
     "output_type": "execute_result"
    }
   ],
   "source": [
    "m = sympy.Array(g)\n",
    "m"
   ]
  },
  {
   "cell_type": "code",
   "execution_count": 15,
   "id": "d4467529",
   "metadata": {},
   "outputs": [],
   "source": [
    "from einsteinpy.symbolic import *"
   ]
  },
  {
   "cell_type": "code",
   "execution_count": 16,
   "id": "9dfa28ae",
   "metadata": {},
   "outputs": [],
   "source": [
    "syms = sympy.symbols(\"t r theta phi\")\n",
    "t,r,theta,phi = syms "
   ]
  },
  {
   "cell_type": "code",
   "execution_count": 17,
   "id": "0cdad762",
   "metadata": {},
   "outputs": [],
   "source": [
    "metric = MetricTensor(m,syms)"
   ]
  },
  {
   "cell_type": "code",
   "execution_count": 18,
   "id": "1b8c86bf",
   "metadata": {},
   "outputs": [
    {
     "data": {
      "text/latex": [
       "$\\displaystyle \\left[\\begin{matrix}\\left[\\begin{matrix}0 & 0 & 0 & 0\\\\0 & \\frac{R{\\left(t \\right)} \\frac{d}{d t} R{\\left(t \\right)}}{- k r^{2} + 1} & 0 & 0\\\\0 & 0 & r^{2} R{\\left(t \\right)} \\frac{d}{d t} R{\\left(t \\right)} & 0\\\\0 & 0 & 0 & r^{2} R{\\left(t \\right)} \\sin^{2}{\\left(\\theta \\right)} \\frac{d}{d t} R{\\left(t \\right)}\\end{matrix}\\right] & \\left[\\begin{matrix}0 & \\frac{\\frac{d}{d t} R{\\left(t \\right)}}{R{\\left(t \\right)}} & 0 & 0\\\\\\frac{\\frac{d}{d t} R{\\left(t \\right)}}{R{\\left(t \\right)}} & \\frac{k r}{- k r^{2} + 1} & 0 & 0\\\\0 & 0 & - r \\left(- k r^{2} + 1\\right) & 0\\\\0 & 0 & 0 & - r \\left(- k r^{2} + 1\\right) \\sin^{2}{\\left(\\theta \\right)}\\end{matrix}\\right] & \\left[\\begin{matrix}0 & 0 & \\frac{\\frac{d}{d t} R{\\left(t \\right)}}{R{\\left(t \\right)}} & 0\\\\0 & 0 & \\frac{1}{r} & 0\\\\\\frac{\\frac{d}{d t} R{\\left(t \\right)}}{R{\\left(t \\right)}} & \\frac{1}{r} & 0 & 0\\\\0 & 0 & 0 & - \\sin{\\left(\\theta \\right)} \\cos{\\left(\\theta \\right)}\\end{matrix}\\right] & \\left[\\begin{matrix}0 & 0 & 0 & \\frac{\\frac{d}{d t} R{\\left(t \\right)}}{R{\\left(t \\right)}}\\\\0 & 0 & 0 & \\frac{1}{r}\\\\0 & 0 & 0 & \\frac{\\cos{\\left(\\theta \\right)}}{\\sin{\\left(\\theta \\right)}}\\\\\\frac{\\frac{d}{d t} R{\\left(t \\right)}}{R{\\left(t \\right)}} & \\frac{1}{r} & \\frac{\\cos{\\left(\\theta \\right)}}{\\sin{\\left(\\theta \\right)}} & 0\\end{matrix}\\right]\\end{matrix}\\right]$"
      ],
      "text/plain": [
       "⎡                                                                ⎡           d              \n",
       "⎢⎡0        0               0                     0            ⎤  ⎢           ──(R(t))       \n",
       "⎢⎢                                                            ⎥  ⎢           dt             \n",
       "⎢⎢        d                                                   ⎥  ⎢   0       ────────       \n",
       "⎢⎢   R(t)⋅──(R(t))                                            ⎥  ⎢             R(t)         \n",
       "⎢⎢        dt                                                  ⎥  ⎢                          \n",
       "⎢⎢0  ─────────────         0                     0            ⎥  ⎢d                         \n",
       "⎢⎢          2                                                 ⎥  ⎢──(R(t))                  \n",
       "⎢⎢     - k⋅r  + 1                                             ⎥  ⎢dt           k⋅r          \n",
       "⎢⎢                                                            ⎥  ⎢────────  ──────────      \n",
       "⎢⎢                   2      d                                 ⎥  ⎢  R(t)         2          \n",
       "⎢⎢0        0        r ⋅R(t)⋅──(R(t))             0            ⎥  ⎢          - k⋅r  + 1      \n",
       "⎢⎢                          dt                                ⎥  ⎢                          \n",
       "⎢⎢                                                            ⎥  ⎢                         ⎛\n",
       "⎢⎢                                     2         2    d       ⎥  ⎢   0          0       -r⋅⎝\n",
       "⎢⎢0        0               0          r ⋅R(t)⋅sin (θ)⋅──(R(t))⎥  ⎢                          \n",
       "⎢⎣                                                    dt      ⎦  ⎢                          \n",
       "⎢                                                                ⎣   0          0           \n",
       "⎣                                                                                           \n",
       "\n",
       "                                    ⎤                                           ⎡           \n",
       "                                    ⎥  ⎡             d                       ⎤  ⎢           \n",
       "                                    ⎥  ⎢             ──(R(t))                ⎥  ⎢           \n",
       "   0                    0           ⎥  ⎢             dt                      ⎥  ⎢   0      0\n",
       "                                    ⎥  ⎢   0      0  ────────        0       ⎥  ⎢           \n",
       "                                    ⎥  ⎢               R(t)                  ⎥  ⎢           \n",
       "                                    ⎥  ⎢                                     ⎥  ⎢           \n",
       "                                    ⎥  ⎢                1                    ⎥  ⎢   0      0\n",
       "                                    ⎥  ⎢   0      0     ─            0       ⎥  ⎢           \n",
       "   0                    0           ⎥  ⎢                r                    ⎥  ⎢           \n",
       "                                    ⎥  ⎢                                     ⎥  ⎢           \n",
       "                                    ⎥  ⎢d                                    ⎥  ⎢   0      0\n",
       "                                    ⎥  ⎢──(R(t))                             ⎥  ⎢           \n",
       "     2    ⎞                         ⎥  ⎢dt        1                          ⎥  ⎢           \n",
       "- k⋅r  + 1⎠             0           ⎥  ⎢────────  ─     0            0       ⎥  ⎢d          \n",
       "                                    ⎥  ⎢  R(t)    r                          ⎥  ⎢──(R(t))   \n",
       "                ⎛     2    ⎞    2   ⎥  ⎢                                     ⎥  ⎢dt        1\n",
       "   0         -r⋅⎝- k⋅r  + 1⎠⋅sin (θ)⎦  ⎣   0      0     0      -sin(θ)⋅cos(θ)⎦  ⎢────────  ─\n",
       "                                                                                ⎣  R(t)    r\n",
       "\n",
       "          d       ⎤⎤\n",
       "          ──(R(t))⎥⎥\n",
       "          dt      ⎥⎥\n",
       "    0     ────────⎥⎥\n",
       "            R(t)  ⎥⎥\n",
       "                  ⎥⎥\n",
       "             1    ⎥⎥\n",
       "    0        ─    ⎥⎥\n",
       "             r    ⎥⎥\n",
       "                  ⎥⎥\n",
       "           cos(θ) ⎥⎥\n",
       "    0      ────── ⎥⎥\n",
       "           sin(θ) ⎥⎥\n",
       "                  ⎥⎥\n",
       "                  ⎥⎥\n",
       "                  ⎥⎥\n",
       "  cos(θ)          ⎥⎥\n",
       "  ──────     0    ⎥⎥\n",
       "  sin(θ)          ⎦⎦"
      ]
     },
     "execution_count": 18,
     "metadata": {},
     "output_type": "execute_result"
    }
   ],
   "source": [
    "ch = ChristoffelSymbols.from_metric(metric)\n",
    "ch.tensor()"
   ]
  },
  {
   "cell_type": "code",
   "execution_count": 21,
   "id": "aeada4e4",
   "metadata": {},
   "outputs": [
    {
     "data": {
      "image/png": "[encoded data removed]",
      "text/latex": [
       "$\\displaystyle \\frac{R{\\left(t \\right)} \\frac{d}{d t} R{\\left(t \\right)}}{- k r^{2} + 1}$"
      ],
      "text/plain": [
       "     d       \n",
       "R(t)⋅──(R(t))\n",
       "     dt      \n",
       "─────────────\n",
       "       2     \n",
       "  - k⋅r  + 1 "
      ]
     },
     "execution_count": 21,
     "metadata": {},
     "output_type": "execute_result"
    }
   ],
   "source": [
    "expand(ch.tensor()[0,1,1])"
   ]
  },
  {
   "cell_type": "code",
   "execution_count": 22,
   "id": "8381b38e",
   "metadata": {},
   "outputs": [
    {
     "data": {
      "image/png": "[encoded data removed]",
      "text/latex": [
       "$\\displaystyle r^{2} R{\\left(t \\right)} \\frac{d}{d t} R{\\left(t \\right)}$"
      ],
      "text/plain": [
       " 2      d       \n",
       "r ⋅R(t)⋅──(R(t))\n",
       "        dt      "
      ]
     },
     "execution_count": 22,
     "metadata": {},
     "output_type": "execute_result"
    }
   ],
   "source": [
    "expand(ch.tensor()[0,2,2])"
   ]
  },
  {
   "cell_type": "code",
   "execution_count": 23,
   "id": "87dab57d",
   "metadata": {},
   "outputs": [
    {
     "data": {
      "image/png": "[encoded data removed]",
      "text/latex": [
       "$\\displaystyle r^{2} R{\\left(t \\right)} \\sin^{2}{\\left(\\theta \\right)} \\frac{d}{d t} R{\\left(t \\right)}$"
      ],
      "text/plain": [
       " 2         2    d       \n",
       "r ⋅R(t)⋅sin (θ)⋅──(R(t))\n",
       "                dt      "
      ]
     },
     "execution_count": 23,
     "metadata": {},
     "output_type": "execute_result"
    }
   ],
   "source": [
    "expand(ch.tensor()[0,3,3])"
   ]
  },
  {
   "cell_type": "code",
   "execution_count": 24,
   "id": "1b380bca",
   "metadata": {},
   "outputs": [
    {
     "data": {
      "image/png": "[encoded data removed]",
      "text/latex": [
       "$\\displaystyle \\frac{\\frac{d}{d t} R{\\left(t \\right)}}{R{\\left(t \\right)}}$"
      ],
      "text/plain": [
       "d       \n",
       "──(R(t))\n",
       "dt      \n",
       "────────\n",
       "  R(t)  "
      ]
     },
     "execution_count": 24,
     "metadata": {},
     "output_type": "execute_result"
    }
   ],
   "source": [
    "expand(ch.tensor()[1,0,1])"
   ]
  },
  {
   "cell_type": "code",
   "execution_count": 25,
   "id": "2667fa24",
   "metadata": {},
   "outputs": [
    {
     "data": {
      "image/png": "[encoded data removed]",
      "text/latex": [
       "$\\displaystyle \\frac{k r}{- k r^{2} + 1}$"
      ],
      "text/plain": [
       "   k⋅r    \n",
       "──────────\n",
       "     2    \n",
       "- k⋅r  + 1"
      ]
     },
     "execution_count": 25,
     "metadata": {},
     "output_type": "execute_result"
    }
   ],
   "source": [
    "expand(ch.tensor()[1,1,1])"
   ]
  },
  {
   "cell_type": "code",
   "execution_count": 26,
   "id": "0d98379b",
   "metadata": {},
   "outputs": [
    {
     "data": {
      "image/png": "[encoded data removed]",
      "text/latex": [
       "$\\displaystyle k r^{3} - r$"
      ],
      "text/plain": [
       "   3    \n",
       "k⋅r  - r"
      ]
     },
     "execution_count": 26,
     "metadata": {},
     "output_type": "execute_result"
    }
   ],
   "source": [
    "expand(ch.tensor()[1,2,2])"
   ]
  },
  {
   "cell_type": "code",
   "execution_count": 27,
   "id": "1fb1070d",
   "metadata": {},
   "outputs": [
    {
     "data": {
      "image/png": "[encoded data removed]",
      "text/latex": [
       "$\\displaystyle k r^{3} \\sin^{2}{\\left(\\theta \\right)} - r \\sin^{2}{\\left(\\theta \\right)}$"
      ],
      "text/plain": [
       "   3    2           2   \n",
       "k⋅r ⋅sin (θ) - r⋅sin (θ)"
      ]
     },
     "execution_count": 27,
     "metadata": {},
     "output_type": "execute_result"
    }
   ],
   "source": [
    "expand(ch.tensor()[1,3,3])"
   ]
  },
  {
   "cell_type": "code",
   "execution_count": 28,
   "id": "44caae96",
   "metadata": {},
   "outputs": [
    {
     "data": {
      "image/png": "[encoded data removed]",
      "text/latex": [
       "$\\displaystyle \\frac{\\frac{d}{d t} R{\\left(t \\right)}}{R{\\left(t \\right)}}$"
      ],
      "text/plain": [
       "d       \n",
       "──(R(t))\n",
       "dt      \n",
       "────────\n",
       "  R(t)  "
      ]
     },
     "execution_count": 28,
     "metadata": {},
     "output_type": "execute_result"
    }
   ],
   "source": [
    "expand(ch.tensor()[2,0,2])"
   ]
  },
  {
   "cell_type": "code",
   "execution_count": 29,
   "id": "a9e87dd5",
   "metadata": {},
   "outputs": [
    {
     "data": {
      "image/png": "[encoded data removed]",
      "text/latex": [
       "$\\displaystyle \\frac{1}{r}$"
      ],
      "text/plain": [
       "1\n",
       "─\n",
       "r"
      ]
     },
     "execution_count": 29,
     "metadata": {},
     "output_type": "execute_result"
    }
   ],
   "source": [
    "expand(ch.tensor()[2,1,2])"
   ]
  },
  {
   "cell_type": "code",
   "execution_count": 30,
   "id": "ff4c4d9d",
   "metadata": {},
   "outputs": [
    {
     "data": {
      "image/png": "[encoded data removed]",
      "text/latex": [
       "$\\displaystyle - \\sin{\\left(\\theta \\right)} \\cos{\\left(\\theta \\right)}$"
      ],
      "text/plain": [
       "-sin(θ)⋅cos(θ)"
      ]
     },
     "execution_count": 30,
     "metadata": {},
     "output_type": "execute_result"
    }
   ],
   "source": [
    "expand(ch.tensor()[2,3,3])"
   ]
  },
  {
   "cell_type": "code",
   "execution_count": 31,
   "id": "58d974a7",
   "metadata": {},
   "outputs": [
    {
     "data": {
      "image/png": "[encoded data removed]",
      "text/latex": [
       "$\\displaystyle \\frac{\\frac{d}{d t} R{\\left(t \\right)}}{R{\\left(t \\right)}}$"
      ],
      "text/plain": [
       "d       \n",
       "──(R(t))\n",
       "dt      \n",
       "────────\n",
       "  R(t)  "
      ]
     },
     "execution_count": 31,
     "metadata": {},
     "output_type": "execute_result"
    }
   ],
   "source": [
    "expand(ch.tensor()[3,0,3])"
   ]
  },
  {
   "cell_type": "code",
   "execution_count": 32,
   "id": "f8f8ef1d",
   "metadata": {},
   "outputs": [
    {
     "data": {
      "image/png": "[encoded data removed]",
      "text/latex": [
       "$\\displaystyle \\frac{1}{r}$"
      ],
      "text/plain": [
       "1\n",
       "─\n",
       "r"
      ]
     },
     "execution_count": 32,
     "metadata": {},
     "output_type": "execute_result"
    }
   ],
   "source": [
    "expand(ch.tensor()[3,1,3])"
   ]
  },
  {
   "cell_type": "code",
   "execution_count": 33,
   "id": "31a7df9d",
   "metadata": {},
   "outputs": [
    {
     "data": {
      "image/png": "[encoded data removed]",
      "text/latex": [
       "$\\displaystyle \\frac{\\cos{\\left(\\theta \\right)}}{\\sin{\\left(\\theta \\right)}}$"
      ],
      "text/plain": [
       "cos(θ)\n",
       "──────\n",
       "sin(θ)"
      ]
     },
     "execution_count": 33,
     "metadata": {},
     "output_type": "execute_result"
    }
   ],
   "source": [
    "expand(ch.tensor()[3,2,3])"
   ]
  },
  {
   "cell_type": "code",
   "execution_count": 34,
   "id": "0baaac6e",
   "metadata": {},
   "outputs": [
    {
     "data": {
      "text/latex": [
       "$\\displaystyle \\left[\\begin{matrix}- \\frac{3 \\frac{d^{2}}{d t^{2}} R{\\left(t \\right)}}{R{\\left(t \\right)}} & 0 & 0 & 0\\\\0 & - \\frac{2 k + R{\\left(t \\right)} \\frac{d^{2}}{d t^{2}} R{\\left(t \\right)} + 2 \\left(\\frac{d}{d t} R{\\left(t \\right)}\\right)^{2}}{k r^{2} - 1} & 0 & 0\\\\0 & 0 & r^{2} \\left(2 k + R{\\left(t \\right)} \\frac{d^{2}}{d t^{2}} R{\\left(t \\right)} + 2 \\left(\\frac{d}{d t} R{\\left(t \\right)}\\right)^{2}\\right) & 0\\\\0 & 0 & 0 & r^{2} \\left(2 k + R{\\left(t \\right)} \\frac{d^{2}}{d t^{2}} R{\\left(t \\right)} + 2 \\left(\\frac{d}{d t} R{\\left(t \\right)}\\right)^{2}\\right) \\sin^{2}{\\left(\\theta \\right)}\\end{matrix}\\right]$"
      ],
      "text/plain": [
       "⎡     2                                                                                     \n",
       "⎢    d                                                                                      \n",
       "⎢-3⋅───(R(t))                                                                               \n",
       "⎢     2                                                                                     \n",
       "⎢   dt                                                                                      \n",
       "⎢─────────────                     0                                          0             \n",
       "⎢     R(t)                                                                                  \n",
       "⎢                                                                                           \n",
       "⎢                ⎛             2                     2⎞                                     \n",
       "⎢                ⎜            d            ⎛d       ⎞ ⎟                                     \n",
       "⎢               -⎜2⋅k + R(t)⋅───(R(t)) + 2⋅⎜──(R(t))⎟ ⎟                                     \n",
       "⎢                ⎜             2           ⎝dt      ⎠ ⎟                                     \n",
       "⎢                ⎝           dt                       ⎠                                     \n",
       "⎢      0        ────────────────────────────────────────                      0             \n",
       "⎢                                  2                                                        \n",
       "⎢                               k⋅r  - 1                                                    \n",
       "⎢                                                                                           \n",
       "⎢                                                            ⎛             2                \n",
       "⎢                                                          2 ⎜            d            ⎛d   \n",
       "⎢      0                           0                      r ⋅⎜2⋅k + R(t)⋅───(R(t)) + 2⋅⎜──(R\n",
       "⎢                                                            ⎜             2           ⎝dt  \n",
       "⎢                                                            ⎝           dt                 \n",
       "⎢                                                                                           \n",
       "⎢                                                                                           \n",
       "⎢                                                                                           \n",
       "⎢      0                           0                                          0             \n",
       "⎢                                                                                           \n",
       "⎣                                                                                           \n",
       "\n",
       "                                                          ⎤\n",
       "                                                          ⎥\n",
       "                                                          ⎥\n",
       "                                                          ⎥\n",
       "                                                          ⎥\n",
       "                                 0                        ⎥\n",
       "                                                          ⎥\n",
       "                                                          ⎥\n",
       "                                                          ⎥\n",
       "                                                          ⎥\n",
       "                                                          ⎥\n",
       "                                                          ⎥\n",
       "                                                          ⎥\n",
       "                                 0                        ⎥\n",
       "                                                          ⎥\n",
       "                                                          ⎥\n",
       "                                                          ⎥\n",
       "     2⎞                                                   ⎥\n",
       "    ⎞ ⎟                                                   ⎥\n",
       "(t))⎟ ⎟                          0                        ⎥\n",
       "    ⎠ ⎟                                                   ⎥\n",
       "      ⎠                                                   ⎥\n",
       "                                                          ⎥\n",
       "            ⎛             2                     2⎞        ⎥\n",
       "          2 ⎜            d            ⎛d       ⎞ ⎟    2   ⎥\n",
       "         r ⋅⎜2⋅k + R(t)⋅───(R(t)) + 2⋅⎜──(R(t))⎟ ⎟⋅sin (θ)⎥\n",
       "            ⎜             2           ⎝dt      ⎠ ⎟        ⎥\n",
       "            ⎝           dt                       ⎠        ⎦"
      ]
     },
     "execution_count": 34,
     "metadata": {},
     "output_type": "execute_result"
    }
   ],
   "source": [
    "Ric = RicciTensor.from_metric(metric)\n",
    "Ric.tensor()"
   ]
  },
  {
   "cell_type": "code",
   "execution_count": 35,
   "id": "6332341a",
   "metadata": {},
   "outputs": [
    {
     "data": {
      "image/png": "[encoded data removed]",
      "text/latex": [
       "$\\displaystyle - \\frac{3 \\frac{d^{2}}{d t^{2}} R{\\left(t \\right)}}{R{\\left(t \\right)}}$"
      ],
      "text/plain": [
       "     2       \n",
       "    d        \n",
       "-3⋅───(R(t)) \n",
       "     2       \n",
       "   dt        \n",
       "─────────────\n",
       "     R(t)    "
      ]
     },
     "execution_count": 35,
     "metadata": {},
     "output_type": "execute_result"
    }
   ],
   "source": [
    "simplify(expand(Ric.tensor()[0,0]))"
   ]
  },
  {
   "cell_type": "code",
   "execution_count": 36,
   "id": "aabc9b9f",
   "metadata": {},
   "outputs": [
    {
     "data": {
      "image/png": "[encoded data removed]",
      "text/latex": [
       "$\\displaystyle - \\frac{2 k + R{\\left(t \\right)} \\frac{d^{2}}{d t^{2}} R{\\left(t \\right)} + 2 \\left(\\frac{d}{d t} R{\\left(t \\right)}\\right)^{2}}{k r^{2} - 1}$"
      ],
      "text/plain": [
       " ⎛             2                     2⎞ \n",
       " ⎜            d            ⎛d       ⎞ ⎟ \n",
       "-⎜2⋅k + R(t)⋅───(R(t)) + 2⋅⎜──(R(t))⎟ ⎟ \n",
       " ⎜             2           ⎝dt      ⎠ ⎟ \n",
       " ⎝           dt                       ⎠ \n",
       "────────────────────────────────────────\n",
       "                   2                    \n",
       "                k⋅r  - 1                "
      ]
     },
     "execution_count": 36,
     "metadata": {},
     "output_type": "execute_result"
    }
   ],
   "source": [
    "simplify(expand(Ric.tensor()[1,1]))"
   ]
  },
  {
   "cell_type": "code",
   "execution_count": 37,
   "id": "3b3b702b",
   "metadata": {},
   "outputs": [
    {
     "data": {
      "image/png": "[encoded data removed]",
      "text/latex": [
       "$\\displaystyle r^{2} \\left(2 k + R{\\left(t \\right)} \\frac{d^{2}}{d t^{2}} R{\\left(t \\right)} + 2 \\left(\\frac{d}{d t} R{\\left(t \\right)}\\right)^{2}\\right)$"
      ],
      "text/plain": [
       "   ⎛             2                     2⎞\n",
       " 2 ⎜            d            ⎛d       ⎞ ⎟\n",
       "r ⋅⎜2⋅k + R(t)⋅───(R(t)) + 2⋅⎜──(R(t))⎟ ⎟\n",
       "   ⎜             2           ⎝dt      ⎠ ⎟\n",
       "   ⎝           dt                       ⎠"
      ]
     },
     "execution_count": 37,
     "metadata": {},
     "output_type": "execute_result"
    }
   ],
   "source": [
    "simplify(expand(Ric.tensor()[2,2]))"
   ]
  },
  {
   "cell_type": "code",
   "execution_count": 38,
   "id": "33d2a244",
   "metadata": {},
   "outputs": [
    {
     "data": {
      "image/png": "[encoded data removed]",
      "text/latex": [
       "$\\displaystyle r^{2} \\left(2 k + R{\\left(t \\right)} \\frac{d^{2}}{d t^{2}} R{\\left(t \\right)} + 2 \\left(\\frac{d}{d t} R{\\left(t \\right)}\\right)^{2}\\right) \\sin^{2}{\\left(\\theta \\right)}$"
      ],
      "text/plain": [
       "   ⎛             2                     2⎞        \n",
       " 2 ⎜            d            ⎛d       ⎞ ⎟    2   \n",
       "r ⋅⎜2⋅k + R(t)⋅───(R(t)) + 2⋅⎜──(R(t))⎟ ⎟⋅sin (θ)\n",
       "   ⎜             2           ⎝dt      ⎠ ⎟        \n",
       "   ⎝           dt                       ⎠        "
      ]
     },
     "execution_count": 38,
     "metadata": {},
     "output_type": "execute_result"
    }
   ],
   "source": [
    "simplify(expand(Ric.tensor()[3,3]))"
   ]
  },
  {
   "cell_type": "code",
   "execution_count": 39,
   "id": "07b0d645",
   "metadata": {},
   "outputs": [
    {
     "data": {
      "text/latex": [
       "$\\displaystyle \\left[\\begin{matrix}\\frac{3.0 \\left(k + R{\\left(t \\right)} \\frac{d^{2}}{d t^{2}} R{\\left(t \\right)} + \\left(\\frac{d}{d t} R{\\left(t \\right)}\\right)^{2}\\right)}{R^{2}{\\left(t \\right)}} - \\frac{3 \\frac{d^{2}}{d t^{2}} R{\\left(t \\right)}}{R{\\left(t \\right)}} & 0 & 0 & 0\\\\0 & - \\frac{2 k + R{\\left(t \\right)} \\frac{d^{2}}{d t^{2}} R{\\left(t \\right)} + 2 \\left(\\frac{d}{d t} R{\\left(t \\right)}\\right)^{2}}{k r^{2} - 1} - \\frac{3.0 \\left(k + R{\\left(t \\right)} \\frac{d^{2}}{d t^{2}} R{\\left(t \\right)} + \\left(\\frac{d}{d t} R{\\left(t \\right)}\\right)^{2}\\right)}{- k r^{2} + 1} & 0 & 0\\\\0 & 0 & - 3.0 r^{2} \\left(k + R{\\left(t \\right)} \\frac{d^{2}}{d t^{2}} R{\\left(t \\right)} + \\left(\\frac{d}{d t} R{\\left(t \\right)}\\right)^{2}\\right) + r^{2} \\left(2 k + R{\\left(t \\right)} \\frac{d^{2}}{d t^{2}} R{\\left(t \\right)} + 2 \\left(\\frac{d}{d t} R{\\left(t \\right)}\\right)^{2}\\right) & 0\\\\0 & 0 & 0 & - 3.0 r^{2} \\left(k + R{\\left(t \\right)} \\frac{d^{2}}{d t^{2}} R{\\left(t \\right)} + \\left(\\frac{d}{d t} R{\\left(t \\right)}\\right)^{2}\\right) \\sin^{2}{\\left(\\theta \\right)} + r^{2} \\left(2 k + R{\\left(t \\right)} \\frac{d^{2}}{d t^{2}} R{\\left(t \\right)} + 2 \\left(\\frac{d}{d t} R{\\left(t \\right)}\\right)^{2}\\right) \\sin^{2}{\\left(\\theta \\right)}\\end{matrix}\\right]$"
      ],
      "text/plain": [
       "⎡    ⎛           2                   2⎞       2                                             \n",
       "⎢    ⎜          d          ⎛d       ⎞ ⎟      d                                              \n",
       "⎢3.0⋅⎜k + R(t)⋅───(R(t)) + ⎜──(R(t))⎟ ⎟   3⋅───(R(t))                                       \n",
       "⎢    ⎜           2         ⎝dt      ⎠ ⎟       2                                             \n",
       "⎢    ⎝         dt                     ⎠     dt                                              \n",
       "⎢────────────────────────────────────── - ───────────                                       \n",
       "⎢                 2                           R(t)                                          \n",
       "⎢                R (t)                                                                      \n",
       "⎢                                                                                           \n",
       "⎢                                                                     2                     \n",
       "⎢                                                                    d            ⎛d       ⎞\n",
       "⎢                                                        2⋅k + R(t)⋅───(R(t)) + 2⋅⎜──(R(t))⎟\n",
       "⎢                                                                     2           ⎝dt      ⎠\n",
       "⎢                                                                   dt                      \n",
       "⎢                         0                            - ───────────────────────────────────\n",
       "⎢                                                                         2                 \n",
       "⎢                                                                      k⋅r  - 1             \n",
       "⎢                                                                                           \n",
       "⎢                                                                                           \n",
       "⎢                                                                                           \n",
       "⎢                         0                                                                 \n",
       "⎢                                                                                           \n",
       "⎢                                                                                           \n",
       "⎢                                                                                           \n",
       "⎢                                                                                           \n",
       "⎢                                                                                           \n",
       "⎢                         0                                                                 \n",
       "⎢                                                                                           \n",
       "⎣                                                                                           \n",
       "\n",
       "                                                                                            \n",
       "                                                                                            \n",
       "                                                                                            \n",
       "                                                                                            \n",
       "                                                                                            \n",
       "  0                                                                                    0    \n",
       "                                                                                            \n",
       "                                                                                            \n",
       "                                                                                            \n",
       "2       ⎛           2                   2⎞                                                  \n",
       "        ⎜          d          ⎛d       ⎞ ⎟                                                  \n",
       "    3.0⋅⎜k + R(t)⋅───(R(t)) + ⎜──(R(t))⎟ ⎟                                                  \n",
       "        ⎜           2         ⎝dt      ⎠ ⎟                                                  \n",
       "        ⎝         dt                     ⎠                                                  \n",
       "─ - ──────────────────────────────────────                                             0    \n",
       "                       2                                                                    \n",
       "                  - k⋅r  + 1                                                                \n",
       "                                                                                            \n",
       "                                                     ⎛           2                   2⎞     \n",
       "                                                   2 ⎜          d          ⎛d       ⎞ ⎟    2\n",
       "  0                                         - 3.0⋅r ⋅⎜k + R(t)⋅───(R(t)) + ⎜──(R(t))⎟ ⎟ + r \n",
       "                                                     ⎜           2         ⎝dt      ⎠ ⎟     \n",
       "                                                     ⎝         dt                     ⎠     \n",
       "                                                                                            \n",
       "                                                                                            \n",
       "                                                                                            \n",
       "  0                                                                                    0    \n",
       "                                                                                            \n",
       "                                                                                            \n",
       "\n",
       "                                                                                            \n",
       "                                                                                            \n",
       "                                                                                            \n",
       "                                                                                            \n",
       "                                                                                            \n",
       "                                                                                            \n",
       "                                                                                            \n",
       "                                                                                            \n",
       "                                                                                            \n",
       "                                                                                            \n",
       "                                                                                            \n",
       "                                                                                            \n",
       "                                                                                            \n",
       "                                                                                            \n",
       "                                                                                            \n",
       "                                                                                            \n",
       "                                                                                            \n",
       "                                                                                            \n",
       " ⎛             2                     2⎞                                                     \n",
       " ⎜            d            ⎛d       ⎞ ⎟                                                     \n",
       "⋅⎜2⋅k + R(t)⋅───(R(t)) + 2⋅⎜──(R(t))⎟ ⎟                                                     \n",
       " ⎜             2           ⎝dt      ⎠ ⎟                                                     \n",
       " ⎝           dt                       ⎠                                                     \n",
       "                                                                                            \n",
       "                                                  ⎛           2                   2⎞        \n",
       "                                                2 ⎜          d          ⎛d       ⎞ ⎟    2   \n",
       "                                         - 3.0⋅r ⋅⎜k + R(t)⋅───(R(t)) + ⎜──(R(t))⎟ ⎟⋅sin (θ)\n",
       "                                                  ⎜           2         ⎝dt      ⎠ ⎟        \n",
       "                                                  ⎝         dt                     ⎠        \n",
       "\n",
       "                                                    ⎤\n",
       "                                                    ⎥\n",
       "                                                    ⎥\n",
       "                                                    ⎥\n",
       "                                                    ⎥\n",
       "0                                                   ⎥\n",
       "                                                    ⎥\n",
       "                                                    ⎥\n",
       "                                                    ⎥\n",
       "                                                    ⎥\n",
       "                                                    ⎥\n",
       "                                                    ⎥\n",
       "                                                    ⎥\n",
       "                                                    ⎥\n",
       "0                                                   ⎥\n",
       "                                                    ⎥\n",
       "                                                    ⎥\n",
       "                                                    ⎥\n",
       "                                                    ⎥\n",
       "                                                    ⎥\n",
       "0                                                   ⎥\n",
       "                                                    ⎥\n",
       "                                                    ⎥\n",
       "                                                    ⎥\n",
       "      ⎛             2                     2⎞        ⎥\n",
       "    2 ⎜            d            ⎛d       ⎞ ⎟    2   ⎥\n",
       " + r ⋅⎜2⋅k + R(t)⋅───(R(t)) + 2⋅⎜──(R(t))⎟ ⎟⋅sin (θ)⎥\n",
       "      ⎜             2           ⎝dt      ⎠ ⎟        ⎥\n",
       "      ⎝           dt                       ⎠        ⎦"
      ]
     },
     "execution_count": 39,
     "metadata": {},
     "output_type": "execute_result"
    }
   ],
   "source": [
    "einst = EinsteinTensor.from_metric(metric)\n",
    "einst.tensor()"
   ]
  },
  {
   "cell_type": "code",
   "execution_count": 40,
   "id": "fffa6caa",
   "metadata": {},
   "outputs": [
    {
     "data": {
      "image/png": "[encoded data removed]",
      "text/latex": [
       "$\\displaystyle \\frac{6 \\left(k + R{\\left(t \\right)} \\frac{d^{2}}{d t^{2}} R{\\left(t \\right)} + \\left(\\frac{d}{d t} R{\\left(t \\right)}\\right)^{2}\\right)}{R^{2}{\\left(t \\right)}}$"
      ],
      "text/plain": [
       "  ⎛           2                   2⎞\n",
       "  ⎜          d          ⎛d       ⎞ ⎟\n",
       "6⋅⎜k + R(t)⋅───(R(t)) + ⎜──(R(t))⎟ ⎟\n",
       "  ⎜           2         ⎝dt      ⎠ ⎟\n",
       "  ⎝         dt                     ⎠\n",
       "────────────────────────────────────\n",
       "                2                   \n",
       "               R (t)                "
      ]
     },
     "execution_count": 40,
     "metadata": {},
     "output_type": "execute_result"
    }
   ],
   "source": [
    "R = RicciScalar.from_riccitensor(Ric)\n",
    "R.simplify()\n",
    "R.expr"
   ]
  },
  {
   "cell_type": "code",
   "execution_count": 41,
   "id": "f3086fa2",
   "metadata": {},
   "outputs": [
    {
     "data": {
      "text/latex": [
       "$\\displaystyle \\left[\\begin{matrix}\\left[\\begin{matrix}0 & 0 & 0 & 0\\\\0 & 0 & 0 & 0\\\\0 & 0 & 0 & 0\\\\0 & 0 & 0 & 0\\end{matrix}\\right] & \\left[\\begin{matrix}0 & - \\frac{R{\\left(t \\right)} \\frac{d^{2}}{d t^{2}} R{\\left(t \\right)}}{k r^{2} - 1} & 0 & 0\\\\\\frac{R{\\left(t \\right)} \\frac{d^{2}}{d t^{2}} R{\\left(t \\right)}}{k r^{2} - 1} & 0 & 0 & 0\\\\0 & 0 & 0 & 0\\\\0 & 0 & 0 & 0\\end{matrix}\\right] & \\left[\\begin{matrix}0 & 0 & r^{2} R{\\left(t \\right)} \\frac{d^{2}}{d t^{2}} R{\\left(t \\right)} & 0\\\\0 & 0 & 0 & 0\\\\- r^{2} R{\\left(t \\right)} \\frac{d^{2}}{d t^{2}} R{\\left(t \\right)} & 0 & 0 & 0\\\\0 & 0 & 0 & 0\\end{matrix}\\right] & \\left[\\begin{matrix}0 & 0 & 0 & r^{2} R{\\left(t \\right)} \\sin^{2}{\\left(\\theta \\right)} \\frac{d^{2}}{d t^{2}} R{\\left(t \\right)}\\\\0 & 0 & 0 & 0\\\\0 & 0 & 0 & 0\\\\- r^{2} R{\\left(t \\right)} \\sin^{2}{\\left(\\theta \\right)} \\frac{d^{2}}{d t^{2}} R{\\left(t \\right)} & 0 & 0 & 0\\end{matrix}\\right]\\\\\\left[\\begin{matrix}0 & \\frac{\\frac{d^{2}}{d t^{2}} R{\\left(t \\right)}}{R{\\left(t \\right)}} & 0 & 0\\\\- \\frac{\\frac{d^{2}}{d t^{2}} R{\\left(t \\right)}}{R{\\left(t \\right)}} & 0 & 0 & 0\\\\0 & 0 & 0 & 0\\\\0 & 0 & 0 & 0\\end{matrix}\\right] & \\left[\\begin{matrix}0 & 0 & 0 & 0\\\\0 & 0 & 0 & 0\\\\0 & 0 & 0 & 0\\\\0 & 0 & 0 & 0\\end{matrix}\\right] & \\left[\\begin{matrix}0 & 0 & 0 & 0\\\\0 & 0 & r^{2} \\left(k + \\left(\\frac{d}{d t} R{\\left(t \\right)}\\right)^{2}\\right) & 0\\\\0 & - r^{2} \\left(k + \\left(\\frac{d}{d t} R{\\left(t \\right)}\\right)^{2}\\right) & 0 & 0\\\\0 & 0 & 0 & 0\\end{matrix}\\right] & \\left[\\begin{matrix}0 & 0 & 0 & 0\\\\0 & 0 & 0 & r^{2} \\left(k + \\left(\\frac{d}{d t} R{\\left(t \\right)}\\right)^{2}\\right) \\sin^{2}{\\left(\\theta \\right)}\\\\0 & 0 & 0 & 0\\\\0 & - r^{2} \\left(k + \\left(\\frac{d}{d t} R{\\left(t \\right)}\\right)^{2}\\right) \\sin^{2}{\\left(\\theta \\right)} & 0 & 0\\end{matrix}\\right]\\\\\\left[\\begin{matrix}0 & 0 & \\frac{\\frac{d^{2}}{d t^{2}} R{\\left(t \\right)}}{R{\\left(t \\right)}} & 0\\\\0 & 0 & 0 & 0\\\\- \\frac{\\frac{d^{2}}{d t^{2}} R{\\left(t \\right)}}{R{\\left(t \\right)}} & 0 & 0 & 0\\\\0 & 0 & 0 & 0\\end{matrix}\\right] & \\left[\\begin{matrix}0 & 0 & 0 & 0\\\\0 & 0 & \\frac{k + \\left(\\frac{d}{d t} R{\\left(t \\right)}\\right)^{2}}{k r^{2} - 1} & 0\\\\0 & - \\frac{k + \\left(\\frac{d}{d t} R{\\left(t \\right)}\\right)^{2}}{k r^{2} - 1} & 0 & 0\\\\0 & 0 & 0 & 0\\end{matrix}\\right] & \\left[\\begin{matrix}0 & 0 & 0 & 0\\\\0 & 0 & 0 & 0\\\\0 & 0 & 0 & 0\\\\0 & 0 & 0 & 0\\end{matrix}\\right] & \\left[\\begin{matrix}0 & 0 & 0 & 0\\\\0 & 0 & 0 & 0\\\\0 & 0 & 0 & r^{2} \\left(k + \\left(\\frac{d}{d t} R{\\left(t \\right)}\\right)^{2}\\right) \\sin^{2}{\\left(\\theta \\right)}\\\\0 & 0 & - r^{2} \\left(k + \\left(\\frac{d}{d t} R{\\left(t \\right)}\\right)^{2}\\right) \\sin^{2}{\\left(\\theta \\right)} & 0\\end{matrix}\\right]\\\\\\left[\\begin{matrix}0 & 0 & 0 & \\frac{\\frac{d^{2}}{d t^{2}} R{\\left(t \\right)}}{R{\\left(t \\right)}}\\\\0 & 0 & 0 & 0\\\\0 & 0 & 0 & 0\\\\- \\frac{\\frac{d^{2}}{d t^{2}} R{\\left(t \\right)}}{R{\\left(t \\right)}} & 0 & 0 & 0\\end{matrix}\\right] & \\left[\\begin{matrix}0 & 0 & 0 & 0\\\\0 & 0 & 0 & \\frac{k + \\left(\\frac{d}{d t} R{\\left(t \\right)}\\right)^{2}}{k r^{2} - 1}\\\\0 & 0 & 0 & 0\\\\0 & - \\frac{k + \\left(\\frac{d}{d t} R{\\left(t \\right)}\\right)^{2}}{k r^{2} - 1} & 0 & 0\\end{matrix}\\right] & \\left[\\begin{matrix}0 & 0 & 0 & 0\\\\0 & 0 & 0 & 0\\\\0 & 0 & 0 & - r^{2} \\left(k + \\left(\\frac{d}{d t} R{\\left(t \\right)}\\right)^{2}\\right)\\\\0 & 0 & r^{2} \\left(k + \\left(\\frac{d}{d t} R{\\left(t \\right)}\\right)^{2}\\right) & 0\\end{matrix}\\right] & \\left[\\begin{matrix}0 & 0 & 0 & 0\\\\0 & 0 & 0 & 0\\\\0 & 0 & 0 & 0\\\\0 & 0 & 0 & 0\\end{matrix}\\right]\\end{matrix}\\right]$"
      ],
      "text/plain": [
       "⎡                                  ⎡                        2             ⎤                 \n",
       "⎢                                  ⎢                       d              ⎥                 \n",
       "⎢                                  ⎢                -R(t)⋅───(R(t))       ⎥                 \n",
       "⎢                                  ⎢                        2             ⎥       ⎡         \n",
       "⎢                                  ⎢                      dt              ⎥       ⎢         \n",
       "⎢                                  ⎢      0         ────────────────  0  0⎥       ⎢        0\n",
       "⎢                                  ⎢                       2              ⎥       ⎢         \n",
       "⎢         ⎡0  0  0  0⎤             ⎢                    k⋅r  - 1          ⎥       ⎢         \n",
       "⎢         ⎢          ⎥             ⎢                                      ⎥       ⎢         \n",
       "⎢         ⎢0  0  0  0⎥             ⎢       2                              ⎥       ⎢        0\n",
       "⎢         ⎢          ⎥             ⎢      d                               ⎥       ⎢         \n",
       "⎢         ⎢0  0  0  0⎥             ⎢R(t)⋅───(R(t))                        ⎥       ⎢         \n",
       "⎢         ⎢          ⎥             ⎢       2                              ⎥       ⎢  2      \n",
       "⎢         ⎣0  0  0  0⎦             ⎢     dt                               ⎥       ⎢-r ⋅R(t)⋅\n",
       "⎢                                  ⎢──────────────         0          0  0⎥       ⎢         \n",
       "⎢                                  ⎢      2                               ⎥       ⎢         \n",
       "⎢                                  ⎢   k⋅r  - 1                           ⎥       ⎢         \n",
       "⎢                                  ⎢                                      ⎥       ⎣        0\n",
       "⎢                                  ⎢      0                0          0  0⎥                 \n",
       "⎢                                  ⎢                                      ⎥                 \n",
       "⎢                                  ⎣      0                0          0  0⎦                 \n",
       "⎢                                                                                           \n",
       "⎢⎡               2            ⎤                                                             \n",
       "⎢⎢              d             ⎥                                                             \n",
       "⎢⎢             ───(R(t))      ⎥                                                             \n",
       "⎢⎢               2            ⎥                                                ⎡0           \n",
       "⎢⎢             dt             ⎥                                                ⎢            \n",
       "⎢⎢     0       ─────────  0  0⎥                                                ⎢            \n",
       "⎢⎢                R(t)        ⎥                  ⎡0  0  0  0⎤                  ⎢            \n",
       "⎢⎢                            ⎥                  ⎢          ⎥                  ⎢0           \n",
       "⎢⎢   2                        ⎥                  ⎢0  0  0  0⎥                  ⎢            \n",
       "⎢⎢  d                         ⎥                  ⎢          ⎥                  ⎢            \n",
       "⎢⎢-───(R(t))                  ⎥                  ⎢0  0  0  0⎥                  ⎢       ⎛    \n",
       "⎢⎢   2                        ⎥                  ⎢          ⎥                  ⎢     2 ⎜    \n",
       "⎢⎢ dt                         ⎥                  ⎣0  0  0  0⎦                  ⎢0  -r ⋅⎜k + \n",
       "⎢⎢───────────      0      0  0⎥                                                ⎢       ⎝    \n",
       "⎢⎢    R(t)                    ⎥                                                ⎢            \n",
       "⎢⎢                            ⎥                                                ⎣0           \n",
       "⎢⎢     0           0      0  0⎥                                                             \n",
       "⎢⎢                            ⎥                                                             \n",
       "⎢⎣     0           0      0  0⎦                                                             \n",
       "⎢                                                                                           \n",
       "⎢⎡                  2         ⎤  ⎡0           0                  0         0⎤               \n",
       "⎢⎢                 d          ⎥  ⎢                                          ⎥               \n",
       "⎢⎢                ───(R(t))   ⎥  ⎢                                      2   ⎥               \n",
       "⎢⎢                  2         ⎥  ⎢                            ⎛d       ⎞    ⎥               \n",
       "⎢⎢                dt          ⎥  ⎢                        k + ⎜──(R(t))⎟    ⎥               \n",
       "⎢⎢     0       0  ─────────  0⎥  ⎢                            ⎝dt      ⎠    ⎥               \n",
       "⎢⎢                   R(t)     ⎥  ⎢0           0           ───────────────  0⎥               \n",
       "⎢⎢                            ⎥  ⎢                               2          ⎥               \n",
       "⎢⎢     0       0      0      0⎥  ⎢                            k⋅r  - 1      ⎥               \n",
       "⎢⎢                            ⎥  ⎢                                          ⎥               \n",
       "⎢⎢   2                        ⎥  ⎢    ⎛              2⎞                     ⎥               \n",
       "⎢⎢  d                         ⎥  ⎢    ⎜    ⎛d       ⎞ ⎟                     ⎥               \n",
       "⎢⎢-───(R(t))                  ⎥  ⎢   -⎜k + ⎜──(R(t))⎟ ⎟                     ⎥               \n",
       "⎢⎢   2                        ⎥  ⎢    ⎝    ⎝dt      ⎠ ⎠                     ⎥               \n",
       "⎢⎢ dt                         ⎥  ⎢0  ───────────────────         0         0⎥               \n",
       "⎢⎢───────────  0      0      0⎥  ⎢            2                             ⎥               \n",
       "⎢⎢    R(t)                    ⎥  ⎢         k⋅r  - 1                         ⎥               \n",
       "⎢⎢                            ⎥  ⎢                                          ⎥               \n",
       "⎢⎣     0       0      0      0⎦  ⎣0           0                  0         0⎦               \n",
       "⎢                                                                                           \n",
       "⎢⎡                     2      ⎤  ⎡0           0           0         0       ⎤               \n",
       "⎢⎢                    d       ⎥  ⎢                                          ⎥               \n",
       "⎢⎢                   ───(R(t))⎥  ⎢                                         2⎥               \n",
       "⎢⎢                     2      ⎥  ⎢                               ⎛d       ⎞ ⎥  ⎡0  0        \n",
       "⎢⎢                   dt       ⎥  ⎢                           k + ⎜──(R(t))⎟ ⎥  ⎢            \n",
       "⎢⎢     0       0  0  ─────────⎥  ⎢                               ⎝dt      ⎠ ⎥  ⎢0  0        \n",
       "⎢⎢                      R(t)  ⎥  ⎢0           0           0  ───────────────⎥  ⎢            \n",
       "⎢⎢                            ⎥  ⎢                                  2       ⎥  ⎢            \n",
       "⎢⎢     0       0  0      0    ⎥  ⎢                               k⋅r  - 1   ⎥  ⎢            \n",
       "⎢⎢                            ⎥  ⎢                                          ⎥  ⎢0  0        \n",
       "⎢⎢     0       0  0      0    ⎥  ⎢0           0           0         0       ⎥  ⎢            \n",
       "⎢⎢                            ⎥  ⎢                                          ⎥  ⎢            \n",
       "⎢⎢   2                        ⎥  ⎢    ⎛              2⎞                     ⎥  ⎢         ⎛  \n",
       "⎢⎢  d                         ⎥  ⎢    ⎜    ⎛d       ⎞ ⎟                     ⎥  ⎢       2 ⎜  \n",
       "⎢⎢-───(R(t))                  ⎥  ⎢   -⎜k + ⎜──(R(t))⎟ ⎟                     ⎥  ⎢0  0  r ⋅⎜k \n",
       "⎢⎢   2                        ⎥  ⎢    ⎝    ⎝dt      ⎠ ⎠                     ⎥  ⎣         ⎝  \n",
       "⎢⎢ dt                         ⎥  ⎢0  ───────────────────  0         0       ⎥               \n",
       "⎢⎢───────────  0  0      0    ⎥  ⎢            2                             ⎥               \n",
       "⎣⎣    R(t)                    ⎦  ⎣         k⋅r  - 1                         ⎦               \n",
       "\n",
       "                                                                                            \n",
       "                                                                                            \n",
       "                                                                                            \n",
       "                        2         ⎤        ⎡                                                \n",
       "               2       d          ⎥        ⎢                                   2         2  \n",
       "           0  r ⋅R(t)⋅───(R(t))  0⎥        ⎢            0               0  0  r ⋅R(t)⋅sin (θ\n",
       "                        2         ⎥        ⎢                                                \n",
       "                      dt          ⎥        ⎢                                                \n",
       "                                  ⎥        ⎢                                                \n",
       "           0          0          0⎥        ⎢            0               0  0              0 \n",
       "                                  ⎥        ⎢                                                \n",
       "  2                               ⎥        ⎢            0               0  0              0 \n",
       " d                                ⎥        ⎢                                                \n",
       "───(R(t))  0          0          0⎥        ⎢                   2                            \n",
       "  2                               ⎥        ⎢  2         2     d                             \n",
       "dt                                ⎥        ⎢-r ⋅R(t)⋅sin (θ)⋅───(R(t))  0  0              0 \n",
       "                                  ⎥        ⎢                   2                            \n",
       "           0          0          0⎦        ⎣                 dt                             \n",
       "                                                                                            \n",
       "                                                                                            \n",
       "                                                                                            \n",
       "                                                                                            \n",
       "                                                                                            \n",
       "                                                                                            \n",
       "                                                                                            \n",
       " 0                     0            0⎤  ⎡0                0                0               0\n",
       "                                     ⎥  ⎢                                                   \n",
       "                 ⎛              2⎞   ⎥  ⎢                                        ⎛          \n",
       "               2 ⎜    ⎛d       ⎞ ⎟   ⎥  ⎢                                      2 ⎜    ⎛d    \n",
       " 0            r ⋅⎜k + ⎜──(R(t))⎟ ⎟  0⎥  ⎢0                0                0  r ⋅⎜k + ⎜──(R(\n",
       "                 ⎝    ⎝dt      ⎠ ⎠   ⎥  ⎢                                        ⎝    ⎝dt   \n",
       "                                     ⎥  ⎢                                                   \n",
       "          2⎞                         ⎥  ⎢0                0                0               0\n",
       "⎛d       ⎞ ⎟                         ⎥  ⎢                                                   \n",
       "⎜──(R(t))⎟ ⎟           0            0⎥  ⎢       ⎛              2⎞                           \n",
       "⎝dt      ⎠ ⎠                         ⎥  ⎢     2 ⎜    ⎛d       ⎞ ⎟    2                      \n",
       "                                     ⎥  ⎢0  -r ⋅⎜k + ⎜──(R(t))⎟ ⎟⋅sin (θ)  0               0\n",
       " 0                     0            0⎦  ⎣       ⎝    ⎝dt      ⎠ ⎠                           \n",
       "                                                                                            \n",
       "                                                                                            \n",
       "                                                                                            \n",
       "                                                                                            \n",
       "                                                                                            \n",
       "                                                                                            \n",
       "                                                                                            \n",
       "                                        ⎡0  0                0                             0\n",
       "                                        ⎢                                                   \n",
       "                                        ⎢0  0                0                             0\n",
       "      ⎡0  0  0  0⎤                      ⎢                                                   \n",
       "      ⎢          ⎥                      ⎢                                        ⎛          \n",
       "      ⎢0  0  0  0⎥                      ⎢                                      2 ⎜    ⎛d    \n",
       "      ⎢          ⎥                      ⎢0  0                0                r ⋅⎜k + ⎜──(R(\n",
       "      ⎢0  0  0  0⎥                      ⎢                                        ⎝    ⎝dt   \n",
       "      ⎢          ⎥                      ⎢                                                   \n",
       "      ⎣0  0  0  0⎦                      ⎢          ⎛              2⎞                        \n",
       "                                        ⎢        2 ⎜    ⎛d       ⎞ ⎟    2                   \n",
       "                                        ⎢0  0  -r ⋅⎜k + ⎜──(R(t))⎟ ⎟⋅sin (θ)               0\n",
       "                                        ⎣          ⎝    ⎝dt      ⎠ ⎠                        \n",
       "                                                                                            \n",
       "                                                                                            \n",
       "                                                                                            \n",
       "                                                                                            \n",
       "                                                                                            \n",
       "                                                                                            \n",
       "                                                                                            \n",
       "   0                      0          ⎤                                                      \n",
       "                                     ⎥                                                      \n",
       "   0                      0          ⎥                                                      \n",
       "                                     ⎥                             ⎡0  0  0  0⎤             \n",
       "                    ⎛              2⎞⎥                             ⎢          ⎥             \n",
       "                  2 ⎜    ⎛d       ⎞ ⎟⎥                             ⎢0  0  0  0⎥             \n",
       "   0            -r ⋅⎜k + ⎜──(R(t))⎟ ⎟⎥                             ⎢          ⎥             \n",
       "                    ⎝    ⎝dt      ⎠ ⎠⎥                             ⎢0  0  0  0⎥             \n",
       "                                     ⎥                             ⎢          ⎥             \n",
       "            2⎞                       ⎥                             ⎣0  0  0  0⎦             \n",
       "  ⎛d       ⎞ ⎟                       ⎥                                                      \n",
       "+ ⎜──(R(t))⎟ ⎟            0          ⎥                                                      \n",
       "  ⎝dt      ⎠ ⎠                       ⎦                                                      \n",
       "                                                                                            \n",
       "                                                                                            \n",
       "                                                                                            \n",
       "\n",
       "               ⎤\n",
       "               ⎥\n",
       "               ⎥\n",
       "    2      ⎤   ⎥\n",
       "   d       ⎥   ⎥\n",
       ")⋅───(R(t))⎥   ⎥\n",
       "    2      ⎥   ⎥\n",
       "  dt       ⎥   ⎥\n",
       "           ⎥   ⎥\n",
       "           ⎥   ⎥\n",
       "           ⎥   ⎥\n",
       "           ⎥   ⎥\n",
       "           ⎥   ⎥\n",
       "           ⎥   ⎥\n",
       "           ⎥   ⎥\n",
       "           ⎥   ⎥\n",
       "           ⎥   ⎥\n",
       "           ⎦   ⎥\n",
       "               ⎥\n",
       "               ⎥\n",
       "               ⎥\n",
       "               ⎥\n",
       "               ⎥\n",
       "               ⎥\n",
       "               ⎥\n",
       "              ⎤⎥\n",
       "              ⎥⎥\n",
       "    2⎞        ⎥⎥\n",
       "   ⎞ ⎟    2   ⎥⎥\n",
       "t))⎟ ⎟⋅sin (θ)⎥⎥\n",
       "   ⎠ ⎠        ⎥⎥\n",
       "              ⎥⎥\n",
       "              ⎥⎥\n",
       "              ⎥⎥\n",
       "              ⎥⎥\n",
       "              ⎥⎥\n",
       "              ⎥⎥\n",
       "              ⎦⎥\n",
       "               ⎥\n",
       "               ⎥\n",
       "               ⎥\n",
       "               ⎥\n",
       "               ⎥\n",
       "               ⎥\n",
       "               ⎥\n",
       "              ⎤⎥\n",
       "              ⎥⎥\n",
       "              ⎥⎥\n",
       "              ⎥⎥\n",
       "    2⎞        ⎥⎥\n",
       "   ⎞ ⎟    2   ⎥⎥\n",
       "t))⎟ ⎟⋅sin (θ)⎥⎥\n",
       "   ⎠ ⎠        ⎥⎥\n",
       "              ⎥⎥\n",
       "              ⎥⎥\n",
       "              ⎥⎥\n",
       "              ⎥⎥\n",
       "              ⎦⎥\n",
       "               ⎥\n",
       "               ⎥\n",
       "               ⎥\n",
       "               ⎥\n",
       "               ⎥\n",
       "               ⎥\n",
       "               ⎥\n",
       "               ⎥\n",
       "               ⎥\n",
       "               ⎥\n",
       "               ⎥\n",
       "               ⎥\n",
       "               ⎥\n",
       "               ⎥\n",
       "               ⎥\n",
       "               ⎥\n",
       "               ⎥\n",
       "               ⎥\n",
       "               ⎥\n",
       "               ⎥\n",
       "               ⎥\n",
       "               ⎥\n",
       "               ⎦"
      ]
     },
     "execution_count": 41,
     "metadata": {},
     "output_type": "execute_result"
    }
   ],
   "source": [
    "rm1 = RiemannCurvatureTensor.from_christoffels(ch)\n",
    "rm1.tensor()"
   ]
  },
  {
   "cell_type": "code",
   "execution_count": 42,
   "id": "87bde578",
   "metadata": {},
   "outputs": [
    {
     "data": {
      "text/latex": [
       "$\\displaystyle \\left[\\begin{matrix}\\left[\\begin{matrix}0 & 0 & 0 & 0\\\\0 & 0 & 0 & 0\\\\0 & 0 & 0 & 0\\\\0 & 0 & 0 & 0\\end{matrix}\\right] & \\left[\\begin{matrix}0 & 0 & 0 & 0\\\\0 & 0 & 0 & 0\\\\0 & 0 & 0 & 0\\\\0 & 0 & 0 & 0\\end{matrix}\\right] & \\left[\\begin{matrix}0 & 0 & 0 & 0\\\\0 & 0 & 0 & 0\\\\0 & 0 & 0 & 0\\\\0 & 0 & 0 & 0\\end{matrix}\\right] & \\left[\\begin{matrix}0 & 0 & 0 & 0\\\\0 & 0 & 0 & 0\\\\0 & 0 & 0 & 0\\\\0 & 0 & 0 & 0\\end{matrix}\\right]\\\\\\left[\\begin{matrix}0 & 0 & 0 & 0\\\\0 & 0 & 0 & 0\\\\0 & 0 & 0 & 0\\\\0 & 0 & 0 & 0\\end{matrix}\\right] & \\left[\\begin{matrix}0 & 0 & 0 & 0\\\\0 & 0 & 0 & 0\\\\0 & 0 & 0 & 0\\\\0 & 0 & 0 & 0\\end{matrix}\\right] & \\left[\\begin{matrix}0 & 0 & 0 & 0\\\\0 & 0 & 0 & 0\\\\0 & 0 & 0 & 0\\\\0 & 0 & 0 & 0\\end{matrix}\\right] & \\left[\\begin{matrix}0 & 0 & 0 & 0\\\\0 & 0 & 0 & 0\\\\0 & 0 & 0 & 0\\\\0 & 0 & 0 & 0\\end{matrix}\\right]\\\\\\left[\\begin{matrix}0 & 0 & 0 & 0\\\\0 & 0 & 0 & 0\\\\0 & 0 & 0 & 0\\\\0 & 0 & 0 & 0\\end{matrix}\\right] & \\left[\\begin{matrix}0 & 0 & 0 & 0\\\\0 & 0 & 0 & 0\\\\0 & 0 & 0 & 0\\\\0 & 0 & 0 & 0\\end{matrix}\\right] & \\left[\\begin{matrix}0 & 0 & 0 & 0\\\\0 & 0 & 0 & 0\\\\0 & 0 & 0 & 0\\\\0 & 0 & 0 & 0\\end{matrix}\\right] & \\left[\\begin{matrix}0 & 0 & 0 & 0\\\\0 & 0 & 0 & 0\\\\0 & 0 & 0 & 0\\\\0 & 0 & 0 & 0\\end{matrix}\\right]\\\\\\left[\\begin{matrix}0 & 0 & 0 & 0\\\\0 & 0 & 0 & 0\\\\0 & 0 & 0 & 0\\\\0 & 0 & 0 & 0\\end{matrix}\\right] & \\left[\\begin{matrix}0 & 0 & 0 & 0\\\\0 & 0 & 0 & 0\\\\0 & 0 & 0 & 0\\\\0 & 0 & 0 & 0\\end{matrix}\\right] & \\left[\\begin{matrix}0 & 0 & 0 & 0\\\\0 & 0 & 0 & 0\\\\0 & 0 & 0 & 0\\\\0 & 0 & 0 & 0\\end{matrix}\\right] & \\left[\\begin{matrix}0 & 0 & 0 & 0\\\\0 & 0 & 0 & 0\\\\0 & 0 & 0 & 0\\\\0 & 0 & 0 & 0\\end{matrix}\\right]\\end{matrix}\\right]$"
      ],
      "text/plain": [
       "⎡⎡0  0  0  0⎤  ⎡0  0  0  0⎤  ⎡0  0  0  0⎤  ⎡0  0  0  0⎤⎤\n",
       "⎢⎢          ⎥  ⎢          ⎥  ⎢          ⎥  ⎢          ⎥⎥\n",
       "⎢⎢0  0  0  0⎥  ⎢0  0  0  0⎥  ⎢0  0  0  0⎥  ⎢0  0  0  0⎥⎥\n",
       "⎢⎢          ⎥  ⎢          ⎥  ⎢          ⎥  ⎢          ⎥⎥\n",
       "⎢⎢0  0  0  0⎥  ⎢0  0  0  0⎥  ⎢0  0  0  0⎥  ⎢0  0  0  0⎥⎥\n",
       "⎢⎢          ⎥  ⎢          ⎥  ⎢          ⎥  ⎢          ⎥⎥\n",
       "⎢⎣0  0  0  0⎦  ⎣0  0  0  0⎦  ⎣0  0  0  0⎦  ⎣0  0  0  0⎦⎥\n",
       "⎢                                                      ⎥\n",
       "⎢⎡0  0  0  0⎤  ⎡0  0  0  0⎤  ⎡0  0  0  0⎤  ⎡0  0  0  0⎤⎥\n",
       "⎢⎢          ⎥  ⎢          ⎥  ⎢          ⎥  ⎢          ⎥⎥\n",
       "⎢⎢0  0  0  0⎥  ⎢0  0  0  0⎥  ⎢0  0  0  0⎥  ⎢0  0  0  0⎥⎥\n",
       "⎢⎢          ⎥  ⎢          ⎥  ⎢          ⎥  ⎢          ⎥⎥\n",
       "⎢⎢0  0  0  0⎥  ⎢0  0  0  0⎥  ⎢0  0  0  0⎥  ⎢0  0  0  0⎥⎥\n",
       "⎢⎢          ⎥  ⎢          ⎥  ⎢          ⎥  ⎢          ⎥⎥\n",
       "⎢⎣0  0  0  0⎦  ⎣0  0  0  0⎦  ⎣0  0  0  0⎦  ⎣0  0  0  0⎦⎥\n",
       "⎢                                                      ⎥\n",
       "⎢⎡0  0  0  0⎤  ⎡0  0  0  0⎤  ⎡0  0  0  0⎤  ⎡0  0  0  0⎤⎥\n",
       "⎢⎢          ⎥  ⎢          ⎥  ⎢          ⎥  ⎢          ⎥⎥\n",
       "⎢⎢0  0  0  0⎥  ⎢0  0  0  0⎥  ⎢0  0  0  0⎥  ⎢0  0  0  0⎥⎥\n",
       "⎢⎢          ⎥  ⎢          ⎥  ⎢          ⎥  ⎢          ⎥⎥\n",
       "⎢⎢0  0  0  0⎥  ⎢0  0  0  0⎥  ⎢0  0  0  0⎥  ⎢0  0  0  0⎥⎥\n",
       "⎢⎢          ⎥  ⎢          ⎥  ⎢          ⎥  ⎢          ⎥⎥\n",
       "⎢⎣0  0  0  0⎦  ⎣0  0  0  0⎦  ⎣0  0  0  0⎦  ⎣0  0  0  0⎦⎥\n",
       "⎢                                                      ⎥\n",
       "⎢⎡0  0  0  0⎤  ⎡0  0  0  0⎤  ⎡0  0  0  0⎤  ⎡0  0  0  0⎤⎥\n",
       "⎢⎢          ⎥  ⎢          ⎥  ⎢          ⎥  ⎢          ⎥⎥\n",
       "⎢⎢0  0  0  0⎥  ⎢0  0  0  0⎥  ⎢0  0  0  0⎥  ⎢0  0  0  0⎥⎥\n",
       "⎢⎢          ⎥  ⎢          ⎥  ⎢          ⎥  ⎢          ⎥⎥\n",
       "⎢⎢0  0  0  0⎥  ⎢0  0  0  0⎥  ⎢0  0  0  0⎥  ⎢0  0  0  0⎥⎥\n",
       "⎢⎢          ⎥  ⎢          ⎥  ⎢          ⎥  ⎢          ⎥⎥\n",
       "⎣⎣0  0  0  0⎦  ⎣0  0  0  0⎦  ⎣0  0  0  0⎦  ⎣0  0  0  0⎦⎦"
      ]
     },
     "execution_count": 42,
     "metadata": {},
     "output_type": "execute_result"
    }
   ],
   "source": [
    "weyl = WeylTensor.from_metric(metric)\n",
    "weyl.tensor()"
   ]
  },
  {
   "cell_type": "code",
   "execution_count": null,
   "id": "c38aba8f",
   "metadata": {},
   "outputs": [],
   "source": []
  }
 ],
 "metadata": {
  "kernelspec": {
   "display_name": "Python 3 (ipykernel)",
   "language": "python",
   "name": "python3"
  },
  "language_info": {
   "codemirror_mode": {
    "name": "ipython",
    "version": 3
   },
   "file_extension": ".py",
   "mimetype": "text/x-python",
   "name": "python",
   "nbconvert_exporter": "python",
   "pygments_lexer": "ipython3",
   "version": "3.8.8"
  }
 },
 "nbformat": 4,
 "nbformat_minor": 5
}
