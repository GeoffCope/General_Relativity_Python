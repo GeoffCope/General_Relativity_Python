{
 "cells": [
  {
   "cell_type": "markdown",
   "id": "f3c46a41",
   "metadata": {},
   "source": [
    "# Quantum field theory in a colliding plane-wave background by Yurtsever\n",
    "##  Geoff Cope\n",
    "##  Univeristy of Utah\n",
    "##  December 27, 2021"
   ]
  },
  {
   "cell_type": "markdown",
   "id": "acd6f20c",
   "metadata": {},
   "source": [
    "This is a long paper with quite a few metrics.  Here we work  with the metric given as equation 38 which is the Khan Penrose metric. The field equations for the Khan Penrose metric are not used in this paper, but are listed in \"Singular Null Hypersurfaces\" by Barrabes and Hogan page 132.  Our equation numbering here will match that reference."
   ]
  },
  {
   "cell_type": "markdown",
   "id": "fab4121c",
   "metadata": {},
   "source": [
    "https://journals.aps.org/prd/abstract/10.1103/PhysRevD.40.360"
   ]
  },
  {
   "cell_type": "markdown",
   "id": "43ec034a",
   "metadata": {},
   "source": [
    "https://thesis.library.caltech.edu/8009/"
   ]
  },
  {
   "cell_type": "markdown",
   "id": "ee3d7f0d",
   "metadata": {},
   "source": [
    "https://www.worldscientific.com/worldscibooks/10.1142/5454"
   ]
  },
  {
   "cell_type": "code",
   "execution_count": 1,
   "id": "53b8041c",
   "metadata": {},
   "outputs": [
    {
     "name": "stdout",
     "output_type": "stream",
     "text": [
      "IPython console for SymPy 1.9 (Python 3.8.8-64-bit) (ground types: gmpy)\n",
      "\n",
      "These commands were executed:\n",
      ">>> from __future__ import division\n",
      ">>> from sympy import *\n",
      ">>> x, y, z, t = symbols('x y z t')\n",
      ">>> k, m, n = symbols('k m n', integer=True)\n",
      ">>> f, g, h = symbols('f g h', cls=Function)\n",
      ">>> init_printing()\n",
      "\n",
      "Documentation can be found at https://docs.sympy.org/1.9/\n",
      "\n"
     ]
    }
   ],
   "source": [
    "from sympy import init_session\n",
    "init_session(use_latex=True)"
   ]
  },
  {
   "cell_type": "code",
   "execution_count": 2,
   "id": "e3ccaabc",
   "metadata": {},
   "outputs": [],
   "source": [
    "import warnings\n",
    "import matplotlib.cbook\n",
    "warnings.filterwarnings(\"ignore\",category=matplotlib.cbook.mplDeprecation)"
   ]
  },
  {
   "cell_type": "code",
   "execution_count": 3,
   "id": "21fb2995",
   "metadata": {},
   "outputs": [],
   "source": [
    "u,v,x,y,du,dv,dx,dy = symbols( 'u v x y du dv dx dy' ) "
   ]
  },
  {
   "cell_type": "code",
   "execution_count": 4,
   "id": "5097b9ab",
   "metadata": {},
   "outputs": [
    {
     "data": {
      "image/png": "[encoded data removed]",
      "text/latex": [
       "$\\displaystyle M{\\left(u,v \\right)}$"
      ],
      "text/plain": [
       "M(u, v)"
      ]
     },
     "execution_count": 4,
     "metadata": {},
     "output_type": "execute_result"
    }
   ],
   "source": [
    "M = Function('M')(u,v)\n",
    "M"
   ]
  },
  {
   "cell_type": "code",
   "execution_count": 5,
   "id": "22430f71",
   "metadata": {},
   "outputs": [
    {
     "data": {
      "image/png": "[encoded data removed]",
      "text/latex": [
       "$\\displaystyle U{\\left(u,v \\right)}$"
      ],
      "text/plain": [
       "U(u, v)"
      ]
     },
     "execution_count": 5,
     "metadata": {},
     "output_type": "execute_result"
    }
   ],
   "source": [
    "U = Function('U')(u,v)\n",
    "U"
   ]
  },
  {
   "cell_type": "code",
   "execution_count": 6,
   "id": "b32c19aa",
   "metadata": {},
   "outputs": [
    {
     "data": {
      "image/png": "[encoded data removed]",
      "text/latex": [
       "$\\displaystyle V{\\left(u,v \\right)}$"
      ],
      "text/plain": [
       "V(u, v)"
      ]
     },
     "execution_count": 6,
     "metadata": {},
     "output_type": "execute_result"
    }
   ],
   "source": [
    "V = Function('V')(u,v)\n",
    "V"
   ]
  },
  {
   "cell_type": "code",
   "execution_count": 7,
   "id": "2e39ac86",
   "metadata": {},
   "outputs": [
    {
     "data": {
      "text/latex": [
       "$\\displaystyle \\left[\\begin{matrix}u\\\\v\\\\x\\\\y\\end{matrix}\\right]$"
      ],
      "text/plain": [
       "⎡u⎤\n",
       "⎢ ⎥\n",
       "⎢v⎥\n",
       "⎢ ⎥\n",
       "⎢x⎥\n",
       "⎢ ⎥\n",
       "⎣y⎦"
      ]
     },
     "execution_count": 7,
     "metadata": {},
     "output_type": "execute_result"
    }
   ],
   "source": [
    "variables = Matrix( [u,v,x,y] )\n",
    "variables"
   ]
  },
  {
   "cell_type": "code",
   "execution_count": 8,
   "id": "2525357f",
   "metadata": {},
   "outputs": [
    {
     "data": {
      "text/latex": [
       "$\\displaystyle \\left[\\begin{matrix}du\\\\dv\\\\dx\\\\dy\\end{matrix}\\right]$"
      ],
      "text/plain": [
       "⎡du⎤\n",
       "⎢  ⎥\n",
       "⎢dv⎥\n",
       "⎢  ⎥\n",
       "⎢dx⎥\n",
       "⎢  ⎥\n",
       "⎣dy⎦"
      ]
     },
     "execution_count": 8,
     "metadata": {},
     "output_type": "execute_result"
    }
   ],
   "source": [
    "differentials = Matrix( [du,dv,dx,dy] ) \n",
    "differentials"
   ]
  },
  {
   "cell_type": "code",
   "execution_count": 9,
   "id": "f3afa24a",
   "metadata": {},
   "outputs": [
    {
     "data": {
      "image/png": "[encoded data removed]",
      "text/latex": [
       "$\\displaystyle du dv e^{- M{\\left(u,v \\right)}} - dx^{2} e^{- U{\\left(u,v \\right)}} e^{V{\\left(u,v \\right)}} - dy^{2} e^{- U{\\left(u,v \\right)}} e^{- V{\\left(u,v \\right)}}$"
      ],
      "text/plain": [
       "       -M(u, v)     2  -U(u, v)  V(u, v)     2  -U(u, v)  -V(u, v)\n",
       "du⋅dv⋅ℯ         - dx ⋅ℯ        ⋅ℯ        - dy ⋅ℯ        ⋅ℯ        "
      ]
     },
     "execution_count": 9,
     "metadata": {},
     "output_type": "execute_result"
    }
   ],
   "source": [
    "lineElement = expand(exp(-M)*du*dv - exp(-U) * ( exp(V)*dx**2 + exp(-V)*dy**2 ))\n",
    "lineElement"
   ]
  },
  {
   "cell_type": "code",
   "execution_count": 10,
   "id": "d17a9f10",
   "metadata": {},
   "outputs": [
    {
     "data": {
      "text/latex": [
       "$\\displaystyle \\left[\\begin{matrix}0 & \\frac{e^{- M{\\left(u,v \\right)}}}{2} & 0 & 0\\\\\\frac{e^{- M{\\left(u,v \\right)}}}{2} & 0 & 0 & 0\\\\0 & 0 & - e^{- U{\\left(u,v \\right)}} e^{V{\\left(u,v \\right)}} & 0\\\\0 & 0 & 0 & - e^{- U{\\left(u,v \\right)}} e^{- V{\\left(u,v \\right)}}\\end{matrix}\\right]$"
      ],
      "text/plain": [
       "⎡            -M(u, v)                                           ⎤\n",
       "⎢           ℯ                                                   ⎥\n",
       "⎢    0      ─────────           0                    0          ⎥\n",
       "⎢               2                                               ⎥\n",
       "⎢                                                               ⎥\n",
       "⎢ -M(u, v)                                                      ⎥\n",
       "⎢ℯ                                                              ⎥\n",
       "⎢─────────      0               0                    0          ⎥\n",
       "⎢    2                                                          ⎥\n",
       "⎢                                                               ⎥\n",
       "⎢                        -U(u, v)  V(u, v)                      ⎥\n",
       "⎢    0          0      -ℯ        ⋅ℯ                  0          ⎥\n",
       "⎢                                                               ⎥\n",
       "⎢                                             -U(u, v)  -V(u, v)⎥\n",
       "⎣    0          0               0           -ℯ        ⋅ℯ        ⎦"
      ]
     },
     "execution_count": 10,
     "metadata": {},
     "output_type": "execute_result"
    }
   ],
   "source": [
    "g = zeros(4)\n",
    "\n",
    "for i in range(4):\n",
    "    for j in range(4):\n",
    "        if i == j:\n",
    "            g[i,j] = lineElement.coeff( differentials[i],2 ) \n",
    "        else:\n",
    "            g[i,j] = Rational(1,2)*lineElement.coeff( differentials[i]*differentials[j],1 )\n",
    "            \n",
    "g"
   ]
  },
  {
   "cell_type": "code",
   "execution_count": 11,
   "id": "bcfc8b99",
   "metadata": {},
   "outputs": [],
   "source": [
    "import sympy"
   ]
  },
  {
   "cell_type": "code",
   "execution_count": 12,
   "id": "372e399d",
   "metadata": {},
   "outputs": [
    {
     "data": {
      "text/latex": [
       "$\\displaystyle \\left[\\begin{matrix}0 & \\frac{e^{- M{\\left(u,v \\right)}}}{2} & 0 & 0\\\\\\frac{e^{- M{\\left(u,v \\right)}}}{2} & 0 & 0 & 0\\\\0 & 0 & - e^{- U{\\left(u,v \\right)}} e^{V{\\left(u,v \\right)}} & 0\\\\0 & 0 & 0 & - e^{- U{\\left(u,v \\right)}} e^{- V{\\left(u,v \\right)}}\\end{matrix}\\right]$"
      ],
      "text/plain": [
       "⎡            -M(u, v)                                           ⎤\n",
       "⎢           ℯ                                                   ⎥\n",
       "⎢    0      ─────────           0                    0          ⎥\n",
       "⎢               2                                               ⎥\n",
       "⎢                                                               ⎥\n",
       "⎢ -M(u, v)                                                      ⎥\n",
       "⎢ℯ                                                              ⎥\n",
       "⎢─────────      0               0                    0          ⎥\n",
       "⎢    2                                                          ⎥\n",
       "⎢                                                               ⎥\n",
       "⎢                        -U(u, v)  V(u, v)                      ⎥\n",
       "⎢    0          0      -ℯ        ⋅ℯ                  0          ⎥\n",
       "⎢                                                               ⎥\n",
       "⎢                                             -U(u, v)  -V(u, v)⎥\n",
       "⎣    0          0               0           -ℯ        ⋅ℯ        ⎦"
      ]
     },
     "execution_count": 12,
     "metadata": {},
     "output_type": "execute_result"
    }
   ],
   "source": [
    "m = sympy.Array(g)\n",
    "m"
   ]
  },
  {
   "cell_type": "code",
   "execution_count": 13,
   "id": "7cc4ecb9",
   "metadata": {},
   "outputs": [],
   "source": [
    "from einsteinpy.symbolic import *"
   ]
  },
  {
   "cell_type": "code",
   "execution_count": 14,
   "id": "b0d79309",
   "metadata": {},
   "outputs": [],
   "source": [
    "syms = sympy.symbols(\"u v x y\")\n",
    "u,v,x,y = syms"
   ]
  },
  {
   "cell_type": "code",
   "execution_count": 15,
   "id": "c7f52e41",
   "metadata": {},
   "outputs": [],
   "source": [
    "metric = MetricTensor(m,syms)"
   ]
  },
  {
   "cell_type": "code",
   "execution_count": 16,
   "id": "e4efa2cb",
   "metadata": {},
   "outputs": [
    {
     "data": {
      "text/latex": [
       "$\\displaystyle \\left[\\begin{matrix}\\left[\\begin{matrix}- \\frac{\\partial}{\\partial u} M{\\left(u,v \\right)} & 0 & 0 & 0\\\\0 & 0 & 0 & 0\\\\0 & 0 & \\left(- e^{- U{\\left(u,v \\right)}} e^{V{\\left(u,v \\right)}} \\frac{\\partial}{\\partial v} U{\\left(u,v \\right)} + e^{- U{\\left(u,v \\right)}} e^{V{\\left(u,v \\right)}} \\frac{\\partial}{\\partial v} V{\\left(u,v \\right)}\\right) e^{M{\\left(u,v \\right)}} & 0\\\\0 & 0 & 0 & \\left(- e^{- U{\\left(u,v \\right)}} e^{- V{\\left(u,v \\right)}} \\frac{\\partial}{\\partial v} U{\\left(u,v \\right)} - e^{- U{\\left(u,v \\right)}} e^{- V{\\left(u,v \\right)}} \\frac{\\partial}{\\partial v} V{\\left(u,v \\right)}\\right) e^{M{\\left(u,v \\right)}}\\end{matrix}\\right] & \\left[\\begin{matrix}0 & 0 & 0 & 0\\\\0 & - \\frac{\\partial}{\\partial v} M{\\left(u,v \\right)} & 0 & 0\\\\0 & 0 & \\left(- e^{- U{\\left(u,v \\right)}} e^{V{\\left(u,v \\right)}} \\frac{\\partial}{\\partial u} U{\\left(u,v \\right)} + e^{- U{\\left(u,v \\right)}} e^{V{\\left(u,v \\right)}} \\frac{\\partial}{\\partial u} V{\\left(u,v \\right)}\\right) e^{M{\\left(u,v \\right)}} & 0\\\\0 & 0 & 0 & \\left(- e^{- U{\\left(u,v \\right)}} e^{- V{\\left(u,v \\right)}} \\frac{\\partial}{\\partial u} U{\\left(u,v \\right)} - e^{- U{\\left(u,v \\right)}} e^{- V{\\left(u,v \\right)}} \\frac{\\partial}{\\partial u} V{\\left(u,v \\right)}\\right) e^{M{\\left(u,v \\right)}}\\end{matrix}\\right] & \\left[\\begin{matrix}0 & 0 & - \\frac{\\left(e^{- U{\\left(u,v \\right)}} e^{V{\\left(u,v \\right)}} \\frac{\\partial}{\\partial u} U{\\left(u,v \\right)} - e^{- U{\\left(u,v \\right)}} e^{V{\\left(u,v \\right)}} \\frac{\\partial}{\\partial u} V{\\left(u,v \\right)}\\right) e^{U{\\left(u,v \\right)}} e^{- V{\\left(u,v \\right)}}}{2} & 0\\\\0 & 0 & - \\frac{\\left(e^{- U{\\left(u,v \\right)}} e^{V{\\left(u,v \\right)}} \\frac{\\partial}{\\partial v} U{\\left(u,v \\right)} - e^{- U{\\left(u,v \\right)}} e^{V{\\left(u,v \\right)}} \\frac{\\partial}{\\partial v} V{\\left(u,v \\right)}\\right) e^{U{\\left(u,v \\right)}} e^{- V{\\left(u,v \\right)}}}{2} & 0\\\\- \\frac{\\left(e^{- U{\\left(u,v \\right)}} e^{V{\\left(u,v \\right)}} \\frac{\\partial}{\\partial u} U{\\left(u,v \\right)} - e^{- U{\\left(u,v \\right)}} e^{V{\\left(u,v \\right)}} \\frac{\\partial}{\\partial u} V{\\left(u,v \\right)}\\right) e^{U{\\left(u,v \\right)}} e^{- V{\\left(u,v \\right)}}}{2} & - \\frac{\\left(e^{- U{\\left(u,v \\right)}} e^{V{\\left(u,v \\right)}} \\frac{\\partial}{\\partial v} U{\\left(u,v \\right)} - e^{- U{\\left(u,v \\right)}} e^{V{\\left(u,v \\right)}} \\frac{\\partial}{\\partial v} V{\\left(u,v \\right)}\\right) e^{U{\\left(u,v \\right)}} e^{- V{\\left(u,v \\right)}}}{2} & 0 & 0\\\\0 & 0 & 0 & 0\\end{matrix}\\right] & \\left[\\begin{matrix}0 & 0 & 0 & - \\frac{\\left(e^{- U{\\left(u,v \\right)}} e^{- V{\\left(u,v \\right)}} \\frac{\\partial}{\\partial u} U{\\left(u,v \\right)} + e^{- U{\\left(u,v \\right)}} e^{- V{\\left(u,v \\right)}} \\frac{\\partial}{\\partial u} V{\\left(u,v \\right)}\\right) e^{U{\\left(u,v \\right)}} e^{V{\\left(u,v \\right)}}}{2}\\\\0 & 0 & 0 & - \\frac{\\left(e^{- U{\\left(u,v \\right)}} e^{- V{\\left(u,v \\right)}} \\frac{\\partial}{\\partial v} U{\\left(u,v \\right)} + e^{- U{\\left(u,v \\right)}} e^{- V{\\left(u,v \\right)}} \\frac{\\partial}{\\partial v} V{\\left(u,v \\right)}\\right) e^{U{\\left(u,v \\right)}} e^{V{\\left(u,v \\right)}}}{2}\\\\0 & 0 & 0 & 0\\\\- \\frac{\\left(e^{- U{\\left(u,v \\right)}} e^{- V{\\left(u,v \\right)}} \\frac{\\partial}{\\partial u} U{\\left(u,v \\right)} + e^{- U{\\left(u,v \\right)}} e^{- V{\\left(u,v \\right)}} \\frac{\\partial}{\\partial u} V{\\left(u,v \\right)}\\right) e^{U{\\left(u,v \\right)}} e^{V{\\left(u,v \\right)}}}{2} & - \\frac{\\left(e^{- U{\\left(u,v \\right)}} e^{- V{\\left(u,v \\right)}} \\frac{\\partial}{\\partial v} U{\\left(u,v \\right)} + e^{- U{\\left(u,v \\right)}} e^{- V{\\left(u,v \\right)}} \\frac{\\partial}{\\partial v} V{\\left(u,v \\right)}\\right) e^{U{\\left(u,v \\right)}} e^{V{\\left(u,v \\right)}}}{2} & 0 & 0\\end{matrix}\\right]\\end{matrix}\\right]$"
      ],
      "text/plain": [
       "⎡                                                                                           \n",
       "⎢                                                                                           \n",
       "⎢                                                                                           \n",
       "⎢⎡ ∂                                                                                        \n",
       "⎢⎢-──(M(u, v))  0                                       0                                   \n",
       "⎢⎢ ∂u                                                                                       \n",
       "⎢⎢                                                                                          \n",
       "⎢⎢     0        0                                       0                                   \n",
       "⎢⎢                                                                                          \n",
       "⎢⎢                 ⎛   -U(u, v)  V(u, v) ∂              -U(u, v)  V(u, v) ∂          ⎞  M(u,\n",
       "⎢⎢     0        0  ⎜- ℯ        ⋅ℯ       ⋅──(U(u, v)) + ℯ        ⋅ℯ       ⋅──(V(u, v))⎟⋅ℯ    \n",
       "⎢⎢                 ⎝                     ∂v                               ∂v         ⎠      \n",
       "⎢⎢                                                                                          \n",
       "⎢⎢                                                                                          \n",
       "⎢⎢     0        0                                       0                                   \n",
       "⎢⎣                                                                                          \n",
       "⎢                                                                                           \n",
       "⎢                                                                                           \n",
       "⎣                                                                                           \n",
       "\n",
       "                                                                                            \n",
       "                                                                                            \n",
       "                                                                                            \n",
       "                                                                                   ⎤  ⎡0    \n",
       "                                           0                                       ⎥  ⎢     \n",
       "                                                                                   ⎥  ⎢    ∂\n",
       "                                                                                   ⎥  ⎢0  -─\n",
       "                                           0                                       ⎥  ⎢    ∂\n",
       "                                                                                   ⎥  ⎢     \n",
       " v)                                                                                ⎥  ⎢     \n",
       "                                           0                                       ⎥  ⎢0    \n",
       "                                                                                   ⎥  ⎢     \n",
       "                                                                                   ⎥  ⎢     \n",
       "     ⎛   -U(u, v)  -V(u, v) ∂              -U(u, v)  -V(u, v) ∂          ⎞  M(u, v)⎥  ⎢     \n",
       "     ⎜- ℯ        ⋅ℯ        ⋅──(U(u, v)) - ℯ        ⋅ℯ        ⋅──(V(u, v))⎟⋅ℯ       ⎥  ⎢0    \n",
       "     ⎝                      ∂v                                ∂v         ⎠         ⎦  ⎣     \n",
       "                                                                                            \n",
       "                                                                                            \n",
       "                                                                                            \n",
       "\n",
       "                                                                                            \n",
       "                                                                                            \n",
       "                                                                                            \n",
       "   0                                             0                                          \n",
       "                                                                                            \n",
       "                                                                                            \n",
       "─(M(u, v))                                       0                                          \n",
       "v                                                                                           \n",
       "                                                                                            \n",
       "            ⎛   -U(u, v)  V(u, v) ∂              -U(u, v)  V(u, v) ∂          ⎞  M(u, v)    \n",
       "   0        ⎜- ℯ        ⋅ℯ       ⋅──(U(u, v)) + ℯ        ⋅ℯ       ⋅──(V(u, v))⎟⋅ℯ           \n",
       "            ⎝                     ∂u                               ∂u         ⎠             \n",
       "                                                                                            \n",
       "                                                                                          ⎛ \n",
       "   0                                             0                                        ⎜-\n",
       "                                                                                          ⎝ \n",
       "                                                                                            \n",
       "                                                                                            \n",
       "                                                                                            \n",
       "\n",
       "                                                                               ⎡            \n",
       "                                                                               ⎢            \n",
       "                                                                               ⎢            \n",
       "                                    0                                       ⎤  ⎢            \n",
       "                                                                            ⎥  ⎢            \n",
       "                                                                            ⎥  ⎢            \n",
       "                                    0                                       ⎥  ⎢            \n",
       "                                                                            ⎥  ⎢            \n",
       "                                                                            ⎥  ⎢            \n",
       "                                                                            ⎥  ⎢            \n",
       "                                    0                                       ⎥  ⎢            \n",
       "                                                                            ⎥  ⎢            \n",
       "                                                                            ⎥  ⎢ ⎛ -U(u, v) \n",
       "  -U(u, v)  -V(u, v) ∂              -U(u, v)  -V(u, v) ∂          ⎞  M(u, v)⎥  ⎢-⎜ℯ        ⋅\n",
       " ℯ        ⋅ℯ        ⋅──(U(u, v)) - ℯ        ⋅ℯ        ⋅──(V(u, v))⎟⋅ℯ       ⎥  ⎢ ⎝          \n",
       "                     ∂u                                ∂u         ⎠         ⎦  ⎢────────────\n",
       "                                                                               ⎢            \n",
       "                                                                               ⎢            \n",
       "                                                                               ⎣            \n",
       "\n",
       "                                                                                            \n",
       "                                                                                            \n",
       "                                                                                            \n",
       "                              0                                                             \n",
       "                                                                                            \n",
       "                                                                                            \n",
       "                                                                                            \n",
       "                                                                                            \n",
       "                                                                                            \n",
       "                              0                                                             \n",
       "                                                                                            \n",
       "                                                                                            \n",
       " V(u, v) ∂              -U(u, v)  V(u, v) ∂          ⎞  U(u, v)  -V(u, v)    ⎛ -U(u, v)  V(u\n",
       "ℯ       ⋅──(U(u, v)) - ℯ        ⋅ℯ       ⋅──(V(u, v))⎟⋅ℯ       ⋅ℯ           -⎜ℯ        ⋅ℯ   \n",
       "         ∂u                               ∂u         ⎠                       ⎝              \n",
       "──────────────────────────────────────────────────────────────────────────  ────────────────\n",
       "                              2                                                             \n",
       "                                                                                            \n",
       "                              0                                                             \n",
       "\n",
       "                                                                         ⎛ -U(u, v)  V(u, v)\n",
       "                                                                        -⎜ℯ        ⋅ℯ       \n",
       "                                                                         ⎝                  \n",
       "                          0                                             ────────────────────\n",
       "                                                                                            \n",
       "                                                                                            \n",
       "                                                                         ⎛ -U(u, v)  V(u, v)\n",
       "                                                                        -⎜ℯ        ⋅ℯ       \n",
       "                                                                         ⎝                  \n",
       "                          0                                             ────────────────────\n",
       "                                                                                            \n",
       "                                                                                            \n",
       ", v) ∂              -U(u, v)  V(u, v) ∂          ⎞  U(u, v)  -V(u, v)                       \n",
       "    ⋅──(U(u, v)) - ℯ        ⋅ℯ       ⋅──(V(u, v))⎟⋅ℯ       ⋅ℯ                               \n",
       "     ∂v                               ∂v         ⎠                                          \n",
       "──────────────────────────────────────────────────────────────────────                      \n",
       "                          2                                                                 \n",
       "                                                                                            \n",
       "                          0                                                                 \n",
       "\n",
       " ∂              -U(u, v)  V(u, v) ∂          ⎞  U(u, v)  -V(u, v)    ⎤  ⎡                   \n",
       "⋅──(U(u, v)) - ℯ        ⋅ℯ       ⋅──(V(u, v))⎟⋅ℯ       ⋅ℯ            ⎥  ⎢                   \n",
       " ∂u                               ∂u         ⎠                       ⎥  ⎢                   \n",
       "──────────────────────────────────────────────────────────────────  0⎥  ⎢                   \n",
       "                      2                                              ⎥  ⎢                   \n",
       "                                                                     ⎥  ⎢                   \n",
       " ∂              -U(u, v)  V(u, v) ∂          ⎞  U(u, v)  -V(u, v)    ⎥  ⎢                   \n",
       "⋅──(U(u, v)) - ℯ        ⋅ℯ       ⋅──(V(u, v))⎟⋅ℯ       ⋅ℯ            ⎥  ⎢                   \n",
       " ∂v                               ∂v         ⎠                       ⎥  ⎢                   \n",
       "──────────────────────────────────────────────────────────────────  0⎥  ⎢                   \n",
       "                      2                                              ⎥  ⎢                   \n",
       "                                                                     ⎥  ⎢                   \n",
       "                                                                     ⎥  ⎢                   \n",
       "                                                                     ⎥  ⎢                   \n",
       "                                                                     ⎥  ⎢ ⎛ -U(u, v)  -V(u, \n",
       "                      0                                             0⎥  ⎢-⎜ℯ        ⋅ℯ      \n",
       "                                                                     ⎥  ⎢ ⎝                 \n",
       "                                                                     ⎥  ⎢───────────────────\n",
       "                      0                                             0⎦  ⎣                   \n",
       "\n",
       "                                                                                            \n",
       "                                                                                            \n",
       "                                                                                            \n",
       "                        0                                                                   \n",
       "                                                                                            \n",
       "                                                                                            \n",
       "                                                                                            \n",
       "                                                                                            \n",
       "                                                                                            \n",
       "                        0                                                                   \n",
       "                                                                                            \n",
       "                                                                                            \n",
       "                        0                                                                   \n",
       "                                                                                            \n",
       "v) ∂              -U(u, v)  -V(u, v) ∂          ⎞  U(u, v)  V(u, v)    ⎛ -U(u, v)  -V(u, v) \n",
       "  ⋅──(U(u, v)) + ℯ        ⋅ℯ        ⋅──(V(u, v))⎟⋅ℯ       ⋅ℯ          -⎜ℯ        ⋅ℯ        ⋅\n",
       "   ∂u                                ∂u         ⎠                      ⎝                    \n",
       "────────────────────────────────────────────────────────────────────  ──────────────────────\n",
       "                        2                                                                   \n",
       "\n",
       "                                                                       ⎛ -U(u, v)  -V(u, v) \n",
       "                                                                      -⎜ℯ        ⋅ℯ        ⋅\n",
       "                                                                       ⎝                    \n",
       "                     0                                             0  ──────────────────────\n",
       "                                                                                            \n",
       "                                                                                            \n",
       "                                                                       ⎛ -U(u, v)  -V(u, v) \n",
       "                                                                      -⎜ℯ        ⋅ℯ        ⋅\n",
       "                                                                       ⎝                    \n",
       "                     0                                             0  ──────────────────────\n",
       "                                                                                            \n",
       "                                                                                            \n",
       "                     0                                             0                        \n",
       "                                                                                            \n",
       "∂              -U(u, v)  -V(u, v) ∂          ⎞  U(u, v)  V(u, v)                            \n",
       "──(U(u, v)) + ℯ        ⋅ℯ        ⋅──(V(u, v))⎟⋅ℯ       ⋅ℯ                                   \n",
       "∂v                                ∂v         ⎠                                              \n",
       "─────────────────────────────────────────────────────────────────  0                        \n",
       "                     2                                                                      \n",
       "\n",
       "∂              -U(u, v)  -V(u, v) ∂          ⎞  U(u, v)  V(u, v) ⎤⎤\n",
       "──(U(u, v)) + ℯ        ⋅ℯ        ⋅──(V(u, v))⎟⋅ℯ       ⋅ℯ        ⎥⎥\n",
       "∂u                                ∂u         ⎠                   ⎥⎥\n",
       "─────────────────────────────────────────────────────────────────⎥⎥\n",
       "                     2                                           ⎥⎥\n",
       "                                                                 ⎥⎥\n",
       "∂              -U(u, v)  -V(u, v) ∂          ⎞  U(u, v)  V(u, v) ⎥⎥\n",
       "──(U(u, v)) + ℯ        ⋅ℯ        ⋅──(V(u, v))⎟⋅ℯ       ⋅ℯ        ⎥⎥\n",
       "∂v                                ∂v         ⎠                   ⎥⎥\n",
       "─────────────────────────────────────────────────────────────────⎥⎥\n",
       "                     2                                           ⎥⎥\n",
       "                                                                 ⎥⎥\n",
       "                     0                                           ⎥⎥\n",
       "                                                                 ⎥⎥\n",
       "                                                                 ⎥⎥\n",
       "                                                                 ⎥⎥\n",
       "                                                                 ⎥⎥\n",
       "                     0                                           ⎥⎥\n",
       "                                                                 ⎦⎦"
      ]
     },
     "execution_count": 16,
     "metadata": {},
     "output_type": "execute_result"
    }
   ],
   "source": [
    "ch = ChristoffelSymbols.from_metric(metric)\n",
    "ch.tensor()"
   ]
  },
  {
   "cell_type": "code",
   "execution_count": 17,
   "id": "c393a3cd",
   "metadata": {},
   "outputs": [
    {
     "data": {
      "text/latex": [
       "$\\displaystyle \\left[\\begin{matrix}\\frac{\\partial}{\\partial u} M{\\left(u,v \\right)} \\frac{\\partial}{\\partial u} U{\\left(u,v \\right)} - \\frac{\\left(\\frac{\\partial}{\\partial u} U{\\left(u,v \\right)}\\right)^{2}}{2} + \\frac{\\partial^{2}}{\\partial u^{2}} U{\\left(u,v \\right)} - \\frac{\\left(\\frac{\\partial}{\\partial u} V{\\left(u,v \\right)}\\right)^{2}}{2} & - \\frac{\\frac{\\partial}{\\partial u} U{\\left(u,v \\right)} \\frac{\\partial}{\\partial v} U{\\left(u,v \\right)}}{2} - \\frac{\\frac{\\partial}{\\partial u} V{\\left(u,v \\right)} \\frac{\\partial}{\\partial v} V{\\left(u,v \\right)}}{2} + \\frac{\\partial^{2}}{\\partial v\\partial u} M{\\left(u,v \\right)} + \\frac{\\partial^{2}}{\\partial v\\partial u} U{\\left(u,v \\right)} & 0 & 0\\\\- \\frac{\\frac{\\partial}{\\partial u} U{\\left(u,v \\right)} \\frac{\\partial}{\\partial v} U{\\left(u,v \\right)}}{2} - \\frac{\\frac{\\partial}{\\partial u} V{\\left(u,v \\right)} \\frac{\\partial}{\\partial v} V{\\left(u,v \\right)}}{2} + \\frac{\\partial^{2}}{\\partial v\\partial u} M{\\left(u,v \\right)} + \\frac{\\partial^{2}}{\\partial v\\partial u} U{\\left(u,v \\right)} & \\frac{\\partial}{\\partial v} M{\\left(u,v \\right)} \\frac{\\partial}{\\partial v} U{\\left(u,v \\right)} - \\frac{\\left(\\frac{\\partial}{\\partial v} U{\\left(u,v \\right)}\\right)^{2}}{2} + \\frac{\\partial^{2}}{\\partial v^{2}} U{\\left(u,v \\right)} - \\frac{\\left(\\frac{\\partial}{\\partial v} V{\\left(u,v \\right)}\\right)^{2}}{2} & 0 & 0\\\\0 & 0 & \\left(2 \\frac{\\partial}{\\partial u} U{\\left(u,v \\right)} \\frac{\\partial}{\\partial v} U{\\left(u,v \\right)} - \\frac{\\partial}{\\partial u} U{\\left(u,v \\right)} \\frac{\\partial}{\\partial v} V{\\left(u,v \\right)} - \\frac{\\partial}{\\partial v} U{\\left(u,v \\right)} \\frac{\\partial}{\\partial u} V{\\left(u,v \\right)} - 2 \\frac{\\partial^{2}}{\\partial v\\partial u} U{\\left(u,v \\right)} + 2 \\frac{\\partial^{2}}{\\partial v\\partial u} V{\\left(u,v \\right)}\\right) e^{M{\\left(u,v \\right)} - U{\\left(u,v \\right)} + V{\\left(u,v \\right)}} & 0\\\\0 & 0 & 0 & \\left(2 \\frac{\\partial}{\\partial u} U{\\left(u,v \\right)} \\frac{\\partial}{\\partial v} U{\\left(u,v \\right)} + \\frac{\\partial}{\\partial u} U{\\left(u,v \\right)} \\frac{\\partial}{\\partial v} V{\\left(u,v \\right)} + \\frac{\\partial}{\\partial v} U{\\left(u,v \\right)} \\frac{\\partial}{\\partial u} V{\\left(u,v \\right)} - 2 \\frac{\\partial^{2}}{\\partial v\\partial u} U{\\left(u,v \\right)} - 2 \\frac{\\partial^{2}}{\\partial v\\partial u} V{\\left(u,v \\right)}\\right) e^{M{\\left(u,v \\right)} - U{\\left(u,v \\right)} - V{\\left(u,v \\right)}}\\end{matrix}\\right]$"
      ],
      "text/plain": [
       "⎡                                             2                               2             \n",
       "⎢                                ⎛∂          ⎞                   ⎛∂          ⎞            ∂ \n",
       "⎢                                ⎜──(U(u, v))⎟      2            ⎜──(V(u, v))⎟            ──\n",
       "⎢      ∂           ∂             ⎝∂u         ⎠     ∂             ⎝∂u         ⎠            ∂u\n",
       "⎢      ──(M(u, v))⋅──(U(u, v)) - ────────────── + ───(U(u, v)) - ──────────────         - ──\n",
       "⎢      ∂u          ∂u                  2            2                  2                    \n",
       "⎢                                                 ∂u                                        \n",
       "⎢                                                                                           \n",
       "⎢                                                                                           \n",
       "⎢  ∂           ∂             ∂           ∂                                                  \n",
       "⎢  ──(U(u, v))⋅──(U(u, v))   ──(V(u, v))⋅──(V(u, v))      2                2                \n",
       "⎢  ∂u          ∂v            ∂u          ∂v              ∂                ∂                 \n",
       "⎢- ─────────────────────── - ─────────────────────── + ─────(M(u, v)) + ─────(U(u, v))      \n",
       "⎢             2                         2              ∂v ∂u            ∂v ∂u               \n",
       "⎢                                                                                           \n",
       "⎢                                                                                           \n",
       "⎢                                                                                           \n",
       "⎢                                                                                           \n",
       "⎢                                          0                                                \n",
       "⎢                                                                                           \n",
       "⎢                                                                                           \n",
       "⎢                                                                                           \n",
       "⎢                                                                                           \n",
       "⎢                                          0                                                \n",
       "⎣                                                                                           \n",
       "\n",
       "                                                                                            \n",
       "          ∂             ∂           ∂                                                       \n",
       "(U(u, v))⋅──(U(u, v))   ──(V(u, v))⋅──(V(u, v))      2                2                     \n",
       "          ∂v            ∂u          ∂v              ∂                ∂                      \n",
       "───────────────────── - ─────────────────────── + ─────(M(u, v)) + ─────(U(u, v))           \n",
       "         2                         2              ∂v ∂u            ∂v ∂u                    \n",
       "                                                                                            \n",
       "                                                                                            \n",
       "                                         2                               2                  \n",
       "                            ⎛∂          ⎞                   ⎛∂          ⎞                   \n",
       "                            ⎜──(U(u, v))⎟      2            ⎜──(V(u, v))⎟                   \n",
       "  ∂           ∂             ⎝∂v         ⎠     ∂             ⎝∂v         ⎠                   \n",
       "  ──(M(u, v))⋅──(U(u, v)) - ────────────── + ───(U(u, v)) - ──────────────                  \n",
       "  ∂v          ∂v                  2            2                  2                         \n",
       "                                             ∂v                                             \n",
       "                                                                                            \n",
       "                                                                                   ⎛        \n",
       "                                                                                   ⎜  ∂     \n",
       "                                      0                                            ⎜2⋅──(U(u\n",
       "                                                                                   ⎝  ∂u    \n",
       "                                                                                            \n",
       "                                                                                            \n",
       "                                                                                            \n",
       "                                      0                                                     \n",
       "                                                                                            \n",
       "\n",
       "                                                                                            \n",
       "                                                                                            \n",
       "                                                                                            \n",
       "                                                                                            \n",
       "                                                               0                            \n",
       "                                                                                            \n",
       "                                                                                            \n",
       "                                                                                            \n",
       "                                                                                            \n",
       "                                                                                            \n",
       "                                                                                            \n",
       "                                                                                            \n",
       "                                                               0                            \n",
       "                                                                                            \n",
       "                                                                                            \n",
       "                                                                                            \n",
       "                                                                             2              \n",
       "      ∂             ∂           ∂             ∂           ∂                 ∂               \n",
       ", v))⋅──(U(u, v)) - ──(U(u, v))⋅──(V(u, v)) - ──(U(u, v))⋅──(V(u, v)) - 2⋅─────(U(u, v)) + 2\n",
       "      ∂v            ∂u          ∂v            ∂v          ∂u              ∂v ∂u             \n",
       "                                                                                            \n",
       "                                                                                            \n",
       "                                                                                            \n",
       "                                                               0                            \n",
       "                                                                                            \n",
       "\n",
       "                                                                                            \n",
       "                                                                                            \n",
       "                                                                                            \n",
       "                                                                                            \n",
       "                                                                                            \n",
       "                                                                                            \n",
       "                                                                                            \n",
       "                                                                                            \n",
       "                                                                                            \n",
       "                                                                                            \n",
       "                                                                                            \n",
       "                                                                                            \n",
       "                                                                                            \n",
       "                                                                                            \n",
       "                                                                                            \n",
       "                                                                                            \n",
       "    2          ⎞                                                                            \n",
       "   ∂           ⎟  M(u, v) - U(u, v) + V(u, v)                                               \n",
       "⋅─────(V(u, v))⎟⋅ℯ                                                                          \n",
       " ∂v ∂u         ⎠                                                                            \n",
       "                                                                                            \n",
       "                                               ⎛                                            \n",
       "                                               ⎜  ∂           ∂             ∂           ∂   \n",
       "                                               ⎜2⋅──(U(u, v))⋅──(U(u, v)) + ──(U(u, v))⋅──(V\n",
       "                                               ⎝  ∂u          ∂v            ∂u          ∂v  \n",
       "\n",
       "                                                                                            \n",
       "                                                                                            \n",
       "                                                                                            \n",
       "                                                                                            \n",
       "                           0                                                                \n",
       "                                                                                            \n",
       "                                                                                            \n",
       "                                                                                            \n",
       "                                                                                            \n",
       "                                                                                            \n",
       "                                                                                            \n",
       "                                                                                            \n",
       "                           0                                                                \n",
       "                                                                                            \n",
       "                                                                                            \n",
       "                                                                                            \n",
       "                                                                                            \n",
       "                                                                                            \n",
       "                           0                                                                \n",
       "                                                                                            \n",
       "                                                                                            \n",
       "                                         2                  2          ⎞                    \n",
       "          ∂           ∂                 ∂                  ∂           ⎟  M(u, v) - U(u, v) \n",
       "(u, v)) + ──(U(u, v))⋅──(V(u, v)) - 2⋅─────(U(u, v)) - 2⋅─────(V(u, v))⎟⋅ℯ                  \n",
       "          ∂v          ∂u              ∂v ∂u              ∂v ∂u         ⎠                    \n",
       "\n",
       "         ⎤\n",
       "         ⎥\n",
       "         ⎥\n",
       "         ⎥\n",
       "         ⎥\n",
       "         ⎥\n",
       "         ⎥\n",
       "         ⎥\n",
       "         ⎥\n",
       "         ⎥\n",
       "         ⎥\n",
       "         ⎥\n",
       "         ⎥\n",
       "         ⎥\n",
       "         ⎥\n",
       "         ⎥\n",
       "         ⎥\n",
       "         ⎥\n",
       "         ⎥\n",
       "         ⎥\n",
       "         ⎥\n",
       "         ⎥\n",
       "- V(u, v)⎥\n",
       "         ⎥\n",
       "         ⎦"
      ]
     },
     "execution_count": 17,
     "metadata": {},
     "output_type": "execute_result"
    }
   ],
   "source": [
    "Ric = RicciTensor.from_metric(metric)\n",
    "Ric.tensor()"
   ]
  },
  {
   "cell_type": "code",
   "execution_count": 18,
   "id": "e3e689ba",
   "metadata": {},
   "outputs": [
    {
     "data": {
      "text/latex": [
       "$\\displaystyle \\left[\\begin{matrix}\\frac{\\partial}{\\partial u} M{\\left(u,v \\right)} \\frac{\\partial}{\\partial u} U{\\left(u,v \\right)} - \\frac{\\left(\\frac{\\partial}{\\partial u} U{\\left(u,v \\right)}\\right)^{2}}{2} + \\frac{\\partial^{2}}{\\partial u^{2}} U{\\left(u,v \\right)} - \\frac{\\left(\\frac{\\partial}{\\partial u} V{\\left(u,v \\right)}\\right)^{2}}{2} & 1.0 \\frac{\\partial}{\\partial u} U{\\left(u,v \\right)} \\frac{\\partial}{\\partial v} U{\\left(u,v \\right)} - 1.0 \\frac{\\partial^{2}}{\\partial v\\partial u} U{\\left(u,v \\right)} & 0 & 0\\\\1.0 \\frac{\\partial}{\\partial u} U{\\left(u,v \\right)} \\frac{\\partial}{\\partial v} U{\\left(u,v \\right)} - 1.0 \\frac{\\partial^{2}}{\\partial v\\partial u} U{\\left(u,v \\right)} & \\frac{\\partial}{\\partial v} M{\\left(u,v \\right)} \\frac{\\partial}{\\partial v} U{\\left(u,v \\right)} - \\frac{\\left(\\frac{\\partial}{\\partial v} U{\\left(u,v \\right)}\\right)^{2}}{2} + \\frac{\\partial^{2}}{\\partial v^{2}} U{\\left(u,v \\right)} - \\frac{\\left(\\frac{\\partial}{\\partial v} V{\\left(u,v \\right)}\\right)^{2}}{2} & 0 & 0\\\\0 & 0 & 1.0 \\left(- 3 \\frac{\\partial}{\\partial u} U{\\left(u,v \\right)} \\frac{\\partial}{\\partial v} U{\\left(u,v \\right)} - \\frac{\\partial}{\\partial u} V{\\left(u,v \\right)} \\frac{\\partial}{\\partial v} V{\\left(u,v \\right)} + 2 \\frac{\\partial^{2}}{\\partial v\\partial u} M{\\left(u,v \\right)} + 4 \\frac{\\partial^{2}}{\\partial v\\partial u} U{\\left(u,v \\right)}\\right) e^{M{\\left(u,v \\right)}} e^{- U{\\left(u,v \\right)}} e^{V{\\left(u,v \\right)}} + \\left(2 \\frac{\\partial}{\\partial u} U{\\left(u,v \\right)} \\frac{\\partial}{\\partial v} U{\\left(u,v \\right)} - \\frac{\\partial}{\\partial u} U{\\left(u,v \\right)} \\frac{\\partial}{\\partial v} V{\\left(u,v \\right)} - \\frac{\\partial}{\\partial v} U{\\left(u,v \\right)} \\frac{\\partial}{\\partial u} V{\\left(u,v \\right)} - 2 \\frac{\\partial^{2}}{\\partial v\\partial u} U{\\left(u,v \\right)} + 2 \\frac{\\partial^{2}}{\\partial v\\partial u} V{\\left(u,v \\right)}\\right) e^{M{\\left(u,v \\right)} - U{\\left(u,v \\right)} + V{\\left(u,v \\right)}} & 0\\\\0 & 0 & 0 & 1.0 \\left(- 3 \\frac{\\partial}{\\partial u} U{\\left(u,v \\right)} \\frac{\\partial}{\\partial v} U{\\left(u,v \\right)} - \\frac{\\partial}{\\partial u} V{\\left(u,v \\right)} \\frac{\\partial}{\\partial v} V{\\left(u,v \\right)} + 2 \\frac{\\partial^{2}}{\\partial v\\partial u} M{\\left(u,v \\right)} + 4 \\frac{\\partial^{2}}{\\partial v\\partial u} U{\\left(u,v \\right)}\\right) e^{M{\\left(u,v \\right)}} e^{- U{\\left(u,v \\right)}} e^{- V{\\left(u,v \\right)}} + \\left(2 \\frac{\\partial}{\\partial u} U{\\left(u,v \\right)} \\frac{\\partial}{\\partial v} U{\\left(u,v \\right)} + \\frac{\\partial}{\\partial u} U{\\left(u,v \\right)} \\frac{\\partial}{\\partial v} V{\\left(u,v \\right)} + \\frac{\\partial}{\\partial v} U{\\left(u,v \\right)} \\frac{\\partial}{\\partial u} V{\\left(u,v \\right)} - 2 \\frac{\\partial^{2}}{\\partial v\\partial u} U{\\left(u,v \\right)} - 2 \\frac{\\partial^{2}}{\\partial v\\partial u} V{\\left(u,v \\right)}\\right) e^{M{\\left(u,v \\right)} - U{\\left(u,v \\right)} - V{\\left(u,v \\right)}}\\end{matrix}\\right]$"
      ],
      "text/plain": [
       "⎡                                       2                               2                   \n",
       "⎢                          ⎛∂          ⎞                   ⎛∂          ⎞                    \n",
       "⎢                          ⎜──(U(u, v))⎟      2            ⎜──(V(u, v))⎟                    \n",
       "⎢∂           ∂             ⎝∂u         ⎠     ∂             ⎝∂u         ⎠                    \n",
       "⎢──(M(u, v))⋅──(U(u, v)) - ────────────── + ───(U(u, v)) - ──────────────                1.0\n",
       "⎢∂u          ∂u                  2            2                  2                          \n",
       "⎢                                           ∂u                                              \n",
       "⎢                                                                                           \n",
       "⎢                                                                                           \n",
       "⎢                                                                                           \n",
       "⎢                                               2                                           \n",
       "⎢                  ∂           ∂               ∂                           ∂           ∂    \n",
       "⎢              1.0⋅──(U(u, v))⋅──(U(u, v)) - ─────(U(u, v))                ──(M(u, v))⋅──(U(\n",
       "⎢                  ∂u          ∂v            ∂v ∂u                         ∂v          ∂v   \n",
       "⎢                                                                                           \n",
       "⎢                                                                                           \n",
       "⎢                                                                                           \n",
       "⎢                                                                                           \n",
       "⎢                                   0                                                       \n",
       "⎢                                                                                           \n",
       "⎢                                                                                           \n",
       "⎢                                                                                           \n",
       "⎢                                                                                           \n",
       "⎢                                   0                                                       \n",
       "⎣                                                                                           \n",
       "\n",
       "                                                                                            \n",
       "                                                                                            \n",
       "                              2                                                             \n",
       " ∂           ∂               ∂                                                              \n",
       "⋅──(U(u, v))⋅──(U(u, v)) - ─────(U(u, v))                                                   \n",
       " ∂u          ∂v            ∂v ∂u                                                            \n",
       "                                                                                            \n",
       "                                                                                            \n",
       "                      2                               2                                     \n",
       "         ⎛∂          ⎞                   ⎛∂          ⎞                                      \n",
       "         ⎜──(U(u, v))⎟      2            ⎜──(V(u, v))⎟                                      \n",
       "         ⎝∂v         ⎠     ∂             ⎝∂v         ⎠                                      \n",
       "u, v)) - ────────────── + ───(U(u, v)) - ──────────────                                     \n",
       "               2            2                  2                                            \n",
       "                          ∂v                                                                \n",
       "                                                                                            \n",
       "                                                             ⎛                              \n",
       "                                                             ⎜    ∂           ∂             \n",
       "                  0                                      1.0⋅⎜- 3⋅──(U(u, v))⋅──(U(u, v)) - \n",
       "                                                             ⎝    ∂u          ∂v            \n",
       "                                                                                            \n",
       "                                                                                            \n",
       "                                                                                            \n",
       "                  0                                                                         \n",
       "                                                                                            \n",
       "\n",
       "                                                                                            \n",
       "                                                                                            \n",
       "                                                                                            \n",
       "                                                                                            \n",
       "                                                                                            \n",
       "                                                                                            \n",
       "                                                                                            \n",
       "                                                                                            \n",
       "                                                                                            \n",
       "                                                                                            \n",
       "                                                                                            \n",
       "                                                                                            \n",
       "                                                                                            \n",
       "                                                                                            \n",
       "                                                                                            \n",
       "                                                                                            \n",
       "                               2                  2          ⎞                              \n",
       "∂           ∂                 ∂                  ∂           ⎟  M(u, v)  -U(u, v)  V(u, v)  \n",
       "──(V(u, v))⋅──(V(u, v)) + 2⋅─────(M(u, v)) + 4⋅─────(U(u, v))⎟⋅ℯ       ⋅ℯ        ⋅ℯ        +\n",
       "∂u          ∂v              ∂v ∂u              ∂v ∂u         ⎠                              \n",
       "                                                                                            \n",
       "                                                                                            \n",
       "                                                                                            \n",
       "                                                                                            \n",
       "                                                                                            \n",
       "\n",
       "                                                                                            \n",
       "                                                                                            \n",
       "                                                                                            \n",
       "                                                                                            \n",
       "         0                                                                                  \n",
       "                                                                                            \n",
       "                                                                                            \n",
       "                                                                                            \n",
       "                                                                                            \n",
       "                                                                                            \n",
       "                                                                                            \n",
       "                                                                                            \n",
       "         0                                                                                  \n",
       "                                                                                            \n",
       "                                                                                            \n",
       "                                                                                            \n",
       " ⎛                                                                                     2    \n",
       " ⎜  ∂           ∂             ∂           ∂             ∂           ∂                 ∂     \n",
       " ⎜2⋅──(U(u, v))⋅──(U(u, v)) - ──(U(u, v))⋅──(V(u, v)) - ──(U(u, v))⋅──(V(u, v)) - 2⋅─────(U(\n",
       " ⎝  ∂u          ∂v            ∂u          ∂v            ∂v          ∂u              ∂v ∂u   \n",
       "                                                                                            \n",
       "                                                                                            \n",
       "                                                                                            \n",
       "         0                                                                                  \n",
       "                                                                                            \n",
       "\n",
       "                                                                                            \n",
       "                                                                                            \n",
       "                                                                                            \n",
       "                                                                                            \n",
       "                                                                                            \n",
       "                                                                                            \n",
       "                                                                                            \n",
       "                                                                                            \n",
       "                                                                                            \n",
       "                                                                                            \n",
       "                                                                                            \n",
       "                                                                                            \n",
       "                                                                                            \n",
       "                                                                                            \n",
       "                                                                                            \n",
       "                                                                                            \n",
       "              2          ⎞                                                                  \n",
       "             ∂           ⎟  M(u, v) - U(u, v) + V(u, v)                                     \n",
       "u, v)) + 2⋅─────(V(u, v))⎟⋅ℯ                                                                \n",
       "           ∂v ∂u         ⎠                                                                  \n",
       "                                                                                            \n",
       "                                                             ⎛                              \n",
       "                                                             ⎜    ∂           ∂             \n",
       "                                                         1.0⋅⎜- 3⋅──(U(u, v))⋅──(U(u, v)) - \n",
       "                                                             ⎝    ∂u          ∂v            \n",
       "\n",
       "                                                                                            \n",
       "                                                                                            \n",
       "                                                                                            \n",
       "                                                                                            \n",
       "                                                                                            \n",
       "                                                                                            \n",
       "                                                                                            \n",
       "                                                                                            \n",
       "                                                                                            \n",
       "                                                                                            \n",
       "                                                                                            \n",
       "                                                                                            \n",
       "                                                                                            \n",
       "                                                                                            \n",
       "                                                                                            \n",
       "                                                                                            \n",
       "                                                                                            \n",
       "                                                                                            \n",
       "                                                                                            \n",
       "                                                                                            \n",
       "                                                                                            \n",
       "                               2                  2          ⎞                              \n",
       "∂           ∂                 ∂                  ∂           ⎟  M(u, v)  -U(u, v)  -V(u, v) \n",
       "──(V(u, v))⋅──(V(u, v)) + 2⋅─────(M(u, v)) + 4⋅─────(U(u, v))⎟⋅ℯ       ⋅ℯ        ⋅ℯ         \n",
       "∂u          ∂v              ∂v ∂u              ∂v ∂u         ⎠                              \n",
       "\n",
       "                                                                                            \n",
       "                                                                                            \n",
       "                                                                                            \n",
       "                                                                                            \n",
       "          0                                                                                 \n",
       "                                                                                            \n",
       "                                                                                            \n",
       "                                                                                            \n",
       "                                                                                            \n",
       "                                                                                            \n",
       "                                                                                            \n",
       "                                                                                            \n",
       "          0                                                                                 \n",
       "                                                                                            \n",
       "                                                                                            \n",
       "                                                                                            \n",
       "                                                                                            \n",
       "                                                                                            \n",
       "          0                                                                                 \n",
       "                                                                                            \n",
       "                                                                                            \n",
       "  ⎛                                                                                     2   \n",
       "  ⎜  ∂           ∂             ∂           ∂             ∂           ∂                 ∂    \n",
       "+ ⎜2⋅──(U(u, v))⋅──(U(u, v)) + ──(U(u, v))⋅──(V(u, v)) + ──(U(u, v))⋅──(V(u, v)) - 2⋅─────(U\n",
       "  ⎝  ∂u          ∂v            ∂u          ∂v            ∂v          ∂u              ∂v ∂u  \n",
       "\n",
       "                                                        ⎤\n",
       "                                                        ⎥\n",
       "                                                        ⎥\n",
       "                                                        ⎥\n",
       "                                                        ⎥\n",
       "                                                        ⎥\n",
       "                                                        ⎥\n",
       "                                                        ⎥\n",
       "                                                        ⎥\n",
       "                                                        ⎥\n",
       "                                                        ⎥\n",
       "                                                        ⎥\n",
       "                                                        ⎥\n",
       "                                                        ⎥\n",
       "                                                        ⎥\n",
       "                                                        ⎥\n",
       "                                                        ⎥\n",
       "                                                        ⎥\n",
       "                                                        ⎥\n",
       "                                                        ⎥\n",
       "                                                        ⎥\n",
       "               2          ⎞                             ⎥\n",
       "              ∂           ⎟  M(u, v) - U(u, v) - V(u, v)⎥\n",
       "(u, v)) - 2⋅─────(V(u, v))⎟⋅ℯ                           ⎥\n",
       "            ∂v ∂u         ⎠                             ⎦"
      ]
     },
     "execution_count": 18,
     "metadata": {},
     "output_type": "execute_result"
    }
   ],
   "source": [
    "einst = EinsteinTensor.from_metric(metric)\n",
    "einst.tensor()"
   ]
  },
  {
   "cell_type": "code",
   "execution_count": 19,
   "id": "ebd9bb5e",
   "metadata": {},
   "outputs": [
    {
     "data": {
      "image/png": "[encoded data removed]",
      "text/latex": [
       "$\\displaystyle 2 \\left(- 3 \\frac{\\partial}{\\partial u} U{\\left(u,v \\right)} \\frac{\\partial}{\\partial v} U{\\left(u,v \\right)} - \\frac{\\partial}{\\partial u} V{\\left(u,v \\right)} \\frac{\\partial}{\\partial v} V{\\left(u,v \\right)} + 2 \\frac{\\partial^{2}}{\\partial v\\partial u} M{\\left(u,v \\right)} + 4 \\frac{\\partial^{2}}{\\partial v\\partial u} U{\\left(u,v \\right)}\\right) e^{M{\\left(u,v \\right)}}$"
      ],
      "text/plain": [
       "  ⎛                                                             2                  2        \n",
       "  ⎜    ∂           ∂             ∂           ∂                 ∂                  ∂         \n",
       "2⋅⎜- 3⋅──(U(u, v))⋅──(U(u, v)) - ──(V(u, v))⋅──(V(u, v)) + 2⋅─────(M(u, v)) + 4⋅─────(U(u, v\n",
       "  ⎝    ∂u          ∂v            ∂u          ∂v              ∂v ∂u              ∂v ∂u       \n",
       "\n",
       "  ⎞         \n",
       "  ⎟  M(u, v)\n",
       "))⎟⋅ℯ       \n",
       "  ⎠         "
      ]
     },
     "execution_count": 19,
     "metadata": {},
     "output_type": "execute_result"
    }
   ],
   "source": [
    "R = RicciScalar.from_riccitensor(Ric)\n",
    "R.simplify()\n",
    "R.expr"
   ]
  },
  {
   "cell_type": "code",
   "execution_count": 20,
   "id": "db0018b2",
   "metadata": {},
   "outputs": [],
   "source": [
    "#  rm1 = RiemannCurvatureTensor.from_christoffels(ch)\n",
    "#  rm1.tensor()"
   ]
  },
  {
   "cell_type": "code",
   "execution_count": 21,
   "id": "82949849",
   "metadata": {},
   "outputs": [],
   "source": [
    "#  weyl = WeylTensor.from_metric(metric)\n",
    "#  weyl.tensor()"
   ]
  },
  {
   "cell_type": "code",
   "execution_count": 35,
   "id": "49b5647b",
   "metadata": {},
   "outputs": [
    {
     "data": {
      "image/png": "[encoded data removed]",
      "text/latex": [
       "$\\displaystyle \\frac{\\partial^{2}}{\\partial v\\partial u} U{\\left(u,v \\right)} = \\frac{\\partial}{\\partial u} U{\\left(u,v \\right)} \\frac{\\partial}{\\partial v} U{\\left(u,v \\right)}$"
      ],
      "text/plain": [
       "   2                                    \n",
       "  ∂              ∂           ∂          \n",
       "─────(U(u, v)) = ──(U(u, v))⋅──(U(u, v))\n",
       "∂v ∂u            ∂u          ∂v         "
      ]
     },
     "execution_count": 35,
     "metadata": {},
     "output_type": "execute_result"
    }
   ],
   "source": [
    "equation6pt4 = Eq(diff(U,u,v) ,solve( einst.tensor()[1,0], diff(U,u,v) )[0] ) \n",
    "equation6pt4"
   ]
  },
  {
   "cell_type": "code",
   "execution_count": 43,
   "id": "18c2c105",
   "metadata": {},
   "outputs": [
    {
     "data": {
      "image/png": "[encoded data removed]",
      "text/latex": [
       "$\\displaystyle 2 \\frac{\\partial^{2}}{\\partial v\\partial u} V{\\left(u,v \\right)} = \\frac{\\partial}{\\partial u} U{\\left(u,v \\right)} \\frac{\\partial}{\\partial v} V{\\left(u,v \\right)} + \\frac{\\partial}{\\partial v} U{\\left(u,v \\right)} \\frac{\\partial}{\\partial u} V{\\left(u,v \\right)}$"
      ],
      "text/plain": [
       "     2                                                              \n",
       "    ∂              ∂           ∂             ∂           ∂          \n",
       "2⋅─────(V(u, v)) = ──(U(u, v))⋅──(V(u, v)) + ──(U(u, v))⋅──(V(u, v))\n",
       "  ∂v ∂u            ∂u          ∂v            ∂v          ∂u         "
      ]
     },
     "execution_count": 43,
     "metadata": {},
     "output_type": "execute_result"
    }
   ],
   "source": [
    "equation6pt5 = Eq(2*diff(V,u,v) ,2*solve( Ric.tensor()[2,2].args[0] , diff(V,u,v) )[0].subs(equation6pt4.args[0],equation6pt4.args[1]))\n",
    "equation6pt5"
   ]
  },
  {
   "cell_type": "code",
   "execution_count": 36,
   "id": "5e7ca9ef",
   "metadata": {},
   "outputs": [
    {
     "data": {
      "image/png": "[encoded data removed]",
      "text/latex": [
       "$\\displaystyle 2 \\frac{\\partial^{2}}{\\partial u^{2}} U{\\left(u,v \\right)} = - 2 \\frac{\\partial}{\\partial u} M{\\left(u,v \\right)} \\frac{\\partial}{\\partial u} U{\\left(u,v \\right)} + \\left(\\frac{\\partial}{\\partial u} U{\\left(u,v \\right)}\\right)^{2} + \\left(\\frac{\\partial}{\\partial u} V{\\left(u,v \\right)}\\right)^{2}$"
      ],
      "text/plain": [
       "    2                                                       2                2\n",
       "   ∂                 ∂           ∂             ⎛∂          ⎞    ⎛∂          ⎞ \n",
       "2⋅───(U(u, v)) = - 2⋅──(M(u, v))⋅──(U(u, v)) + ⎜──(U(u, v))⎟  + ⎜──(V(u, v))⎟ \n",
       "    2                ∂u          ∂u            ⎝∂u         ⎠    ⎝∂u         ⎠ \n",
       "  ∂u                                                                          "
      ]
     },
     "execution_count": 36,
     "metadata": {},
     "output_type": "execute_result"
    }
   ],
   "source": [
    "equation6pt6 = Eq(2*diff(U,u,u),2*solve( Ric.tensor()[0,0] , diff(U,u,u) )[0])\n",
    "equation6pt6"
   ]
  },
  {
   "cell_type": "code",
   "execution_count": 37,
   "id": "e8093922",
   "metadata": {},
   "outputs": [
    {
     "data": {
      "image/png": "[encoded data removed]",
      "text/latex": [
       "$\\displaystyle 2 \\frac{\\partial^{2}}{\\partial v^{2}} U{\\left(u,v \\right)} = - 2 \\frac{\\partial}{\\partial v} M{\\left(u,v \\right)} \\frac{\\partial}{\\partial v} U{\\left(u,v \\right)} + \\left(\\frac{\\partial}{\\partial v} U{\\left(u,v \\right)}\\right)^{2} + \\left(\\frac{\\partial}{\\partial v} V{\\left(u,v \\right)}\\right)^{2}$"
      ],
      "text/plain": [
       "    2                                                       2                2\n",
       "   ∂                 ∂           ∂             ⎛∂          ⎞    ⎛∂          ⎞ \n",
       "2⋅───(U(u, v)) = - 2⋅──(M(u, v))⋅──(U(u, v)) + ⎜──(U(u, v))⎟  + ⎜──(V(u, v))⎟ \n",
       "    2                ∂v          ∂v            ⎝∂v         ⎠    ⎝∂v         ⎠ \n",
       "  ∂v                                                                          "
      ]
     },
     "execution_count": 37,
     "metadata": {},
     "output_type": "execute_result"
    }
   ],
   "source": [
    "equation6pt7 = Eq(2*diff(U,v,v),2*solve( Ric.tensor()[1,1] , diff(U,v,v) )[0])\n",
    "equation6pt7"
   ]
  },
  {
   "cell_type": "code",
   "execution_count": 69,
   "id": "a2741d5a",
   "metadata": {},
   "outputs": [
    {
     "data": {
      "image/png": "[encoded data removed]",
      "text/latex": [
       "$\\displaystyle 2 \\frac{\\partial^{2}}{\\partial v\\partial u} M{\\left(u,v \\right)} = - \\frac{\\partial}{\\partial u} U{\\left(u,v \\right)} \\frac{\\partial}{\\partial v} U{\\left(u,v \\right)} + \\frac{\\partial}{\\partial u} V{\\left(u,v \\right)} \\frac{\\partial}{\\partial v} V{\\left(u,v \\right)}$"
      ],
      "text/plain": [
       "     2                                                                \n",
       "    ∂                ∂           ∂             ∂           ∂          \n",
       "2⋅─────(M(u, v)) = - ──(U(u, v))⋅──(U(u, v)) + ──(V(u, v))⋅──(V(u, v))\n",
       "  ∂v ∂u              ∂u          ∂v            ∂u          ∂v         "
      ]
     },
     "execution_count": 69,
     "metadata": {},
     "output_type": "execute_result"
    }
   ],
   "source": [
    "equation6pt8 = Eq(2*diff(M,u,v),2*solve( einst.tensor()[2,2].args[1].args[1].subs(equation6pt4.args[0],equation6pt4.args[1]) , diff(M,u,v))[0] )\n",
    "equation6pt8"
   ]
  },
  {
   "cell_type": "code",
   "execution_count": 71,
   "id": "76f2dae6",
   "metadata": {},
   "outputs": [
    {
     "data": {
      "text/latex": [
       "$\\displaystyle \\left[\\begin{matrix}\\frac{\\partial^{2}}{\\partial v\\partial u} U{\\left(u,v \\right)} = \\frac{\\partial}{\\partial u} U{\\left(u,v \\right)} \\frac{\\partial}{\\partial v} U{\\left(u,v \\right)}\\\\2 \\frac{\\partial^{2}}{\\partial v\\partial u} V{\\left(u,v \\right)} = \\frac{\\partial}{\\partial u} U{\\left(u,v \\right)} \\frac{\\partial}{\\partial v} V{\\left(u,v \\right)} + \\frac{\\partial}{\\partial v} U{\\left(u,v \\right)} \\frac{\\partial}{\\partial u} V{\\left(u,v \\right)}\\\\2 \\frac{\\partial^{2}}{\\partial u^{2}} U{\\left(u,v \\right)} = - 2 \\frac{\\partial}{\\partial u} M{\\left(u,v \\right)} \\frac{\\partial}{\\partial u} U{\\left(u,v \\right)} + \\left(\\frac{\\partial}{\\partial u} U{\\left(u,v \\right)}\\right)^{2} + \\left(\\frac{\\partial}{\\partial u} V{\\left(u,v \\right)}\\right)^{2}\\\\2 \\frac{\\partial^{2}}{\\partial v^{2}} U{\\left(u,v \\right)} = - 2 \\frac{\\partial}{\\partial v} M{\\left(u,v \\right)} \\frac{\\partial}{\\partial v} U{\\left(u,v \\right)} + \\left(\\frac{\\partial}{\\partial v} U{\\left(u,v \\right)}\\right)^{2} + \\left(\\frac{\\partial}{\\partial v} V{\\left(u,v \\right)}\\right)^{2}\\\\2 \\frac{\\partial^{2}}{\\partial v\\partial u} M{\\left(u,v \\right)} = - \\frac{\\partial}{\\partial u} U{\\left(u,v \\right)} \\frac{\\partial}{\\partial v} U{\\left(u,v \\right)} + \\frac{\\partial}{\\partial u} V{\\left(u,v \\right)} \\frac{\\partial}{\\partial v} V{\\left(u,v \\right)}\\end{matrix}\\right]$"
      ],
      "text/plain": [
       "⎡                      2                                                       ⎤\n",
       "⎢                     ∂              ∂           ∂                             ⎥\n",
       "⎢                   ─────(U(u, v)) = ──(U(u, v))⋅──(U(u, v))                   ⎥\n",
       "⎢                   ∂v ∂u            ∂u          ∂v                            ⎥\n",
       "⎢                                                                              ⎥\n",
       "⎢          2                                                                   ⎥\n",
       "⎢         ∂              ∂           ∂             ∂           ∂               ⎥\n",
       "⎢     2⋅─────(V(u, v)) = ──(U(u, v))⋅──(V(u, v)) + ──(U(u, v))⋅──(V(u, v))     ⎥\n",
       "⎢       ∂v ∂u            ∂u          ∂v            ∂v          ∂u              ⎥\n",
       "⎢                                                                              ⎥\n",
       "⎢    2                                                       2                2⎥\n",
       "⎢   ∂                 ∂           ∂             ⎛∂          ⎞    ⎛∂          ⎞ ⎥\n",
       "⎢2⋅───(U(u, v)) = - 2⋅──(M(u, v))⋅──(U(u, v)) + ⎜──(U(u, v))⎟  + ⎜──(V(u, v))⎟ ⎥\n",
       "⎢    2                ∂u          ∂u            ⎝∂u         ⎠    ⎝∂u         ⎠ ⎥\n",
       "⎢  ∂u                                                                          ⎥\n",
       "⎢                                                                              ⎥\n",
       "⎢    2                                                       2                2⎥\n",
       "⎢   ∂                 ∂           ∂             ⎛∂          ⎞    ⎛∂          ⎞ ⎥\n",
       "⎢2⋅───(U(u, v)) = - 2⋅──(M(u, v))⋅──(U(u, v)) + ⎜──(U(u, v))⎟  + ⎜──(V(u, v))⎟ ⎥\n",
       "⎢    2                ∂v          ∂v            ⎝∂v         ⎠    ⎝∂v         ⎠ ⎥\n",
       "⎢  ∂v                                                                          ⎥\n",
       "⎢                                                                              ⎥\n",
       "⎢         2                                                                    ⎥\n",
       "⎢        ∂                ∂           ∂             ∂           ∂              ⎥\n",
       "⎢    2⋅─────(M(u, v)) = - ──(U(u, v))⋅──(U(u, v)) + ──(V(u, v))⋅──(V(u, v))    ⎥\n",
       "⎣      ∂v ∂u              ∂u          ∂v            ∂u          ∂v             ⎦"
      ]
     },
     "execution_count": 71,
     "metadata": {},
     "output_type": "execute_result"
    }
   ],
   "source": [
    "vacuumFieldEquations = Matrix( [equation6pt4,equation6pt5,equation6pt6,equation6pt7,equation6pt8] )\n",
    "vacuumFieldEquations"
   ]
  },
  {
   "cell_type": "code",
   "execution_count": null,
   "id": "693911c3",
   "metadata": {},
   "outputs": [],
   "source": []
  }
 ],
 "metadata": {
  "@webio": {
   "lastCommId": "d9c1b67274b7473b841e58c5fc5cff8d",
   "lastKernelId": "41418940-0c75-47f1-b66b-d33ee9f62e8b"
  },
  "kernelspec": {
   "display_name": "Python 3 (ipykernel)",
   "language": "python",
   "name": "python3"
  },
  "language_info": {
   "codemirror_mode": {
    "name": "ipython",
    "version": 3
   },
   "file_extension": ".py",
   "mimetype": "text/x-python",
   "name": "python",
   "nbconvert_exporter": "python",
   "pygments_lexer": "ipython3",
   "version": "3.8.8"
  }
 },
 "nbformat": 4,
 "nbformat_minor": 5
}
