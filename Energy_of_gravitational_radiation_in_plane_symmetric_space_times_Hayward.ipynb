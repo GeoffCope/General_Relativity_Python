{
 "cells": [
  {
   "cell_type": "markdown",
   "id": "08610f8e",
   "metadata": {},
   "source": [
    "# Energy of gravitational radiation in plane-symmetric space-times by Hayward\n",
    "##  Geoff Cope\n",
    "##  Univeristy of Utah\n",
    "##  𐐏𐐭𐑌𐐲𐑂𐐲𐑉𐑅𐐮𐐻𐐨 𐐲𐑂 𐐏𐐭𐐻𐐫\n",
    "##  January 23, 2022"
   ]
  },
  {
   "cell_type": "code",
   "execution_count": 1,
   "id": "55ada880",
   "metadata": {},
   "outputs": [
    {
     "name": "stdout",
     "output_type": "stream",
     "text": [
      "IPython console for SymPy 1.9 (Python 3.8.8-64-bit) (ground types: gmpy)\n",
      "\n",
      "These commands were executed:\n",
      ">>> from __future__ import division\n",
      ">>> from sympy import *\n",
      ">>> x, y, z, t = symbols('x y z t')\n",
      ">>> k, m, n = symbols('k m n', integer=True)\n",
      ">>> f, g, h = symbols('f g h', cls=Function)\n",
      ">>> init_printing()\n",
      "\n",
      "Documentation can be found at https://docs.sympy.org/1.9/\n",
      "\n"
     ]
    }
   ],
   "source": [
    "from sympy import init_session\n",
    "init_session(use_latex=True)"
   ]
  },
  {
   "cell_type": "code",
   "execution_count": 2,
   "id": "ca46b78f",
   "metadata": {},
   "outputs": [],
   "source": [
    "import warnings\n",
    "import matplotlib.cbook\n",
    "warnings.filterwarnings(\"ignore\",category=matplotlib.cbook.mplDeprecation)"
   ]
  },
  {
   "cell_type": "code",
   "execution_count": 9,
   "id": "63c5d305",
   "metadata": {},
   "outputs": [],
   "source": [
    "x_p, x_m, xp, xm, y,z,dxp,dxm,dy,dz = symbols('x_p x_m xp xm y z dxp dxm dy dz')"
   ]
  },
  {
   "cell_type": "code",
   "execution_count": 11,
   "id": "59d0ae6c",
   "metadata": {},
   "outputs": [
    {
     "data": {
      "image/png": "[encoded data removed]",
      "text/latex": [
       "$\\displaystyle A{\\left(x_{p},x_{m} \\right)}$"
      ],
      "text/plain": [
       "A(xₚ, xₘ)"
      ]
     },
     "execution_count": 11,
     "metadata": {},
     "output_type": "execute_result"
    }
   ],
   "source": [
    "A = Function('A')(x_p,x_m)\n",
    "A"
   ]
  },
  {
   "cell_type": "code",
   "execution_count": 12,
   "id": "41606b80",
   "metadata": {},
   "outputs": [
    {
     "data": {
      "image/png": "[encoded data removed]",
      "text/latex": [
       "$\\displaystyle \\phi{\\left(x_{p},x_{m} \\right)}$"
      ],
      "text/plain": [
       "φ(xₚ, xₘ)"
      ]
     },
     "execution_count": 12,
     "metadata": {},
     "output_type": "execute_result"
    }
   ],
   "source": [
    "phi = Function('phi')(x_p,x_m)\n",
    "phi"
   ]
  },
  {
   "cell_type": "code",
   "execution_count": 13,
   "id": "71db8d1c",
   "metadata": {},
   "outputs": [
    {
     "data": {
      "image/png": "[encoded data removed]",
      "text/latex": [
       "$\\displaystyle \\chi{\\left(x_{p},x_{m} \\right)}$"
      ],
      "text/plain": [
       "χ(xₚ, xₘ)"
      ]
     },
     "execution_count": 13,
     "metadata": {},
     "output_type": "execute_result"
    }
   ],
   "source": [
    "chi = Function('chi')(x_p,x_m)\n",
    "chi"
   ]
  },
  {
   "cell_type": "code",
   "execution_count": 14,
   "id": "ddd3412c",
   "metadata": {},
   "outputs": [
    {
     "data": {
      "image/png": "[encoded data removed]",
      "text/latex": [
       "$\\displaystyle \\gamma{\\left(x_{p},x_{m} \\right)}$"
      ],
      "text/plain": [
       "γ(xₚ, xₘ)"
      ]
     },
     "execution_count": 14,
     "metadata": {},
     "output_type": "execute_result"
    }
   ],
   "source": [
    "gamma = Function('gamma')(x_p,x_m)\n",
    "gamma"
   ]
  },
  {
   "cell_type": "code",
   "execution_count": 15,
   "id": "107da60f",
   "metadata": {},
   "outputs": [
    {
     "data": {
      "text/latex": [
       "$\\displaystyle \\left[\\begin{matrix}x_{p}\\\\x_{m}\\\\y\\\\z\\end{matrix}\\right]$"
      ],
      "text/plain": [
       "⎡xₚ⎤\n",
       "⎢  ⎥\n",
       "⎢xₘ⎥\n",
       "⎢  ⎥\n",
       "⎢y ⎥\n",
       "⎢  ⎥\n",
       "⎣z ⎦"
      ]
     },
     "execution_count": 15,
     "metadata": {},
     "output_type": "execute_result"
    }
   ],
   "source": [
    "variables = Matrix([x_p,x_m,y,z])\n",
    "variables"
   ]
  },
  {
   "cell_type": "code",
   "execution_count": 16,
   "id": "0ebc1d64",
   "metadata": {},
   "outputs": [
    {
     "data": {
      "text/latex": [
       "$\\displaystyle \\left[\\begin{matrix}dxp\\\\dxm\\\\dy\\\\dz\\end{matrix}\\right]$"
      ],
      "text/plain": [
       "⎡dxp⎤\n",
       "⎢   ⎥\n",
       "⎢dxm⎥\n",
       "⎢   ⎥\n",
       "⎢dy ⎥\n",
       "⎢   ⎥\n",
       "⎣dz ⎦"
      ]
     },
     "execution_count": 16,
     "metadata": {},
     "output_type": "execute_result"
    }
   ],
   "source": [
    "differentials = Matrix([dxp,dxm,dy,dz])\n",
    "differentials "
   ]
  },
  {
   "cell_type": "code",
   "execution_count": 17,
   "id": "de1ad75b",
   "metadata": {},
   "outputs": [
    {
     "data": {
      "image/png": "[encoded data removed]",
      "text/latex": [
       "$\\displaystyle - 2 dxm dxp e^{2 \\gamma{\\left(x_{p},x_{m} \\right)}} + dy^{2} A{\\left(x_{p},x_{m} \\right)} e^{2 \\phi{\\left(x_{p},x_{m} \\right)}} \\sec{\\left(2 \\chi{\\left(x_{p},x_{m} \\right)} \\right)} + 2 dy dz A{\\left(x_{p},x_{m} \\right)} \\tan{\\left(2 \\chi{\\left(x_{p},x_{m} \\right)} \\right)} + dz^{2} A{\\left(x_{p},x_{m} \\right)} e^{- 2 \\phi{\\left(x_{p},x_{m} \\right)}} \\sec{\\left(2 \\chi{\\left(x_{p},x_{m} \\right)} \\right)}$"
      ],
      "text/plain": [
       "             2⋅γ(xₚ, xₘ)     2            2⋅φ(xₚ, xₘ)                                       \n",
       "- 2⋅dxm⋅dxp⋅ℯ            + dy ⋅A(xₚ, xₘ)⋅ℯ           ⋅sec(2⋅χ(xₚ, xₘ)) + 2⋅dy⋅dz⋅A(xₚ, xₘ)⋅t\n",
       "\n",
       "                    2            -2⋅φ(xₚ, xₘ)                 \n",
       "an(2⋅χ(xₚ, xₘ)) + dz ⋅A(xₚ, xₘ)⋅ℯ            ⋅sec(2⋅χ(xₚ, xₘ))"
      ]
     },
     "execution_count": 17,
     "metadata": {},
     "output_type": "execute_result"
    }
   ],
   "source": [
    "lineElement = expand( -2*exp(2*gamma)*dxp*dxm + A*(exp(2*phi)*sec(2*chi)*dy**2 + 2*tan(2*chi)*dy*dz +exp(-2*phi)*sec(2*chi)*dz**2)) \n",
    "lineElement"
   ]
  },
  {
   "cell_type": "code",
   "execution_count": 18,
   "id": "483b1367",
   "metadata": {},
   "outputs": [
    {
     "data": {
      "text/latex": [
       "$\\displaystyle \\left[\\begin{matrix}0 & - e^{2 \\gamma{\\left(x_{p},x_{m} \\right)}} & 0 & 0\\\\- e^{2 \\gamma{\\left(x_{p},x_{m} \\right)}} & 0 & 0 & 0\\\\0 & 0 & A{\\left(x_{p},x_{m} \\right)} e^{2 \\phi{\\left(x_{p},x_{m} \\right)}} \\sec{\\left(2 \\chi{\\left(x_{p},x_{m} \\right)} \\right)} & A{\\left(x_{p},x_{m} \\right)} \\tan{\\left(2 \\chi{\\left(x_{p},x_{m} \\right)} \\right)}\\\\0 & 0 & A{\\left(x_{p},x_{m} \\right)} \\tan{\\left(2 \\chi{\\left(x_{p},x_{m} \\right)} \\right)} & A{\\left(x_{p},x_{m} \\right)} e^{- 2 \\phi{\\left(x_{p},x_{m} \\right)}} \\sec{\\left(2 \\chi{\\left(x_{p},x_{m} \\right)} \\right)}\\end{matrix}\\right]$"
      ],
      "text/plain": [
       "⎡                 2⋅γ(xₚ, xₘ)                                                               \n",
       "⎢      0        -ℯ                                0                                        0\n",
       "⎢                                                                                           \n",
       "⎢  2⋅γ(xₚ, xₘ)                                                                              \n",
       "⎢-ℯ                   0                           0                                        0\n",
       "⎢                                                                                           \n",
       "⎢                                         2⋅φ(xₚ, xₘ)                                       \n",
       "⎢      0              0        A(xₚ, xₘ)⋅ℯ           ⋅sec(2⋅χ(xₚ, xₘ))         A(xₚ, xₘ)⋅tan\n",
       "⎢                                                                                           \n",
       "⎢                                                                                  -2⋅φ(xₚ, \n",
       "⎣      0              0              A(xₚ, xₘ)⋅tan(2⋅χ(xₚ, xₘ))         A(xₚ, xₘ)⋅ℯ         \n",
       "\n",
       "                    ⎤\n",
       "                    ⎥\n",
       "                    ⎥\n",
       "                    ⎥\n",
       "                    ⎥\n",
       "                    ⎥\n",
       "                    ⎥\n",
       "(2⋅χ(xₚ, xₘ))       ⎥\n",
       "                    ⎥\n",
       "xₘ)                 ⎥\n",
       "   ⋅sec(2⋅χ(xₚ, xₘ))⎦"
      ]
     },
     "execution_count": 18,
     "metadata": {},
     "output_type": "execute_result"
    }
   ],
   "source": [
    "g = zeros(4)\n",
    "\n",
    "for i in range(4):\n",
    "    for j in range(4):\n",
    "        if i == j:\n",
    "            g[i,j] = lineElement.coeff( differentials[i],2 ) \n",
    "        else:\n",
    "            g[i,j] = Rational(1,2)*lineElement.coeff( differentials[i]*differentials[j],1 )\n",
    "            \n",
    "g"
   ]
  },
  {
   "cell_type": "code",
   "execution_count": 19,
   "id": "55d42ed4",
   "metadata": {},
   "outputs": [],
   "source": [
    "import sympy"
   ]
  },
  {
   "cell_type": "code",
   "execution_count": 20,
   "id": "3dff4f2d",
   "metadata": {},
   "outputs": [
    {
     "data": {
      "text/latex": [
       "$\\displaystyle \\left[\\begin{matrix}0 & - e^{2 \\gamma{\\left(x_{p},x_{m} \\right)}} & 0 & 0\\\\- e^{2 \\gamma{\\left(x_{p},x_{m} \\right)}} & 0 & 0 & 0\\\\0 & 0 & A{\\left(x_{p},x_{m} \\right)} e^{2 \\phi{\\left(x_{p},x_{m} \\right)}} \\sec{\\left(2 \\chi{\\left(x_{p},x_{m} \\right)} \\right)} & A{\\left(x_{p},x_{m} \\right)} \\tan{\\left(2 \\chi{\\left(x_{p},x_{m} \\right)} \\right)}\\\\0 & 0 & A{\\left(x_{p},x_{m} \\right)} \\tan{\\left(2 \\chi{\\left(x_{p},x_{m} \\right)} \\right)} & A{\\left(x_{p},x_{m} \\right)} e^{- 2 \\phi{\\left(x_{p},x_{m} \\right)}} \\sec{\\left(2 \\chi{\\left(x_{p},x_{m} \\right)} \\right)}\\end{matrix}\\right]$"
      ],
      "text/plain": [
       "⎡                 2⋅γ(xₚ, xₘ)                                                               \n",
       "⎢      0        -ℯ                                0                                        0\n",
       "⎢                                                                                           \n",
       "⎢  2⋅γ(xₚ, xₘ)                                                                              \n",
       "⎢-ℯ                   0                           0                                        0\n",
       "⎢                                                                                           \n",
       "⎢                                         2⋅φ(xₚ, xₘ)                                       \n",
       "⎢      0              0        A(xₚ, xₘ)⋅ℯ           ⋅sec(2⋅χ(xₚ, xₘ))         A(xₚ, xₘ)⋅tan\n",
       "⎢                                                                                           \n",
       "⎢                                                                                  -2⋅φ(xₚ, \n",
       "⎣      0              0              A(xₚ, xₘ)⋅tan(2⋅χ(xₚ, xₘ))         A(xₚ, xₘ)⋅ℯ         \n",
       "\n",
       "                    ⎤\n",
       "                    ⎥\n",
       "                    ⎥\n",
       "                    ⎥\n",
       "                    ⎥\n",
       "                    ⎥\n",
       "                    ⎥\n",
       "(2⋅χ(xₚ, xₘ))       ⎥\n",
       "                    ⎥\n",
       "xₘ)                 ⎥\n",
       "   ⋅sec(2⋅χ(xₚ, xₘ))⎦"
      ]
     },
     "execution_count": 20,
     "metadata": {},
     "output_type": "execute_result"
    }
   ],
   "source": [
    "m = sympy.Array(g)\n",
    "m"
   ]
  },
  {
   "cell_type": "code",
   "execution_count": 21,
   "id": "4369d10f",
   "metadata": {},
   "outputs": [],
   "source": [
    "from einsteinpy.symbolic import *"
   ]
  },
  {
   "cell_type": "code",
   "execution_count": 26,
   "id": "c31f952b",
   "metadata": {},
   "outputs": [],
   "source": [
    "syms = sympy.symbols(\"x_p x_m y z\")\n",
    "x_p,x_m,y,z = syms"
   ]
  },
  {
   "cell_type": "code",
   "execution_count": 27,
   "id": "1db2f8a8",
   "metadata": {},
   "outputs": [],
   "source": [
    "metric = MetricTensor(m,syms)"
   ]
  },
  {
   "cell_type": "code",
   "execution_count": 28,
   "id": "952c96cf",
   "metadata": {},
   "outputs": [
    {
     "data": {
      "text/latex": [
       "$\\displaystyle \\left[\\begin{matrix}\\left[\\begin{matrix}2 \\frac{\\partial}{\\partial x_{p}} \\gamma{\\left(x_{p},x_{m} \\right)} & 0 & 0 & 0\\\\0 & 0 & 0 & 0\\\\0 & 0 & \\frac{\\left(2 A{\\left(x_{p},x_{m} \\right)} \\tan{\\left(2 \\chi{\\left(x_{p},x_{m} \\right)} \\right)} \\frac{\\partial}{\\partial x_{m}} \\chi{\\left(x_{p},x_{m} \\right)} + 2 A{\\left(x_{p},x_{m} \\right)} \\frac{\\partial}{\\partial x_{m}} \\phi{\\left(x_{p},x_{m} \\right)} + \\frac{\\partial}{\\partial x_{m}} A{\\left(x_{p},x_{m} \\right)}\\right) e^{- 2 \\gamma{\\left(x_{p},x_{m} \\right)} + 2 \\phi{\\left(x_{p},x_{m} \\right)}} \\sec{\\left(2 \\chi{\\left(x_{p},x_{m} \\right)} \\right)}}{2} & \\left(\\frac{A{\\left(x_{p},x_{m} \\right)} \\frac{\\partial}{\\partial x_{m}} \\chi{\\left(x_{p},x_{m} \\right)}}{\\cos^{2}{\\left(2 \\chi{\\left(x_{p},x_{m} \\right)} \\right)}} + \\frac{\\tan{\\left(2 \\chi{\\left(x_{p},x_{m} \\right)} \\right)} \\frac{\\partial}{\\partial x_{m}} A{\\left(x_{p},x_{m} \\right)}}{2}\\right) e^{- 2 \\gamma{\\left(x_{p},x_{m} \\right)}}\\\\0 & 0 & \\left(\\frac{A{\\left(x_{p},x_{m} \\right)} \\frac{\\partial}{\\partial x_{m}} \\chi{\\left(x_{p},x_{m} \\right)}}{\\cos^{2}{\\left(2 \\chi{\\left(x_{p},x_{m} \\right)} \\right)}} + \\frac{\\tan{\\left(2 \\chi{\\left(x_{p},x_{m} \\right)} \\right)} \\frac{\\partial}{\\partial x_{m}} A{\\left(x_{p},x_{m} \\right)}}{2}\\right) e^{- 2 \\gamma{\\left(x_{p},x_{m} \\right)}} & \\frac{\\left(2 A{\\left(x_{p},x_{m} \\right)} \\tan{\\left(2 \\chi{\\left(x_{p},x_{m} \\right)} \\right)} \\frac{\\partial}{\\partial x_{m}} \\chi{\\left(x_{p},x_{m} \\right)} - 2 A{\\left(x_{p},x_{m} \\right)} \\frac{\\partial}{\\partial x_{m}} \\phi{\\left(x_{p},x_{m} \\right)} + \\frac{\\partial}{\\partial x_{m}} A{\\left(x_{p},x_{m} \\right)}\\right) e^{- 2 \\gamma{\\left(x_{p},x_{m} \\right)} - 2 \\phi{\\left(x_{p},x_{m} \\right)}} \\sec{\\left(2 \\chi{\\left(x_{p},x_{m} \\right)} \\right)}}{2}\\end{matrix}\\right] & \\left[\\begin{matrix}0 & 0 & 0 & 0\\\\0 & 2 \\frac{\\partial}{\\partial x_{m}} \\gamma{\\left(x_{p},x_{m} \\right)} & 0 & 0\\\\0 & 0 & \\frac{\\left(2 A{\\left(x_{p},x_{m} \\right)} \\tan{\\left(2 \\chi{\\left(x_{p},x_{m} \\right)} \\right)} \\frac{\\partial}{\\partial x_{p}} \\chi{\\left(x_{p},x_{m} \\right)} + 2 A{\\left(x_{p},x_{m} \\right)} \\frac{\\partial}{\\partial x_{p}} \\phi{\\left(x_{p},x_{m} \\right)} + \\frac{\\partial}{\\partial x_{p}} A{\\left(x_{p},x_{m} \\right)}\\right) e^{- 2 \\gamma{\\left(x_{p},x_{m} \\right)} + 2 \\phi{\\left(x_{p},x_{m} \\right)}} \\sec{\\left(2 \\chi{\\left(x_{p},x_{m} \\right)} \\right)}}{2} & \\left(\\frac{A{\\left(x_{p},x_{m} \\right)} \\frac{\\partial}{\\partial x_{p}} \\chi{\\left(x_{p},x_{m} \\right)}}{\\cos^{2}{\\left(2 \\chi{\\left(x_{p},x_{m} \\right)} \\right)}} + \\frac{\\tan{\\left(2 \\chi{\\left(x_{p},x_{m} \\right)} \\right)} \\frac{\\partial}{\\partial x_{p}} A{\\left(x_{p},x_{m} \\right)}}{2}\\right) e^{- 2 \\gamma{\\left(x_{p},x_{m} \\right)}}\\\\0 & 0 & \\left(\\frac{A{\\left(x_{p},x_{m} \\right)} \\frac{\\partial}{\\partial x_{p}} \\chi{\\left(x_{p},x_{m} \\right)}}{\\cos^{2}{\\left(2 \\chi{\\left(x_{p},x_{m} \\right)} \\right)}} + \\frac{\\tan{\\left(2 \\chi{\\left(x_{p},x_{m} \\right)} \\right)} \\frac{\\partial}{\\partial x_{p}} A{\\left(x_{p},x_{m} \\right)}}{2}\\right) e^{- 2 \\gamma{\\left(x_{p},x_{m} \\right)}} & \\frac{\\left(2 A{\\left(x_{p},x_{m} \\right)} \\tan{\\left(2 \\chi{\\left(x_{p},x_{m} \\right)} \\right)} \\frac{\\partial}{\\partial x_{p}} \\chi{\\left(x_{p},x_{m} \\right)} - 2 A{\\left(x_{p},x_{m} \\right)} \\frac{\\partial}{\\partial x_{p}} \\phi{\\left(x_{p},x_{m} \\right)} + \\frac{\\partial}{\\partial x_{p}} A{\\left(x_{p},x_{m} \\right)}\\right) e^{- 2 \\gamma{\\left(x_{p},x_{m} \\right)} - 2 \\phi{\\left(x_{p},x_{m} \\right)}} \\sec{\\left(2 \\chi{\\left(x_{p},x_{m} \\right)} \\right)}}{2}\\end{matrix}\\right] & \\left[\\begin{matrix}0 & 0 & \\frac{A{\\left(x_{p},x_{m} \\right)} \\frac{\\partial}{\\partial x_{p}} \\phi{\\left(x_{p},x_{m} \\right)} + 2 \\sin^{4}{\\left(\\chi{\\left(x_{p},x_{m} \\right)} \\right)} \\frac{\\partial}{\\partial x_{p}} A{\\left(x_{p},x_{m} \\right)} - 2 \\sin^{2}{\\left(\\chi{\\left(x_{p},x_{m} \\right)} \\right)} \\frac{\\partial}{\\partial x_{p}} A{\\left(x_{p},x_{m} \\right)} + \\frac{\\frac{\\partial}{\\partial x_{p}} A{\\left(x_{p},x_{m} \\right)}}{2}}{\\left(2 \\sin^{2}{\\left(\\chi{\\left(x_{p},x_{m} \\right)} \\right)} - 1\\right)^{2} A{\\left(x_{p},x_{m} \\right)}} & \\left(\\tan{\\left(2 \\chi{\\left(x_{p},x_{m} \\right)} \\right)} \\frac{\\partial}{\\partial x_{p}} \\phi{\\left(x_{p},x_{m} \\right)} + \\frac{\\partial}{\\partial x_{p}} \\chi{\\left(x_{p},x_{m} \\right)}\\right) e^{- 2 \\phi{\\left(x_{p},x_{m} \\right)}} \\sec{\\left(2 \\chi{\\left(x_{p},x_{m} \\right)} \\right)}\\\\0 & 0 & \\frac{A{\\left(x_{p},x_{m} \\right)} \\frac{\\partial}{\\partial x_{m}} \\phi{\\left(x_{p},x_{m} \\right)} + 2 \\sin^{4}{\\left(\\chi{\\left(x_{p},x_{m} \\right)} \\right)} \\frac{\\partial}{\\partial x_{m}} A{\\left(x_{p},x_{m} \\right)} - 2 \\sin^{2}{\\left(\\chi{\\left(x_{p},x_{m} \\right)} \\right)} \\frac{\\partial}{\\partial x_{m}} A{\\left(x_{p},x_{m} \\right)} + \\frac{\\frac{\\partial}{\\partial x_{m}} A{\\left(x_{p},x_{m} \\right)}}{2}}{\\left(2 \\sin^{2}{\\left(\\chi{\\left(x_{p},x_{m} \\right)} \\right)} - 1\\right)^{2} A{\\left(x_{p},x_{m} \\right)}} & \\left(\\tan{\\left(2 \\chi{\\left(x_{p},x_{m} \\right)} \\right)} \\frac{\\partial}{\\partial x_{m}} \\phi{\\left(x_{p},x_{m} \\right)} + \\frac{\\partial}{\\partial x_{m}} \\chi{\\left(x_{p},x_{m} \\right)}\\right) e^{- 2 \\phi{\\left(x_{p},x_{m} \\right)}} \\sec{\\left(2 \\chi{\\left(x_{p},x_{m} \\right)} \\right)}\\\\\\frac{A{\\left(x_{p},x_{m} \\right)} \\frac{\\partial}{\\partial x_{p}} \\phi{\\left(x_{p},x_{m} \\right)} + 2 \\sin^{4}{\\left(\\chi{\\left(x_{p},x_{m} \\right)} \\right)} \\frac{\\partial}{\\partial x_{p}} A{\\left(x_{p},x_{m} \\right)} - 2 \\sin^{2}{\\left(\\chi{\\left(x_{p},x_{m} \\right)} \\right)} \\frac{\\partial}{\\partial x_{p}} A{\\left(x_{p},x_{m} \\right)} + \\frac{\\frac{\\partial}{\\partial x_{p}} A{\\left(x_{p},x_{m} \\right)}}{2}}{\\left(2 \\sin^{2}{\\left(\\chi{\\left(x_{p},x_{m} \\right)} \\right)} - 1\\right)^{2} A{\\left(x_{p},x_{m} \\right)}} & \\frac{A{\\left(x_{p},x_{m} \\right)} \\frac{\\partial}{\\partial x_{m}} \\phi{\\left(x_{p},x_{m} \\right)} + 2 \\sin^{4}{\\left(\\chi{\\left(x_{p},x_{m} \\right)} \\right)} \\frac{\\partial}{\\partial x_{m}} A{\\left(x_{p},x_{m} \\right)} - 2 \\sin^{2}{\\left(\\chi{\\left(x_{p},x_{m} \\right)} \\right)} \\frac{\\partial}{\\partial x_{m}} A{\\left(x_{p},x_{m} \\right)} + \\frac{\\frac{\\partial}{\\partial x_{m}} A{\\left(x_{p},x_{m} \\right)}}{2}}{\\left(2 \\sin^{2}{\\left(\\chi{\\left(x_{p},x_{m} \\right)} \\right)} - 1\\right)^{2} A{\\left(x_{p},x_{m} \\right)}} & 0 & 0\\\\\\left(\\tan{\\left(2 \\chi{\\left(x_{p},x_{m} \\right)} \\right)} \\frac{\\partial}{\\partial x_{p}} \\phi{\\left(x_{p},x_{m} \\right)} + \\frac{\\partial}{\\partial x_{p}} \\chi{\\left(x_{p},x_{m} \\right)}\\right) e^{- 2 \\phi{\\left(x_{p},x_{m} \\right)}} \\sec{\\left(2 \\chi{\\left(x_{p},x_{m} \\right)} \\right)} & \\left(\\tan{\\left(2 \\chi{\\left(x_{p},x_{m} \\right)} \\right)} \\frac{\\partial}{\\partial x_{m}} \\phi{\\left(x_{p},x_{m} \\right)} + \\frac{\\partial}{\\partial x_{m}} \\chi{\\left(x_{p},x_{m} \\right)}\\right) e^{- 2 \\phi{\\left(x_{p},x_{m} \\right)}} \\sec{\\left(2 \\chi{\\left(x_{p},x_{m} \\right)} \\right)} & 0 & 0\\end{matrix}\\right] & \\left[\\begin{matrix}0 & 0 & \\left(- \\tan{\\left(2 \\chi{\\left(x_{p},x_{m} \\right)} \\right)} \\frac{\\partial}{\\partial x_{p}} \\phi{\\left(x_{p},x_{m} \\right)} + \\frac{\\partial}{\\partial x_{p}} \\chi{\\left(x_{p},x_{m} \\right)}\\right) e^{2 \\phi{\\left(x_{p},x_{m} \\right)}} \\sec{\\left(2 \\chi{\\left(x_{p},x_{m} \\right)} \\right)} & \\frac{- A{\\left(x_{p},x_{m} \\right)} \\frac{\\partial}{\\partial x_{p}} \\phi{\\left(x_{p},x_{m} \\right)} + 2 \\sin^{4}{\\left(\\chi{\\left(x_{p},x_{m} \\right)} \\right)} \\frac{\\partial}{\\partial x_{p}} A{\\left(x_{p},x_{m} \\right)} - 2 \\sin^{2}{\\left(\\chi{\\left(x_{p},x_{m} \\right)} \\right)} \\frac{\\partial}{\\partial x_{p}} A{\\left(x_{p},x_{m} \\right)} + \\frac{\\frac{\\partial}{\\partial x_{p}} A{\\left(x_{p},x_{m} \\right)}}{2}}{\\left(2 \\sin^{2}{\\left(\\chi{\\left(x_{p},x_{m} \\right)} \\right)} - 1\\right)^{2} A{\\left(x_{p},x_{m} \\right)}}\\\\0 & 0 & \\left(- \\tan{\\left(2 \\chi{\\left(x_{p},x_{m} \\right)} \\right)} \\frac{\\partial}{\\partial x_{m}} \\phi{\\left(x_{p},x_{m} \\right)} + \\frac{\\partial}{\\partial x_{m}} \\chi{\\left(x_{p},x_{m} \\right)}\\right) e^{2 \\phi{\\left(x_{p},x_{m} \\right)}} \\sec{\\left(2 \\chi{\\left(x_{p},x_{m} \\right)} \\right)} & \\frac{- A{\\left(x_{p},x_{m} \\right)} \\frac{\\partial}{\\partial x_{m}} \\phi{\\left(x_{p},x_{m} \\right)} + 2 \\sin^{4}{\\left(\\chi{\\left(x_{p},x_{m} \\right)} \\right)} \\frac{\\partial}{\\partial x_{m}} A{\\left(x_{p},x_{m} \\right)} - 2 \\sin^{2}{\\left(\\chi{\\left(x_{p},x_{m} \\right)} \\right)} \\frac{\\partial}{\\partial x_{m}} A{\\left(x_{p},x_{m} \\right)} + \\frac{\\frac{\\partial}{\\partial x_{m}} A{\\left(x_{p},x_{m} \\right)}}{2}}{\\left(2 \\sin^{2}{\\left(\\chi{\\left(x_{p},x_{m} \\right)} \\right)} - 1\\right)^{2} A{\\left(x_{p},x_{m} \\right)}}\\\\\\left(- \\tan{\\left(2 \\chi{\\left(x_{p},x_{m} \\right)} \\right)} \\frac{\\partial}{\\partial x_{p}} \\phi{\\left(x_{p},x_{m} \\right)} + \\frac{\\partial}{\\partial x_{p}} \\chi{\\left(x_{p},x_{m} \\right)}\\right) e^{2 \\phi{\\left(x_{p},x_{m} \\right)}} \\sec{\\left(2 \\chi{\\left(x_{p},x_{m} \\right)} \\right)} & \\left(- \\tan{\\left(2 \\chi{\\left(x_{p},x_{m} \\right)} \\right)} \\frac{\\partial}{\\partial x_{m}} \\phi{\\left(x_{p},x_{m} \\right)} + \\frac{\\partial}{\\partial x_{m}} \\chi{\\left(x_{p},x_{m} \\right)}\\right) e^{2 \\phi{\\left(x_{p},x_{m} \\right)}} \\sec{\\left(2 \\chi{\\left(x_{p},x_{m} \\right)} \\right)} & 0 & 0\\\\\\frac{- A{\\left(x_{p},x_{m} \\right)} \\frac{\\partial}{\\partial x_{p}} \\phi{\\left(x_{p},x_{m} \\right)} + 2 \\sin^{4}{\\left(\\chi{\\left(x_{p},x_{m} \\right)} \\right)} \\frac{\\partial}{\\partial x_{p}} A{\\left(x_{p},x_{m} \\right)} - 2 \\sin^{2}{\\left(\\chi{\\left(x_{p},x_{m} \\right)} \\right)} \\frac{\\partial}{\\partial x_{p}} A{\\left(x_{p},x_{m} \\right)} + \\frac{\\frac{\\partial}{\\partial x_{p}} A{\\left(x_{p},x_{m} \\right)}}{2}}{\\left(2 \\sin^{2}{\\left(\\chi{\\left(x_{p},x_{m} \\right)} \\right)} - 1\\right)^{2} A{\\left(x_{p},x_{m} \\right)}} & \\frac{- A{\\left(x_{p},x_{m} \\right)} \\frac{\\partial}{\\partial x_{m}} \\phi{\\left(x_{p},x_{m} \\right)} + 2 \\sin^{4}{\\left(\\chi{\\left(x_{p},x_{m} \\right)} \\right)} \\frac{\\partial}{\\partial x_{m}} A{\\left(x_{p},x_{m} \\right)} - 2 \\sin^{2}{\\left(\\chi{\\left(x_{p},x_{m} \\right)} \\right)} \\frac{\\partial}{\\partial x_{m}} A{\\left(x_{p},x_{m} \\right)} + \\frac{\\frac{\\partial}{\\partial x_{m}} A{\\left(x_{p},x_{m} \\right)}}{2}}{\\left(2 \\sin^{2}{\\left(\\chi{\\left(x_{p},x_{m} \\right)} \\right)} - 1\\right)^{2} A{\\left(x_{p},x_{m} \\right)}} & 0 & 0\\end{matrix}\\right]\\end{matrix}\\right]$"
      ],
      "text/plain": [
       "⎡                                                                                           \n",
       "⎢                                                                                           \n",
       "⎢                                                                                           \n",
       "⎢                                                                                           \n",
       "⎢                                                                                           \n",
       "⎢                                                                                           \n",
       "⎢                                                                                           \n",
       "⎢⎡   ∂                                                                                      \n",
       "⎢⎢2⋅───(γ(xₚ, xₘ))  0                                                                     0 \n",
       "⎢⎢  ∂xₚ                                                                                     \n",
       "⎢⎢                                                                                          \n",
       "⎢⎢       0          0                                                                     0 \n",
       "⎢⎢                                                                                          \n",
       "⎢⎢                     ⎛                              ∂                            ∂        \n",
       "⎢⎢                     ⎜2⋅A(xₚ, xₘ)⋅tan(2⋅χ(xₚ, xₘ))⋅───(χ(xₚ, xₘ)) + 2⋅A(xₚ, xₘ)⋅───(φ(xₚ, \n",
       "⎢⎢                     ⎝                             ∂xₘ                          ∂xₘ       \n",
       "⎢⎢       0          0  ─────────────────────────────────────────────────────────────────────\n",
       "⎢⎢                                                                                        2 \n",
       "⎢⎢                                                                                          \n",
       "⎢⎢                                                                                          \n",
       "⎢⎢                                                    ⎛           ∂                         \n",
       "⎢⎢                                                    ⎜A(xₚ, xₘ)⋅───(χ(xₚ, xₘ))   tan(2⋅χ(xₚ\n",
       "⎢⎢                                                    ⎜          ∂xₘ                        \n",
       "⎢⎢       0          0                                 ⎜──────────────────────── + ──────────\n",
       "⎢⎢                                                    ⎜      2                              \n",
       "⎢⎣                                                    ⎝   cos (2⋅χ(xₚ, xₘ))                 \n",
       "⎢                                                                                           \n",
       "⎢                                                                                           \n",
       "⎢                                                                                           \n",
       "⎢                                                                                           \n",
       "⎢                                                                                           \n",
       "⎢                                                                                           \n",
       "⎣                                                                                           \n",
       "\n",
       "                                                                                            \n",
       "                                                                                            \n",
       "                                                                                            \n",
       "                                                                                            \n",
       "                                                                                            \n",
       "                                                                                            \n",
       "                                                                                            \n",
       "                                                                                            \n",
       "                                                                                            \n",
       "                                                                                            \n",
       "                                                                                            \n",
       "                                                                                            \n",
       "                                                                                            \n",
       "        ∂            ⎞  -2⋅γ(xₚ, xₘ) + 2⋅φ(xₚ, xₘ)                                          \n",
       "xₘ)) + ───(A(xₚ, xₘ))⎟⋅ℯ                          ⋅sec(2⋅χ(xₚ, xₘ))                         \n",
       "       ∂xₘ           ⎠                                                                      \n",
       "───────────────────────────────────────────────────────────────────                         \n",
       "                                                                                            \n",
       "                                                                                            \n",
       "                                                                                            \n",
       "        ∂            ⎞                                               ⎛                      \n",
       ", xₘ))⋅───(A(xₚ, xₘ))⎟                                               ⎜2⋅A(xₚ, xₘ)⋅tan(2⋅χ(xₚ\n",
       "       ∂xₘ           ⎟  -2⋅γ(xₚ, xₘ)                                 ⎝                      \n",
       "─────────────────────⎟⋅ℯ                                             ───────────────────────\n",
       "     2               ⎟                                                                      \n",
       "                     ⎠                                                                      \n",
       "                                                                                            \n",
       "                                                                                            \n",
       "                                                                                            \n",
       "                                                                                            \n",
       "                                                                                            \n",
       "                                                                                            \n",
       "                                                                                            \n",
       "\n",
       "                                                                                            \n",
       "                                                                                            \n",
       "                                                                                            \n",
       "                                                                                            \n",
       "                                                                                            \n",
       "                                                                                            \n",
       "                                                                                            \n",
       "                                                                                            \n",
       "                                            0                                               \n",
       "                                                                                            \n",
       "                                                                                            \n",
       "                                            0                                               \n",
       "                                                                                            \n",
       "        ⎛           ∂                                 ∂            ⎞                        \n",
       "        ⎜A(xₚ, xₘ)⋅───(χ(xₚ, xₘ))   tan(2⋅χ(xₚ, xₘ))⋅───(A(xₚ, xₘ))⎟                        \n",
       "        ⎜          ∂xₘ                               ∂xₘ           ⎟  -2⋅γ(xₚ, xₘ)          \n",
       "        ⎜──────────────────────── + ───────────────────────────────⎟⋅ℯ                      \n",
       "        ⎜      2                                   2               ⎟                        \n",
       "        ⎝   cos (2⋅χ(xₚ, xₘ))                                      ⎠                        \n",
       "                                                                                            \n",
       "        ∂                            ∂                ∂            ⎞  -2⋅γ(xₚ, xₘ) - 2⋅φ(xₚ,\n",
       ", xₘ))⋅───(χ(xₚ, xₘ)) - 2⋅A(xₚ, xₘ)⋅───(φ(xₚ, xₘ)) + ───(A(xₚ, xₘ))⎟⋅ℯ                      \n",
       "       ∂xₘ                          ∂xₘ              ∂xₘ           ⎠                        \n",
       "────────────────────────────────────────────────────────────────────────────────────────────\n",
       "                                            2                                               \n",
       "                                                                                            \n",
       "                                                                                            \n",
       "                                                                                            \n",
       "                                                                                            \n",
       "                                                                                            \n",
       "                                                                                            \n",
       "                                                                                            \n",
       "                                                                                            \n",
       "\n",
       "                                                                                            \n",
       "                                                                                            \n",
       "                                                                                            \n",
       "                                                                                            \n",
       "                                                                                            \n",
       "                                                                                            \n",
       "                                                                                            \n",
       "                     ⎤  ⎡0         0                                                        \n",
       "                     ⎥  ⎢                                                                   \n",
       "                     ⎥  ⎢      ∂                                                            \n",
       "                     ⎥  ⎢0  2⋅───(γ(xₚ, xₘ))                                                \n",
       "                     ⎥  ⎢     ∂xₘ                                                           \n",
       "                     ⎥  ⎢                                                                   \n",
       "                     ⎥  ⎢                     ⎛                              ∂              \n",
       "                     ⎥  ⎢                     ⎜2⋅A(xₚ, xₘ)⋅tan(2⋅χ(xₚ, xₘ))⋅───(χ(xₚ, xₘ)) +\n",
       "                     ⎥  ⎢                     ⎝                             ∂xₚ             \n",
       "                     ⎥  ⎢0         0          ──────────────────────────────────────────────\n",
       "                     ⎥  ⎢                                                                   \n",
       "                     ⎥  ⎢                                                                   \n",
       "                     ⎥  ⎢                                                                   \n",
       " xₘ)                 ⎥  ⎢                                                    ⎛           ∂  \n",
       "    ⋅sec(2⋅χ(xₚ, xₘ))⎥  ⎢                                                    ⎜A(xₚ, xₘ)⋅───(\n",
       "                     ⎥  ⎢                                                    ⎜          ∂xₚ \n",
       "─────────────────────⎥  ⎢0         0                                         ⎜──────────────\n",
       "                     ⎥  ⎢                                                    ⎜      2       \n",
       "                     ⎦  ⎣                                                    ⎝   cos (2⋅χ(xₚ\n",
       "                                                                                            \n",
       "                                                                                            \n",
       "                                                                                            \n",
       "                                                                                            \n",
       "                                                                                            \n",
       "                                                                                            \n",
       "                                                                                            \n",
       "\n",
       "                                                                                            \n",
       "                                                                                            \n",
       "                                                                                            \n",
       "                                                                                            \n",
       "                                                                                            \n",
       "                                                                                            \n",
       "                                                                                            \n",
       "                     0                                                                      \n",
       "                                                                                            \n",
       "                                                                                            \n",
       "                     0                                                                      \n",
       "                                                                                            \n",
       "                                                                                            \n",
       "              ∂                ∂            ⎞  -2⋅γ(xₚ, xₘ) + 2⋅φ(xₚ, xₘ)                   \n",
       " 2⋅A(xₚ, xₘ)⋅───(φ(xₚ, xₘ)) + ───(A(xₚ, xₘ))⎟⋅ℯ                          ⋅sec(2⋅χ(xₚ, xₘ))  \n",
       "             ∂xₚ              ∂xₚ           ⎠                                               \n",
       "──────────────────────────────────────────────────────────────────────────────────────────  \n",
       "                     2                                                                      \n",
       "                                                                                            \n",
       "                                                                                            \n",
       "                               ∂            ⎞                                               \n",
       "χ(xₚ, xₘ))   tan(2⋅χ(xₚ, xₘ))⋅───(A(xₚ, xₘ))⎟                                               \n",
       "                              ∂xₚ           ⎟  -2⋅γ(xₚ, xₘ)                                 \n",
       "────────── + ───────────────────────────────⎟⋅ℯ                                             \n",
       "                            2               ⎟                                               \n",
       ", xₘ))                                      ⎠                                               \n",
       "                                                                                            \n",
       "                                                                                            \n",
       "                                                                                            \n",
       "                                                                                            \n",
       "                                                                                            \n",
       "                                                                                            \n",
       "                                                                                            \n",
       "\n",
       "                                                                                            \n",
       "                                                                                            \n",
       "                                                                                            \n",
       "                                                                                            \n",
       "                                                                                            \n",
       "                                                                                            \n",
       "                                                                                            \n",
       "                                                                   0                        \n",
       "                                                                                            \n",
       "                                                                                            \n",
       "                                                                   0                        \n",
       "                                                                                            \n",
       "                                                                                            \n",
       "                               ⎛           ∂                                 ∂            ⎞ \n",
       "                               ⎜A(xₚ, xₘ)⋅───(χ(xₚ, xₘ))   tan(2⋅χ(xₚ, xₘ))⋅───(A(xₚ, xₘ))⎟ \n",
       "                               ⎜          ∂xₚ                               ∂xₚ           ⎟ \n",
       "                               ⎜──────────────────────── + ───────────────────────────────⎟⋅\n",
       "                               ⎜      2                                   2               ⎟ \n",
       "                               ⎝   cos (2⋅χ(xₚ, xₘ))                                      ⎠ \n",
       "                                                                                            \n",
       "⎛                              ∂                            ∂                ∂            ⎞ \n",
       "⎜2⋅A(xₚ, xₘ)⋅tan(2⋅χ(xₚ, xₘ))⋅───(χ(xₚ, xₘ)) - 2⋅A(xₚ, xₘ)⋅───(φ(xₚ, xₘ)) + ───(A(xₚ, xₘ))⎟⋅\n",
       "⎝                             ∂xₚ                          ∂xₚ              ∂xₚ           ⎠ \n",
       "────────────────────────────────────────────────────────────────────────────────────────────\n",
       "                                                                   2                        \n",
       "                                                                                            \n",
       "                                                                                            \n",
       "                                                                                            \n",
       "                                                                                            \n",
       "                                                                                            \n",
       "                                                                                            \n",
       "                                                                                            \n",
       "                                                                                            \n",
       "\n",
       "                                               ⎡                                            \n",
       "                                               ⎢                                            \n",
       "                                               ⎢                                            \n",
       "                                               ⎢                                            \n",
       "                                               ⎢                                            \n",
       "                                               ⎢                                            \n",
       "                                               ⎢                                            \n",
       "                                            ⎤  ⎢                                            \n",
       "                                            ⎥  ⎢                                            \n",
       "                                            ⎥  ⎢                                            \n",
       "                                            ⎥  ⎢                                            \n",
       "                                            ⎥  ⎢                                            \n",
       "                                            ⎥  ⎢                                            \n",
       "                                            ⎥  ⎢                                            \n",
       "                                            ⎥  ⎢                                            \n",
       " -2⋅γ(xₚ, xₘ)                               ⎥  ⎢                                            \n",
       "ℯ                                           ⎥  ⎢                                            \n",
       "                                            ⎥  ⎢                                            \n",
       "                                            ⎥  ⎢                                            \n",
       "                                            ⎥  ⎢                                            \n",
       " -2⋅γ(xₚ, xₘ) - 2⋅φ(xₚ, xₘ)                 ⎥  ⎢                                            \n",
       "ℯ                          ⋅sec(2⋅χ(xₚ, xₘ))⎥  ⎢                                            \n",
       "                                            ⎥  ⎢           ∂                    4           \n",
       "────────────────────────────────────────────⎥  ⎢A(xₚ, xₘ)⋅───(φ(xₚ, xₘ)) + 2⋅sin (χ(xₚ, xₘ))\n",
       "                                            ⎥  ⎢          ∂xₚ                               \n",
       "                                            ⎦  ⎢────────────────────────────────────────────\n",
       "                                               ⎢                                            \n",
       "                                               ⎢                                       ⎛    \n",
       "                                               ⎢                                       ⎝2⋅si\n",
       "                                               ⎢                                            \n",
       "                                               ⎢               ⎛                  ∂         \n",
       "                                               ⎢               ⎜tan(2⋅χ(xₚ, xₘ))⋅───(φ(xₚ, x\n",
       "                                               ⎣               ⎝                 ∂xₚ        \n",
       "\n",
       "                                                                                            \n",
       "                                                                                            \n",
       "                                                                                            \n",
       "                                                                                            \n",
       "                                                                                            \n",
       "           0                                                                                \n",
       "                                                                                            \n",
       "                                                                                            \n",
       "                                                                                            \n",
       "                                                                                            \n",
       "                                                                                            \n",
       "                                                                                            \n",
       "                                                                                            \n",
       "                                                                                            \n",
       "                                                                                            \n",
       "           0                                                                                \n",
       "                                                                                            \n",
       "                                                                                            \n",
       "                                                                                            \n",
       "                                                                                            \n",
       "                                                      ∂                                     \n",
       "                                                     ───(A(xₚ, xₘ))                         \n",
       "  ∂                    2             ∂               ∂xₚ                        ∂           \n",
       "⋅───(A(xₚ, xₘ)) - 2⋅sin (χ(xₚ, xₘ))⋅───(A(xₚ, xₘ)) + ──────────────  A(xₚ, xₘ)⋅───(φ(xₚ, xₘ)\n",
       " ∂xₚ                                ∂xₚ                    2                   ∂xₘ          \n",
       "───────────────────────────────────────────────────────────────────  ───────────────────────\n",
       "                  2                                                                         \n",
       " 2               ⎞                                                                          \n",
       "n (χ(xₚ, xₘ)) - 1⎠ ⋅A(xₚ, xₘ)                                                               \n",
       "                                                                                            \n",
       "       ∂            ⎞  -2⋅φ(xₚ, xₘ)                                                 ⎛       \n",
       "ₘ)) + ───(χ(xₚ, xₘ))⎟⋅ℯ            ⋅sec(2⋅χ(xₚ, xₘ))                                ⎜tan(2⋅χ\n",
       "      ∂xₚ           ⎠                                                               ⎝       \n",
       "\n",
       "                                                                                            \n",
       "                                                                                            \n",
       "                                                                                            \n",
       "                                                                                          A(\n",
       "                                                                                            \n",
       "                                0                                                         ──\n",
       "                                                                                            \n",
       "                                                                                            \n",
       "                                                                                            \n",
       "                                                                                            \n",
       "                                                                                            \n",
       "                                                                                            \n",
       "                                                                                            \n",
       "                                                                                          A(\n",
       "                                                                                            \n",
       "                                0                                                         ──\n",
       "                                                                                            \n",
       "                                                                                            \n",
       "                                                                                            \n",
       "                                                                                            \n",
       "                                                                           ∂                \n",
       "                                                                          ───(A(xₚ, xₘ))    \n",
       "         4             ∂                    2             ∂               ∂xₘ               \n",
       ") + 2⋅sin (χ(xₚ, xₘ))⋅───(A(xₚ, xₘ)) - 2⋅sin (χ(xₚ, xₘ))⋅───(A(xₚ, xₘ)) + ──────────────    \n",
       "                      ∂xₘ                                ∂xₘ                    2           \n",
       "────────────────────────────────────────────────────────────────────────────────────────    \n",
       "                                       2                                                    \n",
       "                ⎛     2               ⎞                                                     \n",
       "                ⎝2⋅sin (χ(xₚ, xₘ)) - 1⎠ ⋅A(xₚ, xₘ)                                          \n",
       "                                                                                            \n",
       "           ∂                ∂            ⎞  -2⋅φ(xₚ, xₘ)                                    \n",
       "(xₚ, xₘ))⋅───(φ(xₚ, xₘ)) + ───(χ(xₚ, xₘ))⎟⋅ℯ            ⋅sec(2⋅χ(xₚ, xₘ))                   \n",
       "          ∂xₘ              ∂xₘ           ⎠                                                  \n",
       "\n",
       "                                                                                            \n",
       "                                                                                            \n",
       "         ∂                    4             ∂                    2             ∂            \n",
       "xₚ, xₘ)⋅───(φ(xₚ, xₘ)) + 2⋅sin (χ(xₚ, xₘ))⋅───(A(xₚ, xₘ)) - 2⋅sin (χ(xₚ, xₘ))⋅───(A(xₚ, xₘ))\n",
       "        ∂xₚ                                ∂xₚ                                ∂xₚ           \n",
       "────────────────────────────────────────────────────────────────────────────────────────────\n",
       "                                                            2                               \n",
       "                                     ⎛     2               ⎞                                \n",
       "                                     ⎝2⋅sin (χ(xₚ, xₘ)) - 1⎠ ⋅A(xₚ, xₘ)                     \n",
       "                                                                                            \n",
       "                                                                                            \n",
       "                                                                                            \n",
       "         ∂                    4             ∂                    2             ∂            \n",
       "xₚ, xₘ)⋅───(φ(xₚ, xₘ)) + 2⋅sin (χ(xₚ, xₘ))⋅───(A(xₚ, xₘ)) - 2⋅sin (χ(xₚ, xₘ))⋅───(A(xₚ, xₘ))\n",
       "        ∂xₘ                                ∂xₘ                                ∂xₘ           \n",
       "────────────────────────────────────────────────────────────────────────────────────────────\n",
       "                                                            2                               \n",
       "                                     ⎛     2               ⎞                                \n",
       "                                     ⎝2⋅sin (χ(xₚ, xₘ)) - 1⎠ ⋅A(xₚ, xₘ)                     \n",
       "                                                                                            \n",
       "                                                                                            \n",
       "                                                                                            \n",
       "                                                                                            \n",
       "                                                                                            \n",
       "                                                                                            \n",
       "                                                     0                                      \n",
       "                                                                                            \n",
       "                                                                                            \n",
       "                                                                                            \n",
       "                                                                                            \n",
       "                                                                                            \n",
       "                                                     0                                      \n",
       "                                                                                            \n",
       "\n",
       "    ∂                                                                                       \n",
       "   ───(A(xₚ, xₘ))                                                                           \n",
       "   ∂xₚ                                                                                      \n",
       " + ──────────────                                                                           \n",
       "         2         ⎛                  ∂                ∂            ⎞  -2⋅φ(xₚ, xₘ)         \n",
       "─────────────────  ⎜tan(2⋅χ(xₚ, xₘ))⋅───(φ(xₚ, xₘ)) + ───(χ(xₚ, xₘ))⎟⋅ℯ            ⋅sec(2⋅χ(\n",
       "                   ⎝                 ∂xₚ              ∂xₚ           ⎠                       \n",
       "                                                                                            \n",
       "                                                                                            \n",
       "                                                                                            \n",
       "    ∂                                                                                       \n",
       "   ───(A(xₚ, xₘ))                                                                           \n",
       "   ∂xₘ                                                                                      \n",
       " + ──────────────                                                                           \n",
       "         2         ⎛                  ∂                ∂            ⎞  -2⋅φ(xₚ, xₘ)         \n",
       "─────────────────  ⎜tan(2⋅χ(xₚ, xₘ))⋅───(φ(xₚ, xₘ)) + ───(χ(xₚ, xₘ))⎟⋅ℯ            ⋅sec(2⋅χ(\n",
       "                   ⎝                 ∂xₘ              ∂xₘ           ⎠                       \n",
       "                                                                                            \n",
       "                                                                                            \n",
       "                                                                                            \n",
       "                                                                                            \n",
       "                                                                                            \n",
       "                                                                                            \n",
       "                                                                                            \n",
       "                                                                                            \n",
       "                                                           0                                \n",
       "                                                                                            \n",
       "                                                                                            \n",
       "                                                                                            \n",
       "                                                                                            \n",
       "                                                                                            \n",
       "                                                           0                                \n",
       "                                                                                            \n",
       "\n",
       "        ⎤  ⎡                                                                                \n",
       "        ⎥  ⎢                                                                                \n",
       "        ⎥  ⎢                                                                                \n",
       "        ⎥  ⎢                                                                                \n",
       "        ⎥  ⎢                                                                                \n",
       "xₚ, xₘ))⎥  ⎢                                                        0                       \n",
       "        ⎥  ⎢                                                                                \n",
       "        ⎥  ⎢                                                                                \n",
       "        ⎥  ⎢                                                                                \n",
       "        ⎥  ⎢                                                                                \n",
       "        ⎥  ⎢                                                                                \n",
       "        ⎥  ⎢                                                                                \n",
       "        ⎥  ⎢                                                                                \n",
       "        ⎥  ⎢                                                                                \n",
       "        ⎥  ⎢                                                                                \n",
       "xₚ, xₘ))⎥  ⎢                                                        0                       \n",
       "        ⎥  ⎢                                                                                \n",
       "        ⎥  ⎢                                                                                \n",
       "        ⎥  ⎢                                                                                \n",
       "        ⎥  ⎢                                                                                \n",
       "        ⎥  ⎢               ⎛                    ∂                ∂            ⎞  2⋅φ(xₚ, xₘ)\n",
       "        ⎥  ⎢               ⎜- tan(2⋅χ(xₚ, xₘ))⋅───(φ(xₚ, xₘ)) + ───(χ(xₚ, xₘ))⎟⋅ℯ           \n",
       "        ⎥  ⎢               ⎝                   ∂xₚ              ∂xₚ           ⎠             \n",
       "        ⎥  ⎢                                                                                \n",
       "        ⎥  ⎢                                                                                \n",
       "        ⎥  ⎢                                                                                \n",
       "        ⎥  ⎢             ∂                    4             ∂                    2          \n",
       "        ⎥  ⎢- A(xₚ, xₘ)⋅───(φ(xₚ, xₘ)) + 2⋅sin (χ(xₚ, xₘ))⋅───(A(xₚ, xₘ)) - 2⋅sin (χ(xₚ, xₘ)\n",
       "        ⎥  ⎢            ∂xₚ                                ∂xₚ                              \n",
       "        ⎥  ⎢────────────────────────────────────────────────────────────────────────────────\n",
       "        ⎥  ⎢                                                               2                \n",
       "        ⎥  ⎢                                        ⎛     2               ⎞                 \n",
       "        ⎦  ⎣                                        ⎝2⋅sin (χ(xₚ, xₘ)) - 1⎠ ⋅A(xₚ, xₘ)      \n",
       "\n",
       "                                                                                            \n",
       "                                                                                            \n",
       "                                                                                            \n",
       "                                                                                            \n",
       "                                                                                            \n",
       "                                                                                           0\n",
       "                                                                                            \n",
       "                                                                                            \n",
       "                                                                                            \n",
       "                                                                                            \n",
       "                                                                                            \n",
       "                                                                                            \n",
       "                                                                                            \n",
       "                                                                                            \n",
       "                                                                                            \n",
       "                                                                                           0\n",
       "                                                                                            \n",
       "                                                                                            \n",
       "                                                                                            \n",
       "                                                                                            \n",
       "                                                  ⎛                    ∂                ∂   \n",
       "⋅sec(2⋅χ(xₚ, xₘ))                                 ⎜- tan(2⋅χ(xₚ, xₘ))⋅───(φ(xₚ, xₘ)) + ───(χ\n",
       "                                                  ⎝                   ∂xₘ              ∂xₘ  \n",
       "                                                                                            \n",
       "                    ∂                                                                       \n",
       "                   ───(A(xₚ, xₘ))                                                           \n",
       "   ∂               ∂xₚ                          ∂                    4             ∂        \n",
       ")⋅───(A(xₚ, xₘ)) + ──────────────  - A(xₚ, xₘ)⋅───(φ(xₚ, xₘ)) + 2⋅sin (χ(xₚ, xₘ))⋅───(A(xₚ, \n",
       "  ∂xₚ                    2                     ∂xₘ                                ∂xₘ       \n",
       "─────────────────────────────────  ─────────────────────────────────────────────────────────\n",
       "                                                                                            \n",
       "                                                                           ⎛     2          \n",
       "                                                                           ⎝2⋅sin (χ(xₚ, xₘ)\n",
       "\n",
       "                                                                                            \n",
       "                                                                                            \n",
       "                                                                                            \n",
       "                                                                                            \n",
       "                                                          ⎛                    ∂            \n",
       "                                                          ⎜- tan(2⋅χ(xₚ, xₘ))⋅───(φ(xₚ, xₘ))\n",
       "                                                          ⎝                   ∂xₚ           \n",
       "                                                                                            \n",
       "                                                                                            \n",
       "                                                                                            \n",
       "                                                                                            \n",
       "                                                                                            \n",
       "                                                                                            \n",
       "                                                                                            \n",
       "                                                          ⎛                    ∂            \n",
       "                                                          ⎜- tan(2⋅χ(xₚ, xₘ))⋅───(φ(xₚ, xₘ))\n",
       "                                                          ⎝                   ∂xₘ           \n",
       "                                                                                            \n",
       "                                                                                            \n",
       "                                                                                            \n",
       "         ⎞  2⋅φ(xₚ, xₘ)                                                                     \n",
       "(xₚ, xₘ))⎟⋅ℯ           ⋅sec(2⋅χ(xₚ, xₘ))                                                    \n",
       "         ⎠                                                                                  \n",
       "                                                                                            \n",
       "                                           ∂                                                \n",
       "                                          ───(A(xₚ, xₘ))                                    \n",
       "            2             ∂               ∂xₘ                                               \n",
       "xₘ)) - 2⋅sin (χ(xₚ, xₘ))⋅───(A(xₚ, xₘ)) + ──────────────                                    \n",
       "                         ∂xₘ                    2                                           \n",
       "────────────────────────────────────────────────────────                                    \n",
       "      2                                                                                     \n",
       "     ⎞                                                                                      \n",
       ") - 1⎠ ⋅A(xₚ, xₘ)                                                                           \n",
       "\n",
       "                                                                                            \n",
       "                                                                                            \n",
       "                                                               ∂                    4       \n",
       "                                                  - A(xₚ, xₘ)⋅───(φ(xₚ, xₘ)) + 2⋅sin (χ(xₚ, \n",
       "    ∂            ⎞  2⋅φ(xₚ, xₘ)                               ∂xₚ                           \n",
       " + ───(χ(xₚ, xₘ))⎟⋅ℯ           ⋅sec(2⋅χ(xₚ, xₘ))  ──────────────────────────────────────────\n",
       "   ∂xₚ           ⎠                                                                          \n",
       "                                                                                          ⎛ \n",
       "                                                                                          ⎝2\n",
       "                                                                                            \n",
       "                                                                                            \n",
       "                                                                                            \n",
       "                                                               ∂                    4       \n",
       "                                                  - A(xₚ, xₘ)⋅───(φ(xₚ, xₘ)) + 2⋅sin (χ(xₚ, \n",
       "    ∂            ⎞  2⋅φ(xₚ, xₘ)                               ∂xₘ                           \n",
       " + ───(χ(xₚ, xₘ))⎟⋅ℯ           ⋅sec(2⋅χ(xₚ, xₘ))  ──────────────────────────────────────────\n",
       "   ∂xₘ           ⎠                                                                          \n",
       "                                                                                          ⎛ \n",
       "                                                                                          ⎝2\n",
       "                                                                                            \n",
       "                                                                                            \n",
       "      0                                                                                     \n",
       "                                                                                            \n",
       "                                                                                            \n",
       "                                                                                            \n",
       "                                                                                            \n",
       "                                                                                            \n",
       "                                                                                            \n",
       "                                                                                            \n",
       "      0                                                                                     \n",
       "                                                                                            \n",
       "                                                                                            \n",
       "                                                                                            \n",
       "\n",
       "                                                          ∂            ⎤⎤\n",
       "                                                         ───(A(xₚ, xₘ))⎥⎥\n",
       "      ∂                    2             ∂               ∂xₚ           ⎥⎥\n",
       "xₘ))⋅───(A(xₚ, xₘ)) - 2⋅sin (χ(xₚ, xₘ))⋅───(A(xₚ, xₘ)) + ──────────────⎥⎥\n",
       "     ∂xₚ                                ∂xₚ                    2       ⎥⎥\n",
       "───────────────────────────────────────────────────────────────────────⎥⎥\n",
       "                     2                                                 ⎥⎥\n",
       "    2               ⎞                                                  ⎥⎥\n",
       "⋅sin (χ(xₚ, xₘ)) - 1⎠ ⋅A(xₚ, xₘ)                                       ⎥⎥\n",
       "                                                                       ⎥⎥\n",
       "                                                          ∂            ⎥⎥\n",
       "                                                         ───(A(xₚ, xₘ))⎥⎥\n",
       "      ∂                    2             ∂               ∂xₘ           ⎥⎥\n",
       "xₘ))⋅───(A(xₚ, xₘ)) - 2⋅sin (χ(xₚ, xₘ))⋅───(A(xₚ, xₘ)) + ──────────────⎥⎥\n",
       "     ∂xₘ                                ∂xₘ                    2       ⎥⎥\n",
       "───────────────────────────────────────────────────────────────────────⎥⎥\n",
       "                     2                                                 ⎥⎥\n",
       "    2               ⎞                                                  ⎥⎥\n",
       "⋅sin (χ(xₚ, xₘ)) - 1⎠ ⋅A(xₚ, xₘ)                                       ⎥⎥\n",
       "                                                                       ⎥⎥\n",
       "                                                                       ⎥⎥\n",
       "              0                                                        ⎥⎥\n",
       "                                                                       ⎥⎥\n",
       "                                                                       ⎥⎥\n",
       "                                                                       ⎥⎥\n",
       "                                                                       ⎥⎥\n",
       "                                                                       ⎥⎥\n",
       "                                                                       ⎥⎥\n",
       "                                                                       ⎥⎥\n",
       "              0                                                        ⎥⎥\n",
       "                                                                       ⎥⎥\n",
       "                                                                       ⎥⎥\n",
       "                                                                       ⎦⎦"
      ]
     },
     "execution_count": 28,
     "metadata": {},
     "output_type": "execute_result"
    }
   ],
   "source": [
    "ch = ChristoffelSymbols.from_metric(metric)\n",
    "simplify(ch.tensor())"
   ]
  },
  {
   "cell_type": "code",
   "execution_count": null,
   "id": "ca2573ef",
   "metadata": {},
   "outputs": [],
   "source": [
    "Ric = RicciTensor.from_metric(metric)\n",
    "Ric.tensor()"
   ]
  },
  {
   "cell_type": "code",
   "execution_count": null,
   "id": "fa081c0e",
   "metadata": {},
   "outputs": [],
   "source": [
    "R = RicciScalar.from_riccitensor(Ric)\n",
    "R.simplify()\n",
    "R.expr"
   ]
  },
  {
   "cell_type": "code",
   "execution_count": null,
   "id": "85433bfb",
   "metadata": {},
   "outputs": [],
   "source": [
    "einst = EinsteinTensor.from_metric(metric)\n",
    "einst.tensor()"
   ]
  },
  {
   "cell_type": "code",
   "execution_count": null,
   "id": "1911c799",
   "metadata": {},
   "outputs": [],
   "source": [
    "#  rm1 = RiemannCurvatureTensor.from_christoffels(ch)\n",
    "#  rm1.tensor()"
   ]
  },
  {
   "cell_type": "code",
   "execution_count": null,
   "id": "e8345ef2",
   "metadata": {},
   "outputs": [],
   "source": [
    "#  weyl = WeylTensor.from_metric(metric)\n",
    "#  weyl.tensor()"
   ]
  },
  {
   "cell_type": "code",
   "execution_count": null,
   "id": "0fec5aae",
   "metadata": {},
   "outputs": [],
   "source": [
    "ricciSimplified = simplify(Ric.tensor())\n",
    "ricciSimplified"
   ]
  },
  {
   "cell_type": "code",
   "execution_count": null,
   "id": "315eed71",
   "metadata": {},
   "outputs": [],
   "source": [
    "einsteinSimplified = simplify(einst.tensor())\n",
    "einsteinSimplified"
   ]
  },
  {
   "cell_type": "code",
   "execution_count": null,
   "id": "e18f937f",
   "metadata": {},
   "outputs": [],
   "source": []
  }
 ],
 "metadata": {
  "@webio": {
   "lastCommId": "d1a6456bb38f461d8ade3561438ef3cc",
   "lastKernelId": "9138bca5-9aa1-4fbb-b1f2-215b9af92454"
  },
  "kernelspec": {
   "display_name": "Python 3 (ipykernel)",
   "language": "python",
   "name": "python3"
  },
  "language_info": {
   "codemirror_mode": {
    "name": "ipython",
    "version": 3
   },
   "file_extension": ".py",
   "mimetype": "text/x-python",
   "name": "python",
   "nbconvert_exporter": "python",
   "pygments_lexer": "ipython3",
   "version": "3.8.8"
  }
 },
 "nbformat": 4,
 "nbformat_minor": 5
}
