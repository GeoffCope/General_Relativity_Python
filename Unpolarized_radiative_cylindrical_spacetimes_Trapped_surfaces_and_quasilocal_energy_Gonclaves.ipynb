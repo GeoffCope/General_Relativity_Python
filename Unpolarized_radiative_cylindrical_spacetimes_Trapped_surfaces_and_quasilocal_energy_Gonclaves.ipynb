{
 "cells": [
  {
   "cell_type": "markdown",
   "id": "d0b9b64b",
   "metadata": {},
   "source": [
    "# Unpolarized radiative cylindrical spacetimes: Trapped surfaces and quasilocal energy by Gonclaves\n",
    "##  Geoff Cope\n",
    "##  Univeristy of Utah\n",
    "##  𐐏𐐭𐑌𐐲𐑂𐐲𐑉𐑅𐐮𐐻𐐨 𐐲𐑂 𐐏𐐭𐐻𐐫\n",
    "##  December 29, 2021 "
   ]
  },
  {
   "cell_type": "markdown",
   "id": "2e96d871",
   "metadata": {},
   "source": [
    "Here we work with Metric 32 the polarized verion of Jordan-Ehlers-Kundt-Kompaneets metric.  Other metric to go back and redo are metric 1 the JEKK metric and metric 21 in Bondi coordinates"
   ]
  },
  {
   "cell_type": "markdown",
   "id": "728a9043",
   "metadata": {},
   "source": [
    "https://arxiv.org/abs/gr-qc/0212125"
   ]
  },
  {
   "cell_type": "code",
   "execution_count": 1,
   "id": "62a89215",
   "metadata": {},
   "outputs": [
    {
     "name": "stdout",
     "output_type": "stream",
     "text": [
      "IPython console for SymPy 1.9 (Python 3.8.8-64-bit) (ground types: gmpy)\n",
      "\n",
      "These commands were executed:\n",
      ">>> from __future__ import division\n",
      ">>> from sympy import *\n",
      ">>> x, y, z, t = symbols('x y z t')\n",
      ">>> k, m, n = symbols('k m n', integer=True)\n",
      ">>> f, g, h = symbols('f g h', cls=Function)\n",
      ">>> init_printing()\n",
      "\n",
      "Documentation can be found at https://docs.sympy.org/1.9/\n",
      "\n"
     ]
    }
   ],
   "source": [
    "from sympy import init_session\n",
    "init_session(use_latex=True)"
   ]
  },
  {
   "cell_type": "code",
   "execution_count": 2,
   "id": "9ab0d23d",
   "metadata": {},
   "outputs": [],
   "source": [
    "import warnings\n",
    "import matplotlib.cbook\n",
    "warnings.filterwarnings(\"ignore\",category=matplotlib.cbook.mplDeprecation)"
   ]
  },
  {
   "cell_type": "code",
   "execution_count": 3,
   "id": "1f095f12",
   "metadata": {},
   "outputs": [],
   "source": [
    "t,r,phi,z,dt,dr,dphi,dz = symbols('t r phi z dt dr dphi dz')"
   ]
  },
  {
   "cell_type": "code",
   "execution_count": 4,
   "id": "4ef1fe82",
   "metadata": {},
   "outputs": [
    {
     "data": {
      "image/png": "[encoded data removed]",
      "text/latex": [
       "$\\displaystyle \\psi{\\left(r,t \\right)}$"
      ],
      "text/plain": [
       "ψ(r, t)"
      ]
     },
     "execution_count": 4,
     "metadata": {},
     "output_type": "execute_result"
    }
   ],
   "source": [
    "psi = Function('psi')(r,t)\n",
    "psi"
   ]
  },
  {
   "cell_type": "code",
   "execution_count": 5,
   "id": "74615e93",
   "metadata": {},
   "outputs": [
    {
     "data": {
      "image/png": "[encoded data removed]",
      "text/latex": [
       "$\\displaystyle \\omega{\\left(r,t \\right)}$"
      ],
      "text/plain": [
       "ω(r, t)"
      ]
     },
     "execution_count": 5,
     "metadata": {},
     "output_type": "execute_result"
    }
   ],
   "source": [
    "omega = Function('omega')(r,t)\n",
    "omega"
   ]
  },
  {
   "cell_type": "code",
   "execution_count": 6,
   "id": "c4d39790",
   "metadata": {},
   "outputs": [
    {
     "data": {
      "image/png": "[encoded data removed]",
      "text/latex": [
       "$\\displaystyle \\gamma{\\left(r,t \\right)}$"
      ],
      "text/plain": [
       "γ(r, t)"
      ]
     },
     "execution_count": 6,
     "metadata": {},
     "output_type": "execute_result"
    }
   ],
   "source": [
    "gamma = Function('gamma')(r,t)\n",
    "gamma"
   ]
  },
  {
   "cell_type": "code",
   "execution_count": 7,
   "id": "b53cc092",
   "metadata": {},
   "outputs": [
    {
     "data": {
      "text/latex": [
       "$\\displaystyle \\left[\\begin{matrix}t\\\\r\\\\\\phi\\\\z\\end{matrix}\\right]$"
      ],
      "text/plain": [
       "⎡t⎤\n",
       "⎢ ⎥\n",
       "⎢r⎥\n",
       "⎢ ⎥\n",
       "⎢φ⎥\n",
       "⎢ ⎥\n",
       "⎣z⎦"
      ]
     },
     "execution_count": 7,
     "metadata": {},
     "output_type": "execute_result"
    }
   ],
   "source": [
    "variables = Matrix([t,r,phi,z])\n",
    "variables"
   ]
  },
  {
   "cell_type": "code",
   "execution_count": 8,
   "id": "2bf7d472",
   "metadata": {},
   "outputs": [
    {
     "data": {
      "text/latex": [
       "$\\displaystyle \\left[\\begin{matrix}dt\\\\dr\\\\dphi\\\\dz\\end{matrix}\\right]$"
      ],
      "text/plain": [
       "⎡ dt ⎤\n",
       "⎢    ⎥\n",
       "⎢ dr ⎥\n",
       "⎢    ⎥\n",
       "⎢dphi⎥\n",
       "⎢    ⎥\n",
       "⎣ dz ⎦"
      ]
     },
     "execution_count": 8,
     "metadata": {},
     "output_type": "execute_result"
    }
   ],
   "source": [
    "differentials = Matrix([dt,dr,dphi,dz])\n",
    "differentials "
   ]
  },
  {
   "cell_type": "code",
   "execution_count": 9,
   "id": "db2f8188",
   "metadata": {},
   "outputs": [
    {
     "data": {
      "image/png": "[encoded data removed]",
      "text/latex": [
       "$\\displaystyle dphi^{2} r^{2} e^{- 2 \\psi{\\left(r,t \\right)}} + dr^{2} e^{2 \\gamma{\\left(r,t \\right)}} e^{- 2 \\psi{\\left(r,t \\right)}} - dt^{2} e^{2 \\gamma{\\left(r,t \\right)}} e^{- 2 \\psi{\\left(r,t \\right)}} + dz^{2} e^{2 \\psi{\\left(r,t \\right)}}$"
      ],
      "text/plain": [
       "    2  2  -2⋅ψ(r, t)     2  2⋅γ(r, t)  -2⋅ψ(r, t)     2  2⋅γ(r, t)  -2⋅ψ(r, t)     2  2⋅ψ(r, t)\n",
       "dphi ⋅r ⋅ℯ           + dr ⋅ℯ         ⋅ℯ           - dt ⋅ℯ         ⋅ℯ           + dz ⋅ℯ         "
      ]
     },
     "execution_count": 9,
     "metadata": {},
     "output_type": "execute_result"
    }
   ],
   "source": [
    "lineElement = expand(-exp(2*(gamma-psi)) * (dt**2 - dr**2 ) + exp(2*psi) *dz**2 + r**2 * exp(-2*psi) *dphi**2)\n",
    "lineElement"
   ]
  },
  {
   "cell_type": "code",
   "execution_count": 10,
   "id": "d6157df9",
   "metadata": {},
   "outputs": [
    {
     "data": {
      "text/latex": [
       "$\\displaystyle \\left[\\begin{matrix}- e^{2 \\gamma{\\left(r,t \\right)}} e^{- 2 \\psi{\\left(r,t \\right)}} & 0 & 0 & 0\\\\0 & e^{2 \\gamma{\\left(r,t \\right)}} e^{- 2 \\psi{\\left(r,t \\right)}} & 0 & 0\\\\0 & 0 & r^{2} e^{- 2 \\psi{\\left(r,t \\right)}} & 0\\\\0 & 0 & 0 & e^{2 \\psi{\\left(r,t \\right)}}\\end{matrix}\\right]$"
      ],
      "text/plain": [
       "⎡  2⋅γ(r, t)  -2⋅ψ(r, t)                                                    ⎤\n",
       "⎢-ℯ         ⋅ℯ                      0                   0             0     ⎥\n",
       "⎢                                                                           ⎥\n",
       "⎢                          2⋅γ(r, t)  -2⋅ψ(r, t)                            ⎥\n",
       "⎢           0             ℯ         ⋅ℯ                  0             0     ⎥\n",
       "⎢                                                                           ⎥\n",
       "⎢                                                  2  -2⋅ψ(r, t)            ⎥\n",
       "⎢           0                       0             r ⋅ℯ                0     ⎥\n",
       "⎢                                                                           ⎥\n",
       "⎢                                                                  2⋅ψ(r, t)⎥\n",
       "⎣           0                       0                   0         ℯ         ⎦"
      ]
     },
     "execution_count": 10,
     "metadata": {},
     "output_type": "execute_result"
    }
   ],
   "source": [
    "g = zeros(4)\n",
    "\n",
    "for i in range(4):\n",
    "    for j in range(4):\n",
    "        if i == j:\n",
    "            g[i,j] = lineElement.coeff( differentials[i],2 ) \n",
    "        else:\n",
    "            g[i,j] = Rational(1,2)*lineElement.coeff( differentials[i]*differentials[j],1 )\n",
    "            \n",
    "g"
   ]
  },
  {
   "cell_type": "code",
   "execution_count": 11,
   "id": "9e0c14ee",
   "metadata": {},
   "outputs": [],
   "source": [
    "import sympy"
   ]
  },
  {
   "cell_type": "code",
   "execution_count": 12,
   "id": "33089265",
   "metadata": {},
   "outputs": [
    {
     "data": {
      "text/latex": [
       "$\\displaystyle \\left[\\begin{matrix}- e^{2 \\gamma{\\left(r,t \\right)}} e^{- 2 \\psi{\\left(r,t \\right)}} & 0 & 0 & 0\\\\0 & e^{2 \\gamma{\\left(r,t \\right)}} e^{- 2 \\psi{\\left(r,t \\right)}} & 0 & 0\\\\0 & 0 & r^{2} e^{- 2 \\psi{\\left(r,t \\right)}} & 0\\\\0 & 0 & 0 & e^{2 \\psi{\\left(r,t \\right)}}\\end{matrix}\\right]$"
      ],
      "text/plain": [
       "⎡  2⋅γ(r, t)  -2⋅ψ(r, t)                                                    ⎤\n",
       "⎢-ℯ         ⋅ℯ                      0                   0             0     ⎥\n",
       "⎢                                                                           ⎥\n",
       "⎢                          2⋅γ(r, t)  -2⋅ψ(r, t)                            ⎥\n",
       "⎢           0             ℯ         ⋅ℯ                  0             0     ⎥\n",
       "⎢                                                                           ⎥\n",
       "⎢                                                  2  -2⋅ψ(r, t)            ⎥\n",
       "⎢           0                       0             r ⋅ℯ                0     ⎥\n",
       "⎢                                                                           ⎥\n",
       "⎢                                                                  2⋅ψ(r, t)⎥\n",
       "⎣           0                       0                   0         ℯ         ⎦"
      ]
     },
     "execution_count": 12,
     "metadata": {},
     "output_type": "execute_result"
    }
   ],
   "source": [
    "m = sympy.Array(g)\n",
    "m"
   ]
  },
  {
   "cell_type": "code",
   "execution_count": 13,
   "id": "4397d4c5",
   "metadata": {},
   "outputs": [],
   "source": [
    "from einsteinpy.symbolic import *"
   ]
  },
  {
   "cell_type": "code",
   "execution_count": 14,
   "id": "a765fcc9",
   "metadata": {},
   "outputs": [],
   "source": [
    "syms = sympy.symbols(\"t r phi z\")\n",
    "t,r,phi,z = syms"
   ]
  },
  {
   "cell_type": "code",
   "execution_count": 15,
   "id": "3bf0a072",
   "metadata": {},
   "outputs": [],
   "source": [
    "metric = MetricTensor(m,syms)"
   ]
  },
  {
   "cell_type": "code",
   "execution_count": 16,
   "id": "026dc11c",
   "metadata": {},
   "outputs": [
    {
     "data": {
      "text/latex": [
       "$\\displaystyle \\left[\\begin{matrix}\\left[\\begin{matrix}\\frac{\\partial}{\\partial t} \\gamma{\\left(r,t \\right)} - \\frac{\\partial}{\\partial t} \\psi{\\left(r,t \\right)} & \\frac{\\partial}{\\partial r} \\gamma{\\left(r,t \\right)} - \\frac{\\partial}{\\partial r} \\psi{\\left(r,t \\right)} & 0 & 0\\\\\\frac{\\partial}{\\partial r} \\gamma{\\left(r,t \\right)} - \\frac{\\partial}{\\partial r} \\psi{\\left(r,t \\right)} & \\frac{\\partial}{\\partial t} \\gamma{\\left(r,t \\right)} - \\frac{\\partial}{\\partial t} \\psi{\\left(r,t \\right)} & 0 & 0\\\\0 & 0 & - r^{2} e^{- 2 \\gamma{\\left(r,t \\right)}} \\frac{\\partial}{\\partial t} \\psi{\\left(r,t \\right)} & 0\\\\0 & 0 & 0 & e^{- 2 \\gamma{\\left(r,t \\right)} + 4 \\psi{\\left(r,t \\right)}} \\frac{\\partial}{\\partial t} \\psi{\\left(r,t \\right)}\\end{matrix}\\right] & \\left[\\begin{matrix}\\frac{\\partial}{\\partial r} \\gamma{\\left(r,t \\right)} - \\frac{\\partial}{\\partial r} \\psi{\\left(r,t \\right)} & \\frac{\\partial}{\\partial t} \\gamma{\\left(r,t \\right)} - \\frac{\\partial}{\\partial t} \\psi{\\left(r,t \\right)} & 0 & 0\\\\\\frac{\\partial}{\\partial t} \\gamma{\\left(r,t \\right)} - \\frac{\\partial}{\\partial t} \\psi{\\left(r,t \\right)} & \\frac{\\partial}{\\partial r} \\gamma{\\left(r,t \\right)} - \\frac{\\partial}{\\partial r} \\psi{\\left(r,t \\right)} & 0 & 0\\\\0 & 0 & r \\left(r \\frac{\\partial}{\\partial r} \\psi{\\left(r,t \\right)} - 1\\right) e^{- 2 \\gamma{\\left(r,t \\right)}} & 0\\\\0 & 0 & 0 & - e^{- 2 \\gamma{\\left(r,t \\right)} + 4 \\psi{\\left(r,t \\right)}} \\frac{\\partial}{\\partial r} \\psi{\\left(r,t \\right)}\\end{matrix}\\right] & \\left[\\begin{matrix}0 & 0 & - \\frac{\\partial}{\\partial t} \\psi{\\left(r,t \\right)} & 0\\\\0 & 0 & - \\frac{\\partial}{\\partial r} \\psi{\\left(r,t \\right)} + \\frac{1}{r} & 0\\\\- \\frac{\\partial}{\\partial t} \\psi{\\left(r,t \\right)} & - \\frac{\\partial}{\\partial r} \\psi{\\left(r,t \\right)} + \\frac{1}{r} & 0 & 0\\\\0 & 0 & 0 & 0\\end{matrix}\\right] & \\left[\\begin{matrix}0 & 0 & 0 & \\frac{\\partial}{\\partial t} \\psi{\\left(r,t \\right)}\\\\0 & 0 & 0 & \\frac{\\partial}{\\partial r} \\psi{\\left(r,t \\right)}\\\\0 & 0 & 0 & 0\\\\\\frac{\\partial}{\\partial t} \\psi{\\left(r,t \\right)} & \\frac{\\partial}{\\partial r} \\psi{\\left(r,t \\right)} & 0 & 0\\end{matrix}\\right]\\end{matrix}\\right]$"
      ],
      "text/plain": [
       "⎡⎡∂             ∂            ∂             ∂                                                                            ⎤  ⎡∂            \n",
       "⎢⎢──(γ(r, t)) - ──(ψ(r, t))  ──(γ(r, t)) - ──(ψ(r, t))               0                                0                 ⎥  ⎢──(γ(r, t)) -\n",
       "⎢⎢∂t            ∂t           ∂r            ∂r                                                                           ⎥  ⎢∂r           \n",
       "⎢⎢                                                                                                                      ⎥  ⎢             \n",
       "⎢⎢∂             ∂            ∂             ∂                                                                            ⎥  ⎢∂            \n",
       "⎢⎢──(γ(r, t)) - ──(ψ(r, t))  ──(γ(r, t)) - ──(ψ(r, t))               0                                0                 ⎥  ⎢──(γ(r, t)) -\n",
       "⎢⎢∂r            ∂r           ∂t            ∂t                                                                           ⎥  ⎢∂t           \n",
       "⎢⎢                                                                                                                      ⎥  ⎢             \n",
       "⎢⎢                                                        2  -2⋅γ(r, t) ∂                                               ⎥  ⎢             \n",
       "⎢⎢            0                          0              -r ⋅ℯ          ⋅──(ψ(r, t))                   0                 ⎥  ⎢            0\n",
       "⎢⎢                                                                      ∂t                                              ⎥  ⎢             \n",
       "⎢⎢                                                                                                                      ⎥  ⎢             \n",
       "⎢⎢                                                                                    -2⋅γ(r, t) + 4⋅ψ(r, t) ∂          ⎥  ⎢             \n",
       "⎢⎢            0                          0                           0               ℯ                      ⋅──(ψ(r, t))⎥  ⎢            0\n",
       "⎣⎣                                                                                                           ∂t         ⎦  ⎣             \n",
       "\n",
       " ∂            ∂             ∂                                                                                   ⎤                        \n",
       " ──(ψ(r, t))  ──(γ(r, t)) - ──(ψ(r, t))                  0                                   0                  ⎥  ⎡                     \n",
       " ∂r           ∂t            ∂t                                                                                  ⎥  ⎢     0               \n",
       "                                                                                                                ⎥  ⎢                     \n",
       " ∂            ∂             ∂                                                                                   ⎥  ⎢                     \n",
       " ──(ψ(r, t))  ──(γ(r, t)) - ──(ψ(r, t))                  0                                   0                  ⎥  ⎢                     \n",
       " ∂t           ∂r            ∂r                                                                                  ⎥  ⎢     0               \n",
       "                                                                                                                ⎥  ⎢                     \n",
       "                                           ⎛  ∂              ⎞  -2⋅γ(r, t)                                      ⎥  ⎢                     \n",
       "                          0              r⋅⎜r⋅──(ψ(r, t)) - 1⎟⋅ℯ                             0                  ⎥  ⎢ ∂              ∂    \n",
       "                                           ⎝  ∂r             ⎠                                                  ⎥  ⎢-──(ψ(r, t))  - ──(ψ(\n",
       "                                                                                                                ⎥  ⎢ ∂t             ∂r   \n",
       "                                                                              -2⋅γ(r, t) + 4⋅ψ(r, t) ∂          ⎥  ⎢                     \n",
       "                          0                              0                  -ℯ                      ⋅──(ψ(r, t))⎥  ⎣     0               \n",
       "                                                                                                     ∂r         ⎦                        \n",
       "\n",
       "                                                                             ⎤\n",
       "               ∂                ⎤  ⎡                             ∂          ⎤⎥\n",
       " 0            -──(ψ(r, t))     0⎥  ⎢     0            0       0  ──(ψ(r, t))⎥⎥\n",
       "               ∂t               ⎥  ⎢                             ∂t         ⎥⎥\n",
       "                                ⎥  ⎢                                        ⎥⎥\n",
       "              ∂             1   ⎥  ⎢                             ∂          ⎥⎥\n",
       " 0          - ──(ψ(r, t)) + ─  0⎥  ⎢     0            0       0  ──(ψ(r, t))⎥⎥\n",
       "              ∂r            r   ⎥  ⎢                             ∂r         ⎥⎥\n",
       "                                ⎥  ⎢                                        ⎥⎥\n",
       "         1                      ⎥  ⎢     0            0       0       0     ⎥⎥\n",
       "r, t)) + ─          0          0⎥  ⎢                                        ⎥⎥\n",
       "         r                      ⎥  ⎢∂            ∂                          ⎥⎥\n",
       "                                ⎥  ⎢──(ψ(r, t))  ──(ψ(r, t))  0       0     ⎥⎥\n",
       " 0                  0          0⎦  ⎣∂t           ∂r                         ⎦⎥\n",
       "                                                                             ⎦"
      ]
     },
     "execution_count": 16,
     "metadata": {},
     "output_type": "execute_result"
    }
   ],
   "source": [
    "ch = ChristoffelSymbols.from_metric(metric)\n",
    "simplify(ch.tensor())"
   ]
  },
  {
   "cell_type": "code",
   "execution_count": 17,
   "id": "1f52e4ea",
   "metadata": {},
   "outputs": [
    {
     "data": {
      "text/latex": [
       "$\\displaystyle \\left[\\begin{matrix}\\frac{r \\left(\\frac{\\partial^{2}}{\\partial r^{2}} \\gamma{\\left(r,t \\right)} - \\frac{\\partial^{2}}{\\partial t^{2}} \\gamma{\\left(r,t \\right)} - \\frac{\\partial^{2}}{\\partial r^{2}} \\psi{\\left(r,t \\right)} - 2 \\left(\\frac{\\partial}{\\partial t} \\psi{\\left(r,t \\right)}\\right)^{2} + \\frac{\\partial^{2}}{\\partial t^{2}} \\psi{\\left(r,t \\right)}\\right) + \\frac{\\partial}{\\partial r} \\gamma{\\left(r,t \\right)} - \\frac{\\partial}{\\partial r} \\psi{\\left(r,t \\right)}}{r} & - 2 \\frac{\\partial}{\\partial r} \\psi{\\left(r,t \\right)} \\frac{\\partial}{\\partial t} \\psi{\\left(r,t \\right)} + \\frac{\\frac{\\partial}{\\partial t} \\gamma{\\left(r,t \\right)}}{r} & 0 & 0\\\\- 2 \\frac{\\partial}{\\partial r} \\psi{\\left(r,t \\right)} \\frac{\\partial}{\\partial t} \\psi{\\left(r,t \\right)} + \\frac{\\frac{\\partial}{\\partial t} \\gamma{\\left(r,t \\right)}}{r} & \\frac{r \\left(- \\frac{\\partial^{2}}{\\partial r^{2}} \\gamma{\\left(r,t \\right)} + \\frac{\\partial^{2}}{\\partial t^{2}} \\gamma{\\left(r,t \\right)} - 2 \\left(\\frac{\\partial}{\\partial r} \\psi{\\left(r,t \\right)}\\right)^{2} + \\frac{\\partial^{2}}{\\partial r^{2}} \\psi{\\left(r,t \\right)} - \\frac{\\partial^{2}}{\\partial t^{2}} \\psi{\\left(r,t \\right)}\\right) + \\frac{\\partial}{\\partial r} \\gamma{\\left(r,t \\right)} + \\frac{\\partial}{\\partial r} \\psi{\\left(r,t \\right)}}{r} & 0 & 0\\\\0 & 0 & r \\left(r \\frac{\\partial^{2}}{\\partial r^{2}} \\psi{\\left(r,t \\right)} - r \\frac{\\partial^{2}}{\\partial t^{2}} \\psi{\\left(r,t \\right)} + \\frac{\\partial}{\\partial r} \\psi{\\left(r,t \\right)}\\right) e^{- 2 \\gamma{\\left(r,t \\right)}} & 0\\\\0 & 0 & 0 & \\frac{\\left(- r \\frac{\\partial^{2}}{\\partial r^{2}} \\psi{\\left(r,t \\right)} + r \\frac{\\partial^{2}}{\\partial t^{2}} \\psi{\\left(r,t \\right)} - \\frac{\\partial}{\\partial r} \\psi{\\left(r,t \\right)}\\right) e^{- 2 \\gamma{\\left(r,t \\right)} + 4 \\psi{\\left(r,t \\right)}}}{r}\\end{matrix}\\right]$"
      ],
      "text/plain": [
       "⎡  ⎛  2              2              2                           2     2         ⎞                                                        \n",
       "⎢  ⎜ ∂              ∂              ∂               ⎛∂          ⎞     ∂          ⎟   ∂             ∂                                      \n",
       "⎢r⋅⎜───(γ(r, t)) - ───(γ(r, t)) - ───(ψ(r, t)) - 2⋅⎜──(ψ(r, t))⎟  + ───(ψ(r, t))⎟ + ──(γ(r, t)) - ──(ψ(r, t))                            \n",
       "⎢  ⎜  2              2              2              ⎝∂t         ⎠      2         ⎟   ∂r            ∂r                                     \n",
       "⎢  ⎝∂r             ∂t             ∂r                                ∂t          ⎠                                                        \n",
       "⎢────────────────────────────────────────────────────────────────────────────────────────────────────────────                            \n",
       "⎢                                                     r                                                                                  \n",
       "⎢                                                                                                                                        \n",
       "⎢                                                                                                                ⎛    2              2   \n",
       "⎢                                                                                                                ⎜   ∂              ∂    \n",
       "⎢                                                               ∂                                              r⋅⎜- ───(γ(r, t)) + ───(γ(\n",
       "⎢                                                               ──(γ(r, t))                                      ⎜    2              2   \n",
       "⎢                                     ∂           ∂             ∂t                                               ⎝  ∂r             ∂t    \n",
       "⎢                                 - 2⋅──(ψ(r, t))⋅──(ψ(r, t)) + ───────────                                    ──────────────────────────\n",
       "⎢                                     ∂r          ∂t                 r                                                                   \n",
       "⎢                                                                                                                                        \n",
       "⎢                                                                                                                                        \n",
       "⎢                                                                                                                                        \n",
       "⎢                                                     0                                                                                  \n",
       "⎢                                                                                                                                        \n",
       "⎢                                                                                                                                        \n",
       "⎢                                                                                                                                        \n",
       "⎢                                                                                                                                        \n",
       "⎢                                                                                                                                        \n",
       "⎢                                                                                                                                        \n",
       "⎢                                                                                                                                        \n",
       "⎢                                                                                                                                        \n",
       "⎢                                                     0                                                                                  \n",
       "⎣                                                                                                                                        \n",
       "\n",
       "                                                                                                                                         \n",
       "                                                                                                                                         \n",
       "                                      ∂                                                                                                  \n",
       "                                      ──(γ(r, t))                                                                                        \n",
       "            ∂           ∂             ∂t                                                                                                 \n",
       "        - 2⋅──(ψ(r, t))⋅──(ψ(r, t)) + ───────────                                                                   0                    \n",
       "            ∂r          ∂t                 r                                                                                             \n",
       "                                                                                                                                         \n",
       "                        2     2              2         ⎞                                                                                 \n",
       "           ⎛∂          ⎞     ∂              ∂          ⎟   ∂             ∂                                                               \n",
       "r, t)) - 2⋅⎜──(ψ(r, t))⎟  + ───(ψ(r, t)) - ───(ψ(r, t))⎟ + ──(γ(r, t)) + ──(ψ(r, t))                                                     \n",
       "           ⎝∂r         ⎠      2              2         ⎟   ∂r            ∂r                                                              \n",
       "                            ∂r             ∂t          ⎠                                                                                 \n",
       "────────────────────────────────────────────────────────────────────────────────────                                0                    \n",
       "                            r                                                                                                            \n",
       "                                                                                                                                         \n",
       "                                                                                        ⎛    2                2                       ⎞  \n",
       "                                                                                        ⎜   ∂                ∂             ∂          ⎟  \n",
       "                            0                                                         r⋅⎜r⋅───(ψ(r, t)) - r⋅───(ψ(r, t)) + ──(ψ(r, t))⎟⋅ℯ\n",
       "                                                                                        ⎜    2                2            ∂r         ⎟  \n",
       "                                                                                        ⎝  ∂r               ∂t                        ⎠  \n",
       "                                                                                                                                         \n",
       "                                                                                                                                         \n",
       "                                                                                                                                         \n",
       "                                                                                                                                         \n",
       "                                                                                                                                         \n",
       "                                                                                                                                         \n",
       "                            0                                                                                       0                    \n",
       "                                                                                                                                         \n",
       "\n",
       "                                                                                     ⎤\n",
       "                                                                                     ⎥\n",
       "                                                                                     ⎥\n",
       "                                                                                     ⎥\n",
       "                                                                                     ⎥\n",
       "                                                0                                    ⎥\n",
       "                                                                                     ⎥\n",
       "                                                                                     ⎥\n",
       "                                                                                     ⎥\n",
       "                                                                                     ⎥\n",
       "                                                                                     ⎥\n",
       "                                                                                     ⎥\n",
       "                                                                                     ⎥\n",
       "                                                0                                    ⎥\n",
       "                                                                                     ⎥\n",
       "                                                                                     ⎥\n",
       "                                                                                     ⎥\n",
       "-2⋅γ(r, t)                                                                           ⎥\n",
       "                                                0                                    ⎥\n",
       "                                                                                     ⎥\n",
       "                                                                                     ⎥\n",
       "                                                                                     ⎥\n",
       "            ⎛      2                2                       ⎞                        ⎥\n",
       "            ⎜     ∂                ∂             ∂          ⎟  -2⋅γ(r, t) + 4⋅ψ(r, t)⎥\n",
       "            ⎜- r⋅───(ψ(r, t)) + r⋅───(ψ(r, t)) - ──(ψ(r, t))⎟⋅ℯ                      ⎥\n",
       "            ⎜      2                2            ∂r         ⎟                        ⎥\n",
       "            ⎝    ∂r               ∂t                        ⎠                        ⎥\n",
       "            ─────────────────────────────────────────────────────────────────────────⎥\n",
       "                                                r                                    ⎦"
      ]
     },
     "execution_count": 17,
     "metadata": {},
     "output_type": "execute_result"
    }
   ],
   "source": [
    "Ric = RicciTensor.from_metric(metric)\n",
    "Ric.tensor()"
   ]
  },
  {
   "cell_type": "code",
   "execution_count": 18,
   "id": "80531487",
   "metadata": {},
   "outputs": [
    {
     "data": {
      "image/png": "[encoded data removed]",
      "text/latex": [
       "$\\displaystyle \\frac{2 \\left(- r \\frac{\\partial^{2}}{\\partial r^{2}} \\gamma{\\left(r,t \\right)} + r \\frac{\\partial^{2}}{\\partial t^{2}} \\gamma{\\left(r,t \\right)} - r \\left(\\frac{\\partial}{\\partial r} \\psi{\\left(r,t \\right)}\\right)^{2} + r \\frac{\\partial^{2}}{\\partial r^{2}} \\psi{\\left(r,t \\right)} + r \\left(\\frac{\\partial}{\\partial t} \\psi{\\left(r,t \\right)}\\right)^{2} - r \\frac{\\partial^{2}}{\\partial t^{2}} \\psi{\\left(r,t \\right)} + \\frac{\\partial}{\\partial r} \\psi{\\left(r,t \\right)}\\right) e^{- 2 \\gamma{\\left(r,t \\right)} + 2 \\psi{\\left(r,t \\right)}}}{r}$"
      ],
      "text/plain": [
       "  ⎛      2                2                           2       2                           2       2                       ⎞              \n",
       "  ⎜     ∂                ∂               ⎛∂          ⎞       ∂               ⎛∂          ⎞       ∂             ∂          ⎟  -2⋅γ(r, t) +\n",
       "2⋅⎜- r⋅───(γ(r, t)) + r⋅───(γ(r, t)) - r⋅⎜──(ψ(r, t))⎟  + r⋅───(ψ(r, t)) + r⋅⎜──(ψ(r, t))⎟  - r⋅───(ψ(r, t)) + ──(ψ(r, t))⎟⋅ℯ            \n",
       "  ⎜      2                2              ⎝∂r         ⎠        2              ⎝∂t         ⎠        2            ∂r         ⎟              \n",
       "  ⎝    ∂r               ∂t                                  ∂r                                  ∂t                        ⎠              \n",
       "─────────────────────────────────────────────────────────────────────────────────────────────────────────────────────────────────────────\n",
       "                                                                         r                                                               \n",
       "\n",
       "          \n",
       " 2⋅ψ(r, t)\n",
       "          \n",
       "          \n",
       "          \n",
       "──────────\n",
       "          "
      ]
     },
     "execution_count": 18,
     "metadata": {},
     "output_type": "execute_result"
    }
   ],
   "source": [
    "R = RicciScalar.from_riccitensor(Ric)\n",
    "R.simplify()\n",
    "R.expr"
   ]
  },
  {
   "cell_type": "code",
   "execution_count": 19,
   "id": "cf63040a",
   "metadata": {},
   "outputs": [
    {
     "data": {
      "text/latex": [
       "$\\displaystyle \\left[\\begin{matrix}\\frac{r \\left(\\frac{\\partial^{2}}{\\partial r^{2}} \\gamma{\\left(r,t \\right)} - \\frac{\\partial^{2}}{\\partial t^{2}} \\gamma{\\left(r,t \\right)} - \\frac{\\partial^{2}}{\\partial r^{2}} \\psi{\\left(r,t \\right)} - 2 \\left(\\frac{\\partial}{\\partial t} \\psi{\\left(r,t \\right)}\\right)^{2} + \\frac{\\partial^{2}}{\\partial t^{2}} \\psi{\\left(r,t \\right)}\\right) + \\frac{\\partial}{\\partial r} \\gamma{\\left(r,t \\right)} - \\frac{\\partial}{\\partial r} \\psi{\\left(r,t \\right)}}{r} + \\frac{1.0 \\left(- r \\frac{\\partial^{2}}{\\partial r^{2}} \\gamma{\\left(r,t \\right)} + r \\frac{\\partial^{2}}{\\partial t^{2}} \\gamma{\\left(r,t \\right)} - r \\left(\\frac{\\partial}{\\partial r} \\psi{\\left(r,t \\right)}\\right)^{2} + r \\frac{\\partial^{2}}{\\partial r^{2}} \\psi{\\left(r,t \\right)} + r \\left(\\frac{\\partial}{\\partial t} \\psi{\\left(r,t \\right)}\\right)^{2} - r \\frac{\\partial^{2}}{\\partial t^{2}} \\psi{\\left(r,t \\right)} + \\frac{\\partial}{\\partial r} \\psi{\\left(r,t \\right)}\\right) e^{- 2 \\gamma{\\left(r,t \\right)} + 2 \\psi{\\left(r,t \\right)}} e^{2 \\gamma{\\left(r,t \\right)}} e^{- 2 \\psi{\\left(r,t \\right)}}}{r} & - 2 \\frac{\\partial}{\\partial r} \\psi{\\left(r,t \\right)} \\frac{\\partial}{\\partial t} \\psi{\\left(r,t \\right)} + \\frac{\\frac{\\partial}{\\partial t} \\gamma{\\left(r,t \\right)}}{r} & 0 & 0\\\\- 2 \\frac{\\partial}{\\partial r} \\psi{\\left(r,t \\right)} \\frac{\\partial}{\\partial t} \\psi{\\left(r,t \\right)} + \\frac{\\frac{\\partial}{\\partial t} \\gamma{\\left(r,t \\right)}}{r} & \\frac{r \\left(- \\frac{\\partial^{2}}{\\partial r^{2}} \\gamma{\\left(r,t \\right)} + \\frac{\\partial^{2}}{\\partial t^{2}} \\gamma{\\left(r,t \\right)} - 2 \\left(\\frac{\\partial}{\\partial r} \\psi{\\left(r,t \\right)}\\right)^{2} + \\frac{\\partial^{2}}{\\partial r^{2}} \\psi{\\left(r,t \\right)} - \\frac{\\partial^{2}}{\\partial t^{2}} \\psi{\\left(r,t \\right)}\\right) + \\frac{\\partial}{\\partial r} \\gamma{\\left(r,t \\right)} + \\frac{\\partial}{\\partial r} \\psi{\\left(r,t \\right)}}{r} - \\frac{1.0 \\left(- r \\frac{\\partial^{2}}{\\partial r^{2}} \\gamma{\\left(r,t \\right)} + r \\frac{\\partial^{2}}{\\partial t^{2}} \\gamma{\\left(r,t \\right)} - r \\left(\\frac{\\partial}{\\partial r} \\psi{\\left(r,t \\right)}\\right)^{2} + r \\frac{\\partial^{2}}{\\partial r^{2}} \\psi{\\left(r,t \\right)} + r \\left(\\frac{\\partial}{\\partial t} \\psi{\\left(r,t \\right)}\\right)^{2} - r \\frac{\\partial^{2}}{\\partial t^{2}} \\psi{\\left(r,t \\right)} + \\frac{\\partial}{\\partial r} \\psi{\\left(r,t \\right)}\\right) e^{- 2 \\gamma{\\left(r,t \\right)} + 2 \\psi{\\left(r,t \\right)}} e^{2 \\gamma{\\left(r,t \\right)}} e^{- 2 \\psi{\\left(r,t \\right)}}}{r} & 0 & 0\\\\0 & 0 & r \\left(r \\frac{\\partial^{2}}{\\partial r^{2}} \\psi{\\left(r,t \\right)} - r \\frac{\\partial^{2}}{\\partial t^{2}} \\psi{\\left(r,t \\right)} + \\frac{\\partial}{\\partial r} \\psi{\\left(r,t \\right)}\\right) e^{- 2 \\gamma{\\left(r,t \\right)}} - 1.0 r \\left(- r \\frac{\\partial^{2}}{\\partial r^{2}} \\gamma{\\left(r,t \\right)} + r \\frac{\\partial^{2}}{\\partial t^{2}} \\gamma{\\left(r,t \\right)} - r \\left(\\frac{\\partial}{\\partial r} \\psi{\\left(r,t \\right)}\\right)^{2} + r \\frac{\\partial^{2}}{\\partial r^{2}} \\psi{\\left(r,t \\right)} + r \\left(\\frac{\\partial}{\\partial t} \\psi{\\left(r,t \\right)}\\right)^{2} - r \\frac{\\partial^{2}}{\\partial t^{2}} \\psi{\\left(r,t \\right)} + \\frac{\\partial}{\\partial r} \\psi{\\left(r,t \\right)}\\right) e^{- 2 \\gamma{\\left(r,t \\right)} + 2 \\psi{\\left(r,t \\right)}} e^{- 2 \\psi{\\left(r,t \\right)}} & 0\\\\0 & 0 & 0 & \\frac{\\left(- r \\frac{\\partial^{2}}{\\partial r^{2}} \\psi{\\left(r,t \\right)} + r \\frac{\\partial^{2}}{\\partial t^{2}} \\psi{\\left(r,t \\right)} - \\frac{\\partial}{\\partial r} \\psi{\\left(r,t \\right)}\\right) e^{- 2 \\gamma{\\left(r,t \\right)} + 4 \\psi{\\left(r,t \\right)}}}{r} - \\frac{1.0 \\left(- r \\frac{\\partial^{2}}{\\partial r^{2}} \\gamma{\\left(r,t \\right)} + r \\frac{\\partial^{2}}{\\partial t^{2}} \\gamma{\\left(r,t \\right)} - r \\left(\\frac{\\partial}{\\partial r} \\psi{\\left(r,t \\right)}\\right)^{2} + r \\frac{\\partial^{2}}{\\partial r^{2}} \\psi{\\left(r,t \\right)} + r \\left(\\frac{\\partial}{\\partial t} \\psi{\\left(r,t \\right)}\\right)^{2} - r \\frac{\\partial^{2}}{\\partial t^{2}} \\psi{\\left(r,t \\right)} + \\frac{\\partial}{\\partial r} \\psi{\\left(r,t \\right)}\\right) e^{- 2 \\gamma{\\left(r,t \\right)} + 2 \\psi{\\left(r,t \\right)}} e^{2 \\psi{\\left(r,t \\right)}}}{r}\\end{matrix}\\right]$"
      ],
      "text/plain": [
       "⎡  ⎛  2              2              2                           2     2         ⎞                                   ⎛      2             \n",
       "⎢  ⎜ ∂              ∂              ∂               ⎛∂          ⎞     ∂          ⎟   ∂             ∂                 ⎜     ∂              \n",
       "⎢r⋅⎜───(γ(r, t)) - ───(γ(r, t)) - ───(ψ(r, t)) - 2⋅⎜──(ψ(r, t))⎟  + ───(ψ(r, t))⎟ + ──(γ(r, t)) - ──(ψ(r, t))   1.0⋅⎜- r⋅───(γ(r, t)) + r\n",
       "⎢  ⎜  2              2              2              ⎝∂t         ⎠      2         ⎟   ∂r            ∂r                ⎜      2             \n",
       "⎢  ⎝∂r             ∂t             ∂r                                ∂t          ⎠                                   ⎝    ∂r              \n",
       "⎢──────────────────────────────────────────────────────────────────────────────────────────────────────────── + ─────────────────────────\n",
       "⎢                                                     r                                                                                  \n",
       "⎢                                                                                                                                        \n",
       "⎢                                                                                                                                        \n",
       "⎢                                                                                                                                        \n",
       "⎢                                                                                                                                        \n",
       "⎢                                                                                                                                        \n",
       "⎢                                                                                                                             ∂          \n",
       "⎢                                                                                                                         - 2⋅──(ψ(r, t))\n",
       "⎢                                                                                                                             ∂r         \n",
       "⎢                                                                                                                                        \n",
       "⎢                                                                                                                                        \n",
       "⎢                                                                                                                                        \n",
       "⎢                                                                                                                                        \n",
       "⎢                                                                                                                                        \n",
       "⎢                                                                                                                                        \n",
       "⎢                                                                                                                                        \n",
       "⎢                                                                                                                                        \n",
       "⎢                                                                                                                                        \n",
       "⎢                                                                                                                                        \n",
       "⎢                                                                                                                                        \n",
       "⎢                                                                                                                                        \n",
       "⎢                                                                                                                                        \n",
       "⎣                                                                                                                                        \n",
       "\n",
       "   2                           2       2                           2       2                       ⎞                                     \n",
       "  ∂               ⎛∂          ⎞       ∂               ⎛∂          ⎞       ∂             ∂          ⎟  -2⋅γ(r, t) + 2⋅ψ(r, t)  2⋅γ(r, t)  \n",
       "⋅───(γ(r, t)) - r⋅⎜──(ψ(r, t))⎟  + r⋅───(ψ(r, t)) + r⋅⎜──(ψ(r, t))⎟  - r⋅───(ψ(r, t)) + ──(ψ(r, t))⎟⋅ℯ                      ⋅ℯ         ⋅ℯ\n",
       "   2              ⎝∂r         ⎠        2              ⎝∂t         ⎠        2            ∂r         ⎟                                     \n",
       " ∂t                                  ∂r                                  ∂t                        ⎠                                     \n",
       "─────────────────────────────────────────────────────────────────────────────────────────────────────────────────────────────────────────\n",
       "                                                            r                                                                            \n",
       "                                                                                                                                         \n",
       "                                                                                                                                         \n",
       "                                                                                                                                         \n",
       "               ∂                                                                                                                         \n",
       "               ──(γ(r, t))                                                                                                               \n",
       " ∂             ∂t                                                                                                                        \n",
       "⋅──(ψ(r, t)) + ───────────                                                                                                               \n",
       " ∂t                 r                                                                                                                    \n",
       "                                                                                                                                         \n",
       "                                                                                                                                         \n",
       "                                                                                                                                         \n",
       "     0                                                                                                                                   \n",
       "                                                                                                                                         \n",
       "                                                                                                                                         \n",
       "                                                                                                                                         \n",
       "                                                                                                                                         \n",
       "                                                                                                                                         \n",
       "                                                                                                                                         \n",
       "                                                                                                                                         \n",
       "                                                                                                                                         \n",
       "     0                                                                                                                                   \n",
       "                                                                                                                                         \n",
       "\n",
       "                                                                                                                                         \n",
       "-2⋅ψ(r, t)                                                                                                                               \n",
       "                                                                                                                                         \n",
       "                                                                                                                                         \n",
       "                                                                                                                                        ∂\n",
       "──────────                                                                                                                          - 2⋅─\n",
       "                                                                                                                                        ∂\n",
       "                                                                                                                                         \n",
       "              ⎛    2              2                           2     2              2         ⎞                               ⎛      2    \n",
       "              ⎜   ∂              ∂               ⎛∂          ⎞     ∂              ∂          ⎟   ∂             ∂             ⎜     ∂     \n",
       "            r⋅⎜- ───(γ(r, t)) + ───(γ(r, t)) - 2⋅⎜──(ψ(r, t))⎟  + ───(ψ(r, t)) - ───(ψ(r, t))⎟ + ──(γ(r, t)) + ──(ψ(r, t))   ⎜- r⋅───(γ(r\n",
       "              ⎜    2              2              ⎝∂r         ⎠      2              2         ⎟   ∂r            ∂r            ⎜      2    \n",
       "              ⎝  ∂r             ∂t                                ∂r             ∂t          ⎠                               ⎝    ∂r     \n",
       "            ────────────────────────────────────────────────────────────────────────────────────────────────────────────── - ────────────\n",
       "                                                                  r                                                                      \n",
       "                                                                                                                                         \n",
       "                                                                                                                                         \n",
       "                                                                                                                                         \n",
       "                                                                                                                                         \n",
       "                                                                                                                                         \n",
       "                                                                                                                                         \n",
       "                                                                                                                                         \n",
       "                                                                                                                                         \n",
       "                                                                                                                                         \n",
       "                                                                                                                                         \n",
       "                                                                                                                                         \n",
       "                                                                                                                                         \n",
       "                                                                                                                                         \n",
       "                                                                                                                                         \n",
       "\n",
       "                                                                                                                                         \n",
       "                                                                                                                                         \n",
       "                         ∂                                                                                                               \n",
       "                         ──(γ(r, t))                                                                                                     \n",
       "           ∂             ∂t                                                                                                              \n",
       "─(ψ(r, t))⋅──(ψ(r, t)) + ───────────                                                                                                     \n",
       "r          ∂t                 r                                                                                                          \n",
       "                                                                                                                                         \n",
       "            2                           2       2                           2       2                       ⎞                            \n",
       "           ∂               ⎛∂          ⎞       ∂               ⎛∂          ⎞       ∂             ∂          ⎟  -2⋅γ(r, t) + 2⋅ψ(r, t)  2⋅\n",
       ", t)) + r⋅───(γ(r, t)) - r⋅⎜──(ψ(r, t))⎟  + r⋅───(ψ(r, t)) + r⋅⎜──(ψ(r, t))⎟  - r⋅───(ψ(r, t)) + ──(ψ(r, t))⎟⋅ℯ                      ⋅ℯ  \n",
       "            2              ⎝∂r         ⎠        2              ⎝∂t         ⎠        2            ∂r         ⎟                            \n",
       "          ∂t                                  ∂r                                  ∂t                        ⎠                            \n",
       "─────────────────────────────────────────────────────────────────────────────────────────────────────────────────────────────────────────\n",
       "                                                                       r                                                                 \n",
       "                                                                                                                                         \n",
       "                                                                                                                                         \n",
       "                                                                                                                                         \n",
       "               0                                                                                                                         \n",
       "                                                                                                                                         \n",
       "                                                                                                                                         \n",
       "                                                                                                                                         \n",
       "                                                                                                                                         \n",
       "                                                                                                                                         \n",
       "                                                                                                                                         \n",
       "                                                                                                                                         \n",
       "                                                                                                                                         \n",
       "               0                                                                                                                         \n",
       "                                                                                                                                         \n",
       "\n",
       "                                                                                                                                         \n",
       "                                                                                                                                         \n",
       "                                                                                                                                         \n",
       "                                                                                                                                         \n",
       "                                                                                                                                         \n",
       "                                                                                                                                    0    \n",
       "                                                                                                                                         \n",
       "                                                                                                                                         \n",
       "                                                                                                                                         \n",
       "γ(r, t)  -2⋅ψ(r, t)                                                                                                                      \n",
       "       ⋅ℯ                                                                                                                                \n",
       "                                                                                                                                         \n",
       "                                                                                                                                         \n",
       "───────────────────                                                                                                                 0    \n",
       "                                                                                                                                         \n",
       "                                                                                                                                         \n",
       "                       ⎛    2                2                       ⎞                 ⎛      2                2                         \n",
       "                       ⎜   ∂                ∂             ∂          ⎟  -2⋅γ(r, t)     ⎜     ∂                ∂               ⎛∂         \n",
       "                     r⋅⎜r⋅───(ψ(r, t)) - r⋅───(ψ(r, t)) + ──(ψ(r, t))⎟⋅ℯ           - r⋅⎜- r⋅───(γ(r, t)) + r⋅───(γ(r, t)) - r⋅⎜──(ψ(r, t)\n",
       "                       ⎜    2                2            ∂r         ⎟                 ⎜      2                2              ⎝∂r        \n",
       "                       ⎝  ∂r               ∂t                        ⎠                 ⎝    ∂r               ∂t                          \n",
       "                                                                                                                                         \n",
       "                                                                                                                                         \n",
       "                                                                                                                                         \n",
       "                                                                                                                                         \n",
       "                                                                                                                                         \n",
       "                                                                                                                                         \n",
       "                                                                                                                                    0    \n",
       "                                                                                                                                         \n",
       "\n",
       "                                                                                                                                         \n",
       "                                                                                                                                         \n",
       "                                                                                                                                         \n",
       "                                                                                                                                         \n",
       "                                                                                                                                         \n",
       "                                                                                                                                         \n",
       "                                                                                                                                         \n",
       "                                                                                                                                         \n",
       "                                                                                                                                         \n",
       "                                                                                                                                         \n",
       "                                                                                                                                         \n",
       "                                                                                                                                         \n",
       "                                                                                                                                         \n",
       "                                                                                                                                         \n",
       "                                                                                                                                         \n",
       "                                                                                                                                         \n",
       "  2       2                           2       2                       ⎞                                                                  \n",
       " ⎞       ∂               ⎛∂          ⎞       ∂             ∂          ⎟  -2⋅γ(r, t) + 2⋅ψ(r, t)  -2⋅ψ(r, t)                              \n",
       ")⎟  + r⋅───(ψ(r, t)) + r⋅⎜──(ψ(r, t))⎟  - r⋅───(ψ(r, t)) + ──(ψ(r, t))⎟⋅ℯ                      ⋅ℯ                                        \n",
       " ⎠        2              ⎝∂t         ⎠        2            ∂r         ⎟                                                                  \n",
       "        ∂r                                  ∂t                        ⎠                                                                  \n",
       "                                                                                                                                         \n",
       "                                                                                                             ⎛      2                2   \n",
       "                                                                                                             ⎜     ∂                ∂    \n",
       "                                                                                                             ⎜- r⋅───(ψ(r, t)) + r⋅───(ψ(\n",
       "                                                                                                             ⎜      2                2   \n",
       "                                                                                                             ⎝    ∂r               ∂t    \n",
       "                                                                                                             ────────────────────────────\n",
       "                                                                                                                                         \n",
       "\n",
       "                                                                                                                                         \n",
       "                                                                                                                                         \n",
       "                                                                                                                                         \n",
       "                                                                                                                                         \n",
       "                                                                                                                                         \n",
       "                                                                                       0                                                 \n",
       "                                                                                                                                         \n",
       "                                                                                                                                         \n",
       "                                                                                                                                         \n",
       "                                                                                                                                         \n",
       "                                                                                                                                         \n",
       "                                                                                                                                         \n",
       "                                                                                                                                         \n",
       "                                                                                       0                                                 \n",
       "                                                                                                                                         \n",
       "                                                                                                                                         \n",
       "                                                                                                                                         \n",
       "                                                                                                                                         \n",
       "                                                                                       0                                                 \n",
       "                                                                                                                                         \n",
       "                                                                                                                                         \n",
       "                                                                                                                                         \n",
       "                    ⎞                           ⎛      2                2                           2       2                           2\n",
       "         ∂          ⎟  -2⋅γ(r, t) + 4⋅ψ(r, t)   ⎜     ∂                ∂               ⎛∂          ⎞       ∂               ⎛∂          ⎞ \n",
       "r, t)) - ──(ψ(r, t))⎟⋅ℯ                         ⎜- r⋅───(γ(r, t)) + r⋅───(γ(r, t)) - r⋅⎜──(ψ(r, t))⎟  + r⋅───(ψ(r, t)) + r⋅⎜──(ψ(r, t))⎟ \n",
       "         ∂r         ⎟                           ⎜      2                2              ⎝∂r         ⎠        2              ⎝∂t         ⎠ \n",
       "                    ⎠                           ⎝    ∂r               ∂t                                  ∂r                             \n",
       "───────────────────────────────────────────── - ─────────────────────────────────────────────────────────────────────────────────────────\n",
       "        r                                                                                                                    r           \n",
       "\n",
       "                                                                   ⎤\n",
       "                                                                   ⎥\n",
       "                                                                   ⎥\n",
       "                                                                   ⎥\n",
       "                                                                   ⎥\n",
       "                                                                   ⎥\n",
       "                                                                   ⎥\n",
       "                                                                   ⎥\n",
       "                                                                   ⎥\n",
       "                                                                   ⎥\n",
       "                                                                   ⎥\n",
       "                                                                   ⎥\n",
       "                                                                   ⎥\n",
       "                                                                   ⎥\n",
       "                                                                   ⎥\n",
       "                                                                   ⎥\n",
       "                                                                   ⎥\n",
       "                                                                   ⎥\n",
       "                                                                   ⎥\n",
       "                                                                   ⎥\n",
       "                                                                   ⎥\n",
       "                                                                   ⎥\n",
       "       2                       ⎞                                   ⎥\n",
       "      ∂             ∂          ⎟  -2⋅γ(r, t) + 2⋅ψ(r, t)  2⋅ψ(r, t)⎥\n",
       " - r⋅───(ψ(r, t)) + ──(ψ(r, t))⎟⋅ℯ                      ⋅ℯ         ⎥\n",
       "       2            ∂r         ⎟                                   ⎥\n",
       "     ∂t                        ⎠                                   ⎥\n",
       "───────────────────────────────────────────────────────────────────⎥\n",
       "                                                                   ⎦"
      ]
     },
     "execution_count": 19,
     "metadata": {},
     "output_type": "execute_result"
    }
   ],
   "source": [
    "einst = EinsteinTensor.from_metric(metric)\n",
    "einst.tensor()"
   ]
  },
  {
   "cell_type": "code",
   "execution_count": 20,
   "id": "deca03a1",
   "metadata": {},
   "outputs": [],
   "source": [
    "#  rm1 = RiemannCurvatureTensor.from_christoffels(ch)\n",
    "#  rm1.tensor()"
   ]
  },
  {
   "cell_type": "code",
   "execution_count": 21,
   "id": "e7b19158",
   "metadata": {},
   "outputs": [],
   "source": [
    "#  weyl = WeylTensor.from_metric(metric)\n",
    "#  weyl.tensor()"
   ]
  },
  {
   "cell_type": "code",
   "execution_count": 22,
   "id": "1d4d9bc4",
   "metadata": {},
   "outputs": [
    {
     "data": {
      "text/latex": [
       "$\\displaystyle \\left[\\begin{matrix}\\frac{- r \\left(- \\frac{\\partial^{2}}{\\partial r^{2}} \\gamma{\\left(r,t \\right)} + \\frac{\\partial^{2}}{\\partial t^{2}} \\gamma{\\left(r,t \\right)} + \\frac{\\partial^{2}}{\\partial r^{2}} \\psi{\\left(r,t \\right)} + 2 \\left(\\frac{\\partial}{\\partial t} \\psi{\\left(r,t \\right)}\\right)^{2} - \\frac{\\partial^{2}}{\\partial t^{2}} \\psi{\\left(r,t \\right)}\\right) + \\frac{\\partial}{\\partial r} \\gamma{\\left(r,t \\right)} - \\frac{\\partial}{\\partial r} \\psi{\\left(r,t \\right)}}{r} & - 2 \\frac{\\partial}{\\partial r} \\psi{\\left(r,t \\right)} \\frac{\\partial}{\\partial t} \\psi{\\left(r,t \\right)} + \\frac{\\frac{\\partial}{\\partial t} \\gamma{\\left(r,t \\right)}}{r} & 0 & 0\\\\- 2 \\frac{\\partial}{\\partial r} \\psi{\\left(r,t \\right)} \\frac{\\partial}{\\partial t} \\psi{\\left(r,t \\right)} + \\frac{\\frac{\\partial}{\\partial t} \\gamma{\\left(r,t \\right)}}{r} & \\frac{- r \\left(\\frac{\\partial^{2}}{\\partial r^{2}} \\gamma{\\left(r,t \\right)} - \\frac{\\partial^{2}}{\\partial t^{2}} \\gamma{\\left(r,t \\right)} + 2 \\left(\\frac{\\partial}{\\partial r} \\psi{\\left(r,t \\right)}\\right)^{2} - \\frac{\\partial^{2}}{\\partial r^{2}} \\psi{\\left(r,t \\right)} + \\frac{\\partial^{2}}{\\partial t^{2}} \\psi{\\left(r,t \\right)}\\right) + \\frac{\\partial}{\\partial r} \\gamma{\\left(r,t \\right)} + \\frac{\\partial}{\\partial r} \\psi{\\left(r,t \\right)}}{r} & 0 & 0\\\\0 & 0 & r \\left(r \\frac{\\partial^{2}}{\\partial r^{2}} \\psi{\\left(r,t \\right)} - r \\frac{\\partial^{2}}{\\partial t^{2}} \\psi{\\left(r,t \\right)} + \\frac{\\partial}{\\partial r} \\psi{\\left(r,t \\right)}\\right) e^{- 2 \\gamma{\\left(r,t \\right)}} & 0\\\\0 & 0 & 0 & \\frac{\\left(- r \\frac{\\partial^{2}}{\\partial r^{2}} \\psi{\\left(r,t \\right)} + r \\frac{\\partial^{2}}{\\partial t^{2}} \\psi{\\left(r,t \\right)} - \\frac{\\partial}{\\partial r} \\psi{\\left(r,t \\right)}\\right) e^{- 2 \\gamma{\\left(r,t \\right)} + 4 \\psi{\\left(r,t \\right)}}}{r}\\end{matrix}\\right]$"
      ],
      "text/plain": [
       "⎡    ⎛    2              2              2                           2     2         ⎞                                                    \n",
       "⎢    ⎜   ∂              ∂              ∂               ⎛∂          ⎞     ∂          ⎟   ∂             ∂                                  \n",
       "⎢- r⋅⎜- ───(γ(r, t)) + ───(γ(r, t)) + ───(ψ(r, t)) + 2⋅⎜──(ψ(r, t))⎟  - ───(ψ(r, t))⎟ + ──(γ(r, t)) - ──(ψ(r, t))                        \n",
       "⎢    ⎜    2              2              2              ⎝∂t         ⎠      2         ⎟   ∂r            ∂r                                 \n",
       "⎢    ⎝  ∂r             ∂t             ∂r                                ∂t          ⎠                                                    \n",
       "⎢────────────────────────────────────────────────────────────────────────────────────────────────────────────────                        \n",
       "⎢                                                       r                                                                                \n",
       "⎢                                                                                                                                        \n",
       "⎢                                                                                                                      ⎛  2              \n",
       "⎢                                                                                                                      ⎜ ∂              ∂\n",
       "⎢                                                                 ∂                                                - r⋅⎜───(γ(r, t)) - ──\n",
       "⎢                                                                 ──(γ(r, t))                                          ⎜  2              \n",
       "⎢                                       ∂           ∂             ∂t                                                   ⎝∂r             ∂t\n",
       "⎢                                   - 2⋅──(ψ(r, t))⋅──(ψ(r, t)) + ───────────                                      ──────────────────────\n",
       "⎢                                       ∂r          ∂t                 r                                                                 \n",
       "⎢                                                                                                                                        \n",
       "⎢                                                                                                                                        \n",
       "⎢                                                                                                                                        \n",
       "⎢                                                       0                                                                                \n",
       "⎢                                                                                                                                        \n",
       "⎢                                                                                                                                        \n",
       "⎢                                                                                                                                        \n",
       "⎢                                                                                                                                        \n",
       "⎢                                                                                                                                        \n",
       "⎢                                                                                                                                        \n",
       "⎢                                                                                                                                        \n",
       "⎢                                                                                                                                        \n",
       "⎢                                                       0                                                                                \n",
       "⎣                                                                                                                                        \n",
       "\n",
       "                                                                                                                                         \n",
       "                                                                                                                                         \n",
       "                                          ∂                                                                                              \n",
       "                                          ──(γ(r, t))                                                                                    \n",
       "                ∂           ∂             ∂t                                                                                             \n",
       "            - 2⋅──(ψ(r, t))⋅──(ψ(r, t)) + ───────────                                                                   0                \n",
       "                ∂r          ∂t                 r                                                                                         \n",
       "                                                                                                                                         \n",
       "2                           2     2              2         ⎞                                                                             \n",
       "               ⎛∂          ⎞     ∂              ∂          ⎟   ∂             ∂                                                           \n",
       "─(γ(r, t)) + 2⋅⎜──(ψ(r, t))⎟  - ───(ψ(r, t)) + ───(ψ(r, t))⎟ + ──(γ(r, t)) + ──(ψ(r, t))                                                 \n",
       "2              ⎝∂r         ⎠      2              2         ⎟   ∂r            ∂r                                                          \n",
       "                                ∂r             ∂t          ⎠                                                                             \n",
       "────────────────────────────────────────────────────────────────────────────────────────                                0                \n",
       "                                r                                                                                                        \n",
       "                                                                                                                                         \n",
       "                                                                                            ⎛    2                2                      \n",
       "                                                                                            ⎜   ∂                ∂             ∂         \n",
       "                                0                                                         r⋅⎜r⋅───(ψ(r, t)) - r⋅───(ψ(r, t)) + ──(ψ(r, t)\n",
       "                                                                                            ⎜    2                2            ∂r        \n",
       "                                                                                            ⎝  ∂r               ∂t                       \n",
       "                                                                                                                                         \n",
       "                                                                                                                                         \n",
       "                                                                                                                                         \n",
       "                                                                                                                                         \n",
       "                                                                                                                                         \n",
       "                                                                                                                                         \n",
       "                                0                                                                                       0                \n",
       "                                                                                                                                         \n",
       "\n",
       "                                                                                         ⎤\n",
       "                                                                                         ⎥\n",
       "                                                                                         ⎥\n",
       "                                                                                         ⎥\n",
       "                                                                                         ⎥\n",
       "                                                    0                                    ⎥\n",
       "                                                                                         ⎥\n",
       "                                                                                         ⎥\n",
       "                                                                                         ⎥\n",
       "                                                                                         ⎥\n",
       "                                                                                         ⎥\n",
       "                                                                                         ⎥\n",
       "                                                                                         ⎥\n",
       "                                                    0                                    ⎥\n",
       "                                                                                         ⎥\n",
       "                                                                                         ⎥\n",
       " ⎞                                                                                       ⎥\n",
       " ⎟  -2⋅γ(r, t)                                                                           ⎥\n",
       ")⎟⋅ℯ                                                0                                    ⎥\n",
       " ⎟                                                                                       ⎥\n",
       " ⎠                                                                                       ⎥\n",
       "                                                                                         ⎥\n",
       "                ⎛      2                2                       ⎞                        ⎥\n",
       "                ⎜     ∂                ∂             ∂          ⎟  -2⋅γ(r, t) + 4⋅ψ(r, t)⎥\n",
       "                ⎜- r⋅───(ψ(r, t)) + r⋅───(ψ(r, t)) - ──(ψ(r, t))⎟⋅ℯ                      ⎥\n",
       "                ⎜      2                2            ∂r         ⎟                        ⎥\n",
       "                ⎝    ∂r               ∂t                        ⎠                        ⎥\n",
       "                ─────────────────────────────────────────────────────────────────────────⎥\n",
       "                                                    r                                    ⎦"
      ]
     },
     "execution_count": 22,
     "metadata": {},
     "output_type": "execute_result"
    }
   ],
   "source": [
    "ricciSimplified = simplify(Ric.tensor())\n",
    "ricciSimplified"
   ]
  },
  {
   "cell_type": "code",
   "execution_count": 23,
   "id": "2f679b60",
   "metadata": {},
   "outputs": [
    {
     "data": {
      "text/latex": [
       "$\\displaystyle \\left[\\begin{matrix}- 1.0 \\left(\\frac{\\partial}{\\partial r} \\psi{\\left(r,t \\right)}\\right)^{2} - 1.0 \\left(\\frac{\\partial}{\\partial t} \\psi{\\left(r,t \\right)}\\right)^{2} + \\frac{1.0 \\frac{\\partial}{\\partial r} \\gamma{\\left(r,t \\right)}}{r} & - 2 \\frac{\\partial}{\\partial r} \\psi{\\left(r,t \\right)} \\frac{\\partial}{\\partial t} \\psi{\\left(r,t \\right)} + \\frac{\\frac{\\partial}{\\partial t} \\gamma{\\left(r,t \\right)}}{r} & 0 & 0\\\\- 2 \\frac{\\partial}{\\partial r} \\psi{\\left(r,t \\right)} \\frac{\\partial}{\\partial t} \\psi{\\left(r,t \\right)} + \\frac{\\frac{\\partial}{\\partial t} \\gamma{\\left(r,t \\right)}}{r} & - 1.0 \\left(\\frac{\\partial}{\\partial r} \\psi{\\left(r,t \\right)}\\right)^{2} - 1.0 \\left(\\frac{\\partial}{\\partial t} \\psi{\\left(r,t \\right)}\\right)^{2} + \\frac{1.0 \\frac{\\partial}{\\partial r} \\gamma{\\left(r,t \\right)}}{r} & 0 & 0\\\\0 & 0 & 1.0 r^{2} \\left(\\frac{\\partial^{2}}{\\partial r^{2}} \\gamma{\\left(r,t \\right)} - \\frac{\\partial^{2}}{\\partial t^{2}} \\gamma{\\left(r,t \\right)} + \\left(\\frac{\\partial}{\\partial r} \\psi{\\left(r,t \\right)}\\right)^{2} - \\left(\\frac{\\partial}{\\partial t} \\psi{\\left(r,t \\right)}\\right)^{2}\\right) e^{- 2 \\gamma{\\left(r,t \\right)}} & 0\\\\0 & 0 & 0 & \\frac{\\left(1.0 r \\frac{\\partial^{2}}{\\partial r^{2}} \\gamma{\\left(r,t \\right)} - 1.0 r \\frac{\\partial^{2}}{\\partial t^{2}} \\gamma{\\left(r,t \\right)} + 1.0 r \\left(\\frac{\\partial}{\\partial r} \\psi{\\left(r,t \\right)}\\right)^{2} - 2.0 r \\frac{\\partial^{2}}{\\partial r^{2}} \\psi{\\left(r,t \\right)} - 1.0 r \\left(\\frac{\\partial}{\\partial t} \\psi{\\left(r,t \\right)}\\right)^{2} + 2.0 r \\frac{\\partial^{2}}{\\partial t^{2}} \\psi{\\left(r,t \\right)} - 2.0 \\frac{\\partial}{\\partial r} \\psi{\\left(r,t \\right)}\\right) e^{- 2 \\gamma{\\left(r,t \\right)} + 4 \\psi{\\left(r,t \\right)}}}{r}\\end{matrix}\\right]$"
      ],
      "text/plain": [
       "⎡                                        ∂                                               ∂                                               \n",
       "⎢               2                2   1.0⋅──(γ(r, t))                                     ──(γ(r, t))                                     \n",
       "⎢  ⎛∂          ⎞    ⎛∂          ⎞        ∂r                    ∂           ∂             ∂t                                              \n",
       "⎢- ⎜──(ψ(r, t))⎟  - ⎜──(ψ(r, t))⎟  + ───────────────       - 2⋅──(ψ(r, t))⋅──(ψ(r, t)) + ───────────                                     \n",
       "⎢  ⎝∂r         ⎠    ⎝∂t         ⎠           r                  ∂r          ∂t                 r                                          \n",
       "⎢                                                                                                                                        \n",
       "⎢                                   ∂                                                         ∂                                          \n",
       "⎢                                   ──(γ(r, t))                      2                2   1.0⋅──(γ(r, t))                                \n",
       "⎢         ∂           ∂             ∂t                  ⎛∂          ⎞    ⎛∂          ⎞        ∂r                                         \n",
       "⎢     - 2⋅──(ψ(r, t))⋅──(ψ(r, t)) + ───────────       - ⎜──(ψ(r, t))⎟  - ⎜──(ψ(r, t))⎟  + ───────────────                                \n",
       "⎢         ∂r          ∂t                 r              ⎝∂r         ⎠    ⎝∂t         ⎠           r                                       \n",
       "⎢                                                                                                                                        \n",
       "⎢                                                                                                                 ⎛  2              2    \n",
       "⎢                                                                                                               2 ⎜ ∂              ∂     \n",
       "⎢                         0                                                    0                           1.0⋅r ⋅⎜───(γ(r, t)) - ───(γ(r\n",
       "⎢                                                                                                                 ⎜  2              2    \n",
       "⎢                                                                                                                 ⎝∂r             ∂t     \n",
       "⎢                                                                                                                                        \n",
       "⎢                                                                                                                                        \n",
       "⎢                                                                                                                                        \n",
       "⎢                                                                                                                                        \n",
       "⎢                                                                                                                                        \n",
       "⎢                                                                                                                                        \n",
       "⎢                         0                                                    0                                                         \n",
       "⎣                                                                                                                                        \n",
       "\n",
       "                                                                                                                                         \n",
       "                                                                                                                                         \n",
       "                                                                                                                                         \n",
       "          0                                                                                                                            0 \n",
       "                                                                                                                                         \n",
       "                                                                                                                                         \n",
       "                                                                                                                                         \n",
       "                                                                                                                                         \n",
       "                                                                                                                                         \n",
       "          0                                                                                                                            0 \n",
       "                                                                                                                                         \n",
       "                                                                                                                                         \n",
       "                     2                2⎞                                                                                                 \n",
       "        ⎛∂          ⎞    ⎛∂          ⎞ ⎟  -2⋅γ(r, t)                                                                                     \n",
       ", t)) + ⎜──(ψ(r, t))⎟  - ⎜──(ψ(r, t))⎟ ⎟⋅ℯ                                                                                             0 \n",
       "        ⎝∂r         ⎠    ⎝∂t         ⎠ ⎟                                                                                                 \n",
       "                                       ⎠                                                                                                 \n",
       "                                                                                                                                         \n",
       "                                                      ⎛        2                2                               2           2            \n",
       "                                                      ⎜       ∂                ∂                   ⎛∂          ⎞           ∂             \n",
       "                                                      ⎜1.0⋅r⋅───(γ(r, t)) - r⋅───(γ(r, t)) + 1.0⋅r⋅⎜──(ψ(r, t))⎟  - 2.0⋅r⋅───(ψ(r, t)) - \n",
       "                                                      ⎜        2                2                  ⎝∂r         ⎠            2            \n",
       "                                                      ⎝      ∂r               ∂t                                          ∂r             \n",
       "          0                                           ───────────────────────────────────────────────────────────────────────────────────\n",
       "                                                                                                                                       r \n",
       "\n",
       "                                                                                ⎤\n",
       "                                                                                ⎥\n",
       "                                                                                ⎥\n",
       "                                                                                ⎥\n",
       "                                                                                ⎥\n",
       "                                                                                ⎥\n",
       "                                                                                ⎥\n",
       "                                                                                ⎥\n",
       "                                                                                ⎥\n",
       "                                                                                ⎥\n",
       "                                                                                ⎥\n",
       "                                                                                ⎥\n",
       "                                                                                ⎥\n",
       "                                                                                ⎥\n",
       "                                                                                ⎥\n",
       "                                                                                ⎥\n",
       "                                                                                ⎥\n",
       "                                                                                ⎥\n",
       "               2           2                           ⎞                        ⎥\n",
       "  ⎛∂          ⎞           ∂                 ∂          ⎟  -2⋅γ(r, t) + 4⋅ψ(r, t)⎥\n",
       "r⋅⎜──(ψ(r, t))⎟  + 2.0⋅r⋅───(ψ(r, t)) - 2.0⋅──(ψ(r, t))⎟⋅ℯ                      ⎥\n",
       "  ⎝∂t         ⎠            2                ∂r         ⎟                        ⎥\n",
       "                         ∂t                            ⎠                        ⎥\n",
       "────────────────────────────────────────────────────────────────────────────────⎥\n",
       "                                                                                ⎦"
      ]
     },
     "execution_count": 23,
     "metadata": {},
     "output_type": "execute_result"
    }
   ],
   "source": [
    "einsteinSimplifed = simplify(einst.tensor())\n",
    "einsteinSimplifed"
   ]
  },
  {
   "cell_type": "code",
   "execution_count": 24,
   "id": "ed7540db",
   "metadata": {},
   "outputs": [
    {
     "data": {
      "image/png": "[encoded data removed]",
      "text/latex": [
       "$\\displaystyle - \\frac{\\partial^{2}}{\\partial r^{2}} \\psi{\\left(r,t \\right)} + \\frac{\\partial^{2}}{\\partial t^{2}} \\psi{\\left(r,t \\right)} - \\frac{\\frac{\\partial}{\\partial r} \\psi{\\left(r,t \\right)}}{r} = 0$"
      ],
      "text/plain": [
       "                                ∂              \n",
       "    2              2            ──(ψ(r, t))    \n",
       "   ∂              ∂             ∂r             \n",
       "- ───(ψ(r, t)) + ───(ψ(r, t)) - ─────────── = 0\n",
       "    2              2                 r         \n",
       "  ∂r             ∂t                            "
      ]
     },
     "execution_count": 24,
     "metadata": {},
     "output_type": "execute_result"
    }
   ],
   "source": [
    "psiWave = Eq(expand((-1/r)*ricciSimplified[2,2].args[1]),0)\n",
    "psiWave "
   ]
  },
  {
   "cell_type": "code",
   "execution_count": 25,
   "id": "c2695d4a",
   "metadata": {},
   "outputs": [
    {
     "data": {
      "image/png": "[encoded data removed]",
      "text/latex": [
       "$\\displaystyle \\frac{\\partial}{\\partial t} \\gamma{\\left(r,t \\right)} = 2 r \\frac{\\partial}{\\partial r} \\psi{\\left(r,t \\right)} \\frac{\\partial}{\\partial t} \\psi{\\left(r,t \\right)}$"
      ],
      "text/plain": [
       "∂                 ∂           ∂          \n",
       "──(γ(r, t)) = 2⋅r⋅──(ψ(r, t))⋅──(ψ(r, t))\n",
       "∂t                ∂r          ∂t         "
      ]
     },
     "execution_count": 25,
     "metadata": {},
     "output_type": "execute_result"
    }
   ],
   "source": [
    "dgammadt = Eq(diff(gamma,t),solve( Ric.tensor()[0,1] , diff(gamma,t) )[0])\n",
    "dgammadt"
   ]
  },
  {
   "cell_type": "code",
   "execution_count": 26,
   "id": "213b61bf",
   "metadata": {},
   "outputs": [
    {
     "data": {
      "image/png": "[encoded data removed]",
      "text/latex": [
       "$\\displaystyle \\frac{\\partial}{\\partial r} \\gamma{\\left(r,t \\right)} = r \\left(\\left(\\frac{\\partial}{\\partial r} \\psi{\\left(r,t \\right)}\\right)^{2} + \\left(\\frac{\\partial}{\\partial t} \\psi{\\left(r,t \\right)}\\right)^{2}\\right)$"
      ],
      "text/plain": [
       "                ⎛             2                2⎞\n",
       "∂               ⎜⎛∂          ⎞    ⎛∂          ⎞ ⎟\n",
       "──(γ(r, t)) = r⋅⎜⎜──(ψ(r, t))⎟  + ⎜──(ψ(r, t))⎟ ⎟\n",
       "∂r              ⎝⎝∂r         ⎠    ⎝∂t         ⎠ ⎠"
      ]
     },
     "execution_count": 26,
     "metadata": {},
     "output_type": "execute_result"
    }
   ],
   "source": [
    "dgammadr = Eq( diff(gamma,r),solve( simplify( ricciSimplified[0,0].args[1] + ricciSimplified[1,1].args[1] ) , diff(gamma,r) )[0])\n",
    "dgammadr"
   ]
  },
  {
   "cell_type": "code",
   "execution_count": 29,
   "id": "35a6ea3b",
   "metadata": {},
   "outputs": [
    {
     "data": {
      "text/latex": [
       "$\\displaystyle \\left[\\begin{matrix}- \\frac{\\partial^{2}}{\\partial r^{2}} \\psi{\\left(r,t \\right)} + \\frac{\\partial^{2}}{\\partial t^{2}} \\psi{\\left(r,t \\right)} - \\frac{\\frac{\\partial}{\\partial r} \\psi{\\left(r,t \\right)}}{r} = 0\\\\\\frac{\\partial}{\\partial t} \\gamma{\\left(r,t \\right)} = 2 r \\frac{\\partial}{\\partial r} \\psi{\\left(r,t \\right)} \\frac{\\partial}{\\partial t} \\psi{\\left(r,t \\right)}\\\\\\frac{\\partial}{\\partial r} \\gamma{\\left(r,t \\right)} = r \\left(\\left(\\frac{\\partial}{\\partial r} \\psi{\\left(r,t \\right)}\\right)^{2} + \\left(\\frac{\\partial}{\\partial t} \\psi{\\left(r,t \\right)}\\right)^{2}\\right)\\end{matrix}\\right]$"
      ],
      "text/plain": [
       "⎡                                 ∂               ⎤\n",
       "⎢     2              2            ──(ψ(r, t))     ⎥\n",
       "⎢    ∂              ∂             ∂r              ⎥\n",
       "⎢ - ───(ψ(r, t)) + ───(ψ(r, t)) - ─────────── = 0 ⎥\n",
       "⎢     2              2                 r          ⎥\n",
       "⎢   ∂r             ∂t                             ⎥\n",
       "⎢                                                 ⎥\n",
       "⎢    ∂                 ∂           ∂              ⎥\n",
       "⎢    ──(γ(r, t)) = 2⋅r⋅──(ψ(r, t))⋅──(ψ(r, t))    ⎥\n",
       "⎢    ∂t                ∂r          ∂t             ⎥\n",
       "⎢                                                 ⎥\n",
       "⎢                ⎛             2                2⎞⎥\n",
       "⎢∂               ⎜⎛∂          ⎞    ⎛∂          ⎞ ⎟⎥\n",
       "⎢──(γ(r, t)) = r⋅⎜⎜──(ψ(r, t))⎟  + ⎜──(ψ(r, t))⎟ ⎟⎥\n",
       "⎣∂r              ⎝⎝∂r         ⎠    ⎝∂t         ⎠ ⎠⎦"
      ]
     },
     "execution_count": 29,
     "metadata": {},
     "output_type": "execute_result"
    }
   ],
   "source": [
    "vacuumFieldEquations = Matrix([psiWave,dgammadt,dgammadr])\n",
    "vacuumFieldEquations"
   ]
  },
  {
   "cell_type": "code",
   "execution_count": 31,
   "id": "d51c5d6b",
   "metadata": {},
   "outputs": [],
   "source": [
    "X, Y = map(Function, 'XY')"
   ]
  },
  {
   "cell_type": "code",
   "execution_count": 32,
   "id": "959ecb9d",
   "metadata": {},
   "outputs": [
    {
     "data": {
      "image/png": "[encoded data removed]",
      "text/latex": [
       "$\\displaystyle - \\frac{\\partial^{2}}{\\partial r^{2}} \\psi{\\left(r,t \\right)} + \\frac{\\partial^{2}}{\\partial t^{2}} \\psi{\\left(r,t \\right)} - \\frac{\\frac{\\partial}{\\partial r} \\psi{\\left(r,t \\right)}}{r} = 0$"
      ],
      "text/plain": [
       "                                ∂              \n",
       "    2              2            ──(ψ(r, t))    \n",
       "   ∂              ∂             ∂r             \n",
       "- ───(ψ(r, t)) + ───(ψ(r, t)) - ─────────── = 0\n",
       "    2              2                 r         \n",
       "  ∂r             ∂t                            "
      ]
     },
     "execution_count": 32,
     "metadata": {},
     "output_type": "execute_result"
    }
   ],
   "source": [
    "eq = vacuumFieldEquations[0]\n",
    "eq"
   ]
  },
  {
   "cell_type": "code",
   "execution_count": 33,
   "id": "7ddbc645",
   "metadata": {},
   "outputs": [
    {
     "data": {
      "image/png": "[encoded data removed]",
      "text/latex": [
       "$\\displaystyle \\frac{\\frac{d^{2}}{d r^{2}} X{\\left(r \\right)}}{X{\\left(r \\right)}} + \\frac{\\frac{d}{d r} X{\\left(r \\right)}}{r X{\\left(r \\right)}} = k^{2}$"
      ],
      "text/plain": [
       "  2                      \n",
       " d                       \n",
       "───(X(r))   d            \n",
       "  2         ──(X(r))     \n",
       "dr          dr          2\n",
       "───────── + ──────── = k \n",
       "   X(r)      r⋅X(r)      "
      ]
     },
     "execution_count": 33,
     "metadata": {},
     "output_type": "execute_result"
    }
   ],
   "source": [
    "xODE = Eq(pde_separate( eq, psi, [X(r),Y(t)])[0] , k**2 ) \n",
    "xODE"
   ]
  },
  {
   "cell_type": "code",
   "execution_count": 35,
   "id": "f78ed0bf",
   "metadata": {},
   "outputs": [
    {
     "data": {
      "image/png": "[encoded data removed]",
      "text/latex": [
       "$\\displaystyle X{\\left(r \\right)} = C_{1} I_{0}\\left(r \\left|{k}\\right|\\right) + C_{2} Y_{0}\\left(i r \\left|{k}\\right|\\right)$"
      ],
      "text/plain": [
       "X(r) = C₁⋅besseli(0, r⋅│k│) + C₂⋅bessely(0, ⅈ⋅r⋅│k│)"
      ]
     },
     "execution_count": 35,
     "metadata": {},
     "output_type": "execute_result"
    }
   ],
   "source": [
    "xSolution = dsolve( xODE , X(r))\n",
    "xSolution "
   ]
  },
  {
   "cell_type": "code",
   "execution_count": 36,
   "id": "351eb894",
   "metadata": {},
   "outputs": [
    {
     "data": {
      "image/png": "[encoded data removed]",
      "text/latex": [
       "$\\displaystyle X{\\left(r \\right)} = I_{0}\\left(r \\left|{k}\\right|\\right) + Y_{0}\\left(i r \\left|{k}\\right|\\right)$"
      ],
      "text/plain": [
       "X(r) = besseli(0, r⋅│k│) + bessely(0, ⅈ⋅r⋅│k│)"
      ]
     },
     "execution_count": 36,
     "metadata": {},
     "output_type": "execute_result"
    }
   ],
   "source": [
    "xSolutionParticular = xSolution.subs(xSolution.args[1].args[0].args[0],1).subs(xSolution.args[1].args[1].args[0],1)\n",
    "xSolutionParticular"
   ]
  },
  {
   "cell_type": "code",
   "execution_count": 38,
   "id": "33838cb9",
   "metadata": {},
   "outputs": [
    {
     "data": {
      "image/png": "[encoded data removed]",
      "text/latex": [
       "$\\displaystyle \\frac{\\frac{d^{2}}{d t^{2}} Y{\\left(t \\right)}}{Y{\\left(t \\right)}} = - k^{2}$"
      ],
      "text/plain": [
       "  2            \n",
       " d             \n",
       "───(Y(t))      \n",
       "  2            \n",
       "dt            2\n",
       "───────── = -k \n",
       "   Y(t)        "
      ]
     },
     "execution_count": 38,
     "metadata": {},
     "output_type": "execute_result"
    }
   ],
   "source": [
    "yODE = Eq( pde_separate( eq, psi, [X(r),Y(t)])[1] , - k**2 ) \n",
    "yODE"
   ]
  },
  {
   "cell_type": "code",
   "execution_count": 39,
   "id": "cf09bc0f",
   "metadata": {},
   "outputs": [
    {
     "data": {
      "image/png": "[encoded data removed]",
      "text/latex": [
       "$\\displaystyle Y{\\left(t \\right)} = C_{1} \\sin{\\left(t \\left|{k}\\right| \\right)} + C_{2} \\cos{\\left(k t \\right)}$"
      ],
      "text/plain": [
       "Y(t) = C₁⋅sin(t⋅│k│) + C₂⋅cos(k⋅t)"
      ]
     },
     "execution_count": 39,
     "metadata": {},
     "output_type": "execute_result"
    }
   ],
   "source": [
    "ySolution = dsolve( yODE , Y(t))\n",
    "ySolution "
   ]
  },
  {
   "cell_type": "code",
   "execution_count": 40,
   "id": "8bfc504b",
   "metadata": {},
   "outputs": [
    {
     "data": {
      "image/png": "[encoded data removed]",
      "text/latex": [
       "$\\displaystyle Y{\\left(t \\right)} = \\sin{\\left(t \\left|{k}\\right| \\right)} + \\cos{\\left(k t \\right)}$"
      ],
      "text/plain": [
       "Y(t) = sin(t⋅│k│) + cos(k⋅t)"
      ]
     },
     "execution_count": 40,
     "metadata": {},
     "output_type": "execute_result"
    }
   ],
   "source": [
    "ySolutionParticular = ySolution.subs(ySolution.args[1].args[0].args[0],1).subs(ySolution.args[1].args[1].args[0],1)\n",
    "ySolutionParticular"
   ]
  },
  {
   "cell_type": "code",
   "execution_count": 41,
   "id": "4a952684",
   "metadata": {},
   "outputs": [
    {
     "data": {
      "image/png": "[encoded data removed]",
      "text/latex": [
       "$\\displaystyle \\sum_{k=1}^{2} \\left(\\sin{\\left(t \\left|{k}\\right| \\right)} + \\cos{\\left(k t \\right)}\\right) \\left(I_{0}\\left(r \\left|{k}\\right|\\right) + Y_{0}\\left(i r \\left|{k}\\right|\\right)\\right)$"
      ],
      "text/plain": [
       "  2                                                                    \n",
       " ___                                                                   \n",
       " ╲                                                                     \n",
       "  ╲                                                                    \n",
       "  ╱   (sin(t⋅│k│) + cos(k⋅t))⋅(besseli(0, r⋅│k│) + bessely(0, ⅈ⋅r⋅│k│))\n",
       " ╱                                                                     \n",
       " ‾‾‾                                                                   \n",
       "k = 1                                                                  "
      ]
     },
     "execution_count": 41,
     "metadata": {},
     "output_type": "execute_result"
    }
   ],
   "source": [
    "#  Here we arbitrary pick just two terms as an example... \n",
    "Sum( ( xSolutionParticular.args[1] * ySolutionParticular.args[1] ) ,(k,1,2) )"
   ]
  },
  {
   "cell_type": "code",
   "execution_count": 42,
   "id": "d71bb44e",
   "metadata": {},
   "outputs": [
    {
     "data": {
      "image/png": "[encoded data removed]",
      "text/latex": [
       "$\\displaystyle \\psi{\\left(r,t \\right)} = \\left(\\sin{\\left(t \\right)} + \\cos{\\left(t \\right)}\\right) \\left(I_{0}\\left(r\\right) + Y_{0}\\left(i r\\right)\\right) + \\left(\\sin{\\left(2 t \\right)} + \\cos{\\left(2 t \\right)}\\right) \\left(I_{0}\\left(2 r\\right) + Y_{0}\\left(2 i r\\right)\\right)$"
      ],
      "text/plain": [
       "ψ(r, t) = (sin(t) + cos(t))⋅(besseli(0, r) + bessely(0, ⅈ⋅r)) + (sin(2⋅t) + cos(2⋅t))⋅(besseli(0, 2⋅r) + bessely(0, 2⋅ⅈ⋅r))"
      ]
     },
     "execution_count": 42,
     "metadata": {},
     "output_type": "execute_result"
    }
   ],
   "source": [
    "psiSumTwoTerms = Eq(psi, Sum( ( xSolutionParticular.args[1] * ySolutionParticular.args[1] ) ,(k,1,2) ).doit() ) \n",
    "psiSumTwoTerms"
   ]
  },
  {
   "cell_type": "code",
   "execution_count": 43,
   "id": "e37b2c61",
   "metadata": {},
   "outputs": [
    {
     "data": {
      "image/png": "[encoded data removed]",
      "text/latex": [
       "$\\displaystyle \\sin{\\left(t \\right)} I_{0}\\left(r\\right) + \\sin{\\left(t \\right)} Y_{0}\\left(i r\\right) + \\sin{\\left(2 t \\right)} I_{0}\\left(2 r\\right) + \\sin{\\left(2 t \\right)} Y_{0}\\left(2 i r\\right) + \\cos{\\left(t \\right)} I_{0}\\left(r\\right) + \\cos{\\left(t \\right)} Y_{0}\\left(i r\\right) + \\cos{\\left(2 t \\right)} I_{0}\\left(2 r\\right) + \\cos{\\left(2 t \\right)} Y_{0}\\left(2 i r\\right)$"
      ],
      "text/plain": [
       "sin(t)⋅besseli(0, r) + sin(t)⋅bessely(0, ⅈ⋅r) + sin(2⋅t)⋅besseli(0, 2⋅r) + sin(2⋅t)⋅bessely(0, 2⋅ⅈ⋅r) + cos(t)⋅besseli(0, r) + cos(t)⋅bes\n",
       "sely(0, ⅈ⋅r) + cos(2⋅t)⋅besseli(0, 2⋅r) + cos(2⋅t)⋅bessely(0, 2⋅ⅈ⋅r)"
      ]
     },
     "execution_count": 43,
     "metadata": {},
     "output_type": "execute_result"
    }
   ],
   "source": [
    "expand( Sum( ( xSolutionParticular.args[1] * ySolutionParticular.args[1] ) ,(k,1,2) ).doit() ) "
   ]
  },
  {
   "cell_type": "code",
   "execution_count": 45,
   "id": "6c39a189",
   "metadata": {},
   "outputs": [
    {
     "data": {
      "image/png": "[encoded data removed]",
      "text/latex": [
       "$\\displaystyle \\frac{\\partial}{\\partial r} \\gamma{\\left(r,t \\right)} = r \\left(\\left(\\frac{\\partial}{\\partial r} \\left(\\left(\\sin{\\left(t \\right)} + \\cos{\\left(t \\right)}\\right) \\left(I_{0}\\left(r\\right) + Y_{0}\\left(i r\\right)\\right) + \\left(\\sin{\\left(2 t \\right)} + \\cos{\\left(2 t \\right)}\\right) \\left(I_{0}\\left(2 r\\right) + Y_{0}\\left(2 i r\\right)\\right)\\right)\\right)^{2} + \\left(\\frac{\\partial}{\\partial t} \\left(\\left(\\sin{\\left(t \\right)} + \\cos{\\left(t \\right)}\\right) \\left(I_{0}\\left(r\\right) + Y_{0}\\left(i r\\right)\\right) + \\left(\\sin{\\left(2 t \\right)} + \\cos{\\left(2 t \\right)}\\right) \\left(I_{0}\\left(2 r\\right) + Y_{0}\\left(2 i r\\right)\\right)\\right)\\right)^{2}\\right)$"
      ],
      "text/plain": [
       "                ⎛                                                                                                                       2\n",
       "∂               ⎜⎛∂                                                                                                                    ⎞ \n",
       "──(γ(r, t)) = r⋅⎜⎜──((sin(t) + cos(t))⋅(besseli(0, r) + bessely(0, ⅈ⋅r)) + (sin(2⋅t) + cos(2⋅t))⋅(besseli(0, 2⋅r) + bessely(0, 2⋅ⅈ⋅r)))⎟ \n",
       "∂r              ⎝⎝∂r                                                                                                                   ⎠ \n",
       "\n",
       "                                                                                                                          2⎞\n",
       "   ⎛∂                                                                                                                    ⎞ ⎟\n",
       " + ⎜──((sin(t) + cos(t))⋅(besseli(0, r) + bessely(0, ⅈ⋅r)) + (sin(2⋅t) + cos(2⋅t))⋅(besseli(0, 2⋅r) + bessely(0, 2⋅ⅈ⋅r)))⎟ ⎟\n",
       "   ⎝∂t                                                                                                                   ⎠ ⎠"
      ]
     },
     "execution_count": 45,
     "metadata": {},
     "output_type": "execute_result"
    }
   ],
   "source": [
    "dgammadrPDE = vacuumFieldEquations[2].subs(psiSumTwoTerms.args[0],psiSumTwoTerms.args[1])\n",
    "dgammadrPDE"
   ]
  },
  {
   "cell_type": "code",
   "execution_count": 46,
   "id": "5e9cc625",
   "metadata": {},
   "outputs": [
    {
     "data": {
      "image/png": "[encoded data removed]",
      "text/latex": [
       "$\\displaystyle \\frac{\\partial}{\\partial r} \\gamma{\\left(r,t \\right)} = r \\left(\\left(\\left(- \\sin{\\left(t \\right)} + \\cos{\\left(t \\right)}\\right) \\left(I_{0}\\left(r\\right) + Y_{0}\\left(i r\\right)\\right) + \\left(- 2 \\sin{\\left(2 t \\right)} + 2 \\cos{\\left(2 t \\right)}\\right) \\left(I_{0}\\left(2 r\\right) + Y_{0}\\left(2 i r\\right)\\right)\\right)^{2} + \\left(\\left(\\sin{\\left(t \\right)} + \\cos{\\left(t \\right)}\\right) \\left(I_{1}\\left(r\\right) - i Y_{1}\\left(i r\\right)\\right) + \\left(\\sin{\\left(2 t \\right)} + \\cos{\\left(2 t \\right)}\\right) \\left(2 I_{1}\\left(2 r\\right) - 2 i Y_{1}\\left(2 i r\\right)\\right)\\right)^{2}\\right)$"
      ],
      "text/plain": [
       "∂               ⎛                                                                                                                        \n",
       "──(γ(r, t)) = r⋅⎝((-sin(t) + cos(t))⋅(besseli(0, r) + bessely(0, ⅈ⋅r)) + (-2⋅sin(2⋅t) + 2⋅cos(2⋅t))⋅(besseli(0, 2⋅r) + bessely(0, 2⋅ⅈ⋅r))\n",
       "∂r                                                                                                                                       \n",
       "\n",
       " 2                                                                                                                              2⎞\n",
       ")  + ((sin(t) + cos(t))⋅(besseli(1, r) - ⅈ⋅bessely(1, ⅈ⋅r)) + (sin(2⋅t) + cos(2⋅t))⋅(2⋅besseli(1, 2⋅r) - 2⋅ⅈ⋅bessely(1, 2⋅ⅈ⋅r))) ⎠\n",
       "                                                                                                                                  "
      ]
     },
     "execution_count": 46,
     "metadata": {},
     "output_type": "execute_result"
    }
   ],
   "source": [
    "dgammadrPDE.doit()"
   ]
  },
  {
   "cell_type": "code",
   "execution_count": 48,
   "id": "2832788a",
   "metadata": {},
   "outputs": [],
   "source": [
    "#  expand(dgammadrPDE.doit())"
   ]
  },
  {
   "cell_type": "code",
   "execution_count": null,
   "id": "745ebde9",
   "metadata": {},
   "outputs": [],
   "source": [
    "#  pdsolve( dgammadxPDE )"
   ]
  },
  {
   "cell_type": "code",
   "execution_count": 49,
   "id": "c62eb15e",
   "metadata": {},
   "outputs": [
    {
     "data": {
      "image/png": "[encoded data removed]",
      "text/latex": [
       "$\\displaystyle \\frac{\\partial}{\\partial t} \\gamma{\\left(r,t \\right)} = 2 r \\frac{\\partial}{\\partial r} \\left(\\left(\\sin{\\left(t \\right)} + \\cos{\\left(t \\right)}\\right) \\left(I_{0}\\left(r\\right) + Y_{0}\\left(i r\\right)\\right) + \\left(\\sin{\\left(2 t \\right)} + \\cos{\\left(2 t \\right)}\\right) \\left(I_{0}\\left(2 r\\right) + Y_{0}\\left(2 i r\\right)\\right)\\right) \\frac{\\partial}{\\partial t} \\left(\\left(\\sin{\\left(t \\right)} + \\cos{\\left(t \\right)}\\right) \\left(I_{0}\\left(r\\right) + Y_{0}\\left(i r\\right)\\right) + \\left(\\sin{\\left(2 t \\right)} + \\cos{\\left(2 t \\right)}\\right) \\left(I_{0}\\left(2 r\\right) + Y_{0}\\left(2 i r\\right)\\right)\\right)$"
      ],
      "text/plain": [
       "∂                 ∂                                                                                                                     ∂\n",
       "──(γ(r, t)) = 2⋅r⋅──((sin(t) + cos(t))⋅(besseli(0, r) + bessely(0, ⅈ⋅r)) + (sin(2⋅t) + cos(2⋅t))⋅(besseli(0, 2⋅r) + bessely(0, 2⋅ⅈ⋅r)))⋅─\n",
       "∂t                ∂r                                                                                                                    ∂\n",
       "\n",
       "                                                                                                                    \n",
       "─((sin(t) + cos(t))⋅(besseli(0, r) + bessely(0, ⅈ⋅r)) + (sin(2⋅t) + cos(2⋅t))⋅(besseli(0, 2⋅r) + bessely(0, 2⋅ⅈ⋅r)))\n",
       "t                                                                                                                   "
      ]
     },
     "execution_count": 49,
     "metadata": {},
     "output_type": "execute_result"
    }
   ],
   "source": [
    "dgammadtPDE = vacuumFieldEquations[1].subs(psiSumTwoTerms.args[0],psiSumTwoTerms.args[1])\n",
    "dgammadtPDE"
   ]
  },
  {
   "cell_type": "code",
   "execution_count": 50,
   "id": "c9ad0c0a",
   "metadata": {},
   "outputs": [
    {
     "data": {
      "image/png": "[encoded data removed]",
      "text/latex": [
       "$\\displaystyle \\frac{\\partial}{\\partial t} \\gamma{\\left(r,t \\right)} = 2 r \\left(\\left(- \\sin{\\left(t \\right)} + \\cos{\\left(t \\right)}\\right) \\left(I_{0}\\left(r\\right) + Y_{0}\\left(i r\\right)\\right) + \\left(- 2 \\sin{\\left(2 t \\right)} + 2 \\cos{\\left(2 t \\right)}\\right) \\left(I_{0}\\left(2 r\\right) + Y_{0}\\left(2 i r\\right)\\right)\\right) \\left(\\left(\\sin{\\left(t \\right)} + \\cos{\\left(t \\right)}\\right) \\left(I_{1}\\left(r\\right) - i Y_{1}\\left(i r\\right)\\right) + \\left(\\sin{\\left(2 t \\right)} + \\cos{\\left(2 t \\right)}\\right) \\left(2 I_{1}\\left(2 r\\right) - 2 i Y_{1}\\left(2 i r\\right)\\right)\\right)$"
      ],
      "text/plain": [
       "∂                                                                                                                                        \n",
       "──(γ(r, t)) = 2⋅r⋅((-sin(t) + cos(t))⋅(besseli(0, r) + bessely(0, ⅈ⋅r)) + (-2⋅sin(2⋅t) + 2⋅cos(2⋅t))⋅(besseli(0, 2⋅r) + bessely(0, 2⋅ⅈ⋅r)\n",
       "∂t                                                                                                                                       \n",
       "\n",
       "                                                                                                                              \n",
       "))⋅((sin(t) + cos(t))⋅(besseli(1, r) - ⅈ⋅bessely(1, ⅈ⋅r)) + (sin(2⋅t) + cos(2⋅t))⋅(2⋅besseli(1, 2⋅r) - 2⋅ⅈ⋅bessely(1, 2⋅ⅈ⋅r)))\n",
       "                                                                                                                              "
      ]
     },
     "execution_count": 50,
     "metadata": {},
     "output_type": "execute_result"
    }
   ],
   "source": [
    "dgammadtPDE.doit()"
   ]
  },
  {
   "cell_type": "code",
   "execution_count": 51,
   "id": "3c8a637b",
   "metadata": {},
   "outputs": [],
   "source": [
    "#  pdsolve( dgammadtPDE )"
   ]
  }
 ],
 "metadata": {
  "@webio": {
   "lastCommId": "3b886061e9a244bb92838487f8a6f4b0",
   "lastKernelId": "75696d53-06ec-489b-b6e7-5c32f84ce3b3"
  },
  "kernelspec": {
   "display_name": "Python 3 (ipykernel)",
   "language": "python",
   "name": "python3"
  },
  "language_info": {
   "codemirror_mode": {
    "name": "ipython",
    "version": 3
   },
   "file_extension": ".py",
   "mimetype": "text/x-python",
   "name": "python",
   "nbconvert_exporter": "python",
   "pygments_lexer": "ipython3",
   "version": "3.8.8"
  }
 },
 "nbformat": 4,
 "nbformat_minor": 5
}
