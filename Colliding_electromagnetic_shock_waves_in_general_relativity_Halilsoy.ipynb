{
 "cells": [
  {
   "cell_type": "markdown",
   "id": "e3ab4c75",
   "metadata": {},
   "source": [
    "# Colliding electromagnetic shock waves in general relativity by Halilsoy\n",
    "##  Geoff Cope\n",
    "##  Univeristy of Utah\n",
    "##  December 22, 2021"
   ]
  },
  {
   "cell_type": "markdown",
   "id": "5ae36e0e",
   "metadata": {},
   "source": [
    "PLEASE NOTE:  RAN INTO THE SAME PROBLEM WITH EhlersKundtRosen METRIC.  NOT SURE WHY RICCI TENSOR DOES NOT CALCULATE.  FIND OUT WHY.\n",
    "Here we calculate metric 1.  Will come back and do calculations for metic 3.  Most tensors are commented out and the function M has been changed to the function L.  No idea if that works, but it did for another notebook."
   ]
  },
  {
   "cell_type": "markdown",
   "id": "78b18d93",
   "metadata": {},
   "source": [
    "http://i-rep.emu.edu.tr:8080/jspui/bitstream/11129/2084/1/PhysRevD.37.2121.pdf"
   ]
  },
  {
   "cell_type": "code",
   "execution_count": null,
   "id": "f948a956",
   "metadata": {},
   "outputs": [],
   "source": [
    "from sympy import init_session\n",
    "init_session(use_latex=True)"
   ]
  },
  {
   "cell_type": "code",
   "execution_count": null,
   "id": "cf9db4d7",
   "metadata": {},
   "outputs": [],
   "source": [
    "import warnings\n",
    "import matplotlib.cbook\n",
    "warnings.filterwarnings(\"ignore\",category=matplotlib.cbook.mplDeprecation)"
   ]
  },
  {
   "cell_type": "code",
   "execution_count": null,
   "id": "4479f36c",
   "metadata": {},
   "outputs": [],
   "source": [
    "u,v,x,y,du,dv,dx,dy,M,U,V,W = symbols( 'u v x y du dv dx dy M U V W' ) "
   ]
  },
  {
   "cell_type": "code",
   "execution_count": null,
   "id": "3297ff9a",
   "metadata": {},
   "outputs": [],
   "source": [
    "L = Function('L')(u,v)\n",
    "L"
   ]
  },
  {
   "cell_type": "code",
   "execution_count": null,
   "id": "75815bfb",
   "metadata": {},
   "outputs": [],
   "source": [
    "U = Function('U')(u,v)\n",
    "U"
   ]
  },
  {
   "cell_type": "code",
   "execution_count": null,
   "id": "5304cf99",
   "metadata": {},
   "outputs": [],
   "source": [
    "V = Function('V')(u,v)\n",
    "V"
   ]
  },
  {
   "cell_type": "code",
   "execution_count": null,
   "id": "526bea92",
   "metadata": {},
   "outputs": [],
   "source": [
    "W = Function('W')(u,v)\n",
    "W"
   ]
  },
  {
   "cell_type": "code",
   "execution_count": null,
   "id": "96492e19",
   "metadata": {},
   "outputs": [],
   "source": [
    "variables = Matrix( [u,v,x,y] )\n",
    "variables"
   ]
  },
  {
   "cell_type": "code",
   "execution_count": null,
   "id": "41efad43",
   "metadata": {},
   "outputs": [],
   "source": [
    "differentials = Matrix( [du,dv,dx,dy] ) \n",
    "differentials"
   ]
  },
  {
   "cell_type": "code",
   "execution_count": null,
   "id": "047d3b76",
   "metadata": {},
   "outputs": [],
   "source": [
    "lineElement = expand(2*exp(-L)*du*dv - exp(-U) * ( exp(V)*cosh(W)*dx**2 - 2*sinh(W)*dx*dy + exp(-V)*cosh(W)*dy**2 ))\n",
    "lineElement"
   ]
  },
  {
   "cell_type": "code",
   "execution_count": null,
   "id": "23971a4d",
   "metadata": {},
   "outputs": [],
   "source": [
    "g = zeros(4)\n",
    "\n",
    "for i in range(4):\n",
    "    for j in range(4):\n",
    "        if i == j:\n",
    "            g[i,j] = lineElement.coeff( differentials[i],2 ) \n",
    "        else:\n",
    "            g[i,j] = Rational(1,2)*lineElement.coeff( differentials[i]*differentials[j],1 )\n",
    "            \n",
    "g"
   ]
  },
  {
   "cell_type": "code",
   "execution_count": null,
   "id": "807f6c93",
   "metadata": {},
   "outputs": [],
   "source": [
    "import sympy"
   ]
  },
  {
   "cell_type": "code",
   "execution_count": null,
   "id": "6697e856",
   "metadata": {},
   "outputs": [],
   "source": [
    "m = sympy.Array(g)\n",
    "m"
   ]
  },
  {
   "cell_type": "code",
   "execution_count": null,
   "id": "deb126d9",
   "metadata": {},
   "outputs": [],
   "source": [
    "from einsteinpy.symbolic import *"
   ]
  },
  {
   "cell_type": "code",
   "execution_count": null,
   "id": "4bba87e7",
   "metadata": {},
   "outputs": [],
   "source": [
    "syms = sympy.symbols(\"u v x y\")\n",
    "u,v,x,y = syms"
   ]
  },
  {
   "cell_type": "code",
   "execution_count": null,
   "id": "cea89ed6",
   "metadata": {},
   "outputs": [],
   "source": [
    "metric = MetricTensor(m,syms)"
   ]
  },
  {
   "cell_type": "code",
   "execution_count": null,
   "id": "7a3881ca",
   "metadata": {},
   "outputs": [],
   "source": [
    "ch = ChristoffelSymbols.from_metric(metric)\n",
    "simplify(ch.tensor())"
   ]
  },
  {
   "cell_type": "code",
   "execution_count": null,
   "id": "5db10ced",
   "metadata": {},
   "outputs": [],
   "source": [
    "Ric = RicciTensor.from_metric(metric)\n",
    "Ric.tensor()"
   ]
  },
  {
   "cell_type": "code",
   "execution_count": null,
   "id": "f7bf9656",
   "metadata": {},
   "outputs": [],
   "source": [
    "# einst = EinsteinTensor.from_metric(metric)\n",
    "# einst.tensor()"
   ]
  },
  {
   "cell_type": "code",
   "execution_count": null,
   "id": "7d21ceb1",
   "metadata": {},
   "outputs": [],
   "source": [
    "# R = RicciScalar.from_riccitensor(Ric)\n",
    "# R.simplify()\n",
    "# R.expr"
   ]
  },
  {
   "cell_type": "code",
   "execution_count": null,
   "id": "88fe6d29",
   "metadata": {},
   "outputs": [],
   "source": [
    "# rm1 = RiemannCurvatureTensor.from_christoffels(ch)\n",
    "# rm1.tensor()"
   ]
  },
  {
   "cell_type": "code",
   "execution_count": null,
   "id": "cf305291",
   "metadata": {},
   "outputs": [],
   "source": [
    "# weyl = WeylTensor.from_metric(metric)\n",
    "# weyl.tensor()"
   ]
  },
  {
   "cell_type": "code",
   "execution_count": null,
   "id": "310e2259",
   "metadata": {},
   "outputs": [],
   "source": [
    "simplify(einst.tensor())[0,0]"
   ]
  },
  {
   "cell_type": "code",
   "execution_count": null,
   "id": "e2661517",
   "metadata": {},
   "outputs": [],
   "source": []
  }
 ],
 "metadata": {
  "@webio": {
   "lastCommId": "255a0f971a0a477ea40e5d3c88c20275",
   "lastKernelId": "48435754-d07b-41c1-aa23-de344262762d"
  },
  "kernelspec": {
   "display_name": "Python 3 (ipykernel)",
   "language": "python",
   "name": "python3"
  },
  "language_info": {
   "codemirror_mode": {
    "name": "ipython",
    "version": 3
   },
   "file_extension": ".py",
   "mimetype": "text/x-python",
   "name": "python",
   "nbconvert_exporter": "python",
   "pygments_lexer": "ipython3",
   "version": "3.8.8"
  }
 },
 "nbformat": 4,
 "nbformat_minor": 5
}
